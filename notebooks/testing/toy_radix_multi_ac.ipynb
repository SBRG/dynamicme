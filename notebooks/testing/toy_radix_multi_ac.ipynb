{
 "cells": [
  {
   "cell_type": "markdown",
   "metadata": {
    "deletable": true,
    "editable": true
   },
   "source": [
    "# Toy example for Radix-based for multiple conditions"
   ]
  },
  {
   "cell_type": "code",
   "execution_count": 1,
   "metadata": {
    "collapsed": true,
    "deletable": true,
    "editable": true
   },
   "outputs": [],
   "source": [
    "SCALE_CROWDING=False\n",
    "PREVENT_ZERO = True"
   ]
  },
  {
   "cell_type": "code",
   "execution_count": 2,
   "metadata": {
    "collapsed": false,
    "deletable": true,
    "editable": true
   },
   "outputs": [],
   "source": [
    "%load_ext line_profiler"
   ]
  },
  {
   "cell_type": "code",
   "execution_count": 3,
   "metadata": {
    "collapsed": false,
    "deletable": true,
    "editable": true
   },
   "outputs": [
    {
     "name": "stdout",
     "output_type": "stream",
     "text": [
      "(<type 'exceptions.ImportError'>, ImportError('No module named cplex',), <traceback object at 0x7f2c7402bef0>)\n"
     ]
    }
   ],
   "source": [
    "from gurobipy import *\n",
    "\n",
    "import seaborn as sns\n",
    "import pandas as pd\n",
    "import matplotlib.pyplot as plt\n",
    "import numpy as np\n",
    "\n",
    "plt.rcParams['svg.fonttype'] = 'none'\n",
    "pd.set_option('display.max_colwidth', -1)\n",
    "%matplotlib inline\n",
    "\n",
    "from dynamicme.decomposition import Decomposer\n",
    "from dynamicme.callback_gurobi import cb_benders\n",
    "from dynamicme.optimize import Optimizer, StackOptimizer\n",
    "from dynamicme.optimize import Constraint, Variable\n",
    "\n",
    "from cobra.io import load_json_model\n",
    "from cobra import Metabolite, Reaction\n",
    "from six import iteritems\n",
    "\n",
    "import numpy as np\n",
    "import cobra"
   ]
  },
  {
   "cell_type": "markdown",
   "metadata": {
    "deletable": true,
    "editable": true
   },
   "source": [
    "### Try optimizing using radix for one condition first"
   ]
  },
  {
   "cell_type": "code",
   "execution_count": 4,
   "metadata": {
    "collapsed": true,
    "deletable": true,
    "editable": true
   },
   "outputs": [],
   "source": [
    "#----------------------------------------\n",
    "# Starting from basal model\n",
    "ijomc = load_json_model('/home/laurence/ME/models/BiGG_M/json/e_coli_core.json')\n",
    "mdl_ref = ijomc\n",
    "keff0 = 1./65/3600\n",
    "#crowding_bound = 0.0003\n",
    "crowding_bound0 = 0.001\n",
    "crowding_bound = crowding_bound0\n",
    "\n",
    "not_crowded = ['ATPM']\n",
    "rxns_c = [r for r in ijomc.reactions if all([m.compartment=='c' for m in r.metabolites.keys()]) and 'BIOMASS' not in r.id and r.id not in not_crowded]\n",
    "crowding_dict = {rxn:keff0 for rxn in rxns_c}\n",
    "#----------------------------------------\n",
    "\n",
    "# Temporarily add crowding constraint for the duality gap constraint\n",
    "crowding = Constraint('crowding')\n",
    "crowding._bound = crowding_bound\n",
    "crowding._constraint_sense = 'L'\n",
    "for rxn,keff in iteritems(crowding_dict):\n",
    "    rxn.add_metabolites({crowding:keff})"
   ]
  },
  {
   "cell_type": "code",
   "execution_count": 5,
   "metadata": {
    "collapsed": false,
    "deletable": true,
    "editable": true
   },
   "outputs": [
    {
     "name": "stdout",
     "output_type": "stream",
     "text": [
      "0.873921506968\n"
     ]
    }
   ],
   "source": [
    "ijomc.optimize()\n",
    "mu_crowd0 = ijomc.reactions.BIOMASS_Ecoli_core_w_GAM.x\n",
    "print(mu_crowd0)"
   ]
  },
  {
   "cell_type": "code",
   "execution_count": 6,
   "metadata": {
    "collapsed": true,
    "deletable": true,
    "editable": true
   },
   "outputs": [],
   "source": [
    "#N_CONDS = 2\n",
    "\n",
    "df_meas = pd.read_csv('/home/laurence/ME/data/dynamicME/beg/growth_meas.csv')\n",
    "ex_rxns = [r for r in df_meas.ex_rxn.unique() if mdl_ref.reactions.has_id(r)]\n",
    "df_meas = df_meas[ df_meas.ex_rxn.isin(ex_rxns)]\n",
    "conds = df_meas.substrate.unique()\n",
    "df_conds = pd.DataFrame([{'cond':r['substrate'], 'rxn':ex_rxn, 'lb':-10 if r['ex_rxn']==ex_rxn else 0, 'ub':1000., 'obj':0.} for i,r in df_meas.iterrows() for ex_rxn in ex_rxns])\n",
    "#df_conds = df_conds[ df_conds.cond.isin(conds[0:N_CONDS])]\n",
    "df_conds = df_conds[ df_conds.cond.isin(['glucose','acetate'])]"
   ]
  },
  {
   "cell_type": "markdown",
   "metadata": {},
   "source": [
    "## Need to allow higher growth for acetate with higher uptake rate"
   ]
  },
  {
   "cell_type": "code",
   "execution_count": 7,
   "metadata": {
    "collapsed": false
   },
   "outputs": [],
   "source": [
    "df_conds.loc[ df_conds.lb <= -10, 'lb'] = -20"
   ]
  },
  {
   "cell_type": "code",
   "execution_count": 8,
   "metadata": {
    "collapsed": false
   },
   "outputs": [
    {
     "data": {
      "text/html": [
       "<div>\n",
       "<style scoped>\n",
       "    .dataframe tbody tr th:only-of-type {\n",
       "        vertical-align: middle;\n",
       "    }\n",
       "\n",
       "    .dataframe tbody tr th {\n",
       "        vertical-align: top;\n",
       "    }\n",
       "\n",
       "    .dataframe thead th {\n",
       "        text-align: right;\n",
       "    }\n",
       "</style>\n",
       "<table border=\"1\" class=\"dataframe\">\n",
       "  <thead>\n",
       "    <tr style=\"text-align: right;\">\n",
       "      <th></th>\n",
       "      <th>cond</th>\n",
       "      <th>lb</th>\n",
       "      <th>obj</th>\n",
       "      <th>rxn</th>\n",
       "      <th>ub</th>\n",
       "    </tr>\n",
       "  </thead>\n",
       "  <tbody>\n",
       "    <tr>\n",
       "      <th>0</th>\n",
       "      <td>glucose</td>\n",
       "      <td>-20</td>\n",
       "      <td>0.0</td>\n",
       "      <td>EX_glc__D_e</td>\n",
       "      <td>1000.0</td>\n",
       "    </tr>\n",
       "    <tr>\n",
       "      <th>1</th>\n",
       "      <td>glucose</td>\n",
       "      <td>0</td>\n",
       "      <td>0.0</td>\n",
       "      <td>EX_fru_e</td>\n",
       "      <td>1000.0</td>\n",
       "    </tr>\n",
       "    <tr>\n",
       "      <th>2</th>\n",
       "      <td>glucose</td>\n",
       "      <td>0</td>\n",
       "      <td>0.0</td>\n",
       "      <td>EX_succ_e</td>\n",
       "      <td>1000.0</td>\n",
       "    </tr>\n",
       "    <tr>\n",
       "      <th>3</th>\n",
       "      <td>glucose</td>\n",
       "      <td>0</td>\n",
       "      <td>0.0</td>\n",
       "      <td>EX_mal__L_e</td>\n",
       "      <td>1000.0</td>\n",
       "    </tr>\n",
       "    <tr>\n",
       "      <th>4</th>\n",
       "      <td>glucose</td>\n",
       "      <td>0</td>\n",
       "      <td>0.0</td>\n",
       "      <td>EX_ac_e</td>\n",
       "      <td>1000.0</td>\n",
       "    </tr>\n",
       "    <tr>\n",
       "      <th>20</th>\n",
       "      <td>acetate</td>\n",
       "      <td>0</td>\n",
       "      <td>0.0</td>\n",
       "      <td>EX_glc__D_e</td>\n",
       "      <td>1000.0</td>\n",
       "    </tr>\n",
       "    <tr>\n",
       "      <th>21</th>\n",
       "      <td>acetate</td>\n",
       "      <td>0</td>\n",
       "      <td>0.0</td>\n",
       "      <td>EX_fru_e</td>\n",
       "      <td>1000.0</td>\n",
       "    </tr>\n",
       "    <tr>\n",
       "      <th>22</th>\n",
       "      <td>acetate</td>\n",
       "      <td>0</td>\n",
       "      <td>0.0</td>\n",
       "      <td>EX_succ_e</td>\n",
       "      <td>1000.0</td>\n",
       "    </tr>\n",
       "    <tr>\n",
       "      <th>23</th>\n",
       "      <td>acetate</td>\n",
       "      <td>0</td>\n",
       "      <td>0.0</td>\n",
       "      <td>EX_mal__L_e</td>\n",
       "      <td>1000.0</td>\n",
       "    </tr>\n",
       "    <tr>\n",
       "      <th>24</th>\n",
       "      <td>acetate</td>\n",
       "      <td>-20</td>\n",
       "      <td>0.0</td>\n",
       "      <td>EX_ac_e</td>\n",
       "      <td>1000.0</td>\n",
       "    </tr>\n",
       "  </tbody>\n",
       "</table>\n",
       "</div>"
      ],
      "text/plain": [
       "       cond  lb  obj          rxn      ub\n",
       "0   glucose -20  0.0  EX_glc__D_e  1000.0\n",
       "1   glucose  0   0.0  EX_fru_e     1000.0\n",
       "2   glucose  0   0.0  EX_succ_e    1000.0\n",
       "3   glucose  0   0.0  EX_mal__L_e  1000.0\n",
       "4   glucose  0   0.0  EX_ac_e      1000.0\n",
       "20  acetate  0   0.0  EX_glc__D_e  1000.0\n",
       "21  acetate  0   0.0  EX_fru_e     1000.0\n",
       "22  acetate  0   0.0  EX_succ_e    1000.0\n",
       "23  acetate  0   0.0  EX_mal__L_e  1000.0\n",
       "24  acetate -20  0.0  EX_ac_e      1000.0"
      ]
     },
     "execution_count": 8,
     "metadata": {},
     "output_type": "execute_result"
    }
   ],
   "source": [
    "df_conds"
   ]
  },
  {
   "cell_type": "code",
   "execution_count": 9,
   "metadata": {
    "collapsed": false,
    "deletable": true,
    "editable": true
   },
   "outputs": [],
   "source": [
    "stacker = StackOptimizer()\n",
    "stacker.stack_models(ijomc, df_conds)"
   ]
  },
  {
   "cell_type": "code",
   "execution_count": 10,
   "metadata": {
    "collapsed": false,
    "deletable": true,
    "editable": true
   },
   "outputs": [
    {
     "data": {
      "text/plain": [
       "<Solution 2.18 at 0x7f2c13dc3d50>"
      ]
     },
     "execution_count": 10,
     "metadata": {},
     "output_type": "execute_result"
    }
   ],
   "source": [
    "stacker.model.optimize(solver='gurobi')"
   ]
  },
  {
   "cell_type": "code",
   "execution_count": 11,
   "metadata": {
    "collapsed": false,
    "deletable": true,
    "editable": true
   },
   "outputs": [
    {
     "name": "stdout",
     "output_type": "stream",
     "text": [
      "1.79056897072\n",
      "-20.0\n",
      "0.0\n"
     ]
    }
   ],
   "source": [
    "stacker.model_dict['glucose'].optimize()\n",
    "print stacker.model_dict['glucose'].reactions.query('BIOMASS')[0].x\n",
    "print stacker.model_dict['glucose'].reactions.query('EX_glc')[0].x\n",
    "print stacker.model_dict['glucose'].reactions.query('EX_fru')[0].x"
   ]
  },
  {
   "cell_type": "code",
   "execution_count": 12,
   "metadata": {
    "collapsed": false,
    "deletable": true,
    "editable": true
   },
   "outputs": [
    {
     "name": "stdout",
     "output_type": "stream",
     "text": [
      "0.38931307408\n",
      "0.0\n",
      "-20.0\n"
     ]
    }
   ],
   "source": [
    "stacker.model_dict['acetate'].optimize()\n",
    "print stacker.model_dict['acetate'].reactions.query('BIOMASS')[0].x\n",
    "print stacker.model_dict['acetate'].reactions.query('EX_glc')[0].x\n",
    "print stacker.model_dict['acetate'].reactions.query('EX_ac')[0].x"
   ]
  },
  {
   "cell_type": "code",
   "execution_count": 13,
   "metadata": {
    "collapsed": false,
    "deletable": true,
    "editable": true
   },
   "outputs": [],
   "source": [
    "for mdl_ind,mdl in iteritems(stacker.model_dict):\n",
    "    opt = Optimizer(mdl)\n",
    "    gapi = opt.add_duality_gap_constraint(INF=1e3, inplace=True, index=mdl_ind)"
   ]
  },
  {
   "cell_type": "code",
   "execution_count": 14,
   "metadata": {
    "collapsed": false,
    "deletable": true,
    "editable": true
   },
   "outputs": [
    {
     "data": {
      "text/plain": [
       "<Solution 4.36 at 0x7f2c13dc3dd0>"
      ]
     },
     "execution_count": 14,
     "metadata": {},
     "output_type": "execute_result"
    }
   ],
   "source": [
    "stacker.model.optimize(solver='gurobi')"
   ]
  },
  {
   "cell_type": "code",
   "execution_count": 15,
   "metadata": {
    "collapsed": false,
    "deletable": true,
    "editable": true
   },
   "outputs": [
    {
     "name": "stdout",
     "output_type": "stream",
     "text": [
      "('Radix:', 2.0)\n",
      "('Powers:', array([-3, -2, -1,  0,  1,  2,  3]))\n",
      "('Digits:', [1.0])\n"
     ]
    },
    {
     "name": "stderr",
     "output_type": "stream",
     "text": [
      "/usr/lib/python2.7/site-packages/ipykernel/__main__.py:9 \u001b[1;31mDeprecationWarning\u001b[0m: object of type <type 'float'> cannot be safely interpreted as an integer.\n"
     ]
    }
   ],
   "source": [
    "import numpy as np\n",
    "\n",
    "radix = 2.\n",
    "print('Radix:',radix)\n",
    "powers = np.arange(-3,4)\n",
    "print('Powers:', powers)\n",
    "digits_per_power = radix\n",
    "pwr_max = max(powers)\n",
    "digits = list(set(np.linspace(1, radix-1, digits_per_power)))\n",
    "print('Digits:', digits)\n",
    "\n",
    "# Discretize crowding coefficients into radix\n",
    "#crowding_p = gap.metabolites.crowding\n",
    "#crowding_cons = stacker.model.metabolites.query('crowding')\n",
    "\n",
    "var_cons_dict = {}\n",
    "# Get the group ID from reference model\n",
    "mdl_ref = ijomc\n",
    "crowding_ref = mdl_ref.metabolites.crowding\n",
    "for rxn_ref in crowding_ref.reactions:    \n",
    "    for mdl_ind, mdl in iteritems(stacker.model_dict):\n",
    "        crowding_p = mdl.metabolites.get_by_id('crowding_%s'%mdl_ind)\n",
    "        var_d = mdl.reactions.get_by_id('wa_%s'%crowding_p.id)\n",
    "        rxn_p = mdl.reactions.get_by_id(rxn_ref.id+'_%s'%mdl_ind)\n",
    "        # Get the coefficient in the dual\n",
    "        cons_ds = [m for m in var_d.metabolites.keys() if rxn_p.id==m.id]        \n",
    "        a0 = rxn_p.metabolites[crowding_p]\n",
    "        if var_cons_dict.has_key(rxn_ref.id):\n",
    "            var_cons_dict[rxn_ref.id] += [(rxn_p, crowding_p, a0)] + [(var_d, cons_d, a0) for cons_d in cons_ds]\n",
    "        else:\n",
    "            var_cons_dict[rxn_ref.id] = [(rxn_p, crowding_p, a0)] + [(var_d, cons_d, a0) for cons_d in cons_ds]"
   ]
  },
  {
   "cell_type": "code",
   "execution_count": 16,
   "metadata": {
    "collapsed": false,
    "deletable": true,
    "editable": true
   },
   "outputs": [],
   "source": [
    "# %lprun -f opt.to_radix opt.to_radix(gap, var_cons_dict, radix, powers, digits_per_power, prevent_zero=True)"
   ]
  },
  {
   "cell_type": "code",
   "execution_count": 17,
   "metadata": {
    "collapsed": false,
    "deletable": true,
    "editable": true
   },
   "outputs": [
    {
     "name": "stdout",
     "output_type": "stream",
     "text": [
      "CPU times: user 133 ms, sys: 11.7 ms, total: 144 ms\n",
      "Wall time: 127 ms\n"
     ]
    },
    {
     "data": {
      "text/plain": [
       "[1.0]"
      ]
     },
     "execution_count": 17,
     "metadata": {},
     "output_type": "execute_result"
    }
   ],
   "source": [
    "%time opt.to_radix(stacker.model, var_cons_dict, radix, powers, digits=digits, prevent_zero=PREVENT_ZERO)"
   ]
  },
  {
   "cell_type": "markdown",
   "metadata": {
    "deletable": true,
    "editable": true
   },
   "source": [
    "### Try scaling\n",
    "if SCALE_CROWDING:\n",
    "    crowding = stacker.model.metabolites.crowding\n",
    "    bound0  = crowding._bound\n",
    "    f_scale = crowding._bound\n",
    "    crowding._bound = bound0 / f_scale\n",
    "    for rxn in crowding.reactions:\n",
    "        rxn._metabolites[crowding] = rxn._metabolites[crowding]/f_scale"
   ]
  },
  {
   "cell_type": "code",
   "execution_count": 18,
   "metadata": {
    "collapsed": false
   },
   "outputs": [
    {
     "data": {
      "text/plain": [
       "<Variable binary_ACALD00 at 0x7f2c136f11d0>"
      ]
     },
     "execution_count": 18,
     "metadata": {},
     "output_type": "execute_result"
    }
   ],
   "source": [
    "stacker.model.reactions.binary_ACALD00"
   ]
  },
  {
   "cell_type": "code",
   "execution_count": 19,
   "metadata": {
    "collapsed": false,
    "deletable": true,
    "editable": true
   },
   "outputs": [],
   "source": [
    "for rxn in stacker.model.reactions:\n",
    "    rxn.objective_coefficient = 0.\n",
    "\n",
    "for group_id in var_cons_dict.keys():\n",
    "    for l,pwr in enumerate(powers):\n",
    "        for k,digit in enumerate(digits):\n",
    "            yid = 'binary_%s%s%s'%(group_id,k,l)\n",
    "            y   = stacker.model.reactions.get_by_id(yid)\n",
    "            ### PREFER pwr=0, digit=1\n",
    "            if pwr==0 and digit==1:\n",
    "                #print('Preferring a0')\n",
    "                y.objective_coefficient = 0.\n",
    "            else:\n",
    "                y.objective_coefficient = 1."
   ]
  },
  {
   "cell_type": "code",
   "execution_count": 20,
   "metadata": {
    "collapsed": false,
    "deletable": true,
    "editable": true
   },
   "outputs": [
    {
     "data": {
      "text/plain": [
       "array([1.  , 0.93, 0.86, 0.79, 0.72, 0.65, 0.58, 0.51, 0.44, 0.37, 0.3 ,\n",
       "       0.23, 0.16, 0.09, 0.02])"
      ]
     },
     "execution_count": 20,
     "metadata": {},
     "output_type": "execute_result"
    }
   ],
   "source": [
    "from cobra.solvers import gurobi_solver\n",
    "from gurobipy import *\n",
    "\n",
    "F_TOL_FINAL = 0.02\n",
    "F_TOL_START = 1.\n",
    "N_FS =15\n",
    "F_TOLS = np.linspace(F_TOL_START, F_TOL_FINAL, N_FS)\n",
    "F_TOLS"
   ]
  },
  {
   "cell_type": "markdown",
   "metadata": {
    "deletable": true,
    "editable": true
   },
   "source": [
    "### TOOD: bisection on F_TOL instead of linear"
   ]
  },
  {
   "cell_type": "code",
   "execution_count": 36,
   "metadata": {
    "collapsed": false,
    "deletable": true,
    "editable": true
   },
   "outputs": [
    {
     "name": "stdout",
     "output_type": "stream",
     "text": [
      "Condition=acetate. Initial mu_crowd=nan. Fitting within 2% of measured: 0.25088 <= mu <= 0.26112\n",
      "Condition=glucose. Initial mu_crowd=nan. Fitting within 2% of measured: 0.7252 <= mu <= 0.7548\n",
      "Changed value of parameter OutputFlag to 1\n",
      "   Prev: 0  Min: 0  Max: 1  Default: 1\n",
      "Changed value of parameter NodefileStart to 3.0\n",
      "   Prev: 1e+100  Min: 0.0  Max: 1e+100  Default: 1e+100\n",
      "Changed value of parameter TimeLimit to 7200.0\n",
      "   Prev: 1e+100  Min: 0.0  Max: 1e+100  Default: 1e+100\n",
      "Optimize a model with 6098 rows, 2396 columns and 16584 nonzeros\n",
      "Variable types: 2060 continuous, 336 integer (0 binary)\n",
      "Coefficient statistics:\n",
      "  Matrix range     [5e-07, 1e+03]\n",
      "  Objective range  [1e+00, 1e+00]\n",
      "  Bounds range     [3e-01, 1e+03]\n",
      "  RHS range        [1e-03, 1e+03]\n",
      "Presolve removed 1529 rows and 260 columns\n",
      "Presolve time: 0.03s\n",
      "Presolved: 4569 rows, 2136 columns, 13421 nonzeros\n",
      "Variable types: 1800 continuous, 336 integer (336 binary)\n",
      "\n",
      "Root relaxation: objective 1.431759e+00, 2587 iterations, 0.09 seconds\n",
      "\n",
      "    Nodes    |    Current Node    |     Objective Bounds      |     Work\n",
      " Expl Unexpl |  Obj  Depth IntInf | Incumbent    BestBd   Gap | It/Node Time\n",
      "\n",
      "     0     0    1.43176    0   13          -    1.43176      -     -    0s\n",
      "     0     0    1.43176    0   13          -    1.43176      -     -    0s\n",
      "     0     0    1.76947    0   13          -    1.76947      -     -    0s\n",
      "     0     2    1.76947    0   13          -    1.76947      -     -    0s\n",
      "* 3213  1892             149      22.0000000    2.31912  89.5%   7.6    2s\n",
      "H 3838   760                       7.0000000    2.40037  65.7%   7.8    2s\n",
      "H 4262   516                       5.0000000    2.58653  48.3%   8.2    3s\n",
      "* 4786   111              39       4.0000000    2.73055  31.7%   8.2    3s\n",
      "\n",
      "Cutting planes:\n",
      "  Implied bound: 2\n",
      "  MIR: 3\n",
      "\n",
      "Explored 4942 nodes (53954 simplex iterations) in 3.44 seconds\n",
      "Thread count was 8 (of 8 available processors)\n",
      "\n",
      "Solution count 4: 4 5 7 22 \n",
      "\n",
      "Optimal solution found (tolerance 1.00e-04)\n",
      "Best objective 4.000000000000e+00, best bound 4.000000000000e+00, gap 0.0000%\n",
      "########################################\n",
      "Setting MIP warm-start values.\n",
      "CPU times: user 20.5 s, sys: 561 ms, total: 21 s\n",
      "Wall time: 3.53 s\n"
     ]
    }
   ],
   "source": [
    "%%time\n",
    "\n",
    "import time\n",
    "\n",
    "mu_id = 'BIOMASS_Ecoli_core_w_GAM'\n",
    "toc = 0.\n",
    "sol_dict = {}\n",
    "# for ind, F_TOL in enumerate(F_TOLS):\n",
    "ind = 0\n",
    "F_TOL = F_TOL_FINAL\n",
    "for mdl_ind,mdl in iteritems(stacker.model_dict):\n",
    "    mu_meas = df_meas[ df_meas.substrate==mdl_ind].growth_rate_1_h.iloc[0]\n",
    "    rxn_mu = mdl.reactions.get_by_id(mu_id+'_%s'%mdl_ind)    \n",
    "    rxn_mu.lower_bound = mu_meas*(1-F_TOL)\n",
    "    rxn_mu.upper_bound = mu_meas*(1+F_TOL)\n",
    "    mu_crowd0 = np.nan\n",
    "    print('Condition=%s. Initial mu_crowd=%g. Fitting within %g%% of measured: %g <= mu <= %g' % (mdl_ind, mu_crowd0, 100*F_TOL, rxn_mu.lower_bound, rxn_mu.upper_bound))\n",
    "\n",
    "milp = gurobi_solver.create_problem(stacker.model)\n",
    "milp.ModelSense = GRB.MINIMIZE\n",
    "milp.Params.IntFeasTol = 1e-9\n",
    "milp.Params.OutputFlag = 1\n",
    "# milp.Params.FeasibilityTol = 1e-9\n",
    "# milp.Params.OptimalityTol = 1e-9\n",
    "milp.Params.NodefileStart = 3   # Start writing nodes to disk if x GB RAM exceeded (for each thread)\n",
    "milp.Params.TimeLimit = 2*3600  # Time limit in seconds    \n",
    "tic = time.time()\n",
    "milp.optimize()\n",
    "toc = time.time()-tic\n",
    "\n",
    "# If feasible solution found, use it as MILP start\n",
    "if milp.SolCount > 0:\n",
    "    print('#'*40)\n",
    "    print('Setting MIP warm-start values.')\n",
    "    for v in milp.getVars():\n",
    "        v.Start = v.X\n",
    "    sol_dict[ind] = {'x_dict':{v.VarName:v.X for v in milp.getVars()}, 'F_TOL':F_TOL, 'time':toc}"
   ]
  },
  {
   "cell_type": "code",
   "execution_count": 37,
   "metadata": {
    "collapsed": false,
    "deletable": true,
    "editable": true
   },
   "outputs": [
    {
     "data": {
      "text/plain": [
       "[(0, 0.02, 3.4446980953216553)]"
      ]
     },
     "execution_count": 37,
     "metadata": {},
     "output_type": "execute_result"
    }
   ],
   "source": [
    "[(k, s['F_TOL'], s['time']) for k,s in iteritems(sol_dict)]"
   ]
  },
  {
   "cell_type": "code",
   "execution_count": 38,
   "metadata": {
    "collapsed": false,
    "deletable": true,
    "editable": true
   },
   "outputs": [
    {
     "data": {
      "text/plain": [
       "0"
      ]
     },
     "execution_count": 38,
     "metadata": {},
     "output_type": "execute_result"
    }
   ],
   "source": [
    "best_ind = len(sol_dict)-1\n",
    "best_ind"
   ]
  },
  {
   "cell_type": "code",
   "execution_count": 39,
   "metadata": {
    "collapsed": false,
    "deletable": true,
    "editable": true
   },
   "outputs": [],
   "source": [
    "x_dict = {r.id:sol_dict[best_ind]['x_dict'][str(i)] for i,r in enumerate(stacker.model.reactions)}\n",
    "F_TOL = sol_dict[best_ind]['F_TOL']"
   ]
  },
  {
   "cell_type": "code",
   "execution_count": 40,
   "metadata": {
    "collapsed": false,
    "deletable": true,
    "editable": true
   },
   "outputs": [
    {
     "name": "stdout",
     "output_type": "stream",
     "text": [
      "Number of non-zero binaries: 52\n",
      "acetate: Initial mu_crowd=nan. Fitted within 2%: 0.25088 <= 0.257677 <= 0.26112\n",
      "glucose: Initial mu_crowd=nan. Fitted within 2%: 0.7252 <= 0.751797 <= 0.7548\n"
     ]
    }
   ],
   "source": [
    "#sol = gurobi_solver.format_solution(milp, stacker.model)\n",
    "#yopt = [sol.x_dict[rxn.id] for rxn in stacker.model.reactions.query('binary_')]\n",
    "yopt = [x_dict[rxn.id] for rxn in stacker.model.reactions.query('binary_')]\n",
    "print('Number of non-zero binaries: %g' % sum(yopt))\n",
    "for mdl_ind,mdl in iteritems(stacker.model_dict):\n",
    "    dfi = df_meas[ df_meas.substrate==mdl_ind]\n",
    "    mu_measi = dfi.growth_rate_1_h.iloc[0]\n",
    "    rxn_mu = stacker.model.reactions.get_by_id(mu_id+'_%s'%mdl_ind)\n",
    "    muopt = x_dict[rxn_mu.id]\n",
    "    muL = mu_measi*(1-F_TOL)\n",
    "    muU = mu_measi*(1+F_TOL)\n",
    "    print('%s: Initial mu_crowd=%g. Fitted within %g%%: %g <= %g <= %g' % (mdl_ind, mu_crowd0, 100*F_TOL, muL, muopt, muU))"
   ]
  },
  {
   "cell_type": "code",
   "execution_count": 41,
   "metadata": {
    "collapsed": false,
    "deletable": true,
    "editable": true,
    "scrolled": true
   },
   "outputs": [
    {
     "name": "stdout",
     "output_type": "stream",
     "text": [
      "binary_G6PDH2r03. Value=1.0. Power=0. Digit=1\n",
      "binary_AKGDH03. Value=1.0. Power=0. Digit=1\n",
      "binary_ACKr03. Value=1.0. Power=0. Digit=1\n",
      "binary_MALS03. Value=1.0. Power=0. Digit=1\n",
      "binary_GLUN03. Value=1.0. Power=0. Digit=1\n",
      "binary_ME103. Value=1.0. Power=0. Digit=1\n",
      "binary_GND03. Value=1.0. Power=0. Digit=1\n",
      "binary_GND05. Value=1.0. Power=2. Digit=1\n",
      "binary_ME203. Value=1.0. Power=0. Digit=1\n",
      "binary_GLNS03. Value=1.0. Power=0. Digit=1\n",
      "binary_FUM03. Value=1.0. Power=0. Digit=1\n",
      "binary_SUCDi03. Value=1.0. Power=0. Digit=1\n",
      "binary_PPC03. Value=1.0. Power=0. Digit=1\n",
      "binary_MDH03. Value=1.0. Power=0. Digit=1\n",
      "binary_GLUDy03. Value=1.0. Power=0. Digit=1\n",
      "binary_GLUSy03. Value=1.0. Power=0. Digit=1\n",
      "binary_PGL03. Value=1.0. Power=0. Digit=1\n",
      "binary_PGM03. Value=1.0. Power=0. Digit=1\n",
      "binary_ACALD03. Value=1.0. Power=0. Digit=1\n",
      "binary_PGK03. Value=1.0. Power=0. Digit=1\n",
      "binary_PGI03. Value=1.0. Power=0. Digit=1\n",
      "binary_PPS03. Value=1.0. Power=0. Digit=1\n",
      "binary_PTAr03. Value=1.0. Power=0. Digit=1\n",
      "binary_RPE03. Value=1.0. Power=0. Digit=1\n",
      "binary_ALCD2x03. Value=1.0. Power=0. Digit=1\n",
      "binary_SUCOAS03. Value=1.0. Power=0. Digit=1\n",
      "binary_TALA03. Value=1.0. Power=0. Digit=1\n",
      "binary_PPCK03. Value=1.0. Power=0. Digit=1\n",
      "binary_NADTRHD03. Value=1.0. Power=0. Digit=1\n",
      "binary_ICDHyr03. Value=1.0. Power=0. Digit=1\n",
      "binary_GAPD03. Value=1.0. Power=0. Digit=1\n",
      "binary_ICL03. Value=1.0. Power=0. Digit=1\n",
      "binary_TPI03. Value=1.0. Power=0. Digit=1\n",
      "binary_ENO03. Value=1.0. Power=0. Digit=1\n",
      "binary_ENO06. Value=1.0. Power=3. Digit=1\n",
      "binary_ACONTa03. Value=1.0. Power=0. Digit=1\n",
      "binary_ACONTa06. Value=1.0. Power=3. Digit=1\n",
      "binary_RPI03. Value=1.0. Power=0. Digit=1\n",
      "binary_ACONTb03. Value=1.0. Power=0. Digit=1\n",
      "binary_ADK103. Value=1.0. Power=0. Digit=1\n",
      "binary_PDH03. Value=1.0. Power=0. Digit=1\n",
      "binary_CS03. Value=1.0. Power=0. Digit=1\n",
      "binary_CS06. Value=1.0. Power=3. Digit=1\n",
      "binary_FBP03. Value=1.0. Power=0. Digit=1\n",
      "binary_TKT203. Value=1.0. Power=0. Digit=1\n",
      "binary_TKT103. Value=1.0. Power=0. Digit=1\n",
      "binary_PFK03. Value=1.0. Power=0. Digit=1\n",
      "binary_PFL03. Value=1.0. Power=0. Digit=1\n",
      "binary_FBA03. Value=1.0. Power=0. Digit=1\n",
      "binary_PYK03. Value=1.0. Power=0. Digit=1\n",
      "binary_LDH_D03. Value=1.0. Power=0. Digit=1\n",
      "binary_FRD703. Value=1.0. Power=0. Digit=1\n"
     ]
    }
   ],
   "source": [
    "# Fitted parameters\n",
    "kfit_dict = {}\n",
    "for group_id, var_dict in iteritems(var_cons_dict):\n",
    "    var = var_dict[0]\n",
    "    cons = var_dict[1]\n",
    "    a0  = var_dict[0][2]\n",
    "    kfit = 0.\n",
    "    for l,pwr in enumerate(powers):\n",
    "        for k,digit in enumerate(digits):            \n",
    "            yid = 'binary_%s%s%s' % (group_id,k,l)\n",
    "            y   = x_dict[yid]            \n",
    "            if abs(y)>1e-10:\n",
    "                print('%s. Value=%s. Power=%g. Digit=%g' % (yid, y, pwr, digit))\n",
    "#                 print yid, y\n",
    "#             if abs(y)<1e-10:\n",
    "#                 print yid, y\n",
    "                pass\n",
    "            kfit += y*a0*radix**pwr*digit\n",
    "    kfit_dict[group_id] = kfit"
   ]
  },
  {
   "cell_type": "code",
   "execution_count": 42,
   "metadata": {
    "collapsed": false,
    "deletable": true,
    "editable": true
   },
   "outputs": [
    {
     "name": "stdout",
     "output_type": "stream",
     "text": [
      "Changed keffs: 4/48\n"
     ]
    },
    {
     "data": {
      "text/plain": [
       "[(u'GND', 2.1367521367521368e-05, 4.0),\n",
       " (u'ENO', 3.846153846153846e-05, 8.0),\n",
       " (u'ACONTa', 3.846153846153846e-05, 8.0),\n",
       " (u'CS', 3.846153846153846e-05, 8.0)]"
      ]
     },
     "execution_count": 42,
     "metadata": {},
     "output_type": "execute_result"
    }
   ],
   "source": [
    "kfit_changed = [(k,v, abs(v-a0)/a0) for k,v in iteritems(kfit_dict) if abs(v-a0)/a0>1e-6]\n",
    "print('Changed keffs: %d/%d' % (len(kfit_changed), len(var_cons_dict)))\n",
    "kfit_changed"
   ]
  },
  {
   "cell_type": "markdown",
   "metadata": {
    "deletable": true,
    "editable": true
   },
   "source": [
    "### Plug back in to be sure"
   ]
  },
  {
   "cell_type": "code",
   "execution_count": 43,
   "metadata": {
    "collapsed": false,
    "deletable": true,
    "editable": true
   },
   "outputs": [
    {
     "name": "stdout",
     "output_type": "stream",
     "text": [
      "Cond=glucose. mu_meas=0.74. mu_sim=0.751797 (unfit=1.79057). Error=1.59%\n",
      "\tEX_glc__D_e uptake=-20\n",
      "\tEX_fru_e uptake=0\n",
      "\tEX_succ_e uptake=0\n",
      "\tEX_mal__L_e uptake=0\n",
      "\tEX_ac_e uptake=0\n",
      "Cond=acetate. mu_meas=0.256. mu_sim=0.257677 (unfit=0.389313). Error=0.655%\n",
      "\tEX_glc__D_e uptake=0\n",
      "\tEX_fru_e uptake=0\n",
      "\tEX_succ_e uptake=0\n",
      "\tEX_mal__L_e uptake=0\n",
      "\tEX_ac_e uptake=-20\n"
     ]
    }
   ],
   "source": [
    "#----------------------------------------\n",
    "# Starting from basal model\n",
    "csrcs = df_conds.cond.unique()\n",
    "for csrc in csrcs:\n",
    "    ijofit = load_json_model('/home/laurence/ME/models/BiGG_M/json/e_coli_core.json')    \n",
    "    crowding = Constraint('crowding')\n",
    "    crowding._bound = crowding_bound0\n",
    "    crowding._constraint_sense = 'L'\n",
    "    \n",
    "    df_condi = df_conds[ df_conds.cond==csrc]    \n",
    "    for i,row in df_condi.iterrows():\n",
    "        rid = row['rxn']\n",
    "        rxn = ijofit.reactions.get_by_id(rid)\n",
    "        rxn.lower_bound = row['lb']\n",
    "        rxn.upper_bound = row['ub']\n",
    "\n",
    "    for rid,kfit in iteritems(kfit_dict):\n",
    "        rxn = ijofit.reactions.get_by_id(rid)\n",
    "        rxn.add_metabolites({crowding:kfit})\n",
    "    \n",
    "    ijofit.optimize()\n",
    "    \n",
    "    mu_measi = df_meas[ df_meas.substrate==csrc].growth_rate_1_h.iloc[0]\n",
    "    mu_fiti = ijofit.reactions.BIOMASS_Ecoli_core_w_GAM.x\n",
    "    \n",
    "    # Get unfit\n",
    "    for rxn in ijofit.metabolites.crowding.reactions:\n",
    "        rxn._metabolites[crowding] = a0\n",
    "    ijofit.optimize()\n",
    "    mu_unfiti = ijofit.reactions.BIOMASS_Ecoli_core_w_GAM.x\n",
    "    \n",
    "    err = 100*(mu_fiti - mu_measi)/mu_measi\n",
    "    print('Cond=%s. mu_meas=%g. mu_sim=%g (unfit=%g). Error=%.3g%%' % (csrc, mu_measi, mu_fiti, mu_unfiti, err))\n",
    "    for i,row in df_condi.iterrows():\n",
    "        rid = row['rxn']\n",
    "        rxn = ijofit.reactions.get_by_id(rid)        \n",
    "        print('\\t%s uptake=%g' % (rxn.id, rxn.x))"
   ]
  },
  {
   "cell_type": "markdown",
   "metadata": {},
   "source": [
    "# Compare with benders (single-subproblem baseline version)"
   ]
  },
  {
   "cell_type": "code",
   "execution_count": 30,
   "metadata": {
    "collapsed": false
   },
   "outputs": [
    {
     "data": {
      "text/plain": [
       "0.25088"
      ]
     },
     "execution_count": 30,
     "metadata": {},
     "output_type": "execute_result"
    }
   ],
   "source": [
    "stacker.model.reactions.BIOMASS_Ecoli_core_w_GAM_acetate.lower_bound"
   ]
  },
  {
   "cell_type": "code",
   "execution_count": 31,
   "metadata": {
    "collapsed": false,
    "scrolled": true
   },
   "outputs": [
    {
     "name": "stdout",
     "output_type": "stream",
     "text": [
      "Changed value of parameter Presolve to 0\n",
      "   Prev: -1  Min: -1  Max: 2  Default: -1\n",
      "Changed value of parameter LazyConstraints to 1\n",
      "   Prev: 0  Min: 0  Max: 1  Default: 0\n",
      "Changed value of parameter IntFeasTol to 1e-09\n",
      "   Prev: 1e-05  Min: 1e-09  Max: 0.1  Default: 1e-05\n",
      "Changed value of parameter InfUnbdInfo to 1\n",
      "   Prev: 0  Min: 0  Max: 1  Default: 0\n",
      "Parameter presolve unchanged\n",
      "   Value: 0  Min: -1  Max: 2  Default: -1\n",
      "Changed value of parameter presolve to 0\n",
      "   Prev: -1  Min: -1  Max: 2  Default: -1\n",
      "Changed value of parameter FeasibilityTol to 1e-09\n",
      "   Prev: 1e-06  Min: 1e-09  Max: 0.01  Default: 1e-06\n",
      "Changed value of parameter OptimalityTol to 1e-09\n",
      "   Prev: 1e-06  Min: 1e-09  Max: 0.01  Default: 1e-06\n",
      "Changed value of parameter Method to 0\n",
      "   Prev: -1  Min: -1  Max: 5  Default: -1\n",
      "Changed value of parameter OutputFlag to 1\n",
      "   Prev: 0  Min: 0  Max: 1  Default: 1\n",
      "Optimize a model with 385 rows, 337 columns and 961 nonzeros\n",
      "Variable types: 1 continuous, 336 integer (0 binary)\n",
      "Coefficient statistics:\n",
      "  Matrix range     [1e+00, 1e+00]\n",
      "  Objective range  [1e+00, 1e+00]\n",
      "  Bounds range     [1e+00, 1e+03]\n",
      "  RHS range        [9e-01, 1e+00]\n",
      "Variable types: 1 continuous, 336 integer (336 binary)\n",
      "\n",
      "Root relaxation: objective 1.695823e-01, 61 iterations, 0.00 seconds\n",
      "\n",
      "    Nodes    |    Current Node    |     Objective Bounds      |     Work\n",
      " Expl Unexpl |  Obj  Depth IntInf | Incumbent    BestBd   Gap | It/Node Time\n",
      "\n",
      "     0     0    0.16958    0   30          -    0.16958      -     -    0s\n",
      "     0     0    1.38532    0   19          -    1.38532      -     -    0s\n",
      "     0     0    1.44283    0    8          -    1.44283      -     -    0s\n",
      "     0     0    1.50061    0    8          -    1.50061      -     -    0s\n",
      "     0     0    1.50061    0    8          -    1.50061      -     -    0s\n",
      "     0     0    1.50227    0    8          -    1.50227      -     -    0s\n",
      "     0     0    1.50462    0   11          -    1.50462      -     -    0s\n",
      "     0     0    1.52606    0   13          -    1.52606      -     -    0s\n",
      "     0     2    1.54790    0   10          -    1.54790      -     -    0s\n",
      "   167   168    2.54812   41    9          -    2.00000      -   4.5    5s\n",
      "   333   334    4.92100   74    4          -    2.00000      -   3.8   10s\n",
      "   568   560    5.97104  134    3          -    2.00000      -   3.0   17s\n",
      "   789   764   15.37021  174    2          -    2.03872      -   2.6   23s\n",
      "   904   852    3.25417   20   11          -    2.03872      -   2.5   26s\n",
      "  1069  1005    4.06657   43    5          -    2.03872      -   2.6   30s\n",
      "  1185  1113    3.31505   20   16          -    2.03872      -   2.5   35s\n",
      "  1254  1160    2.18696   17   14          -    2.18696      -   3.1   40s\n",
      "  1406  1254    4.99862   41    6          -    2.22133      -   3.6   45s\n",
      "  1570  1365    9.78185   66    4          -    2.22133      -   3.9   50s\n",
      "  1715  1458   17.41940   89    3          -    2.22133      -   4.0   55s\n",
      "H 1807  1177                       4.0000000    2.22133  44.5%   4.1   57s\n",
      "  1889  1163    2.99947   31   12    4.00000    2.25268  43.7%   4.2   60s\n",
      "  2077  1201    3.49269   29    7    4.00000    2.39529  40.1%   4.2   65s\n",
      "  2258  1265     cutoff   35         4.00000    2.44113  39.0%   4.2   70s\n",
      "  2470  1354    3.00000   27    2    4.00000    2.49948  37.5%   4.3   76s\n",
      "  2644  1384    2.57535   17   19    4.00000    2.53661  36.6%   4.3   81s\n",
      "  2788  1447    3.82728   54    9    4.00000    2.53785  36.6%   4.2   85s\n",
      "  2987  1506    3.00000   20    9    4.00000    2.54911  36.3%   4.2   90s\n",
      "  3145  1559    3.98770   32    9    4.00000    2.54911  36.3%   4.3   95s\n",
      "  3371  1625    3.56949   52   15    4.00000    2.54911  36.3%   4.5  101s\n",
      "  3523  1681    3.61997   62   13    4.00000    2.62928  34.3%   4.5  105s\n",
      "  3695  1736    2.91647   42   21    4.00000    2.64300  33.9%   4.5  110s\n",
      "  3875  1792     cutoff   88         4.00000    2.66628  33.3%   4.5  115s\n",
      "  4051  1863     cutoff   33         4.00000    2.67773  33.1%   4.4  120s\n",
      "  4272  1917    3.59345   62   10    4.00000    2.68689  32.8%   4.4  126s\n",
      "  4494  1998    3.90981   58   11    4.00000    2.71310  32.2%   4.4  132s\n",
      "  4615  2068    3.99674   57    7    4.00000    2.72348  31.9%   4.4  136s\n",
      "  4825  2190    3.60093   36   10    4.00000    2.72959  31.8%   4.4  141s\n",
      "  4950  2284    3.40486   45   15    4.00000    2.73351  31.7%   4.4  145s\n",
      "  5168  2436    3.36398   56   12    4.00000    2.75025  31.2%   4.4  151s\n",
      "  5307  2523    3.22700   55   10    4.00000    2.75348  31.2%   4.4  155s\n",
      "  5616  2694     cutoff   33         4.00000    2.77956  30.5%   4.3  166s\n",
      "  5852  2844     cutoff   47         4.00000    2.79501  30.1%   4.4  172s\n",
      "  6022  2939     cutoff   38         4.00000    2.79860  30.0%   4.4  177s\n",
      "  6178  3014    3.80689   48    9    4.00000    2.80787  29.8%   4.4  182s\n",
      "  6337  3090    3.66512   46    6    4.00000    2.82043  29.5%   4.4  186s\n",
      "  6526  3213    3.80405   53    6    4.00000    2.82710  29.3%   4.3  192s\n",
      "  6667  3284    3.79185   53    8    4.00000    2.84582  28.9%   4.4  197s\n",
      "  6810  3389     cutoff   42         4.00000    2.84616  28.8%   4.4  203s\n",
      "  6984  3514     cutoff   84         4.00000    2.85559  28.6%   4.4  210s\n",
      "  7245  3586    3.48260   57   14    4.00000    2.87353  28.2%   4.4  219s\n",
      "  7378  3658     cutoff   20         4.00000    2.87807  28.0%   4.4  225s\n",
      "  7657  3771    3.82855   99   13    4.00000    2.88590  27.9%   4.3  236s\n",
      "  7828  3825    3.76481   25    7    4.00000    2.90255  27.4%   4.3  243s\n",
      "  8023  3916     cutoff   31         4.00000    2.92102  27.0%   4.3  251s\n",
      "  8249  4052    3.88155   56    6    4.00000    2.92566  26.9%   4.3  260s\n",
      "  8514  4194    3.50907   48   14    4.00000    2.94030  26.5%   4.3  270s\n",
      "  8704  4275     cutoff   64         4.00000    2.94030  26.5%   4.3  277s\n",
      "  8876  4358    3.75105   71    8    4.00000    2.94739  26.3%   4.3  283s\n",
      "  8923  4376     cutoff   28         4.00000    2.95150  26.2%   4.3  285s\n",
      "  9078  4468    3.56366   31    7    4.00000    2.95852  26.0%   4.3  291s\n",
      "  9357  4570    3.56998   42   12    4.00000    2.96280  25.9%   4.3  301s\n",
      "  9605  4704    3.84780   30   10    4.00000    2.96709  25.8%   4.3  310s\n",
      "  9817  4802    3.42811   24   11    4.00000    2.98101  25.5%   4.3  319s\n",
      " 10009  4913    3.31186   45    4    4.00000    2.98101  25.5%   4.3  329s\n",
      " 10087  4959     cutoff   69         4.00000    2.98632  25.3%   4.3  333s\n",
      " 10219  5035    3.39839   31   16    4.00000    2.98779  25.3%   4.3  340s\n",
      " 10332  5068    3.90765   52    8    4.00000    2.99740  25.1%   4.3  346s\n",
      " 10591  5186    3.90485   46    3    4.00000    3.00000  25.0%   4.3  357s\n",
      " 10844  5296    3.69915   33    4    4.00000    3.00000  25.0%   4.3  367s\n",
      " 11188  5456     cutoff  106         4.00000    3.00000  25.0%   4.2  381s\n",
      " 11306  5484     cutoff   39         4.00000    3.00000  25.0%   4.2  386s\n",
      " 11545  5571    3.52376   35   18    4.00000    3.00000  25.0%   4.2  395s\n",
      " 11699  5623     cutoff   49         4.00000    3.00000  25.0%   4.2  402s\n",
      " 11966  5693    3.99834   48    4    4.00000    3.00000  25.0%   4.2  413s\n",
      " 12349  5826    3.64090   33    4    4.00000    3.00000  25.0%   4.2  433s\n",
      " 12787  6000    3.73908   40    4    4.00000    3.00000  25.0%   4.1  450s\n",
      " 13108  6060    3.62500   31    5    4.00000    3.00000  25.0%   4.1  463s\n",
      " 13524  6155    3.72933   44    4    4.00000    3.00000  25.0%   4.1  478s\n",
      " 13928  6282    3.02288   44    7    4.00000    3.00000  25.0%   4.1  494s\n",
      " 14293  6396    3.20842   38    4    4.00000    3.00000  25.0%   4.0  509s\n",
      " 14577  6497     cutoff   63         4.00000    3.00000  25.0%   4.0  520s\n",
      " 14811  6561    3.77974   90    9    4.00000    3.00000  25.0%   4.1  530s\n",
      " 15046  6672    3.67974   46   13    4.00000    3.01863  24.5%   4.1  542s\n",
      " 15260  6728    3.83946   32    7    4.00000    3.02366  24.4%   4.1  553s\n",
      " 15503  6836     cutoff   67         4.00000    3.03052  24.2%   4.1  563s\n",
      " 15706  6954    3.98121   58    4    4.00000    3.03578  24.1%   4.1  571s\n",
      " 15985  7017     cutoff   20         4.00000    3.04658  23.8%   4.1  582s\n",
      " 16244  7150    3.82943   47   11    4.00000    3.04719  23.8%   4.1  593s\n",
      " 16443  7253    3.91724   72   11    4.00000    3.05493  23.6%   4.1  601s\n",
      " 16665  7325    3.63032   67   10    4.00000    3.06049  23.5%   4.1  610s\n",
      " 16929  7368     cutoff   53         4.00000    3.06442  23.4%   4.1  621s\n",
      " 17078  7404    3.89846   29    6    4.00000    3.07057  23.2%   4.1  627s\n",
      " 17300  7482    3.70472   46    7    4.00000    3.08602  22.8%   4.1  636s\n",
      " 17533  7589     cutoff   28         4.00000    3.09134  22.7%   4.1  645s\n",
      " 17649  7647    3.86449   32   13    4.00000    3.09223  22.7%   4.1  650s\n",
      " 17830  7707    3.76399   50    3    4.00000    3.09498  22.6%   4.1  660s\n",
      " 17948  7791    3.11529   29   15    4.00000    3.09665  22.6%   4.1  667s\n",
      " 18053  7833    3.39139   46    9    4.00000    3.10466  22.4%   4.2  673s\n",
      " 18103  7866    3.95825   61   10    4.00000    3.10786  22.3%   4.2  675s\n",
      " 18303  7926     cutoff   47         4.00000    3.11151  22.2%   4.2  685s\n",
      " 18597  8032    3.95865   32   23    4.00000    3.12160  22.0%   4.2  700s\n",
      " 18802  8082    3.80705   31   14    4.00000    3.12702  21.8%   4.2  709s\n",
      " 19029  8129    3.97632   24   11    4.00000    3.13623  21.6%   4.2  718s\n",
      " 19335  8257    3.94836   57    2    4.00000    3.14138  21.5%   4.2  730s\n",
      " 19511  8339     cutoff   24         4.00000    3.14722  21.3%   4.2  736s\n",
      " 19697  8391     cutoff   55         4.00000    3.14910  21.3%   4.2  743s\n",
      " 19843  8415    3.56052   34   15    4.00000    3.15708  21.1%   4.2  750s\n",
      " 20078  8473    3.70143   36   14    4.00000    3.16530  20.9%   4.2  760s\n",
      " 20302  8527    3.51510   53   13    4.00000    3.16904  20.8%   4.2  770s\n",
      " 20451  8572    3.51392   40   11    4.00000    3.17103  20.7%   4.2  775s\n",
      " 20591  8601    3.86916   40    6    4.00000    3.17622  20.6%   4.2  780s\n",
      " 20803  8641     cutoff   26         4.00000    3.17925  20.5%   4.2  786s\n",
      " 21039  8711    3.79904   35    8    4.00000    3.18541  20.4%   4.2  793s\n",
      " 21263  8762     cutoff   41         4.00000    3.18931  20.3%   4.2  799s\n",
      " 21399  8809    3.99885   40    4    4.00000    3.18948  20.3%   4.2  802s\n",
      " 21532  8814     cutoff   26         4.00000    3.19215  20.2%   4.2  806s\n",
      " 21747  8826    3.92870   70    4    4.00000    3.19842  20.0%   4.2  812s\n",
      " 21868  8860    3.94852   61    8    4.00000    3.20033  20.0%   4.2  815s\n",
      " 22050  8896    3.78063   29   10    4.00000    3.20689  19.8%   4.2  820s\n",
      " 22241  8895    3.59742   42   11    4.00000    3.21184  19.7%   4.2  825s\n",
      " 22480  8937    3.61592   30    6    4.00000    3.21712  19.6%   4.2  831s\n",
      " 22717  8954     cutoff   52         4.00000    3.21988  19.5%   4.2  838s\n",
      " 22834  8969     cutoff   49         4.00000    3.22095  19.5%   4.2  840s\n",
      " 22967  8990     cutoff   28         4.00000    3.22712  19.3%   4.2  845s\n",
      " 23334  9051     cutoff   43         4.00000    3.23350  19.2%   4.2  855s\n",
      " 23542  9069    3.99837   48    8    4.00000    3.23761  19.1%   4.3  860s\n",
      " 23752  9122    3.75466   61    9    4.00000    3.24049  19.0%   4.3  866s\n",
      " 24018  9188     cutoff   41         4.00000    3.24729  18.8%   4.3  873s\n",
      " 24275  9230     cutoff   32         4.00000    3.25316  18.7%   4.3  880s\n",
      " 24490  9272    3.56118   51   13    4.00000    3.25828  18.5%   4.3  886s\n",
      " 24683  9292     cutoff   46         4.00000    3.26003  18.5%   4.3  891s\n",
      " 24940  9354    3.94913   35    7    4.00000    3.26665  18.3%   4.3  898s\n",
      " 25217  9404    3.59161   57   12    4.00000    3.27576  18.1%   4.3  905s\n",
      " 25484  9447     cutoff   59         4.00000    3.28149  18.0%   4.3  912s\n",
      " 25789  9487    3.90680   40   10    4.00000    3.28779  17.8%   4.3  920s\n",
      " 26013  9518    3.67601   23   13    4.00000    3.29452  17.6%   4.3  926s\n",
      " 26215  9524    3.92057   43    6    4.00000    3.29689  17.6%   4.3  931s\n",
      " 26437  9540    3.81316   41    8    4.00000    3.30410  17.4%   4.3  937s\n",
      " 26625  9600    3.58363   31   13    4.00000    3.31080  17.2%   4.3  941s\n",
      " 26933  9634    3.87500   22    9    4.00000    3.31380  17.2%   4.3  953s\n",
      " 26987  9620     cutoff   23         4.00000    3.31480  17.1%   4.3  956s\n",
      " 27238  9620     cutoff   52         4.00000    3.32149  17.0%   4.3  962s\n",
      " 27443  9639    3.98939   40   10    4.00000    3.32403  16.9%   4.4  968s\n",
      " 27669  9641    3.87500   28    8    4.00000    3.33271  16.7%   4.4  974s\n",
      " 27729  9654     cutoff   53         4.00000    3.33271  16.7%   4.4  975s\n",
      " 27923  9631    3.89495   36    8    4.00000    3.33838  16.5%   4.4  980s\n",
      " 28161  9645    3.83566   32   18    4.00000    3.34401  16.4%   4.4  987s\n",
      " 28407  9685     cutoff   37         4.00000    3.34877  16.3%   4.4  993s\n",
      " 28642  9716    3.79923   36   14    4.00000    3.35240  16.2%   4.4 1000s\n",
      " 28919  9773     cutoff   33         4.00000    3.35812  16.0%   4.4 1007s\n",
      " 29177  9813     cutoff   48         4.00000    3.36045  16.0%   4.4 1014s\n",
      " 29356  9847    3.95904   29    7    4.00000    3.36654  15.8%   4.4 1018s\n",
      " 29423  9830    3.88593   42    6    4.00000    3.36697  15.8%   4.4 1020s\n",
      " 29689  9831    3.67409   27    5    4.00000    3.37225  15.7%   4.4 1027s\n",
      " 29969  9870    3.92096   40   13    4.00000    3.37648  15.6%   4.4 1036s\n",
      " 29971  9871    3.63613   61   47    4.00000    3.37648  15.6%   4.4 1043s\n",
      " 29972  9872    3.76470   43   14    4.00000    3.37648  15.6%   4.4 1045s\n",
      " 29982  9879    3.89584   46   20    4.00000    3.37648  15.6%   4.4 1051s\n",
      " 29987  9882    3.67322   34   20    4.00000    3.37648  15.6%   4.4 1056s\n",
      " 29989  9883    3.92096   40   22    4.00000    3.37648  15.6%   4.4 1062s\n",
      " 29995  9887    3.57683   64   26    4.00000    3.37648  15.6%   4.4 1065s\n",
      " 29999  9890    3.56458   67   31    4.00000    3.37648  15.6%   4.4 1070s\n",
      " 30003  9893    3.79336   64   28    4.00000    3.37648  15.6%   4.4 1076s\n",
      " 30006  9898    3.37648   20   24    4.00000    3.37648  15.6%   4.4 1086s\n",
      " 30012  9904    3.37648   22   20    4.00000    3.37648  15.6%   4.4 1090s\n",
      " 30032  9908    3.37648   24   19    4.00000    3.37648  15.6%   4.4 1095s\n",
      " 30078  9929    3.37648   28   16    4.00000    3.37648  15.6%   4.4 1100s\n",
      " 30141  9956    3.37648   32   19    4.00000    3.37648  15.6%   4.5 1105s\n",
      " 30224  9986    3.37648   39   18    4.00000    3.37648  15.6%   4.5 1110s\n",
      " 30304 10024    3.37648   74    7    4.00000    3.37648  15.6%   4.5 1115s\n",
      " 30383 10054    3.42168   52   24    4.00000    3.37648  15.6%   4.5 1120s\n",
      " 30507 10077    3.72480   59   18    4.00000    3.37648  15.6%   4.5 1125s\n",
      " 30610 10113    3.39807   45    9    4.00000    3.37648  15.6%   4.5 1130s\n",
      " 30725 10152    3.37648   33   13    4.00000    3.37648  15.6%   4.5 1135s\n",
      " 30879 10181    3.97615   53    8    4.00000    3.37648  15.6%   4.5 1140s\n",
      " 31025 10246    3.37648   69   13    4.00000    3.37648  15.6%   4.5 1146s\n",
      " 31140 10281    3.37648   46   16    4.00000    3.37648  15.6%   4.5 1151s\n",
      " 31229 10300    3.77383   73   11    4.00000    3.37648  15.6%   4.5 1155s\n",
      " 31419 10308    3.39298   49   11    4.00000    3.37648  15.6%   4.5 1160s\n",
      " 31451 10319    3.86838   72    5    4.00000    3.37648  15.6%   4.5 1165s\n",
      " 31606 10369    3.64661   75   14    4.00000    3.37648  15.6%   4.5 1171s\n",
      " 31725 10425    3.56617   51   10    4.00000    3.37648  15.6%   4.5 1176s\n",
      " 31870 10458    3.54179   69    8    4.00000    3.37648  15.6%   4.5 1181s\n",
      " 31982 10468    3.66147   49    8    4.00000    3.37648  15.6%   4.6 1185s\n",
      " 32152 10504    3.66322   61   17    4.00000    3.37648  15.6%   4.6 1191s\n",
      " 32300 10497    3.91586   81   12    4.00000    3.37648  15.6%   4.6 1195s\n",
      " 32523 10558    3.37648   55   11    4.00000    3.37648  15.6%   4.6 1204s\n",
      " 32673 10577    3.37648   43   18    4.00000    3.37648  15.6%   4.6 1209s\n",
      " 32796 10614    3.37648   62   12    4.00000    3.37648  15.6%   4.6 1212s\n",
      " 32829 10622    3.37648   36   15    4.00000    3.37648  15.6%   4.6 1215s\n",
      " 33016 10673    3.95153   81    6    4.00000    3.37648  15.6%   4.6 1221s\n",
      " 33187 10736     cutoff   85         4.00000    3.37648  15.6%   4.6 1227s\n",
      " 33314 10771    3.37648   41   11    4.00000    3.37648  15.6%   4.6 1230s\n",
      " 33489 10814    3.37648   45   10    4.00000    3.37648  15.6%   4.6 1237s\n",
      " 33540 10827    3.64005   68   13    4.00000    3.37648  15.6%   4.6 1240s\n",
      " 33754 10882    3.84042   87    8    4.00000    3.37648  15.6%   4.6 1247s\n",
      " 33850 10912    3.37648   67    5    4.00000    3.37648  15.6%   4.6 1250s\n",
      " 34065 10969    3.86007   61    8    4.00000    3.37648  15.6%   4.6 1258s\n",
      " 34185 10977    3.37648   35   11    4.00000    3.37648  15.6%   4.6 1262s\n",
      " 34433 10991    3.79625   77    8    4.00000    3.37648  15.6%   4.6 1270s\n",
      " 34665 11026    3.48318   66   11    4.00000    3.37648  15.6%   4.6 1278s\n",
      " 34721 11053    3.44563   70   14    4.00000    3.37648  15.6%   4.6 1280s\n",
      " 34881 11068    3.82019   88    7    4.00000    3.37648  15.6%   4.6 1288s\n",
      " 35064 11097    3.37648   41   16    4.00000    3.37648  15.6%   4.6 1295s\n",
      " 35373 11134    3.51114   36    5    4.00000    3.37648  15.6%   4.6 1307s\n",
      " 35476 11133    3.70139   48    4    4.00000    3.37648  15.6%   4.6 1310s\n",
      " 35678 11117    3.93270   55    3    4.00000    3.37648  15.6%   4.6 1315s\n",
      " 36049 11147    3.44136   53    8    4.00000    3.37648  15.6%   4.6 1327s\n",
      " 36163 11142    3.37648   29    5    4.00000    3.37648  15.6%   4.6 1333s\n",
      " 36641 11175    3.49326  107    3    4.00000    3.37648  15.6%   4.5 1349s\n",
      " 36838 11189     cutoff   58         4.00000    3.37648  15.6%   4.5 1354s\n",
      " 37049 11161    3.74737   47    4    4.00000    3.37648  15.6%   4.5 1361s\n",
      " 37408 11111    3.66667   46    6    4.00000    3.37648  15.6%   4.5 1372s\n",
      " 37523 11116    3.79928   49    4    4.00000    3.37648  15.6%   4.5 1375s\n",
      " 37633 11103    3.78687   75    6    4.00000    3.37648  15.6%   4.6 1380s\n",
      " 37850 11103    3.37648   88   12    4.00000    3.37648  15.6%   4.6 1389s\n",
      " 37940 11132    3.99273   59    6    4.00000    3.37648  15.6%   4.6 1391s\n",
      " 38190 11146    3.95026   83    8    4.00000    3.37648  15.6%   4.6 1401s\n",
      " 38418 11208    3.95378   53    5    4.00000    3.37648  15.6%   4.6 1407s\n",
      " 38500 11207    3.75250   59   11    4.00000    3.37648  15.6%   4.6 1412s\n",
      " 38846 11247    3.59316   28   10    4.00000    3.37648  15.6%   4.6 1424s\n",
      " 39213 11251    3.51063   31   18    4.00000    3.37648  15.6%   4.6 1437s\n",
      " 39485 11267    3.92509   68   11    4.00000    3.37648  15.6%   4.6 1443s\n",
      " 39587 11240    3.96194   38   14    4.00000    3.37648  15.6%   4.6 1449s\n",
      " 39672 11235    3.74023   39   10    4.00000    3.37648  15.6%   4.6 1451s\n",
      " 39951 11279    3.69228   38    9    4.00000    3.37648  15.6%   4.6 1462s\n",
      " 40339 11260    3.83363   70   14    4.00000    3.37648  15.6%   4.6 1474s\n",
      " 40631 11230     cutoff   38         4.00000    3.37648  15.6%   4.6 1484s\n",
      " 40782 11263     cutoff   71         4.00000    3.37648  15.6%   4.6 1488s\n",
      " 40903 11244    3.37648   34   10    4.00000    3.37648  15.6%   4.6 1495s\n",
      " 41296 11285    3.92022   84    8    4.00000    3.37648  15.6%   4.6 1509s\n",
      " 41587 11366    3.56902   49   12    4.00000    3.37648  15.6%   4.6 1517s\n",
      " 41670 11356    3.85714   82    3    4.00000    3.37648  15.6%   4.7 1522s\n",
      " 42025 11362    3.75027   64    8    4.00000    3.37648  15.6%   4.7 1535s\n",
      " 42339 11353    3.77116   54   12    4.00000    3.37648  15.6%   4.7 1546s\n",
      " 42746 11387     cutoff   39         4.00000    3.37648  15.6%   4.7 1559s\n",
      " 42952 11414    3.97063   60    6    4.00000    3.37648  15.6%   4.7 1564s\n",
      " 43173 11429    3.37648   30    6    4.00000    3.37648  15.6%   4.7 1573s\n",
      " 43383 11406    3.73739   53   13    4.00000    3.37648  15.6%   4.7 1578s\n",
      " 43537 11371    3.37648   36   16    4.00000    3.37648  15.6%   4.7 1586s\n",
      " 43951 11363    3.79123   36    8    4.00000    3.37648  15.6%   4.7 1599s\n",
      " 44037 11369    3.37648   54   11    4.00000    3.37648  15.6%   4.7 1601s\n",
      " 44321 11358     cutoff   50         4.00000    3.37648  15.6%   4.7 1612s\n",
      " 44521 11346    3.67320   35   18    4.00000    3.37648  15.6%   4.7 1617s\n",
      " 44686 11323    3.43895   68   12    4.00000    3.37648  15.6%   4.7 1624s\n",
      " 44759 11333    3.46122   38    7    4.00000    3.37648  15.6%   4.7 1626s\n",
      " 44978 11363    3.37648   74    8    4.00000    3.37648  15.6%   4.7 1632s\n",
      " 45081 11339    3.77806   55   13    4.00000    3.37648  15.6%   4.7 1638s\n",
      " 45423 11294    3.83448   32    8    4.00000    3.37648  15.6%   4.7 1649s\n",
      " 45818 11284     cutoff   36         4.00000    3.37648  15.6%   4.7 1662s\n",
      " 45994 11278    3.37648   33   16    4.00000    3.37648  15.6%   4.7 1666s\n",
      " 46196 11250    3.71870   56    9    4.00000    3.37648  15.6%   4.7 1675s\n",
      " 46536 11195    3.82836   60    6    4.00000    3.37648  15.6%   4.7 1687s\n",
      " 46797 11191     cutoff   59         4.00000    3.37648  15.6%   4.7 1693s\n",
      " 46891 11145    3.74381   51   11    4.00000    3.37648  15.6%   4.7 1699s\n",
      " 47194 11151    3.70044   50   16    4.00000    3.37648  15.6%   4.7 1706s\n",
      " 47272 11101    3.71865   35   11    4.00000    3.37648  15.6%   4.7 1712s\n",
      " 47587 11060    3.58294   48   13    4.00000    3.37648  15.6%   4.7 1718s\n",
      " 47685 11004    3.99954   41    6    4.00000    3.37648  15.6%   4.7 1724s\n",
      " 48076 11012    3.92540   37    8    4.00000    3.37941  15.5%   4.7 1738s\n",
      " 48390 10966    3.93056   44   12    4.00000    3.39208  15.2%   4.7 1749s\n",
      " 48810 10927     cutoff   37         4.00000    3.39544  15.1%   4.7 1763s\n",
      " 49060 10917     cutoff   51         4.00000    3.40773  14.8%   4.7 1768s\n",
      " 49132 10856    3.42065   36   17    4.00000    3.40927  14.8%   4.7 1774s\n",
      " 49238 10877    3.95083   50    6    4.00000    3.40927  14.8%   4.7 1776s\n",
      " 49526 10811    3.63969   64    8    4.00000    3.41996  14.5%   4.7 1786s\n",
      " 49937 10749     cutoff   57         4.00000    3.43021  14.2%   4.7 1799s\n",
      " 50300 10654     cutoff   59         4.00000    3.43832  14.0%   4.7 1810s\n",
      " 50645 10591    3.49216   56    5    4.00000    3.44423  13.9%   4.8 1822s\n",
      " 51035 10531    3.97837   33    5    4.00000    3.45506  13.6%   4.8 1851s\n",
      " 51195 10436     cutoff   34         4.00000    3.45701  13.6%   4.8 1858s\n",
      " 51485 10349     cutoff   40         4.00000    3.46480  13.4%   4.8 1867s\n",
      " 51786 10260    3.81341   51   17    4.00000    3.47126  13.2%   4.8 1878s\n",
      " 52091 10152     cutoff   62         4.00000    3.48020  13.0%   4.8 1887s\n",
      " 52380 10050    3.69377   56    6    4.00000    3.48757  12.8%   4.8 1897s\n",
      " 52521 10024    3.99747   59    5    4.00000    3.48903  12.8%   4.8 1900s\n",
      " 52665  9940    3.83600   49   15    4.00000    3.49393  12.7%   4.8 1907s\n",
      " 52982  9824    3.92887   45   10    4.00000    3.50000  12.5%   4.8 1917s\n",
      " 53287  9709    3.75063   40    3    4.00000    3.50452  12.4%   4.8 1926s\n",
      " 53488  9684     cutoff   47         4.00000    3.51638  12.1%   4.8 1930s\n",
      " 53551  9590    3.90057   65   15    4.00000    3.51638  12.1%   4.8 1935s\n",
      " 53867  9479    3.93422   51   11    4.00000    3.52708  11.8%   4.8 1944s\n",
      " 54122  9382    3.90551   42    9    4.00000    3.53443  11.6%   4.8 1953s\n",
      " 54466  9307    3.77345   36   16    4.00000    3.54133  11.5%   4.8 1964s\n",
      " 54774  9198     cutoff   65         4.00000    3.54772  11.3%   4.8 1973s\n",
      " 54895  9166     cutoff   52         4.00000    3.54812  11.3%   4.8 1975s\n",
      " 55032  9065    3.59366   51   17    4.00000    3.55472  11.1%   4.8 1981s\n",
      " 55327  8939     cutoff   43         4.00000    3.56434  10.9%   4.8 1990s\n",
      " 55627  8829    3.80512   58   13    4.00000    3.56499  10.9%   4.8 2000s\n",
      " 55968  8744     cutoff   53         4.00000    3.58188  10.5%   4.8 2011s\n",
      " 56249  8645    3.99670   62    9    4.00000    3.59010  10.2%   4.8 2020s\n",
      " 56543  8552    3.86584   78    8    4.00000    3.59442  10.1%   4.8 2029s\n",
      " 56581  8539    3.93223   65   13    4.00000    3.59471  10.1%   4.8 2030s\n",
      " 56750  8420     cutoff   34         4.00000    3.60362  9.91%   4.8 2036s\n",
      " 56924  8416    3.99074   40    9    4.00000    3.60392  9.90%   4.8 2040s\n",
      " 57104  8313    3.98419   55    7    4.00000    3.60930  9.77%   4.8 2047s\n",
      " 57272  8290     cutoff   38         4.00000    3.61238  9.69%   4.8 2050s\n",
      " 57356  8191     cutoff   54         4.00000    3.61602  9.60%   4.8 2055s\n",
      " 57619  8066     cutoff   36         4.00000    3.62276  9.43%   4.8 2062s\n",
      " 57780  8052    3.95558   47    3    4.00000    3.62888  9.28%   4.8 2065s\n",
      " 57848  7965    3.68051   56    2    4.00000    3.62896  9.28%   4.8 2070s\n",
      " 58123  7842     cutoff   26         4.00000    3.63539  9.12%   4.8 2078s\n",
      " 58271  7821     cutoff   66         4.00000    3.63551  9.11%   4.8 2081s\n",
      " 58414  7712     cutoff   82         4.00000    3.64094  8.98%   4.8 2086s\n",
      " 58621  7589     cutoff   40         4.00000    3.64634  8.84%   4.8 2092s\n",
      " 58810  7473    3.91765   74    9    4.00000    3.65254  8.69%   4.8 2098s\n",
      " 59076  7364     cutoff   48         4.00000    3.65775  8.56%   4.8 2105s\n",
      " 59272  7242     cutoff   37         4.00000    3.66299  8.43%   4.8 2112s\n",
      " 59444  7132     cutoff   59         4.00000    3.66766  8.31%   4.8 2120s\n",
      " 59665  6997     cutoff   40         4.00000    3.67128  8.22%   4.8 2128s\n",
      " 59770  7006     cutoff   43         4.00000    3.67185  8.20%   4.8 2130s\n",
      " 59895  6943     cutoff   49         4.00000    3.67568  8.11%   4.8 2135s\n",
      " 60249  6808     cutoff   36         4.00000    3.68051  7.99%   4.8 2144s\n",
      " 60378  6728     cutoff   53         4.00000    3.68552  7.86%   4.8 2147s\n",
      " 60502  6649     cutoff   43         4.00000    3.68912  7.77%   4.8 2151s\n",
      " 60707  6597     cutoff   53         4.00000    3.69261  7.68%   4.8 2156s\n",
      " 60972  6433     cutoff   33         4.00000    3.70064  7.48%   4.8 2162s\n",
      " 61096  6358     cutoff   65         4.00000    3.70576  7.36%   4.8 2165s\n",
      " 61352  6204     cutoff   40         4.00000    3.71493  7.13%   4.8 2171s\n",
      " 61516  6147     cutoff   54         4.00000    3.71918  7.02%   4.8 2176s\n",
      " 61684  6091     cutoff   39         4.00000    3.72284  6.93%   4.8 2180s\n",
      " 61902  6027    3.92892   73    8    4.00000    3.72638  6.84%   4.8 2185s\n",
      " 62087  5872     cutoff   40         4.00000    3.73431  6.64%   4.8 2190s\n",
      " 62426  5748     cutoff   38         4.00000    3.74234  6.44%   4.8 2199s\n",
      " 62563  5679     cutoff   55         4.00000    3.74613  6.35%   4.8 2201s\n",
      " 62764  5599     cutoff   44         4.00000    3.74978  6.26%   4.8 2205s\n",
      " 62935  5534     cutoff   53         4.00000    3.75566  6.11%   4.8 2210s\n",
      " 63139  5395     cutoff   85         4.00000    3.75826  6.04%   4.8 2217s\n",
      " 63317  5318     cutoff   69         4.00000    3.76110  5.97%   4.8 2221s\n",
      " 63468  5256     cutoff   69         4.00000    3.76501  5.87%   4.8 2225s\n",
      " 63666  5185     cutoff   62         4.00000    3.76921  5.77%   4.8 2230s\n",
      " 63947  5071     cutoff   51         4.00000    3.77773  5.56%   4.8 2238s\n",
      " 64096  4993     cutoff   39         4.00000    3.78090  5.48%   4.8 2242s\n",
      " 64280  4949    3.80280   55    6    4.00000    3.78428  5.39%   4.8 2247s\n",
      " 64416  4872     cutoff   74         4.00000    3.78666  5.33%   4.8 2250s\n",
      " 64655  4713     cutoff   79         4.00000    3.79344  5.16%   4.8 2255s\n",
      " 64979  4465     cutoff   40         4.00000    3.80299  4.93%   4.8 2262s\n",
      " 65194  4309     cutoff   72         4.00000    3.80892  4.78%   4.8 2266s\n",
      " 65461  4152     cutoff   59         4.00000    3.81532  4.62%   4.8 2272s\n",
      " 65666  3986    3.94584   72    6    4.00000    3.82056  4.49%   4.8 2277s\n",
      " 65807  3909     cutoff   64         4.00000    3.82320  4.42%   4.8 2280s\n",
      " 66037  3744     cutoff   56         4.00000    3.82938  4.27%   4.8 2285s\n",
      " 66306  3600    3.83763   29   16    4.00000    3.83333  4.17%   4.8 2292s\n",
      " 66442  3532    3.83735   71    5    4.00000    3.83735  4.07%   4.8 2295s\n",
      " 66739  3369    3.84580   62    7    4.00000    3.84416  3.90%   4.8 2300s\n",
      " 66991  3124     cutoff   57         4.00000    3.85342  3.66%   4.8 2306s\n",
      " 67218  2971     cutoff   91         4.00000    3.85975  3.51%   4.8 2311s\n",
      " 67424  2807     cutoff   68         4.00000    3.86667  3.33%   4.8 2315s\n",
      " 67745  2559     cutoff   63         4.00000    3.87918  3.02%   4.8 2320s\n",
      " 68058  2314     cutoff   51         4.00000    3.88937  2.77%   4.8 2326s\n",
      " 68361  2064     cutoff   51         4.00000    3.90270  2.43%   4.8 2331s\n",
      " 68659  1813     cutoff   88         4.00000    3.91506  2.12%   4.8 2336s\n",
      " 68939  1561     cutoff   63         4.00000    3.92875  1.78%   4.8 2340s\n",
      " 69231  1309     cutoff   73         4.00000    3.94085  1.48%   4.8 2345s\n",
      " 69618   973     cutoff   45         4.00000    3.95611  1.10%   4.8 2350s\n",
      " 69922   875     cutoff   33         4.00000    3.96280  0.93%   4.8 2359s\n",
      " 70035   812     cutoff   41         4.00000    3.96280  0.93%   4.8 2361s\n",
      " 70306   564     cutoff   50         4.00000    3.97206  0.70%   4.8 2366s\n",
      " 70541   429     cutoff   63         4.00000    3.97206  0.70%   4.8 2370s\n",
      " 70837   191     cutoff   47         4.00000    3.99074  0.23%   4.8 2376s\n",
      " 71142     0     cutoff   52         4.00000    3.99693  0.08%   4.8 2380s\n",
      "\n",
      "Cutting planes:\n",
      "  Gomory: 5\n",
      "  Cover: 40\n",
      "  MIR: 171\n",
      "  StrongCG: 31\n",
      "  Flow cover: 161\n",
      "  Zero half: 18\n",
      "  Lazy constraints: 6642\n",
      "\n",
      "Explored 71195 nodes (338408 simplex iterations) in 2380.90 seconds\n",
      "Thread count was 8 (of 8 available processors)\n",
      "\n",
      "Solution count 1: 4 \n",
      "\n",
      "Optimal solution found (tolerance 1.00e-04)\n",
      "Best objective 4.000000000000e+00, best bound 4.000000000000e+00, gap 0.0000%\n",
      "CPU times: user 2h 31min 9s, sys: 6min 27s, total: 2h 37min 36s\n",
      "Wall time: 39min 40s\n"
     ]
    }
   ],
   "source": [
    "decomp = Decomposer(stacker.model, objective_sense='minimize')\n",
    "\n",
    "master,sub = decomp.benders_decomp()\n",
    "\n",
    "master.Params.presolve = 0\n",
    "sub.Params.presolve = 0\n",
    "\n",
    "master.Params.FeasibilityTol = 1e-9\n",
    "master.Params.OptimalityTol = 1e-9\n",
    "\n",
    "sub.Params.Method = 0\n",
    "sub.Params.OutputFlag = 0\n",
    "\n",
    "sub.Params.FeasibilityTol = 1e-9\n",
    "sub.Params.OptimalityTol = 1e-9\n",
    "\n",
    "master._verbosity = 0\n",
    "master._precision_sub = 'gurobi' #'dq'\n",
    "master.Params.OutputFlag=0\n",
    "\n",
    "master._verbosity=0\n",
    "master.Params.OutputFlag = 1\n",
    "%time master.optimize(cb_benders)"
   ]
  },
  {
   "cell_type": "code",
   "execution_count": 32,
   "metadata": {
    "collapsed": false
   },
   "outputs": [
    {
     "data": {
      "text/plain": [
       "52.0"
      ]
     },
     "execution_count": 32,
     "metadata": {},
     "output_type": "execute_result"
    }
   ],
   "source": [
    "yoptB = np.array([y.X for y in decomp._ys])\n",
    "sum(yoptB)"
   ]
  },
  {
   "cell_type": "code",
   "execution_count": 33,
   "metadata": {
    "collapsed": false
   },
   "outputs": [
    {
     "name": "stdout",
     "output_type": "stream",
     "text": [
      "binary_G6PDH2r03. Value=1.0. Power=0. Digit=1\n",
      "binary_G6PDH2r05. Value=1.0. Power=2. Digit=1\n",
      "binary_AKGDH03. Value=1.0. Power=0. Digit=1\n",
      "binary_ACKr03. Value=1.0. Power=0. Digit=1\n",
      "binary_MALS03. Value=1.0. Power=0. Digit=1\n",
      "binary_GLUN03. Value=1.0. Power=0. Digit=1\n",
      "binary_ME103. Value=1.0. Power=0. Digit=1\n",
      "binary_GND03. Value=1.0. Power=0. Digit=1\n",
      "binary_ME203. Value=1.0. Power=0. Digit=1\n",
      "binary_GLNS03. Value=1.0. Power=0. Digit=1\n",
      "binary_FUM03. Value=1.0. Power=0. Digit=1\n",
      "binary_FUM06. Value=1.0. Power=3. Digit=1\n",
      "binary_SUCDi03. Value=1.0. Power=0. Digit=1\n",
      "binary_PPC03. Value=1.0. Power=0. Digit=1\n",
      "binary_MDH03. Value=1.0. Power=0. Digit=1\n",
      "binary_GLUDy03. Value=1.0. Power=0. Digit=1\n",
      "binary_GLUSy03. Value=1.0. Power=0. Digit=1\n",
      "binary_PGL03. Value=1.0. Power=0. Digit=1\n",
      "binary_PGM03. Value=1.0. Power=0. Digit=1\n",
      "binary_ACALD03. Value=1.0. Power=0. Digit=1\n",
      "binary_PGK03. Value=1.0. Power=0. Digit=1\n",
      "binary_PGI03. Value=1.0. Power=0. Digit=1\n",
      "binary_PPS03. Value=1.0. Power=0. Digit=1\n",
      "binary_PTAr03. Value=1.0. Power=0. Digit=1\n",
      "binary_RPE03. Value=1.0. Power=0. Digit=1\n",
      "binary_ALCD2x03. Value=1.0. Power=0. Digit=1\n",
      "binary_SUCOAS03. Value=1.0. Power=0. Digit=1\n",
      "binary_TALA03. Value=1.0. Power=0. Digit=1\n",
      "binary_PPCK03. Value=1.0. Power=0. Digit=1\n",
      "binary_NADTRHD03. Value=1.0. Power=0. Digit=1\n",
      "binary_ICDHyr03. Value=1.0. Power=0. Digit=1\n",
      "binary_GAPD03. Value=1.0. Power=0. Digit=1\n",
      "binary_GAPD06. Value=1.0. Power=3. Digit=1\n",
      "binary_ICL03. Value=1.0. Power=0. Digit=1\n",
      "binary_TPI03. Value=1.0. Power=0. Digit=1\n",
      "binary_ENO03. Value=1.0. Power=0. Digit=1\n",
      "binary_ACONTa03. Value=1.0. Power=0. Digit=1\n",
      "binary_ACONTa06. Value=1.0. Power=3. Digit=1\n",
      "binary_RPI03. Value=1.0. Power=0. Digit=1\n",
      "binary_ACONTb03. Value=1.0. Power=0. Digit=1\n",
      "binary_ADK103. Value=1.0. Power=0. Digit=1\n",
      "binary_PDH03. Value=1.0. Power=0. Digit=1\n",
      "binary_CS03. Value=1.0. Power=0. Digit=1\n",
      "binary_FBP03. Value=1.0. Power=0. Digit=1\n",
      "binary_TKT203. Value=1.0. Power=0. Digit=1\n",
      "binary_TKT103. Value=1.0. Power=0. Digit=1\n",
      "binary_PFK03. Value=1.0. Power=0. Digit=1\n",
      "binary_PFL03. Value=1.0. Power=0. Digit=1\n",
      "binary_FBA03. Value=1.0. Power=0. Digit=1\n",
      "binary_PYK03. Value=1.0. Power=0. Digit=1\n",
      "binary_LDH_D03. Value=1.0. Power=0. Digit=1\n",
      "binary_FRD703. Value=1.0. Power=0. Digit=1\n"
     ]
    }
   ],
   "source": [
    "# Fitted parameters\n",
    "sol_master = {v.VarName:v.X for v in master.getVars()}\n",
    "\n",
    "kfit_dict = {}\n",
    "for group_id, var_dict in iteritems(var_cons_dict):\n",
    "    var = var_dict[0]\n",
    "    cons = var_dict[1]\n",
    "    a0  = var_dict[0][2]\n",
    "    kfit = 0.\n",
    "    for l,pwr in enumerate(powers):\n",
    "        for k,digit in enumerate(digits):            \n",
    "            yid = 'binary_%s%s%s' % (group_id,k,l)\n",
    "            y   = sol_master[yid]\n",
    "            if abs(y)>1e-10:\n",
    "                print('%s. Value=%s. Power=%g. Digit=%g' % (yid, y, pwr, digit))\n",
    "            kfit += y*a0*radix**pwr*digit\n",
    "    kfit_dict[group_id] = kfit"
   ]
  },
  {
   "cell_type": "code",
   "execution_count": 35,
   "metadata": {
    "collapsed": false
   },
   "outputs": [
    {
     "name": "stdout",
     "output_type": "stream",
     "text": [
      "Changed keffs: 4/48\n"
     ]
    },
    {
     "data": {
      "text/plain": [
       "[(u'G6PDH2r', 2.1367521367521368e-05, 4.0),\n",
       " (u'FUM', 3.846153846153846e-05, 8.0),\n",
       " (u'GAPD', 3.846153846153846e-05, 8.0),\n",
       " (u'ACONTa', 3.846153846153846e-05, 8.0)]"
      ]
     },
     "execution_count": 35,
     "metadata": {},
     "output_type": "execute_result"
    }
   ],
   "source": [
    "kfit_changed = [(k,v, abs(v-a0)/a0) for k,v in iteritems(kfit_dict) if abs(v-a0)/a0>1e-6]\n",
    "print('Changed keffs: %d/%d' % (len(kfit_changed), len(var_cons_dict)))\n",
    "kfit_changed"
   ]
  },
  {
   "cell_type": "code",
   "execution_count": 34,
   "metadata": {
    "collapsed": false
   },
   "outputs": [
    {
     "name": "stdout",
     "output_type": "stream",
     "text": [
      "Cond=glucose. mu_meas=0.74. (unfit=1.79057). Fit: 0.7252 <= mu_sim=0.743028 <= 0.7548. Error=0.409%\n",
      "\tEX_glc__D_e uptake=-20\n",
      "\tEX_fru_e uptake=0\n",
      "\tEX_succ_e uptake=0\n",
      "\tEX_mal__L_e uptake=0\n",
      "\tEX_ac_e uptake=0\n",
      "Cond=acetate. mu_meas=0.256. (unfit=0.389313). Fit: 0.25088 <= mu_sim=0.256495 <= 0.26112. Error=0.193%\n",
      "\tEX_glc__D_e uptake=0\n",
      "\tEX_fru_e uptake=0\n",
      "\tEX_succ_e uptake=0\n",
      "\tEX_mal__L_e uptake=0\n",
      "\tEX_ac_e uptake=-20\n"
     ]
    }
   ],
   "source": [
    "#----------------------------------------\n",
    "# Starting from basal model\n",
    "csrcs = df_conds.cond.unique()\n",
    "for csrc in csrcs:\n",
    "    ijofit = load_json_model('/home/laurence/ME/models/BiGG_M/json/e_coli_core.json')    \n",
    "    crowding = Constraint('crowding')\n",
    "    crowding._bound = crowding_bound0\n",
    "    crowding._constraint_sense = 'L'\n",
    "    \n",
    "    df_condi = df_conds[ df_conds.cond==csrc]    \n",
    "    for i,row in df_condi.iterrows():\n",
    "        rid = row['rxn']\n",
    "        rxn = ijofit.reactions.get_by_id(rid)\n",
    "        rxn.lower_bound = row['lb']\n",
    "        rxn.upper_bound = row['ub']\n",
    "\n",
    "    for rid,kfit in iteritems(kfit_dict):\n",
    "        rxn = ijofit.reactions.get_by_id(rid)\n",
    "        rxn.add_metabolites({crowding:kfit})\n",
    "    \n",
    "    ijofit.optimize()\n",
    "    \n",
    "    mu_measi = df_meas[ df_meas.substrate==csrc].growth_rate_1_h.iloc[0]\n",
    "    mu_fiti = ijofit.reactions.BIOMASS_Ecoli_core_w_GAM.x\n",
    "    \n",
    "    # Get unfit\n",
    "    for rxn in ijofit.metabolites.crowding.reactions:\n",
    "        rxn._metabolites[crowding] = a0\n",
    "    ijofit.optimize()\n",
    "    mu_unfiti = ijofit.reactions.BIOMASS_Ecoli_core_w_GAM.x\n",
    "    \n",
    "    err = 100*(mu_fiti - mu_measi)/mu_measi\n",
    "    mu_rxn = stacker.model.reactions.get_by_id(mu_id+'_%s'%csrc)\n",
    "    muL = mu_rxn.lower_bound\n",
    "    muU = mu_rxn.upper_bound\n",
    "    print('Cond=%s. mu_meas=%g. (unfit=%g). Fit: %g <= mu_sim=%g <= %g. Error=%.3g%%' % (csrc, mu_measi, mu_unfiti, muL, mu_fiti, muU, err))\n",
    "    for i,row in df_condi.iterrows():\n",
    "        rid = row['rxn']\n",
    "        rxn = ijofit.reactions.get_by_id(rid)        \n",
    "        print('\\t%s uptake=%g' % (rxn.id, rxn.x))"
   ]
  }
 ],
 "metadata": {
  "kernelspec": {
   "display_name": "Python 2",
   "language": "python",
   "name": "python2"
  },
  "language_info": {
   "codemirror_mode": {
    "name": "ipython",
    "version": 2
   },
   "file_extension": ".py",
   "mimetype": "text/x-python",
   "name": "python",
   "nbconvert_exporter": "python",
   "pygments_lexer": "ipython2",
   "version": "2.7.14"
  }
 },
 "nbformat": 4,
 "nbformat_minor": 2
}
