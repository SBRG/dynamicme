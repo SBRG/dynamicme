{
 "cells": [
  {
   "cell_type": "markdown",
   "metadata": {
    "deletable": true,
    "editable": true
   },
   "source": [
    "# Toy Radix Lagrangean decomposition validation. Bisection feasibility approach (usually faster than minerr)"
   ]
  },
  {
   "cell_type": "code",
   "execution_count": 17,
   "metadata": {
    "collapsed": true,
    "deletable": true,
    "editable": true
   },
   "outputs": [],
   "source": [
    "OBJECTIVE    = 'sparse'\n",
    "MAX_NONZERO  = None #48*2\n",
    "PREVENT_ZERO = True"
   ]
  },
  {
   "cell_type": "code",
   "execution_count": 18,
   "metadata": {
    "collapsed": false,
    "deletable": true,
    "editable": true
   },
   "outputs": [
    {
     "name": "stdout",
     "output_type": "stream",
     "text": [
      "The line_profiler extension is already loaded. To reload it, use:\n",
      "  %reload_ext line_profiler\n"
     ]
    }
   ],
   "source": [
    "%load_ext line_profiler"
   ]
  },
  {
   "cell_type": "code",
   "execution_count": 19,
   "metadata": {
    "collapsed": false,
    "deletable": true,
    "editable": true
   },
   "outputs": [],
   "source": [
    "from gurobipy import *\n",
    "\n",
    "import seaborn as sns\n",
    "import pandas as pd\n",
    "import matplotlib.pyplot as plt\n",
    "import numpy as np\n",
    "\n",
    "plt.rcParams['svg.fonttype'] = 'none'\n",
    "pd.set_option('display.max_colwidth', -1)\n",
    "%matplotlib inline\n",
    "\n",
    "from cobra.io import load_json_model\n",
    "from six import iteritems\n",
    "import numpy as np\n",
    "import cobra"
   ]
  },
  {
   "cell_type": "code",
   "execution_count": 20,
   "metadata": {
    "collapsed": true,
    "deletable": true,
    "editable": true
   },
   "outputs": [],
   "source": [
    "ijomc = load_json_model('/home/laurence/ME/models/e_coli_core_pc.json')"
   ]
  },
  {
   "cell_type": "code",
   "execution_count": 21,
   "metadata": {
    "collapsed": false,
    "deletable": true,
    "editable": true
   },
   "outputs": [
    {
     "name": "stdout",
     "output_type": "stream",
     "text": [
      "0.873921506968\n"
     ]
    }
   ],
   "source": [
    "ijomc.optimize()\n",
    "mu_crowd0 = ijomc.reactions.BIOMASS_Ecoli_core_w_GAM.x\n",
    "print(mu_crowd0)"
   ]
  },
  {
   "cell_type": "code",
   "execution_count": 22,
   "metadata": {
    "collapsed": false,
    "deletable": true,
    "editable": true
   },
   "outputs": [],
   "source": [
    "df_meas = pd.read_csv('/home/laurence/ME/data/dynamicME/beg/growth_meas.csv')\n",
    "\n",
    "ex_rxns = [r for r in df_meas.ex_rxn.unique() if ijomc.reactions.has_id(r)]\n",
    "df_meas = df_meas[ df_meas.ex_rxn.isin(ex_rxns)]\n",
    "conds = df_meas.substrate.unique()\n",
    "\n",
    "#N_CONDS = len(conds)\n",
    "N_CONDS = 2\n",
    "\n",
    "df_conds = pd.DataFrame([{'cond':r['substrate'], 'rxn':ex_rxn, 'lb':-10 if r['ex_rxn']==ex_rxn else 0, 'ub':1000., 'obj':0.} for i,r in df_meas.iterrows() for ex_rxn in ex_rxns])\n",
    "\n",
    "if N_CONDS==1:\n",
    "    df_conds = df_conds[ df_conds.cond=='acetate']\n",
    "elif N_CONDS<=3:\n",
    "    df_conds = df_conds[ df_conds.cond.isin(['glucose','acetate','succinate'][0:N_CONDS])]\n",
    "else:\n",
    "    df_conds = df_conds[ df_conds.cond.isin(conds[0:N_CONDS])]\n",
    "\n",
    "df_conds.loc[ (df_conds.cond=='acetate') & (df_conds.rxn=='EX_ac_e'), 'lb'] = -20"
   ]
  },
  {
   "cell_type": "markdown",
   "metadata": {
    "deletable": true,
    "editable": true
   },
   "source": [
    "# Make radix problem"
   ]
  },
  {
   "cell_type": "code",
   "execution_count": 23,
   "metadata": {
    "collapsed": false,
    "deletable": true,
    "editable": true
   },
   "outputs": [],
   "source": [
    "from dynamicme.estimate import RadixEstimator"
   ]
  },
  {
   "cell_type": "code",
   "execution_count": 24,
   "metadata": {
    "collapsed": false,
    "deletable": true,
    "editable": true
   },
   "outputs": [],
   "source": [
    "df_Y = df_meas.rename(columns={'growth_rate_1_h':'output', 'substrate':'cond'})\n",
    "df_Y.loc[:,'output_id'] = 'BIOMASS_Ecoli_core_w_GAM'\n",
    "conds = df_conds.cond.unique()\n",
    "df_Y = df_Y[ df_Y.cond.isin(conds)]\n",
    "df_X = df_conds"
   ]
  },
  {
   "cell_type": "markdown",
   "metadata": {
    "collapsed": true,
    "deletable": true,
    "editable": true
   },
   "source": [
    "est = RadixEstimator()\n",
    "est.fit(ijomc, df_X, df_Y, reg_weight = REG_WEIGHT, max_nonzero_binaries=MAX_NONZERO, optimize=False)\n",
    "\n",
    "est.milp.Params.ScaleFlag = 0\n",
    "est.milp.Params.OutputFlag = 1\n",
    "est.milp.Params.TimeLimit = 2*3600.\n",
    "# est.milp.Params.Presolve = 0\n",
    "# est.milp.Params.FeasibilityTol = 1e-8\n",
    "# est.milp.Params.OptimalityTol = 1e-8\n",
    "\n",
    "# est.optimize()"
   ]
  },
  {
   "cell_type": "markdown",
   "metadata": {
    "deletable": true,
    "editable": true
   },
   "source": [
    "## Validate the fit"
   ]
  },
  {
   "cell_type": "markdown",
   "metadata": {
    "collapsed": true,
    "deletable": true,
    "editable": true
   },
   "source": [
    "base_model = load_json_model('/home/laurence/ME/models/e_coli_core_pc.json')"
   ]
  },
  {
   "cell_type": "markdown",
   "metadata": {
    "collapsed": false,
    "deletable": true,
    "editable": true
   },
   "source": [
    "mu_id = 'BIOMASS_Ecoli_core_w_GAM'\n",
    "# df_pred = est.predict(df_X, base_model, meas_id=mu_id)\n",
    "\n",
    "df_Y2 = df_Y[[c for c in df_Y.columns if c not in ['order','ex_rxn']]]\n",
    "df_val = pd.merge(df_Y2.rename(columns={'output':'meas'}), df_pred.rename(columns={'rxn':'output_id','x':'pred'}), on=['cond','output_id'])\n",
    "df_val.loc[:,'error'] = (df_val.pred - df_val.meas)\n",
    "df_val.loc[:,'perror'] = df_val.error / df_val.meas * 100\n",
    "df_val\n",
    "\n",
    "a0 = 1./65/3600\n",
    "kfit_dict0 = {k:a0 for k in est.kfit_dict.keys()}\n",
    "df_ref = est.predict(df_X, base_model, meas_id=mu_id, kfit_dict=kfit_dict0)\n",
    "df_ref.rename(columns={'rxn':'output_id','x':'output'}, inplace=True)\n",
    "\n",
    "df_val0 = pd.merge(df_Y2.rename(columns={'output':'meas'}), df_ref.rename(columns={'output':'pred0'}), on=['cond','output_id'])\n",
    "df_val0.loc[:,'error0'] = (df_val0.pred0 - df_val0.meas)\n",
    "df_val0.loc[:,'perror0'] = df_val0.error0 / df_val0.meas * 100\n",
    "\n",
    "df_comp = pd.merge(df_val, df_val0, on=['cond','output_id','meas'])\n",
    "df_comp.loc[:,'error_change'] = (df_comp.error.abs()-df_comp.error0.abs()) / df_comp.error0.abs() * 100\n",
    "df_comp\n",
    "\n",
    "print('Total abs error: %g' % df_comp.error.abs().sum())\n",
    "print('Total perc error: %g%%' % df_comp.perror.abs().sum())\n",
    "print('Total error change: %g%%' % df_comp.error_change.sum())\n",
    "changed = [abs(est.kfit_dict[k]-kfit_dict0[k])>1e-9 for k in est.kfit_dict.keys()]\n",
    "print('Number of keffs changed: %d/%d (%g%%)' % (sum(changed),len(est.kfit_dict), 100*sum(changed)/len(est.kfit_dict) ))"
   ]
  },
  {
   "cell_type": "markdown",
   "metadata": {
    "deletable": true,
    "editable": true
   },
   "source": [
    "# Each Lagrange submodel should start with the optimum"
   ]
  },
  {
   "cell_type": "code",
   "execution_count": 25,
   "metadata": {
    "collapsed": true,
    "deletable": true,
    "editable": true
   },
   "outputs": [],
   "source": [
    "from dynamicme.decomposition import LagrangeMaster, LagrangeSubmodel"
   ]
  },
  {
   "cell_type": "code",
   "execution_count": 26,
   "metadata": {
    "collapsed": false,
    "deletable": true,
    "editable": true
   },
   "outputs": [
    {
     "name": "stdout",
     "output_type": "stream",
     "text": [
      "Changed value of parameter OutputFlag to 1\n",
      "   Prev: 0  Min: 0  Max: 1  Default: 1\n",
      "Changed value of parameter OutputFlag to 1\n",
      "   Prev: 0  Min: 0  Max: 1  Default: 1\n"
     ]
    }
   ],
   "source": [
    "conds = df_conds.cond.unique()\n",
    "sub_dict = {}\n",
    "for cond in conds:\n",
    "    df_Xk = df_X[ df_X.cond==cond]\n",
    "    df_Yk = df_Y[ df_Y.cond==cond]\n",
    "    estk = RadixEstimator()\n",
    "    #estk.fit(ijomc, df_Xk, df_Yk, objective='sparse', max_nonzero_binaries=MAX_NONZERO, optimize=False)    \n",
    "    estk.fit(ijomc, df_Xk, df_Yk, objective='minerr', max_nonzero_binaries=MAX_NONZERO, optimize=False)    \n",
    "    sub = LagrangeSubmodel(estk.stacker.model, cond)\n",
    "    sub_dict[cond] = sub"
   ]
  },
  {
   "cell_type": "code",
   "execution_count": 27,
   "metadata": {
    "collapsed": true,
    "deletable": true,
    "editable": true
   },
   "outputs": [],
   "source": [
    "master = LagrangeMaster(estk.stacker.model)\n",
    "master.add_submodels(sub_dict)"
   ]
  },
  {
   "cell_type": "markdown",
   "metadata": {},
   "source": [
    "### Two-phase"
   ]
  },
  {
   "cell_type": "code",
   "execution_count": 28,
   "metadata": {
    "collapsed": false
   },
   "outputs": [
    {
     "name": "stdout",
     "output_type": "stream",
     "text": [
      "    Iter                    UB                    LB       gap relgap(%)     delta                       Time(s)\n",
      "  ------   -------------------   -------------------  -------- ---------  -------- -----------------------------\n",
      "               Dual       Feas        Sub       Best                                   total    master       sub\n",
      "       0       1000       1000          0          0      1000       100       0.5  0.061236  0.001167  0.036412\n",
      "       5      1.133      1.133     -46.69          0     1.133       100    0.0156  0.358707  0.001770  0.030688\n",
      "      10     0.2135     0.2135     -110.7          0    0.2135       100  0.000488  0.653622  0.002320  0.026695\n",
      "      15     0.1027     0.1027     -352.1          0    0.1027       100  1.53e-05  0.957796  0.003052  0.031753\n",
      "      20    0.05838    0.05838       -998          0   0.05838       100  4.77e-07  1.257722  0.004377  0.026087\n",
      "      25    0.04611    0.04611      -2913          0   0.04611       100  1.49e-08  1.553209  0.005409  0.027219\n",
      "      30    0.04281    0.04281      -2403          0   0.04281       100  4.66e-10  1.885263  0.006737  0.033700\n",
      "      35    0.04273    0.04273       -870          0   0.04273       100     1e-10  2.231438  0.009040  0.024539\n",
      "      40    0.04273    0.04273     -24.99          0   0.04273       100     1e-10  2.572799  0.011093  0.028833\n",
      "      45    0.04273    0.04273     -25.65          0   0.04273       100     1e-10  2.947652  0.015038  0.037770\n",
      "      50    0.04273    0.04273     -32.78          0   0.04273       100     1e-10  3.327861  0.016946  0.024030\n",
      "      55    0.04273    0.04273     -27.05          0   0.04273       100     1e-10  3.740100  0.020008  0.035712\n",
      "      60    0.04273    0.04273     -17.77          0   0.04273       100     1e-10  4.163620  0.023842  0.028342\n",
      "      65    0.04273    0.04273     -14.79          0   0.04273       100     1e-10  4.619614  0.028430  0.035233\n",
      "      70    0.04273    0.04273     -18.73          0   0.04273       100     1e-10  5.049568  0.031147  0.028456\n",
      "      75    0.04273    0.04273      -18.9          0   0.04273       100     1e-10  5.577812  0.050364  0.028612\n",
      "      80    0.04273    0.04273     -6.989          0   0.04273       100     1e-10  6.209565  0.064878  0.031741\n",
      "      85    0.04271    0.04271     -9.349          0   0.04271       100     1e-10  6.816402  0.057482  0.039048\n",
      "      90    0.04263    0.04263      -2.79          0   0.04263       100     1e-10  7.388535  0.047379  0.026151\n",
      "      95    0.04236    0.04236     -37.38          0   0.04236       100     1e-10  8.004656  0.082828  0.026054\n",
      "     100    0.04096    0.04096     -3.842          0   0.04096       100     1e-10  8.641297  0.060449  0.035181\n",
      "     105    0.01774    0.01774     -1.289          0   0.01774       100     1e-10  9.343652  0.086057  0.043471\n",
      "     110   0.007077   0.007077    -0.8603          0  0.007077       100     1e-10  10.08402  0.095474  0.045562\n",
      "     115   0.002504   0.002504    -0.6947          0  0.002504       100     1e-10  10.86551  0.084082  0.053155\n",
      "     120   0.001164   0.001164    -0.4205          0  0.001164       100     1e-10  11.68594  0.086250  0.068559\n",
      "     125  0.0007361  0.0007361     -5.641          0 0.0007361       100     1e-10  12.64425  0.106712  0.058988\n",
      "     130  0.0001369  0.0001369   -0.07084          0 0.0001369       100     1e-10  13.59625  0.085989  0.040043\n",
      "     135  1.391e-05  1.296e-05     -7.212          0 1.391e-05       100     1e-10  14.69831  0.165628  0.033411\n",
      "     136 -9.446e-07 -9.446e-07   -0.09116          0-9.446e-07    -99.99     1e-10  14.96589  0.217571  0.024142\n",
      "relgap (-0.999894) <= gaptol (0.0001). Finished.\n",
      "    Iter                    UB                    LB       gap relgap(%)     delta                       Time(s)\n",
      "  ------   -------------------   -------------------  -------- ---------  -------- -----------------------------\n",
      "               Dual       Feas        Sub       Best                                   total    master       sub\n"
     ]
    },
    {
     "name": "stderr",
     "output_type": "stream",
     "text": [
      "/home/laurence/python_modules/dynamicme.git/dynamicme/decomposition.py:2097 \u001b[1;31mUserWarning\u001b[0m: Solution available but Master solver status=suboptimal (13).\n"
     ]
    },
    {
     "name": "stdout",
     "output_type": "stream",
     "text": [
      "       0 -3.954e-05 -3.954e-05   -0.02516   -0.02516   0.02512 6.353e+04       0.5  2.204864  0.267367  1.893465\n",
      "       4 -3.353e-05 -3.954e-05  -0.002886 -1.822e-05-1.531e-05    -45.66    0.0625  15.08424  0.158741  1.914041\n",
      "relgap (-0.456621) <= gaptol (0.0001). Finished.\n"
     ]
    }
   ],
   "source": [
    "master.time_limit = 2*3600\n",
    "#master.max_iter = 500\n",
    "master.print_iter = 5\n",
    "master.verbosity = 1\n",
    "master.solve_relaxed()\n",
    "sol_best = master.optimize()"
   ]
  },
  {
   "cell_type": "markdown",
   "metadata": {},
   "source": [
    "## Bisect feasible error"
   ]
  },
  {
   "cell_type": "code",
   "execution_count": 12,
   "metadata": {
    "collapsed": false,
    "deletable": true,
    "editable": true,
    "scrolled": false
   },
   "outputs": [
    {
     "name": "stdout",
     "output_type": "stream",
     "text": [
      "    Iter                    UB                    LB       gap relgap(%)     delta                       Time(s)\n",
      "  ------   -------------------   -------------------  -------- ---------  -------- -----------------------------\n",
      "               Dual       Feas        Sub       Best                                   total    master       sub\n",
      "       0       1000       1000          0          0      1000       100       0.5  0.055690  0.001400  0.031862\n",
      "       1 -1.603e-11 -1.603e-11          0          0-1.603e-11    -13.82       0.5  0.092551  0.001322  0.015132\n",
      "relgap (-0.138153) <= gaptol (0.0001). Finished.\n",
      "    Iter                    UB                    LB       gap relgap(%)     delta                       Time(s)\n",
      "  ------   -------------------   -------------------  -------- ---------  -------- -----------------------------\n",
      "               Dual       Feas        Sub       Best                                   total    master       sub\n",
      "       0 -2.058e-11 -2.058e-11          4          4        -4-3.317e+12         1  0.618998  0.001394  0.574742\n",
      "relgap (-3.31737e+10) <= gaptol (0.0001). Finished.\n",
      "****************************************\n",
      "A=0. B=0.5. mid=0.5.\n",
      "    Iter                    UB                    LB       gap relgap(%)     delta                       Time(s)\n",
      "  ------   -------------------   -------------------  -------- ---------  -------- -----------------------------\n",
      "               Dual       Feas        Sub       Best                                   total    master       sub\n",
      "       0  7.787e-08  7.787e-08    0.02579    0.02579  -0.02579-3.307e+07         1  0.057501  0.001932  0.033222\n",
      "relgap (-330689) <= gaptol (0.0001). Finished.\n",
      "    Iter                    UB                    LB       gap relgap(%)     delta                       Time(s)\n",
      "  ------   -------------------   -------------------  -------- ---------  -------- -----------------------------\n",
      "               Dual       Feas        Sub       Best                                   total    master       sub\n",
      "       0  1.011e-07  1.011e-07          6          6        -6 -5.93e+09         1  1.138451  0.002056  1.093916\n",
      "relgap (-5.92957e+07) <= gaptol (0.0001). Finished.\n",
      "****************************************\n",
      "A=0. B=0.25. mid=0.25.\n",
      "    Iter                    UB                    LB       gap relgap(%)     delta                       Time(s)\n",
      "  ------   -------------------   -------------------  -------- ---------  -------- -----------------------------\n",
      "               Dual       Feas        Sub       Best                                   total    master       sub\n",
      "       0  8.612e-08  8.612e-08     0.1506     0.1506   -0.1506-1.746e+08         1  0.051481  0.001837  0.032371\n",
      "relgap (-1.74648e+06) <= gaptol (0.0001). Finished.\n",
      "    Iter                    UB                    LB       gap relgap(%)     delta                       Time(s)\n",
      "  ------   -------------------   -------------------  -------- ---------  -------- -----------------------------\n",
      "               Dual       Feas        Sub       Best                                   total    master       sub\n",
      "       0  9.093e-08  9.093e-08         16         16       -16-1.758e+10         1  8.327358  0.002189  8.294113\n",
      "relgap (-1.75764e+08) <= gaptol (0.0001). Finished.\n",
      "****************************************\n",
      "A=0. B=0.125. mid=0.125.\n",
      "    Iter                    UB                    LB       gap relgap(%)     delta                       Time(s)\n",
      "  ------   -------------------   -------------------  -------- ---------  -------- -----------------------------\n",
      "               Dual       Feas        Sub       Best                                   total    master       sub\n",
      "       0  6.296e-08  6.296e-08     0.3531     0.3531   -0.3531-5.599e+08         1  0.051239  0.002119  0.033118\n",
      "relgap (-5.5988e+06) <= gaptol (0.0001). Finished.\n",
      "    Iter                    UB                    LB       gap relgap(%)     delta                       Time(s)\n",
      "  ------   -------------------   -------------------  -------- ---------  -------- -----------------------------\n",
      "               Dual       Feas        Sub       Best                                   total    master       sub\n",
      "       0  5.829e-08  5.829e-08         17         17       -17-2.911e+10         1  3.811433  0.002202  3.776984\n",
      "relgap (-2.9113e+08) <= gaptol (0.0001). Finished.\n",
      "****************************************\n",
      "A=0. B=0.0625. mid=0.0625.\n",
      "    Iter                    UB                    LB       gap relgap(%)     delta                       Time(s)\n",
      "  ------   -------------------   -------------------  -------- ---------  -------- -----------------------------\n",
      "               Dual       Feas        Sub       Best                                   total    master       sub\n",
      "       0  1.186e-07  1.186e-07     0.4968     0.4968   -0.4968-4.184e+08         1  0.059520  0.002350  0.038115\n",
      "relgap (-4.18401e+06) <= gaptol (0.0001). Finished.\n",
      "    Iter                    UB                    LB       gap relgap(%)     delta                       Time(s)\n",
      "  ------   -------------------   -------------------  -------- ---------  -------- -----------------------------\n",
      "               Dual       Feas        Sub       Best                                   total    master       sub\n",
      "       0  9.095e-08  9.095e-08         18         18       -18-1.977e+10         1  3.109824  0.002671  3.073661\n",
      "relgap (-1.97684e+08) <= gaptol (0.0001). Finished.\n",
      "****************************************\n",
      "A=0. B=0.03125. mid=0.03125.\n",
      "    Iter                    UB                    LB       gap relgap(%)     delta                       Time(s)\n",
      "  ------   -------------------   -------------------  -------- ---------  -------- -----------------------------\n",
      "               Dual       Feas        Sub       Best                                   total    master       sub\n",
      "       0  8.202e-08  8.202e-08     0.5687     0.5687   -0.5687-6.925e+08         1  0.054763  0.002749  0.036056\n",
      "relgap (-6.92498e+06) <= gaptol (0.0001). Finished.\n",
      "    Iter                    UB                    LB       gap relgap(%)     delta                       Time(s)\n",
      "  ------   -------------------   -------------------  -------- ---------  -------- -----------------------------\n",
      "               Dual       Feas        Sub       Best                                   total    master       sub\n",
      "       0  4.164e-08  4.164e-08         19         19       -19-4.551e+10         1  2.450607  0.004013  2.413188\n",
      "relgap (-4.55144e+08) <= gaptol (0.0001). Finished.\n",
      "****************************************\n",
      "A=0. B=0.015625. mid=0.015625.\n",
      "    Iter                    UB                    LB       gap relgap(%)     delta                       Time(s)\n",
      "  ------   -------------------   -------------------  -------- ---------  -------- -----------------------------\n",
      "               Dual       Feas        Sub       Best                                   total    master       sub\n",
      "       0   1.24e-10   1.24e-10     0.6046     0.6046   -0.6046-2.699e+11         1  0.053220  0.002701  0.034176\n",
      "relgap (-2.69876e+09) <= gaptol (0.0001). Finished.\n",
      "    Iter                    UB                    LB       gap relgap(%)     delta                       Time(s)\n",
      "  ------   -------------------   -------------------  -------- ---------  -------- -----------------------------\n",
      "               Dual       Feas        Sub       Best                                   total    master       sub\n",
      "       0  7.352e-08  7.352e-08         19         19       -19-2.581e+10         1  3.444328  0.003368  3.406202\n",
      "relgap (-2.58067e+08) <= gaptol (0.0001). Finished.\n",
      "****************************************\n",
      "A=0. B=0.0078125. mid=0.0078125.\n",
      "    Iter                    UB                    LB       gap relgap(%)     delta                       Time(s)\n",
      "  ------   -------------------   -------------------  -------- ---------  -------- -----------------------------\n",
      "               Dual       Feas        Sub       Best                                   total    master       sub\n",
      "       0  5.865e-08  5.865e-08     0.6226     0.6226   -0.6226 -1.06e+09         1  0.057692  0.003701  0.034327\n",
      "relgap (-1.05972e+07) <= gaptol (0.0001). Finished.\n",
      "    Iter                    UB                    LB       gap relgap(%)     delta                       Time(s)\n",
      "  ------   -------------------   -------------------  -------- ---------  -------- -----------------------------\n",
      "               Dual       Feas        Sub       Best                                   total    master       sub\n",
      "       0  6.073e-08  6.073e-08         19         19       -19-3.123e+10         1  2.523231  0.004073  2.486219\n",
      "relgap (-3.12329e+08) <= gaptol (0.0001). Finished.\n",
      "Found solution within precision = 0.01\n"
     ]
    }
   ],
   "source": [
    "master.time_limit = 2*3600\n",
    "#master.max_iter = 500\n",
    "master.print_iter = 5\n",
    "master.verbosity = 1\n",
    "\n",
    "max_iter = 1000\n",
    "A = 0.\n",
    "B = 1.\n",
    "\n",
    "precision = 0.01\n",
    "sol_best = {}\n",
    "\n",
    "for _iter in range(max_iter):\n",
    "    mid = (A+B)/2\n",
    "    f_err = mid\n",
    "    for i,row in df_Y.iterrows():\n",
    "        sub_ind = row['cond']\n",
    "        sub = master.sub_dict[sub_ind]\n",
    "        mu_meas = row['output']\n",
    "        out_id  = row['output_id']        \n",
    "        v_out   = sub.model.getVarByName(out_id+'_%s'%sub._id)\n",
    "        v_out.LB= mu_meas*(1-f_err)\n",
    "        v_out.UB= mu_meas*(1+f_err)\n",
    "    _ = master.solve_relaxed()\n",
    "    sol_master = master.optimize()\n",
    "    if sol_master is None:\n",
    "        A = mid\n",
    "    else:\n",
    "        if B-A <= precision:\n",
    "            print(\"Found solution within precision = %g\" % precision)\n",
    "            break\n",
    "        else:\n",
    "            B = mid\n",
    "            sol_best = sol_master.copy()            \n",
    "            print('*'*40)\n",
    "            print('A=%g. B=%g. mid=%g.'%(A,B,mid))            "
   ]
  },
  {
   "cell_type": "code",
   "execution_count": 29,
   "metadata": {
    "collapsed": true,
    "deletable": true,
    "editable": true
   },
   "outputs": [],
   "source": [
    "var_cons_dict = estk.var_cons_dict\n",
    "powers = estk.powers\n",
    "digits = estk.digits\n",
    "radix  = estk.radix"
   ]
  },
  {
   "cell_type": "code",
   "execution_count": 30,
   "metadata": {
    "collapsed": false,
    "deletable": true,
    "editable": true
   },
   "outputs": [
    {
     "name": "stdout",
     "output_type": "stream",
     "text": [
      "Changed keffs: 38/48\n",
      "Cond=glucose. mu_meas=0.74. mu_sim=0.873922 (unfit=0.873922, error=18.1%). Error=18.1% (-1.13e-10% change)\n",
      "\tEX_glc__D_e uptake=-10\n",
      "\tEX_fru_e uptake=0\n",
      "\tEX_succ_e uptake=0\n",
      "\tEX_mal__L_e uptake=0\n",
      "\tEX_ac_e uptake=0\n",
      "Cond=acetate. mu_meas=0.256. mu_sim=0.255998 (unfit=0.389313, error=52.1%). Error=-0.000844% (-100% change)\n",
      "\tEX_glc__D_e uptake=0\n",
      "\tEX_fru_e uptake=0\n",
      "\tEX_succ_e uptake=0\n",
      "\tEX_mal__L_e uptake=0\n",
      "\tEX_ac_e uptake=-20\n"
     ]
    }
   ],
   "source": [
    "kfit_dict = {}\n",
    "for group_id, var_dict in iteritems(var_cons_dict):\n",
    "    var = var_dict[0]\n",
    "    cons = var_dict[1]\n",
    "    a0  = var_dict[0][2]\n",
    "    kfit = 0.\n",
    "    for l,pwr in enumerate(powers):\n",
    "        for k,digit in enumerate(digits):            \n",
    "            yid = 'binary_%s%s%s' % (group_id,k,l)\n",
    "            y   = sol_best[yid]\n",
    "            kfit += y*a0*radix**pwr*digit\n",
    "    kfit_dict[group_id] = kfit\n",
    "\n",
    "kfit_changed = [(k,v, abs(v-a0)/a0) for k,v in iteritems(kfit_dict) if abs(v-a0)/a0>1e-6]\n",
    "print('Changed keffs: %d/%d' % (len(kfit_changed), len(var_cons_dict)))\n",
    "#----------------------------------------\n",
    "# Starting from basal model\n",
    "csrcs = df_conds.cond.unique()\n",
    "for csrc in csrcs:    \n",
    "    ijofit = load_json_model('/home/laurence/ME/models/e_coli_core_pc.json')\n",
    "    crowding = ijofit.metabolites.get_by_id('crowding')\n",
    "    df_condi = df_conds[ df_conds.cond==csrc]    \n",
    "    for i,row in df_condi.iterrows():\n",
    "        rid = row['rxn']\n",
    "        rxn = ijofit.reactions.get_by_id(rid)\n",
    "        rxn.lower_bound = row['lb']\n",
    "        rxn.upper_bound = row['ub']\n",
    "\n",
    "    for rid,kfit in iteritems(kfit_dict):\n",
    "        rxn = ijofit.reactions.get_by_id(rid)\n",
    "        rxn.add_metabolites({crowding:kfit}, combine=False)\n",
    "    \n",
    "    ijofit.optimize()\n",
    "    \n",
    "    mu_measi = df_meas[ df_meas.substrate==csrc].growth_rate_1_h.iloc[0]\n",
    "    mu_fiti = ijofit.reactions.BIOMASS_Ecoli_core_w_GAM.x\n",
    "    \n",
    "    # Get unfit\n",
    "    for rxn in ijofit.metabolites.crowding.reactions:\n",
    "        rxn._metabolites[crowding] = a0\n",
    "    ijofit.optimize()\n",
    "    mu_unfiti = ijofit.reactions.BIOMASS_Ecoli_core_w_GAM.x\n",
    "    err0= 100*(mu_unfiti-mu_measi)/mu_measi\n",
    "    err = 100*(mu_fiti - mu_measi)/mu_measi\n",
    "    derr= 100*(abs(err)-abs(err0))/abs(err0)\n",
    "    print('Cond=%s. mu_meas=%g. mu_sim=%g (unfit=%g, error=%.3g%%). Error=%.3g%% (%.3g%% change)' % (csrc, mu_measi, mu_fiti, mu_unfiti, err0, err, derr))\n",
    "    for i,row in df_condi.iterrows():\n",
    "        rid = row['rxn']\n",
    "        rxn = ijofit.reactions.get_by_id(rid)        \n",
    "        print('\\t%s uptake=%g' % (rxn.id, rxn.x))"
   ]
  },
  {
   "cell_type": "code",
   "execution_count": 33,
   "metadata": {
    "collapsed": false,
    "deletable": true,
    "editable": true
   },
   "outputs": [
    {
     "name": "stdout",
     "output_type": "stream",
     "text": [
      "  binary_G6P         1.0         1.0        True\n",
      "  binary_G6P         1.0         1.0        True\n",
      "  binary_G6P         0.0         0.0        True\n",
      "  binary_AKG         1.0         1.0        True\n",
      "  binary_AKG         1.0         1.0        True\n",
      "  binary_AKG         1.0         1.0        True\n",
      "  binary_ACK         1.0         1.0        True\n",
      "  binary_ACK         1.0         1.0        True\n",
      "  binary_ACK         1.0         1.0        True\n",
      "  binary_MAL         0.0         0.0        True\n",
      "  binary_MAL         0.0         0.0        True\n",
      "  binary_MAL         1.0         1.0        True\n",
      "  binary_GLU         1.0         1.0        True\n",
      "  binary_GLU         0.0         0.0        True\n",
      "  binary_GLU         0.0         0.0        True\n",
      "  binary_ME1         0.0         0.0        True\n",
      "  binary_ME1         0.0         0.0        True\n",
      "  binary_ME1         1.0         1.0        True\n",
      "  binary_GND         0.0         0.0        True\n",
      "  binary_GND         1.0         1.0        True\n",
      "  binary_GND         0.0         0.0        True\n",
      "  binary_ME2         0.0         0.0        True\n",
      "  binary_ME2         0.0         0.0        True\n",
      "  binary_ME2         1.0         1.0        True\n",
      "  binary_GLN         1.0         1.0        True\n",
      "  binary_GLN         1.0         1.0        True\n",
      "  binary_GLN         1.0         1.0        True\n",
      "  binary_ADK         1.0         1.0        True\n",
      "  binary_ADK         0.0         0.0        True\n",
      "  binary_ADK         1.0         1.0        True\n",
      "  binary_SUC         1.0         1.0        True\n",
      "  binary_SUC         1.0         1.0        True\n",
      "  binary_SUC         1.0         1.0        True\n",
      "  binary_PPC         0.0         0.0        True\n",
      "  binary_PPC         1.0         1.0        True\n",
      "  binary_PPC         0.0         0.0        True\n",
      "  binary_MDH         0.0         0.0        True\n",
      "  binary_MDH         1.0         1.0        True\n",
      "  binary_MDH         0.0         0.0        True\n",
      "  binary_FUM         0.0         0.0        True\n",
      "  binary_FUM         1.0         1.0        True\n",
      "  binary_FUM         1.0         1.0        True\n",
      "  binary_GLU         0.0         0.0        True\n",
      "  binary_GLU         1.0         1.0        True\n",
      "  binary_GLU         0.0         0.0        True\n",
      "  binary_GLU         1.0         1.0        True\n",
      "  binary_GLU         1.0         1.0        True\n",
      "  binary_GLU         1.0         1.0        True\n",
      "  binary_PGL         0.0         0.0        True\n",
      "  binary_PGL         1.0         1.0        True\n",
      "  binary_PGL         0.0         0.0        True\n",
      "  binary_PGM         1.0         1.0        True\n",
      "  binary_PGM         0.0         0.0        True\n",
      "  binary_PGM         1.0         1.0        True\n",
      "  binary_ACA         1.0         1.0        True\n",
      "  binary_ACA         1.0         1.0        True\n",
      "  binary_ACA         0.0         0.0        True\n",
      "  binary_PGK         0.0         0.0        True\n",
      "  binary_PGK         0.0         0.0        True\n",
      "  binary_PGK         1.0         1.0        True\n",
      "  binary_PGI         1.0         1.0        True\n",
      "  binary_PGI         0.0         0.0        True\n",
      "  binary_PGI         1.0         1.0        True\n",
      "  binary_PPS         0.0         0.0        True\n",
      "  binary_PPS         1.0         1.0        True\n",
      "  binary_PPS         0.0         0.0        True\n",
      "  binary_PTA         1.0         1.0        True\n",
      "  binary_PTA         0.0         0.0        True\n",
      "  binary_PTA         1.0         1.0        True\n",
      "  binary_TAL         1.0         1.0        True\n",
      "  binary_TAL         1.0         1.0        True\n",
      "  binary_TAL         0.0         0.0        True\n",
      "  binary_ALC         1.0         1.0        True\n",
      "  binary_ALC         0.0         0.0        True\n",
      "  binary_ALC         0.0         0.0        True\n",
      "  binary_RPI         1.0         1.0        True\n",
      "  binary_RPI         1.0         1.0        True\n",
      "  binary_RPI         1.0         1.0        True\n",
      "  binary_RPE         0.0         0.0        True\n",
      "  binary_RPE        -0.0        -0.0        True\n",
      "  binary_RPE         1.0         1.0        True\n",
      "  binary_PPC         1.0         1.0        True\n",
      "  binary_PPC         0.0         0.0        True\n",
      "  binary_PPC         1.0         1.0        True\n",
      "  binary_NAD         0.0         0.0        True\n",
      "  binary_NAD         1.0         1.0        True\n",
      "  binary_NAD         1.0         1.0        True\n",
      "  binary_ICD         0.0         0.0        True\n",
      "  binary_ICD         0.0         0.0        True\n",
      "  binary_ICD         1.0         1.0        True\n",
      "  binary_GAP         1.0         1.0        True\n",
      "  binary_GAP         0.0         0.0        True\n",
      "  binary_GAP         0.0         0.0        True\n",
      "  binary_ICL         1.0         1.0        True\n",
      "  binary_ICL         0.0         0.0        True\n",
      "  binary_ICL         0.0         0.0        True\n",
      "  binary_TPI         1.0         1.0        True\n",
      "  binary_TPI         0.0         0.0        True\n",
      "  binary_TPI         0.0         0.0        True\n",
      "  binary_ENO         0.0         0.0        True\n",
      "  binary_ENO         0.0         0.0        True\n",
      "  binary_ENO         1.0         1.0        True\n",
      "  binary_ACO        -0.0        -0.0        True\n",
      "  binary_ACO         1.0         1.0        True\n",
      "  binary_ACO         1.0         1.0        True\n",
      "  binary_SUC         0.0         0.0        True\n",
      "  binary_SUC         1.0         1.0        True\n",
      "  binary_SUC         0.0         0.0        True\n",
      "  binary_ACO         1.0         1.0        True\n",
      "  binary_ACO         0.0         0.0        True\n",
      "  binary_ACO         1.0         1.0        True\n",
      "  binary_PDH         1.0         1.0        True\n",
      "  binary_PDH         1.0         1.0        True\n",
      "  binary_PDH         0.0         0.0        True\n",
      "  binary_CS0         1.0         1.0        True\n",
      "  binary_CS0         1.0         1.0        True\n",
      "  binary_CS0         1.0         1.0        True\n",
      "  binary_FBP         0.0         0.0        True\n",
      "  binary_FBP         1.0         1.0        True\n",
      "  binary_FBP         1.0         1.0        True\n",
      "  binary_TKT         0.0         0.0        True\n",
      "  binary_TKT         0.0         0.0        True\n",
      "  binary_TKT         1.0         1.0        True\n",
      "  binary_TKT         0.0         0.0        True\n",
      "  binary_TKT         0.0         0.0        True\n",
      "  binary_TKT         1.0         1.0        True\n",
      "  binary_PFK         1.0         1.0        True\n",
      "  binary_PFK         1.0         1.0        True\n",
      "  binary_PFK         0.0         0.0        True\n",
      "  binary_PFL         1.0         1.0        True\n",
      "  binary_PFL         1.0         1.0        True\n",
      "  binary_PFL         1.0         1.0        True\n",
      "  binary_FBA         1.0         1.0        True\n",
      "  binary_FBA         0.0         0.0        True\n",
      "  binary_FBA         1.0         1.0        True\n",
      "  binary_PYK         1.0         1.0        True\n",
      "  binary_PYK         1.0         1.0        True\n",
      "  binary_PYK         0.0         0.0        True\n",
      "  binary_LDH         1.0         1.0        True\n",
      "  binary_LDH         1.0         1.0        True\n",
      "  binary_LDH         0.0         0.0        True\n",
      "  binary_FRD         1.0         1.0        True\n",
      "  binary_FRD         0.0         0.0        True\n",
      "  binary_FRD         0.0         0.0        True\n"
     ]
    }
   ],
   "source": [
    "y_sames = []\n",
    "for y in sub._ys:\n",
    "    sub1 = master.sub_dict['acetate']\n",
    "    sub2 = master.sub_dict['glucose']\n",
    "    y1 = sub1.x_dict[y.VarName]\n",
    "    y2 = sub2.x_dict[y.VarName]\n",
    "    y_sames.append(abs(y1-y2)<1e-10)\n",
    "    print('%12.10s%12.10s%12.10s%12.10s'%(y.VarName,y1,y2, abs(y1-y2)<1e-10))    "
   ]
  },
  {
   "cell_type": "code",
   "execution_count": 34,
   "metadata": {
    "collapsed": false,
    "deletable": true,
    "editable": true
   },
   "outputs": [
    {
     "name": "stdout",
     "output_type": "stream",
     "text": [
      "num same = 144/144\n"
     ]
    }
   ],
   "source": [
    "print('num same = %s/%s'%(sum(y_sames), len(y_sames)))"
   ]
  }
 ],
 "metadata": {
  "kernelspec": {
   "display_name": "Python 2",
   "language": "python",
   "name": "python2"
  },
  "language_info": {
   "codemirror_mode": {
    "name": "ipython",
    "version": 2
   },
   "file_extension": ".py",
   "mimetype": "text/x-python",
   "name": "python",
   "nbconvert_exporter": "python",
   "pygments_lexer": "ipython2",
   "version": "2.7.14"
  }
 },
 "nbformat": 4,
 "nbformat_minor": 2
}
