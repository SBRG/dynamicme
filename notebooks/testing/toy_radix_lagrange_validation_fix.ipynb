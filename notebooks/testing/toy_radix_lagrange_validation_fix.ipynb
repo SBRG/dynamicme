{
 "cells": [
  {
   "cell_type": "markdown",
   "metadata": {
    "deletable": true,
    "editable": true
   },
   "source": [
    "# Toy Radix Lagrangean decomposition validation"
   ]
  },
  {
   "cell_type": "code",
   "execution_count": 1,
   "metadata": {
    "collapsed": true,
    "deletable": true,
    "editable": true
   },
   "outputs": [],
   "source": [
    "REG_WEIGHT   = 0. #1e-4\n",
    "MAX_NONZERO  = None #48*2\n",
    "PREVENT_ZERO = True\n",
    "POWERS       = [-1,0,1] #[-2,-1,0,1,2]\n",
    "TWO_PHASE    = True"
   ]
  },
  {
   "cell_type": "code",
   "execution_count": 2,
   "metadata": {
    "collapsed": false,
    "deletable": true,
    "editable": true
   },
   "outputs": [],
   "source": [
    "%load_ext line_profiler"
   ]
  },
  {
   "cell_type": "code",
   "execution_count": 3,
   "metadata": {
    "collapsed": false,
    "deletable": true,
    "editable": true
   },
   "outputs": [],
   "source": [
    "from gurobipy import *\n",
    "\n",
    "import seaborn as sns\n",
    "import pandas as pd\n",
    "import matplotlib.pyplot as plt\n",
    "import numpy as np\n",
    "\n",
    "plt.rcParams['svg.fonttype'] = 'none'\n",
    "pd.set_option('display.max_colwidth', -1)\n",
    "%matplotlib inline\n",
    "\n",
    "from cobra.io import load_json_model\n",
    "from six import iteritems\n",
    "import numpy as np\n",
    "import cobra"
   ]
  },
  {
   "cell_type": "code",
   "execution_count": 4,
   "metadata": {
    "collapsed": true,
    "deletable": true,
    "editable": true
   },
   "outputs": [],
   "source": [
    "ijomc = load_json_model('/home/laurence/ME/models/e_coli_core_pc.json')"
   ]
  },
  {
   "cell_type": "code",
   "execution_count": 5,
   "metadata": {
    "collapsed": false,
    "deletable": true,
    "editable": true
   },
   "outputs": [
    {
     "name": "stdout",
     "output_type": "stream",
     "text": [
      "0.873921506968\n"
     ]
    }
   ],
   "source": [
    "ijomc.optimize()\n",
    "mu_crowd0 = ijomc.reactions.BIOMASS_Ecoli_core_w_GAM.x\n",
    "print(mu_crowd0)"
   ]
  },
  {
   "cell_type": "code",
   "execution_count": 6,
   "metadata": {
    "collapsed": false,
    "deletable": true,
    "editable": true
   },
   "outputs": [],
   "source": [
    "df_meas = pd.read_csv('/home/laurence/ME/data/dynamicME/beg/growth_meas.csv')\n",
    "\n",
    "ex_rxns = [r for r in df_meas.ex_rxn.unique() if ijomc.reactions.has_id(r)]\n",
    "df_meas = df_meas[ df_meas.ex_rxn.isin(ex_rxns)]\n",
    "conds = df_meas.substrate.unique()\n",
    "\n",
    "#N_CONDS = len(conds)\n",
    "N_CONDS = 2\n",
    "\n",
    "df_conds = pd.DataFrame([{'cond':r['substrate'], 'rxn':ex_rxn, 'lb':-10 if r['ex_rxn']==ex_rxn else 0, 'ub':1000., 'obj':0.} for i,r in df_meas.iterrows() for ex_rxn in ex_rxns])\n",
    "\n",
    "if N_CONDS==1:\n",
    "    df_conds = df_conds[ df_conds.cond=='acetate']\n",
    "elif N_CONDS<=3:\n",
    "    df_conds = df_conds[ df_conds.cond.isin(['glucose','acetate','succinate'][0:N_CONDS])]\n",
    "else:\n",
    "    df_conds = df_conds[ df_conds.cond.isin(conds[0:N_CONDS])]\n",
    "\n",
    "df_conds.loc[ (df_conds.cond=='acetate') & (df_conds.rxn=='EX_ac_e'), 'lb'] = -20"
   ]
  },
  {
   "cell_type": "markdown",
   "metadata": {
    "deletable": true,
    "editable": true
   },
   "source": [
    "# Make radix problem"
   ]
  },
  {
   "cell_type": "code",
   "execution_count": 7,
   "metadata": {
    "collapsed": false,
    "deletable": true,
    "editable": true
   },
   "outputs": [],
   "source": [
    "from dynamicme.estimate import RadixEstimator"
   ]
  },
  {
   "cell_type": "code",
   "execution_count": 8,
   "metadata": {
    "collapsed": false,
    "deletable": true,
    "editable": true
   },
   "outputs": [],
   "source": [
    "df_Y = df_meas.rename(columns={'growth_rate_1_h':'output', 'substrate':'cond'})\n",
    "df_Y.loc[:,'output_id'] = 'BIOMASS_Ecoli_core_w_GAM'\n",
    "df_X = df_conds"
   ]
  },
  {
   "cell_type": "code",
   "execution_count": 9,
   "metadata": {
    "collapsed": false,
    "deletable": true,
    "editable": true
   },
   "outputs": [
    {
     "name": "stdout",
     "output_type": "stream",
     "text": [
      "Changed value of parameter OutputFlag to 1\n",
      "   Prev: 0  Min: 0  Max: 1  Default: 1\n",
      "Changed value of parameter ScaleFlag to 0\n",
      "   Prev: -1  Min: -1  Max: 3  Default: -1\n",
      "Parameter OutputFlag unchanged\n",
      "   Value: 1  Min: 0  Max: 1  Default: 1\n",
      "Changed value of parameter TimeLimit to 7200.0\n",
      "   Prev: 1e+100  Min: 0.0  Max: 1e+100  Default: 1e+100\n"
     ]
    }
   ],
   "source": [
    "est = RadixEstimator()\n",
    "est.fit(ijomc, df_X, df_Y, reg_weight = REG_WEIGHT, max_nonzero_binaries=MAX_NONZERO, optimize=False,\n",
    "       powers=POWERS)\n",
    "\n",
    "est.milp.Params.ScaleFlag = 0\n",
    "est.milp.Params.OutputFlag = 1\n",
    "est.milp.Params.TimeLimit = 2*3600.\n",
    "# est.milp.Params.Presolve = 0\n",
    "# est.milp.Params.FeasibilityTol = 1e-8\n",
    "# est.milp.Params.OptimalityTol = 1e-8\n",
    "\n",
    "# est.optimize()"
   ]
  },
  {
   "cell_type": "markdown",
   "metadata": {
    "deletable": true,
    "editable": true
   },
   "source": [
    "## Validate the fit"
   ]
  },
  {
   "cell_type": "markdown",
   "metadata": {
    "collapsed": true,
    "deletable": true,
    "editable": true
   },
   "source": [
    "base_model = load_json_model('/home/laurence/ME/models/e_coli_core_pc.json')\n",
    "\n",
    "mu_id = 'BIOMASS_Ecoli_core_w_GAM'\n",
    "df_pred = est.predict(df_X, base_model, meas_id=mu_id)\n",
    "\n",
    "df_Y2 = df_Y[[c for c in df_Y.columns if c not in ['order','ex_rxn']]]\n",
    "df_val = pd.merge(df_Y2.rename(columns={'output':'meas'}), df_pred.rename(columns={'rxn':'output_id','x':'pred'}), on=['cond','output_id'])\n",
    "df_val.loc[:,'error'] = (df_val.pred - df_val.meas)\n",
    "df_val.loc[:,'perror'] = df_val.error / df_val.meas * 100\n",
    "df_val\n",
    "\n",
    "a0 = 1./65/3600\n",
    "kfit_dict0 = {k:a0 for k in est.kfit_dict.keys()}\n",
    "df_ref = est.predict(df_X, base_model, meas_id=mu_id, kfit_dict=kfit_dict0)\n",
    "df_ref.rename(columns={'rxn':'output_id','x':'output'}, inplace=True)\n",
    "\n",
    "df_val0 = pd.merge(df_Y2.rename(columns={'output':'meas'}), df_ref.rename(columns={'output':'pred0'}), on=['cond','output_id'])\n",
    "df_val0.loc[:,'error0'] = (df_val0.pred0 - df_val0.meas)\n",
    "df_val0.loc[:,'perror0'] = df_val0.error0 / df_val0.meas * 100\n",
    "\n",
    "df_comp = pd.merge(df_val, df_val0, on=['cond','output_id','meas'])\n",
    "df_comp.loc[:,'error_change'] = (df_comp.error.abs()-df_comp.error0.abs()) / df_comp.error0.abs() * 100\n",
    "df_comp\n",
    "\n",
    "print('Total abs error: %g' % df_comp.error.abs().sum())\n",
    "print('Total perc error: %g%%' % df_comp.perror.abs().sum())\n",
    "print('Total error change: %g%%' % df_comp.error_change.sum())\n",
    "changed = [abs(est.kfit_dict[k]-kfit_dict0[k])>1e-9 for k in est.kfit_dict.keys()]\n",
    "print('Number of keffs changed: %d/%d (%g%%)' % (sum(changed),len(est.kfit_dict), 100*sum(changed)/len(est.kfit_dict) ))"
   ]
  },
  {
   "cell_type": "markdown",
   "metadata": {
    "deletable": true,
    "editable": true
   },
   "source": [
    "# Each Lagrange submodel should start with the optimum"
   ]
  },
  {
   "cell_type": "code",
   "execution_count": 10,
   "metadata": {
    "collapsed": true,
    "deletable": true,
    "editable": true
   },
   "outputs": [],
   "source": [
    "from dynamicme.decomposition import LagrangeMaster, LagrangeSubmodel"
   ]
  },
  {
   "cell_type": "code",
   "execution_count": 11,
   "metadata": {
    "collapsed": false,
    "deletable": true,
    "editable": true
   },
   "outputs": [
    {
     "name": "stdout",
     "output_type": "stream",
     "text": [
      "Changed value of parameter OutputFlag to 1\n",
      "   Prev: 0  Min: 0  Max: 1  Default: 1\n",
      "Changed value of parameter OutputFlag to 1\n",
      "   Prev: 0  Min: 0  Max: 1  Default: 1\n"
     ]
    }
   ],
   "source": [
    "conds = df_conds.cond.unique()\n",
    "sub_dict = {}\n",
    "for cond in conds:\n",
    "    df_Xk = df_X[ df_X.cond==cond]\n",
    "    df_Yk = df_Y[ df_Y.cond==cond]\n",
    "    estk = RadixEstimator()\n",
    "    estk.fit(ijomc, df_Xk, df_Yk, reg_weight = REG_WEIGHT, max_nonzero_binaries=MAX_NONZERO, optimize=False,\n",
    "            powers=POWERS)\n",
    "    sub = LagrangeSubmodel(estk.stacker.model, cond)\n",
    "    sub_dict[cond] = sub"
   ]
  },
  {
   "cell_type": "code",
   "execution_count": null,
   "metadata": {
    "collapsed": true,
    "deletable": true,
    "editable": true
   },
   "outputs": [],
   "source": [
    "master = LagrangeMaster(estk.stacker.model)\n",
    "master.add_submodels(sub_dict)"
   ]
  },
  {
   "cell_type": "markdown",
   "metadata": {
    "deletable": true,
    "editable": true
   },
   "source": [
    "### Two-phase"
   ]
  },
  {
   "cell_type": "code",
   "execution_count": null,
   "metadata": {
    "collapsed": false,
    "deletable": true,
    "editable": true,
    "scrolled": false
   },
   "outputs": [
    {
     "name": "stdout",
     "output_type": "stream",
     "text": [
      "    Iter                    UB                    LB       gap relgap(%)   penalty                       Time(s)\n",
      "  ------   -------------------   -------------------  -------- ---------  -------- -----------------------------\n",
      "               Dual       Best        Sub       Best                                   total    master       sub\n",
      "       0       1000       1000          0          0      1000       100         0  0.055721  0.002856  0.051186\n",
      "       5      2.007      2.007     -95.76          0     2.007       100      1.66  0.167788  0.000996  0.017461\n",
      "      10     0.1937     0.1937     -151.1          0    0.1937       100     0.128  0.272109  0.001423  0.019748\n",
      "      15    0.06462    0.06462     -322.8          0   0.06462       100    0.0177  0.382028  0.001732  0.024418\n",
      "      20    0.04204    0.04204     -538.7          0   0.04204       100     0.002  0.488382  0.002477  0.021023\n",
      "      25    0.03978    0.03978      -1091          0   0.03978       100  0.000191  0.613691  0.003054  0.019202\n",
      "      30    0.03954    0.03954     -841.8          0   0.03954       100  5.15e-06  0.732356  0.003885  0.022912\n",
      "      35    0.03954    0.03954     -251.2          0   0.03954       100  1.01e-07  0.860724  0.005029  0.021163\n",
      "      40    0.03954    0.03954     -63.12          0   0.03954       100  3.27e-09  1.006415  0.008117  0.019845\n",
      "      45    0.03954    0.03954     -26.83          0   0.03954       100  9.31e-10  1.179340  0.010104  0.033372\n",
      "      50    0.03954    0.03954     -14.38          0   0.03954       100  4.58e-10  1.343501  0.009644  0.027798\n",
      "      55    0.03954    0.03954     -24.96          0   0.03954       100  6.52e-10  1.516654  0.011613  0.024101\n",
      "      60    0.03954    0.03954     -18.75          0   0.03954       100  4.96e-10  1.697843  0.013014  0.022417\n",
      "      65    0.03954    0.03954     -20.46          0   0.03954       100  6.35e-10  1.881438  0.014914  0.023642\n",
      "      70    0.03954    0.03954     -20.91          0   0.03954       100  3.93e-10  2.070060  0.019457  0.019105\n",
      "      75    0.03954    0.03954     -11.03          0   0.03954       100   5.1e-10  2.259938  0.014586  0.023636\n",
      "      80    0.03954    0.03954     -7.136          0   0.03954       100  1.16e-10  2.459927  0.017271  0.020236\n",
      "      85    0.03954    0.03954     -10.44          0   0.03954       100  2.83e-10  2.670244  0.018509  0.024915\n",
      "      90    0.03951    0.03951     -10.18          0   0.03951       100  7.66e-11  2.868918  0.019716  0.023370\n",
      "      95    0.03899    0.03899     -3.728          0   0.03899       100  1.95e-11  3.066138  0.017376  0.020487\n",
      "     100     0.0292     0.0292     -4.532          0    0.0292       100  4.95e-11  3.286389  0.019236  0.023368\n",
      "     105    0.01184    0.01184     -1.312          0   0.01184       100   1.9e-12  3.510371  0.022530  0.020491\n",
      "     110   0.006049   0.006049       -1.5          0  0.006049       100   6.5e-10  3.728181  0.022218  0.019663\n",
      "     115   0.001958   0.001958    -0.5284          0  0.001958       100  6.16e-13  4.015904  0.022412  0.030194\n"
     ]
    },
    {
     "name": "stderr",
     "output_type": "stream",
     "text": [
      "/home/laurence/python_modules/dynamicme.git/dynamicme/decomposition.py:2106 \u001b[1;31mUserWarning\u001b[0m: Solution available but Master solver status=suboptimal (13).\n"
     ]
    },
    {
     "name": "stdout",
     "output_type": "stream",
     "text": [
      "     120  0.0006885  0.0006885     -3.378          0 0.0006885       100  3.13e-10  4.293296  0.029710  0.028223\n",
      "     125  0.0002804  0.0002804    -0.1875          0 0.0002804       100  3.96e-14  4.579910  0.027501  0.042211\n",
      "Master solver status=suboptimal (13).\n",
      "     130  1.208e-08  1.208e-08 -4.204e-08          0         0         0  1.57e-14  4.976670  0.029793  0.018113\n",
      "    Iter                    UB                    LB       gap relgap(%)   penalty                       Time(s)\n",
      "  ------   -------------------   -------------------  -------- ---------  -------- -----------------------------\n",
      "               Dual       Best        Sub       Best                                   total    master       sub\n",
      "Master solver status=suboptimal (13).\n",
      "       0 -0.0002177 -0.0002177   -0.02893   -0.02893   0.02871 1.319e+04  5.68e-06  2.240278  0.132246  2.107359\n"
     ]
    }
   ],
   "source": [
    "master.time_limit = 2*3600\n",
    "#master.max_iter = 500\n",
    "master.verbosity = 2\n",
    "master.print_iter = 5\n",
    "# master.gaptol = 0.02\n",
    "master.gaptol = 1e-4\n",
    "feasible_method = 'enumerate'\n",
    "alt_method = 'pool'\n",
    "max_alt = 50    # Computationally expensive if too large. Might miss feasible solution if too small.\n",
    "                # Can make adaptive if no feasible solution found for certain iterations.\n",
    "\n",
    "if TWO_PHASE:\n",
    "    sol_master = master.solve_relaxed(feasible_method=None)\n",
    "\n",
    "sol_master = master.optimize(feasible_method=feasible_method, max_alt=max_alt, alt_method=alt_method) "
   ]
  },
  {
   "cell_type": "code",
   "execution_count": null,
   "metadata": {
    "collapsed": true,
    "deletable": true,
    "editable": true
   },
   "outputs": [],
   "source": [
    "var_cons_dict = estk.var_cons_dict\n",
    "powers = estk.powers\n",
    "digits = estk.digits\n",
    "radix  = estk.radix"
   ]
  },
  {
   "cell_type": "code",
   "execution_count": null,
   "metadata": {
    "collapsed": true,
    "deletable": true,
    "editable": true
   },
   "outputs": [],
   "source": [
    "# sol_masterk = sub_dict['acetate'].x_dict\n",
    "# sol_masterk = sub_dict['glucose'].x_dict"
   ]
  },
  {
   "cell_type": "code",
   "execution_count": null,
   "metadata": {
    "collapsed": false,
    "deletable": true,
    "editable": true
   },
   "outputs": [],
   "source": [
    "kfit_dict = {}\n",
    "for group_id, var_dict in iteritems(var_cons_dict):\n",
    "    var = var_dict[0]\n",
    "    cons = var_dict[1]\n",
    "    a0  = var_dict[0][2]\n",
    "    kfit = 0.\n",
    "    for l,pwr in enumerate(powers):\n",
    "        for k,digit in enumerate(digits):            \n",
    "            yid = 'binary_%s%s%s' % (group_id,k,l)\n",
    "            y   = sol_master[yid]\n",
    "#             y   = sol_masterk[yid]\n",
    "            kfit += y*a0*radix**pwr*digit\n",
    "    kfit_dict[group_id] = kfit\n",
    "\n",
    "kfit_changed = [(k,v, abs(v-a0)/a0) for k,v in iteritems(kfit_dict) if abs(v-a0)/a0>1e-6]\n",
    "print('Changed keffs: %d/%d' % (len(kfit_changed), len(var_cons_dict)))\n",
    "#----------------------------------------\n",
    "# Starting from basal model\n",
    "perrs = []\n",
    "csrcs = df_conds.cond.unique()\n",
    "for csrc in csrcs:    \n",
    "    ijofit = load_json_model('/home/laurence/ME/models/e_coli_core_pc.json')\n",
    "    crowding = ijofit.metabolites.get_by_id('crowding')\n",
    "    df_condi = df_conds[ df_conds.cond==csrc]    \n",
    "    for i,row in df_condi.iterrows():\n",
    "        rid = row['rxn']\n",
    "        rxn = ijofit.reactions.get_by_id(rid)\n",
    "        rxn.lower_bound = row['lb']\n",
    "        rxn.upper_bound = row['ub']\n",
    "\n",
    "    for rid,kfit in iteritems(kfit_dict):\n",
    "        rxn = ijofit.reactions.get_by_id(rid)\n",
    "        rxn.add_metabolites({crowding:kfit}, combine=False)\n",
    "    \n",
    "    ijofit.optimize()\n",
    "    \n",
    "    mu_measi = df_meas[ df_meas.substrate==csrc].growth_rate_1_h.iloc[0]\n",
    "    mu_fiti = ijofit.reactions.BIOMASS_Ecoli_core_w_GAM.x\n",
    "    \n",
    "    # Get unfit\n",
    "    for rxn in ijofit.metabolites.crowding.reactions:\n",
    "        rxn._metabolites[crowding] = a0\n",
    "    ijofit.optimize()\n",
    "    mu_unfiti = ijofit.reactions.BIOMASS_Ecoli_core_w_GAM.x\n",
    "    err0= 100*(mu_unfiti-mu_measi)/mu_measi\n",
    "    err = 100*(mu_fiti - mu_measi)/mu_measi\n",
    "    derr= 100*(abs(err)-abs(err0))/abs(err0)\n",
    "    perrs.append(err)\n",
    "    print('Cond=%s. mu_meas=%g. mu_sim=%g (unfit=%g, error=%.3g%%). Error=%.3g%% (%.3g%% change)' % (\n",
    "        csrc, mu_measi, mu_fiti, mu_unfiti, err0, err, derr))\n",
    "    for i,row in df_condi.iterrows():\n",
    "        rid = row['rxn']\n",
    "        rxn = ijofit.reactions.get_by_id(rid)        \n",
    "        print('\\t%s uptake=%g' % (rxn.id, rxn.x))\n",
    "perrs = np.array(perrs)\n",
    "print(\"Absolute percent error: %g%% -- %g%%\"%(min(abs(perrs)), max(abs(perrs))))\n",
    "print(\"Mean abs percent error = %g%%\"%(np.mean(abs(perrs))))\n",
    "print(\"Median abs percent error = %g%%\"%(np.median(abs(perrs))))"
   ]
  },
  {
   "cell_type": "markdown",
   "metadata": {},
   "source": [
    "## Confirm that all ys the same"
   ]
  },
  {
   "cell_type": "code",
   "execution_count": null,
   "metadata": {
    "collapsed": false,
    "deletable": true,
    "editable": true
   },
   "outputs": [],
   "source": [
    "y_sames = []\n",
    "for y in sub._ys:\n",
    "    sub1 = sub_dict['acetate']\n",
    "    sub2 = sub_dict['glucose']\n",
    "    y1 = sub1.x_dict[y.VarName]\n",
    "    y2 = sub2.x_dict[y.VarName]\n",
    "    y_sames.append(abs(y1-y2)<1e-10)\n",
    "    print('%12.10s%12.10s%12.10s%12.10s'%(y.VarName,y1,y2, abs(y1-y2)<1e-10))    "
   ]
  },
  {
   "cell_type": "code",
   "execution_count": null,
   "metadata": {
    "collapsed": false,
    "deletable": true,
    "editable": true
   },
   "outputs": [],
   "source": [
    "print('num same = %s/%s'%(sum(y_sames), len(y_sames)))"
   ]
  }
 ],
 "metadata": {
  "kernelspec": {
   "display_name": "Python 2",
   "language": "python",
   "name": "python2"
  },
  "language_info": {
   "codemirror_mode": {
    "name": "ipython",
    "version": 2
   },
   "file_extension": ".py",
   "mimetype": "text/x-python",
   "name": "python",
   "nbconvert_exporter": "python",
   "pygments_lexer": "ipython2",
   "version": "2.7.14"
  }
 },
 "nbformat": 4,
 "nbformat_minor": 2
}
