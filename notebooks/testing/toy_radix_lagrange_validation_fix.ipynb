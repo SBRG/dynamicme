{
 "cells": [
  {
   "cell_type": "markdown",
   "metadata": {
    "deletable": true,
    "editable": true
   },
   "source": [
    "# Toy Radix Lagrangean decomposition validation"
   ]
  },
  {
   "cell_type": "code",
   "execution_count": 1,
   "metadata": {
    "collapsed": false,
    "deletable": true,
    "editable": true
   },
   "outputs": [],
   "source": [
    "REG_WEIGHT   = 0. #1e-4\n",
    "MAX_NONZERO  = None #48*2\n",
    "PREVENT_ZERO = True\n",
    "POWERS       = [-1,0,1] #[-2,-1,0,1,2]\n",
    "TWO_PHASE    = True"
   ]
  },
  {
   "cell_type": "code",
   "execution_count": 2,
   "metadata": {
    "collapsed": false,
    "deletable": true,
    "editable": true
   },
   "outputs": [],
   "source": [
    "%load_ext line_profiler"
   ]
  },
  {
   "cell_type": "code",
   "execution_count": 3,
   "metadata": {
    "collapsed": false,
    "deletable": true,
    "editable": true
   },
   "outputs": [],
   "source": [
    "from gurobipy import *\n",
    "\n",
    "import seaborn as sns\n",
    "import pandas as pd\n",
    "import matplotlib.pyplot as plt\n",
    "import numpy as np\n",
    "\n",
    "plt.rcParams['svg.fonttype'] = 'none'\n",
    "pd.set_option('display.max_colwidth', -1)\n",
    "%matplotlib inline\n",
    "\n",
    "from cobra.io import load_json_model\n",
    "from six import iteritems\n",
    "import numpy as np\n",
    "import cobra"
   ]
  },
  {
   "cell_type": "code",
   "execution_count": 4,
   "metadata": {
    "collapsed": true,
    "deletable": true,
    "editable": true
   },
   "outputs": [],
   "source": [
    "ijomc = load_json_model('/home/laurence/ME/models/e_coli_core_pc.json')"
   ]
  },
  {
   "cell_type": "code",
   "execution_count": 5,
   "metadata": {
    "collapsed": false,
    "deletable": true,
    "editable": true
   },
   "outputs": [
    {
     "name": "stdout",
     "output_type": "stream",
     "text": [
      "0.873921506968\n"
     ]
    }
   ],
   "source": [
    "ijomc.optimize()\n",
    "mu_crowd0 = ijomc.reactions.BIOMASS_Ecoli_core_w_GAM.x\n",
    "print(mu_crowd0)"
   ]
  },
  {
   "cell_type": "code",
   "execution_count": 6,
   "metadata": {
    "collapsed": false,
    "deletable": true,
    "editable": true
   },
   "outputs": [],
   "source": [
    "df_meas = pd.read_csv('/home/laurence/ME/data/dynamicME/beg/growth_meas.csv')\n",
    "\n",
    "ex_rxns = [r for r in df_meas.ex_rxn.unique() if ijomc.reactions.has_id(r)]\n",
    "df_meas = df_meas[ df_meas.ex_rxn.isin(ex_rxns)]\n",
    "conds = df_meas.substrate.unique()\n",
    "\n",
    "N_CONDS = len(conds)\n",
    "#N_CONDS = ['succinate','malate']\n",
    "\n",
    "df_conds = pd.DataFrame([{'cond':r['substrate'], 'rxn':ex_rxn, 'lb':-10 if r['ex_rxn']==ex_rxn else 0, 'ub':1000., 'obj':0.} for i,r in df_meas.iterrows() for ex_rxn in ex_rxns])\n",
    "\n",
    "if hasattr(N_CONDS,'__iter__'):\n",
    "    df_conds = df_conds[ df_conds.cond.isin(N_CONDS)]\n",
    "    N_CONDS = len(N_CONDS)\n",
    "else:\n",
    "    if N_CONDS==1:\n",
    "        df_conds = df_conds[ df_conds.cond=='acetate']\n",
    "    elif N_CONDS<=3:\n",
    "        df_conds = df_conds[ df_conds.cond.isin(['glucose','acetate','succinate'][0:N_CONDS])]\n",
    "    else:\n",
    "        df_conds = df_conds[ df_conds.cond.isin(conds[0:N_CONDS])]\n",
    "\n",
    "df_conds.loc[ (df_conds.cond=='acetate') & (df_conds.rxn=='EX_ac_e'), 'lb'] = -20"
   ]
  },
  {
   "cell_type": "markdown",
   "metadata": {
    "deletable": true,
    "editable": true
   },
   "source": [
    "# Make radix problem"
   ]
  },
  {
   "cell_type": "code",
   "execution_count": 7,
   "metadata": {
    "collapsed": false,
    "deletable": true,
    "editable": true
   },
   "outputs": [],
   "source": [
    "from dynamicme.estimate import RadixEstimator"
   ]
  },
  {
   "cell_type": "code",
   "execution_count": 8,
   "metadata": {
    "collapsed": false,
    "deletable": true,
    "editable": true
   },
   "outputs": [],
   "source": [
    "df_Y = df_meas.rename(columns={'growth_rate_1_h':'output', 'substrate':'cond'})\n",
    "df_Y.loc[:,'output_id'] = 'BIOMASS_Ecoli_core_w_GAM'\n",
    "df_X = df_conds"
   ]
  },
  {
   "cell_type": "code",
   "execution_count": 9,
   "metadata": {
    "collapsed": false,
    "deletable": true,
    "editable": true
   },
   "outputs": [
    {
     "name": "stdout",
     "output_type": "stream",
     "text": [
      "Changed value of parameter OutputFlag to 1\n",
      "   Prev: 0  Min: 0  Max: 1  Default: 1\n",
      "Changed value of parameter ScaleFlag to 0\n",
      "   Prev: -1  Min: -1  Max: 3  Default: -1\n",
      "Parameter OutputFlag unchanged\n",
      "   Value: 1  Min: 0  Max: 1  Default: 1\n",
      "Changed value of parameter TimeLimit to 7200.0\n",
      "   Prev: 1e+100  Min: 0.0  Max: 1e+100  Default: 1e+100\n"
     ]
    }
   ],
   "source": [
    "est = RadixEstimator()\n",
    "est.fit(ijomc, df_X, df_Y, reg_weight = REG_WEIGHT, max_nonzero_binaries=MAX_NONZERO, optimize=False,\n",
    "       powers=POWERS)\n",
    "\n",
    "est.milp.Params.ScaleFlag = 0\n",
    "est.milp.Params.OutputFlag = 1\n",
    "est.milp.Params.TimeLimit = 2*3600.\n",
    "# est.milp.Params.Presolve = 0\n",
    "# est.milp.Params.FeasibilityTol = 1e-8\n",
    "# est.milp.Params.OptimalityTol = 1e-8\n",
    "\n",
    "# est.optimize()"
   ]
  },
  {
   "cell_type": "markdown",
   "metadata": {
    "deletable": true,
    "editable": true
   },
   "source": [
    "## Validate the fit"
   ]
  },
  {
   "cell_type": "markdown",
   "metadata": {
    "collapsed": true,
    "deletable": true,
    "editable": true
   },
   "source": [
    "base_model = load_json_model('/home/laurence/ME/models/e_coli_core_pc.json')\n",
    "\n",
    "mu_id = 'BIOMASS_Ecoli_core_w_GAM'\n",
    "df_pred = est.predict(df_X, base_model, meas_id=mu_id)\n",
    "\n",
    "df_Y2 = df_Y[[c for c in df_Y.columns if c not in ['order','ex_rxn']]]\n",
    "df_val = pd.merge(df_Y2.rename(columns={'output':'meas'}), df_pred.rename(columns={'rxn':'output_id','x':'pred'}), on=['cond','output_id'])\n",
    "df_val.loc[:,'error'] = (df_val.pred - df_val.meas)\n",
    "df_val.loc[:,'perror'] = df_val.error / df_val.meas * 100\n",
    "df_val\n",
    "\n",
    "a0 = 1./65/3600\n",
    "kfit_dict0 = {k:a0 for k in est.kfit_dict.keys()}\n",
    "df_ref = est.predict(df_X, base_model, meas_id=mu_id, kfit_dict=kfit_dict0)\n",
    "df_ref.rename(columns={'rxn':'output_id','x':'output'}, inplace=True)\n",
    "\n",
    "df_val0 = pd.merge(df_Y2.rename(columns={'output':'meas'}), df_ref.rename(columns={'output':'pred0'}), on=['cond','output_id'])\n",
    "df_val0.loc[:,'error0'] = (df_val0.pred0 - df_val0.meas)\n",
    "df_val0.loc[:,'perror0'] = df_val0.error0 / df_val0.meas * 100\n",
    "\n",
    "df_comp = pd.merge(df_val, df_val0, on=['cond','output_id','meas'])\n",
    "df_comp.loc[:,'error_change'] = (df_comp.error.abs()-df_comp.error0.abs()) / df_comp.error0.abs() * 100\n",
    "df_comp\n",
    "\n",
    "print('Total abs error: %g' % df_comp.error.abs().sum())\n",
    "print('Total perc error: %g%%' % df_comp.perror.abs().sum())\n",
    "print('Total error change: %g%%' % df_comp.error_change.sum())\n",
    "changed = [abs(est.kfit_dict[k]-kfit_dict0[k])>1e-9 for k in est.kfit_dict.keys()]\n",
    "print('Number of keffs changed: %d/%d (%g%%)' % (sum(changed),len(est.kfit_dict), 100*sum(changed)/len(est.kfit_dict) ))"
   ]
  },
  {
   "cell_type": "markdown",
   "metadata": {
    "deletable": true,
    "editable": true
   },
   "source": [
    "# Each Lagrange submodel should start with the optimum"
   ]
  },
  {
   "cell_type": "code",
   "execution_count": 10,
   "metadata": {
    "collapsed": true,
    "deletable": true,
    "editable": true
   },
   "outputs": [],
   "source": [
    "from dynamicme.decomposition import LagrangeMaster, LagrangeSubmodel"
   ]
  },
  {
   "cell_type": "code",
   "execution_count": 11,
   "metadata": {
    "collapsed": false,
    "deletable": true,
    "editable": true
   },
   "outputs": [
    {
     "name": "stdout",
     "output_type": "stream",
     "text": [
      "Changed value of parameter OutputFlag to 1\n",
      "   Prev: 0  Min: 0  Max: 1  Default: 1\n",
      "Changed value of parameter OutputFlag to 1\n",
      "   Prev: 0  Min: 0  Max: 1  Default: 1\n",
      "Changed value of parameter OutputFlag to 1\n",
      "   Prev: 0  Min: 0  Max: 1  Default: 1\n",
      "Changed value of parameter OutputFlag to 1\n",
      "   Prev: 0  Min: 0  Max: 1  Default: 1\n",
      "Changed value of parameter OutputFlag to 1\n",
      "   Prev: 0  Min: 0  Max: 1  Default: 1\n"
     ]
    }
   ],
   "source": [
    "conds = df_conds.cond.unique()\n",
    "sub_dict = {}\n",
    "for cond in conds:\n",
    "    df_Xk = df_X[ df_X.cond==cond]\n",
    "    df_Yk = df_Y[ df_Y.cond==cond]\n",
    "    estk = RadixEstimator()\n",
    "    estk.fit(ijomc, df_Xk, df_Yk, reg_weight = REG_WEIGHT, max_nonzero_binaries=MAX_NONZERO, optimize=False,\n",
    "            powers=POWERS)\n",
    "    sub = LagrangeSubmodel(estk.stacker.model, cond)\n",
    "    sub_dict[cond] = sub"
   ]
  },
  {
   "cell_type": "code",
   "execution_count": 12,
   "metadata": {
    "collapsed": true,
    "deletable": true,
    "editable": true
   },
   "outputs": [],
   "source": [
    "master = LagrangeMaster(estk.stacker.model)\n",
    "master.add_submodels(sub_dict)"
   ]
  },
  {
   "cell_type": "code",
   "execution_count": 13,
   "metadata": {
    "collapsed": true,
    "deletable": true,
    "editable": true
   },
   "outputs": [],
   "source": [
    "for sub in sub_dict.values():\n",
    "    sub.model.Params.MIPGapAbs = 1e-3\n",
    "    sub.model.Params.MIPGap    = 1e-3"
   ]
  },
  {
   "cell_type": "code",
   "execution_count": 14,
   "metadata": {
    "collapsed": false,
    "deletable": true,
    "editable": true
   },
   "outputs": [
    {
     "data": {
      "text/plain": [
       "True"
      ]
     },
     "execution_count": 14,
     "metadata": {},
     "output_type": "execute_result"
    }
   ],
   "source": [
    "is_bin = [y.upper_bound<=1 for y in master._y0]\n",
    "np.all(is_bin)"
   ]
  },
  {
   "cell_type": "markdown",
   "metadata": {
    "deletable": true,
    "editable": true
   },
   "source": [
    "### Two-phase"
   ]
  },
  {
   "cell_type": "code",
   "execution_count": 15,
   "metadata": {
    "collapsed": false,
    "deletable": true,
    "editable": true,
    "scrolled": false
   },
   "outputs": [
    {
     "name": "stdout",
     "output_type": "stream",
     "text": [
      "    Iter                    UB                    LB       gap relgap(%)   penalty                       Time(s)\n",
      "  ------   -------------------   -------------------  -------- ---------  -------- -----------------------------\n",
      "               Best   Feasible        Sub       Best                                   total    master       sub\n",
      "       0       1000     1e+100    0.09086    0.09086     999.9     99.99         0  0.107038  0.002362  0.079922\n",
      "       5     0.5593     1e+100     -26.09    0.09086    0.4685     83.76     0.234  0.359678  0.001891  0.048382\n",
      "      10     0.4417     1e+100     -118.6    0.09086    0.3508     79.43     0.175  0.609089  0.003451  0.050331\n",
      "      15     0.1141     1e+100     -179.2    0.09086   0.02322     20.36    0.0103  0.846543  0.005825  0.044085\n",
      "      20    0.09457     1e+100     -236.4    0.09086  0.003703     3.916  0.000578  1.110830  0.008837  0.044350\n",
      "      25    0.09343     1e+100     -175.7    0.09086  0.002565     2.745  1.04e-05  1.390239  0.012815  0.043626\n",
      "      30    0.09341     1e+100     -77.12    0.09086  0.002543     2.723  5.82e-08  1.674076  0.013215  0.034625\n",
      "      35     0.0934     1e+100     -234.7    0.09086  0.002543     2.722  6.44e-08  1.968431  0.018810  0.037712\n",
      "      40     0.0934     1e+100       -246    0.09086  0.002542     2.721  7.22e-08  2.276838  0.021091  0.043327\n",
      "      45     0.0934     1e+100     -372.1    0.09086  0.002539     2.719  1.71e-07  2.619158  0.027392  0.050503\n",
      "      50     0.0934     1e+100       -196    0.09086  0.002535     2.714  4.75e-08  2.998764  0.034141  0.039918\n",
      "      55    0.09339     1e+100     -94.08    0.09086  0.002527     2.706  8.92e-09  3.423985  0.038648  0.040806\n",
      "      60    0.09334     1e+100     -65.68    0.09086  0.002482     2.659  4.47e-09  3.880674  0.045191  0.043299\n",
      "      65    0.09325     1e+100     -29.72    0.09086  0.002391     2.563  9.15e-10  4.337047  0.052616  0.039380\n",
      "      70    0.09296     1e+100     -32.38    0.09086  0.002099     2.258  1.05e-09  4.850222  0.055669  0.042912\n",
      "      75    0.09262     1e+100     -5.318    0.09086  0.001761     1.902  2.59e-11  5.407801  0.067954  0.039934\n",
      "      79    0.09156     1e+100     -4.084    0.09086         0         0   1.8e-11  5.891561  0.081292  0.042894\n",
      "    Iter                    UB                    LB       gap relgap(%)   penalty                       Time(s)\n",
      "  ------   -------------------   -------------------  -------- ---------  -------- -----------------------------"
     ]
    },
    {
     "name": "stderr",
     "output_type": "stream",
     "text": [
      "/home/laurence/python_modules/dynamicme.git/dynamicme/decomposition.py:2176 \u001b[1;31mUserWarning\u001b[0m: Solution available but Master solver status=suboptimal (13).\n"
     ]
    },
    {
     "name": "stdout",
     "output_type": "stream",
     "text": [
      "\n",
      "               Best   Feasible        Sub       Best                                   total    master       sub\n",
      "Master solver status=suboptimal (13).\n",
      "       0    0.09084     1e+100    0.05184    0.05184   0.03899     42.93  1.74e-05  1.115530  0.186356  0.874417\n",
      "Master solver status=suboptimal (13).\n",
      "Master solver status=suboptimal (13).\n",
      "Master solver status=suboptimal (13).\n",
      "Master solver status=suboptimal (13).\n",
      "Master solver status=suboptimal (13).\n",
      "       5    0.09084     1e+100    0.08188    0.08188  0.008954     9.858   1.1e-07  7.014081  0.262501  0.295933\n",
      "Master solver status=suboptimal (13).\n",
      "Master solver status=suboptimal (13).\n",
      "       7    0.09084     1e+100    0.09039    0.09039         0         0  6.14e-10  7.964827  0.240314  0.067119\n",
      "Excluded 10 infeasible alt optima from sub succinate\n",
      "Excluded 1 infeasible alt optima from sub glucose\n",
      "Excluded 6 infeasible alt optima from sub malate\n",
      "Excluded 1 infeasible alt optima from sub acetate\n",
      "Excluded 1 infeasible alt optima from sub fructose\n",
      "Best feasible solution among 19 alt feasible has objval=0.312294847279\n",
      "Best feasible solution has objval=0.312294847279\n",
      "Master solver status=suboptimal (13).\n",
      "       8    0.09061     0.3123    0.05982    0.09039         0         0  4.34e-08  10.74632  0.207944  1.333921\n",
      "Best Heuristic solution has objval=0.311685063368\n",
      "Excluded 4 infeasible alt optima from sub succinate\n",
      "Excluded 1 infeasible alt optima from sub glucose\n",
      "Excluded 2 infeasible alt optima from sub malate\n",
      "Excluded 1 infeasible alt optima from sub acetate\n",
      "Excluded 1 infeasible alt optima from sub fructose\n",
      "Best feasible solution among 9 alt feasible has objval=0.302720046426\n",
      "Best feasible solution has objval=0.302720046426\n",
      "Master solver status=suboptimal (13).\n",
      "       9    0.09077     0.3027    0.08219    0.09039         0         0  2.58e-09  12.03555  0.395767  0.404278\n",
      "Best Heuristic solution has objval=0.237121140461\n",
      "Excluded 4 infeasible alt optima from sub succinate\n",
      "Excluded 1 infeasible alt optima from sub glucose\n",
      "Excluded 1 infeasible alt optima from sub malate\n",
      "Excluded 1 infeasible alt optima from sub acetate\n",
      "Excluded 1 infeasible alt optima from sub fructose\n",
      "Best feasible solution among 8 alt feasible has objval=0.261634993062\n",
      "Master solver status=suboptimal (13).\n",
      "      10    0.09078     0.2371    0.08322    0.09039         0         0  1.24e-09  13.60673  0.345549  0.516636\n",
      "Excluded 8 infeasible alt optima from sub succinate\n",
      "Excluded 1 infeasible alt optima from sub glucose\n",
      "Excluded 1 infeasible alt optima from sub malate\n",
      "Excluded 1 infeasible alt optima from sub acetate\n",
      "Excluded 1 infeasible alt optima from sub fructose\n",
      "Best feasible solution among 12 alt feasible has objval=0.321217835713\n",
      "      10    0.09078     0.2371    0.08322    0.09039         0         0  1.24e-09  14.10468  0.345549  0.516636\n",
      "Master solver status=suboptimal (13).\n",
      "      11     0.0908     0.2371    0.08843    0.09039         0         0  6.75e-11  14.94764  0.427369  0.415255\n",
      "Excluded 16 infeasible alt optima from sub succinate\n",
      "Excluded 1 infeasible alt optima from sub glucose\n",
      "Excluded 1 infeasible alt optima from sub malate\n",
      "Excluded 1 infeasible alt optima from sub acetate\n",
      "Excluded 1 infeasible alt optima from sub fructose\n",
      "Best feasible solution among 20 alt feasible has objval=0.312325791851\n",
      "Master solver status=suboptimal (13).\n",
      "      12    0.09025     0.2371    0.05271    0.09039         0         0  4.11e-09  17.51953  0.237408  1.136543\n",
      "Excluded 2 infeasible alt optima from sub succinate\n",
      "Excluded 1 infeasible alt optima from sub glucose\n",
      "Excluded 1 infeasible alt optima from sub malate\n",
      "Excluded 1 infeasible alt optima from sub acetate\n",
      "Excluded 1 infeasible alt optima from sub fructose\n",
      "Best feasible solution among 6 alt feasible has objval=0.316001140393\n",
      "Master solver status=suboptimal (13).\n",
      "      13    0.09075     0.2371     0.0877    0.09039         0         0   2.9e-11  18.91499  0.648583  0.369082\n",
      "Excluded 1 infeasible alt optima from sub succinate\n",
      "Excluded 1 infeasible alt optima from sub glucose\n",
      "Excluded 1 infeasible alt optima from sub malate\n",
      "Excluded 1 infeasible alt optima from sub acetate\n",
      "Excluded 1 infeasible alt optima from sub fructose\n",
      "Best feasible solution among 5 alt feasible has objval=0.316001140393\n",
      "Master solver status=suboptimal (13).\n",
      "      14    0.09082     0.2371    0.08968    0.09039         0         0  2.62e-12  20.63767  0.592964  0.494551\n",
      "Excluded 1 infeasible alt optima from sub succinate\n",
      "Excluded 1 infeasible alt optima from sub glucose\n",
      "Excluded 1 infeasible alt optima from sub malate\n",
      "Excluded 1 infeasible alt optima from sub acetate\n",
      "Excluded 1 infeasible alt optima from sub fructose\n",
      "Best feasible solution among 5 alt feasible has objval=0.309905634466\n",
      "Master solver status=suboptimal (13).\n",
      "      15    0.09081     0.2371    0.09126    0.09126         0         0  5.35e-13  21.61606  0.331856  0.378104\n",
      "Excluded 1 infeasible alt optima from sub succinate\n",
      "Excluded 1 infeasible alt optima from sub glucose\n",
      "Excluded 1 infeasible alt optima from sub malate\n",
      "Excluded 1 infeasible alt optima from sub acetate\n",
      "Excluded 1 infeasible alt optima from sub fructose\n",
      "Best feasible solution among 5 alt feasible has objval=0.294871453012\n",
      "pred_ascent=-0.00033423200429. Updating D_prox from 0.0911454424242 to 0.0912569925444.\n",
      "      15    0.09081     0.2371    0.09126    0.09126         0         0  5.35e-13  22.94165  0.331856  0.378104\n",
      "Master solver status=suboptimal (13).\n",
      "Master solver status=suboptimal (13).\n",
      "      17    0.09073     0.2371    0.08871    0.09126         0         0  7.85e-13  24.81801  0.549792  0.275251\n",
      "Excluded 1 infeasible alt optima from sub succinate\n",
      "Excluded 1 infeasible alt optima from sub glucose\n",
      "Excluded 1 infeasible alt optima from sub malate\n",
      "Excluded 1 infeasible alt optima from sub acetate\n",
      "Excluded 1 infeasible alt optima from sub fructose\n",
      "Best feasible solution among 5 alt feasible has objval=0.311231868885\n",
      "Master solver status=suboptimal (13).\n",
      "      18    0.09081     0.2371    0.09122    0.09126         0         0  1.09e-13  26.25305  0.529914  0.627235\n",
      "Excluded 1 infeasible alt optima from sub succinate\n",
      "Excluded 1 infeasible alt optima from sub glucose\n",
      "Excluded 1 infeasible alt optima from sub malate\n",
      "Excluded 1 infeasible alt optima from sub acetate\n",
      "Excluded 1 infeasible alt optima from sub fructose\n",
      "Best feasible solution among 5 alt feasible has objval=0.260000912496\n",
      "pred_ascent=7.84516541269e-05. Updating D_prox from 0.0907333231125 to 0.0912215694403.\n",
      "Master solver status=suboptimal (13).\n",
      "      19    0.09054     0.2371    0.08557    0.09126         0         0  9.85e-13  28.45973  0.383062  0.480250\n",
      "Excluded 1 infeasible alt optima from sub succinate\n",
      "Excluded 1 infeasible alt optima from sub glucose\n",
      "Excluded 1 infeasible alt optima from sub malate\n",
      "Excluded 1 infeasible alt optima from sub acetate\n",
      "Excluded 1 infeasible alt optima from sub fructose\n",
      "Best feasible solution among 5 alt feasible has objval=0.312230669465\n",
      "Master solver status=suboptimal (13).\n",
      "      20    0.09052     0.2371    0.08844    0.09126         0         0  2.54e-13  29.57667  0.454168  0.365592\n",
      "Excluded 1 infeasible alt optima from sub succinate\n",
      "Excluded 1 infeasible alt optima from sub glucose\n",
      "Excluded 1 infeasible alt optima from sub malate\n",
      "Excluded 1 infeasible alt optima from sub acetate\n",
      "Excluded 1 infeasible alt optima from sub fructose\n",
      "Best feasible solution among 5 alt feasible has objval=0.266656507729\n",
      "      20    0.09052     0.2371    0.08844    0.09126         0         0  2.54e-13  30.24891  0.454168  0.365592\n",
      "Master solver status=suboptimal (13).\n",
      "      21     0.0908     0.2371    0.09008    0.09126         0         0  1.19e-14  31.06989  0.358321  0.462120\n",
      "Excluded 1 infeasible alt optima from sub succinate\n",
      "Excluded 1 infeasible alt optima from sub glucose\n",
      "Excluded 1 infeasible alt optima from sub malate\n",
      "Excluded 1 infeasible alt optima from sub acetate\n",
      "Excluded 1 infeasible alt optima from sub fructose\n",
      "Best feasible solution among 5 alt feasible has objval=0.225634053306\n",
      "Best feasible solution has objval=0.225634053306\n",
      "Master solver status=suboptimal (13).\n",
      "      22    0.09082     0.2256     0.0917     0.0917         0         0  5.07e-15  32.38904  0.685823  0.351742\n",
      "Excluded 1 infeasible alt optima from sub succinate\n",
      "Excluded 1 infeasible alt optima from sub glucose\n",
      "Excluded 1 infeasible alt optima from sub malate\n",
      "Excluded 1 infeasible alt optima from sub acetate\n",
      "Best obj=0.252825. Tot obj=0.252825. obj=5.36841e-05 for fructose\n",
      "Alt optimum 0 in subprob fructose is feasible! Done.\n",
      "sum_k Hk*yk: [0. 0. 0. 0. 0. 0. 0. 0. 0. 0. 0. 0. 0. 0. 0. 0. 0. 0. 0. 0. 0. 0. 0. 0.\n",
      " 0. 0. 0. 0. 0. 0. 0. 0. 0. 0. 0. 0. 0. 0. 0. 0. 0. 0. 0. 0. 0. 0. 0. 0.\n",
      " 0. 0. 0. 0. 0. 0. 0. 0. 0. 0. 0. 0. 0. 0. 0. 0. 0. 0. 0. 0. 0. 0. 0. 0.\n",
      " 0. 0. 0. 0. 0. 0. 0. 0. 0. 0. 0. 0. 0. 0. 0. 0. 0. 0. 0. 0. 0. 0. 0. 0.\n",
      " 0. 0. 0. 0. 0. 0. 0. 0. 0. 0. 0. 0. 0. 0. 0. 0. 0. 0. 0. 0. 0. 0. 0. 0.\n",
      " 0. 0. 0. 0. 0. 0. 0. 0. 0. 0. 0. 0. 0. 0. 0. 0. 0. 0. 0. 0. 0. 0. 0. 0.]\n"
     ]
    }
   ],
   "source": [
    "master.time_limit = 2*3600\n",
    "#master.max_iter = 500\n",
    "master.verbosity = 2\n",
    "master.print_iter = 5\n",
    "# master.gaptol = 0.02\n",
    "master.gaptol = 1e-3\n",
    "master.absgaptol = 1e-3\n",
    "feasible_methods = ['heuristic', 'enumerate']\n",
    "alt_method = 'pool'\n",
    "max_alt = 10    # Computationally expensive if too large. Might miss feasible solution if too small.\n",
    "                # Can make adaptive if no feasible solution found for certain iterations.\n",
    "                # Adaptively update num of alt opt to keep.\n",
    "\n",
    "if TWO_PHASE:\n",
    "    sol_master = master.solve_relaxed(feasible_methods=None)\n",
    "    df_phase1 = pd.DataFrame(master.log_rows)\n",
    "    \n",
    "sol_master = master.optimize(feasible_methods=feasible_methods, max_alt=max_alt, alt_method=alt_method,\n",
    "                            nogood_cuts = True) \n",
    "df_phase2 = pd.DataFrame(master.log_rows)"
   ]
  },
  {
   "cell_type": "code",
   "execution_count": 16,
   "metadata": {
    "collapsed": false,
    "deletable": true,
    "editable": true
   },
   "outputs": [
    {
     "data": {
      "text/plain": [
       "144"
      ]
     },
     "execution_count": 16,
     "metadata": {},
     "output_type": "execute_result"
    }
   ],
   "source": [
    "len(master._us)"
   ]
  },
  {
   "cell_type": "code",
   "execution_count": 17,
   "metadata": {
    "collapsed": false,
    "deletable": true,
    "editable": true
   },
   "outputs": [
    {
     "data": {
      "text/plain": [
       "38.927765130996704"
      ]
     },
     "execution_count": 17,
     "metadata": {},
     "output_type": "execute_result"
    }
   ],
   "source": [
    "df_phase1.t_total.max() + df_phase2.t_total.max()"
   ]
  },
  {
   "cell_type": "code",
   "execution_count": 18,
   "metadata": {
    "collapsed": false,
    "deletable": true,
    "editable": true
   },
   "outputs": [
    {
     "data": {
      "text/plain": [
       "<seaborn.axisgrid.FacetGrid at 0x7f7b50bd3350>"
      ]
     },
     "execution_count": 18,
     "metadata": {},
     "output_type": "execute_result"
    },
    {
     "data": {
      "image/png": "[encoded data removed]",
      "text/plain": [
       "<matplotlib.figure.Figure at 0x7f7b50b6c8d0>"
      ]
     },
     "metadata": {},
     "output_type": "display_data"
    }
   ],
   "source": [
    "xcol = 'iter'\n",
    "df_phase1.loc[:,'phase'] = 1\n",
    "df_phase2.loc[:,'phase'] = 2\n",
    "dsplot = pd.concat([df_phase1, df_phase2])\n",
    "dsplot = dsplot[[xcol,'feasUB','bestUB','bestLB','phase']]\n",
    "dsplot = dsplot.melt(id_vars=[xcol,'phase'])\n",
    "dsplot.loc[ dsplot.value>1e1, 'value'] = np.nan\n",
    "dsplot.loc[ dsplot.value<-1e1, 'value'] = np.nan\n",
    "\n",
    "g = sns.FacetGrid(dsplot, hue='variable', size=4, aspect=3, row='phase', sharey=False)\n",
    "g.map(plt.plot, xcol,'value')\n",
    "g.add_legend()"
   ]
  },
  {
   "cell_type": "code",
   "execution_count": 19,
   "metadata": {
    "collapsed": true,
    "deletable": true,
    "editable": true
   },
   "outputs": [],
   "source": [
    "var_cons_dict = estk.var_cons_dict\n",
    "powers = estk.powers\n",
    "digits = estk.digits\n",
    "radix  = estk.radix"
   ]
  },
  {
   "cell_type": "code",
   "execution_count": 20,
   "metadata": {
    "collapsed": false,
    "deletable": true,
    "editable": true
   },
   "outputs": [
    {
     "name": "stdout",
     "output_type": "stream",
     "text": [
      "Changed keffs: 41/48\n",
      "Cond=glucose. mu_meas=0.74. mu_sim=0.739895 (unfit=0.873922, error=18.1%). Error=-0.0142% (-99.9% change)\n",
      "\tEX_glc__D_e uptake=-10\n",
      "\tEX_fru_e uptake=0\n",
      "\tEX_succ_e uptake=0\n",
      "\tEX_mal__L_e uptake=0\n",
      "\tEX_ac_e uptake=0\n",
      "Cond=fructose. mu_meas=0.55. mu_sim=0.747765 (unfit=0.873922, error=58.9%). Error=36% (-38.9% change)\n",
      "\tEX_glc__D_e uptake=0\n",
      "\tEX_fru_e uptake=-10\n",
      "\tEX_succ_e uptake=0\n",
      "\tEX_mal__L_e uptake=0\n",
      "\tEX_ac_e uptake=0\n",
      "Cond=succinate. mu_meas=0.46. mu_sim=0.397563 (unfit=0.397563, error=-13.6%). Error=-13.6% (5.76e-10% change)\n",
      "\tEX_glc__D_e uptake=0\n",
      "\tEX_fru_e uptake=0\n",
      "\tEX_succ_e uptake=-10\n",
      "\tEX_mal__L_e uptake=0\n",
      "\tEX_ac_e uptake=0\n",
      "Cond=malate. mu_meas=0.44. mu_sim=0.370741 (unfit=0.370741, error=-15.7%). Error=-15.7% (0% change)\n",
      "\tEX_glc__D_e uptake=0\n",
      "\tEX_fru_e uptake=0\n",
      "\tEX_succ_e uptake=0\n",
      "\tEX_mal__L_e uptake=-10\n",
      "\tEX_ac_e uptake=0\n",
      "Cond=acetate. mu_meas=0.256. mu_sim=0.247055 (unfit=0.389313, error=52.1%). Error=-3.49% (-93.3% change)\n",
      "\tEX_glc__D_e uptake=0\n",
      "\tEX_fru_e uptake=0\n",
      "\tEX_succ_e uptake=0\n",
      "\tEX_mal__L_e uptake=0\n",
      "\tEX_ac_e uptake=-20\n",
      "Absolute total error: 0.338511\n",
      "Weighted total objval: 0.225634\n",
      "Total error change: -53.1701%\n",
      "Absolute percent error: 0.0142319% -- 35.9572%\n",
      "Mean abs percent error = 13.7559%\n",
      "Median abs percent error = 13.5733%\n"
     ]
    }
   ],
   "source": [
    "kfit_dict = {}\n",
    "for group_id, var_dict in iteritems(var_cons_dict):\n",
    "    var = var_dict[0]\n",
    "    cons = var_dict[1]\n",
    "    a0  = var_dict[0][2]\n",
    "    kfit = 0.\n",
    "    for l,pwr in enumerate(powers):\n",
    "        for k,digit in enumerate(digits):            \n",
    "            yid = 'binary_%s%s%s' % (group_id,k,l)\n",
    "            y   = sol_master[yid]\n",
    "#             y   = sol_masterk[yid]\n",
    "            kfit += y*a0*radix**pwr*digit\n",
    "    kfit_dict[group_id] = kfit\n",
    "\n",
    "kfit_changed = [(k,v, abs(v-a0)/a0) for k,v in iteritems(kfit_dict) if abs(v-a0)/a0>1e-6]\n",
    "print('Changed keffs: %d/%d' % (len(kfit_changed), len(var_cons_dict)))\n",
    "#----------------------------------------\n",
    "# Starting from basal model\n",
    "perrs = []\n",
    "errs_fit = []\n",
    "errs_unfit = []\n",
    "weighted_objvals = []\n",
    "csrcs = df_conds.cond.unique()\n",
    "for csrc in csrcs:    \n",
    "    ijofit = load_json_model('/home/laurence/ME/models/e_coli_core_pc.json')\n",
    "    crowding = ijofit.metabolites.get_by_id('crowding')\n",
    "    df_condi = df_conds[ df_conds.cond==csrc]    \n",
    "    for i,row in df_condi.iterrows():\n",
    "        rid = row['rxn']\n",
    "        rxn = ijofit.reactions.get_by_id(rid)\n",
    "        rxn.lower_bound = row['lb']\n",
    "        rxn.upper_bound = row['ub']\n",
    "\n",
    "    for rid,kfit in iteritems(kfit_dict):\n",
    "        rxn = ijofit.reactions.get_by_id(rid)\n",
    "        rxn.add_metabolites({crowding:kfit}, combine=False)\n",
    "    \n",
    "    ijofit.optimize()\n",
    "    \n",
    "    mu_measi = df_meas[ df_meas.substrate==csrc].growth_rate_1_h.iloc[0]\n",
    "    mu_fiti = ijofit.reactions.BIOMASS_Ecoli_core_w_GAM.x\n",
    "    \n",
    "    # Get unfit\n",
    "    for rxn in ijofit.metabolites.crowding.reactions:\n",
    "        rxn._metabolites[crowding] = a0\n",
    "    ijofit.optimize()\n",
    "    mu_unfiti = ijofit.reactions.BIOMASS_Ecoli_core_w_GAM.x\n",
    "    err0= 100*(mu_unfiti-mu_measi)/mu_measi\n",
    "    err = 100*(mu_fiti - mu_measi)/mu_measi\n",
    "    derr= 100*(abs(err)-abs(err0))/abs(err0)\n",
    "    perrs.append(err)\n",
    "    errs_unfit.append(mu_unfiti - mu_measi)\n",
    "    errs_fit.append(mu_fiti - mu_measi)\n",
    "    w = (1-REG_WEIGHT)/(abs(mu_measi)+1)\n",
    "    weighted_objvals.append( abs(mu_fiti-mu_measi)*w )\n",
    "    print('Cond=%s. mu_meas=%g. mu_sim=%g (unfit=%g, error=%.3g%%). Error=%.3g%% (%.3g%% change)' % (\n",
    "        csrc, mu_measi, mu_fiti, mu_unfiti, err0, err, derr))\n",
    "    for i,row in df_condi.iterrows():\n",
    "        rid = row['rxn']\n",
    "        rxn = ijofit.reactions.get_by_id(rid)        \n",
    "        print('\\t%s uptake=%g' % (rxn.id, rxn.x))\n",
    "perrs = np.array(perrs)\n",
    "errs_fit = np.array(errs_fit)\n",
    "errs_unfit = np.array(errs_unfit)\n",
    "tot_err = sum(abs(errs_fit))\n",
    "tot_err0 = sum(abs(errs_unfit))\n",
    "tot_objval = sum(weighted_objvals)\n",
    "print(\"Absolute total error: %g\"%(tot_err))\n",
    "print(\"Weighted total objval: %g\"%(tot_objval))\n",
    "print(\"Total error change: %g%%\"%( 100*(tot_err-tot_err0)/tot_err0  ))\n",
    "print(\"Absolute percent error: %g%% -- %g%%\"%(min(abs(perrs)), max(abs(perrs))))\n",
    "print(\"Mean abs percent error = %g%%\"%(np.mean(abs(perrs))))\n",
    "print(\"Median abs percent error = %g%%\"%(np.median(abs(perrs))))"
   ]
  },
  {
   "cell_type": "markdown",
   "metadata": {
    "deletable": true,
    "editable": true
   },
   "source": [
    "## Confirm that all ys the same"
   ]
  },
  {
   "cell_type": "code",
   "execution_count": 21,
   "metadata": {
    "collapsed": false,
    "deletable": true,
    "editable": true
   },
   "outputs": [
    {
     "name": "stdout",
     "output_type": "stream",
     "text": [
      "  binary_G6P         1.0         1.0        True\n",
      "  binary_G6P         0.0         0.0        True\n",
      "  binary_G6P         1.0         1.0        True\n",
      "  binary_AKG         1.0         1.0        True\n",
      "  binary_AKG         1.0         1.0        True\n",
      "  binary_AKG         1.0         1.0        True\n",
      "  binary_ACK         0.0         0.0        True\n",
      "  binary_ACK         1.0         1.0        True\n",
      "  binary_ACK         0.0         0.0        True\n",
      "  binary_PGK         1.0         1.0        True\n",
      "  binary_PGK         0.0         0.0        True\n",
      "  binary_PGK         0.0         0.0        True\n",
      "  binary_GLU         1.0         1.0        True\n",
      "  binary_GLU         0.0         0.0        True\n",
      "  binary_GLU         1.0         1.0        True\n",
      "  binary_ME1         0.0         0.0        True\n",
      "  binary_ME1         1.0         1.0        True\n",
      "  binary_ME1         1.0         1.0        True\n",
      "  binary_PGI         1.0         1.0        True\n",
      "  binary_PGI         0.0         0.0        True\n",
      "  binary_PGI         0.0         0.0        True\n",
      "  binary_GND         0.0         0.0        True\n",
      "  binary_GND         1.0         1.0        True\n",
      "  binary_GND         1.0         1.0        True\n",
      "  binary_ME2         0.0         0.0        True\n",
      "  binary_ME2         1.0         1.0        True\n",
      "  binary_ME2         0.0         0.0        True\n",
      "  binary_GLN         1.0         1.0        True\n",
      "  binary_GLN         1.0         1.0        True\n",
      "  binary_GLN         0.0         0.0        True\n",
      "  binary_FUM         1.0         1.0        True\n",
      "  binary_FUM         1.0         1.0        True\n",
      "  binary_FUM         1.0         1.0        True\n",
      "  binary_SUC         1.0         1.0        True\n",
      "  binary_SUC         1.0         1.0        True\n",
      "  binary_SUC         1.0         1.0        True\n",
      "  binary_PPC         0.0         0.0        True\n",
      "  binary_PPC         0.0         0.0        True\n",
      "  binary_PPC         1.0         1.0        True\n",
      "  binary_MDH         0.0         0.0        True\n",
      "  binary_MDH         1.0         1.0        True\n",
      "  binary_MDH         1.0         1.0        True\n",
      "  binary_GLU         1.0         1.0        True\n",
      "  binary_GLU         0.0         0.0        True\n",
      "  binary_GLU         0.0         0.0        True\n",
      "  binary_GLU         1.0         1.0        True\n",
      "  binary_GLU         0.0         0.0        True\n",
      "  binary_GLU         1.0         1.0        True\n",
      "  binary_PGL         1.0         1.0        True\n",
      "  binary_PGL         1.0         1.0        True\n",
      "  binary_PGL         1.0         1.0        True\n",
      "  binary_PGM         0.0         0.0        True\n",
      "  binary_PGM         1.0         1.0        True\n",
      "  binary_PGM         0.0         0.0        True\n",
      "  binary_ACA         0.0         0.0        True\n",
      "  binary_ACA         1.0         1.0        True\n",
      "  binary_ACA         0.0         0.0        True\n",
      "  binary_MAL         1.0         1.0        True\n",
      "  binary_MAL         0.0         0.0        True\n",
      "  binary_MAL         0.0         0.0        True\n",
      "  binary_ADK         0.0         0.0        True\n",
      "  binary_ADK         1.0         1.0        True\n",
      "  binary_ADK         0.0         0.0        True\n",
      "  binary_PPS         1.0         1.0        True\n",
      "  binary_PPS         1.0         1.0        True\n",
      "  binary_PPS         0.0         0.0        True\n",
      "  binary_PTA         0.0         0.0        True\n",
      "  binary_PTA         1.0         1.0        True\n",
      "  binary_PTA         1.0         1.0        True\n",
      "  binary_TAL         1.0         1.0        True\n",
      "  binary_TAL         0.0         0.0        True\n",
      "  binary_TAL         1.0         1.0        True\n",
      "  binary_ALC         1.0         1.0        True\n",
      "  binary_ALC         0.0         0.0        True\n",
      "  binary_ALC         0.0         0.0        True\n",
      "  binary_SUC         0.0         0.0        True\n",
      "  binary_SUC         1.0         1.0        True\n",
      "  binary_SUC         0.0         0.0        True\n",
      "  binary_PPC         1.0         1.0        True\n",
      "  binary_PPC         1.0         1.0        True\n",
      "  binary_PPC         0.0         0.0        True\n",
      "  binary_RPE         0.0         0.0        True\n",
      "  binary_RPE         1.0         1.0        True\n",
      "  binary_RPE         0.0         0.0        True\n",
      "  binary_NAD         0.0         0.0        True\n",
      "  binary_NAD         1.0         1.0        True\n",
      "  binary_NAD         1.0         1.0        True\n",
      "  binary_ICD         1.0         1.0        True\n",
      "  binary_ICD         0.0         0.0        True\n",
      "  binary_ICD         1.0         1.0        True\n",
      "  binary_GAP         1.0         1.0        True\n",
      "  binary_GAP         1.0         1.0        True\n",
      "  binary_GAP         1.0         1.0        True\n",
      "  binary_ICL         1.0         1.0        True\n",
      "  binary_ICL         0.0         0.0        True\n",
      "  binary_ICL         0.0         0.0        True\n",
      "  binary_TPI         1.0         1.0        True\n",
      "  binary_TPI         1.0         1.0        True\n",
      "  binary_TPI         1.0         1.0        True\n",
      "  binary_ENO         1.0         1.0        True\n",
      "  binary_ENO         1.0         1.0        True\n",
      "  binary_ENO         1.0         1.0        True\n",
      "  binary_ACO         0.0         0.0        True\n",
      "  binary_ACO         0.0         0.0        True\n",
      "  binary_ACO         1.0         1.0        True\n",
      "  binary_RPI         1.0         1.0        True\n",
      "  binary_RPI         0.0         0.0        True\n",
      "  binary_RPI         0.0         0.0        True\n",
      "  binary_ACO         1.0         1.0        True\n",
      "  binary_ACO         0.0         0.0        True\n",
      "  binary_ACO         1.0         1.0        True\n",
      "  binary_PDH         1.0         1.0        True\n",
      "  binary_PDH         1.0         1.0        True\n",
      "  binary_PDH         1.0         1.0        True\n",
      "  binary_CS0         0.0         0.0        True\n",
      "  binary_CS0         1.0         1.0        True\n",
      "  binary_CS0         1.0         1.0        True\n",
      "  binary_FBP         0.0         0.0        True\n",
      "  binary_FBP         0.0         0.0        True\n",
      "  binary_FBP         1.0         1.0        True\n",
      "  binary_TKT         0.0         0.0        True\n",
      "  binary_TKT         0.0         0.0        True\n",
      "  binary_TKT         1.0         1.0        True\n",
      "  binary_TKT         0.0         0.0        True\n",
      "  binary_TKT         1.0         1.0        True\n",
      "  binary_TKT         1.0         1.0        True\n",
      "  binary_PFK         1.0         1.0        True\n",
      "  binary_PFK         1.0         1.0        True\n",
      "  binary_PFK         1.0         1.0        True\n",
      "  binary_PFL         1.0         1.0        True\n",
      "  binary_PFL         1.0         1.0        True\n",
      "  binary_PFL         1.0         1.0        True\n",
      "  binary_FBA         1.0         1.0        True\n",
      "  binary_FBA         1.0         1.0        True\n",
      "  binary_FBA         1.0         1.0        True\n",
      "  binary_PYK         1.0         1.0        True\n",
      "  binary_PYK         0.0         0.0        True\n",
      "  binary_PYK         0.0         0.0        True\n",
      "  binary_LDH         1.0         1.0        True\n",
      "  binary_LDH         0.0         0.0        True\n",
      "  binary_LDH         0.0         0.0        True\n",
      "  binary_FRD         0.0         0.0        True\n",
      "  binary_FRD         1.0         1.0        True\n",
      "  binary_FRD         1.0         1.0        True\n"
     ]
    }
   ],
   "source": [
    "y_sames = []\n",
    "for y in sub._ys:\n",
    "    sub1 = sub_dict[conds[0]]\n",
    "    sub2 = sub_dict[conds[1]]\n",
    "    y1 = sub1.x_dict[y.VarName]\n",
    "    y2 = sub2.x_dict[y.VarName]\n",
    "    y_sames.append(abs(y1-y2)<1e-10)\n",
    "    print('%12.10s%12.10s%12.10s%12.10s'%(y.VarName,y1,y2, abs(y1-y2)<1e-10))    "
   ]
  },
  {
   "cell_type": "code",
   "execution_count": 22,
   "metadata": {
    "collapsed": false,
    "deletable": true,
    "editable": true
   },
   "outputs": [
    {
     "name": "stdout",
     "output_type": "stream",
     "text": [
      "num same = 144/144\n"
     ]
    }
   ],
   "source": [
    "print('num same = %s/%s'%(sum(y_sames), len(y_sames)))"
   ]
  }
 ],
 "metadata": {
  "kernelspec": {
   "display_name": "Python 2",
   "language": "python",
   "name": "python2"
  },
  "language_info": {
   "codemirror_mode": {
    "name": "ipython",
    "version": 2
   },
   "file_extension": ".py",
   "mimetype": "text/x-python",
   "name": "python",
   "nbconvert_exporter": "python",
   "pygments_lexer": "ipython2",
   "version": "2.7.14"
  }
 },
 "nbformat": 4,
 "nbformat_minor": 2
}
