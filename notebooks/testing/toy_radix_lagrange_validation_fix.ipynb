{
 "cells": [
  {
   "cell_type": "markdown",
   "metadata": {
    "deletable": true,
    "editable": true
   },
   "source": [
    "# Toy Radix Lagrangean decomposition validation"
   ]
  },
  {
   "cell_type": "code",
   "execution_count": 1,
   "metadata": {
    "collapsed": true,
    "deletable": true,
    "editable": true
   },
   "outputs": [],
   "source": [
    "REG_WEIGHT   = 0. #1e-4\n",
    "MAX_NONZERO  = None #48*2\n",
    "PREVENT_ZERO = True\n",
    "POWERS       = [-1,0,1] #[-2,-1,0,1,2]\n",
    "TWO_PHASE    = True"
   ]
  },
  {
   "cell_type": "code",
   "execution_count": 2,
   "metadata": {
    "collapsed": false,
    "deletable": true,
    "editable": true
   },
   "outputs": [],
   "source": [
    "%load_ext line_profiler"
   ]
  },
  {
   "cell_type": "code",
   "execution_count": 3,
   "metadata": {
    "collapsed": false,
    "deletable": true,
    "editable": true
   },
   "outputs": [],
   "source": [
    "from gurobipy import *\n",
    "\n",
    "import seaborn as sns\n",
    "import pandas as pd\n",
    "import matplotlib.pyplot as plt\n",
    "import numpy as np\n",
    "\n",
    "plt.rcParams['svg.fonttype'] = 'none'\n",
    "pd.set_option('display.max_colwidth', -1)\n",
    "%matplotlib inline\n",
    "\n",
    "from cobra.io import load_json_model\n",
    "from six import iteritems\n",
    "import numpy as np\n",
    "import cobra"
   ]
  },
  {
   "cell_type": "code",
   "execution_count": 4,
   "metadata": {
    "collapsed": true,
    "deletable": true,
    "editable": true
   },
   "outputs": [],
   "source": [
    "ijomc = load_json_model('/home/laurence/ME/models/e_coli_core_pc.json')"
   ]
  },
  {
   "cell_type": "code",
   "execution_count": 5,
   "metadata": {
    "collapsed": false,
    "deletable": true,
    "editable": true
   },
   "outputs": [
    {
     "name": "stdout",
     "output_type": "stream",
     "text": [
      "0.873921506968\n"
     ]
    }
   ],
   "source": [
    "ijomc.optimize()\n",
    "mu_crowd0 = ijomc.reactions.BIOMASS_Ecoli_core_w_GAM.x\n",
    "print(mu_crowd0)"
   ]
  },
  {
   "cell_type": "code",
   "execution_count": 6,
   "metadata": {
    "collapsed": false,
    "deletable": true,
    "editable": true
   },
   "outputs": [],
   "source": [
    "df_meas = pd.read_csv('/home/laurence/ME/data/dynamicME/beg/growth_meas.csv')\n",
    "\n",
    "ex_rxns = [r for r in df_meas.ex_rxn.unique() if ijomc.reactions.has_id(r)]\n",
    "df_meas = df_meas[ df_meas.ex_rxn.isin(ex_rxns)]\n",
    "conds = df_meas.substrate.unique()\n",
    "\n",
    "#N_CONDS = len(conds)\n",
    "N_CONDS = 3\n",
    "\n",
    "df_conds = pd.DataFrame([{'cond':r['substrate'], 'rxn':ex_rxn, 'lb':-10 if r['ex_rxn']==ex_rxn else 0, 'ub':1000., 'obj':0.} for i,r in df_meas.iterrows() for ex_rxn in ex_rxns])\n",
    "\n",
    "if N_CONDS==1:\n",
    "    df_conds = df_conds[ df_conds.cond=='acetate']\n",
    "elif N_CONDS<=3:\n",
    "    df_conds = df_conds[ df_conds.cond.isin(['glucose','acetate','succinate'][0:N_CONDS])]\n",
    "else:\n",
    "    df_conds = df_conds[ df_conds.cond.isin(conds[0:N_CONDS])]\n",
    "\n",
    "df_conds.loc[ (df_conds.cond=='acetate') & (df_conds.rxn=='EX_ac_e'), 'lb'] = -20"
   ]
  },
  {
   "cell_type": "markdown",
   "metadata": {
    "deletable": true,
    "editable": true
   },
   "source": [
    "# Make radix problem"
   ]
  },
  {
   "cell_type": "code",
   "execution_count": 7,
   "metadata": {
    "collapsed": false,
    "deletable": true,
    "editable": true
   },
   "outputs": [],
   "source": [
    "from dynamicme.estimate import RadixEstimator"
   ]
  },
  {
   "cell_type": "code",
   "execution_count": 8,
   "metadata": {
    "collapsed": false,
    "deletable": true,
    "editable": true
   },
   "outputs": [],
   "source": [
    "df_Y = df_meas.rename(columns={'growth_rate_1_h':'output', 'substrate':'cond'})\n",
    "df_Y.loc[:,'output_id'] = 'BIOMASS_Ecoli_core_w_GAM'\n",
    "df_X = df_conds"
   ]
  },
  {
   "cell_type": "code",
   "execution_count": 9,
   "metadata": {
    "collapsed": false,
    "deletable": true,
    "editable": true
   },
   "outputs": [
    {
     "name": "stdout",
     "output_type": "stream",
     "text": [
      "Changed value of parameter OutputFlag to 1\n",
      "   Prev: 0  Min: 0  Max: 1  Default: 1\n",
      "Changed value of parameter ScaleFlag to 0\n",
      "   Prev: -1  Min: -1  Max: 3  Default: -1\n",
      "Parameter OutputFlag unchanged\n",
      "   Value: 1  Min: 0  Max: 1  Default: 1\n",
      "Changed value of parameter TimeLimit to 7200.0\n",
      "   Prev: 1e+100  Min: 0.0  Max: 1e+100  Default: 1e+100\n"
     ]
    }
   ],
   "source": [
    "est = RadixEstimator()\n",
    "est.fit(ijomc, df_X, df_Y, reg_weight = REG_WEIGHT, max_nonzero_binaries=MAX_NONZERO, optimize=False,\n",
    "       powers=POWERS)\n",
    "\n",
    "est.milp.Params.ScaleFlag = 0\n",
    "est.milp.Params.OutputFlag = 1\n",
    "est.milp.Params.TimeLimit = 2*3600.\n",
    "# est.milp.Params.Presolve = 0\n",
    "# est.milp.Params.FeasibilityTol = 1e-8\n",
    "# est.milp.Params.OptimalityTol = 1e-8\n",
    "\n",
    "# est.optimize()"
   ]
  },
  {
   "cell_type": "markdown",
   "metadata": {
    "deletable": true,
    "editable": true
   },
   "source": [
    "## Validate the fit"
   ]
  },
  {
   "cell_type": "markdown",
   "metadata": {
    "collapsed": true,
    "deletable": true,
    "editable": true
   },
   "source": [
    "base_model = load_json_model('/home/laurence/ME/models/e_coli_core_pc.json')\n",
    "\n",
    "mu_id = 'BIOMASS_Ecoli_core_w_GAM'\n",
    "df_pred = est.predict(df_X, base_model, meas_id=mu_id)\n",
    "\n",
    "df_Y2 = df_Y[[c for c in df_Y.columns if c not in ['order','ex_rxn']]]\n",
    "df_val = pd.merge(df_Y2.rename(columns={'output':'meas'}), df_pred.rename(columns={'rxn':'output_id','x':'pred'}), on=['cond','output_id'])\n",
    "df_val.loc[:,'error'] = (df_val.pred - df_val.meas)\n",
    "df_val.loc[:,'perror'] = df_val.error / df_val.meas * 100\n",
    "df_val\n",
    "\n",
    "a0 = 1./65/3600\n",
    "kfit_dict0 = {k:a0 for k in est.kfit_dict.keys()}\n",
    "df_ref = est.predict(df_X, base_model, meas_id=mu_id, kfit_dict=kfit_dict0)\n",
    "df_ref.rename(columns={'rxn':'output_id','x':'output'}, inplace=True)\n",
    "\n",
    "df_val0 = pd.merge(df_Y2.rename(columns={'output':'meas'}), df_ref.rename(columns={'output':'pred0'}), on=['cond','output_id'])\n",
    "df_val0.loc[:,'error0'] = (df_val0.pred0 - df_val0.meas)\n",
    "df_val0.loc[:,'perror0'] = df_val0.error0 / df_val0.meas * 100\n",
    "\n",
    "df_comp = pd.merge(df_val, df_val0, on=['cond','output_id','meas'])\n",
    "df_comp.loc[:,'error_change'] = (df_comp.error.abs()-df_comp.error0.abs()) / df_comp.error0.abs() * 100\n",
    "df_comp\n",
    "\n",
    "print('Total abs error: %g' % df_comp.error.abs().sum())\n",
    "print('Total perc error: %g%%' % df_comp.perror.abs().sum())\n",
    "print('Total error change: %g%%' % df_comp.error_change.sum())\n",
    "changed = [abs(est.kfit_dict[k]-kfit_dict0[k])>1e-9 for k in est.kfit_dict.keys()]\n",
    "print('Number of keffs changed: %d/%d (%g%%)' % (sum(changed),len(est.kfit_dict), 100*sum(changed)/len(est.kfit_dict) ))"
   ]
  },
  {
   "cell_type": "markdown",
   "metadata": {
    "deletable": true,
    "editable": true
   },
   "source": [
    "# Each Lagrange submodel should start with the optimum"
   ]
  },
  {
   "cell_type": "code",
   "execution_count": 10,
   "metadata": {
    "collapsed": true,
    "deletable": true,
    "editable": true
   },
   "outputs": [],
   "source": [
    "from dynamicme.decomposition import LagrangeMaster, LagrangeSubmodel"
   ]
  },
  {
   "cell_type": "code",
   "execution_count": 11,
   "metadata": {
    "collapsed": false,
    "deletable": true,
    "editable": true
   },
   "outputs": [
    {
     "name": "stdout",
     "output_type": "stream",
     "text": [
      "Changed value of parameter OutputFlag to 1\n",
      "   Prev: 0  Min: 0  Max: 1  Default: 1\n",
      "Changed value of parameter OutputFlag to 1\n",
      "   Prev: 0  Min: 0  Max: 1  Default: 1\n",
      "Changed value of parameter OutputFlag to 1\n",
      "   Prev: 0  Min: 0  Max: 1  Default: 1\n"
     ]
    }
   ],
   "source": [
    "conds = df_conds.cond.unique()\n",
    "sub_dict = {}\n",
    "for cond in conds:\n",
    "    df_Xk = df_X[ df_X.cond==cond]\n",
    "    df_Yk = df_Y[ df_Y.cond==cond]\n",
    "    estk = RadixEstimator()\n",
    "    estk.fit(ijomc, df_Xk, df_Yk, reg_weight = REG_WEIGHT, max_nonzero_binaries=MAX_NONZERO, optimize=False,\n",
    "            powers=POWERS)\n",
    "    sub = LagrangeSubmodel(estk.stacker.model, cond)\n",
    "    sub_dict[cond] = sub"
   ]
  },
  {
   "cell_type": "code",
   "execution_count": 12,
   "metadata": {
    "collapsed": true,
    "deletable": true,
    "editable": true
   },
   "outputs": [],
   "source": [
    "master = LagrangeMaster(estk.stacker.model)\n",
    "master.add_submodels(sub_dict)"
   ]
  },
  {
   "cell_type": "code",
   "execution_count": 13,
   "metadata": {
    "collapsed": true,
    "deletable": true,
    "editable": true
   },
   "outputs": [],
   "source": [
    "for sub in sub_dict.values():\n",
    "    sub.model.Params.MIPGapAbs = 1e-3\n",
    "    sub.model.Params.MIPGap    = 1e-3"
   ]
  },
  {
   "cell_type": "code",
   "execution_count": 14,
   "metadata": {
    "collapsed": false
   },
   "outputs": [
    {
     "data": {
      "text/plain": [
       "True"
      ]
     },
     "execution_count": 14,
     "metadata": {},
     "output_type": "execute_result"
    }
   ],
   "source": [
    "is_bin = [y.upper_bound<=1 for y in master._y0]\n",
    "np.all(is_bin)"
   ]
  },
  {
   "cell_type": "code",
   "execution_count": 15,
   "metadata": {
    "collapsed": false
   },
   "outputs": [
    {
     "data": {
      "text/plain": [
       "<3x3 sparse matrix of type '<type 'numpy.float64'>'\n",
       "\twith 3 stored elements (1 diagonals) in DIAgonal format>"
      ]
     },
     "execution_count": 15,
     "metadata": {},
     "output_type": "execute_result"
    }
   ],
   "source": [
    "from scipy.sparse import identity\n",
    "identity(3)"
   ]
  },
  {
   "cell_type": "code",
   "execution_count": 16,
   "metadata": {
    "collapsed": false
   },
   "outputs": [
    {
     "data": {
      "text/plain": [
       "1.0"
      ]
     },
     "execution_count": 16,
     "metadata": {},
     "output_type": "execute_result"
    }
   ],
   "source": [
    "sub._weight"
   ]
  },
  {
   "cell_type": "markdown",
   "metadata": {
    "deletable": true,
    "editable": true
   },
   "source": [
    "### Two-phase"
   ]
  },
  {
   "cell_type": "code",
   "execution_count": 17,
   "metadata": {
    "collapsed": false,
    "deletable": true,
    "editable": true,
    "scrolled": false
   },
   "outputs": [
    {
     "name": "stdout",
     "output_type": "stream",
     "text": [
      "    Iter                    UB                    LB       gap relgap(%)   penalty                       Time(s)\n",
      "  ------   -------------------   -------------------  -------- ---------  -------- -----------------------------\n",
      "               Best   Feasible        Sub       Best                                   total    master       sub\n",
      "       0       1000     1e+100    0.04277    0.04277      1000       100         0  0.067291  0.003162  0.062505\n",
      "       5     0.9683     1e+100     -46.14    0.04277    0.9255     95.58     0.961  0.225882  0.001158  0.034387\n",
      "      10     0.2411     1e+100     -94.16    0.04277    0.1983     82.26     0.115  0.390470  0.001918  0.029300\n",
      "      15     0.1184     1e+100     -363.8    0.04277   0.07566     63.89    0.0409  0.534291  0.003398  0.022799\n",
      "      20    0.05347     1e+100     -616.3    0.04277   0.01071     20.02   0.00532  0.683790  0.003949  0.027906\n",
      "      25     0.0481     1e+100     -759.3    0.04277  0.005338      11.1  0.000356  0.838370  0.005388  0.024304\n",
      "      30    0.04786     1e+100     -675.6    0.04277  0.005093     10.64  8.34e-06  1.006866  0.007773  0.032204\n",
      "      35    0.04785     1e+100     -219.2    0.04277  0.005087     10.63  2.86e-07  1.174207  0.009261  0.022718\n",
      "      40    0.04785     1e+100     -58.84    0.04277  0.005087     10.63  6.41e-09  1.367101  0.012088  0.027877\n",
      "      45    0.04785     1e+100     -37.11    0.04277  0.005087     10.63  2.36e-09  1.579375  0.015416  0.027890\n",
      "      50    0.04785     1e+100     -67.39    0.04277  0.005087     10.63  1.01e-08  1.794328  0.013020  0.024805\n",
      "      55    0.04785     1e+100     -183.8    0.04277  0.005086     10.63   1.1e-07  1.996160  0.015022  0.024223\n",
      "      60    0.04785     1e+100     -105.1    0.04277  0.005086     10.63   2.5e-08  2.202671  0.016767  0.025923\n",
      "      65    0.04785     1e+100     -335.9    0.04277  0.005085     10.63  2.23e-07  2.430438  0.021877  0.025511\n",
      "      70    0.04785     1e+100     -127.9    0.04277  0.005082     10.62  3.15e-08  2.688745  0.025707  0.023833\n",
      "      75    0.04784     1e+100     -25.55    0.04277  0.005071      10.6  2.17e-09  2.976109  0.027946  0.031040\n",
      "      80    0.04783     1e+100     -7.219    0.04277  0.005062     10.58  1.51e-10  3.270648  0.030985  0.031967\n",
      "      85    0.04782     1e+100     -12.43    0.04277  0.005052     10.57  3.36e-10  3.566682  0.030869  0.029055\n",
      "      90    0.04766     1e+100     -16.37    0.04277  0.004899     10.28  1.39e-09  3.890558  0.036587  0.034192\n",
      "      95    0.04705     1e+100     -2.979    0.04277   0.00429     9.116  3.73e-11  4.234323  0.035271  0.034884\n",
      "     100      0.044     1e+100    -0.7934    0.04277  0.001237     2.811  4.11e-11  4.583282  0.043460  0.025590\n",
      "     104    0.04357     1e+100    -0.2987    0.04277         0         0     2e-13  4.958067  0.055741  0.047693"
     ]
    },
    {
     "name": "stderr",
     "output_type": "stream",
     "text": [
      "/home/laurence/python_modules/dynamicme.git/dynamicme/decomposition.py:2136 \u001b[1;31mUserWarning\u001b[0m: Solution available but Master solver status=suboptimal (13).\n"
     ]
    },
    {
     "name": "stdout",
     "output_type": "stream",
     "text": [
      "\n",
      "    Iter                    UB                    LB       gap relgap(%)   penalty                       Time(s)\n",
      "  ------   -------------------   -------------------  -------- ---------  -------- -----------------------------\n",
      "               Best   Feasible        Sub       Best                                   total    master       sub\n",
      "Master solver status=suboptimal (13).\n",
      "       0    0.04294     1e+100   -0.03593   -0.03593   0.07887     183.7  9.17e-05  0.490434  0.110406  0.379333\n",
      "Master solver status=suboptimal (13).\n",
      "Master solver status=suboptimal (13).\n",
      "Master solver status=suboptimal (13).\n",
      "Master solver status=suboptimal (13).\n",
      "Master solver status=suboptimal (13).\n",
      "       5    0.04265     1e+100    0.02822    0.03966   0.00299      7.01  2.88e-06  2.875734  0.219770  0.315162\n",
      "Master solver status=suboptimal (13).\n",
      "       6    0.04274     1e+100    0.04226    0.04226         0         0  4.77e-07  3.204508  0.267597  0.060518\n",
      "Excluded 1 infeasible alt optima\n",
      "Excluded 1 infeasible alt optima\n",
      "Excluded 1 infeasible alt optima\n",
      "Best feasible solution among 3 alt feasible has objval=0.062537021073\n",
      "Best feasible solution has objval=0.062537021073\n",
      "Master solver status=suboptimal (13).\n",
      "       7    0.04255    0.06254    0.03131    0.04226         0         0   3.2e-08  4.358349  0.125494  0.518443\n",
      "Excluded 3 infeasible alt optima\n",
      "Excluded 1 infeasible alt optima\n",
      "Excluded 1 infeasible alt optima\n",
      "Best feasible solution among 5 alt feasible has objval=0.119742723571\n",
      "Master solver status=suboptimal (13).\n",
      "       8     0.0427    0.06254    0.04044    0.04226         0         0   1.4e-08  6.383691  0.347002  0.527809\n",
      "Excluded 9 infeasible alt optima\n",
      "Excluded 1 infeasible alt optima\n",
      "Excluded 1 infeasible alt optima\n",
      "Best feasible solution among 11 alt feasible has objval=0.0807602546669\n",
      "Master solver status=suboptimal (13).\n",
      "       9    0.04274    0.06254    0.04165    0.04226         0         0  3.82e-10  7.768944  0.271093  0.415567\n",
      "Excluded 10 infeasible alt optima\n",
      "Excluded 1 infeasible alt optima\n",
      "Excluded 1 infeasible alt optima\n",
      "Best feasible solution among 12 alt feasible has objval=0.0535046400842\n",
      "Best feasible solution has objval=0.0535046400842\n",
      "Master solver status=suboptimal (13).\n",
      "      10    0.04274     0.0535    0.04207    0.04226         0         0  8.87e-11  9.027891  0.155251  0.468850\n",
      "Excluded 10 infeasible alt optima\n",
      "Excluded 1 infeasible alt optima\n",
      "Excluded 1 infeasible alt optima\n",
      "Best feasible solution among 12 alt feasible has objval=0.0541000485441\n",
      "      10    0.04274     0.0535    0.04207    0.04226         0         0  8.87e-11  9.678163  0.155251  0.468850\n",
      "Master solver status=suboptimal (13).\n",
      "      11    0.04273     0.0535    0.04234    0.04234         0         0  6.86e-12  10.43402  0.175318  0.579982\n",
      "Excluded 10 infeasible alt optima\n",
      "Excluded 1 infeasible alt optima\n",
      "Excluded 1 infeasible alt optima\n",
      "Best feasible solution among 12 alt feasible has objval=0.119741065348\n",
      "Master solver status=suboptimal (13).\n",
      "      12    0.04275     0.0535     0.0426     0.0426         0         0  1.19e-12  11.86799  0.144261  0.549194\n",
      "Excluded 9 infeasible alt optima\n",
      "Excluded 1 infeasible alt optima\n",
      "Excluded 1 infeasible alt optima\n",
      "Best feasible solution among 11 alt feasible has objval=0.119737476748\n",
      "Master solver status=suboptimal (13).\n",
      "      13    0.04274     0.0535    0.04266    0.04266         0         0  1.67e-13  13.29608  0.175523  0.563065\n",
      "Excluded 10 infeasible alt optima\n",
      "Excluded 1 infeasible alt optima\n",
      "Excluded 1 infeasible alt optima\n",
      "Best feasible solution among 12 alt feasible has objval=0.11976062823\n",
      "Master solver status=suboptimal (13).\n",
      "      14    0.04273     0.0535    0.04271    0.04271         0         0   1.1e-13  14.65463  0.185698  0.458009\n",
      "Excluded 9 infeasible alt optima\n",
      "Excluded 1 infeasible alt optima\n",
      "Excluded 1 infeasible alt optima\n",
      "Best feasible solution among 11 alt feasible has objval=0.119745694659\n",
      "Master solver status=suboptimal (13).\n",
      "      15    0.04275     0.0535    0.04271    0.04271         0         0  5.22e-14  16.53191  0.244879  0.610366\n",
      "Excluded 10 infeasible alt optima\n",
      "Excluded 1 infeasible alt optima\n",
      "Excluded 1 infeasible alt optima\n",
      "Best feasible solution among 12 alt feasible has objval=0.114738338399\n",
      "      15    0.04275     0.0535    0.04271    0.04271         0         0  5.22e-14  17.35581  0.244879  0.610366\n",
      "Master solver status=suboptimal (13).\n",
      "      16    0.04271     0.0535    0.04231    0.04271         0         0  1.13e-13  17.99969  0.155570  0.487920\n",
      "Excluded 10 infeasible alt optima\n",
      "Excluded 1 infeasible alt optima\n",
      "Excluded 1 infeasible alt optima\n",
      "Best feasible solution among 12 alt feasible has objval=0.0568934673414\n",
      "Master solver status=suboptimal (13).\n",
      "      17    0.04276     0.0535    0.04281    0.04281         0         0  4.94e-14  19.46891  0.203820  0.592306\n",
      "Excluded 10 infeasible alt optima\n",
      "Excluded 1 infeasible alt optima\n",
      "Excluded 1 infeasible alt optima\n",
      "Best feasible solution among 11 alt feasible has objval=0.0868819748377\n",
      "Master solver status=suboptimal (13).\n",
      "      18    0.04273     0.0535    0.04259    0.04281         0         0   5.8e-15  20.87648  0.203094  0.480624\n",
      "Excluded 10 infeasible alt optima\n",
      "Excluded 1 infeasible alt optima\n",
      "Excluded 1 infeasible alt optima\n",
      "Best feasible solution among 12 alt feasible has objval=0.10256431602\n",
      "Master solver status=suboptimal (13).\n",
      "      19    0.04274     0.0535     0.0426    0.04281         0         0  3.65e-15  22.23379  0.258700  0.498414\n",
      "Excluded 10 infeasible alt optima\n",
      "Excluded 1 infeasible alt optima\n",
      "Excluded 1 infeasible alt optima\n",
      "Best feasible solution among 12 alt feasible has objval=0.0574195780829\n",
      "Master solver status=suboptimal (13).\n",
      "      20    0.04271     0.0535    0.04247    0.04281         0         0  7.11e-15  23.64607  0.214269  0.551388\n",
      "Excluded 9 infeasible alt optima\n",
      "Excluded 1 infeasible alt optima\n",
      "Excluded 1 infeasible alt optima\n",
      "Best feasible solution among 11 alt feasible has objval=0.116346286657\n",
      "      20    0.04271     0.0535    0.04247    0.04281         0         0  7.11e-15  24.32479  0.214269  0.551388\n",
      "Master solver status=suboptimal (13).\n",
      "      21    0.04273     0.0535    0.04259    0.04281         0         0  2.95e-15  25.26140  0.382894  0.553384\n",
      "Excluded 9 infeasible alt optima\n",
      "Excluded 1 infeasible alt optima\n",
      "Excluded 1 infeasible alt optima\n",
      "Best feasible solution among 11 alt feasible has objval=0.119835744522\n",
      "Master solver status=suboptimal (13).\n",
      "      22    0.04275     0.0535    0.04272    0.04281         0         0  2.41e-16  26.61626  0.170320  0.533123\n",
      "Excluded 10 infeasible alt optima\n",
      "Excluded 1 infeasible alt optima\n",
      "Excluded 1 infeasible alt optima\n",
      "Best feasible solution among 12 alt feasible has objval=0.119757930592\n",
      "Master solver status=suboptimal (13).\n",
      "      23    0.04275     0.0535    0.04271    0.04281         0         0  3.02e-17  27.93307  0.181843  0.482231\n",
      "Excluded 10 infeasible alt optima\n",
      "Excluded 1 infeasible alt optima\n",
      "Excluded 1 infeasible alt optima\n",
      "Best feasible solution among 12 alt feasible has objval=0.119757010229\n",
      "Master solver status=suboptimal (13).\n",
      "      24    0.04269     0.0535    0.04241    0.04281         0         0  4.11e-16  29.49822  0.407402  0.518954\n",
      "Excluded 10 infeasible alt optima\n",
      "Excluded 1 infeasible alt optima\n",
      "Excluded 1 infeasible alt optima\n",
      "Best feasible solution among 12 alt feasible has objval=0.0843675012215\n",
      "Master solver status=suboptimal (13).\n",
      "      25     0.0427     0.0535    0.04252    0.04281         0         0   1.9e-16  30.91758  0.246056  0.514201\n",
      "Excluded 10 infeasible alt optima\n",
      "Excluded 1 infeasible alt optima\n",
      "Excluded 1 infeasible alt optima\n",
      "Best feasible solution among 12 alt feasible has objval=0.106602879209\n",
      "      25     0.0427     0.0535    0.04252    0.04281         0         0   1.9e-16  31.55273  0.246056  0.514201\n",
      "Master solver status=suboptimal (13).\n",
      "Master solver status=suboptimal (13).\n",
      "      27    0.04238     0.0535    0.04079    0.04281         0         0  2.73e-14  34.29597  0.360757  0.604840\n",
      "Excluded 3 infeasible alt optima\n",
      "Excluded 1 infeasible alt optima\n",
      "Excluded 1 infeasible alt optima\n",
      "Best feasible solution among 5 alt feasible has objval=0.11552451843\n",
      "Master solver status=suboptimal (13).\n",
      "      28    0.04272     0.0535    0.04267    0.04281         0         0  3.97e-16  35.98304  0.453570  0.589834\n",
      "Excluded 10 infeasible alt optima\n",
      "Excluded 1 infeasible alt optima\n",
      "Excluded 1 infeasible alt optima\n",
      "Best feasible solution among 12 alt feasible has objval=0.105090159079\n",
      "Master solver status=suboptimal (13).\n",
      "      29    0.04265     0.0535    0.04232    0.04281         0         0  1.25e-17  37.57848  0.237845  0.596349\n",
      "Excluded 10 infeasible alt optima\n",
      "Excluded 1 infeasible alt optima\n",
      "Excluded 1 infeasible alt optima\n",
      "Best feasible solution among 12 alt feasible has objval=0.0726667863897\n",
      "Master solver status=suboptimal (13).\n",
      "      30    0.04272     0.0535    0.04258    0.04281         0         0  7.16e-18  39.57058  0.193155  0.543684\n",
      "Excluded 10 infeasible alt optima\n",
      "Excluded 1 infeasible alt optima\n",
      "Excluded 1 infeasible alt optima\n",
      "Best feasible solution among 12 alt feasible has objval=0.118649163815\n",
      "      30    0.04272     0.0535    0.04258    0.04281         0         0  7.16e-18  40.23761  0.193155  0.543684\n",
      "Master solver status=suboptimal (13).\n",
      "      31    0.04272     0.0535    0.04261    0.04281         0         0   6.6e-19  41.03380  0.213346  0.582496\n",
      "Excluded 10 infeasible alt optima\n",
      "Excluded 1 infeasible alt optima\n",
      "Excluded 1 infeasible alt optima\n",
      "Best feasible solution among 12 alt feasible has objval=0.11985841941\n",
      "Master solver status=suboptimal (13).\n",
      "      32    0.04273     0.0535    0.04265    0.04281         0         0  1.78e-19  42.55033  0.188623  0.571179\n",
      "Excluded 9 infeasible alt optima\n",
      "Excluded 1 infeasible alt optima\n",
      "Excluded 1 infeasible alt optima\n",
      "Best feasible solution among 11 alt feasible has objval=0.0578820273783\n",
      "Master solver status=suboptimal (13).\n",
      "Master solver status=suboptimal (13).\n",
      "      34    0.04249     0.0535    0.04169    0.04281         0         0  5.22e-16  46.10526  0.183480  0.992455\n",
      "Excluded 10 infeasible alt optima\n",
      "Excluded 1 infeasible alt optima\n",
      "Excluded 1 infeasible alt optima\n",
      "Best feasible solution among 12 alt feasible has objval=0.116397561999\n",
      "Master solver status=suboptimal (13).\n",
      "      35    0.03809     0.0535    0.02199    0.04281  0.004723      12.4   8.4e-16  49.36025  0.224193  1.728572\n",
      "Master solver status=suboptimal (13).\n",
      "      36    0.04269     0.0535    0.04252    0.04281         0         0  8.32e-16  50.20472  0.264022  0.579973\n",
      "Excluded 10 infeasible alt optima\n",
      "Excluded 4 infeasible alt optima\n",
      "Excluded 1 infeasible alt optima\n",
      "Best feasible solution among 15 alt feasible has objval=0.0539966337356\n",
      "Master solver status=suboptimal (13).\n",
      "      37    0.04251     0.0535      0.042    0.04281         0         0     2e-18  51.85982  0.198293  0.641293\n",
      "Excluded 10 infeasible alt optima\n",
      "Excluded 1 infeasible alt optima\n",
      "Excluded 1 infeasible alt optima\n",
      "Best feasible solution among 12 alt feasible has objval=0.0576044018408\n",
      "Master solver status=suboptimal (13).\n",
      "      38    0.04271     0.0535    0.04255    0.04281         0         0  2.27e-18  53.48670  0.197319  0.599115\n",
      "Excluded 10 infeasible alt optima\n",
      "Excluded 1 infeasible alt optima\n",
      "Excluded 2 infeasible alt optima\n",
      "Best feasible solution among 13 alt feasible has objval=0.0623865170812\n",
      "Master solver status=suboptimal (13).\n",
      "      39    0.04271     0.0535    0.04268    0.04281         0         0  1.88e-19  55.07067  0.166324  0.631778\n",
      "Excluded 10 infeasible alt optima\n",
      "Excluded 1 infeasible alt optima\n",
      "Excluded 1 infeasible alt optima\n",
      "Best feasible solution among 12 alt feasible has objval=0.0623865170812\n",
      "Master solver status=suboptimal (13).\n",
      "      40    0.04004     0.0535    0.02894    0.04281  0.002774     6.928  3.99e-16  57.55102  0.186686  1.506163\n",
      "Master solver status=suboptimal (13).\n",
      "Master solver status=suboptimal (13).\n",
      "Master solver status=suboptimal (13).\n",
      "Master solver status=suboptimal (13).\n",
      "      44    0.04228     0.0535    0.04115    0.04281         0         0  2.18e-16  63.42604  0.224771  0.690521\n",
      "Excluded 8 infeasible alt optima\n",
      "Excluded 1 infeasible alt optima\n",
      "Excluded 1 infeasible alt optima\n",
      "Best feasible solution among 10 alt feasible has objval=0.119735751667\n",
      "Master solver status=suboptimal (13).\n",
      "      45    0.04158     0.0535    0.03876    0.04281  0.001226     2.949   4.8e-17  65.09038  0.177345  0.677853\n",
      "Master solver status=suboptimal (13).\n",
      "Master solver status=suboptimal (13).\n",
      "      47     0.0427     0.0535    0.04253    0.04281         0         0  3.51e-17  67.64599  0.419706  0.693104\n",
      "Excluded 9 infeasible alt optima\n",
      "Excluded 1 infeasible alt optima\n",
      "Excluded 1 infeasible alt optima\n",
      "Best feasible solution among 11 alt feasible has objval=0.0950787674492\n",
      "Master solver status=suboptimal (13).\n",
      "      48    0.04271     0.0535    0.04262    0.04281         0         0  1.55e-19  69.30871  0.181915  0.722779\n",
      "Excluded 9 infeasible alt optima\n",
      "Excluded 1 infeasible alt optima\n",
      "Excluded 1 infeasible alt optima\n",
      "Best feasible solution among 11 alt feasible has objval=0.119734246881\n",
      "Master solver status=suboptimal (13).\n",
      "      49    0.04194     0.0535    0.04065    0.04281         0         0  1.17e-17  71.32690  0.390269  0.736426\n",
      "Excluded 4 infeasible alt optima\n",
      "Excluded 1 infeasible alt optima\n",
      "Excluded 1 infeasible alt optima\n",
      "Best feasible solution among 6 alt feasible has objval=0.119741453617\n",
      "Master solver status=suboptimal (13).\n",
      "      50     0.0424     0.0535    0.04193    0.04281         0         0  9.69e-18  73.60020  0.335562  0.749617\n",
      "Excluded 8 infeasible alt optima\n",
      "Excluded 1 infeasible alt optima\n",
      "Excluded 1 infeasible alt optima\n",
      "Best feasible solution among 10 alt feasible has objval=0.0691764673948\n",
      "      50     0.0424     0.0535    0.04193    0.04281         0         0  9.69e-18  74.53723  0.335562  0.749617\n",
      "Master solver status=suboptimal (13).\n",
      "Master solver status=suboptimal (13).\n",
      "      52    0.04271     0.0535    0.04265    0.04281         0         0  3.24e-16  77.18044  0.211223  0.657429\n",
      "Excluded 10 infeasible alt optima\n",
      "Excluded 1 infeasible alt optima\n",
      "Excluded 1 infeasible alt optima\n",
      "Best feasible solution among 12 alt feasible has objval=0.119744242041\n",
      "Master solver status=suboptimal (13).\n",
      "      53    0.04272     0.0535    0.04266    0.04281         0         0  1.32e-19  78.85273  0.197606  0.732613\n",
      "Excluded 10 infeasible alt optima\n",
      "Excluded 1 infeasible alt optima\n",
      "Excluded 1 infeasible alt optima\n",
      "Best feasible solution among 12 alt feasible has objval=0.119772551554\n",
      "Master solver status=suboptimal (13).\n",
      "Master solver status=suboptimal (13).\n",
      "      55    0.04217     0.0535    0.04161    0.04281         0         0  4.19e-17  81.59479  0.204072  0.630170\n",
      "Excluded 10 infeasible alt optima\n",
      "Excluded 1 infeasible alt optima\n",
      "Excluded 1 infeasible alt optima\n",
      "Best feasible solution among 12 alt feasible has objval=0.0978095586877\n",
      "      55    0.04217     0.0535    0.04161    0.04281         0         0  4.19e-17  82.33595  0.204072  0.630170\n",
      "Master solver status=suboptimal (13).\n",
      "      56    0.04272     0.0535    0.04269    0.04281         0         0  3.06e-18  83.23410  0.176939  0.720813\n",
      "Excluded 10 infeasible alt optima\n",
      "Excluded 1 infeasible alt optima\n",
      "Excluded 1 infeasible alt optima\n",
      "Best feasible solution among 12 alt feasible has objval=0.119753410101\n",
      "Master solver status=suboptimal (13).\n",
      "      57    0.04272     0.0535    0.04269    0.04281         0         0  9.74e-20  84.99409  0.200905  0.713366\n",
      "Excluded 10 infeasible alt optima\n",
      "Excluded 1 infeasible alt optima\n",
      "Excluded 1 infeasible alt optima\n",
      "Best feasible solution among 12 alt feasible has objval=0.0596311322357\n",
      "Master solver status=suboptimal (13).\n",
      "      58    0.04266     0.0535    0.04251    0.04281         0         0  3.66e-19  87.04958  0.297894  0.918895\n",
      "Excluded 9 infeasible alt optima\n",
      "Excluded 1 infeasible alt optima\n",
      "Excluded 1 infeasible alt optima\n",
      "Best feasible solution among 11 alt feasible has objval=0.0796047193155\n",
      "Master solver status=suboptimal (13).\n",
      "Master solver status=suboptimal (13).\n",
      "      60    0.03936     0.0535    0.03339    0.04281  0.003451     8.767  3.68e-16  91.65742  0.264018  1.615238\n",
      "Master solver status=suboptimal (13).\n",
      "Master solver status=suboptimal (13).\n",
      "      62    0.04272     0.0535    0.04265    0.04281         0         0  2.11e-17  93.76749  0.185184  0.812812\n",
      "Excluded 10 infeasible alt optima\n",
      "Excluded 1 infeasible alt optima\n",
      "Excluded 1 infeasible alt optima\n",
      "Best feasible solution among 12 alt feasible has objval=0.119740688857\n",
      "Master solver status=suboptimal (13).\n",
      "      63    0.04274     0.0535    0.04269    0.04281         0         0  4.17e-20  95.74014  0.236450  0.797271\n",
      "Excluded 9 infeasible alt optima\n",
      "Excluded 1 infeasible alt optima\n",
      "Best obj=0.0426949. Tot obj=0.0429823. obj=-2.13004e-05 for glucose\n",
      "Alt optimum 0 in subprob glucose is feasible! Done.\n",
      "Best feasible solution has objval=0.0429822877972\n",
      "sum_k Hk*yk: [0.00000000e+00 1.11022302e-16 1.11022302e-16 1.11022302e-16\n",
      " 0.00000000e+00 1.11022302e-16 1.11022302e-16 0.00000000e+00\n",
      " 0.00000000e+00 1.11022302e-16 0.00000000e+00 0.00000000e+00\n",
      " 0.00000000e+00 1.11022302e-16 0.00000000e+00 0.00000000e+00\n",
      " 0.00000000e+00 1.11022302e-16 0.00000000e+00 1.11022302e-16\n",
      " 1.11022302e-16 0.00000000e+00 1.11022302e-16 1.11022302e-16\n",
      " 1.11022302e-16 1.11022302e-16 1.11022302e-16 0.00000000e+00\n",
      " 1.11022302e-16 0.00000000e+00 1.11022302e-16 1.11022302e-16\n",
      " 1.11022302e-16 0.00000000e+00 1.11022302e-16 1.11022302e-16\n",
      " 1.11022302e-16 0.00000000e+00 1.11022302e-16 1.11022302e-16\n",
      " 0.00000000e+00 1.11022302e-16 0.00000000e+00 1.11022302e-16\n",
      " 0.00000000e+00 1.11022302e-16 0.00000000e+00 0.00000000e+00\n",
      " 1.11022302e-16 1.11022302e-16 1.11022302e-16 0.00000000e+00\n",
      " 1.11022302e-16 1.11022302e-16 0.00000000e+00 0.00000000e+00\n",
      " 1.11022302e-16 1.11022302e-16 1.11022302e-16 1.11022302e-16\n",
      " 1.11022302e-16 0.00000000e+00 0.00000000e+00 1.11022302e-16\n",
      " 0.00000000e+00 1.11022302e-16 1.11022302e-16 1.11022302e-16\n",
      " 1.11022302e-16 0.00000000e+00 1.11022302e-16 1.11022302e-16\n",
      " 1.11022302e-16 0.00000000e+00 0.00000000e+00 1.11022302e-16\n",
      " 0.00000000e+00 1.11022302e-16 1.11022302e-16 0.00000000e+00\n",
      " 1.11022302e-16 0.00000000e+00 0.00000000e+00 1.11022302e-16\n",
      " 0.00000000e+00 1.11022302e-16 1.11022302e-16 1.11022302e-16\n",
      " 1.11022302e-16 1.11022302e-16 1.11022302e-16 1.11022302e-16\n",
      " 1.11022302e-16 0.00000000e+00 1.11022302e-16 1.11022302e-16\n",
      " 1.11022302e-16 1.11022302e-16 1.11022302e-16 1.11022302e-16\n",
      " 1.11022302e-16 1.11022302e-16 1.11022302e-16 1.11022302e-16\n",
      " 1.11022302e-16 1.11022302e-16 1.11022302e-16 1.11022302e-16\n",
      " 0.00000000e+00 1.11022302e-16 1.11022302e-16 0.00000000e+00\n",
      " 1.11022302e-16 1.11022302e-16 0.00000000e+00 1.11022302e-16\n",
      " 1.11022302e-16 1.11022302e-16 1.11022302e-16 1.11022302e-16\n",
      " 1.11022302e-16 1.11022302e-16 0.00000000e+00 0.00000000e+00\n",
      " 1.11022302e-16 0.00000000e+00 1.11022302e-16 1.11022302e-16\n",
      " 1.11022302e-16 1.11022302e-16 0.00000000e+00 0.00000000e+00\n",
      " 1.11022302e-16 1.11022302e-16 1.11022302e-16 1.11022302e-16\n",
      " 1.11022302e-16 1.11022302e-16 1.11022302e-16 1.11022302e-16\n",
      " 0.00000000e+00 1.11022302e-16 1.11022302e-16 1.11022302e-16]\n"
     ]
    }
   ],
   "source": [
    "master.time_limit = 2*3600\n",
    "#master.max_iter = 500\n",
    "master.verbosity = 2\n",
    "master.print_iter = 5\n",
    "# master.gaptol = 0.02\n",
    "master.gaptol = 1e-3\n",
    "master.absgaptol = 1e-3\n",
    "feasible_method = 'enumerate'\n",
    "alt_method = 'pool'\n",
    "max_alt = 10    # Computationally expensive if too large. Might miss feasible solution if too small.\n",
    "                # Can make adaptive if no feasible solution found for certain iterations.\n",
    "\n",
    "if TWO_PHASE:\n",
    "    sol_master = master.solve_relaxed(feasible_method=None)\n",
    "    df_phase1 = pd.DataFrame(master.log_rows)\n",
    "    \n",
    "sol_master = master.optimize(feasible_method=feasible_method, max_alt=max_alt, alt_method=alt_method,\n",
    "                            nogood_cuts = True) \n",
    "df_phase2 = pd.DataFrame(master.log_rows)"
   ]
  },
  {
   "cell_type": "code",
   "execution_count": 24,
   "metadata": {
    "collapsed": false
   },
   "outputs": [
    {
     "data": {
      "text/plain": [
       "144"
      ]
     },
     "execution_count": 24,
     "metadata": {},
     "output_type": "execute_result"
    }
   ],
   "source": [
    "len(master._us)"
   ]
  },
  {
   "cell_type": "code",
   "execution_count": 18,
   "metadata": {
    "collapsed": false,
    "deletable": true,
    "editable": true
   },
   "outputs": [
    {
     "data": {
      "text/plain": [
       "100.6982102394104"
      ]
     },
     "execution_count": 18,
     "metadata": {},
     "output_type": "execute_result"
    }
   ],
   "source": [
    "df_phase1.t_total.max() + df_phase2.t_total.max()"
   ]
  },
  {
   "cell_type": "code",
   "execution_count": 19,
   "metadata": {
    "collapsed": false,
    "deletable": true,
    "editable": true
   },
   "outputs": [
    {
     "data": {
      "text/plain": [
       "<seaborn.axisgrid.FacetGrid at 0x7fe40b995e10>"
      ]
     },
     "execution_count": 19,
     "metadata": {},
     "output_type": "execute_result"
    },
    {
     "data": {
      "image/png": "[encoded data removed]",
      "text/plain": [
       "<matplotlib.figure.Figure at 0x7fe40b9a7a50>"
      ]
     },
     "metadata": {},
     "output_type": "display_data"
    }
   ],
   "source": [
    "xcol = 'iter'\n",
    "df_phase1.loc[:,'phase'] = 1\n",
    "df_phase2.loc[:,'phase'] = 2\n",
    "dsplot = pd.concat([df_phase1, df_phase2])\n",
    "dsplot = dsplot[[xcol,'feasUB','bestUB','bestLB','phase']]\n",
    "dsplot = dsplot.melt(id_vars=[xcol,'phase'])\n",
    "dsplot.loc[ dsplot.value>1e1, 'value'] = np.nan\n",
    "dsplot.loc[ dsplot.value<-1e1, 'value'] = np.nan\n",
    "\n",
    "g = sns.FacetGrid(dsplot, hue='variable', size=4, aspect=3, row='phase', sharey=False)\n",
    "g.map(plt.plot, xcol,'value')\n",
    "g.add_legend()"
   ]
  },
  {
   "cell_type": "code",
   "execution_count": 20,
   "metadata": {
    "collapsed": true,
    "deletable": true,
    "editable": true
   },
   "outputs": [],
   "source": [
    "var_cons_dict = estk.var_cons_dict\n",
    "powers = estk.powers\n",
    "digits = estk.digits\n",
    "radix  = estk.radix"
   ]
  },
  {
   "cell_type": "code",
   "execution_count": 21,
   "metadata": {
    "collapsed": false,
    "deletable": true,
    "editable": true
   },
   "outputs": [
    {
     "name": "stdout",
     "output_type": "stream",
     "text": [
      "Changed keffs: 44/48\n",
      "Cond=glucose. mu_meas=0.74. mu_sim=0.740001 (unfit=0.873922, error=18.1%). Error=0.000109% (-100% change)\n",
      "\tEX_glc__D_e uptake=-10\n",
      "\tEX_fru_e uptake=0\n",
      "\tEX_succ_e uptake=0\n",
      "\tEX_mal__L_e uptake=0\n",
      "\tEX_ac_e uptake=0\n",
      "Cond=succinate. mu_meas=0.46. mu_sim=0.397563 (unfit=0.397563, error=-13.6%). Error=-13.6% (-1.32e-10% change)\n",
      "\tEX_glc__D_e uptake=0\n",
      "\tEX_fru_e uptake=0\n",
      "\tEX_succ_e uptake=-10\n",
      "\tEX_mal__L_e uptake=0\n",
      "\tEX_ac_e uptake=0\n",
      "Cond=acetate. mu_meas=0.256. mu_sim=0.256273 (unfit=0.389313, error=52.1%). Error=0.107% (-99.8% change)\n",
      "\tEX_glc__D_e uptake=0\n",
      "\tEX_fru_e uptake=0\n",
      "\tEX_succ_e uptake=0\n",
      "\tEX_mal__L_e uptake=0\n",
      "\tEX_ac_e uptake=-20\n",
      "Absolute total error: 0.0627106\n",
      "Total error change: -80.9778%\n",
      "Absolute percent error: 0.000109479% -- 13.5733%\n",
      "Mean abs percent error = 4.55998%\n",
      "Median abs percent error = 0.106578%\n"
     ]
    }
   ],
   "source": [
    "kfit_dict = {}\n",
    "for group_id, var_dict in iteritems(var_cons_dict):\n",
    "    var = var_dict[0]\n",
    "    cons = var_dict[1]\n",
    "    a0  = var_dict[0][2]\n",
    "    kfit = 0.\n",
    "    for l,pwr in enumerate(powers):\n",
    "        for k,digit in enumerate(digits):            \n",
    "            yid = 'binary_%s%s%s' % (group_id,k,l)\n",
    "            y   = sol_master[yid]\n",
    "#             y   = sol_masterk[yid]\n",
    "            kfit += y*a0*radix**pwr*digit\n",
    "    kfit_dict[group_id] = kfit\n",
    "\n",
    "kfit_changed = [(k,v, abs(v-a0)/a0) for k,v in iteritems(kfit_dict) if abs(v-a0)/a0>1e-6]\n",
    "print('Changed keffs: %d/%d' % (len(kfit_changed), len(var_cons_dict)))\n",
    "#----------------------------------------\n",
    "# Starting from basal model\n",
    "perrs = []\n",
    "errs_fit = []\n",
    "errs_unfit = []\n",
    "csrcs = df_conds.cond.unique()\n",
    "for csrc in csrcs:    \n",
    "    ijofit = load_json_model('/home/laurence/ME/models/e_coli_core_pc.json')\n",
    "    crowding = ijofit.metabolites.get_by_id('crowding')\n",
    "    df_condi = df_conds[ df_conds.cond==csrc]    \n",
    "    for i,row in df_condi.iterrows():\n",
    "        rid = row['rxn']\n",
    "        rxn = ijofit.reactions.get_by_id(rid)\n",
    "        rxn.lower_bound = row['lb']\n",
    "        rxn.upper_bound = row['ub']\n",
    "\n",
    "    for rid,kfit in iteritems(kfit_dict):\n",
    "        rxn = ijofit.reactions.get_by_id(rid)\n",
    "        rxn.add_metabolites({crowding:kfit}, combine=False)\n",
    "    \n",
    "    ijofit.optimize()\n",
    "    \n",
    "    mu_measi = df_meas[ df_meas.substrate==csrc].growth_rate_1_h.iloc[0]\n",
    "    mu_fiti = ijofit.reactions.BIOMASS_Ecoli_core_w_GAM.x\n",
    "    \n",
    "    # Get unfit\n",
    "    for rxn in ijofit.metabolites.crowding.reactions:\n",
    "        rxn._metabolites[crowding] = a0\n",
    "    ijofit.optimize()\n",
    "    mu_unfiti = ijofit.reactions.BIOMASS_Ecoli_core_w_GAM.x\n",
    "    err0= 100*(mu_unfiti-mu_measi)/mu_measi\n",
    "    err = 100*(mu_fiti - mu_measi)/mu_measi\n",
    "    derr= 100*(abs(err)-abs(err0))/abs(err0)\n",
    "    perrs.append(err)\n",
    "    errs_unfit.append(mu_unfiti - mu_measi)\n",
    "    errs_fit.append(mu_fiti - mu_measi)\n",
    "    print('Cond=%s. mu_meas=%g. mu_sim=%g (unfit=%g, error=%.3g%%). Error=%.3g%% (%.3g%% change)' % (\n",
    "        csrc, mu_measi, mu_fiti, mu_unfiti, err0, err, derr))\n",
    "    for i,row in df_condi.iterrows():\n",
    "        rid = row['rxn']\n",
    "        rxn = ijofit.reactions.get_by_id(rid)        \n",
    "        print('\\t%s uptake=%g' % (rxn.id, rxn.x))\n",
    "perrs = np.array(perrs)\n",
    "errs_fit = np.array(errs_fit)\n",
    "errs_unfit = np.array(errs_unfit)\n",
    "tot_err = sum(abs(errs_fit))\n",
    "tot_err0 = sum(abs(errs_unfit))\n",
    "print(\"Absolute total error: %g\"%(tot_err))\n",
    "print(\"Total error change: %g%%\"%( 100*(tot_err-tot_err0)/tot_err0  ))\n",
    "print(\"Absolute percent error: %g%% -- %g%%\"%(min(abs(perrs)), max(abs(perrs))))\n",
    "print(\"Mean abs percent error = %g%%\"%(np.mean(abs(perrs))))\n",
    "print(\"Median abs percent error = %g%%\"%(np.median(abs(perrs))))"
   ]
  },
  {
   "cell_type": "markdown",
   "metadata": {
    "deletable": true,
    "editable": true
   },
   "source": [
    "## Confirm that all ys the same"
   ]
  },
  {
   "cell_type": "code",
   "execution_count": 22,
   "metadata": {
    "collapsed": false,
    "deletable": true,
    "editable": true
   },
   "outputs": [
    {
     "name": "stdout",
     "output_type": "stream",
     "text": [
      "  binary_G6P         0.0         0.0        True\n",
      "  binary_G6P         1.0         1.0        True\n",
      "  binary_G6P         1.0         1.0        True\n",
      "  binary_AKG         1.0         1.0        True\n",
      "  binary_AKG         0.0         0.0        True\n",
      "  binary_AKG         1.0         1.0        True\n",
      "  binary_ME2         1.0         1.0        True\n",
      "  binary_ME2         0.0         0.0        True\n",
      "  binary_ME2         0.0         0.0        True\n",
      "  binary_MAL         1.0         1.0        True\n",
      "  binary_MAL         0.0         0.0        True\n",
      "  binary_MAL         0.0         0.0        True\n",
      "  binary_GLU         0.0         0.0        True\n",
      "  binary_GLU         1.0         1.0        True\n",
      "  binary_GLU         0.0         0.0        True\n",
      "  binary_ME1         0.0         0.0        True\n",
      "  binary_ME1         0.0         0.0        True\n",
      "  binary_ME1         1.0         1.0        True\n",
      "  binary_PGI         0.0         0.0        True\n",
      "  binary_PGI         1.0         1.0        True\n",
      "  binary_PGI         1.0         1.0        True\n",
      "  binary_GND         0.0         0.0        True\n",
      "  binary_GND         1.0         1.0        True\n",
      "  binary_GND         1.0         1.0        True\n",
      "  binary_ACK         1.0         1.0        True\n",
      "  binary_ACK         1.0         1.0        True\n",
      "  binary_ACK         1.0         1.0        True\n",
      "  binary_GLN         0.0         0.0        True\n",
      "  binary_GLN         1.0         1.0        True\n",
      "  binary_GLN         0.0         0.0        True\n",
      "  binary_FUM         1.0         1.0        True\n",
      "  binary_FUM         1.0         1.0        True\n",
      "  binary_FUM         1.0         1.0        True\n",
      "  binary_SUC         0.0         0.0        True\n",
      "  binary_SUC         1.0         1.0        True\n",
      "  binary_SUC         1.0         1.0        True\n",
      "  binary_PPC         1.0         1.0        True\n",
      "  binary_PPC         0.0         0.0        True\n",
      "  binary_PPC         1.0         1.0        True\n",
      "  binary_MDH         1.0         1.0        True\n",
      "  binary_MDH         0.0         0.0        True\n",
      "  binary_MDH         1.0         1.0        True\n",
      "  binary_GLU         0.0         0.0        True\n",
      "  binary_GLU         1.0         1.0        True\n",
      "  binary_GLU         0.0         0.0        True\n",
      "  binary_GLU         1.0         1.0        True\n",
      "  binary_GLU         0.0         0.0        True\n",
      "  binary_GLU         0.0         0.0        True\n",
      "  binary_PGL         1.0         1.0        True\n",
      "  binary_PGL         1.0         1.0        True\n",
      "  binary_PGL         1.0         1.0        True\n",
      "  binary_PGM         0.0         0.0        True\n",
      "  binary_PGM         1.0         1.0        True\n",
      "  binary_PGM         1.0         1.0        True\n",
      "  binary_ACA         0.0         0.0        True\n",
      "  binary_ACA         0.0         0.0        True\n",
      "  binary_ACA         1.0         1.0        True\n",
      "  binary_PGK         1.0         1.0        True\n",
      "  binary_PGK         1.0         1.0        True\n",
      "  binary_PGK         1.0         1.0        True\n",
      "  binary_ADK         1.0         1.0        True\n",
      "  binary_ADK         0.0         0.0        True\n",
      "  binary_ADK         0.0         0.0        True\n",
      "  binary_PPS         1.0         1.0        True\n",
      "  binary_PPS         0.0         0.0        True\n",
      "  binary_PPS         1.0         1.0        True\n",
      "  binary_PTA         1.0         1.0        True\n",
      "  binary_PTA         1.0         1.0        True\n",
      "  binary_PTA         1.0         1.0        True\n",
      "  binary_TAL         0.0         0.0        True\n",
      "  binary_TAL         1.0         1.0        True\n",
      "  binary_TAL         1.0         1.0        True\n",
      "  binary_ALC         1.0         1.0        True\n",
      "  binary_ALC         0.0         0.0        True\n",
      "  binary_ALC         0.0         0.0        True\n",
      "  binary_SUC         1.0         1.0        True\n",
      "  binary_SUC         0.0         0.0        True\n",
      "  binary_SUC         1.0         1.0        True\n",
      "  binary_RPE         1.0         1.0        True\n",
      "  binary_RPE         0.0         0.0        True\n",
      "  binary_RPE         1.0         1.0        True\n",
      "  binary_NAD         0.0         0.0        True\n",
      "  binary_NAD         0.0         0.0        True\n",
      "  binary_NAD         1.0         1.0        True\n",
      "  binary_ICD         0.0         0.0        True\n",
      "  binary_ICD         1.0         1.0        True\n",
      "  binary_ICD         1.0         1.0        True\n",
      "  binary_GAP         1.0         1.0        True\n",
      "  binary_GAP         1.0         1.0        True\n",
      "  binary_GAP         1.0         1.0        True\n",
      "  binary_ICL         1.0         1.0        True\n",
      "  binary_ICL         1.0         1.0        True\n",
      "  binary_ICL         1.0         1.0        True\n",
      "  binary_TPI         0.0         0.0        True\n",
      "  binary_TPI         1.0         1.0        True\n",
      "  binary_TPI         1.0         1.0        True\n",
      "  binary_ENO         1.0         1.0        True\n",
      "  binary_ENO         1.0         1.0        True\n",
      "  binary_ENO         1.0         1.0        True\n",
      "  binary_ACO         1.0         1.0        True\n",
      "  binary_ACO         1.0         1.0        True\n",
      "  binary_ACO         1.0         1.0        True\n",
      "  binary_RPI         1.0         1.0        True\n",
      "  binary_RPI         1.0         1.0        True\n",
      "  binary_RPI         1.0         1.0        True\n",
      "  binary_ACO         1.0         1.0        True\n",
      "  binary_ACO         1.0         1.0        True\n",
      "  binary_ACO         1.0         1.0        True\n",
      "  binary_PDH         0.0         0.0        True\n",
      "  binary_PDH         1.0         1.0        True\n",
      "  binary_PDH         1.0         1.0        True\n",
      "  binary_CS0         0.0         0.0        True\n",
      "  binary_CS0         1.0         1.0        True\n",
      "  binary_CS0         1.0         1.0        True\n",
      "  binary_TKT         0.0         0.0        True\n",
      "  binary_TKT         1.0         1.0        True\n",
      "  binary_TKT         1.0         1.0        True\n",
      "  binary_FBP         1.0         1.0        True\n",
      "  binary_FBP         1.0         1.0        True\n",
      "  binary_FBP         1.0         1.0        True\n",
      "  binary_TKT         1.0         1.0        True\n",
      "  binary_TKT         1.0         1.0        True\n",
      "  binary_TKT         0.0         0.0        True\n",
      "  binary_PPC         0.0         0.0        True\n",
      "  binary_PPC         1.0         1.0        True\n",
      "  binary_PPC         0.0         0.0        True\n",
      "  binary_PFK         1.0         1.0        True\n",
      "  binary_PFK         1.0         1.0        True\n",
      "  binary_PFK         1.0         1.0        True\n",
      "  binary_PFL         1.0         1.0        True\n",
      "  binary_PFL         0.0         0.0        True\n",
      "  binary_PFL         0.0         0.0        True\n",
      "  binary_FBA         1.0         1.0        True\n",
      "  binary_FBA         1.0         1.0        True\n",
      "  binary_FBA         1.0         1.0        True\n",
      "  binary_PYK         1.0         1.0        True\n",
      "  binary_PYK         1.0         1.0        True\n",
      "  binary_PYK         1.0         1.0        True\n",
      "  binary_LDH         1.0         1.0        True\n",
      "  binary_LDH         1.0         1.0        True\n",
      "  binary_LDH         0.0         0.0        True\n",
      "  binary_FRD         1.0         1.0        True\n",
      "  binary_FRD         1.0         1.0        True\n",
      "  binary_FRD         1.0         1.0        True\n"
     ]
    }
   ],
   "source": [
    "y_sames = []\n",
    "for y in sub._ys:\n",
    "    sub1 = sub_dict['acetate']\n",
    "    sub2 = sub_dict['glucose']\n",
    "    y1 = sub1.x_dict[y.VarName]\n",
    "    y2 = sub2.x_dict[y.VarName]\n",
    "    y_sames.append(abs(y1-y2)<1e-10)\n",
    "    print('%12.10s%12.10s%12.10s%12.10s'%(y.VarName,y1,y2, abs(y1-y2)<1e-10))    "
   ]
  },
  {
   "cell_type": "code",
   "execution_count": 23,
   "metadata": {
    "collapsed": false,
    "deletable": true,
    "editable": true
   },
   "outputs": [
    {
     "name": "stdout",
     "output_type": "stream",
     "text": [
      "num same = 144/144\n"
     ]
    }
   ],
   "source": [
    "print('num same = %s/%s'%(sum(y_sames), len(y_sames)))"
   ]
  }
 ],
 "metadata": {
  "kernelspec": {
   "display_name": "Python 2",
   "language": "python",
   "name": "python2"
  },
  "language_info": {
   "codemirror_mode": {
    "name": "ipython",
    "version": 2
   },
   "file_extension": ".py",
   "mimetype": "text/x-python",
   "name": "python",
   "nbconvert_exporter": "python",
   "pygments_lexer": "ipython2",
   "version": "2.7.14"
  }
 },
 "nbformat": 4,
 "nbformat_minor": 2
}
