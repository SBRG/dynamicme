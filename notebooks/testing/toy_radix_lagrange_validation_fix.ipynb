{
 "cells": [
  {
   "cell_type": "markdown",
   "metadata": {
    "deletable": true,
    "editable": true
   },
   "source": [
    "# Toy Radix Lagrangean decomposition validation"
   ]
  },
  {
   "cell_type": "code",
   "execution_count": 1,
   "metadata": {
    "collapsed": true,
    "deletable": true,
    "editable": true
   },
   "outputs": [],
   "source": [
    "REG_WEIGHT   = 0. #1e-4\n",
    "MAX_NONZERO  = None #48*2\n",
    "PREVENT_ZERO = True"
   ]
  },
  {
   "cell_type": "code",
   "execution_count": 2,
   "metadata": {
    "collapsed": false,
    "deletable": true,
    "editable": true
   },
   "outputs": [],
   "source": [
    "%load_ext line_profiler"
   ]
  },
  {
   "cell_type": "code",
   "execution_count": 3,
   "metadata": {
    "collapsed": false,
    "deletable": true,
    "editable": true
   },
   "outputs": [],
   "source": [
    "from gurobipy import *\n",
    "\n",
    "import seaborn as sns\n",
    "import pandas as pd\n",
    "import matplotlib.pyplot as plt\n",
    "import numpy as np\n",
    "\n",
    "plt.rcParams['svg.fonttype'] = 'none'\n",
    "pd.set_option('display.max_colwidth', -1)\n",
    "%matplotlib inline\n",
    "\n",
    "from cobra.io import load_json_model\n",
    "from six import iteritems\n",
    "import numpy as np\n",
    "import cobra"
   ]
  },
  {
   "cell_type": "code",
   "execution_count": 4,
   "metadata": {
    "collapsed": true,
    "deletable": true,
    "editable": true
   },
   "outputs": [],
   "source": [
    "ijomc = load_json_model('/home/laurence/ME/models/e_coli_core_pc.json')"
   ]
  },
  {
   "cell_type": "code",
   "execution_count": 5,
   "metadata": {
    "collapsed": false,
    "deletable": true,
    "editable": true
   },
   "outputs": [
    {
     "name": "stdout",
     "output_type": "stream",
     "text": [
      "0.873921506968\n"
     ]
    }
   ],
   "source": [
    "ijomc.optimize()\n",
    "mu_crowd0 = ijomc.reactions.BIOMASS_Ecoli_core_w_GAM.x\n",
    "print(mu_crowd0)"
   ]
  },
  {
   "cell_type": "code",
   "execution_count": 6,
   "metadata": {
    "collapsed": false,
    "deletable": true,
    "editable": true
   },
   "outputs": [],
   "source": [
    "df_meas = pd.read_csv('/home/laurence/ME/data/dynamicME/beg/growth_meas.csv')\n",
    "\n",
    "ex_rxns = [r for r in df_meas.ex_rxn.unique() if ijomc.reactions.has_id(r)]\n",
    "df_meas = df_meas[ df_meas.ex_rxn.isin(ex_rxns)]\n",
    "conds = df_meas.substrate.unique()\n",
    "\n",
    "#N_CONDS = len(conds)\n",
    "N_CONDS = 2\n",
    "\n",
    "df_conds = pd.DataFrame([{'cond':r['substrate'], 'rxn':ex_rxn, 'lb':-10 if r['ex_rxn']==ex_rxn else 0, 'ub':1000., 'obj':0.} for i,r in df_meas.iterrows() for ex_rxn in ex_rxns])\n",
    "\n",
    "if N_CONDS==1:\n",
    "    df_conds = df_conds[ df_conds.cond=='acetate']\n",
    "elif N_CONDS<=3:\n",
    "    df_conds = df_conds[ df_conds.cond.isin(['glucose','acetate','succinate'][0:N_CONDS])]\n",
    "else:\n",
    "    df_conds = df_conds[ df_conds.cond.isin(conds[0:N_CONDS])]\n",
    "\n",
    "df_conds.loc[ (df_conds.cond=='acetate') & (df_conds.rxn=='EX_ac_e'), 'lb'] = -20"
   ]
  },
  {
   "cell_type": "markdown",
   "metadata": {
    "deletable": true,
    "editable": true
   },
   "source": [
    "# Make radix problem"
   ]
  },
  {
   "cell_type": "code",
   "execution_count": 7,
   "metadata": {
    "collapsed": false,
    "deletable": true,
    "editable": true
   },
   "outputs": [],
   "source": [
    "from dynamicme.estimate import RadixEstimator"
   ]
  },
  {
   "cell_type": "code",
   "execution_count": 8,
   "metadata": {
    "collapsed": false,
    "deletable": true,
    "editable": true
   },
   "outputs": [],
   "source": [
    "df_Y = df_meas.rename(columns={'growth_rate_1_h':'output', 'substrate':'cond'})\n",
    "df_Y.loc[:,'output_id'] = 'BIOMASS_Ecoli_core_w_GAM'\n",
    "df_X = df_conds"
   ]
  },
  {
   "cell_type": "code",
   "execution_count": 9,
   "metadata": {
    "collapsed": true,
    "deletable": true,
    "editable": true
   },
   "outputs": [],
   "source": [
    "import json\n",
    "with open('/home/laurence/ME/data/dynamicME/kfit_changed.json') as f:\n",
    "    kfit_changed = json.load(f)\n",
    "changed_keffs = [kv[0] for kv in kfit_changed]"
   ]
  },
  {
   "cell_type": "code",
   "execution_count": 10,
   "metadata": {
    "collapsed": false
   },
   "outputs": [
    {
     "name": "stdout",
     "output_type": "stream",
     "text": [
      "Changed value of parameter OutputFlag to 1\n",
      "   Prev: 0  Min: 0  Max: 1  Default: 1\n"
     ]
    }
   ],
   "source": [
    "est = RadixEstimator()\n",
    "est.fit(ijomc, df_X, df_Y, reg_weight = REG_WEIGHT, max_nonzero_binaries=MAX_NONZERO, optimize=False)"
   ]
  },
  {
   "cell_type": "code",
   "execution_count": 11,
   "metadata": {
    "collapsed": false
   },
   "outputs": [
    {
     "name": "stdout",
     "output_type": "stream",
     "text": [
      "Changed value of parameter ScaleFlag to 0\n",
      "   Prev: -1  Min: -1  Max: 3  Default: -1\n",
      "Parameter OutputFlag unchanged\n",
      "   Value: 1  Min: 0  Max: 1  Default: 1\n"
     ]
    }
   ],
   "source": [
    "est.milp.Params.ScaleFlag = 0\n",
    "est.milp.Params.OutputFlag = 1\n",
    "# est.milp.Params.Presolve = 0\n",
    "# est.milp.Params.FeasibilityTol = 1e-8\n",
    "# est.milp.Params.OptimalityTol = 1e-8"
   ]
  },
  {
   "cell_type": "code",
   "execution_count": 12,
   "metadata": {
    "collapsed": false,
    "deletable": true,
    "editable": true
   },
   "outputs": [
    {
     "name": "stdout",
     "output_type": "stream",
     "text": [
      "Optimize a model with 2836 rows, 1440 columns and 8318 nonzeros\n",
      "Variable types: 1296 continuous, 144 integer (0 binary)\n",
      "Coefficient statistics:\n",
      "  Matrix range     [2e-06, 1e+03]\n",
      "  Objective range  [6e-01, 8e-01]\n",
      "  Bounds range     [1e+00, 1e+03]\n",
      "  RHS range        [1e-03, 1e+03]\n",
      "Presolve removed 735 rows and 260 columns\n",
      "Presolve time: 0.01s\n",
      "Presolved: 2101 rows, 1180 columns, 6558 nonzeros\n",
      "Variable types: 1036 continuous, 144 integer (144 binary)\n",
      "Presolve removed 2 rows and 4 columns\n",
      "\n",
      "Root relaxation: objective 0.000000e+00, 1463 iterations, 0.03 seconds\n",
      "\n",
      "    Nodes    |    Current Node    |     Objective Bounds      |     Work\n",
      " Expl Unexpl |  Obj  Depth IntInf | Incumbent    BestBd   Gap | It/Node Time\n",
      "\n",
      "     0     0    0.00000    0    7          -    0.00000      -     -    0s\n",
      "H    0     0                       0.1421592    0.00000   100%     -    0s\n",
      "H    0     0                       0.0320108    0.00000   100%     -    0s\n",
      "     0     0    0.00000    0   11    0.03201    0.00000   100%     -    0s\n",
      "     0     0    0.00000    0    5    0.03201    0.00000   100%     -    0s\n",
      "     0     2    0.00000    0    5    0.03201    0.00000   100%     -    0s\n",
      "H   31    33                       0.0263204    0.00000   100%  43.5    0s\n",
      "H  109   112                       0.0234512    0.00000   100%  33.2    0s\n",
      "H  200   197                       0.0183778    0.00000   100%  28.0    0s\n",
      "H  212   210                       0.0108370    0.00000   100%  28.5    0s\n",
      "H  256   207                       0.0067203    0.00000   100%  24.9    0s\n",
      "H  395   299                       0.0048295    0.00000   100%  21.8    0s\n",
      "H  429   320                       0.0044141    0.00000   100%  21.6    0s\n",
      "H  470   330                       0.0016332    0.00000   100%  20.8    0s\n",
      "H  604   385                       0.0001048    0.00000   100%  20.8    0s\n",
      "* 1872   301             116       0.0000000    0.00000  0.00%  19.2    1s\n",
      "\n",
      "Cutting planes:\n",
      "  Gomory: 2\n",
      "  Flow cover: 4\n",
      "\n",
      "Explored 1897 nodes (38539 simplex iterations) in 1.55 seconds\n",
      "Thread count was 8 (of 8 available processors)\n",
      "\n",
      "Solution count 10: 0 0.000104761 0.00163322 ... 0.0263204\n",
      "\n",
      "Optimal solution found (tolerance 1.00e-04)\n",
      "Best objective 0.000000000000e+00, best bound 0.000000000000e+00, gap 0.0000%\n"
     ]
    },
    {
     "data": {
      "text/plain": [
       "<Solution 0.00 at 0x7fde5be7e210>"
      ]
     },
     "execution_count": 12,
     "metadata": {},
     "output_type": "execute_result"
    }
   ],
   "source": [
    "est.optimize()"
   ]
  },
  {
   "cell_type": "markdown",
   "metadata": {
    "deletable": true,
    "editable": true
   },
   "source": [
    "## Validate the fit"
   ]
  },
  {
   "cell_type": "code",
   "execution_count": 13,
   "metadata": {
    "collapsed": true,
    "deletable": true,
    "editable": true
   },
   "outputs": [],
   "source": [
    "base_model = load_json_model('/home/laurence/ME/models/e_coli_core_pc.json')"
   ]
  },
  {
   "cell_type": "code",
   "execution_count": 14,
   "metadata": {
    "collapsed": false,
    "deletable": true,
    "editable": true
   },
   "outputs": [],
   "source": [
    "mu_id = 'BIOMASS_Ecoli_core_w_GAM'\n",
    "df_pred = est.predict(df_X, base_model, meas_id=mu_id)"
   ]
  },
  {
   "cell_type": "code",
   "execution_count": 15,
   "metadata": {
    "collapsed": false,
    "deletable": true,
    "editable": true
   },
   "outputs": [
    {
     "data": {
      "text/html": [
       "<div>\n",
       "<style scoped>\n",
       "    .dataframe tbody tr th:only-of-type {\n",
       "        vertical-align: middle;\n",
       "    }\n",
       "\n",
       "    .dataframe tbody tr th {\n",
       "        vertical-align: top;\n",
       "    }\n",
       "\n",
       "    .dataframe thead th {\n",
       "        text-align: right;\n",
       "    }\n",
       "</style>\n",
       "<table border=\"1\" class=\"dataframe\">\n",
       "  <thead>\n",
       "    <tr style=\"text-align: right;\">\n",
       "      <th></th>\n",
       "      <th>cond</th>\n",
       "      <th>meas</th>\n",
       "      <th>output_id</th>\n",
       "      <th>pred</th>\n",
       "      <th>error</th>\n",
       "      <th>perror</th>\n",
       "    </tr>\n",
       "  </thead>\n",
       "  <tbody>\n",
       "    <tr>\n",
       "      <th>0</th>\n",
       "      <td>glucose</td>\n",
       "      <td>0.740</td>\n",
       "      <td>BIOMASS_Ecoli_core_w_GAM</td>\n",
       "      <td>0.739608</td>\n",
       "      <td>-0.000392</td>\n",
       "      <td>-0.052911</td>\n",
       "    </tr>\n",
       "    <tr>\n",
       "      <th>1</th>\n",
       "      <td>acetate</td>\n",
       "      <td>0.256</td>\n",
       "      <td>BIOMASS_Ecoli_core_w_GAM</td>\n",
       "      <td>0.255870</td>\n",
       "      <td>-0.000130</td>\n",
       "      <td>-0.050592</td>\n",
       "    </tr>\n",
       "  </tbody>\n",
       "</table>\n",
       "</div>"
      ],
      "text/plain": [
       "      cond   meas                 output_id      pred     error    perror\n",
       "0  glucose  0.740  BIOMASS_Ecoli_core_w_GAM  0.739608 -0.000392 -0.052911\n",
       "1  acetate  0.256  BIOMASS_Ecoli_core_w_GAM  0.255870 -0.000130 -0.050592"
      ]
     },
     "execution_count": 15,
     "metadata": {},
     "output_type": "execute_result"
    }
   ],
   "source": [
    "df_Y2 = df_Y[[c for c in df_Y.columns if c not in ['order','ex_rxn']]]\n",
    "df_val = pd.merge(df_Y2.rename(columns={'output':'meas'}), df_pred.rename(columns={'rxn':'output_id','x':'pred'}), on=['cond','output_id'])\n",
    "df_val.loc[:,'error'] = (df_val.pred - df_val.meas)\n",
    "df_val.loc[:,'perror'] = df_val.error / df_val.meas * 100\n",
    "df_val"
   ]
  },
  {
   "cell_type": "code",
   "execution_count": 16,
   "metadata": {
    "collapsed": false,
    "deletable": true,
    "editable": true
   },
   "outputs": [],
   "source": [
    "a0 = 1./65/3600\n",
    "kfit_dict0 = {k:a0 for k in est.kfit_dict.keys()}\n",
    "df_ref = est.predict(df_X, base_model, meas_id=mu_id, kfit_dict=kfit_dict0)\n",
    "df_ref.rename(columns={'rxn':'output_id','x':'output'}, inplace=True)"
   ]
  },
  {
   "cell_type": "code",
   "execution_count": 17,
   "metadata": {
    "collapsed": false,
    "deletable": true,
    "editable": true
   },
   "outputs": [],
   "source": [
    "df_val0 = pd.merge(df_Y2.rename(columns={'output':'meas'}), df_ref.rename(columns={'output':'pred0'}), on=['cond','output_id'])\n",
    "df_val0.loc[:,'error0'] = (df_val0.pred0 - df_val0.meas)\n",
    "df_val0.loc[:,'perror0'] = df_val0.error0 / df_val0.meas * 100"
   ]
  },
  {
   "cell_type": "code",
   "execution_count": 18,
   "metadata": {
    "collapsed": false,
    "deletable": true,
    "editable": true
   },
   "outputs": [
    {
     "data": {
      "text/html": [
       "<div>\n",
       "<style scoped>\n",
       "    .dataframe tbody tr th:only-of-type {\n",
       "        vertical-align: middle;\n",
       "    }\n",
       "\n",
       "    .dataframe tbody tr th {\n",
       "        vertical-align: top;\n",
       "    }\n",
       "\n",
       "    .dataframe thead th {\n",
       "        text-align: right;\n",
       "    }\n",
       "</style>\n",
       "<table border=\"1\" class=\"dataframe\">\n",
       "  <thead>\n",
       "    <tr style=\"text-align: right;\">\n",
       "      <th></th>\n",
       "      <th>cond</th>\n",
       "      <th>meas</th>\n",
       "      <th>output_id</th>\n",
       "      <th>pred</th>\n",
       "      <th>error</th>\n",
       "      <th>perror</th>\n",
       "      <th>pred0</th>\n",
       "      <th>error0</th>\n",
       "      <th>perror0</th>\n",
       "      <th>error_change</th>\n",
       "    </tr>\n",
       "  </thead>\n",
       "  <tbody>\n",
       "    <tr>\n",
       "      <th>0</th>\n",
       "      <td>glucose</td>\n",
       "      <td>0.740</td>\n",
       "      <td>BIOMASS_Ecoli_core_w_GAM</td>\n",
       "      <td>0.739608</td>\n",
       "      <td>-0.000392</td>\n",
       "      <td>-0.052911</td>\n",
       "      <td>0.873922</td>\n",
       "      <td>0.133922</td>\n",
       "      <td>18.097501</td>\n",
       "      <td>-99.707634</td>\n",
       "    </tr>\n",
       "    <tr>\n",
       "      <th>1</th>\n",
       "      <td>acetate</td>\n",
       "      <td>0.256</td>\n",
       "      <td>BIOMASS_Ecoli_core_w_GAM</td>\n",
       "      <td>0.255870</td>\n",
       "      <td>-0.000130</td>\n",
       "      <td>-0.050592</td>\n",
       "      <td>0.389313</td>\n",
       "      <td>0.133313</td>\n",
       "      <td>52.075420</td>\n",
       "      <td>-99.902848</td>\n",
       "    </tr>\n",
       "  </tbody>\n",
       "</table>\n",
       "</div>"
      ],
      "text/plain": [
       "      cond   meas                 output_id      pred     error    perror  \\\n",
       "0  glucose  0.740  BIOMASS_Ecoli_core_w_GAM  0.739608 -0.000392 -0.052911   \n",
       "1  acetate  0.256  BIOMASS_Ecoli_core_w_GAM  0.255870 -0.000130 -0.050592   \n",
       "\n",
       "      pred0    error0    perror0  error_change  \n",
       "0  0.873922  0.133922  18.097501 -99.707634     \n",
       "1  0.389313  0.133313  52.075420 -99.902848     "
      ]
     },
     "execution_count": 18,
     "metadata": {},
     "output_type": "execute_result"
    }
   ],
   "source": [
    "df_comp = pd.merge(df_val, df_val0, on=['cond','output_id','meas'])\n",
    "df_comp.loc[:,'error_change'] = (df_comp.error.abs()-df_comp.error0.abs()) / df_comp.error0.abs() * 100\n",
    "df_comp"
   ]
  },
  {
   "cell_type": "code",
   "execution_count": 19,
   "metadata": {
    "collapsed": false,
    "deletable": true,
    "editable": true
   },
   "outputs": [
    {
     "name": "stdout",
     "output_type": "stream",
     "text": [
      "Total abs error: 0.000521057\n",
      "Total perc error: 0.103503%\n",
      "Total error change: -199.61%\n",
      "Number of keffs changed: 43/48 (89%)\n"
     ]
    }
   ],
   "source": [
    "print('Total abs error: %g' % df_comp.error.abs().sum())\n",
    "print('Total perc error: %g%%' % df_comp.perror.abs().sum())\n",
    "print('Total error change: %g%%' % df_comp.error_change.sum())\n",
    "changed = [abs(est.kfit_dict[k]-kfit_dict0[k])>1e-9 for k in est.kfit_dict.keys()]\n",
    "print('Number of keffs changed: %d/%d (%g%%)' % (sum(changed),len(est.kfit_dict), 100*sum(changed)/len(est.kfit_dict) ))"
   ]
  },
  {
   "cell_type": "markdown",
   "metadata": {},
   "source": [
    "# Each Lagrange submodel should start with the optimum"
   ]
  },
  {
   "cell_type": "code",
   "execution_count": 20,
   "metadata": {
    "collapsed": true
   },
   "outputs": [],
   "source": [
    "from dynamicme.decomposition import LagrangeMaster, LagrangeSubmodel"
   ]
  },
  {
   "cell_type": "code",
   "execution_count": 21,
   "metadata": {
    "collapsed": false
   },
   "outputs": [
    {
     "name": "stdout",
     "output_type": "stream",
     "text": [
      "Changed value of parameter OutputFlag to 1\n",
      "   Prev: 0  Min: 0  Max: 1  Default: 1\n",
      "Changed value of parameter OutputFlag to 1\n",
      "   Prev: 0  Min: 0  Max: 1  Default: 1\n"
     ]
    }
   ],
   "source": [
    "conds = df_conds.cond.unique()\n",
    "sub_dict = {}\n",
    "for cond in conds:\n",
    "    df_Xk = df_X[ df_X.cond==cond]\n",
    "    df_Yk = df_Y[ df_Y.cond==cond]\n",
    "    estk = RadixEstimator()\n",
    "    estk.fit(ijomc, df_Xk, df_Yk, reg_weight = REG_WEIGHT, max_nonzero_binaries=MAX_NONZERO, optimize=False)    \n",
    "    sub = LagrangeSubmodel(estk.stacker.model, cond)\n",
    "    sub_dict[cond] = sub"
   ]
  },
  {
   "cell_type": "code",
   "execution_count": null,
   "metadata": {
    "collapsed": true
   },
   "outputs": [],
   "source": [
    "master = LagrangeMaster(estk.stacker.model)\n",
    "master.add_submodels(sub_dict)"
   ]
  },
  {
   "cell_type": "code",
   "execution_count": null,
   "metadata": {
    "collapsed": false,
    "scrolled": true
   },
   "outputs": [
    {
     "name": "stdout",
     "output_type": "stream",
     "text": [
      "        Iter     Dual UB          LB     Best LB         gap   relgap(%)       delta     time(s)\n",
      "           0        1000           0           0        1000         100         0.5    0.290945\n",
      "           5      0.1851      -7.413           0      0.1851         100     0.01562    1.076253\n",
      "          10      0.1123       -24.4           0      0.1123         100   0.0004883    1.388695\n",
      "          15      0.1037       -42.7           0      0.1037         100   1.526e-05    1.596690\n",
      "          20      0.1027         -34           0      0.1027         100   4.768e-07    1.846308\n",
      "          25      0.1027       -26.3           0      0.1027         100    1.49e-08    2.087426\n",
      "          30      0.1027      -21.57           0      0.1027         100   4.657e-10    2.464202\n",
      "          35      0.1027       -19.6           0      0.1027         100       1e-10    2.842634\n",
      "          40      0.1027      -28.78           0      0.1027         100       1e-10    3.174660\n",
      "          45      0.1027       -9.77           0      0.1027         100       1e-10    3.632600\n",
      "          50      0.1027      -14.85           0      0.1027         100       1e-10    4.043031\n",
      "          55      0.1027      -9.068           0      0.1027         100       1e-10    4.712377\n",
      "          60      0.1027      -13.34           0      0.1027         100       1e-10    5.599238\n",
      "          65      0.1027      -8.649           0      0.1027         100       1e-10    6.579580\n",
      "          70      0.1027      -3.404           0      0.1027         100       1e-10    7.656365\n",
      "          75      0.1025      -8.302           0      0.1025         100       1e-10    8.368262\n",
      "          80      0.1019      -3.612           0      0.1019         100       1e-10    11.44497\n",
      "          85     0.08906      -16.07           0     0.08906         100       1e-10    12.36207\n",
      "          90      0.0758      -1.183           0      0.0758         100       1e-10    17.73405\n",
      "          95     0.06257      -4.325           0     0.06257         100       1e-10    21.87390"
     ]
    }
   ],
   "source": [
    "master.max_iter = 200\n",
    "master.print_iter = 5\n",
    "sol_master = master.optimize()"
   ]
  },
  {
   "cell_type": "code",
   "execution_count": null,
   "metadata": {
    "collapsed": true
   },
   "outputs": [],
   "source": [
    "var_cons_dict = estk.var_cons_dict\n",
    "powers = estk.powers\n",
    "digits = estk.digits\n",
    "radix  = estk.radix"
   ]
  },
  {
   "cell_type": "code",
   "execution_count": null,
   "metadata": {
    "collapsed": false
   },
   "outputs": [],
   "source": [
    "kfit_dict = {}\n",
    "for group_id, var_dict in iteritems(var_cons_dict):\n",
    "    var = var_dict[0]\n",
    "    cons = var_dict[1]\n",
    "    a0  = var_dict[0][2]\n",
    "    kfit = 0.\n",
    "    for l,pwr in enumerate(powers):\n",
    "        for k,digit in enumerate(digits):            \n",
    "            yid = 'binary_%s%s%s' % (group_id,k,l)\n",
    "            y   = sol_master[yid]\n",
    "            kfit += y*a0*radix**pwr*digit\n",
    "    kfit_dict[group_id] = kfit\n",
    "\n",
    "kfit_changed = [(k,v, abs(v-a0)/a0) for k,v in iteritems(kfit_dict) if abs(v-a0)/a0>1e-6]\n",
    "print('Changed keffs: %d/%d' % (len(kfit_changed), len(var_cons_dict)))\n",
    "#----------------------------------------\n",
    "# Starting from basal model\n",
    "csrcs = df_conds.cond.unique()\n",
    "for csrc in csrcs:    \n",
    "    ijofit = load_json_model('/home/laurence/ME/models/e_coli_core_pc.json')\n",
    "    crowding = ijofit.metabolites.get_by_id('crowding')\n",
    "    df_condi = df_conds[ df_conds.cond==csrc]    \n",
    "    for i,row in df_condi.iterrows():\n",
    "        rid = row['rxn']\n",
    "        rxn = ijofit.reactions.get_by_id(rid)\n",
    "        rxn.lower_bound = row['lb']\n",
    "        rxn.upper_bound = row['ub']\n",
    "\n",
    "    for rid,kfit in iteritems(kfit_dict):\n",
    "        rxn = ijofit.reactions.get_by_id(rid)\n",
    "        rxn.add_metabolites({crowding:kfit}, combine=False)\n",
    "    \n",
    "    ijofit.optimize()\n",
    "    \n",
    "    mu_measi = df_meas[ df_meas.substrate==csrc].growth_rate_1_h.iloc[0]\n",
    "    mu_fiti = ijofit.reactions.BIOMASS_Ecoli_core_w_GAM.x\n",
    "    \n",
    "    # Get unfit\n",
    "    for rxn in ijofit.metabolites.crowding.reactions:\n",
    "        rxn._metabolites[crowding] = a0\n",
    "    ijofit.optimize()\n",
    "    mu_unfiti = ijofit.reactions.BIOMASS_Ecoli_core_w_GAM.x\n",
    "    err0= 100*(mu_unfiti-mu_measi)/mu_measi\n",
    "    err = 100*(mu_fiti - mu_measi)/mu_measi\n",
    "    derr= 100*(abs(err)-abs(err0))/abs(err0)\n",
    "    print('Cond=%s. mu_meas=%g. mu_sim=%g (unfit=%g, error=%.3g%%). Error=%.3g%% (%.3g%% change)' % (csrc, mu_measi, mu_fiti, mu_unfiti, err0, err, derr))\n",
    "    for i,row in df_condi.iterrows():\n",
    "        rid = row['rxn']\n",
    "        rxn = ijofit.reactions.get_by_id(rid)        \n",
    "        print('\\t%s uptake=%g' % (rxn.id, rxn.x))"
   ]
  }
 ],
 "metadata": {
  "kernelspec": {
   "display_name": "Python 2",
   "language": "python",
   "name": "python2"
  },
  "language_info": {
   "codemirror_mode": {
    "name": "ipython",
    "version": 2
   },
   "file_extension": ".py",
   "mimetype": "text/x-python",
   "name": "python",
   "nbconvert_exporter": "python",
   "pygments_lexer": "ipython2",
   "version": "2.7.14"
  }
 },
 "nbformat": 4,
 "nbformat_minor": 2
}
