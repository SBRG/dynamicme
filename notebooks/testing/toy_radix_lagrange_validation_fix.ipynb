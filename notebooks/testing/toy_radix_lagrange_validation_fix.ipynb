{
 "cells": [
  {
   "cell_type": "markdown",
   "metadata": {
    "deletable": true,
    "editable": true
   },
   "source": [
    "# Toy Radix Lagrangean decomposition validation"
   ]
  },
  {
   "cell_type": "code",
   "execution_count": 1,
   "metadata": {
    "collapsed": true,
    "deletable": true,
    "editable": true
   },
   "outputs": [],
   "source": [
    "REG_WEIGHT   = 0. #1e-4\n",
    "MAX_NONZERO  = None #48*2\n",
    "PREVENT_ZERO = True\n",
    "POWERS       = [-1,0,1] #[-2,-1,0,1,2]\n",
    "TWO_PHASE    = True"
   ]
  },
  {
   "cell_type": "code",
   "execution_count": 2,
   "metadata": {
    "collapsed": false,
    "deletable": true,
    "editable": true
   },
   "outputs": [],
   "source": [
    "%load_ext line_profiler"
   ]
  },
  {
   "cell_type": "code",
   "execution_count": 3,
   "metadata": {
    "collapsed": false,
    "deletable": true,
    "editable": true
   },
   "outputs": [],
   "source": [
    "from gurobipy import *\n",
    "\n",
    "import seaborn as sns\n",
    "import pandas as pd\n",
    "import matplotlib.pyplot as plt\n",
    "import numpy as np\n",
    "\n",
    "plt.rcParams['svg.fonttype'] = 'none'\n",
    "pd.set_option('display.max_colwidth', -1)\n",
    "%matplotlib inline\n",
    "\n",
    "from cobra.io import load_json_model\n",
    "from six import iteritems\n",
    "import numpy as np\n",
    "import cobra"
   ]
  },
  {
   "cell_type": "code",
   "execution_count": 4,
   "metadata": {
    "collapsed": true,
    "deletable": true,
    "editable": true
   },
   "outputs": [],
   "source": [
    "ijomc = load_json_model('/home/laurence/ME/models/e_coli_core_pc.json')"
   ]
  },
  {
   "cell_type": "code",
   "execution_count": 5,
   "metadata": {
    "collapsed": false,
    "deletable": true,
    "editable": true
   },
   "outputs": [
    {
     "name": "stdout",
     "output_type": "stream",
     "text": [
      "0.873921506968\n"
     ]
    }
   ],
   "source": [
    "ijomc.optimize()\n",
    "mu_crowd0 = ijomc.reactions.BIOMASS_Ecoli_core_w_GAM.x\n",
    "print(mu_crowd0)"
   ]
  },
  {
   "cell_type": "code",
   "execution_count": 6,
   "metadata": {
    "collapsed": false,
    "deletable": true,
    "editable": true
   },
   "outputs": [],
   "source": [
    "df_meas = pd.read_csv('/home/laurence/ME/data/dynamicME/beg/growth_meas.csv')\n",
    "\n",
    "ex_rxns = [r for r in df_meas.ex_rxn.unique() if ijomc.reactions.has_id(r)]\n",
    "df_meas = df_meas[ df_meas.ex_rxn.isin(ex_rxns)]\n",
    "conds = df_meas.substrate.unique()\n",
    "\n",
    "#N_CONDS = len(conds)\n",
    "N_CONDS = 2\n",
    "\n",
    "df_conds = pd.DataFrame([{'cond':r['substrate'], 'rxn':ex_rxn, 'lb':-10 if r['ex_rxn']==ex_rxn else 0, 'ub':1000., 'obj':0.} for i,r in df_meas.iterrows() for ex_rxn in ex_rxns])\n",
    "\n",
    "if N_CONDS==1:\n",
    "    df_conds = df_conds[ df_conds.cond=='acetate']\n",
    "elif N_CONDS<=3:\n",
    "    df_conds = df_conds[ df_conds.cond.isin(['glucose','acetate','succinate'][0:N_CONDS])]\n",
    "else:\n",
    "    df_conds = df_conds[ df_conds.cond.isin(conds[0:N_CONDS])]\n",
    "\n",
    "df_conds.loc[ (df_conds.cond=='acetate') & (df_conds.rxn=='EX_ac_e'), 'lb'] = -20"
   ]
  },
  {
   "cell_type": "markdown",
   "metadata": {
    "deletable": true,
    "editable": true
   },
   "source": [
    "# Make radix problem"
   ]
  },
  {
   "cell_type": "code",
   "execution_count": 7,
   "metadata": {
    "collapsed": false,
    "deletable": true,
    "editable": true
   },
   "outputs": [],
   "source": [
    "from dynamicme.estimate import RadixEstimator"
   ]
  },
  {
   "cell_type": "code",
   "execution_count": 8,
   "metadata": {
    "collapsed": false,
    "deletable": true,
    "editable": true
   },
   "outputs": [],
   "source": [
    "df_Y = df_meas.rename(columns={'growth_rate_1_h':'output', 'substrate':'cond'})\n",
    "df_Y.loc[:,'output_id'] = 'BIOMASS_Ecoli_core_w_GAM'\n",
    "df_X = df_conds"
   ]
  },
  {
   "cell_type": "code",
   "execution_count": 9,
   "metadata": {
    "collapsed": false,
    "deletable": true,
    "editable": true
   },
   "outputs": [
    {
     "name": "stdout",
     "output_type": "stream",
     "text": [
      "Changed value of parameter OutputFlag to 1\n",
      "   Prev: 0  Min: 0  Max: 1  Default: 1\n",
      "Changed value of parameter ScaleFlag to 0\n",
      "   Prev: -1  Min: -1  Max: 3  Default: -1\n",
      "Parameter OutputFlag unchanged\n",
      "   Value: 1  Min: 0  Max: 1  Default: 1\n",
      "Changed value of parameter TimeLimit to 7200.0\n",
      "   Prev: 1e+100  Min: 0.0  Max: 1e+100  Default: 1e+100\n"
     ]
    }
   ],
   "source": [
    "est = RadixEstimator()\n",
    "est.fit(ijomc, df_X, df_Y, reg_weight = REG_WEIGHT, max_nonzero_binaries=MAX_NONZERO, optimize=False,\n",
    "       powers=POWERS)\n",
    "\n",
    "est.milp.Params.ScaleFlag = 0\n",
    "est.milp.Params.OutputFlag = 1\n",
    "est.milp.Params.TimeLimit = 2*3600.\n",
    "# est.milp.Params.Presolve = 0\n",
    "# est.milp.Params.FeasibilityTol = 1e-8\n",
    "# est.milp.Params.OptimalityTol = 1e-8\n",
    "\n",
    "# est.optimize()"
   ]
  },
  {
   "cell_type": "markdown",
   "metadata": {
    "deletable": true,
    "editable": true
   },
   "source": [
    "## Validate the fit"
   ]
  },
  {
   "cell_type": "markdown",
   "metadata": {
    "collapsed": true,
    "deletable": true,
    "editable": true
   },
   "source": [
    "base_model = load_json_model('/home/laurence/ME/models/e_coli_core_pc.json')\n",
    "\n",
    "mu_id = 'BIOMASS_Ecoli_core_w_GAM'\n",
    "df_pred = est.predict(df_X, base_model, meas_id=mu_id)\n",
    "\n",
    "df_Y2 = df_Y[[c for c in df_Y.columns if c not in ['order','ex_rxn']]]\n",
    "df_val = pd.merge(df_Y2.rename(columns={'output':'meas'}), df_pred.rename(columns={'rxn':'output_id','x':'pred'}), on=['cond','output_id'])\n",
    "df_val.loc[:,'error'] = (df_val.pred - df_val.meas)\n",
    "df_val.loc[:,'perror'] = df_val.error / df_val.meas * 100\n",
    "df_val\n",
    "\n",
    "a0 = 1./65/3600\n",
    "kfit_dict0 = {k:a0 for k in est.kfit_dict.keys()}\n",
    "df_ref = est.predict(df_X, base_model, meas_id=mu_id, kfit_dict=kfit_dict0)\n",
    "df_ref.rename(columns={'rxn':'output_id','x':'output'}, inplace=True)\n",
    "\n",
    "df_val0 = pd.merge(df_Y2.rename(columns={'output':'meas'}), df_ref.rename(columns={'output':'pred0'}), on=['cond','output_id'])\n",
    "df_val0.loc[:,'error0'] = (df_val0.pred0 - df_val0.meas)\n",
    "df_val0.loc[:,'perror0'] = df_val0.error0 / df_val0.meas * 100\n",
    "\n",
    "df_comp = pd.merge(df_val, df_val0, on=['cond','output_id','meas'])\n",
    "df_comp.loc[:,'error_change'] = (df_comp.error.abs()-df_comp.error0.abs()) / df_comp.error0.abs() * 100\n",
    "df_comp\n",
    "\n",
    "print('Total abs error: %g' % df_comp.error.abs().sum())\n",
    "print('Total perc error: %g%%' % df_comp.perror.abs().sum())\n",
    "print('Total error change: %g%%' % df_comp.error_change.sum())\n",
    "changed = [abs(est.kfit_dict[k]-kfit_dict0[k])>1e-9 for k in est.kfit_dict.keys()]\n",
    "print('Number of keffs changed: %d/%d (%g%%)' % (sum(changed),len(est.kfit_dict), 100*sum(changed)/len(est.kfit_dict) ))"
   ]
  },
  {
   "cell_type": "markdown",
   "metadata": {
    "deletable": true,
    "editable": true
   },
   "source": [
    "# Each Lagrange submodel should start with the optimum"
   ]
  },
  {
   "cell_type": "code",
   "execution_count": 10,
   "metadata": {
    "collapsed": true,
    "deletable": true,
    "editable": true
   },
   "outputs": [],
   "source": [
    "from dynamicme.decomposition import LagrangeMaster, LagrangeSubmodel"
   ]
  },
  {
   "cell_type": "code",
   "execution_count": 11,
   "metadata": {
    "collapsed": false,
    "deletable": true,
    "editable": true
   },
   "outputs": [
    {
     "name": "stdout",
     "output_type": "stream",
     "text": [
      "Changed value of parameter OutputFlag to 1\n",
      "   Prev: 0  Min: 0  Max: 1  Default: 1\n",
      "Changed value of parameter OutputFlag to 1\n",
      "   Prev: 0  Min: 0  Max: 1  Default: 1\n"
     ]
    }
   ],
   "source": [
    "conds = df_conds.cond.unique()\n",
    "sub_dict = {}\n",
    "for cond in conds:\n",
    "    df_Xk = df_X[ df_X.cond==cond]\n",
    "    df_Yk = df_Y[ df_Y.cond==cond]\n",
    "    estk = RadixEstimator()\n",
    "    estk.fit(ijomc, df_Xk, df_Yk, reg_weight = REG_WEIGHT, max_nonzero_binaries=MAX_NONZERO, optimize=False,\n",
    "            powers=POWERS)\n",
    "    sub = LagrangeSubmodel(estk.stacker.model, cond)\n",
    "    sub_dict[cond] = sub"
   ]
  },
  {
   "cell_type": "code",
   "execution_count": 12,
   "metadata": {
    "collapsed": true,
    "deletable": true,
    "editable": true
   },
   "outputs": [],
   "source": [
    "master = LagrangeMaster(estk.stacker.model)\n",
    "master.add_submodels(sub_dict)"
   ]
  },
  {
   "cell_type": "code",
   "execution_count": null,
   "metadata": {
    "collapsed": true
   },
   "outputs": [],
   "source": [
    "for sub in sub_dict.values():\n",
    "    sub.model.Params.MIPGapAbs = 1e-3\n",
    "    sub.model.Params.MIPGap    = 1e-3"
   ]
  },
  {
   "cell_type": "markdown",
   "metadata": {
    "deletable": true,
    "editable": true
   },
   "source": [
    "### Two-phase"
   ]
  },
  {
   "cell_type": "code",
   "execution_count": 13,
   "metadata": {
    "collapsed": false,
    "deletable": true,
    "editable": true,
    "scrolled": false
   },
   "outputs": [
    {
     "name": "stdout",
     "output_type": "stream",
     "text": [
      "    Iter                    UB                    LB       gap relgap(%)   penalty                       Time(s)\n",
      "  ------   -------------------   -------------------  -------- ---------  -------- -----------------------------\n",
      "               Dual       Best        Sub       Best                                   total    master       sub\n",
      "       0       1000       1000          0          0      1000       100         0  0.055664  0.003593  0.050111\n",
      "       5      2.241      2.241     -86.69          0     2.241       100      1.79  0.170325  0.000982  0.023116\n",
      "      10      1.206      1.206     -321.8          0     1.206       100     0.541  0.274270  0.001237  0.018930\n",
      "      15     0.2569     0.2569     -993.8          0    0.2569       100     0.148  0.380934  0.001746  0.018497\n",
      "      20    0.08546    0.08546      -1985          0   0.08546       100    0.0232  0.502422  0.002304  0.024731\n",
      "      25    0.04744    0.04744      -5049          0   0.04744       100   0.00482  0.622617  0.003015  0.023815\n",
      "      30    0.04174    0.04174      -2976          0   0.04174       100   8.4e-05  0.744870  0.004168  0.020759\n",
      "      35    0.04167    0.04167       -650          0   0.04167       100     1e-06  0.868885  0.005198  0.019433\n",
      "      40    0.04167    0.04167      -47.9          0   0.04167       100  3.77e-09  1.003691  0.006319  0.022425\n",
      "      45    0.04167    0.04167     -37.03          0   0.04167       100  1.09e-09  1.156196  0.008121  0.025933\n",
      "      50    0.04167    0.04167     -24.15          0   0.04167       100  1.46e-09  1.320518  0.009968  0.025774\n",
      "      55    0.04167    0.04167     -39.85          0   0.04167       100  1.95e-09  1.510204  0.010857  0.026767\n",
      "      60    0.04167    0.04167     -17.18          0   0.04167       100  3.64e-10  1.698687  0.013947  0.027056\n",
      "      65    0.04167    0.04167     -13.17          0   0.04167       100  3.16e-10  1.891827  0.016609  0.020612\n",
      "      70    0.04167    0.04167     -24.48          0   0.04167       100  1.15e-09  2.091098  0.017702  0.020344\n",
      "      75    0.04167    0.04167     -12.96          0   0.04167       100  2.23e-10  2.266163  0.013803  0.018373\n",
      "      80    0.04167    0.04167     -11.94          0   0.04167       100  2.55e-10  2.455346  0.014039  0.022296\n",
      "      85    0.04165    0.04165      -7.36          0   0.04165       100  6.27e-11  2.650346  0.017976  0.022342\n",
      "      90     0.0416     0.0416     -3.581          0    0.0416       100  4.15e-11  2.847563  0.017624  0.020584\n",
      "      95    0.04056    0.04056     -2.307          0   0.04056       100   6.5e-11  3.045280  0.018990  0.028848\n",
      "     100    0.03438    0.03438     -4.242          0   0.03438       100  1.63e-11  3.256242  0.020059  0.023081\n",
      "     105   0.008373   0.008373      -0.97          0  0.008373       100  1.39e-12  3.468323  0.023175  0.021688\n",
      "     110   0.002555   0.002555    -0.6487          0  0.002555       100  9.21e-12  3.688528  0.020450  0.025641"
     ]
    },
    {
     "name": "stderr",
     "output_type": "stream",
     "text": [
      "/home/laurence/python_modules/dynamicme.git/dynamicme/decomposition.py:2112 \u001b[1;31mUserWarning\u001b[0m: Solution available but Master solver status=suboptimal (13).\n"
     ]
    },
    {
     "name": "stdout",
     "output_type": "stream",
     "text": [
      "\n",
      "     113   0.000958   0.000958    -0.7231          0         0         0  7.85e-10  3.837658  0.024178  0.029309\n",
      "    Iter                    UB                    LB       gap relgap(%)   penalty                       Time(s)\n",
      "  ------   -------------------   -------------------  -------- ---------  -------- -----------------------------\n",
      "               Dual       Best        Sub       Best                                   total    master       sub\n",
      "       0  0.0004136  0.0004136    -0.1288    -0.1288    0.1292 3.123e+04  0.000116  0.776992  0.030867  0.745476\n",
      "Master solver status=suboptimal (13).\n",
      "       5   8.08e-06   8.08e-06   -0.01035   -0.01035   0.01036 1.282e+05  6.46e-08  12.38672  0.055150  1.448586\n",
      "Master solver status=suboptimal (13).\n",
      "Master solver status=suboptimal (13).\n",
      "Master solver status=suboptimal (13).\n",
      "Master solver status=suboptimal (13).\n",
      "Master solver status=suboptimal (13).\n",
      "      10 -1.931e-06 -1.931e-06   -0.02816   -0.01035   0.01035 5.359e+05  2.55e-07  21.83240  0.102563  1.585642\n",
      "Master solver status=suboptimal (13).\n",
      "      12 -4.051e-06 -4.051e-06 -0.0007385 -0.0007385         0         0  3.38e-09  24.16013  0.073451  0.834450\n",
      "Excluded 1 infeasible alt optima\n",
      "Excluded 1 infeasible alt optima\n",
      "Best feasible solution among 2 alt feasible has objval=0.0769739478483\n",
      "Best feasible solution has objval=0.0769739478483\n",
      "Master solver status=suboptimal (13).\n",
      "      13 -1.966e-06 -1.966e-06 -0.0004838 -0.0004838         0         0  5.55e-12  52.55580  0.063237  25.23203\n",
      "Excluded 1 infeasible alt optima\n",
      "Excluded 1 infeasible alt optima\n",
      "Best feasible solution among 2 alt feasible has objval=0.0339365517861\n",
      "Best feasible solution has objval=0.0339365517861\n",
      "Master solver status=suboptimal (13).\n",
      "      14 -1.323e-06 -1.323e-06 -0.0003056 -0.0003056         0         0  2.27e-13  82.93044  0.083213  26.76717\n",
      "Excluded 1 infeasible alt optima\n",
      "Excluded 1 infeasible alt optima\n",
      "Best feasible solution among 2 alt feasible has objval=0.0769733653764\n",
      "      15  -6.16e-06  -6.16e-06 -0.0005032 -0.0003056         0         0  2.07e-13  101.4537  0.078561  12.81489\n",
      "Excluded 1 infeasible alt optima\n",
      "Excluded 1 infeasible alt optima\n",
      "Best feasible solution among 2 alt feasible has objval=0.0769705965758\n",
      "      15  -6.16e-06  -6.16e-06 -0.0005032 -0.0003056         0         0  2.07e-13  110.2947  0.078561  12.81489\n",
      "Master solver status=suboptimal (13).\n",
      "      16 -1.593e-05 -1.593e-05   -0.00338 -0.0003056         0         0   2.1e-12  117.4992  0.089869  7.114193\n",
      "Excluded 1 infeasible alt optima\n",
      "Excluded 4 infeasible alt optima\n",
      "Best feasible solution among 5 alt feasible has objval=0.0771446858481\n",
      "Master solver status=suboptimal (13).\n",
      "      17 -6.561e-06 -6.561e-06 -0.0005184 -0.0003056         0         0  1.03e-12  122.8456  0.088124  2.883478\n",
      "Excluded 1 infeasible alt optima\n",
      "Excluded 1 infeasible alt optima\n",
      "Best feasible solution among 2 alt feasible has objval=0.0740800108808\n",
      "      18  9.685e-06  9.685e-06   -0.02016 -0.0003056         0         0  1.85e-10  133.2466  0.054606  8.173434\n",
      "Excluded 10 infeasible alt optima\n",
      "Excluded 6 infeasible alt optima\n",
      "Best feasible solution among 16 alt feasible has objval=0.0769737035041\n",
      "      19 -3.181e-05 -3.181e-05   -0.02959 -0.0003056         0         0  2.34e-10  144.6688  0.076699  7.050868\n",
      "Excluded 10 infeasible alt optima\n",
      "Excluded 10 infeasible alt optima\n",
      "Best feasible solution among 20 alt feasible has objval=0.0654217370454\n",
      "      20 -3.064e-06 -3.064e-06 -0.0003837 -0.0003056         0         0  8.82e-11  150.4493  0.042071  2.979964\n",
      "Excluded 1 infeasible alt optima\n",
      "Excluded 1 infeasible alt optima\n",
      "Best feasible solution among 2 alt feasible has objval=0.0769708459059\n",
      "      20 -3.064e-06 -3.064e-06 -0.0003837 -0.0003056         0         0  8.82e-11  151.7074  0.042071  2.979964\n",
      "      21 -3.773e-06 -3.773e-06   -0.02341 -0.0003056         0         0  3.16e-11  155.7778  0.075505  3.994694\n",
      "Excluded 10 infeasible alt optima\n",
      "Excluded 1 infeasible alt optima\n",
      "Best feasible solution among 11 alt feasible has objval=0.0769663833125\n",
      "      22  4.927e-07  4.927e-07 -0.0002996 -0.0002996         0         0  1.57e-11  162.2946  0.087981  2.803209\n",
      "Excluded 1 infeasible alt optima\n",
      "Excluded 1 infeasible alt optima\n",
      "Best feasible solution among 2 alt feasible has objval=0.0769711572117\n",
      "      23 -2.096e-06 -2.096e-06 -0.0002214 -0.0002214         0         0  2.16e-16  181.1855  0.052017  12.07212\n",
      "Excluded 1 infeasible alt optima\n",
      "Excluded 1 infeasible alt optima\n",
      "Best feasible solution among 2 alt feasible has objval=0.0769700649943\n",
      "      24  3.062e-06  3.062e-06 -0.0005479 -0.0002214         0         0  2.59e-16  191.4383  0.086781  7.634348\n",
      "Excluded 1 infeasible alt optima\n",
      "Excluded 2 infeasible alt optima\n",
      "Best feasible solution among 3 alt feasible has objval=0.0704323842409\n",
      "      25  1.255e-05  1.255e-05  -0.000192  -0.000192         0         0  1.66e-16  198.5544  0.081683  5.007194\n",
      "Excluded 1 infeasible alt optima\n",
      "Excluded 1 infeasible alt optima\n",
      "Best feasible solution among 2 alt feasible has objval=0.0771367399251\n",
      "      25  1.255e-05  1.255e-05  -0.000192  -0.000192         0         0  1.66e-16  201.7894  0.081683  5.007194\n",
      "Master solver status=suboptimal (13).\n",
      "      26 -2.477e-06 -2.477e-06 -0.0004132  -0.000192         0         0  1.21e-16  268.2539  0.179069  66.28506\n",
      "Excluded 2 infeasible alt optima\n",
      "Excluded 1 infeasible alt optima\n",
      "Best feasible solution among 3 alt feasible has objval=0.076966765805\n",
      "Master solver status=suboptimal (13).\n",
      "      27 -0.0001568 -0.0001568   -0.03046  -0.000192         0         0     1e-13  289.3983  0.140477  3.513798\n",
      "Excluded 9 infeasible alt optima\n",
      "Excluded 2 infeasible alt optima\n",
      "Best feasible solution among 11 alt feasible has objval=0.0543373979874\n",
      "      28 -3.652e-06 -3.652e-06 -0.0001098 -0.0001098         0         0  4.89e-14  314.0485  0.108794  22.67241\n",
      "Excluded 1 infeasible alt optima\n",
      "Excluded 2 infeasible alt optima\n",
      "Best feasible solution among 3 alt feasible has objval=0.0682332275149\n",
      "Master solver status=suboptimal (13).\n",
      "      29 -5.851e-06 -5.851e-06 -0.0003617 -0.0001098         0         0   2.7e-18  331.4666  0.159141  7.454481\n",
      "Excluded 2 infeasible alt optima\n",
      "Excluded 1 infeasible alt optima\n",
      "Best feasible solution among 3 alt feasible has objval=0.00771542418805\n",
      "Best feasible solution has objval=0.00771542418805\n",
      "      30 -9.581e-06 -9.581e-06 -0.0005452 -0.0001098         0         0  3.97e-18  361.7398  0.080676  24.57878\n",
      "Excluded 1 infeasible alt optima\n",
      "Excluded 1 infeasible alt optima\n",
      "Best feasible solution among 2 alt feasible has objval=0.0769719399379\n",
      "      30 -9.581e-06 -9.581e-06 -0.0005452 -0.0001098         0         0  3.97e-18  362.2491  0.080676  24.57878\n",
      "Master solver status=suboptimal (13).\n",
      "      31 -3.609e-05 -3.609e-05  -0.002199 -0.0001098         0         0  2.86e-17  375.1254  0.105901  12.77003\n",
      "Excluded 1 infeasible alt optima\n",
      "Excluded 1 infeasible alt optima\n",
      "Best feasible solution among 2 alt feasible has objval=0.00355066991827\n",
      "Best feasible solution has objval=0.00355066991827\n",
      "Master solver status=suboptimal (13).\n",
      "      32 -4.577e-06 -4.577e-06 -0.0002628 -0.0001098         0         0  1.23e-17  413.3222  0.119041  20.83079\n",
      "Excluded 1 infeasible alt optima\n",
      "Excluded 2 infeasible alt optima\n",
      "Best feasible solution among 3 alt feasible has objval=0.0191240247488\n",
      "      33  5.257e-07  5.257e-07 -0.0004097 -0.0001098         0         0  2.59e-19  430.5187  0.139043  13.10458\n",
      "Excluded 1 infeasible alt optima\n",
      "Excluded 1 infeasible alt optima\n",
      "Best feasible solution among 2 alt feasible has objval=0.0769696206153\n",
      "Master solver status=suboptimal (13).\n",
      "      34 -0.0002852 -0.0002852   -0.01008 -0.0001098         0         0  1.06e-16  447.2561  0.161696  7.337202\n",
      "Excluded 2 infeasible alt optima\n",
      "Excluded 1 infeasible alt optima\n",
      "Best feasible solution among 3 alt feasible has objval=0.0254305999785\n",
      "Master solver status=suboptimal (13).\n",
      "      35 -0.0003068 -0.0003068   -0.01324 -0.0001098         0         0  2.15e-16  455.3304  0.163768  4.435821\n",
      "Excluded 2 infeasible alt optima\n",
      "Excluded 1 infeasible alt optima\n",
      "Best feasible solution among 3 alt feasible has objval=0.0133342269611\n",
      "      35 -0.0003068 -0.0003068   -0.01324 -0.0001098         0         0  2.15e-16  456.9730  0.163768  4.435821\n",
      "Master solver status=suboptimal (13).\n",
      "      36 -3.495e-06 -3.495e-06 -9.331e-05 -9.331e-05         0         0  1.26e-16  461.7095  0.191390  4.544579\n",
      "Excluded 1 infeasible alt optima\n",
      "Excluded 1 infeasible alt optima\n",
      "Best feasible solution among 2 alt feasible has objval=0.0501573416695\n",
      "Master solver status=suboptimal (13).\n",
      "Master solver status=suboptimal (13).\n",
      "      38 -0.0001344 -0.0001344  -0.004181 -9.331e-05         0         0  7.09e-15  469.2171  0.232964  3.744409\n",
      "Excluded 2 infeasible alt optima\n",
      "Excluded 1 infeasible alt optima\n",
      "Best feasible solution among 3 alt feasible has objval=0.0248690908668\n",
      "Master solver status=suboptimal (13).\n",
      "Master solver status=suboptimal (13).\n",
      "      40 -0.0003111 -0.0003111  -0.004016 -9.331e-05         0         0  3.66e-15  487.8958  0.164006  9.995064\n",
      "Excluded 1 infeasible alt optima\n",
      "Excluded 2 infeasible alt optima\n",
      "Best feasible solution among 3 alt feasible has objval=0.0209614909997\n",
      "      40 -0.0003111 -0.0003111  -0.004016 -9.331e-05         0         0  3.66e-15  492.9287  0.164006  9.995064\n",
      "Master solver status=suboptimal (13).\n",
      "Master solver status=suboptimal (13).\n",
      "Master solver status=suboptimal (13).\n",
      "      43 -7.408e-05 -7.408e-05  -0.001007 -9.331e-05         0         0  1.41e-15  509.3999  0.250484  7.494521\n",
      "Excluded 2 infeasible alt optima\n",
      "Excluded 1 infeasible alt optima\n",
      "Best feasible solution among 3 alt feasible has objval=0.0100353494725\n",
      "Master solver status=suboptimal (13).\n",
      "      44 -8.828e-05 -8.828e-05  -0.001999 -9.331e-05         0         0  3.99e-18  533.6229  0.135010  19.70043\n",
      "Excluded 1 infeasible alt optima\n",
      "Excluded 1 infeasible alt optima\n",
      "Best feasible solution among 2 alt feasible has objval=0.0219213112839\n",
      "Master solver status=suboptimal (13).\n",
      "      45 -7.521e-05 -7.521e-05 -0.0009029 -9.331e-05         0         0   4.1e-18  638.2196  0.317843  89.04247\n",
      "Excluded 1 infeasible alt optima\n",
      "Excluded 1 infeasible alt optima\n",
      "Best feasible solution among 2 alt feasible has objval=0.00869128142926\n",
      "      45 -7.521e-05 -7.521e-05 -0.0009029 -9.331e-05         0         0   4.1e-18  684.2661  0.317843  89.04247\n",
      "Master solver status=suboptimal (13).\n",
      "Master solver status=suboptimal (13).\n",
      "      47 -0.0001616 -0.0001616  -0.001592 -9.331e-05         0         0  6.41e-16  769.5443  0.194867  70.48530\n",
      "Excluded 1 infeasible alt optima\n",
      "Excluded 1 infeasible alt optima\n",
      "Best feasible solution among 2 alt feasible has objval=0.0215316472648\n",
      "Master solver status=suboptimal (13).\n",
      "      48 -0.0001704 -0.0001704  -0.002039 -9.331e-05         0         0  4.97e-18  829.9065  0.262821  14.59608\n",
      "Excluded 1 infeasible alt optima\n",
      "Excluded 1 infeasible alt optima\n",
      "Best feasible solution among 2 alt feasible has objval=0.0769707629033\n",
      "Master solver status=suboptimal (13).\n",
      "      49  -0.000262  -0.000262  -0.002908 -9.331e-05         0         0  7.34e-18  857.1789  0.154386  16.65728\n",
      "Excluded 3 infeasible alt optima\n",
      "Excluded 1 infeasible alt optima\n",
      "Best feasible solution among 4 alt feasible has objval=0.000379875382965\n",
      "Best feasible solution has objval=0.000379875382965\n",
      "Master solver status=suboptimal (13).\n",
      "      50 -0.0004071 -0.0004071  -0.002637 -9.331e-05         0         0  1.18e-17  933.3851  0.199285  66.92074\n",
      "Excluded 1 infeasible alt optima\n",
      "Excluded 1 infeasible alt optima\n",
      "Best feasible solution among 2 alt feasible has objval=0.0263924129794\n",
      "      50 -0.0004071 -0.0004071  -0.002637 -9.331e-05         0         0  1.18e-17  980.2673  0.199285  66.92074\n",
      "Master solver status=suboptimal (13).\n",
      "      51 -0.0004206 -0.0004206  -0.009711 -9.331e-05         0         0  7.53e-17  985.0407  0.146378  4.626636\n",
      "Excluded 1 infeasible alt optima\n",
      "Excluded 1 infeasible alt optima\n",
      "Best feasible solution among 2 alt feasible has objval=0.0346701323206\n",
      "Master solver status=suboptimal (13).\n",
      "      52 -5.437e-05 -5.437e-05 -0.0004643 -9.331e-05         0         0  7.03e-17  1724.405  0.144869  736.6293\n",
      "Best obj=-0.000464306. Tot obj=0.000204856. obj=-0.00023127 for acetate\n",
      "Alt optimum 0 in subprob acetate is feasible! Done.\n",
      "Best feasible solution has objval=0.000204855954334\n",
      "sum_k Hk*yk: [0. 0. 0. 0. 0. 0. 0. 0. 0. 0. 0. 0. 0. 0. 0. 0. 0. 0. 0. 0. 0. 0. 0. 0.\n",
      " 0. 0. 0. 0. 0. 0. 0. 0. 0. 0. 0. 0. 0. 0. 0. 0. 0. 0. 0. 0. 0. 0. 0. 0.\n",
      " 0. 0. 0. 0. 0. 0. 0. 0. 0. 0. 0. 0. 0. 0. 0. 0. 0. 0. 0. 0. 0. 0. 0. 0.\n",
      " 0. 0. 0. 0. 0. 0. 0. 0. 0. 0. 0. 0. 0. 0. 0. 0. 0. 0. 0. 0. 0. 0. 0. 0.\n",
      " 0. 0. 0. 0. 0. 0. 0. 0. 0. 0. 0. 0. 0. 0. 0. 0. 0. 0. 0. 0. 0. 0. 0. 0.\n",
      " 0. 0. 0. 0. 0. 0. 0. 0. 0. 0. 0. 0. 0. 0. 0. 0. 0. 0. 0. 0. 0. 0. 0. 0.]\n"
     ]
    }
   ],
   "source": [
    "master.time_limit = 2*3600\n",
    "#master.max_iter = 500\n",
    "master.verbosity = 2\n",
    "master.print_iter = 5\n",
    "# master.gaptol = 0.02\n",
    "master.gaptol = 1e-3\n",
    "master.absgaptol = 1e-3\n",
    "feasible_method = 'enumerate'\n",
    "alt_method = 'pool'\n",
    "max_alt = 10    # Computationally expensive if too large. Might miss feasible solution if too small.\n",
    "                # Can make adaptive if no feasible solution found for certain iterations.\n",
    "\n",
    "if TWO_PHASE:\n",
    "    sol_master = master.solve_relaxed(feasible_method=None)\n",
    "\n",
    "sol_master = master.optimize(feasible_method=feasible_method, max_alt=max_alt, alt_method=alt_method,\n",
    "                            nogood_cuts = True) "
   ]
  },
  {
   "cell_type": "code",
   "execution_count": 14,
   "metadata": {
    "collapsed": true,
    "deletable": true,
    "editable": true
   },
   "outputs": [],
   "source": [
    "var_cons_dict = estk.var_cons_dict\n",
    "powers = estk.powers\n",
    "digits = estk.digits\n",
    "radix  = estk.radix"
   ]
  },
  {
   "cell_type": "code",
   "execution_count": 15,
   "metadata": {
    "collapsed": true,
    "deletable": true,
    "editable": true
   },
   "outputs": [],
   "source": [
    "# sol_masterk = sub_dict['acetate'].x_dict\n",
    "# sol_masterk = sub_dict['glucose'].x_dict"
   ]
  },
  {
   "cell_type": "code",
   "execution_count": 16,
   "metadata": {
    "collapsed": false,
    "deletable": true,
    "editable": true
   },
   "outputs": [
    {
     "name": "stdout",
     "output_type": "stream",
     "text": [
      "Changed keffs: 42/48\n",
      "Cond=glucose. mu_meas=0.74. mu_sim=0.74035 (unfit=0.873922, error=18.1%). Error=0.0472% (-99.7% change)\n",
      "\tEX_glc__D_e uptake=-10\n",
      "\tEX_fru_e uptake=0\n",
      "\tEX_succ_e uptake=0\n",
      "\tEX_mal__L_e uptake=0\n",
      "\tEX_ac_e uptake=0\n",
      "Cond=acetate. mu_meas=0.256. mu_sim=0.256005 (unfit=0.389313, error=52.1%). Error=0.00195% (-100% change)\n",
      "\tEX_glc__D_e uptake=0\n",
      "\tEX_fru_e uptake=0\n",
      "\tEX_succ_e uptake=0\n",
      "\tEX_mal__L_e uptake=0\n",
      "\tEX_ac_e uptake=-20\n",
      "Absolute percent error: 0.00195114% -- 0.0472337%\n",
      "Mean abs percent error = 0.0245924%\n",
      "Median abs percent error = 0.0245924%\n"
     ]
    }
   ],
   "source": [
    "kfit_dict = {}\n",
    "for group_id, var_dict in iteritems(var_cons_dict):\n",
    "    var = var_dict[0]\n",
    "    cons = var_dict[1]\n",
    "    a0  = var_dict[0][2]\n",
    "    kfit = 0.\n",
    "    for l,pwr in enumerate(powers):\n",
    "        for k,digit in enumerate(digits):            \n",
    "            yid = 'binary_%s%s%s' % (group_id,k,l)\n",
    "            y   = sol_master[yid]\n",
    "#             y   = sol_masterk[yid]\n",
    "            kfit += y*a0*radix**pwr*digit\n",
    "    kfit_dict[group_id] = kfit\n",
    "\n",
    "kfit_changed = [(k,v, abs(v-a0)/a0) for k,v in iteritems(kfit_dict) if abs(v-a0)/a0>1e-6]\n",
    "print('Changed keffs: %d/%d' % (len(kfit_changed), len(var_cons_dict)))\n",
    "#----------------------------------------\n",
    "# Starting from basal model\n",
    "perrs = []\n",
    "csrcs = df_conds.cond.unique()\n",
    "for csrc in csrcs:    \n",
    "    ijofit = load_json_model('/home/laurence/ME/models/e_coli_core_pc.json')\n",
    "    crowding = ijofit.metabolites.get_by_id('crowding')\n",
    "    df_condi = df_conds[ df_conds.cond==csrc]    \n",
    "    for i,row in df_condi.iterrows():\n",
    "        rid = row['rxn']\n",
    "        rxn = ijofit.reactions.get_by_id(rid)\n",
    "        rxn.lower_bound = row['lb']\n",
    "        rxn.upper_bound = row['ub']\n",
    "\n",
    "    for rid,kfit in iteritems(kfit_dict):\n",
    "        rxn = ijofit.reactions.get_by_id(rid)\n",
    "        rxn.add_metabolites({crowding:kfit}, combine=False)\n",
    "    \n",
    "    ijofit.optimize()\n",
    "    \n",
    "    mu_measi = df_meas[ df_meas.substrate==csrc].growth_rate_1_h.iloc[0]\n",
    "    mu_fiti = ijofit.reactions.BIOMASS_Ecoli_core_w_GAM.x\n",
    "    \n",
    "    # Get unfit\n",
    "    for rxn in ijofit.metabolites.crowding.reactions:\n",
    "        rxn._metabolites[crowding] = a0\n",
    "    ijofit.optimize()\n",
    "    mu_unfiti = ijofit.reactions.BIOMASS_Ecoli_core_w_GAM.x\n",
    "    err0= 100*(mu_unfiti-mu_measi)/mu_measi\n",
    "    err = 100*(mu_fiti - mu_measi)/mu_measi\n",
    "    derr= 100*(abs(err)-abs(err0))/abs(err0)\n",
    "    perrs.append(err)\n",
    "    print('Cond=%s. mu_meas=%g. mu_sim=%g (unfit=%g, error=%.3g%%). Error=%.3g%% (%.3g%% change)' % (\n",
    "        csrc, mu_measi, mu_fiti, mu_unfiti, err0, err, derr))\n",
    "    for i,row in df_condi.iterrows():\n",
    "        rid = row['rxn']\n",
    "        rxn = ijofit.reactions.get_by_id(rid)        \n",
    "        print('\\t%s uptake=%g' % (rxn.id, rxn.x))\n",
    "perrs = np.array(perrs)\n",
    "print(\"Absolute percent error: %g%% -- %g%%\"%(min(abs(perrs)), max(abs(perrs))))\n",
    "print(\"Mean abs percent error = %g%%\"%(np.mean(abs(perrs))))\n",
    "print(\"Median abs percent error = %g%%\"%(np.median(abs(perrs))))"
   ]
  },
  {
   "cell_type": "markdown",
   "metadata": {
    "deletable": true,
    "editable": true
   },
   "source": [
    "## Confirm that all ys the same"
   ]
  },
  {
   "cell_type": "code",
   "execution_count": 17,
   "metadata": {
    "collapsed": false,
    "deletable": true,
    "editable": true
   },
   "outputs": [
    {
     "name": "stdout",
     "output_type": "stream",
     "text": [
      "  binary_G6P         1.0         1.0        True\n",
      "  binary_G6P         1.0         1.0        True\n",
      "  binary_G6P         1.0         1.0        True\n",
      "  binary_AKG         1.0         1.0        True\n",
      "  binary_AKG         0.0         0.0        True\n",
      "  binary_AKG         1.0         1.0        True\n",
      "  binary_ACK         1.0         1.0        True\n",
      "  binary_ACK         1.0         1.0        True\n",
      "  binary_ACK         0.0         0.0        True\n",
      "  binary_PGK         0.0         0.0        True\n",
      "  binary_PGK         1.0         1.0        True\n",
      "  binary_PGK         0.0         0.0        True\n",
      "  binary_GLU         0.0         0.0        True\n",
      "  binary_GLU         0.0         0.0        True\n",
      "  binary_GLU         1.0         1.0        True\n",
      "  binary_ME1         0.0         0.0        True\n",
      "  binary_ME1         0.0         0.0        True\n",
      "  binary_ME1         1.0         1.0        True\n",
      "  binary_GND         0.0         0.0        True\n",
      "  binary_GND         1.0         1.0        True\n",
      "  binary_GND         1.0         1.0        True\n",
      "  binary_ME2         1.0         1.0        True\n",
      "  binary_ME2         1.0         1.0        True\n",
      "  binary_ME2         1.0         1.0        True\n",
      "  binary_GLN         0.0         0.0        True\n",
      "  binary_GLN         1.0         1.0        True\n",
      "  binary_GLN         0.0         0.0        True\n",
      "  binary_FUM         0.0         0.0        True\n",
      "  binary_FUM         1.0         1.0        True\n",
      "  binary_FUM         1.0         1.0        True\n",
      "  binary_SUC         1.0         1.0        True\n",
      "  binary_SUC         0.0         0.0        True\n",
      "  binary_SUC         1.0         1.0        True\n",
      "  binary_PPC         1.0         1.0        True\n",
      "  binary_PPC         0.0         0.0        True\n",
      "  binary_PPC         1.0         1.0        True\n",
      "  binary_MDH         0.0         0.0        True\n",
      "  binary_MDH         0.0         0.0        True\n",
      "  binary_MDH         1.0         1.0        True\n",
      "  binary_GLU         1.0         1.0        True\n",
      "  binary_GLU         1.0         1.0        True\n",
      "  binary_GLU         0.0         0.0        True\n",
      "  binary_GLU         0.0         0.0        True\n",
      "  binary_GLU         1.0         1.0        True\n",
      "  binary_GLU         0.0         0.0        True\n",
      "  binary_PGL         1.0         1.0        True\n",
      "  binary_PGL         1.0         1.0        True\n",
      "  binary_PGL         1.0         1.0        True\n",
      "  binary_PGM         1.0         1.0        True\n",
      "  binary_PGM         0.0         0.0        True\n",
      "  binary_PGM         0.0         0.0        True\n",
      "  binary_ACA         1.0         1.0        True\n",
      "  binary_ACA         0.0         0.0        True\n",
      "  binary_ACA         1.0         1.0        True\n",
      "  binary_MAL         0.0         0.0        True\n",
      "  binary_MAL         1.0         1.0        True\n",
      "  binary_MAL         1.0         1.0        True\n",
      "  binary_PGI         1.0         1.0        True\n",
      "  binary_PGI         0.0         0.0        True\n",
      "  binary_PGI         0.0         0.0        True\n",
      "  binary_PPS         1.0         1.0        True\n",
      "  binary_PPS         1.0         1.0        True\n",
      "  binary_PPS         0.0         0.0        True\n",
      "  binary_PTA         0.0         0.0        True\n",
      "  binary_PTA         1.0         1.0        True\n",
      "  binary_PTA         0.0         0.0        True\n",
      "  binary_RPE         1.0         1.0        True\n",
      "  binary_RPE         1.0         1.0        True\n",
      "  binary_RPE         1.0         1.0        True\n",
      "  binary_ALC         1.0         1.0        True\n",
      "  binary_ALC         0.0         0.0        True\n",
      "  binary_ALC         1.0         1.0        True\n",
      "  binary_RPI         1.0         1.0        True\n",
      "  binary_RPI         1.0         1.0        True\n",
      "  binary_RPI         0.0         0.0        True\n",
      "  binary_TAL         0.0         0.0        True\n",
      "  binary_TAL         1.0         1.0        True\n",
      "  binary_TAL         0.0         0.0        True\n",
      "  binary_NAD         0.0         0.0        True\n",
      "  binary_NAD         1.0         1.0        True\n",
      "  binary_NAD         0.0         0.0        True\n",
      "  binary_ICD         1.0         1.0        True\n",
      "  binary_ICD         0.0         0.0        True\n",
      "  binary_ICD         1.0         1.0        True\n",
      "  binary_GAP         1.0         1.0        True\n",
      "  binary_GAP         1.0         1.0        True\n",
      "  binary_GAP         1.0         1.0        True\n",
      "  binary_ICL         0.0         0.0        True\n",
      "  binary_ICL         0.0         0.0        True\n",
      "  binary_ICL         1.0         1.0        True\n",
      "  binary_TPI         1.0         1.0        True\n",
      "  binary_TPI         1.0         1.0        True\n",
      "  binary_TPI         0.0         0.0        True\n",
      "  binary_ENO         1.0         1.0        True\n",
      "  binary_ENO         1.0         1.0        True\n",
      "  binary_ENO         0.0         0.0        True\n",
      "  binary_ACO         1.0         1.0        True\n",
      "  binary_ACO         1.0         1.0        True\n",
      "  binary_ACO         1.0         1.0        True\n",
      "  binary_SUC         1.0         1.0        True\n",
      "  binary_SUC         0.0         0.0        True\n",
      "  binary_SUC         0.0         0.0        True\n",
      "  binary_ACO         0.0         0.0        True\n",
      "  binary_ACO         1.0         1.0        True\n",
      "  binary_ACO         1.0         1.0        True\n",
      "  binary_ADK         1.0         1.0        True\n",
      "  binary_ADK         1.0         1.0        True\n",
      "  binary_ADK         1.0         1.0        True\n",
      "  binary_PDH         0.0         0.0        True\n",
      "  binary_PDH         0.0         0.0        True\n",
      "  binary_PDH         1.0         1.0        True\n",
      "  binary_CS0         1.0         1.0        True\n",
      "  binary_CS0         1.0         1.0        True\n",
      "  binary_CS0         1.0         1.0        True\n",
      "  binary_TKT         1.0         1.0        True\n",
      "  binary_TKT         0.0         0.0        True\n",
      "  binary_TKT         0.0         0.0        True\n",
      "  binary_FBP         0.0         0.0        True\n",
      "  binary_FBP         0.0         0.0        True\n",
      "  binary_FBP         1.0         1.0        True\n",
      "  binary_TKT         1.0         1.0        True\n",
      "  binary_TKT         1.0         1.0        True\n",
      "  binary_TKT         1.0         1.0        True\n",
      "  binary_PPC         1.0         1.0        True\n",
      "  binary_PPC         1.0         1.0        True\n",
      "  binary_PPC         0.0         0.0        True\n",
      "  binary_PFK         1.0         1.0        True\n",
      "  binary_PFK         1.0         1.0        True\n",
      "  binary_PFK         1.0         1.0        True\n",
      "  binary_PFL         1.0         1.0        True\n",
      "  binary_PFL         1.0         1.0        True\n",
      "  binary_PFL         1.0         1.0        True\n",
      "  binary_FBA         0.0         0.0        True\n",
      "  binary_FBA         0.0         0.0        True\n",
      "  binary_FBA         1.0         1.0        True\n",
      "  binary_PYK         1.0         1.0        True\n",
      "  binary_PYK         0.0         0.0        True\n",
      "  binary_PYK         0.0         0.0        True\n",
      "  binary_LDH         0.0         0.0        True\n",
      "  binary_LDH         0.0         0.0        True\n",
      "  binary_LDH         1.0         1.0        True\n",
      "  binary_FRD         1.0         1.0        True\n",
      "  binary_FRD         1.0         1.0        True\n",
      "  binary_FRD         1.0         1.0        True\n"
     ]
    }
   ],
   "source": [
    "y_sames = []\n",
    "for y in sub._ys:\n",
    "    sub1 = sub_dict['acetate']\n",
    "    sub2 = sub_dict['glucose']\n",
    "    y1 = sub1.x_dict[y.VarName]\n",
    "    y2 = sub2.x_dict[y.VarName]\n",
    "    y_sames.append(abs(y1-y2)<1e-10)\n",
    "    print('%12.10s%12.10s%12.10s%12.10s'%(y.VarName,y1,y2, abs(y1-y2)<1e-10))    "
   ]
  },
  {
   "cell_type": "code",
   "execution_count": 18,
   "metadata": {
    "collapsed": false,
    "deletable": true,
    "editable": true
   },
   "outputs": [
    {
     "name": "stdout",
     "output_type": "stream",
     "text": [
      "num same = 144/144\n"
     ]
    }
   ],
   "source": [
    "print('num same = %s/%s'%(sum(y_sames), len(y_sames)))"
   ]
  }
 ],
 "metadata": {
  "kernelspec": {
   "display_name": "Python 2",
   "language": "python",
   "name": "python2"
  },
  "language_info": {
   "codemirror_mode": {
    "name": "ipython",
    "version": 2
   },
   "file_extension": ".py",
   "mimetype": "text/x-python",
   "name": "python",
   "nbconvert_exporter": "python",
   "pygments_lexer": "ipython2",
   "version": "2.7.14"
  }
 },
 "nbformat": 4,
 "nbformat_minor": 2
}
