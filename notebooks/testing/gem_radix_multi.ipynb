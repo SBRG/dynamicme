{
 "cells": [
  {
   "cell_type": "markdown",
   "metadata": {
    "deletable": true,
    "editable": true
   },
   "source": [
    "# GEM Radix-based"
   ]
  },
  {
   "cell_type": "code",
   "execution_count": 1,
   "metadata": {
    "collapsed": true,
    "deletable": true,
    "editable": true
   },
   "outputs": [],
   "source": [
    "SCALE_CROWDING=False\n",
    "PREVENT_ZERO = True"
   ]
  },
  {
   "cell_type": "code",
   "execution_count": 2,
   "metadata": {
    "collapsed": false,
    "deletable": true,
    "editable": true
   },
   "outputs": [],
   "source": [
    "%load_ext line_profiler"
   ]
  },
  {
   "cell_type": "code",
   "execution_count": 3,
   "metadata": {
    "collapsed": false,
    "deletable": true,
    "editable": true
   },
   "outputs": [
    {
     "name": "stdout",
     "output_type": "stream",
     "text": [
      "(<type 'exceptions.ImportError'>, ImportError('No module named cplex',), <traceback object at 0x7f508143eef0>)\n"
     ]
    }
   ],
   "source": [
    "from gurobipy import *\n",
    "\n",
    "import seaborn as sns\n",
    "import pandas as pd\n",
    "import matplotlib.pyplot as plt\n",
    "import numpy as np\n",
    "\n",
    "plt.rcParams['svg.fonttype'] = 'none'\n",
    "pd.set_option('display.max_colwidth', -1)\n",
    "%matplotlib inline\n",
    "\n",
    "from dynamicme.decomposition import Decomposer\n",
    "from dynamicme.callback_gurobi import cb_benders\n",
    "from dynamicme.optimize import Optimizer, StackOptimizer\n",
    "from dynamicme.optimize import Constraint, Variable\n",
    "\n",
    "from cobra.io import load_json_model\n",
    "from cobra import Metabolite, Reaction\n",
    "from six import iteritems\n",
    "\n",
    "import numpy as np\n",
    "import cobra"
   ]
  },
  {
   "cell_type": "markdown",
   "metadata": {
    "deletable": true,
    "editable": true
   },
   "source": [
    "### Try optimizing using radix for one condition first"
   ]
  },
  {
   "cell_type": "code",
   "execution_count": 4,
   "metadata": {
    "collapsed": true,
    "deletable": true,
    "editable": true
   },
   "outputs": [],
   "source": [
    "from cobra.io import load_json_model\n",
    "\n",
    "mdl_ref  = load_json_model('/home/laurence/ME/data/dynamicME/nominal_ijomc.json')\n",
    "ijomc  = load_json_model('/home/laurence/ME/data/dynamicME/nominal_ijomc.json')"
   ]
  },
  {
   "cell_type": "code",
   "execution_count": 5,
   "metadata": {
    "collapsed": true,
    "deletable": true,
    "editable": true
   },
   "outputs": [],
   "source": [
    "mu_id = 'BIOMASS_Ec_iJO1366_core_53p95M'"
   ]
  },
  {
   "cell_type": "code",
   "execution_count": 6,
   "metadata": {
    "collapsed": false,
    "deletable": true,
    "editable": true
   },
   "outputs": [
    {
     "name": "stdout",
     "output_type": "stream",
     "text": [
      "0.972916210772\n"
     ]
    }
   ],
   "source": [
    "ijomc.optimize()\n",
    "mu_crowd0 = ijomc.reactions.get_by_id(mu_id).x\n",
    "print(mu_crowd0)"
   ]
  },
  {
   "cell_type": "code",
   "execution_count": 7,
   "metadata": {
    "collapsed": false,
    "deletable": true,
    "editable": true
   },
   "outputs": [],
   "source": [
    "df_meas = pd.read_csv('/home/laurence/ME/data/dynamicME/beg/growth_meas.csv')\n",
    "\n",
    "ex_rxns = [r for r in df_meas.ex_rxn.unique() if mdl_ref.reactions.has_id(r)]\n",
    "df_meas = df_meas[ df_meas.ex_rxn.isin(ex_rxns)]\n",
    "conds = df_meas.substrate.unique()\n",
    "\n",
    "#N_CONDS = len(conds)\n",
    "N_CONDS = len(conds)\n",
    "\n",
    "df_conds = pd.DataFrame([{'cond':r['substrate'], 'rxn':ex_rxn, 'lb':-10 if r['ex_rxn']==ex_rxn else 0, 'ub':1000., 'obj':0.} for i,r in df_meas.iterrows() for ex_rxn in ex_rxns])\n",
    "df_conds = df_conds[ df_conds.cond.isin(conds[0:N_CONDS])]\n",
    "#df_conds = df_conds[ df_conds.cond.isin(['glucose','acetate','succinate'])]"
   ]
  },
  {
   "cell_type": "code",
   "execution_count": 8,
   "metadata": {
    "collapsed": false
   },
   "outputs": [
    {
     "data": {
      "text/plain": [
       "10"
      ]
     },
     "execution_count": 8,
     "metadata": {},
     "output_type": "execute_result"
    }
   ],
   "source": [
    "N_CONDS"
   ]
  },
  {
   "cell_type": "markdown",
   "metadata": {
    "deletable": true,
    "editable": true
   },
   "source": [
    "## Need to allow higher growth for acetate with higher uptake rate"
   ]
  },
  {
   "cell_type": "code",
   "execution_count": 9,
   "metadata": {
    "collapsed": false,
    "deletable": true,
    "editable": true
   },
   "outputs": [],
   "source": [
    "df_conds.loc[ df_conds.cond=='acetate', 'lb'] = -20"
   ]
  },
  {
   "cell_type": "code",
   "execution_count": 10,
   "metadata": {
    "collapsed": false,
    "deletable": true,
    "editable": true
   },
   "outputs": [],
   "source": [
    "stacker = StackOptimizer()\n",
    "stacker.stack_models(ijomc, df_conds)"
   ]
  },
  {
   "cell_type": "code",
   "execution_count": 11,
   "metadata": {
    "collapsed": false,
    "deletable": true,
    "editable": true
   },
   "outputs": [
    {
     "data": {
      "text/plain": [
       "<Solution 10.56 at 0x7f501b9c4e90>"
      ]
     },
     "execution_count": 11,
     "metadata": {},
     "output_type": "execute_result"
    }
   ],
   "source": [
    "stacker.model.optimize(solver='gurobi')"
   ]
  },
  {
   "cell_type": "code",
   "execution_count": 12,
   "metadata": {
    "collapsed": false,
    "deletable": true,
    "editable": true
   },
   "outputs": [
    {
     "name": "stdout",
     "output_type": "stream",
     "text": [
      "galactose. mu=0.959832.\n",
      "lactate. mu=0.39908.\n",
      "malate. mu=0.449416.\n",
      "acetate. mu=3.09662.\n",
      "mannose. mu=0.965478.\n",
      "glycerol. mu=0.56279.\n",
      "maltose. mu=1.69375.\n",
      "fructose. mu=0.969308.\n",
      "succinate. mu=0.492484.\n",
      "glucose. mu=0.972916.\n"
     ]
    }
   ],
   "source": [
    "# stacker.model_dict['glucose'].optimize()\n",
    "# print stacker.model_dict['glucose'].reactions.query('BIOMASS')[0].x\n",
    "# print stacker.model_dict['glucose'].reactions.query('EX_glc')[0].x\n",
    "# print stacker.model_dict['glucose'].reactions.query('EX_fru')[0].x\n",
    "\n",
    "# stacker.model_dict['acetate'].optimize()\n",
    "# print stacker.model_dict['acetate'].reactions.query('BIOMASS')[0].x\n",
    "# print stacker.model_dict['acetate'].reactions.query('EX_glc')[0].x\n",
    "# print stacker.model_dict['acetate'].reactions.query('EX_ac')[0].x\n",
    "for mdl_ind,mdl in iteritems(stacker.model_dict):\n",
    "    mdl.optimize()\n",
    "    print('%s. mu=%g.' % (mdl_ind, mdl.solution.f))"
   ]
  },
  {
   "cell_type": "code",
   "execution_count": 13,
   "metadata": {
    "collapsed": false,
    "deletable": true,
    "editable": true
   },
   "outputs": [],
   "source": [
    "for mdl_ind,mdl in iteritems(stacker.model_dict):\n",
    "    opt = Optimizer(mdl)\n",
    "    gapi = opt.add_duality_gap_constraint(INF=1e3, inplace=True, index=mdl_ind)"
   ]
  },
  {
   "cell_type": "code",
   "execution_count": 14,
   "metadata": {
    "collapsed": false,
    "deletable": true,
    "editable": true
   },
   "outputs": [
    {
     "data": {
      "text/plain": [
       "<Solution 21.12 at 0x7f501b098290>"
      ]
     },
     "execution_count": 14,
     "metadata": {},
     "output_type": "execute_result"
    }
   ],
   "source": [
    "stacker.model.optimize(solver='gurobi')"
   ]
  },
  {
   "cell_type": "code",
   "execution_count": 15,
   "metadata": {
    "collapsed": false,
    "deletable": true,
    "editable": true
   },
   "outputs": [
    {
     "name": "stdout",
     "output_type": "stream",
     "text": [
      "('Radix:', 2.0)\n",
      "('Powers:', array([-3, -2, -1,  0,  1,  2,  3]))\n",
      "('Digits:', [1.0])\n"
     ]
    },
    {
     "name": "stderr",
     "output_type": "stream",
     "text": [
      "/usr/lib/python2.7/site-packages/ipykernel/__main__.py:9 \u001b[1;31mDeprecationWarning\u001b[0m: object of type <type 'float'> cannot be safely interpreted as an integer.\n"
     ]
    }
   ],
   "source": [
    "import numpy as np\n",
    "\n",
    "radix = 2.\n",
    "print('Radix:',radix)\n",
    "powers = np.arange(-3,4)\n",
    "print('Powers:', powers)\n",
    "digits_per_power = radix\n",
    "pwr_max = max(powers)\n",
    "digits = list(set(np.linspace(1, radix-1, digits_per_power)))\n",
    "print('Digits:', digits)\n",
    "\n",
    "# Discretize crowding coefficients into radix\n",
    "#crowding_p = gap.metabolites.crowding\n",
    "#crowding_cons = stacker.model.metabolites.query('crowding')\n",
    "\n",
    "var_cons_dict = {}\n",
    "# Get the group ID from reference model\n",
    "mdl_ref = ijomc\n",
    "crowding_ref = mdl_ref.metabolites.crowding\n",
    "for rxn_ref in crowding_ref.reactions:    \n",
    "    for mdl_ind, mdl in iteritems(stacker.model_dict):\n",
    "        crowding_p = mdl.metabolites.get_by_id('crowding_%s'%mdl_ind)\n",
    "        var_d = mdl.reactions.get_by_id('wa_%s'%crowding_p.id)\n",
    "        rxn_p = mdl.reactions.get_by_id(rxn_ref.id+'_%s'%mdl_ind)\n",
    "        # Get the coefficient in the dual\n",
    "        cons_ds = [m for m in var_d.metabolites.keys() if rxn_p.id==m.id]        \n",
    "        a0 = rxn_p.metabolites[crowding_p]\n",
    "        if var_cons_dict.has_key(rxn_ref.id):\n",
    "            var_cons_dict[rxn_ref.id] += [(rxn_p, crowding_p, a0)] + [(var_d, cons_d, a0) for cons_d in cons_ds]\n",
    "        else:\n",
    "            var_cons_dict[rxn_ref.id] = [(rxn_p, crowding_p, a0)] + [(var_d, cons_d, a0) for cons_d in cons_ds]"
   ]
  },
  {
   "cell_type": "code",
   "execution_count": null,
   "metadata": {
    "collapsed": false,
    "deletable": true,
    "editable": true
   },
   "outputs": [],
   "source": [
    "# %lprun -f opt.to_radix opt.to_radix(gap, var_cons_dict, radix, powers, digits_per_power, prevent_zero=True)"
   ]
  },
  {
   "cell_type": "code",
   "execution_count": null,
   "metadata": {
    "collapsed": false,
    "deletable": true,
    "editable": true
   },
   "outputs": [],
   "source": [
    "%time opt.to_radix(stacker.model, var_cons_dict, radix, powers, digits=digits, prevent_zero=PREVENT_ZERO)"
   ]
  },
  {
   "cell_type": "code",
   "execution_count": null,
   "metadata": {
    "collapsed": true,
    "deletable": true,
    "editable": true
   },
   "outputs": [],
   "source": [
    "### Try scaling\n",
    "if SCALE_CROWDING:\n",
    "    for mdl_ind,mdl in iteritems(stacker.model_dict):\n",
    "        crowding = stacker.model.metabolites.get_by_id('crowding'+'_%s'%mdl_ind)\n",
    "        bound0  = crowding._bound\n",
    "        f_scale = crowding._bound\n",
    "        crowding._bound = bound0 / f_scale\n",
    "        for rxn in crowding.reactions:\n",
    "            rxn._metabolites[crowding] = rxn._metabolites[crowding]/f_scale"
   ]
  },
  {
   "cell_type": "code",
   "execution_count": null,
   "metadata": {
    "collapsed": false,
    "deletable": true,
    "editable": true
   },
   "outputs": [],
   "source": [
    "for rxn in stacker.model.reactions:\n",
    "    rxn.objective_coefficient = 0.\n",
    "\n",
    "for group_id in var_cons_dict.keys():\n",
    "    for l,pwr in enumerate(powers):\n",
    "        for k,digit in enumerate(digits):\n",
    "            yid = 'binary_%s%s%s'%(group_id,k,l)\n",
    "            y   = stacker.model.reactions.get_by_id(yid)\n",
    "            ### PREFER pwr=0, digit=1\n",
    "            if pwr==0 and digit==1:\n",
    "                #print('Preferring a0')\n",
    "                y.objective_coefficient = 0.\n",
    "            else:\n",
    "                y.objective_coefficient = 1."
   ]
  },
  {
   "cell_type": "code",
   "execution_count": null,
   "metadata": {
    "collapsed": false,
    "deletable": true,
    "editable": true
   },
   "outputs": [],
   "source": [
    "from cobra.solvers import gurobi_solver\n",
    "from gurobipy import *\n",
    "import numpy as np\n",
    "\n",
    "F_TOL_FINAL = 0.04\n",
    "F_TOL_START = 0.2\n",
    "N_FS =5\n",
    "F_TOLS = np.linspace(F_TOL_START, F_TOL_FINAL, N_FS)\n",
    "F_TOLS"
   ]
  },
  {
   "cell_type": "markdown",
   "metadata": {
    "deletable": true,
    "editable": true
   },
   "source": [
    "### TOOD: bisection on F_TOL instead of linear"
   ]
  },
  {
   "cell_type": "code",
   "execution_count": null,
   "metadata": {
    "collapsed": false,
    "deletable": true,
    "editable": true,
    "scrolled": true
   },
   "outputs": [],
   "source": [
    "%%time\n",
    "\n",
    "import time\n",
    "\n",
    "toc = 0.\n",
    "sol_dict = {}\n",
    "for ind, F_TOL in enumerate(F_TOLS):\n",
    "    # ind = 0\n",
    "    # F_TOL = F_TOL_FINAL\n",
    "    for mdl_ind,mdl in iteritems(stacker.model_dict):\n",
    "        mu_meas = df_meas[ df_meas.substrate==mdl_ind].growth_rate_1_h.iloc[0]\n",
    "        rxn_mu = mdl.reactions.get_by_id(mu_id+'_%s'%mdl_ind)    \n",
    "        rxn_mu.lower_bound = mu_meas*(1-F_TOL)\n",
    "        rxn_mu.upper_bound = mu_meas*(1+F_TOL)\n",
    "        mu_crowd0 = np.nan\n",
    "        print('Condition=%s. Initial mu_crowd=%g. Fitting within %g%% of measured: %g <= mu <= %g' % (mdl_ind, mu_crowd0, 100*F_TOL, rxn_mu.lower_bound, rxn_mu.upper_bound))\n",
    "\n",
    "    milp = gurobi_solver.create_problem(stacker.model)\n",
    "    milp.ModelSense = GRB.MINIMIZE\n",
    "    milp.Params.IntFeasTol = 1e-9\n",
    "    milp.Params.OutputFlag = 1\n",
    "    # milp.Params.FeasibilityTol = 1e-9\n",
    "    # milp.Params.OptimalityTol = 1e-9\n",
    "    milp.Params.NodefileStart = 3   # Start writing nodes to disk if x GB RAM exceeded (for each thread)\n",
    "    milp.Params.TimeLimit = 2*3600  # Time limit in seconds    \n",
    "    #milp.Params.Method = 2 # Barrier\n",
    "    #milp.Params.NodeMethod = 2 # Barrier slower for NodeMethod\n",
    "    #milp.Params.BarHomogeneous = 1\n",
    "    #***************************\n",
    "    milp.Params.NumericFocus = 1\n",
    "    milp.Params.ScaleFlag = 0\n",
    "    milp.Params.Presolve  = 0\n",
    "    #***************************\n",
    "    tic = time.time()\n",
    "    milp.optimize()\n",
    "    toc = time.time()-tic\n",
    "\n",
    "    # If feasible solution found, use it as MILP start\n",
    "    if milp.SolCount > 0:\n",
    "        print('#'*40)\n",
    "        print('Setting MIP warm-start values.')\n",
    "        for v in milp.getVars():\n",
    "            v.Start = v.X\n",
    "        sol_dict[ind] = {'x_dict':{v.VarName:v.X for v in milp.getVars()}, 'F_TOL':F_TOL, 'time':toc}"
   ]
  },
  {
   "cell_type": "code",
   "execution_count": null,
   "metadata": {
    "collapsed": false,
    "deletable": true,
    "editable": true
   },
   "outputs": [],
   "source": [
    "[(k, s['F_TOL'], s['time']) for k,s in iteritems(sol_dict)]"
   ]
  },
  {
   "cell_type": "code",
   "execution_count": null,
   "metadata": {
    "collapsed": false,
    "deletable": true,
    "editable": true
   },
   "outputs": [],
   "source": [
    "best_ind = len(sol_dict)-1\n",
    "best_ind"
   ]
  },
  {
   "cell_type": "code",
   "execution_count": null,
   "metadata": {
    "collapsed": false,
    "deletable": true,
    "editable": true
   },
   "outputs": [],
   "source": [
    "x_dict = {r.id:sol_dict[best_ind]['x_dict'][str(i)] for i,r in enumerate(stacker.model.reactions)}\n",
    "F_TOL = sol_dict[best_ind]['F_TOL']"
   ]
  },
  {
   "cell_type": "code",
   "execution_count": null,
   "metadata": {
    "collapsed": false,
    "deletable": true,
    "editable": true
   },
   "outputs": [],
   "source": [
    "yopt = [x_dict[rxn.id] for rxn in stacker.model.reactions.query('binary_')]\n",
    "print('Number of non-zero binaries: %g' % sum(yopt))\n",
    "for mdl_ind,mdl in iteritems(stacker.model_dict):\n",
    "    dfi = df_meas[ df_meas.substrate==mdl_ind]\n",
    "    mu_measi = dfi.growth_rate_1_h.iloc[0]\n",
    "    rxn_mu = stacker.model.reactions.get_by_id(mu_id+'_%s'%mdl_ind)\n",
    "    muopt = x_dict[rxn_mu.id]\n",
    "    muL = mu_measi*(1-F_TOL)\n",
    "    muU = mu_measi*(1+F_TOL)\n",
    "    print('%s: Initial mu_crowd=%g. Fitted within %g%%: %g <= %g <= %g' % (mdl_ind, mu_crowd0, 100*F_TOL, muL, muopt, muU))"
   ]
  },
  {
   "cell_type": "code",
   "execution_count": null,
   "metadata": {
    "collapsed": false,
    "deletable": true,
    "editable": true,
    "scrolled": true
   },
   "outputs": [],
   "source": [
    "# Fitted parameters\n",
    "kfit_dict = {}\n",
    "for group_id, var_dict in iteritems(var_cons_dict):\n",
    "    var = var_dict[0]\n",
    "    cons = var_dict[1]\n",
    "    a0  = var_dict[0][2]\n",
    "    kfit = 0.\n",
    "    for l,pwr in enumerate(powers):\n",
    "        for k,digit in enumerate(digits):            \n",
    "            yid = 'binary_%s%s%s' % (group_id,k,l)\n",
    "            y   = x_dict[yid]            \n",
    "            if abs(y)>1e-10:\n",
    "                #print('%s. Value=%s. Power=%g. Digit=%g' % (yid, y, pwr, digit))\n",
    "                pass\n",
    "            kfit += y*a0*radix**pwr*digit\n",
    "    kfit_dict[group_id] = kfit"
   ]
  },
  {
   "cell_type": "code",
   "execution_count": null,
   "metadata": {
    "collapsed": false,
    "deletable": true,
    "editable": true
   },
   "outputs": [],
   "source": [
    "kfit_changed = [(k,v, abs(v-a0)/a0) for k,v in iteritems(kfit_dict) if abs(v-a0)/a0>1e-6]\n",
    "print('Changed keffs: %d/%d' % (len(kfit_changed), len(var_cons_dict)))\n",
    "#kfit_changed"
   ]
  },
  {
   "cell_type": "markdown",
   "metadata": {
    "deletable": true,
    "editable": true
   },
   "source": [
    "### Plug back in to be sure"
   ]
  },
  {
   "cell_type": "code",
   "execution_count": null,
   "metadata": {
    "collapsed": false,
    "deletable": true,
    "editable": true
   },
   "outputs": [],
   "source": [
    "#----------------------------------------\n",
    "# Starting from basal model\n",
    "csrcs = df_conds.cond.unique()\n",
    "for csrc in csrcs:\n",
    "    ijofit  = load_json_model('/home/laurence/ME/data/dynamicME/nominal_ijomc.json')\n",
    "    crowding = ijofit.metabolites.crowding\n",
    "    \n",
    "    df_condi = df_conds[ df_conds.cond==csrc]    \n",
    "    for i,row in df_condi.iterrows():\n",
    "        rid = row['rxn']\n",
    "        rxn = ijofit.reactions.get_by_id(rid)\n",
    "        rxn.lower_bound = row['lb']\n",
    "        rxn.upper_bound = row['ub']\n",
    "\n",
    "    for rid,kfit in iteritems(kfit_dict):\n",
    "        rxn = ijofit.reactions.get_by_id(rid)\n",
    "        rxn.add_metabolites({crowding:kfit})\n",
    "    \n",
    "    ijofit.optimize()\n",
    "    \n",
    "    mu_measi = df_meas[ df_meas.substrate==csrc].growth_rate_1_h.iloc[0]\n",
    "    mu_fiti = ijofit.reactions.get_by_id(mu_id).x\n",
    "    \n",
    "    # Get unfit\n",
    "    for rxn in ijofit.metabolites.crowding.reactions:\n",
    "        rxn._metabolites[crowding] = a0\n",
    "    ijofit.optimize()\n",
    "    mu_unfiti = ijofit.reactions.get_by_id(mu_id).x\n",
    "    err0= 100*(mu_unfiti-mu_measi)/mu_measi\n",
    "    err = 100*(mu_fiti - mu_measi)/mu_measi\n",
    "    derr= 100*(abs(err)-abs(err0))/abs(err0)\n",
    "    print('Cond=%s. mu_meas=%g. mu_sim=%g (Error=%.3g%%) (unfit=%g, error=%.3g%%). (%.3g%% change)' % (csrc, mu_measi, mu_fiti, err, mu_unfiti, err0, derr))\n",
    "    for i,row in df_condi.iterrows():\n",
    "        rid = row['rxn']\n",
    "        rxn = ijofit.reactions.get_by_id(rid)        \n",
    "        print('\\t%s uptake=%g' % (rxn.id, rxn.x))"
   ]
  },
  {
   "cell_type": "markdown",
   "metadata": {
    "deletable": true,
    "editable": true
   },
   "source": [
    "Cond=glucose. mu_meas=0.74. mu_sim=0.619085 (Error=-16.3%) (unfit=0.982372, error=32.8%). (-50.1% change)"
   ]
  }
 ],
 "metadata": {
  "kernelspec": {
   "display_name": "Python 2",
   "language": "python",
   "name": "python2"
  },
  "language_info": {
   "codemirror_mode": {
    "name": "ipython",
    "version": 2
   },
   "file_extension": ".py",
   "mimetype": "text/x-python",
   "name": "python",
   "nbconvert_exporter": "python",
   "pygments_lexer": "ipython2",
   "version": "2.7.14"
  }
 },
 "nbformat": 4,
 "nbformat_minor": 2
}
