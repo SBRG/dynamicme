{
 "cells": [
  {
   "cell_type": "markdown",
   "metadata": {
    "deletable": true,
    "editable": true
   },
   "source": [
    "# GEM Radix-based"
   ]
  },
  {
   "cell_type": "code",
   "execution_count": 1,
   "metadata": {
    "collapsed": true,
    "deletable": true,
    "editable": true
   },
   "outputs": [],
   "source": [
    "SCALE_CROWDING=False\n",
    "PREVENT_ZERO = True"
   ]
  },
  {
   "cell_type": "code",
   "execution_count": 2,
   "metadata": {
    "collapsed": false,
    "deletable": true,
    "editable": true
   },
   "outputs": [],
   "source": [
    "%load_ext line_profiler"
   ]
  },
  {
   "cell_type": "code",
   "execution_count": 3,
   "metadata": {
    "collapsed": false,
    "deletable": true,
    "editable": true
   },
   "outputs": [
    {
     "name": "stdout",
     "output_type": "stream",
     "text": [
      "(<type 'exceptions.ImportError'>, ImportError('No module named cplex',), <traceback object at 0x7fe635cefef0>)\n"
     ]
    }
   ],
   "source": [
    "from gurobipy import *\n",
    "\n",
    "import seaborn as sns\n",
    "import pandas as pd\n",
    "import matplotlib.pyplot as plt\n",
    "import numpy as np\n",
    "\n",
    "plt.rcParams['svg.fonttype'] = 'none'\n",
    "pd.set_option('display.max_colwidth', -1)\n",
    "%matplotlib inline\n",
    "\n",
    "from dynamicme.decomposition import Decomposer\n",
    "from dynamicme.callback_gurobi import cb_benders\n",
    "from dynamicme.optimize import Optimizer, StackOptimizer\n",
    "from dynamicme.optimize import Constraint, Variable\n",
    "\n",
    "from cobra.io import load_json_model\n",
    "from cobra import Metabolite, Reaction\n",
    "from six import iteritems\n",
    "\n",
    "import numpy as np\n",
    "import cobra"
   ]
  },
  {
   "cell_type": "markdown",
   "metadata": {
    "deletable": true,
    "editable": true
   },
   "source": [
    "### Try optimizing using radix for one condition first"
   ]
  },
  {
   "cell_type": "code",
   "execution_count": 4,
   "metadata": {
    "collapsed": true,
    "deletable": true,
    "editable": true
   },
   "outputs": [],
   "source": [
    "from cobra.io import load_json_model\n",
    "\n",
    "mdl_ref  = load_json_model('/home/laurence/ME/data/dynamicME/nominal_ijomc.json')\n",
    "ijomc  = load_json_model('/home/laurence/ME/data/dynamicME/nominal_ijomc.json')"
   ]
  },
  {
   "cell_type": "code",
   "execution_count": 5,
   "metadata": {
    "collapsed": true,
    "deletable": true,
    "editable": true
   },
   "outputs": [],
   "source": [
    "mu_id = 'BIOMASS_Ec_iJO1366_core_53p95M'"
   ]
  },
  {
   "cell_type": "code",
   "execution_count": 6,
   "metadata": {
    "collapsed": false,
    "deletable": true,
    "editable": true
   },
   "outputs": [
    {
     "name": "stdout",
     "output_type": "stream",
     "text": [
      "0.972916210772\n"
     ]
    }
   ],
   "source": [
    "ijomc.optimize()\n",
    "mu_crowd0 = ijomc.reactions.get_by_id(mu_id).x\n",
    "print(mu_crowd0)"
   ]
  },
  {
   "cell_type": "code",
   "execution_count": 7,
   "metadata": {
    "collapsed": false,
    "deletable": true,
    "editable": true
   },
   "outputs": [],
   "source": [
    "df_meas = pd.read_csv('/home/laurence/ME/data/dynamicME/beg/growth_meas.csv')\n",
    "\n",
    "ex_rxns = [r for r in df_meas.ex_rxn.unique() if mdl_ref.reactions.has_id(r)]\n",
    "df_meas = df_meas[ df_meas.ex_rxn.isin(ex_rxns)]\n",
    "conds = df_meas.substrate.unique()\n",
    "\n",
    "#N_CONDS = len(conds)\n",
    "N_CONDS = len(conds)\n",
    "\n",
    "df_conds = pd.DataFrame([{'cond':r['substrate'], 'rxn':ex_rxn, 'lb':-10 if r['ex_rxn']==ex_rxn else 0, 'ub':1000., 'obj':0.} for i,r in df_meas.iterrows() for ex_rxn in ex_rxns])\n",
    "df_conds = df_conds[ df_conds.cond.isin(conds[0:N_CONDS])]\n",
    "#df_conds = df_conds[ df_conds.cond.isin(['glucose','acetate','succinate'])]"
   ]
  },
  {
   "cell_type": "code",
   "execution_count": 8,
   "metadata": {
    "collapsed": false,
    "deletable": true,
    "editable": true
   },
   "outputs": [
    {
     "data": {
      "text/plain": [
       "10"
      ]
     },
     "execution_count": 8,
     "metadata": {},
     "output_type": "execute_result"
    }
   ],
   "source": [
    "N_CONDS"
   ]
  },
  {
   "cell_type": "markdown",
   "metadata": {
    "deletable": true,
    "editable": true
   },
   "source": [
    "## Need to allow higher growth for acetate with higher uptake rate"
   ]
  },
  {
   "cell_type": "code",
   "execution_count": 9,
   "metadata": {
    "collapsed": false,
    "deletable": true,
    "editable": true
   },
   "outputs": [],
   "source": [
    "df_conds.loc[ df_conds.cond=='acetate', 'lb'] = -20"
   ]
  },
  {
   "cell_type": "code",
   "execution_count": 10,
   "metadata": {
    "collapsed": false,
    "deletable": true,
    "editable": true
   },
   "outputs": [],
   "source": [
    "stacker = StackOptimizer()\n",
    "stacker.stack_models(ijomc, df_conds)"
   ]
  },
  {
   "cell_type": "code",
   "execution_count": 11,
   "metadata": {
    "collapsed": false,
    "deletable": true,
    "editable": true
   },
   "outputs": [
    {
     "data": {
      "text/plain": [
       "<Solution 10.56 at 0x7fe5d0274bd0>"
      ]
     },
     "execution_count": 11,
     "metadata": {},
     "output_type": "execute_result"
    }
   ],
   "source": [
    "stacker.model.optimize(solver='gurobi')"
   ]
  },
  {
   "cell_type": "code",
   "execution_count": 12,
   "metadata": {
    "collapsed": false,
    "deletable": true,
    "editable": true
   },
   "outputs": [
    {
     "name": "stdout",
     "output_type": "stream",
     "text": [
      "galactose. mu=0.959832.\n",
      "lactate. mu=0.39908.\n",
      "malate. mu=0.449416.\n",
      "acetate. mu=3.09662.\n",
      "mannose. mu=0.965478.\n",
      "glycerol. mu=0.56279.\n",
      "maltose. mu=1.69375.\n",
      "fructose. mu=0.969308.\n",
      "succinate. mu=0.492484.\n",
      "glucose. mu=0.972916.\n"
     ]
    }
   ],
   "source": [
    "# stacker.model_dict['glucose'].optimize()\n",
    "# print stacker.model_dict['glucose'].reactions.query('BIOMASS')[0].x\n",
    "# print stacker.model_dict['glucose'].reactions.query('EX_glc')[0].x\n",
    "# print stacker.model_dict['glucose'].reactions.query('EX_fru')[0].x\n",
    "\n",
    "# stacker.model_dict['acetate'].optimize()\n",
    "# print stacker.model_dict['acetate'].reactions.query('BIOMASS')[0].x\n",
    "# print stacker.model_dict['acetate'].reactions.query('EX_glc')[0].x\n",
    "# print stacker.model_dict['acetate'].reactions.query('EX_ac')[0].x\n",
    "for mdl_ind,mdl in iteritems(stacker.model_dict):\n",
    "    mdl.optimize()\n",
    "    print('%s. mu=%g.' % (mdl_ind, mdl.solution.f))"
   ]
  },
  {
   "cell_type": "code",
   "execution_count": 13,
   "metadata": {
    "collapsed": false,
    "deletable": true,
    "editable": true
   },
   "outputs": [],
   "source": [
    "for mdl_ind,mdl in iteritems(stacker.model_dict):\n",
    "    opt = Optimizer(mdl)\n",
    "    gapi = opt.add_duality_gap_constraint(INF=1e3, inplace=True, index=mdl_ind)"
   ]
  },
  {
   "cell_type": "code",
   "execution_count": 14,
   "metadata": {
    "collapsed": false,
    "deletable": true,
    "editable": true
   },
   "outputs": [
    {
     "data": {
      "text/plain": [
       "<Solution 21.12 at 0x7fe5d079fcd0>"
      ]
     },
     "execution_count": 14,
     "metadata": {},
     "output_type": "execute_result"
    }
   ],
   "source": [
    "stacker.model.optimize(solver='gurobi')"
   ]
  },
  {
   "cell_type": "code",
   "execution_count": 15,
   "metadata": {
    "collapsed": false,
    "deletable": true,
    "editable": true
   },
   "outputs": [
    {
     "name": "stdout",
     "output_type": "stream",
     "text": [
      "('Radix:', 2.0)\n",
      "('Powers:', array([-3, -2, -1,  0,  1,  2,  3]))\n",
      "('Digits:', [1.0])\n"
     ]
    },
    {
     "name": "stderr",
     "output_type": "stream",
     "text": [
      "/usr/lib/python2.7/site-packages/ipykernel/__main__.py:9 \u001b[1;31mDeprecationWarning\u001b[0m: object of type <type 'float'> cannot be safely interpreted as an integer.\n"
     ]
    }
   ],
   "source": [
    "import numpy as np\n",
    "\n",
    "radix = 2.\n",
    "print('Radix:',radix)\n",
    "powers = np.arange(-3,4)\n",
    "print('Powers:', powers)\n",
    "digits_per_power = radix\n",
    "pwr_max = max(powers)\n",
    "digits = list(set(np.linspace(1, radix-1, digits_per_power)))\n",
    "print('Digits:', digits)\n",
    "\n",
    "# Discretize crowding coefficients into radix\n",
    "#crowding_p = gap.metabolites.crowding\n",
    "#crowding_cons = stacker.model.metabolites.query('crowding')\n",
    "\n",
    "var_cons_dict = {}\n",
    "# Get the group ID from reference model\n",
    "mdl_ref = ijomc\n",
    "crowding_ref = mdl_ref.metabolites.crowding\n",
    "for rxn_ref in crowding_ref.reactions:    \n",
    "    for mdl_ind, mdl in iteritems(stacker.model_dict):\n",
    "        crowding_p = mdl.metabolites.get_by_id('crowding_%s'%mdl_ind)\n",
    "        var_d = mdl.reactions.get_by_id('wa_%s'%crowding_p.id)\n",
    "        rxn_p = mdl.reactions.get_by_id(rxn_ref.id+'_%s'%mdl_ind)\n",
    "        # Get the coefficient in the dual\n",
    "        cons_ds = [m for m in var_d.metabolites.keys() if rxn_p.id==m.id]        \n",
    "        a0 = rxn_p.metabolites[crowding_p]\n",
    "        if var_cons_dict.has_key(rxn_ref.id):\n",
    "            var_cons_dict[rxn_ref.id] += [(rxn_p, crowding_p, a0)] + [(var_d, cons_d, a0) for cons_d in cons_ds]\n",
    "        else:\n",
    "            var_cons_dict[rxn_ref.id] = [(rxn_p, crowding_p, a0)] + [(var_d, cons_d, a0) for cons_d in cons_ds]"
   ]
  },
  {
   "cell_type": "code",
   "execution_count": 16,
   "metadata": {
    "collapsed": false,
    "deletable": true,
    "editable": true
   },
   "outputs": [],
   "source": [
    "# %lprun -f opt.to_radix opt.to_radix(gap, var_cons_dict, radix, powers, digits_per_power, prevent_zero=True)"
   ]
  },
  {
   "cell_type": "code",
   "execution_count": 17,
   "metadata": {
    "collapsed": false,
    "deletable": true,
    "editable": true
   },
   "outputs": [
    {
     "name": "stdout",
     "output_type": "stream",
     "text": [
      "CPU times: user 1h 4min 57s, sys: 4.93 s, total: 1h 5min 2s\n",
      "Wall time: 1h 5min 10s\n"
     ]
    },
    {
     "data": {
      "text/plain": [
       "[1.0]"
      ]
     },
     "execution_count": 17,
     "metadata": {},
     "output_type": "execute_result"
    }
   ],
   "source": [
    "%time opt.to_radix(stacker.model, var_cons_dict, radix, powers, digits=digits, prevent_zero=PREVENT_ZERO)"
   ]
  },
  {
   "cell_type": "code",
   "execution_count": 35,
   "metadata": {
    "collapsed": false,
    "deletable": true,
    "editable": true
   },
   "outputs": [],
   "source": [
    "# ### Save the radix model since it takes so long to build\n",
    "# import cPickle\n",
    "\n",
    "# with open('/home/laurence/ME/data/dynamicME/stacker_ijo_10.pickle','wb') as f:\n",
    "#     cPickle.dump(stacker, f)"
   ]
  },
  {
   "cell_type": "code",
   "execution_count": 18,
   "metadata": {
    "collapsed": true,
    "deletable": true,
    "editable": true
   },
   "outputs": [],
   "source": [
    "### Try scaling\n",
    "if SCALE_CROWDING:\n",
    "    for mdl_ind,mdl in iteritems(stacker.model_dict):\n",
    "        crowding = stacker.model.metabolites.get_by_id('crowding'+'_%s'%mdl_ind)\n",
    "        bound0  = crowding._bound\n",
    "        f_scale = crowding._bound\n",
    "        crowding._bound = bound0 / f_scale\n",
    "        for rxn in crowding.reactions:\n",
    "            rxn._metabolites[crowding] = rxn._metabolites[crowding]/f_scale"
   ]
  },
  {
   "cell_type": "code",
   "execution_count": 19,
   "metadata": {
    "collapsed": false,
    "deletable": true,
    "editable": true
   },
   "outputs": [],
   "source": [
    "for rxn in stacker.model.reactions:\n",
    "    rxn.objective_coefficient = 0.\n",
    "\n",
    "for group_id in var_cons_dict.keys():\n",
    "    for l,pwr in enumerate(powers):\n",
    "        for k,digit in enumerate(digits):\n",
    "            yid = 'binary_%s%s%s'%(group_id,k,l)\n",
    "            y   = stacker.model.reactions.get_by_id(yid)\n",
    "            ### PREFER pwr=0, digit=1\n",
    "            if pwr==0 and digit==1:\n",
    "                #print('Preferring a0')\n",
    "                y.objective_coefficient = 0.\n",
    "            else:\n",
    "                y.objective_coefficient = 1."
   ]
  },
  {
   "cell_type": "code",
   "execution_count": null,
   "metadata": {
    "collapsed": false,
    "deletable": true,
    "editable": true
   },
   "outputs": [
    {
     "data": {
      "text/plain": [
       "array([0.2 , 0.16, 0.12, 0.08, 0.04])"
      ]
     },
     "execution_count": 20,
     "metadata": {},
     "output_type": "execute_result"
    }
   ],
   "source": [
    "from cobra.solvers import gurobi_solver\n",
    "from gurobipy import *\n",
    "import numpy as np\n",
    "\n",
    "F_TOL_FINAL = 0.04\n",
    "F_TOL_START = 0.2\n",
    "N_FS =5\n",
    "F_TOLS = np.linspace(F_TOL_START, F_TOL_FINAL, N_FS)\n",
    "F_TOLS"
   ]
  },
  {
   "cell_type": "markdown",
   "metadata": {
    "deletable": true,
    "editable": true
   },
   "source": [
    "### TOOD: bisection on F_TOL instead of linear"
   ]
  },
  {
   "cell_type": "code",
   "execution_count": null,
   "metadata": {
    "collapsed": false,
    "deletable": true,
    "editable": true,
    "scrolled": true
   },
   "outputs": [
    {
     "name": "stdout",
     "output_type": "stream",
     "text": [
      "Condition=galactose. Initial mu_crowd=nan. Fitting within 20% of measured: 0.416 <= mu <= 0.624\n",
      "Condition=lactate. Initial mu_crowd=nan. Fitting within 20% of measured: 0.312 <= mu <= 0.468\n",
      "Condition=malate. Initial mu_crowd=nan. Fitting within 20% of measured: 0.352 <= mu <= 0.528\n",
      "Condition=acetate. Initial mu_crowd=nan. Fitting within 20% of measured: 0.2048 <= mu <= 0.3072\n",
      "Condition=mannose. Initial mu_crowd=nan. Fitting within 20% of measured: 0.448 <= mu <= 0.672\n",
      "Condition=glycerol. Initial mu_crowd=nan. Fitting within 20% of measured: 0.336 <= mu <= 0.504\n",
      "Condition=maltose. Initial mu_crowd=nan. Fitting within 20% of measured: 0.496 <= mu <= 0.744\n",
      "Condition=fructose. Initial mu_crowd=nan. Fitting within 20% of measured: 0.44 <= mu <= 0.66\n",
      "Condition=succinate. Initial mu_crowd=nan. Fitting within 20% of measured: 0.368 <= mu <= 0.552\n",
      "Condition=glucose. Initial mu_crowd=nan. Fitting within 20% of measured: 0.592 <= mu <= 0.888\n",
      "Changed value of parameter OutputFlag to 1\n",
      "   Prev: 0  Min: 0  Max: 1  Default: 1\n",
      "Changed value of parameter NodefileStart to 3.0\n",
      "   Prev: 1e+100  Min: 0.0  Max: 1e+100  Default: 1e+100\n",
      "Changed value of parameter TimeLimit to 14400.0\n",
      "   Prev: 1e+100  Min: 0.0  Max: 1e+100  Default: 1e+100\n",
      "Changed value of parameter Method to 2\n",
      "   Prev: 0  Min: -1  Max: 5  Default: -1\n",
      "Changed value of parameter NodeMethod to 2\n",
      "   Prev: -1  Min: -1  Max: 2  Default: -1\n",
      "Changed value of parameter BarHomogeneous to 1\n",
      "   Prev: -1  Min: -1  Max: 1  Default: -1\n",
      "Changed value of parameter NumericFocus to 1\n",
      "   Prev: 0  Min: 0  Max: 3  Default: 0\n",
      "Changed value of parameter ScaleFlag to 0\n",
      "   Prev: -1  Min: -1  Max: 3  Default: -1\n",
      "Changed value of parameter Presolve to 0\n",
      "   Prev: -1  Min: -1  Max: 2  Default: -1\n",
      "Optimize a model with 1207614 rows, 421346 columns and 3204331 nonzeros\n",
      "Variable types: 407220 continuous, 14126 integer (0 binary)\n",
      "Coefficient statistics:\n",
      "  Matrix range     [2e-12, 1e+03]\n",
      "  Objective range  [1e+00, 1e+00]\n",
      "  Bounds range     [1e-02, 1e+03]\n",
      "  RHS range        [5e-03, 1e+03]\n",
      "Warning: Model contains large matrix coefficient range\n",
      "Variable types: 406030 continuous, 15316 integer (14126 binary)\n",
      "Root barrier log...\n",
      "\n",
      "Elapsed ordering time = 6s\n",
      "Elapsed ordering time = 10s\n",
      "Elapsed ordering time = 19s\n",
      "Elapsed ordering time = 21s\n",
      "Elapsed ordering time = 25s\n",
      "Elapsed ordering time = 33s\n",
      "Elapsed ordering time = 35s\n",
      "Elapsed ordering time = 40s\n",
      "Ordering time: 43.24s\n",
      "\n",
      "Barrier statistics:\n",
      " Dense cols : 30\n",
      " AA' NZ     : 3.400e+07\n",
      " Factor NZ  : 2.312e+08 (roughly 2.5 GBytes of memory)\n",
      " Factor Ops : 8.087e+11 (roughly 7 seconds per iteration)\n",
      " Threads    : 4\n",
      "\n",
      "                  Objective                Residual\n",
      "Iter       Primal          Dual         Primal    Dual     Compl     Time\n",
      "   0   3.70613469e+07 -4.00477130e+07  1.16e+10 0.00e+00  3.55e+02    63s\n",
      "   1   1.50911371e+07 -5.04650053e+07  4.72e+09 5.09e-02  1.56e+02    70s\n",
      "   2   8.65137411e+06 -4.86686926e+07  2.71e+09 2.31e-02  8.85e+01    77s\n",
      "   3   4.87384089e+06 -2.88728955e+07  1.52e+09 1.06e-05  3.49e+01    84s\n",
      "   4   7.87422110e+05 -4.29609132e+06  2.44e+08 5.78e-12  2.97e+00    92s\n",
      "   5   2.02553287e+05 -6.90676997e+05  6.13e+07 1.12e-12  4.54e-01   100s\n",
      "   6   8.05965568e+04 -2.12716218e+05  2.32e+07 3.62e-13  1.45e-01   108s\n",
      "   7   3.09065716e+04 -7.21693950e+04  7.69e+06 1.27e-13  5.01e-02   117s\n",
      "   8   1.56678506e+04 -1.70145009e+04  3.32e+06 3.36e-14  1.53e-02   126s\n",
      "   9   9.95653247e+03 -5.46413125e+03  2.03e+06 1.48e-14  6.79e-03   134s\n",
      "  10   6.55631449e+03 -3.71440599e+03  1.28e+06 1.01e-14  4.51e-03   143s\n",
      "  11   2.69512550e+03 -1.35161253e+03  5.07e+05 9.46e-14  1.73e-03   153s\n",
      "  12   1.48709078e+03 -6.47612304e+02  2.72e+05 9.85e-14  9.02e-04   161s\n",
      "  13   9.02419360e+02 -4.03116475e+02  1.64e+05 1.36e-13  5.49e-04   169s\n",
      "  14   4.38178184e+02 -2.35486828e+02  7.96e+04 9.18e-14  2.84e-04   178s\n",
      "  15   2.86794753e+02 -1.36094459e+02  5.23e+04 1.58e-13  1.74e-04   185s\n",
      "  16   1.69090231e+02 -1.00458076e+02  3.11e+04 9.82e-14  1.11e-04   194s\n",
      "  17   8.21301169e+01 -6.33276243e+01  1.53e+04 4.69e-13  6.01e-05   202s\n",
      "  18   6.45687063e+01 -4.17537612e+01  1.21e+04 2.70e-12  4.23e-05   209s\n",
      "  19   6.45637733e+01 -4.17526159e+01  1.21e+04 2.02e-12  4.23e-05   217s\n",
      "  20   6.45614398e+01 -4.17524692e+01  1.21e+04 3.89e-12  4.23e-05   225s\n",
      "  21   6.45611717e+01 -4.17477267e+01  1.21e+04 2.02e-11  4.22e-05   232s\n",
      "  22   6.45484243e+01 -4.17430749e+01  1.21e+04 2.47e-11  4.22e-05   240s\n",
      "  23   6.43594452e+01 -4.11326592e+01  1.20e+04 2.70e-11  4.18e-05   247s\n",
      "  24   6.43590730e+01 -4.11000150e+01  1.20e+04 2.69e-11  4.17e-05   255s\n",
      "  25   6.43589060e+01 -4.10995533e+01  1.20e+04 3.38e-11  4.17e-05   263s\n",
      "  26   6.42600978e+01 -4.10397304e+01  1.20e+04 4.69e-11  4.16e-05   271s\n",
      "  27   6.42703018e+01 -4.10397477e+01  1.20e+04 5.82e-11  4.16e-05   278s\n",
      "  28   2.40652768e+01 -1.73808116e+01  4.56e+03 3.32e-11  1.58e-05   288s\n",
      "  29   1.28681478e+01 -1.06257337e+01  2.46e+03 2.43e-11  8.89e-06   296s\n",
      "  30   1.28673701e+01 -1.06256160e+01  2.46e+03 3.12e-11  8.89e-06   304s\n",
      "  31   1.28673540e+01 -1.06255784e+01  2.46e+03 3.28e-11  8.89e-06   312s\n",
      "  32   6.06485572e+00 -5.81220429e+00  1.16e+03 2.78e-11  4.45e-06   320s\n",
      "  33   6.06195142e+00 -5.79201530e+00  1.16e+03 3.43e-11  4.44e-06   328s\n",
      "  34   6.06195900e+00 -5.79201226e+00  1.16e+03 3.75e-11  4.44e-06   336s\n",
      "  35   3.39600461e+00 -4.51993200e+00  6.48e+02 3.99e-11  3.03e-06   346s\n",
      "  36   3.39419251e+00 -4.50771779e+00  6.48e+02 3.81e-11  3.02e-06   354s\n",
      "  37   3.39415439e+00 -4.50758356e+00  6.48e+02 3.54e-11  3.02e-06   362s\n",
      "  38   3.39381536e+00 -4.50741211e+00  6.47e+02 3.98e-11  3.02e-06   370s\n",
      "  39   3.40168228e+00 -4.50766942e+00  6.49e+02 4.25e-11  3.03e-06   377s\n",
      "  40   3.40245560e+00 -4.50776189e+00  6.49e+02 5.18e-11  3.03e-06   385s\n",
      "  41   3.40244909e+00 -4.50733537e+00  6.49e+02 5.58e-11  3.03e-06   393s\n",
      "  42   3.10775020e+00 -4.04051315e+00  5.92e+02 6.58e-11  2.71e-06   400s\n",
      "  43   3.10839505e+00 -4.04087681e+00  5.92e+02 7.83e-11  2.71e-06   408s\n",
      "  44   3.10842574e+00 -4.04088134e+00  5.92e+02 8.22e-11  2.71e-06   416s\n",
      "  45   3.10841448e+00 -4.04087350e+00  5.92e+02 7.82e-11  2.71e-06   424s\n",
      "  46   3.10822892e+00 -4.04072019e+00  5.92e+02 8.48e-11  2.71e-06   431s\n",
      "  47   2.14920738e+00 -2.74009585e+00  4.07e+02 3.07e-08  1.80e-06   440s\n",
      "  48   2.14739996e+00 -2.73712433e+00  4.06e+02 3.06e-08  1.80e-06   448s\n",
      "  49   1.08091973e+00 -1.71494300e+00  2.03e+02 1.00e-07  9.94e-07   457s\n",
      "  50   1.08090633e+00 -1.71502767e+00  2.03e+02 2.29e-11  9.90e-07   465s\n",
      "  51   1.02094931e+00 -1.59207698e+00  1.92e+02 6.22e-09  9.14e-07   472s\n",
      "  52   1.02099293e+00 -1.59209412e+00  1.92e+02 6.21e-09  9.14e-07   480s\n",
      "  53   1.02100199e+00 -1.59209468e+00  1.92e+02 6.21e-09  9.14e-07   488s\n",
      "  54   1.02097750e+00 -1.59208715e+00  1.92e+02 6.21e-09  9.14e-07   496s\n",
      "  55   1.01957658e+00 -1.59194351e+00  1.92e+02 6.17e-09  9.13e-07   503s\n",
      "  56   9.50743164e-01 -1.56260626e+00  1.79e+02 1.63e-10  8.80e-07   511s\n",
      "  57   9.49465529e-01 -1.56252477e+00  1.79e+02 1.64e-10  8.78e-07   518s\n",
      "  58   9.30892204e-01 -1.50680759e+00  1.76e+02 1.21e-10  8.47e-07   526s\n",
      "  59   9.30854247e-01 -1.50680489e+00  1.76e+02 1.21e-10  8.46e-07   533s\n",
      "  60   9.30888511e-01 -1.50680988e+00  1.76e+02 1.21e-10  8.46e-07   541s\n",
      "  61   8.92437614e-01 -1.48140124e+00  1.69e+02 4.02e-10  8.23e-07   548s\n",
      "  62   8.49552674e-01 -1.41794871e+00  1.61e+02 3.91e-11  7.81e-07   556s\n",
      "  63   8.49506184e-01 -1.41785166e+00  1.61e+02 5.23e-11  7.80e-07   564s\n",
      "  64   7.90350891e-01 -1.40629970e+00  1.50e+02 4.99e-11  7.58e-07   572s\n",
      "  65   7.90357934e-01 -1.40630351e+00  1.50e+02 4.04e-11  7.57e-07   579s\n",
      "  66   7.90346902e-01 -1.40629770e+00  1.50e+02 3.85e-11  7.57e-07   587s\n",
      "  67   4.73990544e-01 -6.93935119e-01  8.65e+01 8.75e-08  3.49e-07   596s\n",
      "  68   4.62451275e-01 -6.90449130e-01  8.45e+01 8.72e-08  3.44e-07   603s\n",
      "  69   4.60604229e-01 -6.90401544e-01  8.42e+01 8.72e-08  3.43e-07   611s\n",
      "  70   4.54427455e-01 -6.88051067e-01  8.32e+01 8.69e-08  3.40e-07   619s\n",
      "  71   4.54427455e-01 -6.88052918e-01  8.32e+01 8.69e-08  3.40e-07   626s\n",
      "  72   4.54386378e-01 -6.88037344e-01  8.32e+01 8.69e-08  3.40e-07   634s\n",
      "  73   4.54386146e-01 -6.88029920e-01  8.32e+01 8.69e-08  3.40e-07   642s\n",
      "  74   4.40206432e-01 -6.58936592e-01  8.08e+01 2.78e-07  3.24e-07   650s\n",
      "  75   2.12700597e-01 -2.83556794e-01  4.17e+01 1.39e-05  1.13e-07   658s\n",
      "  76   2.12700597e-01 -2.83556794e-01  4.17e+01 1.39e-05  1.13e-07   666s\n",
      "  77   2.12700597e-01 -2.83556794e-01  4.17e+01 1.39e-05  1.13e-07   674s\n",
      "  78   2.12700597e-01 -2.83734871e-01  4.17e+01 1.39e-05  1.13e-07   682s\n",
      "  79   2.12700597e-01 -2.83734871e-01  4.17e+01 1.39e-05  1.13e-07   691s\n",
      "  80   2.12700597e-01 -2.83734871e-01  4.17e+01 1.39e-05  1.13e-07   699s\n",
      "  81   2.12700597e-01 -2.83734871e-01  4.17e+01 1.39e-05  1.13e-07   707s\n",
      "  82   2.12700597e-01 -2.83734871e-01  4.17e+01 1.39e-05  1.13e-07   715s\n",
      "  83   1.59314108e-01 -1.31928706e-01  3.18e+01 2.35e-05  6.34e-08   724s\n",
      "  84   1.59314108e-01 -1.33017380e-01  3.18e+01 2.35e-05  6.36e-08   732s\n",
      "  85   1.59313509e-01 -1.33016848e-01  3.18e+01 2.35e-05  6.36e-08   740s\n",
      "  86   1.57337148e-01 -1.32243754e-01  3.14e+01 2.33e-05  6.29e-08   748s\n",
      "  87   1.52549520e-01 -1.32266658e-01  3.05e+01 2.33e-05  6.30e-08   755s\n",
      "  88   1.51520337e-01 -1.30689232e-01  3.03e+01 2.28e-05  6.23e-08   763s\n",
      "  89   1.51179333e-01 -1.30673244e-01  3.03e+01 2.28e-05  6.22e-08   771s\n",
      "  90   1.51179333e-01 -1.30673244e-01  3.03e+01 2.28e-05  6.22e-08   779s\n",
      "  91   1.51179333e-01 -1.30674887e-01  3.03e+01 2.28e-05  6.22e-08   787s\n",
      "  92   1.51179333e-01 -1.30674878e-01  3.03e+01 2.28e-05  6.22e-08   795s\n",
      "  93   1.51084224e-01 -1.30406750e-01  3.03e+01 2.28e-05  6.21e-08   803s\n",
      "\n",
      "Barrier performed 93 iterations in 803.07 seconds\n",
      "Numerical trouble encountered\n",
      "\n",
      "\n",
      "Root crossover log...\n",
      "\n",
      "   30381 DPushes remaining with DInf 5.7135717e-03               804s\n",
      "    7908 DPushes remaining with DInf 0.0000000e+00               805s\n",
      "       0 DPushes remaining with DInf 9.1540115e+04               805s\n",
      "\n",
      "  388643 PPushes remaining with PInf 3.7846962e+05               805s\n",
      "   98917 PPushes remaining with PInf 6.2064067e+04               810s\n",
      "   73985 PPushes remaining with PInf 4.5015893e+04               816s\n",
      "   33197 PPushes remaining with PInf 3.8659645e+04               823s\n",
      "   25865 PPushes remaining with PInf 3.3885999e+04               826s\n",
      "   13484 PPushes remaining with PInf 2.8139452e+04               830s\n",
      "     183 PPushes remaining with PInf 2.6069709e+04               844s\n",
      "       5 PPushes remaining with PInf 2.5838743e+04               845s\n",
      "\n",
      "Restart crossover...\n",
      "\n",
      " 1581583 variables added to crossover basis                      845s\n",
      "\n",
      "   30380 DPushes remaining with DInf 5.7135717e-03               845s\n",
      "       0 DPushes remaining with DInf 9.1540083e+04               847s\n",
      "\n",
      "  388641 PPushes remaining with PInf 7.4112489e+05               847s\n",
      "  151353 PPushes remaining with PInf 4.9134440e+05               850s\n",
      "   75640 PPushes remaining with PInf 9.8783116e+04               862s\n",
      "   49793 PPushes remaining with PInf 7.0314602e+04               866s\n",
      "   21043 PPushes remaining with PInf 5.7542209e+04               870s\n",
      "     167 PPushes remaining with PInf 5.1724806e+04               888s\n",
      "       1 PPushes remaining with PInf 5.1400793e+04               888s\n",
      "\n",
      "  Push phase complete: Pinf 5.1400793e+04, Dinf 5.6855396e+05    888s\n",
      "\n",
      "\n",
      "Root simplex log...\n",
      "\n",
      "Iteration    Objective       Primal Inf.    Dual Inf.      Time\n",
      "  411227    2.3856887e+01   0.000000e+00   5.685540e+05    889s\n",
      "  411773    2.2597272e+01   0.000000e+00   3.056243e+06    891s\n",
      "  412192    1.8947974e+01   0.000000e+00   2.664537e+11    900s\n",
      "  412379    1.9230710e+01   0.000000e+00   7.056825e+09    906s\n",
      "  412992    1.8004454e+01   0.000000e+00   2.117688e+06    917s\n",
      "  413114    1.7998311e+01   0.000000e+00   2.448473e+06    921s\n",
      "  413544    1.7985138e+01   0.000000e+00   1.638828e+05    933s\n",
      "  413688    1.7975063e+01   0.000000e+00   2.229128e+06    936s\n",
      "  414070    1.7852542e+01   0.000000e+00   2.196429e+04    947s\n",
      "  414383    1.7830277e+01   0.000000e+00   1.632635e+05    955s\n",
      "  414696    1.7778367e+01   0.000000e+00   4.378931e+05    961s\n",
      "  415009    1.7569562e+01   0.000000e+00   5.386393e+04    968s\n",
      "  415322    1.7212247e+01   0.000000e+00   3.435829e+06    973s\n",
      "  415635    1.7128057e+01   0.000000e+00   2.440995e+06    978s\n",
      "  415948    1.7044248e+01   0.000000e+00   5.716652e+05    983s\n",
      "  416261    1.6918443e+01   0.000000e+00   3.171559e+04    988s\n",
      "  416574    1.6843479e+01   0.000000e+00   9.862928e+04    993s\n",
      "  416887    1.6541109e+01   0.000000e+00   1.739183e+04    999s\n",
      "  417200    1.6285436e+01   0.000000e+00   1.033018e+04   1003s\n",
      "  417513    1.5906036e+01   0.000000e+00   1.201550e+04   1007s\n",
      "  417826    1.5893614e+01   0.000000e+00   3.351001e+03   1013s\n",
      "  418139    1.5877485e+01   0.000000e+00   4.334851e+03   1021s\n",
      "  418524    1.5825262e+01   0.000000e+00   8.374983e+06   1030s\n",
      "  418718    1.5704910e+01   0.000000e+00   2.425753e+03   1036s\n",
      "  418982    1.5564895e+01   0.000000e+00   1.244877e+03   1042s\n",
      "  419246    1.5529890e+01   0.000000e+00   4.211522e+02   1047s\n",
      "  419378    1.5517392e+01   0.000000e+00   2.566274e+02   1050s\n",
      "  419774    1.5474973e+01   0.000000e+00   2.582164e+04   1057s\n",
      "  420038    1.5359484e+01   0.000000e+00   1.652220e+04   1062s\n",
      "  420170    1.5293019e+01   0.000000e+00   2.668815e+03   1066s\n",
      "  420455    1.4761452e+01   0.000000e+00   2.558432e+04   1072s\n",
      "  420691    1.4510996e+01   0.000000e+00   1.699503e+03   1076s\n",
      "  420927    1.4404224e+01   0.000000e+00   6.782381e+04   1080s\n",
      "  421163    1.4357830e+01   0.000000e+00   1.425976e+03   1085s\n",
      "  421517    1.4306891e+01   0.000000e+00   6.120010e+03   1092s\n",
      "  421753    1.4267665e+01   0.000000e+00   1.736263e+04   1096s\n",
      "  421989    1.4222300e+01   0.000000e+00   3.354073e+03   1102s\n",
      "  422146    1.4102500e+01   0.000000e+00   3.080765e+06   1106s\n",
      "  422419    1.3941393e+01   0.000000e+00   1.634092e+01   1113s\n",
      "  422571    1.3919973e+01   0.000000e+00   4.485849e+03   1116s\n",
      "  422875    1.3745905e+01   0.000000e+00   5.120970e+03   1123s\n",
      "  422980    1.3645186e+01   0.000000e+00   2.167726e+03   1126s\n",
      "  423224    1.3478369e+01   0.000000e+00   1.905423e+03   1132s\n",
      "  423326    1.3441731e+01   0.000000e+00   3.090365e+03   1135s\n",
      "  423537    1.3361160e+01   0.000000e+00   8.158707e+04   1142s\n",
      "  423741    1.3257938e+01   0.000000e+00   1.327492e+03   1147s\n",
      "  424047    1.3242681e+01   0.000000e+00   7.888162e+01   1151s\n",
      "  424279    1.3206564e+01   0.000000e+00   2.605032e+04   1157s\n",
      "  424483    1.3182745e+01   0.000000e+00   4.808216e+03   1160s\n",
      "  424789    1.3116012e+01   0.000000e+00   4.320055e+04   1167s\n",
      "  424993    1.3073452e+01   0.000000e+00   1.591650e+05   1171s\n",
      "  425197    1.2515774e+01   0.000000e+00   1.645779e+04   1177s\n",
      "  425406    1.2167893e+01   0.000000e+00   7.048272e+01   1181s\n",
      "  425712    1.2131540e+01   0.000000e+00   3.511498e+03   1186s\n",
      "  425916    1.2118897e+01   0.000000e+00   1.929468e+02   1191s\n",
      "  426222    1.1893341e+01   0.000000e+00   3.665631e+03   1196s\n",
      "  426357    1.1764015e+01   0.000000e+00   7.575147e+02   1200s\n",
      "  426663    1.1661896e+01   0.000000e+00   3.162619e+03   1205s\n",
      "  427071    1.1658603e+01   0.000000e+00   8.433631e+00   1212s\n",
      "  427377    1.1658603e+01   0.000000e+00   8.413103e+00   1216s\n",
      "  427683    1.1009981e+01   0.000000e+00   5.474520e+02   1222s\n",
      "  427894    1.0978218e+01   0.000000e+00   3.381470e+04   1226s\n",
      "  428243    1.0879453e+01   0.000000e+00   2.017854e+02   1232s\n",
      "  428549    1.0851228e+01   0.000000e+00   1.032181e+03   1237s\n",
      "  428792    1.0832522e+01   0.000000e+00   1.105431e+00   1240s\n",
      "  429098    1.0823519e+01   0.000000e+00   3.039011e+02   1245s\n",
      "  429417    1.0710896e+01   0.000000e+00   3.470173e+02   1251s\n",
      "  429623    1.0671326e+01   0.000000e+00   5.767181e+05   1255s\n",
      "  429839    1.0601148e+01   0.000000e+00   4.174354e+02   1260s\n",
      "  430247    1.0377582e+01   0.000000e+00   1.165274e+04   1266s\n",
      "  430560    1.0249223e+01   0.000000e+00   2.250000e-02   1270s\n",
      "  430866    1.0057462e+01   0.000000e+00   1.145740e+04   1275s\n",
      "  431274    9.2772945e+00   0.000000e+00   2.475170e+02   1281s\n",
      "  431525    8.5650804e+00   0.000000e+00   7.978596e+01   1285s\n",
      "  431933    8.5492226e+00   0.000000e+00   4.527500e+00   1291s\n",
      "  432239    8.5376569e+00   0.000000e+00   7.105988e+01   1295s\n",
      "  432545    8.5093764e+00   0.000000e+00   8.814621e+02   1300s\n",
      "  432851    8.4880173e+00   0.000000e+00   1.067408e+01   1305s\n",
      "  433157    8.4280688e+00   0.000000e+00   2.388185e+01   1310s\n",
      "  433463    8.4152556e+00   0.000000e+00   9.380503e-01   1315s\n",
      "  433871    8.3128527e+00   0.000000e+00   4.518834e+04   1321s\n",
      "  434177    8.2286137e+00   0.000000e+00   2.753567e+07   1326s\n",
      "  434483    8.1804914e+00   0.000000e+00   4.528083e+06   1330s\n",
      "  434789    7.9709276e+00   0.000000e+00   4.997576e+05   1336s\n",
      "  435095    7.4692858e+00   0.000000e+00   6.661157e+05   1342s\n",
      "  435299    6.4936082e+00   0.000000e+00   1.009834e+05   1345s\n",
      "  435707    5.8874599e+00   0.000000e+00   7.996492e+04   1351s\n",
      "  436013    5.8755230e+00   0.000000e+00   8.223873e+01   1356s\n",
      "  436319    5.8660393e+00   0.000000e+00   1.281291e+00   1361s\n",
      "  436625    5.8629077e+00   0.000000e+00   4.737737e+00   1365s\n",
      "  436931    5.8441916e+00   0.000000e+00   1.111601e+03   1370s\n",
      "  437237    5.4110963e+00   0.000000e+00   4.786387e+02   1376s\n",
      "  437579    5.3104186e+00   0.000000e+00   4.317148e+02   1382s\n",
      "  437783    5.3016811e+00   0.000000e+00   2.499315e+02   1385s\n",
      "  438191    3.6149524e+00   0.000000e+00   8.304018e+04   1390s\n",
      "  438599    3.0832620e+00   0.000000e+00   1.118202e+05   1395s\n",
      "  439008    2.1698038e+00   0.000000e+00   1.421854e+03   1401s\n",
      "  439416    2.0545703e+00   0.000000e+00   4.515203e+02   1406s\n",
      "  439721    1.9845336e+00   0.000000e+00   1.630634e+03   1410s\n",
      "  440145    1.6838444e+00   0.000000e+00   7.307896e+00   1415s\n",
      "  440587    1.2214594e+00   0.000000e+00   4.240405e+02   1421s\n",
      "  440995    1.1956502e+00   0.000000e+00   1.796244e+03   1426s\n",
      "  441403    1.1659114e+00   0.000000e+00   2.317214e+03   1431s\n",
      "  441709    1.1659096e+00   0.000000e+00   2.677983e+03   1435s\n",
      "  442117    1.1659091e+00   0.000000e+00   2.673199e+03   1441s\n",
      "  442525    1.1595821e+00   0.000000e+00   1.835676e+01   1446s\n",
      "  442933    9.9397658e-01   0.000000e+00   4.530081e-01   1450s\n",
      "  443341    5.5802631e-01   0.000000e+00   6.003000e+00   1455s\n",
      "  443749    5.5802626e-01   0.000000e+00   6.005000e+00   1460s\n",
      "  444157    5.5802618e-01   0.000000e+00   5.007000e+00   1466s\n",
      "  444565    5.5802615e-01   0.000000e+00   6.007000e+00   1471s\n",
      "  444871    5.5802614e-01   0.000000e+00   5.007000e+00   1475s\n",
      "  445279    5.5801422e-01   0.000000e+00   6.001000e+00   1481s\n",
      "  445585    5.5800632e-01   0.000000e+00   6.003000e+00   1485s\n",
      "  445993    5.5800243e-01   0.000000e+00   3.013000e+00   1490s\n",
      "  446401    5.5799661e-01   0.000000e+00   5.007000e+00   1495s\n",
      "  446809    5.5799319e-01   0.000000e+00   6.001000e+00   1501s\n",
      "  447115    5.5796153e-01   0.000000e+00   4.005000e+00   1506s\n",
      "  447421    5.5793896e-01   0.000000e+00   6.001000e+00   1510s\n",
      "  447829    4.8344376e-01   0.000000e+00   1.986154e+04   1516s\n",
      "  448449   -9.9999956e-02   1.780546e+06   0.000000e+00   1520s\n",
      "  449571    4.3638632e-06   3.121306e+04   0.000000e+00   1526s\n",
      "  449877    1.0110806e-05   4.213554e+04   0.000000e+00   1530s\n",
      "  450285    4.4319202e-05   9.118313e+05   0.000000e+00   1536s\n",
      "  450591    6.2344569e-05   2.630139e+05   0.000000e+00   1541s\n",
      "  450897    8.9405538e-05   6.245749e+04   0.000000e+00   1546s\n",
      "  451305    1.2898629e-04   1.447692e+05   0.000000e+00   1551s\n",
      "  451611    2.0929241e-04   2.821231e+04   0.000000e+00   1555s\n",
      "  451917    2.3573684e-04   3.974534e+05   0.000000e+00   1560s\n",
      "  452325    3.2065531e-04   3.656462e+07   0.000000e+00   1566s\n",
      "  452631    3.8969809e-04   3.173481e+05   0.000000e+00   1571s\n",
      "  452937    4.1268766e-04   3.181798e+05   0.000000e+00   1576s\n",
      "  453243    4.3280374e-04   6.280976e+05   0.000000e+00   1581s\n",
      "  453549    4.5333704e-04   1.256622e+05   0.000000e+00   1585s\n",
      "  453957    4.7979428e-04   1.431938e+04   0.000000e+00   1591s\n",
      "  454263    4.9740873e-04   2.014655e+05   0.000000e+00   1595s\n",
      "  454671    5.3556920e-04   5.291725e+04   0.000000e+00   1601s\n",
      "  454977    5.5610219e-04   6.310579e+05   0.000000e+00   1606s\n",
      "  455283    5.7317953e-04   3.430537e+06   0.000000e+00   1611s\n",
      "  455589    5.9343130e-04   1.035657e+05   0.000000e+00   1615s\n",
      "  455997    6.3602097e-04   2.609404e+06   0.000000e+00   1621s\n",
      "  456303    6.6382539e-04   5.670298e+04   0.000000e+00   1626s\n",
      "  456609    6.8813824e-04   5.459216e+04   0.000000e+00   1630s\n",
      "  457017    7.0903895e-04   1.240065e+08   0.000000e+00   1636s\n",
      "  457323    7.7526442e-04   9.635551e+04   0.000000e+00   1640s\n",
      "  457731    8.1224962e-04   4.038142e+04   0.000000e+00   1646s\n",
      "  458037    8.3076663e-04   2.975569e+04   0.000000e+00   1650s\n",
      "  458343    8.6292395e-04   1.064422e+05   0.000000e+00   1655s\n",
      "  458751    9.0203881e-04   2.071766e+03   0.000000e+00   1660s\n",
      "  459363    9.4059385e-04   1.983722e+04   0.000000e+00   1666s\n",
      "  459771    9.5477094e-04   1.135783e+04   0.000000e+00   1670s\n",
      "  460383    1.0012315e-03   1.708332e+03   0.000000e+00   1676s\n",
      "  460995    1.0149412e-03   2.060794e+02   0.000000e+00   1681s\n",
      "  461607    1.0202017e-03   1.925264e+02   0.000000e+00   1686s\n",
      "  462321    1.0284061e-03   1.619069e+02   0.000000e+00   1690s\n",
      "  463035    1.5662332e-03   3.913004e+05   0.000000e+00   1695s\n",
      "  463443    3.9587641e-03   1.463948e+05   0.000000e+00   1701s\n",
      "  463851    4.0068989e-03   5.229600e+03   0.000000e+00   1706s\n",
      "  464259    4.8307537e-03   3.609153e+04   0.000000e+00   1710s\n",
      "  464667    4.9114924e-03   1.574906e+04   0.000000e+00   1715s\n",
      "  465177    4.9932053e-03   3.046658e+02   0.000000e+00   1721s\n",
      "  465891    5.2734240e-03   1.019800e+07   0.000000e+00   1726s\n",
      "  466503    5.4131091e-03   7.512294e+03   0.000000e+00   1731s\n",
      "  467013    6.6389638e-03   1.150291e+05   0.000000e+00   1736s\n",
      "  467421    7.0423474e-03   1.231930e+07   0.000000e+00   1740s\n",
      "  467931    7.2796937e-03   3.545413e+04   0.000000e+00   1746s\n",
      "  468441    7.4024905e-03   1.764472e+03   0.000000e+00   1750s\n",
      "  469053    7.8621719e-03   7.837256e+03   0.000000e+00   1755s\n",
      "  469461    3.0448669e-02   1.202384e+06   0.000000e+00   1761s\n",
      "  469767    5.4885799e-02   3.337734e+07   0.000000e+00   1766s\n",
      "  470073    6.2464307e-02   1.817159e+06   0.000000e+00   1771s\n",
      "  470277    6.7498029e-02   1.348458e+05   0.000000e+00   1775s\n",
      "  470685    7.1324032e-02   8.231553e+05   0.000000e+00   1780s\n",
      "  471093    7.5609934e-02   5.351787e+05   0.000000e+00   1786s\n",
      "  471501    7.9218317e-02   1.075496e+07   0.000000e+00   1791s\n",
      "  471909    8.2053587e-02   8.805220e+04   0.000000e+00   1796s\n",
      "  472317    8.8855783e-02   3.048747e+04   0.000000e+00   1800s\n",
      "  472827    8.9937147e-02   7.839638e+03   0.000000e+00   1806s\n",
      "  473133    9.0540811e-02   1.613446e+05   0.000000e+00   1810s\n",
      "  473439    9.1721321e-02   1.396421e+04   0.000000e+00   1815s\n",
      "  473949    9.3121585e-02   2.503885e+04   0.000000e+00   1821s\n",
      "  474561    9.7151249e-02   5.352624e+04   0.000000e+00   1825s\n",
      "  475173    9.7662995e-02   2.153254e+03   0.000000e+00   1831s\n",
      "  475683    1.0356143e-01   1.229561e+06   0.000000e+00   1835s\n",
      "  476193    1.0460838e-01   1.429075e+05   0.000000e+00   1840s\n",
      "  476703    1.2754223e-01   1.109037e+06   0.000000e+00   1846s\n",
      "  477009    1.3012916e-01   1.287053e+06   0.000000e+00   1851s\n",
      "  477315    1.3051048e-01   1.251142e+07   0.000000e+00   1856s\n",
      "  477825    1.3918071e-01   6.559993e+07   0.000000e+00   1861s\n",
      "  478335    1.4605819e-01   2.654886e+07   0.000000e+00   1866s\n",
      "  478743    1.6450673e-01   7.716653e+04   0.000000e+00   1871s\n",
      "  479151    1.8613081e-01   2.025558e+07   0.000000e+00   1876s\n",
      "  479661    2.4465402e-01   8.659056e+06   0.000000e+00   1881s\n",
      "  479967    2.8264465e-01   1.348038e+06   0.000000e+00   1887s\n",
      "  480273    2.9703513e-01   3.902640e+07   0.000000e+00   1890s\n",
      "  480579    3.3171431e-01   1.126053e+06   0.000000e+00   1895s\n",
      "  480987    3.3447166e-01   1.108788e+05   0.000000e+00   1901s\n",
      "  481497    3.3528513e-01   4.553708e+05   0.000000e+00   1906s\n",
      "  481905    3.3613024e-01   5.964413e+04   0.000000e+00   1910s\n",
      "  482415    3.3725305e-01   1.036848e+04   0.000000e+00   1916s\n",
      "  482823    3.6730678e-01   2.328498e+05   0.000000e+00   1920s\n",
      "  483231    3.7357665e-01   2.730562e+04   0.000000e+00   1925s\n",
      "  483639    3.7389064e-01   1.334481e+04   0.000000e+00   1930s\n",
      "  484149    3.7413636e-01   1.407897e+05   0.000000e+00   1935s\n",
      "  484659    3.7454689e-01   2.046317e+04   0.000000e+00   1940s\n",
      "  485169    3.7483495e-01   3.868566e+03   0.000000e+00   1945s\n",
      "  485781    4.0134016e-01   8.451984e+02   0.000000e+00   1950s\n",
      "  486393    4.0986477e-01   3.143670e+05   0.000000e+00   1955s\n",
      "  487107    4.4029990e-01   4.132185e+04   0.000000e+00   1961s\n",
      "  487719    4.4172769e-01   8.208988e+02   0.000000e+00   1966s\n",
      "  488331    4.4202467e-01   1.003737e+04   0.000000e+00   1971s\n",
      "  488841    4.4229950e-01   1.033460e+02   0.000000e+00   1975s\n",
      "  489555    4.6880557e-01   1.933863e+05   0.000000e+00   1980s\n",
      "  489963    4.8098212e-01   2.017031e+04   0.000000e+00   1985s\n",
      "  490473    4.8170832e-01   5.526106e+03   0.000000e+00   1990s\n",
      "  491085    4.8222778e-01   1.145201e+05   0.000000e+00   1995s\n",
      "  491595    4.8238602e-01   3.697874e+04   0.000000e+00   2000s\n",
      "  492105    4.8262044e-01   6.631748e+03   0.000000e+00   2005s\n",
      "  492717    4.8281164e-01   8.448251e+01   0.000000e+00   2011s\n",
      "  493227    4.8341006e-01   3.588820e+05   0.000000e+00   2016s\n",
      "  493533    4.8557291e-01   3.859567e+05   0.000000e+00   2020s\n",
      "  493941    4.8628160e-01   1.114615e+05   0.000000e+00   2026s\n",
      "  494247    4.8664213e-01   6.765768e+03   0.000000e+00   2030s\n",
      "  494655    4.8704046e-01   1.223579e+05   0.000000e+00   2035s\n",
      "  495063    4.8754357e-01   6.806890e+04   0.000000e+00   2040s\n",
      "  495573    4.8788087e-01   1.679742e+03   0.000000e+00   2046s\n",
      "  496083    4.8823822e-01   6.863412e+03   0.000000e+00   2051s\n",
      "  496491    4.8866019e-01   3.218615e+05   0.000000e+00   2055s\n",
      "  497103    4.8886447e-01   4.266608e+03   0.000000e+00   2061s\n",
      "  497613    4.9103123e-01   2.201851e+02   0.000000e+00   2065s\n",
      "  498225    4.9120222e-01   3.972719e+02   0.000000e+00   2070s\n",
      "  498837    4.9174218e-01   1.373867e+03   0.000000e+00   2076s\n",
      "  499347    4.9236877e-01   2.057473e+03   0.000000e+00   2081s\n",
      "  499857    4.9276271e-01   8.340470e+00   0.000000e+00   2085s\n",
      "  500571    4.9277608e-01   8.908275e+00   0.000000e+00   2090s\n",
      "  501285    4.9279527e-01   5.604301e+01   0.000000e+00   2095s\n",
      "  501999    5.0331389e-01   6.292630e+02   0.000000e+00   2101s\n",
      "  502611    5.0346206e-01   1.373689e+02   0.000000e+00   2106s\n",
      "  503223    5.0842154e-01   8.769992e+05   0.000000e+00   2110s\n",
      "  503733    6.7921427e-01   2.295755e+05   0.000000e+00   2117s\n",
      "  504039    6.8069137e-01   6.575535e+05   0.000000e+00   2121s\n",
      "  504345    7.3405160e-01   9.310891e+02   0.000000e+00   2126s\n",
      "  504753    9.2590400e-01   4.009184e+05   0.000000e+00   2131s\n",
      "  505059    1.0661042e+00   9.188664e+02   0.000000e+00   2135s\n",
      "  505467    1.2987440e+00   5.623395e+06   0.000000e+00   2141s\n",
      "  505875    1.8044025e+00   1.554153e+06   0.000000e+00   2146s\n",
      "  506283    2.0696053e+00   1.862486e+05   0.000000e+00   2151s\n",
      "  506691    2.4132214e+00   1.921096e+06   0.000000e+00   2155s\n",
      "  507201    2.6021557e+00   6.450571e+05   0.000000e+00   2161s\n",
      "  507507    2.8136940e+00   4.369310e+04   0.000000e+00   2165s\n",
      "  507915    3.0606635e+00   1.065469e+05   0.000000e+00   2170s\n",
      "  508527    3.4185461e+00   7.424722e+03   0.000000e+00   2175s\n",
      "  509037    3.4188171e+00   1.560335e+02   0.000000e+00   2180s\n",
      "  509649    3.4194523e+00   3.231849e+02   0.000000e+00   2185s\n",
      "  510159    3.5288344e+00   8.357250e+01   0.000000e+00   2190s\n",
      "  510771    3.5367683e+00   7.161503e+01   0.000000e+00   2195s\n",
      "  511383    3.8296734e+00   5.861684e+02   0.000000e+00   2201s\n",
      "  511893    3.8297276e+00   4.768052e+01   0.000000e+00   2205s\n",
      "  512505    3.8316151e+00   2.342197e+03   0.000000e+00   2211s\n",
      "  513015    3.8348537e+00   9.857323e+02   0.000000e+00   2216s\n",
      "  513525    3.8370645e+00   7.299337e+01   0.000000e+00   2220s\n",
      "  514035    4.4964583e+00   1.525459e+04   0.000000e+00   2226s\n",
      "  514443    4.4995212e+00   1.572707e+04   0.000000e+00   2230s\n",
      "  515055    4.5417964e+00   1.238139e+08   0.000000e+00   2235s\n",
      "  515463    4.5645076e+00   8.780050e+02   0.000000e+00   2240s\n",
      "  515973    4.5741822e+00   8.855490e+01   0.000000e+00   2245s\n",
      "  516483    4.5766973e+00   7.369536e+02   0.000000e+00   2251s\n",
      "  517095    4.5781383e+00   8.266197e+03   0.000000e+00   2256s\n",
      "  517809    4.5798805e+00   2.504858e+02   0.000000e+00   2260s\n",
      "  518523    4.5956664e+00   1.223811e+06   0.000000e+00   2265s\n",
      "  519135    4.6059512e+00   3.387115e+02   0.000000e+00   2270s\n",
      "  519747    4.6104515e+00   1.254799e+04   0.000000e+00   2275s\n",
      "  520155    4.6115405e+00   1.727568e-02   0.000000e+00   2280s\n",
      "  520665    4.6119654e+00   2.644795e+02   0.000000e+00   2286s\n",
      "  521073    4.6120446e+00   4.024601e-04   0.000000e+00   2290s\n",
      "Warning: 1 variables dropped from basis\n",
      "Warning: switch to quad precision\n",
      "  521395    2.9634384e-01   2.306306e+03   0.000000e+00   2295s\n",
      "  521711    2.8750004e-01   0.000000e+00   1.373977e+02   2301s\n",
      "  521915    2.5742484e-01   0.000000e+00   7.128528e+02   2307s\n",
      "  522017    2.5424247e-01   0.000000e+00   2.171557e+01   2310s\n",
      "  522221    2.4995882e-01   0.000000e+00   1.411713e+05   2316s\n",
      "  522425    2.4587130e-01   0.000000e+00   1.317361e+01   2321s\n",
      "  522629    2.4564579e-01   0.000000e+00   5.680805e+04   2326s\n",
      "  522833    2.4521206e-01   0.000000e+00   4.665934e+03   2331s\n",
      "  523037    2.4336750e-01   0.000000e+00   1.009123e+03   2336s\n",
      "  523241    2.4168035e-01   0.000000e+00   3.263571e+04   2341s\n",
      "  523445    2.3628669e-01   0.000000e+00   1.655692e+04   2345s\n",
      "  523649    2.3387035e-01   0.000000e+00   9.199157e+00   2351s\n",
      "  523853    2.3335109e-01   0.000000e+00   1.343073e+00   2358s\n",
      "  523955    2.3308983e-01   0.000000e+00   1.369673e+05   2362s\n",
      "  524057    2.3282251e-01   0.000000e+00   2.192428e+01   2365s\n",
      "  524261    2.3238730e-01   0.000000e+00   4.454530e+03   2371s\n",
      "  524465    2.3022568e-01   0.000000e+00   1.186676e+04   2377s\n",
      "  524567    2.3018500e-01   0.000000e+00   1.798954e+03   2380s\n",
      "  524771    2.2891348e-01   0.000000e+00   4.777770e+02   2386s\n",
      "  524975    2.2884455e-01   0.000000e+00   1.984089e+00   2392s\n",
      "  525179    2.2871847e-01   0.000000e+00   1.138709e+02   2397s\n",
      "  525281    2.2866943e-01   0.000000e+00   1.959037e-01   2400s\n",
      "  525485    2.2852457e-01   0.000000e+00   2.286527e+03   2406s\n",
      "  525689    2.2850051e-01   0.000000e+00   4.247951e+00   2411s\n",
      "  525893    2.2843128e-01   0.000000e+00   6.064581e+01   2417s\n",
      "  526097    2.2838985e-01   0.000000e+00   3.974968e+00   2423s\n",
      "  526199    2.2837879e-01   0.000000e+00   4.008202e+00   2425s\n",
      "  526403    2.2828273e-01   0.000000e+00   6.072241e+04   2431s\n",
      "  526607    2.2812933e-01   0.000000e+00   1.927466e+02   2436s\n",
      "  526811    2.2804276e-01   0.000000e+00   4.610324e+02   2442s\n",
      "  527015    2.2799468e-01   0.000000e+00   1.126152e+03   2448s\n",
      "  527117    2.2778574e-01   0.000000e+00   3.500669e+01   2450s\n",
      "  527321    2.2775608e-01   0.000000e+00   3.903293e+01   2456s\n",
      "  527525    2.2762861e-01   0.000000e+00   7.730601e+03   2462s\n",
      "  527729    2.2723422e-01   0.000000e+00   3.771997e-01   2468s\n",
      "  527831    2.2723344e-01   0.000000e+00   6.457986e+02   2471s\n",
      "  528035    2.2722877e-01   0.000000e+00   3.277584e+02   2476s\n",
      "  528239    2.2721578e-01   0.000000e+00   8.264644e+03   2482s\n",
      "  528341    2.2719636e-01   0.000000e+00   2.192653e+03   2485s\n",
      "  528545    2.2717591e-01   0.000000e+00   2.502868e+03   2491s\n",
      "  528749    2.2714530e-01   0.000000e+00   4.822591e-03   2497s\n",
      "  528953    2.2712848e-01   0.000000e+00   3.751304e+02   2502s\n",
      "  529157    2.2711288e-01   0.000000e+00   1.078149e+02   2508s\n",
      "  529259    2.2709360e-01   0.000000e+00   5.448988e+02   2510s\n",
      "  529463    2.2693923e-01   0.000000e+00   7.351456e+02   2516s\n",
      "  529667    2.2686718e-01   0.000000e+00   1.143457e+02   2521s\n",
      "  529871    2.2686319e-01   0.000000e+00   6.294317e+02   2527s\n",
      "  530075    2.2685902e-01   0.000000e+00   1.702713e+00   2532s\n",
      "  530177    2.2685548e-01   0.000000e+00   5.840734e+02   2535s\n",
      "  530381    2.2667781e-01   0.000000e+00   5.541340e+05   2541s\n",
      "  530585    2.2640031e-01   0.000000e+00   5.496125e-01   2547s\n",
      "  530789    2.2639503e-01   0.000000e+00   5.859409e+02   2552s\n",
      "  530891    2.2639198e-01   0.000000e+00   1.079884e+02   2555s\n",
      "  531095    2.2638169e-01   0.000000e+00   1.646946e+00   2561s\n",
      "  531299    2.2636526e-01   0.000000e+00   6.301893e+01   2567s\n",
      "  531503    2.2603548e-01   0.000000e+00   2.649701e+00   2573s\n",
      "  531605    2.2602964e-01   0.000000e+00   1.234835e+01   2576s\n",
      "  531809    2.2581909e-01   0.000000e+00   6.380968e+00   2581s\n",
      "  532013    2.2581585e-01   0.000000e+00   4.033621e-02   2587s\n",
      "  532217    2.2579397e-01   0.000000e+00   1.776483e+01   2592s\n",
      "  532319    2.2579005e-01   0.000000e+00   5.812691e+01   2595s\n",
      "  532523    2.2578252e-01   0.000000e+00   6.112618e-03   2600s\n",
      "  532727    2.2576318e-01   0.000000e+00   6.269444e+03   2606s\n",
      "  532859    2.2574667e-01   0.000000e+00   1.736415e-02   2611s\n",
      "  533063    2.2573939e-01   0.000000e+00   1.283225e+00   2617s\n",
      "  533267    2.2573457e-01   0.000000e+00   1.086638e+01   2622s\n",
      "  533369    2.2572939e-01   0.000000e+00   4.003624e-02   2625s\n",
      "  533573    2.2571676e-01   0.000000e+00   6.694722e-02   2631s\n",
      "  533777    2.2568486e-01   0.000000e+00   3.157485e+03   2636s\n",
      "  533981    2.2567834e-01   0.000000e+00   2.021105e+02   2642s\n",
      "  534185    2.2567618e-01   0.000000e+00   5.120091e+01   2647s\n",
      "  534287    2.2566455e-01   0.000000e+00   1.504171e-01   2650s\n",
      "  534491    2.2564400e-01   0.000000e+00   1.964403e-01   2656s\n",
      "  534695    2.2562532e-01   0.000000e+00   7.571953e+01   2661s\n",
      "  534899    2.2561976e-01   0.000000e+00   1.453978e+02   2667s\n",
      "  535103    2.2505632e-01   0.000000e+00   4.229883e-01   2673s\n",
      "  535205    2.2505544e-01   0.000000e+00   5.638176e-02   2676s\n",
      "  535409    2.2505489e-01   0.000000e+00   1.029368e+02   2682s\n",
      "  535613    2.2505207e-01   0.000000e+00   6.956345e+02   2687s\n",
      "  535715    2.2505188e-01   0.000000e+00   6.954178e+02   2690s\n",
      "  535919    2.2505122e-01   0.000000e+00   6.073908e-02   2696s\n",
      "  536123    2.2504930e-01   0.000000e+00   1.115285e+02   2701s\n",
      "  536327    2.2504668e-01   0.000000e+00   2.633334e+01   2707s\n",
      "  536531    2.2483095e-01   0.000000e+00   3.658110e-02   2713s\n",
      "  536633    2.2482881e-01   0.000000e+00   1.309229e+02   2715s\n",
      "  536837    2.2476985e-01   0.000000e+00   2.422769e-01   2721s\n",
      "  537041    2.2474816e-01   0.000000e+00   2.863436e+03   2727s\n",
      "  537245    2.2472030e-01   0.000000e+00   4.544619e+06   2733s\n",
      "  537347    2.2468075e-01   0.000000e+00   9.942575e+03   2736s\n",
      "  537551    2.2460355e-01   0.000000e+00   9.527251e+03   2741s\n",
      "  537755    2.2459038e-01   0.000000e+00   9.595901e-02   2747s\n",
      "  537959    2.2458623e-01   0.000000e+00   2.015953e+02   2752s\n",
      "  538061    2.2458403e-01   0.000000e+00   1.910712e+02   2755s\n",
      "  538265    2.2448120e-01   0.000000e+00   4.190816e+03   2761s\n",
      "  538457    2.2498695e-01   0.000000e+00   0.000000e+00   2766s\n",
      "\n",
      "Root relaxation: objective 2.249869e-01, 538457 iterations, 2755.64 seconds\n",
      "Total elapsed time = 2772.79s\n",
      "Total elapsed time = 2776.12s\n",
      "\n",
      "    Nodes    |    Current Node    |     Objective Bounds      |     Work\n",
      " Expl Unexpl |  Obj  Depth IntInf | Incumbent    BestBd   Gap | It/Node Time\n",
      "\n",
      "     0     0    0.22499    0  869          -    0.22499      -     - 2777s\n",
      "     0     0    0.34450    0 1398          -    0.34450      -     - 3629s\n"
     ]
    }
   ],
   "source": [
    "%%time\n",
    "\n",
    "import time\n",
    "\n",
    "toc = 0.\n",
    "sol_dict = {}\n",
    "for ind, F_TOL in enumerate(F_TOLS):\n",
    "    # ind = 0\n",
    "    # F_TOL = F_TOL_FINAL\n",
    "    for mdl_ind,mdl in iteritems(stacker.model_dict):\n",
    "        mu_meas = df_meas[ df_meas.substrate==mdl_ind].growth_rate_1_h.iloc[0]\n",
    "        rxn_mu = mdl.reactions.get_by_id(mu_id+'_%s'%mdl_ind)    \n",
    "        rxn_mu.lower_bound = mu_meas*(1-F_TOL)\n",
    "        rxn_mu.upper_bound = mu_meas*(1+F_TOL)\n",
    "        mu_crowd0 = np.nan\n",
    "        print('Condition=%s. Initial mu_crowd=%g. Fitting within %g%% of measured: %g <= mu <= %g' % (mdl_ind, mu_crowd0, 100*F_TOL, rxn_mu.lower_bound, rxn_mu.upper_bound))\n",
    "\n",
    "    milp = gurobi_solver.create_problem(stacker.model)\n",
    "    milp.ModelSense = GRB.MINIMIZE\n",
    "    milp.Params.IntFeasTol = 1e-9\n",
    "    milp.Params.OutputFlag = 1\n",
    "    # milp.Params.FeasibilityTol = 1e-9\n",
    "    # milp.Params.OptimalityTol = 1e-9\n",
    "    milp.Params.NodefileStart = 3   # Start writing nodes to disk if x GB RAM exceeded (for each thread)\n",
    "    milp.Params.TimeLimit = 4*3600  # Time limit in seconds    \n",
    "    milp.Params.Method = 2 # Barrier\n",
    "    milp.Params.NodeMethod = 2 # Barrier slower for NodeMethod?\n",
    "    milp.Params.BarHomogeneous = 1\n",
    "    #***************************\n",
    "    milp.Params.NumericFocus = 1\n",
    "    milp.Params.ScaleFlag = 0\n",
    "    milp.Params.Presolve  = 0\n",
    "    #***************************\n",
    "    tic = time.time()\n",
    "    milp.optimize()\n",
    "    toc = time.time()-tic\n",
    "\n",
    "    # If feasible solution found, use it as MILP start\n",
    "    if milp.SolCount > 0:\n",
    "        print('#'*40)\n",
    "        print('Setting MIP warm-start values.')\n",
    "        for v in milp.getVars():\n",
    "            v.Start = v.X\n",
    "        sol_dict[ind] = {'x_dict':{v.VarName:v.X for v in milp.getVars()}, 'F_TOL':F_TOL, 'time':toc}\n",
    "    else:\n",
    "        print('No solution found at F_TOL=%g. Stopping now.' % F_TOL)\n",
    "        break"
   ]
  },
  {
   "cell_type": "code",
   "execution_count": 25,
   "metadata": {
    "collapsed": false,
    "deletable": true,
    "editable": true
   },
   "outputs": [
    {
     "data": {
      "text/plain": [
       "[]"
      ]
     },
     "execution_count": 25,
     "metadata": {},
     "output_type": "execute_result"
    }
   ],
   "source": [
    "[(k, s['F_TOL'], s['time']) for k,s in iteritems(sol_dict)]"
   ]
  },
  {
   "cell_type": "code",
   "execution_count": 26,
   "metadata": {
    "collapsed": false,
    "deletable": true,
    "editable": true
   },
   "outputs": [
    {
     "data": {
      "text/plain": [
       "-1"
      ]
     },
     "execution_count": 26,
     "metadata": {},
     "output_type": "execute_result"
    }
   ],
   "source": [
    "best_ind = len(sol_dict)-1\n",
    "best_ind"
   ]
  },
  {
   "cell_type": "code",
   "execution_count": null,
   "metadata": {
    "collapsed": false,
    "deletable": true,
    "editable": true
   },
   "outputs": [],
   "source": [
    "x_dict = {r.id:sol_dict[best_ind]['x_dict'][str(i)] for i,r in enumerate(stacker.model.reactions)}\n",
    "F_TOL = sol_dict[best_ind]['F_TOL']"
   ]
  },
  {
   "cell_type": "code",
   "execution_count": null,
   "metadata": {
    "collapsed": false,
    "deletable": true,
    "editable": true
   },
   "outputs": [],
   "source": [
    "yopt = [x_dict[rxn.id] for rxn in stacker.model.reactions.query('binary_')]\n",
    "print('Number of non-zero binaries: %g' % sum(yopt))\n",
    "for mdl_ind,mdl in iteritems(stacker.model_dict):\n",
    "    dfi = df_meas[ df_meas.substrate==mdl_ind]\n",
    "    mu_measi = dfi.growth_rate_1_h.iloc[0]\n",
    "    rxn_mu = stacker.model.reactions.get_by_id(mu_id+'_%s'%mdl_ind)\n",
    "    muopt = x_dict[rxn_mu.id]\n",
    "    muL = mu_measi*(1-F_TOL)\n",
    "    muU = mu_measi*(1+F_TOL)\n",
    "    print('%s: Initial mu_crowd=%g. Fitted within %g%%: %g <= %g <= %g' % (mdl_ind, mu_crowd0, 100*F_TOL, muL, muopt, muU))"
   ]
  },
  {
   "cell_type": "code",
   "execution_count": null,
   "metadata": {
    "collapsed": false,
    "deletable": true,
    "editable": true,
    "scrolled": true
   },
   "outputs": [],
   "source": [
    "# Fitted parameters\n",
    "kfit_dict = {}\n",
    "for group_id, var_dict in iteritems(var_cons_dict):\n",
    "    var = var_dict[0]\n",
    "    cons = var_dict[1]\n",
    "    a0  = var_dict[0][2]\n",
    "    kfit = 0.\n",
    "    for l,pwr in enumerate(powers):\n",
    "        for k,digit in enumerate(digits):            \n",
    "            yid = 'binary_%s%s%s' % (group_id,k,l)\n",
    "            y   = x_dict[yid]            \n",
    "            if abs(y)>1e-10:\n",
    "                #print('%s. Value=%s. Power=%g. Digit=%g' % (yid, y, pwr, digit))\n",
    "                pass\n",
    "            kfit += y*a0*radix**pwr*digit\n",
    "    kfit_dict[group_id] = kfit"
   ]
  },
  {
   "cell_type": "code",
   "execution_count": null,
   "metadata": {
    "collapsed": false,
    "deletable": true,
    "editable": true
   },
   "outputs": [],
   "source": [
    "kfit_changed = [(k,v, abs(v-a0)/a0) for k,v in iteritems(kfit_dict) if abs(v-a0)/a0>1e-6]\n",
    "print('Changed keffs: %d/%d' % (len(kfit_changed), len(var_cons_dict)))\n",
    "#kfit_changed"
   ]
  },
  {
   "cell_type": "markdown",
   "metadata": {
    "deletable": true,
    "editable": true
   },
   "source": [
    "### Plug back in to be sure"
   ]
  },
  {
   "cell_type": "code",
   "execution_count": null,
   "metadata": {
    "collapsed": false,
    "deletable": true,
    "editable": true
   },
   "outputs": [],
   "source": [
    "#----------------------------------------\n",
    "# Starting from basal model\n",
    "csrcs = df_conds.cond.unique()\n",
    "for csrc in csrcs:\n",
    "    ijofit  = load_json_model('/home/laurence/ME/data/dynamicME/nominal_ijomc.json')\n",
    "    crowding = ijofit.metabolites.crowding\n",
    "    \n",
    "    df_condi = df_conds[ df_conds.cond==csrc]    \n",
    "    for i,row in df_condi.iterrows():\n",
    "        rid = row['rxn']\n",
    "        rxn = ijofit.reactions.get_by_id(rid)\n",
    "        rxn.lower_bound = row['lb']\n",
    "        rxn.upper_bound = row['ub']\n",
    "\n",
    "    for rid,kfit in iteritems(kfit_dict):\n",
    "        rxn = ijofit.reactions.get_by_id(rid)\n",
    "        rxn.add_metabolites({crowding:kfit})\n",
    "    \n",
    "    ijofit.optimize()\n",
    "    \n",
    "    mu_measi = df_meas[ df_meas.substrate==csrc].growth_rate_1_h.iloc[0]\n",
    "    mu_fiti = ijofit.reactions.get_by_id(mu_id).x\n",
    "    \n",
    "    # Get unfit\n",
    "    for rxn in ijofit.metabolites.crowding.reactions:\n",
    "        rxn._metabolites[crowding] = a0\n",
    "    ijofit.optimize()\n",
    "    mu_unfiti = ijofit.reactions.get_by_id(mu_id).x\n",
    "    err0= 100*(mu_unfiti-mu_measi)/mu_measi\n",
    "    err = 100*(mu_fiti - mu_measi)/mu_measi\n",
    "    derr= 100*(abs(err)-abs(err0))/abs(err0)\n",
    "    print('Cond=%s. mu_meas=%g. mu_sim=%g (Error=%.3g%%) (unfit=%g, error=%.3g%%). (%.3g%% change)' % (csrc, mu_measi, mu_fiti, err, mu_unfiti, err0, derr))\n",
    "    for i,row in df_condi.iterrows():\n",
    "        rid = row['rxn']\n",
    "        rxn = ijofit.reactions.get_by_id(rid)        \n",
    "        print('\\t%s uptake=%g' % (rxn.id, rxn.x))"
   ]
  },
  {
   "cell_type": "markdown",
   "metadata": {
    "deletable": true,
    "editable": true
   },
   "source": [
    "Cond=glucose. mu_meas=0.74. mu_sim=0.619085 (Error=-16.3%) (unfit=0.982372, error=32.8%). (-50.1% change)"
   ]
  }
 ],
 "metadata": {
  "kernelspec": {
   "display_name": "Python 2",
   "language": "python",
   "name": "python2"
  },
  "language_info": {
   "codemirror_mode": {
    "name": "ipython",
    "version": 2
   },
   "file_extension": ".py",
   "mimetype": "text/x-python",
   "name": "python",
   "nbconvert_exporter": "python",
   "pygments_lexer": "ipython2",
   "version": "2.7.14"
  }
 },
 "nbformat": 4,
 "nbformat_minor": 2
}
