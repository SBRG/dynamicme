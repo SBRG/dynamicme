{
 "cells": [
  {
   "cell_type": "markdown",
   "metadata": {
    "deletable": true,
    "editable": true
   },
   "source": [
    "## Solve using Benders"
   ]
  },
  {
   "cell_type": "code",
   "execution_count": 1,
   "metadata": {
    "collapsed": false,
    "deletable": true,
    "editable": true
   },
   "outputs": [],
   "source": [
    "from gurobipy import *"
   ]
  },
  {
   "cell_type": "code",
   "execution_count": 2,
   "metadata": {
    "collapsed": false,
    "deletable": true,
    "editable": true
   },
   "outputs": [],
   "source": [
    "import qminos\n",
    "from qminos import qwarmLP"
   ]
  },
  {
   "cell_type": "code",
   "execution_count": 3,
   "metadata": {
    "collapsed": true,
    "deletable": true,
    "editable": true
   },
   "outputs": [],
   "source": [
    "import seaborn as sns\n",
    "import pandas as pd\n",
    "import matplotlib.pyplot as plt\n",
    "\n",
    "plt.rcParams['svg.fonttype'] = 'none'\n",
    "pd.set_option('display.max_colwidth', -1)\n",
    "%matplotlib inline"
   ]
  },
  {
   "cell_type": "code",
   "execution_count": 4,
   "metadata": {
    "collapsed": false,
    "deletable": true,
    "editable": true
   },
   "outputs": [],
   "source": [
    "from dynamicme.decomposition import Decomposer\n",
    "from dynamicme.callback_gurobi import cb_benders"
   ]
  },
  {
   "cell_type": "code",
   "execution_count": 5,
   "metadata": {
    "collapsed": true,
    "deletable": true,
    "editable": true
   },
   "outputs": [],
   "source": [
    "from cobra.io import load_json_model\n",
    "\n",
    "ijomc  = load_json_model('/home/laurence/ME/data/dynamicME/nominal_ijomc.json')\n",
    "ijofit = load_json_model('/home/laurence/ME/data/dynamicME/best_ijomc.json')"
   ]
  },
  {
   "cell_type": "code",
   "execution_count": 6,
   "metadata": {
    "collapsed": false,
    "deletable": true,
    "editable": true
   },
   "outputs": [
    {
     "name": "stdout",
     "output_type": "stream",
     "text": [
      "(<type 'exceptions.ImportError'>, ImportError('No module named cplex',), <traceback object at 0x7f18f3d24128>)\n"
     ]
    }
   ],
   "source": [
    "from dynamicme.optimize import Optimizer"
   ]
  },
  {
   "cell_type": "code",
   "execution_count": 7,
   "metadata": {
    "collapsed": true,
    "deletable": true,
    "editable": true
   },
   "outputs": [],
   "source": [
    "opt = Optimizer(ijomc)"
   ]
  },
  {
   "cell_type": "code",
   "execution_count": 8,
   "metadata": {
    "collapsed": true,
    "deletable": true,
    "editable": true
   },
   "outputs": [],
   "source": [
    "gap = opt.add_duality_gap_constraint()"
   ]
  },
  {
   "cell_type": "code",
   "execution_count": 9,
   "metadata": {
    "collapsed": false,
    "deletable": true,
    "editable": true
   },
   "outputs": [],
   "source": [
    "crowding = ijomc.metabolites.crowding\n",
    "crowdingfit = ijofit.metabolites.crowding\n",
    "a12_dict = {(gap.metabolites.get_by_id(crowding.id), gap.reactions.get_by_id(rxn.id)):(\n",
    "    rxn.metabolites[crowding], \n",
    "    ijofit.reactions.get_by_id(rxn.id).metabolites[crowdingfit]) for rxn in crowding.reactions}"
   ]
  },
  {
   "cell_type": "code",
   "execution_count": 10,
   "metadata": {
    "collapsed": false,
    "deletable": true,
    "editable": true
   },
   "outputs": [
    {
     "data": {
      "text/plain": [
       "<Model duality_gap at 0x7f18f56c7fd0>"
      ]
     },
     "execution_count": 10,
     "metadata": {},
     "output_type": "execute_result"
    }
   ],
   "source": [
    "opt.make_disjunctive_primal_dual(gap, a12_dict)"
   ]
  },
  {
   "cell_type": "code",
   "execution_count": 11,
   "metadata": {
    "collapsed": false,
    "deletable": true,
    "editable": true
   },
   "outputs": [],
   "source": [
    "for rxn in gap.reactions:\n",
    "    rxn.objective_coefficient = 0.\n",
    "for rxn in gap.reactions.query('binary_'):\n",
    "    rxn.objective_coefficient = 1."
   ]
  },
  {
   "cell_type": "code",
   "execution_count": 12,
   "metadata": {
    "collapsed": false,
    "deletable": true,
    "editable": true
   },
   "outputs": [],
   "source": [
    "ijofit.optimize()\n",
    "MU_FIT = ijofit.reactions.BIOMASS_Ec_iJO1366_core_53p95M.x"
   ]
  },
  {
   "cell_type": "code",
   "execution_count": 13,
   "metadata": {
    "collapsed": false,
    "deletable": true,
    "editable": true
   },
   "outputs": [
    {
     "data": {
      "text/plain": [
       "0.7301837182736599"
      ]
     },
     "execution_count": 13,
     "metadata": {},
     "output_type": "execute_result"
    }
   ],
   "source": [
    "MU_FIT"
   ]
  },
  {
   "cell_type": "code",
   "execution_count": 14,
   "metadata": {
    "collapsed": true,
    "deletable": true,
    "editable": true
   },
   "outputs": [],
   "source": [
    "F_TOL = 0.05\n",
    "\n",
    "gap.reactions.BIOMASS_Ec_iJO1366_core_53p95M.upper_bound = MU_FIT*(1+F_TOL)\n",
    "gap.reactions.BIOMASS_Ec_iJO1366_core_53p95M.lower_bound = MU_FIT*(1-F_TOL)"
   ]
  },
  {
   "cell_type": "code",
   "execution_count": 15,
   "metadata": {
    "collapsed": false,
    "deletable": true,
    "editable": true
   },
   "outputs": [
    {
     "data": {
      "text/plain": [
       "<Solution 2.00 at 0x7f18f04d9a10>"
      ]
     },
     "execution_count": 15,
     "metadata": {},
     "output_type": "execute_result"
    }
   ],
   "source": [
    "gap.optimize(solver='gurobi', objective_sense='minimize')"
   ]
  },
  {
   "cell_type": "code",
   "execution_count": 16,
   "metadata": {
    "collapsed": false,
    "deletable": true,
    "editable": true
   },
   "outputs": [
    {
     "data": {
      "text/plain": [
       "2.0"
      ]
     },
     "execution_count": 16,
     "metadata": {},
     "output_type": "execute_result"
    }
   ],
   "source": [
    "sum([r.x for r in gap.reactions.query('binary_')])"
   ]
  },
  {
   "cell_type": "code",
   "execution_count": 17,
   "metadata": {
    "collapsed": false,
    "deletable": true,
    "editable": true
   },
   "outputs": [
    {
     "data": {
      "text/plain": [
       "2018"
      ]
     },
     "execution_count": 17,
     "metadata": {},
     "output_type": "execute_result"
    }
   ],
   "source": [
    "bvars = [r for r in gap.reactions if r.variable_kind == 'integer']\n",
    "len(bvars)"
   ]
  },
  {
   "cell_type": "code",
   "execution_count": 18,
   "metadata": {
    "collapsed": false,
    "deletable": true,
    "editable": true
   },
   "outputs": [
    {
     "data": {
      "text/plain": [
       "0.7549193132844437"
      ]
     },
     "execution_count": 18,
     "metadata": {},
     "output_type": "execute_result"
    }
   ],
   "source": [
    "gap.reactions.BIOMASS_Ec_iJO1366_core_53p95M.x"
   ]
  },
  {
   "cell_type": "code",
   "execution_count": 19,
   "metadata": {
    "collapsed": false,
    "deletable": true,
    "editable": true
   },
   "outputs": [
    {
     "name": "stdout",
     "output_type": "stream",
     "text": [
      "binary_crowding_GK1_abs 1.0\n",
      "binary_crowding_ATPS4rpp_abs 1.0\n"
     ]
    }
   ],
   "source": [
    "for rxn in gap.reactions.query('binary_'):\n",
    "    if rxn.x > 0.99:\n",
    "        print rxn, rxn.x"
   ]
  },
  {
   "cell_type": "markdown",
   "metadata": {
    "deletable": true,
    "editable": true
   },
   "source": [
    "## Solve as MILP"
   ]
  },
  {
   "cell_type": "code",
   "execution_count": 20,
   "metadata": {
    "collapsed": true,
    "deletable": true,
    "editable": true
   },
   "outputs": [],
   "source": [
    "from cobra.solvers import gurobi_solver\n",
    "from gurobipy import *"
   ]
  },
  {
   "cell_type": "code",
   "execution_count": 21,
   "metadata": {
    "collapsed": false,
    "deletable": true,
    "editable": true
   },
   "outputs": [
    {
     "name": "stdout",
     "output_type": "stream",
     "text": [
      "CPU times: user 332 ms, sys: 15.7 ms, total: 348 ms\n",
      "Wall time: 319 ms\n"
     ]
    }
   ],
   "source": [
    "%%time\n",
    "milp = gurobi_solver.create_problem(gap)\n",
    "milp.ModelSense = GRB.MINIMIZE"
   ]
  },
  {
   "cell_type": "code",
   "execution_count": 22,
   "metadata": {
    "collapsed": false,
    "deletable": true,
    "editable": true
   },
   "outputs": [],
   "source": [
    "milp.Params.IntFeasTol = 1e-9\n",
    "milp.Params.FeasibilityTol = 1e-8\n",
    "milp.Params.OptimalityTol = 1e-8\n",
    "milp.Params.Presolve = 0\n",
    "milp.Params.NumericFocus = 1"
   ]
  },
  {
   "cell_type": "code",
   "execution_count": 23,
   "metadata": {
    "collapsed": false,
    "deletable": true,
    "editable": true
   },
   "outputs": [
    {
     "name": "stdout",
     "output_type": "stream",
     "text": [
      "Changed value of parameter OutputFlag to 1\n",
      "   Prev: 0  Min: 0  Max: 1  Default: 1\n",
      "Optimize a model with 22283 rows, 18524 columns and 79543 nonzeros\n",
      "Variable types: 16506 continuous, 2018 integer (0 binary)\n",
      "Coefficient statistics:\n",
      "  Matrix range     [2e-11, 1e+04]\n",
      "  Objective range  [1e+00, 1e+00]\n",
      "  Bounds range     [1e-02, 1e+03]\n",
      "  RHS range        [5e-03, 1e+04]\n",
      "Warning: Model contains large matrix coefficient range\n",
      "Variable types: 16387 continuous, 2137 integer (2018 binary)\n",
      "Warning: 1 variables dropped from basis\n",
      "Warning: switch to quad precision\n",
      "Warning: 1 variables dropped from basis\n",
      "Warning: 1 variables dropped from basis\n",
      "\n",
      "Root relaxation: objective 6.221914e-02, 21372 iterations, 3.53 seconds\n",
      "\n",
      "    Nodes    |    Current Node    |     Objective Bounds      |     Work\n",
      " Expl Unexpl |  Obj  Depth IntInf | Incumbent    BestBd   Gap | It/Node Time\n",
      "\n",
      "     0     0    0.06222    0    1          -    0.06222      -     -    3s\n",
      "     0     0    0.08374    0    3          -    0.08374      -     -    3s\n",
      "     0     2    0.78209    0    3          -    0.78209      -     -    4s\n",
      "H   12    16                       1.0000000    0.83447  16.6%  62.9    4s\n",
      "\n",
      "Cutting planes:\n",
      "  MIR: 1\n",
      "\n",
      "Explored 15 nodes (22276 simplex iterations) in 4.78 seconds\n",
      "Thread count was 8 (of 8 available processors)\n",
      "\n",
      "Solution count 1: 1 \n",
      "\n",
      "Optimal solution found (tolerance 1.00e-04)\n",
      "Best objective 1.000000000000e+00, best bound 1.000000000000e+00, gap 0.0000%\n",
      "CPU times: user 7.15 s, sys: 160 ms, total: 7.31 s\n",
      "Wall time: 4.78 s\n"
     ]
    }
   ],
   "source": [
    "milp.Params.OutputFlag=1\n",
    "%time milp.optimize()"
   ]
  },
  {
   "cell_type": "code",
   "execution_count": 24,
   "metadata": {
    "collapsed": false,
    "deletable": true,
    "editable": true
   },
   "outputs": [
    {
     "data": {
      "text/plain": [
       "True"
      ]
     },
     "execution_count": 24,
     "metadata": {},
     "output_type": "execute_result"
    }
   ],
   "source": [
    "milp.Status == GRB.OPTIMAL"
   ]
  },
  {
   "cell_type": "code",
   "execution_count": 25,
   "metadata": {
    "collapsed": false,
    "deletable": true,
    "editable": true
   },
   "outputs": [
    {
     "data": {
      "text/plain": [
       "1.0"
      ]
     },
     "execution_count": 25,
     "metadata": {},
     "output_type": "execute_result"
    }
   ],
   "source": [
    "milp.ObjVal"
   ]
  },
  {
   "cell_type": "code",
   "execution_count": 26,
   "metadata": {
    "collapsed": false,
    "deletable": true,
    "editable": true
   },
   "outputs": [],
   "source": [
    "sol = gurobi_solver.format_solution(milp, gap)"
   ]
  },
  {
   "cell_type": "code",
   "execution_count": 27,
   "metadata": {
    "collapsed": false,
    "deletable": true,
    "editable": true
   },
   "outputs": [
    {
     "name": "stdout",
     "output_type": "stream",
     "text": [
      "binary_crowding_GK1_abs 1.0 -0.0\n",
      "binary_crowding_ATPS4rpp_abs 1.0 1.0\n"
     ]
    }
   ],
   "source": [
    "for rxn in gap.reactions.query('binary_'):\n",
    "    if rxn.x > 0.99:\n",
    "        xmilp = sol.x_dict[rxn.id]\n",
    "        print rxn, rxn.x, xmilp"
   ]
  },
  {
   "cell_type": "markdown",
   "metadata": {
    "deletable": true,
    "editable": true
   },
   "source": [
    "## Solve using Benders with quad/dqq subproblem"
   ]
  },
  {
   "cell_type": "code",
   "execution_count": null,
   "metadata": {
    "collapsed": true
   },
   "outputs": [],
   "source": [
    "from dynamicme.decomposition import Decomposer\n",
    "from dynamicme.callback_gurobi import cb_benders\n",
    "\n",
    "decomposer = Decomposer(milp)\n",
    "master,sub = decomposer.benders_decomp()\n",
    "master._precision_sub = 'quad'\n",
    "master._verbosity = 1"
   ]
  },
  {
   "cell_type": "code",
   "execution_count": 33,
   "metadata": {
    "collapsed": false,
    "deletable": true,
    "editable": true
   },
   "outputs": [
    {
     "name": "stdout",
     "output_type": "stream",
     "text": [
      "Changed value of parameter Presolve to 0\n",
      "   Prev: -1  Min: -1  Max: 2  Default: -1\n",
      "Changed value of parameter LazyConstraints to 1\n",
      "   Prev: 0  Min: 0  Max: 1  Default: 0\n",
      "Changed value of parameter IntFeasTol to 1e-09\n",
      "   Prev: 1e-05  Min: 1e-09  Max: 0.1  Default: 1e-05\n",
      "Optimize a model with 1 rows, 2019 columns and 2019 nonzeros\n",
      "Variable types: 1 continuous, 2018 integer (0 binary)\n",
      "Coefficient statistics:\n",
      "  Matrix range     [1e+00, 1e+00]\n",
      "  Objective range  [1e+00, 1e+00]\n",
      "  Bounds range     [1e+00, 1e+03]\n",
      "  RHS range        [0e+00, 0e+00]\n",
      "Getting MINOS parameters...\n",
      "Done in 303.436 seconds with status 0\n",
      "zmaster=0. zsub=3.70303. gap=-3.70303\n",
      "Getting MINOS parameters...\n",
      "Done in 1.32742 seconds with status 0\n",
      "zmaster=0. zsub=3.70303. gap=-3.70303\n",
      "Getting MINOS parameters...\n",
      "Done in 1.3002 seconds with status 0\n",
      "zmaster=0. zsub=3.70303. gap=-3.70303\n",
      "Variable types: 1 continuous, 2018 integer (2018 binary)\n",
      "Getting MINOS parameters...\n",
      "Done in 1.30425 seconds with status 0\n",
      "zmaster=0. zsub=3.70303. gap=-3.70303\n",
      "\n",
      "Root simplex log...\n",
      "\n",
      "Iteration    Objective       Primal Inf.    Dual Inf.      Time\n",
      "       0    0.0000000e+00   5.785988e-03   0.000000e+00    311s\n",
      "       2    6.2219142e-02   0.000000e+00   0.000000e+00    311s\n",
      "\n",
      "Root relaxation: objective 6.221914e-02, 2 iterations, 0.00 seconds\n",
      "\n",
      "    Nodes    |    Current Node    |     Objective Bounds      |     Work\n",
      " Expl Unexpl |  Obj  Depth IntInf | Incumbent    BestBd   Gap | It/Node Time\n",
      "\n",
      "     0     0    0.06222    0    1          -    0.06222      -     -  311s\n",
      "Getting MINOS parameters...\n",
      "Done in 87.6435 seconds with status 0\n",
      "zmaster=1. zsub=4.34587. gap=-3.34587\n",
      "Getting MINOS parameters...\n",
      "Done in 45.5543 seconds with status 0\n",
      "zmaster=1. zsub=1. gap=0\n",
      "H    0     0                       1.0000000    0.06222  93.8%     -  446s\n",
      "Getting MINOS parameters...\n",
      "Done in 197.862 seconds with status 0\n",
      "zmaster=0.0622191. zsub=0.0622191. gap=-1.11022e-16\n",
      "     0     0    0.78737    0    1    1.00000    0.78737  21.3%     -  644s\n",
      "Getting MINOS parameters...\n",
      "Done in 31.9985 seconds with status 0\n",
      "zmaster=0.787371. zsub=2.93068. gap=-2.14331\n",
      "\n",
      "Cutting planes:\n",
      "  MIR: 3\n",
      "  Lazy constraints: 2\n",
      "\n",
      "Explored 1 nodes (4 simplex iterations) in 677.91 seconds\n",
      "Thread count was 8 (of 8 available processors)\n",
      "\n",
      "Solution count 1: 1 \n",
      "\n",
      "Optimal solution found (tolerance 1.00e-04)\n",
      "Best objective 1.000000000000e+00, best bound 1.000000000000e+00, gap 0.0000%\n"
     ]
    }
   ],
   "source": [
    "%%time\n",
    "master.optimize(cb_benders)"
   ]
  },
  {
   "cell_type": "code",
   "execution_count": 54,
   "metadata": {
    "collapsed": false
   },
   "outputs": [
    {
     "data": {
      "text/plain": [
       "1.0"
      ]
     },
     "execution_count": 54,
     "metadata": {},
     "output_type": "execute_result"
    }
   ],
   "source": [
    "import numpy as np\n",
    "yopt = np.array([y.X for y in decomposer._ys])\n",
    "sum(yopt)"
   ]
  },
  {
   "cell_type": "code",
   "execution_count": 55,
   "metadata": {
    "collapsed": true
   },
   "outputs": [],
   "source": [
    "y_dict = {y.VarName:y.X for y in decomposer._ys}"
   ]
  },
  {
   "cell_type": "code",
   "execution_count": 35,
   "metadata": {
    "collapsed": false
   },
   "outputs": [
    {
     "name": "stdout",
     "output_type": "stream",
     "text": [
      "Getting MINOS parameters...\n",
      "Done in 30.8749 seconds with status 0\n"
     ]
    }
   ],
   "source": [
    "from qminos.quadLP import QMINOS\n",
    "### SOlve primal sub\n",
    "qsolver = QMINOS()\n",
    "sense_dict = {GRB.EQUAL:'E', GRB.LESS_EQUAL:'L', GRB.GREATER_EQUAL:'G'}\n",
    "csenses = [sense_dict[c] for c in decomposer._csenses]\n",
    "xp,statp,hsp = qsolver.solvelp(decomposer._A, decomposer._d - decomposer._B*yopt, decomposer._cx, decomposer._xl, decomposer._xu, csenses, precision='dqq')"
   ]
  },
  {
   "cell_type": "code",
   "execution_count": 36,
   "metadata": {
    "collapsed": true
   },
   "outputs": [],
   "source": [
    "x_dict = {x.VarName:xp[j] for j,x in enumerate(decomposer._x0)}"
   ]
  },
  {
   "cell_type": "code",
   "execution_count": 39,
   "metadata": {
    "collapsed": false
   },
   "outputs": [
    {
     "data": {
      "text/plain": [
       "0.7549193132844437"
      ]
     },
     "execution_count": 39,
     "metadata": {},
     "output_type": "execute_result"
    }
   ],
   "source": [
    "gap.reactions.BIOMASS_Ec_iJO1366_core_53p95M.x"
   ]
  },
  {
   "cell_type": "code",
   "execution_count": 37,
   "metadata": {
    "collapsed": false
   },
   "outputs": [
    {
     "data": {
      "text/plain": [
       "<gurobi.Var 7 (value 0.749027199175)>"
      ]
     },
     "execution_count": 37,
     "metadata": {},
     "output_type": "execute_result"
    }
   ],
   "source": [
    "milp.getVars()[7]"
   ]
  },
  {
   "cell_type": "code",
   "execution_count": 38,
   "metadata": {
    "collapsed": false
   },
   "outputs": [
    {
     "data": {
      "text/plain": [
       "0.7490271991752928"
      ]
     },
     "execution_count": 38,
     "metadata": {},
     "output_type": "execute_result"
    }
   ],
   "source": [
    "x_dict['7']"
   ]
  },
  {
   "cell_type": "code",
   "execution_count": 41,
   "metadata": {
    "collapsed": false
   },
   "outputs": [
    {
     "name": "stdout",
     "output_type": "stream",
     "text": [
      "(0.6936745323599769, 0.7666929041873429)\n"
     ]
    }
   ],
   "source": [
    "print(gap.reactions.BIOMASS_Ec_iJO1366_core_53p95M.lower_bound, gap.reactions.BIOMASS_Ec_iJO1366_core_53p95M.upper_bound)"
   ]
  },
  {
   "cell_type": "code",
   "execution_count": 52,
   "metadata": {
    "collapsed": false,
    "deletable": true,
    "editable": true
   },
   "outputs": [
    {
     "data": {
      "text/plain": [
       "{u'binary_crowding_GLCURtex_abs': '14867',\n",
       " u'binary_crowding_SPODM': '16757',\n",
       " u'binary_crowding_THRS': '17657',\n",
       " u'binary_crowding_DINSt2pp': '17840',\n",
       " u'binary_crowding_THRD': '15107',\n",
       " u'binary_crowding_RPI_abs': '14888',\n",
       " u'binary_crowding_AMALT3': '17150',\n",
       " u'binary_crowding_DHPPD': '14216',\n",
       " u'binary_crowding_METSOX1abcpp': '15527',\n",
       " u'binary_crowding_DAPAL': '17735',\n",
       " u'binary_crowding_ACACCT': '16277',\n",
       " u'binary_crowding_MINCYCtpp': '17132',\n",
       " u'binary_crowding_G3PCabcpp': '16331',\n",
       " u'binary_crowding_AGM4PCPpp': '14462',\n",
       " u'binary_crowding_TTRCYCtex_abs': '13358',\n",
       " u'binary_crowding_PAPA140': '12668',\n",
       " u'binary_crowding_PAPA141': '14492',\n",
       " u'binary_crowding_TRSARr_abs': '13508',\n",
       " u'binary_crowding_FE3HOXexs': '17966',\n",
       " u'binary_crowding_GGGABAH': '17627',\n",
       " u'binary_crowding_GLYBt2pp': '18002',\n",
       " u'binary_crowding_TRPt2rpp_abs': '14456',\n",
       " u'binary_crowding_FUSAtpp': '17936',\n",
       " u'binary_crowding_GLCDpp': '14927',\n",
       " u'binary_crowding_PLIPA1A120pp': '17306',\n",
       " u'binary_crowding_PUNP2_abs': '18212',\n",
       " u'binary_crowding_FRUpts2pp': '15188',\n",
       " u'binary_crowding_GMPS2': '17858',\n",
       " u'binary_crowding_MDDEP3pp': '17372',\n",
       " u'binary_crowding_PA120abcpp': '17876',\n",
       " u'binary_crowding_ACSERtex_abs': '15278',\n",
       " u'binary_crowding_FRUK': '18020',\n",
       " u'binary_crowding_AIRC2': '18503',\n",
       " u'binary_crowding_AGM4PA': '16337',\n",
       " u'binary_crowding_INSK': '13403',\n",
       " u'binary_crowding_AGM4PH': '17291',\n",
       " u'binary_crowding_GLCNtex_abs': '16670',\n",
       " u'binary_crowding_PYRt2rpp_abs': '12608',\n",
       " u'binary_crowding_PYDXtpp': '16526',\n",
       " u'binary_crowding_UAGCVT': '15944',\n",
       " u'binary_crowding_3NTD9pp': '14747',\n",
       " u'binary_crowding_OXCDC': '12962',\n",
       " u'binary_crowding_G3PEabcpp': '16226',\n",
       " u'binary_crowding_23CAMPtex_abs': '16838',\n",
       " u'binary_crowding_E4PD_abs': '13814',\n",
       " u'binary_crowding_THD2pp': '14681',\n",
       " u'binary_crowding_GLUtex_abs': '13826',\n",
       " u'binary_crowding_ADOCBLtonex': '16979',\n",
       " u'binary_crowding_CD2t3pp': '15719',\n",
       " u'binary_crowding_ALLK': '13007',\n",
       " u'binary_crowding_PSSA181': '18437',\n",
       " u'binary_crowding_HPPPNDO': '18188',\n",
       " u'binary_crowding_LPLIPAL1A160pp': '15695',\n",
       " u'binary_crowding_UDPGALPpp': '14396',\n",
       " u'binary_crowding_OAADC': '17915',\n",
       " u'binary_crowding_CRNt2rpp_abs': '12500',\n",
       " u'binary_crowding_LPLIPAL1A180pp': '17345',\n",
       " u'binary_crowding_14GLUCANabcpp': '14603',\n",
       " u'binary_crowding_LSERDHr_abs': '17513',\n",
       " u'binary_crowding_FACOAL180t2pp': '14186',\n",
       " u'binary_crowding_PLIPA2A141pp': '14918',\n",
       " u'binary_crowding_LPLIPAL2G180': '14213',\n",
       " u'binary_crowding_MMCD': '16127',\n",
       " u'binary_crowding_MANPGH': '13919',\n",
       " u'binary_crowding_CYTK1_abs': '17369',\n",
       " u'binary_crowding_DHACOAH_abs': '16160',\n",
       " u'binary_crowding_PA141abcpp': '15203',\n",
       " u'binary_crowding_METS': '16010',\n",
       " u'binary_crowding_DAAD': '14225',\n",
       " u'binary_crowding_PLIPA2G120pp': '16031',\n",
       " u'binary_crowding_PLIPA2G161pp': '14174',\n",
       " u'binary_crowding_HEX1': '16349',\n",
       " u'binary_crowding_GLBRAN2': '13319',\n",
       " u'binary_crowding_HEX7': '12818',\n",
       " u'binary_crowding_MELIBtex_abs': '13757',\n",
       " u'binary_crowding_PSD140': '15962',\n",
       " u'binary_crowding_PSD141': '15005',\n",
       " u'binary_crowding_HEPK1': '17519',\n",
       " u'binary_crowding_HEPK2': '16607',\n",
       " u'binary_crowding_PGPP120': '14978',\n",
       " u'binary_crowding_23PDE4pp': '12848',\n",
       " u'binary_crowding_DOPAtex_abs': '18479',\n",
       " u'binary_crowding_CTBTCAL2': '17642',\n",
       " u'binary_crowding_PG120abcpp': '13244',\n",
       " u'binary_crowding_CMPN': '16535',\n",
       " u'binary_crowding_MALCOAMT': '13676',\n",
       " u'binary_crowding_MANGLYCtex_abs': '13295',\n",
       " u'binary_crowding_NHFRBO': '16259',\n",
       " u'binary_crowding_FMNRx': '16682',\n",
       " u'binary_crowding_CRNDt2rpp_abs': '15980',\n",
       " u'binary_crowding_UAPGR': '17531',\n",
       " u'binary_crowding_CLPNH141pp': '15374',\n",
       " u'binary_crowding_UPP3MT': '13220',\n",
       " u'binary_crowding_LA4NTpp': '15128',\n",
       " u'binary_crowding_PLIPA1E161pp': '17777',\n",
       " u'binary_crowding_CLPNS141pp_abs': '17468',\n",
       " u'binary_crowding_PGSA181': '13382',\n",
       " u'binary_crowding_PGSA180': '17822',\n",
       " u'binary_crowding_TDPGDH': '17471',\n",
       " u'binary_crowding_NADH17pp': '15773',\n",
       " u'binary_crowding_SHSL1': '18131',\n",
       " u'binary_crowding_GALS3': '14807',\n",
       " u'binary_crowding_GLUabcpp': '18506',\n",
       " u'binary_crowding_LPLIPAL2A120': '16871',\n",
       " u'binary_crowding_ACKr_abs': '12974',\n",
       " u'binary_crowding_ASO3t8pp': '15938',\n",
       " u'binary_crowding_LPLIPAL2G140': '13310',\n",
       " u'binary_crowding_LPLIPAL2G141': '14414',\n",
       " u'binary_crowding_CGLYabcpp': '14762',\n",
       " u'binary_crowding_LPLIPAL1A140pp': '18323',\n",
       " u'binary_crowding_G3PD5': '12737',\n",
       " u'binary_crowding_G3PD7': '13874',\n",
       " u'binary_crowding_G3PD6': '17144',\n",
       " u'binary_crowding_LIPAabctex': '15245',\n",
       " u'binary_crowding_CYNTt2pp': '16637',\n",
       " u'binary_crowding_DDPGALA_abs': '17837',\n",
       " u'binary_crowding_CRNabcpp': '17843',\n",
       " u'binary_crowding_ARBTNtpp': '15956',\n",
       " u'binary_crowding_PLIPA2A140pp': '15068',\n",
       " u'binary_crowding_THRt4pp': '18389',\n",
       " u'binary_crowding_PLIPA1G161pp': '13301',\n",
       " u'binary_crowding_3KGK': '13451',\n",
       " u'binary_crowding_GLYALDtpp_abs': '12797',\n",
       " u'binary_crowding_PYDXNtpp': '12950',\n",
       " u'binary_crowding_SUCMALtpp': '12530',\n",
       " u'binary_crowding_TREptspp': '17201',\n",
       " u'binary_crowding_BMOGDS2': '14840',\n",
       " u'binary_crowding_BMOGDS1': '18377',\n",
       " u'binary_crowding_PLIPA2G160pp': '12977',\n",
       " u'binary_crowding_MALTTRtexi': '15950',\n",
       " u'binary_crowding_LPLIPAL1G160pp': '14963',\n",
       " u'binary_crowding_BUTCT': '18101',\n",
       " u'binary_crowding_TKT1_abs': '18185',\n",
       " u'binary_crowding_ACHBS': '12584',\n",
       " u'binary_crowding_METSOX2tex_abs': '13520',\n",
       " u'binary_crowding_PLIPA1G120pp': '15152',\n",
       " u'binary_crowding_DURIK1': '13466',\n",
       " u'binary_crowding_GLYCLTt2rpp_abs': '12662',\n",
       " u'binary_crowding_GLYC3Pabcpp': '16304',\n",
       " u'binary_crowding_LALADGLUtpp': '18215',\n",
       " u'binary_crowding_GAMtex_abs': '15413',\n",
       " u'binary_crowding_ACACT8r_abs': '17633',\n",
       " u'binary_crowding_PROabcpp': '12992',\n",
       " u'binary_crowding_ADNCYC': '15578',\n",
       " u'binary_crowding_LPADSS': '17597',\n",
       " u'binary_crowding_CLPNH140pp': '15605',\n",
       " u'binary_crowding_MALTATr_abs': '17309',\n",
       " u'binary_crowding_FUCtpp_abs': '16184',\n",
       " u'binary_crowding_FUMtex_abs': '16139',\n",
       " u'binary_crowding_PG161abcpp': '12866',\n",
       " u'binary_crowding_TUNGStex_abs': '17726',\n",
       " u'binary_crowding_FE3HOXabcpp': '15380',\n",
       " u'binary_crowding_PLIPA1A161pp': '15419',\n",
       " u'binary_crowding_ALLULPE_abs': '14156',\n",
       " u'binary_crowding_THMabcpp': '14474',\n",
       " u'binary_crowding_LPLIPAL2E140': '14471',\n",
       " u'binary_crowding_LPLIPAL2E141': '16097',\n",
       " u'binary_crowding_ASCBptspp': '13805',\n",
       " u'binary_crowding_MALTptspp': '14792',\n",
       " u'binary_crowding_CRNCAL2': '14861',\n",
       " u'binary_crowding_URACPAH': '16700',\n",
       " u'binary_crowding_GDPTPDP': '17147',\n",
       " u'binary_crowding_ASPt2_2pp': '15176',\n",
       " u'binary_crowding_NADPPPS': '12923',\n",
       " u'binary_crowding_HXPRT': '16742',\n",
       " u'binary_crowding_SHCHD2': '17417',\n",
       " u'binary_crowding_NO3t7pp': '17990',\n",
       " u'binary_crowding_F6PA_abs': '15746',\n",
       " u'binary_crowding_MDDCP2pp': '18032',\n",
       " u'binary_crowding_LPLIPAL2ATE161': '18245',\n",
       " u'binary_crowding_LPLIPAL2ATE160': '13091',\n",
       " u'binary_crowding_PAPPT3': '13706',\n",
       " u'binary_crowding_ALDD3y': '15812',\n",
       " u'binary_crowding_DAPabcpp': '15179',\n",
       " u'binary_crowding_3AMACHYD': '12872',\n",
       " u'binary_crowding_IDOND2': '18197',\n",
       " u'binary_crowding_PPAtex_abs': '16325',\n",
       " u'binary_crowding_TREHpp': '14408',\n",
       " u'binary_crowding_DHCIND': '13523',\n",
       " u'binary_crowding_MALDtex_abs': '15656',\n",
       " u'binary_crowding_HXAND': '13436',\n",
       " u'binary_crowding_SGSAD': '14756',\n",
       " u'binary_crowding_HPYRRy': '12767',\n",
       " u'binary_crowding_GLUt4pp': '13271',\n",
       " u'binary_crowding_UDCPDPpp': '13190',\n",
       " u'binary_crowding_LDH_D2': '13454',\n",
       " u'binary_crowding_2AGPG161tipp': '15299',\n",
       " u'binary_crowding_GLYC3Ptex_abs': '17093',\n",
       " u'binary_crowding_UM4PCP': '17870',\n",
       " u'binary_crowding_FUMt2_3pp': '15593',\n",
       " u'binary_crowding_CDGR': '15218',\n",
       " u'binary_crowding_CDGS': '14288',\n",
       " u'binary_crowding_ACOAD5f_abs': '12926',\n",
       " u'binary_crowding_ACONIs_abs': '16385',\n",
       " u'binary_crowding_LPLIPAL1G161pp': '15209',\n",
       " u'binary_crowding_PTRCORNt7pp_abs': '14696',\n",
       " u'binary_crowding_PLIPA2A181pp': '15551',\n",
       " u'binary_crowding_DALAtex_abs': '15494',\n",
       " u'binary_crowding_MALt3pp': '12929',\n",
       " u'binary_crowding_HACD8_abs': '16355',\n",
       " u'binary_crowding_COBALT2t3pp': '12551',\n",
       " u'binary_crowding_ACNAMtex_abs': '14621',\n",
       " u'binary_crowding_FUCtex_abs': '14324',\n",
       " u'binary_crowding_PHYTSpp': '18281',\n",
       " u'binary_crowding_CPGNUtpp': '16997',\n",
       " u'binary_crowding_IDONtex_abs': '13427',\n",
       " u'binary_crowding_UDPGD': '15395',\n",
       " u'binary_crowding_TMAtex_abs': '12803',\n",
       " u'binary_crowding_CA2t3pp': '16697',\n",
       " u'binary_crowding_GGPTRCS': '16976',\n",
       " u'binary_crowding_GSNt2pp': '16157',\n",
       " u'binary_crowding_GLCS1': '16736',\n",
       " u'binary_crowding_DGK1_abs': '17087',\n",
       " u'binary_crowding_LPLIPAL1G120pp': '12632',\n",
       " u'binary_crowding_FORCT_abs': '14555',\n",
       " u'binary_crowding_2AGPE160tipp': '12725',\n",
       " u'binary_crowding_MGSA': '17399',\n",
       " u'binary_crowding_GGPTRCO': '16595',\n",
       " u'binary_crowding_DBTS': '15143',\n",
       " u'binary_crowding_MMETtex_abs': '13328',\n",
       " u'binary_crowding_SFGTHi': '17447',\n",
       " u'binary_crowding_AGMHE': '14423',\n",
       " u'binary_crowding_SO4tex_abs': '12785',\n",
       " u'binary_crowding_PTRCTA': '17768',\n",
       " u'binary_crowding_FDMO3': '14198',\n",
       " u'binary_crowding_FDMO2': '13709',\n",
       " u'binary_crowding_ACACT6r_abs': '12512',\n",
       " u'binary_crowding_FDMO4': '12971',\n",
       " u'binary_crowding_O16GLCT2': '13763',\n",
       " u'binary_crowding_FDMO6': '15776',\n",
       " u'binary_crowding_MINCYCtex_abs': '12599',\n",
       " u'binary_crowding_HOPNTAL': '18422',\n",
       " u'binary_crowding_MSO3abcpp': '15878',\n",
       " u'binary_crowding_G3PCtex_abs': '14270',\n",
       " u'binary_crowding_ECOAH4_abs': '15557',\n",
       " u'binary_crowding_ALAALAtex_abs': '15734',\n",
       " u'binary_crowding_LYSt3pp': '13991',\n",
       " u'binary_crowding_CYTDK2': '15602',\n",
       " u'binary_crowding_DAGK141': '14822',\n",
       " u'binary_crowding_DAGK140': '14345',\n",
       " u'binary_crowding_TDP': '14912',\n",
       " u'binary_crowding_CHLabcpp': '13610',\n",
       " u'binary_crowding_MDDEP4pp': '17528',\n",
       " u'binary_crowding_SUCCt2_3pp': '14600',\n",
       " u'binary_crowding_RBK_L1': '13952',\n",
       " u'binary_crowding_FRULYStex_abs': '12677',\n",
       " u'binary_crowding_GALURtex_abs': '16376',\n",
       " u'binary_crowding_GAMAN6Ptex_abs': '13793',\n",
       " u'binary_crowding_DHORD5': '18350',\n",
       " u'binary_crowding_DHORD2': '12986',\n",
       " u'binary_crowding_TTDCAtexi': '16772',\n",
       " u'binary_crowding_OHPBAT_abs': '14231',\n",
       " u'binary_crowding_ECAtpp': '15236',\n",
       " u'binary_crowding_PE140abcpp': '17288',\n",
       " u'binary_crowding_KARA2_abs': '15923',\n",
       " u'binary_crowding_NO2t2rpp_abs': '14498',\n",
       " u'binary_crowding_DHFS': '14036',\n",
       " u'binary_crowding_CYTK2_abs': '14774',\n",
       " u'binary_crowding_LPLIPAL1A181pp': '16430',\n",
       " u'binary_crowding_ACGAM1PPpp': '13289',\n",
       " u'binary_crowding_ACOTA_abs': '14564',\n",
       " u'binary_crowding_DDGLK': '15251',\n",
       " u'binary_crowding_ILEtex_abs': '17129',\n",
       " u'binary_crowding_PSCVT_abs': '17384',\n",
       " u'binary_crowding_NTPP2': '13574',\n",
       " u'binary_crowding_G1PPpp': '16100',\n",
       " u'binary_crowding_MSAR': '17213',\n",
       " u'binary_crowding_NTD9pp': '15227',\n",
       " u'binary_crowding_NDPK5_abs': '14714',\n",
       " u'binary_crowding_PPM2_abs': '18476',\n",
       " u'binary_crowding_ILEabcpp': '17573',\n",
       " u'binary_crowding_PA161abcpp': '15704',\n",
       " u'binary_crowding_CLPNS120pp_abs': '16874',\n",
       " u'binary_crowding_ACACT4r_abs': '16751',\n",
       " u'binary_crowding_CDAPPA181': '13577',\n",
       " u'binary_crowding_CDAPPA180': '17081',\n",
       " u'binary_crowding_ARBTNtex': '16616',\n",
       " u'binary_crowding_PROt2rpp_abs': '14729',\n",
       " u'binary_crowding_MEPCT': '14843',\n",
       " u'binary_crowding_OMPHHX': '14954',\n",
       " u'binary_crowding_MDDEP2pp': '18278',\n",
       " u'binary_crowding_2AGPE180tipp': '16007',\n",
       " u'binary_crowding_MOX_abs': '17540',\n",
       " u'binary_crowding_FADRx2': '13211',\n",
       " u'binary_crowding_MALTTTRtexi': '16679',\n",
       " u'binary_crowding_IGPS': '16928',\n",
       " u'binary_crowding_GLUTRR': '16922',\n",
       " u'binary_crowding_AIRC3_abs': '17585',\n",
       " u'binary_crowding_TRE6PH': '16502',\n",
       " u'binary_crowding_GBBTNtex_abs': '12665',\n",
       " u'binary_crowding_ALDD2y': '13241',\n",
       " u'binary_crowding_ALDD2x': '16247',\n",
       " u'binary_crowding_ACONTb_abs': '16214',\n",
       " u'binary_crowding_SO2tex_abs': '18155',\n",
       " u'binary_crowding_TRE6PS': '15965',\n",
       " u'binary_crowding_TRE6PP': '14648',\n",
       " u'binary_crowding_LYSDC': '15845',\n",
       " u'binary_crowding_PANTS': '12827',\n",
       " u'binary_crowding_MAN6PI_abs': '16382',\n",
       " u'binary_crowding_DDGALK': '17894',\n",
       " u'binary_crowding_FE2t2pp': '14432',\n",
       " u'binary_crowding_MNt2pp': '16583',\n",
       " u'binary_crowding_CBL1abcpp': '15269',\n",
       " u'binary_crowding_G3PSabcpp': '13949',\n",
       " u'binary_crowding_ARBTtex': '17834',\n",
       " u'binary_crowding_2AGPA120tipp': '15095',\n",
       " u'binary_crowding_FCLK': '17645',\n",
       " u'binary_crowding_OHPHM': '15221',\n",
       " u'binary_crowding_XYLI1_abs': '15335',\n",
       " u'binary_crowding_FCLT': '18341',\n",
       " u'binary_crowding_ECAP1pp': '13781',\n",
       " u'binary_crowding_PAPA160': '13553',\n",
       " u'binary_crowding_PAPA161': '12623',\n",
       " u'binary_crowding_MOCDS': '13496',\n",
       " u'binary_crowding_GTHS': '16532',\n",
       " u'binary_crowding_FACOAL160t2pp': '14405',\n",
       " u'binary_crowding_FALDtpp_abs': '15521',\n",
       " u'binary_crowding_G6PDH2r_abs': '17549',\n",
       " u'binary_crowding_MCTP1Bpp': '16580',\n",
       " u'binary_crowding_ALTRH': '15125',\n",
       " u'binary_crowding_AGDC': '14882',\n",
       " u'binary_crowding_FACOAE181': '17930',\n",
       " u'binary_crowding_FACOAE180': '16319',\n",
       " u'binary_crowding_LYSt2pp': '15608',\n",
       " u'binary_crowding_PGK_abs': '18416',\n",
       " u'binary_crowding_SPMDt3pp': '13943',\n",
       " u'binary_crowding_ULA4NFT': '12932',\n",
       " u'binary_crowding_PDH': '17564',\n",
       " u'binary_crowding_THRPtex_abs': '17267',\n",
       " u'binary_crowding_ACALD_abs': '15062',\n",
       " u'binary_crowding_ORNDC': '13232',\n",
       " u'binary_crowding_TMAOR2pp': '16265',\n",
       " u'binary_crowding_HCYSMT': '12605',\n",
       " u'binary_crowding_ENTCS': '13649',\n",
       " u'binary_crowding_GUAPRT': '14207',\n",
       " u'binary_crowding_FE3HOXUtex': '14693',\n",
       " u'binary_crowding_GLCATr_abs': '17576',\n",
       " u'binary_crowding_ALR2': '16970',\n",
       " u'binary_crowding_NACtex_abs': '14744',\n",
       " u'binary_crowding_ARBTNabcpp': '17675',\n",
       " u'binary_crowding_ALLTN': '17186',\n",
       " u'binary_crowding_GTPCI': '17009',\n",
       " u'binary_crowding_LACZ': '14222',\n",
       " u'binary_crowding_GMPtex_abs': '13361',\n",
       " u'binary_crowding_OBTFL': '17003',\n",
       " u'binary_crowding_GSNK': '13352',\n",
       " u'binary_crowding_AGM4Pt2pp': '17903',\n",
       " u'binary_crowding_DASYN120': '16088',\n",
       " u'binary_crowding_UAG2E_abs': '16766',\n",
       " u'binary_crowding_MDDEP1pp': '14942',\n",
       " u'binary_crowding_OCBT_abs': '15140',\n",
       " u'binary_crowding_ACALDtpp_abs': '15779',\n",
       " u'binary_crowding_ASNabcpp': '12503',\n",
       " u'binary_crowding_IPPMIb_abs': '17780',\n",
       " u'binary_crowding_MELIBt3ipp': '13775',\n",
       " u'binary_crowding_PYDAMtpp': '17126',\n",
       " u'binary_crowding_NI2t3pp': '16661',\n",
       " u'binary_crowding_NADH16pp': '13196',\n",
       " u'binary_crowding_G1PACT': '14444',\n",
       " u'binary_crowding_FE2t3pp': '15146',\n",
       " u'binary_crowding_MSO3tex_abs': '14957',\n",
       " u'binary_crowding_PIt2rpp_abs': '15587',\n",
       " u'binary_crowding_PSD160': '18509',\n",
       " u'binary_crowding_PSD161': '16865',\n",
       " u'binary_crowding_FEENTERexs': '13625',\n",
       " u'binary_crowding_HCYSMT2': '14252',\n",
       " u'binary_crowding_UDCPDPS': '14051',\n",
       " u'binary_crowding_INStex_abs': '15983',\n",
       " u'binary_crowding_PPNDH': '16781',\n",
       " u'binary_crowding_Kabcpp': '16124',\n",
       " u'binary_crowding_DKGLCNR2x': '17354',\n",
       " u'binary_crowding_DKGLCNR2y': '14276',\n",
       " u'binary_crowding_GCALDD': '15104',\n",
       " u'binary_crowding_ECAP2pp': '14537',\n",
       " u'binary_crowding_HPYRRx': '15338',\n",
       " u'binary_crowding_PGMT_abs': '17459',\n",
       " u'binary_crowding_2AGPEAT120': '15791',\n",
       " u'binary_crowding_BTNtex_abs': '12980',\n",
       " u'binary_crowding_PETNT181pp': '16604',\n",
       " u'binary_crowding_THRA2i': '12560',\n",
       " u'binary_crowding_HYD1pp': '14159',\n",
       " u'binary_crowding_ADCL': '17609',\n",
       " u'binary_crowding_DUMPtex_abs': '15674',\n",
       " u'binary_crowding_GALCTD': '18128',\n",
       " u'binary_crowding_GMAND': '12506',\n",
       " u'binary_crowding_AKGtex_abs': '16676',\n",
       " u'binary_crowding_HDCEAtexi': '17702',\n",
       " u'binary_crowding_ATPHs': '16283',\n",
       " u'binary_crowding_K2L4Aabctex': '14483',\n",
       " u'binary_crowding_NDPK6_abs': '18227',\n",
       " u'binary_crowding_THRabcpp': '15803',\n",
       " u'binary_crowding_DXYLK': '15458',\n",
       " u'binary_crowding_CYSabcpp': '16622',\n",
       " u'binary_crowding_FACOAL60t2pp': '17678',\n",
       " u'binary_crowding_GLYCLTDx': '18401',\n",
       " u'binary_crowding_DCYTD': '12533',\n",
       " u'binary_crowding_ENO_abs': '17603',\n",
       " u'binary_crowding_FE2tex_abs': '15470',\n",
       " u'binary_crowding_DNMPPA': '13307',\n",
       " u'binary_crowding_LCARS_abs': '14366',\n",
       " u'binary_crowding_GLUSy': '16859',\n",
       " u'binary_crowding_ThDPAT': '16034',\n",
       " u'binary_crowding_CTECOAI6_abs': '18347',\n",
       " u'binary_crowding_ETHAt2pp': '15050',\n",
       " u'binary_crowding_HG2abcpp': '15350',\n",
       " u'binary_crowding_LPLIPAL2G160': '18467',\n",
       " u'binary_crowding_LPLIPAL2G161': '15887',\n",
       " u'binary_crowding_PFK_3': '17000',\n",
       " u'binary_crowding_PFK_2': '17075',\n",
       " u'binary_crowding_GLYCAt2rpp_abs': '16166',\n",
       " u'binary_crowding_UMPtex_abs': '13250',\n",
       " u'binary_crowding_BPNT': '16511',\n",
       " u'binary_crowding_DHQS': '15572',\n",
       " u'binary_crowding_ASCBtex_abs': '18353',\n",
       " u'binary_crowding_SERtex_abs': '15389',\n",
       " u'binary_crowding_PLIPA2E161pp': '15320',\n",
       " u'binary_crowding_CSNtex_abs': '14132',\n",
       " u'binary_crowding_DGSNtex_abs': '12656',\n",
       " u'binary_crowding_TMPPP': '16925',\n",
       " u'binary_crowding_GLCP': '17810',\n",
       " u'binary_crowding_PYRtex_abs': '17006',\n",
       " u'binary_crowding_DIMPtex_abs': '14087',\n",
       " u'binary_crowding_NACtpp': '15989',\n",
       " u'binary_crowding_FEOXAMR1': '17405',\n",
       " u'binary_crowding_O16A4Lpp': '13313',\n",
       " u'binary_crowding_FEOXAMR2': '18395',\n",
       " u'binary_crowding_CRNtex_abs': '15935',\n",
       " u'binary_crowding_MALS': '18293',\n",
       " u'binary_crowding_GPDDA3': '17387',\n",
       " u'binary_crowding_FACOAL120t2pp': '13028',\n",
       " u'binary_crowding_AMPTASECG': '17954',\n",
       " u'binary_crowding_NTD7': '18431',\n",
       " u'binary_crowding_XYLtex_abs': '16988',\n",
       " u'binary_crowding_H2Stex_abs': '18260',\n",
       " u'binary_crowding_G6Ptex_abs': '13130',\n",
       " u'binary_crowding_OPHHX': '17690',\n",
       " u'binary_crowding_PG180abcpp': '16652',\n",
       " u'binary_crowding_12PPDRtex_abs': '16706',\n",
       " u'binary_crowding_ADSK': '12521',\n",
       " u'binary_crowding_AMALT4': '14588',\n",
       " u'binary_crowding_AMALT1': '18308',\n",
       " u'binary_crowding_ALLtex_abs': '13430',\n",
       " u'binary_crowding_PG160abcpp': '15053',\n",
       " u'binary_crowding_AMALT2': '18077',\n",
       " u'binary_crowding_GALTptspp': '15488',\n",
       " u'binary_crowding_ADPRDP': '16043',\n",
       " u'binary_crowding_FORtppi': '12878',\n",
       " u'binary_crowding_APG3PAT120': '16523',\n",
       " u'binary_crowding_DAGK120': '18359',\n",
       " u'binary_crowding_AMAOTr_abs': '17135',\n",
       " u'binary_crowding_ADSS': '16505',\n",
       " u'binary_crowding_PFK': '16961',\n",
       " u'binary_crowding_LYSabcpp': '16562',\n",
       " u'binary_crowding_CHOLD': '13571',\n",
       " u'binary_crowding_LALDO2x': '18158',\n",
       " u'binary_crowding_IPDPS': '13871',\n",
       " u'binary_crowding_ACACT5r_abs': '15035',\n",
       " u'binary_crowding_LPLIPAL2ATG161': '12815',\n",
       " u'binary_crowding_LPLIPAL2ATG160': '14519',\n",
       " u'binary_crowding_NTD12': '17984',\n",
       " u'binary_crowding_NTD10': '16412',\n",
       " u'binary_crowding_NTD11': '16358',\n",
       " u'binary_crowding_APH180': '16556',\n",
       " u'binary_crowding_APH181': '14240',\n",
       " u'binary_crowding_FMNAT': '17570',\n",
       " u'binary_crowding_LEUTAi': '16754',\n",
       " u'binary_crowding_NI2uabcpp': '15953',\n",
       " u'binary_crowding_DURIt2pp': '18314',\n",
       " u'binary_crowding_FACOAL140t2pp': '13493',\n",
       " u'binary_crowding_GLYALDtex_abs': '15443',\n",
       " u'binary_crowding_HEX4': '14306',\n",
       " u'binary_crowding_UDCPPtppi': '13115',\n",
       " u'binary_crowding_QUIN2tex_abs': '14435',\n",
       " u'binary_crowding_PLIPA2A180pp': '16685',\n",
       " u'binary_crowding_FECRMexs': '15440',\n",
       " u'binary_crowding_ENTERES2': '12734',\n",
       " u'binary_crowding_ALR4x': '17441',\n",
       " u'binary_crowding_NTD2pp': '15185',\n",
       " u'binary_crowding_LPLIPAL2ATE141': '14027',\n",
       " u'binary_crowding_LPLIPAL2ATE140': '13583',\n",
       " u'binary_crowding_N2Otpp_abs': '13118',\n",
       " u'binary_crowding_OP4ENH': '15110',\n",
       " u'binary_crowding_LPLIPAL2E120': '15377',\n",
       " u'binary_crowding_ALATA_L2': '17897',\n",
       " u'binary_crowding_UDPKAAT_abs': '13601',\n",
       " u'binary_crowding_PPCSCT': '14096',\n",
       " u'binary_crowding_ASPCT': '18302',\n",
       " u'binary_crowding_CMPtex_abs': '16655',\n",
       " u'binary_crowding_PE161abcpp': '17246',\n",
       " u'binary_crowding_HEXt2rpp_abs': '13544',\n",
       " u'binary_crowding_CTECOAI8_abs': '13187',\n",
       " u'binary_crowding_TYRL': '12875',\n",
       " u'binary_crowding_PYDXK': '15287',\n",
       " u'binary_crowding_ADMDC': '16541',\n",
       " u'binary_crowding_ARGabcpp': '14168',\n",
       " u'binary_crowding_SLNTtex_abs': '14645',\n",
       " u'binary_crowding_PSP_Lpp': '16817',\n",
       " u'binary_crowding_ASNNpp': '16205',\n",
       " u'binary_crowding_PPM_abs': '16832',\n",
       " u'binary_crowding_DKGLCNR1': '15707',\n",
       " u'binary_crowding_MCITL2_abs': '16340',\n",
       " u'binary_crowding_2AGPE120tipp': '13688',\n",
       " u'binary_crowding_HCINNMtex_abs': '15392',\n",
       " u'binary_crowding_OCDCAtexi': '17699',\n",
       " u'binary_crowding_LYXt2pp': '18365',\n",
       " u'binary_crowding_CRNDCAL2': '12968',\n",
       " u'binary_crowding_HEMEOS': '18473',\n",
       " u'binary_crowding_SUCOAS_abs': '16964',\n",
       " u'binary_crowding_SDPTA_abs': '18407',\n",
       " u'binary_crowding_UAMAS': '18488',\n",
       " u'binary_crowding_DTARTD': '16217',\n",
       " u'binary_crowding_SPMDtex_abs': '16310',\n",
       " u'binary_crowding_PPAKr_abs': '13742',\n",
       " u'binary_crowding_FACOAE80': '14441',\n",
       " u'binary_crowding_PROGLYtex_abs': '15668',\n",
       " u'binary_crowding_MNtex_abs': '18497',\n",
       " u'binary_crowding_34dhpactex_abs': '12596',\n",
       " u'binary_crowding_CD2tex_abs': '17711',\n",
       " u'binary_crowding_ACMUMptspp': '17234',\n",
       " u'binary_crowding_PPPGO': '17486',\n",
       " u'binary_crowding_PG181abcpp': '13346',\n",
       " u'binary_crowding_ME1': '17423',\n",
       " u'binary_crowding_NTD8pp': '14897',\n",
       " u'binary_crowding_CBItonex': '17873',\n",
       " u'binary_crowding_FHL': '16046',\n",
       " u'binary_crowding_ACANTHAT': '18035',\n",
       " u'binary_crowding_SUCCtex_abs': '17918',\n",
       " u'binary_crowding_ADOCBLS': '14399',\n",
       " u'binary_crowding_BALAt2pp': '15098',\n",
       " u'binary_crowding_UPPRT': '13181',\n",
       " u'binary_crowding_AHCYSNS': '16022',\n",
       " u'binary_crowding_MOAT3C': '17435',\n",
       " u'binary_crowding_GDPMNH': '17183',\n",
       " u'binary_crowding_CLPNS161pp_abs': '13349',\n",
       " u'binary_crowding_GARFT_abs': '14720',\n",
       " u'binary_crowding_ECA4COLIPAabctex': '12884',\n",
       " u'binary_crowding_26DAHtex_abs': '13040',\n",
       " u'binary_crowding_NAMNPP': '15503',\n",
       " u'binary_crowding_2AGPGAT161': '14129',\n",
       " u'binary_crowding_2AGPGAT160': '15416',\n",
       " u'binary_crowding_NADH5': '18356',\n",
       " u'binary_crowding_ACtex_abs': '14351',\n",
       " u'binary_crowding_NADH9': '17411',\n",
       " u'binary_crowding_ARBtex_abs': '16886',\n",
       " u'binary_crowding_SELNPS': '17105',\n",
       " u'binary_crowding_PGPP161pp': '12791',\n",
       " u'binary_crowding_GDPMNP': '15314',\n",
       " u'binary_crowding_DMPPS': '18053',\n",
       " u'binary_crowding_DHORTS_abs': '14981',\n",
       " u'binary_crowding_PTAr_abs': '15617',\n",
       " u'binary_crowding_SUCDi': '16946',\n",
       " u'binary_crowding_GNK': '13205',\n",
       " u'binary_crowding_GND': '15170',\n",
       " u'binary_crowding_GTHOr_abs': '15182',\n",
       " u'binary_crowding_PUNP6_abs': '15383',\n",
       " u'binary_crowding_PLIPA1E180pp': '16091',\n",
       " u'binary_crowding_UGMDDS': '15740',\n",
       " u'binary_crowding_PDE4': '14765',\n",
       " u'binary_crowding_3CMPtex_abs': '15842',\n",
       " u'binary_crowding_CDAPPA160': '16400',\n",
       " u'binary_crowding_14GLUCANtexi': '18107',\n",
       " u'binary_crowding_CRNDabcpp': '12743',\n",
       " u'binary_crowding_SERt2rpp_abs': '16529',\n",
       " u'binary_crowding_OROTt2_2pp': '14837',\n",
       " u'binary_crowding_H2St1pp': '15248',\n",
       " u'binary_crowding_MANGLYCptspp': '14312',\n",
       " u'binary_crowding_DHFR_abs': '14294',\n",
       " u'binary_crowding_3NTD2pp': '12836',\n",
       " u'binary_crowding_HXCT': '15056',\n",
       " u'binary_crowding_MINOHPtexi': '15482',\n",
       " u'binary_crowding_DAGK181': '14864',\n",
       " u'binary_crowding_DAGK180': '16589',\n",
       " u'binary_crowding_THRt2rpp_abs': '14924',\n",
       " u'binary_crowding_ARGDC': '18434',\n",
       " u'binary_crowding_CYStpp': '15683',\n",
       " u'binary_crowding_PA181abcpp': '15059',\n",
       " u'binary_crowding_MOGDS': '16082',\n",
       " u'binary_crowding_SO3tex_abs': '17225',\n",
       " u'binary_crowding_N2Otex_abs': '15689',\n",
       " u'binary_crowding_23DAPPAtex_abs': '14855',\n",
       " u'binary_crowding_GLYt4pp': '14348',\n",
       " u'binary_crowding_CYANST': '14318',\n",
       " u'binary_crowding_ACBIPGT': '17987',\n",
       " u'binary_crowding_HPPPNt2rpp_abs': '17558',\n",
       " u'binary_crowding_ETOHtex_abs': '18326',\n",
       " u'binary_crowding_HXAtex_abs': '17555',\n",
       " u'binary_crowding_TARTRt7pp_abs': '14012',\n",
       " u'binary_crowding_CO2tex_abs': '13022',\n",
       " u'binary_crowding_AB6PGH': '16937',\n",
       " u'binary_crowding_METAT': '18380',\n",
       " u'binary_crowding_H2Otpp_abs': '16619',\n",
       " u'binary_crowding_MLDEP2pp': '18266',\n",
       " u'binary_crowding_ATPS4rpp_abs': '15485',\n",
       " u'binary_crowding_CPH4S': '13481',\n",
       " u'binary_crowding_TARTD': '17360',\n",
       " u'binary_crowding_FACOAE161': '12794',\n",
       " u'binary_crowding_2AGPG140tipp': '12959',\n",
       " u'binary_crowding_FALDtex_abs': '13898',\n",
       " u'binary_crowding_PGAMT_abs': '17501',\n",
       " u'binary_crowding_PYDXNK': '18098',\n",
       " u'binary_crowding_PAPSR2': '12719',\n",
       " u'binary_crowding_GLYCK2': '13235',\n",
       " u'binary_crowding_ARGSL_abs': '18338',\n",
       " u'binary_crowding_ASP1DC': '13157',\n",
       " u'binary_crowding_23PDE2pp': '14078',\n",
       " u'binary_crowding_NNAM': '14060',\n",
       " u'binary_crowding_CINNDO': '14243',\n",
       " u'binary_crowding_BUTt2rpp_abs': '17138',\n",
       " u'binary_crowding_R1PK': '15113',\n",
       " u'binary_crowding_PACALDt2rpp_abs': '18440',\n",
       " u'binary_crowding_HYXNtex_abs': '16037',\n",
       " u'binary_crowding_MMETt2pp': '16856',\n",
       " u'binary_crowding_PRAIS': '16049',\n",
       " u'binary_crowding_PGL': '17846',\n",
       " u'binary_crowding_ECAP3pp': '13055',\n",
       " u'binary_crowding_ORPT_abs': '16805',\n",
       " u'binary_crowding_PROtex_abs': '18248',\n",
       " u'binary_crowding_IPMD': '17798',\n",
       " u'binary_crowding_ADNK1': '17237',\n",
       " u'binary_crowding_FDH5pp': '13223',\n",
       " u'binary_crowding_PTHRpp': '15044',\n",
       " u'binary_crowding_TAURabcpp': '17951',\n",
       " u'binary_crowding_PAPA160pp': '17048',\n",
       " u'binary_crowding_GMPR': '15041',\n",
       " u'binary_crowding_LIPAHTex': '13637',\n",
       " u'binary_crowding_APPLDHr_abs': '15800',\n",
       " u'binary_crowding_UPLA4FNF': '16433',\n",
       " u'binary_crowding_PGPP161': '17363',\n",
       " u'binary_crowding_PGPP160': '18290',\n",
       " u'binary_crowding_GLYCLTt4pp': '14165',\n",
       " u'binary_crowding_PGP181abcpp': '14285',\n",
       " u'binary_crowding_PAPA161pp': '16370',\n",
       " u'binary_crowding_CBIuabcpp': '13619',\n",
       " u'binary_crowding_MALDDH': '14624',\n",
       " u'binary_crowding_NO2tex_abs': '16130',\n",
       " u'binary_crowding_TMDK1': '12545',\n",
       " u'binary_crowding_LIPAHT2ex': '16223',\n",
       " u'binary_crowding_CSNt2pp': '14360',\n",
       " u'binary_crowding_DHPTDNRN': '15653',\n",
       " u'binary_crowding_GRTT': '17162',\n",
       " u'binary_crowding_TREH': '14849',\n",
       " u'binary_crowding_TREtex_abs': '17978',\n",
       " u'binary_crowding_CAT': '18110',\n",
       " u'binary_crowding_CAt6pp_abs': '16193',\n",
       " u'binary_crowding_MDDCP3pp': '15407',\n",
       " u'binary_crowding_PPPGO3': '17297',\n",
       " u'binary_crowding_CRNt8pp': '16481',\n",
       " u'binary_crowding_ADNtex_abs': '13928',\n",
       " u'binary_crowding_GUACYC': '12488',\n",
       " u'binary_crowding_ACS': '12728',\n",
       " u'binary_crowding_42A12BOOXpp': '16673',\n",
       " u'binary_crowding_GPDDA4': '13895',\n",
       " u'binary_crowding_GPDDA5': '12935',\n",
       " u'binary_crowding_PGP120abcpp': '12524',\n",
       " u'binary_crowding_2AGPEAT141': '18329',\n",
       " u'binary_crowding_2AGPEAT140': '15749',\n",
       " u'binary_crowding_DMQMT': '14561',\n",
       " u'binary_crowding_CD2abcpp': '16658',\n",
       " u'binary_crowding_GLCUR1Ptex_abs': '17375',\n",
       " u'binary_crowding_RZ5PP': '18122',\n",
       " u'binary_crowding_ARGORNt7pp_abs': '17402',\n",
       " u'binary_crowding_MELIBt2pp': '14705',\n",
       " u'binary_crowding_PNTK': '16985',\n",
       " u'binary_crowding_FRD2': '16403',\n",
       " u'binary_crowding_FRD3': '12761',\n",
       " u'binary_crowding_ARBabcpp': '13562',\n",
       " u'binary_crowding_O16AP3pp': '13094',\n",
       " u'binary_crowding_FE2tpp': '18209',\n",
       " u'binary_crowding_DXPS': '17948',\n",
       " u'binary_crowding_SUCRtex_abs': '16814',\n",
       " u'binary_crowding_QULNS': '15353',\n",
       " u'binary_crowding_SELtex_abs': '15815',\n",
       " u'binary_crowding_PGI_abs': '16763',\n",
       " u'binary_crowding_GLYOX': '17882',\n",
       " u'binary_crowding_GALabcpp': '15347',\n",
       " u'binary_crowding_ADCS': '17924',\n",
       " u'binary_crowding_OPHBDC': '16394',\n",
       " u'binary_crowding_HMPK1': '18452',\n",
       " u'binary_crowding_PLIPA2E160pp': '14795',\n",
       " u'binary_crowding_PE120abcpp': '15635',\n",
       " u'binary_crowding_CLPNS180pp_abs': '15644',\n",
       " u'binary_crowding_12PPDStex_abs': '12914',\n",
       " u'binary_crowding_GUI1_abs': '18485',\n",
       " u'binary_crowding_5DGLCNtex_abs': '15782',\n",
       " u'binary_crowding_ICHORT': '14831',\n",
       " u'binary_crowding_AMPN': '12809',\n",
       " u'binary_crowding_PHEt2rpp_abs': '14876',\n",
       " u'binary_crowding_S7PI': '12713',\n",
       " u'binary_crowding_ACt2rpp_abs': '15008',\n",
       " u'binary_crowding_LPLIPAL2G181': '17696',\n",
       " u'binary_crowding_FDH4pp': '15020',\n",
       " u'binary_crowding_H2tex_abs': '15680',\n",
       " u'binary_crowding_FORt2pp': '14732',\n",
       " u'binary_crowding_ACOAD1f_abs': '18383',\n",
       " u'binary_crowding_MCTP1App': '16079',\n",
       " u'binary_crowding_ORNtex_abs': '17720',\n",
       " u'binary_crowding_HACD5_abs': '15626',\n",
       " u'binary_crowding_CPPPGO2': '12542',\n",
       " u'binary_crowding_MANptspp': '18332',\n",
       " u'binary_crowding_MI1PP': '15524',\n",
       " u'binary_crowding_Htex_abs': '18062',\n",
       " u'binary_crowding_AGM3PApp': '16553',\n",
       " u'binary_crowding_URDGLYCD': '15032',\n",
       " u'binary_crowding_HCINNMt2rpp_abs': '14486',\n",
       " u'binary_crowding_INDOLEt2pp': '14582',\n",
       " u'binary_crowding_MCTP2App': '15230',\n",
       " u'binary_crowding_LIPAabcpp': '12722',\n",
       " u'binary_crowding_PGSA120': '14558',\n",
       " u'binary_crowding_LCTStpp_abs': '15884',\n",
       " u'binary_crowding_SOTA': '15548',\n",
       " u'binary_crowding_ALAt4pp': '16955',\n",
       " u'binary_crowding_DSERDHr_abs': '17525',\n",
       " u'binary_crowding_DTMPtex_abs': '18251',\n",
       " u'binary_crowding_NI2tex_abs': '17993',\n",
       " u'binary_crowding_12DGR120tipp': '17252',\n",
       " u'binary_crowding_NH4tex_abs': '12839',\n",
       " u'binary_crowding_NTD1pp': '14489',\n",
       " u'binary_crowding_IPPS': '17090',\n",
       " u'binary_crowding_PA160abcpp': '14381',\n",
       " u'binary_crowding_MLTP2_abs': '17762',\n",
       " u'binary_crowding_GTPtex_abs': '15899',\n",
       " u'binary_crowding_CU1abcpp': '12716',\n",
       " u'binary_crowding_BALAtex_abs': '12908',\n",
       " u'binary_crowding_DMStex_abs': '15425',\n",
       " u'binary_crowding_R15BPK': '12569',\n",
       " u'binary_crowding_SADH': '14354',\n",
       " u'binary_crowding_ACACT2r_abs': '17669',\n",
       " u'binary_crowding_HDCAtexi': '14930',\n",
       " u'binary_crowding_THYMt3pp': '15074',\n",
       " u'binary_crowding_LPLIPAL2ATG181': '17960',\n",
       " u'binary_crowding_LPLIPAL2ATG180': '16343',\n",
       " u'binary_crowding_UAAGDS': '13121',\n",
       " u'binary_crowding_UDPGLCURtex_abs': '14879',\n",
       " u'binary_crowding_LALALGLUtpp': '14702',\n",
       " u'binary_crowding_H2O2tex_abs': '12683',\n",
       " u'binary_crowding_PLIPA2E120pp': '17192',\n",
       " u'binary_crowding_AICART_abs': '16256',\n",
       " u'binary_crowding_O16A4COLIPAabctex': '16829',\n",
       " u'binary_crowding_NO3R2pp': '15257',\n",
       " u'binary_crowding_APH140': '15566',\n",
       " u'binary_crowding_APH141': '14609',\n",
       " u'binary_crowding_LPLIPAL2ATE120': '13142',\n",
       " u'binary_crowding_O16AP2pp': '17222',\n",
       " u'binary_crowding_NDPK4_abs': '13070',\n",
       " u'binary_crowding_FACOAL181t2pp': '13256',\n",
       " u'binary_crowding_ECOAH5_abs': '13379',\n",
       " u'binary_crowding_G1SAT_abs': '14615',\n",
       " u'binary_crowding_GTHRDabcpp': '14393',\n",
       " u'binary_crowding_HACD3_abs': '16574',\n",
       " u'binary_crowding_ME2': '18203',\n",
       " u'binary_crowding_ASPtex_abs': '13652',\n",
       " u'binary_crowding_FALDH2_abs': '16466',\n",
       " u'binary_crowding_MTHFD_abs': '14057',\n",
       " u'binary_crowding_DCYTtex_abs': '12704',\n",
       " u'binary_crowding_DMSOtpp_abs': '16664',\n",
       " u'binary_crowding_DMSOtex_abs': '13151',\n",
       " u'binary_crowding_RBK': '18398',\n",
       " u'binary_crowding_UDPGDC': '12581',\n",
       " u'binary_crowding_MALt2_2pp': '13889',\n",
       " u'binary_crowding_ZN2t3pp': '16940',\n",
       " u'binary_crowding_KARA1_abs': '16868',\n",
       " u'binary_crowding_GLYCDx': '16025',\n",
       " u'binary_crowding_ASPO6': '16064',\n",
       " u'binary_crowding_ASPO4': '13817',\n",
       " u'binary_crowding_ASPO5': '15569',\n",
       " u'binary_crowding_ASPO3': '18257',\n",
       " u'binary_crowding_TYRPpp': '13598',\n",
       " u'binary_crowding_RPE_abs': '18458',\n",
       " u'binary_crowding_FBA3_abs': '14753',\n",
       " u'binary_crowding_DMSOR1pp': '18008',\n",
       " u'binary_crowding_ACOAD7f_abs': '18080',\n",
       " u'binary_crowding_ACGS': '15611',\n",
       " u'binary_crowding_NADTRHD': '15863',\n",
       " u'binary_crowding_HACD4_abs': '18218',\n",
       " u'binary_crowding_23CCMPtex_abs': '18143',\n",
       " u'binary_crowding_CRNDtex_abs': '13400',\n",
       " u'binary_crowding_ACGK': '13739',\n",
       " u'binary_crowding_XYLUt2pp': '16439',\n",
       " u'binary_crowding_GDPtex_abs': '15446',\n",
       " u'binary_crowding_XANtex_abs': '16289',\n",
       " u'binary_crowding_HOMt2pp': '15158',\n",
       " u'binary_crowding_A5PISO_abs': '18086',\n",
       " u'binary_crowding_PGPP160pp': '13841',\n",
       " u'binary_crowding_O2tpp_abs': '16085',\n",
       " u'binary_crowding_O2tex_abs': '13502',\n",
       " u'binary_crowding_ZNabcpp': '13640',\n",
       " u'binary_crowding_PRAMPC': '16427',\n",
       " u'binary_crowding_PUNP1_abs': '17276',\n",
       " u'binary_crowding_FEENTERabcpp': '16451',\n",
       " u'binary_crowding_MALTPTtexi': '16721',\n",
       " u'binary_crowding_R5PPpp': '17693',\n",
       " u'binary_crowding_MTHFR2': '17084',\n",
       " u'binary_crowding_SKMt2pp': '17888',\n",
       " u'binary_crowding_CITt3pp': '18461',\n",
       " u'binary_crowding_CLPNH181pp': '14480',\n",
       " u'binary_crowding_PLIPA1E181pp': '13517',\n",
       " u'binary_crowding_DUTPDP': '14678',\n",
       " u'binary_crowding_ARGAGMt7pp_abs': '13589',\n",
       " u'binary_crowding_GTHPi': '15914',\n",
       " u'binary_crowding_XANtpp_abs': '13703',\n",
       " u'binary_crowding_MOHMT': '17717',\n",
       " u'binary_crowding_GLUDC': '18047',\n",
       " u'binary_crowding_2AGPGAT141': '15023',\n",
       " u'binary_crowding_2AGPGAT140': '12497',\n",
       " u'binary_crowding_FRULYSE_abs': '17120',\n",
       " u'binary_crowding_TAURtex_abs': '13076',\n",
       " u'binary_crowding_UPP3S': '16409',\n",
       " u'binary_crowding_MOBDtex_abs': '15911',\n",
       " u'binary_crowding_TALA_abs': '14909',\n",
       " u'binary_crowding_HEPT4': '15614',\n",
       " u'binary_crowding_ECOAH8_abs': '14111',\n",
       " u'binary_crowding_HEPT2': '16121',\n",
       " u'binary_crowding_HEPT3': '18206',\n",
       " u'binary_crowding_ASAD_abs': '15761',\n",
       " u'binary_crowding_NODOy': '15902',\n",
       " u'binary_crowding_NODOx': '16232',\n",
       " u'binary_crowding_PGP161abcpp': '14333',\n",
       " u'binary_crowding_HSDy_abs': '13139',\n",
       " u'binary_crowding_PLIPA1E140pp': '15200',\n",
       " u'binary_crowding_ABUTD': '13259',\n",
       " u'binary_crowding_GALUi': '17909',\n",
       " u'binary_crowding_THRt2pp': '17153',\n",
       " u'binary_crowding_LPLIPAL1E180pp': '14501',\n",
       " u'binary_crowding_FCI_abs': '16436',\n",
       " u'binary_crowding_LYStex_abs': '13088',\n",
       " u'binary_crowding_2DGULRy': '15671',\n",
       " u'binary_crowding_2DGULRx': '14771',\n",
       " u'binary_crowding_DAPE_abs': '14579',\n",
       " u'binary_crowding_DHAtex_abs': '17792',\n",
       " u'binary_crowding_PRAGSr_abs': '17522',\n",
       " u'binary_crowding_CYSDDS': '15461',\n",
       " u'binary_crowding_PEAMNOpp': '17912',\n",
       " u'binary_crowding_CRNCAR_abs': '16445',\n",
       " u'binary_crowding_DMSOR2pp': '16148',\n",
       " u'binary_crowding_ILETA_abs': '12947',\n",
       " u'binary_crowding_PRMICI_abs': '15908',\n",
       " u'binary_crowding_CDAPPA141': '14576',\n",
       " u'binary_crowding_CDAPPA140': '15491',\n",
       " u'binary_crowding_UM4PL': '14375',\n",
       " u'binary_crowding_RBFK': '17477',\n",
       " u'binary_crowding_PGPP120pp': '18449',\n",
       " u'binary_crowding_PROGLYabcpp': '15590',\n",
       " u'binary_crowding_HEPT1': '13994',\n",
       " u'binary_crowding_NAtex_abs': '18269',\n",
       " u'binary_crowding_DASYN140': '12881',\n",
       " u'binary_crowding_HETZK': '17273',\n",
       " u'binary_crowding_DASYN141': '12593',\n",
       " u'binary_crowding_12DGR181tipp': '16151',\n",
       " u'binary_crowding_DGMPtex_abs': '17279',\n",
       " u'binary_crowding_HPYRI_abs': '13304',\n",
       " u'binary_crowding_NADDP': '16715',\n",
       " u'binary_crowding_PLIPA1G140pp': '13397',\n",
       " u'binary_crowding_THRAi': '15971',\n",
       " u'binary_crowding_CTECOAI7_abs': '16709',\n",
       " u'binary_crowding_DHCINDO': '13514',\n",
       " u'binary_crowding_PPCK': '18071',\n",
       " u'binary_crowding_FORtex_abs': '15713',\n",
       " u'binary_crowding_ALCD2x_abs': '16949',\n",
       " u'binary_crowding_PPAt4pp': '17357',\n",
       " u'binary_crowding_ICDHyr_abs': '14759',\n",
       " u'binary_crowding_IPPMIa_abs': '16487',\n",
       " u'binary_crowding_GLYC3Pt6pp': '12779',\n",
       " u'binary_crowding_CLPNS181pp_abs': '14660',\n",
       " u'binary_crowding_NI2tpp': '16901',\n",
       " u'binary_crowding_DHNPTE_abs': '17996',\n",
       " u'binary_crowding_AMMQLT8': '18191',\n",
       " u'binary_crowding_CLPNH180pp': '15155',\n",
       " u'binary_crowding_ADPT': '15086',\n",
       " u'binary_crowding_TDPDRR': '13985',\n",
       " u'binary_crowding_23DAPPAt2pp': '17516',\n",
       " u'binary_crowding_GLCRAL': '15665',\n",
       " u'binary_crowding_TDPDRE': '14606',\n",
       " u'binary_crowding_LPLIPAL1E181pp': '15194',\n",
       " u'binary_crowding_SLNTtpp': '14183',\n",
       " u'binary_crowding_AADDGT': '16919',\n",
       " u'binary_crowding_GALCTNLt2pp': '12755',\n",
       " u'binary_crowding_AGMtex_abs': '14990',\n",
       " u'binary_crowding_PRASCSi': '17684',\n",
       " u'binary_crowding_COLIPAPabctex': '18410',\n",
       " u'binary_crowding_12DGR160tipp': '13061',\n",
       " u'binary_crowding_BTNt2ipp': '15554',\n",
       " u'binary_crowding_FACOAE141': '13733',\n",
       " u'binary_crowding_CYTDH': '15449',\n",
       " u'binary_crowding_FE3DCITtonex': '13097',\n",
       " u'binary_crowding_CUt3': '16178',\n",
       " u'binary_crowding_ADEtex_abs': '13412',\n",
       " u'binary_crowding_FUSAtex_abs': '14138',\n",
       " u'binary_crowding_3HCINNMH': '17906',\n",
       " u'binary_crowding_TPRDCOAS': '13673',\n",
       " u'binary_crowding_IPDDI_abs': '15497',\n",
       " u'binary_crowding_MLDCP2Bpp': '15263',\n",
       " u'binary_crowding_GLYCL': '13931',\n",
       " u'binary_crowding_NAt3_1p5pp': '16208',\n",
       " u'binary_crowding_PAPA120': '17102',\n",
       " u'binary_crowding_CRNCBCT_abs': '14768',\n",
       " u'binary_crowding_UGLT_abs': '17465',\n",
       " u'binary_crowding_ACNAMt2pp': '16313',\n",
       " u'binary_crowding_SULabcpp': '17825',\n",
       " u'binary_crowding_ACMUMtex': '13727',\n",
       " u'binary_crowding_G3PD2_abs': '15920',\n",
       " u'binary_crowding_UAGPT3': '14987',\n",
       " u'binary_crowding_G3PIabcpp': '16550',\n",
       " u'binary_crowding_MDH_abs': '17264',\n",
       " u'binary_crowding_GLUPRT': '17168',\n",
       " u'binary_crowding_GLUt2rpp_abs': '18074',\n",
       " u'binary_crowding_OMMBLHX': '16298',\n",
       " u'binary_crowding_PYROX': '14210',\n",
       " u'binary_crowding_FRUURtex_abs': '16907',\n",
       " u'binary_crowding_5DGLCNt2rpp_abs': '17885',\n",
       " u'binary_crowding_GLNS': '16328',\n",
       " u'binary_crowding_CBLAT_abs': '17240',\n",
       " u'binary_crowding_MLTP3_abs': '12626',\n",
       " u'binary_crowding_ASR': '18482',\n",
       " u'binary_crowding_AST': '14939',\n",
       " u'binary_crowding_PLIPA1G141pp': '17177',\n",
       " u'binary_crowding_DASYN180': '15917',\n",
       " u'binary_crowding_DASYN181': '12629',\n",
       " u'binary_crowding_DHNCOAS': '16145',\n",
       " u'binary_crowding_PGPP141': '13145',\n",
       " u'binary_crowding_PGPP140': '16136',\n",
       " u'binary_crowding_DHNCOAT': '13766',\n",
       " u'binary_crowding_LPLIPAL2A160': '14975',\n",
       " u'binary_crowding_PYK': '14009',\n",
       " u'binary_crowding_METOX2s': '18134',\n",
       " u'binary_crowding_NADH18pp': '14828',\n",
       " u'binary_crowding_PAPA120pp': '13751',\n",
       " u'binary_crowding_12DGR140tipp': '15857',\n",
       " u'binary_crowding_GTPCII2': '17339',\n",
       " u'binary_crowding_NOtpp_abs': '15362',\n",
       " u'binary_crowding_HOMtex_abs': '16115',\n",
       " u'binary_crowding_PLIPA2G141pp': '15077',\n",
       " u'binary_crowding_MANAO_abs': '18194',\n",
       " u'binary_crowding_CYSS': '13364',\n",
       " u'binary_crowding_DHPTDNR': '12860',\n",
       " u'binary_crowding_UDCPDP': '14945',\n",
       " u'binary_crowding_MALTtexi': '15737',\n",
       " u'binary_crowding_3HPPtpp': '13538',\n",
       " u'binary_crowding_SPMS': '16271',\n",
       " u'binary_crowding_ARBTptspp': '13073',\n",
       " u'binary_crowding_2AGPEAT161': '18095',\n",
       " u'binary_crowding_2AGPEAT160': '12944',\n",
       " u'binary_crowding_G5SD': '17723',\n",
       " u'binary_crowding_ISETACtex_abs': '15206',\n",
       " u'binary_crowding_GUI2_abs': '14045',\n",
       " u'binary_crowding_RIBtex_abs': '16787',\n",
       " u'binary_crowding_VPAMTr_abs': '14630',\n",
       " u'binary_crowding_GLUN': '16190',\n",
       " u'binary_crowding_DC6PH': '17390',\n",
       " u'binary_crowding_23PDE9pp': '14321',\n",
       " u'binary_crowding_DHAPT': '16142',\n",
       " u'binary_crowding_KG6PDC': '15386',\n",
       " u'binary_crowding_LALADGLUtex_abs': '13343',\n",
       " u'binary_crowding_LIPATPT': '14363',\n",
       " u'binary_crowding_LYXtex_abs': '16601',\n",
       " u'binary_crowding_PLIPA2A120pp': '15881',\n",
       " u'binary_crowding_NMNt7pp': '12485',\n",
       " u'binary_crowding_URAtex_abs': '16040',\n",
       " u'binary_crowding_CLt3_2pp': '16973',\n",
       " u'binary_crowding_THDPS': '13748',\n",
       " u'binary_crowding_4HTHRS': '16520',\n",
       " u'binary_crowding_ADK1_abs': '17807',\n",
       " u'binary_crowding_SHK3Dr_abs': '13106',\n",
       " u'binary_crowding_MECDPS': '17651',\n",
       " u'binary_crowding_FE3tex_abs': '15212',\n",
       " u'binary_crowding_3HPPtex_abs': '13085',\n",
       " u'binary_crowding_AGM4PCP': '14495',\n",
       " u'binary_crowding_GLYCLTDy': '15809',\n",
       " u'binary_crowding_NH4tpp_abs': '16367',\n",
       " u'binary_crowding_PPBNGS': '16892',\n",
       " u'binary_crowding_ADOCBIK': '13682',\n",
       " u'binary_crowding_PRATPP': '14108',\n",
       " u'binary_crowding_G3PItex_abs': '18404',\n",
       " u'binary_crowding_GUR1PPpp': '13385',\n",
       " u'binary_crowding_NTRIR4pp': '15167',\n",
       " u'binary_crowding_GUAtex_abs': '13322',\n",
       " u'binary_crowding_2AGPEAT181': '13643',\n",
       " u'binary_crowding_GLUDy_abs': '14585',\n",
       " u'binary_crowding_SKMtex_abs': '13013',\n",
       " u'binary_crowding_PIuabcpp': '13796',\n",
       " u'binary_crowding_CYNTAH': '17546',\n",
       " u'binary_crowding_NTD8': '17495',\n",
       " u'binary_crowding_NTD9': '16577',\n",
       " u'binary_crowding_NTD4': '17795',\n",
       " u'binary_crowding_NTD5': '15134',\n",
       " u'binary_crowding_NTD6': '16799',\n",
       " u'binary_crowding_DHPTDCs2': '17483',\n",
       " u'binary_crowding_3HPPPNH': '18161',\n",
       " u'binary_crowding_NTD1': '14642',\n",
       " u'binary_crowding_NTD2': '13550',\n",
       " u'binary_crowding_12DGR141tipp': '13964',\n",
       " u'binary_crowding_LYXI': '13760',\n",
       " u'binary_crowding_DSERtex_abs': '16613',\n",
       " u'binary_crowding_GAM6Pt6_2pp': '15116',\n",
       " u'binary_crowding_NMNN': '17621',\n",
       " u'binary_crowding_SSALx': '16286',\n",
       " u'binary_crowding_SSALy': '13700',\n",
       " u'binary_crowding_O16AP1pp': '16565',\n",
       " u'binary_crowding_LPLIPAL1G180pp': '12650',\n",
       " u'binary_crowding_MOCOS': '17015',\n",
       " u'binary_crowding_GDPDPK': '13664',\n",
       " ...}"
      ]
     },
     "execution_count": 52,
     "metadata": {},
     "output_type": "execute_result"
    }
   ],
   "source": [
    "rids = [r.id for r in gap.reactions]\n",
    "yid_dict = {y.VarName:rids[int(y.VarName)] for y in decomposer._y0}\n",
    "y_inds = {rids[int(y.VarName)]:y.VarName for y in decomposer._y0}\n",
    "y_inds"
   ]
  },
  {
   "cell_type": "code",
   "execution_count": 59,
   "metadata": {
    "collapsed": false
   },
   "outputs": [
    {
     "name": "stdout",
     "output_type": "stream",
     "text": [
      "binary_crowding_GK1_abs 1.0 -0.0 -0.0\n",
      "binary_crowding_ATPS4rpp_abs 1.0 1.0 1.0\n"
     ]
    }
   ],
   "source": [
    "for rxn in gap.reactions.query('binary_'):\n",
    "    if rxn.x > 0.99:\n",
    "        xmilp = sol.x_dict[rxn.id]\n",
    "        xbend = y_dict[y_inds[rxn.id]]\n",
    "        print rxn, rxn.x, xmilp, xbend"
   ]
  }
 ],
 "metadata": {
  "kernelspec": {
   "display_name": "Python 2",
   "language": "python",
   "name": "python2"
  },
  "language_info": {
   "codemirror_mode": {
    "name": "ipython",
    "version": 2
   },
   "file_extension": ".py",
   "mimetype": "text/x-python",
   "name": "python",
   "nbconvert_exporter": "python",
   "pygments_lexer": "ipython2",
   "version": "2.7.14"
  }
 },
 "nbformat": 4,
 "nbformat_minor": 2
}
