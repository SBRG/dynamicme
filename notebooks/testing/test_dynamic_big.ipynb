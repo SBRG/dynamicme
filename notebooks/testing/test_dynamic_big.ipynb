{
 "cells": [
  {
   "cell_type": "markdown",
   "metadata": {
    "deletable": true,
    "editable": true
   },
   "source": [
    "# Simulate proteome time profiles. Perturbation midway by removing carbon source, forcing starvation"
   ]
  },
  {
   "cell_type": "code",
   "execution_count": 158,
   "metadata": {
    "collapsed": true
   },
   "outputs": [],
   "source": [
    "import seaborn as sns\n",
    "import pandas as pd\n",
    "\n",
    "sns.plt.rcParams['svg.fonttype'] = 'none'\n",
    "pd.set_option('display.max_colwidth', -1)\n",
    "#pd.set_option('display.float_format', lambda x: '%.3g' % x)\n",
    "%matplotlib inline"
   ]
  },
  {
   "cell_type": "code",
   "execution_count": 1,
   "metadata": {
    "collapsed": true,
    "deletable": true,
    "editable": true
   },
   "outputs": [],
   "source": [
    "PROTOTYPE = False"
   ]
  },
  {
   "cell_type": "code",
   "execution_count": 2,
   "metadata": {
    "collapsed": true,
    "deletable": true,
    "editable": true
   },
   "outputs": [],
   "source": [
    "from dynamicme.tests.helpme import HelpME\n",
    "from dynamicme.dynamic import get_cplx_concs\n",
    "\n",
    "helper = HelpME(prototyping=PROTOTYPE)\n",
    "solver = helper.solver\n",
    "me = solver.me"
   ]
  },
  {
   "cell_type": "code",
   "execution_count": 3,
   "metadata": {
    "collapsed": true,
    "deletable": true,
    "editable": true
   },
   "outputs": [],
   "source": [
    "cplx_concs_max = get_cplx_concs(solver)"
   ]
  },
  {
   "cell_type": "markdown",
   "metadata": {
    "deletable": true,
    "editable": true
   },
   "source": [
    "## Make sure delayme works"
   ]
  },
  {
   "cell_type": "code",
   "execution_count": 4,
   "metadata": {
    "collapsed": false,
    "deletable": true,
    "editable": true
   },
   "outputs": [
    {
     "name": "stdout",
     "output_type": "stream",
     "text": [
      "mu of ME: 0.911689453125\n"
     ]
    }
   ],
   "source": [
    "mu_me = me.solution.x_dict['biomass_dilution']\n",
    "print 'mu of ME:', mu_me"
   ]
  },
  {
   "cell_type": "code",
   "execution_count": 5,
   "metadata": {
    "collapsed": true,
    "deletable": true,
    "editable": true
   },
   "outputs": [],
   "source": [
    "from dynamicme.dynamic import DelayedDynamicME\n",
    "\n",
    "dyme = DelayedDynamicME(solver)\n",
    "dyme.delay_model.solver.set_realopts('lp', {'Feasibility tol':1e-15,'Optimality tol':1e-15})\n",
    "dsolver = dyme.delay_model.solver"
   ]
  },
  {
   "cell_type": "code",
   "execution_count": 6,
   "metadata": {
    "collapsed": false,
    "deletable": true,
    "editable": true
   },
   "outputs": [
    {
     "name": "stdout",
     "output_type": "stream",
     "text": [
      "DelayME: optimal at 0.911689453125\n",
      "CPU times: user 3min 35s, sys: 357 ms, total: 3min 36s\n",
      "Wall time: 3min 35s\n"
     ]
    }
   ],
   "source": [
    "%%time\n",
    "### Make sure it solves\n",
    "dyme.delay_model.update_cplx_concs(cplx_concs_max)\n",
    "dyme.delay_model.update_horizon(0.01)\n",
    "x,stat,hs = dsolver.solvelp(mu_me, basis=dsolver.lp_hs)\n",
    "dme = dyme.delay_model.mod_me\n",
    "print 'DelayME:', stat, 'at', dme.reactions.biomass_dilution.x\n",
    "x_dict_max = dict(dsolver.me.solution.x_dict)"
   ]
  },
  {
   "cell_type": "code",
   "execution_count": 7,
   "metadata": {
    "collapsed": true,
    "deletable": true,
    "editable": true
   },
   "outputs": [],
   "source": [
    "basis_maxmu = dsolver.lp_hs.copy()"
   ]
  },
  {
   "cell_type": "markdown",
   "metadata": {
    "deletable": true,
    "editable": true
   },
   "source": [
    "# Test 2: Should be able to grow at any slower rate starting from initial proteome for faster growth\n",
    "- can just scale down formation rates\n",
    "- as long as rxns allowed to be slower than keff*E, which we did do here"
   ]
  },
  {
   "cell_type": "code",
   "execution_count": null,
   "metadata": {
    "collapsed": true,
    "deletable": true,
    "editable": true
   },
   "outputs": [],
   "source": [
    "%%time\n",
    "\n",
    "dyme.delay_model.update_cplx_concs(cplx_concs_max)\n",
    "dyme.delay_model.update_horizon(0.01)\n",
    "x,stat,hs = dsolver.solvelp(mu_me*0.5, basis=basis_maxmu)"
   ]
  },
  {
   "cell_type": "code",
   "execution_count": 10,
   "metadata": {
    "collapsed": false,
    "deletable": true,
    "editable": true
   },
   "outputs": [
    {
     "name": "stdout",
     "output_type": "stream",
     "text": [
      "optimal\n"
     ]
    }
   ],
   "source": [
    "print stat\n",
    "x_dict_opt2 = dict(dsolver.me.solution.x_dict)\n",
    "cplx_concs_opt2 = get_cplx_concs(dsolver)"
   ]
  },
  {
   "cell_type": "markdown",
   "metadata": {
    "deletable": true,
    "editable": true
   },
   "source": [
    "### Difference in cplx concs? Or no change and just under utilizing enzyme capacity?"
   ]
  },
  {
   "cell_type": "code",
   "execution_count": 11,
   "metadata": {
    "collapsed": false,
    "deletable": true,
    "editable": true
   },
   "outputs": [
    {
     "name": "stdout",
     "output_type": "stream",
     "text": [
      "0                        3.47047958468e-09        FADA-CPLX                \n",
      "1.33353118292e-05        1.32584999713e-05        CPLX0-721_mod_mn2        \n",
      "4.33960463439e-06        4.30039835613e-06        CPLX0-7659               \n",
      "2.5290368877e-05         2.50618823389e-05        GMP-SYN-CPLX_mod_mg2     \n",
      "8.05066146918e-07        7.97792754518e-07        CITRATE-SI-SYNTHASE      \n",
      "4.73810461586e-06        4.69529807848e-06        GARTRANSFORMYL2-MONO     \n",
      "3.06274114759e-05        3.03507072787e-05        ASL-MONOMER              \n",
      "2.02099330781e-09        8.27652676439e-09        RpsJ_mono                \n",
      "1.14598561892e-05        1.13563218011e-05        PPK-CPLX                 \n",
      "3.20015470976e-05        3.17124282341e-05        RIB5PISOMB-CPLX          \n",
      "4.90862852726e-07        4.90527768208e-07        PHOSPHAGLYPSYN-MONOM     \n",
      "1.49095969557e-05        1.4774895789e-05         PRPPSYN-MONOMER_mod_     \n",
      "8.34975610888e-09        8.27432000607e-09        EG11167-MONOMER          \n",
      "2.30508054394e-06        2.28425522992e-06        CPLX0-237                \n",
      "4.19893598905e-10        4.16100058556e-10        KUP-MONOMER              \n",
      "2.14012764562e-10        2.12079260313e-10        THIC-MONOMER             \n",
      "9.7450077206e-09         9.73876179539e-09        MONOMER0-1842            \n",
      "9.24077686966e-08        9.1572908151e-08         InfC_mono                \n",
      "1.91252699972e-10        1.89524822157e-10        GSAAMINOTRANS-CPLX_m     \n",
      "3.83365635595e-08        3.79902108143e-08        CARDIOLIPSYN-MONOMER     \n",
      "3.5522242039e-10         3.52013153595e-10        RlmI_dim                 \n",
      "8.40633835874e-07        8.33039106203e-07        CPLX0-7428               \n",
      "3.04921950439e-07        3.0465092117e-07         1-ACYLGLYCEROL-3-P-A     \n",
      "6.88313179125e-10        6.82094594645e-10        CPLX0-1541               \n",
      "2.7971552705e-08         2.77188429374e-08        CPLX0-7643               \n",
      "2.52092143659e-05        2.49814610205e-05        PRAI-IGPS                \n",
      "5.86316157678e-05        5.81019068113e-05        QUINOPRIBOTRANS-CPLX     \n",
      "9.96248028802e-06        9.87247398395e-06        G7493-MONOMER            \n",
      "1.65955587288e-05        1.64456256938e-05        CTPSYN-CPLX_mod_mg2      \n",
      "3.20741791238e-07        3.21707708104e-07        ALARACEBIOSYN-MONOME     \n",
      "1.06195609764e-08        1.05236182587e-08        EG10626-MONOMER_mod_     \n",
      "1.41201746238e-08        1.40150007736e-08        Lgt_MONOMER              \n",
      "5.44729232197e-06        5.39807860863e-06        6PFK-1-CPX               \n",
      "2.14435867592e-09        2.12498540807e-09        G7431-MONOMER            \n",
      "2.25904591282e-06        2.25909885748e-06        GLYC3PDEHYDROGBIOSYN     \n",
      "1.18106074178e-12        5.56613870371e-09        CPLX0-246_CPLX0-1342     \n",
      "3.68832749912e-09        3.65500520218e-09        transGroES_hepta         \n",
      "5.08077573587e-12        5.07915001744e-12        7KAPSYN-CPLX             \n",
      "3.4844556805e-09         3.45297526915e-09        CPLX0-3952               \n",
      "1.09448352518e-10        1.08459538346e-10        PrfA_mono                \n",
      "3.33232684254e-08        3.33231737824e-08        MALONYL-COA-ACP-TRAN     \n",
      "3.5522242039e-10         3.52013153595e-10        YmfC_mono                \n",
      "3.54344553934e-05        3.51143218247e-05        SecA_MONOMER             \n",
      "2.02099330781e-09        8.27652676439e-09        RplD_mono                \n",
      "3.68832749912e-09        3.65500520218e-09        cisGroES_hepta           \n",
      "3.46651315794e-06        3.43519484881e-06        ANTHRANSYN-CPLX_mod_     \n",
      "2.86526142364e-13        2.83937513995e-13        ABC-7-CPLX               \n",
      "0                        1.39294155676e-11        FLAVONADPREDUCT-MONO     \n",
      "6.76140482355e-05        6.70031872441e-05        GLUTAMIDOTRANS-CPLX      \n",
      "4.82204469156e-12        4.77847979525e-12        CPLX0-7808_mod_mn2       \n",
      "3.16026750184e-09        3.13171597757e-09        DnaJ_dim_mod_4:zn2       \n",
      "1.22192359578e-06        1.21088409321e-06        ACSERLYA-CPLX_mod_2:     \n",
      "3.12810976282e-07        3.09984876853e-07        G7164-MONOMER            \n",
      "1.33787230703e-10        1.32578526262e-10        THIH-MONOMER_THIF-MO     \n",
      "1.5298860268e-05         1.51606422912e-05        IMIDHISTID-CPLX_mod_     \n",
      "1.71596078079e-07        1.70045788559e-07        TRYPSYN_mod_pydx5p       \n",
      "7.51652406019e-09        1.36619744446e-08        GreA_mono                \n",
      "6.28501037924e-05        6.2282282789e-05         CPLX0-234_mod_mg2        \n",
      "2.21524328568e-05        2.19522960886e-05        Tsf_mono                 \n",
      "1.55032713618e-07        1.53632066273e-07        CPLX0-3181               \n",
      "3.88176301213e-11        3.84669311669e-11        HOLO-ACP-SYNTH-CPLX_     \n",
      "5.73076724572e-05        5.67899247033e-05        ARGSUCCINLYA-MONOMER     \n",
      "4.61180446825e-12        4.61032880864e-12        DAPASYN-CPLX_mod_pyd     \n",
      "1.32356238656e-07        1.31160462553e-07        ISOCITHASE-CPLX_mod_     \n",
      "2.7667437076e-06         2.74174748495e-06        CPLX0-7888               \n",
      "1.62928369484e-05        1.61456388618e-05        AROC-CPLX_mod_fmnh2      \n",
      "0                        2.37323062167e-09        EG11665-MONOMER          \n",
      "4.60331787014e-13        4.56172906735e-13        SelB_mono                \n",
      "0                        2.44916454813e-10        CPLX0-3951_G6561-MON     \n",
      "4.47546420111e-06        4.43503049584e-06        ASPKINIII-CPLX           \n",
      "1.87285488916e-06        1.8559345298e-06         CHORISMUTPREPHENDEHY     \n",
      "0                        1.25217215365e-09        DUTP-PYROP-CPLX_mod_     \n",
      "3.5522242039e-10         3.52013153595e-10        RsmC_mono                \n",
      "5.13172455018e-12        5.08536184261e-12        CPLX0-3741               \n",
      "5.86316157678e-05        5.81019068113e-05        NAD-SYNTH-CPLX_mod_m     \n",
      "7.08378129354e-05        7.01978267525e-05        ANTHRANSYNCOMPII-MON     \n",
      "1.25177145262e-09        1.42755111628e-08        monocistronic_excisi     \n",
      "3.00580930651e-07        2.97865323908e-07        DIHYDROFOLATEREDUCT-     \n",
      "2.78323373937e-07        2.75808853707e-07        G6701-MONOMER_mod_th     \n",
      "0.000220532148542        0.000218539744738        N-ACETYLGLUTPREDUCT-     \n",
      "3.5522242039e-10         3.52013153595e-10        RlmL_dim                 \n",
      "1.76596033653e-05        1.75000571896e-05        DIOHBUTANONEPSYN-CPL     \n",
      "7.51652406019e-09        1.36619744446e-08        Mfd_mono_mod_1:mg2       \n",
      "3.13883693892e-06        3.11047902967e-06        OROPRIBTRANS-CPLX_mo     \n",
      "2.00146119017e-06        1.98337893362e-06        ASPKINIIHOMOSERDEHYD     \n",
      "1.0197903895e-06         1.01219450032e-06        LolB_MONOMER             \n",
      "1.72153138955e-12        1.70597816653e-12        UROGENIIISYN-MONOMER     \n",
      "1.01436966144e-09        1.01371951552e-09        3-METHYL-2-OXOBUT-OH     \n",
      "7.06167621506e-13        6.99787730572e-13        GLUTATHIONE-REDUCT-N     \n",
      "4.91678485762e-09        4.87236402865e-09        rRNA_containing_exci     \n",
      "5.36934964544e-12        7.11846634646e-10        BIOTIN-SYN-CPLX_mod_     \n",
      "3.5522242039e-10         3.52013153595e-10        RumA_mono_mod_1:4fe4     \n",
      "3.32805573228e-11        3.29798832059e-11        HEMX-MONOMER             \n",
      "7.64895661345e-05        7.57985190308e-05        HISTCYCLOPRATPPHOS       \n",
      "5.88870640911e-07        5.83550472797e-07        CPLX0-7877               \n",
      "1.24007934393e-07        1.22887581276e-07        2-ISOPROPYLMALATESYN     \n",
      "0                        2.56546072886e-12        IscU                     \n",
      "1.3301407023e-08         1.31812350929e-08        GLYCEROL-KIN-CPLX_mo     \n",
      "3.23230241366e-13        3.20310008798e-13        ABC-19-CPLX              \n",
      "2.92626358523e-05        2.82290471561e-05        CPLX_dummy               \n",
      "1.03029924428e-09        1.03028100142e-09        CPLX0-682_mod_mg2        \n",
      "3.06417795987e-06        3.03649455923e-06        ASPCARBCAT-TRIMER        \n",
      "3.5522242039e-10         3.52013153595e-10        YjbC_mono                \n",
      "4.66976748191e-06        4.66884294796e-06        ACYLCOADEHYDROG-MONO     \n",
      "4.37702902e-05           4.3374846301e-05         6PFK-2-CPX_mod_mg2       \n",
      "1.40632782832e-07        1.3936223206e-07         SAICARSYN-CPLX           \n",
      "9.56257487094e-10        1.13468925163e-08        EG11653-MONOMER          \n",
      "2.55276301901e-06        2.52970001082e-06        N-ACETYLTRANSFER-CPL     \n",
      "0                        1.12246826552e-12        RIBONUCLEOSIDE-DIP-R     \n",
      "7.51652406019e-09        1.36619744446e-08        NusA_mono                \n",
      "1.0197903895e-06         1.01219450032e-06        LolA_MONOMER             \n",
      "1.41201746238e-08        1.40150007736e-08        LspA_MONOMER             \n",
      "0.000160261419792        0.000158813533556        PGK-CPLX                 \n",
      "1.41201746238e-08        1.40150007736e-08        EG10168-MONOMER          \n",
      "3.89922476075e-09        3.86399710666e-09        Fmt_mono_mod_mg2_mod     \n",
      "2.19276183153e-06        2.17295126404e-06        ASPAMINOTRANS-DIMER_     \n",
      "2.01631137104e-05        1.99809495012e-05        FOLE-CPLX_mod_zn2        \n",
      "6.43996285004e-05        6.38178082732e-05        GLYCRIBONUCSYN-MONOM     \n",
      "4.10267597359e-08        4.06561023389e-08        G7322-MONOMER_G6561-     \n",
      "1.24078215317e-06        1.22957227244e-06        CPLX0-761                \n",
      "7.5053277283e-06         7.43752063707e-06        PURK-CPLX                \n",
      "4.32041371772e-07        4.28138082034e-07        AICARTRANSIMPCYCLO-C     \n",
      "5.72741702725e-05        5.67567251949e-05        PRIBFAICARPISOM-MONO     \n",
      "6.02516754231e-06        5.97073299928e-06        GLU6PDEHYDROG-MONOME     \n",
      "1.19790693467e-09        1.18708441129e-09        2-OCTAPRENYLPHENOL-H     \n",
      "8.97194884072e-05        8.89089152044e-05        EG10043-MONOMER_mod_     \n",
      "5.27135138821e-06        5.2237272181e-06         AROK-MONOMER_mod_mg2     \n",
      "3.59263656651e-06        3.56017879195e-06        CPLX0-3161_mod_zn2_m     \n",
      "2.20445826675e-06        2.18454202749e-06        CPLX0-7462               \n",
      "5.19101461641e-09        5.14411625109e-09        Rho_hexa_mod_3:mg2       \n",
      "3.5522242039e-10         3.52013153595e-10        RluB_mono                \n",
      "4.13132241737e-06        4.09399787057e-06        SRP-CPLX                 \n",
      "5.86316157678e-05        5.81019068113e-05        CPLX0-7719_mod_4fe4s     \n",
      "7.23529770237e-12        7.16993020489e-12        UROGENDECARBOX-MONOM     \n",
      "0                        1.52619138398e-05        RpmH_mono                \n",
      "2.94822458728e-12        2.9422006149e-12         FABA-CPLX                \n",
      "1.87285488916e-06        1.8559345298e-06         AROF-CPLX_mod_2:fe2      \n",
      "0                        1.56940662945e-05        RNase_P_cplx_mod_2:m     \n",
      "1.43414743947e-06        1.42119059471e-06        SUCC-DEHASE_mod_3fe4     \n",
      "8.62294843638e-07        8.54504416991e-07        GDHA-CPLX                \n",
      "1.93097522256e-05        1.91352977344e-05        AROD-CPLX                \n",
      "3.5789970445e-07         3.54666249658e-07        RIBF-MONOMER             \n",
      "0                        7.38127546706e-13        IscA_tetra               \n",
      "1.98130726702e-05        1.96340709165e-05        ADENYLYLSULFKIN-CPLX     \n",
      "1.85397383812e-05        1.83722406013e-05        CMPKI-MONOMER_mod_mg     \n",
      "7.5463510201e-05         7.47817330281e-05        AROA-MONOMER             \n",
      "2.76140732709e-07        2.75895961953e-07        CDPDIGLYSYN-MONOMER_     \n",
      "2.5685882509e-05         2.54538226921e-05        CPLX-157                 \n",
      "3.5522242039e-10         3.52013153595e-10        RluA_mono                \n",
      "1.06566726117e-09        1.05603946078e-09        RluD_mono_mod_1:mg2      \n",
      "6.48636695077e-07        6.42776568891e-07        ASPAMINOTRANS-DIMER      \n",
      "7.42054840666e-08        7.35350725657e-08        TatE_MONOMER             \n",
      "2.34807982097e-07        2.3268660288e-07         SIROHEMESYN-CPLX         \n",
      "3.91641921953e-08        3.88103622163e-08        ADENYLOSUCCINATE-SYN     \n",
      "2.59307631217e-07        2.56964909242e-07        CPLX0-7709_mod_mg2       \n",
      "1.0578202169e-05         1.04826331085e-05        FOLD-CPLX                \n",
      "3.5522242039e-10         3.52013153595e-10        RbfA_mono                \n",
      "1.32345658436e-06        1.31149977919e-06        EG10564-MONOMER          \n",
      "2.6381977126e-06         2.6143628423e-06         DIHYDROPICRED-CPLX       \n",
      "7.51462886026e-12        7.4467377377e-12         PROTOHEME-FERROCHELA     \n",
      "2.02099330781e-09        8.27652676439e-09        RpsD_mono                \n",
      "5.38328946041e-07        5.38352363782e-07        GLYCEROL-3-P-ACYLTRA     \n",
      "8.25775989493e-07        8.18315493446e-07        HOMOCYSMET-MONOMER_m     \n",
      "3.71133450605e-07        3.67780435166e-07        PGLYCDEHYDROG-CPLX       \n",
      "4.30537569771e-05        4.26647866173e-05        GARTRANSFORMYL2-MONO     \n",
      "0                        1.44763265055e-09        RIBONUCLEOSIDE-DIP-R     \n",
      "3.25114943829e-07        3.22177683865e-07        G6439-MONOMER            \n",
      "3.80596715671e-09        3.77158204103e-09        polycistronic_wout_r     \n",
      "1.26839591965e-07        1.25693656158e-07        CPLX0-7843               \n",
      "9.62577308858e-07        9.53880877503e-07        CPLX0-7847               \n",
      "1.55509251473e-05        1.55424946969e-05        CPLX0-1667               \n",
      "2.12979491305e-05        2.12936554808e-05        CPLX0-1666               \n",
      "2.01937310402e-06        2.00112902178e-06        GPT-CPLX                 \n",
      "2.6165126316e-05         2.59287367577e-05        OROTPDECARB-CPLX         \n",
      "4.27700562227e-06        4.23836489652e-06        GUANYL-KIN-CPLX_mod_     \n",
      "1.72153302599e-05        1.70597978819e-05        DIAMINOPIMEPIM-MONOM     \n",
      "0.000218700370225        0.000216724515674        PGAM2-MONOMER            \n",
      "3.11669367361e-09        3.08853581829e-09        PANTOATE-BETA-ALANIN     \n",
      "0                        6.27379217658e-09        RplV_mono                \n",
      "5.32292802452e-07        5.27483788386e-07        HMP-P-KIN-CPLX           \n",
      "4.97613931638e-09        4.93118224791e-09        2-DEHYDROPANTOATE-RE     \n",
      "1.00590577483e-07        9.96817891247e-08        ASP-SEMIALDEHYDE-DEH     \n",
      "1.2708334359e-05         1.25935205603e-05        RIBULP3EPIM-MONOMER_     \n",
      "7.51652406019e-09        1.36619744446e-08        GreB_mono                \n",
      "3.16026750184e-09        3.13171597757e-09        GrpE_dim                 \n",
      "3.34119699937e-07        3.34126153913e-07        FABB-CPLX                \n",
      "3.5522242039e-10         3.52013153595e-10        RsuA_mono                \n",
      "5.66816595403e-09        5.61695675173e-09        Rrf_mono                 \n",
      "3.5522242039e-10         3.52013153595e-10        RrmJ_mono                \n",
      "1.11659052225e-06        1.10650265425e-06        ORNCARBAMTRANSFERI-C     \n",
      "5.84467873343e-07        5.84465679681e-07        3-OXOACYL-ACP-REDUCT     \n",
      "3.90326904417e-06        3.86800485189e-06        PROPKIN-MONOMER          \n",
      "8.89361696872e-06        8.8132673399e-06         GTP-CYCLOHYDRO-II-CP     \n",
      "4.40114411952e-09        4.36138186109e-09        FtsY_MONOMER             \n",
      "9.99867913875e-08        9.90834579515e-08        DIHYDRODIPICSYN-CPLX     \n",
      "9.24077686966e-08        9.1572908151e-08         InfA_mono                \n",
      "3.5522242039e-10         3.52013153595e-10        RsmG_mono                \n",
      "5.48307461928e-07        5.43353762978e-07        PHOSACETYLTRANS-CPLX     \n",
      "1.37780302934e-05        1.36535522971e-05        DIHYDROXYACIDDEHYDRA     \n",
      "6.28501037924e-05        6.2282282789e-05         DXPREDISOM-CPLX_mod_     \n",
      "5.15041848304e-07        5.14690258143e-07        PGPPHOSPHAA-MONOMER_     \n",
      "6.88170383161e-06        6.81953088775e-06        CPLX0-1261               \n",
      "1.18151677407e-07        1.17084232805e-07        FORMATEDEHYDROGO-CPL     \n",
      "8.68265312486e-08        8.60420945473e-08        CYCA-MONOMER             \n",
      "2.34196264424e-05        2.32080411787e-05        NICONUCADENYLYLTRAN-     \n",
      "2.02099330781e-09        8.27652676439e-09        RplM_mono                \n",
      "1.47520384778e-11        1.46890645314e-11        EG10119-MONOMER          \n",
      "4.63594666283e-06        4.59406307431e-06        SULFITE-REDUCT-CPLX_     \n",
      "1.120429914e-09          1.11030735891e-09        Map_mono_mod_2:fe2       \n",
      "2.4362333492e-10         2.41422313153e-10        LUMAZINESYN-CPLX         \n",
      "8.6660792336e-06         8.58778530075e-06        FGAMSYN-MONOMER_mod_     \n",
      "4.50317148924e-10        4.4624874617e-10         S-ADENMETSYN-CPLX_mo     \n",
      "3.64836397248e-07        3.61540272713e-07        PKI-COMPLEX_mod_mg2_     \n",
      "3.02700343574e-05        2.99861494409e-05        Eno_dim_mod_4:mg2        \n",
      "3.5522242039e-10         3.52013153595e-10        RlmG_mono                \n",
      "0                        6.27379217658e-09        RpmC_mono                \n",
      "1.70584755546e-05        1.69043602848e-05        SecB_tetra               \n",
      "4.52385151675e-05        4.48298065493e-05        ACETYLORNDEACET-CPLX     \n",
      "1.33766409261e-05        1.32557892932e-05        CMPKI-MONOMER            \n",
      "3.5522242039e-10         3.52013153595e-10        RsmD_mono                \n",
      "1.47773770898e-07        1.46438704672e-07        DIHYDROOROT-CPLX_mod     \n",
      "0.000211606234242        0.000209694471858        ADENYL-KIN-MONOMER_m     \n",
      "1.50945368133e-10        3.04687988675e-13        CPLX0-7824               \n",
      "1.16200215972e-06        1.16199880059e-06        ACETYL-COA-CARBOXYLM     \n",
      "4.83052744745e-07        4.83052593558e-07        ENOYL-ACP-REDUCT-NAD     \n",
      "4.96106804664e-07        4.91624713997e-07        CPLX0-7760_mod_4fe4s     \n",
      "4.26845244928e-08        4.22988899741e-08        EG11674-MONOMER          \n",
      "3.68832749912e-09        3.65500520218e-09        GroL_14                  \n",
      "1.1017286024e-09         1.09177500483e-09        MHPF-MONOMER             \n",
      "3.5522242039e-10         3.52013153595e-10        RlmH_dim                 \n",
      "3.85458727178e-12        3.81976289632e-12        EG11591-MONOMER          \n",
      "6.53845639263e-06        6.47938452726e-06        Bam-CPLX                 \n",
      "2.31427612083e-06        2.29336772912e-06        PRPPAMIDOTRANS-CPLX_     \n",
      "5.59797828222e-05        5.54740319239e-05        METHYLENETHFREDUCT-C     \n",
      "0                        2.0580222932e-07         CPLX0-234_mod_cobalt     \n",
      "5.03090656532e-05        4.98545470062e-05        AIRS-CPLX_mod_k_mod_     \n",
      "7.51652406019e-09        1.36619744446e-08        RpoZ_mono_mod_1:mg2      \n",
      "6.61728292179e-07        6.55749889597e-07        CPLX-164                 \n",
      "3.5522242039e-10         3.52013153595e-10        RumB_mono_mod_1:4fe4     \n",
      "5.28701094593e-05        5.23924529912e-05        HISTDEHYD-CPLX_mod_m     \n",
      "1.64589085505e-07        0.000381805786066        FLAVODOXIN2-MONOMER      \n",
      "4.95997794022e-09        4.91516688216e-09        FPPSYN-MONOMER_mod_m     \n",
      "4.78745058494e-09        4.74419823004e-09        TatBC_octa               \n",
      "2.62580188391e-11        2.60207900407e-11        PORPHOBILSYNTH-CPLX_     \n",
      "4.83250930034e-09        4.55082276662e-06        IscS_mod_2:pydx5p        \n",
      "9.34161519681e-06        9.25721811559e-06        DIAMINOPIMDECARB-CPL     \n",
      "4.8569565236e-06         4.81307621538e-06        GLYOHMETRANS-CPLX        \n",
      "3.6063714269e-08         3.59000657126e-08        2OXOGLUTARATEDEH-CPL     \n",
      "1.09890643414e-06        1.08897833353e-06        THI-P-KIN-MONOMER_mo     \n",
      "1.37584666024e-07        1.37495589099e-07        CPLX0-7704_mod_mg2       \n",
      "9.91087028818e-07        9.82133025608e-07        GART-MONOMER             \n",
      "6.0359017975e-05         5.98137027554e-05        TPI-CPLX                 \n",
      "2.80505576234e-09        2.80325790142e-09        PANTOTHENATE-KIN-CPL     \n",
      "1.28808789604e-08        1.27645063027e-08        L-ASPARTATE-OXID-MON     \n",
      "0.000122541478359        0.000121434373979        EG12712-MONOMER          \n",
      "1.27577369843e-11        1.26424768562e-11        CPLX0-7811               \n",
      "4.97559011222e-10        4.93063800556e-10        THIE-MONOMER_mod_mg2     \n",
      "1.06566726117e-09        1.05603946078e-09        RluC_mono                \n",
      "2.21524328568e-05        2.19522960886e-05        FusA_mono                \n",
      "5.77401548931e-06        5.72184998646e-06        CARBODEHYDRAT-CPLX_m     \n",
      "1.49485712635e-08        2.52229707797e-08        RNA_degradosome          \n",
      "1.0746340583e-05         1.06492524714e-05        PITA-MONOMER             \n",
      "0                        4.48110580681e-11        FPPSYN-MONOMER_mod_m     \n",
      "2.35756002438e-06        2.33626058304e-06        TYRB-DIMER_mod_pydx5     \n",
      "5.14779106809e-06        5.10128320712e-06        MALATE-DEHASE            \n",
      "2.61760355308e-08        2.59395474129e-08        YCHM-MONOMER             \n",
      "7.64361162685e-12        7.64116586641e-12        DETHIOBIOTIN-SYN-CPL     \n",
      "2.10019013901e-09        2.09884405177e-09        COADTRI-CPLX_mod_mg2     \n",
      "1.66500923878e-05        1.6499666667e-05         GLUTSEMIALDEHYDROG-C     \n",
      "3.63189571094e-05        3.59908324855e-05        NADH-DHI-CPLX_mod_2f     \n",
      "1.00002835125e-07        9.90993567415e-08        3-ISOPROPYLMALDEHYDR     \n",
      "3.5522242039e-10         3.52013153595e-10        RrmA_dim_mod_2:zn2       \n",
      "3.16026750184e-09        3.13171597757e-09        DnaK_mono                \n",
      "5.89106175542e-09        5.83783879484e-09        Def_mono_mod_1:fe2       \n",
      "3.42711119666e-10        3.14734797366e-10        PrfB_mono                \n",
      "2.02099330781e-09        8.27652676439e-09        NusB_mono                \n",
      "2.85116862449e-05        2.82540966258e-05        FRUCBISALD-CLASSII       \n",
      "5.19218894255e-06        5.14527996775e-06        GLUTKIN-CPLX_mod_mg2     \n",
      "0                        6.27379217658e-09        RpsM_mono                \n",
      "6.36872851234e-05        6.31119005821e-05        CPLX0-7614               \n",
      "2.04946747299e-06        2.03095150235e-06        THIOREDOXIN-REDUCT-N     \n",
      "3.71694078004e-05        3.68335997563e-05        AROB-MONOMER_mod_cob     \n",
      "2.66156631454e-08        2.64174168883e-08        EG12455-MONOMER          \n",
      "3.5522242039e-10         3.52013153595e-10        RlmF_mono                \n",
      "0                        1.58757299556e-14        EG11829-MONOMER_EG11     \n",
      "5.61007140216e-05        5.55938705671e-05        6PGLUCONOLACT-MONOME     \n",
      "6.40231022826e-10        6.39820675785e-10        CPLX0-341_mod_fmn        \n",
      "0                        7.31062237196e-09        PHOSPHOGLUCMUT-MONOM     \n",
      "0.000131332839509        0.000130146309333        ACETYLGLUTKIN-CPLX_m     \n",
      "3.53241453636e-06        3.5005008394e-06         ACETOLACTSYNIII-CPLX     \n",
      "2.07244076516e-07        2.07236168691e-07        3-OXOACYL-ACP-SYNTHI     \n",
      "8.84166488881e-06        8.76178462251e-06        CPLX0-1261_mod_thmpp     \n",
      "7.51652406019e-09        1.36619744446e-08        NusG_mono                \n",
      "1.85561272892e-08        1.84492433535e-08        EG10370-MONOMER_mod_     \n",
      "1.57830465486e-06        1.57793645929e-06        AAS-MONOMER_mod_mg2      \n",
      "6.17802806745e-05        6.12221250177e-05        ATPSYN-CPLX_mod_mg2      \n",
      "5.90526511792e-13        7.0710823105e-10         CPLX0-1341               \n",
      "2.02099330781e-09        8.27652676439e-09        RplC_mono                \n",
      "1.88326831081e-07        1.8662538711e-07         PSERTRANSAM-CPLX_mod     \n",
      "6.98866579457e-07        6.98863604438e-07        FABZ-CPLX                \n",
      "4.22575614081e-06        4.18757842992e-06        YidC_MONOMER             \n",
      "3.33193939007e-05        3.30183689137e-05        CPLX0-743_mod_thmpp      \n",
      "2.34447618646e-09        2.32329495142e-09        RNAP54-CPLX              \n",
      "0                        2.61602544755e-11        PANTOATE-BETA-ALANIN     \n",
      "2.26612894328e-05        2.24565553858e-05        HOMOSERKIN-CPLX_mod_     \n",
      "7.50117598744e-07        7.43340640524e-07        ASNSYNB-CPLX_mod_mg2     \n",
      "1.08285548443e-06        1.07307239657e-06        DEOD-CPLX                \n",
      "1.75641609948e-06        1.74054770959e-06        G7408-MONOMER_mod_mg     \n",
      "9.62535251113e-06        9.5383919973e-06         PYRROLINECARBREDUCT-     \n",
      "9.75817261043e-07        9.67001212972e-07        THREDEHYDCAT-CPLX_mo     \n",
      "7.2466361157e-08         7.18116618102e-08        SUCCCOASYN               \n",
      "2.96294363803e-06        2.93617484167e-06        CYT-O-UBIOX-CPLX_mod     \n",
      "4.60331787014e-13        4.56172906735e-13        SelA_deca_mod_10:pyd     \n",
      "3.5522242039e-10         3.52013153595e-10        YggJ_dim                 \n",
      "8.16124330373e-06        8.08751032508e-06        O-SUCCHOMOSERLYASE-C     \n",
      "8.44038733941e-08        8.36413242623e-08        CPLX0-7643_mod_mg2       \n",
      "1.10158238024e-05        1.09163010372e-05        BRANCHED-CHAINAMINOT     \n",
      "3.5522242039e-10         3.52013153595e-10        RlmM_mono                \n",
      "2.8395244138e-08         2.81387065184e-08        EG11437-MONOMER          \n",
      "6.73642496238e-09        6.73210734584e-09        EG12312-MONOMER          \n",
      "0                        7.68364033972e-08        PKI-COMPLEX_mod_mn2_     \n",
      "6.89382254526e-10        6.83154011455e-10        EG12130-MONOMER_EG12     \n",
      "2.76080008416e-05        2.73585755934e-05        HOMSUCTRAN-CPLX          \n",
      "0                        2.03913896747e-09        G6862-MONOMER            \n",
      "4.91224238801e-06        4.86786259811e-06        EG10723-MONOMER          \n",
      "0                        1.06744459624e-09        EG10124-MONOMER_mod_     \n",
      "1.78376068544e-06        1.76764525013e-06        ERYTHRON4PDEHYDROG-M     \n",
      "3.5522242039e-10         3.52013153595e-10        RsmF_mono                \n",
      "3.5522242039e-10         3.52013153595e-10        RsmB_mono                \n",
      "3.85458727178e-12        3.81976289632e-12        CPLX0-782_mod_2:4fe4     \n",
      "1.83810356112e-07        1.91156729324e-07        EG50003-MONOMER          \n",
      "1.11102331108e-09        1.10098574021e-09        EG11597-MONOMER_mod_     \n",
      "6.64668163709e-06        6.58663200776e-06        DIHYDROOROTOX-MONOME     \n",
      "0                        2.1712469211e-12         GLUTAREDOXIN-MONOMER     \n",
      "6.40231022826e-10        6.39820675785e-10        CPLX0-341_mod_mg2        \n",
      "1.39293407544e-06        1.38034957396e-06        ACETYLORNTRANSAM-CPL     \n",
      "4.99366598972e-06        4.94855057604e-06        PEPCARBOX-CPLX_mod_m     \n",
      "7.15976515588e-07        7.09508005929e-07        PSERPHOSPHA-MONOMER_     \n",
      "2.99215661559e-09        2.96512389378e-09        EG10943-MONOMER_mod_     \n",
      "4.42656447491e-10        4.38657255557e-10        THIG-MONOMER             \n",
      "2.24232583645e-05        2.22206748158e-05        FMNREDUCT-MONOMER        \n",
      "4.06198459218e-08        4.02528647989e-08        ADENPRIBOSYLTRAN-CPL     \n",
      "0                        8.58417592079e-11        H2NEOPTERINP3PYROPHO     \n",
      "6.53845639263e-06        6.47938452726e-06        SurA_MONOMER             \n",
      "9.53279113495e-07        9.48953359647e-07        PYRUVATEDEH-CPLX_mod     \n",
      "9.24077686966e-08        9.1572908151e-08         PrfC_mono                \n",
      "2.03763834068e-05        2.01922924066e-05        CHORISMUTPREPHENDEHY     \n",
      "1.05239990048e-07        1.04289196443e-07        THRESYN-MONOMER_mod_     \n",
      "2.2974382768e-07         2.27668200706e-07        RIBONUCLEOSIDE-TRIP-     \n",
      "1.3928367243e-06         1.38025310234e-06        FUMARASE-A_mod_4fe4s     \n",
      "1.42989799429e-06        1.41697954126e-06        PAPSSULFOTRANS-CPLX      \n",
      "7.72348587002e-12        7.69051252701e-12        CPLX0-252                \n",
      "1.78376068544e-06        1.76764525013e-06        CPLX0-321                \n",
      "5.00606238915e-08        4.96083497985e-08        RNAPE-CPLX               \n",
      "2.83755626537e-12        2.81192028471e-12        EG11829-MONOMER_mod_     \n",
      "3.84195840499e-07        3.84195292122e-07        FADB-CPLX                \n",
      "3.5522242039e-10         3.52013153595e-10        RlmN_mono_mod_1:4fe4     \n",
      "1.0197903895e-06         1.01219450032e-06        LolCDE-CPLX              \n",
      "2.10810605301e-05        2.08906031049e-05        Sec-CPLX                 \n",
      "3.22088470652e-06        3.19178553444e-06        G6245-MONOMER            \n",
      "4.34740176145e-06        4.30812503984e-06        3-ISOPROPYLMALISOM-C     \n",
      "3.5522242039e-10         3.52013153595e-10        Era_dim                  \n",
      "3.5522242039e-10         3.52013153595e-10        RimM_mono                \n",
      "6.37835474895e-05        6.36524807668e-05        ribosome                 \n",
      "7.1044484078e-10         7.0402630719e-10         KsgA_mono                \n",
      "1.24145068087e-08        1.23429988196e-08        CPLX0-7564_mod_nadph     \n",
      "3.20693456301e-05        3.17796142389e-05        HISTPHOSTRANS-CPLX_m     \n",
      "0.000690560713928        0.000684321824033        G6700-MONOMER            \n",
      "9.63069934573e-08        9.54369052577e-08        InfB_mono                \n",
      "7.92572448826e-06        7.85411931087e-06        RNAP70-CPLX              \n",
      "3.44530140302e-09        3.41417473207e-09        MALSYNG-MONOMER_mod_     \n",
      "9.94482740068e-11        9.85498058211e-11        OHMETHYLBILANESYN-MO     \n",
      "0                        6.27379217658e-09        RpsI_mono                \n",
      "2.55434529465e-06        2.53126799134e-06        RNAP32-CPLX              \n",
      "2.67072322253e-08        2.64659449961e-08        CPLX0-238_mod_mg2        \n",
      "1.83670874872e-05        1.82011495266e-05        PURE-CPLX                \n",
      "1.09813916198e-07        1.0882179933e-07         RNAPS-CPLX               \n",
      "0                        4.1160445864e-07         PRPPSYN-MONOMER_mod_     \n",
      "1.11815278786e-06        1.11789193904e-06        THIOESTERII-CPLX         \n",
      "3.5522242039e-10         3.52013153595e-10        RlmB_dim                 \n",
      "2.56632561183e-05        2.54314007201e-05        6PGLUCONDEHYDROG-CPL     \n",
      "9.83945892348e-08        9.75056405933e-08        CPLX0-222                \n",
      "0                        2.0580222932e-07         DXPREDISOM-CPLX_mod_     \n",
      "6.28501037924e-05        6.24880850183e-05        CPLX0-3841_mod_mg2       \n",
      "2.87842717114e-06        2.85242194114e-06        KETOBUTFORMLY-INACT-     \n",
      "2.34802280692e-05        2.32680952984e-05        GAPDH-A-CPLX             \n",
      "4.04069284867e-06        4.00418709722e-06        EG11817-MONOMER_mod_     \n",
      "0                        7.08983060204e-07        FLAVODOXIN1-MONOMER      \n",
      "1.13464602064e-11        1.1342829629e-11         EG10122-MONOMER          \n",
      "3.22088470652e-06        3.19178553444e-06        QueF_dim                 \n",
      "0                        3.8487814254e-10         G6406-MONOMER            \n"
     ]
    }
   ],
   "source": [
    "for k in cplx_concs_max.keys():\n",
    "    c1 = cplx_concs_max[k]\n",
    "    c2 = cplx_concs_opt2[k]\n",
    "    if abs(c1-c2)>1e-15:\n",
    "        print '%-25.20s%-25.20s%-25.20s' % (c1,c2, k)"
   ]
  },
  {
   "cell_type": "code",
   "execution_count": 12,
   "metadata": {
    "collapsed": false,
    "deletable": true,
    "editable": true
   },
   "outputs": [
    {
     "data": {
      "text/plain": [
       "False"
      ]
     },
     "execution_count": 12,
     "metadata": {},
     "output_type": "execute_result"
    }
   ],
   "source": [
    "cplx_concs_max.values()==cplx_concs_opt2.values()"
   ]
  },
  {
   "cell_type": "markdown",
   "metadata": {
    "deletable": true,
    "editable": true
   },
   "source": [
    "# Test 3: should be able to catalyze faster rates at slower growth starting from fast growth proteome for some rxns but not others"
   ]
  },
  {
   "cell_type": "code",
   "execution_count": 13,
   "metadata": {
    "collapsed": false,
    "deletable": true,
    "editable": true
   },
   "outputs": [
    {
     "name": "stdout",
     "output_type": "stream",
     "text": [
      "Flux (opt)               Flux (low mu)            rxn                      reaction                 \n"
     ]
    }
   ],
   "source": [
    "print '%-25.20s%-25.20s%-25.20s%-25s' % ('Flux (opt)', 'Flux (low mu)', 'rxn', 'reaction')\n",
    "for rid in x_dict_max.keys():\n",
    "    v1 = x_dict_max[rid]\n",
    "    v2 = x_dict_opt2[rid]\n",
    "    #if abs(v2-v1) > 1e-12:\n",
    "    if abs(v2) - abs(v1) > 1e-12:\n",
    "        rxn = dme.reactions.get_by_id(rid)\n",
    "        print '%-25.20s%-25.20s%-25.20s%-25s' % (v1,v2, rid, rxn.reaction)"
   ]
  },
  {
   "cell_type": "markdown",
   "metadata": {
    "deletable": true,
    "editable": true
   },
   "source": [
    "# Test 4: given a long enough time horizon, should be able to reach higher-growth proteome starting from slow proteome"
   ]
  },
  {
   "cell_type": "code",
   "execution_count": 14,
   "metadata": {
    "collapsed": false,
    "deletable": true,
    "editable": true
   },
   "outputs": [
    {
     "name": "stdout",
     "output_type": "stream",
     "text": [
      "optimal for growth= 0.455844726562\n"
     ]
    }
   ],
   "source": [
    "%%time\n",
    "### Need to get a slow-growth proteome separately\n",
    "mu_slow = mu_me*0.5\n",
    "x2,stat2,hs2 = solver.solvelp(mu_slow, basis=solver.lp_hs)\n",
    "print stat2, 'for growth=',mu_slow\n",
    "cplx_concs_slow = get_cplx_concs(solver)"
   ]
  },
  {
   "cell_type": "code",
   "execution_count": 15,
   "metadata": {
    "collapsed": false,
    "deletable": true,
    "editable": true
   },
   "outputs": [
    {
     "name": "stdout",
     "output_type": "stream",
     "text": [
      "optimal\n",
      "CPU times: user 4min 13s, sys: 66.7 ms, total: 4min 13s\n",
      "Wall time: 4min 13s\n"
     ]
    }
   ],
   "source": [
    "%%time\n",
    "\n",
    "### First make sure we can grow at slow proteome\n",
    "dyme.delay_model.update_cplx_concs(cplx_concs_slow)\n",
    "dyme.delay_model.update_horizon(0.1)\n",
    "x,stat,hs = dsolver.solvelp(mu_slow)\n",
    "print stat\n",
    "x_dict_slow = dict(dsolver.me.solution.x_dict)"
   ]
  },
  {
   "cell_type": "markdown",
   "metadata": {
    "deletable": true,
    "editable": true
   },
   "source": [
    "### Try to grow faster starting from slower proteome\n",
    "- Should be infeasible for short time horizon"
   ]
  },
  {
   "cell_type": "code",
   "execution_count": 16,
   "metadata": {
    "collapsed": false,
    "deletable": true,
    "editable": true
   },
   "outputs": [
    {
     "name": "stdout",
     "output_type": "stream",
     "text": [
      "1\n",
      "CPU times: user 1min 24s, sys: 46.7 ms, total: 1min 24s\n",
      "Wall time: 1min 24s\n"
     ]
    }
   ],
   "source": [
    "%%time\n",
    "dyme.delay_model.update_horizon(0.01)\n",
    "x,stat,hs = dsolver.solvelp( mu_slow + (mu_me-mu_slow)*1 , basis=dsolver.lp_hs)\n",
    "print stat"
   ]
  },
  {
   "cell_type": "markdown",
   "metadata": {
    "deletable": true,
    "editable": true
   },
   "source": [
    "### Try to grow faster from slow proteome given long time horizon\n",
    "- should be possible if horizon long enough"
   ]
  },
  {
   "cell_type": "code",
   "execution_count": 17,
   "metadata": {
    "collapsed": false,
    "deletable": true,
    "editable": true
   },
   "outputs": [
    {
     "name": "stdout",
     "output_type": "stream",
     "text": [
      "1\n",
      "CPU times: user 1min 22s, sys: 83.3 ms, total: 1min 22s\n",
      "Wall time: 1min 22s\n"
     ]
    }
   ],
   "source": [
    "%%time\n",
    "### Might be feasible\n",
    "dyme.delay_model.update_horizon(1)\n",
    "x,stat,hs = dsolver.solvelp( mu_slow + (mu_me-mu_slow)*1, basis=dsolver.lp_hs)\n",
    "print stat"
   ]
  },
  {
   "cell_type": "markdown",
   "metadata": {
    "deletable": true,
    "editable": true
   },
   "source": [
    "### Instead, see what max mu possible starting from slow proteome"
   ]
  },
  {
   "cell_type": "code",
   "execution_count": 20,
   "metadata": {
    "collapsed": false,
    "deletable": true,
    "editable": true,
    "scrolled": true
   },
   "outputs": [
    {
     "name": "stdout",
     "output_type": "stream",
     "text": [
      "iter\tmuopt    \ta     \tb     \tmu1       \tstat1\n",
      "Finished substituting S,lb,ub in 3.216468 seconds\n",
      "Finished makeME_LP in 0.606606 seconds\n",
      "Getting MINOS parameters from ME_NLP...\n",
      "1 0.0 0.0 1.0 1.0 1\n",
      "Finished substituting S,lb,ub in 3.132202 seconds\n",
      "Finished makeME_LP in 0.602961 seconds\n",
      "Getting MINOS parameters from ME_NLP...\n",
      "2 0.5 0.5 1.0 0.5 optimal\n",
      "Finished substituting S,lb,ub in 3.239735 seconds\n",
      "Finished makeME_LP in 0.605448 seconds\n",
      "Getting MINOS parameters from ME_NLP...\n",
      "3 0.5 0.5 0.75 0.75 1\n",
      "Finished substituting S,lb,ub in 3.148069 seconds\n",
      "Finished makeME_LP in 0.601101 seconds\n",
      "Getting MINOS parameters from ME_NLP...\n",
      "4 0.5 0.5 0.625 0.625 1\n",
      "Finished substituting S,lb,ub in 3.139181 seconds\n",
      "Finished makeME_LP in 0.600696 seconds\n",
      "Getting MINOS parameters from ME_NLP...\n",
      "5 0.5 0.5 0.5625 0.5625 1\n",
      "Finished substituting S,lb,ub in 3.095948 seconds\n",
      "Finished makeME_LP in 0.604583 seconds\n",
      "Getting MINOS parameters from ME_NLP...\n",
      "6 0.5 0.5 0.53125 0.53125 1\n",
      "Finished substituting S,lb,ub in 3.199865 seconds\n",
      "Finished makeME_LP in 0.607097 seconds\n",
      "Getting MINOS parameters from ME_NLP...\n",
      "7 0.515625 0.515625 0.53125 0.515625 optimal\n",
      "Finished substituting S,lb,ub in 3.175588 seconds\n",
      "Finished makeME_LP in 0.612364 seconds\n",
      "Getting MINOS parameters from ME_NLP...\n",
      "8 0.515625 0.515625 0.5234375 0.5234375 1\n",
      "Finished substituting S,lb,ub in 3.165762 seconds\n",
      "Finished makeME_LP in 0.603452 seconds\n",
      "Getting MINOS parameters from ME_NLP...\n",
      "9 0.515625 0.515625 0.51953125 0.51953125 1\n",
      "Finished substituting S,lb,ub in 3.176933 seconds\n",
      "Finished makeME_LP in 0.607234 seconds\n",
      "Getting MINOS parameters from ME_NLP...\n",
      "10 0.515625 0.515625 0.517578125 0.517578125 1\n",
      "Finished substituting S,lb,ub in 3.156506 seconds\n",
      "Finished makeME_LP in 0.604547 seconds\n",
      "Getting MINOS parameters from ME_NLP...\n",
      "11 0.515625 0.515625 0.5166015625 0.5166015625 1\n",
      "Bisection done in 365.464 seconds\n",
      "optimal\n",
      "CPU times: user 6min 6s, sys: 1.72 s, total: 6min 8s\n",
      "Wall time: 6min 5s\n"
     ]
    }
   ],
   "source": [
    "%%time\n",
    "### Might be feasible\n",
    "dyme.delay_model.update_horizon(0.1)\n",
    "#x,stat,hs = dsolver.solvelp( mu_slow + (mu_me-mu_slow)*1, basis=dsolver.lp_hs)\n",
    "muopt, hs, xopt, cache  = dsolver.bisectmu(basis=dsolver.lp_hs)\n",
    "if dsolver.me.solution is None:\n",
    "    stat = 1\n",
    "else:\n",
    "    stat = dsolver.me.solution.status\n",
    "print stat"
   ]
  },
  {
   "cell_type": "code",
   "execution_count": 23,
   "metadata": {
    "collapsed": false,
    "deletable": true,
    "editable": true
   },
   "outputs": [
    {
     "name": "stdout",
     "output_type": "stream",
     "text": [
      "Max from slow proteome=0.515625, mu for slow proteome=0.455845\n"
     ]
    }
   ],
   "source": [
    "print 'Max from slow proteome=%g, mu for slow proteome=%g' % (muopt, mu_slow)"
   ]
  },
  {
   "cell_type": "markdown",
   "metadata": {
    "deletable": true,
    "editable": true
   },
   "source": [
    "## Plot slow & fast-growth proteomes"
   ]
  },
  {
   "cell_type": "code",
   "execution_count": 24,
   "metadata": {
    "collapsed": false,
    "deletable": true,
    "editable": true
   },
   "outputs": [],
   "source": [
    "import pandas as pd\n",
    "\n",
    "df_prot1 = pd.DataFrame([{'cplx':met.id.replace('delayed_abundance_',''), 'v':met._bound} for met in dsolver.me.metabolites.query('delayed_abundance')])\n",
    "df_prot1.loc[:,'type'] = 'slow'"
   ]
  },
  {
   "cell_type": "code",
   "execution_count": 25,
   "metadata": {
    "collapsed": false,
    "deletable": true,
    "editable": true
   },
   "outputs": [],
   "source": [
    "df_prot2 = pd.DataFrame([{'cplx':rxn.id.replace('abundance_',''), 'v':rxn.x} for rxn in dsolver.me.reactions.query('abundance_')])\n",
    "df_prot2.loc[:,'type'] = 'fast'"
   ]
  },
  {
   "cell_type": "code",
   "execution_count": 26,
   "metadata": {
    "collapsed": false,
    "deletable": true,
    "editable": true
   },
   "outputs": [
    {
     "name": "stderr",
     "output_type": "stream",
     "text": [
      "/usr/lib/python2.7/site-packages/ipykernel/__main__.py:9 \u001b[1;31mRuntimeWarning\u001b[0m: invalid value encountered in log2\n"
     ]
    },
    {
     "data": {
      "text/plain": [
       "(array([   2.,  355.,   41.,    5.,    1.,    1.,    0.,    1.,    4.,    1.]),\n",
       " array([ -3.44703383,  -1.30484238,   0.83734907,   2.97954053,\n",
       "          5.12173198,   7.26392343,   9.40611489,  11.54830634,\n",
       "         13.69049779,  15.83268924,  17.9748807 ]),\n",
       " <a list of 10 Patch objects>)"
      ]
     },
     "execution_count": 26,
     "metadata": {},
     "output_type": "execute_result"
    },
    {
     "data": {
      "image/png": "[encoded data removed]",
      "text/plain": [
       "<matplotlib.figure.Figure at 0x7f2b91c66e10>"
      ]
     },
     "metadata": {},
     "output_type": "display_data"
    }
   ],
   "source": [
    "%matplotlib inline\n",
    "import numpy as np\n",
    "import seaborn as sns\n",
    "\n",
    "### Check prots that changed the most\n",
    "df_val = pd.merge(df_prot1, df_prot2, on='cplx')\n",
    "df_val.loc[:,'dv'] = df_val.v_y - df_val.v_x\n",
    "df_val.loc[:,'f_dv'] = df_val.dv / df_val.v_x\n",
    "df_val.loc[:,'l2fc'] = np.log2(df_val.v_y / df_val.v_x)\n",
    "\n",
    "sns.plt.hist(df_val.l2fc[ (~df_val.l2fc.isnull()) & (df_val.l2fc < np.inf)])"
   ]
  },
  {
   "cell_type": "code",
   "execution_count": 57,
   "metadata": {
    "collapsed": false,
    "deletable": true,
    "editable": true
   },
   "outputs": [
    {
     "data": {
      "text/html": [
       "<div>\n",
       "<style>\n",
       "    .dataframe thead tr:only-child th {\n",
       "        text-align: right;\n",
       "    }\n",
       "\n",
       "    .dataframe thead th {\n",
       "        text-align: left;\n",
       "    }\n",
       "\n",
       "    .dataframe tbody tr th {\n",
       "        vertical-align: top;\n",
       "    }\n",
       "</style>\n",
       "<table border=\"1\" class=\"dataframe\">\n",
       "  <thead>\n",
       "    <tr style=\"text-align: right;\">\n",
       "      <th></th>\n",
       "      <th>cplx</th>\n",
       "      <th>v_x</th>\n",
       "      <th>type_x</th>\n",
       "      <th>v_y</th>\n",
       "      <th>type_y</th>\n",
       "      <th>dv</th>\n",
       "      <th>f_dv</th>\n",
       "      <th>l2fc</th>\n",
       "    </tr>\n",
       "  </thead>\n",
       "  <tbody>\n",
       "    <tr>\n",
       "      <th>0</th>\n",
       "      <td>IscU</td>\n",
       "      <td>0.0</td>\n",
       "      <td>slow</td>\n",
       "      <td>8.238114e-13</td>\n",
       "      <td>fast</td>\n",
       "      <td>8.238114e-13</td>\n",
       "      <td>inf</td>\n",
       "      <td>inf</td>\n",
       "    </tr>\n",
       "  </tbody>\n",
       "</table>\n",
       "</div>"
      ],
      "text/plain": [
       "   cplx  v_x type_x           v_y type_y            dv  f_dv  l2fc\n",
       "0  IscU  0.0   slow  8.238114e-13   fast  8.238114e-13   inf   inf"
      ]
     },
     "execution_count": 57,
     "metadata": {},
     "output_type": "execute_result"
    }
   ],
   "source": [
    "df_val.head(1)"
   ]
  },
  {
   "cell_type": "code",
   "execution_count": 58,
   "metadata": {
    "collapsed": false,
    "deletable": true,
    "editable": true
   },
   "outputs": [],
   "source": [
    "N_PLOT = 10\n",
    "cplxs_plot = df_val.sort_values('v_y',ascending=False)['cplx'][0:N_PLOT]"
   ]
  },
  {
   "cell_type": "code",
   "execution_count": 59,
   "metadata": {
    "collapsed": true,
    "deletable": true,
    "editable": true
   },
   "outputs": [],
   "source": [
    "### Convert to mass or mol fractions\n",
    "tot1 = df_prot1.v.sum()\n",
    "tot2 = df_prot2.v.sum()\n",
    "df_prot1.loc[:,'molf'] = df_prot1.v / tot1\n",
    "df_prot2.loc[:,'molf'] = df_prot2.v / tot2"
   ]
  },
  {
   "cell_type": "code",
   "execution_count": 60,
   "metadata": {
    "collapsed": false,
    "deletable": true,
    "editable": true
   },
   "outputs": [],
   "source": [
    "dsplot = pd.concat([df_prot1, df_prot2])\n",
    "dsplot2 = dsplot[ dsplot.cplx.isin(cplxs_plot)]\n",
    "dsplot2.loc[:,'group'] = 'DelayME'"
   ]
  },
  {
   "cell_type": "code",
   "execution_count": 61,
   "metadata": {
    "collapsed": false,
    "deletable": true,
    "editable": true
   },
   "outputs": [
    {
     "data": {
      "text/plain": [
       "type\n",
       "fast    0.736897\n",
       "slow    0.389324\n",
       "Name: molf, dtype: float64"
      ]
     },
     "execution_count": 61,
     "metadata": {},
     "output_type": "execute_result"
    }
   ],
   "source": [
    "dsplot2.groupby('type').molf.sum()"
   ]
  },
  {
   "cell_type": "code",
   "execution_count": 62,
   "metadata": {
    "collapsed": false,
    "deletable": true,
    "editable": true
   },
   "outputs": [
    {
     "data": {
      "text/html": [
       "<div>\n",
       "<style>\n",
       "    .dataframe thead tr:only-child th {\n",
       "        text-align: right;\n",
       "    }\n",
       "\n",
       "    .dataframe thead th {\n",
       "        text-align: left;\n",
       "    }\n",
       "\n",
       "    .dataframe tbody tr th {\n",
       "        vertical-align: top;\n",
       "    }\n",
       "</style>\n",
       "<table border=\"1\" class=\"dataframe\">\n",
       "  <thead>\n",
       "    <tr style=\"text-align: right;\">\n",
       "      <th></th>\n",
       "      <th>cplx</th>\n",
       "      <th>v</th>\n",
       "      <th>type</th>\n",
       "      <th>molf</th>\n",
       "      <th>group</th>\n",
       "    </tr>\n",
       "  </thead>\n",
       "  <tbody>\n",
       "    <tr>\n",
       "      <th>208</th>\n",
       "      <td>PGK-CPLX</td>\n",
       "      <td>6.771679e-05</td>\n",
       "      <td>slow</td>\n",
       "      <td>0.029804</td>\n",
       "      <td>DelayME</td>\n",
       "    </tr>\n",
       "    <tr>\n",
       "      <th>364</th>\n",
       "      <td>G6700-MONOMER</td>\n",
       "      <td>3.417645e-04</td>\n",
       "      <td>slow</td>\n",
       "      <td>0.150417</td>\n",
       "      <td>DelayME</td>\n",
       "    </tr>\n",
       "    <tr>\n",
       "      <th>568</th>\n",
       "      <td>FLAVODOXIN2-MONOMER</td>\n",
       "      <td>1.507942e-07</td>\n",
       "      <td>slow</td>\n",
       "      <td>0.000066</td>\n",
       "      <td>DelayME</td>\n",
       "    </tr>\n",
       "    <tr>\n",
       "      <th>714</th>\n",
       "      <td>ANTHRANSYNCOMPII-MONOMER</td>\n",
       "      <td>4.585009e-05</td>\n",
       "      <td>slow</td>\n",
       "      <td>0.020180</td>\n",
       "      <td>DelayME</td>\n",
       "    </tr>\n",
       "    <tr>\n",
       "      <th>742</th>\n",
       "      <td>N-ACETYLGLUTPREDUCT-MONOMER</td>\n",
       "      <td>1.135518e-04</td>\n",
       "      <td>slow</td>\n",
       "      <td>0.049976</td>\n",
       "      <td>DelayME</td>\n",
       "    </tr>\n",
       "  </tbody>\n",
       "</table>\n",
       "</div>"
      ],
      "text/plain": [
       "                            cplx             v  type      molf    group\n",
       "208                     PGK-CPLX  6.771679e-05  slow  0.029804  DelayME\n",
       "364                G6700-MONOMER  3.417645e-04  slow  0.150417  DelayME\n",
       "568          FLAVODOXIN2-MONOMER  1.507942e-07  slow  0.000066  DelayME\n",
       "714     ANTHRANSYNCOMPII-MONOMER  4.585009e-05  slow  0.020180  DelayME\n",
       "742  N-ACETYLGLUTPREDUCT-MONOMER  1.135518e-04  slow  0.049976  DelayME"
      ]
     },
     "execution_count": 62,
     "metadata": {},
     "output_type": "execute_result"
    }
   ],
   "source": [
    "dsplot2.head()"
   ]
  },
  {
   "cell_type": "code",
   "execution_count": 67,
   "metadata": {
    "collapsed": false,
    "deletable": true,
    "editable": true
   },
   "outputs": [
    {
     "data": {
      "text/plain": [
       "<seaborn.axisgrid.FacetGrid at 0x7f2b809c5ed0>"
      ]
     },
     "execution_count": 67,
     "metadata": {},
     "output_type": "execute_result"
    },
    {
     "data": {
      "image/png": "[encoded data removed]",
      "text/plain": [
       "<matplotlib.figure.Figure at 0x7f2b809c5d50>"
      ]
     },
     "metadata": {},
     "output_type": "display_data"
    }
   ],
   "source": [
    "from stressme.plot import stacked_bar\n",
    "sns.set_style('white')\n",
    "stacked_bar('type', 'molf', dsplot2, 'cplx', 'group', size=4)"
   ]
  },
  {
   "cell_type": "markdown",
   "metadata": {
    "deletable": true,
    "editable": true
   },
   "source": [
    "# Test 5: for a shorter time horizon, there may not be a faster proteome in the vicinity of the initial proteome\n",
    "1. meaning the initial proteome will be kept indefinitely until conditions change, forcing slower growth\n",
    "1. Also implies that short-term greedy growth maximization strategy won't always work under environmental changes\n",
    "1. This is why regulation is needed to force short-term growth decrease to build up a better proteome that pays off after an adjustment time (lag, diauxie)"
   ]
  },
  {
   "cell_type": "markdown",
   "metadata": {
    "deletable": true,
    "editable": true
   },
   "source": []
  },
  {
   "cell_type": "markdown",
   "metadata": {
    "deletable": true,
    "editable": true
   },
   "source": [
    "## Preset bioreactor simulation"
   ]
  },
  {
   "cell_type": "code",
   "execution_count": 68,
   "metadata": {
    "collapsed": false,
    "deletable": true,
    "editable": true
   },
   "outputs": [
    {
     "name": "stdout",
     "output_type": "stream",
     "text": [
      "{'glyc_e': 4.34339676647141, 'malt_e': 1.1685776026677226, 'lac__L_e': 4.4908498933423155, 'gal_e': 2.220299442904667, 'ac_e': 0.0, 'glc__D_e': 2.220299442904667}\n",
      "{u'EX_glyc_e': -10.0, u'EX_o2_e': -20.0, u'EX_gal_e': -10.0, u'EX_lac__L_e': -10.0, u'EX_malt_e': -10.0, u'EX_ac_e': -10.0, 'EX_glc__D_e': -10.0}\n"
     ]
    }
   ],
   "source": [
    "import warnings\n",
    "\n",
    "T = 10   # hours\n",
    "V = 1.   # L\n",
    "X0 = 0.00675 / V  # g/L\n",
    "c0_dict = {'glc__D_e': 0.4,\n",
    "           'lac__L_e': 0.4,\n",
    "           'malt_e': 0.4,\n",
    "           'gal_e': 0.4,\n",
    "           'glyc_e':0.4,\n",
    "           'ac_e': 0.0}\n",
    "\n",
    "### Convert from g/L to mmol\n",
    "mids_remove = []\n",
    "for mid,c in c0_dict.iteritems():\n",
    "    try:        \n",
    "        met = me.metabolites.get_by_id(mid)    \n",
    "        c0_dict[met.id] = c / met.formula_weight * 1000\n",
    "    except KeyError:\n",
    "        warnings.warn('Model has no metabolite: %s. Will remove it from c0_dict' % mid)\n",
    "        mids_remove.append(mid)\n",
    "\n",
    "for mid in mids_remove:\n",
    "    c0_dict.pop(mid)\n",
    "        \n",
    "### Set max uptake rate\n",
    "LB_EX = -10.\n",
    "LB_O2 = -20.\n",
    "\n",
    "lb_dict={}\n",
    "ub_dict={}\n",
    "\n",
    "for mid in c0_dict.keys():\n",
    "    try:\n",
    "        rxn = dyme.get_exchange_rxn(mid)    \n",
    "        if rxn.id is 'EX_o2_e':\n",
    "            lb = LB_O2\n",
    "        else:\n",
    "            lb = LB_EX\n",
    "        rxn.lower_bound = lb\n",
    "        lb_dict[rxn.id] = lb\n",
    "    except KeyError:\n",
    "        warnings.warn('Model has no metabolite: '+ mid)\n",
    "\n",
    "me.reactions.EX_o2_e.lower_bound = -20.\n",
    "lb_dict[me.reactions.EX_o2_e.id] = -20.\n",
    "        \n",
    "print c0_dict\n",
    "print lb_dict"
   ]
  },
  {
   "cell_type": "markdown",
   "metadata": {
    "deletable": true,
    "editable": true
   },
   "source": [
    "### Seed with suboptimal proteome (slower growth on same substrate)"
   ]
  },
  {
   "cell_type": "code",
   "execution_count": 69,
   "metadata": {
    "collapsed": true,
    "deletable": true,
    "editable": true
   },
   "outputs": [],
   "source": [
    "F_SUBOPT = 0.5"
   ]
  },
  {
   "cell_type": "code",
   "execution_count": 70,
   "metadata": {
    "collapsed": false,
    "deletable": true,
    "editable": true
   },
   "outputs": [],
   "source": [
    "sol_sub = solver.solvelp(mu_me*F_SUBOPT, basis=solver.lp_hs)"
   ]
  },
  {
   "cell_type": "code",
   "execution_count": 71,
   "metadata": {
    "collapsed": true,
    "deletable": true,
    "editable": true
   },
   "outputs": [],
   "source": [
    "cplx_concs = get_cplx_concs(solver)\n",
    "cplx_conc_dict0 = dict(cplx_concs)"
   ]
  },
  {
   "cell_type": "code",
   "execution_count": 72,
   "metadata": {
    "collapsed": false,
    "deletable": true,
    "editable": true
   },
   "outputs": [
    {
     "data": {
      "text/plain": [
       "8.8030963390716137e-15"
      ]
     },
     "execution_count": 72,
     "metadata": {},
     "output_type": "execute_result"
    }
   ],
   "source": [
    "import numpy as np\n",
    "cvals = np.array(cplx_conc_dict0.values())\n",
    "cvals[ cvals>0].min()"
   ]
  },
  {
   "cell_type": "code",
   "execution_count": 73,
   "metadata": {
    "collapsed": true,
    "deletable": true,
    "editable": true
   },
   "outputs": [],
   "source": [
    "dyme = DelayedDynamicME(solver)"
   ]
  },
  {
   "cell_type": "code",
   "execution_count": 74,
   "metadata": {
    "collapsed": true,
    "deletable": true,
    "editable": true
   },
   "outputs": [],
   "source": [
    "solver.set_realopts('lp', {'Feasibility tol':1e-15, 'Optimality tol':1e-15})"
   ]
  },
  {
   "cell_type": "code",
   "execution_count": null,
   "metadata": {
    "collapsed": true,
    "deletable": true,
    "editable": true
   },
   "outputs": [],
   "source": [
    "dsolver.me.reactions."
   ]
  },
  {
   "cell_type": "code",
   "execution_count": 81,
   "metadata": {
    "collapsed": true,
    "deletable": true,
    "editable": true
   },
   "outputs": [],
   "source": [
    "if PROTOTYPE:\n",
    "    fluxes_plot = ['ACONTa_CPLX0-7760_mod_4fe4s', 'ACONTb_CPLX0-7760_mod_4fe4s', 'ACKr_reverse']\n",
    "else:\n",
    "    fluxes_plot = [r.id for r in dsolver.me.reactions if isinstance(r,MetabolicReaction)]"
   ]
  },
  {
   "cell_type": "code",
   "execution_count": null,
   "metadata": {
    "collapsed": false,
    "deletable": true,
    "editable": true,
    "scrolled": true
   },
   "outputs": [
    {
     "name": "stdout",
     "output_type": "stream",
     "text": [
      "Metabolite glyc_e available.\n",
      "Using default LB=-1000 for EX_glyc_e\n",
      "Metabolite ac_e depleted.\n",
      "Metabolite lac__L_e available.\n",
      "Using default LB=-1000 for EX_lac__L_e\n",
      "Metabolite malt_e available.\n",
      "Using default LB=-1000 for EX_malt_e\n",
      "Metabolite gal_e available.\n",
      "Using default LB=-1000 for EX_gal_e\n",
      "Metabolite glc__D_e available.\n",
      "Using default LB=-1000 for EX_glc__D_e\n",
      "Computing new uptake rates\n",
      "Biomass at t=0.5: 0.0088363\n",
      "Concentrations: {'glyc_e': 4.3403440066465082, 'ac_e': 0.0010231276741350991, 'lac__L_e': 4.4908498933423155, 'malt_e': 1.1685776026677226, 'gal_e': 2.220299442904667, 'glc__D_e': 2.1851412897505815}\n",
      "Growth rate: 0.6181640625\n",
      "Metabolite glyc_e available.\n",
      "Using default LB=-1000 for EX_glyc_e\n",
      "Metabolite ac_e available.\n",
      "Using default LB=-1000 for EX_ac_e\n",
      "Metabolite lac__L_e available.\n",
      "Using default LB=-1000 for EX_lac__L_e\n",
      "Metabolite malt_e available.\n",
      "Using default LB=-1000 for EX_malt_e\n",
      "Metabolite gal_e available.\n",
      "Using default LB=-1000 for EX_gal_e\n",
      "Metabolite glc__D_e available.\n",
      "Using default LB=-1000 for EX_glc__D_e\n",
      "Computing new uptake rates\n",
      "Biomass at t=1: 0.0118177\n",
      "Concentrations: {'glyc_e': 4.334305042739647, 'ac_e': 0.0026615887396453843, 'lac__L_e': 4.4908498933423155, 'malt_e': 1.1685776026677226, 'gal_e': 2.220299442904667, 'glc__D_e': 2.1351057691784563}\n",
      "Growth rate: 0.6748046875\n",
      "Metabolite glyc_e available.\n",
      "Using default LB=-1000 for EX_glyc_e\n",
      "Metabolite ac_e available.\n",
      "Using default LB=-1000 for EX_ac_e\n",
      "Metabolite lac__L_e available.\n",
      "Using default LB=-1000 for EX_lac__L_e\n",
      "Metabolite malt_e available.\n",
      "Using default LB=-1000 for EX_malt_e\n",
      "Metabolite gal_e available.\n",
      "Using default LB=-1000 for EX_gal_e\n",
      "Metabolite glc__D_e available.\n",
      "Using default LB=-1000 for EX_glc__D_e\n",
      "Computing new uptake rates\n",
      "Biomass at t=1.5: 0.0156896\n",
      "Concentrations: {'glyc_e': 4.3255652585957902, 'ac_e': 0.0054351548121814031, 'lac__L_e': 4.4908498933423155, 'malt_e': 1.1685776026677226, 'gal_e': 2.220299442904667, 'glc__D_e': 2.0709948462314602}\n",
      "Growth rate: 0.6552734375\n",
      "Metabolite glyc_e available.\n",
      "Using default LB=-1000 for EX_glyc_e\n",
      "Metabolite ac_e available.\n",
      "Using default LB=-1000 for EX_ac_e\n",
      "Metabolite lac__L_e available.\n",
      "Using default LB=-1000 for EX_lac__L_e\n",
      "Metabolite malt_e available.\n",
      "Using default LB=-1000 for EX_malt_e\n",
      "Metabolite gal_e available.\n",
      "Using default LB=-1000 for EX_gal_e\n",
      "Metabolite glc__D_e available.\n",
      "Using default LB=-1000 for EX_glc__D_e\n",
      "Computing new uptake rates\n",
      "Biomass at t=2: 0.020447\n",
      "Concentrations: {'glyc_e': 4.3144178458310014, 'ac_e': 0.0099535629020681988, 'lac__L_e': 4.4908498933423155, 'malt_e': 1.1685776026677226, 'gal_e': 2.220299442904667, 'glc__D_e': 1.9934308140080581}\n",
      "Growth rate: 0.6064453125\n",
      "Metabolite glyc_e available.\n",
      "Using default LB=-1000 for EX_glyc_e\n",
      "Metabolite ac_e available.\n",
      "Using default LB=-1000 for EX_ac_e\n",
      "Metabolite lac__L_e available.\n",
      "Using default LB=-1000 for EX_lac__L_e\n",
      "Metabolite malt_e available.\n",
      "Using default LB=-1000 for EX_malt_e\n",
      "Metabolite gal_e available.\n",
      "Using default LB=-1000 for EX_gal_e\n",
      "Metabolite glc__D_e available.\n",
      "Using default LB=-1000 for EX_glc__D_e\n",
      "Computing new uptake rates\n",
      "Biomass at t=2.5: 0.026078\n",
      "Concentrations: {'glyc_e': 4.3011119001359228, 'ac_e': 0.019300152088246314, 'lac__L_e': 4.4908498933423155, 'malt_e': 1.1685776026677226, 'gal_e': 2.220299442904667, 'glc__D_e': 1.902114776727571}\n",
      "Growth rate: 0.55078125\n",
      "Metabolite glyc_e available.\n",
      "Using default LB=-1000 for EX_glyc_e\n",
      "Metabolite ac_e available.\n",
      "Using default LB=-1000 for EX_ac_e\n",
      "Metabolite lac__L_e available.\n",
      "Using default LB=-1000 for EX_lac__L_e\n",
      "Metabolite malt_e available.\n",
      "Using default LB=-1000 for EX_malt_e\n",
      "Metabolite gal_e available.\n",
      "Using default LB=-1000 for EX_gal_e\n",
      "Metabolite glc__D_e available.\n",
      "Using default LB=-1000 for EX_glc__D_e\n",
      "Computing new uptake rates\n",
      "Biomass at t=3: 0.0325593\n",
      "Concentrations: {'glyc_e': 4.2859133772338369, 'ac_e': 0.035026689337059394, 'lac__L_e': 4.4908498933423155, 'malt_e': 1.1685776026677226, 'gal_e': 2.220299442904667, 'glc__D_e': 1.7971140608888798}\n",
      "Growth rate: 0.4970703125\n",
      "Metabolite glyc_e available.\n",
      "Using default LB=-1000 for EX_glyc_e\n",
      "Metabolite ac_e available.\n",
      "Using default LB=-1000 for EX_ac_e\n",
      "Metabolite lac__L_e available.\n",
      "Using default LB=-1000 for EX_lac__L_e\n",
      "Metabolite malt_e available.\n",
      "Using default LB=-1000 for EX_malt_e\n",
      "Metabolite gal_e available.\n",
      "Using default LB=-1000 for EX_gal_e\n",
      "Metabolite glc__D_e available.\n",
      "Using default LB=-1000 for EX_glc__D_e\n",
      "Computing new uptake rates\n",
      "Biomass at t=3.5: 0.0398883\n",
      "Concentrations: {'glyc_e': 4.26885035018186, 'ac_e': 0.058324418937900857, 'lac__L_e': 4.4908498933423155, 'malt_e': 1.1685776026677226, 'gal_e': 2.220299442904667, 'glc__D_e': 1.6779661109770068}\n",
      "Growth rate: 0.4501953125\n",
      "Metabolite glyc_e available.\n",
      "Using default LB=-1000 for EX_glyc_e\n",
      "Metabolite ac_e available.\n",
      "Using default LB=-1000 for EX_ac_e\n",
      "Metabolite lac__L_e available.\n",
      "Using default LB=-1000 for EX_lac__L_e\n",
      "Metabolite malt_e available.\n",
      "Using default LB=-1000 for EX_malt_e\n",
      "Metabolite gal_e available.\n",
      "Using default LB=-1000 for EX_gal_e\n",
      "Metabolite glc__D_e available.\n",
      "Using default LB=-1000 for EX_glc__D_e\n",
      "Computing new uptake rates\n",
      "Biomass at t=4: 0.0480685\n",
      "Concentrations: {'glyc_e': 4.2498316201182833, 'ac_e': 0.09202899941841422, 'lac__L_e': 4.4908498933423155, 'malt_e': 1.1685776026677226, 'gal_e': 2.220299442904667, 'glc__D_e': 1.5437004296863897}\n",
      "Growth rate: 0.41015625\n",
      "Metabolite glyc_e available.\n",
      "Using default LB=-1000 for EX_glyc_e\n",
      "Metabolite ac_e available.\n",
      "Using default LB=-1000 for EX_ac_e\n",
      "Metabolite lac__L_e available.\n",
      "Using default LB=-1000 for EX_lac__L_e\n",
      "Metabolite malt_e available.\n",
      "Using default LB=-1000 for EX_malt_e\n",
      "Metabolite gal_e available.\n",
      "Using default LB=-1000 for EX_gal_e\n",
      "Metabolite glc__D_e available.\n",
      "Using default LB=-1000 for EX_glc__D_e\n",
      "Computing new uptake rates\n",
      "Biomass at t=4.5: 0.0570344\n",
      "Concentrations: {'glyc_e': 4.2290872297718689, 'ac_e': 0.13950666941937326, 'lac__L_e': 4.4908498933423155, 'malt_e': 1.1685776026677226, 'gal_e': 2.220299442904667, 'glc__D_e': 1.3943393125887367}\n",
      "Growth rate: 0.373046875\n",
      "Metabolite glyc_e available.\n"
     ]
    }
   ],
   "source": [
    "%%time\n",
    "extra_rxns_tracked = ['EX_o2_e'] + fluxes_plot + ['biomass_dilution']\n",
    "\n",
    "T = 20\n",
    "dt = 0.5\n",
    "H = dt\n",
    "\n",
    "result = dyme.simulate_batch(\n",
    "    T,    \n",
    "    c0_dict,\n",
    "    X0,\n",
    "    prec_bs=1e-3,\n",
    "    ZERO_CONC=0.,\n",
    "    extra_rxns_tracked=extra_rxns_tracked,\n",
    "    lb_dict={},\n",
    "    verbosity=2,\n",
    "    dt = dt,\n",
    "    H = H,\n",
    "    cplx_conc_dict0=cplx_conc_dict0)"
   ]
  },
  {
   "cell_type": "markdown",
   "metadata": {
    "deletable": true,
    "editable": true
   },
   "source": [
    "### Save results"
   ]
  },
  {
   "cell_type": "code",
   "execution_count": 147,
   "metadata": {
    "collapsed": false,
    "deletable": true,
    "editable": true
   },
   "outputs": [],
   "source": [
    "import json\n",
    "result2 = result.copy()\n",
    "result2.keys()\n",
    "result2.pop('basis')\n",
    "\n",
    "with open('/home/laurence/ME/data/dynamicME/testing/iLE_sim.json','w') as f:\n",
    "    json.dump(result2, f)"
   ]
  },
  {
   "cell_type": "code",
   "execution_count": 95,
   "metadata": {
    "collapsed": false,
    "deletable": true,
    "editable": true
   },
   "outputs": [
    {
     "data": {
      "text/plain": [
       "[<matplotlib.lines.Line2D at 0x7f2b38b7c190>]"
      ]
     },
     "execution_count": 95,
     "metadata": {},
     "output_type": "execute_result"
    },
    {
     "data": {
      "image/png": "[encoded data removed]",
      "text/plain": [
       "<matplotlib.figure.Figure at 0x7f2b8050cb90>"
      ]
     },
     "metadata": {},
     "output_type": "display_data"
    }
   ],
   "source": [
    "import seaborn as sns\n",
    "%matplotlib inline\n",
    "\n",
    "sns.plt.plot(result['time'], result['biomass'])"
   ]
  },
  {
   "cell_type": "code",
   "execution_count": 96,
   "metadata": {
    "collapsed": false,
    "deletable": true,
    "editable": true
   },
   "outputs": [
    {
     "data": {
      "text/plain": [
       "{'ac_e': {'mw': 59.04402, 'rxn': <Reaction EX_ac_e at 0x7f2b90ca6950>},\n",
       " 'gal_e': {'mw': 180.15588, 'rxn': <Reaction EX_gal_e at 0x7f2b91ebfd50>},\n",
       " 'glc__D_e': {'mw': 180.15588,\n",
       "  'rxn': <Reaction EX_glc__D_e at 0x7f2b84d9ab90>},\n",
       " 'glyc_e': {'mw': 92.09382, 'rxn': <Reaction EX_glyc_e at 0x7f2b90b1cf50>},\n",
       " 'lac__L_e': {'mw': 89.07, 'rxn': <Reaction EX_lac__L_e at 0x7f2b7fe9ffd0>},\n",
       " 'malt_e': {'mw': 342.29648, 'rxn': <Reaction EX_malt_e at 0x7f2b92b69810>}}"
      ]
     },
     "execution_count": 96,
     "metadata": {},
     "output_type": "execute_result"
    }
   ],
   "source": [
    "ex_met_rxn_dict = {m: {'rxn':dyme.get_exchange_rxn(m), 'mw':me.metabolites.get_by_id(m).formula_weight} for m in c0_dict.keys()}\n",
    "ex_met_rxn_dict"
   ]
  },
  {
   "cell_type": "code",
   "execution_count": 97,
   "metadata": {
    "collapsed": false,
    "deletable": true,
    "editable": true,
    "scrolled": true
   },
   "outputs": [],
   "source": [
    "import pandas as pd\n",
    "\n",
    "df_conc = pd.DataFrame(result['concentration'])\n",
    "### Convert concentrations to g/L\n",
    "for mid, vals in ex_met_rxn_dict.iteritems():\n",
    "    df_conc[mid] = df_conc[mid] * vals['mw'] * 0.001\n",
    "\n",
    "df_time = pd.DataFrame({'time':t, 'biomass':b} for t,b in zip(result['time'], result['biomass']))\n",
    "df_flux = pd.DataFrame(result['ex_flux'])\n",
    "df_mu   = pd.DataFrame({'mu':result['growth_rate']})\n",
    "df_result = pd.concat([df_time, df_conc, df_flux, df_mu], axis=1)"
   ]
  },
  {
   "cell_type": "code",
   "execution_count": 98,
   "metadata": {
    "collapsed": true,
    "deletable": true,
    "editable": true
   },
   "outputs": [],
   "source": [
    "dsplot = pd.melt(df_result, id_vars='time', value_vars=['biomass','ac_e','gal_e','glc__D_e','glyc_e','lac__L_e','malt_e'])\n",
    "dsplot.time = pd.to_numeric(dsplot.time)\n",
    "dsplot['category'] = 'Metabolite'\n",
    "dsplot.loc[ dsplot.variable=='biomass', 'category'] = 'Biomass'"
   ]
  },
  {
   "cell_type": "code",
   "execution_count": 99,
   "metadata": {
    "collapsed": false,
    "deletable": true,
    "editable": true
   },
   "outputs": [
    {
     "data": {
      "text/plain": [
       "<seaborn.axisgrid.FacetGrid at 0x7f2b38b87b50>"
      ]
     },
     "execution_count": 99,
     "metadata": {},
     "output_type": "execute_result"
    },
    {
     "data": {
      "image/png": "[encoded data removed]",
      "text/plain": [
       "<matplotlib.figure.Figure at 0x7f2b38b87450>"
      ]
     },
     "metadata": {},
     "output_type": "display_data"
    }
   ],
   "source": [
    "colors = [\n",
    "'#000000', # biomass\n",
    "'#660066', # acetate\n",
    "'#00CC00', #'#00FF00', # galactose\n",
    "'#000000', # glucose\n",
    "'#FF00FF', # glycerol\n",
    "'#0000FF', # lactate\n",
    "'#FF0000', # maltose\n",
    "]\n",
    "\n",
    "colpal = sns.color_palette(colors)\n",
    "sns.set_palette(colpal)\n",
    "\n",
    "g = sns.FacetGrid(data=dsplot, hue='variable', col='category', sharey=False, size=5)\n",
    "\n",
    "g.map(sns.plt.plot, 'time', 'value', linestyle='-', marker='.')\n",
    "g.add_legend()"
   ]
  },
  {
   "cell_type": "code",
   "execution_count": 100,
   "metadata": {
    "collapsed": false,
    "deletable": true,
    "editable": true
   },
   "outputs": [],
   "source": [
    "if PROTOTYPE:\n",
    "    complexes_plot = ['IPPMIa_E_c', 'ACKr_reverse_E_c', 'CPLX0-7760_mod_4fe4s','CPLX0-7761_mod_4fe4s']\n",
    "else:\n",
    "    complexes_plot = ['3-ISOPROPYLMALISOM-CPLX_mod_4fe4s', 'ACETATEKINA-MONOMER_mod_mg2', 'CPLX0-7659']"
   ]
  },
  {
   "cell_type": "code",
   "execution_count": 117,
   "metadata": {
    "collapsed": false,
    "deletable": true,
    "editable": true
   },
   "outputs": [
    {
     "name": "stdout",
     "output_type": "stream",
     "text": [
      "9\n"
     ]
    }
   ],
   "source": [
    "fluxes_plot2 = []\n",
    "\n",
    "for rid in fluxes_plot:\n",
    "    rxn = dsolver.me.reactions.get_by_id(rid)\n",
    "    if abs(rxn.x) > 10:\n",
    "        fluxes_plot2.append(rxn.id)\n",
    "        \n",
    "print len(fluxes_plot2)"
   ]
  },
  {
   "cell_type": "code",
   "execution_count": 118,
   "metadata": {
    "collapsed": false,
    "deletable": true,
    "editable": true
   },
   "outputs": [],
   "source": [
    "df_mu = pd.DataFrame([{'time':t, 'variable':'growth_rate', 'value':c, 'category':'growth'} for t,c in zip(result['time'], result['growth_rate'])] )\n",
    "\n",
    "df_complex = pd.DataFrame([{'time':t, 'complex':c, 'abundance':cdict[c]} \n",
    "                           for t,cdict in zip(result['time'], result['complex']) for c in complexes_plot] )\n",
    "\n",
    "df_mflux = pd.DataFrame([{'time':t, 'rxn':c, 'flux':cdict[c]} \n",
    "                           for t,cdict in zip(result['time'], result['rxn_flux']) for c in fluxes_plot2] )\n",
    "\n",
    "df_complex.loc[:,'category'] = 'complex'\n",
    "df_mflux.loc[:,'category'] = 'flux'\n",
    "\n",
    "dsplot_all = pd.concat([dsplot,\n",
    "                        df_mu,\n",
    "                          df_complex.rename(columns={'complex':'variable', 'abundance':'value'}),\n",
    "                          df_mflux.rename(columns={'rxn':'variable', 'flux':'value'})])"
   ]
  },
  {
   "cell_type": "code",
   "execution_count": 121,
   "metadata": {
    "collapsed": false,
    "deletable": true,
    "editable": true
   },
   "outputs": [
    {
     "data": {
      "text/plain": [
       "<seaborn.axisgrid.FacetGrid at 0x7f2b38a5ab10>"
      ]
     },
     "execution_count": 121,
     "metadata": {},
     "output_type": "execute_result"
    },
    {
     "data": {
      "image/png": "[encoded data removed]",
      "text/plain": [
       "<matplotlib.figure.Figure at 0x7f2b38b87a10>"
      ]
     },
     "metadata": {},
     "output_type": "display_data"
    }
   ],
   "source": [
    "sns.set_style('ticks')\n",
    "palette = sns.color_palette('muted', len(dsplot_all.variable.unique()))\n",
    "g = sns.FacetGrid(data=dsplot_all, hue='variable', sharey=False, size=3, col='category', palette=palette,\n",
    "                  aspect=2, col_wrap=2, col_order=['Biomass','complex','Metabolite','flux','growth'])\n",
    "g.map(sns.plt.plot, 'time', 'value', linestyle='-', marker='.')\n",
    "g.add_legend()"
   ]
  },
  {
   "cell_type": "code",
   "execution_count": 148,
   "metadata": {
    "collapsed": false
   },
   "outputs": [
    {
     "data": {
      "text/plain": [
       "['rxn_flux',\n",
       " 'complex',\n",
       " 'ex_flux',\n",
       " 'time',\n",
       " 'concentration',\n",
       " 'basis',\n",
       " 'biomass',\n",
       " 'growth_rate']"
      ]
     },
     "execution_count": 148,
     "metadata": {},
     "output_type": "execute_result"
    }
   ],
   "source": [
    "result.keys()"
   ]
  },
  {
   "cell_type": "markdown",
   "metadata": {
    "deletable": true,
    "editable": true
   },
   "source": [
    "## Proteome mol (mass) fractions"
   ]
  },
  {
   "cell_type": "code",
   "execution_count": 122,
   "metadata": {
    "collapsed": false,
    "deletable": true,
    "editable": true
   },
   "outputs": [
    {
     "data": {
      "text/plain": [
       "array(['FLAVODOXIN2-MONOMER', 'G6700-MONOMER',\n",
       "       'N-ACETYLGLUTPREDUCT-MONOMER', 'ADENYL-KIN-MONOMER_mod_mg2',\n",
       "       'PGAM2-MONOMER', 'ACETYLGLUTKIN-CPLX_mod_mg2', 'PGK-CPLX',\n",
       "       'EG10043-MONOMER_mod_mg2', 'ANTHRANSYNCOMPII-MONOMER',\n",
       "       'AROA-MONOMER'], dtype=object)"
      ]
     },
     "execution_count": 122,
     "metadata": {},
     "output_type": "execute_result"
    }
   ],
   "source": [
    "df_cplx = pd.DataFrame([{'cplx':k, 'conc':v, 'time':result['time'][i]} for i,r in enumerate(result['complex']) for k,v in r.iteritems()])\n",
    "\n",
    "times = df_cplx.time.unique()\n",
    "for t in times:\n",
    "    dfi = df_cplx[ df_cplx.time==t]\n",
    "    mtot = dfi.conc.sum()\n",
    "    b = (df_cplx.time==t).values\n",
    "    df_cplx.loc[b,'molf'] = df_cplx.loc[b,'conc'] / mtot\n",
    "    \n",
    "df_var = df_cplx.groupby('cplx').molf.var().reset_index()\n",
    "df_var.molf.min()\n",
    "df_var.molf.max()\n",
    "N_PLOT = 10\n",
    "vary_cplxs = df_var.sort_values('molf', ascending=False)['cplx'][0:N_PLOT].values\n",
    "vary_cplxs"
   ]
  },
  {
   "cell_type": "code",
   "execution_count": 123,
   "metadata": {
    "collapsed": false,
    "deletable": true,
    "editable": true
   },
   "outputs": [
    {
     "data": {
      "text/plain": [
       "<seaborn.axisgrid.FacetGrid at 0x7f2b3793b910>"
      ]
     },
     "execution_count": 123,
     "metadata": {},
     "output_type": "execute_result"
    },
    {
     "data": {
      "image/png": "[encoded data removed]",
      "text/plain": [
       "<matplotlib.figure.Figure at 0x7f2b6d917d50>"
      ]
     },
     "metadata": {},
     "output_type": "display_data"
    }
   ],
   "source": [
    "dsplot_cplx = df_cplx[ df_cplx.cplx.isin(vary_cplxs)]\n",
    "dsplot_cplx.loc[:,'group'] = 'DynamicDelayedME'\n",
    "stacked_bar('time', 'molf', dsplot_cplx, 'cplx', 'group', aspect=4)"
   ]
  },
  {
   "cell_type": "markdown",
   "metadata": {
    "deletable": true,
    "editable": true
   },
   "source": [
    "## Expression fluxes"
   ]
  },
  {
   "cell_type": "markdown",
   "metadata": {
    "deletable": true,
    "editable": true
   },
   "source": [
    "## Check |slacks|>ftol for equality constraints to find infeasible\n",
    "\n",
    "- Ax + s = 0\n",
    "- Ax = -s\n",
    "\n",
    "import numpy as np\n",
    "infeas_cons = {}\n",
    "\n",
    "ZERO = 1e-15\n",
    "N = len(dsolver.me.reactions)\n",
    "M = len(dsolver.me.metabolites)\n",
    "           \n",
    "for met in dsolver.me.metabolites:\n",
    "    if met._constraint_sense == 'E':\n",
    "        i = dsolver.me.metabolites.index(met)        \n",
    "        s = x[N+i]\n",
    "        b = met._bound\n",
    "        e = b+s # since -s = b OR b+s = 0\n",
    "        if abs(e) > ZERO:\n",
    "            infeas_cons[met.id] = e\n",
    "max_abs_infeas = max(abs(np.array(infeas_cons.values())))\n",
    "print 'Max abs primal infeas:', max_infeas\n",
    "print 'Min abs primal infeas:', min(abs(np.array(infeas_cons.values())))\n",
    "print 'Sum of abs infeas:', sum(abs(np.array(infeas_cons.values())))\n",
    "print '# of infeasibilities:', len(infeas_cons)"
   ]
  },
  {
   "cell_type": "code",
   "execution_count": null,
   "metadata": {
    "collapsed": true,
    "deletable": true,
    "editable": true
   },
   "outputs": [],
   "source": []
  }
 ],
 "metadata": {
  "kernelspec": {
   "display_name": "Python 2",
   "language": "python",
   "name": "python2"
  },
  "language_info": {
   "codemirror_mode": {
    "name": "ipython",
    "version": 2
   },
   "file_extension": ".py",
   "mimetype": "text/x-python",
   "name": "python",
   "nbconvert_exporter": "python",
   "pygments_lexer": "ipython2",
   "version": "2.7.13"
  }
 },
 "nbformat": 4,
 "nbformat_minor": 2
}
