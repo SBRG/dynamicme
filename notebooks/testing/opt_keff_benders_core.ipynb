{
 "cells": [
  {
   "cell_type": "markdown",
   "metadata": {},
   "source": [
    "# Overall problem\n",
    "$$\n",
    "\\begin{align*}\n",
    "\\min_{y,v,x,z,w} \\quad & \\sum_i y_i  = f'y \\\\\n",
    "\\mathrm{s.t.} \\quad & S^k v^k = 0 \\\\\n",
    "& \\sum_i x_i^k \\leq c^k \\\\\n",
    "& x_i^k = \\alpha_i v_i^k + \\beta_i z_i^k - \\alpha_i z_i^k \\\\\n",
    "& -M (1-y_i) \\leq z_i^k - v_i^k \\leq M (1-y_i) \\\\\n",
    "& l_i^k y_i \\leq z_i^k \\leq u_i^k y_i \\\\\n",
    "& l_i^k \\leq v_i^k \\leq u_i^k \\\\\n",
    "& y_i \\in \\{0,1\\} \\\\\n",
    "& [\\text{Duality gap constraints}]\n",
    "\\end{align*}\n",
    "$$"
   ]
  },
  {
   "cell_type": "markdown",
   "metadata": {},
   "source": [
    "## Master\n",
    "$$\n",
    "\\begin{align*}\n",
    "\\min_{y,z} \\quad & z \\\\\n",
    "\\mathrm{s.t.} \\quad & z \\geq f'y + \\hat{z}(y), & \\forall l \\in \\mathrm{OptimalityCuts}\\\\\n",
    "& \\hat{z}(y) \\leq 0, & \\forall l \\in \\mathrm{FeasibilityCuts}\n",
    "\\end{align*}\n",
    "$$"
   ]
  },
  {
   "cell_type": "markdown",
   "metadata": {},
   "source": [
    "## Sub(k)\n",
    "\\begin{align}\n",
    "\\min_{v,x,z,w} \\quad & f'y^* + \\hat{z} \\\\\n",
    "\\mathrm{s.t.} \\quad & S^k v^k = b^k \\\\\n",
    "& sp^k - sn^k - (c^k)^T v^k = - \\mu^{*k} \\\\\n",
    "& \\sum_i x_i^k \\leq C^k \\\\\n",
    "& x_i^k - \\alpha_i v_i^k - \\beta_i z_i^k + \\alpha_i z_i^k = 0\\\\\n",
    "%& -M\\cdot (1-y^*_i) \\leq z_i^k - v_i^k  \\\\\n",
    "&  M\\cdot y^*_i - z_i^k + v_i^k  \\leq M \\\\\n",
    "%& z_i^k - v_i^k \\leq M \\cdot (1-y^*_i) \\\\\n",
    "& z_i^k - v_i^k + M\\cdot y^*_i \\leq M \\\\\n",
    "& l_i^k y^*_i \\leq z_i^k\\\\\n",
    "& z_i^k \\leq u_i^k y^*_i \\\\\n",
    "& l_i^k \\leq v_i^k \\\\\n",
    "& v_i^k \\leq u_i^k \\\\\n",
    "& sp^k + sn^k \\leq p^k \\\\\n",
    "& w^a C + w^u u - w^l l -(c^k)^T v^k = 0  \\\\\n",
    "& w^S S + w^u - w^l + w^a \\alpha_i + z^a_i (\\beta_i - \\alpha_i)  = (c^k)^T \\\\\n",
    "%& -M\\cdot (1-y^*_i) \\leq z_i^{a,k} - w^{a,k} \\\\\n",
    "& M y^*_i - z_i^{a,k} + w^{a,k} \\leq M \\\\\n",
    "%& z_i^{a,k} - w^{a,k} \\leq M \\cdot (1-y^*_i) \\\\\n",
    "& z_i^{a,k} - w^{a,k} +M y^*_i \\leq M \\\\\n",
    "& w^{a,l} y^*_i \\leq z_i^{a,k} \\\\\n",
    "& z_i^{a,k} \\leq w^{a,u} y^*_i \\\\\n",
    "& y^*_i \\in \\{0,1\\} \\\\\n",
    "& sp, sn \\geq 0 \\\\\n",
    "& w^u, w^l, w^a \\geq 0 \\\\\n",
    "& v^k, w^s, z \\in \\mathbb{R}\n",
    "\\end{align}"
   ]
  },
  {
   "cell_type": "markdown",
   "metadata": {},
   "source": [
    "## Dual of Sub(k)\n",
    "$$\n",
    "\\begin{align*}\n",
    "\\max \\quad & d^s\\cdot b - d^\\mu\\cdot \\mu^* - d^c \\cdot C - d^{zl}\\cdot M - d^{zu}\\cdot M \n",
    "+ d^{zyl} (l y^*) - d^{zyu}(u y^*) + d^{vl} l - d^{vu} u - d^{abs} p \n",
    "+ d^{ws} c - d^{wal}M - d^{wau}M \\\\\n",
    "\\mathrm{s.t.} \\quad\n",
    "%%% v\n",
    "& 0 = S\\cdot d^s - c\\cdot d^\\mu - d^{x} \\alpha - d^{zl} + d^{zu} + d^{vl} - d^{vu} -c\\cdot d^{wc}  \\\\\n",
    "%%% sp\n",
    "& 0 = d^\\mu - d^{abs} \\\\\n",
    "%%% sn\n",
    "& 0 = -d^\\mu -d^{abs} \\\\\n",
    "%%% x\n",
    "& 0 = -d^c + d^x  \\\\\n",
    "%%% z\n",
    "& 0 = (\\alpha_i - \\beta_i) d^x  + d^{zl} - d^{zu} + d^{zyl} - d^{zyu} \\\\\n",
    "%%% ws\n",
    "& 0 = S \\cdot d^{ws} \\\\\n",
    "%%% wa\n",
    "& 0 = C \\cdot d^{wa} + \\alpha_i d^{ws} - d^{wal} + d^{wau} - y^* d^{zal} + y^* d^{zau} \\\\\n",
    "%%% wl\n",
    "& 0 = -l\\cdot d^{wc} - d^{ws}\\\\\n",
    "%%% wu\n",
    "& 0 = u\\cdot d^{wc} + d^{ws} \\\\\n",
    "%%% za\n",
    "& 0 = (\\beta-\\alpha) d^{wc} + d^{wal} - d^{wau} + d^{zal} - d^{zau} \\\\\n",
    "& d^c,d^{zl},d^{zu},d^{zyl},d^{zyu},d^{vl},d^{vu}, d^{abs}, d^{wal}, d^{wau}, d^{zal}, d^{zau} \\geq 0 \\\\\n",
    "& d^s, d^\\mu, d^x, d^{wa}, d^{ws} \\in \\mathbb{R}\n",
    "\\end{align*}\n",
    "$$"
   ]
  },
  {
   "cell_type": "markdown",
   "metadata": {},
   "source": [
    "## Optimality cut\n",
    "$$\n",
    "z \\geq f'y + d^s\\cdot b - d^\\mu\\cdot \\mu^* - d^c \\cdot C - d^{zl}\\cdot M - d^{zu}\\cdot M \n",
    "+ d^{zyl} l \\cdot y - d^{zyu} u \\cdot  y + d^{vl} l - d^{vu} u - d^{abs} p \n",
    "+ d^{ws} c - d^{wal}M - d^{wau}M\n",
    "$$\n",
    "## Feasibility cut\n",
    "$$\n",
    "d^s\\cdot b - d^\\mu\\cdot \\mu^* - d^c \\cdot C - d^{zl}\\cdot M - d^{zu}\\cdot M \n",
    "+ d^{zyl} l \\cdot y - d^{zyu} u \\cdot  y + d^{vl} l - d^{vu} u - d^{abs} p \n",
    "+ d^{ws} c - d^{wal}M - d^{wau}M \\leq 0\n",
    "$$"
   ]
  },
  {
   "cell_type": "code",
   "execution_count": 27,
   "metadata": {
    "collapsed": false
   },
   "outputs": [],
   "source": [
    "from cobra import Metabolite, Reaction\n",
    "from dynamicme.optimize import Constraint, Variable\n",
    "from cobra.io import load_json_model"
   ]
  },
  {
   "cell_type": "code",
   "execution_count": null,
   "metadata": {
    "collapsed": true
   },
   "outputs": [],
   "source": [
    "gem0 = load_json_model('/home/laurence/ME/models/BiGG_M/json/e_coli_core.json')"
   ]
  },
  {
   "cell_type": "code",
   "execution_count": 86,
   "metadata": {
    "collapsed": true
   },
   "outputs": [],
   "source": [
    "gem = load_json_model('/home/laurence/ME/models/BiGG_M/json/e_coli_core.json')\n",
    "\n",
    "keff0 = 1./65/3600\n",
    "rxns_c = [r for r in gem.reactions if all([m.compartment=='c' for m in r.metabolites.keys()]) and 'BIOMASS' not in r.id]\n",
    "crowding = Constraint('crowding')\n",
    "crowding._constraint_sense = 'L'\n",
    "crowding._bound = 0.0003\n",
    "gem.add_metabolites(crowding)\n",
    "for rxn in rxns_c:\n",
    "    rxn.add_metabolites({crowding:keff0})"
   ]
  },
  {
   "cell_type": "code",
   "execution_count": 87,
   "metadata": {
    "collapsed": false
   },
   "outputs": [
    {
     "data": {
      "text/plain": [
       "<Solution 0.87 at 0x7fc4dfdc2250>"
      ]
     },
     "execution_count": 87,
     "metadata": {},
     "output_type": "execute_result"
    }
   ],
   "source": [
    "gem0.optimize()"
   ]
  },
  {
   "cell_type": "code",
   "execution_count": 88,
   "metadata": {
    "collapsed": false
   },
   "outputs": [
    {
     "data": {
      "text/plain": [
       "<Solution 0.67 at 0x7fc4dfdc2090>"
      ]
     },
     "execution_count": 88,
     "metadata": {},
     "output_type": "execute_result"
    }
   ],
   "source": [
    "gem.optimize()"
   ]
  },
  {
   "cell_type": "code",
   "execution_count": 89,
   "metadata": {
    "collapsed": false
   },
   "outputs": [
    {
     "data": {
      "text/plain": [
       "0.0002999999999999487"
      ]
     },
     "execution_count": 89,
     "metadata": {},
     "output_type": "execute_result"
    }
   ],
   "source": [
    "sum([r.x*r.metabolites[crowding] for r in crowding.reactions])"
   ]
  },
  {
   "cell_type": "code",
   "execution_count": 3,
   "metadata": {
    "collapsed": true
   },
   "outputs": [],
   "source": [
    "from gurobipy import *"
   ]
  },
  {
   "cell_type": "code",
   "execution_count": 90,
   "metadata": {
    "collapsed": true
   },
   "outputs": [],
   "source": [
    "UB = 1e3\n",
    "N_KEFF = len(gem.metabolites.crowding.reactions)\n",
    "\n",
    "master = Model('master')\n",
    "z = master.addVar(0., 1e6, 0., GRB.CONTINUOUS, 'z')\n",
    "y = [master.addVar(0,1,0, GRB.BINARY, 'y[i]') for i in range(N_KEFF)]\n",
    "master.addConstr(z >= sum([y[i] for i in range(N_KEFF)]))\n",
    "master.setObjective(z, GRB.MINIMIZE)"
   ]
  },
  {
   "cell_type": "markdown",
   "metadata": {
    "deletable": true,
    "editable": true
   },
   "source": [
    "## Sub(k)\n",
    "\\begin{align*}\n",
    "\\min_{v,x,z} \\quad & f'y^* + 0'x \\\\\n",
    "\\mathrm{s.t.} \\quad & S^k v^k = 0 \\\\\n",
    "& sp^k - sn^k = (c^k)^T v^k - \\mu^{*k} \\\\\n",
    "& \\sum_i x_i^k \\leq C^k \\\\\n",
    "& x_i^k = \\alpha_i v_i^k + \\beta_i z_i^k - \\alpha_i z_i^k \\\\\n",
    "& -M\\cdot (1-y^*_i) \\leq z_i^k - v_i^k \\leq M \\cdot (1-y^*_i) \\\\\n",
    "& l_i^k y^*_i \\leq z_i^k \\leq u_i^k y^*_i \\\\\n",
    "& l_i^k \\leq v_i^k \\leq u_i^k \\\\\n",
    "& sp^k + sn^k \\leq f^k \\\\\n",
    "& (c^k)^T v^k = w^a C + w^u u - w^l l \\\\\n",
    "& w^S S + w^u - w^l + w^a \\alpha_i + z^a_i (\\beta_i - \\alpha_i)  = (c^k)^T \\\\\n",
    "& -M\\cdot (1-y^*_i) \\leq z_i^{a,k} - w^{a,k} \\leq M \\cdot (1-y^*_i) \\\\\n",
    "& w^{a,l} y^*_i \\leq z_i^{a,k} \\leq w^{a,u} y^*_i \\\\\n",
    "& y^*_i \\in \\{0,1\\} \\\\\n",
    "& sp, sn \\geq 0 \\\\\n",
    "& w^u, w^l, w^a \\geq 0 \\\\\n",
    "& v^k, w^s, z \\in \\mathbb{R}\n",
    "\\end{align*}"
   ]
  },
  {
   "cell_type": "code",
   "execution_count": 93,
   "metadata": {
    "collapsed": false
   },
   "outputs": [],
   "source": [
    "### Multiple subproblems\n",
    "sub = Model('sub')"
   ]
  }
 ],
 "metadata": {
  "kernelspec": {
   "display_name": "Python 2",
   "language": "python",
   "name": "python2"
  },
  "language_info": {
   "codemirror_mode": {
    "name": "ipython",
    "version": 2
   },
   "file_extension": ".py",
   "mimetype": "text/x-python",
   "name": "python",
   "nbconvert_exporter": "python",
   "pygments_lexer": "ipython2",
   "version": "2.7.14"
  }
 },
 "nbformat": 4,
 "nbformat_minor": 2
}
