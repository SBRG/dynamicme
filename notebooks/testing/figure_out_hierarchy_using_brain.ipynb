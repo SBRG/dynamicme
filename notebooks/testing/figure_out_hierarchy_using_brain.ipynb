{
 "cells": [
  {
   "cell_type": "markdown",
   "metadata": {
    "deletable": true,
    "editable": true
   },
   "source": [
    "# Can figure out substrate uptake hierarchy without running the whole simulation"
   ]
  },
  {
   "cell_type": "markdown",
   "metadata": {
    "deletable": true,
    "editable": true
   },
   "source": [
    "# Match individual growth rates first\n",
    "# Using coarse model"
   ]
  },
  {
   "cell_type": "code",
   "execution_count": 2,
   "metadata": {
    "collapsed": false,
    "deletable": true,
    "editable": true
   },
   "outputs": [],
   "source": [
    "import seaborn as sns\n",
    "import pandas as pd\n",
    "import matplotlib.pyplot as plt\n",
    "\n",
    "plt.rcParams['svg.fonttype'] = 'none'\n",
    "pd.set_option('display.max_colwidth', -1)\n",
    "%matplotlib inline"
   ]
  },
  {
   "cell_type": "code",
   "execution_count": 3,
   "metadata": {
    "collapsed": true,
    "deletable": true,
    "editable": true
   },
   "outputs": [],
   "source": [
    "PROTOTYPE = False"
   ]
  },
  {
   "cell_type": "code",
   "execution_count": 4,
   "metadata": {
    "collapsed": true,
    "deletable": true,
    "editable": true
   },
   "outputs": [],
   "source": [
    "from dynamicme.tests.helpme import HelpME\n",
    "from dynamicme.dynamic import get_cplx_concs\n",
    "\n",
    "helper = HelpME(prototyping=PROTOTYPE)\n",
    "solver = helper.solver\n",
    "me = solver.me"
   ]
  },
  {
   "cell_type": "markdown",
   "metadata": {
    "deletable": true,
    "editable": true
   },
   "source": [
    "## Change keffs until uptake hierarchy correct"
   ]
  },
  {
   "cell_type": "code",
   "execution_count": 87,
   "metadata": {
    "collapsed": false,
    "deletable": true,
    "editable": true
   },
   "outputs": [
    {
     "name": "stdout",
     "output_type": "stream",
     "text": [
      "biggids not mapped: 252\n"
     ]
    }
   ],
   "source": [
    "import numpy as np\n",
    "\n",
    "df_dh = pd.read_csv('/home/laurence/ME/data/DHeckmann/kappmax_rf_dl_iJO.csv')\n",
    "\n",
    "import re\n",
    "from cobra.io import load_json_model\n",
    "\n",
    "ijo = load_json_model('/home/laurence/ME/models/BiGG_M/json/iJO1366.json')\n",
    "\n",
    "rows = []\n",
    "biggids = df_dh['bigg.id'].apply(lambda x: re.sub(r'(_[b|f]$)', '',x)).unique()\n",
    "missed = []\n",
    "for biggid in biggids:\n",
    "    try:\n",
    "        sdata = me.stoichiometric_data.get_by_id(biggid)\n",
    "        mrxn = ijo.reactions.get_by_id(biggid)\n",
    "        rname = mrxn.name        \n",
    "        for rxn in sdata.parent_reactions:\n",
    "            mmol_gDW = rxn.x / rxn.keff / 3600\n",
    "            rows.append({'bigg_id':biggid, 'rxn':rxn.id, 'name':rname, 'keff_nominal':rxn.keff, 'subsystem':mrxn.subsystem, 'reaction':mrxn.reaction, 'mmol_gDW':mmol_gDW})\n",
    "    except KeyError:\n",
    "        missed.append(biggid)\n",
    "        \n",
    "df_rmap = pd.DataFrame(rows)\n",
    "        \n",
    "print 'biggids not mapped:', len(missed)"
   ]
  },
  {
   "cell_type": "code",
   "execution_count": 92,
   "metadata": {
    "collapsed": false,
    "deletable": true,
    "editable": true
   },
   "outputs": [
    {
     "name": "stdout",
     "output_type": "stream",
     "text": [
      "Subsystems: 35\n",
      "Rxns within alternate carbon metab: 285\n",
      "Expressed protein (mmol/gDW): 0.00495155284852\n"
     ]
    }
   ],
   "source": [
    "print 'Subsystems:', len(df_rmap.subsystem.unique())\n",
    "print 'Rxns within alternate carbon metab:', len(df_rmap.rxn[ df_rmap.subsystem=='Alternate Carbon Metabolism'])\n",
    "\n",
    "ProtM = df_rmap.mmol_gDW.sum()\n",
    "print 'Expressed protein (mmol/gDW):', ProtM"
   ]
  },
  {
   "cell_type": "code",
   "execution_count": 207,
   "metadata": {
    "collapsed": false,
    "deletable": true,
    "editable": true
   },
   "outputs": [
    {
     "name": "stdout",
     "output_type": "stream",
     "text": [
      "CPU times: user 2.54 s, sys: 20 ms, total: 2.56 s\n",
      "Wall time: 2.55 s\n"
     ]
    }
   ],
   "source": [
    "%%time\n",
    "\n",
    "KEFF_SCALE = 0.42\n",
    "\n",
    "from cobra import Metabolite, Reaction\n",
    "\n",
    "ijomc = load_json_model('/home/laurence/ME/models/BiGG_M/json/iJO1366.json')\n",
    "\n",
    "cons_crowding = Metabolite('crowding')\n",
    "ijomc.add_metabolites([cons_crowding])\n",
    "\n",
    "# sum_j v/keff  <= P [mmol/gDW]\n",
    "\n",
    "for rid in df_rmap.bigg_id.unique():\n",
    "    row = df_rmap[ df_rmap.bigg_id==rid].iloc[0]\n",
    "    rxn = ijomc.reactions.get_by_id(rid)\n",
    "    if rxn.lower_bound < 0:\n",
    "        rxn_abs = Reaction(rxn.id + '_abs')\n",
    "        ijomc.add_reaction(rxn_abs)\n",
    "        # rabs >= r  :  rabs - r >= 0\n",
    "        # rabs >= -r :  rabs + r >= 0        \n",
    "        cons_abs_p = Metabolite('cons_'+rxn.id+'_abs_p')\n",
    "        cons_abs_n = Metabolite('cons_'+rxn.id+'_abs_n')\n",
    "        cons_abs_p._constraint_sense = 'G'\n",
    "        cons_abs_n._constraint_sense = 'G'\n",
    "        rxn_abs.add_metabolites({cons_abs_p: 1., cons_abs_n: 1.})\n",
    "        rxn.add_metabolites({cons_abs_p:-1., cons_abs_n:1.})\n",
    "        keff = row['keff_nominal'] * KEFF_SCALE\n",
    "        rxn_abs.add_metabolites({cons_crowding:1./keff/3600 })\n",
    "    else:\n",
    "        rxn.add_metabolites({cons_crowding:1./row['keff_nominal']/3600})\n",
    "\n",
    "cons_crowding._constraint_sense = 'L'\n",
    "cons_crowding._bound = ProtM"
   ]
  },
  {
   "cell_type": "code",
   "execution_count": 208,
   "metadata": {
    "collapsed": false
   },
   "outputs": [
    {
     "data": {
      "text/plain": [
       "<Solution 0.75 at 0x7fb0832b9c50>"
      ]
     },
     "execution_count": 208,
     "metadata": {},
     "output_type": "execute_result"
    }
   ],
   "source": [
    "ijomc.optimize()"
   ]
  },
  {
   "cell_type": "code",
   "execution_count": 209,
   "metadata": {
    "collapsed": true
   },
   "outputs": [],
   "source": [
    "df_meas = pd.read_csv('/home/laurence/ME/data/dynamicME/beg/growth_meas.csv')"
   ]
  },
  {
   "cell_type": "code",
   "execution_count": 210,
   "metadata": {
    "collapsed": true,
    "deletable": true,
    "editable": true
   },
   "outputs": [],
   "source": [
    "rank_meas = {'EX_ac_e': 5,\n",
    "             'EX_gal_e': 2,\n",
    "             'EX_glc__D_e': 0,\n",
    "             'EX_glyc_e': 4,\n",
    "             'EX_lac__L_e': 1,\n",
    "             'EX_malt_e': 3\n",
    "            }    "
   ]
  },
  {
   "cell_type": "code",
   "execution_count": 211,
   "metadata": {
    "collapsed": false
   },
   "outputs": [
    {
     "name": "stdout",
     "output_type": "stream",
     "text": [
      "CPU times: user 4.94 s, sys: 0 ns, total: 4.94 s\n",
      "Wall time: 4.93 s\n"
     ]
    }
   ],
   "source": [
    "%%time\n",
    "\n",
    "mrows = []\n",
    "ZERO = 1e-8\n",
    "\n",
    "for ex_id in rank_meas.keys():\n",
    "    # Reset first\n",
    "    for rid in rank_meas.keys():\n",
    "        rxn = ijomc.reactions.get_by_id(rid)\n",
    "        rxn.lower_bound = 0.\n",
    "    rxn = ijomc.reactions.get_by_id(ex_id)\n",
    "    rxn.lower_bound = -10\n",
    "    ijomc.optimize()\n",
    "    mmu = ijomc.reactions.BIOMASS_Ec_iJO1366_core_53p95M.x\n",
    "    # Was the MC constraint active?\n",
    "    tot_prot = sum([r.x*r.metabolites[cons_crowding] for r in cons_crowding.reactions])\n",
    "    mrows.append({'muopt':mmu, 'ex_rxn':ex_id, 'tot_prot':tot_prot, 'crowding_active':abs(cons_crowding._bound - tot_prot)<ZERO})"
   ]
  },
  {
   "cell_type": "code",
   "execution_count": 212,
   "metadata": {
    "collapsed": false
   },
   "outputs": [
    {
     "data": {
      "text/html": [
       "<div>\n",
       "<style scoped>\n",
       "    .dataframe tbody tr th:only-of-type {\n",
       "        vertical-align: middle;\n",
       "    }\n",
       "\n",
       "    .dataframe tbody tr th {\n",
       "        vertical-align: top;\n",
       "    }\n",
       "\n",
       "    .dataframe thead th {\n",
       "        text-align: right;\n",
       "    }\n",
       "</style>\n",
       "<table border=\"1\" class=\"dataframe\">\n",
       "  <thead>\n",
       "    <tr style=\"text-align: right;\">\n",
       "      <th></th>\n",
       "      <th>crowding_active</th>\n",
       "      <th>ex_rxn</th>\n",
       "      <th>muopt</th>\n",
       "      <th>tot_prot</th>\n",
       "    </tr>\n",
       "  </thead>\n",
       "  <tbody>\n",
       "    <tr>\n",
       "      <th>4</th>\n",
       "      <td>True</td>\n",
       "      <td>EX_ac_e</td>\n",
       "      <td>0.247199</td>\n",
       "      <td>0.004952</td>\n",
       "    </tr>\n",
       "    <tr>\n",
       "      <th>2</th>\n",
       "      <td>True</td>\n",
       "      <td>EX_lac__L_e</td>\n",
       "      <td>0.399080</td>\n",
       "      <td>0.004952</td>\n",
       "    </tr>\n",
       "    <tr>\n",
       "      <th>0</th>\n",
       "      <td>True</td>\n",
       "      <td>EX_glyc_e</td>\n",
       "      <td>0.562790</td>\n",
       "      <td>0.004952</td>\n",
       "    </tr>\n",
       "    <tr>\n",
       "      <th>1</th>\n",
       "      <td>True</td>\n",
       "      <td>EX_gal_e</td>\n",
       "      <td>0.672555</td>\n",
       "      <td>0.004952</td>\n",
       "    </tr>\n",
       "    <tr>\n",
       "      <th>3</th>\n",
       "      <td>True</td>\n",
       "      <td>EX_malt_e</td>\n",
       "      <td>0.748603</td>\n",
       "      <td>0.004952</td>\n",
       "    </tr>\n",
       "    <tr>\n",
       "      <th>5</th>\n",
       "      <td>True</td>\n",
       "      <td>EX_glc__D_e</td>\n",
       "      <td>0.750333</td>\n",
       "      <td>0.004952</td>\n",
       "    </tr>\n",
       "  </tbody>\n",
       "</table>\n",
       "</div>"
      ],
      "text/plain": [
       "   crowding_active       ex_rxn     muopt  tot_prot\n",
       "4  True             EX_ac_e      0.247199  0.004952\n",
       "2  True             EX_lac__L_e  0.399080  0.004952\n",
       "0  True             EX_glyc_e    0.562790  0.004952\n",
       "1  True             EX_gal_e     0.672555  0.004952\n",
       "3  True             EX_malt_e    0.748603  0.004952\n",
       "5  True             EX_glc__D_e  0.750333  0.004952"
      ]
     },
     "execution_count": 212,
     "metadata": {},
     "output_type": "execute_result"
    }
   ],
   "source": [
    "df_ijo = pd.DataFrame(mrows)\n",
    "\n",
    "df_ijo.sort_values('muopt')"
   ]
  },
  {
   "cell_type": "code",
   "execution_count": 213,
   "metadata": {
    "collapsed": false,
    "deletable": true,
    "editable": true
   },
   "outputs": [
    {
     "name": "stdout",
     "output_type": "stream",
     "text": [
      "Pearson r=0.931414 (p=0.00689466)\n",
      "Spearman r=1 (p=0)\n"
     ]
    },
    {
     "data": {
      "image/png": "[encoded data removed]",
      "text/plain": [
       "<matplotlib.figure.Figure at 0x7fb08236b990>"
      ]
     },
     "metadata": {},
     "output_type": "display_data"
    }
   ],
   "source": [
    "#sim_dict = {r['ex_rxn']:r['muopt'] for i,r in df_ijo.iterrows()}\n",
    "#rxns_sorted = sorted([s[1] for s in sims], key=lambda x: sim_dict[x], reverse=True)\n",
    "#substrates = rank_meas.keys()\n",
    "#rank_pred = {k: rxns_sorted.index(k) for k in substrates}\n",
    "#r_meas = [rank_meas[k] for k in substrates]\n",
    "#r_pred = [rxns_sorted.index(k) for k in substrates]\n",
    "# r_meas = rank_meas.values()\n",
    "df_val = pd.merge(df_ijo, df_meas, on='ex_rxn')\n",
    "xymax = max(df_val.growth_rate_1_h.max(), df_val.muopt.max())\n",
    "plt.plot([0, xymax*1.15], [0, xymax*1.15], color='#333333')\n",
    "plt.scatter(df_val.growth_rate_1_h, df_val.muopt)\n",
    "#for k in substrates:\n",
    "for i,r in df_val.iterrows():\n",
    "    x = r['growth_rate_1_h']\n",
    "    y = r['muopt']\n",
    "    k = r['substrate']\n",
    "    ls = plt.text(x, y, k)\n",
    "ax = ls.axes\n",
    "ax.set_aspect(1)\n",
    "ax.figure.set_size_inches(5,5)\n",
    "ax.set_xlabel('Measured growth rate (1/h)')\n",
    "ax.set_ylabel('Predicted growth rate (1/h)')\n",
    "# ax.set_xlabel('Measured rank')\n",
    "# ax.set_ylabel('Predicted rank')\n",
    "\n",
    "r,p = stats.pearsonr(df_val.growth_rate_1_h, df_val.muopt)\n",
    "print 'Pearson r=%g (p=%g)' % (r,p)\n",
    "r,p = stats.spearmanr(df_val.growth_rate_1_h, df_val.muopt)\n",
    "print 'Spearman r=%g (p=%g)' % (r,p)\n",
    "#r,p = stats.pearsonr(r_meas, r_pred)\n",
    "#print 'r=%g (p=%g)' % (r,p)"
   ]
  },
  {
   "cell_type": "code",
   "execution_count": null,
   "metadata": {
    "collapsed": true
   },
   "outputs": [],
   "source": []
  },
  {
   "cell_type": "code",
   "execution_count": null,
   "metadata": {
    "collapsed": true
   },
   "outputs": [],
   "source": []
  },
  {
   "cell_type": "markdown",
   "metadata": {},
   "source": [
    "# Using ME"
   ]
  },
  {
   "cell_type": "code",
   "execution_count": 214,
   "metadata": {
    "collapsed": false,
    "deletable": true,
    "editable": true
   },
   "outputs": [],
   "source": [
    "from dynamicme.dynamic import DelayedDynamicME\n",
    "\n",
    "dyme = DelayedDynamicME(solver)\n",
    "dyme.delay_model.solver.set_realopts('lp', {'Feasibility tol':1e-15,'Optimality tol':1e-15})\n",
    "dsolver = dyme.delay_model.solver"
   ]
  },
  {
   "cell_type": "code",
   "execution_count": 215,
   "metadata": {
    "collapsed": true,
    "deletable": true,
    "editable": true
   },
   "outputs": [],
   "source": [
    "c0_dict = {'glc__D_e': 0.4,\n",
    "           'lac__L_e': 0.4,\n",
    "           'malt_e': 0.4,\n",
    "           'gal_e': 0.4,\n",
    "           'glyc_e':0.4,\n",
    "           'ac_e': 0.0}\n",
    "\n",
    "mids_remove = []\n",
    "for mid,c in c0_dict.iteritems():\n",
    "    try:        \n",
    "        met = me.metabolites.get_by_id(mid)    \n",
    "        c0_dict[met.id] = c / met.formula_weight * 1000\n",
    "    except KeyError:\n",
    "        warnings.warn('Model has no metabolite: %s. Will remove it from c0_dict' % mid)\n",
    "        mids_remove.append(mid)\n",
    "\n",
    "for mid in mids_remove:\n",
    "    c0_dict.pop(mid)\n",
    "\n",
    "### Set max uptake rate\n",
    "LB_EX = -10.\n",
    "LB_O2 = -20.\n",
    "\n",
    "lb_dict={}\n",
    "ub_dict={}\n",
    "\n",
    "for mid in c0_dict.keys():\n",
    "    try:\n",
    "        rxn = dyme.get_exchange_rxn(mid)    \n",
    "        if rxn.id is 'EX_o2_e':\n",
    "            lb = LB_O2\n",
    "        else:\n",
    "            lb = LB_EX\n",
    "        rxn.lower_bound = lb\n",
    "        lb_dict[rxn.id] = lb\n",
    "    except KeyError:\n",
    "        warnings.warn('Model has no metabolite: '+ mid)"
   ]
  },
  {
   "cell_type": "markdown",
   "metadata": {
    "deletable": true,
    "editable": true
   },
   "source": [
    "## Compute uptake hierarchy\n",
    "- check growth on each individually\n",
    "- order by growth rate\n",
    "- that's the approximate hierarchy\n",
    "- tune keffs until we get the hierarchy correct"
   ]
  },
  {
   "cell_type": "code",
   "execution_count": 216,
   "metadata": {
    "collapsed": true,
    "deletable": true,
    "editable": true
   },
   "outputs": [],
   "source": [
    "rank_meas = {'EX_ac_e': 5,\n",
    "             'EX_gal_e': 2,\n",
    "             'EX_glc__D_e': 0,\n",
    "             'EX_glyc_e': 4,\n",
    "             'EX_lac__L_e': 1,\n",
    "             'EX_malt_e': 3\n",
    "            }    "
   ]
  },
  {
   "cell_type": "code",
   "execution_count": 217,
   "metadata": {
    "collapsed": true,
    "deletable": true,
    "editable": true
   },
   "outputs": [],
   "source": [
    "import os\n",
    "import ipyparallel as ipp\n",
    "\n",
    "rc = ipp.Client()\n",
    "dview = rc[:]"
   ]
  },
  {
   "cell_type": "code",
   "execution_count": 218,
   "metadata": {
    "collapsed": false
   },
   "outputs": [
    {
     "data": {
      "text/html": [
       "<div>\n",
       "<style scoped>\n",
       "    .dataframe tbody tr th:only-of-type {\n",
       "        vertical-align: middle;\n",
       "    }\n",
       "\n",
       "    .dataframe tbody tr th {\n",
       "        vertical-align: top;\n",
       "    }\n",
       "\n",
       "    .dataframe thead th {\n",
       "        text-align: right;\n",
       "    }\n",
       "</style>\n",
       "<table border=\"1\" class=\"dataframe\">\n",
       "  <thead>\n",
       "    <tr style=\"text-align: right;\">\n",
       "      <th></th>\n",
       "      <th>bigg_id</th>\n",
       "      <th>keff_nominal</th>\n",
       "      <th>mmol_gDW</th>\n",
       "      <th>name</th>\n",
       "      <th>reaction</th>\n",
       "      <th>rxn</th>\n",
       "      <th>subsystem</th>\n",
       "    </tr>\n",
       "  </thead>\n",
       "  <tbody>\n",
       "    <tr>\n",
       "      <th>0</th>\n",
       "      <td>12DGR120tipp</td>\n",
       "      <td>65.0</td>\n",
       "      <td>0.0</td>\n",
       "      <td>1,2 diacylglycerol transport via flipping (periplasm to cytoplasm, n-C12:0)</td>\n",
       "      <td>12dgr120_p --&gt; 12dgr120_c</td>\n",
       "      <td>12DGR120tipp_FWD_CPLX_dummy</td>\n",
       "      <td>Transport, Inner Membrane</td>\n",
       "    </tr>\n",
       "    <tr>\n",
       "      <th>1</th>\n",
       "      <td>12DGR140tipp</td>\n",
       "      <td>65.0</td>\n",
       "      <td>0.0</td>\n",
       "      <td>1,2 diacylglycerol transport via flipping (periplasm to cytoplasm, n-C14:0)</td>\n",
       "      <td>12dgr140_p --&gt; 12dgr140_c</td>\n",
       "      <td>12DGR140tipp_FWD_CPLX_dummy</td>\n",
       "      <td>Transport, Inner Membrane</td>\n",
       "    </tr>\n",
       "    <tr>\n",
       "      <th>2</th>\n",
       "      <td>12DGR141tipp</td>\n",
       "      <td>65.0</td>\n",
       "      <td>0.0</td>\n",
       "      <td>1,2 diacylglycerol transport via flipping (periplasm to cytoplasm, n-C14:1)</td>\n",
       "      <td>12dgr141_p --&gt; 12dgr141_c</td>\n",
       "      <td>12DGR141tipp_FWD_CPLX_dummy</td>\n",
       "      <td>Transport, Inner Membrane</td>\n",
       "    </tr>\n",
       "    <tr>\n",
       "      <th>3</th>\n",
       "      <td>12DGR160tipp</td>\n",
       "      <td>65.0</td>\n",
       "      <td>0.0</td>\n",
       "      <td>1,2 diacylglycerol transport via flipping (periplasm to cytoplasm, n-C16:0)</td>\n",
       "      <td>12dgr160_p --&gt; 12dgr160_c</td>\n",
       "      <td>12DGR160tipp_FWD_CPLX_dummy</td>\n",
       "      <td>Transport, Inner Membrane</td>\n",
       "    </tr>\n",
       "    <tr>\n",
       "      <th>4</th>\n",
       "      <td>12DGR161tipp</td>\n",
       "      <td>65.0</td>\n",
       "      <td>0.0</td>\n",
       "      <td>1,2 diacylglycerol transport via flipping (periplasm to cytoplasm, n-C16:1)</td>\n",
       "      <td>12dgr161_p --&gt; 12dgr161_c</td>\n",
       "      <td>12DGR161tipp_FWD_CPLX_dummy</td>\n",
       "      <td>Transport, Inner Membrane</td>\n",
       "    </tr>\n",
       "  </tbody>\n",
       "</table>\n",
       "</div>"
      ],
      "text/plain": [
       "        bigg_id  keff_nominal  mmol_gDW  \\\n",
       "0  12DGR120tipp  65.0          0.0        \n",
       "1  12DGR140tipp  65.0          0.0        \n",
       "2  12DGR141tipp  65.0          0.0        \n",
       "3  12DGR160tipp  65.0          0.0        \n",
       "4  12DGR161tipp  65.0          0.0        \n",
       "\n",
       "                                                                          name  \\\n",
       "0  1,2 diacylglycerol transport via flipping (periplasm to cytoplasm, n-C12:0)   \n",
       "1  1,2 diacylglycerol transport via flipping (periplasm to cytoplasm, n-C14:0)   \n",
       "2  1,2 diacylglycerol transport via flipping (periplasm to cytoplasm, n-C14:1)   \n",
       "3  1,2 diacylglycerol transport via flipping (periplasm to cytoplasm, n-C16:0)   \n",
       "4  1,2 diacylglycerol transport via flipping (periplasm to cytoplasm, n-C16:1)   \n",
       "\n",
       "                    reaction                          rxn  \\\n",
       "0  12dgr120_p --> 12dgr120_c  12DGR120tipp_FWD_CPLX_dummy   \n",
       "1  12dgr140_p --> 12dgr140_c  12DGR140tipp_FWD_CPLX_dummy   \n",
       "2  12dgr141_p --> 12dgr141_c  12DGR141tipp_FWD_CPLX_dummy   \n",
       "3  12dgr160_p --> 12dgr160_c  12DGR160tipp_FWD_CPLX_dummy   \n",
       "4  12dgr161_p --> 12dgr161_c  12DGR161tipp_FWD_CPLX_dummy   \n",
       "\n",
       "                   subsystem  \n",
       "0  Transport, Inner Membrane  \n",
       "1  Transport, Inner Membrane  \n",
       "2  Transport, Inner Membrane  \n",
       "3  Transport, Inner Membrane  \n",
       "4  Transport, Inner Membrane  "
      ]
     },
     "execution_count": 218,
     "metadata": {},
     "output_type": "execute_result"
    }
   ],
   "source": [
    "df_rmap.head()"
   ]
  },
  {
   "cell_type": "code",
   "execution_count": 229,
   "metadata": {
    "collapsed": true,
    "deletable": true,
    "editable": true
   },
   "outputs": [],
   "source": [
    "def run_sim(arg_dict):\n",
    "    rank_meas = {'EX_ac_e': 5,\n",
    "             'EX_gal_e': 2,\n",
    "             'EX_glc__D_e': 0,\n",
    "             'EX_glyc_e': 4,\n",
    "             'EX_lac__L_e': 1,\n",
    "             'EX_malt_e': 3\n",
    "            }    \n",
    "    from dynamicme.tests.helpme import HelpME\n",
    "    from stressme.model import update_stoich_expr\n",
    "\n",
    "    helper = HelpME(prototyping=False)\n",
    "    solver = helper.solver\n",
    "    me = solver.me\n",
    "    ### Scale all keffs uniformly in rxn set\n",
    "    keff_scale = arg_dict['keff_scale']\n",
    "    df_rmap = arg_dict['df_rmap']\n",
    "    for i,row in df_rmap.iterrows():\n",
    "        rxn = me.reactions.get_by_id(row['rxn'])\n",
    "        rxn.keff = row['keff_nominal'] * keff_scale\n",
    "        rxn.update()\n",
    "        update_stoich_expr(solver, rxn=rxn)\n",
    "    \n",
    "    for rid in rank_meas.keys():\n",
    "        rxn = me.reactions.get_by_id(rid)\n",
    "        rxn.lower_bound = 0.\n",
    "    ex_rxn = arg_dict['ex_rxn']\n",
    "    rxn = me.reactions.get_by_id(ex_rxn)\n",
    "    rxn.lower_bound = -10\n",
    "    \n",
    "    muopt,hs,x,cache = solver.bisectmu(basis=solver.feas_basis)\n",
    "    if me.solution is None:\n",
    "        stat = 1\n",
    "        x_dict = None\n",
    "    else:\n",
    "        stat = me.solution.status\n",
    "        x_dict = dict(me.solution.x_dict)\n",
    "    row = {'ex_rxn':ex_rxn, 'muopt':muopt, 'stat':stat, 'x_dict':x_dict}\n",
    "    return row"
   ]
  },
  {
   "cell_type": "code",
   "execution_count": 230,
   "metadata": {
    "collapsed": false,
    "deletable": true,
    "editable": true
   },
   "outputs": [],
   "source": [
    "parargs = [{'ex_rxn':k, 'keff_scale':KEFF_SCALE, 'df_rmap':df_rmap} for k in rank_meas.keys()]"
   ]
  },
  {
   "cell_type": "code",
   "execution_count": 231,
   "metadata": {
    "collapsed": false,
    "deletable": true,
    "editable": true
   },
   "outputs": [
    {
     "name": "stdout",
     "output_type": "stream",
     "text": [
      "CPU times: user 790 ms, sys: 63.3 ms, total: 853 ms\n",
      "Wall time: 3min 38s\n"
     ]
    }
   ],
   "source": [
    "%%time\n",
    "import scipy.stats as stats\n",
    "\n",
    "results = dview.map_sync(run_sim, parargs)"
   ]
  },
  {
   "cell_type": "code",
   "execution_count": 232,
   "metadata": {
    "collapsed": false
   },
   "outputs": [
    {
     "data": {
      "text/html": [
       "<div>\n",
       "<style scoped>\n",
       "    .dataframe tbody tr th:only-of-type {\n",
       "        vertical-align: middle;\n",
       "    }\n",
       "\n",
       "    .dataframe tbody tr th {\n",
       "        vertical-align: top;\n",
       "    }\n",
       "\n",
       "    .dataframe thead th {\n",
       "        text-align: right;\n",
       "    }\n",
       "</style>\n",
       "<table border=\"1\" class=\"dataframe\">\n",
       "  <thead>\n",
       "    <tr style=\"text-align: right;\">\n",
       "      <th></th>\n",
       "      <th>ex_rxn</th>\n",
       "      <th>muopt</th>\n",
       "    </tr>\n",
       "  </thead>\n",
       "  <tbody>\n",
       "    <tr>\n",
       "      <th>0</th>\n",
       "      <td>EX_glyc_e</td>\n",
       "      <td>0.402344</td>\n",
       "    </tr>\n",
       "    <tr>\n",
       "      <th>1</th>\n",
       "      <td>EX_gal_e</td>\n",
       "      <td>0.391602</td>\n",
       "    </tr>\n",
       "    <tr>\n",
       "      <th>2</th>\n",
       "      <td>EX_lac__L_e</td>\n",
       "      <td>0.283203</td>\n",
       "    </tr>\n",
       "    <tr>\n",
       "      <th>3</th>\n",
       "      <td>EX_malt_e</td>\n",
       "      <td>0.407227</td>\n",
       "    </tr>\n",
       "    <tr>\n",
       "      <th>4</th>\n",
       "      <td>EX_ac_e</td>\n",
       "      <td>0.149414</td>\n",
       "    </tr>\n",
       "    <tr>\n",
       "      <th>5</th>\n",
       "      <td>EX_glc__D_e</td>\n",
       "      <td>0.416992</td>\n",
       "    </tr>\n",
       "  </tbody>\n",
       "</table>\n",
       "</div>"
      ],
      "text/plain": [
       "        ex_rxn     muopt\n",
       "0  EX_glyc_e    0.402344\n",
       "1  EX_gal_e     0.391602\n",
       "2  EX_lac__L_e  0.283203\n",
       "3  EX_malt_e    0.407227\n",
       "4  EX_ac_e      0.149414\n",
       "5  EX_glc__D_e  0.416992"
      ]
     },
     "execution_count": 232,
     "metadata": {},
     "output_type": "execute_result"
    }
   ],
   "source": [
    "df_me = pd.DataFrame([{'ex_rxn':res['ex_rxn'], 'muopt':res['muopt']} for res in results])\n",
    "df_me"
   ]
  },
  {
   "cell_type": "code",
   "execution_count": 233,
   "metadata": {
    "collapsed": false
   },
   "outputs": [
    {
     "name": "stdout",
     "output_type": "stream",
     "text": [
      "Pearson r=0.819387 (p=0.0459856)\n",
      "Spearman r=0.942857 (p=0.00480466)\n"
     ]
    },
    {
     "data": {
      "image/png": "[encoded data removed]",
      "text/plain": [
       "<matplotlib.figure.Figure at 0x7fb07cb3c0d0>"
      ]
     },
     "metadata": {},
     "output_type": "display_data"
    }
   ],
   "source": [
    "df_val = pd.merge(df_me, df_meas, on='ex_rxn')\n",
    "xymax = max(df_val.growth_rate_1_h.max(), df_val.muopt.max())\n",
    "plt.plot([0, xymax*1.15], [0, xymax*1.15], color='#333333')\n",
    "plt.scatter(df_val.growth_rate_1_h, df_val.muopt)\n",
    "#for k in substrates:\n",
    "for i,r in df_val.iterrows():\n",
    "    x = r['growth_rate_1_h']\n",
    "    y = r['muopt']\n",
    "    k = r['substrate']\n",
    "    ls = plt.text(x, y, k)\n",
    "ax = ls.axes\n",
    "ax.set_aspect(1)\n",
    "ax.figure.set_size_inches(5,5)\n",
    "ax.set_xlabel('Measured growth rate (1/h)')\n",
    "ax.set_ylabel('Predicted growth rate (1/h)')\n",
    "# ax.set_xlabel('Measured rank')\n",
    "# ax.set_ylabel('Predicted rank')\n",
    "\n",
    "r,p = stats.pearsonr(df_val.growth_rate_1_h, df_val.muopt)\n",
    "print 'Pearson r=%g (p=%g)' % (r,p)\n",
    "r,p = stats.spearmanr(df_val.growth_rate_1_h, df_val.muopt)\n",
    "print 'Spearman r=%g (p=%g)' % (r,p)\n",
    "#r,p = stats.pearsonr(r_meas, r_pred)\n",
    "#print 'r=%g (p=%g)' % (r,p)"
   ]
  },
  {
   "cell_type": "code",
   "execution_count": null,
   "metadata": {
    "collapsed": true,
    "deletable": true,
    "editable": true
   },
   "outputs": [],
   "source": []
  }
 ],
 "metadata": {
  "kernelspec": {
   "display_name": "Python 2",
   "language": "python",
   "name": "python2"
  },
  "language_info": {
   "codemirror_mode": {
    "name": "ipython",
    "version": 2
   },
   "file_extension": ".py",
   "mimetype": "text/x-python",
   "name": "python",
   "nbconvert_exporter": "python",
   "pygments_lexer": "ipython2",
   "version": "2.7.13"
  }
 },
 "nbformat": 4,
 "nbformat_minor": 2
}
