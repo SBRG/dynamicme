{
 "cells": [
  {
   "cell_type": "markdown",
   "metadata": {
    "deletable": true,
    "editable": true
   },
   "source": [
    "# Can figure out substrate uptake hierarchy without running the whole simulation"
   ]
  },
  {
   "cell_type": "markdown",
   "metadata": {
    "deletable": true,
    "editable": true
   },
   "source": [
    "# Match individual growth rates first\n",
    "# Using coarse model"
   ]
  },
  {
   "cell_type": "code",
   "execution_count": 1,
   "metadata": {
    "collapsed": false,
    "deletable": true,
    "editable": true
   },
   "outputs": [],
   "source": [
    "import seaborn as sns\n",
    "import pandas as pd\n",
    "import matplotlib.pyplot as plt\n",
    "\n",
    "plt.rcParams['svg.fonttype'] = 'none'\n",
    "pd.set_option('display.max_colwidth', -1)\n",
    "%matplotlib inline"
   ]
  },
  {
   "cell_type": "code",
   "execution_count": 2,
   "metadata": {
    "collapsed": true,
    "deletable": true,
    "editable": true
   },
   "outputs": [],
   "source": [
    "PROTOTYPE = False"
   ]
  },
  {
   "cell_type": "code",
   "execution_count": 3,
   "metadata": {
    "collapsed": true,
    "deletable": true,
    "editable": true
   },
   "outputs": [],
   "source": [
    "from dynamicme.tests.helpme import HelpME\n",
    "from dynamicme.dynamic import get_cplx_concs\n",
    "\n",
    "helper = HelpME(prototyping=PROTOTYPE)\n",
    "solver = helper.solver\n",
    "me = solver.me"
   ]
  },
  {
   "cell_type": "markdown",
   "metadata": {
    "deletable": true,
    "editable": true
   },
   "source": [
    "## Change keffs until uptake hierarchy correct"
   ]
  },
  {
   "cell_type": "code",
   "execution_count": 4,
   "metadata": {
    "collapsed": false,
    "deletable": true,
    "editable": true
   },
   "outputs": [
    {
     "name": "stdout",
     "output_type": "stream",
     "text": [
      "biggids not mapped: 252\n"
     ]
    }
   ],
   "source": [
    "import numpy as np\n",
    "\n",
    "df_dh = pd.read_csv('/home/laurence/ME/data/DHeckmann/kappmax_rf_dl_iJO.csv')\n",
    "\n",
    "import re\n",
    "from cobra.io import load_json_model\n",
    "\n",
    "ijo = load_json_model('/home/laurence/ME/models/BiGG_M/json/iJO1366.json')\n",
    "\n",
    "rows = []\n",
    "biggids = df_dh['bigg.id'].apply(lambda x: re.sub(r'(_[b|f]$)', '',x)).unique()\n",
    "missed = []\n",
    "for biggid in biggids:\n",
    "    try:\n",
    "        sdata = me.stoichiometric_data.get_by_id(biggid)\n",
    "        mrxn = ijo.reactions.get_by_id(biggid)\n",
    "        rname = mrxn.name        \n",
    "        for rxn in sdata.parent_reactions:\n",
    "            mmol_gDW = rxn.x / rxn.keff / 3600\n",
    "            rows.append({'bigg_id':biggid, 'rxn':rxn.id, 'name':rname, 'keff_nominal':rxn.keff, 'subsystem':mrxn.subsystem, 'reaction':mrxn.reaction, 'mmol_gDW':mmol_gDW})\n",
    "    except KeyError:\n",
    "        missed.append(biggid)\n",
    "        \n",
    "df_rmap = pd.DataFrame(rows)\n",
    "        \n",
    "print 'biggids not mapped:', len(missed)"
   ]
  },
  {
   "cell_type": "code",
   "execution_count": 5,
   "metadata": {
    "collapsed": false,
    "deletable": true,
    "editable": true
   },
   "outputs": [
    {
     "name": "stdout",
     "output_type": "stream",
     "text": [
      "Subsystems: 35\n",
      "Rxns within alternate carbon metab: 285\n",
      "Expressed protein (mmol/gDW): 0.00495155284852\n"
     ]
    }
   ],
   "source": [
    "print 'Subsystems:', len(df_rmap.subsystem.unique())\n",
    "print 'Rxns within alternate carbon metab:', len(df_rmap.rxn[ df_rmap.subsystem=='Alternate Carbon Metabolism'])\n",
    "\n",
    "ProtM = df_rmap.mmol_gDW.sum()\n",
    "print 'Expressed protein (mmol/gDW):', ProtM"
   ]
  },
  {
   "cell_type": "code",
   "execution_count": 6,
   "metadata": {
    "collapsed": false
   },
   "outputs": [
    {
     "name": "stdout",
     "output_type": "stream",
     "text": [
      "CPU times: user 1.64 s, sys: 13.3 ms, total: 1.65 s\n",
      "Wall time: 1.65 s\n"
     ]
    }
   ],
   "source": [
    "%%time\n",
    "\n",
    "KEFF_SCALE = 0.32\n",
    "\n",
    "from cobra import Metabolite, Reaction\n",
    "\n",
    "ijomc = load_json_model('/home/laurence/ME/models/BiGG_M/json/iJO1366.json')\n",
    "\n",
    "cons_crowding = Metabolite('crowding')\n",
    "ijomc.add_metabolites([cons_crowding])\n",
    "\n",
    "# sum_j v/keff  <= P [mmol/gDW]\n",
    "\n",
    "for rid in df_rmap.bigg_id.unique():\n",
    "    #row = df_rmap[ df_rmap.bigg_id==rid].iloc[0]\n",
    "    dfi = df_rmap[ df_rmap.bigg_id==rid]\n",
    "    #if dfi.shape[0]>1:\n",
    "        #print dfi['keff_nominal'].tolist()\n",
    "        #dfk = dfi.copy()\n",
    "    keff_nom = dfi['keff_nominal'].mean()\n",
    "    rxn = ijomc.reactions.get_by_id(rid)\n",
    "    if rxn.lower_bound < 0:\n",
    "        rxn_abs = Reaction(rxn.id + '_abs')\n",
    "        ijomc.add_reaction(rxn_abs)\n",
    "        # rabs >= r  :  rabs - r >= 0\n",
    "        # rabs >= -r :  rabs + r >= 0        \n",
    "        cons_abs_p = Metabolite('cons_'+rxn.id+'_abs_p')\n",
    "        cons_abs_n = Metabolite('cons_'+rxn.id+'_abs_n')\n",
    "        cons_abs_p._constraint_sense = 'G'\n",
    "        cons_abs_n._constraint_sense = 'G'\n",
    "        rxn_abs.add_metabolites({cons_abs_p: 1., cons_abs_n: 1.})\n",
    "        rxn.add_metabolites({cons_abs_p:-1., cons_abs_n:1.})\n",
    "        keff = keff_nom * KEFF_SCALE\n",
    "        rxn_abs.add_metabolites({cons_crowding:1./keff/3600 })\n",
    "    else:\n",
    "        rxn.add_metabolites({cons_crowding:1./keff_nom/3600})\n",
    "\n",
    "cons_crowding._constraint_sense = 'L'\n",
    "cons_crowding._bound = ProtM"
   ]
  },
  {
   "cell_type": "code",
   "execution_count": 7,
   "metadata": {
    "collapsed": false,
    "deletable": true,
    "editable": true
   },
   "outputs": [
    {
     "data": {
      "text/plain": [
       "<Solution 0.74 at 0x7f97dee79150>"
      ]
     },
     "execution_count": 7,
     "metadata": {},
     "output_type": "execute_result"
    }
   ],
   "source": [
    "ijomc.optimize(solver='gurobi')"
   ]
  },
  {
   "cell_type": "code",
   "execution_count": 8,
   "metadata": {
    "collapsed": true,
    "deletable": true,
    "editable": true
   },
   "outputs": [],
   "source": [
    "df_meas = pd.read_csv('/home/laurence/ME/data/dynamicME/beg/growth_meas.csv')"
   ]
  },
  {
   "cell_type": "code",
   "execution_count": 9,
   "metadata": {
    "collapsed": true,
    "deletable": true,
    "editable": true
   },
   "outputs": [],
   "source": [
    "rank_meas = {'EX_ac_e': 5,\n",
    "             'EX_gal_e': 2,\n",
    "             'EX_glc__D_e': 0,\n",
    "             'EX_glyc_e': 4,\n",
    "             'EX_lac__L_e': 1,\n",
    "             'EX_malt_e': 3\n",
    "            }    "
   ]
  },
  {
   "cell_type": "code",
   "execution_count": 10,
   "metadata": {
    "collapsed": false,
    "deletable": true,
    "editable": true
   },
   "outputs": [
    {
     "name": "stdout",
     "output_type": "stream",
     "text": [
      "CPU times: user 2.66 s, sys: 3.33 ms, total: 2.67 s\n",
      "Wall time: 2.66 s\n"
     ]
    }
   ],
   "source": [
    "%%time\n",
    "\n",
    "mrows = []\n",
    "ZERO = 1e-8\n",
    "\n",
    "for ex_id in rank_meas.keys():\n",
    "    # Reset first\n",
    "    for rid in rank_meas.keys():\n",
    "        rxn = ijomc.reactions.get_by_id(rid)\n",
    "        rxn.lower_bound = 0.\n",
    "    rxn = ijomc.reactions.get_by_id(ex_id)\n",
    "    rxn.lower_bound = -10\n",
    "    ijomc.optimize()\n",
    "    mmu = ijomc.reactions.BIOMASS_Ec_iJO1366_core_53p95M.x\n",
    "    # Was the MC constraint active?\n",
    "    tot_prot = sum([r.x*r.metabolites[cons_crowding] for r in cons_crowding.reactions])\n",
    "    mrows.append({'muopt':mmu, 'ex_rxn':ex_id, 'tot_prot':tot_prot, 'crowding_active':abs(cons_crowding._bound - tot_prot)<ZERO})"
   ]
  },
  {
   "cell_type": "code",
   "execution_count": 11,
   "metadata": {
    "collapsed": false,
    "deletable": true,
    "editable": true
   },
   "outputs": [
    {
     "data": {
      "text/html": [
       "<div>\n",
       "<style scoped>\n",
       "    .dataframe tbody tr th:only-of-type {\n",
       "        vertical-align: middle;\n",
       "    }\n",
       "\n",
       "    .dataframe tbody tr th {\n",
       "        vertical-align: top;\n",
       "    }\n",
       "\n",
       "    .dataframe thead th {\n",
       "        text-align: right;\n",
       "    }\n",
       "</style>\n",
       "<table border=\"1\" class=\"dataframe\">\n",
       "  <thead>\n",
       "    <tr style=\"text-align: right;\">\n",
       "      <th></th>\n",
       "      <th>crowding_active</th>\n",
       "      <th>ex_rxn</th>\n",
       "      <th>muopt</th>\n",
       "      <th>tot_prot</th>\n",
       "    </tr>\n",
       "  </thead>\n",
       "  <tbody>\n",
       "    <tr>\n",
       "      <th>4</th>\n",
       "      <td>True</td>\n",
       "      <td>EX_ac_e</td>\n",
       "      <td>0.247199</td>\n",
       "      <td>0.004952</td>\n",
       "    </tr>\n",
       "    <tr>\n",
       "      <th>2</th>\n",
       "      <td>False</td>\n",
       "      <td>EX_lac__L_e</td>\n",
       "      <td>0.399080</td>\n",
       "      <td>0.003224</td>\n",
       "    </tr>\n",
       "    <tr>\n",
       "      <th>0</th>\n",
       "      <td>False</td>\n",
       "      <td>EX_glyc_e</td>\n",
       "      <td>0.562790</td>\n",
       "      <td>0.004466</td>\n",
       "    </tr>\n",
       "    <tr>\n",
       "      <th>1</th>\n",
       "      <td>True</td>\n",
       "      <td>EX_gal_e</td>\n",
       "      <td>0.640752</td>\n",
       "      <td>0.004952</td>\n",
       "    </tr>\n",
       "    <tr>\n",
       "      <th>5</th>\n",
       "      <td>True</td>\n",
       "      <td>EX_glc__D_e</td>\n",
       "      <td>0.743375</td>\n",
       "      <td>0.004952</td>\n",
       "    </tr>\n",
       "    <tr>\n",
       "      <th>3</th>\n",
       "      <td>True</td>\n",
       "      <td>EX_malt_e</td>\n",
       "      <td>0.744083</td>\n",
       "      <td>0.004952</td>\n",
       "    </tr>\n",
       "  </tbody>\n",
       "</table>\n",
       "</div>"
      ],
      "text/plain": [
       "   crowding_active       ex_rxn     muopt  tot_prot\n",
       "4  True             EX_ac_e      0.247199  0.004952\n",
       "2  False            EX_lac__L_e  0.399080  0.003224\n",
       "0  False            EX_glyc_e    0.562790  0.004466\n",
       "1  True             EX_gal_e     0.640752  0.004952\n",
       "5  True             EX_glc__D_e  0.743375  0.004952\n",
       "3  True             EX_malt_e    0.744083  0.004952"
      ]
     },
     "execution_count": 11,
     "metadata": {},
     "output_type": "execute_result"
    }
   ],
   "source": [
    "df_ijo = pd.DataFrame(mrows)\n",
    "\n",
    "df_ijo.sort_values('muopt')"
   ]
  },
  {
   "cell_type": "code",
   "execution_count": 12,
   "metadata": {
    "collapsed": false,
    "deletable": true,
    "editable": true
   },
   "outputs": [
    {
     "name": "stdout",
     "output_type": "stream",
     "text": [
      "Pearson r=0.936904 (p=0.00584603)\n",
      "Spearman r=0.942857 (p=0.00480466)\n"
     ]
    },
    {
     "data": {
      "image/png": "[encoded data removed]",
      "text/plain": [
       "<matplotlib.figure.Figure at 0x7f97dbf8e650>"
      ]
     },
     "metadata": {},
     "output_type": "display_data"
    }
   ],
   "source": [
    "import scipy.stats as stats\n",
    "\n",
    "\n",
    "#sim_dict = {r['ex_rxn']:r['muopt'] for i,r in df_ijo.iterrows()}\n",
    "#rxns_sorted = sorted([s[1] for s in sims], key=lambda x: sim_dict[x], reverse=True)\n",
    "#substrates = rank_meas.keys()\n",
    "#rank_pred = {k: rxns_sorted.index(k) for k in substrates}\n",
    "#r_meas = [rank_meas[k] for k in substrates]\n",
    "#r_pred = [rxns_sorted.index(k) for k in substrates]\n",
    "# r_meas = rank_meas.values()\n",
    "df_val = pd.merge(df_ijo, df_meas, on='ex_rxn')\n",
    "xymax = max(df_val.growth_rate_1_h.max(), df_val.muopt.max())\n",
    "plt.plot([0, xymax*1.15], [0, xymax*1.15], color='#333333')\n",
    "plt.scatter(df_val.growth_rate_1_h, df_val.muopt)\n",
    "#for k in substrates:\n",
    "for i,r in df_val.iterrows():\n",
    "    x = r['growth_rate_1_h']\n",
    "    y = r['muopt']\n",
    "    k = r['substrate']\n",
    "    ls = plt.text(x, y, k)\n",
    "ax = ls.axes\n",
    "ax.set_aspect(1)\n",
    "ax.figure.set_size_inches(5,5)\n",
    "ax.set_xlabel('Measured growth rate (1/h)')\n",
    "ax.set_ylabel('Predicted growth rate (1/h)')\n",
    "# ax.set_xlabel('Measured rank')\n",
    "# ax.set_ylabel('Predicted rank')\n",
    "\n",
    "r,p = stats.pearsonr(df_val.growth_rate_1_h, df_val.muopt)\n",
    "print 'Pearson r=%g (p=%g)' % (r,p)\n",
    "r,p = stats.spearmanr(df_val.growth_rate_1_h, df_val.muopt)\n",
    "print 'Spearman r=%g (p=%g)' % (r,p)\n",
    "#r,p = stats.pearsonr(r_meas, r_pred)\n",
    "#print 'r=%g (p=%g)' % (r,p)"
   ]
  },
  {
   "cell_type": "markdown",
   "metadata": {},
   "source": [
    "# Metaheuristics on small model to get growth rates right"
   ]
  },
  {
   "cell_type": "code",
   "execution_count": 13,
   "metadata": {
    "collapsed": false
   },
   "outputs": [
    {
     "data": {
      "text/plain": [
       "{'EX_ac_e': 5,\n",
       " 'EX_gal_e': 2,\n",
       " 'EX_glc__D_e': 0,\n",
       " 'EX_glyc_e': 4,\n",
       " 'EX_lac__L_e': 1,\n",
       " 'EX_malt_e': 3}"
      ]
     },
     "execution_count": 13,
     "metadata": {},
     "output_type": "execute_result"
    }
   ],
   "source": [
    "rank_meas"
   ]
  },
  {
   "cell_type": "code",
   "execution_count": 14,
   "metadata": {
    "collapsed": true
   },
   "outputs": [],
   "source": [
    "df_exp = df_meas[ df_meas.ex_rxn.isin(rank_meas.keys())]\n",
    "meas_dict = {r['ex_rxn']:r['growth_rate_1_h'] for i,r in df_exp.iterrows()}"
   ]
  },
  {
   "cell_type": "code",
   "execution_count": 15,
   "metadata": {
    "collapsed": false
   },
   "outputs": [
    {
     "data": {
      "text/plain": [
       "{'EX_ac_e': 0.256,\n",
       " 'EX_gal_e': 0.52,\n",
       " 'EX_glc__D_e': 0.74,\n",
       " 'EX_glyc_e': 0.42,\n",
       " 'EX_lac__L_e': 0.39,\n",
       " 'EX_malt_e': 0.62}"
      ]
     },
     "execution_count": 15,
     "metadata": {},
     "output_type": "execute_result"
    }
   ],
   "source": [
    "meas_dict"
   ]
  },
  {
   "cell_type": "code",
   "execution_count": 16,
   "metadata": {
    "collapsed": true
   },
   "outputs": [],
   "source": [
    "def sim_fun(mdl):\n",
    "    mu_id = 'BIOMASS_Ec_iJO1366_core_53p95M'\n",
    "    sim_dict = {}\n",
    "    for ex_id in meas_dict.keys():\n",
    "        # Reset first\n",
    "        for rid in meas_dict.keys():\n",
    "            rxn = mdl.reactions.get_by_id(rid)\n",
    "            rxn.lower_bound = 0.\n",
    "        rxn = mdl.reactions.get_by_id(ex_id)\n",
    "        rxn.lower_bound = -10\n",
    "        mdl.optimize(solver='gurobi')\n",
    "        if mdl.solution is not None:\n",
    "            mmu = mdl.reactions.get_by_id(mu_id).x\n",
    "        else:\n",
    "            mmu = 0.\n",
    "        sim_dict[ex_id] = mmu\n",
    "    \n",
    "    return sim_dict"
   ]
  },
  {
   "cell_type": "code",
   "execution_count": 17,
   "metadata": {
    "collapsed": true
   },
   "outputs": [],
   "source": [
    "def obj_fun(y_sim, y_meas):\n",
    "    ### Objective function    \n",
    "    sse = sum([ (y - y_sim[r])**2 for r,y in y_meas.iteritems()]) \n",
    "    \n",
    "    return sse"
   ]
  },
  {
   "cell_type": "code",
   "execution_count": 18,
   "metadata": {
    "collapsed": false
   },
   "outputs": [
    {
     "data": {
      "text/plain": [
       "<Metabolite crowding at 0x7f97dbab0710>"
      ]
     },
     "execution_count": 18,
     "metadata": {},
     "output_type": "execute_result"
    }
   ],
   "source": [
    "cons_crowding"
   ]
  },
  {
   "cell_type": "code",
   "execution_count": 19,
   "metadata": {
    "collapsed": true
   },
   "outputs": [],
   "source": [
    "def get_param_fun(mdl):\n",
    "    cons_id = 'crowding'\n",
    "    cons = mdl.metabolites.get_by_id(cons_id)\n",
    "    params = [r.metabolites[cons] for r in cons.reactions]\n",
    "    \n",
    "    return params\n",
    "\n",
    "def set_param_fun(mdl, params):\n",
    "    cons_id = 'crowding'\n",
    "    cons = mdl.metabolites.get_by_id(cons_id)\n",
    "    for j,rxn in enumerate(cons.reactions):\n",
    "        rxn._metabolites[cons] = params[j]"
   ]
  },
  {
   "cell_type": "code",
   "execution_count": 20,
   "metadata": {
    "collapsed": false
   },
   "outputs": [],
   "source": [
    "from dynamicme.metaopt import MetaOpt"
   ]
  },
  {
   "cell_type": "code",
   "execution_count": 21,
   "metadata": {
    "collapsed": false
   },
   "outputs": [],
   "source": [
    "mopt = MetaOpt(ijomc, sim_fun, obj_fun, get_param_fun, set_param_fun)"
   ]
  },
  {
   "cell_type": "code",
   "execution_count": 22,
   "metadata": {
    "collapsed": false
   },
   "outputs": [
    {
     "ename": "NameError",
     "evalue": "global name 'y' is not defined",
     "output_type": "error",
     "traceback": [
      "\u001b[0;31m\u001b[0m",
      "\u001b[0;31mNameError\u001b[0mTraceback (most recent call last)",
      "\u001b[0;32m<ipython-input-22-b93ccd8a38e6>\u001b[0m in \u001b[0;36m<module>\u001b[0;34m()\u001b[0m\n\u001b[0;32m----> 1\u001b[0;31m \u001b[0mresult\u001b[0m \u001b[0;34m=\u001b[0m \u001b[0mmopt\u001b[0m\u001b[0;34m.\u001b[0m\u001b[0moptimize\u001b[0m\u001b[0;34m(\u001b[0m\u001b[0mmeas_dict\u001b[0m\u001b[0;34m)\u001b[0m\u001b[0;34m\u001b[0m\u001b[0m\n\u001b[0m",
      "\u001b[0;32m/home/laurence/python_modules/dynamicme.git/dynamicme/metaopt.py\u001b[0m in \u001b[0;36moptimize\u001b[0;34m(self, y_meas, Thresh0)\u001b[0m\n\u001b[1;32m    115\u001b[0m         \u001b[0mx_best\u001b[0m \u001b[0;34m=\u001b[0m \u001b[0mcp\u001b[0m\u001b[0;34m.\u001b[0m\u001b[0mcopy\u001b[0m\u001b[0;34m(\u001b[0m\u001b[0mx0\u001b[0m\u001b[0;34m)\u001b[0m\u001b[0;34m\u001b[0m\u001b[0m\n\u001b[1;32m    116\u001b[0m         \u001b[0my_sim\u001b[0m \u001b[0;34m=\u001b[0m \u001b[0my_sim0\u001b[0m\u001b[0;34m\u001b[0m\u001b[0m\n\u001b[0;32m--> 117\u001b[0;31m         \u001b[0my_best\u001b[0m \u001b[0;34m=\u001b[0m \u001b[0mcp\u001b[0m\u001b[0;34m.\u001b[0m\u001b[0mcopy\u001b[0m\u001b[0;34m(\u001b[0m\u001b[0my\u001b[0m\u001b[0;34m)\u001b[0m\u001b[0;34m\u001b[0m\u001b[0m\n\u001b[0m\u001b[1;32m    118\u001b[0m \u001b[0;34m\u001b[0m\u001b[0m\n\u001b[1;32m    119\u001b[0m         \u001b[0;32mwhile\u001b[0m \u001b[0mn_iter\u001b[0m \u001b[0;34m<\u001b[0m \u001b[0mmax_iter_phase1\u001b[0m\u001b[0;34m:\u001b[0m\u001b[0;34m\u001b[0m\u001b[0m\n",
      "\u001b[0;31mNameError\u001b[0m: global name 'y' is not defined"
     ]
    }
   ],
   "source": [
    "result = mopt.optimize(meas_dict)"
   ]
  },
  {
   "cell_type": "markdown",
   "metadata": {},
   "source": [
    "# Simple projection of uptake hierarchy"
   ]
  },
  {
   "cell_type": "code",
   "execution_count": 360,
   "metadata": {
    "collapsed": false,
    "deletable": true,
    "editable": true
   },
   "outputs": [],
   "source": [
    "def calc_uptake_hier(mdl, ex_rxns, mu_id='BIOMASS_Ec_iJO1366_core_53p95M'):\n",
    "    ZERO = 1e-10\n",
    "    subs_avail = list(ex_rxns)\n",
    "    avail = True\n",
    "    mrows = []        \n",
    "    niter = 0\n",
    "    # Open all initially\n",
    "    for rid in ex_rxns:\n",
    "        rxn = mdl.reactions.get_by_id(rid)\n",
    "        rxn.lower_bound = -10.\n",
    "    while avail:\n",
    "        print 'subs_avail:', subs_avail\n",
    "        for rid in ex_rxns:\n",
    "            if rid not in subs_avail:\n",
    "                rxn = mdl.reactions.get_by_id(rid)\n",
    "                rxn.lower_bound = 0.\n",
    "        mdl.optimize(solver='gurobi')\n",
    "        \n",
    "        if mdl.solution is not None:\n",
    "            mmu = mdl.reactions.get_by_id(mu_id).x\n",
    "            # Was the MC constraint active?\n",
    "            tot_prot = sum([r.x*r.metabolites[cons_crowding] for r in cons_crowding.reactions])                \n",
    "            # Remove uptaken mets\n",
    "            uptakes = {}\n",
    "            for rid in ex_rxns:\n",
    "                rxn = mdl.reactions.get_by_id(rid)\n",
    "                if rxn.x < -ZERO:\n",
    "                    print '%s: %g' % (rxn.id, rxn.x)\n",
    "                    subs_avail.remove(rid)\n",
    "                    uptakes[rxn.id] = rxn.x\n",
    "                        \n",
    "            print 'uptakes:', uptakes      \n",
    "            mrows.append({'iter':niter, 'muopt':mmu, 'uptakes':uptakes,\n",
    "                          'tot_prot':tot_prot, 'crowding_active':abs(cons_crowding._bound - tot_prot)<ZERO})        \n",
    "\n",
    "            if len(subs_avail)==0 or mmu < ZERO:\n",
    "                avail=False\n",
    "            print 'Iter %d\\t mu: %g\\t uptakes:%s' % (niter, mmu, ';'.join(uptakes))\n",
    "            niter += 1\n",
    "        else:\n",
    "            avail = False\n",
    "        \n",
    "    df_result = pd.DataFrame(mrows)\n",
    "    return df_result"
   ]
  },
  {
   "cell_type": "code",
   "execution_count": 361,
   "metadata": {
    "collapsed": false,
    "deletable": true,
    "editable": true
   },
   "outputs": [
    {
     "name": "stdout",
     "output_type": "stream",
     "text": [
      "subs_avail: ['EX_glyc_e', 'EX_gal_e', 'EX_lac__L_e', 'EX_malt_e', 'EX_ac_e', 'EX_glc__D_e']\n",
      "EX_glyc_e: -0.105557\n",
      "EX_lac__L_e: -7.4185\n",
      "EX_malt_e: -2.4186\n",
      "uptakes: {u'EX_malt_e': -2.418603263618521, u'EX_glyc_e': -0.10555726032390744, u'EX_lac__L_e': -7.41850363689998}\n",
      "Iter 0\t mu: 0.759252\t uptakes:EX_malt_e;EX_glyc_e;EX_lac__L_e\n",
      "subs_avail: ['EX_gal_e', 'EX_ac_e', 'EX_glc__D_e']\n",
      "EX_glc__D_e: -8.02222\n",
      "uptakes: {u'EX_glc__D_e': -8.022219083626828}\n",
      "Iter 1\t mu: 0.738925\t uptakes:EX_glc__D_e\n",
      "subs_avail: ['EX_gal_e', 'EX_ac_e']\n",
      "EX_gal_e: -6.54507\n",
      "uptakes: {u'EX_gal_e': -6.545069052190994}\n",
      "Iter 2\t mu: 0.605274\t uptakes:EX_gal_e\n",
      "subs_avail: ['EX_ac_e']\n",
      "EX_ac_e: -10\n",
      "uptakes: {u'EX_ac_e': -10.0}\n",
      "Iter 3\t mu: 0.247199\t uptakes:EX_ac_e\n"
     ]
    }
   ],
   "source": [
    "df_hier = calc_uptake_hier(ijomc, rank_meas.keys())"
   ]
  },
  {
   "cell_type": "code",
   "execution_count": 362,
   "metadata": {
    "collapsed": false
   },
   "outputs": [
    {
     "data": {
      "text/html": [
       "<div>\n",
       "<style scoped>\n",
       "    .dataframe tbody tr th:only-of-type {\n",
       "        vertical-align: middle;\n",
       "    }\n",
       "\n",
       "    .dataframe tbody tr th {\n",
       "        vertical-align: top;\n",
       "    }\n",
       "\n",
       "    .dataframe thead th {\n",
       "        text-align: right;\n",
       "    }\n",
       "</style>\n",
       "<table border=\"1\" class=\"dataframe\">\n",
       "  <thead>\n",
       "    <tr style=\"text-align: right;\">\n",
       "      <th></th>\n",
       "      <th>crowding_active</th>\n",
       "      <th>iter</th>\n",
       "      <th>muopt</th>\n",
       "      <th>tot_prot</th>\n",
       "      <th>uptakes</th>\n",
       "    </tr>\n",
       "  </thead>\n",
       "  <tbody>\n",
       "    <tr>\n",
       "      <th>0</th>\n",
       "      <td>True</td>\n",
       "      <td>0</td>\n",
       "      <td>0.759252</td>\n",
       "      <td>0.004952</td>\n",
       "      <td>{u'EX_malt_e': -2.41860326362, u'EX_glyc_e': -0.105557260324, u'EX_lac__L_e': -7.4185036369}</td>\n",
       "    </tr>\n",
       "    <tr>\n",
       "      <th>1</th>\n",
       "      <td>True</td>\n",
       "      <td>1</td>\n",
       "      <td>0.738925</td>\n",
       "      <td>0.004952</td>\n",
       "      <td>{u'EX_glc__D_e': -8.02221908363}</td>\n",
       "    </tr>\n",
       "    <tr>\n",
       "      <th>2</th>\n",
       "      <td>True</td>\n",
       "      <td>2</td>\n",
       "      <td>0.605274</td>\n",
       "      <td>0.004952</td>\n",
       "      <td>{u'EX_gal_e': -6.54506905219}</td>\n",
       "    </tr>\n",
       "    <tr>\n",
       "      <th>3</th>\n",
       "      <td>True</td>\n",
       "      <td>3</td>\n",
       "      <td>0.247199</td>\n",
       "      <td>0.004952</td>\n",
       "      <td>{u'EX_ac_e': -10.0}</td>\n",
       "    </tr>\n",
       "  </tbody>\n",
       "</table>\n",
       "</div>"
      ],
      "text/plain": [
       "   crowding_active  iter     muopt  tot_prot  \\\n",
       "0  True             0     0.759252  0.004952   \n",
       "1  True             1     0.738925  0.004952   \n",
       "2  True             2     0.605274  0.004952   \n",
       "3  True             3     0.247199  0.004952   \n",
       "\n",
       "                                                                                        uptakes  \n",
       "0  {u'EX_malt_e': -2.41860326362, u'EX_glyc_e': -0.105557260324, u'EX_lac__L_e': -7.4185036369}  \n",
       "1  {u'EX_glc__D_e': -8.02221908363}                                                              \n",
       "2  {u'EX_gal_e': -6.54506905219}                                                                 \n",
       "3  {u'EX_ac_e': -10.0}                                                                           "
      ]
     },
     "execution_count": 362,
     "metadata": {},
     "output_type": "execute_result"
    }
   ],
   "source": [
    "df_hier"
   ]
  },
  {
   "cell_type": "markdown",
   "metadata": {
    "deletable": true,
    "editable": true
   },
   "source": [
    "# Using ME"
   ]
  },
  {
   "cell_type": "code",
   "execution_count": 214,
   "metadata": {
    "collapsed": false,
    "deletable": true,
    "editable": true
   },
   "outputs": [],
   "source": [
    "from dynamicme.dynamic import DelayedDynamicME\n",
    "\n",
    "dyme = DelayedDynamicME(solver)\n",
    "dyme.delay_model.solver.set_realopts('lp', {'Feasibility tol':1e-15,'Optimality tol':1e-15})\n",
    "dsolver = dyme.delay_model.solver"
   ]
  },
  {
   "cell_type": "markdown",
   "metadata": {},
   "source": [
    "## Manual keff tuning"
   ]
  },
  {
   "cell_type": "code",
   "execution_count": 324,
   "metadata": {
    "collapsed": false
   },
   "outputs": [
    {
     "name": "stdout",
     "output_type": "stream",
     "text": [
      "(8, 5)\n",
      "keff0                    keff (tuned)             rxn                      \n",
      "122.116908848            25.70134942              GLYK_FWD_GLYCEROL-KIN-CPLX_mod_mn2\n",
      "Setting to tuned keff\n",
      "122.116908848            25.70134942              GLYK_FWD_GLYCEROL-KIN-CPLX_mod_mg2\n",
      "Setting to tuned keff\n",
      "3000.0                   198.3333333              ICDHyr_FWD_ISOCITHASE-CPLX_mod_mg2\n",
      "Setting to tuned keff\n",
      "3000.0                   198.3333333              ICDHyr_FWD_ISOCITHASE-CPLX_mod_mn2\n",
      "Setting to tuned keff\n",
      "3000.0                   300.0                    CYTBO3_4pp_FWD_CYT-O-UBIOX-CPLX_mod_pheme_mod_cu2\n",
      "Setting to tuned keff\n",
      "66.67169068              33.33584534              CYTBD2pp_FWD_APP-UBIOX-CPLX_mod_pheme_mod_hemed\n",
      "Setting to tuned keff\n",
      "66.67169068              33.33584534              CYTBDpp_FWD_APP-UBIOX-CPLX_mod_pheme_mod_hemed\n",
      "Setting to tuned keff\n",
      "66.8258797863            33.41293989              CYTBDpp_FWD_CYT-D-UBIOX-CPLX_mod_pheme_mod_hemed\n",
      "Setting to tuned keff\n"
     ]
    }
   ],
   "source": [
    "df_manual = pd.read_csv('/home/laurence/ME/data/dynamicME/params_manual.csv')\n",
    "df_tuned = df_manual[ df_manual.keff != df_manual.keff_nominal]\n",
    "print df_tuned.shape\n",
    "\n",
    "print '%-25.20s%-25.20s%-25s' % ('keff0','keff (tuned)', 'rxn')\n",
    "for i,r in df_tuned.iterrows():\n",
    "    rxn = me.reactions.get_by_id(r['rxn'])\n",
    "    print '%-25.20s%-25.20s%-25s' % (rxn.keff, r['keff'], rxn.id)\n",
    "    print 'Setting to tuned keff'\n",
    "    rxn.keff = r['keff']\n",
    "    rxn.update()"
   ]
  },
  {
   "cell_type": "code",
   "execution_count": 325,
   "metadata": {
    "collapsed": false,
    "deletable": true,
    "editable": true
   },
   "outputs": [],
   "source": [
    "def me_uptake_hier(solver, ex_rxns, mu_id='BIOMASS_Ec_iJO1366_core_53p95M'):\n",
    "    mdl = solver.me\n",
    "    ZERO = 1e-10\n",
    "    subs_avail = list(ex_rxns)\n",
    "    avail = True\n",
    "    mrows = []        \n",
    "    niter = 0\n",
    "    # Open all initially\n",
    "    for rid in ex_rxns:\n",
    "        rxn = mdl.reactions.get_by_id(rid)\n",
    "        rxn.lower_bound = -10.\n",
    "    while avail:\n",
    "        print 'subs_avail:', subs_avail\n",
    "        for rid in ex_rxns:\n",
    "            if rid not in subs_avail:\n",
    "                rxn = mdl.reactions.get_by_id(rid)\n",
    "                rxn.lower_bound = 0.\n",
    "        muopt,hs,x,cache = solver.bisectmu(basis=solver.feas_basis, verbosity=0)\n",
    "        \n",
    "        if mdl.solution is not None:\n",
    "            mmu = mdl.reactions.get_by_id(mu_id).x\n",
    "            # Remove uptaken mets\n",
    "            uptakes = {}\n",
    "            for rid in ex_rxns:\n",
    "                rxn = mdl.reactions.get_by_id(rid)\n",
    "                if rxn.x < -ZERO:\n",
    "                    print '%s: %g' % (rxn.id, rxn.x)\n",
    "                    subs_avail.remove(rid)\n",
    "                    uptakes[rxn.id] = rxn.x\n",
    "                        \n",
    "            print 'uptakes:', uptakes      \n",
    "            mrows.append({'iter':niter, 'muopt':mmu, 'uptakes':uptakes})\n",
    "                          \n",
    "            if len(subs_avail)==0 or mmu < ZERO:\n",
    "                avail=False\n",
    "            print 'Iter %d\\t mu: %g\\t uptakes:%s' % (niter, mmu, ';'.join(uptakes))\n",
    "            niter += 1\n",
    "        else:\n",
    "            avail = False\n",
    "        \n",
    "    df_result = pd.DataFrame(mrows)\n",
    "    return df_result"
   ]
  },
  {
   "cell_type": "code",
   "execution_count": 326,
   "metadata": {
    "collapsed": false
   },
   "outputs": [
    {
     "name": "stdout",
     "output_type": "stream",
     "text": [
      "subs_avail: ['EX_glyc_e', 'EX_gal_e', 'EX_lac__L_e', 'EX_malt_e', 'EX_ac_e', 'EX_glc__D_e']\n",
      "EX_glyc_e: -6.73863\n",
      "EX_glc__D_e: -9.0926\n",
      "uptakes: {u'EX_glyc_e': -6.7386322999349471, 'EX_glc__D_e': -9.0925965136010571}\n",
      "Iter 0\t mu: 0.921875\t uptakes:EX_glyc_e;EX_glc__D_e\n",
      "subs_avail: ['EX_gal_e', 'EX_lac__L_e', 'EX_malt_e', 'EX_ac_e']\n",
      "EX_malt_e: -6.36991\n",
      "uptakes: {u'EX_malt_e': -6.3699110961179102}\n",
      "Iter 1\t mu: 0.90918\t uptakes:EX_malt_e\n",
      "subs_avail: ['EX_gal_e', 'EX_lac__L_e', 'EX_ac_e']\n",
      "EX_gal_e: -10\n",
      "EX_lac__L_e: -5.59708\n",
      "uptakes: {u'EX_gal_e': -10.0, u'EX_lac__L_e': -5.5970835817208737}\n",
      "Iter 2\t mu: 0.825195\t uptakes:EX_gal_e;EX_lac__L_e\n",
      "subs_avail: ['EX_ac_e']\n",
      "EX_ac_e: -10\n",
      "uptakes: {u'EX_ac_e': -10.0}\n",
      "Iter 3\t mu: 0.169922\t uptakes:EX_ac_e\n",
      "CPU times: user 7min 19s, sys: 1.19 s, total: 7min 21s\n",
      "Wall time: 7min 19s\n"
     ]
    }
   ],
   "source": [
    "%%time\n",
    "df_me_hier = me_uptake_hier(solver, rank_meas.keys(), 'biomass_dilution')"
   ]
  },
  {
   "cell_type": "code",
   "execution_count": 327,
   "metadata": {
    "collapsed": false
   },
   "outputs": [
    {
     "data": {
      "text/html": [
       "<div>\n",
       "<style scoped>\n",
       "    .dataframe tbody tr th:only-of-type {\n",
       "        vertical-align: middle;\n",
       "    }\n",
       "\n",
       "    .dataframe tbody tr th {\n",
       "        vertical-align: top;\n",
       "    }\n",
       "\n",
       "    .dataframe thead th {\n",
       "        text-align: right;\n",
       "    }\n",
       "</style>\n",
       "<table border=\"1\" class=\"dataframe\">\n",
       "  <thead>\n",
       "    <tr style=\"text-align: right;\">\n",
       "      <th></th>\n",
       "      <th>iter</th>\n",
       "      <th>muopt</th>\n",
       "      <th>uptakes</th>\n",
       "    </tr>\n",
       "  </thead>\n",
       "  <tbody>\n",
       "    <tr>\n",
       "      <th>0</th>\n",
       "      <td>0</td>\n",
       "      <td>0.921875</td>\n",
       "      <td>{u'EX_glyc_e': -6.73863229993, u'EX_glc__D_e': -9.0925965136}</td>\n",
       "    </tr>\n",
       "    <tr>\n",
       "      <th>1</th>\n",
       "      <td>1</td>\n",
       "      <td>0.909180</td>\n",
       "      <td>{u'EX_malt_e': -6.36991109612}</td>\n",
       "    </tr>\n",
       "    <tr>\n",
       "      <th>2</th>\n",
       "      <td>2</td>\n",
       "      <td>0.825195</td>\n",
       "      <td>{u'EX_gal_e': -10.0, u'EX_lac__L_e': -5.59708358172}</td>\n",
       "    </tr>\n",
       "    <tr>\n",
       "      <th>3</th>\n",
       "      <td>3</td>\n",
       "      <td>0.169922</td>\n",
       "      <td>{u'EX_ac_e': -10.0}</td>\n",
       "    </tr>\n",
       "  </tbody>\n",
       "</table>\n",
       "</div>"
      ],
      "text/plain": [
       "   iter     muopt  \\\n",
       "0  0     0.921875   \n",
       "1  1     0.909180   \n",
       "2  2     0.825195   \n",
       "3  3     0.169922   \n",
       "\n",
       "                                                         uptakes  \n",
       "0  {u'EX_glyc_e': -6.73863229993, u'EX_glc__D_e': -9.0925965136}  \n",
       "1  {u'EX_malt_e': -6.36991109612}                                 \n",
       "2  {u'EX_gal_e': -10.0, u'EX_lac__L_e': -5.59708358172}           \n",
       "3  {u'EX_ac_e': -10.0}                                            "
      ]
     },
     "execution_count": 327,
     "metadata": {},
     "output_type": "execute_result"
    }
   ],
   "source": [
    "df_me_hier"
   ]
  },
  {
   "cell_type": "code",
   "execution_count": 319,
   "metadata": {
    "collapsed": false
   },
   "outputs": [
    {
     "data": {
      "text/html": [
       "<div>\n",
       "<style scoped>\n",
       "    .dataframe tbody tr th:only-of-type {\n",
       "        vertical-align: middle;\n",
       "    }\n",
       "\n",
       "    .dataframe tbody tr th {\n",
       "        vertical-align: top;\n",
       "    }\n",
       "\n",
       "    .dataframe thead th {\n",
       "        text-align: right;\n",
       "    }\n",
       "</style>\n",
       "<table border=\"1\" class=\"dataframe\">\n",
       "  <thead>\n",
       "    <tr style=\"text-align: right;\">\n",
       "      <th></th>\n",
       "      <th>crowding_active</th>\n",
       "      <th>iter</th>\n",
       "      <th>muopt</th>\n",
       "      <th>tot_prot</th>\n",
       "      <th>uptakes</th>\n",
       "    </tr>\n",
       "  </thead>\n",
       "  <tbody>\n",
       "    <tr>\n",
       "      <th>0</th>\n",
       "      <td>True</td>\n",
       "      <td>0</td>\n",
       "      <td>0.769195</td>\n",
       "      <td>0.004952</td>\n",
       "      <td>{u'EX_malt_e': -2.46546681467, u'EX_glyc_e': -0.106939682288, u'EX_lac__L_e': -7.51816088173}</td>\n",
       "    </tr>\n",
       "    <tr>\n",
       "      <th>1</th>\n",
       "      <td>True</td>\n",
       "      <td>1</td>\n",
       "      <td>0.750333</td>\n",
       "      <td>0.004952</td>\n",
       "      <td>{u'EX_glc__D_e': -8.15244836555}</td>\n",
       "    </tr>\n",
       "    <tr>\n",
       "      <th>2</th>\n",
       "      <td>True</td>\n",
       "      <td>2</td>\n",
       "      <td>0.672555</td>\n",
       "      <td>0.004952</td>\n",
       "      <td>{u'EX_gal_e': -7.2639187204}</td>\n",
       "    </tr>\n",
       "    <tr>\n",
       "      <th>3</th>\n",
       "      <td>True</td>\n",
       "      <td>3</td>\n",
       "      <td>0.247199</td>\n",
       "      <td>0.004952</td>\n",
       "      <td>{u'EX_ac_e': -10.0}</td>\n",
       "    </tr>\n",
       "  </tbody>\n",
       "</table>\n",
       "</div>"
      ],
      "text/plain": [
       "   crowding_active  iter     muopt  tot_prot  \\\n",
       "0  True             0     0.769195  0.004952   \n",
       "1  True             1     0.750333  0.004952   \n",
       "2  True             2     0.672555  0.004952   \n",
       "3  True             3     0.247199  0.004952   \n",
       "\n",
       "                                                                                         uptakes  \n",
       "0  {u'EX_malt_e': -2.46546681467, u'EX_glyc_e': -0.106939682288, u'EX_lac__L_e': -7.51816088173}  \n",
       "1  {u'EX_glc__D_e': -8.15244836555}                                                               \n",
       "2  {u'EX_gal_e': -7.2639187204}                                                                   \n",
       "3  {u'EX_ac_e': -10.0}                                                                            "
      ]
     },
     "execution_count": 319,
     "metadata": {},
     "output_type": "execute_result"
    }
   ],
   "source": [
    "df_hier"
   ]
  },
  {
   "cell_type": "code",
   "execution_count": 323,
   "metadata": {
    "collapsed": false
   },
   "outputs": [
    {
     "data": {
      "text/plain": [
       "-16.0"
      ]
     },
     "execution_count": 323,
     "metadata": {},
     "output_type": "execute_result"
    }
   ],
   "source": [
    "me.reactions.EX_o2_e.lower_bound"
   ]
  },
  {
   "cell_type": "code",
   "execution_count": null,
   "metadata": {
    "collapsed": true
   },
   "outputs": [],
   "source": []
  },
  {
   "cell_type": "code",
   "execution_count": 215,
   "metadata": {
    "collapsed": true,
    "deletable": true,
    "editable": true
   },
   "outputs": [],
   "source": [
    "c0_dict = {'glc__D_e': 0.4,\n",
    "           'lac__L_e': 0.4,\n",
    "           'malt_e': 0.4,\n",
    "           'gal_e': 0.4,\n",
    "           'glyc_e':0.4,\n",
    "           'ac_e': 0.0}\n",
    "\n",
    "mids_remove = []\n",
    "for mid,c in c0_dict.iteritems():\n",
    "    try:        \n",
    "        met = me.metabolites.get_by_id(mid)    \n",
    "        c0_dict[met.id] = c / met.formula_weight * 1000\n",
    "    except KeyError:\n",
    "        warnings.warn('Model has no metabolite: %s. Will remove it from c0_dict' % mid)\n",
    "        mids_remove.append(mid)\n",
    "\n",
    "for mid in mids_remove:\n",
    "    c0_dict.pop(mid)\n",
    "\n",
    "### Set max uptake rate\n",
    "LB_EX = -10.\n",
    "LB_O2 = -20.\n",
    "\n",
    "lb_dict={}\n",
    "ub_dict={}\n",
    "\n",
    "for mid in c0_dict.keys():\n",
    "    try:\n",
    "        rxn = dyme.get_exchange_rxn(mid)    \n",
    "        if rxn.id is 'EX_o2_e':\n",
    "            lb = LB_O2\n",
    "        else:\n",
    "            lb = LB_EX\n",
    "        rxn.lower_bound = lb\n",
    "        lb_dict[rxn.id] = lb\n",
    "    except KeyError:\n",
    "        warnings.warn('Model has no metabolite: '+ mid)"
   ]
  },
  {
   "cell_type": "markdown",
   "metadata": {
    "deletable": true,
    "editable": true
   },
   "source": [
    "## Compute uptake hierarchy\n",
    "- check growth on each individually\n",
    "- order by growth rate\n",
    "- that's the approximate hierarchy\n",
    "- tune keffs until we get the hierarchy correct"
   ]
  },
  {
   "cell_type": "code",
   "execution_count": 216,
   "metadata": {
    "collapsed": true,
    "deletable": true,
    "editable": true
   },
   "outputs": [],
   "source": [
    "rank_meas = {'EX_ac_e': 5,\n",
    "             'EX_gal_e': 2,\n",
    "             'EX_glc__D_e': 0,\n",
    "             'EX_glyc_e': 4,\n",
    "             'EX_lac__L_e': 1,\n",
    "             'EX_malt_e': 3\n",
    "            }    "
   ]
  },
  {
   "cell_type": "code",
   "execution_count": 217,
   "metadata": {
    "collapsed": true,
    "deletable": true,
    "editable": true
   },
   "outputs": [],
   "source": [
    "import os\n",
    "import ipyparallel as ipp\n",
    "\n",
    "rc = ipp.Client()\n",
    "dview = rc[:]"
   ]
  },
  {
   "cell_type": "code",
   "execution_count": 218,
   "metadata": {
    "collapsed": false,
    "deletable": true,
    "editable": true
   },
   "outputs": [
    {
     "data": {
      "text/html": [
       "<div>\n",
       "<style scoped>\n",
       "    .dataframe tbody tr th:only-of-type {\n",
       "        vertical-align: middle;\n",
       "    }\n",
       "\n",
       "    .dataframe tbody tr th {\n",
       "        vertical-align: top;\n",
       "    }\n",
       "\n",
       "    .dataframe thead th {\n",
       "        text-align: right;\n",
       "    }\n",
       "</style>\n",
       "<table border=\"1\" class=\"dataframe\">\n",
       "  <thead>\n",
       "    <tr style=\"text-align: right;\">\n",
       "      <th></th>\n",
       "      <th>bigg_id</th>\n",
       "      <th>keff_nominal</th>\n",
       "      <th>mmol_gDW</th>\n",
       "      <th>name</th>\n",
       "      <th>reaction</th>\n",
       "      <th>rxn</th>\n",
       "      <th>subsystem</th>\n",
       "    </tr>\n",
       "  </thead>\n",
       "  <tbody>\n",
       "    <tr>\n",
       "      <th>0</th>\n",
       "      <td>12DGR120tipp</td>\n",
       "      <td>65.0</td>\n",
       "      <td>0.0</td>\n",
       "      <td>1,2 diacylglycerol transport via flipping (periplasm to cytoplasm, n-C12:0)</td>\n",
       "      <td>12dgr120_p --&gt; 12dgr120_c</td>\n",
       "      <td>12DGR120tipp_FWD_CPLX_dummy</td>\n",
       "      <td>Transport, Inner Membrane</td>\n",
       "    </tr>\n",
       "    <tr>\n",
       "      <th>1</th>\n",
       "      <td>12DGR140tipp</td>\n",
       "      <td>65.0</td>\n",
       "      <td>0.0</td>\n",
       "      <td>1,2 diacylglycerol transport via flipping (periplasm to cytoplasm, n-C14:0)</td>\n",
       "      <td>12dgr140_p --&gt; 12dgr140_c</td>\n",
       "      <td>12DGR140tipp_FWD_CPLX_dummy</td>\n",
       "      <td>Transport, Inner Membrane</td>\n",
       "    </tr>\n",
       "    <tr>\n",
       "      <th>2</th>\n",
       "      <td>12DGR141tipp</td>\n",
       "      <td>65.0</td>\n",
       "      <td>0.0</td>\n",
       "      <td>1,2 diacylglycerol transport via flipping (periplasm to cytoplasm, n-C14:1)</td>\n",
       "      <td>12dgr141_p --&gt; 12dgr141_c</td>\n",
       "      <td>12DGR141tipp_FWD_CPLX_dummy</td>\n",
       "      <td>Transport, Inner Membrane</td>\n",
       "    </tr>\n",
       "    <tr>\n",
       "      <th>3</th>\n",
       "      <td>12DGR160tipp</td>\n",
       "      <td>65.0</td>\n",
       "      <td>0.0</td>\n",
       "      <td>1,2 diacylglycerol transport via flipping (periplasm to cytoplasm, n-C16:0)</td>\n",
       "      <td>12dgr160_p --&gt; 12dgr160_c</td>\n",
       "      <td>12DGR160tipp_FWD_CPLX_dummy</td>\n",
       "      <td>Transport, Inner Membrane</td>\n",
       "    </tr>\n",
       "    <tr>\n",
       "      <th>4</th>\n",
       "      <td>12DGR161tipp</td>\n",
       "      <td>65.0</td>\n",
       "      <td>0.0</td>\n",
       "      <td>1,2 diacylglycerol transport via flipping (periplasm to cytoplasm, n-C16:1)</td>\n",
       "      <td>12dgr161_p --&gt; 12dgr161_c</td>\n",
       "      <td>12DGR161tipp_FWD_CPLX_dummy</td>\n",
       "      <td>Transport, Inner Membrane</td>\n",
       "    </tr>\n",
       "  </tbody>\n",
       "</table>\n",
       "</div>"
      ],
      "text/plain": [
       "        bigg_id  keff_nominal  mmol_gDW  \\\n",
       "0  12DGR120tipp  65.0          0.0        \n",
       "1  12DGR140tipp  65.0          0.0        \n",
       "2  12DGR141tipp  65.0          0.0        \n",
       "3  12DGR160tipp  65.0          0.0        \n",
       "4  12DGR161tipp  65.0          0.0        \n",
       "\n",
       "                                                                          name  \\\n",
       "0  1,2 diacylglycerol transport via flipping (periplasm to cytoplasm, n-C12:0)   \n",
       "1  1,2 diacylglycerol transport via flipping (periplasm to cytoplasm, n-C14:0)   \n",
       "2  1,2 diacylglycerol transport via flipping (periplasm to cytoplasm, n-C14:1)   \n",
       "3  1,2 diacylglycerol transport via flipping (periplasm to cytoplasm, n-C16:0)   \n",
       "4  1,2 diacylglycerol transport via flipping (periplasm to cytoplasm, n-C16:1)   \n",
       "\n",
       "                    reaction                          rxn  \\\n",
       "0  12dgr120_p --> 12dgr120_c  12DGR120tipp_FWD_CPLX_dummy   \n",
       "1  12dgr140_p --> 12dgr140_c  12DGR140tipp_FWD_CPLX_dummy   \n",
       "2  12dgr141_p --> 12dgr141_c  12DGR141tipp_FWD_CPLX_dummy   \n",
       "3  12dgr160_p --> 12dgr160_c  12DGR160tipp_FWD_CPLX_dummy   \n",
       "4  12dgr161_p --> 12dgr161_c  12DGR161tipp_FWD_CPLX_dummy   \n",
       "\n",
       "                   subsystem  \n",
       "0  Transport, Inner Membrane  \n",
       "1  Transport, Inner Membrane  \n",
       "2  Transport, Inner Membrane  \n",
       "3  Transport, Inner Membrane  \n",
       "4  Transport, Inner Membrane  "
      ]
     },
     "execution_count": 218,
     "metadata": {},
     "output_type": "execute_result"
    }
   ],
   "source": [
    "df_rmap.head()"
   ]
  },
  {
   "cell_type": "code",
   "execution_count": 229,
   "metadata": {
    "collapsed": true,
    "deletable": true,
    "editable": true
   },
   "outputs": [],
   "source": [
    "def run_sim(arg_dict):\n",
    "    rank_meas = {'EX_ac_e': 5,\n",
    "             'EX_gal_e': 2,\n",
    "             'EX_glc__D_e': 0,\n",
    "             'EX_glyc_e': 4,\n",
    "             'EX_lac__L_e': 1,\n",
    "             'EX_malt_e': 3\n",
    "            }    \n",
    "    from dynamicme.tests.helpme import HelpME\n",
    "    from stressme.model import update_stoich_expr\n",
    "\n",
    "    helper = HelpME(prototyping=False)\n",
    "    solver = helper.solver\n",
    "    me = solver.me\n",
    "    ### Scale all keffs uniformly in rxn set\n",
    "    keff_scale = arg_dict['keff_scale']\n",
    "    df_rmap = arg_dict['df_rmap']\n",
    "    for i,row in df_rmap.iterrows():\n",
    "        rxn = me.reactions.get_by_id(row['rxn'])\n",
    "        rxn.keff = row['keff_nominal'] * keff_scale\n",
    "        rxn.update()\n",
    "        update_stoich_expr(solver, rxn=rxn)\n",
    "    \n",
    "    for rid in rank_meas.keys():\n",
    "        rxn = me.reactions.get_by_id(rid)\n",
    "        rxn.lower_bound = 0.\n",
    "    ex_rxn = arg_dict['ex_rxn']\n",
    "    rxn = me.reactions.get_by_id(ex_rxn)\n",
    "    rxn.lower_bound = -10\n",
    "    \n",
    "    muopt,hs,x,cache = solver.bisectmu(basis=solver.feas_basis)\n",
    "    if me.solution is None:\n",
    "        stat = 1\n",
    "        x_dict = None\n",
    "    else:\n",
    "        stat = me.solution.status\n",
    "        x_dict = dict(me.solution.x_dict)\n",
    "    row = {'ex_rxn':ex_rxn, 'muopt':muopt, 'stat':stat, 'x_dict':x_dict}\n",
    "    return row"
   ]
  },
  {
   "cell_type": "code",
   "execution_count": 230,
   "metadata": {
    "collapsed": false,
    "deletable": true,
    "editable": true
   },
   "outputs": [],
   "source": [
    "parargs = [{'ex_rxn':k, 'keff_scale':KEFF_SCALE, 'df_rmap':df_rmap} for k in rank_meas.keys()]"
   ]
  },
  {
   "cell_type": "code",
   "execution_count": 231,
   "metadata": {
    "collapsed": false,
    "deletable": true,
    "editable": true
   },
   "outputs": [
    {
     "name": "stdout",
     "output_type": "stream",
     "text": [
      "CPU times: user 790 ms, sys: 63.3 ms, total: 853 ms\n",
      "Wall time: 3min 38s\n"
     ]
    }
   ],
   "source": [
    "%%time\n",
    "import scipy.stats as stats\n",
    "\n",
    "results = dview.map_sync(run_sim, parargs)"
   ]
  },
  {
   "cell_type": "code",
   "execution_count": 232,
   "metadata": {
    "collapsed": false,
    "deletable": true,
    "editable": true
   },
   "outputs": [
    {
     "data": {
      "text/html": [
       "<div>\n",
       "<style scoped>\n",
       "    .dataframe tbody tr th:only-of-type {\n",
       "        vertical-align: middle;\n",
       "    }\n",
       "\n",
       "    .dataframe tbody tr th {\n",
       "        vertical-align: top;\n",
       "    }\n",
       "\n",
       "    .dataframe thead th {\n",
       "        text-align: right;\n",
       "    }\n",
       "</style>\n",
       "<table border=\"1\" class=\"dataframe\">\n",
       "  <thead>\n",
       "    <tr style=\"text-align: right;\">\n",
       "      <th></th>\n",
       "      <th>ex_rxn</th>\n",
       "      <th>muopt</th>\n",
       "    </tr>\n",
       "  </thead>\n",
       "  <tbody>\n",
       "    <tr>\n",
       "      <th>0</th>\n",
       "      <td>EX_glyc_e</td>\n",
       "      <td>0.402344</td>\n",
       "    </tr>\n",
       "    <tr>\n",
       "      <th>1</th>\n",
       "      <td>EX_gal_e</td>\n",
       "      <td>0.391602</td>\n",
       "    </tr>\n",
       "    <tr>\n",
       "      <th>2</th>\n",
       "      <td>EX_lac__L_e</td>\n",
       "      <td>0.283203</td>\n",
       "    </tr>\n",
       "    <tr>\n",
       "      <th>3</th>\n",
       "      <td>EX_malt_e</td>\n",
       "      <td>0.407227</td>\n",
       "    </tr>\n",
       "    <tr>\n",
       "      <th>4</th>\n",
       "      <td>EX_ac_e</td>\n",
       "      <td>0.149414</td>\n",
       "    </tr>\n",
       "    <tr>\n",
       "      <th>5</th>\n",
       "      <td>EX_glc__D_e</td>\n",
       "      <td>0.416992</td>\n",
       "    </tr>\n",
       "  </tbody>\n",
       "</table>\n",
       "</div>"
      ],
      "text/plain": [
       "        ex_rxn     muopt\n",
       "0  EX_glyc_e    0.402344\n",
       "1  EX_gal_e     0.391602\n",
       "2  EX_lac__L_e  0.283203\n",
       "3  EX_malt_e    0.407227\n",
       "4  EX_ac_e      0.149414\n",
       "5  EX_glc__D_e  0.416992"
      ]
     },
     "execution_count": 232,
     "metadata": {},
     "output_type": "execute_result"
    }
   ],
   "source": [
    "df_me = pd.DataFrame([{'ex_rxn':res['ex_rxn'], 'muopt':res['muopt']} for res in results])\n",
    "df_me"
   ]
  },
  {
   "cell_type": "code",
   "execution_count": 233,
   "metadata": {
    "collapsed": false,
    "deletable": true,
    "editable": true
   },
   "outputs": [
    {
     "name": "stdout",
     "output_type": "stream",
     "text": [
      "Pearson r=0.819387 (p=0.0459856)\n",
      "Spearman r=0.942857 (p=0.00480466)\n"
     ]
    },
    {
     "data": {
      "image/png": "[encoded data removed]",
      "text/plain": [
       "<matplotlib.figure.Figure at 0x7fb07cb3c0d0>"
      ]
     },
     "metadata": {},
     "output_type": "display_data"
    }
   ],
   "source": [
    "df_val = pd.merge(df_me, df_meas, on='ex_rxn')\n",
    "xymax = max(df_val.growth_rate_1_h.max(), df_val.muopt.max())\n",
    "plt.plot([0, xymax*1.15], [0, xymax*1.15], color='#333333')\n",
    "plt.scatter(df_val.growth_rate_1_h, df_val.muopt)\n",
    "#for k in substrates:\n",
    "for i,r in df_val.iterrows():\n",
    "    x = r['growth_rate_1_h']\n",
    "    y = r['muopt']\n",
    "    k = r['substrate']\n",
    "    ls = plt.text(x, y, k)\n",
    "ax = ls.axes\n",
    "ax.set_aspect(1)\n",
    "ax.figure.set_size_inches(5,5)\n",
    "ax.set_xlabel('Measured growth rate (1/h)')\n",
    "ax.set_ylabel('Predicted growth rate (1/h)')\n",
    "# ax.set_xlabel('Measured rank')\n",
    "# ax.set_ylabel('Predicted rank')\n",
    "\n",
    "r,p = stats.pearsonr(df_val.growth_rate_1_h, df_val.muopt)\n",
    "print 'Pearson r=%g (p=%g)' % (r,p)\n",
    "r,p = stats.spearmanr(df_val.growth_rate_1_h, df_val.muopt)\n",
    "print 'Spearman r=%g (p=%g)' % (r,p)\n",
    "#r,p = stats.pearsonr(r_meas, r_pred)\n",
    "#print 'r=%g (p=%g)' % (r,p)"
   ]
  },
  {
   "cell_type": "code",
   "execution_count": null,
   "metadata": {
    "collapsed": true,
    "deletable": true,
    "editable": true
   },
   "outputs": [],
   "source": []
  }
 ],
 "metadata": {
  "kernelspec": {
   "display_name": "Python 2",
   "language": "python",
   "name": "python2"
  },
  "language_info": {
   "codemirror_mode": {
    "name": "ipython",
    "version": 2
   },
   "file_extension": ".py",
   "mimetype": "text/x-python",
   "name": "python",
   "nbconvert_exporter": "python",
   "pygments_lexer": "ipython2",
   "version": "2.7.13"
  }
 },
 "nbformat": 4,
 "nbformat_minor": 2
}
