{
 "cells": [
  {
   "cell_type": "markdown",
   "metadata": {
    "deletable": true,
    "editable": true
   },
   "source": [
    "# Test problem from Caroe et al. (1999)"
   ]
  },
  {
   "cell_type": "markdown",
   "metadata": {
    "deletable": true,
    "editable": true
   },
   "source": [
    "$$\n",
    "\\begin{align*}\n",
    "\\max_{x}      \\quad & \\frac{3}{2} x_1 + 4 x_2 + Q(x_1, x_2) \\\\\n",
    "\\mathrm{s.t.} \\quad & 0 \\leq x \\leq 5 \\\\\n",
    "                    & x \\ \\mathrm{integer}\n",
    "\\end{align*}\n",
    "$$\n",
    "\n",
    "where $Q(x_1,x_2)$:\n",
    "$$\n",
    "\\begin{align*}\n",
    "\\max_{y}      \\quad & 16 y_1 + 19 y_2 + 23 y_3 + 28 y_4 \\\\\n",
    "\\mathrm{s.t.} \\quad & 2 y_1 + 3 y_2 + 4 y_3 + 5 y_4 \\leq \\zeta_1 - x_1 \\\\\n",
    "                    & 6 y_1 + y_2 + 3 y_3 + 2 y_4 \\leq \\zeta_2 - x_2 \\\\\n",
    "                    & y_i \\in \\{0,1\\}\n",
    "\\end{align*}\n",
    "$$\n",
    "and $\\zeta = (\\zeta_1,\\zeta_2)$ is uniformly distributed on\n",
    "$$\\Pi = \\{(5,5), (5,6),\\dots,(5,15),(6,5),\\dots,(15,15)\\}$$\n",
    "giving 121 scenarios."
   ]
  },
  {
   "cell_type": "code",
   "execution_count": 1,
   "metadata": {
    "collapsed": true,
    "deletable": true,
    "editable": true
   },
   "outputs": [],
   "source": [
    "RELAX_LP = False"
   ]
  },
  {
   "cell_type": "code",
   "execution_count": 2,
   "metadata": {
    "collapsed": false,
    "deletable": true,
    "editable": true
   },
   "outputs": [],
   "source": [
    "from __future__ import division\n",
    "from cobra import Model\n",
    "from dynamicme.optimize import Variable, Constraint\n",
    "from six import iteritems\n",
    "from dynamicme.decomposition.LagrangeMaster import LagrangeMaster\n",
    "from dynamicme.decomposition.LagrangeSubmodel import LagrangeSubmodel\n",
    "from dynamicme.decomposition.LagrangeBB import LagrangeBB\n",
    "\n",
    "import numpy as np\n",
    "import pandas as pd"
   ]
  },
  {
   "cell_type": "code",
   "execution_count": 3,
   "metadata": {
    "collapsed": false,
    "deletable": true,
    "editable": true
   },
   "outputs": [
    {
     "name": "stdout",
     "output_type": "stream",
     "text": [
      "Scenarios: 121\n"
     ]
    }
   ],
   "source": [
    "zetas = [(i,j) for i in np.arange(5,16) for j in np.arange(5,16)]\n",
    "print('Scenarios: %s'%len(zetas))"
   ]
  },
  {
   "cell_type": "code",
   "execution_count": 4,
   "metadata": {
    "collapsed": false,
    "deletable": true,
    "editable": true
   },
   "outputs": [],
   "source": [
    "probk = 1./len(zetas)  # Uniform probability over scenarios\n",
    "cx = -np.array([3/2, 4])\n",
    "fy = -np.array([16, 19, 23, 28])\n",
    "xl = [0, 0]\n",
    "xu = [5, 5]\n",
    "A  = [[2,3,4,5],\n",
    "      [6,1,3,2]]\n",
    "\n",
    "sub_dict = {}\n",
    "for k,zeta in enumerate(zetas):\n",
    "    mdl = Model('sub')\n",
    "    ys  = [Variable('y_%d'%j, lower_bound=0, upper_bound=1, objective_coefficient=fy[j]) for j in range(len(fy))]\n",
    "    xs  = [Variable('x_%d'%j, lower_bound=xl[j], upper_bound=xu[j], objective_coefficient=cx[j]) for j in range(len(cx))]\n",
    "    for x in xs:\n",
    "        x.variable_kind = 'integer'\n",
    "    for y in ys:\n",
    "        y.variable_kind = 'integer'\n",
    "    mdl.add_reactions(xs+ys)\n",
    "    for i,ai in enumerate(A):\n",
    "        cons = Constraint('cons_%d'%i)\n",
    "        cons._constraint_sense = 'L'\n",
    "        cons._bound = zeta[i]\n",
    "        xs[i].add_metabolites({cons:1})\n",
    "        for j,aij in enumerate(ai):\n",
    "            ys[j].add_metabolites({cons:aij})\n",
    "    sub_id = 'scen_%d'%k\n",
    "    sub = LagrangeSubmodel(mdl, sub_id, first_stage_vars=xs)\n",
    "    sub._weight = probk\n",
    "    sub_dict[sub_id] = sub"
   ]
  },
  {
   "cell_type": "code",
   "execution_count": 5,
   "metadata": {
    "collapsed": false,
    "deletable": true,
    "editable": true
   },
   "outputs": [],
   "source": [
    "master = LagrangeMaster(mdl, first_stage_vars=xs)\n",
    "master._INF = 1e8\n",
    "master.add_submodels(sub_dict)\n",
    "master._z.LB = -master._INF\n",
    "master._z.UB = master._INF\n",
    "master.model.Params.Presolve = 0\n",
    "master.model.update()\n",
    "master.model.Params.NodefileStart = 3.\n",
    "for sub in sub_dict.values():\n",
    "    sub.model.Params.NodefileStart = 3."
   ]
  },
  {
   "cell_type": "code",
   "execution_count": 6,
   "metadata": {
    "collapsed": true,
    "deletable": true,
    "editable": true
   },
   "outputs": [],
   "source": [
    "master.gaptol = 1e-3\n",
    "master.penaltytol = 1e-6 #1e-4\n",
    "master.delta_mult = 0.5\n",
    "master.delta_min = 0\n",
    "master.bundle_mult = 0.1\n",
    "\n",
    "feasible_methods = ['heuristic','enumerate']\n",
    "alt_method = 'pool'\n",
    "max_alt = 10\n",
    "\n",
    "if RELAX_LP:\n",
    "    master.verbosity=2\n",
    "    master.max_iter = 100\n",
    "    sol_master = master.solve_relaxed(feasible_methods=None)\n",
    "    df_phase1 = pd.DataFrame(master.log_rows)\n",
    "\n",
    "master.gaptol = 0.01\n",
    "master.verbosity=1\n",
    "master.max_iter = 100\n",
    "master.max_max_alt = 100\n",
    "\n",
    "heuristics = ['average']\n",
    "\n",
    "lagrangeBB = LagrangeBB(master, heuristics)"
   ]
  },
  {
   "cell_type": "markdown",
   "metadata": {
    "deletable": true,
    "editable": true
   },
   "source": [
    "## Try manually"
   ]
  },
  {
   "cell_type": "markdown",
   "metadata": {},
   "source": [
    "from dynamicme.decomposition.ProblemTree import ProblemNode, ProblemTree\n",
    "lagrangeBB.tree.nodes = [ProblemNode(master)]\n",
    "\n",
    "master.optimize(feasible_methods=['average'])\n",
    "\n",
    "lagrangeBB.calc_inconsistency(master)\n",
    "\n",
    "node = lagrangeBB.tree.nodes[0]\n",
    "\n",
    "children = lagrangeBB.branch(node)\n",
    "\n",
    "for k,child in enumerate(children):\n",
    "    print(\"child=%s. bound_dict=%s\"%(k,child.bound_dict))\n",
    "\n",
    "# child0 = children[0]\n",
    "# child0.optimize(feasible_methods=['average'])\n",
    "child1 = children[1]"
   ]
  },
  {
   "cell_type": "markdown",
   "metadata": {
    "deletable": true,
    "editable": true
   },
   "source": [
    "## B&B"
   ]
  },
  {
   "cell_type": "code",
   "execution_count": 7,
   "metadata": {
    "collapsed": true
   },
   "outputs": [],
   "source": [
    "for sub in sub_dict.values():\n",
    "    sub.model.Params.Threads = 1"
   ]
  },
  {
   "cell_type": "code",
   "execution_count": 8,
   "metadata": {
    "collapsed": false
   },
   "outputs": [],
   "source": [
    "lagrangeBB.node_verbosity = 1"
   ]
  },
  {
   "cell_type": "code",
   "execution_count": 9,
   "metadata": {
    "collapsed": false,
    "deletable": true,
    "editable": true,
    "scrolled": false
   },
   "outputs": [
    {
     "name": "stdout",
     "output_type": "stream",
     "text": [
      "0         . NODES TO EXPLORE: 1\n",
      "    Iter                    UB                    LB       gap relgap(%)   penalty                       Time(s)\n",
      "  ------   -------------------   -------------------  -------- ---------  -------- -----------------------------\n",
      "               Dual   Feasible        Sub       Best                                   total    master       sub\n",
      "       0      1e+08     1e+100     -70.58     -70.58     1e+08       100         0  0.167101  0.005785  0.102341\n",
      "      10      -63.6     1e+100     -66.51     -65.24     1.649     2.593     0.372  1.420708  0.015310  0.073536\n",
      "      14     -64.15     1e+100     -64.15     -64.15         0         0   5.3e-08  1.972927  0.032963  0.070846\n",
      "0 NODES DROPPED BY PRUNING: z > -61.0083\n",
      "y[1] = 2.0\n",
      "BRANCHING ON y[1]: x_1\n",
      "1         . NODES TO EXPLORE: 2\n",
      "    Iter                    UB                    LB       gap relgap(%)   penalty                       Time(s)\n",
      "  ------   -------------------   -------------------  -------- ---------  -------- -----------------------------\n",
      "               Dual   Feasible        Sub       Best                                   total    master       sub\n",
      "       0     -59.76     1e+100     -69.07     -69.07     9.308     15.58     0.028  0.129456  0.002846  0.080442\n"
     ]
    },
    {
     "name": "stderr",
     "output_type": "stream",
     "text": [
      "/home/laurence/python_modules/dynamicme.git/dynamicme/decomposition/LagrangeMaster.py:526 \u001b[1;31mUserWarning\u001b[0m: Solution available but Master solver status=suboptimal (13).\n"
     ]
    },
    {
     "name": "stdout",
     "output_type": "stream",
     "text": [
      "      10     -62.95     1e+100     -64.87     -64.26     1.303      2.07     0.406  1.407122  0.019330  0.069608\n",
      "      14     -63.58     1e+100     -63.58     -63.58         0         0  2.04e-08  1.889269  0.034064  0.068665\n",
      "0 NODES DROPPED BY PRUNING: z > -62.2893\n",
      "y[1] = 4.0\n",
      "BRANCHING ON y[1]: x_1\n",
      "2         . NODES TO EXPLORE: 3\n",
      "    Iter                    UB                    LB       gap relgap(%)   penalty                       Time(s)\n",
      "  ------   -------------------   -------------------  -------- ---------  -------- -----------------------------\n",
      "               Dual   Feasible        Sub       Best                                   total    master       sub\n",
      "       0     -62.26     1e+100     -64.32     -64.32     2.059     3.308    0.0028  0.115760  0.002575  0.070010\n"
     ]
    },
    {
     "name": "stderr",
     "output_type": "stream",
     "text": [
      "/home/laurence/python_modules/dynamicme.git/dynamicme/decomposition/LagrangeMaster.py:526 \u001b[1;31mUserWarning\u001b[0m: Solution available but Master solver status=numeric (12).\n"
     ]
    },
    {
     "name": "stdout",
     "output_type": "stream",
     "text": [
      "      10     -61.68     1e+100     -61.91     -61.91    0.2327    0.3773      0.67  1.251924  0.040236  0.064133\n",
      "      20     -61.12     1e+100     -61.08     -61.06   0.05695   0.09319    0.0397  2.693687  0.064950  0.063758\n",
      "      22     -61.06     1e+100     -61.06     -61.06  0.001093   0.00179  1.68e-09  3.077311  0.147925  0.063498\n",
      "3         . NODES TO EXPLORE: 2\n",
      "    Iter                    UB                    LB       gap relgap(%)   penalty                       Time(s)\n",
      "  ------   -------------------   -------------------  -------- ---------  -------- -----------------------------\n",
      "               Dual   Feasible        Sub       Best                                   total    master       sub\n",
      "       0     -60.04     1e+100      -66.9      -66.9     6.858     11.42    0.0288  0.128945  0.002828  0.080023\n",
      "      10      -62.9     1e+100     -64.18     -63.91     1.009     1.604     0.206  1.303933  0.015727  0.066836\n",
      "      14     -63.21     1e+100     -63.21     -63.21         0         0   3.5e-08  1.849158  0.065922  0.066462\n",
      "0 NODES DROPPED BY PRUNING: z > -62.2893\n",
      "y[1] = 4.0\n",
      "BRANCHING ON y[1]: x_1\n",
      "4         . NODES TO EXPLORE: 3\n",
      "    Iter                    UB                    LB       gap relgap(%)   penalty                       Time(s)\n",
      "  ------   -------------------   -------------------  -------- ---------  -------- -----------------------------\n",
      "               Dual   Feasible        Sub       Best                                   total    master       sub\n",
      "Relaxed subproblem scen_12 infeasible. objval=nan.\n",
      "5         . NODES TO EXPLORE: 2\n",
      "    Iter                    UB                    LB       gap relgap(%)   penalty                       Time(s)\n",
      "  ------   -------------------   -------------------  -------- ---------  -------- -----------------------------\n",
      "               Dual   Feasible        Sub       Best                                   total    master       sub\n",
      "       0      1e+08     1e+100     -66.88     -66.88     1e+08       100         0  0.117744  0.001335  0.069780\n",
      "      10     -62.33     1e+100     -62.54     -62.54     0.208    0.3337     0.506  1.315661  0.018531  0.067533\n",
      "      15     -62.29     1e+100     -62.29     -62.29         0         0  2.98e-08  1.945467  0.041917  0.067372\n",
      "6         . NODES TO EXPLORE: 1\n",
      "    Iter                    UB                    LB       gap relgap(%)   penalty                       Time(s)\n",
      "  ------   -------------------   -------------------  -------- ---------  -------- -----------------------------\n",
      "               Dual   Feasible        Sub       Best                                   total    master       sub\n",
      "       0     -62.29     1e+100     -63.81     -63.81     1.525     2.448         0  0.132774  0.002663  0.081508\n",
      "      10     -62.29     1e+100     -62.33     -62.33   0.04261    0.0684   0.00373  1.393615  0.014904  0.066423\n",
      "      13     -62.29     1e+100     -62.29     -62.29 0.0008139  0.001307  1.34e-08  1.797357  0.020618  0.066497\n"
     ]
    }
   ],
   "source": [
    "sol_master = lagrangeBB.optimize(two_phase=False, feasible_methods=[])\n",
    "df_phase2 = pd.DataFrame(master.log_rows)"
   ]
  },
  {
   "cell_type": "code",
   "execution_count": 16,
   "metadata": {
    "collapsed": false
   },
   "outputs": [
    {
     "data": {
      "text/plain": [
       "{'x_0': 0.0, 'x_1': 4.0}"
      ]
     },
     "execution_count": 16,
     "metadata": {},
     "output_type": "execute_result"
    }
   ],
   "source": [
    "sol_master"
   ]
  },
  {
   "cell_type": "code",
   "execution_count": 20,
   "metadata": {
    "collapsed": false
   },
   "outputs": [
    {
     "data": {
      "text/html": [
       "<div>\n",
       "<style scoped>\n",
       "    .dataframe tbody tr th:only-of-type {\n",
       "        vertical-align: middle;\n",
       "    }\n",
       "\n",
       "    .dataframe tbody tr th {\n",
       "        vertical-align: top;\n",
       "    }\n",
       "\n",
       "    .dataframe thead th {\n",
       "        text-align: right;\n",
       "    }\n",
       "</style>\n",
       "<table border=\"1\" class=\"dataframe\">\n",
       "  <thead>\n",
       "    <tr style=\"text-align: right;\">\n",
       "      <th></th>\n",
       "      <th>LB</th>\n",
       "      <th>bestLB</th>\n",
       "      <th>bestUB</th>\n",
       "      <th>delta</th>\n",
       "      <th>feasUB</th>\n",
       "      <th>gap</th>\n",
       "      <th>iter</th>\n",
       "      <th>relgap</th>\n",
       "      <th>res_u</th>\n",
       "      <th>t_master</th>\n",
       "      <th>t_sub</th>\n",
       "      <th>t_total</th>\n",
       "      <th>phase</th>\n",
       "    </tr>\n",
       "  </thead>\n",
       "  <tbody>\n",
       "    <tr>\n",
       "      <th>0</th>\n",
       "      <td>-63.814050</td>\n",
       "      <td>-63.814050</td>\n",
       "      <td>-62.289255</td>\n",
       "      <td>1.0000</td>\n",
       "      <td>NaN</td>\n",
       "      <td>1.524794</td>\n",
       "      <td>0</td>\n",
       "      <td>2.447925</td>\n",
       "      <td>0.000000</td>\n",
       "      <td>0.002663</td>\n",
       "      <td>0.081509</td>\n",
       "      <td>0.085774</td>\n",
       "      <td>2</td>\n",
       "    </tr>\n",
       "    <tr>\n",
       "      <th>1</th>\n",
       "      <td>-63.788915</td>\n",
       "      <td>-63.788915</td>\n",
       "      <td>-67.451916</td>\n",
       "      <td>0.5000</td>\n",
       "      <td>NaN</td>\n",
       "      <td>3.663001</td>\n",
       "      <td>1</td>\n",
       "      <td>5.430537</td>\n",
       "      <td>0.032307</td>\n",
       "      <td>0.006078</td>\n",
       "      <td>0.069754</td>\n",
       "      <td>0.209924</td>\n",
       "      <td>2</td>\n",
       "    </tr>\n",
       "    <tr>\n",
       "      <th>2</th>\n",
       "      <td>-63.740831</td>\n",
       "      <td>-63.740831</td>\n",
       "      <td>-67.354281</td>\n",
       "      <td>0.2500</td>\n",
       "      <td>NaN</td>\n",
       "      <td>3.613450</td>\n",
       "      <td>2</td>\n",
       "      <td>5.364841</td>\n",
       "      <td>0.045968</td>\n",
       "      <td>0.004383</td>\n",
       "      <td>0.069751</td>\n",
       "      <td>0.336226</td>\n",
       "      <td>2</td>\n",
       "    </tr>\n",
       "    <tr>\n",
       "      <th>3</th>\n",
       "      <td>-63.645843</td>\n",
       "      <td>-63.645843</td>\n",
       "      <td>-67.173274</td>\n",
       "      <td>0.1250</td>\n",
       "      <td>NaN</td>\n",
       "      <td>3.527431</td>\n",
       "      <td>3</td>\n",
       "      <td>5.251241</td>\n",
       "      <td>0.090339</td>\n",
       "      <td>0.005305</td>\n",
       "      <td>0.068691</td>\n",
       "      <td>0.458459</td>\n",
       "      <td>2</td>\n",
       "    </tr>\n",
       "    <tr>\n",
       "      <th>4</th>\n",
       "      <td>-63.462230</td>\n",
       "      <td>-63.462230</td>\n",
       "      <td>-66.823840</td>\n",
       "      <td>0.0625</td>\n",
       "      <td>NaN</td>\n",
       "      <td>3.361611</td>\n",
       "      <td>4</td>\n",
       "      <td>5.030556</td>\n",
       "      <td>0.173873</td>\n",
       "      <td>0.006412</td>\n",
       "      <td>0.068877</td>\n",
       "      <td>0.582128</td>\n",
       "      <td>2</td>\n",
       "    </tr>\n",
       "  </tbody>\n",
       "</table>\n",
       "</div>"
      ],
      "text/plain": [
       "          LB     bestLB     bestUB   delta  feasUB       gap  iter    relgap  \\\n",
       "0 -63.814050 -63.814050 -62.289255  1.0000     NaN  1.524794     0  2.447925   \n",
       "1 -63.788915 -63.788915 -67.451916  0.5000     NaN  3.663001     1  5.430537   \n",
       "2 -63.740831 -63.740831 -67.354281  0.2500     NaN  3.613450     2  5.364841   \n",
       "3 -63.645843 -63.645843 -67.173274  0.1250     NaN  3.527431     3  5.251241   \n",
       "4 -63.462230 -63.462230 -66.823840  0.0625     NaN  3.361611     4  5.030556   \n",
       "\n",
       "      res_u  t_master     t_sub   t_total  phase  \n",
       "0  0.000000  0.002663  0.081509  0.085774      2  \n",
       "1  0.032307  0.006078  0.069754  0.209924      2  \n",
       "2  0.045968  0.004383  0.069751  0.336226      2  \n",
       "3  0.090339  0.005305  0.068691  0.458459      2  \n",
       "4  0.173873  0.006412  0.068877  0.582128      2  "
      ]
     },
     "execution_count": 20,
     "metadata": {},
     "output_type": "execute_result"
    }
   ],
   "source": [
    "df_phase2.head()"
   ]
  },
  {
   "cell_type": "code",
   "execution_count": 18,
   "metadata": {
    "collapsed": false
   },
   "outputs": [
    {
     "data": {
      "text/plain": [
       "<seaborn.axisgrid.FacetGrid at 0x7fdc52a9add0>"
      ]
     },
     "execution_count": 18,
     "metadata": {},
     "output_type": "execute_result"
    },
    {
     "data": {
      "image/png": "[encoded data removed]",
      "text/plain": [
       "<matplotlib.figure.Figure at 0x7fdc52ab1450>"
      ]
     },
     "metadata": {},
     "output_type": "display_data"
    }
   ],
   "source": [
    "import seaborn as sns\n",
    "import matplotlib.pyplot as plt\n",
    "%matplotlib inline\n",
    "\n",
    "xcol = 'iter'\n",
    "if RELAX_LP:\n",
    "    df_phase1.loc[:,'phase'] = 1\n",
    "    df_phase1.loc[:,'feasUB'] = np.nan\n",
    "    df_phase1.loc[ df_phase1.bestUB>1e6,'bestUB'] = np.nan\n",
    "\n",
    "df_phase2.loc[:,'phase'] = 2\n",
    "df_phase2.loc[ df_phase2.feasUB>1e6,'feasUB'] = np.nan\n",
    "if RELAX_LP:\n",
    "    dsplot = pd.concat([df_phase1, df_phase2])\n",
    "else:\n",
    "    dsplot = df_phase2\n",
    "dsplot = dsplot[[xcol,'feasUB','bestUB','bestLB','phase']]\n",
    "dsplot = dsplot.melt(id_vars=[xcol,'phase'])\n",
    "\n",
    "g = sns.FacetGrid(dsplot, hue='variable', size=3, aspect=3, row='phase', sharey=False)\n",
    "g.map(plt.plot, xcol,'value', marker='o', markersize=4)\n",
    "g.add_legend()"
   ]
  },
  {
   "cell_type": "markdown",
   "metadata": {},
   "source": [
    "---"
   ]
  },
  {
   "cell_type": "markdown",
   "metadata": {},
   "source": [
    "## UB is wrong (lower than LB): was due to keeping previous cuts despite bounds changing"
   ]
  },
  {
   "cell_type": "markdown",
   "metadata": {},
   "source": [
    "# LagrangeBB: remove cuts from other nodes"
   ]
  },
  {
   "cell_type": "markdown",
   "metadata": {
    "deletable": true,
    "editable": true
   },
   "source": [
    "for node in lagrangeBB.tree.nodes:\n",
    "    print(node.problem.yopt, node.value, node.ObjVal)"
   ]
  },
  {
   "cell_type": "code",
   "execution_count": null,
   "metadata": {
    "collapsed": true,
    "deletable": true,
    "editable": true
   },
   "outputs": [],
   "source": [
    "def bound_lineage(node):\n",
    "    print(node.bound_dict)\n",
    "    if node.parent is not None:\n",
    "        bound_lineage(node.parent)"
   ]
  },
  {
   "cell_type": "code",
   "execution_count": null,
   "metadata": {
    "collapsed": false,
    "deletable": true,
    "editable": true
   },
   "outputs": [],
   "source": [
    "bound_lineage(child1)"
   ]
  },
  {
   "cell_type": "code",
   "execution_count": null,
   "metadata": {
    "collapsed": false,
    "deletable": true,
    "editable": true
   },
   "outputs": [],
   "source": [
    "for k,node in enumerate(lagrangeBB.tree.nodes):\n",
    "    print('-'*50)\n",
    "    print('node k=%d. ObjVal=%s. value=%s. yopt=%s. Status=%s.'%(k,node.ObjVal,node.value, node.problem.yopt,\n",
    "                                                                node.problem.model.Status))\n",
    "    bound_lineage(node)"
   ]
  },
  {
   "cell_type": "code",
   "execution_count": null,
   "metadata": {
    "collapsed": false,
    "deletable": true,
    "editable": true
   },
   "outputs": [],
   "source": [
    "node.problem.yopt"
   ]
  },
  {
   "cell_type": "code",
   "execution_count": null,
   "metadata": {
    "collapsed": false,
    "deletable": true,
    "editable": true
   },
   "outputs": [],
   "source": [
    "df_phase2"
   ]
  },
  {
   "cell_type": "code",
   "execution_count": null,
   "metadata": {
    "collapsed": false,
    "deletable": true,
    "editable": true
   },
   "outputs": [],
   "source": [
    "import seaborn as sns\n",
    "import matplotlib.pyplot as plt\n",
    "%matplotlib inline\n",
    "\n",
    "xcol = 'iter'\n",
    "if RELAX_LP:\n",
    "    df_phase1.loc[:,'phase'] = 1\n",
    "    df_phase1.loc[:,'feasUB'] = np.nan\n",
    "    df_phase1.loc[ df_phase1.bestUB>1e6,'bestUB'] = np.nan\n",
    "\n",
    "df_phase2.loc[:,'phase'] = 2\n",
    "df_phase2.loc[ df_phase2.feasUB>1e6,'feasUB'] = np.nan\n",
    "if RELAX_LP:\n",
    "    dsplot = pd.concat([df_phase1, df_phase2])\n",
    "else:\n",
    "    dsplot = df_phase2\n",
    "dsplot = dsplot[[xcol,'feasUB','bestUB','bestLB','phase']]\n",
    "dsplot = dsplot.melt(id_vars=[xcol,'phase'])\n",
    "\n",
    "g = sns.FacetGrid(dsplot, hue='variable', size=3, aspect=3, row='phase', sharey=False)\n",
    "g.map(plt.plot, xcol,'value', marker='o', markersize=4)\n",
    "g.add_legend()"
   ]
  },
  {
   "cell_type": "code",
   "execution_count": null,
   "metadata": {
    "collapsed": false,
    "deletable": true,
    "editable": true
   },
   "outputs": [],
   "source": [
    "objfun = master.model.getObjective()"
   ]
  },
  {
   "cell_type": "code",
   "execution_count": null,
   "metadata": {
    "collapsed": false,
    "deletable": true,
    "editable": true
   },
   "outputs": [],
   "source": [
    "for i in [10, 100]: #, 1000, 10000]:\n",
    "    cons = master.model.getConstrs()[i]\n",
    "    print(\"%s %s %s\" % (master.model.getRow(cons), cons.Sense, cons.RHS))"
   ]
  },
  {
   "cell_type": "markdown",
   "metadata": {
    "collapsed": false,
    "deletable": true,
    "editable": true
   },
   "source": [
    "for i in range(len(master.model.getConstrs())):\n",
    "    cons = master.model.getConstrs()[i]\n",
    "    print(\"%s %s %s\" % (master.model.getRow(cons), cons.Sense, cons.RHS))"
   ]
  },
  {
   "cell_type": "code",
   "execution_count": null,
   "metadata": {
    "collapsed": false,
    "deletable": true,
    "editable": true
   },
   "outputs": [],
   "source": [
    "master.model.ObjVal"
   ]
  }
 ],
 "metadata": {
  "kernelspec": {
   "display_name": "Python 2",
   "language": "python",
   "name": "python2"
  },
  "language_info": {
   "codemirror_mode": {
    "name": "ipython",
    "version": 2
   },
   "file_extension": ".py",
   "mimetype": "text/x-python",
   "name": "python",
   "nbconvert_exporter": "python",
   "pygments_lexer": "ipython2",
   "version": "2.7.14"
  }
 },
 "nbformat": 4,
 "nbformat_minor": 2
}
