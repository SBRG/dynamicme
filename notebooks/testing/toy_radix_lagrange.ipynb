{
 "cells": [
  {
   "cell_type": "markdown",
   "metadata": {
    "deletable": true,
    "editable": true
   },
   "source": [
    "# Toy Radix Lagrangean decomposition"
   ]
  },
  {
   "cell_type": "code",
   "execution_count": 1,
   "metadata": {
    "collapsed": true,
    "deletable": true,
    "editable": true
   },
   "outputs": [],
   "source": [
    "SCALE_CROWDING=False\n",
    "PREVENT_ZERO = True"
   ]
  },
  {
   "cell_type": "code",
   "execution_count": 2,
   "metadata": {
    "collapsed": false,
    "deletable": true,
    "editable": true
   },
   "outputs": [],
   "source": [
    "%load_ext line_profiler"
   ]
  },
  {
   "cell_type": "code",
   "execution_count": 3,
   "metadata": {
    "collapsed": false,
    "deletable": true,
    "editable": true
   },
   "outputs": [
    {
     "name": "stdout",
     "output_type": "stream",
     "text": [
      "(<type 'exceptions.ImportError'>, ImportError('No module named cplex',), <traceback object at 0x7f38ddeff6c8>)\n"
     ]
    }
   ],
   "source": [
    "from gurobipy import *\n",
    "\n",
    "import seaborn as sns\n",
    "import pandas as pd\n",
    "import matplotlib.pyplot as plt\n",
    "import numpy as np\n",
    "\n",
    "plt.rcParams['svg.fonttype'] = 'none'\n",
    "pd.set_option('display.max_colwidth', -1)\n",
    "%matplotlib inline\n",
    "\n",
    "from dynamicme.decomposition import Decomposer\n",
    "from dynamicme.callback_gurobi import cb_benders\n",
    "from dynamicme.optimize import Optimizer, StackOptimizer\n",
    "from dynamicme.optimize import Constraint, Variable\n",
    "\n",
    "from cobra.io import load_json_model\n",
    "from cobra import Metabolite, Reaction\n",
    "from six import iteritems\n",
    "\n",
    "import numpy as np\n",
    "import cobra"
   ]
  },
  {
   "cell_type": "markdown",
   "metadata": {
    "deletable": true,
    "editable": true
   },
   "source": [
    "### Try optimizing using radix for one condition first"
   ]
  },
  {
   "cell_type": "code",
   "execution_count": 4,
   "metadata": {
    "collapsed": true,
    "deletable": true,
    "editable": true
   },
   "outputs": [],
   "source": [
    "#----------------------------------------\n",
    "# Starting from basal model\n",
    "ijomc = load_json_model('/home/laurence/ME/models/BiGG_M/json/e_coli_core.json')\n",
    "mdl_ref = ijomc\n",
    "keff0 = 1./65/3600\n",
    "#crowding_bound = 0.0003\n",
    "crowding_bound0 = 0.001\n",
    "crowding_bound = crowding_bound0\n",
    "\n",
    "not_crowded = ['ATPM']\n",
    "rxns_c = [r for r in ijomc.reactions if all([m.compartment=='c' for m in r.metabolites.keys()]) and 'BIOMASS' not in r.id and r.id not in not_crowded]\n",
    "crowding_dict = {rxn:keff0 for rxn in rxns_c}\n",
    "#----------------------------------------\n",
    "\n",
    "# Temporarily add crowding constraint for the duality gap constraint\n",
    "crowding = Constraint('crowding')\n",
    "crowding._bound = crowding_bound\n",
    "crowding._constraint_sense = 'L'\n",
    "for rxn,keff in iteritems(crowding_dict):\n",
    "    rxn.add_metabolites({crowding:keff})"
   ]
  },
  {
   "cell_type": "code",
   "execution_count": 5,
   "metadata": {
    "collapsed": false,
    "deletable": true,
    "editable": true
   },
   "outputs": [
    {
     "name": "stdout",
     "output_type": "stream",
     "text": [
      "0.873921506968\n"
     ]
    }
   ],
   "source": [
    "ijomc.optimize()\n",
    "mu_crowd0 = ijomc.reactions.BIOMASS_Ecoli_core_w_GAM.x\n",
    "print(mu_crowd0)"
   ]
  },
  {
   "cell_type": "code",
   "execution_count": 6,
   "metadata": {
    "collapsed": true,
    "deletable": true,
    "editable": true
   },
   "outputs": [],
   "source": [
    "df_meas = pd.read_csv('/home/laurence/ME/data/dynamicME/beg/growth_meas.csv')\n",
    "\n",
    "ex_rxns = [r for r in df_meas.ex_rxn.unique() if mdl_ref.reactions.has_id(r)]\n",
    "df_meas = df_meas[ df_meas.ex_rxn.isin(ex_rxns)]\n",
    "conds = df_meas.substrate.unique()\n",
    "\n",
    "#N_CONDS = len(conds)\n",
    "N_CONDS = 2\n",
    "\n",
    "df_conds = pd.DataFrame([{'cond':r['substrate'], 'rxn':ex_rxn, 'lb':-10 if r['ex_rxn']==ex_rxn else 0, 'ub':1000., 'obj':0.} for i,r in df_meas.iterrows() for ex_rxn in ex_rxns])\n",
    "\n",
    "if N_CONDS<=3:\n",
    "    df_conds = df_conds[ df_conds.cond.isin(['glucose','acetate','succinate'][0:N_CONDS])]\n",
    "else:\n",
    "    df_conds = df_conds[ df_conds.cond.isin(conds[0:N_CONDS])]"
   ]
  },
  {
   "cell_type": "markdown",
   "metadata": {
    "deletable": true,
    "editable": true
   },
   "source": [
    "## Need to allow higher growth for acetate with higher uptake rate"
   ]
  },
  {
   "cell_type": "code",
   "execution_count": 7,
   "metadata": {
    "collapsed": true,
    "deletable": true,
    "editable": true
   },
   "outputs": [],
   "source": [
    "df_conds.loc[ (df_conds.cond=='acetate') & (df_conds.rxn=='EX_ac_e'), 'lb'] = -20"
   ]
  },
  {
   "cell_type": "code",
   "execution_count": 8,
   "metadata": {
    "collapsed": true,
    "deletable": true,
    "editable": true
   },
   "outputs": [],
   "source": [
    "from dynamicme.decomposition import LagrangeSubmodel, LagrangeMaster\n",
    "from dynamicme.generate import copy_model"
   ]
  },
  {
   "cell_type": "code",
   "execution_count": 9,
   "metadata": {
    "collapsed": false,
    "deletable": true,
    "editable": true
   },
   "outputs": [
    {
     "name": "stdout",
     "output_type": "stream",
     "text": [
      "('Radix:', 2.0)\n",
      "('Powers:', [-1, 0, 1])\n",
      "('Digits:', [1.0])\n"
     ]
    },
    {
     "name": "stderr",
     "output_type": "stream",
     "text": [
      "/usr/lib/python2.7/site-packages/ipykernel/__main__.py:11 \u001b[1;31mDeprecationWarning\u001b[0m: object of type <type 'float'> cannot be safely interpreted as an integer.\n"
     ]
    }
   ],
   "source": [
    "from dynamicme.optimize import Variable, Constraint\n",
    "import numpy as np\n",
    "\n",
    "radix = 2.\n",
    "print('Radix:',radix)\n",
    "#powers = np.arange(-3,4)\n",
    "powers = [-1, 0, 1]\n",
    "print('Powers:', powers)\n",
    "digits_per_power = radix\n",
    "pwr_max = max(powers)\n",
    "digits = list(set(np.linspace(1, radix-1, digits_per_power)))\n",
    "print('Digits:', digits)\n",
    "\n",
    "# Get the group ID from reference model\n",
    "mu_id = 'BIOMASS_Ecoli_core_w_GAM'\n",
    "mdl_ref = ijomc\n",
    "crowding_ref = mdl_ref.metabolites.crowding\n",
    "conds = df_conds.cond.unique()\n",
    "sub_dict = {}\n",
    "for cond in conds:\n",
    "    mdl_ind = cond\n",
    "    mdl = copy_model(ijomc, suffix='_%s'%mdl_ind)            \n",
    "    opt = Optimizer(mdl)\n",
    "    gap = opt.add_duality_gap_constraint(INF=1e3, inplace=True, index=mdl_ind)\n",
    "    #----------------------------------------------------\n",
    "    # Now, add min abs err\n",
    "    #----------------------------------------------------\n",
    "    for rxn in gap.reactions:\n",
    "        rxn.objective_coefficient = 0.\n",
    "    mu_meas = df_meas[ df_meas.substrate==mdl_ind].growth_rate_1_h.iloc[0]\n",
    "    sp = Variable('sp_%s'%mdl_ind, lower_bound=0., upper_bound=1e3)\n",
    "    sn = Variable('sn_%s'%mdl_ind, lower_bound=0., upper_bound=1e3)\n",
    "    sp.objective_coefficient = 1.\n",
    "    sn.objective_coefficient = 1.\n",
    "    cons = Constraint('abs_err_%s'%mdl_ind)\n",
    "    cons._constraint_sense = 'E'\n",
    "    cons._bound = mu_meas\n",
    "    gap.add_metabolites(cons)\n",
    "    gap.add_reactions([sp,sn])\n",
    "    # mu - mu_meas = sp-sn\n",
    "    # mu -sp + sn = mu_meas\n",
    "    # min sp + sn\n",
    "    sp.add_metabolites({cons:-1.})\n",
    "    sn.add_metabolites({cons:1.})\n",
    "    rxn_mu = gap.reactions.get_by_id(mu_id+'_%s'%mdl_ind)\n",
    "    rxn_mu.add_metabolites({cons:1.})\n",
    "    #----------------------------------------------------\n",
    "    \n",
    "    dfi = df_conds[ df_conds.cond==cond]\n",
    "    var_cons_dict = {}\n",
    "    for rxn_ref in crowding_ref.reactions:    \n",
    "        crowding_p = mdl.metabolites.get_by_id('crowding_%s'%mdl_ind)\n",
    "        var_d = mdl.reactions.get_by_id('wa_%s'%crowding_p.id)\n",
    "        rxn_p = mdl.reactions.get_by_id(rxn_ref.id+'_%s'%mdl_ind)\n",
    "        cons_ds = [m for m in var_d.metabolites.keys() if rxn_p.id==m.id]        \n",
    "        a0 = rxn_p.metabolites[crowding_p]\n",
    "        if var_cons_dict.has_key(rxn_ref.id):\n",
    "            var_cons_dict[rxn_ref.id] += [(rxn_p, crowding_p, a0)] + [(var_d, cons_d, a0) for cons_d in cons_ds]\n",
    "        else:\n",
    "            var_cons_dict[rxn_ref.id] = [(rxn_p, crowding_p, a0)] + [(var_d, cons_d, a0) for cons_d in cons_ds]\n",
    "        \n",
    "    opt.to_radix(gap, var_cons_dict, radix, powers, digits=digits, prevent_zero=PREVENT_ZERO)    \n",
    "    sub = LagrangeSubmodel(gap, cond)\n",
    "    sub_dict[cond] = sub\n",
    "        \n",
    "master = LagrangeMaster(gap)"
   ]
  },
  {
   "cell_type": "code",
   "execution_count": 10,
   "metadata": {
    "collapsed": false,
    "deletable": true,
    "editable": true
   },
   "outputs": [],
   "source": [
    "master.add_submodels(sub_dict)"
   ]
  },
  {
   "cell_type": "code",
   "execution_count": null,
   "metadata": {
    "collapsed": false
   },
   "outputs": [],
   "source": [
    "#sub._ys[0]\n",
    "#y.Start\n",
    "#x.Start"
   ]
  },
  {
   "cell_type": "code",
   "execution_count": null,
   "metadata": {
    "collapsed": false
   },
   "outputs": [
    {
     "name": "stdout",
     "output_type": "stream",
     "text": [
      "Iter: 0. Gap: 999.828 = 1000 - 0.172158 (relgap=100%)\n",
      "Iter: 10. Gap: 43.8955 = 0.54366 - -43.3518 (relgap=8.07e+03%)\n",
      "Iter: 20. Gap: 26.3212 = 0.469625 - -25.8516 (relgap=5.6e+03%)\n",
      "Iter: 30. Gap: 25.5961 = 0.46961 - -25.1265 (relgap=5.45e+03%)\n",
      "Iter: 40. Gap: 36.054 = 0.46961 - -35.5844 (relgap=7.68e+03%)\n",
      "Iter: 50. Gap: 4.73746 = 0.469609 - -4.26785 (relgap=1.01e+03%)\n",
      "Iter: 60. Gap: 50.0074 = 0.46953 - -49.5378 (relgap=1.07e+04%)\n",
      "Iter: 70. Gap: 48.9497 = 0.469429 - -48.4803 (relgap=1.04e+04%)\n",
      "Iter: 80. Gap: 95.4232 = 0.466514 - -94.9567 (relgap=2.05e+04%)\n",
      "Iter: 90. Gap: 9.06701 = 0.460983 - -8.60603 (relgap=1.97e+03%)\n",
      "Iter: 100. Gap: 5.26683 = 0.451384 - -4.81544 (relgap=1.17e+03%)\n",
      "Iter: 110. Gap: 3.39903 = 0.438276 - -2.96075 (relgap=776%)\n",
      "Iter: 120. Gap: 4.97972 = 0.428685 - -4.55103 (relgap=1.16e+03%)\n",
      "Iter: 130. Gap: 2.31021 = 0.402362 - -1.90785 (relgap=574%)\n",
      "Iter: 140. Gap: 1.44164 = 0.389183 - -1.05246 (relgap=370%)\n"
     ]
    }
   ],
   "source": [
    "#%%time\n",
    "\n",
    "max_iter = 1000\n",
    "gaptol = 1e-3\n",
    "\n",
    "master.model.Params.OutputFlag =0\n",
    "#master.model.Params.Presolve = 0\n",
    "#master.model.Params.ScaleFlag = 0\n",
    "\n",
    "print_int = 10\n",
    "\n",
    "UB = 1e15\n",
    "LB = -1e15\n",
    "delta = 1.\n",
    "\n",
    "_iter = 0.\n",
    "while _iter < max_iter:\n",
    "    # Solve master\n",
    "    master.model.update()\n",
    "    master.model.optimize()\n",
    "#     print(\"Solved master with status: %s. Optimal: %s\" % (master.model.Status, master.model.Status==GRB.OPTIMAL))\n",
    "    uk = np.array([u.X for u in master._us])\n",
    "    sub_objs = []\n",
    "    for sub_ind,sub in iteritems(master.sub_dict):\n",
    "        sub.update_obj(uk)\n",
    "        #sub.model.Params.OutputFlag = 1\n",
    "        if sub.model.Status==GRB.OPTIMAL:\n",
    "            xk = [x.X for x in sub._xs]\n",
    "            yk = [y.X for y in sub._ys]\n",
    "            sub.optimize(xk,yk)\n",
    "        else:\n",
    "            sub.model.optimize()\n",
    "        yk = [y.X for y in sub._ys]\n",
    "        xk = [x.X for x in sub._xs]\n",
    "        cut = master.make_optcut(sub,xk,yk)\n",
    "        master.model.addConstr(cut)        \n",
    "        \n",
    "        sub_obj = sub.model.ObjVal\n",
    "        sub_objs.append(sub_obj)\n",
    "#         print(\"Solved sub %s with status: %s. Optimal: %s\" % (sub_ind, sub.model.Status, sub.model.Status==GRB.OPTIMAL))    \n",
    "    LB = sum(sub_objs)\n",
    "    UB = master._z.X\n",
    "    gap = UB-LB\n",
    "    relgap = gap/UB\n",
    "    if np.mod(_iter, print_int)==0:\n",
    "        print(\"Iter: %d. Gap: %g = %g - %g (relgap=%.3g%%)\" % (_iter,gap,UB,LB, relgap*100))\n",
    "    \n",
    "    if relgap < gaptol:\n",
    "        print(\"Gap < Gaptol at iter %d\"%_iter)\n",
    "        break\n",
    "    else:\n",
    "        delta = max(delta/2., 1e-10)\n",
    "        master.update_obj(delta)\n",
    "    _iter+=1"
   ]
  },
  {
   "cell_type": "markdown",
   "metadata": {},
   "source": [
    "## Are all yks the same?"
   ]
  },
  {
   "cell_type": "code",
   "execution_count": null,
   "metadata": {
    "collapsed": false
   },
   "outputs": [],
   "source": [
    "yids = [y.VarName for y in sub._ys]\n",
    "key0 = master.sub_dict.keys()[0]\n",
    "sub0 = master.sub_dict[key0]\n",
    "yk0  = np.array([sub0.model.getVarByName(yid).X for yid in yids])\n",
    "\n",
    "err_dict = {}\n",
    "for sub_ind,sub in iteritems(master.sub_dict):\n",
    "    yk = np.array([sub.model.getVarByName(yid).X for yid in yids])    \n",
    "    err_dict[sub_ind] = sum(yk != yk0)"
   ]
  },
  {
   "cell_type": "code",
   "execution_count": null,
   "metadata": {
    "collapsed": false
   },
   "outputs": [],
   "source": [
    "err_dict"
   ]
  },
  {
   "cell_type": "markdown",
   "metadata": {
    "collapsed": false,
    "deletable": true,
    "editable": true
   },
   "source": [
    "yopt = [sol_master[y.VarName] for y in master._ys]\n",
    "print('Number of non-zero binaries: %g' % sum(yopt))\n",
    "# Fitted parameters\n",
    "\n",
    "kfit_dict = {}\n",
    "for group_id, var_dict in iteritems(var_cons_dict):\n",
    "    var = var_dict[0]\n",
    "    cons = var_dict[1]\n",
    "    a0  = var_dict[0][2]\n",
    "    kfit = 0.\n",
    "    for l,pwr in enumerate(powers):\n",
    "        for k,digit in enumerate(digits):            \n",
    "            yid = 'binary_%s%s%s' % (group_id,k,l)\n",
    "            y   = sol_master[yid]\n",
    "#             if abs(y)>1e-10:\n",
    "#                 print('%s. Value=%s. Power=%g. Digit=%g' % (yid, y, pwr, digit))\n",
    "            kfit += y*a0*radix**pwr*digit\n",
    "    kfit_dict[group_id] = kfit\n",
    "\n",
    "kfit_changed = [(k,v, abs(v-a0)/a0) for k,v in iteritems(kfit_dict) if abs(v-a0)/a0>1e-6]\n",
    "print('Changed keffs: %d/%d' % (len(kfit_changed), len(var_cons_dict)))\n",
    "kfit_changed\n",
    "\n",
    "#----------------------------------------\n",
    "# Starting from basal model\n",
    "csrcs = df_conds.cond.unique()\n",
    "for csrc in csrcs:\n",
    "    ijofit = load_json_model('/home/laurence/ME/models/BiGG_M/json/e_coli_core.json')    \n",
    "    crowding = Constraint('crowding')\n",
    "    crowding._bound = crowding_bound0\n",
    "    crowding._constraint_sense = 'L'\n",
    "    \n",
    "    df_condi = df_conds[ df_conds.cond==csrc]    \n",
    "    for i,row in df_condi.iterrows():\n",
    "        rid = row['rxn']\n",
    "        rxn = ijofit.reactions.get_by_id(rid)\n",
    "        rxn.lower_bound = row['lb']\n",
    "        rxn.upper_bound = row['ub']\n",
    "\n",
    "    for rid,kfit in iteritems(kfit_dict):\n",
    "        rxn = ijofit.reactions.get_by_id(rid)\n",
    "        rxn.add_metabolites({crowding:kfit})\n",
    "    \n",
    "    ijofit.optimize()\n",
    "    \n",
    "    mu_measi = df_meas[ df_meas.substrate==csrc].growth_rate_1_h.iloc[0]\n",
    "    mu_fiti = ijofit.reactions.BIOMASS_Ecoli_core_w_GAM.x\n",
    "    \n",
    "    # Get unfit\n",
    "    for rxn in ijofit.metabolites.crowding.reactions:\n",
    "        rxn._metabolites[crowding] = a0\n",
    "    ijofit.optimize()\n",
    "    mu_unfiti = ijofit.reactions.BIOMASS_Ecoli_core_w_GAM.x\n",
    "    err0= 100*(mu_unfiti-mu_measi)/mu_measi\n",
    "    err = 100*(mu_fiti - mu_measi)/mu_measi\n",
    "    derr= 100*(abs(err)-abs(err0))/abs(err0)\n",
    "    print('Cond=%s. mu_meas=%g. mu_sim=%g (unfit=%g, error=%.3g%%). Error=%.3g%% (%.3g%% change)' % (csrc, mu_measi, mu_fiti, mu_unfiti, err0, err, derr))\n",
    "    for i,row in df_condi.iterrows():\n",
    "        rid = row['rxn']\n",
    "        rxn = ijofit.reactions.get_by_id(rid)        \n",
    "        print('\\t%s uptake=%g' % (rxn.id, rxn.x))"
   ]
  }
 ],
 "metadata": {
  "kernelspec": {
   "display_name": "Python 2",
   "language": "python",
   "name": "python2"
  },
  "language_info": {
   "codemirror_mode": {
    "name": "ipython",
    "version": 2
   },
   "file_extension": ".py",
   "mimetype": "text/x-python",
   "name": "python",
   "nbconvert_exporter": "python",
   "pygments_lexer": "ipython2",
   "version": "2.7.14"
  }
 },
 "nbformat": 4,
 "nbformat_minor": 2
}
