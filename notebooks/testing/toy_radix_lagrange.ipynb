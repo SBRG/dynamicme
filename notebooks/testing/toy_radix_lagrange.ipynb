{
 "cells": [
  {
   "cell_type": "markdown",
   "metadata": {
    "deletable": true,
    "editable": true
   },
   "source": [
    "# Toy Radix Lagrangean decomposition"
   ]
  },
  {
   "cell_type": "code",
   "execution_count": 1,
   "metadata": {
    "collapsed": true,
    "deletable": true,
    "editable": true
   },
   "outputs": [],
   "source": [
    "REG_WEIGHT   = 1e-4\n",
    "MAX_NONZERO  = 48*2"
   ]
  },
  {
   "cell_type": "code",
   "execution_count": 2,
   "metadata": {
    "collapsed": false,
    "deletable": true,
    "editable": true
   },
   "outputs": [],
   "source": [
    "from gurobipy import *\n",
    "\n",
    "import seaborn as sns\n",
    "import pandas as pd\n",
    "import matplotlib.pyplot as plt\n",
    "import numpy as np\n",
    "\n",
    "plt.rcParams['svg.fonttype'] = 'none'\n",
    "pd.set_option('display.max_colwidth', -1)\n",
    "%matplotlib inline\n",
    "\n",
    "from cobra.io import load_json_model\n",
    "from six import iteritems\n",
    "import numpy as np\n",
    "import cobra"
   ]
  },
  {
   "cell_type": "code",
   "execution_count": 3,
   "metadata": {
    "collapsed": true,
    "deletable": true,
    "editable": true
   },
   "outputs": [],
   "source": [
    "#----------------------------------------\n",
    "# Starting from basal model\n",
    "ijomc = load_json_model('/home/laurence/ME/models/e_coli_core_pc.json')\n",
    "mdl_ref = ijomc\n",
    "crowding_bound0 = mdl_ref.metabolites.crowding._bound"
   ]
  },
  {
   "cell_type": "code",
   "execution_count": 4,
   "metadata": {
    "collapsed": false,
    "deletable": true,
    "editable": true
   },
   "outputs": [
    {
     "name": "stdout",
     "output_type": "stream",
     "text": [
      "0.873921506968\n"
     ]
    }
   ],
   "source": [
    "ijomc.optimize()\n",
    "mu_crowd0 = ijomc.reactions.BIOMASS_Ecoli_core_w_GAM.x\n",
    "print(mu_crowd0)"
   ]
  },
  {
   "cell_type": "code",
   "execution_count": 5,
   "metadata": {
    "collapsed": true,
    "deletable": true,
    "editable": true
   },
   "outputs": [],
   "source": [
    "df_meas = pd.read_csv('/home/laurence/ME/data/dynamicME/beg/growth_meas.csv')\n",
    "\n",
    "ex_rxns = [r for r in df_meas.ex_rxn.unique() if mdl_ref.reactions.has_id(r)]\n",
    "df_meas = df_meas[ df_meas.ex_rxn.isin(ex_rxns)]\n",
    "conds = df_meas.substrate.unique()\n",
    "\n",
    "#N_CONDS = len(conds)\n",
    "N_CONDS = 2\n",
    "\n",
    "df_conds = pd.DataFrame([{'cond':r['substrate'], 'rxn':ex_rxn, 'lb':-10 if r['ex_rxn']==ex_rxn else 0, 'ub':1000., 'obj':0.} for i,r in df_meas.iterrows() for ex_rxn in ex_rxns])\n",
    "\n",
    "if N_CONDS<=3:\n",
    "    df_conds = df_conds[ df_conds.cond.isin(['glucose','acetate','succinate'][0:N_CONDS])]\n",
    "else:\n",
    "    df_conds = df_conds[ df_conds.cond.isin(conds[0:N_CONDS])]\n",
    "\n",
    "df_conds.loc[ (df_conds.cond=='acetate') & (df_conds.rxn=='EX_ac_e'), 'lb'] = -20"
   ]
  },
  {
   "cell_type": "code",
   "execution_count": 6,
   "metadata": {
    "collapsed": false,
    "deletable": true,
    "editable": true
   },
   "outputs": [
    {
     "name": "stdout",
     "output_type": "stream",
     "text": [
      "(<type 'exceptions.ImportError'>, ImportError('No module named cplex',), <traceback object at 0x7fbc0d37a050>)\n"
     ]
    }
   ],
   "source": [
    "from dynamicme.decomposition import LagrangeSubmodel, LagrangeMaster, BendersMaster, BendersSubmodel, DecompModel\n",
    "from dynamicme.optimize import Optimizer\n",
    "from dynamicme.generate import copy_model"
   ]
  },
  {
   "cell_type": "code",
   "execution_count": 7,
   "metadata": {
    "collapsed": false,
    "deletable": true,
    "editable": true
   },
   "outputs": [
    {
     "name": "stdout",
     "output_type": "stream",
     "text": [
      "('Radix:', 2.0)\n",
      "('Powers:', [-1, 0, 1])\n",
      "('Digits:', [1.0])\n",
      "Changed value of parameter InfUnbdInfo to 1\n",
      "   Prev: 0  Min: 0  Max: 1  Default: 0\n"
     ]
    },
    {
     "name": "stderr",
     "output_type": "stream",
     "text": [
      "/usr/lib/python2.7/site-packages/ipykernel/__main__.py:13 \u001b[1;31mDeprecationWarning\u001b[0m: object of type <type 'float'> cannot be safely interpreted as an integer.\n"
     ]
    },
    {
     "name": "stdout",
     "output_type": "stream",
     "text": [
      "Changed value of parameter InfUnbdInfo to 1\n",
      "   Prev: 0  Min: 0  Max: 1  Default: 0\n",
      "Changed value of parameter Presolve to 0\n",
      "   Prev: -1  Min: -1  Max: 2  Default: -1\n",
      "Changed value of parameter LazyConstraints to 1\n",
      "   Prev: 0  Min: 0  Max: 1  Default: 0\n",
      "Changed value of parameter IntFeasTol to 1e-09\n",
      "   Prev: 1e-05  Min: 1e-09  Max: 0.1  Default: 1e-05\n"
     ]
    }
   ],
   "source": [
    "from dynamicme.optimize import Variable, Constraint\n",
    "import numpy as np\n",
    "\n",
    "PREVENT_ZERO = True\n",
    "\n",
    "radix = 2.\n",
    "print('Radix:',radix)\n",
    "#powers = np.arange(-3,4)\n",
    "powers = [-1, 0, 1]\n",
    "print('Powers:', powers)\n",
    "digits_per_power = radix\n",
    "pwr_max = max(powers)\n",
    "digits = list(set(np.linspace(1, radix-1, digits_per_power)))\n",
    "print('Digits:', digits)\n",
    "\n",
    "# Get the group ID from reference model\n",
    "mu_id = 'BIOMASS_Ecoli_core_w_GAM'\n",
    "mdl_ref = ijomc\n",
    "crowding_ref = mdl_ref.metabolites.crowding\n",
    "conds = df_conds.cond.unique()\n",
    "psub_dict = {}\n",
    "dsub_dict = {}\n",
    "for cond in conds:\n",
    "    mdl_ind = cond\n",
    "    mdl = copy_model(ijomc, suffix='_%s'%mdl_ind)            \n",
    "    opt = Optimizer(mdl)\n",
    "    gap = opt.add_duality_gap_constraint(INF=1e3, inplace=True, index=mdl_ind)\n",
    "    #----------------------------------------------------\n",
    "    # Now, add min abs err\n",
    "    #----------------------------------------------------\n",
    "    for rxn in gap.reactions:\n",
    "        rxn.objective_coefficient = 0.\n",
    "    mu_meas = df_meas[ df_meas.substrate==mdl_ind].growth_rate_1_h.iloc[0]\n",
    "    sp = Variable('sp_%s'%mdl_ind, lower_bound=0., upper_bound=1e3)\n",
    "    sn = Variable('sn_%s'%mdl_ind, lower_bound=0., upper_bound=1e3)\n",
    "    sp.objective_coefficient = 1.\n",
    "    sn.objective_coefficient = 1.\n",
    "    cons = Constraint('abs_err_%s'%mdl_ind)\n",
    "    cons._constraint_sense = 'E'\n",
    "    cons._bound = mu_meas\n",
    "    gap.add_metabolites(cons)\n",
    "    gap.add_reactions([sp,sn])\n",
    "    # mu - mu_meas = sp-sn\n",
    "    # mu -sp + sn = mu_meas\n",
    "    # min sp + sn\n",
    "    sp.add_metabolites({cons:-1.})\n",
    "    sn.add_metabolites({cons:1.})\n",
    "    rxn_mu = gap.reactions.get_by_id(mu_id+'_%s'%mdl_ind)\n",
    "    rxn_mu.add_metabolites({cons:1.})\n",
    "    #----------------------------------------------------\n",
    "    \n",
    "    dfi = df_conds[ df_conds.cond==cond]\n",
    "    var_cons_dict = {}\n",
    "    for rxn_ref in crowding_ref.reactions:    \n",
    "        crowding_p = mdl.metabolites.get_by_id('crowding_%s'%mdl_ind)\n",
    "        var_d = mdl.reactions.get_by_id('wa_%s'%crowding_p.id)\n",
    "        rxn_p = mdl.reactions.get_by_id(rxn_ref.id+'_%s'%mdl_ind)\n",
    "        cons_ds = [m for m in var_d.metabolites.keys() if rxn_p.id==m.id]        \n",
    "        a0 = rxn_p.metabolites[crowding_p]\n",
    "        if var_cons_dict.has_key(rxn_ref.id):\n",
    "            var_cons_dict[rxn_ref.id] += [(rxn_p, crowding_p, a0)] + [(var_d, cons_d, a0) for cons_d in cons_ds]\n",
    "        else:\n",
    "            var_cons_dict[rxn_ref.id] = [(rxn_p, crowding_p, a0)] + [(var_d, cons_d, a0) for cons_d in cons_ds]\n",
    "        \n",
    "    opt.to_radix(gap, var_cons_dict, radix, powers, digits=digits, prevent_zero=PREVENT_ZERO)    \n",
    "    \n",
    "    dsub = LagrangeSubmodel(gap, cond)\n",
    "    dsub_dict[cond] = dsub\n",
    "    \n",
    "    psub= BendersSubmodel(gap, cond)\n",
    "    psub_dict[cond] = psub\n",
    "        \n",
    "dmaster = LagrangeMaster(gap)\n",
    "pmaster = BendersMaster(gap)"
   ]
  },
  {
   "cell_type": "code",
   "execution_count": null,
   "metadata": {
    "collapsed": false,
    "deletable": true,
    "editable": true
   },
   "outputs": [],
   "source": [
    "pmaster.add_submodels(psub_dict)\n",
    "dmaster.add_submodels(dsub_dict)"
   ]
  },
  {
   "cell_type": "code",
   "execution_count": null,
   "metadata": {
    "collapsed": false,
    "deletable": true,
    "editable": true
   },
   "outputs": [
    {
     "name": "stdout",
     "output_type": "stream",
     "text": [
      "Iter           Gap            UB             LB             Relgap (%)     Time (s)       \n",
      "0.0            4.1229         0.75184        -3.371         548.37         0.317          \n",
      "10.0           2.2946         0.484          -1.8106        474.08         30.485         \n",
      "20.0           2.2712         0.484          -1.7872        469.25         32.099         \n"
     ]
    }
   ],
   "source": [
    "#%%time\n",
    "import time\n",
    "\n",
    "max_iter = 100\n",
    "gaptol = 1e-3\n",
    "\n",
    "pmaster.model.Params.OutputFlag =0\n",
    "dmaster.model.Params.OutputFlag = 0\n",
    "\n",
    "print_int = 10\n",
    "\n",
    "UB = 1e15\n",
    "LB = -1e15\n",
    "delta = 1.\n",
    "\n",
    "warm_start = False\n",
    "\n",
    "print(\"%-15.10s%-15.10s%-15.10s%-15.10s%-15.10s%-15.10s\" % ('Iter','Gap','UB','LB','Relgap (%)','Time (s)'))\n",
    "\n",
    "#------------------------------------\n",
    "# 1) Init\n",
    "ny = len(pmaster._y0)\n",
    "yopt = np.zeros(ny)\n",
    "nu = len(dmaster._us)\n",
    "uk = np.zeros(nu)\n",
    "LB = -1e15\n",
    "UB = 1e15\n",
    "gap = 1e15\n",
    "#------------------------------------\n",
    "tic = time.time()\n",
    "_iter = 0.\n",
    "while _iter < max_iter:\n",
    "    #------------------------------------\n",
    "    # 2) Benders subproblems\n",
    "    pobj_dict={}\n",
    "    for sub_ind,sub in iteritems(pmaster.sub_dict):\n",
    "        sub.update_obj(yopt)\n",
    "        sub.model.optimize()\n",
    "        zp = 1e15\n",
    "        if sub.model.Status==GRB.OPTIMAL:\n",
    "            zp = sub._weight * sub.model.ObjVal\n",
    "            optcut = pmaster.make_optcut(sub)\n",
    "            pmaster.model.addConstr(optcut)\n",
    "        elif sub.model.Status==GRB.UNBOUNDED:\n",
    "            feascut = pmaster.make_feascut(sub)\n",
    "            pmaster.model.addConstr(feascut)\n",
    "        pobj_dict[sub_ind] = zp\n",
    "        # Add cut to Dual master:\n",
    "        # tk <= zpk* + u*H*y\n",
    "        dsub = dmaster.sub_dict[sub_ind]\n",
    "        benders_cut = dmaster.make_benderscut(dsub, zp, yopt)\n",
    "        dmaster.model.addConstr(benders_cut)\n",
    "    fy = pmaster._fy\n",
    "    UBk = sum(fy*yopt) + sum(pobj_dict.values())\n",
    "    if UBk < UB:\n",
    "        UB = UBk\n",
    "    #------------------------------------\n",
    "    # 3) Dual subproblems\n",
    "    dobj_dict = {}\n",
    "    for sub_ind,sub in iteritems(dmaster.sub_dict):\n",
    "        sub.update_obj(uk)\n",
    "        #sub.model.Params.OutputFlag = 1\n",
    "        sub.model.Params.TimeLimit = 300.\n",
    "        #if sub.model.Status==GRB.OPTIMAL:\n",
    "        if warm_start:\n",
    "            if sub.model.SolCount > 0:\n",
    "                xk = [x.X for x in sub._xs]\n",
    "                yk = [y.X for y in sub._ys]\n",
    "                sub.optimize(xk,yk)\n",
    "        else:\n",
    "            sub.model.optimize()\n",
    "        \n",
    "        if sub.model.SolCount > 0:\n",
    "            yk = [y.X for y in sub._ys]\n",
    "            xk = [x.X for x in sub._xs]\n",
    "            cut = dmaster.make_optcut(sub,xk,yk)\n",
    "            dmaster.model.addConstr(cut)\n",
    "        else:\n",
    "            #print(\"%-15.10d%-20.15g%-20.15g%-20.15g\" % (_iter, ))\n",
    "            print(\"%-15.10d%s\" % (_iter, \"No solution in submodel!\"))\n",
    "        \n",
    "        sub_obj = sub.model.ObjVal\n",
    "        dobj_dict[sub_ind] = sub_obj                \n",
    "    #------------------------------------\n",
    "    # 4) Dual Master\n",
    "    dmaster.model.update()\n",
    "    dmaster.model.Params.TimeLimit = 300.\n",
    "    dmaster.model.optimize()\n",
    "    uk = np.array([u.X for u in dmaster._us])\n",
    "    #------------------------------------\n",
    "    # 5) Benders Master\n",
    "    pmaster.model.update()\n",
    "    pmaster.model.optimize()\n",
    "    yopt = np.array([y.X for y in pmaster._ys])    \n",
    "    LB = pmaster._z.X\n",
    "    #------------------------------------          \n",
    "    # 6) CHECK GAP    \n",
    "    gap = UB-LB\n",
    "    relgap = gap/(UB+1e-10)\n",
    "    if np.mod(_iter, print_int)==0:\n",
    "        toc = time.time()-tic\n",
    "        print(\"%-15.10s%-15.5g%-15.5g%-15.5g%-15.5g%-15.5g\" % (_iter, gap, UB, LB, relgap*100,toc ))    \n",
    "    if relgap < gaptol:\n",
    "        print(\"Gap < Gaptol at iter %d\"%_iter)\n",
    "        break\n",
    "    else:\n",
    "        delta = max(delta/2., 1e-10)\n",
    "        dmaster.update_obj(delta)\n",
    "    _iter+=1"
   ]
  },
  {
   "cell_type": "markdown",
   "metadata": {},
   "source": [
    "# Does final yopt work?"
   ]
  },
  {
   "cell_type": "code",
   "execution_count": null,
   "metadata": {
    "collapsed": true
   },
   "outputs": [],
   "source": []
  },
  {
   "cell_type": "markdown",
   "metadata": {
    "deletable": true,
    "editable": true
   },
   "source": [
    "## Are all yks the same?"
   ]
  },
  {
   "cell_type": "code",
   "execution_count": null,
   "metadata": {
    "collapsed": false,
    "deletable": true,
    "editable": true
   },
   "outputs": [],
   "source": [
    "yids = [y.VarName for y in sub._ys]\n",
    "key0 = dmaster.sub_dict.keys()[0]\n",
    "sub0 = dmaster.sub_dict[key0]\n",
    "yk0  = np.array([sub0.model.getVarByName(yid).X for yid in yids])\n",
    "\n",
    "err_dict = {}\n",
    "for sub_ind,sub in iteritems(master.sub_dict):\n",
    "    yk = np.array([sub.model.getVarByName(yid).X for yid in yids])    \n",
    "    err_dict[sub_ind] = sum(yk != yk0)"
   ]
  },
  {
   "cell_type": "code",
   "execution_count": null,
   "metadata": {
    "collapsed": false,
    "deletable": true,
    "editable": true
   },
   "outputs": [],
   "source": [
    "err_dict"
   ]
  },
  {
   "cell_type": "code",
   "execution_count": null,
   "metadata": {
    "collapsed": false,
    "deletable": true,
    "editable": true
   },
   "outputs": [],
   "source": [
    "for sub_ind,sub in iteritems(master.sub_dict):\n",
    "    sol_sub = {x.VarName:x.X for x in sub.model.getVars()}\n",
    "    yopt = [y.X for y in sub._ys]\n",
    "    print('Number of non-zero binaries: %g' % sum(yopt))\n",
    "    # Fitted parameters\n",
    "    kfit_dict = {}\n",
    "    for group_id, var_dict in iteritems(var_cons_dict):\n",
    "        var = var_dict[0]\n",
    "        cons = var_dict[1]\n",
    "        a0  = var_dict[0][2]\n",
    "        kfit = 0.\n",
    "        for l,pwr in enumerate(powers):\n",
    "            for k,digit in enumerate(digits):            \n",
    "                yid = 'binary_%s%s%s' % (group_id,k,l)\n",
    "                y   = sol_sub[yid]\n",
    "                kfit += y*a0*radix**pwr*digit\n",
    "        kfit_dict[group_id] = kfit\n",
    "\n",
    "    kfit_changed = [(k,v, abs(v-a0)/a0) for k,v in iteritems(kfit_dict) if abs(v-a0)/a0>1e-6]\n",
    "    print('Changed keffs: %d/%d' % (len(kfit_changed), len(var_cons_dict)))\n",
    "    kfit_changed\n",
    "\n",
    "    #----------------------------------------\n",
    "    # Starting from basal model\n",
    "    csrcs = df_conds.cond.unique()\n",
    "    for csrc in csrcs:\n",
    "        ijofit = load_json_model('/home/laurence/ME/models/BiGG_M/json/e_coli_core.json')    \n",
    "        crowding = Constraint('crowding')\n",
    "        crowding._bound = crowding_bound0\n",
    "        crowding._constraint_sense = 'L'\n",
    "\n",
    "        df_condi = df_conds[ df_conds.cond==csrc]    \n",
    "        for i,row in df_condi.iterrows():\n",
    "            rid = row['rxn']\n",
    "            rxn = ijofit.reactions.get_by_id(rid)\n",
    "            rxn.lower_bound = row['lb']\n",
    "            rxn.upper_bound = row['ub']\n",
    "\n",
    "        for rid,kfit in iteritems(kfit_dict):\n",
    "            rxn = ijofit.reactions.get_by_id(rid)\n",
    "            rxn.add_metabolites({crowding:kfit})\n",
    "\n",
    "        ijofit.optimize()\n",
    "\n",
    "        mu_measi = df_meas[ df_meas.substrate==csrc].growth_rate_1_h.iloc[0]\n",
    "        mu_fiti = ijofit.reactions.BIOMASS_Ecoli_core_w_GAM.x\n",
    "\n",
    "        # Get unfit\n",
    "        for rxn in ijofit.metabolites.crowding.reactions:\n",
    "            rxn._metabolites[crowding] = a0\n",
    "        ijofit.optimize()\n",
    "        mu_unfiti = ijofit.reactions.BIOMASS_Ecoli_core_w_GAM.x\n",
    "        err0= 100*(mu_unfiti-mu_measi)/mu_measi\n",
    "        err = 100*(mu_fiti - mu_measi)/mu_measi\n",
    "        derr= 100*(abs(err)-abs(err0))/abs(err0)\n",
    "        print('Cond=%s. mu_meas=%g. mu_sim=%g (unfit=%g, error=%.3g%%). Error=%.3g%% (%.3g%% change)' % (csrc, mu_measi, mu_fiti, mu_unfiti, err0, err, derr))\n",
    "        for i,row in df_condi.iterrows():\n",
    "            rid = row['rxn']\n",
    "            rxn = ijofit.reactions.get_by_id(rid)        \n",
    "            print('\\t%s uptake=%g' % (rxn.id, rxn.x))"
   ]
  }
 ],
 "metadata": {
  "kernelspec": {
   "display_name": "Python 2",
   "language": "python",
   "name": "python2"
  },
  "language_info": {
   "codemirror_mode": {
    "name": "ipython",
    "version": 2
   },
   "file_extension": ".py",
   "mimetype": "text/x-python",
   "name": "python",
   "nbconvert_exporter": "python",
   "pygments_lexer": "ipython2",
   "version": "2.7.14"
  }
 },
 "nbformat": 4,
 "nbformat_minor": 2
}
