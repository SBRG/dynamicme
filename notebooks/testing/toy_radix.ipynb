{
 "cells": [
  {
   "cell_type": "markdown",
   "metadata": {
    "deletable": true,
    "editable": true
   },
   "source": [
    "# Toy example for Radix-based Benders"
   ]
  },
  {
   "cell_type": "code",
   "execution_count": 1,
   "metadata": {
    "collapsed": true,
    "deletable": true,
    "editable": true
   },
   "outputs": [],
   "source": [
    "SCALE_CROWDING= False\n",
    "PREVENT_ZERO  = False"
   ]
  },
  {
   "cell_type": "code",
   "execution_count": 2,
   "metadata": {
    "collapsed": false,
    "deletable": true,
    "editable": true
   },
   "outputs": [],
   "source": [
    "%load_ext line_profiler"
   ]
  },
  {
   "cell_type": "code",
   "execution_count": 3,
   "metadata": {
    "collapsed": false,
    "deletable": true,
    "editable": true
   },
   "outputs": [
    {
     "name": "stdout",
     "output_type": "stream",
     "text": [
      "(<type 'exceptions.ImportError'>, ImportError('No module named cplex',), <traceback object at 0x7f0568a89ef0>)\n"
     ]
    }
   ],
   "source": [
    "from gurobipy import *\n",
    "\n",
    "import seaborn as sns\n",
    "import pandas as pd\n",
    "import matplotlib.pyplot as plt\n",
    "import numpy as np\n",
    "\n",
    "plt.rcParams['svg.fonttype'] = 'none'\n",
    "pd.set_option('display.max_colwidth', -1)\n",
    "%matplotlib inline\n",
    "\n",
    "from dynamicme.decomposition import Decomposer\n",
    "from dynamicme.callback_gurobi import cb_benders\n",
    "from dynamicme.optimize import Optimizer, StackOptimizer\n",
    "from dynamicme.optimize import Constraint, Variable\n",
    "\n",
    "from cobra.io import load_json_model\n",
    "from cobra import Metabolite, Reaction\n",
    "from six import iteritems\n",
    "\n",
    "import numpy as np\n",
    "import cobra"
   ]
  },
  {
   "cell_type": "markdown",
   "metadata": {
    "deletable": true,
    "editable": true
   },
   "source": [
    "### Try optimizing using radix for one condition first"
   ]
  },
  {
   "cell_type": "code",
   "execution_count": 4,
   "metadata": {
    "collapsed": false,
    "deletable": true,
    "editable": true
   },
   "outputs": [],
   "source": [
    "#----------------------------------------\n",
    "# Starting from basal model\n",
    "ijomc = load_json_model('/home/laurence/ME/models/BiGG_M/json/e_coli_core.json')\n",
    "keff0 = 1./65/3600\n",
    "#crowding_bound = 0.0003\n",
    "crowding_bound0 = 0.001\n",
    "crowding_bound  = crowding_bound0\n",
    "not_crowded = ['ATPM']\n",
    "rxns_c = [r for r in ijomc.reactions if all([m.compartment=='c' for m in r.metabolites.keys()]) and 'BIOMASS' not in r.id and r.id not in not_crowded]\n",
    "crowding_dict = {rxn:keff0 for rxn in rxns_c}\n",
    "#----------------------------------------\n",
    "\n",
    "# Temporarily add crowding constraint for the duality gap constraint\n",
    "crowding = Constraint('crowding')\n",
    "crowding._bound = crowding_bound\n",
    "crowding._constraint_sense = 'L'\n",
    "for rxn,keff in iteritems(crowding_dict):\n",
    "    rxn.add_metabolites({crowding:keff})"
   ]
  },
  {
   "cell_type": "code",
   "execution_count": 5,
   "metadata": {
    "collapsed": false,
    "deletable": true,
    "editable": true
   },
   "outputs": [
    {
     "name": "stdout",
     "output_type": "stream",
     "text": [
      "0.873921506968\n"
     ]
    }
   ],
   "source": [
    "ijomc.optimize()\n",
    "mu_crowd0 = ijomc.reactions.BIOMASS_Ecoli_core_w_GAM.x\n",
    "print(mu_crowd0)"
   ]
  },
  {
   "cell_type": "code",
   "execution_count": 6,
   "metadata": {
    "collapsed": false,
    "deletable": true,
    "editable": true
   },
   "outputs": [],
   "source": [
    "opt = Optimizer(ijomc)\n",
    "gap = opt.add_duality_gap_constraint(INF=1e3)"
   ]
  },
  {
   "cell_type": "code",
   "execution_count": 7,
   "metadata": {
    "collapsed": false,
    "deletable": true,
    "editable": true
   },
   "outputs": [
    {
     "data": {
      "text/plain": [
       "<Solution 1.75 at 0x7f05ac1f6d10>"
      ]
     },
     "execution_count": 7,
     "metadata": {},
     "output_type": "execute_result"
    }
   ],
   "source": [
    "gap.optimize(solver='gurobi')"
   ]
  },
  {
   "cell_type": "code",
   "execution_count": 8,
   "metadata": {
    "collapsed": false,
    "deletable": true,
    "editable": true
   },
   "outputs": [
    {
     "name": "stdout",
     "output_type": "stream",
     "text": [
      "[-3 -2 -1  0  1  2  3]\n",
      "[1.0]\n"
     ]
    },
    {
     "name": "stderr",
     "output_type": "stream",
     "text": [
      "/usr/lib/python2.7/site-packages/ipykernel/__main__.py:8 \u001b[1;31mDeprecationWarning\u001b[0m: object of type <type 'float'> cannot be safely interpreted as an integer.\n"
     ]
    }
   ],
   "source": [
    "import numpy as np\n",
    "\n",
    "radix = 2.\n",
    "powers = np.arange(-3,4)\n",
    "print(powers)\n",
    "digits_per_power = radix\n",
    "pwr_max = max(powers)\n",
    "digits = list(set(np.linspace(1, radix-1, digits_per_power)))\n",
    "print(digits)\n",
    "\n",
    "# Discretize crowding coefficients into radix\n",
    "crowding_p = gap.metabolites.crowding\n",
    "\n",
    "var_cons_dict = {}\n",
    "for rxn_p in crowding_p.reactions:\n",
    "    # Get the coefficient in the dual\n",
    "    var_d = gap.reactions.wa_crowding\n",
    "    cons_ds = [m for m in var_d.metabolites.keys() if rxn_p.id==m.id]\n",
    "    a0 = rxn_p.metabolites[crowding_p]    \n",
    "    var_cons_dict[rxn_p.id] = [(rxn_p, crowding_p, a0)] + [(var_d, cons_d, a0) for cons_d in cons_ds]"
   ]
  },
  {
   "cell_type": "code",
   "execution_count": 9,
   "metadata": {
    "collapsed": false,
    "deletable": true,
    "editable": true
   },
   "outputs": [],
   "source": [
    "#%lprun -f opt.to_radix opt.to_radix(gap, var_cons_dict, radix, powers, digits_per_power)"
   ]
  },
  {
   "cell_type": "code",
   "execution_count": 10,
   "metadata": {
    "collapsed": false,
    "deletable": true,
    "editable": true
   },
   "outputs": [
    {
     "name": "stdout",
     "output_type": "stream",
     "text": [
      "CPU times: user 126 ms, sys: 10.4 ms, total: 136 ms\n",
      "Wall time: 123 ms\n"
     ]
    },
    {
     "data": {
      "text/plain": [
       "[1.0]"
      ]
     },
     "execution_count": 10,
     "metadata": {},
     "output_type": "execute_result"
    }
   ],
   "source": [
    "%%time\n",
    "opt.to_radix(gap, var_cons_dict, radix, powers, digits=digits, prevent_zero=PREVENT_ZERO)"
   ]
  },
  {
   "cell_type": "code",
   "execution_count": 11,
   "metadata": {
    "collapsed": true,
    "deletable": true,
    "editable": true
   },
   "outputs": [],
   "source": [
    "### Try scaling\n",
    "if SCALE_CROWDING:\n",
    "    crowding = gap.metabolites.crowding\n",
    "    bound0  = crowding._bound\n",
    "    f_scale = crowding._bound\n",
    "    crowding._bound = bound0 / f_scale\n",
    "    for rxn in crowding.reactions:\n",
    "        rxn._metabolites[crowding] = rxn._metabolites[crowding]/f_scale"
   ]
  },
  {
   "cell_type": "code",
   "execution_count": 12,
   "metadata": {
    "collapsed": true,
    "deletable": true,
    "editable": true
   },
   "outputs": [],
   "source": [
    "for rxn in gap.reactions:\n",
    "    rxn.objective_coefficient = 0.\n",
    "for rxn in gap.reactions.query('binary'):\n",
    "    rxn.objective_coefficient = 1."
   ]
  },
  {
   "cell_type": "code",
   "execution_count": 13,
   "metadata": {
    "collapsed": false,
    "deletable": true,
    "editable": true
   },
   "outputs": [],
   "source": [
    "N_CONDS = 1\n",
    "\n",
    "df_meas = pd.read_csv('/home/laurence/ME/data/dynamicME/beg/growth_meas.csv')\n",
    "ex_rxns = [r.id for r in ijomc.reactions.query('EX_')]\n",
    "df_meas = df_meas[ df_meas.ex_rxn.isin(ex_rxns)]\n",
    "conds = df_meas.substrate.unique()\n",
    "df_conds = pd.DataFrame([{'cond':r['substrate'], 'rxn':ex_rxn, 'lb':-10 if r['ex_rxn']==ex_rxn else 0, 'ub':1000., 'obj':0.} for i,r in df_meas.iterrows() for ex_rxn in ex_rxns])\n",
    "df_conds = df_conds[ df_conds.cond.isin(conds[0:N_CONDS])]"
   ]
  },
  {
   "cell_type": "code",
   "execution_count": 16,
   "metadata": {
    "collapsed": false,
    "deletable": true,
    "editable": true
   },
   "outputs": [
    {
     "name": "stdout",
     "output_type": "stream",
     "text": [
      "Initial mu_crowd=0.873922. Fitting within 2% of measured: 0.7252 <= mu <= 0.7548\n"
     ]
    }
   ],
   "source": [
    "mu_meas = 0.74\n",
    "\n",
    "F_TOL = 0.02\n",
    "rxn_mu = gap.reactions.BIOMASS_Ecoli_core_w_GAM\n",
    "rxn_mu.lower_bound = mu_meas*(1-F_TOL)\n",
    "rxn_mu.upper_bound = mu_meas*(1+F_TOL)\n",
    "print('Initial mu_crowd=%g. Fitting within %g%% of measured: %g <= mu <= %g' % (mu_crowd0, 100*F_TOL, rxn_mu.lower_bound, rxn_mu.upper_bound))\n",
    "\n",
    "    \n",
    "from cobra.solvers import gurobi_solver\n",
    "from gurobipy import *\n",
    "\n",
    "milp = gurobi_solver.create_problem(gap)\n",
    "milp.ModelSense = GRB.MINIMIZE"
   ]
  },
  {
   "cell_type": "code",
   "execution_count": 17,
   "metadata": {
    "collapsed": false,
    "deletable": true,
    "editable": true,
    "scrolled": true
   },
   "outputs": [
    {
     "name": "stdout",
     "output_type": "stream",
     "text": [
      "Changed value of parameter OutputFlag to 1\n",
      "   Prev: 0  Min: 0  Max: 1  Default: 1\n",
      "Optimize a model with 3193 rows, 1366 columns and 8292 nonzeros\n",
      "Variable types: 1030 continuous, 336 integer (0 binary)\n",
      "Coefficient statistics:\n",
      "  Matrix range     [5e-07, 1e+03]\n",
      "  Objective range  [1e+00, 1e+00]\n",
      "  Bounds range     [7e-01, 1e+03]\n",
      "  RHS range        [1e-03, 1e+03]\n",
      "Presolve removed 1173 rows and 183 columns\n",
      "Presolve time: 0.01s\n",
      "Presolved: 2020 rows, 1183 columns, 5982 nonzeros\n",
      "Variable types: 854 continuous, 329 integer (329 binary)\n",
      "\n",
      "Root relaxation: objective 5.885411e-01, 1038 iterations, 0.01 seconds\n",
      "\n",
      "    Nodes    |    Current Node    |     Objective Bounds      |     Work\n",
      " Expl Unexpl |  Obj  Depth IntInf | Incumbent    BestBd   Gap | It/Node Time\n",
      "\n",
      "     0     0    0.58854    0   10          -    0.58854      -     -    0s\n",
      "     0     0    0.58854    0   10          -    0.58854      -     -    0s\n",
      "     0     0    0.76364    0   10          -    0.76364      -     -    0s\n",
      "     0     2    0.76364    0   10          -    0.76364      -     -    0s\n",
      "*  740   699             189      16.0000000    0.76364  95.2%   4.0    0s\n",
      "H  884   763                      13.0000000    1.00000  92.3%   4.0    0s\n",
      "H 1004   276                       5.0000000    1.00000  80.0%   4.1    0s\n",
      "H 1026    54                       3.0000000    1.00000  66.7%   4.2    0s\n",
      "\n",
      "Explored 1055 nodes (6288 simplex iterations) in 0.51 seconds\n",
      "Thread count was 8 (of 8 available processors)\n",
      "\n",
      "Solution count 4: 3 5 13 16 \n",
      "\n",
      "Optimal solution found (tolerance 1.00e-04)\n",
      "Best objective 3.000000000000e+00, best bound 3.000000000000e+00, gap 0.0000%\n"
     ]
    }
   ],
   "source": [
    "milp.Params.FeasibilityTol = 1e-9\n",
    "milp.Params.OptimalityTol = 1e-9\n",
    "milp.Params.IntFeasTol = 1e-9\n",
    "milp.Params.OutputFlag = 1\n",
    "milp.optimize()"
   ]
  },
  {
   "cell_type": "code",
   "execution_count": 18,
   "metadata": {
    "collapsed": false,
    "deletable": true,
    "editable": true
   },
   "outputs": [
    {
     "name": "stdout",
     "output_type": "stream",
     "text": [
      "Initial mu_crowd=0.873922. Fitted within 2%: 0.7252 <= 0.733706 <= 0.7548\n",
      "Number of non-zero binaries: 3\n"
     ]
    }
   ],
   "source": [
    "#gap.optimize('minimize')\n",
    "rxn_mu =gap.reactions.BIOMASS_Ecoli_core_w_GAM \n",
    "#muopt = rxn_mu\n",
    "sol = gurobi_solver.format_solution(milp, gap)\n",
    "muopt = sol.x_dict[rxn_mu.id]\n",
    "yopt = [sol.x_dict[rxn.id] for rxn in gap.reactions.query('binary_')]\n",
    "sum(yopt)\n",
    "print('Initial mu_crowd=%g. Fitted within %g%%: %g <= %g <= %g' % (mu_crowd0, 100*F_TOL, rxn_mu.lower_bound, muopt, rxn_mu.upper_bound))\n",
    "print('Number of non-zero binaries: %g' % sum(yopt))"
   ]
  },
  {
   "cell_type": "code",
   "execution_count": 19,
   "metadata": {
    "collapsed": false,
    "deletable": true,
    "editable": true,
    "scrolled": true
   },
   "outputs": [
    {
     "name": "stdout",
     "output_type": "stream",
     "text": [
      "binary_PGL06 1.0\n",
      "binary_GAPD06 1.0\n",
      "binary_ENO06 1.0\n"
     ]
    }
   ],
   "source": [
    "# Fitted parameters\n",
    "kfit_dict = {}\n",
    "for group_id, var_dict in iteritems(var_cons_dict):\n",
    "    var = var_dict[0]\n",
    "    cons = var_dict[1]\n",
    "    a0  = var_dict[0][2]\n",
    "    kfit = 0.\n",
    "    for l,pwr in enumerate(powers):\n",
    "        for k,digit in enumerate(digits):            \n",
    "            yid = 'binary_%s%s%s' % (group_id,k,l)\n",
    "            y   = sol.x_dict[yid]\n",
    "            if abs(y)>1e-10:\n",
    "                print yid, y\n",
    "            kfit += y*a0*radix**pwr*digit\n",
    "    kfit_dict[group_id] = kfit"
   ]
  },
  {
   "cell_type": "code",
   "execution_count": 20,
   "metadata": {
    "collapsed": true,
    "deletable": true,
    "editable": true
   },
   "outputs": [],
   "source": [
    "kfit_dict1 = dict(kfit_dict)"
   ]
  },
  {
   "cell_type": "code",
   "execution_count": 21,
   "metadata": {
    "collapsed": false,
    "deletable": true,
    "editable": true
   },
   "outputs": [
    {
     "data": {
      "text/plain": [
       "('Binaries per keff:', 7)"
      ]
     },
     "execution_count": 21,
     "metadata": {},
     "output_type": "execute_result"
    }
   ],
   "source": [
    "'Binaries per keff:', len(gap.reactions.query('binary')) / len(kfit_dict)"
   ]
  },
  {
   "cell_type": "code",
   "execution_count": 22,
   "metadata": {
    "collapsed": false,
    "deletable": true,
    "editable": true
   },
   "outputs": [
    {
     "data": {
      "text/plain": [
       "48"
      ]
     },
     "execution_count": 22,
     "metadata": {},
     "output_type": "execute_result"
    }
   ],
   "source": [
    "len(var_cons_dict)"
   ]
  },
  {
   "cell_type": "code",
   "execution_count": 23,
   "metadata": {
    "collapsed": false,
    "deletable": true,
    "editable": true
   },
   "outputs": [
    {
     "data": {
      "text/plain": [
       "[(u'PGL', 3.418803418803419e-05),\n",
       " (u'GAPD', 3.418803418803419e-05),\n",
       " (u'ENO', 3.418803418803419e-05)]"
      ]
     },
     "execution_count": 23,
     "metadata": {},
     "output_type": "execute_result"
    }
   ],
   "source": [
    "[(k,v) for k,v in iteritems(kfit_dict) if abs(v)>1e-10]"
   ]
  },
  {
   "cell_type": "markdown",
   "metadata": {
    "deletable": true,
    "editable": true
   },
   "source": [
    "### Plug back in to be sure"
   ]
  },
  {
   "cell_type": "code",
   "execution_count": 24,
   "metadata": {
    "collapsed": false,
    "deletable": true,
    "editable": true
   },
   "outputs": [
    {
     "data": {
      "text/plain": [
       "'Unoptimized: 0.873922. Fitted: 0.733706'"
      ]
     },
     "execution_count": 24,
     "metadata": {},
     "output_type": "execute_result"
    }
   ],
   "source": [
    "#----------------------------------------\n",
    "# Starting from basal model\n",
    "ijofit = load_json_model('/home/laurence/ME/models/BiGG_M/json/e_coli_core.json')\n",
    "crowding = Constraint('crowding')\n",
    "crowding._bound = crowding_bound0\n",
    "crowding._constraint_sense = 'L'\n",
    "for rid,kfit in iteritems(kfit_dict):\n",
    "    rxn = ijofit.reactions.get_by_id(rid)\n",
    "    rxn.add_metabolites({crowding:kfit})\n",
    "\n",
    "ijofit.optimize()\n",
    "ijofit.reactions.BIOMASS_Ecoli_core_w_GAM.x\n",
    "\n",
    "'Unoptimized: %g. Fitted: %g' % (mu_crowd0, ijofit.reactions.BIOMASS_Ecoli_core_w_GAM.x)"
   ]
  },
  {
   "cell_type": "markdown",
   "metadata": {
    "deletable": true,
    "editable": true
   },
   "source": [
    "# Try using Benders"
   ]
  },
  {
   "cell_type": "code",
   "execution_count": 25,
   "metadata": {
    "collapsed": false,
    "deletable": true,
    "editable": true
   },
   "outputs": [],
   "source": [
    "decomp = Decomposer(gap, objective_sense='minimize')"
   ]
  },
  {
   "cell_type": "code",
   "execution_count": 26,
   "metadata": {
    "collapsed": false,
    "deletable": true,
    "editable": true
   },
   "outputs": [
    {
     "name": "stdout",
     "output_type": "stream",
     "text": [
      "Changed value of parameter Presolve to 0\n",
      "   Prev: -1  Min: -1  Max: 2  Default: -1\n",
      "Changed value of parameter LazyConstraints to 1\n",
      "   Prev: 0  Min: 0  Max: 1  Default: 0\n",
      "Changed value of parameter IntFeasTol to 1e-09\n",
      "   Prev: 1e-05  Min: 1e-09  Max: 0.1  Default: 1e-05\n",
      "Changed value of parameter InfUnbdInfo to 1\n",
      "   Prev: 0  Min: 0  Max: 1  Default: 0\n",
      "Parameter presolve unchanged\n",
      "   Value: 0  Min: -1  Max: 2  Default: -1\n",
      "Changed value of parameter presolve to 0\n",
      "   Prev: -1  Min: -1  Max: 2  Default: -1\n",
      "Changed value of parameter FeasibilityTol to 1e-09\n",
      "   Prev: 1e-06  Min: 1e-09  Max: 0.01  Default: 1e-06\n",
      "Changed value of parameter OptimalityTol to 1e-09\n",
      "   Prev: 1e-06  Min: 1e-09  Max: 0.01  Default: 1e-06\n",
      "Changed value of parameter Method to 0\n",
      "   Prev: -1  Min: -1  Max: 5  Default: -1\n"
     ]
    }
   ],
   "source": [
    "master,sub = decomp.benders_decomp()\n",
    "\n",
    "master.Params.presolve = 0\n",
    "sub.Params.presolve = 0\n",
    "\n",
    "master.Params.FeasibilityTol = 1e-9\n",
    "master.Params.OptimalityTol = 1e-9\n",
    "\n",
    "sub.Params.Method = 0\n",
    "sub.Params.OutputFlag = 0\n",
    "\n",
    "sub.Params.FeasibilityTol = 1e-9\n",
    "sub.Params.OptimalityTol = 1e-9\n",
    "\n",
    "master._verbosity = 0\n",
    "master._precision_sub = 'gurobi' #'dq'\n",
    "master.Params.OutputFlag=0"
   ]
  },
  {
   "cell_type": "code",
   "execution_count": 27,
   "metadata": {
    "collapsed": false
   },
   "outputs": [],
   "source": [
    "# ybad = np.array([0. for y in decomp._ys])\n",
    "# psub = decomp.make_sub_primal(ybad)\n",
    "# psub.model.Params.InfUnbdInfo=1\n",
    "# psub.model.optimize()"
   ]
  },
  {
   "cell_type": "code",
   "execution_count": 28,
   "metadata": {
    "collapsed": false
   },
   "outputs": [],
   "source": [
    "# ### DEBUG ****************\n",
    "# # Test an unbounded subproblem using a yopt that is known to be infeasible for primal\n",
    "# ybad = np.array([0. for y in decomp._ys])\n",
    "# decomp.update_subobj(ybad)\n",
    "# sub.model.Params.ModelSense = GRB.MAXIMIZE\n",
    "# sub.optimize()\n",
    "# print('Status: %s' % sub.model.Status)\n",
    "# print('Status is unbounded: %s' % (sub.model.Status==GRB.UNBOUNDED))\n",
    "# print('Obj val: %s' %sub.ObjVal)"
   ]
  },
  {
   "cell_type": "code",
   "execution_count": 29,
   "metadata": {
    "collapsed": false,
    "deletable": true,
    "editable": true
   },
   "outputs": [],
   "source": [
    "WARM_START_BENDERS = False\n",
    "# **** DEBUG: warm-start with known solution ****\n",
    "if WARM_START_BENDERS:\n",
    "    for yj in master.getVars():\n",
    "        if 'binary' in yj.VarName:\n",
    "            yj.Start = sol.x_dict[yj.VarName]\n",
    "            if sol.x_dict[yj.VarName] > 1e-10:\n",
    "                print((yj, sol.x_dict[yj.VarName]))"
   ]
  },
  {
   "cell_type": "code",
   "execution_count": 30,
   "metadata": {
    "collapsed": false,
    "deletable": true,
    "editable": true,
    "scrolled": true
   },
   "outputs": [
    {
     "name": "stdout",
     "output_type": "stream",
     "text": [
      "Changed value of parameter OutputFlag to 1\n",
      "   Prev: 0  Min: 0  Max: 1  Default: 1\n",
      "Optimize a model with 337 rows, 337 columns and 673 nonzeros\n",
      "Variable types: 1 continuous, 336 integer (0 binary)\n",
      "Coefficient statistics:\n",
      "  Matrix range     [1e+00, 1e+00]\n",
      "  Objective range  [1e+00, 1e+00]\n",
      "  Bounds range     [1e+00, 1e+03]\n",
      "  RHS range        [1e+00, 1e+00]\n",
      "Variable types: 1 continuous, 336 integer (336 binary)\n",
      "\n",
      "Root relaxation: objective 1.000000e+00, 2 iterations, 0.00 seconds\n",
      "\n",
      "    Nodes    |    Current Node    |     Objective Bounds      |     Work\n",
      " Expl Unexpl |  Obj  Depth IntInf | Incumbent    BestBd   Gap | It/Node Time\n",
      "\n",
      "     0     0    1.00000    0    2          -    1.00000      -     -    0s\n",
      "     0     0    1.00000    0    2          -    1.00000      -     -    0s\n",
      "     0     0    1.00000    0    2          -    1.00000      -     -    0s\n",
      "     0     2    1.00000    0    2          -    1.00000      -     -    0s\n",
      "   278   221    3.25346   68    4          -    1.42286      -   1.9    5s\n",
      "   682   620   15.86257  153    2          -    1.42286      -   1.8   11s\n",
      "  1066   966    4.00000   57    2          -    1.42286      -   1.7   16s\n",
      "  1261  1040    2.03488   36    2          -    1.63804      -   2.0   20s\n",
      "  1592  1227    2.74125   73    3          -    1.63804      -   2.1   25s\n",
      "  1898  1432   12.29711  108    4          -    1.63804      -   2.2   30s\n",
      "  2208  1655   32.16296  148    3          -    1.63804      -   2.4   35s\n",
      "  2546  1827    3.07372   70    2          -    1.81027      -   2.9   40s\n",
      "  2927  2097    7.96257  103    5          -    1.81027      -   3.0   45s\n",
      "  3219  2175   13.34301  122    3          -    1.81027      -   3.1   50s\n",
      "  3553  2379   19.34394  166    2          -    1.81027      -   3.1   55s\n",
      "  3985  2648   48.00000  190    2          -    1.96392      -   3.1   61s\n",
      "  4400  3008    9.69937  100    2          -    1.96392      -   2.9   67s\n",
      "  4655  3229    9.70220  111    1          -    1.96392      -   2.8   70s\n",
      "  5171  3708    5.93823   66    4          -    1.96392      -   2.7   78s\n",
      "  5385  3867   11.95626  136    3          -    1.96392      -   2.6   81s\n",
      "  5823  4214   19.03455  184    2          -    1.96392      -   2.5   87s\n",
      "  6064  4441   20.87286  189    1          -    1.96392      -   2.5   90s\n",
      "  6605  4863    6.00000  110    -          -    1.96392      -   2.4   98s\n",
      "  6849  5084    6.50212  110    2          -    1.96392      -   2.4  101s\n",
      "  7161  5334    7.08188  128    2          -    1.96392      -   2.3  106s\n",
      "  7666  5772   23.80638  133    1          -    1.96392      -   2.3  113s\n",
      "  8021  6076    5.40652   95    1          -    1.96392      -   2.2  118s\n",
      "  8369  6416    7.58815   94    4          -    2.00000      -   2.2  123s\n",
      "  8657  6651    4.00000   60    3          -    2.00000      -   2.2  127s\n",
      "  9054  7001    6.79368  109    1          -    2.00000      -   2.1  133s\n",
      "  9453  7301    4.77778   63    2          -    2.00000      -   2.1  139s\n",
      "  9715  7575   18.79190  137   10          -    2.00000      -   2.1  142s\n",
      " 10172  7942    6.16460   86    2          -    2.00000      -   2.1  149s\n",
      " 10653  8335    7.98352  112    2          -    2.00000      -   2.1  156s\n",
      " 11045  8697   15.85479  206    1          -    2.00000      -   2.0  162s\n",
      " 11564  9081    2.47286   38    3          -    2.00000      -   2.0  169s\n",
      " 12145  9536    4.36549   39    2          -    2.00000      -   1.9  178s\n",
      " 12621  9941    6.90629  183    1          -    2.00000      -   1.9  184s\n",
      " 13112 10342    3.00000   29    3          -    2.00000      -   1.9  192s\n",
      " 13532 10695    3.00000   31    3          -    2.00000      -   1.9  198s\n",
      " 13926 11039    5.38050  125    3          -    2.00000      -   1.8  204s\n",
      " 14358 11372    8.45386  189    1          -    2.00000      -   1.8  210s\n",
      " 14763 11669    3.00000   25    -          -    2.00000      -   1.8  216s\n",
      " 15245 12061    3.04311   25    3          -    2.00000      -   1.8  223s\n",
      " 15823 12613    5.50464  115    1          -    2.00000      -   1.8  232s\n",
      " 16275 13001    4.00000   34    -          -    2.00000      -   1.7  238s\n",
      " 16735 13409    4.07094   34    3          -    2.00000      -   1.7  245s\n",
      " 17274 13857    5.90981   64    1          -    2.00000      -   1.7  253s\n",
      " 17697 14241    7.97110  130    1          -    2.00000      -   1.7  259s\n",
      " 18053 14532    3.03791   42    2          -    2.00000      -   1.7  265s\n",
      " 18600 15006    7.55298  110    2          -    2.00000      -   1.7  272s\n",
      " 18960 15343 infeasible  176               -    2.00000      -   1.7  278s\n",
      " 19499 15795    3.98202   68    1          -    2.00000      -   1.6  286s\n",
      " 20018 16257    6.79082  103    1          -    2.00000      -   1.6  293s\n",
      " 20559 16748    3.00000   21    3          -    2.00000      -   1.6  301s\n",
      " 20993 17125    4.00000   39    3          -    2.00000      -   1.6  307s\n",
      " 21403 17500    5.00000   66    3          -    2.00000      -   1.6  314s\n",
      " 21797 17865    3.00000   21    -          -    2.00000      -   1.6  320s\n",
      " 22484 18461    3.00000   22    2          -    2.00000      -   1.6  330s\n",
      " 22981 18955    3.00000   25    -          -    2.00000      -   1.6  337s\n",
      " 23306 19194    3.00000   25    2          -    2.00000      -   1.6  342s\n",
      " 23811 19643    3.00000   31    3          -    2.00000      -   1.6  349s\n",
      " 24292 20093    3.00000   33    2          -    2.00000      -   1.5  356s\n",
      " 24552 20342    6.22369   98    2          -    2.00000      -   1.5  360s\n",
      " 24895 20623 infeasible  168               -    2.00000      -   1.5  365s\n",
      " 25257 20906    3.00000   20    2          -    2.00000      -   1.5  371s\n",
      " 25753 21363    2.00000   22    2          -    2.00000      -   1.5  378s\n",
      " 26180 21734    3.00000   31    -          -    2.00000      -   1.5  384s\n",
      " 26511 22051    3.00000   31    2          -    2.00000      -   1.5  389s\n",
      " 26865 22355    3.00000   34    2          -    2.00000      -   1.5  394s\n",
      " 27264 22711    3.00000   36    2          -    2.00000      -   1.5  400s\n",
      " 27776 23188    5.45325  120    2          -    2.00000      -   1.5  408s\n",
      " 28109 23473    7.80454  183    1          -    2.00000      -   1.5  413s\n",
      " 28368 23686 infeasible  193               -    2.00000      -   1.5  418s\n",
      " 28776 24010    4.00000   32    -          -    2.00000      -   1.5  424s\n",
      " 29034 24259    4.00000   32    2          -    2.00000      -   1.5  428s\n",
      " 29329 24533 infeasible  180               -    2.00764      -   1.5  432s\n",
      " 29613 24739    3.00000   25    2          -    2.00764      -   1.5  437s\n",
      " 30012 25148    5.10050   77    1          -    2.02453      -   1.5  443s\n",
      " 30316 25422    8.46948  143    2          -    2.02453      -   1.5  447s\n",
      " 30564 25643   30.67804  192    2          -    2.02453      -   1.5  451s\n",
      " 30847 25847 infeasible  201               -    2.04150      -   1.5  456s\n",
      " 31345 26236    4.00000   58    -          -    2.04522      -   1.5  463s\n",
      " 31640 26509    4.10583   58    3          -    2.04522      -   1.5  467s\n",
      " 31999 26838    5.00000   65    -          -    2.04522      -   1.5  473s\n",
      " 32305 27121    5.44289   65    3          -    2.04522      -   1.5  477s\n",
      " 32572 27351    8.55629  138    2          -    2.04522      -   1.5  482s\n",
      " 32951 27707   13.08884  139    1          -    2.04522      -   1.5  488s\n",
      " 33225 27956   15.38152  179    1          -    2.04522      -   1.5  492s\n",
      " 33584 28230    4.00000   44    3          -    2.04522      -   1.5  498s\n",
      " 33843 28511    5.00000   51    2          -    2.04522      -   1.5  502s\n",
      " 34206 28831    6.00000   52    -          -    2.04522      -   1.5  508s\n",
      " 34464 29055    5.81897   98    2          -    2.04522      -   1.5  511s\n",
      " 34803 29343    4.20857   56    4          -    2.04522      -   1.5  517s\n",
      " 35296 29778    7.25838  149    2          -    2.04522      -   1.4  524s\n",
      " 35625 30066   15.23467  153    1          -    2.04522      -   1.4  529s\n",
      " 35919 30327 infeasible  183               -    2.05081      -   1.4  533s\n",
      " 36168 30527    3.00000   44    2          -    2.05081      -   1.4  537s\n",
      " 36567 30875    6.92247  159    1          -    2.06384      -   1.4  543s\n",
      " 36920 31161    4.33591   75    2          -    2.06384      -   1.4  548s\n",
      " 37203 31414   12.76660  147    2          -    2.06384      -   1.4  553s\n",
      " 37553 31722   14.98807  180    2          -    2.08523      -   1.4  558s\n",
      " 37881 32018    6.30331   89    1          -    2.08523      -   1.4  563s\n",
      " 38298 32403    8.13308  106    1          -    2.08961      -   1.4  570s\n",
      " 38665 32698    5.32727   76    3          -    2.09776      -   1.4  576s\n",
      " 39107 33100    3.45709   53    4          -    2.10009      -   1.4  582s\n",
      " 39446 33444    4.16781   37    4          -    2.10009      -   1.4  587s\n",
      " 39858 33811    6.93060  101    4          -    2.10009      -   1.4  594s\n",
      " 40157 34053    4.62067   38    2          -    2.10009      -   1.4  599s\n",
      " 40551 34427    6.69917  114    2          -    2.10009      -   1.4  605s\n",
      " 40944 34728    9.01249  155    1          -    2.10009      -   1.4  611s\n",
      " 41353 35052    3.00000   23    2          -    2.10686      -   1.4  617s\n",
      " 41682 35355    3.00000   15    2          -    2.11652      -   1.4  622s\n",
      " 42056 35669    3.00000   24    2          -    2.11652      -   1.4  628s\n",
      " 42414 35993    3.00000   25    -          -    2.11652      -   1.4  633s\n",
      " 42740 36287    3.00000   25    3          -    2.11652      -   1.4  639s\n",
      " 43066 36596    3.06615   27    3          -    2.11652      -   1.4  644s\n",
      " 43457 36960    5.49879   74    1          -    2.13116      -   1.4  649s\n",
      " 43813 37274    4.32493   86    1          -    2.13116      -   1.4  655s\n",
      " 44556 37940    4.64882  154    1          -    2.16115      -   1.4  666s\n",
      " 44973 38332    3.00000   35    2          -    2.16115      -   1.4  672s\n",
      " 45385 38697    4.52163   80    2          -    2.16115      -   1.4  679s\n",
      " 45769 39017    6.32467   86    1          -    2.16543      -   1.4  685s\n",
      " 46445 39609    3.15988   33    4          -    2.16543      -   1.4  695s\n",
      " 46758 39901    6.36248  123    5          -    2.16543      -   1.4  700s\n",
      " 47048 40171   13.68191  144    3          -    2.16543      -   1.4  705s\n",
      " 47641 40710 infeasible  196               -    2.19512      -   1.4  714s\n",
      " 47982 41007   21.06875  126    1          -    2.19845      -   1.4  720s\n",
      " 48395 41378    4.62721   76    2          -    2.19845      -   1.4  726s\n",
      " 48730 41677 infeasible  187               -    2.19847      -   1.4  732s\n",
      " 49005 41925    5.01004  102    3          -    2.19847      -   1.4  736s\n",
      " 49405 42259 infeasible  191               -    2.20744      -   1.4  742s\n",
      " 49878 42682    3.45215   69    1          -    2.21428      -   1.4  749s\n",
      " 50199 42942    4.64256   87    1          -    2.21428      -   1.4  755s\n",
      " 50664 43353    6.15147  111    2          -    2.21428      -   1.4  762s\n",
      " 50892 43540    7.98644  194    1          -    2.21428      -   1.4  766s\n",
      " 51161 43743    9.41580  196    4          -    2.21428      -   1.4  770s\n",
      " 51505 44064   12.36715  196    6          -    2.22404      -   1.4  775s\n",
      " 51928 44387    5.61440   85    4          -    2.22734      -   1.4  782s\n",
      " 52262 44699    4.62161   94    4          -    2.23034      -   1.4  787s\n",
      " 52653 45059 infeasible  178               -    2.23034      -   1.4  793s\n",
      " 53048 45397    3.00000   34    2          -    2.23034      -   1.4  798s\n",
      " 53310 45644    6.79334  126    4          -    2.23127      -   1.4  803s\n",
      " 53710 45978    3.00000   35    2          -    2.23510      -   1.4  809s\n",
      " 54165 46400    7.82593  123    2          -    2.23510      -   1.4  816s\n",
      " 54522 46756    6.07435   98    2          -    2.23649      -   1.4  821s\n",
      " 54894 47047   12.32632  152    2          -    2.23963      -   1.4  827s\n",
      " 55239 47364    4.43809   66    6          -    2.24134      -   1.4  832s\n",
      " 55543 47640 infeasible  154               -    2.24245      -   1.4  837s\n",
      " 55999 48030    6.00696  153    1          -    2.25646      -   1.4  844s\n",
      " 56389 48365    2.74759   61    1          -    2.25770      -   1.4  850s\n",
      " 56790 48716    3.00000   43    2          -    2.25770      -   1.4  857s\n",
      " 57350 49243    5.00000   85    4          -    2.26318      -   1.4  866s\n",
      " 57739 49588   25.35610  160    1          -    2.26318      -   1.4  872s\n",
      " 58066 49873   15.96890  117    1          -    2.26552      -   1.4  877s\n",
      " 58309 50081   19.24837  139    1          -    2.26552      -   1.4  881s\n",
      " 58671 50377   31.26691  143    2          -    2.27013      -   1.4  886s\n",
      " 58939 50622    5.92701  112    1          -    2.27013      -   1.4  891s\n",
      " 59238 50885 infeasible  169               -    2.27013      -   1.4  895s\n",
      " 59527 51135 infeasible  192               -    2.28126      -   1.4  900s\n",
      " 60068 51622    3.96392   67    1          -    2.28126      -   1.4  908s\n",
      " 60364 51859    4.32918   42    4          -    2.28126      -   1.4  913s\n",
      " 60813 52240    5.85174  112    1          -    2.28128      -   1.4  920s\n",
      " 61171 52550    4.04480   28    4          -    2.28128      -   1.4  926s\n",
      " 61567 52882    8.91539  127    2          -    2.28128      -   1.4  932s\n",
      " 61986 53244    4.00000   76    -          -    2.28128      -   1.4  939s\n",
      " 62322 53551    4.00000   76    2          -    2.29608      -   1.4  944s\n",
      " 62793 53959    3.17645   41    3          -    2.29763      -   1.4  952s\n",
      " 63136 54286    4.00000   41    2          -    2.29763      -   1.4  957s\n",
      " 63527 54641    6.84424  128    4          -    2.29763      -   1.4  963s\n",
      " 63835 54916 infeasible  209               -    2.29763      -   1.4  969s\n",
      " 64314 55294    5.79650  120    1          -    2.29763      -   1.4  976s\n",
      " 64736 55636    7.60990  121    3          -    2.29763      -   1.4  983s\n",
      " 65238 56107 infeasible  199               -    2.29763      -   1.4  991s\n",
      " 65540 56321    9.06958  127    1          -    2.29763      -   1.4  996s\n",
      " 65797 56556 infeasible  169               -    2.29763      -   1.4 1001s\n",
      " 66239 56965   16.25442  153    1          -    2.29763      -   1.4 1008s\n",
      " 66672 57368 infeasible  185               -    2.29763      -   1.4 1015s\n",
      " 67051 57708    4.00000   43    2          -    2.29763      -   1.4 1021s\n",
      " 67436 58020    4.00000   44    2          -    2.29763      -   1.4 1027s\n",
      " 67839 58388    7.13660  143    4          -    2.29763      -   1.4 1034s\n",
      " 68004 58521    4.00000   46    -          -    2.29763      -   1.4 1036s\n",
      " 68663 59088 infeasible  190               -    2.29763      -   1.4 1047s\n",
      " 68938 59288    4.00000   57    3          -    2.29763      -   1.4 1051s\n",
      " 69401 59693    4.74623   59    5          -    2.29763      -   1.4 1059s\n",
      " 69819 60080    5.96392   65    3          -    2.29763      -   1.4 1066s\n",
      " 70182 60449    7.74721  122    2          -    2.29763      -   1.4 1073s\n",
      " 70446 60657    8.74466  129    1          -    2.29763      -   1.4 1077s\n",
      " 70866 61058    4.58716   65    4          -    2.29763      -   1.4 1084s\n",
      " 71169 61314 infeasible  189               -    2.30165      -   1.4 1090s\n",
      " 71565 61643   15.82465  135    2          -    2.30165      -   1.4 1096s\n",
      " 71948 62032   26.39325  179    2          -    2.31036      -   1.4 1102s\n",
      " 72235 62238    8.05970  139    2          -    2.31107      -   1.4 1107s\n",
      " 72690 62678    3.69369   60    4          -    2.31107      -   1.4 1114s\n",
      " 73016 62951   16.47761  145    2          -    2.31137      -   1.4 1119s\n",
      " 73108 63035   21.16848  212    1          -    2.31199      -   1.4 1120s\n",
      " 73407 63282    7.07389   93    1          -    2.31199      -   1.4 1125s\n",
      " 73769 63636    8.43551  175    1          -    2.31199      -   1.3 1131s\n",
      " 74049 63899 infeasible  178               -    2.31410      -   1.4 1136s\n",
      " 74315 64071    4.09426   69    8          -    2.32107      -   1.4 1140s\n",
      " 74934 64636   16.30666  177    5          -    2.33643      -   1.4 1150s\n",
      " 75603 65216    3.00000   35    2          -    2.33643      -   1.4 1161s\n",
      " 75913 65494    3.00000   36    2          -    2.33709      -   1.4 1166s\n",
      " 76309 65826    3.75767   75    3          -    2.34471      -   1.4 1172s\n",
      " 76635 66129   12.71078  161    3          -    2.34471      -   1.4 1177s\n",
      " 76985 66422   23.80534  171    4          -    2.34471      -   1.4 1183s\n",
      " 77410 66755 infeasible  181               -    2.36884      -   1.4 1189s\n",
      " 77807 67093    4.38470   63    1          -    2.37390      -   1.4 1196s\n",
      " 78122 67370    5.17288  109    2          -    2.37390      -   1.3 1201s\n",
      " 78530 67761   12.71587  135    1          -    2.37390      -   1.3 1208s\n",
      " 78876 68049 infeasible  158               -    2.37811      -   1.3 1213s\n",
      " 79233 68360    5.29890  174    2          -    2.37811      -   1.4 1219s\n",
      " 79614 68682 infeasible  183               -    2.38584      -   1.4 1225s\n",
      " 80063 69108    5.91832  104    1          -    2.38692      -   1.4 1232s\n",
      " 80317 69318 infeasible  164               -    2.38896      -   1.4 1236s\n",
      " 80672 69618    5.66637  106    1          -    2.39342      -   1.4 1242s\n",
      " 81129 70000    3.25911   68    2          -    2.39342      -   1.3 1249s\n",
      " 81455 70286    6.44738  188    1          -    2.39672      -   1.3 1255s\n",
      " 81811 70602    4.17538   67    1          -    2.39672      -   1.3 1261s\n",
      " 82245 70985    5.14311   82    2          -    2.40470      -   1.3 1268s\n",
      " 82643 71359   34.42650  145    1          -    2.40470      -   1.3 1275s\n",
      " 83187 71848    8.29218  115    1          -    2.40470      -   1.3 1284s\n",
      " 83647 72260    8.90639  115    2          -    2.40470      -   1.3 1291s\n",
      " 83911 72469 infeasible  185               -    2.41561      -   1.3 1296s\n",
      " 84314 72799   18.64742  142    2          -    2.42266      -   1.3 1303s\n",
      " 84704 73125    3.26317   44    4          -    2.42266      -   1.3 1309s\n",
      " 84788 73215    5.93466  152    2          -    2.42266      -   1.3 1311s\n",
      " 85448 73788    4.00000   41    2          -    2.42266      -   1.3 1323s\n",
      " 85981 74279    4.64265   48    4          -    2.42266      -   1.3 1333s\n",
      " 86376 74621    8.34667  131    1          -    2.42266      -   1.3 1340s\n",
      " 86746 74964 infeasible  181               -    2.42266      -   1.3 1346s\n",
      " 87049 75201    5.00000   47    -          -    2.42266      -   1.3 1352s\n",
      " 87526 75629    5.00000   47    2          -    2.42266      -   1.3 1361s\n",
      " 87991 76031    5.98640   82    2          -    2.42266      -   1.3 1369s\n",
      " 88296 76303   10.42075  193    5          -    2.42266      -   1.3 1375s\n",
      " 88809 76677   17.28387  213    1          -    2.42266      -   1.3 1384s\n",
      " 89084 76908    4.79651   64    4          -    2.42266      -   1.3 1390s\n",
      " 89570 77371 infeasible  181               -    2.42266      -   1.3 1398s\n",
      " 89994 77743    2.56932   56    5          -    2.42266      -   1.3 1405s\n",
      " 90286 77958    8.22823  120    4          -    2.42266      -   1.3 1410s\n",
      " 90666 78294 infeasible  188               -    2.42458      -   1.3 1417s\n",
      " 91209 78810   17.08079  162    3          -    2.42458      -   1.3 1426s\n",
      " 91557 79117    9.38864  113    2          -    2.42458      -   1.3 1478s\n",
      " 91560 79119    4.85050  121    2          -    2.42458      -   1.3 1480s\n",
      " 91604 79138    2.42458   28    3          -    2.42458      -   1.3 1485s\n",
      " 91706 79192    2.42458   38    4          -    2.42458      -   1.3 1490s\n",
      " 91819 79251    2.42458   48    4          -    2.42458      -   1.3 1495s\n",
      " 91977 79346    2.73512   62    4          -    2.42458      -   1.3 1500s\n",
      " 92101 79439    2.64358   76    5          -    2.42458      -   1.4 1505s\n",
      " 92283 79548    4.48348  102    4          -    2.42458      -   1.4 1511s\n",
      " 92441 79644    6.34800  122    5          -    2.42458      -   1.4 1515s\n",
      " 92611 79757   16.34317  146    3          -    2.42458      -   1.4 1520s\n",
      " 92820 79893   34.39367  168    3          -    2.42458      -   1.4 1526s\n",
      " 93065 80010 infeasible  195               -    2.42458      -   1.4 1531s\n",
      " 93321 80163    4.83727   89    4          -    2.42458      -   1.4 1536s\n",
      " 93645 80380   19.61395  162    1          -    2.42458      -   1.4 1543s\n",
      " 93823 80472   20.52687  177    3          -    2.42458      -   1.4 1546s\n",
      " 94031 80590 infeasible  201               -    2.42458      -   1.4 1550s\n",
      " 94455 80772 infeasible  204               -    2.42458      -   1.4 1557s\n",
      " 94683 80899    2.96025   67    6          -    2.42458      -   1.4 1561s\n",
      " 94909 81044    8.02002  113    3          -    2.42458      -   1.4 1566s\n",
      " 95144 81155    8.64730  115    1          -    2.42458      -   1.4 1570s\n",
      " 95660 81338 infeasible  177               -    2.42458      -   1.4 1580s\n",
      " 96136 81637    9.55002  139    2          -    2.42458      -   1.4 1589s\n",
      " 96458 81822   14.43103  159    1          -    2.42458      -   1.4 1594s\n",
      " 96780 81953 infeasible  206               -    2.42458      -   1.4 1600s\n",
      " 97121 82134    3.00000   36    2          -    2.42458      -   1.4 1606s\n",
      " 97442 82308    4.42348  102    2          -    2.42458      -   1.4 1611s\n",
      " 97874 82549    7.59855  177    3          -    2.42458      -   1.4 1619s\n",
      "*97940 74112              45       4.0000000    2.42458  39.4%   1.4 1620s\n",
      " 98207 74000     cutoff  203         4.00000    2.42458  39.4%   1.4 1625s\n",
      " 98497 74057    3.02549   40    4    4.00000    2.42458  39.4%   1.4 1632s\n",
      " 98772 74144    2.47428   53    4    4.00000    2.42458  39.4%   1.4 1637s\n",
      " 99122 74255    3.10771   71    3    4.00000    2.42458  39.4%   1.4 1643s\n",
      " 99539 74306    3.43127   55    3    4.00000    2.42458  39.4%   1.4 1650s\n",
      " 100033 74409 infeasible   62         4.00000    2.42458  39.4%   1.4 1659s\n",
      " 100306 74438     cutoff  113         4.00000    2.42458  39.4%   1.4 1664s\n",
      " 100907 74492    3.28056   56    4    4.00000    2.42458  39.4%   1.4 1674s\n",
      " 101407 74565     cutoff   93         4.00000    2.42458  39.4%   1.4 1682s\n",
      " 101808 74724     cutoff   93         4.00000    2.42458  39.4%   1.4 1689s\n",
      " 102592 74688     cutoff  127         4.00000    2.44424  38.9%   1.4 1701s\n",
      " 103078 74791     cutoff   73         4.00000    2.44857  38.8%   1.4 1709s\n",
      " 103533 74919    3.77398   94    4    4.00000    2.47625  38.1%   1.4 1717s\n",
      " 104009 74912     cutoff   71         4.00000    2.48023  38.0%   1.4 1723s\n",
      " 104150 74921     cutoff   77         4.00000    2.48023  38.0%   1.4 1726s\n",
      " 104610 74982     cutoff   93         4.00000    2.49518  37.6%   1.4 1734s\n",
      " 105072 75176     cutoff   72         4.00000    2.49518  37.6%   1.4 1741s\n",
      " 105547 75250     cutoff   52         4.00000    2.50278  37.4%   1.4 1749s\n",
      " 105960 75316    3.85577   63    4    4.00000    2.50815  37.3%   1.4 1755s\n",
      " 106444 75358    3.66243   68    4    4.00000    2.52563  36.9%   1.4 1764s\n",
      " 106747 75424     cutoff   86         4.00000    2.54282  36.4%   1.4 1769s\n",
      " 107235 75443    3.54604   54    3    4.00000    2.55004  36.2%   1.4 1777s\n",
      " 107693 75541    2.69563   55    5    4.00000    2.55004  36.2%   1.4 1784s\n",
      " 107811 75577     cutoff   87         4.00000    2.55004  36.2%   1.4 1786s\n",
      " 108171 75616    3.37420   58    4    4.00000    2.57205  35.7%   1.4 1792s\n",
      " 108540 75692     cutoff   95         4.00000    2.58605  35.3%   1.4 1797s\n",
      " 108625 75722    3.40127   55    4    4.00000    2.58605  35.3%   1.4 1800s\n",
      " 108991 75780     cutoff  100         4.00000    2.60363  34.9%   1.4 1806s\n",
      " 109377 75828    3.42415   69    4    4.00000    2.60841  34.8%   1.4 1812s\n",
      " 109742 75786    3.85502   84    4    4.00000    2.62069  34.5%   1.4 1818s\n",
      " 109981 75815    3.62793   60    4    4.00000    2.62233  34.4%   1.4 1822s\n",
      " 110122 75813     cutoff   80         4.00000    2.63861  34.0%   1.4 1825s\n",
      " 110480 75872     cutoff   76         4.00000    2.64983  33.8%   1.4 1831s\n",
      " 110809 75995     cutoff   99         4.00000    2.65159  33.7%   1.4 1837s\n",
      " 111016 75960    3.04261   36    4    4.00000    2.65626  33.6%   1.4 1842s\n",
      " 111340 75970    3.98988   65    3    4.00000    2.65968  33.5%   1.4 1847s\n",
      " 111973 75944     cutoff   75         4.00000    2.67309  33.2%   1.4 1858s\n",
      " 112420 75997     cutoff  112         4.00000    2.68417  32.9%   1.4 1865s\n",
      " 112824 76114     cutoff   92         4.00000    2.69092  32.7%   1.4 1872s\n",
      " 113240 76141    3.00000   67    3    4.00000    2.69785  32.6%   1.4 1879s\n",
      " 113656 76194    3.75738   61    2    4.00000    2.70126  32.5%   1.4 1885s\n",
      " 114008 76273    3.42192   58    3    4.00000    2.71728  32.1%   1.4 1892s\n",
      " 114245 76255    3.53873   83    5    4.00000    2.72288  31.9%   1.4 1895s\n",
      " 114783 76272     cutoff   68         4.00000    2.74759  31.3%   1.4 1905s\n",
      " 115222 76268    3.10698   64    7    4.00000    2.74759  31.3%   1.4 1912s\n",
      " 115630 76277    3.74759   64    4    4.00000    2.74759  31.3%   1.4 1920s\n",
      " 115907 76305    3.74187   70    3    4.00000    2.74759  31.3%   1.4 1925s\n",
      " 116302 76383     cutoff   75         4.00000    2.74759  31.3%   1.4 1931s\n",
      " 116685 76462     cutoff   71         4.00000    2.75479  31.1%   1.4 1937s\n",
      " 117043 76551     cutoff   87         4.00000    2.76091  31.0%   1.4 1943s\n",
      " 117358 76585    3.75873   64    5    4.00000    2.76773  30.8%   1.4 1949s\n",
      " 117534 76608     cutoff  118         4.00000    2.76773  30.8%   1.4 1951s\n",
      " 117698 76618     cutoff   94         4.00000    2.77502  30.6%   1.4 1955s\n",
      " 117966 76605    3.76808   72    5    4.00000    2.77502  30.6%   1.4 1960s\n",
      " 118325 76571     cutoff   83         4.00000    2.78553  30.4%   1.4 1966s\n",
      " 118616 76584 infeasible   73         4.00000    2.80122  30.0%   1.4 1970s\n",
      " 118825 76584     cutoff   66         4.00000    2.80964  29.8%   1.4 1975s\n",
      " 119208 76624     cutoff   59         4.00000    2.81027  29.7%   1.4 1981s\n",
      " 119535 76591     cutoff   87         4.00000    2.81486  29.6%   1.4 1987s\n",
      " 119874 76606     cutoff   66         4.00000    2.82120  29.5%   1.4 1993s\n",
      " 120230 76694 infeasible   89         4.00000    2.82846  29.3%   1.4 1999s\n",
      " 120492 76707     cutoff   90         4.00000    2.83008  29.2%   1.4 2004s\n",
      " 120792 76734     cutoff   95         4.00000    2.84325  28.9%   1.4 2010s\n",
      " 121099 76768     cutoff   82         4.00000    2.85570  28.6%   1.4 2015s\n",
      " 121358 76735    3.64524   52    3    4.00000    2.86414  28.4%   1.5 2020s\n",
      " 121718 76806     cutoff   88         4.00000    2.87586  28.1%   1.5 2027s\n",
      " 122043 76809     cutoff   85         4.00000    2.88639  27.8%   1.5 2033s\n",
      " 122394 76785     cutoff   82         4.00000    2.89145  27.7%   1.5 2039s\n",
      " 122749 76757     cutoff   85         4.00000    2.91126  27.2%   1.5 2045s\n",
      " 123157 76776     cutoff   54         4.00000    2.91639  27.1%   1.5 2052s\n",
      " 123363 76786    3.81320   74    3    4.00000    2.91731  27.1%   1.5 2055s\n",
      " 123572 76738    3.36897   46    3    4.00000    2.92740  26.8%   1.5 2060s\n",
      " 124009 76732     cutoff   55         4.00000    2.93639  26.6%   1.5 2067s\n",
      " 124439 76688     cutoff   67         4.00000    2.95650  26.1%   1.5 2074s\n",
      " 124520 76671    3.85726   70    4    4.00000    2.95650  26.1%   1.5 2075s\n",
      " 124947 76691    3.75129   53    2    4.00000    2.96925  25.8%   1.5 2084s\n",
      " 125330 76656     cutoff   66         4.00000    2.97951  25.5%   1.5 2091s\n",
      " 125724 76635    3.82665   65    5    4.00000    2.99035  25.2%   1.5 2098s\n",
      " 126068 76648    3.01801   33    4    4.00000    3.00000  25.0%   1.5 2106s\n",
      " 127176 76447     cutoff   55         4.00000    3.00000  25.0%   1.5 2123s\n",
      " 127293 76434     cutoff   70         4.00000    3.00000  25.0%   1.5 2125s\n",
      " 127625 76379     cutoff   73         4.00000    3.00000  25.0%   1.5 2131s\n",
      " 128064 76354     cutoff   86         4.00000    3.00000  25.0%   1.5 2139s\n",
      " 128401 76298    3.00000   39    2    4.00000    3.00000  25.0%   1.5 2146s\n",
      " 128870 76281     cutoff   43         4.00000    3.00000  25.0%   1.5 2152s\n",
      " 129074 76185    3.97592   63    3    4.00000    3.00000  25.0%   1.5 2157s\n",
      " 129467 76132     cutoff   39         4.00000    3.00000  25.0%   1.5 2165s\n",
      " 129984 76127    3.76861   40    1    4.00000    3.00000  25.0%   1.5 2174s\n",
      " 130342 76106    3.00000   29    -    4.00000    3.00000  25.0%   1.5 2179s\n",
      " 130428 76073    3.77627   58    2    4.00000    3.00000  25.0%   1.5 2183s\n",
      " 130825 76086    3.74651   53    5    4.00000    3.00000  25.0%   1.5 2191s\n",
      " 131182 76015    3.09098   29    3    4.00000    3.00000  25.0%   1.5 2195s\n",
      " 131347 75973    3.58582   50    4    4.00000    3.00000  25.0%   1.5 2200s\n",
      " 131844 75898    3.96392   68    4    4.00000    3.00000  25.0%   1.5 2209s\n",
      " 132306 75880    3.00000   32    3    4.00000    3.00000  25.0%   1.5 2218s\n",
      " 132848 75811    3.86295   53    2    4.00000    3.00000  25.0%   1.5 2228s\n",
      " 133319 75745     cutoff   37         4.00000    3.00000  25.0%   1.5 2236s\n",
      " 133581 75700     cutoff   77         4.00000    3.00000  25.0%   1.5 2240s\n",
      " 133779 75625     cutoff   41         4.00000    3.00000  25.0%   1.5 2245s\n",
      " 134273 75564     cutoff   70         4.00000    3.00000  25.0%   1.5 2253s\n",
      " 134503 75517     cutoff   95         4.00000    3.00000  25.0%   1.5 2259s\n",
      " 134902 75375    3.88403   62    5    4.00000    3.00000  25.0%   1.5 2267s\n",
      " 135359 75318     cutoff   74         4.00000    3.00000  25.0%   1.5 2277s\n",
      " 135609 75295     cutoff   34         4.00000    3.00000  25.0%   1.5 2280s\n",
      " 135863 75116    3.00000   30    2    4.00000    3.00000  25.0%   1.5 2288s\n",
      " 136214 75061    3.12250   69    3    4.00000    3.00000  25.0%   1.5 2292s\n",
      " 136297 74999     cutoff   78         4.00000    3.00000  25.0%   1.5 2296s\n",
      " 136613 74964    3.00000   31    2    4.00000    3.00000  25.0%   1.5 2303s\n",
      " 137381 74782    3.94434   68    2    4.00000    3.00000  25.0%   1.5 2314s\n",
      " 137524 74733    3.82920   59    2    4.00000    3.00000  25.0%   1.5 2319s\n",
      " 138193 74670    3.35802   63    4    4.00000    3.00000  25.0%   1.5 2332s\n",
      " 139108 74450    3.00000   38    2    4.00000    3.00000  25.0%   1.5 2348s\n",
      " 139925 74281    3.78133   53    5    4.00000    3.00000  25.0%   1.5 2361s\n",
      " 140442 74223    3.67666   57    5    4.00000    3.00000  25.0%   1.5 2372s\n",
      " 141122 74082     cutoff   57         4.00000    3.00000  25.0%   1.5 2384s\n",
      " 141627 74016    3.00000   30    -    4.00000    3.00000  25.0%   1.5 2394s\n",
      " 141962 73941    3.73397   52    5    4.00000    3.00000  25.0%   1.5 2400s\n",
      "H142248 54515                       3.0000000    3.00000  0.00%   1.5 2404s\n",
      "\n",
      "Cutting planes:\n",
      "  Lazy constraints: 8269\n",
      "\n",
      "Explored 142301 nodes (210445 simplex iterations) in 2404.94 seconds\n",
      "Thread count was 8 (of 8 available processors)\n",
      "\n",
      "Solution count 2: 3 4 \n",
      "\n",
      "Optimal solution found (tolerance 1.00e-04)\n",
      "Best objective 3.000000000000e+00, best bound 3.000000000000e+00, gap 0.0000%\n",
      "CPU times: user 2h 33min 11s, sys: 6min 33s, total: 2h 39min 44s\n",
      "Wall time: 40min 4s\n"
     ]
    }
   ],
   "source": [
    "master._verbosity=0\n",
    "master.Params.OutputFlag = 1\n",
    "%time master.optimize(cb_benders)"
   ]
  },
  {
   "cell_type": "code",
   "execution_count": 31,
   "metadata": {
    "collapsed": false,
    "deletable": true,
    "editable": true
   },
   "outputs": [
    {
     "data": {
      "text/plain": [
       "2.999999999999938"
      ]
     },
     "execution_count": 31,
     "metadata": {},
     "output_type": "execute_result"
    }
   ],
   "source": [
    "master.ObjVal"
   ]
  },
  {
   "cell_type": "code",
   "execution_count": 32,
   "metadata": {
    "collapsed": false,
    "deletable": true,
    "editable": true
   },
   "outputs": [
    {
     "data": {
      "text/plain": [
       "-0.0"
      ]
     },
     "execution_count": 32,
     "metadata": {},
     "output_type": "execute_result"
    }
   ],
   "source": [
    "sub.ObjVal"
   ]
  },
  {
   "cell_type": "code",
   "execution_count": 33,
   "metadata": {
    "collapsed": false,
    "deletable": true,
    "editable": true
   },
   "outputs": [
    {
     "data": {
      "text/plain": [
       "3.0"
      ]
     },
     "execution_count": 33,
     "metadata": {},
     "output_type": "execute_result"
    }
   ],
   "source": [
    "yoptB = np.array([y.X for y in decomp._ys])\n",
    "sum(yoptB)"
   ]
  },
  {
   "cell_type": "code",
   "execution_count": 34,
   "metadata": {
    "collapsed": false,
    "deletable": true,
    "editable": true
   },
   "outputs": [
    {
     "data": {
      "text/plain": [
       "0.7548"
      ]
     },
     "execution_count": 34,
     "metadata": {},
     "output_type": "execute_result"
    }
   ],
   "source": [
    "mu_id = 'BIOMASS_Ecoli_core_w_GAM'\n",
    "\n",
    "cons_mu = sub.model.getConstrByName(str(mu_id))\n",
    "cons_mu.Pi"
   ]
  },
  {
   "cell_type": "code",
   "execution_count": 35,
   "metadata": {
    "collapsed": false,
    "deletable": true,
    "editable": true
   },
   "outputs": [],
   "source": [
    "sol_master = {v.VarName:v.X for v in master.getVars()}"
   ]
  },
  {
   "cell_type": "code",
   "execution_count": 36,
   "metadata": {
    "collapsed": false,
    "deletable": true,
    "editable": true
   },
   "outputs": [
    {
     "name": "stdout",
     "output_type": "stream",
     "text": [
      "binary_G6PDH2r06. Value=1.0. Power=3. Digit=1\n",
      "binary_GAPD06. Value=1.0. Power=3. Digit=1\n",
      "binary_ENO06. Value=1.0. Power=3. Digit=1\n"
     ]
    }
   ],
   "source": [
    "# Fitted parameters\n",
    "kfit_dict = {}\n",
    "for group_id, var_dict in iteritems(var_cons_dict):\n",
    "    var = var_dict[0]\n",
    "    cons = var_dict[1]\n",
    "    a0  = var_dict[0][2]\n",
    "    kfit = 0.\n",
    "    for l,pwr in enumerate(powers):\n",
    "        for k,digit in enumerate(digits):            \n",
    "            yid = 'binary_%s%s%s' % (group_id,k,l)\n",
    "            y   = sol_master[yid]\n",
    "            if abs(y)>1e-10:\n",
    "                print('%s. Value=%s. Power=%g. Digit=%g' % (yid, y, pwr, digit))\n",
    "            kfit += y*a0*radix**pwr*digit\n",
    "    kfit_dict[group_id] = kfit"
   ]
  },
  {
   "cell_type": "code",
   "execution_count": 37,
   "metadata": {
    "collapsed": false,
    "deletable": true,
    "editable": true
   },
   "outputs": [
    {
     "data": {
      "text/plain": [
       "[(u'G6PDH2r', 3.418803418803419e-05),\n",
       " (u'GAPD', 3.418803418803419e-05),\n",
       " (u'ENO', 3.418803418803419e-05)]"
      ]
     },
     "execution_count": 37,
     "metadata": {},
     "output_type": "execute_result"
    }
   ],
   "source": [
    "[(k,v) for k,v in iteritems(kfit_dict) if abs(v)>1e-10]"
   ]
  },
  {
   "cell_type": "code",
   "execution_count": 38,
   "metadata": {
    "collapsed": false,
    "deletable": true,
    "editable": true
   },
   "outputs": [
    {
     "data": {
      "text/plain": [
       "'Unoptimized: 0.873922. Fitted: 0.733706'"
      ]
     },
     "execution_count": 38,
     "metadata": {},
     "output_type": "execute_result"
    }
   ],
   "source": [
    "#----------------------------------------\n",
    "# Starting from basal model\n",
    "ijofit = load_json_model('/home/laurence/ME/models/BiGG_M/json/e_coli_core.json')\n",
    "crowding = Constraint('crowding')\n",
    "crowding._bound = crowding_bound0\n",
    "crowding._constraint_sense = 'L'\n",
    "for rid,kfit in iteritems(kfit_dict):\n",
    "    rxn = ijofit.reactions.get_by_id(rid)\n",
    "    rxn.add_metabolites({crowding:kfit})\n",
    "\n",
    "ijofit.optimize()\n",
    "ijofit.reactions.BIOMASS_Ecoli_core_w_GAM.x\n",
    "\n",
    "'Unoptimized: %g. Fitted: %g' % (mu_crowd0, ijofit.reactions.BIOMASS_Ecoli_core_w_GAM.x)"
   ]
  }
 ],
 "metadata": {
  "kernelspec": {
   "display_name": "Python 2",
   "language": "python",
   "name": "python2"
  },
  "language_info": {
   "codemirror_mode": {
    "name": "ipython",
    "version": 2
   },
   "file_extension": ".py",
   "mimetype": "text/x-python",
   "name": "python",
   "nbconvert_exporter": "python",
   "pygments_lexer": "ipython2",
   "version": "2.7.14"
  }
 },
 "nbformat": 4,
 "nbformat_minor": 2
}
