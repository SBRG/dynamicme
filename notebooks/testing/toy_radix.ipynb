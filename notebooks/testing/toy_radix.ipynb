{
 "cells": [
  {
   "cell_type": "markdown",
   "metadata": {
    "deletable": true,
    "editable": true
   },
   "source": [
    "# Toy example for Radix-based Benders"
   ]
  },
  {
   "cell_type": "code",
   "execution_count": 1,
   "metadata": {
    "collapsed": true,
    "deletable": true,
    "editable": true
   },
   "outputs": [],
   "source": [
    "SCALE_CROWDING= False\n",
    "PREVENT_ZERO  = True"
   ]
  },
  {
   "cell_type": "code",
   "execution_count": 2,
   "metadata": {
    "collapsed": false,
    "deletable": true,
    "editable": true
   },
   "outputs": [],
   "source": [
    "%load_ext line_profiler"
   ]
  },
  {
   "cell_type": "code",
   "execution_count": 3,
   "metadata": {
    "collapsed": false,
    "deletable": true,
    "editable": true
   },
   "outputs": [
    {
     "name": "stdout",
     "output_type": "stream",
     "text": [
      "(<type 'exceptions.ImportError'>, ImportError('No module named cplex',), <traceback object at 0x7f9b7010aef0>)\n"
     ]
    }
   ],
   "source": [
    "from gurobipy import *\n",
    "\n",
    "import seaborn as sns\n",
    "import pandas as pd\n",
    "import matplotlib.pyplot as plt\n",
    "import numpy as np\n",
    "\n",
    "plt.rcParams['svg.fonttype'] = 'none'\n",
    "pd.set_option('display.max_colwidth', -1)\n",
    "%matplotlib inline\n",
    "\n",
    "from dynamicme.decomposition import Decomposer\n",
    "from dynamicme.callback_gurobi import cb_benders\n",
    "from dynamicme.optimize import Optimizer, StackOptimizer\n",
    "from dynamicme.optimize import Constraint, Variable\n",
    "\n",
    "from cobra.io import load_json_model\n",
    "from cobra import Metabolite, Reaction\n",
    "from six import iteritems\n",
    "\n",
    "import numpy as np\n",
    "import cobra"
   ]
  },
  {
   "cell_type": "markdown",
   "metadata": {
    "deletable": true,
    "editable": true
   },
   "source": [
    "### Try optimizing using radix for one condition first"
   ]
  },
  {
   "cell_type": "code",
   "execution_count": 4,
   "metadata": {
    "collapsed": false,
    "deletable": true,
    "editable": true
   },
   "outputs": [],
   "source": [
    "#----------------------------------------\n",
    "# Starting from basal model\n",
    "ijomc = load_json_model('/home/laurence/ME/models/BiGG_M/json/e_coli_core.json')\n",
    "keff0 = 1./65/3600\n",
    "#crowding_bound = 0.0003\n",
    "crowding_bound0 = 0.001\n",
    "crowding_bound  = crowding_bound0\n",
    "not_crowded = ['ATPM']\n",
    "rxns_c = [r for r in ijomc.reactions if all([m.compartment=='c' for m in r.metabolites.keys()]) and 'BIOMASS' not in r.id and r.id not in not_crowded]\n",
    "crowding_dict = {rxn:keff0 for rxn in rxns_c}\n",
    "#----------------------------------------\n",
    "\n",
    "# Temporarily add crowding constraint for the duality gap constraint\n",
    "crowding = Constraint('crowding')\n",
    "crowding._bound = crowding_bound\n",
    "crowding._constraint_sense = 'L'\n",
    "for rxn,keff in iteritems(crowding_dict):\n",
    "    rxn.add_metabolites({crowding:keff})"
   ]
  },
  {
   "cell_type": "code",
   "execution_count": 5,
   "metadata": {
    "collapsed": false,
    "deletable": true,
    "editable": true
   },
   "outputs": [
    {
     "name": "stdout",
     "output_type": "stream",
     "text": [
      "0.873921506968\n"
     ]
    }
   ],
   "source": [
    "ijomc.optimize()\n",
    "mu_crowd0 = ijomc.reactions.BIOMASS_Ecoli_core_w_GAM.x\n",
    "print(mu_crowd0)"
   ]
  },
  {
   "cell_type": "code",
   "execution_count": 6,
   "metadata": {
    "collapsed": false,
    "deletable": true,
    "editable": true
   },
   "outputs": [],
   "source": [
    "opt = Optimizer(ijomc)\n",
    "gap = opt.add_duality_gap_constraint(INF=1e3)"
   ]
  },
  {
   "cell_type": "code",
   "execution_count": 7,
   "metadata": {
    "collapsed": false,
    "deletable": true,
    "editable": true
   },
   "outputs": [
    {
     "data": {
      "text/plain": [
       "<Solution 1.75 at 0x7f9bb403b750>"
      ]
     },
     "execution_count": 7,
     "metadata": {},
     "output_type": "execute_result"
    }
   ],
   "source": [
    "gap.optimize(solver='gurobi')"
   ]
  },
  {
   "cell_type": "code",
   "execution_count": 8,
   "metadata": {
    "collapsed": false,
    "deletable": true,
    "editable": true
   },
   "outputs": [
    {
     "name": "stdout",
     "output_type": "stream",
     "text": [
      "[-3 -2 -1  0  1  2  3]\n",
      "[1.0]\n"
     ]
    },
    {
     "name": "stderr",
     "output_type": "stream",
     "text": [
      "/usr/lib/python2.7/site-packages/ipykernel/__main__.py:8 \u001b[1;31mDeprecationWarning\u001b[0m: object of type <type 'float'> cannot be safely interpreted as an integer.\n"
     ]
    }
   ],
   "source": [
    "import numpy as np\n",
    "\n",
    "radix = 2.\n",
    "powers = np.arange(-3,4)\n",
    "print(powers)\n",
    "digits_per_power = radix\n",
    "pwr_max = max(powers)\n",
    "digits = list(set(np.linspace(1, radix-1, digits_per_power)))\n",
    "print(digits)\n",
    "\n",
    "# Discretize crowding coefficients into radix\n",
    "crowding_p = gap.metabolites.crowding\n",
    "\n",
    "var_cons_dict = {}\n",
    "for rxn_p in crowding_p.reactions:\n",
    "    # Get the coefficient in the dual\n",
    "    var_d = gap.reactions.wa_crowding\n",
    "    cons_ds = [m for m in var_d.metabolites.keys() if rxn_p.id==m.id]\n",
    "    a0 = rxn_p.metabolites[crowding_p]    \n",
    "    var_cons_dict[rxn_p.id] = [(rxn_p, crowding_p, a0)] + [(var_d, cons_d, a0) for cons_d in cons_ds]"
   ]
  },
  {
   "cell_type": "code",
   "execution_count": 9,
   "metadata": {
    "collapsed": false,
    "deletable": true,
    "editable": true
   },
   "outputs": [],
   "source": [
    "#%lprun -f opt.to_radix opt.to_radix(gap, var_cons_dict, radix, powers, digits_per_power)"
   ]
  },
  {
   "cell_type": "code",
   "execution_count": 10,
   "metadata": {
    "collapsed": false,
    "deletable": true,
    "editable": true
   },
   "outputs": [
    {
     "name": "stdout",
     "output_type": "stream",
     "text": [
      "CPU times: user 129 ms, sys: 13.8 ms, total: 142 ms\n",
      "Wall time: 131 ms\n"
     ]
    },
    {
     "data": {
      "text/plain": [
       "[1.0]"
      ]
     },
     "execution_count": 10,
     "metadata": {},
     "output_type": "execute_result"
    }
   ],
   "source": [
    "%%time\n",
    "opt.to_radix(gap, var_cons_dict, radix, powers, digits=digits, prevent_zero=PREVENT_ZERO)"
   ]
  },
  {
   "cell_type": "code",
   "execution_count": 11,
   "metadata": {
    "collapsed": true,
    "deletable": true,
    "editable": true
   },
   "outputs": [],
   "source": [
    "### Try scaling\n",
    "if SCALE_CROWDING:\n",
    "    crowding = gap.metabolites.crowding\n",
    "    bound0  = crowding._bound\n",
    "    f_scale = crowding._bound\n",
    "    crowding._bound = bound0 / f_scale\n",
    "    for rxn in crowding.reactions:\n",
    "        rxn._metabolites[crowding] = rxn._metabolites[crowding]/f_scale"
   ]
  },
  {
   "cell_type": "code",
   "execution_count": 12,
   "metadata": {
    "collapsed": true,
    "deletable": true,
    "editable": true
   },
   "outputs": [],
   "source": [
    "# for rxn in gap.reactions:\n",
    "#     rxn.objective_coefficient = 0.\n",
    "# for rxn in gap.reactions.query('binary'):\n",
    "#     rxn.objective_coefficient = 1.\n",
    "    \n",
    "for rxn in gap.reactions:\n",
    "    rxn.objective_coefficient = 0.\n",
    "\n",
    "for group_id in var_cons_dict.keys():\n",
    "    for l,pwr in enumerate(powers):\n",
    "        for k,digit in enumerate(digits):\n",
    "            yid = 'binary_%s%s%s'%(group_id,k,l)\n",
    "            y   = gap.reactions.get_by_id(yid)\n",
    "            ### PREFER pwr=0, digit=1\n",
    "            if pwr==0 and digit==1:\n",
    "                #print('Preferring a0')\n",
    "                y.objective_coefficient = 0.\n",
    "            else:\n",
    "                y.objective_coefficient = 1."
   ]
  },
  {
   "cell_type": "code",
   "execution_count": 13,
   "metadata": {
    "collapsed": false,
    "deletable": true,
    "editable": true
   },
   "outputs": [],
   "source": [
    "N_CONDS = 1\n",
    "\n",
    "df_meas = pd.read_csv('/home/laurence/ME/data/dynamicME/beg/growth_meas.csv')\n",
    "ex_rxns = [r.id for r in ijomc.reactions.query('EX_')]\n",
    "df_meas = df_meas[ df_meas.ex_rxn.isin(ex_rxns)]\n",
    "conds = df_meas.substrate.unique()\n",
    "df_conds = pd.DataFrame([{'cond':r['substrate'], 'rxn':ex_rxn, 'lb':-10 if r['ex_rxn']==ex_rxn else 0, 'ub':1000., 'obj':0.} for i,r in df_meas.iterrows() for ex_rxn in ex_rxns])\n",
    "df_conds = df_conds[ df_conds.cond.isin(conds[0:N_CONDS])]"
   ]
  },
  {
   "cell_type": "code",
   "execution_count": 14,
   "metadata": {
    "collapsed": false,
    "deletable": true,
    "editable": true
   },
   "outputs": [
    {
     "name": "stdout",
     "output_type": "stream",
     "text": [
      "Initial mu_crowd=0.873922. Fitting within 2% of measured: 0.7252 <= mu <= 0.7548\n"
     ]
    }
   ],
   "source": [
    "mu_meas = 0.74\n",
    "\n",
    "F_TOL = 0.02\n",
    "rxn_mu = gap.reactions.BIOMASS_Ecoli_core_w_GAM\n",
    "rxn_mu.lower_bound = mu_meas*(1-F_TOL)\n",
    "rxn_mu.upper_bound = mu_meas*(1+F_TOL)\n",
    "print('Initial mu_crowd=%g. Fitting within %g%% of measured: %g <= mu <= %g' % (mu_crowd0, 100*F_TOL, rxn_mu.lower_bound, rxn_mu.upper_bound))\n",
    "\n",
    "    \n",
    "from cobra.solvers import gurobi_solver\n",
    "from gurobipy import *\n",
    "\n",
    "milp = gurobi_solver.create_problem(gap)\n",
    "milp.ModelSense = GRB.MINIMIZE"
   ]
  },
  {
   "cell_type": "code",
   "execution_count": 15,
   "metadata": {
    "collapsed": false,
    "deletable": true,
    "editable": true,
    "scrolled": true
   },
   "outputs": [
    {
     "name": "stdout",
     "output_type": "stream",
     "text": [
      "Changed value of parameter OutputFlag to 1\n",
      "   Prev: 0  Min: 0  Max: 1  Default: 1\n",
      "Optimize a model with 3241 rows, 1366 columns and 8628 nonzeros\n",
      "Variable types: 1030 continuous, 336 integer (0 binary)\n",
      "Coefficient statistics:\n",
      "  Matrix range     [5e-07, 1e+03]\n",
      "  Objective range  [1e+00, 1e+00]\n",
      "  Bounds range     [7e-01, 1e+03]\n",
      "  RHS range        [1e-03, 1e+03]\n",
      "Presolve removed 935 rows and 127 columns\n",
      "Presolve time: 0.02s\n",
      "Presolved: 2306 rows, 1239 columns, 6871 nonzeros\n",
      "Variable types: 903 continuous, 336 integer (336 binary)\n",
      "\n",
      "Root relaxation: objective 4.676603e-01, 1259 iterations, 0.02 seconds\n",
      "\n",
      "    Nodes    |    Current Node    |     Objective Bounds      |     Work\n",
      " Expl Unexpl |  Obj  Depth IntInf | Incumbent    BestBd   Gap | It/Node Time\n",
      "\n",
      "     0     0    0.46766    0    5          -    0.46766      -     -    0s\n",
      "     0     0    0.47707    0    5          -    0.47707      -     -    0s\n",
      "     0     0    0.75120    0    5          -    0.75120      -     -    0s\n",
      "     0     2    0.75120    0    5          -    0.75120      -     -    0s\n",
      "*  169    65              38       3.0000000    1.00000  66.7%   7.7    0s\n",
      "*  329     1               6       2.0000000    1.86752  6.62%   6.6    0s\n",
      "\n",
      "Cutting planes:\n",
      "  MIR: 1\n",
      "\n",
      "Explored 332 nodes (3557 simplex iterations) in 0.40 seconds\n",
      "Thread count was 8 (of 8 available processors)\n",
      "\n",
      "Solution count 2: 2 3 \n",
      "\n",
      "Optimal solution found (tolerance 1.00e-04)\n",
      "Best objective 2.000000000000e+00, best bound 2.000000000000e+00, gap 0.0000%\n"
     ]
    }
   ],
   "source": [
    "milp.Params.FeasibilityTol = 1e-9\n",
    "milp.Params.OptimalityTol = 1e-9\n",
    "milp.Params.IntFeasTol = 1e-9\n",
    "milp.Params.OutputFlag = 1\n",
    "milp.optimize()"
   ]
  },
  {
   "cell_type": "code",
   "execution_count": 16,
   "metadata": {
    "collapsed": false,
    "deletable": true,
    "editable": true
   },
   "outputs": [
    {
     "name": "stdout",
     "output_type": "stream",
     "text": [
      "Initial mu_crowd=0.873922. Fitted within 2%: 0.7252 <= 0.750318 <= 0.7548\n",
      "Number of non-zero binaries: 50\n"
     ]
    }
   ],
   "source": [
    "#gap.optimize('minimize')\n",
    "rxn_mu =gap.reactions.BIOMASS_Ecoli_core_w_GAM \n",
    "#muopt = rxn_mu\n",
    "sol = gurobi_solver.format_solution(milp, gap)\n",
    "muopt = sol.x_dict[rxn_mu.id]\n",
    "yopt = [sol.x_dict[rxn.id] for rxn in gap.reactions.query('binary_')]\n",
    "sum(yopt)\n",
    "print('Initial mu_crowd=%g. Fitted within %g%%: %g <= %g <= %g' % (mu_crowd0, 100*F_TOL, rxn_mu.lower_bound, muopt, rxn_mu.upper_bound))\n",
    "print('Number of non-zero binaries: %g' % sum(yopt))"
   ]
  },
  {
   "cell_type": "code",
   "execution_count": 17,
   "metadata": {
    "collapsed": false,
    "deletable": true,
    "editable": true,
    "scrolled": true
   },
   "outputs": [
    {
     "name": "stdout",
     "output_type": "stream",
     "text": [
      "binary_G6PDH2r03 1.0\n",
      "binary_AKGDH03 1.0\n",
      "binary_ME203 1.0\n",
      "binary_MALS03 1.0\n",
      "binary_GLUN03 1.0\n",
      "binary_ME103 1.0\n",
      "binary_PGI03 1.0\n",
      "binary_GND03 1.0\n",
      "binary_ACKr03 1.0\n",
      "binary_GLNS03 1.0\n",
      "binary_FUM03 1.0\n",
      "binary_SUCDi03 1.0\n",
      "binary_PPC03 1.0\n",
      "binary_MDH03 1.0\n",
      "binary_GLUDy03 1.0\n",
      "binary_GLUSy03 1.0\n",
      "binary_PGL03 1.0\n",
      "binary_PGM03 1.0\n",
      "binary_ACALD03 1.0\n",
      "binary_PGK03 1.0\n",
      "binary_ADK103 1.0\n",
      "binary_PPS03 1.0\n",
      "binary_PTAr03 1.0\n",
      "binary_RPE03 1.0\n",
      "binary_ALCD2x03 1.0\n",
      "binary_SUCOAS03 1.0\n",
      "binary_TALA03 1.0\n",
      "binary_NADTRHD03 1.0\n",
      "binary_ICDHyr03 1.0\n",
      "binary_GAPD03 1.0\n",
      "binary_GAPD05 1.0\n",
      "binary_GAPD06 1.0\n",
      "binary_ICL03 1.0\n",
      "binary_TPI03 1.0\n",
      "binary_ENO03 1.0\n",
      "binary_ACONTa03 1.0\n",
      "binary_RPI03 1.0\n",
      "binary_ACONTb03 1.0\n",
      "binary_PDH03 1.0\n",
      "binary_CS03 1.0\n",
      "binary_TKT203 1.0\n",
      "binary_FBP03 1.0\n",
      "binary_PPCK03 1.0\n",
      "binary_TKT103 1.0\n",
      "binary_PFK03 1.0\n",
      "binary_PFL03 1.0\n",
      "binary_FBA03 1.0\n",
      "binary_PYK03 1.0\n",
      "binary_LDH_D03 1.0\n",
      "binary_FRD703 1.0\n"
     ]
    }
   ],
   "source": [
    "# Fitted parameters\n",
    "kfit_dict = {}\n",
    "for group_id, var_dict in iteritems(var_cons_dict):\n",
    "    var = var_dict[0]\n",
    "    cons = var_dict[1]\n",
    "    a0  = var_dict[0][2]\n",
    "    kfit = 0.\n",
    "    for l,pwr in enumerate(powers):\n",
    "        for k,digit in enumerate(digits):            \n",
    "            yid = 'binary_%s%s%s' % (group_id,k,l)\n",
    "            y   = sol.x_dict[yid]\n",
    "            if abs(y)>1e-10:\n",
    "                print yid, y\n",
    "            kfit += y*a0*radix**pwr*digit\n",
    "    kfit_dict[group_id] = kfit"
   ]
  },
  {
   "cell_type": "code",
   "execution_count": 18,
   "metadata": {
    "collapsed": true,
    "deletable": true,
    "editable": true
   },
   "outputs": [],
   "source": [
    "kfit_dict1 = dict(kfit_dict)"
   ]
  },
  {
   "cell_type": "code",
   "execution_count": 19,
   "metadata": {
    "collapsed": false,
    "deletable": true,
    "editable": true
   },
   "outputs": [
    {
     "data": {
      "text/plain": [
       "('Binaries per keff:', 7)"
      ]
     },
     "execution_count": 19,
     "metadata": {},
     "output_type": "execute_result"
    }
   ],
   "source": [
    "'Binaries per keff:', len(gap.reactions.query('binary')) / len(kfit_dict)"
   ]
  },
  {
   "cell_type": "code",
   "execution_count": 20,
   "metadata": {
    "collapsed": false,
    "deletable": true,
    "editable": true
   },
   "outputs": [
    {
     "data": {
      "text/plain": [
       "48"
      ]
     },
     "execution_count": 20,
     "metadata": {},
     "output_type": "execute_result"
    }
   ],
   "source": [
    "len(var_cons_dict)"
   ]
  },
  {
   "cell_type": "code",
   "execution_count": 21,
   "metadata": {
    "collapsed": false,
    "deletable": true,
    "editable": true
   },
   "outputs": [
    {
     "data": {
      "text/plain": [
       "[(u'G6PDH2r', 4.273504273504274e-06),\n",
       " (u'AKGDH', 4.273504273504274e-06),\n",
       " (u'ME2', 4.273504273504274e-06),\n",
       " (u'PGK', 4.273504273504274e-06),\n",
       " (u'GLUN', 4.273504273504274e-06),\n",
       " (u'ME1', 4.273504273504274e-06),\n",
       " (u'GND', 4.273504273504274e-06),\n",
       " (u'ACKr', 4.273504273504274e-06),\n",
       " (u'GLNS', 4.273504273504274e-06),\n",
       " (u'ADK1', 4.273504273504274e-06),\n",
       " (u'SUCDi', 4.273504273504274e-06),\n",
       " (u'PPC', 4.273504273504274e-06),\n",
       " (u'MDH', 4.273504273504274e-06),\n",
       " (u'FUM', 4.273504273504274e-06),\n",
       " (u'GLUDy', 4.273504273504274e-06),\n",
       " (u'GLUSy', 4.273504273504274e-06),\n",
       " (u'PGL', 4.273504273504274e-06),\n",
       " (u'PGM', 4.273504273504274e-06),\n",
       " (u'ACALD', 4.273504273504274e-06),\n",
       " (u'MALS', 4.273504273504274e-06),\n",
       " (u'PGI', 4.273504273504274e-06),\n",
       " (u'PPS', 4.273504273504274e-06),\n",
       " (u'PTAr', 4.273504273504274e-06),\n",
       " (u'RPE', 4.273504273504274e-06),\n",
       " (u'ALCD2x', 4.273504273504274e-06),\n",
       " (u'SUCOAS', 4.273504273504274e-06),\n",
       " (u'TALA', 4.273504273504274e-06),\n",
       " (u'NADTRHD', 4.273504273504274e-06),\n",
       " (u'ICDHyr', 4.273504273504274e-06),\n",
       " (u'GAPD', 5.555555555555556e-05),\n",
       " (u'ICL', 4.273504273504274e-06),\n",
       " (u'TPI', 4.273504273504274e-06),\n",
       " (u'ENO', 4.273504273504274e-06),\n",
       " (u'ACONTa', 4.273504273504274e-06),\n",
       " (u'RPI', 4.273504273504274e-06),\n",
       " (u'ACONTb', 4.273504273504274e-06),\n",
       " (u'PDH', 4.273504273504274e-06),\n",
       " (u'CS', 4.273504273504274e-06),\n",
       " (u'TKT1', 4.273504273504274e-06),\n",
       " (u'FBP', 4.273504273504274e-06),\n",
       " (u'TKT2', 4.273504273504274e-06),\n",
       " (u'PPCK', 4.273504273504274e-06),\n",
       " (u'PFK', 4.273504273504274e-06),\n",
       " (u'PFL', 4.273504273504274e-06),\n",
       " (u'FBA', 4.273504273504274e-06),\n",
       " (u'PYK', 4.273504273504274e-06),\n",
       " (u'LDH_D', 4.273504273504274e-06),\n",
       " (u'FRD7', 4.273504273504274e-06)]"
      ]
     },
     "execution_count": 21,
     "metadata": {},
     "output_type": "execute_result"
    }
   ],
   "source": [
    "[(k,v) for k,v in iteritems(kfit_dict) if abs(v)>1e-10]"
   ]
  },
  {
   "cell_type": "code",
   "execution_count": 22,
   "metadata": {
    "collapsed": false
   },
   "outputs": [
    {
     "name": "stdout",
     "output_type": "stream",
     "text": [
      "Changed keffs: 1/48\n"
     ]
    },
    {
     "data": {
      "text/plain": [
       "[(u'GAPD', 5.555555555555556e-05, 12.0)]"
      ]
     },
     "execution_count": 22,
     "metadata": {},
     "output_type": "execute_result"
    }
   ],
   "source": [
    "kfit_changed = [(k,v, abs(v-a0)/a0) for k,v in iteritems(kfit_dict) if abs(v-a0)/a0>1e-6]\n",
    "print('Changed keffs: %d/%d' % (len(kfit_changed), len(var_cons_dict)))\n",
    "kfit_changed"
   ]
  },
  {
   "cell_type": "markdown",
   "metadata": {
    "deletable": true,
    "editable": true
   },
   "source": [
    "### Plug back in to be sure"
   ]
  },
  {
   "cell_type": "code",
   "execution_count": 23,
   "metadata": {
    "collapsed": false,
    "deletable": true,
    "editable": true
   },
   "outputs": [
    {
     "data": {
      "text/plain": [
       "'Unoptimized: 0.873922. Fitted: 0.750318'"
      ]
     },
     "execution_count": 23,
     "metadata": {},
     "output_type": "execute_result"
    }
   ],
   "source": [
    "#----------------------------------------\n",
    "# Starting from basal model\n",
    "ijofit = load_json_model('/home/laurence/ME/models/BiGG_M/json/e_coli_core.json')\n",
    "crowding = Constraint('crowding')\n",
    "crowding._bound = crowding_bound0\n",
    "crowding._constraint_sense = 'L'\n",
    "for rid,kfit in iteritems(kfit_dict):\n",
    "    rxn = ijofit.reactions.get_by_id(rid)\n",
    "    rxn.add_metabolites({crowding:kfit})\n",
    "\n",
    "ijofit.optimize()\n",
    "ijofit.reactions.BIOMASS_Ecoli_core_w_GAM.x\n",
    "\n",
    "'Unoptimized: %g. Fitted: %g' % (mu_crowd0, ijofit.reactions.BIOMASS_Ecoli_core_w_GAM.x)"
   ]
  },
  {
   "cell_type": "markdown",
   "metadata": {
    "deletable": true,
    "editable": true
   },
   "source": [
    "# Try using Benders"
   ]
  },
  {
   "cell_type": "code",
   "execution_count": 24,
   "metadata": {
    "collapsed": false,
    "deletable": true,
    "editable": true
   },
   "outputs": [],
   "source": [
    "decomp = Decomposer(gap, objective_sense='minimize')"
   ]
  },
  {
   "cell_type": "code",
   "execution_count": 25,
   "metadata": {
    "collapsed": false,
    "deletable": true,
    "editable": true
   },
   "outputs": [
    {
     "name": "stdout",
     "output_type": "stream",
     "text": [
      "Changed value of parameter Presolve to 0\n",
      "   Prev: -1  Min: -1  Max: 2  Default: -1\n",
      "Changed value of parameter LazyConstraints to 1\n",
      "   Prev: 0  Min: 0  Max: 1  Default: 0\n",
      "Changed value of parameter IntFeasTol to 1e-09\n",
      "   Prev: 1e-05  Min: 1e-09  Max: 0.1  Default: 1e-05\n",
      "Changed value of parameter InfUnbdInfo to 1\n",
      "   Prev: 0  Min: 0  Max: 1  Default: 0\n",
      "Parameter presolve unchanged\n",
      "   Value: 0  Min: -1  Max: 2  Default: -1\n",
      "Changed value of parameter presolve to 0\n",
      "   Prev: -1  Min: -1  Max: 2  Default: -1\n",
      "Changed value of parameter FeasibilityTol to 1e-09\n",
      "   Prev: 1e-06  Min: 1e-09  Max: 0.01  Default: 1e-06\n",
      "Changed value of parameter OptimalityTol to 1e-09\n",
      "   Prev: 1e-06  Min: 1e-09  Max: 0.01  Default: 1e-06\n",
      "Changed value of parameter Method to 0\n",
      "   Prev: -1  Min: -1  Max: 5  Default: -1\n"
     ]
    }
   ],
   "source": [
    "master,sub = decomp.benders_decomp()\n",
    "\n",
    "master.Params.presolve = 0\n",
    "sub.Params.presolve = 0\n",
    "\n",
    "master.Params.FeasibilityTol = 1e-9\n",
    "master.Params.OptimalityTol = 1e-9\n",
    "\n",
    "sub.Params.Method = 0\n",
    "sub.Params.OutputFlag = 0\n",
    "\n",
    "sub.Params.FeasibilityTol = 1e-9\n",
    "sub.Params.OptimalityTol = 1e-9\n",
    "\n",
    "master._verbosity = 0\n",
    "master._precision_sub = 'gurobi' #'dq'\n",
    "master.Params.OutputFlag=0"
   ]
  },
  {
   "cell_type": "code",
   "execution_count": 26,
   "metadata": {
    "collapsed": false
   },
   "outputs": [],
   "source": [
    "# ybad = np.array([0. for y in decomp._ys])\n",
    "# psub = decomp.make_sub_primal(ybad)\n",
    "# psub.model.Params.InfUnbdInfo=1\n",
    "# psub.model.optimize()"
   ]
  },
  {
   "cell_type": "code",
   "execution_count": 27,
   "metadata": {
    "collapsed": false
   },
   "outputs": [],
   "source": [
    "# ### DEBUG ****************\n",
    "# # Test an unbounded subproblem using a yopt that is known to be infeasible for primal\n",
    "# ybad = np.array([0. for y in decomp._ys])\n",
    "# decomp.update_subobj(ybad)\n",
    "# sub.model.Params.ModelSense = GRB.MAXIMIZE\n",
    "# sub.optimize()\n",
    "# print('Status: %s' % sub.model.Status)\n",
    "# print('Status is unbounded: %s' % (sub.model.Status==GRB.UNBOUNDED))\n",
    "# print('Obj val: %s' %sub.ObjVal)"
   ]
  },
  {
   "cell_type": "code",
   "execution_count": 28,
   "metadata": {
    "collapsed": false,
    "deletable": true,
    "editable": true
   },
   "outputs": [],
   "source": [
    "WARM_START_BENDERS = False\n",
    "# **** DEBUG: warm-start with known solution ****\n",
    "if WARM_START_BENDERS:\n",
    "    for yj in master.getVars():\n",
    "        if 'binary' in yj.VarName:\n",
    "            yj.Start = sol.x_dict[yj.VarName]\n",
    "            if sol.x_dict[yj.VarName] > 1e-10:\n",
    "                print((yj, sol.x_dict[yj.VarName]))"
   ]
  },
  {
   "cell_type": "code",
   "execution_count": 29,
   "metadata": {
    "collapsed": false,
    "deletable": true,
    "editable": true,
    "scrolled": true
   },
   "outputs": [
    {
     "name": "stdout",
     "output_type": "stream",
     "text": [
      "Changed value of parameter OutputFlag to 1\n",
      "   Prev: 0  Min: 0  Max: 1  Default: 1\n",
      "Optimize a model with 385 rows, 337 columns and 961 nonzeros\n",
      "Variable types: 1 continuous, 336 integer (0 binary)\n",
      "Coefficient statistics:\n",
      "  Matrix range     [1e+00, 1e+00]\n",
      "  Objective range  [1e+00, 1e+00]\n",
      "  Bounds range     [1e+00, 1e+03]\n",
      "  RHS range        [9e-01, 1e+00]\n",
      "Variable types: 1 continuous, 336 integer (336 binary)\n",
      "\n",
      "Root relaxation: objective 1.126606e-01, 57 iterations, 0.00 seconds\n",
      "\n",
      "    Nodes    |    Current Node    |     Objective Bounds      |     Work\n",
      " Expl Unexpl |  Obj  Depth IntInf | Incumbent    BestBd   Gap | It/Node Time\n",
      "\n",
      "     0     0    0.11266    0   31          -    0.11266      -     -    0s\n",
      "     0     0    1.00000    0    4          -    1.00000      -     -    0s\n",
      "     0     0    1.00000    0    6          -    1.00000      -     -    0s\n",
      "     0     0    1.00000    0    6          -    1.00000      -     -    0s\n",
      "     0     0    1.00000    0    2          -    1.00000      -     -    0s\n",
      "     0     2    1.00000    0    2          -    1.00000      -     -    0s\n",
      "   293   290    1.34010   75    8          -    1.00000      -   2.7    6s\n",
      "   566   551    2.00000   51    3          -    1.00000      -   2.3   12s\n",
      "   728   705    2.03824   58    4          -    1.00000      -   2.1   15s\n",
      "  1091  1027    6.87345  152    2          -    1.00000      -   2.1   22s\n",
      "  1104  1036    3.54046   79    4          -    1.00000      -   2.1   25s\n",
      "  1264  1142    1.14671   35   12          -    1.00000      -   3.7   30s\n",
      "  1476  1290    2.97157   61    1          -    1.00000      -   3.7   35s\n",
      "  1724  1425    2.70026   95    6          -    1.00000      -   3.7   40s\n",
      "H 1796  1388                       8.0000000    1.00000  87.5%   3.6   42s\n",
      "  1914  1424     cutoff  119         8.00000    1.00000  87.5%   3.7   45s\n",
      "  2111  1528    2.00000   48    2    8.00000    1.00000  87.5%   3.6   50s\n",
      "* 2370  1034              73       3.0000000    1.00000  66.7%   3.4   55s\n",
      "  2632  1129    2.04522   61   11    3.00000    1.00000  66.7%   3.4   60s\n",
      "  2845  1214    1.89002   47    9    3.00000    1.00000  66.7%   3.4   65s\n",
      "  3115  1298    1.79256   48   11    3.00000    1.00000  66.7%   3.3   70s\n",
      "  3350  1392    2.81467   78    6    3.00000    1.00000  66.7%   3.3   75s\n",
      "  3625  1508     cutoff   65         3.00000    1.00000  66.7%   3.2   80s\n",
      "  3872  1554    2.88654   50    2    3.00000    1.14763  61.7%   3.2   85s\n",
      "  4180  1753    1.70370   39   10    3.00000    1.14763  61.7%   3.2   92s\n",
      "  4347  1865    2.16437   67    9    3.00000    1.14763  61.7%   3.2   95s\n",
      "  4568  1965    1.80000   38    9    3.00000    1.20421  59.9%   3.1  100s\n",
      "  4831  2105    1.75866   52    8    3.00000    1.24153  58.6%   3.2  105s\n",
      "  5118  2310    2.34587   74    7    3.00000    1.24153  58.6%   3.1  111s\n",
      "  5409  2486    2.16865   61    5    3.00000    1.39183  53.6%   3.1  117s\n",
      "  5631  2626    2.90000   65    4    3.00000    1.41831  52.7%   3.1  123s\n",
      "  5820  2746    2.07088   65    6    3.00000    1.43029  52.3%   3.1  128s\n",
      "  6037  2881    2.88057   80   10    3.00000    1.44720  51.8%   3.0  134s\n",
      "  6191  2977    1.80000   28   13    3.00000    1.48118  50.6%   3.0  138s\n",
      "  6335  3073    2.01232   46   12    3.00000    1.48416  50.5%   3.0  142s\n",
      "  6449  3142    2.31995   55    7    3.00000    1.48416  50.5%   3.0  145s\n",
      "  6816  3379     cutoff   69         3.00000    1.50398  49.9%   3.0  154s\n",
      "  7049  3529    1.68540   34   12    3.00000    1.52790  49.1%   3.0  158s\n",
      "  7210  3644    2.86047   83    5    3.00000    1.54115  48.6%   3.0  162s\n",
      "  7391  3756     cutoff   62         3.00000    1.56106  48.0%   3.0  165s\n",
      "  7813  3987    2.88807   50    8    3.00000    1.58385  47.2%   2.9  174s\n",
      "  8037  4084    2.56263   48    8    3.00000    1.59552  46.8%   2.9  178s\n",
      "  8249  4225    2.09415   59    5    3.00000    1.59914  46.7%   2.9  183s\n",
      "  8484  4413     cutoff   59         3.00000    1.60861  46.4%   2.9  188s\n",
      "  8714  4536    2.89704   66    6    3.00000    1.62724  45.8%   2.9  193s\n",
      "  8891  4646    2.44604   20   19    3.00000    1.63565  45.5%   2.9  196s\n",
      "  9157  4796    2.60549   49    6    3.00000    1.64093  45.3%   2.9  202s\n",
      "  9440  4939    1.92177   28   11    3.00000    1.64826  45.1%   2.8  207s\n",
      "  9688  5067     cutoff   48         3.00000    1.66204  44.6%   2.8  213s\n",
      "  9808  5122    1.90742   55    6    3.00000    1.67866  44.0%   2.8  217s\n",
      " 10037  5246    2.90000   41    4    3.00000    1.68512  43.8%   2.8  223s\n",
      " 10240  5364    2.84819   51    2    3.00000    1.68891  43.7%   2.8  228s\n",
      " 10350  5416     cutoff   82         3.00000    1.69034  43.7%   2.8  231s\n",
      " 10694  5621     cutoff   62         3.00000    1.71490  42.8%   2.8  240s\n",
      " 10905  5755    2.90000   23    2    3.00000    1.71490  42.8%   2.8  245s\n",
      " 11271  5950    2.71545   54    3    3.00000    1.73325  42.2%   2.8  253s\n",
      " 11512  6090    2.71803   43    7    3.00000    1.74480  41.8%   2.8  258s\n",
      " 11814  6280    1.95342   43   12    3.00000    1.75376  41.5%   2.8  264s\n",
      " 12013  6377    2.58840   45    7    3.00000    1.75528  41.5%   2.8  268s\n",
      " 12287  6528     cutoff   52         3.00000    1.76799  41.1%   2.8  274s\n",
      " 12360  6553     cutoff   40         3.00000    1.76799  41.1%   2.8  275s\n",
      " 12642  6715    2.80669   62    8    3.00000    1.77713  40.8%   2.8  281s\n",
      " 12868  6797    2.94649   51    4    3.00000    1.78816  40.4%   2.8  286s\n",
      " 13071  6846    2.27500   37    6    3.00000    1.79202  40.3%   2.8  290s\n",
      " 13353  7012    2.44875   54    8    3.00000    1.79903  40.0%   2.8  295s\n",
      " 13583  7141     cutoff   73         3.00000    1.80000  40.0%   2.8  300s\n",
      " 13781  7266     cutoff   47         3.00000    1.80000  40.0%   2.8  305s\n",
      " 14223  7508    2.28399   37   12    3.00000    1.80000  40.0%   2.8  314s\n",
      " 14494  7614    2.78989   45    8    3.00000    1.80000  40.0%   2.8  320s\n",
      " 14715  7736     cutoff   53         3.00000    1.80000  40.0%   2.8  325s\n",
      " 14963  7853    2.59865   41    9    3.00000    1.80000  40.0%   2.8  330s\n",
      " 15160  7943    2.73815   43    6    3.00000    1.80000  40.0%   2.8  337s\n",
      " 15333  8058     cutoff   51         3.00000    1.80000  40.0%   2.8  343s\n",
      " 15521  8149    2.80000   25    4    3.00000    1.80000  40.0%   2.8  348s\n",
      " 15676  8248     cutoff   34         3.00000    1.80000  40.0%   2.8  352s\n",
      " 15892  8347    2.95325   39    5    3.00000    1.80153  39.9%   2.8  359s\n",
      " 16131  8482     cutoff   80         3.00000    1.80857  39.7%   2.8  364s\n",
      " 16422  8645    2.88751   92    3    3.00000    1.81434  39.5%   2.8  370s\n",
      " 16630  8736     cutoff  103         3.00000    1.82285  39.2%   2.8  375s\n",
      " 16882  8845    2.90035   41    3    3.00000    1.82873  39.0%   2.8  380s\n",
      " 17094  8940    2.45419   65    8    3.00000    1.83386  38.9%   2.8  385s\n",
      " 17328  9070    2.55362   45    6    3.00000    1.83686  38.8%   2.8  390s\n",
      " 17637  9231    2.99920   32    5    3.00000    1.84079  38.6%   2.8  397s\n",
      " 17869  9285    2.77294   63    5    3.00000    1.84717  38.4%   2.8  401s\n",
      " 18172  9453    2.75889   70    6    3.00000    1.85510  38.2%   2.8  408s\n",
      " 18357  9521    2.81094   54    6    3.00000    1.86152  37.9%   2.8  412s\n",
      " 18622  9664    2.47177   42    6    3.00000    1.86347  37.9%   2.8  418s\n",
      " 18834  9723    2.84368   49    4    3.00000    1.87064  37.6%   2.8  423s\n",
      " 19132  9824 infeasible   49         3.00000    1.87620  37.5%   2.8  428s\n",
      " 19251  9901    2.34504   46    6    3.00000    1.88047  37.3%   2.8  431s\n",
      " 19660 10076    2.85369   49    7    3.00000    1.89029  37.0%   2.8  440s\n",
      " 19930 10240    2.90000   56    4    3.00000    1.89297  36.9%   2.8  446s\n",
      " 20177 10383    2.70000   36    5    3.00000    1.89896  36.7%   2.8  452s\n",
      " 20342 10444    2.30327   62    6    3.00000    1.90000  36.7%   2.8  456s\n",
      " 20626 10592    1.90823   40   11    3.00000    1.90000  36.7%   2.8  464s\n",
      " 20916 10722    2.73478   46    5    3.00000    1.90000  36.7%   2.8  472s\n",
      " 21228 10887     cutoff   31         3.00000    1.90000  36.7%   2.8  481s\n",
      " 21499 11019    1.92841   35   10    3.00000    1.90000  36.7%   2.8  489s\n",
      " 21884 11131    2.72958   46    5    3.00000    1.90000  36.7%   2.8  500s\n",
      " 22314 11364    2.61532   46    2    3.00000    1.90000  36.7%   2.8  513s\n",
      " 22316 11365    2.13332   36    3    3.00000    1.90000  36.7%   2.8  518s\n",
      " 22318 11367    2.90000   54    7    3.00000    1.90000  36.7%   2.8  520s\n",
      " 22321 11369    2.66085   34    8    3.00000    1.90000  36.7%   2.8  525s\n",
      "H22324 10802                       2.0000000    1.90000  5.00%   2.8  529s\n",
      " 22326 10803    2.00000   36    8    2.00000    1.90000  5.00%   2.8  531s\n",
      " 22328 10804    2.00000   29    7    2.00000    1.90000  5.00%   2.8  535s\n",
      " 22331 10806    2.00000   88    6    2.00000    1.90000  5.00%   2.8  540s\n",
      " 22335 10809    1.93820   53    2    2.00000    1.90000  5.00%   2.8  548s\n",
      " 22336 10812    1.90000   27    5    2.00000    1.90000  5.00%   2.8  550s\n",
      " 22369 10808    1.90000   36   10    2.00000    1.90000  5.00%   2.9  555s\n",
      " 22445 10801    1.90000   40   15    2.00000    1.90000  5.00%   2.9  560s\n",
      " 22565 10794    1.90000   41    9    2.00000    1.90000  5.00%   2.9  565s\n",
      " 22753 10754    1.90000   56   10    2.00000    1.90000  5.00%   2.9  570s\n",
      " 22889 10723    1.90000   40   12    2.00000    1.90000  5.00%   2.9  575s\n",
      "\n",
      "Cutting planes:\n",
      "  Gomory: 3\n",
      "  MIR: 5\n",
      "  Flow cover: 11\n",
      "  Lazy constraints: 59\n",
      "\n",
      "Explored 23155 nodes (68851 simplex iterations) in 579.50 seconds\n",
      "Thread count was 8 (of 8 available processors)\n",
      "\n",
      "Solution count 3: 2 3 8 \n",
      "\n",
      "Optimal solution found (tolerance 1.00e-04)\n",
      "Best objective 2.000000000000e+00, best bound 2.000000000000e+00, gap 0.0000%\n",
      "CPU times: user 35min 53s, sys: 2min 9s, total: 38min 3s\n",
      "Wall time: 9min 39s\n"
     ]
    }
   ],
   "source": [
    "master._verbosity=0\n",
    "master.Params.OutputFlag = 1\n",
    "%time master.optimize(cb_benders)"
   ]
  },
  {
   "cell_type": "code",
   "execution_count": 30,
   "metadata": {
    "collapsed": false,
    "deletable": true,
    "editable": true
   },
   "outputs": [
    {
     "data": {
      "text/plain": [
       "1.9999999999999978"
      ]
     },
     "execution_count": 30,
     "metadata": {},
     "output_type": "execute_result"
    }
   ],
   "source": [
    "master.ObjVal"
   ]
  },
  {
   "cell_type": "code",
   "execution_count": 31,
   "metadata": {
    "collapsed": false,
    "deletable": true,
    "editable": true
   },
   "outputs": [
    {
     "data": {
      "text/plain": [
       "-0.0"
      ]
     },
     "execution_count": 31,
     "metadata": {},
     "output_type": "execute_result"
    }
   ],
   "source": [
    "sub.ObjVal"
   ]
  },
  {
   "cell_type": "code",
   "execution_count": 32,
   "metadata": {
    "collapsed": false,
    "deletable": true,
    "editable": true
   },
   "outputs": [
    {
     "data": {
      "text/plain": [
       "50.0"
      ]
     },
     "execution_count": 32,
     "metadata": {},
     "output_type": "execute_result"
    }
   ],
   "source": [
    "yoptB = np.array([y.X for y in decomp._ys])\n",
    "sum(yoptB)"
   ]
  },
  {
   "cell_type": "code",
   "execution_count": 33,
   "metadata": {
    "collapsed": false,
    "deletable": true,
    "editable": true
   },
   "outputs": [
    {
     "data": {
      "text/plain": [
       "0.7548"
      ]
     },
     "execution_count": 33,
     "metadata": {},
     "output_type": "execute_result"
    }
   ],
   "source": [
    "mu_id = 'BIOMASS_Ecoli_core_w_GAM'\n",
    "\n",
    "cons_mu = sub.model.getConstrByName(str(mu_id))\n",
    "cons_mu.Pi"
   ]
  },
  {
   "cell_type": "code",
   "execution_count": 34,
   "metadata": {
    "collapsed": false,
    "deletable": true,
    "editable": true
   },
   "outputs": [],
   "source": [
    "sol_master = {v.VarName:v.X for v in master.getVars()}"
   ]
  },
  {
   "cell_type": "code",
   "execution_count": 35,
   "metadata": {
    "collapsed": false,
    "deletable": true,
    "editable": true
   },
   "outputs": [
    {
     "name": "stdout",
     "output_type": "stream",
     "text": [
      "binary_G6PDH2r03. Value=1.0. Power=0. Digit=1\n",
      "binary_AKGDH03. Value=1.0. Power=0. Digit=1\n",
      "binary_ME203. Value=1.0. Power=0. Digit=1\n",
      "binary_MALS03. Value=1.0. Power=0. Digit=1\n",
      "binary_GLUN03. Value=1.0. Power=0. Digit=1\n",
      "binary_ME103. Value=1.0. Power=0. Digit=1\n",
      "binary_PGI03. Value=1.0. Power=0. Digit=1\n",
      "binary_GND03. Value=1.0. Power=0. Digit=1\n",
      "binary_ACKr03. Value=1.0. Power=0. Digit=1\n",
      "binary_GLNS03. Value=1.0. Power=0. Digit=1\n",
      "binary_FUM03. Value=1.0. Power=0. Digit=1\n",
      "binary_SUCDi03. Value=1.0. Power=0. Digit=1\n",
      "binary_PPC03. Value=1.0. Power=0. Digit=1\n",
      "binary_MDH03. Value=1.0. Power=0. Digit=1\n",
      "binary_GLUDy03. Value=1.0. Power=0. Digit=1\n",
      "binary_GLUSy03. Value=1.0. Power=0. Digit=1\n",
      "binary_PGL03. Value=1.0. Power=0. Digit=1\n",
      "binary_PGM03. Value=1.0. Power=0. Digit=1\n",
      "binary_ACALD03. Value=1.0. Power=0. Digit=1\n",
      "binary_PGK03. Value=1.0. Power=0. Digit=1\n",
      "binary_ADK103. Value=1.0. Power=0. Digit=1\n",
      "binary_PPS03. Value=1.0. Power=0. Digit=1\n",
      "binary_PTAr03. Value=1.0. Power=0. Digit=1\n",
      "binary_RPE03. Value=1.0. Power=0. Digit=1\n",
      "binary_ALCD2x03. Value=1.0. Power=0. Digit=1\n",
      "binary_SUCOAS03. Value=1.0. Power=0. Digit=1\n",
      "binary_TALA03. Value=1.0. Power=0. Digit=1\n",
      "binary_NADTRHD03. Value=1.0. Power=0. Digit=1\n",
      "binary_ICDHyr03. Value=1.0. Power=0. Digit=1\n",
      "binary_GAPD03. Value=1.0. Power=0. Digit=1\n",
      "binary_GAPD05. Value=1.0. Power=2. Digit=1\n",
      "binary_GAPD06. Value=1.0. Power=3. Digit=1\n",
      "binary_ICL03. Value=1.0. Power=0. Digit=1\n",
      "binary_TPI03. Value=1.0. Power=0. Digit=1\n",
      "binary_ENO03. Value=1.0. Power=0. Digit=1\n",
      "binary_ACONTa03. Value=1.0. Power=0. Digit=1\n",
      "binary_RPI03. Value=1.0. Power=0. Digit=1\n",
      "binary_ACONTb03. Value=1.0. Power=0. Digit=1\n",
      "binary_PDH03. Value=1.0. Power=0. Digit=1\n",
      "binary_CS03. Value=1.0. Power=0. Digit=1\n",
      "binary_TKT203. Value=1.0. Power=0. Digit=1\n",
      "binary_FBP03. Value=1.0. Power=0. Digit=1\n",
      "binary_PPCK03. Value=1.0. Power=0. Digit=1\n",
      "binary_TKT103. Value=1.0. Power=0. Digit=1\n",
      "binary_PFK03. Value=1.0. Power=0. Digit=1\n",
      "binary_PFL03. Value=1.0. Power=0. Digit=1\n",
      "binary_FBA03. Value=1.0. Power=0. Digit=1\n",
      "binary_PYK03. Value=1.0. Power=0. Digit=1\n",
      "binary_LDH_D03. Value=1.0. Power=0. Digit=1\n",
      "binary_FRD703. Value=1.0. Power=0. Digit=1\n"
     ]
    }
   ],
   "source": [
    "# Fitted parameters\n",
    "kfit_dict = {}\n",
    "for group_id, var_dict in iteritems(var_cons_dict):\n",
    "    var = var_dict[0]\n",
    "    cons = var_dict[1]\n",
    "    a0  = var_dict[0][2]\n",
    "    kfit = 0.\n",
    "    for l,pwr in enumerate(powers):\n",
    "        for k,digit in enumerate(digits):            \n",
    "            yid = 'binary_%s%s%s' % (group_id,k,l)\n",
    "            y   = sol_master[yid]\n",
    "            if abs(y)>1e-10:\n",
    "                print('%s. Value=%s. Power=%g. Digit=%g' % (yid, y, pwr, digit))\n",
    "            kfit += y*a0*radix**pwr*digit\n",
    "    kfit_dict[group_id] = kfit"
   ]
  },
  {
   "cell_type": "code",
   "execution_count": 36,
   "metadata": {
    "collapsed": false,
    "deletable": true,
    "editable": true
   },
   "outputs": [
    {
     "data": {
      "text/plain": [
       "[(u'G6PDH2r', 4.273504273504274e-06),\n",
       " (u'AKGDH', 4.273504273504274e-06),\n",
       " (u'ME2', 4.273504273504274e-06),\n",
       " (u'PGK', 4.273504273504274e-06),\n",
       " (u'GLUN', 4.273504273504274e-06),\n",
       " (u'ME1', 4.273504273504274e-06),\n",
       " (u'GND', 4.273504273504274e-06),\n",
       " (u'ACKr', 4.273504273504274e-06),\n",
       " (u'GLNS', 4.273504273504274e-06),\n",
       " (u'ADK1', 4.273504273504274e-06),\n",
       " (u'SUCDi', 4.273504273504274e-06),\n",
       " (u'PPC', 4.273504273504274e-06),\n",
       " (u'MDH', 4.273504273504274e-06),\n",
       " (u'FUM', 4.273504273504274e-06),\n",
       " (u'GLUDy', 4.273504273504274e-06),\n",
       " (u'GLUSy', 4.273504273504274e-06),\n",
       " (u'PGL', 4.273504273504274e-06),\n",
       " (u'PGM', 4.273504273504274e-06),\n",
       " (u'ACALD', 4.273504273504274e-06),\n",
       " (u'MALS', 4.273504273504274e-06),\n",
       " (u'PGI', 4.273504273504274e-06),\n",
       " (u'PPS', 4.273504273504274e-06),\n",
       " (u'PTAr', 4.273504273504274e-06),\n",
       " (u'RPE', 4.273504273504274e-06),\n",
       " (u'ALCD2x', 4.273504273504274e-06),\n",
       " (u'SUCOAS', 4.273504273504274e-06),\n",
       " (u'TALA', 4.273504273504274e-06),\n",
       " (u'NADTRHD', 4.273504273504274e-06),\n",
       " (u'ICDHyr', 4.273504273504274e-06),\n",
       " (u'GAPD', 5.555555555555556e-05),\n",
       " (u'ICL', 4.273504273504274e-06),\n",
       " (u'TPI', 4.273504273504274e-06),\n",
       " (u'ENO', 4.273504273504274e-06),\n",
       " (u'ACONTa', 4.273504273504274e-06),\n",
       " (u'RPI', 4.273504273504274e-06),\n",
       " (u'ACONTb', 4.273504273504274e-06),\n",
       " (u'PDH', 4.273504273504274e-06),\n",
       " (u'CS', 4.273504273504274e-06),\n",
       " (u'TKT1', 4.273504273504274e-06),\n",
       " (u'FBP', 4.273504273504274e-06),\n",
       " (u'TKT2', 4.273504273504274e-06),\n",
       " (u'PPCK', 4.273504273504274e-06),\n",
       " (u'PFK', 4.273504273504274e-06),\n",
       " (u'PFL', 4.273504273504274e-06),\n",
       " (u'FBA', 4.273504273504274e-06),\n",
       " (u'PYK', 4.273504273504274e-06),\n",
       " (u'LDH_D', 4.273504273504274e-06),\n",
       " (u'FRD7', 4.273504273504274e-06)]"
      ]
     },
     "execution_count": 36,
     "metadata": {},
     "output_type": "execute_result"
    }
   ],
   "source": [
    "[(k,v) for k,v in iteritems(kfit_dict) if abs(v)>1e-10]"
   ]
  },
  {
   "cell_type": "code",
   "execution_count": 37,
   "metadata": {
    "collapsed": false,
    "deletable": true,
    "editable": true
   },
   "outputs": [
    {
     "data": {
      "text/plain": [
       "'Unoptimized: 0.873922. Fitted: 0.750318'"
      ]
     },
     "execution_count": 37,
     "metadata": {},
     "output_type": "execute_result"
    }
   ],
   "source": [
    "#----------------------------------------\n",
    "# Starting from basal model\n",
    "ijofit = load_json_model('/home/laurence/ME/models/BiGG_M/json/e_coli_core.json')\n",
    "crowding = Constraint('crowding')\n",
    "crowding._bound = crowding_bound0\n",
    "crowding._constraint_sense = 'L'\n",
    "for rid,kfit in iteritems(kfit_dict):\n",
    "    rxn = ijofit.reactions.get_by_id(rid)\n",
    "    rxn.add_metabolites({crowding:kfit})\n",
    "\n",
    "ijofit.optimize()\n",
    "ijofit.reactions.BIOMASS_Ecoli_core_w_GAM.x\n",
    "\n",
    "'Unoptimized: %g. Fitted: %g' % (mu_crowd0, ijofit.reactions.BIOMASS_Ecoli_core_w_GAM.x)"
   ]
  }
 ],
 "metadata": {
  "kernelspec": {
   "display_name": "Python 2",
   "language": "python",
   "name": "python2"
  },
  "language_info": {
   "codemirror_mode": {
    "name": "ipython",
    "version": 2
   },
   "file_extension": ".py",
   "mimetype": "text/x-python",
   "name": "python",
   "nbconvert_exporter": "python",
   "pygments_lexer": "ipython2",
   "version": "2.7.14"
  }
 },
 "nbformat": 4,
 "nbformat_minor": 2
}
