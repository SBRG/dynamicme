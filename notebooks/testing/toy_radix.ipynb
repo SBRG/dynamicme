{
 "cells": [
  {
   "cell_type": "markdown",
   "metadata": {
    "deletable": true,
    "editable": true
   },
   "source": [
    "# Toy example for Radix-based Benders"
   ]
  },
  {
   "cell_type": "code",
   "execution_count": 1,
   "metadata": {
    "collapsed": false,
    "deletable": true,
    "editable": true
   },
   "outputs": [
    {
     "name": "stdout",
     "output_type": "stream",
     "text": [
      "(<type 'exceptions.ImportError'>, ImportError('No module named cplex',), <traceback object at 0x7f46a2fb72d8>)\n"
     ]
    }
   ],
   "source": [
    "from gurobipy import *\n",
    "\n",
    "import seaborn as sns\n",
    "import pandas as pd\n",
    "import matplotlib.pyplot as plt\n",
    "import numpy as np\n",
    "\n",
    "plt.rcParams['svg.fonttype'] = 'none'\n",
    "pd.set_option('display.max_colwidth', -1)\n",
    "%matplotlib inline\n",
    "\n",
    "from dynamicme.decomposition import Decomposer\n",
    "from dynamicme.callback_gurobi import cb_benders\n",
    "from dynamicme.optimize import Optimizer, StackOptimizer\n",
    "from dynamicme.optimize import Constraint, Variable\n",
    "\n",
    "from cobra.io import load_json_model\n",
    "from cobra import Metabolite, Reaction\n",
    "from six import iteritems\n",
    "\n",
    "import numpy as np\n",
    "import cobra"
   ]
  },
  {
   "cell_type": "markdown",
   "metadata": {},
   "source": [
    "### Try optimizing using radix for one condition first"
   ]
  },
  {
   "cell_type": "code",
   "execution_count": 2,
   "metadata": {
    "collapsed": false
   },
   "outputs": [],
   "source": [
    "#----------------------------------------\n",
    "# Starting from basal model\n",
    "ijomc = load_json_model('/home/laurence/ME/models/BiGG_M/json/e_coli_core.json')\n",
    "keff0 = 1./65/3600\n",
    "crowding_bound = 0.0003\n",
    "rxns_c = [r for r in ijomc.reactions if all([m.compartment=='c' for m in r.metabolites.keys()]) and 'BIOMASS' not in r.id]\n",
    "crowding_dict = {rxn:keff0 for rxn in rxns_c}\n",
    "#----------------------------------------\n",
    "\n",
    "# Temporarily add crowding constraint for the duality gap constraint\n",
    "crowding = Constraint('crowding')\n",
    "crowding._bound = crowding_bound\n",
    "crowding._constraint_sense = 'L'\n",
    "for rxn,keff in iteritems(crowding_dict):\n",
    "    rxn.add_metabolites({crowding:keff})"
   ]
  },
  {
   "cell_type": "code",
   "execution_count": 3,
   "metadata": {
    "collapsed": false
   },
   "outputs": [
    {
     "data": {
      "text/plain": [
       "<Solution 0.67 at 0x7f46e552b910>"
      ]
     },
     "execution_count": 3,
     "metadata": {},
     "output_type": "execute_result"
    }
   ],
   "source": [
    "ijomc.optimize()"
   ]
  },
  {
   "cell_type": "code",
   "execution_count": 4,
   "metadata": {
    "collapsed": false
   },
   "outputs": [],
   "source": [
    "opt = Optimizer(ijomc)\n",
    "gap = opt.add_duality_gap_constraint(INF=1e6)"
   ]
  },
  {
   "cell_type": "code",
   "execution_count": 5,
   "metadata": {
    "collapsed": false
   },
   "outputs": [
    {
     "data": {
      "text/plain": [
       "<Solution 1.34 at 0x7f46e552b890>"
      ]
     },
     "execution_count": 5,
     "metadata": {},
     "output_type": "execute_result"
    }
   ],
   "source": [
    "gap.optimize()"
   ]
  },
  {
   "cell_type": "code",
   "execution_count": 6,
   "metadata": {
    "collapsed": false
   },
   "outputs": [
    {
     "name": "stdout",
     "output_type": "stream",
     "text": [
      "[-4 -3 -2 -1  0  1  2  3  4]\n",
      "[0. 1. 2. 3.]\n"
     ]
    },
    {
     "name": "stderr",
     "output_type": "stream",
     "text": [
      "/usr/lib/python2.7/site-packages/ipykernel/__main__.py:8 \u001b[1;31mDeprecationWarning\u001b[0m: object of type <type 'float'> cannot be safely interpreted as an integer.\n"
     ]
    }
   ],
   "source": [
    "import numpy as np\n",
    "\n",
    "radix = 4.\n",
    "powers = np.arange(-4,5)\n",
    "print(powers)\n",
    "digits_per_power = radix\n",
    "pwr_max = max(powers)\n",
    "digits = np.linspace(0, pwr_max-1, digits_per_power)\n",
    "print(digits)\n",
    "\n",
    "# Discretize crowding coefficients into radix\n",
    "crowding_p = gap.metabolites.crowding\n",
    "\n",
    "var_cons_dict = {}\n",
    "for rxn_p in crowding_p.reactions:\n",
    "    # Get the coefficient in the dual\n",
    "    var_d = gap.reactions.wa_crowding\n",
    "    cons_ds = [m for m in var_d.metabolites.keys() if rxn_p.id in m.id]\n",
    "    a0 = rxn_p.metabolites[crowding_p]    \n",
    "    var_cons_dict[rxn_p.id] = [(rxn_p, crowding_p, a0)] + [(var_d, cons_d, a0) for cons_d in cons_ds]"
   ]
  },
  {
   "cell_type": "code",
   "execution_count": 7,
   "metadata": {
    "collapsed": false
   },
   "outputs": [
    {
     "ename": "Exception",
     "evalue": "Reactions already in the model: z_wa_crowding_G6PDH2r00",
     "output_type": "error",
     "traceback": [
      "\u001b[0;31m\u001b[0m",
      "\u001b[0;31mException\u001b[0mTraceback (most recent call last)",
      "\u001b[0;32m<ipython-input-7-4510d973d43d>\u001b[0m in \u001b[0;36m<module>\u001b[0;34m()\u001b[0m\n\u001b[0;32m----> 1\u001b[0;31m \u001b[0mopt\u001b[0m\u001b[0;34m.\u001b[0m\u001b[0mto_radix\u001b[0m\u001b[0;34m(\u001b[0m\u001b[0mgap\u001b[0m\u001b[0;34m,\u001b[0m \u001b[0mvar_cons_dict\u001b[0m\u001b[0;34m,\u001b[0m \u001b[0mradix\u001b[0m\u001b[0;34m,\u001b[0m \u001b[0mpowers\u001b[0m\u001b[0;34m,\u001b[0m \u001b[0mdigits_per_power\u001b[0m\u001b[0;34m)\u001b[0m\u001b[0;34m\u001b[0m\u001b[0m\n\u001b[0m",
      "\u001b[0;32m/home/laurence/python_modules/dynamicme.git/dynamicme/optimize.py\u001b[0m in \u001b[0;36mto_radix\u001b[0;34m(self, mdl, var_cons_dict, radix, powers, num_digits_per_power, radix_multiplier, M)\u001b[0m\n\u001b[1;32m    238\u001b[0m                         \u001b[0mcid\u001b[0m \u001b[0;34m=\u001b[0m \u001b[0mcons\u001b[0m\u001b[0;34m.\u001b[0m\u001b[0mid\u001b[0m\u001b[0;34m\u001b[0m\u001b[0m\n\u001b[1;32m    239\u001b[0m                         \u001b[0mz_klj\u001b[0m \u001b[0;34m=\u001b[0m \u001b[0mVariable\u001b[0m\u001b[0;34m(\u001b[0m\u001b[0;34m'z_%s_%s%s%s'\u001b[0m\u001b[0;34m%\u001b[0m\u001b[0;34m(\u001b[0m\u001b[0mrid\u001b[0m\u001b[0;34m,\u001b[0m\u001b[0mcid\u001b[0m\u001b[0;34m,\u001b[0m\u001b[0mk\u001b[0m\u001b[0;34m,\u001b[0m\u001b[0ml\u001b[0m\u001b[0;34m)\u001b[0m\u001b[0;34m)\u001b[0m\u001b[0;34m\u001b[0m\u001b[0m\n\u001b[0;32m--> 240\u001b[0;31m                         \u001b[0mmdl\u001b[0m\u001b[0;34m.\u001b[0m\u001b[0madd_reaction\u001b[0m\u001b[0;34m(\u001b[0m\u001b[0mz_klj\u001b[0m\u001b[0;34m)\u001b[0m\u001b[0;34m\u001b[0m\u001b[0m\n\u001b[0m\u001b[1;32m    241\u001b[0m \u001b[0;34m\u001b[0m\u001b[0m\n\u001b[1;32m    242\u001b[0m                         \u001b[0;31m# try:\u001b[0m\u001b[0;34m\u001b[0m\u001b[0;34m\u001b[0m\u001b[0m\n",
      "\u001b[0;32m/usr/lib/python2.7/site-packages/cobra/core/Model.pyc\u001b[0m in \u001b[0;36madd_reaction\u001b[0;34m(self, reaction)\u001b[0m\n\u001b[1;32m    169\u001b[0m \u001b[0;34m\u001b[0m\u001b[0m\n\u001b[1;32m    170\u001b[0m         \"\"\"\n\u001b[0;32m--> 171\u001b[0;31m         \u001b[0mself\u001b[0m\u001b[0;34m.\u001b[0m\u001b[0madd_reactions\u001b[0m\u001b[0;34m(\u001b[0m\u001b[0;34m[\u001b[0m\u001b[0mreaction\u001b[0m\u001b[0;34m]\u001b[0m\u001b[0;34m)\u001b[0m\u001b[0;34m\u001b[0m\u001b[0m\n\u001b[0m\u001b[1;32m    172\u001b[0m \u001b[0;34m\u001b[0m\u001b[0m\n\u001b[1;32m    173\u001b[0m     \u001b[0;32mdef\u001b[0m \u001b[0madd_reactions\u001b[0m\u001b[0;34m(\u001b[0m\u001b[0mself\u001b[0m\u001b[0;34m,\u001b[0m \u001b[0mreaction_list\u001b[0m\u001b[0;34m)\u001b[0m\u001b[0;34m:\u001b[0m\u001b[0;34m\u001b[0m\u001b[0m\n",
      "\u001b[0;32m/usr/lib/python2.7/site-packages/cobra/core/Model.pyc\u001b[0m in \u001b[0;36madd_reactions\u001b[0;34m(self, reaction_list)\u001b[0m\n\u001b[1;32m    194\u001b[0m         \u001b[0;32mif\u001b[0m \u001b[0mlen\u001b[0m\u001b[0;34m(\u001b[0m\u001b[0mreactions_in_model\u001b[0m\u001b[0;34m)\u001b[0m \u001b[0;34m>\u001b[0m \u001b[0;36m0\u001b[0m\u001b[0;34m:\u001b[0m\u001b[0;34m\u001b[0m\u001b[0m\n\u001b[1;32m    195\u001b[0m             raise Exception(\"Reactions already in the model: \" +\n\u001b[0;32m--> 196\u001b[0;31m                             \", \".join(reactions_in_model))\n\u001b[0m\u001b[1;32m    197\u001b[0m \u001b[0;34m\u001b[0m\u001b[0m\n\u001b[1;32m    198\u001b[0m         \u001b[0;31m# Add reactions. Also take care of genes and metabolites in the loop\u001b[0m\u001b[0;34m\u001b[0m\u001b[0;34m\u001b[0m\u001b[0m\n",
      "\u001b[0;31mException\u001b[0m: Reactions already in the model: z_wa_crowding_G6PDH2r00"
     ]
    }
   ],
   "source": [
    "opt.to_radix(gap, var_cons_dict, radix, powers, digits_per_power)"
   ]
  },
  {
   "cell_type": "code",
   "execution_count": 8,
   "metadata": {
    "collapsed": false
   },
   "outputs": [
    {
     "data": {
      "text/plain": [
       "[(<Variable G6PDH2r at 0x7f4642d2e790>,\n",
       "  <Constraint crowding at 0x7f4642dd1b10>,\n",
       "  4.273504273504274e-06),\n",
       " (<Variable wa_crowding at 0x7f4642d3ab10>,\n",
       "  <Constraint G6PDH2r at 0x7f4642d00490>,\n",
       "  4.273504273504274e-06)]"
      ]
     },
     "execution_count": 8,
     "metadata": {},
     "output_type": "execute_result"
    }
   ],
   "source": [
    "var_cons_dict['G6PDH2r']"
   ]
  },
  {
   "cell_type": "code",
   "execution_count": null,
   "metadata": {
    "collapsed": true
   },
   "outputs": [],
   "source": [
    "for rxn in gap.reactions:\n",
    "    rxn.objective_coefficient = 0.\n",
    "# for rxn in gap.reactions.query('binary'):\n",
    "#     rxn.objective_coefficient = 1."
   ]
  },
  {
   "cell_type": "code",
   "execution_count": null,
   "metadata": {
    "collapsed": false
   },
   "outputs": [],
   "source": [
    "N_CONDS = 1\n",
    "\n",
    "df_meas = pd.read_csv('/home/laurence/ME/data/dynamicME/beg/growth_meas.csv')\n",
    "ex_rxns = [r.id for r in ijomc.reactions.query('EX_')]\n",
    "df_meas = df_meas[ df_meas.ex_rxn.isin(ex_rxns)]\n",
    "conds = df_meas.substrate.unique()\n",
    "df_conds = pd.DataFrame([{'cond':r['substrate'], 'rxn':ex_rxn, 'lb':-10 if r['ex_rxn']==ex_rxn else 0, 'ub':1000., 'obj':0.} for i,r in df_meas.iterrows() for ex_rxn in ex_rxns])\n",
    "df_conds = df_conds[ df_conds.cond.isin(conds[0:N_CONDS])]"
   ]
  },
  {
   "cell_type": "code",
   "execution_count": null,
   "metadata": {
    "collapsed": false
   },
   "outputs": [],
   "source": [
    "mu_meas = 0.74\n",
    "\n",
    "F_TOL = 0.15\n",
    "\n",
    "gap.reactions.BIOMASS_Ecoli_core_w_GAM.lower_bound = mu_meas*(1-F_TOL)\n",
    "gap.reactions.BIOMASS_Ecoli_core_w_GAM.upper_bound = mu_meas*(1+F_TOL)\n",
    "\n",
    "from cobra.solvers import gurobi_solver\n",
    "from gurobipy import *\n",
    "\n",
    "milp = gurobi_solver.create_problem(gap)\n",
    "milp.ModelSense = GRB.MINIMIZE"
   ]
  },
  {
   "cell_type": "code",
   "execution_count": null,
   "metadata": {
    "collapsed": false
   },
   "outputs": [],
   "source": [
    "milp.Params.IntFeasTol = 1e-9\n",
    "milp.Params.OutputFlag = 1\n",
    "milp.optimize()"
   ]
  },
  {
   "cell_type": "code",
   "execution_count": null,
   "metadata": {
    "collapsed": false
   },
   "outputs": [],
   "source": [
    "#gap.optimize('minimize')\n",
    "rxn_mu =gap.reactions.BIOMASS_Ecoli_core_w_GAM \n",
    "#muopt = rxn_mu\n",
    "sol = gurobi_solver.format_solution(milp, gap)\n",
    "muopt = sol.x_dict[rxn_mu.id]\n",
    "print('%g <= %g <= %g' % (rxn_mu.lower_bound, muopt, rxn_mu.upper_bound))"
   ]
  },
  {
   "cell_type": "code",
   "execution_count": null,
   "metadata": {
    "collapsed": false
   },
   "outputs": [],
   "source": [
    "yopt = [sol.x_dict[rxn.id] for rxn in gap.reactions.query('binary_')]\n",
    "sum(yopt)"
   ]
  },
  {
   "cell_type": "code",
   "execution_count": null,
   "metadata": {
    "collapsed": true
   },
   "outputs": [],
   "source": []
  }
 ],
 "metadata": {
  "kernelspec": {
   "display_name": "Python 2",
   "language": "python",
   "name": "python2"
  },
  "language_info": {
   "codemirror_mode": {
    "name": "ipython",
    "version": 2
   },
   "file_extension": ".py",
   "mimetype": "text/x-python",
   "name": "python",
   "nbconvert_exporter": "python",
   "pygments_lexer": "ipython2",
   "version": "2.7.14"
  }
 },
 "nbformat": 4,
 "nbformat_minor": 2
}
