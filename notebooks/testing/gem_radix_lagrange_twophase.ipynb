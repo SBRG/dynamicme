{
 "cells": [
  {
   "cell_type": "markdown",
   "metadata": {
    "deletable": true,
    "editable": true
   },
   "source": [
    "# GEM radix Lagrangean decomposition"
   ]
  },
  {
   "cell_type": "code",
   "execution_count": 1,
   "metadata": {
    "collapsed": true,
    "deletable": true,
    "editable": true
   },
   "outputs": [],
   "source": [
    "REG_WEIGHT   = 0. #1e-4\n",
    "MAX_NONZERO  = None #48*2\n",
    "PREVENT_ZERO = True\n",
    "TWO_PHASE    = True"
   ]
  },
  {
   "cell_type": "code",
   "execution_count": 2,
   "metadata": {
    "collapsed": false,
    "deletable": true,
    "editable": true
   },
   "outputs": [],
   "source": [
    "%load_ext line_profiler"
   ]
  },
  {
   "cell_type": "code",
   "execution_count": 3,
   "metadata": {
    "collapsed": false,
    "deletable": true,
    "editable": true
   },
   "outputs": [],
   "source": [
    "from gurobipy import *\n",
    "\n",
    "import seaborn as sns\n",
    "import pandas as pd\n",
    "import matplotlib.pyplot as plt\n",
    "import numpy as np\n",
    "\n",
    "plt.rcParams['svg.fonttype'] = 'none'\n",
    "pd.set_option('display.max_colwidth', -1)\n",
    "%matplotlib inline\n",
    "\n",
    "from cobra.io import load_json_model\n",
    "from six import iteritems\n",
    "import numpy as np\n",
    "import cobra"
   ]
  },
  {
   "cell_type": "code",
   "execution_count": 4,
   "metadata": {
    "collapsed": true,
    "deletable": true,
    "editable": true
   },
   "outputs": [],
   "source": [
    "#ijomc = load_json_model('/home/laurence/ME/models/e_coli_core_pc.json')\n",
    "ijomc = load_json_model('/home/laurence/ME/data/dynamicME/nominal_ijomc.json')"
   ]
  },
  {
   "cell_type": "code",
   "execution_count": 5,
   "metadata": {
    "collapsed": false,
    "deletable": true,
    "editable": true
   },
   "outputs": [
    {
     "name": "stdout",
     "output_type": "stream",
     "text": [
      "<Solution 0.97 at 0x7f5681cd5e50>\n",
      "BIOMASS_Ec_iJO1366_core_53p95M\n"
     ]
    }
   ],
   "source": [
    "print(ijomc.optimize())\n",
    "mu_crowd0 = ijomc.reactions.BIOMASS_Ec_iJO1366_core_53p95M\n",
    "print(mu_crowd0)"
   ]
  },
  {
   "cell_type": "code",
   "execution_count": 6,
   "metadata": {
    "collapsed": false,
    "deletable": true,
    "editable": true
   },
   "outputs": [],
   "source": [
    "df_meas = pd.read_csv('/home/laurence/ME/data/dynamicME/beg/growth_meas.csv')\n",
    "\n",
    "ex_rxns = [r for r in df_meas.ex_rxn.unique() if ijomc.reactions.has_id(r)]\n",
    "df_meas = df_meas[ df_meas.ex_rxn.isin(ex_rxns)]\n",
    "conds = df_meas.substrate.unique()\n",
    "\n",
    "#N_CONDS = len(conds)\n",
    "N_CONDS = 2\n",
    "\n",
    "df_conds = pd.DataFrame([{'cond':r['substrate'], 'rxn':ex_rxn, 'lb':-10 if r['ex_rxn']==ex_rxn else 0, 'ub':1000., 'obj':0.} for i,r in df_meas.iterrows() for ex_rxn in ex_rxns])\n",
    "\n",
    "if N_CONDS==1:\n",
    "    df_conds = df_conds[ df_conds.cond=='acetate']\n",
    "elif N_CONDS<=3:\n",
    "    df_conds = df_conds[ df_conds.cond.isin(['glucose','acetate','succinate'][0:N_CONDS])]\n",
    "else:\n",
    "    df_conds = df_conds[ df_conds.cond.isin(conds[0:N_CONDS])]\n",
    "\n",
    "df_conds.loc[ (df_conds.cond=='acetate') & (df_conds.rxn=='EX_ac_e'), 'lb'] = -20"
   ]
  },
  {
   "cell_type": "markdown",
   "metadata": {
    "deletable": true,
    "editable": true
   },
   "source": [
    "# Make radix problem"
   ]
  },
  {
   "cell_type": "code",
   "execution_count": 7,
   "metadata": {
    "collapsed": false,
    "deletable": true,
    "editable": true
   },
   "outputs": [],
   "source": [
    "from dynamicme.estimate import RadixEstimator"
   ]
  },
  {
   "cell_type": "code",
   "execution_count": 8,
   "metadata": {
    "collapsed": false,
    "deletable": true,
    "editable": true
   },
   "outputs": [],
   "source": [
    "df_Y = df_meas.rename(columns={'growth_rate_1_h':'output', 'substrate':'cond'})\n",
    "df_Y.loc[:,'output_id'] = 'BIOMASS_Ec_iJO1366_core_53p95M'\n",
    "df_X = df_conds"
   ]
  },
  {
   "cell_type": "code",
   "execution_count": 9,
   "metadata": {
    "collapsed": true,
    "deletable": true,
    "editable": true
   },
   "outputs": [],
   "source": [
    "from dynamicme.decomposition import LagrangeMaster, LagrangeSubmodel"
   ]
  },
  {
   "cell_type": "code",
   "execution_count": 10,
   "metadata": {
    "collapsed": false,
    "deletable": true,
    "editable": true
   },
   "outputs": [
    {
     "name": "stdout",
     "output_type": "stream",
     "text": [
      "Changed value of parameter OutputFlag to 1\n",
      "   Prev: 0  Min: 0  Max: 1  Default: 1\n",
      "Changed value of parameter OutputFlag to 1\n",
      "   Prev: 0  Min: 0  Max: 1  Default: 1\n"
     ]
    }
   ],
   "source": [
    "conds = df_conds.cond.unique()\n",
    "sub_dict = {}\n",
    "for cond in conds:\n",
    "    df_Xk = df_X[ df_X.cond==cond]\n",
    "    df_Yk = df_Y[ df_Y.cond==cond]\n",
    "    estk = RadixEstimator()\n",
    "    estk.fit(ijomc, df_Xk, df_Yk, reg_weight = REG_WEIGHT, max_nonzero_binaries=MAX_NONZERO, optimize=False)    \n",
    "    sub = LagrangeSubmodel(estk.stacker.model, cond)\n",
    "    sub_dict[cond] = sub"
   ]
  },
  {
   "cell_type": "code",
   "execution_count": null,
   "metadata": {
    "collapsed": true,
    "deletable": true,
    "editable": true
   },
   "outputs": [],
   "source": [
    "master = LagrangeMaster(estk.stacker.model)\n",
    "master.add_submodels(sub_dict)"
   ]
  },
  {
   "cell_type": "markdown",
   "metadata": {
    "deletable": true,
    "editable": true
   },
   "source": [
    "### Two-phase"
   ]
  },
  {
   "cell_type": "code",
   "execution_count": null,
   "metadata": {
    "collapsed": false,
    "deletable": true,
    "editable": true,
    "scrolled": false
   },
   "outputs": [
    {
     "name": "stdout",
     "output_type": "stream",
     "text": [
      "    Iter                    UB                    LB       gap relgap(%)   penalty                       Time(s)\n",
      "  ------   -------------------   -------------------  -------- ---------  -------- -----------------------------\n",
      "               Best   Feasible        Sub       Best                                   total    master       sub\n",
      "       0       1000     1e+100 -8.574e-08 -8.574e-08      1000       100  1.24e-18  2.003705  0.019361  1.968717\n",
      "       5      3.393     1e+100     -179.6 -8.574e-08     3.393       100      1.21  43.73659  0.034999  10.12896\n",
      "      10      14.63     1e+100      -3208 -8.574e-08     14.63       100      7.13  90.02098  0.040559  6.134618\n",
      "      15         49     1e+100 -2.964e+04 -8.574e-08        49       100      22.2  124.8292  0.047395  4.694406\n",
      "      20      61.85     1e+100 -1.841e+05 -8.574e-08     61.85       100        17  145.4471  0.057092  4.436564\n",
      "      25      38.89     1e+100  -4.76e+05 -8.574e-08     38.89       100      3.56  160.6579  0.072319  2.860942\n",
      "      30      32.97     1e+100 -8.031e+05 -8.574e-08     32.97       100     0.373  173.4747  0.100198  3.285326\n",
      "      35      31.29     1e+100 -8.804e+05 -8.574e-08     31.29       100    0.0693  186.8071  0.128051  3.126724\n",
      "      40      29.86     1e+100 -9.288e+05 -8.574e-08     29.86       100    0.0677  217.4503  0.138864  14.98225\n",
      "      45      28.73     1e+100 -8.549e+05 -8.574e-08     28.73       100    0.0697  240.0582  0.171268  5.193444\n",
      "      50      27.71     1e+100 -8.577e+05 -8.574e-08     27.71       100    0.0673  277.7933  0.194066  7.473829\n",
      "      55      26.64     1e+100 -8.531e+05 -8.574e-08     26.64       100    0.0703  298.2804  0.209381  3.398278\n",
      "      60      24.37     1e+100 -8.635e+05 -8.574e-08     24.37       100    0.0723  315.1586  0.232985  5.497582\n",
      "      65      22.44     1e+100 -8.731e+05 -8.574e-08     22.44       100    0.0732  338.6363  0.246706  6.165760\n",
      "      70       20.8     1e+100 -8.216e+05 -8.574e-08      20.8       100    0.0683  363.2350  0.252541  8.196506\n",
      "      75      19.61     1e+100 -8.157e+05 -8.574e-08     19.61       100    0.0638  380.6755  0.275501  2.991910\n",
      "      80      18.61     1e+100 -7.954e+05 -8.574e-08     18.61       100    0.0673  400.7583  0.327391  2.845288\n",
      "      85      17.64     1e+100 -7.862e+05 -8.574e-08     17.64       100    0.0639  417.5589  0.349458  2.987689\n",
      "      90       16.7     1e+100  -8.04e+05 -8.574e-08      16.7       100    0.0603  438.4604  0.380280  4.597840\n",
      "      95      15.84     1e+100 -7.756e+05 -8.574e-08     15.84       100    0.0618  462.7265  0.400235  2.124569\n",
      "     100      14.58     1e+100 -8.006e+05 -8.574e-08     14.58       100    0.0653  483.4420  0.411843  4.553096\n",
      "     105      12.99     1e+100 -7.821e+05 -8.574e-08     12.99       100    0.0619  523.7631  0.671272  6.932287\n",
      "     110      12.13     1e+100 -7.556e+05 -8.574e-08     12.13       100    0.0599  581.3178  0.687081  8.146023\n",
      "     115      11.38     1e+100 -7.428e+05 -8.574e-08     11.38       100    0.0594  624.0904  0.724641  8.732455\n",
      "     120       10.8     1e+100  -7.14e+05 -8.574e-08      10.8       100    0.0537  662.5513  0.561961  5.367959\n",
      "     125      10.06     1e+100  -7.36e+05 -8.574e-08     10.06       100    0.0568  696.5665  0.566612  5.419727\n",
      "     130      9.447     1e+100 -7.148e+05 -8.574e-08     9.447       100    0.0546  743.9727  0.904491  10.42205\n",
      "     135      8.754     1e+100 -7.182e+05 -8.574e-08     8.754       100    0.0579  780.6100  0.667594  5.515969\n",
      "     140      8.199     1e+100 -6.726e+05 -8.574e-08     8.199       100    0.0506  810.7844  0.667217  5.978014\n",
      "     145      7.665     1e+100 -7.563e+05 -8.574e-08     7.665       100    0.0578  852.1832  0.710805  12.51785\n",
      "     150      6.945     1e+100 -7.221e+05 -8.574e-08     6.945       100    0.0539  885.6926  0.778141  6.031345\n",
      "     155      6.226     1e+100 -7.219e+05 -8.574e-08     6.226       100    0.0539  909.3630  0.724215  2.375254\n",
      "     160      5.258     1e+100 -7.212e+05 -8.574e-08     5.258       100    0.0554  932.1942  0.759467  3.973766\n",
      "     165      4.725     1e+100 -6.901e+05 -8.574e-08     4.725       100    0.0512  954.1851  0.808699  3.202344\n",
      "     170      4.324     1e+100 -6.727e+05 -8.574e-08     4.324       100    0.0461  978.0461  0.818309  5.961531\n",
      "     175      4.039     1e+100 -6.144e+05 -8.574e-08     4.039       100    0.0399  1002.477  0.898627  3.571761\n",
      "     180      3.844     1e+100 -6.085e+05 -8.574e-08     3.844       100    0.0384  1026.491  0.937170  3.548691\n",
      "     185      3.644     1e+100 -5.617e+05 -8.574e-08     3.644       100     0.034  1051.636  0.985790  4.971997\n",
      "     190      3.494     1e+100 -6.046e+05 -8.574e-08     3.494       100    0.0346  1094.200  1.507616  5.323099\n",
      "     195      3.273     1e+100 -5.768e+05 -8.574e-08     3.273       100    0.0358  1145.799  1.556352  7.511925\n",
      "     200      3.088     1e+100  -5.94e+05 -8.574e-08     3.088       100    0.0345  1199.122  1.063730  6.531836\n",
      "     205      2.938     1e+100 -5.298e+05 -8.574e-08     2.938       100    0.0288  1229.613  1.110575  4.608195\n",
      "     210      2.838     1e+100 -4.905e+05 -8.574e-08     2.838       100    0.0236  1272.778  1.132752  5.354206\n",
      "     215      2.761     1e+100 -4.581e+05 -8.574e-08     2.761       100    0.0213  1305.145  1.299208  6.269708\n",
      "     220       2.67     1e+100 -4.874e+05 -8.574e-08      2.67       100    0.0243  1345.341  1.212389  6.438333\n",
      "     225      2.599     1e+100 -4.804e+05 -8.574e-08     2.599       100    0.0205  1380.620  1.250324  3.350816\n",
      "     230      2.537     1e+100 -4.334e+05 -8.574e-08     2.537       100     0.018  1406.546  1.352924  3.795035\n",
      "     235      2.487     1e+100 -4.418e+05 -8.574e-08     2.487       100    0.0194  1441.030  1.315173  6.995465\n",
      "     240       2.44     1e+100 -4.252e+05 -8.574e-08      2.44       100    0.0173  1479.274  1.364542  3.989281\n",
      "     245      2.367     1e+100 -4.527e+05 -8.574e-08     2.367       100    0.0211  1514.514  1.453498  5.443283\n",
      "     250      2.304     1e+100 -3.872e+05 -8.574e-08     2.304       100    0.0156  1548.628  1.592972  5.995270\n",
      "     255      2.241     1e+100 -4.981e+05 -8.574e-08     2.241       100    0.0257  1597.470  2.194989  6.628247\n",
      "     260      2.073     1e+100 -5.396e+05 -8.574e-08     2.073       100    0.0334  1660.308  2.130305  8.108571\n",
      "     265      1.864     1e+100 -5.165e+05 -8.574e-08     1.864       100    0.0305  1700.315  1.528440  5.899873\n",
      "     270      1.776     1e+100 -4.281e+05 -8.574e-08     1.776       100    0.0198  1738.383  1.665134  4.866667\n",
      "     275      1.704     1e+100 -4.659e+05 -8.574e-08     1.704       100    0.0244  1791.842  1.741106  10.01616\n",
      "     280       1.61     1e+100 -3.728e+05 -8.574e-08      1.61       100    0.0155  1826.080  2.357105  5.316837\n",
      "     285      1.523     1e+100 -4.436e+05 -8.574e-08     1.523       100    0.0216  1863.639  1.687038  6.713752\n",
      "     290      1.471     1e+100 -4.023e+05 -8.574e-08     1.471       100    0.0167  1898.003  1.791414  4.432036\n",
      "     295      1.365     1e+100 -4.364e+05 -8.574e-08     1.365       100    0.0229  1934.902  1.734316  5.503278\n",
      "     300      1.281     1e+100 -4.612e+05 -8.574e-08     1.281       100    0.0219  1968.892  1.937653  4.062444\n",
      "     305      1.111     1e+100 -5.276e+05 -8.574e-08     1.111       100    0.0317  1997.558  2.081681  3.465752\n",
      "     310     0.7287     1e+100  -8.28e+05 -8.574e-08    0.7287       100    0.0229  2031.458  1.966508  4.513104\n",
      "     315     0.5379     1e+100 -4.454e+05 -8.574e-08    0.5379       100    0.0203  2067.761  2.020158  5.902341\n",
      "     320     0.4892     1e+100 -4.676e+05 -8.574e-08    0.4892       100    0.0127  2117.903  2.784163  7.212457\n",
      "     325      0.443     1e+100 -4.662e+05 -8.574e-08     0.443       100    0.0169  2170.655  2.819717  7.658843\n",
      "     330     0.3397     1e+100 -4.366e+05 -8.574e-08    0.3397       100    0.0211  2225.982  2.138725  5.469088\n",
      "     335     0.2923     1e+100 -3.559e+05 -8.574e-08    0.2923       100    0.0114  2257.270  2.203006  5.025744\n",
      "     340     0.2481     1e+100 -4.043e+05 -8.574e-08    0.2481       100    0.0172  2297.567  3.075136  5.338001\n",
      "     345     0.1718     1e+100 -4.517e+05 -8.574e-08    0.1718       100    0.0219  2338.923  2.342524  4.758317\n",
      "     350     0.1089     1e+100 -2.713e+05 -8.574e-08    0.1089       100   0.00934  2375.405  2.233912  5.133167\n",
      "     355    0.07804     1e+100 -3.226e+05 -8.574e-08   0.07804       100    0.0125  2414.852  2.230207  5.098154\n",
      "     360    0.04851     1e+100 -2.689e+05 -8.574e-08   0.04851       100   0.00901  2455.495  2.360921  7.658231\n",
      "     365    0.02778     1e+100 -2.556e+05 -8.574e-08   0.02778       100   0.00612  2495.575  2.324128  4.844127\n",
      "     370    0.00535     1e+100 -5.365e+04 -8.574e-08   0.00535       100  0.000778  2528.728  2.411581  4.819682\n",
      "     375   0.005131     1e+100      -4255 -8.574e-08  0.005131       100  3.78e-06  2578.345  2.548567  8.571676\n",
      "     380   0.005129     1e+100     -406.7 -8.574e-08  0.005129       100  5.13e-08  2621.470  2.649732  7.558521\n",
      "     385   0.005129     1e+100     -157.2 -8.574e-08  0.005129       100  2.52e-09  2697.744  2.926226  19.72703\n",
      "     390   0.005129     1e+100     -264.4 -8.574e-08  0.005129       100  1.04e-08  2805.311  3.923573  14.07653\n",
      "     395   0.005129     1e+100     -167.2 -8.574e-08  0.005129       100  2.51e-09  2871.600  4.178006  11.66097\n",
      "     400   0.005129     1e+100       -187 -8.574e-08  0.005129       100  2.19e-09  2938.796  3.124892  7.580265\n",
      "     405   0.005129     1e+100     -94.61 -8.574e-08  0.005129       100  6.34e-10  2993.688  3.498744  5.892822\n",
      "     410   0.005129     1e+100     -246.3 -8.574e-08  0.005129       100  5.03e-09  3067.815  4.554316  9.896056\n",
      "     415   0.005129     1e+100     -220.2 -8.574e-08  0.005129       100  4.91e-09  3119.916  3.535320  5.942816\n",
      "     420   0.005129     1e+100     -227.2 -8.574e-08  0.005129       100  2.67e-09  3184.302  3.724404  8.791537\n",
      "     425   0.005129     1e+100     -154.1 -8.574e-08  0.005129       100  1.03e-09  3241.368  3.839490  6.993216\n",
      "     430   0.005129     1e+100     -249.7 -8.574e-08  0.005129       100   2.5e-09  3292.858  3.933998  5.043795\n",
      "     435   0.005129     1e+100     -586.6 -8.574e-08  0.005129       100  1.44e-08  3346.998  3.984214  4.695204\n",
      "     440   0.005129     1e+100     -460.7 -8.574e-08  0.005129       100  1.31e-08  3391.748  4.117810  4.235737\n",
      "     445   0.005129     1e+100     -310.4 -8.574e-08  0.005129       100   5.1e-09  3440.441  4.195306  4.565482\n",
      "     450   0.005129     1e+100     -756.6 -8.574e-08  0.005129       100  2.95e-08  3490.165  3.999642  5.517767\n",
      "     455   0.005129     1e+100       -607 -8.574e-08  0.005129       100  2.79e-08  3541.819  4.100697  7.701970\n",
      "     460   0.005129     1e+100     -511.6 -8.574e-08  0.005129       100  2.01e-08  3603.001  6.054378  7.972285\n",
      "     465   0.005129     1e+100     -218.6 -8.574e-08  0.005129       100  3.63e-09  3702.857  5.542740  16.16025\n",
      "     470   0.005129     1e+100     -357.1 -8.574e-08  0.005129       100  7.93e-09  3786.153  6.236261  6.512408\n",
      "     475   0.005129     1e+100      -1001 -8.574e-08  0.005129       100  5.57e-08  3848.741  4.922128  8.915326\n",
      "     480   0.005129     1e+100     -982.8 -8.574e-08  0.005129       100  6.71e-08  3908.247  4.451297  5.324343\n",
      "     485   0.005129     1e+100     -411.7 -8.574e-08  0.005129       100  1.03e-08  3953.921  4.884269  2.761845\n",
      "     490   0.005129     1e+100     -391.6 -8.574e-08  0.005129       100  7.19e-09  4009.692  5.239679  10.07831\n",
      "     495   0.005129     1e+100     -743.7 -8.574e-08  0.005129       100  2.99e-08  4076.379  5.621040  6.924679\n",
      "     500   0.005128     1e+100     -527.9 -8.574e-08  0.005129       100  2.12e-08  4131.767  5.591078  7.028006\n",
      "     505   0.005128     1e+100     -423.3 -8.574e-08  0.005129       100  9.28e-09  4187.156  5.346874  4.073426\n",
      "     510   0.005128     1e+100     -535.6 -8.574e-08  0.005129       100  1.44e-08  4248.679  5.991370  6.389938\n",
      "     515   0.005128     1e+100      -1072 -8.574e-08  0.005128       100  4.57e-08  4298.024  5.841675  4.767606\n",
      "     520   0.005128     1e+100     -705.4 -8.574e-08  0.005128       100  2.73e-08  4379.943  8.345604  6.661307\n",
      "     525   0.005128     1e+100     -406.1 -8.574e-08  0.005128       100  1.13e-08  4468.846  8.223680  9.161126\n",
      "     530   0.005128     1e+100       -513 -8.574e-08  0.005128       100  1.54e-08  4558.922  8.177848  8.258619\n",
      "     535   0.005128     1e+100       -368 -8.574e-08  0.005128       100  7.02e-09  4630.767  6.367349  7.945423\n",
      "     540   0.005128     1e+100     -537.8 -8.574e-08  0.005128       100   1.5e-08  4706.129  6.902476  10.49002\n",
      "     545   0.005128     1e+100       -629 -8.574e-08  0.005128       100  1.98e-08  4788.355  6.870553  5.125469\n",
      "     550   0.005128     1e+100     -839.6 -8.574e-08  0.005128       100   2.5e-08  4850.044  6.533246  5.866638\n",
      "     555   0.005128     1e+100     -603.3 -8.574e-08  0.005128       100  1.82e-08  4913.094  7.527766  4.587352\n",
      "     560   0.005128     1e+100     -404.2 -8.574e-08  0.005128       100  8.25e-09  4976.516  7.621755  5.908308\n",
      "     565   0.005128     1e+100     -540.4 -8.574e-08  0.005128       100  1.03e-08  5043.642  7.384027  8.277588\n",
      "     570   0.005128     1e+100     -777.5 -8.574e-08  0.005128       100  2.22e-08  5112.411  7.777054  4.831128\n",
      "     575   0.005128     1e+100      -1104 -8.574e-08  0.005128       100  3.65e-08  5185.024  7.630007  4.637612\n",
      "     580   0.005128     1e+100     -601.4 -8.574e-08  0.005128       100  1.75e-08  5250.860  8.532574  6.098333\n",
      "     585   0.005128     1e+100     -558.7 -8.574e-08  0.005128       100  1.16e-08  5327.425  9.750432  5.809462\n",
      "     590   0.005128     1e+100     -767.9 -8.574e-08  0.005128       100  2.47e-08  5419.413  8.245066  6.981886\n",
      "     595   0.005128     1e+100     -572.7 -8.574e-08  0.005128       100   1.6e-08  5493.073  8.495496  6.382630\n",
      "     600   0.005128     1e+100     -667.9 -8.574e-08  0.005128       100  2.31e-08  5563.879  8.538219  4.091272\n",
      "     605   0.005128     1e+100     -876.6 -8.574e-08  0.005128       100  3.38e-08  5638.521  8.600523  7.343430\n",
      "     610   0.005128     1e+100     -822.3 -8.574e-08  0.005128       100  3.28e-08  5738.518  11.86054  8.527757\n",
      "     615   0.005128     1e+100       -841 -8.574e-08  0.005128       100  3.09e-08  5836.209  9.118941  8.674771\n",
      "     620   0.005128     1e+100      -1491 -8.574e-08  0.005128       100  8.62e-08  5925.700  9.038518  7.241916\n",
      "     625   0.005127     1e+100     -780.3 -8.574e-08  0.005128       100  2.86e-08  5997.939  9.465110  5.452094\n",
      "     630   0.005127     1e+100     -643.7 -8.574e-08  0.005128       100  1.85e-08  6066.309  9.247755  2.829985\n",
      "     635   0.005127     1e+100     -637.3 -8.574e-08  0.005128       100  2.49e-08  6135.565  9.354267  5.506783\n",
      "     640   0.005127     1e+100     -556.5 -8.574e-08  0.005127       100  1.64e-08  6217.338  10.13348  4.655707\n",
      "     645   0.005127     1e+100     -792.7 -8.574e-08  0.005127       100  3.68e-08  6309.222  12.53488  6.898879\n"
     ]
    }
   ],
   "source": [
    "master.time_limit = 2*3600\n",
    "#master.max_iter = 500\n",
    "master.verbosity = 2\n",
    "master.print_iter = 5\n",
    "master.gaptol = 1e-3\n",
    "master.absgaptol = 1e-3\n",
    "feasible_method = 'enumerate'\n",
    "alt_method = 'pool'\n",
    "max_alt = 10    # Computationally expensive if too large. Might miss feasible solution if too small.\n",
    "                # Can make adaptive if no feasible solution found for certain iterations.\n",
    "if TWO_PHASE:\n",
    "    sol_master = master.solve_relaxed(feasible_method=None)\n",
    "    df_phase1 = pd.DataFrame(master.log_rows)\n",
    "    \n",
    "sol_master = master.optimize(feasible_method=feasible_method, max_alt=max_alt, alt_method=alt_method,\n",
    "                            nogood_cuts = True) \n",
    "df_phase2 = pd.DataFrame(master.log_rows)"
   ]
  },
  {
   "cell_type": "code",
   "execution_count": 16,
   "metadata": {
    "collapsed": false,
    "deletable": true,
    "editable": true
   },
   "outputs": [
    {
     "data": {
      "text/plain": [
       "<seaborn.axisgrid.FacetGrid at 0x7f560a55ca90>"
      ]
     },
     "execution_count": 16,
     "metadata": {},
     "output_type": "execute_result"
    },
    {
     "data": {
      "image/png": "[encoded data removed]",
      "text/plain": [
       "<matplotlib.figure.Figure at 0x7f56092c40d0>"
      ]
     },
     "metadata": {},
     "output_type": "display_data"
    }
   ],
   "source": [
    "xcol = 'iter'\n",
    "df_phase1.loc[:,'phase'] = 1\n",
    "df_phase2.loc[:,'phase'] = 2\n",
    "dsplot = pd.concat([df_phase1, df_phase2])\n",
    "dsplot = dsplot[[xcol,'feasUB','bestUB','bestLB','phase']]\n",
    "dsplot = dsplot.melt(id_vars=[xcol,'phase'])\n",
    "dsplot.loc[ dsplot.value>1e1, 'value'] = np.nan\n",
    "dsplot.loc[ dsplot.value<-1e1, 'value'] = np.nan\n",
    "\n",
    "g = sns.FacetGrid(dsplot, hue='variable', size=4, aspect=3, row='phase', sharey=False)\n",
    "g.map(plt.plot, xcol,'value')\n",
    "g.add_legend()"
   ]
  },
  {
   "cell_type": "code",
   "execution_count": 17,
   "metadata": {
    "collapsed": true,
    "deletable": true,
    "editable": true
   },
   "outputs": [],
   "source": [
    "var_cons_dict = estk.var_cons_dict\n",
    "powers = estk.powers\n",
    "digits = estk.digits\n",
    "radix  = estk.radix"
   ]
  },
  {
   "cell_type": "code",
   "execution_count": 31,
   "metadata": {
    "collapsed": true
   },
   "outputs": [],
   "source": [
    "if sol_master is None:\n",
    "    sol_masterk = sub.x_dict"
   ]
  },
  {
   "cell_type": "code",
   "execution_count": 32,
   "metadata": {
    "collapsed": false,
    "deletable": true,
    "editable": true
   },
   "outputs": [
    {
     "name": "stdout",
     "output_type": "stream",
     "text": [
      "Changed keffs: 2018/2018\n",
      "Cond=glucose. mu_meas=0.74. mu_sim=0.783583 (unfit=0.982372, error=32.8%). Error=5.89% (-82% change)\n",
      "\tEX_glc__D_e uptake=-10\n",
      "\tEX_malt_e uptake=0\n",
      "\tEX_man_e uptake=0\n",
      "\tEX_fru_e uptake=0\n",
      "\tEX_gal_e uptake=0\n",
      "\tEX_succ_e uptake=0\n",
      "\tEX_mal__L_e uptake=0\n",
      "\tEX_glyc_e uptake=0\n",
      "\tEX_lac__L_e uptake=0\n",
      "\tEX_ac_e uptake=0\n",
      "Cond=acetate. mu_meas=0.256. mu_sim=0.462242 (unfit=0.507518, error=98.2%). Error=80.6% (-18% change)\n",
      "\tEX_glc__D_e uptake=0\n",
      "\tEX_malt_e uptake=0\n",
      "\tEX_man_e uptake=0\n",
      "\tEX_fru_e uptake=0\n",
      "\tEX_gal_e uptake=0\n",
      "\tEX_succ_e uptake=0\n",
      "\tEX_mal__L_e uptake=0\n",
      "\tEX_glyc_e uptake=0\n",
      "\tEX_lac__L_e uptake=0\n",
      "\tEX_ac_e uptake=-20\n",
      "Absolute total error: 0.249826\n",
      "Total error change: -49.4167%\n",
      "Absolute percent error: 5.88966% -- 80.5633%\n",
      "Mean abs percent error = 43.2265%\n",
      "Median abs percent error = 43.2265%\n"
     ]
    }
   ],
   "source": [
    "kfit_dict = {}\n",
    "for group_id, var_dict in iteritems(var_cons_dict):\n",
    "    var = var_dict[0]\n",
    "    cons = var_dict[1]\n",
    "    a0  = var_dict[0][2]\n",
    "    kfit = 0.\n",
    "    for l,pwr in enumerate(powers):\n",
    "        for k,digit in enumerate(digits):            \n",
    "            yid = 'binary_%s%s%s' % (group_id,k,l)\n",
    "            y   = sol_masterk[yid]\n",
    "            kfit += y*a0*radix**pwr*digit\n",
    "    kfit_dict[group_id] = kfit\n",
    "\n",
    "kfit_changed = [(k,v, abs(v-a0)/a0) for k,v in iteritems(kfit_dict) if abs(v-a0)/a0>1e-6]\n",
    "print('Changed keffs: %d/%d' % (len(kfit_changed), len(var_cons_dict)))\n",
    "#----------------------------------------\n",
    "# Starting from basal model\n",
    "perrs = []\n",
    "errs_fit = []\n",
    "errs_unfit = []\n",
    "csrcs = df_conds.cond.unique()\n",
    "for csrc in csrcs:        \n",
    "    ijofit = load_json_model('/home/laurence/ME/data/dynamicME/nominal_ijomc.json')\n",
    "    crowding = ijofit.metabolites.get_by_id('crowding')\n",
    "    df_condi = df_conds[ df_conds.cond==csrc]    \n",
    "    for i,row in df_condi.iterrows():\n",
    "        rid = row['rxn']\n",
    "        rxn = ijofit.reactions.get_by_id(rid)\n",
    "        rxn.lower_bound = row['lb']\n",
    "        rxn.upper_bound = row['ub']\n",
    "\n",
    "    for rid,kfit in iteritems(kfit_dict):\n",
    "        rxn = ijofit.reactions.get_by_id(rid)\n",
    "        rxn.add_metabolites({crowding:kfit}, combine=False)\n",
    "    \n",
    "    ijofit.optimize()\n",
    "    \n",
    "    mu_measi = df_meas[ df_meas.substrate==csrc].growth_rate_1_h.iloc[0]\n",
    "    mu_fiti = ijofit.reactions.BIOMASS_Ec_iJO1366_core_53p95M.x\n",
    "    \n",
    "    # Get unfit\n",
    "    for rxn in ijofit.metabolites.crowding.reactions:\n",
    "        rxn._metabolites[crowding] = a0\n",
    "    ijofit.optimize()\n",
    "    mu_unfiti = ijofit.reactions.BIOMASS_Ec_iJO1366_core_53p95M.x\n",
    "    err0= 100*(mu_unfiti-mu_measi)/mu_measi\n",
    "    err = 100*(mu_fiti - mu_measi)/mu_measi\n",
    "    derr= 100*(abs(err)-abs(err0))/abs(err0)\n",
    "    perrs.append(err)\n",
    "    errs_unfit.append(mu_unfiti - mu_measi)\n",
    "    errs_fit.append(mu_fiti - mu_measi)\n",
    "    print('Cond=%s. mu_meas=%g. mu_sim=%g (unfit=%g, error=%.3g%%). Error=%.3g%% (%.3g%% change)' % (\n",
    "        csrc, mu_measi, mu_fiti, mu_unfiti, err0, err, derr))\n",
    "    for i,row in df_condi.iterrows():\n",
    "        rid = row['rxn']\n",
    "        rxn = ijofit.reactions.get_by_id(rid)        \n",
    "        print('\\t%s uptake=%g' % (rxn.id, rxn.x))\n",
    "perrs = np.array(perrs)\n",
    "errs_fit = np.array(errs_fit)\n",
    "errs_unfit = np.array(errs_unfit)\n",
    "tot_err = sum(abs(errs_fit))\n",
    "tot_err0 = sum(abs(errs_unfit))\n",
    "print(\"Absolute total error: %g\"%(tot_err))\n",
    "print(\"Total error change: %g%%\"%( 100*(tot_err-tot_err0)/tot_err0  ))\n",
    "print(\"Absolute percent error: %g%% -- %g%%\"%(min(abs(perrs)), max(abs(perrs))))\n",
    "print(\"Mean abs percent error = %g%%\"%(np.mean(abs(perrs))))\n",
    "print(\"Median abs percent error = %g%%\"%(np.median(abs(perrs))))"
   ]
  },
  {
   "cell_type": "markdown",
   "metadata": {
    "deletable": true,
    "editable": true
   },
   "source": [
    "## Total error"
   ]
  },
  {
   "cell_type": "code",
   "execution_count": null,
   "metadata": {
    "collapsed": false,
    "deletable": true,
    "editable": true
   },
   "outputs": [],
   "source": [
    "y_sames = []\n",
    "for y in sub._ys:\n",
    "    sub1 = sub_dict['acetate']\n",
    "    sub2 = sub_dict['glucose']\n",
    "    y1 = sub1.x_dict[y.VarName]\n",
    "    y2 = sub2.x_dict[y.VarName]\n",
    "    y_sames.append(abs(y1-y2)<1e-10)\n",
    "    print('%20.18s%12.10s%12.10s%12.10s'%(y.VarName,y1,y2, abs(y1-y2)<1e-10))    "
   ]
  },
  {
   "cell_type": "code",
   "execution_count": null,
   "metadata": {
    "collapsed": false,
    "deletable": true,
    "editable": true
   },
   "outputs": [],
   "source": [
    "print('num same = %s/%s'%(sum(y_sames), len(y_sames)))"
   ]
  }
 ],
 "metadata": {
  "kernelspec": {
   "display_name": "Python 2",
   "language": "python",
   "name": "python2"
  },
  "language_info": {
   "codemirror_mode": {
    "name": "ipython",
    "version": 2
   },
   "file_extension": ".py",
   "mimetype": "text/x-python",
   "name": "python",
   "nbconvert_exporter": "python",
   "pygments_lexer": "ipython2",
   "version": "2.7.14"
  }
 },
 "nbformat": 4,
 "nbformat_minor": 2
}
