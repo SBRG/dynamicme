{
 "cells": [
  {
   "cell_type": "markdown",
   "metadata": {
    "deletable": true,
    "editable": true
   },
   "source": [
    "# GEM radix Lagrangean decomposition"
   ]
  },
  {
   "cell_type": "code",
   "execution_count": 1,
   "metadata": {
    "collapsed": true,
    "deletable": true,
    "editable": true
   },
   "outputs": [],
   "source": [
    "REG_WEIGHT   = 0. #1e-4\n",
    "MAX_NONZERO  = None #48*2\n",
    "PREVENT_ZERO = True\n",
    "TWO_PHASE    = True"
   ]
  },
  {
   "cell_type": "code",
   "execution_count": 2,
   "metadata": {
    "collapsed": false,
    "deletable": true,
    "editable": true
   },
   "outputs": [],
   "source": [
    "%load_ext line_profiler"
   ]
  },
  {
   "cell_type": "code",
   "execution_count": 3,
   "metadata": {
    "collapsed": false,
    "deletable": true,
    "editable": true
   },
   "outputs": [],
   "source": [
    "from gurobipy import *\n",
    "\n",
    "import seaborn as sns\n",
    "import pandas as pd\n",
    "import matplotlib.pyplot as plt\n",
    "import numpy as np\n",
    "\n",
    "plt.rcParams['svg.fonttype'] = 'none'\n",
    "pd.set_option('display.max_colwidth', -1)\n",
    "%matplotlib inline\n",
    "\n",
    "from cobra.io import load_json_model\n",
    "from six import iteritems\n",
    "import numpy as np\n",
    "import cobra"
   ]
  },
  {
   "cell_type": "code",
   "execution_count": 4,
   "metadata": {
    "collapsed": true,
    "deletable": true,
    "editable": true
   },
   "outputs": [],
   "source": [
    "#ijomc = load_json_model('/home/laurence/ME/models/e_coli_core_pc.json')\n",
    "ijomc = load_json_model('/home/laurence/ME/data/dynamicME/nominal_ijomc.json')"
   ]
  },
  {
   "cell_type": "code",
   "execution_count": 5,
   "metadata": {
    "collapsed": false,
    "deletable": true,
    "editable": true
   },
   "outputs": [
    {
     "name": "stdout",
     "output_type": "stream",
     "text": [
      "<Solution 0.97 at 0x7fb78b6986d0>\n",
      "BIOMASS_Ec_iJO1366_core_53p95M\n"
     ]
    }
   ],
   "source": [
    "print(ijomc.optimize())\n",
    "mu_crowd0 = ijomc.reactions.BIOMASS_Ec_iJO1366_core_53p95M\n",
    "print(mu_crowd0)"
   ]
  },
  {
   "cell_type": "code",
   "execution_count": 175,
   "metadata": {
    "collapsed": false
   },
   "outputs": [],
   "source": [
    "a0s = [rxn.metabolites[ijomc.metabolites.crowding] for rxn in ijomc.metabolites.crowding.reactions]\n",
    "# a0s"
   ]
  },
  {
   "cell_type": "code",
   "execution_count": 6,
   "metadata": {
    "collapsed": false,
    "deletable": true,
    "editable": true
   },
   "outputs": [],
   "source": [
    "df_meas = pd.read_csv('/home/laurence/ME/data/dynamicME/beg/growth_meas.csv')\n",
    "\n",
    "ex_rxns = [r for r in df_meas.ex_rxn.unique() if ijomc.reactions.has_id(r)]\n",
    "df_meas = df_meas[ df_meas.ex_rxn.isin(ex_rxns)]\n",
    "conds = df_meas.substrate.unique()\n",
    "\n",
    "N_CONDS = len(conds)\n",
    "#N_CONDS = 2\n",
    "\n",
    "df_conds = pd.DataFrame([{'cond':r['substrate'], 'rxn':ex_rxn, 'lb':-10 if r['ex_rxn']==ex_rxn else 0, 'ub':1000., 'obj':0.} for i,r in df_meas.iterrows() for ex_rxn in ex_rxns])\n",
    "\n",
    "if N_CONDS==1:\n",
    "    df_conds = df_conds[ df_conds.cond=='acetate']\n",
    "elif N_CONDS<=3:\n",
    "    df_conds = df_conds[ df_conds.cond.isin(['glucose','acetate','succinate'][0:N_CONDS])]\n",
    "else:\n",
    "    df_conds = df_conds[ df_conds.cond.isin(conds[0:N_CONDS])]\n",
    "\n",
    "df_conds.loc[ (df_conds.cond=='acetate') & (df_conds.rxn=='EX_ac_e'), 'lb'] = -20"
   ]
  },
  {
   "cell_type": "markdown",
   "metadata": {
    "deletable": true,
    "editable": true
   },
   "source": [
    "# Make radix problem"
   ]
  },
  {
   "cell_type": "code",
   "execution_count": 7,
   "metadata": {
    "collapsed": false,
    "deletable": true,
    "editable": true
   },
   "outputs": [],
   "source": [
    "from dynamicme.estimate import RadixEstimator"
   ]
  },
  {
   "cell_type": "code",
   "execution_count": 8,
   "metadata": {
    "collapsed": false,
    "deletable": true,
    "editable": true
   },
   "outputs": [],
   "source": [
    "df_Y = df_meas.rename(columns={'growth_rate_1_h':'output', 'substrate':'cond'})\n",
    "df_Y.loc[:,'output_id'] = 'BIOMASS_Ec_iJO1366_core_53p95M'\n",
    "df_X = df_conds"
   ]
  },
  {
   "cell_type": "code",
   "execution_count": 9,
   "metadata": {
    "collapsed": true,
    "deletable": true,
    "editable": true
   },
   "outputs": [],
   "source": [
    "from dynamicme.decomposition import LagrangeMaster, LagrangeSubmodel"
   ]
  },
  {
   "cell_type": "code",
   "execution_count": 10,
   "metadata": {
    "collapsed": false,
    "deletable": true,
    "editable": true
   },
   "outputs": [
    {
     "name": "stdout",
     "output_type": "stream",
     "text": [
      "Changed value of parameter OutputFlag to 1\n",
      "   Prev: 0  Min: 0  Max: 1  Default: 1\n",
      "Changed value of parameter OutputFlag to 1\n",
      "   Prev: 0  Min: 0  Max: 1  Default: 1\n",
      "Changed value of parameter OutputFlag to 1\n",
      "   Prev: 0  Min: 0  Max: 1  Default: 1\n",
      "Changed value of parameter OutputFlag to 1\n",
      "   Prev: 0  Min: 0  Max: 1  Default: 1\n",
      "Changed value of parameter OutputFlag to 1\n",
      "   Prev: 0  Min: 0  Max: 1  Default: 1\n",
      "Changed value of parameter OutputFlag to 1\n",
      "   Prev: 0  Min: 0  Max: 1  Default: 1\n",
      "Changed value of parameter OutputFlag to 1\n",
      "   Prev: 0  Min: 0  Max: 1  Default: 1\n",
      "Changed value of parameter OutputFlag to 1\n",
      "   Prev: 0  Min: 0  Max: 1  Default: 1\n",
      "Changed value of parameter OutputFlag to 1\n",
      "   Prev: 0  Min: 0  Max: 1  Default: 1\n",
      "Changed value of parameter OutputFlag to 1\n",
      "   Prev: 0  Min: 0  Max: 1  Default: 1\n"
     ]
    }
   ],
   "source": [
    "conds = df_conds.cond.unique()\n",
    "sub_dict = {}\n",
    "for cond in conds:\n",
    "    df_Xk = df_X[ df_X.cond==cond]\n",
    "    df_Yk = df_Y[ df_Y.cond==cond]\n",
    "    estk = RadixEstimator()\n",
    "    estk.fit(ijomc, df_Xk, df_Yk, reg_weight = REG_WEIGHT, max_nonzero_binaries=MAX_NONZERO, optimize=False)    \n",
    "    sub = LagrangeSubmodel(estk.stacker.model, cond)\n",
    "    sub_dict[cond] = sub"
   ]
  },
  {
   "cell_type": "code",
   "execution_count": null,
   "metadata": {
    "collapsed": true,
    "deletable": true,
    "editable": true
   },
   "outputs": [],
   "source": [
    "master = LagrangeMaster(estk.stacker.model)\n",
    "master.add_submodels(sub_dict)"
   ]
  },
  {
   "cell_type": "markdown",
   "metadata": {
    "deletable": true,
    "editable": true
   },
   "source": [
    "### Two-phase"
   ]
  },
  {
   "cell_type": "code",
   "execution_count": null,
   "metadata": {
    "collapsed": false,
    "deletable": true,
    "editable": true,
    "scrolled": false
   },
   "outputs": [
    {
     "name": "stdout",
     "output_type": "stream",
     "text": [
      "    Iter                    UB                    LB       gap relgap(%)   penalty                       Time(s)\n",
      "  ------   -------------------   -------------------  -------- ---------  -------- -----------------------------\n",
      "               Best   Feasible        Sub       Best                                   total    master       sub\n",
      "       0       1000     1e+100          0          0      1000       100         0  9.175333  0.016643  9.143867\n"
     ]
    },
    {
     "name": "stderr",
     "output_type": "stream",
     "text": [
      "/home/laurence/python_modules/dynamicme.git/dynamicme/decomposition.py:2145 \u001b[1;31mUserWarning\u001b[0m: Solution available but Master solver status=suboptimal (13).\n"
     ]
    },
    {
     "name": "stdout",
     "output_type": "stream",
     "text": [
      "Master solver status=suboptimal (13).\n",
      "       5      67.78     1e+100      -3094          0     67.78       100      55.4  169.1267  0.067306  48.56249\n",
      "Master solver status=suboptimal (13).\n",
      "      10      43.08     1e+100 -1.066e+04          0     43.08       100      18.3  340.3065  0.151319  27.12141\n",
      "      15      225.2     1e+100 -1.129e+05          0     225.2       100      62.5  487.4238  0.263276  22.21052\n",
      "      20      227.7     1e+100 -5.499e+05          0     227.7       100      38.2  597.4814  0.548017  17.10634\n",
      "Master solver status=suboptimal (13).\n",
      "      25        181     1e+100 -1.398e+06          0       181       100      8.27  710.6746  0.767996  22.87248\n",
      "      30      169.9     1e+100 -2.701e+06          0     169.9       100      1.15  812.1018  1.067464  21.79675\n",
      "      35      167.1     1e+100 -3.831e+06          0     167.1       100     0.324  923.7047  2.195050  21.26261\n",
      "      40      161.9     1e+100 -3.789e+06          0     161.9       100     0.323  1055.404  1.844273  20.59481\n",
      "      45      158.4     1e+100 -3.588e+06          0     158.4       100     0.323  1173.435  2.267774  20.48751\n",
      "      50        155     1e+100 -3.574e+06          0       155       100     0.313  1301.971  2.647824  28.04679\n",
      "      55        152     1e+100 -3.431e+06          0       152       100     0.315  1453.805  3.577973  45.05616\n",
      "      60        149     1e+100 -3.457e+06          0       149       100     0.291  1612.853  4.041898  51.84650\n",
      "      65      146.1     1e+100 -3.324e+06          0     146.1       100     0.279  1750.587  4.547286  28.49863\n",
      "      70      142.9     1e+100 -3.302e+06          0     142.9       100     0.293  1901.058  5.126806  20.44030\n",
      "      75      138.8     1e+100 -3.404e+06          0     138.8       100     0.302  2073.073  5.505179  32.93803\n",
      "      80      134.6     1e+100 -3.295e+06          0     134.6       100     0.276  2218.303  6.107311  21.31156\n",
      "      85      131.3     1e+100 -3.197e+06          0     131.3       100      0.28  2376.676  6.919722  19.04651\n",
      "      90      128.2     1e+100 -3.161e+06          0     128.2       100     0.258  2538.982  7.578975  22.52176\n",
      "      95      125.9     1e+100 -3.011e+06          0     125.9       100     0.244  2685.934  8.409294  24.41232\n",
      "     100      123.9     1e+100  -2.91e+06          0     123.9       100     0.229  2858.718  10.13611  26.71285\n",
      "     105      121.9     1e+100 -2.968e+06          0     121.9       100     0.233  3010.164  10.72082  18.96431\n",
      "     110      120.1     1e+100 -2.988e+06          0     120.1       100     0.221  3176.611  11.23510  29.77752\n",
      "     115      118.1     1e+100 -2.986e+06          0     118.1       100     0.229  3374.002  12.24288  32.81581\n",
      "     120      116.2     1e+100 -2.871e+06          0     116.2       100     0.228  3597.265  12.52183  23.45106\n",
      "     125        114     1e+100 -3.019e+06          0       114       100     0.249  3834.248  14.05898  19.58021\n",
      "     130      111.3     1e+100 -2.955e+06          0     111.3       100     0.245  4038.292  15.56932  20.88775\n",
      "     135      108.8     1e+100 -2.861e+06          0     108.8       100      0.24  4239.664  15.82029  22.79330\n",
      "     140      106.7     1e+100 -2.804e+06          0     106.7       100     0.223  4443.640  18.13272  22.72490\n",
      "     145      105.1     1e+100 -2.785e+06          0     105.1       100     0.224  4663.034  19.85804  24.68730\n",
      "     150      102.8     1e+100 -2.818e+06          0     102.8       100     0.234  4894.854  19.50298  33.17786\n",
      "     155      100.6     1e+100 -2.821e+06          0     100.6       100     0.236  5150.091  24.12250  34.07384\n",
      "     160      98.12     1e+100 -2.815e+06          0     98.12       100     0.231  5396.858  24.76483  22.39900\n",
      "     165      95.46     1e+100 -2.778e+06          0     95.46       100     0.228  5643.239  28.03991  24.71650\n",
      "     170      92.86     1e+100 -2.828e+06          0     92.86       100     0.237  5903.699  26.91449  17.86860\n",
      "     175       90.4     1e+100 -2.738e+06          0      90.4       100     0.232  6188.100  29.13549  37.77677\n",
      "     180      88.11     1e+100 -2.666e+06          0     88.11       100      0.22  6476.383  30.66171  26.23266\n",
      "     185      85.95     1e+100 -2.664e+06          0     85.95       100     0.218  6804.438  35.36213  22.82917\n",
      "     190       83.7     1e+100 -2.709e+06          0      83.7       100     0.219  7168.078  38.87819  24.85354\n",
      "     195      81.45     1e+100 -2.669e+06          0     81.45       100     0.227  7490.385  38.62295  16.55618\n",
      "     200      79.24     1e+100 -2.541e+06          0     79.24       100     0.199  7838.938  44.76273  23.20602\n",
      "     205      77.93     1e+100 -2.512e+06          0     77.93       100     0.181  8183.441  45.33231  26.54194\n",
      "     210      76.39     1e+100 -2.622e+06          0     76.39       100     0.204  8567.525  51.66509  17.91103\n",
      "     215      74.53     1e+100 -2.572e+06          0     74.53       100     0.209  8955.765  65.27610  19.69657\n",
      "     220      72.96     1e+100 -2.483e+06          0     72.96       100     0.187  9364.037  81.82386  19.12986\n",
      "     225      71.56     1e+100 -2.376e+06          0     71.56       100     0.177  9754.067  51.69771  22.29550\n",
      "     230      70.55     1e+100 -2.266e+06          0     70.55       100     0.162  10186.89  60.13362  20.71482\n",
      "     235      69.57     1e+100 -2.336e+06          0     69.57       100     0.168  10608.51  60.93364  30.37577\n",
      "Stopping due to time limit of 10800 seconds.\n",
      "    Iter                    UB                    LB       gap relgap(%)   penalty                       Time(s)\n",
      "  ------   -------------------   -------------------  -------- ---------  -------- -----------------------------\n",
      "               Best   Feasible        Sub       Best                                   total    master       sub"
     ]
    },
    {
     "name": "stderr",
     "output_type": "stream",
     "text": [
      "/home/laurence/python_modules/dynamicme.git/dynamicme/decomposition.py:2145 \u001b[1;31mUserWarning\u001b[0m: Solution available but Master solver status=time_limit (9).\n"
     ]
    },
    {
     "name": "stdout",
     "output_type": "stream",
     "text": [
      "\n",
      "Master solver status=time_limit (9).\n",
      "       0    0.01377     1e+100    -0.7718    -0.7718    0.7856      5703  0.000881  1002.555  91.84940  910.6903\n",
      "Master solver status=suboptimal (13).\n"
     ]
    }
   ],
   "source": [
    "master.time_limit = 3*3600\n",
    "#master.max_iter = 500\n",
    "master.verbosity = 2\n",
    "master.print_iter = 5\n",
    "master.gaptol = 1e-3\n",
    "master.absgaptol = 1e-3\n",
    "feasible_method = 'enumerate'\n",
    "alt_method = 'pool'\n",
    "max_alt = 10    # Computationally expensive if too large. Might miss feasible solution if too small.\n",
    "                # Can make adaptive if no feasible solution found for certain iterations.\n",
    "if TWO_PHASE:\n",
    "    sol_master = master.solve_relaxed(feasible_method=None)\n",
    "    df_phase1 = pd.DataFrame(master.log_rows)\n",
    "    \n",
    "sol_master = master.optimize(feasible_method=feasible_method, max_alt=max_alt, alt_method=alt_method,\n",
    "                            nogood_cuts = True) \n",
    "df_phase2 = pd.DataFrame(master.log_rows)"
   ]
  },
  {
   "cell_type": "code",
   "execution_count": 155,
   "metadata": {
    "collapsed": false,
    "deletable": true,
    "editable": true
   },
   "outputs": [
    {
     "data": {
      "text/plain": [
       "<seaborn.axisgrid.FacetGrid at 0x7fb6880754d0>"
      ]
     },
     "execution_count": 155,
     "metadata": {},
     "output_type": "execute_result"
    },
    {
     "data": {
      "image/png": "[encoded data removed]",
      "text/plain": [
       "<matplotlib.figure.Figure at 0x7fb6b98b5590>"
      ]
     },
     "metadata": {},
     "output_type": "display_data"
    }
   ],
   "source": [
    "#xcol = 'iter'\n",
    "xcol = 't_total'\n",
    "df_phase1.loc[:,'phase'] = 1\n",
    "df_phase2.loc[:,'phase'] = 2\n",
    "dsplot = pd.concat([df_phase1, df_phase2])\n",
    "dsplot = dsplot[[xcol,'feasUB','bestUB','bestLB','phase']]\n",
    "dsplot = dsplot.melt(id_vars=[xcol,'phase'])\n",
    "dsplot.loc[ dsplot.value>1e4, 'value'] = np.nan\n",
    "dsplot.loc[ dsplot.value<-1e4, 'value'] = np.nan\n",
    "\n",
    "g = sns.FacetGrid(dsplot, hue='variable', size=4, aspect=3, row='phase', sharey=False, sharex=False)\n",
    "g.map(plt.plot, xcol,'value')\n",
    "g.add_legend()"
   ]
  },
  {
   "cell_type": "code",
   "execution_count": 156,
   "metadata": {
    "collapsed": true,
    "deletable": true,
    "editable": true
   },
   "outputs": [],
   "source": [
    "### Save stats\n",
    "dsplot.to_csv('stats_10.csv', index=False)"
   ]
  },
  {
   "cell_type": "code",
   "execution_count": 73,
   "metadata": {
    "collapsed": false
   },
   "outputs": [
    {
     "data": {
      "text/html": [
       "<div>\n",
       "<style scoped>\n",
       "    .dataframe tbody tr th:only-of-type {\n",
       "        vertical-align: middle;\n",
       "    }\n",
       "\n",
       "    .dataframe tbody tr th {\n",
       "        vertical-align: top;\n",
       "    }\n",
       "\n",
       "    .dataframe thead th {\n",
       "        text-align: right;\n",
       "    }\n",
       "</style>\n",
       "<table border=\"1\" class=\"dataframe\">\n",
       "  <thead>\n",
       "    <tr style=\"text-align: right;\">\n",
       "      <th></th>\n",
       "      <th>LB</th>\n",
       "      <th>bestLB</th>\n",
       "      <th>bestUB</th>\n",
       "      <th>delta</th>\n",
       "      <th>feasUB</th>\n",
       "      <th>gap</th>\n",
       "      <th>iter</th>\n",
       "      <th>relgap</th>\n",
       "      <th>res_u</th>\n",
       "      <th>t_master</th>\n",
       "      <th>t_sub</th>\n",
       "      <th>t_total</th>\n",
       "      <th>phase</th>\n",
       "    </tr>\n",
       "  </thead>\n",
       "  <tbody>\n",
       "    <tr>\n",
       "      <th>0</th>\n",
       "      <td>-0.771794</td>\n",
       "      <td>-0.771794</td>\n",
       "      <td>0.013774</td>\n",
       "      <td>1.00</td>\n",
       "      <td>1.000000e+100</td>\n",
       "      <td>0.785567</td>\n",
       "      <td>0</td>\n",
       "      <td>5703.308002</td>\n",
       "      <td>0.000881</td>\n",
       "      <td>91.849401</td>\n",
       "      <td>910.690324</td>\n",
       "      <td>1002.555867</td>\n",
       "      <td>2</td>\n",
       "    </tr>\n",
       "    <tr>\n",
       "      <th>1</th>\n",
       "      <td>-2.993348</td>\n",
       "      <td>-0.771794</td>\n",
       "      <td>0.013034</td>\n",
       "      <td>0.50</td>\n",
       "      <td>1.000000e+100</td>\n",
       "      <td>0.784828</td>\n",
       "      <td>1</td>\n",
       "      <td>6021.392576</td>\n",
       "      <td>0.000950</td>\n",
       "      <td>106.909359</td>\n",
       "      <td>5522.560394</td>\n",
       "      <td>6632.032212</td>\n",
       "      <td>2</td>\n",
       "    </tr>\n",
       "    <tr>\n",
       "      <th>2</th>\n",
       "      <td>-5.778701</td>\n",
       "      <td>-0.771794</td>\n",
       "      <td>0.011386</td>\n",
       "      <td>0.25</td>\n",
       "      <td>1.000000e+100</td>\n",
       "      <td>0.783179</td>\n",
       "      <td>2</td>\n",
       "      <td>6878.548493</td>\n",
       "      <td>0.002227</td>\n",
       "      <td>101.567484</td>\n",
       "      <td>8519.390083</td>\n",
       "      <td>15252.996176</td>\n",
       "      <td>2</td>\n",
       "    </tr>\n",
       "  </tbody>\n",
       "</table>\n",
       "</div>"
      ],
      "text/plain": [
       "         LB    bestLB    bestUB  delta         feasUB       gap  iter  \\\n",
       "0 -0.771794 -0.771794  0.013774  1.00   1.000000e+100  0.785567  0      \n",
       "1 -2.993348 -0.771794  0.013034  0.50   1.000000e+100  0.784828  1      \n",
       "2 -5.778701 -0.771794  0.011386  0.25   1.000000e+100  0.783179  2      \n",
       "\n",
       "        relgap     res_u    t_master        t_sub       t_total  phase  \n",
       "0  5703.308002  0.000881  91.849401   910.690324   1002.555867   2      \n",
       "1  6021.392576  0.000950  106.909359  5522.560394  6632.032212   2      \n",
       "2  6878.548493  0.002227  101.567484  8519.390083  15252.996176  2      "
      ]
     },
     "execution_count": 73,
     "metadata": {},
     "output_type": "execute_result"
    }
   ],
   "source": [
    "df_phase2"
   ]
  },
  {
   "cell_type": "code",
   "execution_count": 21,
   "metadata": {
    "collapsed": true,
    "deletable": true,
    "editable": true
   },
   "outputs": [],
   "source": [
    "var_cons_dict = estk.var_cons_dict\n",
    "powers = estk.powers\n",
    "digits = estk.digits\n",
    "radix  = estk.radix"
   ]
  },
  {
   "cell_type": "code",
   "execution_count": 78,
   "metadata": {
    "collapsed": false,
    "deletable": true,
    "editable": true
   },
   "outputs": [],
   "source": [
    "if not sol_master:\n",
    "    sol_masterk = sub.x_dict\n",
    "#     feasUB = 1e100\n",
    "#     for sub_ind,sub in iteritems(sub_dict):\n",
    "#         yk = np.array([sub.x_dict[v.VarName] for v in sub._ys])        \n",
    "#         obj_dict, feas_dict, sub_stats = master.check_feasible(yk)\n",
    "#         feasUBk = sum(obj_dict.values())\n",
    "#         print(\"feasUB for %s: %s\" % (sub_ind, feasUBk))\n",
    "#         if feasUBk < feasUB:\n",
    "#             feasUB = feasUBk\n",
    "#             sol_masterk = sub.x_dict\n",
    "else:\n",
    "    sol_masterk = sol_master"
   ]
  },
  {
   "cell_type": "code",
   "execution_count": 79,
   "metadata": {
    "collapsed": false,
    "deletable": true,
    "editable": true
   },
   "outputs": [],
   "source": [
    "sol0 = sub.x_dict\n",
    "sol_masterk = {}\n",
    "for k,v in iteritems(sol0):\n",
    "    if 'binary_' in k:\n",
    "        vs = [sub.x_dict[k] for sub in sub_dict.values()]\n",
    "        sol_masterk[k] = np.round(np.mean(vs))"
   ]
  },
  {
   "cell_type": "markdown",
   "metadata": {},
   "source": [
    "# Save solution"
   ]
  },
  {
   "cell_type": "markdown",
   "metadata": {},
   "source": [
    "import json\n",
    "\n",
    "with open('optkeffs_ijo_10.json','w') as f:\n",
    "    json.dump(sol_masterk, f)"
   ]
  },
  {
   "cell_type": "markdown",
   "metadata": {},
   "source": [
    "# Check solution"
   ]
  },
  {
   "cell_type": "code",
   "execution_count": 166,
   "metadata": {
    "collapsed": false
   },
   "outputs": [
    {
     "name": "stdout",
     "output_type": "stream",
     "text": [
      "Changed keffs: 2018/2018\n"
     ]
    }
   ],
   "source": [
    "kfit_dict = {}\n",
    "for group_id, var_dict in iteritems(var_cons_dict):\n",
    "    var = var_dict[0]\n",
    "    cons = var_dict[1]\n",
    "    a0  = var_dict[0][2]\n",
    "    kfit = 0.\n",
    "    for l,pwr in enumerate(powers):\n",
    "        for k,digit in enumerate(digits):            \n",
    "            yid = 'binary_%s%s%s' % (group_id,k,l)\n",
    "            y   = sol_masterk[yid]\n",
    "            kfit += y*a0*radix**pwr*digit\n",
    "    kfit_dict[group_id] = kfit\n",
    "\n",
    "kfit_changed = [(k,v, abs(v-a0)/a0) for k,v in iteritems(kfit_dict) if abs(v-a0)/a0>1e-6]\n",
    "print('Changed keffs: %d/%d' % (len(kfit_changed), len(var_cons_dict)))"
   ]
  },
  {
   "cell_type": "markdown",
   "metadata": {},
   "source": [
    "# Save keffs"
   ]
  },
  {
   "cell_type": "code",
   "execution_count": 168,
   "metadata": {
    "collapsed": true
   },
   "outputs": [],
   "source": [
    "import json\n",
    "\n",
    "with open('/home/laurence/ME/data/dynamicME/keff_radix/kfit_dict_10.json','w') as f:\n",
    "    json.dump(kfit_dict, f)"
   ]
  },
  {
   "cell_type": "code",
   "execution_count": 177,
   "metadata": {
    "collapsed": true
   },
   "outputs": [],
   "source": [
    "a0 = None"
   ]
  },
  {
   "cell_type": "code",
   "execution_count": 178,
   "metadata": {
    "collapsed": false,
    "deletable": true,
    "editable": true,
    "scrolled": true
   },
   "outputs": [
    {
     "name": "stdout",
     "output_type": "stream",
     "text": [
      "Cond=glucose. mu_meas=0.74. mu_sim=0.743117 (unfit=0.972909, error=31.5%). Error=0.421% (-98.7% change)\n",
      "\tEX_glc__D_e uptake=-10\n",
      "\tEX_malt_e uptake=0\n",
      "\tEX_man_e uptake=0\n",
      "\tEX_fru_e uptake=0\n",
      "\tEX_gal_e uptake=0\n",
      "\tEX_succ_e uptake=0\n",
      "\tEX_mal__L_e uptake=0\n",
      "\tEX_glyc_e uptake=0\n",
      "\tEX_lac__L_e uptake=0\n",
      "\tEX_ac_e uptake=0\n",
      "Cond=maltose. mu_meas=0.62. mu_sim=0.862881 (unfit=1.69369, error=173%). Error=39.2% (-77.4% change)\n",
      "\tEX_glc__D_e uptake=0\n",
      "\tEX_malt_e uptake=-6.22534\n",
      "\tEX_man_e uptake=0\n",
      "\tEX_fru_e uptake=0\n",
      "\tEX_gal_e uptake=0\n",
      "\tEX_succ_e uptake=0\n",
      "\tEX_mal__L_e uptake=0\n",
      "\tEX_glyc_e uptake=0\n",
      "\tEX_lac__L_e uptake=0\n",
      "\tEX_ac_e uptake=0.502694\n",
      "Cond=mannose. mu_meas=0.56. mu_sim=0.662882 (unfit=0.965446, error=72.4%). Error=18.4% (-74.6% change)\n",
      "\tEX_glc__D_e uptake=0\n",
      "\tEX_malt_e uptake=0\n",
      "\tEX_man_e uptake=-10\n",
      "\tEX_fru_e uptake=0\n",
      "\tEX_gal_e uptake=0\n",
      "\tEX_succ_e uptake=0\n",
      "\tEX_mal__L_e uptake=0\n",
      "\tEX_glyc_e uptake=0\n",
      "\tEX_lac__L_e uptake=0\n",
      "\tEX_ac_e uptake=0\n",
      "Cond=fructose. mu_meas=0.55. mu_sim=0.664529 (unfit=0.969159, error=76.2%). Error=20.8% (-72.7% change)\n",
      "\tEX_glc__D_e uptake=0\n",
      "\tEX_malt_e uptake=0\n",
      "\tEX_man_e uptake=0\n",
      "\tEX_fru_e uptake=-10\n",
      "\tEX_gal_e uptake=0\n",
      "\tEX_succ_e uptake=0\n",
      "\tEX_mal__L_e uptake=0\n",
      "\tEX_glyc_e uptake=0\n",
      "\tEX_lac__L_e uptake=0\n",
      "\tEX_ac_e uptake=0\n",
      "Cond=galactose. mu_meas=0.52. mu_sim=0.736823 (unfit=0.95982, error=84.6%). Error=41.7% (-50.7% change)\n",
      "\tEX_glc__D_e uptake=0\n",
      "\tEX_malt_e uptake=0\n",
      "\tEX_man_e uptake=0\n",
      "\tEX_fru_e uptake=0\n",
      "\tEX_gal_e uptake=-10\n",
      "\tEX_succ_e uptake=0\n",
      "\tEX_mal__L_e uptake=0\n",
      "\tEX_glyc_e uptake=0\n",
      "\tEX_lac__L_e uptake=0\n",
      "\tEX_ac_e uptake=0\n",
      "Cond=succinate. mu_meas=0.46. mu_sim=0.445915 (unfit=0.492484, error=7.06%). Error=-3.06% (-56.6% change)\n",
      "\tEX_glc__D_e uptake=0\n",
      "\tEX_malt_e uptake=0\n",
      "\tEX_man_e uptake=0\n",
      "\tEX_fru_e uptake=0\n",
      "\tEX_gal_e uptake=0\n",
      "\tEX_succ_e uptake=-10\n",
      "\tEX_mal__L_e uptake=0\n",
      "\tEX_glyc_e uptake=0\n",
      "\tEX_lac__L_e uptake=0\n",
      "\tEX_ac_e uptake=0\n",
      "Cond=malate. mu_meas=0.44. mu_sim=0.448885 (unfit=0.449417, error=2.14%). Error=2.02% (-5.65% change)\n",
      "\tEX_glc__D_e uptake=0\n",
      "\tEX_malt_e uptake=0\n",
      "\tEX_man_e uptake=0\n",
      "\tEX_fru_e uptake=0\n",
      "\tEX_gal_e uptake=0\n",
      "\tEX_succ_e uptake=0\n",
      "\tEX_mal__L_e uptake=-10\n",
      "\tEX_glyc_e uptake=0\n",
      "\tEX_lac__L_e uptake=0\n",
      "\tEX_ac_e uptake=0\n",
      "Cond=glycerol. mu_meas=0.42. mu_sim=0.482636 (unfit=0.56279, error=34%). Error=14.9% (-56.1% change)\n",
      "\tEX_glc__D_e uptake=0\n",
      "\tEX_malt_e uptake=0\n",
      "\tEX_man_e uptake=0\n",
      "\tEX_fru_e uptake=0\n",
      "\tEX_gal_e uptake=0\n",
      "\tEX_succ_e uptake=0\n",
      "\tEX_mal__L_e uptake=0\n",
      "\tEX_glyc_e uptake=-10\n",
      "\tEX_lac__L_e uptake=0\n",
      "\tEX_ac_e uptake=0\n",
      "Cond=lactate. mu_meas=0.39. mu_sim=0.397711 (unfit=0.399081, error=2.33%). Error=1.98% (-15.1% change)\n",
      "\tEX_glc__D_e uptake=0\n",
      "\tEX_malt_e uptake=0\n",
      "\tEX_man_e uptake=0\n",
      "\tEX_fru_e uptake=0\n",
      "\tEX_gal_e uptake=0\n",
      "\tEX_succ_e uptake=0\n",
      "\tEX_mal__L_e uptake=0\n",
      "\tEX_glyc_e uptake=0\n",
      "\tEX_lac__L_e uptake=-10\n",
      "\tEX_ac_e uptake=0\n",
      "Cond=acetate. mu_meas=0.256. mu_sim=0.435871 (unfit=0.507518, error=98.2%). Error=70.3% (-28.5% change)\n",
      "\tEX_glc__D_e uptake=0\n",
      "\tEX_malt_e uptake=0\n",
      "\tEX_man_e uptake=0\n",
      "\tEX_fru_e uptake=0\n",
      "\tEX_gal_e uptake=0\n",
      "\tEX_succ_e uptake=0\n",
      "\tEX_mal__L_e uptake=0\n",
      "\tEX_glyc_e uptake=0\n",
      "\tEX_lac__L_e uptake=0\n",
      "\tEX_ac_e uptake=-20\n",
      "Absolute total error: 0.953418\n",
      "Total error change: -68.3913%\n",
      "Absolute percent error: 0.421166% -- 70.2619%\n",
      "Mean abs percent error = 21.2721%\n",
      "Median abs percent error = 16.6426%\n"
     ]
    }
   ],
   "source": [
    "#----------------------------------------\n",
    "# Starting from basal model\n",
    "perrs = []\n",
    "errs_fit = []\n",
    "errs_unfit = []\n",
    "csrcs = df_conds.cond.unique()\n",
    "rows = []\n",
    "for csrc in csrcs:        \n",
    "    ijofit = load_json_model('/home/laurence/ME/data/dynamicME/nominal_ijomc.json')        \n",
    "    #--------------------------------------------------\n",
    "    # Constrain to medium\n",
    "    df_condi = df_conds[ df_conds.cond==csrc]    \n",
    "    for i,row in df_condi.iterrows():\n",
    "        rid = row['rxn']\n",
    "        rxn = ijofit.reactions.get_by_id(rid)\n",
    "        rxn.lower_bound = row['lb']\n",
    "        rxn.upper_bound = row['ub']\n",
    "    # Get unfit growth rate first\n",
    "    crowding = ijofit.metabolites.get_by_id('crowding')\n",
    "    if a0 is not None:\n",
    "        for rxn in ijofit.metabolites.crowding.reactions:\n",
    "            rxn._metabolites[crowding] = a0\n",
    "    ijofit.optimize(solver='gurobi')\n",
    "    mu_unfiti = ijofit.reactions.BIOMASS_Ec_iJO1366_core_53p95M.x\n",
    "    \n",
    "    #--------------------------------------------------\n",
    "    # Fitted    \n",
    "    for rid,kfit in iteritems(kfit_dict):\n",
    "        rxn = ijofit.reactions.get_by_id(rid)\n",
    "        rxn.add_metabolites({crowding:kfit}, combine=False)\n",
    "    \n",
    "    ijofit.optimize(solver='gurobi')\n",
    "    \n",
    "    mu_measi = df_meas[ df_meas.substrate==csrc].growth_rate_1_h.iloc[0]\n",
    "    mu_fiti = ijofit.reactions.BIOMASS_Ec_iJO1366_core_53p95M.x\n",
    "        \n",
    "    err0= 100*(mu_unfiti-mu_measi)/mu_measi\n",
    "    err = 100*(mu_fiti - mu_measi)/mu_measi\n",
    "    derr= 100*(abs(err)-abs(err0))/abs(err0)\n",
    "    perrs.append(err)\n",
    "    errs_unfit.append(mu_unfiti - mu_measi)\n",
    "    errs_fit.append(mu_fiti - mu_measi)\n",
    "    print('Cond=%s. mu_meas=%g. mu_sim=%g (unfit=%g, error=%.3g%%). Error=%.3g%% (%.3g%% change)' % (\n",
    "        csrc, mu_measi, mu_fiti, mu_unfiti, err0, err, derr))\n",
    "    for i,row in df_condi.iterrows():\n",
    "        rid = row['rxn']\n",
    "        rxn = ijofit.reactions.get_by_id(rid)        \n",
    "        print('\\t%s uptake=%g' % (rxn.id, rxn.x))\n",
    "    \n",
    "    rows.append({'substrate':csrc, 'mu_fit':mu_fiti, 'mu_unfit':mu_unfiti, 'mu_meas':mu_measi})\n",
    "\n",
    "perrs = np.array(perrs)\n",
    "errs_fit = np.array(errs_fit)\n",
    "errs_unfit = np.array(errs_unfit)\n",
    "tot_err = sum(abs(errs_fit))\n",
    "tot_err0 = sum(abs(errs_unfit))\n",
    "print(\"Absolute total error: %g\"%(tot_err))\n",
    "print(\"Total error change: %g%%\"%( 100*(tot_err-tot_err0)/tot_err0  ))\n",
    "print(\"Absolute percent error: %g%% -- %g%%\"%(min(abs(perrs)), max(abs(perrs))))\n",
    "print(\"Mean abs percent error = %g%%\"%(np.mean(abs(perrs))))\n",
    "print(\"Median abs percent error = %g%%\"%(np.median(abs(perrs))))"
   ]
  },
  {
   "cell_type": "code",
   "execution_count": 179,
   "metadata": {
    "collapsed": false
   },
   "outputs": [],
   "source": [
    "from scipy import stats\n",
    "\n",
    "df_results = pd.DataFrame(rows)\n",
    "dsplot = df_results.melt(['substrate','mu_meas'])\n",
    "dsplot.loc[dsplot.variable=='mu_fit','model'] = 'Fit'\n",
    "dsplot.loc[dsplot.variable=='mu_unfit','model'] = 'Unfit'\n",
    "df_perf = dsplot.groupby('variable').apply(lambda x: pd.Series({\n",
    "    'mdape':100*np.median(abs(x['value']-x['mu_meas'])/abs(x['mu_meas'])),\n",
    "    'sse':sum( (x['value']-x['mu_meas'])**2 ),\n",
    "    'rho':stats.spearmanr(x['mu_meas'],x['value'])[0],\n",
    "    'r':stats.pearsonr(x['mu_meas'],x['value'])[0]\n",
    "}))"
   ]
  },
  {
   "cell_type": "code",
   "execution_count": 180,
   "metadata": {
    "collapsed": false
   },
   "outputs": [
    {
     "data": {
      "text/plain": [
       "<seaborn.axisgrid.FacetGrid at 0x7fb6949a1a10>"
      ]
     },
     "execution_count": 180,
     "metadata": {},
     "output_type": "execute_result"
    },
    {
     "data": {
      "image/png": "[encoded data removed]",
      "text/plain": [
       "<matplotlib.figure.Figure at 0x7fb69f86e850>"
      ]
     },
     "metadata": {},
     "output_type": "display_data"
    }
   ],
   "source": [
    "dsplot.variable = dsplot.variable.astype('category')\n",
    "dsplot.model = dsplot.model.astype('category')\n",
    "dsplot.variable.cat.reorder_categories(['mu_unfit','mu_fit'], inplace=True)\n",
    "g = sns.FacetGrid(dsplot, col='variable', hue='model', size=4)\n",
    "g.map(plt.plot, 'mu_meas','value', linestyle='None', marker='o', markeredgecolor='#000000', lw=0.2, markersize=8, alpha=0.75)\n",
    "for ax in g.axes.flat:\n",
    "    ax.plot([0,2],[0,2], zorder=1, color='#333333')\n",
    "    mdl  = ax.get_title().replace('variable = ','')\n",
    "    mdape= df_perf.loc[mdl].mdape\n",
    "    sse  = df_perf.loc[mdl].sse\n",
    "    r    = df_perf.loc[mdl].r\n",
    "    rho  = df_perf.loc[mdl].rho    \n",
    "    ax.set_title('%s (MdAPE=%.3g%%, SSE=%.3g)\\n(r=%.3g, rho=%.3g)'%(mdl,mdape, sse, r,rho))\n",
    "g.set_xlabels('Measured growth rate (h^{-1})')\n",
    "g.set_ylabels('Simulated growth rate (h^{-1})')\n",
    "g.add_legend()"
   ]
  },
  {
   "cell_type": "markdown",
   "metadata": {},
   "source": [
    "g.savefig('/home/laurence/ME/figures/decomposition/keff_radix/ijo_perf.svg')\n",
    "g.savefig('/home/laurence/ME/figures/decomposition/keff_radix/ijo_perf.eps')\n",
    "g.savefig('/home/laurence/ME/figures/decomposition/keff_radix/ijo_perf.pdf')"
   ]
  },
  {
   "cell_type": "markdown",
   "metadata": {
    "deletable": true,
    "editable": true
   },
   "source": [
    "## Total error"
   ]
  },
  {
   "cell_type": "code",
   "execution_count": 182,
   "metadata": {
    "collapsed": false,
    "deletable": true,
    "editable": true
   },
   "outputs": [
    {
     "name": "stdout",
     "output_type": "stream",
     "text": [
      "num same = 6054/6054\n"
     ]
    }
   ],
   "source": [
    "y_sames = []\n",
    "for y in sub._ys:\n",
    "    sub1 = sub_dict['acetate']\n",
    "    sub2 = sub_dict['glucose']\n",
    "    y1 = sub1.x_dict[y.VarName]\n",
    "    y2 = sub2.x_dict[y.VarName]\n",
    "    y_sames.append(abs(y1-y2)<1e-10)\n",
    "    #print('%20.18s%12.10s%12.10s%12.10s'%(y.VarName,y1,y2, abs(y1-y2)<1e-10))    \n",
    "\n",
    "print('num same = %s/%s'%(sum(y_sames), len(y_sames)))"
   ]
  }
 ],
 "metadata": {
  "kernelspec": {
   "display_name": "Python 2",
   "language": "python",
   "name": "python2"
  },
  "language_info": {
   "codemirror_mode": {
    "name": "ipython",
    "version": 2
   },
   "file_extension": ".py",
   "mimetype": "text/x-python",
   "name": "python",
   "nbconvert_exporter": "python",
   "pygments_lexer": "ipython2",
   "version": "2.7.14"
  }
 },
 "nbformat": 4,
 "nbformat_minor": 2
}
