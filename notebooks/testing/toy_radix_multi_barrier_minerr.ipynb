{
 "cells": [
  {
   "cell_type": "markdown",
   "metadata": {
    "deletable": true,
    "editable": true
   },
   "source": [
    "# Toy example for Radix-based for multiple conditions: test the improved Benders implementation"
   ]
  },
  {
   "cell_type": "code",
   "execution_count": 1,
   "metadata": {
    "collapsed": true,
    "deletable": true,
    "editable": true
   },
   "outputs": [],
   "source": [
    "SCALE_CROWDING=False\n",
    "PREVENT_ZERO = True"
   ]
  },
  {
   "cell_type": "code",
   "execution_count": 2,
   "metadata": {
    "collapsed": false,
    "deletable": true,
    "editable": true
   },
   "outputs": [],
   "source": [
    "%load_ext line_profiler"
   ]
  },
  {
   "cell_type": "code",
   "execution_count": 3,
   "metadata": {
    "collapsed": false,
    "deletable": true,
    "editable": true
   },
   "outputs": [
    {
     "name": "stdout",
     "output_type": "stream",
     "text": [
      "(<type 'exceptions.ImportError'>, ImportError('No module named cplex',), <traceback object at 0x7f8f60450ef0>)\n"
     ]
    }
   ],
   "source": [
    "from gurobipy import *\n",
    "\n",
    "import seaborn as sns\n",
    "import pandas as pd\n",
    "import matplotlib.pyplot as plt\n",
    "import numpy as np\n",
    "\n",
    "plt.rcParams['svg.fonttype'] = 'none'\n",
    "pd.set_option('display.max_colwidth', -1)\n",
    "%matplotlib inline\n",
    "\n",
    "from dynamicme.decomposition import Decomposer\n",
    "from dynamicme.callback_gurobi import cb_benders\n",
    "from dynamicme.optimize import Optimizer, StackOptimizer\n",
    "from dynamicme.optimize import Constraint, Variable\n",
    "\n",
    "from cobra.io import load_json_model\n",
    "from cobra import Metabolite, Reaction\n",
    "from six import iteritems\n",
    "\n",
    "import numpy as np\n",
    "import cobra"
   ]
  },
  {
   "cell_type": "markdown",
   "metadata": {
    "deletable": true,
    "editable": true
   },
   "source": [
    "### Try optimizing using radix for one condition first"
   ]
  },
  {
   "cell_type": "code",
   "execution_count": 4,
   "metadata": {
    "collapsed": true,
    "deletable": true,
    "editable": true
   },
   "outputs": [],
   "source": [
    "#----------------------------------------\n",
    "# Starting from basal model\n",
    "ijomc = load_json_model('/home/laurence/ME/models/BiGG_M/json/e_coli_core.json')\n",
    "mdl_ref = ijomc\n",
    "keff0 = 1./65/3600\n",
    "#crowding_bound = 0.0003\n",
    "crowding_bound0 = 0.001\n",
    "crowding_bound = crowding_bound0\n",
    "\n",
    "not_crowded = ['ATPM']\n",
    "rxns_c = [r for r in ijomc.reactions if all([m.compartment=='c' for m in r.metabolites.keys()]) and 'BIOMASS' not in r.id and r.id not in not_crowded]\n",
    "crowding_dict = {rxn:keff0 for rxn in rxns_c}\n",
    "#----------------------------------------\n",
    "\n",
    "# Temporarily add crowding constraint for the duality gap constraint\n",
    "crowding = Constraint('crowding')\n",
    "crowding._bound = crowding_bound\n",
    "crowding._constraint_sense = 'L'\n",
    "for rxn,keff in iteritems(crowding_dict):\n",
    "    rxn.add_metabolites({crowding:keff})"
   ]
  },
  {
   "cell_type": "code",
   "execution_count": 5,
   "metadata": {
    "collapsed": false,
    "deletable": true,
    "editable": true
   },
   "outputs": [
    {
     "name": "stdout",
     "output_type": "stream",
     "text": [
      "0.873921506968\n"
     ]
    }
   ],
   "source": [
    "ijomc.optimize()\n",
    "mu_crowd0 = ijomc.reactions.BIOMASS_Ecoli_core_w_GAM.x\n",
    "print(mu_crowd0)"
   ]
  },
  {
   "cell_type": "code",
   "execution_count": 6,
   "metadata": {
    "collapsed": true,
    "deletable": true,
    "editable": true
   },
   "outputs": [],
   "source": [
    "N_CONDS = 3\n",
    "\n",
    "df_meas = pd.read_csv('/home/laurence/ME/data/dynamicME/beg/growth_meas.csv')\n",
    "ex_rxns = [r for r in df_meas.ex_rxn.unique() if mdl_ref.reactions.has_id(r)]\n",
    "df_meas = df_meas[ df_meas.ex_rxn.isin(ex_rxns)]\n",
    "conds = df_meas.substrate.unique()\n",
    "df_conds = pd.DataFrame([{'cond':r['substrate'], 'rxn':ex_rxn, 'lb':-10 if r['ex_rxn']==ex_rxn else 0, 'ub':1000., 'obj':0.} for i,r in df_meas.iterrows() for ex_rxn in ex_rxns])\n",
    "#df_conds = df_conds[ df_conds.cond.isin(conds[0:N_CONDS])]\n",
    "df_conds = df_conds[ df_conds.cond.isin(['glucose','acetate','succinate'])]"
   ]
  },
  {
   "cell_type": "markdown",
   "metadata": {
    "deletable": true,
    "editable": true
   },
   "source": [
    "## Need to allow higher growth for acetate with higher uptake rate"
   ]
  },
  {
   "cell_type": "code",
   "execution_count": 7,
   "metadata": {
    "collapsed": false,
    "deletable": true,
    "editable": true
   },
   "outputs": [],
   "source": [
    "df_conds.loc[ df_conds.lb <= -10, 'lb'] = -20"
   ]
  },
  {
   "cell_type": "code",
   "execution_count": 8,
   "metadata": {
    "collapsed": false,
    "deletable": true,
    "editable": true
   },
   "outputs": [
    {
     "data": {
      "text/html": [
       "<div>\n",
       "<style scoped>\n",
       "    .dataframe tbody tr th:only-of-type {\n",
       "        vertical-align: middle;\n",
       "    }\n",
       "\n",
       "    .dataframe tbody tr th {\n",
       "        vertical-align: top;\n",
       "    }\n",
       "\n",
       "    .dataframe thead th {\n",
       "        text-align: right;\n",
       "    }\n",
       "</style>\n",
       "<table border=\"1\" class=\"dataframe\">\n",
       "  <thead>\n",
       "    <tr style=\"text-align: right;\">\n",
       "      <th></th>\n",
       "      <th>cond</th>\n",
       "      <th>lb</th>\n",
       "      <th>obj</th>\n",
       "      <th>rxn</th>\n",
       "      <th>ub</th>\n",
       "    </tr>\n",
       "  </thead>\n",
       "  <tbody>\n",
       "    <tr>\n",
       "      <th>0</th>\n",
       "      <td>glucose</td>\n",
       "      <td>-20</td>\n",
       "      <td>0.0</td>\n",
       "      <td>EX_glc__D_e</td>\n",
       "      <td>1000.0</td>\n",
       "    </tr>\n",
       "    <tr>\n",
       "      <th>1</th>\n",
       "      <td>glucose</td>\n",
       "      <td>0</td>\n",
       "      <td>0.0</td>\n",
       "      <td>EX_fru_e</td>\n",
       "      <td>1000.0</td>\n",
       "    </tr>\n",
       "    <tr>\n",
       "      <th>2</th>\n",
       "      <td>glucose</td>\n",
       "      <td>0</td>\n",
       "      <td>0.0</td>\n",
       "      <td>EX_succ_e</td>\n",
       "      <td>1000.0</td>\n",
       "    </tr>\n",
       "    <tr>\n",
       "      <th>3</th>\n",
       "      <td>glucose</td>\n",
       "      <td>0</td>\n",
       "      <td>0.0</td>\n",
       "      <td>EX_mal__L_e</td>\n",
       "      <td>1000.0</td>\n",
       "    </tr>\n",
       "    <tr>\n",
       "      <th>4</th>\n",
       "      <td>glucose</td>\n",
       "      <td>0</td>\n",
       "      <td>0.0</td>\n",
       "      <td>EX_ac_e</td>\n",
       "      <td>1000.0</td>\n",
       "    </tr>\n",
       "    <tr>\n",
       "      <th>10</th>\n",
       "      <td>succinate</td>\n",
       "      <td>0</td>\n",
       "      <td>0.0</td>\n",
       "      <td>EX_glc__D_e</td>\n",
       "      <td>1000.0</td>\n",
       "    </tr>\n",
       "    <tr>\n",
       "      <th>11</th>\n",
       "      <td>succinate</td>\n",
       "      <td>0</td>\n",
       "      <td>0.0</td>\n",
       "      <td>EX_fru_e</td>\n",
       "      <td>1000.0</td>\n",
       "    </tr>\n",
       "    <tr>\n",
       "      <th>12</th>\n",
       "      <td>succinate</td>\n",
       "      <td>-20</td>\n",
       "      <td>0.0</td>\n",
       "      <td>EX_succ_e</td>\n",
       "      <td>1000.0</td>\n",
       "    </tr>\n",
       "    <tr>\n",
       "      <th>13</th>\n",
       "      <td>succinate</td>\n",
       "      <td>0</td>\n",
       "      <td>0.0</td>\n",
       "      <td>EX_mal__L_e</td>\n",
       "      <td>1000.0</td>\n",
       "    </tr>\n",
       "    <tr>\n",
       "      <th>14</th>\n",
       "      <td>succinate</td>\n",
       "      <td>0</td>\n",
       "      <td>0.0</td>\n",
       "      <td>EX_ac_e</td>\n",
       "      <td>1000.0</td>\n",
       "    </tr>\n",
       "    <tr>\n",
       "      <th>20</th>\n",
       "      <td>acetate</td>\n",
       "      <td>0</td>\n",
       "      <td>0.0</td>\n",
       "      <td>EX_glc__D_e</td>\n",
       "      <td>1000.0</td>\n",
       "    </tr>\n",
       "    <tr>\n",
       "      <th>21</th>\n",
       "      <td>acetate</td>\n",
       "      <td>0</td>\n",
       "      <td>0.0</td>\n",
       "      <td>EX_fru_e</td>\n",
       "      <td>1000.0</td>\n",
       "    </tr>\n",
       "    <tr>\n",
       "      <th>22</th>\n",
       "      <td>acetate</td>\n",
       "      <td>0</td>\n",
       "      <td>0.0</td>\n",
       "      <td>EX_succ_e</td>\n",
       "      <td>1000.0</td>\n",
       "    </tr>\n",
       "    <tr>\n",
       "      <th>23</th>\n",
       "      <td>acetate</td>\n",
       "      <td>0</td>\n",
       "      <td>0.0</td>\n",
       "      <td>EX_mal__L_e</td>\n",
       "      <td>1000.0</td>\n",
       "    </tr>\n",
       "    <tr>\n",
       "      <th>24</th>\n",
       "      <td>acetate</td>\n",
       "      <td>-20</td>\n",
       "      <td>0.0</td>\n",
       "      <td>EX_ac_e</td>\n",
       "      <td>1000.0</td>\n",
       "    </tr>\n",
       "  </tbody>\n",
       "</table>\n",
       "</div>"
      ],
      "text/plain": [
       "         cond  lb  obj          rxn      ub\n",
       "0   glucose   -20  0.0  EX_glc__D_e  1000.0\n",
       "1   glucose    0   0.0  EX_fru_e     1000.0\n",
       "2   glucose    0   0.0  EX_succ_e    1000.0\n",
       "3   glucose    0   0.0  EX_mal__L_e  1000.0\n",
       "4   glucose    0   0.0  EX_ac_e      1000.0\n",
       "10  succinate  0   0.0  EX_glc__D_e  1000.0\n",
       "11  succinate  0   0.0  EX_fru_e     1000.0\n",
       "12  succinate -20  0.0  EX_succ_e    1000.0\n",
       "13  succinate  0   0.0  EX_mal__L_e  1000.0\n",
       "14  succinate  0   0.0  EX_ac_e      1000.0\n",
       "20  acetate    0   0.0  EX_glc__D_e  1000.0\n",
       "21  acetate    0   0.0  EX_fru_e     1000.0\n",
       "22  acetate    0   0.0  EX_succ_e    1000.0\n",
       "23  acetate    0   0.0  EX_mal__L_e  1000.0\n",
       "24  acetate   -20  0.0  EX_ac_e      1000.0"
      ]
     },
     "execution_count": 8,
     "metadata": {},
     "output_type": "execute_result"
    }
   ],
   "source": [
    "df_conds"
   ]
  },
  {
   "cell_type": "code",
   "execution_count": 9,
   "metadata": {
    "collapsed": false,
    "deletable": true,
    "editable": true
   },
   "outputs": [],
   "source": [
    "stacker = StackOptimizer()\n",
    "stacker.stack_models(ijomc, df_conds)"
   ]
  },
  {
   "cell_type": "code",
   "execution_count": 10,
   "metadata": {
    "collapsed": false,
    "deletable": true,
    "editable": true
   },
   "outputs": [
    {
     "data": {
      "text/plain": [
       "<Solution 3.02 at 0x7f8f0018aa90>"
      ]
     },
     "execution_count": 10,
     "metadata": {},
     "output_type": "execute_result"
    }
   ],
   "source": [
    "stacker.model.optimize(solver='gurobi')"
   ]
  },
  {
   "cell_type": "code",
   "execution_count": 11,
   "metadata": {
    "collapsed": false,
    "deletable": true,
    "editable": true
   },
   "outputs": [
    {
     "name": "stdout",
     "output_type": "stream",
     "text": [
      "succinate. mu=0.840134.\n",
      "acetate. mu=0.389313.\n",
      "glucose. mu=1.79057.\n"
     ]
    }
   ],
   "source": [
    "# stacker.model_dict['glucose'].optimize()\n",
    "# print stacker.model_dict['glucose'].reactions.query('BIOMASS')[0].x\n",
    "# print stacker.model_dict['glucose'].reactions.query('EX_glc')[0].x\n",
    "# print stacker.model_dict['glucose'].reactions.query('EX_fru')[0].x\n",
    "\n",
    "# stacker.model_dict['acetate'].optimize()\n",
    "# print stacker.model_dict['acetate'].reactions.query('BIOMASS')[0].x\n",
    "# print stacker.model_dict['acetate'].reactions.query('EX_glc')[0].x\n",
    "# print stacker.model_dict['acetate'].reactions.query('EX_ac')[0].x\n",
    "for mdl_ind,mdl in iteritems(stacker.model_dict):\n",
    "    mdl.optimize()\n",
    "    print('%s. mu=%g.' % (mdl_ind, mdl.solution.f))"
   ]
  },
  {
   "cell_type": "code",
   "execution_count": 12,
   "metadata": {
    "collapsed": false,
    "deletable": true,
    "editable": true
   },
   "outputs": [],
   "source": [
    "for mdl_ind,mdl in iteritems(stacker.model_dict):\n",
    "    opt = Optimizer(mdl)\n",
    "    gapi = opt.add_duality_gap_constraint(INF=1e3, inplace=True, index=mdl_ind)"
   ]
  },
  {
   "cell_type": "code",
   "execution_count": 13,
   "metadata": {
    "collapsed": false,
    "deletable": true,
    "editable": true
   },
   "outputs": [
    {
     "data": {
      "text/plain": [
       "<Solution 6.04 at 0x7f8f0018ad90>"
      ]
     },
     "execution_count": 13,
     "metadata": {},
     "output_type": "execute_result"
    }
   ],
   "source": [
    "stacker.model.optimize(solver='gurobi')"
   ]
  },
  {
   "cell_type": "code",
   "execution_count": 14,
   "metadata": {
    "collapsed": false,
    "deletable": true,
    "editable": true
   },
   "outputs": [
    {
     "name": "stdout",
     "output_type": "stream",
     "text": [
      "('Radix:', 2.0)\n",
      "('Powers:', array([-3, -2, -1,  0,  1,  2,  3]))\n",
      "('Digits:', [1.0])\n"
     ]
    },
    {
     "name": "stderr",
     "output_type": "stream",
     "text": [
      "/usr/lib/python2.7/site-packages/ipykernel/__main__.py:9 \u001b[1;31mDeprecationWarning\u001b[0m: object of type <type 'float'> cannot be safely interpreted as an integer.\n"
     ]
    }
   ],
   "source": [
    "import numpy as np\n",
    "\n",
    "radix = 2.\n",
    "print('Radix:',radix)\n",
    "powers = np.arange(-3,4)\n",
    "print('Powers:', powers)\n",
    "digits_per_power = radix\n",
    "pwr_max = max(powers)\n",
    "digits = list(set(np.linspace(1, radix-1, digits_per_power)))\n",
    "print('Digits:', digits)\n",
    "\n",
    "# Discretize crowding coefficients into radix\n",
    "var_cons_dict = {}\n",
    "# Get the group ID from reference model\n",
    "mdl_ref = ijomc\n",
    "crowding_ref = mdl_ref.metabolites.crowding\n",
    "for rxn_ref in crowding_ref.reactions:    \n",
    "    for mdl_ind, mdl in iteritems(stacker.model_dict):\n",
    "        crowding_p = mdl.metabolites.get_by_id('crowding_%s'%mdl_ind)\n",
    "        var_d = mdl.reactions.get_by_id('wa_%s'%crowding_p.id)\n",
    "        rxn_p = mdl.reactions.get_by_id(rxn_ref.id+'_%s'%mdl_ind)\n",
    "        # Get the coefficient in the dual\n",
    "        cons_ds = [m for m in var_d.metabolites.keys() if rxn_p.id==m.id]        \n",
    "        a0 = rxn_p.metabolites[crowding_p]\n",
    "        if var_cons_dict.has_key(rxn_ref.id):\n",
    "            var_cons_dict[rxn_ref.id] += [(rxn_p, crowding_p, a0)] + [(var_d, cons_d, a0) for cons_d in cons_ds]\n",
    "        else:\n",
    "            var_cons_dict[rxn_ref.id] = [(rxn_p, crowding_p, a0)] + [(var_d, cons_d, a0) for cons_d in cons_ds]"
   ]
  },
  {
   "cell_type": "code",
   "execution_count": 15,
   "metadata": {
    "collapsed": false,
    "deletable": true,
    "editable": true
   },
   "outputs": [],
   "source": [
    "# %lprun -f opt.to_radix opt.to_radix(gap, var_cons_dict, radix, powers, digits_per_power, prevent_zero=True)"
   ]
  },
  {
   "cell_type": "code",
   "execution_count": 16,
   "metadata": {
    "collapsed": false,
    "deletable": true,
    "editable": true
   },
   "outputs": [
    {
     "name": "stdout",
     "output_type": "stream",
     "text": [
      "CPU times: user 305 ms, sys: 17.6 ms, total: 323 ms\n",
      "Wall time: 345 ms\n"
     ]
    },
    {
     "data": {
      "text/plain": [
       "[1.0]"
      ]
     },
     "execution_count": 16,
     "metadata": {},
     "output_type": "execute_result"
    }
   ],
   "source": [
    "%time opt.to_radix(stacker.model, var_cons_dict, radix, powers, digits=digits, prevent_zero=PREVENT_ZERO)"
   ]
  },
  {
   "cell_type": "markdown",
   "metadata": {},
   "source": [
    "### Now add in abs error min obj"
   ]
  },
  {
   "cell_type": "code",
   "execution_count": 17,
   "metadata": {
    "collapsed": false,
    "deletable": true,
    "editable": true
   },
   "outputs": [],
   "source": [
    "from dynamicme.optimize import Variable, Constraint\n",
    "\n",
    "mu_id = 'BIOMASS_Ecoli_core_w_GAM'\n",
    "\n",
    "for mdl_ind,mdl in iteritems(stacker.model_dict):\n",
    "    dfi = df_meas[ df_meas.substrate==mdl_ind]\n",
    "    mu_measi = dfi.growth_rate_1_h.iloc[0]\n",
    "    \n",
    "    for rxn in mdl.reactions:\n",
    "        rxn.objective_coefficient = 0.\n",
    "    \n",
    "    rxn_mu = mdl.reactions.get_by_id(mu_id+'_%s'%mdl_ind)\n",
    "\n",
    "    sp = Variable('sp_%s'%mdl_ind, lower_bound=0., upper_bound=1e3)\n",
    "    sn = Variable('sn_%s'%mdl_ind, lower_bound=0., upper_bound=1e3)\n",
    "    sp.objective_coefficient = 1.\n",
    "    sn.objective_coefficient = 1.\n",
    "    cons = Constraint('abs_err_%s'%mdl_ind)\n",
    "    cons._constraint_sense = 'E'\n",
    "    cons._bound = mu_measi\n",
    "    mdl.add_metabolites(cons)\n",
    "    mdl.add_reactions([sp,sn])\n",
    "\n",
    "    # mu - mu_meas = sp-sn\n",
    "    # mu -sp + sn = mu_meas\n",
    "    # min sp + sn\n",
    "    sp.add_metabolites({cons:-1.})\n",
    "    sn.add_metabolites({cons:1.})\n",
    "    rxn_mu.add_metabolites({cons:1.})"
   ]
  },
  {
   "cell_type": "code",
   "execution_count": 18,
   "metadata": {
    "collapsed": false,
    "deletable": true,
    "editable": true,
    "scrolled": true
   },
   "outputs": [
    {
     "name": "stdout",
     "output_type": "stream",
     "text": [
      "Changed value of parameter OutputFlag to 1\n",
      "   Prev: 0  Min: 0  Max: 1  Default: 1\n",
      "Changed value of parameter NodefileStart to 3.0\n",
      "   Prev: 1e+100  Min: 0.0  Max: 1e+100  Default: 1e+100\n",
      "Changed value of parameter TimeLimit to 7200.0\n",
      "   Prev: 1e+100  Min: 0.0  Max: 1e+100  Default: 1e+100\n",
      "Changed value of parameter Method to 2\n",
      "   Prev: 0  Min: -1  Max: 5  Default: -1\n",
      "Changed value of parameter NodeMethod to 2\n",
      "   Prev: -1  Min: -1  Max: 2  Default: -1\n",
      "Changed value of parameter BarHomogeneous to 1\n",
      "   Prev: -1  Min: -1  Max: 1  Default: -1\n",
      "Optimize a model with 8958 rows, 3432 columns and 24549 nonzeros\n",
      "Variable types: 3096 continuous, 336 integer (0 binary)\n",
      "Coefficient statistics:\n",
      "  Matrix range     [5e-07, 1e+03]\n",
      "  Objective range  [1e+00, 1e+00]\n",
      "  Bounds range     [1e+00, 1e+03]\n",
      "  RHS range        [1e-03, 1e+03]\n",
      "Presolve removed 2199 rows and 390 columns\n",
      "Presolve time: 0.12s\n",
      "Presolved: 6759 rows, 3042 columns, 19699 nonzeros\n",
      "Variable types: 2706 continuous, 336 integer (336 binary)\n",
      "Presolved: 6759 rows, 3042 columns, 19699 nonzeros\n",
      "\n",
      "Root barrier log...\n",
      "\n",
      "Ordering time: 0.04s\n",
      "\n",
      "Barrier statistics:\n",
      " Dense cols : 3\n",
      " AA' NZ     : 8.089e+04\n",
      " Factor NZ  : 2.221e+05 (roughly 6 MBytes of memory)\n",
      " Factor Ops : 1.001e+07 (less than 1 second per iteration)\n",
      " Threads    : 3\n",
      "\n",
      "                  Objective                Residual\n",
      "Iter       Primal          Dual         Primal    Dual     Compl     Time\n",
      "   0   2.87979628e+04 -4.42820991e+06  6.30e+04 0.00e+00  5.29e+03     0s\n",
      "   1   7.21056285e+03 -4.32270043e+06  1.30e+04 6.07e-12  1.19e+03     0s\n",
      "   2   2.74244968e+03 -2.50756689e+06  3.86e+03 3.84e-12  3.81e+02     0s\n",
      "   3   1.45793545e+03 -1.03811028e+06  1.90e+03 1.95e-12  1.33e+02     0s\n",
      "   4   5.63775127e+02 -2.34986581e+05  7.58e+02 1.32e-12  2.73e+01     0s\n",
      "   5   3.07395591e+02 -8.19780043e+04  4.33e+02 5.57e-13  9.80e+00     0s\n",
      "   6   1.94710342e+02 -5.58544590e+04  2.86e+02 3.82e-13  6.48e+00     0s\n",
      "   7   1.21117689e+02 -3.50625267e+04  1.82e+02 1.01e-12  4.03e+00     0s\n",
      "   8   1.39564050e+01 -6.76307207e+03  1.92e+01 2.73e-11  6.41e-01     0s\n",
      "   9   1.43504254e+00 -1.92781812e+03  1.26e+00 4.14e-12  1.57e-01     0s\n",
      "  10   1.43202155e+00 -6.35597571e+01  4.09e-02 4.31e-12  5.22e-03     0s\n",
      "  11   1.12532099e+00 -4.31032166e+01  1.02e-02 2.94e-12  3.52e-03     0s\n",
      "  12   6.51325261e-01 -2.88193957e+01  6.78e-03 1.97e-12  2.35e-03     1s\n",
      "  13   5.45778836e-01 -1.63102374e+01  2.26e-03 1.11e-12  1.34e-03     1s\n",
      "  14   3.08514297e-01 -8.07567481e+00  1.60e-03 5.40e-13  6.65e-04     1s\n",
      "  15   4.97652443e-02 -8.83897357e-01  5.68e-04 8.41e-14  7.41e-05     1s\n",
      "  16   2.12268423e-01 -1.44343553e-02  5.79e-06 1.31e-13  1.79e-05     1s\n",
      "  17   7.71082673e-04 -2.39528330e-03  4.20e-08 1.18e-14  2.51e-07     1s\n",
      "  18   3.10577228e-09 -5.77145599e-08  2.55e-09 1.66e-15  4.81e-12     1s\n",
      "  19   3.09639083e-12  3.09657765e-12  2.55e-10 1.59e-15  4.80e-15     1s\n",
      "\n",
      "Barrier solved model in 19 iterations and 0.60 seconds\n",
      "Optimal objective 3.09639083e-12\n",
      "\n",
      "\n",
      "Root relaxation: objective 0.000000e+00, 2898 iterations, 0.49 seconds\n",
      "\n",
      "    Nodes    |    Current Node    |     Objective Bounds      |     Work\n",
      " Expl Unexpl |  Obj  Depth IntInf | Incumbent    BestBd   Gap | It/Node Time\n",
      "\n",
      "     0     0    0.00000    0    1          -    0.00000      -     -    0s\n",
      "H    0     0                       1.2564880    0.00000   100%     -    0s\n",
      "H    0     0                       1.1808701    0.00000   100%     -    0s\n",
      "     0     0    0.00000    0  209    1.18087    0.00000   100%     -    1s\n",
      "     0     0    0.00000    0  208    1.18087    0.00000   100%     -    1s\n",
      "H    0     0                       0.3372864    0.00000   100%     -    2s\n",
      "     0     0    0.00000    0    1    0.33729    0.00000   100%     -    2s\n",
      "     0     0    0.00000    0  294    0.33729    0.00000   100%     -    2s\n",
      "H    0     0                       0.2751041    0.00000   100%     -    2s\n",
      "     0     0    0.00000    0    1    0.27510    0.00000   100%     -    3s\n",
      "     0     0    0.00000    0  268    0.27510    0.00000   100%     -    3s\n",
      "     0     0    0.00000    0    1    0.27510    0.00000   100%     -    4s\n",
      "     0     0    0.00000    0  290    0.27510    0.00000   100%     -    4s\n",
      "     0     0    0.00000    0    1    0.27510    0.00000   100%     -    6s\n",
      "     0     0    0.00000    0    1    0.27510    0.00000   100%     -    6s\n",
      "     0     2    0.00000    0    1    0.27510    0.00000   100%     -   10s\n",
      "    39    40    0.00000    7  276    0.27510    0.00000   100%  2959   16s\n",
      "    55    55    0.00000   10    1    0.27510    0.00000   100%  3011   20s\n",
      "    87    87    0.00000   17  227    0.27510    0.00000   100%  2943   27s\n",
      "   156   158    0.00000   30    1    0.27510    0.00000   100%  2880   36s\n",
      "   237   236    0.00000   45  235    0.27510    0.00000   100%  2823   45s\n",
      "   324   328    0.00000   61  244    0.27510    0.00000   100%  2768   54s\n",
      "   418   419    0.00000   77  243    0.27510    0.00000   100%  2711   63s\n",
      "H  469   470                       0.2431259    0.00000   100%  2671   63s\n",
      "   521   522    0.00000   96  213    0.24313    0.00000   100%  2654   72s\n",
      "   634   634    0.00000  117  196    0.24313    0.00000   100%  2582   81s\n",
      "   735   737    0.00000  139  172    0.24313    0.00000   100%  2518   89s\n",
      "   867   866    0.00000  173  132    0.24313    0.00000   100%  2448   98s\n",
      "  1014  1015    0.03738  203   90    0.24313    0.00000   100%  2362  106s\n",
      "  1212  1209    0.04779  249   58    0.24313    0.00000   100%  2214  115s\n",
      "H 1470  1015                       0.0073128    0.00000   100%  2027  123s\n",
      "  1690  1051    0.00000  141  163    0.00731    0.00000   100%  1913  131s\n",
      "  1829  1181    0.00000  147    1    0.00731    0.00000   100%  1916  137s\n",
      "  1834  1184    0.00000   32    1    0.00731    0.00000   100%  1911  140s\n",
      "  1840  1188    0.00000  135    1    0.00731    0.00000   100%  1905  145s\n",
      "  1844  1191    0.00000  100    1    0.00731    0.00000   100%  1901  150s\n",
      "  1846  1192    0.00000   69    1    0.00731    0.00000   100%  1898  157s\n",
      "  1847  1196    0.00000   12  295    0.00731    0.00000   100%  1934  171s\n",
      "  1849  1199    0.00000   13  277    0.00731    0.00000   100%  1937  182s\n",
      "  1853  1206    0.00000   14  247    0.00731    0.00000   100%  1942  197s\n",
      "  1861  1211    0.00000   15  251    0.00731    0.00000   100%  1952  200s\n",
      "  1885  1226    0.00000   16  289    0.00731    0.00000   100%  1980  205s\n",
      "  1919  1241    0.00000   18  271    0.00731    0.00000   100%  2003  210s\n",
      "  1939  1253    0.00000   20  265    0.00731    0.00000   100%  2017  217s\n",
      "  2000  1301    0.00000   22  282    0.00731    0.00000   100%  2051  244s\n",
      "  2040  1323    0.00000   25  272    0.00731    0.00000   100%  2070  270s\n",
      "  2353  1536    0.00000   45  244    0.00731    0.00000   100%  2184  293s\n",
      "  2604  1708    0.00000   60  217    0.00731    0.00000   100%  2245  312s\n",
      "  2878  1879    0.00000   76  198    0.00731    0.00000   100%  2260  331s\n",
      "  3159  2079    0.00000   92  213    0.00731    0.00000   100%  2257  349s\n",
      "  3417  2224    0.00000  108  208    0.00731    0.00000   100%  2245  368s\n",
      "H 3609  2303                       0.0069045    0.00000   100%  2245  368s\n",
      "  3689  2337    0.00000  121    6    0.00690    0.00000   100%  2224  383s\n",
      "  3923  2464    0.00000  137  185    0.00690    0.00000   100%  2231  402s\n",
      "  4236  2687    0.00000  156  166    0.00690    0.00000   100%  2222  422s\n",
      "  4545  2828    0.00000  176  124    0.00690    0.00000   100%  2206  441s\n",
      "  4878  2979    0.00000  137  162    0.00690    0.00000   100%  2169  458s\n",
      "  5234  3160    0.00000  148  149    0.00690    0.00000   100%  2136  478s\n",
      "  5581  3435    0.00000  162  157    0.00690    0.00000   100%  2090  497s\n",
      "  5936  3696    0.00000  186  126    0.00690    0.00000   100%  2043  517s\n",
      "H 6253  3644                       0.0023472    0.00000   100%  2006  517s\n",
      "  6305  3627    0.00129  214   88    0.00235    0.00000   100%  1997  538s\n",
      "  6701  3815    0.00000   65  219    0.00235    0.00000   100%  1961  561s\n",
      "  7137  4019    0.00000  104  162    0.00235    0.00000   100%  1921  582s\n",
      "  7539  4252    0.00000  151    1    0.00235    0.00000   100%  1906  593s\n",
      "  7910  4513    0.00000  200  109    0.00235    0.00000   100%  1901  604s\n",
      "  8284  4699    0.00000  147  144    0.00235    0.00000   100%  1886  615s\n",
      "  8762  4909    0.00000  212  117    0.00235    0.00000   100%  1853  627s\n",
      "  9337  4966 infeasible  193         0.00235    0.00000   100%  1807  638s\n",
      "  9933  5012    0.00000  201   44    0.00235    0.00000   100%  1765  650s\n",
      " 10497  5067     cutoff  187         0.00235    0.00000   100%  1727  663s\n",
      "H10996  4998                       0.0015862    0.00000   100%  1701  663s\n",
      " 11133  5061    0.00000  167  141    0.00159    0.00000   100%  1697  676s\n",
      " 11836  5492    0.00000  201   51    0.00159    0.00000   100%  1671  689s\n",
      "H12225  5384                       0.0009869    0.00000   100%  1651  689s\n",
      "H12296  5439                       0.0009083    0.00000   100%  1649  689s\n",
      " 12649  5627     cutoff  193         0.00091    0.00000   100%  1630  703s\n",
      "H12908  5678                       0.0005567    0.00000   100%  1623  703s\n",
      " 13270  5877    0.00000  160  166    0.00056    0.00000   100%  1615  717s\n",
      " 13746  6050     cutoff  203         0.00056    0.00000   100%  1601  732s\n",
      " 14297  6329    0.00000  164  161    0.00056    0.00000   100%  1591  752s\n",
      " 14662  6468    0.00000  189  150    0.00056    0.00000   100%  1591  768s\n",
      " 15135  6646    0.00000  197  119    0.00056    0.00000   100%  1587  788s\n",
      " 15596  6780 infeasible  195         0.00056    0.00000   100%  1592  806s\n",
      " 16338  6897    0.00000  174  159    0.00056    0.00000   100%  1571  825s\n",
      " 17073  6952    0.00000  187  135    0.00056    0.00000   100%  1553  845s\n",
      " 17763  7003 infeasible  188         0.00056    0.00000   100%  1534  866s\n",
      " 18507  7032     cutoff  184         0.00056    0.00000   100%  1513  887s\n",
      " 19225  7037     cutoff  208         0.00056    0.00000   100%  1495  909s\n",
      " 20018  7041 infeasible  184         0.00056    0.00000   100%  1476  932s\n",
      " 20496  7010    0.00000  181   31    0.00056    0.00000   100%  1466  957s\n",
      " 21291  6992     cutoff  184         0.00056    0.00000   100%  1452  982s\n",
      " 22200  7003     cutoff  183         0.00056    0.00000   100%  1437 1008s\n",
      " 23232  7009 infeasible  174         0.00056    0.00000   100%  1423 1033s\n",
      " 24324  7134    0.00000  165  156    0.00056    0.00000   100%  1412 1059s\n",
      " 25390  7160    0.00000  170  156    0.00056    0.00000   100%  1401 1086s\n",
      " 26274  7104 infeasible  171         0.00056    0.00000   100%  1390 1111s\n",
      " 27393  7094    0.00000  165  171    0.00056    0.00000   100%  1378 1136s\n",
      " 28499  7075     cutoff  172         0.00056    0.00000   100%  1366 1160s\n",
      " 29454  7092    0.00000  171   11    0.00056    0.00000   100%  1357 1185s\n",
      "H29527  6408                       0.0001220    0.00000   100%  1356 1185s\n",
      "H29540  6360                       0.0000272    0.00000   100%  1356 1185s\n",
      " 29742  6277    0.00000  170  152    0.00003    0.00000   100%  1354 1211s\n",
      " 30668  6277    0.00000  168  166    0.00003    0.00000   100%  1347 1235s\n",
      " 31570  6305    0.00000  169  158    0.00003    0.00000   100%  1341 1363s\n",
      " 32152  6299 infeasible  172         0.00003    0.00000   100%  1340 1389s\n",
      " 33046  6471 infeasible  184         0.00003    0.00000   100%  1337 1416s\n",
      " 33986  6607    0.00000  185  148    0.00003    0.00000   100%  1333 1443s\n",
      " 34849  6685    0.00000  178  148    0.00003    0.00000   100%  1329 1470s\n",
      " 35751  6788 infeasible  185         0.00003    0.00000   100%  1324 1497s\n",
      " 36607  6786 infeasible  182         0.00003    0.00000   100%  1320 1524s\n",
      " 37524  6868    0.00000  170  150    0.00003    0.00000   100%  1314 1551s\n",
      " 38245  6989     cutoff  179         0.00003    0.00000   100%  1313 1580s\n",
      " 39392  7221     cutoff  192         0.00003    0.00000   100%  1307 1606s\n",
      " 40531  7391    0.00000  220   99    0.00003    0.00000   100%  1297 1633s\n",
      " 41764  7680    0.00000  157  173    0.00003    0.00000   100%  1290 1659s\n",
      " 42975  7919    0.00000  182  139    0.00003    0.00000   100%  1281 1685s\n",
      " 44073  8218    0.00000  188  152    0.00003    0.00000   100%  1277 1709s\n",
      " 44851  8438    0.00000  193  123    0.00003    0.00000   100%  1274 1736s\n",
      " 45706  9014    0.00000  122  177    0.00003    0.00000   100%  1281 1764s\n",
      " 46496  9552    0.00000  152  165    0.00003    0.00000   100%  1288 1790s\n",
      " 47246  9846    0.00000  172  162    0.00003    0.00000   100%  1290 1818s\n",
      " 48167 10253    0.00000  198  130    0.00003    0.00000   100%  1292 1845s\n",
      " 49010 10366    0.00000  163  164    0.00003    0.00000   100%  1291 1872s\n",
      " 49834 10568 infeasible  167         0.00003    0.00000   100%  1290 1899s\n",
      " 50531 10600    0.00000  170  144    0.00003    0.00000   100%  1288 1928s\n",
      " 51538 10665    0.00000  169  151    0.00003    0.00000   100%  1284 1955s\n",
      " 52505 10730    0.00000  200  134    0.00003    0.00000   100%  1280 1983s\n",
      " 53492 10835    0.00000  172  136    0.00003    0.00000   100%  1276 2011s\n",
      " 54463 11129     cutoff  172         0.00003    0.00000   100%  1274 2038s\n",
      " 55353 11546    0.00000  241   20    0.00003    0.00000   100%  1273 2068s\n",
      " 56467 12003 infeasible  251         0.00003    0.00000   100%  1267 2095s\n",
      " 57585 12470    0.00000  245   75    0.00003    0.00000   100%  1264 2121s\n",
      " 59267 13164     cutoff  309         0.00003    0.00000   100%  1250 2145s\n",
      "H60838 13664                       0.0000050    0.00000   100%  1234 2145s\n",
      " 61095 13695 infeasible  285         0.00000    0.00000   100%  1231 2167s\n",
      " 62847 14067    0.00000  298   27    0.00000    0.00000   100%  1210 2187s\n",
      " 64568 14455    0.00000  315   18    0.00000    0.00000   100%  1191 2205s\n",
      " 66064 14638    0.00000  304   16    0.00000    0.00000   100%  1174 2222s\n",
      " 67590 14794 infeasible  321         0.00000    0.00000   100%  1158 2238s\n",
      " 68996 14937    0.00000  321    5    0.00000    0.00000   100%  1144 2253s\n",
      " 70368 15016    0.00000  315   11    0.00000    0.00000   100%  1130 2267s\n",
      " 71502 15053    0.00000  315    9    0.00000    0.00000   100%  1118 2282s\n",
      " 72873 15041    0.00000  320    5    0.00000    0.00000   100%  1104 2293s\n",
      " 73797 14985    0.00000  321    6    0.00000    0.00000   100%  1095 2305s\n",
      " 74861 14954    0.00000  308   13    0.00000    0.00000   100%  1085 2317s\n",
      " 75891 14934     cutoff  313         0.00000    0.00000   100%  1076 2330s\n",
      " 76994 14942    0.00000  322    7    0.00000    0.00000   100%  1066 2342s\n",
      " 77976 14957 infeasible  328         0.00000    0.00000   100%  1058 2354s\n",
      " 78900 14942    0.00000  318    7    0.00000    0.00000   100%  1050 2366s\n",
      " 79868 14955 infeasible  326         0.00000    0.00000   100%  1042 2377s\n",
      " 80940 15013    0.00000  321    6    0.00000    0.00000   100%  1033 2388s\n",
      " 81940 15048    0.00000  315   13    0.00000    0.00000   100%  1025 2399s\n",
      " 82863 15060 infeasible  330         0.00000    0.00000   100%  1018 2410s\n",
      " 83898 15048 infeasible  318         0.00000    0.00000   100%  1010 2421s\n",
      " 84908 15015    0.00000  314   12    0.00000    0.00000   100%  1002 2431s\n",
      " 85820 14990 infeasible  319         0.00000    0.00000   100%   995 2442s\n",
      "H86526     7                       0.0000000    0.00000  0.00%   990 2452s\n",
      "\n",
      "Cutting planes:\n",
      "  Gomory: 52\n",
      "  Implied bound: 77\n",
      "  Projected implied bound: 4\n",
      "  MIR: 12\n",
      "  Flow cover: 170\n",
      "\n",
      "Explored 87357 nodes (85959637 simplex iterations) in 2452.67 seconds\n",
      "Thread count was 8 (of 8 available processors)\n",
      "\n",
      "Solution count 10: 0 4.96129e-06 2.7178e-05 ... 0.0069045\n",
      "\n",
      "Optimal solution found (tolerance 1.00e-04)\n",
      "Warning: max constraint violation (6.9494e-06) exceeds tolerance\n",
      "Warning: max bound violation (6.9494e-06) exceeds tolerance\n",
      "Best objective 0.000000000000e+00, best bound 0.000000000000e+00, gap 0.0000%\n"
     ]
    }
   ],
   "source": [
    "from cobra.solvers import gurobi_solver\n",
    "from gurobipy import *\n",
    "\n",
    "milp = gurobi_solver.create_problem(stacker.model)\n",
    "milp.ModelSense = GRB.MINIMIZE\n",
    "milp.Params.IntFeasTol = 1e-9\n",
    "milp.Params.OutputFlag = 1\n",
    "# milp.Params.FeasibilityTol = 1e-9\n",
    "# milp.Params.OptimalityTol = 1e-9\n",
    "milp.Params.NodefileStart = 3   # Start writing nodes to disk if x GB RAM exceeded (for each thread)\n",
    "milp.Params.TimeLimit = 2*3600  # Time limit in seconds    \n",
    "milp.Params.Method = 2 # 2: Barrier\n",
    "milp.Params.NodeMethod = 2 # 2: Barrier\n",
    "milp.Params.BarHomogeneous = 1\n",
    "%time milp.optimize()"
   ]
  },
  {
   "cell_type": "code",
   "execution_count": 22,
   "metadata": {
    "collapsed": false,
    "deletable": true,
    "editable": true
   },
   "outputs": [
    {
     "name": "stdout",
     "output_type": "stream",
     "text": [
      "Number of non-zero binaries: 119\n",
      "succinate. mu_meas:0.46. Unfitted mu_crowd=0.873922 (error=90%). Fitted mu: 0.46 (error=0%)\n",
      "Number of non-zero binaries: 119\n",
      "acetate. mu_meas:0.256. Unfitted mu_crowd=0.873922 (error=241%). Fitted mu: 0.256 (error=0%)\n",
      "Number of non-zero binaries: 119\n",
      "glucose. mu_meas:0.74. Unfitted mu_crowd=0.873922 (error=18.1%). Fitted mu: 0.74 (error=0%)\n",
      "Number of non-zero binaries: 119\n"
     ]
    }
   ],
   "source": [
    "sol = gurobi_solver.format_solution(milp, stacker.model)\n",
    "x_dict = sol.x_dict\n",
    "yopt = [x_dict[rxn.id] for rxn in stacker.model.reactions.query('binary_')]\n",
    "print('Number of non-zero binaries: %g' % sum(yopt))\n",
    "for mdl_ind,mdl in iteritems(stacker.model_dict):\n",
    "    dfi = df_meas[ df_meas.substrate==mdl_ind]\n",
    "    mu_measi = dfi.growth_rate_1_h.iloc[0]\n",
    "    rxn_mu = stacker.model.reactions.get_by_id(mu_id+'_%s'%mdl_ind)\n",
    "    muopt = x_dict[rxn_mu.id]\n",
    "    err_fit = (muopt-mu_measi)/mu_measi\n",
    "    err0 = (mu_crowd0-mu_measi)/mu_measi\n",
    "    print('%s. mu_meas:%g. Unfitted mu_crowd=%g (error=%.3g%%). Fitted mu: %g (error=%.3g%%)' % (mdl_ind, mu_measi, mu_crowd0, 100*err0, muopt, err_fit))\n",
    "    print('Number of non-zero binaries: %g' % sum(yopt))"
   ]
  },
  {
   "cell_type": "code",
   "execution_count": 23,
   "metadata": {
    "collapsed": false,
    "deletable": true,
    "editable": true,
    "scrolled": true
   },
   "outputs": [
    {
     "name": "stdout",
     "output_type": "stream",
     "text": [
      "binary_G6PDH2r01. Value=1.0. Power=-2. Digit=1\n",
      "binary_AKGDH05. Value=1.0. Power=2. Digit=1\n",
      "binary_ME200. Value=1.0. Power=-3. Digit=1\n",
      "binary_ME202. Value=1.0. Power=-1. Digit=1\n",
      "binary_ME205. Value=1.0. Power=2. Digit=1\n",
      "binary_ME206. Value=1.0. Power=3. Digit=1\n",
      "binary_PGK02. Value=1.0. Power=-1. Digit=1\n",
      "binary_GLUN03. Value=1.0. Power=0. Digit=1\n",
      "binary_GLUN06. Value=1.0. Power=3. Digit=1\n",
      "binary_ME103. Value=1.0. Power=0. Digit=1\n",
      "binary_ME104. Value=1.0. Power=1. Digit=1\n",
      "binary_ME105. Value=1.0. Power=2. Digit=1\n",
      "binary_PGI01. Value=1.0. Power=-2. Digit=1\n",
      "binary_PGI04. Value=1.0. Power=1. Digit=1\n",
      "binary_GND00. Value=1.0. Power=-3. Digit=1\n",
      "binary_ACKr00. Value=1.0. Power=-3. Digit=1\n",
      "binary_GLNS04. Value=1.0. Power=1. Digit=1\n",
      "binary_FUM05. Value=1.0. Power=2. Digit=1\n",
      "binary_FUM06. Value=1.0. Power=3. Digit=1\n",
      "binary_SUCDi00. Value=1.0. Power=-3. Digit=1\n",
      "binary_PPC02. Value=1.0. Power=-1. Digit=1\n",
      "binary_PPC05. Value=1.0. Power=2. Digit=1\n",
      "binary_PPC06. Value=1.0. Power=3. Digit=1\n",
      "binary_MDH01. Value=1.0. Power=-2. Digit=1\n",
      "binary_MDH02. Value=1.0. Power=-1. Digit=1\n",
      "binary_MDH03. Value=1.0. Power=0. Digit=1\n",
      "binary_MDH04. Value=1.0. Power=1. Digit=1\n",
      "binary_MDH05. Value=1.0. Power=2. Digit=1\n",
      "binary_MDH06. Value=1.0. Power=3. Digit=1\n",
      "binary_GLUDy01. Value=1.0. Power=-2. Digit=1\n",
      "binary_GLUDy02. Value=1.0. Power=-1. Digit=1\n",
      "binary_GLUDy03. Value=1.0. Power=0. Digit=1\n",
      "binary_GLUSy05. Value=1.0. Power=2. Digit=1\n",
      "binary_PGL02. Value=1.0. Power=-1. Digit=1\n",
      "binary_PGM00. Value=1.0. Power=-3. Digit=1\n",
      "binary_PGM01. Value=1.0. Power=-2. Digit=1\n",
      "binary_PGM02. Value=1.0. Power=-1. Digit=1\n",
      "binary_ACALD00. Value=1.0. Power=-3. Digit=1\n",
      "binary_ACALD01. Value=1.0. Power=-2. Digit=1\n",
      "binary_ACALD02. Value=1.0. Power=-1. Digit=1\n",
      "binary_ACALD03. Value=1.0. Power=0. Digit=1\n",
      "binary_ACALD04. Value=1.0. Power=1. Digit=1\n",
      "binary_ACALD05. Value=1.0. Power=2. Digit=1\n",
      "binary_ACALD06. Value=1.0. Power=3. Digit=1\n",
      "binary_MALS04. Value=1.0. Power=1. Digit=1\n",
      "binary_MALS06. Value=1.0. Power=3. Digit=1\n",
      "binary_ADK105. Value=1.0. Power=2. Digit=1\n",
      "binary_ADK106. Value=1.0. Power=3. Digit=1\n",
      "binary_PPS05. Value=1.0. Power=2. Digit=1\n",
      "binary_PTAr02. Value=1.0. Power=-1. Digit=1\n",
      "binary_PTAr03. Value=1.0. Power=0. Digit=1\n",
      "binary_PTAr06. Value=1.0. Power=3. Digit=1\n",
      "binary_RPE03. Value=1.0. Power=0. Digit=1\n",
      "binary_RPE06. Value=1.0. Power=3. Digit=1\n",
      "binary_ALCD2x00. Value=1.0. Power=-3. Digit=1\n",
      "binary_ALCD2x01. Value=1.0. Power=-2. Digit=1\n",
      "binary_ALCD2x02. Value=1.0. Power=-1. Digit=1\n",
      "binary_ALCD2x03. Value=1.0. Power=0. Digit=1\n",
      "binary_ALCD2x04. Value=1.0. Power=1. Digit=1\n",
      "binary_ALCD2x05. Value=1.0. Power=2. Digit=1\n",
      "binary_ALCD2x06. Value=1.0. Power=3. Digit=1\n",
      "binary_SUCOAS00. Value=1.0. Power=-3. Digit=1\n",
      "binary_SUCOAS01. Value=1.0. Power=-2. Digit=1\n",
      "binary_SUCOAS02. Value=1.0. Power=-1. Digit=1\n",
      "binary_SUCOAS03. Value=1.0. Power=0. Digit=1\n",
      "binary_SUCOAS04. Value=1.0. Power=1. Digit=1\n",
      "binary_SUCOAS06. Value=1.0. Power=3. Digit=1\n",
      "binary_TALA03. Value=1.0. Power=0. Digit=1\n",
      "binary_TALA05. Value=1.0. Power=2. Digit=1\n",
      "binary_TALA06. Value=1.0. Power=3. Digit=1\n",
      "binary_NADTRHD02. Value=1.0. Power=-1. Digit=1\n",
      "binary_NADTRHD06. Value=1.0. Power=3. Digit=1\n",
      "binary_ICDHyr02. Value=1.0. Power=-1. Digit=1\n",
      "binary_ICDHyr04. Value=1.0. Power=1. Digit=1\n",
      "binary_GAPD01. Value=1.0. Power=-2. Digit=1\n",
      "binary_GAPD05. Value=1.0. Power=2. Digit=1\n",
      "binary_ICL01. Value=1.0. Power=-2. Digit=1\n",
      "binary_ICL02. Value=1.0. Power=-1. Digit=1\n",
      "binary_ICL06. Value=1.0. Power=3. Digit=1\n",
      "binary_TPI01. Value=1.0. Power=-2. Digit=1\n",
      "binary_TPI05. Value=1.0. Power=2. Digit=1\n",
      "binary_TPI06. Value=1.0. Power=3. Digit=1\n",
      "binary_ENO01. Value=1.0. Power=-2. Digit=1\n",
      "binary_ENO02. Value=1.0. Power=-1. Digit=1\n",
      "binary_ENO03. Value=1.0. Power=0. Digit=1\n",
      "binary_ENO04. Value=1.0. Power=1. Digit=1\n",
      "binary_ENO06. Value=1.0. Power=3. Digit=1\n",
      "binary_ACONTa01. Value=1.0. Power=-2. Digit=1\n",
      "binary_ACONTa05. Value=1.0. Power=2. Digit=1\n",
      "binary_RPI01. Value=1.0. Power=-2. Digit=1\n",
      "binary_RPI04. Value=1.0. Power=1. Digit=1\n",
      "binary_ACONTb05. Value=1.0. Power=2. Digit=1\n",
      "binary_PDH01. Value=1.0. Power=-2. Digit=1\n",
      "binary_CS01. Value=1.0. Power=-2. Digit=1\n",
      "binary_TKT200. Value=1.0. Power=-3. Digit=1\n",
      "binary_TKT203. Value=1.0. Power=0. Digit=1\n",
      "binary_TKT204. Value=1.0. Power=1. Digit=1\n",
      "binary_FBP04. Value=1.0. Power=1. Digit=1\n",
      "binary_FBP06. Value=1.0. Power=3. Digit=1\n",
      "binary_PPCK00. Value=1.0. Power=-3. Digit=1\n",
      "binary_PPCK05. Value=1.0. Power=2. Digit=1\n",
      "binary_PPCK06. Value=1.0. Power=3. Digit=1\n",
      "binary_TKT100. Value=1.0. Power=-3. Digit=1\n",
      "binary_TKT102. Value=1.0. Power=-1. Digit=1\n",
      "binary_TKT103. Value=1.0. Power=0. Digit=1\n",
      "binary_TKT106. Value=1.0. Power=3. Digit=1\n",
      "binary_PFK00. Value=1.0. Power=-3. Digit=1\n",
      "binary_PFL00. Value=1.0. Power=-3. Digit=1\n",
      "binary_PFL01. Value=1.0. Power=-2. Digit=1\n",
      "binary_PFL04. Value=1.0. Power=1. Digit=1\n",
      "binary_FBA00. Value=1.0. Power=-3. Digit=1\n",
      "binary_FBA01. Value=1.0. Power=-2. Digit=1\n",
      "binary_FBA02. Value=1.0. Power=-1. Digit=1\n",
      "binary_FBA06. Value=1.0. Power=3. Digit=1\n",
      "binary_PYK00. Value=1.0. Power=-3. Digit=1\n",
      "binary_PYK05. Value=1.0. Power=2. Digit=1\n",
      "binary_LDH_D01. Value=1.0. Power=-2. Digit=1\n",
      "binary_FRD702. Value=1.0. Power=-1. Digit=1\n",
      "binary_FRD704. Value=1.0. Power=1. Digit=1\n"
     ]
    }
   ],
   "source": [
    "# Fitted parameters\n",
    "kfit_dict = {}\n",
    "for group_id, var_dict in iteritems(var_cons_dict):\n",
    "    var = var_dict[0]\n",
    "    cons = var_dict[1]\n",
    "    a0  = var_dict[0][2]\n",
    "    kfit = 0.\n",
    "    for l,pwr in enumerate(powers):\n",
    "        for k,digit in enumerate(digits):            \n",
    "            yid = 'binary_%s%s%s' % (group_id,k,l)\n",
    "            y   = x_dict[yid]            \n",
    "            if abs(y)>1e-10:\n",
    "                print('%s. Value=%s. Power=%g. Digit=%g' % (yid, y, pwr, digit))\n",
    "            kfit += y*a0*radix**pwr*digit\n",
    "    kfit_dict[group_id] = kfit"
   ]
  },
  {
   "cell_type": "code",
   "execution_count": 24,
   "metadata": {
    "collapsed": false,
    "deletable": true,
    "editable": true
   },
   "outputs": [
    {
     "name": "stdout",
     "output_type": "stream",
     "text": [
      "Changed keffs: 48/48\n"
     ]
    },
    {
     "data": {
      "text/plain": [
       "[(u'G6PDH2r', 1.0683760683760685e-06, 0.75),\n",
       " (u'AKGDH', 1.7094017094017095e-05, 3.0),\n",
       " (u'ME2', 5.395299145299146e-05, 11.625),\n",
       " (u'MALS', 4.2735042735042735e-05, 9.0),\n",
       " (u'GLUN', 3.846153846153846e-05, 8.0),\n",
       " (u'ME1', 2.991452991452992e-05, 6.000000000000001),\n",
       " (u'GND', 5.341880341880342e-07, 0.875),\n",
       " (u'ACKr', 5.341880341880342e-07, 0.875),\n",
       " (u'GLNS', 8.547008547008548e-06, 1.0),\n",
       " (u'ADK1', 5.1282051282051286e-05, 11.0),\n",
       " (u'SUCDi', 5.341880341880342e-07, 0.875),\n",
       " (u'PPC', 5.341880341880342e-05, 11.5),\n",
       " (u'MDH', 6.73076923076923e-05, 14.749999999999996),\n",
       " (u'FUM', 5.1282051282051286e-05, 11.0),\n",
       " (u'GLUDy', 7.47863247863248e-06, 0.7500000000000001),\n",
       " (u'GLUSy', 1.7094017094017095e-05, 3.0),\n",
       " (u'PGL', 2.136752136752137e-06, 0.5),\n",
       " (u'PGM', 3.73931623931624e-06, 0.12499999999999994),\n",
       " (u'ACALD', 6.784188034188034e-05, 14.874999999999998),\n",
       " (u'PGK', 2.136752136752137e-06, 0.5),\n",
       " (u'PGI', 9.615384615384616e-06, 1.25),\n",
       " (u'PPS', 1.7094017094017095e-05, 3.0),\n",
       " (u'PTAr', 4.05982905982906e-05, 8.5),\n",
       " (u'RPE', 3.846153846153846e-05, 8.0),\n",
       " (u'ALCD2x', 6.784188034188034e-05, 14.874999999999998),\n",
       " (u'SUCOAS', 5.0747863247863255e-05, 10.875000000000002),\n",
       " (u'TALA', 5.555555555555556e-05, 12.0),\n",
       " (u'NADTRHD', 3.632478632478633e-05, 7.500000000000001),\n",
       " (u'ICDHyr', 1.0683760683760684e-05, 1.4999999999999998),\n",
       " (u'GAPD', 1.8162393162393165e-05, 3.2500000000000004),\n",
       " (u'ICL', 3.739316239316239e-05, 7.75),\n",
       " (u'TPI', 5.2350427350427356e-05, 11.25),\n",
       " (u'ENO', 5.0213675213675216e-05, 10.75),\n",
       " (u'ACONTa', 1.8162393162393165e-05, 3.2500000000000004),\n",
       " (u'RPI', 9.615384615384616e-06, 1.25),\n",
       " (u'ACONTb', 1.7094017094017095e-05, 3.0),\n",
       " (u'PDH', 1.0683760683760685e-06, 0.75),\n",
       " (u'CS', 1.0683760683760685e-06, 0.75),\n",
       " (u'TKT1', 4.1132478632478634e-05, 8.625),\n",
       " (u'FBP', 4.2735042735042735e-05, 9.0),\n",
       " (u'TKT2', 1.3354700854700855e-05, 2.1249999999999996),\n",
       " (u'PPCK', 5.181623931623932e-05, 11.125),\n",
       " (u'PFK', 5.341880341880342e-07, 0.875),\n",
       " (u'PFL', 1.014957264957265e-05, 1.375),\n",
       " (u'FBA', 3.792735042735043e-05, 7.875000000000001),\n",
       " (u'PYK', 1.762820512820513e-05, 3.125),\n",
       " (u'LDH_D', 1.0683760683760685e-06, 0.75),\n",
       " (u'FRD7', 1.0683760683760684e-05, 1.4999999999999998)]"
      ]
     },
     "execution_count": 24,
     "metadata": {},
     "output_type": "execute_result"
    }
   ],
   "source": [
    "kfit_changed = [(k,v, abs(v-a0)/a0) for k,v in iteritems(kfit_dict) if abs(v-a0)/a0>1e-6]\n",
    "print('Changed keffs: %d/%d' % (len(kfit_changed), len(var_cons_dict)))\n",
    "kfit_changed"
   ]
  },
  {
   "cell_type": "markdown",
   "metadata": {
    "deletable": true,
    "editable": true
   },
   "source": [
    "### Plug back in to be sure"
   ]
  },
  {
   "cell_type": "code",
   "execution_count": 25,
   "metadata": {
    "collapsed": false,
    "deletable": true,
    "editable": true
   },
   "outputs": [
    {
     "name": "stdout",
     "output_type": "stream",
     "text": [
      "Cond=glucose. mu_meas=0.74. mu_sim=0.740019 (unfit=1.79057). Error=0.00251%\n",
      "\tEX_glc__D_e uptake=-20\n",
      "\tEX_fru_e uptake=0\n",
      "\tEX_succ_e uptake=0\n",
      "\tEX_mal__L_e uptake=0\n",
      "\tEX_ac_e uptake=0\n",
      "Cond=succinate. mu_meas=0.46. mu_sim=0.460011 (unfit=0.840134). Error=0.00239%\n",
      "\tEX_glc__D_e uptake=0\n",
      "\tEX_fru_e uptake=0\n",
      "\tEX_succ_e uptake=-20\n",
      "\tEX_mal__L_e uptake=0\n",
      "\tEX_ac_e uptake=0\n",
      "Cond=acetate. mu_meas=0.256. mu_sim=0.256011 (unfit=0.389313). Error=0.00446%\n",
      "\tEX_glc__D_e uptake=0\n",
      "\tEX_fru_e uptake=0\n",
      "\tEX_succ_e uptake=0\n",
      "\tEX_mal__L_e uptake=0\n",
      "\tEX_ac_e uptake=-20\n"
     ]
    }
   ],
   "source": [
    "#----------------------------------------\n",
    "# Starting from basal model\n",
    "csrcs = df_conds.cond.unique()\n",
    "for csrc in csrcs:\n",
    "    ijofit = load_json_model('/home/laurence/ME/models/BiGG_M/json/e_coli_core.json')    \n",
    "    crowding = Constraint('crowding')\n",
    "    crowding._bound = crowding_bound0\n",
    "    crowding._constraint_sense = 'L'\n",
    "    \n",
    "    df_condi = df_conds[ df_conds.cond==csrc]    \n",
    "    for i,row in df_condi.iterrows():\n",
    "        rid = row['rxn']\n",
    "        rxn = ijofit.reactions.get_by_id(rid)\n",
    "        rxn.lower_bound = row['lb']\n",
    "        rxn.upper_bound = row['ub']\n",
    "\n",
    "    for rid,kfit in iteritems(kfit_dict):\n",
    "        rxn = ijofit.reactions.get_by_id(rid)\n",
    "        rxn.add_metabolites({crowding:kfit})\n",
    "    \n",
    "    ijofit.optimize()\n",
    "    \n",
    "    mu_measi = df_meas[ df_meas.substrate==csrc].growth_rate_1_h.iloc[0]\n",
    "    mu_fiti = ijofit.reactions.BIOMASS_Ecoli_core_w_GAM.x\n",
    "    \n",
    "    # Get unfit\n",
    "    for rxn in ijofit.metabolites.crowding.reactions:\n",
    "        rxn._metabolites[crowding] = a0\n",
    "    ijofit.optimize()\n",
    "    mu_unfiti = ijofit.reactions.BIOMASS_Ecoli_core_w_GAM.x\n",
    "    \n",
    "    err = 100*(mu_fiti - mu_measi)/mu_measi\n",
    "    print('Cond=%s. mu_meas=%g. mu_sim=%g (unfit=%g). Error=%.3g%%' % (csrc, mu_measi, mu_fiti, mu_unfiti, err))\n",
    "    for i,row in df_condi.iterrows():\n",
    "        rid = row['rxn']\n",
    "        rxn = ijofit.reactions.get_by_id(rid)        \n",
    "        print('\\t%s uptake=%g' % (rxn.id, rxn.x))"
   ]
  }
 ],
 "metadata": {
  "kernelspec": {
   "display_name": "Python 2",
   "language": "python",
   "name": "python2"
  },
  "language_info": {
   "codemirror_mode": {
    "name": "ipython",
    "version": 2
   },
   "file_extension": ".py",
   "mimetype": "text/x-python",
   "name": "python",
   "nbconvert_exporter": "python",
   "pygments_lexer": "ipython2",
   "version": "2.7.14"
  }
 },
 "nbformat": 4,
 "nbformat_minor": 2
}
