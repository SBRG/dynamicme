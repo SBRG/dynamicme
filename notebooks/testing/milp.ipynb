{
 "cells": [
  {
   "cell_type": "markdown",
   "metadata": {
    "deletable": true,
    "editable": true
   },
   "source": [
    "# 1. Given optimal keffs, choose fewest keff changes--i.e., most sensitive ones\n",
    "Two-step procedure:\n",
    "1. Use favorite method to get optimal keffs\n",
    "1. Run MILP to choose the fewest keffs differing from nominal keffs\n",
    "\n",
    "$$\n",
    "\\begin{align*}\n",
    "\\min_{v,y,z} \\quad & \\sum_k \\| (c^k)^T v^k - \\mu^{*k} \\| \\\\\n",
    "\\mathrm{s.t.} \\quad & S^k v^k = 0 \\\\\n",
    "& \\sum_i x_i^k \\leq c^k \\\\\n",
    "& x_i^k = \\alpha_i v_i^k + \\beta_i z_i^k - \\alpha_i z_i^k \\\\\n",
    "& l_i^k \\cdot y_i^k \\leq z_i^k \\leq u_i^k \\cdot y_i^k \\\\\n",
    "& l_i^k \\leq v_i^k \\leq u_i^k \\\\\n",
    "& \\sum_i y_i \\leq K \\\\\n",
    "& [\\text{Duality gap constraint}] \\\\\n",
    "& y_i \\in \\{0,1\\}\n",
    "\\end{align*}\n",
    "$$"
   ]
  },
  {
   "cell_type": "markdown",
   "metadata": {
    "deletable": true,
    "editable": true
   },
   "source": [
    "For L1 norm:\n",
    "$$\n",
    "\\begin{align*}\n",
    "\\min_{v,y,z} \\quad & \\sum_k sp^k + sn^k \\\\\n",
    "\\mathrm{s.t.} \\quad & S^k v^k = 0 \\\\\n",
    "& sp - sn = (c^k)^T v^k - \\mu^{*k} \\\\\n",
    "& \\sum_i x_i^k \\leq c^k \\\\\n",
    "& x_i^k = \\alpha_i v_i^k + \\beta_i z_i^k - \\alpha_i z_i^k \\\\\n",
    "& l_i^k \\cdot y_i^k \\leq z_i^k \\leq u_i^k \\cdot y_i^k \\\\\n",
    "& l_i^k \\leq v_i^k \\leq u_i^k \\\\\n",
    "& \\sum_i y_i \\leq K \\\\\n",
    "& [\\text{Duality gap constraint}] \\\\\n",
    "& y_i \\in \\{0,1\\} \\\\\n",
    "& sp, sn \\geq 0\n",
    "\\end{align*}\n",
    "$$"
   ]
  },
  {
   "cell_type": "markdown",
   "metadata": {
    "deletable": true,
    "editable": true
   },
   "source": [
    "Alternatively,\n",
    "$$\n",
    "\\begin{align*}\n",
    "\\min_{v,y,z} \\quad & \\sum_i y_i \\leq K \\\\\n",
    "\\mathrm{s.t.} \\quad & S^k v^k = 0 \\\\\n",
    "& sp^k - sn^k = (c^k)^T v^k - \\mu^{*k} \\\\\n",
    "& \\sum_i x_i^k \\leq c^k \\\\\n",
    "& x_i^k = \\alpha_i v_i^k + \\beta_i z_i^k - \\alpha_i z_i^k \\\\\n",
    "& l_i^k \\cdot y_i^k \\leq z_i^k \\leq u_i^k \\cdot y_i^k \\\\\n",
    "& l_i^k \\leq v_i^k \\leq u_i^k \\\\\n",
    "& sp^k + sn^k \\leq f^k \\\\\n",
    "& [\\text{Duality gap constraint}] \\\\\n",
    "& y_i \\in \\{0,1\\} \\\\\n",
    "& sp, sn \\geq 0\n",
    "\\end{align*}\n",
    "$$"
   ]
  },
  {
   "cell_type": "markdown",
   "metadata": {
    "deletable": true,
    "editable": true
   },
   "source": [
    "With duality gap constraints:\n",
    "$$\n",
    "\\begin{align*}\n",
    "\\min_{v,y,z} \\quad & \\sum_i y_i \\leq K \\\\\n",
    "\\mathrm{s.t.} \\quad & S^k v^k = 0 \\\\\n",
    "& sp^k - sn^k = (c^k)^T v^k - \\mu^{*k} \\\\\n",
    "& \\sum_i x_i^k \\leq C^k \\\\\n",
    "& x_i^k = \\alpha_i v_i^k + \\beta_i z_i^k - \\alpha_i z_i^k \\\\\n",
    "& l_i^k \\cdot y_i^k \\leq z_i^k \\leq u_i^k \\cdot y_i^k \\\\\n",
    "& l_i^k \\leq v_i^k \\leq u_i^k \\\\\n",
    "& sp^k + sn^k \\leq f^k \\\\\n",
    "& (c^k)^T v^k = w^a C + w^u u - w^l l \\\\\n",
    "& w^S S + w^u - w^l + w^a a = (c^k)^T \\\\\n",
    "& y_i \\in \\{0,1\\} \\\\\n",
    "& sp, sn \\geq 0 \\\\\n",
    "& w^u, w^l, w^a \\geq 0 \\\\\n",
    "& v^k, w^s, z \\in \\mathbb{R}\n",
    "\\end{align*}\n",
    "$$"
   ]
  },
  {
   "cell_type": "markdown",
   "metadata": {
    "deletable": true,
    "editable": true
   },
   "source": [
    "## MILP tips\n",
    "- Callbacks via [Python API of Gurobi](http://www.gurobi.com/documentation/7.5/refman/py_python_api_overview.html#sec:Python)\n",
    "    - Lazy constraints (e.g., for Benders decomposition): [Model.cbLazy](http://www.gurobi.com/documentation/7.5/refman/py_model_cblazy.html#pythonmethod:Model.cbLazy)\n",
    "    - User cuts: [Model.cbCut](http://www.gurobi.com/documentation/7.5/refman/py_model_cbcut.html#pythonmethod:Model.cbCut)\n",
    "- Eliminate incumbents via tighter McCormick relaxation of bilinear constraints\n",
    "    - 20% speedup of radix method"
   ]
  },
  {
   "cell_type": "markdown",
   "metadata": {
    "deletable": true,
    "editable": true
   },
   "source": [
    "Alternatively, run one-shot MINLP\n",
    "- could reformulate to gigantic MILP, e.g., via radix reformulation"
   ]
  },
  {
   "cell_type": "code",
   "execution_count": 32,
   "metadata": {
    "collapsed": true,
    "deletable": true,
    "editable": true
   },
   "outputs": [],
   "source": [
    "from cobra.io import load_json_model\n",
    "\n",
    "ijomc  = load_json_model('/home/laurence/ME/data/dynamicME/nominal_ijomc.json')\n",
    "ijofit = load_json_model('/home/laurence/ME/data/dynamicME/best_ijomc.json')"
   ]
  },
  {
   "cell_type": "markdown",
   "metadata": {
    "deletable": true,
    "editable": true
   },
   "source": [
    "## Simple one condition problem"
   ]
  },
  {
   "cell_type": "code",
   "execution_count": 112,
   "metadata": {
    "collapsed": true,
    "deletable": true,
    "editable": true
   },
   "outputs": [],
   "source": [
    "from cobra import Metabolite, Reaction\n",
    "\n",
    "class Constraint(Metabolite):\n",
    "    pass\n",
    "\n",
    "class Variable(Reaction):\n",
    "    pass"
   ]
  },
  {
   "cell_type": "code",
   "execution_count": 123,
   "metadata": {
    "collapsed": false,
    "deletable": true,
    "editable": true
   },
   "outputs": [],
   "source": [
    "F_ERROR = 0.05\n",
    "\n",
    "### Create basic MILP using cobrapy\n",
    "#ijomilp    = load_json_model('/home/laurence/ME/models/BiGG_M/json/iJO1366.json')\n",
    "ijomilp = load_json_model('/home/laurence/ME/data/dynamicME/nominal_ijomc.json')\n",
    "\n",
    "crowding0 = ijomc.metabolites.crowding\n",
    "cons_crowd = Constraint('crowding')\n",
    "cons_crowd._constraint_sense = 'L'\n",
    "cons_crowd._bound = crowding0._bound\n",
    "xs = []\n",
    "ys = []\n",
    "zs = []\n",
    "for rxn0 in crowding0.reactions:\n",
    "    ### Add sum_i xi <= c\n",
    "    x = Variable('x_'+rxn0.id)\n",
    "    xs.append(x)\n",
    "    x.add_metabolites({cons_crowd:1})\n",
    "    ### Add binary constraints\n",
    "    ### xki = αi vki + βi zki − αi zki\n",
    "    ### --> xki - ai vki - bi zki + ai zki = 0\n",
    "    cons_x = Constraint('cons_'+x.id)\n",
    "    x.add_metabolites({cons_x:1.})\n",
    "    ai = rxn0.metabolites[crowding0]\n",
    "    rxn_fit = ijofit.reactions.get_by_id(rxn0.id)\n",
    "    crowd_fit = ijofit.metabolites.crowding\n",
    "    bi = rxn_fit.metabolites[crowd_fit]\n",
    "    vi = ijomilp.reactions.get_by_id(rxn0.id)\n",
    "    vi.add_metabolites({cons_x:-ai})\n",
    "    zi = Variable('z_'+rxn0.id)\n",
    "    zs.append(zi)\n",
    "    zi.add_metabolites({cons_x:-bi + ai})\n",
    "    ### lki⋅yki ≤ zki ≤ uki⋅yki\n",
    "    yi = Variable('y_'+rxn0.id)\n",
    "    ys.append(yi)\n",
    "    yi.variable_kind = 'integer'\n",
    "    yi.lower_bound = 0.\n",
    "    yi.upper_bound = 1.\n",
    "    cons_yl = Constraint('cons_binary_L_'+rxn0.id)\n",
    "    cons_yl._bound = 0.\n",
    "    cons_yl._constraint_sense = 'L'\n",
    "    yi.add_metabolites({cons_yl:rxn_fit.lower_bound})\n",
    "    zi.add_metabolites({cons_yl:-1.})\n",
    "    cons_yg = Constraint('cons_binary_G_'+rxn0.id)\n",
    "    cons_yg._bound = 0.\n",
    "    cons_yg._constraint_sense = 'L'\n",
    "    yi.add_metabolites({cons_yg:-rxn_fit.upper_bound})\n",
    "    zi.add_metabolites({cons_yg:1})\n",
    "    \n",
    "ijomilp.add_reactions(xs)\n",
    "ijomilp.add_reactions(ys)\n",
    "ijomilp.add_reactions(zs)\n",
    "\n",
    "### L1 norm objective \n",
    "for rxn in ijomilp.reactions:\n",
    "    rxn.objective_coefficient = 0.\n",
    "\n",
    "for y in ys:\n",
    "    y.objective_coefficient = 1.\n",
    "    \n",
    "mu_p = Variable('mu_p')\n",
    "mu_n = Variable('mu_n')\n",
    "ijomilp.add_reactions([mu_p, mu_n])\n",
    "\n",
    "mu_p.lower_bound = 0.\n",
    "mu_n.lower_bound = 0.\n",
    "#mu_p.objective_coefficient = 1.\n",
    "#mu_n.objective_coefficient = 1.\n",
    "### sp−sn - c'vk = -μ∗\n",
    "cons_norm = Constraint('cons_norm')\n",
    "mu_exp = 0.740\n",
    "cons_norm._bound = -mu_exp\n",
    "mu_p.add_metabolites({cons_norm:1.})\n",
    "mu_n.add_metabolites({cons_norm:-1.})\n",
    "rxn_obj = ijomilp.reactions.BIOMASS_Ec_iJO1366_core_53p95M\n",
    "rxn_obj.add_metabolites({cons_norm:-1.})\n",
    "\n",
    "### sp + sn <= f\n",
    "cons_obj = Constraint('cons_obj')\n",
    "cons_obj._constraint_sense = 'L'\n",
    "cons_obj._bound = F_ERROR*mu_exp   # 1% error allowed\n",
    "mu_p.add_metabolites({cons_obj:1.})\n",
    "mu_n.add_metabolites({cons_obj:1.})\n",
    "\n",
    "### Duality gap constraints\n",
    "wSs = []\n",
    "wus = []\n",
    "wls = []\n",
    "wa  = []\n",
    "\n",
    "### mu = wa*C + wu*u - wl*l\n",
    "### mu - wa*C - wu*u + wl*l = 0\n",
    "cons_gap = Constraint('cons_duality_gap')\n",
    "\n",
    "rxn_obj.add_metabolites({cons_gap:1.})\n",
    "\n",
    "wa = Variable('wa')\n",
    "wa.lower_bound = 0.\n",
    "ijomilp.add_reaction(wa)\n",
    "\n",
    "wa.add_metabolites({cons_gap:-cons_crowd._bound})\n",
    "\n",
    "for met in ijomilp.metabolites:\n",
    "    if not isinstance(met, Constraint):\n",
    "        wSi = Variable('wS_'+met.id)\n",
    "        wSs.append(wSi)\n",
    "    \n",
    "ijomilp.add_reactions(wSs)\n",
    "\n",
    "for rxn in ijomilp.reactions:\n",
    "    if not isinstance(rxn, Variable):\n",
    "        wui = Variable('wu_'+rxn.id)\n",
    "        wli = Variable('wl_'+rxn.id)\n",
    "        wui.lower_bound = 0.\n",
    "        wli.lower_bound = 0.\n",
    "        wus.append(wui)\n",
    "        wls.append(wli)\n",
    "        wui.add_metabolites({cons_gap:-rxn.upper_bound})\n",
    "        wli.add_metabolites({cons_gap:rxn.lower_bound})\n",
    "        ### wS*S + wu - wl + wa*a = c\n",
    "        cons_dual = Constraint('cons_dual_'+rxn.id)\n",
    "        cons_dual._constraint_sense = 'E' # since v can be neg\n",
    "        rxn0 = ijomc.reactions.get_by_id(rxn.id)\n",
    "        cons_dual._bound = rxn0.objective_coefficient\n",
    "        for met,si in rxn.metabolites.iteritems():\n",
    "            if not isinstance(met, Constraint):        \n",
    "                wSi = ijomilp.reactions.get_by_id('wS_'+met.id)\n",
    "                wSi.add_metabolites({cons_dual:si})        \n",
    "        wui.add_metabolites({cons_dual:1.})\n",
    "        wli.add_metabolites({cons_dual:-1.})\n",
    "        # if this rxn participates in crowding:\n",
    "        if rxn.metabolites.has_key(cons_crowd):\n",
    "            ai = rxn.metabolites[cons_crowd]\n",
    "            wa.add_metabolites({cons_dual:ai})\n",
    "    \n",
    "ijomilp.add_reactions(wus)\n",
    "ijomilp.add_reactions(wls)"
   ]
  },
  {
   "cell_type": "code",
   "execution_count": 130,
   "metadata": {
    "collapsed": false
   },
   "outputs": [
    {
     "data": {
      "text/plain": [
       "1.0"
      ]
     },
     "execution_count": 130,
     "metadata": {},
     "output_type": "execute_result"
    }
   ],
   "source": [
    "ijomilp.metabolites.cons_dual_BIOMASS_Ec_iJO1366_core_53p95M._bound"
   ]
  },
  {
   "cell_type": "code",
   "execution_count": 140,
   "metadata": {
    "collapsed": false
   },
   "outputs": [
    {
     "data": {
      "text/plain": [
       "3.469446951953614e-17"
      ]
     },
     "execution_count": 140,
     "metadata": {},
     "output_type": "execute_result"
    }
   ],
   "source": [
    "cons_errs = []\n",
    "for rxn in cons_gap.reactions:\n",
    "    cons_errs.append(rxn.x * rxn.metabolites[cons_gap])\n",
    "sum(cons_errs)"
   ]
  },
  {
   "cell_type": "code",
   "execution_count": 124,
   "metadata": {
    "collapsed": true,
    "deletable": true,
    "editable": true
   },
   "outputs": [],
   "source": [
    "F_ERROR = 0.01\n",
    "cons_obj._bound = F_ERROR*mu_exp   # 1% error allowed"
   ]
  },
  {
   "cell_type": "code",
   "execution_count": 125,
   "metadata": {
    "collapsed": false,
    "deletable": true,
    "editable": true
   },
   "outputs": [
    {
     "name": "stdout",
     "output_type": "stream",
     "text": [
      "CPU times: user 610 ms, sys: 23.3 ms, total: 633 ms\n",
      "Wall time: 541 ms\n"
     ]
    },
    {
     "data": {
      "text/plain": [
       "<Solution 0.00 at 0x7f7d9ced7b90>"
      ]
     },
     "execution_count": 125,
     "metadata": {},
     "output_type": "execute_result"
    }
   ],
   "source": [
    "%%time\n",
    "ijomilp.optimize(solver='gurobi', objective_sense='minimize')"
   ]
  },
  {
   "cell_type": "code",
   "execution_count": 126,
   "metadata": {
    "collapsed": false,
    "deletable": true,
    "editable": true
   },
   "outputs": [
    {
     "data": {
      "text/plain": [
       "0.7325999999972055"
      ]
     },
     "execution_count": 126,
     "metadata": {},
     "output_type": "execute_result"
    }
   ],
   "source": [
    "ijomilp.reactions.BIOMASS_Ec_iJO1366_core_53p95M.x"
   ]
  },
  {
   "cell_type": "code",
   "execution_count": 117,
   "metadata": {
    "collapsed": false,
    "deletable": true,
    "editable": true
   },
   "outputs": [
    {
     "data": {
      "text/plain": [
       "0.0"
      ]
     },
     "execution_count": 117,
     "metadata": {},
     "output_type": "execute_result"
    }
   ],
   "source": [
    "sum([y.x for y in ys])"
   ]
  },
  {
   "cell_type": "code",
   "execution_count": 111,
   "metadata": {
    "collapsed": false
   },
   "outputs": [],
   "source": [
    "# ijomilp.metabolites.cons_duality_gap.reactions"
   ]
  },
  {
   "cell_type": "code",
   "execution_count": 21,
   "metadata": {
    "collapsed": false,
    "deletable": true,
    "editable": true
   },
   "outputs": [
    {
     "data": {
      "text/plain": [
       "<bound method CallbackClass.callback of <gurobipy.CallbackClass object at 0x7f7e08a58390>>"
      ]
     },
     "execution_count": 21,
     "metadata": {},
     "output_type": "execute_result"
    }
   ],
   "source": [
    "from gurobipy import *\n",
    "\n",
    "#GRB.Callback.callback()"
   ]
  }
 ],
 "metadata": {
  "kernelspec": {
   "display_name": "Python 2",
   "language": "python",
   "name": "python2"
  },
  "language_info": {
   "codemirror_mode": {
    "name": "ipython",
    "version": 2
   },
   "file_extension": ".py",
   "mimetype": "text/x-python",
   "name": "python",
   "nbconvert_exporter": "python",
   "pygments_lexer": "ipython2",
   "version": "2.7.13"
  }
 },
 "nbformat": 4,
 "nbformat_minor": 2
}
