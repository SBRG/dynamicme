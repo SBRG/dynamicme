{
 "cells": [
  {
   "cell_type": "markdown",
   "metadata": {
    "deletable": true,
    "editable": true
   },
   "source": [
    "# 1. Given optimal keffs, choose fewest keff changes--i.e., most sensitive ones\n",
    "Two-step procedure:\n",
    "1. Use favorite method to get optimal keffs\n",
    "1. Run MILP to choose the fewest keffs differing from nominal keffs\n",
    "\n",
    "$$\n",
    "\\begin{align*}\n",
    "\\min_{v,y,z} \\quad & \\sum_k \\| (c^k)^T v^k - \\mu^{*k} \\| \\\\\n",
    "\\mathrm{s.t.} \\quad & S^k v^k = 0 \\\\\n",
    "& \\sum_i x_i^k \\leq c^k \\\\\n",
    "& x_i^k = \\alpha_i v_i^k + \\beta_i z_i^k - \\alpha_i z_i^k \\\\\n",
    "& -M\\cdot (1-y_i) \\leq z_i^k - v_i^k \\leq M \\cdot (1-y_i) \\\\\n",
    "& l_i^k y_i \\leq z_i^k \\leq u_i^k y_i \\\\\n",
    "& l_i^k \\leq v_i^k \\leq u_i^k \\\\\n",
    "& \\sum_i y_i \\leq K \\\\\n",
    "& [\\text{Duality gap constraint}] \\\\\n",
    "& y_i \\in \\{0,1\\}\n",
    "\\end{align*}\n",
    "$$"
   ]
  },
  {
   "cell_type": "markdown",
   "metadata": {
    "deletable": true,
    "editable": true
   },
   "source": [
    "With duality gap constraints:\n",
    "$$\n",
    "\\begin{align*}\n",
    "\\min_{v,y,z} \\quad & \\sum_i y_i\\\\\n",
    "\\mathrm{s.t.} \\quad & S^k v^k = 0 \\\\\n",
    "& sp^k - sn^k = (c^k)^T v^k - \\mu^{*k} \\\\\n",
    "& \\sum_i x_i^k \\leq C^k \\\\\n",
    "& x_i^k = \\alpha_i v_i^k + \\beta_i z_i^k - \\alpha_i z_i^k \\\\\n",
    "& -M\\cdot (1-y_i) \\leq z_i^k - v_i^k \\leq M \\cdot (1-y_i) \\\\\n",
    "& l_i^k y_i \\leq z_i^k \\leq u_i^k y_i \\\\\n",
    "& l_i^k \\leq v_i^k \\leq u_i^k \\\\\n",
    "& sp^k + sn^k \\leq f^k \\\\\n",
    "& (c^k)^T v^k = w^a C + w^u u - w^l l \\\\\n",
    "& w^S S + w^u - w^l + w^a \\alpha_i + z^a_i (\\beta_i - \\alpha_i)  = (c^k)^T \\\\\n",
    "& -M\\cdot (1-y_i) \\leq z_i^{a,k} - w^{a,k} \\leq M \\cdot (1-y_i) \\\\\n",
    "& w^{a,l} y_i \\leq z_i^{a,k} \\leq w^{a,u} y_i \\\\\n",
    "& y_i \\in \\{0,1\\} \\\\\n",
    "& sp, sn \\geq 0 \\\\\n",
    "& w^u, w^l, w^a \\geq 0 \\\\\n",
    "& v^k, w^s, z \\in \\mathbb{R}\n",
    "\\end{align*}\n",
    "$$"
   ]
  },
  {
   "cell_type": "markdown",
   "metadata": {
    "deletable": true,
    "editable": true
   },
   "source": [
    "## MILP tips\n",
    "- Callbacks via [Python API of Gurobi](http://www.gurobi.com/documentation/7.5/refman/py_python_api_overview.html#sec:Python)\n",
    "    - Lazy constraints (e.g., for Benders decomposition): [Model.cbLazy](http://www.gurobi.com/documentation/7.5/refman/py_model_cblazy.html#pythonmethod:Model.cbLazy)\n",
    "    - User cuts: [Model.cbCut](http://www.gurobi.com/documentation/7.5/refman/py_model_cbcut.html#pythonmethod:Model.cbCut)\n",
    "- Eliminate incumbents via tighter McCormick relaxation of bilinear constraints\n",
    "    - 20% speedup of radix method"
   ]
  },
  {
   "cell_type": "markdown",
   "metadata": {
    "deletable": true,
    "editable": true
   },
   "source": [
    "Alternatively, run one-shot MINLP\n",
    "- could reformulate to gigantic MILP, e.g., via radix reformulation"
   ]
  },
  {
   "cell_type": "code",
   "execution_count": 336,
   "metadata": {
    "collapsed": true,
    "deletable": true,
    "editable": true
   },
   "outputs": [],
   "source": [
    "from cobra import Metabolite, Reaction\n",
    "from dynamicme.optimize import Constraint, Variable"
   ]
  },
  {
   "cell_type": "code",
   "execution_count": 154,
   "metadata": {
    "collapsed": true,
    "deletable": true,
    "editable": true
   },
   "outputs": [],
   "source": [
    "from cobra.io import load_json_model\n",
    "\n",
    "ijofit = load_json_model('/home/laurence/ME/data/dynamicME/best_ijomc.json')"
   ]
  },
  {
   "cell_type": "code",
   "execution_count": 341,
   "metadata": {
    "collapsed": true
   },
   "outputs": [],
   "source": [
    "ijomc = load_json_model('/home/laurence/ME/data/dynamicME/nominal_ijomc_cons.json')"
   ]
  },
  {
   "cell_type": "markdown",
   "metadata": {
    "deletable": true,
    "editable": true
   },
   "source": [
    "## Simple one condition problem"
   ]
  },
  {
   "cell_type": "code",
   "execution_count": 342,
   "metadata": {
    "collapsed": false,
    "deletable": true,
    "editable": true
   },
   "outputs": [],
   "source": [
    "F_ERROR = 0.05\n",
    "M = 1000\n",
    "\n",
    "### Create basic MILP using cobrapy\n",
    "#ijomilp    = load_json_model('/home/laurence/ME/models/BiGG_M/json/iJO1366.json')\n",
    "ijomilp = load_json_model('/home/laurence/ME/data/dynamicME/nominal_ijomc_cons.json')\n",
    "\n",
    "crowding0 = ijomc.metabolites.crowding\n",
    "cons_crowd = Constraint('crowding')\n",
    "cons_crowd._constraint_sense = 'L'\n",
    "cons_crowd._bound = crowding0._bound\n",
    "ijomilp.add_metabolites([cons_crowd])\n",
    "### mu = wS*b + wa*C + wu*u - wl*l\n",
    "### mu - wS*b - wa*C - wu*u + wl*l = 0\n",
    "cons_gap = Constraint('cons_duality_gap')\n",
    "ijomilp.add_metabolites([cons_gap])\n",
    "xs = []\n",
    "ys = []\n",
    "zs = []\n",
    "for rxn0 in crowding0.reactions:\n",
    "    ### Add sum_i xi <= c\n",
    "    x = Variable('x_'+rxn0.id)\n",
    "    xs.append(x)\n",
    "    x.add_metabolites({cons_crowd:1})\n",
    "    ### Add binary constraints\n",
    "    ### xki = αi vki + βi zki − αi zki\n",
    "    ### --> xki - ai vki - bi zki + ai zki = 0\n",
    "    cons_x = Constraint('cons_'+x.id)\n",
    "    x.add_metabolites({cons_x:1.})\n",
    "    ai = rxn0.metabolites[crowding0]\n",
    "    rxn_fit = ijofit.reactions.get_by_id(rxn0.id)\n",
    "    crowd_fit = ijofit.metabolites.crowding\n",
    "    bi = rxn_fit.metabolites[crowd_fit]\n",
    "    vi = ijomilp.reactions.get_by_id(rxn0.id)\n",
    "    vi.add_metabolites({cons_x:-ai})\n",
    "    zi = Variable('z_'+rxn0.id)\n",
    "    zs.append(zi)\n",
    "    zi.add_metabolites({cons_x:-bi + ai})\n",
    "    ### -M*(1-yi) <= zi - vi <= M*(1-yi)\n",
    "    yi = Variable('y_'+rxn0.id)\n",
    "    ys.append(yi)\n",
    "    yi.variable_kind = 'integer'\n",
    "    yi.lower_bound = 0.\n",
    "    yi.upper_bound = 1.\n",
    "    cons_yl = Constraint('cons_z_diff_L_'+rxn0.id)    \n",
    "    cons_yl._constraint_sense = 'L'\n",
    "    cons_yl._bound = M\n",
    "    yi.add_metabolites({cons_yl:M})\n",
    "    zi.add_metabolites({cons_yl:-1.})\n",
    "    vi.add_metabolites({cons_yl:1.})\n",
    "    cons_yu = Constraint('cons_z_diff_U_'+rxn0.id)\n",
    "    cons_yu._constraint_sense = 'L'\n",
    "    cons_yu._bound = M\n",
    "    yi.add_metabolites({cons_yu:M})\n",
    "    zi.add_metabolites({cons_yu:1.})\n",
    "    vi.add_metabolites({cons_yu:-1.})\n",
    "    ### l*yi <= zi <= u*yi\n",
    "    cons_zl = Constraint('cons_z_L_'+rxn0.id)\n",
    "    cons_zu = Constraint('cons_z_U_'+rxn0.id)\n",
    "    cons_zl._constraint_sense = 'L'\n",
    "    cons_zu._constraint_sense = 'L'\n",
    "    zi.add_metabolites({cons_zl:-1.})\n",
    "    yi.add_metabolites({cons_zl:rxn.lower_bound})\n",
    "    zi.add_metabolites({cons_zu:1.})\n",
    "    yi.add_metabolites({cons_zu:-rxn.upper_bound})\n",
    "    \n",
    "ijomilp.add_reactions(xs)\n",
    "ijomilp.add_reactions(ys)\n",
    "ijomilp.add_reactions(zs)\n",
    "\n",
    "### L1 norm objective \n",
    "for rxn in ijomilp.reactions:\n",
    "    rxn.objective_coefficient = 0.\n",
    "\n",
    "for y in ys:\n",
    "    y.objective_coefficient = 1.\n",
    "    \n",
    "mu_p = Variable('mu_p')\n",
    "mu_n = Variable('mu_n')\n",
    "ijomilp.add_reactions([mu_p, mu_n])\n",
    "\n",
    "mu_p.lower_bound = 0.\n",
    "mu_n.lower_bound = 0.\n",
    "#mu_p.objective_coefficient = 1.\n",
    "#mu_n.objective_coefficient = 1.\n",
    "### sp−sn - c'vk = -μ∗\n",
    "cons_norm = Constraint('cons_norm')\n",
    "mu_exp = 0.740\n",
    "cons_norm._bound = -mu_exp\n",
    "mu_p.add_metabolites({cons_norm:1.})\n",
    "mu_n.add_metabolites({cons_norm:-1.})\n",
    "rxn_obj = ijomilp.reactions.BIOMASS_Ec_iJO1366_core_53p95M\n",
    "rxn_obj.add_metabolites({cons_norm:-1.})\n",
    "\n",
    "### sp + sn <= f\n",
    "cons_obj = Constraint('cons_obj')\n",
    "cons_obj._constraint_sense = 'L'\n",
    "cons_obj._bound = F_ERROR*mu_exp   # 1% error allowed\n",
    "mu_p.add_metabolites({cons_obj:1.})\n",
    "mu_n.add_metabolites({cons_obj:1.})\n",
    "\n",
    "### Duality gap constraints\n",
    "wSs = []\n",
    "wus = []\n",
    "wls = []\n",
    "wa  = []\n",
    "zas = []\n",
    "waL = 0.\n",
    "waU = 1e6\n",
    "\n",
    "rxn_obj.add_metabolites({cons_gap:1.})\n",
    "\n",
    "wa = Variable('wa')\n",
    "wa.lower_bound = 0.\n",
    "ijomilp.add_reaction(wa)\n",
    "\n",
    "wa.add_metabolites({cons_gap:-cons_crowd._bound})\n",
    "\n",
    "for met in ijomilp.metabolites:\n",
    "    if not isinstance(met, Constraint):\n",
    "        wSi = Variable('wS_'+met.id)\n",
    "        if met._constraint_sense == 'E':\n",
    "            wSi.lower_bound = -M\n",
    "        else:\n",
    "            wSi.lower_bound = 0.        \n",
    "        if met._constraint_sense == 'G':\n",
    "            wSi.add_metabolites({cons_gap:-met._bound})\n",
    "        else:\n",
    "            wSi.add_metabolites({cons_gap:met._bound})\n",
    "        wSs.append(wSi)\n",
    "    \n",
    "ijomilp.add_reactions(wSs)\n",
    "\n",
    "for rxn in ijomilp.reactions:\n",
    "    if not isinstance(rxn, Variable):\n",
    "        wui = Variable('wu_'+rxn.id)\n",
    "        wli = Variable('wl_'+rxn.id)\n",
    "        wui.lower_bound = 0.\n",
    "        wli.lower_bound = 0.\n",
    "        wus.append(wui)\n",
    "        wls.append(wli)\n",
    "        wui.add_metabolites({cons_gap:-rxn.upper_bound})\n",
    "        wli.add_metabolites({cons_gap:rxn.lower_bound})\n",
    "        ### wS*S + wu - wl + wa*a + za*(b-a) = c\n",
    "        cons_dual = Constraint('cons_dual_'+rxn.id)\n",
    "        cons_dual._constraint_sense = 'E' # since v can be neg                \n",
    "        rxn0 = ijomc.reactions.get_by_id(rxn.id)\n",
    "        cons_dual._bound = rxn0.objective_coefficient\n",
    "        # Add the wS*S terms\n",
    "        for met,si in rxn.metabolites.iteritems():\n",
    "            if not isinstance(met, Constraint):        \n",
    "                wSi = ijomilp.reactions.get_by_id('wS_'+met.id)\n",
    "                if met._constraint_sense == 'G':                    \n",
    "                    wSi.add_metabolites({cons_dual:-si})\n",
    "                else:                    \n",
    "                    wSi.add_metabolites({cons_dual:si})\n",
    "        wui.add_metabolites({cons_dual:1.})\n",
    "        wli.add_metabolites({cons_dual:-1.})\n",
    "\n",
    "for rxn in ijomilp.metabolites.crowding.reactions:\n",
    "    if not isinstance(rxn,Variable):\n",
    "        # if this rxn participates in crowding:\n",
    "        #if rxn.metabolites.has_key(cons_crowd):\n",
    "        cons_dual = ijomilp.metabolites.get_by_id('cons_dual_'+rxn.id)\n",
    "        rxn0 = ijomc.reactions.get_by_id(rxn.id)\n",
    "        ai = rxn0.metabolites[crowding0]\n",
    "        rxn_fit = ijofit.reactions.get_by_id(rxn.id)\n",
    "        bi = rxn_fit.metabolites[ijofit.metabolites.crowding]\n",
    "        wa.add_metabolites({cons_dual:ai})\n",
    "        zai = Variable('za_'+rxn.id)\n",
    "        zai.lower_bound = 0.\n",
    "        zas.append(zai)\n",
    "        zai.add_metabolites({cons_dual:bi-ai})\n",
    "        # -M*(1-yi) <= wa - zai <= M*(1-yi)\n",
    "        yi = ijomilp.reactions.get_by_id('y_'+rxn.id)\n",
    "        cons_zaL = Constraint('cons_za_diff_L_'+rxn.id)\n",
    "        cons_zaU = Constraint('cons_za_diff_U_'+rxn.id)\n",
    "        cons_zaL._constraint_sense = 'L'\n",
    "        cons_zaU._constraint_sense = 'L'\n",
    "        cons_zaL._bound = M\n",
    "        cons_zaU._bound = M\n",
    "        zai.add_metabolites({cons_zaL:1.})\n",
    "        wa.add_metabolites({cons_zaL:-1.})\n",
    "        yi.add_metabolites({cons_zaL:M})\n",
    "        zai.add_metabolites({cons_zaU:-1.})\n",
    "        wa.add_metabolites({cons_zaU:1.})\n",
    "        yi.add_metabolites({cons_zaU:M})\n",
    "        # wal*yi <= zai <= wau*yi\n",
    "        cons_zaL = Constraint('cons_za_L_'+rxn.id)\n",
    "        cons_zaU = Constraint('cons_za_U_'+rxn.id)\n",
    "        cons_zaL._constraint_sense = 'L'\n",
    "        cons_zaU._constraint_sense = 'L'\n",
    "        zai.add_metabolites({cons_zaL:-1.})\n",
    "        yi.add_metabolites({cons_zaL:waL})\n",
    "        zai.add_metabolites({cons_zaU:1.})\n",
    "        yi.add_metabolites({cons_zaU:-waU})\n",
    "\n",
    "ijomilp.add_reactions(wus)\n",
    "ijomilp.add_reactions(wls)\n",
    "ijomilp.add_reactions(zas)"
   ]
  },
  {
   "cell_type": "markdown",
   "metadata": {
    "deletable": true,
    "editable": true
   },
   "source": [
    "### Ungroup Sv=0 with these other ineqs for dual cons"
   ]
  },
  {
   "cell_type": "code",
   "execution_count": 348,
   "metadata": {
    "collapsed": false,
    "deletable": true,
    "editable": true
   },
   "outputs": [
    {
     "name": "stdout",
     "output_type": "stream",
     "text": [
      "2972 3166\n",
      "2018 2018 2018\n",
      "2018 3166 3166 2972\n"
     ]
    }
   ],
   "source": [
    "print len(ijomc.metabolites), len(ijomc.reactions)\n",
    "print len(xs), len(ys), len(zs)\n",
    "print len(zas), len(wls), len(wus), len(wSs)"
   ]
  },
  {
   "cell_type": "code",
   "execution_count": 354,
   "metadata": {
    "collapsed": true,
    "deletable": true,
    "editable": true
   },
   "outputs": [],
   "source": [
    "F_ERROR = 0.5\n",
    "cons_obj._bound = F_ERROR*mu_exp   # 1% error allowed"
   ]
  },
  {
   "cell_type": "code",
   "execution_count": 355,
   "metadata": {
    "collapsed": false,
    "deletable": true,
    "editable": true
   },
   "outputs": [
    {
     "name": "stdout",
     "output_type": "stream",
     "text": [
      "CPU times: user 10.4 s, sys: 123 ms, total: 10.5 s\n",
      "Wall time: 4.6 s\n"
     ]
    },
    {
     "data": {
      "text/plain": [
       "<Solution 1.00 at 0x7f7d8387b7d0>"
      ]
     },
     "execution_count": 355,
     "metadata": {},
     "output_type": "execute_result"
    }
   ],
   "source": [
    "%%time\n",
    "ijomilp.optimize(solver='gurobi', objective_sense='minimize')"
   ]
  },
  {
   "cell_type": "code",
   "execution_count": 356,
   "metadata": {
    "collapsed": false,
    "deletable": true,
    "editable": true
   },
   "outputs": [
    {
     "data": {
      "text/plain": [
       "0.3699999999971624"
      ]
     },
     "execution_count": 356,
     "metadata": {},
     "output_type": "execute_result"
    }
   ],
   "source": [
    "ijomilp.reactions.BIOMASS_Ec_iJO1366_core_53p95M.x"
   ]
  },
  {
   "cell_type": "markdown",
   "metadata": {},
   "source": [
    "## Check by plugging in opt keffs back into primal"
   ]
  },
  {
   "cell_type": "code",
   "execution_count": 381,
   "metadata": {
    "collapsed": false
   },
   "outputs": [
    {
     "name": "stdout",
     "output_type": "stream",
     "text": [
      "<Solution 0.74 at 0x7f7d82aa4810>\n",
      "Changing keffo of H2Otpp_abs from ai=1.34713e-05 to bi=2.36949e-09\n"
     ]
    }
   ],
   "source": [
    "ijomc0 = load_json_model('/home/laurence/ME/data/dynamicME/nominal_ijomc_cons.json')\n",
    "\n",
    "print ijomc0.optimize()\n",
    "\n",
    "for rxn0 in ijomc0.metabolites.crowding.reactions:\n",
    "    yi = ijomilp.reactions.get_by_id('y_'+rxn0.id)\n",
    "    if yi.x > 0.99:\n",
    "        rxnfit = ijofit.reactions.get_by_id(rxn0.id)\n",
    "        bi = rxnfit.metabolites[ijofit.metabolites.crowding]\n",
    "        ai = rxn0.metabolites[ijomc0.metabolites.crowding]\n",
    "        print 'Changing keffo of %s from ai=%g to bi=%g'%(rxn0.id, ai, bi)\n",
    "        rxn0._metabolites[ijomc0.metabolites.crowding] = bi"
   ]
  },
  {
   "cell_type": "code",
   "execution_count": 382,
   "metadata": {
    "collapsed": false
   },
   "outputs": [
    {
     "name": "stdout",
     "output_type": "stream",
     "text": [
      "<Solution 0.83 at 0x7f7d8df5af10>\n"
     ]
    }
   ],
   "source": [
    "print ijomc0.optimize()"
   ]
  },
  {
   "cell_type": "code",
   "execution_count": 383,
   "metadata": {
    "collapsed": false,
    "deletable": true,
    "editable": true
   },
   "outputs": [
    {
     "data": {
      "text/plain": [
       "-1.7319479184152442e-14"
      ]
     },
     "execution_count": 383,
     "metadata": {},
     "output_type": "execute_result"
    }
   ],
   "source": [
    "cons_errs = []\n",
    "for rxn in cons_gap.reactions:\n",
    "    cons_errs.append(rxn.x * rxn.metabolites[cons_gap])\n",
    "sum(cons_errs)"
   ]
  },
  {
   "cell_type": "code",
   "execution_count": 378,
   "metadata": {
    "collapsed": false,
    "deletable": true,
    "editable": true
   },
   "outputs": [
    {
     "data": {
      "text/plain": [
       "1.0"
      ]
     },
     "execution_count": 378,
     "metadata": {},
     "output_type": "execute_result"
    }
   ],
   "source": [
    "sum([y.x for y in ys])"
   ]
  },
  {
   "cell_type": "code",
   "execution_count": 359,
   "metadata": {
    "collapsed": false,
    "deletable": true,
    "editable": true
   },
   "outputs": [
    {
     "name": "stdout",
     "output_type": "stream",
     "text": [
      "z_H2Otpp_abs \t18.4977141594\n",
      "wS_4abz_c \t999.273372851\n",
      "wS_4hbz_c \t999.360309453\n",
      "wS_4mhetz_c \t985.521705617\n",
      "wS_4mpetz_c \t985.41307122\n",
      "wS_5caiz_c \t-0.817685480274\n",
      "wS_5prdmbz_c \t-1000.0\n",
      "wS_dmlz_c \t478.783149922\n",
      "wS_sucbz_c \t999.200879397\n"
     ]
    }
   ],
   "source": [
    "for i,z in enumerate(ijomilp.reactions.query('z_')):\n",
    "    if abs(z.x) > 1e-4:\n",
    "        #yi = ijomilp.reactions.get_by_id('y_'+)\n",
    "        print z, '\\t', z.x"
   ]
  },
  {
   "cell_type": "code",
   "execution_count": 228,
   "metadata": {
    "collapsed": false,
    "deletable": true,
    "editable": true
   },
   "outputs": [],
   "source": [
    "# ijomilp.metabolites.cons_duality_gap.reactions"
   ]
  },
  {
   "cell_type": "code",
   "execution_count": 285,
   "metadata": {
    "collapsed": true,
    "deletable": true,
    "editable": true
   },
   "outputs": [],
   "source": [
    "from cobra.solvers import gurobi_solver\n",
    "\n",
    "model = gurobi_solver.create_problem(ijomilp)"
   ]
  },
  {
   "cell_type": "code",
   "execution_count": 286,
   "metadata": {
    "collapsed": false,
    "deletable": true,
    "editable": true
   },
   "outputs": [
    {
     "data": {
      "text/plain": [
       "1e-09"
      ]
     },
     "execution_count": 286,
     "metadata": {},
     "output_type": "execute_result"
    }
   ],
   "source": [
    "model.Params.IntFeasTol"
   ]
  },
  {
   "cell_type": "code",
   "execution_count": 287,
   "metadata": {
    "collapsed": false,
    "deletable": true,
    "editable": true
   },
   "outputs": [],
   "source": [
    "model.Params.MIPFocus = 2 # prove optimal"
   ]
  },
  {
   "cell_type": "code",
   "execution_count": 311,
   "metadata": {
    "collapsed": false,
    "deletable": true,
    "editable": true
   },
   "outputs": [],
   "source": [
    "from gurobipy import *\n",
    "\n",
    "model.ModelSense = GRB.MINIMIZE"
   ]
  },
  {
   "cell_type": "code",
   "execution_count": 312,
   "metadata": {
    "collapsed": true,
    "deletable": true,
    "editable": true
   },
   "outputs": [],
   "source": [
    "model.optimize()"
   ]
  },
  {
   "cell_type": "code",
   "execution_count": 313,
   "metadata": {
    "collapsed": false,
    "deletable": true,
    "editable": true
   },
   "outputs": [],
   "source": [
    "sol = gurobi_solver.format_solution(model, ijomilp)"
   ]
  },
  {
   "cell_type": "code",
   "execution_count": 314,
   "metadata": {
    "collapsed": false,
    "deletable": true,
    "editable": true
   },
   "outputs": [],
   "source": [
    "var_dict = {r.id:x for r,x in zip(ijomilp.reactions, model.getVars())}"
   ]
  },
  {
   "cell_type": "code",
   "execution_count": 315,
   "metadata": {
    "collapsed": false,
    "deletable": true,
    "editable": true
   },
   "outputs": [
    {
     "data": {
      "text/plain": [
       "1.0"
      ]
     },
     "execution_count": 315,
     "metadata": {},
     "output_type": "execute_result"
    }
   ],
   "source": [
    "xx = var_dict['y_FE3Ri']\n",
    "xx.Obj"
   ]
  },
  {
   "cell_type": "code",
   "execution_count": 316,
   "metadata": {
    "collapsed": false,
    "deletable": true,
    "editable": true
   },
   "outputs": [],
   "source": [
    "from six import iteritems\n",
    "import re\n",
    "\n",
    "yids = []\n",
    "for v,x in iteritems(sol.x_dict):\n",
    "    if re.match(r\"^y_\", v):\n",
    "        yids.append(v)\n",
    "        if abs(x)>1e-4:\n",
    "            print x, '\\t', v"
   ]
  },
  {
   "cell_type": "code",
   "execution_count": 317,
   "metadata": {
    "collapsed": false,
    "deletable": true,
    "editable": true
   },
   "outputs": [
    {
     "data": {
      "text/plain": [
       "2018"
      ]
     },
     "execution_count": 317,
     "metadata": {},
     "output_type": "execute_result"
    }
   ],
   "source": [
    "len(yids)"
   ]
  },
  {
   "cell_type": "code",
   "execution_count": 318,
   "metadata": {
    "collapsed": false,
    "deletable": true,
    "editable": true
   },
   "outputs": [
    {
     "data": {
      "text/plain": [
       "0.7029999999971324"
      ]
     },
     "execution_count": 318,
     "metadata": {},
     "output_type": "execute_result"
    }
   ],
   "source": [
    "sol.x_dict[ijomilp.reactions.BIOMASS_Ec_iJO1366_core_53p95M.id]"
   ]
  },
  {
   "cell_type": "code",
   "execution_count": 21,
   "metadata": {
    "collapsed": false,
    "deletable": true,
    "editable": true
   },
   "outputs": [
    {
     "data": {
      "text/plain": [
       "<bound method CallbackClass.callback of <gurobipy.CallbackClass object at 0x7f7e08a58390>>"
      ]
     },
     "execution_count": 21,
     "metadata": {},
     "output_type": "execute_result"
    }
   ],
   "source": [
    "from gurobipy import *\n",
    "\n",
    "#GRB.Callback.callback()"
   ]
  }
 ],
 "metadata": {
  "kernelspec": {
   "display_name": "Python 2",
   "language": "python",
   "name": "python2"
  },
  "language_info": {
   "codemirror_mode": {
    "name": "ipython",
    "version": 2
   },
   "file_extension": ".py",
   "mimetype": "text/x-python",
   "name": "python",
   "nbconvert_exporter": "python",
   "pygments_lexer": "ipython2",
   "version": "2.7.13"
  }
 },
 "nbformat": 4,
 "nbformat_minor": 2
}
