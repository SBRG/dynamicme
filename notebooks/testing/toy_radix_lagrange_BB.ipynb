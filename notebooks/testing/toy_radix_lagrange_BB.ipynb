{
 "cells": [
  {
   "cell_type": "markdown",
   "metadata": {
    "deletable": true,
    "editable": true
   },
   "source": [
    "# Toy Radix Lagrangean decomposition validation.\n",
    "# Guaranteed primal recovery via branch and bound."
   ]
  },
  {
   "cell_type": "markdown",
   "metadata": {
    "deletable": true,
    "editable": true
   },
   "source": [
    "- Obviously, full space solution still gets a better incumbent if solved to small enough gap.\n",
    "- LB for LP relaxation is the same for decomposition, obviously.\n",
    "- Decomposition gets better integer LB sooner\n",
    "- Incorporate branching strategies and heuristics from full space approach to recover better feasible primal."
   ]
  },
  {
   "cell_type": "code",
   "execution_count": 1,
   "metadata": {
    "collapsed": false,
    "deletable": true,
    "editable": true
   },
   "outputs": [],
   "source": [
    "#OBJECTIVE    = 'minsse'\n",
    "OBJECTIVE    = 'minerr'\n",
    "REG_WEIGHT   = 0. #1e-4\n",
    "MAX_NONZERO  = None #48*2\n",
    "PREVENT_ZERO = True\n",
    "POWERS       = [-1,0,1]\n",
    "TWO_PHASE    = True\n",
    "SIMPLE_MM    = True"
   ]
  },
  {
   "cell_type": "markdown",
   "metadata": {
    "collapsed": false,
    "deletable": true,
    "editable": true
   },
   "source": [
    "if SIMPLE_MM:\n",
    "    BASE_MODEL_FILE = '/home/laurence/ME/models/e_coli_core_mm_simple.json'\n",
    "else:\n",
    "    BASE_MODEL_FILE = '/home/laurence/ME/models/e_coli_core_mm.json'"
   ]
  },
  {
   "cell_type": "code",
   "execution_count": 2,
   "metadata": {
    "collapsed": true,
    "deletable": true,
    "editable": true
   },
   "outputs": [],
   "source": [
    "BASE_MODEL_FILE = '/home/laurence/ME/models/e_coli_core_pc.json'"
   ]
  },
  {
   "cell_type": "code",
   "execution_count": 3,
   "metadata": {
    "collapsed": false,
    "deletable": true,
    "editable": true
   },
   "outputs": [],
   "source": [
    "%load_ext line_profiler"
   ]
  },
  {
   "cell_type": "code",
   "execution_count": 4,
   "metadata": {
    "collapsed": false,
    "deletable": true,
    "editable": true
   },
   "outputs": [],
   "source": [
    "from gurobipy import *\n",
    "\n",
    "import seaborn as sns\n",
    "import pandas as pd\n",
    "import matplotlib.pyplot as plt\n",
    "import numpy as np\n",
    "\n",
    "plt.rcParams['svg.fonttype'] = 'none'\n",
    "#pd.set_option('display.max_colwidth', -1)\n",
    "%matplotlib inline\n",
    "\n",
    "from cobra.io import load_json_model\n",
    "from six import iteritems\n",
    "import numpy as np\n",
    "import cobra"
   ]
  },
  {
   "cell_type": "code",
   "execution_count": 5,
   "metadata": {
    "collapsed": false,
    "deletable": true,
    "editable": true
   },
   "outputs": [],
   "source": [
    "ijomc = load_json_model(BASE_MODEL_FILE)"
   ]
  },
  {
   "cell_type": "code",
   "execution_count": 6,
   "metadata": {
    "collapsed": false,
    "deletable": true,
    "editable": true
   },
   "outputs": [
    {
     "name": "stdout",
     "output_type": "stream",
     "text": [
      "0.873921506968\n"
     ]
    }
   ],
   "source": [
    "ijomc.optimize()\n",
    "mu_crowd0 = ijomc.reactions.BIOMASS_Ecoli_core_w_GAM.x\n",
    "print(mu_crowd0)"
   ]
  },
  {
   "cell_type": "code",
   "execution_count": 7,
   "metadata": {
    "collapsed": false,
    "deletable": true,
    "editable": true
   },
   "outputs": [],
   "source": [
    "df_meas = pd.read_csv('/home/laurence/ME/data/dynamicME/beg/growth_meas.csv')\n",
    "\n",
    "ex_rxns = [r for r in df_meas.ex_rxn.unique() if ijomc.reactions.has_id(r)]\n",
    "df_meas = df_meas[ df_meas.ex_rxn.isin(ex_rxns)]\n",
    "conds = df_meas.substrate.unique()\n",
    "\n",
    "#N_CONDS = len(conds)\n",
    "#N_CONDS = ['succinate','malate']\n",
    "#N_CONDS = ['glucose','acetate']\n",
    "N_CONDS = ['glucose','acetate','fructose']\n",
    "\n",
    "df_conds = pd.DataFrame([{'cond':r['substrate'], 'rxn':ex_rxn, 'lb':-10 if r['ex_rxn']==ex_rxn else 0, 'ub':1000., 'obj':0.} for i,r in df_meas.iterrows() for ex_rxn in ex_rxns])\n",
    "\n",
    "if hasattr(N_CONDS,'__iter__'):\n",
    "    df_conds = df_conds[ df_conds.cond.isin(N_CONDS)]\n",
    "    N_CONDS = len(N_CONDS)\n",
    "else:\n",
    "    if N_CONDS==1:\n",
    "        df_conds = df_conds[ df_conds.cond=='acetate']\n",
    "    elif N_CONDS<=3:\n",
    "        df_conds = df_conds[ df_conds.cond.isin(['glucose','acetate','succinate'][0:N_CONDS])]\n",
    "    else:\n",
    "        df_conds = df_conds[ df_conds.cond.isin(conds[0:N_CONDS])]\n",
    "\n",
    "df_conds.loc[ (df_conds.cond=='acetate') & (df_conds.rxn=='EX_ac_e'), 'lb'] = -20\n"
   ]
  },
  {
   "cell_type": "code",
   "execution_count": 8,
   "metadata": {
    "collapsed": false,
    "deletable": true,
    "editable": true
   },
   "outputs": [],
   "source": [
    "def sol_to_kdict(sol_final):\n",
    "    var_cons_dict = estk.var_cons_dict\n",
    "    powers = estk.powers\n",
    "    digits = estk.digits\n",
    "    radix  = estk.radix\n",
    "\n",
    "    kfit_dict = {}\n",
    "    for group_id, var_dict in iteritems(var_cons_dict):\n",
    "        var = var_dict[0]\n",
    "        cons = var_dict[1]\n",
    "        a0  = var_dict[0][2]\n",
    "        kfit = 0.\n",
    "        for l,pwr in enumerate(powers):\n",
    "            for k,digit in enumerate(digits):            \n",
    "                yid = 'binary_%s%s%s' % (group_id,k,l)\n",
    "                y   = sol_final[yid]\n",
    "                kfit += y*a0*radix**pwr*digit\n",
    "        kfit_dict[group_id] = kfit\n",
    "\n",
    "    kfit_changed = [(k,v, abs(v-a0)/a0) for k,v in iteritems(kfit_dict) if abs(v-a0)/a0>1e-6]\n",
    "    print('Changed keffs: %d/%d' % (len(kfit_changed), len(var_cons_dict)))\n",
    "    \n",
    "    return kfit_dict\n",
    "\n",
    "def compute_perf(kfit_dict, ijofit):\n",
    "    #----------------------------------------\n",
    "    # Starting from basal model\n",
    "    perrs = []\n",
    "    errs_fit = []\n",
    "    errs_unfit = []\n",
    "    csrcs = df_conds.cond.unique()\n",
    "    rows = []\n",
    "    for csrc in csrcs:        \n",
    "        crowding = ijofit.metabolites.crowding\n",
    "        #--------------------------------------------------\n",
    "        # Constrain to medium\n",
    "        df_condi = df_conds[ df_conds.cond==csrc]    \n",
    "        for i,row in df_condi.iterrows():\n",
    "            rid = row['rxn']\n",
    "            rxn = ijofit.reactions.get_by_id(rid)\n",
    "            rxn.lower_bound = row['lb']\n",
    "            rxn.upper_bound = row['ub']\n",
    "        # Get unfit growth rate first    \n",
    "        ijofit.optimize(solver='gurobi')\n",
    "        mu_unfiti = ijofit.reactions.BIOMASS_Ecoli_core_w_GAM.x\n",
    "\n",
    "        #--------------------------------------------------\n",
    "        # Fitted\n",
    "        for rid,kfit in iteritems(kfit_dict):\n",
    "            rxn = ijofit.reactions.get_by_id(rid)\n",
    "            rxn.add_metabolites({crowding:kfit}, combine=False)\n",
    "\n",
    "        ijofit.optimize(solver='gurobi')\n",
    "\n",
    "        mu_measi = df_meas[ df_meas.substrate==csrc].growth_rate_1_h.iloc[0]\n",
    "        mu_fiti = ijofit.reactions.BIOMASS_Ecoli_core_w_GAM.x\n",
    "\n",
    "        err0= 100*(mu_unfiti-mu_measi)/mu_measi\n",
    "        err = 100*(mu_fiti - mu_measi)/mu_measi\n",
    "        derr= 100*(abs(err)-abs(err0))/abs(err0)\n",
    "        perrs.append(err)\n",
    "        errs_unfit.append(mu_unfiti - mu_measi)\n",
    "        errs_fit.append(mu_fiti - mu_measi)\n",
    "        print('Cond=%s. mu_meas=%g. mu_sim=%g (unfit=%g, error=%.3g%%). Error=%.3g%% (%.3g%% change)' % (\n",
    "            csrc, mu_measi, mu_fiti, mu_unfiti, err0, err, derr))\n",
    "        for i,row in df_condi.iterrows():\n",
    "            rid = row['rxn']\n",
    "            rxn = ijofit.reactions.get_by_id(rid)        \n",
    "            print('\\t%s uptake=%g' % (rxn.id, rxn.x))\n",
    "\n",
    "        rows.append({'substrate':csrc, 'mu_fit':mu_fiti, 'mu_unfit':mu_unfiti, 'mu_meas':mu_measi})\n",
    "\n",
    "    perrs = np.array(perrs)\n",
    "    errs_fit = np.array(errs_fit)\n",
    "    errs_unfit = np.array(errs_unfit)\n",
    "    tot_err = sum(abs(errs_fit))\n",
    "    tot_err0 = sum(abs(errs_unfit))\n",
    "    mape = np.mean(abs(perrs))\n",
    "    mdape = np.median(abs(perrs))\n",
    "    print(\"Absolute total error: %g\"%(tot_err))\n",
    "    print(\"Total error change: %g%%\"%( 100*(tot_err-tot_err0)/tot_err0  ))\n",
    "    print(\"Absolute percent error: %g%% -- %g%%\"%(min(abs(perrs)), max(abs(perrs))))\n",
    "    print(\"Mean abs percent error = %g%%\"%(mape))\n",
    "    print(\"Median abs percent error = %g%%\"%(mdape))\n",
    "    \n",
    "    f_change = (tot_err-tot_err0)/tot_err0\n",
    "    perf_dict = {'tot_err':tot_err, 'err_change':f_change, 'mape':mape, 'mdape':mdape}    \n",
    "    df_results = pd.DataFrame(rows)\n",
    "    \n",
    "    return perf_dict, df_results"
   ]
  },
  {
   "cell_type": "markdown",
   "metadata": {
    "deletable": true,
    "editable": true
   },
   "source": [
    "# Make radix problem"
   ]
  },
  {
   "cell_type": "code",
   "execution_count": 9,
   "metadata": {
    "collapsed": false,
    "deletable": true,
    "editable": true
   },
   "outputs": [],
   "source": [
    "from dynamicme import decomposition\n"
   ]
  },
  {
   "cell_type": "code",
   "execution_count": 10,
   "metadata": {
    "collapsed": false,
    "deletable": true,
    "editable": true
   },
   "outputs": [],
   "source": [
    "from dynamicme.estimate import RadixEstimator"
   ]
  },
  {
   "cell_type": "code",
   "execution_count": 11,
   "metadata": {
    "collapsed": false,
    "deletable": true,
    "editable": true
   },
   "outputs": [],
   "source": [
    "df_Y = df_meas.rename(columns={'growth_rate_1_h':'output', 'substrate':'cond'})\n",
    "df_Y.loc[:,'output_id'] = 'BIOMASS_Ecoli_core_w_GAM'\n",
    "df_X = df_conds"
   ]
  },
  {
   "cell_type": "markdown",
   "metadata": {
    "deletable": true,
    "editable": true
   },
   "source": [
    "# Each Lagrange submodel should start with the optimum"
   ]
  },
  {
   "cell_type": "code",
   "execution_count": 12,
   "metadata": {
    "collapsed": false,
    "deletable": true,
    "editable": true
   },
   "outputs": [],
   "source": [
    "from dynamicme.decomposition.LagrangeMaster import LagrangeMaster\n",
    "from dynamicme.decomposition.LagrangeSubmodel import LagrangeSubmodel"
   ]
  },
  {
   "cell_type": "code",
   "execution_count": 13,
   "metadata": {
    "collapsed": false,
    "deletable": true,
    "editable": true
   },
   "outputs": [
    {
     "name": "stdout",
     "output_type": "stream",
     "text": [
      "Changed value of parameter OutputFlag to 1\n",
      "   Prev: 0  Min: 0  Max: 1  Default: 1\n",
      "Changed value of parameter OutputFlag to 1\n",
      "   Prev: 0  Min: 0  Max: 1  Default: 1\n",
      "Changed value of parameter OutputFlag to 1\n",
      "   Prev: 0  Min: 0  Max: 1  Default: 1\n"
     ]
    }
   ],
   "source": [
    "conds = df_conds.cond.unique()\n",
    "sub_dict = {}\n",
    "for cond in conds:\n",
    "    df_Xk = df_X[ df_X.cond==cond]\n",
    "    df_Yk = df_Y[ df_Y.cond==cond]\n",
    "    estk = RadixEstimator()\n",
    "    if SIMPLE_MM:\n",
    "        cons_var_pairs = 'crowding'\n",
    "    else:\n",
    "        cons_var_pairs = [(cons, rxn) for cons in ijomc.metabolites.query('^enz_cap') for rxn in cons.reactions if rxn.id==cons.id.replace('enz_cap','e')]\n",
    "    estk.fit(ijomc, df_Xk, df_Yk, objective=OBJECTIVE, \n",
    "             fit_constraint_id = cons_var_pairs,\n",
    "             reg_weight = REG_WEIGHT, max_nonzero_binaries=MAX_NONZERO, optimize=False, powers=POWERS)\n",
    "    sub = LagrangeSubmodel(estk.stacker.model, cond, Q=estk.stacker.Q)    \n",
    "    sub_dict[cond] = sub"
   ]
  },
  {
   "cell_type": "code",
   "execution_count": 14,
   "metadata": {
    "collapsed": true,
    "deletable": true,
    "editable": true
   },
   "outputs": [],
   "source": [
    "master = LagrangeMaster(estk.stacker.model)\n",
    "master.add_submodels(sub_dict)\n",
    "master.covered_dict = estk.covered_dict"
   ]
  },
  {
   "cell_type": "code",
   "execution_count": 15,
   "metadata": {
    "collapsed": true,
    "deletable": true,
    "editable": true
   },
   "outputs": [],
   "source": [
    "for sub in sub_dict.values():\n",
    "    sub.model.Params.MIPGapAbs = 1e-3\n",
    "    sub.model.Params.MIPGap    = 1e-3"
   ]
  },
  {
   "cell_type": "markdown",
   "metadata": {
    "deletable": true,
    "editable": true
   },
   "source": [
    "# B&B to recover primal"
   ]
  },
  {
   "cell_type": "code",
   "execution_count": null,
   "metadata": {
    "collapsed": false,
    "deletable": true,
    "editable": true
   },
   "outputs": [],
   "source": [
    "from dynamicme.decomposition.LagrangeBB import LagrangeBB"
   ]
  },
  {
   "cell_type": "code",
   "execution_count": null,
   "metadata": {
    "collapsed": false,
    "deletable": true,
    "editable": true,
    "scrolled": false
   },
   "outputs": [
    {
     "name": "stdout",
     "output_type": "stream",
     "text": [
      "0         . NODES TO EXPLORE: 1\n",
      "    Iter                    UB                    LB       gap relgap(%)   penalty                       Time(s)\n",
      "  ------   -------------------   -------------------  -------- ---------  -------- -----------------------------\n",
      "               Dual   Feasible        Sub       Best                                   total    master       sub\n",
      "       0       1000     1e+100          0          0      1000       100         0  0.045341  0.000756  0.033285\n",
      "       5     0.4929     1e+100     -21.81          0    0.4929       100  2.46e-09  0.218468  0.001243  0.034284\n",
      "      10     0.2655     1e+100     -68.24          0    0.2655       100  1.33e-09  0.399198  0.001909  0.032710\n",
      "      15    0.07677     1e+100     -272.7          0   0.07677       100  3.84e-10  0.580625  0.003183  0.031876\n",
      "      20   0.006754     1e+100     -464.4          0  0.006754       100  3.38e-11  0.753529  0.004137  0.025341\n",
      "      23  0.0009801     1e+100     -521.3          0         0         0   4.9e-12  0.877774  0.005009  0.035058\n",
      "    Iter                    UB                    LB       gap relgap(%)   penalty                       Time(s)"
     ]
    },
    {
     "name": "stderr",
     "output_type": "stream",
     "text": [
      "/home/laurence/python_modules/dynamicme.git/dynamicme/decomposition/LagrangeMaster.py:528 \u001b[1;31mUserWarning\u001b[0m: Solution available but Master solver status=suboptimal (13).\n"
     ]
    },
    {
     "name": "stdout",
     "output_type": "stream",
     "text": [
      "\n",
      "  ------   -------------------   -------------------  -------- ---------  -------- -----------------------------\n",
      "               Dual   Feasible        Sub       Best                                   total    master       sub\n",
      "       0 -0.0001711     1e+100   -0.07858   -0.07858   0.07841 4.582e+04  1.85e-12  6.972965  0.017261  6.392343\n",
      "       2 -2.287e-08     1e+100  4.293e-05  4.293e-05         0         0  5.71e-18  12.57134  0.008694  0.024159\n",
      "0 NODES DROPPED BY PRUNING: z > 1926.54\n",
      "BRANCHING ON y[0]: binary_G6PDH2r00\n",
      "1         . NODES TO EXPLORE: 2\n",
      "    Iter                    UB                    LB       gap relgap(%)   penalty                       Time(s)\n",
      "  ------   -------------------   -------------------  -------- ---------  -------- -----------------------------\n",
      "               Dual   Feasible        Sub       Best                                   total    master       sub\n",
      "       0 -1.133e-05     1e+100   -0.02089   -0.02089   0.02088 1.842e+05  7.58e-14  0.064344  0.020102  0.033082\n",
      "       2 -1.038e-07     1e+100 -3.216e-05 -3.216e-05         0         0  7.18e-19  0.160995  0.013682  0.025429\n",
      "    Iter                    UB                    LB       gap relgap(%)   penalty                       Time(s)\n",
      "  ------   -------------------   -------------------  -------- ---------  -------- -----------------------------\n",
      "               Dual   Feasible        Sub       Best                                   total    master       sub\n",
      "       0 -0.0002109     1e+100   -0.07563   -0.07563   0.07542 3.576e+04   1.3e-12  2.266613  0.029730  2.217993\n",
      "       5 -2.763e-06     1e+100   -0.06943   -0.06845   0.06845 2.477e+06  2.72e-14  23.56512  0.026138  4.038715\n",
      "      10 -5.735e-06     1e+100    -0.2622    -0.0624    0.0624 1.088e+06  1.19e-14  51.76821  0.018904  6.364112\n",
      "Master ascent of -2.94413098345e-07 < 1e-06  below threshold. Stopping.\n",
      "      11 -2.944e-07     1e+100    -0.1178    -0.0624    0.0624 2.119e+07  1.19e-15  60.67996  0.020465  8.890925\n",
      "0 NODES DROPPED BY PRUNING: z > 1926.54\n",
      "BRANCHING ON y[1]: binary_G6PDH2r01\n",
      "2         . NODES TO EXPLORE: 3\n",
      "    Iter                    UB                    LB       gap relgap(%)   penalty                       Time(s)\n",
      "  ------   -------------------   -------------------  -------- ---------  -------- -----------------------------\n",
      "               Dual   Feasible        Sub       Best                                   total    master       sub\n",
      "       0 -0.0001444     1e+100   -0.05096   -0.05096   0.05081  3.52e+04  3.68e-13  0.083290  0.039368  0.032700\n",
      "       5  -1.93e-05     1e+100    -0.0518   -0.05096   0.05094 2.639e+05  1.24e-14  0.507344  0.044476  0.043169\n",
      "      10 -5.132e-06     1e+100    -0.1673   -0.05096   0.05095 9.928e+05  4.59e-15  0.942636  0.026239  0.052042\n",
      "      13  3.709e-08     1e+100 -5.848e-06 -5.848e-06         0         0  9.94e-23  1.164815  0.025833  0.032876\n",
      "    Iter                    UB                    LB       gap relgap(%)   penalty                       Time(s)\n",
      "  ------   -------------------   -------------------  -------- ---------  -------- -----------------------------\n",
      "               Dual   Feasible        Sub       Best                                   total    master       sub\n",
      "       0 -7.627e-05     1e+100    -0.0395    -0.0395   0.03942 5.169e+04  3.05e-13  7.997406  0.043769  7.723611\n"
     ]
    }
   ],
   "source": [
    "master.time_limit = 2*3600\n",
    "#master.max_iter = 500\n",
    "master.verbosity = 1\n",
    "master.print_iter = 5\n",
    "# master.gaptol = 0.02\n",
    "master.gaptol = 1e-3\n",
    "master.absgaptol = 1e-3\n",
    "master.delta_min  = 1e-10\n",
    "master.delta_mult = 0.5\n",
    "#master.bundle_mult = 0.1\n",
    "#master.model.Params.NumericFocus = 3   # the QP eventually runs into numerical issues\n",
    "\n",
    "master.scale_factor = 1.\n",
    "\n",
    "heuristics = ['reduced_cost','parsimonious','best_rounding']\n",
    "\n",
    "lagrangeBB = LagrangeBB(master, heuristics)\n",
    "sol_master = lagrangeBB.optimize(two_phase=True, only_relaxed=False, feasible_methods=[])\n",
    "df_phase2 = pd.DataFrame(master.log_rows)"
   ]
  },
  {
   "cell_type": "code",
   "execution_count": null,
   "metadata": {
    "collapsed": false
   },
   "outputs": [],
   "source": [
    "cons = master.model.getConstrs()[6]\n",
    "master.model.getRow(cons)"
   ]
  },
  {
   "cell_type": "markdown",
   "metadata": {
    "deletable": true,
    "editable": true
   },
   "source": [
    "## Feasible?"
   ]
  },
  {
   "cell_type": "code",
   "execution_count": null,
   "metadata": {
    "collapsed": false,
    "deletable": true,
    "editable": true
   },
   "outputs": [],
   "source": [
    "lagrangeBB.tree.nodes"
   ]
  },
  {
   "cell_type": "code",
   "execution_count": null,
   "metadata": {
    "collapsed": false
   },
   "outputs": [],
   "source": [
    "node = lagrangeBB.tree.nodes[5]"
   ]
  },
  {
   "cell_type": "code",
   "execution_count": null,
   "metadata": {
    "collapsed": false
   },
   "outputs": [],
   "source": [
    "node.verbosity=1\n",
    "node.reset_problem()\n",
    "node.inherit_changes()"
   ]
  },
  {
   "cell_type": "code",
   "execution_count": null,
   "metadata": {
    "collapsed": false
   },
   "outputs": [],
   "source": [
    "node.parent.bound_dict"
   ]
  },
  {
   "cell_type": "code",
   "execution_count": null,
   "metadata": {
    "collapsed": false
   },
   "outputs": [],
   "source": [
    "node.bound_dict"
   ]
  },
  {
   "cell_type": "code",
   "execution_count": null,
   "metadata": {
    "collapsed": false
   },
   "outputs": [],
   "source": [
    "node.parent.verbosity=1\n",
    "node.parent.inherit_changes()"
   ]
  },
  {
   "cell_type": "markdown",
   "metadata": {
    "deletable": true,
    "editable": true
   },
   "source": [
    "## Check best feasible solution"
   ]
  },
  {
   "cell_type": "code",
   "execution_count": null,
   "metadata": {
    "collapsed": false,
    "deletable": true,
    "editable": true
   },
   "outputs": [],
   "source": [
    "if sol_master:\n",
    "    sol_final = sol_master.copy()"
   ]
  },
  {
   "cell_type": "code",
   "execution_count": null,
   "metadata": {
    "collapsed": false,
    "deletable": true,
    "editable": true
   },
   "outputs": [],
   "source": [
    "mdl0 = load_json_model(BASE_MODEL_FILE)\n",
    "kd = sol_to_kdict(sol_master)\n",
    "perf, df_results = compute_perf(kd, mdl0)"
   ]
  },
  {
   "cell_type": "code",
   "execution_count": null,
   "metadata": {
    "collapsed": false,
    "deletable": true,
    "editable": true
   },
   "outputs": [],
   "source": [
    "from scipy import stats\n",
    "\n",
    "dsplot = df_results.melt(['substrate','mu_meas'])\n",
    "dsplot.loc[dsplot.variable=='mu_fit','model'] = 'Fit'\n",
    "dsplot.loc[dsplot.variable=='mu_unfit','model'] = 'Unfit'\n",
    "df_perf = dsplot.groupby('variable').apply(lambda x: pd.Series({\n",
    "    'mdape':100*np.median(abs(x['value']-x['mu_meas'])/abs(x['mu_meas'])),\n",
    "    'sse':sum( (x['value']-x['mu_meas'])**2 ),\n",
    "    'rho':stats.spearmanr(x['mu_meas'],x['value'])[0],\n",
    "    'r':stats.pearsonr(x['mu_meas'],x['value'])[0]\n",
    "}))\n",
    "\n",
    "dsplot.variable = dsplot.variable.astype('category')\n",
    "dsplot.model = dsplot.model.astype('category')\n",
    "dsplot.variable.cat.reorder_categories(['mu_unfit','mu_fit'], inplace=True)\n",
    "g = sns.FacetGrid(dsplot, col='variable', hue='model', size=4)\n",
    "g.map(plt.plot, 'mu_meas','value', linestyle='None', marker='o', markeredgecolor='#000000', lw=0.2, markersize=8, alpha=0.75)\n",
    "for ax in g.axes.flat:\n",
    "    ax.plot([0,2],[0,2], zorder=1, color='#333333')\n",
    "    mdl  = ax.get_title().replace('variable = ','')\n",
    "    mdape= df_perf.loc[mdl].mdape\n",
    "    sse  = df_perf.loc[mdl].sse\n",
    "    r    = df_perf.loc[mdl].r\n",
    "    rho  = df_perf.loc[mdl].rho    \n",
    "    ax.set_title('%s (MdAPE=%.3g%%, SSE=%.3g)\\n(r=%.3g, rho=%.3g)'%(mdl,mdape, sse, r,rho))\n",
    "g.set_xlabels('Measured growth rate (h^{-1})')\n",
    "g.set_ylabels('Simulated growth rate (h^{-1})')\n",
    "g.add_legend()"
   ]
  },
  {
   "cell_type": "code",
   "execution_count": null,
   "metadata": {
    "collapsed": true,
    "deletable": true,
    "editable": true
   },
   "outputs": [],
   "source": []
  }
 ],
 "metadata": {
  "kernelspec": {
   "display_name": "Python 2",
   "language": "python",
   "name": "python2"
  },
  "language_info": {
   "codemirror_mode": {
    "name": "ipython",
    "version": 2
   },
   "file_extension": ".py",
   "mimetype": "text/x-python",
   "name": "python",
   "nbconvert_exporter": "python",
   "pygments_lexer": "ipython2",
   "version": "2.7.14"
  }
 },
 "nbformat": 4,
 "nbformat_minor": 2
}
