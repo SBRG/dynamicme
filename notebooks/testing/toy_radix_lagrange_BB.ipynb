{
 "cells": [
  {
   "cell_type": "markdown",
   "metadata": {
    "deletable": true,
    "editable": true
   },
   "source": [
    "# Toy Radix Lagrangean decomposition validation.\n",
    "# Guaranteed primal recovery via branch and bound."
   ]
  },
  {
   "cell_type": "markdown",
   "metadata": {
    "deletable": true,
    "editable": true
   },
   "source": [
    "- Obviously, full space solution still gets a better incumbent if solved to small enough gap.\n",
    "- LB for LP relaxation is the same for decomposition, obviously.\n",
    "- Decomposition gets better integer LB sooner\n",
    "- Incorporate branching strategies and heuristics from full space approach to recover better feasible primal."
   ]
  },
  {
   "cell_type": "code",
   "execution_count": 1,
   "metadata": {
    "collapsed": false,
    "deletable": true,
    "editable": true
   },
   "outputs": [],
   "source": [
    "#OBJECTIVE    = 'minsse'\n",
    "OBJECTIVE    = 'minerr'\n",
    "REG_WEIGHT   = 0. #1e-4\n",
    "MAX_NONZERO  = None #48*2\n",
    "PREVENT_ZERO = True\n",
    "POWERS       = [-1,0,1]\n",
    "TWO_PHASE    = True\n",
    "SIMPLE_MM    = True"
   ]
  },
  {
   "cell_type": "markdown",
   "metadata": {
    "collapsed": false,
    "deletable": true,
    "editable": true
   },
   "source": [
    "if SIMPLE_MM:\n",
    "    BASE_MODEL_FILE = '/home/laurence/ME/models/e_coli_core_mm_simple.json'\n",
    "else:\n",
    "    BASE_MODEL_FILE = '/home/laurence/ME/models/e_coli_core_mm.json'"
   ]
  },
  {
   "cell_type": "code",
   "execution_count": 2,
   "metadata": {
    "collapsed": true,
    "deletable": true,
    "editable": true
   },
   "outputs": [],
   "source": [
    "BASE_MODEL_FILE = '/home/laurence/ME/models/e_coli_core_pc.json'"
   ]
  },
  {
   "cell_type": "code",
   "execution_count": 3,
   "metadata": {
    "collapsed": false,
    "deletable": true,
    "editable": true
   },
   "outputs": [],
   "source": [
    "%load_ext line_profiler"
   ]
  },
  {
   "cell_type": "code",
   "execution_count": 4,
   "metadata": {
    "collapsed": false,
    "deletable": true,
    "editable": true
   },
   "outputs": [],
   "source": [
    "from gurobipy import *\n",
    "\n",
    "import seaborn as sns\n",
    "import pandas as pd\n",
    "import matplotlib.pyplot as plt\n",
    "import numpy as np\n",
    "\n",
    "plt.rcParams['svg.fonttype'] = 'none'\n",
    "#pd.set_option('display.max_colwidth', -1)\n",
    "%matplotlib inline\n",
    "\n",
    "from cobra.io import load_json_model\n",
    "from six import iteritems\n",
    "import numpy as np\n",
    "import cobra"
   ]
  },
  {
   "cell_type": "code",
   "execution_count": 5,
   "metadata": {
    "collapsed": false,
    "deletable": true,
    "editable": true
   },
   "outputs": [],
   "source": [
    "ijomc = load_json_model(BASE_MODEL_FILE)"
   ]
  },
  {
   "cell_type": "code",
   "execution_count": 6,
   "metadata": {
    "collapsed": false,
    "deletable": true,
    "editable": true
   },
   "outputs": [
    {
     "name": "stdout",
     "output_type": "stream",
     "text": [
      "0.873921506968\n"
     ]
    }
   ],
   "source": [
    "ijomc.optimize()\n",
    "mu_crowd0 = ijomc.reactions.BIOMASS_Ecoli_core_w_GAM.x\n",
    "print(mu_crowd0)"
   ]
  },
  {
   "cell_type": "code",
   "execution_count": 7,
   "metadata": {
    "collapsed": false,
    "deletable": true,
    "editable": true
   },
   "outputs": [],
   "source": [
    "df_meas = pd.read_csv('/home/laurence/ME/data/dynamicME/beg/growth_meas.csv')\n",
    "\n",
    "ex_rxns = [r for r in df_meas.ex_rxn.unique() if ijomc.reactions.has_id(r)]\n",
    "df_meas = df_meas[ df_meas.ex_rxn.isin(ex_rxns)]\n",
    "conds = df_meas.substrate.unique()\n",
    "\n",
    "#N_CONDS = len(conds)\n",
    "#N_CONDS = ['succinate','malate']\n",
    "#N_CONDS = ['glucose','acetate']\n",
    "N_CONDS = ['glucose','acetate','fructose']\n",
    "\n",
    "df_conds = pd.DataFrame([{'cond':r['substrate'], 'rxn':ex_rxn, 'lb':-10 if r['ex_rxn']==ex_rxn else 0, 'ub':1000., 'obj':0.} for i,r in df_meas.iterrows() for ex_rxn in ex_rxns])\n",
    "\n",
    "if hasattr(N_CONDS,'__iter__'):\n",
    "    df_conds = df_conds[ df_conds.cond.isin(N_CONDS)]\n",
    "    N_CONDS = len(N_CONDS)\n",
    "else:\n",
    "    if N_CONDS==1:\n",
    "        df_conds = df_conds[ df_conds.cond=='acetate']\n",
    "    elif N_CONDS<=3:\n",
    "        df_conds = df_conds[ df_conds.cond.isin(['glucose','acetate','succinate'][0:N_CONDS])]\n",
    "    else:\n",
    "        df_conds = df_conds[ df_conds.cond.isin(conds[0:N_CONDS])]\n",
    "\n",
    "df_conds.loc[ (df_conds.cond=='acetate') & (df_conds.rxn=='EX_ac_e'), 'lb'] = -20\n"
   ]
  },
  {
   "cell_type": "code",
   "execution_count": 8,
   "metadata": {
    "collapsed": false,
    "deletable": true,
    "editable": true
   },
   "outputs": [],
   "source": [
    "def sol_to_kdict(sol_final):\n",
    "    var_cons_dict = estk.var_cons_dict\n",
    "    powers = estk.powers\n",
    "    digits = estk.digits\n",
    "    radix  = estk.radix\n",
    "\n",
    "    kfit_dict = {}\n",
    "    for group_id, var_dict in iteritems(var_cons_dict):\n",
    "        var = var_dict[0]\n",
    "        cons = var_dict[1]\n",
    "        a0  = var_dict[0][2]\n",
    "        kfit = 0.\n",
    "        for l,pwr in enumerate(powers):\n",
    "            for k,digit in enumerate(digits):            \n",
    "                yid = 'binary_%s%s%s' % (group_id,k,l)\n",
    "                y   = sol_final[yid]\n",
    "                kfit += y*a0*radix**pwr*digit\n",
    "        kfit_dict[group_id] = kfit\n",
    "\n",
    "    kfit_changed = [(k,v, abs(v-a0)/a0) for k,v in iteritems(kfit_dict) if abs(v-a0)/a0>1e-6]\n",
    "    print('Changed keffs: %d/%d' % (len(kfit_changed), len(var_cons_dict)))\n",
    "    \n",
    "    return kfit_dict\n",
    "\n",
    "def compute_perf(kfit_dict, ijofit):\n",
    "    #----------------------------------------\n",
    "    # Starting from basal model\n",
    "    perrs = []\n",
    "    errs_fit = []\n",
    "    errs_unfit = []\n",
    "    csrcs = df_conds.cond.unique()\n",
    "    rows = []\n",
    "    for csrc in csrcs:        \n",
    "        crowding = ijofit.metabolites.crowding\n",
    "        #--------------------------------------------------\n",
    "        # Constrain to medium\n",
    "        df_condi = df_conds[ df_conds.cond==csrc]    \n",
    "        for i,row in df_condi.iterrows():\n",
    "            rid = row['rxn']\n",
    "            rxn = ijofit.reactions.get_by_id(rid)\n",
    "            rxn.lower_bound = row['lb']\n",
    "            rxn.upper_bound = row['ub']\n",
    "        # Get unfit growth rate first    \n",
    "        ijofit.optimize(solver='gurobi')\n",
    "        mu_unfiti = ijofit.reactions.BIOMASS_Ecoli_core_w_GAM.x\n",
    "\n",
    "        #--------------------------------------------------\n",
    "        # Fitted\n",
    "        for rid,kfit in iteritems(kfit_dict):\n",
    "            rxn = ijofit.reactions.get_by_id(rid)\n",
    "            rxn.add_metabolites({crowding:kfit}, combine=False)\n",
    "\n",
    "        ijofit.optimize(solver='gurobi')\n",
    "\n",
    "        mu_measi = df_meas[ df_meas.substrate==csrc].growth_rate_1_h.iloc[0]\n",
    "        mu_fiti = ijofit.reactions.BIOMASS_Ecoli_core_w_GAM.x\n",
    "\n",
    "        err0= 100*(mu_unfiti-mu_measi)/mu_measi\n",
    "        err = 100*(mu_fiti - mu_measi)/mu_measi\n",
    "        derr= 100*(abs(err)-abs(err0))/abs(err0)\n",
    "        perrs.append(err)\n",
    "        errs_unfit.append(mu_unfiti - mu_measi)\n",
    "        errs_fit.append(mu_fiti - mu_measi)\n",
    "        print('Cond=%s. mu_meas=%g. mu_sim=%g (unfit=%g, error=%.3g%%). Error=%.3g%% (%.3g%% change)' % (\n",
    "            csrc, mu_measi, mu_fiti, mu_unfiti, err0, err, derr))\n",
    "        for i,row in df_condi.iterrows():\n",
    "            rid = row['rxn']\n",
    "            rxn = ijofit.reactions.get_by_id(rid)        \n",
    "            print('\\t%s uptake=%g' % (rxn.id, rxn.x))\n",
    "\n",
    "        rows.append({'substrate':csrc, 'mu_fit':mu_fiti, 'mu_unfit':mu_unfiti, 'mu_meas':mu_measi})\n",
    "\n",
    "    perrs = np.array(perrs)\n",
    "    errs_fit = np.array(errs_fit)\n",
    "    errs_unfit = np.array(errs_unfit)\n",
    "    tot_err = sum(abs(errs_fit))\n",
    "    tot_err0 = sum(abs(errs_unfit))\n",
    "    mape = np.mean(abs(perrs))\n",
    "    mdape = np.median(abs(perrs))\n",
    "    print(\"Absolute total error: %g\"%(tot_err))\n",
    "    print(\"Total error change: %g%%\"%( 100*(tot_err-tot_err0)/tot_err0  ))\n",
    "    print(\"Absolute percent error: %g%% -- %g%%\"%(min(abs(perrs)), max(abs(perrs))))\n",
    "    print(\"Mean abs percent error = %g%%\"%(mape))\n",
    "    print(\"Median abs percent error = %g%%\"%(mdape))\n",
    "    \n",
    "    f_change = (tot_err-tot_err0)/tot_err0\n",
    "    perf_dict = {'tot_err':tot_err, 'err_change':f_change, 'mape':mape, 'mdape':mdape}    \n",
    "    df_results = pd.DataFrame(rows)\n",
    "    \n",
    "    return perf_dict, df_results"
   ]
  },
  {
   "cell_type": "markdown",
   "metadata": {
    "deletable": true,
    "editable": true
   },
   "source": [
    "# Make radix problem"
   ]
  },
  {
   "cell_type": "code",
   "execution_count": 9,
   "metadata": {
    "collapsed": false
   },
   "outputs": [],
   "source": [
    "from dynamicme import decomposition\n"
   ]
  },
  {
   "cell_type": "code",
   "execution_count": 10,
   "metadata": {
    "collapsed": false,
    "deletable": true,
    "editable": true
   },
   "outputs": [],
   "source": [
    "from dynamicme.estimate import RadixEstimator"
   ]
  },
  {
   "cell_type": "code",
   "execution_count": 11,
   "metadata": {
    "collapsed": false,
    "deletable": true,
    "editable": true
   },
   "outputs": [],
   "source": [
    "df_Y = df_meas.rename(columns={'growth_rate_1_h':'output', 'substrate':'cond'})\n",
    "df_Y.loc[:,'output_id'] = 'BIOMASS_Ecoli_core_w_GAM'\n",
    "df_X = df_conds"
   ]
  },
  {
   "cell_type": "markdown",
   "metadata": {
    "deletable": true,
    "editable": true
   },
   "source": [
    "# Each Lagrange submodel should start with the optimum"
   ]
  },
  {
   "cell_type": "code",
   "execution_count": 12,
   "metadata": {
    "collapsed": false,
    "deletable": true,
    "editable": true
   },
   "outputs": [],
   "source": [
    "from dynamicme.decomposition.LagrangeMaster import LagrangeMaster\n",
    "from dynamicme.decomposition.LagrangeSubmodel import LagrangeSubmodel"
   ]
  },
  {
   "cell_type": "code",
   "execution_count": 13,
   "metadata": {
    "collapsed": false,
    "deletable": true,
    "editable": true
   },
   "outputs": [
    {
     "name": "stdout",
     "output_type": "stream",
     "text": [
      "Changed value of parameter OutputFlag to 1\n",
      "   Prev: 0  Min: 0  Max: 1  Default: 1\n",
      "Changed value of parameter OutputFlag to 1\n",
      "   Prev: 0  Min: 0  Max: 1  Default: 1\n",
      "Changed value of parameter OutputFlag to 1\n",
      "   Prev: 0  Min: 0  Max: 1  Default: 1\n"
     ]
    }
   ],
   "source": [
    "conds = df_conds.cond.unique()\n",
    "sub_dict = {}\n",
    "for cond in conds:\n",
    "    df_Xk = df_X[ df_X.cond==cond]\n",
    "    df_Yk = df_Y[ df_Y.cond==cond]\n",
    "    estk = RadixEstimator()\n",
    "    if SIMPLE_MM:\n",
    "        cons_var_pairs = 'crowding'\n",
    "    else:\n",
    "        cons_var_pairs = [(cons, rxn) for cons in ijomc.metabolites.query('^enz_cap') for rxn in cons.reactions if rxn.id==cons.id.replace('enz_cap','e')]\n",
    "    estk.fit(ijomc, df_Xk, df_Yk, objective=OBJECTIVE, \n",
    "             fit_constraint_id = cons_var_pairs,\n",
    "             reg_weight = REG_WEIGHT, max_nonzero_binaries=MAX_NONZERO, optimize=False, powers=POWERS)\n",
    "    sub = LagrangeSubmodel(estk.stacker.model, cond, Q=estk.stacker.Q)    \n",
    "    sub_dict[cond] = sub"
   ]
  },
  {
   "cell_type": "code",
   "execution_count": 14,
   "metadata": {
    "collapsed": true,
    "deletable": true,
    "editable": true
   },
   "outputs": [],
   "source": [
    "master = LagrangeMaster(estk.stacker.model)\n",
    "master.add_submodels(sub_dict)\n",
    "master.covered_dict = estk.covered_dict"
   ]
  },
  {
   "cell_type": "code",
   "execution_count": 15,
   "metadata": {
    "collapsed": true,
    "deletable": true,
    "editable": true
   },
   "outputs": [],
   "source": [
    "for sub in sub_dict.values():\n",
    "    sub.model.Params.MIPGapAbs = 1e-3\n",
    "    sub.model.Params.MIPGap    = 1e-3"
   ]
  },
  {
   "cell_type": "markdown",
   "metadata": {
    "deletable": true,
    "editable": true
   },
   "source": [
    "# B&B to recover primal"
   ]
  },
  {
   "cell_type": "code",
   "execution_count": null,
   "metadata": {
    "collapsed": false
   },
   "outputs": [],
   "source": [
    "from dynamicme.decomposition.LagrangeBB import LagrangeBB"
   ]
  },
  {
   "cell_type": "code",
   "execution_count": null,
   "metadata": {
    "collapsed": false,
    "deletable": true,
    "editable": true,
    "scrolled": false
   },
   "outputs": [
    {
     "name": "stdout",
     "output_type": "stream",
     "text": [
      "0         . NODES TO EXPLORE: 1\n",
      "    Iter                    UB                    LB       gap relgap(%)   penalty                       Time(s)\n",
      "  ------   -------------------   -------------------  -------- ---------  -------- -----------------------------\n",
      "               Dual   Feasible        Sub       Best                                   total    master       sub\n",
      "       0       1000     1e+100          0          0      1000       100         0  0.067074  0.002652  0.051841\n",
      "       5      0.389     1e+100     -16.59          0     0.389       100     0.178  0.240132  0.001234  0.033139\n",
      "      10      0.493     1e+100     -92.75          0     0.493       100     0.228  0.424330  0.002034  0.029603\n",
      "      15     0.2446     1e+100     -386.7          0    0.2446       100     0.102  0.580271  0.002876  0.029099\n",
      "      20     0.1057     1e+100      -1561          0    0.1057       100    0.0325  0.740524  0.004740  0.027673\n",
      "      25    0.04335     1e+100      -1538          0   0.04335       100   0.00131  0.911113  0.006089  0.029763\n",
      "      30    0.04083     1e+100      -1893          0   0.04083       100  4.49e-05  1.101298  0.007719  0.028033\n",
      "      35    0.04074     1e+100     -336.5          0   0.04074       100  1.73e-07  1.300204  0.010034  0.030366\n",
      "      40    0.04074     1e+100     -23.02          0   0.04074       100  7.46e-10  1.526672  0.012122  0.035105\n",
      "      45    0.04074     1e+100     -77.18          0   0.04074       100  8.01e-09  1.761125  0.015800  0.036203\n",
      "      50    0.04074     1e+100     -50.93          0   0.04074       100  3.84e-09  1.991714  0.012881  0.033664\n",
      "      55    0.04074     1e+100     -114.2          0   0.04074       100  2.01e-08  2.221547  0.016202  0.028522\n",
      "      60    0.04074     1e+100     -102.7          0   0.04074       100  1.53e-08  2.468962  0.017277  0.030856\n",
      "      65    0.04074     1e+100     -29.12          0   0.04074       100  1.11e-09  2.728683  0.021906  0.035770\n",
      "      70    0.04073     1e+100      -43.3          0   0.04073       100  2.98e-09  3.002526  0.025576  0.028865\n",
      "      75    0.04072     1e+100     -54.13          0   0.04072       100  4.22e-09  3.302664  0.026112  0.034802\n",
      "      80    0.04069     1e+100     -16.79          0   0.04069       100  4.16e-10  3.602145  0.030353  0.027817\n",
      "      85     0.0406     1e+100     -7.793          0    0.0406       100   8.8e-11  3.907556  0.032848  0.027369\n",
      "      90    0.04032     1e+100     -6.526          0   0.04032       100  5.64e-11  4.234376  0.034858  0.031141\n",
      "      95    0.03979     1e+100     -6.019          0   0.03979       100  4.58e-11  4.591762  0.037813  0.031414\n",
      "     100    0.03861     1e+100     -5.151          0   0.03861       100  3.85e-11  4.978893  0.043906  0.037117\n",
      "     105    0.03568     1e+100     -2.211          0   0.03568       100  7.14e-12  5.372856  0.046490  0.035586\n",
      "     110    0.03345     1e+100     -2.677          0   0.03345       100  9.63e-12  5.808854  0.049683  0.028934\n",
      "     115    0.02936     1e+100     -2.548          0   0.02936       100     9e-12  6.250288  0.058276  0.039381\n",
      "     120    0.02387     1e+100     -91.58          0   0.02387       100  2.24e-07  6.696774  0.060472  0.022951\n",
      "     125   0.005419     1e+100     -2.025          0  0.005419       100  6.03e-12  7.177860  0.058859  0.034836\n"
     ]
    },
    {
     "name": "stderr",
     "output_type": "stream",
     "text": [
      "/home/laurence/python_modules/dynamicme.git/dynamicme/decomposition/LagrangeMaster.py:520 \u001b[1;31mUserWarning\u001b[0m: Solution available but Master solver status=suboptimal (13).\n"
     ]
    },
    {
     "name": "stdout",
     "output_type": "stream",
     "text": [
      "     127  0.0002135     1e+100    -0.3392          0         0         0  1.84e-13  7.412101  0.080729  0.040247\n",
      "    Iter                    UB                    LB       gap relgap(%)   penalty                       Time(s)\n",
      "  ------   -------------------   -------------------  -------- ---------  -------- -----------------------------\n",
      "               Dual   Feasible        Sub       Best                                   total    master       sub\n",
      "       0 -8.106e-05     1e+100   -0.03789   -0.03789   0.03781 4.664e+04  2.95e-05  1.373549  0.248305  1.105695\n",
      "       5 -0.0001053     1e+100  -0.007994  -0.005423  0.005318      5049  5.37e-07  6.505131  0.244554  0.459359\n",
      "       9 -1.882e-05     1e+100 -0.0004033 -0.0004033         0         0  4.75e-10  9.412105  0.240757  0.143959\n",
      "0 NODES DROPPED BY PRUNING: z > 0.192654\n",
      "BRANCHING ON y[0]: binary_G6PDH2r00\n",
      "1         . NODES TO EXPLORE: 2\n",
      "    Iter                    UB                    LB       gap relgap(%)   penalty                       Time(s)\n",
      "  ------   -------------------   -------------------  -------- ---------  -------- -----------------------------\n",
      "               Dual   Feasible        Sub       Best                                   total    master       sub\n",
      "       0 -0.0003067     1e+100   -0.01709   -0.01709   0.01678      5472  3.92e-06  0.311287  0.265506  0.034482\n",
      "       5 -1.911e-05     1e+100  -0.000143  -0.000143         0         0  5.92e-10  2.216529  0.356397  0.026728\n",
      "    Iter                    UB                    LB       gap relgap(%)   penalty                       Time(s)\n",
      "  ------   -------------------   -------------------  -------- ---------  -------- -----------------------------\n",
      "               Dual   Feasible        Sub       Best                                   total    master       sub\n",
      "       0 -0.0003867     1e+100    -0.0265    -0.0265   0.02611      6752  1.78e-05  1.816775  0.341135  1.456984\n",
      "       1 -2.001e-05     1e+100  0.0001858  0.0001858         0         0  1.28e-08  2.204706  0.363132  0.024323\n",
      "0 NODES DROPPED BY PRUNING: z > 0.192654\n",
      "BRANCHING ON y[3]: binary_AKGDH00\n",
      "2         . NODES TO EXPLORE: 3\n",
      "    Iter                    UB                    LB       gap relgap(%)   penalty                       Time(s)\n",
      "  ------   -------------------   -------------------  -------- ---------  -------- -----------------------------\n",
      "               Dual   Feasible        Sub       Best                                   total    master       sub\n",
      "       0 -6.349e-05     1e+100  -0.003605  -0.003605  0.003542      5578  2.17e-07  0.337831  0.285951  0.038902\n",
      "       5  -8.16e-05     1e+100 -0.0003799 -0.0003799         0         0  2.61e-09  2.485541  0.472788  0.026791\n",
      "    Iter                    UB                    LB       gap relgap(%)   penalty                       Time(s)\n",
      "  ------   -------------------   -------------------  -------- ---------  -------- -----------------------------\n",
      "               Dual   Feasible        Sub       Best                                   total    master       sub\n",
      "       0  -0.000106     1e+100 -0.0002973 -0.0002973         0         0  1.87e-07  0.846122  0.446420  0.399284\n",
      "0 NODES DROPPED BY PRUNING: z > 0.192654\n",
      "BRANCHING ON y[7]: binary_ME201\n",
      "3         . NODES TO EXPLORE: 4\n",
      "    Iter                    UB                    LB       gap relgap(%)   penalty                       Time(s)\n",
      "  ------   -------------------   -------------------  -------- ---------  -------- -----------------------------\n",
      "               Dual   Feasible        Sub       Best                                   total    master       sub\n",
      "       0  -0.000119     1e+100  -0.002936  -0.002936  0.002817      2367  1.42e-07  0.533297  0.487576  0.034626\n",
      "       2 -7.013e-05     1e+100 -0.0004386 -0.0004386         0         0  7.16e-09  1.550817  0.634285  0.019670\n",
      "    Iter                    UB                    LB       gap relgap(%)   penalty                       Time(s)\n",
      "  ------   -------------------   -------------------  -------- ---------  -------- -----------------------------\n",
      "               Dual   Feasible        Sub       Best                                   total    master       sub\n",
      "       0 -0.0005561     1e+100  -0.008101  -0.008101  0.007545      1357  2.05e-06  1.436868  0.332678  1.086091\n",
      "       1 -2.391e-05     1e+100  0.0002975  0.0002975         0         0  3.65e-09  1.910933  0.453420  0.020190\n",
      "0 NODES DROPPED BY PRUNING: z > 0.192654\n",
      "BRANCHING ON y[2]: binary_G6PDH2r02\n",
      "4         . NODES TO EXPLORE: 5\n",
      "    Iter                    UB                    LB       gap relgap(%)   penalty                       Time(s)\n",
      "  ------   -------------------   -------------------  -------- ---------  -------- -----------------------------\n",
      "               Dual   Feasible        Sub       Best                                   total    master       sub\n",
      "       0 -0.0001068     1e+100  -0.002933  -0.002933  0.002826      2647  1.73e-07  0.360078  0.315160  0.033735\n",
      "       1 -3.275e-05     1e+100 -0.0002454 -0.0002454         0         0  5.14e-09  0.893787  0.510967  0.022137\n",
      "    Iter                    UB                    LB       gap relgap(%)   penalty                       Time(s)\n",
      "  ------   -------------------   -------------------  -------- ---------  -------- -----------------------------\n",
      "               Dual   Feasible        Sub       Best                                   total    master       sub\n",
      "       0 -0.0001592     1e+100 -8.309e-05 -8.309e-05         0         0  9.68e-08  0.864503  0.430111  0.433910\n",
      "0 NODES DROPPED BY PRUNING: z > 0.192654\n",
      "BRANCHING ON y[1]: binary_G6PDH2r01\n",
      "5         . NODES TO EXPLORE: 6\n",
      "    Iter                    UB                    LB       gap relgap(%)   penalty                       Time(s)\n",
      "  ------   -------------------   -------------------  -------- ---------  -------- -----------------------------\n",
      "               Dual   Feasible        Sub       Best                                   total    master       sub\n",
      "       0  -0.000149     1e+100  -0.002504  -0.002504  0.002355      1581  1.15e-07  0.572810  0.527990  0.033660\n",
      "       1 -4.941e-05     1e+100 -0.0003378 -0.0003378         0         0  4.43e-09  0.919704  0.330207  0.016225\n",
      "    Iter                    UB                    LB       gap relgap(%)   penalty                       Time(s)\n",
      "  ------   -------------------   -------------------  -------- ---------  -------- -----------------------------\n",
      "               Dual   Feasible        Sub       Best                                   total    master       sub\n",
      "       0 -2.489e-05     1e+100  0.0006594  0.0006594         0         0  3.76e-09  0.587980  0.336166  0.251285\n",
      "0 NODES DROPPED BY PRUNING: z > 0.192654\n",
      "BRANCHING ON y[3]: binary_AKGDH00\n",
      "6         . NODES TO EXPLORE: 7\n",
      "    Iter                    UB                    LB       gap relgap(%)   penalty                       Time(s)\n",
      "  ------   -------------------   -------------------  -------- ---------  -------- -----------------------------\n",
      "               Dual   Feasible        Sub       Best                                   total    master       sub\n",
      "       0 -7.288e-05     1e+100 -0.0009564 -0.0009564         0         0  1.63e-08  0.574826  0.540827  0.033519\n",
      "    Iter                    UB                    LB       gap relgap(%)   penalty                       Time(s)\n",
      "  ------   -------------------   -------------------  -------- ---------  -------- -----------------------------\n",
      "               Dual   Feasible        Sub       Best                                   total    master       sub\n",
      "       0 -5.069e-05     1e+100  0.0007341  0.0007341         0         0  8.87e-09  0.744132  0.475553  0.268051\n",
      "0 NODES DROPPED BY PRUNING: z > 0.192654\n",
      "BRANCHING ON y[6]: binary_ME200\n",
      "7         . NODES TO EXPLORE: 8\n",
      "    Iter                    UB                    LB       gap relgap(%)   penalty                       Time(s)\n",
      "  ------   -------------------   -------------------  -------- ---------  -------- -----------------------------\n",
      "               Dual   Feasible        Sub       Best                                   total    master       sub\n",
      "       0 -8.966e-05     1e+100  -0.001046  -0.001046         0         0  1.68e-08  0.392859  0.359421  0.033040\n",
      "    Iter                    UB                    LB       gap relgap(%)   penalty                       Time(s)\n",
      "  ------   -------------------   -------------------  -------- ---------  -------- -----------------------------\n",
      "               Dual   Feasible        Sub       Best                                   total    master       sub\n",
      "       0 -3.005e-05     1e+100  0.0009556  0.0009556         0         0  7.37e-09  0.692452  0.363662  0.328375\n",
      "0 NODES DROPPED BY PRUNING: z > 0.192654\n",
      "BRANCHING ON y[2]: binary_G6PDH2r02\n",
      "8         . NODES TO EXPLORE: 9\n",
      "    Iter                    UB                    LB       gap relgap(%)   penalty                       Time(s)\n",
      "  ------   -------------------   -------------------  -------- ---------  -------- -----------------------------\n",
      "               Dual   Feasible        Sub       Best                                   total    master       sub\n",
      "       0 -0.0006429     1e+100  -0.005765  -0.005765  0.005122     796.8  5.27e-07  0.312981  0.268630  0.032883\n",
      "       1 -7.912e-05     1e+100  -0.000494  -0.000494         0         0  1.05e-08  0.759807  0.424584  0.021769\n",
      "    Iter                    UB                    LB       gap relgap(%)   penalty                       Time(s)\n",
      "  ------   -------------------   -------------------  -------- ---------  -------- -----------------------------\n",
      "               Dual   Feasible        Sub       Best                                   total    master       sub\n",
      "       0 -3.161e-05     1e+100   0.001005   0.001005  0.001036      3279     7e-09  0.811814  0.541423  0.234785\n",
      "       5 -5.672e-05     1e+100   0.000801   0.001005  0.001062      1872  2.39e-11  3.335946  0.457682  0.020340\n",
      "      10 -5.613e-05     1e+100   0.000719   0.001005  0.001061      1890  6.06e-12  6.371989  0.502037  0.020667\n",
      "      15 -3.906e-05     1e+100  0.0007763   0.001005  0.001044      2673  5.53e-14  8.840648  0.456893  0.020489\n",
      "      20 -7.757e-05     1e+100  0.0007317   0.001005  0.001082      1395  5.75e-15  11.21347  0.566365  0.020766\n"
     ]
    }
   ],
   "source": [
    "master.time_limit = 2*3600\n",
    "#master.max_iter = 500\n",
    "master.verbosity = 1\n",
    "master.print_iter = 5\n",
    "# master.gaptol = 0.02\n",
    "master.gaptol = 1e-3\n",
    "master.absgaptol = 1e-3\n",
    "master.delta_min  = 1e-10\n",
    "master.delta_mult = 0.5\n",
    "#master.bundle_mult = 0.1\n",
    "#master.model.Params.NumericFocus = 3   # the QP eventually runs into numerical issues\n",
    "\n",
    "heuristics = ['reduced_cost','parsimonious','best_rounding']\n",
    "\n",
    "lagrangeBB = LagrangeBB(master, heuristics)\n",
    "sol_master = lagrangeBB.optimize(two_phase=True, only_relaxed=False, feasible_methods=[])\n",
    "df_phase2 = pd.DataFrame(master.log_rows)"
   ]
  },
  {
   "cell_type": "markdown",
   "metadata": {},
   "source": [
    "## Feasible?"
   ]
  },
  {
   "cell_type": "code",
   "execution_count": null,
   "metadata": {
    "collapsed": false
   },
   "outputs": [],
   "source": [
    "lagrangeBB.tree.nodes"
   ]
  },
  {
   "cell_type": "code",
   "execution_count": null,
   "metadata": {
    "collapsed": false
   },
   "outputs": [],
   "source": [
    "for sub in sub_dict.values():\n",
    "    print(sub.yopt)"
   ]
  },
  {
   "cell_type": "markdown",
   "metadata": {
    "deletable": true,
    "editable": true
   },
   "source": [
    "## Check best feasible solution"
   ]
  },
  {
   "cell_type": "code",
   "execution_count": null,
   "metadata": {
    "collapsed": true,
    "deletable": true,
    "editable": true
   },
   "outputs": [],
   "source": [
    "if sol_master:\n",
    "    sol_final = sol_master.copy()"
   ]
  },
  {
   "cell_type": "code",
   "execution_count": null,
   "metadata": {
    "collapsed": false,
    "deletable": true,
    "editable": true
   },
   "outputs": [],
   "source": [
    "mdl0 = load_json_model(BASE_MODEL_FILE)\n",
    "kd = sol_to_kdict(sol_master)\n",
    "perf, df_results = compute_perf(kd, mdl0)"
   ]
  },
  {
   "cell_type": "code",
   "execution_count": null,
   "metadata": {
    "collapsed": false,
    "deletable": true,
    "editable": true
   },
   "outputs": [],
   "source": [
    "from scipy import stats\n",
    "\n",
    "dsplot = df_results.melt(['substrate','mu_meas'])\n",
    "dsplot.loc[dsplot.variable=='mu_fit','model'] = 'Fit'\n",
    "dsplot.loc[dsplot.variable=='mu_unfit','model'] = 'Unfit'\n",
    "df_perf = dsplot.groupby('variable').apply(lambda x: pd.Series({\n",
    "    'mdape':100*np.median(abs(x['value']-x['mu_meas'])/abs(x['mu_meas'])),\n",
    "    'sse':sum( (x['value']-x['mu_meas'])**2 ),\n",
    "    'rho':stats.spearmanr(x['mu_meas'],x['value'])[0],\n",
    "    'r':stats.pearsonr(x['mu_meas'],x['value'])[0]\n",
    "}))\n",
    "\n",
    "dsplot.variable = dsplot.variable.astype('category')\n",
    "dsplot.model = dsplot.model.astype('category')\n",
    "dsplot.variable.cat.reorder_categories(['mu_unfit','mu_fit'], inplace=True)\n",
    "g = sns.FacetGrid(dsplot, col='variable', hue='model', size=4)\n",
    "g.map(plt.plot, 'mu_meas','value', linestyle='None', marker='o', markeredgecolor='#000000', lw=0.2, markersize=8, alpha=0.75)\n",
    "for ax in g.axes.flat:\n",
    "    ax.plot([0,2],[0,2], zorder=1, color='#333333')\n",
    "    mdl  = ax.get_title().replace('variable = ','')\n",
    "    mdape= df_perf.loc[mdl].mdape\n",
    "    sse  = df_perf.loc[mdl].sse\n",
    "    r    = df_perf.loc[mdl].r\n",
    "    rho  = df_perf.loc[mdl].rho    \n",
    "    ax.set_title('%s (MdAPE=%.3g%%, SSE=%.3g)\\n(r=%.3g, rho=%.3g)'%(mdl,mdape, sse, r,rho))\n",
    "g.set_xlabels('Measured growth rate (h^{-1})')\n",
    "g.set_ylabels('Simulated growth rate (h^{-1})')\n",
    "g.add_legend()"
   ]
  },
  {
   "cell_type": "code",
   "execution_count": null,
   "metadata": {
    "collapsed": true,
    "deletable": true,
    "editable": true
   },
   "outputs": [],
   "source": []
  }
 ],
 "metadata": {
  "kernelspec": {
   "display_name": "Python 2",
   "language": "python",
   "name": "python2"
  },
  "language_info": {
   "codemirror_mode": {
    "name": "ipython",
    "version": 2
   },
   "file_extension": ".py",
   "mimetype": "text/x-python",
   "name": "python",
   "nbconvert_exporter": "python",
   "pygments_lexer": "ipython2",
   "version": "2.7.14"
  }
 },
 "nbformat": 4,
 "nbformat_minor": 2
}
