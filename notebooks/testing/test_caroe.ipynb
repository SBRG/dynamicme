{
 "cells": [
  {
   "cell_type": "markdown",
   "metadata": {
    "deletable": true,
    "editable": true
   },
   "source": [
    "# Test problem from Caroe et al. (1999)"
   ]
  },
  {
   "cell_type": "markdown",
   "metadata": {
    "deletable": true,
    "editable": true
   },
   "source": [
    "$$\n",
    "\\begin{align*}\n",
    "\\max_{x}      \\quad & \\frac{3}{2} x_1 + 4 x_2 + Q(x_1, x_2) \\\\\n",
    "\\mathrm{s.t.} \\quad & 0 \\leq x \\leq 5 \\\\\n",
    "                    & x \\ \\mathrm{integer}\n",
    "\\end{align*}\n",
    "$$\n",
    "\n",
    "where $Q(x_1,x_2)$:\n",
    "$$\n",
    "\\begin{align*}\n",
    "\\max_{y}      \\quad & 16 y_1 + 19 y_2 + 23 y_3 + 28 y_4 \\\\\n",
    "\\mathrm{s.t.} \\quad & 2 y_1 + 3 y_2 + 4 y_3 + 5 y_4 \\leq \\zeta_1 - x_1 \\\\\n",
    "                    & 6 y_1 + y_2 + 3 y_3 + 2 y_4 \\leq \\zeta_2 - x_2 \\\\\n",
    "                    & y_i \\in \\{0,1\\}\n",
    "\\end{align*}\n",
    "$$\n",
    "and $\\zeta = (\\zeta_1,\\zeta_2)$ is uniformly distributed on\n",
    "$$\\Pi = \\{(5,5), (5,6),\\dots,(5,15),(6,5),\\dots,(15,15)\\}$$\n",
    "giving 121 scenarios."
   ]
  },
  {
   "cell_type": "code",
   "execution_count": 1,
   "metadata": {
    "collapsed": true,
    "deletable": true,
    "editable": true
   },
   "outputs": [],
   "source": [
    "RELAX_LP = True"
   ]
  },
  {
   "cell_type": "code",
   "execution_count": 2,
   "metadata": {
    "collapsed": false,
    "deletable": true,
    "editable": true
   },
   "outputs": [],
   "source": [
    "from __future__ import division\n",
    "from cobra import Model\n",
    "from dynamicme.optimize import Variable, Constraint\n",
    "from six import iteritems\n",
    "from dynamicme.decomposition import LagrangeMaster, LagrangeSubmodel\n",
    "\n",
    "import numpy as np\n",
    "import pandas as pd"
   ]
  },
  {
   "cell_type": "code",
   "execution_count": 3,
   "metadata": {
    "collapsed": false,
    "deletable": true,
    "editable": true
   },
   "outputs": [
    {
     "name": "stdout",
     "output_type": "stream",
     "text": [
      "Scenarios: 121\n"
     ]
    }
   ],
   "source": [
    "zetas = [(i,j) for i in np.arange(5,16) for j in np.arange(5,16)]\n",
    "print('Scenarios: %s'%len(zetas))"
   ]
  },
  {
   "cell_type": "code",
   "execution_count": 4,
   "metadata": {
    "collapsed": false,
    "deletable": true,
    "editable": true
   },
   "outputs": [],
   "source": [
    "cx = -np.array([3/2, 4])\n",
    "fy = -np.array([16, 19, 23, 28])\n",
    "xl = [0, 0]\n",
    "xu = [5, 5]\n",
    "A  = [[2,3,4,5],\n",
    "      [6,1,3,2]]\n",
    "\n",
    "sub_dict = {}\n",
    "for k,zeta in enumerate(zetas):\n",
    "    mdl = Model('sub')    \n",
    "    ys  = [Variable('y_%d'%j, lower_bound=0, upper_bound=1, objective_coefficient=fy[j]) for j in range(len(fy))]\n",
    "    xs  = [Variable('x_%d'%j, lower_bound=xl[j], upper_bound=xu[j], objective_coefficient=cx[j]) for j in range(len(cx))]\n",
    "    for x in xs:\n",
    "        x.variable_kind = 'integer'\n",
    "    for y in ys:\n",
    "        y.variable_kind = 'integer'\n",
    "    mdl.add_reactions(xs+ys)\n",
    "    for i,ai in enumerate(A):\n",
    "        cons = Constraint('cons_%d'%i)\n",
    "        cons._constraint_sense = 'L'\n",
    "        cons._bound = zeta[i]\n",
    "        xs[i].add_metabolites({cons:1})\n",
    "        for j,aij in enumerate(ai):\n",
    "            ys[j].add_metabolites({cons:aij})\n",
    "    sub_id = 'scen_%d'%k\n",
    "    sub = LagrangeSubmodel(mdl, sub_id, first_stage_vars=xs)\n",
    "    sub_dict[sub_id] = sub"
   ]
  },
  {
   "cell_type": "code",
   "execution_count": 5,
   "metadata": {
    "collapsed": false,
    "deletable": true,
    "editable": true
   },
   "outputs": [],
   "source": [
    "master = LagrangeMaster(mdl, first_stage_vars=xs)\n",
    "master._INF = 1e8\n",
    "master.add_submodels(sub_dict)\n",
    "master._z.LB = -master._INF\n",
    "master._z.UB = master._INF\n",
    "master.model.Params.Presolve = 0\n",
    "master.model.update()\n",
    "master.model.Params.NodefileStart = 3.\n",
    "for sub in sub_dict.values():\n",
    "    sub.model.Params.NodefileStart = 3."
   ]
  },
  {
   "cell_type": "code",
   "execution_count": null,
   "metadata": {
    "collapsed": false
   },
   "outputs": [],
   "source": [
    "master.gaptol = 1e-3\n",
    "master.penaltytol = 1e-4\n",
    "master.delta_mult = 0"
   ]
  },
  {
   "cell_type": "code",
   "execution_count": null,
   "metadata": {
    "collapsed": false,
    "deletable": true,
    "editable": true
   },
   "outputs": [
    {
     "name": "stdout",
     "output_type": "stream",
     "text": [
      "    Iter                    UB                    LB       gap relgap(%)   penalty                       Time(s)\n",
      "  ------   -------------------   -------------------  -------- ---------  -------- -----------------------------\n",
      "               Best   Feasible        Sub       Best                                   total    master       sub\n",
      "       0      1e+08     1e+100      -8898      -8898     1e+08       100         0  0.048032  0.001148  0.044603\n",
      "       7      -8095     1e+100      -8098      -8098      3.65    0.0451  9.65e-08  0.384240  0.011466  0.038301\n",
      "    Iter                    UB                    LB       gap relgap(%)   penalty                       Time(s)\n",
      "  ------   -------------------   -------------------  -------- ---------  -------- -----------------------------\n",
      "               Best   Feasible        Sub       Best                                   total    master       sub\n",
      "       0      -8501     1e+100      -8261      -8261     240.2     2.825       183  0.137004  0.015368  0.119951\n",
      "      10      -8095     1e+100      -7941      -7941     153.3     1.894  1.16e-10  1.365706  0.051611  0.097764\n",
      "      20      -8095     1e+100      -7936      -7936     158.7     1.961  3.94e-11  3.013913  0.102169  0.089442\n",
      "      30      -8095     1e+100      -7936      -7936     158.8     1.961  2.76e-11  5.413784  0.192127  0.089383\n",
      "      40      -8095     1e+100      -7936      -7936     158.8     1.961  2.24e-12  7.977047  0.210468  0.088388\n"
     ]
    },
    {
     "name": "stderr",
     "output_type": "stream",
     "text": [
      "/home/laurence/python_modules/dynamicme.git/dynamicme/decomposition.py:2145 \u001b[1;31mUserWarning\u001b[0m: Solution available but Master solver status=suboptimal (13).\n"
     ]
    },
    {
     "name": "stdout",
     "output_type": "stream",
     "text": [
      "      50      -8095     1e+100      -7936      -7936     158.8     1.961  4.62e-11  11.83940  0.317935  0.089411\n",
      "      60      -8095     1e+100      -7936      -7936     158.8     1.961  3.94e-11  16.70945  0.435214  0.089844\n",
      "      70      -8095     1e+100      -7936      -7926     168.5     2.082  3.22e-11  24.47460  0.642467  0.088242\n",
      "      80      -8095     1e+100      -7936      -7926     168.5     2.082  1.84e-11  33.47116  1.069900  0.088378\n",
      "      90      -8095     1e+100      -7936      -7926     168.5     2.082  2.11e-11  44.98542  1.218603  0.090847\n",
      "     100      -8095     1e+100      -7936      -7926     168.5     2.082  4.89e-11  59.70765  1.488387  0.095020\n",
      "     110      -8095     1e+100      -7936      -7926     168.5     2.082  2.56e-12  76.86680  1.681466  0.092315\n",
      "     120      -8095     1e+100      -7936      -7926     168.5     2.082  7.45e-11  97.08871  2.531141  0.089874\n",
      "     130      -8095     1e+100      -7936      -7926     168.5     2.082  4.42e-11  122.3122  2.542057  0.092348\n"
     ]
    }
   ],
   "source": [
    "master.verbosity=1\n",
    "feasible_method = 'enumerate'\n",
    "alt_method = 'pool'\n",
    "max_alt = 10\n",
    "\n",
    "\n",
    "if RELAX_LP:\n",
    "    sol_master = master.solve_relaxed(feasible_method=None)\n",
    "    df_phase1 = pd.DataFrame(master.log_rows)\n",
    "\n",
    "sol_master = master.optimize(feasible_method=feasible_method, max_alt=max_alt, alt_method=alt_method) \n",
    "df_phase2 = pd.DataFrame(master.log_rows)"
   ]
  },
  {
   "cell_type": "code",
   "execution_count": null,
   "metadata": {
    "collapsed": false
   },
   "outputs": [],
   "source": [
    "sub.model.getObjective()"
   ]
  },
  {
   "cell_type": "code",
   "execution_count": null,
   "metadata": {
    "collapsed": false,
    "deletable": true,
    "editable": true
   },
   "outputs": [],
   "source": [
    "import seaborn as sns\n",
    "import matplotlib.pyplot as plt\n",
    "%matplotlib inline\n",
    "\n",
    "xcol = 'iter'\n",
    "df_phase1.loc[:,'phase'] = 1\n",
    "df_phase1.loc[:,'feasUB'] = np.nan\n",
    "df_phase2.loc[:,'phase'] = 2\n",
    "dsplot = pd.concat([df_phase1, df_phase2])\n",
    "dsplot = dsplot[[xcol,'feasUB','bestUB','bestLB','phase']]\n",
    "dsplot = dsplot.melt(id_vars=[xcol,'phase'])\n",
    "\n",
    "g = sns.FacetGrid(dsplot, hue='variable', size=3, aspect=3, row='phase', sharey=False)\n",
    "g.map(plt.plot, xcol,'value')\n",
    "g.add_legend()"
   ]
  }
 ],
 "metadata": {
  "kernelspec": {
   "display_name": "Python 2",
   "language": "python",
   "name": "python2"
  },
  "language_info": {
   "codemirror_mode": {
    "name": "ipython",
    "version": 2
   },
   "file_extension": ".py",
   "mimetype": "text/x-python",
   "name": "python",
   "nbconvert_exporter": "python",
   "pygments_lexer": "ipython2",
   "version": "2.7.14"
  }
 },
 "nbformat": 4,
 "nbformat_minor": 2
}
