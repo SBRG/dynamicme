{
 "cells": [
  {
   "cell_type": "markdown",
   "metadata": {
    "deletable": true,
    "editable": true
   },
   "source": [
    "# Test problem from Caroe et al. (1999)"
   ]
  },
  {
   "cell_type": "markdown",
   "metadata": {
    "deletable": true,
    "editable": true
   },
   "source": [
    "$$\n",
    "\\begin{align*}\n",
    "\\max_{x}      \\quad & \\frac{3}{2} x_1 + 4 x_2 + Q(x_1, x_2) \\\\\n",
    "\\mathrm{s.t.} \\quad & 0 \\leq x \\leq 5 \\\\\n",
    "                    & x \\ \\mathrm{integer}\n",
    "\\end{align*}\n",
    "$$\n",
    "\n",
    "where $Q(x_1,x_2)$:\n",
    "$$\n",
    "\\begin{align*}\n",
    "\\max_{y}      \\quad & 16 y_1 + 19 y_2 + 23 y_3 + 28 y_4 \\\\\n",
    "\\mathrm{s.t.} \\quad & 2 y_1 + 3 y_2 + 4 y_3 + 5 y_4 \\leq \\zeta_1 - x_1 \\\\\n",
    "                    & 6 y_1 + y_2 + 3 y_3 + 2 y_4 \\leq \\zeta_2 - x_2 \\\\\n",
    "                    & y_i \\in \\{0,1\\}\n",
    "\\end{align*}\n",
    "$$\n",
    "and $\\zeta = (\\zeta_1,\\zeta_2)$ is uniformly distributed on\n",
    "$$\\Pi = \\{(5,5), (5,6),\\dots,(5,15),(6,5),\\dots,(15,15)\\}$$\n",
    "giving 121 scenarios."
   ]
  },
  {
   "cell_type": "code",
   "execution_count": 1,
   "metadata": {
    "collapsed": true,
    "deletable": true,
    "editable": true
   },
   "outputs": [],
   "source": [
    "RELAX_LP = True"
   ]
  },
  {
   "cell_type": "code",
   "execution_count": 2,
   "metadata": {
    "collapsed": false,
    "deletable": true,
    "editable": true
   },
   "outputs": [],
   "source": [
    "from __future__ import division\n",
    "from cobra import Model\n",
    "from dynamicme.optimize import Variable, Constraint\n",
    "from six import iteritems\n",
    "from dynamicme.decomposition import LagrangeMaster, LagrangeSubmodel\n",
    "\n",
    "import numpy as np\n",
    "import pandas as pd"
   ]
  },
  {
   "cell_type": "code",
   "execution_count": 3,
   "metadata": {
    "collapsed": false,
    "deletable": true,
    "editable": true
   },
   "outputs": [
    {
     "name": "stdout",
     "output_type": "stream",
     "text": [
      "Scenarios: 121\n"
     ]
    }
   ],
   "source": [
    "zetas = [(i,j) for i in np.arange(5,16) for j in np.arange(5,16)]\n",
    "print('Scenarios: %s'%len(zetas))"
   ]
  },
  {
   "cell_type": "code",
   "execution_count": 4,
   "metadata": {
    "collapsed": false,
    "deletable": true,
    "editable": true
   },
   "outputs": [],
   "source": [
    "cx = -np.array([3/2, 4])\n",
    "fy = -np.array([16, 19, 23, 28])\n",
    "xl = [0, 0]\n",
    "xu = [5, 5]\n",
    "A  = [[2,3,4,5],\n",
    "      [6,1,3,2]]\n",
    "\n",
    "sub_dict = {}\n",
    "for k,zeta in enumerate(zetas):\n",
    "    mdl = Model('sub')    \n",
    "    ys  = [Variable('y_%d'%j, lower_bound=0, upper_bound=1, objective_coefficient=fy[j]) for j in range(len(fy))]\n",
    "    xs  = [Variable('x_%d'%j, lower_bound=xl[j], upper_bound=xu[j], objective_coefficient=cx[j]) for j in range(len(cx))]\n",
    "    for x in xs:\n",
    "        x.variable_kind = 'integer'\n",
    "    for y in ys:\n",
    "        y.variable_kind = 'integer'\n",
    "    mdl.add_reactions(xs+ys)\n",
    "    for i,ai in enumerate(A):\n",
    "        cons = Constraint('cons_%d'%i)\n",
    "        cons._constraint_sense = 'L'\n",
    "        cons._bound = zeta[i]\n",
    "        xs[i].add_metabolites({cons:1})\n",
    "        for j,aij in enumerate(ai):\n",
    "            ys[j].add_metabolites({cons:aij})\n",
    "    sub_id = 'scen_%d'%k\n",
    "    sub = LagrangeSubmodel(mdl, sub_id, first_stage_vars=xs)\n",
    "    sub._weight = 1./len(zetas)\n",
    "    sub_dict[sub_id] = sub"
   ]
  },
  {
   "cell_type": "code",
   "execution_count": 5,
   "metadata": {
    "collapsed": false,
    "deletable": true,
    "editable": true
   },
   "outputs": [],
   "source": [
    "master = LagrangeMaster(mdl, first_stage_vars=xs)\n",
    "master._INF = 1e8\n",
    "master.add_submodels(sub_dict)\n",
    "master._z.LB = -master._INF\n",
    "master._z.UB = master._INF\n",
    "master.model.Params.Presolve = 0\n",
    "master.model.update()\n",
    "master.model.Params.NodefileStart = 3.\n",
    "for sub in sub_dict.values():\n",
    "    sub.model.Params.NodefileStart = 3."
   ]
  },
  {
   "cell_type": "code",
   "execution_count": 6,
   "metadata": {
    "collapsed": false,
    "deletable": true,
    "editable": true
   },
   "outputs": [
    {
     "name": "stdout",
     "output_type": "stream",
     "text": [
      "    Iter                    UB                    LB       gap relgap(%)   penalty                       Time(s)\n",
      "  ------   -------------------   -------------------  -------- ---------  -------- -----------------------------\n",
      "               Best   Feasible        Sub       Best                                   total    master       sub\n",
      "       0      1e+08     1e+100     -73.54     -73.54     1e+08       100         0  0.077361  0.003963  0.068830\n",
      "      10     -66.63     1e+100     -68.03     -68.03     1.394     2.092     0.368  0.534734  0.015243  0.037804\n",
      "      15      -66.9     1e+100      -66.9      -66.9         0         0  1.93e-13  0.885039  0.041174  0.037391\n",
      "    Iter                    UB                    LB       gap relgap(%)   penalty                       Time(s)\n",
      "  ------   -------------------   -------------------  -------- ---------  -------- -----------------------------\n",
      "               Best   Feasible        Sub       Best                                   total    master       sub\n",
      "       0     -73.51     1e+100     -70.55     -70.55     2.952     4.016    0.0163  0.165086  0.030999  0.132419\n",
      "      10     -66.91     1e+100     -65.86     -65.86      1.05     1.569    0.0196  1.626386  0.067945  0.093098\n",
      "      20      -66.9     1e+100     -65.83     -65.82     1.077      1.61  1.84e-07  3.917444  0.153936  0.092756\n",
      "      30      -66.9     1e+100     -65.98     -65.82     1.077      1.61  1.62e-08  6.344567  0.146362  0.093101\n",
      "      40      -66.9     1e+100     -65.63     -65.63     1.267     1.894  4.21e-11  9.609876  0.219147  0.091223\n",
      "      50      -66.9     1e+100      -65.6      -65.6     1.302     1.946  4.59e-11  13.93305  0.399458  0.089968\n",
      "      60      -66.9     1e+100     -65.59     -65.59     1.311      1.96  4.12e-12  19.89507  0.509932  0.090024\n",
      "      70      -66.9     1e+100     -65.59     -65.59     1.311      1.96  2.93e-12  27.68881  0.752471  0.090212\n",
      "      80      -66.9     1e+100     -65.59     -65.59     1.312      1.96  4.98e-11  38.13771  1.027422  0.090934\n",
      "      90      -66.9     1e+100     -65.59     -65.59     1.312     1.961  3.04e-11  52.85045  1.548724  0.089172\n"
     ]
    },
    {
     "name": "stderr",
     "output_type": "stream",
     "text": [
      "/home/laurence/python_modules/dynamicme.git/dynamicme/decomposition.py:2149 \u001b[1;31mUserWarning\u001b[0m: Solution available but Master solver status=suboptimal (13).\n"
     ]
    },
    {
     "name": "stdout",
     "output_type": "stream",
     "text": [
      "Master solver status=suboptimal (13).\n",
      "     100     -67.01     1e+100     -65.55     -65.55     1.465     2.187  4.29e-10  71.63590  1.702749  0.091627\n",
      "     110      -66.9     1e+100     -65.59     -65.55     1.352     2.021  2.65e-11  92.02553  1.800462  0.090672\n",
      "     120      -66.9     1e+100     -65.59     -65.55     1.352     2.021  4.29e-12  118.5945  2.291068  0.090750\n",
      "     130      -66.9     1e+100     -65.59     -65.55     1.352     2.021  5.77e-12  152.1065  4.775872  0.092296\n",
      "     140      -66.9     1e+100     -65.59     -65.55     1.352     2.021  1.03e-12  191.6328  3.719273  0.092434\n",
      "Master solver status=suboptimal (13).\n",
      "     150     -67.28     1e+100      -65.5      -65.5     1.773     2.635  3.39e-09  236.4122  4.010673  0.096095\n",
      "     160      -66.9     1e+100     -65.59      -65.5     1.395     2.085  9.76e-12  285.8998  5.636308  0.090898\n",
      "Master solver status=suboptimal (13).\n",
      "     170      -66.9     1e+100     -65.59      -65.5     1.395     2.085  3.26e-11  343.1572  5.996507  0.091382\n",
      "Master solver status=suboptimal (13).\n",
      "Master solver status=suboptimal (13).\n",
      "     180     -72.74     1e+100     -71.09      -65.5     7.235     9.946  1.97e-07  408.7819  7.880733  0.097784\n",
      "Master solver status=suboptimal (13).\n",
      "Master solver status=suboptimal (13).\n",
      "Master solver status=suboptimal (13).\n",
      "Master solver status=suboptimal (13).\n",
      "     190      -66.9     1e+100      -65.6     -65.49     1.407     2.103  3.62e-11  522.7766  18.53119  0.092341\n",
      "Master solver status=suboptimal (13).\n",
      "Master solver status=suboptimal (13).\n",
      "     200     -68.32     1e+100     -65.34     -65.34      2.98     4.363  3.43e-10  676.2123  15.54384  0.099372\n",
      "Master solver status=suboptimal (13).\n",
      "     210      -66.9     1e+100     -65.59     -65.34     1.561     2.334   2.8e-14  876.8329  28.85776  0.095203\n",
      "     220      -66.9     1e+100     -65.59     -65.34     1.561     2.334  2.42e-11  1067.103  16.90890  0.091454\n",
      "Master solver status=suboptimal (13).\n",
      "     230      -66.9     1e+100     -65.59     -65.34     1.561     2.334  8.02e-12  1282.440  17.64497  0.093780\n",
      "     240      -66.9     1e+100     -65.59     -65.34     1.561     2.334  4.54e-11  1534.098  24.43660  0.093325\n",
      "     250      -66.9     1e+100     -65.59     -65.34     1.561     2.334  1.92e-11  1798.179  23.84724  0.092257\n",
      "Master solver status=suboptimal (13).\n",
      "Master solver status=suboptimal (13).\n",
      "Master solver status=suboptimal (13).\n",
      "     260      -66.9     1e+100     -65.59     -65.34     1.562     2.335  3.14e-11  2061.376  22.83236  0.093604\n",
      "Master solver status=suboptimal (13).\n",
      "     270      -66.9     1e+100     -65.59     -65.34     1.561     2.334  2.73e-12  2372.540  24.94121  0.094880\n",
      "Master solver status=suboptimal (13).\n",
      "     280      -66.9     1e+100     -65.59     -65.34     1.561     2.334   1.3e-11  2663.084  29.57245  0.092778\n",
      "Master solver status=suboptimal (13).\n",
      "Master solver status=suboptimal (13).\n",
      "Master solver status=suboptimal (13).\n",
      "     290      -66.9     1e+100     -65.59     -65.34     1.561     2.334  1.05e-11  2975.504  33.58869  0.093281\n",
      "Master solver status=suboptimal (13).\n",
      "     300     -66.95     1e+100     -65.58     -65.34     1.608     2.402  3.63e-11  3352.596  18.45551  0.093628\n",
      "Master solver status=suboptimal (13).\n",
      "Master solver status=suboptimal (13).\n",
      "Master solver status=suboptimal (13).\n",
      "Master solver status=suboptimal (13).\n",
      "     310     -67.11     1e+100     -65.49     -65.27     1.847     2.751  1.13e-09  3706.772  19.89922  0.096610\n",
      "Master solver status=suboptimal (13).\n",
      "Master solver status=suboptimal (13).\n",
      "Master solver status=suboptimal (13).\n",
      "     320      -66.9     1e+100     -65.59     -65.25     1.646      2.46  2.15e-08  4124.642  46.08232  0.099634\n",
      "Master solver status=suboptimal (13).\n",
      "     330      -66.9     1e+100     -65.59     -65.25     1.646     2.461  1.86e-11  4598.129  38.93257  0.095787\n",
      "Master solver status=suboptimal (13).\n",
      "Master solver status=suboptimal (13).\n",
      "     340      -66.9     1e+100     -65.59     -65.25     1.646      2.46  5.46e-11  5110.573  50.14364  0.094779\n",
      "Master solver status=suboptimal (13).\n",
      "Master solver status=suboptimal (13).\n",
      "Master solver status=suboptimal (13).\n",
      "Master solver status=suboptimal (13).\n",
      "     350      -66.9     1e+100     -65.59     -65.25     1.647     2.461  5.28e-11  5611.632  53.51812  0.095436\n",
      "Master solver status=suboptimal (13).\n",
      "     360      -66.9     1e+100     -65.59     -65.25     1.646     2.461  1.47e-11  6192.224  49.14564  0.093247\n",
      "Master solver status=suboptimal (13).\n",
      "Master solver status=suboptimal (13).\n",
      "Master solver status=suboptimal (13).\n",
      "     370      -66.9     1e+100     -65.59     -65.24     1.661     2.482  2.34e-08  6811.584  60.76625  0.097790\n",
      "Master solver status=suboptimal (13).\n",
      "Master solver status=suboptimal (13).\n",
      "     380      -66.9     1e+100     -65.59     -65.24     1.661     2.482  3.74e-12  7477.322  59.60253  0.094058\n",
      "Master solver status=suboptimal (13).\n",
      "     390      -66.9     1e+100      -65.6     -65.24     1.661     2.482  1.08e-07  8202.684  81.10749  0.105543\n",
      "Master solver status=suboptimal (13).\n",
      "Master solver status=suboptimal (13).\n",
      "     400      -66.9     1e+100     -65.62     -65.24     1.661     2.482  8.16e-08  8953.674  74.74118  0.104988\n",
      "Master solver status=suboptimal (13).\n",
      "Master solver status=suboptimal (13).\n",
      "     410      -66.9     1e+100     -65.59     -65.24     1.661     2.482  1.79e-12  9684.604  76.53729  0.096854\n"
     ]
    },
    {
     "ename": "KeyError",
     "evalue": "11",
     "output_type": "error",
     "traceback": [
      "\u001b[0;31m\u001b[0m",
      "\u001b[0;31mKeyError\u001b[0mTraceback (most recent call last)",
      "\u001b[0;32m<ipython-input-6-8ef7d657ef66>\u001b[0m in \u001b[0;36m<module>\u001b[0;34m()\u001b[0m\n\u001b[1;32m     14\u001b[0m \u001b[0mmaster\u001b[0m\u001b[0;34m.\u001b[0m\u001b[0mgaptol\u001b[0m \u001b[0;34m=\u001b[0m \u001b[0;36m0.01\u001b[0m\u001b[0;34m\u001b[0m\u001b[0m\n\u001b[1;32m     15\u001b[0m \u001b[0mmaster\u001b[0m\u001b[0;34m.\u001b[0m\u001b[0mverbosity\u001b[0m\u001b[0;34m=\u001b[0m\u001b[0;36m2\u001b[0m\u001b[0;34m\u001b[0m\u001b[0m\n\u001b[0;32m---> 16\u001b[0;31m \u001b[0msol_master\u001b[0m \u001b[0;34m=\u001b[0m \u001b[0mmaster\u001b[0m\u001b[0;34m.\u001b[0m\u001b[0moptimize\u001b[0m\u001b[0;34m(\u001b[0m\u001b[0mfeasible_methods\u001b[0m\u001b[0;34m=\u001b[0m\u001b[0mfeasible_methods\u001b[0m\u001b[0;34m,\u001b[0m \u001b[0mmax_alt\u001b[0m\u001b[0;34m=\u001b[0m\u001b[0mmax_alt\u001b[0m\u001b[0;34m,\u001b[0m \u001b[0malt_method\u001b[0m\u001b[0;34m=\u001b[0m\u001b[0malt_method\u001b[0m\u001b[0;34m)\u001b[0m\u001b[0;34m\u001b[0m\u001b[0m\n\u001b[0m\u001b[1;32m     17\u001b[0m \u001b[0mdf_phase2\u001b[0m \u001b[0;34m=\u001b[0m \u001b[0mpd\u001b[0m\u001b[0;34m.\u001b[0m\u001b[0mDataFrame\u001b[0m\u001b[0;34m(\u001b[0m\u001b[0mmaster\u001b[0m\u001b[0;34m.\u001b[0m\u001b[0mlog_rows\u001b[0m\u001b[0;34m)\u001b[0m\u001b[0;34m\u001b[0m\u001b[0m\n",
      "\u001b[0;32m/home/laurence/python_modules/dynamicme.git/dynamicme/decomposition.pyc\u001b[0m in \u001b[0;36moptimize\u001b[0;34m(self, feasible_methods, bundle, multicut, max_alt, alt_method, nogood_cuts)\u001b[0m\n\u001b[1;32m   2147\u001b[0m                 \u001b[0;32mif\u001b[0m \u001b[0mmodel\u001b[0m\u001b[0;34m.\u001b[0m\u001b[0mStatus\u001b[0m \u001b[0;34m!=\u001b[0m \u001b[0mGRB\u001b[0m\u001b[0;34m.\u001b[0m\u001b[0mOPTIMAL\u001b[0m\u001b[0;34m:\u001b[0m\u001b[0;34m\u001b[0m\u001b[0m\n\u001b[1;32m   2148\u001b[0m                     warnings.warn(\"Solution available but Master solver status=%s (%s).\"%(\n\u001b[0;32m-> 2149\u001b[0;31m                         status_dict[model.Status], model.Status))\n\u001b[0m\u001b[1;32m   2150\u001b[0m                     \u001b[0;32mif\u001b[0m \u001b[0mverbosity\u001b[0m\u001b[0;34m>\u001b[0m\u001b[0;36m1\u001b[0m\u001b[0;34m:\u001b[0m\u001b[0;34m\u001b[0m\u001b[0m\n\u001b[1;32m   2151\u001b[0m                         print(\"Master solver status=%s (%s).\"%(\n",
      "\u001b[0;31mKeyError\u001b[0m: 11"
     ]
    }
   ],
   "source": [
    "master.gaptol = 1e-3\n",
    "master.penaltytol = 1e-6 #1e-4\n",
    "master.delta_mult = 0.5\n",
    "\n",
    "feasible_methods = ['heuristic','enumerate']\n",
    "alt_method = 'pool'\n",
    "max_alt = 10\n",
    "\n",
    "\n",
    "if RELAX_LP:\n",
    "    sol_master = master.solve_relaxed(feasible_methods=None)\n",
    "    df_phase1 = pd.DataFrame(master.log_rows)\n",
    "\n",
    "master.gaptol = 0.01\n",
    "master.verbosity=2\n",
    "sol_master = master.optimize(feasible_methods=feasible_methods, max_alt=max_alt, alt_method=alt_method) \n",
    "df_phase2 = pd.DataFrame(master.log_rows)"
   ]
  },
  {
   "cell_type": "code",
   "execution_count": 7,
   "metadata": {
    "collapsed": false,
    "deletable": true,
    "editable": true
   },
   "outputs": [
    {
     "data": {
      "text/plain": [
       "<gurobi.LinExpr: 1.32724432647 x_0 + -2.66666717827 x_1 + -16.0 y_0 + -19.0 y_1 + -23.0 y_2 + -28.0 y_3>"
      ]
     },
     "execution_count": 7,
     "metadata": {},
     "output_type": "execute_result"
    }
   ],
   "source": [
    "sub.model.getObjective()"
   ]
  },
  {
   "cell_type": "code",
   "execution_count": 8,
   "metadata": {
    "collapsed": false,
    "deletable": true,
    "editable": true
   },
   "outputs": [
    {
     "ename": "NameError",
     "evalue": "name 'df_phase2' is not defined",
     "output_type": "error",
     "traceback": [
      "\u001b[0;31m\u001b[0m",
      "\u001b[0;31mNameError\u001b[0mTraceback (most recent call last)",
      "\u001b[0;32m<ipython-input-8-633afb01fc41>\u001b[0m in \u001b[0;36m<module>\u001b[0;34m()\u001b[0m\n\u001b[1;32m      6\u001b[0m \u001b[0mdf_phase1\u001b[0m\u001b[0;34m.\u001b[0m\u001b[0mloc\u001b[0m\u001b[0;34m[\u001b[0m\u001b[0;34m:\u001b[0m\u001b[0;34m,\u001b[0m\u001b[0;34m'phase'\u001b[0m\u001b[0;34m]\u001b[0m \u001b[0;34m=\u001b[0m \u001b[0;36m1\u001b[0m\u001b[0;34m\u001b[0m\u001b[0m\n\u001b[1;32m      7\u001b[0m \u001b[0mdf_phase1\u001b[0m\u001b[0;34m.\u001b[0m\u001b[0mloc\u001b[0m\u001b[0;34m[\u001b[0m\u001b[0;34m:\u001b[0m\u001b[0;34m,\u001b[0m\u001b[0;34m'feasUB'\u001b[0m\u001b[0;34m]\u001b[0m \u001b[0;34m=\u001b[0m \u001b[0mnp\u001b[0m\u001b[0;34m.\u001b[0m\u001b[0mnan\u001b[0m\u001b[0;34m\u001b[0m\u001b[0m\n\u001b[0;32m----> 8\u001b[0;31m \u001b[0mdf_phase2\u001b[0m\u001b[0;34m.\u001b[0m\u001b[0mloc\u001b[0m\u001b[0;34m[\u001b[0m\u001b[0;34m:\u001b[0m\u001b[0;34m,\u001b[0m\u001b[0;34m'phase'\u001b[0m\u001b[0;34m]\u001b[0m \u001b[0;34m=\u001b[0m \u001b[0;36m2\u001b[0m\u001b[0;34m\u001b[0m\u001b[0m\n\u001b[0m\u001b[1;32m      9\u001b[0m \u001b[0mdsplot\u001b[0m \u001b[0;34m=\u001b[0m \u001b[0mpd\u001b[0m\u001b[0;34m.\u001b[0m\u001b[0mconcat\u001b[0m\u001b[0;34m(\u001b[0m\u001b[0;34m[\u001b[0m\u001b[0mdf_phase1\u001b[0m\u001b[0;34m,\u001b[0m \u001b[0mdf_phase2\u001b[0m\u001b[0;34m]\u001b[0m\u001b[0;34m)\u001b[0m\u001b[0;34m\u001b[0m\u001b[0m\n\u001b[1;32m     10\u001b[0m \u001b[0mdsplot\u001b[0m \u001b[0;34m=\u001b[0m \u001b[0mdsplot\u001b[0m\u001b[0;34m[\u001b[0m\u001b[0;34m[\u001b[0m\u001b[0mxcol\u001b[0m\u001b[0;34m,\u001b[0m\u001b[0;34m'feasUB'\u001b[0m\u001b[0;34m,\u001b[0m\u001b[0;34m'bestUB'\u001b[0m\u001b[0;34m,\u001b[0m\u001b[0;34m'bestLB'\u001b[0m\u001b[0;34m,\u001b[0m\u001b[0;34m'phase'\u001b[0m\u001b[0;34m]\u001b[0m\u001b[0;34m]\u001b[0m\u001b[0;34m\u001b[0m\u001b[0m\n",
      "\u001b[0;31mNameError\u001b[0m: name 'df_phase2' is not defined"
     ]
    }
   ],
   "source": [
    "import seaborn as sns\n",
    "import matplotlib.pyplot as plt\n",
    "%matplotlib inline\n",
    "\n",
    "xcol = 'iter'\n",
    "df_phase1.loc[:,'phase'] = 1\n",
    "df_phase1.loc[:,'feasUB'] = np.nan\n",
    "df_phase2.loc[:,'phase'] = 2\n",
    "dsplot = pd.concat([df_phase1, df_phase2])\n",
    "dsplot = dsplot[[xcol,'feasUB','bestUB','bestLB','phase']]\n",
    "dsplot = dsplot.melt(id_vars=[xcol,'phase'])\n",
    "\n",
    "g = sns.FacetGrid(dsplot, hue='variable', size=3, aspect=3, row='phase', sharey=False)\n",
    "g.map(plt.plot, xcol,'value')\n",
    "g.add_legend()"
   ]
  }
 ],
 "metadata": {
  "kernelspec": {
   "display_name": "Python 2",
   "language": "python",
   "name": "python2"
  },
  "language_info": {
   "codemirror_mode": {
    "name": "ipython",
    "version": 2
   },
   "file_extension": ".py",
   "mimetype": "text/x-python",
   "name": "python",
   "nbconvert_exporter": "python",
   "pygments_lexer": "ipython2",
   "version": "2.7.14"
  }
 },
 "nbformat": 4,
 "nbformat_minor": 2
}
