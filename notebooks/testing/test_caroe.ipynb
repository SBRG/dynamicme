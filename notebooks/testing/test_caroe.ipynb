{
 "cells": [
  {
   "cell_type": "markdown",
   "metadata": {
    "deletable": true,
    "editable": true
   },
   "source": [
    "# Test problem from Caroe et al. (1999)"
   ]
  },
  {
   "cell_type": "markdown",
   "metadata": {
    "deletable": true,
    "editable": true
   },
   "source": [
    "$$\n",
    "\\begin{align*}\n",
    "\\max_{x}      \\quad & \\frac{3}{2} x_1 + 4 x_2 + Q(x_1, x_2) \\\\\n",
    "\\mathrm{s.t.} \\quad & 0 \\leq x \\leq 5 \\\\\n",
    "                    & x \\ \\mathrm{integer}\n",
    "\\end{align*}\n",
    "$$\n",
    "\n",
    "where $Q(x_1,x_2)$:\n",
    "$$\n",
    "\\begin{align*}\n",
    "\\max_{y}      \\quad & 16 y_1 + 19 y_2 + 23 y_3 + 28 y_4 \\\\\n",
    "\\mathrm{s.t.} \\quad & 2 y_1 + 3 y_2 + 4 y_3 + 5 y_4 \\leq \\zeta_1 - x_1 \\\\\n",
    "                    & 6 y_1 + y_2 + 3 y_3 + 2 y_4 \\leq \\zeta_2 - x_2 \\\\\n",
    "                    & y_i \\in \\{0,1\\}\n",
    "\\end{align*}\n",
    "$$\n",
    "and $\\zeta = (\\zeta_1,\\zeta_2)$ is uniformly distributed on\n",
    "$$\\Pi = \\{(5,5), (5,6),\\dots,(5,15),(6,5),\\dots,(15,15)\\}$$\n",
    "giving 121 scenarios."
   ]
  },
  {
   "cell_type": "code",
   "execution_count": 1,
   "metadata": {
    "collapsed": true,
    "deletable": true,
    "editable": true
   },
   "outputs": [],
   "source": [
    "RELAX_LP = False"
   ]
  },
  {
   "cell_type": "code",
   "execution_count": 5,
   "metadata": {
    "collapsed": false,
    "deletable": true,
    "editable": true
   },
   "outputs": [],
   "source": [
    "from __future__ import division\n",
    "from cobra import Model\n",
    "from dynamicme.optimize import Variable, Constraint\n",
    "from six import iteritems\n",
    "from dynamicme.decomposition.LagrangeMaster import LagrangeMaster\n",
    "from dynamicme.decomposition.LagrangeSubmodel import LagrangeSubmodel\n",
    "\n",
    "\n",
    "import numpy as np\n",
    "import pandas as pd"
   ]
  },
  {
   "cell_type": "code",
   "execution_count": 6,
   "metadata": {
    "collapsed": false,
    "deletable": true,
    "editable": true
   },
   "outputs": [
    {
     "name": "stdout",
     "output_type": "stream",
     "text": [
      "Scenarios: 121\n"
     ]
    }
   ],
   "source": [
    "zetas = [(i,j) for i in np.arange(5,16) for j in np.arange(5,16)]\n",
    "print('Scenarios: %s'%len(zetas))"
   ]
  },
  {
   "cell_type": "code",
   "execution_count": 7,
   "metadata": {
    "collapsed": false,
    "deletable": true,
    "editable": true
   },
   "outputs": [],
   "source": [
    "cx = -np.array([3/2, 4])\n",
    "fy = -np.array([16, 19, 23, 28])\n",
    "xl = [0, 0]\n",
    "xu = [5, 5]\n",
    "A  = [[2,3,4,5],\n",
    "      [6,1,3,2]]\n",
    "\n",
    "sub_dict = {}\n",
    "for k,zeta in enumerate(zetas):\n",
    "    mdl = Model('sub')    \n",
    "    ys  = [Variable('y_%d'%j, lower_bound=0, upper_bound=1, objective_coefficient=fy[j]) for j in range(len(fy))]\n",
    "    xs  = [Variable('x_%d'%j, lower_bound=xl[j], upper_bound=xu[j], objective_coefficient=cx[j]) for j in range(len(cx))]\n",
    "    for x in xs:\n",
    "        x.variable_kind = 'integer'\n",
    "    for y in ys:\n",
    "        y.variable_kind = 'integer'\n",
    "    mdl.add_reactions(xs+ys)\n",
    "    for i,ai in enumerate(A):\n",
    "        cons = Constraint('cons_%d'%i)\n",
    "        cons._constraint_sense = 'L'\n",
    "        cons._bound = zeta[i]\n",
    "        xs[i].add_metabolites({cons:1})\n",
    "        for j,aij in enumerate(ai):\n",
    "            ys[j].add_metabolites({cons:aij})\n",
    "    sub_id = 'scen_%d'%k\n",
    "    sub = LagrangeSubmodel(mdl, sub_id, first_stage_vars=xs)\n",
    "    sub._weight = 1./len(zetas)\n",
    "    sub_dict[sub_id] = sub"
   ]
  },
  {
   "cell_type": "code",
   "execution_count": 8,
   "metadata": {
    "collapsed": false,
    "deletable": true,
    "editable": true
   },
   "outputs": [],
   "source": [
    "master = LagrangeMaster(mdl, first_stage_vars=xs)\n",
    "master._INF = 1e8\n",
    "master.add_submodels(sub_dict)\n",
    "master._z.LB = -master._INF\n",
    "master._z.UB = master._INF\n",
    "master.model.Params.Presolve = 0\n",
    "master.model.update()\n",
    "master.model.Params.NodefileStart = 3.\n",
    "for sub in sub_dict.values():\n",
    "    sub.model.Params.NodefileStart = 3."
   ]
  },
  {
   "cell_type": "code",
   "execution_count": 9,
   "metadata": {
    "collapsed": false,
    "deletable": true,
    "editable": true,
    "scrolled": false
   },
   "outputs": [
    {
     "name": "stdout",
     "output_type": "stream",
     "text": [
      "    Iter                    UB                    LB       gap relgap(%)   penalty                       Time(s)\n",
      "  ------   -------------------   -------------------  -------- ---------  -------- -----------------------------\n",
      "               Dual   Feasible        Sub       Best                                   total    master       sub\n",
      "       0     -56.28     -56.28     -70.58     -70.58      14.3      25.4         0  0.239263  0.001464  0.129936\n",
      "      10      -63.6     -56.28     -66.51     -65.24     1.649     2.593     0.372  2.407781  0.015098  0.104748\n",
      "      15     -64.15     -56.28     -64.15     -64.15 3.677e-06 5.732e-06  4.13e-08  3.621912  0.048041  0.159758\n",
      "Unknown heuristic: heuristic\n",
      "Feasible solution not among alt opt. Trying next iteration.\n",
      "      16     -64.15     -62.29     -64.15     -64.15         0         0  4.72e-11  73.08630  0.038386  0.245069\n",
      "Unknown heuristic: heuristic\n",
      "Feasible solution not among alt opt. Trying next iteration.\n",
      "Master ascent of 6.75355181556e-07 < 1e-06  below threshold. Stopping.\n",
      "      16     -64.15     -62.29     -64.15     -64.15         0         0  4.72e-11  74.54220  0.038386  0.245069\n"
     ]
    }
   ],
   "source": [
    "master.gaptol = 1e-3\n",
    "master.penaltytol = 1e-6 #1e-4\n",
    "master.delta_mult = 0.5\n",
    "master.delta_min = 0\n",
    "master.bundle_mult = 0.1\n",
    "\n",
    "feasible_methods = ['heuristic','enumerate']\n",
    "alt_method = 'pool'\n",
    "max_alt = 10\n",
    "\n",
    "\n",
    "if RELAX_LP:\n",
    "    master.verbosity=2\n",
    "    master.max_iter = 100\n",
    "    sol_master = master.solve_relaxed(feasible_methods=None)\n",
    "    df_phase1 = pd.DataFrame(master.log_rows)\n",
    "\n",
    "master.gaptol = 0.01\n",
    "master.verbosity=1\n",
    "master.max_iter = 100\n",
    "master.max_max_alt = 100\n",
    "sol_master = master.optimize(feasible_methods=feasible_methods, max_alt=max_alt, alt_method=alt_method,\n",
    "                             early_heuristics=['average']) \n",
    "df_phase2 = pd.DataFrame(master.log_rows)"
   ]
  },
  {
   "cell_type": "code",
   "execution_count": 10,
   "metadata": {
    "collapsed": false,
    "deletable": true,
    "editable": true
   },
   "outputs": [
    {
     "data": {
      "text/plain": [
       "-64.14765819907188"
      ]
     },
     "execution_count": 10,
     "metadata": {},
     "output_type": "execute_result"
    }
   ],
   "source": [
    "master._z.X"
   ]
  },
  {
   "cell_type": "code",
   "execution_count": 11,
   "metadata": {
    "collapsed": false,
    "deletable": true,
    "editable": true
   },
   "outputs": [
    {
     "data": {
      "text/plain": [
       "-64.14765842628384"
      ]
     },
     "execution_count": 11,
     "metadata": {},
     "output_type": "execute_result"
    }
   ],
   "source": [
    "master.solve_lagrangian(master.uopt)"
   ]
  },
  {
   "cell_type": "code",
   "execution_count": 12,
   "metadata": {
    "collapsed": false,
    "deletable": true,
    "editable": true
   },
   "outputs": [
    {
     "data": {
      "text/html": [
       "<div>\n",
       "<style scoped>\n",
       "    .dataframe tbody tr th:only-of-type {\n",
       "        vertical-align: middle;\n",
       "    }\n",
       "\n",
       "    .dataframe tbody tr th {\n",
       "        vertical-align: top;\n",
       "    }\n",
       "\n",
       "    .dataframe thead th {\n",
       "        text-align: right;\n",
       "    }\n",
       "</style>\n",
       "<table border=\"1\" class=\"dataframe\">\n",
       "  <thead>\n",
       "    <tr style=\"text-align: right;\">\n",
       "      <th></th>\n",
       "      <th>LB</th>\n",
       "      <th>bestLB</th>\n",
       "      <th>bestUB</th>\n",
       "      <th>delta</th>\n",
       "      <th>feasUB</th>\n",
       "      <th>gap</th>\n",
       "      <th>iter</th>\n",
       "      <th>relgap</th>\n",
       "      <th>res_u</th>\n",
       "      <th>t_master</th>\n",
       "      <th>t_sub</th>\n",
       "      <th>t_total</th>\n",
       "    </tr>\n",
       "  </thead>\n",
       "  <tbody>\n",
       "    <tr>\n",
       "      <th>0</th>\n",
       "      <td>-70.578512</td>\n",
       "      <td>-70.578512</td>\n",
       "      <td>-56.280992</td>\n",
       "      <td>1.000000</td>\n",
       "      <td>-56.280992</td>\n",
       "      <td>14.297521</td>\n",
       "      <td>0</td>\n",
       "      <td>25.403818</td>\n",
       "      <td>0.000000e+00</td>\n",
       "      <td>0.001465</td>\n",
       "      <td>0.129937</td>\n",
       "      <td>0.163647</td>\n",
       "    </tr>\n",
       "    <tr>\n",
       "      <th>1</th>\n",
       "      <td>-70.519637</td>\n",
       "      <td>-70.519637</td>\n",
       "      <td>-70.519636</td>\n",
       "      <td>0.500000</td>\n",
       "      <td>-56.280992</td>\n",
       "      <td>0.000000</td>\n",
       "      <td>1</td>\n",
       "      <td>0.000000</td>\n",
       "      <td>2.943788e-02</td>\n",
       "      <td>0.003267</td>\n",
       "      <td>0.094255</td>\n",
       "      <td>0.377563</td>\n",
       "    </tr>\n",
       "    <tr>\n",
       "      <th>2</th>\n",
       "      <td>-70.401885</td>\n",
       "      <td>-70.401885</td>\n",
       "      <td>-70.401886</td>\n",
       "      <td>0.250000</td>\n",
       "      <td>-56.280992</td>\n",
       "      <td>0.000000</td>\n",
       "      <td>2</td>\n",
       "      <td>0.000000</td>\n",
       "      <td>5.887576e-02</td>\n",
       "      <td>0.003287</td>\n",
       "      <td>0.098272</td>\n",
       "      <td>0.592344</td>\n",
       "    </tr>\n",
       "    <tr>\n",
       "      <th>3</th>\n",
       "      <td>-70.166382</td>\n",
       "      <td>-70.166382</td>\n",
       "      <td>-70.166382</td>\n",
       "      <td>0.125000</td>\n",
       "      <td>-56.280992</td>\n",
       "      <td>0.000000</td>\n",
       "      <td>3</td>\n",
       "      <td>0.000000</td>\n",
       "      <td>1.177515e-01</td>\n",
       "      <td>0.003682</td>\n",
       "      <td>0.096656</td>\n",
       "      <td>0.807646</td>\n",
       "    </tr>\n",
       "    <tr>\n",
       "      <th>4</th>\n",
       "      <td>-69.707534</td>\n",
       "      <td>-69.707534</td>\n",
       "      <td>-69.695376</td>\n",
       "      <td>0.062500</td>\n",
       "      <td>-56.280992</td>\n",
       "      <td>0.012158</td>\n",
       "      <td>4</td>\n",
       "      <td>0.017444</td>\n",
       "      <td>2.355030e-01</td>\n",
       "      <td>0.005035</td>\n",
       "      <td>0.097217</td>\n",
       "      <td>1.025621</td>\n",
       "    </tr>\n",
       "    <tr>\n",
       "      <th>5</th>\n",
       "      <td>-68.927310</td>\n",
       "      <td>-68.927310</td>\n",
       "      <td>-68.777047</td>\n",
       "      <td>0.031250</td>\n",
       "      <td>-56.280992</td>\n",
       "      <td>0.150264</td>\n",
       "      <td>5</td>\n",
       "      <td>0.218479</td>\n",
       "      <td>4.640412e-01</td>\n",
       "      <td>0.005628</td>\n",
       "      <td>0.098595</td>\n",
       "      <td>1.247802</td>\n",
       "    </tr>\n",
       "    <tr>\n",
       "      <th>6</th>\n",
       "      <td>-67.905667</td>\n",
       "      <td>-67.905667</td>\n",
       "      <td>-67.502049</td>\n",
       "      <td>0.015625</td>\n",
       "      <td>-56.280992</td>\n",
       "      <td>0.403618</td>\n",
       "      <td>6</td>\n",
       "      <td>0.597935</td>\n",
       "      <td>6.995459e-01</td>\n",
       "      <td>0.007749</td>\n",
       "      <td>0.102395</td>\n",
       "      <td>1.473938</td>\n",
       "    </tr>\n",
       "    <tr>\n",
       "      <th>7</th>\n",
       "      <td>-66.710641</td>\n",
       "      <td>-66.710641</td>\n",
       "      <td>-65.643798</td>\n",
       "      <td>0.007812</td>\n",
       "      <td>-56.280992</td>\n",
       "      <td>1.066844</td>\n",
       "      <td>7</td>\n",
       "      <td>1.625201</td>\n",
       "      <td>1.037108e+00</td>\n",
       "      <td>0.008872</td>\n",
       "      <td>0.106184</td>\n",
       "      <td>1.707151</td>\n",
       "    </tr>\n",
       "    <tr>\n",
       "      <th>8</th>\n",
       "      <td>-65.855593</td>\n",
       "      <td>-65.855593</td>\n",
       "      <td>-64.167812</td>\n",
       "      <td>0.003906</td>\n",
       "      <td>-56.280992</td>\n",
       "      <td>1.687781</td>\n",
       "      <td>8</td>\n",
       "      <td>2.630261</td>\n",
       "      <td>1.129446e+00</td>\n",
       "      <td>0.010762</td>\n",
       "      <td>0.105807</td>\n",
       "      <td>1.944247</td>\n",
       "    </tr>\n",
       "    <tr>\n",
       "      <th>9</th>\n",
       "      <td>-65.244299</td>\n",
       "      <td>-65.244299</td>\n",
       "      <td>-63.385585</td>\n",
       "      <td>0.001953</td>\n",
       "      <td>-56.280992</td>\n",
       "      <td>1.858713</td>\n",
       "      <td>9</td>\n",
       "      <td>2.932391</td>\n",
       "      <td>7.198929e-01</td>\n",
       "      <td>0.011768</td>\n",
       "      <td>0.101445</td>\n",
       "      <td>2.174925</td>\n",
       "    </tr>\n",
       "    <tr>\n",
       "      <th>10</th>\n",
       "      <td>-66.512106</td>\n",
       "      <td>-65.244299</td>\n",
       "      <td>-63.595213</td>\n",
       "      <td>0.000977</td>\n",
       "      <td>-56.280992</td>\n",
       "      <td>1.649085</td>\n",
       "      <td>10</td>\n",
       "      <td>2.593096</td>\n",
       "      <td>3.721628e-01</td>\n",
       "      <td>0.015098</td>\n",
       "      <td>0.104748</td>\n",
       "      <td>2.407708</td>\n",
       "    </tr>\n",
       "    <tr>\n",
       "      <th>11</th>\n",
       "      <td>-64.843386</td>\n",
       "      <td>-64.843386</td>\n",
       "      <td>-63.982501</td>\n",
       "      <td>0.000488</td>\n",
       "      <td>-56.280992</td>\n",
       "      <td>0.860885</td>\n",
       "      <td>11</td>\n",
       "      <td>1.345501</td>\n",
       "      <td>1.763724e-01</td>\n",
       "      <td>0.019819</td>\n",
       "      <td>0.100837</td>\n",
       "      <td>2.568469</td>\n",
       "    </tr>\n",
       "    <tr>\n",
       "      <th>12</th>\n",
       "      <td>-64.214487</td>\n",
       "      <td>-64.214487</td>\n",
       "      <td>-64.120969</td>\n",
       "      <td>0.000244</td>\n",
       "      <td>-56.280992</td>\n",
       "      <td>0.093518</td>\n",
       "      <td>12</td>\n",
       "      <td>0.145846</td>\n",
       "      <td>2.352104e-02</td>\n",
       "      <td>0.036410</td>\n",
       "      <td>0.102186</td>\n",
       "      <td>2.826774</td>\n",
       "    </tr>\n",
       "    <tr>\n",
       "      <th>13</th>\n",
       "      <td>-64.181321</td>\n",
       "      <td>-64.181321</td>\n",
       "      <td>-64.163310</td>\n",
       "      <td>0.000122</td>\n",
       "      <td>-56.280992</td>\n",
       "      <td>0.018011</td>\n",
       "      <td>13</td>\n",
       "      <td>0.028071</td>\n",
       "      <td>3.229979e-03</td>\n",
       "      <td>0.025824</td>\n",
       "      <td>0.096619</td>\n",
       "      <td>3.063958</td>\n",
       "    </tr>\n",
       "    <tr>\n",
       "      <th>14</th>\n",
       "      <td>-64.147659</td>\n",
       "      <td>-64.147659</td>\n",
       "      <td>-64.147660</td>\n",
       "      <td>0.000061</td>\n",
       "      <td>-56.280992</td>\n",
       "      <td>0.000001</td>\n",
       "      <td>14</td>\n",
       "      <td>0.000002</td>\n",
       "      <td>4.014507e-05</td>\n",
       "      <td>0.024393</td>\n",
       "      <td>0.098355</td>\n",
       "      <td>3.298974</td>\n",
       "    </tr>\n",
       "    <tr>\n",
       "      <th>15</th>\n",
       "      <td>-64.147659</td>\n",
       "      <td>-64.147659</td>\n",
       "      <td>-64.147662</td>\n",
       "      <td>0.000031</td>\n",
       "      <td>-56.280992</td>\n",
       "      <td>0.000004</td>\n",
       "      <td>15</td>\n",
       "      <td>0.000006</td>\n",
       "      <td>4.126622e-08</td>\n",
       "      <td>0.048041</td>\n",
       "      <td>0.159758</td>\n",
       "      <td>3.621859</td>\n",
       "    </tr>\n",
       "    <tr>\n",
       "      <th>16</th>\n",
       "      <td>-64.147658</td>\n",
       "      <td>-64.147658</td>\n",
       "      <td>-64.147658</td>\n",
       "      <td>0.000015</td>\n",
       "      <td>-62.289256</td>\n",
       "      <td>0.000000</td>\n",
       "      <td>16</td>\n",
       "      <td>0.000000</td>\n",
       "      <td>4.719728e-11</td>\n",
       "      <td>0.038386</td>\n",
       "      <td>0.245069</td>\n",
       "      <td>73.086221</td>\n",
       "    </tr>\n",
       "    <tr>\n",
       "      <th>17</th>\n",
       "      <td>-64.147658</td>\n",
       "      <td>-64.147658</td>\n",
       "      <td>-64.147658</td>\n",
       "      <td>0.000008</td>\n",
       "      <td>-62.289256</td>\n",
       "      <td>0.000000</td>\n",
       "      <td>16</td>\n",
       "      <td>0.000000</td>\n",
       "      <td>4.719728e-11</td>\n",
       "      <td>0.038386</td>\n",
       "      <td>0.245069</td>\n",
       "      <td>74.542203</td>\n",
       "    </tr>\n",
       "  </tbody>\n",
       "</table>\n",
       "</div>"
      ],
      "text/plain": [
       "           LB     bestLB     bestUB     delta     feasUB        gap  iter  \\\n",
       "0  -70.578512 -70.578512 -56.280992  1.000000 -56.280992  14.297521     0   \n",
       "1  -70.519637 -70.519637 -70.519636  0.500000 -56.280992   0.000000     1   \n",
       "2  -70.401885 -70.401885 -70.401886  0.250000 -56.280992   0.000000     2   \n",
       "3  -70.166382 -70.166382 -70.166382  0.125000 -56.280992   0.000000     3   \n",
       "4  -69.707534 -69.707534 -69.695376  0.062500 -56.280992   0.012158     4   \n",
       "5  -68.927310 -68.927310 -68.777047  0.031250 -56.280992   0.150264     5   \n",
       "6  -67.905667 -67.905667 -67.502049  0.015625 -56.280992   0.403618     6   \n",
       "7  -66.710641 -66.710641 -65.643798  0.007812 -56.280992   1.066844     7   \n",
       "8  -65.855593 -65.855593 -64.167812  0.003906 -56.280992   1.687781     8   \n",
       "9  -65.244299 -65.244299 -63.385585  0.001953 -56.280992   1.858713     9   \n",
       "10 -66.512106 -65.244299 -63.595213  0.000977 -56.280992   1.649085    10   \n",
       "11 -64.843386 -64.843386 -63.982501  0.000488 -56.280992   0.860885    11   \n",
       "12 -64.214487 -64.214487 -64.120969  0.000244 -56.280992   0.093518    12   \n",
       "13 -64.181321 -64.181321 -64.163310  0.000122 -56.280992   0.018011    13   \n",
       "14 -64.147659 -64.147659 -64.147660  0.000061 -56.280992   0.000001    14   \n",
       "15 -64.147659 -64.147659 -64.147662  0.000031 -56.280992   0.000004    15   \n",
       "16 -64.147658 -64.147658 -64.147658  0.000015 -62.289256   0.000000    16   \n",
       "17 -64.147658 -64.147658 -64.147658  0.000008 -62.289256   0.000000    16   \n",
       "\n",
       "       relgap         res_u  t_master     t_sub    t_total  \n",
       "0   25.403818  0.000000e+00  0.001465  0.129937   0.163647  \n",
       "1    0.000000  2.943788e-02  0.003267  0.094255   0.377563  \n",
       "2    0.000000  5.887576e-02  0.003287  0.098272   0.592344  \n",
       "3    0.000000  1.177515e-01  0.003682  0.096656   0.807646  \n",
       "4    0.017444  2.355030e-01  0.005035  0.097217   1.025621  \n",
       "5    0.218479  4.640412e-01  0.005628  0.098595   1.247802  \n",
       "6    0.597935  6.995459e-01  0.007749  0.102395   1.473938  \n",
       "7    1.625201  1.037108e+00  0.008872  0.106184   1.707151  \n",
       "8    2.630261  1.129446e+00  0.010762  0.105807   1.944247  \n",
       "9    2.932391  7.198929e-01  0.011768  0.101445   2.174925  \n",
       "10   2.593096  3.721628e-01  0.015098  0.104748   2.407708  \n",
       "11   1.345501  1.763724e-01  0.019819  0.100837   2.568469  \n",
       "12   0.145846  2.352104e-02  0.036410  0.102186   2.826774  \n",
       "13   0.028071  3.229979e-03  0.025824  0.096619   3.063958  \n",
       "14   0.000002  4.014507e-05  0.024393  0.098355   3.298974  \n",
       "15   0.000006  4.126622e-08  0.048041  0.159758   3.621859  \n",
       "16   0.000000  4.719728e-11  0.038386  0.245069  73.086221  \n",
       "17   0.000000  4.719728e-11  0.038386  0.245069  74.542203  "
      ]
     },
     "execution_count": 12,
     "metadata": {},
     "output_type": "execute_result"
    }
   ],
   "source": [
    "df_phase2"
   ]
  },
  {
   "cell_type": "code",
   "execution_count": 13,
   "metadata": {
    "collapsed": false,
    "deletable": true,
    "editable": true
   },
   "outputs": [
    {
     "data": {
      "text/plain": [
       "<seaborn.axisgrid.FacetGrid at 0x7fb005a14850>"
      ]
     },
     "execution_count": 13,
     "metadata": {},
     "output_type": "execute_result"
    },
    {
     "data": {
      "image/png": "[encoded data removed]",
      "text/plain": [
       "<matplotlib.figure.Figure at 0x7fb005a3ec10>"
      ]
     },
     "metadata": {},
     "output_type": "display_data"
    }
   ],
   "source": [
    "import seaborn as sns\n",
    "import matplotlib.pyplot as plt\n",
    "%matplotlib inline\n",
    "\n",
    "xcol = 'iter'\n",
    "if RELAX_LP:\n",
    "    df_phase1.loc[:,'phase'] = 1\n",
    "    df_phase1.loc[:,'feasUB'] = np.nan\n",
    "    df_phase1.loc[ df_phase1.bestUB>1e6,'bestUB'] = np.nan\n",
    "\n",
    "df_phase2.loc[:,'phase'] = 2\n",
    "df_phase2.loc[ df_phase2.feasUB>1e6,'feasUB'] = np.nan\n",
    "if RELAX_LP:\n",
    "    dsplot = pd.concat([df_phase1, df_phase2])\n",
    "else:\n",
    "    dsplot = df_phase2\n",
    "dsplot = dsplot[[xcol,'feasUB','bestUB','bestLB','phase']]\n",
    "dsplot = dsplot.melt(id_vars=[xcol,'phase'])\n",
    "\n",
    "g = sns.FacetGrid(dsplot, hue='variable', size=3, aspect=3, row='phase', sharey=False)\n",
    "g.map(plt.plot, xcol,'value', marker='o', markersize=4)\n",
    "g.add_legend()"
   ]
  },
  {
   "cell_type": "code",
   "execution_count": 14,
   "metadata": {
    "collapsed": false,
    "deletable": true,
    "editable": true
   },
   "outputs": [],
   "source": [
    "objfun = master.model.getObjective()"
   ]
  },
  {
   "cell_type": "code",
   "execution_count": 15,
   "metadata": {
    "collapsed": false,
    "deletable": true,
    "editable": true
   },
   "outputs": [
    {
     "name": "stdout",
     "output_type": "stream",
     "text": [
      "<gurobi.LinExpr: tk_scen_19 + u_80 + 5.0 u_81> < -56.5\n",
      "<gurobi.LinExpr: tk_scen_24 + 3.0 u_981> < -54.0\n"
     ]
    }
   ],
   "source": [
    "for i in [10, 100]: #, 1000, 10000]:\n",
    "    cons = master.model.getConstrs()[i]\n",
    "    print(\"%s %s %s\" % (master.model.getRow(cons), cons.Sense, cons.RHS))"
   ]
  },
  {
   "cell_type": "markdown",
   "metadata": {
    "collapsed": false,
    "deletable": true,
    "editable": true
   },
   "source": [
    "for i in range(len(master.model.getConstrs())):\n",
    "    cons = master.model.getConstrs()[i]\n",
    "    print(\"%s %s %s\" % (master.model.getRow(cons), cons.Sense, cons.RHS))"
   ]
  }
 ],
 "metadata": {
  "kernelspec": {
   "display_name": "Python 2",
   "language": "python",
   "name": "python2"
  },
  "language_info": {
   "codemirror_mode": {
    "name": "ipython",
    "version": 2
   },
   "file_extension": ".py",
   "mimetype": "text/x-python",
   "name": "python",
   "nbconvert_exporter": "python",
   "pygments_lexer": "ipython2",
   "version": "2.7.14"
  }
 },
 "nbformat": 4,
 "nbformat_minor": 2
}
