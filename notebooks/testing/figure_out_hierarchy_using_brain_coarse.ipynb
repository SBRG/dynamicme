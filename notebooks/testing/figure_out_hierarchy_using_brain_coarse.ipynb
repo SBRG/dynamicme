{
 "cells": [
  {
   "cell_type": "markdown",
   "metadata": {
    "deletable": true,
    "editable": true
   },
   "source": [
    "# Can figure out substrate uptake hierarchy without running the whole simulation"
   ]
  },
  {
   "cell_type": "markdown",
   "metadata": {
    "deletable": true,
    "editable": true
   },
   "source": [
    "# Match individual growth rates first\n",
    "# Using coarse model"
   ]
  },
  {
   "cell_type": "markdown",
   "metadata": {},
   "source": [
    "## Ways to use gradient information\n",
    "- correlation between Z and params_i\n",
    "- confidence interval of dzdx (its sign)"
   ]
  },
  {
   "cell_type": "code",
   "execution_count": 1,
   "metadata": {
    "collapsed": false,
    "deletable": true,
    "editable": true
   },
   "outputs": [],
   "source": [
    "import seaborn as sns\n",
    "import pandas as pd\n",
    "import matplotlib.pyplot as plt\n",
    "\n",
    "plt.rcParams['svg.fonttype'] = 'none'\n",
    "pd.set_option('display.max_colwidth', -1)\n",
    "%matplotlib inline"
   ]
  },
  {
   "cell_type": "code",
   "execution_count": 2,
   "metadata": {
    "collapsed": true,
    "deletable": true,
    "editable": true
   },
   "outputs": [],
   "source": [
    "PROTOTYPE = False"
   ]
  },
  {
   "cell_type": "code",
   "execution_count": 3,
   "metadata": {
    "collapsed": true,
    "deletable": true,
    "editable": true
   },
   "outputs": [],
   "source": [
    "from dynamicme.tests.helpme import HelpME\n",
    "from dynamicme.dynamic import get_cplx_concs\n",
    "\n",
    "helper = HelpME(prototyping=PROTOTYPE)\n",
    "solver = helper.solver\n",
    "me = solver.me"
   ]
  },
  {
   "cell_type": "markdown",
   "metadata": {
    "deletable": true,
    "editable": true
   },
   "source": [
    "## Change keffs until uptake hierarchy correct"
   ]
  },
  {
   "cell_type": "code",
   "execution_count": 4,
   "metadata": {
    "collapsed": false,
    "deletable": true,
    "editable": true
   },
   "outputs": [
    {
     "name": "stdout",
     "output_type": "stream",
     "text": [
      "biggids not mapped: 252\n"
     ]
    }
   ],
   "source": [
    "import numpy as np\n",
    "\n",
    "df_dh = pd.read_csv('/home/laurence/ME/data/DHeckmann/kappmax_rf_dl_iJO.csv')\n",
    "\n",
    "import re\n",
    "from cobra.io import load_json_model\n",
    "\n",
    "ijo = load_json_model('/home/laurence/ME/models/BiGG_M/json/iJO1366.json')\n",
    "\n",
    "rows = []\n",
    "biggids = df_dh['bigg.id'].apply(lambda x: re.sub(r'(_[b|f]$)', '',x)).unique()\n",
    "missed = []\n",
    "for biggid in biggids:\n",
    "    try:\n",
    "        sdata = me.stoichiometric_data.get_by_id(biggid)\n",
    "        mrxn = ijo.reactions.get_by_id(biggid)\n",
    "        rname = mrxn.name        \n",
    "        for rxn in sdata.parent_reactions:\n",
    "            mmol_gDW = rxn.x / rxn.keff / 3600\n",
    "            rows.append({'bigg_id':biggid, 'rxn':rxn.id, 'name':rname, 'keff_nominal':rxn.keff, 'subsystem':mrxn.subsystem, 'reaction':mrxn.reaction, 'mmol_gDW':mmol_gDW})\n",
    "    except KeyError:\n",
    "        missed.append(biggid)\n",
    "        \n",
    "df_rmap = pd.DataFrame(rows)\n",
    "        \n",
    "print 'biggids not mapped:', len(missed)"
   ]
  },
  {
   "cell_type": "code",
   "execution_count": 5,
   "metadata": {
    "collapsed": false,
    "deletable": true,
    "editable": true
   },
   "outputs": [
    {
     "name": "stdout",
     "output_type": "stream",
     "text": [
      "Subsystems: 35\n",
      "Rxns within alternate carbon metab: 285\n",
      "Expressed protein (mmol/gDW): 0.00495155284852\n"
     ]
    }
   ],
   "source": [
    "print 'Subsystems:', len(df_rmap.subsystem.unique())\n",
    "print 'Rxns within alternate carbon metab:', len(df_rmap.rxn[ df_rmap.subsystem=='Alternate Carbon Metabolism'])\n",
    "\n",
    "ProtM = df_rmap.mmol_gDW.sum()\n",
    "print 'Expressed protein (mmol/gDW):', ProtM"
   ]
  },
  {
   "cell_type": "code",
   "execution_count": 6,
   "metadata": {
    "collapsed": false,
    "deletable": true,
    "editable": true
   },
   "outputs": [
    {
     "name": "stdout",
     "output_type": "stream",
     "text": [
      "CPU times: user 1.64 s, sys: 3.33 ms, total: 1.64 s\n",
      "Wall time: 1.63 s\n"
     ]
    }
   ],
   "source": [
    "%%time\n",
    "\n",
    "KEFF_SCALE = 0.32\n",
    "\n",
    "from cobra import Metabolite, Reaction\n",
    "\n",
    "ijomc = load_json_model('/home/laurence/ME/models/BiGG_M/json/iJO1366.json')\n",
    "\n",
    "cons_crowding = Metabolite('crowding')\n",
    "ijomc.add_metabolites([cons_crowding])\n",
    "\n",
    "# sum_j v/keff  <= P [mmol/gDW]\n",
    "\n",
    "for rid in df_rmap.bigg_id.unique():    \n",
    "    dfi = df_rmap[ df_rmap.bigg_id==rid]\n",
    "    keff_nom = dfi['keff_nominal'].mean()\n",
    "    rxn = ijomc.reactions.get_by_id(rid)\n",
    "    if rxn.lower_bound < 0:\n",
    "        rxn_abs = Reaction(rxn.id + '_abs')\n",
    "        ijomc.add_reaction(rxn_abs)\n",
    "        # rabs >= r  :  rabs - r >= 0\n",
    "        # rabs >= -r :  rabs + r >= 0        \n",
    "        cons_abs_p = Metabolite('cons_'+rxn.id+'_abs_p')\n",
    "        cons_abs_n = Metabolite('cons_'+rxn.id+'_abs_n')\n",
    "        cons_abs_p._constraint_sense = 'G'\n",
    "        cons_abs_n._constraint_sense = 'G'\n",
    "        rxn_abs.add_metabolites({cons_abs_p: 1., cons_abs_n: 1.})\n",
    "        rxn.add_metabolites({cons_abs_p:-1., cons_abs_n:1.})\n",
    "        keff = keff_nom * KEFF_SCALE\n",
    "        rxn_abs.add_metabolites({cons_crowding:1./keff/3600 })\n",
    "    else:\n",
    "        rxn.add_metabolites({cons_crowding:1./keff_nom/3600})\n",
    "\n",
    "cons_crowding._constraint_sense = 'L'\n",
    "cons_crowding._bound = ProtM"
   ]
  },
  {
   "cell_type": "code",
   "execution_count": 7,
   "metadata": {
    "collapsed": false,
    "deletable": true,
    "editable": true
   },
   "outputs": [
    {
     "data": {
      "text/plain": [
       "<Solution 0.74 at 0x7f7d828834d0>"
      ]
     },
     "execution_count": 7,
     "metadata": {},
     "output_type": "execute_result"
    }
   ],
   "source": [
    "ijomc.optimize(solver='gurobi')"
   ]
  },
  {
   "cell_type": "code",
   "execution_count": 8,
   "metadata": {
    "collapsed": true,
    "deletable": true,
    "editable": true
   },
   "outputs": [],
   "source": [
    "df_meas = pd.read_csv('/home/laurence/ME/data/dynamicME/beg/growth_meas.csv')"
   ]
  },
  {
   "cell_type": "code",
   "execution_count": 9,
   "metadata": {
    "collapsed": true,
    "deletable": true,
    "editable": true
   },
   "outputs": [],
   "source": [
    "rank_meas = {'EX_ac_e': 5,\n",
    "             'EX_gal_e': 2,\n",
    "             'EX_glc__D_e': 0,\n",
    "             'EX_glyc_e': 4,\n",
    "             'EX_lac__L_e': 1,\n",
    "             'EX_malt_e': 3\n",
    "            }    "
   ]
  },
  {
   "cell_type": "code",
   "execution_count": 10,
   "metadata": {
    "collapsed": false,
    "deletable": true,
    "editable": true
   },
   "outputs": [
    {
     "name": "stdout",
     "output_type": "stream",
     "text": [
      "CPU times: user 4.75 s, sys: 6.67 ms, total: 4.75 s\n",
      "Wall time: 4.75 s\n"
     ]
    }
   ],
   "source": [
    "%%time\n",
    "\n",
    "mrows = []\n",
    "ZERO = 1e-8\n",
    "\n",
    "for ex_id in rank_meas.keys():\n",
    "    # Reset first\n",
    "    for rid in rank_meas.keys():\n",
    "        rxn = ijomc.reactions.get_by_id(rid)\n",
    "        rxn.lower_bound = 0.\n",
    "    rxn = ijomc.reactions.get_by_id(ex_id)\n",
    "    rxn.lower_bound = -10\n",
    "    ijomc.optimize()\n",
    "    mmu = ijomc.reactions.BIOMASS_Ec_iJO1366_core_53p95M.x\n",
    "    # Was the MC constraint active?\n",
    "    tot_prot = sum([r.x*r.metabolites[cons_crowding] for r in cons_crowding.reactions])\n",
    "    mrows.append({'muopt':mmu, 'ex_rxn':ex_id, 'tot_prot':tot_prot, 'crowding_active':abs(cons_crowding._bound - tot_prot)<ZERO})"
   ]
  },
  {
   "cell_type": "code",
   "execution_count": 11,
   "metadata": {
    "collapsed": false,
    "deletable": true,
    "editable": true
   },
   "outputs": [],
   "source": [
    "df_ijo = pd.DataFrame(mrows)"
   ]
  },
  {
   "cell_type": "code",
   "execution_count": 12,
   "metadata": {
    "collapsed": false,
    "deletable": true,
    "editable": true
   },
   "outputs": [
    {
     "name": "stdout",
     "output_type": "stream",
     "text": [
      "Pearson r=0.936904 (p=0.00584603)\n",
      "Spearman r=0.942857 (p=0.00480466)\n"
     ]
    },
    {
     "data": {
      "image/png": "[encoded data removed]",
      "text/plain": [
       "<matplotlib.figure.Figure at 0x7f7d7f9ac750>"
      ]
     },
     "metadata": {},
     "output_type": "display_data"
    }
   ],
   "source": [
    "import scipy.stats as stats\n",
    "\n",
    "df_val = pd.merge(df_ijo, df_meas, on='ex_rxn')\n",
    "xymax = max(df_val.growth_rate_1_h.max(), df_val.muopt.max())\n",
    "plt.plot([0, xymax*1.15], [0, xymax*1.15], color='#333333')\n",
    "plt.scatter(df_val.growth_rate_1_h, df_val.muopt)\n",
    "for i,r in df_val.iterrows():\n",
    "    x = r['growth_rate_1_h']\n",
    "    y = r['muopt']\n",
    "    k = r['substrate']\n",
    "    ls = plt.text(x, y, k)\n",
    "ax = ls.axes\n",
    "ax.set_aspect(1)\n",
    "ax.figure.set_size_inches(5,5)\n",
    "ax.set_xlabel('Measured growth rate (1/h)')\n",
    "ax.set_ylabel('Predicted growth rate (1/h)')\n",
    "\n",
    "r,p = stats.pearsonr(df_val.growth_rate_1_h, df_val.muopt)\n",
    "print 'Pearson r=%g (p=%g)' % (r,p)\n",
    "r,p = stats.spearmanr(df_val.growth_rate_1_h, df_val.muopt)\n",
    "print 'Spearman r=%g (p=%g)' % (r,p)"
   ]
  },
  {
   "cell_type": "markdown",
   "metadata": {
    "deletable": true,
    "editable": true
   },
   "source": [
    "# Metaheuristics on small model to get growth rates right"
   ]
  },
  {
   "cell_type": "code",
   "execution_count": 13,
   "metadata": {
    "collapsed": true,
    "deletable": true,
    "editable": true
   },
   "outputs": [],
   "source": [
    "df_exp = df_meas[ df_meas.ex_rxn.isin(rank_meas.keys())]\n",
    "meas_dict = {r['ex_rxn']:r['growth_rate_1_h'] for i,r in df_exp.iterrows()}"
   ]
  },
  {
   "cell_type": "code",
   "execution_count": 14,
   "metadata": {
    "collapsed": true,
    "deletable": true,
    "editable": true
   },
   "outputs": [],
   "source": [
    "def sim_fun(mdl):\n",
    "    mu_id = 'BIOMASS_Ec_iJO1366_core_53p95M'\n",
    "    sim_dict = {}\n",
    "    for ex_id in meas_dict.keys():\n",
    "        # Reset first\n",
    "        for rid in meas_dict.keys():\n",
    "            rxn = mdl.reactions.get_by_id(rid)\n",
    "            rxn.lower_bound = 0.\n",
    "        rxn = mdl.reactions.get_by_id(ex_id)\n",
    "        rxn.lower_bound = -10\n",
    "        mdl.optimize(solver='gurobi')\n",
    "        try:\n",
    "            mmu = mdl.reactions.get_by_id(mu_id).x\n",
    "        except Exception:\n",
    "            mmu = 0.\n",
    "        sim_dict[ex_id] = mmu\n",
    "    \n",
    "    return sim_dict"
   ]
  },
  {
   "cell_type": "code",
   "execution_count": 15,
   "metadata": {
    "collapsed": true,
    "deletable": true,
    "editable": true
   },
   "outputs": [],
   "source": [
    "def obj_fun(y_sim, y_meas):\n",
    "    ### Objective function    \n",
    "    sse = sum([ (y - y_sim[r])**2 for r,y in y_meas.iteritems()]) \n",
    "    \n",
    "    return sse"
   ]
  },
  {
   "cell_type": "code",
   "execution_count": 16,
   "metadata": {
    "collapsed": true,
    "deletable": true,
    "editable": true
   },
   "outputs": [],
   "source": [
    "def get_param_fun(mdl):\n",
    "    cons_id = 'crowding'\n",
    "    cons = mdl.metabolites.get_by_id(cons_id)\n",
    "    params = [r.metabolites[cons] for r in cons.reactions]\n",
    "    \n",
    "    return params\n",
    "\n",
    "def set_param_fun(mdl, xs):\n",
    "    cons_id = 'crowding'\n",
    "    cons = mdl.metabolites.get_by_id(cons_id)\n",
    "    for j,rxn in enumerate(cons.reactions):\n",
    "        rxn._metabolites[cons] = xs[j]"
   ]
  },
  {
   "cell_type": "code",
   "execution_count": 17,
   "metadata": {
    "collapsed": false,
    "deletable": true,
    "editable": true
   },
   "outputs": [
    {
     "data": {
      "text/plain": [
       "0.05053794063299855"
      ]
     },
     "execution_count": 17,
     "metadata": {},
     "output_type": "execute_result"
    }
   ],
   "source": [
    "y0 = sim_fun(ijomc)\n",
    "obj_fun(y0, meas_dict)"
   ]
  },
  {
   "cell_type": "code",
   "execution_count": 18,
   "metadata": {
    "collapsed": false,
    "deletable": true,
    "editable": true
   },
   "outputs": [],
   "source": [
    "import copy as cp\n",
    "\n",
    "mdl2 = cp.deepcopy(ijomc)"
   ]
  },
  {
   "cell_type": "code",
   "execution_count": 19,
   "metadata": {
    "collapsed": false,
    "deletable": true,
    "editable": true
   },
   "outputs": [],
   "source": [
    "from dynamicme.metaopt import MetaOpt"
   ]
  },
  {
   "cell_type": "code",
   "execution_count": null,
   "metadata": {
    "collapsed": false,
    "deletable": true,
    "editable": true,
    "scrolled": true
   },
   "outputs": [
    {
     "name": "stdout",
     "output_type": "stream",
     "text": [
      "[Phase I] Iter 0:\t Performing local move: <class 'dynamicme.metaopt.LocalMove'>\n",
      "Obj:0.0459514 \t Best Obj: 0.0257738 \t Tmax:1 \t T:0.0196706 \t Time:0.811789 secs\n",
      "y= {'EX_glyc_e': 0.4273310534960005, 'EX_gal_e': 0.5050365570672107, 'EX_lac__L_e': 0.3990801801349776, 'EX_malt_e': 0.570710513389677, 'EX_ac_e': 0.24719886868344387, 'EX_glc__D_e': 0.5324322925901329}\n",
      "//============================================\n",
      "[Phase I] Iter 1:\t Performing local move: <class 'dynamicme.metaopt.LocalMove'>\n",
      "Obj:0.0264233 \t Best Obj: 0.0257738 \t Tmax:1 \t T:0.00063326 \t Time:0.818717 secs\n",
      "y= {'EX_glyc_e': 0.5011827581383439, 'EX_gal_e': 0.5730131690958598, 'EX_lac__L_e': 0.39908018013497765, 'EX_malt_e': 0.6307476344364579, 'EX_ac_e': 0.24719886868344382, 'EX_glc__D_e': 0.6105902345207858}\n",
      "//============================================\n",
      "[Phase I] Iter 2:\t Performing local move: <class 'dynamicme.metaopt.LocalMove'>\n",
      "Obj:0.0329534 \t Best Obj: 0.0257738 \t Tmax:1 \t T:0.00699928 \t Time:0.814851 secs\n",
      "y= {'EX_glyc_e': 0.5291218501114957, 'EX_gal_e': 0.6259165632975159, 'EX_lac__L_e': 0.3990801801349785, 'EX_malt_e': 0.6937580724598089, 'EX_ac_e': 0.2471992676574871, 'EX_glc__D_e': 0.6749816274641164}\n",
      "//============================================\n",
      "[Phase I] Iter 3:\t Performing local move: <class 'dynamicme.metaopt.LocalMove'>\n",
      "Obj:0.0544256 \t Best Obj: 0.0257738 \t Tmax:1 \t T:0.0279319 \t Time:1.19804 secs\n",
      "y= {'EX_glyc_e': 0.5351540516504399, 'EX_gal_e': 0.6628644630610951, 'EX_lac__L_e': 0.3990801801349781, 'EX_malt_e': 0.7631999786007111, 'EX_ac_e': 0.24719926765748743, 'EX_glc__D_e': 0.7305796807229663}\n",
      "//============================================\n",
      "[Phase I] Iter 4:\t Performing local move: <class 'dynamicme.metaopt.LocalMove'>\n",
      "Obj:0.0316881 \t Best Obj: 0.0257738 \t Tmax:1 \t T:0.00576573 \t Time:0.802965 secs\n",
      "y= {'EX_glyc_e': 0.5370014185420956, 'EX_gal_e': 0.6054197906048233, 'EX_lac__L_e': 0.39908083768076713, 'EX_malt_e': 0.6873812003947027, 'EX_ac_e': 0.247198868683444, 'EX_glc__D_e': 0.662526950044047}\n",
      "//============================================\n",
      "[Phase I] Iter 5:\t Performing local move: <class 'dynamicme.metaopt.LocalMove'>\n",
      "Obj:0.0341167 \t Best Obj: 0.0257738 \t Tmax:1 \t T:0.00813334 \t Time:0.787189 secs\n",
      "y= {'EX_glyc_e': 0.5319390547636579, 'EX_gal_e': 0.5454373405882323, 'EX_lac__L_e': 0.3990801801349778, 'EX_malt_e': 0.6151504036510728, 'EX_ac_e': 0.24719886868344357, 'EX_glc__D_e': 0.5959309529961209}\n",
      "//============================================\n",
      "[Phase I] Iter 6:\t Performing local move: <class 'dynamicme.metaopt.LocalMove'>\n",
      "Obj:0.0377696 \t Best Obj: 0.0257738 \t Tmax:1 \t T:0.0116945 \t Time:0.774967 secs\n",
      "y= {'EX_glyc_e': 0.5618386165781392, 'EX_gal_e': 0.5750807484895722, 'EX_lac__L_e': 0.39908083768076713, 'EX_malt_e': 0.6515467171892779, 'EX_ac_e': 0.2471988686834449, 'EX_glc__D_e': 0.6239722576297341}\n",
      "//============================================\n",
      "[Phase I] Iter 7:\t Performing local move: <class 'dynamicme.metaopt.LocalMove'>\n",
      "Obj:0.0357155 \t Best Obj: 0.0257738 \t Tmax:1 \t T:0.00969195 \t Time:0.824451 secs\n",
      "y= {'EX_glyc_e': 0.5627226959718706, 'EX_gal_e': 0.5638275369764356, 'EX_lac__L_e': 0.39908083768076763, 'EX_malt_e': 0.6429828081234554, 'EX_ac_e': 0.2471992676574863, 'EX_glc__D_e': 0.6271426988152253}\n",
      "//============================================\n",
      "[Phase I] Iter 8:\t Performing local move: <class 'dynamicme.metaopt.LocalMove'>\n",
      "Obj:0.0707101 \t Best Obj: 0.0257738 \t Tmax:1 \t T:0.0438072 \t Time:0.810576 secs\n",
      "y= {'EX_glyc_e': 0.5627902551524862, 'EX_gal_e': 0.679670413133157, 'EX_lac__L_e': 0.39908018013497737, 'EX_malt_e': 0.7761175057334575, 'EX_ac_e': 0.24719926765748695, 'EX_glc__D_e': 0.7571398889012839}\n",
      "//============================================\n",
      "[Phase I] Iter 9:\t Performing local move: <class 'dynamicme.metaopt.LocalMove'>\n",
      "Obj:0.0734598 \t Best Obj: 0.0257738 \t Tmax:1 \t T:0.0464878 \t Time:0.803101 secs\n",
      "y= {'EX_glyc_e': 0.5627902551524924, 'EX_gal_e': 0.6904757034466981, 'EX_lac__L_e': 0.39908083768076635, 'EX_malt_e': 0.7743339831092533, 'EX_ac_e': 0.24719886868344337, 'EX_glc__D_e': 0.745461985294869}\n",
      "//============================================\n",
      "[Phase I] Iter 10:\t Performing local move: <class 'dynamicme.metaopt.LocalMove'>\n",
      "Obj:0.0437044 \t Best Obj: 0.0257738 \t Tmax:1 \t T:0.0174801 \t Time:1.17465 secs\n",
      "y= {'EX_glyc_e': 0.5627902551524887, 'EX_gal_e': 0.6355576499183618, 'EX_lac__L_e': 0.39908083768076613, 'EX_malt_e': 0.7044483848940885, 'EX_ac_e': 0.24719926765748756, 'EX_glc__D_e': 0.6883244476937647}\n",
      "//============================================\n",
      "[Phase I] Iter 11:\t Performing local move: <class 'dynamicme.metaopt.LocalMove'>\n",
      "Obj:0.0435904 \t Best Obj: 0.0257738 \t Tmax:1 \t T:0.0173689 \t Time:0.787046 secs\n",
      "y= {'EX_glyc_e': 0.5627902551524883, 'EX_gal_e': 0.6366814148484141, 'EX_lac__L_e': 0.3990808376807681, 'EX_malt_e': 0.6991084131385181, 'EX_ac_e': 0.24719926765748737, 'EX_glc__D_e': 0.6837087155521168}\n",
      "//============================================\n",
      "[Phase I] Iter 12:\t Performing local move: <class 'dynamicme.metaopt.LocalMove'>\n",
      "Obj:0.0665529 \t Best Obj: 0.0257738 \t Tmax:1 \t T:0.0397545 \t Time:0.79534 secs\n",
      "y= {'EX_glyc_e': 0.5627902551524899, 'EX_gal_e': 0.6840087569240405, 'EX_lac__L_e': 0.39908083768076696, 'EX_malt_e': 0.7582034097633661, 'EX_ac_e': 0.247199267657488, 'EX_glc__D_e': 0.7377875636194493}\n",
      "//============================================\n",
      "[Phase I] Iter 13:\t Performing local move: <class 'dynamicme.metaopt.LocalMove'>\n",
      "Obj:0.105512 \t Best Obj: 0.0257738 \t Tmax:1 \t T:0.0777343 \t Time:0.794759 secs\n",
      "y= {'EX_glyc_e': 0.5627902551524921, 'EX_gal_e': 0.7252958953889216, 'EX_lac__L_e': 0.39908083768076374, 'EX_malt_e': 0.8198963413134025, 'EX_ac_e': 0.24719926765748693, 'EX_glc__D_e': 0.7934571405244651}\n",
      "//============================================\n",
      "[Phase I] Iter 14:\t Performing local move: <class 'dynamicme.metaopt.LocalMove'>\n",
      "Obj:0.12656 \t Best Obj: 0.0257738 \t Tmax:1 \t T:0.0982535 \t Time:0.814188 secs\n",
      "y= {'EX_glyc_e': 0.562790255152492, 'EX_gal_e': 0.7247583273874997, 'EX_lac__L_e': 0.3990808376807694, 'EX_malt_e': 0.8637073563081357, 'EX_ac_e': 0.24719926765748695, 'EX_glc__D_e': 0.8084941498587028}\n",
      "//============================================\n",
      "[Phase I] Iter 15:\t Performing local move: <class 'dynamicme.metaopt.LocalMove'>\n",
      "Obj:0.0509224 \t Best Obj: 0.0257738 \t Tmax:1 \t T:0.0245167 \t Time:0.791413 secs\n",
      "y= {'EX_glyc_e': 0.5627902551524921, 'EX_gal_e': 0.6344297788869935, 'EX_lac__L_e': 0.3990801801349789, 'EX_malt_e': 0.7485514116441313, 'EX_ac_e': 0.2471992676574864, 'EX_glc__D_e': 0.7125447362481832}\n",
      "//============================================\n",
      "[Phase I] Iter 16:\t Performing local move: <class 'dynamicme.metaopt.LocalMove'>\n",
      "Obj:0.0398755 \t Best Obj: 0.0257738 \t Tmax:1 \t T:0.0137475 \t Time:1.156 secs\n",
      "y= {'EX_glyc_e': 0.5627821665744288, 'EX_gal_e': 0.6030516478813742, 'EX_lac__L_e': 0.39908083768076835, 'EX_malt_e': 0.712427199029245, 'EX_ac_e': 0.24719926765748604, 'EX_glc__D_e': 0.6776420198654447}\n",
      "//============================================\n",
      "[Phase I] Iter 17:\t Performing local move: <class 'dynamicme.metaopt.LocalMove'>\n",
      "Obj:0.094373 \t Best Obj: 0.0257738 \t Tmax:1 \t T:0.0668756 \t Time:0.787492 secs\n",
      "y= {'EX_glyc_e': 0.5627902551524934, 'EX_gal_e': 0.6735849591522368, 'EX_lac__L_e': 0.3990801801349774, 'EX_malt_e': 0.8399915397516851, 'EX_ac_e': 0.24719886868344323, 'EX_glc__D_e': 0.7828887369062573}\n",
      "//============================================\n",
      "[Phase I] Iter 18:\t Performing local move: <class 'dynamicme.metaopt.LocalMove'>\n",
      "Obj:0.051384 \t Best Obj: 0.0257738 \t Tmax:1 \t T:0.0249668 \t Time:0.796033 secs\n",
      "y= {'EX_glyc_e': 0.5627902551524893, 'EX_gal_e': 0.6326376759773872, 'EX_lac__L_e': 0.3990808376807682, 'EX_malt_e': 0.7504195333291199, 'EX_ac_e': 0.24719886868344423, 'EX_glc__D_e': 0.7062575991894279}\n",
      "//============================================\n",
      "[Phase I] Iter 19:\t Performing local move: <class 'dynamicme.metaopt.LocalMove'>\n",
      "Obj:0.0499947 \t Best Obj: 0.0257738 \t Tmax:1 \t T:0.0236124 \t Time:0.779117 secs\n",
      "y= {'EX_glyc_e': 0.5627902551524893, 'EX_gal_e': 0.6266461950541292, 'EX_lac__L_e': 0.39908083768077285, 'EX_malt_e': 0.7538558799086773, 'EX_ac_e': 0.2471988686834428, 'EX_glc__D_e': 0.7275517014968272}\n",
      "//============================================\n",
      "[Phase II] Iter 0:\t Performing local move: <class 'dynamicme.metaopt.LocalMove'>\n",
      "Obj:0.249367 \t Best Obj: 0.0257738 \t Tmax:0.217976 \t T:0.217976 \t Move:accept\t n_reject:0\t Time:0.912701 secs\n",
      "//============================================\n",
      "[Phase II] Iter 1:\t Performing local move: <class 'dynamicme.metaopt.LocalMove'>\n"
     ]
    }
   ],
   "source": [
    "%%time\n",
    "\n",
    "for k in range(10):\n",
    "    mopt = MetaOpt(mdl2, sim_fun, obj_fun, get_param_fun, set_param_fun)\n",
    "    result = mopt.optimize(meas_dict, max_iter_phase1=20, param_confidence=0.99)# , max_iter_phase1=50, max_reject=50, verbosity=0)\n",
    "    set_param_fun(mdl2, result[2])"
   ]
  },
  {
   "cell_type": "code",
   "execution_count": null,
   "metadata": {
    "collapsed": false,
    "deletable": true,
    "editable": true
   },
   "outputs": [],
   "source": [
    "ex_ids = meas_dict.keys()\n",
    "y_sim0 = sim_fun(ijomc)\n",
    "y_best = result[0]\n",
    "df0 = pd.DataFrame([{'rxn':k, 'meas':meas_dict[k], 'sim':y_sim0[k], 'model':'default'} for k in ex_ids])\n",
    "df1 = pd.DataFrame([{'rxn':k, 'meas':meas_dict[k], 'sim':y_best[k], 'model':'optimized'} for k in ex_ids])\n",
    "df_val = pd.concat([df0, df1])\n",
    "\n",
    "g = sns.FacetGrid(df_val, hue='model', size=4, col='model')\n",
    "g.map(plt.scatter, 'meas', 'sim')\n",
    "g.add_legend()\n",
    "ax = g.axes.flatten()[0]\n",
    "for ax in g.axes.flat:\n",
    "    ax.plot([0,1], [0,1], color='#333333', zorder=1)"
   ]
  },
  {
   "cell_type": "code",
   "execution_count": null,
   "metadata": {
    "collapsed": false,
    "deletable": true,
    "editable": true
   },
   "outputs": [],
   "source": [
    "df_val.groupby('model').apply(lambda x: sum((x['meas']-x['sim'])**2)).reset_index()"
   ]
  },
  {
   "cell_type": "code",
   "execution_count": 32,
   "metadata": {
    "collapsed": false,
    "deletable": true,
    "editable": true
   },
   "outputs": [
    {
     "data": {
      "text/html": [
       "<div>\n",
       "<style scoped>\n",
       "    .dataframe tbody tr th:only-of-type {\n",
       "        vertical-align: middle;\n",
       "    }\n",
       "\n",
       "    .dataframe tbody tr th {\n",
       "        vertical-align: top;\n",
       "    }\n",
       "\n",
       "    .dataframe thead th {\n",
       "        text-align: right;\n",
       "    }\n",
       "</style>\n",
       "<table border=\"1\" class=\"dataframe\">\n",
       "  <thead>\n",
       "    <tr style=\"text-align: right;\">\n",
       "      <th></th>\n",
       "      <th>model</th>\n",
       "      <th>0</th>\n",
       "    </tr>\n",
       "  </thead>\n",
       "  <tbody>\n",
       "    <tr>\n",
       "      <th>0</th>\n",
       "      <td>default</td>\n",
       "      <td>0.050538</td>\n",
       "    </tr>\n",
       "    <tr>\n",
       "      <th>1</th>\n",
       "      <td>optimized</td>\n",
       "      <td>0.025774</td>\n",
       "    </tr>\n",
       "  </tbody>\n",
       "</table>\n",
       "</div>"
      ],
      "text/plain": [
       "       model         0\n",
       "0  default    0.050538\n",
       "1  optimized  0.025774"
      ]
     },
     "execution_count": 32,
     "metadata": {},
     "output_type": "execute_result"
    }
   ],
   "source": [
    "df_val.groupby('model').apply(lambda x: sum((x['meas']-x['sim'])**2)).reset_index()"
   ]
  },
  {
   "cell_type": "code",
   "execution_count": 27,
   "metadata": {
    "collapsed": false
   },
   "outputs": [
    {
     "data": {
      "text/html": [
       "<div>\n",
       "<style scoped>\n",
       "    .dataframe tbody tr th:only-of-type {\n",
       "        vertical-align: middle;\n",
       "    }\n",
       "\n",
       "    .dataframe tbody tr th {\n",
       "        vertical-align: top;\n",
       "    }\n",
       "\n",
       "    .dataframe thead th {\n",
       "        text-align: right;\n",
       "    }\n",
       "</style>\n",
       "<table border=\"1\" class=\"dataframe\">\n",
       "  <thead>\n",
       "    <tr style=\"text-align: right;\">\n",
       "      <th></th>\n",
       "      <th>model</th>\n",
       "      <th>0</th>\n",
       "    </tr>\n",
       "  </thead>\n",
       "  <tbody>\n",
       "    <tr>\n",
       "      <th>0</th>\n",
       "      <td>default</td>\n",
       "      <td>0.050538</td>\n",
       "    </tr>\n",
       "    <tr>\n",
       "      <th>1</th>\n",
       "      <td>optimized</td>\n",
       "      <td>0.028178</td>\n",
       "    </tr>\n",
       "  </tbody>\n",
       "</table>\n",
       "</div>"
      ],
      "text/plain": [
       "       model         0\n",
       "0  default    0.050538\n",
       "1  optimized  0.028178"
      ]
     },
     "execution_count": 27,
     "metadata": {},
     "output_type": "execute_result"
    }
   ],
   "source": [
    "df_val.groupby('model').apply(lambda x: sum((x['meas']-x['sim'])**2)).reset_index()"
   ]
  },
  {
   "cell_type": "markdown",
   "metadata": {},
   "source": [
    "import json\n",
    "keff_best = result[2]\n",
    "with open('/home/laurence/ME/data/dynamicME/keffs_ijo_best2.json', 'w') as f:\n",
    "    json.dump(keff_best, f)\n",
    "### 0.010016"
   ]
  },
  {
   "cell_type": "code",
   "execution_count": 34,
   "metadata": {
    "collapsed": false
   },
   "outputs": [
    {
     "data": {
      "text/plain": [
       "0.99851337958374631"
      ]
     },
     "execution_count": 34,
     "metadata": {},
     "output_type": "execute_result"
    }
   ],
   "source": [
    "from __future__ import division\n",
    "\n",
    "g = mopt.stats['gradient'][0]\n",
    "sum(g==0) / len(g)"
   ]
  },
  {
   "cell_type": "markdown",
   "metadata": {},
   "source": [
    "# Using genetic algorithm"
   ]
  },
  {
   "cell_type": "markdown",
   "metadata": {},
   "source": [
    "import random, math\n",
    "import deap\n",
    "import operator\n",
    "from deap import creator, base, tools, algorithms, gp\n",
    "\n",
    "def protectedDiv(left,right):\n",
    "    try:\n",
    "        return left / right\n",
    "    except ZeroDivisionError:\n",
    "        return 1\n",
    "    \n",
    "pset = gp.PrimitiveSet('MAIN',1)\n",
    "pset.addPrimitive(operator.add, 2)\n",
    "pset.addPrimitive(operator.sub, 2)\n",
    "pset.addPrimitive(operator.mul, 2)\n",
    "pset.addPrimitive(protectedDiv, 2)\n",
    "pset.addPrimitive(operator.neg, 1)\n",
    "pset.addPrimitive(math.cos, 1)\n",
    "pset.addPrimitive(math.sin, 1)\n",
    "pset.addEphemeralConstant('rand101', lambda: random.randint(-1,1))\n",
    "\n",
    "creator.create('FitnessMin', base.Fitness, weights=(-1.,))\n",
    "creator.create('Individual', gp.PrimitiveTree, fitness=creator.FitnessMin)\n",
    "\n",
    "toolbox = base.Toolbox()\n",
    "toolbox.register('expr', gp.genHalfAndHalf, pset=pset, min_=1, max_=2)\n",
    "toolbox.register('individual', tools.initIterate, creator.Individual, toolbox.expr)\n",
    "toolbox.register('population', tools.initRepeat, list, toolbox.individual)\n",
    "toolbox.register('compile', gp.compile, pset=pset)\n",
    "\n",
    "def fun_meas(x):\n",
    "    #y = x**4 - x**3 - x**2 - x\n",
    "    y = meas_dict[x]\n",
    "    return y\n",
    "\n",
    "def eval_fitness(individual, points):\n",
    "    y_meas = [meas_dict[k] for k in points]\n",
    "    # Update mdl\n",
    "    sim_dict  = sim_fun(mdl)\n",
    "    y_sim = [sim_dict[k] for k in points]\n",
    "    sse = obj_fun(y_sim, y_meas)\n",
    "    return sse, \n",
    "\n",
    "ex_rxnids = meas_dict.keys()\n",
    "\n",
    "toolbox.register('evaluate', evalSymbReg, points=ex_rxnids)\n",
    "toolbox.register('select', tools.selTournament, tournsize=3)\n",
    "toolbox.register('mate', gp.cxOnePoint)\n",
    "toolbox.register('expr_mut', gp.genFull, min_=0, max_=2)\n",
    "toolbox.register('mutate', gp.mutUniform, expr=toolbox.expr_mut, pset=pset)\n",
    "\n",
    "toolbox.decorate('mate', gp.staticLimit(key=operator.attrgetter('height'), max_value=17))\n",
    "toolbox.decorate('mutate', gp.staticLimit(key=operator.attrgetter('height'), max_value=17))\n",
    "\n",
    "import numpy as np\n",
    "\n",
    "stats_fit = tools.Statistics(lambda ind: ind.fitness.values)\n",
    "stats_size = tools.Statistics(len)\n",
    "mstats = tools.MultiStatistics(fitness=stats_fit, size=stats_size)\n",
    "mstats.register('avg', np.mean)\n",
    "mstats.register('std', np.std)\n",
    "mstats.register('min', np.min)\n",
    "mstats.register('max', np.max)\n",
    "\n",
    "pop = toolbox.population(n=300)\n",
    "hof = tools.HallOfFame(1)\n",
    "pop, log = algorithms.eaSimple(pop, toolbox, 0.5, 0.1, 40, stats=mstats, halloffame=hof, verbose=True)\n",
    "\n",
    "print hof.items"
   ]
  }
 ],
 "metadata": {
  "kernelspec": {
   "display_name": "Python 2",
   "language": "python",
   "name": "python2"
  },
  "language_info": {
   "codemirror_mode": {
    "name": "ipython",
    "version": 2
   },
   "file_extension": ".py",
   "mimetype": "text/x-python",
   "name": "python",
   "nbconvert_exporter": "python",
   "pygments_lexer": "ipython2",
   "version": "2.7.13"
  }
 },
 "nbformat": 4,
 "nbformat_minor": 2
}
