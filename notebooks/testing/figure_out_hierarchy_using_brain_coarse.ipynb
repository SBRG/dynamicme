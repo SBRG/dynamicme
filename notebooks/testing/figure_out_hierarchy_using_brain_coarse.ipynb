{
 "cells": [
  {
   "cell_type": "markdown",
   "metadata": {
    "deletable": true,
    "editable": true
   },
   "source": [
    "# Can figure out substrate uptake hierarchy without running the whole simulation"
   ]
  },
  {
   "cell_type": "markdown",
   "metadata": {
    "deletable": true,
    "editable": true
   },
   "source": [
    "# Match individual growth rates first\n",
    "# Using coarse model"
   ]
  },
  {
   "cell_type": "code",
   "execution_count": 1,
   "metadata": {
    "collapsed": false,
    "deletable": true,
    "editable": true
   },
   "outputs": [],
   "source": [
    "import seaborn as sns\n",
    "import pandas as pd\n",
    "import matplotlib.pyplot as plt\n",
    "\n",
    "plt.rcParams['svg.fonttype'] = 'none'\n",
    "pd.set_option('display.max_colwidth', -1)\n",
    "%matplotlib inline"
   ]
  },
  {
   "cell_type": "code",
   "execution_count": 2,
   "metadata": {
    "collapsed": true,
    "deletable": true,
    "editable": true
   },
   "outputs": [],
   "source": [
    "PROTOTYPE = False"
   ]
  },
  {
   "cell_type": "code",
   "execution_count": 3,
   "metadata": {
    "collapsed": true,
    "deletable": true,
    "editable": true
   },
   "outputs": [],
   "source": [
    "from dynamicme.tests.helpme import HelpME\n",
    "from dynamicme.dynamic import get_cplx_concs\n",
    "\n",
    "helper = HelpME(prototyping=PROTOTYPE)\n",
    "solver = helper.solver\n",
    "me = solver.me"
   ]
  },
  {
   "cell_type": "markdown",
   "metadata": {
    "deletable": true,
    "editable": true
   },
   "source": [
    "## Change keffs until uptake hierarchy correct"
   ]
  },
  {
   "cell_type": "code",
   "execution_count": 4,
   "metadata": {
    "collapsed": false,
    "deletable": true,
    "editable": true
   },
   "outputs": [
    {
     "name": "stdout",
     "output_type": "stream",
     "text": [
      "biggids not mapped: 252\n"
     ]
    }
   ],
   "source": [
    "import numpy as np\n",
    "\n",
    "df_dh = pd.read_csv('/home/laurence/ME/data/DHeckmann/kappmax_rf_dl_iJO.csv')\n",
    "\n",
    "import re\n",
    "from cobra.io import load_json_model\n",
    "\n",
    "ijo = load_json_model('/home/laurence/ME/models/BiGG_M/json/iJO1366.json')\n",
    "\n",
    "rows = []\n",
    "biggids = df_dh['bigg.id'].apply(lambda x: re.sub(r'(_[b|f]$)', '',x)).unique()\n",
    "missed = []\n",
    "for biggid in biggids:\n",
    "    try:\n",
    "        sdata = me.stoichiometric_data.get_by_id(biggid)\n",
    "        mrxn = ijo.reactions.get_by_id(biggid)\n",
    "        rname = mrxn.name        \n",
    "        for rxn in sdata.parent_reactions:\n",
    "            mmol_gDW = rxn.x / rxn.keff / 3600\n",
    "            rows.append({'bigg_id':biggid, 'rxn':rxn.id, 'name':rname, 'keff_nominal':rxn.keff, 'subsystem':mrxn.subsystem, 'reaction':mrxn.reaction, 'mmol_gDW':mmol_gDW})\n",
    "    except KeyError:\n",
    "        missed.append(biggid)\n",
    "        \n",
    "df_rmap = pd.DataFrame(rows)\n",
    "        \n",
    "print 'biggids not mapped:', len(missed)"
   ]
  },
  {
   "cell_type": "code",
   "execution_count": 5,
   "metadata": {
    "collapsed": false,
    "deletable": true,
    "editable": true
   },
   "outputs": [
    {
     "name": "stdout",
     "output_type": "stream",
     "text": [
      "Subsystems: 35\n",
      "Rxns within alternate carbon metab: 285\n",
      "Expressed protein (mmol/gDW): 0.00495155284852\n"
     ]
    }
   ],
   "source": [
    "print 'Subsystems:', len(df_rmap.subsystem.unique())\n",
    "print 'Rxns within alternate carbon metab:', len(df_rmap.rxn[ df_rmap.subsystem=='Alternate Carbon Metabolism'])\n",
    "\n",
    "ProtM = df_rmap.mmol_gDW.sum()\n",
    "print 'Expressed protein (mmol/gDW):', ProtM"
   ]
  },
  {
   "cell_type": "code",
   "execution_count": 6,
   "metadata": {
    "collapsed": false,
    "deletable": true,
    "editable": true
   },
   "outputs": [
    {
     "name": "stdout",
     "output_type": "stream",
     "text": [
      "CPU times: user 1.65 s, sys: 3.33 ms, total: 1.65 s\n",
      "Wall time: 1.65 s\n"
     ]
    }
   ],
   "source": [
    "%%time\n",
    "\n",
    "KEFF_SCALE = 0.32\n",
    "\n",
    "from cobra import Metabolite, Reaction\n",
    "\n",
    "ijomc = load_json_model('/home/laurence/ME/models/BiGG_M/json/iJO1366.json')\n",
    "\n",
    "cons_crowding = Metabolite('crowding')\n",
    "ijomc.add_metabolites([cons_crowding])\n",
    "\n",
    "# sum_j v/keff  <= P [mmol/gDW]\n",
    "\n",
    "for rid in df_rmap.bigg_id.unique():    \n",
    "    dfi = df_rmap[ df_rmap.bigg_id==rid]\n",
    "    keff_nom = dfi['keff_nominal'].mean()\n",
    "    rxn = ijomc.reactions.get_by_id(rid)\n",
    "    if rxn.lower_bound < 0:\n",
    "        rxn_abs = Reaction(rxn.id + '_abs')\n",
    "        ijomc.add_reaction(rxn_abs)\n",
    "        # rabs >= r  :  rabs - r >= 0\n",
    "        # rabs >= -r :  rabs + r >= 0        \n",
    "        cons_abs_p = Metabolite('cons_'+rxn.id+'_abs_p')\n",
    "        cons_abs_n = Metabolite('cons_'+rxn.id+'_abs_n')\n",
    "        cons_abs_p._constraint_sense = 'G'\n",
    "        cons_abs_n._constraint_sense = 'G'\n",
    "        rxn_abs.add_metabolites({cons_abs_p: 1., cons_abs_n: 1.})\n",
    "        rxn.add_metabolites({cons_abs_p:-1., cons_abs_n:1.})\n",
    "        keff = keff_nom * KEFF_SCALE\n",
    "        rxn_abs.add_metabolites({cons_crowding:1./keff/3600 })\n",
    "    else:\n",
    "        rxn.add_metabolites({cons_crowding:1./keff_nom/3600})\n",
    "\n",
    "cons_crowding._constraint_sense = 'L'\n",
    "cons_crowding._bound = ProtM"
   ]
  },
  {
   "cell_type": "code",
   "execution_count": 7,
   "metadata": {
    "collapsed": false,
    "deletable": true,
    "editable": true
   },
   "outputs": [
    {
     "data": {
      "text/plain": [
       "<Solution 0.74 at 0x7f17536fa350>"
      ]
     },
     "execution_count": 7,
     "metadata": {},
     "output_type": "execute_result"
    }
   ],
   "source": [
    "ijomc.optimize(solver='gurobi')"
   ]
  },
  {
   "cell_type": "code",
   "execution_count": 8,
   "metadata": {
    "collapsed": true,
    "deletable": true,
    "editable": true
   },
   "outputs": [],
   "source": [
    "df_meas = pd.read_csv('/home/laurence/ME/data/dynamicME/beg/growth_meas.csv')"
   ]
  },
  {
   "cell_type": "code",
   "execution_count": 9,
   "metadata": {
    "collapsed": true,
    "deletable": true,
    "editable": true
   },
   "outputs": [],
   "source": [
    "rank_meas = {'EX_ac_e': 5,\n",
    "             'EX_gal_e': 2,\n",
    "             'EX_glc__D_e': 0,\n",
    "             'EX_glyc_e': 4,\n",
    "             'EX_lac__L_e': 1,\n",
    "             'EX_malt_e': 3\n",
    "            }    "
   ]
  },
  {
   "cell_type": "code",
   "execution_count": 10,
   "metadata": {
    "collapsed": false,
    "deletable": true,
    "editable": true
   },
   "outputs": [
    {
     "name": "stdout",
     "output_type": "stream",
     "text": [
      "CPU times: user 4.3 s, sys: 10 ms, total: 4.31 s\n",
      "Wall time: 4.31 s\n"
     ]
    }
   ],
   "source": [
    "%%time\n",
    "\n",
    "mrows = []\n",
    "ZERO = 1e-8\n",
    "\n",
    "for ex_id in rank_meas.keys():\n",
    "    # Reset first\n",
    "    for rid in rank_meas.keys():\n",
    "        rxn = ijomc.reactions.get_by_id(rid)\n",
    "        rxn.lower_bound = 0.\n",
    "    rxn = ijomc.reactions.get_by_id(ex_id)\n",
    "    rxn.lower_bound = -10\n",
    "    ijomc.optimize()\n",
    "    mmu = ijomc.reactions.BIOMASS_Ec_iJO1366_core_53p95M.x\n",
    "    # Was the MC constraint active?\n",
    "    tot_prot = sum([r.x*r.metabolites[cons_crowding] for r in cons_crowding.reactions])\n",
    "    mrows.append({'muopt':mmu, 'ex_rxn':ex_id, 'tot_prot':tot_prot, 'crowding_active':abs(cons_crowding._bound - tot_prot)<ZERO})"
   ]
  },
  {
   "cell_type": "code",
   "execution_count": 11,
   "metadata": {
    "collapsed": false,
    "deletable": true,
    "editable": true
   },
   "outputs": [],
   "source": [
    "df_ijo = pd.DataFrame(mrows)"
   ]
  },
  {
   "cell_type": "code",
   "execution_count": 12,
   "metadata": {
    "collapsed": false,
    "deletable": true,
    "editable": true
   },
   "outputs": [
    {
     "name": "stdout",
     "output_type": "stream",
     "text": [
      "Pearson r=0.936904 (p=0.00584603)\n",
      "Spearman r=0.942857 (p=0.00480466)\n"
     ]
    },
    {
     "data": {
      "image/png": "[encoded data removed]",
      "text/plain": [
       "<matplotlib.figure.Figure at 0x7f1750818390>"
      ]
     },
     "metadata": {},
     "output_type": "display_data"
    }
   ],
   "source": [
    "import scipy.stats as stats\n",
    "\n",
    "df_val = pd.merge(df_ijo, df_meas, on='ex_rxn')\n",
    "xymax = max(df_val.growth_rate_1_h.max(), df_val.muopt.max())\n",
    "plt.plot([0, xymax*1.15], [0, xymax*1.15], color='#333333')\n",
    "plt.scatter(df_val.growth_rate_1_h, df_val.muopt)\n",
    "for i,r in df_val.iterrows():\n",
    "    x = r['growth_rate_1_h']\n",
    "    y = r['muopt']\n",
    "    k = r['substrate']\n",
    "    ls = plt.text(x, y, k)\n",
    "ax = ls.axes\n",
    "ax.set_aspect(1)\n",
    "ax.figure.set_size_inches(5,5)\n",
    "ax.set_xlabel('Measured growth rate (1/h)')\n",
    "ax.set_ylabel('Predicted growth rate (1/h)')\n",
    "\n",
    "r,p = stats.pearsonr(df_val.growth_rate_1_h, df_val.muopt)\n",
    "print 'Pearson r=%g (p=%g)' % (r,p)\n",
    "r,p = stats.spearmanr(df_val.growth_rate_1_h, df_val.muopt)\n",
    "print 'Spearman r=%g (p=%g)' % (r,p)"
   ]
  },
  {
   "cell_type": "markdown",
   "metadata": {
    "deletable": true,
    "editable": true
   },
   "source": [
    "# Metaheuristics on small model to get growth rates right"
   ]
  },
  {
   "cell_type": "code",
   "execution_count": 13,
   "metadata": {
    "collapsed": true,
    "deletable": true,
    "editable": true
   },
   "outputs": [],
   "source": [
    "df_exp = df_meas[ df_meas.ex_rxn.isin(rank_meas.keys())]\n",
    "meas_dict = {r['ex_rxn']:r['growth_rate_1_h'] for i,r in df_exp.iterrows()}"
   ]
  },
  {
   "cell_type": "code",
   "execution_count": 14,
   "metadata": {
    "collapsed": true,
    "deletable": true,
    "editable": true
   },
   "outputs": [],
   "source": [
    "def sim_fun(mdl):\n",
    "    mu_id = 'BIOMASS_Ec_iJO1366_core_53p95M'\n",
    "    sim_dict = {}\n",
    "    for ex_id in meas_dict.keys():\n",
    "        # Reset first\n",
    "        for rid in meas_dict.keys():\n",
    "            rxn = mdl.reactions.get_by_id(rid)\n",
    "            rxn.lower_bound = 0.\n",
    "        rxn = mdl.reactions.get_by_id(ex_id)\n",
    "        rxn.lower_bound = -10\n",
    "        mdl.optimize(solver='gurobi')\n",
    "        try:\n",
    "            mmu = mdl.reactions.get_by_id(mu_id).x\n",
    "        except Exception:\n",
    "            mmu = 0.\n",
    "        sim_dict[ex_id] = mmu\n",
    "    \n",
    "    return sim_dict"
   ]
  },
  {
   "cell_type": "code",
   "execution_count": 15,
   "metadata": {
    "collapsed": true,
    "deletable": true,
    "editable": true
   },
   "outputs": [],
   "source": [
    "def obj_fun(y_sim, y_meas):\n",
    "    ### Objective function    \n",
    "    sse = sum([ (y - y_sim[r])**2 for r,y in y_meas.iteritems()]) \n",
    "    \n",
    "    return sse"
   ]
  },
  {
   "cell_type": "code",
   "execution_count": 16,
   "metadata": {
    "collapsed": true,
    "deletable": true,
    "editable": true
   },
   "outputs": [],
   "source": [
    "def get_param_fun(mdl):\n",
    "    cons_id = 'crowding'\n",
    "    cons = mdl.metabolites.get_by_id(cons_id)\n",
    "    params = [r.metabolites[cons] for r in cons.reactions]\n",
    "    \n",
    "    return params\n",
    "\n",
    "def set_param_fun(mdl, xs):\n",
    "    cons_id = 'crowding'\n",
    "    cons = mdl.metabolites.get_by_id(cons_id)\n",
    "    for j,rxn in enumerate(cons.reactions):\n",
    "        rxn._metabolites[cons] = xs[j]"
   ]
  },
  {
   "cell_type": "code",
   "execution_count": 17,
   "metadata": {
    "collapsed": false
   },
   "outputs": [
    {
     "data": {
      "text/plain": [
       "0.05053795959737954"
      ]
     },
     "execution_count": 17,
     "metadata": {},
     "output_type": "execute_result"
    }
   ],
   "source": [
    "y0 = sim_fun(ijomc)\n",
    "obj_fun(y0, meas_dict)"
   ]
  },
  {
   "cell_type": "code",
   "execution_count": 18,
   "metadata": {
    "collapsed": false
   },
   "outputs": [],
   "source": [
    "import copy as cp\n",
    "\n",
    "mdl2 = cp.deepcopy(ijomc)"
   ]
  },
  {
   "cell_type": "markdown",
   "metadata": {},
   "source": [
    "from dynamicme.metaopt import LocalMove\n",
    "\n",
    "mover = LocalMove(get_param_fun, set_param_fun)"
   ]
  },
  {
   "cell_type": "code",
   "execution_count": 19,
   "metadata": {
    "collapsed": false,
    "deletable": true,
    "editable": true
   },
   "outputs": [],
   "source": [
    "from dynamicme.metaopt import MetaOpt"
   ]
  },
  {
   "cell_type": "code",
   "execution_count": 20,
   "metadata": {
    "collapsed": false,
    "deletable": true,
    "editable": true
   },
   "outputs": [],
   "source": [
    "mopt = MetaOpt(mdl2, sim_fun, obj_fun, get_param_fun, set_param_fun)"
   ]
  },
  {
   "cell_type": "code",
   "execution_count": 49,
   "metadata": {
    "collapsed": false,
    "deletable": true,
    "editable": true,
    "scrolled": true
   },
   "outputs": [
    {
     "name": "stdout",
     "output_type": "stream",
     "text": [
      "[Phase I] Iter 1:\t Performing local move: <class 'dynamicme.metaopt.LocalMove'>\n",
      "Obj:0.0414481 \t Best Obj: 0.0277575 \t Tmax:1 \t T:0.0133208 \t Time:1.78251 secs\n",
      "y= {'EX_glyc_e': 0.552759706332709, 'EX_gal_e': 0.6365401933107427, 'EX_lac__L_e': 0.39908018013497715, 'EX_malt_e': 0.6934239468916892, 'EX_ac_e': 0.24719886868344346, 'EX_glc__D_e': 0.6715140666453033}\n",
      "//============================================\n",
      "[Phase I] Iter 2:\t Performing local move: <class 'dynamicme.metaopt.LocalMove'>\n",
      "Obj:0.0609522 \t Best Obj: 0.0277575 \t Tmax:1 \t T:0.0322982 \t Time:0.804127 secs\n",
      "y= {'EX_glyc_e': 0.41604693595699177, 'EX_gal_e': 0.4907104662633948, 'EX_lac__L_e': 0.3990808376807661, 'EX_malt_e': 0.5251162343412443, 'EX_ac_e': 0.2471988686834438, 'EX_glc__D_e': 0.5143545874273996}\n",
      "//============================================\n",
      "[Phase I] Iter 3:\t Performing local move: <class 'dynamicme.metaopt.LocalMove'>\n",
      "Obj:0.0626105 \t Best Obj: 0.0277575 \t Tmax:1 \t T:0.0339117 \t Time:0.813618 secs\n",
      "y= {'EX_glyc_e': 0.42940801572323045, 'EX_gal_e': 0.4811114596819095, 'EX_lac__L_e': 0.3990801801349763, 'EX_malt_e': 0.5296456622076915, 'EX_ac_e': 0.2471988686834434, 'EX_glc__D_e': 0.5104659457504138}\n",
      "//============================================\n",
      "[Phase I] Iter 4:\t Performing local move: <class 'dynamicme.metaopt.LocalMove'>\n",
      "Obj:0.036156 \t Best Obj: 0.0277575 \t Tmax:1 \t T:0.00817169 \t Time:0.732101 secs\n",
      "y= {'EX_glyc_e': 0.40980011514207393, 'EX_gal_e': 0.5219616168498864, 'EX_lac__L_e': 0.39908083768076774, 'EX_malt_e': 0.5987625220258224, 'EX_ac_e': 0.24719926765748848, 'EX_glc__D_e': 0.5517523039612701}\n",
      "//============================================\n",
      "[Phase I] Iter 5:\t Performing local move: <class 'dynamicme.metaopt.LocalMove'>\n",
      "Obj:0.029406 \t Best Obj: 0.0277575 \t Tmax:1 \t T:0.00160398 \t Time:1.20303 secs\n",
      "y= {'EX_glyc_e': 0.4936003644455716, 'EX_gal_e': 0.560964846084705, 'EX_lac__L_e': 0.39908083768076574, 'EX_malt_e': 0.6127600684310578, 'EX_ac_e': 0.24719886868344376, 'EX_glc__D_e': 0.5913442035242751}\n",
      "//============================================\n",
      "[Phase I] Iter 6:\t Performing local move: <class 'dynamicme.metaopt.LocalMove'>\n",
      "Obj:0.0795378 \t Best Obj: 0.0277575 \t Tmax:1 \t T:0.0503818 \t Time:0.802456 secs\n",
      "y= {'EX_glyc_e': 0.42029521716598567, 'EX_gal_e': 0.4633068678027215, 'EX_lac__L_e': 0.39908018013497787, 'EX_malt_e': 0.4976590739551178, 'EX_ac_e': 0.24719886868344343, 'EX_glc__D_e': 0.4926209412696675}\n",
      "//============================================\n",
      "[Phase I] Iter 7:\t Performing local move: <class 'dynamicme.metaopt.LocalMove'>\n",
      "Obj:0.0981611 \t Best Obj: 0.0277575 \t Tmax:1 \t T:0.0685022 \t Time:0.78607 secs\n",
      "y= {'EX_glyc_e': 0.3472258298182384, 'EX_gal_e': 0.44828440250466356, 'EX_lac__L_e': 0.37865401360747564, 'EX_malt_e': 0.4897749097809564, 'EX_ac_e': 0.24719886868344354, 'EX_glc__D_e': 0.4743740081613489}\n",
      "//============================================\n",
      "[Phase I] Iter 8:\t Performing local move: <class 'dynamicme.metaopt.LocalMove'>\n",
      "Obj:0.0281122 \t Best Obj: 0.0277575 \t Tmax:1 \t T:0.000345119 \t Time:0.761882 secs\n",
      "y= {'EX_glyc_e': 0.43562588931198265, 'EX_gal_e': 0.5617360575645878, 'EX_lac__L_e': 0.39908018013497554, 'EX_malt_e': 0.6829995757683914, 'EX_ac_e': 0.24719886868344398, 'EX_glc__D_e': 0.5916851811250152}\n",
      "//============================================\n",
      "[Phase I] Iter 9:\t Performing local move: <class 'dynamicme.metaopt.LocalMove'>\n",
      "Obj:0.0371631 \t Best Obj: 0.0277575 \t Tmax:1 \t T:0.00915158 \t Time:0.794101 secs\n",
      "y= {'EX_glyc_e': 0.4130433331185795, 'EX_gal_e': 0.5253839358042925, 'EX_lac__L_e': 0.3990808376807673, 'EX_malt_e': 0.5792353333492634, 'EX_ac_e': 0.24719886868344376, 'EX_glc__D_e': 0.5522127529319838}\n",
      "//============================================\n",
      "[Phase I] Iter 10:\t Performing local move: <class 'dynamicme.metaopt.LocalMove'>\n",
      "Obj:0.0746992 \t Best Obj: 0.0277575 \t Tmax:1 \t T:0.0456739 \t Time:0.80304 secs\n",
      "y= {'EX_glyc_e': 0.5551634876961425, 'EX_gal_e': 0.6747389389062342, 'EX_lac__L_e': 0.3990801801349773, 'EX_malt_e': 0.7965676232922188, 'EX_ac_e': 0.2471988686834435, 'EX_glc__D_e': 0.7060906260193801}\n",
      "//============================================\n",
      "[Phase I] Iter 11:\t Performing local move: <class 'dynamicme.metaopt.LocalMove'>\n",
      "Obj:0.0564595 \t Best Obj: 0.0277575 \t Tmax:1 \t T:0.0279268 \t Time:1.2038 secs\n",
      "y= {'EX_glyc_e': 0.377784772265262, 'EX_gal_e': 0.4924772241955287, 'EX_lac__L_e': 0.39674668344412745, 'EX_malt_e': 0.5536468390124489, 'EX_ac_e': 0.24719926765748704, 'EX_glc__D_e': 0.5177519446244173}\n",
      "//============================================\n",
      "[Phase I] Iter 12:\t Performing local move: <class 'dynamicme.metaopt.LocalMove'>\n",
      "Obj:0.0609235 \t Best Obj: 0.0277575 \t Tmax:1 \t T:0.0322702 \t Time:0.815032 secs\n",
      "y= {'EX_glyc_e': 0.5324532219291259, 'EX_gal_e': 0.6741925842772528, 'EX_lac__L_e': 0.3990801801349757, 'EX_malt_e': 0.7736934352909116, 'EX_ac_e': 0.2471988686834434, 'EX_glc__D_e': 0.7131517559614363}\n",
      "//============================================\n",
      "[Phase I] Iter 13:\t Performing local move: <class 'dynamicme.metaopt.LocalMove'>\n",
      "Obj:0.052238 \t Best Obj: 0.0277575 \t Tmax:1 \t T:0.0238193 \t Time:2.23769 secs\n",
      "y= {'EX_glyc_e': 0.38365984914850093, 'EX_gal_e': 0.5069489514017135, 'EX_lac__L_e': 0.3990801801349787, 'EX_malt_e': 0.5523632308346214, 'EX_ac_e': 0.2471988686834436, 'EX_glc__D_e': 0.5254949768848732}\n",
      "//============================================\n",
      "[Phase I] Iter 14:\t Performing local move: <class 'dynamicme.metaopt.LocalMove'>\n",
      "Obj:0.113648 \t Best Obj: 0.0277575 \t Tmax:1 \t T:0.0835712 \t Time:0.795682 secs\n",
      "y= {'EX_glyc_e': 0.5627902551524887, 'EX_gal_e': 0.7349286378614961, 'EX_lac__L_e': 0.3990801801349765, 'EX_malt_e': 0.8348571517056043, 'EX_ac_e': 0.24719886868344237, 'EX_glc__D_e': 0.7672317937855061}\n",
      "//============================================\n",
      "[Phase I] Iter 15:\t Performing local move: <class 'dynamicme.metaopt.LocalMove'>\n",
      "Obj:0.0370489 \t Best Obj: 0.0277575 \t Tmax:1 \t T:0.00904049 \t Time:0.789244 secs\n",
      "y= {'EX_glyc_e': 0.4415712450680803, 'EX_gal_e': 0.5246725938978805, 'EX_lac__L_e': 0.3990801801349789, 'EX_malt_e': 0.579348658743153, 'EX_ac_e': 0.24719886868345423, 'EX_glc__D_e': 0.553588229976729}\n",
      "//============================================\n",
      "[Phase I] Iter 16:\t Performing local move: <class 'dynamicme.metaopt.LocalMove'>\n",
      "Obj:0.0391517 \t Best Obj: 0.0277575 \t Tmax:1 \t T:0.0110865 \t Time:0.80676 secs\n",
      "y= {'EX_glyc_e': 0.4236123020757384, 'EX_gal_e': 0.5131902113956384, 'EX_lac__L_e': 0.3990801801349776, 'EX_malt_e': 0.5871597117481834, 'EX_ac_e': 0.24719886868345156, 'EX_glc__D_e': 0.5454391887065312}\n",
      "//============================================\n",
      "[Phase I] Iter 17:\t Performing local move: <class 'dynamicme.metaopt.LocalMove'>\n",
      "Obj:0.0629647 \t Best Obj: 0.0277575 \t Tmax:1 \t T:0.0342563 \t Time:0.767528 secs\n",
      "y= {'EX_glyc_e': 0.48674212515439486, 'EX_gal_e': 0.635624554034397, 'EX_lac__L_e': 0.3990801801349777, 'EX_malt_e': 0.8176493763574638, 'EX_ac_e': 0.24719926765748745, 'EX_glc__D_e': 0.6630847780073854}\n",
      "//============================================\n",
      "[Phase I] Iter 18:\t Performing local move: <class 'dynamicme.metaopt.LocalMove'>\n",
      "Obj:0.0500949 \t Best Obj: 0.0277575 \t Tmax:1 \t T:0.0217341 \t Time:1.15575 secs\n",
      "y= {'EX_glyc_e': 0.44784699441597764, 'EX_gal_e': 0.49645486422255414, 'EX_lac__L_e': 0.3990801801349776, 'EX_malt_e': 0.5511363673203802, 'EX_ac_e': 0.247199267657487, 'EX_glc__D_e': 0.5305651193871923}\n",
      "//============================================\n",
      "[Phase I] Iter 19:\t Performing local move: <class 'dynamicme.metaopt.LocalMove'>\n",
      "Obj:0.0726031 \t Best Obj: 0.0277575 \t Tmax:1 \t T:0.0436344 \t Time:0.799412 secs\n",
      "y= {'EX_glyc_e': 0.405266661165195, 'EX_gal_e': 0.4783537974591885, 'EX_lac__L_e': 0.39908083768076674, 'EX_malt_e': 0.5081659401070366, 'EX_ac_e': 0.24719886868344426, 'EX_glc__D_e': 0.4991996511937953}\n",
      "//============================================\n",
      "[Phase I] Iter 20:\t Performing local move: <class 'dynamicme.metaopt.LocalMove'>\n",
      "Obj:0.0775581 \t Best Obj: 0.0277575 \t Tmax:1 \t T:0.0484556 \t Time:0.789669 secs\n",
      "y= {'EX_glyc_e': 0.5589775348956366, 'EX_gal_e': 0.7145111601458746, 'EX_lac__L_e': 0.3990808376807656, 'EX_malt_e': 0.7622826447043946, 'EX_ac_e': 0.24719886868344312, 'EX_glc__D_e': 0.7421268192295839}\n",
      "//============================================\n",
      "[Phase II] Iter 1:\t Performing local move: <class 'dynamicme.metaopt.LocalMove'>\n",
      "Obj:0.0680817 \t Best Obj: 0.0277575 \t Tmax:0.0835712 \t T:0.0392351 \t Move:accept\t n_reject:0\t Time:0.823953 secs\n",
      "//============================================\n",
      "[Phase II] Iter 2:\t Performing local move: <class 'dynamicme.metaopt.LocalMove'>\n",
      "Obj:0.0529551 \t Best Obj: 0.0277575 \t Tmax:0.0835712 \t T:-0.0141624 \t Move:accept\t n_reject:0\t Time:0.774918 secs\n",
      "//============================================\n",
      "[Phase II] Iter 3:\t Performing local move: <class 'dynamicme.metaopt.LocalMove'>\n",
      "Obj:0.0576341 \t Best Obj: 0.0277575 \t Tmax:0.0685022 \t T:0.00444369 \t Move:accept\t n_reject:0\t Time:0.739318 secs\n",
      "//============================================\n",
      "[Phase II] Iter 4:\t Performing local move: <class 'dynamicme.metaopt.LocalMove'>\n",
      "Obj:0.0565208 \t Best Obj: 0.0277575 \t Tmax:0.0685022 \t T:-0.00105268 \t Move:accept\t n_reject:0\t Time:1.13042 secs\n",
      "//============================================\n",
      "[Phase II] Iter 5:\t Performing local move: <class 'dynamicme.metaopt.LocalMove'>\n",
      "Obj:0.153165 \t Best Obj: 0.0277575 \t Tmax:0.0685022 \t T:0.0914741 \t Move:reject\t n_reject:1\t Time:0.730271 secs\n",
      "//============================================\n",
      "[Phase II] Iter 6:\t Performing local move: <class 'dynamicme.metaopt.LocalMove'>\n",
      "Obj:0.0319381 \t Best Obj: 0.0277575 \t Tmax:0.0685022 \t T:-0.0232675 \t Move:accept\t n_reject:1\t Time:0.741535 secs\n",
      "//============================================\n",
      "[Phase II] Iter 7:\t Performing local move: <class 'dynamicme.metaopt.LocalMove'>\n",
      "Obj:0.0708823 \t Best Obj: 0.0277575 \t Tmax:0.0503818 \t T:0.0377389 \t Move:accept\t n_reject:1\t Time:0.792188 secs\n",
      "//============================================\n",
      "[Phase II] Iter 8:\t Performing local move: <class 'dynamicme.metaopt.LocalMove'>\n",
      "Obj:0.0863979 \t Best Obj: 0.0277575 \t Tmax:0.0484556 \t T:0.0144886 \t Move:accept\t n_reject:1\t Time:0.77686 secs\n",
      "//============================================\n",
      "[Phase II] Iter 9:\t Performing local move: <class 'dynamicme.metaopt.LocalMove'>\n",
      "Obj:0.0531786 \t Best Obj: 0.0277575 \t Tmax:0.0484556 \t T:-0.0305774 \t Move:accept\t n_reject:1\t Time:0.803815 secs\n",
      "//============================================\n",
      "[Phase II] Iter 10:\t Performing local move: <class 'dynamicme.metaopt.LocalMove'>\n",
      "Obj:0.139856 \t Best Obj: 0.0277575 \t Tmax:0.0484556 \t T:0.0823005 \t Move:reject\t n_reject:2\t Time:0.793204 secs\n",
      "//============================================\n",
      "[Phase II] Iter 11:\t Performing local move: <class 'dynamicme.metaopt.LocalMove'>\n",
      "Obj:0.0408687 \t Best Obj: 0.0277575 \t Tmax:0.0484556 \t T:-0.0116884 \t Move:accept\t n_reject:2\t Time:1.19342 secs\n",
      "//============================================\n",
      "[Phase II] Iter 12:\t Performing local move: <class 'dynamicme.metaopt.LocalMove'>\n",
      "Obj:0.052939 \t Best Obj: 0.0277575 \t Tmax:0.0456739 \t T:0.0115964 \t Move:accept\t n_reject:2\t Time:0.796091 secs\n",
      "//============================================\n",
      "[Phase II] Iter 13:\t Performing local move: <class 'dynamicme.metaopt.LocalMove'>\n",
      "Obj:0.0689641 \t Best Obj: 0.0277575 \t Tmax:0.0436344 \t T:0.0152194 \t Move:accept\t n_reject:2\t Time:1.85831 secs\n",
      "//============================================\n",
      "[Phase II] Iter 14:\t Performing local move: <class 'dynamicme.metaopt.LocalMove'>\n",
      "Obj:0.0587947 \t Best Obj: 0.0277575 \t Tmax:0.0436344 \t T:-0.0095134 \t Move:accept\t n_reject:2\t Time:0.800889 secs\n",
      "//============================================\n",
      "[Phase II] Iter 15:\t Performing local move: <class 'dynamicme.metaopt.LocalMove'>\n",
      "Obj:0.195061 \t Best Obj: 0.0277575 \t Tmax:0.0436344 \t T:0.1287 \t Move:reject\t n_reject:3\t Time:0.802386 secs\n",
      "//============================================\n",
      "[Phase II] Iter 16:\t Performing local move: <class 'dynamicme.metaopt.LocalMove'>\n",
      "Obj:0.111482 \t Best Obj: 0.0277575 \t Tmax:0.0436344 \t T:0.0497621 \t Move:reject\t n_reject:4\t Time:0.800087 secs\n",
      "//============================================\n",
      "[Phase II] Iter 17:\t Performing local move: <class 'dynamicme.metaopt.LocalMove'>\n",
      "Obj:0.0470536 \t Best Obj: 0.0277575 \t Tmax:0.0436344 \t T:-0.011089 \t Move:accept\t n_reject:4\t Time:1.19284 secs\n",
      "//============================================\n",
      "[Phase II] Iter 18:\t Performing local move: <class 'dynamicme.metaopt.LocalMove'>\n",
      "Obj:0.276594 \t Best Obj: 0.0277575 \t Tmax:0.0436344 \t T:0.219225 \t Move:reject\t n_reject:5\t Time:0.784735 secs\n",
      "//============================================\n",
      "[Phase II] Iter 19:\t Performing local move: <class 'dynamicme.metaopt.LocalMove'>\n",
      "Obj:0.0660317 \t Best Obj: 0.0277575 \t Tmax:0.0392351 \t T:0.0181252 \t Move:accept\t n_reject:5\t Time:0.784375 secs\n",
      "//============================================\n",
      "[Phase II] Iter 20:\t Performing local move: <class 'dynamicme.metaopt.LocalMove'>\n",
      "Obj:0.174404 \t Best Obj: 0.0277575 \t Tmax:0.0392351 \t T:0.101659 \t Move:reject\t n_reject:6\t Time:0.810564 secs\n",
      "//============================================\n",
      "[Phase II] Iter 21:\t Performing local move: <class 'dynamicme.metaopt.LocalMove'>\n",
      "Obj:0.129498 \t Best Obj: 0.0277575 \t Tmax:0.0392351 \t T:0.0595352 \t Move:reject\t n_reject:7\t Time:0.773779 secs\n",
      "//============================================\n",
      "[Phase II] Iter 22:\t Performing local move: <class 'dynamicme.metaopt.LocalMove'>\n",
      "Obj:0.0574466 \t Best Obj: 0.0277575 \t Tmax:0.0392351 \t T:-0.00805337 \t Move:accept\t n_reject:7\t Time:0.785627 secs\n",
      "//============================================\n",
      "[Phase II] Iter 23:\t Performing local move: <class 'dynamicme.metaopt.LocalMove'>\n",
      "Obj:0.0827866 \t Best Obj: 0.0277575 \t Tmax:0.0377389 \t T:0.0239634 \t Move:accept\t n_reject:7\t Time:0.824145 secs\n",
      "//============================================\n",
      "[Phase II] Iter 24:\t Performing local move: <class 'dynamicme.metaopt.LocalMove'>\n",
      "Obj:0.204109 \t Best Obj: 0.0277575 \t Tmax:0.0377389 \t T:0.112046 \t Move:reject\t n_reject:8\t Time:1.1893 secs\n",
      "//============================================\n",
      "[Phase II] Iter 25:\t Performing local move: <class 'dynamicme.metaopt.LocalMove'>\n",
      "Obj:0.196923 \t Best Obj: 0.0277575 \t Tmax:0.0377389 \t T:0.105409 \t Move:reject\t n_reject:9\t Time:0.76579 secs\n",
      "//============================================\n",
      "[Phase II] Iter 26:\t Performing local move: <class 'dynamicme.metaopt.LocalMove'>\n",
      "Obj:0.0972031 \t Best Obj: 0.0277575 \t Tmax:0.0342563 \t T:0.0133143 \t Move:accept\t n_reject:9\t Time:0.775119 secs\n",
      "//============================================\n",
      "[Phase II] Iter 27:\t Performing local move: <class 'dynamicme.metaopt.LocalMove'>\n",
      "Obj:0.273581 \t Best Obj: 0.0277575 \t Tmax:0.0342563 \t T:0.160752 \t Move:reject\t n_reject:10\t Time:0.827225 secs\n",
      "//============================================\n",
      "[Phase II] Iter 28:\t Performing local move: <class 'dynamicme.metaopt.LocalMove'>\n",
      "Obj:0.0407237 \t Best Obj: 0.0277575 \t Tmax:0.0342563 \t T:-0.0514758 \t Move:accept\t n_reject:10\t Time:0.820318 secs\n",
      "//============================================\n",
      "[Phase II] Iter 29:\t Performing local move: <class 'dynamicme.metaopt.LocalMove'>\n",
      "Obj:0.0918549 \t Best Obj: 0.0277575 \t Tmax:0.0342563 \t T:0.0491305 \t Move:reject\t n_reject:11\t Time:0.796504 secs\n",
      "//============================================\n",
      "[Phase II] Iter 30:\t Performing local move: <class 'dynamicme.metaopt.LocalMove'>\n",
      "Obj:0.271621 \t Best Obj: 0.0277575 \t Tmax:0.0342563 \t T:0.221863 \t Move:reject\t n_reject:12\t Time:0.769053 secs\n",
      "//============================================\n",
      "[Phase II] Iter 31:\t Performing local move: <class 'dynamicme.metaopt.LocalMove'>\n",
      "Obj:0.0913904 \t Best Obj: 0.0277575 \t Tmax:0.0342563 \t T:0.0486841 \t Move:reject\t n_reject:13\t Time:1.1482 secs\n",
      "//============================================\n",
      "[Phase II] Iter 32:\t Performing local move: <class 'dynamicme.metaopt.LocalMove'>\n",
      "Obj:0.0827541 \t Best Obj: 0.0277575 \t Tmax:0.0342563 \t T:0.0403858 \t Move:reject\t n_reject:14\t Time:0.792333 secs\n",
      "//============================================\n",
      "[Phase II] Iter 33:\t Performing local move: <class 'dynamicme.metaopt.LocalMove'>\n",
      "Obj:0.077552 \t Best Obj: 0.0277575 \t Tmax:0.0342563 \t T:0.0353872 \t Move:reject\t n_reject:15\t Time:0.749973 secs\n",
      "//============================================\n",
      "[Phase II] Iter 34:\t Performing local move: <class 'dynamicme.metaopt.LocalMove'>\n",
      "Obj:0.0429802 \t Best Obj: 0.0277575 \t Tmax:0.0339117 \t T:0.00216821 \t Move:accept\t n_reject:15\t Time:0.795072 secs\n",
      "//============================================\n",
      "[Phase II] Iter 35:\t Performing local move: <class 'dynamicme.metaopt.LocalMove'>\n",
      "Obj:0.0460777 \t Best Obj: 0.0277575 \t Tmax:0.0322982 \t T:0.00296988 \t Move:accept\t n_reject:15\t Time:1.99981 secs\n",
      "//============================================\n",
      "[Phase II] Iter 36:\t Performing local move: <class 'dynamicme.metaopt.LocalMove'>\n",
      "Obj:0.163404 \t Best Obj: 0.0277575 \t Tmax:0.0322982 \t T:0.112158 \t Move:reject\t n_reject:16\t Time:0.756134 secs\n",
      "//============================================\n",
      "[Phase II] Iter 37:\t Performing local move: <class 'dynamicme.metaopt.LocalMove'>\n",
      "Obj:0.0759009 \t Best Obj: 0.0277575 \t Tmax:0.0322702 \t T:0.0285095 \t Move:accept\t n_reject:16\t Time:1.15518 secs\n",
      "//============================================\n",
      "[Phase II] Iter 38:\t Performing local move: <class 'dynamicme.metaopt.LocalMove'>\n",
      "Obj:0.0414865 \t Best Obj: 0.0277575 \t Tmax:0.0322702 \t T:-0.0319866 \t Move:accept\t n_reject:16\t Time:0.785932 secs\n",
      "//============================================\n",
      "[Phase II] Iter 39:\t Performing local move: <class 'dynamicme.metaopt.LocalMove'>\n",
      "Obj:0.066954 \t Best Obj: 0.0277575 \t Tmax:0.0285095 \t T:0.024453 \t Move:accept\t n_reject:16\t Time:0.789491 secs\n",
      "//============================================\n",
      "[Phase II] Iter 40:\t Performing local move: <class 'dynamicme.metaopt.LocalMove'>\n",
      "Obj:0.0456746 \t Best Obj: 0.0277575 \t Tmax:0.0285095 \t T:-0.0199441 \t Move:accept\t n_reject:16\t Time:0.800299 secs\n",
      "//============================================\n",
      "[Phase II] Iter 41:\t Performing local move: <class 'dynamicme.metaopt.LocalMove'>\n",
      "Obj:0.059696 \t Best Obj: 0.0277575 \t Tmax:0.0279268 \t T:0.013409 \t Move:accept\t n_reject:16\t Time:0.78372 secs\n",
      "//============================================\n",
      "[Phase II] Iter 42:\t Performing local move: <class 'dynamicme.metaopt.LocalMove'>\n",
      "Obj:0.0493908 \t Best Obj: 0.0277575 \t Tmax:0.0279268 \t T:-0.00972464 \t Move:accept\t n_reject:16\t Time:0.765478 secs\n",
      "//============================================\n",
      "[Phase II] Iter 43:\t Performing local move: <class 'dynamicme.metaopt.LocalMove'>\n",
      "Obj:0.0965997 \t Best Obj: 0.0277575 \t Tmax:0.0279268 \t T:0.0449869 \t Move:reject\t n_reject:17\t Time:0.794053 secs\n",
      "//============================================\n",
      "[Phase II] Iter 44:\t Performing local move: <class 'dynamicme.metaopt.LocalMove'>\n",
      "Obj:0.0779386 \t Best Obj: 0.0277575 \t Tmax:0.0272042 \t T:0.0272042 \t Move:accept\t n_reject:17\t Time:1.1788 secs\n",
      "//============================================\n",
      "[Phase II] Iter 45:\t Performing local move: <class 'dynamicme.metaopt.LocalMove'>\n",
      "Obj:0.528262 \t Best Obj: 0.0277575 \t Tmax:0.0272042 \t T:0.417764 \t Move:reject\t n_reject:18\t Time:0.740945 secs\n",
      "//============================================\n",
      "[Phase II] Iter 46:\t Performing local move: <class 'dynamicme.metaopt.LocalMove'>\n",
      "Obj:0.0420299 \t Best Obj: 0.0277575 \t Tmax:0.0272042 \t T:-0.0333124 \t Move:accept\t n_reject:18\t Time:0.800295 secs\n",
      "//============================================\n",
      "[Phase II] Iter 47:\t Performing local move: <class 'dynamicme.metaopt.LocalMove'>\n",
      "Obj:0.0961494 \t Best Obj: 0.0277575 \t Tmax:0.0272042 \t T:0.0519367 \t Move:reject\t n_reject:19\t Time:0.768023 secs\n",
      "//============================================\n",
      "[Phase II] Iter 48:\t Performing local move: <class 'dynamicme.metaopt.LocalMove'>\n",
      "Obj:0.21038 \t Best Obj: 0.0277575 \t Tmax:0.0272042 \t T:0.16156 \t Move:reject\t n_reject:20\t Time:0.777543 secs\n",
      "//============================================\n",
      "[Phase II] Iter 49:\t Performing local move: <class 'dynamicme.metaopt.LocalMove'>\n",
      "Obj:0.0767617 \t Best Obj: 0.0277575 \t Tmax:0.0272042 \t T:0.033331 \t Move:reject\t n_reject:21\t Time:0.773877 secs\n",
      "//============================================\n",
      "[Phase II] Iter 50:\t Performing local move: <class 'dynamicme.metaopt.LocalMove'>\n",
      "Obj:0.0577205 \t Best Obj: 0.0277575 \t Tmax:0.024453 \t T:0.0150578 \t Move:accept\t n_reject:21\t Time:1.22755 secs\n",
      "//============================================\n",
      "[Phase II] Iter 51:\t Performing local move: <class 'dynamicme.metaopt.LocalMove'>\n",
      "Obj:0.137639 \t Best Obj: 0.0277575 \t Tmax:0.024453 \t T:0.0755577 \t Move:reject\t n_reject:22\t Time:0.758776 secs\n",
      "//============================================\n",
      "[Phase II] Iter 52:\t Performing local move: <class 'dynamicme.metaopt.LocalMove'>\n",
      "Obj:0.0657996 \t Best Obj: 0.0277575 \t Tmax:0.0239634 \t T:0.00763824 \t Move:accept\t n_reject:22\t Time:0.801298 secs\n",
      "//============================================\n",
      "[Phase II] Iter 53:\t Performing local move: <class 'dynamicme.metaopt.LocalMove'>\n",
      "Obj:0.188082 \t Best Obj: 0.0277575 \t Tmax:0.0239634 \t T:0.114733 \t Move:reject\t n_reject:23\t Time:4.92503 secs\n",
      "//============================================\n",
      "[Phase II] Iter 54:\t Performing local move: <class 'dynamicme.metaopt.LocalMove'>\n",
      "Obj:0.0760236 \t Best Obj: 0.0277575 \t Tmax:0.0238193 \t T:0.00959282 \t Move:accept\t n_reject:23\t Time:0.788919 secs\n",
      "//============================================\n",
      "[Phase II] Iter 55:\t Performing local move: <class 'dynamicme.metaopt.LocalMove'>\n",
      "Obj:0.0424821 \t Best Obj: 0.0277575 \t Tmax:0.0238193 \t T:-0.0311717 \t Move:accept\t n_reject:23\t Time:0.789815 secs\n",
      "//============================================\n",
      "[Phase II] Iter 56:\t Performing local move: <class 'dynamicme.metaopt.LocalMove'>\n",
      "Obj:0.106135 \t Best Obj: 0.0277575 \t Tmax:0.0238193 \t T:0.0610589 \t Move:reject\t n_reject:24\t Time:0.776433 secs\n",
      "//============================================\n",
      "[Phase II] Iter 57:\t Performing local move: <class 'dynamicme.metaopt.LocalMove'>\n",
      "Obj:0.042858 \t Best Obj: 0.0277575 \t Tmax:0.0217341 \t T:0.000360604 \t Move:accept\t n_reject:24\t Time:1.17017 secs\n",
      "//============================================\n",
      "[Phase II] Iter 58:\t Performing local move: <class 'dynamicme.metaopt.LocalMove'>\n",
      "Obj:0.134259 \t Best Obj: 0.0277575 \t Tmax:0.0217341 \t T:0.0876443 \t Move:reject\t n_reject:25\t Time:0.78333 secs\n",
      "//============================================\n",
      "[Phase II] Iter 59:\t Performing local move: <class 'dynamicme.metaopt.LocalMove'>\n",
      "Obj:0.120093 \t Best Obj: 0.0277575 \t Tmax:0.0217341 \t T:0.0740613 \t Move:reject\t n_reject:26\t Time:0.738891 secs\n",
      "//============================================\n",
      "[Phase II] Iter 60:\t Performing local move: <class 'dynamicme.metaopt.LocalMove'>\n",
      "Obj:0.106774 \t Best Obj: 0.0277575 \t Tmax:0.0217341 \t T:0.061289 \t Move:reject\t n_reject:27\t Time:0.778416 secs\n",
      "//============================================\n",
      "[Phase II] Iter 61:\t Performing local move: <class 'dynamicme.metaopt.LocalMove'>\n",
      "Obj:0.046951 \t Best Obj: 0.0277575 \t Tmax:0.0181252 \t T:0.00392478 \t Move:accept\t n_reject:27\t Time:0.758551 secs\n",
      "//============================================\n",
      "[Phase II] Iter 62:\t Performing local move: <class 'dynamicme.metaopt.LocalMove'>\n",
      "Obj:0.115977 \t Best Obj: 0.0277575 \t Tmax:0.0181252 \t T:0.0659302 \t Move:reject\t n_reject:28\t Time:0.787356 secs\n",
      "//============================================\n",
      "[Phase II] Iter 63:\t Performing local move: <class 'dynamicme.metaopt.LocalMove'>\n",
      "Obj:0.113175 \t Best Obj: 0.0277575 \t Tmax:0.0181252 \t T:0.0632537 \t Move:reject\t n_reject:29\t Time:0.768703 secs\n",
      "//============================================\n",
      "[Phase II] Iter 64:\t Performing local move: <class 'dynamicme.metaopt.LocalMove'>\n",
      "Obj:0.0813789 \t Best Obj: 0.0277575 \t Tmax:0.0181252 \t T:0.032884 \t Move:reject\t n_reject:30\t Time:1.17614 secs\n",
      "//============================================\n",
      "[Phase II] Iter 65:\t Performing local move: <class 'dynamicme.metaopt.LocalMove'>\n",
      "Obj:0.0464018 \t Best Obj: 0.0277575 \t Tmax:0.0181252 \t T:-0.00052454 \t Move:accept\t n_reject:30\t Time:0.74123 secs\n",
      "//============================================\n",
      "[Phase II] Iter 66:\t Performing local move: <class 'dynamicme.metaopt.LocalMove'>\n",
      "Obj:0.056965 \t Best Obj: 0.0277575 \t Tmax:0.0152194 \t T:0.0100947 \t Move:accept\t n_reject:30\t Time:0.740538 secs\n",
      "//============================================\n",
      "[Phase II] Iter 67:\t Performing local move: <class 'dynamicme.metaopt.LocalMove'>\n",
      "Obj:0.0952285 \t Best Obj: 0.0277575 \t Tmax:0.0152194 \t T:0.0362013 \t Move:reject\t n_reject:31\t Time:0.744219 secs\n",
      "//============================================\n",
      "[Phase II] Iter 68:\t Performing local move: <class 'dynamicme.metaopt.LocalMove'>\n",
      "Obj:0.272887 \t Best Obj: 0.0277575 \t Tmax:0.0152194 \t T:0.204285 \t Move:reject\t n_reject:32\t Time:0.733689 secs\n",
      "//============================================\n",
      "[Phase II] Iter 69:\t Performing local move: <class 'dynamicme.metaopt.LocalMove'>\n",
      "Obj:0.148941 \t Best Obj: 0.0277575 \t Tmax:0.0152194 \t T:0.0870191 \t Move:reject\t n_reject:33\t Time:0.752296 secs\n",
      "//============================================\n",
      "[Phase II] Iter 70:\t Performing local move: <class 'dynamicme.metaopt.LocalMove'>\n",
      "Obj:0.0569791 \t Best Obj: 0.0277575 \t Tmax:0.0150578 \t T:1.34019e-05 \t Move:accept\t n_reject:33\t Time:1.17836 secs\n",
      "//============================================\n",
      "[Phase II] Iter 71:\t Performing local move: <class 'dynamicme.metaopt.LocalMove'>\n",
      "Obj:0.171561 \t Best Obj: 0.0277575 \t Tmax:0.0150578 \t T:0.108405 \t Move:reject\t n_reject:34\t Time:0.789953 secs\n",
      "//============================================\n",
      "[Phase II] Iter 72:\t Performing local move: <class 'dynamicme.metaopt.LocalMove'>\n",
      "Obj:0.0404495 \t Best Obj: 0.0277575 \t Tmax:0.0150578 \t T:-0.0156386 \t Move:accept\t n_reject:34\t Time:0.749121 secs\n",
      "//============================================\n",
      "[Phase II] Iter 73:\t Performing local move: <class 'dynamicme.metaopt.LocalMove'>\n",
      "Obj:0.105372 \t Best Obj: 0.0277575 \t Tmax:0.0150578 \t T:0.0623985 \t Move:reject\t n_reject:35\t Time:0.770793 secs\n",
      "//============================================\n",
      "[Phase II] Iter 74:\t Performing local move: <class 'dynamicme.metaopt.LocalMove'>\n",
      "Obj:0.118053 \t Best Obj: 0.0277575 \t Tmax:0.0150578 \t T:0.0745864 \t Move:reject\t n_reject:36\t Time:0.787329 secs\n",
      "//============================================\n",
      "[Phase II] Iter 75:\t Performing local move: <class 'dynamicme.metaopt.LocalMove'>\n",
      "Obj:0.0746638 \t Best Obj: 0.0277575 \t Tmax:0.0150578 \t T:0.0328842 \t Move:reject\t n_reject:37\t Time:0.746261 secs\n",
      "//============================================\n",
      "[Phase II] Iter 76:\t Performing local move: <class 'dynamicme.metaopt.LocalMove'>\n",
      "Obj:0.0706436 \t Best Obj: 0.0277575 \t Tmax:0.0150578 \t T:0.0290203 \t Move:reject\t n_reject:38\t Time:0.749618 secs\n",
      "//============================================\n",
      "[Phase II] Iter 77:\t Performing local move: <class 'dynamicme.metaopt.LocalMove'>\n",
      "Obj:0.0594575 \t Best Obj: 0.0277575 \t Tmax:0.0150578 \t T:0.0182691 \t Move:reject\t n_reject:39\t Time:1.18988 secs\n",
      "//============================================\n",
      "[Phase II] Iter 78:\t Performing local move: <class 'dynamicme.metaopt.LocalMove'>\n",
      "Obj:0.0897089 \t Best Obj: 0.0277575 \t Tmax:0.0150578 \t T:0.0473444 \t Move:reject\t n_reject:40\t Time:0.751251 secs\n",
      "//============================================\n",
      "CPU times: user 1min 34s, sys: 2.93 s, total: 1min 37s\n",
      "Wall time: 1min 32s\n"
     ]
    }
   ],
   "source": [
    "%%time\n",
    "result = mopt.optimize(meas_dict, max_iter_phase1=20, max_reject=40)"
   ]
  },
  {
   "cell_type": "code",
   "execution_count": 50,
   "metadata": {
    "collapsed": false
   },
   "outputs": [
    {
     "data": {
      "text/plain": [
       "[<matplotlib.lines.Line2D at 0x7f17526300d0>]"
      ]
     },
     "execution_count": 50,
     "metadata": {},
     "output_type": "execute_result"
    },
    {
     "data": {
      "image/png": "[encoded data removed]",
      "text/plain": [
       "<matplotlib.figure.Figure at 0x7f1751a535d0>"
      ]
     },
     "metadata": {},
     "output_type": "display_data"
    }
   ],
   "source": [
    "ex_ids = meas_dict.keys()\n",
    "y_sim0 = sim_fun(ijomc)\n",
    "y_best = result[0]\n",
    "df0 = pd.DataFrame([{'rxn':k, 'meas':meas_dict[k], 'sim':y_sim0[k], 'model':'default'} for k in ex_ids])\n",
    "df1 = pd.DataFrame([{'rxn':k, 'meas':meas_dict[k], 'sim':y_best[k], 'model':'optimized'} for k in ex_ids])\n",
    "df_val = pd.concat([df0, df1])\n",
    "\n",
    "g = sns.FacetGrid(df_val, hue='model', size=4)\n",
    "g.map(plt.scatter, 'meas', 'sim')\n",
    "g.add_legend()\n",
    "ax = g.axes.flatten()[0]\n",
    "ax.plot([0,1], [0,1], color='#333333', zorder=1)"
   ]
  },
  {
   "cell_type": "code",
   "execution_count": 52,
   "metadata": {
    "collapsed": false,
    "deletable": true,
    "editable": true
   },
   "outputs": [
    {
     "data": {
      "text/html": [
       "<div>\n",
       "<style scoped>\n",
       "    .dataframe tbody tr th:only-of-type {\n",
       "        vertical-align: middle;\n",
       "    }\n",
       "\n",
       "    .dataframe tbody tr th {\n",
       "        vertical-align: top;\n",
       "    }\n",
       "\n",
       "    .dataframe thead th {\n",
       "        text-align: right;\n",
       "    }\n",
       "</style>\n",
       "<table border=\"1\" class=\"dataframe\">\n",
       "  <thead>\n",
       "    <tr style=\"text-align: right;\">\n",
       "      <th></th>\n",
       "      <th>model</th>\n",
       "      <th>0</th>\n",
       "    </tr>\n",
       "  </thead>\n",
       "  <tbody>\n",
       "    <tr>\n",
       "      <th>0</th>\n",
       "      <td>default</td>\n",
       "      <td>0.050538</td>\n",
       "    </tr>\n",
       "    <tr>\n",
       "      <th>1</th>\n",
       "      <td>optimized</td>\n",
       "      <td>0.027758</td>\n",
       "    </tr>\n",
       "  </tbody>\n",
       "</table>\n",
       "</div>"
      ],
      "text/plain": [
       "       model         0\n",
       "0  default    0.050538\n",
       "1  optimized  0.027758"
      ]
     },
     "execution_count": 52,
     "metadata": {},
     "output_type": "execute_result"
    }
   ],
   "source": [
    "df_val.groupby('model').apply(lambda x: obj_fun(x['meas'], x['sim'])).reset_index()"
   ]
  },
  {
   "cell_type": "code",
   "execution_count": 47,
   "metadata": {
    "collapsed": false
   },
   "outputs": [
    {
     "data": {
      "text/html": [
       "<div>\n",
       "<style scoped>\n",
       "    .dataframe tbody tr th:only-of-type {\n",
       "        vertical-align: middle;\n",
       "    }\n",
       "\n",
       "    .dataframe tbody tr th {\n",
       "        vertical-align: top;\n",
       "    }\n",
       "\n",
       "    .dataframe thead th {\n",
       "        text-align: right;\n",
       "    }\n",
       "</style>\n",
       "<table border=\"1\" class=\"dataframe\">\n",
       "  <thead>\n",
       "    <tr style=\"text-align: right;\">\n",
       "      <th></th>\n",
       "      <th>model</th>\n",
       "      <th>0</th>\n",
       "    </tr>\n",
       "  </thead>\n",
       "  <tbody>\n",
       "    <tr>\n",
       "      <th>0</th>\n",
       "      <td>default</td>\n",
       "      <td>0.050538</td>\n",
       "    </tr>\n",
       "    <tr>\n",
       "      <th>1</th>\n",
       "      <td>optimized</td>\n",
       "      <td>0.024015</td>\n",
       "    </tr>\n",
       "  </tbody>\n",
       "</table>\n",
       "</div>"
      ],
      "text/plain": [
       "       model         0\n",
       "0  default    0.050538\n",
       "1  optimized  0.024015"
      ]
     },
     "execution_count": 47,
     "metadata": {},
     "output_type": "execute_result"
    }
   ],
   "source": [
    "df_val.groupby('model').apply(lambda x: obj_fun(x['meas'], x['sim'])).reset_index()"
   ]
  }
 ],
 "metadata": {
  "kernelspec": {
   "display_name": "Python 2",
   "language": "python",
   "name": "python2"
  },
  "language_info": {
   "codemirror_mode": {
    "name": "ipython",
    "version": 2
   },
   "file_extension": ".py",
   "mimetype": "text/x-python",
   "name": "python",
   "nbconvert_exporter": "python",
   "pygments_lexer": "ipython2",
   "version": "2.7.13"
  }
 },
 "nbformat": 4,
 "nbformat_minor": 2
}
