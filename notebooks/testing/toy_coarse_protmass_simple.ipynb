{
 "cells": [
  {
   "cell_type": "markdown",
   "metadata": {
    "deletable": true,
    "editable": true
   },
   "source": [
    "# Can figure out substrate uptake hierarchy without running the whole simulation"
   ]
  },
  {
   "cell_type": "markdown",
   "metadata": {
    "deletable": true,
    "editable": true
   },
   "source": [
    "# Match individual growth rates first\n",
    "# Using coarse model"
   ]
  },
  {
   "cell_type": "code",
   "execution_count": 1,
   "metadata": {
    "collapsed": false,
    "deletable": true,
    "editable": true
   },
   "outputs": [],
   "source": [
    "import seaborn as sns\n",
    "import pandas as pd\n",
    "import matplotlib.pyplot as plt\n",
    "\n",
    "plt.rcParams['svg.fonttype'] = 'none'\n",
    "pd.set_option('display.max_colwidth', -1)\n",
    "%matplotlib inline"
   ]
  },
  {
   "cell_type": "code",
   "execution_count": 2,
   "metadata": {
    "collapsed": true,
    "deletable": true,
    "editable": true
   },
   "outputs": [],
   "source": [
    "PROTOTYPE = False"
   ]
  },
  {
   "cell_type": "code",
   "execution_count": 3,
   "metadata": {
    "collapsed": true,
    "deletable": true,
    "editable": true
   },
   "outputs": [],
   "source": [
    "from dynamicme.tests.helpme import HelpME\n",
    "from dynamicme.dynamic import get_cplx_concs\n",
    "\n",
    "helper = HelpME(prototyping=PROTOTYPE)\n",
    "solver = helper.solver\n",
    "me = solver.me"
   ]
  },
  {
   "cell_type": "code",
   "execution_count": 4,
   "metadata": {
    "collapsed": true,
    "deletable": true,
    "editable": true
   },
   "outputs": [],
   "source": [
    "def sim_fun(mdl):\n",
    "    mu_id = 'BIOMASS_Ec_iJO1366_core_53p95M'\n",
    "    sim_dict = {}\n",
    "    for ex_id in meas_dict.keys():\n",
    "        # Reset first\n",
    "        for rid in meas_dict.keys():\n",
    "            rxn = mdl.reactions.get_by_id(rid)\n",
    "            rxn.lower_bound = 0.\n",
    "        rxn = mdl.reactions.get_by_id(ex_id)\n",
    "        rxn.lower_bound = -10\n",
    "        mdl.optimize(solver='gurobi')\n",
    "        if mdl.solution is not None:\n",
    "            mmu = mdl.reactions.get_by_id(mu_id).x\n",
    "        else:\n",
    "            mmu = 0.\n",
    "        sim_dict[ex_id] = mmu\n",
    "    \n",
    "    return sim_dict\n",
    "\n",
    "def obj_fun(y_sim, y_meas):\n",
    "    ### Objective function    \n",
    "    sse = sum([ (y - y_sim[r])**2 for r,y in y_meas.iteritems()]) \n",
    "    \n",
    "    return sse\n",
    "\n",
    "def get_param_fun(mdl, as_dict=False):\n",
    "    cons_id = 'crowding'\n",
    "    cons = mdl.metabolites.get_by_id(cons_id)\n",
    "    if as_dict:\n",
    "        params = {r.id:r.metabolites[cons] for r in cons.reactions}\n",
    "    else:\n",
    "        params = [r.metabolites[cons] for r in cons.reactions]    \n",
    "    \n",
    "    return params\n",
    "\n",
    "def set_param_fun(mdl, params):\n",
    "    cons_id = 'crowding'\n",
    "    cons = mdl.metabolites.get_by_id(cons_id)\n",
    "    for j,rxn in enumerate(cons.reactions):\n",
    "        rxn._metabolites[cons] = params[j]"
   ]
  },
  {
   "cell_type": "code",
   "execution_count": 5,
   "metadata": {
    "collapsed": false,
    "deletable": true,
    "editable": true
   },
   "outputs": [
    {
     "name": "stdout",
     "output_type": "stream",
     "text": [
      "biggids not mapped: 49\n"
     ]
    }
   ],
   "source": [
    "import numpy as np\n",
    "import re\n",
    "from cobra.io import load_json_model\n",
    "\n",
    "ijo = load_json_model('/home/laurence/ME/models/BiGG_M/json/e_coli_core.json')\n",
    "ijo.optimize(solver='gurobi')\n",
    "# Clean start ************\n",
    "# df_dh = pd.read_csv('/home/laurence/ME/data/DHeckmann/kappmax_rf_dl_iJO.csv')\n",
    "#biggids = df_dh['bigg.id'].apply(lambda x: re.sub(r'(_[b|f]$)', '',x)).unique()\n",
    "\n",
    "rows = []\n",
    "missed = []\n",
    "\n",
    "#for biggid in biggids:\n",
    "for rxn in ijo.reactions:\n",
    "    try:\n",
    "        biggid = rxn.id\n",
    "        sdata = me.stoichiometric_data.get_by_id(biggid)\n",
    "        mrxn = ijo.reactions.get_by_id(biggid)\n",
    "        rname = mrxn.name\n",
    "        for rxn in sdata.parent_reactions:\n",
    "            if rxn.complex_data is not None:\n",
    "                mmol_gDW = rxn.x / rxn.keff / 3600\n",
    "                kDa = rxn.complex_data.complex.mass\n",
    "                g_gDW    = kDa * mmol_gDW\n",
    "                rows.append({'bigg_id':biggid, 'rxn':rxn.id, 'name':rname, 'keff_nominal':rxn.keff, 'subsystem':mrxn.subsystem, 'reaction':mrxn.reaction, 'mmol_gDW':mmol_gDW,\n",
    "                             'g_gDW':g_gDW, 'kDa':kDa})\n",
    "    except KeyError:\n",
    "        missed.append(biggid)\n",
    "        \n",
    "df_rmap = pd.DataFrame(rows)\n",
    "        \n",
    "print 'biggids not mapped:', len(missed)"
   ]
  },
  {
   "cell_type": "code",
   "execution_count": 6,
   "metadata": {
    "collapsed": false,
    "deletable": true,
    "editable": true
   },
   "outputs": [
    {
     "name": "stdout",
     "output_type": "stream",
     "text": [
      "Subsystems: 7\n",
      "Rxns within alternate carbon metab: 0\n",
      "Expressed protein (mmol/gDW): 0.0008164180430084663\n",
      "Expressed protein (g/gDW): 0.04448317437408822\n"
     ]
    }
   ],
   "source": [
    "print 'Subsystems:', len(df_rmap.subsystem.unique())\n",
    "print 'Rxns within alternate carbon metab:', len(df_rmap.rxn[ df_rmap.subsystem=='Alternate Carbon Metabolism'])\n",
    "\n",
    "ProtM = df_rmap.mmol_gDW.sum()\n",
    "ProtGrams = df_rmap.g_gDW.sum()\n",
    "print 'Expressed protein (mmol/gDW):', ProtM\n",
    "print 'Expressed protein (g/gDW):', ProtGrams"
   ]
  },
  {
   "cell_type": "markdown",
   "metadata": {},
   "source": [
    "$$\n",
    "\\sum_j \\frac{v_j}{k_j} \\cdot kDa_j \\leq ProtMass (g/gDW)\n",
    "$$"
   ]
  },
  {
   "cell_type": "code",
   "execution_count": 7,
   "metadata": {
    "collapsed": true,
    "deletable": true,
    "editable": true
   },
   "outputs": [],
   "source": [
    "from dynamicme.optimize import Constraint, Variable"
   ]
  },
  {
   "cell_type": "code",
   "execution_count": 8,
   "metadata": {
    "collapsed": false,
    "deletable": true,
    "editable": true
   },
   "outputs": [
    {
     "name": "stdout",
     "output_type": "stream",
     "text": [
      "CPU times: user 54.6 ms, sys: 0 ns, total: 54.6 ms\n",
      "Wall time: 58.8 ms\n"
     ]
    }
   ],
   "source": [
    "%%time\n",
    "\n",
    "KEFF_SCALE = 1 #0.32\n",
    "\n",
    "from cobra import Metabolite, Reaction\n",
    "\n",
    "ijomm = load_json_model('/home/laurence/ME/models/BiGG_M/json/e_coli_core.json')\n",
    "\n",
    "cons_crowding = Constraint('crowding')\n",
    "ijomm.add_metabolites([cons_crowding])\n",
    "\n",
    "for rid in df_rmap.bigg_id.unique():\n",
    "    dfi = df_rmap[ df_rmap.bigg_id==rid]\n",
    "    keff_nom = dfi['keff_nominal'].mean()\n",
    "    kDa = dfi['kDa'].mean()\n",
    "    rxn = ijomm.reactions.get_by_id(rid)\n",
    "    keff = keff_nom * KEFF_SCALE\n",
    "    if rxn.lower_bound < 0:\n",
    "        rxn_abs = Reaction(rxn.id + '_abs')\n",
    "        ijomm.add_reaction(rxn_abs)\n",
    "        # rabs >= r  :  rabs - r >= 0\n",
    "        # rabs >= -r :  rabs + r >= 0        \n",
    "        cons_abs_p = Constraint('cons_'+rxn.id+'_abs_p')\n",
    "        cons_abs_n = Constraint('cons_'+rxn.id+'_abs_n')\n",
    "        cons_abs_p._constraint_sense = 'G'\n",
    "        cons_abs_n._constraint_sense = 'G'\n",
    "        rxn_abs.add_metabolites({cons_abs_p: 1., cons_abs_n: 1.})\n",
    "        rxn.add_metabolites({cons_abs_p:-1., cons_abs_n:1.})        \n",
    "        rxn_abs.add_metabolites({cons_crowding:1./keff/3600 * kDa})                                                        \n",
    "    else:\n",
    "        rxn.add_metabolites({cons_crowding:1./keff_nom/3600 * kDa})      \n",
    "\n",
    "cons_crowding._constraint_sense = 'L'\n",
    "cons_crowding._bound = ProtGrams"
   ]
  },
  {
   "cell_type": "code",
   "execution_count": 9,
   "metadata": {
    "collapsed": false,
    "deletable": true,
    "editable": true
   },
   "outputs": [
    {
     "data": {
      "text/plain": [
       "<Solution 0.82 at 0x7f2624fdc8d0>"
      ]
     },
     "execution_count": 9,
     "metadata": {},
     "output_type": "execute_result"
    }
   ],
   "source": [
    "ijomm.optimize(solver='gurobi')"
   ]
  },
  {
   "cell_type": "code",
   "execution_count": 10,
   "metadata": {
    "collapsed": true,
    "deletable": true,
    "editable": true
   },
   "outputs": [],
   "source": [
    "from cobra.io import save_json_model\n",
    "\n",
    "save_json_model(ijomm, '/home/laurence/ME/models/e_coli_core_mm_simple.json')"
   ]
  },
  {
   "cell_type": "code",
   "execution_count": 21,
   "metadata": {
    "collapsed": false,
    "deletable": true,
    "editable": true
   },
   "outputs": [],
   "source": [
    "df_rmap.to_csv('/home/laurence/ME/models/e_coli_core_mm_simple_mws.csv', index=False)"
   ]
  },
  {
   "cell_type": "code",
   "execution_count": 18,
   "metadata": {
    "collapsed": false,
    "deletable": true,
    "editable": true
   },
   "outputs": [
    {
     "name": "stdout",
     "output_type": "stream",
     "text": [
      "1.1392206481481482e-05 - 0.0010200408458753516\n"
     ]
    }
   ],
   "source": [
    "crowding = ijomm.metabolites.crowding\n",
    "mw_keff = [rxn.metabolites[crowding] for rxn in crowding.reactions]\n",
    "print(\"%s - %s\" % (min(mw_keff), max(mw_keff)))"
   ]
  },
  {
   "cell_type": "markdown",
   "metadata": {
    "deletable": true,
    "editable": true
   },
   "source": [
    "## Check unfit mus"
   ]
  },
  {
   "cell_type": "code",
   "execution_count": 19,
   "metadata": {
    "collapsed": true,
    "deletable": true,
    "editable": true
   },
   "outputs": [],
   "source": [
    "df_meas = pd.read_csv('/home/laurence/ME/data/dynamicME/beg/growth_meas.csv')"
   ]
  },
  {
   "cell_type": "code",
   "execution_count": 13,
   "metadata": {
    "collapsed": false,
    "deletable": true,
    "editable": true
   },
   "outputs": [],
   "source": [
    "df_meas = pd.read_csv('/home/laurence/ME/data/dynamicME/beg/growth_meas.csv')\n",
    "ex_rxns = [r for r in df_meas.ex_rxn.unique() if ijomm.reactions.has_id(r)]\n",
    "df_meas = df_meas[ df_meas.ex_rxn.isin(ex_rxns)]\n",
    "df_conds = pd.DataFrame([{'cond':r['substrate'], 'rxn':ex_rxn, 'lb':-10 if r['ex_rxn']==ex_rxn else 0, 'ub':1000., 'obj':0.} for i,r in df_meas.iterrows() for ex_rxn in ex_rxns])\n",
    "df_conds.loc[ (df_conds.cond=='acetate') & (df_conds.rxn=='EX_ac_e'), 'lb'] = -20"
   ]
  },
  {
   "cell_type": "code",
   "execution_count": 14,
   "metadata": {
    "collapsed": false,
    "deletable": true,
    "editable": true
   },
   "outputs": [],
   "source": [
    "df_Y = df_meas.rename(columns={'growth_rate_1_h':'output', 'substrate':'cond'})\n",
    "df_Y.loc[:,'output_id'] = 'BIOMASS_Ecoli_core_w_GAM'\n",
    "\n",
    "crowding = ijomm.metabolites.crowding\n",
    "mrows = []\n",
    "for i,row in df_Y.iterrows():\n",
    "    mu_measi = row['output']\n",
    "    cond = row['cond']\n",
    "    df_Xk = df_conds[ df_conds.cond==cond]    \n",
    "    for j,rowj in df_Xk.iterrows():\n",
    "        rxn = ijomm.reactions.get_by_id(rowj['rxn'])\n",
    "        rxn.lower_bound = rowj['lb']\n",
    "        rxn.upper_bound = rowj['ub']\n",
    "        rxn.objective_coefficient = rowj['obj']\n",
    "    ijomm.optimize(solver='gurobi')\n",
    "    if ijomm.solution.status == 'optimal':\n",
    "        rxn_mu = ijomm.reactions.get_by_id(row['output_id'])\n",
    "        mu_sim = rxn_mu.x        \n",
    "        prot_mass = sum([r.metabolites[crowding]*r.x for r in crowding.reactions])\n",
    "    else:\n",
    "        mu_sim = np.nan\n",
    "        prot_mass = np.nan\n",
    "    mrows.append({'cond':cond, 'muopt':mu_sim, 'prot_mass':prot_mass})"
   ]
  },
  {
   "cell_type": "code",
   "execution_count": 15,
   "metadata": {
    "collapsed": false,
    "deletable": true,
    "editable": true
   },
   "outputs": [
    {
     "data": {
      "text/html": [
       "<div>\n",
       "<style scoped>\n",
       "    .dataframe tbody tr th:only-of-type {\n",
       "        vertical-align: middle;\n",
       "    }\n",
       "\n",
       "    .dataframe tbody tr th {\n",
       "        vertical-align: top;\n",
       "    }\n",
       "\n",
       "    .dataframe thead th {\n",
       "        text-align: right;\n",
       "    }\n",
       "</style>\n",
       "<table border=\"1\" class=\"dataframe\">\n",
       "  <thead>\n",
       "    <tr style=\"text-align: right;\">\n",
       "      <th></th>\n",
       "      <th>cond</th>\n",
       "      <th>muopt</th>\n",
       "      <th>prot_mass</th>\n",
       "    </tr>\n",
       "  </thead>\n",
       "  <tbody>\n",
       "    <tr>\n",
       "      <th>0</th>\n",
       "      <td>glucose</td>\n",
       "      <td>0.820536</td>\n",
       "      <td>0.044483</td>\n",
       "    </tr>\n",
       "    <tr>\n",
       "      <th>1</th>\n",
       "      <td>fructose</td>\n",
       "      <td>0.820498</td>\n",
       "      <td>0.044483</td>\n",
       "    </tr>\n",
       "    <tr>\n",
       "      <th>2</th>\n",
       "      <td>succinate</td>\n",
       "      <td>0.397563</td>\n",
       "      <td>0.044483</td>\n",
       "    </tr>\n",
       "    <tr>\n",
       "      <th>3</th>\n",
       "      <td>malate</td>\n",
       "      <td>0.370741</td>\n",
       "      <td>0.044483</td>\n",
       "    </tr>\n",
       "    <tr>\n",
       "      <th>4</th>\n",
       "      <td>acetate</td>\n",
       "      <td>0.389313</td>\n",
       "      <td>0.044483</td>\n",
       "    </tr>\n",
       "  </tbody>\n",
       "</table>\n",
       "</div>"
      ],
      "text/plain": [
       "        cond     muopt  prot_mass\n",
       "0  glucose    0.820536  0.044483 \n",
       "1  fructose   0.820498  0.044483 \n",
       "2  succinate  0.397563  0.044483 \n",
       "3  malate     0.370741  0.044483 \n",
       "4  acetate    0.389313  0.044483 "
      ]
     },
     "execution_count": 15,
     "metadata": {},
     "output_type": "execute_result"
    }
   ],
   "source": [
    "df_ijo = pd.DataFrame(mrows)\n",
    "df_ijo"
   ]
  },
  {
   "cell_type": "code",
   "execution_count": 16,
   "metadata": {
    "collapsed": false,
    "deletable": true,
    "editable": true
   },
   "outputs": [
    {
     "name": "stdout",
     "output_type": "stream",
     "text": [
      "Pearson r=0.803936 (p=0.101094)\n",
      "Spearman r=0.9 (p=0.0373861)\n"
     ]
    },
    {
     "data": {
      "image/png": "[encoded data removed]",
      "text/plain": [
       "<matplotlib.figure.Figure at 0x7f2625121f50>"
      ]
     },
     "metadata": {},
     "output_type": "display_data"
    }
   ],
   "source": [
    "import scipy.stats as stats\n",
    "\n",
    "df_val = pd.merge(df_ijo, df_Y, on='cond')\n",
    "xymax = max(df_val.output.max(), df_val.muopt.max())\n",
    "plt.plot([0, xymax*1.15], [0, xymax*1.15], color='#333333')\n",
    "plt.scatter(df_val.output, df_val.muopt)\n",
    "for i,r in df_val.iterrows():\n",
    "    x = r['output']\n",
    "    y = r['muopt']\n",
    "    k = r['cond']\n",
    "    ls = plt.text(x, y, k)\n",
    "ax = ls.axes\n",
    "ax.set_aspect(1)\n",
    "ax.figure.set_size_inches(5,5)\n",
    "ax.set_xlabel('Measured growth rate (1/h)')\n",
    "ax.set_ylabel('Predicted growth rate (1/h)')\n",
    "\n",
    "r,p = stats.pearsonr(df_val.output, df_val.muopt)\n",
    "print 'Pearson r=%g (p=%g)' % (r,p)\n",
    "r,p = stats.spearmanr(df_val.output, df_val.muopt)\n",
    "print 'Spearman r=%g (p=%g)' % (r,p)"
   ]
  }
 ],
 "metadata": {
  "kernelspec": {
   "display_name": "Python 2",
   "language": "python",
   "name": "python2"
  },
  "language_info": {
   "codemirror_mode": {
    "name": "ipython",
    "version": 2
   },
   "file_extension": ".py",
   "mimetype": "text/x-python",
   "name": "python",
   "nbconvert_exporter": "python",
   "pygments_lexer": "ipython2",
   "version": "2.7.14"
  }
 },
 "nbformat": 4,
 "nbformat_minor": 2
}
