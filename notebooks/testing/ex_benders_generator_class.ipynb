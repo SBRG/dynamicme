{
 "cells": [
  {
   "cell_type": "markdown",
   "metadata": {
    "deletable": true,
    "editable": true
   },
   "source": [
    "# Given any MILP make Benders' decomposition using provided hints"
   ]
  },
  {
   "cell_type": "code",
   "execution_count": 1,
   "metadata": {
    "collapsed": true,
    "deletable": true,
    "editable": true
   },
   "outputs": [],
   "source": [
    "from gurobipy import *\n",
    "import pandas as pd\n",
    "import numpy as np\n",
    "\n",
    "UB = 1e3\n",
    "\n",
    "supply = [10.,30.,40.,20]\n",
    "demand = [20.,50.,30.]\n",
    "varcost = [[2.,3.,4.], [3.,2.,1.], [1.,4.,3.], [4.,5.,2.]]\n",
    "fixedcost = [[10.,30.,20.], [10.,30.,20.], [10.,30.,20.], [10.,30.,20.]]\n",
    "ns = len(supply)\n",
    "nd = len(demand)\n",
    "\n",
    "xup = {(i,j):min(supply[i], demand[j]) for i in range(ns) for j in range(nd)}"
   ]
  },
  {
   "cell_type": "code",
   "execution_count": 2,
   "metadata": {
    "collapsed": true,
    "deletable": true,
    "editable": true
   },
   "outputs": [],
   "source": [
    "milp = Model('milp')\n",
    "x0 = {(i,j):milp.addVar(0, UB, 0., GRB.CONTINUOUS, 'x[%d,%d]' % (i,j)) for i in range(ns) for j in range(nd)}\n",
    "y0 = {(i,j):milp.addVar(0, 1, 0., GRB.BINARY, 'y[%d,%d]'%(i,j)) for i in range(ns) for j in range(nd)}\n",
    "milp.update()\n",
    "cons_supply = [milp.addConstr( sum([x0[(i,j)] for j in range(nd)]) <= supply[i])  for i in range(ns)]\n",
    "cons_demand = [milp.addConstr( sum([x0[(i,j)] for i in range(ns)]) >= demand[j]) for j in range(nd)]\n",
    "cons_bigM   = [milp.addConstr(  x0[(i,j)] <= xup[(i,j)]*y0[(i,j)]) for i in range(ns) for j in range(nd)]\n",
    "f = fixedcost\n",
    "c = varcost\n",
    "milp.setObjective(sum([f[i][j]*y0[(i,j)] + c[i][j]*x0[(i,j)] for i in range(ns) for j in range(nd)]),\n",
    "                  GRB.MINIMIZE)"
   ]
  },
  {
   "cell_type": "code",
   "execution_count": 3,
   "metadata": {
    "collapsed": false,
    "deletable": true,
    "editable": true
   },
   "outputs": [],
   "source": [
    "milp.Params.OutputFlag = 0\n",
    "milp.optimize()"
   ]
  },
  {
   "cell_type": "code",
   "execution_count": 4,
   "metadata": {
    "collapsed": false,
    "deletable": true,
    "editable": true
   },
   "outputs": [
    {
     "data": {
      "text/plain": [
       "350.0"
      ]
     },
     "execution_count": 4,
     "metadata": {},
     "output_type": "execute_result"
    }
   ],
   "source": [
    "milp.ObjVal"
   ]
  },
  {
   "cell_type": "markdown",
   "metadata": {
    "deletable": true,
    "editable": true
   },
   "source": [
    "### Using Benders"
   ]
  },
  {
   "cell_type": "code",
   "execution_count": 5,
   "metadata": {
    "collapsed": false,
    "deletable": true,
    "editable": true
   },
   "outputs": [
    {
     "name": "stdout",
     "output_type": "stream",
     "text": [
      "Changed value of parameter Presolve to 0\n",
      "   Prev: -1  Min: -1  Max: 2  Default: -1\n",
      "Changed value of parameter LazyConstraints to 1\n",
      "   Prev: 0  Min: 0  Max: 1  Default: 0\n"
     ]
    }
   ],
   "source": [
    "from dynamicme.decomposition import Decomposer\n",
    "from dynamicme.callback_gurobi import cb_benders\n",
    "\n",
    "decomposer = Decomposer(milp)\n",
    "master,sub = decomposer.benders_decomp()"
   ]
  },
  {
   "cell_type": "code",
   "execution_count": 6,
   "metadata": {
    "collapsed": false,
    "deletable": true,
    "editable": true
   },
   "outputs": [
    {
     "name": "stdout",
     "output_type": "stream",
     "text": [
      "Parameter Presolve unchanged\n",
      "   Value: 0  Min: -1  Max: 2  Default: -1\n",
      "Changed value of parameter Presolve to 0\n",
      "   Prev: -1  Min: -1  Max: 2  Default: -1\n",
      "Parameter LazyConstraints unchanged\n",
      "   Value: 1  Min: 0  Max: 1  Default: 0\n",
      "Parameter OutputFlag unchanged\n",
      "   Value: 1  Min: 0  Max: 1  Default: 1\n",
      "Optimize a model with 1 rows, 13 columns and 13 nonzeros\n",
      "Variable types: 1 continuous, 12 integer (12 binary)\n",
      "Coefficient statistics:\n",
      "  Matrix range     [1e+00, 3e+01]\n",
      "  Objective range  [1e+00, 1e+00]\n",
      "  Bounds range     [1e+00, 1e+03]\n",
      "  RHS range        [0e+00, 0e+00]\n",
      "Variable types: 1 continuous, 12 integer (12 binary)\n",
      "\n",
      "Root relaxation: objective 5.666667e+01, 5 iterations, 0.00 seconds\n",
      "\n",
      "    Nodes    |    Current Node    |     Objective Bounds      |     Work\n",
      " Expl Unexpl |  Obj  Depth IntInf | Incumbent    BestBd   Gap | It/Node Time\n",
      "\n",
      "     0     0   56.66667    0    1          -   56.66667      -     -    0s\n",
      "     0     0   65.06500    0    2          -   65.06500      -     -    0s\n",
      "     0     0   68.00000    0    2          -   68.00000      -     -    0s\n",
      "     0     0   71.89834    0    5          -   71.89834      -     -    0s\n",
      "     0     0   75.00000    0    5          -   75.00000      -     -    0s\n",
      "     0     0   75.00000    0    4          -   75.00000      -     -    0s\n",
      "     0     2   75.58667    0    6          -   75.58667      -     -    0s\n",
      "*   58    37               9     380.0000000   96.03433  74.7%   5.1    0s\n",
      "*   76    16               6     360.0000000  107.35822  70.2%   5.3    0s\n",
      "*   85    16               5     350.0000000  107.35822  69.3%   5.1    0s\n",
      "\n",
      "Cutting planes:\n",
      "  MIR: 10\n",
      "  StrongCG: 3\n",
      "  Inf proof: 2\n",
      "  Lazy constraints: 85\n",
      "\n",
      "Explored 101 nodes (493 simplex iterations) in 0.07 seconds\n",
      "Thread count was 8 (of 8 available processors)\n",
      "\n",
      "Solution count 3: 350 360 380 \n",
      "Pool objective bound 350\n",
      "\n",
      "Optimal solution found (tolerance 1.00e-04)\n",
      "Best objective 3.500000000000e+02, best bound 3.500000000000e+02, gap 0.0000%\n"
     ]
    }
   ],
   "source": [
    "master.Params.Presolve = 0\n",
    "sub.Params.Presolve = 0\n",
    "master.Params.LazyConstraints = 1\n",
    "master.Params.OutputFlag = 1\n",
    "sub.Params.OutputFlag = 0\n",
    "master._verbosity = 0\n",
    "master.optimize(cb_benders)"
   ]
  },
  {
   "cell_type": "markdown",
   "metadata": {
    "deletable": true,
    "editable": true
   },
   "source": [
    "### Compare"
   ]
  },
  {
   "cell_type": "code",
   "execution_count": 7,
   "metadata": {
    "collapsed": false,
    "deletable": true,
    "editable": true
   },
   "outputs": [],
   "source": [
    "ys2 = [y for y in master.getVars() if y.VType != 'C']\n",
    "yfin = [y.X for y in ys2]\n",
    "decomposer.update_subobj(yfin)\n",
    "sub.Params.OutputFlag=0\n",
    "sub.optimize()"
   ]
  },
  {
   "cell_type": "code",
   "execution_count": 11,
   "metadata": {
    "collapsed": false
   },
   "outputs": [
    {
     "name": "stdout",
     "output_type": "stream",
     "text": [
      "350.0 350.0\n"
     ]
    }
   ],
   "source": [
    "print milp.ObjVal, master.ObjVal"
   ]
  },
  {
   "cell_type": "code",
   "execution_count": 8,
   "metadata": {
    "collapsed": false,
    "deletable": true,
    "editable": true
   },
   "outputs": [
    {
     "name": "stdout",
     "output_type": "stream",
     "text": [
      "             x0          x_sub           Diff             c0          c_sub\n",
      "              0              0              0\n",
      "              0              0              0\n",
      "             20             20       7.11e-15\n",
      "              0              0              0\n",
      "              0              0              0\n",
      "              0              0              0\n",
      "             20             20       1.42e-14\n",
      "             30             30              0\n",
      "             20             20      -1.42e-14\n",
      "              0              0              0\n",
      "              0              0              0\n",
      "             10             10              0\n"
     ]
    }
   ],
   "source": [
    "xs2 = {r.ConstrName:r.Pi for r in sub.getConstrs()}\n",
    "\n",
    "print('%15.10s%15.10s%15.10s%15.10s%15.10s' % ('x0','x_sub','Diff', 'c0', 'c_sub'))\n",
    "for xj1 in x0.values():    \n",
    "    xj2 = xs2[xj1.VarName]\n",
    "    print('%15.3g%15.3g%15.3g' % (xj1.X, xj2, xj2-xj1.X))"
   ]
  },
  {
   "cell_type": "code",
   "execution_count": null,
   "metadata": {
    "collapsed": true,
    "deletable": true,
    "editable": true
   },
   "outputs": [],
   "source": []
  }
 ],
 "metadata": {
  "kernelspec": {
   "display_name": "Python 2",
   "language": "python",
   "name": "python2"
  },
  "language_info": {
   "codemirror_mode": {
    "name": "ipython",
    "version": 2
   },
   "file_extension": ".py",
   "mimetype": "text/x-python",
   "name": "python",
   "nbconvert_exporter": "python",
   "pygments_lexer": "ipython2",
   "version": "2.7.14"
  }
 },
 "nbformat": 4,
 "nbformat_minor": 2
}
