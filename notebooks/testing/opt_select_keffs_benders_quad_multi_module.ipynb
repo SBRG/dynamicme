{
 "cells": [
  {
   "cell_type": "markdown",
   "metadata": {
    "deletable": true,
    "editable": true
   },
   "source": [
    "## Solve using Benders"
   ]
  },
  {
   "cell_type": "code",
   "execution_count": 1,
   "metadata": {
    "collapsed": false,
    "deletable": true,
    "editable": true
   },
   "outputs": [],
   "source": [
    "from gurobipy import *"
   ]
  },
  {
   "cell_type": "code",
   "execution_count": 2,
   "metadata": {
    "collapsed": true,
    "deletable": true,
    "editable": true
   },
   "outputs": [],
   "source": [
    "import seaborn as sns\n",
    "import pandas as pd\n",
    "import matplotlib.pyplot as plt\n",
    "\n",
    "plt.rcParams['svg.fonttype'] = 'none'\n",
    "pd.set_option('display.max_colwidth', -1)\n",
    "%matplotlib inline"
   ]
  },
  {
   "cell_type": "code",
   "execution_count": 3,
   "metadata": {
    "collapsed": true,
    "deletable": true,
    "editable": true
   },
   "outputs": [],
   "source": [
    "df_meas = pd.read_csv('/home/laurence/ME/data/dynamicME/beg/growth_meas.csv')"
   ]
  },
  {
   "cell_type": "code",
   "execution_count": 4,
   "metadata": {
    "collapsed": true,
    "deletable": true,
    "editable": true
   },
   "outputs": [],
   "source": [
    "N_CONDS = 2"
   ]
  },
  {
   "cell_type": "code",
   "execution_count": 5,
   "metadata": {
    "collapsed": false
   },
   "outputs": [],
   "source": [
    "conds = df_meas.substrate.unique()\n",
    "ex_rxns = df_meas.ex_rxn.unique()\n",
    "\n",
    "df_conds = pd.DataFrame([{'cond':r['substrate'], 'rxn':ex_rxn, 'lb':-10 if r['ex_rxn']==ex_rxn else 0, 'ub':1000., 'obj':0.} for i,r in df_meas.iterrows() for ex_rxn in ex_rxns])\n",
    "df_conds = df_conds[ df_conds.cond.isin(conds[0:N_CONDS])]"
   ]
  },
  {
   "cell_type": "code",
   "execution_count": 6,
   "metadata": {
    "collapsed": false
   },
   "outputs": [
    {
     "name": "stdout",
     "output_type": "stream",
     "text": [
      "(<type 'exceptions.ImportError'>, ImportError('No module named cplex',), <traceback object at 0x7faa81585e60>)\n"
     ]
    }
   ],
   "source": [
    "from dynamicme.decomposition import Decomposer\n",
    "from dynamicme.callback_gurobi import cb_benders\n",
    "from dynamicme.optimize import Optimizer, StackOptimizer\n",
    "\n",
    "from cobra.io import load_json_model\n",
    "from cobra import Metabolite, Reaction\n",
    "from six import iteritems\n",
    "\n",
    "import cobra\n",
    "\n",
    "# Just need fitted model for its kopt\n",
    "ijofit = load_json_model('/home/laurence/ME/data/dynamicME/best_ijomc.json')\n",
    "# This is the basal model\n",
    "ijomc  = load_json_model('/home/laurence/ME/data/dynamicME/nominal_ijomc.json')\n",
    "\n",
    "### Stack models\n",
    "stacker = StackOptimizer()"
   ]
  },
  {
   "cell_type": "code",
   "execution_count": 7,
   "metadata": {
    "collapsed": false
   },
   "outputs": [
    {
     "name": "stdout",
     "output_type": "stream",
     "text": [
      "CPU times: user 13.8 s, sys: 87.1 ms, total: 13.8 s\n",
      "Wall time: 13.9 s\n",
      "CPU times: user 3.74 s, sys: 48.4 ms, total: 3.79 s\n",
      "Wall time: 3.78 s\n"
     ]
    }
   ],
   "source": [
    "opt = Optimizer(ijomc)\n",
    "%time gap = opt.add_duality_gap_constraint()\n",
    "%time stacker.stack_models(gap, df_conds)"
   ]
  },
  {
   "cell_type": "code",
   "execution_count": 8,
   "metadata": {
    "collapsed": false
   },
   "outputs": [
    {
     "data": {
      "text/plain": [
       "[<Metabolite duality_gap_glucose at 0x7faa1b906810>,\n",
       " <Metabolite duality_gap_maltose at 0x7faa1e66e750>]"
      ]
     },
     "execution_count": 8,
     "metadata": {},
     "output_type": "execute_result"
    }
   ],
   "source": [
    "stacker.model.metabolites.query('duality')"
   ]
  },
  {
   "cell_type": "code",
   "execution_count": 9,
   "metadata": {
    "collapsed": false,
    "deletable": true,
    "editable": true
   },
   "outputs": [
    {
     "data": {
      "text/plain": [
       "[<Metabolite crowding_glucose at 0x7faa1b8ea690>,\n",
       " <Metabolite crowding_maltose at 0x7faa1e64d5d0>]"
      ]
     },
     "execution_count": 9,
     "metadata": {},
     "output_type": "execute_result"
    }
   ],
   "source": [
    "stacker.model.metabolites.query('crowding')"
   ]
  },
  {
   "cell_type": "code",
   "execution_count": 10,
   "metadata": {
    "collapsed": false,
    "deletable": true,
    "editable": true
   },
   "outputs": [],
   "source": [
    "crowding = ijomc.metabolites.crowding\n",
    "crowdingfit = ijofit.metabolites.crowding\n",
    "a12_dict = {(crowding.id, rxn.id):(\n",
    "    rxn.metabolites[crowding],\n",
    "    ijofit.reactions.get_by_id(rxn.id).metabolites[crowdingfit]) for rxn in crowding.reactions}"
   ]
  },
  {
   "cell_type": "code",
   "execution_count": 11,
   "metadata": {
    "collapsed": false
   },
   "outputs": [
    {
     "data": {
      "text/plain": [
       "<Model stacked at 0x7faa2107f9d0>"
      ]
     },
     "execution_count": 11,
     "metadata": {},
     "output_type": "execute_result"
    }
   ],
   "source": [
    "opt = Optimizer(stacker.model)\n",
    "opt.stack_disjunctive(stacker.model, a12_dict, stacker.model_dict.keys())"
   ]
  },
  {
   "cell_type": "code",
   "execution_count": 13,
   "metadata": {
    "collapsed": false,
    "deletable": true,
    "editable": true
   },
   "outputs": [],
   "source": [
    "stacked_model = stacker.model\n",
    "\n",
    "for rxn in stacked_model.reactions:\n",
    "    rxn.objective_coefficient = 0.\n",
    "for rxn in stacked_model.reactions.query('binary_'):\n",
    "    rxn.objective_coefficient = 1."
   ]
  },
  {
   "cell_type": "code",
   "execution_count": 22,
   "metadata": {
    "collapsed": false,
    "deletable": true,
    "editable": true
   },
   "outputs": [
    {
     "name": "stdout",
     "output_type": "stream",
     "text": [
      "Condition maltose: constraining 0.651 <= mu <= 0.589\n",
      "Condition glucose: constraining 0.777 <= mu <= 0.703\n"
     ]
    }
   ],
   "source": [
    "### Set conditions and measurements\n",
    "F_TOL = 0.05\n",
    "\n",
    "mu_id = ijomc.reactions.BIOMASS_Ec_iJO1366_core_53p95M.id\n",
    "\n",
    "for cond,mdl in iteritems(stacker.model_dict):    \n",
    "    row = df_meas[ df_meas.substrate==cond].iloc[0]    \n",
    "    ex_id = row['ex_rxn']\n",
    "    mu_meas = row['growth_rate_1_h']\n",
    "    \n",
    "    # Set this bound\n",
    "    muL = mu_meas*(1+F_TOL)\n",
    "    muU = mu_meas*(1-F_TOL)\n",
    "    \n",
    "    print('Condition %s: constraining %g <= mu <= %g' % (cond, muL, muU))\n",
    "    \n",
    "    mu_rxn = stacked_model.reactions.get_by_id(mu_id+'_%s'%cond)    \n",
    "    mu_rxn.upper_bound = muL\n",
    "    mu_rxn.lower_bound = muU"
   ]
  },
  {
   "cell_type": "code",
   "execution_count": 24,
   "metadata": {
    "collapsed": false,
    "deletable": true,
    "editable": true
   },
   "outputs": [
    {
     "data": {
      "text/plain": [
       "[(u'BIOMASS_Ec_iJO1366_core_53p95M_glucose', 0.703, 0.777),\n",
       " (u'wl_BIOMASS_Ec_iJO1366_core_53p95M_glucose', 0.0, 1000.0),\n",
       " (u'wu_BIOMASS_Ec_iJO1366_core_53p95M_glucose', 0.0, 1000.0),\n",
       " (u'BIOMASS_Ec_iJO1366_core_53p95M_maltose', 0.589, 0.651),\n",
       " (u'wl_BIOMASS_Ec_iJO1366_core_53p95M_maltose', 0.0, 1000.0),\n",
       " (u'wu_BIOMASS_Ec_iJO1366_core_53p95M_maltose', 0.0, 1000.0)]"
      ]
     },
     "execution_count": 24,
     "metadata": {},
     "output_type": "execute_result"
    }
   ],
   "source": [
    "[(r.id, r.lower_bound, r.upper_bound) for r in stacked_model.reactions.query('BIOMASS_Ec_iJO1366_core_')]"
   ]
  },
  {
   "cell_type": "code",
   "execution_count": null,
   "metadata": {
    "collapsed": false,
    "deletable": true,
    "editable": true
   },
   "outputs": [],
   "source": [
    "%%time\n",
    "stacked_model.optimize(solver='gurobi', objective_sense='minimize')"
   ]
  },
  {
   "cell_type": "code",
   "execution_count": null,
   "metadata": {
    "collapsed": false,
    "deletable": true,
    "editable": true
   },
   "outputs": [],
   "source": [
    "sum([r.x for r in stacked_model.reactions.query('binary_')])"
   ]
  },
  {
   "cell_type": "code",
   "execution_count": null,
   "metadata": {
    "collapsed": false,
    "deletable": true,
    "editable": true
   },
   "outputs": [],
   "source": [
    "for rxn in stacked_model.reactions.query('binary_'):\n",
    "    if rxn.x > 0.99:\n",
    "        print rxn, rxn.x"
   ]
  },
  {
   "cell_type": "markdown",
   "metadata": {
    "deletable": true,
    "editable": true
   },
   "source": [
    "## Solve as MILP"
   ]
  },
  {
   "cell_type": "code",
   "execution_count": 26,
   "metadata": {
    "collapsed": true,
    "deletable": true,
    "editable": true
   },
   "outputs": [],
   "source": [
    "from cobra.solvers import gurobi_solver\n",
    "from gurobipy import *"
   ]
  },
  {
   "cell_type": "code",
   "execution_count": 27,
   "metadata": {
    "collapsed": false,
    "deletable": true,
    "editable": true
   },
   "outputs": [
    {
     "name": "stdout",
     "output_type": "stream",
     "text": [
      "CPU times: user 1.2 s, sys: 51.2 ms, total: 1.25 s\n",
      "Wall time: 1.22 s\n"
     ]
    }
   ],
   "source": [
    "%%time\n",
    "milp = gurobi_solver.create_problem(stacked_model)\n",
    "milp.ModelSense = GRB.MINIMIZE"
   ]
  },
  {
   "cell_type": "code",
   "execution_count": 28,
   "metadata": {
    "collapsed": false,
    "deletable": true,
    "editable": true
   },
   "outputs": [],
   "source": [
    "milp.Params.IntFeasTol = 1e-9\n",
    "# milp.Params.FeasibilityTol = 1e-8\n",
    "# milp.Params.OptimalityTol = 1e-8\n",
    "# milp.Params.Presolve = 0\n",
    "milp.Params.NumericFocus = 1"
   ]
  },
  {
   "cell_type": "code",
   "execution_count": null,
   "metadata": {
    "collapsed": false,
    "deletable": true,
    "editable": true
   },
   "outputs": [
    {
     "name": "stdout",
     "output_type": "stream",
     "text": [
      "Changed value of parameter OutputFlag to 1\n",
      "   Prev: 0  Min: 0  Max: 1  Default: 1\n",
      "Optimize a model with 44566 rows, 35030 columns and 159086 nonzeros\n",
      "Variable types: 33012 continuous, 2018 integer (0 binary)\n",
      "Coefficient statistics:\n",
      "  Matrix range     [2e-11, 1e+04]\n",
      "  Objective range  [1e+00, 1e+00]\n",
      "  Bounds range     [1e-02, 1e+03]\n",
      "  RHS range        [5e-03, 1e+04]\n",
      "Warning: Model contains large matrix coefficient range\n",
      "Presolve removed 15950 rows and 10917 columns\n",
      "Presolve time: 0.70s\n",
      "Presolved: 28616 rows, 24113 columns, 111436 nonzeros\n",
      "Variable types: 22095 continuous, 2018 integer (2018 binary)\n",
      "\n",
      "Root simplex log...\n",
      "\n",
      "Iteration    Objective       Primal Inf.    Dual Inf.      Time\n",
      "   30537    1.4797590e+02   2.114500e-03   3.515468e+08      5s\n",
      "   34087    2.3192890e-01   0.000000e+00   0.000000e+00      7s\n",
      "\n",
      "Root relaxation: objective 2.319289e-01, 34087 iterations, 6.31 seconds\n",
      "\n",
      "    Nodes    |    Current Node    |     Objective Bounds      |     Work\n",
      " Expl Unexpl |  Obj  Depth IntInf | Incumbent    BestBd   Gap | It/Node Time\n",
      "\n",
      "     0     0    0.23193    0    3          -    0.23193      -     -    7s\n",
      "     0     0    0.23193    0    3          -    0.23193      -     -    7s\n",
      "     0     2    0.34660    0    3          -    0.34660      -     -   11s\n",
      "   136   123 infeasible   25               -    2.09620      -   132   15s\n",
      "   312   299    7.42721   61   79          -    2.09620      -   103   20s\n",
      "   389   380    9.04119   87  100          -    2.09620      -  94.5   25s\n",
      "   481   467   13.00897  107  109          -    2.09620      -   110   55s\n",
      "   615   592    8.84498  126   74          -    2.09620      -   180   60s\n",
      "   746   703    3.08803    6   18          -    2.35257      -   161   65s\n",
      "   933   871    4.61043   79   29          -    2.35257      -   148   70s\n",
      "  1038   957    5.64253  126   37          -    2.35257      -   135   90s\n"
     ]
    }
   ],
   "source": [
    "milp.Params.OutputFlag=1\n",
    "%time milp.optimize()"
   ]
  },
  {
   "cell_type": "code",
   "execution_count": null,
   "metadata": {
    "collapsed": false,
    "deletable": true,
    "editable": true
   },
   "outputs": [],
   "source": [
    "milp.Status == GRB.OPTIMAL"
   ]
  },
  {
   "cell_type": "code",
   "execution_count": null,
   "metadata": {
    "collapsed": false,
    "deletable": true,
    "editable": true
   },
   "outputs": [],
   "source": [
    "milp.ObjVal"
   ]
  },
  {
   "cell_type": "code",
   "execution_count": 99,
   "metadata": {
    "collapsed": false,
    "deletable": true,
    "editable": true
   },
   "outputs": [],
   "source": [
    "sol = gurobi_solver.format_solution(milp, stacked_model)"
   ]
  },
  {
   "cell_type": "code",
   "execution_count": 101,
   "metadata": {
    "collapsed": false,
    "deletable": true,
    "editable": true
   },
   "outputs": [
    {
     "name": "stdout",
     "output_type": "stream",
     "text": [
      "binary_crowding_ATPS4rpp_abs 1.0 1.0\n"
     ]
    }
   ],
   "source": [
    "for rxn in stacked_model.reactions.query('binary_'):\n",
    "    if rxn.x > 0.99:\n",
    "        xmilp = sol.x_dict[rxn.id]\n",
    "        print rxn, rxn.x, xmilp"
   ]
  },
  {
   "cell_type": "code",
   "execution_count": null,
   "metadata": {
    "collapsed": true,
    "deletable": true,
    "editable": true
   },
   "outputs": [],
   "source": []
  },
  {
   "cell_type": "code",
   "execution_count": null,
   "metadata": {
    "collapsed": true,
    "deletable": true,
    "editable": true
   },
   "outputs": [],
   "source": []
  },
  {
   "cell_type": "code",
   "execution_count": null,
   "metadata": {
    "collapsed": true,
    "deletable": true,
    "editable": true
   },
   "outputs": [],
   "source": []
  },
  {
   "cell_type": "markdown",
   "metadata": {
    "deletable": true,
    "editable": true
   },
   "source": [
    "## Solve using Benders with quad/dqq subproblem"
   ]
  },
  {
   "cell_type": "code",
   "execution_count": 28,
   "metadata": {
    "collapsed": false,
    "deletable": true,
    "editable": true
   },
   "outputs": [
    {
     "name": "stdout",
     "output_type": "stream",
     "text": [
      "Changed value of parameter Presolve to 0\n",
      "   Prev: -1  Min: -1  Max: 2  Default: -1\n",
      "Changed value of parameter LazyConstraints to 1\n",
      "   Prev: 0  Min: 0  Max: 1  Default: 0\n",
      "Changed value of parameter IntFeasTol to 1e-09\n",
      "   Prev: 1e-05  Min: 1e-09  Max: 0.1  Default: 1e-05\n"
     ]
    }
   ],
   "source": [
    "from dynamicme.decomposition import Decomposer\n",
    "from dynamicme.callback_gurobi import cb_benders\n",
    "\n",
    "decomposer = Decomposer(milp)\n",
    "master,sub = decomposer.benders_decomp()\n",
    "master._precision_sub = 'quad'\n",
    "master._verbosity = 1"
   ]
  },
  {
   "cell_type": "code",
   "execution_count": 42,
   "metadata": {
    "collapsed": false,
    "deletable": true,
    "editable": true
   },
   "outputs": [
    {
     "data": {
      "text/plain": [
       "{'Feasibility tol': 1e-15,\n",
       " 'LU factor tol': 10.0,\n",
       " 'LU singularity tol': 1e-30,\n",
       " 'LU update tol': 10.0,\n",
       " 'Optimality tol': 1e-15,\n",
       " 'Penalty parameter': 100.0,\n",
       " 'Unbounded step size': 1e+30}"
      ]
     },
     "execution_count": 42,
     "metadata": {},
     "output_type": "execute_result"
    }
   ],
   "source": [
    "sub.qsolver.opt_realdict['lp']"
   ]
  },
  {
   "cell_type": "code",
   "execution_count": 29,
   "metadata": {
    "collapsed": false,
    "deletable": true,
    "editable": true
   },
   "outputs": [
    {
     "name": "stdout",
     "output_type": "stream",
     "text": [
      "Optimize a model with 1 rows, 2019 columns and 2019 nonzeros\n",
      "Variable types: 1 continuous, 2018 integer (0 binary)\n",
      "Coefficient statistics:\n",
      "  Matrix range     [1e+00, 1e+00]\n",
      "  Objective range  [1e+00, 1e+00]\n",
      "  Bounds range     [1e+00, 1e+03]\n",
      "  RHS range        [0e+00, 0e+00]\n",
      "Getting MINOS parameters...\n",
      "Done in 225.226 seconds with status 0\n",
      "zmaster=0. zsub=3.70303. gap=-3.70303\n",
      "Getting MINOS parameters...\n",
      "Done in 1.35714 seconds with status 0\n",
      "zmaster=0. zsub=3.70303. gap=-3.70303\n",
      "Getting MINOS parameters...\n",
      "Done in 1.31344 seconds with status 0\n",
      "zmaster=0. zsub=3.70303. gap=-3.70303\n",
      "Variable types: 1 continuous, 2018 integer (2018 binary)\n",
      "Getting MINOS parameters...\n",
      "Done in 1.29678 seconds with status 0\n",
      "zmaster=0. zsub=3.70303. gap=-3.70303\n",
      "\n",
      "Root simplex log...\n",
      "\n",
      "Iteration    Objective       Primal Inf.    Dual Inf.      Time\n",
      "       0    0.0000000e+00   5.785988e-03   0.000000e+00    233s\n",
      "       2    6.2219142e-02   0.000000e+00   0.000000e+00    233s\n",
      "\n",
      "Root relaxation: objective 6.221914e-02, 2 iterations, 0.00 seconds\n",
      "\n",
      "    Nodes    |    Current Node    |     Objective Bounds      |     Work\n",
      " Expl Unexpl |  Obj  Depth IntInf | Incumbent    BestBd   Gap | It/Node Time\n",
      "\n",
      "     0     0    0.06222    0    1          -    0.06222      -     -  232s\n",
      "Getting MINOS parameters...\n",
      "Done in 66.9356 seconds with status 0\n",
      "zmaster=1. zsub=1. gap=0\n",
      "H    0     0                       1.0000000    0.06222  93.8%     -  300s\n",
      "Getting MINOS parameters...\n",
      "Done in 188.253 seconds with status 0\n",
      "zmaster=0.0622191. zsub=0.0622191. gap=0\n",
      "     0     0    0.78737    0    1    1.00000    0.78737  21.3%     -  489s\n",
      "Getting MINOS parameters...\n",
      "Done in 116.883 seconds with status 0\n",
      "zmaster=0.787371. zsub=0.787371. gap=0\n",
      "\n",
      "Cutting planes:\n",
      "  MIR: 2\n",
      "  Lazy constraints: 1\n",
      "\n",
      "Explored 1 nodes (3 simplex iterations) in 607.65 seconds\n",
      "Thread count was 8 (of 8 available processors)\n",
      "\n",
      "Solution count 1: 1 \n",
      "\n",
      "Optimal solution found (tolerance 1.00e-04)\n",
      "Best objective 1.000000000000e+00, best bound 1.000000000000e+00, gap 0.0000%\n",
      "CPU times: user 10min 6s, sys: 107 ms, total: 10min 6s\n",
      "Wall time: 10min 7s\n"
     ]
    }
   ],
   "source": [
    "%%time\n",
    "master.optimize(cb_benders)"
   ]
  },
  {
   "cell_type": "code",
   "execution_count": 30,
   "metadata": {
    "collapsed": false,
    "deletable": true,
    "editable": true
   },
   "outputs": [
    {
     "data": {
      "text/plain": [
       "1.0"
      ]
     },
     "execution_count": 30,
     "metadata": {},
     "output_type": "execute_result"
    }
   ],
   "source": [
    "import numpy as np\n",
    "yopt = np.array([y.X for y in decomposer._ys])\n",
    "sum(yopt)"
   ]
  },
  {
   "cell_type": "code",
   "execution_count": 31,
   "metadata": {
    "collapsed": true,
    "deletable": true,
    "editable": true
   },
   "outputs": [],
   "source": [
    "y_dict = {y.VarName:y.X for y in decomposer._ys}"
   ]
  },
  {
   "cell_type": "code",
   "execution_count": 32,
   "metadata": {
    "collapsed": false,
    "deletable": true,
    "editable": true
   },
   "outputs": [
    {
     "name": "stdout",
     "output_type": "stream",
     "text": [
      "Getting MINOS parameters...\n",
      "Done in 21.6104 seconds with status 0\n"
     ]
    }
   ],
   "source": [
    "from qminos.quadLP import QMINOS\n",
    "### SOlve primal sub\n",
    "qsolver = QMINOS()\n",
    "sense_dict = {GRB.EQUAL:'E', GRB.LESS_EQUAL:'L', GRB.GREATER_EQUAL:'G'}\n",
    "csenses = [sense_dict[c] for c in decomposer._csenses]\n",
    "xp,statp,hsp = qsolver.solvelp(decomposer._A, decomposer._d - decomposer._B*yopt, decomposer._cx, decomposer._xl, decomposer._xu, csenses, precision='dqq')"
   ]
  },
  {
   "cell_type": "code",
   "execution_count": 33,
   "metadata": {
    "collapsed": true,
    "deletable": true,
    "editable": true
   },
   "outputs": [],
   "source": [
    "x_dict = {x.VarName:xp[j] for j,x in enumerate(decomposer._x0)}"
   ]
  },
  {
   "cell_type": "code",
   "execution_count": 34,
   "metadata": {
    "collapsed": false,
    "deletable": true,
    "editable": true
   },
   "outputs": [
    {
     "data": {
      "text/plain": [
       "0.7490032656265933"
      ]
     },
     "execution_count": 34,
     "metadata": {},
     "output_type": "execute_result"
    }
   ],
   "source": [
    "gap.reactions.BIOMASS_Ec_iJO1366_core_53p95M.x"
   ]
  },
  {
   "cell_type": "code",
   "execution_count": 35,
   "metadata": {
    "collapsed": false,
    "deletable": true,
    "editable": true
   },
   "outputs": [
    {
     "data": {
      "text/plain": [
       "<gurobi.Var 7 (value 0.749027199175)>"
      ]
     },
     "execution_count": 35,
     "metadata": {},
     "output_type": "execute_result"
    }
   ],
   "source": [
    "milp.getVars()[7]"
   ]
  },
  {
   "cell_type": "code",
   "execution_count": 36,
   "metadata": {
    "collapsed": false,
    "deletable": true,
    "editable": true
   },
   "outputs": [
    {
     "data": {
      "text/plain": [
       "0.7490271991752928"
      ]
     },
     "execution_count": 36,
     "metadata": {},
     "output_type": "execute_result"
    }
   ],
   "source": [
    "x_dict['7']"
   ]
  },
  {
   "cell_type": "code",
   "execution_count": 37,
   "metadata": {
    "collapsed": false,
    "deletable": true,
    "editable": true
   },
   "outputs": [
    {
     "name": "stdout",
     "output_type": "stream",
     "text": [
      "(0.6936745323599769, 0.7666929041873429)\n"
     ]
    }
   ],
   "source": [
    "print(gap.reactions.BIOMASS_Ec_iJO1366_core_53p95M.lower_bound, gap.reactions.BIOMASS_Ec_iJO1366_core_53p95M.upper_bound)"
   ]
  },
  {
   "cell_type": "code",
   "execution_count": 38,
   "metadata": {
    "collapsed": false,
    "deletable": true,
    "editable": true
   },
   "outputs": [
    {
     "data": {
      "text/plain": [
       "{u'binary_crowding_GLCURtex_abs': '12920',\n",
       " u'binary_crowding_SPODM': '15479',\n",
       " u'binary_crowding_THRS': '16496',\n",
       " u'binary_crowding_DINSt2pp': '17126',\n",
       " u'binary_crowding_THRD': '14618',\n",
       " u'binary_crowding_RPI_abs': '15749',\n",
       " u'binary_crowding_AMALT3': '16676',\n",
       " u'binary_crowding_DHPPD': '15404',\n",
       " u'binary_crowding_METSOX1abcpp': '12632',\n",
       " u'binary_crowding_DAPAL': '16184',\n",
       " u'binary_crowding_ACACCT': '15716',\n",
       " u'binary_crowding_MINCYCtpp': '14459',\n",
       " u'binary_crowding_G3PCabcpp': '17675',\n",
       " u'binary_crowding_AGM4PCPpp': '18017',\n",
       " u'binary_crowding_TTRCYCtex_abs': '13409',\n",
       " u'binary_crowding_PAPA140': '14714',\n",
       " u'binary_crowding_PAPA141': '13013',\n",
       " u'binary_crowding_TRSARr_abs': '12485',\n",
       " u'binary_crowding_FE3HOXexs': '13361',\n",
       " u'binary_crowding_GGGABAH': '18233',\n",
       " u'binary_crowding_GLYBt2pp': '16268',\n",
       " u'binary_crowding_PE120abcpp': '15227',\n",
       " u'binary_crowding_FUSAtpp': '17144',\n",
       " u'binary_crowding_GLCDpp': '17120',\n",
       " u'binary_crowding_PUNP2_abs': '17165',\n",
       " u'binary_crowding_FRUpts2pp': '14870',\n",
       " u'binary_crowding_MDDCP4pp': '17858',\n",
       " u'binary_crowding_MDDEP3pp': '12977',\n",
       " u'binary_crowding_ACSERtex_abs': '17198',\n",
       " u'binary_crowding_AIRC2': '17864',\n",
       " u'binary_crowding_AGM4PA': '17105',\n",
       " u'binary_crowding_LPADSS': '15248',\n",
       " u'binary_crowding_AGM4PH': '13550',\n",
       " u'binary_crowding_LPLIPAL1E120pp': '17564',\n",
       " u'binary_crowding_PYRt2rpp_abs': '16682',\n",
       " u'binary_crowding_PYDXtpp': '13955',\n",
       " u'binary_crowding_UAGCVT': '16427',\n",
       " u'binary_crowding_3NTD9pp': '12914',\n",
       " u'binary_crowding_OXCDC': '14624',\n",
       " u'binary_crowding_G3PEabcpp': '14096',\n",
       " u'binary_crowding_23CAMPtex_abs': '14012',\n",
       " u'binary_crowding_E4PD_abs': '14288',\n",
       " u'binary_crowding_THD2pp': '15146',\n",
       " u'binary_crowding_GMPS2': '15875',\n",
       " u'binary_crowding_ADOCBLtonex': '12665',\n",
       " u'binary_crowding_CD2t3pp': '15113',\n",
       " u'binary_crowding_ALLK': '12563',\n",
       " u'binary_crowding_PSSA181': '16250',\n",
       " u'binary_crowding_HPPPNDO': '17168',\n",
       " u'binary_crowding_PSSA180': '12770',\n",
       " u'binary_crowding_UDPGALPpp': '18482',\n",
       " u'binary_crowding_OAADC': '17870',\n",
       " u'binary_crowding_CRNt2rpp_abs': '14558',\n",
       " u'binary_crowding_LPLIPAL1A180pp': '12503',\n",
       " u'binary_crowding_14GLUCANabcpp': '12755',\n",
       " u'binary_crowding_LSERDHr_abs': '14852',\n",
       " u'binary_crowding_PLIPA2A141pp': '15440',\n",
       " u'binary_crowding_ACt2rpp_abs': '17714',\n",
       " u'binary_crowding_MMCD': '17795',\n",
       " u'binary_crowding_OMCDC': '18035',\n",
       " u'binary_crowding_MANPGH': '18059',\n",
       " u'binary_crowding_CYTK1_abs': '17810',\n",
       " u'binary_crowding_DHACOAH_abs': '13571',\n",
       " u'binary_crowding_PA141abcpp': '15473',\n",
       " u'binary_crowding_METS': '15221',\n",
       " u'binary_crowding_PYRtex_abs': '14117',\n",
       " u'binary_crowding_PLIPA2G120pp': '16610',\n",
       " u'binary_crowding_PLIPA2G161pp': '15635',\n",
       " u'binary_crowding_HEX1': '14795',\n",
       " u'binary_crowding_GLBRAN2': '13100',\n",
       " u'binary_crowding_HEX7': '14552',\n",
       " u'binary_crowding_MELIBtex_abs': '16673',\n",
       " u'binary_crowding_DURIt2pp': '13055',\n",
       " u'binary_crowding_PSD141': '12557',\n",
       " u'binary_crowding_HEPK1': '12839',\n",
       " u'binary_crowding_HEPK2': '16619',\n",
       " u'binary_crowding_DGMPtex_abs': '14780',\n",
       " u'binary_crowding_23PDE4pp': '14675',\n",
       " u'binary_crowding_DOPAtex_abs': '17084',\n",
       " u'binary_crowding_CTBTCAL2': '17852',\n",
       " u'binary_crowding_PG120abcpp': '16043',\n",
       " u'binary_crowding_CMPN': '14180',\n",
       " u'binary_crowding_MALCOAMT': '18188',\n",
       " u'binary_crowding_MANGLYCtex_abs': '14816',\n",
       " u'binary_crowding_NHFRBO': '14198',\n",
       " u'binary_crowding_FMNRx': '14825',\n",
       " u'binary_crowding_CRNDt2rpp_abs': '16463',\n",
       " u'binary_crowding_UAPGR': '15470',\n",
       " u'binary_crowding_CLPNH141pp': '13514',\n",
       " u'binary_crowding_UPP3MT': '12743',\n",
       " u'binary_crowding_LA4NTpp': '17183',\n",
       " u'binary_crowding_PLIPA1E161pp': '17978',\n",
       " u'binary_crowding_CLPNS141pp_abs': '17456',\n",
       " u'binary_crowding_PGSA181': '15893',\n",
       " u'binary_crowding_PGSA180': '18236',\n",
       " u'binary_crowding_TDPGDH': '14228',\n",
       " u'binary_crowding_NADH17pp': '14237',\n",
       " u'binary_crowding_SHSL1': '13214',\n",
       " u'binary_crowding_GALS3': '17681',\n",
       " u'binary_crowding_GLUabcpp': '12767',\n",
       " u'binary_crowding_NADH16pp': '16811',\n",
       " u'binary_crowding_ACKr_abs': '13781',\n",
       " u'binary_crowding_ASO3t8pp': '13727',\n",
       " u'binary_crowding_GCALDD': '18029',\n",
       " u'binary_crowding_LPLIPAL2G140': '12629',\n",
       " u'binary_crowding_LPLIPAL2G141': '16112',\n",
       " u'binary_crowding_NDPK3_abs': '14588',\n",
       " u'binary_crowding_MLTG5': '17366',\n",
       " u'binary_crowding_LPLIPAL1A140pp': '15191',\n",
       " u'binary_crowding_G3PD5': '13982',\n",
       " u'binary_crowding_G3PD7': '17474',\n",
       " u'binary_crowding_G3PD6': '16286',\n",
       " u'binary_crowding_LIPAabctex': '17285',\n",
       " u'binary_crowding_CYNTt2pp': '13355',\n",
       " u'binary_crowding_APH161': '16007',\n",
       " u'binary_crowding_CRNabcpp': '16571',\n",
       " u'binary_crowding_ARBTNtpp': '15098',\n",
       " u'binary_crowding_PLIPA2A140pp': '17984',\n",
       " u'binary_crowding_THRt4pp': '17249',\n",
       " u'binary_crowding_PLIPA1G161pp': '17495',\n",
       " u'binary_crowding_3KGK': '17069',\n",
       " u'binary_crowding_GLYALDtpp_abs': '13364',\n",
       " u'binary_crowding_PYDXNtpp': '18086',\n",
       " u'binary_crowding_SUCMALtpp': '15899',\n",
       " u'binary_crowding_TREptspp': '17258',\n",
       " u'binary_crowding_BMOGDS2': '16382',\n",
       " u'binary_crowding_BMOGDS1': '12878',\n",
       " u'binary_crowding_PLIPA2G160pp': '12830',\n",
       " u'binary_crowding_MALTTRtexi': '16871',\n",
       " u'binary_crowding_LPLIPAL1G160pp': '14279',\n",
       " u'binary_crowding_BUTCT': '16820',\n",
       " u'binary_crowding_TKT1_abs': '15299',\n",
       " u'binary_crowding_ACHBS': '16949',\n",
       " u'binary_crowding_SLNTtpp': '14249',\n",
       " u'binary_crowding_PLIPA1G120pp': '13490',\n",
       " u'binary_crowding_DURIK1': '17660',\n",
       " u'binary_crowding_GLYCLTt2rpp_abs': '15131',\n",
       " u'binary_crowding_GLYC3Pabcpp': '12809',\n",
       " u'binary_crowding_LALADGLUtpp': '17861',\n",
       " u'binary_crowding_GAMtex_abs': '15911',\n",
       " u'binary_crowding_ACACT8r_abs': '16586',\n",
       " u'binary_crowding_PROabcpp': '17459',\n",
       " u'binary_crowding_ADNCYC': '14231',\n",
       " u'binary_crowding_FE3abcpp': '16604',\n",
       " u'binary_crowding_TRPt2rpp_abs': '17606',\n",
       " u'binary_crowding_CLPNH140pp': '13886',\n",
       " u'binary_crowding_MALTATr_abs': '14138',\n",
       " u'binary_crowding_FUCtpp_abs': '16661',\n",
       " u'binary_crowding_FUMtex_abs': '14225',\n",
       " u'binary_crowding_PG161abcpp': '17129',\n",
       " u'binary_crowding_TUNGStex_abs': '16910',\n",
       " u'binary_crowding_MECDPS': '16298',\n",
       " u'binary_crowding_PLIPA1A161pp': '17027',\n",
       " u'binary_crowding_ALLULPE_abs': '16499',\n",
       " u'binary_crowding_THMabcpp': '15617',\n",
       " u'binary_crowding_LPLIPAL2E140': '13766',\n",
       " u'binary_crowding_LPLIPAL2E141': '17279',\n",
       " u'binary_crowding_ASCBptspp': '12509',\n",
       " u'binary_crowding_MALTptspp': '13037',\n",
       " u'binary_crowding_CRNCAL2': '17756',\n",
       " u'binary_crowding_URACPAH': '15650',\n",
       " u'binary_crowding_PYNP2r_abs': '17849',\n",
       " u'binary_crowding_ASPt2_2pp': '12533',\n",
       " u'binary_crowding_NADPPPS': '15623',\n",
       " u'binary_crowding_HXPRT': '13436',\n",
       " u'binary_crowding_SHCHD2': '15728',\n",
       " u'binary_crowding_NO3t7pp': '13859',\n",
       " u'binary_crowding_F6PA_abs': '17855',\n",
       " u'binary_crowding_URDGLYCD': '17684',\n",
       " u'binary_crowding_LPLIPAL2ATE161': '18014',\n",
       " u'binary_crowding_LPLIPAL2ATE160': '18488',\n",
       " u'binary_crowding_PAPPT3': '18275',\n",
       " u'binary_crowding_ALDD3y': '17192',\n",
       " u'binary_crowding_DAPabcpp': '13109',\n",
       " u'binary_crowding_3AMACHYD': '16031',\n",
       " u'binary_crowding_IDOND2': '12857',\n",
       " u'binary_crowding_PPAtex_abs': '17414',\n",
       " u'binary_crowding_TREHpp': '13745',\n",
       " u'binary_crowding_DHCIND': '14777',\n",
       " u'binary_crowding_PSP_Lpp': '17405',\n",
       " u'binary_crowding_HXAND': '14006',\n",
       " u'binary_crowding_SGSAD': '17507',\n",
       " u'binary_crowding_ECAP2pp': '14477',\n",
       " u'binary_crowding_GLUt4pp': '15071',\n",
       " u'binary_crowding_UDCPDPpp': '14492',\n",
       " u'binary_crowding_LDH_D2': '15731',\n",
       " u'binary_crowding_2AGPG161tipp': '16121',\n",
       " u'binary_crowding_GLYC3Ptex_abs': '17351',\n",
       " u'binary_crowding_UM4PCP': '14525',\n",
       " u'binary_crowding_LIPAabcpp': '13223',\n",
       " u'binary_crowding_CDGR': '13454',\n",
       " u'binary_crowding_CDGS': '17873',\n",
       " u'binary_crowding_ACOAD5f_abs': '15278',\n",
       " u'binary_crowding_ACONIs_abs': '18464',\n",
       " u'binary_crowding_LPLIPAL1G161pp': '17648',\n",
       " u'binary_crowding_PTRCORNt7pp_abs': '13652',\n",
       " u'binary_crowding_PLIPA2A181pp': '14648',\n",
       " u'binary_crowding_DALAtex_abs': '13622',\n",
       " u'binary_crowding_MALt3pp': '14897',\n",
       " u'binary_crowding_HACD8_abs': '14441',\n",
       " u'binary_crowding_COBALT2t3pp': '12998',\n",
       " u'binary_crowding_ACNAMtex_abs': '16091',\n",
       " u'binary_crowding_FUCtex_abs': '13817',\n",
       " u'binary_crowding_PHYTSpp': '16172',\n",
       " u'binary_crowding_CTECOAI6_abs': '14216',\n",
       " u'binary_crowding_IDONtex_abs': '18389',\n",
       " u'binary_crowding_AOBUTDs': '14678',\n",
       " u'binary_crowding_TMAtex_abs': '13640',\n",
       " u'binary_crowding_UGLYCH': '15815',\n",
       " u'binary_crowding_GGPTRCS': '14930',\n",
       " u'binary_crowding_GSNt2pp': '13229',\n",
       " u'binary_crowding_PLIPA2E181pp': '13796',\n",
       " u'binary_crowding_DGK1_abs': '13847',\n",
       " u'binary_crowding_LPLIPAL1G120pp': '13733',\n",
       " u'binary_crowding_FORCT_abs': '12698',\n",
       " u'binary_crowding_2AGPE160tipp': '14849',\n",
       " u'binary_crowding_MGSA': '18176',\n",
       " u'binary_crowding_GGPTRCO': '14963',\n",
       " u'binary_crowding_SBTPD_abs': '13184',\n",
       " u'binary_crowding_MMETtex_abs': '16718',\n",
       " u'binary_crowding_SFGTHi': '17777',\n",
       " u'binary_crowding_AGMHE': '14042',\n",
       " u'binary_crowding_SO4tex_abs': '13619',\n",
       " u'binary_crowding_PTRCTA': '16445',\n",
       " u'binary_crowding_FDMO3': '13190',\n",
       " u'binary_crowding_FDMO2': '13628',\n",
       " u'binary_crowding_ACACT6r_abs': '15665',\n",
       " u'binary_crowding_FDMO4': '12917',\n",
       " u'binary_crowding_MN6PP': '15032',\n",
       " u'binary_crowding_FDMO6': '16421',\n",
       " u'binary_crowding_MINCYCtex_abs': '18362',\n",
       " u'binary_crowding_HOPNTAL': '14858',\n",
       " u'binary_crowding_DRPA': '16082',\n",
       " u'binary_crowding_G3PCtex_abs': '16628',\n",
       " u'binary_crowding_ECOAH4_abs': '13154',\n",
       " u'binary_crowding_ALAALAtex_abs': '12818',\n",
       " u'binary_crowding_NNDMBRT': '17816',\n",
       " u'binary_crowding_CYTDK2': '18245',\n",
       " u'binary_crowding_DAGK141': '14843',\n",
       " u'binary_crowding_DAGK140': '18428',\n",
       " u'binary_crowding_TDP': '15656',\n",
       " u'binary_crowding_CHLabcpp': '14315',\n",
       " u'binary_crowding_NTPP9': '14705',\n",
       " u'binary_crowding_SUCCt2_3pp': '13544',\n",
       " u'binary_crowding_RBK_L1': '14387',\n",
       " u'binary_crowding_FRULYStex_abs': '13175',\n",
       " u'binary_crowding_GALURtex_abs': '17531',\n",
       " u'binary_crowding_GAMAN6Ptex_abs': '18341',\n",
       " u'binary_crowding_DHORD5': '17585',\n",
       " u'binary_crowding_DHORD2': '17930',\n",
       " u'binary_crowding_TTDCAtexi': '15902',\n",
       " u'binary_crowding_OHPBAT_abs': '17399',\n",
       " u'binary_crowding_ECAtpp': '14627',\n",
       " u'binary_crowding_PE140abcpp': '16802',\n",
       " u'binary_crowding_KARA2_abs': '12776',\n",
       " u'binary_crowding_NO2t2rpp_abs': '15329',\n",
       " u'binary_crowding_DHFS': '13694',\n",
       " u'binary_crowding_SUCBZL': '18068',\n",
       " u'binary_crowding_PTAr_abs': '15314',\n",
       " u'binary_crowding_LPLIPAL1A181pp': '15080',\n",
       " u'binary_crowding_ACGAM1PPpp': '13241',\n",
       " u'binary_crowding_ACOTA_abs': '14375',\n",
       " u'binary_crowding_DDGLK': '18347',\n",
       " u'binary_crowding_IPPS': '17552',\n",
       " u'binary_crowding_PSCVT_abs': '14177',\n",
       " u'binary_crowding_GLYBtex_abs': '14243',\n",
       " u'binary_crowding_PA160abcpp': '18221',\n",
       " u'binary_crowding_MSAR': '14513',\n",
       " u'binary_crowding_NTD9pp': '12569',\n",
       " u'binary_crowding_NDPK5_abs': '12824',\n",
       " u'binary_crowding_PPM2_abs': '17111',\n",
       " u'binary_crowding_NOVBCNtex_abs': '15518',\n",
       " u'binary_crowding_CLPNS120pp_abs': '13952',\n",
       " u'binary_crowding_ACACT4r_abs': '14054',\n",
       " u'binary_crowding_CDAPPA181': '16025',\n",
       " u'binary_crowding_CDAPPA180': '16478',\n",
       " u'binary_crowding_ARBTNtex': '14153',\n",
       " u'binary_crowding_PROt2rpp_abs': '18113',\n",
       " u'binary_crowding_MEPCT': '14750',\n",
       " u'binary_crowding_OMPHHX': '15494',\n",
       " u'binary_crowding_MDDEP2pp': '13106',\n",
       " u'binary_crowding_2AGPE180tipp': '13760',\n",
       " u'binary_crowding_MOX_abs': '14636',\n",
       " u'binary_crowding_FADRx2': '15338',\n",
       " u'binary_crowding_MALTTTRtexi': '13124',\n",
       " u'binary_crowding_IGPS': '14240',\n",
       " u'binary_crowding_GLUTRR': '16034',\n",
       " u'binary_crowding_AIRC3_abs': '13784',\n",
       " u'binary_crowding_TRE6PH': '14732',\n",
       " u'binary_crowding_GBBTNtex_abs': '14564',\n",
       " u'binary_crowding_ALDD2y': '14612',\n",
       " u'binary_crowding_ILEabcpp': '14192',\n",
       " u'binary_crowding_ACONTb_abs': '13313',\n",
       " u'binary_crowding_SO2tex_abs': '17210',\n",
       " u'binary_crowding_TRE6PS': '12812',\n",
       " u'binary_crowding_TRE6PP': '16583',\n",
       " u'binary_crowding_LYSDC': '15161',\n",
       " u'binary_crowding_PANTS': '15290',\n",
       " u'binary_crowding_ECA4OALpp': '14867',\n",
       " u'binary_crowding_DDGALK': '14810',\n",
       " u'binary_crowding_FE2t2pp': '15725',\n",
       " u'binary_crowding_MNt2pp': '16169',\n",
       " u'binary_crowding_CBL1abcpp': '15380',\n",
       " u'binary_crowding_G3PSabcpp': '13451',\n",
       " u'binary_crowding_ARBTtex': '16010',\n",
       " u'binary_crowding_2AGPA120tipp': '15605',\n",
       " u'binary_crowding_FCLK': '17597',\n",
       " u'binary_crowding_OHPHM': '13871',\n",
       " u'binary_crowding_XYLI1_abs': '16631',\n",
       " u'binary_crowding_FCLT': '13397',\n",
       " u'binary_crowding_ECAP1pp': '14390',\n",
       " u'binary_crowding_PAPA160': '13094',\n",
       " u'binary_crowding_PAPA161': '14645',\n",
       " u'binary_crowding_MOCDS': '18497',\n",
       " u'binary_crowding_GTHS': '17912',\n",
       " u'binary_crowding_FACOAL160t2pp': '18380',\n",
       " u'binary_crowding_FALDtpp_abs': '13643',\n",
       " u'binary_crowding_G6PDH2r_abs': '18032',\n",
       " u'binary_crowding_MCTP1Bpp': '14786',\n",
       " u'binary_crowding_ALTRH': '17162',\n",
       " u'binary_crowding_AGDC': '14717',\n",
       " u'binary_crowding_FACOAE181': '17996',\n",
       " u'binary_crowding_FACOAE180': '14918',\n",
       " u'binary_crowding_LYSt2pp': '13073',\n",
       " u'binary_crowding_PGK_abs': '17360',\n",
       " u'binary_crowding_SPMDt3pp': '12683',\n",
       " u'binary_crowding_ULA4NFT': '14444',\n",
       " u'binary_crowding_BALAtex_abs': '16067',\n",
       " u'binary_crowding_THRPtex_abs': '18104',\n",
       " u'binary_crowding_ACALD_abs': '17504',\n",
       " u'binary_crowding_ORNDC': '14273',\n",
       " u'binary_crowding_TMAOR2pp': '14474',\n",
       " u'binary_crowding_HCYSMT': '16796',\n",
       " u'binary_crowding_ENTCS': '13964',\n",
       " u'binary_crowding_GUAPRT': '15722',\n",
       " u'binary_crowding_FE3HOXUtex': '16166',\n",
       " u'binary_crowding_GLCATr_abs': '15812',\n",
       " u'binary_crowding_ALR2': '12737',\n",
       " u'binary_crowding_NACtex_abs': '17438',\n",
       " u'binary_crowding_ARBTNabcpp': '16046',\n",
       " u'binary_crowding_GTPCI': '12788',\n",
       " u'binary_crowding_LACZ': '13667',\n",
       " u'binary_crowding_GMPtex_abs': '15101',\n",
       " u'binary_crowding_OBTFL': '14363',\n",
       " u'binary_crowding_GSNK': '17672',\n",
       " u'binary_crowding_ACACT2r_abs': '18422',\n",
       " u'binary_crowding_DASYN120': '12518',\n",
       " u'binary_crowding_UAG2E_abs': '15890',\n",
       " u'binary_crowding_MDDEP1pp': '15680',\n",
       " u'binary_crowding_OCBT_abs': '17825',\n",
       " u'binary_crowding_DHPTDCs2': '18299',\n",
       " u'binary_crowding_ACALDtpp_abs': '17078',\n",
       " u'binary_crowding_ASNabcpp': '12974',\n",
       " u'binary_crowding_IPPMIb_abs': '16961',\n",
       " u'binary_crowding_CHLt2pp': '12803',\n",
       " u'binary_crowding_MELIBt3ipp': '13163',\n",
       " u'binary_crowding_NTP3pp': '12827',\n",
       " u'binary_crowding_LPLIPAL2A120': '14087',\n",
       " u'binary_crowding_G1PACT': '16691',\n",
       " u'binary_crowding_FE2t3pp': '17813',\n",
       " u'binary_crowding_MSO3tex_abs': '18125',\n",
       " u'binary_crowding_PIt2rpp_abs': '12716',\n",
       " u'binary_crowding_PSD160': '13463',\n",
       " u'binary_crowding_PSD161': '14369',\n",
       " u'binary_crowding_FEENTERexs': '17483',\n",
       " u'binary_crowding_HCYSMT2': '16118',\n",
       " u'binary_crowding_UDCPDPS': '16376',\n",
       " u'binary_crowding_INStex_abs': '13916',\n",
       " u'binary_crowding_NNATr_abs': '14783',\n",
       " u'binary_crowding_Kabcpp': '14159',\n",
       " u'binary_crowding_DKGLCNR2x': '17582',\n",
       " u'binary_crowding_DKGLCNR2y': '15041',\n",
       " u'binary_crowding_MALDtex_abs': '16703',\n",
       " u'binary_crowding_HPYRRy': '15704',\n",
       " u'binary_crowding_HPYRRx': '18242',\n",
       " u'binary_crowding_PGMT_abs': '18269',\n",
       " u'binary_crowding_2AGPEAT120': '12983',\n",
       " u'binary_crowding_BTNtex_abs': '13496',\n",
       " u'binary_crowding_PETNT181pp': '16544',\n",
       " u'binary_crowding_THRA2i': '17843',\n",
       " u'binary_crowding_HYD1pp': '16769',\n",
       " u'binary_crowding_DUMPtex_abs': '18515',\n",
       " u'binary_crowding_GALCTD': '18263',\n",
       " u'binary_crowding_GMAND': '12965',\n",
       " u'binary_crowding_AKGtex_abs': '15626',\n",
       " u'binary_crowding_HDCEAtexi': '17051',\n",
       " u'binary_crowding_ATPHs': '17099',\n",
       " u'binary_crowding_K2L4Aabctex': '13103',\n",
       " u'binary_crowding_NDPK6_abs': '12971',\n",
       " u'binary_crowding_THRabcpp': '16964',\n",
       " u'binary_crowding_DXYLK': '18092',\n",
       " u'binary_crowding_CYSabcpp': '12875',\n",
       " u'binary_crowding_FACOAL60t2pp': '14651',\n",
       " u'binary_crowding_DCYTD': '12845',\n",
       " u'binary_crowding_ENO_abs': '13868',\n",
       " u'binary_crowding_FE2tex_abs': '14339',\n",
       " u'binary_crowding_DNMPPA': '16355',\n",
       " u'binary_crowding_LCARS_abs': '13688',\n",
       " u'binary_crowding_GLUSy': '14915',\n",
       " u'binary_crowding_ThDPAT': '18365',\n",
       " u'binary_crowding_ETHAt2pp': '18443',\n",
       " u'binary_crowding_HG2abcpp': '17288',\n",
       " u'binary_crowding_LPLIPAL2G160': '13064',\n",
       " u'binary_crowding_LPLIPAL2G161': '18026',\n",
       " u'binary_crowding_PFK_3': '17942',\n",
       " u'binary_crowding_PFK_2': '16475',\n",
       " u'binary_crowding_GLYCAt2rpp_abs': '18368',\n",
       " u'binary_crowding_UMPtex_abs': '17237',\n",
       " u'binary_crowding_BPNT': '17429',\n",
       " u'binary_crowding_DHQS': '18254',\n",
       " u'binary_crowding_ASCBtex_abs': '13547',\n",
       " u'binary_crowding_SERtex_abs': '14771',\n",
       " u'binary_crowding_PLIPA2E161pp': '16139',\n",
       " u'binary_crowding_CSNtex_abs': '18302',\n",
       " u'binary_crowding_DGSNtex_abs': '13148',\n",
       " u'binary_crowding_TMPPP': '15866',\n",
       " u'binary_crowding_GLCP': '13529',\n",
       " u'binary_crowding_DIMPtex_abs': '16418',\n",
       " u'binary_crowding_NACtpp': '16799',\n",
       " u'binary_crowding_O16A4Lpp': '13856',\n",
       " u'binary_crowding_DAAD': '14708',\n",
       " u'binary_crowding_XPPT': '17291',\n",
       " u'binary_crowding_TREtex_abs': '16697',\n",
       " u'binary_crowding_MALS': '14672',\n",
       " u'binary_crowding_GPDDA3': '18158',\n",
       " u'binary_crowding_FACOAL120t2pp': '16772',\n",
       " u'binary_crowding_AMPTASECG': '15860',\n",
       " u'binary_crowding_XYLtex_abs': '13346',\n",
       " u'binary_crowding_H2Stex_abs': '14489',\n",
       " u'binary_crowding_OPHHX': '14762',\n",
       " u'binary_crowding_PG180abcpp': '13673',\n",
       " u'binary_crowding_12PPDRtex_abs': '15659',\n",
       " u'binary_crowding_ADSK': '13676',\n",
       " u'binary_crowding_AMALT4': '14111',\n",
       " u'binary_crowding_AMALT1': '17804',\n",
       " u'binary_crowding_ALLtex_abs': '14183',\n",
       " u'binary_crowding_ASP1DC': '15632',\n",
       " u'binary_crowding_AMALT2': '18293',\n",
       " u'binary_crowding_GALTptspp': '16199',\n",
       " u'binary_crowding_ADPRDP': '16415',\n",
       " u'binary_crowding_FORtppi': '15245',\n",
       " u'binary_crowding_APG3PAT120': '15128',\n",
       " u'binary_crowding_DAGK120': '13901',\n",
       " u'binary_crowding_AMAOTr_abs': '14048',\n",
       " u'binary_crowding_G6Ptex_abs': '13151',\n",
       " u'binary_crowding_PFK': '13046',\n",
       " u'binary_crowding_FACOAL180t2pp': '13244',\n",
       " u'binary_crowding_CHOLD': '18503',\n",
       " u'binary_crowding_LALDO2x': '15980',\n",
       " u'binary_crowding_IPDPS': '15068',\n",
       " u'binary_crowding_ICHORT': '15455',\n",
       " u'binary_crowding_LPLIPAL2ATG161': '14450',\n",
       " u'binary_crowding_LPLIPAL2ATG160': '17045',\n",
       " u'binary_crowding_NTD12': '17729',\n",
       " u'binary_crowding_NTD10': '16565',\n",
       " u'binary_crowding_CMtpp': '15569',\n",
       " u'binary_crowding_APH180': '13433',\n",
       " u'binary_crowding_APH181': '16925',\n",
       " u'binary_crowding_FMNAT': '15782',\n",
       " u'binary_crowding_LEUTAi': '14045',\n",
       " u'binary_crowding_NI2uabcpp': '14396',\n",
       " u'binary_crowding_PSD140': '15386',\n",
       " u'binary_crowding_FACOAL140t2pp': '13025',\n",
       " u'binary_crowding_GLYALDtex_abs': '13049',\n",
       " u'binary_crowding_HEX4': '14300',\n",
       " u'binary_crowding_UDCPPtppi': '15935',\n",
       " u'binary_crowding_QUIN2tex_abs': '13091',\n",
       " u'binary_crowding_PLIPA2A180pp': '13775',\n",
       " u'binary_crowding_FECRMexs': '15377',\n",
       " u'binary_crowding_ENTERES2': '13475',\n",
       " u'binary_crowding_ALR4x': '13649',\n",
       " u'binary_crowding_NTD2pp': '15686',\n",
       " u'binary_crowding_LPLIPAL2ATE141': '17519',\n",
       " u'binary_crowding_LPLIPAL2ATE140': '16616',\n",
       " u'binary_crowding_AGMtex_abs': '17669',\n",
       " u'binary_crowding_N2Otpp_abs': '13931',\n",
       " u'binary_crowding_PAPA180pp': '16892',\n",
       " u'binary_crowding_LPLIPAL2E120': '12836',\n",
       " u'binary_crowding_ALATA_L2': '13379',\n",
       " u'binary_crowding_UDPKAAT_abs': '12626',\n",
       " u'binary_crowding_PPCSCT': '14687',\n",
       " u'binary_crowding_ASPCT': '15683',\n",
       " u'binary_crowding_CMPtex_abs': '14171',\n",
       " u'binary_crowding_PE161abcpp': '14903',\n",
       " u'binary_crowding_HEXt2rpp_abs': '15884',\n",
       " u'binary_crowding_CTECOAI8_abs': '14711',\n",
       " u'binary_crowding_TYRL': '15149',\n",
       " u'binary_crowding_PYDXK': '13469',\n",
       " u'binary_crowding_ADMDC': '13283',\n",
       " u'binary_crowding_ARGabcpp': '17303',\n",
       " u'binary_crowding_SLNTtex_abs': '17807',\n",
       " u'binary_crowding_ASNNpp': '16331',\n",
       " u'binary_crowding_PPM_abs': '15776',\n",
       " u'binary_crowding_DKGLCNR1': '14510',\n",
       " u'binary_crowding_MCITL2_abs': '13181',\n",
       " u'binary_crowding_2AGPE120tipp': '17759',\n",
       " u'binary_crowding_HCINNMtex_abs': '17513',\n",
       " u'binary_crowding_OCDCAtexi': '18374',\n",
       " u'binary_crowding_LYXt2pp': '18446',\n",
       " u'binary_crowding_CRNDCAL2': '18200',\n",
       " u'binary_crowding_SUCOAS_abs': '18467',\n",
       " u'binary_crowding_SDPTA_abs': '15500',\n",
       " u'binary_crowding_UAMAS': '16061',\n",
       " u'binary_crowding_DTARTD': '13736',\n",
       " u'binary_crowding_HISabcpp': '17411',\n",
       " u'binary_crowding_SPMDtex_abs': '16229',\n",
       " u'binary_crowding_PPAKr_abs': '14543',\n",
       " u'binary_crowding_PPNDH': '17186',\n",
       " u'binary_crowding_GAL1Ptex_abs': '12893',\n",
       " u'binary_crowding_PROGLYtex_abs': '14615',\n",
       " u'binary_crowding_MNtex_abs': '16223',\n",
       " u'binary_crowding_34dhpactex_abs': '13556',\n",
       " u'binary_crowding_CD2tex_abs': '13295',\n",
       " u'binary_crowding_ACMUMptspp': '18416',\n",
       " u'binary_crowding_PPPGO': '14600',\n",
       " u'binary_crowding_PG181abcpp': '14987',\n",
       " u'binary_crowding_ME1': '17876',\n",
       " u'binary_crowding_NTD8pp': '13538',\n",
       " u'binary_crowding_NH4tpp_abs': '13445',\n",
       " u'binary_crowding_FHL': '16646',\n",
       " u'binary_crowding_SUCCtex_abs': '14519',\n",
       " u'binary_crowding_ADOCBLS': '12551',\n",
       " u'binary_crowding_BALAt2pp': '12473',\n",
       " u'binary_crowding_UPPRT': '13934',\n",
       " u'binary_crowding_AHCYSNS': '16094',\n",
       " u'binary_crowding_MOAT3C': '13553',\n",
       " u'binary_crowding_ALAabcpp': '18494',\n",
       " u'binary_crowding_CLPNS161pp_abs': '18392',\n",
       " u'binary_crowding_GARFT_abs': '14993',\n",
       " u'binary_crowding_ECA4COLIPAabctex': '13928',\n",
       " u'binary_crowding_NAMNPP': '17708',\n",
       " u'binary_crowding_2AGPGAT161': '14936',\n",
       " u'binary_crowding_2AGPGAT160': '16574',\n",
       " u'binary_crowding_NADH5': '13088',\n",
       " u'binary_crowding_ACtex_abs': '15188',\n",
       " u'binary_crowding_NADH9': '15401',\n",
       " u'binary_crowding_ARBtex_abs': '18179',\n",
       " u'binary_crowding_SELNPS': '15824',\n",
       " u'binary_crowding_PGPP161pp': '16163',\n",
       " u'binary_crowding_DASYN160': '18485',\n",
       " u'binary_crowding_DMPPS': '16886',\n",
       " u'binary_crowding_DHORTS_abs': '15503',\n",
       " u'binary_crowding_ACNML': '14699',\n",
       " u'binary_crowding_SUCDi': '14981',\n",
       " u'binary_crowding_PTA2': '13682',\n",
       " u'binary_crowding_PSCLYSt2pp': '14654',\n",
       " u'binary_crowding_GTHOr_abs': '13793',\n",
       " u'binary_crowding_PUNP6_abs': '12530',\n",
       " u'binary_crowding_PLIPA1E180pp': '16877',\n",
       " u'binary_crowding_UGMDDS': '13511',\n",
       " u'binary_crowding_PDE4': '12956',\n",
       " u'binary_crowding_ACM6PH': '14834',\n",
       " u'binary_crowding_CDAPPA161': '12881',\n",
       " u'binary_crowding_CDAPPA160': '14603',\n",
       " u'binary_crowding_14GLUCANtexi': '16979',\n",
       " u'binary_crowding_CRNDabcpp': '14030',\n",
       " u'binary_crowding_SERt2rpp_abs': '17345',\n",
       " u'binary_crowding_OROTt2_2pp': '13742',\n",
       " u'binary_crowding_H2St1pp': '16244',\n",
       " u'binary_crowding_MANGLYCptspp': '14939',\n",
       " u'binary_crowding_DHFR_abs': '17132',\n",
       " u'binary_crowding_3NTD2pp': '14234',\n",
       " u'binary_crowding_HXCT': '18401',\n",
       " u'binary_crowding_MINOHPtexi': '14219',\n",
       " u'binary_crowding_DAGK181': '17630',\n",
       " u'binary_crowding_DAGK180': '14000',\n",
       " u'binary_crowding_THRt2rpp_abs': '12860',\n",
       " u'binary_crowding_ARGDC': '17393',\n",
       " u'binary_crowding_CYStpp': '13367',\n",
       " u'binary_crowding_PA181abcpp': '14447',\n",
       " u'binary_crowding_MOGDS': '13343',\n",
       " u'binary_crowding_SO3tex_abs': '16178',\n",
       " u'binary_crowding_CO2tex_abs': '17243',\n",
       " u'binary_crowding_DHQTi': '15275',\n",
       " u'binary_crowding_23DAPPAtex_abs': '13802',\n",
       " u'binary_crowding_GLYt4pp': '17180',\n",
       " u'binary_crowding_CYANST': '12539',\n",
       " u'binary_crowding_ACBIPGT': '17270',\n",
       " u'binary_crowding_HPPPNt2rpp_abs': '16739',\n",
       " u'binary_crowding_ETOHtex_abs': '15092',\n",
       " u'binary_crowding_HXAtex_abs': '16028',\n",
       " u'binary_crowding_TARTRt7pp_abs': '16985',\n",
       " u'binary_crowding_TYRPtex_abs': '15734',\n",
       " u'binary_crowding_AB6PGH': '17390',\n",
       " u'binary_crowding_METAT': '15692',\n",
       " u'binary_crowding_H2Otpp_abs': '17090',\n",
       " u'binary_crowding_MLDEP2pp': '12671',\n",
       " u'binary_crowding_ATPS4rpp_abs': '12593',\n",
       " u'binary_crowding_CPH4S': '16406',\n",
       " u'binary_crowding_TARTD': '17240',\n",
       " u'binary_crowding_FACOAE161': '17480',\n",
       " u'binary_crowding_2AGPG140tipp': '12842',\n",
       " u'binary_crowding_FALDtex_abs': '16202',\n",
       " u'binary_crowding_PGAMT_abs': '12929',\n",
       " u'binary_crowding_PYDXNK': '17765',\n",
       " u'binary_crowding_HEMEOS': '15410',\n",
       " u'binary_crowding_GLYCK2': '17897',\n",
       " u'binary_crowding_ARGSL_abs': '16568',\n",
       " u'binary_crowding_O16GALFT': '15908',\n",
       " u'binary_crowding_23PDE2pp': '13097',\n",
       " u'binary_crowding_NNAM': '17441',\n",
       " u'binary_crowding_CINNDO': '12851',\n",
       " u'binary_crowding_BUTt2rpp_abs': '14411',\n",
       " u'binary_crowding_R1PK': '17462',\n",
       " u'binary_crowding_PACALDt2rpp_abs': '13196',\n",
       " u'binary_crowding_HYXNtex_abs': '18140',\n",
       " u'binary_crowding_MMETt2pp': '14438',\n",
       " u'binary_crowding_PRAIS': '13946',\n",
       " u'binary_crowding_PGL': '16379',\n",
       " u'binary_crowding_ECAP3pp': '17207',\n",
       " u'binary_crowding_ORPT_abs': '15758',\n",
       " u'binary_crowding_PROtex_abs': '12992',\n",
       " u'binary_crowding_IPMD': '14531',\n",
       " u'binary_crowding_ADNK1': '15155',\n",
       " u'binary_crowding_FDH5pp': '14828',\n",
       " u'binary_crowding_PTHRpp': '15572',\n",
       " u'binary_crowding_TAURabcpp': '18371',\n",
       " u'binary_crowding_PAPA160pp': '13079',\n",
       " u'binary_crowding_GMPR': '13316',\n",
       " u'binary_crowding_LIPAHTex': '15695',\n",
       " u'binary_crowding_GAPD_abs': '14765',\n",
       " u'binary_crowding_UPLA4FNF': '16079',\n",
       " u'binary_crowding_ADSS': '12764',\n",
       " u'binary_crowding_PGPP161': '12686',\n",
       " u'binary_crowding_PGPP160': '17615',\n",
       " u'binary_crowding_GLYCLTt4pp': '16931',\n",
       " u'binary_crowding_PGP181abcpp': '15482',\n",
       " u'binary_crowding_PAPA161pp': '12599',\n",
       " u'binary_crowding_CBIuabcpp': '17918',\n",
       " u'binary_crowding_MALDDH': '17936',\n",
       " u'binary_crowding_NO2tex_abs': '12758',\n",
       " u'binary_crowding_TMDK1': '14150',\n",
       " u'binary_crowding_FUMt2_2pp': '13301',\n",
       " u'binary_crowding_CSNt2pp': '15074',\n",
       " u'binary_crowding_DHPTDNRN': '18062',\n",
       " u'binary_crowding_GRTT': '14432',\n",
       " u'binary_crowding_TREH': '17525',\n",
       " u'binary_crowding_CRNtex_abs': '17387',\n",
       " u'binary_crowding_CAT': '18419',\n",
       " u'binary_crowding_4PEPTtex_abs': '13205',\n",
       " u'binary_crowding_MDDCP3pp': '12869',\n",
       " u'binary_crowding_PPPGO3': '16142',\n",
       " u'binary_crowding_CRNt8pp': '14594',\n",
       " u'binary_crowding_ADNtex_abs': '13268',\n",
       " u'binary_crowding_PPPNt2rpp_abs': '16709',\n",
       " u'binary_crowding_ACS': '14255',\n",
       " u'binary_crowding_42A12BOOXpp': '15452',\n",
       " u'binary_crowding_LPLIPAL2A180': '13373',\n",
       " u'binary_crowding_LPLIPAL2A181': '16862',\n",
       " u'binary_crowding_PGP120abcpp': '15062',\n",
       " u'binary_crowding_2AGPEAT141': '17153',\n",
       " u'binary_crowding_2AGPEAT140': '16205',\n",
       " u'binary_crowding_DMQMT': '17801',\n",
       " u'binary_crowding_GALCTtex_abs': '14465',\n",
       " u'binary_crowding_GLCUR1Ptex_abs': '15488',\n",
       " u'binary_crowding_RZ5PP': '17768',\n",
       " u'binary_crowding_ARGORNt7pp_abs': '13997',\n",
       " u'binary_crowding_MELIBt2pp': '15806',\n",
       " u'binary_crowding_PNTK': '14693',\n",
       " u'binary_crowding_FRD2': '14201',\n",
       " u'binary_crowding_FRD3': '15284',\n",
       " u'binary_crowding_ARBabcpp': '16937',\n",
       " u'binary_crowding_O16AP3pp': '18479',\n",
       " u'binary_crowding_FE2tpp': '13625',\n",
       " u'binary_crowding_DXPS': '13925',\n",
       " u'binary_crowding_SUCRtex_abs': '15194',\n",
       " u'binary_crowding_QULNS': '15620',\n",
       " u'binary_crowding_SELtex_abs': '12905',\n",
       " u'binary_crowding_PGI_abs': '13862',\n",
       " u'binary_crowding_HACD2_abs': '17726',\n",
       " u'binary_crowding_GALabcpp': '15764',\n",
       " u'binary_crowding_ADCS': '15701',\n",
       " u'binary_crowding_ADCL': '14924',\n",
       " u'binary_crowding_HMPK1': '18284',\n",
       " u'binary_crowding_PLIPA2E160pp': '13679',\n",
       " u'binary_crowding_CU1Opp': '13133',\n",
       " u'binary_crowding_CLPNS180pp_abs': '15809',\n",
       " u'binary_crowding_12PPDStex_abs': '16775',\n",
       " u'binary_crowding_GUI1_abs': '15254',\n",
       " u'binary_crowding_5DGLCNtex_abs': '15713',\n",
       " u'binary_crowding_ACACT5r_abs': '16988',\n",
       " u'binary_crowding_CAt6pp_abs': '17486',\n",
       " u'binary_crowding_AMPN': '16787',\n",
       " u'binary_crowding_PHEt2rpp_abs': '13919',\n",
       " u'binary_crowding_S7PI': '17030',\n",
       " u'binary_crowding_LPLIPAL2G180': '15839',\n",
       " u'binary_crowding_LPLIPAL2G181': '13289',\n",
       " u'binary_crowding_FDH4pp': '13889',\n",
       " u'binary_crowding_H2tex_abs': '18002',\n",
       " u'binary_crowding_FORt2pp': '15200',\n",
       " u'binary_crowding_ACOAD1f_abs': '13520',\n",
       " u'binary_crowding_MCTP1App': '13559',\n",
       " u'binary_crowding_ORNtex_abs': '14840',\n",
       " u'binary_crowding_HACD5_abs': '16103',\n",
       " u'binary_crowding_CPPPGO2': '15449',\n",
       " u'binary_crowding_GDPtex_abs': '14270',\n",
       " u'binary_crowding_MANptspp': '18116',\n",
       " u'binary_crowding_MI1PP': '15647',\n",
       " u'binary_crowding_Htex_abs': '12560',\n",
       " u'binary_crowding_AGM3PApp': '15272',\n",
       " u'binary_crowding_MDDCP2pp': '16181',\n",
       " u'binary_crowding_HCINNMt2rpp_abs': '14972',\n",
       " u'binary_crowding_INDOLEt2pp': '13970',\n",
       " u'binary_crowding_MCTP2App': '18266',\n",
       " u'binary_crowding_FUMt2_3pp': '13664',\n",
       " u'binary_crowding_PGSA120': '15035',\n",
       " u'binary_crowding_LCTStpp_abs': '16916',\n",
       " u'binary_crowding_SOTA': '13811',\n",
       " u'binary_crowding_ALAt4pp': '16409',\n",
       " u'binary_crowding_DSERDHr_abs': '17993',\n",
       " u'binary_crowding_DTMPtex_abs': '16367',\n",
       " u'binary_crowding_NI2tex_abs': '16943',\n",
       " u'binary_crowding_12DGR120tipp': '17612',\n",
       " u'binary_crowding_NH4tex_abs': '16016',\n",
       " u'binary_crowding_NTD1pp': '14744',\n",
       " u'binary_crowding_ILEtex_abs': '17189',\n",
       " u'binary_crowding_G1PPpp': '14126',\n",
       " u'binary_crowding_MLTP2_abs': '16721',\n",
       " u'binary_crowding_MSO3abcpp': '18041',\n",
       " u'binary_crowding_GTPtex_abs': '16904',\n",
       " u'binary_crowding_CU1abcpp': '12647',\n",
       " u'binary_crowding_PDH': '15818',\n",
       " u'binary_crowding_DMStex_abs': '13568',\n",
       " u'binary_crowding_R15BPK': '13040',\n",
       " u'binary_crowding_SADH': '13523',\n",
       " u'binary_crowding_AGM4Pt2pp': '15854',\n",
       " u'binary_crowding_HDCAtexi': '14456',\n",
       " u'binary_crowding_THYMt3pp': '15107',\n",
       " u'binary_crowding_LPLIPAL2ATG181': '15425',\n",
       " u'binary_crowding_LPLIPAL2ATG180': '17966',\n",
       " u'binary_crowding_UAAGDS': '14534',\n",
       " u'binary_crowding_UDPGLCURtex_abs': '14921',\n",
       " u'binary_crowding_LALALGLUtpp': '12512',\n",
       " u'binary_crowding_H2O2tex_abs': '16547',\n",
       " u'binary_crowding_PLIPA2E120pp': '17447',\n",
       " u'binary_crowding_AICART_abs': '17081',\n",
       " u'binary_crowding_O16A4COLIPAabctex': '15152',\n",
       " u'binary_crowding_NO3R2pp': '18128',\n",
       " u'binary_crowding_APH140': '17633',\n",
       " u'binary_crowding_APH141': '15089',\n",
       " u'binary_crowding_LPLIPAL2ATE120': '13661',\n",
       " u'binary_crowding_PLIPA1A120pp': '17999',\n",
       " u'binary_crowding_NDPK4_abs': '18098',\n",
       " u'binary_crowding_FECRMtonex': '13883',\n",
       " u'binary_crowding_ECOAH5_abs': '18074',\n",
       " u'binary_crowding_G1SAT_abs': '13127',\n",
       " u'binary_crowding_GTHRDabcpp': '14876',\n",
       " u'binary_crowding_HACD3_abs': '17663',\n",
       " u'binary_crowding_ME2': '15212',\n",
       " u'binary_crowding_ASPtex_abs': '16340',\n",
       " u'binary_crowding_FALDH2_abs': '12731',\n",
       " u'binary_crowding_MTHFD_abs': '13007',\n",
       " u'binary_crowding_DCYTtex_abs': '15053',\n",
       " u'binary_crowding_DMSOtpp_abs': '16145',\n",
       " u'binary_crowding_DMSOtex_abs': '17348',\n",
       " u'binary_crowding_RBK': '16973',\n",
       " u'binary_crowding_UDPGDC': '17315',\n",
       " u'binary_crowding_GLU5K': '17957',\n",
       " u'binary_crowding_MALt2_2pp': '16535',\n",
       " u'binary_crowding_ZN2t3pp': '17534',\n",
       " u'binary_crowding_KARA1_abs': '17885',\n",
       " u'binary_crowding_GLYCDx': '14864',\n",
       " u'binary_crowding_ASPO6': '17327',\n",
       " u'binary_crowding_ASPO4': '13019',\n",
       " u'binary_crowding_ASPO5': '16055',\n",
       " u'binary_crowding_ASPO3': '18131',\n",
       " u'binary_crowding_TYRPpp': '13709',\n",
       " u'binary_crowding_RPE_abs': '17342',\n",
       " u'binary_crowding_FBA3_abs': '13382',\n",
       " u'binary_crowding_DMSOR1pp': '18386',\n",
       " u'binary_crowding_ACGS': '15566',\n",
       " u'binary_crowding_NADTRHD': '12605',\n",
       " u'binary_crowding_HACD4_abs': '12620',\n",
       " u'binary_crowding_23CCMPtex_abs': '17063',\n",
       " u'binary_crowding_CRNDtex_abs': '12566',\n",
       " u'binary_crowding_ACGK': '13904',\n",
       " u'binary_crowding_HG2tex_abs': '18476',\n",
       " u'binary_crowding_XYLUt2pp': '15914',\n",
       " u'binary_crowding_SO4t2pp': '12659',\n",
       " u'binary_crowding_XANtex_abs': '18077',\n",
       " u'binary_crowding_PLIPA2E141pp': '16952',\n",
       " u'binary_crowding_HOMt2pp': '15239',\n",
       " u'binary_crowding_A5PISO_abs': '13145',\n",
       " u'binary_crowding_PGPP160pp': '15263',\n",
       " u'binary_crowding_O2tpp_abs': '13406',\n",
       " u'binary_crowding_O2tex_abs': '17786',\n",
       " u'binary_crowding_ZNabcpp': '14996',\n",
       " u'binary_crowding_PRAMPC': '16655',\n",
       " u'binary_crowding_PUNP1_abs': '18089',\n",
       " u'binary_crowding_FEENTERabcpp': '17375',\n",
       " u'binary_crowding_XANtpp_abs': '16865',\n",
       " u'binary_crowding_R5PPpp': '13967',\n",
       " u'binary_crowding_MTHFR2': '17987',\n",
       " u'binary_crowding_SKMt2pp': '16550',\n",
       " u'binary_crowding_CITt3pp': '16790',\n",
       " u'binary_crowding_CLPNH181pp': '18095',\n",
       " u'binary_crowding_PLIPA1E181pp': '18191',\n",
       " u'binary_crowding_DUTPDP': '18119',\n",
       " u'binary_crowding_ARGAGMt7pp_abs': '13448',\n",
       " u'binary_crowding_GTHPi': '14186',\n",
       " u'binary_crowding_MALTPTtexi': '14414',\n",
       " u'binary_crowding_MOHMT': '16835',\n",
       " u'binary_crowding_GLUDC': '17699',\n",
       " u'binary_crowding_2AGPGAT141': '14003',\n",
       " u'binary_crowding_2AGPGAT140': '15653',\n",
       " u'binary_crowding_FRULYSE_abs': '13985',\n",
       " u'binary_crowding_LPLIPAL1E180pp': '15134',\n",
       " u'binary_crowding_UPP3S': '17159',\n",
       " u'binary_crowding_MOBDtex_abs': '17213',\n",
       " u'binary_crowding_TALA_abs': '14195',\n",
       " u'binary_crowding_HEPT4': '12515',\n",
       " u'binary_crowding_HEPT1': '15125',\n",
       " u'binary_crowding_HEPT2': '17927',\n",
       " u'binary_crowding_HEPT3': '17924',\n",
       " u'binary_crowding_ASAD_abs': '13076',\n",
       " u'binary_crowding_PPAt4pp': '16868',\n",
       " u'binary_crowding_NODOx': '17096',\n",
       " u'binary_crowding_PGP161abcpp': '13865',\n",
       " u'binary_crowding_HSDy_abs': '14174',\n",
       " u'binary_crowding_PLIPA1E140pp': '12782',\n",
       " u'binary_crowding_ABUTD': '14990',\n",
       " u'binary_crowding_GALUi': '18326',\n",
       " u'binary_crowding_THRt2pp': '14378',\n",
       " u'binary_crowding_TAURtex_abs': '16238',\n",
       " u'binary_crowding_FCI_abs': '16874',\n",
       " u'binary_crowding_LYStex_abs': '18338',\n",
       " u'binary_crowding_2DGULRy': '13499',\n",
       " u'binary_crowding_NOtpp_abs': '12722',\n",
       " u'binary_crowding_DAPE_abs': '16883',\n",
       " u'binary_crowding_DHAtex_abs': '14069',\n",
       " u'binary_crowding_PRAGSr_abs': '14144',\n",
       " u'binary_crowding_OXDHCOAT': '16280',\n",
       " u'binary_crowding_PEAMNOpp': '14156',\n",
       " u'binary_crowding_CRNCAR_abs': '13034',\n",
       " u'binary_crowding_DMSOR2pp': '13826',\n",
       " u'binary_crowding_ILETA_abs': '17453',\n",
       " u'binary_crowding_PRMICI_abs': '17195',\n",
       " u'binary_crowding_CDAPPA141': '15416',\n",
       " u'binary_crowding_CDAPPA140': '13943',\n",
       " u'binary_crowding_UM4PL': '16844',\n",
       " u'binary_crowding_RBFK': '16316',\n",
       " u'binary_crowding_PGPP120pp': '17066',\n",
       " u'binary_crowding_PROGLYabcpp': '14405',\n",
       " u'binary_crowding_ECOAH8_abs': '18212',\n",
       " u'binary_crowding_NAtex_abs': '16232',\n",
       " u'binary_crowding_GLYCTO3': '15323',\n",
       " u'binary_crowding_HETZK': '15296',\n",
       " u'binary_crowding_HISt2rpp_abs': '13325',\n",
       " u'binary_crowding_SERt4pp': '15932',\n",
       " u'binary_crowding_PGPP120': '17594',\n",
       " u'binary_crowding_HPYRI_abs': '17651',\n",
       " u'binary_crowding_NADDP': '13778',\n",
       " u'binary_crowding_PLIPA1G140pp': '13085',\n",
       " u'binary_crowding_THRAi': '17831',\n",
       " u'binary_crowding_DHCINDO': '16643',\n",
       " u'binary_crowding_PPCK': '13748',\n",
       " u'binary_crowding_FORtex_abs': '14807',\n",
       " u'binary_crowding_ALCD2x_abs': '17741',\n",
       " u'binary_crowding_NODOy': '17354',\n",
       " u'binary_crowding_ICDHyr_abs': '13031',\n",
       " u'binary_crowding_IPPMIa_abs': '13466',\n",
       " u'binary_crowding_GLYC3Pt6pp': '13973',\n",
       " u'binary_crowding_CLPNS181pp_abs': '14657',\n",
       " u'binary_crowding_NI2tpp': '18458',\n",
       " u'binary_crowding_DHNPTE_abs': '18053',\n",
       " u'binary_crowding_CLPNH180pp': '15863',\n",
       " u'binary_crowding_ADPT': '14882',\n",
       " u'binary_crowding_TDPDRR': '17252',\n",
       " u'binary_crowding_23DAPPAt2pp': '14501',\n",
       " u'binary_crowding_GLCRAL': '17945',\n",
       " u'binary_crowding_TDPDRE': '12923',\n",
       " u'binary_crowding_LPLIPAL1E181pp': '12806',\n",
       " u'binary_crowding_METSOX2tex_abs': '18083',\n",
       " u'binary_crowding_AADDGT': '15059',\n",
       " u'binary_crowding_GALCTNLt2pp': '17318',\n",
       " u'binary_crowding_TSULtex_abs': '15986',\n",
       " u'binary_crowding_PRASCSi': '15944',\n",
       " u'binary_crowding_COLIPAPabctex': '13700',\n",
       " u'binary_crowding_12DGR160tipp': '16484',\n",
       " u'binary_crowding_BTNt2ipp': '15833',\n",
       " u'binary_crowding_FACOAE141': '15110',\n",
       " u'binary_crowding_FACOAE140': '14402',\n",
       " u'binary_crowding_FE3DCITtonex': '16850',\n",
       " u'binary_crowding_CUt3': '15671',\n",
       " u'binary_crowding_FACOAL80t2pp': '17234',\n",
       " u'binary_crowding_QUINDH_abs': '12494',\n",
       " u'binary_crowding_3HCINNMH': '15446',\n",
       " u'binary_crowding_TPRDCOAS': '17297',\n",
       " u'binary_crowding_IPDDI_abs': '16490',\n",
       " u'binary_crowding_MLDCP2Bpp': '16064',\n",
       " u'binary_crowding_GLYCL': '15362',\n",
       " u'binary_crowding_PAPA120': '18512',\n",
       " u'binary_crowding_CRNCBCT_abs': '15548',\n",
       " u'binary_crowding_UGLT_abs': '16436',\n",
       " u'binary_crowding_ACNAMt2pp': '13280',\n",
       " u'binary_crowding_SULabcpp': '13430',\n",
       " u'binary_crowding_ACMUMtex': '15830',\n",
       " u'binary_crowding_G3PD2_abs': '14057',\n",
       " u'binary_crowding_UAGPT3': '14789',\n",
       " u'binary_crowding_CU2tpp': '16265',\n",
       " u'binary_crowding_MDH_abs': '18290',\n",
       " u'binary_crowding_CPGNUtex': '13613',\n",
       " u'binary_crowding_GLUt2rpp_abs': '12710',\n",
       " u'binary_crowding_OMMBLHX': '12899',\n",
       " u'binary_crowding_PYROX': '17933',\n",
       " u'binary_crowding_FRUURtex_abs': '15797',\n",
       " u'binary_crowding_5DGLCNt2rpp_abs': '12656',\n",
       " u'binary_crowding_GLNS': '15857',\n",
       " u'binary_crowding_CBLAT_abs': '18437',\n",
       " u'binary_crowding_MLTP3_abs': '14384',\n",
       " u'binary_crowding_ASR': '14879',\n",
       " u'binary_crowding_AST': '14165',\n",
       " u'binary_crowding_PLIPA1G141pp': '12491',\n",
       " u'binary_crowding_DASYN180': '15614',\n",
       " u'binary_crowding_DASYN181': '13460',\n",
       " u'binary_crowding_DHNCOAS': '12740',\n",
       " u'binary_crowding_PGPP141': '13769',\n",
       " u'binary_crowding_PGPP140': '16502',\n",
       " u'binary_crowding_DHNCOAT': '13217',\n",
       " u'binary_crowding_LPLIPAL2A160': '12488',\n",
       " u'binary_crowding_LPLIPAL2A161': '15941',\n",
       " u'binary_crowding_METOX2s': '14597',\n",
       " u'binary_crowding_NADH18pp': '15662',\n",
       " u'binary_crowding_PAPA120pp': '18011',\n",
       " u'binary_crowding_12DGR140tipp': '18107',\n",
       " u'binary_crowding_PDXPP': '12815',\n",
       " u'binary_crowding_2DGULRx': '15551',\n",
       " u'binary_crowding_HOMtex_abs': '13250',\n",
       " u'binary_crowding_PLIPA2G141pp': '14189',\n",
       " u'binary_crowding_MANAO_abs': '17378',\n",
       " u'binary_crowding_CYSS': '14540',\n",
       " u'binary_crowding_DHPTDNR': '14516',\n",
       " u'binary_crowding_UDCPDP': '15119',\n",
       " u'binary_crowding_MALTtexi': '13961',\n",
       " u'binary_crowding_3HPPtpp': '12650',\n",
       " u'binary_crowding_SPMS': '18020',\n",
       " u'binary_crowding_ARBTptspp': '12545',\n",
       " u'binary_crowding_2AGPEAT161': '14135',\n",
       " u'binary_crowding_2AGPEAT160': '17618',\n",
       " u'binary_crowding_G5SD': '16727',\n",
       " u'binary_crowding_ISETACtex_abs': '14372',\n",
       " u'binary_crowding_GUI2_abs': '12674',\n",
       " u'binary_crowding_RIBtex_abs': '15044',\n",
       " u'binary_crowding_VPAMTr_abs': '17324',\n",
       " u'binary_crowding_GLUN': '15176',\n",
       " u'binary_crowding_DC6PH': '18071',\n",
       " u'binary_crowding_23PDE9pp': '13118',\n",
       " u'binary_crowding_TUNGSabcpp': '16742',\n",
       " u'binary_crowding_DHAPT': '15965',\n",
       " u'binary_crowding_KG6PDC': '13232',\n",
       " u'binary_crowding_LALADGLUtex_abs': '16253',\n",
       " u'binary_crowding_GLNabcpp': '16349',\n",
       " u'binary_crowding_LYXtex_abs': '15773',\n",
       " u'binary_crowding_PLIPA2A120pp': '14468',\n",
       " u'binary_crowding_NMNt7pp': '13277',\n",
       " u'binary_crowding_URAtex_abs': '16127',\n",
       " u'binary_crowding_CLt3_2pp': '17960',\n",
       " u'binary_crowding_CRNBTCT_abs': '15611',\n",
       " u'binary_crowding_THDPS': '17018',\n",
       " u'binary_crowding_4HTHRS': '17747',\n",
       " u'binary_crowding_ADK1_abs': '15143',\n",
       " u'binary_crowding_SHK3Dr_abs': '17093',\n",
       " u'binary_crowding_FE3HOXabcpp': '18518',\n",
       " u'binary_crowding_FE3tex_abs': '15266',\n",
       " u'binary_crowding_ACANTHAT': '16667',\n",
       " u'binary_crowding_AGM4PCP': '16325',\n",
       " u'binary_crowding_GLYCLTDy': '16274',\n",
       " u'binary_crowding_FECRMabcpp': '14738',\n",
       " u'binary_crowding_PPBNGS': '15209',\n",
       " u'binary_crowding_ADOCBIK': '17642',\n",
       " u'binary_crowding_PSERtex_abs': '16211',\n",
       " u'binary_crowding_G3PItex_abs': '17114',\n",
       " u'binary_crowding_GUR1PPpp': '15383',\n",
       " u'binary_crowding_NTRIR4pp': '13370',\n",
       " u'binary_crowding_GLCt2pp': '13574',\n",
       " u'binary_crowding_2AGPEAT181': '15992',\n",
       " u'binary_crowding_2AGPEAT180': '13418',\n",
       " u'binary_crowding_SKMtex_abs': '14321',\n",
       " u'binary_crowding_PIuabcpp': '16838',\n",
       " u'binary_crowding_CYNTAH': '18473',\n",
       " u'binary_crowding_NTD8': '16109',\n",
       " u'binary_crowding_NTD9': '17042',\n",
       " u'binary_crowding_NTD4': '17516',\n",
       " u'binary_crowding_NTD5': '13763',\n",
       " u'binary_crowding_NTD6': '13070',\n",
       " u'binary_crowding_NTD7': '16559',\n",
       " u'binary_crowding_3HPPPNH': '12614',\n",
       " u'binary_crowding_NTD1': '14276',\n",
       " u'binary_crowding_NTD2': '18218',\n",
       " u'binary_crowding_NTD3': '14039',\n",
       " u'binary_crowding_LYXI': '14009',\n",
       " u'binary_crowding_DSERtex_abs': '12863',\n",
       " u'binary_crowding_GAM6Pt6_2pp': '16439',\n",
       " u'binary_crowding_NMNN': '14909',\n",
       " u'binary_crowding_SSALx': '12884',\n",
       " u'binary_crowding_SSALy': '17738',\n",
       " u'binary_crowding_O16AP1pp': '13058',\n",
       " u'binary_crowding_LPLIPAL1G180pp': '13307',\n",
       " u'binary_crowding_MOCOS': '15083',\n",
       " u'binary_crowding_GDPDPK': '14093',\n",
       " ...}"
      ]
     },
     "execution_count": 38,
     "metadata": {},
     "output_type": "execute_result"
    }
   ],
   "source": [
    "rids = [r.id for r in gap.reactions]\n",
    "yid_dict = {y.VarName:rids[int(y.VarName)] for y in decomposer._y0}\n",
    "y_inds = {rids[int(y.VarName)]:y.VarName for y in decomposer._y0}"
   ]
  },
  {
   "cell_type": "code",
   "execution_count": 39,
   "metadata": {
    "collapsed": false,
    "deletable": true,
    "editable": true
   },
   "outputs": [
    {
     "name": "stdout",
     "output_type": "stream",
     "text": [
      "binary_crowding_ATPS4rpp_abs 1.0 1.0 1.0\n"
     ]
    }
   ],
   "source": [
    "for rxn in gap.reactions.query('binary_'):\n",
    "    if rxn.x > 0.99:\n",
    "        xmilp = sol.x_dict[rxn.id]\n",
    "        xbend = y_dict[y_inds[rxn.id]]\n",
    "        print rxn, rxn.x, xmilp, xbend"
   ]
  }
 ],
 "metadata": {
  "kernelspec": {
   "display_name": "Python 2",
   "language": "python",
   "name": "python2"
  },
  "language_info": {
   "codemirror_mode": {
    "name": "ipython",
    "version": 2
   },
   "file_extension": ".py",
   "mimetype": "text/x-python",
   "name": "python",
   "nbconvert_exporter": "python",
   "pygments_lexer": "ipython2",
   "version": "2.7.14"
  }
 },
 "nbformat": 4,
 "nbformat_minor": 2
}
