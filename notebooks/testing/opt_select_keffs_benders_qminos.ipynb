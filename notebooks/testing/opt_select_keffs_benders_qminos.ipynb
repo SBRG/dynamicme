{
 "cells": [
  {
   "cell_type": "markdown",
   "metadata": {
    "deletable": true,
    "editable": true
   },
   "source": [
    "## Solve using Benders"
   ]
  },
  {
   "cell_type": "code",
   "execution_count": 1,
   "metadata": {
    "collapsed": false
   },
   "outputs": [],
   "source": [
    "from gurobipy import *"
   ]
  },
  {
   "cell_type": "code",
   "execution_count": 2,
   "metadata": {
    "collapsed": false,
    "deletable": true,
    "editable": true
   },
   "outputs": [],
   "source": [
    "import qminos\n",
    "from qminos import qwarmLP"
   ]
  },
  {
   "cell_type": "code",
   "execution_count": 3,
   "metadata": {
    "collapsed": true,
    "deletable": true,
    "editable": true
   },
   "outputs": [],
   "source": [
    "import seaborn as sns\n",
    "import pandas as pd\n",
    "import matplotlib.pyplot as plt\n",
    "\n",
    "plt.rcParams['svg.fonttype'] = 'none'\n",
    "pd.set_option('display.max_colwidth', -1)\n",
    "%matplotlib inline"
   ]
  },
  {
   "cell_type": "code",
   "execution_count": 5,
   "metadata": {
    "collapsed": false,
    "deletable": true,
    "editable": true
   },
   "outputs": [],
   "source": [
    "from dynamicme.decomposition import Decomposer\n",
    "from dynamicme.callback_gurobi import cb_benders"
   ]
  },
  {
   "cell_type": "code",
   "execution_count": 6,
   "metadata": {
    "collapsed": true,
    "deletable": true,
    "editable": true
   },
   "outputs": [],
   "source": [
    "from cobra.io import load_json_model\n",
    "\n",
    "ijomc  = load_json_model('/home/laurence/ME/data/dynamicME/nominal_ijomc.json')\n",
    "ijofit = load_json_model('/home/laurence/ME/data/dynamicME/best_ijomc.json')"
   ]
  },
  {
   "cell_type": "code",
   "execution_count": 7,
   "metadata": {
    "collapsed": false,
    "deletable": true,
    "editable": true
   },
   "outputs": [
    {
     "name": "stdout",
     "output_type": "stream",
     "text": [
      "(<type 'exceptions.ImportError'>, ImportError('No module named cplex',), <traceback object at 0x7fa46f723cf8>)\n"
     ]
    }
   ],
   "source": [
    "from dynamicme.optimize import Optimizer"
   ]
  },
  {
   "cell_type": "code",
   "execution_count": 8,
   "metadata": {
    "collapsed": true,
    "deletable": true,
    "editable": true
   },
   "outputs": [],
   "source": [
    "opt = Optimizer(ijomc)"
   ]
  },
  {
   "cell_type": "code",
   "execution_count": 9,
   "metadata": {
    "collapsed": true,
    "deletable": true,
    "editable": true
   },
   "outputs": [],
   "source": [
    "gap = opt.add_duality_gap_constraint()"
   ]
  },
  {
   "cell_type": "code",
   "execution_count": 10,
   "metadata": {
    "collapsed": false,
    "deletable": true,
    "editable": true
   },
   "outputs": [],
   "source": [
    "crowding = ijomc.metabolites.crowding\n",
    "crowdingfit = ijofit.metabolites.crowding\n",
    "a12_dict = {(gap.metabolites.get_by_id(crowding.id), gap.reactions.get_by_id(rxn.id)):(\n",
    "    rxn.metabolites[crowding], \n",
    "    ijofit.reactions.get_by_id(rxn.id).metabolites[crowdingfit]) for rxn in crowding.reactions}"
   ]
  },
  {
   "cell_type": "code",
   "execution_count": 11,
   "metadata": {
    "collapsed": false,
    "deletable": true,
    "editable": true
   },
   "outputs": [
    {
     "data": {
      "text/plain": [
       "<Model duality_gap at 0x7fa47108fad0>"
      ]
     },
     "execution_count": 11,
     "metadata": {},
     "output_type": "execute_result"
    }
   ],
   "source": [
    "opt.make_disjunctive_primal_dual(gap, a12_dict)"
   ]
  },
  {
   "cell_type": "code",
   "execution_count": 12,
   "metadata": {
    "collapsed": false,
    "deletable": true,
    "editable": true
   },
   "outputs": [],
   "source": [
    "for rxn in gap.reactions:\n",
    "    rxn.objective_coefficient = 0.\n",
    "for rxn in gap.reactions.query('binary_'):\n",
    "    rxn.objective_coefficient = 1."
   ]
  },
  {
   "cell_type": "code",
   "execution_count": 13,
   "metadata": {
    "collapsed": false,
    "deletable": true,
    "editable": true
   },
   "outputs": [],
   "source": [
    "ijofit.optimize()\n",
    "MU_FIT = ijofit.reactions.BIOMASS_Ec_iJO1366_core_53p95M.x"
   ]
  },
  {
   "cell_type": "code",
   "execution_count": 83,
   "metadata": {
    "collapsed": false,
    "deletable": true,
    "editable": true
   },
   "outputs": [
    {
     "data": {
      "text/plain": [
       "0.7301837182736599"
      ]
     },
     "execution_count": 83,
     "metadata": {},
     "output_type": "execute_result"
    }
   ],
   "source": [
    "MU_FIT"
   ]
  },
  {
   "cell_type": "code",
   "execution_count": 84,
   "metadata": {
    "collapsed": true,
    "deletable": true,
    "editable": true
   },
   "outputs": [],
   "source": [
    "F_TOL = 0.1\n",
    "\n",
    "gap.reactions.BIOMASS_Ec_iJO1366_core_53p95M.upper_bound = MU_FIT*(1+F_TOL)\n",
    "gap.reactions.BIOMASS_Ec_iJO1366_core_53p95M.lower_bound = MU_FIT*(1-F_TOL)"
   ]
  },
  {
   "cell_type": "code",
   "execution_count": 85,
   "metadata": {
    "collapsed": false,
    "deletable": true,
    "editable": true
   },
   "outputs": [
    {
     "data": {
      "text/plain": [
       "<Solution 1.00 at 0x7fa46915d550>"
      ]
     },
     "execution_count": 85,
     "metadata": {},
     "output_type": "execute_result"
    }
   ],
   "source": [
    "gap.optimize(solver='gurobi', objective_sense='minimize')"
   ]
  },
  {
   "cell_type": "code",
   "execution_count": 86,
   "metadata": {
    "collapsed": false,
    "deletable": true,
    "editable": true
   },
   "outputs": [
    {
     "data": {
      "text/plain": [
       "1.0"
      ]
     },
     "execution_count": 86,
     "metadata": {},
     "output_type": "execute_result"
    }
   ],
   "source": [
    "sum([r.x for r in gap.reactions.query('binary_')])"
   ]
  },
  {
   "cell_type": "code",
   "execution_count": 87,
   "metadata": {
    "collapsed": false,
    "deletable": true,
    "editable": true
   },
   "outputs": [
    {
     "data": {
      "text/plain": [
       "2018"
      ]
     },
     "execution_count": 87,
     "metadata": {},
     "output_type": "execute_result"
    }
   ],
   "source": [
    "bvars = [r for r in gap.reactions if r.variable_kind == 'integer']\n",
    "len(bvars)"
   ]
  },
  {
   "cell_type": "code",
   "execution_count": 88,
   "metadata": {
    "collapsed": false,
    "deletable": true,
    "editable": true
   },
   "outputs": [
    {
     "data": {
      "text/plain": [
       "0.7489994413180718"
      ]
     },
     "execution_count": 88,
     "metadata": {},
     "output_type": "execute_result"
    }
   ],
   "source": [
    "gap.reactions.BIOMASS_Ec_iJO1366_core_53p95M.x"
   ]
  },
  {
   "cell_type": "code",
   "execution_count": 89,
   "metadata": {
    "collapsed": false,
    "deletable": true,
    "editable": true
   },
   "outputs": [
    {
     "name": "stdout",
     "output_type": "stream",
     "text": [
      "binary_crowding_ATPS4rpp_abs 1.0\n"
     ]
    }
   ],
   "source": [
    "for rxn in gap.reactions.query('binary_'):\n",
    "    if rxn.x > 0.99:\n",
    "        print rxn, rxn.x"
   ]
  },
  {
   "cell_type": "markdown",
   "metadata": {
    "deletable": true,
    "editable": true
   },
   "source": [
    "## Solve using Benders"
   ]
  },
  {
   "cell_type": "code",
   "execution_count": 90,
   "metadata": {
    "collapsed": true,
    "deletable": true,
    "editable": true
   },
   "outputs": [],
   "source": [
    "from cobra.solvers import gurobi_solver\n",
    "from gurobipy import *"
   ]
  },
  {
   "cell_type": "code",
   "execution_count": 91,
   "metadata": {
    "collapsed": false,
    "deletable": true,
    "editable": true
   },
   "outputs": [
    {
     "name": "stdout",
     "output_type": "stream",
     "text": [
      "CPU times: user 464 ms, sys: 17.4 ms, total: 482 ms\n",
      "Wall time: 456 ms\n"
     ]
    }
   ],
   "source": [
    "%%time\n",
    "milp = gurobi_solver.create_problem(gap)\n",
    "milp.ModelSense = GRB.MINIMIZE"
   ]
  },
  {
   "cell_type": "code",
   "execution_count": 92,
   "metadata": {
    "collapsed": true
   },
   "outputs": [],
   "source": [
    "milp.Params.IntFeasTol = 1e-9\n",
    "milp.Params.FeasibilityTol = 1e-8\n",
    "milp.Params.OptimalityTol = 1e-8\n",
    "milp.Params.NumericFocus = 1"
   ]
  },
  {
   "cell_type": "code",
   "execution_count": 93,
   "metadata": {
    "collapsed": false,
    "deletable": true,
    "editable": true
   },
   "outputs": [
    {
     "name": "stdout",
     "output_type": "stream",
     "text": [
      "CPU times: user 9.6 s, sys: 293 ms, total: 9.9 s\n",
      "Wall time: 3.69 s\n"
     ]
    }
   ],
   "source": [
    "%time milp.optimize()"
   ]
  },
  {
   "cell_type": "code",
   "execution_count": 94,
   "metadata": {
    "collapsed": false,
    "deletable": true,
    "editable": true
   },
   "outputs": [
    {
     "data": {
      "text/plain": [
       "1.0"
      ]
     },
     "execution_count": 94,
     "metadata": {},
     "output_type": "execute_result"
    }
   ],
   "source": [
    "milp.ObjVal"
   ]
  },
  {
   "cell_type": "code",
   "execution_count": 95,
   "metadata": {
    "collapsed": false,
    "deletable": true,
    "editable": true
   },
   "outputs": [],
   "source": [
    "sol = gurobi_solver.format_solution(milp, gap)"
   ]
  },
  {
   "cell_type": "code",
   "execution_count": 96,
   "metadata": {
    "collapsed": false,
    "deletable": true,
    "editable": true
   },
   "outputs": [
    {
     "name": "stdout",
     "output_type": "stream",
     "text": [
      "binary_crowding_ATPS4rpp_abs 1.0 1.0\n"
     ]
    }
   ],
   "source": [
    "for rxn in gap.reactions.query('binary_'):\n",
    "    if rxn.x > 0.99:\n",
    "        xmilp = sol.x_dict[rxn.id]\n",
    "        print rxn, rxn.x, xmilp"
   ]
  },
  {
   "cell_type": "markdown",
   "metadata": {
    "deletable": true,
    "editable": true
   },
   "source": [
    "### Double check that master, sub split correctly"
   ]
  },
  {
   "cell_type": "code",
   "execution_count": 97,
   "metadata": {
    "collapsed": false,
    "deletable": true,
    "editable": true
   },
   "outputs": [],
   "source": [
    "# ### Any constraints involving only y?\n",
    "# bin_vars = gap.reactions.query('binary_')\n",
    "# cons_bin = set([m for bv in bin_vars for m in bv.metabolites.keys()])\n",
    "# len(cons_bin)\n",
    "# cons_vtypes = [set([r.variable_kind for r in m.reactions]) for m in cons_bin]\n",
    "# cons_bin_only = [c for c in cons_vtypes if 'continuous' not in c]\n",
    "# cons_bin_only"
   ]
  },
  {
   "cell_type": "markdown",
   "metadata": {
    "deletable": true,
    "editable": true
   },
   "source": [
    "## Subproblem infeasible...?"
   ]
  },
  {
   "cell_type": "code",
   "execution_count": 98,
   "metadata": {
    "collapsed": false
   },
   "outputs": [
    {
     "name": "stdout",
     "output_type": "stream",
     "text": [
      "Changed value of parameter Presolve to 0\n",
      "   Prev: -1  Min: -1  Max: 2  Default: -1\n",
      "Changed value of parameter LazyConstraints to 1\n",
      "   Prev: 0  Min: 0  Max: 1  Default: 0\n",
      "Changed value of parameter IntFeasTol to 1e-09\n",
      "   Prev: 1e-05  Min: 1e-09  Max: 0.1  Default: 1e-05\n"
     ]
    }
   ],
   "source": [
    "decomposer = Decomposer(milp)\n",
    "\n",
    "master,sub = decomposer.benders_decomp()"
   ]
  },
  {
   "cell_type": "markdown",
   "metadata": {},
   "source": [
    "### Try solving sub in quad"
   ]
  },
  {
   "cell_type": "code",
   "execution_count": 99,
   "metadata": {
    "collapsed": false
   },
   "outputs": [],
   "source": [
    "from qminos import quadLP\n",
    "import numpy as np\n",
    "\n",
    "yopt0 = [y.X for y in decomposer._y0]\n",
    "decomposer.update_subobj(yopt0)\n",
    "A = decomposer._A\n",
    "d = decomposer._d\n",
    "c = np.array(decomposer._cx)\n",
    "xl = decomposer._xl\n",
    "xu = decomposer._xu\n",
    "csense = decomposer._csenses"
   ]
  },
  {
   "cell_type": "code",
   "execution_count": null,
   "metadata": {
    "collapsed": false
   },
   "outputs": [],
   "source": [
    "from qminos.quadLP import QMINOS\n",
    "\n",
    "solver = QMINOS()\n",
    "%time qx,inform,hs = solver.solvelp(A,d,c,xl,xu,csense, precision='quad')\n",
    "print(inform)"
   ]
  },
  {
   "cell_type": "code",
   "execution_count": 79,
   "metadata": {
    "collapsed": false,
    "deletable": true,
    "editable": true
   },
   "outputs": [
    {
     "name": "stdout",
     "output_type": "stream",
     "text": [
      "Getting MINOS parameters...\n",
      "Done in 10.0109 seconds with status 1\n",
      "CPU times: user 10.1 s, sys: 2.76 ms, total: 10.1 s\n",
      "Wall time: 10.1 s\n",
      "1\n"
     ]
    }
   ],
   "source": [
    "from qminos.quadLP import QMINOS\n",
    "\n",
    "solver = QMINOS()\n",
    "%time qx,inform,hs = solver.solvelp(A,d,c,xl,xu,csense, precision='dq')\n",
    "print(inform)"
   ]
  },
  {
   "cell_type": "code",
   "execution_count": 78,
   "metadata": {
    "collapsed": false
   },
   "outputs": [
    {
     "data": {
      "text/plain": [
       "array(1)"
      ]
     },
     "execution_count": 78,
     "metadata": {},
     "output_type": "execute_result"
    }
   ],
   "source": [
    "inform"
   ]
  },
  {
   "cell_type": "code",
   "execution_count": null,
   "metadata": {
    "collapsed": true
   },
   "outputs": [],
   "source": []
  },
  {
   "cell_type": "code",
   "execution_count": 43,
   "metadata": {
    "collapsed": false,
    "deletable": true,
    "editable": true,
    "scrolled": true
   },
   "outputs": [
    {
     "name": "stdout",
     "output_type": "stream",
     "text": [
      "Changed value of parameter Presolve to 0\n",
      "   Prev: -1  Min: -1  Max: 2  Default: -1\n",
      "Changed value of parameter LazyConstraints to 1\n",
      "   Prev: 0  Min: 0  Max: 1  Default: 0\n",
      "Changed value of parameter IntFeasTol to 1e-09\n",
      "   Prev: 1e-05  Min: 1e-09  Max: 0.1  Default: 1e-05\n",
      "Parameter OutputFlag unchanged\n",
      "   Value: 1  Min: 0  Max: 1  Default: 1\n",
      "Changed value of parameter NumericFocus to 1\n",
      "   Prev: 0  Min: 0  Max: 3  Default: 0\n",
      "Changed value of parameter BarHomogeneous to 1\n",
      "   Prev: -1  Min: -1  Max: 1  Default: -1\n",
      "Optimize a model with 16506 rows, 55295 columns and 100457 nonzeros\n",
      "Coefficient statistics:\n",
      "  Matrix range     [2e-11, 1e+03]\n",
      "  Objective range  [5e-03, 1e+04]\n",
      "  Bounds range     [1e+03, 1e+03]\n",
      "  RHS range        [0e+00, 0e+00]\n",
      "Warning: Model contains large matrix coefficient range\n",
      "\n",
      "Concurrent LP optimizer: dual simplex and barrier\n",
      "Showing barrier log only...\n",
      "\n",
      "Presolve removed 4864 rows and 30399 columns\n",
      "Presolve time: 0.06s\n",
      "Presolved: 11642 rows, 24896 columns, 61914 nonzeros\n",
      "\n",
      "Ordering time: 0.01s\n",
      "\n",
      "Barrier statistics:\n",
      " Dense cols : 19\n",
      " AA' NZ     : 7.483e+04\n",
      " Factor NZ  : 2.485e+05 (roughly 17 MBytes of memory)\n",
      " Factor Ops : 1.736e+07 (less than 1 second per iteration)\n",
      " Threads    : 3\n",
      "\n",
      "                  Objective                Residual\n",
      "Iter       Primal          Dual         Primal    Dual     Compl     Time\n",
      "   0  -1.54296291e+13  2.75677417e+13  1.56e+05 1.00e+00  5.11e+09     0s\n",
      "   1  -5.52314521e+12  2.42859604e+13  5.57e+04 3.60e+05  1.87e+09     0s\n",
      "   2  -2.95534199e+12  1.82675758e+13  2.96e+04 5.78e+04  8.90e+08     0s\n",
      "   3  -1.34772408e+12  9.86262851e+12  1.26e+04 1.44e-08  3.38e+08     0s\n",
      "   4  -2.39047980e+11  2.24257158e+12  2.47e+03 1.91e-06  5.23e+07     0s\n",
      "   5  -7.09060336e+10  4.20444005e+11  5.31e+02 2.23e-08  9.36e+06     0s\n",
      "   6  -1.83760449e+10  7.33221601e+10  1.61e+01 7.89e-09  1.57e+06     0s\n",
      "   7  -5.35163238e+09  6.46738612e+09  1.06e+00 1.00e-09  2.00e+05     0s\n",
      "   8  -3.03598861e+09  3.35786709e+09  5.05e-01 7.49e-10  1.08e+05     0s\n",
      "   9  -1.09193477e+09  1.92626500e+09  1.48e-01 4.97e-10  5.10e+04     0s\n",
      "  10  -5.58779580e+08  7.51453067e+08  7.38e-02 1.48e-09  2.21e+04     0s\n",
      "  11  -3.40972740e+08  4.19938024e+08  4.45e-02 2.43e-10  1.28e+04     0s\n",
      "  12  -2.32420593e+08  2.84625631e+08  3.05e-02 2.57e-09  8.73e+03     0s\n",
      "  13  -1.79701234e+08  1.62865256e+08  2.36e-02 3.64e-10  5.79e+03     0s\n",
      "  14  -1.07926535e+08  1.20185893e+08  1.42e-02 4.74e-10  3.85e+03     0s\n",
      "  15  -8.01131010e+07  7.48564901e+07  1.06e-02 6.76e-10  2.62e+03     0s\n",
      "  16  -4.26558093e+07  4.20051472e+07  5.80e-03 8.17e-10  1.43e+03     0s\n",
      "  17  -2.31253715e+07  2.07631906e+07  3.17e-03 4.57e-08  7.41e+02     0s\n",
      "  18  -1.95129458e+07  1.69244749e+07  2.55e-03 2.29e-07  6.15e+02     0s\n",
      "  19  -1.43071649e+07  1.00606757e+07  1.85e-03 4.47e-09  4.11e+02     0s\n",
      "  20  -8.45132408e+06  8.14898761e+06  1.04e-03 3.82e-09  2.80e+02     0s\n",
      "  21  -6.44156639e+06  7.35145209e+06  7.70e-04 4.07e-09  2.33e+02     0s\n",
      "  22  -3.09178481e+06  4.40222338e+06  4.13e-04 1.32e-08  1.27e+02     0s\n",
      "  23  -1.70292554e+06  1.17209143e+06  2.28e-04 7.24e-08  4.86e+01     0s\n",
      "  24  -7.82558968e+05  8.29306815e+05  1.05e-04 7.75e-08  2.72e+01     0s\n",
      "  25  -6.88070073e+05  7.96680135e+05  9.28e-05 7.45e-08  2.51e+01     0s\n",
      "  26  -5.24692973e+05  6.77411057e+05  7.11e-05 1.19e-07  2.03e+01     0s\n",
      "  27  -3.63523531e+05  3.15764320e+05  4.95e-05 6.73e-08  1.15e+01     0s\n",
      "  28  -1.94108055e+05  1.22617147e+05  2.68e-05 5.04e-05  5.35e+00     0s\n",
      "  29  -9.51467089e+04  4.96476316e+04  1.36e-05 4.28e-05  2.44e+00     0s\n",
      "  30  -4.34118711e+04  1.64365791e+04  6.17e-06 1.01e-05  1.01e+00     0s\n",
      "  31  -1.20769522e+04  1.00887673e+04  1.75e-06 4.22e-05  3.75e-01     0s\n",
      "  32  -6.62392178e+03  4.79867975e+03  9.73e-07 1.09e-05  1.93e-01     0s\n",
      "  33  -1.33543134e+03  2.99111536e+03  7.20e-07 1.38e-04  7.07e-02     0s\n",
      "  34  -1.23004364e+03  2.25555980e+03  6.61e-07 2.30e-04  5.50e-02     1s\n",
      "  35  -7.57579112e+02  1.42078493e+03  3.49e-07 9.03e-05  3.52e-02     1s\n",
      "  36  -6.40726345e+02  1.34913574e+03  3.01e-07 8.61e-05  3.21e-02     1s\n",
      "  37  -4.65841766e+02  3.08540604e+02  2.07e-07 3.41e-04  1.88e-02     1s\n",
      "  38  -4.31849498e+02  2.40566003e+02  4.84e-07 2.67e-04  1.59e-02     1s\n",
      "  39  -3.00707847e+02  1.50535235e+02  2.75e-07 1.80e-04  1.07e-02     1s\n",
      "  40  -2.59645949e+02  9.24662665e+01  3.37e-07 1.12e-04  7.84e-03     1s\n",
      "  41  -2.58458417e+02  9.20331756e+01  7.19e-05 1.11e-04  7.80e-03     1s\n",
      "  42  -1.90332521e+02  1.34500402e+02  5.22e-05 5.04e-05  6.37e-03     1s\n",
      "  43  -1.28407833e+02  1.46101427e+02  3.46e-05 2.34e-05  4.24e-03     1s\n",
      "  44  -1.20884998e+02  1.26341481e+02  3.26e-05 1.86e-05  3.86e-03     1s\n",
      "  45  -1.11754785e+02  1.15218720e+02  2.94e-05 1.69e-05  3.55e-03     1s\n",
      "  46  -1.11467748e+02  1.15100671e+02  4.45e-05 1.69e-05  3.54e-03     1s\n",
      "  47  -1.11473683e+02  1.15076911e+02  4.45e-05 1.69e-05  3.54e-03     1s\n",
      "  48  -1.11017961e+02  9.81772124e+01  4.44e-05 1.65e-06  3.53e-03     1s\n",
      "  49  -1.11005825e+02  9.81889768e+01  3.59e-05 1.65e-06  3.53e-03     1s\n",
      "  50  -1.10996085e+02  9.81697065e+01  4.26e-05 1.65e-06  3.53e-03     1s\n",
      "  51  -1.05130474e+02  8.91512590e+01  4.03e-05 1.50e-06  3.29e-03     1s\n",
      "  52  -1.05107073e+02  8.92739007e+01  4.03e-05 1.43e-06  3.29e-03     1s\n",
      "  53  -1.05106282e+02  8.92658253e+01  4.09e-05 1.43e-06  3.29e-03     1s\n",
      "  54  -1.05103512e+02  8.92693510e+01  4.13e-05 1.43e-06  3.29e-03     1s\n",
      "  55  -1.01829577e+02  8.51726148e+01  4.00e-05 1.37e-06  3.16e-03     1s\n",
      "  56  -1.01813927e+02  8.51627475e+01  7.29e-05 1.34e-06  3.16e-03     1s\n",
      "  57  -1.01709285e+02  8.50985634e+01  1.22e-04 1.34e-06  3.16e-03     1s\n",
      "  58  -1.01709203e+02  8.50968296e+01  1.04e-04 1.34e-06  3.16e-03     1s\n",
      "  59  -1.01706643e+02  8.50941766e+01  7.94e-05 1.34e-06  3.16e-03     1s\n",
      "  60  -9.59233435e+01  8.10195547e+01  7.54e-05 1.28e-06  2.99e-03     1s\n",
      "  61  -9.45279549e+01  8.03479570e+01  7.44e-05 1.26e-06  2.96e-03     1s\n",
      "  62  -9.45233703e+01  8.03462466e+01  6.41e-05 1.26e-06  2.96e-03     1s\n",
      "  63  -9.45036474e+01  8.03000286e+01  6.41e-05 1.26e-06  2.95e-03     1s\n",
      "  64  -9.45007268e+01  8.02957001e+01  6.41e-05 1.26e-06  2.95e-03     1s\n",
      "  65  -8.88219379e+01  7.76253810e+01  6.04e-05 1.22e-06  2.82e-03     1s\n",
      "  66  -8.74104169e+01  7.58844586e+01  1.45e-04 1.19e-06  2.76e-03     1s\n",
      "  67  -8.71311197e+01  7.54867076e+01  1.42e-04 1.18e-06  2.75e-03     1s\n",
      "  68  -8.71214851e+01  7.54544528e+01  1.32e-04 1.18e-06  2.75e-03     1s\n",
      "  69  -8.71214037e+01  7.54541037e+01  1.28e-04 1.18e-06  2.75e-03     1s\n",
      "  70  -8.08337569e+01  6.79541789e+01  1.38e-04 1.06e-06  2.52e-03     1s\n",
      "  71  -7.72198351e+01  6.33229394e+01  1.32e-04 9.79e-07  2.38e-03     1s\n",
      "  72  -7.72234422e+01  6.33226368e+01  1.02e-04 9.79e-07  2.38e-03     1s\n",
      "  73  -7.66196089e+01  6.29023600e+01  7.92e-05 9.71e-07  2.36e-03     1s\n",
      "  74  -7.66200161e+01  6.29013710e+01  7.91e-05 9.29e-07  2.36e-03     1s\n",
      "  75  -7.66274861e+01  6.29318103e+01  1.02e-04 9.29e-07  2.36e-03     1s\n",
      "  76  -7.65261488e+01  6.27334875e+01  1.02e-04 9.25e-07  2.35e-03     1s\n",
      "  77  -7.64951157e+01  6.26693154e+01  1.02e-04 9.25e-07  2.35e-03     1s\n",
      "  78  -7.64536918e+01  6.26167442e+01  1.12e-04 9.24e-07  2.35e-03     1s\n",
      "\n",
      "Barrier performed 78 iterations in 1.21 seconds\n",
      "Barrier solve interrupted - model solved by another algorithm\n",
      "\n",
      "\n",
      "Solved with dual simplex\n",
      "Solved in 8013 iterations and 1.21 seconds\n",
      "Optimal objective  2.922280473e-12\n"
     ]
    }
   ],
   "source": [
    "yopt0 = [y.X for y in decomposer._y0]\n",
    "decomposer.update_subobj(yopt0)\n",
    "sub.Params.OutputFlag = 1\n",
    "sub.Params.NumericFocus = 1\n",
    "sub.Params.BarHomogeneous = 1\n",
    "# sub.Params.FeasibilityTol = 1e-9\n",
    "# sub.Params.OptimalityTol = 1e-9\n",
    "sub.optimize()"
   ]
  },
  {
   "cell_type": "markdown",
   "metadata": {
    "deletable": true,
    "editable": true
   },
   "source": [
    "### Solve subproblem using qMINOS to overcome numerical issues"
   ]
  },
  {
   "cell_type": "code",
   "execution_count": 70,
   "metadata": {
    "collapsed": false,
    "deletable": true,
    "editable": true
   },
   "outputs": [
    {
     "ename": "ImportError",
     "evalue": "libgfortran.so.3: cannot open shared object file: No such file or directory",
     "output_type": "error",
     "traceback": [
      "\u001b[0;31m\u001b[0m",
      "\u001b[0;31mImportError\u001b[0mTraceback (most recent call last)",
      "\u001b[0;32m<ipython-input-70-70f4048456f3>\u001b[0m in \u001b[0;36m<module>\u001b[0;34m()\u001b[0m\n\u001b[0;32m----> 1\u001b[0;31m \u001b[0;32mimport\u001b[0m \u001b[0mqminos\u001b[0m\u001b[0;34m.\u001b[0m\u001b[0mquadLP\u001b[0m\u001b[0;34m\u001b[0m\u001b[0m\n\u001b[0m",
      "\u001b[0;32m/home/laurence/python_modules/solveme.git/qminos/quadLP.py\u001b[0m in \u001b[0;36m<module>\u001b[0;34m()\u001b[0m\n\u001b[1;32m     15\u001b[0m \u001b[0;32mimport\u001b[0m \u001b[0mwarnings\u001b[0m\u001b[0;34m\u001b[0m\u001b[0m\n\u001b[1;32m     16\u001b[0m \u001b[0;34m\u001b[0m\u001b[0m\n\u001b[0;32m---> 17\u001b[0;31m \u001b[0;32mfrom\u001b[0m \u001b[0mqminos\u001b[0m \u001b[0;32mimport\u001b[0m \u001b[0mqwarmLP\u001b[0m\u001b[0;34m\u001b[0m\u001b[0m\n\u001b[0m\u001b[1;32m     18\u001b[0m \u001b[0;32mfrom\u001b[0m \u001b[0mqminos\u001b[0m \u001b[0;32mimport\u001b[0m \u001b[0mwarmLP\u001b[0m\u001b[0;34m\u001b[0m\u001b[0m\n\u001b[1;32m     19\u001b[0m \u001b[0;34m\u001b[0m\u001b[0m\n",
      "\u001b[0;31mImportError\u001b[0m: libgfortran.so.3: cannot open shared object file: No such file or directory"
     ]
    }
   ],
   "source": [
    "import qminos.quadLP"
   ]
  },
  {
   "cell_type": "code",
   "execution_count": 67,
   "metadata": {
    "collapsed": false,
    "deletable": true,
    "editable": true
   },
   "outputs": [
    {
     "name": "stdout",
     "output_type": "stream",
     "text": [
      "3.42e-11            APG3PAT181               crowding                 \n",
      "4.61e-11            CDAPPA181                crowding                 \n",
      "2.27e-11            DURIK1                   crowding                 \n",
      "6.43e-11            FACOAL161t2pp            crowding                 \n",
      "5.86e-11            FE3abcpp                 crowding                 \n",
      "4.21e-11            FTHFD                    crowding                 \n",
      "2.94e-11            HDCEAtexi                crowding                 \n",
      "6.87e-11            IPMD                     crowding                 \n",
      "3.53e-11            PRAIS                    crowding                 \n",
      "7.17e-11            SBTptspp                 crowding                 \n",
      "9.78e-11            FUCtex_abs               crowding                 \n",
      "4.29e-11            GLYAT_abs                crowding                 \n",
      "5.09e-11            THRPtex_abs              crowding                 \n",
      "7.69e-11            TKT2_abs                 crowding                 \n",
      "1.96e-11            TMAOtex_abs              crowding                 \n",
      "4.29e-11            wa_crowding              GLYAT_abs                \n",
      "3.42e-11            wa_crowding              APG3PAT181               \n",
      "3.53e-11            wa_crowding              PRAIS                    \n",
      "1.96e-11            wa_crowding              TMAOtex_abs              \n",
      "4.61e-11            wa_crowding              CDAPPA181                \n",
      "6.43e-11            wa_crowding              FACOAL161t2pp            \n",
      "5.86e-11            wa_crowding              FE3abcpp                 \n",
      "6.87e-11            wa_crowding              IPMD                     \n",
      "7.17e-11            wa_crowding              SBTptspp                 \n",
      "4.21e-11            wa_crowding              FTHFD                    \n",
      "5.09e-11            wa_crowding              THRPtex_abs              \n",
      "7.69e-11            wa_crowding              TKT2_abs                 \n",
      "2.94e-11            wa_crowding              HDCEAtexi                \n",
      "2.27e-11            wa_crowding              DURIK1                   \n",
      "9.78e-11            wa_crowding              FUCtex_abs               \n",
      "3.09e-11            z_crowding_FUCtex_ab     crowding                 \n",
      "3.09e-11            za_crowding_FUCtex_a     FUCtex_abs               \n",
      "4.98e-11            z_crowding_FCLT          crowding                 \n",
      "4.98e-11            za_crowding_FCLT         FCLT                     \n"
     ]
    }
   ],
   "source": [
    "for rxn in gap.reactions:\n",
    "    for met,s in rxn.metabolites.iteritems():\n",
    "        if abs(s)>0 and abs(s)<1e-10:\n",
    "            print '%-20.3g%-25.20s%-25.20s'% (s, rxn.id, met.id)"
   ]
  },
  {
   "cell_type": "code",
   "execution_count": 60,
   "metadata": {
    "collapsed": false,
    "deletable": true,
    "editable": true
   },
   "outputs": [
    {
     "name": "stdout",
     "output_type": "stream",
     "text": [
      "1.95717576106e-11\n"
     ]
    },
    {
     "data": {
      "text/plain": [
       "1000.0"
      ]
     },
     "execution_count": 60,
     "metadata": {},
     "output_type": "execute_result"
    }
   ],
   "source": [
    "A = decomposer._A \n",
    "print(abs(A[A!=0]).min())\n",
    "\n",
    "B = decomposer._B\n",
    "abs(B[B!=0]).min()"
   ]
  },
  {
   "cell_type": "code",
   "execution_count": 30,
   "metadata": {
    "collapsed": false,
    "deletable": true,
    "editable": true
   },
   "outputs": [],
   "source": [
    "xdict = {x0.VarName: sub.getConstrByName(x0.VarName).Pi for x0 in decomposer._x0}"
   ]
  },
  {
   "cell_type": "code",
   "execution_count": 31,
   "metadata": {
    "collapsed": false,
    "deletable": true,
    "editable": true
   },
   "outputs": [
    {
     "data": {
      "text/plain": [
       "594653.06191386702"
      ]
     },
     "execution_count": 31,
     "metadata": {},
     "output_type": "execute_result"
    }
   ],
   "source": [
    "import numpy as np\n",
    "errs = np.array([xdict[x0.VarName]-x0.X for x0 in decomposer._x0])\n",
    "sum(abs(errs))"
   ]
  },
  {
   "cell_type": "code",
   "execution_count": 32,
   "metadata": {
    "collapsed": false,
    "deletable": true,
    "editable": true
   },
   "outputs": [
    {
     "name": "stdout",
     "output_type": "stream",
     "text": [
      "cobra: 0.740682, MILP: 0.740682, Benders: 0.740778\n"
     ]
    }
   ],
   "source": [
    "mu_ind = gap.reactions.index(gap.reactions.BIOMASS_Ec_iJO1366_core_53p95M)\n",
    "print('cobra: %g, MILP: %g, Benders: %g' % (gap.reactions.BIOMASS_Ec_iJO1366_core_53p95M.x, milp.getVarByName(str(mu_ind)).X, xdict[str(mu_ind)]))"
   ]
  },
  {
   "cell_type": "code",
   "execution_count": 33,
   "metadata": {
    "collapsed": false,
    "deletable": true,
    "editable": true
   },
   "outputs": [
    {
     "name": "stdout",
     "output_type": "stream",
     "text": [
      "Changed value of parameter Presolve to 0\n",
      "   Prev: -1  Min: -1  Max: 2  Default: -1\n",
      "Changed value of parameter LazyConstraints to 1\n",
      "   Prev: 0  Min: 0  Max: 1  Default: 0\n",
      "Changed value of parameter IntFeasTol to 1e-09\n",
      "   Prev: 1e-05  Min: 1e-09  Max: 0.1  Default: 1e-05\n",
      "Parameter IntFeasTol unchanged\n",
      "   Value: 1e-09  Min: 1e-09  Max: 0.1  Default: 1e-05\n",
      "Changed value of parameter NumericFocus to 1\n",
      "   Prev: 0  Min: 0  Max: 3  Default: 0\n",
      "Parameter OutputFlag unchanged\n",
      "   Value: 1  Min: 0  Max: 1  Default: 1\n",
      "Parameter Presolve unchanged\n",
      "   Value: 0  Min: -1  Max: 2  Default: -1\n",
      "Changed value of parameter Presolve to 0\n",
      "   Prev: -1  Min: -1  Max: 2  Default: -1\n",
      "Optimize a model with 1 rows, 2019 columns and 2019 nonzeros\n",
      "Variable types: 1 continuous, 2018 integer (0 binary)\n",
      "Coefficient statistics:\n",
      "  Matrix range     [1e+00, 1e+00]\n",
      "  Objective range  [1e+00, 1e+00]\n",
      "  Bounds range     [1e+00, 1e+03]\n",
      "  RHS range        [0e+00, 0e+00]\n",
      "zmaster=0. zsub=4.0964. gap=-4.0964\n",
      "Variable types: 1 continuous, 2018 integer (2018 binary)\n",
      "zmaster=0. zsub=4.0964. gap=-4.0964\n",
      "Found heuristic solution: objective 0.0000000\n",
      "\n",
      "Root relaxation: cutoff, 0 iterations, 0.00 seconds\n",
      "\n",
      "Explored 0 nodes (0 simplex iterations) in 1.82 seconds\n",
      "Thread count was 8 (of 8 available processors)\n",
      "\n",
      "Solution count 1: 0 \n",
      "Pool objective bound 0\n",
      "\n",
      "Optimal solution found (tolerance 1.00e-04)\n",
      "Best objective 0.000000000000e+00, best bound 0.000000000000e+00, gap 0.0000%\n",
      "CPU times: user 6.35 s, sys: 214 ms, total: 6.57 s\n",
      "Wall time: 1.82 s\n"
     ]
    }
   ],
   "source": [
    "decomposer = Decomposer(milp)\n",
    "\n",
    "master,sub = decomposer.benders_decomp()\n",
    "master.Params.IntFeasTol = 1e-9\n",
    "#master.Params.FeasibilityTol = 1e-5 #milp.Params.FeasibilityTol\n",
    "#master.Params.OptimalityTol = 1e-5 #milp.Params.OptimalityTol\n",
    "master.Params.NumericFocus = 1\n",
    "#master.Params.MIPGap = 1e-6\n",
    "master.Params.OutputFlag = 1\n",
    "master.Params.Presolve = 0#-1\n",
    "master._verbosity = 1\n",
    "\n",
    "sub.Params.Presolve = 0#-1\n",
    "sub.Params.OutputFlag = 0\n",
    "sub.Params.NumericFocus = 1\n",
    "sub.Params.BarHomogeneous = 1\n",
    "#sub.Params.FeasibilityTol = 1e-5 #milp.Params.FeasibilityTol\n",
    "#sub.Params.OptimalityTol = 1e-5 #milp.Params.OptimalityTol\n",
    "sub.Params.NumericFocus = 1\n",
    "%time master.optimize(cb_benders)"
   ]
  },
  {
   "cell_type": "code",
   "execution_count": 35,
   "metadata": {
    "collapsed": false,
    "deletable": true,
    "editable": true
   },
   "outputs": [
    {
     "name": "stdout",
     "output_type": "stream",
     "text": [
      "sum(yopt): 0\n"
     ]
    }
   ],
   "source": [
    "yopt = [y.X for y in decomposer._ys]\n",
    "print('sum(yopt): %g' % sum(yopt))\n",
    "decomposer.update_subobj(yopt)\n",
    "sub.optimize()"
   ]
  },
  {
   "cell_type": "code",
   "execution_count": 36,
   "metadata": {
    "collapsed": false,
    "deletable": true,
    "editable": true
   },
   "outputs": [
    {
     "data": {
      "text/plain": [
       "0.0"
      ]
     },
     "execution_count": 36,
     "metadata": {},
     "output_type": "execute_result"
    }
   ],
   "source": [
    "master.ObjVal"
   ]
  },
  {
   "cell_type": "code",
   "execution_count": 37,
   "metadata": {
    "collapsed": false,
    "deletable": true,
    "editable": true
   },
   "outputs": [
    {
     "data": {
      "text/plain": [
       "0.0"
      ]
     },
     "execution_count": 37,
     "metadata": {},
     "output_type": "execute_result"
    }
   ],
   "source": [
    "master.getVarByName('z').X"
   ]
  },
  {
   "cell_type": "code",
   "execution_count": 38,
   "metadata": {
    "collapsed": false,
    "deletable": true,
    "editable": true
   },
   "outputs": [],
   "source": [
    "xdict = {x0.VarName: sub.getConstrByName(x0.VarName).Pi for x0 in decomposer._x0}"
   ]
  },
  {
   "cell_type": "code",
   "execution_count": 39,
   "metadata": {
    "collapsed": false,
    "deletable": true,
    "editable": true
   },
   "outputs": [
    {
     "data": {
      "text/plain": [
       "0.7447873926391331"
      ]
     },
     "execution_count": 39,
     "metadata": {},
     "output_type": "execute_result"
    }
   ],
   "source": [
    "xdict['7']"
   ]
  },
  {
   "cell_type": "code",
   "execution_count": 40,
   "metadata": {
    "collapsed": false,
    "deletable": true,
    "editable": true
   },
   "outputs": [
    {
     "data": {
      "text/plain": [
       "<gurobi.Var 7 (value 0.740681972939)>"
      ]
     },
     "execution_count": 40,
     "metadata": {},
     "output_type": "execute_result"
    }
   ],
   "source": [
    "milp.getVarByName('7')"
   ]
  },
  {
   "cell_type": "code",
   "execution_count": 41,
   "metadata": {
    "collapsed": false,
    "deletable": true,
    "editable": true
   },
   "outputs": [
    {
     "data": {
      "text/plain": [
       "0.740681972939253"
      ]
     },
     "execution_count": 41,
     "metadata": {},
     "output_type": "execute_result"
    }
   ],
   "source": [
    "sol.x_dict[gap.reactions[7].id]"
   ]
  },
  {
   "cell_type": "code",
   "execution_count": 30,
   "metadata": {
    "collapsed": false,
    "deletable": true,
    "editable": true
   },
   "outputs": [],
   "source": [
    "from gurobipy import *"
   ]
  },
  {
   "cell_type": "code",
   "execution_count": 31,
   "metadata": {
    "collapsed": false,
    "deletable": true,
    "editable": true
   },
   "outputs": [
    {
     "data": {
      "text/plain": [
       "True"
      ]
     },
     "execution_count": 31,
     "metadata": {},
     "output_type": "execute_result"
    }
   ],
   "source": [
    "master.Status == GRB.Status.OPTIMAL"
   ]
  },
  {
   "cell_type": "code",
   "execution_count": 32,
   "metadata": {
    "collapsed": false,
    "deletable": true,
    "editable": true
   },
   "outputs": [
    {
     "data": {
      "text/plain": [
       "2017.9999999656293"
      ]
     },
     "execution_count": 32,
     "metadata": {},
     "output_type": "execute_result"
    }
   ],
   "source": [
    "milp.ObjVal"
   ]
  },
  {
   "cell_type": "code",
   "execution_count": 33,
   "metadata": {
    "collapsed": false,
    "deletable": true,
    "editable": true
   },
   "outputs": [
    {
     "data": {
      "text/plain": [
       "0.0"
      ]
     },
     "execution_count": 33,
     "metadata": {},
     "output_type": "execute_result"
    }
   ],
   "source": [
    "master.ObjVal"
   ]
  },
  {
   "cell_type": "code",
   "execution_count": 34,
   "metadata": {
    "collapsed": false,
    "deletable": true,
    "editable": true
   },
   "outputs": [
    {
     "data": {
      "text/plain": [
       "3.702479850131916"
      ]
     },
     "execution_count": 34,
     "metadata": {},
     "output_type": "execute_result"
    }
   ],
   "source": [
    "sub.ObjVal"
   ]
  },
  {
   "cell_type": "code",
   "execution_count": 35,
   "metadata": {
    "collapsed": false,
    "deletable": true,
    "editable": true
   },
   "outputs": [
    {
     "data": {
      "text/plain": [
       "2"
      ]
     },
     "execution_count": 35,
     "metadata": {},
     "output_type": "execute_result"
    }
   ],
   "source": [
    "sub.Status"
   ]
  },
  {
   "cell_type": "code",
   "execution_count": 36,
   "metadata": {
    "collapsed": false,
    "deletable": true,
    "editable": true
   },
   "outputs": [
    {
     "data": {
      "text/plain": [
       "0.0"
      ]
     },
     "execution_count": 36,
     "metadata": {},
     "output_type": "execute_result"
    }
   ],
   "source": [
    "sum(yopt)"
   ]
  },
  {
   "cell_type": "code",
   "execution_count": 37,
   "metadata": {
    "collapsed": false,
    "deletable": true,
    "editable": true
   },
   "outputs": [
    {
     "data": {
      "text/plain": [
       "994828.93362923583"
      ]
     },
     "execution_count": 37,
     "metadata": {},
     "output_type": "execute_result"
    }
   ],
   "source": [
    "import numpy as np\n",
    "#errs = [xdict[x0.VarName]-x0.X for x0 in milp.getVars() ]\n",
    "errs = np.array([xdict[x0.VarName]-x0.X for x0 in decomposer._x0])\n",
    "sum(abs(errs))"
   ]
  },
  {
   "cell_type": "code",
   "execution_count": 38,
   "metadata": {
    "collapsed": false,
    "deletable": true,
    "editable": true
   },
   "outputs": [
    {
     "ename": "AttributeError",
     "evalue": "'NoneType' object has no attribute 'Pi'",
     "output_type": "error",
     "traceback": [
      "\u001b[0;31m\u001b[0m",
      "\u001b[0;31mAttributeError\u001b[0mTraceback (most recent call last)",
      "\u001b[0;32m<ipython-input-38-bd18c9edba62>\u001b[0m in \u001b[0;36m<module>\u001b[0;34m()\u001b[0m\n\u001b[1;32m      1\u001b[0m \u001b[0;32mfor\u001b[0m \u001b[0mrxn\u001b[0m \u001b[0;32min\u001b[0m \u001b[0mgap\u001b[0m\u001b[0;34m.\u001b[0m\u001b[0mreactions\u001b[0m\u001b[0;34m.\u001b[0m\u001b[0mquery\u001b[0m\u001b[0;34m(\u001b[0m\u001b[0;34m'binary_'\u001b[0m\u001b[0;34m)\u001b[0m\u001b[0;34m:\u001b[0m\u001b[0;34m\u001b[0m\u001b[0m\n\u001b[1;32m      2\u001b[0m     \u001b[0;32mif\u001b[0m \u001b[0mrxn\u001b[0m\u001b[0;34m.\u001b[0m\u001b[0mx\u001b[0m \u001b[0;34m>\u001b[0m \u001b[0;36m0.99\u001b[0m\u001b[0;34m:\u001b[0m\u001b[0;34m\u001b[0m\u001b[0m\n\u001b[0;32m----> 3\u001b[0;31m         \u001b[0mxbend\u001b[0m \u001b[0;34m=\u001b[0m \u001b[0msub\u001b[0m\u001b[0;34m.\u001b[0m\u001b[0mgetConstrByName\u001b[0m\u001b[0;34m(\u001b[0m\u001b[0mrxn\u001b[0m\u001b[0;34m.\u001b[0m\u001b[0mid\u001b[0m\u001b[0;34m)\u001b[0m\u001b[0;34m.\u001b[0m\u001b[0mPi\u001b[0m\u001b[0;34m\u001b[0m\u001b[0m\n\u001b[0m\u001b[1;32m      4\u001b[0m         \u001b[0;32mprint\u001b[0m \u001b[0mrxn\u001b[0m\u001b[0;34m,\u001b[0m \u001b[0mrxn\u001b[0m\u001b[0;34m.\u001b[0m\u001b[0mx\u001b[0m\u001b[0;34m,\u001b[0m \u001b[0mxmilp\u001b[0m\u001b[0;34m\u001b[0m\u001b[0m\n",
      "\u001b[0;31mAttributeError\u001b[0m: 'NoneType' object has no attribute 'Pi'"
     ]
    }
   ],
   "source": [
    "for rxn in gap.reactions.query('binary_'):\n",
    "    if rxn.x > 0.99:\n",
    "        xbend = sub.getConstrByName(rxn.id).Pi\n",
    "        print rxn, rxn.x, xmilp"
   ]
  },
  {
   "cell_type": "code",
   "execution_count": null,
   "metadata": {
    "collapsed": true,
    "deletable": true,
    "editable": true
   },
   "outputs": [],
   "source": []
  }
 ],
 "metadata": {
  "kernelspec": {
   "display_name": "Python 2",
   "language": "python",
   "name": "python2"
  },
  "language_info": {
   "codemirror_mode": {
    "name": "ipython",
    "version": 2
   },
   "file_extension": ".py",
   "mimetype": "text/x-python",
   "name": "python",
   "nbconvert_exporter": "python",
   "pygments_lexer": "ipython2",
   "version": "2.7.14"
  }
 },
 "nbformat": 4,
 "nbformat_minor": 2
}
