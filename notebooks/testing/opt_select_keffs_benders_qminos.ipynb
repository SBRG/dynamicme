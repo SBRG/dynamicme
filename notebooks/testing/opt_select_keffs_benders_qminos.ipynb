{
 "cells": [
  {
   "cell_type": "markdown",
   "metadata": {
    "deletable": true,
    "editable": true
   },
   "source": [
    "## Solve using Benders"
   ]
  },
  {
   "cell_type": "code",
   "execution_count": 1,
   "metadata": {
    "collapsed": false,
    "deletable": true,
    "editable": true
   },
   "outputs": [],
   "source": [
    "from gurobipy import *"
   ]
  },
  {
   "cell_type": "code",
   "execution_count": 2,
   "metadata": {
    "collapsed": false,
    "deletable": true,
    "editable": true
   },
   "outputs": [],
   "source": [
    "import qminos\n",
    "from qminos import qwarmLP"
   ]
  },
  {
   "cell_type": "code",
   "execution_count": 3,
   "metadata": {
    "collapsed": true,
    "deletable": true,
    "editable": true
   },
   "outputs": [],
   "source": [
    "import seaborn as sns\n",
    "import pandas as pd\n",
    "import matplotlib.pyplot as plt\n",
    "\n",
    "plt.rcParams['svg.fonttype'] = 'none'\n",
    "pd.set_option('display.max_colwidth', -1)\n",
    "%matplotlib inline"
   ]
  },
  {
   "cell_type": "code",
   "execution_count": 4,
   "metadata": {
    "collapsed": false,
    "deletable": true,
    "editable": true
   },
   "outputs": [],
   "source": [
    "from dynamicme.decomposition import Decomposer\n",
    "from dynamicme.callback_gurobi import cb_benders"
   ]
  },
  {
   "cell_type": "code",
   "execution_count": 5,
   "metadata": {
    "collapsed": true,
    "deletable": true,
    "editable": true
   },
   "outputs": [],
   "source": [
    "from cobra.io import load_json_model\n",
    "\n",
    "ijomc  = load_json_model('/home/laurence/ME/data/dynamicME/nominal_ijomc.json')\n",
    "ijofit = load_json_model('/home/laurence/ME/data/dynamicME/best_ijomc.json')"
   ]
  },
  {
   "cell_type": "code",
   "execution_count": 6,
   "metadata": {
    "collapsed": false,
    "deletable": true,
    "editable": true
   },
   "outputs": [
    {
     "name": "stdout",
     "output_type": "stream",
     "text": [
      "(<type 'exceptions.ImportError'>, ImportError('No module named cplex',), <traceback object at 0x7f1aa778ef80>)\n"
     ]
    }
   ],
   "source": [
    "from dynamicme.optimize import Optimizer"
   ]
  },
  {
   "cell_type": "code",
   "execution_count": 7,
   "metadata": {
    "collapsed": true,
    "deletable": true,
    "editable": true
   },
   "outputs": [],
   "source": [
    "opt = Optimizer(ijomc)"
   ]
  },
  {
   "cell_type": "code",
   "execution_count": 8,
   "metadata": {
    "collapsed": true,
    "deletable": true,
    "editable": true
   },
   "outputs": [],
   "source": [
    "gap = opt.add_duality_gap_constraint()"
   ]
  },
  {
   "cell_type": "code",
   "execution_count": 9,
   "metadata": {
    "collapsed": false,
    "deletable": true,
    "editable": true
   },
   "outputs": [],
   "source": [
    "crowding = ijomc.metabolites.crowding\n",
    "crowdingfit = ijofit.metabolites.crowding\n",
    "a12_dict = {(gap.metabolites.get_by_id(crowding.id), gap.reactions.get_by_id(rxn.id)):(\n",
    "    rxn.metabolites[crowding], \n",
    "    ijofit.reactions.get_by_id(rxn.id).metabolites[crowdingfit]) for rxn in crowding.reactions}"
   ]
  },
  {
   "cell_type": "code",
   "execution_count": 10,
   "metadata": {
    "collapsed": false,
    "deletable": true,
    "editable": true
   },
   "outputs": [
    {
     "data": {
      "text/plain": [
       "<Model duality_gap at 0x7f1aa724e910>"
      ]
     },
     "execution_count": 10,
     "metadata": {},
     "output_type": "execute_result"
    }
   ],
   "source": [
    "opt.make_disjunctive_primal_dual(gap, a12_dict)"
   ]
  },
  {
   "cell_type": "code",
   "execution_count": 11,
   "metadata": {
    "collapsed": false,
    "deletable": true,
    "editable": true
   },
   "outputs": [],
   "source": [
    "for rxn in gap.reactions:\n",
    "    rxn.objective_coefficient = 0.\n",
    "for rxn in gap.reactions.query('binary_'):\n",
    "    rxn.objective_coefficient = 1."
   ]
  },
  {
   "cell_type": "code",
   "execution_count": 12,
   "metadata": {
    "collapsed": false,
    "deletable": true,
    "editable": true
   },
   "outputs": [],
   "source": [
    "ijofit.optimize()\n",
    "MU_FIT = ijofit.reactions.BIOMASS_Ec_iJO1366_core_53p95M.x"
   ]
  },
  {
   "cell_type": "code",
   "execution_count": 13,
   "metadata": {
    "collapsed": false,
    "deletable": true,
    "editable": true
   },
   "outputs": [
    {
     "data": {
      "text/plain": [
       "0.7301837182736599"
      ]
     },
     "execution_count": 13,
     "metadata": {},
     "output_type": "execute_result"
    }
   ],
   "source": [
    "MU_FIT"
   ]
  },
  {
   "cell_type": "code",
   "execution_count": 14,
   "metadata": {
    "collapsed": true,
    "deletable": true,
    "editable": true
   },
   "outputs": [],
   "source": [
    "F_TOL = 0.05\n",
    "\n",
    "gap.reactions.BIOMASS_Ec_iJO1366_core_53p95M.upper_bound = MU_FIT*(1+F_TOL)\n",
    "gap.reactions.BIOMASS_Ec_iJO1366_core_53p95M.lower_bound = MU_FIT*(1-F_TOL)"
   ]
  },
  {
   "cell_type": "code",
   "execution_count": 15,
   "metadata": {
    "collapsed": false,
    "deletable": true,
    "editable": true
   },
   "outputs": [
    {
     "data": {
      "text/plain": [
       "<Solution 1.00 at 0x7f1aa20ef0d0>"
      ]
     },
     "execution_count": 15,
     "metadata": {},
     "output_type": "execute_result"
    }
   ],
   "source": [
    "gap.optimize(solver='gurobi', objective_sense='minimize')"
   ]
  },
  {
   "cell_type": "code",
   "execution_count": 16,
   "metadata": {
    "collapsed": false,
    "deletable": true,
    "editable": true
   },
   "outputs": [
    {
     "data": {
      "text/plain": [
       "1.0"
      ]
     },
     "execution_count": 16,
     "metadata": {},
     "output_type": "execute_result"
    }
   ],
   "source": [
    "sum([r.x for r in gap.reactions.query('binary_')])"
   ]
  },
  {
   "cell_type": "code",
   "execution_count": 17,
   "metadata": {
    "collapsed": false,
    "deletable": true,
    "editable": true
   },
   "outputs": [
    {
     "data": {
      "text/plain": [
       "2018"
      ]
     },
     "execution_count": 17,
     "metadata": {},
     "output_type": "execute_result"
    }
   ],
   "source": [
    "bvars = [r for r in gap.reactions if r.variable_kind == 'integer']\n",
    "len(bvars)"
   ]
  },
  {
   "cell_type": "code",
   "execution_count": 18,
   "metadata": {
    "collapsed": false,
    "deletable": true,
    "editable": true
   },
   "outputs": [
    {
     "data": {
      "text/plain": [
       "0.7489994207811342"
      ]
     },
     "execution_count": 18,
     "metadata": {},
     "output_type": "execute_result"
    }
   ],
   "source": [
    "gap.reactions.BIOMASS_Ec_iJO1366_core_53p95M.x"
   ]
  },
  {
   "cell_type": "code",
   "execution_count": 19,
   "metadata": {
    "collapsed": false,
    "deletable": true,
    "editable": true
   },
   "outputs": [
    {
     "name": "stdout",
     "output_type": "stream",
     "text": [
      "binary_crowding_ATPS4rpp_abs 1.0\n"
     ]
    }
   ],
   "source": [
    "for rxn in gap.reactions.query('binary_'):\n",
    "    if rxn.x > 0.99:\n",
    "        print rxn, rxn.x"
   ]
  },
  {
   "cell_type": "markdown",
   "metadata": {
    "deletable": true,
    "editable": true
   },
   "source": [
    "## Solve as MILP"
   ]
  },
  {
   "cell_type": "code",
   "execution_count": 20,
   "metadata": {
    "collapsed": true,
    "deletable": true,
    "editable": true
   },
   "outputs": [],
   "source": [
    "from cobra.solvers import gurobi_solver\n",
    "from gurobipy import *"
   ]
  },
  {
   "cell_type": "code",
   "execution_count": 21,
   "metadata": {
    "collapsed": false,
    "deletable": true,
    "editable": true
   },
   "outputs": [
    {
     "name": "stdout",
     "output_type": "stream",
     "text": [
      "CPU times: user 299 ms, sys: 14.4 ms, total: 314 ms\n",
      "Wall time: 297 ms\n"
     ]
    }
   ],
   "source": [
    "%%time\n",
    "milp = gurobi_solver.create_problem(gap)\n",
    "milp.ModelSense = GRB.MINIMIZE"
   ]
  },
  {
   "cell_type": "code",
   "execution_count": 22,
   "metadata": {
    "collapsed": false,
    "deletable": true,
    "editable": true
   },
   "outputs": [],
   "source": [
    "milp.Params.IntFeasTol = 1e-9\n",
    "milp.Params.FeasibilityTol = 1e-8\n",
    "milp.Params.OptimalityTol = 1e-8\n",
    "milp.Params.Presolve = 0\n",
    "milp.Params.NumericFocus = 1"
   ]
  },
  {
   "cell_type": "code",
   "execution_count": 23,
   "metadata": {
    "collapsed": false,
    "deletable": true,
    "editable": true
   },
   "outputs": [
    {
     "name": "stdout",
     "output_type": "stream",
     "text": [
      "Changed value of parameter OutputFlag to 1\n",
      "   Prev: 0  Min: 0  Max: 1  Default: 1\n",
      "Optimize a model with 22283 rows, 18524 columns and 79543 nonzeros\n",
      "Variable types: 16506 continuous, 2018 integer (0 binary)\n",
      "Coefficient statistics:\n",
      "  Matrix range     [2e-11, 1e+04]\n",
      "  Objective range  [1e+00, 1e+00]\n",
      "  Bounds range     [1e-02, 1e+03]\n",
      "  RHS range        [5e-03, 1e+04]\n",
      "Warning: Model contains large matrix coefficient range\n",
      "Variable types: 16387 continuous, 2137 integer (2018 binary)\n",
      "\n",
      "Root relaxation: objective 6.221914e-02, 16736 iterations, 1.74 seconds\n",
      "\n",
      "    Nodes    |    Current Node    |     Objective Bounds      |     Work\n",
      " Expl Unexpl |  Obj  Depth IntInf | Incumbent    BestBd   Gap | It/Node Time\n",
      "\n",
      "     0     0    0.06222    0    1          -    0.06222      -     -    1s\n",
      "     0     0    0.08374    0    3          -    0.08374      -     -    2s\n",
      "     0     0    0.23735    0    3          -    0.23735      -     -    2s\n",
      "     0     2    0.23735    0    3          -    0.23735      -     -    2s\n",
      "H  289    22                       1.0000000    1.00000  0.00%  20.5    4s\n",
      "\n",
      "Cutting planes:\n",
      "  MIR: 1\n",
      "\n",
      "Explored 296 nodes (22791 simplex iterations) in 4.48 seconds\n",
      "Thread count was 8 (of 8 available processors)\n",
      "\n",
      "Solution count 1: 1 \n",
      "\n",
      "Optimal solution found (tolerance 1.00e-04)\n",
      "Best objective 1.000000000000e+00, best bound 1.000000000000e+00, gap 0.0000%\n",
      "CPU times: user 11.1 s, sys: 285 ms, total: 11.4 s\n",
      "Wall time: 4.48 s\n"
     ]
    }
   ],
   "source": [
    "milp.Params.OutputFlag=1\n",
    "%time milp.optimize()"
   ]
  },
  {
   "cell_type": "code",
   "execution_count": 30,
   "metadata": {
    "collapsed": false,
    "deletable": true,
    "editable": true
   },
   "outputs": [
    {
     "data": {
      "text/plain": [
       "True"
      ]
     },
     "execution_count": 30,
     "metadata": {},
     "output_type": "execute_result"
    }
   ],
   "source": [
    "milp.Status == GRB.OPTIMAL"
   ]
  },
  {
   "cell_type": "code",
   "execution_count": 31,
   "metadata": {
    "collapsed": false,
    "deletable": true,
    "editable": true
   },
   "outputs": [
    {
     "data": {
      "text/plain": [
       "1.0"
      ]
     },
     "execution_count": 31,
     "metadata": {},
     "output_type": "execute_result"
    }
   ],
   "source": [
    "milp.ObjVal"
   ]
  },
  {
   "cell_type": "code",
   "execution_count": 29,
   "metadata": {
    "collapsed": false,
    "deletable": true,
    "editable": true
   },
   "outputs": [],
   "source": [
    "sol = gurobi_solver.format_solution(milp, gap)"
   ]
  },
  {
   "cell_type": "code",
   "execution_count": 32,
   "metadata": {
    "collapsed": false,
    "deletable": true,
    "editable": true
   },
   "outputs": [
    {
     "name": "stdout",
     "output_type": "stream",
     "text": [
      "binary_crowding_ATPS4rpp_abs 1.0 1.0\n"
     ]
    }
   ],
   "source": [
    "for rxn in gap.reactions.query('binary_'):\n",
    "    if rxn.x > 0.99:\n",
    "        xmilp = sol.x_dict[rxn.id]\n",
    "        print rxn, rxn.x, xmilp"
   ]
  },
  {
   "cell_type": "markdown",
   "metadata": {
    "deletable": true,
    "editable": true
   },
   "source": [
    "## Solve using Benders with quad/dqq subproblem"
   ]
  },
  {
   "cell_type": "code",
   "execution_count": 40,
   "metadata": {
    "collapsed": false
   },
   "outputs": [
    {
     "name": "stdout",
     "output_type": "stream",
     "text": [
      "Changed value of parameter Presolve to 0\n",
      "   Prev: -1  Min: -1  Max: 2  Default: -1\n",
      "Changed value of parameter LazyConstraints to 1\n",
      "   Prev: 0  Min: 0  Max: 1  Default: 0\n",
      "Changed value of parameter IntFeasTol to 1e-09\n",
      "   Prev: 1e-05  Min: 1e-09  Max: 0.1  Default: 1e-05\n"
     ]
    }
   ],
   "source": [
    "from dynamicme.decomposition import Decomposer\n",
    "from dynamicme.callback_gurobi import cb_benders\n",
    "\n",
    "decomposer = Decomposer(milp)\n",
    "master,sub = decomposer.benders_decomp()\n",
    "master._precision_sub = 'dqq'"
   ]
  },
  {
   "cell_type": "code",
   "execution_count": 41,
   "metadata": {
    "collapsed": false
   },
   "outputs": [
    {
     "name": "stdout",
     "output_type": "stream",
     "text": [
      "Optimize a model with 1 rows, 2019 columns and 2019 nonzeros\n",
      "Variable types: 1 continuous, 2018 integer (0 binary)\n",
      "Coefficient statistics:\n",
      "  Matrix range     [1e+00, 1e+00]\n",
      "  Objective range  [1e+00, 1e+00]\n",
      "  Bounds range     [1e+00, 1e+03]\n",
      "  RHS range        [0e+00, 0e+00]\n",
      "Getting MINOS parameters...\n",
      "Done in 487.401 seconds with status 0\n",
      "Getting MINOS parameters...\n",
      "Done in 1.8758 seconds with status 0\n",
      "Getting MINOS parameters...\n",
      "Done in 1.84436 seconds with status 0\n",
      "Variable types: 1 continuous, 2018 integer (2018 binary)\n",
      "Getting MINOS parameters...\n",
      "Done in 1.86757 seconds with status 0\n",
      "\n",
      "Root simplex log...\n",
      "\n",
      "Iteration    Objective       Primal Inf.    Dual Inf.      Time\n",
      "       0    0.0000000e+00   5.785988e-03   0.000000e+00    497s\n",
      "       2    6.2219142e-02   0.000000e+00   0.000000e+00    497s\n",
      "\n",
      "Root relaxation: objective 6.221914e-02, 2 iterations, 0.00 seconds\n",
      "\n",
      "    Nodes    |    Current Node    |     Objective Bounds      |     Work\n",
      " Expl Unexpl |  Obj  Depth IntInf | Incumbent    BestBd   Gap | It/Node Time\n",
      "\n",
      "     0     0    0.06222    0    1          -    0.06222      -     -  496s\n",
      "Getting MINOS parameters...\n",
      "Done in 102.512 seconds with status 0\n",
      "H    0     0                       1.0000000    0.06222  93.8%     -  600s\n",
      "Getting MINOS parameters...\n",
      "Done in 113.811 seconds with status 0\n",
      "     0     0    0.78737    0    1    1.00000    0.78737  21.3%     -  714s\n",
      "Getting MINOS parameters...\n",
      "Done in 32.8047 seconds with status 0\n",
      "\n",
      "Cutting planes:\n",
      "  MIR: 3\n",
      "  Lazy constraints: 1\n",
      "\n",
      "Explored 1 nodes (4 simplex iterations) in 748.69 seconds\n",
      "Thread count was 8 (of 8 available processors)\n",
      "\n",
      "Solution count 1: 1 \n",
      "\n",
      "Optimal solution found (tolerance 1.00e-04)\n",
      "Best objective 1.000000000000e+00, best bound 1.000000000000e+00, gap 0.0000%\n"
     ]
    }
   ],
   "source": [
    "master._verbosity = 1\n",
    "master.optimize(cb_benders)"
   ]
  },
  {
   "cell_type": "code",
   "execution_count": 75,
   "metadata": {
    "collapsed": false
   },
   "outputs": [
    {
     "data": {
      "text/plain": [
       "1.0"
      ]
     },
     "execution_count": 75,
     "metadata": {},
     "output_type": "execute_result"
    }
   ],
   "source": [
    "import numpy as np\n",
    "yopt = np.array([y.X for y in decomposer._ys])\n",
    "sum(yopt)"
   ]
  },
  {
   "cell_type": "code",
   "execution_count": 83,
   "metadata": {
    "collapsed": true
   },
   "outputs": [],
   "source": [
    "y_dict = {y.VarName:y.X for y in decomposer._ys}"
   ]
  },
  {
   "cell_type": "code",
   "execution_count": 78,
   "metadata": {
    "collapsed": false
   },
   "outputs": [
    {
     "name": "stdout",
     "output_type": "stream",
     "text": [
      "Getting MINOS parameters...\n",
      "Done in 25.9446 seconds with status 0\n"
     ]
    }
   ],
   "source": [
    "from qminos.quadLP import QMINOS\n",
    "### SOlve primal sub\n",
    "qsolver = QMINOS()\n",
    "sense_dict = {GRB.EQUAL:'E', GRB.LESS_EQUAL:'L', GRB.GREATER_EQUAL:'G'}\n",
    "csenses = [sense_dict[c] for c in decomposer._csenses]\n",
    "xp,statp,hsp = qsolver.solvelp(decomposer._A, decomposer._d - decomposer._B*yopt, decomposer._cx, decomposer._xl, decomposer._xu, csenses, precision='dqq')"
   ]
  },
  {
   "cell_type": "code",
   "execution_count": 81,
   "metadata": {
    "collapsed": false
   },
   "outputs": [],
   "source": [
    "x_dict = {x.VarName:xp[j] for j,x in enumerate(decomposer._x0)}"
   ]
  },
  {
   "cell_type": "code",
   "execution_count": 96,
   "metadata": {
    "collapsed": false
   },
   "outputs": [
    {
     "data": {
      "text/plain": [
       "<gurobi.Var 7 (value 0.749027199175)>"
      ]
     },
     "execution_count": 96,
     "metadata": {},
     "output_type": "execute_result"
    }
   ],
   "source": [
    "milp.getVars()[7]"
   ]
  },
  {
   "cell_type": "code",
   "execution_count": 91,
   "metadata": {
    "collapsed": false
   },
   "outputs": [
    {
     "data": {
      "text/plain": [
       "0.7490271991752928"
      ]
     },
     "execution_count": 91,
     "metadata": {},
     "output_type": "execute_result"
    }
   ],
   "source": [
    "x_dict['7']"
   ]
  },
  {
   "cell_type": "code",
   "execution_count": 32,
   "metadata": {
    "collapsed": false,
    "deletable": true,
    "editable": true
   },
   "outputs": [
    {
     "name": "stdout",
     "output_type": "stream",
     "text": [
      "binary_crowding_ATPS4rpp_abs 1.0 1.0\n"
     ]
    }
   ],
   "source": [
    "for rxn in gap.reactions.query('binary_'):\n",
    "    if rxn.x > 0.99:\n",
    "        xmilp = sol.x_dict[rxn.id]\n",
    "        ybend = y_dict[]\n",
    "        print rxn, rxn.x, xmilp"
   ]
  }
 ],
 "metadata": {
  "kernelspec": {
   "display_name": "Python 2",
   "language": "python",
   "name": "python2"
  },
  "language_info": {
   "codemirror_mode": {
    "name": "ipython",
    "version": 2
   },
   "file_extension": ".py",
   "mimetype": "text/x-python",
   "name": "python",
   "nbconvert_exporter": "python",
   "pygments_lexer": "ipython2",
   "version": "2.7.14"
  }
 },
 "nbformat": 4,
 "nbformat_minor": 2
}
