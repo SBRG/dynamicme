{
 "cells": [
  {
   "cell_type": "markdown",
   "metadata": {
    "deletable": true,
    "editable": true
   },
   "source": [
    "# Given any MILP make Benders' decomposition using provided hints"
   ]
  },
  {
   "cell_type": "markdown",
   "metadata": {
    "deletable": true,
    "editable": true
   },
   "source": [
    "## Original problem\n",
    "$$\n",
    "\\begin{align*}\n",
    "\\min_{x,y} \\quad & f'y + c'x \\\\\n",
    "\\mathrm{s.t.} \\quad & Ax + By = d \\\\\n",
    "& l \\leq x \\leq u \\\\\n",
    "& y \\in \\{0,1\\}\n",
    "\\end{align*}\n",
    "$$"
   ]
  },
  {
   "cell_type": "markdown",
   "metadata": {},
   "source": [
    "## Restricted Master Problem\n",
    "$$\n",
    "\\begin{align*}\n",
    "\\min_{y,z} \\quad & z \\\\\n",
    "\\mathrm{s.t.} \\quad & z \\geq f'y + (d-By)'w^A_{i,k} + l_k'w^l_{i,k} - u'_k w^u_{i,k}, & i \\in \\mathrm{OptimalityCuts}, \\ k=1,\\dots,K \\\\\n",
    "& (d_k-By)'w^A_{i,k} + l_k' w^l_{i,k} - u_k' w^u_{i,k} \\leq 0, & i \\in \\mathrm{FeasibilityCuts}, \\ k=1,\\dots,K\n",
    "\\end{align*}\n",
    "$$"
   ]
  },
  {
   "cell_type": "markdown",
   "metadata": {},
   "source": [
    "## Subproblem(k)\n",
    "$$\n",
    "\\begin{align*}\n",
    "\\min_{x} \\quad & f'y^* + c'x  \\\\\n",
    "\\mathrm{s.t.} \\quad & Ax = d - By^* \\\\\n",
    "& l \\leq x \\leq u\n",
    "\\end{align*}\n",
    "$$"
   ]
  },
  {
   "cell_type": "markdown",
   "metadata": {},
   "source": [
    "### Dual of subproblem(k)\n",
    "$$\n",
    "\\begin{align*}\n",
    "\\max_{w^A,w^l,w^u} \\quad & (d-By^*)' w^A + l' w^l - u' w^u \\\\\n",
    "\\mathrm{s.t.} \\quad & A' w^A + w^l - w^u = c \\\\\n",
    "& w^A \\in \\mathbb{R}^m \\\\\n",
    "& w^l,w^u \\geq 0\n",
    "\\end{align*}\n",
    "$$"
   ]
  },
  {
   "cell_type": "code",
   "execution_count": 2,
   "metadata": {
    "collapsed": true,
    "deletable": true,
    "editable": true
   },
   "outputs": [],
   "source": [
    "from gurobipy import *"
   ]
  },
  {
   "cell_type": "code",
   "execution_count": 5,
   "metadata": {
    "collapsed": false,
    "deletable": true,
    "editable": true
   },
   "outputs": [],
   "source": [
    "import pandas as pd\n",
    "import numpy as np\n",
    "\n",
    "UB = 1e3\n",
    "\n",
    "supply = [10.,30.,40.,20]\n",
    "demand = [20.,50.,30.]\n",
    "varcost = [[2.,3.,4.], [3.,2.,1.], [1.,4.,3.], [4.,5.,2.]]\n",
    "fixedcost = [[10.,30.,20.], [10.,30.,20.], [10.,30.,20.], [10.,30.,20.]]\n",
    "ns = len(supply)\n",
    "nd = len(demand)\n",
    "\n",
    "xup = {(i,j):min(supply[i], demand[j]) for i in range(ns) for j in range(nd)}"
   ]
  },
  {
   "cell_type": "code",
   "execution_count": 1,
   "metadata": {
    "collapsed": true
   },
   "outputs": [],
   "source": [
    "def decompose(primal):\n",
    "    \"\"\"\n",
    "    Decompose\n",
    "    \"\"\"\n",
    "    ### Split x and y (cont and binary vars)\n",
    "    ### Retri"
   ]
  },
  {
   "cell_type": "markdown",
   "metadata": {},
   "source": [
    "## Original problem"
   ]
  },
  {
   "cell_type": "code",
   "execution_count": 280,
   "metadata": {
    "collapsed": true,
    "deletable": true,
    "editable": true
   },
   "outputs": [],
   "source": [
    "milp = Model('milp')\n",
    "x0 = {(i,j):milp.addVar(0, UB, 0., GRB.CONTINUOUS, 'x[%d,%d]' % (i,j)) for i in range(ns) for j in range(nd)}\n",
    "y0 = {(i,j):milp.addVar(0, 1, 0., GRB.BINARY, 'y[%d,%d]'%(i,j)) for i in range(ns) for j in range(nd)}\n",
    "milp.update()\n",
    "cons_supply = [milp.addConstr( sum([x0[(i,j)] for j in range(nd)]) <= supply[i])  for i in range(ns)]\n",
    "cons_demand = [milp.addConstr( sum([x0[(i,j)] for i in range(ns)]) >= demand[j]) for j in range(nd)]\n",
    "cons_bigM   = [milp.addConstr(  x0[(i,j)] <= xup[(i,j)]*y0[(i,j)]) for i in range(ns) for j in range(nd)]\n",
    "f = fixedcost\n",
    "c = varcost\n",
    "milp.setObjective(sum([f[i][j]*y0[(i,j)] + c[i][j]*x0[(i,j)] for i in range(ns) for j in range(nd)]),\n",
    "                  GRB.MINIMIZE)"
   ]
  },
  {
   "cell_type": "code",
   "execution_count": 281,
   "metadata": {
    "collapsed": false,
    "deletable": true,
    "editable": true
   },
   "outputs": [],
   "source": [
    "milp.Params.OutputFlag = 0\n",
    "milp.optimize()"
   ]
  },
  {
   "cell_type": "markdown",
   "metadata": {},
   "source": [
    "## Split original into RMP and Sub"
   ]
  },
  {
   "cell_type": "markdown",
   "metadata": {
    "deletable": true,
    "editable": true
   },
   "source": [
    "### Restricted Master Problem\n",
    "$$\n",
    "\\begin{align*}\n",
    "\\min_{y,z} \\quad & z \\\\\n",
    "\\mathrm{s.t.} \\quad & z \\geq f'y + (d-By)'w^A_{i,k} + l_k'w^l_{i,k} - u'_k w^u_{i,k}, & i \\in \\mathrm{OptimalityCuts}, \\ k=1,\\dots,K \\\\\n",
    "& (d_k-By)'w^A_{i,k} + l_k' w^l_{i,k} - u_k' w^u_{i,k} \\leq 0, & i \\in \\mathrm{FeasibilityCuts}, \\ k=1,\\dots,K\n",
    "\\end{align*}\n",
    "$$"
   ]
  },
  {
   "cell_type": "markdown",
   "metadata": {
    "deletable": true,
    "editable": true
   },
   "source": [
    "### Original problem\n",
    "$$\n",
    "\\begin{align*}\n",
    "\\min_{x,y} \\quad & f'y + c'x \\\\\n",
    "\\mathrm{s.t.} \\quad & Ax + By = d \\\\\n",
    "& l \\leq x \\leq u \\\\\n",
    "& y \\in \\{0,1\\}\n",
    "\\end{align*}\n",
    "$$"
   ]
  },
  {
   "cell_type": "code",
   "execution_count": 355,
   "metadata": {
    "collapsed": true
   },
   "outputs": [],
   "source": [
    "from scipy.sparse import coo_matrix\n",
    "\n",
    "def get_expr_coos(expr, var_inds):\n",
    "    for i in range(expr.size()):\n",
    "        dvar = expr.getVar(i)\n",
    "        yield expr.getCoeff(i), var_inds[dvar]\n",
    "\n",
    "def get_matrix_coo(m, dvars=None):\n",
    "    \"\"\"\n",
    "    Return coeff matrix re-indexed for dvars if provided, else for all variables\n",
    "    \"\"\"\n",
    "    constrs = m.getConstrs()    \n",
    "    all_vars = m.getVars()\n",
    "    if dvars is None:\n",
    "        dvars = m.getVars()    \n",
    "    var_inds = {v:i for i,v in enumerate(all_vars) if v in dvars}\n",
    "            \n",
    "    data = []\n",
    "    row_inds = []\n",
    "    col_inds = []\n",
    "    \n",
    "    for row_idx, constr in enumerate(constrs):\n",
    "        for coeff, col_idx in get_expr_coos(m.getRow(constr), var_inds):\n",
    "            data.append(coeff)\n",
    "            row_inds.append(row_idx)            \n",
    "            #col_inds.append(col_idx)\n",
    "            col_inds.append(dvars.index(all_vars[col_idx]))\n",
    "    M = len(constrs)\n",
    "    #N = len(all_vars)\n",
    "    n = len(dvars)\n",
    "    #A = coo_matrix((data, (row_inds, col_inds)), (M,N)).tocsr()\n",
    "    A = coo_matrix((data, (row_inds, col_inds)), (M,n)).tocsr()\n",
    "    return A #, var_inds"
   ]
  },
  {
   "cell_type": "code",
   "execution_count": 361,
   "metadata": {
    "collapsed": false
   },
   "outputs": [],
   "source": [
    "### Subproblem\n",
    "class Decomposer(object):\n",
    "    def __init__(self, milp):\n",
    "        self.milp = milp\n",
    "        self._INF = 1e6\n",
    "        self._master = None\n",
    "        self._sub = None        \n",
    "        self._d = None\n",
    "        self._B = None\n",
    "        self._xs = None\n",
    "        self._ys = None\n",
    "#         self._yinds = None\n",
    "        self._wa = None\n",
    "        self._wl = None\n",
    "        self._wu = None\n",
    "        self._xl = None\n",
    "        self._xu = None\n",
    "        self._c  = None\n",
    "        self._f  = None\n",
    "        \n",
    "    def benders_decomp(self):\n",
    "        \"\"\"\n",
    "        TODO: for multiple subproblems.\n",
    "        \"\"\"\n",
    "        master = self.make_master()\n",
    "        sub = self.make_sub()\n",
    "        self._master = master\n",
    "        self._sub = sub\n",
    "        \n",
    "        return master, sub\n",
    "        \n",
    "    def make_master(self):\n",
    "        LB = -self._INF\n",
    "        UB = self._INF\n",
    "        \n",
    "        milp = self.milp\n",
    "        ys0 = [x for x in milp.getVars() if x.VType=='B' or x.VType=='I']\n",
    "#         B, yinds = get_matrix_coo(milp, dvars=ys0)\n",
    "        B = get_matrix_coo(milp, dvars=ys0)\n",
    "        f = [yj.Obj for yj in ys0]\n",
    "        ny = len(ys0)\n",
    "        \n",
    "        master = Model('master')\n",
    "        z = master.addVar(LB, UB, 0., GRB.CONTINUOUS, 'z')\n",
    "        ys = [master.addVar(y.LB, y.UB, y.Obj, y.VType, y.VarName) for y in ys0]\n",
    "        master.addConstr(z >= sum([f[j]*ys[j] for j in range(ny)]))\n",
    "        master.setObjective(z, GRB.MINIMIZE)\n",
    "        \n",
    "        self._B = B\n",
    "#         self._yinds = yinds\n",
    "        self._z = z\n",
    "        self._ys = ys\n",
    "        self._f = f\n",
    "        \n",
    "        return master\n",
    "        \n",
    "    def make_sub(self, yopt=None):\n",
    "        \"\"\"\n",
    "        Constraint doesn't change.\n",
    "        Objective changes with RMP solution, so yopt is optional when initiating.\n",
    "        \"\"\"\n",
    "        milp = self.milp\n",
    "        xs0 = [x for x in milp.getVars() if x.VType=='C']        \n",
    "        d = [r.rhs for r in milp.getConstrs()]\n",
    "        #A,xinds = get_matrix_coo(milp, dvars=xs0)\n",
    "        A = get_matrix_coo(milp, dvars=xs0)\n",
    "        \n",
    "        m = len(d)\n",
    "        n = len(xs0)\n",
    "        nx = n\n",
    "        sub = Model('sub')\n",
    "        wa = [sub.addVar(LB, UB, 0., GRB.CONTINUOUS, 'wa[%d]'%i) for i in range(m)]\n",
    "        wl = [sub.addVar(0., UB, 0., GRB.CONTINUOUS, 'wl[%d]'%i) for i in range(n)]\n",
    "        wu = [sub.addVar(0., UB, 0., GRB.CONTINUOUS, 'wu[%d]'%i) for i in range(n)]\n",
    "        xl = [x.LB for x in xs]\n",
    "        xu = [x.UB for x in xs]\n",
    "        c  = [x.Obj for x in xs]\n",
    "        \n",
    "        self._d = d\n",
    "        self._A = A\n",
    "        self._xs = xs\n",
    "        self._xl = xl\n",
    "        self._xu = xu\n",
    "        self._c  = c\n",
    "        self._wa = wa\n",
    "        self._wl = wl\n",
    "        self._wu = wu        \n",
    "        # This dual constraint never changes\n",
    "        dual_cons = [sub.addConstr(sum([A[i,j]*wa[i] for i in range(m)]) \\\n",
    "                                   + wl[j] - wu[j] == c[j]) for j in range(nx)]\n",
    "        \n",
    "        if yopt is not None:\n",
    "            #sub.setObjective(sum([d[i]-sum([B[i,yinds[yopt[j]]]*yopt[j] for j in range(ny)])*wa[i] for i in range(m)]) +\n",
    "            sub.setObjective(sum([d[i]-sum([B[i,j]*yopt[j] for j in range(ny)])*wa[i] for i in range(m)]) +\n",
    "                             sum([xl[j]*wl[j] for j in range(n)]) -\n",
    "                             sum([xu[j]*wu[j] for j in range(n)]), GRB.MAXIMIZE)\n",
    "        \n",
    "        return sub\n",
    "\n",
    "    def update_subobj(self, yopt):\n",
    "        sub = self._sub\n",
    "        if sub is None:\n",
    "            sub = self.make_sub(yopt)\n",
    "        \n",
    "        d = self._d\n",
    "        B = self._B\n",
    "#         yinds = self._yinds\n",
    "        wa = self._wa\n",
    "        wl = self._wl\n",
    "        wu = self._wu\n",
    "        xl = self._xl\n",
    "        xu = self._xu        \n",
    "        #sub.setObjective(sum([d[i]-sum([B[i,yinds[yopt[j]]]*yopt[j] for j in range(ny)])*wa[i] for i in range(m)]) +\n",
    "        sub.setObjective(sum([d[i]-sum([B[i,j]*yopt[j] for j in range(ny)])*wa[i] for i in range(m)]) +\n",
    "                         sum([xl[j]*wl[j] for j in range(n)]) -\n",
    "                         sum([xu[j]*wu[j] for j in range(n)]), GRB.MAXIMIZE)\n",
    "\n",
    "    def make_optcut(self):        \n",
    "        z = self._z\n",
    "        f = self._f\n",
    "        ys = self._ys\n",
    "        d = self._d\n",
    "        B = self._B\n",
    "        xl = self._xl\n",
    "        xu = self._xu        \n",
    "        m = len(d)\n",
    "        n = len(xl)\n",
    "        \n",
    "        wa = [w.X for w in self._wa]\n",
    "        wl = [w.X for w in self._wl]\n",
    "        wu = [w.X for w in self._wu]\n",
    "        \n",
    "        #sum([d[i]-sum([B[i,yinds[ys[j]]]*ys[j] for j in range(ny)])*wa[i] for i in range(m)]) + \\\n",
    "        \n",
    "        cut = z >= sum([fj*yj for fj,yj in zip(f,ys)]) + \\\n",
    "            sum([d[i]-sum([B[i,j]*ys[j] for j in range(ny)])*wa[i] for i in range(m)]) + \\\n",
    "            sum([xl[j]*wl[j] for j in range(n)]) - \\\n",
    "            sum([xu[j]*wu[j] for j in range(n)])\n",
    "\n",
    "        return cut\n",
    "\n",
    "    def make_feascut(self):\n",
    "        \"\"\"\n",
    "        THIS MAY NOT WORK if dvar.X doesn't work for infeas problems.\n",
    "        Instead, may need FarkasDuals for primal sub problem\n",
    "        \"\"\"\n",
    "        # Get unbounded ray\n",
    "        wa = [w.X for w in self._wa]\n",
    "        wl = [w.X for w in self._wl]\n",
    "        wu = [w.X for w in self._wu]\n",
    "\n",
    "        ys = self._ys\n",
    "        d = self._d\n",
    "        B = self._B\n",
    "        xl = self._xl\n",
    "        xu = self._xu\n",
    "        wa = self._wa\n",
    "        wl = self._wl\n",
    "        wu = self._wu\n",
    "        m = len(d)\n",
    "        n = len(xl)\n",
    "\n",
    "        #cut = sum([d[i]-sum([B[i,yinds[ys[j]]]*ys[j] for j in range(ny)])*wa[i] for i in range(m)]) + \\\n",
    "        cut = sum([d[i]-sum([B[i,j]*ys[j] for j in range(ny)])*wa[i] for i in range(m)]) + \\\n",
    "                             sum([xl[j]*wl[j] for j in range(n)]) - \\\n",
    "                             sum([xu[j]*wu[j] for j in range(n)]) <= 0\n",
    "\n",
    "        return cut\n",
    "    \n",
    "    def calc_sub_objval(self, yopt):\n",
    "        sub = self._sub\n",
    "        f = self._f\n",
    "        objval = sub.ObjVal + sum([fj*yj for fj,yj in zip(f,yopt)])\n",
    "        \n",
    "        return objval\n",
    "    \n",
    "    def get_sub(self):\n",
    "        if self._sub is None:\n",
    "            self._sub = self.make_sub()\n",
    "\n",
    "        return self._sub\n",
    "\n",
    "    def get_master(self):\n",
    "        if self._master is None:\n",
    "            self._master = self.make_master()\n",
    "            \n",
    "        return self._master"
   ]
  },
  {
   "cell_type": "code",
   "execution_count": 362,
   "metadata": {
    "collapsed": true
   },
   "outputs": [],
   "source": [
    "###==================================================###\n",
    "### SOLVER-SPECIFIC CALLBACK\n",
    "### Feas and Opt cuts implemented as lazy constraints\n",
    "###==================================================###\n",
    "def benders(model, where):\n",
    "    GAPTOL = 1e-6\n",
    "    \n",
    "    if where in (GRB.Callback.MIPSOL, GRB.Callback.MIPNODE):\n",
    "        ### Lazy constraints only allowed for MIPNODE or MIPSOL\n",
    "        ys = decomposer._ys\n",
    "        z  = decomposer._z        \n",
    "        if where==GRB.Callback.MIPSOL:\n",
    "            yopt = [model.cbGetSolution(y) for y in ys]\n",
    "            zmaster = model.cbGetSolution(z)\n",
    "        elif where==GRB.Callback.MIPNODE:        \n",
    "            yopt = [model.cbGetNodeRel(y) for y in ys]\n",
    "            zmaster = model.cbGetNodeRel(z)\n",
    "        #************\n",
    "        print('#'*40)\n",
    "        print('Updating subproblem objective')\n",
    "        print('#'*40)\n",
    "        #************\n",
    "        decomposer.update_subobj(yopt)        \n",
    "        sub = decomposer.get_sub()        \n",
    "        sub.optimize()\n",
    "        \n",
    "        if sub.Status == GRB.Status.UNBOUNDED:\n",
    "            print('#'*40)\n",
    "            print('Adding feasibility cut')\n",
    "            print('#'*40)\n",
    "            # Add feasibility cut, ensuring that cut indeed eliminates current incumbent\n",
    "            feascut = decomposer.make_feascut(yopt, zmaster)\n",
    "            model.cbLazy(feascut)            \n",
    "        else:\n",
    "            print('#'*40)\n",
    "            print('Adding optimality cut')\n",
    "            print('#'*40)\n",
    "            ### Otherwise add Optimality cut                        \n",
    "            try:                \n",
    "                zsub = decomposer.calc_sub_objval(yopt)\n",
    "                #sub.ObjVal + sum([fj*yj for fj,yj in zip(f,yopt)])\n",
    "            except:\n",
    "                zsub = -1e6\n",
    "            gap = zmaster - zsub\n",
    "            print('*'*40)    \n",
    "            print('zSub: %g' % zsub)\n",
    "            print('zMaster: %g' % zmaster)                        \n",
    "            print('Gap: %g' % gap)\n",
    "            print('*'*40)\n",
    "            # Check for termination\n",
    "            if abs(gap) > GAPTOL:\n",
    "                # Need to add optimality cut since master overestimated (for maximization) actual obj\n",
    "                optcut = decomposer.make_optcut()\n",
    "                model.cbLazy(optcut)                \n",
    "            else:\n",
    "                # Accept as new incumbent\n",
    "                pass"
   ]
  },
  {
   "cell_type": "code",
   "execution_count": 363,
   "metadata": {
    "collapsed": true,
    "deletable": true,
    "editable": true
   },
   "outputs": [],
   "source": [
    "decomposer = Decomposer(milp)"
   ]
  },
  {
   "cell_type": "code",
   "execution_count": 364,
   "metadata": {
    "collapsed": false
   },
   "outputs": [
    {
     "name": "stdout",
     "output_type": "stream",
     "text": [
      "Changed value of parameter LazyConstraints to 1\n",
      "   Prev: 0  Min: 0  Max: 1  Default: 0\n",
      "########################################\n",
      "Updating subproblem objective\n",
      "########################################\n",
      "Optimize a model with 12 rows, 43 columns and 43 nonzeros\n",
      "Coefficient statistics:\n",
      "  Matrix range     [1e+00, 4e+01]\n",
      "  Objective range  [1e+03, 1e+03]\n",
      "  Bounds range     [1e+06, 1e+06]\n",
      "  RHS range        [1e+00, 5e+00]\n",
      "Presolve removed 12 rows and 43 columns\n",
      "Presolve time: 0.00s\n",
      "Presolve: All rows and columns removed\n",
      "Iteration    Objective       Primal Inf.    Dual Inf.      Time\n",
      "       0    2.0000000e+02   0.000000e+00   0.000000e+00      0s\n",
      "\n",
      "Solved in 0 iterations and 0.00 seconds\n",
      "Optimal objective  2.000000000e+02\n",
      "########################################\n",
      "Adding optimality cut\n",
      "########################################\n",
      "****************************************\n",
      "zSub: 200\n",
      "zMaster: 0\n",
      "Gap: -200\n",
      "****************************************\n",
      "########################################\n",
      "Updating subproblem objective\n",
      "########################################\n",
      "Optimize a model with 12 rows, 43 columns and 43 nonzeros\n",
      "Coefficient statistics:\n",
      "  Matrix range     [1e+00, 4e+01]\n",
      "  Objective range  [1e+03, 1e+03]\n",
      "  Bounds range     [1e+06, 1e+06]\n",
      "  RHS range        [1e+00, 5e+00]\n",
      "Iteration    Objective       Primal Inf.    Dual Inf.      Time\n",
      "       0    2.0000000e+02   0.000000e+00   0.000000e+00      0s\n",
      "\n",
      "Solved in 0 iterations and 0.00 seconds\n",
      "Optimal objective  2.000000000e+02\n",
      "########################################\n",
      "Adding optimality cut\n",
      "########################################\n",
      "****************************************\n",
      "zSub: 200\n",
      "zMaster: 0\n",
      "Gap: -200\n",
      "****************************************\n",
      "########################################\n",
      "Updating subproblem objective\n",
      "########################################\n",
      "Optimize a model with 12 rows, 43 columns and 43 nonzeros\n",
      "Coefficient statistics:\n",
      "  Matrix range     [1e+00, 4e+01]\n",
      "  Objective range  [1e+03, 1e+03]\n",
      "  Bounds range     [1e+06, 1e+06]\n",
      "  RHS range        [1e+00, 5e+00]\n",
      "Iteration    Objective       Primal Inf.    Dual Inf.      Time\n",
      "       0    2.0000000e+02   0.000000e+00   0.000000e+00      0s\n",
      "\n",
      "Solved in 0 iterations and 0.00 seconds\n",
      "Optimal objective  2.000000000e+02\n",
      "########################################\n",
      "Adding optimality cut\n",
      "########################################\n",
      "****************************************\n",
      "zSub: 200\n",
      "zMaster: 200\n",
      "Gap: 1.16415e-10\n",
      "****************************************\n"
     ]
    }
   ],
   "source": [
    "master,sub = decomposer.benders_decomp()\n",
    "master.Params.LazyConstraints = 1\n",
    "master.Params.OutputFlag=0\n",
    "master.optimize(benders)"
   ]
  },
  {
   "cell_type": "code",
   "execution_count": 365,
   "metadata": {
    "collapsed": false
   },
   "outputs": [
    {
     "data": {
      "text/plain": [
       "<gurobi.Model MIP instance master: 1 constrs, 13 vars, Parameter changes: LogFile=gurobi.log, LazyConstraints=1, OutputFlag=0>"
      ]
     },
     "execution_count": 365,
     "metadata": {},
     "output_type": "execute_result"
    }
   ],
   "source": [
    "master"
   ]
  },
  {
   "cell_type": "code",
   "execution_count": 366,
   "metadata": {
    "collapsed": false
   },
   "outputs": [
    {
     "data": {
      "text/plain": [
       "<gurobi.Model MIP instance milp: 19 constrs, 24 vars, Parameter changes: LogFile=gurobi.log, OutputFlag=0>"
      ]
     },
     "execution_count": 366,
     "metadata": {},
     "output_type": "execute_result"
    }
   ],
   "source": [
    "milp"
   ]
  },
  {
   "cell_type": "code",
   "execution_count": 367,
   "metadata": {
    "collapsed": false
   },
   "outputs": [
    {
     "data": {
      "text/plain": [
       "200.00000000011642"
      ]
     },
     "execution_count": 367,
     "metadata": {},
     "output_type": "execute_result"
    }
   ],
   "source": [
    "master.ObjVal"
   ]
  },
  {
   "cell_type": "code",
   "execution_count": 368,
   "metadata": {
    "collapsed": false
   },
   "outputs": [
    {
     "data": {
      "text/plain": [
       "350.0"
      ]
     },
     "execution_count": 368,
     "metadata": {},
     "output_type": "execute_result"
    }
   ],
   "source": [
    "milp.ObjVal"
   ]
  },
  {
   "cell_type": "code",
   "execution_count": 370,
   "metadata": {
    "collapsed": true
   },
   "outputs": [],
   "source": [
    "B = get_matrix_coo(milp, ys0)"
   ]
  },
  {
   "cell_type": "code",
   "execution_count": 371,
   "metadata": {
    "collapsed": false
   },
   "outputs": [
    {
     "data": {
      "text/plain": [
       "<19x12 sparse matrix of type '<type 'numpy.float64'>'\n",
       "\twith 19 stored elements in Compressed Sparse Row format>"
      ]
     },
     "execution_count": 371,
     "metadata": {},
     "output_type": "execute_result"
    }
   ],
   "source": [
    "B"
   ]
  },
  {
   "cell_type": "markdown",
   "metadata": {
    "deletable": true,
    "editable": true
   },
   "source": [
    "### Restricted Master Problem\n",
    "$$\n",
    "\\begin{align*}\n",
    "\\min_{y,z} \\quad & z \\\\\n",
    "\\mathrm{s.t.} \\quad & z \\geq f'y + (d-By)'w^A_{i,k} + l_k'w^l_{i,k} - u'_k w^u_{i,k}, & i \\in \\mathrm{OptimalityCuts}, \\ k=1,\\dots,K \\\\\n",
    "& (d_k-By)'w^A_{i,k} + l_k' w^l_{i,k} - u_k' w^u_{i,k} \\leq 0, & i \\in \\mathrm{FeasibilityCuts}, \\ k=1,\\dots,K\n",
    "\\end{align*}\n",
    "$$"
   ]
  },
  {
   "cell_type": "markdown",
   "metadata": {
    "deletable": true,
    "editable": true
   },
   "source": [
    "### Dual of subproblem(k)\n",
    "$$\n",
    "\\begin{align*}\n",
    "\\max_{w^A,w^l,w^u} \\quad & (d-By^*)' w^A + l' w^l - u' w^u \\\\\n",
    "\\mathrm{s.t.} \\quad & A' w^A + w^l - w^u = c \\\\\n",
    "& w^A \\in \\mathbb{R}^m \\\\\n",
    "& w^l,w^u \\geq 0\n",
    "\\end{align*}\n",
    "$$"
   ]
  }
 ],
 "metadata": {
  "kernelspec": {
   "display_name": "Python 2",
   "language": "python",
   "name": "python2"
  },
  "language_info": {
   "codemirror_mode": {
    "name": "ipython",
    "version": 2
   },
   "file_extension": ".py",
   "mimetype": "text/x-python",
   "name": "python",
   "nbconvert_exporter": "python",
   "pygments_lexer": "ipython2",
   "version": "2.7.14"
  }
 },
 "nbformat": 4,
 "nbformat_minor": 2
}
