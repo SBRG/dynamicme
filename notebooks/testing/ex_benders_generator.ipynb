{
 "cells": [
  {
   "cell_type": "markdown",
   "metadata": {
    "deletable": true,
    "editable": true
   },
   "source": [
    "# Given any MILP make Benders' decomposition using provided hints"
   ]
  },
  {
   "cell_type": "markdown",
   "metadata": {
    "deletable": true,
    "editable": true
   },
   "source": [
    "## Original problem\n",
    "$$\n",
    "\\begin{align*}\n",
    "\\min_{x,y} \\quad & f'y + c'x \\\\\n",
    "\\mathrm{s.t.} \\quad & Ax + By [<=>] d \\\\\n",
    "& l \\leq x \\leq u \\\\\n",
    "& y \\in \\{0,1\\}\n",
    "\\end{align*}\n",
    "$$"
   ]
  },
  {
   "cell_type": "markdown",
   "metadata": {
    "deletable": true,
    "editable": true
   },
   "source": [
    "## Restricted Master Problem\n",
    "$$\n",
    "\\begin{align*}\n",
    "\\min_{y,z} \\quad & z \\\\\n",
    "\\mathrm{s.t.} \\quad & z \\geq f'y + (d-By)'w^A_{i,k} + l_k'w^l_{i,k} - u'_k w^u_{i,k}, & i \\in \\mathrm{OptimalityCuts}, \\ k=1,\\dots,K \\\\\n",
    "& (d_k-By)'w^A_{i,k} + l_k' w^l_{i,k} - u_k' w^u_{i,k} \\leq 0, & i \\in \\mathrm{FeasibilityCuts}, \\ k=1,\\dots,K\n",
    "\\end{align*}\n",
    "$$"
   ]
  },
  {
   "cell_type": "markdown",
   "metadata": {
    "deletable": true,
    "editable": true
   },
   "source": [
    "## Subproblem(k)\n",
    "$$\n",
    "\\begin{align*}\n",
    "\\min_{x} \\quad & f'y^* + c'x  \\\\\n",
    "\\mathrm{s.t.} \\quad & Ax [<=>] d - By^* \\\\\n",
    "& l \\leq x \\leq u\n",
    "\\end{align*}\n",
    "$$"
   ]
  },
  {
   "cell_type": "markdown",
   "metadata": {
    "deletable": true,
    "editable": true
   },
   "source": [
    "### Dual of subproblem(k)\n",
    "$$\n",
    "\\begin{align*}\n",
    "\\max_{w^A,w^l,w^u} \\quad & (d-By^*)' w^A + l' w^l - u' w^u \\\\\n",
    "\\mathrm{s.t.} \\quad & A' w^A + w^l - w^u = c \\\\\n",
    "& w^A_i \\in \\mathbb{R}^m, \\quad \\forall i \\in \\{i:A_i x = d_i - B_i y^* \\} \\\\\n",
    "& w^A_i \\geq 0 , \\quad \\forall i \\in \\{i:A_i x \\geq d_i - B_i y^* \\} \\\\\n",
    "& w^A_i \\leq 0, \\quad \\forall i \\in \\{i:A_i x \\leq d_i - B_i y^* \\} \\\\\n",
    "& w^l,w^u \\geq 0\n",
    "\\end{align*}\n",
    "$$"
   ]
  },
  {
   "cell_type": "code",
   "execution_count": 1,
   "metadata": {
    "collapsed": true,
    "deletable": true,
    "editable": true
   },
   "outputs": [],
   "source": [
    "from gurobipy import *\n",
    "import pandas as pd\n",
    "import numpy as np\n",
    "\n",
    "UB = 1e3\n",
    "\n",
    "supply = [10.,30.,40.,20]\n",
    "demand = [20.,50.,30.]\n",
    "varcost = [[2.,3.,4.], [3.,2.,1.], [1.,4.,3.], [4.,5.,2.]]\n",
    "fixedcost = [[10.,30.,20.], [10.,30.,20.], [10.,30.,20.], [10.,30.,20.]]\n",
    "ns = len(supply)\n",
    "nd = len(demand)\n",
    "\n",
    "xup = {(i,j):min(supply[i], demand[j]) for i in range(ns) for j in range(nd)}"
   ]
  },
  {
   "cell_type": "markdown",
   "metadata": {
    "deletable": true,
    "editable": true
   },
   "source": [
    "## Original problem"
   ]
  },
  {
   "cell_type": "code",
   "execution_count": 2,
   "metadata": {
    "collapsed": true,
    "deletable": true,
    "editable": true
   },
   "outputs": [],
   "source": [
    "milp = Model('milp')\n",
    "x0 = {(i,j):milp.addVar(0, UB, 0., GRB.CONTINUOUS, 'x[%d,%d]' % (i,j)) for i in range(ns) for j in range(nd)}\n",
    "y0 = {(i,j):milp.addVar(0, 1, 0., GRB.BINARY, 'y[%d,%d]'%(i,j)) for i in range(ns) for j in range(nd)}\n",
    "milp.update()\n",
    "cons_supply = [milp.addConstr( sum([x0[(i,j)] for j in range(nd)]) <= supply[i])  for i in range(ns)]\n",
    "cons_demand = [milp.addConstr( sum([x0[(i,j)] for i in range(ns)]) >= demand[j]) for j in range(nd)]\n",
    "cons_bigM   = [milp.addConstr(  x0[(i,j)] <= xup[(i,j)]*y0[(i,j)]) for i in range(ns) for j in range(nd)]\n",
    "f = fixedcost\n",
    "c = varcost\n",
    "milp.setObjective(sum([f[i][j]*y0[(i,j)] + c[i][j]*x0[(i,j)] for i in range(ns) for j in range(nd)]),\n",
    "                  GRB.MINIMIZE)"
   ]
  },
  {
   "cell_type": "code",
   "execution_count": 3,
   "metadata": {
    "collapsed": false,
    "deletable": true,
    "editable": true
   },
   "outputs": [],
   "source": [
    "milp.Params.OutputFlag = 0\n",
    "milp.optimize()"
   ]
  },
  {
   "cell_type": "markdown",
   "metadata": {
    "deletable": true,
    "editable": true
   },
   "source": [
    "## Split original into RMP and Sub"
   ]
  },
  {
   "cell_type": "markdown",
   "metadata": {
    "deletable": true,
    "editable": true
   },
   "source": [
    "### Restricted Master Problem\n",
    "$$\n",
    "\\begin{align*}\n",
    "\\min_{y,z} \\quad & z \\\\\n",
    "\\mathrm{s.t.} \\quad & z \\geq f'y + (d-By)'w^A_{i,k} + l_k'w^l_{i,k} - u'_k w^u_{i,k}, & i \\in \\mathrm{OptimalityCuts}, \\ k=1,\\dots,K \\\\\n",
    "& (d_k-By)'w^A_{i,k} + l_k' w^l_{i,k} - u_k' w^u_{i,k} \\leq 0, & i \\in \\mathrm{FeasibilityCuts}, \\ k=1,\\dots,K\n",
    "\\end{align*}\n",
    "$$"
   ]
  },
  {
   "cell_type": "markdown",
   "metadata": {
    "deletable": true,
    "editable": true
   },
   "source": [
    "### Original problem\n",
    "$$\n",
    "\\begin{align*}\n",
    "\\min_{x,y} \\quad & f'y + c'x \\\\\n",
    "\\mathrm{s.t.} \\quad & Ax + By = d \\\\\n",
    "& l \\leq x \\leq u \\\\\n",
    "& y \\in \\{0,1\\}\n",
    "\\end{align*}\n",
    "$$"
   ]
  },
  {
   "cell_type": "code",
   "execution_count": 4,
   "metadata": {
    "collapsed": false,
    "deletable": true,
    "editable": true
   },
   "outputs": [],
   "source": [
    "from scipy.sparse import coo_matrix\n",
    "from builtins import range\n",
    "\n",
    "def split_constraints(model):\n",
    "    \"\"\"\n",
    "    Splits constraints into continuous and integer parts:\n",
    "    Ax + By [<=>] d\n",
    "    \"\"\"\n",
    "    constrs = model.getConstrs()    \n",
    "    xs = [x for x in model.getVars() if x.VType == GRB.CONTINUOUS]\n",
    "    x_inds = {x:i for i,x in enumerate(xs)}\n",
    "    ys = [x for x in model.getVars() if x.VType in (GRB.INTEGER, GRB.BINARY)]\n",
    "    y_inds = {x:i for i,x in enumerate(ys)}\n",
    "    # Need to make index dictionary since __eq__ method of grb var \n",
    "    # prevents use of list(vars).index(...)    \n",
    "    \n",
    "    csenses = []\n",
    "    d = []\n",
    "\n",
    "    xdata = []\n",
    "    xrow_inds = []\n",
    "    xcol_inds = []\n",
    "\n",
    "    ydata = []\n",
    "    yrow_inds = []\n",
    "    ycol_inds = []\n",
    "\n",
    "    for row_idx, constr in enumerate(constrs):\n",
    "        csenses.append(constr.Sense)        \n",
    "        d.append(constr.RHS)\n",
    "        row = model.getRow(constr)        \n",
    "        for j in range(row.size()):            \n",
    "            coeff = row.getCoeff(j)\n",
    "            vj = row.getVar(j)\n",
    "            if vj in x_inds:\n",
    "                col_idx = x_inds[vj]\n",
    "                xdata.append(coeff)\n",
    "                xcol_inds.append(col_idx)\n",
    "                xrow_inds.append(row_idx)\n",
    "                # print 'Found A[%d,%d]=%g' % (row_idx, col_idx, coeff)                \n",
    "            elif vj in y_inds:            \n",
    "                col_idx = y_inds[vj]\n",
    "                ydata.append(coeff)\n",
    "                ycol_inds.append(col_idx)\n",
    "                yrow_inds.append(row_idx)\n",
    "                # print 'Found B[%d,%d]=%g' % (row_idx, col_idx, coeff)\n",
    "            else:\n",
    "                raise Exception('vj should be in either x_inds or y_inds')\n",
    "\n",
    "    M  = len(constrs)    \n",
    "    nx = len(xs)\n",
    "    ny = len(ys)\n",
    "    A = coo_matrix((xdata, (xrow_inds, xcol_inds)), shape=(M,nx)).tocsr()\n",
    "    B = coo_matrix((ydata, (yrow_inds, ycol_inds)), shape=(M,ny)).tocsr()\n",
    "\n",
    "    return A, B, d, csenses, xs, ys"
   ]
  },
  {
   "cell_type": "code",
   "execution_count": 5,
   "metadata": {
    "collapsed": false,
    "deletable": true,
    "editable": true
   },
   "outputs": [],
   "source": [
    "### Subproblem\n",
    "class Decomposer(object):\n",
    "    def __init__(self, milp):\n",
    "        self.milp = milp\n",
    "        self._INF = 1e6\n",
    "        self._master = None\n",
    "        self._sub = None        \n",
    "        self._A = None\n",
    "        self._B = None\n",
    "        self._d = None        \n",
    "        self._csenses = None\n",
    "        self._xs = None\n",
    "        self._ys = None\n",
    "        self._wa = None\n",
    "        self._wl = None\n",
    "        self._wu = None\n",
    "        self._xl = None\n",
    "        self._xu = None\n",
    "        self._cx  = None\n",
    "        self._fy  = None            \n",
    "        \n",
    "    def benders_decomp(self):\n",
    "        \"\"\"\n",
    "        TODO: for multiple subproblems.\n",
    "        \"\"\"\n",
    "        self._split_constraints()\n",
    "        \n",
    "        master = self.make_master()\n",
    "        sub = self.make_sub()\n",
    "        self._master = master\n",
    "        self._sub = sub\n",
    "        \n",
    "        return master, sub\n",
    "    \n",
    "    def _split_constraints(self):\n",
    "        A,B,d,csenses,xs,ys = split_constraints(self.milp)\n",
    "        self._A = A\n",
    "        self._B = B\n",
    "        self._d = d\n",
    "        self._csenses = csenses\n",
    "        self._x0 = xs\n",
    "        self._y0 = ys\n",
    "        \n",
    "    def make_master(self):\n",
    "        LB = -self._INF\n",
    "        UB = self._INF\n",
    "        if self._y0 is None:\n",
    "            self._split_constraints()\n",
    "            \n",
    "        ys0 = self._y0\n",
    "        ny = len(ys0)        \n",
    "        B = self._B\n",
    "        fy = [yj.Obj for yj in ys0]\n",
    "        master = Model('master')\n",
    "        z = master.addVar(LB, UB, 0., GRB.CONTINUOUS, 'z')\n",
    "        ys = [master.addVar(y.LB, y.UB, y.Obj, y.VType, y.VarName) for y in ys0]\n",
    "        master.addConstr(z >= sum([fy[j]*ys[j] for j in range(ny)]))\n",
    "        master.setObjective(z, GRB.MINIMIZE)\n",
    "                \n",
    "        self._z = z\n",
    "        self._ys = ys\n",
    "        self._fy = fy\n",
    "        \n",
    "        return master\n",
    "        \n",
    "    def make_sub(self, yopt=None):\n",
    "        \"\"\"\n",
    "        Constraint doesn't change.\n",
    "        Objective changes with RMP solution, so yopt is optional when initiating.\n",
    "        \"\"\"\n",
    "        LB = -self._INF\n",
    "        UB = self._INF\n",
    "        \n",
    "        if self._x0 is None:\n",
    "            self._split_constraints()\n",
    "        \n",
    "        xs0 = self._x0\n",
    "        A = self._A\n",
    "        d = self._d\n",
    "        csenses = self._csenses        \n",
    "        \n",
    "        \n",
    "        m = len(d)\n",
    "        n = len(xs0)\n",
    "        nx = n\n",
    "        sub = Model('sub')\n",
    "        lb_dict = {GRB.EQUAL: -self._INF, GRB.GREATER_EQUAL: 0., GRB.LESS_EQUAL: -self._INF}\n",
    "        ub_dict = {GRB.EQUAL: self._INF, GRB.GREATER_EQUAL: self._INF, GRB.LESS_EQUAL: 0.}\n",
    "        wa = [sub.addVar(lb_dict[csenses[i]], ub_dict[csenses[i]], 0., GRB.CONTINUOUS, 'wa[%d]'%i) for i in range(m)]\n",
    "        wl = [sub.addVar(0., UB, 0., GRB.CONTINUOUS, 'wl[%d]'%i) for i in range(n)]\n",
    "        wu = [sub.addVar(0., UB, 0., GRB.CONTINUOUS, 'wu[%d]'%i) for i in range(n)]\n",
    "        xl = [x.LB for x in xs0]\n",
    "        xu = [x.UB for x in xs0]\n",
    "        cx  = [x.Obj for x in xs0]\n",
    "        \n",
    "        self._xl = xl\n",
    "        self._xu = xu\n",
    "        self._cx  = cx\n",
    "        self._wa = wa\n",
    "        self._wl = wl\n",
    "        self._wu = wu\n",
    "            \n",
    "        # This dual constraint never changes\n",
    "        dual_cons = [sub.addConstr(sum([A[i,j]*wa[i] for i in range(m)]) \\\n",
    "                                   + wl[j] - wu[j] == cx[j], name=xs0[j].VarName) for j in range(nx)]\n",
    "        \n",
    "        if yopt is not None:\n",
    "            sub.setObjective(sum([d[i]-sum([B[i,j]*yopt[j] for j in range(ny)])*wa[i] for i in range(m)]) +\n",
    "                             sum([xl[j]*wl[j] for j in range(n)]) -\n",
    "                             sum([xu[j]*wu[j] for j in range(n)]), GRB.MAXIMIZE)\n",
    "        \n",
    "        return sub\n",
    "\n",
    "    def update_subobj(self, yopt):\n",
    "        sub = self._sub\n",
    "        if sub is None:\n",
    "            sub = self.make_sub(yopt)\n",
    "        \n",
    "        d = self._d\n",
    "        B = self._B\n",
    "        wa = self._wa\n",
    "        wl = self._wl\n",
    "        wu = self._wu\n",
    "        xl = self._xl\n",
    "        xu = self._xu\n",
    "        \n",
    "        m,ny = B.shape\n",
    "        n = len(xl)\n",
    "        \n",
    "        sub.setObjective(sum([d[i]-sum([B[i,j]*yopt[j] for j in range(ny)])*wa[i] for i in range(m)]) +\n",
    "                         sum([xl[j]*wl[j] for j in range(n)]) -\n",
    "                         sum([xu[j]*wu[j] for j in range(n)]), GRB.MAXIMIZE)\n",
    "\n",
    "    def make_optcut(self):        \n",
    "        z = self._z\n",
    "        fy = self._fy\n",
    "        ys = self._ys\n",
    "        d = self._d\n",
    "        B = self._B\n",
    "        xl = self._xl\n",
    "        xu = self._xu        \n",
    "        m = len(d)\n",
    "        n = len(xl)\n",
    "        ny = len(ys)\n",
    "        \n",
    "        wa = [w.X for w in self._wa]\n",
    "        wl = [w.X for w in self._wl]\n",
    "        wu = [w.X for w in self._wu]                \n",
    "        \n",
    "        cut = z >= sum([fy[j]*ys[j] for j in range(ny)]) + \\\n",
    "            sum([d[i]-sum([B[i,j]*ys[j] for j in range(ny)])*wa[i] for i in range(m)]) + \\\n",
    "            sum([xl[j]*wl[j] for j in range(n)]) - \\\n",
    "            sum([xu[j]*wu[j] for j in range(n)])\n",
    "\n",
    "        return cut\n",
    "\n",
    "    def make_feascut(self):\n",
    "        \"\"\"\n",
    "        THIS MAY NOT WORK if dvar.X doesn't work for infeas problems.\n",
    "        Instead, may need FarkasDuals for primal sub problem\n",
    "        \"\"\"\n",
    "        # Get unbounded ray\n",
    "        wa = [w.X for w in self._wa]\n",
    "        wl = [w.X for w in self._wl]\n",
    "        wu = [w.X for w in self._wu]\n",
    "\n",
    "        ys = self._ys\n",
    "        d = self._d\n",
    "        B = self._B\n",
    "        xl = self._xl\n",
    "        xu = self._xu\n",
    "        wa = self._wa\n",
    "        wl = self._wl\n",
    "        wu = self._wu\n",
    "        m = len(d)\n",
    "        n = len(xl)\n",
    "\n",
    "        cut = sum([d[i]-sum([B[i,j]*ys[j] for j in range(ny)])*wa[i] for i in range(m)]) + \\\n",
    "                             sum([xl[j]*wl[j] for j in range(n)]) - \\\n",
    "                             sum([xu[j]*wu[j] for j in range(n)]) <= 0\n",
    "\n",
    "        return cut\n",
    "    \n",
    "    def calc_sub_objval(self, yopt):\n",
    "        sub = self._sub\n",
    "        fy = self._fy\n",
    "        #objval = sub.ObjVal + sum([fj*yj for fj,yj in zip(fy,yopt)])\n",
    "        objval = sub.ObjVal + sum([fy[j]*yopt[j] for j in range(len(yopt))])\n",
    "        \n",
    "        return objval\n",
    "    \n",
    "    def get_sub(self):\n",
    "        if self._sub is None:\n",
    "            self._sub = self.make_sub()\n",
    "\n",
    "        return self._sub\n",
    "\n",
    "    def get_master(self):\n",
    "        if self._master is None:\n",
    "            self._master = self.make_master()\n",
    "            \n",
    "        return self._master"
   ]
  },
  {
   "cell_type": "code",
   "execution_count": 56,
   "metadata": {
    "collapsed": true,
    "deletable": true,
    "editable": true
   },
   "outputs": [],
   "source": [
    "###==================================================###\n",
    "### SOLVER-SPECIFIC CALLBACK\n",
    "### Feas and Opt cuts implemented as lazy constraints\n",
    "###==================================================###\n",
    "from six import iteritems\n",
    "\n",
    "def benders(model, where):\n",
    "    GAPTOL = 1e-6\n",
    "    \n",
    "    if where in (GRB.Callback.MIPSOL, GRB.Callback.MIPNODE):\n",
    "        ### Lazy constraints only allowed for MIPNODE or MIPSOL\n",
    "        ys = decomposer._ys\n",
    "        z  = decomposer._z        \n",
    "        if where==GRB.Callback.MIPSOL:\n",
    "            yopt = [model.cbGetSolution(y) for y in ys]\n",
    "            #yopt = {j:model.cbGetSolution(y) for j,y in iteritems(ys)}\n",
    "            zmaster = model.cbGetSolution(z)\n",
    "        elif where==GRB.Callback.MIPNODE:        \n",
    "            yopt = [model.cbGetNodeRel(y) for y in ys]\n",
    "            #yopt = {j:model.cbGetNodeRel(y) for j,y in iteritems(ys)}\n",
    "            zmaster = model.cbGetNodeRel(z)\n",
    "        #************\n",
    "        print('#'*40)\n",
    "        print('Updating subproblem objective')\n",
    "        print('#'*40)\n",
    "        #************\n",
    "        decomposer.update_subobj(yopt)        \n",
    "        sub = decomposer.get_sub()        \n",
    "        sub.optimize()\n",
    "        \n",
    "        if sub.Status == GRB.Status.UNBOUNDED:\n",
    "            print('#'*40)\n",
    "            print('Adding feasibility cut')\n",
    "            print('#'*40)\n",
    "            # Add feasibility cut, ensuring that cut indeed eliminates current incumbent\n",
    "            feascut = decomposer.make_feascut(yopt, zmaster)\n",
    "            model.cbLazy(feascut)            \n",
    "        else:\n",
    "            print('#'*40)\n",
    "            print('Adding optimality cut')\n",
    "            print('#'*40)\n",
    "            ### Otherwise add Optimality cut                        \n",
    "            #try:                \n",
    "            zsub = decomposer.calc_sub_objval(yopt)\n",
    "            #except:\n",
    "            #zsub = -1e6\n",
    "            gap = zmaster - zsub\n",
    "            print('*'*40)    \n",
    "            print('zSub: %g' % zsub)\n",
    "            print('zMaster: %g' % zmaster)                        \n",
    "            print('Gap: %g' % gap)\n",
    "            print('*'*40)\n",
    "\n",
    "            if abs(gap) > GAPTOL:\n",
    "                optcut = decomposer.make_optcut()\n",
    "                model.cbLazy(optcut)                \n",
    "            else:\n",
    "                # Accept as new incumbent\n",
    "                pass"
   ]
  },
  {
   "cell_type": "code",
   "execution_count": 57,
   "metadata": {
    "collapsed": true,
    "deletable": true,
    "editable": true
   },
   "outputs": [],
   "source": [
    "decomposer = Decomposer(milp)"
   ]
  },
  {
   "cell_type": "code",
   "execution_count": 58,
   "metadata": {
    "collapsed": false,
    "deletable": true,
    "editable": true,
    "scrolled": true
   },
   "outputs": [
    {
     "name": "stdout",
     "output_type": "stream",
     "text": [
      "Changed value of parameter LazyConstraints to 1\n",
      "   Prev: 0  Min: 0  Max: 1  Default: 0\n",
      "########################################\n",
      "Updating subproblem objective\n",
      "########################################\n",
      "########################################\n",
      "Adding optimality cut\n",
      "########################################\n",
      "****************************************\n",
      "zSub: 200\n",
      "zMaster: 0\n",
      "Gap: -200\n",
      "****************************************\n",
      "########################################\n",
      "Updating subproblem objective\n",
      "########################################\n",
      "########################################\n",
      "Adding optimality cut\n",
      "########################################\n",
      "****************************************\n",
      "zSub: 200\n",
      "zMaster: 0\n",
      "Gap: -200\n",
      "****************************************\n",
      "########################################\n",
      "Updating subproblem objective\n",
      "########################################\n",
      "########################################\n",
      "Adding optimality cut\n",
      "########################################\n",
      "****************************************\n",
      "zSub: 210\n",
      "zMaster: 190\n",
      "Gap: -20\n",
      "****************************************\n",
      "########################################\n",
      "Updating subproblem objective\n",
      "########################################\n",
      "########################################\n",
      "Adding optimality cut\n",
      "########################################\n",
      "****************************************\n",
      "zSub: 210\n",
      "zMaster: 210\n",
      "Gap: -2.84217e-14\n",
      "****************************************\n",
      "########################################\n",
      "Updating subproblem objective\n",
      "########################################\n",
      "########################################\n",
      "Adding optimality cut\n",
      "########################################\n",
      "****************************************\n",
      "zSub: 211.25\n",
      "zMaster: 191.25\n",
      "Gap: -20\n",
      "****************************************\n",
      "########################################\n",
      "Updating subproblem objective\n",
      "########################################\n",
      "########################################\n",
      "Adding optimality cut\n",
      "########################################\n",
      "****************************************\n",
      "zSub: 216.667\n",
      "zMaster: 196.667\n",
      "Gap: -20\n",
      "****************************************\n",
      "########################################\n",
      "Updating subproblem objective\n",
      "########################################\n",
      "########################################\n",
      "Adding optimality cut\n",
      "########################################\n",
      "****************************************\n",
      "zSub: 220\n",
      "zMaster: 200\n",
      "Gap: -20\n",
      "****************************************\n"
     ]
    }
   ],
   "source": [
    "master,sub = decomposer.benders_decomp()\n",
    "sub.Params.OutputFlag=0\n",
    "master.Params.LazyConstraints = 1\n",
    "master.Params.OutputFlag=0\n",
    "master.optimize(benders)"
   ]
  },
  {
   "cell_type": "code",
   "execution_count": 59,
   "metadata": {
    "collapsed": false,
    "deletable": true,
    "editable": true
   },
   "outputs": [
    {
     "name": "stdout",
     "output_type": "stream",
     "text": [
      "Master objval=200. Original objval=350. Diff=-150\n"
     ]
    }
   ],
   "source": [
    "print('Master objval=%g. Original objval=%g. Diff=%g' % (master.ObjVal, milp.ObjVal, master.ObjVal-milp.ObjVal))"
   ]
  },
  {
   "cell_type": "code",
   "execution_count": 60,
   "metadata": {
    "collapsed": false,
    "deletable": true,
    "editable": true
   },
   "outputs": [],
   "source": [
    "### Resolve sub with final yopt to get x values or solve primal\n",
    "ys2 = [y for y in master.getVars() if y.VType != 'C']\n",
    "yfin = [y.X for y in ys2]\n",
    "decomposer.update_subobj(yfin)\n",
    "sub.Params.OutputFlag=0\n",
    "sub.optimize()\n",
    "dual_cons = sub.getConstrs()\n",
    "xs2 = {r.ConstrName:r.Pi for r in dual_cons}"
   ]
  },
  {
   "cell_type": "code",
   "execution_count": 62,
   "metadata": {
    "collapsed": false,
    "deletable": true,
    "editable": true
   },
   "outputs": [
    {
     "name": "stdout",
     "output_type": "stream",
     "text": [
      "             x0      x_benders           Diff\n",
      "              0              0              0\n",
      "              0              0              0\n",
      "             10              0            -10\n",
      "              0              0              0\n",
      "             30              0            -30\n",
      "              0              0              0\n",
      "             20              0            -20\n",
      "             20              0            -20\n",
      "              0              0              0\n",
      "              0              0              0\n",
      "              0              0              0\n",
      "             20              0            -20\n"
     ]
    }
   ],
   "source": [
    "xs1 = [x for x in milp.getVars() if x.VType=='C']\n",
    "print('%15.10s%15.10s%15.10s' % ('x0','x_benders','Diff'))\n",
    "for xj1 in xs1:\n",
    "    xj2 = xs2[xj1.VarName]\n",
    "    print('%15.10g%15.10g%15.10g' % (xj1.X, xj2, xj2-xj1.X))"
   ]
  },
  {
   "cell_type": "code",
   "execution_count": 63,
   "metadata": {
    "collapsed": false,
    "deletable": true,
    "editable": true
   },
   "outputs": [
    {
     "name": "stdout",
     "output_type": "stream",
     "text": [
      "             y0          y_RMP           Diff\n",
      "              0              1              1\n",
      "             -0             -0              0\n",
      "              1             -0             -1\n",
      "             -0              0              0\n",
      "              1             -0             -1\n",
      "             -0             -0              0\n",
      "              1             -0             -1\n",
      "              1             -0             -1\n",
      "              0             -0             -0\n",
      "             -0              1              1\n",
      "             -0             -0              0\n",
      "              1             -0             -1\n"
     ]
    }
   ],
   "source": [
    "ys1 = [y for y in milp.getVars() if y.VType!='C']\n",
    "print('%15.10s%15.10s%15.10s' % ('y0','y_RMP','Diff'))\n",
    "for yj1 in ys1:\n",
    "    yj2 = master.getVarByName(yj1.VarName)\n",
    "    print('%15.10g%15.10g%15.10g' % (yj1.X, yj2.X, yj2.X-yj1.X))"
   ]
  },
  {
   "cell_type": "code",
   "execution_count": 52,
   "metadata": {
    "collapsed": false
   },
   "outputs": [
    {
     "name": "stdout",
     "output_type": "stream",
     "text": [
      "Optimize a model with 19 rows, 12 columns and 36 nonzeros\n",
      "Coefficient statistics:\n",
      "  Matrix range     [1e+00, 1e+00]\n",
      "  Objective range  [1e+00, 5e+00]\n",
      "  Bounds range     [1e+03, 1e+03]\n",
      "  RHS range        [1e+01, 5e+01]\n",
      "Presolve removed 19 rows and 12 columns\n",
      "Presolve time: 0.00s\n",
      "Presolve: All rows and columns removed\n",
      "Iteration    Objective       Primal Inf.    Dual Inf.      Time\n",
      "       0    2.4000000e+02   0.000000e+00   0.000000e+00      0s\n",
      "\n",
      "Solved in 0 iterations and 0.00 seconds\n",
      "Optimal objective  2.400000000e+02\n"
     ]
    }
   ],
   "source": [
    "Ap, Bp, dp, psenses, x0p, y0p = split_constraints(milp)\n",
    "mA,nA = Ap.shape\n",
    "psub = Model('psub')\n",
    "xps = [psub.addVar(x0i.LB, x0i.UB, 0., GRB.CONTINUOUS, x0i.VarName) for x0i in x0p]\n",
    "cp  = [x0i.Obj for x0i in x0p]\n",
    "psub.setObjective(sum([cp[j]*xps[j] for j in range(len(xps))]), GRB.MINIMIZE)\n",
    "yopt0 = [y.X for y in milp.getVars() if y.VType!='C']\n",
    "#pconstrs = []\n",
    "for i,csense in enumerate(psenses):    \n",
    "    expr_L = sum([Ap[i,j]*xps[j] for j in range(len(xps))])\n",
    "    expr_R = dp[i] - sum([Bp[i,j]*yopt0[j] for j in range(len(yopt0))])\n",
    "    psub.addConstr(expr_L, csense, expr_R)\n",
    "psub.optimize()"
   ]
  },
  {
   "cell_type": "code",
   "execution_count": 53,
   "metadata": {
    "collapsed": false
   },
   "outputs": [
    {
     "name": "stdout",
     "output_type": "stream",
     "text": [
      "f'y=110\n",
      "c'x=240\n"
     ]
    }
   ],
   "source": [
    "print(\"f'y=%g\"%sum([y.Obj*y.X for y in y0p]))\n",
    "print(\"c'x=%g\"%sum([x.Obj*x.X for x in x0p]))"
   ]
  },
  {
   "cell_type": "code",
   "execution_count": 54,
   "metadata": {
    "collapsed": false
   },
   "outputs": [
    {
     "name": "stdout",
     "output_type": "stream",
     "text": [
      "Subproblem:\n",
      "c'x=240\n"
     ]
    }
   ],
   "source": [
    "print('Subproblem:')\n",
    "print(\"c'x=%g\" % sum([x.Obj*x.X for x in xps]))"
   ]
  },
  {
   "cell_type": "code",
   "execution_count": 55,
   "metadata": {
    "collapsed": false
   },
   "outputs": [
    {
     "name": "stdout",
     "output_type": "stream",
     "text": [
      "             x0          x_sub           Diff             c0          c_sub\n",
      "              0              0              0              2              2\n",
      "              0              0              0              3              3\n",
      "             10             10              0              4              4\n",
      "              0              0              0              3              3\n",
      "             30             30              0              2              2\n",
      "              0              0              0              1              1\n",
      "             20             20              0              1              1\n",
      "             20             20              0              4              4\n",
      "              0              0              0              3              3\n",
      "              0              0              0              4              4\n",
      "              0              0              0              5              5\n",
      "             20             20              0              2              2\n"
     ]
    }
   ],
   "source": [
    "print('%15.10s%15.10s%15.10s%15.10s%15.10s' % ('x0','x_sub','Diff', 'c0', 'c_sub'))\n",
    "for xj0 in x0p:\n",
    "    xj2 = psub.getVarByName(xj0.VarName)\n",
    "    print('%15.10g%15.10g%15.10g%15.10g%15.10g' % (xj0.X, xj2.X, xj2.X-xj0.X, xj0.Obj, xj2.Obj))"
   ]
  },
  {
   "cell_type": "markdown",
   "metadata": {
    "deletable": true,
    "editable": true
   },
   "source": [
    "## Subproblem(k)\n",
    "$$\n",
    "\\begin{align*}\n",
    "\\min_{x} \\quad & f'y^* + c'x  \\\\\n",
    "\\mathrm{s.t.} \\quad & Ax [<=>] d - By^* \\\\\n",
    "& l \\leq x \\leq u\n",
    "\\end{align*}\n",
    "$$"
   ]
  },
  {
   "cell_type": "markdown",
   "metadata": {
    "deletable": true,
    "editable": true
   },
   "source": [
    "### Restricted Master Problem\n",
    "$$\n",
    "\\begin{align*}\n",
    "\\min_{y,z} \\quad & z \\\\\n",
    "\\mathrm{s.t.} \\quad & z \\geq f'y + (d-By)'w^A_{i,k} + l_k'w^l_{i,k} - u'_k w^u_{i,k}, & i \\in \\mathrm{OptimalityCuts}, \\ k=1,\\dots,K \\\\\n",
    "& (d_k-By)'w^A_{i,k} + l_k' w^l_{i,k} - u_k' w^u_{i,k} \\leq 0, & i \\in \\mathrm{FeasibilityCuts}, \\ k=1,\\dots,K\n",
    "\\end{align*}\n",
    "$$"
   ]
  },
  {
   "cell_type": "markdown",
   "metadata": {
    "deletable": true,
    "editable": true
   },
   "source": [
    "### Dual of subproblem(k)\n",
    "$$\n",
    "\\begin{align*}\n",
    "\\max_{w^A,w^l,w^u} \\quad & (d-By^*)' w^A + l' w^l - u' w^u \\\\\n",
    "\\mathrm{s.t.} \\quad & A' w^A + w^l - w^u = c \\\\\n",
    "& w^A \\in \\mathbb{R}^m \\\\\n",
    "& w^l,w^u \\geq 0\n",
    "\\end{align*}\n",
    "$$"
   ]
  }
 ],
 "metadata": {
  "kernelspec": {
   "display_name": "Python 2",
   "language": "python",
   "name": "python2"
  },
  "language_info": {
   "codemirror_mode": {
    "name": "ipython",
    "version": 2
   },
   "file_extension": ".py",
   "mimetype": "text/x-python",
   "name": "python",
   "nbconvert_exporter": "python",
   "pygments_lexer": "ipython2",
   "version": "2.7.14"
  }
 },
 "nbformat": 4,
 "nbformat_minor": 2
}
