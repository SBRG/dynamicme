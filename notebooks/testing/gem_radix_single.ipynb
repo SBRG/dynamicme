{
 "cells": [
  {
   "cell_type": "markdown",
   "metadata": {
    "deletable": true,
    "editable": true
   },
   "source": [
    "# GEM Radix-based"
   ]
  },
  {
   "cell_type": "code",
   "execution_count": 1,
   "metadata": {
    "collapsed": true,
    "deletable": true,
    "editable": true
   },
   "outputs": [],
   "source": [
    "SCALE_CROWDING=False\n",
    "PREVENT_ZERO = True"
   ]
  },
  {
   "cell_type": "code",
   "execution_count": 2,
   "metadata": {
    "collapsed": false,
    "deletable": true,
    "editable": true
   },
   "outputs": [],
   "source": [
    "%load_ext line_profiler"
   ]
  },
  {
   "cell_type": "code",
   "execution_count": 3,
   "metadata": {
    "collapsed": false,
    "deletable": true,
    "editable": true
   },
   "outputs": [
    {
     "name": "stdout",
     "output_type": "stream",
     "text": [
      "(<type 'exceptions.ImportError'>, ImportError('No module named cplex',), <traceback object at 0x7fe1e4d11ef0>)\n"
     ]
    }
   ],
   "source": [
    "from gurobipy import *\n",
    "\n",
    "import seaborn as sns\n",
    "import pandas as pd\n",
    "import matplotlib.pyplot as plt\n",
    "import numpy as np\n",
    "\n",
    "plt.rcParams['svg.fonttype'] = 'none'\n",
    "pd.set_option('display.max_colwidth', -1)\n",
    "%matplotlib inline\n",
    "\n",
    "from dynamicme.decomposition import Decomposer\n",
    "from dynamicme.callback_gurobi import cb_benders\n",
    "from dynamicme.optimize import Optimizer, StackOptimizer\n",
    "from dynamicme.optimize import Constraint, Variable\n",
    "\n",
    "from cobra.io import load_json_model\n",
    "from cobra import Metabolite, Reaction\n",
    "from six import iteritems\n",
    "\n",
    "import numpy as np\n",
    "import cobra"
   ]
  },
  {
   "cell_type": "markdown",
   "metadata": {
    "deletable": true,
    "editable": true
   },
   "source": [
    "### Try optimizing using radix for one condition first"
   ]
  },
  {
   "cell_type": "code",
   "execution_count": 4,
   "metadata": {
    "collapsed": true,
    "deletable": true,
    "editable": true
   },
   "outputs": [],
   "source": [
    "from cobra.io import load_json_model\n",
    "\n",
    "mdl_ref  = load_json_model('/home/laurence/ME/data/dynamicME/nominal_ijomc.json')\n",
    "ijomc  = load_json_model('/home/laurence/ME/data/dynamicME/nominal_ijomc.json')"
   ]
  },
  {
   "cell_type": "code",
   "execution_count": 5,
   "metadata": {
    "collapsed": true
   },
   "outputs": [],
   "source": [
    "mu_id = 'BIOMASS_Ec_iJO1366_core_53p95M'"
   ]
  },
  {
   "cell_type": "code",
   "execution_count": 6,
   "metadata": {
    "collapsed": false,
    "deletable": true,
    "editable": true
   },
   "outputs": [
    {
     "name": "stdout",
     "output_type": "stream",
     "text": [
      "0.972916210772\n"
     ]
    }
   ],
   "source": [
    "ijomc.optimize()\n",
    "mu_crowd0 = ijomc.reactions.get_by_id(mu_id).x\n",
    "print(mu_crowd0)"
   ]
  },
  {
   "cell_type": "code",
   "execution_count": 7,
   "metadata": {
    "collapsed": false,
    "deletable": true,
    "editable": true
   },
   "outputs": [],
   "source": [
    "df_meas = pd.read_csv('/home/laurence/ME/data/dynamicME/beg/growth_meas.csv')\n",
    "\n",
    "ex_rxns = [r for r in df_meas.ex_rxn.unique() if mdl_ref.reactions.has_id(r)]\n",
    "df_meas = df_meas[ df_meas.ex_rxn.isin(ex_rxns)]\n",
    "conds = df_meas.substrate.unique()\n",
    "\n",
    "#N_CONDS = len(conds)\n",
    "N_CONDS = 1\n",
    "\n",
    "df_conds = pd.DataFrame([{'cond':r['substrate'], 'rxn':ex_rxn, 'lb':-10 if r['ex_rxn']==ex_rxn else 0, 'ub':1000., 'obj':0.} for i,r in df_meas.iterrows() for ex_rxn in ex_rxns])\n",
    "df_conds = df_conds[ df_conds.cond.isin(conds[0:N_CONDS])]\n",
    "#df_conds = df_conds[ df_conds.cond.isin(['glucose','acetate','succinate'])]"
   ]
  },
  {
   "cell_type": "markdown",
   "metadata": {
    "deletable": true,
    "editable": true
   },
   "source": [
    "## Need to allow higher growth for acetate with higher uptake rate"
   ]
  },
  {
   "cell_type": "code",
   "execution_count": 8,
   "metadata": {
    "collapsed": false,
    "deletable": true,
    "editable": true
   },
   "outputs": [],
   "source": [
    "df_conds.loc[ df_conds.cond=='acetate', 'lb'] = -20"
   ]
  },
  {
   "cell_type": "code",
   "execution_count": 9,
   "metadata": {
    "collapsed": false,
    "deletable": true,
    "editable": true
   },
   "outputs": [],
   "source": [
    "stacker = StackOptimizer()\n",
    "stacker.stack_models(ijomc, df_conds)"
   ]
  },
  {
   "cell_type": "code",
   "execution_count": 10,
   "metadata": {
    "collapsed": false,
    "deletable": true,
    "editable": true
   },
   "outputs": [
    {
     "data": {
      "text/plain": [
       "<Solution 0.97 at 0x7fe182448f10>"
      ]
     },
     "execution_count": 10,
     "metadata": {},
     "output_type": "execute_result"
    }
   ],
   "source": [
    "stacker.model.optimize(solver='gurobi')"
   ]
  },
  {
   "cell_type": "code",
   "execution_count": 11,
   "metadata": {
    "collapsed": false,
    "deletable": true,
    "editable": true
   },
   "outputs": [
    {
     "name": "stdout",
     "output_type": "stream",
     "text": [
      "glucose. mu=0.972916.\n"
     ]
    }
   ],
   "source": [
    "# stacker.model_dict['glucose'].optimize()\n",
    "# print stacker.model_dict['glucose'].reactions.query('BIOMASS')[0].x\n",
    "# print stacker.model_dict['glucose'].reactions.query('EX_glc')[0].x\n",
    "# print stacker.model_dict['glucose'].reactions.query('EX_fru')[0].x\n",
    "\n",
    "# stacker.model_dict['acetate'].optimize()\n",
    "# print stacker.model_dict['acetate'].reactions.query('BIOMASS')[0].x\n",
    "# print stacker.model_dict['acetate'].reactions.query('EX_glc')[0].x\n",
    "# print stacker.model_dict['acetate'].reactions.query('EX_ac')[0].x\n",
    "for mdl_ind,mdl in iteritems(stacker.model_dict):\n",
    "    mdl.optimize()\n",
    "    print('%s. mu=%g.' % (mdl_ind, mdl.solution.f))"
   ]
  },
  {
   "cell_type": "code",
   "execution_count": 12,
   "metadata": {
    "collapsed": false,
    "deletable": true,
    "editable": true
   },
   "outputs": [],
   "source": [
    "for mdl_ind,mdl in iteritems(stacker.model_dict):\n",
    "    opt = Optimizer(mdl)\n",
    "    gapi = opt.add_duality_gap_constraint(INF=1e3, inplace=True, index=mdl_ind)"
   ]
  },
  {
   "cell_type": "code",
   "execution_count": 13,
   "metadata": {
    "collapsed": false,
    "deletable": true,
    "editable": true
   },
   "outputs": [
    {
     "data": {
      "text/plain": [
       "<Solution 1.95 at 0x7fe180452910>"
      ]
     },
     "execution_count": 13,
     "metadata": {},
     "output_type": "execute_result"
    }
   ],
   "source": [
    "stacker.model.optimize(solver='gurobi')"
   ]
  },
  {
   "cell_type": "code",
   "execution_count": 14,
   "metadata": {
    "collapsed": false,
    "deletable": true,
    "editable": true
   },
   "outputs": [
    {
     "name": "stdout",
     "output_type": "stream",
     "text": [
      "('Radix:', 2.0)\n",
      "('Powers:', array([-3, -2, -1,  0,  1,  2,  3]))\n",
      "('Digits:', [1.0])\n"
     ]
    },
    {
     "name": "stderr",
     "output_type": "stream",
     "text": [
      "/usr/lib/python2.7/site-packages/ipykernel/__main__.py:9 \u001b[1;31mDeprecationWarning\u001b[0m: object of type <type 'float'> cannot be safely interpreted as an integer.\n"
     ]
    }
   ],
   "source": [
    "import numpy as np\n",
    "\n",
    "radix = 2.\n",
    "print('Radix:',radix)\n",
    "powers = np.arange(-3,4)\n",
    "print('Powers:', powers)\n",
    "digits_per_power = radix\n",
    "pwr_max = max(powers)\n",
    "digits = list(set(np.linspace(1, radix-1, digits_per_power)))\n",
    "print('Digits:', digits)\n",
    "\n",
    "# Discretize crowding coefficients into radix\n",
    "#crowding_p = gap.metabolites.crowding\n",
    "#crowding_cons = stacker.model.metabolites.query('crowding')\n",
    "\n",
    "var_cons_dict = {}\n",
    "# Get the group ID from reference model\n",
    "mdl_ref = ijomc\n",
    "crowding_ref = mdl_ref.metabolites.crowding\n",
    "for rxn_ref in crowding_ref.reactions:    \n",
    "    for mdl_ind, mdl in iteritems(stacker.model_dict):\n",
    "        crowding_p = mdl.metabolites.get_by_id('crowding_%s'%mdl_ind)\n",
    "        var_d = mdl.reactions.get_by_id('wa_%s'%crowding_p.id)\n",
    "        rxn_p = mdl.reactions.get_by_id(rxn_ref.id+'_%s'%mdl_ind)\n",
    "        # Get the coefficient in the dual\n",
    "        cons_ds = [m for m in var_d.metabolites.keys() if rxn_p.id==m.id]        \n",
    "        a0 = rxn_p.metabolites[crowding_p]\n",
    "        if var_cons_dict.has_key(rxn_ref.id):\n",
    "            var_cons_dict[rxn_ref.id] += [(rxn_p, crowding_p, a0)] + [(var_d, cons_d, a0) for cons_d in cons_ds]\n",
    "        else:\n",
    "            var_cons_dict[rxn_ref.id] = [(rxn_p, crowding_p, a0)] + [(var_d, cons_d, a0) for cons_d in cons_ds]"
   ]
  },
  {
   "cell_type": "code",
   "execution_count": 15,
   "metadata": {
    "collapsed": false,
    "deletable": true,
    "editable": true
   },
   "outputs": [],
   "source": [
    "# %lprun -f opt.to_radix opt.to_radix(gap, var_cons_dict, radix, powers, digits_per_power, prevent_zero=True)"
   ]
  },
  {
   "cell_type": "code",
   "execution_count": 16,
   "metadata": {
    "collapsed": false,
    "deletable": true,
    "editable": true
   },
   "outputs": [
    {
     "name": "stdout",
     "output_type": "stream",
     "text": [
      "CPU times: user 57.8 s, sys: 1.21 s, total: 59 s\n",
      "Wall time: 1min\n"
     ]
    },
    {
     "data": {
      "text/plain": [
       "[1.0]"
      ]
     },
     "execution_count": 16,
     "metadata": {},
     "output_type": "execute_result"
    }
   ],
   "source": [
    "%time opt.to_radix(stacker.model, var_cons_dict, radix, powers, digits=digits, prevent_zero=PREVENT_ZERO)"
   ]
  },
  {
   "cell_type": "code",
   "execution_count": 17,
   "metadata": {
    "collapsed": true,
    "deletable": true,
    "editable": true
   },
   "outputs": [],
   "source": [
    "### Try scaling\n",
    "if SCALE_CROWDING:\n",
    "    for mdl_ind,mdl in iteritems(stacker.model_dict):\n",
    "        crowding = stacker.model.metabolites.get_by_id('crowding'+'_%s'%mdl_ind)\n",
    "        bound0  = crowding._bound\n",
    "        f_scale = crowding._bound\n",
    "        crowding._bound = bound0 / f_scale\n",
    "        for rxn in crowding.reactions:\n",
    "            rxn._metabolites[crowding] = rxn._metabolites[crowding]/f_scale"
   ]
  },
  {
   "cell_type": "code",
   "execution_count": 18,
   "metadata": {
    "collapsed": false,
    "deletable": true,
    "editable": true
   },
   "outputs": [],
   "source": [
    "for rxn in stacker.model.reactions:\n",
    "    rxn.objective_coefficient = 0.\n",
    "\n",
    "for group_id in var_cons_dict.keys():\n",
    "    for l,pwr in enumerate(powers):\n",
    "        for k,digit in enumerate(digits):\n",
    "            yid = 'binary_%s%s%s'%(group_id,k,l)\n",
    "            y   = stacker.model.reactions.get_by_id(yid)\n",
    "            ### PREFER pwr=0, digit=1\n",
    "            if pwr==0 and digit==1:\n",
    "                #print('Preferring a0')\n",
    "                y.objective_coefficient = 0.\n",
    "            else:\n",
    "                y.objective_coefficient = 1."
   ]
  },
  {
   "cell_type": "code",
   "execution_count": 19,
   "metadata": {
    "collapsed": false,
    "deletable": true,
    "editable": true
   },
   "outputs": [
    {
     "data": {
      "text/plain": [
       "array([0.2 , 0.16, 0.12, 0.08, 0.04])"
      ]
     },
     "execution_count": 19,
     "metadata": {},
     "output_type": "execute_result"
    }
   ],
   "source": [
    "from cobra.solvers import gurobi_solver\n",
    "from gurobipy import *\n",
    "import numpy as np\n",
    "\n",
    "F_TOL_FINAL = 0.04\n",
    "F_TOL_START = 0.2\n",
    "N_FS =5\n",
    "F_TOLS = np.linspace(F_TOL_START, F_TOL_FINAL, N_FS)\n",
    "F_TOLS"
   ]
  },
  {
   "cell_type": "markdown",
   "metadata": {
    "deletable": true,
    "editable": true
   },
   "source": [
    "### TOOD: bisection on F_TOL instead of linear"
   ]
  },
  {
   "cell_type": "code",
   "execution_count": 20,
   "metadata": {
    "collapsed": false,
    "deletable": true,
    "editable": true,
    "scrolled": true
   },
   "outputs": [
    {
     "name": "stdout",
     "output_type": "stream",
     "text": [
      "Condition=glucose. Initial mu_crowd=nan. Fitting within 20% of measured: 0.592 <= mu <= 0.888\n",
      "Changed value of parameter OutputFlag to 1\n",
      "   Prev: 0  Min: 0  Max: 1  Default: 1\n",
      "Changed value of parameter NodefileStart to 3.0\n",
      "   Prev: 1e+100  Min: 0.0  Max: 1e+100  Default: 1e+100\n",
      "Changed value of parameter TimeLimit to 7200.0\n",
      "   Prev: 1e+100  Min: 0.0  Max: 1e+100  Default: 1e+100\n",
      "Changed value of parameter NumericFocus to 1\n",
      "   Prev: 0  Min: 0  Max: 3  Default: 0\n",
      "Changed value of parameter ScaleFlag to 0\n",
      "   Prev: -1  Min: -1  Max: 3  Default: -1\n",
      "Changed value of parameter Presolve to 0\n",
      "   Prev: -1  Min: -1  Max: 2  Default: -1\n",
      "Optimize a model with 135291 rows, 54848 columns and 345859 nonzeros\n",
      "Variable types: 40722 continuous, 14126 integer (0 binary)\n",
      "Coefficient statistics:\n",
      "  Matrix range     [2e-12, 1e+03]\n",
      "  Objective range  [1e+00, 1e+00]\n",
      "  Bounds range     [1e-02, 1e+03]\n",
      "  RHS range        [5e-03, 1e+03]\n",
      "Warning: Model contains large matrix coefficient range\n",
      "Variable types: 40603 continuous, 14245 integer (14126 binary)\n",
      "\n",
      "Root simplex log...\n",
      "\n",
      "Iteration    Objective       Primal Inf.    Dual Inf.      Time\n",
      "   33666    2.2855111e+03   1.541879e+01   1.696789e+08      5s\n",
      "   42300    0.0000000e+00   0.000000e+00   0.000000e+00      6s\n",
      "\n",
      "Root relaxation: objective 0.000000e+00, 42300 iterations, 5.78 seconds\n",
      "\n",
      "    Nodes    |    Current Node    |     Objective Bounds      |     Work\n",
      " Expl Unexpl |  Obj  Depth IntInf | Incumbent    BestBd   Gap | It/Node Time\n",
      "\n",
      "     0     0    0.00000    0    1          -    0.00000      -     -    8s\n",
      "     0     0    0.00000    0   30          -    0.00000      -     -   45s\n",
      "     0     0    0.00000    0    5          -    0.00000      -     -   46s\n",
      "     0     0    0.00333    0   34          -    0.00333      -     -   48s\n",
      "     0     0    0.00333    0   34          -    0.00333      -     -   48s\n",
      "     0     0    0.00564    0   44          -    0.00564      -     -   48s\n",
      "     0     0    0.00564    0   89          -    0.00564      -     -   49s\n",
      "     0     0    0.00564    0   89          -    0.00564      -     -   49s\n",
      "     0     0    0.00609    0   10          -    0.00609      -     -   50s\n",
      "     0     0    0.00611    0   11          -    0.00611      -     -   50s\n",
      "     0     0    0.00611    0   11          -    0.00611      -     -   51s\n",
      "     0     2    0.00611    0   11          -    0.00611      -     -   63s\n",
      "     3     8    0.01205    2   13          -    0.01205      -  1000   65s\n",
      "    48    50    0.12196   13   42          -    0.12196      -   197   70s\n",
      "   140   139    0.31313   33  304          -    0.31313      -   126   75s\n",
      "   202   204    0.49635   46  310          -    0.49635      -   112   80s\n",
      "   300   303    0.76038   59  320          -    0.76038      -  94.0   85s\n",
      "   355   359    1.10734   68  321          -    1.00000      -  88.3   91s\n",
      "   415   415    1.40591   79  330          -    1.00000      -  82.5   95s\n",
      "   548   550    2.97722   98  343          -    1.00000      -  74.6  103s\n",
      "   620   621    2.31822  111  354          -    1.00000      -  71.2  107s\n",
      "   700   702    2.59234  125  359          -    1.00000      -  68.4  111s\n",
      "   760   761    3.46802  136  367          -    1.00000      -  68.1  116s\n",
      "   862   862    3.90431  149  375          -    1.00000      -  63.2  120s\n",
      "   945   947    5.28278  161  383          -    1.00000      -  61.1  126s\n",
      "  1051  1051    8.24576  179  396          -    1.00000      -  59.0  131s\n",
      "  1167  1167    9.03699  197  407          -    1.00000      -  56.4  137s\n",
      "  1277  1277   12.01152  218  425          -    1.00000      -  54.5  142s\n",
      "  1398  1401   14.51831  240  438          -    1.00000      -  52.2  148s\n",
      "  1550  1550   32.20990  263  485          -    1.00000      -  49.4  156s\n",
      "  1773  1774   41.62261  284  524          -    1.00000      -  44.7  163s\n",
      "  1932  1933   52.28906  302  561          -    1.00000      -  43.0  170s\n",
      "  2140  2142   69.94826  323  596          -    1.00000      -  40.1  178s\n",
      "  2353  2354   95.97340  345  657          -    1.00000      -  37.4  187s\n",
      "  2566  2568  142.73199  367  742          -    1.00000      -  35.3  200s\n",
      "  2649  2650  231.88602  386  906          -    1.00000      -  37.4  207s\n",
      "  2775  2775  474.57911  400 1380          -    1.00000      -  38.7  228s\n",
      "  2857  2851 infeasible  402               -    1.00000      -  51.8  292s\n",
      "  2924  2923    1.00092    3   43          -    1.00000      -  67.1  348s\n",
      "  3011  3007    1.03849   58  135          -    1.00000      -  76.0  358s\n",
      "  3176  3171    1.25125  120  159          -    1.00000      -  73.7  372s\n",
      "  3405  3400    2.48001  149  262          -    1.00000      -  71.7  384s\n",
      "  3577  3571    1.73884  172  179          -    1.00000      -  69.8  399s\n",
      "  3812  3811    2.86029  239  240          -    1.00000      -  71.4  412s\n",
      "  4099  4092    5.36170  293  295          -    1.00000      -  67.5  422s\n",
      "  4335  4326    7.73032  347  307          -    1.00000      -  66.5  433s\n",
      "  4546  4548    9.69784  386  320          -    1.00000      -  65.9  446s\n",
      "  4760  4784   11.91665  420  318          -    1.00000      -  65.2  460s\n",
      "  5010  4989   14.88718  440  322          -    1.00000      -  63.7  475s\n",
      "* 5136    72             795       1.0000000    1.00000  0.00%  62.5  475s\n",
      "\n",
      "Cutting planes:\n",
      "  Gomory: 1\n",
      "  Implied bound: 112\n",
      "  MIR: 64\n",
      "  Flow cover: 5\n",
      "\n",
      "Explored 5310 nodes (381653 simplex iterations) in 475.24 seconds\n",
      "Thread count was 8 (of 8 available processors)\n",
      "\n",
      "Solution count 1: 1 \n",
      "\n",
      "Optimal solution found (tolerance 1.00e-04)\n",
      "Warning: max integrality violation (7.8323e-07) exceeds tolerance\n",
      "Best objective 1.000000000000e+00, best bound 1.000000000000e+00, gap 0.0000%\n",
      "########################################\n",
      "Setting MIP warm-start values.\n",
      "Condition=glucose. Initial mu_crowd=nan. Fitting within 16% of measured: 0.6216 <= mu <= 0.8584\n",
      "Changed value of parameter OutputFlag to 1\n",
      "   Prev: 0  Min: 0  Max: 1  Default: 1\n",
      "Changed value of parameter NodefileStart to 3.0\n",
      "   Prev: 1e+100  Min: 0.0  Max: 1e+100  Default: 1e+100\n",
      "Changed value of parameter TimeLimit to 7200.0\n",
      "   Prev: 1e+100  Min: 0.0  Max: 1e+100  Default: 1e+100\n",
      "Changed value of parameter NumericFocus to 1\n",
      "   Prev: 0  Min: 0  Max: 3  Default: 0\n",
      "Changed value of parameter ScaleFlag to 0\n",
      "   Prev: -1  Min: -1  Max: 3  Default: -1\n",
      "Changed value of parameter Presolve to 0\n",
      "   Prev: -1  Min: -1  Max: 2  Default: -1\n",
      "Optimize a model with 135291 rows, 54848 columns and 345859 nonzeros\n",
      "Variable types: 40722 continuous, 14126 integer (0 binary)\n",
      "Coefficient statistics:\n",
      "  Matrix range     [2e-12, 1e+03]\n",
      "  Objective range  [1e+00, 1e+00]\n",
      "  Bounds range     [1e-02, 1e+03]\n",
      "  RHS range        [5e-03, 1e+03]\n",
      "Warning: Model contains large matrix coefficient range\n",
      "Variable types: 40603 continuous, 14245 integer (14126 binary)\n",
      "\n",
      "Root simplex log...\n",
      "\n",
      "Iteration    Objective       Primal Inf.    Dual Inf.      Time\n",
      "   35531    2.3041246e+03   4.367813e+00   2.274209e+06      5s\n",
      "   43072    0.0000000e+00   0.000000e+00   0.000000e+00      6s\n",
      "\n",
      "Root relaxation: objective 0.000000e+00, 43072 iterations, 5.61 seconds\n",
      "\n",
      "    Nodes    |    Current Node    |     Objective Bounds      |     Work\n",
      " Expl Unexpl |  Obj  Depth IntInf | Incumbent    BestBd   Gap | It/Node Time\n",
      "\n",
      "     0     0    0.00000    0    2          -    0.00000      -     -    8s\n",
      "H    0     0                       2.0000000    0.00000   100%     -   11s\n",
      "     0     0    0.00000    0   66    2.00000    0.00000   100%     -   12s\n",
      "     0     0    0.00783    0   20    2.00000    0.00783   100%     -   15s\n",
      "     0     0    0.00939    0    6    2.00000    0.00939   100%     -   15s\n",
      "     0     0    0.00958    0    4    2.00000    0.00958   100%     -   16s\n",
      "     0     0    0.00958    0    2    2.00000    0.00958   100%     -   16s\n",
      "     0     2    0.00958    0    2    2.00000    0.00958   100%     -   16s\n",
      "    11     4    0.05534    6    1    2.00000    0.05534  97.2%   453   20s\n",
      "    32     3    0.22074   16    3    2.00000    0.21372  89.3%   582   25s\n",
      "\n",
      "Cutting planes:\n",
      "  Gomory: 1\n",
      "  Implied bound: 57\n",
      "  Clique: 4\n",
      "  MIR: 22\n",
      "  Flow cover: 1\n",
      "\n",
      "Explored 83 nodes (78868 simplex iterations) in 29.73 seconds\n",
      "Thread count was 8 (of 8 available processors)\n",
      "\n",
      "Solution count 1: 2 \n",
      "\n",
      "Optimal solution found (tolerance 1.00e-04)\n",
      "Warning: max integrality violation (5.1974e-07) exceeds tolerance\n",
      "Best objective 2.000000000000e+00, best bound 2.000000000000e+00, gap 0.0000%\n",
      "########################################\n",
      "Setting MIP warm-start values.\n",
      "Condition=glucose. Initial mu_crowd=nan. Fitting within 12% of measured: 0.6512 <= mu <= 0.8288\n",
      "Changed value of parameter OutputFlag to 1\n",
      "   Prev: 0  Min: 0  Max: 1  Default: 1\n",
      "Changed value of parameter NodefileStart to 3.0\n",
      "   Prev: 1e+100  Min: 0.0  Max: 1e+100  Default: 1e+100\n",
      "Changed value of parameter TimeLimit to 7200.0\n",
      "   Prev: 1e+100  Min: 0.0  Max: 1e+100  Default: 1e+100\n",
      "Changed value of parameter NumericFocus to 1\n",
      "   Prev: 0  Min: 0  Max: 3  Default: 0\n",
      "Changed value of parameter ScaleFlag to 0\n",
      "   Prev: -1  Min: -1  Max: 3  Default: -1\n",
      "Changed value of parameter Presolve to 0\n",
      "   Prev: -1  Min: -1  Max: 2  Default: -1\n",
      "Optimize a model with 135291 rows, 54848 columns and 345859 nonzeros\n",
      "Variable types: 40722 continuous, 14126 integer (0 binary)\n",
      "Coefficient statistics:\n",
      "  Matrix range     [2e-12, 1e+03]\n",
      "  Objective range  [1e+00, 1e+00]\n",
      "  Bounds range     [1e-02, 1e+03]\n",
      "  RHS range        [5e-03, 1e+03]\n",
      "Warning: Model contains large matrix coefficient range\n",
      "Variable types: 40603 continuous, 14245 integer (14126 binary)\n",
      "\n",
      "Root simplex log...\n",
      "\n",
      "Iteration    Objective       Primal Inf.    Dual Inf.      Time\n",
      "   42704    2.2725142e+03   5.366784e+01   7.192834e+07      5s\n",
      "   52941    0.0000000e+00   0.000000e+00   0.000000e+00      7s\n",
      "\n",
      "Root relaxation: objective 0.000000e+00, 52941 iterations, 6.18 seconds\n",
      "Total elapsed time = 10.31s\n",
      "\n",
      "    Nodes    |    Current Node    |     Objective Bounds      |     Work\n",
      " Expl Unexpl |  Obj  Depth IntInf | Incumbent    BestBd   Gap | It/Node Time\n",
      "\n",
      "     0     0    0.00000    0    2          -    0.00000      -     -   13s\n",
      "H    0     0                       2.0000000    0.00000   100%     -   19s\n",
      "     0     0    0.00000    0   53    2.00000    0.00000   100%     -   21s\n",
      "     0     0    0.01162    0   56    2.00000    0.01162  99.4%     -   22s\n",
      "     0     0    0.01319    0   11    2.00000    0.01319  99.3%     -   23s\n",
      "     0     0    0.01319    0   10    2.00000    0.01319  99.3%     -   23s\n",
      "     0     0    0.01319    0    6    2.00000    0.01319  99.3%     -   23s\n",
      "     0     0    0.01319    0    2    2.00000    0.01319  99.3%     -   24s\n",
      "     0     2    0.01319    0    2    2.00000    0.01319  99.3%     -   24s\n",
      "     1     2    0.01803    1    2    2.00000    0.01803  99.1%   104   25s\n",
      "     9     4    0.04891    5    2    2.00000    0.04891  97.6%   914   30s\n",
      "    15     4    0.08632    7    3    2.00000    0.08632  95.7%   890   37s\n",
      "*   26     7               9       1.0000000    0.11006  89.0%  1128   38s\n",
      "\n",
      "Cutting planes:\n",
      "  Implied bound: 55\n",
      "  Clique: 1\n",
      "  MIR: 31\n",
      "  Flow cover: 3\n",
      "\n",
      "Explored 30 nodes (96336 simplex iterations) in 38.47 seconds\n",
      "Thread count was 8 (of 8 available processors)\n",
      "\n",
      "Solution count 2: 1 2 \n",
      "\n",
      "Optimal solution found (tolerance 1.00e-04)\n",
      "Warning: max integrality violation (7.1914e-07) exceeds tolerance\n",
      "Best objective 1.000000000000e+00, best bound 1.000000000000e+00, gap 0.0000%\n",
      "########################################\n",
      "Setting MIP warm-start values.\n",
      "Condition=glucose. Initial mu_crowd=nan. Fitting within 8% of measured: 0.6808 <= mu <= 0.7992\n",
      "Changed value of parameter OutputFlag to 1\n",
      "   Prev: 0  Min: 0  Max: 1  Default: 1\n",
      "Changed value of parameter NodefileStart to 3.0\n",
      "   Prev: 1e+100  Min: 0.0  Max: 1e+100  Default: 1e+100\n",
      "Changed value of parameter TimeLimit to 7200.0\n",
      "   Prev: 1e+100  Min: 0.0  Max: 1e+100  Default: 1e+100\n",
      "Changed value of parameter NumericFocus to 1\n",
      "   Prev: 0  Min: 0  Max: 3  Default: 0\n",
      "Changed value of parameter ScaleFlag to 0\n",
      "   Prev: -1  Min: -1  Max: 3  Default: -1\n",
      "Changed value of parameter Presolve to 0\n",
      "   Prev: -1  Min: -1  Max: 2  Default: -1\n",
      "Optimize a model with 135291 rows, 54848 columns and 345859 nonzeros\n",
      "Variable types: 40722 continuous, 14126 integer (0 binary)\n",
      "Coefficient statistics:\n",
      "  Matrix range     [2e-12, 1e+03]\n",
      "  Objective range  [1e+00, 1e+00]\n",
      "  Bounds range     [1e-02, 1e+03]\n",
      "  RHS range        [5e-03, 1e+03]\n",
      "Warning: Model contains large matrix coefficient range\n",
      "Variable types: 40603 continuous, 14245 integer (14126 binary)\n",
      "\n",
      "Root simplex log...\n",
      "\n",
      "Iteration    Objective       Primal Inf.    Dual Inf.      Time\n",
      "   32493    2.2714368e+03   1.830785e+02   1.674843e+07      5s\n",
      "   42758    0.0000000e+00   0.000000e+00   0.000000e+00      7s\n",
      "\n",
      "Root relaxation: objective 0.000000e+00, 42758 iterations, 6.39 seconds\n",
      "\n",
      "    Nodes    |    Current Node    |     Objective Bounds      |     Work\n",
      " Expl Unexpl |  Obj  Depth IntInf | Incumbent    BestBd   Gap | It/Node Time\n",
      "\n",
      "     0     0    0.00000    0    2          -    0.00000      -     -    8s\n",
      "H    0     0                       2.0000000    0.00000   100%     -   12s\n",
      "     0     0    0.00137    0 1272    2.00000    0.00137   100%     -   16s\n",
      "     0     0    0.01582    0    7    2.00000    0.01582  99.2%     -   18s\n",
      "     0     0    0.01691    0    3    2.00000    0.01691  99.2%     -   19s\n",
      "     0     0    0.01691    0    2    2.00000    0.01691  99.2%     -   20s\n",
      "     0     2    0.01691    0    2    2.00000    0.01691  99.2%     -   20s\n",
      "     9     4    0.04109    5    3    2.00000    0.04109  97.9%   864   25s\n",
      "    40     3    0.16688   20    6    2.00000    0.16294  91.9%   604   30s\n",
      "    74     4     cutoff   36         2.00000    0.27776  86.1%   576   35s\n",
      "    85     0     cutoff   41         2.00000    1.00000  50.0%   672   60s\n",
      "\n",
      "Cutting planes:\n",
      "  Implied bound: 21\n",
      "  Clique: 1\n",
      "  MIR: 31\n",
      "  Flow cover: 1\n",
      "\n",
      "Explored 87 nodes (139796 simplex iterations) in 60.57 seconds\n",
      "Thread count was 8 (of 8 available processors)\n",
      "\n",
      "Solution count 1: 2 \n",
      "\n",
      "Optimal solution found (tolerance 1.00e-04)\n",
      "Warning: max integrality violation (5.5088e-07) exceeds tolerance\n",
      "Best objective 2.000000000000e+00, best bound 2.000000000000e+00, gap 0.0000%\n",
      "########################################\n",
      "Setting MIP warm-start values.\n",
      "Condition=glucose. Initial mu_crowd=nan. Fitting within 4% of measured: 0.7104 <= mu <= 0.7696\n",
      "Changed value of parameter OutputFlag to 1\n",
      "   Prev: 0  Min: 0  Max: 1  Default: 1\n",
      "Changed value of parameter NodefileStart to 3.0\n",
      "   Prev: 1e+100  Min: 0.0  Max: 1e+100  Default: 1e+100\n",
      "Changed value of parameter TimeLimit to 7200.0\n",
      "   Prev: 1e+100  Min: 0.0  Max: 1e+100  Default: 1e+100\n",
      "Changed value of parameter NumericFocus to 1\n",
      "   Prev: 0  Min: 0  Max: 3  Default: 0\n",
      "Changed value of parameter ScaleFlag to 0\n",
      "   Prev: -1  Min: -1  Max: 3  Default: -1\n",
      "Changed value of parameter Presolve to 0\n",
      "   Prev: -1  Min: -1  Max: 2  Default: -1\n",
      "Optimize a model with 135291 rows, 54848 columns and 345859 nonzeros\n",
      "Variable types: 40722 continuous, 14126 integer (0 binary)\n",
      "Coefficient statistics:\n",
      "  Matrix range     [2e-12, 1e+03]\n",
      "  Objective range  [1e+00, 1e+00]\n",
      "  Bounds range     [1e-02, 1e+03]\n",
      "  RHS range        [5e-03, 1e+03]\n",
      "Warning: Model contains large matrix coefficient range\n",
      "Variable types: 40603 continuous, 14245 integer (14126 binary)\n",
      "\n",
      "Root simplex log...\n",
      "\n",
      "Iteration    Objective       Primal Inf.    Dual Inf.      Time\n",
      "   33976    2.2518028e+03   2.255399e+01   5.098838e+07      5s\n",
      "   43440    0.0000000e+00   0.000000e+00   0.000000e+00      6s\n",
      "\n",
      "Root relaxation: objective 0.000000e+00, 43440 iterations, 6.02 seconds\n",
      "\n",
      "    Nodes    |    Current Node    |     Objective Bounds      |     Work\n",
      " Expl Unexpl |  Obj  Depth IntInf | Incumbent    BestBd   Gap | It/Node Time\n",
      "\n",
      "     0     0    0.00000    0    2          -    0.00000      -     -    7s\n",
      "     0     0    0.00295    0   61          -    0.00295      -     -   26s\n",
      "     0     0    0.02027    0 1025          -    0.02027      -     -   28s\n",
      "     0     0    0.02027    0 1023          -    0.02027      -     -   30s\n",
      "     0     0    0.02194    0  190          -    0.02194      -     -   31s\n",
      "     0     0    0.02194    0  187          -    0.02194      -     -   32s\n",
      "     0     0    0.02248    0  173          -    0.02248      -     -   32s\n",
      "     0     0    0.02248    0  172          -    0.02248      -     -   32s\n",
      "     0     0    0.02248    0  172          -    0.02248      -     -   32s\n",
      "     0     0    0.02248    0   74          -    0.02248      -     -   33s\n",
      "     0     2    0.02248    0   74          -    0.02248      -     -   41s\n",
      "    75    76    0.26129   21   86          -    0.26129      -  46.0   45s\n",
      "   152   154    0.59557   43  113          -    0.59557      -  46.8   52s\n",
      "   217   218    0.89152   54  123          -    0.89152      -  71.5   55s\n",
      "   313   316    1.71117   81  149          -    1.00000      -  58.8   60s\n",
      "   457   457    3.39396  126  171          -    1.00000      -  48.3   65s\n",
      "   621   622    5.74466  165  221          -    1.00000      -  40.2   71s\n",
      "   746   747    9.49638  199  238          -    1.00000      -  36.6   76s\n",
      "   868   870   13.19048  233  251          -    1.00000      -  36.0   81s\n",
      "   993   997   19.54500  264  268          -    1.00000      -  35.0   86s\n",
      "  1152  1153   26.63308  293  293          -    1.00000      -  32.4   91s\n",
      "  1298  1300   32.07848  316  313          -    1.00000      -  32.7   97s\n",
      "  1370  1372   35.57729  328  328          -    1.00000      -  33.2  100s\n",
      "  1543  1548   44.71104  348  359          -    1.00000      -  32.0  107s\n",
      "  1634  1631   49.74749  359  378          -    1.00000      -  31.4  111s\n",
      "  1830  1831   62.51717  380  403          -    1.00000      -  30.5  118s\n",
      "  1927  1932   72.58625  392  423          -    1.00000      -  30.2  122s\n",
      "  2023  2016   89.08691  405  456          -    1.00000      -  31.1  134s\n",
      "  2113  2113  108.50168  417  490          -    1.00000      -  44.5  206s\n",
      "  2217  2211  139.27211  432  567          -    1.00000      -  74.0  220s\n",
      "  2340  2331  188.42306  447  688          -    1.00000      -  80.6  226s\n",
      "  2454  2444  312.84350  462  949          -    1.00000      -  79.9  234s\n",
      "  2574  2565 infeasible  467               -    1.00000      -  86.8  241s\n",
      "  2724  2708    2.74206   47  144          -    1.00000      -  84.3  247s\n",
      "  2868  2855    3.00935   92  157          -    1.00000      -  81.4  254s\n",
      "  3038  3021    4.80594  134  184          -    1.00000      -  78.2  261s\n",
      "  3159  3146    6.36155  155  214          -    1.00000      -  78.1  271s\n",
      "  3308  3288    8.99372  180  231          -    1.00000      -  81.1  282s\n",
      "  3488  3468   10.93645  193  238          -    1.00000      -  83.9  314s\n",
      "  3680  3665   13.09907  217  247          -    1.00000      -  86.5  365s\n",
      "  3870  3867   15.12619  233  251          -    1.00000      -  96.5  375s\n",
      "  4099  4056   18.70079  241  258          -    1.00000      -  93.0  387s\n",
      "  4310  4295   20.23931  256  268          -    1.00000      -  91.2  396s\n",
      "  4475  4462   24.25155  274  275          -    1.00000      -  90.1  407s\n",
      "  4655  4619   25.44507  284  282          -    1.00000      -  89.3  418s\n",
      "  4858  4852   28.07016  295  292          -    1.00000      -  87.5  430s\n",
      "  5167  5139   32.09943  307  302          -    1.00000      -  83.2  443s\n",
      "  5426  5420   34.88614  313  309          -    1.00000      -  80.9  455s\n",
      "  5651  5631   34.69481  321  319          -    1.00000      -  80.1  467s\n",
      "  5909  5880   38.04292  326  321          -    1.00000      -  78.7  481s\n",
      "  6246  6238   38.76373  333  325          -    1.00000      -  75.7  497s\n",
      "  6608  6574    3.45198  121    2          -    1.00000      -  73.6  549s\n",
      "  6609  6575    4.03348  414   64          -    1.00000      -  73.6  552s\n",
      "  6611  6576    4.80189  114  160          -    1.00000      -  73.6  556s\n",
      "  6615  6579   14.57800  227   62          -    1.00000      -  73.5  578s\n",
      "  6616  6583    1.00000   14   61          -    1.00000      -  81.7  581s\n",
      "  6618  6586    1.00000   15   61          -    1.00000      -  81.8  586s\n",
      "  6634  6596    1.00029   17   89          -    1.00000      -  82.1  592s\n",
      "  6644  6600    1.00000   18   63          -    1.00000      -  82.0  598s\n",
      "  6668  6615    1.00000   22   54          -    1.00000      -  82.1  600s\n",
      "  6773  6686    1.00000   37   40          -    1.00000      -  81.0  605s\n",
      "  6867  6750    1.05646   50  136          -    1.00000      -  80.5  611s\n",
      "  6929  6792    1.00000   53  168          -    1.00000      -  80.2  617s\n",
      "  6977  6822    1.00000   57   29          -    1.00000      -  80.1  621s\n",
      "  7002  6839    1.10818   61  147          -    1.00000      -  80.5  626s\n",
      "  7016  6846    1.00000   63   34          -    1.00000      -  81.1  632s\n",
      "  7027  6856    1.00000   64   36          -    1.00000      -  81.3  636s\n",
      "  7049  6869    1.00000   66   37          -    1.00000      -  82.6  642s\n",
      "  7070  6884    1.00000   68   39          -    1.00000      -  82.8  647s\n",
      "  7085  6894    1.00000   70   67          -    1.00000      -  83.3  656s\n",
      "  7098  6902    1.00000   71   68          -    1.00000      -  83.7  660s\n",
      "  7128  6922    1.00000   75   69          -    1.00000      -  84.9  667s\n",
      "  7149  6935    1.00000   79  118          -    1.00000      -  85.4  672s\n",
      "  7186  6964    1.26319   81  125          -    1.00000      -  85.7  676s\n",
      "  7230  6993    1.28209   88  119          -    1.00000      -  85.6  685s\n",
      "  7289  7029    1.00000   91  141          -    1.00000      -  86.3  693s\n",
      "  7307  7041    1.00000   93   96          -    1.00000      -  86.5  698s\n",
      "  7328  7055    1.00000   96   95          -    1.00000      -  86.9  701s\n",
      "  7353  7071    1.00000   97  103          -    1.00000      -  87.2  705s\n",
      "  7377  7088    1.72020   98  100          -    1.00000      -  87.5  710s\n",
      "  7437  7129    1.83144  105  101          -    1.00000      -  87.8  721s\n",
      "  7476  7152    1.00000  109  100          -    1.00000      -  88.9  727s\n",
      "  7505  7175    1.00000  112  112          -    1.00000      -  89.1  762s\n",
      "  7533  7191    1.00000  113  111          -    1.00000      -  95.1  769s\n",
      "  7568  7215    2.11682  115  197          -    1.00000      -  95.3  774s\n",
      "  7615  7246    2.01583  123  383          -    1.00000      -  95.0  780s\n",
      "  7670  7285    2.29641  130  271          -    1.00000      -  94.7  787s\n",
      "  7739  7329    2.59751  137  275          -    1.00000      -  94.3  794s\n",
      "  7827  7387    1.89148  140  192          -    1.00000      -  93.6  802s\n",
      "  7903  7439    3.35670  148  189          -    1.00000      -  93.2  809s\n",
      "  7960  7479    2.47939  151  179          -    1.00000      -  92.9  817s\n",
      "  8044  7539    3.81928  159  176          -    1.00000      -  92.4  825s\n",
      "  8136  7591    3.47350  174  179          -    1.00000      -  91.8  834s\n",
      "  8229  7657    5.39246  187  185          -    1.00000      -  91.3  843s\n",
      "  8351  7737    5.87856  197  189          -    1.00000      -  90.4  853s\n",
      "  8505  7842    8.94543  209  200          -    1.00000      -  89.1  865s\n",
      "  8667  7946    9.05568  229  212          -    1.00000      -  87.9  876s\n",
      "  8833  8061   13.76019  247  226          -    1.00000      -  86.7  888s\n",
      "  9012  8178   13.47170  269  237          -    1.00000      -  85.2  899s\n",
      "  9196  8316   16.96354  285  253          -    1.00000      -  83.8  912s\n",
      "  9431  8448   17.79039  315  263          -    1.00000      -  82.0  924s\n",
      "  9630  8590   18.12327  336  271          -    1.00000      -  80.7  938s\n",
      "  9864  8744   20.83796  366  284          -    1.00000      -  79.0  952s\n",
      " 10117  8919   23.23793  391  290          -    1.00000      -  77.3  967s\n",
      " 10397  9127   24.22314  424  295          -    1.00000      -  75.6  981s\n",
      " 10698  9318   25.28812  462  302          -    1.00000      -  73.8  996s\n",
      " 11018  9533   27.55374  503  313          -    1.00000      -  72.2 1012s\n",
      " 11350  9691   29.60674  544  314          -    1.00000      -  70.5 1029s\n",
      " 11736  9983   32.31687  597  328          -    1.00000      -  68.5 1046s\n",
      " 12064 10225   65.01881  644  395          -    1.00000      -  67.2 1065s\n",
      " 12514 10538   67.41488  702  402          -    1.00000      -  65.0 1083s\n",
      " 12950 10802   73.53400  759  420          -    1.00000      -  63.0 1104s\n",
      " 13416 11124   78.42395  821  435          -    1.00000      -  61.0 1125s\n",
      " 13815 11371 infeasible  858               -    1.00000      -  60.0 1146s\n",
      " 14097 11542 infeasible  858               -    1.00000      -  66.2 1276s\n",
      " 14348 11731   80.22857  857  444          -    1.00000      -  65.4 1299s\n",
      " 14406 11751  165.81649  874  615          -    1.00000      -  66.0 1355s\n",
      " 14537 11854 infeasible  883               -    1.00000      -  70.4 1386s\n",
      " 14696 11852 infeasible  884               -    1.00000      -  71.8 1505s\n",
      " 14820 11949 infeasible  884               -    1.00000      -  73.9 1819s\n",
      " 15013 12083  254.50906  884 1230          -    1.00000      -  80.8 1877s\n",
      " 15222 12214  308.72040  885 1333          -    1.00000      -  83.1 1936s\n",
      " 15404 12272 infeasible  888               -    1.00000      -  86.6 2102s\n",
      " 15569 12510  188.59565  888 1362          -    1.00000      -   115 2874s\n",
      " 15940 12687 infeasible  888               -    1.00000      -   114 2911s\n",
      " 16068 12794  217.33653  889 1415          -    1.00000      -   113 2954s\n",
      " 16447 13047 infeasible  890               -    1.00000      -   113 3004s\n",
      " 16830 13280  307.82176  885 1272          -    1.00000      -   113 3035s\n",
      " 17340 13742    1.77164   74  197          -    1.00000      -   113 3070s\n",
      " 17862 13735    5.59855  193  183          -    1.00000      -   112 3101s\n",
      " 18390 14393   16.12783  281  418          -    1.00000      -   111 3125s\n",
      " 18920 14390   20.58680  377  444          -    1.00000      -   109 3153s\n",
      " 19448 15032   23.73462  463  456          -    1.00000      -   108 3237s\n",
      " 19937 15140   26.10230  518  455          -    1.00000      -   107 3267s\n",
      " 20442 15670   29.41993  546  454          -    1.00000      -   105 3298s\n",
      " 20925 15838   31.58747  599  462          -    1.00000      -   104 3326s\n",
      " 21312 16297   35.47913  653  469          -    1.00000      -   103 3353s\n",
      " 21839 16443   36.97815  668  465          -    1.00000      -   102 3404s\n",
      " 22343 16755   39.80550  680  467          -    1.00000      -   101 3430s\n",
      " 22858 17167   40.92394  715  467          -    1.00000      -   100 3480s\n",
      " 23358 17528   44.04799  753  471          -    1.00000      -   100 3589s\n",
      " 23894 17837   47.47237  827  468          -    1.00000      -   103 3652s\n",
      " 24459 18307   50.70902  911  475          -    1.00000      -   103 3676s\n",
      " 24966 18621   52.08331  994  482          -    1.00000      -   102 3725s\n",
      " 25221 18686   55.76352 1109  491          -    1.00000      -   105 3858s\n",
      " 25558 18987   63.10900 1141  508          -    1.00000      -   106 3907s\n",
      " 25978 19382   71.95409 1244  520          -    1.00000      -   107 3955s\n",
      " 26440 19465   77.05025 1311  523          -    1.00000      -   107 3986s\n",
      " 26835 19762   79.90276 1439  524          -    1.00000      -   108 4018s\n",
      " 27313 20526   85.88369 1532  551          -    1.00000      -   107 4043s\n",
      " 27817 20862   90.58665 1577  558          -    1.00000      -   106 4131s\n",
      " 28180 21297   95.93202 1623  578          -    1.00000      -   106 4189s\n",
      " 28536 21580  107.81673 1659  603          -    1.00000      -   105 4230s\n",
      " 28937 22104  123.48298 1668  627          -    1.00000      -   106 4261s\n",
      " 29459 22447  126.77922 1677  634          -    1.00000      -   105 4355s\n",
      " 29811 22867  129.12747 1677  632          -    1.00000      -   106 4397s\n",
      " 30127 23156  130.37305 1678  632          -    1.00000      -   105 4424s\n",
      " 30653 23721  138.40050 1687  648          -    1.00000      -   104 4449s\n",
      " 31191 24427  153.01394 1693  675          -    1.00000      -   102 4487s\n",
      " 31610 24651  147.88488 1696  658          -    1.00000      -   102 4525s\n",
      " 31896 24402   57.57026 1699 1809          -    1.00000      -   103 4625s\n",
      " 32142 24992   59.99660 1703  762          -    1.00000      -   124 4907s\n",
      " 32356 25265   60.84711 1704  765          -    1.00000      -   143 5116s\n",
      " 32367 25241   64.09484 1703 1816          -    1.00000      -   150 5178s\n",
      " 32494 25313 infeasible 1705               -    1.00000      -   154 5239s\n",
      " 32571 25361 infeasible 1703               -    1.00000      -   176 5597s\n",
      " 32669 25436 infeasible 1702               -    1.00000      -   180 5726s\n",
      " 32835 25573 infeasible 1702               -    1.00000      -   185 5798s\n",
      " 32933 25627 infeasible 1702               -    1.00000      -   188 6052s\n",
      " 33189 25885 infeasible 1703               -    1.00000      -   205 6113s\n",
      " 33362 26040 infeasible 1705               -    1.00000      -   206 6164s\n",
      " 33562 26235 infeasible 1705               -    1.00000      -   206 6207s\n",
      " 33804 26485 infeasible 1705               -    1.00000      -   206 6306s\n",
      " 34084 26716 infeasible 1705               -    1.00000      -   208 6357s\n",
      " 34448 27119 infeasible 1703               -    1.00000      -   209 6416s\n",
      " 34815 27424 infeasible 1703               -    1.00000      -   209 6463s\n",
      " 35124 27764 infeasible 1706               -    1.00000      -   208 6705s\n",
      " 35475 28129 infeasible 1703               -    1.00000      -   219 6990s\n",
      " 35832 28466   71.02997  504  389          -    1.00000      -   233 7200s\n",
      "\n",
      "Cutting planes:\n",
      "  Implied bound: 71\n",
      "  MIR: 60\n",
      "\n",
      "Explored 36077 nodes (8457495 simplex iterations) in 7200.04 seconds\n",
      "Thread count was 8 (of 8 available processors)\n",
      "\n",
      "Solution count 0\n",
      "\n",
      "Time limit reached\n",
      "Best objective -, best bound 1.000000000000e+00, gap -\n",
      "CPU times: user 8h 13min 33s, sys: 15min 21s, total: 8h 28min 54s\n",
      "Wall time: 2h 10min 13s\n"
     ]
    }
   ],
   "source": [
    "%%time\n",
    "\n",
    "import time\n",
    "\n",
    "toc = 0.\n",
    "sol_dict = {}\n",
    "for ind, F_TOL in enumerate(F_TOLS):\n",
    "    # ind = 0\n",
    "    # F_TOL = F_TOL_FINAL\n",
    "    for mdl_ind,mdl in iteritems(stacker.model_dict):\n",
    "        mu_meas = df_meas[ df_meas.substrate==mdl_ind].growth_rate_1_h.iloc[0]\n",
    "        rxn_mu = mdl.reactions.get_by_id(mu_id+'_%s'%mdl_ind)    \n",
    "        rxn_mu.lower_bound = mu_meas*(1-F_TOL)\n",
    "        rxn_mu.upper_bound = mu_meas*(1+F_TOL)\n",
    "        mu_crowd0 = np.nan\n",
    "        print('Condition=%s. Initial mu_crowd=%g. Fitting within %g%% of measured: %g <= mu <= %g' % (mdl_ind, mu_crowd0, 100*F_TOL, rxn_mu.lower_bound, rxn_mu.upper_bound))\n",
    "\n",
    "    milp = gurobi_solver.create_problem(stacker.model)\n",
    "    milp.ModelSense = GRB.MINIMIZE\n",
    "    milp.Params.IntFeasTol = 1e-9\n",
    "    milp.Params.OutputFlag = 1\n",
    "    # milp.Params.FeasibilityTol = 1e-9\n",
    "    # milp.Params.OptimalityTol = 1e-9\n",
    "    milp.Params.NodefileStart = 3   # Start writing nodes to disk if x GB RAM exceeded (for each thread)\n",
    "    milp.Params.TimeLimit = 2*3600  # Time limit in seconds    \n",
    "    #milp.Params.Method = 2 # Barrier\n",
    "    #milp.Params.NodeMethod = 2 # Barrier slower for NodeMethod\n",
    "    #milp.Params.BarHomogeneous = 1\n",
    "    #***************************\n",
    "    milp.Params.NumericFocus = 1\n",
    "    milp.Params.ScaleFlag = 0\n",
    "    milp.Params.Presolve  = 0\n",
    "    #***************************\n",
    "    tic = time.time()\n",
    "    milp.optimize()\n",
    "    toc = time.time()-tic\n",
    "\n",
    "    # If feasible solution found, use it as MILP start\n",
    "    if milp.SolCount > 0:\n",
    "        print('#'*40)\n",
    "        print('Setting MIP warm-start values.')\n",
    "        for v in milp.getVars():\n",
    "            v.Start = v.X\n",
    "        sol_dict[ind] = {'x_dict':{v.VarName:v.X for v in milp.getVars()}, 'F_TOL':F_TOL, 'time':toc}"
   ]
  },
  {
   "cell_type": "code",
   "execution_count": 21,
   "metadata": {
    "collapsed": false,
    "deletable": true,
    "editable": true
   },
   "outputs": [
    {
     "data": {
      "text/plain": [
       "[(0, 0.2, 475.24176692962646),\n",
       " (1, 0.16, 29.735055923461914),\n",
       " (2, 0.12000000000000001, 38.473843812942505),\n",
       " (3, 0.08000000000000002, 60.570982933044434)]"
      ]
     },
     "execution_count": 21,
     "metadata": {},
     "output_type": "execute_result"
    }
   ],
   "source": [
    "[(k, s['F_TOL'], s['time']) for k,s in iteritems(sol_dict)]"
   ]
  },
  {
   "cell_type": "code",
   "execution_count": 22,
   "metadata": {
    "collapsed": false,
    "deletable": true,
    "editable": true
   },
   "outputs": [
    {
     "data": {
      "text/plain": [
       "3"
      ]
     },
     "execution_count": 22,
     "metadata": {},
     "output_type": "execute_result"
    }
   ],
   "source": [
    "best_ind = len(sol_dict)-1\n",
    "best_ind"
   ]
  },
  {
   "cell_type": "code",
   "execution_count": 23,
   "metadata": {
    "collapsed": false,
    "deletable": true,
    "editable": true
   },
   "outputs": [],
   "source": [
    "x_dict = {r.id:sol_dict[best_ind]['x_dict'][str(i)] for i,r in enumerate(stacker.model.reactions)}\n",
    "F_TOL = sol_dict[best_ind]['F_TOL']"
   ]
  },
  {
   "cell_type": "code",
   "execution_count": 24,
   "metadata": {
    "collapsed": false,
    "deletable": true,
    "editable": true
   },
   "outputs": [
    {
     "name": "stdout",
     "output_type": "stream",
     "text": [
      "Number of non-zero binaries: 2018\n",
      "glucose: Initial mu_crowd=nan. Fitted within 8%: 0.6808 <= 0.776975 <= 0.7992\n"
     ]
    }
   ],
   "source": [
    "yopt = [x_dict[rxn.id] for rxn in stacker.model.reactions.query('binary_')]\n",
    "print('Number of non-zero binaries: %g' % sum(yopt))\n",
    "for mdl_ind,mdl in iteritems(stacker.model_dict):\n",
    "    dfi = df_meas[ df_meas.substrate==mdl_ind]\n",
    "    mu_measi = dfi.growth_rate_1_h.iloc[0]\n",
    "    rxn_mu = stacker.model.reactions.get_by_id(mu_id+'_%s'%mdl_ind)\n",
    "    muopt = x_dict[rxn_mu.id]\n",
    "    muL = mu_measi*(1-F_TOL)\n",
    "    muU = mu_measi*(1+F_TOL)\n",
    "    print('%s: Initial mu_crowd=%g. Fitted within %g%%: %g <= %g <= %g' % (mdl_ind, mu_crowd0, 100*F_TOL, muL, muopt, muU))"
   ]
  },
  {
   "cell_type": "code",
   "execution_count": 36,
   "metadata": {
    "collapsed": false,
    "deletable": true,
    "editable": true,
    "scrolled": true
   },
   "outputs": [],
   "source": [
    "# Fitted parameters\n",
    "kfit_dict = {}\n",
    "for group_id, var_dict in iteritems(var_cons_dict):\n",
    "    var = var_dict[0]\n",
    "    cons = var_dict[1]\n",
    "    a0  = var_dict[0][2]\n",
    "    kfit = 0.\n",
    "    for l,pwr in enumerate(powers):\n",
    "        for k,digit in enumerate(digits):            \n",
    "            yid = 'binary_%s%s%s' % (group_id,k,l)\n",
    "            y   = x_dict[yid]            \n",
    "            if abs(y)>1e-10:\n",
    "                #print('%s. Value=%s. Power=%g. Digit=%g' % (yid, y, pwr, digit))\n",
    "                pass\n",
    "            kfit += y*a0*radix**pwr*digit\n",
    "    kfit_dict[group_id] = kfit"
   ]
  },
  {
   "cell_type": "code",
   "execution_count": 43,
   "metadata": {
    "collapsed": false,
    "deletable": true,
    "editable": true
   },
   "outputs": [
    {
     "name": "stdout",
     "output_type": "stream",
     "text": [
      "Changed keffs: 2/2018\n"
     ]
    },
    {
     "data": {
      "text/plain": [
       "[(u'CYTBO3_4pp', 0.00020733815370597105, 7.0),\n",
       " (u'PGK_abs', 0.001207922009789367, 7.0)]"
      ]
     },
     "execution_count": 43,
     "metadata": {},
     "output_type": "execute_result"
    }
   ],
   "source": [
    "kfit_changed = []\n",
    "for k,v in iteritems(kfit_dict):\n",
    "    rxn0 = mdl_ref.reactions.get_by_id(k)\n",
    "    a0   = rxn0.metabolites[mdl_ref.metabolites.crowding]    \n",
    "    perr = abs(v-a0)/a0\n",
    "    if perr>1e-6:\n",
    "        kfit_changed.append((k,v,perr))\n",
    "print('Changed keffs: %d/%d' % (len(kfit_changed), len(var_cons_dict)))\n",
    "kfit_changed"
   ]
  },
  {
   "cell_type": "markdown",
   "metadata": {
    "deletable": true,
    "editable": true
   },
   "source": [
    "### Plug back in to be sure"
   ]
  },
  {
   "cell_type": "code",
   "execution_count": 44,
   "metadata": {
    "collapsed": false,
    "deletable": true,
    "editable": true
   },
   "outputs": [
    {
     "name": "stdout",
     "output_type": "stream",
     "text": [
      "Cond=glucose. mu_meas=0.74. mu_sim=0.754508 (Error=1.96%) (unfit=0.982372, error=32.8%). (-94% change)\n",
      "\tEX_glc__D_e uptake=-10\n",
      "\tEX_malt_e uptake=0\n",
      "\tEX_man_e uptake=0\n",
      "\tEX_fru_e uptake=0\n",
      "\tEX_gal_e uptake=0\n",
      "\tEX_succ_e uptake=0\n",
      "\tEX_mal__L_e uptake=0\n",
      "\tEX_glyc_e uptake=0\n",
      "\tEX_lac__L_e uptake=0\n",
      "\tEX_ac_e uptake=0\n"
     ]
    }
   ],
   "source": [
    "#----------------------------------------\n",
    "# Starting from basal model\n",
    "csrcs = df_conds.cond.unique()\n",
    "for csrc in csrcs:\n",
    "    ijofit  = load_json_model('/home/laurence/ME/data/dynamicME/nominal_ijomc.json')\n",
    "    crowding = ijofit.metabolites.crowding\n",
    "    \n",
    "    df_condi = df_conds[ df_conds.cond==csrc]    \n",
    "    for i,row in df_condi.iterrows():\n",
    "        rid = row['rxn']\n",
    "        rxn = ijofit.reactions.get_by_id(rid)\n",
    "        rxn.lower_bound = row['lb']\n",
    "        rxn.upper_bound = row['ub']\n",
    "\n",
    "    for rid,kfit in iteritems(kfit_dict):\n",
    "        rxn = ijofit.reactions.get_by_id(rid)\n",
    "        rxn.add_metabolites({crowding:kfit})\n",
    "    \n",
    "    ijofit.optimize()\n",
    "    \n",
    "    mu_measi = df_meas[ df_meas.substrate==csrc].growth_rate_1_h.iloc[0]\n",
    "    mu_fiti = ijofit.reactions.get_by_id(mu_id).x\n",
    "    \n",
    "    # Get unfit\n",
    "    for rxn in ijofit.metabolites.crowding.reactions:\n",
    "        rxn._metabolites[crowding] = a0\n",
    "    ijofit.optimize()\n",
    "    mu_unfiti = ijofit.reactions.get_by_id(mu_id).x\n",
    "    err0= 100*(mu_unfiti-mu_measi)/mu_measi\n",
    "    err = 100*(mu_fiti - mu_measi)/mu_measi\n",
    "    derr= 100*(abs(err)-abs(err0))/abs(err0)\n",
    "    print('Cond=%s. mu_meas=%g. mu_sim=%g (Error=%.3g%%) (unfit=%g, error=%.3g%%). (%.3g%% change)' % (csrc, mu_measi, mu_fiti, err, mu_unfiti, err0, derr))\n",
    "    for i,row in df_condi.iterrows():\n",
    "        rid = row['rxn']\n",
    "        rxn = ijofit.reactions.get_by_id(rid)        \n",
    "        print('\\t%s uptake=%g' % (rxn.id, rxn.x))"
   ]
  },
  {
   "cell_type": "markdown",
   "metadata": {},
   "source": [
    "Cond=glucose. mu_meas=0.74. mu_sim=0.619085 (Error=-16.3%) (unfit=0.982372, error=32.8%). (-50.1% change)"
   ]
  }
 ],
 "metadata": {
  "kernelspec": {
   "display_name": "Python 2",
   "language": "python",
   "name": "python2"
  },
  "language_info": {
   "codemirror_mode": {
    "name": "ipython",
    "version": 2
   },
   "file_extension": ".py",
   "mimetype": "text/x-python",
   "name": "python",
   "nbconvert_exporter": "python",
   "pygments_lexer": "ipython2",
   "version": "2.7.14"
  }
 },
 "nbformat": 4,
 "nbformat_minor": 2
}
