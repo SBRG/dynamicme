{
 "cells": [
  {
   "cell_type": "markdown",
   "metadata": {
    "deletable": true,
    "editable": true
   },
   "source": [
    "# Toy Radix Lagrangean decomposition validation with sparse objective"
   ]
  },
  {
   "cell_type": "code",
   "execution_count": 1,
   "metadata": {
    "collapsed": false,
    "deletable": true,
    "editable": true
   },
   "outputs": [],
   "source": [
    "OBJECTIVE    = 'sparse'\n",
    "BISECTION   = True\n",
    "REG_WEIGHT   = 0. #1e-4\n",
    "MAX_NONZERO  = None #48*2\n",
    "PREVENT_ZERO = True\n",
    "POWERS       = [-1,0,1]\n",
    "TWO_PHASE    = False"
   ]
  },
  {
   "cell_type": "code",
   "execution_count": 2,
   "metadata": {
    "collapsed": false,
    "deletable": true,
    "editable": true
   },
   "outputs": [],
   "source": [
    "%load_ext line_profiler"
   ]
  },
  {
   "cell_type": "code",
   "execution_count": 3,
   "metadata": {
    "collapsed": false,
    "deletable": true,
    "editable": true
   },
   "outputs": [],
   "source": [
    "from gurobipy import *\n",
    "\n",
    "import seaborn as sns\n",
    "import pandas as pd\n",
    "import matplotlib.pyplot as plt\n",
    "import numpy as np\n",
    "\n",
    "plt.rcParams['svg.fonttype'] = 'none'\n",
    "pd.set_option('display.max_colwidth', -1)\n",
    "%matplotlib inline\n",
    "\n",
    "from cobra.io import load_json_model\n",
    "from six import iteritems\n",
    "import numpy as np\n",
    "import cobra"
   ]
  },
  {
   "cell_type": "code",
   "execution_count": 4,
   "metadata": {
    "collapsed": true,
    "deletable": true,
    "editable": true
   },
   "outputs": [],
   "source": [
    "ijomc = load_json_model('/home/laurence/ME/models/e_coli_core_pc.json')"
   ]
  },
  {
   "cell_type": "code",
   "execution_count": 5,
   "metadata": {
    "collapsed": false,
    "deletable": true,
    "editable": true
   },
   "outputs": [
    {
     "name": "stdout",
     "output_type": "stream",
     "text": [
      "0.873921506968\n"
     ]
    }
   ],
   "source": [
    "ijomc.optimize()\n",
    "mu_crowd0 = ijomc.reactions.BIOMASS_Ecoli_core_w_GAM.x\n",
    "print(mu_crowd0)"
   ]
  },
  {
   "cell_type": "code",
   "execution_count": 6,
   "metadata": {
    "collapsed": false,
    "deletable": true,
    "editable": true
   },
   "outputs": [],
   "source": [
    "df_meas = pd.read_csv('/home/laurence/ME/data/dynamicME/beg/growth_meas.csv')\n",
    "\n",
    "ex_rxns = [r for r in df_meas.ex_rxn.unique() if ijomc.reactions.has_id(r)]\n",
    "df_meas = df_meas[ df_meas.ex_rxn.isin(ex_rxns)]\n",
    "conds = df_meas.substrate.unique()\n",
    "\n",
    "N_CONDS = len(conds)\n",
    "#N_CONDS = ['succinate','malate']\n",
    "\n",
    "df_conds = pd.DataFrame([{'cond':r['substrate'], 'rxn':ex_rxn, 'lb':-10 if r['ex_rxn']==ex_rxn else 0, 'ub':1000., 'obj':0.} for i,r in df_meas.iterrows() for ex_rxn in ex_rxns])\n",
    "\n",
    "if hasattr(N_CONDS,'__iter__'):\n",
    "    df_conds = df_conds[ df_conds.cond.isin(N_CONDS)]\n",
    "    N_CONDS = len(N_CONDS)\n",
    "else:\n",
    "    if N_CONDS==1:\n",
    "        df_conds = df_conds[ df_conds.cond=='acetate']\n",
    "    elif N_CONDS<=3:\n",
    "        df_conds = df_conds[ df_conds.cond.isin(['glucose','acetate','succinate'][0:N_CONDS])]\n",
    "    else:\n",
    "        df_conds = df_conds[ df_conds.cond.isin(conds[0:N_CONDS])]\n",
    "\n",
    "df_conds.loc[ (df_conds.cond=='acetate') & (df_conds.rxn=='EX_ac_e'), 'lb'] = -20"
   ]
  },
  {
   "cell_type": "markdown",
   "metadata": {
    "deletable": true,
    "editable": true
   },
   "source": [
    "# Make radix problem"
   ]
  },
  {
   "cell_type": "code",
   "execution_count": 7,
   "metadata": {
    "collapsed": false,
    "deletable": true,
    "editable": true
   },
   "outputs": [],
   "source": [
    "from dynamicme.estimate import RadixEstimator"
   ]
  },
  {
   "cell_type": "code",
   "execution_count": 8,
   "metadata": {
    "collapsed": false,
    "deletable": true,
    "editable": true
   },
   "outputs": [],
   "source": [
    "df_Y = df_meas.rename(columns={'growth_rate_1_h':'output', 'substrate':'cond'})\n",
    "df_Y.loc[:,'output_id'] = 'BIOMASS_Ecoli_core_w_GAM'\n",
    "df_X = df_conds"
   ]
  },
  {
   "cell_type": "markdown",
   "metadata": {
    "deletable": true,
    "editable": true
   },
   "source": [
    "# Each Lagrange submodel should start with the optimum"
   ]
  },
  {
   "cell_type": "code",
   "execution_count": 9,
   "metadata": {
    "collapsed": true,
    "deletable": true,
    "editable": true
   },
   "outputs": [],
   "source": [
    "from dynamicme.decomposition import LagrangeMaster, LagrangeSubmodel"
   ]
  },
  {
   "cell_type": "code",
   "execution_count": 10,
   "metadata": {
    "collapsed": false,
    "deletable": true,
    "editable": true
   },
   "outputs": [
    {
     "name": "stdout",
     "output_type": "stream",
     "text": [
      "Changed value of parameter OutputFlag to 1\n",
      "   Prev: 0  Min: 0  Max: 1  Default: 1\n",
      "--------------------------------------------------\n",
      "glucose. Starting mu=0.873921506968 (meas=0.74). Fractional error for glucose = 0.18097500941679742\n",
      "Changed value of parameter OutputFlag to 1\n",
      "   Prev: 0  Min: 0  Max: 1  Default: 1\n",
      "--------------------------------------------------\n",
      "fructose. Starting mu=0.873921506968 (meas=0.55). Fractional error for fructose = 0.5889481944880546\n",
      "Changed value of parameter OutputFlag to 1\n",
      "   Prev: 0  Min: 0  Max: 1  Default: 1\n",
      "--------------------------------------------------\n",
      "succinate. Starting mu=0.397563015428 (meas=0.46). Fractional error for succinate = 0.13573257515703804\n",
      "Changed value of parameter OutputFlag to 1\n",
      "   Prev: 0  Min: 0  Max: 1  Default: 1\n",
      "--------------------------------------------------\n",
      "malate. Starting mu=0.370740520796 (meas=0.44). Fractional error for malate = 0.1574079072811711\n",
      "Changed value of parameter OutputFlag to 1\n",
      "   Prev: 0  Min: 0  Max: 1  Default: 1\n",
      "--------------------------------------------------\n",
      "acetate. Starting mu=0.389313074079 (meas=0.256). Fractional error for acetate = 0.5207541956220701\n"
     ]
    }
   ],
   "source": [
    "conds = df_conds.cond.unique()\n",
    "sub_dict = {}\n",
    "for cond in conds:\n",
    "    ijomc = load_json_model('/home/laurence/ME/models/e_coli_core_pc.json')\n",
    "    df_Xk = df_X[ df_X.cond==cond]\n",
    "    df_Yk = df_Y[ df_Y.cond==cond]\n",
    "    mu_measi = df_Yk.output.iloc[0]\n",
    "    estk = RadixEstimator()\n",
    "    estk.fit(ijomc, df_Xk, df_Yk, objective=OBJECTIVE,\n",
    "             reg_weight = REG_WEIGHT, max_nonzero_binaries=MAX_NONZERO, optimize=False,\n",
    "            powers=POWERS)\n",
    "    sub = LagrangeSubmodel(estk.stacker.model, cond, Q=estk.stacker.Q, bisection=True)\n",
    "    #-----------------------------\n",
    "    # Define bisection conditions: f_error\n",
    "    # Get the unfit error to bound error\n",
    "    ijofit = load_json_model('/home/laurence/ME/models/e_coli_core_pc.json')\n",
    "    df_condi = df_conds[ df_conds.cond==cond]\n",
    "    for i,row in df_condi.iterrows():\n",
    "        rid = row['rxn']\n",
    "        rxn = ijofit.reactions.get_by_id(rid)\n",
    "        rxn.lower_bound = row['lb']\n",
    "        rxn.upper_bound = row['ub']\n",
    "    # Get unfit growth rate first\n",
    "    ijofit.optimize(solver='gurobi')\n",
    "    mu_unfiti = ijofit.reactions.BIOMASS_Ecoli_core_w_GAM.x\n",
    "    f0   = abs(mu_unfiti - mu_measi) / abs(mu_measi)\n",
    "    print('-'*50)\n",
    "    print(\"%s. Starting mu=%s (meas=%s). Fractional error for %s = %s\" % (cond,mu_unfiti, mu_measi, cond, f0))\n",
    "    sub.bisect_lb = 0\n",
    "    sub.bisect_ub = f0*1.5\n",
    "    #sub.bisect_rel_precision = 0.01  #\n",
    "    sub.bisect_abs_precision = 0.01  # precision of final fractional error\n",
    "    ### Just lambda function doesn't work since variable scope of mu_measi is not what we want\n",
    "    lb_fun = lambda x, mu_measi=mu_measi: max(0, (1-x)*mu_measi)\n",
    "    ub_fun = lambda x, mu_measi=mu_measi: (1+x)*mu_measi    \n",
    "    \n",
    "    sub.subs_bounds = [('BIOMASS_Ecoli_core_w_GAM_%s'%cond, lb_fun, ub_fun)]\n",
    "    #-----------------------------\n",
    "    sub_dict[cond] = sub"
   ]
  },
  {
   "cell_type": "markdown",
   "metadata": {
    "deletable": true,
    "editable": true
   },
   "source": [
    "# DEBUG"
   ]
  },
  {
   "cell_type": "code",
   "execution_count": 11,
   "metadata": {
    "collapsed": false,
    "deletable": true,
    "editable": true
   },
   "outputs": [],
   "source": [
    "# #sub = sub_dict['malate']\n",
    "# for sub_ind, sub in iteritems(sub_dict):\n",
    "#     print(\"-\"*50)\n",
    "#     print(\"%s\"%sub._id)\n",
    "#     sub.model.Params.OutputFlag = 0\n",
    "#     sub.bisect_max_iter = 10\n",
    "#     sub.bisect_verbosity=1\n",
    "#     objval = sub.optimize(bisection=True)\n",
    "#     print(\"objval = %s\"%objval)"
   ]
  },
  {
   "cell_type": "markdown",
   "metadata": {
    "deletable": true,
    "editable": true
   },
   "source": [
    "---"
   ]
  },
  {
   "cell_type": "code",
   "execution_count": 12,
   "metadata": {
    "collapsed": true
   },
   "outputs": [],
   "source": [
    "master = LagrangeMaster(estk.stacker.model)\n",
    "master.add_submodels(sub_dict)\n",
    "master.covered_dict = estk.covered_dict"
   ]
  },
  {
   "cell_type": "code",
   "execution_count": 13,
   "metadata": {
    "collapsed": true,
    "deletable": true,
    "editable": true
   },
   "outputs": [],
   "source": [
    "for sub in sub_dict.values():\n",
    "    sub.model.Params.MIPGapAbs = 1e-3\n",
    "    sub.model.Params.MIPGap    = 1e-3"
   ]
  },
  {
   "cell_type": "code",
   "execution_count": null,
   "metadata": {
    "collapsed": false,
    "deletable": true,
    "editable": true
   },
   "outputs": [
    {
     "data": {
      "text/plain": [
       "True"
      ]
     },
     "execution_count": 14,
     "metadata": {},
     "output_type": "execute_result"
    }
   ],
   "source": [
    "is_bin = [y.upper_bound<=1 for y in master._y0]\n",
    "np.all(is_bin)"
   ]
  },
  {
   "cell_type": "markdown",
   "metadata": {
    "deletable": true,
    "editable": true
   },
   "source": [
    "### Two-phase"
   ]
  },
  {
   "cell_type": "code",
   "execution_count": null,
   "metadata": {
    "collapsed": false,
    "deletable": true,
    "editable": true,
    "scrolled": true
   },
   "outputs": [
    {
     "name": "stdout",
     "output_type": "stream",
     "text": [
      "    Iter                    UB                    LB       gap relgap(%)   penalty                       Time(s)\n",
      "  ------   -------------------   -------------------  -------- ---------  -------- -----------------------------\n",
      "               Dual   Feasible        Sub       Best                                   total    master       sub\n",
      "       0       1000     1e+100         43         43       957      95.7         0  32.63472  0.002254  15.97679\n",
      "       1         49     1e+100      48.36      48.36      0.64     1.306         3  172.6664  0.001075  68.68395\n",
      "       2      60.01     1e+100      45.39      48.36     11.65     19.41      5.75  313.7472  0.001243  140.4573\n"
     ]
    }
   ],
   "source": [
    "master.time_limit = 2*3600\n",
    "#master.max_iter = 2\n",
    "master.verbosity = 2\n",
    "master.print_iter = 1\n",
    "\n",
    "# master.gaptol = 0.02\n",
    "master.gaptol = 1e-3\n",
    "master.absgaptol = 1e-3\n",
    "master.delta_min  = 1e-20\n",
    "master.delta_mult = 0.5\n",
    "#master.bundle_mult = 0.1\n",
    "feasible_methods = ['reduced_cost', 'parsimonious', 'best_rounding', 'enumerate']\n",
    "alt_method = 'pool'\n",
    "max_alt = 10    # Computationally expensive if too large. Might miss feasible solution if too small.\n",
    "                # Can make adaptive if no feasible solution found for certain iterations.\n",
    "                # Adaptively update num of alt opt to keep.\n",
    "\n",
    "if TWO_PHASE:\n",
    "    sol_master = master.solve_relaxed(feasible_methods=None)\n",
    "    df_phase1 = pd.DataFrame(master.log_rows)\n",
    "\n",
    "#********************************************\n",
    "for sub in sub_dict.values():\n",
    "    sub.bisect_verbosity = 0\n",
    "    sub.model.Params.TimeLimit = 600\n",
    "#********************************************\n",
    "sol_master = master.optimize(feasible_methods=feasible_methods, max_alt=max_alt, alt_method=alt_method,\n",
    "                             early_heuristics=['reduced_cost','parsimonious','best_rounding'],\n",
    "                             nogood_cuts = True) \n",
    "df_phase2 = pd.DataFrame(master.log_rows)"
   ]
  },
  {
   "cell_type": "code",
   "execution_count": null,
   "metadata": {
    "collapsed": false,
    "deletable": true,
    "editable": true
   },
   "outputs": [],
   "source": [
    "if TWO_PHASE:\n",
    "    t_tot = df_phase1.t_total.max() + df_phase2.t_total.max()\n",
    "else:\n",
    "    t_tot = df_phase2.t_total.max()\n",
    "print(\"Total time: %s sec\" % t_tot)"
   ]
  },
  {
   "cell_type": "code",
   "execution_count": null,
   "metadata": {
    "collapsed": false
   },
   "outputs": [],
   "source": [
    "df_phase2"
   ]
  },
  {
   "cell_type": "code",
   "execution_count": null,
   "metadata": {
    "collapsed": false,
    "deletable": true,
    "editable": true
   },
   "outputs": [],
   "source": [
    "xcol = 'iter'\n",
    "df_phase2.loc[:,'phase'] = 2\n",
    "if TWO_PHASE:\n",
    "    df_phase1.loc[:,'phase'] = 1\n",
    "    dsplot = pd.concat([df_phase1, df_phase2])\n",
    "else:\n",
    "    dsplot = df_phase2\n",
    "dsplot = dsplot[[xcol,'feasUB','bestUB','bestLB','phase']]\n",
    "dsplot = dsplot.melt(id_vars=[xcol,'phase'])\n",
    "dsplot.loc[ dsplot.value>1e3, 'value'] = np.nan\n",
    "dsplot.loc[ dsplot.value<-1e3, 'value'] = np.nan\n",
    "\n",
    "g = sns.FacetGrid(dsplot, hue='variable', size=4, aspect=3, row='phase', sharey=False)\n",
    "g.map(plt.plot, xcol,'value')\n",
    "g.add_legend()"
   ]
  },
  {
   "cell_type": "code",
   "execution_count": null,
   "metadata": {
    "collapsed": false,
    "scrolled": true
   },
   "outputs": [],
   "source": [
    "# master.covered_dict\n",
    "# Compute reduced costs\n",
    "covered_dict = master.covered_dict\n",
    "# f + u'H\n",
    "rcs = [sub._fy + master.uopt*sub._H for sub in sub_dict.values()]\n",
    "var_inds = {y.id:j for j,y in enumerate(master._y0)}\n",
    "for k,vs in iteritems(covered_dict):\n",
    "    # Get the rcs for this set\n",
    "    js = [var_inds[v] for v in vs]\n",
    "    #ys = np.array([[sub.yopt[j] for j in js] for sub in sub_dict.values()])\n",
    "    ys = np.array([[sub._weight*sub.x_dict[v] for v in vs] for sub in sub_dict.values()])\n",
    "    rc_set = np.array([[sub._fy[j] + (master.uopt*sub._H)[j] for j in js] for sub in sub_dict.values()])\n",
    "    rc_sum = rc_set.sum(axis=0)\n",
    "    yeqs   = [all(ys[:-1,j]==ys[1:,j]) for j in range(len(vs))]\n",
    "    print(\"%s reduced costs:\\n%s\"%(k, rc_set))\n",
    "    print(\"rc_sum: %s\"%rc_sum)\n",
    "    print(\"arg min_j rc_sum[j] = %s\" % (rc_sum==min(rc_sum)))\n",
    "    print(\"yks=\\n%s\"%ys)\n",
    "    print(\"yjs equal? %s\" % yeqs)"
   ]
  },
  {
   "cell_type": "code",
   "execution_count": null,
   "metadata": {
    "collapsed": true,
    "deletable": true,
    "editable": true
   },
   "outputs": [],
   "source": [
    "var_cons_dict = estk.var_cons_dict\n",
    "powers = estk.powers\n",
    "digits = estk.digits\n",
    "radix  = estk.radix"
   ]
  },
  {
   "cell_type": "code",
   "execution_count": null,
   "metadata": {
    "collapsed": false,
    "deletable": true,
    "editable": true
   },
   "outputs": [],
   "source": [
    "if not sol_master:\n",
    "    sol_masterk = sub.x_dict\n",
    "    feasUB = 1e100\n",
    "    for sub_ind,sub in iteritems(sub_dict):\n",
    "        yk = np.array([sub.x_dict[v.VarName] for v in sub._ys])        \n",
    "        obj_dict, feas_dict, sub_stats = master.check_feasible(yk)\n",
    "        feasUBk = sum(obj_dict.values())\n",
    "        print(\"feasUB for %s: %s\" % (sub_ind, feasUBk))\n",
    "        if feasUBk < feasUB:\n",
    "            feasUB = feasUBk\n",
    "            sol_masterk = sub.x_dict\n",
    "else:\n",
    "    sol_masterk = sol_master"
   ]
  },
  {
   "cell_type": "code",
   "execution_count": null,
   "metadata": {
    "collapsed": false,
    "deletable": true,
    "editable": true
   },
   "outputs": [],
   "source": [
    "kfit_dict = {}\n",
    "for group_id, var_dict in iteritems(var_cons_dict):\n",
    "    var = var_dict[0]\n",
    "    cons = var_dict[1]\n",
    "    a0  = var_dict[0][2]\n",
    "    kfit = 0.\n",
    "    for l,pwr in enumerate(powers):\n",
    "        for k,digit in enumerate(digits):            \n",
    "            yid = 'binary_%s%s%s' % (group_id,k,l)\n",
    "            y   = sol_masterk[yid]\n",
    "            kfit += y*a0*radix**pwr*digit\n",
    "    kfit_dict[group_id] = kfit\n",
    "\n",
    "kfit_changed = [(k,v, abs(v-a0)/a0) for k,v in iteritems(kfit_dict) if abs(v-a0)/a0>1e-6]\n",
    "print('Changed keffs: %d/%d' % (len(kfit_changed), len(var_cons_dict)))"
   ]
  },
  {
   "cell_type": "code",
   "execution_count": null,
   "metadata": {
    "collapsed": false,
    "deletable": true,
    "editable": true
   },
   "outputs": [],
   "source": [
    "#----------------------------------------\n",
    "# Starting from basal model\n",
    "perrs = []\n",
    "errs_fit = []\n",
    "errs_unfit = []\n",
    "csrcs = df_conds.cond.unique()\n",
    "rows = []\n",
    "for csrc in csrcs:        \n",
    "    ijofit = load_json_model('/home/laurence/ME/models/e_coli_core_pc.json')\n",
    "    #--------------------------------------------------\n",
    "    # Constrain to medium\n",
    "    df_condi = df_conds[ df_conds.cond==csrc]    \n",
    "    for i,row in df_condi.iterrows():\n",
    "        rid = row['rxn']\n",
    "        rxn = ijofit.reactions.get_by_id(rid)\n",
    "        rxn.lower_bound = row['lb']\n",
    "        rxn.upper_bound = row['ub']\n",
    "    # Get unfit growth rate first\n",
    "    crowding = ijofit.metabolites.get_by_id('crowding')\n",
    "    if a0 is not None:\n",
    "        for rxn in ijofit.metabolites.crowding.reactions:\n",
    "            rxn._metabolites[crowding] = a0\n",
    "    ijofit.optimize(solver='gurobi')\n",
    "    mu_unfiti = ijofit.reactions.BIOMASS_Ecoli_core_w_GAM.x\n",
    "    \n",
    "    #--------------------------------------------------\n",
    "    # Fitted    \n",
    "    for rid,kfit in iteritems(kfit_dict):\n",
    "        rxn = ijofit.reactions.get_by_id(rid)\n",
    "        rxn.add_metabolites({crowding:kfit}, combine=False)\n",
    "    \n",
    "    ijofit.optimize(solver='gurobi')\n",
    "    \n",
    "    mu_measi = df_meas[ df_meas.substrate==csrc].growth_rate_1_h.iloc[0]\n",
    "    mu_fiti = ijofit.reactions.BIOMASS_Ecoli_core_w_GAM.x\n",
    "        \n",
    "    err0= 100*(mu_unfiti-mu_measi)/mu_measi\n",
    "    err = 100*(mu_fiti - mu_measi)/mu_measi\n",
    "    derr= 100*(abs(err)-abs(err0))/abs(err0)\n",
    "    perrs.append(err)\n",
    "    errs_unfit.append(mu_unfiti - mu_measi)\n",
    "    errs_fit.append(mu_fiti - mu_measi)\n",
    "    print('Cond=%s. mu_meas=%g. mu_sim=%g (unfit=%g, error=%.3g%%). Error=%.3g%% (%.3g%% change)' % (\n",
    "        csrc, mu_measi, mu_fiti, mu_unfiti, err0, err, derr))\n",
    "    for i,row in df_condi.iterrows():\n",
    "        rid = row['rxn']\n",
    "        rxn = ijofit.reactions.get_by_id(rid)        \n",
    "        print('\\t%s uptake=%g' % (rxn.id, rxn.x))\n",
    "    \n",
    "    rows.append({'substrate':csrc, 'mu_fit':mu_fiti, 'mu_unfit':mu_unfiti, 'mu_meas':mu_measi})\n",
    "\n",
    "perrs = np.array(perrs)\n",
    "errs_fit = np.array(errs_fit)\n",
    "errs_unfit = np.array(errs_unfit)\n",
    "tot_err = sum(abs(errs_fit))\n",
    "tot_err0 = sum(abs(errs_unfit))\n",
    "print(\"Absolute total error: %g\"%(tot_err))\n",
    "print(\"Total error change: %g%%\"%( 100*(tot_err-tot_err0)/tot_err0  ))\n",
    "print(\"Absolute percent error: %g%% -- %g%%\"%(min(abs(perrs)), max(abs(perrs))))\n",
    "print(\"Mean abs percent error = %g%%\"%(np.mean(abs(perrs))))\n",
    "print(\"Median abs percent error = %g%%\"%(np.median(abs(perrs))))"
   ]
  },
  {
   "cell_type": "code",
   "execution_count": null,
   "metadata": {
    "collapsed": false,
    "deletable": true,
    "editable": true
   },
   "outputs": [],
   "source": [
    "from scipy import stats\n",
    "\n",
    "df_results = pd.DataFrame(rows)\n",
    "dsplot = df_results.melt(['substrate','mu_meas'])\n",
    "dsplot.loc[dsplot.variable=='mu_fit','model'] = 'Fit'\n",
    "dsplot.loc[dsplot.variable=='mu_unfit','model'] = 'Unfit'\n",
    "df_perf = dsplot.groupby('variable').apply(lambda x: pd.Series({\n",
    "    'mdape':100*np.median(abs(x['value']-x['mu_meas'])/abs(x['mu_meas'])),\n",
    "    'sse':sum( (x['value']-x['mu_meas'])**2 ),\n",
    "    'rho':stats.spearmanr(x['mu_meas'],x['value'])[0],\n",
    "    'r':stats.pearsonr(x['mu_meas'],x['value'])[0]\n",
    "}))"
   ]
  },
  {
   "cell_type": "code",
   "execution_count": null,
   "metadata": {
    "collapsed": false,
    "deletable": true,
    "editable": true
   },
   "outputs": [],
   "source": [
    "dsplot.variable = dsplot.variable.astype('category')\n",
    "dsplot.model = dsplot.model.astype('category')\n",
    "dsplot.variable.cat.reorder_categories(['mu_unfit','mu_fit'], inplace=True)\n",
    "g = sns.FacetGrid(dsplot, col='variable', hue='model', size=4)\n",
    "g.map(plt.plot, 'mu_meas','value', linestyle='None', marker='o', markeredgecolor='#000000', lw=0.2, markersize=8, alpha=0.75)\n",
    "for ax in g.axes.flat:\n",
    "    ax.plot([0,2],[0,2], zorder=1, color='#333333')\n",
    "    mdl  = ax.get_title().replace('variable = ','')\n",
    "    mdape= df_perf.loc[mdl].mdape\n",
    "    sse  = df_perf.loc[mdl].sse\n",
    "    r    = df_perf.loc[mdl].r\n",
    "    rho  = df_perf.loc[mdl].rho    \n",
    "    ax.set_title('%s (MdAPE=%.3g%%, SSE=%.3g)\\n(r=%.3g, rho=%.3g)'%(mdl,mdape, sse, r,rho))\n",
    "g.set_xlabels('Measured growth rate (h^{-1})')\n",
    "g.set_ylabels('Simulated growth rate (h^{-1})')\n",
    "g.add_legend()"
   ]
  },
  {
   "cell_type": "markdown",
   "metadata": {
    "deletable": true,
    "editable": true
   },
   "source": [
    "## Confirm that all ys the same"
   ]
  },
  {
   "cell_type": "code",
   "execution_count": null,
   "metadata": {
    "collapsed": false,
    "deletable": true,
    "editable": true
   },
   "outputs": [],
   "source": [
    "y_sames = []\n",
    "for y in sub._ys:\n",
    "    sub1 = sub_dict[conds[0]]\n",
    "    sub2 = sub_dict[conds[1]]\n",
    "    y1 = sub1.x_dict[y.VarName]\n",
    "    y2 = sub2.x_dict[y.VarName]\n",
    "    y_sames.append(abs(y1-y2)<1e-10)\n",
    "    print('%12.10s%12.10s%12.10s%12.10s'%(y.VarName,y1,y2, abs(y1-y2)<1e-10))    "
   ]
  },
  {
   "cell_type": "code",
   "execution_count": null,
   "metadata": {
    "collapsed": false,
    "deletable": true,
    "editable": true
   },
   "outputs": [],
   "source": [
    "print('num same = %s/%s'%(sum(y_sames), len(y_sames)))"
   ]
  }
 ],
 "metadata": {
  "kernelspec": {
   "display_name": "Python 2",
   "language": "python",
   "name": "python2"
  },
  "language_info": {
   "codemirror_mode": {
    "name": "ipython",
    "version": 2
   },
   "file_extension": ".py",
   "mimetype": "text/x-python",
   "name": "python",
   "nbconvert_exporter": "python",
   "pygments_lexer": "ipython2",
   "version": "2.7.14"
  }
 },
 "nbformat": 4,
 "nbformat_minor": 2
}
