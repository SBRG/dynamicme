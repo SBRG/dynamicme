{
 "cells": [
  {
   "cell_type": "markdown",
   "metadata": {
    "deletable": true,
    "editable": true
   },
   "source": [
    "# Toy Radix Benders Multicut"
   ]
  },
  {
   "cell_type": "code",
   "execution_count": 1,
   "metadata": {
    "collapsed": true,
    "deletable": true,
    "editable": true
   },
   "outputs": [],
   "source": [
    "PREVENT_ZERO = True\n",
    "REG_WEIGHT = 0. #1e-4    # Regularization weight\n",
    "MAX_NONZERO  = None #48*2\n",
    "CUT_STRATEGY = 'mw'  #'default'"
   ]
  },
  {
   "cell_type": "code",
   "execution_count": 2,
   "metadata": {
    "collapsed": false,
    "deletable": true,
    "editable": true
   },
   "outputs": [],
   "source": [
    "%load_ext line_profiler"
   ]
  },
  {
   "cell_type": "code",
   "execution_count": 3,
   "metadata": {
    "collapsed": false,
    "deletable": true,
    "editable": true
   },
   "outputs": [],
   "source": [
    "from gurobipy import *\n",
    "\n",
    "import seaborn as sns\n",
    "import pandas as pd\n",
    "import matplotlib.pyplot as plt\n",
    "import numpy as np\n",
    "\n",
    "plt.rcParams['svg.fonttype'] = 'none'\n",
    "pd.set_option('display.max_colwidth', -1)\n",
    "%matplotlib inline\n",
    "\n",
    "from dynamicme.decomposition import Decomposer\n",
    "from dynamicme.callback_gurobi import cb_benders\n",
    "from dynamicme.optimize import Optimizer, StackOptimizer\n",
    "from dynamicme.optimize import Constraint, Variable\n",
    "\n",
    "from cobra.io import load_json_model\n",
    "from cobra import Metabolite, Reaction\n",
    "from six import iteritems\n",
    "\n",
    "import numpy as np\n",
    "import cobra"
   ]
  },
  {
   "cell_type": "code",
   "execution_count": 4,
   "metadata": {
    "collapsed": false,
    "deletable": true,
    "editable": true
   },
   "outputs": [
    {
     "name": "stdout",
     "output_type": "stream",
     "text": [
      "0.873921506968\n"
     ]
    }
   ],
   "source": [
    "#----------------------------------------\n",
    "# Starting from basal model\n",
    "ijomc = load_json_model('/home/laurence/ME/models/e_coli_core_pc.json')\n",
    "mdl_ref = ijomc\n",
    "\n",
    "ijomc.optimize()\n",
    "mu_crowd0 = ijomc.reactions.BIOMASS_Ecoli_core_w_GAM.x\n",
    "print(mu_crowd0)"
   ]
  },
  {
   "cell_type": "code",
   "execution_count": 5,
   "metadata": {
    "collapsed": false,
    "deletable": true,
    "editable": true
   },
   "outputs": [],
   "source": [
    "df_meas = pd.read_csv('/home/laurence/ME/data/dynamicME/beg/growth_meas.csv')\n",
    "\n",
    "ex_rxns = [r for r in df_meas.ex_rxn.unique() if mdl_ref.reactions.has_id(r)]\n",
    "df_meas = df_meas[ df_meas.ex_rxn.isin(ex_rxns)]\n",
    "conds = df_meas.substrate.unique()\n",
    "\n",
    "# N_CONDS = len(conds)\n",
    "N_CONDS = 2\n",
    "\n",
    "df_conds = pd.DataFrame([{'cond':r['substrate'], 'rxn':ex_rxn, 'lb':-10 if r['ex_rxn']==ex_rxn else 0, 'ub':1000., 'obj':0.} for i,r in df_meas.iterrows() for ex_rxn in ex_rxns])\n",
    "\n",
    "if N_CONDS<=3:\n",
    "    df_conds = df_conds[ df_conds.cond.isin(['glucose','acetate','succinate'][0:N_CONDS])]\n",
    "else:\n",
    "    df_conds = df_conds[ df_conds.cond.isin(conds[0:N_CONDS])]"
   ]
  },
  {
   "cell_type": "code",
   "execution_count": 6,
   "metadata": {
    "collapsed": false,
    "deletable": true,
    "editable": true
   },
   "outputs": [],
   "source": [
    "df_conds.loc[ (df_conds.cond=='acetate') & (df_conds.rxn=='EX_ac_e'), 'lb'] = -20"
   ]
  },
  {
   "cell_type": "markdown",
   "metadata": {
    "deletable": true,
    "editable": true
   },
   "source": [
    "# 0) DEBUG: test using single problem"
   ]
  },
  {
   "cell_type": "markdown",
   "metadata": {
    "deletable": true,
    "editable": true
   },
   "source": [
    "df_X = df_conds\n",
    "df_Y = df_meas[['substrate','growth_rate_1_h']].rename(columns={'substrate':'cond','growth_rate_1_h':'output'})\n",
    "df_Y.loc[:,'output_id'] = 'BIOMASS_Ecoli_core_w_GAM'\n",
    "\n",
    "from dynamicme.estimate import RadixEstimator\n",
    "base_model = load_json_model('/home/laurence/ME/models/e_coli_core_pc.json')\n",
    "est = RadixEstimator()\n",
    "est.fit(base_model, df_X, df_Y, optimize=False, reg_weight=1e-4)\n",
    "est.optimize()"
   ]
  },
  {
   "cell_type": "markdown",
   "metadata": {
    "deletable": true,
    "editable": true
   },
   "source": [
    "# 0) Load changed keffs to reduce binary vars"
   ]
  },
  {
   "cell_type": "code",
   "execution_count": 7,
   "metadata": {
    "collapsed": false,
    "deletable": true,
    "editable": true
   },
   "outputs": [],
   "source": [
    "import json\n",
    "\n",
    "with open('/home/laurence/ME/data/dynamicME/kfit_changed.json') as f:\n",
    "    kfit_changed = json.load(f)"
   ]
  },
  {
   "cell_type": "code",
   "execution_count": 8,
   "metadata": {
    "collapsed": true,
    "deletable": true,
    "editable": true
   },
   "outputs": [],
   "source": [
    "from dynamicme.decomposition import BendersSubmodel, BendersMaster\n",
    "from dynamicme.generate import copy_model"
   ]
  },
  {
   "cell_type": "code",
   "execution_count": 9,
   "metadata": {
    "collapsed": false,
    "deletable": true,
    "editable": true
   },
   "outputs": [],
   "source": [
    "changed_keffs = [kv[0] for kv in kfit_changed]"
   ]
  },
  {
   "cell_type": "code",
   "execution_count": 10,
   "metadata": {
    "collapsed": false,
    "deletable": true,
    "editable": true
   },
   "outputs": [
    {
     "name": "stdout",
     "output_type": "stream",
     "text": [
      "('Radix:', 2.0)\n",
      "('Powers:', [-1, 0, 1])\n",
      "('Digits:', [1.0])\n",
      "Changed value of parameter InfUnbdInfo to 1\n",
      "   Prev: 0  Min: 0  Max: 1  Default: 0\n",
      "Changed value of parameter InfUnbdInfo to 1\n",
      "   Prev: 0  Min: 0  Max: 1  Default: 0\n",
      "Changed value of parameter LazyConstraints to 1\n",
      "   Prev: 0  Min: 0  Max: 1  Default: 0\n",
      "Changed value of parameter IntFeasTol to 1e-09\n",
      "   Prev: 1e-05  Min: 1e-09  Max: 0.1  Default: 1e-05\n"
     ]
    },
    {
     "name": "stderr",
     "output_type": "stream",
     "text": [
      "/usr/lib/python2.7/site-packages/ipykernel/__main__.py:11 \u001b[1;31mDeprecationWarning\u001b[0m: object of type <type 'float'> cannot be safely interpreted as an integer.\n"
     ]
    }
   ],
   "source": [
    "from dynamicme.optimize import Variable, Constraint\n",
    "import numpy as np\n",
    "\n",
    "radix = 2.\n",
    "print('Radix:',radix)\n",
    "#powers = np.arange(-3,4)\n",
    "powers = [-1, 0, 1]\n",
    "print('Powers:', powers)\n",
    "digits_per_power = radix\n",
    "pwr_max = max(powers)\n",
    "digits = list(set(np.linspace(1, radix-1, digits_per_power)))\n",
    "print('Digits:', digits)\n",
    "\n",
    "# Get the group ID from reference model\n",
    "mu_id = 'BIOMASS_Ecoli_core_w_GAM'\n",
    "mdl_ref = ijomc\n",
    "crowding_ref = mdl_ref.metabolites.crowding\n",
    "conds = df_conds.cond.unique()\n",
    "sub_dict = {}\n",
    "for cond in conds:\n",
    "    mdl_ind = cond\n",
    "    mdl = copy_model(ijomc, suffix='_%s'%mdl_ind)            \n",
    "    opt = Optimizer(mdl)\n",
    "    gap = opt.add_duality_gap_constraint(INF=1e3, inplace=True, index=mdl_ind)\n",
    "    #----------------------------------------------------\n",
    "    # Now, add min abs err\n",
    "    #----------------------------------------------------\n",
    "    for rxn in gap.reactions:\n",
    "        rxn.objective_coefficient = 0.\n",
    "    mu_meas = df_meas[ df_meas.substrate==mdl_ind].growth_rate_1_h.iloc[0]\n",
    "    sp = Variable('sp_%s'%mdl_ind, lower_bound=0., upper_bound=1e3)\n",
    "    sn = Variable('sn_%s'%mdl_ind, lower_bound=0., upper_bound=1e3)\n",
    "    sp.objective_coefficient = (1.-REG_WEIGHT)/(mu_meas+1) #1.\n",
    "    sn.objective_coefficient = (1.-REG_WEIGHT)/(mu_meas+1) #1.\n",
    "    cons = Constraint('abs_err_%s'%mdl_ind)\n",
    "    cons._constraint_sense = 'E'\n",
    "    cons._bound = mu_meas\n",
    "    gap.add_metabolites(cons)\n",
    "    gap.add_reactions([sp,sn])\n",
    "    # mu - mu_meas = sp-sn\n",
    "    # mu -sp + sn = mu_meas\n",
    "    # min sp + sn\n",
    "    sp.add_metabolites({cons:-1.})\n",
    "    sn.add_metabolites({cons:1.})\n",
    "    rxn_mu = gap.reactions.get_by_id(mu_id+'_%s'%mdl_ind)\n",
    "    rxn_mu.add_metabolites({cons:1.})\n",
    "    #----------------------------------------------------    \n",
    "    dfi = df_conds[ df_conds.cond==cond]\n",
    "    var_cons_dict = {}\n",
    "    for rxn_ref in crowding_ref.reactions:\n",
    "        if rxn_ref.id in changed_keffs:\n",
    "            crowding_p = mdl.metabolites.get_by_id('crowding_%s'%mdl_ind)\n",
    "            var_d = mdl.reactions.get_by_id('wa_%s'%crowding_p.id)\n",
    "            rxn_p = mdl.reactions.get_by_id(rxn_ref.id+'_%s'%mdl_ind)\n",
    "            cons_ds = [m for m in var_d.metabolites.keys() if rxn_p.id==m.id]        \n",
    "            a0 = rxn_p.metabolites[crowding_p]\n",
    "            if var_cons_dict.has_key(rxn_ref.id):\n",
    "                var_cons_dict[rxn_ref.id] += [(rxn_p, crowding_p, a0)] + [(var_d, cons_d, a0) for cons_d in cons_ds]\n",
    "            else:\n",
    "                var_cons_dict[rxn_ref.id] = [(rxn_p, crowding_p, a0)] + [(var_d, cons_d, a0) for cons_d in cons_ds]\n",
    "        \n",
    "    opt.to_radix(gap, var_cons_dict, radix, powers, digits=digits, prevent_zero=PREVENT_ZERO)    \n",
    "    sub = BendersSubmodel(gap, cond)\n",
    "    sub_dict[cond] = sub\n",
    "    \n",
    "for group_id in var_cons_dict.keys():\n",
    "    for l,pwr in enumerate(powers):\n",
    "        for k,digit in enumerate(digits):\n",
    "            yid = 'binary_%s%s%s'%(group_id,k,l)\n",
    "            y   = gap.reactions.get_by_id(yid)\n",
    "            ### PREFER pwr=0, digit=1\n",
    "            if pwr==0 and digit==1:\n",
    "                y.objective_coefficient = 0.\n",
    "            else:\n",
    "                y.objective_coefficient = REG_WEIGHT\n",
    "\n",
    "master = BendersMaster(gap)"
   ]
  },
  {
   "cell_type": "code",
   "execution_count": 11,
   "metadata": {
    "collapsed": false,
    "deletable": true,
    "editable": true
   },
   "outputs": [],
   "source": [
    "master.add_submodels(sub_dict)"
   ]
  },
  {
   "cell_type": "code",
   "execution_count": 12,
   "metadata": {
    "collapsed": false,
    "deletable": true,
    "editable": true
   },
   "outputs": [],
   "source": [
    "# mdl1 = sub_dict['acetate'].cobra_model\n",
    "# mdl2 = sub_dict['glucose'].cobra_model\n",
    "# for rxn1 in mdl1.reactions:\n",
    "#     if mdl2.reactions.has_id(rxn1.id):\n",
    "#         rxn2 = mdl2.reactions.get_by_id(rxn1.id)\n",
    "#         print(rxn1,rxn2, rxn1==rxn2)"
   ]
  },
  {
   "cell_type": "code",
   "execution_count": 13,
   "metadata": {
    "collapsed": true,
    "deletable": true,
    "editable": true
   },
   "outputs": [],
   "source": [
    "from dynamicme.callback_gurobi import cb_benders_multi, cb_benders"
   ]
  },
  {
   "cell_type": "code",
   "execution_count": 14,
   "metadata": {
    "collapsed": false
   },
   "outputs": [
    {
     "data": {
      "text/plain": [
       "1e-10"
      ]
     },
     "execution_count": 14,
     "metadata": {},
     "output_type": "execute_result"
    }
   ],
   "source": [
    "master.model.Params.MIPGapAbs"
   ]
  },
  {
   "cell_type": "markdown",
   "metadata": {
    "deletable": true,
    "editable": true
   },
   "source": [
    "# Solve two-phase"
   ]
  },
  {
   "cell_type": "markdown",
   "metadata": {
    "deletable": true,
    "editable": true
   },
   "source": [
    "### Know a feasible point, get core point"
   ]
  },
  {
   "cell_type": "code",
   "execution_count": 15,
   "metadata": {
    "collapsed": false,
    "deletable": true,
    "editable": true
   },
   "outputs": [],
   "source": [
    "# ### Initial core point: y_jkl=1 for digit(k)=1, power(l)=0 forall j\n",
    "# nkeffs = len(var_cons_dict)\n",
    "\n",
    "# var_ind = {v:j for j,v in enumerate(master._ys)}\n",
    "# y0 = np.ones(len(master._ys))\n",
    "# for r in var_cons_dict.keys():\n",
    "#     for k in range(len(digits)):\n",
    "#         for l in range(len(powers)):\n",
    "#             var = master.model.getVarByName('binary_%s%s%s'%(r,k,l))\n",
    "#             ind = var_ind[var]\n",
    "#             if digits[k]==1 and powers[l]==0:                \n",
    "#                 y0[ind] = 1\n",
    "#             else:\n",
    "#                 y0[ind] = 0\n",
    "#             ### Also use as initial feasible solution (and possibly incumbent)\n",
    "#             var.Start = y0[ind]\n",
    "# sum(y0)\n",
    "\n",
    "# # y2 = np.array([0.5*(y.LB+y.UB) for y in master._ys])\n",
    "# # y02 = 0.5*(y0+y2)\n",
    "# # #y0 = 0.5*(y0 + np.ones(len(master._ys)))\n",
    "# # master.y0 = y02"
   ]
  },
  {
   "cell_type": "code",
   "execution_count": 16,
   "metadata": {
    "collapsed": false,
    "deletable": true,
    "editable": true
   },
   "outputs": [],
   "source": [
    "### Make it easer: z and tk are absolute error or sum w*y so >=0\n",
    "master._z.LB = 0.\n",
    "for sub_ind in sub_dict.keys():\n",
    "    tk = master.model.getVarByName('tk_%s'%sub_ind)\n",
    "    tk.LB = 0.\n",
    "master.model.update()"
   ]
  },
  {
   "cell_type": "code",
   "execution_count": 17,
   "metadata": {
    "collapsed": false,
    "deletable": true,
    "editable": true,
    "scrolled": false
   },
   "outputs": [],
   "source": [
    "# master.verbosity = 0\n",
    "# master.print_iter = 20\n",
    "# yopt = master.optimize(single_tree=True, two_phase=True, cut_strategy='mw')"
   ]
  },
  {
   "cell_type": "code",
   "execution_count": 18,
   "metadata": {
    "collapsed": false,
    "deletable": true,
    "editable": true,
    "scrolled": false
   },
   "outputs": [
    {
     "name": "stdout",
     "output_type": "stream",
     "text": [
      "Parameter OutputFlag unchanged\n",
      "   Value: 1  Min: 0  Max: 1  Default: 1\n",
      "Changed value of parameter Presolve to 0\n",
      "   Prev: -1  Min: -1  Max: 2  Default: -1\n",
      "        Iter          UB          LB     Best UB     Best LB         gap   relgap(%)     time(s)\n",
      "           0      1e+100     -1e+100      1e+100     -1e+100      2e+100       200.0    0.000262\n",
      "           1    0.530877         0.0    0.530877         0.0    0.530877  99.9999999    0.050494\n",
      "           2    0.527046         0.0    0.527046         0.0    0.527046  99.9999999    0.079730\n",
      "           3    0.068014         0.0    0.068014         0.0    0.068014  99.9999998    0.138206\n",
      "           4    0.068394         0.0    0.068014         0.0    0.068014  99.9999998    0.162655\n",
      "           5    0.460275         0.0    0.068014         0.0    0.068014  99.9999998    0.201373\n",
      "           6    0.541273         0.0    0.068014         0.0    0.068014  99.9999998    0.245599\n",
      "           7    0.531628         0.0    0.068014         0.0    0.068014  99.9999998    0.279525\n",
      "           8    0.542857         0.0    0.068014         0.0    0.068014  99.9999998    0.320712\n",
      "           9    0.037321         0.0    0.037321         0.0    0.037321  99.9999997    0.345178\n",
      "           9         0.0         0.0         0.0         0.0         0.0         0.0    0.358977\n",
      "relgap (0) < gaptol (0.0001). Done!\n",
      "Changed value of parameter OutputFlag to 1\n",
      "   Prev: 0  Min: 0  Max: 1  Default: 1\n"
     ]
    }
   ],
   "source": [
    "#master.model.Params.NumericFocus = 3\n",
    "master.model.Params.OutputFlag = 1\n",
    "#master.model.Params.ScaleFlag = 0\n",
    "master.model.Params.Presolve = 0   # Don't let presolve remove rows\n",
    "master._verbosity = 2\n",
    "master.print_iter = 1\n",
    "master.max_iter = 300\n",
    "master.solve_relaxed(cut_strategy=CUT_STRATEGY)"
   ]
  },
  {
   "cell_type": "code",
   "execution_count": 19,
   "metadata": {
    "collapsed": false,
    "deletable": true,
    "editable": true
   },
   "outputs": [],
   "source": [
    "from cobra.solvers.gurobi_solver import status_dict"
   ]
  },
  {
   "cell_type": "code",
   "execution_count": 20,
   "metadata": {
    "collapsed": false,
    "deletable": true,
    "editable": true
   },
   "outputs": [
    {
     "name": "stdout",
     "output_type": "stream",
     "text": [
      "('acetate', 'unbounded')\n",
      "('glucose', 'unbounded')\n"
     ]
    }
   ],
   "source": [
    "for sub in master.sub_dict.values():\n",
    "    print(sub._id, status_dict[sub.model.Status])"
   ]
  },
  {
   "cell_type": "code",
   "execution_count": 21,
   "metadata": {
    "collapsed": false
   },
   "outputs": [],
   "source": [
    "try:\n",
    "    for sub_ind,sub in iteritems(master.sub_dict):\n",
    "        print(\"sub=%s. umax=%g\"%(sub_ind, sub.maximal_dict['u']))\n",
    "except:\n",
    "    pass"
   ]
  },
  {
   "cell_type": "markdown",
   "metadata": {
    "deletable": true,
    "editable": true
   },
   "source": [
    "## If not, continue"
   ]
  },
  {
   "cell_type": "code",
   "execution_count": 22,
   "metadata": {
    "collapsed": false,
    "deletable": true,
    "editable": true,
    "scrolled": false
   },
   "outputs": [
    {
     "name": "stdout",
     "output_type": "stream",
     "text": [
      "        Iter          UB          LB     Best UB     Best LB         gap   relgap(%)     time(s)\n",
      "           0      1e+100     -1e+100      1e+100     -1e+100      2e+100       200.0    0.000349\n",
      "           1    0.568942         0.0    0.568942         0.0    0.568942  99.9999999    0.056083\n",
      "           2    0.475922         0.0    0.475922         0.0    0.475922  99.9999999    0.085788\n",
      "           3    0.548144         0.0    0.475922         0.0    0.475922  99.9999999    0.130328\n",
      "Submodel acetate is infeasible! Attempting fix.\n",
      "Submodel without mw constraint: optimal (2)\n",
      "Submodel glucose is infeasible! Attempting fix.\n",
      "Submodel without mw constraint: optimal (2)\n",
      "           4    0.542972    0.103366    0.475922    0.103366    0.372556  78.2808350    0.167475\n",
      "           5    0.568942    0.168463    0.475922    0.168463    0.307459  64.6027876    0.204366\n",
      "           6    0.568942    0.202750    0.475922    0.202750    0.273172  57.3984904    0.241553\n",
      "           7    0.491975    0.013818    0.475922    0.013818    0.462104  97.0964820    0.269560\n",
      "           8    0.491975         0.0    0.475922         0.0    0.475922  99.9999999    0.298001\n",
      "           9    0.491975         0.0    0.475922         0.0    0.475922  99.9999999    0.325933\n",
      "           9         0.0         0.0         0.0         0.0         0.0         0.0    0.344790\n",
      "relgap (0) < gaptol (0.0001). Done!\n",
      "Changed value of parameter OutputFlag to 1\n",
      "   Prev: 0  Min: 0  Max: 1  Default: 1\n"
     ]
    }
   ],
   "source": [
    "master.verbosity = 1\n",
    "master.print_iter = 1\n",
    "master.max_iter = 100\n",
    "for sub in master.sub_dict.values():\n",
    "    sub.maximal_dict['u'] = None\n",
    "yopt = master.optimize(single_tree=False, two_phase=False, cut_strategy=CUT_STRATEGY)"
   ]
  },
  {
   "cell_type": "markdown",
   "metadata": {},
   "source": [
    "# Error: LB not increasing monotonically!"
   ]
  },
  {
   "cell_type": "code",
   "execution_count": 23,
   "metadata": {
    "collapsed": false
   },
   "outputs": [
    {
     "data": {
      "text/plain": [
       "1e-06"
      ]
     },
     "execution_count": 23,
     "metadata": {},
     "output_type": "execute_result"
    }
   ],
   "source": [
    "sub.model.Params.FeasibilityTol"
   ]
  },
  {
   "cell_type": "code",
   "execution_count": 24,
   "metadata": {
    "collapsed": false,
    "deletable": true,
    "editable": true
   },
   "outputs": [
    {
     "name": "stdout",
     "output_type": "stream",
     "text": [
      "('acetate', 'unbounded')\n",
      "('glucose', 'unbounded')\n"
     ]
    }
   ],
   "source": [
    "for sub in master.sub_dict.values():\n",
    "    print(sub._id, status_dict[sub.model.Status])"
   ]
  },
  {
   "cell_type": "code",
   "execution_count": 25,
   "metadata": {
    "collapsed": false,
    "deletable": true,
    "editable": true
   },
   "outputs": [],
   "source": [
    "try:\n",
    "    for sub_ind,sub in iteritems(master.sub_dict):\n",
    "        print(\"sub=%s. umax=%g\"%(sub_ind, sub.maximal_dict['u']))\n",
    "except:\n",
    "    pass"
   ]
  },
  {
   "cell_type": "code",
   "execution_count": 26,
   "metadata": {
    "collapsed": false,
    "deletable": true,
    "editable": true
   },
   "outputs": [
    {
     "data": {
      "text/plain": [
       "0.0"
      ]
     },
     "execution_count": 26,
     "metadata": {},
     "output_type": "execute_result"
    }
   ],
   "source": [
    "master.model.NodeCount"
   ]
  },
  {
   "cell_type": "code",
   "execution_count": 27,
   "metadata": {
    "collapsed": false
   },
   "outputs": [
    {
     "data": {
      "text/plain": [
       "0.0"
      ]
     },
     "execution_count": 27,
     "metadata": {},
     "output_type": "execute_result"
    }
   ],
   "source": [
    "master.model.ObjVal"
   ]
  },
  {
   "cell_type": "code",
   "execution_count": 28,
   "metadata": {
    "collapsed": false
   },
   "outputs": [
    {
     "data": {
      "text/plain": [
       "<gurobi.Var z (value 0.0)>"
      ]
     },
     "execution_count": 28,
     "metadata": {},
     "output_type": "execute_result"
    }
   ],
   "source": [
    "master._z"
   ]
  },
  {
   "cell_type": "code",
   "execution_count": 29,
   "metadata": {
    "collapsed": false,
    "deletable": true,
    "editable": true
   },
   "outputs": [],
   "source": [
    "# master.feascuts"
   ]
  },
  {
   "cell_type": "markdown",
   "metadata": {
    "deletable": true,
    "editable": true
   },
   "source": [
    "## feascut added the infeasible constraint:\n",
    "gurobi.TempConstr: gurobi.LinExpr: 1.0  <= 0,"
   ]
  },
  {
   "cell_type": "markdown",
   "metadata": {
    "collapsed": false,
    "deletable": true,
    "editable": true,
    "scrolled": false
   },
   "source": [
    "master.precision_sub = 'gurobi'\n",
    "master.max_iter = 1000\n",
    "yopt = master.optimize(two_phase=True, cut_strategy='mw')"
   ]
  },
  {
   "cell_type": "code",
   "execution_count": 30,
   "metadata": {
    "collapsed": false,
    "deletable": true,
    "editable": true
   },
   "outputs": [
    {
     "name": "stdout",
     "output_type": "stream",
     "text": [
      "('optcuts:', 0)\n",
      "('feascuts:', 0)\n"
     ]
    }
   ],
   "source": [
    "print('optcuts:', len(master.optcuts))\n",
    "print('feascuts:',len(master.feascuts))"
   ]
  },
  {
   "cell_type": "code",
   "execution_count": 31,
   "metadata": {
    "collapsed": false,
    "deletable": true,
    "editable": true
   },
   "outputs": [],
   "source": [
    "# sum(master.int_sols)/len(master.int_sols)"
   ]
  },
  {
   "cell_type": "code",
   "execution_count": 32,
   "metadata": {
    "collapsed": false,
    "deletable": true,
    "editable": true
   },
   "outputs": [
    {
     "data": {
      "text/plain": [
       "5"
      ]
     },
     "execution_count": 32,
     "metadata": {},
     "output_type": "execute_result"
    }
   ],
   "source": [
    "len(master.int_sols)"
   ]
  },
  {
   "cell_type": "markdown",
   "metadata": {
    "collapsed": false,
    "deletable": true,
    "editable": true
   },
   "source": [
    "c = sub.model.model.getConstrByName('fixobjval')\n",
    "print(c.RHS)\n",
    "sub.model.model.getRow(c)"
   ]
  },
  {
   "cell_type": "markdown",
   "metadata": {
    "collapsed": false,
    "deletable": true,
    "editable": true
   },
   "source": [
    "sub.model.model.getObjective()"
   ]
  },
  {
   "cell_type": "code",
   "execution_count": 33,
   "metadata": {
    "collapsed": false,
    "deletable": true,
    "editable": true
   },
   "outputs": [],
   "source": [
    "master.y0"
   ]
  },
  {
   "cell_type": "markdown",
   "metadata": {
    "deletable": true,
    "editable": true
   },
   "source": [
    "from dynamicme.callback_gurobi import constraint_satisfied\n",
    "x_dict = {v:v.X for v in master.model.getVars()}\n",
    "for c in list(master.optcuts) + list(master.feascuts):\n",
    "    print(constraint_satisfied(c, x_dict, master.model.Params.FeasibilityTol))\n",
    "    if not constraint_satisfied(c, x_dict, master.model.Params.FeasibilityTol):\n",
    "        print(c)"
   ]
  },
  {
   "cell_type": "code",
   "execution_count": 34,
   "metadata": {
    "collapsed": false,
    "deletable": true,
    "editable": true
   },
   "outputs": [],
   "source": [
    "# x_dict"
   ]
  },
  {
   "cell_type": "code",
   "execution_count": 35,
   "metadata": {
    "collapsed": false,
    "deletable": true,
    "editable": true
   },
   "outputs": [],
   "source": [
    "# yopt = master.solve_loop()"
   ]
  },
  {
   "cell_type": "code",
   "execution_count": 36,
   "metadata": {
    "collapsed": false,
    "deletable": true,
    "editable": true
   },
   "outputs": [],
   "source": [
    "#master.model.Params.Presolve = 0\n",
    "#master.model.Params.ScaleFlag = 0\n",
    "#master.model.Params.Heuristics = 0   # cbLazy might be bugged by heuristics"
   ]
  },
  {
   "cell_type": "markdown",
   "metadata": {
    "deletable": true,
    "editable": true
   },
   "source": [
    "master.model.Params.OutputFlag = 1\n",
    "master._verbosity = 1\n",
    "master.model.optimize(cb_benders_multi)"
   ]
  },
  {
   "cell_type": "markdown",
   "metadata": {
    "deletable": true,
    "editable": true
   },
   "source": [
    "## For faster debugging, only keep binary for known keff changes"
   ]
  },
  {
   "cell_type": "markdown",
   "metadata": {
    "collapsed": false,
    "deletable": true,
    "editable": true
   },
   "source": [
    "### Initial core point: y_jkl=1 for digit(k)=1, power(l)=0 forall j\n",
    "nkeffs = len(var_cons_dict)\n",
    "\n",
    "var_ind = {v:j for j,v in enumerate(master._ys)}\n",
    "y0 = np.ones(len(master._ys))\n",
    "for r in var_cons_dict.keys():\n",
    "    for k in range(len(digits)):\n",
    "        for l in range(len(powers)):\n",
    "            var = master.model.getVarByName('binary_%s%s%s'%(r,k,l))\n",
    "            ind = var_ind[var]\n",
    "            if digits[k]==1 and powers[l]==0:                \n",
    "                y0[ind] = 1\n",
    "            else:\n",
    "                y0[ind] = 0\n",
    "            ### Also use as initial feasible solution (and possibly incumbent)\n",
    "            var.Start = y0[ind]\n",
    "sum(y0)"
   ]
  },
  {
   "cell_type": "markdown",
   "metadata": {
    "deletable": true,
    "editable": true
   },
   "source": [
    "def opt_nondom(sub, y0):\n",
    "    # Add or update the constraint for same obj\n",
    "    cons = sub.model.model.getConstrByName('fixobjval')\n",
    "    if cons is None:\n",
    "        expr = sub.model.model.getObjective() == sub.model.model.ObjVal\n",
    "        cons = sub.model.model.addConstr(expr, name='fixobjval')\n",
    "    else:\n",
    "        cons.RHS = sub.model.model.ObjVal\n",
    "        obj = sub.model.model.getObjective()\n",
    "        for j in range(obj.size()):\n",
    "            v = obj.getVar(j)\n",
    "            sub.model.model.chgCoeff(cons, v, obj.getCoeff(j))\n",
    "    # Change the objective function\n",
    "    sub.update_obj(y0)\n",
    "    sub.model.optimize()\n",
    "    # Relax the constraint for next iter\n",
    "    cons.Sense = GRB.LESS_EQUAL\n",
    "    cons.RHS   = GRB.INFINITY"
   ]
  },
  {
   "cell_type": "code",
   "execution_count": 37,
   "metadata": {
    "collapsed": false,
    "deletable": true,
    "editable": true
   },
   "outputs": [
    {
     "name": "stdout",
     "output_type": "stream",
     "text": [
      "Number of non-zero binaries: 29\n"
     ]
    }
   ],
   "source": [
    "sol_master = {x.VarName:x.X for x in master.model.getVars()}\n",
    "#yopt = [sol_master[y.VarName] for y in master._ys]\n",
    "print('Number of non-zero binaries: %g' % sum(yopt))\n",
    "# Fitted parameters"
   ]
  },
  {
   "cell_type": "markdown",
   "metadata": {
    "collapsed": true,
    "deletable": true,
    "editable": true
   },
   "source": [
    "sol_master = est.solution.x_dict\n",
    "var_cons_dict = est.var_cons_dict\n",
    "powers = est.powers\n",
    "digits = est.digits\n",
    "radix  = est.radix"
   ]
  },
  {
   "cell_type": "code",
   "execution_count": 38,
   "metadata": {
    "collapsed": false,
    "deletable": true,
    "editable": true
   },
   "outputs": [
    {
     "name": "stdout",
     "output_type": "stream",
     "text": [
      "Changed keffs: 15/22\n",
      "Cond=glucose. mu_meas=0.74. mu_sim=0.873922 (unfit=0.873922, error=18.1%). Error=18.1% (1.86e-10% change)\n",
      "\tEX_glc__D_e uptake=-10\n",
      "\tEX_fru_e uptake=0\n",
      "\tEX_succ_e uptake=0\n",
      "\tEX_mal__L_e uptake=0\n",
      "\tEX_ac_e uptake=0\n",
      "Cond=acetate. mu_meas=0.256. mu_sim=0.389313 (unfit=0.389313, error=52.1%). Error=52.1% (1.59e-09% change)\n",
      "\tEX_glc__D_e uptake=0\n",
      "\tEX_fru_e uptake=0\n",
      "\tEX_succ_e uptake=0\n",
      "\tEX_mal__L_e uptake=0\n",
      "\tEX_ac_e uptake=-20\n"
     ]
    }
   ],
   "source": [
    "kfit_dict = {}\n",
    "for group_id, var_dict in iteritems(var_cons_dict):\n",
    "    var = var_dict[0]\n",
    "    cons = var_dict[1]\n",
    "    a0  = var_dict[0][2]\n",
    "    kfit = 0.\n",
    "    for l,pwr in enumerate(powers):\n",
    "        for k,digit in enumerate(digits):            \n",
    "            yid = 'binary_%s%s%s' % (group_id,k,l)\n",
    "            y   = sol_master[yid]\n",
    "#             if abs(y)>1e-10:\n",
    "#                 print('%s. Value=%s. Power=%g. Digit=%g' % (yid, y, pwr, digit))            \n",
    "            kfit += y*a0*radix**pwr*digit\n",
    "    kfit_dict[group_id] = kfit\n",
    "\n",
    "kfit_changed = [(k,v, abs(v-a0)/a0) for k,v in iteritems(kfit_dict) if abs(v-a0)/a0>1e-6]\n",
    "print('Changed keffs: %d/%d' % (len(kfit_changed), len(var_cons_dict)))\n",
    "# print('kfit_changed:',kfit_changed)\n",
    "\n",
    "#----------------------------------------\n",
    "# Starting from basal model\n",
    "csrcs = df_conds.cond.unique()\n",
    "for csrc in csrcs:    \n",
    "    ijofit = load_json_model('/home/laurence/ME/models/e_coli_core_pc.json')\n",
    "    crowding = ijofit.metabolites.get_by_id('crowding')\n",
    "    df_condi = df_conds[ df_conds.cond==csrc]    \n",
    "    for i,row in df_condi.iterrows():\n",
    "        rid = row['rxn']\n",
    "        rxn = ijofit.reactions.get_by_id(rid)\n",
    "        rxn.lower_bound = row['lb']\n",
    "        rxn.upper_bound = row['ub']\n",
    "\n",
    "    for rid,kfit in iteritems(kfit_dict):\n",
    "        rxn = ijofit.reactions.get_by_id(rid)\n",
    "        rxn.add_metabolites({crowding:kfit}, combine=False)\n",
    "    \n",
    "    ijofit.optimize()\n",
    "    \n",
    "    mu_measi = df_meas[ df_meas.substrate==csrc].growth_rate_1_h.iloc[0]\n",
    "    mu_fiti = ijofit.reactions.BIOMASS_Ecoli_core_w_GAM.x\n",
    "    \n",
    "    # Get unfit\n",
    "    for rxn in ijofit.metabolites.crowding.reactions:\n",
    "        rxn._metabolites[crowding] = a0\n",
    "    ijofit.optimize()\n",
    "    mu_unfiti = ijofit.reactions.BIOMASS_Ecoli_core_w_GAM.x\n",
    "    err0= 100*(mu_unfiti-mu_measi)/mu_measi\n",
    "    err = 100*(mu_fiti - mu_measi)/mu_measi\n",
    "    derr= 100*(abs(err)-abs(err0))/abs(err0)\n",
    "    print('Cond=%s. mu_meas=%g. mu_sim=%g (unfit=%g, error=%.3g%%). Error=%.3g%% (%.3g%% change)' % (csrc, mu_measi, mu_fiti, mu_unfiti, err0, err, derr))\n",
    "    for i,row in df_condi.iterrows():\n",
    "        rid = row['rxn']\n",
    "        rxn = ijofit.reactions.get_by_id(rid)        \n",
    "        print('\\t%s uptake=%g' % (rxn.id, rxn.x))"
   ]
  },
  {
   "cell_type": "markdown",
   "metadata": {
    "collapsed": false,
    "deletable": true,
    "editable": true
   },
   "source": [
    "import json\n",
    "\n",
    "with open('/home/laurence/ME/data/dynamicME/kfit_changed.json','w') as f:\n",
    "    json.dump(kfit_changed,f)"
   ]
  }
 ],
 "metadata": {
  "kernelspec": {
   "display_name": "Python 2",
   "language": "python",
   "name": "python2"
  },
  "language_info": {
   "codemirror_mode": {
    "name": "ipython",
    "version": 2
   },
   "file_extension": ".py",
   "mimetype": "text/x-python",
   "name": "python",
   "nbconvert_exporter": "python",
   "pygments_lexer": "ipython2",
   "version": "2.7.14"
  }
 },
 "nbformat": 4,
 "nbformat_minor": 2
}
