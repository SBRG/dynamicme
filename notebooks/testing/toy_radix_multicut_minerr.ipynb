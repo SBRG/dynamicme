{
 "cells": [
  {
   "cell_type": "markdown",
   "metadata": {
    "deletable": true,
    "editable": true
   },
   "source": [
    "# Toy Radix Benders Multicut"
   ]
  },
  {
   "cell_type": "code",
   "execution_count": 1,
   "metadata": {
    "collapsed": true,
    "deletable": true,
    "editable": true
   },
   "outputs": [],
   "source": [
    "SCALE_CROWDING=False\n",
    "PREVENT_ZERO = True\n",
    "REG_WEIGHT = 1e-5    # Regularization weight"
   ]
  },
  {
   "cell_type": "code",
   "execution_count": 2,
   "metadata": {
    "collapsed": false,
    "deletable": true,
    "editable": true
   },
   "outputs": [],
   "source": [
    "%load_ext line_profiler"
   ]
  },
  {
   "cell_type": "code",
   "execution_count": 3,
   "metadata": {
    "collapsed": false,
    "deletable": true,
    "editable": true
   },
   "outputs": [
    {
     "name": "stdout",
     "output_type": "stream",
     "text": [
      "(<type 'exceptions.ImportError'>, ImportError('No module named cplex',), <traceback object at 0x7f2db240f6c8>)\n"
     ]
    }
   ],
   "source": [
    "from gurobipy import *\n",
    "\n",
    "import seaborn as sns\n",
    "import pandas as pd\n",
    "import matplotlib.pyplot as plt\n",
    "import numpy as np\n",
    "\n",
    "plt.rcParams['svg.fonttype'] = 'none'\n",
    "pd.set_option('display.max_colwidth', -1)\n",
    "%matplotlib inline\n",
    "\n",
    "from dynamicme.decomposition import Decomposer\n",
    "from dynamicme.callback_gurobi import cb_benders\n",
    "from dynamicme.optimize import Optimizer, StackOptimizer\n",
    "from dynamicme.optimize import Constraint, Variable\n",
    "\n",
    "from cobra.io import load_json_model\n",
    "from cobra import Metabolite, Reaction\n",
    "from six import iteritems\n",
    "\n",
    "import numpy as np\n",
    "import cobra"
   ]
  },
  {
   "cell_type": "markdown",
   "metadata": {
    "deletable": true,
    "editable": true
   },
   "source": [
    "### Try optimizing using radix for one condition first"
   ]
  },
  {
   "cell_type": "code",
   "execution_count": 4,
   "metadata": {
    "collapsed": true,
    "deletable": true,
    "editable": true
   },
   "outputs": [],
   "source": [
    "#----------------------------------------\n",
    "# Starting from basal model\n",
    "ijomc = load_json_model('/home/laurence/ME/models/BiGG_M/json/e_coli_core.json')\n",
    "mdl_ref = ijomc\n",
    "keff0 = 1./65/3600\n",
    "#crowding_bound = 0.0003\n",
    "crowding_bound0 = 0.001\n",
    "crowding_bound = crowding_bound0\n",
    "\n",
    "not_crowded = ['ATPM']\n",
    "rxns_c = [r for r in ijomc.reactions if all([m.compartment=='c' for m in r.metabolites.keys()]) and 'BIOMASS' not in r.id and r.id not in not_crowded]\n",
    "crowding_dict = {rxn:keff0 for rxn in rxns_c}\n",
    "#----------------------------------------\n",
    "\n",
    "# Temporarily add crowding constraint for the duality gap constraint\n",
    "crowding = Constraint('crowding')\n",
    "crowding._bound = crowding_bound\n",
    "crowding._constraint_sense = 'L'\n",
    "for rxn,keff in iteritems(crowding_dict):\n",
    "    rxn.add_metabolites({crowding:keff})"
   ]
  },
  {
   "cell_type": "code",
   "execution_count": 5,
   "metadata": {
    "collapsed": false,
    "deletable": true,
    "editable": true
   },
   "outputs": [
    {
     "name": "stdout",
     "output_type": "stream",
     "text": [
      "0.873921506968\n"
     ]
    }
   ],
   "source": [
    "ijomc.optimize()\n",
    "mu_crowd0 = ijomc.reactions.BIOMASS_Ecoli_core_w_GAM.x\n",
    "print(mu_crowd0)"
   ]
  },
  {
   "cell_type": "code",
   "execution_count": 6,
   "metadata": {
    "collapsed": true,
    "deletable": true,
    "editable": true
   },
   "outputs": [],
   "source": [
    "df_meas = pd.read_csv('/home/laurence/ME/data/dynamicME/beg/growth_meas.csv')\n",
    "\n",
    "ex_rxns = [r for r in df_meas.ex_rxn.unique() if mdl_ref.reactions.has_id(r)]\n",
    "df_meas = df_meas[ df_meas.ex_rxn.isin(ex_rxns)]\n",
    "conds = df_meas.substrate.unique()\n",
    "\n",
    "#N_CONDS = len(conds)\n",
    "N_CONDS = 2\n",
    "\n",
    "df_conds = pd.DataFrame([{'cond':r['substrate'], 'rxn':ex_rxn, 'lb':-10 if r['ex_rxn']==ex_rxn else 0, 'ub':1000., 'obj':0.} for i,r in df_meas.iterrows() for ex_rxn in ex_rxns])\n",
    "\n",
    "if N_CONDS<=3:\n",
    "    df_conds = df_conds[ df_conds.cond.isin(['glucose','acetate','succinate'][0:N_CONDS])]\n",
    "else:\n",
    "    df_conds = df_conds[ df_conds.cond.isin(conds[0:N_CONDS])]"
   ]
  },
  {
   "cell_type": "markdown",
   "metadata": {
    "deletable": true,
    "editable": true
   },
   "source": [
    "## Need to allow higher growth for acetate with higher uptake rate"
   ]
  },
  {
   "cell_type": "code",
   "execution_count": 7,
   "metadata": {
    "collapsed": true,
    "deletable": true,
    "editable": true
   },
   "outputs": [],
   "source": [
    "df_conds.loc[ (df_conds.cond=='acetate') & (df_conds.rxn=='EX_ac_e'), 'lb'] = -20"
   ]
  },
  {
   "cell_type": "code",
   "execution_count": 8,
   "metadata": {
    "collapsed": true,
    "deletable": true,
    "editable": true
   },
   "outputs": [],
   "source": [
    "from dynamicme.decomposition import BendersSubmodel, BendersMaster\n",
    "from dynamicme.generate import copy_model"
   ]
  },
  {
   "cell_type": "code",
   "execution_count": 9,
   "metadata": {
    "collapsed": false,
    "deletable": true,
    "editable": true
   },
   "outputs": [
    {
     "name": "stdout",
     "output_type": "stream",
     "text": [
      "('Radix:', 2.0)\n",
      "('Powers:', [-1, 0, 1])\n",
      "('Digits:', [1.0])\n",
      "Changed value of parameter InfUnbdInfo to 1\n",
      "   Prev: 0  Min: 0  Max: 1  Default: 0\n"
     ]
    },
    {
     "name": "stderr",
     "output_type": "stream",
     "text": [
      "/usr/lib/python2.7/site-packages/ipykernel/__main__.py:11 \u001b[1;31mDeprecationWarning\u001b[0m: object of type <type 'float'> cannot be safely interpreted as an integer.\n"
     ]
    },
    {
     "name": "stdout",
     "output_type": "stream",
     "text": [
      "Changed value of parameter InfUnbdInfo to 1\n",
      "   Prev: 0  Min: 0  Max: 1  Default: 0\n",
      "Changed value of parameter Presolve to 0\n",
      "   Prev: -1  Min: -1  Max: 2  Default: -1\n",
      "Changed value of parameter LazyConstraints to 1\n",
      "   Prev: 0  Min: 0  Max: 1  Default: 0\n",
      "Changed value of parameter IntFeasTol to 1e-09\n",
      "   Prev: 1e-05  Min: 1e-09  Max: 0.1  Default: 1e-05\n"
     ]
    }
   ],
   "source": [
    "from dynamicme.optimize import Variable, Constraint\n",
    "import numpy as np\n",
    "\n",
    "radix = 2.\n",
    "print('Radix:',radix)\n",
    "#powers = np.arange(-3,4)\n",
    "powers = [-1, 0, 1]\n",
    "print('Powers:', powers)\n",
    "digits_per_power = radix\n",
    "pwr_max = max(powers)\n",
    "digits = list(set(np.linspace(1, radix-1, digits_per_power)))\n",
    "print('Digits:', digits)\n",
    "\n",
    "# Get the group ID from reference model\n",
    "mu_id = 'BIOMASS_Ecoli_core_w_GAM'\n",
    "mdl_ref = ijomc\n",
    "crowding_ref = mdl_ref.metabolites.crowding\n",
    "conds = df_conds.cond.unique()\n",
    "sub_dict = {}\n",
    "for cond in conds:\n",
    "    mdl_ind = cond\n",
    "    mdl = copy_model(ijomc, suffix='_%s'%mdl_ind)            \n",
    "    opt = Optimizer(mdl)\n",
    "    gap = opt.add_duality_gap_constraint(INF=1e3, inplace=True, index=mdl_ind)\n",
    "    #----------------------------------------------------\n",
    "    # Now, add min abs err\n",
    "    #----------------------------------------------------\n",
    "    for rxn in gap.reactions:\n",
    "        rxn.objective_coefficient = 0.\n",
    "    mu_meas = df_meas[ df_meas.substrate==mdl_ind].growth_rate_1_h.iloc[0]\n",
    "    sp = Variable('sp_%s'%mdl_ind, lower_bound=0., upper_bound=1e3)\n",
    "    sn = Variable('sn_%s'%mdl_ind, lower_bound=0., upper_bound=1e3)\n",
    "    sp.objective_coefficient = (1./REG_WEIGHT) #1.\n",
    "    sn.objective_coefficient = (1./REG_WEIGHT) #1.\n",
    "    cons = Constraint('abs_err_%s'%mdl_ind)\n",
    "    cons._constraint_sense = 'E'\n",
    "    cons._bound = mu_meas\n",
    "    gap.add_metabolites(cons)\n",
    "    gap.add_reactions([sp,sn])\n",
    "    # mu - mu_meas = sp-sn\n",
    "    # mu -sp + sn = mu_meas\n",
    "    # min sp + sn\n",
    "    sp.add_metabolites({cons:-1.})\n",
    "    sn.add_metabolites({cons:1.})\n",
    "    rxn_mu = gap.reactions.get_by_id(mu_id+'_%s'%mdl_ind)\n",
    "    rxn_mu.add_metabolites({cons:1.})\n",
    "    #----------------------------------------------------\n",
    "    \n",
    "    dfi = df_conds[ df_conds.cond==cond]\n",
    "    var_cons_dict = {}\n",
    "    for rxn_ref in crowding_ref.reactions:    \n",
    "        crowding_p = mdl.metabolites.get_by_id('crowding_%s'%mdl_ind)\n",
    "        var_d = mdl.reactions.get_by_id('wa_%s'%crowding_p.id)\n",
    "        rxn_p = mdl.reactions.get_by_id(rxn_ref.id+'_%s'%mdl_ind)\n",
    "        cons_ds = [m for m in var_d.metabolites.keys() if rxn_p.id==m.id]        \n",
    "        a0 = rxn_p.metabolites[crowding_p]\n",
    "        if var_cons_dict.has_key(rxn_ref.id):\n",
    "            var_cons_dict[rxn_ref.id] += [(rxn_p, crowding_p, a0)] + [(var_d, cons_d, a0) for cons_d in cons_ds]\n",
    "        else:\n",
    "            var_cons_dict[rxn_ref.id] = [(rxn_p, crowding_p, a0)] + [(var_d, cons_d, a0) for cons_d in cons_ds]\n",
    "        \n",
    "    opt.to_radix(gap, var_cons_dict, radix, powers, digits=digits, prevent_zero=PREVENT_ZERO)    \n",
    "    sub = BendersSubmodel(gap, cond)\n",
    "    sub_dict[cond] = sub\n",
    "    \n",
    "for group_id in var_cons_dict.keys():\n",
    "    for l,pwr in enumerate(powers):\n",
    "        for k,digit in enumerate(digits):\n",
    "            yid = 'binary_%s%s%s'%(group_id,k,l)\n",
    "            y   = gap.reactions.get_by_id(yid)\n",
    "            ### PREFER pwr=0, digit=1\n",
    "            if pwr==0 and digit==1:\n",
    "                y.objective_coefficient = 0.\n",
    "            else:\n",
    "                y.objective_coefficient = REG_WEIGHT\n",
    "    \n",
    "master = BendersMaster(gap)"
   ]
  },
  {
   "cell_type": "code",
   "execution_count": 10,
   "metadata": {
    "collapsed": false,
    "deletable": true,
    "editable": true
   },
   "outputs": [],
   "source": [
    "master.add_submodels(sub_dict)"
   ]
  },
  {
   "cell_type": "code",
   "execution_count": 11,
   "metadata": {
    "collapsed": false,
    "deletable": true,
    "editable": true
   },
   "outputs": [
    {
     "name": "stdout",
     "output_type": "stream",
     "text": [
      "(<gurobi.LinExpr: z + -1e-05 binary_G6PDH2r00 + -1e-05 binary_G6PDH2r02 + -1e-05 binary_AKGDH00 + -1e-05 binary_AKGDH02 + -1e-05 binary_ME200 + -1e-05 binary_ME202 + -1e-05 binary_PGK00 + -1e-05 binary_PGK02 + -1e-05 binary_GLUN00 + -1e-05 binary_GLUN02 + -1e-05 binary_ME100 + -1e-05 binary_ME102 + -1e-05 binary_GND00 + -1e-05 binary_GND02 + -1e-05 binary_ACKr00 + -1e-05 binary_ACKr02 + -1e-05 binary_GLNS00 + -1e-05 binary_GLNS02 + -1e-05 binary_ADK100 + -1e-05 binary_ADK102 + -1e-05 binary_SUCDi00 + -1e-05 binary_SUCDi02 + -1e-05 binary_PPC00 + -1e-05 binary_PPC02 + -1e-05 binary_MDH00 + -1e-05 binary_MDH02 + -1e-05 binary_FUM00 + -1e-05 binary_FUM02 + -1e-05 binary_GLUDy00 + -1e-05 binary_GLUDy02 + -1e-05 binary_GLUSy00 + -1e-05 binary_GLUSy02 + -1e-05 binary_PGL00 + -1e-05 binary_PGL02 + -1e-05 binary_PGM00 + -1e-05 binary_PGM02 + -1e-05 binary_ACALD00 + -1e-05 binary_ACALD02 + -1e-05 binary_MALS00 + -1e-05 binary_MALS02 + -1e-05 binary_PGI00 + -1e-05 binary_PGI02 + -1e-05 binary_PPS00 + -1e-05 binary_PPS02 + -1e-05 binary_PTAr00 + -1e-05 binary_PTAr02 + -1e-05 binary_RPE00 + -1e-05 binary_RPE02 + -1e-05 binary_ALCD2x00 + -1e-05 binary_ALCD2x02 + -1e-05 binary_RPI00 + -1e-05 binary_RPI02 + -1e-05 binary_PPCK00 + -1e-05 binary_PPCK02 + -1e-05 binary_NADTRHD00 + -1e-05 binary_NADTRHD02 + -1e-05 binary_ICDHyr00 + -1e-05 binary_ICDHyr02 + -1e-05 binary_GAPD00 + -1e-05 binary_GAPD02 + -1e-05 binary_TALA00 + -1e-05 binary_TALA02 + -1e-05 binary_TPI00 + -1e-05 binary_TPI02 + -1e-05 binary_ENO00 + -1e-05 binary_ENO02 + -1e-05 binary_ACONTa00 + -1e-05 binary_ACONTa02 + -1e-05 binary_SUCOAS00 + -1e-05 binary_SUCOAS02 + -1e-05 binary_ACONTb00 + -1e-05 binary_ACONTb02 + -1e-05 binary_ICL00 + -1e-05 binary_ICL02 + -1e-05 binary_PDH00 + -1e-05 binary_PDH02 + -1e-05 binary_CS00 + -1e-05 binary_CS02 + -1e-05 binary_FBP00 + -1e-05 binary_FBP02 + -1e-05 binary_TKT200 + -1e-05 binary_TKT202 + -1e-05 binary_TKT100 + -1e-05 binary_TKT102 + -1e-05 binary_PFK00 + -1e-05 binary_PFK02 + -1e-05 binary_PFL00 + -1e-05 binary_PFL02 + -1e-05 binary_FBA00 + -1e-05 binary_FBA02 + -1e-05 binary_PYK00 + -1e-05 binary_PYK02 + -1e-05 binary_LDH_D00 + -1e-05 binary_LDH_D02 + -1e-05 binary_FRD700 + -1e-05 binary_FRD702 + -1.0 tk_acetate + -1.0 tk_glucose>, '>', 0.0)\n"
     ]
    }
   ],
   "source": [
    "zcut = master.model.getConstrByName('z_cut')\n",
    "print(master.model.getRow(zcut), zcut.Sense, zcut.RHS)"
   ]
  },
  {
   "cell_type": "code",
   "execution_count": 12,
   "metadata": {
    "collapsed": true,
    "deletable": true,
    "editable": true
   },
   "outputs": [],
   "source": [
    "from dynamicme.callback_gurobi import cb_benders_multi"
   ]
  },
  {
   "cell_type": "code",
   "execution_count": 13,
   "metadata": {
    "collapsed": false,
    "deletable": true,
    "editable": true
   },
   "outputs": [
    {
     "name": "stdout",
     "output_type": "stream",
     "text": [
      "Parameter OutputFlag unchanged\n",
      "   Value: 1  Min: 0  Max: 1  Default: 1\n",
      "Optimize a model with 193 rows, 147 columns and 387 nonzeros\n",
      "Variable types: 3 continuous, 144 integer (0 binary)\n",
      "Coefficient statistics:\n",
      "  Matrix range     [1e-05, 1e+00]\n",
      "  Objective range  [1e-05, 1e-05]\n",
      "  Bounds range     [1e+00, 1e+03]\n",
      "  RHS range        [9e-01, 1e+00]\n",
      "Found heuristic solution: objective 0.0003700\n",
      "Variable types: 3 continuous, 144 integer (144 binary)\n",
      "\n",
      "Root relaxation: objective 0.000000e+00, 48 iterations, 0.00 seconds\n",
      "\n",
      "    Nodes    |    Current Node    |     Objective Bounds      |     Work\n",
      " Expl Unexpl |  Obj  Depth IntInf | Incumbent    BestBd   Gap | It/Node Time\n",
      "\n",
      "*    0     0               0       0.0000000    0.00000  0.00%     -    0s\n",
      "\n",
      "Explored 0 nodes (48 simplex iterations) in 0.02 seconds\n",
      "Thread count was 8 (of 8 available processors)\n",
      "\n",
      "Solution count 2: 0 0.00037 \n",
      "\n",
      "Optimal solution found (tolerance 1.00e-04)\n",
      "Best objective 0.000000000000e+00, best bound 0.000000000000e+00, gap 0.0000%\n"
     ]
    },
    {
     "name": "stderr",
     "output_type": "stream",
     "text": [
      "Exception TypeError: \"optimize() got an unexpected keyword argument 'precision'\" in 'gurobipy.callbackstub' ignored\n",
      "Exception TypeError: \"optimize() got an unexpected keyword argument 'precision'\" in 'gurobipy.callbackstub' ignored\n"
     ]
    }
   ],
   "source": [
    "master.model._precision_sub = 'gurobi'\n",
    "master.model._verbosity = 0\n",
    "#master.model.Params.MIPGap = 0.001\n",
    "master.model.Params.OutputFlag = 1\n",
    "# master.model.Params.TimeLimit = 60\n",
    "master.model.optimize(cb_benders_multi)"
   ]
  },
  {
   "cell_type": "code",
   "execution_count": 14,
   "metadata": {
    "collapsed": false,
    "deletable": true,
    "editable": true
   },
   "outputs": [],
   "source": [
    "sol_master = {x.VarName:x.X for x in master.model.getVars()}"
   ]
  },
  {
   "cell_type": "code",
   "execution_count": 15,
   "metadata": {
    "collapsed": false,
    "deletable": true,
    "editable": true
   },
   "outputs": [
    {
     "name": "stdout",
     "output_type": "stream",
     "text": [
      "Number of non-zero binaries: 48\n"
     ]
    }
   ],
   "source": [
    "yopt = [sol_master[y.VarName] for y in master._ys]\n",
    "print('Number of non-zero binaries: %g' % sum(yopt))\n",
    "# Fitted parameters\n",
    "\n",
    "kfit_dict = {}\n",
    "for group_id, var_dict in iteritems(var_cons_dict):\n",
    "    var = var_dict[0]\n",
    "    cons = var_dict[1]\n",
    "    a0  = var_dict[0][2]\n",
    "    kfit = 0.\n",
    "    for l,pwr in enumerate(powers):\n",
    "        for k,digit in enumerate(digits):            \n",
    "            yid = 'binary_%s%s%s' % (group_id,k,l)\n",
    "            y   = sol_master[yid]\n",
    "#             if abs(y)>1e-10:\n",
    "#                 print('%s. Value=%s. Power=%g. Digit=%g' % (yid, y, pwr, digit))\n",
    "            kfit += y*a0*radix**pwr*digit\n",
    "    kfit_dict[group_id] = kfit"
   ]
  },
  {
   "cell_type": "code",
   "execution_count": 16,
   "metadata": {
    "collapsed": false,
    "deletable": true,
    "editable": true
   },
   "outputs": [
    {
     "name": "stdout",
     "output_type": "stream",
     "text": [
      "Changed keffs: 0/48\n"
     ]
    },
    {
     "data": {
      "text/plain": [
       "[]"
      ]
     },
     "execution_count": 16,
     "metadata": {},
     "output_type": "execute_result"
    }
   ],
   "source": [
    "kfit_changed = [(k,v, abs(v-a0)/a0) for k,v in iteritems(kfit_dict) if abs(v-a0)/a0>1e-6]\n",
    "print('Changed keffs: %d/%d' % (len(kfit_changed), len(var_cons_dict)))\n",
    "kfit_changed"
   ]
  },
  {
   "cell_type": "code",
   "execution_count": 17,
   "metadata": {
    "collapsed": false,
    "deletable": true,
    "editable": true
   },
   "outputs": [
    {
     "name": "stdout",
     "output_type": "stream",
     "text": [
      "Cond=glucose. mu_meas=0.74. mu_sim=0.873922 (unfit=0.873922, error=18.1%). Error=18.1% (0% change)\n",
      "\tEX_glc__D_e uptake=-10\n",
      "\tEX_fru_e uptake=0\n",
      "\tEX_succ_e uptake=0\n",
      "\tEX_mal__L_e uptake=0\n",
      "\tEX_ac_e uptake=0\n",
      "Cond=acetate. mu_meas=0.256. mu_sim=0.389313 (unfit=0.389313, error=52.1%). Error=52.1% (0% change)\n",
      "\tEX_glc__D_e uptake=0\n",
      "\tEX_fru_e uptake=0\n",
      "\tEX_succ_e uptake=0\n",
      "\tEX_mal__L_e uptake=0\n",
      "\tEX_ac_e uptake=-20\n"
     ]
    }
   ],
   "source": [
    "#----------------------------------------\n",
    "# Starting from basal model\n",
    "csrcs = df_conds.cond.unique()\n",
    "for csrc in csrcs:\n",
    "    ijofit = load_json_model('/home/laurence/ME/models/BiGG_M/json/e_coli_core.json')    \n",
    "    crowding = Constraint('crowding')\n",
    "    crowding._bound = crowding_bound0\n",
    "    crowding._constraint_sense = 'L'\n",
    "    \n",
    "    df_condi = df_conds[ df_conds.cond==csrc]    \n",
    "    for i,row in df_condi.iterrows():\n",
    "        rid = row['rxn']\n",
    "        rxn = ijofit.reactions.get_by_id(rid)\n",
    "        rxn.lower_bound = row['lb']\n",
    "        rxn.upper_bound = row['ub']\n",
    "\n",
    "    for rid,kfit in iteritems(kfit_dict):\n",
    "        rxn = ijofit.reactions.get_by_id(rid)\n",
    "        rxn.add_metabolites({crowding:kfit})\n",
    "    \n",
    "    ijofit.optimize()\n",
    "    \n",
    "    mu_measi = df_meas[ df_meas.substrate==csrc].growth_rate_1_h.iloc[0]\n",
    "    mu_fiti = ijofit.reactions.BIOMASS_Ecoli_core_w_GAM.x\n",
    "    \n",
    "    # Get unfit\n",
    "    for rxn in ijofit.metabolites.crowding.reactions:\n",
    "        rxn._metabolites[crowding] = a0\n",
    "    ijofit.optimize()\n",
    "    mu_unfiti = ijofit.reactions.BIOMASS_Ecoli_core_w_GAM.x\n",
    "    err0= 100*(mu_unfiti-mu_measi)/mu_measi\n",
    "    err = 100*(mu_fiti - mu_measi)/mu_measi\n",
    "    derr= 100*(abs(err)-abs(err0))/abs(err0)\n",
    "    print('Cond=%s. mu_meas=%g. mu_sim=%g (unfit=%g, error=%.3g%%). Error=%.3g%% (%.3g%% change)' % (csrc, mu_measi, mu_fiti, mu_unfiti, err0, err, derr))\n",
    "    for i,row in df_condi.iterrows():\n",
    "        rid = row['rxn']\n",
    "        rxn = ijofit.reactions.get_by_id(rid)        \n",
    "        print('\\t%s uptake=%g' % (rxn.id, rxn.x))"
   ]
  },
  {
   "cell_type": "markdown",
   "metadata": {
    "deletable": true,
    "editable": true
   },
   "source": [
    "dual_sp = master.sub_dict['acetate'].model.getConstrByName('sp_acetate')\n",
    "dual_sn = master.sub_dict['acetate'].model.getConstrByName('sn_acetate')\n",
    "\n",
    "sub = master.sub_dict['acetate']\n",
    "\n",
    "print(sub.model.model.getRow(dual_sp), dual_sp.Sense, dual_sp.RHS)\n",
    "print(sub.model.model.getRow(dual_sn), dual_sn.Sense, dual_sn.RHS)\n",
    "\n",
    "master.sub_dict['acetate'].model.getConstrByName(mu_id+'_acetate')\n",
    "\n",
    "[(c, c.RHS) for c in sub.model.getConstrs() if c.RHS != 0]\n",
    "\n",
    "[(rxn.id, rxn.objective_coefficient) for rxn in sub.cobra_model.reactions if rxn.objective_coefficient != 0]"
   ]
  },
  {
   "cell_type": "markdown",
   "metadata": {
    "deletable": true,
    "editable": true
   },
   "source": [
    "tk = master.model.getVarByName('tk_acetate')\n",
    "wa = np.array([sub.model.x_dict[w.VarName] for w in sub._wa])\n",
    "wl = np.array([sub.model.x_dict[w.VarName] for w in sub._wl])\n",
    "wu = np.array([sub.model.x_dict[w.VarName] for w in sub._wu])\n",
    "d = sub._d\n",
    "Bcsc = sub._Bcsc\n",
    "waB = wa*Bcsc\n",
    "cinds = waB.nonzero()[0]\n",
    "ys = master._ys\n",
    "xl = sub._xl\n",
    "xu = sub._xu\n",
    "#waByopt = LinExpr([waB[j] for j in cinds], [ys[j] for j in cinds])\n",
    "waByopt = sum(waB * yopt)\n",
    "sum(d*wa) -waByopt + sum(xl*wl) - sum(xu*wu)\n",
    "\n",
    "tk.X"
   ]
  }
 ],
 "metadata": {
  "kernelspec": {
   "display_name": "Python 2",
   "language": "python",
   "name": "python2"
  },
  "language_info": {
   "codemirror_mode": {
    "name": "ipython",
    "version": 2
   },
   "file_extension": ".py",
   "mimetype": "text/x-python",
   "name": "python",
   "nbconvert_exporter": "python",
   "pygments_lexer": "ipython2",
   "version": "2.7.14"
  }
 },
 "nbformat": 4,
 "nbformat_minor": 2
}
