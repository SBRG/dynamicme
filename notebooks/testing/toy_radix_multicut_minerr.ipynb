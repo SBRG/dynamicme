{
 "cells": [
  {
   "cell_type": "markdown",
   "metadata": {
    "deletable": true,
    "editable": true
   },
   "source": [
    "# Toy Radix Benders Multicut"
   ]
  },
  {
   "cell_type": "code",
   "execution_count": 1,
   "metadata": {
    "collapsed": true,
    "deletable": true,
    "editable": true
   },
   "outputs": [],
   "source": [
    "LP_RELAXATION = True\n",
    "PREVENT_ZERO = True\n",
    "REG_WEIGHT = 0. #1e-4    # Regularization weight"
   ]
  },
  {
   "cell_type": "code",
   "execution_count": 2,
   "metadata": {
    "collapsed": false,
    "deletable": true,
    "editable": true
   },
   "outputs": [],
   "source": [
    "%load_ext line_profiler"
   ]
  },
  {
   "cell_type": "code",
   "execution_count": 3,
   "metadata": {
    "collapsed": false,
    "deletable": true,
    "editable": true
   },
   "outputs": [
    {
     "name": "stdout",
     "output_type": "stream",
     "text": [
      "(<type 'exceptions.ImportError'>, ImportError('No module named cplex',), <traceback object at 0x7fc0862e4758>)\n"
     ]
    }
   ],
   "source": [
    "from gurobipy import *\n",
    "\n",
    "import seaborn as sns\n",
    "import pandas as pd\n",
    "import matplotlib.pyplot as plt\n",
    "import numpy as np\n",
    "\n",
    "plt.rcParams['svg.fonttype'] = 'none'\n",
    "pd.set_option('display.max_colwidth', -1)\n",
    "%matplotlib inline\n",
    "\n",
    "from dynamicme.decomposition import Decomposer\n",
    "from dynamicme.callback_gurobi import cb_benders\n",
    "from dynamicme.optimize import Optimizer, StackOptimizer\n",
    "from dynamicme.optimize import Constraint, Variable\n",
    "\n",
    "from cobra.io import load_json_model\n",
    "from cobra import Metabolite, Reaction\n",
    "from six import iteritems\n",
    "\n",
    "import numpy as np\n",
    "import cobra"
   ]
  },
  {
   "cell_type": "markdown",
   "metadata": {
    "deletable": true,
    "editable": true
   },
   "source": [
    "### Try optimizing using radix for one condition first"
   ]
  },
  {
   "cell_type": "code",
   "execution_count": 4,
   "metadata": {
    "collapsed": true,
    "deletable": true,
    "editable": true
   },
   "outputs": [],
   "source": [
    "#----------------------------------------\n",
    "# Starting from basal model\n",
    "ijomc = load_json_model('/home/laurence/ME/models/e_coli_core_pc.json')\n",
    "mdl_ref = ijomc"
   ]
  },
  {
   "cell_type": "code",
   "execution_count": 5,
   "metadata": {
    "collapsed": false,
    "deletable": true,
    "editable": true
   },
   "outputs": [
    {
     "name": "stdout",
     "output_type": "stream",
     "text": [
      "0.873921506968\n"
     ]
    }
   ],
   "source": [
    "ijomc.optimize()\n",
    "mu_crowd0 = ijomc.reactions.BIOMASS_Ecoli_core_w_GAM.x\n",
    "print(mu_crowd0)"
   ]
  },
  {
   "cell_type": "code",
   "execution_count": 6,
   "metadata": {
    "collapsed": true,
    "deletable": true,
    "editable": true
   },
   "outputs": [],
   "source": [
    "df_meas = pd.read_csv('/home/laurence/ME/data/dynamicME/beg/growth_meas.csv')\n",
    "\n",
    "ex_rxns = [r for r in df_meas.ex_rxn.unique() if mdl_ref.reactions.has_id(r)]\n",
    "df_meas = df_meas[ df_meas.ex_rxn.isin(ex_rxns)]\n",
    "conds = df_meas.substrate.unique()\n",
    "\n",
    "# N_CONDS = len(conds)\n",
    "N_CONDS = 2\n",
    "\n",
    "df_conds = pd.DataFrame([{'cond':r['substrate'], 'rxn':ex_rxn, 'lb':-10 if r['ex_rxn']==ex_rxn else 0, 'ub':1000., 'obj':0.} for i,r in df_meas.iterrows() for ex_rxn in ex_rxns])\n",
    "\n",
    "if N_CONDS<=3:\n",
    "    df_conds = df_conds[ df_conds.cond.isin(['glucose','acetate','succinate'][0:N_CONDS])]\n",
    "else:\n",
    "    df_conds = df_conds[ df_conds.cond.isin(conds[0:N_CONDS])]"
   ]
  },
  {
   "cell_type": "markdown",
   "metadata": {
    "deletable": true,
    "editable": true
   },
   "source": [
    "## Need to allow higher growth for acetate with higher uptake rate"
   ]
  },
  {
   "cell_type": "code",
   "execution_count": 7,
   "metadata": {
    "collapsed": true,
    "deletable": true,
    "editable": true
   },
   "outputs": [],
   "source": [
    "df_conds.loc[ (df_conds.cond=='acetate') & (df_conds.rxn=='EX_ac_e'), 'lb'] = -20"
   ]
  },
  {
   "cell_type": "code",
   "execution_count": 8,
   "metadata": {
    "collapsed": true,
    "deletable": true,
    "editable": true
   },
   "outputs": [],
   "source": [
    "from dynamicme.decomposition import BendersSubmodel, BendersMaster\n",
    "from dynamicme.generate import copy_model"
   ]
  },
  {
   "cell_type": "code",
   "execution_count": 9,
   "metadata": {
    "collapsed": false,
    "deletable": true,
    "editable": true
   },
   "outputs": [
    {
     "name": "stdout",
     "output_type": "stream",
     "text": [
      "('Radix:', 2.0)\n",
      "('Powers:', [-1, 0, 1])\n",
      "('Digits:', [1.0])\n",
      "Changed value of parameter InfUnbdInfo to 1\n",
      "   Prev: 0  Min: 0  Max: 1  Default: 0\n",
      "Changed value of parameter InfUnbdInfo to 1\n",
      "   Prev: 0  Min: 0  Max: 1  Default: 0\n",
      "Changed value of parameter LazyConstraints to 1\n",
      "   Prev: 0  Min: 0  Max: 1  Default: 0\n",
      "Changed value of parameter IntFeasTol to 1e-09\n",
      "   Prev: 1e-05  Min: 1e-09  Max: 0.1  Default: 1e-05\n"
     ]
    },
    {
     "name": "stderr",
     "output_type": "stream",
     "text": [
      "/usr/lib/python2.7/site-packages/ipykernel/__main__.py:11 \u001b[1;31mDeprecationWarning\u001b[0m: object of type <type 'float'> cannot be safely interpreted as an integer.\n"
     ]
    }
   ],
   "source": [
    "from dynamicme.optimize import Variable, Constraint\n",
    "import numpy as np\n",
    "\n",
    "radix = 2.\n",
    "print('Radix:',radix)\n",
    "#powers = np.arange(-3,4)\n",
    "powers = [-1, 0, 1]\n",
    "print('Powers:', powers)\n",
    "digits_per_power = radix\n",
    "pwr_max = max(powers)\n",
    "digits = list(set(np.linspace(1, radix-1, digits_per_power)))\n",
    "print('Digits:', digits)\n",
    "\n",
    "# Get the group ID from reference model\n",
    "mu_id = 'BIOMASS_Ecoli_core_w_GAM'\n",
    "mdl_ref = ijomc\n",
    "crowding_ref = mdl_ref.metabolites.crowding\n",
    "conds = df_conds.cond.unique()\n",
    "sub_dict = {}\n",
    "for cond in conds:\n",
    "    mdl_ind = cond\n",
    "    mdl = copy_model(ijomc, suffix='_%s'%mdl_ind)            \n",
    "    opt = Optimizer(mdl)\n",
    "    gap = opt.add_duality_gap_constraint(INF=1e3, inplace=True, index=mdl_ind)\n",
    "    #----------------------------------------------------\n",
    "    # Now, add min abs err\n",
    "    #----------------------------------------------------\n",
    "    for rxn in gap.reactions:\n",
    "        rxn.objective_coefficient = 0.\n",
    "    mu_meas = df_meas[ df_meas.substrate==mdl_ind].growth_rate_1_h.iloc[0]\n",
    "    sp = Variable('sp_%s'%mdl_ind, lower_bound=0., upper_bound=1e3)\n",
    "    sn = Variable('sn_%s'%mdl_ind, lower_bound=0., upper_bound=1e3)\n",
    "    sp.objective_coefficient = (1.-REG_WEIGHT)/(mu_meas+1) #1.\n",
    "    sn.objective_coefficient = (1.-REG_WEIGHT)/(mu_meas+1) #1.\n",
    "    cons = Constraint('abs_err_%s'%mdl_ind)\n",
    "    cons._constraint_sense = 'E'\n",
    "    cons._bound = mu_meas\n",
    "    gap.add_metabolites(cons)\n",
    "    gap.add_reactions([sp,sn])\n",
    "    # mu - mu_meas = sp-sn\n",
    "    # mu -sp + sn = mu_meas\n",
    "    # min sp + sn\n",
    "    sp.add_metabolites({cons:-1.})\n",
    "    sn.add_metabolites({cons:1.})\n",
    "    rxn_mu = gap.reactions.get_by_id(mu_id+'_%s'%mdl_ind)\n",
    "    rxn_mu.add_metabolites({cons:1.})\n",
    "    #----------------------------------------------------\n",
    "    \n",
    "    dfi = df_conds[ df_conds.cond==cond]\n",
    "    var_cons_dict = {}\n",
    "    for rxn_ref in crowding_ref.reactions:    \n",
    "        crowding_p = mdl.metabolites.get_by_id('crowding_%s'%mdl_ind)\n",
    "        var_d = mdl.reactions.get_by_id('wa_%s'%crowding_p.id)\n",
    "        rxn_p = mdl.reactions.get_by_id(rxn_ref.id+'_%s'%mdl_ind)\n",
    "        cons_ds = [m for m in var_d.metabolites.keys() if rxn_p.id==m.id]        \n",
    "        a0 = rxn_p.metabolites[crowding_p]\n",
    "        if var_cons_dict.has_key(rxn_ref.id):\n",
    "            var_cons_dict[rxn_ref.id] += [(rxn_p, crowding_p, a0)] + [(var_d, cons_d, a0) for cons_d in cons_ds]\n",
    "        else:\n",
    "            var_cons_dict[rxn_ref.id] = [(rxn_p, crowding_p, a0)] + [(var_d, cons_d, a0) for cons_d in cons_ds]\n",
    "        \n",
    "    opt.to_radix(gap, var_cons_dict, radix, powers, digits=digits, prevent_zero=PREVENT_ZERO)    \n",
    "    sub = BendersSubmodel(gap, cond)\n",
    "    sub_dict[cond] = sub\n",
    "    \n",
    "for group_id in var_cons_dict.keys():\n",
    "    for l,pwr in enumerate(powers):\n",
    "        for k,digit in enumerate(digits):\n",
    "            yid = 'binary_%s%s%s'%(group_id,k,l)\n",
    "            y   = gap.reactions.get_by_id(yid)\n",
    "            ### PREFER pwr=0, digit=1\n",
    "            if pwr==0 and digit==1:\n",
    "                y.objective_coefficient = 0.\n",
    "            else:\n",
    "                y.objective_coefficient = REG_WEIGHT\n",
    "    \n",
    "master = BendersMaster(gap)"
   ]
  },
  {
   "cell_type": "code",
   "execution_count": 10,
   "metadata": {
    "collapsed": false,
    "deletable": true,
    "editable": true
   },
   "outputs": [],
   "source": [
    "master.add_submodels(sub_dict)"
   ]
  },
  {
   "cell_type": "code",
   "execution_count": 11,
   "metadata": {
    "collapsed": true,
    "deletable": true,
    "editable": true
   },
   "outputs": [],
   "source": [
    "from dynamicme.callback_gurobi import cb_benders_multi, cb_benders"
   ]
  },
  {
   "cell_type": "code",
   "execution_count": 12,
   "metadata": {
    "collapsed": false,
    "deletable": true,
    "editable": true
   },
   "outputs": [],
   "source": [
    "#master.model.Params.Presolve = 0\n",
    "#master.model.Params.ScaleFlag = 0\n",
    "#master.model.Params.Heuristics = 0   # cbLazy might be bugged by heuristics"
   ]
  },
  {
   "cell_type": "code",
   "execution_count": 13,
   "metadata": {
    "collapsed": false,
    "deletable": true,
    "editable": true
   },
   "outputs": [],
   "source": [
    "# master.model.getRow(master.model.getConstrByName('z_cut'))"
   ]
  },
  {
   "cell_type": "markdown",
   "metadata": {
    "deletable": true,
    "editable": true
   },
   "source": [
    "# 1) Solve the LP relaxation"
   ]
  },
  {
   "cell_type": "code",
   "execution_count": 14,
   "metadata": {
    "collapsed": false
   },
   "outputs": [
    {
     "data": {
      "text/plain": [
       "48.0"
      ]
     },
     "execution_count": 14,
     "metadata": {},
     "output_type": "execute_result"
    }
   ],
   "source": [
    "### Initial core point: y_jkl=1 for digit(k)=1, power(l)=0 forall j\n",
    "nkeffs = len(var_cons_dict)\n",
    "\n",
    "var_ind = {v:j for j,v in enumerate(master._ys)}\n",
    "y0 = np.ones(len(master._ys))\n",
    "for r in var_cons_dict.keys():\n",
    "    for k in range(len(digits)):\n",
    "        for l in range(len(powers)):\n",
    "            var = master.model.getVarByName('binary_%s%s%s'%(r,k,l))\n",
    "            ind = var_ind[var]\n",
    "            if digits[k]==1 and powers[l]==0:                \n",
    "                y0[ind] = 1\n",
    "            else:\n",
    "                y0[ind] = 0\n",
    "            ### Also use as initial feasible solution (and possibly incumbent)\n",
    "            var.Start = y0[ind]\n",
    "sum(y0)\n",
    "\n"
   ]
  },
  {
   "cell_type": "code",
   "execution_count": 15,
   "metadata": {
    "collapsed": true
   },
   "outputs": [],
   "source": [
    "def opt_nondom(sub, y0):\n",
    "    # Add or update the constraint for same obj\n",
    "    cons = sub.model.model.getConstrByName('fixobjval')\n",
    "    if cons is None:\n",
    "        expr = sub.model.model.getObjective() == sub.model.model.ObjVal\n",
    "        cons = sub.model.model.addConstr(expr, name='fixobjval')\n",
    "    else:\n",
    "        cons.RHS = sub.model.model.ObjVal\n",
    "        obj = sub.model.model.getObjective()\n",
    "        for j in range(obj.size()):\n",
    "            v = obj.getVar(j)\n",
    "            sub.model.model.chgCoeff(cons, v, obj.getCoeff(j))\n",
    "    # Change the objective function\n",
    "    sub.update_obj(y0)\n",
    "    sub.model.optimize()\n",
    "    # Relax the constraint for next iter\n",
    "    cons.Sense = GRB.LESS_EQUAL\n",
    "    cons.RHS   = GRB.INFINITY"
   ]
  },
  {
   "cell_type": "code",
   "execution_count": 16,
   "metadata": {
    "collapsed": false,
    "deletable": true,
    "editable": true,
    "scrolled": false
   },
   "outputs": [
    {
     "name": "stdout",
     "output_type": "stream",
     "text": [
      "Performing LP relaxation of Master\n",
      "iter=0\tUB=1e+15\tLB=-1e+15\tgap=2e+15\trelgap=200%\ttime=0.000471115 (s)\n",
      "iter=20\tUB=0.360925\tLB=0\tgap=0.360925\trelgap=100%\ttime=1.06382 (s)\n",
      "iter=40\tUB=0.297496\tLB=0\tgap=0.297496\trelgap=100%\ttime=2.0725 (s)\n",
      "iter=60\tUB=0.206259\tLB=0\tgap=0.206259\trelgap=100%\ttime=3.08773 (s)\n",
      "iter=80\tUB=0.342197\tLB=0\tgap=0.342197\trelgap=100%\ttime=4.10026 (s)\n",
      "iter=100\tUB=0.258931\tLB=0\tgap=0.258931\trelgap=100%\ttime=5.11375 (s)\n",
      "iter=120\tUB=0.277713\tLB=0\tgap=0.277713\trelgap=100%\ttime=6.12125 (s)\n",
      "iter=140\tUB=0.287447\tLB=0\tgap=0.287447\trelgap=100%\ttime=7.14056 (s)\n",
      "iter=160\tUB=0.203418\tLB=0\tgap=0.203418\trelgap=100%\ttime=8.15356 (s)\n",
      "iter=180\tUB=0.237486\tLB=0\tgap=0.237486\trelgap=100%\ttime=9.16409 (s)\n",
      "iter=200\tUB=0.30375\tLB=0\tgap=0.30375\trelgap=100%\ttime=10.1923 (s)\n",
      "iter=220\tUB=0.215815\tLB=0\tgap=0.215815\trelgap=100%\ttime=11.2173 (s)\n",
      "iter=240\tUB=0.247448\tLB=0\tgap=0.247448\trelgap=100%\ttime=12.2402 (s)\n",
      "iter=260\tUB=0.232155\tLB=0\tgap=0.232155\trelgap=100%\ttime=13.2718 (s)\n",
      "iter=280\tUB=0.281882\tLB=0\tgap=0.281882\trelgap=100%\ttime=14.2965 (s)\n",
      "iter=300\tUB=0.242245\tLB=0\tgap=0.242245\trelgap=100%\ttime=15.3351 (s)\n",
      "iter=320\tUB=0.242768\tLB=0\tgap=0.242768\trelgap=100%\ttime=16.3729 (s)\n",
      "iter=340\tUB=0.36895\tLB=0\tgap=0.36895\trelgap=100%\ttime=17.4063 (s)\n",
      "iter=360\tUB=0.291417\tLB=0\tgap=0.291417\trelgap=100%\ttime=18.4487 (s)\n",
      "iter=380\tUB=0.260603\tLB=0\tgap=0.260603\trelgap=100%\ttime=19.4997 (s)\n",
      "iter=400\tUB=0.297409\tLB=0\tgap=0.297409\trelgap=100%\ttime=20.5305 (s)\n",
      "iter=419\tUB=0\tLB=0\tgap=0\trelgap=0%\ttime=21.5932 (s)\n",
      "gap<gaptol. Done.\n"
     ]
    }
   ],
   "source": [
    "from __future__ import division\n",
    "import time\n",
    "master.precision_sub = 'gurobi'\n",
    "master.verbosity = 1\n",
    "master.print_iter = 20\n",
    "\n",
    "master.model.Params.OutputFlag = 0\n",
    "master.model.Params.TimeLimit = 3600*2\n",
    "\n",
    "### LP Relaxation\n",
    "if LP_RELAXATION:\n",
    "    print('Performing LP relaxation of Master')\n",
    "    for v in master.model.getVars():\n",
    "        v.VType = GRB.CONTINUOUS\n",
    "###--------------\n",
    "maxiter = 1000\n",
    "UB = 1e15\n",
    "LB =-1e15\n",
    "gap= UB-LB\n",
    "relgap = gap / (1e-10+abs(UB))  \n",
    "tic = time.time()\n",
    "for _iter in range(maxiter):\n",
    "    if np.mod(_iter,master.print_iter)==0:\n",
    "        toc = time.time()-tic\n",
    "        print(\"iter=%d\\tUB=%g\\tLB=%g\\tgap=%g\\trelgap=%.4g%%\\ttime=%g (s)\" % (_iter,UB,LB,gap,relgap*100,toc))\n",
    "        \n",
    "    master.model.optimize()    \n",
    "    fy = master._fy\n",
    "    ys = master._ys\n",
    "    z  = master._z\n",
    "    yopt = [y.X for y in ys]\n",
    "    sub_dict = master.sub_dict\n",
    "    sub_objs = []\n",
    "    opt_sub_inds = []\n",
    "    \n",
    "    for sub_ind,sub in iteritems(sub_dict):\n",
    "        sub.update_obj(yopt)\n",
    "        sub.model.optimize(precision=master.precision_sub)                \n",
    "        if sub.model.Status==GRB.Status.UNBOUNDED:\n",
    "            feascut = master.make_feascut(sub)\n",
    "            master.model.addConstr(feascut)\n",
    "        else:\n",
    "            sub_obj = sub._weight*sub.model.ObjVal\n",
    "            sub_objs.append(sub_obj)\n",
    "            opt_sub_inds.append(sub_ind)\n",
    "            ### Get non-dominated cut\n",
    "            y0 = 0.5*(y0 + yopt)\n",
    "            y0[y0<master.model.Params.IntFeasTol] = 0.\n",
    "            opt_nondom(sub, y0)\n",
    "            ###\n",
    "\n",
    "    \n",
    "    LB = z.X\n",
    "    UB = sum(fy*yopt) + sum(sub_objs)\n",
    "    gap= UB-LB\n",
    "    relgap = gap / (1e-10+abs(UB))    \n",
    "    \n",
    "    if relgap < master.gaptol:        \n",
    "        toc = time.time()-tic\n",
    "        print(\"iter=%d\\tUB=%g\\tLB=%g\\tgap=%g\\trelgap=%.4g%%\\ttime=%g (s)\" % (_iter,UB,LB,gap,relgap*100,toc))\n",
    "        print(\"gap<gaptol. Done.\")\n",
    "        break\n",
    "    else:\n",
    "        for sub_ind in opt_sub_inds:\n",
    "            sub = sub_dict[sub_ind]\n",
    "            cut = master.make_optcut(sub)\n",
    "            master.model.addConstr(cut)"
   ]
  },
  {
   "cell_type": "markdown",
   "metadata": {
    "deletable": true,
    "editable": true
   },
   "source": [
    "# Using callback\n",
    "\n",
    "master.precision_sub = 'gurobi'\n",
    "master.verbosity = 1\n",
    "master.print_iter = 1000\n",
    "\n",
    "#master.model.Params.MIPGap = 0.001\n",
    "master.model.Params.OutputFlag = 1\n",
    "master.model.Params.TimeLimit = 3600*2\n",
    "master.model.optimize(cb_benders_multi)\n",
    "# master.model.optimize(cb_benders)"
   ]
  },
  {
   "cell_type": "code",
   "execution_count": 17,
   "metadata": {
    "collapsed": false,
    "deletable": true,
    "editable": true
   },
   "outputs": [
    {
     "name": "stdout",
     "output_type": "stream",
     "text": [
      "Number of non-zero binaries: 75.6486\n",
      "Changed keffs: 45/48\n",
      "Cond=glucose. mu_meas=0.74. mu_sim=0.72253 (unfit=0.873922, error=18.1%). Error=-2.36% (-87% change)\n",
      "\tEX_glc__D_e uptake=-10\n",
      "\tEX_fru_e uptake=0\n",
      "\tEX_succ_e uptake=0\n",
      "\tEX_mal__L_e uptake=0\n",
      "\tEX_ac_e uptake=0\n",
      "Cond=acetate. mu_meas=0.256. mu_sim=0.307686 (unfit=0.389313, error=52.1%). Error=20.2% (-61.2% change)\n",
      "\tEX_glc__D_e uptake=0\n",
      "\tEX_fru_e uptake=0\n",
      "\tEX_succ_e uptake=0\n",
      "\tEX_mal__L_e uptake=0\n",
      "\tEX_ac_e uptake=-20\n"
     ]
    }
   ],
   "source": [
    "sol_master = {x.VarName:x.X for x in master.model.getVars()}\n",
    "\n",
    "yopt = [sol_master[y.VarName] for y in master._ys]\n",
    "print('Number of non-zero binaries: %g' % sum(yopt))\n",
    "# Fitted parameters\n",
    "\n",
    "kfit_dict = {}\n",
    "for group_id, var_dict in iteritems(var_cons_dict):\n",
    "    var = var_dict[0]\n",
    "    cons = var_dict[1]\n",
    "    a0  = var_dict[0][2]\n",
    "    kfit = 0.\n",
    "    for l,pwr in enumerate(powers):\n",
    "        for k,digit in enumerate(digits):            \n",
    "            yid = 'binary_%s%s%s' % (group_id,k,l)\n",
    "            y   = sol_master[yid]\n",
    "#             if abs(y)>1e-10:\n",
    "#                 print('%s. Value=%s. Power=%g. Digit=%g' % (yid, y, pwr, digit))            \n",
    "            kfit += y*a0*radix**pwr*digit\n",
    "    kfit_dict[group_id] = kfit\n",
    "\n",
    "kfit_changed = [(k,v, abs(v-a0)/a0) for k,v in iteritems(kfit_dict) if abs(v-a0)/a0>1e-6]\n",
    "print('Changed keffs: %d/%d' % (len(kfit_changed), len(var_cons_dict)))\n",
    "# print('kfit_changed:',kfit_changed)\n",
    "\n",
    "#----------------------------------------\n",
    "# Starting from basal model\n",
    "csrcs = df_conds.cond.unique()\n",
    "for csrc in csrcs:    \n",
    "    ijofit = load_json_model('/home/laurence/ME/models/e_coli_core_pc.json')\n",
    "    crowding = ijofit.metabolites.get_by_id('crowding')\n",
    "    df_condi = df_conds[ df_conds.cond==csrc]    \n",
    "    for i,row in df_condi.iterrows():\n",
    "        rid = row['rxn']\n",
    "        rxn = ijofit.reactions.get_by_id(rid)\n",
    "        rxn.lower_bound = row['lb']\n",
    "        rxn.upper_bound = row['ub']\n",
    "\n",
    "    for rid,kfit in iteritems(kfit_dict):\n",
    "        rxn = ijofit.reactions.get_by_id(rid)\n",
    "        rxn.add_metabolites({crowding:kfit}, combine=False)\n",
    "    \n",
    "    ijofit.optimize()\n",
    "    \n",
    "    mu_measi = df_meas[ df_meas.substrate==csrc].growth_rate_1_h.iloc[0]\n",
    "    mu_fiti = ijofit.reactions.BIOMASS_Ecoli_core_w_GAM.x\n",
    "    \n",
    "    # Get unfit\n",
    "    for rxn in ijofit.metabolites.crowding.reactions:\n",
    "        rxn._metabolites[crowding] = a0\n",
    "    ijofit.optimize()\n",
    "    mu_unfiti = ijofit.reactions.BIOMASS_Ecoli_core_w_GAM.x\n",
    "    err0= 100*(mu_unfiti-mu_measi)/mu_measi\n",
    "    err = 100*(mu_fiti - mu_measi)/mu_measi\n",
    "    derr= 100*(abs(err)-abs(err0))/abs(err0)\n",
    "    print('Cond=%s. mu_meas=%g. mu_sim=%g (unfit=%g, error=%.3g%%). Error=%.3g%% (%.3g%% change)' % (csrc, mu_measi, mu_fiti, mu_unfiti, err0, err, derr))\n",
    "    for i,row in df_condi.iterrows():\n",
    "        rid = row['rxn']\n",
    "        rxn = ijofit.reactions.get_by_id(rid)        \n",
    "        print('\\t%s uptake=%g' % (rxn.id, rxn.x))"
   ]
  },
  {
   "cell_type": "code",
   "execution_count": 18,
   "metadata": {
    "collapsed": false
   },
   "outputs": [
    {
     "data": {
      "text/plain": [
       "[(u'G6PDH2r', 6.410256410256411e-06, 0.5),\n",
       " (u'ACKr', 3.846153846153847e-06, 0.09999999999999992),\n",
       " (u'MALS', 1.2820512820512822e-05, 2.0),\n",
       " (u'GLUN', 1.9230769230769234e-06, 0.5499999999999999),\n",
       " (u'ME1', 1.2820512820512822e-05, 2.0),\n",
       " (u'GND', 1.0683760683760684e-05, 1.4999999999999998),\n",
       " (u'ME2', 1.9230769230769234e-06, 0.5499999999999999),\n",
       " (u'ADK1', 6.410256410256411e-06, 0.5),\n",
       " (u'SUCDi', 1.0683760683760684e-05, 1.4999999999999998),\n",
       " (u'PPC', 2.136752136752137e-06, 0.5),\n",
       " (u'MDH', 1.495726495726496e-05, 2.5),\n",
       " (u'FUM', 1.0683760683760684e-05, 1.4999999999999998),\n",
       " (u'GLUDy', 1.9230769230769234e-06, 0.5499999999999999),\n",
       " (u'GLUSy', 1.9230769230769234e-06, 0.5499999999999999),\n",
       " (u'PGL', 1.1336581928685882e-05, 1.6527601713124962),\n",
       " (u'PGM', 2.2807140473696374e-06, 0.46631291291550486),\n",
       " (u'ACALD', 1.9230769230769234e-06, 0.5499999999999999),\n",
       " (u'PGK', 4.8589566934137425e-06, 0.13699586625881566),\n",
       " (u'PGI', 8.471670746433526e-06, 0.9823709546654449),\n",
       " (u'PPS', 2.136752136752137e-06, 0.5),\n",
       " (u'PTAr', 1.3924580637671662e-05, 2.2583518692151685),\n",
       " (u'TALA', 8.547008547008548e-06, 1.0),\n",
       " (u'ALCD2x', 7.692307692307694e-06, 0.8000000000000002),\n",
       " (u'RPI', 3.846153846153847e-06, 0.09999999999999992),\n",
       " (u'RPE', 1.2820512820512822e-05, 2.0),\n",
       " (u'PPCK', 3.846153846153847e-06, 0.09999999999999992),\n",
       " (u'NADTRHD', 1.495726495726496e-05, 2.5),\n",
       " (u'ICDHyr', 1.2820512820512822e-05, 2.0),\n",
       " (u'GAPD', 1.1182875512985334e-05, 1.616792870038568),\n",
       " (u'ICL', 1.2820512820512822e-05, 2.0),\n",
       " (u'TPI', 1.0683760683760684e-05, 1.4999999999999998),\n",
       " (u'ENO', 1.1889375350024476e-05, 1.7821138319057273),\n",
       " (u'ACONTa', 1.144484735414838e-05, 1.6780942808707207),\n",
       " (u'SUCOAS', 1.9230769230769234e-06, 0.5499999999999999),\n",
       " (u'ACONTb', 1.495726495726496e-05, 2.5),\n",
       " (u'PDH', 8.744763079597482e-06, 1.0462745606258106),\n",
       " (u'CS', 1.2820512820512822e-05, 2.0),\n",
       " (u'FBP', 1.9230769230769234e-06, 0.5499999999999999),\n",
       " (u'TKT2', 2.136752136752137e-06, 0.5),\n",
       " (u'PFK', 8.93303527652468e-06, 1.0903302547067748),\n",
       " (u'PFL', 7.692307692307694e-06, 0.8000000000000002),\n",
       " (u'FBA', 1.2260490610442134e-05, 1.868954802843459),\n",
       " (u'PYK', 8.547008547008548e-06, 1.0),\n",
       " (u'LDH_D', 1.9230769230769234e-06, 0.5499999999999999),\n",
       " (u'FRD7', 3.846153846153847e-06, 0.09999999999999992)]"
      ]
     },
     "execution_count": 18,
     "metadata": {},
     "output_type": "execute_result"
    }
   ],
   "source": [
    "kfit_changed"
   ]
  }
 ],
 "metadata": {
  "kernelspec": {
   "display_name": "Python 2",
   "language": "python",
   "name": "python2"
  },
  "language_info": {
   "codemirror_mode": {
    "name": "ipython",
    "version": 2
   },
   "file_extension": ".py",
   "mimetype": "text/x-python",
   "name": "python",
   "nbconvert_exporter": "python",
   "pygments_lexer": "ipython2",
   "version": "2.7.14"
  }
 },
 "nbformat": 4,
 "nbformat_minor": 2
}
