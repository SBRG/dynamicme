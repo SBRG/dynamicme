{
 "cells": [
  {
   "cell_type": "markdown",
   "metadata": {
    "deletable": true,
    "editable": true
   },
   "source": [
    "# Toy Radix Benders Multicut"
   ]
  },
  {
   "cell_type": "code",
   "execution_count": 1,
   "metadata": {
    "collapsed": true,
    "deletable": true,
    "editable": true
   },
   "outputs": [],
   "source": [
    "LP_RELAXATION = True\n",
    "PREVENT_ZERO = True\n",
    "REG_WEIGHT = 0. #1e-4    # Regularization weight\n",
    "MAX_NONZERO  = None #48*2\n",
    "MULTICUT = True\n",
    "NONDOM   = True\n",
    "NOGOOD   = False"
   ]
  },
  {
   "cell_type": "code",
   "execution_count": 2,
   "metadata": {
    "collapsed": false,
    "deletable": true,
    "editable": true
   },
   "outputs": [],
   "source": [
    "%load_ext line_profiler"
   ]
  },
  {
   "cell_type": "code",
   "execution_count": 3,
   "metadata": {
    "collapsed": false,
    "deletable": true,
    "editable": true
   },
   "outputs": [],
   "source": [
    "from gurobipy import *\n",
    "\n",
    "import seaborn as sns\n",
    "import pandas as pd\n",
    "import matplotlib.pyplot as plt\n",
    "import numpy as np\n",
    "\n",
    "plt.rcParams['svg.fonttype'] = 'none'\n",
    "pd.set_option('display.max_colwidth', -1)\n",
    "%matplotlib inline\n",
    "\n",
    "from dynamicme.decomposition import Decomposer\n",
    "from dynamicme.callback_gurobi import cb_benders\n",
    "from dynamicme.optimize import Optimizer, StackOptimizer\n",
    "from dynamicme.optimize import Constraint, Variable\n",
    "\n",
    "from cobra.io import load_json_model\n",
    "from cobra import Metabolite, Reaction\n",
    "from six import iteritems\n",
    "\n",
    "import numpy as np\n",
    "import cobra"
   ]
  },
  {
   "cell_type": "code",
   "execution_count": 4,
   "metadata": {
    "collapsed": false,
    "deletable": true,
    "editable": true
   },
   "outputs": [
    {
     "name": "stdout",
     "output_type": "stream",
     "text": [
      "0.873921506968\n"
     ]
    }
   ],
   "source": [
    "#----------------------------------------\n",
    "# Starting from basal model\n",
    "ijomc = load_json_model('/home/laurence/ME/models/e_coli_core_pc.json')\n",
    "mdl_ref = ijomc\n",
    "\n",
    "ijomc.optimize()\n",
    "mu_crowd0 = ijomc.reactions.BIOMASS_Ecoli_core_w_GAM.x\n",
    "print(mu_crowd0)"
   ]
  },
  {
   "cell_type": "code",
   "execution_count": 5,
   "metadata": {
    "collapsed": false,
    "deletable": true,
    "editable": true
   },
   "outputs": [],
   "source": [
    "df_meas = pd.read_csv('/home/laurence/ME/data/dynamicME/beg/growth_meas.csv')\n",
    "\n",
    "ex_rxns = [r for r in df_meas.ex_rxn.unique() if mdl_ref.reactions.has_id(r)]\n",
    "df_meas = df_meas[ df_meas.ex_rxn.isin(ex_rxns)]\n",
    "conds = df_meas.substrate.unique()\n",
    "\n",
    "# N_CONDS = len(conds)\n",
    "N_CONDS = 2\n",
    "\n",
    "df_conds = pd.DataFrame([{'cond':r['substrate'], 'rxn':ex_rxn, 'lb':-10 if r['ex_rxn']==ex_rxn else 0, 'ub':1000., 'obj':0.} for i,r in df_meas.iterrows() for ex_rxn in ex_rxns])\n",
    "\n",
    "if N_CONDS<=3:\n",
    "    df_conds = df_conds[ df_conds.cond.isin(['glucose','acetate','succinate'][0:N_CONDS])]\n",
    "else:\n",
    "    df_conds = df_conds[ df_conds.cond.isin(conds[0:N_CONDS])]"
   ]
  },
  {
   "cell_type": "code",
   "execution_count": 6,
   "metadata": {
    "collapsed": false,
    "deletable": true,
    "editable": true
   },
   "outputs": [],
   "source": [
    "df_conds.loc[ (df_conds.cond=='acetate') & (df_conds.rxn=='EX_ac_e'), 'lb'] = -20"
   ]
  },
  {
   "cell_type": "markdown",
   "metadata": {
    "deletable": true,
    "editable": true
   },
   "source": [
    "# 0) DEBUG: test using single problem"
   ]
  },
  {
   "cell_type": "markdown",
   "metadata": {
    "deletable": true,
    "editable": true
   },
   "source": [
    "df_X = df_conds\n",
    "df_Y = df_meas[['substrate','growth_rate_1_h']].rename(columns={'substrate':'cond','growth_rate_1_h':'output'})\n",
    "df_Y.loc[:,'output_id'] = 'BIOMASS_Ecoli_core_w_GAM'\n",
    "\n",
    "from dynamicme.estimate import RadixEstimator\n",
    "base_model = load_json_model('/home/laurence/ME/models/e_coli_core_pc.json')\n",
    "est = RadixEstimator()\n",
    "est.fit(base_model, df_X, df_Y, optimize=False, reg_weight=1e-4)\n",
    "est.optimize()"
   ]
  },
  {
   "cell_type": "markdown",
   "metadata": {
    "deletable": true,
    "editable": true
   },
   "source": [
    "# 0) Load changed keffs to reduce binary vars"
   ]
  },
  {
   "cell_type": "code",
   "execution_count": 7,
   "metadata": {
    "collapsed": false,
    "deletable": true,
    "editable": true
   },
   "outputs": [],
   "source": [
    "import json\n",
    "\n",
    "with open('/home/laurence/ME/data/dynamicME/kfit_changed.json') as f:\n",
    "    kfit_changed = json.load(f)"
   ]
  },
  {
   "cell_type": "code",
   "execution_count": 8,
   "metadata": {
    "collapsed": true,
    "deletable": true,
    "editable": true
   },
   "outputs": [],
   "source": [
    "from dynamicme.decomposition import BendersSubmodel, BendersMaster\n",
    "from dynamicme.generate import copy_model"
   ]
  },
  {
   "cell_type": "code",
   "execution_count": 9,
   "metadata": {
    "collapsed": false,
    "deletable": true,
    "editable": true
   },
   "outputs": [],
   "source": [
    "changed_keffs = [kv[0] for kv in kfit_changed]"
   ]
  },
  {
   "cell_type": "code",
   "execution_count": 10,
   "metadata": {
    "collapsed": false,
    "deletable": true,
    "editable": true
   },
   "outputs": [
    {
     "name": "stdout",
     "output_type": "stream",
     "text": [
      "('Radix:', 2.0)\n",
      "('Powers:', [-1, 0, 1])\n",
      "('Digits:', [1.0])\n",
      "Changed value of parameter InfUnbdInfo to 1\n",
      "   Prev: 0  Min: 0  Max: 1  Default: 0\n",
      "Changed value of parameter InfUnbdInfo to 1\n",
      "   Prev: 0  Min: 0  Max: 1  Default: 0\n",
      "Changed value of parameter LazyConstraints to 1\n",
      "   Prev: 0  Min: 0  Max: 1  Default: 0\n",
      "Changed value of parameter IntFeasTol to 1e-09\n",
      "   Prev: 1e-05  Min: 1e-09  Max: 0.1  Default: 1e-05\n"
     ]
    },
    {
     "name": "stderr",
     "output_type": "stream",
     "text": [
      "/usr/lib/python2.7/site-packages/ipykernel/__main__.py:11 \u001b[1;31mDeprecationWarning\u001b[0m: object of type <type 'float'> cannot be safely interpreted as an integer.\n"
     ]
    }
   ],
   "source": [
    "from dynamicme.optimize import Variable, Constraint\n",
    "import numpy as np\n",
    "\n",
    "radix = 2.\n",
    "print('Radix:',radix)\n",
    "#powers = np.arange(-3,4)\n",
    "powers = [-1, 0, 1]\n",
    "print('Powers:', powers)\n",
    "digits_per_power = radix\n",
    "pwr_max = max(powers)\n",
    "digits = list(set(np.linspace(1, radix-1, digits_per_power)))\n",
    "print('Digits:', digits)\n",
    "\n",
    "# Get the group ID from reference model\n",
    "mu_id = 'BIOMASS_Ecoli_core_w_GAM'\n",
    "mdl_ref = ijomc\n",
    "crowding_ref = mdl_ref.metabolites.crowding\n",
    "conds = df_conds.cond.unique()\n",
    "sub_dict = {}\n",
    "for cond in conds:\n",
    "    mdl_ind = cond\n",
    "    mdl = copy_model(ijomc, suffix='_%s'%mdl_ind)            \n",
    "    opt = Optimizer(mdl)\n",
    "    gap = opt.add_duality_gap_constraint(INF=1e3, inplace=True, index=mdl_ind)\n",
    "    #----------------------------------------------------\n",
    "    # Now, add min abs err\n",
    "    #----------------------------------------------------\n",
    "    for rxn in gap.reactions:\n",
    "        rxn.objective_coefficient = 0.\n",
    "    mu_meas = df_meas[ df_meas.substrate==mdl_ind].growth_rate_1_h.iloc[0]\n",
    "    sp = Variable('sp_%s'%mdl_ind, lower_bound=0., upper_bound=1e3)\n",
    "    sn = Variable('sn_%s'%mdl_ind, lower_bound=0., upper_bound=1e3)\n",
    "    sp.objective_coefficient = (1.-REG_WEIGHT)/(mu_meas+1) #1.\n",
    "    sn.objective_coefficient = (1.-REG_WEIGHT)/(mu_meas+1) #1.\n",
    "    cons = Constraint('abs_err_%s'%mdl_ind)\n",
    "    cons._constraint_sense = 'E'\n",
    "    cons._bound = mu_meas\n",
    "    gap.add_metabolites(cons)\n",
    "    gap.add_reactions([sp,sn])\n",
    "    # mu - mu_meas = sp-sn\n",
    "    # mu -sp + sn = mu_meas\n",
    "    # min sp + sn\n",
    "    sp.add_metabolites({cons:-1.})\n",
    "    sn.add_metabolites({cons:1.})\n",
    "    rxn_mu = gap.reactions.get_by_id(mu_id+'_%s'%mdl_ind)\n",
    "    rxn_mu.add_metabolites({cons:1.})\n",
    "    #----------------------------------------------------    \n",
    "    dfi = df_conds[ df_conds.cond==cond]\n",
    "    var_cons_dict = {}\n",
    "    for rxn_ref in crowding_ref.reactions:\n",
    "        if rxn_ref.id in changed_keffs:\n",
    "            crowding_p = mdl.metabolites.get_by_id('crowding_%s'%mdl_ind)\n",
    "            var_d = mdl.reactions.get_by_id('wa_%s'%crowding_p.id)\n",
    "            rxn_p = mdl.reactions.get_by_id(rxn_ref.id+'_%s'%mdl_ind)\n",
    "            cons_ds = [m for m in var_d.metabolites.keys() if rxn_p.id==m.id]        \n",
    "            a0 = rxn_p.metabolites[crowding_p]\n",
    "            if var_cons_dict.has_key(rxn_ref.id):\n",
    "                var_cons_dict[rxn_ref.id] += [(rxn_p, crowding_p, a0)] + [(var_d, cons_d, a0) for cons_d in cons_ds]\n",
    "            else:\n",
    "                var_cons_dict[rxn_ref.id] = [(rxn_p, crowding_p, a0)] + [(var_d, cons_d, a0) for cons_d in cons_ds]\n",
    "        \n",
    "    opt.to_radix(gap, var_cons_dict, radix, powers, digits=digits, prevent_zero=PREVENT_ZERO)    \n",
    "    sub = BendersSubmodel(gap, cond)\n",
    "    sub_dict[cond] = sub\n",
    "    \n",
    "for group_id in var_cons_dict.keys():\n",
    "    for l,pwr in enumerate(powers):\n",
    "        for k,digit in enumerate(digits):\n",
    "            yid = 'binary_%s%s%s'%(group_id,k,l)\n",
    "            y   = gap.reactions.get_by_id(yid)\n",
    "            ### PREFER pwr=0, digit=1\n",
    "            if pwr==0 and digit==1:\n",
    "                y.objective_coefficient = 0.\n",
    "            else:\n",
    "                y.objective_coefficient = REG_WEIGHT\n",
    "\n",
    "master = BendersMaster(gap)"
   ]
  },
  {
   "cell_type": "code",
   "execution_count": 11,
   "metadata": {
    "collapsed": false,
    "deletable": true,
    "editable": true
   },
   "outputs": [],
   "source": [
    "master.add_submodels(sub_dict)"
   ]
  },
  {
   "cell_type": "code",
   "execution_count": 12,
   "metadata": {
    "collapsed": false,
    "deletable": true,
    "editable": true
   },
   "outputs": [],
   "source": [
    "# mdl1 = sub_dict['acetate'].cobra_model\n",
    "# mdl2 = sub_dict['glucose'].cobra_model\n",
    "# for rxn1 in mdl1.reactions:\n",
    "#     if mdl2.reactions.has_id(rxn1.id):\n",
    "#         rxn2 = mdl2.reactions.get_by_id(rxn1.id)\n",
    "#         print(rxn1,rxn2, rxn1==rxn2)"
   ]
  },
  {
   "cell_type": "code",
   "execution_count": 13,
   "metadata": {
    "collapsed": true,
    "deletable": true,
    "editable": true
   },
   "outputs": [],
   "source": [
    "from dynamicme.callback_gurobi import cb_benders_multi, cb_benders"
   ]
  },
  {
   "cell_type": "markdown",
   "metadata": {
    "deletable": true,
    "editable": true
   },
   "source": [
    "# Solve two-phase"
   ]
  },
  {
   "cell_type": "markdown",
   "metadata": {},
   "source": [
    "### Know a feasible point, get core point"
   ]
  },
  {
   "cell_type": "markdown",
   "metadata": {},
   "source": [
    "### Initial core point: y_jkl=1 for digit(k)=1, power(l)=0 forall j\n",
    "nkeffs = len(var_cons_dict)\n",
    "\n",
    "var_ind = {v:j for j,v in enumerate(master._ys)}\n",
    "y0 = np.ones(len(master._ys))\n",
    "for r in var_cons_dict.keys():\n",
    "    for k in range(len(digits)):\n",
    "        for l in range(len(powers)):\n",
    "            var = master.model.getVarByName('binary_%s%s%s'%(r,k,l))\n",
    "            ind = var_ind[var]\n",
    "            if digits[k]==1 and powers[l]==0:                \n",
    "                y0[ind] = 1\n",
    "            else:\n",
    "                y0[ind] = 0\n",
    "            ### Also use as initial feasible solution (and possibly incumbent)\n",
    "            var.Start = y0[ind]\n",
    "sum(y0)\n",
    "\n",
    "y2 = np.array([0.5*(y.LB+y.UB) for y in master._ys])\n",
    "y02 = 0.5*(y0+y2)\n",
    "#y0 = 0.5*(y0 + np.ones(len(master._ys)))\n",
    "master.y0 = y02"
   ]
  },
  {
   "cell_type": "code",
   "execution_count": 14,
   "metadata": {
    "collapsed": false
   },
   "outputs": [],
   "source": [
    "### Make it easer: z and tk are absolute error or sum w*y so >=0\n",
    "master._z.LB = 0.\n",
    "for sub_ind in sub_dict.keys():\n",
    "    tk = master.model.getVarByName('tk_%s'%sub_ind)\n",
    "    tk.LB = 0.\n",
    "master.model.update()"
   ]
  },
  {
   "cell_type": "code",
   "execution_count": 15,
   "metadata": {
    "collapsed": false,
    "deletable": true,
    "editable": true,
    "scrolled": false
   },
   "outputs": [
    {
     "name": "stdout",
     "output_type": "stream",
     "text": [
      "Changed value of parameter NumericFocus to 3\n",
      "   Prev: 0  Min: 0  Max: 3  Default: 0\n",
      "Parameter OutputFlag unchanged\n",
      "   Value: 1  Min: 0  Max: 1  Default: 1\n",
      "Changed value of parameter Presolve to 0\n",
      "   Prev: -1  Min: -1  Max: 2  Default: -1\n",
      "        Iter          UB          LB     Best UB     Best LB         gap   relgap(%)     time(s)\n",
      "           0       1e+15      -1e+15       1e+15      -1e+15       2e+15       200.0    0.000117\n",
      "          20    0.552548         0.0    0.377749         0.0    0.552548  99.9999999    0.351103\n",
      "          40    0.552548         0.0    0.377749         0.0    0.552548  99.9999999    0.638665\n",
      "          60    0.552548         0.0    0.377749         0.0    0.552548  99.9999999    0.936886\n",
      "          80    0.552548         0.0    0.377749         0.0    0.552548  99.9999999    1.224991\n",
      "         100    0.552548         0.0    0.377749         0.0    0.552548  99.9999999    1.519382\n",
      "         120    0.552548         0.0    0.377749         0.0    0.552548  99.9999999    1.813239\n",
      "         140    0.552548         0.0    0.377749         0.0    0.552548  99.9999999    2.109714\n",
      "         160    0.552548         0.0    0.377749         0.0    0.552548  99.9999999    2.405789\n",
      "         180    0.552548         0.0    0.377749         0.0    0.552548  99.9999999    2.705393\n",
      "         200    0.552548         0.0    0.377749         0.0    0.552548  99.9999999    3.006273\n",
      "         220    0.552548         0.0    0.377749         0.0    0.552548  99.9999999    3.311023\n",
      "         240    0.552548         0.0    0.377749         0.0    0.552548  99.9999999    3.614109\n",
      "         260    0.552548         0.0    0.377749         0.0    0.552548  99.9999999    3.949368\n",
      "         280    0.552548         0.0    0.377749         0.0    0.552548  99.9999999    4.256778\n",
      "         300    0.552548         0.0    0.377749         0.0    0.552548  99.9999999    4.568145\n",
      "         320    0.552548         0.0    0.377749         0.0    0.552548  99.9999999    4.880221\n",
      "         340    0.552548         0.0    0.377749         0.0    0.552548  99.9999999    5.197983\n",
      "         360    0.552548         0.0    0.377749         0.0    0.552548  99.9999999    5.515661\n",
      "         380    0.552548         0.0    0.377749         0.0    0.552548  99.9999999    5.836612\n",
      "         400    0.552548         0.0    0.377749         0.0    0.552548  99.9999999    6.181015\n",
      "         420    0.552548         0.0    0.377749         0.0    0.552548  99.9999999    6.512679\n",
      "         440    0.552548         0.0    0.377749         0.0    0.552548  99.9999999    6.847949\n",
      "         460    0.552548         0.0    0.377749         0.0    0.552548  99.9999999    7.182817\n",
      "         480    0.552548         0.0    0.377749         0.0    0.552548  99.9999999    7.530686\n",
      "         500    0.552548         0.0    0.377749         0.0    0.552548  99.9999999    7.899588\n",
      "         520    0.552548         0.0    0.377749         0.0    0.552548  99.9999999    8.266313\n",
      "         540    0.552548         0.0    0.377749         0.0    0.552548  99.9999999    8.638169\n",
      "         560    0.552548         0.0    0.377749         0.0    0.552548  99.9999999    8.983983\n",
      "         580    0.552548         0.0    0.377749         0.0    0.552548  99.9999999    9.329479\n",
      "         600    0.552548         0.0    0.377749         0.0    0.552548  99.9999999    9.679492\n",
      "         620    0.552548         0.0    0.377749         0.0    0.552548  99.9999999    10.07185\n",
      "         640    0.552548         0.0    0.377749         0.0    0.552548  99.9999999    10.42386\n",
      "         660    0.552548         0.0    0.377749         0.0    0.552548  99.9999999    10.77936\n",
      "         680    0.552548         0.0    0.377749         0.0    0.552548  99.9999999    11.13558\n",
      "         700    0.552548         0.0    0.377749         0.0    0.552548  99.9999999    11.49534\n",
      "         720    0.552548         0.0    0.377749         0.0    0.552548  99.9999999    11.85710\n",
      "         740    0.552548         0.0    0.377749         0.0    0.552548  99.9999999    12.22115\n",
      "         760    0.552548         0.0    0.377749         0.0    0.552548  99.9999999    12.58996\n",
      "         780    0.552548         0.0    0.377749         0.0    0.552548  99.9999999    12.96434\n",
      "         800    0.552548         0.0    0.377749         0.0    0.552548  99.9999999    13.33851\n",
      "         820    0.552548         0.0    0.377749         0.0    0.552548  99.9999999    13.71095\n",
      "         840    0.552548         0.0    0.377749         0.0    0.552548  99.9999999    14.08539\n",
      "         860    0.552548         0.0    0.377749         0.0    0.552548  99.9999999    14.46074\n",
      "         880    0.552548         0.0    0.377749         0.0    0.552548  99.9999999    14.84033\n",
      "         900    0.552548         0.0    0.377749         0.0    0.552548  99.9999999    15.22549\n",
      "         920    0.552548         0.0    0.377749         0.0    0.552548  99.9999999    15.61001\n",
      "         940    0.552548         0.0    0.377749         0.0    0.552548  99.9999999    15.99467\n",
      "         960    0.552548         0.0    0.377749         0.0    0.552548  99.9999999    16.38077\n",
      "         980    0.552548         0.0    0.377749         0.0    0.552548  99.9999999    16.75784\n",
      "Changed value of parameter OutputFlag to 1\n",
      "   Prev: 0  Min: 0  Max: 1  Default: 1\n",
      "Optimize a model with 2088 rows, 69 columns and 116077 nonzeros\n",
      "Variable types: 3 continuous, 66 integer (0 binary)\n",
      "Coefficient statistics:\n",
      "  Matrix range     [2e-03, 1e+00]\n",
      "  Objective range  [1e+00, 1e+00]\n",
      "  Bounds range     [1e+00, 1e+06]\n",
      "  RHS range        [5e-03, 1e+00]\n",
      "Variable types: 3 continuous, 66 integer (66 binary)\n",
      "Found heuristic solution: objective 0.0000000\n",
      "\n",
      "Explored 0 nodes (0 simplex iterations) in 0.12 seconds\n",
      "Thread count was 8 (of 8 available processors)\n",
      "\n",
      "Solution count 1: 0 \n",
      "\n",
      "Optimal solution found (tolerance 1.00e-04)\n",
      "Best objective 0.000000000000e+00, best bound 0.000000000000e+00, gap 0.0000%\n"
     ]
    }
   ],
   "source": [
    "master.model.Params.NumericFocus = 3\n",
    "master.model.Params.OutputFlag = 1\n",
    "#master.model.Params.ScaleFlag = 0\n",
    "master.model.Params.Presolve = 0   # Don't let presolve remove rows\n",
    "master._verbosity = 1\n",
    "master.print_iter = 20\n",
    "\n",
    "# master.solve_relaxed()\n",
    "# master.precision_sub = 'dq'\n",
    "master.precision_sub = 'gurobi'\n",
    "master.max_iter = 1000\n",
    "yopt = master.optimize(two_phase=True, cut_strategy='mw')"
   ]
  },
  {
   "cell_type": "code",
   "execution_count": 16,
   "metadata": {
    "collapsed": false
   },
   "outputs": [],
   "source": [
    "sub.model.model.update()\n",
    "sub.model.optimize(precision='quad')"
   ]
  },
  {
   "cell_type": "code",
   "execution_count": 17,
   "metadata": {
    "collapsed": false,
    "deletable": true,
    "editable": true
   },
   "outputs": [
    {
     "data": {
      "text/plain": [
       "0.17447980200228194"
      ]
     },
     "execution_count": 17,
     "metadata": {},
     "output_type": "execute_result"
    }
   ],
   "source": [
    "sub.model.ObjVal"
   ]
  },
  {
   "cell_type": "code",
   "execution_count": 18,
   "metadata": {
    "collapsed": false
   },
   "outputs": [
    {
     "name": "stdout",
     "output_type": "stream",
     "text": [
      "('optcuts:', 8)\n",
      "('feascuts:', 0)\n"
     ]
    }
   ],
   "source": [
    "print('optcuts:', len(master.optcuts))\n",
    "print('feascuts:',len(master.feascuts))"
   ]
  },
  {
   "cell_type": "code",
   "execution_count": 19,
   "metadata": {
    "collapsed": false
   },
   "outputs": [
    {
     "data": {
      "text/plain": [
       "array([0.33333333, 0.66666667, 1.        , 0.33333333, 0.66666667,\n",
       "       1.        , 0.33333333, 0.66666667, 1.        , 0.66666667,\n",
       "       0.33333333, 0.66666667, 0.33333333, 0.66666667, 1.        ,\n",
       "       0.33333333, 0.66666667, 1.        , 0.33333333, 0.66666667,\n",
       "       0.66666667, 0.33333333, 0.66666667, 1.        , 0.33333333,\n",
       "       0.66666667, 1.        , 0.66666667, 0.33333333, 0.66666667,\n",
       "       0.66666667, 0.33333333, 0.66666667, 1.        , 0.33333333,\n",
       "       0.33333333, 0.66666667, 0.33333333, 0.66666667, 0.66666667,\n",
       "       0.66666667, 0.33333333, 0.66666667, 0.66666667, 0.66666667,\n",
       "       0.66666667, 0.33333333, 0.66666667, 0.66666667, 0.33333333,\n",
       "       0.66666667, 0.66666667, 0.66666667, 0.66666667, 0.33333333,\n",
       "       0.33333333, 1.        , 0.66666667, 0.66666667, 0.33333333,\n",
       "       0.33333333, 1.        , 0.33333333, 0.33333333, 0.        ,\n",
       "       0.66666667])"
      ]
     },
     "execution_count": 19,
     "metadata": {},
     "output_type": "execute_result"
    }
   ],
   "source": [
    "sum(master.int_sols)/len(master.int_sols)"
   ]
  },
  {
   "cell_type": "code",
   "execution_count": 20,
   "metadata": {
    "collapsed": false
   },
   "outputs": [
    {
     "data": {
      "text/plain": [
       "3"
      ]
     },
     "execution_count": 20,
     "metadata": {},
     "output_type": "execute_result"
    }
   ],
   "source": [
    "len(master.int_sols)"
   ]
  },
  {
   "cell_type": "code",
   "execution_count": 21,
   "metadata": {
    "collapsed": false
   },
   "outputs": [
    {
     "name": "stdout",
     "output_type": "stream",
     "text": [
      "1e+100\n"
     ]
    },
    {
     "data": {
      "text/plain": [
       "<gurobi.LinExpr: 0.001 wa[72] + wa[86] + 0.256 wa[169] + 1000.0 wa[170] + 1000.0 wa[171] + 1000.0 wa[172] + 1000.0 wa[173] + 1000.0 wa[174] + 1000.0 wa[175] + 1000.0 wa[177] + 1000.0 wa[178] + 1000.0 wa[179] + 1000.0 wa[180] + 1000.0 wa[181] + 1000.0 wa[182] + 1000.0 wa[183] + 1000.0 wa[185] + 1000.0 wa[186] + 1000.0 wa[187] + 1000.0 wa[188] + 1000.0 wa[189] + 1000.0 wa[190] + 1000.0 wa[191] + 1000.0 wa[193] + 1000.0 wa[194] + 1000.0 wa[195] + 1000.0 wa[197] + 1000.0 wa[198] + 1000.0 wa[199] + 1000.0 wa[201] + 1000.0 wa[202] + 1000.0 wa[203] + 1000.0 wa[205] + 1000.0 wa[206] + 1000.0 wa[207] + 1000.0 wa[209] + 1000.0 wa[210] + 1000.0 wa[211] + 1000.0 wa[213] + 1000.0 wa[214] + 1000.0 wa[215] + 1000.0 wa[217] + 1000.0 wa[218] + 1000.0 wa[219] + 1000.0 wa[221] + 1000.0 wa[222] + 1000.0 wa[223] + 1000.0 wa[225] + 1000.0 wa[226] + 1000.0 wa[227] + 1000.0 wa[229] + 1000.0 wa[230] + 1000.0 wa[231] + 1000.0 wa[233] + 1000.0 wa[234] + 1000.0 wa[235] + 1000.0 wa[237] + 1000.0 wa[238] + 1000.0 wa[239] + 1000.0 wa[241] + 1000.0 wa[242] + 1000.0 wa[243] + 1000.0 wa[244] + 1000.0 wa[245] + 1000.0 wa[246] + 1000.0 wa[247] + 1000.0 wa[249] + 1000.0 wa[250] + 1000.0 wa[251] + 1000.0 wa[252] + 1000.0 wa[253] + 1000.0 wa[254] + 1000.0 wa[255] + 1000.0 wa[257] + 1000.0 wa[258] + 1000.0 wa[259] + 1000.0 wa[260] + 1000.0 wa[261] + 1000.0 wa[262] + 1000.0 wa[263] + 1000.0 wa[265] + 1000.0 wa[266] + 1000.0 wa[267] + 1000.0 wa[269] + 1000.0 wa[270] + 1000.0 wa[271] + 1000.0 wa[273] + 1000.0 wa[274] + 1000.0 wa[275] + 1000.0 wa[277] + 1000.0 wa[278] + 1000.0 wa[279] + 1000.0 wa[281] + 1000.0 wa[282] + 1000.0 wa[283] + 1000.0 wa[285] + 1000.0 wa[286] + 1000.0 wa[287] + 1000.0 wa[289] + 1000.0 wa[290] + 1000.0 wa[291] + 1000.0 wa[292] + 1000.0 wa[293] + 1000.0 wa[294] + 1000.0 wa[295] + 1000.0 wa[297] + 1000.0 wa[298] + 1000.0 wa[299] + 1000.0 wa[300] + 1000.0 wa[301] + 1000.0 wa[302] + 1000.0 wa[303] + 1000.0 wa[305] + 1000.0 wa[306] + 1000.0 wa[307] + 1000.0 wa[308] + 1000.0 wa[309] + 1000.0 wa[310] + 1000.0 wa[311] + 1000.0 wa[313] + 1000.0 wa[314] + 1000.0 wa[315] + 1000.0 wa[316] + 1000.0 wa[317] + 1000.0 wa[318] + 1000.0 wa[319] + 1000.0 wa[321] + 1000.0 wa[322] + 1000.0 wa[323] + 1000.0 wa[324] + 1000.0 wa[325] + 1000.0 wa[326] + 1000.0 wa[327] + 1000.0 wa[329] + 1000.0 wa[330] + 1000.0 wa[331] + 1000.0 wa[332] + 1000.0 wa[333] + 1000.0 wa[334] + 1000.0 wa[335] + 1000.0 wa[337] + 1000.0 wa[338] + 1000.0 wa[339] + 1000.0 wa[341] + 1000.0 wa[342] + 1000.0 wa[343] + 1000.0 wa[345] + 1000.0 wa[346] + 1000.0 wa[347] + 1000.0 wa[349] + 1000.0 wa[350] + 1000.0 wa[351] + 1000.0 wa[353] + 1000.0 wa[354] + 1000.0 wa[355] + 1000.0 wa[357] + 1000.0 wa[358] + 1000.0 wa[359] + 1000.0 wa[361] + 1000.0 wa[362] + 1000.0 wa[363] + 1000.0 wa[364] + 1000.0 wa[365] + 1000.0 wa[366] + 1000.0 wa[367] + 1000.0 wa[369] + 1000.0 wa[370] + 1000.0 wa[371] + 1000.0 wa[372] + 1000.0 wa[373] + 1000.0 wa[374] + 1000.0 wa[375] + 1000.0 wa[377] + 1000.0 wa[378] + 1000.0 wa[379] + 1000.0 wa[380] + 1000.0 wa[381] + 1000.0 wa[382] + 1000.0 wa[383] + 1000.0 wa[385] + 1000.0 wa[386] + 1000.0 wa[387] + 1000.0 wa[389] + 1000.0 wa[390] + 1000.0 wa[391] + 1000.0 wa[393] + 1000.0 wa[394] + 1000.0 wa[395] + 1000.0 wa[397] + 1000.0 wa[398] + 1000.0 wa[399] + 1000.0 wa[401] + 1000.0 wa[402] + 1000.0 wa[403] + 1000.0 wa[405] + 1000.0 wa[406] + 1000.0 wa[407] + 1000.0 wa[409] + 1000.0 wa[410] + 1000.0 wa[411] + 1000.0 wa[412] + 1000.0 wa[413] + 1000.0 wa[414] + 1000.0 wa[415] + 1000.0 wa[417] + 1000.0 wa[418] + 1000.0 wa[419] + 1000.0 wa[420] + 1000.0 wa[421] + 1000.0 wa[422] + 1000.0 wa[423] + 1000.0 wa[425] + 1000.0 wa[426] + 1000.0 wa[427] + 1000.0 wa[428] + 1000.0 wa[429] + 1000.0 wa[430] + 1000.0 wa[431] + 1000.0 wa[433] + 1000.0 wa[434] + 1000.0 wa[435] + 1000.0 wa[436] + 1000.0 wa[437] + 1000.0 wa[438] + 1000.0 wa[439] + 1000.0 wa[441] + 1000.0 wa[442] + 1000.0 wa[443] + 1000.0 wa[444] + 1000.0 wa[445] + 1000.0 wa[446] + 1000.0 wa[447] + 1000.0 wa[449] + 1000.0 wa[450] + 1000.0 wa[451] + 1000.0 wa[452] + 1000.0 wa[453] + 1000.0 wa[454] + 1000.0 wa[455] + 1000.0 wa[457] + 1000.0 wa[458] + 1000.0 wa[459] + 1000.0 wa[460] + 1000.0 wa[461] + 1000.0 wa[462] + 1000.0 wa[463] + 1000.0 wa[465] + 1000.0 wa[466] + 1000.0 wa[467] + 1000.0 wa[468] + 1000.0 wa[469] + 1000.0 wa[470] + 1000.0 wa[471] + 1000.0 wa[473] + 1000.0 wa[474] + 1000.0 wa[475] + 1000.0 wa[476] + 1000.0 wa[477] + 1000.0 wa[478] + 1000.0 wa[479] + 1000.0 wa[481] + 1000.0 wa[482] + 1000.0 wa[483] + 1000.0 wa[484] + 1000.0 wa[485] + 1000.0 wa[486] + 1000.0 wa[487] + 1000.0 wa[489] + 1000.0 wa[490] + 1000.0 wa[491] + 1000.0 wa[492] + 1000.0 wa[493] + 1000.0 wa[494] + 1000.0 wa[495] + 1000.0 wa[497] + 1000.0 wa[498] + 1000.0 wa[499] + 1000.0 wa[500] + 1000.0 wa[501] + 1000.0 wa[502] + 1000.0 wa[503] + 1000.0 wa[505] + 1000.0 wa[506] + 1000.0 wa[507] + 1000.0 wa[508] + 1000.0 wa[509] + 1000.0 wa[510] + 1000.0 wa[511] + 1000.0 wa[513] + 1000.0 wa[514] + 1000.0 wa[515] + 1000.0 wa[516] + 1000.0 wa[517] + 1000.0 wa[518] + 1000.0 wa[519] + 1000.0 wa[521] + 1000.0 wa[522] + 1000.0 wa[523] + 1000.0 wa[524] + 1000.0 wa[525] + 1000.0 wa[526] + 1000.0 wa[527] + 1000.0 wa[529] + 1000.0 wa[530] + 1000.0 wa[531] + 1000.0 wa[532] + 1000.0 wa[533] + 1000.0 wa[534] + 1000.0 wa[535] + 1000.0 wa[537] + 1000.0 wa[538] + 1000.0 wa[539] + 1000.0 wa[540] + 1000.0 wa[541] + 1000.0 wa[542] + 1000.0 wa[543] + 1000.0 wa[545] + 1000.0 wa[546] + 1000.0 wa[547] + 1000.0 wa[548] + 1000.0 wa[549] + 1000.0 wa[550] + 1000.0 wa[551] + 1000.0 wa[553] + 1000.0 wa[554] + 1000.0 wa[555] + 1000.0 wa[557] + 1000.0 wa[558] + 1000.0 wa[559] + 1000.0 wa[561] + 1000.0 wa[562] + 1000.0 wa[563] + 1000.0 wa[565] + 1000.0 wa[566] + 1000.0 wa[567] + 1000.0 wa[569] + 1000.0 wa[570] + 1000.0 wa[571] + 1000.0 wa[573] + 1000.0 wa[574] + 1000.0 wa[575] + 1000.0 wa[577] + 1000.0 wa[578] + 1000.0 wa[579] + 1000.0 wa[581] + 1000.0 wa[582] + 1000.0 wa[583] + 1000.0 wa[585] + 1000.0 wa[586] + 1000.0 wa[587] + 1000.0 wa[589] + 1000.0 wa[590] + 1000.0 wa[591] + 1000.0 wa[593] + 1000.0 wa[594] + 1000.0 wa[595] + 1000.0 wa[597] + 1000.0 wa[598] + 1000.0 wa[599] + 1000.0 wa[601] + 1000.0 wa[602] + 1000.0 wa[603] + 1000.0 wa[604] + 1000.0 wa[605] + 1000.0 wa[606] + 1000.0 wa[607] + 1000.0 wa[609] + 1000.0 wa[610] + 1000.0 wa[611] + 1000.0 wa[612] + 1000.0 wa[613] + 1000.0 wa[614] + 1000.0 wa[615] + 1000.0 wa[617] + 1000.0 wa[618] + 1000.0 wa[619] + 1000.0 wa[620] + 1000.0 wa[621] + 1000.0 wa[622] + 1000.0 wa[623] + 1000.0 wa[625] + 1000.0 wa[626] + 1000.0 wa[627] + 1000.0 wa[629] + 1000.0 wa[630] + 1000.0 wa[631] + 1000.0 wa[633] + 1000.0 wa[634] + 1000.0 wa[635] + 1000.0 wa[637] + 1000.0 wa[638] + 1000.0 wa[639] + 1000.0 wa[641] + 1000.0 wa[642] + 1000.0 wa[643] + 1000.0 wa[645] + 1000.0 wa[646] + 1000.0 wa[647] + 1000.0 wa[649] + 1000.0 wa[650] + 1000.0 wa[651] + 1000.0 wa[652] + 1000.0 wa[653] + 1000.0 wa[654] + 1000.0 wa[655] + 1000.0 wa[657] + 1000.0 wa[658] + 1000.0 wa[659] + 1000.0 wa[660] + 1000.0 wa[661] + 1000.0 wa[662] + 1000.0 wa[663] + 1000.0 wa[665] + 1000.0 wa[666] + 1000.0 wa[667] + 1000.0 wa[668] + 1000.0 wa[669] + 1000.0 wa[670] + 1000.0 wa[671] + 1000.0 wa[673] + 1000.0 wa[674] + 1000.0 wa[675] + 1000.0 wa[677] + 1000.0 wa[678] + 1000.0 wa[679] + 1000.0 wa[681] + 1000.0 wa[682] + 1000.0 wa[683] + 1000.0 wa[685] + 1000.0 wa[686] + 1000.0 wa[687] + 1000.0 wa[689] + 1000.0 wa[690] + 1000.0 wa[691] + 1000.0 wa[693] + 1000.0 wa[694] + 1000.0 wa[695] + 1000.0 wa[697] + -1000.0 wl[0] + -1000.0 wl[1] + -1000.0 wl[2] + -1000.0 wl[3] + -1000.0 wl[4] + -1000.0 wl[5] + -1000.0 wl[6] + -1000.0 wl[8] + -1000.0 wl[9] + 8.39 wl[10] + -1000.0 wl[11] + -1000.0 wl[13] + -1000.0 wl[16] + -1000.0 wl[17] + -1000.0 wl[18] + -1000.0 wl[22] + -10.0 wl[27] + -1000.0 wl[30] + -1000.0 wl[31] + -1000.0 wl[34] + -1000.0 wl[35] + -1000.0 wl[36] + -1000.0 wl[39] + -1000.0 wl[45] + -1000.0 wl[47] + -1000.0 wl[48] + -1000.0 wl[52] + -1000.0 wl[55] + -1000.0 wl[57] + -1000.0 wl[58] + -1000.0 wl[60] + -1000.0 wl[63] + -1000.0 wl[68] + -1000.0 wl[69] + -1000.0 wl[73] + -1000.0 wl[74] + -1000.0 wl[76] + -1000.0 wl[77] + -1000.0 wl[81] + -1000.0 wl[83] + -1000.0 wl[84] + -1000.0 wl[85] + -1000.0 wl[89] + -1000.0 wl[90] + -1000.0 wl[92] + -1000.0 wl[93] + -1000.0 wl[94] + -1000.0 wl[95] + -1000.0 wl[96] + -1000.0 wl[97] + -1000.0 wl[98] + -1000.0 wl[99] + -1000.0 wl[100] + -1000.0 wl[102] + -1000.0 wl[103] + -1000.0 wl[104] + -1000.0 wl[105] + -1000.0 wl[106] + -1000.0 wl[107] + -1000.0 wl[108] + -1000.0 wl[109] + -1000.0 wl[110] + -1000.0 wl[111] + -1000.0 wl[112] + -1000.0 wl[113] + -1000.0 wl[114] + -1000.0 wl[115] + -1000.0 wl[116] + -1000.0 wl[117] + -1000.0 wl[118] + -1000.0 wl[119] + -1000.0 wl[120] + -1000.0 wl[121] + -1000.0 wl[122] + -1000.0 wl[123] + -1000.0 wl[124] + -1000.0 wl[125] + -1000.0 wl[126] + -1000.0 wl[127] + -1000.0 wl[128] + -1000.0 wl[129] + -1000.0 wl[130] + -1000.0 wl[131] + -1000.0 wl[132] + -1000.0 wl[133] + -1000.0 wl[134] + -1000.0 wl[135] + -1000.0 wl[136] + -1000.0 wl[137] + -1000.0 wl[138] + -1000.0 wl[139] + -1000.0 wl[140] + -1000.0 wl[141] + -1000.0 wl[142] + -1000.0 wl[143] + -1000.0 wl[144] + -1000.0 wl[145] + -1000.0 wl[146] + -1000.0 wl[147] + -1000.0 wl[148] + -1000.0 wl[149] + -1000.0 wl[150] + -1000.0 wl[151] + -1000.0 wl[152] + -1000.0 wl[153] + -1000.0 wl[154] + -1000.0 wl[155] + -1000.0 wl[156] + -1000.0 wl[157] + -1000.0 wl[158] + -1000.0 wl[159] + -1000.0 wl[160] + -1000.0 wl[161] + -1000.0 wl[162] + -1000.0 wl[163] + -1000.0 wl[164] + -1000.0 wl[165] + -1000.0 wl[166] + -1000.0 wl[167] + -1000.0 wl[360] + -1000.0 wl[362] + -1000.0 wl[364] + -1000.0 wl[378] + -1000.0 wl[380] + -1000.0 wl[382] + -1000.0 wl[390] + -1000.0 wl[392] + -1000.0 wl[394] + -1000.0 wl[396] + -1000.0 wl[398] + -1000.0 wl[400] + -1000.0 wl[408] + -1000.0 wl[410] + -1000.0 wl[412] + -1000.0 wl[420] + -1000.0 wl[422] + -1000.0 wl[424] + -1000.0 wl[426] + -1000.0 wl[428] + -1000.0 wl[430] + -1000.0 wl[432] + -1000.0 wl[434] + -1000.0 wl[436] + -1000.0 wl[438] + -1000.0 wl[440] + -1000.0 wl[442] + -1000.0 wl[444] + -1000.0 wl[446] + -1000.0 wl[448] + -1000.0 wl[450] + -1000.0 wl[452] + -1000.0 wl[454] + -1000.0 wl[468] + -1000.0 wl[470] + -1000.0 wl[472] + -1000.0 wl[480] + -1000.0 wl[482] + -1000.0 wl[484] + -1000.0 wu[0] + -1000.0 wu[1] + -1000.0 wu[2] + -1000.0 wu[3] + -1000.0 wu[4] + -1000.0 wu[5] + -1000.0 wu[6] + -1000.0 wu[7] + -1000.0 wu[8] + -1000.0 wu[9] + -1000.0 wu[10] + -1000.0 wu[11] + -1000.0 wu[12] + -1000.0 wu[13] + -1000.0 wu[14] + -1000.0 wu[15] + -1000.0 wu[16] + -1000.0 wu[17] + -1000.0 wu[18] + -1000.0 wu[19] + -1000.0 wu[20] + -1000.0 wu[21] + -1000.0 wu[22] + -1000.0 wu[23] + -1000.0 wu[24] + -1000.0 wu[25] + -1000.0 wu[26] + -1000.0 wu[27] + -1000.0 wu[28] + -1000.0 wu[29] + -1000.0 wu[30] + -1000.0 wu[31] + -1000.0 wu[32] + -1000.0 wu[33] + -1000.0 wu[34] + -1000.0 wu[35] + -1000.0 wu[36] + -1000.0 wu[37] + -1000.0 wu[38] + -1000.0 wu[39] + -1000.0 wu[40] + -1000.0 wu[41] + -1000.0 wu[42] + -1000.0 wu[43] + -1000.0 wu[44] + -1000.0 wu[45] + -1000.0 wu[46] + -1000.0 wu[47] + -1000.0 wu[48] + -1000.0 wu[49] + -1000.0 wu[50] + -1000.0 wu[51] + -1000.0 wu[52] + -1000.0 wu[53] + -1000.0 wu[54] + -1000.0 wu[55] + -1000.0 wu[56] + -1000.0 wu[57] + -1000.0 wu[58] + -1000.0 wu[59] + -1000.0 wu[60] + -1000.0 wu[61] + -1000.0 wu[62] + -1000.0 wu[63] + -1000.0 wu[64] + -1000.0 wu[65] + -1000.0 wu[66] + -1000.0 wu[67] + -1000.0 wu[68] + -1000.0 wu[69] + -1000.0 wu[70] + -1000.0 wu[71] + -1000.0 wu[72] + -1000.0 wu[73] + -1000.0 wu[74] + -1000.0 wu[75] + -1000.0 wu[76] + -1000.0 wu[77] + -1000.0 wu[78] + -1000.0 wu[79] + -1000.0 wu[80] + -1000.0 wu[81] + -1000.0 wu[82] + -1000.0 wu[83] + -1000.0 wu[84] + -1000.0 wu[85] + -1000.0 wu[86] + -1000.0 wu[87] + -1000.0 wu[88] + -1000.0 wu[89] + -1000.0 wu[90] + -1000.0 wu[91] + -1000.0 wu[92] + -1000.0 wu[93] + -1000.0 wu[94] + -1000.0 wu[95] + -1000.0 wu[96] + -1000.0 wu[97] + -1000.0 wu[98] + -1000.0 wu[99] + -1000.0 wu[100] + -1000.0 wu[101] + -1000.0 wu[102] + -1000.0 wu[103] + -1000.0 wu[104] + -1000.0 wu[105] + -1000.0 wu[106] + -1000.0 wu[107] + -1000.0 wu[108] + -1000.0 wu[109] + -1000.0 wu[110] + -1000.0 wu[111] + -1000.0 wu[112] + -1000.0 wu[113] + -1000.0 wu[114] + -1000.0 wu[115] + -1000.0 wu[116] + -1000.0 wu[117] + -1000.0 wu[118] + -1000.0 wu[119] + -1000.0 wu[120] + -1000.0 wu[121] + -1000.0 wu[122] + -1000.0 wu[123] + -1000.0 wu[124] + -1000.0 wu[125] + -1000.0 wu[126] + -1000.0 wu[127] + -1000.0 wu[128] + -1000.0 wu[129] + -1000.0 wu[130] + -1000.0 wu[131] + -1000.0 wu[132] + -1000.0 wu[133] + -1000.0 wu[134] + -1000.0 wu[135] + -1000.0 wu[136] + -1000.0 wu[137] + -1000.0 wu[138] + -1000.0 wu[139] + -1000.0 wu[140] + -1000.0 wu[141] + -1000.0 wu[142] + -1000.0 wu[143] + -1000.0 wu[144] + -1000.0 wu[145] + -1000.0 wu[146] + -1000.0 wu[147] + -1000.0 wu[148] + -1000.0 wu[149] + -1000.0 wu[150] + -1000.0 wu[151] + -1000.0 wu[152] + -1000.0 wu[153] + -1000.0 wu[154] + -1000.0 wu[155] + -1000.0 wu[156] + -1000.0 wu[157] + -1000.0 wu[158] + -1000.0 wu[159] + -1000.0 wu[160] + -1000.0 wu[161] + -1000.0 wu[162] + -1000.0 wu[163] + -1000.0 wu[164] + -1000.0 wu[165] + -1000.0 wu[166] + -1000.0 wu[167] + -1000.0 wu[168] + -1000.0 wu[169] + -1000.0 wu[170] + -1000.0 wu[171] + -1000.0 wu[172] + -1000.0 wu[173] + -1000.0 wu[174] + -1000.0 wu[175] + -1000.0 wu[176] + -1000.0 wu[177] + -1000.0 wu[178] + -1000.0 wu[179] + -1000.0 wu[180] + -1000.0 wu[181] + -1000.0 wu[182] + -1000.0 wu[183] + -1000.0 wu[184] + -1000.0 wu[185] + -1000.0 wu[186] + -1000.0 wu[187] + -1000.0 wu[188] + -1000.0 wu[189] + -1000.0 wu[190] + -1000.0 wu[191] + -1000.0 wu[192] + -1000.0 wu[193] + -1000.0 wu[194] + -1000.0 wu[195] + -1000.0 wu[196] + -1000.0 wu[197] + -1000.0 wu[198] + -1000.0 wu[199] + -1000.0 wu[200] + -1000.0 wu[201] + -1000.0 wu[202] + -1000.0 wu[203] + -1000.0 wu[204] + -1000.0 wu[205] + -1000.0 wu[206] + -1000.0 wu[207] + -1000.0 wu[208] + -1000.0 wu[209] + -1000.0 wu[210] + -1000.0 wu[211] + -1000.0 wu[212] + -1000.0 wu[213] + -1000.0 wu[214] + -1000.0 wu[215] + -1000.0 wu[216] + -1000.0 wu[217] + -1000.0 wu[218] + -1000.0 wu[219] + -1000.0 wu[220] + -1000.0 wu[221] + -1000.0 wu[222] + -1000.0 wu[223] + -1000.0 wu[224] + -1000.0 wu[225] + -1000.0 wu[226] + -1000.0 wu[227] + -1000.0 wu[228] + -1000.0 wu[229] + -1000.0 wu[230] + -1000.0 wu[231] + -1000.0 wu[232] + -1000.0 wu[233] + -1000.0 wu[234] + -1000.0 wu[235] + -1000.0 wu[236] + -1000.0 wu[237] + -1000.0 wu[238] + -1000.0 wu[239] + -1000.0 wu[240] + -1000.0 wu[241] + -1000.0 wu[242] + -1000.0 wu[243] + -1000.0 wu[244] + -1000.0 wu[245] + -1000.0 wu[246] + -1000.0 wu[247] + -1000.0 wu[248] + -1000.0 wu[249] + -1000.0 wu[250] + -1000.0 wu[251] + -1000.0 wu[252] + -1000.0 wu[253] + -1000.0 wu[254] + -1000.0 wu[255] + -1000.0 wu[256] + -1000.0 wu[257] + -1000.0 wu[258] + -1000.0 wu[259] + -1000.0 wu[260] + -1000.0 wu[261] + -1000.0 wu[262] + -1000.0 wu[263] + -1000.0 wu[264] + -1000.0 wu[265] + -1000.0 wu[266] + -1000.0 wu[267] + -1000.0 wu[268] + -1000.0 wu[269] + -1000.0 wu[270] + -1000.0 wu[271] + -1000.0 wu[272] + -1000.0 wu[273] + -1000.0 wu[274] + -1000.0 wu[275] + -1000.0 wu[276] + -1000.0 wu[277] + -1000.0 wu[278] + -1000.0 wu[279] + -1000.0 wu[280] + -1000.0 wu[281] + -1000.0 wu[282] + -1000.0 wu[283] + -1000.0 wu[284] + -1000.0 wu[285] + -1000.0 wu[286] + -1000.0 wu[287] + -1000.0 wu[288] + -1000.0 wu[289] + -1000.0 wu[290] + -1000.0 wu[291] + -1000.0 wu[292] + -1000.0 wu[293] + -1000.0 wu[294] + -1000.0 wu[295] + -1000.0 wu[296] + -1000.0 wu[297] + -1000.0 wu[298] + -1000.0 wu[299] + -1000.0 wu[300] + -1000.0 wu[301] + -1000.0 wu[302] + -1000.0 wu[303] + -1000.0 wu[304] + -1000.0 wu[305] + -1000.0 wu[306] + -1000.0 wu[307] + -1000.0 wu[308] + -1000.0 wu[309] + -1000.0 wu[310] + -1000.0 wu[311] + -1000.0 wu[312] + -1000.0 wu[313] + -1000.0 wu[314] + -1000.0 wu[315] + -1000.0 wu[316] + -1000.0 wu[317] + -1000.0 wu[318] + -1000.0 wu[319] + -1000.0 wu[320] + -1000.0 wu[321] + -1000.0 wu[322] + -1000.0 wu[323] + -1000.0 wu[324] + -1000.0 wu[325] + -1000.0 wu[326] + -1000.0 wu[327] + -1000.0 wu[328] + -1000.0 wu[329] + -1000.0 wu[330] + -1000.0 wu[331] + -1000.0 wu[332] + -1000.0 wu[333] + -1000.0 wu[334] + -1000.0 wu[335] + -1000.0 wu[336] + -1000.0 wu[337] + -1000.0 wu[338] + -1000.0 wu[339] + -1000.0 wu[340] + -1000.0 wu[341] + -1000.0 wu[342] + -1000.0 wu[343] + -1000.0 wu[344] + -1000.0 wu[345] + -1000.0 wu[346] + -1000.0 wu[347] + -1000.0 wu[348] + -1000.0 wu[349] + -1000.0 wu[350] + -1000.0 wu[351] + -1000.0 wu[352] + -1000.0 wu[353] + -1000.0 wu[354] + -1000.0 wu[355] + -1000.0 wu[356] + -1000.0 wu[357] + -1000.0 wu[358] + -1000.0 wu[359] + -1000.0 wu[360] + -1000.0 wu[361] + -1000.0 wu[362] + -1000.0 wu[363] + -1000.0 wu[364] + -1000.0 wu[365] + -1000.0 wu[366] + -1000.0 wu[367] + -1000.0 wu[368] + -1000.0 wu[369] + -1000.0 wu[370] + -1000.0 wu[371] + -1000.0 wu[372] + -1000.0 wu[373] + -1000.0 wu[374] + -1000.0 wu[375] + -1000.0 wu[376] + -1000.0 wu[377] + -1000.0 wu[378] + -1000.0 wu[379] + -1000.0 wu[380] + -1000.0 wu[381] + -1000.0 wu[382] + -1000.0 wu[383] + -1000.0 wu[384] + -1000.0 wu[385] + -1000.0 wu[386] + -1000.0 wu[387] + -1000.0 wu[388] + -1000.0 wu[389] + -1000.0 wu[390] + -1000.0 wu[391] + -1000.0 wu[392] + -1000.0 wu[393] + -1000.0 wu[394] + -1000.0 wu[395] + -1000.0 wu[396] + -1000.0 wu[397] + -1000.0 wu[398] + -1000.0 wu[399] + -1000.0 wu[400] + -1000.0 wu[401] + -1000.0 wu[402] + -1000.0 wu[403] + -1000.0 wu[404] + -1000.0 wu[405] + -1000.0 wu[406] + -1000.0 wu[407] + -1000.0 wu[408] + -1000.0 wu[409] + -1000.0 wu[410] + -1000.0 wu[411] + -1000.0 wu[412] + -1000.0 wu[413] + -1000.0 wu[414] + -1000.0 wu[415] + -1000.0 wu[416] + -1000.0 wu[417] + -1000.0 wu[418] + -1000.0 wu[419] + -1000.0 wu[420] + -1000.0 wu[421] + -1000.0 wu[422] + -1000.0 wu[423] + -1000.0 wu[424] + -1000.0 wu[425] + -1000.0 wu[426] + -1000.0 wu[427] + -1000.0 wu[428] + -1000.0 wu[429] + -1000.0 wu[430] + -1000.0 wu[431] + -1000.0 wu[432] + -1000.0 wu[433] + -1000.0 wu[434] + -1000.0 wu[435] + -1000.0 wu[436] + -1000.0 wu[437] + -1000.0 wu[438] + -1000.0 wu[439] + -1000.0 wu[440] + -1000.0 wu[441] + -1000.0 wu[442] + -1000.0 wu[443] + -1000.0 wu[444] + -1000.0 wu[445] + -1000.0 wu[446] + -1000.0 wu[447] + -1000.0 wu[448] + -1000.0 wu[449] + -1000.0 wu[450] + -1000.0 wu[451] + -1000.0 wu[452] + -1000.0 wu[453] + -1000.0 wu[454] + -1000.0 wu[455] + -1000.0 wu[456] + -1000.0 wu[457] + -1000.0 wu[458] + -1000.0 wu[459] + -1000.0 wu[460] + -1000.0 wu[461] + -1000.0 wu[462] + -1000.0 wu[463] + -1000.0 wu[464] + -1000.0 wu[465] + -1000.0 wu[466] + -1000.0 wu[467] + -1000.0 wu[468] + -1000.0 wu[469] + -1000.0 wu[470] + -1000.0 wu[471] + -1000.0 wu[472] + -1000.0 wu[473] + -1000.0 wu[474] + -1000.0 wu[475] + -1000.0 wu[476] + -1000.0 wu[477] + -1000.0 wu[478] + -1000.0 wu[479] + -1000.0 wu[480] + -1000.0 wu[481] + -1000.0 wu[482] + -1000.0 wu[483] + -1000.0 wu[484] + -1000.0 wu[485] + -1000.0 wu[486] + -1000.0 wu[487] + -1000.0 wu[488] + -1000.0 wu[489] + -1000.0 wu[490] + -1000.0 wu[491]>"
      ]
     },
     "execution_count": 21,
     "metadata": {},
     "output_type": "execute_result"
    }
   ],
   "source": [
    "c = sub.model.model.getConstrByName('fixobjval')\n",
    "print(c.RHS)\n",
    "sub.model.model.getRow(c)"
   ]
  },
  {
   "cell_type": "code",
   "execution_count": 22,
   "metadata": {
    "collapsed": false,
    "deletable": true,
    "editable": true
   },
   "outputs": [
    {
     "data": {
      "text/plain": [
       "<gurobi.LinExpr: 0.001 wa[72] + wa[86] + 0.256 wa[169] + 906.25 wa[170] + 906.25 wa[171] + 93.75 wa[172] + 93.75 wa[173] + 906.25 wa[174] + 906.25 wa[175] + 93.75 wa[177] + 531.25 wa[178] + 531.25 wa[179] + 468.75 wa[180] + 468.75 wa[181] + 531.25 wa[182] + 531.25 wa[183] + 468.75 wa[185] + 1000.0 wa[188] + 1000.0 wa[189] + 1000.0 wa[193] + 875.0 wa[194] + 875.0 wa[195] + 125.0 wa[197] + 875.0 wa[198] + 875.0 wa[199] + 125.0 wa[201] + 531.25 wa[202] + 531.25 wa[203] + 468.75 wa[205] + 531.25 wa[206] + 531.25 wa[207] + 468.75 wa[209] + 31.25 wa[210] + 31.25 wa[211] + 968.75 wa[213] + 31.25 wa[214] + 31.25 wa[215] + 968.75 wa[217] + 906.25 wa[218] + 906.25 wa[219] + 93.75 wa[221] + 906.25 wa[222] + 906.25 wa[223] + 93.75 wa[225] + 531.25 wa[226] + 531.25 wa[227] + 468.75 wa[229] + 531.25 wa[230] + 531.25 wa[231] + 468.75 wa[233] + 1000.0 wa[237] + 1000.0 wa[241] + 531.25 wa[242] + 531.25 wa[243] + 468.75 wa[244] + 468.75 wa[245] + 531.25 wa[246] + 531.25 wa[247] + 468.75 wa[249] + 906.25 wa[250] + 906.25 wa[251] + 93.75 wa[252] + 93.75 wa[253] + 906.25 wa[254] + 906.25 wa[255] + 93.75 wa[257] + 375.0 wa[258] + 375.0 wa[259] + 625.0 wa[260] + 625.0 wa[261] + 375.0 wa[262] + 375.0 wa[263] + 625.0 wa[265] + 906.25 wa[266] + 906.25 wa[267] + 93.75 wa[269] + 906.25 wa[270] + 906.25 wa[271] + 93.75 wa[273] + 531.25 wa[274] + 531.25 wa[275] + 468.75 wa[277] + 531.25 wa[278] + 531.25 wa[279] + 468.75 wa[281] + 1000.0 wa[285] + 1000.0 wa[289] + 906.25 wa[290] + 906.25 wa[291] + 93.75 wa[292] + 93.75 wa[293] + 906.25 wa[294] + 906.25 wa[295] + 93.75 wa[297] + 531.25 wa[298] + 531.25 wa[299] + 468.75 wa[300] + 468.75 wa[301] + 531.25 wa[302] + 531.25 wa[303] + 468.75 wa[305] + 1000.0 wa[308] + 1000.0 wa[309] + 1000.0 wa[313] + 906.25 wa[314] + 906.25 wa[315] + 93.75 wa[316] + 93.75 wa[317] + 906.25 wa[318] + 906.25 wa[319] + 93.75 wa[321] + 531.25 wa[322] + 531.25 wa[323] + 468.75 wa[324] + 468.75 wa[325] + 531.25 wa[326] + 531.25 wa[327] + 468.75 wa[329] + 375.0 wa[330] + 375.0 wa[331] + 625.0 wa[332] + 625.0 wa[333] + 375.0 wa[334] + 375.0 wa[335] + 625.0 wa[337] + 906.25 wa[338] + 906.25 wa[339] + 93.75 wa[341] + 906.25 wa[342] + 906.25 wa[343] + 93.75 wa[345] + 531.25 wa[346] + 531.25 wa[347] + 468.75 wa[349] + 531.25 wa[350] + 531.25 wa[351] + 468.75 wa[353] + 1000.0 wa[357] + 1000.0 wa[361] + 906.25 wa[362] + 906.25 wa[363] + 93.75 wa[364] + 93.75 wa[365] + 906.25 wa[366] + 906.25 wa[367] + 93.75 wa[369] + 500.0 wa[370] + 500.0 wa[371] + 500.0 wa[372] + 500.0 wa[373] + 500.0 wa[374] + 500.0 wa[375] + 500.0 wa[377] + 31.25 wa[378] + 31.25 wa[379] + 968.75 wa[380] + 968.75 wa[381] + 31.25 wa[382] + 31.25 wa[383] + 968.75 wa[385] + 531.25 wa[386] + 531.25 wa[387] + 468.75 wa[389] + 531.25 wa[390] + 531.25 wa[391] + 468.75 wa[393] + 875.0 wa[394] + 875.0 wa[395] + 125.0 wa[397] + 875.0 wa[398] + 875.0 wa[399] + 125.0 wa[401] + 406.25 wa[402] + 406.25 wa[403] + 593.75 wa[405] + 406.25 wa[406] + 406.25 wa[407] + 593.75 wa[409] + 531.25 wa[410] + 531.25 wa[411] + 468.75 wa[412] + 468.75 wa[413] + 531.25 wa[414] + 531.25 wa[415] + 468.75 wa[417] + 906.25 wa[418] + 906.25 wa[419] + 93.75 wa[420] + 93.75 wa[421] + 906.25 wa[422] + 906.25 wa[423] + 93.75 wa[425] + 375.0 wa[426] + 375.0 wa[427] + 625.0 wa[428] + 625.0 wa[429] + 375.0 wa[430] + 375.0 wa[431] + 625.0 wa[433] + 31.25 wa[434] + 31.25 wa[435] + 968.75 wa[436] + 968.75 wa[437] + 31.25 wa[438] + 31.25 wa[439] + 968.75 wa[441] + 875.0 wa[442] + 875.0 wa[443] + 125.0 wa[444] + 125.0 wa[445] + 875.0 wa[446] + 875.0 wa[447] + 125.0 wa[449] + 906.25 wa[450] + 906.25 wa[451] + 93.75 wa[452] + 93.75 wa[453] + 906.25 wa[454] + 906.25 wa[455] + 93.75 wa[457] + 500.0 wa[458] + 500.0 wa[459] + 500.0 wa[460] + 500.0 wa[461] + 500.0 wa[462] + 500.0 wa[463] + 500.0 wa[465] + 906.25 wa[466] + 906.25 wa[467] + 93.75 wa[468] + 93.75 wa[469] + 906.25 wa[470] + 906.25 wa[471] + 93.75 wa[473] + 406.25 wa[474] + 406.25 wa[475] + 593.75 wa[476] + 593.75 wa[477] + 406.25 wa[478] + 406.25 wa[479] + 593.75 wa[481] + 531.25 wa[482] + 531.25 wa[483] + 468.75 wa[484] + 468.75 wa[485] + 531.25 wa[486] + 531.25 wa[487] + 468.75 wa[489] + 406.25 wa[490] + 406.25 wa[491] + 593.75 wa[492] + 593.75 wa[493] + 406.25 wa[494] + 406.25 wa[495] + 593.75 wa[497] + 875.0 wa[498] + 875.0 wa[499] + 125.0 wa[500] + 125.0 wa[501] + 875.0 wa[502] + 875.0 wa[503] + 125.0 wa[505] + 531.25 wa[506] + 531.25 wa[507] + 468.75 wa[508] + 468.75 wa[509] + 531.25 wa[510] + 531.25 wa[511] + 468.75 wa[513] + 531.25 wa[514] + 531.25 wa[515] + 468.75 wa[516] + 468.75 wa[517] + 531.25 wa[518] + 531.25 wa[519] + 468.75 wa[521] + 375.0 wa[522] + 375.0 wa[523] + 625.0 wa[524] + 625.0 wa[525] + 375.0 wa[526] + 375.0 wa[527] + 625.0 wa[529] + 531.25 wa[530] + 531.25 wa[531] + 468.75 wa[532] + 468.75 wa[533] + 531.25 wa[534] + 531.25 wa[535] + 468.75 wa[537] + 906.25 wa[538] + 906.25 wa[539] + 93.75 wa[540] + 93.75 wa[541] + 906.25 wa[542] + 906.25 wa[543] + 93.75 wa[545] + 375.0 wa[546] + 375.0 wa[547] + 625.0 wa[548] + 625.0 wa[549] + 375.0 wa[550] + 375.0 wa[551] + 625.0 wa[553] + 531.25 wa[554] + 531.25 wa[555] + 468.75 wa[557] + 531.25 wa[558] + 531.25 wa[559] + 468.75 wa[561] + 906.25 wa[562] + 906.25 wa[563] + 93.75 wa[565] + 906.25 wa[566] + 906.25 wa[567] + 93.75 wa[569] + 375.0 wa[570] + 375.0 wa[571] + 625.0 wa[573] + 375.0 wa[574] + 375.0 wa[575] + 625.0 wa[577] + 531.25 wa[578] + 531.25 wa[579] + 468.75 wa[581] + 531.25 wa[582] + 531.25 wa[583] + 468.75 wa[585] + 500.0 wa[586] + 500.0 wa[587] + 500.0 wa[589] + 500.0 wa[590] + 500.0 wa[591] + 500.0 wa[593] + 406.25 wa[594] + 406.25 wa[595] + 593.75 wa[597] + 406.25 wa[598] + 406.25 wa[599] + 593.75 wa[601] + 906.25 wa[602] + 906.25 wa[603] + 93.75 wa[604] + 93.75 wa[605] + 906.25 wa[606] + 906.25 wa[607] + 93.75 wa[609] + 906.25 wa[610] + 906.25 wa[611] + 93.75 wa[612] + 93.75 wa[613] + 906.25 wa[614] + 906.25 wa[615] + 93.75 wa[617] + 1000.0 wa[620] + 1000.0 wa[621] + 1000.0 wa[625] + 500.0 wa[626] + 500.0 wa[627] + 500.0 wa[629] + 500.0 wa[630] + 500.0 wa[631] + 500.0 wa[633] + 406.25 wa[634] + 406.25 wa[635] + 593.75 wa[637] + 406.25 wa[638] + 406.25 wa[639] + 593.75 wa[641] + 906.25 wa[642] + 906.25 wa[643] + 93.75 wa[645] + 906.25 wa[646] + 906.25 wa[647] + 93.75 wa[649] + 875.0 wa[650] + 875.0 wa[651] + 125.0 wa[652] + 125.0 wa[653] + 875.0 wa[654] + 875.0 wa[655] + 125.0 wa[657] + 31.25 wa[658] + 31.25 wa[659] + 968.75 wa[660] + 968.75 wa[661] + 31.25 wa[662] + 31.25 wa[663] + 968.75 wa[665] + 906.25 wa[666] + 906.25 wa[667] + 93.75 wa[668] + 93.75 wa[669] + 906.25 wa[670] + 906.25 wa[671] + 93.75 wa[673] + 906.25 wa[674] + 906.25 wa[675] + 93.75 wa[677] + 906.25 wa[678] + 906.25 wa[679] + 93.75 wa[681] + 968.75 wa[682] + 968.75 wa[683] + 31.25 wa[685] + 968.75 wa[686] + 968.75 wa[687] + 31.25 wa[689] + 125.0 wa[690] + 125.0 wa[691] + 875.0 wa[693] + 125.0 wa[694] + 125.0 wa[695] + 875.0 wa[697] + -1000.0 wl[0] + -1000.0 wl[1] + -1000.0 wl[2] + -1000.0 wl[3] + -1000.0 wl[4] + -1000.0 wl[5] + -1000.0 wl[6] + -1000.0 wl[8] + -1000.0 wl[9] + 8.39 wl[10] + -1000.0 wl[11] + -1000.0 wl[13] + -1000.0 wl[16] + -1000.0 wl[17] + -1000.0 wl[18] + -1000.0 wl[22] + -10.0 wl[27] + -1000.0 wl[30] + -1000.0 wl[31] + -1000.0 wl[34] + -1000.0 wl[35] + -1000.0 wl[36] + -1000.0 wl[39] + -1000.0 wl[45] + -1000.0 wl[47] + -1000.0 wl[48] + -1000.0 wl[52] + -1000.0 wl[55] + -1000.0 wl[57] + -1000.0 wl[58] + -1000.0 wl[60] + -1000.0 wl[63] + -1000.0 wl[68] + -1000.0 wl[69] + -1000.0 wl[73] + -1000.0 wl[74] + -1000.0 wl[76] + -1000.0 wl[77] + -1000.0 wl[81] + -1000.0 wl[83] + -1000.0 wl[84] + -1000.0 wl[85] + -1000.0 wl[89] + -1000.0 wl[90] + -1000.0 wl[92] + -1000.0 wl[93] + -1000.0 wl[94] + -1000.0 wl[95] + -1000.0 wl[96] + -1000.0 wl[97] + -1000.0 wl[98] + -1000.0 wl[99] + -1000.0 wl[100] + -1000.0 wl[102] + -1000.0 wl[103] + -1000.0 wl[104] + -1000.0 wl[105] + -1000.0 wl[106] + -1000.0 wl[107] + -1000.0 wl[108] + -1000.0 wl[109] + -1000.0 wl[110] + -1000.0 wl[111] + -1000.0 wl[112] + -1000.0 wl[113] + -1000.0 wl[114] + -1000.0 wl[115] + -1000.0 wl[116] + -1000.0 wl[117] + -1000.0 wl[118] + -1000.0 wl[119] + -1000.0 wl[120] + -1000.0 wl[121] + -1000.0 wl[122] + -1000.0 wl[123] + -1000.0 wl[124] + -1000.0 wl[125] + -1000.0 wl[126] + -1000.0 wl[127] + -1000.0 wl[128] + -1000.0 wl[129] + -1000.0 wl[130] + -1000.0 wl[131] + -1000.0 wl[132] + -1000.0 wl[133] + -1000.0 wl[134] + -1000.0 wl[135] + -1000.0 wl[136] + -1000.0 wl[137] + -1000.0 wl[138] + -1000.0 wl[139] + -1000.0 wl[140] + -1000.0 wl[141] + -1000.0 wl[142] + -1000.0 wl[143] + -1000.0 wl[144] + -1000.0 wl[145] + -1000.0 wl[146] + -1000.0 wl[147] + -1000.0 wl[148] + -1000.0 wl[149] + -1000.0 wl[150] + -1000.0 wl[151] + -1000.0 wl[152] + -1000.0 wl[153] + -1000.0 wl[154] + -1000.0 wl[155] + -1000.0 wl[156] + -1000.0 wl[157] + -1000.0 wl[158] + -1000.0 wl[159] + -1000.0 wl[160] + -1000.0 wl[161] + -1000.0 wl[162] + -1000.0 wl[163] + -1000.0 wl[164] + -1000.0 wl[165] + -1000.0 wl[166] + -1000.0 wl[167] + -1000.0 wl[360] + -1000.0 wl[362] + -1000.0 wl[364] + -1000.0 wl[378] + -1000.0 wl[380] + -1000.0 wl[382] + -1000.0 wl[390] + -1000.0 wl[392] + -1000.0 wl[394] + -1000.0 wl[396] + -1000.0 wl[398] + -1000.0 wl[400] + -1000.0 wl[408] + -1000.0 wl[410] + -1000.0 wl[412] + -1000.0 wl[420] + -1000.0 wl[422] + -1000.0 wl[424] + -1000.0 wl[426] + -1000.0 wl[428] + -1000.0 wl[430] + -1000.0 wl[432] + -1000.0 wl[434] + -1000.0 wl[436] + -1000.0 wl[438] + -1000.0 wl[440] + -1000.0 wl[442] + -1000.0 wl[444] + -1000.0 wl[446] + -1000.0 wl[448] + -1000.0 wl[450] + -1000.0 wl[452] + -1000.0 wl[454] + -1000.0 wl[468] + -1000.0 wl[470] + -1000.0 wl[472] + -1000.0 wl[480] + -1000.0 wl[482] + -1000.0 wl[484] + -1000.0 wu[0] + -1000.0 wu[1] + -1000.0 wu[2] + -1000.0 wu[3] + -1000.0 wu[4] + -1000.0 wu[5] + -1000.0 wu[6] + -1000.0 wu[7] + -1000.0 wu[8] + -1000.0 wu[9] + -1000.0 wu[10] + -1000.0 wu[11] + -1000.0 wu[12] + -1000.0 wu[13] + -1000.0 wu[14] + -1000.0 wu[15] + -1000.0 wu[16] + -1000.0 wu[17] + -1000.0 wu[18] + -1000.0 wu[19] + -1000.0 wu[20] + -1000.0 wu[21] + -1000.0 wu[22] + -1000.0 wu[23] + -1000.0 wu[24] + -1000.0 wu[25] + -1000.0 wu[26] + -1000.0 wu[27] + -1000.0 wu[28] + -1000.0 wu[29] + -1000.0 wu[30] + -1000.0 wu[31] + -1000.0 wu[32] + -1000.0 wu[33] + -1000.0 wu[34] + -1000.0 wu[35] + -1000.0 wu[36] + -1000.0 wu[37] + -1000.0 wu[38] + -1000.0 wu[39] + -1000.0 wu[40] + -1000.0 wu[41] + -1000.0 wu[42] + -1000.0 wu[43] + -1000.0 wu[44] + -1000.0 wu[45] + -1000.0 wu[46] + -1000.0 wu[47] + -1000.0 wu[48] + -1000.0 wu[49] + -1000.0 wu[50] + -1000.0 wu[51] + -1000.0 wu[52] + -1000.0 wu[53] + -1000.0 wu[54] + -1000.0 wu[55] + -1000.0 wu[56] + -1000.0 wu[57] + -1000.0 wu[58] + -1000.0 wu[59] + -1000.0 wu[60] + -1000.0 wu[61] + -1000.0 wu[62] + -1000.0 wu[63] + -1000.0 wu[64] + -1000.0 wu[65] + -1000.0 wu[66] + -1000.0 wu[67] + -1000.0 wu[68] + -1000.0 wu[69] + -1000.0 wu[70] + -1000.0 wu[71] + -1000.0 wu[72] + -1000.0 wu[73] + -1000.0 wu[74] + -1000.0 wu[75] + -1000.0 wu[76] + -1000.0 wu[77] + -1000.0 wu[78] + -1000.0 wu[79] + -1000.0 wu[80] + -1000.0 wu[81] + -1000.0 wu[82] + -1000.0 wu[83] + -1000.0 wu[84] + -1000.0 wu[85] + -1000.0 wu[86] + -1000.0 wu[87] + -1000.0 wu[88] + -1000.0 wu[89] + -1000.0 wu[90] + -1000.0 wu[91] + -1000.0 wu[92] + -1000.0 wu[93] + -1000.0 wu[94] + -1000.0 wu[95] + -1000.0 wu[96] + -1000.0 wu[97] + -1000.0 wu[98] + -1000.0 wu[99] + -1000.0 wu[100] + -1000.0 wu[101] + -1000.0 wu[102] + -1000.0 wu[103] + -1000.0 wu[104] + -1000.0 wu[105] + -1000.0 wu[106] + -1000.0 wu[107] + -1000.0 wu[108] + -1000.0 wu[109] + -1000.0 wu[110] + -1000.0 wu[111] + -1000.0 wu[112] + -1000.0 wu[113] + -1000.0 wu[114] + -1000.0 wu[115] + -1000.0 wu[116] + -1000.0 wu[117] + -1000.0 wu[118] + -1000.0 wu[119] + -1000.0 wu[120] + -1000.0 wu[121] + -1000.0 wu[122] + -1000.0 wu[123] + -1000.0 wu[124] + -1000.0 wu[125] + -1000.0 wu[126] + -1000.0 wu[127] + -1000.0 wu[128] + -1000.0 wu[129] + -1000.0 wu[130] + -1000.0 wu[131] + -1000.0 wu[132] + -1000.0 wu[133] + -1000.0 wu[134] + -1000.0 wu[135] + -1000.0 wu[136] + -1000.0 wu[137] + -1000.0 wu[138] + -1000.0 wu[139] + -1000.0 wu[140] + -1000.0 wu[141] + -1000.0 wu[142] + -1000.0 wu[143] + -1000.0 wu[144] + -1000.0 wu[145] + -1000.0 wu[146] + -1000.0 wu[147] + -1000.0 wu[148] + -1000.0 wu[149] + -1000.0 wu[150] + -1000.0 wu[151] + -1000.0 wu[152] + -1000.0 wu[153] + -1000.0 wu[154] + -1000.0 wu[155] + -1000.0 wu[156] + -1000.0 wu[157] + -1000.0 wu[158] + -1000.0 wu[159] + -1000.0 wu[160] + -1000.0 wu[161] + -1000.0 wu[162] + -1000.0 wu[163] + -1000.0 wu[164] + -1000.0 wu[165] + -1000.0 wu[166] + -1000.0 wu[167] + -1000.0 wu[168] + -1000.0 wu[169] + -1000.0 wu[170] + -1000.0 wu[171] + -1000.0 wu[172] + -1000.0 wu[173] + -1000.0 wu[174] + -1000.0 wu[175] + -1000.0 wu[176] + -1000.0 wu[177] + -1000.0 wu[178] + -1000.0 wu[179] + -1000.0 wu[180] + -1000.0 wu[181] + -1000.0 wu[182] + -1000.0 wu[183] + -1000.0 wu[184] + -1000.0 wu[185] + -1000.0 wu[186] + -1000.0 wu[187] + -1000.0 wu[188] + -1000.0 wu[189] + -1000.0 wu[190] + -1000.0 wu[191] + -1000.0 wu[192] + -1000.0 wu[193] + -1000.0 wu[194] + -1000.0 wu[195] + -1000.0 wu[196] + -1000.0 wu[197] + -1000.0 wu[198] + -1000.0 wu[199] + -1000.0 wu[200] + -1000.0 wu[201] + -1000.0 wu[202] + -1000.0 wu[203] + -1000.0 wu[204] + -1000.0 wu[205] + -1000.0 wu[206] + -1000.0 wu[207] + -1000.0 wu[208] + -1000.0 wu[209] + -1000.0 wu[210] + -1000.0 wu[211] + -1000.0 wu[212] + -1000.0 wu[213] + -1000.0 wu[214] + -1000.0 wu[215] + -1000.0 wu[216] + -1000.0 wu[217] + -1000.0 wu[218] + -1000.0 wu[219] + -1000.0 wu[220] + -1000.0 wu[221] + -1000.0 wu[222] + -1000.0 wu[223] + -1000.0 wu[224] + -1000.0 wu[225] + -1000.0 wu[226] + -1000.0 wu[227] + -1000.0 wu[228] + -1000.0 wu[229] + -1000.0 wu[230] + -1000.0 wu[231] + -1000.0 wu[232] + -1000.0 wu[233] + -1000.0 wu[234] + -1000.0 wu[235] + -1000.0 wu[236] + -1000.0 wu[237] + -1000.0 wu[238] + -1000.0 wu[239] + -1000.0 wu[240] + -1000.0 wu[241] + -1000.0 wu[242] + -1000.0 wu[243] + -1000.0 wu[244] + -1000.0 wu[245] + -1000.0 wu[246] + -1000.0 wu[247] + -1000.0 wu[248] + -1000.0 wu[249] + -1000.0 wu[250] + -1000.0 wu[251] + -1000.0 wu[252] + -1000.0 wu[253] + -1000.0 wu[254] + -1000.0 wu[255] + -1000.0 wu[256] + -1000.0 wu[257] + -1000.0 wu[258] + -1000.0 wu[259] + -1000.0 wu[260] + -1000.0 wu[261] + -1000.0 wu[262] + -1000.0 wu[263] + -1000.0 wu[264] + -1000.0 wu[265] + -1000.0 wu[266] + -1000.0 wu[267] + -1000.0 wu[268] + -1000.0 wu[269] + -1000.0 wu[270] + -1000.0 wu[271] + -1000.0 wu[272] + -1000.0 wu[273] + -1000.0 wu[274] + -1000.0 wu[275] + -1000.0 wu[276] + -1000.0 wu[277] + -1000.0 wu[278] + -1000.0 wu[279] + -1000.0 wu[280] + -1000.0 wu[281] + -1000.0 wu[282] + -1000.0 wu[283] + -1000.0 wu[284] + -1000.0 wu[285] + -1000.0 wu[286] + -1000.0 wu[287] + -1000.0 wu[288] + -1000.0 wu[289] + -1000.0 wu[290] + -1000.0 wu[291] + -1000.0 wu[292] + -1000.0 wu[293] + -1000.0 wu[294] + -1000.0 wu[295] + -1000.0 wu[296] + -1000.0 wu[297] + -1000.0 wu[298] + -1000.0 wu[299] + -1000.0 wu[300] + -1000.0 wu[301] + -1000.0 wu[302] + -1000.0 wu[303] + -1000.0 wu[304] + -1000.0 wu[305] + -1000.0 wu[306] + -1000.0 wu[307] + -1000.0 wu[308] + -1000.0 wu[309] + -1000.0 wu[310] + -1000.0 wu[311] + -1000.0 wu[312] + -1000.0 wu[313] + -1000.0 wu[314] + -1000.0 wu[315] + -1000.0 wu[316] + -1000.0 wu[317] + -1000.0 wu[318] + -1000.0 wu[319] + -1000.0 wu[320] + -1000.0 wu[321] + -1000.0 wu[322] + -1000.0 wu[323] + -1000.0 wu[324] + -1000.0 wu[325] + -1000.0 wu[326] + -1000.0 wu[327] + -1000.0 wu[328] + -1000.0 wu[329] + -1000.0 wu[330] + -1000.0 wu[331] + -1000.0 wu[332] + -1000.0 wu[333] + -1000.0 wu[334] + -1000.0 wu[335] + -1000.0 wu[336] + -1000.0 wu[337] + -1000.0 wu[338] + -1000.0 wu[339] + -1000.0 wu[340] + -1000.0 wu[341] + -1000.0 wu[342] + -1000.0 wu[343] + -1000.0 wu[344] + -1000.0 wu[345] + -1000.0 wu[346] + -1000.0 wu[347] + -1000.0 wu[348] + -1000.0 wu[349] + -1000.0 wu[350] + -1000.0 wu[351] + -1000.0 wu[352] + -1000.0 wu[353] + -1000.0 wu[354] + -1000.0 wu[355] + -1000.0 wu[356] + -1000.0 wu[357] + -1000.0 wu[358] + -1000.0 wu[359] + -1000.0 wu[360] + -1000.0 wu[361] + -1000.0 wu[362] + -1000.0 wu[363] + -1000.0 wu[364] + -1000.0 wu[365] + -1000.0 wu[366] + -1000.0 wu[367] + -1000.0 wu[368] + -1000.0 wu[369] + -1000.0 wu[370] + -1000.0 wu[371] + -1000.0 wu[372] + -1000.0 wu[373] + -1000.0 wu[374] + -1000.0 wu[375] + -1000.0 wu[376] + -1000.0 wu[377] + -1000.0 wu[378] + -1000.0 wu[379] + -1000.0 wu[380] + -1000.0 wu[381] + -1000.0 wu[382] + -1000.0 wu[383] + -1000.0 wu[384] + -1000.0 wu[385] + -1000.0 wu[386] + -1000.0 wu[387] + -1000.0 wu[388] + -1000.0 wu[389] + -1000.0 wu[390] + -1000.0 wu[391] + -1000.0 wu[392] + -1000.0 wu[393] + -1000.0 wu[394] + -1000.0 wu[395] + -1000.0 wu[396] + -1000.0 wu[397] + -1000.0 wu[398] + -1000.0 wu[399] + -1000.0 wu[400] + -1000.0 wu[401] + -1000.0 wu[402] + -1000.0 wu[403] + -1000.0 wu[404] + -1000.0 wu[405] + -1000.0 wu[406] + -1000.0 wu[407] + -1000.0 wu[408] + -1000.0 wu[409] + -1000.0 wu[410] + -1000.0 wu[411] + -1000.0 wu[412] + -1000.0 wu[413] + -1000.0 wu[414] + -1000.0 wu[415] + -1000.0 wu[416] + -1000.0 wu[417] + -1000.0 wu[418] + -1000.0 wu[419] + -1000.0 wu[420] + -1000.0 wu[421] + -1000.0 wu[422] + -1000.0 wu[423] + -1000.0 wu[424] + -1000.0 wu[425] + -1000.0 wu[426] + -1000.0 wu[427] + -1000.0 wu[428] + -1000.0 wu[429] + -1000.0 wu[430] + -1000.0 wu[431] + -1000.0 wu[432] + -1000.0 wu[433] + -1000.0 wu[434] + -1000.0 wu[435] + -1000.0 wu[436] + -1000.0 wu[437] + -1000.0 wu[438] + -1000.0 wu[439] + -1000.0 wu[440] + -1000.0 wu[441] + -1000.0 wu[442] + -1000.0 wu[443] + -1000.0 wu[444] + -1000.0 wu[445] + -1000.0 wu[446] + -1000.0 wu[447] + -1000.0 wu[448] + -1000.0 wu[449] + -1000.0 wu[450] + -1000.0 wu[451] + -1000.0 wu[452] + -1000.0 wu[453] + -1000.0 wu[454] + -1000.0 wu[455] + -1000.0 wu[456] + -1000.0 wu[457] + -1000.0 wu[458] + -1000.0 wu[459] + -1000.0 wu[460] + -1000.0 wu[461] + -1000.0 wu[462] + -1000.0 wu[463] + -1000.0 wu[464] + -1000.0 wu[465] + -1000.0 wu[466] + -1000.0 wu[467] + -1000.0 wu[468] + -1000.0 wu[469] + -1000.0 wu[470] + -1000.0 wu[471] + -1000.0 wu[472] + -1000.0 wu[473] + -1000.0 wu[474] + -1000.0 wu[475] + -1000.0 wu[476] + -1000.0 wu[477] + -1000.0 wu[478] + -1000.0 wu[479] + -1000.0 wu[480] + -1000.0 wu[481] + -1000.0 wu[482] + -1000.0 wu[483] + -1000.0 wu[484] + -1000.0 wu[485] + -1000.0 wu[486] + -1000.0 wu[487] + -1000.0 wu[488] + -1000.0 wu[489] + -1000.0 wu[490] + -1000.0 wu[491]>"
      ]
     },
     "execution_count": 22,
     "metadata": {},
     "output_type": "execute_result"
    }
   ],
   "source": [
    "sub.model.model.getObjective()"
   ]
  },
  {
   "cell_type": "code",
   "execution_count": 23,
   "metadata": {
    "collapsed": false
   },
   "outputs": [
    {
     "data": {
      "text/plain": [
       "array([0.046875, 0.234375, 1.      , 0.0625  , 0.234375, 0.984375,\n",
       "       0.046875, 0.234375, 1.      , 0.234375, 0.046875, 0.8125  ,\n",
       "       0.046875, 0.234375, 1.      , 0.046875, 0.234375, 1.      ,\n",
       "       0.046875, 0.234375, 0.8125  , 0.046875, 0.234375, 1.      ,\n",
       "       0.046875, 0.25    , 0.984375, 0.234375, 0.0625  , 0.796875,\n",
       "       0.234375, 0.046875, 0.8125  , 0.984375, 0.0625  , 0.046875,\n",
       "       0.25    , 0.046875, 0.796875, 0.234375, 0.796875, 0.0625  ,\n",
       "       0.234375, 0.234375, 0.8125  , 0.234375, 0.046875, 0.8125  ,\n",
       "       0.234375, 0.046875, 0.8125  , 0.234375, 0.25    , 0.796875,\n",
       "       0.046875, 0.046875, 1.      , 0.25    , 0.796875, 0.046875,\n",
       "       0.0625  , 0.984375, 0.046875, 0.046875, 0.015625, 0.9375  ])"
      ]
     },
     "execution_count": 23,
     "metadata": {},
     "output_type": "execute_result"
    }
   ],
   "source": [
    "master.y0"
   ]
  },
  {
   "cell_type": "markdown",
   "metadata": {},
   "source": [
    "from dynamicme.callback_gurobi import constraint_satisfied\n",
    "x_dict = {v:v.X for v in master.model.getVars()}\n",
    "for c in list(master.optcuts) + list(master.feascuts):\n",
    "    print(constraint_satisfied(c, x_dict, master.model.Params.FeasibilityTol))\n",
    "    if not constraint_satisfied(c, x_dict, master.model.Params.FeasibilityTol):\n",
    "        print(c)"
   ]
  },
  {
   "cell_type": "code",
   "execution_count": 24,
   "metadata": {
    "collapsed": false
   },
   "outputs": [],
   "source": [
    "# x_dict"
   ]
  },
  {
   "cell_type": "code",
   "execution_count": 25,
   "metadata": {
    "collapsed": false,
    "deletable": true,
    "editable": true
   },
   "outputs": [],
   "source": [
    "# yopt = master.solve_loop()"
   ]
  },
  {
   "cell_type": "code",
   "execution_count": 26,
   "metadata": {
    "collapsed": false,
    "deletable": true,
    "editable": true
   },
   "outputs": [],
   "source": [
    "#master.model.Params.Presolve = 0\n",
    "#master.model.Params.ScaleFlag = 0\n",
    "#master.model.Params.Heuristics = 0   # cbLazy might be bugged by heuristics"
   ]
  },
  {
   "cell_type": "markdown",
   "metadata": {
    "deletable": true,
    "editable": true
   },
   "source": [
    "master.model.Params.OutputFlag = 1\n",
    "master._verbosity = 1\n",
    "master.model.optimize(cb_benders_multi)"
   ]
  },
  {
   "cell_type": "markdown",
   "metadata": {
    "deletable": true,
    "editable": true
   },
   "source": [
    "## For faster debugging, only keep binary for known keff changes"
   ]
  },
  {
   "cell_type": "markdown",
   "metadata": {
    "collapsed": false,
    "deletable": true,
    "editable": true
   },
   "source": [
    "### Initial core point: y_jkl=1 for digit(k)=1, power(l)=0 forall j\n",
    "nkeffs = len(var_cons_dict)\n",
    "\n",
    "var_ind = {v:j for j,v in enumerate(master._ys)}\n",
    "y0 = np.ones(len(master._ys))\n",
    "for r in var_cons_dict.keys():\n",
    "    for k in range(len(digits)):\n",
    "        for l in range(len(powers)):\n",
    "            var = master.model.getVarByName('binary_%s%s%s'%(r,k,l))\n",
    "            ind = var_ind[var]\n",
    "            if digits[k]==1 and powers[l]==0:                \n",
    "                y0[ind] = 1\n",
    "            else:\n",
    "                y0[ind] = 0\n",
    "            ### Also use as initial feasible solution (and possibly incumbent)\n",
    "            var.Start = y0[ind]\n",
    "sum(y0)"
   ]
  },
  {
   "cell_type": "markdown",
   "metadata": {
    "deletable": true,
    "editable": true
   },
   "source": [
    "def opt_nondom(sub, y0):\n",
    "    # Add or update the constraint for same obj\n",
    "    cons = sub.model.model.getConstrByName('fixobjval')\n",
    "    if cons is None:\n",
    "        expr = sub.model.model.getObjective() == sub.model.model.ObjVal\n",
    "        cons = sub.model.model.addConstr(expr, name='fixobjval')\n",
    "    else:\n",
    "        cons.RHS = sub.model.model.ObjVal\n",
    "        obj = sub.model.model.getObjective()\n",
    "        for j in range(obj.size()):\n",
    "            v = obj.getVar(j)\n",
    "            sub.model.model.chgCoeff(cons, v, obj.getCoeff(j))\n",
    "    # Change the objective function\n",
    "    sub.update_obj(y0)\n",
    "    sub.model.optimize()\n",
    "    # Relax the constraint for next iter\n",
    "    cons.Sense = GRB.LESS_EQUAL\n",
    "    cons.RHS   = GRB.INFINITY"
   ]
  },
  {
   "cell_type": "code",
   "execution_count": 27,
   "metadata": {
    "collapsed": false,
    "deletable": true,
    "editable": true
   },
   "outputs": [
    {
     "name": "stdout",
     "output_type": "stream",
     "text": [
      "Number of non-zero binaries: 22\n"
     ]
    }
   ],
   "source": [
    "sol_master = {x.VarName:x.X for x in master.model.getVars()}\n",
    "#yopt = [sol_master[y.VarName] for y in master._ys]\n",
    "print('Number of non-zero binaries: %g' % sum(yopt))\n",
    "# Fitted parameters"
   ]
  },
  {
   "cell_type": "markdown",
   "metadata": {
    "collapsed": true,
    "deletable": true,
    "editable": true
   },
   "source": [
    "sol_master = est.solution.x_dict\n",
    "var_cons_dict = est.var_cons_dict\n",
    "powers = est.powers\n",
    "digits = est.digits\n",
    "radix  = est.radix"
   ]
  },
  {
   "cell_type": "code",
   "execution_count": 28,
   "metadata": {
    "collapsed": false,
    "deletable": true,
    "editable": true
   },
   "outputs": [
    {
     "name": "stdout",
     "output_type": "stream",
     "text": [
      "Changed keffs: 19/22\n",
      "Cond=glucose. mu_meas=0.74. mu_sim=0.873922 (unfit=0.873922, error=18.1%). Error=18.1% (-1.78e-10% change)\n",
      "\tEX_glc__D_e uptake=-10\n",
      "\tEX_fru_e uptake=0\n",
      "\tEX_succ_e uptake=0\n",
      "\tEX_mal__L_e uptake=0\n",
      "\tEX_ac_e uptake=0\n",
      "Cond=acetate. mu_meas=0.256. mu_sim=0.389313 (unfit=0.389313, error=52.1%). Error=52.1% (4.64e-11% change)\n",
      "\tEX_glc__D_e uptake=0\n",
      "\tEX_fru_e uptake=0\n",
      "\tEX_succ_e uptake=0\n",
      "\tEX_mal__L_e uptake=0\n",
      "\tEX_ac_e uptake=-20\n"
     ]
    }
   ],
   "source": [
    "kfit_dict = {}\n",
    "for group_id, var_dict in iteritems(var_cons_dict):\n",
    "    var = var_dict[0]\n",
    "    cons = var_dict[1]\n",
    "    a0  = var_dict[0][2]\n",
    "    kfit = 0.\n",
    "    for l,pwr in enumerate(powers):\n",
    "        for k,digit in enumerate(digits):            \n",
    "            yid = 'binary_%s%s%s' % (group_id,k,l)\n",
    "            y   = sol_master[yid]\n",
    "#             if abs(y)>1e-10:\n",
    "#                 print('%s. Value=%s. Power=%g. Digit=%g' % (yid, y, pwr, digit))            \n",
    "            kfit += y*a0*radix**pwr*digit\n",
    "    kfit_dict[group_id] = kfit\n",
    "\n",
    "kfit_changed = [(k,v, abs(v-a0)/a0) for k,v in iteritems(kfit_dict) if abs(v-a0)/a0>1e-6]\n",
    "print('Changed keffs: %d/%d' % (len(kfit_changed), len(var_cons_dict)))\n",
    "# print('kfit_changed:',kfit_changed)\n",
    "\n",
    "#----------------------------------------\n",
    "# Starting from basal model\n",
    "csrcs = df_conds.cond.unique()\n",
    "for csrc in csrcs:    \n",
    "    ijofit = load_json_model('/home/laurence/ME/models/e_coli_core_pc.json')\n",
    "    crowding = ijofit.metabolites.get_by_id('crowding')\n",
    "    df_condi = df_conds[ df_conds.cond==csrc]    \n",
    "    for i,row in df_condi.iterrows():\n",
    "        rid = row['rxn']\n",
    "        rxn = ijofit.reactions.get_by_id(rid)\n",
    "        rxn.lower_bound = row['lb']\n",
    "        rxn.upper_bound = row['ub']\n",
    "\n",
    "    for rid,kfit in iteritems(kfit_dict):\n",
    "        rxn = ijofit.reactions.get_by_id(rid)\n",
    "        rxn.add_metabolites({crowding:kfit}, combine=False)\n",
    "    \n",
    "    ijofit.optimize()\n",
    "    \n",
    "    mu_measi = df_meas[ df_meas.substrate==csrc].growth_rate_1_h.iloc[0]\n",
    "    mu_fiti = ijofit.reactions.BIOMASS_Ecoli_core_w_GAM.x\n",
    "    \n",
    "    # Get unfit\n",
    "    for rxn in ijofit.metabolites.crowding.reactions:\n",
    "        rxn._metabolites[crowding] = a0\n",
    "    ijofit.optimize()\n",
    "    mu_unfiti = ijofit.reactions.BIOMASS_Ecoli_core_w_GAM.x\n",
    "    err0= 100*(mu_unfiti-mu_measi)/mu_measi\n",
    "    err = 100*(mu_fiti - mu_measi)/mu_measi\n",
    "    derr= 100*(abs(err)-abs(err0))/abs(err0)\n",
    "    print('Cond=%s. mu_meas=%g. mu_sim=%g (unfit=%g, error=%.3g%%). Error=%.3g%% (%.3g%% change)' % (csrc, mu_measi, mu_fiti, mu_unfiti, err0, err, derr))\n",
    "    for i,row in df_condi.iterrows():\n",
    "        rid = row['rxn']\n",
    "        rxn = ijofit.reactions.get_by_id(rid)        \n",
    "        print('\\t%s uptake=%g' % (rxn.id, rxn.x))"
   ]
  },
  {
   "cell_type": "markdown",
   "metadata": {
    "collapsed": false,
    "deletable": true,
    "editable": true
   },
   "source": [
    "import json\n",
    "\n",
    "with open('/home/laurence/ME/data/dynamicME/kfit_changed.json','w') as f:\n",
    "    json.dump(kfit_changed,f)"
   ]
  }
 ],
 "metadata": {
  "kernelspec": {
   "display_name": "Python 2",
   "language": "python",
   "name": "python2"
  },
  "language_info": {
   "codemirror_mode": {
    "name": "ipython",
    "version": 2
   },
   "file_extension": ".py",
   "mimetype": "text/x-python",
   "name": "python",
   "nbconvert_exporter": "python",
   "pygments_lexer": "ipython2",
   "version": "2.7.14"
  }
 },
 "nbformat": 4,
 "nbformat_minor": 2
}
