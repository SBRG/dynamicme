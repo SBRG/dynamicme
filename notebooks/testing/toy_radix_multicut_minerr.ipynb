{
 "cells": [
  {
   "cell_type": "markdown",
   "metadata": {
    "deletable": true,
    "editable": true
   },
   "source": [
    "# Toy Radix Benders Multicut"
   ]
  },
  {
   "cell_type": "code",
   "execution_count": 1,
   "metadata": {
    "collapsed": true,
    "deletable": true,
    "editable": true
   },
   "outputs": [],
   "source": [
    "SCALE_CROWDING=False\n",
    "PREVENT_ZERO = True\n",
    "REG_WEIGHT = 0. #1e-4    # Regularization weight"
   ]
  },
  {
   "cell_type": "code",
   "execution_count": 2,
   "metadata": {
    "collapsed": false,
    "deletable": true,
    "editable": true
   },
   "outputs": [],
   "source": [
    "%load_ext line_profiler"
   ]
  },
  {
   "cell_type": "code",
   "execution_count": 3,
   "metadata": {
    "collapsed": false,
    "deletable": true,
    "editable": true
   },
   "outputs": [
    {
     "name": "stdout",
     "output_type": "stream",
     "text": [
      "(<type 'exceptions.ImportError'>, ImportError('No module named cplex',), <traceback object at 0x7fe010dac368>)\n"
     ]
    }
   ],
   "source": [
    "from gurobipy import *\n",
    "\n",
    "import seaborn as sns\n",
    "import pandas as pd\n",
    "import matplotlib.pyplot as plt\n",
    "import numpy as np\n",
    "\n",
    "plt.rcParams['svg.fonttype'] = 'none'\n",
    "pd.set_option('display.max_colwidth', -1)\n",
    "%matplotlib inline\n",
    "\n",
    "from dynamicme.decomposition import Decomposer\n",
    "from dynamicme.callback_gurobi import cb_benders\n",
    "from dynamicme.optimize import Optimizer, StackOptimizer\n",
    "from dynamicme.optimize import Constraint, Variable\n",
    "\n",
    "from cobra.io import load_json_model\n",
    "from cobra import Metabolite, Reaction\n",
    "from six import iteritems\n",
    "\n",
    "import numpy as np\n",
    "import cobra"
   ]
  },
  {
   "cell_type": "markdown",
   "metadata": {
    "deletable": true,
    "editable": true
   },
   "source": [
    "### Try optimizing using radix for one condition first"
   ]
  },
  {
   "cell_type": "code",
   "execution_count": 4,
   "metadata": {
    "collapsed": true,
    "deletable": true,
    "editable": true
   },
   "outputs": [],
   "source": [
    "#----------------------------------------\n",
    "# Starting from basal model\n",
    "ijomc = load_json_model('/home/laurence/ME/models/BiGG_M/json/e_coli_core.json')\n",
    "mdl_ref = ijomc\n",
    "keff0 = 1./65/3600\n",
    "#crowding_bound = 0.0003\n",
    "crowding_bound0 = 0.001\n",
    "crowding_bound = crowding_bound0\n",
    "\n",
    "not_crowded = ['ATPM']\n",
    "rxns_c = [r for r in ijomc.reactions if all([m.compartment=='c' for m in r.metabolites.keys()]) and 'BIOMASS' not in r.id and r.id not in not_crowded]\n",
    "crowding_dict = {rxn:keff0 for rxn in rxns_c}\n",
    "#----------------------------------------\n",
    "\n",
    "# Temporarily add crowding constraint for the duality gap constraint\n",
    "crowding = Constraint('crowding')\n",
    "crowding._bound = crowding_bound\n",
    "crowding._constraint_sense = 'L'\n",
    "for rxn,keff in iteritems(crowding_dict):\n",
    "    rxn.add_metabolites({crowding:keff})"
   ]
  },
  {
   "cell_type": "code",
   "execution_count": 5,
   "metadata": {
    "collapsed": false,
    "deletable": true,
    "editable": true
   },
   "outputs": [
    {
     "name": "stdout",
     "output_type": "stream",
     "text": [
      "0.873921506968\n"
     ]
    }
   ],
   "source": [
    "ijomc.optimize()\n",
    "mu_crowd0 = ijomc.reactions.BIOMASS_Ecoli_core_w_GAM.x\n",
    "print(mu_crowd0)"
   ]
  },
  {
   "cell_type": "code",
   "execution_count": 6,
   "metadata": {
    "collapsed": true,
    "deletable": true,
    "editable": true
   },
   "outputs": [],
   "source": [
    "df_meas = pd.read_csv('/home/laurence/ME/data/dynamicME/beg/growth_meas.csv')\n",
    "\n",
    "ex_rxns = [r for r in df_meas.ex_rxn.unique() if mdl_ref.reactions.has_id(r)]\n",
    "df_meas = df_meas[ df_meas.ex_rxn.isin(ex_rxns)]\n",
    "conds = df_meas.substrate.unique()\n",
    "\n",
    "#N_CONDS = len(conds)\n",
    "N_CONDS = 2\n",
    "\n",
    "df_conds = pd.DataFrame([{'cond':r['substrate'], 'rxn':ex_rxn, 'lb':-10 if r['ex_rxn']==ex_rxn else 0, 'ub':1000., 'obj':0.} for i,r in df_meas.iterrows() for ex_rxn in ex_rxns])\n",
    "\n",
    "if N_CONDS<=3:\n",
    "    df_conds = df_conds[ df_conds.cond.isin(['glucose','acetate','succinate'][0:N_CONDS])]\n",
    "else:\n",
    "    df_conds = df_conds[ df_conds.cond.isin(conds[0:N_CONDS])]"
   ]
  },
  {
   "cell_type": "markdown",
   "metadata": {
    "deletable": true,
    "editable": true
   },
   "source": [
    "## Need to allow higher growth for acetate with higher uptake rate"
   ]
  },
  {
   "cell_type": "code",
   "execution_count": 7,
   "metadata": {
    "collapsed": true,
    "deletable": true,
    "editable": true
   },
   "outputs": [],
   "source": [
    "df_conds.loc[ (df_conds.cond=='acetate') & (df_conds.rxn=='EX_ac_e'), 'lb'] = -20"
   ]
  },
  {
   "cell_type": "code",
   "execution_count": 8,
   "metadata": {
    "collapsed": true,
    "deletable": true,
    "editable": true
   },
   "outputs": [],
   "source": [
    "from dynamicme.decomposition import BendersSubmodel, BendersMaster\n",
    "from dynamicme.generate import copy_model"
   ]
  },
  {
   "cell_type": "code",
   "execution_count": 9,
   "metadata": {
    "collapsed": false,
    "deletable": true,
    "editable": true
   },
   "outputs": [
    {
     "name": "stdout",
     "output_type": "stream",
     "text": [
      "('Radix:', 2.0)\n",
      "('Powers:', [-1, 0, 1])\n",
      "('Digits:', [1.0])\n",
      "Changed value of parameter InfUnbdInfo to 1\n",
      "   Prev: 0  Min: 0  Max: 1  Default: 0\n",
      "Changed value of parameter InfUnbdInfo to 1\n",
      "   Prev: 0  Min: 0  Max: 1  Default: 0\n"
     ]
    },
    {
     "name": "stderr",
     "output_type": "stream",
     "text": [
      "/usr/lib/python2.7/site-packages/ipykernel/__main__.py:11 \u001b[1;31mDeprecationWarning\u001b[0m: object of type <type 'float'> cannot be safely interpreted as an integer.\n"
     ]
    },
    {
     "name": "stdout",
     "output_type": "stream",
     "text": [
      "Changed value of parameter Presolve to 0\n",
      "   Prev: -1  Min: -1  Max: 2  Default: -1\n",
      "Changed value of parameter LazyConstraints to 1\n",
      "   Prev: 0  Min: 0  Max: 1  Default: 0\n",
      "Changed value of parameter IntFeasTol to 1e-09\n",
      "   Prev: 1e-05  Min: 1e-09  Max: 0.1  Default: 1e-05\n"
     ]
    }
   ],
   "source": [
    "from dynamicme.optimize import Variable, Constraint\n",
    "import numpy as np\n",
    "\n",
    "radix = 2.\n",
    "print('Radix:',radix)\n",
    "#powers = np.arange(-3,4)\n",
    "powers = [-1, 0, 1]\n",
    "print('Powers:', powers)\n",
    "digits_per_power = radix\n",
    "pwr_max = max(powers)\n",
    "digits = list(set(np.linspace(1, radix-1, digits_per_power)))\n",
    "print('Digits:', digits)\n",
    "\n",
    "# Get the group ID from reference model\n",
    "mu_id = 'BIOMASS_Ecoli_core_w_GAM'\n",
    "mdl_ref = ijomc\n",
    "crowding_ref = mdl_ref.metabolites.crowding\n",
    "conds = df_conds.cond.unique()\n",
    "sub_dict = {}\n",
    "for cond in conds:\n",
    "    mdl_ind = cond\n",
    "    mdl = copy_model(ijomc, suffix='_%s'%mdl_ind)            \n",
    "    opt = Optimizer(mdl)\n",
    "    gap = opt.add_duality_gap_constraint(INF=1e3, inplace=True, index=mdl_ind)\n",
    "    #----------------------------------------------------\n",
    "    # Now, add min abs err\n",
    "    #----------------------------------------------------\n",
    "    for rxn in gap.reactions:\n",
    "        rxn.objective_coefficient = 0.\n",
    "    mu_meas = df_meas[ df_meas.substrate==mdl_ind].growth_rate_1_h.iloc[0]\n",
    "    sp = Variable('sp_%s'%mdl_ind, lower_bound=0., upper_bound=1e3)\n",
    "    sn = Variable('sn_%s'%mdl_ind, lower_bound=0., upper_bound=1e3)\n",
    "    sp.objective_coefficient = (1.-REG_WEIGHT)/(mu_meas+1) #1.\n",
    "    sn.objective_coefficient = (1.-REG_WEIGHT)/(mu_meas+1) #1.\n",
    "    cons = Constraint('abs_err_%s'%mdl_ind)\n",
    "    cons._constraint_sense = 'E'\n",
    "    cons._bound = mu_meas\n",
    "    gap.add_metabolites(cons)\n",
    "    gap.add_reactions([sp,sn])\n",
    "    # mu - mu_meas = sp-sn\n",
    "    # mu -sp + sn = mu_meas\n",
    "    # min sp + sn\n",
    "    sp.add_metabolites({cons:-1.})\n",
    "    sn.add_metabolites({cons:1.})\n",
    "    rxn_mu = gap.reactions.get_by_id(mu_id+'_%s'%mdl_ind)\n",
    "    rxn_mu.add_metabolites({cons:1.})\n",
    "    #----------------------------------------------------\n",
    "    \n",
    "    dfi = df_conds[ df_conds.cond==cond]\n",
    "    var_cons_dict = {}\n",
    "    for rxn_ref in crowding_ref.reactions:    \n",
    "        crowding_p = mdl.metabolites.get_by_id('crowding_%s'%mdl_ind)\n",
    "        var_d = mdl.reactions.get_by_id('wa_%s'%crowding_p.id)\n",
    "        rxn_p = mdl.reactions.get_by_id(rxn_ref.id+'_%s'%mdl_ind)\n",
    "        cons_ds = [m for m in var_d.metabolites.keys() if rxn_p.id==m.id]        \n",
    "        a0 = rxn_p.metabolites[crowding_p]\n",
    "        if var_cons_dict.has_key(rxn_ref.id):\n",
    "            var_cons_dict[rxn_ref.id] += [(rxn_p, crowding_p, a0)] + [(var_d, cons_d, a0) for cons_d in cons_ds]\n",
    "        else:\n",
    "            var_cons_dict[rxn_ref.id] = [(rxn_p, crowding_p, a0)] + [(var_d, cons_d, a0) for cons_d in cons_ds]\n",
    "        \n",
    "    opt.to_radix(gap, var_cons_dict, radix, powers, digits=digits, prevent_zero=PREVENT_ZERO)    \n",
    "    sub = BendersSubmodel(gap, cond)\n",
    "    sub_dict[cond] = sub\n",
    "    \n",
    "for group_id in var_cons_dict.keys():\n",
    "    for l,pwr in enumerate(powers):\n",
    "        for k,digit in enumerate(digits):\n",
    "            yid = 'binary_%s%s%s'%(group_id,k,l)\n",
    "            y   = gap.reactions.get_by_id(yid)\n",
    "            ### PREFER pwr=0, digit=1\n",
    "            if pwr==0 and digit==1:\n",
    "                y.objective_coefficient = 0.\n",
    "            else:\n",
    "                y.objective_coefficient = REG_WEIGHT\n",
    "    \n",
    "master = BendersMaster(gap)"
   ]
  },
  {
   "cell_type": "code",
   "execution_count": 10,
   "metadata": {
    "collapsed": false,
    "deletable": true,
    "editable": true
   },
   "outputs": [],
   "source": [
    "master.add_submodels(sub_dict)"
   ]
  },
  {
   "cell_type": "code",
   "execution_count": 11,
   "metadata": {
    "collapsed": true,
    "deletable": true,
    "editable": true
   },
   "outputs": [],
   "source": [
    "from dynamicme.callback_gurobi import cb_benders_multi, cb_benders"
   ]
  },
  {
   "cell_type": "code",
   "execution_count": 12,
   "metadata": {
    "collapsed": false
   },
   "outputs": [],
   "source": [
    "#master.model.Params.Presolve = 0\n",
    "#master.model.Params.ScaleFlag = 0\n",
    "#master.model.Params.Heuristics = 0   # cbLazy might be bugged by heuristics"
   ]
  },
  {
   "cell_type": "code",
   "execution_count": null,
   "metadata": {
    "collapsed": false
   },
   "outputs": [],
   "source": [
    "# master.model.getRow(master.model.getConstrByName('z_cut'))"
   ]
  },
  {
   "cell_type": "code",
   "execution_count": null,
   "metadata": {
    "collapsed": false,
    "deletable": true,
    "editable": true,
    "scrolled": true
   },
   "outputs": [
    {
     "name": "stdout",
     "output_type": "stream",
     "text": [
      "Parameter OutputFlag unchanged\n",
      "   Value: 1  Min: 0  Max: 1  Default: 1\n",
      "Optimize a model with 193 rows, 147 columns and 291 nonzeros\n",
      "Variable types: 3 continuous, 144 integer (0 binary)\n",
      "Coefficient statistics:\n",
      "  Matrix range     [1e+00, 1e+00]\n",
      "  Objective range  [1e+00, 1e+00]\n",
      "  Bounds range     [1e+00, 1e+03]\n",
      "  RHS range        [9e-01, 1e+00]\n",
      "Variable types: 3 continuous, 144 integer (144 binary)\n",
      "Best UB=0.380602. Best LB=-1e+100 (MIP_OBJBND=-1000). Gap=1e+100. Relgap=2.62742e+102%. nFeasCut=0. nOptCut=4\n",
      "Best UB=0.380602. Best LB=-1000 (MIP_OBJBND=-1000). Gap=1000.38. Relgap=262842%. nFeasCut=0. nOptCut=6\n",
      "\n",
      "Root relaxation: objective -3.355088e+00, 93 iterations, 0.00 seconds\n",
      "\n",
      "    Nodes    |    Current Node    |     Objective Bounds      |     Work\n",
      " Expl Unexpl |  Obj  Depth IntInf | Incumbent    BestBd   Gap | It/Node Time\n",
      "\n",
      "     0     0   -1.67132    0    2          -   -1.67132      -     -    0s\n",
      "H    0     0                       0.5689421   -1.67132   394%     -    0s\n",
      "     0     0   -1.34796    0   11    0.56894   -1.34796   337%     -    0s\n",
      "     0     0   -1.34516    0    6    0.56894   -1.34516   336%     -    0s\n",
      "     0     0   -1.34509    0    6    0.56894   -1.34509   336%     -    0s\n",
      "     0     0   -1.34509    0    6    0.56894   -1.34509   336%     -    0s\n",
      "     0     0   -1.34509    0    6    0.56894   -1.34509   336%     -    0s\n",
      "     0     2   -1.34509    0    5    0.56894   -1.34509   336%     -    0s\n",
      "Best UB=0.352528. Best LB=-1.3449 (MIP_OBJBND=-1.3449). Gap=1.69743. Relgap=481.502%. nFeasCut=0. nOptCut=28\n",
      "Best UB=0.352528. Best LB=-1.3449 (MIP_OBJBND=-1.3449). Gap=1.69743. Relgap=481.502%. nFeasCut=0. nOptCut=36\n",
      "Best UB=0.352528. Best LB=-1.3448 (MIP_OBJBND=-1.3448). Gap=1.69733. Relgap=481.472%. nFeasCut=0. nOptCut=44\n",
      "H 1027   853                       0.5648543   -1.01530   280%   4.2    2s\n",
      "H 1033   814                       0.3895669   -0.96951   349%   4.2    3s\n",
      "  1041   819    0.38957   76   50    0.38957   -0.93825   341%   4.2    5s\n",
      "  1065   835   -0.85477   24   75    0.38957   -0.92948   339%   4.1   10s\n",
      "  1081   846    0.38957   76   76    0.38957   -0.92583   338%   4.0   15s\n",
      "  1095   855   -0.92088   24   79    0.38957   -0.92088   336%   4.0   20s\n",
      "  1105   862   -0.85477   24   77    0.38957   -0.91919   336%   3.9   25s\n",
      "  1114   868   -0.91772   24   85    0.38957   -0.91772   336%   3.9   30s\n",
      "Best UB=0.352528. Best LB=-0.916573 (MIP_OBJBND=-0.916573). Gap=1.2691. Relgap=360%. nFeasCut=0. nOptCut=748\n",
      "  1222   940   -0.88960   18   60    0.38957   -0.91657   335%  14.4   35s\n",
      "Best UB=0.352528. Best LB=-0.916573 (MIP_OBJBND=-0.916573). Gap=1.2691. Relgap=360%. nFeasCut=0. nOptCut=774\n",
      "Best UB=0.352528. Best LB=-0.916573 (MIP_OBJBND=-0.916573). Gap=1.2691. Relgap=360%. nFeasCut=0. nOptCut=798\n",
      "  1502  1106   -0.67202   28   22    0.38957   -0.91657   335%  19.2   40s\n",
      "Best UB=0.352528. Best LB=-0.916573 (MIP_OBJBND=-0.916573). Gap=1.2691. Relgap=360%. nFeasCut=0. nOptCut=824\n",
      "Best UB=0.352528. Best LB=-0.916573 (MIP_OBJBND=-0.916573). Gap=1.2691. Relgap=360%. nFeasCut=0. nOptCut=886\n",
      "* 2122  1331              95       0.3873272   -0.91657   337%  17.3   42s\n",
      "* 2219  1299              95       0.3868620   -0.91292   336%  17.2   42s\n",
      "  2486  1388   -0.79686   27   47    0.38686   -0.91207   336%  18.5   45s\n",
      "Best UB=0.352528. Best LB=-0.912074 (MIP_OBJBND=-0.912074). Gap=1.2646. Relgap=358.723%. nFeasCut=0. nOptCut=1030\n",
      "Best UB=0.352528. Best LB=-0.912074 (MIP_OBJBND=-0.912074). Gap=1.2646. Relgap=358.723%. nFeasCut=0. nOptCut=1078\n",
      "Best UB=0.352528. Best LB=-0.912074 (MIP_OBJBND=-0.912074). Gap=1.2646. Relgap=358.723%. nFeasCut=0. nOptCut=1082\n",
      "Best UB=0.352528. Best LB=-0.910807 (MIP_OBJBND=-0.910807). Gap=1.26334. Relgap=358.364%. nFeasCut=0. nOptCut=1092\n",
      "Best UB=0.352528. Best LB=-0.910807 (MIP_OBJBND=-0.910807). Gap=1.26334. Relgap=358.364%. nFeasCut=0. nOptCut=1094\n",
      "  3455  1813   -0.87769   27   62    0.38686   -0.91015   335%  19.5   50s\n",
      "Best UB=0.352528. Best LB=-0.910147 (MIP_OBJBND=-0.910147). Gap=1.26268. Relgap=358.177%. nFeasCut=0. nOptCut=1126\n",
      "Best UB=0.352528. Best LB=-0.910147 (MIP_OBJBND=-0.910147). Gap=1.26268. Relgap=358.177%. nFeasCut=0. nOptCut=1126\n",
      "Best UB=0.352528. Best LB=-0.910147 (MIP_OBJBND=-0.910147). Gap=1.26268. Relgap=358.177%. nFeasCut=0. nOptCut=1126\n",
      "Best UB=0.352528. Best LB=-0.909965 (MIP_OBJBND=-0.909965). Gap=1.26249. Relgap=358.125%. nFeasCut=0. nOptCut=1130\n",
      "Best UB=0.352528. Best LB=-0.909194 (MIP_OBJBND=-0.908957). Gap=1.26172. Relgap=357.907%. nFeasCut=0. nOptCut=1152\n",
      "Best UB=0.352528. Best LB=-0.908957 (MIP_OBJBND=-0.908957). Gap=1.26149. Relgap=357.839%. nFeasCut=0. nOptCut=1154\n",
      "  4227  2398   -0.89310   24   65    0.38686   -0.90896   335%  20.2   55s\n",
      "Best UB=0.352528. Best LB=-0.908957 (MIP_OBJBND=-0.908957). Gap=1.26149. Relgap=357.839%. nFeasCut=0. nOptCut=1158\n",
      "Best UB=0.352528. Best LB=-0.908957 (MIP_OBJBND=-0.908957). Gap=1.26149. Relgap=357.839%. nFeasCut=0. nOptCut=1162\n",
      "Best UB=0.352528. Best LB=-0.908957 (MIP_OBJBND=-0.908957). Gap=1.26149. Relgap=357.839%. nFeasCut=0. nOptCut=1166\n",
      "Best UB=0.352528. Best LB=-0.908957 (MIP_OBJBND=-0.908957). Gap=1.26149. Relgap=357.839%. nFeasCut=0. nOptCut=1172\n",
      "Best UB=0.352528. Best LB=-0.908957 (MIP_OBJBND=-0.908957). Gap=1.26149. Relgap=357.839%. nFeasCut=0. nOptCut=1172\n",
      "Best UB=0.352528. Best LB=-0.908957 (MIP_OBJBND=-0.908957). Gap=1.26149. Relgap=357.839%. nFeasCut=0. nOptCut=1172\n",
      "Best UB=0.352528. Best LB=-0.908957 (MIP_OBJBND=-0.908957). Gap=1.26149. Relgap=357.839%. nFeasCut=0. nOptCut=1174\n",
      "Best UB=0.352528. Best LB=-0.908957 (MIP_OBJBND=-0.908957). Gap=1.26149. Relgap=357.839%. nFeasCut=0. nOptCut=1188\n",
      "Best UB=0.352528. Best LB=-0.908957 (MIP_OBJBND=-0.908957). Gap=1.26149. Relgap=357.839%. nFeasCut=0. nOptCut=1202\n",
      "Best UB=0.352528. Best LB=-0.908957 (MIP_OBJBND=-0.90718). Gap=1.26149. Relgap=357.839%. nFeasCut=0. nOptCut=1212\n",
      "Best UB=0.352528. Best LB=-0.906949 (MIP_OBJBND=-0.906789). Gap=1.25948. Relgap=357.27%. nFeasCut=0. nOptCut=1232\n",
      "Best UB=0.352528. Best LB=-0.906683 (MIP_OBJBND=-0.906683). Gap=1.25921. Relgap=357.194%. nFeasCut=0. nOptCut=1234\n",
      "  5617  3439    0.32356   85    1    0.38686   -0.90659   334%  20.6   60s\n",
      "Best UB=0.352528. Best LB=-0.906586 (MIP_OBJBND=-0.906586). Gap=1.25911. Relgap=357.167%. nFeasCut=0. nOptCut=1256\n",
      "Best UB=0.352528. Best LB=-0.906586 (MIP_OBJBND=-0.906384). Gap=1.25911. Relgap=357.167%. nFeasCut=0. nOptCut=1260\n",
      "Best UB=0.352528. Best LB=-0.906384 (MIP_OBJBND=-0.906384). Gap=1.25891. Relgap=357.11%. nFeasCut=0. nOptCut=1274\n",
      "Best UB=0.352528. Best LB=-0.90581 (MIP_OBJBND=-0.905789). Gap=1.25834. Relgap=356.947%. nFeasCut=0. nOptCut=1282\n",
      "  6246  3898    0.00296   93    -    0.38686   -0.90568   334%  21.2   65s\n",
      "Best UB=0.352528. Best LB=-0.905218 (MIP_OBJBND=-0.905218). Gap=1.25775. Relgap=356.779%. nFeasCut=0. nOptCut=1302\n",
      "Best UB=0.352528. Best LB=-0.905218 (MIP_OBJBND=-0.905218). Gap=1.25775. Relgap=356.779%. nFeasCut=0. nOptCut=1302\n",
      "Best UB=0.352528. Best LB=-0.905141 (MIP_OBJBND=-0.905141). Gap=1.25767. Relgap=356.757%. nFeasCut=0. nOptCut=1316\n",
      "Best UB=0.352528. Best LB=-0.905141 (MIP_OBJBND=-0.905141). Gap=1.25767. Relgap=356.757%. nFeasCut=0. nOptCut=1316\n",
      "Best UB=0.352528. Best LB=-0.904582 (MIP_OBJBND=-0.904582). Gap=1.25711. Relgap=356.598%. nFeasCut=0. nOptCut=1344\n",
      "Best UB=0.352528. Best LB=-0.904523 (MIP_OBJBND=-0.904523). Gap=1.25705. Relgap=356.581%. nFeasCut=0. nOptCut=1350\n",
      "Best UB=0.352528. Best LB=-0.904523 (MIP_OBJBND=-0.904523). Gap=1.25705. Relgap=356.581%. nFeasCut=0. nOptCut=1362\n",
      "  7337  4764   -0.87827   20   61    0.38686   -0.90452   334%  22.0   70s\n",
      "Best UB=0.352528. Best LB=-0.904481 (MIP_OBJBND=-0.904481). Gap=1.25701. Relgap=356.57%. nFeasCut=0. nOptCut=1388\n",
      "Best UB=0.352528. Best LB=-0.904481 (MIP_OBJBND=-0.904481). Gap=1.25701. Relgap=356.57%. nFeasCut=0. nOptCut=1388\n",
      "Best UB=0.352528. Best LB=-0.904337 (MIP_OBJBND=-0.904337). Gap=1.25687. Relgap=356.529%. nFeasCut=0. nOptCut=1398\n",
      "Best UB=0.352528. Best LB=-0.904337 (MIP_OBJBND=-0.904337). Gap=1.25687. Relgap=356.529%. nFeasCut=0. nOptCut=1400\n",
      "Best UB=0.352528. Best LB=-0.904337 (MIP_OBJBND=-0.903899). Gap=1.25687. Relgap=356.529%. nFeasCut=0. nOptCut=1404\n",
      "Best UB=0.352528. Best LB=-0.903899 (MIP_OBJBND=-0.903899). Gap=1.25643. Relgap=356.404%. nFeasCut=0. nOptCut=1406\n",
      "  8331  5538   -0.23960   82    -    0.38686   -0.90390   334%  22.7   75s\n",
      "Best UB=0.352528. Best LB=-0.902784 (MIP_OBJBND=-0.902651). Gap=1.25531. Relgap=356.088%. nFeasCut=0. nOptCut=1444\n",
      "Best UB=0.352528. Best LB=-0.902651 (MIP_OBJBND=-0.902651). Gap=1.25518. Relgap=356.051%. nFeasCut=0. nOptCut=1452\n",
      "Best UB=0.352528. Best LB=-0.902057 (MIP_OBJBND=-0.902057). Gap=1.25459. Relgap=355.882%. nFeasCut=0. nOptCut=1462\n",
      "Best UB=0.352528. Best LB=-0.902057 (MIP_OBJBND=-0.902057). Gap=1.25459. Relgap=355.882%. nFeasCut=0. nOptCut=1462\n",
      "  9337  6308     cutoff   92         0.38686   -0.90197   333%  23.3   80s\n",
      "Best UB=0.352528. Best LB=-0.901889 (MIP_OBJBND=-0.901889). Gap=1.25442. Relgap=355.834%. nFeasCut=0. nOptCut=1476\n",
      "Best UB=0.352528. Best LB=-0.901889 (MIP_OBJBND=-0.901889). Gap=1.25442. Relgap=355.834%. nFeasCut=0. nOptCut=1492\n",
      "Best UB=0.352528. Best LB=-0.901889 (MIP_OBJBND=-0.901889). Gap=1.25442. Relgap=355.834%. nFeasCut=0. nOptCut=1510\n",
      " 10392  7164    0.04050   81    -    0.38686   -0.90119   333%  23.9   86s\n",
      "Best UB=0.352528. Best LB=-0.900972 (MIP_OBJBND=-0.900972). Gap=1.2535. Relgap=355.574%. nFeasCut=0. nOptCut=1574\n",
      "Best UB=0.352528. Best LB=-0.900972 (MIP_OBJBND=-0.900972). Gap=1.2535. Relgap=355.574%. nFeasCut=0. nOptCut=1576\n",
      "Best UB=0.352528. Best LB=-0.900972 (MIP_OBJBND=-0.900669). Gap=1.2535. Relgap=355.574%. nFeasCut=0. nOptCut=1578\n",
      " 11167  7799   -0.77271   39   43    0.38686   -0.90049   333%  24.5   91s\n",
      "Best UB=0.352528. Best LB=-0.90048 (MIP_OBJBND=-0.90048). Gap=1.25301. Relgap=355.435%. nFeasCut=0. nOptCut=1622\n",
      "Best UB=0.352528. Best LB=-0.90048 (MIP_OBJBND=-0.900088). Gap=1.25301. Relgap=355.435%. nFeasCut=0. nOptCut=1624\n",
      "Best UB=0.352528. Best LB=-0.900088 (MIP_OBJBND=-0.900088). Gap=1.25262. Relgap=355.323%. nFeasCut=0. nOptCut=1628\n",
      "Best UB=0.352528. Best LB=-0.900088 (MIP_OBJBND=-0.899875). Gap=1.25262. Relgap=355.323%. nFeasCut=0. nOptCut=1628\n",
      " 11761  8283     cutoff   81         0.38686   -0.89988   333%  25.2   95s\n",
      "Best UB=0.352528. Best LB=-0.899875 (MIP_OBJBND=-0.899875). Gap=1.2524. Relgap=355.263%. nFeasCut=0. nOptCut=1632\n",
      "Best UB=0.352528. Best LB=-0.899875 (MIP_OBJBND=-0.899875). Gap=1.2524. Relgap=355.263%. nFeasCut=0. nOptCut=1644\n",
      "Best UB=0.352528. Best LB=-0.899829 (MIP_OBJBND=-0.899507). Gap=1.25236. Relgap=355.25%. nFeasCut=0. nOptCut=1650\n",
      "Best UB=0.352528. Best LB=-0.899829 (MIP_OBJBND=-0.899507). Gap=1.25236. Relgap=355.25%. nFeasCut=0. nOptCut=1650\n",
      "Best UB=0.352528. Best LB=-0.899507 (MIP_OBJBND=-0.899507). Gap=1.25204. Relgap=355.159%. nFeasCut=0. nOptCut=1670\n",
      "Best UB=0.352528. Best LB=-0.899507 (MIP_OBJBND=-0.899507). Gap=1.25204. Relgap=355.159%. nFeasCut=0. nOptCut=1672\n",
      "Best UB=0.352528. Best LB=-0.899312 (MIP_OBJBND=-0.899312). Gap=1.25184. Relgap=355.103%. nFeasCut=0. nOptCut=1682\n",
      "Best UB=0.352528. Best LB=-0.899312 (MIP_OBJBND=-0.899312). Gap=1.25184. Relgap=355.103%. nFeasCut=0. nOptCut=1684\n",
      " 12539  8884     cutoff   90         0.38686   -0.89909   332%  25.5  101s\n",
      "Best UB=0.352528. Best LB=-0.898783 (MIP_OBJBND=-0.898643). Gap=1.25131. Relgap=354.953%. nFeasCut=0. nOptCut=1700\n",
      "Best UB=0.352528. Best LB=-0.898643 (MIP_OBJBND=-0.898643). Gap=1.25117. Relgap=354.913%. nFeasCut=0. nOptCut=1702\n",
      "Best UB=0.352528. Best LB=-0.898587 (MIP_OBJBND=-0.898587). Gap=1.25112. Relgap=354.898%. nFeasCut=0. nOptCut=1710\n",
      "Best UB=0.352528. Best LB=-0.898092 (MIP_OBJBND=-0.898092). Gap=1.25062. Relgap=354.757%. nFeasCut=0. nOptCut=1712\n",
      " 13465  9621   -0.60293   49   23    0.38686   -0.89806   332%  25.4  105s\n",
      "Best UB=0.352528. Best LB=-0.897604 (MIP_OBJBND=-0.897536). Gap=1.25013. Relgap=354.619%. nFeasCut=0. nOptCut=1774\n",
      " 13954 10045    0.36362   80    1    0.38686   -0.89743   332%  26.0  116s\n",
      "Best UB=0.352528. Best LB=-0.89726 (MIP_OBJBND=-0.89726). Gap=1.24979. Relgap=354.521%. nFeasCut=0. nOptCut=1816\n",
      " 14392 10365     cutoff   88         0.38686   -0.89698   332%  26.1  121s\n",
      "Best UB=0.352528. Best LB=-0.89679 (MIP_OBJBND=-0.896764). Gap=1.24932. Relgap=354.388%. nFeasCut=0. nOptCut=1830\n",
      "Best UB=0.352528. Best LB=-0.896735 (MIP_OBJBND=-0.896735). Gap=1.24926. Relgap=354.372%. nFeasCut=0. nOptCut=1838\n",
      " 15172 11024    0.25155   78    -    0.38686   -0.89659   332%  26.5  127s\n",
      " 15210 11068     cutoff   79         0.38686   -0.89638   332%  26.5  130s\n",
      "Best UB=0.352528. Best LB=-0.896345 (MIP_OBJBND=-0.896345). Gap=1.24887. Relgap=354.262%. nFeasCut=0. nOptCut=1890\n",
      "Best UB=0.352528. Best LB=-0.896345 (MIP_OBJBND=-0.896345). Gap=1.24887. Relgap=354.262%. nFeasCut=0. nOptCut=1894\n",
      "Best UB=0.352528. Best LB=-0.896345 (MIP_OBJBND=-0.896159). Gap=1.24887. Relgap=354.262%. nFeasCut=0. nOptCut=1894\n",
      "Best UB=0.352528. Best LB=-0.896117 (MIP_OBJBND=-0.896061). Gap=1.24865. Relgap=354.197%. nFeasCut=0. nOptCut=1902\n",
      " 15991 11650    0.04440   78    2    0.38686   -0.89588   332%  26.8  136s\n",
      "Best UB=0.352528. Best LB=-0.895623 (MIP_OBJBND=-0.895623). Gap=1.24815. Relgap=354.057%. nFeasCut=0. nOptCut=1924\n",
      "Best UB=0.352528. Best LB=-0.895275 (MIP_OBJBND=-0.895275). Gap=1.2478. Relgap=353.958%. nFeasCut=0. nOptCut=1936\n",
      "Best UB=0.352528. Best LB=-0.895089 (MIP_OBJBND=-0.895089). Gap=1.24762. Relgap=353.905%. nFeasCut=0. nOptCut=1946\n",
      "Best UB=0.352528. Best LB=-0.894759 (MIP_OBJBND=-0.894759). Gap=1.24729. Relgap=353.812%. nFeasCut=0. nOptCut=1972\n",
      " 16988 12454   -0.72722   36   37    0.38686   -0.89459   331%  26.9  143s\n",
      "Best UB=0.352528. Best LB=-0.894506 (MIP_OBJBND=-0.89442). Gap=1.24703. Relgap=353.74%. nFeasCut=0. nOptCut=1984\n",
      " 17486 12889    0.32818   85    -    0.38686   -0.89439   331%  27.0  146s\n",
      "Best UB=0.352528. Best LB=-0.894381 (MIP_OBJBND=-0.894381). Gap=1.24691. Relgap=353.705%. nFeasCut=0. nOptCut=1996\n",
      "Best UB=0.352528. Best LB=-0.894381 (MIP_OBJBND=-0.894369). Gap=1.24691. Relgap=353.705%. nFeasCut=0. nOptCut=1996\n",
      "Best UB=0.352528. Best LB=-0.894369 (MIP_OBJBND=-0.894369). Gap=1.2469. Relgap=353.701%. nFeasCut=0. nOptCut=1998\n",
      " 17937 13270     cutoff   85         0.38686   -0.89424   331%  27.2  151s\n",
      "Best UB=0.352528. Best LB=-0.893914 (MIP_OBJBND=-0.893896). Gap=1.24644. Relgap=353.572%. nFeasCut=0. nOptCut=2050\n",
      "Best UB=0.352528. Best LB=-0.893739 (MIP_OBJBND=-0.893739). Gap=1.24627. Relgap=353.523%. nFeasCut=0. nOptCut=2056\n",
      "Best UB=0.352528. Best LB=-0.893739 (MIP_OBJBND=-0.893739). Gap=1.24627. Relgap=353.523%. nFeasCut=0. nOptCut=2056\n",
      "Best UB=0.352528. Best LB=-0.893642 (MIP_OBJBND=-0.893614). Gap=1.24617. Relgap=353.495%. nFeasCut=0. nOptCut=2060\n",
      "Best UB=0.352528. Best LB=-0.893642 (MIP_OBJBND=-0.893614). Gap=1.24617. Relgap=353.495%. nFeasCut=0. nOptCut=2060\n",
      "Best UB=0.352528. Best LB=-0.893642 (MIP_OBJBND=-0.893614). Gap=1.24617. Relgap=353.495%. nFeasCut=0. nOptCut=2060\n",
      "Best UB=0.352528. Best LB=-0.893614 (MIP_OBJBND=-0.893614). Gap=1.24614. Relgap=353.487%. nFeasCut=0. nOptCut=2062\n",
      " 18756 13941   -0.41855   71    6    0.38686   -0.89356   331%  27.4  158s\n",
      "Best UB=0.349073. Best LB=-0.893565 (MIP_OBJBND=-0.893565). Gap=1.24264. Relgap=355.983%. nFeasCut=0. nOptCut=2068\n",
      "Best UB=0.349073. Best LB=-0.893565 (MIP_OBJBND=-0.89356). Gap=1.24264. Relgap=355.983%. nFeasCut=0. nOptCut=2070\n",
      " 19365 14397   -0.21660   89    -    0.38686   -0.89255   331%  27.4  162s\n",
      " 20004 14965   -0.12827   89    1    0.38686   -0.89208   331%  27.4  166s\n",
      "Best UB=0.349073. Best LB=-0.891809 (MIP_OBJBND=-0.891809). Gap=1.24088. Relgap=355.48%. nFeasCut=0. nOptCut=2136\n",
      " 20690 15502   -0.12821   90    1    0.38686   -0.89174   331%  27.4  170s\n",
      "Best UB=0.349073. Best LB=-0.891602 (MIP_OBJBND=-0.891547). Gap=1.24067. Relgap=355.42%. nFeasCut=0. nOptCut=2152\n",
      "Best UB=0.349073. Best LB=-0.891547 (MIP_OBJBND=-0.891547). Gap=1.24062. Relgap=355.404%. nFeasCut=0. nOptCut=2154\n",
      "Best UB=0.349073. Best LB=-0.891531 (MIP_OBJBND=-0.891513). Gap=1.2406. Relgap=355.4%. nFeasCut=0. nOptCut=2160\n",
      "Best UB=0.349073. Best LB=-0.891497 (MIP_OBJBND=-0.891417). Gap=1.24057. Relgap=355.39%. nFeasCut=0. nOptCut=2168\n",
      "Best UB=0.349073. Best LB=-0.891417 (MIP_OBJBND=-0.891417). Gap=1.24049. Relgap=355.367%. nFeasCut=0. nOptCut=2170\n",
      " 21364 16072   -0.09423   92    -    0.38686   -0.89133   330%  27.5  175s\n",
      "Best UB=0.349073. Best LB=-0.891285 (MIP_OBJBND=-0.891285). Gap=1.24036. Relgap=355.329%. nFeasCut=0. nOptCut=2180\n",
      "Best UB=0.349073. Best LB=-0.891285 (MIP_OBJBND=-0.891152). Gap=1.24036. Relgap=355.329%. nFeasCut=0. nOptCut=2184\n",
      "Best UB=0.349073. Best LB=-0.891148 (MIP_OBJBND=-0.891148). Gap=1.24022. Relgap=355.29%. nFeasCut=0. nOptCut=2186\n",
      " 22118 16766   -0.05920   93    -    0.38686   -0.89059   330%  27.5  180s\n",
      "Best UB=0.349073. Best LB=-0.890501 (MIP_OBJBND=-0.890393). Gap=1.23957. Relgap=355.105%. nFeasCut=0. nOptCut=2238\n",
      "Best UB=0.349073. Best LB=-0.890393 (MIP_OBJBND=-0.890393). Gap=1.23947. Relgap=355.074%. nFeasCut=0. nOptCut=2240\n",
      " 22655 17191   -0.63119   53   17    0.38686   -0.89026   330%  27.6  185s\n",
      "Best UB=0.349073. Best LB=-0.889847 (MIP_OBJBND=-0.889847). Gap=1.23892. Relgap=354.917%. nFeasCut=0. nOptCut=2280\n",
      "Best UB=0.349073. Best LB=-0.889775 (MIP_OBJBND=-0.889775). Gap=1.23885. Relgap=354.897%. nFeasCut=0. nOptCut=2292\n",
      "Best UB=0.349073. Best LB=-0.889568 (MIP_OBJBND=-0.889505). Gap=1.23864. Relgap=354.838%. nFeasCut=0. nOptCut=2296\n",
      " 24031 18389     cutoff   82         0.38686   -0.88929   330%  27.8  209s\n",
      " 24067 18448   -0.80741   24   57    0.38686   -0.88886   330%  27.8  214s\n",
      "Best UB=0.349073. Best LB=-0.888602 (MIP_OBJBND=-0.888602). Gap=1.23767. Relgap=354.561%. nFeasCut=0. nOptCut=2354\n",
      " 24455 18778   -0.03235   96    1    0.38686   -0.88847   330%  27.8  215s\n",
      "*24485 18627             117       0.3621559   -0.88847   345%  27.7  215s\n",
      "Best UB=0.349073. Best LB=-0.888371 (MIP_OBJBND=-0.888371). Gap=1.23744. Relgap=354.495%. nFeasCut=0. nOptCut=2394\n",
      "Best UB=0.349073. Best LB=-0.888229 (MIP_OBJBND=-0.888229). Gap=1.2373. Relgap=354.454%. nFeasCut=0. nOptCut=2402\n",
      " 24831 18826    0.30601   80    -    0.36216   -0.88791   345%  27.8  220s\n",
      "Best UB=0.349073. Best LB=-0.887906 (MIP_OBJBND=-0.887906). Gap=1.23698. Relgap=354.361%. nFeasCut=0. nOptCut=2408\n",
      "Best UB=0.349073. Best LB=-0.887906 (MIP_OBJBND=-0.887906). Gap=1.23698. Relgap=354.361%. nFeasCut=0. nOptCut=2408\n",
      "Best UB=0.341299. Best LB=-0.887644 (MIP_OBJBND=-0.887644). Gap=1.22894. Relgap=360.078%. nFeasCut=0. nOptCut=2428\n",
      " 25485 19394     cutoff   80         0.36216   -0.88719   345%  27.8  225s\n",
      "Best UB=0.341299. Best LB=-0.887186 (MIP_OBJBND=-0.887186). Gap=1.22849. Relgap=359.944%. nFeasCut=0. nOptCut=2432\n",
      "Best UB=0.341299. Best LB=-0.886901 (MIP_OBJBND=-0.886899). Gap=1.2282. Relgap=359.86%. nFeasCut=0. nOptCut=2450\n",
      "Best UB=0.341299. Best LB=-0.886878 (MIP_OBJBND=-0.886878). Gap=1.22818. Relgap=359.854%. nFeasCut=0. nOptCut=2452\n",
      "Best UB=0.341299. Best LB=-0.886878 (MIP_OBJBND=-0.886878). Gap=1.22818. Relgap=359.854%. nFeasCut=0. nOptCut=2452\n",
      "Best UB=0.341299. Best LB=-0.886674 (MIP_OBJBND=-0.886674). Gap=1.22797. Relgap=359.794%. nFeasCut=0. nOptCut=2462\n",
      " 26136 19900   -0.17863   78    2    0.36216   -0.88645   345%  27.8  230s\n",
      "Best UB=0.341299. Best LB=-0.886392 (MIP_OBJBND=-0.886392). Gap=1.22769. Relgap=359.711%. nFeasCut=0. nOptCut=2482\n",
      "Best UB=0.341299. Best LB=-0.886392 (MIP_OBJBND=-0.886323). Gap=1.22769. Relgap=359.711%. nFeasCut=0. nOptCut=2488\n",
      "Best UB=0.341299. Best LB=-0.886323 (MIP_OBJBND=-0.886323). Gap=1.22762. Relgap=359.691%. nFeasCut=0. nOptCut=2490\n",
      " 26765 20411    0.29784   86    -    0.36216   -0.88615   345%  27.9  236s\n",
      "Best UB=0.341299. Best LB=-0.886108 (MIP_OBJBND=-0.886108). Gap=1.22741. Relgap=359.628%. nFeasCut=0. nOptCut=2498\n",
      "Best UB=0.341299. Best LB=-0.886108 (MIP_OBJBND=-0.886021). Gap=1.22741. Relgap=359.628%. nFeasCut=0. nOptCut=2500\n",
      "Best UB=0.341299. Best LB=-0.885888 (MIP_OBJBND=-0.885737). Gap=1.22719. Relgap=359.564%. nFeasCut=0. nOptCut=2520\n",
      "Best UB=0.341299. Best LB=-0.885888 (MIP_OBJBND=-0.885737). Gap=1.22719. Relgap=359.564%. nFeasCut=0. nOptCut=2520\n",
      "Best UB=0.341299. Best LB=-0.885737 (MIP_OBJBND=-0.885689). Gap=1.22704. Relgap=359.519%. nFeasCut=0. nOptCut=2524\n",
      " 27600 21100    0.26509   83    2    0.36216   -0.88521   344%  27.9  241s\n",
      "Best UB=0.341299. Best LB=-0.885204 (MIP_OBJBND=-0.885204). Gap=1.2265. Relgap=359.363%. nFeasCut=0. nOptCut=2548\n",
      "Best UB=0.341299. Best LB=-0.885081 (MIP_OBJBND=-0.884872). Gap=1.22638. Relgap=359.327%. nFeasCut=0. nOptCut=2562\n",
      " 28301 21717    0.34709   90    -    0.36216   -0.88487   344%  28.0  247s\n",
      "Best UB=0.341299. Best LB=-0.884748 (MIP_OBJBND=-0.884748). Gap=1.22605. Relgap=359.229%. nFeasCut=0. nOptCut=2590\n",
      " 28905 22203    0.22247   82    -    0.36216   -0.88443   344%  28.1  256s\n",
      "Best UB=0.341299. Best LB=-0.88432 (MIP_OBJBND=-0.88432). Gap=1.22562. Relgap=359.104%. nFeasCut=0. nOptCut=2620\n",
      " 29278 22529    0.29755   82    1    0.36216   -0.88425   344%  28.1  262s\n",
      "Best UB=0.341299. Best LB=-0.88402 (MIP_OBJBND=-0.883986). Gap=1.22532. Relgap=359.016%. nFeasCut=0. nOptCut=2646\n",
      "Best UB=0.341299. Best LB=-0.883952 (MIP_OBJBND=-0.883894). Gap=1.22525. Relgap=358.996%. nFeasCut=0. nOptCut=2650\n",
      " 30005 23098     cutoff   91         0.36216   -0.88366   344%  28.1  268s\n",
      "Best UB=0.341299. Best LB=-0.883632 (MIP_OBJBND=-0.883632). Gap=1.22493. Relgap=358.902%. nFeasCut=0. nOptCut=2662\n",
      "Best UB=0.341299. Best LB=-0.883632 (MIP_OBJBND=-0.883617). Gap=1.22493. Relgap=358.902%. nFeasCut=0. nOptCut=2662\n",
      "Best UB=0.341299. Best LB=-0.883632 (MIP_OBJBND=-0.883617). Gap=1.22493. Relgap=358.902%. nFeasCut=0. nOptCut=2662\n",
      "Best UB=0.341299. Best LB=-0.883523 (MIP_OBJBND=-0.883523). Gap=1.22482. Relgap=358.87%. nFeasCut=0. nOptCut=2668\n",
      "Best UB=0.341299. Best LB=-0.883522 (MIP_OBJBND=-0.883517). Gap=1.22482. Relgap=358.87%. nFeasCut=0. nOptCut=2678\n",
      "Best UB=0.341299. Best LB=-0.883336 (MIP_OBJBND=-0.883336). Gap=1.22464. Relgap=358.816%. nFeasCut=0. nOptCut=2688\n",
      " 30810 23771     cutoff   91         0.36216   -0.88320   344%  28.1  273s\n",
      "Best UB=0.341299. Best LB=-0.883192 (MIP_OBJBND=-0.883192). Gap=1.22449. Relgap=358.774%. nFeasCut=0. nOptCut=2694\n",
      "Best UB=0.341299. Best LB=-0.883192 (MIP_OBJBND=-0.883171). Gap=1.22449. Relgap=358.774%. nFeasCut=0. nOptCut=2698\n",
      "Best UB=0.341299. Best LB=-0.883192 (MIP_OBJBND=-0.883171). Gap=1.22449. Relgap=358.774%. nFeasCut=0. nOptCut=2698\n",
      "Best UB=0.341299. Best LB=-0.883171 (MIP_OBJBND=-0.883171). Gap=1.22447. Relgap=358.767%. nFeasCut=0. nOptCut=2700\n",
      " 31413 24270   -0.21945   74    5    0.36216   -0.88277   344%  28.2  279s\n",
      "Best UB=0.341299. Best LB=-0.882769 (MIP_OBJBND=-0.882769). Gap=1.22407. Relgap=358.649%. nFeasCut=0. nOptCut=2728\n",
      " 31513 24364    0.35400   99    -    0.36216   -0.88276   344%  28.2  280s\n",
      "Best UB=0.341299. Best LB=-0.882764 (MIP_OBJBND=-0.882764). Gap=1.22406. Relgap=358.648%. nFeasCut=0. nOptCut=2736\n",
      "Best UB=0.341299. Best LB=-0.88272 (MIP_OBJBND=-0.88272). Gap=1.22402. Relgap=358.635%. nFeasCut=0. nOptCut=2742\n",
      "Best UB=0.341299. Best LB=-0.882637 (MIP_OBJBND=-0.882619). Gap=1.22394. Relgap=358.611%. nFeasCut=0. nOptCut=2772\n",
      "Best UB=0.341299. Best LB=-0.882637 (MIP_OBJBND=-0.882619). Gap=1.22394. Relgap=358.611%. nFeasCut=0. nOptCut=2772\n",
      "Best UB=0.341299. Best LB=-0.88222 (MIP_OBJBND=-0.88222). Gap=1.22352. Relgap=358.489%. nFeasCut=0. nOptCut=2778\n",
      " 32203 24953     cutoff   86         0.36216   -0.88221   344%  28.2  286s\n",
      "Best UB=0.341299. Best LB=-0.882206 (MIP_OBJBND=-0.882206). Gap=1.22351. Relgap=358.485%. nFeasCut=0. nOptCut=2794\n",
      "Best UB=0.341299. Best LB=-0.882177 (MIP_OBJBND=-0.882177). Gap=1.22348. Relgap=358.476%. nFeasCut=0. nOptCut=2812\n",
      " 32927 25655   -0.68898   48    6    0.36216   -0.88206   344%  28.2  353s\n",
      " 32929 25656   -0.46274   70   93    0.36216   -0.88206   344%  28.2  359s\n",
      " 32930 25657   -0.84070   30   94    0.36216   -0.88206   344%  28.2  362s\n",
      " 32932 25658   -0.31730   75   92    0.36216   -0.88206   344%  28.2  369s\n",
      " 32933 25659   -0.77775   27   87    0.36216   -0.88206   344%  28.2  372s\n",
      " 32934 25660   -0.69442   64   91    0.36216   -0.88206   344%  28.2  375s\n",
      " 32936 25661   -0.31730   75   95    0.36216   -0.88206   344%  28.2  380s\n",
      " 32937 25662   -0.87167   22   96    0.36216   -0.88206   344%  28.1  385s\n",
      " 32939 25663   -0.35354   75   89    0.36216   -0.88206   344%  28.1  390s\n",
      " 32940 25664   -0.73471   34   90    0.36216   -0.88206   344%  28.1  395s\n",
      " 32942 25665   -0.83531   24   91    0.36216   -0.88206   344%  28.1  400s\n",
      " 32943 25666   -0.30715   78   91    0.36216   -0.88206   344%  28.1  405s\n",
      " 32945 25667   -0.42982   68   92    0.36216   -0.88206   344%  28.1  413s\n",
      " 32946 25668   -0.68386   48   91    0.36216   -0.88206   344%  28.1  416s\n",
      " 32947 25668   -0.68898   48   91    0.36216   -0.88206   344%  28.1  423s\n",
      " 32948 25672   -0.88206   24   85    0.36216   -0.88206   344%  28.2  430s\n",
      " 32950 25675   -0.83341   25   73    0.36216   -0.88206   344%  28.2  438s\n"
     ]
    }
   ],
   "source": [
    "master.precision_sub = 'gurobi'\n",
    "master.verbosity = 1\n",
    "master.print_iter = 1000\n",
    "\n",
    "#master.model.Params.MIPGap = 0.001\n",
    "master.model.Params.OutputFlag = 1\n",
    "master.model.Params.TimeLimit = 3600*2\n",
    "master.model.optimize(cb_benders_multi)\n",
    "# master.model.optimize(cb_benders)"
   ]
  },
  {
   "cell_type": "code",
   "execution_count": null,
   "metadata": {
    "collapsed": false,
    "deletable": true,
    "editable": true
   },
   "outputs": [],
   "source": [
    "sol_master = {x.VarName:x.X for x in master.model.getVars()}"
   ]
  },
  {
   "cell_type": "code",
   "execution_count": null,
   "metadata": {
    "collapsed": false,
    "deletable": true,
    "editable": true
   },
   "outputs": [],
   "source": [
    "yopt = [sol_master[y.VarName] for y in master._ys]\n",
    "print('Number of non-zero binaries: %g' % sum(yopt))\n",
    "# Fitted parameters\n",
    "\n",
    "kfit_dict = {}\n",
    "for group_id, var_dict in iteritems(var_cons_dict):\n",
    "    var = var_dict[0]\n",
    "    cons = var_dict[1]\n",
    "    a0  = var_dict[0][2]\n",
    "    kfit = 0.\n",
    "    for l,pwr in enumerate(powers):\n",
    "        for k,digit in enumerate(digits):            \n",
    "            yid = 'binary_%s%s%s' % (group_id,k,l)\n",
    "            y   = sol_master[yid]\n",
    "#             if abs(y)>1e-10:\n",
    "#                 print('%s. Value=%s. Power=%g. Digit=%g' % (yid, y, pwr, digit))\n",
    "            kfit += y*a0*radix**pwr*digit\n",
    "    kfit_dict[group_id] = kfit"
   ]
  },
  {
   "cell_type": "code",
   "execution_count": null,
   "metadata": {
    "collapsed": false,
    "deletable": true,
    "editable": true
   },
   "outputs": [],
   "source": [
    "kfit_changed = [(k,v, abs(v-a0)/a0) for k,v in iteritems(kfit_dict) if abs(v-a0)/a0>1e-6]\n",
    "print('Changed keffs: %d/%d' % (len(kfit_changed), len(var_cons_dict)))\n",
    "kfit_changed"
   ]
  },
  {
   "cell_type": "code",
   "execution_count": null,
   "metadata": {
    "collapsed": false,
    "deletable": true,
    "editable": true
   },
   "outputs": [],
   "source": [
    "#----------------------------------------\n",
    "# Starting from basal model\n",
    "csrcs = df_conds.cond.unique()\n",
    "for csrc in csrcs:\n",
    "    ijofit = load_json_model('/home/laurence/ME/models/BiGG_M/json/e_coli_core.json')    \n",
    "    crowding = Constraint('crowding')\n",
    "    crowding._bound = crowding_bound0\n",
    "    crowding._constraint_sense = 'L'\n",
    "    \n",
    "    df_condi = df_conds[ df_conds.cond==csrc]    \n",
    "    for i,row in df_condi.iterrows():\n",
    "        rid = row['rxn']\n",
    "        rxn = ijofit.reactions.get_by_id(rid)\n",
    "        rxn.lower_bound = row['lb']\n",
    "        rxn.upper_bound = row['ub']\n",
    "\n",
    "    for rid,kfit in iteritems(kfit_dict):\n",
    "        rxn = ijofit.reactions.get_by_id(rid)\n",
    "        rxn.add_metabolites({crowding:kfit})\n",
    "    \n",
    "    ijofit.optimize()\n",
    "    \n",
    "    mu_measi = df_meas[ df_meas.substrate==csrc].growth_rate_1_h.iloc[0]\n",
    "    mu_fiti = ijofit.reactions.BIOMASS_Ecoli_core_w_GAM.x\n",
    "    \n",
    "    # Get unfit\n",
    "    for rxn in ijofit.metabolites.crowding.reactions:\n",
    "        rxn._metabolites[crowding] = a0\n",
    "    ijofit.optimize()\n",
    "    mu_unfiti = ijofit.reactions.BIOMASS_Ecoli_core_w_GAM.x\n",
    "    err0= 100*(mu_unfiti-mu_measi)/mu_measi\n",
    "    err = 100*(mu_fiti - mu_measi)/mu_measi\n",
    "    derr= 100*(abs(err)-abs(err0))/abs(err0)\n",
    "    print('Cond=%s. mu_meas=%g. mu_sim=%g (unfit=%g, error=%.3g%%). Error=%.3g%% (%.3g%% change)' % (csrc, mu_measi, mu_fiti, mu_unfiti, err0, err, derr))\n",
    "    for i,row in df_condi.iterrows():\n",
    "        rid = row['rxn']\n",
    "        rxn = ijofit.reactions.get_by_id(rid)        \n",
    "        print('\\t%s uptake=%g' % (rxn.id, rxn.x))"
   ]
  },
  {
   "cell_type": "markdown",
   "metadata": {
    "deletable": true,
    "editable": true
   },
   "source": [
    "dual_sp = master.sub_dict['acetate'].model.getConstrByName('sp_acetate')\n",
    "dual_sn = master.sub_dict['acetate'].model.getConstrByName('sn_acetate')\n",
    "\n",
    "sub = master.sub_dict['acetate']\n",
    "\n",
    "print(sub.model.model.getRow(dual_sp), dual_sp.Sense, dual_sp.RHS)\n",
    "print(sub.model.model.getRow(dual_sn), dual_sn.Sense, dual_sn.RHS)\n",
    "\n",
    "master.sub_dict['acetate'].model.getConstrByName(mu_id+'_acetate')\n",
    "\n",
    "[(c, c.RHS) for c in sub.model.getConstrs() if c.RHS != 0]\n",
    "\n",
    "[(rxn.id, rxn.objective_coefficient) for rxn in sub.cobra_model.reactions if rxn.objective_coefficient != 0]"
   ]
  },
  {
   "cell_type": "markdown",
   "metadata": {
    "deletable": true,
    "editable": true
   },
   "source": [
    "tk = master.model.getVarByName('tk_acetate')\n",
    "wa = np.array([sub.model.x_dict[w.VarName] for w in sub._wa])\n",
    "wl = np.array([sub.model.x_dict[w.VarName] for w in sub._wl])\n",
    "wu = np.array([sub.model.x_dict[w.VarName] for w in sub._wu])\n",
    "d = sub._d\n",
    "Bcsc = sub._Bcsc\n",
    "waB = wa*Bcsc\n",
    "cinds = waB.nonzero()[0]\n",
    "ys = master._ys\n",
    "xl = sub._xl\n",
    "xu = sub._xu\n",
    "#waByopt = LinExpr([waB[j] for j in cinds], [ys[j] for j in cinds])\n",
    "waByopt = sum(waB * yopt)\n",
    "sum(d*wa) -waByopt + sum(xl*wl) - sum(xu*wu)\n",
    "\n",
    "tk.X"
   ]
  }
 ],
 "metadata": {
  "kernelspec": {
   "display_name": "Python 2",
   "language": "python",
   "name": "python2"
  },
  "language_info": {
   "codemirror_mode": {
    "name": "ipython",
    "version": 2
   },
   "file_extension": ".py",
   "mimetype": "text/x-python",
   "name": "python",
   "nbconvert_exporter": "python",
   "pygments_lexer": "ipython2",
   "version": "2.7.14"
  }
 },
 "nbformat": 4,
 "nbformat_minor": 2
}
