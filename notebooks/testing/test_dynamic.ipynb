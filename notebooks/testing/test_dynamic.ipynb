{
 "cells": [
  {
   "cell_type": "markdown",
   "metadata": {
    "deletable": true,
    "editable": true
   },
   "source": [
    "# Simulate proteome time profiles. Perturbation midway by removing carbon source, forcing starvation"
   ]
  },
  {
   "cell_type": "code",
   "execution_count": 1,
   "metadata": {
    "collapsed": true,
    "deletable": true,
    "editable": true
   },
   "outputs": [],
   "source": [
    "PROTOTYPE = True"
   ]
  },
  {
   "cell_type": "code",
   "execution_count": 2,
   "metadata": {
    "collapsed": true,
    "deletable": true,
    "editable": true
   },
   "outputs": [],
   "source": [
    "from dynamicme.tests.helpme import HelpME\n",
    "from dynamicme.dynamic import get_cplx_concs\n",
    "\n",
    "helper = HelpME(prototyping=PROTOTYPE)\n",
    "solver = helper.solver\n",
    "me = solver.me\n",
    "\n",
    "for data in me.complex_data:\n",
    "    data._complex_id = data.id    \n",
    "    form_id0 = 'ES_'+data.id.replace('_E_c','')\n",
    "    try:\n",
    "        form = me.reactions.get_by_id(form_id0)\n",
    "        form.id = 'formation_'+ data.id\n",
    "    except KeyError:\n",
    "        form = me.reactions.get_by_id('formation_'+data.id)    \n",
    "\n",
    "me.repair()\n",
    "\n",
    "from cobrame import mu\n",
    "from stressme.stressfuncs import update_stoich_expr\n",
    "\n",
    "me.reactions.Biomass_Ecoli_core_w_GAM.lower_bound = mu\n",
    "me.reactions.Biomass_Ecoli_core_w_GAM.upper_bound = mu\n",
    "update_stoich_expr(solver, rxn=me.reactions.Biomass_Ecoli_core_w_GAM)\n",
    "solver.compiled_expressions = None"
   ]
  },
  {
   "cell_type": "code",
   "execution_count": 3,
   "metadata": {
    "collapsed": false
   },
   "outputs": [
    {
     "name": "stdout",
     "output_type": "stream",
     "text": [
      "CPU times: user 11.2 s, sys: 70 ms, total: 11.2 s\n",
      "Wall time: 11.2 s\n"
     ]
    }
   ],
   "source": [
    "%%time\n",
    "sol_max = solver.bisectmu(verbosity=0, precision=1e-5)"
   ]
  },
  {
   "cell_type": "code",
   "execution_count": 4,
   "metadata": {
    "collapsed": true,
    "deletable": true,
    "editable": true
   },
   "outputs": [],
   "source": [
    "cplx_concs_max = get_cplx_concs(solver)"
   ]
  },
  {
   "cell_type": "markdown",
   "metadata": {
    "deletable": true,
    "editable": true
   },
   "source": [
    "## Make sure delayme works"
   ]
  },
  {
   "cell_type": "code",
   "execution_count": 5,
   "metadata": {
    "collapsed": false,
    "deletable": true,
    "editable": true
   },
   "outputs": [
    {
     "name": "stdout",
     "output_type": "stream",
     "text": [
      "mu of ME: 0.845680236816\n"
     ]
    }
   ],
   "source": [
    "mu_me = me.solution.x_dict['biomass_dilution']\n",
    "print 'mu of ME:', mu_me"
   ]
  },
  {
   "cell_type": "code",
   "execution_count": 6,
   "metadata": {
    "collapsed": false,
    "deletable": true,
    "editable": true
   },
   "outputs": [
    {
     "name": "stderr",
     "output_type": "stream",
     "text": [
      "/home/laurence/python_modules/dynamicme.git/dynamicme/dynamic.py:1229 \u001b[1;31mUserWarning\u001b[0m: Dynamic mRNA not yet implemented!\n"
     ]
    }
   ],
   "source": [
    "from dynamicme.dynamic import DelayedDynamicME\n",
    "\n",
    "dyme = DelayedDynamicME(solver)\n",
    "dyme.delay_model.solver.set_realopts('lp', {'Feasibility tol':1e-15,'Optimality tol':1e-15})\n",
    "dsolver = dyme.delay_model.solver"
   ]
  },
  {
   "cell_type": "code",
   "execution_count": 7,
   "metadata": {
    "collapsed": false,
    "deletable": true,
    "editable": true
   },
   "outputs": [
    {
     "name": "stdout",
     "output_type": "stream",
     "text": [
      "DelayME: optimal at 0.845680236816\n",
      "CPU times: user 5.15 s, sys: 70 ms, total: 5.22 s\n",
      "Wall time: 5.16 s\n"
     ]
    }
   ],
   "source": [
    "%%time\n",
    "### Make sure it solves\n",
    "dyme.delay_model.update_cplx_concs(cplx_concs_max)\n",
    "dyme.delay_model.update_horizon(0.01)\n",
    "x,stat,hs = dsolver.solvelp(mu_me)\n",
    "dme = dyme.delay_model.mod_me\n",
    "print 'DelayME:', stat, 'at', dme.reactions.biomass_dilution.x\n",
    "x_dict_max = dict(dsolver.me.solution.x_dict)"
   ]
  },
  {
   "cell_type": "markdown",
   "metadata": {
    "deletable": true,
    "editable": true
   },
   "source": [
    "# Test 2: Should be able to grow at any slower rate starting from initial proteome for faster growth\n",
    "- can just scale down formation rates\n",
    "- as long as rxns allowed to be slower than keff*E, which we did do here"
   ]
  },
  {
   "cell_type": "code",
   "execution_count": 8,
   "metadata": {
    "collapsed": false,
    "deletable": true,
    "editable": true
   },
   "outputs": [
    {
     "name": "stdout",
     "output_type": "stream",
     "text": [
      "optimal\n",
      "CPU times: user 1.1 s, sys: 13.3 ms, total: 1.11 s\n",
      "Wall time: 1.1 s\n"
     ]
    }
   ],
   "source": [
    "%%time\n",
    "\n",
    "dyme.delay_model.update_cplx_concs(cplx_concs_max)\n",
    "dyme.delay_model.update_horizon(0.01)\n",
    "x,stat,hs = dsolver.solvelp(mu_me*0.5)\n",
    "print stat\n",
    "x_dict_opt2 = dict(dsolver.me.solution.x_dict)\n",
    "cplx_concs_opt2 = get_cplx_concs(dsolver)"
   ]
  },
  {
   "cell_type": "markdown",
   "metadata": {
    "deletable": true,
    "editable": true
   },
   "source": [
    "### Difference in cplx concs? Or no change and just under utilizing enzyme capacity?"
   ]
  },
  {
   "cell_type": "code",
   "execution_count": 10,
   "metadata": {
    "collapsed": false,
    "deletable": true,
    "editable": true
   },
   "outputs": [
    {
     "data": {
      "text/plain": [
       "False"
      ]
     },
     "execution_count": 10,
     "metadata": {},
     "output_type": "execute_result"
    }
   ],
   "source": [
    "cplx_concs_max.values()==cplx_concs_opt2.values()"
   ]
  },
  {
   "cell_type": "markdown",
   "metadata": {
    "deletable": true,
    "editable": true
   },
   "source": [
    "# Test 3: should be able to catalyze faster rates at slower growth starting from fast growth proteome for some rxns but not others"
   ]
  },
  {
   "cell_type": "markdown",
   "metadata": {
    "collapsed": false,
    "deletable": true,
    "editable": true
   },
   "source": [
    "print '%-25.20s%-25.20s%-25.20s%-25s' % ('Flux (opt)', 'Flux (low mu)', 'rxn', 'reaction')\n",
    "for rid in x_dict_max.keys():\n",
    "    v1 = x_dict_max[rid]\n",
    "    v2 = x_dict_opt2[rid]\n",
    "    #if abs(v2-v1) > 1e-12:\n",
    "    if abs(v2) - abs(v1) > 1e-12:\n",
    "        rxn = dme.reactions.get_by_id(rid)\n",
    "        print '%-25.20s%-25.20s%-25.20s%-25s' % (v1,v2, rid, rxn.reaction)"
   ]
  },
  {
   "cell_type": "markdown",
   "metadata": {
    "deletable": true,
    "editable": true
   },
   "source": [
    "# Test 4: given a long enough time horizon, should be able to reach higher-growth proteome starting from slow proteome"
   ]
  },
  {
   "cell_type": "code",
   "execution_count": 12,
   "metadata": {
    "collapsed": false,
    "deletable": true,
    "editable": true
   },
   "outputs": [
    {
     "name": "stdout",
     "output_type": "stream",
     "text": [
      "optimal for growth= 0.422840118408\n"
     ]
    }
   ],
   "source": [
    "### Need to get a slow-growth proteome separately\n",
    "mu_slow = mu_me*0.5\n",
    "x2,stat2,hs2 = solver.solvelp(mu_slow, basis=solver.lp_hs)\n",
    "print stat2, 'for growth=',mu_slow\n",
    "cplx_concs_slow = get_cplx_concs(solver)"
   ]
  },
  {
   "cell_type": "code",
   "execution_count": 13,
   "metadata": {
    "collapsed": false,
    "deletable": true,
    "editable": true
   },
   "outputs": [
    {
     "name": "stdout",
     "output_type": "stream",
     "text": [
      "optimal\n",
      "CPU times: user 1.9 s, sys: 13.3 ms, total: 1.91 s\n",
      "Wall time: 1.9 s\n"
     ]
    }
   ],
   "source": [
    "%%time\n",
    "\n",
    "### First make sure we can grow at slow proteome\n",
    "dyme.delay_model.update_cplx_concs(cplx_concs_slow)\n",
    "dyme.delay_model.update_horizon(0.1)\n",
    "x,stat,hs = dsolver.solvelp(mu_slow)\n",
    "print stat\n",
    "x_dict_slow = dict(dsolver.me.solution.x_dict)"
   ]
  },
  {
   "cell_type": "code",
   "execution_count": 14,
   "metadata": {
    "collapsed": false,
    "deletable": true,
    "editable": true
   },
   "outputs": [
    {
     "name": "stdout",
     "output_type": "stream",
     "text": [
      "1\n"
     ]
    }
   ],
   "source": [
    "### Try to grow faster starting from slower proteome\n",
    "dyme.delay_model.update_horizon(0.01)\n",
    "x,stat,hs = dsolver.solvelp( mu_slow + (mu_me-mu_slow)*1 )\n",
    "print stat"
   ]
  },
  {
   "cell_type": "code",
   "execution_count": 14,
   "metadata": {
    "collapsed": false,
    "deletable": true,
    "editable": true
   },
   "outputs": [
    {
     "name": "stdout",
     "output_type": "stream",
     "text": [
      "optimal\n"
     ]
    }
   ],
   "source": [
    "### Might be feasible\n",
    "dyme.delay_model.update_horizon(1)\n",
    "x,stat,hs = dsolver.solvelp( mu_slow + (mu_me-mu_slow)*1 )\n",
    "print stat"
   ]
  },
  {
   "cell_type": "markdown",
   "metadata": {
    "deletable": true,
    "editable": true
   },
   "source": [
    "## Plot slow & fast-growth proteomes"
   ]
  },
  {
   "cell_type": "code",
   "execution_count": 15,
   "metadata": {
    "collapsed": false,
    "deletable": true,
    "editable": true
   },
   "outputs": [],
   "source": [
    "import pandas as pd\n",
    "\n",
    "df_prot1 = pd.DataFrame([{'cplx':met.id.replace('delayed_abundance_',''), 'v':met._bound} for met in dsolver.me.metabolites.query('delayed_abundance')])\n",
    "df_prot1.loc[:,'type'] = 'slow'"
   ]
  },
  {
   "cell_type": "code",
   "execution_count": 16,
   "metadata": {
    "collapsed": false,
    "deletable": true,
    "editable": true
   },
   "outputs": [],
   "source": [
    "df_prot2 = pd.DataFrame([{'cplx':rxn.id.replace('abundance_',''), 'v':rxn.x} for rxn in dsolver.me.reactions.query('abundance_')])\n",
    "df_prot2.loc[:,'type'] = 'fast'"
   ]
  },
  {
   "cell_type": "code",
   "execution_count": 17,
   "metadata": {
    "collapsed": false,
    "deletable": true,
    "editable": true
   },
   "outputs": [
    {
     "name": "stderr",
     "output_type": "stream",
     "text": [
      "/usr/lib/python2.7/site-packages/ipykernel/__main__.py:9 \u001b[1;31mRuntimeWarning\u001b[0m: invalid value encountered in log2\n"
     ]
    },
    {
     "data": {
      "text/plain": [
       "(array([ 22.,  69.,  45.,  14.,   0.,   0.,   0.,   0.,   0.,   1.]),\n",
       " array([-0.88431364, -0.39497925,  0.09435514,  0.58368953,  1.07302392,\n",
       "         1.56235831,  2.0516927 ,  2.54102709,  3.03036148,  3.51969587,\n",
       "         4.00903026]),\n",
       " <a list of 10 Patch objects>)"
      ]
     },
     "execution_count": 17,
     "metadata": {},
     "output_type": "execute_result"
    },
    {
     "data": {
      "image/png": "[encoded data removed]",
      "text/plain": [
       "<matplotlib.figure.Figure at 0x7f02aafa0f10>"
      ]
     },
     "metadata": {},
     "output_type": "display_data"
    }
   ],
   "source": [
    "%matplotlib inline\n",
    "import numpy as np\n",
    "import seaborn as sns\n",
    "\n",
    "### Check prots that changed the most\n",
    "df_val = pd.merge(df_prot1, df_prot2, on='cplx')\n",
    "df_val.loc[:,'dv'] = df_val.v_y - df_val.v_x\n",
    "df_val.loc[:,'f_dv'] = df_val.dv / df_val.v_x\n",
    "df_val.loc[:,'l2fc'] = np.log2(df_val.v_y / df_val.v_x)\n",
    "\n",
    "sns.plt.hist(df_val.l2fc[ (~df_val.l2fc.isnull()) & (df_val.l2fc < np.inf)])"
   ]
  },
  {
   "cell_type": "code",
   "execution_count": 18,
   "metadata": {
    "collapsed": false,
    "deletable": true,
    "editable": true
   },
   "outputs": [
    {
     "name": "stdout",
     "output_type": "stream",
     "text": [
      "44\n"
     ]
    }
   ],
   "source": [
    "df_val[ df_val.l2fc.abs() >= 1].shape\n",
    "cplxs_changed = df_val[ df_val.l2fc.abs() >= 1]['cplx'].unique()\n",
    "print len(cplxs_changed)"
   ]
  },
  {
   "cell_type": "code",
   "execution_count": 19,
   "metadata": {
    "collapsed": false,
    "deletable": true,
    "editable": true
   },
   "outputs": [
    {
     "name": "stderr",
     "output_type": "stream",
     "text": [
      "/usr/lib/python2.7/site-packages/pandas/core/indexing.py:337 \u001b[1;31mSettingWithCopyWarning\u001b[0m: \n",
      "A value is trying to be set on a copy of a slice from a DataFrame.\n",
      "Try using .loc[row_indexer,col_indexer] = value instead\n",
      "\n",
      "See the caveats in the documentation: http://pandas.pydata.org/pandas-docs/stable/indexing.html#indexing-view-versus-copy\n",
      "/usr/lib/python2.7/site-packages/pandas/core/indexing.py:517 \u001b[1;31mSettingWithCopyWarning\u001b[0m: \n",
      "A value is trying to be set on a copy of a slice from a DataFrame.\n",
      "Try using .loc[row_indexer,col_indexer] = value instead\n",
      "\n",
      "See the caveats in the documentation: http://pandas.pydata.org/pandas-docs/stable/indexing.html#indexing-view-versus-copy\n"
     ]
    }
   ],
   "source": [
    "dsplot = pd.concat([df_prot1, df_prot2])\n",
    "dsplot2 = dsplot[ dsplot.cplx.isin(cplxs_changed)]\n",
    "dsplot2.loc[:,'group'] = 'DelayME'"
   ]
  },
  {
   "cell_type": "code",
   "execution_count": 20,
   "metadata": {
    "collapsed": false,
    "deletable": true,
    "editable": true
   },
   "outputs": [
    {
     "data": {
      "text/html": [
       "<div>\n",
       "<style>\n",
       "    .dataframe thead tr:only-child th {\n",
       "        text-align: right;\n",
       "    }\n",
       "\n",
       "    .dataframe thead th {\n",
       "        text-align: left;\n",
       "    }\n",
       "\n",
       "    .dataframe tbody tr th {\n",
       "        vertical-align: top;\n",
       "    }\n",
       "</style>\n",
       "<table border=\"1\" class=\"dataframe\">\n",
       "  <thead>\n",
       "    <tr style=\"text-align: right;\">\n",
       "      <th></th>\n",
       "      <th>cplx</th>\n",
       "      <th>v</th>\n",
       "      <th>type</th>\n",
       "      <th>group</th>\n",
       "    </tr>\n",
       "  </thead>\n",
       "  <tbody>\n",
       "    <tr>\n",
       "      <th>8</th>\n",
       "      <td>NTD11_E_c</td>\n",
       "      <td>0.0</td>\n",
       "      <td>slow</td>\n",
       "      <td>DelayME</td>\n",
       "    </tr>\n",
       "    <tr>\n",
       "      <th>57</th>\n",
       "      <td>ASPTA_E_c</td>\n",
       "      <td>0.0</td>\n",
       "      <td>slow</td>\n",
       "      <td>DelayME</td>\n",
       "    </tr>\n",
       "  </tbody>\n",
       "</table>\n",
       "</div>"
      ],
      "text/plain": [
       "         cplx    v  type    group\n",
       "8   NTD11_E_c  0.0  slow  DelayME\n",
       "57  ASPTA_E_c  0.0  slow  DelayME"
      ]
     },
     "execution_count": 20,
     "metadata": {},
     "output_type": "execute_result"
    }
   ],
   "source": [
    "dsplot2.head(2)"
   ]
  },
  {
   "cell_type": "code",
   "execution_count": 21,
   "metadata": {
    "collapsed": false,
    "deletable": true,
    "editable": true
   },
   "outputs": [
    {
     "data": {
      "text/html": [
       "<div>\n",
       "<style>\n",
       "    .dataframe thead tr:only-child th {\n",
       "        text-align: right;\n",
       "    }\n",
       "\n",
       "    .dataframe thead th {\n",
       "        text-align: left;\n",
       "    }\n",
       "\n",
       "    .dataframe tbody tr th {\n",
       "        vertical-align: top;\n",
       "    }\n",
       "</style>\n",
       "<table border=\"1\" class=\"dataframe\">\n",
       "  <thead>\n",
       "    <tr style=\"text-align: right;\">\n",
       "      <th></th>\n",
       "      <th>cplx</th>\n",
       "      <th>v</th>\n",
       "      <th>type</th>\n",
       "      <th>group</th>\n",
       "    </tr>\n",
       "  </thead>\n",
       "  <tbody>\n",
       "    <tr>\n",
       "      <th>521</th>\n",
       "      <td>SERD_L_E_c</td>\n",
       "      <td>541.745197</td>\n",
       "      <td>fast</td>\n",
       "      <td>DelayME</td>\n",
       "    </tr>\n",
       "  </tbody>\n",
       "</table>\n",
       "</div>"
      ],
      "text/plain": [
       "           cplx           v  type    group\n",
       "521  SERD_L_E_c  541.745197  fast  DelayME"
      ]
     },
     "execution_count": 21,
     "metadata": {},
     "output_type": "execute_result"
    }
   ],
   "source": [
    "dsplot2[ dsplot2.v == dsplot2.v.max()]"
   ]
  },
  {
   "cell_type": "code",
   "execution_count": 22,
   "metadata": {
    "collapsed": false,
    "deletable": true,
    "editable": true
   },
   "outputs": [
    {
     "data": {
      "text/html": [
       "<div>\n",
       "<style>\n",
       "    .dataframe thead tr:only-child th {\n",
       "        text-align: right;\n",
       "    }\n",
       "\n",
       "    .dataframe thead th {\n",
       "        text-align: left;\n",
       "    }\n",
       "\n",
       "    .dataframe tbody tr th {\n",
       "        vertical-align: top;\n",
       "    }\n",
       "</style>\n",
       "<table border=\"1\" class=\"dataframe\">\n",
       "  <thead>\n",
       "    <tr style=\"text-align: right;\">\n",
       "      <th></th>\n",
       "      <th>cplx</th>\n",
       "      <th>v</th>\n",
       "      <th>type</th>\n",
       "      <th>group</th>\n",
       "    </tr>\n",
       "  </thead>\n",
       "  <tbody>\n",
       "    <tr>\n",
       "      <th>246</th>\n",
       "      <td>SERD_L_E_c</td>\n",
       "      <td>0.000000</td>\n",
       "      <td>slow</td>\n",
       "      <td>DelayME</td>\n",
       "    </tr>\n",
       "    <tr>\n",
       "      <th>521</th>\n",
       "      <td>SERD_L_E_c</td>\n",
       "      <td>541.745197</td>\n",
       "      <td>fast</td>\n",
       "      <td>DelayME</td>\n",
       "    </tr>\n",
       "  </tbody>\n",
       "</table>\n",
       "</div>"
      ],
      "text/plain": [
       "           cplx           v  type    group\n",
       "246  SERD_L_E_c    0.000000  slow  DelayME\n",
       "521  SERD_L_E_c  541.745197  fast  DelayME"
      ]
     },
     "execution_count": 22,
     "metadata": {},
     "output_type": "execute_result"
    }
   ],
   "source": [
    "dsplot2[ dsplot2.cplx=='SERD_L_E_c']"
   ]
  },
  {
   "cell_type": "code",
   "execution_count": 23,
   "metadata": {
    "collapsed": false,
    "deletable": true,
    "editable": true
   },
   "outputs": [
    {
     "data": {
      "text/plain": [
       "'mu SERD_L_E_c + enzyme_capacity_SERD_L_E_c --> delayed_abundance_SERD_L_E_c'"
      ]
     },
     "execution_count": 23,
     "metadata": {},
     "output_type": "execute_result"
    }
   ],
   "source": [
    "dsolver.me.reactions.abundance_SERD_L_E_c.reaction"
   ]
  },
  {
   "cell_type": "code",
   "execution_count": 24,
   "metadata": {
    "collapsed": false,
    "deletable": true,
    "editable": true
   },
   "outputs": [
    {
     "name": "stdout",
     "output_type": "stream",
     "text": [
      "dedt_SERD_L_E_c : SERD_L_E_c + delayed_abundance_SERD_L_E_c <=> \n",
      "v: 541.745197236\n",
      "ES_SERD_L : 0.000333333333333333*mu + 0.004 SERD_L_mRNA_c --> SERD_L_E_c\n",
      "v: 1000.0\n",
      "abundance_SERD_L_E_c : mu SERD_L_E_c + enzyme_capacity_SERD_L_E_c --> delayed_abundance_SERD_L_E_c\n",
      "v: 541.745197236\n"
     ]
    }
   ],
   "source": [
    "print dsolver.me.reactions.dedt_SERD_L_E_c.id, ':', dsolver.me.reactions.dedt_SERD_L_E_c.reaction\n",
    "print 'v:', dsolver.me.reactions.dedt_SERD_L_E_c.x\n",
    "print dsolver.me.reactions.ES_SERD_L.id,':', dsolver.me.reactions.ES_SERD_L.reaction\n",
    "print 'v:', dsolver.me.reactions.ES_SERD_L.x\n",
    "rxn = dsolver.me.reactions.abundance_SERD_L_E_c\n",
    "print rxn.id, ':', rxn.reaction\n",
    "print 'v:', rxn.x"
   ]
  },
  {
   "cell_type": "code",
   "execution_count": 25,
   "metadata": {
    "collapsed": false,
    "deletable": true,
    "editable": true
   },
   "outputs": [
    {
     "data": {
      "text/plain": [
       "frozenset({<ComplexFormation formation_LSERINEDEAM1-MONOMER_mod_4fe4s at 0x7f02aabcdcd0>,\n",
       "           <ComplexFormation formation_CPLX0-7622_mod_4fe4s at 0x7f02aabcdfd0>,\n",
       "           <ComplexFormation formation_LSERINEDEAM2-MONOMER_mod_4fe4s at 0x7f02aabd6410>,\n",
       "           <ProteinAbundance abundance_SERD_L_E_c at 0x7f02ac27f750>,\n",
       "           <ProteinDifferential dedt_SERD_L_E_c at 0x7f02ab0799d0>,\n",
       "           <TranslationReaction ES_SERD_L at 0x7f02ab126c50>})"
      ]
     },
     "execution_count": 25,
     "metadata": {},
     "output_type": "execute_result"
    }
   ],
   "source": [
    "dsolver.me.metabolites.SERD_L_E_c.reactions"
   ]
  },
  {
   "cell_type": "code",
   "execution_count": 26,
   "metadata": {
    "collapsed": false,
    "deletable": true,
    "editable": true
   },
   "outputs": [
    {
     "data": {
      "text/plain": [
       "<seaborn.axisgrid.FacetGrid at 0x7f02ac0ee1d0>"
      ]
     },
     "execution_count": 26,
     "metadata": {},
     "output_type": "execute_result"
    },
    {
     "data": {
      "image/png": "[encoded data removed]",
      "text/plain": [
       "<matplotlib.figure.Figure at 0x7f02aac3a590>"
      ]
     },
     "metadata": {},
     "output_type": "display_data"
    }
   ],
   "source": [
    "from stressme.plot import stacked_bar\n",
    "\n",
    "stacked_bar('type', 'v', dsplot2, 'cplx', 'group')"
   ]
  },
  {
   "cell_type": "markdown",
   "metadata": {
    "deletable": true,
    "editable": true
   },
   "source": [
    "# Test 5: for a shorter time horizon, there may not be a faster proteome in the vicinity of the initial proteome\n",
    "1. meaning the initial proteome will be kept indefinitely until conditions change, forcing slower growth\n",
    "1. Also implies that short-term greedy growth maximization strategy won't always work under environmental changes\n",
    "1. This is why regulation is needed to force short-term growth decrease to build up a better proteome that pays off after an adjustment time (lag, diauxie)"
   ]
  },
  {
   "cell_type": "markdown",
   "metadata": {
    "deletable": true,
    "editable": true
   },
   "source": []
  },
  {
   "cell_type": "code",
   "execution_count": null,
   "metadata": {
    "collapsed": true,
    "deletable": true,
    "editable": true
   },
   "outputs": [],
   "source": []
  },
  {
   "cell_type": "markdown",
   "metadata": {
    "deletable": true,
    "editable": true
   },
   "source": [
    "## Preset bioreactor simulation"
   ]
  },
  {
   "cell_type": "code",
   "execution_count": 27,
   "metadata": {
    "collapsed": false,
    "deletable": true,
    "editable": true
   },
   "outputs": [
    {
     "name": "stdout",
     "output_type": "stream",
     "text": [
      "{'ac_e': 0.0, 'glc__D_e': 2.220299442904667}\n",
      "{'EX_glc_e': -10.0, 'EX_ac_e': -10.0, 'EX_o2_e': -20.0}\n"
     ]
    },
    {
     "name": "stderr",
     "output_type": "stream",
     "text": [
      "/usr/lib/python2.7/site-packages/ipykernel/__main__.py:20 \u001b[1;31mUserWarning\u001b[0m: Model has no metabolite: glyc_e. Will remove it from c0_dict\n",
      "/usr/lib/python2.7/site-packages/ipykernel/__main__.py:20 \u001b[1;31mUserWarning\u001b[0m: Model has no metabolite: malt_e. Will remove it from c0_dict\n",
      "/usr/lib/python2.7/site-packages/ipykernel/__main__.py:20 \u001b[1;31mUserWarning\u001b[0m: Model has no metabolite: lac__L_e. Will remove it from c0_dict\n",
      "/usr/lib/python2.7/site-packages/ipykernel/__main__.py:20 \u001b[1;31mUserWarning\u001b[0m: Model has no metabolite: gal_e. Will remove it from c0_dict\n"
     ]
    }
   ],
   "source": [
    "import warnings\n",
    "\n",
    "T = 10   # hours\n",
    "V = 1.   # L\n",
    "X0 = 0.00675 / V  # g/L\n",
    "c0_dict = {'glc__D_e': 0.4,\n",
    "           'lac__L_e': 0.4,\n",
    "           'malt_e': 0.4,\n",
    "           'gal_e': 0.4,\n",
    "           'glyc_e':0.4,\n",
    "           'ac_e': 0.0}\n",
    "\n",
    "### Convert from g/L to mmol\n",
    "mids_remove = []\n",
    "for mid,c in c0_dict.iteritems():\n",
    "    try:        \n",
    "        met = me.metabolites.get_by_id(mid)    \n",
    "        c0_dict[met.id] = c / met.formula_weight * 1000\n",
    "    except KeyError:\n",
    "        warnings.warn('Model has no metabolite: %s. Will remove it from c0_dict' % mid)\n",
    "        mids_remove.append(mid)\n",
    "\n",
    "for mid in mids_remove:\n",
    "    c0_dict.pop(mid)\n",
    "        \n",
    "### Set max uptake rate\n",
    "LB_EX = -10.\n",
    "LB_O2 = -20.\n",
    "\n",
    "lb_dict={}\n",
    "ub_dict={}\n",
    "\n",
    "for mid in c0_dict.keys():\n",
    "    try:\n",
    "        rxn = dyme.get_exchange_rxn(mid)    \n",
    "        if rxn.id is 'EX_o2_e':\n",
    "            lb = LB_O2\n",
    "        else:\n",
    "            lb = LB_EX\n",
    "        rxn.lower_bound = lb\n",
    "        lb_dict[rxn.id] = lb\n",
    "    except KeyError:\n",
    "        warnings.warn('Model has no metabolite: '+ mid)\n",
    "\n",
    "me.reactions.EX_o2_e.lower_bound = -20.\n",
    "lb_dict[me.reactions.EX_o2_e.id] = -20.\n",
    "        \n",
    "print c0_dict\n",
    "print lb_dict"
   ]
  },
  {
   "cell_type": "markdown",
   "metadata": {
    "deletable": true,
    "editable": true
   },
   "source": [
    "### Seed with suboptimal proteome (slower growth on same substrate)"
   ]
  },
  {
   "cell_type": "code",
   "execution_count": 28,
   "metadata": {
    "collapsed": true,
    "deletable": true,
    "editable": true
   },
   "outputs": [],
   "source": [
    "F_SUBOPT = 0.5"
   ]
  },
  {
   "cell_type": "code",
   "execution_count": 29,
   "metadata": {
    "collapsed": false,
    "deletable": true,
    "editable": true
   },
   "outputs": [],
   "source": [
    "sol_sub = solver.solvelp(mu_me*F_SUBOPT, basis=solver.lp_hs)"
   ]
  },
  {
   "cell_type": "code",
   "execution_count": 30,
   "metadata": {
    "collapsed": true,
    "deletable": true,
    "editable": true
   },
   "outputs": [],
   "source": [
    "cplx_concs = get_cplx_concs(solver)\n",
    "cplx_conc_dict0 = dict(cplx_concs)"
   ]
  },
  {
   "cell_type": "code",
   "execution_count": 31,
   "metadata": {
    "collapsed": false,
    "deletable": true,
    "editable": true
   },
   "outputs": [
    {
     "data": {
      "text/plain": [
       "9.8355992365380607e-09"
      ]
     },
     "execution_count": 31,
     "metadata": {},
     "output_type": "execute_result"
    }
   ],
   "source": [
    "import numpy as np\n",
    "cvals = np.array(cplx_conc_dict0.values())\n",
    "cvals[ cvals>0].min()"
   ]
  },
  {
   "cell_type": "code",
   "execution_count": 32,
   "metadata": {
    "collapsed": true,
    "deletable": true,
    "editable": true
   },
   "outputs": [],
   "source": [
    "dyme = DelayedDynamicME(solver)"
   ]
  },
  {
   "cell_type": "code",
   "execution_count": 33,
   "metadata": {
    "collapsed": true,
    "deletable": true,
    "editable": true
   },
   "outputs": [],
   "source": [
    "solver.set_realopts('lp', {'Feasibility tol':1e-15, 'Optimality tol':1e-15})"
   ]
  },
  {
   "cell_type": "code",
   "execution_count": 34,
   "metadata": {
    "collapsed": false,
    "deletable": true,
    "editable": true
   },
   "outputs": [
    {
     "name": "stdout",
     "output_type": "stream",
     "text": [
      "DelayME: optimal at 0.422520172119\n",
      "CPU times: user 4.19 s, sys: 83.3 ms, total: 4.27 s\n",
      "Wall time: 4.21 s\n"
     ]
    }
   ],
   "source": [
    "%%time\n",
    "### Make sure it solves\n",
    "dyme.delay_model.update_horizon(0.05)\n",
    "delay_solver = dyme.delay_model.solver\n",
    "x,stat,hs = delay_solver.solvelp(mu_me*F_SUBOPT*0.999)\n",
    "dme = dyme.delay_model.mod_me\n",
    "MU0 = dme.reactions.biomass_dilution.x\n",
    "print 'DelayME:', stat, 'at', MU0"
   ]
  },
  {
   "cell_type": "markdown",
   "metadata": {
    "deletable": true,
    "editable": true
   },
   "source": [
    "### One thing's for sure: proteome history is a major constraint on re-allocation rate"
   ]
  },
  {
   "cell_type": "code",
   "execution_count": 35,
   "metadata": {
    "collapsed": true,
    "deletable": true,
    "editable": true
   },
   "outputs": [],
   "source": [
    "if PROTOTYPE:\n",
    "    fluxes_plot = ['ACONTa_CPLX0-7760_mod_4fe4s', 'ACONTb_CPLX0-7760_mod_4fe4s', 'ACKr_reverse']\n",
    "else:\n",
    "    fluxes_plot = ['']"
   ]
  },
  {
   "cell_type": "code",
   "execution_count": 36,
   "metadata": {
    "collapsed": false,
    "deletable": true,
    "editable": true,
    "scrolled": true
   },
   "outputs": [
    {
     "name": "stdout",
     "output_type": "stream",
     "text": [
      "Metabolite ac_e depleted.\n",
      "Metabolite glc__D_e available.\n",
      "Using default LB=-1000 for EX_glc_e\n",
      "Computing new uptake rates\n",
      "Biomass at t=0.5: 0.0134967\n",
      "Concentrations: {'ac_e': 0.00042816178016877754, 'glc__D_e': 2.1762205370119423}\n",
      "Growth rate: 1.9990234375\n",
      "Metabolite ac_e available.\n",
      "Using default LB=-1000 for EX_ac_e\n",
      "Metabolite glc__D_e available.\n",
      "Using default LB=-1000 for EX_glc_e\n",
      "Computing new uptake rates\n",
      "Biomass at t=1: 0.0269868\n",
      "Concentrations: {'ac_e': 0.0074435494894294603, 'glc__D_e': 2.1226207089582902}\n",
      "Growth rate: 1.9990234375\n",
      "Metabolite ac_e available.\n",
      "Using default LB=-1000 for EX_ac_e\n",
      "Metabolite glc__D_e available.\n",
      "Using default LB=-1000 for EX_glc_e\n",
      "Computing new uptake rates\n",
      "Biomass at t=1.5: 0.0539605\n",
      "Concentrations: {'ac_e': 0.03032763074080241, 'glc__D_e': 2.0638751851915096}\n",
      "Growth rate: 1.9990234375\n",
      "Metabolite ac_e available.\n",
      "Using default LB=-1000 for EX_ac_e\n",
      "Metabolite glc__D_e available.\n",
      "Using default LB=-1000 for EX_glc_e\n",
      "Computing new uptake rates\n",
      "Biomass at t=2: 0.0967231\n",
      "Concentrations: {'ac_e': 0.067340941992154402, 'glc__D_e': 2.0121176679829031}\n",
      "Growth rate: 1.5849609375\n",
      "Metabolite ac_e available.\n",
      "Using default LB=-1000 for EX_ac_e\n",
      "Metabolite glc__D_e available.\n",
      "Using default LB=-1000 for EX_glc_e\n",
      "Computing new uptake rates\n",
      "Biomass at t=2.5: 0.123738\n",
      "Concentrations: {'ac_e': 0.12501524790160504, 'glc__D_e': 1.9599504278926723}\n",
      "Growth rate: 0.55859375\n",
      "Metabolite ac_e available.\n",
      "Using default LB=-1000 for EX_ac_e\n",
      "Metabolite glc__D_e available.\n",
      "Using default LB=-1000 for EX_glc_e\n",
      "Computing new uptake rates\n",
      "Biomass at t=3: 0.142528\n",
      "Concentrations: {'ac_e': 0.188434967151803, 'glc__D_e': 1.9079236230358592}\n",
      "Growth rate: 0.3037109375\n",
      "Metabolite ac_e available.\n",
      "Using default LB=-1000 for EX_ac_e\n",
      "Metabolite glc__D_e available.\n",
      "Using default LB=-1000 for EX_glc_e\n",
      "Computing new uptake rates\n",
      "Biomass at t=3.5: 0.152549\n",
      "Concentrations: {'ac_e': 0.25495232065338863, 'glc__D_e': 1.8559105493771531}\n",
      "Growth rate: 0.140625\n",
      "Metabolite ac_e available.\n",
      "Using default LB=-1000 for EX_ac_e\n",
      "Metabolite glc__D_e available.\n",
      "Using default LB=-1000 for EX_glc_e\n",
      "Computing new uptake rates\n",
      "Biomass at t=4: 0.157465\n",
      "Concentrations: {'ac_e': 0.32484788482869575, 'glc__D_e': 1.8012762878870794}\n",
      "Growth rate: 0.064453125\n",
      "Metabolite ac_e available.\n",
      "Using default LB=-1000 for EX_ac_e\n",
      "Metabolite glc__D_e available.\n",
      "Using default LB=-1000 for EX_glc_e\n",
      "Computing new uptake rates\n",
      "Biomass at t=4.5: 0.163309\n",
      "Concentrations: {'ac_e': 0.39728623201478641, 'glc__D_e': 1.7445774149959212}\n",
      "Growth rate: 0.07421875\n",
      "Metabolite ac_e available.\n",
      "Using default LB=-1000 for EX_ac_e\n",
      "Metabolite glc__D_e available.\n",
      "Using default LB=-1000 for EX_glc_e\n",
      "Computing new uptake rates\n",
      "Biomass at t=5: 0.167695\n",
      "Concentrations: {'ac_e': 0.47225497707848119, 'glc__D_e': 1.6858232191841149}\n",
      "Growth rate: 0.0537109375\n",
      "Metabolite ac_e available.\n",
      "Using default LB=-1000 for EX_ac_e\n",
      "Metabolite glc__D_e available.\n",
      "Using default LB=-1000 for EX_glc_e\n",
      "Computing new uptake rates\n",
      "Biomass at t=5.5: 0.172116\n",
      "Concentrations: {'ac_e': 0.54857278548928756, 'glc__D_e': 1.6270690233723086}\n",
      "Growth rate: 0.052734375\n",
      "Metabolite ac_e available.\n",
      "Using default LB=-1000 for EX_ac_e\n",
      "Metabolite glc__D_e available.\n",
      "Using default LB=-1000 for EX_glc_e\n",
      "Computing new uptake rates\n",
      "Biomass at t=6: 0.174049\n",
      "Concentrations: {'ac_e': 0.62564487504737742, 'glc__D_e': 1.5681776674552395}\n",
      "Growth rate: 0.0224609375\n",
      "Metabolite ac_e available.\n",
      "Using default LB=-1000 for EX_ac_e\n",
      "Metabolite glc__D_e available.\n",
      "Using default LB=-1000 for EX_glc_e\n",
      "Computing new uptake rates\n",
      "Biomass at t=6.5: 0.175154\n",
      "Concentrations: {'ac_e': 0.70316416517300517, 'glc__D_e': 1.509041342154362}\n",
      "Growth rate: 0.0126953125\n",
      "Metabolite ac_e available.\n",
      "Using default LB=-1000 for EX_ac_e\n",
      "Metabolite glc__D_e available.\n",
      "Using default LB=-1000 for EX_glc_e\n",
      "Computing new uptake rates\n",
      "Biomass at t=7: 0.175924\n",
      "Concentrations: {'ac_e': 0.78098179563014036, 'glc__D_e': 1.4497644720405343}\n",
      "Growth rate: 0.0087890625\n",
      "Metabolite ac_e available.\n",
      "Using default LB=-1000 for EX_ac_e\n",
      "Metabolite glc__D_e available.\n",
      "Using default LB=-1000 for EX_glc_e\n",
      "Computing new uptake rates\n",
      "Biomass at t=7.5: 0.176439\n",
      "Concentrations: {'ac_e': 0.85896427152492105, 'glc__D_e': 1.3904736850436821}\n",
      "Growth rate: 0.005859375\n",
      "Metabolite ac_e available.\n",
      "Using default LB=-1000 for EX_ac_e\n",
      "Metabolite glc__D_e available.\n",
      "Using default LB=-1000 for EX_glc_e\n",
      "Computing new uptake rates\n",
      "Biomass at t=8: 0.176611\n",
      "Concentrations: {'ac_e': 0.93694741320685304, 'glc__D_e': 1.3308908776496322}\n",
      "Growth rate: 0.001953125\n",
      "Metabolite ac_e available.\n",
      "Using default LB=-1000 for EX_ac_e\n",
      "Metabolite glc__D_e available.\n",
      "Using default LB=-1000 for EX_glc_e\n",
      "Computing new uptake rates\n",
      "Biomass at t=8.5: 0.177043\n",
      "Concentrations: {'ac_e': 1.0151681136518376, 'glc__D_e': 1.2711872355414544}\n",
      "Growth rate: 0.0048828125\n",
      "Metabolite ac_e available.\n",
      "Using default LB=-1000 for EX_ac_e\n",
      "Metabolite glc__D_e available.\n",
      "Using default LB=-1000 for EX_glc_e\n",
      "Computing new uptake rates\n",
      "Biomass at t=9: 0.177388\n",
      "Concentrations: {'ac_e': 1.0936147576084394, 'glc__D_e': 1.2114659288650742}\n",
      "Growth rate: 0.00390625\n",
      "Metabolite ac_e available.\n",
      "Using default LB=-1000 for EX_ac_e\n",
      "Metabolite glc__D_e available.\n",
      "Using default LB=-1000 for EX_glc_e\n",
      "Computing new uptake rates\n",
      "Biomass at t=9.5: 0.177562\n",
      "Concentrations: {'ac_e': 1.1721407350245485, 'glc__D_e': 1.1517274488671931}\n",
      "Growth rate: 0.001953125\n",
      "Metabolite ac_e available.\n",
      "Using default LB=-1000 for EX_ac_e\n",
      "Metabolite glc__D_e available.\n",
      "Using default LB=-1000 for EX_glc_e\n",
      "Computing new uptake rates\n",
      "Biomass at t=10: 0.177648\n",
      "Concentrations: {'ac_e': 1.2507011020332692, 'glc__D_e': 1.0919347451840118}\n",
      "Growth rate: 0.0009765625\n",
      "Metabolite ac_e available.\n",
      "Using default LB=-1000 for EX_ac_e\n",
      "Metabolite glc__D_e available.\n",
      "Using default LB=-1000 for EX_glc_e\n",
      "Computing new uptake rates\n",
      "Biomass at t=10.5: 0.177735\n",
      "Concentrations: {'ac_e': 1.3292863074367696, 'glc__D_e': 1.0320664545134155}\n",
      "Growth rate: 0.0009765625\n",
      "Metabolite ac_e available.\n",
      "Using default LB=-1000 for EX_ac_e\n",
      "Metabolite glc__D_e available.\n",
      "Using default LB=-1000 for EX_glc_e\n",
      "Computing new uptake rates\n",
      "Biomass at t=11: 0.177822\n",
      "Concentrations: {'ac_e': 1.4078852031633085, 'glc__D_e': 0.97205247397644545}\n",
      "Growth rate: 0.0009765625\n",
      "Metabolite ac_e available.\n",
      "Using default LB=-1000 for EX_ac_e\n",
      "Metabolite glc__D_e available.\n",
      "Using default LB=-1000 for EX_glc_e\n",
      "Computing new uptake rates\n",
      "Biomass at t=11.5: 0.177995\n",
      "Concentrations: {'ac_e': 1.4865561025877814, 'glc__D_e': 0.91183043834663213}\n",
      "Growth rate: 0.001953125\n",
      "Metabolite ac_e available.\n",
      "Using default LB=-1000 for EX_ac_e\n",
      "Metabolite glc__D_e available.\n",
      "Using default LB=-1000 for EX_glc_e\n",
      "Computing new uptake rates\n",
      "Biomass at t=12: 0.178343\n",
      "Concentrations: {'ac_e': 1.5654129833724473, 'glc__D_e': 0.85144698524698192}\n",
      "Growth rate: 0.00390625\n",
      "Metabolite ac_e available.\n",
      "Using default LB=-1000 for EX_ac_e\n",
      "Metabolite glc__D_e available.\n",
      "Using default LB=-1000 for EX_glc_e\n",
      "Computing new uptake rates\n",
      "Biomass at t=12.5: 0.178691\n",
      "Concentrations: {'ac_e': 1.6444606930364145, 'glc__D_e': 0.790931095768586}\n",
      "Growth rate: 0.00390625\n",
      "Metabolite ac_e available.\n",
      "Using default LB=-1000 for EX_ac_e\n",
      "Metabolite glc__D_e available.\n",
      "Using default LB=-1000 for EX_glc_e\n",
      "Computing new uptake rates\n",
      "Biomass at t=13: 0.178953\n",
      "Concentrations: {'ac_e': 1.723631133758468, 'glc__D_e': 0.73019746328499746}\n",
      "Growth rate: 0.0029296875\n",
      "Metabolite ac_e available.\n",
      "Using default LB=-1000 for EX_ac_e\n",
      "Metabolite glc__D_e available.\n",
      "Using default LB=-1000 for EX_glc_e\n",
      "Computing new uptake rates\n",
      "Biomass at t=13.5: 0.17939\n",
      "Concentrations: {'ac_e': 1.8030583442023134, 'glc__D_e': 0.66937763410603046}\n",
      "Growth rate: 0.0048828125\n",
      "Metabolite ac_e available.\n",
      "Using default LB=-1000 for EX_ac_e\n",
      "Metabolite glc__D_e available.\n",
      "Using default LB=-1000 for EX_glc_e\n",
      "Computing new uptake rates\n",
      "Biomass at t=14: 0.179653\n",
      "Concentrations: {'ac_e': 1.8826205287314699, 'glc__D_e': 0.60842659315049563}\n",
      "Growth rate: 0.0029296875\n",
      "Metabolite ac_e available.\n",
      "Using default LB=-1000 for EX_ac_e\n",
      "Metabolite glc__D_e available.\n",
      "Using default LB=-1000 for EX_glc_e\n",
      "Computing new uptake rates\n",
      "Biomass at t=14.5: 0.179916\n",
      "Concentrations: {'ac_e': 1.9623219542511061, 'glc__D_e': 0.54734735226217324}\n",
      "Growth rate: 0.0029296875\n",
      "Metabolite ac_e available.\n",
      "Using default LB=-1000 for EX_ac_e\n",
      "Metabolite glc__D_e available.\n",
      "Using default LB=-1000 for EX_glc_e\n",
      "Computing new uptake rates\n",
      "Biomass at t=15: 0.18018\n",
      "Concentrations: {'ac_e': 2.0421627655829702, 'glc__D_e': 0.48613941069270789}\n",
      "Growth rate: 0.0029296875\n",
      "Metabolite ac_e available.\n",
      "Using default LB=-1000 for EX_ac_e\n",
      "Metabolite glc__D_e available.\n",
      "Using default LB=-1000 for EX_glc_e\n",
      "Computing new uptake rates\n",
      "Biomass at t=15.5: 0.180443\n",
      "Concentrations: {'ac_e': 2.1221429590055645, 'glc__D_e': 0.42480138954460511}\n",
      "Growth rate: 0.0029296875\n",
      "Metabolite ac_e available.\n",
      "Using default LB=-1000 for EX_ac_e\n",
      "Metabolite glc__D_e available.\n",
      "Using default LB=-1000 for EX_glc_e\n",
      "Computing new uptake rates\n",
      "Biomass at t=16: 0.180708\n",
      "Concentrations: {'ac_e': 2.2022619592161496, 'glc__D_e': 0.36332863515766622}\n",
      "Growth rate: 0.0029296875\n",
      "Metabolite ac_e available.\n",
      "Using default LB=-1000 for EX_ac_e\n",
      "Metabolite glc__D_e available.\n",
      "Using default LB=-1000 for EX_glc_e\n",
      "Computing new uptake rates\n",
      "Biomass at t=16.5: 0.180972\n",
      "Concentrations: {'ac_e': 2.2825170470456033, 'glc__D_e': 0.30170421655208129}\n",
      "Growth rate: 0.0029296875\n",
      "Metabolite ac_e available.\n",
      "Using default LB=-1000 for EX_ac_e\n",
      "Metabolite glc__D_e available.\n",
      "Using default LB=-1000 for EX_glc_e\n",
      "Computing new uptake rates\n",
      "Biomass at t=17: 0.181238\n",
      "Concentrations: {'ac_e': 2.362897464472518, 'glc__D_e': 0.23986517197637527}\n",
      "Growth rate: 0.0029296875\n",
      "Metabolite ac_e available.\n",
      "Using default LB=-1000 for EX_ac_e\n",
      "Metabolite glc__D_e available.\n",
      "Using default LB=-1000 for EX_glc_e\n",
      "Computing new uptake rates\n",
      "Biomass at t=17.5: 0.18168\n",
      "Concentrations: {'ac_e': 2.4435533751493304, 'glc__D_e': 0.17797332480985409}\n",
      "Growth rate: 0.0048828125\n",
      "Metabolite ac_e available.\n",
      "Using default LB=-1000 for EX_ac_e\n",
      "Metabolite glc__D_e available.\n",
      "Using default LB=-1000 for EX_glc_e\n",
      "Computing new uptake rates\n",
      "Changing lower bounds glc__D_e to -1.278\n",
      "Biomass at t=18: 0.181946\n",
      "Concentrations: {'ac_e': 2.5243829507880622, 'glc__D_e': 0.11606742501346301}\n",
      "Growth rate: 0.0029296875\n",
      "Metabolite ac_e available.\n",
      "Using default LB=-1000 for EX_ac_e\n",
      "Metabolite glc__D_e available.\n",
      "Computing new uptake rates\n",
      "Changing lower bounds glc__D_e to -0.594\n",
      "Biomass at t=18.5: 0.182035\n",
      "Concentrations: {'ac_e': 2.6052141347045503, 'glc__D_e': 0.054005298278294513}\n",
      "Growth rate: 0.0009765625\n",
      "Metabolite ac_e available.\n",
      "Using default LB=-1000 for EX_ac_e\n",
      "Metabolite glc__D_e available.\n",
      "Computing new uptake rates\n",
      "Biomass at t=19: 0.182035\n",
      "Concentrations: {'ac_e': 2.6052141347045503, 'glc__D_e': 0.054005298278294513}\n",
      "Growth rate: 0.0\n",
      "Metabolite ac_e available.\n",
      "Using default LB=-1000 for EX_ac_e\n",
      "Metabolite glc__D_e available.\n",
      "Biomass at t=19.5: 0.182035\n",
      "Concentrations: {'ac_e': 2.6052141347045503, 'glc__D_e': 0.054005298278294513}\n",
      "Growth rate: 0.0\n",
      "Metabolite ac_e available.\n",
      "Using default LB=-1000 for EX_ac_e\n",
      "Metabolite glc__D_e available.\n",
      "Biomass at t=20: 0.182035\n",
      "Concentrations: {'ac_e': 2.6052141347045503, 'glc__D_e': 0.054005298278294513}\n",
      "Growth rate: 0.0\n",
      "CPU times: user 4min 1s, sys: 1.99 s, total: 4min 3s\n",
      "Wall time: 4min\n"
     ]
    }
   ],
   "source": [
    "%%time\n",
    "extra_rxns_tracked = ['EX_o2_e'] + fluxes_plot\n",
    "\n",
    "T = 20\n",
    "dt = 0.5\n",
    "H = dt\n",
    "\n",
    "result = dyme.simulate_batch(\n",
    "    T,    \n",
    "    c0_dict,\n",
    "    X0,\n",
    "    prec_bs=1e-3,\n",
    "    ZERO_CONC=0.,\n",
    "    extra_rxns_tracked=extra_rxns_tracked,\n",
    "    lb_dict={},\n",
    "    verbosity=2,\n",
    "    dt = dt,\n",
    "    H = H,\n",
    "    cplx_conc_dict0=cplx_conc_dict0)"
   ]
  },
  {
   "cell_type": "code",
   "execution_count": 37,
   "metadata": {
    "collapsed": false,
    "deletable": true,
    "editable": true
   },
   "outputs": [
    {
     "data": {
      "text/plain": [
       "[<matplotlib.lines.Line2D at 0x7f02aad87150>]"
      ]
     },
     "execution_count": 37,
     "metadata": {},
     "output_type": "execute_result"
    },
    {
     "data": {
      "image/png": "[encoded data removed]",
      "text/plain": [
       "<matplotlib.figure.Figure at 0x7f02aac82350>"
      ]
     },
     "metadata": {},
     "output_type": "display_data"
    }
   ],
   "source": [
    "import seaborn as sns\n",
    "%matplotlib inline\n",
    "\n",
    "sns.plt.plot(result['time'], result['biomass'])"
   ]
  },
  {
   "cell_type": "code",
   "execution_count": 38,
   "metadata": {
    "collapsed": false,
    "deletable": true,
    "editable": true
   },
   "outputs": [
    {
     "data": {
      "text/plain": [
       "{'ac_e': {'mw': 59.04402,\n",
       "  'rxn': <MetabolicReaction EX_ac_e at 0x7f02aac05cd0>},\n",
       " 'glc__D_e': {'mw': 180.15588,\n",
       "  'rxn': <MetabolicReaction EX_glc_e at 0x7f02abb235d0>}}"
      ]
     },
     "execution_count": 38,
     "metadata": {},
     "output_type": "execute_result"
    }
   ],
   "source": [
    "ex_met_rxn_dict = {m: {'rxn':dyme.get_exchange_rxn(m), 'mw':me.metabolites.get_by_id(m).formula_weight} for m in c0_dict.keys()}\n",
    "ex_met_rxn_dict"
   ]
  },
  {
   "cell_type": "code",
   "execution_count": 39,
   "metadata": {
    "collapsed": false,
    "deletable": true,
    "editable": true,
    "scrolled": true
   },
   "outputs": [],
   "source": [
    "import pandas as pd\n",
    "\n",
    "df_conc = pd.DataFrame(result['concentration'])\n",
    "### Convert concentrations to g/L\n",
    "for mid, vals in ex_met_rxn_dict.iteritems():\n",
    "    df_conc[mid] = df_conc[mid] * vals['mw'] * 0.001\n",
    "\n",
    "df_time = pd.DataFrame({'time':t, 'biomass':b} for t,b in zip(result['time'], result['biomass']))\n",
    "df_flux = pd.DataFrame(result['ex_flux'])\n",
    "df_mu   = pd.DataFrame({'mu':result['growth_rate']})\n",
    "df_result = pd.concat([df_time, df_conc, df_flux, df_mu], axis=1)\n",
    "#df_result"
   ]
  },
  {
   "cell_type": "code",
   "execution_count": 40,
   "metadata": {
    "collapsed": true,
    "deletable": true,
    "editable": true
   },
   "outputs": [],
   "source": [
    "dsplot = pd.melt(df_result, id_vars='time', value_vars=['biomass','ac_e','gal_e','glc__D_e','glyc_e','lac__L_e','malt_e'])\n",
    "dsplot.time = pd.to_numeric(dsplot.time)\n",
    "dsplot['category'] = 'Metabolite'\n",
    "dsplot.loc[ dsplot.variable=='biomass', 'category'] = 'Biomass'"
   ]
  },
  {
   "cell_type": "code",
   "execution_count": 41,
   "metadata": {
    "collapsed": false,
    "deletable": true,
    "editable": true
   },
   "outputs": [
    {
     "data": {
      "text/plain": [
       "<seaborn.axisgrid.FacetGrid at 0x7f02abf8d750>"
      ]
     },
     "execution_count": 41,
     "metadata": {},
     "output_type": "execute_result"
    },
    {
     "data": {
      "image/png": "[encoded data removed]",
      "text/plain": [
       "<matplotlib.figure.Figure at 0x7f02abf8d5d0>"
      ]
     },
     "metadata": {},
     "output_type": "display_data"
    }
   ],
   "source": [
    "colors = [\n",
    "'#000000', # biomass\n",
    "'#660066', # acetate\n",
    "'#00CC00', #'#00FF00', # galactose\n",
    "'#000000', # glucose\n",
    "'#FF00FF', # glycerol\n",
    "'#0000FF', # lactate\n",
    "'#FF0000', # maltose\n",
    "]\n",
    "\n",
    "colpal = sns.color_palette(colors)\n",
    "sns.set_palette(colpal)\n",
    "\n",
    "g = sns.FacetGrid(data=dsplot, hue='variable', col='category', sharey=False, size=5)\n",
    "\n",
    "g.map(sns.plt.plot, 'time', 'value', linestyle='-', marker='.')\n",
    "g.add_legend()"
   ]
  },
  {
   "cell_type": "code",
   "execution_count": 42,
   "metadata": {
    "collapsed": false,
    "deletable": true,
    "editable": true
   },
   "outputs": [],
   "source": [
    "if PROTOTYPE:\n",
    "    complexes_plot = ['IPPMIa_E_c', 'ACKr_reverse_E_c', 'CPLX0-7760_mod_4fe4s','CPLX0-7761_mod_4fe4s']\n",
    "else:\n",
    "    complexes_plot = ['3-ISOPROPYLMALISOM-CPLX_mod_4fe4s', 'ACETATEKINA-MONOMER_mod_mg2', 'CPLX0-7659']"
   ]
  },
  {
   "cell_type": "code",
   "execution_count": 139,
   "metadata": {
    "collapsed": false,
    "deletable": true,
    "editable": true
   },
   "outputs": [
    {
     "data": {
      "text/plain": [
       "['rxn_flux',\n",
       " 'complex',\n",
       " 'ex_flux',\n",
       " 'time',\n",
       " 'concentration',\n",
       " 'basis',\n",
       " 'biomass',\n",
       " 'growth_rate']"
      ]
     },
     "execution_count": 139,
     "metadata": {},
     "output_type": "execute_result"
    }
   ],
   "source": [
    "result.keys()"
   ]
  },
  {
   "cell_type": "code",
   "execution_count": 134,
   "metadata": {
    "collapsed": false,
    "deletable": true,
    "editable": true
   },
   "outputs": [],
   "source": [
    "df_mu = pd.DataFrame([{'time':t, 'variable':'growth_rate', 'value':c, 'category':'growth'} for t,c in zip(result['time'], result['growth_rate'])] )\n",
    "\n",
    "df_complex = pd.DataFrame([{'time':t, 'complex':c, 'abundance':cdict[c]} \n",
    "                           for t,cdict in zip(result['time'], result['complex']) for c in complexes_plot] )\n",
    "\n",
    "df_mflux = pd.DataFrame([{'time':t, 'rxn':c, 'flux':cdict[c]} \n",
    "                           for t,cdict in zip(result['time'], result['rxn_flux']) for c in fluxes_plot+['EX_o2_e']] )\n",
    "\n",
    "\n",
    "df_complex.loc[:,'category'] = 'complex'\n",
    "df_mflux.loc[:,'category'] = 'flux'\n",
    "\n",
    "dsplot_all = pd.concat([dsplot,\n",
    "                        df_mu,\n",
    "                          df_complex.rename(columns={'complex':'variable', 'abundance':'value'}),\n",
    "                          df_mflux.rename(columns={'rxn':'variable', 'flux':'value'})])"
   ]
  },
  {
   "cell_type": "markdown",
   "metadata": {
    "deletable": true,
    "editable": true
   },
   "source": [
    "## See an intriguing result that might be a novel angle:\n",
    "- Starting off at proteome that is 50% max growth (to imitate the slow growth proteome of stationary phase, which the cell culture usually starts from)\n",
    "- Observe aconitase A decreasing steadily while ACK increases\n",
    "    - During this initial proteome reallocation, from complete ox-phosph to slight overflow, growth rate maintained at max\n",
    "    - however, once AcnA deccreases below threshold, growth rate begins dropping\n",
    "    - at this point, the short term growth rate is still maximized by switching even more to acetate overflow than to re-invest into ox-phosph by making more AcnA\n",
    "    - but growth rate keeps dropping until a local optimum is reached between oxphosph and ac overflow\n",
    "    - this local optimum might be globally suboptimal\n",
    "        - i.e., the global, long-term optimum might have been to allow a short-term growth rate decrease to invest into more ox-phosph that would pay off eventually with much faster total growth rate\n",
    "    - therefore, the added dimension of overflow is that of suboptimal dynamic proteome re-allocation, which occurs because ox-phosph is more expensive and thus requires the burden of short-term losses to realize long-term gains"
   ]
  },
  {
   "cell_type": "code",
   "execution_count": 136,
   "metadata": {
    "collapsed": false,
    "deletable": true,
    "editable": true
   },
   "outputs": [
    {
     "data": {
      "text/plain": [
       "<seaborn.axisgrid.FacetGrid at 0x7f028dfd5f90>"
      ]
     },
     "execution_count": 136,
     "metadata": {},
     "output_type": "execute_result"
    },
    {
     "data": {
      "image/png": "[encoded data removed]",
      "text/plain": [
       "<matplotlib.figure.Figure at 0x7f028def2690>"
      ]
     },
     "metadata": {},
     "output_type": "display_data"
    }
   ],
   "source": [
    "sns.set_style('ticks')\n",
    "palette = sns.color_palette('muted', len(dsplot_all.variable.unique()))\n",
    "g = sns.FacetGrid(data=dsplot_all, hue='variable', sharey=False, size=3, col='category', palette=palette,\n",
    "                  aspect=2, col_wrap=2, col_order=['Biomass','complex','Metabolite','flux','growth'])\n",
    "g.map(sns.plt.plot, 'time', 'value', linestyle='-', marker='.')\n",
    "g.add_legend()"
   ]
  },
  {
   "cell_type": "code",
   "execution_count": 63,
   "metadata": {
    "collapsed": false,
    "deletable": true,
    "editable": true
   },
   "outputs": [
    {
     "data": {
      "text/plain": [
       "<seaborn.axisgrid.FacetGrid at 0x7f0298a691d0>"
      ]
     },
     "execution_count": 63,
     "metadata": {},
     "output_type": "execute_result"
    },
    {
     "data": {
      "image/png": "[encoded data removed]",
      "text/plain": [
       "<matplotlib.figure.Figure at 0x7f0294cc43d0>"
      ]
     },
     "metadata": {},
     "output_type": "display_data"
    }
   ],
   "source": [
    "sns.set_style('ticks')\n",
    "dfi = dsplot_all[ dsplot_all.category.isin(['complex','flux'])]\n",
    "palette = sns.color_palette('Paired', len(dfi.variable.unique()))\n",
    "g = sns.FacetGrid(data=dfi, hue='variable', sharey=False, size=3, row='category', palette=palette, aspect=2)\n",
    "g.map(sns.plt.plot, 'time', 'value', linestyle='-', marker='.')\n",
    "g.add_legend()"
   ]
  },
  {
   "cell_type": "markdown",
   "metadata": {
    "deletable": true,
    "editable": true
   },
   "source": [
    "## Proteome mole (mass) fractions"
   ]
  },
  {
   "cell_type": "code",
   "execution_count": 80,
   "metadata": {
    "collapsed": false,
    "deletable": true,
    "editable": true
   },
   "outputs": [],
   "source": [
    "df_cplx = pd.DataFrame([{'cplx':k, 'conc':v, 'time':result['time'][i]} for i,r in enumerate(result['complex']) for k,v in r.iteritems()])"
   ]
  },
  {
   "cell_type": "code",
   "execution_count": 89,
   "metadata": {
    "collapsed": false,
    "deletable": true,
    "editable": true
   },
   "outputs": [],
   "source": [
    "times = df_cplx.time.unique()\n",
    "for t in times:\n",
    "    dfi = df_cplx[ df_cplx.time==t]\n",
    "    mtot = dfi.conc.sum()\n",
    "    b = (df_cplx.time==t).values\n",
    "    df_cplx.loc[b,'molf'] = df_cplx.loc[b,'conc'] / mtot"
   ]
  },
  {
   "cell_type": "code",
   "execution_count": 91,
   "metadata": {
    "collapsed": false,
    "deletable": true,
    "editable": true
   },
   "outputs": [
    {
     "data": {
      "text/html": [
       "<div>\n",
       "<style>\n",
       "    .dataframe thead tr:only-child th {\n",
       "        text-align: right;\n",
       "    }\n",
       "\n",
       "    .dataframe thead th {\n",
       "        text-align: left;\n",
       "    }\n",
       "\n",
       "    .dataframe tbody tr th {\n",
       "        vertical-align: top;\n",
       "    }\n",
       "</style>\n",
       "<table border=\"1\" class=\"dataframe\">\n",
       "  <thead>\n",
       "    <tr style=\"text-align: right;\">\n",
       "      <th></th>\n",
       "      <th>conc</th>\n",
       "      <th>cplx</th>\n",
       "      <th>time</th>\n",
       "      <th>molf</th>\n",
       "    </tr>\n",
       "  </thead>\n",
       "  <tbody>\n",
       "    <tr>\n",
       "      <th>0</th>\n",
       "      <td>0.0</td>\n",
       "      <td>GLYBt2r_E_c</td>\n",
       "      <td>0.0</td>\n",
       "      <td>0.0</td>\n",
       "    </tr>\n",
       "    <tr>\n",
       "      <th>1</th>\n",
       "      <td>0.0</td>\n",
       "      <td>DHQD_reverse_E_c</td>\n",
       "      <td>0.0</td>\n",
       "      <td>0.0</td>\n",
       "    </tr>\n",
       "  </tbody>\n",
       "</table>\n",
       "</div>"
      ],
      "text/plain": [
       "   conc              cplx  time  molf\n",
       "0   0.0       GLYBt2r_E_c   0.0   0.0\n",
       "1   0.0  DHQD_reverse_E_c   0.0   0.0"
      ]
     },
     "execution_count": 91,
     "metadata": {},
     "output_type": "execute_result"
    }
   ],
   "source": [
    "df_cplx.head(2)"
   ]
  },
  {
   "cell_type": "code",
   "execution_count": 106,
   "metadata": {
    "collapsed": false,
    "deletable": true,
    "editable": true
   },
   "outputs": [
    {
     "data": {
      "text/plain": [
       "array(['CYTK2_E_c', 'CYTK2_reverse_E_c', 'PFL_E_c', 'FORti_E_c',\n",
       "       'PTAr_E_c', 'ACKr_reverse_E_c', 'ADHE-CPLX_mod_fe2', 'PYK_E_c',\n",
       "       'PGM_reverse_E_c', 'ENO_E_c'], dtype=object)"
      ]
     },
     "execution_count": 106,
     "metadata": {},
     "output_type": "execute_result"
    }
   ],
   "source": [
    "df_var = df_cplx.groupby('cplx').molf.var().reset_index()\n",
    "df_var.molf.min()\n",
    "df_var.molf.max()\n",
    "N_PLOT = 10\n",
    "vary_cplxs = df_var.sort_values('molf', ascending=False)['cplx'][0:N_PLOT].values\n",
    "vary_cplxs"
   ]
  },
  {
   "cell_type": "code",
   "execution_count": 116,
   "metadata": {
    "collapsed": false,
    "deletable": true,
    "editable": true
   },
   "outputs": [
    {
     "data": {
      "text/plain": [
       "<seaborn.axisgrid.FacetGrid at 0x7f028fb1e1d0>"
      ]
     },
     "execution_count": 116,
     "metadata": {},
     "output_type": "execute_result"
    },
    {
     "data": {
      "image/png": "[encoded data removed]",
      "text/plain": [
       "<matplotlib.figure.Figure at 0x7f028fb1ea10>"
      ]
     },
     "metadata": {},
     "output_type": "display_data"
    }
   ],
   "source": [
    "dsplot_cplx = df_cplx[ df_cplx.cplx.isin(vary_cplxs)]\n",
    "dsplot_cplx.loc[:,'group'] = 'DynamicDelayedME'\n",
    "stacked_bar('time', 'molf', dsplot_cplx, 'cplx', 'group', aspect=4, size=4, width=0.75)"
   ]
  },
  {
   "cell_type": "markdown",
   "metadata": {
    "deletable": true,
    "editable": true
   },
   "source": [
    "## Expression fluxes"
   ]
  },
  {
   "cell_type": "markdown",
   "metadata": {
    "deletable": true,
    "editable": true
   },
   "source": [
    "## Check |slacks|>ftol for equality constraints to find infeasible\n",
    "\n",
    "- Ax + s = 0\n",
    "- Ax = -s\n",
    "\n",
    "import numpy as np\n",
    "infeas_cons = {}\n",
    "\n",
    "ZERO = 1e-15\n",
    "N = len(dsolver.me.reactions)\n",
    "M = len(dsolver.me.metabolites)\n",
    "           \n",
    "for met in dsolver.me.metabolites:\n",
    "    if met._constraint_sense == 'E':\n",
    "        i = dsolver.me.metabolites.index(met)        \n",
    "        s = x[N+i]\n",
    "        b = met._bound\n",
    "        e = b+s # since -s = b OR b+s = 0\n",
    "        if abs(e) > ZERO:\n",
    "            infeas_cons[met.id] = e\n",
    "max_abs_infeas = max(abs(np.array(infeas_cons.values())))\n",
    "print 'Max abs primal infeas:', max_infeas\n",
    "print 'Min abs primal infeas:', min(abs(np.array(infeas_cons.values())))\n",
    "print 'Sum of abs infeas:', sum(abs(np.array(infeas_cons.values())))\n",
    "print '# of infeasibilities:', len(infeas_cons)"
   ]
  },
  {
   "cell_type": "code",
   "execution_count": null,
   "metadata": {
    "collapsed": true,
    "deletable": true,
    "editable": true
   },
   "outputs": [],
   "source": []
  }
 ],
 "metadata": {
  "kernelspec": {
   "display_name": "Python 2",
   "language": "python",
   "name": "python2"
  },
  "language_info": {
   "codemirror_mode": {
    "name": "ipython",
    "version": 2
   },
   "file_extension": ".py",
   "mimetype": "text/x-python",
   "name": "python",
   "nbconvert_exporter": "python",
   "pygments_lexer": "ipython2",
   "version": "2.7.13"
  }
 },
 "nbformat": 4,
 "nbformat_minor": 2
}
