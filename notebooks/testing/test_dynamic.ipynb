{
 "cells": [
  {
   "cell_type": "markdown",
   "metadata": {},
   "source": [
    "# Simulate proteome time profiles. Perturbation midway by removing carbon source, forcing starvation"
   ]
  },
  {
   "cell_type": "code",
   "execution_count": 1,
   "metadata": {
    "collapsed": true
   },
   "outputs": [],
   "source": [
    "PROTOTYPE = True"
   ]
  },
  {
   "cell_type": "code",
   "execution_count": 2,
   "metadata": {
    "collapsed": true
   },
   "outputs": [],
   "source": [
    "from dynamicme.tests.helpme import HelpME\n",
    "from dynamicme.dynamic import get_cplx_concs\n",
    "\n",
    "helper = HelpME(prototyping=PROTOTYPE)\n",
    "solver = helper.solver\n",
    "me = solver.me"
   ]
  },
  {
   "cell_type": "code",
   "execution_count": 3,
   "metadata": {
    "collapsed": true
   },
   "outputs": [],
   "source": [
    "cplx_concs_max = get_cplx_concs(solver)"
   ]
  },
  {
   "cell_type": "markdown",
   "metadata": {},
   "source": [
    "## Make sure delayme works"
   ]
  },
  {
   "cell_type": "code",
   "execution_count": 4,
   "metadata": {
    "collapsed": false,
    "deletable": true,
    "editable": true
   },
   "outputs": [
    {
     "name": "stdout",
     "output_type": "stream",
     "text": [
      "mu of ME: 0.845886230469\n"
     ]
    }
   ],
   "source": [
    "mu_me = me.solution.x_dict['biomass_dilution']\n",
    "print 'mu of ME:', mu_me"
   ]
  },
  {
   "cell_type": "code",
   "execution_count": 5,
   "metadata": {
    "collapsed": true
   },
   "outputs": [],
   "source": [
    "from dynamicme.dynamic import DelayedDynamicME\n",
    "\n",
    "dyme = DelayedDynamicME(solver)\n",
    "dyme.delay_model.solver.set_realopts('lp', {'Feasibility tol':1e-15,'Optimality tol':1e-15})\n",
    "dsolver = dyme.delay_model.solver"
   ]
  },
  {
   "cell_type": "code",
   "execution_count": 6,
   "metadata": {
    "collapsed": false
   },
   "outputs": [
    {
     "name": "stdout",
     "output_type": "stream",
     "text": [
      "DelayME: optimal at 0.845886230469\n",
      "CPU times: user 4.48 s, sys: 56.7 ms, total: 4.53 s\n",
      "Wall time: 4.47 s\n"
     ]
    }
   ],
   "source": [
    "%%time\n",
    "### Make sure it solves\n",
    "dyme.delay_model.update_cplx_concs(cplx_concs_max)\n",
    "dyme.delay_model.update_horizon(0.01)\n",
    "x,stat,hs = dsolver.solvelp(mu_me)\n",
    "dme = dyme.delay_model.mod_me\n",
    "print 'DelayME:', stat, 'at', dme.reactions.biomass_dilution.x\n",
    "x_dict_max = dict(dsolver.me.solution.x_dict)"
   ]
  },
  {
   "cell_type": "markdown",
   "metadata": {},
   "source": [
    "# Test 2: Should be able to grow at any slower rate starting from initial proteome for faster growth\n",
    "- can just scale down formation rates\n",
    "- as long as rxns allowed to be slower than keff*E, which we did do here"
   ]
  },
  {
   "cell_type": "code",
   "execution_count": 7,
   "metadata": {
    "collapsed": false
   },
   "outputs": [
    {
     "name": "stdout",
     "output_type": "stream",
     "text": [
      "optimal\n",
      "CPU times: user 2.06 s, sys: 3.33 ms, total: 2.07 s\n",
      "Wall time: 2.04 s\n"
     ]
    }
   ],
   "source": [
    "%%time\n",
    "\n",
    "dyme.delay_model.update_cplx_concs(cplx_concs_max)\n",
    "dyme.delay_model.update_horizon(0.01)\n",
    "x,stat,hs = dsolver.solvelp(mu_me*0.5)\n",
    "print stat\n",
    "x_dict_opt2 = dict(dsolver.me.solution.x_dict)\n",
    "cplx_concs_opt2 = get_cplx_concs(dsolver)"
   ]
  },
  {
   "cell_type": "markdown",
   "metadata": {},
   "source": [
    "### Difference in cplx concs? Or no change and just under utilizing enzyme capacity?"
   ]
  },
  {
   "cell_type": "code",
   "execution_count": 8,
   "metadata": {
    "collapsed": false
   },
   "outputs": [
    {
     "name": "stdout",
     "output_type": "stream",
     "text": [
      "2.1139531174e-05         2.13226580098e-05        PGI_E_c                  \n",
      "4.46576546803e-07        5.0397678181e-07         DIHYDROXYACIDDEHYDRA     \n",
      "1.0900752461e-07         1.13820953004e-07        DHDPRy_E_c               \n",
      "1.51792981632e-07        1.57043002402e-07        DHQS_E_c                 \n",
      "2.1827530086e-08         2.17356008586e-08        PRAIi_E_c                \n",
      "6.14799125635e-08        6.1883984752e-08         HSST_E_c                 \n",
      "4.4130503656e-08         4.39446428147e-08        ORPT_reverse_E_c         \n",
      "6.14799125635e-08        6.1883984752e-08         HSDy_reverse_E_c         \n",
      "0                        2.59242582042e-06        PGK_E_c                  \n",
      "1.34306249861e-07        1.33740603188e-07        CBMK_E_c                 \n",
      "3.88633046903e-08        3.86996272811e-08        PRAMPC_E_c               \n",
      "3.88633046903e-08        3.86996272811e-08        IG3PS_E_c                \n",
      "3.88633046903e-08        3.86996272811e-08        IMPC_reverse_E_c         \n",
      "3.25080335801e-05        3.2485786447e-05         FBA_E_c                  \n",
      "1.51792981632e-07        1.57043002402e-07        PSCVT_E_c                \n",
      "6.50771104367e-06        6.48030304808e-06        TKT1_E_c                 \n",
      "2.21965044968e-07        2.35571816009e-07        THRAr_reverse_E_c        \n",
      "9.2719143265e-06         9.30653374279e-06        RPI_reverse_E_c          \n",
      "1.04821338432e-07        1.04379870954e-07        PRPPS_E_c                \n",
      "3.05677314002e-07        3.04389917801e-07        PUNP3_E_c                \n",
      "1.51792981632e-07        1.57043002402e-07        CHORS_E_c                \n",
      "3.05677314002e-07        3.04389917801e-07        GUAD_E_c                 \n",
      "2.1827530086e-08         2.17356008586e-08        TRPS3_E_c                \n",
      "1.51792981632e-07        1.57043002402e-07        DHQD_E_c                 \n",
      "1.70487437173e-07        1.75704937756e-07        ASAD_reverse_E_c         \n",
      "7.7496272036e-08         7.94092172336e-08        CYSS_E_c                 \n",
      "8.44750107695e-08        3.10069839552e-07        ACKr_reverse_E_c         \n",
      "3.19761089589e-07        3.45087063446e-07        MTHFD_E_c                \n",
      "4.4130503656e-08         4.39446428147e-08        DHORD2_E_c               \n",
      "6.96975587981e-05        6.95592558228e-05        GAPD_E_c                 \n",
      "7.16495983425e-08        7.95066182831e-08        G5SD_E_c                 \n",
      "3.05677314002e-07        3.04389917801e-07        NTD9_E_c                 \n",
      "9.0175746205e-08         9.39076138569e-08        AGPR_reverse_E_c         \n",
      "3.44540618692e-07        3.43089545082e-07        PUNP1_reverse_E_c        \n",
      "6.53804495762e-06        6.51050920716e-06        THD2_E_c                 \n",
      "5.53019212386e-07        5.96607060455e-07        PSP_L_E_c                \n",
      "9.0175746205e-08         9.39076138569e-08        ACGS_E_c                 \n",
      "1.51792981632e-07        1.57043002402e-07        SHK3Dr_E_c               \n",
      "3.44540618692e-07        3.43089545082e-07        ADNK1_E_c                \n",
      "9.0175746205e-08         9.39076138569e-08        ARGSL_E_c                \n",
      "7.7496272036e-08         7.94092172336e-08        ADSK_E_c                 \n",
      "3.88633046903e-08        3.86996272811e-08        AICART_E_c               \n",
      "4.48224534497e-07        4.46336783799e-07        AMPN_E_c                 \n",
      "4.4130503656e-08         4.39446428147e-08        DHORTS_reverse_E_c       \n",
      "0                        2.17973119957e-07        ATPS4r_E_c               \n",
      "5.28779504089e-08        5.26552486599e-08        PPND_E_c                 \n",
      "3.25080335801e-05        3.2485786447e-05         TPI_E_c                  \n",
      "7.7496272036e-08         7.94092172336e-08        PAPSR_E_c                \n",
      "3.56047556841e-06        4.01267662076e-06        NDPK1_E_c                \n",
      "1.73674737089e-07        2.06629091927e-07        LEUTAi_E_c               \n",
      "1.0900752461e-07         1.13820953004e-07        THDPS_E_c                \n",
      "1.0273561236e-06         1.02302929164e-06        GLNS_E_c                 \n",
      "2.08858542945e-05        2.07978910462e-05        GND_E_c                  \n",
      "7.7496272036e-08         7.94092172336e-08        TRDR_E_c                 \n",
      "4.79457305178e-07        4.77904428659e-07        ASPTA_reverse_E_c        \n",
      "1.22437126146e-06        1.23455225457e-06        ICDHyr_E_c               \n",
      "1.0900752461e-07         1.13820953004e-07        SDPDS_E_c                \n",
      "1.73674737089e-07        2.06629091927e-07        OMCDC_E_c                \n",
      "1.70487437173e-07        1.75704937756e-07        ASPK_E_c                 \n",
      "1.73674737089e-07        2.06629091927e-07        IPPS_E_c                 \n",
      "7.7496272036e-08         7.94092172336e-08        SERAT_E_c                \n",
      "1.73674737089e-07        2.06629091927e-07        IPMD_E_c                 \n",
      "3.27184291383e-06        3.41597810976e-06        GLUDy_reverse_E_c        \n",
      "1.93127797666e-05        1.94090079495e-05        NADH6_E_c                \n",
      "2.1827530086e-08         2.17356008586e-08        TRPAS2_reverse_E_c       \n",
      "1.21925083266e-07        1.29682960718e-07        KARA2i_E_c               \n",
      "2.45636920776e-07        2.98088610533e-07        ADK1_E_c                 \n",
      "2.44874252292e-06        2.46910450914e-06        CPLX0-7760_mod_4fe4s     \n",
      "9.0175746205e-08         9.39076138569e-08        MDH_E_c                  \n",
      "9.0175746205e-08         9.39076138569e-08        ARGSS_E_c                \n",
      "3.88633046903e-08        3.86996272811e-08        HISTD_E_c                \n",
      "4.4130503656e-08         4.39446428147e-08        ASPCT_E_c                \n",
      "5.10622892437e-06        5.08472343667e-06        TKT2_E_c                 \n",
      "6.14799125635e-08        6.1883984752e-08         CYSTL_E_c                \n",
      "7.16495983425e-08        7.95066182831e-08        GLU5K_E_c                \n",
      "1.93569102703e-05        1.94328984548e-05        CYTBD_E_c                \n",
      "3.25080335801e-05        3.2485786447e-05         PFK_E_c                  \n",
      "2.31190220261e-08        2.30216535275e-08        CTPS2_E_c                \n",
      "3.81241002153e-07        4.06971048198e-07        GHMT2_E_c                \n",
      "3.88633046903e-08        3.86996272811e-08        HSTPT_E_c                \n",
      "1.13165649408e-05        1.18027542149e-05        PIt2r_E_c                \n",
      "8.44750107695e-08        3.10069839552e-07        PTAr_E_c                 \n",
      "7.7496272036e-08         7.94092172336e-08        SADT2_E_c                \n",
      "3.24651463538e-07        3.74293821092e-07        KARA1i_E_c               \n",
      "1.21925083266e-07        1.29682960718e-07        THREODEHYD-CPLX_mod_     \n",
      "4.90065021246e-08        4.88001054384e-08        NDPK2_E_c                \n",
      "1.03683915805e-07        1.03247238717e-07        ADEt2r_reverse_E_c       \n",
      "1.51792981632e-07        1.57043002402e-07        AROG-CPLX_mod_fe2        \n",
      "1.0900752461e-07         1.13820953004e-07        DHDPS_E_c                \n",
      "1.13314044282e-05        1.1304602803e-05         PYK_E_c                  \n",
      "9.0175746205e-08         9.39076138569e-08        ACGK_E_c                 \n",
      "9.0175746205e-08         9.39076138569e-08        FUMARASE-A_mod_4fe4s     \n",
      "4.32408600792e-05        4.32095374577e-05        PFL_E_c                  \n",
      "9.0175746205e-08         9.39076138569e-08        ACOTA_reverse_E_c        \n",
      "2.08858542945e-05        2.07978910462e-05        PGL_E_c                  \n",
      "1.0900752461e-07         1.13820953004e-07        DAPDC_E_c                \n",
      "7.79874861619e-06        7.765903263e-06          PPC_E_c                  \n",
      "7.16495983425e-08        7.95066182831e-08        P5CR_E_c                 \n",
      "3.24651463538e-07        3.74293821092e-07        ACLS_E_c                 \n",
      "9.0175746205e-08         9.39076138569e-08        OCBT_E_c                 \n",
      "1.22437126146e-06        1.23455225457e-06        CS_E_c                   \n",
      "5.70115299993e-05        5.67714191904e-05        ADHE-CPLX_mod_fe2        \n",
      "3.47349474177e-07        4.13258183854e-07        3-ISOPROPYLMALISOM-C     \n",
      "3.88633046903e-08        3.86996272811e-08        IGPDH_E_c                \n",
      "1.51792981632e-07        1.57043002402e-07        AROL-MONOMER_mod_fe2     \n",
      "6.14799125635e-08        6.1883984752e-08         METS_E_c                 \n",
      "1.21925083266e-07        1.29682960718e-07        ACHBS_E_c                \n",
      "1.50976726449e-07        1.67664729165e-07        VALTA_reverse_E_c        \n",
      "3.88633046903e-08        3.86996272811e-08        PUNP5_E_c                \n",
      "3.88633046903e-08        3.86996272811e-08        ATPPRT_E_c               \n",
      "7.18722520682e-08        7.394022006e-08          ASNS2_E_c                \n",
      "2.1827530086e-08         2.17356008586e-08        ANTHRANSYN-CPLX_mod_     \n",
      "7.7087501137e-08         8.54854934956e-08        PHETA1_reverse_E_c       \n",
      "2.1827530086e-08         2.17356008586e-08        ANPRT_E_c                \n",
      "5.45428048387e-09        6.32914894682e-09        CYTK1_E_c                \n",
      "3.88633046903e-08        3.86996272811e-08        NTD11_E_c                \n",
      "4.4130503656e-08         4.39446428147e-08        OMPDC_E_c                \n",
      "6.39657724113e-05        6.38509672556e-05        ENO_E_c                  \n",
      "5.06887460675e-07        5.04752644118e-07        PPA_E_c                  \n",
      "6.50771104367e-06        6.48030304808e-06        TALA_E_c                 \n",
      "1.21925083266e-07        1.29682960718e-07        ILETA_reverse_E_c        \n",
      "4.35217578641e-05        4.35159248939e-05        FORti_E_c                \n",
      "3.88633046903e-08        3.86996272811e-08        HISTP_E_c                \n",
      "5.53019212386e-07        5.96607060455e-07        PSERT_E_c                \n",
      "3.19761089589e-07        3.45087063446e-07        MTHFC_E_c                \n",
      "5.28779504089e-08        5.26552486599e-08        TYRTA_reverse_E_c        \n",
      "7.7087501137e-08         8.54854934956e-08        PPNDH_E_c                \n",
      "5.45428048387e-09        6.32914894682e-09        NDPK3_E_c                \n",
      "2.08858542945e-05        2.07978910462e-05        G6PDH2r_E_c              \n",
      "2.1827530086e-08         2.17356008586e-08        IGPS_E_c                 \n",
      "5.53019212386e-07        5.96607060455e-07        PGCD_E_c                 \n",
      "2.80897784899e-07        3.06387436164e-07        FTHFD_E_c                \n",
      "4.90065021246e-08        4.88001054384e-08        UMPK_E_c                 \n",
      "6.96975587981e-05        6.95592558228e-05        PGK_reverse_E_c          \n",
      "1.1613939968e-05         1.15650264847e-05        RIBULP3EPIM-MONOMER_     \n",
      "6.39657724113e-05        6.38509672556e-05        PGM_reverse_E_c          \n",
      "3.0023730914e-07         2.98972824164e-07        GK1_reverse_E_c          \n",
      "1.29965451546e-07        1.36001509553e-07        CHORM_E_c                \n",
      "9.0175746205e-08         9.39076138569e-08        ACODA_E_c                \n",
      "7.7496272036e-08         7.94092172336e-08        SULabc_E_c               \n",
      "7.7496272036e-08         7.94092172336e-08        SULR_reverse_E_c         \n",
      "3.88633046903e-08        3.86996272811e-08        PRATPP_E_c               \n",
      "6.14799125635e-08        6.1883984752e-08         MTHFR2_E_c               \n",
      "6.14799125635e-08        6.1883984752e-08         SHSL1_E_c                \n",
      "1.70487437173e-07        1.75704937756e-07        SUCOAS_E_c               \n",
      "3.88633046903e-08        3.86996272811e-08        PRMICIi_E_c              \n",
      "1.0900752461e-07         1.13820953004e-07        DAPE_E_c                 \n"
     ]
    }
   ],
   "source": [
    "for k in cplx_concs_max.keys():\n",
    "    c1 = cplx_concs_max[k]\n",
    "    c2 = cplx_concs_opt2[k]\n",
    "    if abs(c1-c2)>1e-15:\n",
    "        print '%-25.20s%-25.20s%-25.20s' % (c1,c2, k)"
   ]
  },
  {
   "cell_type": "code",
   "execution_count": 9,
   "metadata": {
    "collapsed": false
   },
   "outputs": [
    {
     "data": {
      "text/plain": [
       "False"
      ]
     },
     "execution_count": 9,
     "metadata": {},
     "output_type": "execute_result"
    }
   ],
   "source": [
    "cplx_concs_max.values()==cplx_concs_opt2.values()"
   ]
  },
  {
   "cell_type": "markdown",
   "metadata": {},
   "source": [
    "# Test 3: should be able to catalyze faster rates at slower growth starting from fast growth proteome for some rxns but not others"
   ]
  },
  {
   "cell_type": "code",
   "execution_count": 10,
   "metadata": {
    "collapsed": false
   },
   "outputs": [
    {
     "name": "stdout",
     "output_type": "stream",
     "text": [
      "Flux (opt)               Flux (low mu)            rxn                      reaction                 \n",
      "1.21912604975e-07        1.29682960718e-07        abundance_ACHBS_E_c      mu ACHBS_E_c + enzyme_capacity_ACHBS_E_c --> delayed_abundance_ACHBS_E_c\n",
      "0.0167657446103          0.0186045486783          P5CR                     1pyr5c_c + 2.0 h_c + nadph_c --> 4.2735042735e-06 enzyme_capacity_P5CR_E_c + nadp_c + pro__L_c\n",
      "6.20488388496e-10        1.40082259237e-08        mRNAS_LEUTAi             275.0 atp_c + 295.0 ctp_c + 335.0 gtp_c + 1194.0 h2o_c + 289.0 utp_c --> LEUTAi_mRNA_c + 1194.0 h_c + 597.2298 macro_mass_constraint_c + 1194.0 ppi_c\n",
      "1.18731113605e-08        6.56688534121e-08        mRNAS_GLUDy_reverse      318.0 atp_c + 337.0 ctp_c + 379.0 gtp_c + 1344.0 h2o_c + 310.0 utp_c --> GLUDy_reverse_mRNA_c + 1344.0 h_c + 672.5228 macro_mass_constraint_c + 1344.0 ppi_c\n",
      "0.0285275495642          0.030345812808           THRD_L_THREODEHYD-CP     thr__L_c --> 2obut_c + 4.2735042735e-06 enzyme_capacity_THREODEHYD-CPLX_mod_fe2 + nh4_c\n",
      "0.0167657446103          0.0186045486783          G5SADs                   glu5sa_c --> 1pyr5c_c + h2o_c + h_c\n",
      "0.0759782838921          0.0875847541356          ACLS                     h_c + 2.0 pyr_c --> alac__S_c + co2_c + 4.2735042735e-06 enzyme_capacity_ACLS_E_c\n",
      "4.81910995225e-08        6.65806241394e-08        ES_CYSTL                 0.000333333333333333*mu + 0.004 CYSTL_mRNA_c + 43.0 ala__L_c + 18.0 arg__L_c + 16.0 asn__L_c + 23.0 asp__L_c + 395.0 atp_c + 6.0 cys__L_c + 14.0 gln__L_c + 20.0 glu__L_c + 30.0 gly_c + 790.0 gtp_c + 1189.752 h2o_c + 13.0 his__L_c + 24.0 ile__L_c + 40.0 leu__L_c + 18.0 lys__L_c + 9.0 met__L_c + 18.0 phe__L_c + 12.0 pro__L_c + 0.00548611111111111*mu ribo_c + 28.0 ser__L_c + 19.0 thr__L_c + 6.0 trp__L_c + 9.0 tyr__L_c + 29.0 val__L_c --> CYSTL_E_c + 395.0 adp_c + 1.164 amp_c + 1.148 cmp_c + 790.0 gdp_c + 1.276 gmp_c + 1185.0 h_c + 50.255 macro_mass_constraint_c + 1185.0 pi_c + 1.164 ump_c\n",
      "0.0406352440773          0.0483512075109          IPPMIa_reverse_3-ISO     2ippm_c + h2o_c --> 3c2hmp_c + 4.2735042735e-06 enzyme_capacity_3-ISOPROPYLMALISOM-CPLX_mod_4fe4s\n",
      "2.04983605563e-09        4.35878480681e-06        dedt_PGCD_E_c            PGCD_E_c + 0.01 delayed_abundance_PGCD_E_c <=> \n",
      "1.19161728663e-07        5.91422333657e-07        ES_PSCVT                 0.000333333333333333*mu + 0.004 PSCVT_mRNA_c + 46.0 ala__L_c + 21.0 arg__L_c + 18.0 asn__L_c + 26.0 asp__L_c + 427.0 atp_c + 6.0 cys__L_c + 12.0 gln__L_c + 22.0 glu__L_c + 37.0 gly_c + 854.0 gtp_c + 1286.136 h2o_c + 8.0 his__L_c + 26.0 ile__L_c + 48.0 leu__L_c + 17.0 lys__L_c + 14.0 met__L_c + 13.0 phe__L_c + 18.0 pro__L_c + 0.00593055555555556*mu ribo_c + 22.0 ser__L_c + 34.0 thr__L_c + 2.0 trp__L_c + 13.0 tyr__L_c + 24.0 val__L_c --> PSCVT_E_c + 427.0 adp_c + 1.24 amp_c + 1.22 cmp_c + 854.0 gdp_c + 1.388 gmp_c + 1281.0 h_c + 53.711 macro_mass_constraint_c + 1281.0 pi_c + 1.288 ump_c\n",
      "1.73654889219e-07        2.06629091927e-07        abundance_LEUTAi_E_c     mu LEUTAi_E_c + enzyme_capacity_LEUTAi_E_c --> delayed_abundance_LEUTAi_E_c\n",
      "7.7051185311e-08         8.54854934956e-08        abundance_PPNDH_E_c      mu PPNDH_E_c + enzyme_capacity_PPNDH_E_c --> delayed_abundance_PPNDH_E_c\n",
      "0.0406352440773          0.0483512075109          LEUTAi                   4mop_c + glu__L_c --> akg_c + 4.2735042735e-06 enzyme_capacity_LEUTAi_E_c + leu__L_c\n",
      "1.19161728663e-07        5.91422333657e-07        formation_AROG-CPLX_     DDPA_E_c + fe2_c --> AROG-CPLX_mod_fe2\n",
      "-1.24782901252e-09       7.75787745249e-07        dedt_ACHBS_E_c           ACHBS_E_c + 0.01 delayed_abundance_ACHBS_E_c <=> \n",
      "8.87956559285e-09        1.27562480887e-08        mRNAS_ACONTa             579.0 atp_c + 703.0 ctp_c + 749.0 gtp_c + 2598.0 h2o_c + 567.0 utp_c --> ACONTa_mRNA_c + 2598.0 h_c + 1299.7766 macro_mass_constraint_c + 2598.0 ppi_c\n",
      "-1.24782901252e-09       7.75787745249e-07        dedt_ILETA_reverse_E     ILETA_reverse_E_c + 0.01 delayed_abundance_ILETA_reverse_E_c <=> \n",
      "0.025523159436           0.0266341030029          DHDPS                    aspsa_c + pyr_c --> 23dhdp_c + 4.2735042735e-06 enzyme_capacity_DHDPS_E_c + 2.0 h2o_c + h_c\n",
      "-4.97148124941e-09       -2.2247133079e-06        dedt_TPI_E_c             TPI_E_c + 0.01 delayed_abundance_TPI_E_c <=> \n",
      "2.95790788032e-09        5.74002350071e-06        dedt_DIHYDROXYACIDDE     DIHYDROXYACIDDEHYDRAT-CPLX_mod_4fe4s + 0.01 delayed_abundance_DIHYDROXYACIDDEHYDRAT-CPLX_mod_4fe4s <=> \n",
      "8.0863427341e-09         -1.38302975261e-05       dedt_GAPD_E_c            GAPD_E_c + 0.01 delayed_abundance_GAPD_E_c <=> \n",
      "0.025523159436           0.0266341030029          SDPDS                    h2o_c + sl26da_c --> 26dap__LL_c + 4.2735042735e-06 enzyme_capacity_SDPDS_E_c + succ_c\n",
      "0.0657597845411          0.0716946600625          FTHFD                    10fthf_c + h2o_c --> 4.2735042735e-06 enzyme_capacity_FTHFD_E_c + for_c + h_c + thf_c\n",
      "0.058819210951           0.11311248093            ACt2r_reverse            ac_c + h_c --> ac_e + h_e\n",
      "1.09073330923e-07        1.13820953004e-07        abundance_DAPDC_E_c      mu DAPDC_E_c + enzyme_capacity_DAPDC_E_c --> delayed_abundance_DAPDC_E_c\n",
      "0.0210929215854          0.0219743816425          OCBT                     cbp_c + orn_c --> citr__L_c + 4.2735042735e-06 enzyme_capacity_OCBT_E_c + h_c + pi_c\n",
      "-3.78192121462e-09       4.04072188453e-08        dedt_HSST_E_c            HSST_E_c + 0.01 delayed_abundance_HSST_E_c <=> \n",
      "-9.16037800463e-09       5.25002076995e-07        dedt_DHQS_E_c            DHQS_E_c + 0.01 delayed_abundance_DHQS_E_c <=> \n",
      "2.64806378186            2.76184448629            PIt2r                    h_e + pi_e --> 4.2735042735e-06 enzyme_capacity_PIt2r_E_c + h_c + pi_c\n",
      "4.69858512279e-07        4.61111565553e-06        ES_PGCD                  0.000333333333333333*mu + 0.004 PGCD_mRNA_c + 45.0 ala__L_c + 15.0 arg__L_c + 21.0 asn__L_c + 19.0 asp__L_c + 410.0 atp_c + 4.0 cys__L_c + 13.0 gln__L_c + 27.0 glu__L_c + 34.0 gly_c + 820.0 gtp_c + 1234.932 h2o_c + 13.0 his__L_c + 28.0 ile__L_c + 49.0 leu__L_c + 23.0 lys__L_c + 9.0 met__L_c + 13.0 phe__L_c + 17.0 pro__L_c + 0.00569444444444444*mu ribo_c + 24.0 ser__L_c + 18.0 thr__L_c + trp__L_c + 9.0 tyr__L_c + 28.0 val__L_c --> PGCD_E_c + 410.0 adp_c + 1.116 amp_c + 1.376 cmp_c + 820.0 gdp_c + 1.236 gmp_c + 1230.0 h_c + 51.487 macro_mass_constraint_c + 1230.0 pi_c + 1.204 ump_c\n",
      "2.7885951535e-07         5.12254075017e-06        ES_KARA1i                0.000333333333333333*mu + 0.004 KARA1i_mRNA_c + 50.0 ala__L_c + 21.0 arg__L_c + 16.0 asn__L_c + 26.0 asp__L_c + 491.0 atp_c + 6.0 cys__L_c + 21.0 gln__L_c + 42.0 glu__L_c + 46.0 gly_c + 982.0 gtp_c + 1478.904 h2o_c + 7.0 his__L_c + 28.0 ile__L_c + 45.0 leu__L_c + 33.0 lys__L_c + 21.0 met__L_c + 16.0 phe__L_c + 17.0 pro__L_c + 0.00681944444444444*mu ribo_c + 21.0 ser__L_c + 22.0 thr__L_c + 5.0 trp__L_c + 17.0 tyr__L_c + 31.0 val__L_c --> KARA1i_E_c + 491.0 adp_c + 1.476 amp_c + 1.44 cmp_c + 982.0 gdp_c + 1.736 gmp_c + 1473.0 h_c + 62.827 macro_mass_constraint_c + 1473.0 pi_c + 1.252 ump_c\n",
      "-2.39568068855e-09       -1.63677409207e-08       dedt_ATPPRT_E_c          ATPPRT_E_c + 0.01 delayed_abundance_ATPPRT_E_c <=> \n",
      "0.0354981224173          0.036748062562           PSCVT                    pep_c + skm5p_c --> 3psme_c + 4.2735042735e-06 enzyme_capacity_PSCVT_E_c + pi_c\n",
      "1.88080151384e-07        1.46031058176e-06        ES_THRAr_reverse         0.000333333333333333*mu + 0.004 THRAr_reverse_mRNA_c + 47.0 ala__L_c + 23.0 arg__L_c + 15.0 asn__L_c + 20.0 asp__L_c + 333.0 atp_c + 4.0 cys__L_c + 11.0 gln__L_c + 22.0 glu__L_c + 25.0 gly_c + 666.0 gtp_c + 1003.008 h2o_c + 8.0 his__L_c + 16.0 ile__L_c + 35.0 leu__L_c + 13.0 lys__L_c + 11.0 met__L_c + 8.0 phe__L_c + 11.0 pro__L_c + 0.004625*mu ribo_c + 12.0 ser__L_c + 15.0 thr__L_c + 4.0 trp__L_c + 10.0 tyr__L_c + 23.0 val__L_c --> THRAr_reverse_E_c + 333.0 adp_c + 0.836 amp_c + 1.164 cmp_c + 666.0 gdp_c + 1.088 gmp_c + 999.0 h_c + 42.429 macro_mass_constraint_c + 999.0 pi_c + 0.92 ump_c\n",
      "6.29599833824e-10        2.46828662418e-09        mRNAS_ASAD_reverse       267.0 atp_c + 313.0 ctp_c + 285.0 gtp_c + 1104.0 h2o_c + 239.0 utp_c --> ASAD_reverse_mRNA_c + 1104.0 h_c + 551.4998 macro_mass_constraint_c + 1104.0 ppi_c\n",
      "0.0167657446103          0.0186045486783          G5SD                     glu5p_c + h_c + nadph_c --> 4.2735042735e-06 enzyme_capacity_G5SD_E_c + glu5sa_c + nadp_c + pi_c\n",
      "0.0406352440773          0.0483512075109          IPPS                     3mob_c + accoa_c + h2o_c --> 3c3hmp_c + coa_c + 4.2735042735e-06 enzyme_capacity_IPPS_E_c + h_c\n",
      "5.1062377563e-09         -3.28453531866e-06       dedt_PPC_E_c             PPC_E_c + 0.01 delayed_abundance_PPC_E_c <=> \n",
      "1.68213772522e-10        -1.85860841299e-08       dedt_DHORD2_E_c          DHORD2_E_c + 0.01 delayed_abundance_DHORD2_E_c <=> \n",
      "1.19161728663e-07        5.91422333657e-07        ES_CHORS                 0.000333333333333333*mu + 0.004 CHORS_mRNA_c + 31.0 ala__L_c + 26.0 arg__L_c + 8.0 asn__L_c + 29.0 asp__L_c + 361.0 atp_c + 4.0 cys__L_c + 16.0 gln__L_c + 19.0 glu__L_c + 40.0 gly_c + 722.0 gtp_c + 1087.344 h2o_c + 8.0 his__L_c + 29.0 ile__L_c + 26.0 leu__L_c + 16.0 lys__L_c + 9.0 met__L_c + 11.0 phe__L_c + 17.0 pro__L_c + 0.00501388888888889*mu ribo_c + 18.0 ser__L_c + 21.0 thr__L_c + 2.0 trp__L_c + 7.0 tyr__L_c + 24.0 val__L_c --> CHORS_E_c + 361.0 adp_c + 0.892 amp_c + 1.244 cmp_c + 722.0 gdp_c + 1.22 gmp_c + 1083.0 h_c + 45.573 macro_mass_constraint_c + 1083.0 pi_c + 0.988 ump_c\n",
      "5.71848748558e-53        9.06440136584e-08        mRNAS_ATPS4r             1456.0 atp_c + 1720.0 ctp_c + 1620.0 gtp_c + 6270.0 h2o_c + 1474.0 utp_c --> ATPS4r_mRNA_c + 6270.0 h_c + 3130.882 macro_mass_constraint_c + 6270.0 ppi_c\n",
      "1.09073330923e-07        1.13820953004e-07        abundance_DAPE_E_c       mu DAPE_E_c + enzyme_capacity_DAPE_E_c --> delayed_abundance_DAPE_E_c\n",
      "-3.30253908321e-09       -9.19292273864e-09       dedt_ANPRT_E_c           ANPRT_E_c + 0.01 delayed_abundance_ANPRT_E_c <=> \n",
      "0.129411292315           0.139606052146           PSP_L                    h2o_c + pser__L_c --> 4.2735042735e-06 enzyme_capacity_PSP_L_E_c + pi_c + ser__L_c\n",
      "6.01258047362e-09        -1.14805155758e-05       dedt_ENO_E_c             ENO_E_c + 0.01 delayed_abundance_ENO_E_c <=> \n",
      "1.51038631687e-07        1.67664729165e-07        abundance_VALTA_reve     mu VALTA_reverse_E_c + enzyme_capacity_VALTA_reverse_E_c --> delayed_abundance_VALTA_reverse_E_c\n",
      "-3.30253908321e-09       -9.19292273864e-09       dedt_IGPS_E_c            IGPS_E_c + 0.01 delayed_abundance_IGPS_E_c <=> \n",
      "1.44907492725e-07        3.38282783567e-06        ES_OMCDC                 0.000333333333333333*mu + 0.004 OMCDC_mRNA_c + 43.0 ala__L_c + 22.0 arg__L_c + 13.0 asn__L_c + 23.0 asp__L_c + 363.0 atp_c + 6.0 cys__L_c + 13.0 gln__L_c + 25.0 glu__L_c + 32.0 gly_c + 726.0 gtp_c + 1093.368 h2o_c + 8.0 his__L_c + 27.0 ile__L_c + 35.0 leu__L_c + 13.0 lys__L_c + 9.0 met__L_c + 13.0 phe__L_c + 19.0 pro__L_c + 0.00504166666666667*mu ribo_c + 19.0 ser__L_c + 12.0 thr__L_c + 2.0 trp__L_c + 11.0 tyr__L_c + 18.0 val__L_c --> OMCDC_E_c + 363.0 adp_c + 0.932 amp_c + 1.232 cmp_c + 726.0 gdp_c + 1.192 gmp_c + 1089.0 h_c + 45.988 macro_mass_constraint_c + 1089.0 pi_c + 1.012 ump_c\n",
      "6.14420933514e-08        6.1883984752e-08         abundance_CYSTL_E_c      mu CYSTL_E_c + enzyme_capacity_CYSTL_E_c --> delayed_abundance_CYSTL_E_c\n",
      "2.8981498545e-07         6.76565567134e-06        ES_IPPMIb                0.000333333333333333*mu + 0.004 IPPMIb_mRNA_c + 77.0 ala__L_c + 28.0 arg__L_c + 28.0 asn__L_c + 39.0 asp__L_c + 667.0 atp_c + 11.0 cys__L_c + 27.0 gln__L_c + 42.0 glu__L_c + 60.0 gly_c + 1334.0 gtp_c + 2009.028 h2o_c + 20.0 his__L_c + 36.0 ile__L_c + 48.0 leu__L_c + 36.0 lys__L_c + 19.0 met__L_c + 33.0 phe__L_c + 33.0 pro__L_c + 0.00926388888888889*mu ribo_c + 24.0 ser__L_c + 41.0 thr__L_c + 5.0 trp__L_c + 13.0 tyr__L_c + 47.0 val__L_c --> IPPMIb_E_c + 667.0 adp_c + 1.672 amp_c + 2.228 cmp_c + 1334.0 gdp_c + 2.144 gmp_c + 2001.0 h_c + 84.257 macro_mass_constraint_c + 2001.0 pi_c + 1.984 ump_c\n",
      "-1.11710194348e-10       7.8570199406e-07         dedt_GLU5K_E_c           GLU5K_E_c + 0.01 delayed_abundance_GLU5K_E_c <=> \n",
      "1.16133893516e-09        -1.26448497622e-07       dedt_GK1_reverse_E_c     GK1_reverse_E_c + 0.01 delayed_abundance_GK1_reverse_E_c <=> \n",
      "7.74570168565e-08        7.94092172336e-08        abundance_CYSS_E_c       mu CYSS_E_c + enzyme_capacity_CYSS_E_c --> delayed_abundance_CYSS_E_c\n",
      "2.06352460596e-10        2.75709102087e-10        mRNAS_SHSL1              264.0 atp_c + 287.0 ctp_c + 351.0 gtp_c + 1161.0 h2o_c + 259.0 utp_c --> SHSL1_mRNA_c + 1161.0 h_c + 581.6302 macro_mass_constraint_c + 1161.0 ppi_c\n",
      "3.11483632297e-10        1.7098290589e-09         mRNAS_ARGSS              334.0 atp_c + 337.0 ctp_c + 370.0 gtp_c + 1344.0 h2o_c + 303.0 utp_c --> ARGSS_mRNA_c + 1344.0 h_c + 672.5398 macro_mass_constraint_c + 1344.0 ppi_c\n",
      "3.11483632297e-10        1.7098290589e-09         mRNAS_ARGSL              306.0 atp_c + 340.0 ctp_c + 436.0 gtp_c + 1374.0 h2o_c + 292.0 utp_c --> ARGSL_mRNA_c + 1374.0 h_c + 688.9928 macro_mass_constraint_c + 1374.0 ppi_c\n",
      "4.81910995225e-08        6.65806241394e-08        ES_HSST                  0.000333333333333333*mu + 0.004 HSST_mRNA_c + 21.0 ala__L_c + 17.0 arg__L_c + 19.0 asn__L_c + 22.0 asp__L_c + 309.0 atp_c + 2.0 cys__L_c + 14.0 gln__L_c + 20.0 glu__L_c + 11.0 gly_c + 618.0 gtp_c + 930.72 h2o_c + 11.0 his__L_c + 16.0 ile__L_c + 36.0 leu__L_c + 9.0 lys__L_c + 4.0 met__L_c + 17.0 phe__L_c + 21.0 pro__L_c + 0.00429166666666667*mu ribo_c + 14.0 ser__L_c + 18.0 thr__L_c + 5.0 trp__L_c + 14.0 tyr__L_c + 18.0 val__L_c --> HSST_E_c + 309.0 adp_c + 0.892 amp_c + 0.96 cmp_c + 618.0 gdp_c + 0.9 gmp_c + 927.0 h_c + 41.231 macro_mass_constraint_c + 927.0 pi_c + 0.968 ump_c\n",
      "1.53526454168e-07        -2.40110808887e-05       dedt_ADHE-CPLX_mod_f     ADHE-CPLX_mod_fe2 + 0.01 delayed_abundance_ADHE-CPLX_mod_fe2 <=> \n",
      "7.27432019969e-08        4.12904343933e-07        formation_FUMARASE-A     4fe4s_c + FUM_reverse_E_c --> FUMARASE-A_mod_4fe4s\n",
      "1.21912604975e-07        1.29682960718e-07        abundance_THREODEHYD     mu THREODEHYD-CPLX_mod_fe2 + enzyme_capacity_THREODEHYD-CPLX_mod_fe2 --> delayed_abundance_THREODEHYD-CPLX_mod_fe2\n",
      "0.0168185813192          0.017302011494           ASNS2                    asp__L_c + atp_c + nh4_c --> amp_c + asn__L_c + 4.2735042735e-06 enzyme_capacity_ASNS2_E_c + h_c + ppi_c\n",
      "-3.5055669322e-09        3.73186765184e-07        dedt_ARGSL_E_c           ARGSL_E_c + 0.01 delayed_abundance_ARGSL_E_c <=> \n",
      "-5.53000599923e-09       -4.41467477892e-08       dedt_PRPPS_E_c           PRPPS_E_c + 0.01 delayed_abundance_PRPPS_E_c <=> \n",
      "4.43978279642e-09        6.37812404436e-09        mRNAS_CS                 320.0 atp_c + 316.0 ctp_c + 335.0 gtp_c + 1284.0 h2o_c + 313.0 utp_c --> CS_mRNA_c + 1284.0 h_c + 641.8218 macro_mass_constraint_c + 1284.0 ppi_c\n",
      "1.15793141645e-09        -1.28739620081e-07       dedt_NTD9_E_c            NTD9_E_c + 0.01 delayed_abundance_NTD9_E_c <=> \n",
      "6.29599833824e-10        2.46828662418e-09        mRNAS_ASPK               553.0 atp_c + 615.0 ctp_c + 692.0 gtp_c + 2463.0 h2o_c + 603.0 utp_c --> ASPK_mRNA_c + 2463.0 h_c + 1231.6766 macro_mass_constraint_c + 2463.0 ppi_c\n",
      "7.74570168565e-08        7.94092172336e-08        abundance_SADT2_E_c      mu SADT2_E_c + enzyme_capacity_SADT2_E_c --> delayed_abundance_SADT2_E_c\n",
      "3.11483632297e-10        1.7098290589e-09         mRNAS_OCBT               223.0 atp_c + 285.0 ctp_c + 239.0 gtp_c + 1005.0 h2o_c + 258.0 utp_c --> OCBT_mRNA_c + 1005.0 h_c + 500.786 macro_mass_constraint_c + 1005.0 ppi_c\n",
      "1.01876364857e-07        8.30636260648e-07        ES_KARA2i                0.000333333333333333*mu + 0.004 KARA2i_mRNA_c + 50.0 ala__L_c + 21.0 arg__L_c + 16.0 asn__L_c + 26.0 asp__L_c + 491.0 atp_c + 6.0 cys__L_c + 21.0 gln__L_c + 42.0 glu__L_c + 46.0 gly_c + 982.0 gtp_c + 1478.904 h2o_c + 7.0 his__L_c + 28.0 ile__L_c + 45.0 leu__L_c + 33.0 lys__L_c + 21.0 met__L_c + 16.0 phe__L_c + 17.0 pro__L_c + 0.00681944444444444*mu ribo_c + 21.0 ser__L_c + 22.0 thr__L_c + 5.0 trp__L_c + 17.0 tyr__L_c + 31.0 val__L_c --> KARA2i_E_c + 491.0 adp_c + 1.476 amp_c + 1.44 cmp_c + 982.0 gdp_c + 1.736 gmp_c + 1473.0 h_c + 62.827 macro_mass_constraint_c + 1473.0 pi_c + 1.252 ump_c\n",
      "9.56717633258e-06        5.36108210449e-05        ES_PIt2r                 0.000333333333333333*mu + 0.004 PIt2r_mRNA_c + 55.0 ala__L_c + 21.0 arg__L_c + 15.0 asn__L_c + 14.0 asp__L_c + 499.0 atp_c + 2.0 cys__L_c + 14.0 gln__L_c + 13.0 glu__L_c + 45.0 gly_c + 998.0 gtp_c + 1503.0 h2o_c + 11.0 his__L_c + 39.0 ile__L_c + 63.0 leu__L_c + 20.0 lys__L_c + 24.0 met__L_c + 21.0 phe__L_c + 20.0 pro__L_c + 0.00693055555555556*mu ribo_c + 32.0 ser__L_c + 32.0 thr__L_c + 8.0 trp__L_c + 12.0 tyr__L_c + 38.0 val__L_c --> PIt2r_E_c + 499.0 adp_c + 1.576 amp_c + 1.664 cmp_c + 998.0 gdp_c + 1.452 gmp_c + 1497.0 h_c + 62.709 macro_mass_constraint_c + 1497.0 pi_c + 1.308 ump_c\n",
      "-3.30253908321e-09       -9.19292273864e-09       dedt_TRPAS2_reverse_     TRPAS2_reverse_E_c + 0.01 delayed_abundance_TRPAS2_reverse_E_c <=> \n",
      "9.22336150598e-09        4.52201052351e-05        dedt_NDPK1_E_c           NDPK1_E_c + 0.01 delayed_abundance_NDPK1_E_c <=> \n",
      "3.19864068144e-07        3.45087063446e-07        abundance_MTHFC_E_c      mu MTHFC_E_c + enzyme_capacity_MTHFC_E_c --> delayed_abundance_MTHFC_E_c\n",
      "6.5806313535e-09         4.81342839408e-07        dedt_THDPS_E_c           THDPS_E_c + 0.01 delayed_abundance_THDPS_E_c <=> \n",
      "0.286505609305           0.288885227569           CS                       accoa_c + h2o_c + oaa_c --> cit_c + coa_c + 4.2735042735e-06 enzyme_capacity_CS_E_c + h_c\n",
      "0.944918574963           1.00151846331            NH4t                     nh4_e --> nh4_c          \n",
      "-1.03084891913e-07       -2.75357504584e-06       dedt_THD2_E_c            THD2_E_c + 0.01 delayed_abundance_THD2_E_c <=> \n",
      "7.27432019969e-08        4.12904343933e-07        ES_FUM_reverse           0.000333333333333333*mu + 0.004 FUM_reverse_mRNA_c + 52.0 ala__L_c + 23.0 arg__L_c + 21.0 asn__L_c + 29.0 asp__L_c + 548.0 atp_c + 9.0 cys__L_c + 29.0 gln__L_c + 38.0 glu__L_c + 51.0 gly_c + 1096.0 gtp_c + 1650.588 h2o_c + 12.0 his__L_c + 31.0 ile__L_c + 51.0 leu__L_c + 38.0 lys__L_c + 11.0 met__L_c + 16.0 phe__L_c + 27.0 pro__L_c + 0.00761111111111111*mu ribo_c + 25.0 ser__L_c + 27.0 thr__L_c + 3.0 trp__L_c + 26.0 tyr__L_c + 29.0 val__L_c --> FUM_reverse_E_c + 548.0 adp_c + 1.456 amp_c + 1.808 cmp_c + 1096.0 gdp_c + 1.588 gmp_c + 1644.0 h_c + 70.076 macro_mass_constraint_c + 1644.0 pi_c + 1.736 ump_c\n",
      "3.80735880207e-07        5.95317701081e-06        formation_DIHYDROXYA     4fe4s_c + DHAD1_E_c --> DIHYDROXYACIDDEHYDRAT-CPLX_mod_4fe4s\n",
      "-3.92551795072e-09       1.91294519754e-07        dedt_SERAT_E_c           SERAT_E_c + 0.01 delayed_abundance_SERAT_E_c <=> \n",
      "4.96706865592e-09        3.46194162895e-06        dedt_RPI_reverse_E_c     RPI_reverse_E_c + 0.01 delayed_abundance_RPI_reverse_E_c <=> \n",
      "-3.5055669322e-09        3.73186765184e-07        dedt_FUMARASE-A_mod_     FUMARASE-A_mod_4fe4s + 0.01 delayed_abundance_FUMARASE-A_mod_4fe4s <=> \n",
      "2.2442739203e-10         -2.06396686179e-08       dedt_UMPK_E_c            UMPK_E_c + 0.01 delayed_abundance_UMPK_E_c <=> \n",
      "-0.0181249419444         -0.0185817568327         EX_so4_e                 so4_e <=>                \n",
      "4.81910995225e-08        6.65806241394e-08        ES_MTHFR2                0.000333333333333333*mu + 0.004 MTHFR2_mRNA_c + 29.0 ala__L_c + 20.0 arg__L_c + 12.0 asn__L_c + 23.0 asp__L_c + 296.0 atp_c + 3.0 cys__L_c + 9.0 gln__L_c + 16.0 glu__L_c + 17.0 gly_c + 592.0 gtp_c + 891.564 h2o_c + 7.0 his__L_c + 19.0 ile__L_c + 24.0 leu__L_c + 15.0 lys__L_c + 9.0 met__L_c + 16.0 phe__L_c + 14.0 pro__L_c + 0.00411111111111111*mu ribo_c + 20.0 ser__L_c + 14.0 thr__L_c + 3.0 trp__L_c + 7.0 tyr__L_c + 19.0 val__L_c --> MTHFR2_E_c + 296.0 adp_c + 0.852 amp_c + 0.848 cmp_c + 592.0 gdp_c + gmp_c + 888.0 h_c + 38.375 macro_mass_constraint_c + 888.0 pi_c + 0.864 ump_c\n",
      "-1.98478691936e-09       3.29543548383e-06        dedt_OMCDC_E_c           OMCDC_E_c + 0.01 delayed_abundance_OMCDC_E_c <=> \n",
      "2.45480257361e-07        2.98088610533e-07        abundance_ADK1_E_c       mu ADK1_E_c + enzyme_capacity_ADK1_E_c --> delayed_abundance_ADK1_E_c\n",
      "6.15943060614e-08        2.24880101469e-07        ES_ADSK                  0.000333333333333333*mu + 0.004 ADSK_mRNA_c + 15.0 ala__L_c + 16.0 arg__L_c + 8.0 asn__L_c + 11.0 asp__L_c + 201.0 atp_c + 2.0 cys__L_c + 7.0 gln__L_c + 17.0 glu__L_c + 18.0 gly_c + 402.0 gtp_c + 605.424 h2o_c + 10.0 his__L_c + 8.0 ile__L_c + 24.0 leu__L_c + 6.0 lys__L_c + 3.0 met__L_c + 6.0 phe__L_c + 5.0 pro__L_c + 0.00279166666666667*mu ribo_c + 11.0 ser__L_c + 8.0 thr__L_c + 2.0 trp__L_c + 3.0 tyr__L_c + 21.0 val__L_c --> ADSK_E_c + 201.0 adp_c + 0.564 amp_c + 0.7 cmp_c + 402.0 gdp_c + 0.572 gmp_c + 603.0 h_c + 25.896 macro_mass_constraint_c + 603.0 pi_c + 0.588 ump_c\n",
      "0.765623338932           0.799338877684           GLUDy_reverse            akg_c + h_c + nadph_c + nh4_c --> 4.2735042735e-06 enzyme_capacity_GLUDy_reverse_E_c + glu__L_c + h2o_c + nadp_c\n",
      "6.10001703963e-08        2.38069306191e-07        ES_ASNS2                 0.000333333333333333*mu + 0.004 ASNS2_mRNA_c + 27.0 ala__L_c + 19.0 arg__L_c + 3.0 asn__L_c + 24.0 asp__L_c + 330.0 atp_c + 2.0 cys__L_c + 20.0 gln__L_c + 23.0 glu__L_c + 29.0 gly_c + 660.0 gtp_c + 993.972 h2o_c + 13.0 his__L_c + 14.0 ile__L_c + 40.0 leu__L_c + 15.0 lys__L_c + 6.0 met__L_c + 10.0 phe__L_c + 14.0 pro__L_c + 0.00458333333333333*mu ribo_c + 22.0 ser__L_c + 12.0 thr__L_c + 8.0 trp__L_c + 5.0 tyr__L_c + 24.0 val__L_c --> ASNS2_E_c + 330.0 adp_c + 0.86 amp_c + cmp_c + 660.0 gdp_c + 1.244 gmp_c + 990.0 h_c + 42.531 macro_mass_constraint_c + 990.0 pi_c + 0.868 ump_c\n",
      "6.1544954088e-08         8.75954736778e-07        ES_PHETA1_reverse        0.000333333333333333*mu + 0.004 PHETA1_reverse_mRNA_c + 28.0 ala__L_c + 18.0 arg__L_c + 10.0 asn__L_c + 16.0 asp__L_c + 309.0 atp_c + 3.0 cys__L_c + 10.0 gln__L_c + 22.0 glu__L_c + 30.0 gly_c + 618.0 gtp_c + 930.72 h2o_c + 8.0 his__L_c + 20.0 ile__L_c + 21.0 leu__L_c + 12.0 lys__L_c + 8.0 met__L_c + 13.0 phe__L_c + 13.0 pro__L_c + 0.00429166666666667*mu ribo_c + 20.0 ser__L_c + 15.0 thr__L_c + 6.0 trp__L_c + 11.0 tyr__L_c + 25.0 val__L_c --> PHETA1_reverse_E_c + 309.0 adp_c + 0.84 amp_c + 0.956 cmp_c + 618.0 gdp_c + 1.088 gmp_c + 927.0 h_c + 39.599 macro_mass_constraint_c + 927.0 pi_c + 0.836 ump_c\n",
      "3.290575659e-07          2.74513020741e-06        ES_GHMT2                 0.000333333333333333*mu + 0.004 GHMT2_mRNA_c + 47.0 ala__L_c + 14.0 arg__L_c + 18.0 asn__L_c + 21.0 asp__L_c + 417.0 atp_c + 3.0 cys__L_c + 14.0 gln__L_c + 29.0 glu__L_c + 41.0 gly_c + 834.0 gtp_c + 1256.016 h2o_c + 13.0 his__L_c + 21.0 ile__L_c + 31.0 leu__L_c + 29.0 lys__L_c + 12.0 met__L_c + 11.0 phe__L_c + 19.0 pro__L_c + 0.00579166666666667*mu ribo_c + 17.0 ser__L_c + 18.0 thr__L_c + 3.0 trp__L_c + 20.0 tyr__L_c + 36.0 val__L_c --> GHMT2_E_c + 417.0 adp_c + 1.096 amp_c + 1.372 cmp_c + 834.0 gdp_c + 1.304 gmp_c + 1251.0 h_c + 52.753 macro_mass_constraint_c + 1251.0 pi_c + 1.244 ump_c\n",
      "2.06352460596e-10        2.75709102087e-10        mRNAS_HSDy_reverse       483.0 atp_c + 665.0 ctp_c + 754.0 gtp_c + 2433.0 h2o_c + 531.0 utp_c --> HSDy_reverse_mRNA_c + 2433.0 h_c + 1217.9086 macro_mass_constraint_c + 2433.0 ppi_c\n",
      "1.15793141645e-09        -1.28739620081e-07       dedt_GUAD_E_c            GUAD_E_c + 0.01 delayed_abundance_GUAD_E_c <=> \n",
      "5.10246003145e-10        2.44906866937e-09        mRNAS_CHORS              223.0 atp_c + 311.0 ctp_c + 305.0 gtp_c + 1086.0 h2o_c + 247.0 utp_c --> CHORS_mRNA_c + 1086.0 h_c + 542.5542 macro_mass_constraint_c + 1086.0 ppi_c\n",
      "4.45446504369e-10        2.73771314028e-09        mRNAS_CHORM              292.0 atp_c + 342.0 ctp_c + 245.0 gtp_c + 1122.0 h2o_c + 243.0 utp_c --> CHORM_mRNA_c + 1122.0 h_c + 559.2014 macro_mass_constraint_c + 1122.0 ppi_c\n",
      "7.74570168565e-08        7.94092172336e-08        abundance_SULR_rever     mu SULR_reverse_E_c + enzyme_capacity_SULR_reverse_E_c --> delayed_abundance_SULR_reverse_E_c\n",
      "6.5806313535e-09         4.81342839408e-07        dedt_DHDPS_E_c           DHDPS_E_c + 0.01 delayed_abundance_DHDPS_E_c <=> \n",
      "1.97605721231e-11        3.73366239418e-10        mRNAS_CYTK1              157.0 atp_c + 169.0 ctp_c + 198.0 gtp_c + 684.0 h2o_c + 160.0 utp_c --> CYTK1_mRNA_c + 684.0 h_c + 342.3568 macro_mass_constraint_c + 684.0 ppi_c\n",
      "2.13339074722e-08        -2.15054877041e-06       dedt_TKT2_E_c            TKT2_E_c + 0.01 delayed_abundance_TKT2_E_c <=> \n",
      "4.61484052603e-09        9.01637162679e-08        ES_CYTK1                 0.000333333333333333*mu + 0.004 CYTK1_mRNA_c + 34.0 ala__L_c + 19.0 arg__L_c + 5.0 asn__L_c + 15.0 asp__L_c + 227.0 atp_c + cys__L_c + 9.0 gln__L_c + 17.0 glu__L_c + 12.0 gly_c + 454.0 gtp_c + 683.736 h2o_c + 6.0 his__L_c + 11.0 ile__L_c + 28.0 leu__L_c + 7.0 lys__L_c + 4.0 met__L_c + 7.0 phe__L_c + 9.0 pro__L_c + 0.00315277777777778*mu ribo_c + 12.0 ser__L_c + 8.0 thr__L_c + trp__L_c + 2.0 tyr__L_c + 20.0 val__L_c --> CYTK1_E_c + 227.0 adp_c + 0.628 amp_c + 0.676 cmp_c + 454.0 gdp_c + 0.792 gmp_c + 681.0 h_c + 28.786 macro_mass_constraint_c + 681.0 pi_c + 0.64 ump_c\n",
      "9.01406905357e-08        9.39076138569e-08        abundance_ARGSL_E_c      mu ARGSL_E_c + enzyme_capacity_ARGSL_E_c --> delayed_abundance_ARGSL_E_c\n",
      "1.01876364857e-07        8.30636260648e-07        ES_THRD_L                0.000333333333333333*mu + 0.004 THRD_L_mRNA_c + 60.0 ala__L_c + 31.0 arg__L_c + 14.0 asn__L_c + 29.0 asp__L_c + 514.0 atp_c + 7.0 cys__L_c + 19.0 gln__L_c + 38.0 glu__L_c + 46.0 gly_c + 1028.0 gtp_c + 1548.18 h2o_c + 16.0 his__L_c + 20.0 ile__L_c + 59.0 leu__L_c + 21.0 lys__L_c + 12.0 met__L_c + 25.0 phe__L_c + 21.0 pro__L_c + 0.00713888888888889*mu ribo_c + 24.0 ser__L_c + 16.0 thr__L_c + 2.0 trp__L_c + 14.0 tyr__L_c + 40.0 val__L_c --> THRD_L_E_c + 514.0 adp_c + 1.3 amp_c + 1.744 cmp_c + 1028.0 gdp_c + 1.888 gmp_c + 1542.0 h_c + 65.365 macro_mass_constraint_c + 1542.0 pi_c + 1.248 ump_c\n",
      "0.0                      0.0510057100699          ATPS4r                   adp_c + 4.0 h_e + pi_c --> atp_c + 4.2735042735e-06 enzyme_capacity_ATPS4r_E_c + h2o_c + 3.0 h_c\n",
      "0.0143774498442          0.014480852432           CYSTL                    cyst__L_c + h2o_c --> 4.2735042735e-06 enzyme_capacity_CYSTL_E_c + hcys__L_c + nh4_c + pyr_c\n",
      "-3.84835578899e-08       1.8312683587e-05         dedt_PGI_E_c             PGI_E_c + 0.01 delayed_abundance_PGI_E_c <=> \n",
      "3.84802792321e-08        -8.79632482941e-06       dedt_GND_E_c             GND_E_c + 0.01 delayed_abundance_GND_E_c <=> \n",
      "1.02978555124e-08        2.53259738563e-06        dedt_MTHFD_E_c           MTHFD_E_c + 0.01 delayed_abundance_MTHFD_E_c <=> \n",
      "8.05352075629e-10        6.04711842925e-09        mRNAS_THRAr_reverse      209.0 atp_c + 291.0 ctp_c + 272.0 gtp_c + 1002.0 h2o_c + 230.0 utp_c --> THRAr_reverse_mRNA_c + 1002.0 h_c + 500.2924 macro_mass_constraint_c + 1002.0 ppi_c\n",
      "9.88442600927e-08        5.2948262785e-07         ES_DAPE                  0.000333333333333333*mu + 0.004 DAPE_mRNA_c + 24.0 ala__L_c + 21.0 arg__L_c + 11.0 asn__L_c + 16.0 asp__L_c + 274.0 atp_c + 6.0 cys__L_c + 10.0 gln__L_c + 18.0 glu__L_c + 26.0 gly_c + 548.0 gtp_c + 825.3 h2o_c + 9.0 his__L_c + 11.0 ile__L_c + 21.0 leu__L_c + 7.0 lys__L_c + 9.0 met__L_c + 14.0 phe__L_c + 14.0 pro__L_c + 0.00380555555555556*mu ribo_c + 8.0 ser__L_c + 11.0 thr__L_c + trp__L_c + 6.0 tyr__L_c + 31.0 val__L_c --> DAPE_E_c + 274.0 adp_c + 0.672 amp_c + 0.808 cmp_c + 548.0 gdp_c + 1.012 gmp_c + 822.0 h_c + 35.088 macro_mass_constraint_c + 822.0 pi_c + 0.808 ump_c\n",
      "7.27432019969e-08        4.12904343933e-07        ES_ACGS                  0.000333333333333333*mu + 0.004 ACGS_mRNA_c + 34.0 ala__L_c + 31.0 arg__L_c + 16.0 asn__L_c + 23.0 asp__L_c + 443.0 atp_c + 6.0 cys__L_c + 23.0 gln__L_c + 34.0 glu__L_c + 34.0 gly_c + 886.0 gtp_c + 1334.328 h2o_c + 14.0 his__L_c + 37.0 ile__L_c + 43.0 leu__L_c + 19.0 lys__L_c + 9.0 met__L_c + 14.0 phe__L_c + 13.0 pro__L_c + 0.00615277777777778*mu ribo_c + 29.0 ser__L_c + 21.0 thr__L_c + trp__L_c + 10.0 tyr__L_c + 32.0 val__L_c --> ACGS_E_c + 443.0 adp_c + 1.296 amp_c + 1.288 cmp_c + 886.0 gdp_c + 1.512 gmp_c + 1329.0 h_c + 57.095 macro_mass_constraint_c + 1329.0 pi_c + 1.232 ump_c\n",
      "6.01258047362e-09        -1.14805155758e-05       dedt_PGM_reverse_E_c     PGM_reverse_E_c + 0.01 delayed_abundance_PGM_reverse_E_c <=> \n",
      "8.6074304157e-11         -9.73684986076e-09       dedt_CTPS2_E_c           CTPS2_E_c + 0.01 delayed_abundance_CTPS2_E_c <=> \n",
      "0.0180299773628          0.020003605478           PHETA1_reverse           glu__L_c + phpyr_c --> akg_c + 4.2735042735e-06 enzyme_capacity_PHETA1_reverse_E_c + phe__L_c\n",
      "5.16969883944e-09        1.44135195927e-05        dedt_GLUDy_reverse_E     GLUDy_reverse_E_c + 0.01 delayed_abundance_GLUDy_reverse_E_c <=> \n",
      "7.16262719985e-39        2.59242582042e-06        abundance_PGK_E_c        mu PGK_E_c + enzyme_capacity_PGK_E_c --> delayed_abundance_PGK_E_c\n",
      "2.26470139803            2.27364911922            O2t                      o2_e --> o2_c            \n",
      "0.0210929215854          0.0219743816425          ACOTA_reverse            acg5sa_c + glu__L_c --> acorn_c + akg_c + 4.2735042735e-06 enzyme_capacity_ACOTA_reverse_E_c\n",
      "1.21793031039e-08        -2.74079955882e-06       dedt_TALA_E_c            TALA_E_c + 0.01 delayed_abundance_TALA_E_c <=> \n",
      "-0.944918574963          -1.00151846331           EX_nh4_e                 nh4_e <=>                \n",
      "3.81306161496e-07        4.06971048198e-07        abundance_GHMT2_E_c      mu GHMT2_E_c + enzyme_capacity_GHMT2_E_c --> delayed_abundance_GHMT2_E_c\n",
      "0.025523159436           0.0266341030029          THDPS                    h2o_c + succoa_c + thdp_c --> coa_c + 4.2735042735e-06 enzyme_capacity_THDPS_E_c + sl2a6o_c\n",
      "2.81024720261e-07        3.06387436164e-07        abundance_FTHFD_E_c      mu FTHFD_E_c + enzyme_capacity_FTHFD_E_c --> delayed_abundance_FTHFD_E_c\n",
      "3.5340358711             3.53585971086            EX_co2_e                 co2_e <=>                \n",
      "1.51701377852e-07        1.57043002402e-07        abundance_DHQD_E_c       mu DHQD_E_c + enzyme_capacity_DHQD_E_c --> delayed_abundance_DHQD_E_c\n",
      "3.84802792321e-08        -8.79632482941e-06       dedt_PGL_E_c             PGL_E_c + 0.01 delayed_abundance_PGL_E_c <=> \n",
      "-2.39568068855e-09       -1.63677409207e-08       dedt_AICART_E_c          AICART_E_c + 0.01 delayed_abundance_AICART_E_c <=> \n",
      "1.78428292536e-05        2.73309549908e-05        ES_PGI                   0.000333333333333333*mu + 0.004 PGI_mRNA_c + 48.0 ala__L_c + 18.0 arg__L_c + 33.0 asn__L_c + 33.0 asp__L_c + 549.0 atp_c + 2.0 cys__L_c + 20.0 gln__L_c + 33.0 glu__L_c + 39.0 gly_c + 1098.0 gtp_c + 1653.6 h2o_c + 18.0 his__L_c + 33.0 ile__L_c + 46.0 leu__L_c + 36.0 lys__L_c + 14.0 met__L_c + 33.0 phe__L_c + 19.0 pro__L_c + 0.007625*mu ribo_c + 29.0 ser__L_c + 36.0 thr__L_c + 10.0 trp__L_c + 16.0 tyr__L_c + 33.0 val__L_c --> PGI_E_c + 549.0 adp_c + 1.7 amp_c + 1.7 cmp_c + 1098.0 gdp_c + 1.688 gmp_c + 1647.0 h_c + 71.324 macro_mass_constraint_c + 1647.0 pi_c + 1.512 ump_c\n",
      "1.09073330923e-07        1.13820953004e-07        abundance_DHDPRy_E_c     mu DHDPRy_E_c + enzyme_capacity_DHDPRy_E_c --> delayed_abundance_DHDPRy_E_c\n",
      "2.61200416317e-10        9.85840482766e-10        mRNAS_ASNS2              215.0 atp_c + 250.0 ctp_c + 311.0 gtp_c + 993.0 h2o_c + 217.0 utp_c --> ASNS2_mRNA_c + 993.0 h_c + 497.6346 macro_mass_constraint_c + 993.0 ppi_c\n",
      "-1.23774927209e-09       -1.45107361001e-07       dedt_PUNP1_reverse_E     PUNP1_reverse_E_c + 0.01 delayed_abundance_PUNP1_reverse_E_c <=> \n",
      "-3.78192121462e-09       4.04072188453e-08        dedt_MTHFR2_E_c          MTHFR2_E_c + 0.01 delayed_abundance_MTHFR2_E_c <=> \n",
      "2.77282029768e-06        1.5858284016e-05         ES_GLUDy_reverse         0.000333333333333333*mu + 0.004 GLUDy_reverse_mRNA_c + 47.0 ala__L_c + 22.0 arg__L_c + 17.0 asn__L_c + 19.0 asp__L_c + 447.0 atp_c + 4.0 cys__L_c + 23.0 gln__L_c + 31.0 glu__L_c + 49.0 gly_c + 894.0 gtp_c + 1346.376 h2o_c + 10.0 his__L_c + 17.0 ile__L_c + 35.0 leu__L_c + 22.0 lys__L_c + 18.0 met__L_c + 22.0 phe__L_c + 15.0 pro__L_c + 0.00620833333333333*mu ribo_c + 22.0 ser__L_c + 22.0 thr__L_c + 5.0 trp__L_c + 10.0 tyr__L_c + 37.0 val__L_c --> GLUDy_reverse_E_c + 447.0 adp_c + 1.272 amp_c + 1.348 cmp_c + 894.0 gdp_c + 1.516 gmp_c + 1341.0 h_c + 56.554 macro_mass_constraint_c + 1341.0 pi_c + 1.24 ump_c\n",
      "0.0574423802226          0.0697527348648          ADK1                     amp_c + atp_c --> 2.0 adp_c + 4.2735042735e-06 enzyme_capacity_ADK1_E_c\n",
      "4.69858512279e-07        4.61111565553e-06        ES_PSERT                 0.000333333333333333*mu + 0.004 PSERT_mRNA_c + 41.0 ala__L_c + 16.0 arg__L_c + 20.0 asn__L_c + 25.0 asp__L_c + 362.0 atp_c + 4.0 cys__L_c + 11.0 gln__L_c + 19.0 glu__L_c + 29.0 gly_c + 724.0 gtp_c + 1090.356 h2o_c + 6.0 his__L_c + 19.0 ile__L_c + 30.0 leu__L_c + 20.0 lys__L_c + 11.0 met__L_c + 18.0 phe__L_c + 15.0 pro__L_c + 0.00502777777777778*mu ribo_c + 20.0 ser__L_c + 12.0 thr__L_c + 5.0 trp__L_c + 13.0 tyr__L_c + 28.0 val__L_c --> PSERT_E_c + 362.0 adp_c + 1.044 amp_c + 1.02 cmp_c + 724.0 gdp_c + 1.164 gmp_c + 1086.0 h_c + 46.236 macro_mass_constraint_c + 1086.0 pi_c + 1.128 ump_c\n",
      "8.0863427341e-09         -1.38302975261e-05       dedt_PGK_reverse_E_c     PGK_reverse_E_c + 0.01 delayed_abundance_PGK_reverse_E_c <=> \n",
      "0.0180299773628          0.020003605478           PPNDH                    h_c + pphn_c --> co2_c + 4.2735042735e-06 enzyme_capacity_PPNDH_E_c + h2o_c + phpyr_c\n",
      "3.11483632297e-10        1.7098290589e-09         mRNAS_ACGK               181.0 atp_c + 183.0 ctp_c + 247.0 gtp_c + 774.0 h2o_c + 163.0 utp_c --> ACGK_mRNA_c + 774.0 h_c + 388.3838 macro_mass_constraint_c + 774.0 ppi_c\n",
      "0.0406352440773          0.0483512075109          IPMD                     3c2hmp_c + nad_c --> 3c4mop_c + 4.2735042735e-06 enzyme_capacity_IPMD_E_c + h_c + nadh_c\n",
      "3.11483632297e-10        1.7098290589e-09         mRNAS_ACGS               324.0 atp_c + 322.0 ctp_c + 378.0 gtp_c + 1332.0 h2o_c + 308.0 utp_c --> ACGS_mRNA_c + 1332.0 h_c + 666.8264 macro_mass_constraint_c + 1332.0 ppi_c\n",
      "0.025523159436           0.0266341030029          DHDPRy                   23dhdp_c + h_c + nadph_c --> 4.2735042735e-06 enzyme_capacity_DHDPRy_E_c + nadp_c + thdp_c\n",
      "0.0399006092802          0.0411149554348          ASAD_reverse             4pasp_c + h_c + nadph_c --> aspsa_c + 4.2735042735e-06 enzyme_capacity_ASAD_reverse_E_c + nadp_c + pi_c\n",
      "1.73654889219e-07        2.06629091927e-07        abundance_OMCDC_E_c      mu OMCDC_E_c + enzyme_capacity_OMCDC_E_c --> delayed_abundance_OMCDC_E_c\n",
      "0.129411292315           0.139606052146           PGCD                     3pg_c + nad_c --> 3php_c + 4.2735042735e-06 enzyme_capacity_PGCD_E_c + h_c + nadh_c\n",
      "-1.23774927209e-09       -1.45107361001e-07       dedt_ADNK1_E_c           ADNK1_E_c + 0.01 delayed_abundance_ADNK1_E_c <=> \n",
      "7.27432019969e-08        4.12904343933e-07        ES_AGPR_reverse          0.000333333333333333*mu + 0.004 AGPR_reverse_mRNA_c + 40.0 ala__L_c + 8.0 arg__L_c + 14.0 asn__L_c + 15.0 asp__L_c + 334.0 atp_c + 7.0 cys__L_c + 19.0 gln__L_c + 15.0 glu__L_c + 26.0 gly_c + 668.0 gtp_c + 1006.02 h2o_c + 12.0 his__L_c + 18.0 ile__L_c + 38.0 leu__L_c + 12.0 lys__L_c + 3.0 met__L_c + 14.0 phe__L_c + 18.0 pro__L_c + 0.00463888888888889*mu ribo_c + 16.0 ser__L_c + 17.0 thr__L_c + 2.0 trp__L_c + 12.0 tyr__L_c + 28.0 val__L_c --> AGPR_reverse_E_c + 334.0 adp_c + 0.904 amp_c + 1.04 cmp_c + 668.0 gdp_c + 1.112 gmp_c + 1002.0 h_c + 41.905 macro_mass_constraint_c + 1002.0 pi_c + 0.964 ump_c\n",
      "6.15943060614e-08        2.24880101469e-07        ES_SERAT                 0.000333333333333333*mu + 0.004 SERAT_mRNA_c + 32.0 ala__L_c + 12.0 arg__L_c + 10.0 asn__L_c + 14.0 asp__L_c + 273.0 atp_c + 3.0 cys__L_c + 9.0 gln__L_c + 15.0 glu__L_c + 26.0 gly_c + 546.0 gtp_c + 822.288 h2o_c + 10.0 his__L_c + 23.0 ile__L_c + 21.0 leu__L_c + 12.0 lys__L_c + 9.0 met__L_c + 6.0 phe__L_c + 14.0 pro__L_c + 0.00379166666666667*mu ribo_c + 15.0 ser__L_c + 12.0 thr__L_c + 3.0 trp__L_c + 7.0 tyr__L_c + 20.0 val__L_c --> SERAT_E_c + 273.0 adp_c + 0.756 amp_c + 0.944 cmp_c + 546.0 gdp_c + 0.816 gmp_c + 819.0 h_c + 34.179 macro_mass_constraint_c + 819.0 pi_c + 0.772 ump_c\n",
      "-1.98478691936e-09       3.29543548383e-06        dedt_IPPS_E_c            IPPS_E_c + 0.01 delayed_abundance_IPPS_E_c <=> \n",
      "6.5806313535e-09         4.81342839408e-07        dedt_DAPE_E_c            DAPE_E_c + 0.01 delayed_abundance_DAPE_E_c <=> \n",
      "0.00127630427791         0.00148102085356         CYTK1                    atp_c + cmp_c --> adp_c + cdp_c + 4.2735042735e-06 enzyme_capacity_CYTK1_E_c\n",
      "6.04947535211e-08        8.19328770878e-07        ES_P5CR                  0.000333333333333333*mu + 0.004 P5CR_mRNA_c + 38.0 ala__L_c + 7.0 arg__L_c + 7.0 asn__L_c + 10.0 asp__L_c + 269.0 atp_c + 4.0 cys__L_c + 8.0 gln__L_c + 17.0 glu__L_c + 24.0 gly_c + 538.0 gtp_c + 810.24 h2o_c + 4.0 his__L_c + 21.0 ile__L_c + 18.0 leu__L_c + 16.0 lys__L_c + 14.0 met__L_c + 9.0 phe__L_c + 14.0 pro__L_c + 0.00373611111111111*mu ribo_c + 17.0 ser__L_c + 12.0 thr__L_c + trp__L_c + 3.0 tyr__L_c + 25.0 val__L_c --> P5CR_E_c + 269.0 adp_c + 0.684 amp_c + 0.912 cmp_c + 538.0 gdp_c + 0.856 gmp_c + 807.0 h_c + 32.936 macro_mass_constraint_c + 807.0 pi_c + 0.788 ump_c\n",
      "0.286505609305           0.288885227569           ACONTa_CPLX0-7760_mo     cit_c --> acon__C_c + 4.2735042735e-06 enzyme_capacity_CPLX0-7760_mod_4fe4s + h2o_c\n",
      "7.74570168565e-08        7.94092172336e-08        abundance_PAPSR_E_c      mu PAPSR_E_c + enzyme_capacity_PAPSR_E_c --> delayed_abundance_PAPSR_E_c\n",
      "7.27432019969e-08        4.12904343933e-07        ES_ARGSL                 0.000333333333333333*mu + 0.004 ARGSL_mRNA_c + 54.0 ala__L_c + 26.0 arg__L_c + 11.0 asn__L_c + 33.0 asp__L_c + 457.0 atp_c + 7.0 cys__L_c + 33.0 gln__L_c + 30.0 glu__L_c + 32.0 gly_c + 914.0 gtp_c + 1376.496 h2o_c + 9.0 his__L_c + 14.0 ile__L_c + 59.0 leu__L_c + 21.0 lys__L_c + 10.0 met__L_c + 14.0 phe__L_c + 13.0 pro__L_c + 0.00634722222222222*mu ribo_c + 25.0 ser__L_c + 18.0 thr__L_c + 7.0 trp__L_c + 8.0 tyr__L_c + 33.0 val__L_c --> ARGSL_E_c + 457.0 adp_c + 1.224 amp_c + 1.36 cmp_c + 914.0 gdp_c + 1.744 gmp_c + 1371.0 h_c + 58.469 macro_mass_constraint_c + 1371.0 pi_c + 1.168 ump_c\n",
      "7.27432019969e-08        4.12904343933e-07        ES_ARGSS                 0.000333333333333333*mu + 0.004 ARGSS_mRNA_c + 35.0 ala__L_c + 27.0 arg__L_c + 20.0 asn__L_c + 27.0 asp__L_c + 447.0 atp_c + 3.0 cys__L_c + 17.0 gln__L_c + 34.0 glu__L_c + 43.0 gly_c + 894.0 gtp_c + 1346.376 h2o_c + 10.0 his__L_c + 27.0 ile__L_c + 43.0 leu__L_c + 19.0 lys__L_c + 17.0 met__L_c + 13.0 phe__L_c + 13.0 pro__L_c + 0.00620833333333333*mu ribo_c + 24.0 ser__L_c + 29.0 thr__L_c + 6.0 trp__L_c + 19.0 tyr__L_c + 21.0 val__L_c --> ARGSS_E_c + 447.0 adp_c + 1.336 amp_c + 1.348 cmp_c + 894.0 gdp_c + 1.48 gmp_c + 1341.0 h_c + 57.87 macro_mass_constraint_c + 1341.0 pi_c + 1.212 ump_c\n",
      "-7.08568798387e-08       2.25594828782e-05        dedt_ACKr_reverse_E_     ACKr_reverse_E_c + 0.01 delayed_abundance_ACKr_reverse_E_c <=> \n",
      "5.10246003145e-10        2.44906866937e-09        mRNAS_DDPA               249.0 atp_c + 291.0 ctp_c + 264.0 gtp_c + 1071.0 h2o_c + 267.0 utp_c --> DDPA_mRNA_c + 1071.0 h_c + 534.3102 macro_mass_constraint_c + 1071.0 ppi_c\n",
      "4.36230730841e-10        3.43964900516e-09        mRNAS_ILETA_reverse      210.0 atp_c + 239.0 ctp_c + 272.0 gtp_c + 930.0 h2o_c + 209.0 utp_c --> ILETA_reverse_mRNA_c + 930.0 h_c + 465.505 macro_mass_constraint_c + 930.0 ppi_c\n",
      "1.21912604975e-07        1.29682960718e-07        abundance_KARA2i_E_c     mu KARA2i_E_c + enzyme_capacity_KARA2i_E_c --> delayed_abundance_KARA2i_E_c\n",
      "1.82679688051e-50        2.18895022261e-05        ES_ATPS4r                0.000333333333333333*mu + 0.004 ATPS4r_mRNA_c + 224.0 ala__L_c + 100.0 arg__L_c + 64.0 asn__L_c + 106.0 asp__L_c + 2082.0 atp_c + 10.0 cys__L_c + 98.0 gln__L_c + 143.0 glu__L_c + 163.0 gly_c + 4164.0 gtp_c + 6271.08 h2o_c + 34.0 his__L_c + 147.0 ile__L_c + 218.0 leu__L_c + 109.0 lys__L_c + 73.0 met__L_c + 67.0 phe__L_c + 74.0 pro__L_c + 0.0289166666666667*mu ribo_c + 120.0 ser__L_c + 86.0 thr__L_c + 13.0 trp__L_c + 56.0 tyr__L_c + 177.0 val__L_c --> ATPS4r_E_c + 2082.0 adp_c + 5.824 amp_c + 6.88 cmp_c + 4164.0 gdp_c + 6.48 gmp_c + 6246.0 h_c + 264.418 macro_mass_constraint_c + 6246.0 pi_c + 5.896 ump_c\n",
      "4.23247373229e-10        2.1925775221e-09         mRNAS_DHDPS              212.0 atp_c + 246.0 ctp_c + 209.0 gtp_c + 879.0 h2o_c + 212.0 utp_c --> DHDPS_mRNA_c + 879.0 h_c + 438.3928 macro_mass_constraint_c + 879.0 ppi_c\n",
      "1.21793031039e-08        -2.74079955882e-06       dedt_TKT1_E_c            TKT1_E_c + 0.01 delayed_abundance_TKT1_E_c <=> \n",
      "2.63744482703e-10        9.31224236098e-10        mRNAS_PAPSR              158.0 atp_c + 198.0 ctp_c + 175.0 gtp_c + 735.0 h2o_c + 204.0 utp_c --> PAPSR_mRNA_c + 735.0 h_c + 366.148 macro_mass_constraint_c + 735.0 ppi_c\n",
      "-2.12102183762e-09       -3.13226214525e-06       dedt_PFL_E_c             PFL_E_c + 0.01 delayed_abundance_PFL_E_c <=> \n",
      "3.19864068144e-07        3.45087063446e-07        abundance_MTHFD_E_c      mu MTHFD_E_c + enzyme_capacity_MTHFD_E_c --> delayed_abundance_MTHFD_E_c\n",
      "-2.39568068855e-09       -1.63677409207e-08       dedt_NTD11_E_c           NTD11_E_c + 0.01 delayed_abundance_NTD11_E_c <=> \n",
      "-2.39568068855e-09       -1.63677409207e-08       dedt_IGPDH_E_c           IGPDH_E_c + 0.01 delayed_abundance_IGPDH_E_c <=> \n",
      "2.63533159425e-10        3.6273119555e-09         mRNAS_PHETA1_reverse     210.0 atp_c + 239.0 ctp_c + 272.0 gtp_c + 930.0 h2o_c + 209.0 utp_c --> PHETA1_reverse_mRNA_c + 930.0 h_c + 465.505 macro_mass_constraint_c + 930.0 ppi_c\n",
      "0.0                      9.39614469725e-08        mRNAS_PTAr               482.0 atp_c + 615.0 ctp_c + 576.0 gtp_c + 2145.0 h2o_c + 472.0 utp_c --> PTAr_mRNA_c + 2145.0 h_c + 1071.544 macro_mass_constraint_c + 2145.0 ppi_c\n",
      "0.0354981224173          0.036748062562           SHKK_AROL-MONOMER_mo     atp_c + skm_c --> adp_c + 4.2735042735e-06 enzyme_capacity_AROL-MONOMER_mod_fe2 + h_c + skm5p_c\n",
      "0.0406352440773          0.0483512075109          IPPMIb_reverse_3-ISO     3c3hmp_c --> 2ippm_c + 4.2735042735e-06 enzyme_capacity_3-ISOPROPYLMALISOM-CPLX_mod_4fe4s + h2o_c\n",
      "-5.3052506741e-09        4.86189274089e-05        dedt_PIt2r_E_c           PIt2r_E_c + 0.01 delayed_abundance_PIt2r_E_c <=> \n",
      "1.51701377852e-07        1.57043002402e-07        abundance_AROG-CPLX_     mu AROG-CPLX_mod_fe2 + enzyme_capacity_AROG-CPLX_mod_fe2 --> delayed_abundance_AROG-CPLX_mod_fe2\n",
      "3.24693520907e-07        3.74293821092e-07        abundance_ACLS_E_c       mu ACLS_E_c + enzyme_capacity_ACLS_E_c --> delayed_abundance_ACLS_E_c\n",
      "3.80735880207e-07        5.95317701081e-06        ES_DHAD1                 0.000333333333333333*mu + 0.004 DHAD1_mRNA_c + 70.0 ala__L_c + 31.0 arg__L_c + 22.0 asn__L_c + 46.0 asp__L_c + 616.0 atp_c + 12.0 cys__L_c + 23.0 gln__L_c + 28.0 glu__L_c + 63.0 gly_c + 1232.0 gtp_c + 1855.404 h2o_c + 11.0 his__L_c + 34.0 ile__L_c + 55.0 leu__L_c + 32.0 lys__L_c + 22.0 met__L_c + 16.0 phe__L_c + 22.0 pro__L_c + 0.00855555555555556*mu ribo_c + 42.0 ser__L_c + 32.0 thr__L_c + 3.0 trp__L_c + 13.0 tyr__L_c + 39.0 val__L_c --> DHAD1_E_c + 616.0 adp_c + 1.68 amp_c + 2.024 cmp_c + 1232.0 gdp_c + 2.148 gmp_c + 1848.0 h_c + 76.527 macro_mass_constraint_c + 1848.0 pi_c + 1.552 ump_c\n",
      "1.26600259526e-50        2.17973119957e-05        dedt_ATPS4r_E_c          ATPS4r_E_c + 0.01 delayed_abundance_ATPS4r_E_c <=> \n",
      "0.08922564179            0.0952312252782          GHMT2                    ser__L_c + thf_c --> 4.2735042735e-06 enzyme_capacity_GHMT2_E_c + gly_c + h2o_c + mlthf_c\n",
      "4.36230730841e-10        3.43964900516e-09        mRNAS_ACHBS              433.0 atp_c + 562.0 ctp_c + 530.0 gtp_c + 1980.0 h2o_c + 455.0 utp_c --> ACHBS_mRNA_c + 1980.0 h_c + 988.783 macro_mass_constraint_c + 1980.0 ppi_c\n",
      "3.11483632297e-10        1.7098290589e-09         mRNAS_ACODA              271.0 atp_c + 292.0 ctp_c + 304.0 gtp_c + 1152.0 h2o_c + 285.0 utp_c --> ACODA_mRNA_c + 1152.0 h_c + 575.5954 macro_mass_constraint_c + 1152.0 ppi_c\n",
      "2.07371420707e-06        3.08048937447e-06        ES_ACONTa                0.000333333333333333*mu + 0.004 ACONTa_mRNA_c + 97.0 ala__L_c + 39.0 arg__L_c + 31.0 asn__L_c + 55.0 asp__L_c + 865.0 atp_c + 10.0 cys__L_c + 25.0 gln__L_c + 57.0 glu__L_c + 76.0 gly_c + 1730.0 gtp_c + 2605.392 h2o_c + 15.0 his__L_c + 47.0 ile__L_c + 88.0 leu__L_c + 49.0 lys__L_c + 23.0 met__L_c + 29.0 phe__L_c + 54.0 pro__L_c + 0.0120138888888889*mu ribo_c + 36.0 ser__L_c + 47.0 thr__L_c + 8.0 trp__L_c + 21.0 tyr__L_c + 58.0 val__L_c --> ACONTa_E_c + 865.0 adp_c + 2.316 amp_c + 2.812 cmp_c + 1730.0 gdp_c + 2.996 gmp_c + 2595.0 h_c + 108.943 macro_mass_constraint_c + 2595.0 pi_c + 2.268 ump_c\n",
      "-2.64806378186           -2.76184448629           EX_pi_e                  pi_e <=>                 \n",
      "-5.85783892143e-09       6.03605800671e-07        dedt_CHORM_E_c           CHORM_E_c + 0.01 delayed_abundance_CHORM_E_c <=> \n",
      "1.44907492725e-07        3.38282783567e-06        ES_IPMD                  0.000333333333333333*mu + 0.004 IPMD_mRNA_c + 43.0 ala__L_c + 22.0 arg__L_c + 13.0 asn__L_c + 23.0 asp__L_c + 363.0 atp_c + 6.0 cys__L_c + 13.0 gln__L_c + 25.0 glu__L_c + 32.0 gly_c + 726.0 gtp_c + 1093.368 h2o_c + 8.0 his__L_c + 27.0 ile__L_c + 35.0 leu__L_c + 13.0 lys__L_c + 9.0 met__L_c + 13.0 phe__L_c + 19.0 pro__L_c + 0.00504166666666667*mu ribo_c + 19.0 ser__L_c + 12.0 thr__L_c + 2.0 trp__L_c + 11.0 tyr__L_c + 18.0 val__L_c --> IPMD_E_c + 363.0 adp_c + 0.932 amp_c + 1.232 cmp_c + 726.0 gdp_c + 1.192 gmp_c + 1089.0 h_c + 45.988 macro_mass_constraint_c + 1089.0 pi_c + 1.012 ump_c\n",
      "1.13020734732e-12        8.74868462955e-08        dedt_CYTK1_E_c           CYTK1_E_c + 0.01 delayed_abundance_CYTK1_E_c <=> \n",
      "-3.78192121462e-09       4.04072188453e-08        dedt_CYSTL_E_c           CYSTL_E_c + 0.01 delayed_abundance_CYSTL_E_c <=> \n",
      "9.01406905357e-08        9.39076138569e-08        abundance_ACODA_E_c      mu ACODA_E_c + enzyme_capacity_ACODA_E_c --> delayed_abundance_ACODA_E_c\n",
      "7.74570168565e-08        7.94092172336e-08        abundance_TRDR_E_c       mu TRDR_E_c + enzyme_capacity_TRDR_E_c --> delayed_abundance_TRDR_E_c\n",
      "5.53039710747e-07        5.96607060455e-07        abundance_PSERT_E_c      mu PSERT_E_c + enzyme_capacity_PSERT_E_c --> delayed_abundance_PSERT_E_c\n",
      "1.19161728663e-07        5.91422333657e-07        ES_DDPA                  0.000333333333333333*mu + 0.004 DDPA_mRNA_c + 37.0 ala__L_c + 20.0 arg__L_c + 16.0 asn__L_c + 21.0 asp__L_c + 356.0 atp_c + 5.0 cys__L_c + 22.0 gln__L_c + 22.0 glu__L_c + 26.0 gly_c + 712.0 gtp_c + 1072.284 h2o_c + 9.0 his__L_c + 19.0 ile__L_c + 34.0 leu__L_c + 13.0 lys__L_c + 13.0 met__L_c + 7.0 phe__L_c + 18.0 pro__L_c + 0.00494444444444444*mu ribo_c + 27.0 ser__L_c + 15.0 thr__L_c + 3.0 trp__L_c + 7.0 tyr__L_c + 22.0 val__L_c --> DDPA_E_c + 356.0 adp_c + 0.996 amp_c + 1.164 cmp_c + 712.0 gdp_c + 1.056 gmp_c + 1068.0 h_c + 45.15 macro_mass_constraint_c + 1068.0 pi_c + 1.068 ump_c\n",
      "1.26935362009e-08        2.54896512655e-06        dedt_FTHFD_E_c           FTHFD_E_c + 0.01 delayed_abundance_FTHFD_E_c <=> \n",
      "2.63744482703e-10        9.31224236098e-10        mRNAS_TRDR               211.0 atp_c + 257.0 ctp_c + 261.0 gtp_c + 966.0 h2o_c + 237.0 utp_c --> TRDR_mRNA_c + 966.0 h_c + 482.5122 macro_mass_constraint_c + 966.0 ppi_c\n",
      "-2.39568068855e-09       -1.63677409207e-08       dedt_IG3PS_E_c           IG3PS_E_c + 0.01 delayed_abundance_IG3PS_E_c <=> \n",
      "-4.97148124941e-09       -2.2247133079e-06        dedt_PFK_E_c             PFK_E_c + 0.01 delayed_abundance_PFK_E_c <=> \n",
      "-9.16037800463e-09       5.25002076995e-07        dedt_DHQD_E_c            DHQD_E_c + 0.01 delayed_abundance_DHQD_E_c <=> \n",
      "0.0210929215854          0.0219743816425          FUM_FUMARASE-A_mod_4     fum_c + h2o_c --> 4.2735042735e-06 enzyme_capacity_FUMARASE-A_mod_4fe4s + mal__L_c\n",
      "7.27432019969e-08        4.12904343933e-07        ES_ACOTA_reverse         0.000333333333333333*mu + 0.004 ACOTA_reverse_mRNA_c + 51.0 ala__L_c + 17.0 arg__L_c + 10.0 asn__L_c + 22.0 asp__L_c + 406.0 atp_c + 6.0 cys__L_c + 18.0 gln__L_c + 22.0 glu__L_c + 40.0 gly_c + 812.0 gtp_c + 1222.884 h2o_c + 16.0 his__L_c + 24.0 ile__L_c + 29.0 leu__L_c + 16.0 lys__L_c + 10.0 met__L_c + 24.0 phe__L_c + 20.0 pro__L_c + 0.00563888888888889*mu ribo_c + 14.0 ser__L_c + 22.0 thr__L_c + 2.0 trp__L_c + 10.0 tyr__L_c + 33.0 val__L_c --> ACOTA_reverse_E_c + 406.0 adp_c + 1.176 amp_c + 1.504 cmp_c + 812.0 gdp_c + 1.16 gmp_c + 1218.0 h_c + 51.007 macro_mass_constraint_c + 1218.0 pi_c + 1.044 ump_c\n",
      "0.0285275495642          0.030345812808           ILETA_reverse            3mop_c + glu__L_c --> akg_c + 4.2735042735e-06 enzyme_capacity_ILETA_reverse_E_c + ile__L_c\n",
      "2.59036240424e-10        3.39282490443e-09        mRNAS_GLU5K              243.0 atp_c + 295.0 ctp_c + 326.0 gtp_c + 1104.0 h2o_c + 240.0 utp_c --> GLU5K_mRNA_c + 1104.0 h_c + 552.5648 macro_mass_constraint_c + 1104.0 ppi_c\n",
      "2.01191633105e-09        1.90945424955e-08        mRNAS_PSP_L              220.0 atp_c + 253.0 ctp_c + 296.0 gtp_c + 969.0 h2o_c + 200.0 utp_c --> PSP_L_mRNA_c + 969.0 h_c + 485.5408 macro_mass_constraint_c + 969.0 ppi_c\n",
      "1.09073330923e-07        1.13820953004e-07        abundance_SDPDS_E_c      mu SDPDS_E_c + enzyme_capacity_SDPDS_E_c --> delayed_abundance_SDPDS_E_c\n",
      "1.09073330923e-07        1.13820953004e-07        abundance_THDPS_E_c      mu THDPS_E_c + enzyme_capacity_THDPS_E_c --> delayed_abundance_THDPS_E_c\n",
      "-2.81700827472e-06       -1.62122264006e-05       EX_4fe4s_c               4fe4s_c <=>              \n",
      "6.20488388496e-10        1.40082259237e-08        mRNAS_IPMD               233.0 atp_c + 308.0 ctp_c + 298.0 gtp_c + 1092.0 h2o_c + 253.0 utp_c --> IPMD_mRNA_c + 1092.0 h_c + 545.4194 macro_mass_constraint_c + 1092.0 ppi_c\n",
      "5.10246003145e-10        2.44906866937e-09        mRNAS_DHQD               198.0 atp_c + 189.0 ctp_c + 194.0 gtp_c + 759.0 h2o_c + 178.0 utp_c --> DHQD_mRNA_c + 759.0 h_c + 379.4388 macro_mass_constraint_c + 759.0 ppi_c\n",
      "1.51701377852e-07        1.57043002402e-07        abundance_PSCVT_E_c      mu PSCVT_E_c + enzyme_capacity_PSCVT_E_c --> delayed_abundance_PSCVT_E_c\n",
      "5.10246003145e-10        2.44906866937e-09        mRNAS_DHQS               276.0 atp_c + 325.0 ctp_c + 265.0 gtp_c + 1089.0 h2o_c + 223.0 utp_c --> DHQS_mRNA_c + 1089.0 h_c + 543.6518 macro_mass_constraint_c + 1089.0 ppi_c\n",
      "4.69858512279e-07        4.61111565553e-06        ES_PSP_L                 0.000333333333333333*mu + 0.004 PSP_L_mRNA_c + 37.0 ala__L_c + 16.0 arg__L_c + 8.0 asn__L_c + 19.0 asp__L_c + 322.0 atp_c + 4.0 cys__L_c + 13.0 gln__L_c + 19.0 glu__L_c + 27.0 gly_c + 644.0 gtp_c + 969.876 h2o_c + 5.0 his__L_c + 19.0 ile__L_c + 43.0 leu__L_c + 16.0 lys__L_c + 11.0 met__L_c + 6.0 phe__L_c + 13.0 pro__L_c + 0.00447222222222222*mu ribo_c + 12.0 ser__L_c + 19.0 thr__L_c + 5.0 trp__L_c + 8.0 tyr__L_c + 22.0 val__L_c --> PSP_L_E_c + 322.0 adp_c + 0.88 amp_c + 1.012 cmp_c + 644.0 gdp_c + 1.184 gmp_c + 966.0 h_c + 40.78 macro_mass_constraint_c + 966.0 pi_c + 0.8 ump_c\n",
      "2.01191633105e-09        1.90945424955e-08        mRNAS_PGCD               279.0 atp_c + 344.0 ctp_c + 309.0 gtp_c + 1233.0 h2o_c + 301.0 utp_c --> PGCD_mRNA_c + 1233.0 h_c + 615.1426 macro_mass_constraint_c + 1233.0 ppi_c\n",
      "4.81910995225e-08        6.65806241394e-08        ES_METS                  0.000333333333333333*mu + 0.004 METS_mRNA_c + 136.0 ala__L_c + 72.0 arg__L_c + 56.0 asn__L_c + 77.0 asp__L_c + 1227.0 atp_c + 13.0 cys__L_c + 42.0 gln__L_c + 105.0 glu__L_c + 87.0 gly_c + 2454.0 gtp_c + 3695.736 h2o_c + 21.0 his__L_c + 77.0 ile__L_c + 96.0 leu__L_c + 58.0 lys__L_c + 30.0 met__L_c + 45.0 phe__L_c + 50.0 pro__L_c + 0.0170416666666667*mu ribo_c + 51.0 ser__L_c + 65.0 thr__L_c + 14.0 trp__L_c + 40.0 tyr__L_c + 92.0 val__L_c --> METS_E_c + 1227.0 adp_c + 3.528 amp_c + 3.912 cmp_c + 2454.0 gdp_c + 4.316 gmp_c + 3681.0 h_c + 157.911 macro_mass_constraint_c + 3681.0 pi_c + 2.98 ump_c\n",
      "2.63744482703e-10        9.31224236098e-10        mRNAS_ADSK               141.0 atp_c + 175.0 ctp_c + 143.0 gtp_c + 606.0 h2o_c + 147.0 utp_c --> ADSK_mRNA_c + 606.0 h_c + 302.0702 macro_mass_constraint_c + 606.0 ppi_c\n",
      "3.5340358711             3.53585971086            CO2t_reverse             co2_c --> co2_e          \n",
      "1.19161728663e-07        5.91422333657e-07        ES_DHQD                  0.000333333333333333*mu + 0.004 DHQD_mRNA_c + 34.0 ala__L_c + 10.0 arg__L_c + 4.0 asn__L_c + 18.0 asp__L_c + 252.0 atp_c + 8.0 gln__L_c + 17.0 glu__L_c + 11.0 gly_c + 504.0 gtp_c + 759.036 h2o_c + 6.0 his__L_c + 19.0 ile__L_c + 22.0 leu__L_c + 16.0 lys__L_c + 11.0 met__L_c + 8.0 phe__L_c + 8.0 pro__L_c + 0.0035*mu ribo_c + 17.0 ser__L_c + 17.0 thr__L_c + trp__L_c + 5.0 tyr__L_c + 20.0 val__L_c --> DHQD_E_c + 252.0 adp_c + 0.792 amp_c + 0.756 cmp_c + 504.0 gdp_c + 0.776 gmp_c + 756.0 h_c + 31.953 macro_mass_constraint_c + 756.0 pi_c + 0.712 ump_c\n",
      "-3.33735315967e-09       -5.65646673455e-08       dedt_CBMK_E_c            CBMK_E_c + 0.01 delayed_abundance_CBMK_E_c <=> \n",
      "6.97404255411e-08        7.38408333496e-08        mRNAS_NADH6              3575.0 atp_c + 4252.0 ctp_c + 3910.0 gtp_c + 14673.0 h2o_c + 2936.0 utp_c --> NADH6_mRNA_c + 14673.0 h_c + 7335.1296 macro_mass_constraint_c + 14673.0 ppi_c\n",
      "-3.5055669322e-09        3.73186765184e-07        dedt_OCBT_E_c            OCBT_E_c + 0.01 delayed_abundance_OCBT_E_c <=> \n",
      "5.10246003145e-10        2.44906866937e-09        mRNAS_SHK3Dr             230.0 atp_c + 218.0 ctp_c + 183.0 gtp_c + 819.0 h2o_c + 188.0 utp_c --> SHK3Dr_mRNA_c + 819.0 h_c + 408.7688 macro_mass_constraint_c + 819.0 ppi_c\n",
      "3.27189461082e-06        3.41597810976e-06        abundance_GLUDy_reve     mu GLUDy_reverse_E_c + enzyme_capacity_GLUDy_reverse_E_c --> delayed_abundance_GLUDy_reverse_E_c\n",
      "1.05725143638e-08        -5.83297018701e-07       dedt_FORti_E_c           FORti_E_c + 0.01 delayed_abundance_FORti_E_c <=> \n",
      "1.03685710354e-06        1.54024468724e-06        ES_ICDHyr                0.000333333333333333*mu + 0.004 ICDHyr_mRNA_c + 38.0 ala__L_c + 17.0 arg__L_c + 15.0 asn__L_c + 25.0 asp__L_c + 416.0 atp_c + 6.0 cys__L_c + 11.0 gln__L_c + 35.0 glu__L_c + 40.0 gly_c + 832.0 gtp_c + 1253.004 h2o_c + 5.0 his__L_c + 37.0 ile__L_c + 31.0 leu__L_c + 31.0 lys__L_c + 13.0 met__L_c + 10.0 phe__L_c + 20.0 pro__L_c + 0.00577777777777778*mu ribo_c + 13.0 ser__L_c + 18.0 thr__L_c + 6.0 trp__L_c + 15.0 tyr__L_c + 30.0 val__L_c --> ICDHyr_E_c + 416.0 adp_c + 1.328 amp_c + 1.168 cmp_c + 832.0 gdp_c + 1.344 gmp_c + 1248.0 h_c + 53.174 macro_mass_constraint_c + 1248.0 pi_c + 1.164 ump_c\n",
      "7.64023182072e-08        1.13176966378e-07        mRNAS_PGI                425.0 atp_c + 425.0 ctp_c + 422.0 gtp_c + 1650.0 h2o_c + 378.0 utp_c --> PGI_mRNA_c + 1650.0 h_c + 824.738 macro_mass_constraint_c + 1650.0 ppi_c\n",
      "4.51907586458            4.54170786019            NADH6                    4.5 h_c + nadh_c + q8_c --> 4.2735042735e-06 enzyme_capacity_NADH6_E_c + 3.5 h_e + nad_c + q8h2_c\n",
      "0.0303982083187          0.0318243532353          CHORM                    chor_c --> 4.2735042735e-06 enzyme_capacity_CHORM_E_c + pphn_c\n",
      "0.0354981224173          0.036748062562           CHORS                    3psme_c --> chor_c + 4.2735042735e-06 enzyme_capacity_CHORS_E_c + pi_c\n",
      "5.10246003145e-10        2.44906866937e-09        mRNAS_PSCVT              310.0 atp_c + 305.0 ctp_c + 347.0 gtp_c + 1284.0 h2o_c + 322.0 utp_c --> PSCVT_mRNA_c + 1284.0 h_c + 642.0708 macro_mass_constraint_c + 1284.0 ppi_c\n",
      "4.23247373229e-10        2.1925775221e-09         mRNAS_THDPS              188.0 atp_c + 234.0 ctp_c + 204.0 gtp_c + 825.0 h2o_c + 199.0 utp_c --> THDPS_mRNA_c + 825.0 h_c + 411.511 macro_mass_constraint_c + 825.0 ppi_c\n",
      "-2.22625631361e-09       -2.22701749016e-08       dedt_TYRTA_reverse_E     TYRTA_reverse_E_c + 0.01 delayed_abundance_TYRTA_reverse_E_c <=> \n",
      "-7.08568798387e-08       2.25594828782e-05        dedt_PTAr_E_c            PTAr_E_c + 0.01 delayed_abundance_PTAr_E_c <=> \n",
      "-3.5055669322e-09        3.73186765184e-07        dedt_ARGSS_E_c           ARGSS_E_c + 0.01 delayed_abundance_ARGSS_E_c <=> \n",
      "-2.39568068855e-09       -1.63677409207e-08       dedt_PRATPP_E_c          PRATPP_E_c + 0.01 delayed_abundance_PRATPP_E_c <=> \n",
      "1.20265955768e-09        1.10918230348e-08        mRNAS_MTHFD              197.0 atp_c + 242.0 ctp_c + 229.0 gtp_c + 867.0 h2o_c + 199.0 utp_c --> MTHFD_mRNA_c + 867.0 h_c + 433.0214 macro_mass_constraint_c + 867.0 ppi_c\n",
      "0.286505609305           0.288885227569           ICDHyr                   icit_c + nadp_c --> akg_c + co2_c + 4.2735042735e-06 enzyme_capacity_ICDHyr_E_c + nadph_c\n",
      "1.20265955768e-09        1.10918230348e-08        mRNAS_MTHFC              197.0 atp_c + 242.0 ctp_c + 229.0 gtp_c + 867.0 h2o_c + 199.0 utp_c --> MTHFC_mRNA_c + 867.0 h_c + 433.0214 macro_mass_constraint_c + 867.0 ppi_c\n",
      "6.15943060614e-08        2.24880101469e-07        ES_SULabc                0.000333333333333333*mu + 0.004 SULabc_mRNA_c + 119.0 ala__L_c + 66.0 arg__L_c + 46.0 asn__L_c + 51.0 asp__L_c + 1271.0 atp_c + 3.0 cys__L_c + 63.0 gln__L_c + 67.0 glu__L_c + 89.0 gly_c + 2542.0 gtp_c + 3828.3 h2o_c + 25.0 his__L_c + 61.0 ile__L_c + 165.0 leu__L_c + 49.0 lys__L_c + 31.0 met__L_c + 68.0 phe__L_c + 59.0 pro__L_c + 0.0176527777777778*mu ribo_c + 70.0 ser__L_c + 69.0 thr__L_c + 28.0 trp__L_c + 31.0 tyr__L_c + 111.0 val__L_c --> SULabc_E_c + 1271.0 adp_c + 3.544 amp_c + 4.596 cmp_c + 2542.0 gdp_c + 4.028 gmp_c + 3813.0 h_c + 164.145 macro_mass_constraint_c + 3813.0 pi_c + 3.132 ump_c\n",
      "9.01406905357e-08        9.39076138569e-08        abundance_OCBT_E_c       mu OCBT_E_c + enzyme_capacity_OCBT_E_c --> delayed_abundance_OCBT_E_c\n",
      "1.44907492725e-07        3.38282783567e-06        ES_IPPS                  0.000333333333333333*mu + 0.004 IPPS_mRNA_c + 61.0 ala__L_c + 27.0 arg__L_c + 30.0 asn__L_c + 29.0 asp__L_c + 523.0 atp_c + 6.0 cys__L_c + 22.0 gln__L_c + 41.0 glu__L_c + 35.0 gly_c + 1046.0 gtp_c + 1575.288 h2o_c + 15.0 his__L_c + 39.0 ile__L_c + 36.0 leu__L_c + 27.0 lys__L_c + 13.0 met__L_c + 15.0 phe__L_c + 12.0 pro__L_c + 0.00726388888888889*mu ribo_c + 30.0 ser__L_c + 23.0 thr__L_c + 2.0 trp__L_c + 14.0 tyr__L_c + 46.0 val__L_c --> IPPS_E_c + 523.0 adp_c + 1.312 amp_c + 1.688 cmp_c + 1046.0 gdp_c + 1.644 gmp_c + 1569.0 h_c + 66.629 macro_mass_constraint_c + 1569.0 pi_c + 1.644 ump_c\n",
      "2.63744482703e-10        9.31224236098e-10        mRNAS_SERAT              189.0 atp_c + 236.0 ctp_c + 204.0 gtp_c + 822.0 h2o_c + 193.0 utp_c --> SERAT_mRNA_c + 822.0 h_c + 410.0794 macro_mass_constraint_c + 822.0 ppi_c\n",
      "6.1544954088e-08         8.75954736778e-07        ES_PPNDH                 0.000333333333333333*mu + 0.004 PPNDH_mRNA_c + 38.0 ala__L_c + 21.0 arg__L_c + 16.0 asn__L_c + 15.0 asp__L_c + 386.0 atp_c + 4.0 cys__L_c + 22.0 gln__L_c + 29.0 glu__L_c + 18.0 gly_c + 772.0 gtp_c + 1162.644 h2o_c + 15.0 his__L_c + 22.0 ile__L_c + 50.0 leu__L_c + 17.0 lys__L_c + 8.0 met__L_c + 11.0 phe__L_c + 15.0 pro__L_c + 0.00536111111111111*mu ribo_c + 25.0 ser__L_c + 23.0 thr__L_c + 2.0 trp__L_c + 11.0 tyr__L_c + 24.0 val__L_c --> PPNDH_E_c + 386.0 adp_c + 1.228 amp_c + 1.148 cmp_c + 772.0 gdp_c + 1.136 gmp_c + 1158.0 h_c + 49.992 macro_mass_constraint_c + 1158.0 pi_c + 1.132 ump_c\n",
      "2.59036240424e-10        3.39282490443e-09        mRNAS_P5CR               171.0 atp_c + 228.0 ctp_c + 214.0 gtp_c + 810.0 h2o_c + 197.0 utp_c --> P5CR_mRNA_c + 810.0 h_c + 404.253 macro_mass_constraint_c + 810.0 ppi_c\n",
      "1.51701377852e-07        1.57043002402e-07        abundance_AROL-MONOM     mu AROL-MONOMER_mod_fe2 + enzyme_capacity_AROL-MONOMER_mod_fe2 --> delayed_abundance_AROL-MONOMER_mod_fe2\n",
      "-3.78192121462e-09       4.04072188453e-08        dedt_HSDy_reverse_E_     HSDy_reverse_E_c + 0.01 delayed_abundance_HSDy_reverse_E_c <=> \n",
      "6.5806313535e-09         4.81342839408e-07        dedt_SDPDS_E_c           SDPDS_E_c + 0.01 delayed_abundance_SDPDS_E_c <=> \n",
      "1.91982028071e-07        5.37124350126e-06        ES_ADK1                  0.000333333333333333*mu + 0.004 ADK1_mRNA_c + 19.0 ala__L_c + 13.0 arg__L_c + 4.0 asn__L_c + 17.0 asp__L_c + 214.0 atp_c + cys__L_c + 8.0 gln__L_c + 18.0 glu__L_c + 20.0 gly_c + 428.0 gtp_c + 644.58 h2o_c + 3.0 his__L_c + 14.0 ile__L_c + 16.0 leu__L_c + 18.0 lys__L_c + 6.0 met__L_c + 5.0 phe__L_c + 10.0 pro__L_c + 0.00297222222222222*mu ribo_c + 5.0 ser__L_c + 11.0 thr__L_c + 7.0 tyr__L_c + 19.0 val__L_c --> ADK1_E_c + 214.0 adp_c + 0.684 amp_c + 0.62 cmp_c + 428.0 gdp_c + 0.716 gmp_c + 642.0 h_c + 27.393 macro_mass_constraint_c + 642.0 pi_c + 0.56 ump_c\n",
      "2.04983605563e-09        4.35878480681e-06        dedt_PSP_L_E_c           PSP_L_E_c + 0.01 delayed_abundance_PSP_L_E_c <=> \n",
      "1.51701377852e-07        1.57043002402e-07        abundance_DHQS_E_c       mu DHQS_E_c + enzyme_capacity_DHQS_E_c --> delayed_abundance_DHQS_E_c\n",
      "1.68213772522e-10        -1.85860841299e-08       dedt_DHORTS_reverse_     DHORTS_reverse_E_c + 0.01 delayed_abundance_DHORTS_reverse_E_c <=> \n",
      "6.19052381221e-09        1.66880027163e-06        dedt_VALTA_reverse_E     VALTA_reverse_E_c + 0.01 delayed_abundance_VALTA_reverse_E_c <=> \n",
      "-3.30253908321e-09       -9.19292273864e-09       dedt_ANTHRANSYN-CPLX     ANTHRANSYN-CPLX_mod_fe2 + 0.01 delayed_abundance_ANTHRANSYN-CPLX_mod_fe2 <=> \n",
      "-4.8806491244e-08        7.59881845571e-06        dedt_CYTBD_E_c           CYTBD_E_c + 0.01 delayed_abundance_CYTBD_E_c <=> \n",
      "4.81910995225e-08        6.65806241394e-08        ES_HSDy_reverse          0.000333333333333333*mu + 0.004 HSDy_reverse_mRNA_c + 83.0 ala__L_c + 57.0 arg__L_c + 22.0 asn__L_c + 57.0 asp__L_c + 810.0 atp_c + 9.0 cys__L_c + 48.0 gln__L_c + 44.0 glu__L_c + 63.0 gly_c + 1620.0 gtp_c + 2439.732 h2o_c + 20.0 his__L_c + 34.0 ile__L_c + 102.0 leu__L_c + 20.0 lys__L_c + 10.0 met__L_c + 28.0 phe__L_c + 28.0 pro__L_c + 0.01125*mu ribo_c + 61.0 ser__L_c + 29.0 thr__L_c + 12.0 trp__L_c + 17.0 tyr__L_c + 66.0 val__L_c --> HSDy_reverse_E_c + 810.0 adp_c + 1.932 amp_c + 2.66 cmp_c + 1620.0 gdp_c + 3.016 gmp_c + 2430.0 h_c + 103.349 macro_mass_constraint_c + 2430.0 pi_c + 2.124 ump_c\n",
      "6.5806313535e-09         4.81342839408e-07        dedt_DAPDC_E_c           DAPDC_E_c + 0.01 delayed_abundance_DAPDC_E_c <=> \n",
      "2.63744482703e-10        9.31224236098e-10        mRNAS_SADT2              520.0 atp_c + 671.0 ctp_c + 591.0 gtp_c + 2337.0 h2o_c + 555.0 utp_c --> SADT2_mRNA_c + 2337.0 h_c + 1165.9134 macro_mass_constraint_c + 2337.0 ppi_c\n",
      "0.0210929215854          0.0219743816425          ACODA                    acorn_c + h2o_c --> ac_c + 4.2735042735e-06 enzyme_capacity_ACODA_E_c + orn_c\n",
      "3.24693520907e-07        3.74293821092e-07        abundance_KARA1i_E_c     mu KARA1i_E_c + enzyme_capacity_KARA1i_E_c --> delayed_abundance_KARA1i_E_c\n",
      "9.01406905357e-08        9.39076138569e-08        abundance_ARGSS_E_c      mu ARGSS_E_c + enzyme_capacity_ARGSS_E_c --> delayed_abundance_ARGSS_E_c\n",
      "1.24097677699e-09        2.80164518474e-08        mRNAS_IPPMIb             418.0 atp_c + 557.0 ctp_c + 536.0 gtp_c + 2007.0 h2o_c + 496.0 utp_c --> IPPMIb_mRNA_c + 2007.0 h_c + 1001.7504 macro_mass_constraint_c + 2007.0 ppi_c\n",
      "1.15793141645e-09        -1.28739620081e-07       dedt_PUNP3_E_c           PUNP3_E_c + 0.01 delayed_abundance_PUNP3_E_c <=> \n",
      "0.0759782838921          0.0875847541356          KARA1i                   alac__S_c + h_c + nadph_c --> 23dhmb_c + 4.2735042735e-06 enzyme_capacity_KARA1i_E_c + nadp_c\n",
      "9.27196399719e-06        9.30653374279e-06        abundance_RPI_revers     mu RPI_reverse_E_c + enzyme_capacity_RPI_reverse_E_c --> delayed_abundance_RPI_reverse_E_c\n",
      "4.46606125882e-07        5.0397678181e-07         abundance_DIHYDROXYA     mu DIHYDROXYACIDDEHYDRAT-CPLX_mod_4fe4s + enzyme_capacity_DIHYDROXYACIDDEHYDRAT-CPLX_mod_4fe4s --> delayed_abundance_DIHYDROXYACIDDEHYDRAT-CPLX_mod_4fe4s\n",
      "1.93564222054e-05        1.94328984548e-05        abundance_CYTBD_E_c      mu CYTBD_E_c + enzyme_capacity_CYTBD_E_c --> delayed_abundance_CYTBD_E_c\n",
      "2.16963957534            2.17772889581            RPI_reverse              ru5p__D_c --> 4.2735042735e-06 enzyme_capacity_RPI_reverse_E_c + r5p_c\n",
      "6.20488388496e-10        1.40082259237e-08        mRNAS_IPPS               328.0 atp_c + 422.0 ctp_c + 411.0 gtp_c + 1572.0 h2o_c + 411.0 utp_c --> IPPS_mRNA_c + 1572.0 h_c + 784.3134 macro_mass_constraint_c + 1572.0 ppi_c\n",
      "5.73577480995e-10        7.20411819121e-09        mRNAS_VALTA_reverse      210.0 atp_c + 239.0 ctp_c + 272.0 gtp_c + 930.0 h2o_c + 209.0 utp_c --> VALTA_reverse_mRNA_c + 930.0 h_c + 465.505 macro_mass_constraint_c + 930.0 ppi_c\n",
      "-2.67190675558e-39       2.26906247821e-05        ES_ACKr_reverse          0.000333333333333333*mu + 0.004 ACKr_reverse_mRNA_c + 39.0 ala__L_c + 23.0 arg__L_c + 22.0 asn__L_c + 17.0 asp__L_c + 406.0 atp_c + 5.0 cys__L_c + 9.0 gln__L_c + 30.0 glu__L_c + 37.0 gly_c + 812.0 gtp_c + 1222.884 h2o_c + 17.0 his__L_c + 28.0 ile__L_c + 40.0 leu__L_c + 10.0 lys__L_c + 12.0 met__L_c + 13.0 phe__L_c + 11.0 pro__L_c + 0.00563888888888889*mu ribo_c + 38.0 ser__L_c + 14.0 thr__L_c + 3.0 trp__L_c + 8.0 tyr__L_c + 30.0 val__L_c --> ACKr_reverse_E_c + 406.0 adp_c + 1.328 amp_c + 1.28 cmp_c + 812.0 gdp_c + 1.072 gmp_c + 1218.0 h_c + 51.169 macro_mass_constraint_c + 1218.0 pi_c + 1.204 ump_c\n",
      "-9.16037800463e-09       5.25002076995e-07        dedt_SHK3Dr_E_c          SHK3Dr_E_c + 0.01 delayed_abundance_SHK3Dr_E_c <=> \n",
      "0.0181249419444          0.0185817568327          SADT2                    atp_c + gtp_c + h2o_c + so4_c --> aps_c + 4.2735042735e-06 enzyme_capacity_SADT2_E_c + gdp_c + pi_c + ppi_c\n",
      "1.09073330923e-07        1.13820953004e-07        abundance_DHDPS_E_c      mu DHDPS_E_c + enzyme_capacity_DHDPS_E_c --> delayed_abundance_DHDPS_E_c\n",
      "7.27432019969e-08        4.12904343933e-07        ES_OCBT                  0.000333333333333333*mu + 0.004 OCBT_mRNA_c + 37.0 ala__L_c + 12.0 arg__L_c + 13.0 asn__L_c + 16.0 asp__L_c + 334.0 atp_c + 4.0 cys__L_c + 14.0 gln__L_c + 28.0 glu__L_c + 26.0 gly_c + 668.0 gtp_c + 1006.02 h2o_c + 9.0 his__L_c + 11.0 ile__L_c + 36.0 leu__L_c + 22.0 lys__L_c + 13.0 met__L_c + 13.0 phe__L_c + 9.0 pro__L_c + 0.00463888888888889*mu ribo_c + 15.0 ser__L_c + 22.0 thr__L_c + 4.0 trp__L_c + 10.0 tyr__L_c + 20.0 val__L_c --> OCBT_E_c + 334.0 adp_c + 0.892 amp_c + 1.14 cmp_c + 668.0 gdp_c + 0.956 gmp_c + 1002.0 h_c + 42.859 macro_mass_constraint_c + 1002.0 pi_c + 1.032 ump_c\n",
      "4.81910995225e-08        6.65806241394e-08        ES_SHSL1                 0.000333333333333333*mu + 0.004 SHSL1_mRNA_c + 43.0 ala__L_c + 23.0 arg__L_c + 15.0 asn__L_c + 21.0 asp__L_c + 386.0 atp_c + 5.0 cys__L_c + 14.0 gln__L_c + 21.0 glu__L_c + 35.0 gly_c + 772.0 gtp_c + 1162.644 h2o_c + 11.0 his__L_c + 14.0 ile__L_c + 50.0 leu__L_c + 13.0 lys__L_c + 6.0 met__L_c + 12.0 phe__L_c + 17.0 pro__L_c + 0.00536111111111111*mu ribo_c + 22.0 ser__L_c + 21.0 thr__L_c + 2.0 trp__L_c + 10.0 tyr__L_c + 31.0 val__L_c --> SHSL1_E_c + 386.0 adp_c + 1.056 amp_c + 1.148 cmp_c + 772.0 gdp_c + 1.404 gmp_c + 1158.0 h_c + 48.433 macro_mass_constraint_c + 1158.0 pi_c + 1.036 ump_c\n",
      "4.23247373229e-10        2.1925775221e-09         mRNAS_SDPDS              251.0 atp_c + 278.0 ctp_c + 325.0 gtp_c + 1128.0 h2o_c + 274.0 utp_c --> SDPDS_mRNA_c + 1128.0 h_c + 564.3476 macro_mass_constraint_c + 1128.0 ppi_c\n",
      "9.88442600927e-08        5.2948262785e-07         ES_DAPDC                 0.000333333333333333*mu + 0.004 DAPDC_mRNA_c + 37.0 ala__L_c + 25.0 arg__L_c + 13.0 asn__L_c + 23.0 asp__L_c + 420.0 atp_c + 4.0 cys__L_c + 27.0 gln__L_c + 26.0 glu__L_c + 38.0 gly_c + 840.0 gtp_c + 1265.052 h2o_c + 20.0 his__L_c + 21.0 ile__L_c + 44.0 leu__L_c + 8.0 lys__L_c + 9.0 met__L_c + 12.0 phe__L_c + 18.0 pro__L_c + 0.00583333333333333*mu ribo_c + 24.0 ser__L_c + 17.0 thr__L_c + 4.0 trp__L_c + 12.0 tyr__L_c + 38.0 val__L_c --> DAPDC_E_c + 420.0 adp_c + 1.26 amp_c + 1.464 cmp_c + 840.0 gdp_c + 1.216 gmp_c + 1260.0 h_c + 53.667 macro_mass_constraint_c + 1260.0 pi_c + 1.112 ump_c\n",
      "0.0353430398148          0.0392335466247          VALTA_reverse            3mob_c + glu__L_c --> akg_c + 4.2735042735e-06 enzyme_capacity_VALTA_reverse_E_c + val__L_c\n",
      "1.33952022625e-07        1.7397129145e-06         ES_VALTA_reverse         0.000333333333333333*mu + 0.004 VALTA_reverse_mRNA_c + 28.0 ala__L_c + 18.0 arg__L_c + 10.0 asn__L_c + 16.0 asp__L_c + 309.0 atp_c + 3.0 cys__L_c + 10.0 gln__L_c + 22.0 glu__L_c + 30.0 gly_c + 618.0 gtp_c + 930.72 h2o_c + 8.0 his__L_c + 20.0 ile__L_c + 21.0 leu__L_c + 12.0 lys__L_c + 8.0 met__L_c + 13.0 phe__L_c + 13.0 pro__L_c + 0.00429166666666667*mu ribo_c + 20.0 ser__L_c + 15.0 thr__L_c + 6.0 trp__L_c + 11.0 tyr__L_c + 25.0 val__L_c --> VALTA_reverse_E_c + 309.0 adp_c + 0.84 amp_c + 0.956 cmp_c + 618.0 gdp_c + 1.088 gmp_c + 927.0 h_c + 39.599 macro_mass_constraint_c + 927.0 pi_c + 0.836 ump_c\n",
      "4.94656024318            4.9895019743             PGI                      g6p_c --> 4.2735042735e-06 enzyme_capacity_PGI_E_c + f6p_c\n",
      "3.84802792321e-08        -8.79632482941e-06       dedt_G6PDH2r_E_c         G6PDH2r_E_c + 0.01 delayed_abundance_G6PDH2r_E_c <=> \n",
      "0.0469039531198          0.0515988440543          ALATA_L_reverse          glu__L_c + pyr_c --> akg_c + ala__L_c\n",
      "6.14420933514e-08        6.1883984752e-08         abundance_MTHFR2_E_c     mu MTHFR2_E_c + enzyme_capacity_MTHFR2_E_c --> delayed_abundance_MTHFR2_E_c\n",
      "-1.24782901252e-09       7.75787745249e-07        dedt_KARA2i_E_c          KARA2i_E_c + 0.01 delayed_abundance_KARA2i_E_c <=> \n",
      "4.61484052603e-09        9.01637162679e-08        ES_NDPK3                 0.000333333333333333*mu + 0.004 NDPK3_mRNA_c + 18.0 ala__L_c + 9.0 arg__L_c + 7.0 asn__L_c + 6.0 asp__L_c + 143.0 atp_c + cys__L_c + 2.0 gln__L_c + 12.0 glu__L_c + 14.0 gly_c + 286.0 gtp_c + 430.728 h2o_c + 4.0 his__L_c + 8.0 ile__L_c + 9.0 leu__L_c + 5.0 lys__L_c + 3.0 met__L_c + 10.0 phe__L_c + 5.0 pro__L_c + 0.00198611111111111*mu ribo_c + 7.0 ser__L_c + 9.0 thr__L_c + 3.0 tyr__L_c + 11.0 val__L_c --> NDPK3_E_c + 143.0 adp_c + 0.432 amp_c + 0.448 cmp_c + 286.0 gdp_c + 0.456 gmp_c + 429.0 h_c + 18.002 macro_mass_constraint_c + 429.0 pi_c + 0.392 ump_c\n",
      "3.02105863789e-06        4.69172391855e-05        ES_NDPK1                 0.000333333333333333*mu + 0.004 NDPK1_mRNA_c + 18.0 ala__L_c + 9.0 arg__L_c + 7.0 asn__L_c + 6.0 asp__L_c + 143.0 atp_c + cys__L_c + 2.0 gln__L_c + 12.0 glu__L_c + 14.0 gly_c + 286.0 gtp_c + 430.728 h2o_c + 4.0 his__L_c + 8.0 ile__L_c + 9.0 leu__L_c + 5.0 lys__L_c + 3.0 met__L_c + 10.0 phe__L_c + 5.0 pro__L_c + 0.00198611111111111*mu ribo_c + 7.0 ser__L_c + 9.0 thr__L_c + 3.0 tyr__L_c + 11.0 val__L_c --> NDPK1_E_c + 143.0 adp_c + 0.432 amp_c + 0.448 cmp_c + 286.0 gdp_c + 0.456 gmp_c + 429.0 h_c + 18.002 macro_mass_constraint_c + 429.0 pi_c + 0.392 ump_c\n",
      "6.14420933514e-08        6.1883984752e-08         abundance_METS_E_c       mu METS_E_c + enzyme_capacity_METS_E_c --> delayed_abundance_METS_E_c\n",
      "0.0181249419444          0.0185817568327          PAPSR                    paps_c + trdrd_c --> 4.2735042735e-06 enzyme_capacity_PAPSR_E_c + 2.0 h_c + pap_c + so3_c + trdox_c\n",
      "-3.92551795072e-09       1.91294519754e-07        dedt_PAPSR_E_c           PAPSR_E_c + 0.01 delayed_abundance_PAPSR_E_c <=> \n",
      "1.68213772522e-10        -1.85860841299e-08       dedt_OMPDC_E_c           OMPDC_E_c + 0.01 delayed_abundance_OMPDC_E_c <=> \n",
      "2.63744482703e-10        9.31224236098e-10        mRNAS_SULabc             886.0 atp_c + 1149.0 ctp_c + 1007.0 gtp_c + 3825.0 h2o_c + 783.0 utp_c --> SULabc_mRNA_c + 3825.0 h_c + 1910.567 macro_mass_constraint_c + 3825.0 ppi_c\n",
      "9.01406905357e-08        9.39076138569e-08        abundance_FUMARASE-A     mu FUMARASE-A_mod_4fe4s + enzyme_capacity_FUMARASE-A_mod_4fe4s --> delayed_abundance_FUMARASE-A_mod_4fe4s\n",
      "1.47035359615e-07        5.9606325199e-07         ES_ASPK                  0.000333333333333333*mu + 0.004 ASPK_mRNA_c + 91.0 ala__L_c + 46.0 arg__L_c + 38.0 asn__L_c + 44.0 asp__L_c + 820.0 atp_c + 12.0 cys__L_c + 30.0 gln__L_c + 53.0 glu__L_c + 63.0 gly_c + 1640.0 gtp_c + 2469.852 h2o_c + 14.0 his__L_c + 46.0 ile__L_c + 89.0 leu__L_c + 34.0 lys__L_c + 23.0 met__L_c + 30.0 phe__L_c + 29.0 pro__L_c + 0.0113888888888889*mu ribo_c + 51.0 ser__L_c + 34.0 thr__L_c + 4.0 trp__L_c + 20.0 tyr__L_c + 69.0 val__L_c --> ASPK_E_c + 820.0 adp_c + 2.212 amp_c + 2.46 cmp_c + 1640.0 gdp_c + 2.768 gmp_c + 2460.0 h_c + 103.76 macro_mass_constraint_c + 2460.0 pi_c + 2.412 ump_c\n",
      "0.0143774498442          0.014480852432           SHSL1                    cys__L_c + suchms_c --> cyst__L_c + 4.2735042735e-06 enzyme_capacity_SHSL1_E_c + h_c + succ_c\n",
      "1.44907492725e-07        3.38282783567e-06        ES_LEUTAi                0.000333333333333333*mu + 0.004 LEUTAi_mRNA_c + 51.0 ala__L_c + 23.0 arg__L_c + 17.0 asn__L_c + 19.0 asp__L_c + 397.0 atp_c + 5.0 cys__L_c + 15.0 gln__L_c + 26.0 glu__L_c + 30.0 gly_c + 794.0 gtp_c + 1195.776 h2o_c + 6.0 his__L_c + 17.0 ile__L_c + 43.0 leu__L_c + 13.0 lys__L_c + 11.0 met__L_c + 17.0 phe__L_c + 18.0 pro__L_c + 0.00551388888888889*mu ribo_c + 21.0 ser__L_c + 15.0 thr__L_c + 5.0 trp__L_c + 15.0 tyr__L_c + 30.0 val__L_c --> LEUTAi_E_c + 397.0 adp_c + 1.1 amp_c + 1.18 cmp_c + 794.0 gdp_c + 1.34 gmp_c + 1191.0 h_c + 50.616 macro_mass_constraint_c + 1191.0 pi_c + 1.156 ump_c\n",
      "-9.16037800463e-09       5.25002076995e-07        dedt_AROG-CPLX_mod_f     AROG-CPLX_mod_fe2 + 0.01 delayed_abundance_AROG-CPLX_mod_fe2 <=> \n",
      "-1.24782901252e-09       7.75787745249e-07        dedt_THREODEHYD-CPLX     THREODEHYD-CPLX_mod_fe2 + 0.01 delayed_abundance_THREODEHYD-CPLX_mod_fe2 <=> \n",
      "8.37664419711e-08        3.10069839552e-07        abundance_ACKr_rever     mu ACKr_reverse_E_c + enzyme_capacity_ACKr_reverse_E_c --> delayed_abundance_ACKr_reverse_E_c\n",
      "2.63744482703e-10        9.31224236098e-10        mRNAS_SULR_reverse       706.0 atp_c + 1021.0 ctp_c + 948.0 gtp_c + 3513.0 h2o_c + 838.0 utp_c --> SULR_reverse_mRNA_c + 3513.0 h_c + 1753.1836 macro_mass_constraint_c + 3513.0 ppi_c\n",
      "1.62870255014e-05        1.78317245756e-05        ES_NADH6                 0.000333333333333333*mu + 0.004 NADH6_mRNA_c + 465.0 ala__L_c + 248.0 arg__L_c + 158.0 asn__L_c + 192.0 asp__L_c + 4878.0 atp_c + 61.0 cys__L_c + 162.0 gln__L_c + 250.0 glu__L_c + 417.0 gly_c + 9756.0 gtp_c + 14692.692 h2o_c + 108.0 his__L_c + 303.0 ile__L_c + 577.0 leu__L_c + 158.0 lys__L_c + 183.0 met__L_c + 259.0 phe__L_c + 225.0 pro__L_c + 0.06775*mu ribo_c + 260.0 ser__L_c + 228.0 thr__L_c + 101.0 trp__L_c + 159.0 tyr__L_c + 364.0 val__L_c --> NADH6_E_c + 4878.0 adp_c + 14.3 amp_c + 17.008 cmp_c + 9756.0 gdp_c + 15.64 gmp_c + 14634.0 h_c + 627.355 macro_mass_constraint_c + 14634.0 pi_c + 11.744 ump_c\n",
      "2.79871013889e-09        5.21750058253e-07        dedt_SUCOAS_E_c          SUCOAS_E_c + 0.01 delayed_abundance_SUCOAS_E_c <=> \n",
      "1.63029660033e-09        2.46519931201e-08        mRNAS_DHAD1              420.0 atp_c + 506.0 ctp_c + 537.0 gtp_c + 1851.0 h2o_c + 388.0 utp_c --> DHAD1_mRNA_c + 1851.0 h_c + 926.3512 macro_mass_constraint_c + 1851.0 ppi_c\n",
      "-3.5055669322e-09        3.73186765184e-07        dedt_ACODA_E_c           ACODA_E_c + 0.01 delayed_abundance_ACODA_E_c <=> \n",
      "3.11483632297e-10        1.7098290589e-09         mRNAS_ACOTA_reverse      294.0 atp_c + 376.0 ctp_c + 290.0 gtp_c + 1221.0 h2o_c + 261.0 utp_c --> ACOTA_reverse_mRNA_c + 1221.0 h_c + 608.9042 macro_mass_constraint_c + 1221.0 ppi_c\n",
      "2.01191633105e-09        1.90945424955e-08        mRNAS_PSERT              261.0 atp_c + 255.0 ctp_c + 291.0 gtp_c + 1089.0 h2o_c + 282.0 utp_c --> PSERT_mRNA_c + 1089.0 h_c + 544.3908 macro_mass_constraint_c + 1089.0 ppi_c\n",
      "0.0143774498442          0.014480852432           MTHFR2                   h_c + mlthf_c + nadh_c --> 5mthf_c + 4.2735042735e-06 enzyme_capacity_MTHFR2_E_c + nad_c\n",
      "6.5806313535e-09         4.81342839408e-07        dedt_DHDPRy_E_c          DHDPRy_E_c + 0.01 delayed_abundance_DHDPRy_E_c <=> \n",
      "0.0181249419444          0.0185817568327          ADSK                     aps_c + atp_c --> adp_c + 4.2735042735e-06 enzyme_capacity_ADSK_E_c + h_c + paps_c\n",
      "1.29906873157e-07        1.36001509553e-07        abundance_CHORM_E_c      mu CHORM_E_c + enzyme_capacity_CHORM_E_c --> delayed_abundance_CHORM_E_c\n",
      "9.88442600927e-08        5.2948262785e-07         ES_SDPDS                 0.000333333333333333*mu + 0.004 SDPDS_mRNA_c + 40.0 ala__L_c + 22.0 arg__L_c + 19.0 asn__L_c + 19.0 asp__L_c + 375.0 atp_c + 5.0 cys__L_c + 20.0 gln__L_c + 24.0 glu__L_c + 29.0 gly_c + 750.0 gtp_c + 1129.512 h2o_c + 11.0 his__L_c + 19.0 ile__L_c + 35.0 leu__L_c + 8.0 lys__L_c + 11.0 met__L_c + 17.0 phe__L_c + 18.0 pro__L_c + 0.00520833333333333*mu ribo_c + 14.0 ser__L_c + 21.0 thr__L_c + 6.0 trp__L_c + 5.0 tyr__L_c + 32.0 val__L_c --> SDPDS_E_c + 375.0 adp_c + 1.004 amp_c + 1.112 cmp_c + 750.0 gdp_c + 1.3 gmp_c + 1125.0 h_c + 47.954 macro_mass_constraint_c + 1125.0 pi_c + 1.096 ump_c\n",
      "9.01406905357e-08        9.39076138569e-08        abundance_ACGS_E_c       mu ACGS_E_c + enzyme_capacity_ACGS_E_c --> delayed_abundance_ACGS_E_c\n",
      "7.18742791417e-08        7.394022006e-08          abundance_ASNS2_E_c      mu ASNS2_E_c + enzyme_capacity_ASNS2_E_c --> delayed_abundance_ASNS2_E_c\n",
      "6.20488388496e-10        1.40082259237e-08        mRNAS_OMCDC              233.0 atp_c + 308.0 ctp_c + 298.0 gtp_c + 1092.0 h2o_c + 253.0 utp_c --> OMCDC_mRNA_c + 1092.0 h_c + 545.4194 macro_mass_constraint_c + 1092.0 ppi_c\n",
      "2.7885951535e-07         5.12254075017e-06        ES_ACLS                  0.000333333333333333*mu + 0.004 ACLS_mRNA_c + 74.0 ala__L_c + 29.0 arg__L_c + 26.0 asn__L_c + 37.0 asp__L_c + 658.0 atp_c + 11.0 cys__L_c + 42.0 gln__L_c + 34.0 glu__L_c + 48.0 gly_c + 1316.0 gtp_c + 1981.92 h2o_c + 18.0 his__L_c + 54.0 ile__L_c + 56.0 leu__L_c + 22.0 lys__L_c + 25.0 met__L_c + 22.0 phe__L_c + 40.0 pro__L_c + 0.00913888888888889*mu ribo_c + 27.0 ser__L_c + 34.0 thr__L_c + 5.0 trp__L_c + 10.0 tyr__L_c + 44.0 val__L_c --> ACLS_E_c + 658.0 adp_c + 1.732 amp_c + 2.248 cmp_c + 1316.0 gdp_c + 2.12 gmp_c + 1974.0 h_c + 83.272 macro_mass_constraint_c + 1974.0 pi_c + 1.82 ump_c\n",
      "2.63744482703e-10        9.31224236098e-10        mRNAS_CYSS               263.0 atp_c + 234.0 ctp_c + 255.0 gtp_c + 972.0 h2o_c + 220.0 utp_c --> CYSS_mRNA_c + 972.0 h_c + 486.4024 macro_mass_constraint_c + 972.0 ppi_c\n",
      "9.01406905357e-08        9.39076138569e-08        abundance_AGPR_rever     mu AGPR_reverse_E_c + enzyme_capacity_AGPR_reverse_E_c --> delayed_abundance_AGPR_reverse_E_c\n",
      "0.0285275495642          0.030345812808           KARA2i                   2ahbut_c + h_c + nadph_c --> 23dhmp_c + 4.2735042735e-06 enzyme_capacity_KARA2i_E_c + nadp_c\n",
      "1.51701377852e-07        1.57043002402e-07        abundance_CHORS_E_c      mu CHORS_E_c + enzyme_capacity_CHORS_E_c --> delayed_abundance_CHORS_E_c\n",
      "4.23247373229e-10        2.1925775221e-09         mRNAS_DAPDC              315.0 atp_c + 366.0 ctp_c + 304.0 gtp_c + 1263.0 h2o_c + 278.0 utp_c --> DAPDC_mRNA_c + 1263.0 h_c + 630.2796 macro_mass_constraint_c + 1263.0 ppi_c\n",
      "3.56056780203e-06        4.01267662076e-06        abundance_NDPK1_E_c      mu NDPK1_E_c + enzyme_capacity_NDPK1_E_c --> delayed_abundance_NDPK1_E_c\n",
      "1.93122900196e-05        1.94090079495e-05        abundance_NADH6_E_c      mu NADH6_E_c + enzyme_capacity_NADH6_E_c --> delayed_abundance_NADH6_E_c\n",
      "3.11483632297e-10        1.7098290589e-09         mRNAS_FUM_reverse        364.0 atp_c + 452.0 ctp_c + 397.0 gtp_c + 1647.0 h2o_c + 434.0 utp_c --> FUM_reverse_mRNA_c + 1647.0 h_c + 820.8804 macro_mass_constraint_c + 1647.0 ppi_c\n",
      "4.36230730841e-10        3.43964900516e-09        mRNAS_KARA2i             369.0 atp_c + 360.0 ctp_c + 434.0 gtp_c + 1476.0 h2o_c + 313.0 utp_c --> KARA2i_mRNA_c + 1476.0 h_c + 739.7322 macro_mass_constraint_c + 1476.0 ppi_c\n",
      "-1.46842659244e-08       -2.13481655726e-07       dedt_PPA_E_c             PPA_E_c + 0.01 delayed_abundance_PPA_E_c <=> \n",
      "0.0285275495642          0.030345812808           DHAD2_DIHYDROXYACIDD     23dhmp_c --> 3mop_c + 4.2735042735e-06 enzyme_capacity_DIHYDROXYACIDDEHYDRAT-CPLX_mod_4fe4s + h2o_c\n",
      "1.13020734732e-12        8.74868462955e-08        dedt_NDPK3_E_c           NDPK3_E_c + 0.01 delayed_abundance_NDPK3_E_c <=> \n",
      "0.0354981224173          0.036748062562           DHQS                     2dda7p_c --> 3dhq_c + 4.2735042735e-06 enzyme_capacity_DHQS_E_c + pi_c\n",
      "0.0210929215854          0.0219743816425          ACGS                     accoa_c + glu__L_c --> acglu_c + coa_c + 4.2735042735e-06 enzyme_capacity_ACGS_E_c + h_c\n",
      "0.0354981224173          0.036748062562           DHQD                     3dhq_c --> 3dhsk_c + 4.2735042735e-06 enzyme_capacity_DHQD_E_c + h2o_c\n",
      "0.0210929215854          0.0219743816425          ACGK                     acglu_c + atp_c --> acg5p_c + adp_c + 4.2735042735e-06 enzyme_capacity_ACGK_E_c\n",
      "-1.98478691936e-09       3.29543548383e-06        dedt_IPMD_E_c            IPMD_E_c + 0.01 delayed_abundance_IPMD_E_c <=> \n",
      "3.47309778439e-07        4.13258183854e-07        abundance_3-ISOPROPY     mu 3-ISOPROPYLMALISOM-CPLX_mod_4fe4s + enzyme_capacity_3-ISOPROPYLMALISOM-CPLX_mod_4fe4s --> delayed_abundance_3-ISOPROPYLMALISOM-CPLX_mod_4fe4s\n",
      "0.833172865674           0.938966329258           NDPK1                    atp_c + gdp_c --> adp_c + 4.2735042735e-06 enzyme_capacity_NDPK1_E_c + gtp_c\n",
      "3.20267104528e-10        1.36067710403e-06        dedt_THRAr_reverse_E     THRAr_reverse_E_c + 0.01 delayed_abundance_THRAr_reverse_E_c <=> \n",
      "2.8981498545e-07         6.76565567134e-06        formation_3-ISOPROPY     4fe4s_c + IPPMIb_E_c --> 3-ISOPROPYLMALISOM-CPLX_mod_4fe4s\n",
      "0.0                      0.00570530492203         ACALD_ADHE-CPLX_mod_     acald_c + coa_c + nad_c --> accoa_c + 4.2735042735e-06 enzyme_capacity_ADHE-CPLX_mod_fe2 + h_c + nadh_c\n",
      "2.33685781148e-09        2.03619862154e-06        dedt_CPLX0-7760_mod_     CPLX0-7760_mod_4fe4s + 0.01 delayed_abundance_CPLX0-7760_mod_4fe4s <=> \n",
      "2.80866466377e-07        2.67854958327e-06        ES_MTHFC                 0.000333333333333333*mu + 0.004 MTHFC_mRNA_c + 27.0 ala__L_c + 17.0 arg__L_c + 13.0 asn__L_c + 17.0 asp__L_c + 288.0 atp_c + 5.0 cys__L_c + 9.0 gln__L_c + 17.0 glu__L_c + 24.0 gly_c + 576.0 gtp_c + 867.468 h2o_c + 6.0 his__L_c + 22.0 ile__L_c + 26.0 leu__L_c + 12.0 lys__L_c + 4.0 met__L_c + 6.0 phe__L_c + 17.0 pro__L_c + 0.004*mu ribo_c + 10.0 ser__L_c + 17.0 thr__L_c + trp__L_c + 6.0 tyr__L_c + 32.0 val__L_c --> MTHFC_E_c + 288.0 adp_c + 0.788 amp_c + 0.968 cmp_c + 576.0 gdp_c + 0.916 gmp_c + 864.0 h_c + 36.174 macro_mass_constraint_c + 864.0 pi_c + 0.796 ump_c\n",
      "2.80866466377e-07        2.67854958327e-06        ES_MTHFD                 0.000333333333333333*mu + 0.004 MTHFD_mRNA_c + 27.0 ala__L_c + 17.0 arg__L_c + 13.0 asn__L_c + 17.0 asp__L_c + 288.0 atp_c + 5.0 cys__L_c + 9.0 gln__L_c + 17.0 glu__L_c + 24.0 gly_c + 576.0 gtp_c + 867.468 h2o_c + 6.0 his__L_c + 22.0 ile__L_c + 26.0 leu__L_c + 12.0 lys__L_c + 4.0 met__L_c + 6.0 phe__L_c + 17.0 pro__L_c + 0.004*mu ribo_c + 10.0 ser__L_c + 17.0 thr__L_c + trp__L_c + 6.0 tyr__L_c + 32.0 val__L_c --> MTHFD_E_c + 288.0 adp_c + 0.788 amp_c + 0.968 cmp_c + 576.0 gdp_c + 0.916 gmp_c + 864.0 h_c + 36.174 macro_mass_constraint_c + 864.0 pi_c + 0.796 ump_c\n",
      "-1.11710194348e-10       7.8570199406e-07         dedt_P5CR_E_c            P5CR_E_c + 0.01 delayed_abundance_P5CR_E_c <=> \n",
      "-9.16037800463e-09       5.25002076995e-07        dedt_AROL-MONOMER_mo     AROL-MONOMER_mod_fe2 + 0.01 delayed_abundance_AROL-MONOMER_mod_fe2 <=> \n",
      "1.22438294575e-06        1.23455225457e-06        abundance_CS_E_c         mu CS_E_c + enzyme_capacity_CS_E_c --> delayed_abundance_CS_E_c\n",
      "0.025523159436           0.0266341030029          SDPTA_reverse            glu__L_c + sl2a6o_c --> akg_c + sl26da_c\n",
      "7.16484812406e-08        7.95066182831e-08        abundance_GLU5K_E_c      mu GLU5K_E_c + enzyme_capacity_GLU5K_E_c --> delayed_abundance_GLU5K_E_c\n",
      "-2.39568068855e-09       -1.63677409207e-08       dedt_HISTD_E_c           HISTD_E_c + 0.01 delayed_abundance_HISTD_E_c <=> \n",
      "1.19161728663e-07        5.91422333657e-07        ES_SHK3Dr                0.000333333333333333*mu + 0.004 SHK3Dr_mRNA_c + 30.0 ala__L_c + 13.0 arg__L_c + 11.0 asn__L_c + 13.0 asp__L_c + 272.0 atp_c + 3.0 cys__L_c + 10.0 gln__L_c + 17.0 glu__L_c + 25.0 gly_c + 544.0 gtp_c + 819.276 h2o_c + 8.0 his__L_c + 18.0 ile__L_c + 35.0 leu__L_c + 8.0 lys__L_c + 5.0 met__L_c + 14.0 phe__L_c + 13.0 pro__L_c + 0.00377777777777778*mu ribo_c + 17.0 ser__L_c + 12.0 thr__L_c + 2.0 trp__L_c + 5.0 tyr__L_c + 13.0 val__L_c --> SHK3Dr_E_c + 272.0 adp_c + 0.92 amp_c + 0.872 cmp_c + 544.0 gdp_c + 0.732 gmp_c + 816.0 h_c + 34.258 macro_mass_constraint_c + 816.0 pi_c + 0.752 ump_c\n",
      "1.19406586949e-09        2.12123441149e-08        mRNAS_ACLS               433.0 atp_c + 562.0 ctp_c + 530.0 gtp_c + 1980.0 h2o_c + 455.0 utp_c --> ACLS_mRNA_c + 1980.0 h_c + 988.783 macro_mass_constraint_c + 1980.0 ppi_c\n",
      "-3.5055669322e-09        3.73186765184e-07        dedt_ACOTA_reverse_E     ACOTA_reverse_E_c + 0.01 delayed_abundance_ACOTA_reverse_E_c <=> \n",
      "2.07371420707e-06        3.08048937447e-06        formation_CPLX0-7760     4fe4s_c + ACONTa_E_c --> CPLX0-7760_mod_4fe4s\n",
      "2.11391463384e-05        2.13226580098e-05        abundance_PGI_E_c        mu PGI_E_c + enzyme_capacity_PGI_E_c --> delayed_abundance_PGI_E_c\n",
      "-3.78192121462e-09       4.04072188453e-08        dedt_SHSL1_E_c           SHSL1_E_c + 0.01 delayed_abundance_SHSL1_E_c <=> \n",
      "1.40901201827e-09        1.13675321369e-08        mRNAS_GHMT2              274.0 atp_c + 343.0 ctp_c + 326.0 gtp_c + 1254.0 h2o_c + 311.0 utp_c --> GHMT2_mRNA_c + 1254.0 h_c + 625.8598 macro_mass_constraint_c + 1254.0 ppi_c\n",
      "0.129411292315           0.139606052146           PSERT                    3php_c + glu__L_c --> akg_c + 4.2735042735e-06 enzyme_capacity_PSERT_E_c + pser__L_c\n",
      "0.0519405699476          0.055123804946           THRAr_reverse            acald_c + gly_c --> 4.2735042735e-06 enzyme_capacity_THRAr_reverse_E_c + thr__L_c\n",
      "4.20573689285e-09        4.96423575546e-06        dedt_ACLS_E_c            ACLS_E_c + 0.01 delayed_abundance_ACLS_E_c <=> \n",
      "6.15943060614e-08        2.24880101469e-07        ES_TRDR                  0.000333333333333333*mu + 0.004 TRDR_mRNA_c + 32.0 ala__L_c + 16.0 arg__L_c + 18.0 asn__L_c + 18.0 asp__L_c + 321.0 atp_c + 4.0 cys__L_c + 10.0 gln__L_c + 22.0 glu__L_c + 35.0 gly_c + 642.0 gtp_c + 966.864 h2o_c + 10.0 his__L_c + 22.0 ile__L_c + 29.0 leu__L_c + 12.0 lys__L_c + 8.0 met__L_c + 10.0 phe__L_c + 9.0 pro__L_c + 0.00445833333333333*mu ribo_c + 13.0 ser__L_c + 25.0 thr__L_c + trp__L_c + 9.0 tyr__L_c + 18.0 val__L_c --> TRDR_E_c + 321.0 adp_c + 0.844 amp_c + 1.028 cmp_c + 642.0 gdp_c + 1.044 gmp_c + 963.0 h_c + 40.344 macro_mass_constraint_c + 963.0 pi_c + 0.948 ump_c\n",
      "1.90472975692            2.13821904272            EX_h2o_e                 h2o_e <=>                \n",
      "0.0181249419444          0.0185817568327          SERAT                    accoa_c + ser__L_c --> acser_c + coa_c + 4.2735042735e-06 enzyme_capacity_SERAT_E_c\n",
      "9.01406905357e-08        9.39076138569e-08        abundance_ACOTA_reve     mu ACOTA_reverse_E_c + enzyme_capacity_ACOTA_reverse_E_c --> delayed_abundance_ACOTA_reverse_E_c\n",
      "-3.92551795072e-09       1.91294519754e-07        dedt_CYSS_E_c            CYSS_E_c + 0.01 delayed_abundance_CYSS_E_c <=> \n",
      "-3.5234720653e-09        -4.32683195582e-07       dedt_GLNS_E_c            GLNS_E_c + 0.01 delayed_abundance_GLNS_E_c <=> \n",
      "0.0167657446103          0.0186045486783          GLU5K                    atp_c + glu__L_c --> adp_c + 4.2735042735e-06 enzyme_capacity_GLU5K_E_c + glu5p_c\n",
      "6.04947535211e-08        8.19328770878e-07        ES_G5SD                  0.000333333333333333*mu + 0.004 G5SD_mRNA_c + 54.0 ala__L_c + 25.0 arg__L_c + 17.0 asn__L_c + 29.0 asp__L_c + 417.0 atp_c + 7.0 cys__L_c + 18.0 gln__L_c + 24.0 glu__L_c + 31.0 gly_c + 834.0 gtp_c + 1256.016 h2o_c + 7.0 his__L_c + 27.0 ile__L_c + 43.0 leu__L_c + 19.0 lys__L_c + 9.0 met__L_c + 5.0 phe__L_c + 12.0 pro__L_c + 0.00579166666666667*mu ribo_c + 22.0 ser__L_c + 21.0 thr__L_c + trp__L_c + 8.0 tyr__L_c + 38.0 val__L_c --> G5SD_E_c + 417.0 adp_c + 1.224 amp_c + 1.26 cmp_c + 834.0 gdp_c + 1.464 gmp_c + 1251.0 h_c + 52.067 macro_mass_constraint_c + 1251.0 pi_c + 1.068 ump_c\n",
      "-3.78192121462e-09       4.04072188453e-08        dedt_METS_E_c            METS_E_c + 0.01 delayed_abundance_METS_E_c <=> \n",
      "4.20573689285e-09        4.96423575546e-06        dedt_KARA1i_E_c          KARA1i_E_c + 0.01 delayed_abundance_KARA1i_E_c <=> \n",
      "0.0406352440773          0.0483512075109          OMCDC                    3c4mop_c + h_c --> 4mop_c + co2_c + 4.2735042735e-06 enzyme_capacity_OMCDC_E_c\n",
      "0.0196013474212          0.0725563424551          PTAr                     accoa_c + pi_c --> actp_c + coa_c + 4.2735042735e-06 enzyme_capacity_PTAr_E_c\n",
      "2.79871013889e-09        5.21750058253e-07        dedt_ASAD_reverse_E_     ASAD_reverse_E_c + 0.01 delayed_abundance_ASAD_reverse_E_c <=> \n",
      "2.63533159425e-10        3.6273119555e-09         mRNAS_PPNDH              307.0 atp_c + 287.0 ctp_c + 284.0 gtp_c + 1161.0 h2o_c + 283.0 utp_c --> PPNDH_mRNA_c + 1161.0 h_c + 580.0062 macro_mass_constraint_c + 1161.0 ppi_c\n",
      "4.23247373229e-10        2.1925775221e-09         mRNAS_DAPE               168.0 atp_c + 202.0 ctp_c + 253.0 gtp_c + 825.0 h2o_c + 202.0 utp_c --> DAPE_mRNA_c + 825.0 h_c + 412.994 macro_mass_constraint_c + 825.0 ppi_c\n",
      "0.0210929215854          0.0219743816425          AGPR_reverse             acg5p_c + h_c + nadph_c --> acg5sa_c + 4.2735042735e-06 enzyme_capacity_AGPR_reverse_E_c + nadp_c + pi_c\n",
      "0.0748481919458          0.0807503728463          MTHFC                    h2o_c + methf_c --> 10fthf_c + 4.2735042735e-06 enzyme_capacity_MTHFC_E_c\n",
      "0.0748481919458          0.0807503728463          MTHFD                    mlthf_c + nadp_c --> 4.2735042735e-06 enzyme_capacity_MTHFD_E_c + h_c + methf_c + nadph_c\n",
      "8.37664419711e-08        3.10069839552e-07        abundance_PTAr_E_c       mu PTAr_E_c + enzyme_capacity_PTAr_E_c --> delayed_abundance_PTAr_E_c\n",
      "7.27432019969e-08        4.12904343933e-07        ES_ACGK                  0.000333333333333333*mu + 0.004 ACGK_mRNA_c + 30.0 ala__L_c + 9.0 arg__L_c + 11.0 asn__L_c + 15.0 asp__L_c + 257.0 atp_c + cys__L_c + 11.0 gln__L_c + 13.0 glu__L_c + 27.0 gly_c + 514.0 gtp_c + 774.096 h2o_c + 5.0 his__L_c + 18.0 ile__L_c + 37.0 leu__L_c + 13.0 lys__L_c + 7.0 met__L_c + 3.0 phe__L_c + 10.0 pro__L_c + 0.00356944444444444*mu ribo_c + 11.0 ser__L_c + 12.0 thr__L_c + 2.0 trp__L_c + 2.0 tyr__L_c + 20.0 val__L_c --> ACGK_E_c + 257.0 adp_c + 0.724 amp_c + 0.732 cmp_c + 514.0 gdp_c + 0.988 gmp_c + 771.0 h_c + 31.605 macro_mass_constraint_c + 771.0 pi_c + 0.652 ump_c\n",
      "2.2442739203e-10         -2.06396686179e-08       dedt_NDPK2_E_c           NDPK2_E_c + 0.01 delayed_abundance_NDPK2_E_c <=> \n",
      "-1.56663414833e-08       5.24516897571e-06        dedt_ADK1_E_c            ADK1_E_c + 0.01 delayed_abundance_ADK1_E_c <=> \n",
      "5.45429178594e-09        6.32914894682e-09        abundance_CYTK1_E_c      mu CYTK1_E_c + enzyme_capacity_CYTK1_E_c --> delayed_abundance_CYTK1_E_c\n",
      "2.06352460596e-10        2.75709102087e-10        mRNAS_CYSTL              291.0 atp_c + 287.0 ctp_c + 319.0 gtp_c + 1188.0 h2o_c + 291.0 utp_c --> CYSTL_mRNA_c + 1188.0 h_c + 594.0766 macro_mass_constraint_c + 1188.0 ppi_c\n",
      "4.43978279642e-09        6.37812404436e-09        mRNAS_ICDHyr             332.0 atp_c + 292.0 ctp_c + 336.0 gtp_c + 1251.0 h2o_c + 291.0 utp_c --> ICDHyr_mRNA_c + 1251.0 h_c + 626.1822 macro_mass_constraint_c + 1251.0 ppi_c\n",
      "0.0285275495642          0.030345812808           ACHBS                    2obut_c + h_c + pyr_c --> 2ahbut_c + co2_c + 4.2735042735e-06 enzyme_capacity_ACHBS_E_c\n",
      "9.36742124835e-38        0.000259242582042        dedt_PGK_E_c             PGK_E_c + 0.01 delayed_abundance_PGK_E_c <=> \n",
      "-1.11710194348e-10       7.8570199406e-07         dedt_G5SD_E_c            G5SD_E_c + 0.01 delayed_abundance_G5SD_E_c <=> \n",
      "-2.39568068855e-09       -1.63677409207e-08       dedt_HISTP_E_c           HISTP_E_c + 0.01 delayed_abundance_HISTP_E_c <=> \n",
      "6.14420933514e-08        6.1883984752e-08         abundance_SHSL1_E_c      mu SHSL1_E_c + enzyme_capacity_SHSL1_E_c --> delayed_abundance_SHSL1_E_c\n",
      "-3.92551795072e-09       1.91294519754e-07        dedt_SULR_reverse_E_     SULR_reverse_E_c + 0.01 delayed_abundance_SULR_reverse_E_c <=> \n",
      "1.02978555124e-08        2.53259738563e-06        dedt_MTHFC_E_c           MTHFC_E_c + 0.01 delayed_abundance_MTHFC_E_c <=> \n",
      "0.0181249419444          0.0185817568327          SULR_reverse             5.0 h_c + 3.0 nadph_c + so3_c --> 4.2735042735e-06 enzyme_capacity_SULR_reverse_E_c + 3.0 h2o_c + h2s_c + 3.0 nadp_c\n",
      "7.74570168565e-08        7.94092172336e-08        abundance_SERAT_E_c      mu SERAT_E_c + enzyme_capacity_SERAT_E_c --> delayed_abundance_SERAT_E_c\n",
      "1.70515424274e-07        1.75704937756e-07        abundance_SUCOAS_E_c     mu SUCOAS_E_c + enzyme_capacity_SUCOAS_E_c --> delayed_abundance_SUCOAS_E_c\n",
      "4.36230730841e-10        3.43964900516e-09        mRNAS_THRD_L             325.0 atp_c + 436.0 ctp_c + 472.0 gtp_c + 1545.0 h2o_c + 312.0 utp_c --> THRD_L_mRNA_c + 1545.0 h_c + 773.536 macro_mass_constraint_c + 1545.0 ppi_c\n",
      "2.2371733708e-38         0.000260339030694        ES_PGK                   0.000333333333333333*mu + 0.004 PGK_mRNA_c + 48.0 ala__L_c + 13.0 arg__L_c + 13.0 asn__L_c + 29.0 asp__L_c + 387.0 atp_c + 3.0 cys__L_c + 6.0 gln__L_c + 26.0 glu__L_c + 32.0 gly_c + 774.0 gtp_c + 1165.656 h2o_c + 4.0 his__L_c + 22.0 ile__L_c + 40.0 leu__L_c + 31.0 lys__L_c + 6.0 met__L_c + 15.0 phe__L_c + 14.0 pro__L_c + 0.005375*mu ribo_c + 21.0 ser__L_c + 20.0 thr__L_c + trp__L_c + 6.0 tyr__L_c + 37.0 val__L_c --> PGK_E_c + 387.0 adp_c + 1.076 amp_c + 1.236 cmp_c + 774.0 gdp_c + 1.2 gmp_c + 1161.0 h_c + 48.019 macro_mass_constraint_c + 1161.0 pi_c + 1.144 ump_c\n",
      "1.19161728663e-07        5.91422333657e-07        formation_AROL-MONOM     SHKK_E_c + fe2_c --> AROL-MONOMER_mod_fe2\n",
      "6.51593429775e-09        2.57300460447e-06        dedt_GHMT2_E_c           GHMT2_E_c + 0.01 delayed_abundance_GHMT2_E_c <=> \n",
      "-4.89747050167e-08       9.62281828979e-06        dedt_NADH6_E_c           NADH6_E_c + 0.01 delayed_abundance_NADH6_E_c <=> \n",
      "1.19406586949e-09        2.12123441149e-08        mRNAS_KARA1i             369.0 atp_c + 360.0 ctp_c + 434.0 gtp_c + 1476.0 h2o_c + 313.0 utp_c --> KARA1i_mRNA_c + 1476.0 h_c + 739.7322 macro_mass_constraint_c + 1476.0 ppi_c\n",
      "0.0181249419444          0.0185817568327          SULabc                   atp_c + h2o_c + so4_e --> adp_c + 4.2735042735e-06 enzyme_capacity_SULabc_E_c + h_c + pi_c + so4_c\n",
      "-4.02770823035e-40       1.07805898966e-06        mRNAS_PGK                269.0 atp_c + 309.0 ctp_c + 300.0 gtp_c + 1164.0 h2o_c + 286.0 utp_c --> PGK_mRNA_c + 1164.0 h_c + 581.1868 macro_mass_constraint_c + 1164.0 ppi_c\n",
      "0.0210929215854          0.0219743816425          MDH                      mal__L_c + nad_c --> 4.2735042735e-06 enzyme_capacity_MDH_E_c + h_c + nadh_c + oaa_c\n",
      "0.0354981224173          0.036748062562           SHK3Dr                   3dhsk_c + h_c + nadph_c --> 4.2735042735e-06 enzyme_capacity_SHK3Dr_E_c + nadp_c + skm_c\n",
      "0.0399006092802          0.0411149554348          ASPK                     asp__L_c + atp_c --> 4pasp_c + adp_c + 4.2735042735e-06 enzyme_capacity_ASPK_E_c\n",
      "2.04983605563e-09        4.35878480681e-06        dedt_PSERT_E_c           PSERT_E_c + 0.01 delayed_abundance_PSERT_E_c <=> \n",
      "1.01876364857e-07        8.30636260648e-07        ES_ACHBS                 0.000333333333333333*mu + 0.004 ACHBS_mRNA_c + 74.0 ala__L_c + 29.0 arg__L_c + 26.0 asn__L_c + 37.0 asp__L_c + 658.0 atp_c + 11.0 cys__L_c + 42.0 gln__L_c + 34.0 glu__L_c + 48.0 gly_c + 1316.0 gtp_c + 1981.92 h2o_c + 18.0 his__L_c + 54.0 ile__L_c + 56.0 leu__L_c + 22.0 lys__L_c + 25.0 met__L_c + 22.0 phe__L_c + 40.0 pro__L_c + 0.00913888888888889*mu ribo_c + 27.0 ser__L_c + 34.0 thr__L_c + 5.0 trp__L_c + 10.0 tyr__L_c + 44.0 val__L_c --> ACHBS_E_c + 658.0 adp_c + 1.732 amp_c + 2.248 cmp_c + 1316.0 gdp_c + 2.12 gmp_c + 1974.0 h_c + 83.272 macro_mass_constraint_c + 1974.0 pi_c + 1.82 ump_c\n",
      "2.79871013889e-09        5.21750058253e-07        dedt_ASPK_E_c            ASPK_E_c + 0.01 delayed_abundance_ASPK_E_c <=> \n",
      "-3.30253908321e-09       -9.19292273864e-09       dedt_TRPS3_E_c           TRPS3_E_c + 0.01 delayed_abundance_TRPS3_E_c <=> \n",
      "7.16484812406e-08        7.95066182831e-08        abundance_P5CR_E_c       mu P5CR_E_c + enzyme_capacity_P5CR_E_c --> delayed_abundance_P5CR_E_c\n",
      "7.27432019969e-08        4.12904343933e-07        ES_ACODA                 0.000333333333333333*mu + 0.004 ACODA_mRNA_c + 32.0 ala__L_c + 18.0 arg__L_c + 16.0 asn__L_c + 23.0 asp__L_c + 383.0 atp_c + 8.0 cys__L_c + 12.0 gln__L_c + 24.0 glu__L_c + 29.0 gly_c + 766.0 gtp_c + 1153.608 h2o_c + 17.0 his__L_c + 25.0 ile__L_c + 44.0 leu__L_c + 14.0 lys__L_c + 7.0 met__L_c + 14.0 phe__L_c + 28.0 pro__L_c + 0.00531944444444444*mu ribo_c + 13.0 ser__L_c + 27.0 thr__L_c + 4.0 trp__L_c + 10.0 tyr__L_c + 18.0 val__L_c --> ACODA_E_c + 383.0 adp_c + 1.084 amp_c + 1.168 cmp_c + 766.0 gdp_c + 1.216 gmp_c + 1149.0 h_c + 49.175 macro_mass_constraint_c + 1149.0 pi_c + 1.14 ump_c\n",
      "-3.92551795072e-09       1.91294519754e-07        dedt_ADSK_E_c            ADSK_E_c + 0.01 delayed_abundance_ADSK_E_c <=> \n",
      "1.01876364857e-07        8.30636260648e-07        ES_ILETA_reverse         0.000333333333333333*mu + 0.004 ILETA_reverse_mRNA_c + 28.0 ala__L_c + 18.0 arg__L_c + 10.0 asn__L_c + 16.0 asp__L_c + 309.0 atp_c + 3.0 cys__L_c + 10.0 gln__L_c + 22.0 glu__L_c + 30.0 gly_c + 618.0 gtp_c + 930.72 h2o_c + 8.0 his__L_c + 20.0 ile__L_c + 21.0 leu__L_c + 12.0 lys__L_c + 8.0 met__L_c + 13.0 phe__L_c + 13.0 pro__L_c + 0.00429166666666667*mu ribo_c + 20.0 ser__L_c + 15.0 thr__L_c + 6.0 trp__L_c + 11.0 tyr__L_c + 25.0 val__L_c --> ILETA_reverse_E_c + 309.0 adp_c + 0.84 amp_c + 0.956 cmp_c + 618.0 gdp_c + 1.088 gmp_c + 927.0 h_c + 39.599 macro_mass_constraint_c + 927.0 pi_c + 0.836 ump_c\n",
      "0.0399006092802          0.0411149554348          SUCOAS                   atp_c + coa_c + succ_c --> adp_c + 4.2735042735e-06 enzyme_capacity_SUCOAS_E_c + pi_c + succoa_c\n",
      "0.0759782838921          0.0875847541356          DHAD1_DIHYDROXYACIDD     23dhmb_c --> 3mob_c + 4.2735042735e-06 enzyme_capacity_DIHYDROXYACIDDEHYDRAT-CPLX_mod_4fe4s + h2o_c\n",
      "0.058819210951           0.11311248093            EX_ac_e                  ac_e -->                 \n",
      "0.0181249419444          0.0185817568327          CYSS                     acser_c + h2s_c --> ac_c + cys__L_c + 4.2735042735e-06 enzyme_capacity_CYSS_E_c + h_c\n",
      "1.47035359615e-07        5.9606325199e-07         ES_SUCOAS                0.000333333333333333*mu + 0.004 SUCOAS_mRNA_c + 76.0 ala__L_c + 22.0 arg__L_c + 20.0 asn__L_c + 32.0 asp__L_c + 677.0 atp_c + 10.0 cys__L_c + 24.0 gln__L_c + 46.0 glu__L_c + 84.0 gly_c + 1354.0 gtp_c + 2039.148 h2o_c + 11.0 his__L_c + 53.0 ile__L_c + 52.0 leu__L_c + 46.0 lys__L_c + 15.0 met__L_c + 19.0 phe__L_c + 29.0 pro__L_c + 0.00940277777777778*mu ribo_c + 19.0 ser__L_c + 41.0 thr__L_c + 3.0 trp__L_c + 13.0 tyr__L_c + 62.0 val__L_c --> SUCOAS_E_c + 677.0 adp_c + 2.016 amp_c + 2.06 cmp_c + 1354.0 gdp_c + 2.348 gmp_c + 2031.0 h_c + 83.238 macro_mass_constraint_c + 2031.0 pi_c + 1.724 ump_c\n",
      "1.16842890574e-09        1.01809931077e-06        dedt_ICDHyr_E_c          ICDHyr_E_c + 0.01 delayed_abundance_ICDHyr_E_c <=> \n",
      "7.74570168565e-08        7.94092172336e-08        abundance_ADSK_E_c       mu ADSK_E_c + enzyme_capacity_ADSK_E_c --> delayed_abundance_ADSK_E_c\n",
      "-9.16037800463e-09       5.25002076995e-07        dedt_PSCVT_E_c           PSCVT_E_c + 0.01 delayed_abundance_PSCVT_E_c <=> \n",
      "1.70515424274e-07        1.75704937756e-07        abundance_ASPK_E_c       mu ASPK_E_c + enzyme_capacity_ASPK_E_c --> delayed_abundance_ASPK_E_c\n",
      "0.0196013474212          0.0725563424551          ACKr_reverse             actp_c + adp_c --> ac_c + atp_c + 4.2735042735e-06 enzyme_capacity_ACKr_reverse_E_c\n",
      "0.025523159436           0.0266341030029          DAPDC                    26dap__M_c + h_c --> co2_c + 4.2735042735e-06 enzyme_capacity_DAPDC_E_c + lys__L_c\n",
      "-1.14410034002e-41       9.39614469725e-08        mRNAS_ACKr_reverse       332.0 atp_c + 320.0 ctp_c + 268.0 gtp_c + 1221.0 h2o_c + 301.0 utp_c --> ACKr_reverse_mRNA_c + 1221.0 h_c + 608.9762 macro_mass_constraint_c + 1221.0 ppi_c\n",
      "6.15943060614e-08        2.24880101469e-07        ES_SADT2                 0.000333333333333333*mu + 0.004 SADT2_mRNA_c + 58.0 ala__L_c + 58.0 arg__L_c + 29.0 asn__L_c + 51.0 asp__L_c + 777.0 atp_c + 4.0 cys__L_c + 37.0 gln__L_c + 57.0 glu__L_c + 56.0 gly_c + 1554.0 gtp_c + 2340.348 h2o_c + 19.0 his__L_c + 47.0 ile__L_c + 80.0 leu__L_c + 31.0 lys__L_c + 20.0 met__L_c + 29.0 phe__L_c + 32.0 pro__L_c + 0.0107916666666667*mu ribo_c + 42.0 ser__L_c + 40.0 thr__L_c + 11.0 trp__L_c + 22.0 tyr__L_c + 54.0 val__L_c --> SADT2_E_c + 777.0 adp_c + 2.08 amp_c + 2.684 cmp_c + 1554.0 gdp_c + 2.364 gmp_c + 2331.0 h_c + 101.597 macro_mass_constraint_c + 2331.0 pi_c + 2.22 ump_c\n",
      "0.0                      2.26906247821e-05        ES_PTAr                  0.000333333333333333*mu + 0.004 PTAr_mRNA_c + 76.0 ala__L_c + 43.0 arg__L_c + 32.0 asn__L_c + 37.0 asp__L_c + 714.0 atp_c + 6.0 cys__L_c + 28.0 gln__L_c + 48.0 glu__L_c + 45.0 gly_c + 1428.0 gtp_c + 2150.58 h2o_c + 7.0 his__L_c + 43.0 ile__L_c + 65.0 leu__L_c + 28.0 lys__L_c + 19.0 met__L_c + 17.0 phe__L_c + 37.0 pro__L_c + 0.00991666666666667*mu ribo_c + 50.0 ser__L_c + 51.0 thr__L_c + 3.0 trp__L_c + 14.0 tyr__L_c + 65.0 val__L_c --> PTAr_E_c + 714.0 adp_c + 1.928 amp_c + 2.46 cmp_c + 1428.0 gdp_c + 2.304 gmp_c + 2142.0 h_c + 89.918 macro_mass_constraint_c + 2142.0 pi_c + 1.888 ump_c\n",
      "1.22438294575e-06        1.23455225457e-06        abundance_ICDHyr_E_c     mu ICDHyr_E_c + enzyme_capacity_ICDHyr_E_c --> delayed_abundance_ICDHyr_E_c\n",
      "0.025523159436           0.0266341030029          DAPE                     26dap__LL_c --> 26dap__M_c + 4.2735042735e-06 enzyme_capacity_DAPE_E_c\n",
      "6.15943060614e-08        2.24880101469e-07        ES_CYSS                  0.000333333333333333*mu + 0.004 CYSS_mRNA_c + 32.0 ala__L_c + 13.0 arg__L_c + 14.0 asn__L_c + 11.0 asp__L_c + 323.0 atp_c + cys__L_c + 9.0 gln__L_c + 28.0 glu__L_c + 32.0 gly_c + 646.0 gtp_c + 972.888 h2o_c + 3.0 his__L_c + 27.0 ile__L_c + 32.0 leu__L_c + 23.0 lys__L_c + 6.0 met__L_c + 8.0 phe__L_c + 15.0 pro__L_c + 0.00448611111111111*mu ribo_c + 19.0 ser__L_c + 22.0 thr__L_c + 2.0 trp__L_c + 5.0 tyr__L_c + 21.0 val__L_c --> CYSS_E_c + 323.0 adp_c + 1.052 amp_c + 0.936 cmp_c + 646.0 gdp_c + 1.02 gmp_c + 969.0 h_c + 40.246 macro_mass_constraint_c + 969.0 pi_c + 0.88 ump_c\n",
      "4.52940279606            4.54729823843            CYTBD                    2.0 h_c + 0.5 o2_c + q8h2_c --> 4.2735042735e-06 enzyme_capacity_CYTBD_E_c + h2o_c + 2.0 h_e + q8_c\n",
      "2.50408477491e-07        2.67854958327e-06        ES_FTHFD                 0.000333333333333333*mu + 0.004 FTHFD_mRNA_c + 22.0 ala__L_c + 22.0 arg__L_c + 15.0 asn__L_c + 19.0 asp__L_c + 280.0 atp_c + 3.0 cys__L_c + 8.0 gln__L_c + 17.0 glu__L_c + 16.0 gly_c + 560.0 gtp_c + 843.372 h2o_c + 13.0 his__L_c + 23.0 ile__L_c + 27.0 leu__L_c + 11.0 lys__L_c + 8.0 met__L_c + 11.0 phe__L_c + 10.0 pro__L_c + 0.00388888888888889*mu ribo_c + 8.0 ser__L_c + 13.0 thr__L_c + 11.0 tyr__L_c + 23.0 val__L_c --> FTHFD_E_c + 280.0 adp_c + 0.912 amp_c + 0.824 cmp_c + 560.0 gdp_c + 0.768 gmp_c + 840.0 h_c + 36.92 macro_mass_constraint_c + 840.0 pi_c + 0.868 ump_c\n",
      "1.73654889219e-07        2.06629091927e-07        abundance_IPPS_E_c       mu IPPS_E_c + enzyme_capacity_IPPS_E_c --> delayed_abundance_IPPS_E_c\n",
      "5.45429178594e-09        6.32914894682e-09        abundance_NDPK3_E_c      mu NDPK3_E_c + enzyme_capacity_NDPK3_E_c --> delayed_abundance_NDPK3_E_c\n",
      "7.16484812406e-08        7.95066182831e-08        abundance_G5SD_E_c       mu G5SD_E_c + enzyme_capacity_G5SD_E_c --> delayed_abundance_G5SD_E_c\n",
      "2.59036240424e-10        3.39282490443e-09        mRNAS_G5SD               306.0 atp_c + 315.0 ctp_c + 366.0 gtp_c + 1254.0 h2o_c + 267.0 utp_c --> G5SD_mRNA_c + 1254.0 h_c + 628.1838 macro_mass_constraint_c + 1254.0 ppi_c\n",
      "0.0143774498442          0.014480852432           METS                     5mthf_c + hcys__L_c --> 4.2735042735e-06 enzyme_capacity_METS_E_c + met__L_c + thf_c\n",
      "-3.92551795072e-09       1.91294519754e-07        dedt_TRDR_E_c            TRDR_E_c + 0.01 delayed_abundance_TRDR_E_c <=> \n",
      "1.51701377852e-07        1.57043002402e-07        abundance_SHK3Dr_E_c     mu SHK3Dr_E_c + enzyme_capacity_SHK3Dr_E_c --> delayed_abundance_SHK3Dr_E_c\n",
      "-2.39568068855e-09       -1.63677409207e-08       dedt_PRMICIi_E_c         PRMICIi_E_c + 0.01 delayed_abundance_PRMICIi_E_c <=> \n",
      "9.88442600927e-08        5.2948262785e-07         ES_DHDPRy                0.000333333333333333*mu + 0.004 DHDPRy_mRNA_c + 40.0 ala__L_c + 15.0 arg__L_c + 7.0 asn__L_c + 21.0 asp__L_c + 273.0 atp_c + 2.0 cys__L_c + 6.0 gln__L_c + 16.0 glu__L_c + 32.0 gly_c + 546.0 gtp_c + 822.288 h2o_c + 10.0 his__L_c + 16.0 ile__L_c + 24.0 leu__L_c + 12.0 lys__L_c + 9.0 met__L_c + 11.0 phe__L_c + 3.0 pro__L_c + 0.00379166666666667*mu ribo_c + 13.0 ser__L_c + 14.0 thr__L_c + trp__L_c + 2.0 tyr__L_c + 19.0 val__L_c --> DHDPRy_E_c + 273.0 adp_c + 0.748 amp_c + 0.74 cmp_c + 546.0 gdp_c + 1.016 gmp_c + 819.0 h_c + 33.62 macro_mass_constraint_c + 819.0 pi_c + 0.784 ump_c\n",
      "6.15943060614e-08        2.24880101469e-07        ES_SULR_reverse          0.000333333333333333*mu + 0.004 SULR_reverse_mRNA_c + 118.0 ala__L_c + 75.0 arg__L_c + 53.0 asn__L_c + 66.0 asp__L_c + 1169.0 atp_c + 8.0 cys__L_c + 43.0 gln__L_c + 95.0 glu__L_c + 85.0 gly_c + 2338.0 gtp_c + 3521.052 h2o_c + 26.0 his__L_c + 59.0 ile__L_c + 113.0 leu__L_c + 61.0 lys__L_c + 22.0 met__L_c + 42.0 phe__L_c + 59.0 pro__L_c + 0.0162361111111111*mu ribo_c + 47.0 ser__L_c + 66.0 thr__L_c + 19.0 trp__L_c + 31.0 tyr__L_c + 81.0 val__L_c --> SULR_reverse_E_c + 1169.0 adp_c + 2.824 amp_c + 4.084 cmp_c + 2338.0 gdp_c + 3.792 gmp_c + 3507.0 h_c + 151.126 macro_mass_constraint_c + 3507.0 pi_c + 3.352 ump_c\n",
      "0.00127630427791         0.00148102085356         NDPK3                    atp_c + cdp_c --> adp_c + ctp_c + 4.2735042735e-06 enzyme_capacity_NDPK3_E_c\n",
      "4.23247373229e-10        2.1925775221e-09         mRNAS_DHDPRy             187.0 atp_c + 185.0 ctp_c + 254.0 gtp_c + 822.0 h2o_c + 196.0 utp_c --> DHDPRy_mRNA_c + 822.0 h_c + 412.0344 macro_mass_constraint_c + 822.0 ppi_c\n",
      "0.0181249419444          0.0185817568327          TRDR                     h_c + nadph_c + trdox_c --> 4.2735042735e-06 enzyme_capacity_TRDR_E_c + nadp_c + trdrd_c\n",
      "1.04028596325e-07        6.61126702798e-07        ES_CHORM                 0.000333333333333333*mu + 0.004 CHORM_mRNA_c + 35.0 ala__L_c + 27.0 arg__L_c + 8.0 asn__L_c + 22.0 asp__L_c + 373.0 atp_c + 3.0 cys__L_c + 22.0 gln__L_c + 28.0 glu__L_c + 24.0 gly_c + 746.0 gtp_c + 1123.488 h2o_c + 9.0 his__L_c + 19.0 ile__L_c + 47.0 leu__L_c + 15.0 lys__L_c + 11.0 met__L_c + 14.0 phe__L_c + 17.0 pro__L_c + 0.00518055555555556*mu ribo_c + 20.0 ser__L_c + 5.0 thr__L_c + 5.0 trp__L_c + 10.0 tyr__L_c + 32.0 val__L_c --> CHORM_E_c + 373.0 adp_c + 1.168 amp_c + 1.368 cmp_c + 746.0 gdp_c + 0.98 gmp_c + 1119.0 h_c + 48.69 macro_mass_constraint_c + 1119.0 pi_c + 0.972 ump_c\n",
      "5.53039710747e-07        5.96607060455e-07        abundance_PGCD_E_c       mu PGCD_E_c + enzyme_capacity_PGCD_E_c --> delayed_abundance_PGCD_E_c\n",
      "-2.26470139803           -2.27364911922           EX_o2_e                  o2_e <=>                 \n",
      "1.70515424274e-07        1.75704937756e-07        abundance_ASAD_rever     mu ASAD_reverse_E_c + enzyme_capacity_ASAD_reverse_E_c --> delayed_abundance_ASAD_reverse_E_c\n",
      "1.69658577105e-09        -1.88775069784e-07       dedt_AMPN_E_c            AMPN_E_c + 0.01 delayed_abundance_AMPN_E_c <=> \n",
      "0.0354981224173          0.036748062562           DDPA_AROG-CPLX_mod_f     e4p_c + h2o_c + pep_c --> 2dda7p_c + 4.2735042735e-06 enzyme_capacity_AROG-CPLX_mod_fe2 + pi_c\n",
      "1.68213772522e-10        -1.85860841299e-08       dedt_ASPCT_E_c           ASPCT_E_c + 0.01 delayed_abundance_ASPCT_E_c <=> \n",
      "2.06352460596e-10        2.75709102087e-10        mRNAS_HSST               223.0 atp_c + 240.0 ctp_c + 225.0 gtp_c + 930.0 h2o_c + 242.0 utp_c --> HSST_mRNA_c + 930.0 h_c + 463.97 macro_mass_constraint_c + 930.0 ppi_c\n",
      "4.09662862384e-08        2.22001393401e-07        mRNAS_PIt2r              394.0 atp_c + 416.0 ctp_c + 363.0 gtp_c + 1500.0 h2o_c + 327.0 utp_c --> PIt2r_mRNA_c + 1500.0 h_c + 749.103 macro_mass_constraint_c + 1500.0 ppi_c\n",
      "9.88442600927e-08        5.2948262785e-07         ES_DHDPS                 0.000333333333333333*mu + 0.004 DHDPS_mRNA_c + 31.0 ala__L_c + 13.0 arg__L_c + 13.0 asn__L_c + 17.0 asp__L_c + 292.0 atp_c + 5.0 cys__L_c + 8.0 gln__L_c + 14.0 glu__L_c + 23.0 gly_c + 584.0 gtp_c + 879.516 h2o_c + 9.0 his__L_c + 18.0 ile__L_c + 30.0 leu__L_c + 13.0 lys__L_c + 9.0 met__L_c + 7.0 phe__L_c + 13.0 pro__L_c + 0.00405555555555556*mu ribo_c + 15.0 ser__L_c + 23.0 thr__L_c + trp__L_c + 5.0 tyr__L_c + 25.0 val__L_c --> DHDPS_E_c + 292.0 adp_c + 0.848 amp_c + 0.984 cmp_c + 584.0 gdp_c + 0.836 gmp_c + 876.0 h_c + 36.472 macro_mass_constraint_c + 876.0 pi_c + 0.848 ump_c\n",
      "8.2205976363e-10         2.22422174914e-08        mRNAS_ADK1               171.0 atp_c + 155.0 ctp_c + 179.0 gtp_c + 645.0 h2o_c + 140.0 utp_c --> ADK1_mRNA_c + 645.0 h_c + 323.068 macro_mass_constraint_c + 645.0 ppi_c\n",
      "6.14420933514e-08        6.1883984752e-08         abundance_HSDy_rever     mu HSDy_reverse_E_c + enzyme_capacity_HSDy_reverse_E_c --> delayed_abundance_HSDy_reverse_E_c\n",
      "-2.22625631361e-09       -2.22701749016e-08       dedt_PPND_E_c            PPND_E_c + 0.01 delayed_abundance_PPND_E_c <=> \n",
      "-3.63158260782e-09       8.39799235851e-07        dedt_PHETA1_reverse_     PHETA1_reverse_E_c + 0.01 delayed_abundance_PHETA1_reverse_E_c <=> \n",
      "-4.97148124941e-09       -2.2247133079e-06        dedt_FBA_E_c             FBA_E_c + 0.01 delayed_abundance_FBA_E_c <=> \n",
      "0.0                      2.17973119957e-07        abundance_ATPS4r_E_c     mu ATPS4r_E_c + enzyme_capacity_ATPS4r_E_c --> delayed_abundance_ATPS4r_E_c\n",
      "4.03666416677e-10        -1.5528765191e-07        dedt_ASPTA_reverse_E     ASPTA_reverse_E_c + 0.01 delayed_abundance_ASPTA_reverse_E_c <=> \n",
      "9.01406905357e-08        9.39076138569e-08        abundance_ACGK_E_c       mu ACGK_E_c + enzyme_capacity_ACGK_E_c --> delayed_abundance_ACGK_E_c\n",
      "6.29599833824e-10        2.46828662418e-09        mRNAS_SUCOAS             504.0 atp_c + 515.0 ctp_c + 587.0 gtp_c + 2037.0 h2o_c + 431.0 utp_c --> SUCOAS_mRNA_c + 2037.0 h_c + 1020.2854 macro_mass_constraint_c + 2037.0 ppi_c\n",
      "5.10246003145e-10        2.44906866937e-09        mRNAS_SHKK               118.0 atp_c + 142.0 ctp_c + 115.0 gtp_c + 522.0 h2o_c + 147.0 utp_c --> SHKK_mRNA_c + 522.0 h_c + 259.8094 macro_mass_constraint_c + 522.0 ppi_c\n",
      "2.06352460596e-10        2.75709102087e-10        mRNAS_METS               882.0 atp_c + 978.0 ctp_c + 1079.0 gtp_c + 3684.0 h2o_c + 745.0 utp_c --> METS_mRNA_c + 3684.0 h_c + 1845.1818 macro_mass_constraint_c + 3684.0 ppi_c\n",
      "0.0210929215854          0.0219743816425          ARGSL                    argsuc_c --> arg__L_c + 4.2735042735e-06 enzyme_capacity_ARGSL_E_c + fum_c\n",
      "6.04947535211e-08        8.19328770878e-07        ES_GLU5K                 0.000333333333333333*mu + 0.004 GLU5K_mRNA_c + 45.0 ala__L_c + 26.0 arg__L_c + 13.0 asn__L_c + 24.0 asp__L_c + 367.0 atp_c + 3.0 cys__L_c + 13.0 gln__L_c + 18.0 glu__L_c + 37.0 gly_c + 734.0 gtp_c + 1105.416 h2o_c + 10.0 his__L_c + 31.0 ile__L_c + 39.0 leu__L_c + 11.0 lys__L_c + 6.0 met__L_c + 5.0 phe__L_c + 11.0 pro__L_c + 0.00509722222222222*mu ribo_c + 22.0 ser__L_c + 19.0 thr__L_c + 2.0 trp__L_c + 7.0 tyr__L_c + 25.0 val__L_c --> GLU5K_E_c + 367.0 adp_c + 0.972 amp_c + 1.18 cmp_c + 734.0 gdp_c + 1.304 gmp_c + 1101.0 h_c + 45.6 macro_mass_constraint_c + 1101.0 pi_c + 0.96 ump_c\n",
      "0.0210929215854          0.0219743816425          ARGSS                    asp__L_c + atp_c + citr__L_c --> amp_c + argsuc_c + 4.2735042735e-06 enzyme_capacity_ARGSS_E_c + h_c + ppi_c\n",
      "1.19161728663e-07        5.91422333657e-07        ES_DHQS                  0.000333333333333333*mu + 0.004 DHQS_mRNA_c + 39.0 ala__L_c + 20.0 arg__L_c + 11.0 asn__L_c + 15.0 asp__L_c + 362.0 atp_c + 5.0 cys__L_c + 12.0 gln__L_c + 24.0 glu__L_c + 34.0 gly_c + 724.0 gtp_c + 1090.356 h2o_c + 7.0 his__L_c + 16.0 ile__L_c + 49.0 leu__L_c + 13.0 lys__L_c + 10.0 met__L_c + 10.0 phe__L_c + 16.0 pro__L_c + 0.00502777777777778*mu ribo_c + 20.0 ser__L_c + 18.0 thr__L_c + 2.0 trp__L_c + 9.0 tyr__L_c + 32.0 val__L_c --> DHQS_E_c + 362.0 adp_c + 1.104 amp_c + 1.3 cmp_c + 724.0 gdp_c + 1.06 gmp_c + 1086.0 h_c + 45.334 macro_mass_constraint_c + 1086.0 pi_c + 0.892 ump_c\n",
      "2.4487658915e-06         2.46910450914e-06        abundance_CPLX0-7760     mu CPLX0-7760_mod_4fe4s + enzyme_capacity_CPLX0-7760_mod_4fe4s --> delayed_abundance_CPLX0-7760_mod_4fe4s\n",
      "-2.39568068855e-09       -1.63677409207e-08       dedt_IMPC_reverse_E_     IMPC_reverse_E_c + 0.01 delayed_abundance_IMPC_reverse_E_c <=> \n",
      "-2.39568068855e-09       -1.63677409207e-08       dedt_HSTPT_E_c           HSTPT_E_c + 0.01 delayed_abundance_HSTPT_E_c <=> \n",
      "3.11483632297e-10        1.7098290589e-09         mRNAS_AGPR_reverse       226.0 atp_c + 260.0 ctp_c + 278.0 gtp_c + 1005.0 h2o_c + 241.0 utp_c --> AGPR_reverse_mRNA_c + 1005.0 h_c + 502.401 macro_mass_constraint_c + 1005.0 ppi_c\n",
      "1.03685710354e-06        1.54024468724e-06        ES_CS                    0.000333333333333333*mu + 0.004 CS_mRNA_c + 37.0 ala__L_c + 24.0 arg__L_c + 17.0 asn__L_c + 27.0 asp__L_c + 427.0 atp_c + 7.0 cys__L_c + 8.0 gln__L_c + 26.0 glu__L_c + 28.0 gly_c + 854.0 gtp_c + 1286.136 h2o_c + 15.0 his__L_c + 28.0 ile__L_c + 35.0 leu__L_c + 23.0 lys__L_c + 19.0 met__L_c + 22.0 phe__L_c + 19.0 pro__L_c + 0.00593055555555556*mu ribo_c + 25.0 ser__L_c + 28.0 thr__L_c + 3.0 trp__L_c + 16.0 tyr__L_c + 20.0 val__L_c --> CS_E_c + 427.0 adp_c + 1.28 amp_c + 1.264 cmp_c + 854.0 gdp_c + 1.34 gmp_c + 1281.0 h_c + 55.628 macro_mass_constraint_c + 1281.0 pi_c + 1.252 ump_c\n",
      "0.0181249419444          0.0185817568327          BPNT                     h2o_c + pap_c --> amp_c + pi_c\n",
      "-3.5055669322e-09        3.73186765184e-07        dedt_ACGK_E_c            ACGK_E_c + 0.01 delayed_abundance_ACGK_E_c <=> \n",
      "-9.16037800463e-09       5.25002076995e-07        dedt_CHORS_E_c           CHORS_E_c + 0.01 delayed_abundance_CHORS_E_c <=> \n",
      "2.93433504314e-09        -4.36677087824e-08       dedt_ADEt2r_reverse_     ADEt2r_reverse_E_c + 0.01 delayed_abundance_ADEt2r_reverse_E_c <=> \n",
      "2.21968247639e-07        2.35571816009e-07        abundance_THRAr_reve     mu THRAr_reverse_E_c + enzyme_capacity_THRAr_reverse_E_c --> delayed_abundance_THRAr_reverse_E_c\n",
      "1.19161728663e-07        5.91422333657e-07        ES_SHKK                  0.000333333333333333*mu + 0.004 SHKK_mRNA_c + 12.0 ala__L_c + 15.0 arg__L_c + 8.0 asn__L_c + 9.0 asp__L_c + 173.0 atp_c + 9.0 gln__L_c + 21.0 glu__L_c + 13.0 gly_c + 346.0 gtp_c + 521.088 h2o_c + 2.0 his__L_c + 10.0 ile__L_c + 15.0 leu__L_c + 10.0 lys__L_c + 4.0 met__L_c + 4.0 phe__L_c + 5.0 pro__L_c + 0.00240277777777778*mu ribo_c + 7.0 ser__L_c + 11.0 thr__L_c + trp__L_c + 3.0 tyr__L_c + 14.0 val__L_c --> SHKK_E_c + 173.0 adp_c + 0.472 amp_c + 0.568 cmp_c + 346.0 gdp_c + 0.46 gmp_c + 519.0 h_c + 22.612 macro_mass_constraint_c + 519.0 pi_c + 0.588 ump_c\n",
      "1.47035359615e-07        5.9606325199e-07         ES_ASAD_reverse          0.000333333333333333*mu + 0.004 ASAD_reverse_mRNA_c + 30.0 ala__L_c + 21.0 arg__L_c + 14.0 asn__L_c + 23.0 asp__L_c + 367.0 atp_c + 4.0 cys__L_c + 15.0 gln__L_c + 18.0 glu__L_c + 35.0 gly_c + 734.0 gtp_c + 1105.416 h2o_c + 5.0 his__L_c + 20.0 ile__L_c + 41.0 leu__L_c + 13.0 lys__L_c + 12.0 met__L_c + 12.0 phe__L_c + 16.0 pro__L_c + 0.00509722222222222*mu ribo_c + 21.0 ser__L_c + 26.0 thr__L_c + 8.0 trp__L_c + 5.0 tyr__L_c + 28.0 val__L_c --> ASAD_reverse_E_c + 367.0 adp_c + 1.068 amp_c + 1.252 cmp_c + 734.0 gdp_c + 1.14 gmp_c + 1101.0 h_c + 46.56 macro_mass_constraint_c + 1101.0 pi_c + 0.956 ump_c\n",
      "1.68213772522e-10        -1.85860841299e-08       dedt_ORPT_reverse_E_     ORPT_reverse_E_c + 0.01 delayed_abundance_ORPT_reverse_E_c <=> \n",
      "0.286505609305           0.288885227569           ACONTb_CPLX0-7760_mo     acon__C_c + h2o_c --> 4.2735042735e-06 enzyme_capacity_CPLX0-7760_mod_4fe4s + icit_c\n",
      "9.88442600927e-08        5.2948262785e-07         ES_THDPS                 0.000333333333333333*mu + 0.004 THDPS_mRNA_c + 24.0 ala__L_c + 16.0 arg__L_c + 12.0 asn__L_c + 14.0 asp__L_c + 274.0 atp_c + 3.0 cys__L_c + 12.0 gln__L_c + 19.0 glu__L_c + 26.0 gly_c + 548.0 gtp_c + 825.3 h2o_c + 3.0 his__L_c + 22.0 ile__L_c + 15.0 leu__L_c + 13.0 lys__L_c + 5.0 met__L_c + 8.0 phe__L_c + 9.0 pro__L_c + 0.00380555555555556*mu ribo_c + 14.0 ser__L_c + 14.0 thr__L_c + 3.0 trp__L_c + 9.0 tyr__L_c + 33.0 val__L_c --> THDPS_E_c + 274.0 adp_c + 0.752 amp_c + 0.936 cmp_c + 548.0 gdp_c + 0.816 gmp_c + 822.0 h_c + 34.772 macro_mass_constraint_c + 822.0 pi_c + 0.796 ump_c\n",
      "-3.63158260782e-09       8.39799235851e-07        dedt_PPNDH_E_c           PPNDH_E_c + 0.01 delayed_abundance_PPNDH_E_c <=> \n",
      "-3.96957383873e-09       6.59087096766e-06        dedt_3-ISOPROPYLMALI     3-ISOPROPYLMALISOM-CPLX_mod_4fe4s + 0.01 delayed_abundance_3-ISOPROPYLMALISOM-CPLX_mod_4fe4s <=> \n",
      "1.21912604975e-07        1.29682960718e-07        abundance_ILETA_reve     mu ILETA_reverse_E_c + enzyme_capacity_ILETA_reverse_E_c --> delayed_abundance_ILETA_reverse_E_c\n",
      "1.07223960433e-09        1.10918230348e-08        mRNAS_FTHFD              228.0 atp_c + 206.0 ctp_c + 192.0 gtp_c + 843.0 h2o_c + 217.0 utp_c --> FTHFD_mRNA_c + 843.0 h_c + 420.7066 macro_mass_constraint_c + 843.0 ppi_c\n",
      "0.0143774498442          0.014480852432           HSDy_reverse             aspsa_c + h_c + nadph_c --> 4.2735042735e-06 enzyme_capacity_HSDy_reverse_E_c + hom__L_c + nadp_c\n",
      "1.90472975692            2.13821904272            H2Ot_reverse             h2o_c --> h2o_e          \n",
      "-3.5055669322e-09        3.73186765184e-07        dedt_AGPR_reverse_E_     AGPR_reverse_E_c + 0.01 delayed_abundance_AGPR_reverse_E_c <=> \n",
      "-2.39568068855e-09       -1.63677409207e-08       dedt_PRAMPC_E_c          PRAMPC_E_c + 0.01 delayed_abundance_PRAMPC_E_c <=> \n",
      "-2.39568068855e-09       -1.63677409207e-08       dedt_PUNP5_E_c           PUNP5_E_c + 0.01 delayed_abundance_PUNP5_E_c <=> \n",
      "6.15943060614e-08        2.24880101469e-07        ES_PAPSR                 0.000333333333333333*mu + 0.004 PAPSR_mRNA_c + 19.0 ala__L_c + 15.0 arg__L_c + 12.0 asn__L_c + 13.0 asp__L_c + 244.0 atp_c + cys__L_c + 9.0 gln__L_c + 23.0 glu__L_c + 17.0 gly_c + 488.0 gtp_c + 734.94 h2o_c + 5.0 his__L_c + 12.0 ile__L_c + 32.0 leu__L_c + 15.0 lys__L_c + 3.0 met__L_c + 7.0 phe__L_c + 10.0 pro__L_c + 0.00338888888888889*mu ribo_c + 9.0 ser__L_c + 12.0 thr__L_c + 7.0 trp__L_c + 10.0 tyr__L_c + 13.0 val__L_c --> PAPSR_E_c + 244.0 adp_c + 0.632 amp_c + 0.792 cmp_c + 488.0 gdp_c + 0.7 gmp_c + 732.0 h_c + 32.318 macro_mass_constraint_c + 732.0 pi_c + 0.816 ump_c\n",
      "-3.5055669322e-09        3.73186765184e-07        dedt_ACGS_E_c            ACGS_E_c + 0.01 delayed_abundance_ACGS_E_c <=> \n",
      "1.92187965258e-08        -2.68016251882e-06       dedt_PYK_E_c             PYK_E_c + 0.01 delayed_abundance_PYK_E_c <=> \n",
      "-3.92551795072e-09       1.91294519754e-07        dedt_SULabc_E_c          SULabc_E_c + 0.01 delayed_abundance_SULabc_E_c <=> \n",
      "1.73654889219e-07        2.06629091927e-07        abundance_IPMD_E_c       mu IPMD_E_c + enzyme_capacity_IPMD_E_c --> delayed_abundance_IPMD_E_c\n",
      "5.53039710747e-07        5.96607060455e-07        abundance_PSP_L_E_c      mu PSP_L_E_c + enzyme_capacity_PSP_L_E_c --> delayed_abundance_PSP_L_E_c\n",
      "1.16842890574e-09        1.01809931077e-06        dedt_CS_E_c              CS_E_c + 0.01 delayed_abundance_CS_E_c <=> \n",
      "3.3513210576e-08         -4.89134832923e-06       dedt_RIBULP3EPIM-MON     RIBULP3EPIM-MONOMER_mod_fe2 + 0.01 delayed_abundance_RIBULP3EPIM-MONOMER_mod_fe2 <=> \n",
      "2.06352460596e-10        2.75709102087e-10        mRNAS_MTHFR2             213.0 atp_c + 212.0 ctp_c + 250.0 gtp_c + 891.0 h2o_c + 216.0 utp_c --> MTHFR2_mRNA_c + 891.0 h_c + 445.8592 macro_mass_constraint_c + 891.0 ppi_c\n",
      "1.29360585193e-08        1.94283397842e-07        mRNAS_NDPK1              108.0 atp_c + 112.0 ctp_c + 114.0 gtp_c + 432.0 h2o_c + 98.0 utp_c --> NDPK1_mRNA_c + 432.0 h_c + 215.9924 macro_mass_constraint_c + 432.0 ppi_c\n",
      "1.97605721231e-11        3.73366239418e-10        mRNAS_NDPK3              108.0 atp_c + 112.0 ctp_c + 114.0 gtp_c + 432.0 h2o_c + 98.0 utp_c --> NDPK3_mRNA_c + 432.0 h_c + 215.9924 macro_mass_constraint_c + 432.0 ppi_c\n",
      "-1.98478691936e-09       3.29543548383e-06        dedt_LEUTAi_E_c          LEUTAi_E_c + 0.01 delayed_abundance_LEUTAi_E_c <=> \n",
      "7.7051185311e-08         8.54854934956e-08        abundance_PHETA1_rev     mu PHETA1_reverse_E_c + enzyme_capacity_PHETA1_reverse_E_c --> delayed_abundance_PHETA1_reverse_E_c\n",
      "1.13165118883e-05        1.18027542149e-05        abundance_PIt2r_E_c      mu PIt2r_E_c + enzyme_capacity_PIt2r_E_c --> delayed_abundance_PIt2r_E_c\n",
      "0.0143774498442          0.014480852432           HSST                     hom__L_c + succoa_c --> coa_c + 4.2735042735e-06 enzyme_capacity_HSST_E_c + suchms_c\n",
      "-3.92551795072e-09       1.91294519754e-07        dedt_SADT2_E_c           SADT2_E_c + 0.01 delayed_abundance_SADT2_E_c <=> \n",
      "2.02707345476e-10        2.06796799178e-07        dedt_ASNS2_E_c           ASNS2_E_c + 0.01 delayed_abundance_ASNS2_E_c <=> \n",
      "6.14420933514e-08        6.1883984752e-08         abundance_HSST_E_c       mu HSST_E_c + enzyme_capacity_HSST_E_c --> delayed_abundance_HSST_E_c\n",
      "-3.30253908321e-09       -9.19292273864e-09       dedt_PRAIi_E_c           PRAIi_E_c + 0.01 delayed_abundance_PRAIi_E_c <=> \n",
      "7.74570168565e-08        7.94092172336e-08        abundance_SULabc_E_c     mu SULabc_E_c + enzyme_capacity_SULabc_E_c --> delayed_abundance_SULabc_E_c\n",
      "1.01876364857e-07        8.30636260648e-07        formation_THREODEHYD     THRD_L_E_c + fe2_c --> THREODEHYD-CPLX_mod_fe2\n"
     ]
    }
   ],
   "source": [
    "print '%-25.20s%-25.20s%-25.20s%-25s' % ('Flux (opt)', 'Flux (low mu)', 'rxn', 'reaction')\n",
    "for rid in x_dict_max.keys():\n",
    "    v1 = x_dict_max[rid]\n",
    "    v2 = x_dict_opt2[rid]\n",
    "    #if abs(v2-v1) > 1e-12:\n",
    "    if abs(v2) - abs(v1) > 1e-12:\n",
    "        rxn = dme.reactions.get_by_id(rid)\n",
    "        print '%-25.20s%-25.20s%-25.20s%-25s' % (v1,v2, rid, rxn.reaction)"
   ]
  },
  {
   "cell_type": "markdown",
   "metadata": {},
   "source": [
    "# Test 4: given a long enough time horizon, should be able to reach higher-growth proteome starting from slow proteome"
   ]
  },
  {
   "cell_type": "code",
   "execution_count": 11,
   "metadata": {
    "collapsed": false
   },
   "outputs": [
    {
     "name": "stdout",
     "output_type": "stream",
     "text": [
      "optimal for growth= 0.422943115234\n"
     ]
    }
   ],
   "source": [
    "### Need to get a slow-growth proteome separately\n",
    "mu_slow = mu_me*0.5\n",
    "x2,stat2,hs2 = solver.solvelp(mu_slow, basis=solver.lp_hs)\n",
    "print stat2, 'for growth=',mu_slow\n",
    "cplx_concs_slow = get_cplx_concs(solver)"
   ]
  },
  {
   "cell_type": "code",
   "execution_count": 12,
   "metadata": {
    "collapsed": false
   },
   "outputs": [
    {
     "name": "stdout",
     "output_type": "stream",
     "text": [
      "optimal\n",
      "CPU times: user 2.16 s, sys: 10 ms, total: 2.17 s\n",
      "Wall time: 2.16 s\n"
     ]
    }
   ],
   "source": [
    "%%time\n",
    "\n",
    "### First make sure we can grow at slow proteome\n",
    "dyme.delay_model.update_cplx_concs(cplx_concs_slow)\n",
    "dyme.delay_model.update_horizon(0.1)\n",
    "x,stat,hs = dsolver.solvelp(mu_slow)\n",
    "print stat\n",
    "x_dict_slow = dict(dsolver.me.solution.x_dict)"
   ]
  },
  {
   "cell_type": "code",
   "execution_count": 13,
   "metadata": {
    "collapsed": false
   },
   "outputs": [
    {
     "name": "stdout",
     "output_type": "stream",
     "text": [
      "optimal\n"
     ]
    }
   ],
   "source": [
    "### Try to grow faster starting from slower proteome\n",
    "dyme.delay_model.update_horizon(0.01)\n",
    "x,stat,hs = dsolver.solvelp( mu_slow + (mu_me-mu_slow)*1 )\n",
    "print stat"
   ]
  },
  {
   "cell_type": "code",
   "execution_count": 14,
   "metadata": {
    "collapsed": false
   },
   "outputs": [
    {
     "name": "stdout",
     "output_type": "stream",
     "text": [
      "optimal\n"
     ]
    }
   ],
   "source": [
    "### Might be feasible\n",
    "dyme.delay_model.update_horizon(1)\n",
    "x,stat,hs = dsolver.solvelp( mu_slow + (mu_me-mu_slow)*1 )\n",
    "print stat"
   ]
  },
  {
   "cell_type": "markdown",
   "metadata": {},
   "source": [
    "## Plot slow & fast-growth proteomes"
   ]
  },
  {
   "cell_type": "code",
   "execution_count": 15,
   "metadata": {
    "collapsed": false
   },
   "outputs": [],
   "source": [
    "import pandas as pd\n",
    "\n",
    "df_prot1 = pd.DataFrame([{'cplx':met.id.replace('delayed_abundance_',''), 'v':met._bound} for met in dsolver.me.metabolites.query('delayed_abundance')])\n",
    "df_prot1.loc[:,'type'] = 'slow'"
   ]
  },
  {
   "cell_type": "code",
   "execution_count": 16,
   "metadata": {
    "collapsed": false
   },
   "outputs": [],
   "source": [
    "df_prot2 = pd.DataFrame([{'cplx':rxn.id.replace('abundance_',''), 'v':rxn.x} for rxn in dsolver.me.reactions.query('abundance_')])\n",
    "df_prot2.loc[:,'type'] = 'fast'"
   ]
  },
  {
   "cell_type": "code",
   "execution_count": 18,
   "metadata": {
    "collapsed": false,
    "deletable": true,
    "editable": true
   },
   "outputs": [
    {
     "name": "stderr",
     "output_type": "stream",
     "text": [
      "/usr/lib/python2.7/site-packages/ipykernel/__main__.py:9 \u001b[1;31mRuntimeWarning\u001b[0m: invalid value encountered in log2\n"
     ]
    },
    {
     "data": {
      "text/plain": [
       "(array([ 22.,  69.,  45.,  14.,   0.,   0.,   0.,   0.,   0.,   1.]),\n",
       " array([-0.88431364, -0.39497925,  0.09435514,  0.58368953,  1.07302392,\n",
       "         1.56235831,  2.0516927 ,  2.54102709,  3.03036148,  3.51969587,\n",
       "         4.00903026]),\n",
       " <a list of 10 Patch objects>)"
      ]
     },
     "execution_count": 18,
     "metadata": {},
     "output_type": "execute_result"
    },
    {
     "data": {
      "image/png": "[encoded data removed]",
      "text/plain": [
       "<matplotlib.figure.Figure at 0x7f406dc76090>"
      ]
     },
     "metadata": {},
     "output_type": "display_data"
    }
   ],
   "source": [
    "%matplotlib inline\n",
    "import numpy as np\n",
    "import seaborn as sns\n",
    "\n",
    "### Check prots that changed the most\n",
    "df_val = pd.merge(df_prot1, df_prot2, on='cplx')\n",
    "df_val.loc[:,'dv'] = df_val.v_y - df_val.v_x\n",
    "df_val.loc[:,'f_dv'] = df_val.dv / df_val.v_x\n",
    "df_val.loc[:,'l2fc'] = np.log2(df_val.v_y / df_val.v_x)\n",
    "\n",
    "sns.plt.hist(df_val.l2fc[ (~df_val.l2fc.isnull()) & (df_val.l2fc < np.inf)])"
   ]
  },
  {
   "cell_type": "code",
   "execution_count": 19,
   "metadata": {
    "collapsed": false
   },
   "outputs": [
    {
     "name": "stdout",
     "output_type": "stream",
     "text": [
      "44\n"
     ]
    }
   ],
   "source": [
    "df_val[ df_val.l2fc.abs() >= 1].shape\n",
    "cplxs_changed = df_val[ df_val.l2fc.abs() >= 1]['cplx'].unique()\n",
    "print len(cplxs_changed)"
   ]
  },
  {
   "cell_type": "code",
   "execution_count": 20,
   "metadata": {
    "collapsed": false,
    "deletable": true,
    "editable": true
   },
   "outputs": [
    {
     "name": "stderr",
     "output_type": "stream",
     "text": [
      "/usr/lib/python2.7/site-packages/pandas/core/indexing.py:337 \u001b[1;31mSettingWithCopyWarning\u001b[0m: \n",
      "A value is trying to be set on a copy of a slice from a DataFrame.\n",
      "Try using .loc[row_indexer,col_indexer] = value instead\n",
      "\n",
      "See the caveats in the documentation: http://pandas.pydata.org/pandas-docs/stable/indexing.html#indexing-view-versus-copy\n",
      "/usr/lib/python2.7/site-packages/pandas/core/indexing.py:517 \u001b[1;31mSettingWithCopyWarning\u001b[0m: \n",
      "A value is trying to be set on a copy of a slice from a DataFrame.\n",
      "Try using .loc[row_indexer,col_indexer] = value instead\n",
      "\n",
      "See the caveats in the documentation: http://pandas.pydata.org/pandas-docs/stable/indexing.html#indexing-view-versus-copy\n"
     ]
    }
   ],
   "source": [
    "dsplot = pd.concat([df_prot1, df_prot2])\n",
    "dsplot2 = dsplot[ dsplot.cplx.isin(cplxs_changed)]\n",
    "dsplot2.loc[:,'group'] = 'DelayME'"
   ]
  },
  {
   "cell_type": "code",
   "execution_count": 21,
   "metadata": {
    "collapsed": false
   },
   "outputs": [
    {
     "data": {
      "text/html": [
       "<div>\n",
       "<style>\n",
       "    .dataframe thead tr:only-child th {\n",
       "        text-align: right;\n",
       "    }\n",
       "\n",
       "    .dataframe thead th {\n",
       "        text-align: left;\n",
       "    }\n",
       "\n",
       "    .dataframe tbody tr th {\n",
       "        vertical-align: top;\n",
       "    }\n",
       "</style>\n",
       "<table border=\"1\" class=\"dataframe\">\n",
       "  <thead>\n",
       "    <tr style=\"text-align: right;\">\n",
       "      <th></th>\n",
       "      <th>cplx</th>\n",
       "      <th>v</th>\n",
       "      <th>type</th>\n",
       "      <th>group</th>\n",
       "    </tr>\n",
       "  </thead>\n",
       "  <tbody>\n",
       "    <tr>\n",
       "      <th>8</th>\n",
       "      <td>NTD11_E_c</td>\n",
       "      <td>0.0</td>\n",
       "      <td>slow</td>\n",
       "      <td>DelayME</td>\n",
       "    </tr>\n",
       "    <tr>\n",
       "      <th>57</th>\n",
       "      <td>ASPTA_E_c</td>\n",
       "      <td>0.0</td>\n",
       "      <td>slow</td>\n",
       "      <td>DelayME</td>\n",
       "    </tr>\n",
       "  </tbody>\n",
       "</table>\n",
       "</div>"
      ],
      "text/plain": [
       "         cplx    v  type    group\n",
       "8   NTD11_E_c  0.0  slow  DelayME\n",
       "57  ASPTA_E_c  0.0  slow  DelayME"
      ]
     },
     "execution_count": 21,
     "metadata": {},
     "output_type": "execute_result"
    }
   ],
   "source": [
    "dsplot2.head(2)"
   ]
  },
  {
   "cell_type": "code",
   "execution_count": 22,
   "metadata": {
    "collapsed": false
   },
   "outputs": [
    {
     "data": {
      "text/html": [
       "<div>\n",
       "<style>\n",
       "    .dataframe thead tr:only-child th {\n",
       "        text-align: right;\n",
       "    }\n",
       "\n",
       "    .dataframe thead th {\n",
       "        text-align: left;\n",
       "    }\n",
       "\n",
       "    .dataframe tbody tr th {\n",
       "        vertical-align: top;\n",
       "    }\n",
       "</style>\n",
       "<table border=\"1\" class=\"dataframe\">\n",
       "  <thead>\n",
       "    <tr style=\"text-align: right;\">\n",
       "      <th></th>\n",
       "      <th>cplx</th>\n",
       "      <th>v</th>\n",
       "      <th>type</th>\n",
       "      <th>group</th>\n",
       "    </tr>\n",
       "  </thead>\n",
       "  <tbody>\n",
       "    <tr>\n",
       "      <th>521</th>\n",
       "      <td>SERD_L_E_c</td>\n",
       "      <td>541.745197</td>\n",
       "      <td>fast</td>\n",
       "      <td>DelayME</td>\n",
       "    </tr>\n",
       "  </tbody>\n",
       "</table>\n",
       "</div>"
      ],
      "text/plain": [
       "           cplx           v  type    group\n",
       "521  SERD_L_E_c  541.745197  fast  DelayME"
      ]
     },
     "execution_count": 22,
     "metadata": {},
     "output_type": "execute_result"
    }
   ],
   "source": [
    "dsplot2[ dsplot2.v == dsplot2.v.max()]"
   ]
  },
  {
   "cell_type": "code",
   "execution_count": 23,
   "metadata": {
    "collapsed": false
   },
   "outputs": [
    {
     "data": {
      "text/html": [
       "<div>\n",
       "<style>\n",
       "    .dataframe thead tr:only-child th {\n",
       "        text-align: right;\n",
       "    }\n",
       "\n",
       "    .dataframe thead th {\n",
       "        text-align: left;\n",
       "    }\n",
       "\n",
       "    .dataframe tbody tr th {\n",
       "        vertical-align: top;\n",
       "    }\n",
       "</style>\n",
       "<table border=\"1\" class=\"dataframe\">\n",
       "  <thead>\n",
       "    <tr style=\"text-align: right;\">\n",
       "      <th></th>\n",
       "      <th>cplx</th>\n",
       "      <th>v</th>\n",
       "      <th>type</th>\n",
       "      <th>group</th>\n",
       "    </tr>\n",
       "  </thead>\n",
       "  <tbody>\n",
       "    <tr>\n",
       "      <th>246</th>\n",
       "      <td>SERD_L_E_c</td>\n",
       "      <td>0.000000</td>\n",
       "      <td>slow</td>\n",
       "      <td>DelayME</td>\n",
       "    </tr>\n",
       "    <tr>\n",
       "      <th>521</th>\n",
       "      <td>SERD_L_E_c</td>\n",
       "      <td>541.745197</td>\n",
       "      <td>fast</td>\n",
       "      <td>DelayME</td>\n",
       "    </tr>\n",
       "  </tbody>\n",
       "</table>\n",
       "</div>"
      ],
      "text/plain": [
       "           cplx           v  type    group\n",
       "246  SERD_L_E_c    0.000000  slow  DelayME\n",
       "521  SERD_L_E_c  541.745197  fast  DelayME"
      ]
     },
     "execution_count": 23,
     "metadata": {},
     "output_type": "execute_result"
    }
   ],
   "source": [
    "dsplot2[ dsplot2.cplx=='SERD_L_E_c']"
   ]
  },
  {
   "cell_type": "code",
   "execution_count": 24,
   "metadata": {
    "collapsed": false
   },
   "outputs": [
    {
     "data": {
      "text/plain": [
       "'mu SERD_L_E_c + enzyme_capacity_SERD_L_E_c --> delayed_abundance_SERD_L_E_c'"
      ]
     },
     "execution_count": 24,
     "metadata": {},
     "output_type": "execute_result"
    }
   ],
   "source": [
    "dsolver.me.reactions.abundance_SERD_L_E_c.reaction"
   ]
  },
  {
   "cell_type": "code",
   "execution_count": 25,
   "metadata": {
    "collapsed": false
   },
   "outputs": [
    {
     "name": "stdout",
     "output_type": "stream",
     "text": [
      "dedt_SERD_L_E_c : SERD_L_E_c + delayed_abundance_SERD_L_E_c <=> \n",
      "v: 541.745197236\n",
      "ES_SERD_L : 0.000333333333333333*mu + 0.004 SERD_L_mRNA_c --> SERD_L_E_c\n",
      "v: 1000.0\n",
      "abundance_SERD_L_E_c : mu SERD_L_E_c + enzyme_capacity_SERD_L_E_c --> delayed_abundance_SERD_L_E_c\n",
      "v: 541.745197236\n"
     ]
    }
   ],
   "source": [
    "print dsolver.me.reactions.dedt_SERD_L_E_c.id, ':', dsolver.me.reactions.dedt_SERD_L_E_c.reaction\n",
    "print 'v:', dsolver.me.reactions.dedt_SERD_L_E_c.x\n",
    "print dsolver.me.reactions.ES_SERD_L.id,':', dsolver.me.reactions.ES_SERD_L.reaction\n",
    "print 'v:', dsolver.me.reactions.ES_SERD_L.x\n",
    "rxn = dsolver.me.reactions.abundance_SERD_L_E_c\n",
    "print rxn.id, ':', rxn.reaction\n",
    "print 'v:', rxn.x"
   ]
  },
  {
   "cell_type": "code",
   "execution_count": 26,
   "metadata": {
    "collapsed": false
   },
   "outputs": [
    {
     "data": {
      "text/plain": [
       "frozenset({<ComplexFormation formation_LSERINEDEAM1-MONOMER_mod_4fe4s at 0x7f406dd4ead0>,\n",
       "           <ComplexFormation formation_CPLX0-7622_mod_4fe4s at 0x7f406dd4edd0>,\n",
       "           <ComplexFormation formation_LSERINEDEAM2-MONOMER_mod_4fe4s at 0x7f406dd57210>,\n",
       "           <ProteinAbundance abundance_SERD_L_E_c at 0x7f406f06cc10>,\n",
       "           <ProteinDifferential dedt_SERD_L_E_c at 0x7f406e48dc10>,\n",
       "           <TranslationReaction ES_SERD_L at 0x7f406e2a7a50>})"
      ]
     },
     "execution_count": 26,
     "metadata": {},
     "output_type": "execute_result"
    }
   ],
   "source": [
    "dsolver.me.metabolites.SERD_L_E_c.reactions"
   ]
  },
  {
   "cell_type": "code",
   "execution_count": 27,
   "metadata": {
    "collapsed": false
   },
   "outputs": [
    {
     "data": {
      "text/plain": [
       "<seaborn.axisgrid.FacetGrid at 0x7f406e2f8710>"
      ]
     },
     "execution_count": 27,
     "metadata": {},
     "output_type": "execute_result"
    },
    {
     "data": {
      "image/png": "[encoded data removed]",
      "text/plain": [
       "<matplotlib.figure.Figure at 0x7f406e2f8590>"
      ]
     },
     "metadata": {},
     "output_type": "display_data"
    }
   ],
   "source": [
    "from stressme.plot import stacked_bar\n",
    "\n",
    "stacked_bar('type', 'v', dsplot2, 'cplx', 'group')"
   ]
  },
  {
   "cell_type": "markdown",
   "metadata": {},
   "source": [
    "# Test 5: for a shorter time horizon, there may not be a faster proteome in the vicinity of the initial proteome\n",
    "1. meaning the initial proteome will be kept indefinitely until conditions change, forcing slower growth\n",
    "1. Also implies that short-term greedy growth maximization strategy won't always work under environmental changes\n",
    "1. This is why regulation is needed to force short-term growth decrease to build up a better proteome that pays off after an adjustment time (lag, diauxie)"
   ]
  },
  {
   "cell_type": "markdown",
   "metadata": {},
   "source": []
  },
  {
   "cell_type": "code",
   "execution_count": null,
   "metadata": {
    "collapsed": true
   },
   "outputs": [],
   "source": []
  },
  {
   "cell_type": "markdown",
   "metadata": {},
   "source": [
    "## Preset bioreactor simulation"
   ]
  },
  {
   "cell_type": "code",
   "execution_count": 28,
   "metadata": {
    "collapsed": false
   },
   "outputs": [
    {
     "name": "stdout",
     "output_type": "stream",
     "text": [
      "{'ac_e': 0.0, 'glc__D_e': 2.220299442904667}\n",
      "{'EX_glc_e': -10.0, 'EX_ac_e': -10.0, 'EX_o2_e': -20.0}\n"
     ]
    },
    {
     "name": "stderr",
     "output_type": "stream",
     "text": [
      "/usr/lib/python2.7/site-packages/ipykernel/__main__.py:20 \u001b[1;31mUserWarning\u001b[0m: Model has no metabolite: glyc_e. Will remove it from c0_dict\n",
      "/usr/lib/python2.7/site-packages/ipykernel/__main__.py:20 \u001b[1;31mUserWarning\u001b[0m: Model has no metabolite: malt_e. Will remove it from c0_dict\n",
      "/usr/lib/python2.7/site-packages/ipykernel/__main__.py:20 \u001b[1;31mUserWarning\u001b[0m: Model has no metabolite: lac__L_e. Will remove it from c0_dict\n",
      "/usr/lib/python2.7/site-packages/ipykernel/__main__.py:20 \u001b[1;31mUserWarning\u001b[0m: Model has no metabolite: gal_e. Will remove it from c0_dict\n"
     ]
    }
   ],
   "source": [
    "import warnings\n",
    "\n",
    "T = 10   # hours\n",
    "V = 1.   # L\n",
    "X0 = 0.00675 / V  # g/L\n",
    "c0_dict = {'glc__D_e': 0.4,\n",
    "           'lac__L_e': 0.4,\n",
    "           'malt_e': 0.4,\n",
    "           'gal_e': 0.4,\n",
    "           'glyc_e':0.4,\n",
    "           'ac_e': 0.0}\n",
    "\n",
    "### Convert from g/L to mmol\n",
    "mids_remove = []\n",
    "for mid,c in c0_dict.iteritems():\n",
    "    try:        \n",
    "        met = me.metabolites.get_by_id(mid)    \n",
    "        c0_dict[met.id] = c / met.formula_weight * 1000\n",
    "    except KeyError:\n",
    "        warnings.warn('Model has no metabolite: %s. Will remove it from c0_dict' % mid)\n",
    "        mids_remove.append(mid)\n",
    "\n",
    "for mid in mids_remove:\n",
    "    c0_dict.pop(mid)\n",
    "        \n",
    "### Set max uptake rate\n",
    "LB_EX = -10.\n",
    "LB_O2 = -20.\n",
    "\n",
    "lb_dict={}\n",
    "ub_dict={}\n",
    "\n",
    "for mid in c0_dict.keys():\n",
    "    try:\n",
    "        rxn = dyme.get_exchange_rxn(mid)    \n",
    "        if rxn.id is 'EX_o2_e':\n",
    "            lb = LB_O2\n",
    "        else:\n",
    "            lb = LB_EX\n",
    "        rxn.lower_bound = lb\n",
    "        lb_dict[rxn.id] = lb\n",
    "    except KeyError:\n",
    "        warnings.warn('Model has no metabolite: '+ mid)\n",
    "\n",
    "me.reactions.EX_o2_e.lower_bound = -20.\n",
    "lb_dict[me.reactions.EX_o2_e.id] = -20.\n",
    "        \n",
    "print c0_dict\n",
    "print lb_dict"
   ]
  },
  {
   "cell_type": "markdown",
   "metadata": {},
   "source": [
    "### Seed with suboptimal proteome (slower growth on same substrate)"
   ]
  },
  {
   "cell_type": "code",
   "execution_count": 29,
   "metadata": {
    "collapsed": true
   },
   "outputs": [],
   "source": [
    "F_SUBOPT = 0.5"
   ]
  },
  {
   "cell_type": "code",
   "execution_count": 30,
   "metadata": {
    "collapsed": false
   },
   "outputs": [],
   "source": [
    "sol_sub = solver.solvelp(mu_me*F_SUBOPT, basis=solver.lp_hs)"
   ]
  },
  {
   "cell_type": "code",
   "execution_count": 31,
   "metadata": {
    "collapsed": true
   },
   "outputs": [],
   "source": [
    "cplx_concs = get_cplx_concs(solver)\n",
    "cplx_conc_dict0 = dict(cplx_concs)"
   ]
  },
  {
   "cell_type": "code",
   "execution_count": 32,
   "metadata": {
    "collapsed": false
   },
   "outputs": [
    {
     "data": {
      "text/plain": [
       "9.8355992365380607e-09"
      ]
     },
     "execution_count": 32,
     "metadata": {},
     "output_type": "execute_result"
    }
   ],
   "source": [
    "import numpy as np\n",
    "cvals = np.array(cplx_conc_dict0.values())\n",
    "cvals[ cvals>0].min()"
   ]
  },
  {
   "cell_type": "code",
   "execution_count": 33,
   "metadata": {
    "collapsed": true,
    "deletable": true,
    "editable": true
   },
   "outputs": [],
   "source": [
    "dyme = DelayedDynamicME(solver)"
   ]
  },
  {
   "cell_type": "code",
   "execution_count": 34,
   "metadata": {
    "collapsed": true
   },
   "outputs": [],
   "source": [
    "solver.set_realopts('lp', {'Feasibility tol':1e-15, 'Optimality tol':1e-15})"
   ]
  },
  {
   "cell_type": "code",
   "execution_count": 35,
   "metadata": {
    "collapsed": false
   },
   "outputs": [
    {
     "name": "stdout",
     "output_type": "stream",
     "text": [
      "DelayME: optimal at 0.422520172119\n",
      "CPU times: user 4.14 s, sys: 76.7 ms, total: 4.22 s\n",
      "Wall time: 4.17 s\n"
     ]
    }
   ],
   "source": [
    "%%time\n",
    "### Make sure it solves\n",
    "dyme.delay_model.update_horizon(0.05)\n",
    "delay_solver = dyme.delay_model.solver\n",
    "x,stat,hs = delay_solver.solvelp(mu_me*F_SUBOPT*0.999)\n",
    "dme = dyme.delay_model.mod_me\n",
    "MU0 = dme.reactions.biomass_dilution.x\n",
    "print 'DelayME:', stat, 'at', MU0"
   ]
  },
  {
   "cell_type": "markdown",
   "metadata": {},
   "source": [
    "### One thing's for sure: proteome history is a major constraint on re-allocation rate"
   ]
  },
  {
   "cell_type": "code",
   "execution_count": 36,
   "metadata": {
    "collapsed": true
   },
   "outputs": [],
   "source": [
    "if PROTOTYPE:\n",
    "    fluxes_plot = ['ACONTa_CPLX0-7760_mod_4fe4s', 'ACONTb_CPLX0-7760_mod_4fe4s', 'ACKr_reverse']\n",
    "else:\n",
    "    fluxes_plot = ['']"
   ]
  },
  {
   "cell_type": "code",
   "execution_count": 37,
   "metadata": {
    "collapsed": false,
    "scrolled": true
   },
   "outputs": [
    {
     "name": "stdout",
     "output_type": "stream",
     "text": [
      "Metabolite ac_e depleted.\n",
      "Metabolite glc__D_e available.\n",
      "Using default LB=-1000 for EX_glc_e\n",
      "Computing new uptake rates\n",
      "Biomass at t=0.5: 0.0134967\n",
      "Concentrations: {'ac_e': 0.00042816178016877754, 'glc__D_e': 2.1762205370119423}\n",
      "Growth rate: 1.9990234375\n",
      "Metabolite ac_e available.\n",
      "Using default LB=-1000 for EX_ac_e\n",
      "Metabolite glc__D_e available.\n",
      "Using default LB=-1000 for EX_glc_e\n",
      "Computing new uptake rates\n",
      "Biomass at t=1: 0.0269868\n",
      "Concentrations: {'ac_e': 0.0074435494894294603, 'glc__D_e': 2.1226207089582902}\n",
      "Growth rate: 1.9990234375\n",
      "Metabolite ac_e available.\n",
      "Using default LB=-1000 for EX_ac_e\n",
      "Metabolite glc__D_e available.\n",
      "Using default LB=-1000 for EX_glc_e\n",
      "Computing new uptake rates\n",
      "Biomass at t=1.5: 0.0539605\n",
      "Concentrations: {'ac_e': 0.03032763074080241, 'glc__D_e': 2.0638751851915096}\n",
      "Growth rate: 1.9990234375\n",
      "Metabolite ac_e available.\n",
      "Using default LB=-1000 for EX_ac_e\n",
      "Metabolite glc__D_e available.\n",
      "Using default LB=-1000 for EX_glc_e\n",
      "Computing new uptake rates\n",
      "Biomass at t=2: 0.0967231\n",
      "Concentrations: {'ac_e': 0.067340941992154402, 'glc__D_e': 2.0121176679829031}\n",
      "Growth rate: 1.5849609375\n",
      "Metabolite ac_e available.\n",
      "Using default LB=-1000 for EX_ac_e\n",
      "Metabolite glc__D_e available.\n",
      "Using default LB=-1000 for EX_glc_e\n",
      "Computing new uptake rates\n",
      "Biomass at t=2.5: 0.123738\n",
      "Concentrations: {'ac_e': 0.12501524790160504, 'glc__D_e': 1.9599504278926723}\n",
      "Growth rate: 0.55859375\n",
      "Metabolite ac_e available.\n",
      "Using default LB=-1000 for EX_ac_e\n",
      "Metabolite glc__D_e available.\n",
      "Using default LB=-1000 for EX_glc_e\n",
      "Computing new uptake rates\n",
      "Biomass at t=3: 0.142528\n",
      "Concentrations: {'ac_e': 0.188434967151803, 'glc__D_e': 1.9079236230358592}\n",
      "Growth rate: 0.3037109375\n",
      "Metabolite ac_e available.\n",
      "Using default LB=-1000 for EX_ac_e\n",
      "Metabolite glc__D_e available.\n",
      "Using default LB=-1000 for EX_glc_e\n",
      "Computing new uptake rates\n",
      "Biomass at t=3.5: 0.152549\n",
      "Concentrations: {'ac_e': 0.25495232065338863, 'glc__D_e': 1.8559105493771531}\n",
      "Growth rate: 0.140625\n",
      "Metabolite ac_e available.\n",
      "Using default LB=-1000 for EX_ac_e\n",
      "Metabolite glc__D_e available.\n",
      "Using default LB=-1000 for EX_glc_e\n",
      "Computing new uptake rates\n",
      "Biomass at t=4: 0.157465\n",
      "Concentrations: {'ac_e': 0.32484788482869575, 'glc__D_e': 1.8012762878870794}\n",
      "Growth rate: 0.064453125\n",
      "Metabolite ac_e available.\n",
      "Using default LB=-1000 for EX_ac_e\n",
      "Metabolite glc__D_e available.\n",
      "Using default LB=-1000 for EX_glc_e\n",
      "Computing new uptake rates\n",
      "Biomass at t=4.5: 0.163309\n",
      "Concentrations: {'ac_e': 0.39728623201478641, 'glc__D_e': 1.7445774149959212}\n",
      "Growth rate: 0.07421875\n",
      "Metabolite ac_e available.\n",
      "Using default LB=-1000 for EX_ac_e\n",
      "Metabolite glc__D_e available.\n",
      "Using default LB=-1000 for EX_glc_e\n",
      "Computing new uptake rates\n",
      "Biomass at t=5: 0.167695\n",
      "Concentrations: {'ac_e': 0.47225497707848119, 'glc__D_e': 1.6858232191841149}\n",
      "Growth rate: 0.0537109375\n",
      "Metabolite ac_e available.\n",
      "Using default LB=-1000 for EX_ac_e\n",
      "Metabolite glc__D_e available.\n",
      "Using default LB=-1000 for EX_glc_e\n",
      "Computing new uptake rates\n",
      "Biomass at t=5.5: 0.172116\n",
      "Concentrations: {'ac_e': 0.54857278548928756, 'glc__D_e': 1.6270690233723086}\n",
      "Growth rate: 0.052734375\n",
      "Metabolite ac_e available.\n",
      "Using default LB=-1000 for EX_ac_e\n",
      "Metabolite glc__D_e available.\n",
      "Using default LB=-1000 for EX_glc_e\n",
      "Computing new uptake rates\n",
      "Biomass at t=6: 0.174049\n",
      "Concentrations: {'ac_e': 0.62564487504737742, 'glc__D_e': 1.5681776674552395}\n",
      "Growth rate: 0.0224609375\n",
      "Metabolite ac_e available.\n",
      "Using default LB=-1000 for EX_ac_e\n",
      "Metabolite glc__D_e available.\n",
      "Using default LB=-1000 for EX_glc_e\n",
      "Computing new uptake rates\n",
      "Biomass at t=6.5: 0.175154\n",
      "Concentrations: {'ac_e': 0.70316416517300517, 'glc__D_e': 1.509041342154362}\n",
      "Growth rate: 0.0126953125\n",
      "Metabolite ac_e available.\n",
      "Using default LB=-1000 for EX_ac_e\n",
      "Metabolite glc__D_e available.\n",
      "Using default LB=-1000 for EX_glc_e\n",
      "Computing new uptake rates\n",
      "Biomass at t=7: 0.175924\n",
      "Concentrations: {'ac_e': 0.78098179563014036, 'glc__D_e': 1.4497644720405343}\n",
      "Growth rate: 0.0087890625\n",
      "Metabolite ac_e available.\n",
      "Using default LB=-1000 for EX_ac_e\n",
      "Metabolite glc__D_e available.\n",
      "Using default LB=-1000 for EX_glc_e\n",
      "Computing new uptake rates\n",
      "Biomass at t=7.5: 0.176439\n",
      "Concentrations: {'ac_e': 0.85896427152492105, 'glc__D_e': 1.3904736850436821}\n",
      "Growth rate: 0.005859375\n",
      "Metabolite ac_e available.\n",
      "Using default LB=-1000 for EX_ac_e\n",
      "Metabolite glc__D_e available.\n",
      "Using default LB=-1000 for EX_glc_e\n",
      "Computing new uptake rates\n",
      "Biomass at t=8: 0.176611\n",
      "Concentrations: {'ac_e': 0.93694741320685304, 'glc__D_e': 1.3308908776496322}\n",
      "Growth rate: 0.001953125\n",
      "Metabolite ac_e available.\n",
      "Using default LB=-1000 for EX_ac_e\n",
      "Metabolite glc__D_e available.\n",
      "Using default LB=-1000 for EX_glc_e\n",
      "Computing new uptake rates\n",
      "Biomass at t=8.5: 0.177043\n",
      "Concentrations: {'ac_e': 1.0151681136518376, 'glc__D_e': 1.2711872355414544}\n",
      "Growth rate: 0.0048828125\n",
      "Metabolite ac_e available.\n",
      "Using default LB=-1000 for EX_ac_e\n",
      "Metabolite glc__D_e available.\n",
      "Using default LB=-1000 for EX_glc_e\n",
      "Computing new uptake rates\n",
      "Biomass at t=9: 0.177388\n",
      "Concentrations: {'ac_e': 1.0936147576084394, 'glc__D_e': 1.2114659288650742}\n",
      "Growth rate: 0.00390625\n",
      "Metabolite ac_e available.\n",
      "Using default LB=-1000 for EX_ac_e\n",
      "Metabolite glc__D_e available.\n",
      "Using default LB=-1000 for EX_glc_e\n",
      "Computing new uptake rates\n",
      "Biomass at t=9.5: 0.177562\n",
      "Concentrations: {'ac_e': 1.1721407350245485, 'glc__D_e': 1.1517274488671931}\n",
      "Growth rate: 0.001953125\n",
      "Metabolite ac_e available.\n",
      "Using default LB=-1000 for EX_ac_e\n",
      "Metabolite glc__D_e available.\n",
      "Using default LB=-1000 for EX_glc_e\n",
      "Computing new uptake rates\n",
      "Biomass at t=10: 0.177648\n",
      "Concentrations: {'ac_e': 1.2507011020332692, 'glc__D_e': 1.0919347451840118}\n",
      "Growth rate: 0.0009765625\n",
      "Metabolite ac_e available.\n",
      "Using default LB=-1000 for EX_ac_e\n",
      "Metabolite glc__D_e available.\n",
      "Using default LB=-1000 for EX_glc_e\n",
      "Computing new uptake rates\n",
      "Biomass at t=10.5: 0.177735\n",
      "Concentrations: {'ac_e': 1.3292863074367696, 'glc__D_e': 1.0320664545134155}\n",
      "Growth rate: 0.0009765625\n",
      "Metabolite ac_e available.\n",
      "Using default LB=-1000 for EX_ac_e\n",
      "Metabolite glc__D_e available.\n",
      "Using default LB=-1000 for EX_glc_e\n",
      "Computing new uptake rates\n",
      "Biomass at t=11: 0.177822\n",
      "Concentrations: {'ac_e': 1.4078852031633085, 'glc__D_e': 0.97205247397644545}\n",
      "Growth rate: 0.0009765625\n",
      "Metabolite ac_e available.\n",
      "Using default LB=-1000 for EX_ac_e\n",
      "Metabolite glc__D_e available.\n",
      "Using default LB=-1000 for EX_glc_e\n",
      "Computing new uptake rates\n",
      "Biomass at t=11.5: 0.177995\n",
      "Concentrations: {'ac_e': 1.4865561025877814, 'glc__D_e': 0.91183043834663213}\n",
      "Growth rate: 0.001953125\n",
      "Metabolite ac_e available.\n",
      "Using default LB=-1000 for EX_ac_e\n",
      "Metabolite glc__D_e available.\n",
      "Using default LB=-1000 for EX_glc_e\n",
      "Computing new uptake rates\n",
      "Biomass at t=12: 0.178343\n",
      "Concentrations: {'ac_e': 1.5654129833724473, 'glc__D_e': 0.85144698524698192}\n",
      "Growth rate: 0.00390625\n",
      "Metabolite ac_e available.\n",
      "Using default LB=-1000 for EX_ac_e\n",
      "Metabolite glc__D_e available.\n",
      "Using default LB=-1000 for EX_glc_e\n",
      "Computing new uptake rates\n",
      "Biomass at t=12.5: 0.178691\n",
      "Concentrations: {'ac_e': 1.6444606930364145, 'glc__D_e': 0.790931095768586}\n",
      "Growth rate: 0.00390625\n",
      "Metabolite ac_e available.\n",
      "Using default LB=-1000 for EX_ac_e\n",
      "Metabolite glc__D_e available.\n",
      "Using default LB=-1000 for EX_glc_e\n",
      "Computing new uptake rates\n",
      "Biomass at t=13: 0.178953\n",
      "Concentrations: {'ac_e': 1.723631133758468, 'glc__D_e': 0.73019746328499746}\n",
      "Growth rate: 0.0029296875\n",
      "Metabolite ac_e available.\n",
      "Using default LB=-1000 for EX_ac_e\n",
      "Metabolite glc__D_e available.\n",
      "Using default LB=-1000 for EX_glc_e\n",
      "Computing new uptake rates\n",
      "Biomass at t=13.5: 0.17939\n",
      "Concentrations: {'ac_e': 1.8030583442023134, 'glc__D_e': 0.66937763410603046}\n",
      "Growth rate: 0.0048828125\n",
      "Metabolite ac_e available.\n",
      "Using default LB=-1000 for EX_ac_e\n",
      "Metabolite glc__D_e available.\n",
      "Using default LB=-1000 for EX_glc_e\n",
      "Computing new uptake rates\n",
      "Biomass at t=14: 0.179653\n",
      "Concentrations: {'ac_e': 1.8826205287314699, 'glc__D_e': 0.60842659315049563}\n",
      "Growth rate: 0.0029296875\n",
      "Metabolite ac_e available.\n",
      "Using default LB=-1000 for EX_ac_e\n",
      "Metabolite glc__D_e available.\n",
      "Using default LB=-1000 for EX_glc_e\n",
      "Computing new uptake rates\n",
      "Biomass at t=14.5: 0.179916\n",
      "Concentrations: {'ac_e': 1.9623219542511061, 'glc__D_e': 0.54734735226217324}\n",
      "Growth rate: 0.0029296875\n",
      "Metabolite ac_e available.\n",
      "Using default LB=-1000 for EX_ac_e\n",
      "Metabolite glc__D_e available.\n",
      "Using default LB=-1000 for EX_glc_e\n",
      "Computing new uptake rates\n",
      "Biomass at t=15: 0.18018\n",
      "Concentrations: {'ac_e': 2.0421627655829702, 'glc__D_e': 0.48613941069270789}\n",
      "Growth rate: 0.0029296875\n",
      "Metabolite ac_e available.\n",
      "Using default LB=-1000 for EX_ac_e\n",
      "Metabolite glc__D_e available.\n",
      "Using default LB=-1000 for EX_glc_e\n",
      "Computing new uptake rates\n",
      "Biomass at t=15.5: 0.180443\n",
      "Concentrations: {'ac_e': 2.1221429590055645, 'glc__D_e': 0.42480138954460511}\n",
      "Growth rate: 0.0029296875\n",
      "Metabolite ac_e available.\n",
      "Using default LB=-1000 for EX_ac_e\n",
      "Metabolite glc__D_e available.\n",
      "Using default LB=-1000 for EX_glc_e\n",
      "Computing new uptake rates\n",
      "Biomass at t=16: 0.180708\n",
      "Concentrations: {'ac_e': 2.2022619592161496, 'glc__D_e': 0.36332863515766622}\n",
      "Growth rate: 0.0029296875\n",
      "Metabolite ac_e available.\n",
      "Using default LB=-1000 for EX_ac_e\n",
      "Metabolite glc__D_e available.\n",
      "Using default LB=-1000 for EX_glc_e\n",
      "Computing new uptake rates\n",
      "Biomass at t=16.5: 0.180972\n",
      "Concentrations: {'ac_e': 2.2825170470456033, 'glc__D_e': 0.30170421655208129}\n",
      "Growth rate: 0.0029296875\n",
      "Metabolite ac_e available.\n",
      "Using default LB=-1000 for EX_ac_e\n",
      "Metabolite glc__D_e available.\n",
      "Using default LB=-1000 for EX_glc_e\n",
      "Computing new uptake rates\n",
      "Biomass at t=17: 0.181238\n",
      "Concentrations: {'ac_e': 2.362897464472518, 'glc__D_e': 0.23986517197637527}\n",
      "Growth rate: 0.0029296875\n",
      "Metabolite ac_e available.\n",
      "Using default LB=-1000 for EX_ac_e\n",
      "Metabolite glc__D_e available.\n",
      "Using default LB=-1000 for EX_glc_e\n",
      "Computing new uptake rates\n",
      "Biomass at t=17.5: 0.18168\n",
      "Concentrations: {'ac_e': 2.4435533751493304, 'glc__D_e': 0.17797332480985409}\n",
      "Growth rate: 0.0048828125\n",
      "Metabolite ac_e available.\n",
      "Using default LB=-1000 for EX_ac_e\n",
      "Metabolite glc__D_e available.\n",
      "Using default LB=-1000 for EX_glc_e\n",
      "Computing new uptake rates\n",
      "Changing lower bounds glc__D_e to -1.278\n",
      "Biomass at t=18: 0.181946\n",
      "Concentrations: {'ac_e': 2.5243829507880622, 'glc__D_e': 0.11606742501346301}\n",
      "Growth rate: 0.0029296875\n",
      "Metabolite ac_e available.\n",
      "Using default LB=-1000 for EX_ac_e\n",
      "Metabolite glc__D_e available.\n",
      "Computing new uptake rates\n",
      "Changing lower bounds glc__D_e to -0.594\n",
      "Biomass at t=18.5: 0.182035\n",
      "Concentrations: {'ac_e': 2.6052141347045503, 'glc__D_e': 0.054005298278294513}\n",
      "Growth rate: 0.0009765625\n",
      "Metabolite ac_e available.\n",
      "Using default LB=-1000 for EX_ac_e\n",
      "Metabolite glc__D_e available.\n",
      "Computing new uptake rates\n",
      "Biomass at t=19: 0.182035\n",
      "Concentrations: {'ac_e': 2.6052141347045503, 'glc__D_e': 0.054005298278294513}\n",
      "Growth rate: 0.0\n",
      "Metabolite ac_e available.\n",
      "Using default LB=-1000 for EX_ac_e\n",
      "Metabolite glc__D_e available.\n",
      "Biomass at t=19.5: 0.182035\n",
      "Concentrations: {'ac_e': 2.6052141347045503, 'glc__D_e': 0.054005298278294513}\n",
      "Growth rate: 0.0\n",
      "Metabolite ac_e available.\n",
      "Using default LB=-1000 for EX_ac_e\n",
      "Metabolite glc__D_e available.\n",
      "Biomass at t=20: 0.182035\n",
      "Concentrations: {'ac_e': 2.6052141347045503, 'glc__D_e': 0.054005298278294513}\n",
      "Growth rate: 0.0\n",
      "CPU times: user 4min 5s, sys: 1.88 s, total: 4min 7s\n",
      "Wall time: 4min 4s\n"
     ]
    }
   ],
   "source": [
    "%%time\n",
    "extra_rxns_tracked = ['EX_o2_e'] + fluxes_plot\n",
    "\n",
    "T = 20\n",
    "dt = 0.5\n",
    "H = dt\n",
    "\n",
    "result = dyme.simulate_batch(\n",
    "    T,    \n",
    "    c0_dict,\n",
    "    X0,\n",
    "    prec_bs=1e-3,\n",
    "    ZERO_CONC=0.,\n",
    "    extra_rxns_tracked=extra_rxns_tracked,\n",
    "    lb_dict={},\n",
    "    verbosity=2,\n",
    "    dt = dt,\n",
    "    H = H,\n",
    "    cplx_conc_dict0=cplx_conc_dict0)"
   ]
  },
  {
   "cell_type": "code",
   "execution_count": 38,
   "metadata": {
    "collapsed": false
   },
   "outputs": [
    {
     "data": {
      "text/plain": [
       "[<matplotlib.lines.Line2D at 0x7f405b207390>]"
      ]
     },
     "execution_count": 38,
     "metadata": {},
     "output_type": "execute_result"
    },
    {
     "data": {
      "image/png": "[encoded data removed]",
      "text/plain": [
       "<matplotlib.figure.Figure at 0x7f406dc76a90>"
      ]
     },
     "metadata": {},
     "output_type": "display_data"
    }
   ],
   "source": [
    "import seaborn as sns\n",
    "%matplotlib inline\n",
    "\n",
    "sns.plt.plot(result['time'], result['biomass'])"
   ]
  },
  {
   "cell_type": "code",
   "execution_count": 39,
   "metadata": {
    "collapsed": false
   },
   "outputs": [
    {
     "data": {
      "text/plain": [
       "{'ac_e': {'mw': 59.04402,\n",
       "  'rxn': <MetabolicReaction EX_ac_e at 0x7f406e317e50>},\n",
       " 'glc__D_e': {'mw': 180.15588,\n",
       "  'rxn': <MetabolicReaction EX_glc_e at 0x7f406f0986d0>}}"
      ]
     },
     "execution_count": 39,
     "metadata": {},
     "output_type": "execute_result"
    }
   ],
   "source": [
    "ex_met_rxn_dict = {m: {'rxn':dyme.get_exchange_rxn(m), 'mw':me.metabolites.get_by_id(m).formula_weight} for m in c0_dict.keys()}\n",
    "ex_met_rxn_dict"
   ]
  },
  {
   "cell_type": "code",
   "execution_count": 40,
   "metadata": {
    "collapsed": false,
    "scrolled": true
   },
   "outputs": [],
   "source": [
    "import pandas as pd\n",
    "\n",
    "df_conc = pd.DataFrame(result['concentration'])\n",
    "### Convert concentrations to g/L\n",
    "for mid, vals in ex_met_rxn_dict.iteritems():\n",
    "    df_conc[mid] = df_conc[mid] * vals['mw'] * 0.001\n",
    "\n",
    "df_time = pd.DataFrame({'time':t, 'biomass':b} for t,b in zip(result['time'], result['biomass']))\n",
    "df_flux = pd.DataFrame(result['ex_flux'])\n",
    "df_mu   = pd.DataFrame({'mu':result['growth_rate']})\n",
    "df_result = pd.concat([df_time, df_conc, df_flux, df_mu], axis=1)\n",
    "#df_result"
   ]
  },
  {
   "cell_type": "code",
   "execution_count": 41,
   "metadata": {
    "collapsed": true
   },
   "outputs": [],
   "source": [
    "dsplot = pd.melt(df_result, id_vars='time', value_vars=['biomass','ac_e','gal_e','glc__D_e','glyc_e','lac__L_e','malt_e'])\n",
    "dsplot.time = pd.to_numeric(dsplot.time)\n",
    "dsplot['category'] = 'Metabolite'\n",
    "dsplot.loc[ dsplot.variable=='biomass', 'category'] = 'Biomass'"
   ]
  },
  {
   "cell_type": "code",
   "execution_count": 42,
   "metadata": {
    "collapsed": false
   },
   "outputs": [
    {
     "data": {
      "text/plain": [
       "<seaborn.axisgrid.FacetGrid at 0x7f406f4d70d0>"
      ]
     },
     "execution_count": 42,
     "metadata": {},
     "output_type": "execute_result"
    },
    {
     "data": {
      "image/png": "[encoded data removed]",
      "text/plain": [
       "<matplotlib.figure.Figure at 0x7f406f4d7990>"
      ]
     },
     "metadata": {},
     "output_type": "display_data"
    }
   ],
   "source": [
    "colors = [\n",
    "'#000000', # biomass\n",
    "'#660066', # acetate\n",
    "'#00CC00', #'#00FF00', # galactose\n",
    "'#000000', # glucose\n",
    "'#FF00FF', # glycerol\n",
    "'#0000FF', # lactate\n",
    "'#FF0000', # maltose\n",
    "]\n",
    "\n",
    "colpal = sns.color_palette(colors)\n",
    "sns.set_palette(colpal)\n",
    "\n",
    "g = sns.FacetGrid(data=dsplot, hue='variable', col='category', sharey=False, size=5)\n",
    "\n",
    "g.map(sns.plt.plot, 'time', 'value', linestyle='-', marker='.')\n",
    "g.add_legend()"
   ]
  },
  {
   "cell_type": "code",
   "execution_count": 43,
   "metadata": {
    "collapsed": false
   },
   "outputs": [],
   "source": [
    "if PROTOTYPE:\n",
    "    complexes_plot = ['IPPMIa_E_c', 'ACKr_reverse_E_c', 'CPLX0-7760_mod_4fe4s','CPLX0-7761_mod_4fe4s']\n",
    "else:\n",
    "    complexes_plot = ['3-ISOPROPYLMALISOM-CPLX_mod_4fe4s', 'ACETATEKINA-MONOMER_mod_mg2', 'CPLX0-7659']"
   ]
  },
  {
   "cell_type": "code",
   "execution_count": 44,
   "metadata": {
    "collapsed": false
   },
   "outputs": [],
   "source": [
    "df_complex = pd.DataFrame([{'time':t, 'complex':c, 'abundance':cdict[c]} \n",
    "                           for t,cdict in zip(result['time'], result['complex']) for c in complexes_plot] )\n",
    "\n",
    "df_mflux = pd.DataFrame([{'time':t, 'rxn':c, 'flux':cdict[c]} \n",
    "                           for t,cdict in zip(result['time'], result['rxn_flux']) for c in fluxes_plot] )\n",
    "\n",
    "df_complex.loc[:,'category'] = 'complex'\n",
    "df_mflux.loc[:,'category'] = 'flux'\n",
    "\n",
    "dsplot_all = pd.concat([dsplot,\n",
    "                          df_complex.rename(columns={'complex':'variable', 'abundance':'value'}),\n",
    "                          df_mflux.rename(columns={'rxn':'variable', 'flux':'value'})])"
   ]
  },
  {
   "cell_type": "code",
   "execution_count": 45,
   "metadata": {
    "collapsed": false,
    "deletable": true,
    "editable": true
   },
   "outputs": [
    {
     "data": {
      "text/plain": [
       "<seaborn.axisgrid.FacetGrid at 0x7f405b0f3190>"
      ]
     },
     "execution_count": 45,
     "metadata": {},
     "output_type": "execute_result"
    },
    {
     "data": {
      "image/png": "[encoded data removed]",
      "text/plain": [
       "<matplotlib.figure.Figure at 0x7f405b9f0f90>"
      ]
     },
     "metadata": {},
     "output_type": "display_data"
    }
   ],
   "source": [
    "#sns.set_style('darkgrid')\n",
    "g = sns.FacetGrid(data=dsplot_all, hue='variable', sharey=False, size=3, col='category',\n",
    "                  aspect=2, col_wrap=2, col_order=['Biomass','complex','Metabolite','flux'])\n",
    "g.map(sns.plt.plot, 'time', 'value', linestyle='-', marker='.')\n",
    "g.add_legend()"
   ]
  },
  {
   "cell_type": "markdown",
   "metadata": {},
   "source": [
    "## Expression fluxes"
   ]
  },
  {
   "cell_type": "markdown",
   "metadata": {
    "deletable": true,
    "editable": true
   },
   "source": [
    "## Check |slacks|>ftol for equality constraints to find infeasible\n",
    "\n",
    "- Ax + s = 0\n",
    "- Ax = -s\n",
    "\n",
    "import numpy as np\n",
    "infeas_cons = {}\n",
    "\n",
    "ZERO = 1e-15\n",
    "N = len(dsolver.me.reactions)\n",
    "M = len(dsolver.me.metabolites)\n",
    "           \n",
    "for met in dsolver.me.metabolites:\n",
    "    if met._constraint_sense == 'E':\n",
    "        i = dsolver.me.metabolites.index(met)        \n",
    "        s = x[N+i]\n",
    "        b = met._bound\n",
    "        e = b+s # since -s = b OR b+s = 0\n",
    "        if abs(e) > ZERO:\n",
    "            infeas_cons[met.id] = e\n",
    "max_abs_infeas = max(abs(np.array(infeas_cons.values())))\n",
    "print 'Max abs primal infeas:', max_infeas\n",
    "print 'Min abs primal infeas:', min(abs(np.array(infeas_cons.values())))\n",
    "print 'Sum of abs infeas:', sum(abs(np.array(infeas_cons.values())))\n",
    "print '# of infeasibilities:', len(infeas_cons)"
   ]
  },
  {
   "cell_type": "code",
   "execution_count": null,
   "metadata": {
    "collapsed": true
   },
   "outputs": [],
   "source": []
  }
 ],
 "metadata": {
  "kernelspec": {
   "display_name": "Python 2",
   "language": "python",
   "name": "python2"
  },
  "language_info": {
   "codemirror_mode": {
    "name": "ipython",
    "version": 2
   },
   "file_extension": ".py",
   "mimetype": "text/x-python",
   "name": "python",
   "nbconvert_exporter": "python",
   "pygments_lexer": "ipython2",
   "version": "2.7.13"
  }
 },
 "nbformat": 4,
 "nbformat_minor": 2
}
