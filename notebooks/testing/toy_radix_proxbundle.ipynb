{
 "cells": [
  {
   "cell_type": "markdown",
   "metadata": {
    "deletable": true,
    "editable": true
   },
   "source": [
    "# Toy Radix Benders by Proximal Bundle dual decomposition"
   ]
  },
  {
   "cell_type": "code",
   "execution_count": 1,
   "metadata": {
    "collapsed": true,
    "deletable": true,
    "editable": true
   },
   "outputs": [],
   "source": [
    "PREVENT_ZERO = True\n",
    "REG_WEIGHT = 0. #1e-4    # Regularization weight\n",
    "MAX_NONZERO  = None #48*2\n",
    "RELAX_LP = True"
   ]
  },
  {
   "cell_type": "code",
   "execution_count": 2,
   "metadata": {
    "collapsed": false,
    "deletable": true,
    "editable": true
   },
   "outputs": [],
   "source": [
    "%load_ext line_profiler"
   ]
  },
  {
   "cell_type": "code",
   "execution_count": 3,
   "metadata": {
    "collapsed": false,
    "deletable": true,
    "editable": true
   },
   "outputs": [
    {
     "name": "stdout",
     "output_type": "stream",
     "text": [
      "0.873921506968\n"
     ]
    }
   ],
   "source": [
    "from gurobipy import *\n",
    "\n",
    "import seaborn as sns\n",
    "import pandas as pd\n",
    "import matplotlib.pyplot as plt\n",
    "import numpy as np\n",
    "\n",
    "plt.rcParams['svg.fonttype'] = 'none'\n",
    "pd.set_option('display.max_colwidth', -1)\n",
    "%matplotlib inline\n",
    "\n",
    "from dynamicme.decomposition import Decomposer\n",
    "from dynamicme.callback_gurobi import cb_benders\n",
    "from dynamicme.optimize import Optimizer, StackOptimizer\n",
    "from dynamicme.optimize import Constraint, Variable\n",
    "\n",
    "from cobra.io import load_json_model\n",
    "from cobra import Metabolite, Reaction\n",
    "from six import iteritems\n",
    "\n",
    "import numpy as np\n",
    "import cobra\n",
    "\n",
    "#----------------------------------------\n",
    "# Starting from basal model\n",
    "ijomc = load_json_model('/home/laurence/ME/models/e_coli_core_pc.json')\n",
    "mdl_ref = ijomc\n",
    "\n",
    "ijomc.optimize()\n",
    "mu_crowd0 = ijomc.reactions.BIOMASS_Ecoli_core_w_GAM.x\n",
    "print(mu_crowd0)\n",
    "\n",
    "df_meas = pd.read_csv('/home/laurence/ME/data/dynamicME/beg/growth_meas.csv')\n",
    "\n",
    "ex_rxns = [r for r in df_meas.ex_rxn.unique() if mdl_ref.reactions.has_id(r)]\n",
    "df_meas = df_meas[ df_meas.ex_rxn.isin(ex_rxns)]\n",
    "conds = df_meas.substrate.unique()\n",
    "\n",
    "# N_CONDS = len(conds)\n",
    "N_CONDS = 2\n",
    "\n",
    "df_conds = pd.DataFrame([{'cond':r['substrate'], 'rxn':ex_rxn, 'lb':-10 if r['ex_rxn']==ex_rxn else 0, 'ub':1000., 'obj':0.} for i,r in df_meas.iterrows() for ex_rxn in ex_rxns])\n",
    "\n",
    "if N_CONDS<=3:\n",
    "    df_conds = df_conds[ df_conds.cond.isin(['glucose','acetate','succinate'][0:N_CONDS])]\n",
    "else:\n",
    "    df_conds = df_conds[ df_conds.cond.isin(conds[0:N_CONDS])]"
   ]
  },
  {
   "cell_type": "code",
   "execution_count": 4,
   "metadata": {
    "collapsed": false,
    "deletable": true,
    "editable": true
   },
   "outputs": [],
   "source": [
    "df_conds.loc[ (df_conds.cond=='acetate') & (df_conds.rxn=='EX_ac_e'), 'lb'] = -20"
   ]
  },
  {
   "cell_type": "markdown",
   "metadata": {
    "deletable": true,
    "editable": true
   },
   "source": [
    "# 0) Load changed keffs to reduce binary vars"
   ]
  },
  {
   "cell_type": "code",
   "execution_count": 5,
   "metadata": {
    "collapsed": true,
    "deletable": true,
    "editable": true
   },
   "outputs": [],
   "source": [
    "import json\n",
    "\n",
    "with open('/home/laurence/ME/data/dynamicME/kfit_changed.json') as f:\n",
    "    kfit_changed = json.load(f)\n",
    "\n",
    "changed_keffs = [kv[0] for kv in kfit_changed]"
   ]
  },
  {
   "cell_type": "code",
   "execution_count": 6,
   "metadata": {
    "collapsed": true,
    "deletable": true,
    "editable": true
   },
   "outputs": [],
   "source": [
    "from dynamicme.decomposition import LagrangeMaster, LagrangeSubmodel\n",
    "from dynamicme.generate import copy_model"
   ]
  },
  {
   "cell_type": "markdown",
   "metadata": {
    "deletable": true,
    "editable": true
   },
   "source": [
    "# 1) Create master, subproblems"
   ]
  },
  {
   "cell_type": "code",
   "execution_count": 7,
   "metadata": {
    "collapsed": false,
    "deletable": true,
    "editable": true
   },
   "outputs": [
    {
     "name": "stdout",
     "output_type": "stream",
     "text": [
      "('Radix:', 2.0)\n",
      "('Powers:', [-1, 0, 1])\n",
      "('Digits:', [1.0])\n"
     ]
    },
    {
     "name": "stderr",
     "output_type": "stream",
     "text": [
      "/usr/lib/python2.7/site-packages/ipykernel/__main__.py:11 \u001b[1;31mDeprecationWarning\u001b[0m: object of type <type 'float'> cannot be safely interpreted as an integer.\n"
     ]
    }
   ],
   "source": [
    "from dynamicme.optimize import Variable, Constraint\n",
    "import numpy as np\n",
    "\n",
    "radix = 2.\n",
    "print('Radix:',radix)\n",
    "#powers = np.arange(-3,4)\n",
    "powers = [-1, 0, 1]\n",
    "print('Powers:', powers)\n",
    "digits_per_power = radix\n",
    "pwr_max = max(powers)\n",
    "digits = list(set(np.linspace(1, radix-1, digits_per_power)))\n",
    "print('Digits:', digits)\n",
    "\n",
    "# Get the group ID from reference model\n",
    "mu_id = 'BIOMASS_Ecoli_core_w_GAM'\n",
    "mdl_ref = ijomc\n",
    "crowding_ref = mdl_ref.metabolites.crowding\n",
    "conds = df_conds.cond.unique()\n",
    "sub_dict = {}\n",
    "for cond in conds:\n",
    "    mdl_ind = cond\n",
    "    mdl = copy_model(ijomc, suffix='_%s'%mdl_ind)            \n",
    "    opt = Optimizer(mdl)\n",
    "    gap = opt.add_duality_gap_constraint(INF=1e3, inplace=True, index=mdl_ind)\n",
    "    #----------------------------------------------------\n",
    "    # Now, add min abs err\n",
    "    #----------------------------------------------------\n",
    "    for rxn in gap.reactions:\n",
    "        rxn.objective_coefficient = 0.\n",
    "    mu_meas = df_meas[ df_meas.substrate==mdl_ind].growth_rate_1_h.iloc[0]\n",
    "    sp = Variable('sp_%s'%mdl_ind, lower_bound=0., upper_bound=1e3)\n",
    "    sn = Variable('sn_%s'%mdl_ind, lower_bound=0., upper_bound=1e3)\n",
    "    sp.objective_coefficient = (1.-REG_WEIGHT)/(mu_meas+1) #1.\n",
    "    sn.objective_coefficient = (1.-REG_WEIGHT)/(mu_meas+1) #1.\n",
    "    cons = Constraint('abs_err_%s'%mdl_ind)\n",
    "    cons._constraint_sense = 'E'\n",
    "    cons._bound = mu_meas\n",
    "    gap.add_metabolites(cons)\n",
    "    gap.add_reactions([sp,sn])\n",
    "    # mu - mu_meas = sp-sn\n",
    "    # mu -sp + sn = mu_meas\n",
    "    # min sp + sn\n",
    "    sp.add_metabolites({cons:-1.})\n",
    "    sn.add_metabolites({cons:1.})\n",
    "    rxn_mu = gap.reactions.get_by_id(mu_id+'_%s'%mdl_ind)\n",
    "    rxn_mu.add_metabolites({cons:1.})\n",
    "    #----------------------------------------------------    \n",
    "    dfi = df_conds[ df_conds.cond==cond]\n",
    "    var_cons_dict = {}\n",
    "    for rxn_ref in crowding_ref.reactions:\n",
    "        if rxn_ref.id in changed_keffs:\n",
    "            crowding_p = mdl.metabolites.get_by_id('crowding_%s'%mdl_ind)\n",
    "            var_d = mdl.reactions.get_by_id('wa_%s'%crowding_p.id)\n",
    "            rxn_p = mdl.reactions.get_by_id(rxn_ref.id+'_%s'%mdl_ind)\n",
    "            cons_ds = [m for m in var_d.metabolites.keys() if rxn_p.id==m.id]        \n",
    "            a0 = rxn_p.metabolites[crowding_p]\n",
    "            if var_cons_dict.has_key(rxn_ref.id):\n",
    "                var_cons_dict[rxn_ref.id] += [(rxn_p, crowding_p, a0)] + [(var_d, cons_d, a0) for cons_d in cons_ds]\n",
    "            else:\n",
    "                var_cons_dict[rxn_ref.id] = [(rxn_p, crowding_p, a0)] + [(var_d, cons_d, a0) for cons_d in cons_ds]\n",
    "        \n",
    "    opt.to_radix(gap, var_cons_dict, radix, powers, digits=digits, prevent_zero=PREVENT_ZERO)    \n",
    "    sub = LagrangeSubmodel(gap, cond)\n",
    "    sub_dict[cond] = sub\n",
    "    \n",
    "for group_id in var_cons_dict.keys():\n",
    "    for l,pwr in enumerate(powers):\n",
    "        for k,digit in enumerate(digits):\n",
    "            yid = 'binary_%s%s%s'%(group_id,k,l)\n",
    "            y   = gap.reactions.get_by_id(yid)\n",
    "            ### PREFER pwr=0, digit=1\n",
    "            if pwr==0 and digit==1:\n",
    "                y.objective_coefficient = 0.\n",
    "            else:\n",
    "                y.objective_coefficient = REG_WEIGHT\n",
    "\n",
    "master = LagrangeMaster(gap)"
   ]
  },
  {
   "cell_type": "code",
   "execution_count": 8,
   "metadata": {
    "collapsed": false,
    "deletable": true,
    "editable": true
   },
   "outputs": [],
   "source": [
    "master.add_submodels(sub_dict)"
   ]
  },
  {
   "cell_type": "markdown",
   "metadata": {
    "deletable": true,
    "editable": true
   },
   "source": [
    "# 2) Solve"
   ]
  },
  {
   "cell_type": "code",
   "execution_count": 9,
   "metadata": {
    "collapsed": false,
    "deletable": true,
    "editable": true,
    "scrolled": false
   },
   "outputs": [
    {
     "name": "stdout",
     "output_type": "stream",
     "text": [
      "        Iter     Dual UB          LB     Best LB         gap   relgap(%)       delta     time(s)\n",
      "           0        1000           0           0        1000         100         0.5    0.047785\n",
      "           1       8.975      -21.52           0       8.975         100        0.25    0.066895\n",
      "           2       3.805      -25.98           0       3.805         100       0.125    0.081146\n",
      "           3       1.371      -19.29           0       1.371         100      0.0625    0.094156\n",
      "           4      0.8903      -21.95           0      0.8903         100     0.03125    0.107572\n",
      "           5      0.4313      -19.14           0      0.4313         100     0.01562    0.119959\n",
      "           6      0.2899       -18.4           0      0.2899         100    0.007812    0.134509\n",
      "           7       0.239      -21.67           0       0.239         100    0.003906    0.146491\n",
      "           8      0.1971      -26.25           0      0.1971         100    0.001953    0.159502\n",
      "           9      0.1505      -21.66           0      0.1505         100   0.0009766    0.171896\n",
      "          10      0.1363      -20.59           0      0.1363         100   0.0004883    0.183097\n",
      "          11      0.1299      -14.37           0      0.1299         100   0.0002441    0.195827\n",
      "          12      0.1281      -13.11           0      0.1281         100   0.0001221    0.210982\n",
      "          13      0.1275      -12.87           0      0.1275         100   6.104e-05    0.227147\n",
      "          14      0.1272      -13.24           0      0.1272         100   3.052e-05    0.242547\n",
      "          15      0.1271      -14.12           0      0.1271         100   1.526e-05    0.257411\n",
      "          16      0.1269      -11.29           0      0.1269         100   7.629e-06    0.271872\n",
      "          17      0.1269      -9.093           0      0.1269         100   3.815e-06    0.287665\n",
      "          18      0.1269      -10.26           0      0.1269         100   1.907e-06    0.304165\n",
      "          19      0.1269      -11.36           0      0.1269         100   9.537e-07    0.319034\n",
      "          20      0.1269      -11.48           0      0.1269         100   4.768e-07    0.333657\n",
      "          21      0.1269      -12.83           0      0.1269         100   2.384e-07    0.348341\n",
      "          22      0.1269       -10.1           0      0.1269         100   1.192e-07    0.362982\n",
      "          23      0.1269      -7.457           0      0.1269         100    5.96e-08    0.377263\n",
      "          24      0.1269       -5.93           0      0.1269         100    2.98e-08    0.395200\n",
      "          25      0.1269      -4.491           0      0.1269         100    1.49e-08    0.412038\n",
      "          26      0.1269      -5.399           0      0.1269         100   7.451e-09    0.431412\n",
      "          27      0.1269      -7.953           0      0.1269         100   3.725e-09    0.449813\n",
      "          28      0.1269      -14.07           0      0.1269         100   1.863e-09    0.466457\n",
      "          29      0.1269      -15.87           0      0.1269         100   9.313e-10    0.482519\n",
      "          30      0.1269      -15.83           0      0.1269         100   4.657e-10    0.498714\n",
      "          31      0.1269      -19.97           0      0.1269         100   2.328e-10    0.515823\n",
      "          32      0.1269      -21.56           0      0.1269         100   1.164e-10    0.531852\n",
      "          33      0.1269      -22.52           0      0.1269         100       1e-10    0.548726\n",
      "          34      0.1269      -14.83           0      0.1269         100       1e-10    0.564824\n",
      "          35      0.1269      -14.76           0      0.1269         100       1e-10    0.581916\n",
      "          36      0.1269      -13.74           0      0.1269         100       1e-10    0.599239\n",
      "          37      0.1269      -12.25           0      0.1269         100       1e-10    0.614227\n",
      "          38      0.1269      -13.77           0      0.1269         100       1e-10    0.632596\n",
      "          39      0.1269      -23.12           0      0.1269         100       1e-10    0.648411\n",
      "          40      0.1269      -10.49           0      0.1269         100       1e-10    0.665220\n",
      "          41      0.1269      -5.036           0      0.1269         100       1e-10    0.681012\n",
      "          42      0.1269      -18.23           0      0.1269         100       1e-10    0.700772\n",
      "          43      0.1269      -4.602           0      0.1269         100       1e-10    0.718858\n",
      "          44      0.1269      -14.52           0      0.1269         100       1e-10    0.740677\n",
      "          45      0.1269      -40.05           0      0.1269         100       1e-10    0.760479\n",
      "          46      0.1269      -3.547           0      0.1269         100       1e-10    0.780060\n",
      "          47      0.1269      -5.813           0      0.1269         100       1e-10    0.802928\n",
      "          48      0.1269      -7.204           0      0.1269         100       1e-10    0.823343\n",
      "          49      0.1269      -3.989           0      0.1269         100       1e-10    0.842689\n",
      "          50      0.1268      -9.545           0      0.1268         100       1e-10    0.862602\n",
      "          51      0.1267      -5.139           0      0.1267         100       1e-10    0.882954\n",
      "          52      0.1266      -10.68           0      0.1266         100       1e-10    0.904657\n",
      "          53      0.1259      -12.47           0      0.1259         100       1e-10    0.923215\n",
      "          54      0.1242      -15.25           0      0.1242         100       1e-10    0.943550\n",
      "          55      0.1231      -9.387           0      0.1231         100       1e-10    0.964532\n",
      "          56      0.1217      -4.679           0      0.1217         100       1e-10    0.985558\n",
      "          57      0.1186      -4.211           0      0.1186         100       1e-10    1.004588\n",
      "          58      0.1178      -3.386           0      0.1178         100       1e-10    1.026701\n",
      "          59      0.1165      -6.469           0      0.1165         100       1e-10    1.048257\n",
      "          60      0.1138       -8.47           0      0.1138         100       1e-10    1.069077\n",
      "          61      0.1069      -2.348           0      0.1069         100       1e-10    1.091500\n",
      "          62      0.1034      -2.831           0      0.1034         100       1e-10    1.112776\n",
      "          63     0.09958      -2.105           0     0.09958         100       1e-10    1.137190\n",
      "          64     0.09443      -2.727           0     0.09443         100       1e-10    1.162362\n",
      "          65     0.08906      -3.861           0     0.08906         100       1e-10    1.186625\n",
      "          66     0.07545      -2.662           0     0.07545         100       1e-10    1.209999\n",
      "          67     0.07061      -2.405           0     0.07061         100       1e-10    1.232667\n",
      "          68     0.06767      -2.545           0     0.06767         100       1e-10    1.256551\n",
      "          69     0.06594      -1.866           0     0.06594         100       1e-10    1.283169\n",
      "          70     0.06349      -2.538           0     0.06349         100       1e-10    1.308495\n",
      "          71     0.06218      -2.173           0     0.06218         100       1e-10    1.332885\n",
      "          72     0.06005      -2.469           0     0.06005         100       1e-10    1.354790\n",
      "          73     0.05491      -2.915           0     0.05491         100       1e-10    1.379577\n",
      "          74     0.05106      -2.033           0     0.05106         100       1e-10    1.406007\n",
      "          75     0.04824      -2.216           0     0.04824         100       1e-10    1.429703\n",
      "          76     0.04561      -1.904           0     0.04561         100       1e-10    1.454946\n",
      "          77     0.04105      -1.452           0     0.04105         100       1e-10    1.482190\n",
      "          78     0.03442       -1.64           0     0.03442         100       1e-10    1.510436\n",
      "          79     0.02683       -1.52           0     0.02683         100       1e-10    1.538130\n",
      "          80     0.02222      -1.304           0     0.02222         100       1e-10    1.564759\n",
      "          81     0.01961     -0.7426           0     0.01961         100       1e-10    1.598220\n",
      "          82     0.01697      -1.154           0     0.01697         100       1e-10    1.625972\n",
      "          83     0.01619       -0.98           0     0.01619         100       1e-10    1.657237\n",
      "          84     0.01063      -1.019           0     0.01063         100       1e-10    1.684718\n",
      "          85    0.009499     -0.9502           0    0.009499         100       1e-10    1.717108\n",
      "          86     0.00731      -0.644           0     0.00731         100       1e-10    1.747220\n",
      "          87    0.003631     -0.6884           0    0.003631         100       1e-10    1.773288\n",
      "          88    0.001713     -0.4214           0    0.001713         100       1e-10    1.800881\n",
      "          89    0.001504     -0.4328           0    0.001504         100       1e-10    1.834435\n",
      "          90   0.0006721     -0.1791           0   0.0006721         100       1e-10    1.863800\n",
      "          91   0.0002633     -0.1601           0   0.0002633         100       1e-10    1.895820\n",
      "          92   0.0001607    -0.07671           0   0.0001607         100       1e-10    1.927060\n",
      "          93   5.847e-05    -0.03797           0   5.847e-05         100       1e-10    1.960587\n",
      "          94   4.146e-05    -0.02102           0   4.146e-05         100       1e-10    2.000281\n",
      "          95   2.143e-06  -0.0004595           0   2.143e-06         100       1e-10    2.038749\n",
      "          96  -0.0001116   -0.007254           0  -0.0001116        -100       1e-10    2.111020\n",
      "relgap (-0.999999) <= gaptol (0.02). Finished.\n",
      "sum_k Hk*yk: [-0.5         0.5         0.5        -0.675      -1.          0.575\n",
      "  0.          0.         -1.         -1.         -1.          1.\n",
      "  0.          1.         -0.49915881  1.          0.5        -0.5\n",
      "  1.         -1.         -1.         -0.5         0.         -0.7140803\n",
      "  1.          1.         -1.         -0.4         1.          1.\n",
      " -1.         -0.6        -0.5         0.00795909  0.5         0.00795909\n",
      "  0.5         0.          0.          0.5         0.00740557  0.09259443\n",
      "  1.          1.         -0.5        -1.         -0.6        -0.5\n",
      "  1.         -1.         -0.5         1.         -0.49836043  0.5\n",
      "  1.         -0.4         1.         -0.5         1.          1.\n",
      " -1.          1.         -0.97125436 -0.99685236 -1.          0.99789385]\n",
      "WARNING: Non-anticipativity constraints not satisfied.\n"
     ]
    },
    {
     "name": "stderr",
     "output_type": "stream",
     "text": [
      "/home/laurence/python_modules/dynamicme.git/dynamicme/decomposition.py:2084 \u001b[1;31mUserWarning\u001b[0m: Solution available but Master solver status=suboptimal (13).\n"
     ]
    }
   ],
   "source": [
    "# master.model.Params.OutputFlag = 0\n",
    "master.print_iter = 1   # submodels take much longer\n",
    "master.delta_mult = 0.5   #0.1\n",
    "#master.delta_min  = 1e-20 #0\n",
    "master.max_iter = 100\n",
    "master.gaptol = 0.02\n",
    "\n",
    "if RELAX_LP:\n",
    "    sol_master = master.solve_relaxed()\n",
    "else:\n",
    "    sol_master = master.optimize()"
   ]
  },
  {
   "cell_type": "code",
   "execution_count": 10,
   "metadata": {
    "collapsed": false
   },
   "outputs": [
    {
     "data": {
      "text/plain": [
       "array([ 3.53216733e-05, -1.76836747e-04, -1.21255526e-04,  1.04586128e-04,\n",
       "        2.45469149e-04, -7.09252789e-05, -3.36261251e-05,  5.03928277e-08,\n",
       "        4.14554483e-04,  1.69553461e-04,  4.54716169e-05, -2.17932577e-04,\n",
       "       -1.71482366e-05, -1.30901162e-04, -9.77868763e-06, -1.22939339e-04,\n",
       "       -7.21526881e-05,  8.06901664e-06, -1.97406326e-05,  1.74375904e-04,\n",
       "        4.05020500e-05,  6.24892824e-05,  3.11053482e-05,  2.38826696e-04,\n",
       "       -1.94411845e-04, -1.36113333e-04,  3.79983237e-04, -3.46477979e-05,\n",
       "       -1.51783214e-04, -1.92013503e-04,  2.89324273e-04,  1.65971616e-04,\n",
       "        1.42466957e-04, -3.85885409e-05, -9.10925411e-05,  1.57467194e-05,\n",
       "       -7.34677288e-05, -2.04433596e-05,  1.04559865e-05, -6.86570122e-05,\n",
       "       -3.73829254e-05, -3.02260742e-05, -2.19832784e-04, -1.53069188e-04,\n",
       "        8.32677983e-07,  3.22147960e-04,  8.56083930e-05,  1.97179093e-05,\n",
       "       -3.76131586e-04,  1.93683814e-04,  2.75413628e-04, -2.65911765e-04,\n",
       "        5.90878290e-05, -4.09143524e-05, -2.39013061e-04, -3.99946280e-05,\n",
       "       -1.55135031e-04,  5.27299032e-05, -2.07362718e-04, -3.05704768e-04,\n",
       "        3.50983049e-04, -1.40972014e-04,  2.85549593e-04,  2.68056510e-08,\n",
       "        2.79556454e-05, -4.19544266e-05])"
      ]
     },
     "execution_count": 10,
     "metadata": {},
     "output_type": "execute_result"
    }
   ],
   "source": [
    "master.uopt"
   ]
  },
  {
   "cell_type": "code",
   "execution_count": 11,
   "metadata": {
    "collapsed": false
   },
   "outputs": [
    {
     "name": "stdout",
     "output_type": "stream",
     "text": [
      "----------------------------------------\n",
      "acetate\n",
      "Obj fun=<gurobi.LinExpr: 3.53216732947e-05 binary_G6PDH2r00 + -0.000176836747187 binary_G6PDH2r01 + -0.000121255525755 binary_G6PDH2r02 + 0.000104586128373 binary_AKGDH00 + 0.000245469149149 binary_AKGDH01 + -7.09252789193e-05 binary_AKGDH02 + -3.36261250595e-05 binary_GND00 + 5.03928276885e-08 binary_GND01 + 0.000414554482745 binary_GND02 + 0.000169553460751 binary_ACKr00 + 4.54716168861e-05 binary_ACKr01 + -0.000217932577129 binary_ACKr02 + -1.71482365658e-05 binary_SUCDi00 + -0.000130901161583 binary_SUCDi01 + -9.77868762675e-06 binary_SUCDi02 + -0.000122939339121 binary_MDH00 + -7.21526880625e-05 binary_MDH01 + 8.06901664419e-06 binary_MDH02 + -1.97406326379e-05 binary_GLUDy00 + 0.000174375903953 binary_GLUDy01 + 4.05020499556e-05 binary_GLUDy02 + 6.24892824135e-05 binary_PGL00 + 3.1105348171e-05 binary_PGL01 + 0.000238826695636 binary_PGL02 + -0.000194411844745 binary_PGI00 + -0.000136113332701 binary_PGI01 + 0.000379983236712 binary_PGI02 + -3.4647797861e-05 binary_NADTRHD00 + -0.000151783213823 binary_NADTRHD01 + -0.000192013503352 binary_NADTRHD02 + 0.000289324273467 binary_ICDHyr00 + 0.000165971615615 binary_ICDHyr01 + 0.000142466957072 binary_ICDHyr02 + -3.85885408605e-05 binary_GAPD00 + -9.10925410835e-05 binary_GAPD01 + 1.57467194413e-05 binary_GAPD02 + -7.34677288392e-05 binary_TPI00 + -2.04433596309e-05 binary_TPI01 + 1.04559865122e-05 binary_TPI02 + -6.8657012207e-05 binary_ENO00 + -3.73829253704e-05 binary_ENO01 + -3.02260741591e-05 binary_ENO02 + -0.0002198327835 binary_ACONTa00 + -0.000153069187832 binary_ACONTa01 + 8.32677983453e-07 binary_ACONTa02 + 0.000322147960446 binary_ACONTb00 + 8.56083929648e-05 binary_ACONTb01 + 1.97179092538e-05 binary_ACONTb02 + -0.000376131586336 binary_PDH00 + 0.000193683813563 binary_PDH01 + 0.000275413628287 binary_PDH02 + -0.000265911765382 binary_CS00 + 5.90878289586e-05 binary_CS01 + -4.09143524394e-05 binary_CS02 + -0.000239013061105 binary_TKT100 + -3.99946279686e-05 binary_TKT101 + -0.000155135031036 binary_TKT102 + 5.27299032456e-05 binary_PFK00 + -0.000207362717674 binary_PFK01 + -0.000305704767811 binary_PFK02 + 0.000350983048634 binary_FBA00 + -0.000140972013696 binary_FBA01 + 0.000285549593173 binary_FBA02 + 2.68056510322e-08 binary_PYK00 + 2.79556453506e-05 binary_PYK01 + -4.19544265924e-05 binary_PYK02 + 0.796178343949 sp_acetate + 0.796178343949 sn_acetate>\n",
      "ObjVal=0.215295139809\n",
      "sp+sn=0.270913775456. sp=0.270913775456, sn=0.0\n",
      "----------------------------------------\n",
      "glucose\n",
      "Obj fun=<gurobi.LinExpr: -3.53216732947e-05 binary_G6PDH2r00 + 0.000176836747187 binary_G6PDH2r01 + 0.000121255525755 binary_G6PDH2r02 + -0.000104586128373 binary_AKGDH00 + -0.000245469149149 binary_AKGDH01 + 7.09252789193e-05 binary_AKGDH02 + 3.36261250595e-05 binary_GND00 + -5.03928276885e-08 binary_GND01 + -0.000414554482745 binary_GND02 + -0.000169553460751 binary_ACKr00 + -4.54716168861e-05 binary_ACKr01 + 0.000217932577129 binary_ACKr02 + 1.71482365658e-05 binary_SUCDi00 + 0.000130901161583 binary_SUCDi01 + 9.77868762675e-06 binary_SUCDi02 + 0.000122939339121 binary_MDH00 + 7.21526880625e-05 binary_MDH01 + -8.06901664419e-06 binary_MDH02 + 1.97406326379e-05 binary_GLUDy00 + -0.000174375903953 binary_GLUDy01 + -4.05020499556e-05 binary_GLUDy02 + -6.24892824135e-05 binary_PGL00 + -3.1105348171e-05 binary_PGL01 + -0.000238826695636 binary_PGL02 + 0.000194411844745 binary_PGI00 + 0.000136113332701 binary_PGI01 + -0.000379983236712 binary_PGI02 + 3.4647797861e-05 binary_NADTRHD00 + 0.000151783213823 binary_NADTRHD01 + 0.000192013503352 binary_NADTRHD02 + -0.000289324273467 binary_ICDHyr00 + -0.000165971615615 binary_ICDHyr01 + -0.000142466957072 binary_ICDHyr02 + 3.85885408605e-05 binary_GAPD00 + 9.10925410835e-05 binary_GAPD01 + -1.57467194413e-05 binary_GAPD02 + 7.34677288392e-05 binary_TPI00 + 2.04433596309e-05 binary_TPI01 + -1.04559865122e-05 binary_TPI02 + 6.8657012207e-05 binary_ENO00 + 3.73829253704e-05 binary_ENO01 + 3.02260741591e-05 binary_ENO02 + 0.0002198327835 binary_ACONTa00 + 0.000153069187832 binary_ACONTa01 + -8.32677983453e-07 binary_ACONTa02 + -0.000322147960446 binary_ACONTb00 + -8.56083929648e-05 binary_ACONTb01 + -1.97179092538e-05 binary_ACONTb02 + 0.000376131586336 binary_PDH00 + -0.000193683813563 binary_PDH01 + -0.000275413628287 binary_PDH02 + 0.000265911765382 binary_CS00 + -5.90878289586e-05 binary_CS01 + 4.09143524394e-05 binary_CS02 + 0.000239013061105 binary_TKT100 + 3.99946279686e-05 binary_TKT101 + 0.000155135031036 binary_TKT102 + -5.27299032456e-05 binary_PFK00 + 0.000207362717674 binary_PFK01 + 0.000305704767811 binary_PFK02 + -0.000350983048634 binary_FBA00 + 0.000140972013696 binary_FBA01 + -0.000285549593173 binary_FBA02 + -2.68056510322e-08 binary_PYK00 + -2.79556453506e-05 binary_PYK01 + 4.19544265924e-05 binary_PYK02 + 0.574712643678 sp_glucose + 0.574712643678 sn_glucose>\n",
      "ObjVal=-0.00371904489573\n",
      "sp+sn=0.000113281257774. sp=0.000113281257774, sn=0.0\n"
     ]
    }
   ],
   "source": [
    "for sub_ind,sub in iteritems(sub_dict):\n",
    "    print('-'*40)\n",
    "    print('%s'%sub_ind)\n",
    "    print('Obj fun=%s'%sub.model.getObjective())\n",
    "    sub.optimize()\n",
    "    print('ObjVal=%s'%sub.model.ObjVal)\n",
    "    sp = sub.x_dict['sp_%s'%sub_ind]\n",
    "    sn = sub.x_dict['sn_%s'%sub_ind]\n",
    "    print('sp+sn=%s. sp=%s, sn=%s' % (sp+sn, sp, sn))"
   ]
  },
  {
   "cell_type": "markdown",
   "metadata": {
    "deletable": true,
    "editable": true
   },
   "source": [
    "# 3) Validate solution"
   ]
  },
  {
   "cell_type": "code",
   "execution_count": 12,
   "metadata": {
    "collapsed": false,
    "deletable": true,
    "editable": true
   },
   "outputs": [
    {
     "name": "stdout",
     "output_type": "stream",
     "text": [
      "Changed keffs: 21/22\n",
      "Cond=glucose. mu_meas=0.74. mu_sim=0.873922 (unfit=0.873922, error=18.1%). Error=18.1% (1.11e-10% change)\n",
      "\tEX_glc__D_e uptake=-10\n",
      "\tEX_fru_e uptake=0\n",
      "\tEX_succ_e uptake=0\n",
      "\tEX_mal__L_e uptake=0\n",
      "\tEX_ac_e uptake=0\n",
      "Cond=acetate. mu_meas=0.256. mu_sim=0.389313 (unfit=0.389313, error=52.1%). Error=52.1% (1.94e-10% change)\n",
      "\tEX_glc__D_e uptake=0\n",
      "\tEX_fru_e uptake=0\n",
      "\tEX_succ_e uptake=0\n",
      "\tEX_mal__L_e uptake=0\n",
      "\tEX_ac_e uptake=-20\n"
     ]
    }
   ],
   "source": [
    "kfit_dict = {}\n",
    "for group_id, var_dict in iteritems(var_cons_dict):\n",
    "    var = var_dict[0]\n",
    "    cons = var_dict[1]\n",
    "    a0  = var_dict[0][2]\n",
    "    kfit = 0.\n",
    "    for l,pwr in enumerate(powers):\n",
    "        for k,digit in enumerate(digits):            \n",
    "            yid = 'binary_%s%s%s' % (group_id,k,l)\n",
    "            y   = sol_master[yid]\n",
    "#             if abs(y)>1e-10:\n",
    "#                 print('%s. Value=%s. Power=%g. Digit=%g' % (yid, y, pwr, digit))            \n",
    "            kfit += y*a0*radix**pwr*digit\n",
    "    kfit_dict[group_id] = kfit\n",
    "\n",
    "kfit_changed = [(k,v, abs(v-a0)/a0) for k,v in iteritems(kfit_dict) if abs(v-a0)/a0>1e-6]\n",
    "print('Changed keffs: %d/%d' % (len(kfit_changed), len(var_cons_dict)))\n",
    "# print('kfit_changed:',kfit_changed)\n",
    "\n",
    "#----------------------------------------\n",
    "# Starting from basal model\n",
    "csrcs = df_conds.cond.unique()\n",
    "for csrc in csrcs:    \n",
    "    ijofit = load_json_model('/home/laurence/ME/models/e_coli_core_pc.json')\n",
    "    crowding = ijofit.metabolites.get_by_id('crowding')\n",
    "    df_condi = df_conds[ df_conds.cond==csrc]    \n",
    "    for i,row in df_condi.iterrows():\n",
    "        rid = row['rxn']\n",
    "        rxn = ijofit.reactions.get_by_id(rid)\n",
    "        rxn.lower_bound = row['lb']\n",
    "        rxn.upper_bound = row['ub']\n",
    "\n",
    "    for rid,kfit in iteritems(kfit_dict):\n",
    "        rxn = ijofit.reactions.get_by_id(rid)\n",
    "        rxn.add_metabolites({crowding:kfit}, combine=False)\n",
    "    \n",
    "    ijofit.optimize()\n",
    "    \n",
    "    mu_measi = df_meas[ df_meas.substrate==csrc].growth_rate_1_h.iloc[0]\n",
    "    mu_fiti = ijofit.reactions.BIOMASS_Ecoli_core_w_GAM.x\n",
    "    \n",
    "    # Get unfit\n",
    "    for rxn in ijofit.metabolites.crowding.reactions:\n",
    "        rxn._metabolites[crowding] = a0\n",
    "    ijofit.optimize()\n",
    "    mu_unfiti = ijofit.reactions.BIOMASS_Ecoli_core_w_GAM.x\n",
    "    err0= 100*(mu_unfiti-mu_measi)/mu_measi\n",
    "    err = 100*(mu_fiti - mu_measi)/mu_measi\n",
    "    derr= 100*(abs(err)-abs(err0))/abs(err0)\n",
    "    print('Cond=%s. mu_meas=%g. mu_sim=%g (unfit=%g, error=%.3g%%). Error=%.3g%% (%.3g%% change)' % (csrc, mu_measi, mu_fiti, mu_unfiti, err0, err, derr))\n",
    "    for i,row in df_condi.iterrows():\n",
    "        rid = row['rxn']\n",
    "        rxn = ijofit.reactions.get_by_id(rid)        \n",
    "        print('\\t%s uptake=%g' % (rxn.id, rxn.x))"
   ]
  },
  {
   "cell_type": "markdown",
   "metadata": {
    "collapsed": false,
    "deletable": true,
    "editable": true
   },
   "source": [
    "import json\n",
    "\n",
    "with open('/home/laurence/ME/data/dynamicME/kfit_changed.json','w') as f:\n",
    "    json.dump(kfit_changed,f)"
   ]
  },
  {
   "cell_type": "code",
   "execution_count": 13,
   "metadata": {
    "collapsed": false
   },
   "outputs": [
    {
     "data": {
      "text/plain": [
       "0.12699299999999997"
      ]
     },
     "execution_count": 13,
     "metadata": {},
     "output_type": "execute_result"
    }
   ],
   "source": [
    "0.382993-0.256"
   ]
  }
 ],
 "metadata": {
  "kernelspec": {
   "display_name": "Python 2",
   "language": "python",
   "name": "python2"
  },
  "language_info": {
   "codemirror_mode": {
    "name": "ipython",
    "version": 2
   },
   "file_extension": ".py",
   "mimetype": "text/x-python",
   "name": "python",
   "nbconvert_exporter": "python",
   "pygments_lexer": "ipython2",
   "version": "2.7.14"
  }
 },
 "nbformat": 4,
 "nbformat_minor": 2
}
