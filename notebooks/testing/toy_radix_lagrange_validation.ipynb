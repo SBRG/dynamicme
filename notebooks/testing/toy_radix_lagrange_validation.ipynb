{
 "cells": [
  {
   "cell_type": "markdown",
   "metadata": {
    "deletable": true,
    "editable": true
   },
   "source": [
    "# Toy Radix Lagrangean decomposition validation"
   ]
  },
  {
   "cell_type": "code",
   "execution_count": 1,
   "metadata": {
    "collapsed": true,
    "deletable": true,
    "editable": true
   },
   "outputs": [],
   "source": [
    "REG_WEIGHT   = 1e-4\n",
    "MAX_NONZERO  = None"
   ]
  },
  {
   "cell_type": "code",
   "execution_count": 2,
   "metadata": {
    "collapsed": false,
    "deletable": true,
    "editable": true
   },
   "outputs": [],
   "source": [
    "%load_ext line_profiler"
   ]
  },
  {
   "cell_type": "code",
   "execution_count": 3,
   "metadata": {
    "collapsed": false,
    "deletable": true,
    "editable": true
   },
   "outputs": [],
   "source": [
    "from gurobipy import *\n",
    "\n",
    "import seaborn as sns\n",
    "import pandas as pd\n",
    "import matplotlib.pyplot as plt\n",
    "import numpy as np\n",
    "\n",
    "plt.rcParams['svg.fonttype'] = 'none'\n",
    "pd.set_option('display.max_colwidth', -1)\n",
    "%matplotlib inline\n",
    "\n",
    "from cobra.io import load_json_model\n",
    "from six import iteritems\n",
    "import numpy as np\n",
    "import cobra"
   ]
  },
  {
   "cell_type": "code",
   "execution_count": 4,
   "metadata": {
    "collapsed": true,
    "deletable": true,
    "editable": true
   },
   "outputs": [],
   "source": [
    "ijomc = load_json_model('/home/laurence/ME/models/e_coli_core_pc.json')"
   ]
  },
  {
   "cell_type": "code",
   "execution_count": 5,
   "metadata": {
    "collapsed": false,
    "deletable": true,
    "editable": true
   },
   "outputs": [
    {
     "name": "stdout",
     "output_type": "stream",
     "text": [
      "0.873921506968\n"
     ]
    }
   ],
   "source": [
    "ijomc.optimize()\n",
    "mu_crowd0 = ijomc.reactions.BIOMASS_Ecoli_core_w_GAM.x\n",
    "print(mu_crowd0)"
   ]
  },
  {
   "cell_type": "code",
   "execution_count": 6,
   "metadata": {
    "collapsed": false,
    "deletable": true,
    "editable": true
   },
   "outputs": [],
   "source": [
    "df_meas = pd.read_csv('/home/laurence/ME/data/dynamicME/beg/growth_meas.csv')\n",
    "\n",
    "ex_rxns = [r for r in df_meas.ex_rxn.unique() if ijomc.reactions.has_id(r)]\n",
    "df_meas = df_meas[ df_meas.ex_rxn.isin(ex_rxns)]\n",
    "conds = df_meas.substrate.unique()\n",
    "\n",
    "#N_CONDS = len(conds)\n",
    "N_CONDS = 3\n",
    "\n",
    "df_conds = pd.DataFrame([{'cond':r['substrate'], 'rxn':ex_rxn, 'lb':-10 if r['ex_rxn']==ex_rxn else 0, 'ub':1000., 'obj':0.} for i,r in df_meas.iterrows() for ex_rxn in ex_rxns])\n",
    "\n",
    "if N_CONDS<=3:\n",
    "    df_conds = df_conds[ df_conds.cond.isin(['glucose','acetate','succinate'][0:N_CONDS])]\n",
    "else:\n",
    "    df_conds = df_conds[ df_conds.cond.isin(conds[0:N_CONDS])]\n",
    "\n",
    "df_conds.loc[ (df_conds.cond=='acetate') & (df_conds.rxn=='EX_ac_e'), 'lb'] = -20"
   ]
  },
  {
   "cell_type": "markdown",
   "metadata": {},
   "source": [
    "# Make radix problem"
   ]
  },
  {
   "cell_type": "code",
   "execution_count": 7,
   "metadata": {
    "collapsed": false
   },
   "outputs": [
    {
     "name": "stdout",
     "output_type": "stream",
     "text": [
      "(<type 'exceptions.ImportError'>, ImportError('No module named cplex',), <traceback object at 0x7f59e41b48c0>)\n"
     ]
    }
   ],
   "source": [
    "from dynamicme.estimate import RadixEstimator"
   ]
  },
  {
   "cell_type": "code",
   "execution_count": 8,
   "metadata": {
    "collapsed": false
   },
   "outputs": [],
   "source": [
    "df_Y = df_meas.rename(columns={'growth_rate_1_h':'output', 'substrate':'cond'})\n",
    "df_Y.loc[:,'output_id'] = 'BIOMASS_Ecoli_core_w_GAM'\n",
    "df_X = df_conds"
   ]
  },
  {
   "cell_type": "code",
   "execution_count": 9,
   "metadata": {
    "collapsed": false
   },
   "outputs": [
    {
     "name": "stdout",
     "output_type": "stream",
     "text": [
      "Changed value of parameter OutputFlag to 1\n",
      "   Prev: 0  Min: 0  Max: 1  Default: 1\n",
      "Changed value of parameter ScaleFlag to 0\n",
      "   Prev: -1  Min: -1  Max: 3  Default: -1\n",
      "Parameter OutputFlag unchanged\n",
      "   Value: 1  Min: 0  Max: 1  Default: 1\n",
      "Optimize a model with 4158 rows, 2088 columns and 12333 nonzeros\n",
      "Variable types: 1944 continuous, 144 integer (0 binary)\n",
      "Coefficient statistics:\n",
      "  Matrix range     [2e-06, 1e+03]\n",
      "  Objective range  [1e-04, 8e-01]\n",
      "  Bounds range     [1e+00, 1e+03]\n",
      "  RHS range        [1e-03, 1e+03]\n",
      "Presolve removed 1035 rows and 390 columns\n",
      "Presolve time: 0.02s\n",
      "Presolved: 3123 rows, 1698 columns, 9751 nonzeros\n",
      "Variable types: 1554 continuous, 144 integer (144 binary)\n",
      "Presolve removed 3 rows and 6 columns\n",
      "\n",
      "Root relaxation: objective 4.595912e-02, 1907 iterations, 0.05 seconds\n",
      "\n",
      "    Nodes    |    Current Node    |     Objective Bounds      |     Work\n",
      " Expl Unexpl |  Obj  Depth IntInf | Incumbent    BestBd   Gap | It/Node Time\n",
      "\n",
      "     0     0    0.04596    0   99          -    0.04596      -     -    0s\n",
      "H    0     0                       0.2014033    0.04596  77.2%     -    0s\n",
      "H    0     0                       0.1047230    0.04596  56.1%     -    0s\n",
      "     0     0    0.04601    0   99    0.10472    0.04601  56.1%     -    0s\n",
      "     0     0    0.04601    0   99    0.10472    0.04601  56.1%     -    0s\n",
      "     0     0    0.04601    0   99    0.10472    0.04601  56.1%     -    0s\n",
      "     0     0    0.04601    0   99    0.10472    0.04601  56.1%     -    0s\n",
      "     0     0    0.04601    0   98    0.10472    0.04601  56.1%     -    0s\n",
      "     0     0    0.04601    0   98    0.10472    0.04601  56.1%     -    0s\n",
      "     0     0    0.04601    0   98    0.10472    0.04601  56.1%     -    0s\n",
      "     0     0    0.04601    0   98    0.10472    0.04601  56.1%     -    0s\n",
      "     0     2    0.04601    0   98    0.10472    0.04601  56.1%     -    0s\n",
      "H  176   166                       0.1007623    0.04601  54.3%  10.7    0s\n",
      "H  291   293                       0.0740787    0.04601  37.9%  12.9    0s\n",
      "H  331   336                       0.0653300    0.04601  29.6%  16.4    0s\n",
      "H  342   344                       0.0623747    0.04601  26.2%  17.1    0s\n",
      "H  494   405                       0.0564798    0.04601  18.5%  16.7    0s\n",
      "H  770   562                       0.0554211    0.04601  17.0%  14.2    0s\n",
      "* 2276  1510             130       0.0549916    0.04758  13.5%  19.1    2s\n",
      "H 2296  1442                       0.0514105    0.04758  7.45%  19.1    2s\n",
      "H 2365   554                       0.0478331    0.04758  0.52%  19.1    2s\n",
      "* 2370   289             124       0.0474668    0.04747  0.00%  19.1    2s\n",
      "\n",
      "Cutting planes:\n",
      "  Gomory: 10\n",
      "  MIR: 10\n",
      "  Flow cover: 9\n",
      "\n",
      "Explored 2408 nodes (48690 simplex iterations) in 2.25 seconds\n",
      "Thread count was 8 (of 8 available processors)\n",
      "\n",
      "Solution count 10: 0.0474668 0.0478331 0.0514105 ... 0.100762\n",
      "\n",
      "Optimal solution found (tolerance 1.00e-04)\n",
      "Best objective 4.746684769493e-02, best bound 4.746684769493e-02, gap 0.0000%\n"
     ]
    },
    {
     "data": {
      "text/plain": [
       "<Solution 0.05 at 0x7f5940f19650>"
      ]
     },
     "execution_count": 9,
     "metadata": {},
     "output_type": "execute_result"
    }
   ],
   "source": [
    "est = RadixEstimator()\n",
    "est.fit(ijomc, df_X, df_Y, reg_weight = REG_WEIGHT, max_nonzero_binaries=MAX_NONZERO, optimize=False)\n",
    "est.milp.Params.ScaleFlag = 0\n",
    "est.milp.Params.OutputFlag = 1\n",
    "# est.milp.Params.Presolve = 0\n",
    "# est.milp.Params.FeasibilityTol = 1e-8\n",
    "# est.milp.Params.OptimalityTol = 1e-8\n",
    "est.optimize()"
   ]
  },
  {
   "cell_type": "markdown",
   "metadata": {},
   "source": [
    "## Validate the fit"
   ]
  },
  {
   "cell_type": "code",
   "execution_count": 10,
   "metadata": {
    "collapsed": true
   },
   "outputs": [],
   "source": [
    "base_model = load_json_model('/home/laurence/ME/models/e_coli_core_pc.json')"
   ]
  },
  {
   "cell_type": "code",
   "execution_count": 11,
   "metadata": {
    "collapsed": false
   },
   "outputs": [],
   "source": [
    "mu_id = 'BIOMASS_Ecoli_core_w_GAM'\n",
    "df_pred = est.predict(df_X, base_model, meas_id=mu_id)"
   ]
  },
  {
   "cell_type": "code",
   "execution_count": 12,
   "metadata": {
    "collapsed": false
   },
   "outputs": [
    {
     "data": {
      "text/html": [
       "<div>\n",
       "<style scoped>\n",
       "    .dataframe tbody tr th:only-of-type {\n",
       "        vertical-align: middle;\n",
       "    }\n",
       "\n",
       "    .dataframe tbody tr th {\n",
       "        vertical-align: top;\n",
       "    }\n",
       "\n",
       "    .dataframe thead th {\n",
       "        text-align: right;\n",
       "    }\n",
       "</style>\n",
       "<table border=\"1\" class=\"dataframe\">\n",
       "  <thead>\n",
       "    <tr style=\"text-align: right;\">\n",
       "      <th></th>\n",
       "      <th>cond</th>\n",
       "      <th>meas</th>\n",
       "      <th>output_id</th>\n",
       "      <th>pred</th>\n",
       "      <th>error</th>\n",
       "      <th>perror</th>\n",
       "    </tr>\n",
       "  </thead>\n",
       "  <tbody>\n",
       "    <tr>\n",
       "      <th>0</th>\n",
       "      <td>glucose</td>\n",
       "      <td>0.740</td>\n",
       "      <td>BIOMASS_Ecoli_core_w_GAM</td>\n",
       "      <td>0.740959</td>\n",
       "      <td>0.000959</td>\n",
       "      <td>0.129592</td>\n",
       "    </tr>\n",
       "    <tr>\n",
       "      <th>1</th>\n",
       "      <td>succinate</td>\n",
       "      <td>0.460</td>\n",
       "      <td>BIOMASS_Ecoli_core_w_GAM</td>\n",
       "      <td>0.397563</td>\n",
       "      <td>-0.062437</td>\n",
       "      <td>-13.573258</td>\n",
       "    </tr>\n",
       "    <tr>\n",
       "      <th>2</th>\n",
       "      <td>acetate</td>\n",
       "      <td>0.256</td>\n",
       "      <td>BIOMASS_Ecoli_core_w_GAM</td>\n",
       "      <td>0.254926</td>\n",
       "      <td>-0.001074</td>\n",
       "      <td>-0.419519</td>\n",
       "    </tr>\n",
       "  </tbody>\n",
       "</table>\n",
       "</div>"
      ],
      "text/plain": [
       "        cond   meas                 output_id      pred     error     perror\n",
       "0  glucose    0.740  BIOMASS_Ecoli_core_w_GAM  0.740959  0.000959  0.129592 \n",
       "1  succinate  0.460  BIOMASS_Ecoli_core_w_GAM  0.397563 -0.062437 -13.573258\n",
       "2  acetate    0.256  BIOMASS_Ecoli_core_w_GAM  0.254926 -0.001074 -0.419519 "
      ]
     },
     "execution_count": 12,
     "metadata": {},
     "output_type": "execute_result"
    }
   ],
   "source": [
    "df_Y2 = df_Y[[c for c in df_Y.columns if c not in ['order','ex_rxn']]]\n",
    "df_val = pd.merge(df_Y2.rename(columns={'output':'meas'}), df_pred.rename(columns={'rxn':'output_id','x':'pred'}), on=['cond','output_id'])\n",
    "df_val.loc[:,'error'] = (df_val.pred - df_val.meas)\n",
    "df_val.loc[:,'perror'] = df_val.error / df_val.meas * 100\n",
    "df_val"
   ]
  },
  {
   "cell_type": "code",
   "execution_count": 13,
   "metadata": {
    "collapsed": false
   },
   "outputs": [],
   "source": [
    "a0 = 1./65/3600\n",
    "kfit_dict0 = {k:a0 for k in est.kfit_dict.keys()}\n",
    "df_ref = est.predict(df_X, base_model, meas_id=mu_id, kfit_dict=kfit_dict0)\n",
    "df_ref.rename(columns={'rxn':'output_id','x':'output'}, inplace=True)"
   ]
  },
  {
   "cell_type": "code",
   "execution_count": 14,
   "metadata": {
    "collapsed": false
   },
   "outputs": [],
   "source": [
    "df_val0 = pd.merge(df_Y2.rename(columns={'output':'meas'}), df_ref.rename(columns={'output':'pred0'}), on=['cond','output_id'])\n",
    "df_val0.loc[:,'error0'] = (df_val0.pred0 - df_val0.meas)\n",
    "df_val0.loc[:,'perror0'] = df_val0.error0 / df_val0.meas * 100"
   ]
  },
  {
   "cell_type": "code",
   "execution_count": 15,
   "metadata": {
    "collapsed": false
   },
   "outputs": [
    {
     "data": {
      "text/html": [
       "<div>\n",
       "<style scoped>\n",
       "    .dataframe tbody tr th:only-of-type {\n",
       "        vertical-align: middle;\n",
       "    }\n",
       "\n",
       "    .dataframe tbody tr th {\n",
       "        vertical-align: top;\n",
       "    }\n",
       "\n",
       "    .dataframe thead th {\n",
       "        text-align: right;\n",
       "    }\n",
       "</style>\n",
       "<table border=\"1\" class=\"dataframe\">\n",
       "  <thead>\n",
       "    <tr style=\"text-align: right;\">\n",
       "      <th></th>\n",
       "      <th>cond</th>\n",
       "      <th>meas</th>\n",
       "      <th>output_id</th>\n",
       "      <th>pred</th>\n",
       "      <th>error</th>\n",
       "      <th>perror</th>\n",
       "      <th>pred0</th>\n",
       "      <th>error0</th>\n",
       "      <th>perror0</th>\n",
       "      <th>error_change</th>\n",
       "    </tr>\n",
       "  </thead>\n",
       "  <tbody>\n",
       "    <tr>\n",
       "      <th>0</th>\n",
       "      <td>glucose</td>\n",
       "      <td>0.740</td>\n",
       "      <td>BIOMASS_Ecoli_core_w_GAM</td>\n",
       "      <td>0.740959</td>\n",
       "      <td>0.000959</td>\n",
       "      <td>0.129592</td>\n",
       "      <td>0.873922</td>\n",
       "      <td>0.133922</td>\n",
       "      <td>18.097501</td>\n",
       "      <td>-9.928393e+01</td>\n",
       "    </tr>\n",
       "    <tr>\n",
       "      <th>1</th>\n",
       "      <td>succinate</td>\n",
       "      <td>0.460</td>\n",
       "      <td>BIOMASS_Ecoli_core_w_GAM</td>\n",
       "      <td>0.397563</td>\n",
       "      <td>-0.062437</td>\n",
       "      <td>-13.573258</td>\n",
       "      <td>0.397563</td>\n",
       "      <td>-0.062437</td>\n",
       "      <td>-13.573258</td>\n",
       "      <td>-1.048930e-09</td>\n",
       "    </tr>\n",
       "    <tr>\n",
       "      <th>2</th>\n",
       "      <td>acetate</td>\n",
       "      <td>0.256</td>\n",
       "      <td>BIOMASS_Ecoli_core_w_GAM</td>\n",
       "      <td>0.254926</td>\n",
       "      <td>-0.001074</td>\n",
       "      <td>-0.419519</td>\n",
       "      <td>0.389313</td>\n",
       "      <td>0.133313</td>\n",
       "      <td>52.075420</td>\n",
       "      <td>-9.919440e+01</td>\n",
       "    </tr>\n",
       "  </tbody>\n",
       "</table>\n",
       "</div>"
      ],
      "text/plain": [
       "        cond   meas                 output_id      pred     error     perror  \\\n",
       "0  glucose    0.740  BIOMASS_Ecoli_core_w_GAM  0.740959  0.000959  0.129592    \n",
       "1  succinate  0.460  BIOMASS_Ecoli_core_w_GAM  0.397563 -0.062437 -13.573258   \n",
       "2  acetate    0.256  BIOMASS_Ecoli_core_w_GAM  0.254926 -0.001074 -0.419519    \n",
       "\n",
       "      pred0    error0    perror0  error_change  \n",
       "0  0.873922  0.133922  18.097501 -9.928393e+01  \n",
       "1  0.397563 -0.062437 -13.573258 -1.048930e-09  \n",
       "2  0.389313  0.133313  52.075420 -9.919440e+01  "
      ]
     },
     "execution_count": 15,
     "metadata": {},
     "output_type": "execute_result"
    }
   ],
   "source": [
    "df_comp = pd.merge(df_val, df_val0, on=['cond','output_id','meas'])\n",
    "df_comp.loc[:,'error_change'] = (df_comp.error.abs()-df_comp.error0.abs()) / df_comp.error0.abs() * 100\n",
    "df_comp"
   ]
  },
  {
   "cell_type": "code",
   "execution_count": 16,
   "metadata": {
    "collapsed": false
   },
   "outputs": [
    {
     "name": "stdout",
     "output_type": "stream",
     "text": [
      "Total abs error: 14.1224%\n",
      "Total error change: -198.478%\n",
      "Number of keffs changed: 28/48 (58%)\n"
     ]
    }
   ],
   "source": [
    "print('Total abs error: %g%%' % df_comp.perror.abs().sum())\n",
    "print('Total error change: %g%%' % df_comp.error_change.sum())\n",
    "changed = [abs(est.kfit_dict[k]-kfit_dict0[k])>1e-9 for k in est.kfit_dict.keys()]\n",
    "print('Number of keffs changed: %d/%d (%g%%)' % (sum(changed),len(est.kfit_dict), 100*sum(changed)/len(est.kfit_dict) ))"
   ]
  }
 ],
 "metadata": {
  "kernelspec": {
   "display_name": "Python 2",
   "language": "python",
   "name": "python2"
  },
  "language_info": {
   "codemirror_mode": {
    "name": "ipython",
    "version": 2
   },
   "file_extension": ".py",
   "mimetype": "text/x-python",
   "name": "python",
   "nbconvert_exporter": "python",
   "pygments_lexer": "ipython2",
   "version": "2.7.14"
  }
 },
 "nbformat": 4,
 "nbformat_minor": 2
}
