{
 "cells": [
  {
   "cell_type": "markdown",
   "metadata": {
    "deletable": true,
    "editable": true
   },
   "source": [
    "# Toy Radix Lagrangean decomposition validation"
   ]
  },
  {
   "cell_type": "code",
   "execution_count": 1,
   "metadata": {
    "collapsed": true,
    "deletable": true,
    "editable": true
   },
   "outputs": [],
   "source": [
    "REG_WEIGHT   = 1e-4\n",
    "MAX_NONZERO  = 48*2"
   ]
  },
  {
   "cell_type": "code",
   "execution_count": 2,
   "metadata": {
    "collapsed": false,
    "deletable": true,
    "editable": true
   },
   "outputs": [],
   "source": [
    "%load_ext line_profiler"
   ]
  },
  {
   "cell_type": "code",
   "execution_count": 3,
   "metadata": {
    "collapsed": false,
    "deletable": true,
    "editable": true
   },
   "outputs": [],
   "source": [
    "from gurobipy import *\n",
    "\n",
    "import seaborn as sns\n",
    "import pandas as pd\n",
    "import matplotlib.pyplot as plt\n",
    "import numpy as np\n",
    "\n",
    "plt.rcParams['svg.fonttype'] = 'none'\n",
    "pd.set_option('display.max_colwidth', -1)\n",
    "%matplotlib inline\n",
    "\n",
    "from cobra.io import load_json_model\n",
    "from six import iteritems\n",
    "import numpy as np\n",
    "import cobra"
   ]
  },
  {
   "cell_type": "code",
   "execution_count": 4,
   "metadata": {
    "collapsed": true,
    "deletable": true,
    "editable": true
   },
   "outputs": [],
   "source": [
    "ijomc = load_json_model('/home/laurence/ME/models/e_coli_core_pc.json')"
   ]
  },
  {
   "cell_type": "code",
   "execution_count": 5,
   "metadata": {
    "collapsed": false,
    "deletable": true,
    "editable": true
   },
   "outputs": [
    {
     "name": "stdout",
     "output_type": "stream",
     "text": [
      "0.873921506968\n"
     ]
    }
   ],
   "source": [
    "ijomc.optimize()\n",
    "mu_crowd0 = ijomc.reactions.BIOMASS_Ecoli_core_w_GAM.x\n",
    "print(mu_crowd0)"
   ]
  },
  {
   "cell_type": "code",
   "execution_count": 6,
   "metadata": {
    "collapsed": false,
    "deletable": true,
    "editable": true
   },
   "outputs": [],
   "source": [
    "df_meas = pd.read_csv('/home/laurence/ME/data/dynamicME/beg/growth_meas.csv')\n",
    "\n",
    "ex_rxns = [r for r in df_meas.ex_rxn.unique() if ijomc.reactions.has_id(r)]\n",
    "df_meas = df_meas[ df_meas.ex_rxn.isin(ex_rxns)]\n",
    "conds = df_meas.substrate.unique()\n",
    "\n",
    "#N_CONDS = len(conds)\n",
    "N_CONDS = 2\n",
    "\n",
    "df_conds = pd.DataFrame([{'cond':r['substrate'], 'rxn':ex_rxn, 'lb':-10 if r['ex_rxn']==ex_rxn else 0, 'ub':1000., 'obj':0.} for i,r in df_meas.iterrows() for ex_rxn in ex_rxns])\n",
    "\n",
    "if N_CONDS<=3:\n",
    "    df_conds = df_conds[ df_conds.cond.isin(['glucose','acetate','succinate'][0:N_CONDS])]\n",
    "else:\n",
    "    df_conds = df_conds[ df_conds.cond.isin(conds[0:N_CONDS])]\n",
    "\n",
    "df_conds.loc[ (df_conds.cond=='acetate') & (df_conds.rxn=='EX_ac_e'), 'lb'] = -20"
   ]
  },
  {
   "cell_type": "markdown",
   "metadata": {},
   "source": [
    "# Make radix problem"
   ]
  },
  {
   "cell_type": "code",
   "execution_count": 7,
   "metadata": {
    "collapsed": false
   },
   "outputs": [
    {
     "name": "stdout",
     "output_type": "stream",
     "text": [
      "(<type 'exceptions.ImportError'>, ImportError('No module named cplex',), <traceback object at 0x7f3a07b17368>)\n"
     ]
    }
   ],
   "source": [
    "from dynamicme.estimate import RadixEstimator"
   ]
  },
  {
   "cell_type": "code",
   "execution_count": 8,
   "metadata": {
    "collapsed": false
   },
   "outputs": [],
   "source": [
    "df_Y = df_meas.rename(columns={'growth_rate_1_h':'output', 'substrate':'cond'})\n",
    "df_Y.loc[:,'output_id'] = 'BIOMASS_Ecoli_core_w_GAM'\n",
    "df_X = df_conds"
   ]
  },
  {
   "cell_type": "code",
   "execution_count": 9,
   "metadata": {
    "collapsed": false
   },
   "outputs": [
    {
     "name": "stdout",
     "output_type": "stream",
     "text": [
      "Changed value of parameter OutputFlag to 1\n",
      "   Prev: 0  Min: 0  Max: 1  Default: 1\n",
      "Changed value of parameter ScaleFlag to 0\n",
      "   Prev: -1  Min: -1  Max: 3  Default: -1\n",
      "Parameter OutputFlag unchanged\n",
      "   Value: 1  Min: 0  Max: 1  Default: 1\n",
      "Optimize a model with 2837 rows, 1440 columns and 8462 nonzeros\n",
      "Variable types: 1296 continuous, 144 integer (0 binary)\n",
      "Coefficient statistics:\n",
      "  Matrix range     [2e-06, 1e+03]\n",
      "  Objective range  [1e-04, 8e-01]\n",
      "  Bounds range     [1e+00, 1e+03]\n",
      "  RHS range        [1e-03, 1e+03]\n",
      "Presolve removed 735 rows and 260 columns\n",
      "Presolve time: 0.02s\n",
      "Presolved: 2102 rows, 1180 columns, 6702 nonzeros\n",
      "Variable types: 1036 continuous, 144 integer (144 binary)\n",
      "Presolve removed 2 rows and 4 columns\n",
      "\n",
      "Root relaxation: objective 3.187023e-03, 1405 iterations, 0.04 seconds\n",
      "\n",
      "    Nodes    |    Current Node    |     Objective Bounds      |     Work\n",
      " Expl Unexpl |  Obj  Depth IntInf | Incumbent    BestBd   Gap | It/Node Time\n",
      "\n",
      "     0     0    0.00319    0   98          -    0.00319      -     -    0s\n",
      "H    0     0                       0.1854891    0.00319  98.3%     -    0s\n",
      "H    0     0                       0.1837891    0.00319  98.3%     -    0s\n",
      "     0     0    0.00343    0  100    0.18379    0.00343  98.1%     -    0s\n",
      "     0     0    0.00348    0   97    0.18379    0.00348  98.1%     -    0s\n",
      "H    0     0                       0.0838567    0.00348  95.8%     -    0s\n",
      "     0     0    0.00348    0   94    0.08386    0.00348  95.8%     -    0s\n",
      "     0     0    0.00355    0   94    0.08386    0.00355  95.8%     -    0s\n",
      "     0     0    0.00355    0   94    0.08386    0.00355  95.8%     -    0s\n",
      "     0     0    0.00355    0   94    0.08386    0.00355  95.8%     -    0s\n",
      "     0     0    0.00355    0   90    0.08386    0.00355  95.8%     -    0s\n",
      "     0     0    0.00355    0   89    0.08386    0.00355  95.8%     -    0s\n",
      "H    0     0                       0.0507971    0.00355  93.0%     -    0s\n",
      "     0     0    0.00355    0   87    0.05080    0.00355  93.0%     -    0s\n",
      "     0     0    0.00355    0   87    0.05080    0.00355  93.0%     -    0s\n",
      "     0     0    0.00355    0   87    0.05080    0.00355  93.0%     -    0s\n",
      "     0     0    0.00355    0   87    0.05080    0.00355  93.0%     -    0s\n",
      "     0     2    0.00355    0   86    0.05080    0.00355  93.0%     -    0s\n",
      "H  273   258                       0.0424309    0.00355  91.6%  46.9    0s\n",
      "H  431   423                       0.0210523    0.00355  83.1%  36.5    0s\n",
      "H  432   404                       0.0110293    0.00355  67.8%  36.5    0s\n",
      "H  461   394                       0.0104135    0.00355  65.9%  34.6    0s\n",
      "H  524   407                       0.0093975    0.00355  62.2%  32.7    0s\n",
      "*  866   651             122       0.0088861    0.00355  60.0%  32.9    0s\n",
      "* 1090   803             120       0.0084110    0.00355  57.8%  30.6    0s\n",
      "* 1091   776             120       0.0070638    0.00355  49.7%  30.5    0s\n",
      "H 1118   795                       0.0067953    0.00355  47.7%  30.0    0s\n",
      "H 1120   761                       0.0055321    0.00355  35.8%  30.0    0s\n",
      "H 2678   318                       0.0046576    0.00466  0.00%  34.9    2s\n",
      "\n",
      "Cutting planes:\n",
      "  Gomory: 6\n",
      "  MIR: 12\n",
      "  Flow cover: 10\n",
      "\n",
      "Explored 2731 nodes (98205 simplex iterations) in 2.62 seconds\n",
      "Thread count was 8 (of 8 available processors)\n",
      "\n",
      "Solution count 10: 0.00465759 0.00553211 0.00679531 ... 0.0210523\n",
      "\n",
      "Optimal solution found (tolerance 1.00e-04)\n",
      "Best objective 4.657591435995e-03, best bound 4.657591435995e-03, gap 0.0000%\n"
     ]
    },
    {
     "data": {
      "text/plain": [
       "<Solution 0.00 at 0x7f3a582eb5d0>"
      ]
     },
     "execution_count": 9,
     "metadata": {},
     "output_type": "execute_result"
    }
   ],
   "source": [
    "est = RadixEstimator()\n",
    "est.fit(ijomc, df_X, df_Y, reg_weight = REG_WEIGHT, max_nonzero_binaries=MAX_NONZERO, optimize=False)\n",
    "est.milp.Params.ScaleFlag = 0\n",
    "est.milp.Params.OutputFlag = 1\n",
    "# est.milp.Params.Presolve = 0\n",
    "# est.milp.Params.FeasibilityTol = 1e-8\n",
    "# est.milp.Params.OptimalityTol = 1e-8\n",
    "est.optimize()"
   ]
  },
  {
   "cell_type": "markdown",
   "metadata": {},
   "source": [
    "## Validate the fit"
   ]
  },
  {
   "cell_type": "code",
   "execution_count": 10,
   "metadata": {
    "collapsed": true
   },
   "outputs": [],
   "source": [
    "base_model = load_json_model('/home/laurence/ME/models/e_coli_core_pc.json')"
   ]
  },
  {
   "cell_type": "code",
   "execution_count": 11,
   "metadata": {
    "collapsed": false
   },
   "outputs": [],
   "source": [
    "mu_id = 'BIOMASS_Ecoli_core_w_GAM'\n",
    "df_pred = est.predict(df_X, base_model, meas_id=mu_id)"
   ]
  },
  {
   "cell_type": "code",
   "execution_count": 12,
   "metadata": {
    "collapsed": false
   },
   "outputs": [
    {
     "data": {
      "text/html": [
       "<div>\n",
       "<style scoped>\n",
       "    .dataframe tbody tr th:only-of-type {\n",
       "        vertical-align: middle;\n",
       "    }\n",
       "\n",
       "    .dataframe tbody tr th {\n",
       "        vertical-align: top;\n",
       "    }\n",
       "\n",
       "    .dataframe thead th {\n",
       "        text-align: right;\n",
       "    }\n",
       "</style>\n",
       "<table border=\"1\" class=\"dataframe\">\n",
       "  <thead>\n",
       "    <tr style=\"text-align: right;\">\n",
       "      <th></th>\n",
       "      <th>cond</th>\n",
       "      <th>meas</th>\n",
       "      <th>output_id</th>\n",
       "      <th>pred</th>\n",
       "      <th>error</th>\n",
       "      <th>perror</th>\n",
       "    </tr>\n",
       "  </thead>\n",
       "  <tbody>\n",
       "    <tr>\n",
       "      <th>0</th>\n",
       "      <td>glucose</td>\n",
       "      <td>0.740</td>\n",
       "      <td>BIOMASS_Ecoli_core_w_GAM</td>\n",
       "      <td>0.740174</td>\n",
       "      <td>0.000174</td>\n",
       "      <td>0.023479</td>\n",
       "    </tr>\n",
       "    <tr>\n",
       "      <th>1</th>\n",
       "      <td>acetate</td>\n",
       "      <td>0.256</td>\n",
       "      <td>BIOMASS_Ecoli_core_w_GAM</td>\n",
       "      <td>0.256324</td>\n",
       "      <td>0.000324</td>\n",
       "      <td>0.126470</td>\n",
       "    </tr>\n",
       "  </tbody>\n",
       "</table>\n",
       "</div>"
      ],
      "text/plain": [
       "      cond   meas                 output_id      pred     error    perror\n",
       "0  glucose  0.740  BIOMASS_Ecoli_core_w_GAM  0.740174  0.000174  0.023479\n",
       "1  acetate  0.256  BIOMASS_Ecoli_core_w_GAM  0.256324  0.000324  0.126470"
      ]
     },
     "execution_count": 12,
     "metadata": {},
     "output_type": "execute_result"
    }
   ],
   "source": [
    "df_Y2 = df_Y[[c for c in df_Y.columns if c not in ['order','ex_rxn']]]\n",
    "df_val = pd.merge(df_Y2.rename(columns={'output':'meas'}), df_pred.rename(columns={'rxn':'output_id','x':'pred'}), on=['cond','output_id'])\n",
    "df_val.loc[:,'error'] = (df_val.pred - df_val.meas)\n",
    "df_val.loc[:,'perror'] = df_val.error / df_val.meas * 100\n",
    "df_val"
   ]
  },
  {
   "cell_type": "code",
   "execution_count": 13,
   "metadata": {
    "collapsed": false
   },
   "outputs": [],
   "source": [
    "a0 = 1./65/3600\n",
    "kfit_dict0 = {k:a0 for k in est.kfit_dict.keys()}\n",
    "df_ref = est.predict(df_X, base_model, meas_id=mu_id, kfit_dict=kfit_dict0)\n",
    "df_ref.rename(columns={'rxn':'output_id','x':'output'}, inplace=True)"
   ]
  },
  {
   "cell_type": "code",
   "execution_count": 14,
   "metadata": {
    "collapsed": false
   },
   "outputs": [],
   "source": [
    "df_val0 = pd.merge(df_Y2.rename(columns={'output':'meas'}), df_ref.rename(columns={'output':'pred0'}), on=['cond','output_id'])\n",
    "df_val0.loc[:,'error0'] = (df_val0.pred0 - df_val0.meas)\n",
    "df_val0.loc[:,'perror0'] = df_val0.error0 / df_val0.meas * 100"
   ]
  },
  {
   "cell_type": "code",
   "execution_count": 15,
   "metadata": {
    "collapsed": false
   },
   "outputs": [
    {
     "data": {
      "text/html": [
       "<div>\n",
       "<style scoped>\n",
       "    .dataframe tbody tr th:only-of-type {\n",
       "        vertical-align: middle;\n",
       "    }\n",
       "\n",
       "    .dataframe tbody tr th {\n",
       "        vertical-align: top;\n",
       "    }\n",
       "\n",
       "    .dataframe thead th {\n",
       "        text-align: right;\n",
       "    }\n",
       "</style>\n",
       "<table border=\"1\" class=\"dataframe\">\n",
       "  <thead>\n",
       "    <tr style=\"text-align: right;\">\n",
       "      <th></th>\n",
       "      <th>cond</th>\n",
       "      <th>meas</th>\n",
       "      <th>output_id</th>\n",
       "      <th>pred</th>\n",
       "      <th>error</th>\n",
       "      <th>perror</th>\n",
       "      <th>pred0</th>\n",
       "      <th>error0</th>\n",
       "      <th>perror0</th>\n",
       "      <th>error_change</th>\n",
       "    </tr>\n",
       "  </thead>\n",
       "  <tbody>\n",
       "    <tr>\n",
       "      <th>0</th>\n",
       "      <td>glucose</td>\n",
       "      <td>0.740</td>\n",
       "      <td>BIOMASS_Ecoli_core_w_GAM</td>\n",
       "      <td>0.740174</td>\n",
       "      <td>0.000174</td>\n",
       "      <td>0.023479</td>\n",
       "      <td>0.873922</td>\n",
       "      <td>0.133922</td>\n",
       "      <td>18.097501</td>\n",
       "      <td>-99.870263</td>\n",
       "    </tr>\n",
       "    <tr>\n",
       "      <th>1</th>\n",
       "      <td>acetate</td>\n",
       "      <td>0.256</td>\n",
       "      <td>BIOMASS_Ecoli_core_w_GAM</td>\n",
       "      <td>0.256324</td>\n",
       "      <td>0.000324</td>\n",
       "      <td>0.126470</td>\n",
       "      <td>0.389313</td>\n",
       "      <td>0.133313</td>\n",
       "      <td>52.075420</td>\n",
       "      <td>-99.757140</td>\n",
       "    </tr>\n",
       "  </tbody>\n",
       "</table>\n",
       "</div>"
      ],
      "text/plain": [
       "      cond   meas                 output_id      pred     error    perror  \\\n",
       "0  glucose  0.740  BIOMASS_Ecoli_core_w_GAM  0.740174  0.000174  0.023479   \n",
       "1  acetate  0.256  BIOMASS_Ecoli_core_w_GAM  0.256324  0.000324  0.126470   \n",
       "\n",
       "      pred0    error0    perror0  error_change  \n",
       "0  0.873922  0.133922  18.097501 -99.870263     \n",
       "1  0.389313  0.133313  52.075420 -99.757140     "
      ]
     },
     "execution_count": 15,
     "metadata": {},
     "output_type": "execute_result"
    }
   ],
   "source": [
    "df_comp = pd.merge(df_val, df_val0, on=['cond','output_id','meas'])\n",
    "df_comp.loc[:,'error_change'] = (df_comp.error.abs()-df_comp.error0.abs()) / df_comp.error0.abs() * 100\n",
    "df_comp"
   ]
  },
  {
   "cell_type": "code",
   "execution_count": 16,
   "metadata": {
    "collapsed": false
   },
   "outputs": [
    {
     "name": "stdout",
     "output_type": "stream",
     "text": [
      "Total abs error: 0.149949%\n",
      "Total error change: -199.627%\n",
      "Number of keffs changed: 31/48 (64%)\n"
     ]
    }
   ],
   "source": [
    "print('Total abs error: %g%%' % df_comp.perror.abs().sum())\n",
    "print('Total error change: %g%%' % df_comp.error_change.sum())\n",
    "changed = [abs(est.kfit_dict[k]-kfit_dict0[k])>1e-9 for k in est.kfit_dict.keys()]\n",
    "print('Number of keffs changed: %d/%d (%g%%)' % (sum(changed),len(est.kfit_dict), 100*sum(changed)/len(est.kfit_dict) ))"
   ]
  },
  {
   "cell_type": "markdown",
   "metadata": {},
   "source": [
    "# Now, use optimal Lagrange multipliers and verify same solution with relaxation"
   ]
  },
  {
   "cell_type": "code",
   "execution_count": 17,
   "metadata": {
    "collapsed": true
   },
   "outputs": [],
   "source": [
    "param_dict = {}"
   ]
  },
  {
   "cell_type": "code",
   "execution_count": 26,
   "metadata": {
    "collapsed": false
   },
   "outputs": [
    {
     "name": "stdout",
     "output_type": "stream",
     "text": [
      "Changed value of parameter OutputFlag to 1\n",
      "   Prev: 0  Min: 0  Max: 1  Default: 1\n",
      "Changed value of parameter ScaleFlag to 0\n",
      "   Prev: -1  Min: -1  Max: 3  Default: -1\n",
      "Changed value of parameter OutputFlag to 1\n",
      "   Prev: 0  Min: 0  Max: 1  Default: 1\n",
      "Changed value of parameter ScaleFlag to 0\n",
      "   Prev: -1  Min: -1  Max: 3  Default: -1\n"
     ]
    }
   ],
   "source": [
    "csrcs = df_conds.cond.unique()\n",
    "for csrc in csrcs:\n",
    "    ijofit = load_json_model('/home/laurence/ME/models/e_coli_core_pc.json')\n",
    "    crowding = ijofit.metabolites.get_by_id('crowding')    \n",
    "    df_condi = df_conds[ df_conds.cond==csrc]    \n",
    "    for i,row in df_condi.iterrows():\n",
    "        rid = row['rxn']\n",
    "        rxn = ijofit.reactions.get_by_id(rid)\n",
    "        rxn.lower_bound = row['lb']\n",
    "        rxn.upper_bound = row['ub']\n",
    "    \n",
    "    ### Formulate problem for one condition with the non-anticipativity constraint relaxation            \n",
    "    df_xi = df_X[df_X.cond==csrc]\n",
    "    df_yi = df_Y[df_Y.cond==csrc]\n",
    "    esti = RadixEstimator()\n",
    "    esti.fit(ijomc, df_xi, df_yi, reg_weight = REG_WEIGHT, max_nonzero_binaries=MAX_NONZERO, optimize=False)\n",
    "    esti.milp.Params.ScaleFlag = 0\n",
    "    esti.milp.Params.OutputFlag = 0\n",
    "    # Get optimal Lagrange multipliers from actual solution\n",
    "        \n",
    "    # Add the non-anticipativity\n",
    "    \n",
    "    \n",
    "    esti.optimize()\n",
    "    esti.get_params()\n",
    "    param_dict[csrc] = esti.kfit_dict"
   ]
  },
  {
   "cell_type": "code",
   "execution_count": null,
   "metadata": {
    "collapsed": true
   },
   "outputs": [],
   "source": [
    "    # ijofit.optimize()\n",
    "    \n",
    "#     mu_measi = df_meas[ df_meas.substrate==csrc].growth_rate_1_h.iloc[0]\n",
    "#     mu_fiti = ijofit.reactions.BIOMASS_Ecoli_core_w_GAM.x\n",
    "    \n",
    "#     # Get unfit\n",
    "#     for rxn in ijofit.metabolites.crowding.reactions:\n",
    "#         rxn._metabolites[crowding] = a0\n",
    "#     ijofit.optimize()\n",
    "#     mu_unfiti = ijofit.reactions.BIOMASS_Ecoli_core_w_GAM.x\n",
    "#     err0= 100*(mu_unfiti-mu_measi)/mu_measi\n",
    "#     err = 100*(mu_fiti - mu_measi)/mu_measi\n",
    "#     derr= 100*(abs(err)-abs(err0))/abs(err0)\n",
    "#     print('Cond=%s. mu_meas=%g. mu_sim=%g (unfit=%g, error=%.3g%%). Error=%.3g%% (%.3g%% change)' % (csrc, mu_measi, mu_fiti, mu_unfiti, err0, err, derr))\n",
    "#     for i,row in df_condi.iterrows():\n",
    "#         rid = row['rxn']\n",
    "#         rxn = ijofit.reactions.get_by_id(rid)        \n",
    "#         print('\\t%s uptake=%g' % (rxn.id, rxn.x))"
   ]
  },
  {
   "cell_type": "code",
   "execution_count": 30,
   "metadata": {
    "collapsed": false
   },
   "outputs": [
    {
     "data": {
      "text/plain": [
       "8930.65796258976"
      ]
     },
     "execution_count": 30,
     "metadata": {},
     "output_type": "execute_result"
    }
   ],
   "source": [
    "ub=0.00623\n",
    "lb=-0.55015\n",
    "(ub-lb)/(1e-10+ub) * 100"
   ]
  }
 ],
 "metadata": {
  "kernelspec": {
   "display_name": "Python 2",
   "language": "python",
   "name": "python2"
  },
  "language_info": {
   "codemirror_mode": {
    "name": "ipython",
    "version": 2
   },
   "file_extension": ".py",
   "mimetype": "text/x-python",
   "name": "python",
   "nbconvert_exporter": "python",
   "pygments_lexer": "ipython2",
   "version": "2.7.14"
  }
 },
 "nbformat": 4,
 "nbformat_minor": 2
}
