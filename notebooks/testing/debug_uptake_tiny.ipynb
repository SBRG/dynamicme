{
 "cells": [
  {
   "cell_type": "markdown",
   "metadata": {
    "deletable": true,
    "editable": true
   },
   "source": [
    "# Simulate proteome time profiles.\n",
    "## Start from measured proteome that is already hedged: necessary to enable lactate usage later?"
   ]
  },
  {
   "cell_type": "code",
   "execution_count": 1,
   "metadata": {
    "collapsed": true,
    "deletable": true,
    "editable": true
   },
   "outputs": [],
   "source": [
    "import seaborn as sns\n",
    "import pandas as pd\n",
    "\n",
    "sns.plt.rcParams['svg.fonttype'] = 'none'\n",
    "pd.set_option('display.max_colwidth', -1)\n",
    "#pd.set_option('display.float_format', lambda x: '%.3g' % x)\n",
    "%matplotlib inline"
   ]
  },
  {
   "cell_type": "code",
   "execution_count": 2,
   "metadata": {
    "collapsed": true,
    "deletable": true,
    "editable": true
   },
   "outputs": [],
   "source": [
    "PROTOTYPE = True"
   ]
  },
  {
   "cell_type": "code",
   "execution_count": 3,
   "metadata": {
    "collapsed": false,
    "deletable": true,
    "editable": true
   },
   "outputs": [],
   "source": [
    "from dynamicme.tests.helpme import HelpME\n",
    "from dynamicme.dynamic import get_cplx_concs\n",
    "\n",
    "helper = HelpME(prototyping=PROTOTYPE)\n",
    "solver = helper.solver\n",
    "me = solver.me\n",
    "\n",
    "for data in me.complex_data:\n",
    "    data._complex_id = data.id    \n",
    "    form_id0 = 'ES_'+data.id.replace('_E_c','')\n",
    "    try:\n",
    "        form = me.reactions.get_by_id(form_id0)\n",
    "        form.id = 'formation_'+ data.id\n",
    "    except KeyError:\n",
    "        form = me.reactions.get_by_id('formation_'+data.id)    \n",
    "\n",
    "me.repair()\n",
    "\n",
    "from cobrame import mu\n",
    "from stressme.stressfuncs import update_stoich_expr\n",
    "\n",
    "me.reactions.Biomass_Ecoli_core_w_GAM.lower_bound = mu\n",
    "me.reactions.Biomass_Ecoli_core_w_GAM.upper_bound = mu\n",
    "update_stoich_expr(solver, rxn=me.reactions.Biomass_Ecoli_core_w_GAM)\n",
    "solver.compiled_expressions = None"
   ]
  },
  {
   "cell_type": "code",
   "execution_count": 4,
   "metadata": {
    "collapsed": false,
    "deletable": true,
    "editable": true,
    "scrolled": true
   },
   "outputs": [
    {
     "name": "stdout",
     "output_type": "stream",
     "text": [
      "CPU times: user 11.2 s, sys: 100 ms, total: 11.3 s\n",
      "Wall time: 11.1 s\n"
     ]
    }
   ],
   "source": [
    "%%time\n",
    "sol_max = solver.bisectmu(verbosity=0, precision=1e-5)"
   ]
  },
  {
   "cell_type": "code",
   "execution_count": 5,
   "metadata": {
    "collapsed": false
   },
   "outputs": [
    {
     "data": {
      "text/plain": [
       "0.8456802368164062"
      ]
     },
     "execution_count": 5,
     "metadata": {},
     "output_type": "execute_result"
    }
   ],
   "source": [
    "sol_max[0]"
   ]
  },
  {
   "cell_type": "code",
   "execution_count": 6,
   "metadata": {
    "collapsed": false,
    "deletable": true,
    "editable": true
   },
   "outputs": [
    {
     "data": {
      "text/plain": [
       "0.84568023681640625"
      ]
     },
     "execution_count": 6,
     "metadata": {},
     "output_type": "execute_result"
    }
   ],
   "source": [
    "me.reactions.Biomass_Ecoli_core_w_GAM.x"
   ]
  },
  {
   "cell_type": "code",
   "execution_count": 7,
   "metadata": {
    "collapsed": false,
    "deletable": true,
    "editable": true
   },
   "outputs": [
    {
     "name": "stderr",
     "output_type": "stream",
     "text": [
      "/home/laurence/python_modules/dynamicme.git/dynamicme/dynamic.py:1229 \u001b[1;31mUserWarning\u001b[0m: Dynamic mRNA not yet implemented!\n"
     ]
    }
   ],
   "source": [
    "from dynamicme.dynamic import DelayedDynamicME\n",
    "\n",
    "dyme = DelayedDynamicME(solver)\n",
    "dyme.delay_model.solver.set_realopts('lp', {'Feasibility tol':1e-15,'Optimality tol':1e-15})\n",
    "dsolver = dyme.delay_model.solver\n",
    "dme = dsolver.me"
   ]
  },
  {
   "cell_type": "code",
   "execution_count": 8,
   "metadata": {
    "collapsed": false,
    "deletable": true,
    "editable": true
   },
   "outputs": [
    {
     "data": {
      "text/plain": [
       "2.2806862140954783e-05"
      ]
     },
     "execution_count": 8,
     "metadata": {},
     "output_type": "execute_result"
    }
   ],
   "source": [
    "dme.metabolites.delayed_abundance_PGI_E_c._bound"
   ]
  },
  {
   "cell_type": "code",
   "execution_count": 9,
   "metadata": {
    "collapsed": true,
    "deletable": true,
    "editable": true
   },
   "outputs": [],
   "source": [
    "cplx_concs_max = get_cplx_concs(solver)"
   ]
  },
  {
   "cell_type": "code",
   "execution_count": 10,
   "metadata": {
    "collapsed": false,
    "deletable": true,
    "editable": true
   },
   "outputs": [
    {
     "name": "stdout",
     "output_type": "stream",
     "text": [
      "mu of ME for growth maximization: 0.845680236816\n"
     ]
    }
   ],
   "source": [
    "mu_me = me.solution.x_dict['biomass_dilution']\n",
    "print 'mu of ME for growth maximization:', mu_me"
   ]
  },
  {
   "cell_type": "markdown",
   "metadata": {},
   "source": [
    "# FIX THIS and much debugging complete:"
   ]
  },
  {
   "cell_type": "code",
   "execution_count": 11,
   "metadata": {
    "collapsed": true,
    "deletable": true,
    "editable": true
   },
   "outputs": [],
   "source": [
    "dyme.delay_model.update_cplx_concs(cplx_concs_max)"
   ]
  },
  {
   "cell_type": "code",
   "execution_count": 12,
   "metadata": {
    "collapsed": true,
    "deletable": true,
    "editable": true
   },
   "outputs": [],
   "source": [
    "dt = 0.1\n",
    "dyme.delay_model.update_horizon(dt)"
   ]
  },
  {
   "cell_type": "markdown",
   "metadata": {},
   "source": [
    "for rxn in dsolver.me.reactions.query('dedt_'):\n",
    "    rxn.lower_bound = -1000"
   ]
  },
  {
   "cell_type": "code",
   "execution_count": 13,
   "metadata": {
    "collapsed": false,
    "deletable": true,
    "editable": true
   },
   "outputs": [],
   "source": [
    "sol_dyme = dsolver.bisectmu(basis=dsolver.feas_basis, mumax=2, verbosity=0, precision=1e-5)"
   ]
  },
  {
   "cell_type": "code",
   "execution_count": 14,
   "metadata": {
    "collapsed": false
   },
   "outputs": [
    {
     "data": {
      "text/plain": [
       "frozenset({<SummaryVariable protein_biomass_dilution at 0x7fe51a08cc50>})"
      ]
     },
     "execution_count": 14,
     "metadata": {},
     "output_type": "execute_result"
    }
   ],
   "source": [
    "dme.metabolites.protein_biomass.reactions"
   ]
  },
  {
   "cell_type": "code",
   "execution_count": 15,
   "metadata": {
    "collapsed": false
   },
   "outputs": [
    {
     "name": "stdout",
     "output_type": "stream",
     "text": [
      "E0:\t2.2806862141e-05\n",
      "E(t):\t2.2806862141e-05\n",
      "dedt:\t-5.81659113221e-20\n",
      "dedt*dt:\t-5.81659113221e-21\n",
      "E0+dedt*dt:\t2.2806862141e-05\n",
      "vform:\t1.92873125764e-05\n",
      "mu(t)*E(t):\t1.92873125764e-05\n",
      "mu0:\t0.845680236816\n",
      "mu(t):\t0.845680236816\n",
      "PGI0:\t5.33680574098\n",
      "PGI(t):\t5.33680574098\n",
      "keff*E_PGI(t):\t5.33680574098\n"
     ]
    }
   ],
   "source": [
    "E0 = dme.metabolites.delayed_abundance_PGI_E_c._bound\n",
    "Et = dme.reactions.abundance_PGI_E_c.x\n",
    "dedt = dme.reactions.dedt_PGI_E_c.x\n",
    "print 'E0:\\t',E0\n",
    "print 'E(t):\\t',dme.reactions.abundance_PGI_E_c.x\n",
    "print 'dedt:\\t', dedt\n",
    "print 'dedt*dt:\\t', dt*dedt\n",
    "print 'E0+dedt*dt:\\t', E0+dedt*dt\n",
    "print 'vform:\\t', dme.reactions.formation_PGI_E_c.x\n",
    "print 'mu(t)*E(t):\\t', sol_dyme[0]*dme.reactions.abundance_PGI_E_c.x\n",
    "print 'mu0:\\t', sol_max[0]\n",
    "print 'mu(t):\\t', sol_dyme[0]\n",
    "print 'PGI0:\\t', me.reactions.PGI.x\n",
    "print 'PGI(t):\\t', dme.reactions.PGI.x\n",
    "print 'keff*E_PGI(t):\\t', 65.*3600*Et"
   ]
  },
  {
   "cell_type": "code",
   "execution_count": 16,
   "metadata": {
    "collapsed": false,
    "deletable": true,
    "editable": true,
    "scrolled": true
   },
   "outputs": [
    {
     "name": "stdout",
     "output_type": "stream",
     "text": [
      "0.845680236816 =?= 0.845680236816\n"
     ]
    }
   ],
   "source": [
    "print sol_max[0], '=?=', sol_dyme[0]\n",
    "assert abs(sol_dyme[0] - sol_max[0]) < 1e-3"
   ]
  },
  {
   "cell_type": "code",
   "execution_count": 17,
   "metadata": {
    "collapsed": false
   },
   "outputs": [
    {
     "name": "stdout",
     "output_type": "stream",
     "text": [
      "5.33680574098 5.33680574098\n"
     ]
    }
   ],
   "source": [
    "print me.reactions.PGI.x, dme.reactions.PGI.x\n",
    "assert abs(me.reactions.PGI.x - dme.reactions.PGI.x) < 1e-3"
   ]
  },
  {
   "cell_type": "code",
   "execution_count": 18,
   "metadata": {
    "collapsed": false,
    "deletable": true,
    "editable": true
   },
   "outputs": [
    {
     "name": "stdout",
     "output_type": "stream",
     "text": [
      "2.2806862141e-05         delayed_abundance_PGI_E_c          abundance_PGI_E_c                  1                        \n",
      "-5.81659113221e-20       delayed_abundance_PGI_E_c          dedt_PGI_E_c                       -0.1                     \n",
      "2.2806862141e-05         delayed_abundance_PGI_E_c          _bound                             E                        \n"
     ]
    }
   ],
   "source": [
    "met = dme.metabolites.delayed_abundance_PGI_E_c\n",
    "for rxn in met.reactions:\n",
    "    print '%-25.20s%-35.30s%-35.30s%-25s' % (rxn.x, met.id, rxn.id, rxn.metabolites[met])\n",
    "\n",
    "print '%-25.20s%-35.30s%-35.30s%-25s' % (met._bound, met.id, '_bound', met._constraint_sense)"
   ]
  },
  {
   "cell_type": "code",
   "execution_count": 19,
   "metadata": {
    "collapsed": false,
    "deletable": true,
    "editable": true
   },
   "outputs": [
    {
     "name": "stdout",
     "output_type": "stream",
     "text": [
      "2.2806862141e-05         enzyme_capacity_PGI_E_c            abundance_PGI_E_c                  -1                       \n",
      "5.33680574098            enzyme_capacity_PGI_E_c            PGI                                4.2735042735e-06         \n",
      "0                        enzyme_capacity_PGI_E_c            _bound                             L                        \n"
     ]
    }
   ],
   "source": [
    "met = dme.metabolites.enzyme_capacity_PGI_E_c\n",
    "for rxn in met.reactions:\n",
    "    print '%-25.20s%-35.30s%-35.30s%-25s' % (rxn.x, met.id, rxn.id, rxn.metabolites[met])\n",
    "\n",
    "print '%-25.20s%-35.30s%-35.30s%-25s' % (met._bound, met.id, '_bound', met._constraint_sense)"
   ]
  },
  {
   "cell_type": "code",
   "execution_count": 20,
   "metadata": {
    "collapsed": false
   },
   "outputs": [
    {
     "data": {
      "text/plain": [
       "2.2806862140954776e-05"
      ]
     },
     "execution_count": 20,
     "metadata": {},
     "output_type": "execute_result"
    }
   ],
   "source": [
    "rxn = dme.reactions.PGI\n",
    "rxn.x * rxn.metabolites[dme.metabolites.enzyme_capacity_PGI_E_c]"
   ]
  },
  {
   "cell_type": "code",
   "execution_count": 21,
   "metadata": {
    "collapsed": false
   },
   "outputs": [
    {
     "data": {
      "text/plain": [
       "5.3368057409834178"
      ]
     },
     "execution_count": 21,
     "metadata": {},
     "output_type": "execute_result"
    }
   ],
   "source": [
    "dme.reactions.abundance_PGI_E_c.x * 65*3600"
   ]
  },
  {
   "cell_type": "markdown",
   "metadata": {
    "deletable": true,
    "editable": true
   },
   "source": [
    "# Validate mixed substrate uptake hierarchy--Beg et al. (2007) MSB"
   ]
  },
  {
   "cell_type": "code",
   "execution_count": 22,
   "metadata": {
    "collapsed": false,
    "deletable": true,
    "editable": true
   },
   "outputs": [
    {
     "name": "stdout",
     "output_type": "stream",
     "text": [
      "{'ac_e': 0.0, 'glc__D_e': 2.220299442904667}\n",
      "{'EX_glc_e': -10.0, 'EX_ac_e': -10.0, 'EX_o2_e': -20.0}\n"
     ]
    },
    {
     "name": "stderr",
     "output_type": "stream",
     "text": [
      "/usr/lib/python2.7/site-packages/ipykernel/__main__.py:20 \u001b[1;31mUserWarning\u001b[0m: Model has no metabolite: glyc_e. Will remove it from c0_dict\n",
      "/usr/lib/python2.7/site-packages/ipykernel/__main__.py:20 \u001b[1;31mUserWarning\u001b[0m: Model has no metabolite: malt_e. Will remove it from c0_dict\n",
      "/usr/lib/python2.7/site-packages/ipykernel/__main__.py:20 \u001b[1;31mUserWarning\u001b[0m: Model has no metabolite: lac__L_e. Will remove it from c0_dict\n",
      "/usr/lib/python2.7/site-packages/ipykernel/__main__.py:20 \u001b[1;31mUserWarning\u001b[0m: Model has no metabolite: gal_e. Will remove it from c0_dict\n"
     ]
    }
   ],
   "source": [
    "import warnings\n",
    "\n",
    "T = 10   # hours\n",
    "V = 1.   # L\n",
    "X0 = 0.00675 / V  # g/L\n",
    "c0_dict = {'glc__D_e': 0.4,\n",
    "           'lac__L_e': 0.4,\n",
    "           'malt_e': 0.4,\n",
    "           'gal_e': 0.4,\n",
    "           'glyc_e':0.4,\n",
    "           'ac_e': 0.0}\n",
    "\n",
    "### Convert from g/L to mmol\n",
    "mids_remove = []\n",
    "for mid,c in c0_dict.iteritems():\n",
    "    try:        \n",
    "        met = me.metabolites.get_by_id(mid)    \n",
    "        c0_dict[met.id] = c / met.formula_weight * 1000\n",
    "    except KeyError:\n",
    "        warnings.warn('Model has no metabolite: %s. Will remove it from c0_dict' % mid)\n",
    "        mids_remove.append(mid)\n",
    "\n",
    "for mid in mids_remove:\n",
    "    c0_dict.pop(mid)\n",
    "        \n",
    "### Set max uptake rate\n",
    "LB_EX = -10.\n",
    "LB_O2 = -20.\n",
    "\n",
    "lb_dict={}\n",
    "ub_dict={}\n",
    "\n",
    "for mid in c0_dict.keys():\n",
    "    try:\n",
    "        rxn = dyme.get_exchange_rxn(mid)    \n",
    "        if rxn.id == 'EX_o2_e':\n",
    "            lb = LB_O2\n",
    "        else:\n",
    "            lb = LB_EX\n",
    "        rxn.lower_bound = lb\n",
    "        lb_dict[rxn.id] = lb\n",
    "    except KeyError:\n",
    "        warnings.warn('Model has no metabolite: '+ mid)\n",
    "\n",
    "me.reactions.EX_o2_e.lower_bound = -20.\n",
    "lb_dict[me.reactions.EX_o2_e.id] = -20.\n",
    "\n",
    "for k,lb in lb_dict.iteritems():\n",
    "    rxn = dsolver.me.reactions.get_by_id(k)\n",
    "    rxn.lower_bound = lb\n",
    "\n",
    "print c0_dict\n",
    "print lb_dict"
   ]
  },
  {
   "cell_type": "code",
   "execution_count": 23,
   "metadata": {
    "collapsed": true
   },
   "outputs": [],
   "source": [
    "solver.set_realopts('lp', {'Feasibility tol':1e-15, 'Optimality tol':1e-15})\n",
    "from cobrame import MetabolicReaction\n",
    "fluxes_plot = [r.id for r in dsolver.me.reactions]"
   ]
  },
  {
   "cell_type": "code",
   "execution_count": 25,
   "metadata": {
    "collapsed": true
   },
   "outputs": [],
   "source": [
    "cplx_conc_dict0 = cplx_concs_max"
   ]
  },
  {
   "cell_type": "code",
   "execution_count": 27,
   "metadata": {
    "collapsed": false,
    "scrolled": true
   },
   "outputs": [
    {
     "name": "stdout",
     "output_type": "stream",
     "text": [
      "Metabolite ac_e depleted.\n",
      "Metabolite glc__D_e available.\n",
      "Using default LB=-1000 for EX_glc_e\n",
      "Computing new uptake rates\n",
      "Biomass at t=0.2: 0.0078917\n",
      "Concentrations: {'ac_e': 0.00077459254873765053, 'glc__D_e': 2.20545621612307}\n",
      "Growth rate: 0.845703125\n",
      "Metabolite ac_e available.\n",
      "Using default LB=-1000 for EX_ac_e\n",
      "Metabolite glc__D_e available.\n",
      "Using default LB=-1000 for EX_glc_e\n",
      "Computing new uptake rates\n",
      "Biomass at t=0.4: 0.00922805\n",
      "Concentrations: {'ac_e': 0.0015594225015709874, 'glc__D_e': 2.187982754626919}\n",
      "Growth rate: 0.8466796875\n",
      "Metabolite ac_e available.\n",
      "Using default LB=-1000 for EX_ac_e\n",
      "Metabolite glc__D_e available.\n",
      "Using default LB=-1000 for EX_glc_e\n",
      "Computing new uptake rates\n",
      "Biomass at t=0.6: 0.0107907\n",
      "Concentrations: {'ac_e': 0.0023562783312747674, 'glc__D_e': 2.1674498887112086}\n",
      "Growth rate: 0.8466796875\n",
      "Metabolite ac_e available.\n",
      "Using default LB=-1000 for EX_ac_e\n",
      "Metabolite glc__D_e available.\n",
      "Using default LB=-1000 for EX_glc_e\n",
      "Computing new uptake rates\n",
      "Biomass at t=0.8: 0.0126179\n",
      "Concentrations: {'ac_e': 0.0031671320572782195, 'glc__D_e': 2.1433395701336835}\n",
      "Growth rate: 0.8466796875\n",
      "Metabolite ac_e available.\n",
      "Using default LB=-1000 for EX_ac_e\n",
      "Metabolite glc__D_e available.\n",
      "Using default LB=-1000 for EX_glc_e\n",
      "Computing new uptake rates\n",
      "Biomass at t=1: 0.0147571\n",
      "Concentrations: {'ac_e': 0.0039943060843807103, 'glc__D_e': 2.1150156776008218}\n",
      "Growth rate: 0.84765625\n",
      "Metabolite ac_e available.\n",
      "Using default LB=-1000 for EX_ac_e\n",
      "Metabolite glc__D_e available.\n",
      "Using default LB=-1000 for EX_glc_e\n",
      "Computing new uptake rates\n",
      "Biomass at t=1.2: 0.0172589\n",
      "Concentrations: {'ac_e': 0.0048407875269651261, 'glc__D_e': 2.0817896151188688}\n",
      "Growth rate: 0.84765625\n",
      "Metabolite ac_e available.\n",
      "Using default LB=-1000 for EX_ac_e\n",
      "Metabolite glc__D_e available.\n",
      "Using default LB=-1000 for EX_glc_e\n",
      "Computing new uptake rates\n",
      "Biomass at t=1.4: 0.0201848\n",
      "Concentrations: {'ac_e': 0.0057096865958920938, 'glc__D_e': 2.0428301449739554}\n",
      "Growth rate: 0.84765625\n",
      "Metabolite ac_e available.\n",
      "Using default LB=-1000 for EX_ac_e\n",
      "Metabolite glc__D_e available.\n",
      "Using default LB=-1000 for EX_glc_e\n",
      "Computing new uptake rates\n",
      "Biomass at t=1.6: 0.0236067\n",
      "Concentrations: {'ac_e': 0.0066048221340959268, 'glc__D_e': 1.9971652046915334}\n",
      "Growth rate: 0.84765625\n",
      "Metabolite ac_e available.\n",
      "Using default LB=-1000 for EX_ac_e\n",
      "Metabolite glc__D_e available.\n",
      "Using default LB=-1000 for EX_glc_e\n",
      "Computing new uptake rates\n",
      "Biomass at t=1.8: 0.0276134\n",
      "Concentrations: {'ac_e': 0.0075306226216543303, 'glc__D_e': 1.9436025601646474}\n",
      "Growth rate: 0.8486328125\n",
      "Metabolite ac_e available.\n",
      "Using default LB=-1000 for EX_ac_e\n",
      "Metabolite glc__D_e available.\n",
      "Using default LB=-1000 for EX_glc_e\n",
      "Computing new uptake rates\n",
      "Biomass at t=2: 0.0323001\n",
      "Concentrations: {'ac_e': 0.008492365178522315, 'glc__D_e': 1.8808617233793425}\n",
      "Growth rate: 0.8486328125\n",
      "Metabolite ac_e available.\n",
      "Using default LB=-1000 for EX_ac_e\n",
      "Metabolite glc__D_e available.\n",
      "Using default LB=-1000 for EX_glc_e\n",
      "Computing new uptake rates\n",
      "Biomass at t=2.2: 0.0377823\n",
      "Concentrations: {'ac_e': 0.0094963383533185688, 'glc__D_e': 1.8073893238020606}\n",
      "Growth rate: 0.8486328125\n",
      "Metabolite ac_e available.\n",
      "Using default LB=-1000 for EX_ac_e\n",
      "Metabolite glc__D_e available.\n",
      "Using default LB=-1000 for EX_glc_e\n",
      "Computing new uptake rates\n",
      "Biomass at t=2.4: 0.044195\n",
      "Concentrations: {'ac_e': 0.010549565400338693, 'glc__D_e': 1.7213652084568456}\n",
      "Growth rate: 0.8486328125\n",
      "Metabolite ac_e available.\n",
      "Using default LB=-1000 for EX_ac_e\n",
      "Metabolite glc__D_e available.\n",
      "Using default LB=-1000 for EX_glc_e\n",
      "Computing new uptake rates\n",
      "Biomass at t=2.6: 0.0516961\n",
      "Concentrations: {'ac_e': 0.011660371895251197, 'glc__D_e': 1.6206590001219943}\n",
      "Growth rate: 0.8486328125\n",
      "Metabolite ac_e available.\n",
      "Using default LB=-1000 for EX_ac_e\n",
      "Metabolite glc__D_e available.\n",
      "Using default LB=-1000 for EX_glc_e\n",
      "Computing new uptake rates\n",
      "Biomass at t=2.8: 0.0604703\n",
      "Concentrations: {'ac_e': 0.012838428321047415, 'glc__D_e': 1.5027789101347078}\n",
      "Growth rate: 0.8486328125\n",
      "Metabolite ac_e available.\n",
      "Using default LB=-1000 for EX_ac_e\n",
      "Metabolite glc__D_e available.\n",
      "Using default LB=-1000 for EX_glc_e\n",
      "Computing new uptake rates\n",
      "Biomass at t=3: 0.0707337\n",
      "Concentrations: {'ac_e': 0.014095449309981455, 'glc__D_e': 1.3648083437950509}\n",
      "Growth rate: 0.8486328125\n",
      "Metabolite ac_e available.\n",
      "Using default LB=-1000 for EX_ac_e\n",
      "Metabolite glc__D_e available.\n",
      "Using default LB=-1000 for EX_glc_e\n",
      "Computing new uptake rates\n",
      "Biomass at t=3.2: 0.0827391\n",
      "Concentrations: {'ac_e': 0.015444506616182567, 'glc__D_e': 1.2033398819697179}\n",
      "Growth rate: 0.8486328125\n",
      "Metabolite ac_e available.\n",
      "Using default LB=-1000 for EX_ac_e\n",
      "Metabolite glc__D_e available.\n",
      "Using default LB=-1000 for EX_glc_e\n",
      "Computing new uptake rates\n",
      "Biomass at t=3.4: 0.0967821\n",
      "Concentrations: {'ac_e': 0.016899691736470004, 'glc__D_e': 1.0143951361592016}\n",
      "Growth rate: 0.8486328125\n",
      "Metabolite ac_e available.\n",
      "Using default LB=-1000 for EX_ac_e\n",
      "Metabolite glc__D_e available.\n",
      "Using default LB=-1000 for EX_glc_e\n",
      "Computing new uptake rates\n",
      "Biomass at t=3.6: 0.113209\n",
      "Concentrations: {'ac_e': 0.018482496727301269, 'glc__D_e': 0.79328857239091111}\n",
      "Growth rate: 0.8486328125\n",
      "Metabolite ac_e available.\n",
      "Using default LB=-1000 for EX_ac_e\n",
      "Metabolite glc__D_e available.\n",
      "Using default LB=-1000 for EX_glc_e\n",
      "Computing new uptake rates\n",
      "Biomass at t=3.8: 0.132423\n",
      "Concentrations: {'ac_e': 0.020212514343197721, 'glc__D_e': 0.53457534351663416}\n",
      "Growth rate: 0.8486328125\n",
      "Metabolite ac_e available.\n",
      "Using default LB=-1000 for EX_ac_e\n",
      "Metabolite glc__D_e available.\n",
      "Using default LB=-1000 for EX_glc_e\n",
      "Computing new uptake rates\n",
      "Biomass at t=4: 0.154899\n",
      "Concentrations: {'ac_e': 0.022114759983842956, 'glc__D_e': 0.23186808310570267}\n",
      "Growth rate: 0.8486328125\n",
      "Metabolite ac_e available.\n",
      "Using default LB=-1000 for EX_ac_e\n",
      "Metabolite glc__D_e available.\n",
      "Using default LB=-1000 for EX_glc_e\n",
      "Computing new uptake rates\n",
      "Changed timestep to 0.130936\n",
      "Biomass at t=4.13094: 0.172111\n",
      "Concentrations: {'ac_e': 0.023492629427535529, 'glc__D_e': 0.0}\n",
      "Growth rate: 0.8486328125\n",
      "Metabolite ac_e available.\n",
      "Using default LB=-1000 for EX_ac_e\n",
      "Metabolite glc__D_e depleted.\n",
      "Computing new uptake rates\n",
      "Biomass at t=4.33094: 0.172111\n",
      "Concentrations: {'ac_e': 0.023492629427535529, 'glc__D_e': 0.0}\n",
      "Growth rate: 0.0\n",
      "Metabolite ac_e available.\n",
      "Using default LB=-1000 for EX_ac_e\n",
      "Metabolite glc__D_e depleted.\n",
      "Computing new uptake rates\n",
      "Biomass at t=4.53094: 0.172111\n",
      "Concentrations: {'ac_e': 0.023492629427535529, 'glc__D_e': 0.0}\n",
      "Growth rate: 0.0\n",
      "Metabolite ac_e available.\n",
      "Using default LB=-1000 for EX_ac_e\n",
      "Metabolite glc__D_e depleted.\n",
      "Computing new uptake rates\n",
      "Biomass at t=4.73094: 0.172111\n",
      "Concentrations: {'ac_e': 0.023492629427535529, 'glc__D_e': 0.0}\n",
      "Growth rate: 0.0\n",
      "Metabolite ac_e available.\n",
      "Using default LB=-1000 for EX_ac_e\n",
      "Metabolite glc__D_e depleted.\n",
      "Computing new uptake rates\n",
      "Biomass at t=4.93094: 0.172111\n",
      "Concentrations: {'ac_e': 0.023492629427535529, 'glc__D_e': 0.0}\n",
      "Growth rate: 0.0\n",
      "Metabolite ac_e available.\n",
      "Using default LB=-1000 for EX_ac_e\n",
      "Metabolite glc__D_e depleted.\n",
      "Computing new uptake rates\n",
      "Biomass at t=5.13094: 0.172111\n",
      "Concentrations: {'ac_e': 0.023492629427535529, 'glc__D_e': 0.0}\n",
      "Growth rate: 0.0\n",
      "Metabolite ac_e available.\n",
      "Using default LB=-1000 for EX_ac_e\n",
      "Metabolite glc__D_e depleted.\n",
      "Computing new uptake rates\n",
      "Biomass at t=5.33094: 0.172111\n",
      "Concentrations: {'ac_e': 0.023492629427535529, 'glc__D_e': 0.0}\n",
      "Growth rate: 0.0\n",
      "Metabolite ac_e available.\n",
      "Using default LB=-1000 for EX_ac_e\n",
      "Metabolite glc__D_e depleted.\n",
      "Computing new uptake rates\n",
      "Biomass at t=5.53094: 0.172111\n",
      "Concentrations: {'ac_e': 0.023492629427535529, 'glc__D_e': 0.0}\n",
      "Growth rate: 0.0\n",
      "Metabolite ac_e available.\n",
      "Using default LB=-1000 for EX_ac_e\n",
      "Metabolite glc__D_e depleted.\n",
      "Computing new uptake rates\n",
      "Biomass at t=5.73094: 0.172111\n",
      "Concentrations: {'ac_e': 0.023492629427535529, 'glc__D_e': 0.0}\n",
      "Growth rate: 0.0\n",
      "Metabolite ac_e available.\n",
      "Using default LB=-1000 for EX_ac_e\n",
      "Metabolite glc__D_e depleted.\n",
      "Computing new uptake rates\n",
      "Biomass at t=5.93094: 0.172111\n",
      "Concentrations: {'ac_e': 0.023492629427535529, 'glc__D_e': 0.0}\n",
      "Growth rate: 0.0\n",
      "Metabolite ac_e available.\n",
      "Using default LB=-1000 for EX_ac_e\n",
      "Metabolite glc__D_e depleted.\n",
      "Computing new uptake rates\n",
      "Biomass at t=6.13094: 0.172111\n",
      "Concentrations: {'ac_e': 0.023492629427535529, 'glc__D_e': 0.0}\n",
      "Growth rate: 0.0\n",
      "CPU times: user 3min 14s, sys: 1.47 s, total: 3min 15s\n",
      "Wall time: 3min 13s\n"
     ]
    }
   ],
   "source": [
    "%%time\n",
    "extra_rxns_tracked = list(set(['EX_o2_e'] + fluxes_plot + ['biomass_dilution']))\n",
    "\n",
    "T = 6\n",
    "dt = 0.2\n",
    "H = dt\n",
    "\n",
    "result = dyme.simulate_batch(\n",
    "    T,    \n",
    "    c0_dict,\n",
    "    X0,\n",
    "    prec_bs=1e-3,\n",
    "    ZERO_CONC=0.,\n",
    "    extra_rxns_tracked=extra_rxns_tracked,\n",
    "    lb_dict={},\n",
    "    verbosity=2,\n",
    "    dt = dt,\n",
    "    H = H,\n",
    "    cplx_conc_dict0=cplx_conc_dict0)"
   ]
  },
  {
   "cell_type": "code",
   "execution_count": 28,
   "metadata": {
    "collapsed": false
   },
   "outputs": [
    {
     "data": {
      "text/plain": [
       "[<matplotlib.lines.Line2D at 0x7fe51a5f0950>]"
      ]
     },
     "execution_count": 28,
     "metadata": {},
     "output_type": "execute_result"
    },
    {
     "data": {
      "image/png": "[encoded data removed]",
      "text/plain": [
       "<matplotlib.figure.Figure at 0x7fe5817c7550>"
      ]
     },
     "metadata": {},
     "output_type": "display_data"
    }
   ],
   "source": [
    "import seaborn as sns\n",
    "%matplotlib inline\n",
    "\n",
    "sns.plt.plot(result['time'], result['biomass'])"
   ]
  },
  {
   "cell_type": "code",
   "execution_count": 29,
   "metadata": {
    "collapsed": false
   },
   "outputs": [
    {
     "data": {
      "text/plain": [
       "{'ac_e': {'mw': 59.04402,\n",
       "  'rxn': <MetabolicReaction EX_ac_e at 0x7fe51a0e7450>},\n",
       " 'glc__D_e': {'mw': 180.15588,\n",
       "  'rxn': <MetabolicReaction EX_glc_e at 0x7fe51a0d0090>}}"
      ]
     },
     "execution_count": 29,
     "metadata": {},
     "output_type": "execute_result"
    }
   ],
   "source": [
    "ex_met_rxn_dict = {m: {'rxn':dyme.get_exchange_rxn(m), 'mw':me.metabolites.get_by_id(m).formula_weight} for m in c0_dict.keys()}\n",
    "ex_met_rxn_dict"
   ]
  },
  {
   "cell_type": "code",
   "execution_count": 30,
   "metadata": {
    "collapsed": true
   },
   "outputs": [],
   "source": [
    "import pandas as pd\n",
    "\n",
    "df_conc = pd.DataFrame(result['concentration'])\n",
    "### Convert concentrations to g/L\n",
    "for mid, vals in ex_met_rxn_dict.iteritems():\n",
    "    df_conc[mid] = df_conc[mid] * vals['mw'] * 0.001\n",
    "\n",
    "df_time = pd.DataFrame({'time':t, 'biomass':b} for t,b in zip(result['time'], result['biomass']))\n",
    "df_flux = pd.DataFrame(result['ex_flux'])\n",
    "df_mu   = pd.DataFrame({'mu':result['growth_rate']})\n",
    "df_result = pd.concat([df_time, df_conc, df_flux, df_mu], axis=1)"
   ]
  },
  {
   "cell_type": "code",
   "execution_count": 31,
   "metadata": {
    "collapsed": true
   },
   "outputs": [],
   "source": [
    "dsplot = pd.melt(df_result, id_vars='time', value_vars=['biomass','ac_e','gal_e','glc__D_e','glyc_e','lac__L_e','malt_e'])\n",
    "dsplot.time = pd.to_numeric(dsplot.time)\n",
    "dsplot['category'] = 'Metabolite'\n",
    "dsplot.loc[ dsplot.variable=='biomass', 'category'] = 'Biomass'"
   ]
  },
  {
   "cell_type": "code",
   "execution_count": 32,
   "metadata": {
    "collapsed": false
   },
   "outputs": [
    {
     "data": {
      "text/plain": [
       "<seaborn.axisgrid.FacetGrid at 0x7fe51a4c4990>"
      ]
     },
     "execution_count": 32,
     "metadata": {},
     "output_type": "execute_result"
    },
    {
     "data": {
      "image/png": "[encoded data removed]",
      "text/plain": [
       "<matplotlib.figure.Figure at 0x7fe51863d690>"
      ]
     },
     "metadata": {},
     "output_type": "display_data"
    }
   ],
   "source": [
    "colors = [\n",
    "'#000000', # biomass\n",
    "'#660066', # acetate\n",
    "'#00CC00', #'#00FF00', # galactose\n",
    "'#000000', # glucose\n",
    "'#FF00FF', # glycerol\n",
    "'#0000FF', # lactate\n",
    "'#FF0000', # maltose\n",
    "]\n",
    "\n",
    "colpal = sns.color_palette(colors)\n",
    "sns.set_palette(colpal)\n",
    "\n",
    "g = sns.FacetGrid(data=dsplot, hue='variable', col='category', sharey=False, size=5)\n",
    "\n",
    "g.map(sns.plt.plot, 'time', 'value', linestyle='-', marker='.')\n",
    "for i,ax in enumerate(g.axes.flat):\n",
    "    ylim = ax.get_ylim()\n",
    "    ax.set_ylim((ylim[0],ylim[1]*1.1))\n",
    "    if i==0:\n",
    "        ax.set_ylabel('Biomass (g/L)')\n",
    "    else:\n",
    "        ax.set_ylabel('Metabolite concentration (g/L)')\n",
    "g.set_xlabels('Time (h)')\n",
    "g.add_legend()"
   ]
  },
  {
   "cell_type": "code",
   "execution_count": 33,
   "metadata": {
    "collapsed": true
   },
   "outputs": [],
   "source": [
    "if PROTOTYPE:\n",
    "    complexes_plot = ['IPPMIa_E_c', 'ACKr_reverse_E_c', 'CPLX0-7760_mod_4fe4s','CPLX0-7761_mod_4fe4s']\n",
    "else:\n",
    "    complexes_plot = ['3-ISOPROPYLMALISOM-CPLX_mod_4fe4s', 'ACETATEKINA-MONOMER_mod_mg2', 'CPLX0-7659']"
   ]
  },
  {
   "cell_type": "code",
   "execution_count": 47,
   "metadata": {
    "collapsed": false
   },
   "outputs": [
    {
     "name": "stdout",
     "output_type": "stream",
     "text": [
      "9\n"
     ]
    }
   ],
   "source": [
    "fluxes_plot2 = []\n",
    "\n",
    "for rid in fluxes_plot:\n",
    "    rxn = dsolver.me.reactions.get_by_id(rid)\n",
    "    x   = result['rxn_flux'][1][rid]\n",
    "    try:\n",
    "        if abs(x) > 10:\n",
    "            fluxes_plot2.append(rxn.id)\n",
    "    except:\n",
    "        pass\n",
    "        \n",
    "print len(fluxes_plot2)"
   ]
  },
  {
   "cell_type": "code",
   "execution_count": 48,
   "metadata": {
    "collapsed": true
   },
   "outputs": [],
   "source": [
    "df_mu = pd.DataFrame([{'time':t, 'variable':'growth_rate', 'value':c, 'category':'growth'} for t,c in zip(result['time'], result['growth_rate'])] )\n",
    "\n",
    "df_complex = pd.DataFrame([{'time':t, 'complex':c, 'abundance':cdict[c]} \n",
    "                           for t,cdict in zip(result['time'], result['complex']) for c in complexes_plot] )\n",
    "\n",
    "df_mflux = pd.DataFrame([{'time':t, 'rxn':c, 'flux':cdict[c]} \n",
    "                           for t,cdict in zip(result['time'], result['rxn_flux']) for c in fluxes_plot2] )\n",
    "\n",
    "df_complex.loc[:,'category'] = 'complex'\n",
    "try:\n",
    "    df_mflux.loc[:,'category'] = 'flux'\n",
    "except:\n",
    "    pass\n",
    "\n",
    "dsplot_all = pd.concat([dsplot,\n",
    "                        df_mu,\n",
    "                          df_complex.rename(columns={'complex':'variable', 'abundance':'value'}),\n",
    "                          df_mflux.rename(columns={'rxn':'variable', 'flux':'value'})])"
   ]
  },
  {
   "cell_type": "code",
   "execution_count": 49,
   "metadata": {
    "collapsed": false
   },
   "outputs": [
    {
     "data": {
      "text/plain": [
       "<seaborn.axisgrid.FacetGrid at 0x7fe518dc0e90>"
      ]
     },
     "execution_count": 49,
     "metadata": {},
     "output_type": "execute_result"
    },
    {
     "data": {
      "image/png": "[encoded data removed]",
      "text/plain": [
       "<matplotlib.figure.Figure at 0x7fe5c38911d0>"
      ]
     },
     "metadata": {},
     "output_type": "display_data"
    }
   ],
   "source": [
    "sns.set_style('ticks')\n",
    "palette = sns.color_palette('muted', len(dsplot_all.variable.unique()))\n",
    "g = sns.FacetGrid(data=dsplot_all, hue='variable', sharey=False, size=3, col='category', palette=palette,\n",
    "                  aspect=2, col_wrap=2, col_order=['Biomass','complex','Metabolite','flux','growth'])\n",
    "g.map(sns.plt.plot, 'time', 'value', linestyle='-', marker='.')\n",
    "g.add_legend()"
   ]
  },
  {
   "cell_type": "code",
   "execution_count": 67,
   "metadata": {
    "collapsed": false
   },
   "outputs": [
    {
     "data": {
      "text/plain": [
       "<ComplexData PGI_E_c at 0x7fe51a8032d0>"
      ]
     },
     "execution_count": 67,
     "metadata": {},
     "output_type": "execute_result"
    }
   ],
   "source": [
    "me.complex_data.PGI_E_c"
   ]
  },
  {
   "cell_type": "code",
   "execution_count": 89,
   "metadata": {
    "collapsed": false
   },
   "outputs": [
    {
     "name": "stderr",
     "output_type": "stream",
     "text": [
      "/usr/lib/python2.7/site-packages/ipykernel/__main__.py:32 \u001b[1;31mRuntimeWarning\u001b[0m: invalid value encountered in double_scalars\n"
     ]
    },
    {
     "data": {
      "text/plain": [
       "<seaborn.axisgrid.FacetGrid at 0x7fe5084f3910>"
      ]
     },
     "execution_count": 89,
     "metadata": {},
     "output_type": "execute_result"
    },
    {
     "data": {
      "image/png": "[encoded data removed]",
      "text/plain": [
       "<matplotlib.figure.Figure at 0x7fe508a1f3d0>"
      ]
     },
     "metadata": {},
     "output_type": "display_data"
    }
   ],
   "source": [
    "import numpy as np\n",
    "\n",
    "macro = me.metabolites.macro_mass_constraint_c\n",
    "rows = []\n",
    "for data in me.complex_data:\n",
    "    rxn = data.formation\n",
    "    cplx = data.complex\n",
    "    try:\n",
    "        mass = rxn.metabolites[macro]\n",
    "        rows.append({'cplx':cplx.id, 'mass':mass})\n",
    "    except KeyError:\n",
    "        continue\n",
    "    \n",
    "df_mass = pd.DataFrame(rows)\n",
    "\n",
    "#df_mass = pd.DataFrame([{'cplx':met.id, 'mass':met.mass} for met in me.metabolites if hasattr(met,'mass')])\n",
    "#df_mass = pd.concat([df_mass, df_ribosome])\n",
    "\n",
    "\n",
    "df_cplx = pd.DataFrame([{'cplx':k, 'conc':v, 'time':result['time'][i]} for i,r in enumerate(result['complex']) for k,v in r.iteritems()])\n",
    "df_cplx_mass = pd.merge(df_cplx, df_mass, on='cplx')\n",
    "\n",
    "times = df_cplx_mass.time.unique()\n",
    "for t in times:\n",
    "    dfi = df_cplx_mass[ df_cplx_mass.time==t]\n",
    "    masses = dfi.conc*dfi.mass\n",
    "    mtot = masses.sum()\n",
    "    mfs = masses/mtot\n",
    "    b = (df_cplx_mass.time==t).values\n",
    "    df_cplx_mass.loc[b,'mf'] = mfs\n",
    "\n",
    "df_var = df_cplx_mass.groupby('cplx').mf.apply(lambda x: np.std(x)/np.mean(x)).reset_index()\n",
    "#df_var = df_cplx_mass.groupby('cplx').mf.mean().reset_index()\n",
    "N_PLOT = 10\n",
    "vary_cplxs = df_var.sort_values('mf', ascending=False)['cplx'][0:N_PLOT].tolist()\n",
    "#vary_cplxs += ['ribosome']\n",
    "#vary_cplxs += ['ACKr_reverse_E_c']\n",
    "#vary_cplxs += ['RNAPE-CPLX','RNAP32-CPLX','RNAPS-CPLX','RNAP70-CPLX','RNAP54-CPLX']\n",
    "\n",
    "df_cplx_mass[ df_cplx_mass.time==0].mf.sum()\n",
    "\n",
    "from stressme.plot import stacked_bar\n",
    "\n",
    "dsplot_cplx = df_cplx_mass[ df_cplx_mass.cplx.isin(vary_cplxs)]\n",
    "dsplot_cplx.loc[:,'group'] = 'DynamicDelayedME'\n",
    "dsplot_cplx.loc[:,'mperc'] = dsplot_cplx.mf*100\n",
    "g = stacked_bar('time', 'mperc', dsplot_cplx, 'cplx', 'group', aspect=4, palette_name='Paired')\n",
    "g.set_ylabels('Mass percent (%)')"
   ]
  },
  {
   "cell_type": "code",
   "execution_count": 92,
   "metadata": {
    "collapsed": false
   },
   "outputs": [
    {
     "data": {
      "text/html": [
       "<div>\n",
       "<style>\n",
       "    .dataframe thead tr:only-child th {\n",
       "        text-align: right;\n",
       "    }\n",
       "\n",
       "    .dataframe thead th {\n",
       "        text-align: left;\n",
       "    }\n",
       "\n",
       "    .dataframe tbody tr th {\n",
       "        vertical-align: top;\n",
       "    }\n",
       "</style>\n",
       "<table border=\"1\" class=\"dataframe\">\n",
       "  <thead>\n",
       "    <tr style=\"text-align: right;\">\n",
       "      <th></th>\n",
       "      <th>conc</th>\n",
       "      <th>cplx</th>\n",
       "      <th>time</th>\n",
       "      <th>mass</th>\n",
       "      <th>mf</th>\n",
       "    </tr>\n",
       "  </thead>\n",
       "  <tbody>\n",
       "    <tr>\n",
       "      <th>6885</th>\n",
       "      <td>0.000021</td>\n",
       "      <td>NADH6_E_c</td>\n",
       "      <td>1.0</td>\n",
       "      <td>627.355</td>\n",
       "      <td>0.220923</td>\n",
       "    </tr>\n",
       "    <tr>\n",
       "      <th>13157</th>\n",
       "      <td>0.000044</td>\n",
       "      <td>GLCpts_E_c</td>\n",
       "      <td>1.0</td>\n",
       "      <td>164.881</td>\n",
       "      <td>0.119700</td>\n",
       "    </tr>\n",
       "    <tr>\n",
       "      <th>10853</th>\n",
       "      <td>0.000044</td>\n",
       "      <td>PFL_E_c</td>\n",
       "      <td>1.0</td>\n",
       "      <td>148.040</td>\n",
       "      <td>0.106792</td>\n",
       "    </tr>\n",
       "    <tr>\n",
       "      <th>15685</th>\n",
       "      <td>0.000065</td>\n",
       "      <td>PGM_reverse_E_c</td>\n",
       "      <td>1.0</td>\n",
       "      <td>65.364</td>\n",
       "      <td>0.070589</td>\n",
       "    </tr>\n",
       "    <tr>\n",
       "      <th>13733</th>\n",
       "      <td>0.000065</td>\n",
       "      <td>ENO_E_c</td>\n",
       "      <td>1.0</td>\n",
       "      <td>53.361</td>\n",
       "      <td>0.057627</td>\n",
       "    </tr>\n",
       "    <tr>\n",
       "      <th>15557</th>\n",
       "      <td>0.000071</td>\n",
       "      <td>PGK_reverse_E_c</td>\n",
       "      <td>1.0</td>\n",
       "      <td>48.019</td>\n",
       "      <td>0.056619</td>\n",
       "    </tr>\n",
       "    <tr>\n",
       "      <th>2693</th>\n",
       "      <td>0.000071</td>\n",
       "      <td>GAPD_E_c</td>\n",
       "      <td>1.0</td>\n",
       "      <td>41.432</td>\n",
       "      <td>0.048853</td>\n",
       "    </tr>\n",
       "    <tr>\n",
       "      <th>8005</th>\n",
       "      <td>0.000021</td>\n",
       "      <td>CYTBD_E_c</td>\n",
       "      <td>1.0</td>\n",
       "      <td>116.245</td>\n",
       "      <td>0.041024</td>\n",
       "    </tr>\n",
       "    <tr>\n",
       "      <th>133</th>\n",
       "      <td>0.000023</td>\n",
       "      <td>PGI_E_c</td>\n",
       "      <td>1.0</td>\n",
       "      <td>71.324</td>\n",
       "      <td>0.026643</td>\n",
       "    </tr>\n",
       "    <tr>\n",
       "      <th>14437</th>\n",
       "      <td>0.000044</td>\n",
       "      <td>FORti_E_c</td>\n",
       "      <td>1.0</td>\n",
       "      <td>36.066</td>\n",
       "      <td>0.026192</td>\n",
       "    </tr>\n",
       "    <tr>\n",
       "      <th>1285</th>\n",
       "      <td>0.000033</td>\n",
       "      <td>FBA_E_c</td>\n",
       "      <td>1.0</td>\n",
       "      <td>44.348</td>\n",
       "      <td>0.024537</td>\n",
       "    </tr>\n",
       "    <tr>\n",
       "      <th>8261</th>\n",
       "      <td>0.000033</td>\n",
       "      <td>PFK_E_c</td>\n",
       "      <td>1.0</td>\n",
       "      <td>40.544</td>\n",
       "      <td>0.022433</td>\n",
       "    </tr>\n",
       "    <tr>\n",
       "      <th>15141</th>\n",
       "      <td>0.000021</td>\n",
       "      <td>G6PDH2r_E_c</td>\n",
       "      <td>1.0</td>\n",
       "      <td>64.461</td>\n",
       "      <td>0.021926</td>\n",
       "    </tr>\n",
       "    <tr>\n",
       "      <th>4901</th>\n",
       "      <td>0.000021</td>\n",
       "      <td>GND_E_c</td>\n",
       "      <td>1.0</td>\n",
       "      <td>59.829</td>\n",
       "      <td>0.020351</td>\n",
       "    </tr>\n",
       "    <tr>\n",
       "      <th>2949</th>\n",
       "      <td>0.000009</td>\n",
       "      <td>THD2_E_c</td>\n",
       "      <td>1.0</td>\n",
       "      <td>120.686</td>\n",
       "      <td>0.018871</td>\n",
       "    </tr>\n",
       "    <tr>\n",
       "      <th>3781</th>\n",
       "      <td>0.000033</td>\n",
       "      <td>TPI_E_c</td>\n",
       "      <td>1.0</td>\n",
       "      <td>31.513</td>\n",
       "      <td>0.017436</td>\n",
       "    </tr>\n",
       "    <tr>\n",
       "      <th>11269</th>\n",
       "      <td>0.000008</td>\n",
       "      <td>PPC_E_c</td>\n",
       "      <td>1.0</td>\n",
       "      <td>114.825</td>\n",
       "      <td>0.015493</td>\n",
       "    </tr>\n",
       "    <tr>\n",
       "      <th>11109</th>\n",
       "      <td>0.000021</td>\n",
       "      <td>PGL_E_c</td>\n",
       "      <td>1.0</td>\n",
       "      <td>42.207</td>\n",
       "      <td>0.014357</td>\n",
       "    </tr>\n",
       "    <tr>\n",
       "      <th>9125</th>\n",
       "      <td>0.000012</td>\n",
       "      <td>PIt2r_E_c</td>\n",
       "      <td>1.0</td>\n",
       "      <td>62.709</td>\n",
       "      <td>0.012275</td>\n",
       "    </tr>\n",
       "    <tr>\n",
       "      <th>10597</th>\n",
       "      <td>0.000011</td>\n",
       "      <td>PYK_E_c</td>\n",
       "      <td>1.0</td>\n",
       "      <td>59.920</td>\n",
       "      <td>0.010947</td>\n",
       "    </tr>\n",
       "    <tr>\n",
       "      <th>1349</th>\n",
       "      <td>0.000006</td>\n",
       "      <td>TKT1_E_c</td>\n",
       "      <td>1.0</td>\n",
       "      <td>84.046</td>\n",
       "      <td>0.008751</td>\n",
       "    </tr>\n",
       "    <tr>\n",
       "      <th>7685</th>\n",
       "      <td>0.000005</td>\n",
       "      <td>TKT2_E_c</td>\n",
       "      <td>1.0</td>\n",
       "      <td>84.046</td>\n",
       "      <td>0.006713</td>\n",
       "    </tr>\n",
       "    <tr>\n",
       "      <th>14149</th>\n",
       "      <td>0.000006</td>\n",
       "      <td>TALA_E_c</td>\n",
       "      <td>1.0</td>\n",
       "      <td>41.288</td>\n",
       "      <td>0.004299</td>\n",
       "    </tr>\n",
       "    <tr>\n",
       "      <th>1541</th>\n",
       "      <td>0.000009</td>\n",
       "      <td>RPI_reverse_E_c</td>\n",
       "      <td>1.0</td>\n",
       "      <td>26.758</td>\n",
       "      <td>0.004179</td>\n",
       "    </tr>\n",
       "    <tr>\n",
       "      <th>6629</th>\n",
       "      <td>0.000003</td>\n",
       "      <td>GLUDy_reverse_E_c</td>\n",
       "      <td>1.0</td>\n",
       "      <td>56.554</td>\n",
       "      <td>0.003201</td>\n",
       "    </tr>\n",
       "    <tr>\n",
       "      <th>9317</th>\n",
       "      <td>0.000001</td>\n",
       "      <td>PTAr_E_c</td>\n",
       "      <td>1.0</td>\n",
       "      <td>89.918</td>\n",
       "      <td>0.001646</td>\n",
       "    </tr>\n",
       "    <tr>\n",
       "      <th>11845</th>\n",
       "      <td>0.000001</td>\n",
       "      <td>CS_E_c</td>\n",
       "      <td>1.0</td>\n",
       "      <td>55.628</td>\n",
       "      <td>0.001178</td>\n",
       "    </tr>\n",
       "    <tr>\n",
       "      <th>5445</th>\n",
       "      <td>0.000001</td>\n",
       "      <td>ICDHyr_E_c</td>\n",
       "      <td>1.0</td>\n",
       "      <td>53.174</td>\n",
       "      <td>0.001126</td>\n",
       "    </tr>\n",
       "    <tr>\n",
       "      <th>5925</th>\n",
       "      <td>0.000004</td>\n",
       "      <td>NDPK1_E_c</td>\n",
       "      <td>1.0</td>\n",
       "      <td>18.002</td>\n",
       "      <td>0.001108</td>\n",
       "    </tr>\n",
       "    <tr>\n",
       "      <th>4869</th>\n",
       "      <td>0.000001</td>\n",
       "      <td>GLNS_E_c</td>\n",
       "      <td>1.0</td>\n",
       "      <td>60.269</td>\n",
       "      <td>0.001071</td>\n",
       "    </tr>\n",
       "    <tr>\n",
       "      <th>...</th>\n",
       "      <td>...</td>\n",
       "      <td>...</td>\n",
       "      <td>...</td>\n",
       "      <td>...</td>\n",
       "      <td>...</td>\n",
       "    </tr>\n",
       "    <tr>\n",
       "      <th>5317</th>\n",
       "      <td>0.000000</td>\n",
       "      <td>NO3t7_E_c</td>\n",
       "      <td>1.0</td>\n",
       "      <td>57.951</td>\n",
       "      <td>0.000000</td>\n",
       "    </tr>\n",
       "    <tr>\n",
       "      <th>5285</th>\n",
       "      <td>0.000000</td>\n",
       "      <td>PPPNt2r_E_c</td>\n",
       "      <td>1.0</td>\n",
       "      <td>48.347</td>\n",
       "      <td>0.000000</td>\n",
       "    </tr>\n",
       "    <tr>\n",
       "      <th>6405</th>\n",
       "      <td>0.000000</td>\n",
       "      <td>NDPK6_E_c</td>\n",
       "      <td>1.0</td>\n",
       "      <td>18.002</td>\n",
       "      <td>0.000000</td>\n",
       "    </tr>\n",
       "    <tr>\n",
       "      <th>6437</th>\n",
       "      <td>0.000000</td>\n",
       "      <td>UREAt_reverse_E_c</td>\n",
       "      <td>1.0</td>\n",
       "      <td>34.785</td>\n",
       "      <td>0.000000</td>\n",
       "    </tr>\n",
       "    <tr>\n",
       "      <th>6469</th>\n",
       "      <td>0.000000</td>\n",
       "      <td>ADSL1r_E_c</td>\n",
       "      <td>1.0</td>\n",
       "      <td>59.674</td>\n",
       "      <td>0.000000</td>\n",
       "    </tr>\n",
       "    <tr>\n",
       "      <th>6533</th>\n",
       "      <td>0.000000</td>\n",
       "      <td>ADEt2r_E_c</td>\n",
       "      <td>1.0</td>\n",
       "      <td>57.126</td>\n",
       "      <td>0.000000</td>\n",
       "    </tr>\n",
       "    <tr>\n",
       "      <th>7589</th>\n",
       "      <td>0.000000</td>\n",
       "      <td>LEUt2r_E_c</td>\n",
       "      <td>1.0</td>\n",
       "      <td>54.038</td>\n",
       "      <td>0.000000</td>\n",
       "    </tr>\n",
       "    <tr>\n",
       "      <th>7557</th>\n",
       "      <td>0.000000</td>\n",
       "      <td>INSt2_E_c</td>\n",
       "      <td>1.0</td>\n",
       "      <td>53.840</td>\n",
       "      <td>0.000000</td>\n",
       "    </tr>\n",
       "    <tr>\n",
       "      <th>7525</th>\n",
       "      <td>0.000000</td>\n",
       "      <td>DURIK1_E_c</td>\n",
       "      <td>1.0</td>\n",
       "      <td>27.102</td>\n",
       "      <td>0.000000</td>\n",
       "    </tr>\n",
       "    <tr>\n",
       "      <th>7493</th>\n",
       "      <td>0.000000</td>\n",
       "      <td>TARTRt7_E_c</td>\n",
       "      <td>1.0</td>\n",
       "      <td>61.591</td>\n",
       "      <td>0.000000</td>\n",
       "    </tr>\n",
       "    <tr>\n",
       "      <th>7397</th>\n",
       "      <td>0.000000</td>\n",
       "      <td>URIt2_E_c</td>\n",
       "      <td>1.0</td>\n",
       "      <td>53.840</td>\n",
       "      <td>0.000000</td>\n",
       "    </tr>\n",
       "    <tr>\n",
       "      <th>7365</th>\n",
       "      <td>0.000000</td>\n",
       "      <td>DADA_E_c</td>\n",
       "      <td>1.0</td>\n",
       "      <td>42.332</td>\n",
       "      <td>0.000000</td>\n",
       "    </tr>\n",
       "    <tr>\n",
       "      <th>7301</th>\n",
       "      <td>0.000000</td>\n",
       "      <td>LYSDC_E_c</td>\n",
       "      <td>1.0</td>\n",
       "      <td>93.314</td>\n",
       "      <td>0.000000</td>\n",
       "    </tr>\n",
       "    <tr>\n",
       "      <th>7269</th>\n",
       "      <td>0.000000</td>\n",
       "      <td>FUMt2_2_E_c</td>\n",
       "      <td>1.0</td>\n",
       "      <td>53.068</td>\n",
       "      <td>0.000000</td>\n",
       "    </tr>\n",
       "    <tr>\n",
       "      <th>7237</th>\n",
       "      <td>0.000000</td>\n",
       "      <td>HISt2r_E_c</td>\n",
       "      <td>1.0</td>\n",
       "      <td>57.839</td>\n",
       "      <td>0.000000</td>\n",
       "    </tr>\n",
       "    <tr>\n",
       "      <th>7205</th>\n",
       "      <td>0.000000</td>\n",
       "      <td>METabc_E_c</td>\n",
       "      <td>1.0</td>\n",
       "      <td>105.275</td>\n",
       "      <td>0.000000</td>\n",
       "    </tr>\n",
       "    <tr>\n",
       "      <th>7173</th>\n",
       "      <td>0.000000</td>\n",
       "      <td>RNTR2_E_c</td>\n",
       "      <td>1.0</td>\n",
       "      <td>92.730</td>\n",
       "      <td>0.000000</td>\n",
       "    </tr>\n",
       "    <tr>\n",
       "      <th>7109</th>\n",
       "      <td>0.000000</td>\n",
       "      <td>CYTK1_reverse_E_c</td>\n",
       "      <td>1.0</td>\n",
       "      <td>28.786</td>\n",
       "      <td>0.000000</td>\n",
       "    </tr>\n",
       "    <tr>\n",
       "      <th>7077</th>\n",
       "      <td>0.000000</td>\n",
       "      <td>PROabc_E_c</td>\n",
       "      <td>1.0</td>\n",
       "      <td>137.127</td>\n",
       "      <td>0.000000</td>\n",
       "    </tr>\n",
       "    <tr>\n",
       "      <th>7013</th>\n",
       "      <td>0.000000</td>\n",
       "      <td>GLNabc_E_c</td>\n",
       "      <td>1.0</td>\n",
       "      <td>90.866</td>\n",
       "      <td>0.000000</td>\n",
       "    </tr>\n",
       "    <tr>\n",
       "      <th>6981</th>\n",
       "      <td>0.000000</td>\n",
       "      <td>ADPT_E_c</td>\n",
       "      <td>1.0</td>\n",
       "      <td>23.112</td>\n",
       "      <td>0.000000</td>\n",
       "    </tr>\n",
       "    <tr>\n",
       "      <th>6949</th>\n",
       "      <td>0.000000</td>\n",
       "      <td>DHAD2_E_c</td>\n",
       "      <td>1.0</td>\n",
       "      <td>76.527</td>\n",
       "      <td>0.000000</td>\n",
       "    </tr>\n",
       "    <tr>\n",
       "      <th>6853</th>\n",
       "      <td>0.000000</td>\n",
       "      <td>ADK3_reverse_E_c</td>\n",
       "      <td>1.0</td>\n",
       "      <td>27.393</td>\n",
       "      <td>0.000000</td>\n",
       "    </tr>\n",
       "    <tr>\n",
       "      <th>6821</th>\n",
       "      <td>0.000000</td>\n",
       "      <td>RIBabc_E_c</td>\n",
       "      <td>1.0</td>\n",
       "      <td>122.474</td>\n",
       "      <td>0.000000</td>\n",
       "    </tr>\n",
       "    <tr>\n",
       "      <th>6757</th>\n",
       "      <td>0.000000</td>\n",
       "      <td>ACACt2_reverse_E_c</td>\n",
       "      <td>1.0</td>\n",
       "      <td>55.373</td>\n",
       "      <td>0.000000</td>\n",
       "    </tr>\n",
       "    <tr>\n",
       "      <th>6725</th>\n",
       "      <td>0.000000</td>\n",
       "      <td>GLUDC_E_c</td>\n",
       "      <td>1.0</td>\n",
       "      <td>60.995</td>\n",
       "      <td>0.000000</td>\n",
       "    </tr>\n",
       "    <tr>\n",
       "      <th>6693</th>\n",
       "      <td>0.000000</td>\n",
       "      <td>RNTR4_E_c</td>\n",
       "      <td>1.0</td>\n",
       "      <td>92.730</td>\n",
       "      <td>0.000000</td>\n",
       "    </tr>\n",
       "    <tr>\n",
       "      <th>6661</th>\n",
       "      <td>0.000000</td>\n",
       "      <td>NTD10_E_c</td>\n",
       "      <td>1.0</td>\n",
       "      <td>70.637</td>\n",
       "      <td>0.000000</td>\n",
       "    </tr>\n",
       "    <tr>\n",
       "      <th>6565</th>\n",
       "      <td>0.000000</td>\n",
       "      <td>IPPMIa_reverse_E_c</td>\n",
       "      <td>1.0</td>\n",
       "      <td>84.257</td>\n",
       "      <td>0.000000</td>\n",
       "    </tr>\n",
       "    <tr>\n",
       "      <th>17093</th>\n",
       "      <td>0.000000</td>\n",
       "      <td>CYSDS_E_c</td>\n",
       "      <td>1.0</td>\n",
       "      <td>61.173</td>\n",
       "      <td>0.000000</td>\n",
       "    </tr>\n",
       "  </tbody>\n",
       "</table>\n",
       "<p>535 rows × 5 columns</p>\n",
       "</div>"
      ],
      "text/plain": [
       "           conc                cplx  time     mass        mf\n",
       "6885   0.000021  NADH6_E_c           1.0   627.355  0.220923\n",
       "13157  0.000044  GLCpts_E_c          1.0   164.881  0.119700\n",
       "10853  0.000044  PFL_E_c             1.0   148.040  0.106792\n",
       "15685  0.000065  PGM_reverse_E_c     1.0   65.364   0.070589\n",
       "13733  0.000065  ENO_E_c             1.0   53.361   0.057627\n",
       "15557  0.000071  PGK_reverse_E_c     1.0   48.019   0.056619\n",
       "2693   0.000071  GAPD_E_c            1.0   41.432   0.048853\n",
       "8005   0.000021  CYTBD_E_c           1.0   116.245  0.041024\n",
       "133    0.000023  PGI_E_c             1.0   71.324   0.026643\n",
       "14437  0.000044  FORti_E_c           1.0   36.066   0.026192\n",
       "1285   0.000033  FBA_E_c             1.0   44.348   0.024537\n",
       "8261   0.000033  PFK_E_c             1.0   40.544   0.022433\n",
       "15141  0.000021  G6PDH2r_E_c         1.0   64.461   0.021926\n",
       "4901   0.000021  GND_E_c             1.0   59.829   0.020351\n",
       "2949   0.000009  THD2_E_c            1.0   120.686  0.018871\n",
       "3781   0.000033  TPI_E_c             1.0   31.513   0.017436\n",
       "11269  0.000008  PPC_E_c             1.0   114.825  0.015493\n",
       "11109  0.000021  PGL_E_c             1.0   42.207   0.014357\n",
       "9125   0.000012  PIt2r_E_c           1.0   62.709   0.012275\n",
       "10597  0.000011  PYK_E_c             1.0   59.920   0.010947\n",
       "1349   0.000006  TKT1_E_c            1.0   84.046   0.008751\n",
       "7685   0.000005  TKT2_E_c            1.0   84.046   0.006713\n",
       "14149  0.000006  TALA_E_c            1.0   41.288   0.004299\n",
       "1541   0.000009  RPI_reverse_E_c     1.0   26.758   0.004179\n",
       "6629   0.000003  GLUDy_reverse_E_c   1.0   56.554   0.003201\n",
       "9317   0.000001  PTAr_E_c            1.0   89.918   0.001646\n",
       "11845  0.000001  CS_E_c              1.0   55.628   0.001178\n",
       "5445   0.000001  ICDHyr_E_c          1.0   53.174   0.001126\n",
       "5925   0.000004  NDPK1_E_c           1.0   18.002   0.001108\n",
       "4869   0.000001  GLNS_E_c            1.0   60.269   0.001071\n",
       "...         ...       ...            ...      ...        ...\n",
       "5317   0.000000  NO3t7_E_c           1.0   57.951   0.000000\n",
       "5285   0.000000  PPPNt2r_E_c         1.0   48.347   0.000000\n",
       "6405   0.000000  NDPK6_E_c           1.0   18.002   0.000000\n",
       "6437   0.000000  UREAt_reverse_E_c   1.0   34.785   0.000000\n",
       "6469   0.000000  ADSL1r_E_c          1.0   59.674   0.000000\n",
       "6533   0.000000  ADEt2r_E_c          1.0   57.126   0.000000\n",
       "7589   0.000000  LEUt2r_E_c          1.0   54.038   0.000000\n",
       "7557   0.000000  INSt2_E_c           1.0   53.840   0.000000\n",
       "7525   0.000000  DURIK1_E_c          1.0   27.102   0.000000\n",
       "7493   0.000000  TARTRt7_E_c         1.0   61.591   0.000000\n",
       "7397   0.000000  URIt2_E_c           1.0   53.840   0.000000\n",
       "7365   0.000000  DADA_E_c            1.0   42.332   0.000000\n",
       "7301   0.000000  LYSDC_E_c           1.0   93.314   0.000000\n",
       "7269   0.000000  FUMt2_2_E_c         1.0   53.068   0.000000\n",
       "7237   0.000000  HISt2r_E_c          1.0   57.839   0.000000\n",
       "7205   0.000000  METabc_E_c          1.0   105.275  0.000000\n",
       "7173   0.000000  RNTR2_E_c           1.0   92.730   0.000000\n",
       "7109   0.000000  CYTK1_reverse_E_c   1.0   28.786   0.000000\n",
       "7077   0.000000  PROabc_E_c          1.0   137.127  0.000000\n",
       "7013   0.000000  GLNabc_E_c          1.0   90.866   0.000000\n",
       "6981   0.000000  ADPT_E_c            1.0   23.112   0.000000\n",
       "6949   0.000000  DHAD2_E_c           1.0   76.527   0.000000\n",
       "6853   0.000000  ADK3_reverse_E_c    1.0   27.393   0.000000\n",
       "6821   0.000000  RIBabc_E_c          1.0   122.474  0.000000\n",
       "6757   0.000000  ACACt2_reverse_E_c  1.0   55.373   0.000000\n",
       "6725   0.000000  GLUDC_E_c           1.0   60.995   0.000000\n",
       "6693   0.000000  RNTR4_E_c           1.0   92.730   0.000000\n",
       "6661   0.000000  NTD10_E_c           1.0   70.637   0.000000\n",
       "6565   0.000000  IPPMIa_reverse_E_c  1.0   84.257   0.000000\n",
       "17093  0.000000  CYSDS_E_c           1.0   61.173   0.000000\n",
       "\n",
       "[535 rows x 5 columns]"
      ]
     },
     "execution_count": 92,
     "metadata": {},
     "output_type": "execute_result"
    }
   ],
   "source": [
    "df_cplx_mass[ df_cplx_mass.time==1].sort_values('mf', ascending=False)"
   ]
  },
  {
   "cell_type": "code",
   "execution_count": null,
   "metadata": {
    "collapsed": true
   },
   "outputs": [],
   "source": []
  }
 ],
 "metadata": {
  "kernelspec": {
   "display_name": "Python 2",
   "language": "python",
   "name": "python2"
  },
  "language_info": {
   "codemirror_mode": {
    "name": "ipython",
    "version": 2
   },
   "file_extension": ".py",
   "mimetype": "text/x-python",
   "name": "python",
   "nbconvert_exporter": "python",
   "pygments_lexer": "ipython2",
   "version": "2.7.13"
  }
 },
 "nbformat": 4,
 "nbformat_minor": 2
}
