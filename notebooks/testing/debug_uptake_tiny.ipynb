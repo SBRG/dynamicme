{
 "cells": [
  {
   "cell_type": "markdown",
   "metadata": {
    "deletable": true,
    "editable": true
   },
   "source": [
    "# Simulate proteome time profiles.\n",
    "## Start from measured proteome that is already hedged: necessary to enable lactate usage later?"
   ]
  },
  {
   "cell_type": "code",
   "execution_count": 1,
   "metadata": {
    "collapsed": true,
    "deletable": true,
    "editable": true
   },
   "outputs": [],
   "source": [
    "import seaborn as sns\n",
    "import pandas as pd\n",
    "\n",
    "sns.plt.rcParams['svg.fonttype'] = 'none'\n",
    "pd.set_option('display.max_colwidth', -1)\n",
    "#pd.set_option('display.float_format', lambda x: '%.3g' % x)\n",
    "%matplotlib inline"
   ]
  },
  {
   "cell_type": "code",
   "execution_count": 2,
   "metadata": {
    "collapsed": true,
    "deletable": true,
    "editable": true
   },
   "outputs": [],
   "source": [
    "PROTOTYPE = True"
   ]
  },
  {
   "cell_type": "code",
   "execution_count": null,
   "metadata": {
    "collapsed": true
   },
   "outputs": [],
   "source": [
    "from dynamicme.tests.helpme import HelpME\n",
    "from dynamicme.dynamic import get_cplx_concs\n",
    "\n",
    "helper = HelpME(prototyping=PROTOTYPE)\n",
    "solver = helper.solver\n",
    "me = solver.me"
   ]
  },
  {
   "cell_type": "markdown",
   "metadata": {
    "collapsed": false,
    "deletable": true,
    "editable": true
   },
   "source": [
    "### Already done and saved \n",
    "for data in me.complex_data:\n",
    "    data._complex_id = data.id    \n",
    "    form_id0 = 'ES_'+data.id.replace('_E_c','')\n",
    "    try:\n",
    "        form = me.reactions.get_by_id(form_id0)\n",
    "        form.id = 'formation_'+ data.id\n",
    "    except KeyError:\n",
    "        form = me.reactions.get_by_id('formation_'+data.id)    \n",
    "\n",
    "me.repair()\n",
    "\n",
    "from cobrame import mu\n",
    "from stressme.stressfuncs import update_stoich_expr\n",
    "\n",
    "me.reactions.Biomass_Ecoli_core_w_GAM.lower_bound = mu\n",
    "me.reactions.Biomass_Ecoli_core_w_GAM.upper_bound = mu\n",
    "update_stoich_expr(solver, rxn=me.reactions.Biomass_Ecoli_core_w_GAM)\n",
    "solver.compiled_expressions = None"
   ]
  },
  {
   "cell_type": "code",
   "execution_count": 4,
   "metadata": {
    "collapsed": false,
    "deletable": true,
    "editable": true,
    "scrolled": true
   },
   "outputs": [
    {
     "name": "stdout",
     "output_type": "stream",
     "text": [
      "CPU times: user 11.2 s, sys: 83.3 ms, total: 11.3 s\n",
      "Wall time: 11.2 s\n"
     ]
    }
   ],
   "source": [
    "%%time\n",
    "sol_max = solver.bisectmu(verbosity=0, precision=1e-5)"
   ]
  },
  {
   "cell_type": "markdown",
   "metadata": {},
   "source": [
    "import cPickle\n",
    "import cloudpickle\n",
    "\n",
    "with open('/home/laurence/ME/models/tinyME_nostress_v2.pickle','wb') as f:\n",
    "    cPickle.dump(me,f)\n",
    "    \n",
    "with open('/home/laurence/ME/models/solver_tinyME_nostress_v2.pickle','wb') as f:\n",
    "    cloudpickle.dump(solver,f)"
   ]
  },
  {
   "cell_type": "code",
   "execution_count": 5,
   "metadata": {
    "collapsed": false
   },
   "outputs": [
    {
     "data": {
      "text/plain": [
       "0.8456802368164062"
      ]
     },
     "execution_count": 5,
     "metadata": {},
     "output_type": "execute_result"
    }
   ],
   "source": [
    "sol_max[0]"
   ]
  },
  {
   "cell_type": "code",
   "execution_count": 6,
   "metadata": {
    "collapsed": false,
    "deletable": true,
    "editable": true
   },
   "outputs": [
    {
     "data": {
      "text/plain": [
       "0.84568023681640625"
      ]
     },
     "execution_count": 6,
     "metadata": {},
     "output_type": "execute_result"
    }
   ],
   "source": [
    "me.reactions.Biomass_Ecoli_core_w_GAM.x"
   ]
  },
  {
   "cell_type": "code",
   "execution_count": null,
   "metadata": {
    "collapsed": true
   },
   "outputs": [],
   "source": []
  },
  {
   "cell_type": "code",
   "execution_count": 7,
   "metadata": {
    "collapsed": false,
    "deletable": true,
    "editable": true
   },
   "outputs": [
    {
     "name": "stderr",
     "output_type": "stream",
     "text": [
      "/home/laurence/python_modules/dynamicme.git/dynamicme/dynamic.py:1229 \u001b[1;31mUserWarning\u001b[0m: Dynamic mRNA not yet implemented!\n"
     ]
    }
   ],
   "source": [
    "from dynamicme.dynamic import DelayedDynamicME\n",
    "\n",
    "dyme = DelayedDynamicME(solver)\n",
    "dyme.delay_model.solver.set_realopts('lp', {'Feasibility tol':1e-15,'Optimality tol':1e-15})\n",
    "dsolver = dyme.delay_model.solver\n",
    "dme = dsolver.me"
   ]
  },
  {
   "cell_type": "code",
   "execution_count": 8,
   "metadata": {
    "collapsed": false,
    "deletable": true,
    "editable": true
   },
   "outputs": [
    {
     "data": {
      "text/plain": [
       "2.2806862140954783e-05"
      ]
     },
     "execution_count": 8,
     "metadata": {},
     "output_type": "execute_result"
    }
   ],
   "source": [
    "dme.metabolites.delayed_abundance_PGI_E_c._bound"
   ]
  },
  {
   "cell_type": "code",
   "execution_count": 9,
   "metadata": {
    "collapsed": true,
    "deletable": true,
    "editable": true
   },
   "outputs": [],
   "source": [
    "cplx_concs_max = get_cplx_concs(solver)"
   ]
  },
  {
   "cell_type": "code",
   "execution_count": 10,
   "metadata": {
    "collapsed": false,
    "deletable": true,
    "editable": true
   },
   "outputs": [
    {
     "name": "stdout",
     "output_type": "stream",
     "text": [
      "mu of ME for growth maximization: 0.845680236816\n"
     ]
    }
   ],
   "source": [
    "mu_me = me.solution.x_dict['biomass_dilution']\n",
    "print 'mu of ME for growth maximization:', mu_me"
   ]
  },
  {
   "cell_type": "markdown",
   "metadata": {},
   "source": [
    "# FIX THIS and much debugging complete:"
   ]
  },
  {
   "cell_type": "code",
   "execution_count": 11,
   "metadata": {
    "collapsed": true,
    "deletable": true,
    "editable": true
   },
   "outputs": [],
   "source": [
    "dyme.delay_model.update_cplx_concs(cplx_concs_max)"
   ]
  },
  {
   "cell_type": "code",
   "execution_count": 12,
   "metadata": {
    "collapsed": true,
    "deletable": true,
    "editable": true
   },
   "outputs": [],
   "source": [
    "dt = 0.1\n",
    "dyme.delay_model.update_horizon(dt)"
   ]
  },
  {
   "cell_type": "markdown",
   "metadata": {},
   "source": [
    "for rxn in dsolver.me.reactions.query('dedt_'):\n",
    "    rxn.lower_bound = -1000"
   ]
  },
  {
   "cell_type": "code",
   "execution_count": 13,
   "metadata": {
    "collapsed": false,
    "deletable": true,
    "editable": true
   },
   "outputs": [],
   "source": [
    "sol_dyme = dsolver.bisectmu(basis=dsolver.feas_basis, mumax=2, verbosity=0, precision=1e-5)"
   ]
  },
  {
   "cell_type": "code",
   "execution_count": 14,
   "metadata": {
    "collapsed": false
   },
   "outputs": [
    {
     "data": {
      "text/plain": [
       "frozenset({<SummaryVariable protein_biomass_dilution at 0x7fedbf4dacd0>})"
      ]
     },
     "execution_count": 14,
     "metadata": {},
     "output_type": "execute_result"
    }
   ],
   "source": [
    "dme.metabolites.protein_biomass.reactions"
   ]
  },
  {
   "cell_type": "code",
   "execution_count": 15,
   "metadata": {
    "collapsed": false
   },
   "outputs": [
    {
     "name": "stdout",
     "output_type": "stream",
     "text": [
      "E0:\t2.2806862141e-05\n",
      "E(t):\t2.2806862141e-05\n",
      "dedt:\t-5.81659113221e-20\n",
      "dedt*dt:\t-5.81659113221e-21\n",
      "E0+dedt*dt:\t2.2806862141e-05\n",
      "vform:\t1.92873125764e-05\n",
      "mu(t)*E(t):\t1.92873125764e-05\n",
      "mu0:\t0.845680236816\n",
      "mu(t):\t0.845680236816\n",
      "PGI0:\t5.33680574098\n",
      "PGI(t):\t5.33680574098\n",
      "keff*E_PGI(t):\t5.33680574098\n"
     ]
    }
   ],
   "source": [
    "E0 = dme.metabolites.delayed_abundance_PGI_E_c._bound\n",
    "Et = dme.reactions.abundance_PGI_E_c.x\n",
    "dedt = dme.reactions.dedt_PGI_E_c.x\n",
    "print 'E0:\\t',E0\n",
    "print 'E(t):\\t',dme.reactions.abundance_PGI_E_c.x\n",
    "print 'dedt:\\t', dedt\n",
    "print 'dedt*dt:\\t', dt*dedt\n",
    "print 'E0+dedt*dt:\\t', E0+dedt*dt\n",
    "print 'vform:\\t', dme.reactions.formation_PGI_E_c.x\n",
    "print 'mu(t)*E(t):\\t', sol_dyme[0]*dme.reactions.abundance_PGI_E_c.x\n",
    "print 'mu0:\\t', sol_max[0]\n",
    "print 'mu(t):\\t', sol_dyme[0]\n",
    "print 'PGI0:\\t', me.reactions.PGI.x\n",
    "print 'PGI(t):\\t', dme.reactions.PGI.x\n",
    "print 'keff*E_PGI(t):\\t', 65.*3600*Et"
   ]
  },
  {
   "cell_type": "code",
   "execution_count": 16,
   "metadata": {
    "collapsed": false,
    "deletable": true,
    "editable": true,
    "scrolled": true
   },
   "outputs": [
    {
     "name": "stdout",
     "output_type": "stream",
     "text": [
      "0.845680236816 =?= 0.845680236816\n"
     ]
    }
   ],
   "source": [
    "print sol_max[0], '=?=', sol_dyme[0]\n",
    "assert abs(sol_dyme[0] - sol_max[0]) < 1e-3"
   ]
  },
  {
   "cell_type": "code",
   "execution_count": 17,
   "metadata": {
    "collapsed": false
   },
   "outputs": [
    {
     "name": "stdout",
     "output_type": "stream",
     "text": [
      "5.33680574098 5.33680574098\n"
     ]
    }
   ],
   "source": [
    "print me.reactions.PGI.x, dme.reactions.PGI.x\n",
    "assert abs(me.reactions.PGI.x - dme.reactions.PGI.x) < 1e-3"
   ]
  },
  {
   "cell_type": "code",
   "execution_count": 18,
   "metadata": {
    "collapsed": false,
    "deletable": true,
    "editable": true
   },
   "outputs": [
    {
     "name": "stdout",
     "output_type": "stream",
     "text": [
      "2.2806862141e-05         delayed_abundance_PGI_E_c          abundance_PGI_E_c                  1                        \n",
      "-5.81659113221e-20       delayed_abundance_PGI_E_c          dedt_PGI_E_c                       -0.1                     \n",
      "2.2806862141e-05         delayed_abundance_PGI_E_c          _bound                             E                        \n"
     ]
    }
   ],
   "source": [
    "met = dme.metabolites.delayed_abundance_PGI_E_c\n",
    "for rxn in met.reactions:\n",
    "    print '%-25.20s%-35.30s%-35.30s%-25s' % (rxn.x, met.id, rxn.id, rxn.metabolites[met])\n",
    "\n",
    "print '%-25.20s%-35.30s%-35.30s%-25s' % (met._bound, met.id, '_bound', met._constraint_sense)"
   ]
  },
  {
   "cell_type": "code",
   "execution_count": 19,
   "metadata": {
    "collapsed": false,
    "deletable": true,
    "editable": true
   },
   "outputs": [
    {
     "name": "stdout",
     "output_type": "stream",
     "text": [
      "2.2806862141e-05         enzyme_capacity_PGI_E_c            abundance_PGI_E_c                  -1                       \n",
      "5.33680574098            enzyme_capacity_PGI_E_c            PGI                                4.2735042735e-06         \n",
      "0                        enzyme_capacity_PGI_E_c            _bound                             L                        \n"
     ]
    }
   ],
   "source": [
    "met = dme.metabolites.enzyme_capacity_PGI_E_c\n",
    "for rxn in met.reactions:\n",
    "    print '%-25.20s%-35.30s%-35.30s%-25s' % (rxn.x, met.id, rxn.id, rxn.metabolites[met])\n",
    "\n",
    "print '%-25.20s%-35.30s%-35.30s%-25s' % (met._bound, met.id, '_bound', met._constraint_sense)"
   ]
  },
  {
   "cell_type": "code",
   "execution_count": 20,
   "metadata": {
    "collapsed": false
   },
   "outputs": [
    {
     "data": {
      "text/plain": [
       "2.2806862140954776e-05"
      ]
     },
     "execution_count": 20,
     "metadata": {},
     "output_type": "execute_result"
    }
   ],
   "source": [
    "rxn = dme.reactions.PGI\n",
    "rxn.x * rxn.metabolites[dme.metabolites.enzyme_capacity_PGI_E_c]"
   ]
  },
  {
   "cell_type": "code",
   "execution_count": 21,
   "metadata": {
    "collapsed": false
   },
   "outputs": [
    {
     "data": {
      "text/plain": [
       "5.3368057409834178"
      ]
     },
     "execution_count": 21,
     "metadata": {},
     "output_type": "execute_result"
    }
   ],
   "source": [
    "dme.reactions.abundance_PGI_E_c.x * 65*3600"
   ]
  },
  {
   "cell_type": "markdown",
   "metadata": {
    "deletable": true,
    "editable": true
   },
   "source": [
    "# Validate mixed substrate uptake hierarchy--Beg et al. (2007) MSB"
   ]
  },
  {
   "cell_type": "code",
   "execution_count": 22,
   "metadata": {
    "collapsed": false,
    "deletable": true,
    "editable": true
   },
   "outputs": [
    {
     "name": "stdout",
     "output_type": "stream",
     "text": [
      "{'ac_e': 0.0, 'glc__D_e': 2.220299442904667}\n",
      "{'EX_glc_e': -10.0, 'EX_ac_e': -10.0, 'EX_o2_e': -20.0}\n"
     ]
    },
    {
     "name": "stderr",
     "output_type": "stream",
     "text": [
      "/usr/lib/python2.7/site-packages/ipykernel/__main__.py:20 \u001b[1;31mUserWarning\u001b[0m: Model has no metabolite: glyc_e. Will remove it from c0_dict\n",
      "/usr/lib/python2.7/site-packages/ipykernel/__main__.py:20 \u001b[1;31mUserWarning\u001b[0m: Model has no metabolite: malt_e. Will remove it from c0_dict\n",
      "/usr/lib/python2.7/site-packages/ipykernel/__main__.py:20 \u001b[1;31mUserWarning\u001b[0m: Model has no metabolite: lac__L_e. Will remove it from c0_dict\n",
      "/usr/lib/python2.7/site-packages/ipykernel/__main__.py:20 \u001b[1;31mUserWarning\u001b[0m: Model has no metabolite: gal_e. Will remove it from c0_dict\n"
     ]
    }
   ],
   "source": [
    "import warnings\n",
    "\n",
    "T = 10   # hours\n",
    "V = 1.   # L\n",
    "X0 = 0.00675 / V  # g/L\n",
    "c0_dict = {'glc__D_e': 0.4,\n",
    "           'lac__L_e': 0.4,\n",
    "           'malt_e': 0.4,\n",
    "           'gal_e': 0.4,\n",
    "           'glyc_e':0.4,\n",
    "           'ac_e': 0.0}\n",
    "\n",
    "### Convert from g/L to mmol\n",
    "mids_remove = []\n",
    "for mid,c in c0_dict.iteritems():\n",
    "    try:        \n",
    "        met = me.metabolites.get_by_id(mid)    \n",
    "        c0_dict[met.id] = c / met.formula_weight * 1000\n",
    "    except KeyError:\n",
    "        warnings.warn('Model has no metabolite: %s. Will remove it from c0_dict' % mid)\n",
    "        mids_remove.append(mid)\n",
    "\n",
    "for mid in mids_remove:\n",
    "    c0_dict.pop(mid)\n",
    "        \n",
    "### Set max uptake rate\n",
    "LB_EX = -10.\n",
    "LB_O2 = -20.\n",
    "\n",
    "lb_dict={}\n",
    "ub_dict={}\n",
    "\n",
    "for mid in c0_dict.keys():\n",
    "    try:\n",
    "        rxn = dyme.get_exchange_rxn(mid)    \n",
    "        if rxn.id == 'EX_o2_e':\n",
    "            lb = LB_O2\n",
    "        else:\n",
    "            lb = LB_EX\n",
    "        rxn.lower_bound = lb\n",
    "        lb_dict[rxn.id] = lb\n",
    "    except KeyError:\n",
    "        warnings.warn('Model has no metabolite: '+ mid)\n",
    "\n",
    "me.reactions.EX_o2_e.lower_bound = -20.\n",
    "lb_dict[me.reactions.EX_o2_e.id] = -20.\n",
    "\n",
    "for k,lb in lb_dict.iteritems():\n",
    "    rxn = dsolver.me.reactions.get_by_id(k)\n",
    "    rxn.lower_bound = lb\n",
    "\n",
    "print c0_dict\n",
    "print lb_dict"
   ]
  },
  {
   "cell_type": "code",
   "execution_count": 23,
   "metadata": {
    "collapsed": true
   },
   "outputs": [],
   "source": [
    "solver.set_realopts('lp', {'Feasibility tol':1e-15, 'Optimality tol':1e-15})\n",
    "from cobrame import MetabolicReaction\n",
    "fluxes_plot = [r.id for r in dsolver.me.reactions]"
   ]
  },
  {
   "cell_type": "code",
   "execution_count": 24,
   "metadata": {
    "collapsed": true
   },
   "outputs": [],
   "source": [
    "cplx_conc_dict0 = cplx_concs_max"
   ]
  },
  {
   "cell_type": "code",
   "execution_count": 25,
   "metadata": {
    "collapsed": false,
    "scrolled": true
   },
   "outputs": [
    {
     "name": "stdout",
     "output_type": "stream",
     "text": [
      "Metabolite ac_e depleted.\n",
      "Metabolite glc__D_e available.\n",
      "Using default LB=-1000 for EX_glc_e\n",
      "Computing new uptake rates\n",
      "Biomass at t=0.2: 0.00789266\n",
      "Concentrations: {'ac_e': 0.00077461768933657145, 'glc__D_e': 2.205444313190791}\n",
      "Growth rate: 0.846412658691\n",
      "Metabolite ac_e available.\n",
      "Using default LB=-1000 for EX_ac_e\n",
      "Metabolite glc__D_e available.\n",
      "Using default LB=-1000 for EX_glc_e\n",
      "Computing new uptake rates\n",
      "Biomass at t=0.4: 0.00922958\n",
      "Concentrations: {'ac_e': 0.0015594828193210702, 'glc__D_e': 2.1879638048301171}\n",
      "Growth rate: 0.846939086914\n",
      "Metabolite ac_e available.\n",
      "Using default LB=-1000 for EX_ac_e\n",
      "Metabolite glc__D_e available.\n",
      "Using default LB=-1000 for EX_glc_e\n",
      "Computing new uptake rates\n",
      "Biomass at t=0.6: 0.0107937\n",
      "Concentrations: {'ac_e': 0.0023563444235866465, 'glc__D_e': 2.1674121169690479}\n",
      "Growth rate: 0.847366333008\n",
      "Metabolite ac_e available.\n",
      "Using default LB=-1000 for EX_ac_e\n",
      "Metabolite glc__D_e available.\n",
      "Using default LB=-1000 for EX_glc_e\n",
      "Computing new uptake rates\n",
      "Biomass at t=0.8: 0.0126238\n",
      "Concentrations: {'ac_e': 0.003167244899081437, 'glc__D_e': 2.1432676050670967}\n",
      "Growth rate: 0.847717285156\n",
      "Metabolite ac_e available.\n",
      "Using default LB=-1000 for EX_ac_e\n",
      "Metabolite glc__D_e available.\n",
      "Using default LB=-1000 for EX_glc_e\n",
      "Computing new uptake rates\n",
      "Biomass at t=1: 0.0147648\n",
      "Concentrations: {'ac_e': 0.0039945748040036283, 'glc__D_e': 2.1149199634992542}\n",
      "Growth rate: 0.848007202148\n",
      "Metabolite ac_e available.\n",
      "Using default LB=-1000 for EX_ac_e\n",
      "Metabolite glc__D_e available.\n",
      "Using default LB=-1000 for EX_glc_e\n",
      "Computing new uptake rates\n",
      "Biomass at t=1.2: 0.0172696\n",
      "Concentrations: {'ac_e': 0.0048411295009460906, 'glc__D_e': 2.0816553128218711}\n",
      "Growth rate: 0.848243713379\n",
      "Metabolite ac_e available.\n",
      "Using default LB=-1000 for EX_ac_e\n",
      "Metabolite glc__D_e available.\n",
      "Using default LB=-1000 for EX_glc_e\n",
      "Computing new uptake rates\n",
      "Biomass at t=1.4: 0.0202\n",
      "Concentrations: {'ac_e': 0.0057101779918276377, 'glc__D_e': 2.0426386052713301}\n",
      "Growth rate: 0.848434448242\n",
      "Metabolite ac_e available.\n",
      "Using default LB=-1000 for EX_ac_e\n",
      "Metabolite glc__D_e available.\n",
      "Using default LB=-1000 for EX_glc_e\n",
      "Computing new uptake rates\n",
      "Biomass at t=1.6: 0.0236283\n",
      "Concentrations: {'ac_e': 0.0066055432702948483, 'glc__D_e': 1.9968926487107685}\n",
      "Growth rate: 0.848594665527\n",
      "Metabolite ac_e available.\n",
      "Using default LB=-1000 for EX_ac_e\n",
      "Metabolite glc__D_e available.\n",
      "Using default LB=-1000 for EX_glc_e\n",
      "Computing new uptake rates\n",
      "Biomass at t=1.8: 0.0276391\n",
      "Concentrations: {'ac_e': 0.0075316985486524116, 'glc__D_e': 1.9432745133662943}\n",
      "Growth rate: 0.848724365234\n",
      "Metabolite ac_e available.\n",
      "Using default LB=-1000 for EX_ac_e\n",
      "Metabolite glc__D_e available.\n",
      "Using default LB=-1000 for EX_glc_e\n",
      "Computing new uptake rates\n",
      "Biomass at t=2: 0.0323313\n",
      "Concentrations: {'ac_e': 0.0084938951793357385, 'glc__D_e': 1.8804608008271639}\n",
      "Growth rate: 0.848823547363\n",
      "Metabolite ac_e available.\n",
      "Using default LB=-1000 for EX_ac_e\n",
      "Metabolite glc__D_e available.\n",
      "Using default LB=-1000 for EX_glc_e\n",
      "Computing new uptake rates\n",
      "Biomass at t=2.2: 0.0378206\n",
      "Concentrations: {'ac_e': 0.0094982436515709395, 'glc__D_e': 1.8068948499320059}\n",
      "Growth rate: 0.848915100098\n",
      "Metabolite ac_e available.\n",
      "Using default LB=-1000 for EX_ac_e\n",
      "Metabolite glc__D_e available.\n",
      "Using default LB=-1000 for EX_glc_e\n",
      "Computing new uptake rates\n",
      "Biomass at t=2.4: 0.0442424\n",
      "Concentrations: {'ac_e': 0.010551899684843912, 'glc__D_e': 1.7207508253534258}\n",
      "Growth rate: 0.848983764648\n",
      "Metabolite ac_e available.\n",
      "Using default LB=-1000 for EX_ac_e\n",
      "Metabolite glc__D_e available.\n",
      "Using default LB=-1000 for EX_glc_e\n",
      "Computing new uptake rates\n",
      "Biomass at t=2.6: 0.051755\n",
      "Concentrations: {'ac_e': 0.011663237114041932, 'glc__D_e': 1.6198925581583077}\n",
      "Growth rate: 0.84903717041\n",
      "Metabolite ac_e available.\n",
      "Using default LB=-1000 for EX_ac_e\n",
      "Metabolite glc__D_e available.\n",
      "Using default LB=-1000 for EX_glc_e\n",
      "Computing new uptake rates\n",
      "Biomass at t=2.8: 0.0605439\n",
      "Concentrations: {'ac_e': 0.012842050019354987, 'glc__D_e': 1.501820565762666}\n",
      "Growth rate: 0.849082946777\n",
      "Metabolite ac_e available.\n",
      "Using default LB=-1000 for EX_ac_e\n",
      "Metabolite glc__D_e available.\n",
      "Using default LB=-1000 for EX_glc_e\n",
      "Computing new uptake rates\n",
      "Biomass at t=3: 0.0708257\n",
      "Concentrations: {'ac_e': 0.014099801200822108, 'glc__D_e': 1.3636108424359097}\n",
      "Growth rate: 0.84912109375\n",
      "Metabolite ac_e available.\n",
      "Using default LB=-1000 for EX_ac_e\n",
      "Metabolite glc__D_e available.\n",
      "Using default LB=-1000 for EX_glc_e\n",
      "Computing new uptake rates\n",
      "Biomass at t=3.2: 0.0828541\n",
      "Concentrations: {'ac_e': 0.015449920465919403, 'glc__D_e': 1.2018429571569298}\n",
      "Growth rate: 0.849151611328\n",
      "Metabolite ac_e available.\n",
      "Using default LB=-1000 for EX_ac_e\n",
      "Metabolite glc__D_e available.\n",
      "Using default LB=-1000 for EX_glc_e\n",
      "Computing new uptake rates\n",
      "Biomass at t=3.4: 0.0969257\n",
      "Concentrations: {'ac_e': 0.016908068151112742, 'glc__D_e': 1.0125143222196349}\n",
      "Growth rate: 0.849182128906\n",
      "Metabolite ac_e available.\n",
      "Using default LB=-1000 for EX_ac_e\n",
      "Metabolite glc__D_e available.\n",
      "Using default LB=-1000 for EX_glc_e\n",
      "Computing new uptake rates\n",
      "Biomass at t=3.6: 0.113388\n",
      "Concentrations: {'ac_e': 0.018492612693024397, 'glc__D_e': 0.79094387230659313}\n",
      "Growth rate: 0.84920501709\n",
      "Metabolite ac_e available.\n",
      "Using default LB=-1000 for EX_ac_e\n",
      "Metabolite glc__D_e available.\n",
      "Using default LB=-1000 for EX_glc_e\n",
      "Computing new uptake rates\n",
      "Biomass at t=3.8: 0.132646\n",
      "Concentrations: {'ac_e': 0.020225018340119888, 'glc__D_e': 0.53165593144777845}\n",
      "Growth rate: 0.849220275879\n",
      "Metabolite ac_e available.\n",
      "Using default LB=-1000 for EX_ac_e\n",
      "Metabolite glc__D_e available.\n",
      "Using default LB=-1000 for EX_glc_e\n",
      "Computing new uptake rates\n",
      "Biomass at t=4: 0.155175\n",
      "Concentrations: {'ac_e': 0.022130398722465514, 'glc__D_e': 0.22824304098880099}\n",
      "Growth rate: 0.849235534668\n",
      "Metabolite ac_e available.\n",
      "Using default LB=-1000 for EX_ac_e\n",
      "Metabolite glc__D_e available.\n",
      "Using default LB=-1000 for EX_glc_e\n",
      "Computing new uptake rates\n",
      "Changed timestep to 0.128576\n",
      "Biomass at t=4.12858: 0.172119\n",
      "Concentrations: {'ac_e': 0.023485426112442826, 'glc__D_e': 0.0}\n",
      "Growth rate: 0.849243164062\n",
      "Metabolite ac_e available.\n",
      "Using default LB=-1000 for EX_ac_e\n",
      "Metabolite glc__D_e depleted.\n",
      "Computing new uptake rates\n",
      "Biomass at t=4.32858: 0.172119\n",
      "Concentrations: {'ac_e': 0.023485426112442826, 'glc__D_e': 0.0}\n",
      "Growth rate: 0.0\n",
      "Metabolite ac_e available.\n",
      "Using default LB=-1000 for EX_ac_e\n",
      "Metabolite glc__D_e depleted.\n",
      "Computing new uptake rates\n",
      "Biomass at t=4.52858: 0.172119\n",
      "Concentrations: {'ac_e': 0.023485426112442826, 'glc__D_e': 0.0}\n",
      "Growth rate: 0.0\n",
      "Metabolite ac_e available.\n",
      "Using default LB=-1000 for EX_ac_e\n",
      "Metabolite glc__D_e depleted.\n",
      "Computing new uptake rates\n",
      "Biomass at t=4.72858: 0.172119\n",
      "Concentrations: {'ac_e': 0.023485426112442826, 'glc__D_e': 0.0}\n",
      "Growth rate: 0.0\n",
      "Metabolite ac_e available.\n",
      "Using default LB=-1000 for EX_ac_e\n",
      "Metabolite glc__D_e depleted.\n",
      "Computing new uptake rates\n",
      "Biomass at t=4.92858: 0.172119\n",
      "Concentrations: {'ac_e': 0.023485426112442826, 'glc__D_e': 0.0}\n",
      "Growth rate: 0.0\n",
      "Metabolite ac_e available.\n",
      "Using default LB=-1000 for EX_ac_e\n",
      "Metabolite glc__D_e depleted.\n",
      "Computing new uptake rates\n",
      "Biomass at t=5.12858: 0.172119\n",
      "Concentrations: {'ac_e': 0.023485426112442826, 'glc__D_e': 0.0}\n",
      "Growth rate: 0.0\n",
      "CPU times: user 4min 11s, sys: 1.33 s, total: 4min 13s\n",
      "Wall time: 4min 11s\n"
     ]
    }
   ],
   "source": [
    "%%time\n",
    "extra_rxns_tracked = list(set(['EX_o2_e'] + fluxes_plot + ['biomass_dilution']))\n",
    "\n",
    "T = 5\n",
    "dt = 0.2\n",
    "H = dt\n",
    "\n",
    "result = dyme.simulate_batch(\n",
    "    T,    \n",
    "    c0_dict,\n",
    "    X0,\n",
    "    prec_bs=1e-5,\n",
    "    ZERO_CONC=0.,\n",
    "    extra_rxns_tracked=extra_rxns_tracked,\n",
    "    lb_dict={},\n",
    "    verbosity=2,\n",
    "    dt = dt,\n",
    "    H = H,\n",
    "    cplx_conc_dict0=cplx_conc_dict0)"
   ]
  },
  {
   "cell_type": "code",
   "execution_count": 26,
   "metadata": {
    "collapsed": false
   },
   "outputs": [
    {
     "data": {
      "text/plain": [
       "[<matplotlib.lines.Line2D at 0x7fedbf67ded0>]"
      ]
     },
     "execution_count": 26,
     "metadata": {},
     "output_type": "execute_result"
    },
    {
     "data": {
      "image/png": "[encoded data removed]",
      "text/plain": [
       "<matplotlib.figure.Figure at 0x7fee6eeaa390>"
      ]
     },
     "metadata": {},
     "output_type": "display_data"
    }
   ],
   "source": [
    "import seaborn as sns\n",
    "%matplotlib inline\n",
    "\n",
    "sns.plt.plot(result['time'], result['biomass'])"
   ]
  },
  {
   "cell_type": "code",
   "execution_count": 27,
   "metadata": {
    "collapsed": false
   },
   "outputs": [
    {
     "data": {
      "text/plain": [
       "{'ac_e': {'mw': 59.04402,\n",
       "  'rxn': <MetabolicReaction EX_ac_e at 0x7fedbf5354d0>},\n",
       " 'glc__D_e': {'mw': 180.15588,\n",
       "  'rxn': <MetabolicReaction EX_glc_e at 0x7fedbf51e110>}}"
      ]
     },
     "execution_count": 27,
     "metadata": {},
     "output_type": "execute_result"
    }
   ],
   "source": [
    "ex_met_rxn_dict = {m: {'rxn':dyme.get_exchange_rxn(m), 'mw':me.metabolites.get_by_id(m).formula_weight} for m in c0_dict.keys()}\n",
    "ex_met_rxn_dict"
   ]
  },
  {
   "cell_type": "code",
   "execution_count": 28,
   "metadata": {
    "collapsed": true
   },
   "outputs": [],
   "source": [
    "import pandas as pd\n",
    "\n",
    "df_conc = pd.DataFrame(result['concentration'])\n",
    "### Convert concentrations to g/L\n",
    "for mid, vals in ex_met_rxn_dict.iteritems():\n",
    "    df_conc[mid] = df_conc[mid] * vals['mw'] * 0.001\n",
    "\n",
    "df_time = pd.DataFrame({'time':t, 'biomass':b} for t,b in zip(result['time'], result['biomass']))\n",
    "df_flux = pd.DataFrame(result['ex_flux'])\n",
    "df_mu   = pd.DataFrame({'mu':result['growth_rate']})\n",
    "df_result = pd.concat([df_time, df_conc, df_flux, df_mu], axis=1)"
   ]
  },
  {
   "cell_type": "code",
   "execution_count": 29,
   "metadata": {
    "collapsed": true
   },
   "outputs": [],
   "source": [
    "dsplot = pd.melt(df_result, id_vars='time', value_vars=['biomass','ac_e','gal_e','glc__D_e','glyc_e','lac__L_e','malt_e'])\n",
    "dsplot.time = pd.to_numeric(dsplot.time)\n",
    "dsplot['category'] = 'Metabolite'\n",
    "dsplot.loc[ dsplot.variable=='biomass', 'category'] = 'Biomass'"
   ]
  },
  {
   "cell_type": "code",
   "execution_count": 30,
   "metadata": {
    "collapsed": false
   },
   "outputs": [
    {
     "data": {
      "text/plain": [
       "<seaborn.axisgrid.FacetGrid at 0x7fedbdfd35d0>"
      ]
     },
     "execution_count": 30,
     "metadata": {},
     "output_type": "execute_result"
    },
    {
     "data": {
      "image/png": "[encoded data removed]",
      "text/plain": [
       "<matplotlib.figure.Figure at 0x7fedbf67d290>"
      ]
     },
     "metadata": {},
     "output_type": "display_data"
    }
   ],
   "source": [
    "colors = [\n",
    "'#000000', # biomass\n",
    "'#660066', # acetate\n",
    "'#00CC00', #'#00FF00', # galactose\n",
    "'#000000', # glucose\n",
    "'#FF00FF', # glycerol\n",
    "'#0000FF', # lactate\n",
    "'#FF0000', # maltose\n",
    "]\n",
    "\n",
    "colpal = sns.color_palette(colors)\n",
    "sns.set_palette(colpal)\n",
    "\n",
    "g = sns.FacetGrid(data=dsplot, hue='variable', col='category', sharey=False, size=5)\n",
    "\n",
    "g.map(sns.plt.plot, 'time', 'value', linestyle='-', marker='.')\n",
    "for i,ax in enumerate(g.axes.flat):\n",
    "    ylim = ax.get_ylim()\n",
    "    ax.set_ylim((ylim[0],ylim[1]*1.1))\n",
    "    if i==0:\n",
    "        ax.set_ylabel('Biomass (g/L)')\n",
    "    else:\n",
    "        ax.set_ylabel('Metabolite concentration (g/L)')\n",
    "g.set_xlabels('Time (h)')\n",
    "g.add_legend()"
   ]
  },
  {
   "cell_type": "code",
   "execution_count": 31,
   "metadata": {
    "collapsed": true
   },
   "outputs": [],
   "source": [
    "if PROTOTYPE:\n",
    "    complexes_plot = ['IPPMIa_E_c', 'ACKr_reverse_E_c', 'CPLX0-7760_mod_4fe4s','CPLX0-7761_mod_4fe4s']\n",
    "else:\n",
    "    complexes_plot = ['3-ISOPROPYLMALISOM-CPLX_mod_4fe4s', 'ACETATEKINA-MONOMER_mod_mg2', 'CPLX0-7659']"
   ]
  },
  {
   "cell_type": "code",
   "execution_count": 32,
   "metadata": {
    "collapsed": false
   },
   "outputs": [
    {
     "name": "stdout",
     "output_type": "stream",
     "text": [
      "9\n"
     ]
    }
   ],
   "source": [
    "fluxes_plot2 = []\n",
    "\n",
    "for rid in fluxes_plot:\n",
    "    rxn = dsolver.me.reactions.get_by_id(rid)\n",
    "    x   = result['rxn_flux'][1][rid]\n",
    "    try:\n",
    "        if abs(x) > 10:\n",
    "            fluxes_plot2.append(rxn.id)\n",
    "    except:\n",
    "        pass\n",
    "        \n",
    "print len(fluxes_plot2)"
   ]
  },
  {
   "cell_type": "code",
   "execution_count": 33,
   "metadata": {
    "collapsed": true
   },
   "outputs": [],
   "source": [
    "df_mu = pd.DataFrame([{'time':t, 'variable':'growth_rate', 'value':c, 'category':'growth'} for t,c in zip(result['time'], result['growth_rate'])] )\n",
    "\n",
    "df_complex = pd.DataFrame([{'time':t, 'complex':c, 'abundance':cdict[c]} \n",
    "                           for t,cdict in zip(result['time'], result['complex']) for c in complexes_plot] )\n",
    "\n",
    "df_mflux = pd.DataFrame([{'time':t, 'rxn':c, 'flux':cdict[c]} \n",
    "                           for t,cdict in zip(result['time'], result['rxn_flux']) for c in fluxes_plot2] )\n",
    "\n",
    "df_complex.loc[:,'category'] = 'complex'\n",
    "try:\n",
    "    df_mflux.loc[:,'category'] = 'flux'\n",
    "except:\n",
    "    pass\n",
    "\n",
    "dsplot_all = pd.concat([dsplot,\n",
    "                        df_mu,\n",
    "                          df_complex.rename(columns={'complex':'variable', 'abundance':'value'}),\n",
    "                          df_mflux.rename(columns={'rxn':'variable', 'flux':'value'})])"
   ]
  },
  {
   "cell_type": "code",
   "execution_count": 34,
   "metadata": {
    "collapsed": false
   },
   "outputs": [
    {
     "data": {
      "text/plain": [
       "<seaborn.axisgrid.FacetGrid at 0x7fedbe1cac50>"
      ]
     },
     "execution_count": 34,
     "metadata": {},
     "output_type": "execute_result"
    },
    {
     "data": {
      "image/png": "[encoded data removed]",
      "text/plain": [
       "<matplotlib.figure.Figure at 0x7fedbdaef650>"
      ]
     },
     "metadata": {},
     "output_type": "display_data"
    }
   ],
   "source": [
    "sns.set_style('ticks')\n",
    "palette = sns.color_palette('muted', len(dsplot_all.variable.unique()))\n",
    "g = sns.FacetGrid(data=dsplot_all, hue='variable', sharey=False, size=3, col='category', palette=palette,\n",
    "                  aspect=2, col_wrap=2, col_order=['Biomass','complex','Metabolite','flux','growth'])\n",
    "g.map(sns.plt.plot, 'time', 'value', linestyle='-', marker='.')\n",
    "g.add_legend()"
   ]
  },
  {
   "cell_type": "code",
   "execution_count": 35,
   "metadata": {
    "collapsed": false
   },
   "outputs": [
    {
     "data": {
      "text/plain": [
       "<ComplexData PGI_E_c at 0x7fedbfc50350>"
      ]
     },
     "execution_count": 35,
     "metadata": {},
     "output_type": "execute_result"
    }
   ],
   "source": [
    "me.complex_data.PGI_E_c"
   ]
  },
  {
   "cell_type": "code",
   "execution_count": 36,
   "metadata": {
    "collapsed": false
   },
   "outputs": [
    {
     "name": "stderr",
     "output_type": "stream",
     "text": [
      "/usr/lib/python2.7/site-packages/ipykernel/__main__.py:32 \u001b[1;31mRuntimeWarning\u001b[0m: invalid value encountered in double_scalars\n",
      "/usr/lib/python2.7/site-packages/pandas/core/indexing.py:337 \u001b[1;31mSettingWithCopyWarning\u001b[0m: \n",
      "A value is trying to be set on a copy of a slice from a DataFrame.\n",
      "Try using .loc[row_indexer,col_indexer] = value instead\n",
      "\n",
      "See the caveats in the documentation: http://pandas.pydata.org/pandas-docs/stable/indexing.html#indexing-view-versus-copy\n",
      "/usr/lib/python2.7/site-packages/pandas/core/indexing.py:517 \u001b[1;31mSettingWithCopyWarning\u001b[0m: \n",
      "A value is trying to be set on a copy of a slice from a DataFrame.\n",
      "Try using .loc[row_indexer,col_indexer] = value instead\n",
      "\n",
      "See the caveats in the documentation: http://pandas.pydata.org/pandas-docs/stable/indexing.html#indexing-view-versus-copy\n"
     ]
    },
    {
     "data": {
      "text/plain": [
       "<seaborn.axisgrid.FacetGrid at 0x7fedbe3f65d0>"
      ]
     },
     "execution_count": 36,
     "metadata": {},
     "output_type": "execute_result"
    },
    {
     "data": {
      "image/png": "[encoded data removed]",
      "text/plain": [
       "<matplotlib.figure.Figure at 0x7fedbe2c40d0>"
      ]
     },
     "metadata": {},
     "output_type": "display_data"
    }
   ],
   "source": [
    "import numpy as np\n",
    "\n",
    "macro = me.metabolites.macro_mass_constraint_c\n",
    "rows = []\n",
    "for data in me.complex_data:\n",
    "    rxn = data.formation\n",
    "    cplx = data.complex\n",
    "    try:\n",
    "        mass = rxn.metabolites[macro]\n",
    "        rows.append({'cplx':cplx.id, 'mass':mass})\n",
    "    except KeyError:\n",
    "        continue\n",
    "    \n",
    "df_mass = pd.DataFrame(rows)\n",
    "\n",
    "#df_mass = pd.DataFrame([{'cplx':met.id, 'mass':met.mass} for met in me.metabolites if hasattr(met,'mass')])\n",
    "#df_mass = pd.concat([df_mass, df_ribosome])\n",
    "\n",
    "\n",
    "df_cplx = pd.DataFrame([{'cplx':k, 'conc':v, 'time':result['time'][i]} for i,r in enumerate(result['complex']) for k,v in r.iteritems()])\n",
    "df_cplx_mass = pd.merge(df_cplx, df_mass, on='cplx')\n",
    "\n",
    "times = df_cplx_mass.time.unique()\n",
    "for t in times:\n",
    "    dfi = df_cplx_mass[ df_cplx_mass.time==t]\n",
    "    masses = dfi.conc*dfi.mass\n",
    "    mtot = masses.sum()\n",
    "    mfs = masses/mtot\n",
    "    b = (df_cplx_mass.time==t).values\n",
    "    df_cplx_mass.loc[b,'mf'] = mfs\n",
    "\n",
    "df_var = df_cplx_mass.groupby('cplx').mf.apply(lambda x: np.std(x)/np.mean(x)).reset_index()\n",
    "#df_var = df_cplx_mass.groupby('cplx').mf.mean().reset_index()\n",
    "N_PLOT = 10\n",
    "vary_cplxs = df_var.sort_values('mf', ascending=False)['cplx'][0:N_PLOT].tolist()\n",
    "#vary_cplxs += ['ribosome']\n",
    "#vary_cplxs += ['ACKr_reverse_E_c']\n",
    "#vary_cplxs += ['RNAPE-CPLX','RNAP32-CPLX','RNAPS-CPLX','RNAP70-CPLX','RNAP54-CPLX']\n",
    "\n",
    "df_cplx_mass[ df_cplx_mass.time==0].mf.sum()\n",
    "\n",
    "from stressme.plot import stacked_bar\n",
    "\n",
    "dsplot_cplx = df_cplx_mass[ df_cplx_mass.cplx.isin(vary_cplxs)]\n",
    "dsplot_cplx.loc[:,'group'] = 'DynamicDelayedME'\n",
    "dsplot_cplx.loc[:,'mperc'] = dsplot_cplx.mf*100\n",
    "g = stacked_bar('time', 'mperc', dsplot_cplx, 'cplx', 'group', aspect=4, palette_name='Paired')\n",
    "g.set_ylabels('Mass percent (%)')"
   ]
  },
  {
   "cell_type": "code",
   "execution_count": 37,
   "metadata": {
    "collapsed": false
   },
   "outputs": [
    {
     "data": {
      "text/html": [
       "<div>\n",
       "<style>\n",
       "    .dataframe thead tr:only-child th {\n",
       "        text-align: right;\n",
       "    }\n",
       "\n",
       "    .dataframe thead th {\n",
       "        text-align: left;\n",
       "    }\n",
       "\n",
       "    .dataframe tbody tr th {\n",
       "        vertical-align: top;\n",
       "    }\n",
       "</style>\n",
       "<table border=\"1\" class=\"dataframe\">\n",
       "  <thead>\n",
       "    <tr style=\"text-align: right;\">\n",
       "      <th></th>\n",
       "      <th>conc</th>\n",
       "      <th>cplx</th>\n",
       "      <th>time</th>\n",
       "      <th>mass</th>\n",
       "      <th>mf</th>\n",
       "    </tr>\n",
       "  </thead>\n",
       "  <tbody>\n",
       "    <tr>\n",
       "      <th>5810</th>\n",
       "      <td>0.000021</td>\n",
       "      <td>NADH6_E_c</td>\n",
       "      <td>1.0</td>\n",
       "      <td>627.355</td>\n",
       "      <td>0.220908</td>\n",
       "    </tr>\n",
       "    <tr>\n",
       "      <th>11102</th>\n",
       "      <td>0.000044</td>\n",
       "      <td>GLCpts_E_c</td>\n",
       "      <td>1.0</td>\n",
       "      <td>164.881</td>\n",
       "      <td>0.119755</td>\n",
       "    </tr>\n",
       "    <tr>\n",
       "      <th>9158</th>\n",
       "      <td>0.000044</td>\n",
       "      <td>PFL_E_c</td>\n",
       "      <td>1.0</td>\n",
       "      <td>148.040</td>\n",
       "      <td>0.106839</td>\n",
       "    </tr>\n",
       "    <tr>\n",
       "      <th>13235</th>\n",
       "      <td>0.000065</td>\n",
       "      <td>PGM_reverse_E_c</td>\n",
       "      <td>1.0</td>\n",
       "      <td>65.364</td>\n",
       "      <td>0.070622</td>\n",
       "    </tr>\n",
       "    <tr>\n",
       "      <th>11588</th>\n",
       "      <td>0.000065</td>\n",
       "      <td>ENO_E_c</td>\n",
       "      <td>1.0</td>\n",
       "      <td>53.361</td>\n",
       "      <td>0.057654</td>\n",
       "    </tr>\n",
       "    <tr>\n",
       "      <th>13127</th>\n",
       "      <td>0.000071</td>\n",
       "      <td>PGK_reverse_E_c</td>\n",
       "      <td>1.0</td>\n",
       "      <td>48.019</td>\n",
       "      <td>0.056646</td>\n",
       "    </tr>\n",
       "    <tr>\n",
       "      <th>2273</th>\n",
       "      <td>0.000071</td>\n",
       "      <td>GAPD_E_c</td>\n",
       "      <td>1.0</td>\n",
       "      <td>41.432</td>\n",
       "      <td>0.048876</td>\n",
       "    </tr>\n",
       "    <tr>\n",
       "      <th>6755</th>\n",
       "      <td>0.000021</td>\n",
       "      <td>CYTBD_E_c</td>\n",
       "      <td>1.0</td>\n",
       "      <td>116.245</td>\n",
       "      <td>0.041021</td>\n",
       "    </tr>\n",
       "    <tr>\n",
       "      <th>113</th>\n",
       "      <td>0.000023</td>\n",
       "      <td>PGI_E_c</td>\n",
       "      <td>1.0</td>\n",
       "      <td>71.324</td>\n",
       "      <td>0.026663</td>\n",
       "    </tr>\n",
       "    <tr>\n",
       "      <th>12182</th>\n",
       "      <td>0.000044</td>\n",
       "      <td>FORti_E_c</td>\n",
       "      <td>1.0</td>\n",
       "      <td>36.066</td>\n",
       "      <td>0.026204</td>\n",
       "    </tr>\n",
       "    <tr>\n",
       "      <th>1085</th>\n",
       "      <td>0.000033</td>\n",
       "      <td>FBA_E_c</td>\n",
       "      <td>1.0</td>\n",
       "      <td>44.348</td>\n",
       "      <td>0.024550</td>\n",
       "    </tr>\n",
       "    <tr>\n",
       "      <th>6971</th>\n",
       "      <td>0.000033</td>\n",
       "      <td>PFK_E_c</td>\n",
       "      <td>1.0</td>\n",
       "      <td>40.544</td>\n",
       "      <td>0.022444</td>\n",
       "    </tr>\n",
       "    <tr>\n",
       "      <th>12776</th>\n",
       "      <td>0.000021</td>\n",
       "      <td>G6PDH2r_E_c</td>\n",
       "      <td>1.0</td>\n",
       "      <td>64.461</td>\n",
       "      <td>0.021930</td>\n",
       "    </tr>\n",
       "    <tr>\n",
       "      <th>4136</th>\n",
       "      <td>0.000021</td>\n",
       "      <td>GND_E_c</td>\n",
       "      <td>1.0</td>\n",
       "      <td>59.829</td>\n",
       "      <td>0.020354</td>\n",
       "    </tr>\n",
       "    <tr>\n",
       "      <th>2489</th>\n",
       "      <td>0.000009</td>\n",
       "      <td>THD2_E_c</td>\n",
       "      <td>1.0</td>\n",
       "      <td>120.686</td>\n",
       "      <td>0.018811</td>\n",
       "    </tr>\n",
       "    <tr>\n",
       "      <th>3191</th>\n",
       "      <td>0.000033</td>\n",
       "      <td>TPI_E_c</td>\n",
       "      <td>1.0</td>\n",
       "      <td>31.513</td>\n",
       "      <td>0.017445</td>\n",
       "    </tr>\n",
       "    <tr>\n",
       "      <th>9509</th>\n",
       "      <td>0.000008</td>\n",
       "      <td>PPC_E_c</td>\n",
       "      <td>1.0</td>\n",
       "      <td>114.825</td>\n",
       "      <td>0.015501</td>\n",
       "    </tr>\n",
       "    <tr>\n",
       "      <th>9374</th>\n",
       "      <td>0.000021</td>\n",
       "      <td>PGL_E_c</td>\n",
       "      <td>1.0</td>\n",
       "      <td>42.207</td>\n",
       "      <td>0.014359</td>\n",
       "    </tr>\n",
       "    <tr>\n",
       "      <th>7700</th>\n",
       "      <td>0.000012</td>\n",
       "      <td>PIt2r_E_c</td>\n",
       "      <td>1.0</td>\n",
       "      <td>62.709</td>\n",
       "      <td>0.012281</td>\n",
       "    </tr>\n",
       "    <tr>\n",
       "      <th>8942</th>\n",
       "      <td>0.000011</td>\n",
       "      <td>PYK_E_c</td>\n",
       "      <td>1.0</td>\n",
       "      <td>59.920</td>\n",
       "      <td>0.010952</td>\n",
       "    </tr>\n",
       "    <tr>\n",
       "      <th>1139</th>\n",
       "      <td>0.000006</td>\n",
       "      <td>TKT1_E_c</td>\n",
       "      <td>1.0</td>\n",
       "      <td>84.046</td>\n",
       "      <td>0.008752</td>\n",
       "    </tr>\n",
       "    <tr>\n",
       "      <th>6485</th>\n",
       "      <td>0.000005</td>\n",
       "      <td>TKT2_E_c</td>\n",
       "      <td>1.0</td>\n",
       "      <td>84.046</td>\n",
       "      <td>0.006712</td>\n",
       "    </tr>\n",
       "    <tr>\n",
       "      <th>11939</th>\n",
       "      <td>0.000006</td>\n",
       "      <td>TALA_E_c</td>\n",
       "      <td>1.0</td>\n",
       "      <td>41.288</td>\n",
       "      <td>0.004299</td>\n",
       "    </tr>\n",
       "    <tr>\n",
       "      <th>1301</th>\n",
       "      <td>0.000009</td>\n",
       "      <td>RPI_reverse_E_c</td>\n",
       "      <td>1.0</td>\n",
       "      <td>26.758</td>\n",
       "      <td>0.004180</td>\n",
       "    </tr>\n",
       "    <tr>\n",
       "      <th>5594</th>\n",
       "      <td>0.000003</td>\n",
       "      <td>GLUDy_reverse_E_c</td>\n",
       "      <td>1.0</td>\n",
       "      <td>56.554</td>\n",
       "      <td>0.003202</td>\n",
       "    </tr>\n",
       "    <tr>\n",
       "      <th>7862</th>\n",
       "      <td>0.000001</td>\n",
       "      <td>PTAr_E_c</td>\n",
       "      <td>1.0</td>\n",
       "      <td>89.918</td>\n",
       "      <td>0.001645</td>\n",
       "    </tr>\n",
       "    <tr>\n",
       "      <th>9995</th>\n",
       "      <td>0.000001</td>\n",
       "      <td>CS_E_c</td>\n",
       "      <td>1.0</td>\n",
       "      <td>55.628</td>\n",
       "      <td>0.001179</td>\n",
       "    </tr>\n",
       "    <tr>\n",
       "      <th>4595</th>\n",
       "      <td>0.000001</td>\n",
       "      <td>ICDHyr_E_c</td>\n",
       "      <td>1.0</td>\n",
       "      <td>53.174</td>\n",
       "      <td>0.001127</td>\n",
       "    </tr>\n",
       "    <tr>\n",
       "      <th>5000</th>\n",
       "      <td>0.000004</td>\n",
       "      <td>NDPK1_E_c</td>\n",
       "      <td>1.0</td>\n",
       "      <td>18.002</td>\n",
       "      <td>0.001109</td>\n",
       "    </tr>\n",
       "    <tr>\n",
       "      <th>4109</th>\n",
       "      <td>0.000001</td>\n",
       "      <td>GLNS_E_c</td>\n",
       "      <td>1.0</td>\n",
       "      <td>60.269</td>\n",
       "      <td>0.001072</td>\n",
       "    </tr>\n",
       "    <tr>\n",
       "      <th>...</th>\n",
       "      <td>...</td>\n",
       "      <td>...</td>\n",
       "      <td>...</td>\n",
       "      <td>...</td>\n",
       "      <td>...</td>\n",
       "    </tr>\n",
       "    <tr>\n",
       "      <th>4460</th>\n",
       "      <td>0.000000</td>\n",
       "      <td>PPPNt2r_E_c</td>\n",
       "      <td>1.0</td>\n",
       "      <td>48.347</td>\n",
       "      <td>0.000000</td>\n",
       "    </tr>\n",
       "    <tr>\n",
       "      <th>5378</th>\n",
       "      <td>0.000000</td>\n",
       "      <td>GLCRt2r_E_c</td>\n",
       "      <td>1.0</td>\n",
       "      <td>56.925</td>\n",
       "      <td>0.000000</td>\n",
       "    </tr>\n",
       "    <tr>\n",
       "      <th>5432</th>\n",
       "      <td>0.000000</td>\n",
       "      <td>UREAt_reverse_E_c</td>\n",
       "      <td>1.0</td>\n",
       "      <td>34.785</td>\n",
       "      <td>0.000000</td>\n",
       "    </tr>\n",
       "    <tr>\n",
       "      <th>6431</th>\n",
       "      <td>0.000000</td>\n",
       "      <td>THRS_E_c</td>\n",
       "      <td>1.0</td>\n",
       "      <td>54.746</td>\n",
       "      <td>0.000000</td>\n",
       "    </tr>\n",
       "    <tr>\n",
       "      <th>5999</th>\n",
       "      <td>0.000000</td>\n",
       "      <td>CYTK1_reverse_E_c</td>\n",
       "      <td>1.0</td>\n",
       "      <td>28.786</td>\n",
       "      <td>0.000000</td>\n",
       "    </tr>\n",
       "    <tr>\n",
       "      <th>6404</th>\n",
       "      <td>0.000000</td>\n",
       "      <td>LEUt2r_E_c</td>\n",
       "      <td>1.0</td>\n",
       "      <td>54.038</td>\n",
       "      <td>0.000000</td>\n",
       "    </tr>\n",
       "    <tr>\n",
       "      <th>6377</th>\n",
       "      <td>0.000000</td>\n",
       "      <td>INSt2_E_c</td>\n",
       "      <td>1.0</td>\n",
       "      <td>53.840</td>\n",
       "      <td>0.000000</td>\n",
       "    </tr>\n",
       "    <tr>\n",
       "      <th>6350</th>\n",
       "      <td>0.000000</td>\n",
       "      <td>DURIK1_E_c</td>\n",
       "      <td>1.0</td>\n",
       "      <td>27.102</td>\n",
       "      <td>0.000000</td>\n",
       "    </tr>\n",
       "    <tr>\n",
       "      <th>6323</th>\n",
       "      <td>0.000000</td>\n",
       "      <td>TARTRt7_E_c</td>\n",
       "      <td>1.0</td>\n",
       "      <td>61.591</td>\n",
       "      <td>0.000000</td>\n",
       "    </tr>\n",
       "    <tr>\n",
       "      <th>6242</th>\n",
       "      <td>0.000000</td>\n",
       "      <td>URIt2_E_c</td>\n",
       "      <td>1.0</td>\n",
       "      <td>53.840</td>\n",
       "      <td>0.000000</td>\n",
       "    </tr>\n",
       "    <tr>\n",
       "      <th>6215</th>\n",
       "      <td>0.000000</td>\n",
       "      <td>DADA_E_c</td>\n",
       "      <td>1.0</td>\n",
       "      <td>42.332</td>\n",
       "      <td>0.000000</td>\n",
       "    </tr>\n",
       "    <tr>\n",
       "      <th>6161</th>\n",
       "      <td>0.000000</td>\n",
       "      <td>LYSDC_E_c</td>\n",
       "      <td>1.0</td>\n",
       "      <td>93.314</td>\n",
       "      <td>0.000000</td>\n",
       "    </tr>\n",
       "    <tr>\n",
       "      <th>6134</th>\n",
       "      <td>0.000000</td>\n",
       "      <td>FUMt2_2_E_c</td>\n",
       "      <td>1.0</td>\n",
       "      <td>53.068</td>\n",
       "      <td>0.000000</td>\n",
       "    </tr>\n",
       "    <tr>\n",
       "      <th>6107</th>\n",
       "      <td>0.000000</td>\n",
       "      <td>HISt2r_E_c</td>\n",
       "      <td>1.0</td>\n",
       "      <td>57.839</td>\n",
       "      <td>0.000000</td>\n",
       "    </tr>\n",
       "    <tr>\n",
       "      <th>6080</th>\n",
       "      <td>0.000000</td>\n",
       "      <td>METabc_E_c</td>\n",
       "      <td>1.0</td>\n",
       "      <td>105.275</td>\n",
       "      <td>0.000000</td>\n",
       "    </tr>\n",
       "    <tr>\n",
       "      <th>6053</th>\n",
       "      <td>0.000000</td>\n",
       "      <td>RNTR2_E_c</td>\n",
       "      <td>1.0</td>\n",
       "      <td>92.730</td>\n",
       "      <td>0.000000</td>\n",
       "    </tr>\n",
       "    <tr>\n",
       "      <th>5972</th>\n",
       "      <td>0.000000</td>\n",
       "      <td>PROabc_E_c</td>\n",
       "      <td>1.0</td>\n",
       "      <td>137.127</td>\n",
       "      <td>0.000000</td>\n",
       "    </tr>\n",
       "    <tr>\n",
       "      <th>5459</th>\n",
       "      <td>0.000000</td>\n",
       "      <td>ADSL1r_E_c</td>\n",
       "      <td>1.0</td>\n",
       "      <td>59.674</td>\n",
       "      <td>0.000000</td>\n",
       "    </tr>\n",
       "    <tr>\n",
       "      <th>5918</th>\n",
       "      <td>0.000000</td>\n",
       "      <td>GLNabc_E_c</td>\n",
       "      <td>1.0</td>\n",
       "      <td>90.866</td>\n",
       "      <td>0.000000</td>\n",
       "    </tr>\n",
       "    <tr>\n",
       "      <th>5891</th>\n",
       "      <td>0.000000</td>\n",
       "      <td>ADPT_E_c</td>\n",
       "      <td>1.0</td>\n",
       "      <td>23.112</td>\n",
       "      <td>0.000000</td>\n",
       "    </tr>\n",
       "    <tr>\n",
       "      <th>5864</th>\n",
       "      <td>0.000000</td>\n",
       "      <td>DHAD2_E_c</td>\n",
       "      <td>1.0</td>\n",
       "      <td>76.527</td>\n",
       "      <td>0.000000</td>\n",
       "    </tr>\n",
       "    <tr>\n",
       "      <th>5783</th>\n",
       "      <td>0.000000</td>\n",
       "      <td>ADK3_reverse_E_c</td>\n",
       "      <td>1.0</td>\n",
       "      <td>27.393</td>\n",
       "      <td>0.000000</td>\n",
       "    </tr>\n",
       "    <tr>\n",
       "      <th>5756</th>\n",
       "      <td>0.000000</td>\n",
       "      <td>RIBabc_E_c</td>\n",
       "      <td>1.0</td>\n",
       "      <td>122.474</td>\n",
       "      <td>0.000000</td>\n",
       "    </tr>\n",
       "    <tr>\n",
       "      <th>5702</th>\n",
       "      <td>0.000000</td>\n",
       "      <td>ACACt2_reverse_E_c</td>\n",
       "      <td>1.0</td>\n",
       "      <td>55.373</td>\n",
       "      <td>0.000000</td>\n",
       "    </tr>\n",
       "    <tr>\n",
       "      <th>5675</th>\n",
       "      <td>0.000000</td>\n",
       "      <td>GLUDC_E_c</td>\n",
       "      <td>1.0</td>\n",
       "      <td>60.995</td>\n",
       "      <td>0.000000</td>\n",
       "    </tr>\n",
       "    <tr>\n",
       "      <th>5648</th>\n",
       "      <td>0.000000</td>\n",
       "      <td>RNTR4_E_c</td>\n",
       "      <td>1.0</td>\n",
       "      <td>92.730</td>\n",
       "      <td>0.000000</td>\n",
       "    </tr>\n",
       "    <tr>\n",
       "      <th>5621</th>\n",
       "      <td>0.000000</td>\n",
       "      <td>NTD10_E_c</td>\n",
       "      <td>1.0</td>\n",
       "      <td>70.637</td>\n",
       "      <td>0.000000</td>\n",
       "    </tr>\n",
       "    <tr>\n",
       "      <th>5540</th>\n",
       "      <td>0.000000</td>\n",
       "      <td>IPPMIa_reverse_E_c</td>\n",
       "      <td>1.0</td>\n",
       "      <td>84.257</td>\n",
       "      <td>0.000000</td>\n",
       "    </tr>\n",
       "    <tr>\n",
       "      <th>5513</th>\n",
       "      <td>0.000000</td>\n",
       "      <td>ADEt2r_E_c</td>\n",
       "      <td>1.0</td>\n",
       "      <td>57.126</td>\n",
       "      <td>0.000000</td>\n",
       "    </tr>\n",
       "    <tr>\n",
       "      <th>14423</th>\n",
       "      <td>0.000000</td>\n",
       "      <td>CYSDS_E_c</td>\n",
       "      <td>1.0</td>\n",
       "      <td>61.173</td>\n",
       "      <td>0.000000</td>\n",
       "    </tr>\n",
       "  </tbody>\n",
       "</table>\n",
       "<p>535 rows × 5 columns</p>\n",
       "</div>"
      ],
      "text/plain": [
       "           conc                cplx  time     mass        mf\n",
       "5810   0.000021  NADH6_E_c           1.0   627.355  0.220908\n",
       "11102  0.000044  GLCpts_E_c          1.0   164.881  0.119755\n",
       "9158   0.000044  PFL_E_c             1.0   148.040  0.106839\n",
       "13235  0.000065  PGM_reverse_E_c     1.0   65.364   0.070622\n",
       "11588  0.000065  ENO_E_c             1.0   53.361   0.057654\n",
       "13127  0.000071  PGK_reverse_E_c     1.0   48.019   0.056646\n",
       "2273   0.000071  GAPD_E_c            1.0   41.432   0.048876\n",
       "6755   0.000021  CYTBD_E_c           1.0   116.245  0.041021\n",
       "113    0.000023  PGI_E_c             1.0   71.324   0.026663\n",
       "12182  0.000044  FORti_E_c           1.0   36.066   0.026204\n",
       "1085   0.000033  FBA_E_c             1.0   44.348   0.024550\n",
       "6971   0.000033  PFK_E_c             1.0   40.544   0.022444\n",
       "12776  0.000021  G6PDH2r_E_c         1.0   64.461   0.021930\n",
       "4136   0.000021  GND_E_c             1.0   59.829   0.020354\n",
       "2489   0.000009  THD2_E_c            1.0   120.686  0.018811\n",
       "3191   0.000033  TPI_E_c             1.0   31.513   0.017445\n",
       "9509   0.000008  PPC_E_c             1.0   114.825  0.015501\n",
       "9374   0.000021  PGL_E_c             1.0   42.207   0.014359\n",
       "7700   0.000012  PIt2r_E_c           1.0   62.709   0.012281\n",
       "8942   0.000011  PYK_E_c             1.0   59.920   0.010952\n",
       "1139   0.000006  TKT1_E_c            1.0   84.046   0.008752\n",
       "6485   0.000005  TKT2_E_c            1.0   84.046   0.006712\n",
       "11939  0.000006  TALA_E_c            1.0   41.288   0.004299\n",
       "1301   0.000009  RPI_reverse_E_c     1.0   26.758   0.004180\n",
       "5594   0.000003  GLUDy_reverse_E_c   1.0   56.554   0.003202\n",
       "7862   0.000001  PTAr_E_c            1.0   89.918   0.001645\n",
       "9995   0.000001  CS_E_c              1.0   55.628   0.001179\n",
       "4595   0.000001  ICDHyr_E_c          1.0   53.174   0.001127\n",
       "5000   0.000004  NDPK1_E_c           1.0   18.002   0.001109\n",
       "4109   0.000001  GLNS_E_c            1.0   60.269   0.001072\n",
       "...         ...       ...            ...      ...        ...\n",
       "4460   0.000000  PPPNt2r_E_c         1.0   48.347   0.000000\n",
       "5378   0.000000  GLCRt2r_E_c         1.0   56.925   0.000000\n",
       "5432   0.000000  UREAt_reverse_E_c   1.0   34.785   0.000000\n",
       "6431   0.000000  THRS_E_c            1.0   54.746   0.000000\n",
       "5999   0.000000  CYTK1_reverse_E_c   1.0   28.786   0.000000\n",
       "6404   0.000000  LEUt2r_E_c          1.0   54.038   0.000000\n",
       "6377   0.000000  INSt2_E_c           1.0   53.840   0.000000\n",
       "6350   0.000000  DURIK1_E_c          1.0   27.102   0.000000\n",
       "6323   0.000000  TARTRt7_E_c         1.0   61.591   0.000000\n",
       "6242   0.000000  URIt2_E_c           1.0   53.840   0.000000\n",
       "6215   0.000000  DADA_E_c            1.0   42.332   0.000000\n",
       "6161   0.000000  LYSDC_E_c           1.0   93.314   0.000000\n",
       "6134   0.000000  FUMt2_2_E_c         1.0   53.068   0.000000\n",
       "6107   0.000000  HISt2r_E_c          1.0   57.839   0.000000\n",
       "6080   0.000000  METabc_E_c          1.0   105.275  0.000000\n",
       "6053   0.000000  RNTR2_E_c           1.0   92.730   0.000000\n",
       "5972   0.000000  PROabc_E_c          1.0   137.127  0.000000\n",
       "5459   0.000000  ADSL1r_E_c          1.0   59.674   0.000000\n",
       "5918   0.000000  GLNabc_E_c          1.0   90.866   0.000000\n",
       "5891   0.000000  ADPT_E_c            1.0   23.112   0.000000\n",
       "5864   0.000000  DHAD2_E_c           1.0   76.527   0.000000\n",
       "5783   0.000000  ADK3_reverse_E_c    1.0   27.393   0.000000\n",
       "5756   0.000000  RIBabc_E_c          1.0   122.474  0.000000\n",
       "5702   0.000000  ACACt2_reverse_E_c  1.0   55.373   0.000000\n",
       "5675   0.000000  GLUDC_E_c           1.0   60.995   0.000000\n",
       "5648   0.000000  RNTR4_E_c           1.0   92.730   0.000000\n",
       "5621   0.000000  NTD10_E_c           1.0   70.637   0.000000\n",
       "5540   0.000000  IPPMIa_reverse_E_c  1.0   84.257   0.000000\n",
       "5513   0.000000  ADEt2r_E_c          1.0   57.126   0.000000\n",
       "14423  0.000000  CYSDS_E_c           1.0   61.173   0.000000\n",
       "\n",
       "[535 rows x 5 columns]"
      ]
     },
     "execution_count": 37,
     "metadata": {},
     "output_type": "execute_result"
    }
   ],
   "source": [
    "df_cplx_mass[ df_cplx_mass.time==1].sort_values('mf', ascending=False)"
   ]
  },
  {
   "cell_type": "code",
   "execution_count": 38,
   "metadata": {
    "collapsed": false
   },
   "outputs": [
    {
     "data": {
      "text/plain": [
       "[0.8464126586914062,\n",
       " 0.8469390869140625,\n",
       " 0.8473663330078125,\n",
       " 0.84771728515625,\n",
       " 0.8480072021484375,\n",
       " 0.8482437133789062,\n",
       " 0.8484344482421875,\n",
       " 0.8485946655273438,\n",
       " 0.848724365234375,\n",
       " 0.8488235473632812,\n",
       " 0.8489151000976562,\n",
       " 0.8489837646484375,\n",
       " 0.8490371704101562,\n",
       " 0.8490829467773438,\n",
       " 0.84912109375,\n",
       " 0.849151611328125,\n",
       " 0.84918212890625,\n",
       " 0.8492050170898438,\n",
       " 0.8492202758789062,\n",
       " 0.8492355346679688,\n",
       " 0.8492431640625,\n",
       " 0.0,\n",
       " 0.0,\n",
       " 0.0,\n",
       " 0.0,\n",
       " 0.0,\n",
       " 0.0]"
      ]
     },
     "execution_count": 38,
     "metadata": {},
     "output_type": "execute_result"
    }
   ],
   "source": [
    "result['growth_rate']"
   ]
  }
 ],
 "metadata": {
  "kernelspec": {
   "display_name": "Python 2",
   "language": "python",
   "name": "python2"
  },
  "language_info": {
   "codemirror_mode": {
    "name": "ipython",
    "version": 2
   },
   "file_extension": ".py",
   "mimetype": "text/x-python",
   "name": "python",
   "nbconvert_exporter": "python",
   "pygments_lexer": "ipython2",
   "version": "2.7.13"
  }
 },
 "nbformat": 4,
 "nbformat_minor": 2
}
