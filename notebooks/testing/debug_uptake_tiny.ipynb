{
 "cells": [
  {
   "cell_type": "markdown",
   "metadata": {
    "deletable": true,
    "editable": true
   },
   "source": [
    "# Simulate proteome time profiles.\n",
    "## Start from measured proteome that is already hedged: necessary to enable lactate usage later?"
   ]
  },
  {
   "cell_type": "code",
   "execution_count": 1,
   "metadata": {
    "collapsed": true,
    "deletable": true,
    "editable": true
   },
   "outputs": [],
   "source": [
    "import seaborn as sns\n",
    "import pandas as pd\n",
    "\n",
    "sns.plt.rcParams['svg.fonttype'] = 'none'\n",
    "pd.set_option('display.max_colwidth', -1)\n",
    "#pd.set_option('display.float_format', lambda x: '%.3g' % x)\n",
    "%matplotlib inline"
   ]
  },
  {
   "cell_type": "code",
   "execution_count": 2,
   "metadata": {
    "collapsed": true,
    "deletable": true,
    "editable": true
   },
   "outputs": [],
   "source": [
    "PROTOTYPE = True"
   ]
  },
  {
   "cell_type": "code",
   "execution_count": 3,
   "metadata": {
    "collapsed": false,
    "deletable": true,
    "editable": true
   },
   "outputs": [],
   "source": [
    "from dynamicme.tests.helpme import HelpME\n",
    "from dynamicme.dynamic import get_cplx_concs\n",
    "\n",
    "helper = HelpME(prototyping=PROTOTYPE)\n",
    "solver = helper.solver\n",
    "me = solver.me"
   ]
  },
  {
   "cell_type": "code",
   "execution_count": 4,
   "metadata": {
    "collapsed": false
   },
   "outputs": [],
   "source": [
    "for data in me.complex_data:\n",
    "    data._complex_id = data.id    \n",
    "    form_id0 = 'ES_'+data.id.replace('_E_c','')\n",
    "    try:\n",
    "        form = me.reactions.get_by_id(form_id0)\n",
    "        form.id = 'formation_'+ data.id\n",
    "    except KeyError:\n",
    "        form = me.reactions.get_by_id('formation_'+data.id)    \n",
    "\n",
    "me.repair()"
   ]
  },
  {
   "cell_type": "code",
   "execution_count": 5,
   "metadata": {
    "collapsed": false,
    "deletable": true,
    "editable": true
   },
   "outputs": [
    {
     "name": "stderr",
     "output_type": "stream",
     "text": [
      "/home/laurence/python_modules/dynamicme.git/dynamicme/dynamic.py:1218 \u001b[1;31mUserWarning\u001b[0m: Dynamic mRNA not yet implemented!\n"
     ]
    }
   ],
   "source": [
    "from dynamicme.dynamic import DelayedDynamicME\n",
    "\n",
    "dyme = DelayedDynamicME(solver)\n",
    "dyme.delay_model.solver.set_realopts('lp', {'Feasibility tol':1e-15,'Optimality tol':1e-15})\n",
    "dsolver = dyme.delay_model.solver\n",
    "dme = dsolver.me"
   ]
  },
  {
   "cell_type": "code",
   "execution_count": 6,
   "metadata": {
    "collapsed": false,
    "deletable": true,
    "editable": true
   },
   "outputs": [
    {
     "data": {
      "text/plain": [
       "2.11395311739584e-5*exp(-0.1*mu)"
      ]
     },
     "execution_count": 6,
     "metadata": {},
     "output_type": "execute_result"
    }
   ],
   "source": [
    "dme.metabolites.delayed_abundance_PGI_E_c._bound"
   ]
  },
  {
   "cell_type": "code",
   "execution_count": 7,
   "metadata": {
    "collapsed": false,
    "scrolled": true
   },
   "outputs": [
    {
     "name": "stdout",
     "output_type": "stream",
     "text": [
      "CPU times: user 5.19 s, sys: 6.67 ms, total: 5.19 s\n",
      "Wall time: 5.15 s\n"
     ]
    }
   ],
   "source": [
    "%%time\n",
    "sol_max = solver.bisectmu(basis=solver.feas_basis, verbosity=0)"
   ]
  },
  {
   "cell_type": "code",
   "execution_count": 8,
   "metadata": {
    "collapsed": true,
    "deletable": true,
    "editable": true
   },
   "outputs": [],
   "source": [
    "cplx_concs_max = get_cplx_concs(solver)"
   ]
  },
  {
   "cell_type": "code",
   "execution_count": 9,
   "metadata": {
    "collapsed": false,
    "deletable": true,
    "editable": true
   },
   "outputs": [
    {
     "name": "stdout",
     "output_type": "stream",
     "text": [
      "mu of ME for growth maximization: 0.845703125\n"
     ]
    }
   ],
   "source": [
    "mu_me = me.solution.x_dict['biomass_dilution']\n",
    "print 'mu of ME for growth maximization:', mu_me"
   ]
  },
  {
   "cell_type": "markdown",
   "metadata": {
    "deletable": true,
    "editable": true
   },
   "source": [
    "# Validate mixed substrate uptake hierarchy--Beg et al. (2007) MSB"
   ]
  },
  {
   "cell_type": "code",
   "execution_count": 10,
   "metadata": {
    "collapsed": false,
    "deletable": true,
    "editable": true
   },
   "outputs": [
    {
     "name": "stdout",
     "output_type": "stream",
     "text": [
      "{'ac_e': 0.0, 'glc__D_e': 2.220299442904667}\n",
      "{'EX_glc_e': -10.0, 'EX_ac_e': -10.0, 'EX_o2_e': -20.0}\n"
     ]
    },
    {
     "name": "stderr",
     "output_type": "stream",
     "text": [
      "/usr/lib/python2.7/site-packages/ipykernel/__main__.py:20 \u001b[1;31mUserWarning\u001b[0m: Model has no metabolite: glyc_e. Will remove it from c0_dict\n",
      "/usr/lib/python2.7/site-packages/ipykernel/__main__.py:20 \u001b[1;31mUserWarning\u001b[0m: Model has no metabolite: malt_e. Will remove it from c0_dict\n",
      "/usr/lib/python2.7/site-packages/ipykernel/__main__.py:20 \u001b[1;31mUserWarning\u001b[0m: Model has no metabolite: lac__L_e. Will remove it from c0_dict\n",
      "/usr/lib/python2.7/site-packages/ipykernel/__main__.py:20 \u001b[1;31mUserWarning\u001b[0m: Model has no metabolite: gal_e. Will remove it from c0_dict\n"
     ]
    }
   ],
   "source": [
    "import warnings\n",
    "\n",
    "T = 10   # hours\n",
    "V = 1.   # L\n",
    "X0 = 0.00675 / V  # g/L\n",
    "c0_dict = {'glc__D_e': 0.4,\n",
    "           'lac__L_e': 0.4,\n",
    "           'malt_e': 0.4,\n",
    "           'gal_e': 0.4,\n",
    "           'glyc_e':0.4,\n",
    "           'ac_e': 0.0}\n",
    "\n",
    "### Convert from g/L to mmol\n",
    "mids_remove = []\n",
    "for mid,c in c0_dict.iteritems():\n",
    "    try:        \n",
    "        met = me.metabolites.get_by_id(mid)    \n",
    "        c0_dict[met.id] = c / met.formula_weight * 1000\n",
    "    except KeyError:\n",
    "        warnings.warn('Model has no metabolite: %s. Will remove it from c0_dict' % mid)\n",
    "        mids_remove.append(mid)\n",
    "\n",
    "for mid in mids_remove:\n",
    "    c0_dict.pop(mid)\n",
    "        \n",
    "### Set max uptake rate\n",
    "LB_EX = -10.\n",
    "LB_O2 = -20.\n",
    "\n",
    "lb_dict={}\n",
    "ub_dict={}\n",
    "\n",
    "for mid in c0_dict.keys():\n",
    "    try:\n",
    "        rxn = dyme.get_exchange_rxn(mid)    \n",
    "        if rxn.id == 'EX_o2_e':\n",
    "            lb = LB_O2\n",
    "        else:\n",
    "            lb = LB_EX\n",
    "        rxn.lower_bound = lb\n",
    "        lb_dict[rxn.id] = lb\n",
    "    except KeyError:\n",
    "        warnings.warn('Model has no metabolite: '+ mid)\n",
    "\n",
    "me.reactions.EX_o2_e.lower_bound = -20.\n",
    "lb_dict[me.reactions.EX_o2_e.id] = -20.\n",
    "\n",
    "for k,lb in lb_dict.iteritems():\n",
    "    rxn = dsolver.me.reactions.get_by_id(k)\n",
    "    rxn.lower_bound = lb\n",
    "\n",
    "print c0_dict\n",
    "print lb_dict"
   ]
  },
  {
   "cell_type": "markdown",
   "metadata": {
    "deletable": true,
    "editable": true
   },
   "source": [
    "## Initialize with the same Exchange bounds as bioreactor simulation"
   ]
  },
  {
   "cell_type": "code",
   "execution_count": 11,
   "metadata": {
    "collapsed": false,
    "scrolled": true
   },
   "outputs": [
    {
     "name": "stdout",
     "output_type": "stream",
     "text": [
      "iter\tmuopt    \ta     \tb     \tmu1       \tstat1\n",
      "Finished substituting S,lb,ub in 0.273165 seconds\n",
      "Finished makeME_LP in 0.055213 seconds\n",
      "Getting MINOS parameters from ME_NLP...\n",
      "1 0.0 0.0 1.0 1.0 1\n",
      "Finished substituting S,lb,ub in 0.273506 seconds\n",
      "Finished makeME_LP in 0.054325 seconds\n",
      "Getting MINOS parameters from ME_NLP...\n",
      "2 0.5 0.5 1.0 0.5 optimal\n",
      "Finished substituting S,lb,ub in 0.280806 seconds\n",
      "Finished makeME_LP in 0.054224 seconds\n",
      "Getting MINOS parameters from ME_NLP...\n",
      "3 0.75 0.75 1.0 0.75 optimal\n",
      "Finished substituting S,lb,ub in 0.277972 seconds\n",
      "Finished makeME_LP in 0.054083 seconds\n",
      "Getting MINOS parameters from ME_NLP...\n",
      "4 0.75 0.75 0.875 0.875 1\n",
      "Finished substituting S,lb,ub in 0.280069 seconds\n",
      "Finished makeME_LP in 0.054293 seconds\n",
      "Getting MINOS parameters from ME_NLP...\n",
      "5 0.8125 0.8125 0.875 0.8125 optimal\n",
      "Finished substituting S,lb,ub in 0.281102 seconds\n",
      "Finished makeME_LP in 0.053804 seconds\n",
      "Getting MINOS parameters from ME_NLP...\n",
      "6 0.84375 0.84375 0.875 0.84375 optimal\n",
      "Finished substituting S,lb,ub in 0.272938 seconds\n",
      "Finished makeME_LP in 0.055123 seconds\n",
      "Getting MINOS parameters from ME_NLP...\n",
      "7 0.84375 0.84375 0.859375 0.859375 1\n",
      "Finished substituting S,lb,ub in 0.278459 seconds\n",
      "Finished makeME_LP in 0.053468 seconds\n",
      "Getting MINOS parameters from ME_NLP...\n",
      "8 0.84375 0.84375 0.8515625 0.8515625 1\n",
      "Finished substituting S,lb,ub in 0.276065 seconds\n",
      "Finished makeME_LP in 0.054291 seconds\n",
      "Getting MINOS parameters from ME_NLP...\n",
      "9 0.84375 0.84375 0.84765625 0.84765625 1\n",
      "Finished substituting S,lb,ub in 0.277761 seconds\n",
      "Finished makeME_LP in 0.053794 seconds\n",
      "Getting MINOS parameters from ME_NLP...\n",
      "10 0.845703125 0.845703125 0.84765625 0.845703125 optimal\n",
      "Finished substituting S,lb,ub in 0.281473 seconds\n",
      "Finished makeME_LP in 0.053506 seconds\n",
      "Getting MINOS parameters from ME_NLP...\n",
      "11 0.845703125 0.845703125 0.8466796875 0.8466796875 1\n",
      "Bisection done in 5.37842 seconds\n"
     ]
    }
   ],
   "source": [
    "sol0 = solver.bisectmu(basis=solver.feas_basis)"
   ]
  },
  {
   "cell_type": "code",
   "execution_count": 12,
   "metadata": {
    "collapsed": true,
    "deletable": true,
    "editable": true
   },
   "outputs": [],
   "source": [
    "cplx_conc_dict0 = get_cplx_concs(solver)"
   ]
  },
  {
   "cell_type": "markdown",
   "metadata": {},
   "source": [
    "## The static solution should be the same as dynamic solution starting from same initial proteome"
   ]
  },
  {
   "cell_type": "code",
   "execution_count": 13,
   "metadata": {
    "collapsed": false
   },
   "outputs": [],
   "source": [
    "dyme.delay_model.update_cplx_concs(cplx_conc_dict0)"
   ]
  },
  {
   "cell_type": "code",
   "execution_count": 14,
   "metadata": {
    "collapsed": false,
    "scrolled": true
   },
   "outputs": [
    {
     "name": "stdout",
     "output_type": "stream",
     "text": [
      "iter\tmuopt    \ta     \tb     \tmu1       \tstat1\n",
      "Finished compiling expressions in 2.742276 seconds\n",
      "Finished substituting S,lb,ub in 0.316003 seconds\n",
      "Finished makeME_LP in 0.063061 seconds\n",
      "Getting MINOS parameters from ME_NLP...\n",
      "1 5.0 5.0 10 5.0 optimal\n",
      "Finished substituting S,lb,ub in 0.328479 seconds\n",
      "Finished makeME_LP in 0.063120 seconds\n",
      "Getting MINOS parameters from ME_NLP...\n",
      "2 7.5 7.5 10 7.5 optimal\n",
      "Finished substituting S,lb,ub in 0.328227 seconds\n",
      "Finished makeME_LP in 0.062829 seconds\n",
      "Getting MINOS parameters from ME_NLP...\n",
      "3 7.5 7.5 8.75 8.75 1\n",
      "Finished substituting S,lb,ub in 0.309685 seconds\n",
      "Finished makeME_LP in 0.064297 seconds\n",
      "Getting MINOS parameters from ME_NLP...\n",
      "4 7.5 7.5 8.125 8.125 1\n",
      "Finished substituting S,lb,ub in 0.328244 seconds\n",
      "Finished makeME_LP in 0.063382 seconds\n",
      "Getting MINOS parameters from ME_NLP...\n",
      "5 7.5 7.5 7.8125 7.8125 1\n",
      "Finished substituting S,lb,ub in 0.327548 seconds\n",
      "Finished makeME_LP in 0.064139 seconds\n",
      "Getting MINOS parameters from ME_NLP...\n",
      "6 7.65625 7.65625 7.8125 7.65625 optimal\n",
      "Finished substituting S,lb,ub in 0.324912 seconds\n",
      "Finished makeME_LP in 0.063345 seconds\n",
      "Getting MINOS parameters from ME_NLP...\n",
      "7 7.65625 7.65625 7.734375 7.734375 1\n",
      "Finished substituting S,lb,ub in 0.322120 seconds\n",
      "Finished makeME_LP in 0.064191 seconds\n",
      "Getting MINOS parameters from ME_NLP...\n",
      "8 7.6953125 7.6953125 7.734375 7.6953125 optimal\n",
      "Finished substituting S,lb,ub in 0.328591 seconds\n",
      "Finished makeME_LP in 0.063665 seconds\n",
      "Getting MINOS parameters from ME_NLP...\n",
      "9 7.6953125 7.6953125 7.71484375 7.71484375 1\n",
      "Finished substituting S,lb,ub in 0.327091 seconds\n",
      "Finished makeME_LP in 0.063049 seconds\n",
      "Getting MINOS parameters from ME_NLP...\n",
      "10 7.6953125 7.6953125 7.705078125 7.705078125 1\n",
      "Finished substituting S,lb,ub in 0.326791 seconds\n",
      "Finished makeME_LP in 0.063670 seconds\n",
      "Getting MINOS parameters from ME_NLP...\n",
      "11 7.7001953125 7.7001953125 7.705078125 7.7001953125 optimal\n",
      "Finished substituting S,lb,ub in 0.328921 seconds\n",
      "Finished makeME_LP in 0.064612 seconds\n",
      "Getting MINOS parameters from ME_NLP...\n",
      "12 7.7001953125 7.7001953125 7.70263671875 7.70263671875 1\n",
      "Finished substituting S,lb,ub in 0.328160 seconds\n",
      "Finished makeME_LP in 0.063619 seconds\n",
      "Getting MINOS parameters from ME_NLP...\n",
      "13 7.7001953125 7.7001953125 7.70141601562 7.70141601562 1\n",
      "Finished substituting S,lb,ub in 0.332625 seconds\n",
      "Finished makeME_LP in 0.064065 seconds\n",
      "Getting MINOS parameters from ME_NLP...\n",
      "14 7.70080566406 7.70080566406 7.70141601562 7.70080566406 optimal\n",
      "Bisection done in 12.8811 seconds\n"
     ]
    }
   ],
   "source": [
    "sol_dyme = dsolver.bisectmu(basis=dsolver.feas_basis, mumax=10)"
   ]
  },
  {
   "cell_type": "code",
   "execution_count": 15,
   "metadata": {
    "collapsed": false
   },
   "outputs": [
    {
     "name": "stdout",
     "output_type": "stream",
     "text": [
      "0.845703125 =?= 7.70080566406\n"
     ]
    },
    {
     "ename": "AssertionError",
     "evalue": "",
     "output_type": "error",
     "traceback": [
      "\u001b[0;31m\u001b[0m",
      "\u001b[0;31mAssertionError\u001b[0mTraceback (most recent call last)",
      "\u001b[0;32m<ipython-input-15-204cacaa84ed>\u001b[0m in \u001b[0;36m<module>\u001b[0;34m()\u001b[0m\n\u001b[1;32m      1\u001b[0m \u001b[0;32mprint\u001b[0m \u001b[0msol0\u001b[0m\u001b[0;34m[\u001b[0m\u001b[0;36m0\u001b[0m\u001b[0;34m]\u001b[0m\u001b[0;34m,\u001b[0m \u001b[0;34m'=?='\u001b[0m\u001b[0;34m,\u001b[0m \u001b[0msol_dyme\u001b[0m\u001b[0;34m[\u001b[0m\u001b[0;36m0\u001b[0m\u001b[0;34m]\u001b[0m\u001b[0;34m\u001b[0m\u001b[0m\n\u001b[0;32m----> 2\u001b[0;31m \u001b[0;32massert\u001b[0m \u001b[0mabs\u001b[0m\u001b[0;34m(\u001b[0m\u001b[0msol_dyme\u001b[0m\u001b[0;34m[\u001b[0m\u001b[0;36m0\u001b[0m\u001b[0;34m]\u001b[0m \u001b[0;34m-\u001b[0m \u001b[0msol0\u001b[0m\u001b[0;34m[\u001b[0m\u001b[0;36m0\u001b[0m\u001b[0;34m]\u001b[0m\u001b[0;34m)\u001b[0m \u001b[0;34m<\u001b[0m \u001b[0;36m1e-10\u001b[0m\u001b[0;34m\u001b[0m\u001b[0m\n\u001b[0m",
      "\u001b[0;31mAssertionError\u001b[0m: "
     ]
    }
   ],
   "source": [
    "print sol0[0], '=?=', sol_dyme[0]\n",
    "assert abs(sol_dyme[0] - sol0[0]) < 1e-10"
   ]
  },
  {
   "cell_type": "code",
   "execution_count": 16,
   "metadata": {
    "collapsed": false
   },
   "outputs": [
    {
     "name": "stdout",
     "output_type": "stream",
     "text": [
      "EX_glc_e       -10.0          -4.0215762     \n",
      "EX_ac_e        0.54559887     0.24087604     \n",
      "EX_o2_e        -2.5948627     -0.6589743     \n",
      "mu             0.84570312     7.70080566     \n"
     ]
    }
   ],
   "source": [
    "for k,lb in lb_dict.iteritems():\n",
    "    rxn0 = solver.me.reactions.get_by_id(k)\n",
    "    rxnd = dsolver.me.reactions.get_by_id(k)\n",
    "    print '%-15.10s%-15.10s%-15.10s' % (k, rxn0.x, rxnd.x)\n",
    "\n",
    "print '%-15.10s%-15.10s%-15.10s' % ('mu', sol0[0], sol_dyme[0])"
   ]
  },
  {
   "cell_type": "markdown",
   "metadata": {},
   "source": [
    "# DEBUG"
   ]
  },
  {
   "cell_type": "code",
   "execution_count": 17,
   "metadata": {
    "collapsed": true
   },
   "outputs": [],
   "source": [
    "dme = dsolver.me"
   ]
  },
  {
   "cell_type": "code",
   "execution_count": 18,
   "metadata": {
    "collapsed": false,
    "deletable": true,
    "editable": true
   },
   "outputs": [
    {
     "data": {
      "text/plain": [
       "2.26189423649353e-5*exp(-0.1*mu)"
      ]
     },
     "execution_count": 18,
     "metadata": {},
     "output_type": "execute_result"
    }
   ],
   "source": [
    "dme.metabolites.delayed_abundance_PGI_E_c._bound"
   ]
  },
  {
   "cell_type": "code",
   "execution_count": 19,
   "metadata": {
    "collapsed": false
   },
   "outputs": [
    {
     "name": "stdout",
     "output_type": "stream",
     "text": [
      "0.29759987     ICDHyr                             \n",
      "1.07556045     formation_ICDHyr_E_c               \n"
     ]
    }
   ],
   "source": [
    "for rxn in me.metabolites.ICDHyr_E_c.reactions:\n",
    "    print '%-15.10s%-35.30s' % (rxn.x, rxn.id)\n",
    "    #print '%-15.10s%-25.20s%-50s' % (rxn.id, rxn.x, rxn.reaction)"
   ]
  },
  {
   "cell_type": "code",
   "execution_count": 20,
   "metadata": {
    "collapsed": false,
    "deletable": true,
    "editable": true
   },
   "outputs": [
    {
     "name": "stdout",
     "output_type": "stream",
     "text": [
      "0.0            formation_ICDHyr_E_c               \n",
      "5.88809963     abundance_ICDHyr_E_c               \n",
      "-4.5343110     dedt_ICDHyr_E_c                    \n"
     ]
    }
   ],
   "source": [
    "for rxn in dme.metabolites.ICDHyr_E_c.reactions:\n",
    "    print '%-15.10s%-35.30s' % (rxn.x, rxn.id)"
   ]
  },
  {
   "cell_type": "code",
   "execution_count": 21,
   "metadata": {
    "collapsed": false
   },
   "outputs": [
    {
     "data": {
      "text/plain": [
       "'mu ICDHyr_E_c + enzyme_capacity_ICDHyr_E_c --> delayed_abundance_ICDHyr_E_c'"
      ]
     },
     "execution_count": 21,
     "metadata": {},
     "output_type": "execute_result"
    }
   ],
   "source": [
    "dme.reactions.abundance_ICDHyr_E_c.reaction"
   ]
  },
  {
   "cell_type": "code",
   "execution_count": 22,
   "metadata": {
    "collapsed": false
   },
   "outputs": [
    {
     "name": "stdout",
     "output_type": "stream",
     "text": [
      "delayed_abundance_ICDHyr_E_c       abundance_ICDHyr_E_c               1                        \n",
      "delayed_abundance_ICDHyr_E_c       formation_ICDHyr_E_c               -0.1                     \n"
     ]
    }
   ],
   "source": [
    "met = dme.metabolites.delayed_abundance_ICDHyr_E_c\n",
    "for rxn in met.reactions:\n",
    "    print '%-35.30s%-35.30s%-25s' % (met.id, rxn.id, rxn.metabolites[met])"
   ]
  },
  {
   "cell_type": "code",
   "execution_count": 23,
   "metadata": {
    "collapsed": true
   },
   "outputs": [],
   "source": [
    "conss = []\n",
    "for cons in dme.metabolites.query('delayed_abundance'):\n",
    "    if cons._bound != 0:\n",
    "        if hasattr(cons._bound, 'subs'):\n",
    "            conss.append(cons)"
   ]
  },
  {
   "cell_type": "code",
   "execution_count": 24,
   "metadata": {
    "collapsed": false
   },
   "outputs": [
    {
     "name": "stdout",
     "output_type": "stream",
     "text": [
      "146\n"
     ]
    }
   ],
   "source": [
    "print len(conss)"
   ]
  }
 ],
 "metadata": {
  "kernelspec": {
   "display_name": "Python 2",
   "language": "python",
   "name": "python2"
  },
  "language_info": {
   "codemirror_mode": {
    "name": "ipython",
    "version": 2
   },
   "file_extension": ".py",
   "mimetype": "text/x-python",
   "name": "python",
   "nbconvert_exporter": "python",
   "pygments_lexer": "ipython2",
   "version": "2.7.13"
  }
 },
 "nbformat": 4,
 "nbformat_minor": 2
}
