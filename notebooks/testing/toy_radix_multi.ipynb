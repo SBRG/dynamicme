{
 "cells": [
  {
   "cell_type": "markdown",
   "metadata": {
    "deletable": true,
    "editable": true
   },
   "source": [
    "# Toy example for Radix-based for multiple conditions"
   ]
  },
  {
   "cell_type": "code",
   "execution_count": 1,
   "metadata": {
    "collapsed": true
   },
   "outputs": [],
   "source": [
    "SCALE_CROWDING=False\n",
    "PREVENT_ZERO = True"
   ]
  },
  {
   "cell_type": "code",
   "execution_count": 2,
   "metadata": {
    "collapsed": false,
    "deletable": true,
    "editable": true
   },
   "outputs": [],
   "source": [
    "%load_ext line_profiler"
   ]
  },
  {
   "cell_type": "code",
   "execution_count": 3,
   "metadata": {
    "collapsed": false,
    "deletable": true,
    "editable": true
   },
   "outputs": [
    {
     "name": "stdout",
     "output_type": "stream",
     "text": [
      "(<type 'exceptions.ImportError'>, ImportError('No module named cplex',), <traceback object at 0x7fadcaf0ef80>)\n"
     ]
    }
   ],
   "source": [
    "from gurobipy import *\n",
    "\n",
    "import seaborn as sns\n",
    "import pandas as pd\n",
    "import matplotlib.pyplot as plt\n",
    "import numpy as np\n",
    "\n",
    "plt.rcParams['svg.fonttype'] = 'none'\n",
    "pd.set_option('display.max_colwidth', -1)\n",
    "%matplotlib inline\n",
    "\n",
    "from dynamicme.decomposition import Decomposer\n",
    "from dynamicme.callback_gurobi import cb_benders\n",
    "from dynamicme.optimize import Optimizer, StackOptimizer\n",
    "from dynamicme.optimize import Constraint, Variable\n",
    "\n",
    "from cobra.io import load_json_model\n",
    "from cobra import Metabolite, Reaction\n",
    "from six import iteritems\n",
    "\n",
    "import numpy as np\n",
    "import cobra"
   ]
  },
  {
   "cell_type": "markdown",
   "metadata": {
    "deletable": true,
    "editable": true
   },
   "source": [
    "### Try optimizing using radix for one condition first"
   ]
  },
  {
   "cell_type": "code",
   "execution_count": 4,
   "metadata": {
    "collapsed": false,
    "deletable": true,
    "editable": true
   },
   "outputs": [],
   "source": [
    "#----------------------------------------\n",
    "# Starting from basal model\n",
    "ijomc = load_json_model('/home/laurence/ME/models/BiGG_M/json/e_coli_core.json')\n",
    "mdl_ref = ijomc\n",
    "keff0 = 1./65/3600\n",
    "#crowding_bound = 0.0003\n",
    "crowding_bound = 0.001\n",
    "not_crowded = ['ATPM']\n",
    "rxns_c = [r for r in ijomc.reactions if all([m.compartment=='c' for m in r.metabolites.keys()]) and 'BIOMASS' not in r.id and r.id not in not_crowded]\n",
    "crowding_dict = {rxn:keff0 for rxn in rxns_c}\n",
    "#----------------------------------------\n",
    "\n",
    "# Temporarily add crowding constraint for the duality gap constraint\n",
    "crowding = Constraint('crowding')\n",
    "crowding._bound = crowding_bound\n",
    "crowding._constraint_sense = 'L'\n",
    "for rxn,keff in iteritems(crowding_dict):\n",
    "    rxn.add_metabolites({crowding:keff})"
   ]
  },
  {
   "cell_type": "code",
   "execution_count": 5,
   "metadata": {
    "collapsed": false,
    "deletable": true,
    "editable": true
   },
   "outputs": [
    {
     "name": "stdout",
     "output_type": "stream",
     "text": [
      "0.873921506968\n"
     ]
    }
   ],
   "source": [
    "ijomc.optimize()\n",
    "mu_crowd0 = ijomc.reactions.BIOMASS_Ecoli_core_w_GAM.x\n",
    "print(mu_crowd0)"
   ]
  },
  {
   "cell_type": "code",
   "execution_count": 6,
   "metadata": {
    "collapsed": true,
    "deletable": true,
    "editable": true
   },
   "outputs": [],
   "source": [
    "N_CONDS = 2\n",
    "\n",
    "df_meas = pd.read_csv('/home/laurence/ME/data/dynamicME/beg/growth_meas.csv')\n",
    "ex_rxns = [r for r in df_meas.ex_rxn.unique() if mdl_ref.reactions.has_id(r)]\n",
    "df_meas = df_meas[ df_meas.ex_rxn.isin(ex_rxns)]\n",
    "conds = df_meas.substrate.unique()\n",
    "df_conds = pd.DataFrame([{'cond':r['substrate'], 'rxn':ex_rxn, 'lb':-10 if r['ex_rxn']==ex_rxn else 0, 'ub':1000., 'obj':0.} for i,r in df_meas.iterrows() for ex_rxn in ex_rxns])\n",
    "df_conds = df_conds[ df_conds.cond.isin(conds[0:N_CONDS])]"
   ]
  },
  {
   "cell_type": "code",
   "execution_count": 7,
   "metadata": {
    "collapsed": false,
    "deletable": true,
    "editable": true
   },
   "outputs": [],
   "source": [
    "stacker = StackOptimizer()\n",
    "stacker.stack_models(ijomc, df_conds)"
   ]
  },
  {
   "cell_type": "code",
   "execution_count": 8,
   "metadata": {
    "collapsed": false,
    "deletable": true,
    "editable": true
   },
   "outputs": [
    {
     "data": {
      "text/plain": [
       "<Solution 1.75 at 0x7fad6ac87c90>"
      ]
     },
     "execution_count": 8,
     "metadata": {},
     "output_type": "execute_result"
    }
   ],
   "source": [
    "stacker.model.optimize(solver='gurobi')"
   ]
  },
  {
   "cell_type": "code",
   "execution_count": 9,
   "metadata": {
    "collapsed": false,
    "deletable": true,
    "editable": true
   },
   "outputs": [
    {
     "data": {
      "text/plain": [
       "<Solution 0.87 at 0x7fad6ac87990>"
      ]
     },
     "execution_count": 9,
     "metadata": {},
     "output_type": "execute_result"
    }
   ],
   "source": [
    "stacker.model_dict['fructose'].optimize()"
   ]
  },
  {
   "cell_type": "code",
   "execution_count": 10,
   "metadata": {
    "collapsed": false,
    "deletable": true,
    "editable": true
   },
   "outputs": [
    {
     "name": "stdout",
     "output_type": "stream",
     "text": [
      "0.873921506968\n",
      "-10.0\n",
      "0.0\n"
     ]
    }
   ],
   "source": [
    "stacker.model_dict['glucose'].optimize()\n",
    "print stacker.model_dict['glucose'].reactions.query('BIOMASS')[0].x\n",
    "print stacker.model_dict['glucose'].reactions.query('EX_glc')[0].x\n",
    "print stacker.model_dict['glucose'].reactions.query('EX_fru')[0].x"
   ]
  },
  {
   "cell_type": "code",
   "execution_count": 11,
   "metadata": {
    "collapsed": false,
    "deletable": true,
    "editable": true
   },
   "outputs": [
    {
     "name": "stdout",
     "output_type": "stream",
     "text": [
      "0.873921506966\n",
      "0.0\n",
      "-10.0\n"
     ]
    }
   ],
   "source": [
    "stacker.model_dict['fructose'].optimize()\n",
    "print stacker.model_dict['fructose'].reactions.query('BIOMASS')[0].x\n",
    "print stacker.model_dict['fructose'].reactions.query('EX_glc')[0].x\n",
    "print stacker.model_dict['fructose'].reactions.query('EX_fru')[0].x"
   ]
  },
  {
   "cell_type": "code",
   "execution_count": 12,
   "metadata": {
    "collapsed": false,
    "deletable": true,
    "editable": true
   },
   "outputs": [],
   "source": [
    "for mdl_ind,mdl in iteritems(stacker.model_dict):\n",
    "    opt = Optimizer(mdl)\n",
    "    gapi = opt.add_duality_gap_constraint(INF=1e3, inplace=True, index=mdl_ind)"
   ]
  },
  {
   "cell_type": "code",
   "execution_count": 13,
   "metadata": {
    "collapsed": false,
    "deletable": true,
    "editable": true
   },
   "outputs": [
    {
     "data": {
      "text/plain": [
       "<Solution 3.50 at 0x7fae0ce1ce50>"
      ]
     },
     "execution_count": 13,
     "metadata": {},
     "output_type": "execute_result"
    }
   ],
   "source": [
    "stacker.model.optimize(solver='gurobi')"
   ]
  },
  {
   "cell_type": "code",
   "execution_count": 14,
   "metadata": {
    "collapsed": false,
    "deletable": true,
    "editable": true
   },
   "outputs": [
    {
     "name": "stdout",
     "output_type": "stream",
     "text": [
      "('Radix:', 2.0)\n",
      "('Powers:', array([-3, -2, -1,  0,  1,  2,  3]))\n",
      "('Digits:', [1.0])\n"
     ]
    },
    {
     "name": "stderr",
     "output_type": "stream",
     "text": [
      "/usr/lib/python2.7/site-packages/ipykernel/__main__.py:9 \u001b[1;31mDeprecationWarning\u001b[0m: object of type <type 'float'> cannot be safely interpreted as an integer.\n"
     ]
    }
   ],
   "source": [
    "import numpy as np\n",
    "\n",
    "radix = 2.\n",
    "print('Radix:',radix)\n",
    "powers = np.arange(-3,4)\n",
    "print('Powers:', powers)\n",
    "digits_per_power = radix\n",
    "pwr_max = max(powers)\n",
    "digits = list(set(np.linspace(1, radix-1, digits_per_power)))\n",
    "print('Digits:', digits)\n",
    "\n",
    "# Discretize crowding coefficients into radix\n",
    "#crowding_p = gap.metabolites.crowding\n",
    "#crowding_cons = stacker.model.metabolites.query('crowding')\n",
    "\n",
    "var_cons_dict = {}\n",
    "# Get the group ID from reference model\n",
    "mdl_ref = ijomc\n",
    "crowding_ref = mdl_ref.metabolites.crowding\n",
    "for rxn_ref in crowding_ref.reactions:    \n",
    "    for mdl_ind, mdl in iteritems(stacker.model_dict):\n",
    "        crowding_p = mdl.metabolites.get_by_id('crowding_%s'%mdl_ind)\n",
    "        var_d = mdl.reactions.get_by_id('wa_%s'%crowding_p.id)\n",
    "        rxn_p = mdl.reactions.get_by_id(rxn_ref.id+'_%s'%mdl_ind)\n",
    "        # Get the coefficient in the dual\n",
    "        cons_ds = [m for m in var_d.metabolites.keys() if rxn_p.id==m.id]        \n",
    "        a0 = rxn_p.metabolites[crowding_p]\n",
    "        if var_cons_dict.has_key(rxn_ref.id):\n",
    "            var_cons_dict[rxn_ref.id] += [(rxn_p, crowding_p, a0)] + [(var_d, cons_d, a0) for cons_d in cons_ds]\n",
    "        else:\n",
    "            var_cons_dict[rxn_ref.id] = [(rxn_p, crowding_p, a0)] + [(var_d, cons_d, a0) for cons_d in cons_ds]"
   ]
  },
  {
   "cell_type": "code",
   "execution_count": 15,
   "metadata": {
    "collapsed": false,
    "deletable": true,
    "editable": true
   },
   "outputs": [],
   "source": [
    "# %lprun -f opt.to_radix opt.to_radix(gap, var_cons_dict, radix, powers, digits_per_power, prevent_zero=True)"
   ]
  },
  {
   "cell_type": "code",
   "execution_count": 16,
   "metadata": {
    "collapsed": false,
    "deletable": true,
    "editable": true
   },
   "outputs": [
    {
     "name": "stdout",
     "output_type": "stream",
     "text": [
      "CPU times: user 210 ms, sys: 22.6 ms, total: 232 ms\n",
      "Wall time: 213 ms\n"
     ]
    },
    {
     "data": {
      "text/plain": [
       "[1.0]"
      ]
     },
     "execution_count": 16,
     "metadata": {},
     "output_type": "execute_result"
    }
   ],
   "source": [
    "%time opt.to_radix(stacker.model, var_cons_dict, radix, powers, digits=digits, prevent_zero=PREVENT_ZERO)"
   ]
  },
  {
   "cell_type": "code",
   "execution_count": 17,
   "metadata": {
    "collapsed": false
   },
   "outputs": [],
   "source": [
    "relaxed = ['PGK','GLUDy','PGM','PGI','RPI']\n",
    "for rel in relaxed:\n",
    "    try:\n",
    "        cons_id = 'force_nonzero_%s'%rel\n",
    "        cons = stacker.model.metabolites.get_by_id(cons_id)\n",
    "        cons._bound = 0.\n",
    "    except KeyError:\n",
    "        print('Skipping non-existent constraint: %s' % cons_id)"
   ]
  },
  {
   "cell_type": "markdown",
   "metadata": {},
   "source": [
    "### Try scaling\n",
    "if SCALE_CROWDING:\n",
    "    crowding = stacker.model.metabolites.crowding\n",
    "    bound0  = crowding._bound\n",
    "    f_scale = crowding._bound\n",
    "    crowding._bound = bound0 / f_scale\n",
    "    for rxn in crowding.reactions:\n",
    "        rxn._metabolites[crowding] = rxn._metabolites[crowding]/f_scale"
   ]
  },
  {
   "cell_type": "code",
   "execution_count": 18,
   "metadata": {
    "collapsed": true,
    "deletable": true,
    "editable": true
   },
   "outputs": [],
   "source": [
    "for rxn in stacker.model.reactions:\n",
    "    rxn.objective_coefficient = 0.\n",
    "for rxn in stacker.model.reactions.query('binary'):\n",
    "    rxn.objective_coefficient = 1."
   ]
  },
  {
   "cell_type": "code",
   "execution_count": 27,
   "metadata": {
    "collapsed": false
   },
   "outputs": [
    {
     "data": {
      "text/plain": [
       "11"
      ]
     },
     "execution_count": 27,
     "metadata": {},
     "output_type": "execute_result"
    }
   ],
   "source": [
    "milp.Status"
   ]
  },
  {
   "cell_type": "code",
   "execution_count": 28,
   "metadata": {
    "collapsed": false
   },
   "outputs": [
    {
     "data": {
      "text/plain": [
       "0"
      ]
     },
     "execution_count": 28,
     "metadata": {},
     "output_type": "execute_result"
    }
   ],
   "source": [
    "milp.SolCount"
   ]
  },
  {
   "cell_type": "code",
   "execution_count": 47,
   "metadata": {
    "collapsed": false
   },
   "outputs": [
    {
     "data": {
      "text/plain": [
       "array([1.   , 0.902, 0.804, 0.706, 0.608, 0.51 , 0.412, 0.314, 0.216,\n",
       "       0.118, 0.02 ])"
      ]
     },
     "execution_count": 47,
     "metadata": {},
     "output_type": "execute_result"
    }
   ],
   "source": [
    "from cobra.solvers import gurobi_solver\n",
    "from gurobipy import *\n",
    "\n",
    "F_TOL_FINAL = 0.02\n",
    "F_TOL_START = 1.\n",
    "N_FS =11\n",
    "F_TOLS = np.linspace(F_TOL_START, F_TOL_FINAL, N_FS)\n",
    "F_TOLS"
   ]
  },
  {
   "cell_type": "markdown",
   "metadata": {},
   "source": [
    "### TOOD: bisection on F_TOL instead of linear"
   ]
  },
  {
   "cell_type": "code",
   "execution_count": null,
   "metadata": {
    "collapsed": false,
    "deletable": true,
    "editable": true
   },
   "outputs": [
    {
     "name": "stdout",
     "output_type": "stream",
     "text": [
      "Condition=fructose. Initial mu_crowd=nan. Fitting within 100% of measured: 0 <= mu <= 1.1\n",
      "Condition=glucose. Initial mu_crowd=nan. Fitting within 100% of measured: 0 <= mu <= 1.48\n",
      "Changed value of parameter OutputFlag to 1\n",
      "   Prev: 0  Min: 0  Max: 1  Default: 1\n",
      "Changed value of parameter NodefileStart to 3.0\n",
      "   Prev: 1e+100  Min: 0.0  Max: 1e+100  Default: 1e+100\n",
      "Changed value of parameter TimeLimit to 7200.0\n",
      "   Prev: 1e+100  Min: 0.0  Max: 1e+100  Default: 1e+100\n",
      "Optimize a model with 6098 rows, 2396 columns and 16584 nonzeros\n",
      "Variable types: 2060 continuous, 336 integer (0 binary)\n",
      "Coefficient statistics:\n",
      "  Matrix range     [5e-07, 1e+03]\n",
      "  Objective range  [1e+00, 1e+00]\n",
      "  Bounds range     [1e+00, 1e+03]\n",
      "  RHS range        [1e-03, 1e+03]\n",
      "Presolve removed 1959 rows and 345 columns\n",
      "Presolve time: 0.03s\n",
      "Presolved: 4139 rows, 2051 columns, 12258 nonzeros\n",
      "Variable types: 1715 continuous, 336 integer (336 binary)\n",
      "\n",
      "Root relaxation: objective 4.300000e+01, 2237 iterations, 0.08 seconds\n",
      "\n",
      "    Nodes    |    Current Node    |     Objective Bounds      |     Work\n",
      " Expl Unexpl |  Obj  Depth IntInf | Incumbent    BestBd   Gap | It/Node Time\n",
      "\n",
      "     0     0   43.00000    0    2          -   43.00000      -     -    0s\n",
      "H    0     0                      73.0000000   43.00000  41.1%     -    0s\n",
      "     0     0   43.00000    0    2   73.00000   43.00000  41.1%     -    0s\n",
      "     0     2   43.00000    0    2   73.00000   43.00000  41.1%     -    0s\n",
      "H  975    21                      43.0000000   43.00000  0.00%  31.6    1s\n",
      "\n",
      "Explored 1004 nodes (35604 simplex iterations) in 1.52 seconds\n",
      "Thread count was 8 (of 8 available processors)\n",
      "\n",
      "Solution count 2: 43 73 \n",
      "\n",
      "Optimal solution found (tolerance 1.00e-04)\n",
      "Best objective 4.300000000000e+01, best bound 4.300000000000e+01, gap 0.0000%\n",
      "Condition=fructose. Initial mu_crowd=nan. Fitting within 90.2% of measured: 0.0539 <= mu <= 1.0461\n",
      "Condition=glucose. Initial mu_crowd=nan. Fitting within 90.2% of measured: 0.07252 <= mu <= 1.40748\n",
      "########################################\n",
      "Setting MIP warm-start values.\n",
      "Changed value of parameter OutputFlag to 1\n",
      "   Prev: 0  Min: 0  Max: 1  Default: 1\n",
      "Changed value of parameter NodefileStart to 3.0\n",
      "   Prev: 1e+100  Min: 0.0  Max: 1e+100  Default: 1e+100\n",
      "Changed value of parameter TimeLimit to 7200.0\n",
      "   Prev: 1e+100  Min: 0.0  Max: 1e+100  Default: 1e+100\n",
      "Optimize a model with 6098 rows, 2396 columns and 16584 nonzeros\n",
      "Variable types: 2060 continuous, 336 integer (0 binary)\n",
      "Coefficient statistics:\n",
      "  Matrix range     [5e-07, 1e+03]\n",
      "  Objective range  [1e+00, 1e+00]\n",
      "  Bounds range     [5e-02, 1e+03]\n",
      "  RHS range        [1e-03, 1e+03]\n",
      "Presolve removed 2187 rows and 433 columns\n",
      "Presolve time: 0.03s\n",
      "Presolved: 3911 rows, 1963 columns, 11723 nonzeros\n",
      "Variable types: 1648 continuous, 315 integer (315 binary)\n",
      "\n",
      "Root relaxation: objective 4.300000e+01, 1455 iterations, 0.02 seconds\n",
      "\n",
      "    Nodes    |    Current Node    |     Objective Bounds      |     Work\n",
      " Expl Unexpl |  Obj  Depth IntInf | Incumbent    BestBd   Gap | It/Node Time\n",
      "\n",
      "     0     0   43.00000    0   18          -   43.00000      -     -    0s\n",
      "     0     0   43.00000    0   18          -   43.00000      -     -    0s\n",
      "     0     0   43.00000    0   18          -   43.00000      -     -    0s\n",
      "     0     0   43.00000    0    6          -   43.00000      -     -    0s\n",
      "     0     0   43.00000    0    6          -   43.00000      -     -    0s\n",
      "     0     0   43.00000    0    6          -   43.00000      -     -    0s\n",
      "H    0     0                      56.0000000   43.00000  23.2%     -    0s\n",
      "     0     0   43.00000    0    6   56.00000   43.00000  23.2%     -    0s\n",
      "     0     2   43.00000    0    6   56.00000   43.00000  23.2%     -    0s\n",
      "H 1045    28                      43.0000000   43.00000  0.00%  33.6    1s\n",
      "\n",
      "Cutting planes:\n",
      "  Implied bound: 11\n",
      "  Flow cover: 5\n",
      "\n",
      "Explored 1045 nodes (39388 simplex iterations) in 1.87 seconds\n",
      "Thread count was 8 (of 8 available processors)\n",
      "\n",
      "Solution count 2: 43 56 \n",
      "\n",
      "Optimal solution found (tolerance 1.00e-04)\n",
      "Best objective 4.300000000000e+01, best bound 4.300000000000e+01, gap 0.0000%\n",
      "Condition=fructose. Initial mu_crowd=nan. Fitting within 80.4% of measured: 0.1078 <= mu <= 0.9922\n",
      "Condition=glucose. Initial mu_crowd=nan. Fitting within 80.4% of measured: 0.14504 <= mu <= 1.33496\n",
      "########################################\n",
      "Setting MIP warm-start values.\n",
      "Changed value of parameter OutputFlag to 1\n",
      "   Prev: 0  Min: 0  Max: 1  Default: 1\n",
      "Changed value of parameter NodefileStart to 3.0\n",
      "   Prev: 1e+100  Min: 0.0  Max: 1e+100  Default: 1e+100\n",
      "Changed value of parameter TimeLimit to 7200.0\n",
      "   Prev: 1e+100  Min: 0.0  Max: 1e+100  Default: 1e+100\n",
      "Optimize a model with 6098 rows, 2396 columns and 16584 nonzeros\n",
      "Variable types: 2060 continuous, 336 integer (0 binary)\n",
      "Coefficient statistics:\n",
      "  Matrix range     [5e-07, 1e+03]\n",
      "  Objective range  [1e+00, 1e+00]\n",
      "  Bounds range     [1e-01, 1e+03]\n",
      "  RHS range        [1e-03, 1e+03]\n",
      "Presolve removed 2187 rows and 433 columns\n",
      "Presolve time: 0.03s\n",
      "Presolved: 3911 rows, 1963 columns, 11723 nonzeros\n",
      "Variable types: 1648 continuous, 315 integer (315 binary)\n",
      "\n",
      "Root relaxation: objective 4.300000e+01, 1570 iterations, 0.03 seconds\n",
      "\n",
      "    Nodes    |    Current Node    |     Objective Bounds      |     Work\n",
      " Expl Unexpl |  Obj  Depth IntInf | Incumbent    BestBd   Gap | It/Node Time\n",
      "\n",
      "     0     0   43.00000    0    4          -   43.00000      -     -    0s\n",
      "     0     0   43.00000    0    4          -   43.00000      -     -    0s\n",
      "     0     0   43.00000    0    2          -   43.00000      -     -    0s\n",
      "H    0     0                      55.0000000   43.00000  21.8%     -    0s\n",
      "     0     0   43.00000    0    2   55.00000   43.00000  21.8%     -    0s\n",
      "     0     2   43.00000    0    2   55.00000   43.00000  21.8%     -    0s\n",
      "H  779   492                      44.0000000   43.00000  2.27%  42.1    1s\n",
      "H  822    25                      43.0000000   43.00000  0.00%  40.1    1s\n",
      "\n",
      "Cutting planes:\n",
      "  Implied bound: 2\n",
      "  Flow cover: 2\n",
      "\n",
      "Explored 822 nodes (35853 simplex iterations) in 1.59 seconds\n",
      "Thread count was 8 (of 8 available processors)\n",
      "\n",
      "Solution count 3: 43 44 55 \n",
      "\n",
      "Optimal solution found (tolerance 1.00e-04)\n",
      "Best objective 4.300000000000e+01, best bound 4.300000000000e+01, gap 0.0000%\n",
      "Condition=fructose. Initial mu_crowd=nan. Fitting within 70.6% of measured: 0.1617 <= mu <= 0.9383\n",
      "Condition=glucose. Initial mu_crowd=nan. Fitting within 70.6% of measured: 0.21756 <= mu <= 1.26244\n",
      "########################################\n",
      "Setting MIP warm-start values.\n",
      "Changed value of parameter OutputFlag to 1\n",
      "   Prev: 0  Min: 0  Max: 1  Default: 1\n",
      "Changed value of parameter NodefileStart to 3.0\n",
      "   Prev: 1e+100  Min: 0.0  Max: 1e+100  Default: 1e+100\n",
      "Changed value of parameter TimeLimit to 7200.0\n",
      "   Prev: 1e+100  Min: 0.0  Max: 1e+100  Default: 1e+100\n",
      "Optimize a model with 6098 rows, 2396 columns and 16584 nonzeros\n",
      "Variable types: 2060 continuous, 336 integer (0 binary)\n",
      "Coefficient statistics:\n",
      "  Matrix range     [5e-07, 1e+03]\n",
      "  Objective range  [1e+00, 1e+00]\n",
      "  Bounds range     [2e-01, 1e+03]\n",
      "  RHS range        [1e-03, 1e+03]\n",
      "Presolve removed 2187 rows and 433 columns\n",
      "Presolve time: 0.03s\n",
      "Presolved: 3911 rows, 1963 columns, 11723 nonzeros\n",
      "Variable types: 1648 continuous, 315 integer (315 binary)\n",
      "\n",
      "Root relaxation: objective 4.300000e+01, 1776 iterations, 0.04 seconds\n",
      "\n",
      "    Nodes    |    Current Node    |     Objective Bounds      |     Work\n",
      " Expl Unexpl |  Obj  Depth IntInf | Incumbent    BestBd   Gap | It/Node Time\n",
      "\n",
      "     0     0   43.00000    0   20          -   43.00000      -     -    0s\n",
      "     0     0   43.00000    0   24          -   43.00000      -     -    0s\n",
      "     0     0   43.00000    0   24          -   43.00000      -     -    0s\n",
      "     0     0   43.00000    0    4          -   43.00000      -     -    0s\n",
      "     0     0   43.00000    0    4          -   43.00000      -     -    0s\n",
      "H    0     0                      54.0000000   43.00000  20.4%     -    0s\n",
      "     0     0   43.00000    0    4   54.00000   43.00000  20.4%     -    0s\n",
      "     0     2   43.00000    0    4   54.00000   43.00000  20.4%     -    0s\n",
      "*  552    14              73      43.0000000   43.00000  0.00%  38.8    1s\n",
      "\n",
      "Cutting planes:\n",
      "  Implied bound: 10\n",
      "  Flow cover: 8\n",
      "\n",
      "Explored 555 nodes (26190 simplex iterations) in 1.15 seconds\n",
      "Thread count was 8 (of 8 available processors)\n",
      "\n",
      "Solution count 2: 43 54 \n",
      "\n",
      "Optimal solution found (tolerance 1.00e-04)\n",
      "Best objective 4.300000000000e+01, best bound 4.300000000000e+01, gap 0.0000%\n",
      "Condition=fructose. Initial mu_crowd=nan. Fitting within 60.8% of measured: 0.2156 <= mu <= 0.8844\n",
      "Condition=glucose. Initial mu_crowd=nan. Fitting within 60.8% of measured: 0.29008 <= mu <= 1.18992\n",
      "########################################\n",
      "Setting MIP warm-start values.\n",
      "Changed value of parameter OutputFlag to 1\n",
      "   Prev: 0  Min: 0  Max: 1  Default: 1\n",
      "Changed value of parameter NodefileStart to 3.0\n",
      "   Prev: 1e+100  Min: 0.0  Max: 1e+100  Default: 1e+100\n",
      "Changed value of parameter TimeLimit to 7200.0\n",
      "   Prev: 1e+100  Min: 0.0  Max: 1e+100  Default: 1e+100\n",
      "Optimize a model with 6098 rows, 2396 columns and 16584 nonzeros\n",
      "Variable types: 2060 continuous, 336 integer (0 binary)\n",
      "Coefficient statistics:\n",
      "  Matrix range     [5e-07, 1e+03]\n",
      "  Objective range  [1e+00, 1e+00]\n",
      "  Bounds range     [2e-01, 1e+03]\n",
      "  RHS range        [1e-03, 1e+03]\n",
      "Presolve removed 2187 rows and 433 columns\n",
      "Presolve time: 0.03s\n",
      "Presolved: 3911 rows, 1963 columns, 11723 nonzeros\n",
      "Variable types: 1648 continuous, 315 integer (315 binary)\n",
      "\n",
      "Root relaxation: objective 4.300000e+01, 1502 iterations, 0.02 seconds\n",
      "\n",
      "    Nodes    |    Current Node    |     Objective Bounds      |     Work\n",
      " Expl Unexpl |  Obj  Depth IntInf | Incumbent    BestBd   Gap | It/Node Time\n",
      "\n",
      "     0     0   43.00000    0    4          -   43.00000      -     -    0s\n",
      "     0     0   43.00000    0    6          -   43.00000      -     -    0s\n",
      "     0     0   43.00000    0    6          -   43.00000      -     -    0s\n",
      "     0     0   43.00000    0    6          -   43.00000      -     -    0s\n",
      "     0     2   43.00000    0    6          -   43.00000      -     -    0s\n",
      "*  646    30              88      43.0000000   43.00000  0.00%  32.5    1s\n",
      "\n",
      "Cutting planes:\n",
      "  Gomory: 1\n",
      "  Implied bound: 4\n",
      "  Flow cover: 1\n",
      "\n",
      "Explored 790 nodes (26497 simplex iterations) in 1.13 seconds\n",
      "Thread count was 8 (of 8 available processors)\n",
      "\n",
      "Solution count 1: 43 \n",
      "\n",
      "Optimal solution found (tolerance 1.00e-04)\n",
      "Best objective 4.300000000000e+01, best bound 4.300000000000e+01, gap 0.0000%\n",
      "Condition=fructose. Initial mu_crowd=nan. Fitting within 51% of measured: 0.2695 <= mu <= 0.8305\n",
      "Condition=glucose. Initial mu_crowd=nan. Fitting within 51% of measured: 0.3626 <= mu <= 1.1174\n",
      "########################################\n",
      "Setting MIP warm-start values.\n",
      "Changed value of parameter OutputFlag to 1\n",
      "   Prev: 0  Min: 0  Max: 1  Default: 1\n",
      "Changed value of parameter NodefileStart to 3.0\n",
      "   Prev: 1e+100  Min: 0.0  Max: 1e+100  Default: 1e+100\n",
      "Changed value of parameter TimeLimit to 7200.0\n",
      "   Prev: 1e+100  Min: 0.0  Max: 1e+100  Default: 1e+100\n",
      "Optimize a model with 6098 rows, 2396 columns and 16584 nonzeros\n",
      "Variable types: 2060 continuous, 336 integer (0 binary)\n",
      "Coefficient statistics:\n",
      "  Matrix range     [5e-07, 1e+03]\n",
      "  Objective range  [1e+00, 1e+00]\n",
      "  Bounds range     [3e-01, 1e+03]\n",
      "  RHS range        [1e-03, 1e+03]\n",
      "Presolve removed 2187 rows and 433 columns\n",
      "Presolve time: 0.03s\n",
      "Presolved: 3911 rows, 1963 columns, 11723 nonzeros\n",
      "Variable types: 1648 continuous, 315 integer (315 binary)\n",
      "\n",
      "Root relaxation: objective 4.300000e+01, 1426 iterations, 0.03 seconds\n",
      "\n",
      "    Nodes    |    Current Node    |     Objective Bounds      |     Work\n",
      " Expl Unexpl |  Obj  Depth IntInf | Incumbent    BestBd   Gap | It/Node Time\n",
      "\n",
      "     0     0   43.00000    0    4          -   43.00000      -     -    0s\n",
      "     0     0   43.00000    0    4          -   43.00000      -     -    0s\n",
      "     0     0   43.00000    0    4          -   43.00000      -     -    0s\n",
      "     0     0   43.00000    0    4          -   43.00000      -     -    0s\n",
      "     0     0   43.00000    0    4          -   43.00000      -     -    0s\n",
      "H    0     0                      48.0000000   43.00000  10.4%     -    0s\n",
      "     0     2   43.00000    0    4   48.00000   43.00000  10.4%     -    0s\n",
      "H  780   429                      44.0000000   43.00000  2.27%  34.9    1s\n",
      "H  859    19                      43.0000000   43.00000  0.00%  33.6    1s\n",
      "\n",
      "Cutting planes:\n",
      "  Gomory: 1\n",
      "  Implied bound: 12\n",
      "  Flow cover: 5\n",
      "\n",
      "Explored 859 nodes (31765 simplex iterations) in 1.45 seconds\n",
      "Thread count was 8 (of 8 available processors)\n",
      "\n",
      "Solution count 3: 43 44 48 \n",
      "\n",
      "Optimal solution found (tolerance 1.00e-04)\n",
      "Best objective 4.300000000000e+01, best bound 4.300000000000e+01, gap 0.0000%\n",
      "Condition=fructose. Initial mu_crowd=nan. Fitting within 41.2% of measured: 0.3234 <= mu <= 0.7766\n",
      "Condition=glucose. Initial mu_crowd=nan. Fitting within 41.2% of measured: 0.43512 <= mu <= 1.04488\n",
      "########################################\n",
      "Setting MIP warm-start values.\n",
      "Changed value of parameter OutputFlag to 1\n",
      "   Prev: 0  Min: 0  Max: 1  Default: 1\n",
      "Changed value of parameter NodefileStart to 3.0\n",
      "   Prev: 1e+100  Min: 0.0  Max: 1e+100  Default: 1e+100\n",
      "Changed value of parameter TimeLimit to 7200.0\n",
      "   Prev: 1e+100  Min: 0.0  Max: 1e+100  Default: 1e+100\n",
      "Optimize a model with 6098 rows, 2396 columns and 16584 nonzeros\n",
      "Variable types: 2060 continuous, 336 integer (0 binary)\n",
      "Coefficient statistics:\n",
      "  Matrix range     [5e-07, 1e+03]\n",
      "  Objective range  [1e+00, 1e+00]\n",
      "  Bounds range     [3e-01, 1e+03]\n",
      "  RHS range        [1e-03, 1e+03]\n",
      "Presolve removed 2187 rows and 433 columns\n",
      "Presolve time: 0.03s\n",
      "Presolved: 3911 rows, 1963 columns, 11723 nonzeros\n",
      "Variable types: 1648 continuous, 315 integer (315 binary)\n",
      "\n",
      "Root relaxation: objective 4.300000e+01, 1368 iterations, 0.02 seconds\n",
      "\n",
      "    Nodes    |    Current Node    |     Objective Bounds      |     Work\n",
      " Expl Unexpl |  Obj  Depth IntInf | Incumbent    BestBd   Gap | It/Node Time\n",
      "\n",
      "     0     0   43.00000    0   14          -   43.00000      -     -    0s\n",
      "     0     0   43.00000    0   20          -   43.00000      -     -    0s\n",
      "     0     0   43.00000    0   18          -   43.00000      -     -    0s\n",
      "     0     0   43.00000    0    2          -   43.00000      -     -    0s\n",
      "     0     0   43.00000    0    2          -   43.00000      -     -    0s\n",
      "     0     2   43.00000    0    2          -   43.00000      -     -    0s\n",
      "* 2364   600              67      43.0000000   43.00000  0.00%  23.0    4s\n",
      "\n",
      "Cutting planes:\n",
      "  Gomory: 2\n",
      "  Implied bound: 2\n",
      "  Flow cover: 8\n",
      "\n",
      "Explored 2522 nodes (92580 simplex iterations) in 4.70 seconds\n",
      "Thread count was 8 (of 8 available processors)\n",
      "\n",
      "Solution count 1: 43 \n",
      "\n",
      "Optimal solution found (tolerance 1.00e-04)\n",
      "Best objective 4.300000000000e+01, best bound 4.300000000000e+01, gap 0.0000%\n",
      "Condition=fructose. Initial mu_crowd=nan. Fitting within 31.4% of measured: 0.3773 <= mu <= 0.7227\n",
      "Condition=glucose. Initial mu_crowd=nan. Fitting within 31.4% of measured: 0.50764 <= mu <= 0.97236\n",
      "########################################\n",
      "Setting MIP warm-start values.\n",
      "Changed value of parameter OutputFlag to 1\n",
      "   Prev: 0  Min: 0  Max: 1  Default: 1\n",
      "Changed value of parameter NodefileStart to 3.0\n",
      "   Prev: 1e+100  Min: 0.0  Max: 1e+100  Default: 1e+100\n",
      "Changed value of parameter TimeLimit to 7200.0\n",
      "   Prev: 1e+100  Min: 0.0  Max: 1e+100  Default: 1e+100\n",
      "Optimize a model with 6098 rows, 2396 columns and 16584 nonzeros\n",
      "Variable types: 2060 continuous, 336 integer (0 binary)\n",
      "Coefficient statistics:\n",
      "  Matrix range     [5e-07, 1e+03]\n",
      "  Objective range  [1e+00, 1e+00]\n",
      "  Bounds range     [4e-01, 1e+03]\n",
      "  RHS range        [1e-03, 1e+03]\n",
      "Presolve removed 2187 rows and 433 columns\n",
      "Presolve time: 0.03s\n",
      "Presolved: 3911 rows, 1963 columns, 11723 nonzeros\n",
      "Variable types: 1648 continuous, 315 integer (315 binary)\n",
      "\n",
      "Root relaxation: objective 4.300000e+01, 1562 iterations, 0.03 seconds\n",
      "\n",
      "    Nodes    |    Current Node    |     Objective Bounds      |     Work\n",
      " Expl Unexpl |  Obj  Depth IntInf | Incumbent    BestBd   Gap | It/Node Time\n",
      "\n",
      "     0     0   43.00000    0   24          -   43.00000      -     -    0s\n",
      "     0     0   43.00000    0   30          -   43.00000      -     -    0s\n",
      "     0     0   43.00000    0   30          -   43.00000      -     -    0s\n",
      "     0     0   43.00000    0   18          -   43.00000      -     -    0s\n",
      "     0     0   43.00000    0   24          -   43.00000      -     -    0s\n",
      "     0     0   43.00000    0    4          -   43.00000      -     -    0s\n",
      "     0     0   43.00000    0    4          -   43.00000      -     -    0s\n",
      "     0     0   43.00000    0    4          -   43.00000      -     -    0s\n",
      "     0     0   43.00000    0    4          -   43.00000      -     -    0s\n",
      "     0     0   43.00000    0    4          -   43.00000      -     -    0s\n",
      "     0     2   43.00000    0    4          -   43.00000      -     -    1s\n",
      "H 1108   977                      46.0000000   43.00000  6.52%  32.9    3s\n",
      "  1745  1360   43.00000   59   16   46.00000   43.00000  6.52%  42.6    5s\n",
      "H 1746   766                      43.0000000   43.00000  0.00%  42.5    5s\n",
      "\n",
      "Cutting planes:\n",
      "  Gomory: 7\n",
      "  Implied bound: 17\n",
      "  Flow cover: 17\n",
      "\n",
      "Explored 1820 nodes (81105 simplex iterations) in 5.57 seconds\n",
      "Thread count was 8 (of 8 available processors)\n",
      "\n",
      "Solution count 2: 43 46 \n",
      "\n",
      "Optimal solution found (tolerance 1.00e-04)\n",
      "Best objective 4.300000000000e+01, best bound 4.300000000000e+01, gap 0.0000%\n",
      "Condition=fructose. Initial mu_crowd=nan. Fitting within 21.6% of measured: 0.4312 <= mu <= 0.6688\n",
      "Condition=glucose. Initial mu_crowd=nan. Fitting within 21.6% of measured: 0.58016 <= mu <= 0.89984\n",
      "########################################\n",
      "Setting MIP warm-start values.\n",
      "Changed value of parameter OutputFlag to 1\n",
      "   Prev: 0  Min: 0  Max: 1  Default: 1\n",
      "Changed value of parameter NodefileStart to 3.0\n",
      "   Prev: 1e+100  Min: 0.0  Max: 1e+100  Default: 1e+100\n",
      "Changed value of parameter TimeLimit to 7200.0\n",
      "   Prev: 1e+100  Min: 0.0  Max: 1e+100  Default: 1e+100\n",
      "Optimize a model with 6098 rows, 2396 columns and 16584 nonzeros\n",
      "Variable types: 2060 continuous, 336 integer (0 binary)\n",
      "Coefficient statistics:\n",
      "  Matrix range     [5e-07, 1e+03]\n",
      "  Objective range  [1e+00, 1e+00]\n",
      "  Bounds range     [4e-01, 1e+03]\n",
      "  RHS range        [1e-03, 1e+03]\n",
      "Presolve removed 2187 rows and 433 columns\n",
      "Presolve time: 0.03s\n",
      "Presolved: 3911 rows, 1963 columns, 11723 nonzeros\n",
      "Variable types: 1648 continuous, 315 integer (315 binary)\n",
      "\n",
      "Root relaxation: objective 4.300000e+01, 1635 iterations, 0.03 seconds\n",
      "\n",
      "    Nodes    |    Current Node    |     Objective Bounds      |     Work\n",
      " Expl Unexpl |  Obj  Depth IntInf | Incumbent    BestBd   Gap | It/Node Time\n",
      "\n",
      "     0     0   43.00000    0   12          -   43.00000      -     -    0s\n",
      "     0     0   43.00000    0   22          -   43.00000      -     -    0s\n",
      "     0     0   43.00000    0   22          -   43.00000      -     -    0s\n",
      "     0     0   43.00000    0   10          -   43.00000      -     -    0s\n",
      "     0     0   43.00000    0   16          -   43.00000      -     -    0s\n",
      "     0     0   43.00000    0   12          -   43.00000      -     -    0s\n",
      "     0     0   43.00000    0   12          -   43.00000      -     -    0s\n",
      "     0     0   43.00000    0   12          -   43.00000      -     -    0s\n",
      "     0     0   43.00000    0   10          -   43.00000      -     -    0s\n",
      "     0     2   43.00000    0   10          -   43.00000      -     -    0s\n",
      "H 1130   905                      53.0000000   43.00000  18.9%  28.0    2s\n",
      "H 1565   768                      43.0000000   43.00000  0.00%  34.3    3s\n",
      "\n",
      "Cutting planes:\n",
      "  Gomory: 6\n",
      "  Implied bound: 22\n",
      "  MIR: 2\n",
      "  Flow cover: 15\n",
      "\n",
      "Explored 1585 nodes (58356 simplex iterations) in 3.97 seconds\n",
      "Thread count was 8 (of 8 available processors)\n",
      "\n",
      "Solution count 2: 43 53 \n",
      "\n",
      "Optimal solution found (tolerance 1.00e-04)\n",
      "Best objective 4.300000000000e+01, best bound 4.300000000000e+01, gap 0.0000%\n",
      "Condition=fructose. Initial mu_crowd=nan. Fitting within 11.8% of measured: 0.4851 <= mu <= 0.6149\n",
      "Condition=glucose. Initial mu_crowd=nan. Fitting within 11.8% of measured: 0.65268 <= mu <= 0.82732\n",
      "########################################\n",
      "Setting MIP warm-start values.\n",
      "Changed value of parameter OutputFlag to 1\n",
      "   Prev: 0  Min: 0  Max: 1  Default: 1\n",
      "Changed value of parameter NodefileStart to 3.0\n",
      "   Prev: 1e+100  Min: 0.0  Max: 1e+100  Default: 1e+100\n",
      "Changed value of parameter TimeLimit to 7200.0\n",
      "   Prev: 1e+100  Min: 0.0  Max: 1e+100  Default: 1e+100\n",
      "Optimize a model with 6098 rows, 2396 columns and 16584 nonzeros\n",
      "Variable types: 2060 continuous, 336 integer (0 binary)\n",
      "Coefficient statistics:\n",
      "  Matrix range     [5e-07, 1e+03]\n",
      "  Objective range  [1e+00, 1e+00]\n",
      "  Bounds range     [5e-01, 1e+03]\n",
      "  RHS range        [1e-03, 1e+03]\n",
      "Presolve removed 2187 rows and 433 columns\n",
      "Presolve time: 0.03s\n",
      "Presolved: 3911 rows, 1963 columns, 11723 nonzeros\n",
      "Variable types: 1648 continuous, 315 integer (315 binary)\n",
      "\n",
      "Root relaxation: objective 4.300000e+01, 1784 iterations, 0.04 seconds\n",
      "\n",
      "    Nodes    |    Current Node    |     Objective Bounds      |     Work\n",
      " Expl Unexpl |  Obj  Depth IntInf | Incumbent    BestBd   Gap | It/Node Time\n",
      "\n",
      "     0     0   43.00000    0   10          -   43.00000      -     -    0s\n",
      "     0     0   43.00000    0   16          -   43.00000      -     -    0s\n",
      "     0     0   43.00000    0   24          -   43.00000      -     -    0s\n",
      "     0     0   43.00000    0   16          -   43.00000      -     -    0s\n",
      "     0     0   43.00000    0   16          -   43.00000      -     -    0s\n",
      "     0     0   43.00000    0   14          -   43.00000      -     -    0s\n",
      "     0     0   43.00000    0   24          -   43.00000      -     -    0s\n",
      "     0     0   43.00000    0   20          -   43.00000      -     -    0s\n",
      "     0     0   43.00000    0   20          -   43.00000      -     -    0s\n",
      "     0     2   43.00000    0   20          -   43.00000      -     -    0s\n",
      "  6557  4157   46.04272  107   27          -   43.00000      -  18.6    5s\n",
      " 15881  8441   43.15721  125   10          -   43.00000      -  23.0   10s\n",
      " 25620 13054   43.00970  109    5          -   43.00000      -  24.0   15s\n",
      " 30635 15302   43.69011  102    8          -   43.00000      -  24.2   20s\n",
      " 43376 20796   43.01094   99   11          -   43.00000      -  23.1   25s\n",
      " 55383 26210 infeasible  115               -   43.00000      -  22.7   30s\n",
      " 67038 31327   43.00000   82   10          -   43.00000      -  22.3   35s\n",
      " 78396 35547   43.22444  102    9          -   43.00000      -  21.7   40s\n",
      " 90765 39440   43.00000   76   18          -   43.00000      -  21.4   45s\n",
      " 102221 43183   43.00000   93    8          -   43.00000      -  21.2   50s\n",
      " 114710 47708   43.23874  119    7          -   43.00000      -  20.8   55s\n",
      " 126947 52291 infeasible   91               -   43.00000      -  20.4   60s\n",
      " 140507 57436 infeasible  106               -   43.00000      -  19.8   65s\n",
      " 154459 62498   43.00000   91   12          -   43.00000      -  19.2   70s\n",
      " 168107 68141   43.00000   93   16          -   43.00000      -  18.7   75s\n",
      " 180244 72218   43.00000   84    9          -   43.00000      -  18.7   80s\n",
      " 192249 75559 infeasible  107               -   43.00000      -  18.7   85s\n",
      " 204915 79897 infeasible  114               -   43.00000      -  18.7   90s\n",
      " 217185 83701 infeasible  102               -   43.00000      -  18.7   95s\n",
      " 228629 87223   43.00000   81    8          -   43.00000      -  18.8  100s\n",
      " 242236 93254   47.44193  145    8          -   43.00000      -  18.4  105s\n"
     ]
    }
   ],
   "source": [
    "%%time\n",
    "\n",
    "mu_id = 'BIOMASS_Ecoli_core_w_GAM'\n",
    "sol_dict = {}\n",
    "for ind, F_TOL in enumerate(F_TOLS):\n",
    "    for mdl_ind,mdl in iteritems(stacker.model_dict):\n",
    "        mu_meas = df_meas[ df_meas.substrate==mdl_ind].growth_rate_1_h.iloc[0]\n",
    "        rxn_mu = mdl.reactions.get_by_id(mu_id+'_%s'%mdl_ind)    \n",
    "        rxn_mu.lower_bound = mu_meas*(1-F_TOL)\n",
    "        rxn_mu.upper_bound = mu_meas*(1+F_TOL)\n",
    "        mu_crowd0 = np.nan\n",
    "        print('Condition=%s. Initial mu_crowd=%g. Fitting within %g%% of measured: %g <= mu <= %g' % (mdl_ind, mu_crowd0, 100*F_TOL, rxn_mu.lower_bound, rxn_mu.upper_bound))\n",
    "\n",
    "    # If feasible solution found, use it as MILP start\n",
    "    if milp.SolCount > 0:\n",
    "        print('#'*40)\n",
    "        print('Setting MIP warm-start values.')\n",
    "        for v in milp.getVars():\n",
    "            v.Start = v.X\n",
    "        sol_dict[ind] = {'x_dict':{v.VarName:v.X for v in milp.getVars()}, 'F_TOL':F_TOL}\n",
    "\n",
    "    milp = gurobi_solver.create_problem(stacker.model)\n",
    "    milp.ModelSense = GRB.MINIMIZE\n",
    "    milp.Params.IntFeasTol = 1e-9\n",
    "    milp.Params.OutputFlag = 1\n",
    "    # milp.Params.FeasibilityTol = 1e-9\n",
    "    # milp.Params.OptimalityTol = 1e-9\n",
    "    milp.Params.NodefileStart = 3   # Start writing nodes to disk if x GB RAM exceeded (for each thread)\n",
    "    milp.Params.TimeLimit = 2*3600  # Time limit in seconds\n",
    "\n",
    "    milp.optimize()"
   ]
  },
  {
   "cell_type": "code",
   "execution_count": null,
   "metadata": {
    "collapsed": false,
    "deletable": true,
    "editable": true
   },
   "outputs": [],
   "source": [
    "sol = gurobi_solver.format_solution(milp, stacker.model)\n",
    "yopt = [sol.x_dict[rxn.id] for rxn in stacker.model.reactions.query('binary_')]\n",
    "print('Number of non-zero binaries: %g' % sum(yopt))\n",
    "for mdl_ind,mdl in iteritems(stacker.model_dict):\n",
    "    rxn_mu = stacker.model.reactions.get_by_id(mu_id+'_%s'%mdl_ind)    \n",
    "    muopt = sol.x_dict[rxn_mu.id]\n",
    "    print('Initial mu_crowd=%g. Fitted within %g%%: %g <= %g <= %g' % (mu_crowd0, 100*F_TOL, rxn_mu.lower_bound, muopt, rxn_mu.upper_bound))"
   ]
  },
  {
   "cell_type": "code",
   "execution_count": null,
   "metadata": {
    "collapsed": false,
    "deletable": true,
    "editable": true
   },
   "outputs": [],
   "source": [
    "stacker.model.reactions.binary_ACALD00.metabolites"
   ]
  },
  {
   "cell_type": "code",
   "execution_count": null,
   "metadata": {
    "collapsed": false,
    "deletable": true,
    "editable": true,
    "scrolled": true
   },
   "outputs": [],
   "source": [
    "# Fitted parameters\n",
    "kfit_dict = {}\n",
    "for group_id, var_dict in iteritems(var_cons_dict):\n",
    "    var = var_dict[0]\n",
    "    cons = var_dict[1]\n",
    "    a0  = var_dict[0][2]\n",
    "    kfit = 0.\n",
    "    for l,pwr in enumerate(powers):\n",
    "        for k,digit in enumerate(digits):            \n",
    "            yid = 'binary_%s%s%s' % (group_id,k,l)\n",
    "            y   = sol.x_dict[yid]\n",
    "            if abs(y)>1e-10:\n",
    "                print('%s. Value=%s. Power=%g. Digit=%g' % (yid, y, pwr, digit))\n",
    "#                 print yid, y\n",
    "#             if abs(y)<1e-10:\n",
    "#                 print yid, y\n",
    "                pass\n",
    "            kfit += y*a0*radix**pwr*digit\n",
    "    kfit_dict[group_id] = kfit"
   ]
  },
  {
   "cell_type": "code",
   "execution_count": null,
   "metadata": {
    "collapsed": false,
    "deletable": true,
    "editable": true
   },
   "outputs": [],
   "source": [
    "[(k,v) for k,v in iteritems(kfit_dict) if abs(v)>1e-10]"
   ]
  },
  {
   "cell_type": "markdown",
   "metadata": {
    "deletable": true,
    "editable": true
   },
   "source": [
    "### Plug back in to be sure"
   ]
  },
  {
   "cell_type": "markdown",
   "metadata": {
    "collapsed": true,
    "deletable": true,
    "editable": true
   },
   "source": [
    "#----------------------------------------\n",
    "# Starting from basal model\n",
    "ijofit = load_json_model('/home/laurence/ME/models/BiGG_M/json/e_coli_core.json')\n",
    "crowding_bound = ijomc.metabolites.crowding._bound\n",
    "crowding = Constraint('crowding')\n",
    "crowding._bound = crowding_bound\n",
    "crowding._constraint_sense = 'L'\n",
    "for rid,kfit in iteritems(kfit_dict):\n",
    "    rxn = ijofit.reactions.get_by_id(rid)\n",
    "    rxn.add_metabolites({crowding:kfit})"
   ]
  },
  {
   "cell_type": "markdown",
   "metadata": {
    "collapsed": false,
    "deletable": true,
    "editable": true
   },
   "source": [
    "ijofit.optimize()\n",
    "print('Mu=%g' % ijofit.reactions.BIOMASS_Ecoli_core_w_GAM.x)"
   ]
  },
  {
   "cell_type": "code",
   "execution_count": null,
   "metadata": {
    "collapsed": true,
    "deletable": true,
    "editable": true
   },
   "outputs": [],
   "source": []
  }
 ],
 "metadata": {
  "kernelspec": {
   "display_name": "Python 2",
   "language": "python",
   "name": "python2"
  },
  "language_info": {
   "codemirror_mode": {
    "name": "ipython",
    "version": 2
   },
   "file_extension": ".py",
   "mimetype": "text/x-python",
   "name": "python",
   "nbconvert_exporter": "python",
   "pygments_lexer": "ipython2",
   "version": "2.7.14"
  }
 },
 "nbformat": 4,
 "nbformat_minor": 2
}
