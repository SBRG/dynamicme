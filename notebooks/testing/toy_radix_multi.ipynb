{
 "cells": [
  {
   "cell_type": "markdown",
   "metadata": {
    "deletable": true,
    "editable": true
   },
   "source": [
    "# Toy example for Radix-based for multiple conditions"
   ]
  },
  {
   "cell_type": "code",
   "execution_count": 16,
   "metadata": {
    "collapsed": false,
    "deletable": true,
    "editable": true
   },
   "outputs": [
    {
     "name": "stdout",
     "output_type": "stream",
     "text": [
      "The line_profiler extension is already loaded. To reload it, use:\n",
      "  %reload_ext line_profiler\n"
     ]
    }
   ],
   "source": [
    "%load_ext line_profiler"
   ]
  },
  {
   "cell_type": "code",
   "execution_count": 17,
   "metadata": {
    "collapsed": false,
    "deletable": true,
    "editable": true
   },
   "outputs": [],
   "source": [
    "from gurobipy import *\n",
    "\n",
    "import seaborn as sns\n",
    "import pandas as pd\n",
    "import matplotlib.pyplot as plt\n",
    "import numpy as np\n",
    "\n",
    "plt.rcParams['svg.fonttype'] = 'none'\n",
    "pd.set_option('display.max_colwidth', -1)\n",
    "%matplotlib inline\n",
    "\n",
    "from dynamicme.decomposition import Decomposer\n",
    "from dynamicme.callback_gurobi import cb_benders\n",
    "from dynamicme.optimize import Optimizer, StackOptimizer\n",
    "from dynamicme.optimize import Constraint, Variable\n",
    "\n",
    "from cobra.io import load_json_model\n",
    "from cobra import Metabolite, Reaction\n",
    "from six import iteritems\n",
    "\n",
    "import numpy as np\n",
    "import cobra"
   ]
  },
  {
   "cell_type": "markdown",
   "metadata": {
    "deletable": true,
    "editable": true
   },
   "source": [
    "### Try optimizing using radix for one condition first"
   ]
  },
  {
   "cell_type": "code",
   "execution_count": 25,
   "metadata": {
    "collapsed": false,
    "deletable": true,
    "editable": true
   },
   "outputs": [],
   "source": [
    "#----------------------------------------\n",
    "# Starting from basal model\n",
    "ijomc = load_json_model('/home/laurence/ME/models/BiGG_M/json/e_coli_core.json')\n",
    "mdl_ref = ijomc\n",
    "keff0 = 1./65/3600\n",
    "#crowding_bound = 0.0003\n",
    "crowding_bound = 0.001\n",
    "not_crowded = ['ATPM']\n",
    "rxns_c = [r for r in ijomc.reactions if all([m.compartment=='c' for m in r.metabolites.keys()]) and 'BIOMASS' not in r.id and r.id not in not_crowded]\n",
    "crowding_dict = {rxn:keff0 for rxn in rxns_c}\n",
    "#----------------------------------------\n",
    "\n",
    "# Temporarily add crowding constraint for the duality gap constraint\n",
    "crowding = Constraint('crowding')\n",
    "crowding._bound = crowding_bound\n",
    "crowding._constraint_sense = 'L'\n",
    "for rxn,keff in iteritems(crowding_dict):\n",
    "    rxn.add_metabolites({crowding:keff})"
   ]
  },
  {
   "cell_type": "code",
   "execution_count": 26,
   "metadata": {
    "collapsed": false,
    "deletable": true,
    "editable": true
   },
   "outputs": [
    {
     "name": "stdout",
     "output_type": "stream",
     "text": [
      "0.873921506968\n"
     ]
    }
   ],
   "source": [
    "ijomc.optimize()\n",
    "mu_crowd0 = ijomc.reactions.BIOMASS_Ecoli_core_w_GAM.x\n",
    "print(mu_crowd0)"
   ]
  },
  {
   "cell_type": "code",
   "execution_count": 27,
   "metadata": {
    "collapsed": true
   },
   "outputs": [],
   "source": [
    "N_CONDS = 2\n",
    "\n",
    "df_meas = pd.read_csv('/home/laurence/ME/data/dynamicME/beg/growth_meas.csv')\n",
    "ex_rxns = [r for r in df_meas.ex_rxn.unique() if mdl_ref.reactions.has_id(r)]\n",
    "df_meas = df_meas[ df_meas.ex_rxn.isin(ex_rxns)]\n",
    "conds = df_meas.substrate.unique()\n",
    "df_conds = pd.DataFrame([{'cond':r['substrate'], 'rxn':ex_rxn, 'lb':-10 if r['ex_rxn']==ex_rxn else 0, 'ub':1000., 'obj':0.} for i,r in df_meas.iterrows() for ex_rxn in ex_rxns])\n",
    "df_conds = df_conds[ df_conds.cond.isin(conds[0:N_CONDS])]"
   ]
  },
  {
   "cell_type": "code",
   "execution_count": 30,
   "metadata": {
    "collapsed": false,
    "deletable": true,
    "editable": true
   },
   "outputs": [],
   "source": [
    "stacker = StackOptimizer()\n",
    "stacker.stack_models(ijomc, df_conds)"
   ]
  },
  {
   "cell_type": "code",
   "execution_count": 31,
   "metadata": {
    "collapsed": false,
    "deletable": true,
    "editable": true
   },
   "outputs": [
    {
     "data": {
      "text/plain": [
       "<Solution 1.75 at 0x7f8593dc05d0>"
      ]
     },
     "execution_count": 31,
     "metadata": {},
     "output_type": "execute_result"
    }
   ],
   "source": [
    "stacker.model.optimize(solver='gurobi')"
   ]
  },
  {
   "cell_type": "code",
   "execution_count": 32,
   "metadata": {
    "collapsed": false
   },
   "outputs": [
    {
     "data": {
      "text/plain": [
       "<Solution 0.87 at 0x7f8593e71390>"
      ]
     },
     "execution_count": 32,
     "metadata": {},
     "output_type": "execute_result"
    }
   ],
   "source": [
    "stacker.model_dict['fructose'].optimize()"
   ]
  },
  {
   "cell_type": "code",
   "execution_count": 40,
   "metadata": {
    "collapsed": false,
    "deletable": true,
    "editable": true
   },
   "outputs": [
    {
     "name": "stdout",
     "output_type": "stream",
     "text": [
      "0.873921506968\n",
      "-10.0\n",
      "0.0\n"
     ]
    }
   ],
   "source": [
    "stacker.model_dict['glucose'].optimize()\n",
    "print stacker.model_dict['glucose'].reactions.query('BIOMASS')[0].x\n",
    "print stacker.model_dict['glucose'].reactions.query('EX_glc')[0].x\n",
    "print stacker.model_dict['glucose'].reactions.query('EX_fru')[0].x"
   ]
  },
  {
   "cell_type": "code",
   "execution_count": 42,
   "metadata": {
    "collapsed": false,
    "deletable": true,
    "editable": true
   },
   "outputs": [
    {
     "name": "stdout",
     "output_type": "stream",
     "text": [
      "0.873921506966\n",
      "0.0\n",
      "-10.0\n"
     ]
    }
   ],
   "source": [
    "stacker.model_dict['fructose'].optimize()\n",
    "print stacker.model_dict['fructose'].reactions.query('BIOMASS')[0].x\n",
    "print stacker.model_dict['fructose'].reactions.query('EX_glc')[0].x\n",
    "print stacker.model_dict['fructose'].reactions.query('EX_fru')[0].x"
   ]
  },
  {
   "cell_type": "code",
   "execution_count": 43,
   "metadata": {
    "collapsed": false,
    "deletable": true,
    "editable": true
   },
   "outputs": [],
   "source": [
    "for mdl_ind,mdl in iteritems(stacker.model_dict):\n",
    "    opt = Optimizer(mdl)\n",
    "    gapi = opt.add_duality_gap_constraint(INF=1e3, inplace=True, index=mdl_ind)"
   ]
  },
  {
   "cell_type": "code",
   "execution_count": 44,
   "metadata": {
    "collapsed": false,
    "deletable": true,
    "editable": true
   },
   "outputs": [
    {
     "data": {
      "text/plain": [
       "<Solution 3.50 at 0x7f8593dc07d0>"
      ]
     },
     "execution_count": 44,
     "metadata": {},
     "output_type": "execute_result"
    }
   ],
   "source": [
    "stacker.model.optimize(solver='gurobi')"
   ]
  },
  {
   "cell_type": "code",
   "execution_count": 45,
   "metadata": {
    "collapsed": false,
    "deletable": true,
    "editable": true
   },
   "outputs": [
    {
     "name": "stdout",
     "output_type": "stream",
     "text": [
      "('Radix:', 2.0)\n",
      "('Powers:', array([-3, -2, -1,  0,  1,  2,  3]))\n",
      "('Digits:', [1.0])\n"
     ]
    },
    {
     "name": "stderr",
     "output_type": "stream",
     "text": [
      "/usr/lib/python2.7/site-packages/ipykernel/__main__.py:9 \u001b[1;31mDeprecationWarning\u001b[0m: object of type <type 'float'> cannot be safely interpreted as an integer.\n"
     ]
    }
   ],
   "source": [
    "import numpy as np\n",
    "\n",
    "radix = 2.\n",
    "print('Radix:',radix)\n",
    "powers = np.arange(-3,4)\n",
    "print('Powers:', powers)\n",
    "digits_per_power = radix\n",
    "pwr_max = max(powers)\n",
    "digits = list(set(np.linspace(1, radix-1, digits_per_power)))\n",
    "print('Digits:', digits)\n",
    "\n",
    "# Discretize crowding coefficients into radix\n",
    "#crowding_p = gap.metabolites.crowding\n",
    "#crowding_cons = stacker.model.metabolites.query('crowding')\n",
    "\n",
    "var_cons_dict = {}\n",
    "# Get the group ID from reference model\n",
    "mdl_ref = ijomc\n",
    "crowding_ref = mdl_ref.metabolites.crowding\n",
    "for rxn_ref in crowding_ref.reactions:    \n",
    "    for mdl_ind, mdl in iteritems(stacker.model_dict):\n",
    "        crowding_p = mdl.metabolites.get_by_id('crowding_%s'%mdl_ind)\n",
    "        var_d = mdl.reactions.get_by_id('wa_%s'%crowding_p.id)\n",
    "        rxn_p = mdl.reactions.get_by_id(rxn_ref.id+'_%s'%mdl_ind)\n",
    "        # Get the coefficient in the dual\n",
    "        cons_ds = [m for m in var_d.metabolites.keys() if rxn_p.id==m.id]        \n",
    "        a0 = rxn_p.metabolites[crowding_p]\n",
    "        if var_cons_dict.has_key(rxn_ref.id):\n",
    "            var_cons_dict[rxn_ref.id] += [(rxn_p, crowding_p, a0)] + [(var_d, cons_d, a0) for cons_d in cons_ds]\n",
    "        else:\n",
    "            var_cons_dict[rxn_ref.id] = [(rxn_p, crowding_p, a0)] + [(var_d, cons_d, a0) for cons_d in cons_ds]"
   ]
  },
  {
   "cell_type": "code",
   "execution_count": 46,
   "metadata": {
    "collapsed": false,
    "deletable": true,
    "editable": true
   },
   "outputs": [],
   "source": [
    "# %lprun -f opt.to_radix opt.to_radix(gap, var_cons_dict, radix, powers, digits_per_power, prevent_zero=True)"
   ]
  },
  {
   "cell_type": "code",
   "execution_count": 47,
   "metadata": {
    "collapsed": false,
    "deletable": true,
    "editable": true
   },
   "outputs": [
    {
     "name": "stdout",
     "output_type": "stream",
     "text": [
      "CPU times: user 121 ms, sys: 18.7 ms, total: 139 ms\n",
      "Wall time: 124 ms\n"
     ]
    }
   ],
   "source": [
    "%time opt.to_radix(stacker.model, var_cons_dict, radix, powers, digits=digits, prevent_zero=False)"
   ]
  },
  {
   "cell_type": "code",
   "execution_count": 48,
   "metadata": {
    "collapsed": true,
    "deletable": true,
    "editable": true
   },
   "outputs": [],
   "source": [
    "for rxn in stacker.model.reactions:\n",
    "    rxn.objective_coefficient = 0.\n",
    "for rxn in stacker.model.reactions.query('binary'):\n",
    "    rxn.objective_coefficient = 1."
   ]
  },
  {
   "cell_type": "code",
   "execution_count": 52,
   "metadata": {
    "collapsed": false
   },
   "outputs": [
    {
     "name": "stdout",
     "output_type": "stream",
     "text": [
      "########################################\n",
      "Condition=fructose. Initial mu_crowd=nan. Fitting within 1% of measured: 0.5445 <= mu <= 0.5555\n",
      "Condition=glucose. Initial mu_crowd=nan. Fitting within 1% of measured: 0.7326 <= mu <= 0.7474\n",
      "########################################\n"
     ]
    }
   ],
   "source": [
    "F_TOL = 0.01\n",
    "\n",
    "mu_id = 'BIOMASS_Ecoli_core_w_GAM'\n",
    "\n",
    "print('#'*40)\n",
    "for mdl_ind,mdl in iteritems(stacker.model_dict):\n",
    "    mu_meas = df_meas[ df_meas.substrate==mdl_ind].growth_rate_1_h.iloc[0]\n",
    "    rxn_mu = mdl.reactions.get_by_id(mu_id+'_%s'%mdl_ind)    \n",
    "    rxn_mu.lower_bound = mu_meas*(1-F_TOL)\n",
    "    rxn_mu.upper_bound = mu_meas*(1+F_TOL)\n",
    "    mu_crowd0 = np.nan\n",
    "    print('Condition=%s. Initial mu_crowd=%g. Fitting within %g%% of measured: %g <= mu <= %g' % (mdl_ind, mu_crowd0, 100*F_TOL, rxn_mu.lower_bound, rxn_mu.upper_bound))\n",
    "print('#'*40)"
   ]
  },
  {
   "cell_type": "code",
   "execution_count": null,
   "metadata": {
    "collapsed": false,
    "deletable": true,
    "editable": true,
    "scrolled": true
   },
   "outputs": [
    {
     "name": "stdout",
     "output_type": "stream",
     "text": [
      "Changed value of parameter OutputFlag to 1\n",
      "   Prev: 0  Min: 0  Max: 1  Default: 1\n",
      "Changed value of parameter FeasibilityTol to 1e-09\n",
      "   Prev: 1e-06  Min: 1e-09  Max: 0.01  Default: 1e-06\n",
      "Changed value of parameter OptimalityTol to 1e-09\n",
      "   Prev: 1e-06  Min: 1e-09  Max: 0.01  Default: 1e-06\n",
      "Optimize a model with 5714 rows, 2396 columns and 15912 nonzeros\n",
      "Variable types: 2060 continuous, 336 integer (0 binary)\n",
      "Coefficient statistics:\n",
      "  Matrix range     [5e-07, 1e+03]\n",
      "  Objective range  [1e+00, 1e+00]\n",
      "  Bounds range     [5e-01, 1e+03]\n",
      "  RHS range        [1e-03, 1e+03]\n",
      "Presolve removed 1762 rows and 398 columns\n",
      "Presolve time: 0.04s\n",
      "Presolved: 3952 rows, 1998 columns, 11716 nonzeros\n",
      "Variable types: 1676 continuous, 322 integer (322 binary)\n",
      "\n",
      "Root relaxation: objective 1.589302e+00, 1535 iterations, 0.03 seconds\n",
      "\n",
      "    Nodes    |    Current Node    |     Objective Bounds      |     Work\n",
      " Expl Unexpl |  Obj  Depth IntInf | Incumbent    BestBd   Gap | It/Node Time\n",
      "\n",
      "     0     0    1.58930    0   10          -    1.58930      -     -    0s\n",
      "     0     0    1.58930    0   10          -    1.58930      -     -    0s\n",
      "     0     0    1.84684    0   10          -    1.84684      -     -    0s\n",
      "     0     0    2.42842    0   10          -    2.42842      -     -    0s\n",
      "     0     2    2.42842    0   10          -    2.42842      -     -    0s\n",
      " 13326  9326   15.27183   87   20          -    4.02928      -  10.5    5s\n",
      " 29393 21836   11.54544   88   10          -    4.44668      -  10.2   10s\n",
      " 43300 32757    5.68367   46    5          -    4.72769      -  10.4   15s\n",
      " 59896 45372    8.11347   54    8          -    4.86359      -  10.2   20s\n",
      " 75428 57043   11.23955   54   14          -    4.96878      -  10.0   25s\n",
      " 89566 68030   25.40321  126   22          -    5.04521      -   9.9   30s\n",
      " 105148 79651    9.53451   76    5          -    5.11108      -   9.9   35s\n",
      " 120793 91789   10.00548   91    8          -    5.17173      -   9.8   40s\n",
      " 135659 103019 infeasible  104               -    5.22200      -   9.8   45s\n",
      " 150940 114670   14.62602  117   10          -    5.26213      -   9.8   50s\n",
      " 165736 126156 infeasible   46               -    5.29285      -   9.8   55s\n",
      " 180305 137532    7.61218   72    5          -    5.32948      -   9.9   60s\n",
      " 194682 148190    5.36335   40    4          -    5.36145      -   9.9   65s\n",
      " 209068 159233 infeasible  110               -    5.38293      -   9.9   70s\n",
      " 223543 170209   18.22962   84   13          -    5.41321      -  10.0   75s\n",
      " 237873 181178    7.99667   79    6          -    5.44176      -  10.0   80s\n",
      " 251453 191226    7.02972   49    2          -    5.46672      -  10.1   85s\n",
      " 265748 202115    8.94730   99    7          -    5.48938      -  10.1   90s\n",
      " 280785 212937    9.50078   51   22          -    5.52199      -  10.1   95s\n",
      " 296339 224521    8.89915  122    7          -    5.55021      -  10.1  100s\n",
      " 312304 236669   12.40792  113    4          -    5.57263      -  10.0  105s\n",
      " 328031 248350    7.09286   36    5          -    5.59669      -  10.0  110s\n",
      " 344543 261200   17.63908  112   18          -    5.62247      -  10.0  115s\n",
      " 359932 272613    6.11362   38    3          -    5.64150      -  10.0  120s\n",
      " 375582 284631    7.67716   58    5          -    5.65899      -   9.9  125s\n",
      " 391451 296876    7.30837   41    3          -    5.67949      -   9.9  130s\n",
      " 407212 308973    6.05691   39    3          -    5.69855      -   9.9  135s\n",
      " 422953 320919   14.71626   78    9          -    5.71587      -   9.9  140s\n",
      " 438800 332671   45.45439   98   53          -    5.73596      -   9.9  145s\n",
      " 453850 344048    9.04841   53    7          -    5.74800      -   9.9  150s\n",
      " 469043 355590    9.01358   45    9          -    5.76169      -   9.9  155s\n",
      " 484777 367360   11.20380   93   10          -    5.77485      -   9.9  160s\n",
      " 499857 378837    9.95657   69    9          -    5.78862      -   9.9  165s\n",
      " 515797 390935   30.19541  143   29          -    5.80306      -   9.9  170s\n",
      " 531402 402131 infeasible   90               -    5.81252      -   9.9  175s\n",
      " 547045 413723    9.69087   70    9          -    5.82479      -   9.9  180s\n",
      " 561488 424430    8.23381   57    8          -    5.83554      -   9.9  185s\n",
      " 577509 436521    8.55517   63    7          -    5.84666      -   9.9  190s\n",
      " 592181 447333 infeasible   74               -    5.85657      -   9.9  195s\n",
      " 607715 458807    8.29144   51    7          -    5.86526      -   9.9  200s\n",
      " 622803 470436 infeasible  116               -    5.87664      -  10.0  205s\n",
      " 638113 482014 infeasible  100               -    5.88651      -  10.0  210s\n",
      " 653599 493564    6.81810   32    6          -    5.89546      -  10.0  215s\n",
      " 668527 504869 infeasible   95               -    5.90536      -  10.0  220s\n",
      " 683159 516196   27.85611  147   22          -    5.91364      -  10.0  225s\n",
      " 698706 528156 infeasible  114               -    5.92155      -  10.0  230s\n",
      " 715634 541343   21.20565   88   24          -    5.93203      -  10.0  235s\n",
      " 731127 553229 infeasible   44               -    5.94049      -  10.0  240s\n",
      " 747200 565838 infeasible  112               -    5.94778      -   9.9  245s\n",
      " 762345 577418   13.54247  101   12          -    5.95732      -   9.9  250s\n",
      " 777670 588708    8.44481   46   11          -    5.96372      -  10.0  255s\n",
      " 793157 600469 infeasible   70               -    5.97171      -  10.0  260s\n",
      " 808531 612166    8.03169   53    6          -    5.97997      -  10.0  265s\n",
      " 823489 623500   22.48197  103   29          -    5.98684      -  10.0  270s\n",
      " 837735 634129   21.62905   90   21          -    5.99292      -  10.0  275s\n",
      " 853001 645494    9.47201   60   20          -    5.99921      -  10.0  280s\n",
      " 868145 656681   11.18538   83   12          -    6.00623      -  10.0  285s\n",
      " 883109 668070 infeasible   92               -    6.01171      -  10.0  290s\n",
      " 898952 679969    8.13735   41   18          -    6.01817      -  10.0  295s\n",
      " 914647 691631 infeasible   89               -    6.02571      -  10.0  300s\n",
      " 929345 702796 infeasible  113               -    6.03076      -  10.0  305s\n",
      " 943823 713600   30.36935  117   37          -    6.03623      -  10.1  310s\n",
      " 958751 724269    8.58559   55    7          -    6.04302      -  10.1  315s\n",
      " 974071 735205   24.22767  157   21          -    6.04940      -  10.1  320s\n",
      " 988726 746431    6.78381   43    5          -    6.05478      -  10.1  325s\n",
      " 1005437 759410    9.28578   76    4          -    6.05981      -  10.1  330s\n",
      " 1023343 774172 infeasible  112               -    6.06578      -  10.0  335s\n",
      " 1042099 789734 infeasible  178               -    6.07302      -  10.0  340s\n",
      " 1059529 804214    7.93997   58    4          -    6.07937      -   9.9  345s\n",
      " 1076442 818193 infeasible  169               -    6.08509      -   9.9  350s\n",
      " 1092805 830887   12.05865  104    6          -    6.08989      -   9.9  355s\n",
      " 1110068 844503   31.37096   90   31          -    6.09476      -   9.9  360s\n",
      " 1126712 857752    6.43963   36    4          -    6.10085      -   9.9  365s\n",
      " 1143005 870724   21.46602  103   20          -    6.10666      -   9.8  370s\n",
      " 1159129 883546    7.21534   52    6          -    6.11268      -   9.8  375s\n",
      " 1176329 897277   17.10584  147   15          -    6.11731      -   9.8  380s\n",
      " 1192200 909759   19.67853  111   19          -    6.12191      -   9.8  385s\n",
      " 1207805 921921   10.54829   86   12          -    6.12662      -   9.8  390s\n",
      " 1223569 933881 infeasible   57               -    6.13243      -   9.8  395s\n",
      " 1239568 946290 infeasible  100               -    6.13644      -   9.8  400s\n",
      " 1254529 957787   11.72838  105    7          -    6.14072      -   9.8  405s\n",
      " 1269724 969285   11.44521   54    5          -    6.14664      -   9.8  410s\n",
      " 1285388 981208   11.64046   60    8          -    6.15117      -   9.8  415s\n",
      " 1301405 993629    7.52369   46    6          -    6.15667      -   9.8  420s\n",
      " 1317218 1005762    9.97358   86   10          -    6.16086      -   9.8  425s\n",
      " 1333152 1017807    6.45427   62    6          -    6.16491      -   9.8  430s\n",
      " 1349074 1030193    6.76738   44    6          -    6.16959      -   9.8  435s\n",
      " 1365532 1042952   17.45561  134    8          -    6.17554      -   9.8  440s\n",
      " 1381494 1055551    8.97392   64   14          -    6.18139      -   9.8  445s\n",
      " 1397219 1067735 infeasible   97               -    6.18698      -   9.8  450s\n",
      " 1412156 1079052 infeasible  145               -    6.19226      -   9.8  455s\n",
      " 1428054 1090984    8.02723   50    6          -    6.19704      -   9.8  460s\n",
      " 1443070 1102062   36.17870  116   39          -    6.20069      -   9.8  465s\n",
      " 1458018 1113012   32.53635  130   34          -    6.20414      -   9.8  470s\n",
      " 1473047 1124190   22.62116  100   22          -    6.20868      -   9.8  475s\n",
      " 1487738 1134980   10.74178   52    9          -    6.21296      -   9.9  480s\n",
      " 1502642 1146020    7.21024   45    7          -    6.21743      -   9.9  485s\n",
      " 1517151 1156715   19.47275  132   20          -    6.22085      -   9.9  490s\n",
      " 1531312 1167030    7.62851   64    5          -    6.22482      -   9.9  495s\n",
      " 1545993 1177756    8.72133   57    7          -    6.22890      -   9.9  500s\n",
      " 1561221 1188684   15.38873  157   11          -    6.23237      -   9.9  505s\n",
      " 1575870 1199310 infeasible  109               -    6.23724      -   9.9  510s\n",
      " 1589892 1209481 infeasible  104               -    6.23988      -   9.9  515s\n",
      " 1604972 1220512    9.52197   73    8          -    6.24323      -   9.9  520s\n",
      " 1620486 1232288   34.78131  113   40          -    6.24620      -   9.9  525s\n",
      " 1635456 1243692    7.31157   56    5          -    6.24901      -   9.9  530s\n",
      " 1651749 1256419   31.44668  152   30          -    6.25329      -   9.9  535s\n",
      " 1667277 1268385    7.74416   45    7          -    6.25665      -   9.9  540s\n",
      " 1683114 1280357 infeasible   86               -    6.26020      -   9.9  545s\n",
      " 1698262 1291759   29.96912   89   37          -    6.26456      -   9.9  550s\n",
      " 1713209 1302815 infeasible  126               -    6.26839      -   9.9  555s\n",
      " 1727495 1313067    7.22374   35   14          -    6.27193      -   9.9  560s\n",
      " 1741636 1323825 infeasible   90               -    6.27450      -  10.0  565s\n",
      " 1756427 1334969    8.08771   46    5          -    6.27816      -  10.0  570s\n",
      " 1771585 1346239   28.54455  104   27          -    6.28213      -  10.0  575s\n",
      " 1786154 1357249    9.10256   54    7          -    6.28564      -  10.0  580s\n",
      " 1801318 1368731   34.56175  101   45          -    6.28934      -  10.0  585s\n",
      " 1816103 1379694   26.28869  134   30          -    6.29245      -  10.0  590s\n",
      " 1830551 1390461   13.13957   82   11          -    6.29547      -  10.0  595s\n",
      " 1845643 1401644    9.10969   69    8          -    6.29971      -  10.0  600s\n",
      " 1859890 1412379    7.21708   35   14          -    6.30301      -  10.0  605s\n",
      " 1875776 1424729 infeasible  131               -    6.30546      -  10.0  610s\n",
      " 1890992 1436779   12.66726  104   12          -    6.30920      -  10.0  615s\n",
      " 1907339 1449802   14.26752   99   12          -    6.31269      -  10.0  620s\n",
      " 1924337 1463373   24.89607  135   25          -    6.31620      -  10.0  625s\n",
      " 1940469 1476150   13.12007   90   11          -    6.31976      -  10.0  630s\n",
      " 1954911 1487126    7.58068   31    2          -    6.32283      -  10.0  635s\n",
      " 1969499 1498369 infeasible  104               -    6.32558      -  10.0  640s\n",
      " 1984041 1509264   22.60291  123   17          -    6.32923      -  10.0  645s\n",
      " 1999355 1520871    9.74267   88    9          -    6.33225      -  10.0  650s\n",
      " 2014702 1532559   36.57552  118   31          -    6.33489      -  10.0  655s\n",
      " 2029082 1543283   20.66645  117   17          -    6.33810      -  10.0  660s\n",
      " 2044858 1555345 infeasible   91               -    6.34137      -  10.0  665s\n",
      " 2059910 1566636   39.84454  100   53          -    6.34511      -  10.0  670s\n",
      " 2073843 1576940    8.74560   66    6          -    6.34795      -  10.1  675s\n",
      " 2089078 1588617   33.29526  112   33          -    6.35087      -  10.1  680s\n",
      " 2104503 1600452 infeasible   72               -    6.35331      -  10.1  685s\n",
      " 2120216 1612410   20.09967  125   25          -    6.35587      -  10.1  690s\n",
      " 2135737 1624185   22.06157   83   23          -    6.35815      -  10.1  695s\n",
      " 2150870 1635720   10.85256   79    6          -    6.36127      -  10.1  700s\n",
      " 2166698 1647685    6.70132   46    3          -    6.36404      -  10.1  705s\n",
      " 2181764 1659311   28.32720   94   26          -    6.36677      -  10.1  710s\n",
      " 2197138 1670808 infeasible   91               -    6.37011      -  10.1  715s\n",
      " 2212545 1682279 infeasible  104               -    6.37300      -  10.1  720s\n",
      " 2227644 1693675   17.01543   86   19          -    6.37467      -  10.1  725s\n",
      " 2242621 1704744 infeasible   94               -    6.37811      -  10.1  730s\n",
      " 2257184 1715408 infeasible   92               -    6.38028      -  10.1  735s\n",
      " 2272552 1727268   22.96006  125   10          -    6.38294      -  10.1  740s\n",
      " 2288262 1739170   10.94166   68    6          -    6.38599      -  10.1  745s\n",
      " 2303160 1750538   26.31364  130   25          -    6.38826      -  10.1  750s\n",
      " 2318306 1762009    7.23692   35    6          -    6.39083      -  10.1  755s\n",
      " 2333706 1773717    7.44901   37    5          -    6.39397      -  10.1  760s\n",
      " 2348304 1784335 infeasible  104               -    6.39631      -  10.1  765s\n",
      " 2363189 1795317   33.21496  102   37          -    6.39915      -  10.1  770s\n",
      " 2378518 1806925   21.37393  123   20          -    6.40221      -  10.1  775s\n",
      " 2393058 1817482    8.96552   41   31          -    6.40468      -  10.1  780s\n",
      " 2407710 1828460    7.63662   39    5          -    6.40694      -  10.1  785s\n",
      " 2422127 1838912 infeasible   94               -    6.40917      -  10.1  790s\n",
      " 2437070 1850107    9.81265   95   11          -    6.41144      -  10.1  795s\n",
      " 2452152 1860843   11.94707  108   10          -    6.41393      -  10.1  800s\n",
      " 2467281 1872196   17.81551  150   15          -    6.41625      -  10.1  805s\n",
      " 2481631 1882909   14.58700   73   13          -    6.41875      -  10.1  810s\n",
      " 2496812 1894383    7.36716   42    6          -    6.42076      -  10.1  815s\n",
      " 2511398 1905225   15.66615  112   12          -    6.42333      -  10.2  820s\n",
      " 2526145 1916281   24.82834  120   30          -    6.42575      -  10.2  825s\n",
      " 2540984 1927100    8.06766   50    7          -    6.42753      -  10.2  830s\n",
      " 2555675 1937988    7.27765   32   17          -    6.42970      -  10.2  835s\n",
      " 2570271 1948683 infeasible   97               -    6.43196      -  10.2  840s\n",
      " 2584535 1958964   10.50144   49   14          -    6.43411      -  10.2  845s\n",
      " 2599729 1969865    7.15680   38    7          -    6.43634      -  10.2  850s\n",
      " 2613190 1979942   11.37162   69   12          -    6.43883      -  10.2  855s\n",
      " 2627570 1990023   26.61645  136   29          -    6.44137      -  10.2  860s\n",
      " 2641782 2000494   28.84361  106   26          -    6.44332      -  10.2  865s\n",
      " 2656889 2011383    7.11257   38    5          -    6.44582      -  10.2  870s\n",
      " 2671565 2022294   28.91996  103   37          -    6.44791      -  10.2  875s\n",
      " 2685697 2032696   44.84707   99   46          -    6.45051      -  10.2  880s\n",
      " 2700673 2044032   10.87857   76   10          -    6.45290      -  10.2  885s\n",
      " 2716343 2055603   27.06307   98   24          -    6.45528      -  10.2  890s\n",
      " 2730776 2065912   24.94217  118    8          -    6.45733      -  10.2  895s\n",
      " 2746120 2077714   19.37393  119   18          -    6.45958      -  10.2  900s\n",
      " 2760693 2088439    6.46774   36    3          -    6.46107      -  10.2  905s\n",
      " 2775470 2099507   25.88965  122   29          -    6.46327      -  10.2  910s\n",
      " 2790851 2111360    9.75121   80    7          -    6.46500      -  10.2  915s\n",
      " 2805401 2122082    9.63742   74    9          -    6.46691      -  10.2  920s\n",
      " 2820511 2133364   22.31606  133   14          -    6.46910      -  10.2  925s\n",
      " 2835955 2144724 infeasible   99               -    6.47116      -  10.2  930s\n",
      " 2849853 2154840    7.31317   41    3          -    6.47349      -  10.2  935s\n",
      " 2865665 2166521   15.32379   89   17          -    6.47568      -  10.3  940s\n",
      " 2879506 2176143    7.11951   43    2          -    6.47767      -  10.3  945s\n",
      " 2894922 2187385    6.73959   33    2          -    6.48016      -  10.3  950s\n",
      " 2909476 2198116 infeasible  119               -    6.48213      -  10.3  955s\n",
      " 2923910 2208449   39.29864  102   49          -    6.48374      -  10.3  960s\n",
      " 2938834 2219277   20.77718  105   26          -    6.48580      -  10.3  965s\n",
      " 2954349 2230603   12.16087   64    8          -    6.48748      -  10.3  970s\n",
      " 2968491 2241185   32.33710  165   15          -    6.48974      -  10.3  975s\n",
      " 2981857 2250593   10.51321   93    8          -    6.49129      -  10.3  980s\n",
      " 2996657 2261368 infeasible  121               -    6.49309      -  10.3  985s\n",
      " 3011235 2272142    9.41938   68    7          -    6.49539      -  10.3  990s\n",
      " 3026611 2283492   14.59238   81   13          -    6.49719      -  10.3  995s\n",
      " 3041653 2294771   12.64072   77   15          -    6.49932      -  10.3 1000s\n",
      " 3055367 2304967   14.17219  103   12          -    6.50088      -  10.3 1005s\n",
      " 3070062 2315793   25.01251  109   27          -    6.50275      -  10.3 1010s\n",
      " 3085192 2326350   17.02889  108   17          -    6.50454      -  10.3 1015s\n",
      " 3098695 2335739 infeasible  132               -    6.50629      -  10.3 1020s\n",
      " 3113270 2346268   15.67753   83   17          -    6.50826      -  10.3 1025s\n",
      " 3127793 2356511   26.16936  129   20          -    6.51036      -  10.3 1030s\n",
      " 3142500 2367034   15.44153  118    8          -    6.51263      -  10.3 1035s\n",
      " 3156701 2377456   13.06876   78   11          -    6.51442      -  10.3 1040s\n",
      " 3171400 2388197   10.86704   69   10          -    6.51646      -  10.3 1045s\n",
      " 3185698 2398542    8.73467   62    6          -    6.51808      -  10.3 1050s\n",
      " 3200469 2409480   20.40981   94   20          -    6.51955      -  10.3 1055s\n",
      " 3214167 2419359    7.32134   34    3          -    6.52155      -  10.3 1060s\n",
      " 3228554 2429568    8.03294   44    7          -    6.52331      -  10.3 1065s\n",
      " 3241967 2439195    7.80385   68    6          -    6.52523      -  10.4 1070s\n",
      " 3256681 2449575   20.87679   94   17          -    6.52699      -  10.4 1075s\n",
      " 3270768 2460217   33.88802  134   34          -    6.52897      -  10.4 1080s\n",
      " 3284910 2470365   30.21931  103   20          -    6.53036      -  10.4 1085s\n",
      " 3299377 2480873    7.98555   57    6          -    6.53256      -  10.4 1090s\n",
      " 3313065 2490625    7.67448   38    8          -    6.53458      -  10.4 1095s\n",
      " 3328286 2501476   16.45376   82   15          -    6.53647      -  10.4 1100s\n",
      " 3343286 2512134 infeasible  115               -    6.53829      -  10.4 1105s\n",
      " 3357947 2522622    8.49034   63    5          -    6.53967      -  10.4 1110s\n",
      " 3372833 2532997   10.42603   88    9          -    6.54121      -  10.4 1115s\n",
      " 3387747 2543558 infeasible   39               -    6.54288      -  10.4 1120s\n",
      " 3402167 2553492   10.55671   80   10          -    6.54465      -  10.4 1125s\n",
      " 3417450 2564942 infeasible   49               -    6.54605      -  10.4 1130s\n",
      " 3431441 2575269    9.76370   58   21          -    6.54781      -  10.4 1135s\n",
      " 3446604 2586543   24.10210  114   28          -    6.54941      -  10.4 1140s\n",
      " 3461702 2597335    9.01932   52    6          -    6.55123      -  10.4 1145s\n",
      " 3476516 2608134   16.93573   76   15          -    6.55306      -  10.4 1150s\n",
      " 3491732 2619367   20.17771  138   22          -    6.55466      -  10.4 1155s\n",
      " 3506400 2630551    7.85179   43    4          -    6.55671      -  10.4 1160s\n",
      " 3521502 2641745 infeasible  123               -    6.55821      -  10.4 1165s\n",
      " 3535828 2652262   16.77979  115   14          -    6.56023      -  10.4 1170s\n",
      " 3549983 2662712    9.54876   44    9          -    6.56232      -  10.4 1175s\n",
      " 3564547 2673264   22.20057  133   24          -    6.56437      -  10.4 1180s\n",
      " 3579955 2684606    8.58767   55    9          -    6.56611      -  10.4 1185s\n",
      " 3594364 2695204   15.51813   93   17          -    6.56772      -  10.4 1190s\n",
      " 3608908 2705931   21.64483  147   20          -    6.56992      -  10.4 1195s\n",
      " 3623826 2717325   11.87631   79    9          -    6.57158      -  10.4 1200s\n",
      " 3639489 2729032    8.89117   45   10          -    6.57348      -  10.4 1205s\n",
      " 3654122 2740198    9.67333   84   10          -    6.57480      -  10.4 1210s\n",
      " 3667960 2750539    7.61870   46    7          -    6.57595      -  10.4 1215s\n",
      " 3683282 2761974   20.77719  102   25          -    6.57763      -  10.4 1220s\n",
      " 3697885 2772906   45.44808  131   53          -    6.57921      -  10.4 1225s\n",
      " 3713658 2785156   21.17237  101   24          -    6.58108      -  10.4 1230s\n",
      " 3729520 2797161    9.17179   81    9          -    6.58252      -  10.4 1235s\n",
      " 3744145 2808373    9.53977   51   11          -    6.58417      -  10.4 1240s\n",
      " 3760018 2820875    7.71789   47    4          -    6.58626      -  10.4 1245s\n",
      " 3774847 2831893   16.35298   87   16          -    6.58766      -  10.4 1250s\n",
      " 3789355 2842749    7.81739   66    4          -    6.58923      -  10.4 1255s\n",
      " 3804734 2854694   29.27884   84   42          -    6.59117      -  10.4 1260s\n",
      " 3819093 2865478 infeasible   55               -    6.59269      -  10.4 1265s\n",
      " 3834637 2877409   16.59940   90   15          -    6.59404      -  10.4 1270s\n",
      " 3848442 2887753    8.17680   57    5          -    6.59547      -  10.4 1275s\n",
      " 3864056 2899310   10.11240   72   10          -    6.59702      -  10.4 1280s\n",
      " 3878462 2909912   13.12320   82   15          -    6.59851      -  10.4 1285s\n",
      " 3893024 2920793    8.36804   66    4          -    6.60021      -  10.4 1290s\n",
      " 3906865 2931187   10.55634   63   10          -    6.60140      -  10.4 1295s\n",
      " 3921486 2941591   14.13638   94   13          -    6.60271      -  10.4 1300s\n",
      " 3935264 2951333   16.54714  103   16          -    6.60462      -  10.4 1305s\n",
      " 3949753 2961265   31.06319  114   31          -    6.60618      -  10.4 1310s\n",
      " 3963713 2971274   12.10205   81    9          -    6.60783      -  10.4 1315s\n",
      " 3978259 2981596    7.66128   68    6          -    6.60928      -  10.4 1320s\n",
      " 3992251 2991679    9.27222   64    5          -    6.61090      -  10.4 1325s\n",
      " 4007566 3002829   13.33177   67   14          -    6.61226      -  10.4 1330s\n",
      " 4021178 3012438   13.46210   94    7          -    6.61386      -  10.4 1335s\n",
      " 4036549 3023303   10.29965   72    6          -    6.61514      -  10.4 1340s\n",
      " 4051702 3033991 infeasible  142               -    6.61665      -  10.4 1345s\n",
      " 4067022 3045115   21.92116  116   21          -    6.61782      -  10.4 1350s\n",
      " 4081548 3055375   36.64955  121   38          -    6.61939      -  10.4 1355s\n",
      " 4096838 3066483   20.26064   83   22          -    6.62079      -  10.4 1360s\n",
      " 4111878 3077208 infeasible  129               -    6.62213      -  10.4 1365s\n",
      " 4127253 3088351   27.56592  134   32          -    6.62399      -  10.4 1370s\n",
      " 4142123 3098791   17.26617   65   13          -    6.62522      -  10.4 1375s\n",
      " 4156749 3109597   10.98630   93    9          -    6.62687      -  10.4 1380s\n",
      " 4171488 3120779   27.81986  129   18          -    6.62818      -  10.5 1385s\n",
      " 4186510 3131783   11.77163   63   10          -    6.62935      -  10.5 1390s\n",
      " 4200175 3142052    7.58270   46    4          -    6.63062      -  10.5 1395s\n",
      " 4214543 3152476 infeasible  104               -    6.63233      -  10.5 1400s\n",
      " 4229514 3163446   16.85950   79   10          -    6.63404      -  10.5 1405s\n",
      " 4243913 3173732   20.34683  100   21          -    6.63524      -  10.5 1410s\n",
      " 4257761 3183658   10.60072   76   10          -    6.63664      -  10.5 1415s\n",
      " 4272899 3194541   19.01479   99   19          -    6.63819      -  10.5 1420s\n",
      " 4287385 3205051   38.59675  127   42          -    6.63931      -  10.5 1425s\n",
      " 4301496 3215450    9.13959   47   31          -    6.64102      -  10.5 1430s\n",
      " 4315685 3225426   11.86607   98    9          -    6.64240      -  10.5 1435s\n",
      " 4330173 3235875   17.73808   77   18          -    6.64403      -  10.5 1440s\n",
      " 4343231 3245398   19.12349  139   16          -    6.64540      -  10.5 1445s\n",
      " 4357635 3255429   13.94147   93   11          -    6.64703      -  10.5 1450s\n",
      " 4372017 3265436    8.37007   50    5          -    6.64804      -  10.5 1455s\n",
      " 4386745 3276046    8.97263   63   10          -    6.64966      -  10.5 1460s\n",
      " 4400494 3285445 infeasible  105               -    6.65128      -  10.5 1465s\n",
      " 4414393 3295153   33.49757  119   40          -    6.65215      -  10.5 1470s\n",
      " 4428867 3305550    9.80648   54    8          -    6.65384      -  10.5 1475s\n",
      " 4443420 3316460   18.30323  125   16          -    6.65502      -  10.5 1480s\n",
      " 4457686 3326725   11.52624   93    9          -    6.65607      -  10.5 1485s\n",
      " 4472319 3337561   19.74561   93   48          -    6.65732      -  10.5 1490s\n",
      " 4487179 3348086   22.21359   98   21          -    6.65881      -  10.5 1495s\n",
      " 4501580 3358447   23.58307  117   17          -    6.66016      -  10.5 1500s\n",
      " 4515298 3367855    9.48893   71    7          -    6.66133      -  10.5 1505s\n",
      " 4530049 3378419   12.71103   94    8          -    6.66255      -  10.5 1510s\n",
      " 4544076 3388483   11.17699   96   10          -    6.66375      -  10.5 1515s\n",
      " 4559012 3399617 infeasible  108               -    6.66530      -  10.5 1520s\n",
      " 4573414 3410137 infeasible   99               -    6.66662      -  10.5 1525s\n",
      " 4588248 3421033    9.00600   50    5          -    6.66824      -  10.5 1530s\n",
      " 4602647 3431334 infeasible   68               -    6.66956      -  10.5 1535s\n",
      " 4617139 3441819   10.62246   80    7          -    6.67103      -  10.5 1540s\n",
      " 4631045 3451512    8.24996   50    6          -    6.67250      -  10.6 1545s\n",
      " 4645174 3461534    8.82565   61    7          -    6.67393      -  10.6 1550s\n",
      " 4659513 3472232   47.90701  126   56          -    6.67496      -  10.6 1555s\n",
      " 4674676 3483105    9.35137   81    7          -    6.67631      -  10.6 1560s\n",
      " 4689567 3493720    8.66814   46    6          -    6.67798      -  10.6 1565s\n",
      " 4703569 3504377   28.42312  110   34          -    6.67939      -  10.6 1570s\n",
      " 4717928 3515079   12.20439  105    7          -    6.68064      -  10.6 1575s\n",
      " 4732606 3525958   15.77084  105   13          -    6.68195      -  10.6 1580s\n",
      " 4747034 3536294   12.56701  118   10          -    6.68318      -  10.6 1585s\n",
      " 4761060 3546372 infeasible  122               -    6.68473      -  10.6 1590s\n",
      " 4775587 3556916   20.54834  125    5          -    6.68573      -  10.6 1595s\n",
      " 4789737 3567321   47.35034  111   55          -    6.68691      -  10.6 1600s\n",
      " 4803336 3577336    8.17919   50    6          -    6.68824      -  10.6 1605s\n",
      " 4818264 3588130   27.67588  131   32          -    6.68975      -  10.6 1610s\n",
      " 4833394 3599006 infeasible  122               -    6.69074      -  10.6 1615s\n",
      " 4847283 3609285   14.31574   76   13          -    6.69221      -  10.6 1620s\n",
      " 4862035 3619898   13.44355   96   15          -    6.69338      -  10.6 1625s\n",
      " 4876193 3630029   27.93907  147   27          -    6.69473      -  10.6 1630s\n",
      " 4892088 3641772    9.60780   72    9          -    6.69628      -  10.6 1635s\n",
      " 4906824 3652589    9.76941   74    7          -    6.69755      -  10.6 1640s\n",
      " 4921438 3663316    9.12554   53    6          -    6.69868      -  10.6 1645s\n",
      " 4936191 3673995   30.85680  120   34          -    6.70018      -  10.6 1650s\n",
      " 4950757 3684790 infeasible  100               -    6.70169      -  10.6 1655s\n",
      " 4966024 3696117    9.38583   78    9          -    6.70271      -  10.6 1660s\n",
      " 4979556 3706031   12.18915   97   10          -    6.70408      -  10.6 1665s\n",
      " 4995033 3717582   20.76019   91   22          -    6.70528      -  10.6 1670s\n",
      " 5009845 3728574 infeasible  105               -    6.70653      -  10.6 1675s\n",
      " 5024890 3739719    8.83212   54    9          -    6.70759      -  10.6 1680s\n",
      " 5040283 3751115   34.61712  109   36          -    6.70859      -  10.6 1685s\n",
      " 5055538 3762324   10.57042   65    7          -    6.70985      -  10.6 1690s\n",
      " 5071317 3774082 infeasible  120               -    6.71122      -  10.6 1695s\n",
      " 5086441 3785575   33.02827  127   42          -    6.71230      -  10.6 1700s\n",
      " 5102556 3797751 infeasible  127               -    6.71334      -  10.6 1705s\n",
      " 5117921 3809367    8.48815   58    7          -    6.71470      -  10.6 1710s\n",
      " 5134100 3821484 infeasible  100               -    6.71627      -  10.6 1715s\n",
      " 5149183 3832741   17.88280   93   14          -    6.71737      -  10.6 1720s\n",
      " 5164758 3844376   15.90632  151   15          -    6.71883      -  10.6 1725s\n",
      " 5179537 3855328   36.00308  122   35          -    6.71998      -  10.6 1730s\n",
      " 5194540 3866902   14.48732   80    7          -    6.72146      -  10.6 1735s\n",
      " 5209028 3877842   20.11792  104   24          -    6.72251      -  10.6 1740s\n",
      " 5225047 3889809   10.07575   84    9          -    6.72357      -  10.6 1745s\n",
      " 5240258 3901239   28.37897  124   30          -    6.72466      -  10.6 1750s\n",
      " 5255801 3913061   25.18666  114   28          -    6.72586      -  10.6 1755s\n",
      " 5271082 3924594   16.63147   98   21          -    6.72695      -  10.6 1760s\n",
      " 5286280 3936001   27.55150  145   22          -    6.72784      -  10.6 1765s\n",
      " 5302106 3948192   10.52007   91    8          -    6.72896      -  10.6 1770s\n",
      " 5317097 3959650 infeasible  120               -    6.73003      -  10.6 1775s\n",
      " 5332331 3970925   16.40421  109    9          -    6.73135      -  10.6 1780s\n",
      " 5348440 3983216   25.34837   97   26          -    6.73250      -  10.6 1785s\n",
      " 5362708 3994007   26.61979  102   26          -    6.73355      -  10.6 1790s\n",
      " 5378043 4005547   31.17184  105   24          -    6.73482      -  10.6 1795s\n",
      " 5392300 4016215    7.46315   38    7          -    6.73613      -  10.6 1800s\n",
      " 5406371 4026610   17.96813  139   17          -    6.73682      -  10.6 1805s\n",
      " 5421968 4038261   26.06443  131   27          -    6.73838      -  10.6 1810s\n",
      " 5436375 4048861 infeasible  122               -    6.73940      -  10.6 1815s\n",
      " 5449720 4058763    7.73806   46    4          -    6.74047      -  10.6 1820s\n",
      " 5465186 4070453   19.20467  108   19          -    6.74175      -  10.6 1825s\n",
      " 5479123 4080357    9.41940   79    9          -    6.74296      -  10.6 1830s\n",
      " 5493316 4090821 infeasible   95               -    6.74380      -  10.6 1835s\n",
      " 5508111 4101393 infeasible   67               -    6.74491      -  10.6 1840s\n",
      " 5521665 4111252   43.17521  101   35          -    6.74567      -  10.6 1845s\n",
      " 5536418 4122210    7.66892   40    9          -    6.74694      -  10.6 1850s\n",
      " 5552213 4133849   21.07092  107   21          -    6.74790      -  10.6 1855s\n",
      " 5567349 4145306   12.73330   73   12          -    6.74905      -  10.6 1860s\n",
      " 5582301 4156164   30.02091  116   31          -    6.75014      -  10.6 1865s\n",
      " 5596302 4166109    7.99550   54    6          -    6.75098      -  10.6 1870s\n",
      " 5611535 4177190 infeasible  118               -    6.75195      -  10.6 1875s\n",
      " 5626813 4188611   24.28226  116   20          -    6.75307      -  10.6 1880s\n",
      " 5640824 4198477 infeasible   95               -    6.75401      -  10.6 1885s\n",
      " 5656072 4209635    8.19386   58    7          -    6.75535      -  10.6 1890s\n",
      " 5670562 4220599   35.88717  116   43          -    6.75637      -  10.6 1895s\n",
      " 5685475 4232068 infeasible  110               -    6.75751      -  10.6 1900s\n",
      " 5700423 4243297    8.85848   67    6          -    6.75868      -  10.6 1905s\n",
      " 5715396 4254423   10.48130   66    8          -    6.75977      -  10.6 1910s\n",
      " 5730882 4265887   17.03435   98   16          -    6.76081      -  10.6 1915s\n",
      " 5746034 4277189 infeasible  146               -    6.76185      -  10.6 1920s\n",
      " 5760330 4287622   45.19264  105   34          -    6.76268      -  10.6 1925s\n",
      " 5775632 4299079 infeasible  171               -    6.76380      -  10.6 1930s\n",
      " 5790226 4310083   10.69319   53    8          -    6.76474      -  10.6 1935s\n",
      " 5805920 4322020 infeasible  121               -    6.76590      -  10.6 1940s\n",
      " 5821538 4333641 infeasible   42               -    6.76681      -  10.6 1945s\n",
      " 5836922 4344890   11.46871   74   14          -    6.76767      -  10.6 1950s\n",
      " 5851672 4356031   45.02998  125   54          -    6.76884      -  10.6 1955s\n",
      " 5866510 4366584   15.49287   84   16          -    6.76997      -  10.6 1960s\n",
      " 5881463 4377222   20.28833   93   17          -    6.77126      -  10.6 1965s\n",
      " 5896968 4388590    8.58205   47   12          -    6.77221      -  10.6 1970s\n",
      " 5911839 4399690   16.92022   67   15          -    6.77314      -  10.6 1975s\n",
      " 5927725 4411363   27.32380   94   27          -    6.77426      -  10.6 1980s\n",
      " 5943406 4423179   19.51441  107   20          -    6.77511      -  10.6 1985s\n",
      " 5959262 4435100   30.74150  128   30          -    6.77623      -  10.6 1990s\n",
      " 5974069 4446146   45.57425  128   39          -    6.77724      -  10.6 1995s\n",
      " 5989512 4457674 infeasible   43               -    6.77862      -  10.6 2000s\n",
      " 6005469 4469870    7.68890   37    4          -    6.77993      -  10.6 2005s\n",
      " 6021129 4481692   19.87228  114   21          -    6.78065      -  10.6 2010s\n",
      " 6036677 4493941   11.16831  108    9          -    6.78176      -  10.6 2015s\n",
      " 6052135 4505898 infeasible  150               -    6.78273      -  10.6 2020s\n",
      " 6067836 4518121   11.78249   83   10          -    6.78371      -  10.6 2025s\n",
      " 6084417 4530881   28.70339  125   13          -    6.78456      -  10.6 2030s\n",
      " 6099991 4542885   25.81148  185    9          -    6.78535      -  10.6 2035s\n",
      " 6116615 4555794   11.34849   88   10          -    6.78647      -  10.6 2040s\n",
      " 6133365 4568694   22.86245  117   26          -    6.78759      -  10.6 2045s\n",
      " 6149286 4581374   16.59039   89   16          -    6.78857      -  10.5 2050s\n",
      " 6164360 4592583 infeasible  104               -    6.78957      -  10.5 2055s\n",
      " 6180099 4604868   21.86739  124   23          -    6.79051      -  10.5 2060s\n",
      " 6195974 4617042   16.48731  106   17          -    6.79147      -  10.5 2065s\n",
      " 6211171 4628272   14.89138   86   14          -    6.79231      -  10.5 2070s\n",
      " 6227011 4640440    8.32643   53    6          -    6.79331      -  10.5 2075s\n",
      " 6243225 4652702   14.10361   83   11          -    6.79447      -  10.5 2080s\n",
      " 6258573 4664348 infeasible   70               -    6.79558      -  10.5 2085s\n",
      " 6274876 4676445   13.43873   63   19          -    6.79658      -  10.5 2090s\n",
      " 6288850 4686929    7.68598   53    4          -    6.79756      -  10.5 2095s\n",
      " 6304804 4699007    7.18790   53    6          -    6.79854      -  10.5 2100s\n",
      " 6319842 4710318    7.44357   40    4          -    6.79960      -  10.5 2105s\n",
      " 6335390 4722157   16.89508  128   14          -    6.80042      -  10.5 2110s\n",
      " 6349329 4732672   13.15700   89   11          -    6.80123      -  10.5 2115s\n",
      " 6364699 4744469   39.17960  132   45          -    6.80221      -  10.5 2120s\n",
      " 6380490 4756376   16.35395   91   16          -    6.80336      -  10.5 2125s\n",
      " 6396404 4768056   13.81000   89   13          -    6.80440      -  10.5 2130s\n",
      " 6412257 4779622    9.45980   48    7          -    6.80525      -  10.5 2135s\n",
      " 6427045 4790555   51.22081  124   41          -    6.80626      -  10.5 2140s\n",
      " 6441754 4801321 infeasible  120               -    6.80702      -  10.5 2145s\n",
      " 6455814 4811722    7.32993   47    5          -    6.80788      -  10.5 2150s\n",
      " 6470935 4822760   16.84858  117   20          -    6.80887      -  10.5 2155s\n",
      " 6486351 4834021 infeasible   75               -    6.80976      -  10.5 2160s\n",
      " 6501429 4845282    8.85458   51    7          -    6.81070      -  10.5 2165s\n",
      " 6517627 4857508   16.07857   88   14          -    6.81151      -  10.5 2170s\n",
      " 6531611 4867719 infeasible  103               -    6.81223      -  10.5 2175s\n"
     ]
    }
   ],
   "source": [
    "from cobra.solvers import gurobi_solver\n",
    "from gurobipy import *\n",
    "\n",
    "milp = gurobi_solver.create_problem(stacker.model)\n",
    "milp.ModelSense = GRB.MINIMIZE\n",
    "#milp.ModelSense = GRB.MAXIMIZE\n",
    "\n",
    "milp.Params.IntFeasTol = 1e-9\n",
    "milp.Params.OutputFlag = 1\n",
    "milp.Params.FeasibilityTol = 1e-9\n",
    "milp.Params.OptimalityTol = 1e-9\n",
    "milp.optimize()"
   ]
  },
  {
   "cell_type": "code",
   "execution_count": 51,
   "metadata": {
    "collapsed": false,
    "deletable": true,
    "editable": true
   },
   "outputs": [
    {
     "name": "stdout",
     "output_type": "stream",
     "text": [
      "Number of non-zero binaries: 0\n",
      "Initial mu_crowd=nan. Fitted within 100%: 0 <= 0.873922 <= 1.1\n",
      "Initial mu_crowd=nan. Fitted within 100%: 0 <= 0.873922 <= 1.48\n"
     ]
    }
   ],
   "source": [
    "sol = gurobi_solver.format_solution(milp, stacker.model)\n",
    "yopt = [sol.x_dict[rxn.id] for rxn in stacker.model.reactions.query('binary_')]\n",
    "print('Number of non-zero binaries: %g' % sum(yopt))\n",
    "for mdl_ind,mdl in iteritems(stacker.model_dict):\n",
    "    rxn_mu = stacker.model.reactions.get_by_id(mu_id+'_%s'%mdl_ind)    \n",
    "    muopt = sol.x_dict[rxn_mu.id]\n",
    "    print('Initial mu_crowd=%g. Fitted within %g%%: %g <= %g <= %g' % (mu_crowd0, 100*F_TOL, rxn_mu.lower_bound, muopt, rxn_mu.upper_bound))"
   ]
  },
  {
   "cell_type": "code",
   "execution_count": null,
   "metadata": {
    "collapsed": false
   },
   "outputs": [],
   "source": [
    "stacker.model.reactions.binary_ACALD00.metabolites"
   ]
  },
  {
   "cell_type": "code",
   "execution_count": null,
   "metadata": {
    "collapsed": false,
    "deletable": true,
    "editable": true,
    "scrolled": true
   },
   "outputs": [],
   "source": [
    "# Fitted parameters\n",
    "kfit_dict = {}\n",
    "for group_id, var_dict in iteritems(var_cons_dict):\n",
    "    var = var_dict[0]\n",
    "    cons = var_dict[1]\n",
    "    a0  = var_dict[0][2]\n",
    "    kfit = 0.\n",
    "    for l,pwr in enumerate(powers):\n",
    "        for k,digit in enumerate(digits):            \n",
    "            yid = 'binary_%s%s%s' % (group_id,k,l)\n",
    "            y   = sol.x_dict[yid]\n",
    "            if abs(y)>1e-10:\n",
    "#                 print yid, y\n",
    "#             if abs(y)<1e-10:\n",
    "#                 print yid, y\n",
    "                pass\n",
    "            kfit += y*a0*radix**pwr*digit\n",
    "    kfit_dict[group_id] = kfit"
   ]
  },
  {
   "cell_type": "code",
   "execution_count": null,
   "metadata": {
    "collapsed": false,
    "deletable": true,
    "editable": true
   },
   "outputs": [],
   "source": [
    "[(k,v) for k,v in iteritems(kfit_dict) if abs(v)>1e-10]"
   ]
  },
  {
   "cell_type": "markdown",
   "metadata": {
    "deletable": true,
    "editable": true
   },
   "source": [
    "### Plug back in to be sure"
   ]
  },
  {
   "cell_type": "markdown",
   "metadata": {
    "collapsed": true,
    "deletable": true,
    "editable": true
   },
   "source": [
    "#----------------------------------------\n",
    "# Starting from basal model\n",
    "ijofit = load_json_model('/home/laurence/ME/models/BiGG_M/json/e_coli_core.json')\n",
    "crowding_bound = ijomc.metabolites.crowding._bound\n",
    "crowding = Constraint('crowding')\n",
    "crowding._bound = crowding_bound\n",
    "crowding._constraint_sense = 'L'\n",
    "for rid,kfit in iteritems(kfit_dict):\n",
    "    rxn = ijofit.reactions.get_by_id(rid)\n",
    "    rxn.add_metabolites({crowding:kfit})"
   ]
  },
  {
   "cell_type": "markdown",
   "metadata": {
    "collapsed": false,
    "deletable": true,
    "editable": true
   },
   "source": [
    "ijofit.optimize()\n",
    "print('Mu=%g' % ijofit.reactions.BIOMASS_Ecoli_core_w_GAM.x)"
   ]
  },
  {
   "cell_type": "code",
   "execution_count": null,
   "metadata": {
    "collapsed": true,
    "deletable": true,
    "editable": true
   },
   "outputs": [],
   "source": []
  }
 ],
 "metadata": {
  "kernelspec": {
   "display_name": "Python 2",
   "language": "python",
   "name": "python2"
  },
  "language_info": {
   "codemirror_mode": {
    "name": "ipython",
    "version": 2
   },
   "file_extension": ".py",
   "mimetype": "text/x-python",
   "name": "python",
   "nbconvert_exporter": "python",
   "pygments_lexer": "ipython2",
   "version": "2.7.14"
  }
 },
 "nbformat": 4,
 "nbformat_minor": 2
}
