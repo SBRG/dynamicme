{
 "cells": [
  {
   "cell_type": "markdown",
   "metadata": {
    "deletable": true,
    "editable": true
   },
   "source": [
    "# Toy example for Radix-based for multiple conditions"
   ]
  },
  {
   "cell_type": "code",
   "execution_count": 1,
   "metadata": {
    "collapsed": true,
    "deletable": true,
    "editable": true
   },
   "outputs": [],
   "source": [
    "SCALE_CROWDING=False\n",
    "PREVENT_ZERO = True"
   ]
  },
  {
   "cell_type": "code",
   "execution_count": 2,
   "metadata": {
    "collapsed": false,
    "deletable": true,
    "editable": true
   },
   "outputs": [],
   "source": [
    "%load_ext line_profiler"
   ]
  },
  {
   "cell_type": "code",
   "execution_count": 3,
   "metadata": {
    "collapsed": false,
    "deletable": true,
    "editable": true
   },
   "outputs": [
    {
     "name": "stdout",
     "output_type": "stream",
     "text": [
      "(<type 'exceptions.ImportError'>, ImportError('No module named cplex',), <traceback object at 0x7fadcaf0ef80>)\n"
     ]
    }
   ],
   "source": [
    "from gurobipy import *\n",
    "\n",
    "import seaborn as sns\n",
    "import pandas as pd\n",
    "import matplotlib.pyplot as plt\n",
    "import numpy as np\n",
    "\n",
    "plt.rcParams['svg.fonttype'] = 'none'\n",
    "pd.set_option('display.max_colwidth', -1)\n",
    "%matplotlib inline\n",
    "\n",
    "from dynamicme.decomposition import Decomposer\n",
    "from dynamicme.callback_gurobi import cb_benders\n",
    "from dynamicme.optimize import Optimizer, StackOptimizer\n",
    "from dynamicme.optimize import Constraint, Variable\n",
    "\n",
    "from cobra.io import load_json_model\n",
    "from cobra import Metabolite, Reaction\n",
    "from six import iteritems\n",
    "\n",
    "import numpy as np\n",
    "import cobra"
   ]
  },
  {
   "cell_type": "markdown",
   "metadata": {
    "deletable": true,
    "editable": true
   },
   "source": [
    "### Try optimizing using radix for one condition first"
   ]
  },
  {
   "cell_type": "code",
   "execution_count": 88,
   "metadata": {
    "collapsed": true
   },
   "outputs": [],
   "source": [
    "#----------------------------------------\n",
    "# Starting from basal model\n",
    "ijomc = load_json_model('/home/laurence/ME/models/BiGG_M/json/e_coli_core.json')\n",
    "mdl_ref = ijomc\n",
    "keff0 = 1./65/3600\n",
    "#crowding_bound = 0.0003\n",
    "crowding_bound0 = 0.001\n",
    "crowding_bound = crowding_bound0\n",
    "\n",
    "not_crowded = ['ATPM']\n",
    "rxns_c = [r for r in ijomc.reactions if all([m.compartment=='c' for m in r.metabolites.keys()]) and 'BIOMASS' not in r.id and r.id not in not_crowded]\n",
    "crowding_dict = {rxn:keff0 for rxn in rxns_c}\n",
    "#----------------------------------------\n",
    "\n",
    "# Temporarily add crowding constraint for the duality gap constraint\n",
    "crowding = Constraint('crowding')\n",
    "crowding._bound = crowding_bound\n",
    "crowding._constraint_sense = 'L'\n",
    "for rxn,keff in iteritems(crowding_dict):\n",
    "    rxn.add_metabolites({crowding:keff})"
   ]
  },
  {
   "cell_type": "code",
   "execution_count": 5,
   "metadata": {
    "collapsed": false,
    "deletable": true,
    "editable": true
   },
   "outputs": [
    {
     "name": "stdout",
     "output_type": "stream",
     "text": [
      "0.873921506968\n"
     ]
    }
   ],
   "source": [
    "ijomc.optimize()\n",
    "mu_crowd0 = ijomc.reactions.BIOMASS_Ecoli_core_w_GAM.x\n",
    "print(mu_crowd0)"
   ]
  },
  {
   "cell_type": "code",
   "execution_count": 98,
   "metadata": {
    "collapsed": true,
    "deletable": true,
    "editable": true
   },
   "outputs": [],
   "source": [
    "#N_CONDS = 2\n",
    "\n",
    "df_meas = pd.read_csv('/home/laurence/ME/data/dynamicME/beg/growth_meas.csv')\n",
    "ex_rxns = [r for r in df_meas.ex_rxn.unique() if mdl_ref.reactions.has_id(r)]\n",
    "df_meas = df_meas[ df_meas.ex_rxn.isin(ex_rxns)]\n",
    "conds = df_meas.substrate.unique()\n",
    "df_conds = pd.DataFrame([{'cond':r['substrate'], 'rxn':ex_rxn, 'lb':-10 if r['ex_rxn']==ex_rxn else 0, 'ub':1000., 'obj':0.} for i,r in df_meas.iterrows() for ex_rxn in ex_rxns])\n",
    "df_conds = df_conds[ df_conds.cond.isin(conds[0:N_CONDS])]"
   ]
  },
  {
   "cell_type": "code",
   "execution_count": 7,
   "metadata": {
    "collapsed": false,
    "deletable": true,
    "editable": true
   },
   "outputs": [],
   "source": [
    "stacker = StackOptimizer()\n",
    "stacker.stack_models(ijomc, df_conds)"
   ]
  },
  {
   "cell_type": "code",
   "execution_count": 8,
   "metadata": {
    "collapsed": false,
    "deletable": true,
    "editable": true
   },
   "outputs": [
    {
     "data": {
      "text/plain": [
       "<Solution 1.75 at 0x7fad6ac87c90>"
      ]
     },
     "execution_count": 8,
     "metadata": {},
     "output_type": "execute_result"
    }
   ],
   "source": [
    "stacker.model.optimize(solver='gurobi')"
   ]
  },
  {
   "cell_type": "code",
   "execution_count": 9,
   "metadata": {
    "collapsed": false,
    "deletable": true,
    "editable": true
   },
   "outputs": [
    {
     "data": {
      "text/plain": [
       "<Solution 0.87 at 0x7fad6ac87990>"
      ]
     },
     "execution_count": 9,
     "metadata": {},
     "output_type": "execute_result"
    }
   ],
   "source": [
    "stacker.model_dict['fructose'].optimize()"
   ]
  },
  {
   "cell_type": "code",
   "execution_count": 10,
   "metadata": {
    "collapsed": false,
    "deletable": true,
    "editable": true
   },
   "outputs": [
    {
     "name": "stdout",
     "output_type": "stream",
     "text": [
      "0.873921506968\n",
      "-10.0\n",
      "0.0\n"
     ]
    }
   ],
   "source": [
    "stacker.model_dict['glucose'].optimize()\n",
    "print stacker.model_dict['glucose'].reactions.query('BIOMASS')[0].x\n",
    "print stacker.model_dict['glucose'].reactions.query('EX_glc')[0].x\n",
    "print stacker.model_dict['glucose'].reactions.query('EX_fru')[0].x"
   ]
  },
  {
   "cell_type": "code",
   "execution_count": 11,
   "metadata": {
    "collapsed": false,
    "deletable": true,
    "editable": true
   },
   "outputs": [
    {
     "name": "stdout",
     "output_type": "stream",
     "text": [
      "0.873921506966\n",
      "0.0\n",
      "-10.0\n"
     ]
    }
   ],
   "source": [
    "stacker.model_dict['fructose'].optimize()\n",
    "print stacker.model_dict['fructose'].reactions.query('BIOMASS')[0].x\n",
    "print stacker.model_dict['fructose'].reactions.query('EX_glc')[0].x\n",
    "print stacker.model_dict['fructose'].reactions.query('EX_fru')[0].x"
   ]
  },
  {
   "cell_type": "code",
   "execution_count": 12,
   "metadata": {
    "collapsed": false,
    "deletable": true,
    "editable": true
   },
   "outputs": [],
   "source": [
    "for mdl_ind,mdl in iteritems(stacker.model_dict):\n",
    "    opt = Optimizer(mdl)\n",
    "    gapi = opt.add_duality_gap_constraint(INF=1e3, inplace=True, index=mdl_ind)"
   ]
  },
  {
   "cell_type": "code",
   "execution_count": 13,
   "metadata": {
    "collapsed": false,
    "deletable": true,
    "editable": true
   },
   "outputs": [
    {
     "data": {
      "text/plain": [
       "<Solution 3.50 at 0x7fae0ce1ce50>"
      ]
     },
     "execution_count": 13,
     "metadata": {},
     "output_type": "execute_result"
    }
   ],
   "source": [
    "stacker.model.optimize(solver='gurobi')"
   ]
  },
  {
   "cell_type": "code",
   "execution_count": 14,
   "metadata": {
    "collapsed": false,
    "deletable": true,
    "editable": true
   },
   "outputs": [
    {
     "name": "stdout",
     "output_type": "stream",
     "text": [
      "('Radix:', 2.0)\n",
      "('Powers:', array([-3, -2, -1,  0,  1,  2,  3]))\n",
      "('Digits:', [1.0])\n"
     ]
    },
    {
     "name": "stderr",
     "output_type": "stream",
     "text": [
      "/usr/lib/python2.7/site-packages/ipykernel/__main__.py:9 \u001b[1;31mDeprecationWarning\u001b[0m: object of type <type 'float'> cannot be safely interpreted as an integer.\n"
     ]
    }
   ],
   "source": [
    "import numpy as np\n",
    "\n",
    "radix = 2.\n",
    "print('Radix:',radix)\n",
    "powers = np.arange(-3,4)\n",
    "print('Powers:', powers)\n",
    "digits_per_power = radix\n",
    "pwr_max = max(powers)\n",
    "digits = list(set(np.linspace(1, radix-1, digits_per_power)))\n",
    "print('Digits:', digits)\n",
    "\n",
    "# Discretize crowding coefficients into radix\n",
    "#crowding_p = gap.metabolites.crowding\n",
    "#crowding_cons = stacker.model.metabolites.query('crowding')\n",
    "\n",
    "var_cons_dict = {}\n",
    "# Get the group ID from reference model\n",
    "mdl_ref = ijomc\n",
    "crowding_ref = mdl_ref.metabolites.crowding\n",
    "for rxn_ref in crowding_ref.reactions:    \n",
    "    for mdl_ind, mdl in iteritems(stacker.model_dict):\n",
    "        crowding_p = mdl.metabolites.get_by_id('crowding_%s'%mdl_ind)\n",
    "        var_d = mdl.reactions.get_by_id('wa_%s'%crowding_p.id)\n",
    "        rxn_p = mdl.reactions.get_by_id(rxn_ref.id+'_%s'%mdl_ind)\n",
    "        # Get the coefficient in the dual\n",
    "        cons_ds = [m for m in var_d.metabolites.keys() if rxn_p.id==m.id]        \n",
    "        a0 = rxn_p.metabolites[crowding_p]\n",
    "        if var_cons_dict.has_key(rxn_ref.id):\n",
    "            var_cons_dict[rxn_ref.id] += [(rxn_p, crowding_p, a0)] + [(var_d, cons_d, a0) for cons_d in cons_ds]\n",
    "        else:\n",
    "            var_cons_dict[rxn_ref.id] = [(rxn_p, crowding_p, a0)] + [(var_d, cons_d, a0) for cons_d in cons_ds]"
   ]
  },
  {
   "cell_type": "code",
   "execution_count": 15,
   "metadata": {
    "collapsed": false,
    "deletable": true,
    "editable": true
   },
   "outputs": [],
   "source": [
    "# %lprun -f opt.to_radix opt.to_radix(gap, var_cons_dict, radix, powers, digits_per_power, prevent_zero=True)"
   ]
  },
  {
   "cell_type": "code",
   "execution_count": 16,
   "metadata": {
    "collapsed": false,
    "deletable": true,
    "editable": true
   },
   "outputs": [
    {
     "name": "stdout",
     "output_type": "stream",
     "text": [
      "CPU times: user 210 ms, sys: 22.6 ms, total: 232 ms\n",
      "Wall time: 213 ms\n"
     ]
    },
    {
     "data": {
      "text/plain": [
       "[1.0]"
      ]
     },
     "execution_count": 16,
     "metadata": {},
     "output_type": "execute_result"
    }
   ],
   "source": [
    "%time opt.to_radix(stacker.model, var_cons_dict, radix, powers, digits=digits, prevent_zero=PREVENT_ZERO)"
   ]
  },
  {
   "cell_type": "code",
   "execution_count": 17,
   "metadata": {
    "collapsed": false,
    "deletable": true,
    "editable": true
   },
   "outputs": [],
   "source": [
    "relaxed = ['PGK','GLUDy','PGM','PGI','RPI']\n",
    "for rel in relaxed:\n",
    "    try:\n",
    "        cons_id = 'force_nonzero_%s'%rel\n",
    "        cons = stacker.model.metabolites.get_by_id(cons_id)\n",
    "        cons._bound = 0.\n",
    "    except KeyError:\n",
    "        print('Skipping non-existent constraint: %s' % cons_id)"
   ]
  },
  {
   "cell_type": "markdown",
   "metadata": {
    "deletable": true,
    "editable": true
   },
   "source": [
    "### Try scaling\n",
    "if SCALE_CROWDING:\n",
    "    crowding = stacker.model.metabolites.crowding\n",
    "    bound0  = crowding._bound\n",
    "    f_scale = crowding._bound\n",
    "    crowding._bound = bound0 / f_scale\n",
    "    for rxn in crowding.reactions:\n",
    "        rxn._metabolites[crowding] = rxn._metabolites[crowding]/f_scale"
   ]
  },
  {
   "cell_type": "code",
   "execution_count": 18,
   "metadata": {
    "collapsed": true,
    "deletable": true,
    "editable": true
   },
   "outputs": [],
   "source": [
    "for rxn in stacker.model.reactions:\n",
    "    rxn.objective_coefficient = 0.\n",
    "for rxn in stacker.model.reactions.query('binary'):\n",
    "    rxn.objective_coefficient = 1."
   ]
  },
  {
   "cell_type": "code",
   "execution_count": 27,
   "metadata": {
    "collapsed": false,
    "deletable": true,
    "editable": true
   },
   "outputs": [
    {
     "data": {
      "text/plain": [
       "11"
      ]
     },
     "execution_count": 27,
     "metadata": {},
     "output_type": "execute_result"
    }
   ],
   "source": [
    "milp.Status"
   ]
  },
  {
   "cell_type": "code",
   "execution_count": 28,
   "metadata": {
    "collapsed": false,
    "deletable": true,
    "editable": true
   },
   "outputs": [
    {
     "data": {
      "text/plain": [
       "0"
      ]
     },
     "execution_count": 28,
     "metadata": {},
     "output_type": "execute_result"
    }
   ],
   "source": [
    "milp.SolCount"
   ]
  },
  {
   "cell_type": "code",
   "execution_count": 47,
   "metadata": {
    "collapsed": false,
    "deletable": true,
    "editable": true
   },
   "outputs": [
    {
     "data": {
      "text/plain": [
       "array([1.   , 0.902, 0.804, 0.706, 0.608, 0.51 , 0.412, 0.314, 0.216,\n",
       "       0.118, 0.02 ])"
      ]
     },
     "execution_count": 47,
     "metadata": {},
     "output_type": "execute_result"
    }
   ],
   "source": [
    "from cobra.solvers import gurobi_solver\n",
    "from gurobipy import *\n",
    "\n",
    "F_TOL_FINAL = 0.02\n",
    "F_TOL_START = 1.\n",
    "N_FS =11\n",
    "F_TOLS = np.linspace(F_TOL_START, F_TOL_FINAL, N_FS)\n",
    "F_TOLS"
   ]
  },
  {
   "cell_type": "markdown",
   "metadata": {
    "deletable": true,
    "editable": true
   },
   "source": [
    "### TOOD: bisection on F_TOL instead of linear"
   ]
  },
  {
   "cell_type": "code",
   "execution_count": null,
   "metadata": {
    "collapsed": false,
    "deletable": true,
    "editable": true
   },
   "outputs": [
    {
     "name": "stdout",
     "output_type": "stream",
     "text": [
      "Condition=fructose. Initial mu_crowd=nan. Fitting within 100% of measured: 0 <= mu <= 1.1\n",
      "Condition=glucose. Initial mu_crowd=nan. Fitting within 100% of measured: 0 <= mu <= 1.48\n",
      "Changed value of parameter OutputFlag to 1\n",
      "   Prev: 0  Min: 0  Max: 1  Default: 1\n",
      "Changed value of parameter NodefileStart to 3.0\n",
      "   Prev: 1e+100  Min: 0.0  Max: 1e+100  Default: 1e+100\n",
      "Changed value of parameter TimeLimit to 7200.0\n",
      "   Prev: 1e+100  Min: 0.0  Max: 1e+100  Default: 1e+100\n",
      "Optimize a model with 6098 rows, 2396 columns and 16584 nonzeros\n",
      "Variable types: 2060 continuous, 336 integer (0 binary)\n",
      "Coefficient statistics:\n",
      "  Matrix range     [5e-07, 1e+03]\n",
      "  Objective range  [1e+00, 1e+00]\n",
      "  Bounds range     [1e+00, 1e+03]\n",
      "  RHS range        [1e-03, 1e+03]\n",
      "Presolve removed 1959 rows and 345 columns\n",
      "Presolve time: 0.03s\n",
      "Presolved: 4139 rows, 2051 columns, 12258 nonzeros\n",
      "Variable types: 1715 continuous, 336 integer (336 binary)\n",
      "\n",
      "Root relaxation: objective 4.300000e+01, 2237 iterations, 0.08 seconds\n",
      "\n",
      "    Nodes    |    Current Node    |     Objective Bounds      |     Work\n",
      " Expl Unexpl |  Obj  Depth IntInf | Incumbent    BestBd   Gap | It/Node Time\n",
      "\n",
      "     0     0   43.00000    0    2          -   43.00000      -     -    0s\n",
      "H    0     0                      73.0000000   43.00000  41.1%     -    0s\n",
      "     0     0   43.00000    0    2   73.00000   43.00000  41.1%     -    0s\n",
      "     0     2   43.00000    0    2   73.00000   43.00000  41.1%     -    0s\n",
      "H  975    21                      43.0000000   43.00000  0.00%  31.6    1s\n",
      "\n",
      "Explored 1004 nodes (35604 simplex iterations) in 1.52 seconds\n",
      "Thread count was 8 (of 8 available processors)\n",
      "\n",
      "Solution count 2: 43 73 \n",
      "\n",
      "Optimal solution found (tolerance 1.00e-04)\n",
      "Best objective 4.300000000000e+01, best bound 4.300000000000e+01, gap 0.0000%\n",
      "Condition=fructose. Initial mu_crowd=nan. Fitting within 90.2% of measured: 0.0539 <= mu <= 1.0461\n",
      "Condition=glucose. Initial mu_crowd=nan. Fitting within 90.2% of measured: 0.07252 <= mu <= 1.40748\n",
      "########################################\n",
      "Setting MIP warm-start values.\n",
      "Changed value of parameter OutputFlag to 1\n",
      "   Prev: 0  Min: 0  Max: 1  Default: 1\n",
      "Changed value of parameter NodefileStart to 3.0\n",
      "   Prev: 1e+100  Min: 0.0  Max: 1e+100  Default: 1e+100\n",
      "Changed value of parameter TimeLimit to 7200.0\n",
      "   Prev: 1e+100  Min: 0.0  Max: 1e+100  Default: 1e+100\n",
      "Optimize a model with 6098 rows, 2396 columns and 16584 nonzeros\n",
      "Variable types: 2060 continuous, 336 integer (0 binary)\n",
      "Coefficient statistics:\n",
      "  Matrix range     [5e-07, 1e+03]\n",
      "  Objective range  [1e+00, 1e+00]\n",
      "  Bounds range     [5e-02, 1e+03]\n",
      "  RHS range        [1e-03, 1e+03]\n",
      "Presolve removed 2187 rows and 433 columns\n",
      "Presolve time: 0.03s\n",
      "Presolved: 3911 rows, 1963 columns, 11723 nonzeros\n",
      "Variable types: 1648 continuous, 315 integer (315 binary)\n",
      "\n",
      "Root relaxation: objective 4.300000e+01, 1455 iterations, 0.02 seconds\n",
      "\n",
      "    Nodes    |    Current Node    |     Objective Bounds      |     Work\n",
      " Expl Unexpl |  Obj  Depth IntInf | Incumbent    BestBd   Gap | It/Node Time\n",
      "\n",
      "     0     0   43.00000    0   18          -   43.00000      -     -    0s\n",
      "     0     0   43.00000    0   18          -   43.00000      -     -    0s\n",
      "     0     0   43.00000    0   18          -   43.00000      -     -    0s\n",
      "     0     0   43.00000    0    6          -   43.00000      -     -    0s\n",
      "     0     0   43.00000    0    6          -   43.00000      -     -    0s\n",
      "     0     0   43.00000    0    6          -   43.00000      -     -    0s\n",
      "H    0     0                      56.0000000   43.00000  23.2%     -    0s\n",
      "     0     0   43.00000    0    6   56.00000   43.00000  23.2%     -    0s\n",
      "     0     2   43.00000    0    6   56.00000   43.00000  23.2%     -    0s\n",
      "H 1045    28                      43.0000000   43.00000  0.00%  33.6    1s\n",
      "\n",
      "Cutting planes:\n",
      "  Implied bound: 11\n",
      "  Flow cover: 5\n",
      "\n",
      "Explored 1045 nodes (39388 simplex iterations) in 1.87 seconds\n",
      "Thread count was 8 (of 8 available processors)\n",
      "\n",
      "Solution count 2: 43 56 \n",
      "\n",
      "Optimal solution found (tolerance 1.00e-04)\n",
      "Best objective 4.300000000000e+01, best bound 4.300000000000e+01, gap 0.0000%\n",
      "Condition=fructose. Initial mu_crowd=nan. Fitting within 80.4% of measured: 0.1078 <= mu <= 0.9922\n",
      "Condition=glucose. Initial mu_crowd=nan. Fitting within 80.4% of measured: 0.14504 <= mu <= 1.33496\n",
      "########################################\n",
      "Setting MIP warm-start values.\n",
      "Changed value of parameter OutputFlag to 1\n",
      "   Prev: 0  Min: 0  Max: 1  Default: 1\n",
      "Changed value of parameter NodefileStart to 3.0\n",
      "   Prev: 1e+100  Min: 0.0  Max: 1e+100  Default: 1e+100\n",
      "Changed value of parameter TimeLimit to 7200.0\n",
      "   Prev: 1e+100  Min: 0.0  Max: 1e+100  Default: 1e+100\n",
      "Optimize a model with 6098 rows, 2396 columns and 16584 nonzeros\n",
      "Variable types: 2060 continuous, 336 integer (0 binary)\n",
      "Coefficient statistics:\n",
      "  Matrix range     [5e-07, 1e+03]\n",
      "  Objective range  [1e+00, 1e+00]\n",
      "  Bounds range     [1e-01, 1e+03]\n",
      "  RHS range        [1e-03, 1e+03]\n",
      "Presolve removed 2187 rows and 433 columns\n",
      "Presolve time: 0.03s\n",
      "Presolved: 3911 rows, 1963 columns, 11723 nonzeros\n",
      "Variable types: 1648 continuous, 315 integer (315 binary)\n",
      "\n",
      "Root relaxation: objective 4.300000e+01, 1570 iterations, 0.03 seconds\n",
      "\n",
      "    Nodes    |    Current Node    |     Objective Bounds      |     Work\n",
      " Expl Unexpl |  Obj  Depth IntInf | Incumbent    BestBd   Gap | It/Node Time\n",
      "\n",
      "     0     0   43.00000    0    4          -   43.00000      -     -    0s\n",
      "     0     0   43.00000    0    4          -   43.00000      -     -    0s\n",
      "     0     0   43.00000    0    2          -   43.00000      -     -    0s\n",
      "H    0     0                      55.0000000   43.00000  21.8%     -    0s\n",
      "     0     0   43.00000    0    2   55.00000   43.00000  21.8%     -    0s\n",
      "     0     2   43.00000    0    2   55.00000   43.00000  21.8%     -    0s\n",
      "H  779   492                      44.0000000   43.00000  2.27%  42.1    1s\n",
      "H  822    25                      43.0000000   43.00000  0.00%  40.1    1s\n",
      "\n",
      "Cutting planes:\n",
      "  Implied bound: 2\n",
      "  Flow cover: 2\n",
      "\n",
      "Explored 822 nodes (35853 simplex iterations) in 1.59 seconds\n",
      "Thread count was 8 (of 8 available processors)\n",
      "\n",
      "Solution count 3: 43 44 55 \n",
      "\n",
      "Optimal solution found (tolerance 1.00e-04)\n",
      "Best objective 4.300000000000e+01, best bound 4.300000000000e+01, gap 0.0000%\n",
      "Condition=fructose. Initial mu_crowd=nan. Fitting within 70.6% of measured: 0.1617 <= mu <= 0.9383\n",
      "Condition=glucose. Initial mu_crowd=nan. Fitting within 70.6% of measured: 0.21756 <= mu <= 1.26244\n",
      "########################################\n",
      "Setting MIP warm-start values.\n",
      "Changed value of parameter OutputFlag to 1\n",
      "   Prev: 0  Min: 0  Max: 1  Default: 1\n",
      "Changed value of parameter NodefileStart to 3.0\n",
      "   Prev: 1e+100  Min: 0.0  Max: 1e+100  Default: 1e+100\n",
      "Changed value of parameter TimeLimit to 7200.0\n",
      "   Prev: 1e+100  Min: 0.0  Max: 1e+100  Default: 1e+100\n",
      "Optimize a model with 6098 rows, 2396 columns and 16584 nonzeros\n",
      "Variable types: 2060 continuous, 336 integer (0 binary)\n",
      "Coefficient statistics:\n",
      "  Matrix range     [5e-07, 1e+03]\n",
      "  Objective range  [1e+00, 1e+00]\n",
      "  Bounds range     [2e-01, 1e+03]\n",
      "  RHS range        [1e-03, 1e+03]\n",
      "Presolve removed 2187 rows and 433 columns\n",
      "Presolve time: 0.03s\n",
      "Presolved: 3911 rows, 1963 columns, 11723 nonzeros\n",
      "Variable types: 1648 continuous, 315 integer (315 binary)\n",
      "\n",
      "Root relaxation: objective 4.300000e+01, 1776 iterations, 0.04 seconds\n",
      "\n",
      "    Nodes    |    Current Node    |     Objective Bounds      |     Work\n",
      " Expl Unexpl |  Obj  Depth IntInf | Incumbent    BestBd   Gap | It/Node Time\n",
      "\n",
      "     0     0   43.00000    0   20          -   43.00000      -     -    0s\n",
      "     0     0   43.00000    0   24          -   43.00000      -     -    0s\n",
      "     0     0   43.00000    0   24          -   43.00000      -     -    0s\n",
      "     0     0   43.00000    0    4          -   43.00000      -     -    0s\n",
      "     0     0   43.00000    0    4          -   43.00000      -     -    0s\n",
      "H    0     0                      54.0000000   43.00000  20.4%     -    0s\n",
      "     0     0   43.00000    0    4   54.00000   43.00000  20.4%     -    0s\n",
      "     0     2   43.00000    0    4   54.00000   43.00000  20.4%     -    0s\n",
      "*  552    14              73      43.0000000   43.00000  0.00%  38.8    1s\n",
      "\n",
      "Cutting planes:\n",
      "  Implied bound: 10\n",
      "  Flow cover: 8\n",
      "\n",
      "Explored 555 nodes (26190 simplex iterations) in 1.15 seconds\n",
      "Thread count was 8 (of 8 available processors)\n",
      "\n",
      "Solution count 2: 43 54 \n",
      "\n",
      "Optimal solution found (tolerance 1.00e-04)\n",
      "Best objective 4.300000000000e+01, best bound 4.300000000000e+01, gap 0.0000%\n",
      "Condition=fructose. Initial mu_crowd=nan. Fitting within 60.8% of measured: 0.2156 <= mu <= 0.8844\n",
      "Condition=glucose. Initial mu_crowd=nan. Fitting within 60.8% of measured: 0.29008 <= mu <= 1.18992\n",
      "########################################\n",
      "Setting MIP warm-start values.\n",
      "Changed value of parameter OutputFlag to 1\n",
      "   Prev: 0  Min: 0  Max: 1  Default: 1\n",
      "Changed value of parameter NodefileStart to 3.0\n",
      "   Prev: 1e+100  Min: 0.0  Max: 1e+100  Default: 1e+100\n",
      "Changed value of parameter TimeLimit to 7200.0\n",
      "   Prev: 1e+100  Min: 0.0  Max: 1e+100  Default: 1e+100\n",
      "Optimize a model with 6098 rows, 2396 columns and 16584 nonzeros\n",
      "Variable types: 2060 continuous, 336 integer (0 binary)\n",
      "Coefficient statistics:\n",
      "  Matrix range     [5e-07, 1e+03]\n",
      "  Objective range  [1e+00, 1e+00]\n",
      "  Bounds range     [2e-01, 1e+03]\n",
      "  RHS range        [1e-03, 1e+03]\n",
      "Presolve removed 2187 rows and 433 columns\n",
      "Presolve time: 0.03s\n",
      "Presolved: 3911 rows, 1963 columns, 11723 nonzeros\n",
      "Variable types: 1648 continuous, 315 integer (315 binary)\n",
      "\n",
      "Root relaxation: objective 4.300000e+01, 1502 iterations, 0.02 seconds\n",
      "\n",
      "    Nodes    |    Current Node    |     Objective Bounds      |     Work\n",
      " Expl Unexpl |  Obj  Depth IntInf | Incumbent    BestBd   Gap | It/Node Time\n",
      "\n",
      "     0     0   43.00000    0    4          -   43.00000      -     -    0s\n",
      "     0     0   43.00000    0    6          -   43.00000      -     -    0s\n",
      "     0     0   43.00000    0    6          -   43.00000      -     -    0s\n",
      "     0     0   43.00000    0    6          -   43.00000      -     -    0s\n",
      "     0     2   43.00000    0    6          -   43.00000      -     -    0s\n",
      "*  646    30              88      43.0000000   43.00000  0.00%  32.5    1s\n",
      "\n",
      "Cutting planes:\n",
      "  Gomory: 1\n",
      "  Implied bound: 4\n",
      "  Flow cover: 1\n",
      "\n",
      "Explored 790 nodes (26497 simplex iterations) in 1.13 seconds\n",
      "Thread count was 8 (of 8 available processors)\n",
      "\n",
      "Solution count 1: 43 \n",
      "\n",
      "Optimal solution found (tolerance 1.00e-04)\n",
      "Best objective 4.300000000000e+01, best bound 4.300000000000e+01, gap 0.0000%\n",
      "Condition=fructose. Initial mu_crowd=nan. Fitting within 51% of measured: 0.2695 <= mu <= 0.8305\n",
      "Condition=glucose. Initial mu_crowd=nan. Fitting within 51% of measured: 0.3626 <= mu <= 1.1174\n",
      "########################################\n",
      "Setting MIP warm-start values.\n",
      "Changed value of parameter OutputFlag to 1\n",
      "   Prev: 0  Min: 0  Max: 1  Default: 1\n",
      "Changed value of parameter NodefileStart to 3.0\n",
      "   Prev: 1e+100  Min: 0.0  Max: 1e+100  Default: 1e+100\n",
      "Changed value of parameter TimeLimit to 7200.0\n",
      "   Prev: 1e+100  Min: 0.0  Max: 1e+100  Default: 1e+100\n",
      "Optimize a model with 6098 rows, 2396 columns and 16584 nonzeros\n",
      "Variable types: 2060 continuous, 336 integer (0 binary)\n",
      "Coefficient statistics:\n",
      "  Matrix range     [5e-07, 1e+03]\n",
      "  Objective range  [1e+00, 1e+00]\n",
      "  Bounds range     [3e-01, 1e+03]\n",
      "  RHS range        [1e-03, 1e+03]\n",
      "Presolve removed 2187 rows and 433 columns\n",
      "Presolve time: 0.03s\n",
      "Presolved: 3911 rows, 1963 columns, 11723 nonzeros\n",
      "Variable types: 1648 continuous, 315 integer (315 binary)\n",
      "\n",
      "Root relaxation: objective 4.300000e+01, 1426 iterations, 0.03 seconds\n",
      "\n",
      "    Nodes    |    Current Node    |     Objective Bounds      |     Work\n",
      " Expl Unexpl |  Obj  Depth IntInf | Incumbent    BestBd   Gap | It/Node Time\n",
      "\n",
      "     0     0   43.00000    0    4          -   43.00000      -     -    0s\n",
      "     0     0   43.00000    0    4          -   43.00000      -     -    0s\n",
      "     0     0   43.00000    0    4          -   43.00000      -     -    0s\n",
      "     0     0   43.00000    0    4          -   43.00000      -     -    0s\n",
      "     0     0   43.00000    0    4          -   43.00000      -     -    0s\n",
      "H    0     0                      48.0000000   43.00000  10.4%     -    0s\n",
      "     0     2   43.00000    0    4   48.00000   43.00000  10.4%     -    0s\n",
      "H  780   429                      44.0000000   43.00000  2.27%  34.9    1s\n",
      "H  859    19                      43.0000000   43.00000  0.00%  33.6    1s\n",
      "\n",
      "Cutting planes:\n",
      "  Gomory: 1\n",
      "  Implied bound: 12\n",
      "  Flow cover: 5\n",
      "\n",
      "Explored 859 nodes (31765 simplex iterations) in 1.45 seconds\n",
      "Thread count was 8 (of 8 available processors)\n",
      "\n",
      "Solution count 3: 43 44 48 \n",
      "\n",
      "Optimal solution found (tolerance 1.00e-04)\n",
      "Best objective 4.300000000000e+01, best bound 4.300000000000e+01, gap 0.0000%\n",
      "Condition=fructose. Initial mu_crowd=nan. Fitting within 41.2% of measured: 0.3234 <= mu <= 0.7766\n",
      "Condition=glucose. Initial mu_crowd=nan. Fitting within 41.2% of measured: 0.43512 <= mu <= 1.04488\n",
      "########################################\n",
      "Setting MIP warm-start values.\n",
      "Changed value of parameter OutputFlag to 1\n",
      "   Prev: 0  Min: 0  Max: 1  Default: 1\n",
      "Changed value of parameter NodefileStart to 3.0\n",
      "   Prev: 1e+100  Min: 0.0  Max: 1e+100  Default: 1e+100\n",
      "Changed value of parameter TimeLimit to 7200.0\n",
      "   Prev: 1e+100  Min: 0.0  Max: 1e+100  Default: 1e+100\n",
      "Optimize a model with 6098 rows, 2396 columns and 16584 nonzeros\n",
      "Variable types: 2060 continuous, 336 integer (0 binary)\n",
      "Coefficient statistics:\n",
      "  Matrix range     [5e-07, 1e+03]\n",
      "  Objective range  [1e+00, 1e+00]\n",
      "  Bounds range     [3e-01, 1e+03]\n",
      "  RHS range        [1e-03, 1e+03]\n",
      "Presolve removed 2187 rows and 433 columns\n",
      "Presolve time: 0.03s\n",
      "Presolved: 3911 rows, 1963 columns, 11723 nonzeros\n",
      "Variable types: 1648 continuous, 315 integer (315 binary)\n",
      "\n",
      "Root relaxation: objective 4.300000e+01, 1368 iterations, 0.02 seconds\n",
      "\n",
      "    Nodes    |    Current Node    |     Objective Bounds      |     Work\n",
      " Expl Unexpl |  Obj  Depth IntInf | Incumbent    BestBd   Gap | It/Node Time\n",
      "\n",
      "     0     0   43.00000    0   14          -   43.00000      -     -    0s\n",
      "     0     0   43.00000    0   20          -   43.00000      -     -    0s\n",
      "     0     0   43.00000    0   18          -   43.00000      -     -    0s\n",
      "     0     0   43.00000    0    2          -   43.00000      -     -    0s\n",
      "     0     0   43.00000    0    2          -   43.00000      -     -    0s\n",
      "     0     2   43.00000    0    2          -   43.00000      -     -    0s\n",
      "* 2364   600              67      43.0000000   43.00000  0.00%  23.0    4s\n",
      "\n",
      "Cutting planes:\n",
      "  Gomory: 2\n",
      "  Implied bound: 2\n",
      "  Flow cover: 8\n",
      "\n",
      "Explored 2522 nodes (92580 simplex iterations) in 4.70 seconds\n",
      "Thread count was 8 (of 8 available processors)\n",
      "\n",
      "Solution count 1: 43 \n",
      "\n",
      "Optimal solution found (tolerance 1.00e-04)\n",
      "Best objective 4.300000000000e+01, best bound 4.300000000000e+01, gap 0.0000%\n",
      "Condition=fructose. Initial mu_crowd=nan. Fitting within 31.4% of measured: 0.3773 <= mu <= 0.7227\n",
      "Condition=glucose. Initial mu_crowd=nan. Fitting within 31.4% of measured: 0.50764 <= mu <= 0.97236\n",
      "########################################\n",
      "Setting MIP warm-start values.\n",
      "Changed value of parameter OutputFlag to 1\n",
      "   Prev: 0  Min: 0  Max: 1  Default: 1\n",
      "Changed value of parameter NodefileStart to 3.0\n",
      "   Prev: 1e+100  Min: 0.0  Max: 1e+100  Default: 1e+100\n",
      "Changed value of parameter TimeLimit to 7200.0\n",
      "   Prev: 1e+100  Min: 0.0  Max: 1e+100  Default: 1e+100\n",
      "Optimize a model with 6098 rows, 2396 columns and 16584 nonzeros\n",
      "Variable types: 2060 continuous, 336 integer (0 binary)\n",
      "Coefficient statistics:\n",
      "  Matrix range     [5e-07, 1e+03]\n",
      "  Objective range  [1e+00, 1e+00]\n",
      "  Bounds range     [4e-01, 1e+03]\n",
      "  RHS range        [1e-03, 1e+03]\n",
      "Presolve removed 2187 rows and 433 columns\n",
      "Presolve time: 0.03s\n",
      "Presolved: 3911 rows, 1963 columns, 11723 nonzeros\n",
      "Variable types: 1648 continuous, 315 integer (315 binary)\n",
      "\n",
      "Root relaxation: objective 4.300000e+01, 1562 iterations, 0.03 seconds\n",
      "\n",
      "    Nodes    |    Current Node    |     Objective Bounds      |     Work\n",
      " Expl Unexpl |  Obj  Depth IntInf | Incumbent    BestBd   Gap | It/Node Time\n",
      "\n",
      "     0     0   43.00000    0   24          -   43.00000      -     -    0s\n",
      "     0     0   43.00000    0   30          -   43.00000      -     -    0s\n",
      "     0     0   43.00000    0   30          -   43.00000      -     -    0s\n",
      "     0     0   43.00000    0   18          -   43.00000      -     -    0s\n",
      "     0     0   43.00000    0   24          -   43.00000      -     -    0s\n",
      "     0     0   43.00000    0    4          -   43.00000      -     -    0s\n",
      "     0     0   43.00000    0    4          -   43.00000      -     -    0s\n",
      "     0     0   43.00000    0    4          -   43.00000      -     -    0s\n",
      "     0     0   43.00000    0    4          -   43.00000      -     -    0s\n",
      "     0     0   43.00000    0    4          -   43.00000      -     -    0s\n",
      "     0     2   43.00000    0    4          -   43.00000      -     -    1s\n",
      "H 1108   977                      46.0000000   43.00000  6.52%  32.9    3s\n",
      "  1745  1360   43.00000   59   16   46.00000   43.00000  6.52%  42.6    5s\n",
      "H 1746   766                      43.0000000   43.00000  0.00%  42.5    5s\n",
      "\n",
      "Cutting planes:\n",
      "  Gomory: 7\n",
      "  Implied bound: 17\n",
      "  Flow cover: 17\n",
      "\n",
      "Explored 1820 nodes (81105 simplex iterations) in 5.57 seconds\n",
      "Thread count was 8 (of 8 available processors)\n",
      "\n",
      "Solution count 2: 43 46 \n",
      "\n",
      "Optimal solution found (tolerance 1.00e-04)\n",
      "Best objective 4.300000000000e+01, best bound 4.300000000000e+01, gap 0.0000%\n",
      "Condition=fructose. Initial mu_crowd=nan. Fitting within 21.6% of measured: 0.4312 <= mu <= 0.6688\n",
      "Condition=glucose. Initial mu_crowd=nan. Fitting within 21.6% of measured: 0.58016 <= mu <= 0.89984\n",
      "########################################\n",
      "Setting MIP warm-start values.\n",
      "Changed value of parameter OutputFlag to 1\n",
      "   Prev: 0  Min: 0  Max: 1  Default: 1\n",
      "Changed value of parameter NodefileStart to 3.0\n",
      "   Prev: 1e+100  Min: 0.0  Max: 1e+100  Default: 1e+100\n",
      "Changed value of parameter TimeLimit to 7200.0\n",
      "   Prev: 1e+100  Min: 0.0  Max: 1e+100  Default: 1e+100\n",
      "Optimize a model with 6098 rows, 2396 columns and 16584 nonzeros\n",
      "Variable types: 2060 continuous, 336 integer (0 binary)\n",
      "Coefficient statistics:\n",
      "  Matrix range     [5e-07, 1e+03]\n",
      "  Objective range  [1e+00, 1e+00]\n",
      "  Bounds range     [4e-01, 1e+03]\n",
      "  RHS range        [1e-03, 1e+03]\n",
      "Presolve removed 2187 rows and 433 columns\n",
      "Presolve time: 0.03s\n",
      "Presolved: 3911 rows, 1963 columns, 11723 nonzeros\n",
      "Variable types: 1648 continuous, 315 integer (315 binary)\n",
      "\n",
      "Root relaxation: objective 4.300000e+01, 1635 iterations, 0.03 seconds\n",
      "\n",
      "    Nodes    |    Current Node    |     Objective Bounds      |     Work\n",
      " Expl Unexpl |  Obj  Depth IntInf | Incumbent    BestBd   Gap | It/Node Time\n",
      "\n",
      "     0     0   43.00000    0   12          -   43.00000      -     -    0s\n",
      "     0     0   43.00000    0   22          -   43.00000      -     -    0s\n",
      "     0     0   43.00000    0   22          -   43.00000      -     -    0s\n",
      "     0     0   43.00000    0   10          -   43.00000      -     -    0s\n",
      "     0     0   43.00000    0   16          -   43.00000      -     -    0s\n",
      "     0     0   43.00000    0   12          -   43.00000      -     -    0s\n",
      "     0     0   43.00000    0   12          -   43.00000      -     -    0s\n",
      "     0     0   43.00000    0   12          -   43.00000      -     -    0s\n",
      "     0     0   43.00000    0   10          -   43.00000      -     -    0s\n",
      "     0     2   43.00000    0   10          -   43.00000      -     -    0s\n",
      "H 1130   905                      53.0000000   43.00000  18.9%  28.0    2s\n",
      "H 1565   768                      43.0000000   43.00000  0.00%  34.3    3s\n",
      "\n",
      "Cutting planes:\n",
      "  Gomory: 6\n",
      "  Implied bound: 22\n",
      "  MIR: 2\n",
      "  Flow cover: 15\n",
      "\n",
      "Explored 1585 nodes (58356 simplex iterations) in 3.97 seconds\n",
      "Thread count was 8 (of 8 available processors)\n",
      "\n",
      "Solution count 2: 43 53 \n",
      "\n",
      "Optimal solution found (tolerance 1.00e-04)\n",
      "Best objective 4.300000000000e+01, best bound 4.300000000000e+01, gap 0.0000%\n",
      "Condition=fructose. Initial mu_crowd=nan. Fitting within 11.8% of measured: 0.4851 <= mu <= 0.6149\n",
      "Condition=glucose. Initial mu_crowd=nan. Fitting within 11.8% of measured: 0.65268 <= mu <= 0.82732\n",
      "########################################\n",
      "Setting MIP warm-start values.\n",
      "Changed value of parameter OutputFlag to 1\n",
      "   Prev: 0  Min: 0  Max: 1  Default: 1\n",
      "Changed value of parameter NodefileStart to 3.0\n",
      "   Prev: 1e+100  Min: 0.0  Max: 1e+100  Default: 1e+100\n",
      "Changed value of parameter TimeLimit to 7200.0\n",
      "   Prev: 1e+100  Min: 0.0  Max: 1e+100  Default: 1e+100\n",
      "Optimize a model with 6098 rows, 2396 columns and 16584 nonzeros\n",
      "Variable types: 2060 continuous, 336 integer (0 binary)\n",
      "Coefficient statistics:\n",
      "  Matrix range     [5e-07, 1e+03]\n",
      "  Objective range  [1e+00, 1e+00]\n",
      "  Bounds range     [5e-01, 1e+03]\n",
      "  RHS range        [1e-03, 1e+03]\n",
      "Presolve removed 2187 rows and 433 columns\n",
      "Presolve time: 0.03s\n",
      "Presolved: 3911 rows, 1963 columns, 11723 nonzeros\n",
      "Variable types: 1648 continuous, 315 integer (315 binary)\n",
      "\n",
      "Root relaxation: objective 4.300000e+01, 1784 iterations, 0.04 seconds\n",
      "\n",
      "    Nodes    |    Current Node    |     Objective Bounds      |     Work\n",
      " Expl Unexpl |  Obj  Depth IntInf | Incumbent    BestBd   Gap | It/Node Time\n",
      "\n",
      "     0     0   43.00000    0   10          -   43.00000      -     -    0s\n",
      "     0     0   43.00000    0   16          -   43.00000      -     -    0s\n",
      "     0     0   43.00000    0   24          -   43.00000      -     -    0s\n",
      "     0     0   43.00000    0   16          -   43.00000      -     -    0s\n",
      "     0     0   43.00000    0   16          -   43.00000      -     -    0s\n",
      "     0     0   43.00000    0   14          -   43.00000      -     -    0s\n",
      "     0     0   43.00000    0   24          -   43.00000      -     -    0s\n",
      "     0     0   43.00000    0   20          -   43.00000      -     -    0s\n",
      "     0     0   43.00000    0   20          -   43.00000      -     -    0s\n",
      "     0     2   43.00000    0   20          -   43.00000      -     -    0s\n",
      "  6557  4157   46.04272  107   27          -   43.00000      -  18.6    5s\n",
      " 15881  8441   43.15721  125   10          -   43.00000      -  23.0   10s\n",
      " 25620 13054   43.00970  109    5          -   43.00000      -  24.0   15s\n",
      " 30635 15302   43.69011  102    8          -   43.00000      -  24.2   20s\n",
      " 43376 20796   43.01094   99   11          -   43.00000      -  23.1   25s\n",
      " 55383 26210 infeasible  115               -   43.00000      -  22.7   30s\n",
      " 67038 31327   43.00000   82   10          -   43.00000      -  22.3   35s\n",
      " 78396 35547   43.22444  102    9          -   43.00000      -  21.7   40s\n",
      " 90765 39440   43.00000   76   18          -   43.00000      -  21.4   45s\n",
      " 102221 43183   43.00000   93    8          -   43.00000      -  21.2   50s\n",
      " 114710 47708   43.23874  119    7          -   43.00000      -  20.8   55s\n",
      " 126947 52291 infeasible   91               -   43.00000      -  20.4   60s\n",
      " 140507 57436 infeasible  106               -   43.00000      -  19.8   65s\n",
      " 154459 62498   43.00000   91   12          -   43.00000      -  19.2   70s\n",
      " 168107 68141   43.00000   93   16          -   43.00000      -  18.7   75s\n",
      " 180244 72218   43.00000   84    9          -   43.00000      -  18.7   80s\n",
      " 192249 75559 infeasible  107               -   43.00000      -  18.7   85s\n",
      " 204915 79897 infeasible  114               -   43.00000      -  18.7   90s\n",
      " 217185 83701 infeasible  102               -   43.00000      -  18.7   95s\n",
      " 228629 87223   43.00000   81    8          -   43.00000      -  18.8  100s\n",
      " 242236 93254   47.44193  145    8          -   43.00000      -  18.4  105s\n",
      " 256899 99519   43.00000   89   14          -   43.00000      -  18.1  110s\n",
      " 272341 105354 infeasible  136               -   43.00000      -  17.8  115s\n",
      " 286008 109852   43.04288   98   11          -   43.00000      -  17.6  120s\n",
      " 299560 114759   48.73832  140   11          -   43.00000      -  17.4  125s\n",
      " 314395 119770   43.00494   98    9          -   43.00000      -  17.1  130s\n",
      " 329107 125527   43.24551   97   12          -   43.00000      -  16.9  135s\n",
      " 344522 133228 infeasible  104               -   43.00000      -  16.7  140s\n",
      " 356602 138337   43.13804  117   13          -   43.00000      -  16.7  145s\n",
      " 375725 149446   43.46130  126    4          -   43.00000      -  16.3  150s\n",
      " 393688 160995   43.11044  105   14          -   43.00000      -  16.0  155s\n",
      " 406061 163826 infeasible   95               -   43.00000      -  16.0  160s\n",
      " 418539 168635 infeasible  130               -   43.00000      -  16.0  165s\n",
      " 432343 174501 infeasible  101               -   43.00000      -  16.0  170s\n",
      " 445927 180022 infeasible  140               -   43.00000      -  16.0  175s\n",
      " 459412 185960   43.00000   89   16          -   43.00000      -  16.0  180s\n",
      " 472978 191870 infeasible  139               -   43.00000      -  15.9  185s\n",
      " 488194 199084   43.01446  104   11          -   43.00000      -  15.9  190s\n",
      " 502638 205921   43.16942  108   16          -   43.00000      -  15.8  195s\n",
      " 516596 213248   46.21135  132   16          -   43.00000      -  15.8  200s\n",
      " 529976 219815   43.01135   99   17          -   43.00000      -  15.8  205s\n",
      " 543208 225496   47.38550  137   18          -   43.00000      -  15.8  210s\n",
      " 556868 230641   46.90196  129   19          -   43.00000      -  15.8  215s\n",
      " 570257 236968   43.18353  111   15          -   43.00000      -  15.8  220s\n",
      " 585588 245534   43.00793  101   16          -   43.00000      -  15.7  225s\n",
      " 601352 254955 infeasible  135               -   43.00000      -  15.6  230s\n",
      " 615693 262376   44.92672  137   10          -   43.00000      -  15.6  235s\n",
      " 628714 269425   43.02686   90   13          -   43.00000      -  15.6  240s\n",
      " 641506 275225   43.08358  109   11          -   43.00000      -  15.6  245s\n",
      " 655266 281862   43.00000   94   12          -   43.00000      -  15.6  250s\n",
      " 669370 288743 infeasible  132               -   43.00000      -  15.6  255s\n",
      " 681678 295367   43.91360  127   11          -   43.00000      -  15.7  260s\n",
      " 693561 300718 infeasible  171               -   43.00000      -  15.7  265s\n",
      " 709134 309888   43.36952  107   11          -   43.00000      -  15.7  270s\n",
      " 723387 317671   44.00189  162   10          -   43.00000      -  15.6  275s\n",
      " 736791 323230 infeasible  110               -   43.00000      -  15.6  280s\n",
      " 748185 326242 infeasible  147               -   43.00000      -  15.7  285s\n",
      " 759769 328730 infeasible  109               -   43.00000      -  15.8  290s\n",
      " 772284 332788   43.00000   98   10          -   43.00000      -  15.8  295s\n",
      " 785541 340534 infeasible  120               -   43.00000      -  15.7  300s\n",
      " 799571 348824   43.42632  110   14          -   43.00000      -  15.7  305s\n",
      " 812988 356870   47.23677  151   16          -   43.00000      -  15.6  310s\n",
      " 824869 363536   43.60563  130   18          -   43.00000      -  15.6  315s\n",
      " 836863 369871   43.00000  103   12          -   43.00000      -  15.6  320s\n",
      " 848696 376326 infeasible  103               -   43.00000      -  15.6  325s\n",
      " 859205 382351   43.02199  107   19          -   43.00000      -  15.6  330s\n",
      " 871146 389121 infeasible  166               -   43.00000      -  15.5  335s\n",
      " 882935 395522   51.65632  167   24          -   43.00000      -  15.5  340s\n",
      " 895051 401795   47.20365  155   15          -   43.00000      -  15.5  345s\n",
      " 906688 407968   43.07854  106   15          -   43.00000      -  15.5  350s\n",
      " 917288 412963 infeasible  100               -   43.00000      -  15.6  355s\n",
      " 927179 416899   43.85452  102   25          -   43.00000      -  15.6  360s\n",
      " 937552 420457   43.00000  101   14          -   43.00000      -  15.7  365s\n",
      " 948585 425328   43.03853  106   18          -   43.00000      -  15.7  370s\n",
      " 960417 431574   57.58578  164   27          -   43.00000      -  15.7  375s\n",
      " 972523 437958 infeasible  158               -   43.00000      -  15.7  380s\n",
      " 985259 444666   43.06764   97   14          -   43.00000      -  15.7  385s\n",
      " 996341 450468 infeasible  105               -   43.00000      -  15.7  390s\n",
      " 1006742 454464 infeasible  114               -   43.00000      -  15.7  395s\n",
      " 1016810 458425   44.91281  139   14          -   43.00000      -  15.8  400s\n",
      " 1027806 463403   43.01573  102   22          -   43.00000      -  15.8  405s\n",
      " 1039436 469851 infeasible  108               -   43.00000      -  15.8  410s\n",
      " 1050961 474752   43.06729   92   18          -   43.00000      -  15.8  415s\n",
      " 1061103 478141   43.00035  102   15          -   43.00000      -  15.9  420s\n",
      " 1070114 480008 infeasible  104               -   43.00000      -  15.9  425s\n",
      " 1081982 487113   43.01009   93   21          -   43.00000      -  16.0  430s\n",
      " 1094814 494959   43.00000   91   10          -   43.00000      -  15.9  435s\n",
      " 1109525 504212   45.89018  143   15          -   43.00000      -  15.9  440s\n",
      " 1122590 512717   47.32408  153   16          -   43.00000      -  15.8  445s\n",
      " 1136342 521317 infeasible  171               -   43.00000      -  15.8  450s\n",
      " 1148298 528823   43.00000   82   28          -   43.00000      -  15.8  455s\n",
      " 1161423 536459 infeasible  111               -   43.00000      -  15.8  460s\n",
      " 1173661 542316 infeasible  103               -   43.00000      -  15.9  465s\n",
      " 1185927 548582 infeasible  103               -   43.00000      -  15.9  470s\n",
      " 1197528 554601   43.00000   84    8          -   43.00000      -  15.9  475s\n",
      " 1211133 562821   43.40103  113    7          -   43.00000      -  16.0  480s\n",
      " 1223577 568956   43.23957  113    4          -   43.00000      -  16.0  485s\n",
      " 1236889 576888   46.08304  130   18          -   43.00000      -  16.0  490s\n",
      " 1253928 588035   43.00109  107    7          -   43.00000      -  15.9  495s\n",
      " 1271360 598808 infeasible  170               -   43.00000      -  15.8  500s\n",
      " 1287928 609399   43.05626  100   14          -   43.00000      -  15.7  505s\n",
      " 1304772 619373   54.00085  153   22          -   43.00000      -  15.7  510s\n",
      " 1319524 627185   45.20203  138    8          -   43.00000      -  15.6  515s\n"
     ]
    }
   ],
   "source": [
    "%%time\n",
    "\n",
    "mu_id = 'BIOMASS_Ecoli_core_w_GAM'\n",
    "sol_dict = {}\n",
    "for ind, F_TOL in enumerate(F_TOLS):\n",
    "    for mdl_ind,mdl in iteritems(stacker.model_dict):\n",
    "        mu_meas = df_meas[ df_meas.substrate==mdl_ind].growth_rate_1_h.iloc[0]\n",
    "        rxn_mu = mdl.reactions.get_by_id(mu_id+'_%s'%mdl_ind)    \n",
    "        rxn_mu.lower_bound = mu_meas*(1-F_TOL)\n",
    "        rxn_mu.upper_bound = mu_meas*(1+F_TOL)\n",
    "        mu_crowd0 = np.nan\n",
    "        print('Condition=%s. Initial mu_crowd=%g. Fitting within %g%% of measured: %g <= mu <= %g' % (mdl_ind, mu_crowd0, 100*F_TOL, rxn_mu.lower_bound, rxn_mu.upper_bound))\n",
    "\n",
    "    # If feasible solution found, use it as MILP start\n",
    "    if milp.SolCount > 0:\n",
    "        print('#'*40)\n",
    "        print('Setting MIP warm-start values.')\n",
    "        for v in milp.getVars():\n",
    "            v.Start = v.X\n",
    "        sol_dict[ind] = {'x_dict':{v.VarName:v.X for v in milp.getVars()}, 'F_TOL':F_TOL}\n",
    "\n",
    "    milp = gurobi_solver.create_problem(stacker.model)\n",
    "    milp.ModelSense = GRB.MINIMIZE\n",
    "    milp.Params.IntFeasTol = 1e-9\n",
    "    milp.Params.OutputFlag = 1\n",
    "    # milp.Params.FeasibilityTol = 1e-9\n",
    "    # milp.Params.OptimalityTol = 1e-9\n",
    "    milp.Params.NodefileStart = 3   # Start writing nodes to disk if x GB RAM exceeded (for each thread)\n",
    "    milp.Params.TimeLimit = 2*3600  # Time limit in seconds\n",
    "\n",
    "    milp.optimize()"
   ]
  },
  {
   "cell_type": "code",
   "execution_count": 52,
   "metadata": {
    "collapsed": false
   },
   "outputs": [
    {
     "data": {
      "text/plain": [
       "[(1, 0.902),\n",
       " (2, 0.804),\n",
       " (3, 0.706),\n",
       " (4, 0.608),\n",
       " (5, 0.51),\n",
       " (6, 0.4119999999999999),\n",
       " (7, 0.31399999999999995),\n",
       " (8, 0.21599999999999997),\n",
       " (9, 0.118)]"
      ]
     },
     "execution_count": 52,
     "metadata": {},
     "output_type": "execute_result"
    }
   ],
   "source": [
    "[(k, s['F_TOL']) for k,s in iteritems(sol_dict)]"
   ]
  },
  {
   "cell_type": "code",
   "execution_count": 54,
   "metadata": {
    "collapsed": false,
    "deletable": true,
    "editable": true
   },
   "outputs": [
    {
     "data": {
      "text/plain": [
       "2396"
      ]
     },
     "execution_count": 54,
     "metadata": {},
     "output_type": "execute_result"
    }
   ],
   "source": [
    "len(sol_dict[9]['x_dict'])"
   ]
  },
  {
   "cell_type": "code",
   "execution_count": 55,
   "metadata": {
    "collapsed": false
   },
   "outputs": [
    {
     "data": {
      "text/plain": [
       "2396"
      ]
     },
     "execution_count": 55,
     "metadata": {},
     "output_type": "execute_result"
    }
   ],
   "source": [
    "len(stacker.model.reactions)"
   ]
  },
  {
   "cell_type": "code",
   "execution_count": 61,
   "metadata": {
    "collapsed": false
   },
   "outputs": [
    {
     "data": {
      "text/plain": [
       "9"
      ]
     },
     "execution_count": 61,
     "metadata": {},
     "output_type": "execute_result"
    }
   ],
   "source": [
    "best_ind = len(sol_dict)\n",
    "best_ind"
   ]
  },
  {
   "cell_type": "code",
   "execution_count": 67,
   "metadata": {
    "collapsed": false
   },
   "outputs": [],
   "source": [
    "x_dict = {r.id:sol_dict[best_ind]['x_dict'][str(i)] for i,r in enumerate(stacker.model.reactions)}\n",
    "F_TOL = sol_dict[best_ind]['F_TOL']"
   ]
  },
  {
   "cell_type": "code",
   "execution_count": 69,
   "metadata": {
    "collapsed": false
   },
   "outputs": [
    {
     "data": {
      "text/html": [
       "<div>\n",
       "<style scoped>\n",
       "    .dataframe tbody tr th:only-of-type {\n",
       "        vertical-align: middle;\n",
       "    }\n",
       "\n",
       "    .dataframe tbody tr th {\n",
       "        vertical-align: top;\n",
       "    }\n",
       "\n",
       "    .dataframe thead th {\n",
       "        text-align: right;\n",
       "    }\n",
       "</style>\n",
       "<table border=\"1\" class=\"dataframe\">\n",
       "  <thead>\n",
       "    <tr style=\"text-align: right;\">\n",
       "      <th></th>\n",
       "      <th>substrate</th>\n",
       "      <th>growth_rate_1_h</th>\n",
       "      <th>order</th>\n",
       "      <th>ex_rxn</th>\n",
       "    </tr>\n",
       "  </thead>\n",
       "  <tbody>\n",
       "    <tr>\n",
       "      <th>0</th>\n",
       "      <td>glucose</td>\n",
       "      <td>0.740</td>\n",
       "      <td>0.0</td>\n",
       "      <td>EX_glc__D_e</td>\n",
       "    </tr>\n",
       "    <tr>\n",
       "      <th>3</th>\n",
       "      <td>fructose</td>\n",
       "      <td>0.550</td>\n",
       "      <td>NaN</td>\n",
       "      <td>EX_fru_e</td>\n",
       "    </tr>\n",
       "    <tr>\n",
       "      <th>5</th>\n",
       "      <td>succinate</td>\n",
       "      <td>0.460</td>\n",
       "      <td>NaN</td>\n",
       "      <td>EX_succ_e</td>\n",
       "    </tr>\n",
       "    <tr>\n",
       "      <th>6</th>\n",
       "      <td>malate</td>\n",
       "      <td>0.440</td>\n",
       "      <td>NaN</td>\n",
       "      <td>EX_mal__L_e</td>\n",
       "    </tr>\n",
       "    <tr>\n",
       "      <th>9</th>\n",
       "      <td>acetate</td>\n",
       "      <td>0.256</td>\n",
       "      <td>5.0</td>\n",
       "      <td>EX_ac_e</td>\n",
       "    </tr>\n",
       "  </tbody>\n",
       "</table>\n",
       "</div>"
      ],
      "text/plain": [
       "   substrate  growth_rate_1_h  order       ex_rxn\n",
       "0  glucose    0.740            0.0    EX_glc__D_e\n",
       "3  fructose   0.550           NaN     EX_fru_e   \n",
       "5  succinate  0.460           NaN     EX_succ_e  \n",
       "6  malate     0.440           NaN     EX_mal__L_e\n",
       "9  acetate    0.256            5.0    EX_ac_e    "
      ]
     },
     "execution_count": 69,
     "metadata": {},
     "output_type": "execute_result"
    }
   ],
   "source": [
    "df_meas.head()"
   ]
  },
  {
   "cell_type": "code",
   "execution_count": 76,
   "metadata": {
    "collapsed": false,
    "deletable": true,
    "editable": true
   },
   "outputs": [
    {
     "name": "stdout",
     "output_type": "stream",
     "text": [
      "Number of non-zero binaries: 43\n",
      "Initial mu_crowd=nan. Fitted within 11.8%: 0.4851 <= 0.64862 <= 0.6149\n",
      "Initial mu_crowd=nan. Fitted within 11.8%: 0.65268 <= 0.64862 <= 0.82732\n"
     ]
    }
   ],
   "source": [
    "#sol = gurobi_solver.format_solution(milp, stacker.model)\n",
    "#yopt = [sol.x_dict[rxn.id] for rxn in stacker.model.reactions.query('binary_')]\n",
    "yopt = [x_dict[rxn.id] for rxn in stacker.model.reactions.query('binary_')]\n",
    "print('Number of non-zero binaries: %g' % sum(yopt))\n",
    "for mdl_ind,mdl in iteritems(stacker.model_dict):\n",
    "    dfi = df_meas[ df_meas.substrate==mdl_ind]\n",
    "    mu_measi = dfi.growth_rate_1_h.iloc[0]\n",
    "    rxn_mu = stacker.model.reactions.get_by_id(mu_id+'_%s'%mdl_ind)\n",
    "    muopt = x_dict[rxn_mu.id]\n",
    "    muL = mu_measi*(1-F_TOL)\n",
    "    muU = mu_measi*(1+F_TOL)\n",
    "    print('Initial mu_crowd=%g. Fitted within %g%%: %g <= %g <= %g' % (mu_crowd0, 100*F_TOL, muL, muopt, muU))"
   ]
  },
  {
   "cell_type": "code",
   "execution_count": 83,
   "metadata": {
    "collapsed": false,
    "deletable": true,
    "editable": true,
    "scrolled": true
   },
   "outputs": [
    {
     "name": "stdout",
     "output_type": "stream",
     "text": [
      "binary_G6PDH2r00. Value=1.0. Power=-3. Digit=1\n",
      "binary_AKGDH06. Value=1.0. Power=3. Digit=1\n",
      "binary_ACKr02. Value=1.0. Power=-1. Digit=1\n",
      "binary_GLUN05. Value=1.0. Power=2. Digit=1\n",
      "binary_ME100. Value=1.0. Power=-3. Digit=1\n",
      "binary_GND03. Value=1.0. Power=0. Digit=1\n",
      "binary_ME204. Value=1.0. Power=1. Digit=1\n",
      "binary_GLNS05. Value=1.0. Power=2. Digit=1\n",
      "binary_FUM05. Value=1.0. Power=2. Digit=1\n",
      "binary_SUCDi01. Value=1.0. Power=-2. Digit=1\n",
      "binary_PPC06. Value=1.0. Power=3. Digit=1\n",
      "binary_MDH05. Value=1.0. Power=2. Digit=1\n",
      "binary_GLUSy02. Value=1.0. Power=-1. Digit=1\n",
      "binary_PGL00. Value=1.0. Power=-3. Digit=1\n",
      "binary_ACALD00. Value=1.0. Power=-3. Digit=1\n",
      "binary_MALS01. Value=1.0. Power=-2. Digit=1\n",
      "binary_ADK106. Value=1.0. Power=3. Digit=1\n",
      "binary_PPS06. Value=1.0. Power=3. Digit=1\n",
      "binary_PTAr06. Value=1.0. Power=3. Digit=1\n",
      "binary_RPE00. Value=1.0. Power=-3. Digit=1\n",
      "binary_ALCD2x04. Value=1.0. Power=1. Digit=1\n",
      "binary_PPCK06. Value=1.0. Power=3. Digit=1\n",
      "binary_TALA06. Value=1.0. Power=3. Digit=1\n",
      "binary_NADTRHD04. Value=1.0. Power=1. Digit=1\n",
      "binary_ICDHyr06. Value=1.0. Power=3. Digit=1\n",
      "binary_GAPD06. Value=1.0. Power=3. Digit=1\n",
      "binary_ICL01. Value=1.0. Power=-2. Digit=1\n",
      "binary_TPI02. Value=1.0. Power=-1. Digit=1\n",
      "binary_ENO00. Value=1.0. Power=-3. Digit=1\n",
      "binary_ACONTa00. Value=1.0. Power=-3. Digit=1\n",
      "binary_SUCOAS04. Value=1.0. Power=1. Digit=1\n",
      "binary_ACONTb06. Value=1.0. Power=3. Digit=1\n",
      "binary_PDH01. Value=1.0. Power=-2. Digit=1\n",
      "binary_CS05. Value=1.0. Power=2. Digit=1\n",
      "binary_FBP02. Value=1.0. Power=-1. Digit=1\n",
      "binary_TKT205. Value=1.0. Power=2. Digit=1\n",
      "binary_TKT102. Value=1.0. Power=-1. Digit=1\n",
      "binary_PFK01. Value=1.0. Power=-2. Digit=1\n",
      "binary_PFL00. Value=1.0. Power=-3. Digit=1\n",
      "binary_FBA03. Value=1.0. Power=0. Digit=1\n",
      "binary_PYK06. Value=1.0. Power=3. Digit=1\n",
      "binary_LDH_D00. Value=1.0. Power=-3. Digit=1\n",
      "binary_FRD700. Value=1.0. Power=-3. Digit=1\n"
     ]
    }
   ],
   "source": [
    "# Fitted parameters\n",
    "kfit_dict = {}\n",
    "for group_id, var_dict in iteritems(var_cons_dict):\n",
    "    var = var_dict[0]\n",
    "    cons = var_dict[1]\n",
    "    a0  = var_dict[0][2]\n",
    "    kfit = 0.\n",
    "    for l,pwr in enumerate(powers):\n",
    "        for k,digit in enumerate(digits):            \n",
    "            yid = 'binary_%s%s%s' % (group_id,k,l)\n",
    "            y   = x_dict[yid]            \n",
    "            if abs(y)>1e-10:\n",
    "                print('%s. Value=%s. Power=%g. Digit=%g' % (yid, y, pwr, digit))\n",
    "#                 print yid, y\n",
    "#             if abs(y)<1e-10:\n",
    "#                 print yid, y\n",
    "                pass\n",
    "            kfit += y*a0*radix**pwr*digit\n",
    "    kfit_dict[group_id] = kfit"
   ]
  },
  {
   "cell_type": "code",
   "execution_count": 84,
   "metadata": {
    "collapsed": false,
    "deletable": true,
    "editable": true
   },
   "outputs": [
    {
     "data": {
      "text/plain": [
       "[(u'G6PDH2r', 5.341880341880342e-07),\n",
       " (u'AKGDH', 3.418803418803419e-05),\n",
       " (u'ACKr', 2.136752136752137e-06),\n",
       " (u'MALS', 1.0683760683760685e-06),\n",
       " (u'GLUN', 1.7094017094017095e-05),\n",
       " (u'ME1', 5.341880341880342e-07),\n",
       " (u'GND', 4.273504273504274e-06),\n",
       " (u'ME2', 8.547008547008548e-06),\n",
       " (u'GLNS', 1.7094017094017095e-05),\n",
       " (u'ADK1', 3.418803418803419e-05),\n",
       " (u'SUCDi', 1.0683760683760685e-06),\n",
       " (u'PPC', 3.418803418803419e-05),\n",
       " (u'MDH', 1.7094017094017095e-05),\n",
       " (u'FUM', 1.7094017094017095e-05),\n",
       " (u'GLUSy', 2.136752136752137e-06),\n",
       " (u'PGL', 5.341880341880342e-07),\n",
       " (u'ACALD', 5.341880341880342e-07),\n",
       " (u'PPS', 3.418803418803419e-05),\n",
       " (u'PTAr', 3.418803418803419e-05),\n",
       " (u'RPE', 5.341880341880342e-07),\n",
       " (u'ALCD2x', 8.547008547008548e-06),\n",
       " (u'TALA', 3.418803418803419e-05),\n",
       " (u'NADTRHD', 8.547008547008548e-06),\n",
       " (u'ICDHyr', 3.418803418803419e-05),\n",
       " (u'GAPD', 3.418803418803419e-05),\n",
       " (u'ICL', 1.0683760683760685e-06),\n",
       " (u'TPI', 2.136752136752137e-06),\n",
       " (u'ENO', 5.341880341880342e-07),\n",
       " (u'ACONTa', 5.341880341880342e-07),\n",
       " (u'SUCOAS', 8.547008547008548e-06),\n",
       " (u'ACONTb', 3.418803418803419e-05),\n",
       " (u'PDH', 1.0683760683760685e-06),\n",
       " (u'CS', 1.7094017094017095e-05),\n",
       " (u'TKT1', 2.136752136752137e-06),\n",
       " (u'FBP', 2.136752136752137e-06),\n",
       " (u'TKT2', 1.7094017094017095e-05),\n",
       " (u'PPCK', 3.418803418803419e-05),\n",
       " (u'PFK', 1.0683760683760685e-06),\n",
       " (u'PFL', 5.341880341880342e-07),\n",
       " (u'FBA', 4.273504273504274e-06),\n",
       " (u'PYK', 3.418803418803419e-05),\n",
       " (u'LDH_D', 5.341880341880342e-07),\n",
       " (u'FRD7', 5.341880341880342e-07)]"
      ]
     },
     "execution_count": 84,
     "metadata": {},
     "output_type": "execute_result"
    }
   ],
   "source": [
    "[(k,v) for k,v in iteritems(kfit_dict) if abs(v)>1e-10]"
   ]
  },
  {
   "cell_type": "markdown",
   "metadata": {
    "deletable": true,
    "editable": true
   },
   "source": [
    "### Plug back in to be sure"
   ]
  },
  {
   "cell_type": "code",
   "execution_count": 89,
   "metadata": {
    "collapsed": false
   },
   "outputs": [
    {
     "data": {
      "text/html": [
       "<div>\n",
       "<style scoped>\n",
       "    .dataframe tbody tr th:only-of-type {\n",
       "        vertical-align: middle;\n",
       "    }\n",
       "\n",
       "    .dataframe tbody tr th {\n",
       "        vertical-align: top;\n",
       "    }\n",
       "\n",
       "    .dataframe thead th {\n",
       "        text-align: right;\n",
       "    }\n",
       "</style>\n",
       "<table border=\"1\" class=\"dataframe\">\n",
       "  <thead>\n",
       "    <tr style=\"text-align: right;\">\n",
       "      <th></th>\n",
       "      <th>cond</th>\n",
       "      <th>lb</th>\n",
       "      <th>obj</th>\n",
       "      <th>rxn</th>\n",
       "      <th>ub</th>\n",
       "    </tr>\n",
       "  </thead>\n",
       "  <tbody>\n",
       "    <tr>\n",
       "      <th>0</th>\n",
       "      <td>glucose</td>\n",
       "      <td>-10</td>\n",
       "      <td>0.0</td>\n",
       "      <td>EX_glc__D_e</td>\n",
       "      <td>1000.0</td>\n",
       "    </tr>\n",
       "    <tr>\n",
       "      <th>1</th>\n",
       "      <td>glucose</td>\n",
       "      <td>0</td>\n",
       "      <td>0.0</td>\n",
       "      <td>EX_fru_e</td>\n",
       "      <td>1000.0</td>\n",
       "    </tr>\n",
       "    <tr>\n",
       "      <th>2</th>\n",
       "      <td>glucose</td>\n",
       "      <td>0</td>\n",
       "      <td>0.0</td>\n",
       "      <td>EX_succ_e</td>\n",
       "      <td>1000.0</td>\n",
       "    </tr>\n",
       "    <tr>\n",
       "      <th>3</th>\n",
       "      <td>glucose</td>\n",
       "      <td>0</td>\n",
       "      <td>0.0</td>\n",
       "      <td>EX_mal__L_e</td>\n",
       "      <td>1000.0</td>\n",
       "    </tr>\n",
       "    <tr>\n",
       "      <th>4</th>\n",
       "      <td>glucose</td>\n",
       "      <td>0</td>\n",
       "      <td>0.0</td>\n",
       "      <td>EX_ac_e</td>\n",
       "      <td>1000.0</td>\n",
       "    </tr>\n",
       "    <tr>\n",
       "      <th>5</th>\n",
       "      <td>fructose</td>\n",
       "      <td>0</td>\n",
       "      <td>0.0</td>\n",
       "      <td>EX_glc__D_e</td>\n",
       "      <td>1000.0</td>\n",
       "    </tr>\n",
       "    <tr>\n",
       "      <th>6</th>\n",
       "      <td>fructose</td>\n",
       "      <td>-10</td>\n",
       "      <td>0.0</td>\n",
       "      <td>EX_fru_e</td>\n",
       "      <td>1000.0</td>\n",
       "    </tr>\n",
       "    <tr>\n",
       "      <th>7</th>\n",
       "      <td>fructose</td>\n",
       "      <td>0</td>\n",
       "      <td>0.0</td>\n",
       "      <td>EX_succ_e</td>\n",
       "      <td>1000.0</td>\n",
       "    </tr>\n",
       "    <tr>\n",
       "      <th>8</th>\n",
       "      <td>fructose</td>\n",
       "      <td>0</td>\n",
       "      <td>0.0</td>\n",
       "      <td>EX_mal__L_e</td>\n",
       "      <td>1000.0</td>\n",
       "    </tr>\n",
       "    <tr>\n",
       "      <th>9</th>\n",
       "      <td>fructose</td>\n",
       "      <td>0</td>\n",
       "      <td>0.0</td>\n",
       "      <td>EX_ac_e</td>\n",
       "      <td>1000.0</td>\n",
       "    </tr>\n",
       "  </tbody>\n",
       "</table>\n",
       "</div>"
      ],
      "text/plain": [
       "       cond  lb  obj          rxn      ub\n",
       "0  glucose  -10  0.0  EX_glc__D_e  1000.0\n",
       "1  glucose   0   0.0  EX_fru_e     1000.0\n",
       "2  glucose   0   0.0  EX_succ_e    1000.0\n",
       "3  glucose   0   0.0  EX_mal__L_e  1000.0\n",
       "4  glucose   0   0.0  EX_ac_e      1000.0\n",
       "5  fructose  0   0.0  EX_glc__D_e  1000.0\n",
       "6  fructose -10  0.0  EX_fru_e     1000.0\n",
       "7  fructose  0   0.0  EX_succ_e    1000.0\n",
       "8  fructose  0   0.0  EX_mal__L_e  1000.0\n",
       "9  fructose  0   0.0  EX_ac_e      1000.0"
      ]
     },
     "execution_count": 89,
     "metadata": {},
     "output_type": "execute_result"
    }
   ],
   "source": [
    "df_conds"
   ]
  },
  {
   "cell_type": "code",
   "execution_count": 95,
   "metadata": {
    "collapsed": false,
    "deletable": true,
    "editable": true
   },
   "outputs": [
    {
     "name": "stdout",
     "output_type": "stream",
     "text": [
      "Cond=glucose. mu_meas=0.74. mu_sim=0.64862\n",
      "\tEX_glc__D_e uptake=-7.76293\n",
      "\tEX_fru_e uptake=0\n",
      "\tEX_succ_e uptake=0\n",
      "\tEX_mal__L_e uptake=0\n",
      "\tEX_ac_e uptake=0\n",
      "Cond=fructose. mu_meas=0.55. mu_sim=0.64862\n",
      "\tEX_glc__D_e uptake=0\n",
      "\tEX_fru_e uptake=-7.76293\n",
      "\tEX_succ_e uptake=0\n",
      "\tEX_mal__L_e uptake=0\n",
      "\tEX_ac_e uptake=0\n"
     ]
    }
   ],
   "source": [
    "#----------------------------------------\n",
    "# Starting from basal model\n",
    "csrcs = df_conds.cond.unique()\n",
    "for csrc in csrcs:\n",
    "    ijofit = load_json_model('/home/laurence/ME/models/BiGG_M/json/e_coli_core.json')    \n",
    "    crowding = Constraint('crowding')\n",
    "    crowding._bound = crowding_bound0\n",
    "    crowding._constraint_sense = 'L'\n",
    "    \n",
    "    df_condi = df_conds[ df_conds.cond==csrc]    \n",
    "    for i,row in df_condi.iterrows():\n",
    "        rid = row['rxn']\n",
    "        rxn = ijofit.reactions.get_by_id(rid)\n",
    "        rxn.lower_bound = row['lb']\n",
    "        rxn.upper_bound = row['ub']\n",
    "\n",
    "    for rid,kfit in iteritems(kfit_dict):\n",
    "        rxn = ijofit.reactions.get_by_id(rid)\n",
    "        rxn.add_metabolites({crowding:kfit})\n",
    "    \n",
    "    ijofit.optimize()\n",
    "    \n",
    "    mu_measi = df_meas[ df_meas.substrate==csrc].growth_rate_1_h.iloc[0]\n",
    "    \n",
    "    print('Cond=%s. mu_meas=%g. mu_sim=%g' % (csrc, mu_measi, ijofit.reactions.BIOMASS_Ecoli_core_w_GAM.x))    \n",
    "    for i,row in df_condi.iterrows():\n",
    "        rid = row['rxn']\n",
    "        rxn = ijofit.reactions.get_by_id(rid)        \n",
    "        print('\\t%s uptake=%g' % (rxn.id, rxn.x))"
   ]
  },
  {
   "cell_type": "code",
   "execution_count": null,
   "metadata": {
    "collapsed": true
   },
   "outputs": [],
   "source": []
  }
 ],
 "metadata": {
  "kernelspec": {
   "display_name": "Python 2",
   "language": "python",
   "name": "python2"
  },
  "language_info": {
   "codemirror_mode": {
    "name": "ipython",
    "version": 2
   },
   "file_extension": ".py",
   "mimetype": "text/x-python",
   "name": "python",
   "nbconvert_exporter": "python",
   "pygments_lexer": "ipython2",
   "version": "2.7.14"
  }
 },
 "nbformat": 4,
 "nbformat_minor": 2
}
