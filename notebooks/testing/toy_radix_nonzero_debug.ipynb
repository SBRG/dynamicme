{
 "cells": [
  {
   "cell_type": "markdown",
   "metadata": {
    "deletable": true,
    "editable": true
   },
   "source": [
    "# Toy example for Radix-based with nonzero forcing constraint"
   ]
  },
  {
   "cell_type": "code",
   "execution_count": 1,
   "metadata": {
    "collapsed": true,
    "deletable": true,
    "editable": true
   },
   "outputs": [],
   "source": [
    "SCALE_CROWDING=False\n",
    "PREVENT_ZERO = False"
   ]
  },
  {
   "cell_type": "code",
   "execution_count": 2,
   "metadata": {
    "collapsed": false,
    "deletable": true,
    "editable": true
   },
   "outputs": [],
   "source": [
    "%load_ext line_profiler"
   ]
  },
  {
   "cell_type": "code",
   "execution_count": 3,
   "metadata": {
    "collapsed": false,
    "deletable": true,
    "editable": true
   },
   "outputs": [
    {
     "name": "stdout",
     "output_type": "stream",
     "text": [
      "(<type 'exceptions.ImportError'>, ImportError('No module named cplex',), <traceback object at 0x7fe0644f9ef0>)\n"
     ]
    }
   ],
   "source": [
    "from gurobipy import *\n",
    "\n",
    "import seaborn as sns\n",
    "import pandas as pd\n",
    "import matplotlib.pyplot as plt\n",
    "import numpy as np\n",
    "\n",
    "plt.rcParams['svg.fonttype'] = 'none'\n",
    "pd.set_option('display.max_colwidth', -1)\n",
    "%matplotlib inline\n",
    "\n",
    "from dynamicme.decomposition import Decomposer\n",
    "from dynamicme.callback_gurobi import cb_benders\n",
    "from dynamicme.optimize import Optimizer, StackOptimizer\n",
    "from dynamicme.optimize import Constraint, Variable\n",
    "\n",
    "from cobra.io import load_json_model\n",
    "from cobra import Metabolite, Reaction\n",
    "from six import iteritems\n",
    "\n",
    "import numpy as np\n",
    "import cobra"
   ]
  },
  {
   "cell_type": "markdown",
   "metadata": {
    "deletable": true,
    "editable": true
   },
   "source": [
    "### Try optimizing using radix for one condition first"
   ]
  },
  {
   "cell_type": "code",
   "execution_count": 4,
   "metadata": {
    "collapsed": false,
    "deletable": true,
    "editable": true
   },
   "outputs": [],
   "source": [
    "#----------------------------------------\n",
    "# Starting from basal model\n",
    "ijomc = load_json_model('/home/laurence/ME/models/BiGG_M/json/e_coli_core.json')\n",
    "keff0 = 1./65/3600\n",
    "#crowding_bound = 0.0003\n",
    "crowding_bound0 = 0.001\n",
    "crowding_bound = crowding_bound0\n",
    "not_crowded = ['ATPM']\n",
    "rxns_c = [r for r in ijomc.reactions if all([m.compartment=='c' for m in r.metabolites.keys()]) and 'BIOMASS' not in r.id and r.id not in not_crowded]\n",
    "crowding_dict = {rxn:keff0 for rxn in rxns_c}\n",
    "#----------------------------------------\n",
    "\n",
    "# Temporarily add crowding constraint for the duality gap constraint\n",
    "crowding = Constraint('crowding')\n",
    "crowding._bound = crowding_bound\n",
    "crowding._constraint_sense = 'L'\n",
    "for rxn,keff in iteritems(crowding_dict):\n",
    "    rxn.add_metabolites({crowding:keff})"
   ]
  },
  {
   "cell_type": "code",
   "execution_count": 5,
   "metadata": {
    "collapsed": false,
    "deletable": true,
    "editable": true
   },
   "outputs": [
    {
     "data": {
      "text/plain": [
       "0.001"
      ]
     },
     "execution_count": 5,
     "metadata": {},
     "output_type": "execute_result"
    }
   ],
   "source": [
    "crowding._bound"
   ]
  },
  {
   "cell_type": "code",
   "execution_count": 6,
   "metadata": {
    "collapsed": false,
    "deletable": true,
    "editable": true
   },
   "outputs": [
    {
     "name": "stdout",
     "output_type": "stream",
     "text": [
      "0.873921506968\n"
     ]
    }
   ],
   "source": [
    "ijomc.optimize()\n",
    "mu_crowd0 = ijomc.reactions.BIOMASS_Ecoli_core_w_GAM.x\n",
    "print(mu_crowd0)"
   ]
  },
  {
   "cell_type": "code",
   "execution_count": 7,
   "metadata": {
    "collapsed": false,
    "deletable": true,
    "editable": true
   },
   "outputs": [],
   "source": [
    "opt = Optimizer(ijomc)\n",
    "gap = opt.add_duality_gap_constraint(INF=1e3)"
   ]
  },
  {
   "cell_type": "code",
   "execution_count": 8,
   "metadata": {
    "collapsed": false,
    "deletable": true,
    "editable": true
   },
   "outputs": [
    {
     "data": {
      "text/plain": [
       "<Solution 1.75 at 0x7fe10864ea10>"
      ]
     },
     "execution_count": 8,
     "metadata": {},
     "output_type": "execute_result"
    }
   ],
   "source": [
    "gap.optimize(solver='gurobi')"
   ]
  },
  {
   "cell_type": "code",
   "execution_count": 9,
   "metadata": {
    "collapsed": false,
    "deletable": true,
    "editable": true
   },
   "outputs": [
    {
     "data": {
      "text/plain": [
       "0.001"
      ]
     },
     "execution_count": 9,
     "metadata": {},
     "output_type": "execute_result"
    }
   ],
   "source": [
    "gap.metabolites.crowding._bound"
   ]
  },
  {
   "cell_type": "code",
   "execution_count": 10,
   "metadata": {
    "collapsed": false,
    "deletable": true,
    "editable": true
   },
   "outputs": [
    {
     "name": "stdout",
     "output_type": "stream",
     "text": [
      "('Radix:', 2.0)\n",
      "('Powers:', array([-3, -2, -1,  0,  1,  2,  3]))\n",
      "('Digits:', [1.0])\n"
     ]
    },
    {
     "name": "stderr",
     "output_type": "stream",
     "text": [
      "/usr/lib/python2.7/site-packages/ipykernel/__main__.py:9 \u001b[1;31mDeprecationWarning\u001b[0m: object of type <type 'float'> cannot be safely interpreted as an integer.\n"
     ]
    }
   ],
   "source": [
    "import numpy as np\n",
    "\n",
    "radix = 2.\n",
    "print('Radix:',radix)\n",
    "powers = np.arange(-3,4)\n",
    "print('Powers:', powers)\n",
    "digits_per_power = radix\n",
    "pwr_max = max(powers)\n",
    "digits = list(set(np.linspace(1, radix-1, digits_per_power)))\n",
    "print('Digits:', digits)\n",
    "\n",
    "# Discretize crowding coefficients into radix\n",
    "crowding_p = gap.metabolites.crowding\n",
    "\n",
    "var_cons_dict = {}\n",
    "for rxn_p in crowding_p.reactions:\n",
    "    # Get the coefficient in the dual\n",
    "    var_d = gap.reactions.wa_crowding\n",
    "    cons_ds = [m for m in var_d.metabolites.keys() if rxn_p.id==m.id]\n",
    "    a0 = rxn_p.metabolites[crowding_p]    \n",
    "    var_cons_dict[rxn_p.id] = [(rxn_p, crowding_p, a0)] + [(var_d, cons_d, a0) for cons_d in cons_ds]"
   ]
  },
  {
   "cell_type": "code",
   "execution_count": 11,
   "metadata": {
    "collapsed": false,
    "deletable": true,
    "editable": true
   },
   "outputs": [],
   "source": [
    "# %lprun -f opt.to_radix opt.to_radix(gap, var_cons_dict, radix, powers, digits_per_power, prevent_zero=True)"
   ]
  },
  {
   "cell_type": "code",
   "execution_count": 12,
   "metadata": {
    "collapsed": false,
    "deletable": true,
    "editable": true
   },
   "outputs": [
    {
     "name": "stdout",
     "output_type": "stream",
     "text": [
      "CPU times: user 122 ms, sys: 15.2 ms, total: 137 ms\n",
      "Wall time: 127 ms\n"
     ]
    },
    {
     "data": {
      "text/plain": [
       "[1.0]"
      ]
     },
     "execution_count": 12,
     "metadata": {},
     "output_type": "execute_result"
    }
   ],
   "source": [
    "%%time\n",
    "opt.to_radix(gap, var_cons_dict, radix, powers, digits=digits, prevent_zero=PREVENT_ZERO)\n"
   ]
  },
  {
   "cell_type": "markdown",
   "metadata": {
    "deletable": true,
    "editable": true
   },
   "source": [
    "### DEBUG try relaxing non-zero constraint on groups found needing to be 0\n",
    "\n",
    "[(u'PGK', 0.0), (u'GLUDy', 0.0), (u'PGM', 0.0), (u'PGI', 0.0), (u'RPI', 0.0)]"
   ]
  },
  {
   "cell_type": "code",
   "execution_count": 13,
   "metadata": {
    "collapsed": false,
    "deletable": true,
    "editable": true
   },
   "outputs": [
    {
     "name": "stdout",
     "output_type": "stream",
     "text": [
      "Skipping non-existent constraint: force_nonzero_PGK\n",
      "Skipping non-existent constraint: force_nonzero_GLUDy\n",
      "Skipping non-existent constraint: force_nonzero_PGM\n",
      "Skipping non-existent constraint: force_nonzero_PGI\n",
      "Skipping non-existent constraint: force_nonzero_RPI\n"
     ]
    }
   ],
   "source": [
    "relaxed = ['PGK','GLUDy','PGM','PGI','RPI']\n",
    "for rel in relaxed:\n",
    "    try:\n",
    "        cons_id = 'force_nonzero_%s'%rel\n",
    "        cons = gap.metabolites.get_by_id(cons_id)\n",
    "        cons._bound = 0.\n",
    "    except KeyError:\n",
    "        print('Skipping non-existent constraint: %s' % cons_id)"
   ]
  },
  {
   "cell_type": "code",
   "execution_count": 14,
   "metadata": {
    "collapsed": true,
    "deletable": true,
    "editable": true
   },
   "outputs": [],
   "source": [
    "### Try scaling\n",
    "if SCALE_CROWDING:\n",
    "    crowding = gap.metabolites.crowding\n",
    "    bound0  = crowding._bound\n",
    "    f_scale = crowding._bound\n",
    "    crowding._bound = bound0 / f_scale\n",
    "    for rxn in crowding.reactions:\n",
    "        rxn._metabolites[crowding] = rxn._metabolites[crowding]/f_scale"
   ]
  },
  {
   "cell_type": "code",
   "execution_count": 15,
   "metadata": {
    "collapsed": true,
    "deletable": true,
    "editable": true
   },
   "outputs": [],
   "source": [
    "for rxn in gap.reactions:\n",
    "    rxn.objective_coefficient = 0.\n",
    "for rxn in gap.reactions.query('binary'):\n",
    "    rxn.objective_coefficient = 1."
   ]
  },
  {
   "cell_type": "code",
   "execution_count": 16,
   "metadata": {
    "collapsed": false,
    "deletable": true,
    "editable": true
   },
   "outputs": [],
   "source": [
    "N_CONDS = 1\n",
    "\n",
    "df_meas = pd.read_csv('/home/laurence/ME/data/dynamicME/beg/growth_meas.csv')\n",
    "ex_rxns = [r.id for r in ijomc.reactions.query('EX_')]\n",
    "df_meas = df_meas[ df_meas.ex_rxn.isin(ex_rxns)]\n",
    "conds = df_meas.substrate.unique()\n",
    "df_conds = pd.DataFrame([{'cond':r['substrate'], 'rxn':ex_rxn, 'lb':-10 if r['ex_rxn']==ex_rxn else 0, 'ub':1000., 'obj':0.} for i,r in df_meas.iterrows() for ex_rxn in ex_rxns])\n",
    "df_conds = df_conds[ df_conds.cond.isin(conds[0:N_CONDS])]"
   ]
  },
  {
   "cell_type": "code",
   "execution_count": 17,
   "metadata": {
    "collapsed": false,
    "deletable": true,
    "editable": true
   },
   "outputs": [
    {
     "name": "stdout",
     "output_type": "stream",
     "text": [
      "########################################\n",
      "Initial mu_crowd=0.873922. Fitting within 1% of measured: 0.7326 <= mu <= 0.7474\n",
      "########################################\n"
     ]
    }
   ],
   "source": [
    "mu_meas = 0.74\n",
    "#mu_meas = mu_crowd0\n",
    "\n",
    "F_TOL = 0.01\n",
    "\n",
    "gap.reactions.BIOMASS_Ecoli_core_w_GAM.lower_bound = mu_meas*(1-F_TOL)\n",
    "gap.reactions.BIOMASS_Ecoli_core_w_GAM.upper_bound = mu_meas*(1+F_TOL)\n",
    "rxn_mu = gap.reactions.BIOMASS_Ecoli_core_w_GAM \n",
    "\n",
    "print('#'*40)\n",
    "print('Initial mu_crowd=%g. Fitting within %g%% of measured: %g <= mu <= %g' % (mu_crowd0, 100*F_TOL, rxn_mu.lower_bound, rxn_mu.upper_bound))\n",
    "print('#'*40)\n",
    "\n",
    "from cobra.solvers import gurobi_solver\n",
    "from gurobipy import *\n",
    "\n",
    "milp = gurobi_solver.create_problem(gap)"
   ]
  },
  {
   "cell_type": "code",
   "execution_count": 18,
   "metadata": {
    "collapsed": false,
    "deletable": true,
    "editable": true
   },
   "outputs": [
    {
     "name": "stdout",
     "output_type": "stream",
     "text": [
      "Changed value of parameter OutputFlag to 1\n",
      "   Prev: 0  Min: 0  Max: 1  Default: 1\n",
      "Optimize a model with 3193 rows, 1366 columns and 8292 nonzeros\n",
      "Variable types: 1030 continuous, 336 integer (0 binary)\n",
      "Coefficient statistics:\n",
      "  Matrix range     [5e-07, 1e+03]\n",
      "  Objective range  [1e+00, 1e+00]\n",
      "  Bounds range     [7e-01, 1e+03]\n",
      "  RHS range        [1e-03, 1e+03]\n",
      "Presolve removed 1173 rows and 183 columns\n",
      "Presolve time: 0.02s\n",
      "Presolved: 2020 rows, 1183 columns, 5982 nonzeros\n",
      "Variable types: 854 continuous, 329 integer (329 binary)\n",
      "\n",
      "Root relaxation: objective 6.256993e-01, 1044 iterations, 0.02 seconds\n",
      "\n",
      "    Nodes    |    Current Node    |     Objective Bounds      |     Work\n",
      " Expl Unexpl |  Obj  Depth IntInf | Incumbent    BestBd   Gap | It/Node Time\n",
      "\n",
      "     0     0    0.62570    0   10          -    0.62570      -     -    0s\n",
      "     0     0    0.62570    0   10          -    0.62570      -     -    0s\n",
      "     0     2    0.80080    0   10          -    0.80080      -     -    0s\n",
      "*  653   597             139      12.0000000    0.80080  93.3%   4.0    0s\n",
      "*  740   587             163      10.0000000    1.27802  87.2%   4.0    0s\n",
      "H 1010    48                       3.0000000    1.27802  57.4%   4.2    0s\n",
      "\n",
      "Cutting planes:\n",
      "  Flow cover: 2\n",
      "\n",
      "Explored 1099 nodes (6579 simplex iterations) in 0.63 seconds\n",
      "Thread count was 8 (of 8 available processors)\n",
      "\n",
      "Solution count 3: 3 10 12 \n",
      "\n",
      "Optimal solution found (tolerance 1.00e-04)\n",
      "Best objective 3.000000000000e+00, best bound 3.000000000000e+00, gap 0.0000%\n"
     ]
    }
   ],
   "source": [
    "milp.ModelSense = GRB.MINIMIZE\n",
    "#milp.ModelSense = GRB.MAXIMIZE\n",
    "\n",
    "milp.Params.IntFeasTol = 1e-9\n",
    "milp.Params.OutputFlag = 1\n",
    "# milp.Params.FeasibilityTol = 1e-9\n",
    "# milp.Params.OptimalityTol = 1e-9\n",
    "milp.optimize()"
   ]
  },
  {
   "cell_type": "code",
   "execution_count": 19,
   "metadata": {
    "collapsed": false,
    "deletable": true,
    "editable": true
   },
   "outputs": [
    {
     "name": "stdout",
     "output_type": "stream",
     "text": [
      "Initial mu_crowd=0.873922. Fitted within 1%: 0.7326 <= 0.733706 <= 0.7474\n",
      "Number of non-zero binaries: 3\n"
     ]
    }
   ],
   "source": [
    "#gap.optimize('minimize')\n",
    "rxn_mu =gap.reactions.BIOMASS_Ecoli_core_w_GAM \n",
    "#muopt = rxn_mu\n",
    "sol = gurobi_solver.format_solution(milp, gap)\n",
    "muopt = sol.x_dict[rxn_mu.id]\n",
    "yopt = [sol.x_dict[rxn.id] for rxn in gap.reactions.query('binary_')]\n",
    "sum(yopt)\n",
    "print('Initial mu_crowd=%g. Fitted within %g%%: %g <= %g <= %g' % (mu_crowd0, 100*F_TOL, rxn_mu.lower_bound, muopt, rxn_mu.upper_bound))\n",
    "print('Number of non-zero binaries: %g' % sum(yopt))"
   ]
  },
  {
   "cell_type": "code",
   "execution_count": 20,
   "metadata": {
    "collapsed": false,
    "deletable": true,
    "editable": true
   },
   "outputs": [
    {
     "data": {
      "text/plain": [
       "48"
      ]
     },
     "execution_count": 20,
     "metadata": {},
     "output_type": "execute_result"
    }
   ],
   "source": [
    "len(var_cons_dict)"
   ]
  },
  {
   "cell_type": "code",
   "execution_count": 21,
   "metadata": {
    "collapsed": false,
    "deletable": true,
    "editable": true,
    "scrolled": true
   },
   "outputs": [
    {
     "name": "stdout",
     "output_type": "stream",
     "text": [
      "binary_PGL06. Value=1.0. Power=3. Digit=1\n",
      "binary_GAPD06. Value=1.0. Power=3. Digit=1\n",
      "binary_ENO06. Value=1.0. Power=3. Digit=1\n"
     ]
    }
   ],
   "source": [
    "# Fitted parameters\n",
    "kfit_dict = {}\n",
    "for group_id, var_dict in iteritems(var_cons_dict):\n",
    "    var = var_dict[0]\n",
    "    cons = var_dict[1]\n",
    "    a0  = var_dict[0][2]\n",
    "    kfit = 0.\n",
    "    for l,pwr in enumerate(powers):\n",
    "        for k,digit in enumerate(digits):            \n",
    "            yid = 'binary_%s%s%s' % (group_id,k,l)\n",
    "            y   = sol.x_dict[yid]\n",
    "            if abs(y)>1e-10:\n",
    "                print('%s. Value=%s. Power=%g. Digit=%g' % (yid, y, pwr, digit))\n",
    "            kfit += y*a0*radix**pwr*digit\n",
    "    kfit_dict[group_id] = kfit"
   ]
  },
  {
   "cell_type": "code",
   "execution_count": 22,
   "metadata": {
    "collapsed": false,
    "deletable": true,
    "editable": true
   },
   "outputs": [
    {
     "data": {
      "text/plain": [
       "[(u'PGL', 3.418803418803419e-05),\n",
       " (u'GAPD', 3.418803418803419e-05),\n",
       " (u'ENO', 3.418803418803419e-05)]"
      ]
     },
     "execution_count": 22,
     "metadata": {},
     "output_type": "execute_result"
    }
   ],
   "source": [
    "[(k,v) for k,v in iteritems(kfit_dict) if abs(v)>1e-10]"
   ]
  },
  {
   "cell_type": "markdown",
   "metadata": {
    "deletable": true,
    "editable": true
   },
   "source": [
    "### Plug back in to be sure"
   ]
  },
  {
   "cell_type": "code",
   "execution_count": 23,
   "metadata": {
    "collapsed": true,
    "deletable": true,
    "editable": true
   },
   "outputs": [],
   "source": [
    "#----------------------------------------\n",
    "# Starting from basal model\n",
    "ijofit = load_json_model('/home/laurence/ME/models/BiGG_M/json/e_coli_core.json')\n",
    "crowding = Constraint('crowding')\n",
    "crowding._bound = crowding_bound0   # before scaling\n",
    "crowding._constraint_sense = 'L'\n",
    "for rid,kfit in iteritems(kfit_dict):\n",
    "    rxn = ijofit.reactions.get_by_id(rid)\n",
    "    rxn.add_metabolites({crowding:kfit})"
   ]
  },
  {
   "cell_type": "code",
   "execution_count": 24,
   "metadata": {
    "collapsed": false,
    "deletable": true,
    "editable": true
   },
   "outputs": [
    {
     "data": {
      "text/plain": [
       "'Unoptimized: 0.873922. Fitted: 0.733706'"
      ]
     },
     "execution_count": 24,
     "metadata": {},
     "output_type": "execute_result"
    }
   ],
   "source": [
    "ijofit.optimize()\n",
    "'Unoptimized: %g. Fitted: %g' % (mu_crowd0, ijofit.reactions.BIOMASS_Ecoli_core_w_GAM.x)"
   ]
  }
 ],
 "metadata": {
  "kernelspec": {
   "display_name": "Python 2",
   "language": "python",
   "name": "python2"
  },
  "language_info": {
   "codemirror_mode": {
    "name": "ipython",
    "version": 2
   },
   "file_extension": ".py",
   "mimetype": "text/x-python",
   "name": "python",
   "nbconvert_exporter": "python",
   "pygments_lexer": "ipython2",
   "version": "2.7.14"
  }
 },
 "nbformat": 4,
 "nbformat_minor": 2
}
