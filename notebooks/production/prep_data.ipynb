{
 "cells": [
  {
   "cell_type": "code",
   "execution_count": 3,
   "metadata": {
    "collapsed": false
   },
   "outputs": [
    {
     "name": "stdout",
     "output_type": "stream",
     "text": [
      "(16017, 4)\n",
      "(532, 4)\n",
      "(0, 4)\n",
      "(0, 4)\n"
     ]
    }
   ],
   "source": [
    "from Bio import SeqIO\n",
    "import pandas as pd\n",
    "import numpy as np\n",
    "import re\n",
    "\n",
    "### Get gene ID mapping directly from genbank\n",
    "gb = SeqIO.read('/home/laurence/ME/data/references/NC_000913.3.gb','gb')\n",
    "\n",
    "patt_gi = re.compile(r'GI:(\\d+)')\n",
    "patt_uniprot = re.compile(r'UniProtKB/Swiss-Prot:([A-Z]\\S+)')\n",
    "element_types = {'CDS','tRNA','rRNA','ncRNA','tmRNA'}\n",
    "full_seq = str(gb.seq)\n",
    "nSeq = len(gb.seq)\n",
    "\n",
    "k_gene = 0\n",
    "rows = []\n",
    "for f in [f for f in gb.features if f.type in element_types]:\n",
    "    locus_tags = f.qualifiers['locus_tag']\n",
    "    locus_tags = [l.strip() for l in locus_tags]\n",
    "    uniprots = [patt_uniprot.findall(x) for x in f.qualifiers['db_xref']]\n",
    "    uniprots = [uni[0] for uni in uniprots if uni]\n",
    "    gis = [patt_gi.findall(x) for x in f.qualifiers['db_xref']]\n",
    "    gis = [gi[0] for gi in gis if gi]\n",
    "    genes = f.qualifiers['gene']\n",
    "    genes += f.qualifiers['gene_synonym'][0].split(';')\n",
    "    genes = [g.strip() for g in genes]\n",
    "        \n",
    "    if len(gis)==0:\n",
    "        gis = [np.nan]\n",
    "    if len(genes)==0:\n",
    "        genes = [np.nan]\n",
    "    if len(locus_tags)==0:\n",
    "        locus_tags = [np.nan]\n",
    "    for uniprot in uniprots:\n",
    "        for gi in gis:\n",
    "            for gene in genes:\n",
    "                for locus in locus_tags:\n",
    "                    row = {'locus_tag':locus,\n",
    "                           'GI':gi,\n",
    "                           'gene':gene,\n",
    "                           'uniprot':uniprot}\n",
    "                    rows.append(row)\n",
    "\n",
    "df_annot = pd.DataFrame(rows)\n",
    "df_annot = df_annot.drop_duplicates()\n",
    "print df_annot.shape\n",
    "print df_annot[ df_annot.GI.isnull()].shape\n",
    "print df_annot[ df_annot.gene.isnull()].shape\n",
    "print df_annot[ df_annot.locus_tag.isnull()].shape"
   ]
  },
  {
   "cell_type": "code",
   "execution_count": 6,
   "metadata": {
    "collapsed": false
   },
   "outputs": [
    {
     "data": {
      "text/html": [
       "<div>\n",
       "<style>\n",
       "    .dataframe thead tr:only-child th {\n",
       "        text-align: right;\n",
       "    }\n",
       "\n",
       "    .dataframe thead th {\n",
       "        text-align: left;\n",
       "    }\n",
       "\n",
       "    .dataframe tbody tr th {\n",
       "        vertical-align: top;\n",
       "    }\n",
       "</style>\n",
       "<table border=\"1\" class=\"dataframe\">\n",
       "  <thead>\n",
       "    <tr style=\"text-align: right;\">\n",
       "      <th></th>\n",
       "      <th>GI</th>\n",
       "      <th>gene</th>\n",
       "      <th>locus_tag</th>\n",
       "      <th>uniprot</th>\n",
       "    </tr>\n",
       "  </thead>\n",
       "  <tbody>\n",
       "    <tr>\n",
       "      <th>0</th>\n",
       "      <td>16127995</td>\n",
       "      <td>thrL</td>\n",
       "      <td>b0001</td>\n",
       "      <td>P0AD86</td>\n",
       "    </tr>\n",
       "    <tr>\n",
       "      <th>1</th>\n",
       "      <td>16127995</td>\n",
       "      <td>ECK0001</td>\n",
       "      <td>b0001</td>\n",
       "      <td>P0AD86</td>\n",
       "    </tr>\n",
       "  </tbody>\n",
       "</table>\n",
       "</div>"
      ],
      "text/plain": [
       "         GI     gene locus_tag uniprot\n",
       "0  16127995     thrL     b0001  P0AD86\n",
       "1  16127995  ECK0001     b0001  P0AD86"
      ]
     },
     "execution_count": 6,
     "metadata": {},
     "output_type": "execute_result"
    }
   ],
   "source": [
    "df_annot.head(2)"
   ]
  },
  {
   "cell_type": "code",
   "execution_count": 5,
   "metadata": {
    "collapsed": false
   },
   "outputs": [],
   "source": [
    "df_annot.to_csv('/home/laurence/ME/data/dynamicME/gene_mapping.csv', index=False)"
   ]
  }
 ],
 "metadata": {
  "kernelspec": {
   "display_name": "Python 2",
   "language": "python",
   "name": "python2"
  },
  "language_info": {
   "codemirror_mode": {
    "name": "ipython",
    "version": 2
   },
   "file_extension": ".py",
   "mimetype": "text/x-python",
   "name": "python",
   "nbconvert_exporter": "python",
   "pygments_lexer": "ipython2",
   "version": "2.7.13"
  }
 },
 "nbformat": 4,
 "nbformat_minor": 2
}
