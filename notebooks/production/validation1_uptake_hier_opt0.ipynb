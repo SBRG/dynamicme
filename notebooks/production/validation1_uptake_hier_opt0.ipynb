{
 "cells": [
  {
   "cell_type": "markdown",
   "metadata": {
    "deletable": true,
    "editable": true
   },
   "source": [
    "# Simulate proteome time profiles.\n",
    "## Start from measured proteome that is already hedged: necessary to enable lactate usage later?"
   ]
  },
  {
   "cell_type": "code",
   "execution_count": 1,
   "metadata": {
    "collapsed": true,
    "deletable": true,
    "editable": true
   },
   "outputs": [],
   "source": [
    "import seaborn as sns\n",
    "import pandas as pd\n",
    "\n",
    "sns.plt.rcParams['svg.fonttype'] = 'none'\n",
    "pd.set_option('display.max_colwidth', -1)\n",
    "#pd.set_option('display.float_format', lambda x: '%.3g' % x)\n",
    "%matplotlib inline"
   ]
  },
  {
   "cell_type": "code",
   "execution_count": 2,
   "metadata": {
    "collapsed": true,
    "deletable": true,
    "editable": true
   },
   "outputs": [],
   "source": [
    "PROTOTYPE = False"
   ]
  },
  {
   "cell_type": "code",
   "execution_count": 3,
   "metadata": {
    "collapsed": false,
    "deletable": true,
    "editable": true
   },
   "outputs": [],
   "source": [
    "from dynamicme.tests.helpme import HelpME\n",
    "from dynamicme.dynamic import get_cplx_concs\n",
    "\n",
    "helper = HelpME(prototyping=PROTOTYPE)\n",
    "solver = helper.solver\n",
    "me = solver.me"
   ]
  },
  {
   "cell_type": "code",
   "execution_count": 4,
   "metadata": {
    "collapsed": true,
    "deletable": true,
    "editable": true
   },
   "outputs": [],
   "source": [
    "cplx_concs_max = get_cplx_concs(solver)"
   ]
  },
  {
   "cell_type": "code",
   "execution_count": 5,
   "metadata": {
    "collapsed": false,
    "deletable": true,
    "editable": true
   },
   "outputs": [
    {
     "name": "stdout",
     "output_type": "stream",
     "text": [
      "mu of ME for growth maximization: 0.911689453125\n"
     ]
    }
   ],
   "source": [
    "mu_me = me.solution.x_dict['biomass_dilution']\n",
    "print 'mu of ME for growth maximization:', mu_me"
   ]
  },
  {
   "cell_type": "code",
   "execution_count": 6,
   "metadata": {
    "collapsed": false,
    "deletable": true,
    "editable": true
   },
   "outputs": [],
   "source": [
    "from dynamicme.dynamic import DelayedDynamicME\n",
    "\n",
    "dyme = DelayedDynamicME(solver)\n",
    "dyme.delay_model.solver.set_realopts('lp', {'Feasibility tol':1e-15,'Optimality tol':1e-15})\n",
    "dsolver = dyme.delay_model.solver"
   ]
  },
  {
   "cell_type": "markdown",
   "metadata": {
    "deletable": true,
    "editable": true
   },
   "source": [
    "## Initial condition proteome\n",
    "1. Optimal predicted proteome on glucose (unrealistic--useful for illustrating difference from actual generalist observed)\n",
    "1. Measured proteome on glucose (more realistic--generalist)\n",
    "\n",
    "**A result in itself?:** explaining and predicting differences in growth trajectories depending on initial proteome\n",
    "- explains why passing a few generations allows adaptation without mutation enabling faster growth of even the wild-type\n",
    "- also means initial proteome definitely not at growth optimal--can show the difference\n",
    "- does this mechanism also explain lag phase?\n",
    "\n",
    "### Need to show results for multiple initial representative proteomes\n",
    "1. Glucose optimal\n",
    "1. Glycerol optimal (since glycerol wasn't fully utilized)\n",
    "1. Measured glucose proteome--at fixed measured growth rate and closest proteome"
   ]
  },
  {
   "cell_type": "markdown",
   "metadata": {
    "deletable": true,
    "editable": true
   },
   "source": [
    "# Initial proteome A: closest to measured proteome at measured growth rate\n",
    "## Test the optimal predicted proteome"
   ]
  },
  {
   "cell_type": "code",
   "execution_count": 7,
   "metadata": {
    "collapsed": false,
    "deletable": true,
    "editable": true
   },
   "outputs": [
    {
     "name": "stdout",
     "output_type": "stream",
     "text": [
      "Growth on Glucose = 0.58\n"
     ]
    }
   ],
   "source": [
    "C_meas = 'Glucose'\n",
    "###\n",
    "df_meta = pd.read_csv('/home/laurence/ME/data/cobrame/sectors/proteomics_conds.csv')\n",
    "mu_meas = df_meta[ df_meta.exp==C_meas].iloc[0]['Growth.rate..h.1.']\n",
    "print 'Growth on %s = %g' % (C_meas, mu_meas)"
   ]
  },
  {
   "cell_type": "code",
   "execution_count": 8,
   "metadata": {
    "collapsed": false,
    "deletable": true,
    "editable": true
   },
   "outputs": [
    {
     "name": "stdout",
     "output_type": "stream",
     "text": [
      "(51898, 8)\n"
     ]
    }
   ],
   "source": [
    "df_meas = pd.read_csv('/home/laurence/ME/data/cobrame/sectors/schmidt_prot_mf.csv')\n",
    "print df_meas.shape\n",
    "#df_meas.head(2)"
   ]
  },
  {
   "cell_type": "code",
   "execution_count": 9,
   "metadata": {
    "collapsed": false,
    "deletable": true,
    "editable": true
   },
   "outputs": [],
   "source": [
    "df_meas_C = df_meas[ df_meas.condition==C_meas]\n",
    "#df_meas_C.head(2)"
   ]
  },
  {
   "cell_type": "code",
   "execution_count": 10,
   "metadata": {
    "collapsed": true,
    "deletable": true,
    "editable": true
   },
   "outputs": [],
   "source": [
    "meas_dict = {r['Bnumber']:r['mf'] for i,r in df_meas_C.iterrows()}"
   ]
  },
  {
   "cell_type": "code",
   "execution_count": 11,
   "metadata": {
    "collapsed": false,
    "deletable": true,
    "editable": true
   },
   "outputs": [
    {
     "data": {
      "text/plain": [
       "0.9999999999999964"
      ]
     },
     "execution_count": 11,
     "metadata": {},
     "output_type": "execute_result"
    }
   ],
   "source": [
    "sum(meas_dict.values())"
   ]
  },
  {
   "cell_type": "markdown",
   "metadata": {
    "deletable": true,
    "editable": true
   },
   "source": [
    "# Get simulated proteome closest to measured\n",
    "- L1 (drops potential outliers)\n",
    "- L2 (tries to get match everything)\n",
    "    - should pre-process to remove outliers?"
   ]
  },
  {
   "cell_type": "code",
   "execution_count": 12,
   "metadata": {
    "collapsed": false,
    "deletable": true,
    "editable": true
   },
   "outputs": [
    {
     "name": "stdout",
     "output_type": "stream",
     "text": [
      "CPU times: user 96.7 ms, sys: 20 ms, total: 117 ms\n",
      "Wall time: 116 ms\n"
     ]
    }
   ],
   "source": [
    "%%time\n",
    "\n",
    "from cobrawe.fit import FitME\n",
    "\n",
    "fit = FitME(me)\n",
    "#me_nlp = fit.me_nlp\n",
    "#me_nlp.compiled_expressions = None\n",
    "#sol,stat,hs = fit.fit_mass_frac(meas_dict, mu_meas, norm='l1')"
   ]
  },
  {
   "cell_type": "markdown",
   "metadata": {
    "deletable": true,
    "editable": true
   },
   "source": [
    "## Initialize dynamicME with this feasible initial proteome and growth rate"
   ]
  },
  {
   "cell_type": "code",
   "execution_count": 13,
   "metadata": {
    "collapsed": false,
    "deletable": true,
    "editable": true
   },
   "outputs": [],
   "source": [
    "cplx_concs = get_cplx_concs(solver)\n",
    "cplx_conc_dict0 = dict(cplx_concs)"
   ]
  },
  {
   "cell_type": "code",
   "execution_count": 14,
   "metadata": {
    "collapsed": false,
    "deletable": true,
    "editable": true
   },
   "outputs": [],
   "source": [
    "import json\n",
    "\n",
    "# fname = '/home/laurence/ME/data/dynamicME/production/cplx_conc_opt_%s.csv'%C_meas\n",
    "# print fname\n",
    "# with open(fname,'w') as f:\n",
    "#     json.dump(cplx_conc_dict0, f)"
   ]
  },
  {
   "cell_type": "markdown",
   "metadata": {
    "deletable": true,
    "editable": true
   },
   "source": [
    "# Validate mixed substrate uptake hierarchy--Beg et al. (2007) MSB"
   ]
  },
  {
   "cell_type": "code",
   "execution_count": 15,
   "metadata": {
    "collapsed": false,
    "deletable": true,
    "editable": true
   },
   "outputs": [
    {
     "name": "stdout",
     "output_type": "stream",
     "text": [
      "{'glyc_e': 4.34339676647141, 'malt_e': 1.1685776026677226, 'lac__L_e': 4.4908498933423155, 'gal_e': 2.220299442904667, 'ac_e': 0.0, 'glc__D_e': 2.220299442904667}\n",
      "{u'EX_glyc_e': -10.0, u'EX_o2_e': -20.0, u'EX_gal_e': -10.0, u'EX_lac__L_e': -10.0, u'EX_malt_e': -10.0, u'EX_ac_e': -10.0, 'EX_glc__D_e': -10.0}\n"
     ]
    }
   ],
   "source": [
    "import warnings\n",
    "\n",
    "T = 10   # hours\n",
    "V = 1.   # L\n",
    "X0 = 0.00675 / V  # g/L\n",
    "c0_dict = {'glc__D_e': 0.4,\n",
    "           'lac__L_e': 0.4,\n",
    "           'malt_e': 0.4,\n",
    "           'gal_e': 0.4,\n",
    "           'glyc_e':0.4,\n",
    "           'ac_e': 0.0}\n",
    "\n",
    "### Convert from g/L to mmol\n",
    "mids_remove = []\n",
    "for mid,c in c0_dict.iteritems():\n",
    "    try:        \n",
    "        met = me.metabolites.get_by_id(mid)    \n",
    "        c0_dict[met.id] = c / met.formula_weight * 1000\n",
    "    except KeyError:\n",
    "        warnings.warn('Model has no metabolite: %s. Will remove it from c0_dict' % mid)\n",
    "        mids_remove.append(mid)\n",
    "\n",
    "for mid in mids_remove:\n",
    "    c0_dict.pop(mid)\n",
    "        \n",
    "### Set max uptake rate\n",
    "LB_EX = -10.\n",
    "LB_O2 = -20.\n",
    "\n",
    "lb_dict={}\n",
    "ub_dict={}\n",
    "\n",
    "for mid in c0_dict.keys():\n",
    "    try:\n",
    "        rxn = dyme.get_exchange_rxn(mid)    \n",
    "        if rxn.id is 'EX_o2_e':\n",
    "            lb = LB_O2\n",
    "        else:\n",
    "            lb = LB_EX\n",
    "        rxn.lower_bound = lb\n",
    "        lb_dict[rxn.id] = lb\n",
    "    except KeyError:\n",
    "        warnings.warn('Model has no metabolite: '+ mid)\n",
    "\n",
    "me.reactions.EX_o2_e.lower_bound = -20.\n",
    "lb_dict[me.reactions.EX_o2_e.id] = -20.\n",
    "        \n",
    "print c0_dict\n",
    "print lb_dict"
   ]
  },
  {
   "cell_type": "markdown",
   "metadata": {
    "deletable": true,
    "editable": true
   },
   "source": [
    "## Max mu on each C src individually"
   ]
  },
  {
   "cell_type": "code",
   "execution_count": null,
   "metadata": {
    "collapsed": false,
    "deletable": true,
    "editable": true
   },
   "outputs": [
    {
     "data": {
      "text/plain": [
       "{u'EX_ac_e': -10.0,\n",
       " u'EX_gal_e': -10.0,\n",
       " 'EX_glc__D_e': -10.0,\n",
       " u'EX_glyc_e': -10.0,\n",
       " u'EX_lac__L_e': -10.0,\n",
       " u'EX_malt_e': -10.0,\n",
       " u'EX_o2_e': -20.0}"
      ]
     },
     "execution_count": 16,
     "metadata": {},
     "output_type": "execute_result"
    }
   ],
   "source": [
    "lb_dict"
   ]
  },
  {
   "cell_type": "markdown",
   "metadata": {
    "deletable": true,
    "editable": true
   },
   "source": [
    "### Debug"
   ]
  },
  {
   "cell_type": "code",
   "execution_count": null,
   "metadata": {
    "collapsed": false,
    "deletable": true,
    "editable": true,
    "scrolled": true
   },
   "outputs": [
    {
     "name": "stdout",
     "output_type": "stream",
     "text": [
      "iter\tmuopt    \ta     \tb     \tmu1       \tstat1\n",
      "Finished substituting S,lb,ub in 5.008647 seconds\n",
      "Finished makeME_LP in 1.022212 seconds\n",
      "Getting MINOS parameters from ME_NLP..."
     ]
    }
   ],
   "source": [
    "%%time\n",
    "\n",
    "sols = {}\n",
    "for rid,lb in lb_dict.iteritems():\n",
    "    #  reset\n",
    "    for rid,lb in lb_dict.iteritems():\n",
    "        if rid != 'EX_o2_e':\n",
    "            rxn = me.reactions.get_by_id(rid)\n",
    "            rxn.lower_bound = 0.\n",
    "    if rid != 'EX_o2_e':\n",
    "        rxn = me.reactions.get_by_id(rid)\n",
    "        rxn.lower_bound = lb\n",
    "        muopt, hs, xopt, cache = solver.bisectmu(basis=solver.feas_basis)\n",
    "        sols[rid] = muopt"
   ]
  },
  {
   "cell_type": "code",
   "execution_count": null,
   "metadata": {
    "collapsed": true,
    "deletable": true,
    "editable": true
   },
   "outputs": [],
   "source": []
  },
  {
   "cell_type": "code",
   "execution_count": null,
   "metadata": {
    "collapsed": false,
    "deletable": true,
    "editable": true
   },
   "outputs": [],
   "source": [
    "import numpy as np\n",
    "cvals = np.array(cplx_conc_dict0.values())\n",
    "cvals[ cvals>0].min()"
   ]
  },
  {
   "cell_type": "code",
   "execution_count": null,
   "metadata": {
    "collapsed": true,
    "deletable": true,
    "editable": true
   },
   "outputs": [],
   "source": [
    "solver.set_realopts('lp', {'Feasibility tol':1e-15, 'Optimality tol':1e-15})"
   ]
  },
  {
   "cell_type": "code",
   "execution_count": null,
   "metadata": {
    "collapsed": false,
    "deletable": true,
    "editable": true
   },
   "outputs": [],
   "source": [
    "from cobrame import MetabolicReaction\n",
    "\n",
    "if PROTOTYPE:\n",
    "    fluxes_plot = ['ACONTa_CPLX0-7760_mod_4fe4s', 'ACONTb_CPLX0-7760_mod_4fe4s', 'ACKr_reverse']\n",
    "else:\n",
    "    #fluxes_plot = [r.id for r in dsolver.me.reactions if isinstance(r,MetabolicReaction)]\n",
    "    fluxes_plot = [r.id for r in dsolver.me.reactions]"
   ]
  },
  {
   "cell_type": "code",
   "execution_count": null,
   "metadata": {
    "collapsed": false,
    "deletable": true,
    "editable": true
   },
   "outputs": [],
   "source": [
    "len(fluxes_plot)"
   ]
  },
  {
   "cell_type": "code",
   "execution_count": null,
   "metadata": {
    "collapsed": false,
    "deletable": true,
    "editable": true,
    "scrolled": true
   },
   "outputs": [],
   "source": [
    "%%time\n",
    "extra_rxns_tracked = list(set(['EX_o2_e'] + fluxes_plot + ['biomass_dilution']))\n",
    "\n",
    "T = 20\n",
    "dt = 0.5\n",
    "H = dt\n",
    "\n",
    "result = dyme.simulate_batch(\n",
    "    T,    \n",
    "    c0_dict,\n",
    "    X0,\n",
    "    prec_bs=1e-3,\n",
    "    ZERO_CONC=0.,\n",
    "    extra_rxns_tracked=extra_rxns_tracked,\n",
    "    lb_dict={},\n",
    "    verbosity=2,\n",
    "    dt = dt,\n",
    "    H = H,\n",
    "    cplx_conc_dict0=cplx_conc_dict0)"
   ]
  },
  {
   "cell_type": "markdown",
   "metadata": {
    "deletable": true,
    "editable": true
   },
   "source": [
    "### Save results"
   ]
  },
  {
   "cell_type": "code",
   "execution_count": null,
   "metadata": {
    "collapsed": false,
    "deletable": true,
    "editable": true
   },
   "outputs": [],
   "source": [
    "import json\n",
    "result2 = result.copy()\n",
    "result2.keys()\n",
    "result2.pop('basis')\n",
    "\n",
    "with open('/home/laurence/ME/data/dynamicME/production/validation1_uptake_hier_sim_opt0_R02.json','w') as f:\n",
    "    json.dump(result2, f)"
   ]
  },
  {
   "cell_type": "code",
   "execution_count": 38,
   "metadata": {
    "collapsed": false,
    "deletable": true,
    "editable": true
   },
   "outputs": [
    {
     "data": {
      "text/plain": [
       "[<matplotlib.lines.Line2D at 0x7f8e00a02150>]"
      ]
     },
     "execution_count": 38,
     "metadata": {},
     "output_type": "execute_result"
    },
    {
     "data": {
      "image/png": "[encoded data removed]",
      "text/plain": [
       "<matplotlib.figure.Figure at 0x7f8e12d00190>"
      ]
     },
     "metadata": {},
     "output_type": "display_data"
    }
   ],
   "source": [
    "import seaborn as sns\n",
    "%matplotlib inline\n",
    "\n",
    "sns.plt.plot(result['time'], result['biomass'])"
   ]
  },
  {
   "cell_type": "code",
   "execution_count": 39,
   "metadata": {
    "collapsed": false,
    "deletable": true,
    "editable": true
   },
   "outputs": [
    {
     "data": {
      "text/plain": [
       "{'ac_e': {'mw': 59.04402, 'rxn': <Reaction EX_ac_e at 0x7f8e15ebf110>},\n",
       " 'gal_e': {'mw': 180.15588, 'rxn': <Reaction EX_gal_e at 0x7f8e15da5850>},\n",
       " 'glc__D_e': {'mw': 180.15588,\n",
       "  'rxn': <Reaction EX_glc__D_e at 0x7f8e15d48090>},\n",
       " 'glyc_e': {'mw': 92.09382, 'rxn': <Reaction EX_glyc_e at 0x7f8e15d52fd0>},\n",
       " 'lac__L_e': {'mw': 89.07, 'rxn': <Reaction EX_lac__L_e at 0x7f8e15d352d0>},\n",
       " 'malt_e': {'mw': 342.29648, 'rxn': <Reaction EX_malt_e at 0x7f8e15ccc390>}}"
      ]
     },
     "execution_count": 39,
     "metadata": {},
     "output_type": "execute_result"
    }
   ],
   "source": [
    "ex_met_rxn_dict = {m: {'rxn':dyme.get_exchange_rxn(m), 'mw':me.metabolites.get_by_id(m).formula_weight} for m in c0_dict.keys()}\n",
    "ex_met_rxn_dict"
   ]
  },
  {
   "cell_type": "code",
   "execution_count": 40,
   "metadata": {
    "collapsed": false,
    "deletable": true,
    "editable": true,
    "scrolled": true
   },
   "outputs": [],
   "source": [
    "import pandas as pd\n",
    "\n",
    "df_conc = pd.DataFrame(result['concentration'])\n",
    "### Convert concentrations to g/L\n",
    "for mid, vals in ex_met_rxn_dict.iteritems():\n",
    "    df_conc[mid] = df_conc[mid] * vals['mw'] * 0.001\n",
    "\n",
    "df_time = pd.DataFrame({'time':t, 'biomass':b} for t,b in zip(result['time'], result['biomass']))\n",
    "df_flux = pd.DataFrame(result['ex_flux'])\n",
    "df_mu   = pd.DataFrame({'mu':result['growth_rate']})\n",
    "df_result = pd.concat([df_time, df_conc, df_flux, df_mu], axis=1)"
   ]
  },
  {
   "cell_type": "code",
   "execution_count": 41,
   "metadata": {
    "collapsed": true,
    "deletable": true,
    "editable": true
   },
   "outputs": [],
   "source": [
    "dsplot = pd.melt(df_result, id_vars='time', value_vars=['biomass','ac_e','gal_e','glc__D_e','glyc_e','lac__L_e','malt_e'])\n",
    "dsplot.time = pd.to_numeric(dsplot.time)\n",
    "dsplot['category'] = 'Metabolite'\n",
    "dsplot.loc[ dsplot.variable=='biomass', 'category'] = 'Biomass'"
   ]
  },
  {
   "cell_type": "code",
   "execution_count": 42,
   "metadata": {
    "collapsed": false,
    "deletable": true,
    "editable": true
   },
   "outputs": [
    {
     "data": {
      "text/plain": [
       "<seaborn.axisgrid.FacetGrid at 0x7f8e12478650>"
      ]
     },
     "execution_count": 42,
     "metadata": {},
     "output_type": "execute_result"
    },
    {
     "data": {
      "image/png": "[encoded data removed]",
      "text/plain": [
       "<matplotlib.figure.Figure at 0x7f8e015e3310>"
      ]
     },
     "metadata": {},
     "output_type": "display_data"
    }
   ],
   "source": [
    "colors = [\n",
    "'#000000', # biomass\n",
    "'#660066', # acetate\n",
    "'#00CC00', #'#00FF00', # galactose\n",
    "'#000000', # glucose\n",
    "'#FF00FF', # glycerol\n",
    "'#0000FF', # lactate\n",
    "'#FF0000', # maltose\n",
    "]\n",
    "\n",
    "colpal = sns.color_palette(colors)\n",
    "sns.set_palette(colpal)\n",
    "\n",
    "g = sns.FacetGrid(data=dsplot, hue='variable', col='category', sharey=False, size=5)\n",
    "\n",
    "g.map(sns.plt.plot, 'time', 'value', linestyle='-', marker='.')\n",
    "for i,ax in enumerate(g.axes.flat):\n",
    "    ylim = ax.get_ylim()\n",
    "    ax.set_ylim((ylim[0],ylim[1]*1.1))\n",
    "    if i==0:\n",
    "        ax.set_ylabel('Biomass (g/L)')\n",
    "    else:\n",
    "        ax.set_ylabel('Metabolite concentration (g/L)')\n",
    "g.set_xlabels('Time (h)')\n",
    "g.add_legend()"
   ]
  },
  {
   "cell_type": "code",
   "execution_count": null,
   "metadata": {
    "collapsed": false,
    "deletable": true,
    "editable": true
   },
   "outputs": [],
   "source": [
    "g.savefig('/home/laurence/ME/figures/persistME/beg_init_opt_R02.pdf')\n",
    "g.savefig('/home/laurence/ME/figures/persistME/beg_init_opt_R02.svg')\n",
    "g.savefig('/home/laurence/ME/figures/persistME/beg_init_opt_R02.eps')"
   ]
  },
  {
   "cell_type": "code",
   "execution_count": 43,
   "metadata": {
    "collapsed": false,
    "deletable": true,
    "editable": true
   },
   "outputs": [],
   "source": [
    "if PROTOTYPE:\n",
    "    complexes_plot = ['IPPMIa_E_c', 'ACKr_reverse_E_c', 'CPLX0-7760_mod_4fe4s','CPLX0-7761_mod_4fe4s']\n",
    "else:\n",
    "    complexes_plot = ['3-ISOPROPYLMALISOM-CPLX_mod_4fe4s', 'ACETATEKINA-MONOMER_mod_mg2', 'CPLX0-7659']"
   ]
  },
  {
   "cell_type": "code",
   "execution_count": 44,
   "metadata": {
    "collapsed": false,
    "deletable": true,
    "editable": true
   },
   "outputs": [
    {
     "data": {
      "text/plain": [
       "15565"
      ]
     },
     "execution_count": 44,
     "metadata": {},
     "output_type": "execute_result"
    }
   ],
   "source": [
    "len(fluxes_plot)"
   ]
  },
  {
   "cell_type": "code",
   "execution_count": 45,
   "metadata": {
    "collapsed": false,
    "deletable": true,
    "editable": true
   },
   "outputs": [
    {
     "name": "stdout",
     "output_type": "stream",
     "text": [
      "0\n"
     ]
    }
   ],
   "source": [
    "fluxes_plot2 = []\n",
    "\n",
    "for rid in fluxes_plot:\n",
    "    rxn = dsolver.me.reactions.get_by_id(rid)\n",
    "    x   = result['rxn_flux'][0][rid]\n",
    "    try:\n",
    "        if abs(x) > 1:\n",
    "            fluxes_plot2.append(rxn.id)\n",
    "    except:\n",
    "        pass\n",
    "        \n",
    "print len(fluxes_plot2)"
   ]
  },
  {
   "cell_type": "code",
   "execution_count": 46,
   "metadata": {
    "collapsed": false,
    "deletable": true,
    "editable": true
   },
   "outputs": [],
   "source": [
    "df_mu = pd.DataFrame([{'time':t, 'variable':'growth_rate', 'value':c, 'category':'growth'} for t,c in zip(result['time'], result['growth_rate'])] )\n",
    "\n",
    "df_complex = pd.DataFrame([{'time':t, 'complex':c, 'abundance':cdict[c]} \n",
    "                           for t,cdict in zip(result['time'], result['complex']) for c in complexes_plot] )\n",
    "\n",
    "df_mflux = pd.DataFrame([{'time':t, 'rxn':c, 'flux':cdict[c]} \n",
    "                           for t,cdict in zip(result['time'], result['rxn_flux']) for c in fluxes_plot2] )\n",
    "\n",
    "df_complex.loc[:,'category'] = 'complex'\n",
    "try:\n",
    "    df_mflux.loc[:,'category'] = 'flux'\n",
    "except:\n",
    "    pass\n",
    "\n",
    "dsplot_all = pd.concat([dsplot,\n",
    "                        df_mu,\n",
    "                          df_complex.rename(columns={'complex':'variable', 'abundance':'value'}),\n",
    "                          df_mflux.rename(columns={'rxn':'variable', 'flux':'value'})])"
   ]
  },
  {
   "cell_type": "code",
   "execution_count": 47,
   "metadata": {
    "collapsed": false,
    "deletable": true,
    "editable": true
   },
   "outputs": [
    {
     "data": {
      "text/plain": [
       "<seaborn.axisgrid.FacetGrid at 0x7f8e1248fc50>"
      ]
     },
     "execution_count": 47,
     "metadata": {},
     "output_type": "execute_result"
    },
    {
     "data": {
      "image/png": "[encoded data removed]",
      "text/plain": [
       "<matplotlib.figure.Figure at 0x7f8e12340910>"
      ]
     },
     "metadata": {},
     "output_type": "display_data"
    }
   ],
   "source": [
    "sns.set_style('ticks')\n",
    "palette = sns.color_palette('muted', len(dsplot_all.variable.unique()))\n",
    "g = sns.FacetGrid(data=dsplot_all, hue='variable', sharey=False, size=3, col='category', palette=palette,\n",
    "                  aspect=2, col_wrap=2, col_order=['Biomass','complex','Metabolite','flux','growth'])\n",
    "g.map(sns.plt.plot, 'time', 'value', linestyle='-', marker='.')\n",
    "g.add_legend()"
   ]
  },
  {
   "cell_type": "markdown",
   "metadata": {},
   "source": [
    "## DEBUG: try solving when substrates still left"
   ]
  },
  {
   "cell_type": "code",
   "execution_count": 55,
   "metadata": {
    "collapsed": false
   },
   "outputs": [
    {
     "data": {
      "text/plain": [
       "['rxn_flux',\n",
       " 'complex',\n",
       " 'ex_flux',\n",
       " 'time',\n",
       " 'concentration',\n",
       " 'basis',\n",
       " 'biomass',\n",
       " 'growth_rate']"
      ]
     },
     "execution_count": 55,
     "metadata": {},
     "output_type": "execute_result"
    }
   ],
   "source": [
    "result.keys()"
   ]
  },
  {
   "cell_type": "code",
   "execution_count": 71,
   "metadata": {
    "collapsed": false
   },
   "outputs": [],
   "source": [
    "mu_dbg = result['growth_rate'][25]\n",
    "ind_dbg= result['growth_rate'].index(mu_dbg)\n",
    "t_dbg = result['time'][ind_dbg]"
   ]
  },
  {
   "cell_type": "code",
   "execution_count": 77,
   "metadata": {
    "collapsed": false
   },
   "outputs": [],
   "source": [
    "cplx_conc_dbg = result['complex'][ind_dbg]\n",
    "#cplx_conc_dbg"
   ]
  },
  {
   "cell_type": "code",
   "execution_count": 82,
   "metadata": {
    "collapsed": false
   },
   "outputs": [],
   "source": [
    "dyme.delay_model.update_cplx_concs(cplx_conc_dbg)"
   ]
  },
  {
   "cell_type": "code",
   "execution_count": 84,
   "metadata": {
    "collapsed": false
   },
   "outputs": [],
   "source": [
    "dme = dyme.delay_model.solver.me"
   ]
  },
  {
   "cell_type": "code",
   "execution_count": 86,
   "metadata": {
    "collapsed": false
   },
   "outputs": [
    {
     "name": "stdout",
     "output_type": "stream",
     "text": [
      "-1000.0        EX_ac_e                                      \n",
      "-1000.0        EX_ca2_e                                     \n",
      "-1000.0        EX_cl_e                                      \n",
      "-1000.0        EX_co2_e                                     \n",
      "-1000.0        EX_cobalt2_e                                 \n",
      "-1000.0        EX_cu2_e                                     \n",
      "-1000.0        EX_fe2_e                                     \n",
      "-1000.0        EX_fe3_e                                     \n",
      "-1000.0        EX_h_e                                       \n",
      "-1000.0        EX_h2o_e                                     \n",
      "-1000.0        EX_k_e                                       \n",
      "-1000.0        EX_lac__L_e                                  \n",
      "-1000.0        EX_mg2_e                                     \n",
      "-1000.0        EX_mn2_e                                     \n",
      "-1000.0        EX_mobd_e                                    \n",
      "-1000.0        EX_na1_e                                     \n",
      "-1000.0        EX_nh4_e                                     \n",
      "-1000.0        EX_ni2_e                                     \n",
      "-16.0          EX_o2_e                                      \n",
      "-1000.0        EX_pi_e                                      \n",
      "-1000.0        EX_sel_e                                     \n",
      "-1000.0        EX_slnt_e                                    \n",
      "-1000.0        EX_so4_e                                     \n",
      "-1000.0        EX_tungs_e                                   \n",
      "-1000.0        EX_zn2_e                                     \n",
      "-1000          EX_LI_c                                      \n",
      "-1000          EX_cs_e                                      \n",
      "-1000          EX_tl_c                                      \n",
      "-1000          EX_cu_c                                      \n",
      "-1000          EX_C10H8O5_c                                 \n",
      "-1000          EX_C9H9O4_c                                  \n",
      "-1000          EX_NiFeCoCN2_c                               \n",
      "-1000          EX_RNase_m5                                  \n",
      "-1000          EX_RNase_m16                                 \n",
      "-1000          EX_RNase_m23                                 \n",
      "-1000          dedt_PKI-COMPLEX_mod_mg2_mod_k               \n",
      "-1000          dedt_PKI-COMPLEX_mod_mn2_mod_k               \n"
     ]
    }
   ],
   "source": [
    "for rxn in dme.reactions.query('EX_'):\n",
    "    if rxn.lower_bound < 0:\n",
    "        print '%-15.10s%-45.40s' % (rxn.lower_bound, rxn.id)"
   ]
  },
  {
   "cell_type": "code",
   "execution_count": 94,
   "metadata": {
    "collapsed": false
   },
   "outputs": [
    {
     "name": "stdout",
     "output_type": "stream",
     "text": [
      "Finished substituting S,lb,ub in 2.901098 seconds\n",
      "Finished makeME_LP in 0.602702 seconds\n",
      "Getting MINOS parameters from ME_NLP...\n",
      "CPU times: user 5.54 s, sys: 33.3 ms, total: 5.58 s\n",
      "Wall time: 5.53 s\n"
     ]
    },
    {
     "name": "stderr",
     "output_type": "stream",
     "text": [
      "/home/laurence/python_modules/solveme.git/qminos/me1.py:554 \u001b[1;31mUserWarning\u001b[0m: Infeasible at mu=0.001. Returning.\n"
     ]
    }
   ],
   "source": [
    "%%time\n",
    "muopt, hs, xopt, cache = dsolver.bisectmu(basis = dsolver.feas_basis, check_feas0=True)"
   ]
  },
  {
   "cell_type": "code",
   "execution_count": 95,
   "metadata": {
    "collapsed": false
   },
   "outputs": [
    {
     "data": {
      "text/plain": [
       "array(1)"
      ]
     },
     "execution_count": 95,
     "metadata": {},
     "output_type": "execute_result"
    }
   ],
   "source": [
    "dsolver.inform"
   ]
  },
  {
   "cell_type": "code",
   "execution_count": 99,
   "metadata": {
    "collapsed": true
   },
   "outputs": [],
   "source": [
    "dyme.delay_model.update_cplx_concs(cplx_conc_dbg)"
   ]
  },
  {
   "cell_type": "code",
   "execution_count": 100,
   "metadata": {
    "collapsed": true
   },
   "outputs": [],
   "source": [
    "dyme.delay_model.update_horizon(10000)"
   ]
  },
  {
   "cell_type": "code",
   "execution_count": 101,
   "metadata": {
    "collapsed": false
   },
   "outputs": [
    {
     "name": "stdout",
     "output_type": "stream",
     "text": [
      "Finished substituting S,lb,ub in 2.909750 seconds\n",
      "Finished makeME_LP in 0.602271 seconds\n",
      "Getting MINOS parameters from ME_NLP...\n",
      "iter\tmuopt    \ta     \tb     \tmu1       \tstat1\n",
      "Finished substituting S,lb,ub in 3.077004 seconds\n",
      "Finished makeME_LP in 0.604572 seconds\n",
      "Getting MINOS parameters from ME_NLP...\n",
      "1 0.0 0.0 1.0 1.0 1\n",
      "Finished substituting S,lb,ub in 3.041103 seconds\n",
      "Finished makeME_LP in 0.609133 seconds\n",
      "Getting MINOS parameters from ME_NLP...\n",
      "2 0.5 0.5 1.0 0.5 optimal\n",
      "Finished substituting S,lb,ub in 3.091429 seconds\n",
      "Finished makeME_LP in 0.607511 seconds\n",
      "Getting MINOS parameters from ME_NLP...\n",
      "3 0.5 0.5 0.75 0.75 1\n",
      "Finished substituting S,lb,ub in 3.118098 seconds\n",
      "Finished makeME_LP in 0.596854 seconds\n",
      "Getting MINOS parameters from ME_NLP...\n",
      "4 0.5 0.5 0.625 0.625 1\n",
      "Finished substituting S,lb,ub in 3.061736 seconds\n",
      "Finished makeME_LP in 0.601006 seconds\n",
      "Getting MINOS parameters from ME_NLP...\n",
      "5 0.5 0.5 0.5625 0.5625 1\n",
      "Finished substituting S,lb,ub in 2.982542 seconds\n",
      "Finished makeME_LP in 0.595533 seconds\n",
      "Getting MINOS parameters from ME_NLP...\n",
      "6 0.5 0.5 0.53125 0.53125 1\n",
      "Finished substituting S,lb,ub in 3.035585 seconds\n",
      "Finished makeME_LP in 0.614563 seconds\n",
      "Getting MINOS parameters from ME_NLP...\n",
      "7 0.5 0.5 0.515625 0.515625 1\n",
      "Finished substituting S,lb,ub in 3.060172 seconds\n",
      "Finished makeME_LP in 0.597807 seconds\n",
      "Getting MINOS parameters from ME_NLP...\n",
      "8 0.5 0.5 0.5078125 0.5078125 1\n",
      "Finished substituting S,lb,ub in 2.985708 seconds\n",
      "Finished makeME_LP in 0.606326 seconds\n",
      "Getting MINOS parameters from ME_NLP...\n",
      "9 0.50390625 0.50390625 0.5078125 0.50390625 optimal\n",
      "Finished substituting S,lb,ub in 3.069550 seconds\n",
      "Finished makeME_LP in 0.598377 seconds\n",
      "Getting MINOS parameters from ME_NLP...\n",
      "10 0.505859375 0.505859375 0.5078125 0.505859375 optimal\n",
      "Finished substituting S,lb,ub in 3.062884 seconds\n",
      "Finished makeME_LP in 0.602273 seconds\n",
      "Getting MINOS parameters from ME_NLP...\n",
      "11 0.505859375 0.505859375 0.5068359375 0.5068359375 1\n",
      "Bisection done in 303.375 seconds\n",
      "CPU times: user 15min 34s, sys: 2.17 s, total: 15min 36s\n",
      "Wall time: 15min 32s\n"
     ]
    }
   ],
   "source": [
    "%%time\n",
    "muopt, hs, xopt, cache = dsolver.bisectmu(basis = dsolver.feas_basis, check_feas0=True)"
   ]
  },
  {
   "cell_type": "code",
   "execution_count": 107,
   "metadata": {
    "collapsed": false
   },
   "outputs": [
    {
     "data": {
      "text/plain": [
       "0.505859375"
      ]
     },
     "execution_count": 107,
     "metadata": {},
     "output_type": "execute_result"
    }
   ],
   "source": [
    "dme.solution.status\n",
    "dme.reactions.biomass_dilution.x"
   ]
  },
  {
   "cell_type": "code",
   "execution_count": 109,
   "metadata": {
    "collapsed": false
   },
   "outputs": [],
   "source": [
    "### Solve at zero mu and try to reach feasible solution\n",
    "x,stat,hs = dsolver.solvelp(1e-12, basis=dsolver.feas_basis)"
   ]
  },
  {
   "cell_type": "code",
   "execution_count": 110,
   "metadata": {
    "collapsed": false
   },
   "outputs": [
    {
     "name": "stdout",
     "output_type": "stream",
     "text": [
      "1\n"
     ]
    }
   ],
   "source": [
    "print stat"
   ]
  },
  {
   "cell_type": "code",
   "execution_count": 111,
   "metadata": {
    "collapsed": false,
    "deletable": true,
    "editable": true
   },
   "outputs": [],
   "source": [
    "### Solve at zero mu and try to reach feasible solution\n",
    "# Below zero tolerance of solver but avoiding ZeroDivisionError (what a messy approach)\n",
    "x2,stat2,hs2 = dsolver.solvelp(1e-25, basis=dsolver.feas_basis)"
   ]
  },
  {
   "cell_type": "code",
   "execution_count": 112,
   "metadata": {
    "collapsed": false
   },
   "outputs": [
    {
     "name": "stdout",
     "output_type": "stream",
     "text": [
      "1\n"
     ]
    }
   ],
   "source": [
    "print stat2"
   ]
  },
  {
   "cell_type": "markdown",
   "metadata": {
    "deletable": true,
    "editable": true
   },
   "source": [
    "### In general, it seems virtual cell lacks capacity to replenish the continuously diluting proteome.\n",
    "### Actually, not entirely true--see very rapid rise in ACK protein. But is that because it's cheaper (recall Hwa's overflow mechanism--ATP per protein cost)\n",
    "### Need to start it off with much more ribosome?"
   ]
  },
  {
   "cell_type": "markdown",
   "metadata": {
    "deletable": true,
    "editable": true
   },
   "source": [
    "## Proteome mol (mass) fractions"
   ]
  },
  {
   "cell_type": "code",
   "execution_count": null,
   "metadata": {
    "collapsed": true,
    "deletable": true,
    "editable": true
   },
   "outputs": [],
   "source": [
    "#df_super = pd.read_csv('/home/laurence/ME/data/cobrame/proteome_letter/subsystem-supersystem-mapping.csv')\n",
    "df_system = pd.read_csv('/home/laurence/ME/data/cobrame/proteome_letter/sub_supersystem.csv')\n",
    "df_system.shape\n",
    "\n",
    "# df_trsl = pd.DataFrame([{'rxn':k, 'v':v, 'time':result['time'][i]} for i,r in enumerate(result['rxn_flux']) for k,v in r.iteritems() if 'translation_' in k])\n",
    "\n",
    "import re\n",
    "patt = re.compile(r\"protein_(b\\d\\d\\d\\d)_?\\S?\")\n",
    "\n",
    "cplx_prot = pd.DataFrame([{'cplx':d.id, 'locus':re.findall(patt,k)[0]} for d in me.complex_data for k,v in d.stoichiometry.iteritems() if 'protein_b' in k])\n",
    "\n",
    "df_mass = pd.DataFrame([{'cplx':met.id, 'mass':met.mass} for met in me.metabolites if hasattr(met,'mass')])\n",
    "df_cplx = pd.DataFrame([{'cplx':k, 'conc':v, 'time':result['time'][i]} for i,r in enumerate(result['complex']) for k,v in r.iteritems()])\n",
    "df_cplx_mass = pd.merge(df_cplx, df_mass, on='cplx')\n",
    "\n",
    "times = df_cplx_mass.time.unique()\n",
    "for t in times:\n",
    "    dfi = df_cplx_mass[ df_cplx_mass.time==t]\n",
    "    masses = dfi.conc*dfi.mass\n",
    "    mtot = masses.sum()\n",
    "    mfs = masses/mtot\n",
    "    b = (df_cplx_mass.time==t).values\n",
    "    df_cplx_mass.loc[b,'mf'] = mfs\n",
    "\n",
    "df_cplx_mass = pd.merge(df_cplx_mass, cplx_prot, on='cplx', how='left')"
   ]
  },
  {
   "cell_type": "code",
   "execution_count": null,
   "metadata": {
    "collapsed": false,
    "deletable": true,
    "editable": true
   },
   "outputs": [],
   "source": [
    "#syslevel = 'Subsystem'\n",
    "syslevel = 'Supersystem'\n",
    "\n",
    "df_level = df_system[['gene',syslevel]].drop_duplicates()\n",
    "\n",
    "df_cplx_sub = pd.merge(df_cplx_mass, df_level, left_on='locus', right_on='gene', how='left')\n",
    "df_cplx_sub.loc[ df_cplx_sub[syslevel].isnull(), syslevel] = 'Ungrouped'\n",
    "\n",
    "df_mf_sector = df_cplx_sub.groupby(['time',syslevel]).mf.sum().reset_index()\n",
    "# Renormalize to 1\n",
    "dsplot_sector = df_mf_sector.copy()\n",
    "for t in dsplot_sector.time.unique():\n",
    "    b = dsplot_sector.time==t\n",
    "    mtot = sum(dsplot_sector.loc[b,'mf'])\n",
    "    dsplot_sector.loc[b, 'mf'] = dsplot_sector.loc[b, 'mf']/mtot\n",
    "\n",
    "from stressme.plot import stacked_bar\n",
    "\n",
    "dsplot_sector.loc[:,'group'] = syslevel\n",
    "g = stacked_bar('time', 'mf', dsplot_sector, syslevel, 'group', size=5, aspect=3, palette_name='Paired')"
   ]
  },
  {
   "cell_type": "code",
   "execution_count": null,
   "metadata": {
    "collapsed": true,
    "deletable": true,
    "editable": true
   },
   "outputs": [],
   "source": []
  },
  {
   "cell_type": "code",
   "execution_count": null,
   "metadata": {
    "collapsed": false,
    "deletable": true,
    "editable": true
   },
   "outputs": [],
   "source": [
    "df_mass = pd.DataFrame([{'cplx':met.id, 'mass':met.mass} for met in me.metabolites if hasattr(met,'mass')])\n",
    "df_cplx = pd.DataFrame([{'cplx':k, 'conc':v, 'time':result['time'][i]} for i,r in enumerate(result['complex']) for k,v in r.iteritems()])\n",
    "df_cplx_mass = pd.merge(df_cplx, df_mass, on='cplx')\n",
    "\n",
    "times = df_cplx_mass.time.unique()\n",
    "for t in times:\n",
    "    dfi = df_cplx_mass[ df_cplx_mass.time==t]\n",
    "    masses = dfi.conc*dfi.mass\n",
    "    mtot = masses.sum()\n",
    "    mfs = masses/mtot\n",
    "    b = (df_cplx_mass.time==t).values\n",
    "    df_cplx_mass.loc[b,'mf'] = mfs\n",
    "\n",
    "#df_var = df_cplx_mass.groupby('cplx').mf.var().reset_index()\n",
    "df_var = df_cplx_mass.groupby('cplx').mf.mean().reset_index()\n",
    "N_PLOT = 10\n",
    "vary_cplxs = df_var.sort_values('mf', ascending=False)['cplx'][0:N_PLOT].values\n",
    "vary_cplxs\n",
    "\n",
    "df_cplx_mass[ df_cplx_mass.time==0].mf.sum()\n",
    "\n",
    "from stressme.plot import stacked_bar\n",
    "\n",
    "dsplot_cplx = df_cplx_mass[ df_cplx_mass.cplx.isin(vary_cplxs)]\n",
    "dsplot_cplx.loc[:,'group'] = 'DynamicDelayedME'\n",
    "stacked_bar('time', 'mf', dsplot_cplx, 'cplx', 'group', aspect=4, palette_name='Paired')"
   ]
  },
  {
   "cell_type": "markdown",
   "metadata": {
    "collapsed": true,
    "deletable": true,
    "editable": true
   },
   "source": [
    "# Follow ups\n",
    "- FLAVODOXIN2-MONOMER over-produced\n",
    "- inability to utilize lactate and acetate related?\n",
    "\n",
    "### Figure out what is missing to prevent acetate utilization\n",
    "- simulate gluconeogenesis -- see what proteins missing at time=10\n",
    "- probably because all resources poured into FLAV...\n",
    "\n",
    "### Proteome total mass constraint\n",
    "\n",
    "\n",
    "## The subproblem objective of dummy maximization might not apply here anymore\n",
    "- in fact, hording dummy protein might prevent it from reallocating later\n",
    "\n",
    "## Alternative objectives\n",
    "- ### Max ATP production: continues to be useful even on acetate\n",
    "- [Cellular objectives, Sauer](http://msb.embopress.org/content/3/1/119)\n",
    "    - Max ATP per flux unit (cells operate to max ATP yield while minimizing enzyme usage)\n",
    "    - Since ME model, we kind of cover Objs 1, 2, 4, 8 (due to keffs)\n",
    "\n",
    "- Then, does the cellular objective not change for persisters? Since they also generate ATP"
   ]
  },
  {
   "cell_type": "code",
   "execution_count": null,
   "metadata": {
    "collapsed": true,
    "deletable": true,
    "editable": true
   },
   "outputs": [],
   "source": []
  }
 ],
 "metadata": {
  "kernelspec": {
   "display_name": "Python 2",
   "language": "python",
   "name": "python2"
  },
  "language_info": {
   "codemirror_mode": {
    "name": "ipython",
    "version": 2
   },
   "file_extension": ".py",
   "mimetype": "text/x-python",
   "name": "python",
   "nbconvert_exporter": "python",
   "pygments_lexer": "ipython2",
   "version": "2.7.13"
  }
 },
 "nbformat": 4,
 "nbformat_minor": 2
}
