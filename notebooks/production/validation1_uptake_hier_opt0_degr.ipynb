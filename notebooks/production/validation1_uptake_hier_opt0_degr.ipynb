{
 "cells": [
  {
   "cell_type": "markdown",
   "metadata": {
    "deletable": true,
    "editable": true
   },
   "source": [
    "# Simulate proteome time profiles.\n",
    "## Start from measured proteome that is already hedged: necessary to enable lactate usage later?\n",
    "## Allow protein degradation--otherwise too constrained?"
   ]
  },
  {
   "cell_type": "code",
   "execution_count": 1,
   "metadata": {
    "collapsed": true,
    "deletable": true,
    "editable": true
   },
   "outputs": [],
   "source": [
    "import seaborn as sns\n",
    "import pandas as pd\n",
    "\n",
    "sns.plt.rcParams['svg.fonttype'] = 'none'\n",
    "pd.set_option('display.max_colwidth', -1)\n",
    "#pd.set_option('display.float_format', lambda x: '%.3g' % x)\n",
    "%matplotlib inline"
   ]
  },
  {
   "cell_type": "code",
   "execution_count": 2,
   "metadata": {
    "collapsed": true,
    "deletable": true,
    "editable": true
   },
   "outputs": [],
   "source": [
    "PROTOTYPE = False\n",
    "PROTEASE = True"
   ]
  },
  {
   "cell_type": "code",
   "execution_count": 3,
   "metadata": {
    "collapsed": true,
    "deletable": true,
    "editable": true
   },
   "outputs": [],
   "source": [
    "from dynamicme.tests.helpme import HelpME\n",
    "from dynamicme.dynamic import get_cplx_concs\n",
    "\n",
    "helper = HelpME(prototyping=PROTOTYPE, protease=PROTEASE)\n",
    "solver = helper.solver\n",
    "me = solver.me"
   ]
  },
  {
   "cell_type": "code",
   "execution_count": 4,
   "metadata": {
    "collapsed": false
   },
   "outputs": [
    {
     "name": "stdout",
     "output_type": "stream",
     "text": [
      "7044 17146\n"
     ]
    }
   ],
   "source": [
    "print len(me.metabolites), len(me.reactions)"
   ]
  },
  {
   "cell_type": "code",
   "execution_count": 5,
   "metadata": {
    "collapsed": true,
    "deletable": true,
    "editable": true
   },
   "outputs": [],
   "source": [
    "cplx_concs_max = get_cplx_concs(solver)"
   ]
  },
  {
   "cell_type": "code",
   "execution_count": 6,
   "metadata": {
    "collapsed": false,
    "deletable": true,
    "editable": true
   },
   "outputs": [
    {
     "name": "stdout",
     "output_type": "stream",
     "text": [
      "mu of ME for growth maximization: 0.9208984375\n"
     ]
    }
   ],
   "source": [
    "mu_me = me.solution.x_dict['biomass_dilution']\n",
    "print 'mu of ME for growth maximization:', mu_me"
   ]
  },
  {
   "cell_type": "code",
   "execution_count": 7,
   "metadata": {
    "collapsed": true,
    "deletable": true,
    "editable": true
   },
   "outputs": [],
   "source": [
    "from dynamicme.dynamic import DelayedDynamicME\n",
    "\n",
    "dyme = DelayedDynamicME(solver)\n",
    "dyme.delay_model.solver.set_realopts('lp', {'Feasibility tol':1e-15,'Optimality tol':1e-15})\n",
    "dsolver = dyme.delay_model.solver"
   ]
  },
  {
   "cell_type": "markdown",
   "metadata": {
    "deletable": true,
    "editable": true
   },
   "source": [
    "# Test the optimal predicted proteome--with active protein degradation"
   ]
  },
  {
   "cell_type": "code",
   "execution_count": 8,
   "metadata": {
    "collapsed": false,
    "deletable": true,
    "editable": true
   },
   "outputs": [
    {
     "name": "stdout",
     "output_type": "stream",
     "text": [
      "Growth on Glucose = 0.58\n"
     ]
    }
   ],
   "source": [
    "C_meas = 'Glucose'\n",
    "###\n",
    "df_meta = pd.read_csv('/home/laurence/ME/data/cobrame/sectors/proteomics_conds.csv')\n",
    "mu_meas = df_meta[ df_meta.exp==C_meas].iloc[0]['Growth.rate..h.1.']\n",
    "print 'Growth on %s = %g' % (C_meas, mu_meas)"
   ]
  },
  {
   "cell_type": "code",
   "execution_count": 9,
   "metadata": {
    "collapsed": false,
    "deletable": true,
    "editable": true
   },
   "outputs": [
    {
     "name": "stdout",
     "output_type": "stream",
     "text": [
      "(51898, 8)\n"
     ]
    }
   ],
   "source": [
    "df_meas = pd.read_csv('/home/laurence/ME/data/cobrame/sectors/schmidt_prot_mf.csv')\n",
    "print df_meas.shape\n",
    "#df_meas.head(2)"
   ]
  },
  {
   "cell_type": "code",
   "execution_count": 10,
   "metadata": {
    "collapsed": false,
    "deletable": true,
    "editable": true
   },
   "outputs": [],
   "source": [
    "df_meas_C = df_meas[ df_meas.condition==C_meas]\n",
    "#df_meas_C.head(2)"
   ]
  },
  {
   "cell_type": "code",
   "execution_count": 11,
   "metadata": {
    "collapsed": true,
    "deletable": true,
    "editable": true
   },
   "outputs": [],
   "source": [
    "meas_dict = {r['Bnumber']:r['mf'] for i,r in df_meas_C.iterrows()}"
   ]
  },
  {
   "cell_type": "code",
   "execution_count": 12,
   "metadata": {
    "collapsed": false,
    "deletable": true,
    "editable": true
   },
   "outputs": [
    {
     "data": {
      "text/plain": [
       "0.9999999999999964"
      ]
     },
     "execution_count": 12,
     "metadata": {},
     "output_type": "execute_result"
    }
   ],
   "source": [
    "sum(meas_dict.values())"
   ]
  },
  {
   "cell_type": "markdown",
   "metadata": {
    "deletable": true,
    "editable": true
   },
   "source": [
    "# Get simulated proteome closest to measured\n",
    "- L1 (drops potential outliers)\n",
    "- L2 (tries to get match everything)\n",
    "    - should pre-process to remove outliers?"
   ]
  },
  {
   "cell_type": "code",
   "execution_count": 13,
   "metadata": {
    "collapsed": false,
    "deletable": true,
    "editable": true
   },
   "outputs": [
    {
     "name": "stdout",
     "output_type": "stream",
     "text": [
      "CPU times: user 80 ms, sys: 16.7 ms, total: 96.7 ms\n",
      "Wall time: 92.4 ms\n"
     ]
    }
   ],
   "source": [
    "%%time\n",
    "\n",
    "from cobrawe.fit import FitME\n",
    "\n",
    "fit = FitME(me)\n",
    "#me_nlp = fit.me_nlp\n",
    "#me_nlp.compiled_expressions = None\n",
    "#sol,stat,hs = fit.fit_mass_frac(meas_dict, mu_meas, norm='l1')"
   ]
  },
  {
   "cell_type": "markdown",
   "metadata": {
    "deletable": true,
    "editable": true
   },
   "source": [
    "## Initialize dynamicME with this feasible initial proteome and growth rate"
   ]
  },
  {
   "cell_type": "code",
   "execution_count": 14,
   "metadata": {
    "collapsed": true,
    "deletable": true,
    "editable": true
   },
   "outputs": [],
   "source": [
    "cplx_concs = get_cplx_concs(solver)\n",
    "cplx_conc_dict0 = dict(cplx_concs)"
   ]
  },
  {
   "cell_type": "code",
   "execution_count": 15,
   "metadata": {
    "collapsed": false,
    "deletable": true,
    "editable": true
   },
   "outputs": [],
   "source": [
    "import json\n",
    "\n",
    "# fname = '/home/laurence/ME/data/dynamicME/production/cplx_conc_opt_%s.csv'%C_meas\n",
    "# print fname\n",
    "# with open(fname,'w') as f:\n",
    "#     json.dump(cplx_conc_dict0, f)"
   ]
  },
  {
   "cell_type": "markdown",
   "metadata": {
    "deletable": true,
    "editable": true
   },
   "source": [
    "# Validate mixed substrate uptake hierarchy--Beg et al. (2007) MSB"
   ]
  },
  {
   "cell_type": "code",
   "execution_count": 16,
   "metadata": {
    "collapsed": false,
    "deletable": true,
    "editable": true
   },
   "outputs": [
    {
     "name": "stdout",
     "output_type": "stream",
     "text": [
      "{'glyc_e': 4.34339676647141, 'malt_e': 1.1685776026677226, 'lac__L_e': 4.4908498933423155, 'gal_e': 2.220299442904667, 'ac_e': 0.0, 'glc__D_e': 2.220299442904667}\n",
      "{u'EX_glyc_e': -10.0, u'EX_o2_e': -20.0, u'EX_gal_e': -10.0, u'EX_lac__L_e': -10.0, u'EX_malt_e': -10.0, u'EX_ac_e': -10.0, 'EX_glc__D_e': -10.0}\n"
     ]
    }
   ],
   "source": [
    "import warnings\n",
    "\n",
    "T = 10   # hours\n",
    "V = 1.   # L\n",
    "X0 = 0.00675 / V  # g/L\n",
    "c0_dict = {'glc__D_e': 0.4,\n",
    "           'lac__L_e': 0.4,\n",
    "           'malt_e': 0.4,\n",
    "           'gal_e': 0.4,\n",
    "           'glyc_e':0.4,\n",
    "           'ac_e': 0.0}\n",
    "\n",
    "### Convert from g/L to mmol\n",
    "mids_remove = []\n",
    "for mid,c in c0_dict.iteritems():\n",
    "    try:        \n",
    "        met = me.metabolites.get_by_id(mid)    \n",
    "        c0_dict[met.id] = c / met.formula_weight * 1000\n",
    "    except KeyError:\n",
    "        warnings.warn('Model has no metabolite: %s. Will remove it from c0_dict' % mid)\n",
    "        mids_remove.append(mid)\n",
    "\n",
    "for mid in mids_remove:\n",
    "    c0_dict.pop(mid)\n",
    "        \n",
    "### Set max uptake rate\n",
    "LB_EX = -10.\n",
    "LB_O2 = -20.\n",
    "\n",
    "lb_dict={}\n",
    "ub_dict={}\n",
    "\n",
    "for mid in c0_dict.keys():\n",
    "    try:\n",
    "        rxn = dyme.get_exchange_rxn(mid)    \n",
    "        if rxn.id is 'EX_o2_e':\n",
    "            lb = LB_O2\n",
    "        else:\n",
    "            lb = LB_EX\n",
    "        rxn.lower_bound = lb\n",
    "        lb_dict[rxn.id] = lb\n",
    "    except KeyError:\n",
    "        warnings.warn('Model has no metabolite: '+ mid)\n",
    "\n",
    "me.reactions.EX_o2_e.lower_bound = -20.\n",
    "lb_dict[me.reactions.EX_o2_e.id] = -20.\n",
    "        \n",
    "print c0_dict\n",
    "print lb_dict"
   ]
  },
  {
   "cell_type": "code",
   "execution_count": 17,
   "metadata": {
    "collapsed": false,
    "deletable": true,
    "editable": true
   },
   "outputs": [
    {
     "data": {
      "text/plain": [
       "3.5927339410556534e-14"
      ]
     },
     "execution_count": 17,
     "metadata": {},
     "output_type": "execute_result"
    }
   ],
   "source": [
    "import numpy as np\n",
    "cvals = np.array(cplx_conc_dict0.values())\n",
    "cvals[ cvals>0].min()"
   ]
  },
  {
   "cell_type": "code",
   "execution_count": 18,
   "metadata": {
    "collapsed": true,
    "deletable": true,
    "editable": true
   },
   "outputs": [],
   "source": [
    "dyme = DelayedDynamicME(solver)"
   ]
  },
  {
   "cell_type": "code",
   "execution_count": 19,
   "metadata": {
    "collapsed": true,
    "deletable": true,
    "editable": true
   },
   "outputs": [],
   "source": [
    "solver.set_realopts('lp', {'Feasibility tol':1e-15, 'Optimality tol':1e-15})"
   ]
  },
  {
   "cell_type": "code",
   "execution_count": 20,
   "metadata": {
    "collapsed": false,
    "deletable": true,
    "editable": true
   },
   "outputs": [],
   "source": [
    "from cobrame import MetabolicReaction\n",
    "\n",
    "if PROTOTYPE:\n",
    "    fluxes_plot = ['ACONTa_CPLX0-7760_mod_4fe4s', 'ACONTb_CPLX0-7760_mod_4fe4s', 'ACKr_reverse']\n",
    "else:\n",
    "    #fluxes_plot = [r.id for r in dsolver.me.reactions if isinstance(r,MetabolicReaction)]\n",
    "    fluxes_plot = [r.id for r in dsolver.me.reactions]"
   ]
  },
  {
   "cell_type": "code",
   "execution_count": null,
   "metadata": {
    "collapsed": false,
    "deletable": true,
    "editable": true
   },
   "outputs": [
    {
     "data": {
      "text/plain": [
       "20040"
      ]
     },
     "execution_count": 21,
     "metadata": {},
     "output_type": "execute_result"
    }
   ],
   "source": [
    "len(fluxes_plot)"
   ]
  },
  {
   "cell_type": "code",
   "execution_count": null,
   "metadata": {
    "collapsed": false,
    "deletable": true,
    "editable": true,
    "scrolled": true
   },
   "outputs": [
    {
     "name": "stdout",
     "output_type": "stream",
     "text": [
      "Metabolite glyc_e available.\n",
      "Using default LB=-1000 for EX_glyc_e\n",
      "Metabolite ac_e depleted.\n",
      "Metabolite lac__L_e available.\n",
      "Using default LB=-1000 for EX_lac__L_e\n",
      "Metabolite malt_e available.\n",
      "Using default LB=-1000 for EX_malt_e\n",
      "Metabolite gal_e available.\n",
      "Using default LB=-1000 for EX_gal_e\n",
      "Metabolite glc__D_e available.\n",
      "Using default LB=-1000 for EX_glc__D_e\n",
      "Computing new uptake rates\n",
      "Biomass at t=0.5: 0.0107117\n",
      "Concentrations: {'glyc_e': 4.3428602155696501, 'ac_e': 0.027311179030799933, 'lac__L_e': 4.4908498933423155, 'malt_e': 1.1685776026677226, 'gal_e': 2.220299442904667, 'glc__D_e': 2.165503241275625}\n",
      "Growth rate: 1.173828125\n",
      "Metabolite glyc_e available.\n",
      "Using default LB=-1000 for EX_glyc_e\n",
      "Metabolite ac_e available.\n",
      "Using default LB=-1000 for EX_ac_e\n",
      "Metabolite lac__L_e available.\n",
      "Using default LB=-1000 for EX_lac__L_e\n",
      "Metabolite malt_e available.\n",
      "Using default LB=-1000 for EX_malt_e\n",
      "Metabolite gal_e available.\n",
      "Using default LB=-1000 for EX_gal_e\n",
      "Metabolite glc__D_e available.\n",
      "Using default LB=-1000 for EX_glc__D_e\n",
      "Computing new uptake rates\n",
      "Biomass at t=1: 0.0165748\n",
      "Concentrations: {'glyc_e': 4.3418533473011998, 'ac_e': 0.054790965542720428, 'lac__L_e': 4.4908498933423155, 'malt_e': 1.1685776026677226, 'gal_e': 2.220299442904667, 'glc__D_e': 2.0998032120997379}\n",
      "Growth rate: 1.0947265625\n",
      "Metabolite glyc_e available.\n",
      "Using default LB=-1000 for EX_glyc_e\n",
      "Metabolite ac_e available.\n",
      "Using default LB=-1000 for EX_ac_e\n",
      "Metabolite lac__L_e available.\n",
      "Using default LB=-1000 for EX_lac__L_e\n",
      "Metabolite malt_e available.\n",
      "Using default LB=-1000 for EX_malt_e\n",
      "Metabolite gal_e available.\n",
      "Using default LB=-1000 for EX_gal_e\n",
      "Metabolite glc__D_e available.\n",
      "Using default LB=-1000 for EX_glc__D_e\n",
      "Computing new uptake rates\n",
      "Biomass at t=1.5: 0.0244819\n",
      "Concentrations: {'glyc_e': 4.3404063641931252, 'ac_e': 0.08229759754185545, 'lac__L_e': 4.4908498933423155, 'malt_e': 1.1685776026677226, 'gal_e': 2.220299442904667, 'glc__D_e': 2.0227667525982413}\n",
      "Growth rate: 0.9541015625\n",
      "Metabolite glyc_e available.\n",
      "Using default LB=-1000 for EX_glyc_e\n",
      "Metabolite ac_e available.\n",
      "Using default LB=-1000 for EX_ac_e\n",
      "Metabolite lac__L_e available.\n",
      "Using default LB=-1000 for EX_lac__L_e\n",
      "Metabolite malt_e available.\n",
      "Using default LB=-1000 for EX_malt_e\n",
      "Metabolite gal_e available.\n",
      "Using default LB=-1000 for EX_gal_e\n",
      "Metabolite glc__D_e available.\n",
      "Using default LB=-1000 for EX_glc__D_e\n",
      "Computing new uptake rates\n",
      "Biomass at t=2: 0.0344994\n",
      "Concentrations: {'glyc_e': 4.3385478821784966, 'ac_e': 0.11214048838544938, 'lac__L_e': 4.4908498933423155, 'malt_e': 1.1685776026677226, 'gal_e': 2.220299442904667, 'glc__D_e': 1.9343137706217681}\n",
      "Growth rate: 0.818359375\n",
      "Metabolite glyc_e available.\n",
      "Using default LB=-1000 for EX_glyc_e\n",
      "Metabolite ac_e available.\n",
      "Using default LB=-1000 for EX_ac_e\n",
      "Metabolite lac__L_e available.\n",
      "Using default LB=-1000 for EX_lac__L_e\n",
      "Metabolite malt_e available.\n",
      "Using default LB=-1000 for EX_malt_e\n",
      "Metabolite gal_e available.\n",
      "Using default LB=-1000 for EX_gal_e\n",
      "Metabolite glc__D_e available.\n",
      "Using default LB=-1000 for EX_glc__D_e\n",
      "Computing new uptake rates\n",
      "Biomass at t=2.5: 0.0465101\n",
      "Concentrations: {'glyc_e': 4.3363388705088219, 'ac_e': 0.15447922598498753, 'lac__L_e': 4.4908498933423155, 'malt_e': 1.1685776026677226, 'gal_e': 2.220299442904667, 'glc__D_e': 1.8321586424319496}\n",
      "Growth rate: 0.6962890625\n",
      "Metabolite glyc_e available.\n",
      "Using default LB=-1000 for EX_glyc_e\n",
      "Metabolite ac_e available.\n",
      "Using default LB=-1000 for EX_ac_e\n",
      "Metabolite lac__L_e available.\n",
      "Using default LB=-1000 for EX_lac__L_e\n",
      "Metabolite malt_e available.\n",
      "Using default LB=-1000 for EX_malt_e\n",
      "Metabolite gal_e available.\n",
      "Using default LB=-1000 for EX_gal_e\n",
      "Metabolite glc__D_e available.\n",
      "Using default LB=-1000 for EX_glc__D_e\n",
      "Computing new uptake rates\n",
      "Biomass at t=3: 0.0602951\n",
      "Concentrations: {'glyc_e': 4.3341406242538234, 'ac_e': 0.21286227093051141, 'lac__L_e': 4.4908498933423155, 'malt_e': 1.1685776026677226, 'gal_e': 2.220299442904667, 'glc__D_e': 1.7150997839693356}\n",
      "Growth rate: 0.5927734375\n",
      "Metabolite glyc_e available.\n",
      "Using default LB=-1000 for EX_glyc_e\n",
      "Metabolite ac_e available.\n",
      "Using default LB=-1000 for EX_ac_e\n",
      "Metabolite lac__L_e available.\n",
      "Using default LB=-1000 for EX_lac__L_e\n",
      "Metabolite malt_e available.\n",
      "Using default LB=-1000 for EX_malt_e\n",
      "Metabolite gal_e available.\n",
      "Using default LB=-1000 for EX_gal_e\n",
      "Metabolite glc__D_e available.\n",
      "Using default LB=-1000 for EX_glc__D_e\n",
      "Computing new uptake rates\n",
      "Biomass at t=3.5: 0.0756633\n",
      "Concentrations: {'glyc_e': 4.3317035195547282, 'ac_e': 0.29845744846159356, 'lac__L_e': 4.4908498933423155, 'malt_e': 1.1685776026677226, 'gal_e': 2.220299442904667, 'glc__D_e': 1.5807746197660897}\n",
      "Growth rate: 0.509765625\n",
      "Metabolite glyc_e available.\n",
      "Using default LB=-1000 for EX_glyc_e\n",
      "Metabolite ac_e available.\n",
      "Using default LB=-1000 for EX_ac_e\n",
      "Metabolite lac__L_e available.\n",
      "Using default LB=-1000 for EX_lac__L_e\n",
      "Metabolite malt_e available.\n",
      "Using default LB=-1000 for EX_malt_e\n",
      "Metabolite gal_e available.\n",
      "Using default LB=-1000 for EX_gal_e\n",
      "Metabolite glc__D_e available.\n",
      "Using default LB=-1000 for EX_glc__D_e\n",
      "Computing new uptake rates\n",
      "Biomass at t=4: 0.0923994\n",
      "Concentrations: {'glyc_e': 4.3290718473845713, 'ac_e': 0.41230026100175743, 'lac__L_e': 4.4908498933423155, 'malt_e': 1.1685776026677226, 'gal_e': 2.220299442904667, 'glc__D_e': 1.4288754791455522}\n",
      "Growth rate: 0.4423828125\n",
      "Metabolite glyc_e available.\n",
      "Using default LB=-1000 for EX_glyc_e\n",
      "Metabolite ac_e available.\n",
      "Using default LB=-1000 for EX_ac_e\n",
      "Metabolite lac__L_e available.\n",
      "Using default LB=-1000 for EX_lac__L_e\n",
      "Metabolite malt_e available.\n",
      "Using default LB=-1000 for EX_malt_e\n",
      "Metabolite gal_e available.\n",
      "Using default LB=-1000 for EX_gal_e\n",
      "Metabolite glc__D_e available.\n",
      "Using default LB=-1000 for EX_glc__D_e\n",
      "Computing new uptake rates\n",
      "Biomass at t=4.5: 0.110311\n",
      "Concentrations: {'glyc_e': 4.3262805356002643, 'ac_e': 0.55709640468360455, 'lac__L_e': 4.4908498933423155, 'malt_e': 1.1685776026677226, 'gal_e': 2.220299442904667, 'glc__D_e': 1.2590688547888762}\n",
      "Growth rate: 0.3876953125\n",
      "Metabolite glyc_e available."
     ]
    }
   ],
   "source": [
    "%%time\n",
    "extra_rxns_tracked = list(set(['EX_o2_e'] + fluxes_plot + ['biomass_dilution']))\n",
    "\n",
    "T = 20\n",
    "dt = 0.5\n",
    "H = dt\n",
    "\n",
    "result = dyme.simulate_batch(\n",
    "    T,    \n",
    "    c0_dict,\n",
    "    X0,\n",
    "    prec_bs=1e-3,\n",
    "    ZERO_CONC=0.,\n",
    "    extra_rxns_tracked=extra_rxns_tracked,\n",
    "    lb_dict={},\n",
    "    verbosity=2,\n",
    "    dt = dt,\n",
    "    H = H,\n",
    "    cplx_conc_dict0=cplx_conc_dict0)"
   ]
  },
  {
   "cell_type": "markdown",
   "metadata": {
    "deletable": true,
    "editable": true
   },
   "source": [
    "### Save results"
   ]
  },
  {
   "cell_type": "code",
   "execution_count": null,
   "metadata": {
    "collapsed": false,
    "deletable": true,
    "editable": true
   },
   "outputs": [],
   "source": [
    "import json\n",
    "result2 = result.copy()\n",
    "result2.keys()\n",
    "result2.pop('basis')\n",
    "\n",
    "with open('/home/laurence/ME/data/dynamicME/production/validation1_uptake_hier_sim_opt0_protease.json','w') as f:\n",
    "    json.dump(result2, f)"
   ]
  },
  {
   "cell_type": "code",
   "execution_count": null,
   "metadata": {
    "collapsed": false,
    "deletable": true,
    "editable": true
   },
   "outputs": [],
   "source": [
    "import seaborn as sns\n",
    "%matplotlib inline\n",
    "\n",
    "sns.plt.plot(result['time'], result['biomass'])"
   ]
  },
  {
   "cell_type": "code",
   "execution_count": null,
   "metadata": {
    "collapsed": false,
    "deletable": true,
    "editable": true
   },
   "outputs": [],
   "source": [
    "ex_met_rxn_dict = {m: {'rxn':dyme.get_exchange_rxn(m), 'mw':me.metabolites.get_by_id(m).formula_weight} for m in c0_dict.keys()}\n",
    "ex_met_rxn_dict"
   ]
  },
  {
   "cell_type": "code",
   "execution_count": null,
   "metadata": {
    "collapsed": false,
    "deletable": true,
    "editable": true,
    "scrolled": true
   },
   "outputs": [],
   "source": [
    "import pandas as pd\n",
    "\n",
    "df_conc = pd.DataFrame(result['concentration'])\n",
    "### Convert concentrations to g/L\n",
    "for mid, vals in ex_met_rxn_dict.iteritems():\n",
    "    df_conc[mid] = df_conc[mid] * vals['mw'] * 0.001\n",
    "\n",
    "df_time = pd.DataFrame({'time':t, 'biomass':b} for t,b in zip(result['time'], result['biomass']))\n",
    "df_flux = pd.DataFrame(result['ex_flux'])\n",
    "df_mu   = pd.DataFrame({'mu':result['growth_rate']})\n",
    "df_result = pd.concat([df_time, df_conc, df_flux, df_mu], axis=1)"
   ]
  },
  {
   "cell_type": "code",
   "execution_count": null,
   "metadata": {
    "collapsed": true,
    "deletable": true,
    "editable": true
   },
   "outputs": [],
   "source": [
    "dsplot = pd.melt(df_result, id_vars='time', value_vars=['biomass','ac_e','gal_e','glc__D_e','glyc_e','lac__L_e','malt_e'])\n",
    "dsplot.time = pd.to_numeric(dsplot.time)\n",
    "dsplot['category'] = 'Metabolite'\n",
    "dsplot.loc[ dsplot.variable=='biomass', 'category'] = 'Biomass'"
   ]
  },
  {
   "cell_type": "code",
   "execution_count": null,
   "metadata": {
    "collapsed": false,
    "deletable": true,
    "editable": true
   },
   "outputs": [],
   "source": [
    "colors = [\n",
    "'#000000', # biomass\n",
    "'#660066', # acetate\n",
    "'#00CC00', #'#00FF00', # galactose\n",
    "'#000000', # glucose\n",
    "'#FF00FF', # glycerol\n",
    "'#0000FF', # lactate\n",
    "'#FF0000', # maltose\n",
    "]\n",
    "\n",
    "colpal = sns.color_palette(colors)\n",
    "sns.set_palette(colpal)\n",
    "\n",
    "g = sns.FacetGrid(data=dsplot, hue='variable', col='category', sharey=False, size=5)\n",
    "\n",
    "g.map(sns.plt.plot, 'time', 'value', linestyle='-', marker='.')\n",
    "for i,ax in enumerate(g.axes.flat):\n",
    "    ylim = ax.get_ylim()\n",
    "    ax.set_ylim((ylim[0],ylim[1]*1.1))\n",
    "    if i==0:\n",
    "        ax.set_ylabel('Biomass (g/L)')\n",
    "    else:\n",
    "        ax.set_ylabel('Metabolite concentration (g/L)')\n",
    "g.set_xlabels('Time (h)')\n",
    "g.add_legend()"
   ]
  },
  {
   "cell_type": "code",
   "execution_count": null,
   "metadata": {
    "collapsed": false,
    "deletable": true,
    "editable": true
   },
   "outputs": [],
   "source": [
    "g.savefig('/home/laurence/ME/figures/persistME/beg_init_opt_protease.pdf')\n",
    "g.savefig('/home/laurence/ME/figures/persistME/beg_init_opt_protease.svg')\n",
    "g.savefig('/home/laurence/ME/figures/persistME/beg_init_opt_protease.eps')"
   ]
  },
  {
   "cell_type": "code",
   "execution_count": null,
   "metadata": {
    "collapsed": false,
    "deletable": true,
    "editable": true
   },
   "outputs": [],
   "source": [
    "if PROTOTYPE:\n",
    "    complexes_plot = ['IPPMIa_E_c', 'ACKr_reverse_E_c', 'CPLX0-7760_mod_4fe4s','CPLX0-7761_mod_4fe4s']\n",
    "else:\n",
    "    complexes_plot = ['3-ISOPROPYLMALISOM-CPLX_mod_4fe4s', 'ACETATEKINA-MONOMER_mod_mg2', 'CPLX0-7659']"
   ]
  },
  {
   "cell_type": "code",
   "execution_count": null,
   "metadata": {
    "collapsed": false,
    "deletable": true,
    "editable": true
   },
   "outputs": [],
   "source": [
    "fluxes_plot2 = []\n",
    "\n",
    "for rid in fluxes_plot:\n",
    "    rxn = dsolver.me.reactions.get_by_id(rid)\n",
    "    try:\n",
    "        if abs(rxn.x) > 20:\n",
    "            fluxes_plot2.append(rxn.id)\n",
    "    except:\n",
    "        pass\n",
    "        \n",
    "print len(fluxes_plot2)"
   ]
  },
  {
   "cell_type": "code",
   "execution_count": null,
   "metadata": {
    "collapsed": false,
    "deletable": true,
    "editable": true
   },
   "outputs": [],
   "source": [
    "df_mu = pd.DataFrame([{'time':t, 'variable':'growth_rate', 'value':c, 'category':'growth'} for t,c in zip(result['time'], result['growth_rate'])] )\n",
    "\n",
    "df_complex = pd.DataFrame([{'time':t, 'complex':c, 'abundance':cdict[c]} \n",
    "                           for t,cdict in zip(result['time'], result['complex']) for c in complexes_plot] )\n",
    "\n",
    "df_mflux = pd.DataFrame([{'time':t, 'rxn':c, 'flux':cdict[c]} \n",
    "                           for t,cdict in zip(result['time'], result['rxn_flux']) for c in fluxes_plot2] )\n",
    "\n",
    "df_complex.loc[:,'category'] = 'complex'\n",
    "df_mflux.loc[:,'category'] = 'flux'\n",
    "\n",
    "dsplot_all = pd.concat([dsplot,\n",
    "                        df_mu,\n",
    "                          df_complex.rename(columns={'complex':'variable', 'abundance':'value'}),\n",
    "                          df_mflux.rename(columns={'rxn':'variable', 'flux':'value'})])"
   ]
  },
  {
   "cell_type": "code",
   "execution_count": null,
   "metadata": {
    "collapsed": false,
    "deletable": true,
    "editable": true
   },
   "outputs": [],
   "source": [
    "sns.set_style('ticks')\n",
    "palette = sns.color_palette('muted', len(dsplot_all.variable.unique()))\n",
    "g = sns.FacetGrid(data=dsplot_all, hue='variable', sharey=False, size=3, col='category', palette=palette,\n",
    "                  aspect=2, col_wrap=2, col_order=['Biomass','complex','Metabolite','flux','growth'])\n",
    "g.map(sns.plt.plot, 'time', 'value', linestyle='-', marker='.')\n",
    "g.add_legend()"
   ]
  },
  {
   "cell_type": "markdown",
   "metadata": {
    "deletable": true,
    "editable": true
   },
   "source": [
    "### In general, it seems virtual cell lacks capacity to replenish the continuously diluting proteome.\n",
    "### Actually, not entirely true--see very rapid rise in ACK protein. But is that because it's cheaper (recall Hwa's overflow mechanism--ATP per protein cost)\n",
    "### Need to start it off with much more ribosome?"
   ]
  },
  {
   "cell_type": "markdown",
   "metadata": {
    "deletable": true,
    "editable": true
   },
   "source": [
    "## Proteome mol (mass) fractions"
   ]
  },
  {
   "cell_type": "code",
   "execution_count": null,
   "metadata": {
    "collapsed": false,
    "deletable": true,
    "editable": true
   },
   "outputs": [],
   "source": [
    "df_mass = pd.DataFrame([{'cplx':met.id, 'mass':met.mass} for met in me.metabolites if hasattr(met,'mass')])\n",
    "df_cplx = pd.DataFrame([{'cplx':k, 'conc':v, 'time':result['time'][i]} for i,r in enumerate(result['complex']) for k,v in r.iteritems()])\n",
    "df_cplx_mass = pd.merge(df_cplx, df_mass, on='cplx')\n",
    "\n",
    "times = df_cplx_mass.time.unique()\n",
    "for t in times:\n",
    "    dfi = df_cplx_mass[ df_cplx_mass.time==t]\n",
    "    masses = dfi.conc*dfi.mass\n",
    "    mtot = masses.sum()\n",
    "    mfs = masses/mtot\n",
    "    b = (df_cplx_mass.time==t).values\n",
    "    df_cplx_mass.loc[b,'mf'] = mfs\n",
    "\n",
    "df_var = df_cplx_mass.groupby('cplx').mf.var().reset_index()\n",
    "N_PLOT = 10\n",
    "vary_cplxs = df_var.sort_values('mf', ascending=False)['cplx'][0:N_PLOT].values\n",
    "vary_cplxs\n",
    "\n",
    "df_cplx_mass[ df_cplx_mass.time==0].mf.sum()\n",
    "\n",
    "from stressme.plot import stacked_bar\n",
    "\n",
    "dsplot_cplx = df_cplx_mass[ df_cplx_mass.cplx.isin(vary_cplxs)]\n",
    "dsplot_cplx.loc[:,'group'] = 'DynamicDelayedME'\n",
    "stacked_bar('time', 'mf', dsplot_cplx, 'cplx', 'group', aspect=4)"
   ]
  },
  {
   "cell_type": "code",
   "execution_count": null,
   "metadata": {
    "collapsed": true,
    "deletable": true,
    "editable": true
   },
   "outputs": [],
   "source": []
  }
 ],
 "metadata": {
  "kernelspec": {
   "display_name": "Python 2",
   "language": "python",
   "name": "python2"
  },
  "language_info": {
   "codemirror_mode": {
    "name": "ipython",
    "version": 2
   },
   "file_extension": ".py",
   "mimetype": "text/x-python",
   "name": "python",
   "nbconvert_exporter": "python",
   "pygments_lexer": "ipython2",
   "version": "2.7.13"
  }
 },
 "nbformat": 4,
 "nbformat_minor": 2
}
