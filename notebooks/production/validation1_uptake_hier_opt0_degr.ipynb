{
 "cells": [
  {
   "cell_type": "markdown",
   "metadata": {
    "deletable": true,
    "editable": true
   },
   "source": [
    "# Simulate proteome time profiles.\n",
    "## Start from measured proteome that is already hedged: necessary to enable lactate usage later?\n",
    "## Allow protein degradation--otherwise too constrained?"
   ]
  },
  {
   "cell_type": "code",
   "execution_count": 1,
   "metadata": {
    "collapsed": true,
    "deletable": true,
    "editable": true
   },
   "outputs": [],
   "source": [
    "import seaborn as sns\n",
    "import pandas as pd\n",
    "\n",
    "sns.plt.rcParams['svg.fonttype'] = 'none'\n",
    "pd.set_option('display.max_colwidth', -1)\n",
    "#pd.set_option('display.float_format', lambda x: '%.3g' % x)\n",
    "%matplotlib inline"
   ]
  },
  {
   "cell_type": "code",
   "execution_count": 2,
   "metadata": {
    "collapsed": true,
    "deletable": true,
    "editable": true
   },
   "outputs": [],
   "source": [
    "PROTOTYPE = False\n",
    "PROTEASE = True"
   ]
  },
  {
   "cell_type": "code",
   "execution_count": 3,
   "metadata": {
    "collapsed": true,
    "deletable": true,
    "editable": true
   },
   "outputs": [],
   "source": [
    "from dynamicme.tests.helpme import HelpME\n",
    "from dynamicme.dynamic import get_cplx_concs\n",
    "\n",
    "helper = HelpME(prototyping=PROTOTYPE, protease=PROTEASE)\n",
    "solver = helper.solver\n",
    "me = solver.me"
   ]
  },
  {
   "cell_type": "code",
   "execution_count": 4,
   "metadata": {
    "collapsed": false,
    "deletable": true,
    "editable": true
   },
   "outputs": [
    {
     "name": "stdout",
     "output_type": "stream",
     "text": [
      "7044 17146\n"
     ]
    }
   ],
   "source": [
    "print len(me.metabolites), len(me.reactions)"
   ]
  },
  {
   "cell_type": "code",
   "execution_count": 5,
   "metadata": {
    "collapsed": false,
    "deletable": true,
    "editable": true
   },
   "outputs": [],
   "source": [
    "from dynamicme.dynamic import get_undiluted_cplxs\n",
    "\n",
    "undiluted_cplxs = get_undiluted_cplxs(solver)"
   ]
  },
  {
   "cell_type": "code",
   "execution_count": 6,
   "metadata": {
    "collapsed": false,
    "deletable": true,
    "editable": true
   },
   "outputs": [
    {
     "data": {
      "text/plain": [
       "15"
      ]
     },
     "execution_count": 6,
     "metadata": {},
     "output_type": "execute_result"
    }
   ],
   "source": [
    "len(undiluted_cplxs)"
   ]
  },
  {
   "cell_type": "code",
   "execution_count": 7,
   "metadata": {
    "collapsed": true,
    "deletable": true,
    "editable": true
   },
   "outputs": [],
   "source": [
    "cplx_concs_max = get_cplx_concs(solver)"
   ]
  },
  {
   "cell_type": "code",
   "execution_count": 8,
   "metadata": {
    "collapsed": false,
    "deletable": true,
    "editable": true
   },
   "outputs": [
    {
     "data": {
      "text/plain": [
       "1432"
      ]
     },
     "execution_count": 8,
     "metadata": {},
     "output_type": "execute_result"
    }
   ],
   "source": [
    "len(cplx_concs_max)"
   ]
  },
  {
   "cell_type": "code",
   "execution_count": 9,
   "metadata": {
    "collapsed": false,
    "deletable": true,
    "editable": true
   },
   "outputs": [
    {
     "name": "stdout",
     "output_type": "stream",
     "text": [
      "mu of ME for growth maximization: 0.9208984375\n"
     ]
    }
   ],
   "source": [
    "mu_me = me.solution.x_dict['biomass_dilution']\n",
    "print 'mu of ME for growth maximization:', mu_me"
   ]
  },
  {
   "cell_type": "code",
   "execution_count": 10,
   "metadata": {
    "collapsed": true,
    "deletable": true,
    "editable": true
   },
   "outputs": [],
   "source": [
    "from dynamicme.dynamic import DelayedDynamicME\n",
    "\n",
    "dyme = DelayedDynamicME(solver)\n",
    "dyme.delay_model.solver.set_realopts('lp', {'Feasibility tol':1e-15,'Optimality tol':1e-15})\n",
    "dsolver = dyme.delay_model.solver"
   ]
  },
  {
   "cell_type": "markdown",
   "metadata": {
    "deletable": true,
    "editable": true
   },
   "source": [
    "# Test the optimal predicted proteome--with active protein degradation"
   ]
  },
  {
   "cell_type": "code",
   "execution_count": 11,
   "metadata": {
    "collapsed": false,
    "deletable": true,
    "editable": true
   },
   "outputs": [
    {
     "name": "stdout",
     "output_type": "stream",
     "text": [
      "Growth on Glucose = 0.58\n"
     ]
    }
   ],
   "source": [
    "C_meas = 'Glucose'\n",
    "###\n",
    "df_meta = pd.read_csv('/home/laurence/ME/data/cobrame/sectors/proteomics_conds.csv')\n",
    "mu_meas = df_meta[ df_meta.exp==C_meas].iloc[0]['Growth.rate..h.1.']\n",
    "print 'Growth on %s = %g' % (C_meas, mu_meas)"
   ]
  },
  {
   "cell_type": "code",
   "execution_count": 12,
   "metadata": {
    "collapsed": false,
    "deletable": true,
    "editable": true
   },
   "outputs": [
    {
     "name": "stdout",
     "output_type": "stream",
     "text": [
      "(51898, 8)\n"
     ]
    }
   ],
   "source": [
    "df_meas = pd.read_csv('/home/laurence/ME/data/cobrame/sectors/schmidt_prot_mf.csv')\n",
    "print df_meas.shape\n",
    "#df_meas.head(2)"
   ]
  },
  {
   "cell_type": "code",
   "execution_count": 13,
   "metadata": {
    "collapsed": false,
    "deletable": true,
    "editable": true
   },
   "outputs": [],
   "source": [
    "df_meas_C = df_meas[ df_meas.condition==C_meas]\n",
    "#df_meas_C.head(2)"
   ]
  },
  {
   "cell_type": "code",
   "execution_count": 14,
   "metadata": {
    "collapsed": true,
    "deletable": true,
    "editable": true
   },
   "outputs": [],
   "source": [
    "meas_dict = {r['Bnumber']:r['mf'] for i,r in df_meas_C.iterrows()}"
   ]
  },
  {
   "cell_type": "code",
   "execution_count": 15,
   "metadata": {
    "collapsed": false,
    "deletable": true,
    "editable": true
   },
   "outputs": [
    {
     "data": {
      "text/plain": [
       "0.9999999999999964"
      ]
     },
     "execution_count": 15,
     "metadata": {},
     "output_type": "execute_result"
    }
   ],
   "source": [
    "sum(meas_dict.values())"
   ]
  },
  {
   "cell_type": "markdown",
   "metadata": {
    "deletable": true,
    "editable": true
   },
   "source": [
    "# Get simulated proteome closest to measured\n",
    "- L1 (drops potential outliers)\n",
    "- L2 (tries to get match everything)\n",
    "    - should pre-process to remove outliers?"
   ]
  },
  {
   "cell_type": "code",
   "execution_count": 16,
   "metadata": {
    "collapsed": false,
    "deletable": true,
    "editable": true
   },
   "outputs": [
    {
     "name": "stdout",
     "output_type": "stream",
     "text": [
      "CPU times: user 110 ms, sys: 10 ms, total: 120 ms\n",
      "Wall time: 122 ms\n"
     ]
    }
   ],
   "source": [
    "%%time\n",
    "\n",
    "from cobrawe.fit import FitME\n",
    "\n",
    "fit = FitME(me)\n",
    "#me_nlp = fit.me_nlp\n",
    "#me_nlp.compiled_expressions = None\n",
    "#sol,stat,hs = fit.fit_mass_frac(meas_dict, mu_meas, norm='l1')"
   ]
  },
  {
   "cell_type": "markdown",
   "metadata": {
    "deletable": true,
    "editable": true
   },
   "source": [
    "## Initialize dynamicME with this feasible initial proteome and growth rate"
   ]
  },
  {
   "cell_type": "code",
   "execution_count": 17,
   "metadata": {
    "collapsed": true,
    "deletable": true,
    "editable": true
   },
   "outputs": [],
   "source": [
    "cplx_concs = get_cplx_concs(solver)\n",
    "cplx_conc_dict0 = dict(cplx_concs)"
   ]
  },
  {
   "cell_type": "code",
   "execution_count": 18,
   "metadata": {
    "collapsed": false,
    "deletable": true,
    "editable": true
   },
   "outputs": [],
   "source": [
    "import json\n",
    "\n",
    "# fname = '/home/laurence/ME/data/dynamicME/production/cplx_conc_opt_%s.csv'%C_meas\n",
    "# print fname\n",
    "# with open(fname,'w') as f:\n",
    "#     json.dump(cplx_conc_dict0, f)"
   ]
  },
  {
   "cell_type": "markdown",
   "metadata": {
    "deletable": true,
    "editable": true
   },
   "source": [
    "# Validate mixed substrate uptake hierarchy--Beg et al. (2007) MSB"
   ]
  },
  {
   "cell_type": "code",
   "execution_count": 19,
   "metadata": {
    "collapsed": false,
    "deletable": true,
    "editable": true
   },
   "outputs": [
    {
     "name": "stdout",
     "output_type": "stream",
     "text": [
      "{'glyc_e': 4.34339676647141, 'malt_e': 1.1685776026677226, 'lac__L_e': 4.4908498933423155, 'gal_e': 2.220299442904667, 'ac_e': 0.0, 'glc__D_e': 2.220299442904667}\n",
      "{u'EX_glyc_e': -10.0, u'EX_o2_e': -20.0, u'EX_gal_e': -10.0, u'EX_lac__L_e': -10.0, u'EX_malt_e': -10.0, u'EX_ac_e': -10.0, 'EX_glc__D_e': -10.0}\n"
     ]
    }
   ],
   "source": [
    "import warnings\n",
    "\n",
    "T = 10   # hours\n",
    "V = 1.   # L\n",
    "X0 = 0.00675 / V  # g/L\n",
    "c0_dict = {'glc__D_e': 0.4,\n",
    "           'lac__L_e': 0.4,\n",
    "           'malt_e': 0.4,\n",
    "           'gal_e': 0.4,\n",
    "           'glyc_e':0.4,\n",
    "           'ac_e': 0.0}\n",
    "\n",
    "### Convert from g/L to mmol\n",
    "mids_remove = []\n",
    "for mid,c in c0_dict.iteritems():\n",
    "    try:        \n",
    "        met = me.metabolites.get_by_id(mid)    \n",
    "        c0_dict[met.id] = c / met.formula_weight * 1000\n",
    "    except KeyError:\n",
    "        warnings.warn('Model has no metabolite: %s. Will remove it from c0_dict' % mid)\n",
    "        mids_remove.append(mid)\n",
    "\n",
    "for mid in mids_remove:\n",
    "    c0_dict.pop(mid)\n",
    "        \n",
    "### Set max uptake rate\n",
    "LB_EX = -10.\n",
    "LB_O2 = -20.\n",
    "\n",
    "lb_dict={}\n",
    "ub_dict={}\n",
    "\n",
    "for mid in c0_dict.keys():\n",
    "    try:\n",
    "        rxn = dyme.get_exchange_rxn(mid)    \n",
    "        if rxn.id is 'EX_o2_e':\n",
    "            lb = LB_O2\n",
    "        else:\n",
    "            lb = LB_EX\n",
    "        rxn.lower_bound = lb\n",
    "        lb_dict[rxn.id] = lb\n",
    "    except KeyError:\n",
    "        warnings.warn('Model has no metabolite: '+ mid)\n",
    "\n",
    "me.reactions.EX_o2_e.lower_bound = -20.\n",
    "lb_dict[me.reactions.EX_o2_e.id] = -20.\n",
    "        \n",
    "print c0_dict\n",
    "print lb_dict"
   ]
  },
  {
   "cell_type": "code",
   "execution_count": 20,
   "metadata": {
    "collapsed": true,
    "deletable": true,
    "editable": true
   },
   "outputs": [],
   "source": [
    "solver.set_realopts('lp', {'Feasibility tol':1e-15, 'Optimality tol':1e-15})"
   ]
  },
  {
   "cell_type": "code",
   "execution_count": 21,
   "metadata": {
    "collapsed": false,
    "deletable": true,
    "editable": true
   },
   "outputs": [],
   "source": [
    "from cobrame import MetabolicReaction\n",
    "\n",
    "if PROTOTYPE:\n",
    "    fluxes_plot = ['ACONTa_CPLX0-7760_mod_4fe4s', 'ACONTb_CPLX0-7760_mod_4fe4s', 'ACKr_reverse']\n",
    "else:\n",
    "    #fluxes_plot = [r.id for r in dsolver.me.reactions if isinstance(r,MetabolicReaction)]\n",
    "    fluxes_plot = [r.id for r in dsolver.me.reactions]"
   ]
  },
  {
   "cell_type": "code",
   "execution_count": null,
   "metadata": {
    "collapsed": false,
    "deletable": true,
    "editable": true
   },
   "outputs": [
    {
     "data": {
      "text/plain": [
       "20040"
      ]
     },
     "execution_count": 22,
     "metadata": {},
     "output_type": "execute_result"
    }
   ],
   "source": [
    "len(fluxes_plot)"
   ]
  },
  {
   "cell_type": "code",
   "execution_count": null,
   "metadata": {
    "collapsed": false,
    "deletable": true,
    "editable": true,
    "scrolled": true
   },
   "outputs": [
    {
     "name": "stdout",
     "output_type": "stream",
     "text": [
      "Metabolite glyc_e available.\n",
      "Using default LB=-1000 for EX_glyc_e\n",
      "Metabolite ac_e depleted.\n",
      "Metabolite lac__L_e available.\n",
      "Using default LB=-1000 for EX_lac__L_e\n",
      "Metabolite malt_e available.\n",
      "Using default LB=-1000 for EX_malt_e\n",
      "Metabolite gal_e available.\n",
      "Using default LB=-1000 for EX_gal_e\n",
      "Metabolite glc__D_e available.\n",
      "Using default LB=-1000 for EX_glc__D_e\n",
      "Computing new uptake rates\n"
     ]
    }
   ],
   "source": [
    "%%time\n",
    "extra_rxns_tracked = list(set(['EX_o2_e'] + fluxes_plot + ['biomass_dilution']))\n",
    "\n",
    "T = 20\n",
    "dt = 0.5\n",
    "H = dt\n",
    "\n",
    "result = dyme.simulate_batch(\n",
    "    T,    \n",
    "    c0_dict,\n",
    "    X0,\n",
    "    prec_bs=1e-3,\n",
    "    ZERO_CONC=0.,\n",
    "    extra_rxns_tracked=extra_rxns_tracked,\n",
    "    lb_dict={},\n",
    "    verbosity=2,\n",
    "    dt = dt,\n",
    "    H = H,\n",
    "    cplx_conc_dict0=cplx_conc_dict0)"
   ]
  },
  {
   "cell_type": "markdown",
   "metadata": {
    "deletable": true,
    "editable": true
   },
   "source": [
    "### Save results"
   ]
  },
  {
   "cell_type": "code",
   "execution_count": null,
   "metadata": {
    "collapsed": false,
    "deletable": true,
    "editable": true
   },
   "outputs": [],
   "source": [
    "import json\n",
    "result2 = result.copy()\n",
    "result2.keys()\n",
    "result2.pop('basis')\n",
    "\n",
    "with open('/home/laurence/ME/data/dynamicME/production/validation1_uptake_hier_sim_opt0_protease_R02.json','w') as f:\n",
    "    json.dump(result2, f)"
   ]
  },
  {
   "cell_type": "code",
   "execution_count": 52,
   "metadata": {
    "collapsed": false,
    "deletable": true,
    "editable": true
   },
   "outputs": [
    {
     "data": {
      "text/plain": [
       "[<matplotlib.lines.Line2D at 0x7fbfda759bd0>]"
      ]
     },
     "execution_count": 52,
     "metadata": {},
     "output_type": "execute_result"
    },
    {
     "data": {
      "image/png": "[encoded data removed]",
      "text/plain": [
       "<matplotlib.figure.Figure at 0x7fbfdac168d0>"
      ]
     },
     "metadata": {},
     "output_type": "display_data"
    }
   ],
   "source": [
    "import seaborn as sns\n",
    "%matplotlib inline\n",
    "\n",
    "sns.plt.plot(result['time'], result['biomass'])"
   ]
  },
  {
   "cell_type": "code",
   "execution_count": 53,
   "metadata": {
    "collapsed": false,
    "deletable": true,
    "editable": true
   },
   "outputs": [
    {
     "data": {
      "text/plain": [
       "{'ac_e': {'mw': 59.04402, 'rxn': <Reaction EX_ac_e at 0x7fbfd66e7ed0>},\n",
       " 'gal_e': {'mw': 180.15588, 'rxn': <Reaction EX_gal_e at 0x7fbfd672a850>},\n",
       " 'glc__D_e': {'mw': 180.15588,\n",
       "  'rxn': <Reaction EX_glc__D_e at 0x7fbfd671ec50>},\n",
       " 'glyc_e': {'mw': 92.09382, 'rxn': <Reaction EX_glyc_e at 0x7fbfd671e250>},\n",
       " 'lac__L_e': {'mw': 89.07, 'rxn': <Reaction EX_lac__L_e at 0x7fbfd670d410>},\n",
       " 'malt_e': {'mw': 342.29648, 'rxn': <Reaction EX_malt_e at 0x7fbfd6782c50>}}"
      ]
     },
     "execution_count": 53,
     "metadata": {},
     "output_type": "execute_result"
    }
   ],
   "source": [
    "ex_met_rxn_dict = {m: {'rxn':dyme.get_exchange_rxn(m), 'mw':me.metabolites.get_by_id(m).formula_weight} for m in c0_dict.keys()}\n",
    "ex_met_rxn_dict"
   ]
  },
  {
   "cell_type": "code",
   "execution_count": 54,
   "metadata": {
    "collapsed": false,
    "deletable": true,
    "editable": true,
    "scrolled": true
   },
   "outputs": [],
   "source": [
    "import pandas as pd\n",
    "\n",
    "df_conc = pd.DataFrame(result['concentration'])\n",
    "### Convert concentrations to g/L\n",
    "for mid, vals in ex_met_rxn_dict.iteritems():\n",
    "    df_conc[mid] = df_conc[mid] * vals['mw'] * 0.001\n",
    "\n",
    "df_time = pd.DataFrame({'time':t, 'biomass':b} for t,b in zip(result['time'], result['biomass']))\n",
    "df_flux = pd.DataFrame(result['ex_flux'])\n",
    "df_mu   = pd.DataFrame({'mu':result['growth_rate']})\n",
    "df_result = pd.concat([df_time, df_conc, df_flux, df_mu], axis=1)"
   ]
  },
  {
   "cell_type": "code",
   "execution_count": 55,
   "metadata": {
    "collapsed": true,
    "deletable": true,
    "editable": true
   },
   "outputs": [],
   "source": [
    "dsplot = pd.melt(df_result, id_vars='time', value_vars=['biomass','ac_e','gal_e','glc__D_e','glyc_e','lac__L_e','malt_e'])\n",
    "dsplot.time = pd.to_numeric(dsplot.time)\n",
    "dsplot['category'] = 'Metabolite'\n",
    "dsplot.loc[ dsplot.variable=='biomass', 'category'] = 'Biomass'"
   ]
  },
  {
   "cell_type": "code",
   "execution_count": 56,
   "metadata": {
    "collapsed": false,
    "deletable": true,
    "editable": true
   },
   "outputs": [
    {
     "data": {
      "image/png": "[encoded data removed]",
      "text/plain": [
       "<matplotlib.figure.Figure at 0x7fbfda89ca90>"
      ]
     },
     "metadata": {},
     "output_type": "display_data"
    }
   ],
   "source": [
    "sns.set_style('ticks')\n",
    "\n",
    "colors = [\n",
    "'#000000', # biomass\n",
    "'#660066', # acetate\n",
    "'#00CC00', #'#00FF00', # galactose\n",
    "'#000000', # glucose\n",
    "'#FF00FF', # glycerol\n",
    "'#0000FF', # lactate\n",
    "'#FF0000', # maltose\n",
    "]\n",
    "\n",
    "colpal = sns.color_palette(colors)\n",
    "sns.set_palette(colpal)\n",
    "\n",
    "g = sns.FacetGrid(data=dsplot, hue='variable', col='category', sharey=False, size=5)\n",
    "\n",
    "g.map(sns.plt.plot, 'time', 'value', linestyle='-', marker='.')\n",
    "for i,ax in enumerate(g.axes.flat):\n",
    "    ylim = ax.get_ylim()\n",
    "    ax.set_ylim((ylim[0],ylim[1]*1.2))\n",
    "    if i==0:\n",
    "        ax.set_ylabel('Biomass (g/L)')\n",
    "    else:\n",
    "        ax.set_ylabel('Metabolite concentration (g/L)')\n",
    "g.set_xlabels('Time (h)')\n",
    "g.add_legend()\n",
    "\n",
    "sns.despine(offset=1, trim=True)"
   ]
  },
  {
   "cell_type": "code",
   "execution_count": null,
   "metadata": {
    "collapsed": false,
    "deletable": true,
    "editable": true
   },
   "outputs": [],
   "source": [
    "g.savefig('/home/laurence/ME/figures/persistME/beg_init_opt_protease_R02.pdf')\n",
    "g.savefig('/home/laurence/ME/figures/persistME/beg_init_opt_protease_R02.svg')\n",
    "g.savefig('/home/laurence/ME/figures/persistME/beg_init_opt_protease_R02.eps')"
   ]
  },
  {
   "cell_type": "markdown",
   "metadata": {
    "deletable": true,
    "editable": true
   },
   "source": [
    "# DEBUG"
   ]
  },
  {
   "cell_type": "code",
   "execution_count": 59,
   "metadata": {
    "collapsed": false,
    "deletable": true,
    "editable": true
   },
   "outputs": [
    {
     "data": {
      "text/plain": [
       "[nan,\n",
       " 1.1748046875,\n",
       " 1.0947265625,\n",
       " 0.9482421875,\n",
       " 0.81640625,\n",
       " 0.6962890625,\n",
       " 0.5947265625,\n",
       " 0.51171875,\n",
       " 0.4453125,\n",
       " 0.3916015625,\n",
       " 0.34765625,\n",
       " 0.3115234375,\n",
       " 0.28125,\n",
       " 0.255859375,\n",
       " 0.234375,\n",
       " 0.2158203125,\n",
       " 0.171875,\n",
       " 0.1796875,\n",
       " 0.17578125,\n",
       " 0.16796875,\n",
       " 0.16015625,\n",
       " 0.15234375,\n",
       " 0.14453125,\n",
       " 0.0693359375,\n",
       " 0.1064453125,\n",
       " 0.115234375,\n",
       " 0.1171875,\n",
       " 0.115234375,\n",
       " 0.1103515625,\n",
       " 0.0,\n",
       " 0.0,\n",
       " 0.0,\n",
       " 0.0,\n",
       " 0.0,\n",
       " 0.0,\n",
       " 0.0,\n",
       " 0.0,\n",
       " 0.0,\n",
       " 0.0,\n",
       " 0.0,\n",
       " 0.0,\n",
       " 0.0]"
      ]
     },
     "execution_count": 59,
     "metadata": {},
     "output_type": "execute_result"
    }
   ],
   "source": [
    "result['growth_rate']"
   ]
  },
  {
   "cell_type": "code",
   "execution_count": 67,
   "metadata": {
    "collapsed": false,
    "deletable": true,
    "editable": true
   },
   "outputs": [],
   "source": [
    "ind_dbg = 29\n",
    "result['growth_rate'][ind_dbg]\n",
    "cplx_conc_dbg = result['complex'][ind_dbg]"
   ]
  },
  {
   "cell_type": "code",
   "execution_count": 68,
   "metadata": {
    "collapsed": true,
    "deletable": true,
    "editable": true
   },
   "outputs": [],
   "source": [
    "dyme.delay_model.update_cplx_concs(cplx_conc_dbg)"
   ]
  },
  {
   "cell_type": "code",
   "execution_count": 70,
   "metadata": {
    "collapsed": false,
    "deletable": true,
    "editable": true
   },
   "outputs": [
    {
     "name": "stdout",
     "output_type": "stream",
     "text": [
      "CPU times: user 2min 9s, sys: 1.21 s, total: 2min 10s\n",
      "Wall time: 2min 10s\n"
     ]
    }
   ],
   "source": [
    "%%time\n",
    "#x,stat,hs = dsolver.solvelp(1e-25, basis=dsolver.feas_basis)\n",
    "x,stat,hs = dsolver.solvelp(1e-15, basis=dsolver.feas_basis)"
   ]
  },
  {
   "cell_type": "code",
   "execution_count": 71,
   "metadata": {
    "collapsed": false,
    "deletable": true,
    "editable": true
   },
   "outputs": [
    {
     "name": "stdout",
     "output_type": "stream",
     "text": [
      "1\n"
     ]
    }
   ],
   "source": [
    "print stat"
   ]
  },
  {
   "cell_type": "code",
   "execution_count": 133,
   "metadata": {
    "collapsed": false
   },
   "outputs": [
    {
     "data": {
      "text/plain": [
       "defaultdict(float,\n",
       "            {'RplA_mono': 1.0,\n",
       "             'RplB_mono': 1.0,\n",
       "             'RplC_mono': 1.0,\n",
       "             'RplD_mono': 1.0,\n",
       "             'RplE_mono': 1.0,\n",
       "             'RplF_mono': 1.0,\n",
       "             'RplI_mono': 1.0,\n",
       "             'RplJ_mono': 1.0,\n",
       "             'RplK_mono': 1.0,\n",
       "             'RplM_mono': 1.0,\n",
       "             'RplN_mono': 1.0,\n",
       "             'RplO_mono': 1.0,\n",
       "             'RplP_mono': 1.0,\n",
       "             'RplQ_mono': 1.0,\n",
       "             'RplR_mono': 1.0,\n",
       "             'RplS_mono': 1.0,\n",
       "             'RplT_mono': 1.0,\n",
       "             'RplU_mono': 1.0,\n",
       "             'RplV_mono': 1.0,\n",
       "             'RplW_mono': 1.0,\n",
       "             'RplX_mono': 1.0,\n",
       "             'RplY_mono': 1.0,\n",
       "             'RpmA_mono': 1.0,\n",
       "             'RpmB_mono': 1.0,\n",
       "             'RpmC_mono': 1.0,\n",
       "             'RpmD_mono': 1.0,\n",
       "             'RpmE_mono': 1.0,\n",
       "             'RpmF_mono': 1.0,\n",
       "             'RpmG_mono': 1.0,\n",
       "             'RpmH_mono': 1.0,\n",
       "             'RpmI_mono': 1.0,\n",
       "             'RpmJ_mono': 1.0,\n",
       "             'RpsA_mono': 1.0,\n",
       "             'RpsB_mono': 1.0,\n",
       "             'RpsC_mono': 1.0,\n",
       "             'RpsD_mono': 1.0,\n",
       "             'RpsE_mono': 1.0,\n",
       "             'RpsF_mono': 1.0,\n",
       "             'RpsG_mono': 1.0,\n",
       "             'RpsH_mono': 1.0,\n",
       "             'RpsI_mono': 1.0,\n",
       "             'RpsJ_mono': 1.0,\n",
       "             'RpsK_mono': 1.0,\n",
       "             'RpsL_mono': 1.0,\n",
       "             'RpsM_mono': 1.0,\n",
       "             'RpsN_mono': 1.0,\n",
       "             'RpsO_mono': 1.0,\n",
       "             'RpsP_mono': 1.0,\n",
       "             'RpsQ_mono': 1.0,\n",
       "             'RpsR_mono': 1.0,\n",
       "             'RpsS_mono': 1.0,\n",
       "             'RpsT_mono': 1.0,\n",
       "             'RpsU_mono': 1.0,\n",
       "             'Sra_mono': 1.0,\n",
       "             'Tig_mono': 1.0,\n",
       "             'generic_16s_rRNAs': 1.0,\n",
       "             'generic_23s_rRNAs': 1.0,\n",
       "             'generic_5s_rRNAs': 1.0,\n",
       "             'gtp_c': 1.0,\n",
       "             'mg2_c': 171.0,\n",
       "             'rpL7/12_mod_1:acetyl': 2.0})"
      ]
     },
     "execution_count": 133,
     "metadata": {},
     "output_type": "execute_result"
    }
   ],
   "source": [
    "me.complex_data.ribosome.stoichiometry"
   ]
  },
  {
   "cell_type": "code",
   "execution_count": 139,
   "metadata": {
    "collapsed": false
   },
   "outputs": [
    {
     "data": {
      "text/plain": [
       "frozenset({<GenericFormationReaction RNA_b3851_to_generic_16s_rRNAs at 0x7fbfd425c690>,\n",
       "           <Reaction DM_RNA_b3851 at 0x7fbfd7244f10>,\n",
       "           <TranscriptionReaction transcription_TU0_1181_from_RpoD_mono at 0x7fbfdab7c550>,\n",
       "           <TranscriptionReaction transcription_TU0_1181_from_RPOH_MONOMER at 0x7fbfdab7c7d0>,\n",
       "           <TranscriptionReaction transcription_TU0_14486_from_RpoD_mono at 0x7fbfdaeb0590>})"
      ]
     },
     "execution_count": 139,
     "metadata": {},
     "output_type": "execute_result"
    }
   ],
   "source": [
    "me.metabolites.RNA_b3851.reactions"
   ]
  },
  {
   "cell_type": "code",
   "execution_count": 137,
   "metadata": {
    "collapsed": false
   },
   "outputs": [
    {
     "data": {
      "text/plain": [
       "frozenset({<ComplexDegradation degradation_ribosome_ClpAXP at 0x7fbfd38e4f50>,\n",
       "           <ComplexDegradation degradation_ribosome_Lon at 0x7fbfd3bc2c50>,\n",
       "           <ComplexFormation formation_ribosome at 0x7fbfd426a1d0>,\n",
       "           <GenericFormationReaction RNA_b3851_to_generic_16s_rRNAs at 0x7fbfd425c690>,\n",
       "           <GenericFormationReaction RNA_b3968_to_generic_16s_rRNAs at 0x7fbfd425c790>,\n",
       "           <GenericFormationReaction RNA_b3756_to_generic_16s_rRNAs at 0x7fbfd425c810>,\n",
       "           <GenericFormationReaction RNA_b3278_to_generic_16s_rRNAs at 0x7fbfd425c890>,\n",
       "           <GenericFormationReaction RNA_b4007_to_generic_16s_rRNAs at 0x7fbfd425c910>,\n",
       "           <GenericFormationReaction RNA_b2591_to_generic_16s_rRNAs at 0x7fbfd425c990>,\n",
       "           <GenericFormationReaction RNA_b0201_to_generic_16s_rRNAs at 0x7fbfd425ca10>})"
      ]
     },
     "execution_count": 137,
     "metadata": {},
     "output_type": "execute_result"
    }
   ],
   "source": [
    "me.metabolites.generic_16s_rRNAs.reactions"
   ]
  },
  {
   "cell_type": "code",
   "execution_count": 129,
   "metadata": {
    "collapsed": false,
    "deletable": true,
    "editable": true
   },
   "outputs": [
    {
     "name": "stdout",
     "output_type": "stream",
     "text": [
      "translation_b0508        RNA_b0508                -0.00149519890260631*mu - 0.00058537037037037 - 0.0538271604938272*(mu + 0.3915)/mu\n",
      "translation_b0508        RNA_degradosome          -2.30030600400971e-7*mu - 9.00569800569801e-8     \n"
     ]
    }
   ],
   "source": [
    "met = me.metabolites.RNA_b0508\n",
    "dsome = me.metabolites.RNA_degradosome\n",
    "for rxn in met.reactions:\n",
    "    if 'translation' in rxn.id:\n",
    "        print '%-25.20s%-25.20s%-50s' % (rxn.id, met.id, rxn.metabolites[met])\n",
    "        print '%-25.20s%-25.20s%-50s' % (rxn.id, dsome.id, rxn.metabolites[dsome])"
   ]
  },
  {
   "cell_type": "code",
   "execution_count": 145,
   "metadata": {
    "collapsed": false
   },
   "outputs": [
    {
     "data": {
      "text/plain": [
       "{<Complex Rrf_mono at 0x7fbfda248410>: -2.62130898398882e-7*mu,\n",
       " <Complex Fmt_mono_mod_mg2_mod_k at 0x7fbfda248810>: -1.80324164444648e-7*mu,\n",
       " <Complex Def_mono_mod_1:fe2 at 0x7fbfda248f10>: -2.72438972852433e-7*mu,\n",
       " <Complex InfB_mono at 0x7fbfda255990>: -4.45382843794892e-6*mu,\n",
       " <Complex Tsf_mono at 0x7fbfda255e50>: -0.0010982905982906*mu,\n",
       " <Complex PrfC_mono at 0x7fbfda264650>: -4.27350427350427e-6*mu,\n",
       " <Complex InfA_mono at 0x7fbfda264850>: -4.27350427350427e-6*mu,\n",
       " <Complex FusA_mono at 0x7fbfda2b6bd0>: -0.0010982905982906*mu,\n",
       " <Complex InfC_mono at 0x7fbfda2b6f50>: -4.27350427350427e-6*mu,\n",
       " <Constraint protein_biomass at 0x7fbfdb148e50>: 29.367514999999997,\n",
       " <Constraint mRNA_biomass at 0x7fbfdb15a090>: -13.3426824641975*(mu + 0.3915)/mu,\n",
       " <GenericComponent generic_RF at 0x7fbfda264f50>: -1.58420211712986e-7*mu,\n",
       " <GenericComponent generic_Tuf at 0x7fbfda2b6890>: -0.0010982905982906*mu,\n",
       " <GenerictRNA generic_tRNA_UGU_cys__L_c at 0x7fbfda248210>: -4,\n",
       " <GenerictRNA generic_tRNA_UCU_ser__L_c at 0x7fbfda248250>: -2,\n",
       " <GenerictRNA generic_tRNA_GGG_gly_c at 0x7fbfda248390>: -2,\n",
       " <GenerictRNA generic_tRNA_AGU_ser__L_c at 0x7fbfda248590>: -2,\n",
       " <GenerictRNA generic_tRNA_GAA_glu__L_c at 0x7fbfda2485d0>: -18,\n",
       " <GenerictRNA generic_tRNA_UCG_ser__L_c at 0x7fbfda248a10>: -1,\n",
       " <GenerictRNA generic_tRNA_GCA_ala__L_c at 0x7fbfda248a50>: -3,\n",
       " <GenerictRNA generic_tRNA_GUC_val__L_c at 0x7fbfda248b50>: -1,\n",
       " <GenerictRNA generic_tRNA_UUA_leu__L_c at 0x7fbfda248bd0>: -9,\n",
       " <GenerictRNA generic_tRNA_START_met__L_c at 0x7fbfda248cd0>: -1,\n",
       " <GenerictRNA generic_tRNA_GAU_asp__L_c at 0x7fbfda248d50>: -10,\n",
       " <GenerictRNA generic_tRNA_GGA_gly_c at 0x7fbfda248d90>: -4,\n",
       " <GenerictRNA generic_tRNA_CGG_arg__L_c at 0x7fbfda248e10>: -3,\n",
       " <GenerictRNA generic_tRNA_AUU_ile__L_c at 0x7fbfda248e90>: -16,\n",
       " <GenerictRNA generic_tRNA_GCG_ala__L_c at 0x7fbfda255110>: -9,\n",
       " <GenerictRNA generic_tRNA_AAA_lys__L_c at 0x7fbfda2551d0>: -11,\n",
       " <GenerictRNA generic_tRNA_AGC_ser__L_c at 0x7fbfda2552d0>: -1,\n",
       " <GenerictRNA generic_tRNA_ACC_thr__L_c at 0x7fbfda255350>: -6,\n",
       " <GenerictRNA generic_tRNA_GGU_gly_c at 0x7fbfda255410>: -12,\n",
       " <GenerictRNA generic_tRNA_CGC_arg__L_c at 0x7fbfda255490>: -4,\n",
       " <GenerictRNA generic_tRNA_AAC_asn__L_c at 0x7fbfda255590>: -5,\n",
       " <GenerictRNA generic_tRNA_GUG_val__L_c at 0x7fbfda255690>: -1,\n",
       " <GenerictRNA generic_tRNA_AAU_asn__L_c at 0x7fbfda255710>: -9,\n",
       " <GenerictRNA generic_tRNA_ACG_thr__L_c at 0x7fbfda255790>: -4,\n",
       " <GenerictRNA generic_tRNA_CUG_leu__L_c at 0x7fbfda255910>: -9,\n",
       " <GenerictRNA generic_tRNA_UGG_trp__L_c at 0x7fbfda255b50>: -4,\n",
       " <GenerictRNA generic_tRNA_GAC_asp__L_c at 0x7fbfda255c90>: -5,\n",
       " <GenerictRNA generic_tRNA_CCC_pro__L_c at 0x7fbfda255f10>: -1,\n",
       " <GenerictRNA generic_tRNA_UAC_tyr__L_c at 0x7fbfda264050>: -3,\n",
       " <GenerictRNA generic_tRNA_CUU_leu__L_c at 0x7fbfda2640d0>: -1,\n",
       " <GenerictRNA generic_tRNA_UUC_phe__L_c at 0x7fbfda264150>: -3,\n",
       " <GenerictRNA generic_tRNA_AAG_lys__L_c at 0x7fbfda2641d0>: -1,\n",
       " <GenerictRNA generic_tRNA_UAU_tyr__L_c at 0x7fbfda264250>: -9,\n",
       " <GenerictRNA generic_tRNA_UUU_phe__L_c at 0x7fbfda2642d0>: -9,\n",
       " <GenerictRNA generic_tRNA_CUC_leu__L_c at 0x7fbfda2643d0>: -4,\n",
       " <GenerictRNA generic_tRNA_CCG_pro__L_c at 0x7fbfda264450>: -5,\n",
       " <GenerictRNA generic_tRNA_UUG_leu__L_c at 0x7fbfda2646d0>: -2,\n",
       " <GenerictRNA generic_tRNA_CAA_gln__L_c at 0x7fbfda264950>: -2,\n",
       " <GenerictRNA generic_tRNA_CAG_gln__L_c at 0x7fbfda2ace90>: -6,\n",
       " <GenerictRNA generic_tRNA_CCU_pro__L_c at 0x7fbfda2acf10>: -4,\n",
       " <GenerictRNA generic_tRNA_AUC_ile__L_c at 0x7fbfda2b61d0>: -1,\n",
       " <GenerictRNA generic_tRNA_GCU_ala__L_c at 0x7fbfda2b6350>: -4,\n",
       " <GenerictRNA generic_tRNA_ACU_thr__L_c at 0x7fbfda2b63d0>: -2,\n",
       " <GenerictRNA generic_tRNA_CGU_arg__L_c at 0x7fbfda2b6450>: -7,\n",
       " <GenerictRNA generic_tRNA_GUA_val__L_c at 0x7fbfda2b64d0>: -3,\n",
       " <GenerictRNA generic_tRNA_CAU_his__L_c at 0x7fbfda2b6550>: -6,\n",
       " <GenerictRNA generic_tRNA_GUU_val__L_c at 0x7fbfda2b6810>: -3,\n",
       " <GenerictRNA generic_tRNA_AUG_met__L_c at 0x7fbfda2b6850>: -8,\n",
       " <GenerictRNA generic_tRNA_GCC_ala__L_c at 0x7fbfda2b6cd0>: -6,\n",
       " <GenerictRNA generic_tRNA_CAC_his__L_c at 0x7fbfda2b6d50>: -3,\n",
       " <GenerictRNA generic_tRNA_UGC_cys__L_c at 0x7fbfda2b6e90>: -2,\n",
       " <GenerictRNA generic_tRNA_GGC_gly_c at 0x7fbfda2b6ed0>: -4,\n",
       " <Metabolite ile__L_c at 0x7fbfda2483d0>: -17,\n",
       " <Metabolite pro__L_c at 0x7fbfda248710>: -10,\n",
       " <Metabolite lys__L_c at 0x7fbfda248790>: -12,\n",
       " <Metabolite gdp_c at 0x7fbfda248ad0>: 514.0,\n",
       " <Metabolite ser__L_c at 0x7fbfda255150>: -6,\n",
       " <Metabolite ala__L_c at 0x7fbfda255390>: -22,\n",
       " <Metabolite met__L_c at 0x7fbfda255610>: -10,\n",
       " <Metabolite thf_c at 0x7fbfda255810>: 1,\n",
       " <Metabolite gly_c at 0x7fbfda255890>: -22,\n",
       " <Metabolite asp__L_c at 0x7fbfda255b90>: -15,\n",
       " <Metabolite asn__L_c at 0x7fbfda255c10>: -14,\n",
       " <Metabolite generic_tRNA_GAG_glu__L_c at 0x7fbfda255d10>: -3,\n",
       " <Metabolite 10fthf_c at 0x7fbfda255dd0>: -1,\n",
       " <Metabolite for_c at 0x7fbfda255f90>: 1,\n",
       " <Metabolite val__L_c at 0x7fbfda264350>: -8,\n",
       " <Metabolite cys__L_c at 0x7fbfda2644d0>: -6,\n",
       " <Metabolite thr__L_c at 0x7fbfda264750>: -12,\n",
       " <Metabolite gln__L_c at 0x7fbfda2647d0>: -8,\n",
       " <Metabolite phe__L_c at 0x7fbfda2b6250>: -12,\n",
       " <Metabolite glu__L_c at 0x7fbfda2b6390>: -21,\n",
       " <Metabolite leu__L_c at 0x7fbfda2b65d0>: -25,\n",
       " <Metabolite trp__L_c at 0x7fbfda2b69d0>: -4,\n",
       " <Metabolite arg__L_c at 0x7fbfda2b6a10>: -14,\n",
       " <Metabolite tyr__L_c at 0x7fbfda2b6d10>: -12,\n",
       " <Metabolite his__L_c at 0x7fbfda2b6e10>: -9,\n",
       " <Metabolite amp_c at 0x7fbfdafd9710>: 11.841975308642*(mu + 0.3915)/mu,\n",
       " <Metabolite gmp_c at 0x7fbfdafd9ad0>: 8.1279012345679*(mu + 0.3915)/mu,\n",
       " <Metabolite cmp_c at 0x7fbfdafd9b10>: 10.5501234567901*(mu + 0.3915)/mu,\n",
       " <Metabolite ump_c at 0x7fbfdafd9d90>: 11.3037037037037*(mu + 0.3915)/mu,\n",
       " <Metabolite adp_c at 0x7fbfdb01aa90>: 10.4424691358025*(mu + 0.3915)/mu,\n",
       " <Metabolite pi_c at 0x7fbfdb01ac50>: 515.0 + 10.4424691358025*(mu + 0.3915)/mu,\n",
       " <Metabolite gtp_c at 0x7fbfdb01af50>: -515.0,\n",
       " <Metabolite h2o_c at 0x7fbfdb02c090>: -259.0 - 10.4424691358025*(mu + 0.3915)/mu,\n",
       " <Metabolite atp_c at 0x7fbfdb02c110>: -10.4424691358025*(mu + 0.3915)/mu,\n",
       " <Metabolite h_c at 0x7fbfdb02c390>: 515.0 + 10.4424691358025*(mu + 0.3915)/mu,\n",
       " <Ribosome ribosome at 0x7fbfda2b6650>: -0.00316142745098039*mu - 0.00123769884705882,\n",
       " <TranscribedGene RNA_b0508 at 0x7fbfda2fbe90>: -0.00149519890260631*mu - 0.00058537037037037 - 0.0538271604938272*(mu + 0.3915)/mu,\n",
       " <TranscribedGene RNA_degradosome at 0x7fbfdafd9b90>: -2.30030600400971e-7*mu - 9.00569800569801e-8,\n",
       " <TranslatedGene protein_b0508 at 0x7fbfd9d40290>: 1}"
      ]
     },
     "execution_count": 145,
     "metadata": {},
     "output_type": "execute_result"
    }
   ],
   "source": [
    "me.reactions.translation_b0508.metabolites"
   ]
  },
  {
   "cell_type": "code",
   "execution_count": 116,
   "metadata": {
    "collapsed": false
   },
   "outputs": [
    {
     "name": "stdout",
     "output_type": "stream",
     "text": [
      "8.70211994821e-07\n"
     ]
    }
   ],
   "source": [
    "import numpy as np\n",
    "\n",
    "vtrsl = np.median([rxn.x for rxn in me.reactions.query('translation') if rxn.x > 0])\n",
    "print vtrsl"
   ]
  },
  {
   "cell_type": "code",
   "execution_count": 148,
   "metadata": {
    "collapsed": false
   },
   "outputs": [
    {
     "name": "stderr",
     "output_type": "stream",
     "text": [
      "/usr/lib/python2.7/site-packages/ipykernel/__main__.py:4 \u001b[1;31mRuntimeWarning\u001b[0m: divide by zero encountered in double_scalars\n"
     ]
    },
    {
     "data": {
      "text/plain": [
       "[<matplotlib.lines.Line2D at 0x7fbfca5346d0>]"
      ]
     },
     "execution_count": 148,
     "metadata": {},
     "output_type": "execute_result"
    },
    {
     "data": {
      "image/png": "[encoded data removed]",
      "text/plain": [
       "<matplotlib.figure.Figure at 0x7fbfca5ce510>"
      ]
     },
     "metadata": {},
     "output_type": "display_data"
    }
   ],
   "source": [
    "a = 0.0538271604938272\n",
    "b = 0.3915\n",
    "def f_deg(mu):\n",
    "    y = a*(mu+b)/mu\n",
    "    return y\n",
    "\n",
    "mus = np.linspace(0,1, num=10000)\n",
    "ss  = [f_deg(m) for m in mus]\n",
    "\n",
    "sns.plt.plot(mus, ss)"
   ]
  },
  {
   "cell_type": "markdown",
   "metadata": {
    "deletable": true,
    "editable": true
   },
   "source": [
    "# PLOT"
   ]
  },
  {
   "cell_type": "code",
   "execution_count": 152,
   "metadata": {
    "collapsed": false,
    "deletable": true,
    "editable": true
   },
   "outputs": [
    {
     "data": {
      "text/plain": [
       "<ComplexFormation formation_CPLX0-1142 at 0x7fbfda274390>"
      ]
     },
     "execution_count": 152,
     "metadata": {},
     "output_type": "execute_result"
    }
   ],
   "source": [
    "dsolver.me.complex_data.get_by_id('CPLX0-1142').formation"
   ]
  },
  {
   "cell_type": "code",
   "execution_count": null,
   "metadata": {
    "collapsed": false,
    "deletable": true,
    "editable": true
   },
   "outputs": [],
   "source": [
    "if PROTOTYPE:\n",
    "    complexes_plot = ['IPPMIa_E_c', 'ACKr_reverse_E_c', 'CPLX0-7760_mod_4fe4s','CPLX0-7761_mod_4fe4s']\n",
    "else:\n",
    "    complexes_plot = ['3-ISOPROPYLMALISOM-CPLX_mod_4fe4s', 'ACETATEKINA-MONOMER_mod_mg2', 'CPLX0-7659']"
   ]
  },
  {
   "cell_type": "code",
   "execution_count": null,
   "metadata": {
    "collapsed": false,
    "deletable": true,
    "editable": true
   },
   "outputs": [],
   "source": [
    "fluxes_plot2 = []\n",
    "\n",
    "for rid in fluxes_plot:\n",
    "    rxn = dsolver.me.reactions.get_by_id(rid)\n",
    "    try:\n",
    "        if abs(rxn.x) > 20:\n",
    "            fluxes_plot2.append(rxn.id)\n",
    "    except:\n",
    "        pass\n",
    "        \n",
    "print len(fluxes_plot2)"
   ]
  },
  {
   "cell_type": "code",
   "execution_count": null,
   "metadata": {
    "collapsed": false,
    "deletable": true,
    "editable": true
   },
   "outputs": [],
   "source": [
    "df_mu = pd.DataFrame([{'time':t, 'variable':'growth_rate', 'value':c, 'category':'growth'} for t,c in zip(result['time'], result['growth_rate'])] )\n",
    "\n",
    "try:\n",
    "    df_complex = pd.DataFrame([{'time':t, 'complex':c, 'abundance':cdict[c]} \n",
    "                               for t,cdict in zip(result['time'], result['complex']) for c in complexes_plot] )\n",
    "    df_complex.loc[:,'category'] = 'complex'\n",
    "except KeyError:\n",
    "    pass\n",
    "\n",
    "df_mflux = pd.DataFrame([{'time':t, 'rxn':c, 'flux':cdict[c]} \n",
    "                           for t,cdict in zip(result['time'], result['rxn_flux']) for c in fluxes_plot2] )\n",
    "try:\n",
    "    df_mflux.loc[:,'category'] = 'flux'\n",
    "except:\n",
    "    pass\n",
    "\n",
    "dsplot_all = pd.concat([dsplot,\n",
    "                        df_mu,\n",
    "                          df_complex.rename(columns={'complex':'variable', 'abundance':'value'}),\n",
    "                          df_mflux.rename(columns={'rxn':'variable', 'flux':'value'})])"
   ]
  },
  {
   "cell_type": "code",
   "execution_count": null,
   "metadata": {
    "collapsed": false,
    "deletable": true,
    "editable": true
   },
   "outputs": [],
   "source": [
    "sns.set_style('ticks')\n",
    "palette = sns.color_palette('muted', len(dsplot_all.variable.unique()))\n",
    "g = sns.FacetGrid(data=dsplot_all, hue='variable', sharey=False, size=3, col='category', palette=palette,\n",
    "                  aspect=2, col_wrap=2, col_order=['Biomass','complex','Metabolite','flux','growth'])\n",
    "g.map(sns.plt.plot, 'time', 'value', linestyle='-', marker='.')\n",
    "g.add_legend()"
   ]
  },
  {
   "cell_type": "markdown",
   "metadata": {
    "deletable": true,
    "editable": true
   },
   "source": [
    "### In general, it seems virtual cell lacks capacity to replenish the continuously diluting proteome.\n",
    "### Actually, not entirely true--see very rapid rise in ACK protein. But is that because it's cheaper (recall Hwa's overflow mechanism--ATP per protein cost)\n",
    "### Need to start it off with much more ribosome?"
   ]
  },
  {
   "cell_type": "code",
   "execution_count": null,
   "metadata": {
    "collapsed": false,
    "deletable": true,
    "editable": true
   },
   "outputs": [],
   "source": [
    "met = me.metabolites.get_by_id('FLAVODOXIN1-MONOMER')\n",
    "for rxn in met.reactions:\n",
    "    if rxn.x > 1e-15:\n",
    "        print '%-35.30s%-55.50s%-50s' % (rxn.x, rxn.id, rxn.reaction)\n",
    "        print"
   ]
  },
  {
   "cell_type": "markdown",
   "metadata": {
    "deletable": true,
    "editable": true
   },
   "source": [
    "## Proteome mol (mass) fractions"
   ]
  },
  {
   "cell_type": "code",
   "execution_count": null,
   "metadata": {
    "collapsed": false,
    "deletable": true,
    "editable": true
   },
   "outputs": [],
   "source": [
    "df_mass = pd.DataFrame([{'cplx':met.id, 'mass':met.mass} for met in me.metabolites if hasattr(met,'mass')])\n",
    "df_cplx = pd.DataFrame([{'cplx':k, 'conc':v, 'time':result['time'][i]} for i,r in enumerate(result['complex']) for k,v in r.iteritems()])\n",
    "df_cplx_mass = pd.merge(df_cplx, df_mass, on='cplx')\n",
    "\n",
    "times = df_cplx_mass.time.unique()\n",
    "for t in times:\n",
    "    dfi = df_cplx_mass[ df_cplx_mass.time==t]\n",
    "    masses = dfi.conc*dfi.mass\n",
    "    mtot = masses.sum()\n",
    "    mfs = masses/mtot\n",
    "    b = (df_cplx_mass.time==t).values\n",
    "    df_cplx_mass.loc[b,'mf'] = mfs\n",
    "\n",
    "df_var = df_cplx_mass.groupby('cplx').mf.var().reset_index()\n",
    "N_PLOT = 10\n",
    "vary_cplxs = df_var.sort_values('mf', ascending=False)['cplx'][0:N_PLOT].values\n",
    "vary_cplxs\n",
    "\n",
    "df_cplx_mass[ df_cplx_mass.time==0].mf.sum()\n",
    "\n",
    "from stressme.plot import stacked_bar\n",
    "\n",
    "dsplot_cplx = df_cplx_mass[ df_cplx_mass.cplx.isin(vary_cplxs)]\n",
    "dsplot_cplx.loc[:,'group'] = 'DynamicDelayedME'\n",
    "stacked_bar('time', 'mf', dsplot_cplx, 'cplx', 'group', aspect=4)"
   ]
  },
  {
   "cell_type": "markdown",
   "metadata": {
    "deletable": true,
    "editable": true
   },
   "source": [
    "## Just metabolic/transport enzymes"
   ]
  },
  {
   "cell_type": "code",
   "execution_count": null,
   "metadata": {
    "collapsed": false,
    "deletable": true,
    "editable": true
   },
   "outputs": [],
   "source": [
    "from cobrame import Complex, MetabolicReaction\n",
    "\n",
    "met_cplxs = list(set([met.id for rxn in me.reactions for met in rxn.metabolites if isinstance(rxn,MetabolicReaction) and isinstance(met, Complex)]))\n",
    "met_cplxs = [m for m in met_cplxs if 'FLAVO' not in m]\n",
    "print len(met_cplxs)"
   ]
  },
  {
   "cell_type": "code",
   "execution_count": null,
   "metadata": {
    "collapsed": false,
    "deletable": true,
    "editable": true
   },
   "outputs": [],
   "source": [
    "df_cplx_mass[ (df_cplx_mass.cplx.isin(met_cplxs)) & (df_cplx_mass.time==10)].sort_values('conc',ascending=False)"
   ]
  },
  {
   "cell_type": "code",
   "execution_count": null,
   "metadata": {
    "collapsed": false,
    "deletable": true,
    "editable": true
   },
   "outputs": [],
   "source": [
    "df_mass = pd.DataFrame([{'cplx':met.id, 'mass':met.mass} for met in me.metabolites if hasattr(met,'mass')])\n",
    "df_cplx = pd.DataFrame([{'cplx':k, 'conc':v, 'time':result['time'][i]} for i,r in enumerate(result['complex']) for k,v in r.iteritems()])\n",
    "df_cplx_mass = pd.merge(df_cplx, df_mass, on='cplx')\n",
    "\n",
    "times = df_cplx_mass.time.unique()\n",
    "for t in times:\n",
    "    dfi = df_cplx_mass[ df_cplx_mass.time==t]\n",
    "    masses = dfi.conc*dfi.mass\n",
    "    mtot = masses.sum()\n",
    "    mfs = masses/mtot\n",
    "    b = (df_cplx_mass.time==t).values\n",
    "    df_cplx_mass.loc[b,'mf'] = mfs\n",
    "\n",
    "#df_var = df_cplx_mass[ df_cplx_mass.cplx.isin(met_cplxs)].groupby('cplx').mf.var().reset_index()\n",
    "df_var = df_cplx_mass[ df_cplx_mass.cplx.isin(met_cplxs)].groupby('cplx').mf.mean().reset_index()\n",
    "N_PLOT = 10\n",
    "vary_cplxs = df_var.sort_values('mf', ascending=False)['cplx'][0:N_PLOT].values\n",
    "vary_cplxs\n",
    "\n",
    "df_cplx_mass[ df_cplx_mass.time==0].mf.sum()\n",
    "\n",
    "from stressme.plot import stacked_bar\n",
    "\n",
    "dsplot_cplx = df_cplx_mass\n",
    "dsplot_cplx.loc[:,'name'] = dsplot_cplx.cplx\n",
    "dsplot_cplx.loc[ ~dsplot_cplx.cplx.isin(vary_cplxs), 'name'] = 'Other'\n",
    "dsplot_cplx = dsplot_cplx.groupby(['time','name']).mf.sum().reset_index()\n",
    "dsplot_cplx.loc[:,'group'] = 'Metabolism and transport'\n",
    "stacked_bar('time', 'mf', dsplot_cplx, 'name', 'group', aspect=4)"
   ]
  },
  {
   "cell_type": "markdown",
   "metadata": {
    "deletable": true,
    "editable": true
   },
   "source": [
    "# Coarse"
   ]
  },
  {
   "cell_type": "code",
   "execution_count": null,
   "metadata": {
    "collapsed": true,
    "deletable": true,
    "editable": true
   },
   "outputs": [],
   "source": [
    "#df_super = pd.read_csv('/home/laurence/ME/data/cobrame/proteome_letter/subsystem-supersystem-mapping.csv')\n",
    "df_system = pd.read_csv('/home/laurence/ME/data/cobrame/proteome_letter/sub_supersystem.csv')\n",
    "df_system.shape\n",
    "\n",
    "# df_trsl = pd.DataFrame([{'rxn':k, 'v':v, 'time':result['time'][i]} for i,r in enumerate(result['rxn_flux']) for k,v in r.iteritems() if 'translation_' in k])\n",
    "\n",
    "import re\n",
    "patt = re.compile(r\"protein_(b\\d\\d\\d\\d)_?\\S?\")\n",
    "\n",
    "cplx_prot = pd.DataFrame([{'cplx':d.id, 'locus':re.findall(patt,k)[0]} for d in me.complex_data for k,v in d.stoichiometry.iteritems() if 'protein_b' in k])\n",
    "\n",
    "df_mass = pd.DataFrame([{'cplx':met.id, 'mass':met.mass} for met in me.metabolites if hasattr(met,'mass')])\n",
    "df_cplx = pd.DataFrame([{'cplx':k, 'conc':v, 'time':result['time'][i]} for i,r in enumerate(result['complex']) for k,v in r.iteritems()])\n",
    "df_cplx_mass = pd.merge(df_cplx, df_mass, on='cplx')\n",
    "\n",
    "times = df_cplx_mass.time.unique()\n",
    "for t in times:\n",
    "    dfi = df_cplx_mass[ df_cplx_mass.time==t]\n",
    "    masses = dfi.conc*dfi.mass\n",
    "    mtot = masses.sum()\n",
    "    mfs = masses/mtot\n",
    "    b = (df_cplx_mass.time==t).values\n",
    "    df_cplx_mass.loc[b,'mf'] = mfs\n",
    "\n",
    "df_cplx_mass = pd.merge(df_cplx_mass, cplx_prot, on='cplx', how='left')"
   ]
  },
  {
   "cell_type": "code",
   "execution_count": null,
   "metadata": {
    "collapsed": false,
    "deletable": true,
    "editable": true
   },
   "outputs": [],
   "source": [
    "#syslevel = 'Subsystem'\n",
    "syslevel = 'Supersystem'\n",
    "\n",
    "df_level = df_system[['gene',syslevel]].drop_duplicates()\n",
    "\n",
    "df_cplx_sub = pd.merge(df_cplx_mass, df_level, left_on='locus', right_on='gene', how='left')\n",
    "df_cplx_sub.loc[ df_cplx_sub[syslevel].isnull(), syslevel] = 'Ungrouped'\n",
    "\n",
    "df_mf_sector = df_cplx_sub.groupby(['time',syslevel]).mf.sum().reset_index()\n",
    "# Renormalize to 1\n",
    "dsplot_sector = df_mf_sector.copy()\n",
    "for t in dsplot_sector.time.unique():\n",
    "    b = dsplot_sector.time==t\n",
    "    mtot = sum(dsplot_sector.loc[b,'mf'])\n",
    "    dsplot_sector.loc[b, 'mf'] = dsplot_sector.loc[b, 'mf']/mtot\n",
    "\n",
    "from stressme.plot import stacked_bar\n",
    "\n",
    "dsplot_sector.loc[:,'group'] = syslevel\n",
    "g = stacked_bar('time', 'mf', dsplot_sector, syslevel, 'group', size=5, aspect=3)"
   ]
  },
  {
   "cell_type": "markdown",
   "metadata": {
    "deletable": true,
    "editable": true
   },
   "source": [
    "# Degradation fluxes"
   ]
  },
  {
   "cell_type": "code",
   "execution_count": null,
   "metadata": {
    "collapsed": false,
    "deletable": true,
    "editable": true
   },
   "outputs": [],
   "source": [
    "df_degr = pd.DataFrame([{'time':result['time'][i], 'rxn':k, 'v':v} for i,r in enumerate(result['rxn_flux']) for k,v in r.iteritems() if 'degradation_' in k])"
   ]
  },
  {
   "cell_type": "code",
   "execution_count": null,
   "metadata": {
    "collapsed": false,
    "deletable": true,
    "editable": true
   },
   "outputs": [],
   "source": [
    "df_degr.v.max()"
   ]
  },
  {
   "cell_type": "code",
   "execution_count": null,
   "metadata": {
    "collapsed": false,
    "deletable": true,
    "editable": true
   },
   "outputs": [],
   "source": [
    "df_degr[ (df_degr.v > 1e-15)]"
   ]
  },
  {
   "cell_type": "code",
   "execution_count": null,
   "metadata": {
    "collapsed": false,
    "deletable": true,
    "editable": true
   },
   "outputs": [],
   "source": [
    "me.reactions.degradation_Lon_Lon.reaction"
   ]
  },
  {
   "cell_type": "code",
   "execution_count": null,
   "metadata": {
    "collapsed": false,
    "deletable": true,
    "editable": true
   },
   "outputs": [],
   "source": [
    "me.reactions.formation_Lon.reaction"
   ]
  },
  {
   "cell_type": "code",
   "execution_count": null,
   "metadata": {
    "collapsed": false,
    "deletable": true,
    "editable": true
   },
   "outputs": [],
   "source": [
    "df_flux_all = pd.DataFrame([{'time':result['time'][i], 'rxn':k, 'v':v} for i,r in enumerate(result['rxn_flux']) for k,v in r.iteritems()])"
   ]
  },
  {
   "cell_type": "code",
   "execution_count": null,
   "metadata": {
    "collapsed": false,
    "deletable": true,
    "editable": true
   },
   "outputs": [],
   "source": [
    "df_flux_all[ df_flux_all.rxn.str.contains('formation_CPLX_dummy')].v.max()"
   ]
  },
  {
   "cell_type": "code",
   "execution_count": null,
   "metadata": {
    "collapsed": false,
    "deletable": true,
    "editable": true
   },
   "outputs": [],
   "source": [
    "df_flux_all[ df_flux_all.rxn.str.contains('dummy') & (df_flux_all.v > 1e-15)]"
   ]
  },
  {
   "cell_type": "code",
   "execution_count": null,
   "metadata": {
    "collapsed": false,
    "deletable": true,
    "editable": true
   },
   "outputs": [],
   "source": [
    "for rxn in me.reactions:\n",
    "    if abs(rxn.objective_coefficient) > 0:\n",
    "        print rxn.id, '\\t', rxn.reaction"
   ]
  },
  {
   "cell_type": "code",
   "execution_count": null,
   "metadata": {
    "collapsed": false,
    "deletable": true,
    "editable": true
   },
   "outputs": [],
   "source": [
    "df_flux_all[ df_flux_all.rxn.str.contains('dummy_reaction')]"
   ]
  },
  {
   "cell_type": "markdown",
   "metadata": {
    "deletable": true,
    "editable": true
   },
   "source": [
    "## df_cplx_mass[ df_cplx_mass.cplx.str.contains('dummy')]"
   ]
  }
 ],
 "metadata": {
  "kernelspec": {
   "display_name": "Python 2",
   "language": "python",
   "name": "python2"
  },
  "language_info": {
   "codemirror_mode": {
    "name": "ipython",
    "version": 2
   },
   "file_extension": ".py",
   "mimetype": "text/x-python",
   "name": "python",
   "nbconvert_exporter": "python",
   "pygments_lexer": "ipython2",
   "version": "2.7.13"
  }
 },
 "nbformat": 4,
 "nbformat_minor": 2
}
