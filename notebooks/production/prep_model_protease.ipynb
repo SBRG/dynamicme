{
 "cells": [
  {
   "cell_type": "markdown",
   "metadata": {},
   "source": [
    "# Protease-catalyzed protein degradation"
   ]
  },
  {
   "cell_type": "markdown",
   "metadata": {},
   "source": [
    "Two steps:\n",
    "1. Complex degradation by Lon or ClpAXP\n",
    "    - \n",
    "1. Peptide degradation by PepP_tetra"
   ]
  },
  {
   "cell_type": "code",
   "execution_count": 1,
   "metadata": {
    "collapsed": true
   },
   "outputs": [],
   "source": [
    "PROTOTYPE = False"
   ]
  },
  {
   "cell_type": "code",
   "execution_count": 2,
   "metadata": {
    "collapsed": false
   },
   "outputs": [],
   "source": [
    "from dynamicme.tests.helpme import HelpME\n",
    "from dynamicme.dynamic import get_cplx_concs\n",
    "\n",
    "helper = HelpME(prototyping=PROTOTYPE)\n",
    "solver = helper.solver\n",
    "me = solver.me"
   ]
  },
  {
   "cell_type": "code",
   "execution_count": 3,
   "metadata": {
    "collapsed": false
   },
   "outputs": [
    {
     "name": "stdout",
     "output_type": "stream",
     "text": [
      "Created <TranslatedGene protein_b0439 at 0x7f9ea157f150> in <ComplexFormation formation_Lon at 0x7f9ea157f1d0>\n"
     ]
    }
   ],
   "source": [
    "from dynamicme.model import ProteaseData\n",
    "\n",
    "cplx_data = ProteaseData('Lon', me)\n",
    "cplx_data.stoichiometry = {'protein_b0439': 4}\n",
    "cplx_data.create_complex_formation()\n",
    "\n",
    "targets = [d for d in me.complex_data]\n",
    "\n",
    "cplx_data.target_data = targets\n",
    "cplx_data.create_degradation('complex')"
   ]
  },
  {
   "cell_type": "code",
   "execution_count": 4,
   "metadata": {
    "collapsed": false
   },
   "outputs": [
    {
     "name": "stdout",
     "output_type": "stream",
     "text": [
      "degradation_1-PFK_mod_mg2_Lon                          1-PFK_mod_mg2 + 4.27350427350427e-6*mu Lon + 2.0 atp_c + 2.0 h2o_c --> 2.0 adp_c + 2.0 h_c + mg2_c + 2.0 protein_b2168\n"
     ]
    }
   ],
   "source": [
    "for rxn in me.reactions.query('degradation_1-PFK_mod_mg2'):\n",
    "    print '%-55.50s%-55s' % (rxn.id, rxn.reaction)"
   ]
  },
  {
   "cell_type": "code",
   "execution_count": 5,
   "metadata": {
    "collapsed": false
   },
   "outputs": [
    {
     "name": "stdout",
     "output_type": "stream",
     "text": [
      "Created <TranslatedGene protein_b0437 at 0x7f9ea17eeb10> in <ComplexFormation formation_ClpAXP at 0x7f9ea17eebd0>\n",
      "Created <TranslatedGene protein_b0882 at 0x7f9ea17eead0> in <ComplexFormation formation_ClpAXP at 0x7f9ea17eebd0>\n",
      "Created <TranslatedGene protein_b0438 at 0x7f9ea17ee9d0> in <ComplexFormation formation_ClpAXP at 0x7f9ea17eebd0>\n"
     ]
    }
   ],
   "source": [
    "### The alternative protease\n",
    "cplx_data = ProteaseData('ClpAXP', me)\n",
    "cplx_data.stoichiometry = {'protein_b0437': 14,\n",
    "                           'protein_b0882': 6,\n",
    "                           'protein_b0438': 6}\n",
    "cplx_data.create_complex_formation()\n",
    "\n",
    "targets = [d for d in me.complex_data]\n",
    "cplx_data.target_data = targets\n",
    "cplx_data.create_degradation('complex')"
   ]
  },
  {
   "cell_type": "code",
   "execution_count": 6,
   "metadata": {
    "collapsed": false,
    "deletable": true,
    "editable": true
   },
   "outputs": [
    {
     "name": "stdout",
     "output_type": "stream",
     "text": [
      "degradation_1-PFK_mod_mg2_Lon                          1-PFK_mod_mg2 + 4.27350427350427e-6*mu Lon + 2.0 atp_c + 2.0 h2o_c --> 2.0 adp_c + 2.0 h_c + mg2_c + 2.0 protein_b2168\n",
      "degradation_1-PFK_mod_mg2_ClpAXP                       1-PFK_mod_mg2 + 4.27350427350427e-6*mu ClpAXP + 2.0 atp_c + 2.0 h2o_c --> 2.0 adp_c + 2.0 h_c + mg2_c + 2.0 protein_b2168\n"
     ]
    }
   ],
   "source": [
    "for rxn in me.reactions.query('degradation_1-PFK_mod_mg2'):\n",
    "    print '%-55.50s%-55s' % (rxn.id, rxn.reaction)"
   ]
  },
  {
   "cell_type": "code",
   "execution_count": 7,
   "metadata": {
    "collapsed": false
   },
   "outputs": [
    {
     "name": "stdout",
     "output_type": "stream",
     "text": [
      "Created <TranslatedGene protein_b2908 at 0x7f9ea1a0c9d0> in <ComplexFormation formation_PepP_tetra at 0x7f9ea1a0cad0>\n"
     ]
    }
   ],
   "source": [
    "### The peptide protease\n",
    "cplx_data = ProteaseData('PepP_tetra', me)\n",
    "cplx_data.stoichiometry = {'protein_b2908': 4}\n",
    "cplx_data.modifications['mod_mn2_c'] = 1\n",
    "cplx_data.create_complex_formation()\n",
    "\n",
    "targets = [d for d in me.translation_data]\n",
    "cplx_data.target_data = targets\n",
    "cplx_data.create_degradation('protein')"
   ]
  },
  {
   "cell_type": "code",
   "execution_count": 10,
   "metadata": {
    "collapsed": false,
    "deletable": true,
    "editable": true
   },
   "outputs": [
    {
     "name": "stdout",
     "output_type": "stream",
     "text": [
      "degradation_protein_b2168_PepP_tetra                   4.27350427350427e-6*mu PepP_tetra + 33.749799 biomass + 311.0 h2o_c + protein_b2168 --> 30 ala__L_c + 18 arg__L_c + 11 asn__L_c + 17 asp__L_c + 4 cys__L_c + 11 gln__L_c + 19 glu__L_c + 29 gly_c + 4 his__L_c + 15 ile__L_c + 30 leu__L_c + 12 lys__L_c + 8 met__L_c + 13 phe__L_c + 13 pro__L_c + 21 ser__L_c + 16 thr__L_c + 7 trp__L_c + 2 tyr__L_c + 32 val__L_c\n"
     ]
    }
   ],
   "source": [
    "for rxn in me.reactions.query('degradation_protein_b2168'):\n",
    "    print '%-55.50s%-55s' % (rxn.id, rxn.reaction)"
   ]
  },
  {
   "cell_type": "markdown",
   "metadata": {},
   "source": [
    "# Solve and save"
   ]
  },
  {
   "cell_type": "code",
   "execution_count": 14,
   "metadata": {
    "collapsed": false
   },
   "outputs": [
    {
     "name": "stdout",
     "output_type": "stream",
     "text": [
      "iter\tmuopt    \ta     \tb     \tmu1       \tstat1\n",
      "Finished compiling expressions in 73.017882 seconds\n",
      "Finished substituting S,lb,ub in 3.621437 seconds\n",
      "Finished makeME_LP in 0.736671 seconds\n",
      "Getting MINOS parameters from ME_NLP...\n",
      "1 0.0 0.0 1.0 1.0 1\n",
      "Finished substituting S,lb,ub in 3.722721 seconds\n",
      "Finished makeME_LP in 0.736672 seconds\n",
      "Getting MINOS parameters from ME_NLP...\n",
      "2 0.5 0.5 1.0 0.5 optimal\n",
      "Finished substituting S,lb,ub in 3.658097 seconds\n",
      "Finished makeME_LP in 0.727550 seconds\n",
      "Getting MINOS parameters from ME_NLP...\n",
      "3 0.75 0.75 1.0 0.75 optimal\n",
      "Finished substituting S,lb,ub in 3.655190 seconds\n",
      "Finished makeME_LP in 0.729852 seconds\n",
      "Getting MINOS parameters from ME_NLP...\n",
      "4 0.875 0.875 1.0 0.875 optimal\n",
      "Finished substituting S,lb,ub in 3.654696 seconds\n",
      "Finished makeME_LP in 0.740438 seconds\n",
      "Getting MINOS parameters from ME_NLP...\n",
      "5 0.875 0.875 0.9375 0.9375 1\n",
      "Finished substituting S,lb,ub in 3.657057 seconds\n",
      "Finished makeME_LP in 0.738273 seconds\n",
      "Getting MINOS parameters from ME_NLP...\n",
      "6 0.90625 0.90625 0.9375 0.90625 optimal\n",
      "Finished substituting S,lb,ub in 3.623657 seconds\n",
      "Finished makeME_LP in 0.722918 seconds\n",
      "Getting MINOS parameters from ME_NLP...\n",
      "7 0.90625 0.90625 0.921875 0.921875 1\n",
      "Finished substituting S,lb,ub in 3.581110 seconds\n",
      "Finished makeME_LP in 0.725771 seconds\n",
      "Getting MINOS parameters from ME_NLP...\n",
      "8 0.9140625 0.9140625 0.921875 0.9140625 optimal\n",
      "Finished substituting S,lb,ub in 3.613224 seconds\n",
      "Finished makeME_LP in 0.731715 seconds\n",
      "Getting MINOS parameters from ME_NLP...\n",
      "9 0.91796875 0.91796875 0.921875 0.91796875 optimal\n",
      "Finished substituting S,lb,ub in 3.571593 seconds\n",
      "Finished makeME_LP in 0.726428 seconds\n",
      "Getting MINOS parameters from ME_NLP...\n",
      "10 0.919921875 0.919921875 0.921875 0.919921875 optimal\n",
      "Finished substituting S,lb,ub in 3.636406 seconds\n",
      "Finished makeME_LP in 0.734803 seconds\n",
      "Getting MINOS parameters from ME_NLP...\n",
      "11 0.9208984375 0.9208984375 0.921875 0.9208984375 optimal\n",
      "Bisection done in 593.848 seconds\n",
      "CPU times: user 9min 54s, sys: 2.39 s, total: 9min 57s\n",
      "Wall time: 9min 53s\n"
     ]
    }
   ],
   "source": [
    "%%time\n",
    "solver.compiled_expressions = None\n",
    "muopt, hs, xopt, cache = solver.bisectmu()"
   ]
  },
  {
   "cell_type": "code",
   "execution_count": 22,
   "metadata": {
    "collapsed": false
   },
   "outputs": [
    {
     "data": {
      "text/plain": [
       "0.9208984375"
      ]
     },
     "execution_count": 22,
     "metadata": {},
     "output_type": "execute_result"
    }
   ],
   "source": [
    "muopt"
   ]
  },
  {
   "cell_type": "code",
   "execution_count": 23,
   "metadata": {
    "collapsed": false
   },
   "outputs": [
    {
     "name": "stdout",
     "output_type": "stream",
     "text": [
      "CPU times: user 9.7 s, sys: 16.7 ms, total: 9.71 s\n",
      "Wall time: 9.7 s\n"
     ]
    },
    {
     "data": {
      "text/plain": [
       "(array([  9.20898438e-01,   4.18244377e-01,   9.93283596e-03, ...,\n",
       "         -0.00000000e+00,  -0.00000000e+00,  -6.87505856e-06]),\n",
       " 'optimal',\n",
       " array([0, 3, 3, ..., 0, 0, 3], dtype=int32))"
      ]
     },
     "execution_count": 23,
     "metadata": {},
     "output_type": "execute_result"
    }
   ],
   "source": [
    "%%time\n",
    "solver.solvelp(muopt, basis=solver.feas_basis)"
   ]
  },
  {
   "cell_type": "code",
   "execution_count": 24,
   "metadata": {
    "collapsed": true
   },
   "outputs": [],
   "source": [
    "import cloudpickle\n",
    "\n",
    "with open('/home/laurence/ME/models/solver_iLE_protdegr.pickle', 'wb') as f:\n",
    "    cloudpickle.dump(solver, f)"
   ]
  },
  {
   "cell_type": "code",
   "execution_count": 25,
   "metadata": {
    "collapsed": true
   },
   "outputs": [],
   "source": [
    "import cPickle\n",
    "\n",
    "with open('/home/laurence/ME/models/iLE_protdegr.pickle','wb') as f:\n",
    "    cPickle.dump(me, f)"
   ]
  }
 ],
 "metadata": {
  "kernelspec": {
   "display_name": "Python 2",
   "language": "python",
   "name": "python2"
  },
  "language_info": {
   "codemirror_mode": {
    "name": "ipython",
    "version": 2
   },
   "file_extension": ".py",
   "mimetype": "text/x-python",
   "name": "python",
   "nbconvert_exporter": "python",
   "pygments_lexer": "ipython2",
   "version": "2.7.13"
  }
 },
 "nbformat": 4,
 "nbformat_minor": 2
}
