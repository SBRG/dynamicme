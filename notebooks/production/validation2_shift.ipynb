{
 "cells": [
  {
   "cell_type": "markdown",
   "metadata": {
    "deletable": true,
    "editable": true
   },
   "source": [
    "# Validation 2: simulated proteome time profiles vs. starved proteomes by Heinemann (2016)"
   ]
  },
  {
   "cell_type": "code",
   "execution_count": 1,
   "metadata": {
    "collapsed": true,
    "deletable": true,
    "editable": true
   },
   "outputs": [],
   "source": [
    "import seaborn as sns\n",
    "import pandas as pd\n",
    "\n",
    "sns.plt.rcParams['svg.fonttype'] = 'none'\n",
    "pd.set_option('display.max_colwidth', -1)\n",
    "#pd.set_option('display.float_format', lambda x: '%.3g' % x)\n",
    "%matplotlib inline"
   ]
  },
  {
   "cell_type": "code",
   "execution_count": 2,
   "metadata": {
    "collapsed": true,
    "deletable": true,
    "editable": true
   },
   "outputs": [],
   "source": [
    "PROTOTYPE = False"
   ]
  },
  {
   "cell_type": "code",
   "execution_count": 3,
   "metadata": {
    "collapsed": true,
    "deletable": true,
    "editable": true
   },
   "outputs": [],
   "source": [
    "from dynamicme.tests.helpme import HelpME\n",
    "from dynamicme.dynamic import get_cplx_concs\n",
    "\n",
    "helper = HelpME(prototyping=PROTOTYPE)\n",
    "solver = helper.solver\n",
    "me = solver.me"
   ]
  },
  {
   "cell_type": "code",
   "execution_count": 4,
   "metadata": {
    "collapsed": true,
    "deletable": true,
    "editable": true
   },
   "outputs": [],
   "source": [
    "cplx_concs_max = get_cplx_concs(solver)"
   ]
  },
  {
   "cell_type": "code",
   "execution_count": 5,
   "metadata": {
    "collapsed": false,
    "deletable": true,
    "editable": true
   },
   "outputs": [
    {
     "name": "stdout",
     "output_type": "stream",
     "text": [
      "mu of ME for growth maximization: 0.911689453125\n"
     ]
    }
   ],
   "source": [
    "mu_me = me.solution.x_dict['biomass_dilution']\n",
    "print 'mu of ME for growth maximization:', mu_me"
   ]
  },
  {
   "cell_type": "code",
   "execution_count": 6,
   "metadata": {
    "collapsed": true,
    "deletable": true,
    "editable": true
   },
   "outputs": [],
   "source": [
    "from dynamicme.dynamic import DelayedDynamicME\n",
    "\n",
    "dyme = DelayedDynamicME(solver)\n",
    "dyme.delay_model.solver.set_realopts('lp', {'Feasibility tol':1e-15,'Optimality tol':1e-15})\n",
    "dsolver = dyme.delay_model.solver"
   ]
  },
  {
   "cell_type": "markdown",
   "metadata": {
    "deletable": true,
    "editable": true
   },
   "source": [
    "## Initial condition proteome directly from measurement: closest to measured proteome at measured growth rate"
   ]
  },
  {
   "cell_type": "code",
   "execution_count": 7,
   "metadata": {
    "collapsed": false
   },
   "outputs": [
    {
     "data": {
      "text/plain": [
       "(4281, 2)"
      ]
     },
     "execution_count": 7,
     "metadata": {},
     "output_type": "execute_result"
    }
   ],
   "source": [
    "df_map = pd.read_csv('/home/laurence/ME/data/dynamicME/gene_mapping.csv')[['locus_tag','uniprot']].drop_duplicates()\n",
    "df_map.rename(columns={'uniprot':'Accession', 'locus_tag':'locus'}, inplace=True)\n",
    "df_map.shape"
   ]
  },
  {
   "cell_type": "code",
   "execution_count": 8,
   "metadata": {
    "collapsed": false
   },
   "outputs": [],
   "source": [
    "df_meas = pd.read_csv('/home/laurence/ME/data/dynamicME/heinemannMSB2016/copies_per_cell.csv')\n",
    "df_meas.loc[:,'Gene'] = df_meas.Gene.apply(lambda x: x.strip())\n",
    "df_meas.loc[:,'Accession'] = df_meas.Accession.apply(lambda x: x.strip())\n",
    "df_meas2 = pd.merge(df_meas, df_map, on='Accession', how='left')"
   ]
  },
  {
   "cell_type": "code",
   "execution_count": 9,
   "metadata": {
    "collapsed": false
   },
   "outputs": [
    {
     "name": "stdout",
     "output_type": "stream",
     "text": [
      "(1959, 19) (1959, 20)\n",
      "10\n"
     ]
    }
   ],
   "source": [
    "print df_meas.shape, df_meas2.shape\n",
    "print df_meas2.locus.isnull().sum()"
   ]
  },
  {
   "cell_type": "code",
   "execution_count": 10,
   "metadata": {
    "collapsed": false
   },
   "outputs": [
    {
     "data": {
      "text/html": [
       "<div>\n",
       "<style>\n",
       "    .dataframe thead tr:only-child th {\n",
       "        text-align: right;\n",
       "    }\n",
       "\n",
       "    .dataframe thead th {\n",
       "        text-align: left;\n",
       "    }\n",
       "\n",
       "    .dataframe tbody tr th {\n",
       "        vertical-align: top;\n",
       "    }\n",
       "</style>\n",
       "<table border=\"1\" class=\"dataframe\">\n",
       "  <thead>\n",
       "    <tr style=\"text-align: right;\">\n",
       "      <th></th>\n",
       "      <th>Accession</th>\n",
       "      <th>Gene</th>\n",
       "      <th>Number of peptides</th>\n",
       "      <th>Confidence score</th>\n",
       "      <th>Protein molecular weight</th>\n",
       "      <th>glucose growth</th>\n",
       "      <th>fumarate growth</th>\n",
       "      <th>persisters, 0.5h</th>\n",
       "      <th>persisters, 1h</th>\n",
       "      <th>persisters, 2h</th>\n",
       "      <th>persisters, 4h</th>\n",
       "      <th>persisters, 8h</th>\n",
       "      <th>starved, 0.5h</th>\n",
       "      <th>starved, 1h</th>\n",
       "      <th>starved, 2h</th>\n",
       "      <th>starved, 4h</th>\n",
       "      <th>starved, 8h</th>\n",
       "      <th>starved from fumarate, 1h</th>\n",
       "      <th>starved from fumarate, 8h</th>\n",
       "      <th>locus</th>\n",
       "    </tr>\n",
       "  </thead>\n",
       "  <tbody>\n",
       "    <tr>\n",
       "      <th>21</th>\n",
       "      <td>P23477</td>\n",
       "      <td>addB</td>\n",
       "      <td>1</td>\n",
       "      <td>49.42</td>\n",
       "      <td>134541.50390</td>\n",
       "      <td>28.013533</td>\n",
       "      <td>26.221268</td>\n",
       "      <td>34.002321</td>\n",
       "      <td>43.448536</td>\n",
       "      <td>46.380660</td>\n",
       "      <td>73.680545</td>\n",
       "      <td>91.004722</td>\n",
       "      <td>34.747901</td>\n",
       "      <td>36.491863</td>\n",
       "      <td>45.273767</td>\n",
       "      <td>51.662163</td>\n",
       "      <td>53.305424</td>\n",
       "      <td>43.172337</td>\n",
       "      <td>52.149596</td>\n",
       "      <td>NaN</td>\n",
       "    </tr>\n",
       "    <tr>\n",
       "      <th>257</th>\n",
       "      <td>B6WQ64</td>\n",
       "      <td>DESP</td>\n",
       "      <td>2</td>\n",
       "      <td>37.74</td>\n",
       "      <td>33121.53576</td>\n",
       "      <td>130.058423</td>\n",
       "      <td>53.481760</td>\n",
       "      <td>41.207917</td>\n",
       "      <td>50.239175</td>\n",
       "      <td>25.061914</td>\n",
       "      <td>176.609026</td>\n",
       "      <td>189.673526</td>\n",
       "      <td>57.091771</td>\n",
       "      <td>32.246082</td>\n",
       "      <td>26.980046</td>\n",
       "      <td>69.162761</td>\n",
       "      <td>67.135518</td>\n",
       "      <td>122.205731</td>\n",
       "      <td>42.383914</td>\n",
       "      <td>NaN</td>\n",
       "    </tr>\n",
       "    <tr>\n",
       "      <th>517</th>\n",
       "      <td>D9IX93</td>\n",
       "      <td>gsiB</td>\n",
       "      <td>13</td>\n",
       "      <td>737.39</td>\n",
       "      <td>56416.73288</td>\n",
       "      <td>393.796785</td>\n",
       "      <td>449.701815</td>\n",
       "      <td>421.934806</td>\n",
       "      <td>431.609440</td>\n",
       "      <td>399.778717</td>\n",
       "      <td>466.922375</td>\n",
       "      <td>521.325535</td>\n",
       "      <td>399.640708</td>\n",
       "      <td>440.892803</td>\n",
       "      <td>417.453902</td>\n",
       "      <td>423.429722</td>\n",
       "      <td>406.817035</td>\n",
       "      <td>461.677168</td>\n",
       "      <td>446.728491</td>\n",
       "      <td>NaN</td>\n",
       "    </tr>\n",
       "    <tr>\n",
       "      <th>618</th>\n",
       "      <td>B1VC82</td>\n",
       "      <td>IPF_</td>\n",
       "      <td>1</td>\n",
       "      <td>36.25</td>\n",
       "      <td>22440.46564</td>\n",
       "      <td>3.379006</td>\n",
       "      <td>15.437082</td>\n",
       "      <td>16.287757</td>\n",
       "      <td>29.751456</td>\n",
       "      <td>11.312001</td>\n",
       "      <td>62.870462</td>\n",
       "      <td>33.392259</td>\n",
       "      <td>15.012298</td>\n",
       "      <td>9.658716</td>\n",
       "      <td>8.617621</td>\n",
       "      <td>4.334455</td>\n",
       "      <td>9.046846</td>\n",
       "      <td>8.636699</td>\n",
       "      <td>22.192101</td>\n",
       "      <td>NaN</td>\n",
       "    </tr>\n",
       "    <tr>\n",
       "      <th>862</th>\n",
       "      <td>D0EX67</td>\n",
       "      <td>nagZ</td>\n",
       "      <td>9</td>\n",
       "      <td>414.50</td>\n",
       "      <td>37552.86975</td>\n",
       "      <td>205.032223</td>\n",
       "      <td>190.643388</td>\n",
       "      <td>195.101416</td>\n",
       "      <td>197.220207</td>\n",
       "      <td>214.598933</td>\n",
       "      <td>207.745950</td>\n",
       "      <td>148.064802</td>\n",
       "      <td>194.093419</td>\n",
       "      <td>193.061516</td>\n",
       "      <td>175.737776</td>\n",
       "      <td>186.781217</td>\n",
       "      <td>178.324948</td>\n",
       "      <td>193.111978</td>\n",
       "      <td>171.636656</td>\n",
       "      <td>NaN</td>\n",
       "    </tr>\n",
       "    <tr>\n",
       "      <th>1076</th>\n",
       "      <td>Q5H777</td>\n",
       "      <td>puuA</td>\n",
       "      <td>4</td>\n",
       "      <td>223.49</td>\n",
       "      <td>53125.22576</td>\n",
       "      <td>120.847903</td>\n",
       "      <td>73.786126</td>\n",
       "      <td>49.915976</td>\n",
       "      <td>29.957390</td>\n",
       "      <td>11.167931</td>\n",
       "      <td>10.788047</td>\n",
       "      <td>17.800781</td>\n",
       "      <td>46.943171</td>\n",
       "      <td>36.149047</td>\n",
       "      <td>5.984332</td>\n",
       "      <td>24.276985</td>\n",
       "      <td>26.207066</td>\n",
       "      <td>47.218606</td>\n",
       "      <td>40.347885</td>\n",
       "      <td>NaN</td>\n",
       "    </tr>\n",
       "    <tr>\n",
       "      <th>1079</th>\n",
       "      <td>Q5H776</td>\n",
       "      <td>puuD</td>\n",
       "      <td>4</td>\n",
       "      <td>199.48</td>\n",
       "      <td>27977.37842</td>\n",
       "      <td>229.127028</td>\n",
       "      <td>118.823148</td>\n",
       "      <td>205.547632</td>\n",
       "      <td>210.761369</td>\n",
       "      <td>195.858777</td>\n",
       "      <td>150.320442</td>\n",
       "      <td>41.945877</td>\n",
       "      <td>160.793262</td>\n",
       "      <td>158.676915</td>\n",
       "      <td>111.985997</td>\n",
       "      <td>74.952456</td>\n",
       "      <td>36.160461</td>\n",
       "      <td>173.841837</td>\n",
       "      <td>55.634770</td>\n",
       "      <td>NaN</td>\n",
       "    </tr>\n",
       "    <tr>\n",
       "      <th>1080</th>\n",
       "      <td>Q5H772</td>\n",
       "      <td>puuE</td>\n",
       "      <td>5</td>\n",
       "      <td>307.05</td>\n",
       "      <td>44682.75437</td>\n",
       "      <td>110.152780</td>\n",
       "      <td>80.131878</td>\n",
       "      <td>62.615022</td>\n",
       "      <td>56.629225</td>\n",
       "      <td>33.710676</td>\n",
       "      <td>11.401569</td>\n",
       "      <td>7.907996</td>\n",
       "      <td>53.174457</td>\n",
       "      <td>42.908285</td>\n",
       "      <td>32.505627</td>\n",
       "      <td>21.995824</td>\n",
       "      <td>19.986585</td>\n",
       "      <td>89.522971</td>\n",
       "      <td>18.301583</td>\n",
       "      <td>NaN</td>\n",
       "    </tr>\n",
       "    <tr>\n",
       "      <th>1283</th>\n",
       "      <td>Q2A0K9</td>\n",
       "      <td>sbcB</td>\n",
       "      <td>2</td>\n",
       "      <td>92.25</td>\n",
       "      <td>53429.92251</td>\n",
       "      <td>12.446158</td>\n",
       "      <td>15.804239</td>\n",
       "      <td>12.235887</td>\n",
       "      <td>12.621380</td>\n",
       "      <td>15.790039</td>\n",
       "      <td>13.865383</td>\n",
       "      <td>10.020436</td>\n",
       "      <td>9.877681</td>\n",
       "      <td>10.504676</td>\n",
       "      <td>13.534290</td>\n",
       "      <td>11.526514</td>\n",
       "      <td>12.200717</td>\n",
       "      <td>16.109071</td>\n",
       "      <td>14.691907</td>\n",
       "      <td>NaN</td>\n",
       "    </tr>\n",
       "    <tr>\n",
       "      <th>1958</th>\n",
       "      <td>B8LFD5</td>\n",
       "      <td>lacR</td>\n",
       "      <td>3</td>\n",
       "      <td>130.09</td>\n",
       "      <td>38834.18930</td>\n",
       "      <td>42.236561</td>\n",
       "      <td>33.691170</td>\n",
       "      <td>41.276358</td>\n",
       "      <td>38.084975</td>\n",
       "      <td>34.135255</td>\n",
       "      <td>30.326345</td>\n",
       "      <td>30.319174</td>\n",
       "      <td>38.097170</td>\n",
       "      <td>31.831561</td>\n",
       "      <td>43.208011</td>\n",
       "      <td>39.187138</td>\n",
       "      <td>37.696396</td>\n",
       "      <td>37.062722</td>\n",
       "      <td>78.526125</td>\n",
       "      <td>NaN</td>\n",
       "    </tr>\n",
       "  </tbody>\n",
       "</table>\n",
       "</div>"
      ],
      "text/plain": [
       "     Accession  Gene  Number of peptides  Confidence score  \\\n",
       "21    P23477    addB  1                   49.42              \n",
       "257   B6WQ64    DESP  2                   37.74              \n",
       "517   D9IX93    gsiB  13                  737.39             \n",
       "618   B1VC82    IPF_  1                   36.25              \n",
       "862   D0EX67    nagZ  9                   414.50             \n",
       "1076  Q5H777    puuA  4                   223.49             \n",
       "1079  Q5H776    puuD  4                   199.48             \n",
       "1080  Q5H772    puuE  5                   307.05             \n",
       "1283  Q2A0K9    sbcB  2                   92.25              \n",
       "1958  B8LFD5    lacR  3                   130.09             \n",
       "\n",
       "      Protein molecular weight  glucose growth  fumarate growth  \\\n",
       "21    134541.50390              28.013533       26.221268         \n",
       "257   33121.53576               130.058423      53.481760         \n",
       "517   56416.73288               393.796785      449.701815        \n",
       "618   22440.46564               3.379006        15.437082         \n",
       "862   37552.86975               205.032223      190.643388        \n",
       "1076  53125.22576               120.847903      73.786126         \n",
       "1079  27977.37842               229.127028      118.823148        \n",
       "1080  44682.75437               110.152780      80.131878         \n",
       "1283  53429.92251               12.446158       15.804239         \n",
       "1958  38834.18930               42.236561       33.691170         \n",
       "\n",
       "      persisters, 0.5h  persisters, 1h  persisters, 2h  persisters, 4h  \\\n",
       "21    34.002321         43.448536       46.380660       73.680545        \n",
       "257   41.207917         50.239175       25.061914       176.609026       \n",
       "517   421.934806        431.609440      399.778717      466.922375       \n",
       "618   16.287757         29.751456       11.312001       62.870462        \n",
       "862   195.101416        197.220207      214.598933      207.745950       \n",
       "1076  49.915976         29.957390       11.167931       10.788047        \n",
       "1079  205.547632        210.761369      195.858777      150.320442       \n",
       "1080  62.615022         56.629225       33.710676       11.401569        \n",
       "1283  12.235887         12.621380       15.790039       13.865383        \n",
       "1958  41.276358         38.084975       34.135255       30.326345        \n",
       "\n",
       "      persisters, 8h  starved, 0.5h  starved, 1h  starved, 2h  starved, 4h  \\\n",
       "21    91.004722       34.747901      36.491863    45.273767    51.662163     \n",
       "257   189.673526      57.091771      32.246082    26.980046    69.162761     \n",
       "517   521.325535      399.640708     440.892803   417.453902   423.429722    \n",
       "618   33.392259       15.012298      9.658716     8.617621     4.334455      \n",
       "862   148.064802      194.093419     193.061516   175.737776   186.781217    \n",
       "1076  17.800781       46.943171      36.149047    5.984332     24.276985     \n",
       "1079  41.945877       160.793262     158.676915   111.985997   74.952456     \n",
       "1080  7.907996        53.174457      42.908285    32.505627    21.995824     \n",
       "1283  10.020436       9.877681       10.504676    13.534290    11.526514     \n",
       "1958  30.319174       38.097170      31.831561    43.208011    39.187138     \n",
       "\n",
       "      starved, 8h  starved from fumarate, 1h  starved from fumarate, 8h locus  \n",
       "21    53.305424    43.172337                  52.149596                  NaN   \n",
       "257   67.135518    122.205731                 42.383914                  NaN   \n",
       "517   406.817035   461.677168                 446.728491                 NaN   \n",
       "618   9.046846     8.636699                   22.192101                  NaN   \n",
       "862   178.324948   193.111978                 171.636656                 NaN   \n",
       "1076  26.207066    47.218606                  40.347885                  NaN   \n",
       "1079  36.160461    173.841837                 55.634770                  NaN   \n",
       "1080  19.986585    89.522971                  18.301583                  NaN   \n",
       "1283  12.200717    16.109071                  14.691907                  NaN   \n",
       "1958  37.696396    37.062722                  78.526125                  NaN   "
      ]
     },
     "execution_count": 10,
     "metadata": {},
     "output_type": "execute_result"
    }
   ],
   "source": [
    "df_meas2[ df_meas2.locus.isnull()]"
   ]
  },
  {
   "cell_type": "code",
   "execution_count": 11,
   "metadata": {
    "collapsed": false
   },
   "outputs": [],
   "source": [
    "df_meas_mg1655 = df_meas2[ ~df_meas2.locus.isnull()]"
   ]
  },
  {
   "cell_type": "code",
   "execution_count": 12,
   "metadata": {
    "collapsed": false
   },
   "outputs": [
    {
     "data": {
      "text/plain": [
       "(1949, 20)"
      ]
     },
     "execution_count": 12,
     "metadata": {},
     "output_type": "execute_result"
    }
   ],
   "source": [
    "df_meas_mg1655.shape"
   ]
  },
  {
   "cell_type": "markdown",
   "metadata": {},
   "source": [
    "## Convert measured abundances to mass fraction\n",
    "- Normalize <1 accounting for estimated mass of protein not measured"
   ]
  },
  {
   "cell_type": "code",
   "execution_count": 13,
   "metadata": {
    "collapsed": false
   },
   "outputs": [
    {
     "data": {
      "text/html": [
       "<div>\n",
       "<style>\n",
       "    .dataframe thead tr:only-child th {\n",
       "        text-align: right;\n",
       "    }\n",
       "\n",
       "    .dataframe thead th {\n",
       "        text-align: left;\n",
       "    }\n",
       "\n",
       "    .dataframe tbody tr th {\n",
       "        vertical-align: top;\n",
       "    }\n",
       "</style>\n",
       "<table border=\"1\" class=\"dataframe\">\n",
       "  <thead>\n",
       "    <tr style=\"text-align: right;\">\n",
       "      <th></th>\n",
       "      <th>Accession</th>\n",
       "      <th>Gene</th>\n",
       "      <th>Number of peptides</th>\n",
       "      <th>Confidence score</th>\n",
       "      <th>Protein molecular weight</th>\n",
       "      <th>glucose growth</th>\n",
       "      <th>fumarate growth</th>\n",
       "      <th>persisters, 0.5h</th>\n",
       "      <th>persisters, 1h</th>\n",
       "      <th>persisters, 2h</th>\n",
       "      <th>persisters, 4h</th>\n",
       "      <th>persisters, 8h</th>\n",
       "      <th>starved, 0.5h</th>\n",
       "      <th>starved, 1h</th>\n",
       "      <th>starved, 2h</th>\n",
       "      <th>starved, 4h</th>\n",
       "      <th>starved, 8h</th>\n",
       "      <th>starved from fumarate, 1h</th>\n",
       "      <th>starved from fumarate, 8h</th>\n",
       "      <th>locus</th>\n",
       "    </tr>\n",
       "  </thead>\n",
       "  <tbody>\n",
       "    <tr>\n",
       "      <th>0</th>\n",
       "      <td>P31119</td>\n",
       "      <td>aas</td>\n",
       "      <td>3</td>\n",
       "      <td>69.91</td>\n",
       "      <td>80630.57813</td>\n",
       "      <td>15.091924</td>\n",
       "      <td>13.677027</td>\n",
       "      <td>12.570075</td>\n",
       "      <td>16.717949</td>\n",
       "      <td>16.029284</td>\n",
       "      <td>17.887883</td>\n",
       "      <td>8.195630</td>\n",
       "      <td>13.172302</td>\n",
       "      <td>12.891399</td>\n",
       "      <td>14.870478</td>\n",
       "      <td>15.033226</td>\n",
       "      <td>13.552355</td>\n",
       "      <td>15.759730</td>\n",
       "      <td>13.907601</td>\n",
       "      <td>b2836</td>\n",
       "    </tr>\n",
       "    <tr>\n",
       "      <th>1</th>\n",
       "      <td>P0ABD5</td>\n",
       "      <td>accA</td>\n",
       "      <td>23</td>\n",
       "      <td>1518.59</td>\n",
       "      <td>35201.29042</td>\n",
       "      <td>1476.171885</td>\n",
       "      <td>1444.469676</td>\n",
       "      <td>1448.551257</td>\n",
       "      <td>1484.239242</td>\n",
       "      <td>1578.307362</td>\n",
       "      <td>1586.719694</td>\n",
       "      <td>1483.518528</td>\n",
       "      <td>1576.972572</td>\n",
       "      <td>1588.894574</td>\n",
       "      <td>1582.169785</td>\n",
       "      <td>1591.260882</td>\n",
       "      <td>1675.725598</td>\n",
       "      <td>1335.323299</td>\n",
       "      <td>1434.464299</td>\n",
       "      <td>b0185</td>\n",
       "    </tr>\n",
       "  </tbody>\n",
       "</table>\n",
       "</div>"
      ],
      "text/plain": [
       "  Accession  Gene  Number of peptides  Confidence score  \\\n",
       "0  P31119    aas   3                   69.91              \n",
       "1  P0ABD5    accA  23                  1518.59            \n",
       "\n",
       "   Protein molecular weight  glucose growth  fumarate growth  \\\n",
       "0  80630.57813               15.091924       13.677027         \n",
       "1  35201.29042               1476.171885     1444.469676       \n",
       "\n",
       "   persisters, 0.5h  persisters, 1h  persisters, 2h  persisters, 4h  \\\n",
       "0  12.570075         16.717949       16.029284       17.887883        \n",
       "1  1448.551257       1484.239242     1578.307362     1586.719694      \n",
       "\n",
       "   persisters, 8h  starved, 0.5h  starved, 1h  starved, 2h  starved, 4h  \\\n",
       "0  8.195630        13.172302      12.891399    14.870478    15.033226     \n",
       "1  1483.518528     1576.972572    1588.894574  1582.169785  1591.260882   \n",
       "\n",
       "   starved, 8h  starved from fumarate, 1h  starved from fumarate, 8h  locus  \n",
       "0  13.552355    15.759730                  13.907601                  b2836  \n",
       "1  1675.725598  1335.323299                1434.464299                b0185  "
      ]
     },
     "execution_count": 13,
     "metadata": {},
     "output_type": "execute_result"
    }
   ],
   "source": [
    "df_meas_mg1655.head(2)"
   ]
  },
  {
   "cell_type": "code",
   "execution_count": 14,
   "metadata": {
    "collapsed": true
   },
   "outputs": [],
   "source": [
    "#cols_meta = ['Accession','Gene', 'Number of peptides', 'Confidence score', 'Protein molecular weight', 'locus']\n",
    "def to_mf_df(col):\n",
    "    masses = df_meas_mg1655['Protein molecular weight'] * df_meas_mg1655[col]\n",
    "    mfs = masses/sum(masses)\n",
    "    dfi = pd.DataFrame.from_dict({'locus':df_meas_mg1655.locus, 'mf':mfs})\n",
    "    return dfi\n",
    "\n",
    "df_mf_glc = to_mf_df('glucose growth')\n",
    "df_mf_fum = to_mf_df('fumarate growth')"
   ]
  },
  {
   "cell_type": "markdown",
   "metadata": {},
   "source": [
    "# Glucose to Fumarate switch simulation"
   ]
  },
  {
   "cell_type": "code",
   "execution_count": 15,
   "metadata": {
    "collapsed": false,
    "deletable": true,
    "editable": true
   },
   "outputs": [],
   "source": [
    "meas_dict_glc = {r['locus']:r['mf'] for i,r in df_mf_glc.iterrows()}\n",
    "meas_dict_fum = {r['locus']:r['mf'] for i,r in df_mf_fum.iterrows()}"
   ]
  },
  {
   "cell_type": "code",
   "execution_count": 16,
   "metadata": {
    "collapsed": false,
    "deletable": true,
    "editable": true
   },
   "outputs": [
    {
     "name": "stdout",
     "output_type": "stream",
     "text": [
      "0.999725143717 0.999696972596\n"
     ]
    }
   ],
   "source": [
    "print sum(meas_dict_glc.values()), sum(meas_dict_fum.values())"
   ]
  },
  {
   "cell_type": "markdown",
   "metadata": {
    "deletable": true,
    "editable": true
   },
   "source": [
    "# Get simulated proteome closest to measured\n",
    "- L1 (drops potential outliers)\n",
    "- L2 (tries to get match everything)\n",
    "    - should pre-process to remove outliers?"
   ]
  },
  {
   "cell_type": "code",
   "execution_count": 17,
   "metadata": {
    "collapsed": true
   },
   "outputs": [],
   "source": [
    "mu_meas_glc = 0.58"
   ]
  },
  {
   "cell_type": "code",
   "execution_count": null,
   "metadata": {
    "collapsed": false,
    "deletable": true,
    "editable": true
   },
   "outputs": [
    {
     "name": "stdout",
     "output_type": "stream",
     "text": [
      "Adding total mass fraction variable/constraint.\n",
      "Adding individual gene mass fraction variables/constraints.\n",
      "Adding variables/constraints for error minimization.\n",
      "Solving optimization problem.\n"
     ]
    }
   ],
   "source": [
    "%%time\n",
    "\n",
    "from cobrawe.fit import FitME\n",
    "\n",
    "fit = FitME(me)\n",
    "#me_nlp = fit.me_nlp\n",
    "#me_nlp.compiled_expressions = None\n",
    "sol,stat,hs = fit.fit_mass_frac(meas_dict_glc, mu_meas_glc, norm='l1')"
   ]
  },
  {
   "cell_type": "code",
   "execution_count": null,
   "metadata": {
    "collapsed": false,
    "deletable": true,
    "editable": true
   },
   "outputs": [],
   "source": [
    "print stat"
   ]
  },
  {
   "cell_type": "markdown",
   "metadata": {
    "deletable": true,
    "editable": true
   },
   "source": [
    "## Initialize dynamicME with this feasible initial proteome and growth rate"
   ]
  },
  {
   "cell_type": "code",
   "execution_count": null,
   "metadata": {
    "collapsed": true,
    "deletable": true,
    "editable": true
   },
   "outputs": [],
   "source": [
    "cplx_concs = get_cplx_concs(solver)\n",
    "cplx_conc_dict0 = dict(cplx_concs)"
   ]
  },
  {
   "cell_type": "code",
   "execution_count": null,
   "metadata": {
    "collapsed": false,
    "deletable": true,
    "editable": true
   },
   "outputs": [],
   "source": [
    "import json\n",
    "\n",
    "if PROTOTYPE:\n",
    "    fname = '/home/laurence/ME/data/dynamicME/production/cplx_conc_meas_MSB16_glc_toy.csv'\n",
    "else:\n",
    "    fname = '/home/laurence/ME/data/dynamicME/production/cplx_conc_meas_MSB16_glc_full.csv'\n",
    "print fname\n",
    "with open(fname,'w') as f:\n",
    "    json.dump(cplx_conc_dict0, f)"
   ]
  },
  {
   "cell_type": "markdown",
   "metadata": {
    "deletable": true,
    "editable": true
   },
   "source": [
    "# Validate Glc --> Fum switch (Heinemann, MSB, 2016)"
   ]
  },
  {
   "cell_type": "code",
   "execution_count": null,
   "metadata": {
    "collapsed": false,
    "deletable": true,
    "editable": true
   },
   "outputs": [],
   "source": [
    "import warnings\n",
    "\n",
    "T = 10   # hours\n",
    "V = 1.   # L\n",
    "X0 = 0.00675 / V  # g/L\n",
    "c0_dict = {'glc__D_e': 0.4,\n",
    "           'ac_e': 0.0,\n",
    "           'fum_e':0.0}\n",
    "\n",
    "### Convert from g/L to mmol\n",
    "mids_remove = []\n",
    "for mid,c in c0_dict.iteritems():\n",
    "    try:        \n",
    "        met = me.metabolites.get_by_id(mid)    \n",
    "        c0_dict[met.id] = c / met.formula_weight * 1000\n",
    "    except KeyError:\n",
    "        warnings.warn('Model has no metabolite: %s. Will remove it from c0_dict' % mid)\n",
    "        mids_remove.append(mid)\n",
    "\n",
    "for mid in mids_remove:\n",
    "    c0_dict.pop(mid)\n",
    "        \n",
    "### Set max uptake rate\n",
    "LB_EX = -10.\n",
    "LB_O2 = -20.\n",
    "\n",
    "lb_dict={}\n",
    "ub_dict={}\n",
    "\n",
    "for mid in c0_dict.keys():\n",
    "    try:\n",
    "        rxn = dyme.get_exchange_rxn(mid)    \n",
    "        if rxn.id is 'EX_o2_e':\n",
    "            lb = LB_O2\n",
    "        else:\n",
    "            lb = LB_EX\n",
    "        rxn.lower_bound = lb\n",
    "        lb_dict[rxn.id] = lb\n",
    "    except KeyError:\n",
    "        warnings.warn('Model has no metabolite: '+ mid)\n",
    "\n",
    "me.reactions.EX_o2_e.lower_bound = -20.\n",
    "lb_dict[me.reactions.EX_o2_e.id] = -20.\n",
    "        \n",
    "print c0_dict\n",
    "print lb_dict"
   ]
  },
  {
   "cell_type": "code",
   "execution_count": null,
   "metadata": {
    "collapsed": false,
    "deletable": true,
    "editable": true
   },
   "outputs": [],
   "source": [
    "import numpy as np\n",
    "cvals = np.array(cplx_conc_dict0.values())\n",
    "cvals[ cvals>0].min()"
   ]
  },
  {
   "cell_type": "code",
   "execution_count": null,
   "metadata": {
    "collapsed": true,
    "deletable": true,
    "editable": true
   },
   "outputs": [],
   "source": [
    "dyme = DelayedDynamicME(solver)"
   ]
  },
  {
   "cell_type": "code",
   "execution_count": null,
   "metadata": {
    "collapsed": true,
    "deletable": true,
    "editable": true
   },
   "outputs": [],
   "source": [
    "solver.set_realopts('lp', {'Feasibility tol':1e-15, 'Optimality tol':1e-15})"
   ]
  },
  {
   "cell_type": "code",
   "execution_count": null,
   "metadata": {
    "collapsed": false,
    "deletable": true,
    "editable": true
   },
   "outputs": [],
   "source": [
    "from cobrame import MetabolicReaction\n",
    "\n",
    "if PROTOTYPE:\n",
    "    fluxes_plot = ['ACONTa_CPLX0-7760_mod_4fe4s', 'ACONTb_CPLX0-7760_mod_4fe4s', 'ACKr_reverse']\n",
    "else:\n",
    "    #fluxes_plot = [r.id for r in dsolver.me.reactions if isinstance(r,MetabolicReaction)]\n",
    "    fluxes_plot = [r.id for r in dsolver.me.reactions]"
   ]
  },
  {
   "cell_type": "code",
   "execution_count": null,
   "metadata": {
    "collapsed": false,
    "deletable": true,
    "editable": true
   },
   "outputs": [],
   "source": [
    "len(fluxes_plot)"
   ]
  },
  {
   "cell_type": "markdown",
   "metadata": {},
   "source": [
    "# 1. Glucose phase"
   ]
  },
  {
   "cell_type": "code",
   "execution_count": null,
   "metadata": {
    "collapsed": false,
    "deletable": true,
    "editable": true,
    "scrolled": true
   },
   "outputs": [],
   "source": [
    "%%time\n",
    "extra_rxns_tracked = list(set(['EX_o2_e'] + fluxes_plot + ['biomass_dilution']))\n",
    "\n",
    "T = 2.5\n",
    "dt = 0.5\n",
    "H = dt\n",
    "\n",
    "result_glc = dyme.simulate_batch(\n",
    "    T,    \n",
    "    c0_dict,\n",
    "    X0,\n",
    "    prec_bs=1e-3,\n",
    "    ZERO_CONC=0.,\n",
    "    extra_rxns_tracked=extra_rxns_tracked,\n",
    "    lb_dict={},\n",
    "    verbosity=2,\n",
    "    dt = dt,\n",
    "    H = H,\n",
    "    cplx_conc_dict0=cplx_conc_dict0)"
   ]
  },
  {
   "cell_type": "markdown",
   "metadata": {},
   "source": [
    "# 2. Fumarate phase starting from glucose end state"
   ]
  },
  {
   "cell_type": "code",
   "execution_count": null,
   "metadata": {
    "collapsed": true
   },
   "outputs": [],
   "source": [
    "### Proteome\n",
    "cplx_conc_dict_glc = get_cplx_concs(solver)\n",
    "### Update met concs\n",
    "c0_dict_glc = result_glc['concentration'][-1].copy()\n",
    "### Add fumuarate and remove glucose suddenly\n",
    "c0_dict_glc['fum_e'] = 20 # Add plenty of fumarate since much biomass accumulated by now\n",
    "c0_dict_glc['glc__D_e'] = 0.\n",
    "### Init biomass\n",
    "X0_glc = result_glc['biomass'][-1]"
   ]
  },
  {
   "cell_type": "code",
   "execution_count": null,
   "metadata": {
    "collapsed": false,
    "scrolled": true
   },
   "outputs": [],
   "source": [
    "T = 15\n",
    "dt = 0.5\n",
    "H = dt\n",
    "\n",
    "result_fum = dyme.simulate_batch(\n",
    "    T,    \n",
    "    c0_dict_glc,\n",
    "    X0_glc,\n",
    "    prec_bs=1e-3,\n",
    "    ZERO_CONC=0.,\n",
    "    extra_rxns_tracked=extra_rxns_tracked,\n",
    "    lb_dict={},\n",
    "    verbosity=2,\n",
    "    dt = dt,\n",
    "    H = H,\n",
    "    cplx_conc_dict0=cplx_conc_dict_glc)"
   ]
  },
  {
   "cell_type": "markdown",
   "metadata": {},
   "source": [
    "# Combine the two phases"
   ]
  },
  {
   "cell_type": "code",
   "execution_count": null,
   "metadata": {
    "collapsed": false
   },
   "outputs": [],
   "source": [
    "result = {}\n",
    "for k in result_glc.keys():\n",
    "    if k=='time':\n",
    "        result[k] = result_glc[k] + [result_glc[k][-1] + t for t in result_fum[k]]\n",
    "    else:\n",
    "        result[k] = result_glc[k] + result_fum[k]\n",
    "# Shift time"
   ]
  },
  {
   "cell_type": "markdown",
   "metadata": {
    "deletable": true,
    "editable": true
   },
   "source": [
    "### Save results"
   ]
  },
  {
   "cell_type": "code",
   "execution_count": null,
   "metadata": {
    "collapsed": false,
    "deletable": true,
    "editable": true
   },
   "outputs": [],
   "source": [
    "import json\n",
    "result2 = result.copy()\n",
    "result2.keys()\n",
    "result2.pop('basis')\n",
    "\n",
    "if PROTOTYPE:\n",
    "    fname = '/home/laurence/ME/data/dynamicME/production/validation2_shift_toy.json'\n",
    "else:\n",
    "    fname = '/home/laurence/ME/data/dynamicME/production/validation2_shift_full.json'\n",
    "with open(fname,'w') as f:\n",
    "    json.dump(result2, f)"
   ]
  },
  {
   "cell_type": "code",
   "execution_count": null,
   "metadata": {
    "collapsed": false,
    "deletable": true,
    "editable": true
   },
   "outputs": [],
   "source": [
    "import seaborn as sns\n",
    "%matplotlib inline\n",
    "\n",
    "sns.plt.plot(result['time'], result['biomass'])"
   ]
  },
  {
   "cell_type": "code",
   "execution_count": null,
   "metadata": {
    "collapsed": false,
    "deletable": true,
    "editable": true
   },
   "outputs": [],
   "source": [
    "ex_met_rxn_dict = {m: {'rxn':dyme.get_exchange_rxn(m), 'mw':me.metabolites.get_by_id(m).formula_weight} for m in c0_dict.keys()}\n",
    "ex_met_rxn_dict"
   ]
  },
  {
   "cell_type": "code",
   "execution_count": null,
   "metadata": {
    "collapsed": false,
    "deletable": true,
    "editable": true,
    "scrolled": true
   },
   "outputs": [],
   "source": [
    "import pandas as pd\n",
    "\n",
    "df_conc = pd.DataFrame(result['concentration'])\n",
    "### Convert concentrations to g/L\n",
    "for mid, vals in ex_met_rxn_dict.iteritems():\n",
    "    df_conc[mid] = df_conc[mid] * vals['mw'] * 0.001\n",
    "\n",
    "df_time = pd.DataFrame({'time':t, 'biomass':b} for t,b in zip(result['time'], result['biomass']))\n",
    "df_flux = pd.DataFrame(result['ex_flux'])\n",
    "df_mu   = pd.DataFrame({'mu':result['growth_rate']})\n",
    "df_result = pd.concat([df_time, df_conc, df_flux, df_mu], axis=1)"
   ]
  },
  {
   "cell_type": "code",
   "execution_count": null,
   "metadata": {
    "collapsed": true,
    "deletable": true,
    "editable": true
   },
   "outputs": [],
   "source": [
    "dsplot = pd.melt(df_result, id_vars='time', value_vars=['biomass','ac_e','glc__D_e','fum_e'])\n",
    "dsplot.time = pd.to_numeric(dsplot.time)\n",
    "dsplot['category'] = 'Metabolite'\n",
    "dsplot.loc[ dsplot.variable=='biomass', 'category'] = 'Biomass'"
   ]
  },
  {
   "cell_type": "code",
   "execution_count": null,
   "metadata": {
    "collapsed": false,
    "deletable": true,
    "editable": true
   },
   "outputs": [],
   "source": [
    "colors = [\n",
    "'#000000', # biomass\n",
    "'#660066', # acetate\n",
    "'#00CC00', # glucose\n",
    "'#FF00FF', # fumarate\n",
    "'#0000FF', # lactate\n",
    "'#FF0000', # maltose\n",
    "]\n",
    "\n",
    "colpal = sns.color_palette(colors)\n",
    "sns.set_palette(colpal)\n",
    "\n",
    "g = sns.FacetGrid(data=dsplot, hue='variable', col='category', sharey=False, size=5)\n",
    "\n",
    "g.map(sns.plt.plot, 'time', 'value', linestyle='-', marker='.')\n",
    "g.add_legend()"
   ]
  },
  {
   "cell_type": "code",
   "execution_count": null,
   "metadata": {
    "collapsed": false,
    "deletable": true,
    "editable": true
   },
   "outputs": [],
   "source": [
    "if PROTOTYPE:\n",
    "    complexes_plot = ['IPPMIa_E_c', 'ACKr_reverse_E_c', 'CPLX0-7760_mod_4fe4s','CPLX0-7761_mod_4fe4s']\n",
    "else:\n",
    "    complexes_plot = ['3-ISOPROPYLMALISOM-CPLX_mod_4fe4s', 'ACETATEKINA-MONOMER_mod_mg2', 'CPLX0-7659']"
   ]
  },
  {
   "cell_type": "code",
   "execution_count": null,
   "metadata": {
    "collapsed": false,
    "deletable": true,
    "editable": true
   },
   "outputs": [],
   "source": [
    "fluxes_plot2 = []\n",
    "\n",
    "for rid in fluxes_plot:\n",
    "    rxn = dsolver.me.reactions.get_by_id(rid)\n",
    "    if PROTOTYPE:\n",
    "        fluxes_plot2.append(rxn.id)\n",
    "    else:\n",
    "        if abs(rxn.x) > 10:\n",
    "            fluxes_plot2.append(rxn.id)\n",
    "        \n",
    "print len(fluxes_plot2)"
   ]
  },
  {
   "cell_type": "code",
   "execution_count": null,
   "metadata": {
    "collapsed": false,
    "deletable": true,
    "editable": true
   },
   "outputs": [],
   "source": [
    "df_mu = pd.DataFrame([{'time':t, 'variable':'growth_rate', 'value':c, 'category':'growth'} for t,c in zip(result['time'], result['growth_rate'])] )\n",
    "\n",
    "df_complex = pd.DataFrame([{'time':t, 'complex':c, 'abundance':cdict[c]} \n",
    "                           for t,cdict in zip(result['time'], result['complex']) for c in complexes_plot] )\n",
    "\n",
    "df_mflux = pd.DataFrame([{'time':t, 'rxn':c, 'flux':cdict[c]} \n",
    "                           for t,cdict in zip(result['time'], result['rxn_flux']) for c in fluxes_plot2] )\n",
    "\n",
    "df_complex.loc[:,'category'] = 'complex'\n",
    "df_mflux.loc[:,'category'] = 'flux'\n",
    "\n",
    "dsplot_all = pd.concat([dsplot,\n",
    "                        df_mu,\n",
    "                          df_complex.rename(columns={'complex':'variable', 'abundance':'value'}),\n",
    "                          df_mflux.rename(columns={'rxn':'variable', 'flux':'value'})])"
   ]
  },
  {
   "cell_type": "code",
   "execution_count": null,
   "metadata": {
    "collapsed": false,
    "deletable": true,
    "editable": true
   },
   "outputs": [],
   "source": [
    "sns.set_style('ticks')\n",
    "palette = sns.color_palette('muted', len(dsplot_all.variable.unique()))\n",
    "g = sns.FacetGrid(data=dsplot_all, hue='variable', sharey=False, size=3, col='category', palette=palette,\n",
    "                  aspect=2, col_wrap=2, col_order=['Biomass','complex','Metabolite','flux','growth'])\n",
    "g.map(sns.plt.plot, 'time', 'value', linestyle='-', marker='.')\n",
    "g.add_legend()"
   ]
  },
  {
   "cell_type": "markdown",
   "metadata": {
    "deletable": true,
    "editable": true
   },
   "source": [
    "## Proteome mol (mass) fractions"
   ]
  },
  {
   "cell_type": "code",
   "execution_count": null,
   "metadata": {
    "collapsed": true
   },
   "outputs": [],
   "source": [
    "from stressme.plot import stacked_bar"
   ]
  },
  {
   "cell_type": "code",
   "execution_count": null,
   "metadata": {
    "collapsed": false,
    "deletable": true,
    "editable": true
   },
   "outputs": [],
   "source": [
    "df_cplx = pd.DataFrame([{'cplx':k, 'conc':v, 'time':result['time'][i]} for i,r in enumerate(result['complex']) for k,v in r.iteritems()])\n",
    "\n",
    "times = df_cplx.time.unique()\n",
    "for t in times:\n",
    "    dfi = df_cplx[ df_cplx.time==t]\n",
    "    mtot = dfi.conc.sum()\n",
    "    b = (df_cplx.time==t).values\n",
    "    df_cplx.loc[b,'molf'] = df_cplx.loc[b,'conc'] / mtot\n",
    "    \n",
    "df_var = df_cplx.groupby('cplx').molf.var().reset_index()\n",
    "df_var.molf.min()\n",
    "df_var.molf.max()\n",
    "N_PLOT = 10\n",
    "vary_cplxs = df_var.sort_values('molf', ascending=False)['cplx'][0:N_PLOT].values\n",
    "vary_cplxs"
   ]
  },
  {
   "cell_type": "code",
   "execution_count": null,
   "metadata": {
    "collapsed": false,
    "deletable": true,
    "editable": true
   },
   "outputs": [],
   "source": [
    "dsplot_cplx = df_cplx[ df_cplx.cplx.isin(vary_cplxs)]\n",
    "dsplot_cplx.loc[:,'group'] = 'DynamicDelayedME'\n",
    "stacked_bar('time', 'molf', dsplot_cplx, 'cplx', 'group', aspect=4)"
   ]
  }
 ],
 "metadata": {
  "kernelspec": {
   "display_name": "Python 2",
   "language": "python",
   "name": "python2"
  },
  "language_info": {
   "codemirror_mode": {
    "name": "ipython",
    "version": 2
   },
   "file_extension": ".py",
   "mimetype": "text/x-python",
   "name": "python",
   "nbconvert_exporter": "python",
   "pygments_lexer": "ipython2",
   "version": "2.7.13"
  }
 },
 "nbformat": 4,
 "nbformat_minor": 2
}
