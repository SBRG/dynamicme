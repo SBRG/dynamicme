{
 "cells": [
  {
   "cell_type": "markdown",
   "metadata": {},
   "source": [
    "# Toy problem for debugging"
   ]
  },
  {
   "cell_type": "markdown",
   "metadata": {},
   "source": [
    "$$\n",
    "\\begin{align*}\n",
    "\\max_{x,y} \\quad & f'y + \\sum_k c_k'x_k \\\\\n",
    "\\mathrm{s.t.} \\quad & A_k x_k + B_k y \\leq d_k, \\\\\n",
    "& y\\in \\{0,1\\}.\n",
    "\\end{align*}\n",
    "$$"
   ]
  },
  {
   "cell_type": "markdown",
   "metadata": {},
   "source": [
    "### Example from\n",
    "http://www.optirisk-systems.com/manuals/FortspManual.pdf"
   ]
  },
  {
   "cell_type": "code",
   "execution_count": 1,
   "metadata": {
    "collapsed": false
   },
   "outputs": [],
   "source": [
    "from __future__ import division\n",
    "from cobra import Model\n",
    "from dynamicme.optimize import Variable, Constraint\n",
    "from six import iteritems\n",
    "import numpy as np"
   ]
  },
  {
   "cell_type": "markdown",
   "metadata": {},
   "source": [
    "$$\n",
    "\\begin{align*}\n",
    "\\max_{x,y} \\quad & \\sum_k P_k \\left( \\sum_c p^s_c x^s_{c,k} - p^b_c x^b_{c,k}  - \\sum_c c_c a_c \\right)\\\\\n",
    "\\mathrm{s.t.} \\quad & \\sum_c a_c \\leq A \\\\\n",
    "& Y_{c,k}  a_c - x^s_{c,k} + x^b_{c,k} \\geq R_c \\\\\n",
    "& x^s_{\\mathrm{beet},k} \\leq Q(\\mathrm{beet}) \\\\\n",
    "& x^s_{\\mathrm{beet},c} + s^x_k \\leq Y_{\\mathrm{beet},k} a_\\mathrm{beet}\n",
    "\\end{align*}\n",
    "$$"
   ]
  },
  {
   "cell_type": "code",
   "execution_count": 2,
   "metadata": {
    "collapsed": true
   },
   "outputs": [],
   "source": [
    "from dynamicme.decomposition import BendersMaster, BendersSubmodel"
   ]
  },
  {
   "cell_type": "code",
   "execution_count": 3,
   "metadata": {
    "collapsed": false
   },
   "outputs": [],
   "source": [
    "#------------------------------------------------------------\n",
    "# Data\n",
    "crops = ['wheat','corn','beet']\n",
    "total_area = 500.  # Total acres\n",
    "prob_dict = {'below':1./3, 'average':1./3, 'above':1./3}\n",
    "# Yields (tons/acre) over scenarios\n",
    "yield_dict = {}\n",
    "yield_dict['below'] = {'wheat':2., 'corn':2.4, 'beet':16.}\n",
    "yield_dict['average'] = {'wheat':2.5, 'corn':3., 'beet':20.}\n",
    "yield_dict['above'] = {'wheat':3., 'corn':3.6, 'beet':24.}\n",
    "# Planting costs\n",
    "plantcost_dict={'wheat':150, 'corn':230, 'beet':260}   # $/ton\n",
    "sellprice_dict = {'wheat':170, 'corn':150, 'beet':36}  # $/ton\n",
    "excess_sell_price = 10    # beet sell price ($/ton) when quota exceeded\n",
    "beet_quota = 6000   # tons\n",
    "buyprice_dict = {'wheat':238, 'corn':210, 'beet':100}  # $/ton\n",
    "req_dict = {'wheat':200., 'corn':240., 'beet':0.} # tons required to feed cattle\n",
    "#------------------------------------------------------------\n",
    "# Variables\n",
    "# y: area is complicating (first-stage) variable\n",
    "area_dict0 = {c:Variable('area_%s'%c, lower_bound=0., upper_bound=10000,\n",
    "                       objective_coefficient=plantcost_dict[c]) for c in crops}\n",
    "for y in area_dict0.values():\n",
    "    y.variable_kind = 'integer'"
   ]
  },
  {
   "cell_type": "code",
   "execution_count": 4,
   "metadata": {
    "collapsed": false
   },
   "outputs": [
    {
     "data": {
      "text/plain": [
       "{'beet': <Variable area_beet at 0x7f8c3198a4d0>,\n",
       " 'corn': <Variable area_corn at 0x7f8c3198a490>,\n",
       " 'wheat': <Variable area_wheat at 0x7f8c3198a450>}"
      ]
     },
     "execution_count": 4,
     "metadata": {},
     "output_type": "execute_result"
    }
   ],
   "source": [
    "area_dict0"
   ]
  },
  {
   "cell_type": "code",
   "execution_count": 5,
   "metadata": {
    "collapsed": false
   },
   "outputs": [
    {
     "name": "stdout",
     "output_type": "stream",
     "text": [
      "Changed value of parameter InfUnbdInfo to 1\n",
      "   Prev: 0  Min: 0  Max: 1  Default: 0\n",
      "Changed value of parameter InfUnbdInfo to 1\n",
      "   Prev: 0  Min: 0  Max: 1  Default: 0\n",
      "Changed value of parameter InfUnbdInfo to 1\n",
      "   Prev: 0  Min: 0  Max: 1  Default: 0\n"
     ]
    }
   ],
   "source": [
    "# Create subproblems\n",
    "UB = 1e4\n",
    "sub_dict = {}\n",
    "for scen,yields in iteritems(yield_dict):\n",
    "    # Need to copy master vars\n",
    "    area_dict = {k:v.copy() for k,v in iteritems(area_dict0)}\n",
    "    mdl = Model('sub')\n",
    "    mdl.add_reactions(area_dict.values())\n",
    "    # Global constraint: sum_a <= Area\n",
    "    cons_area = Constraint('total_area')\n",
    "    cons_area._bound = total_area\n",
    "    cons_area._constraint_sense = 'L'\n",
    "    mdl.add_metabolites(cons_area)\n",
    "    for y in area_dict.values():\n",
    "        y.add_metabolites({cons_area:1.}, combine=False)\n",
    "\n",
    "    x_excess = Variable('sell_excess_beet', lower_bound=0., upper_bound=UB)\n",
    "    x_excess.objective_coefficient = -prob_dict[scen]*excess_sell_price    \n",
    "    mdl.add_reaction(x_excess)\n",
    "    \n",
    "    for c in crops:\n",
    "        ### Scenario variables x: tons sold, bought, excess sold per scenario\n",
    "        x_sell = Variable('sell_%s'%(c), lower_bound=0., upper_bound=UB)\n",
    "        x_buy  =  Variable('buy_%s'%(c), lower_bound=0., upper_bound=UB)\n",
    "        mdl.add_reactions([x_sell,x_buy])        \n",
    "        x_sell.objective_coefficient = -prob_dict[scen]*sellprice_dict[c]\n",
    "        x_buy.objective_coefficient = prob_dict[scen]*buyprice_dict[c]\n",
    "        \n",
    "        ### Scenario constraint: Y_ck*ac - xs_ck + xb_ck >= Req_c        \n",
    "        cons = Constraint('required_%s'%c)\n",
    "        cons._bound = req_dict[c]\n",
    "        cons._constraint_sense = 'G'        \n",
    "        mdl.add_metabolites(cons)\n",
    "        area = area_dict[c]\n",
    "        area.add_metabolites({cons:yield_dict[scen][c]})\n",
    "        x_sell.add_metabolites({cons:-1.})\n",
    "        x_buy.add_metabolites({cons:1.})\n",
    "        \n",
    "        ### Beet quota\n",
    "        if c=='beet':\n",
    "            x_sell.upper_bound = beet_quota\n",
    "            # xs_beet,k + xexcess_k <= Yield_beet,k * area_beet\n",
    "            cons_beet = Constraint('beet_balance')\n",
    "            cons_beet._bound = 0.\n",
    "            cons_beet._constraint_sense = 'L'\n",
    "            x_sell.add_metabolites({cons_beet:1.})\n",
    "            x_excess.add_metabolites({cons_beet:1.})\n",
    "            area_dict[c].add_metabolites({cons_beet:-yield_dict[scen][c]})\n",
    "    \n",
    "    sub = BendersSubmodel(mdl, scen)\n",
    "    sub_dict[scen] = sub"
   ]
  },
  {
   "cell_type": "code",
   "execution_count": 6,
   "metadata": {
    "collapsed": false
   },
   "outputs": [
    {
     "name": "stdout",
     "output_type": "stream",
     "text": [
      "Changed value of parameter LazyConstraints to 1\n",
      "   Prev: 0  Min: 0  Max: 1  Default: 0\n",
      "Changed value of parameter IntFeasTol to 1e-09\n",
      "   Prev: 1e-05  Min: 1e-09  Max: 0.1  Default: 1e-05\n"
     ]
    }
   ],
   "source": [
    "master = BendersMaster(mdl)\n",
    "master._INF = 1e6\n",
    "master.add_submodels(sub_dict)\n",
    "master._z.LB = -master._INF\n",
    "master._z.UB = master._INF"
   ]
  },
  {
   "cell_type": "code",
   "execution_count": 7,
   "metadata": {
    "collapsed": false
   },
   "outputs": [
    {
     "name": "stdout",
     "output_type": "stream",
     "text": [
      "('z', -1000000.0, 1000000.0)\n",
      "('area_wheat', -0.0, 10000.0)\n",
      "('area_corn', -0.0, 10000.0)\n",
      "('area_beet', -0.0, 10000.0)\n",
      "('tk_below', -1000000.0, 1000000.0)\n",
      "('tk_average', -1000000.0, 1000000.0)\n",
      "('tk_above', -1000000.0, 1000000.0)\n"
     ]
    }
   ],
   "source": [
    "for v in master.model.getVars():\n",
    "    print(v.VarName, v.LB, v.UB)"
   ]
  },
  {
   "cell_type": "code",
   "execution_count": 8,
   "metadata": {
    "collapsed": false
   },
   "outputs": [
    {
     "name": "stdout",
     "output_type": "stream",
     "text": [
      "(<gurobi.LinExpr: area_wheat + area_corn + area_beet>, '<', 500.0)\n"
     ]
    }
   ],
   "source": [
    "cc = master.model.getConstrs()[0]\n",
    "print(master.model.getRow(cc), cc.Sense, cc.RHS)"
   ]
  },
  {
   "cell_type": "code",
   "execution_count": 9,
   "metadata": {
    "collapsed": false
   },
   "outputs": [
    {
     "data": {
      "text/plain": [
       "<gurobi.LinExpr: z>"
      ]
     },
     "execution_count": 9,
     "metadata": {},
     "output_type": "execute_result"
    }
   ],
   "source": [
    "master.model.getObjective()"
   ]
  },
  {
   "cell_type": "code",
   "execution_count": 10,
   "metadata": {
    "collapsed": false
   },
   "outputs": [
    {
     "name": "stdout",
     "output_type": "stream",
     "text": [
      "(<gurobi.LinExpr: z + -150.0 area_wheat + -230.0 area_corn + -260.0 area_beet + -1.0 tk_below + -1.0 tk_average + -1.0 tk_above>, '=', 0.0)\n"
     ]
    }
   ],
   "source": [
    "cz = master.model.getConstrByName('z_cut')\n",
    "print(master.model.getRow(cz), cz.Sense, cz.RHS)"
   ]
  },
  {
   "cell_type": "code",
   "execution_count": 11,
   "metadata": {
    "collapsed": true
   },
   "outputs": [],
   "source": [
    "from dynamicme.callback_gurobi import cb_benders_multi"
   ]
  },
  {
   "cell_type": "markdown",
   "metadata": {},
   "source": [
    "# Solve using callbacks"
   ]
  },
  {
   "cell_type": "code",
   "execution_count": 12,
   "metadata": {
    "collapsed": false,
    "deletable": true,
    "editable": true
   },
   "outputs": [],
   "source": [
    "# master.model.optimize(cb_benders_multi)"
   ]
  },
  {
   "cell_type": "markdown",
   "metadata": {},
   "source": [
    "# Solve without callbacks"
   ]
  },
  {
   "cell_type": "code",
   "execution_count": 13,
   "metadata": {
    "collapsed": true
   },
   "outputs": [],
   "source": [
    "def opt_nondom(sub, y0):\n",
    "    # Add or update the constraint for same obj\n",
    "    cons = sub.model.model.getConstrByName('fixobjval')\n",
    "    if cons is None:\n",
    "        expr = sub.model.model.getObjective() == sub.model.model.ObjVal\n",
    "        cons = sub.model.model.addConstr(expr, name='fixobjval')\n",
    "    else:\n",
    "        cons.RHS = sub.model.model.ObjVal\n",
    "        obj = sub.model.model.getObjective()\n",
    "        for j in range(obj.size()):\n",
    "            v = obj.getVar(j)\n",
    "            sub.model.model.chgCoeff(cons, v, obj.getCoeff(j))\n",
    "    # Change the objective function\n",
    "    sub.update_obj(y0)\n",
    "    sub.model.optimize()\n",
    "    # Relax the constraint for next iter\n",
    "    cons.Sense = GRB.LESS_EQUAL\n",
    "    cons.RHS   = GRB.INFINITY"
   ]
  },
  {
   "cell_type": "code",
   "execution_count": 14,
   "metadata": {
    "collapsed": false
   },
   "outputs": [
    {
     "name": "stdout",
     "output_type": "stream",
     "text": [
      "Iter        UB          LB          Best UB     Best LB     gap         relgap(%)   time(s)     \n",
      "0           1e+15       -1e+15      1e+15       -1e+15      2e+15       200         0.004240036011\n",
      "sub=below.\tSub obj=32666.7\ttk=tk_below (value=1e+06)\tz=-1e+06\tychanged=-3\n",
      "sub=average.\tSub obj=32666.7\ttk=tk_average (value=-1e+06)\tz=-1e+06\tychanged=-3\n",
      "sub=above.\tSub obj=32666.7\ttk=tk_above (value=-1e+06)\tz=-1e+06\tychanged=-3\n",
      "1           9.8e+04     -1e+06      9.8e+04     -1e+06      1.098e+06   1120        0.01814317703\n",
      "sub=below.\tSub obj=-28533.3\ttk=tk_below (value=-1e+06)\tz=-1e+06\tychanged=500\n",
      "sub=average.\tSub obj=-42700\ttk=tk_average (value=-66500)\tz=-1e+06\tychanged=500\n",
      "sub=above.\tSub obj=-56866.7\ttk=tk_above (value=-8500)\tz=-1e+06\tychanged=500\n",
      "2           -5.31e+04   -1e+06      -5.31e+04   -1e+06      9.469e+05   1783        0.02980613708\n",
      "sub=below.\tSub obj=-46000\ttk=tk_below (value=-67866.7)\tz=-136533\tychanged=0\n",
      "sub=average.\tSub obj=-52666.7\ttk=tk_average (value=-87333.3)\tz=-136533\tychanged=0\n",
      "sub=above.\tSub obj=-59333.3\ttk=tk_above (value=-111333)\tz=-136533\tychanged=0\n",
      "3           -2.8e+04    -1.365e+05  -5.31e+04   -1.365e+05  1.085e+05   387.6       0.03765296936\n",
      "sub=below.\tSub obj=-51717.3\ttk=tk_below (value=-62394.7)\tz=-122811\tychanged=0\n",
      "sub=average.\tSub obj=-71613.3\ttk=tk_average (value=-80493.3)\tz=-122811\tychanged=0\n",
      "sub=above.\tSub obj=-86933.3\ttk=tk_above (value=-103083)\tz=-122811\tychanged=0\n",
      "4           -8.71e+04   -1.228e+05  -8.71e+04   -1.228e+05  3.571e+04   40.99       0.04368805885\n",
      "sub=below.\tSub obj=-52012\ttk=tk_below (value=-53692)\tz=-116704\tychanged=0\n",
      "sub=average.\tSub obj=-70848.3\ttk=tk_average (value=-74148.3)\tz=-116704\tychanged=0\n",
      "sub=above.\tSub obj=-89684.7\ttk=tk_above (value=-99523.3)\tz=-116704\tychanged=0\n",
      "5           -1.019e+05  -1.167e+05  -1.019e+05  -1.167e+05  1.482e+04   14.54       0.05029916763\n",
      "sub=below.\tSub obj=-55104\ttk=tk_below (value=-55104)\tz=-110514\tychanged=0\n",
      "sub=average.\tSub obj=-74713.3\ttk=tk_average (value=-74713.3)\tz=-110514\tychanged=0\n",
      "sub=above.\tSub obj=-90786.7\ttk=tk_above (value=-94266.7)\tz=-110514\tychanged=0\n",
      "6           -1.07e+05   -1.105e+05  -1.07e+05   -1.105e+05  3480        3.251       0.05563807487\n",
      "sub=below.\tSub obj=-52573.3\ttk=tk_below (value=-52573.3)\tz=-108390\tychanged=-2.84217e-14\n",
      "sub=average.\tSub obj=-72750\ttk=tk_average (value=-72750)\tz=-108390\tychanged=-2.84217e-14\n",
      "sub=above.\tSub obj=-91966.7\ttk=tk_above (value=-91966.7)\tz=-108390\tychanged=-2.84217e-14\n",
      "6           -1.084e+05  -1.084e+05  -1.084e+05  -1.084e+05  0           0           0.05840110779\n",
      "gap<gaptol. Done.\n"
     ]
    }
   ],
   "source": [
    "LP_RELAXATION = False\n",
    "NONDOM = False\n",
    "MULTICUT = True\n",
    "\n",
    "y0 = np.ones(len(area_dict))\n",
    "\n",
    "from gurobipy import GRB, LinExpr, quicksum\n",
    "import gurobipy as grb\n",
    "\n",
    "from __future__ import division\n",
    "import time\n",
    "master.precision_sub = 'gurobi'\n",
    "master.verbosity = 1\n",
    "master.print_iter = 1\n",
    "\n",
    "master.model.Params.OutputFlag = 0\n",
    "master.model.Params.TimeLimit = 3600*2\n",
    "master.model.Params.Presolve = 0\n",
    "### LP Relaxation\n",
    "if LP_RELAXATION:\n",
    "    print('Performing LP relaxation of Master')\n",
    "    for v in master.model.getVars():\n",
    "        v.VType = GRB.CONTINUOUS\n",
    "###--------------\n",
    "maxiter = 2000\n",
    "UB = 1e15\n",
    "LB =-1e15\n",
    "gap= UB-LB\n",
    "relgap = gap / (1e-10+abs(UB))  \n",
    "\n",
    "bestUB = UB\n",
    "bestLB = LB\n",
    "yopt   = y0\n",
    "tic    = time.time()\n",
    "\n",
    "print(\"%-12.10s%-12.8s%-12.8s%-12.8s%-12.8s%-12.8s%-12.10s%-12.8s\" % (\n",
    "    'Iter','UB','LB','Best UB','Best LB','gap','relgap(%)','time(s)'))\n",
    "    #_iter,UB,LB,bestUB,bestLB,gap,relgap*100,toc))\n",
    "\n",
    "for _iter in range(maxiter):\n",
    "    if np.mod(_iter,master.print_iter)==0:\n",
    "        toc = time.time()-tic\n",
    "        #print(\"iter=%d\\tUB=%g\\tLB=%g\\tBest UB=%g\\tBest LB=%g\\tgap=%g\\trelgap=%.4g%%\\ttime=%g (s)\" % (\n",
    "        print(\"%-12.10s%-12.4g%-12.4g%-12.4g%-12.4g%-12.4g%-12.4g%-12.10g\" % (\n",
    "            _iter,UB,LB,bestUB,bestLB,gap,relgap*100,toc))\n",
    "        \n",
    "    master.model.optimize()    \n",
    "    fy = master._fy\n",
    "    ys = master._ys\n",
    "    z  = master._z\n",
    "    yprev = np.array(yopt)\n",
    "    yopt = [y.X for y in ys]\n",
    "    sub_dict = master.sub_dict\n",
    "    sub_objs = []\n",
    "    opt_sub_inds = []\n",
    "    \n",
    "    ### Update core point\n",
    "    y0 = 0.5*(y0 + yopt)\n",
    "    y0[y0<master.model.Params.IntFeasTol] = 0.\n",
    "    \n",
    "    for sub_ind,sub in iteritems(sub_dict):\n",
    "        sub.update_obj(yopt)\n",
    "        sub.model.optimize(precision=master.precision_sub)                \n",
    "        if sub.model.Status==GRB.Status.UNBOUNDED:\n",
    "            feascut = master.make_feascut(sub)\n",
    "            master.model.addConstr(feascut)\n",
    "        else:\n",
    "            sub_obj = sub._weight*sub.model.ObjVal\n",
    "            sub_objs.append(sub_obj)\n",
    "            opt_sub_inds.append(sub_ind)\n",
    "            ### Get non-dominated cut   \n",
    "            if NONDOM:\n",
    "                opt_nondom(sub, y0)\n",
    "            #*** DEBUG\n",
    "            if np.mod(_iter,master.print_iter)==0:\n",
    "                d = sub._d\n",
    "                wa = np.array([sub.model.x_dict[w.VarName] for w in sub._wa])\n",
    "                wl = np.array([sub.model.x_dict[w.VarName] for w in sub._wl])\n",
    "                wu = np.array([sub.model.x_dict[w.VarName] for w in sub._wu])\n",
    "                waB = wa*sub._Bcsc\n",
    "                cinds = waB.nonzero()[0]                                \n",
    "                tk = master.model.getVarByName('tk_%s'%sub_ind)\n",
    "                xl = sub._xl\n",
    "                xu = sub._xu                \n",
    "                waBy = LinExpr([waB[j] for j in cinds], [ys[j] for j in cinds])\n",
    "                rhs2 = sum(d*wa) - waBy + sum(xl*wl) - sum(xu*wu)\n",
    "                cut2 = tk >= rhs2\n",
    "                cut1 = master.make_optcut(sub)\n",
    "                rhs1 = cut1._rhs\n",
    "                zval = z.X\n",
    "                ychanged=sum(yopt-yprev)\n",
    "                print(\"sub=%s.\\tSub obj=%g\\ttk=%s (value=%g)\\tz=%g\\tychanged=%g\" % (\n",
    "                    sub_ind, sub_obj, tk.VarName, tk.X, zval, ychanged))\n",
    "            #**********************\n",
    "\n",
    "    LB = z.X\n",
    "    UB = sum(fy*yopt) + sum(sub_objs)\n",
    "    LB = LB if abs(LB)>1e-10 else 0.\n",
    "    UB = UB if abs(UB)>1e-10 else 0.\n",
    "    \n",
    "    if UB<bestUB:\n",
    "        master.yopt = yopt\n",
    "        bestUB = UB\n",
    "        \n",
    "    bestLB = max(bestLB,LB)\n",
    "    \n",
    "    gap= UB-LB\n",
    "    relgap = gap / (1e-10+abs(UB))    \n",
    "    \n",
    "    if relgap < master.gaptol:        \n",
    "        toc = time.time()-tic\n",
    "        #print(\"iter=%d\\tUB=%g\\tLB=%g\\tgap=%g\\trelgap=%.4g%%\\ttime=%g (s)\" % (_iter,UB,LB,gap,relgap*100,toc))\n",
    "        print(\"%-12.10s%-12.4g%-12.4g%-12.4g%-12.4g%-12.4g%-12.4g%-12.10g\" % (\n",
    "            _iter,UB,LB,bestUB,bestLB,gap,relgap*100,toc))\n",
    "        print(\"gap<gaptol. Done.\")\n",
    "        break\n",
    "    else:\n",
    "        if not MULTICUT:\n",
    "            onecut = master._z >= quicksum([master.make_optcut(sub_dict[ind])._rhs for ind in opt_sub_inds])\n",
    "            master.model.addConstr(onecut)\n",
    "        else:\n",
    "            for k,sub_ind in enumerate(opt_sub_inds):\n",
    "                tk = master.model.getVarByName('tk_%s'%sub_ind)                \n",
    "                sub = sub_dict[sub_ind]\n",
    "                if tk.X < sub_objs[k]:\n",
    "                    cut = master.make_optcut(sub)\n",
    "                    master.model.addConstr(cut)\n",
    "#             onecut = master._z >= quicksum([master.make_optcut(sub_dict[ind])._rhs for ind in opt_sub_inds])\n",
    "#             master.model.addConstr(onecut)"
   ]
  },
  {
   "cell_type": "code",
   "execution_count": 15,
   "metadata": {
    "collapsed": false
   },
   "outputs": [
    {
     "name": "stdout",
     "output_type": "stream",
     "text": [
      "Status=optimal\n"
     ]
    }
   ],
   "source": [
    "from cobra.solvers.gurobi_solver import status_dict\n",
    "\n",
    "print('Status=%s'%status_dict[master.model.Status])"
   ]
  },
  {
   "cell_type": "code",
   "execution_count": 16,
   "metadata": {
    "collapsed": false
   },
   "outputs": [
    {
     "name": "stdout",
     "output_type": "stream",
     "text": [
      "(<gurobi.LinExpr: area_wheat + area_corn + area_beet>, '<', 500.0)\n",
      "(<gurobi.LinExpr: z + -150.0 area_wheat + -230.0 area_corn + -260.0 area_beet + -1.0 tk_below + -1.0 tk_average + -1.0 tk_above>, '=', 0.0)\n",
      "(<gurobi.LinExpr: 198.333333333 area_wheat + 210.0 area_corn + 240.0 area_beet + tk_average>, '>', 32666.666666666664)\n",
      "(<gurobi.LinExpr: 238.0 area_wheat + 252.0 area_corn + 288.0 area_beet + tk_above>, '>', 32666.666666666664)\n",
      "(<gurobi.LinExpr: 113.333333333 area_wheat + 168.0 area_corn + 192.0 area_beet + tk_below>, '>', 28133.333333333332)\n",
      "(<gurobi.LinExpr: 141.666666667 area_wheat + 210.0 area_corn + 240.0 area_beet + tk_average>, '>', 28133.333333333332)\n",
      "(<gurobi.LinExpr: 113.333333333 area_wheat + 168.0 area_corn + 192.0 area_beet + tk_below>, '>', 28133.333333333332)\n",
      "(<gurobi.LinExpr: 141.666666667 area_wheat + 210.0 area_corn + 240.0 area_beet + tk_average>, '>', 28133.333333333332)\n",
      "(<gurobi.LinExpr: 170.0 area_wheat + 252.0 area_corn + 80.0 area_beet + tk_above>, '>', -23866.666666666675)\n",
      "(<gurobi.LinExpr: 158.666666667 area_wheat + 120.0 area_corn + 192.0 area_beet + tk_below>, '>', 27866.666666666664)\n",
      "(<gurobi.LinExpr: 198.333333333 area_wheat + 150.0 area_corn + 240.0 area_beet + tk_average>, '>', 27866.666666666664)\n",
      "(<gurobi.LinExpr: 238.0 area_wheat + 180.0 area_corn + 80.0 area_beet + tk_above>, '>', -24133.333333333343)\n",
      "(<gurobi.LinExpr: 113.333333333 area_wheat + 120.0 area_corn + 192.0 area_beet + tk_below>, '>', 23333.333333333332)\n",
      "(<gurobi.LinExpr: 141.666666667 area_wheat + 150.0 area_corn + 240.0 area_beet + tk_average>, '>', 23333.333333333332)\n",
      "(<gurobi.LinExpr: 170.0 area_wheat + 180.0 area_corn + 288.0 area_beet + tk_above>, '>', 23333.333333333332)\n",
      "(<gurobi.LinExpr: 141.666666667 area_wheat + 150.0 area_corn + 240.0 area_beet + tk_average>, '>', 23333.333333333332)\n",
      "(<gurobi.LinExpr: 170.0 area_wheat + 180.0 area_corn + 80.0 area_beet + tk_above>, '>', -28666.666666666675)\n"
     ]
    }
   ],
   "source": [
    "for c in master.model.getConstrs():\n",
    "    print(master.model.getRow(c), c.Sense, c.RHS)"
   ]
  },
  {
   "cell_type": "markdown",
   "metadata": {},
   "source": [
    "## Check answer: should be \n",
    "- {'wheat':170, 'corn':80, 'beet':250}\n",
    "- objval = (-)108390"
   ]
  },
  {
   "cell_type": "code",
   "execution_count": 17,
   "metadata": {
    "collapsed": false
   },
   "outputs": [
    {
     "data": {
      "text/plain": [
       "<gurobi.Var z (value -108390.0)>"
      ]
     },
     "execution_count": 17,
     "metadata": {},
     "output_type": "execute_result"
    }
   ],
   "source": [
    "master._z"
   ]
  },
  {
   "cell_type": "code",
   "execution_count": 18,
   "metadata": {
    "collapsed": false
   },
   "outputs": [
    {
     "data": {
      "text/plain": [
       "[<gurobi.Var area_wheat (value 170.0)>,\n",
       " <gurobi.Var area_corn (value 80.0)>,\n",
       " <gurobi.Var area_beet (value 250.0)>]"
      ]
     },
     "execution_count": 18,
     "metadata": {},
     "output_type": "execute_result"
    }
   ],
   "source": [
    "master._ys"
   ]
  },
  {
   "cell_type": "code",
   "execution_count": 19,
   "metadata": {
    "collapsed": false
   },
   "outputs": [],
   "source": [
    "#yopt = master.yopt\n",
    "yopt = [y.X for y in master._ys]\n",
    "x_dict = {}\n",
    "for scen,sub in iteritems(master.sub_dict):\n",
    "    sub.update_obj(yopt)\n",
    "    sub.model.optimize()\n",
    "    x_dict[scen] = {r.ConstrName:r.Pi for r in sub.model.model.getConstrs()}"
   ]
  },
  {
   "cell_type": "code",
   "execution_count": 20,
   "metadata": {
    "collapsed": false
   },
   "outputs": [
    {
     "data": {
      "text/plain": [
       "{'above': {'buy_beet': 0.0,\n",
       "  'buy_corn': 0.0,\n",
       "  'buy_wheat': 0.0,\n",
       "  'fixobjval': 0.0,\n",
       "  'sell_beet': 6000.0,\n",
       "  'sell_corn': 48.00000000000023,\n",
       "  'sell_excess_beet': 9.094947017729282e-13,\n",
       "  'sell_wheat': 309.99999999999966},\n",
       " 'average': {'buy_beet': 0.0,\n",
       "  'buy_corn': 0.0,\n",
       "  'buy_wheat': 0.0,\n",
       "  'fixobjval': 0.0,\n",
       "  'sell_beet': 5000.000000000001,\n",
       "  'sell_corn': 1.7053025658242404e-13,\n",
       "  'sell_excess_beet': 0.0,\n",
       "  'sell_wheat': 224.99999999999972},\n",
       " 'below': {'buy_beet': 0.0,\n",
       "  'buy_corn': 47.99999999999986,\n",
       "  'buy_wheat': 0.0,\n",
       "  'fixobjval': 0.0,\n",
       "  'sell_beet': 4000.0000000000005,\n",
       "  'sell_corn': 0.0,\n",
       "  'sell_excess_beet': 0.0,\n",
       "  'sell_wheat': 139.99999999999977}}"
      ]
     },
     "execution_count": 20,
     "metadata": {},
     "output_type": "execute_result"
    }
   ],
   "source": [
    "x_dict"
   ]
  },
  {
   "cell_type": "markdown",
   "metadata": {},
   "source": [
    "### Check objval"
   ]
  },
  {
   "cell_type": "code",
   "execution_count": 21,
   "metadata": {
    "collapsed": false
   },
   "outputs": [],
   "source": [
    "objval = 0\n",
    "\n",
    "for c in crops:\n",
    "    a = master.model.getVarByName(area_dict[c].id)\n",
    "    objval -= plantcost_dict[c]*a.X\n",
    "    for scen,pk in iteritems(prob_dict):\n",
    "        xsell = x_dict[scen]['sell_%s'%(c)]\n",
    "        xbuy  = x_dict[scen]['buy_%s'%(c)]\n",
    "        objval += pk*sellprice_dict[c]*xsell\n",
    "        objval -= pk*buyprice_dict[c]*xbuy\n",
    "        if c=='beet':\n",
    "            xexcess = x_dict[scen]['sell_excess_%s'%(c)]\n",
    "            objval += pk*excess_sell_price*xexcess"
   ]
  },
  {
   "cell_type": "code",
   "execution_count": 22,
   "metadata": {
    "collapsed": false
   },
   "outputs": [
    {
     "name": "stdout",
     "output_type": "stream",
     "text": [
      "Master objval: -108390, Calculated objval: 108390\n"
     ]
    }
   ],
   "source": [
    "print('Master objval: %g, Calculated objval: %g' % (master.model.ObjVal, objval))"
   ]
  },
  {
   "cell_type": "markdown",
   "metadata": {},
   "source": [
    "## Check that all constraints satisfied"
   ]
  },
  {
   "cell_type": "code",
   "execution_count": 23,
   "metadata": {
    "collapsed": false
   },
   "outputs": [
    {
     "name": "stdout",
     "output_type": "stream",
     "text": [
      "('Total area constraint:', True)\n"
     ]
    }
   ],
   "source": [
    "# Total area\n",
    "print('Total area constraint:', sum(yopt) <= total_area)"
   ]
  },
  {
   "cell_type": "code",
   "execution_count": 24,
   "metadata": {
    "collapsed": false
   },
   "outputs": [
    {
     "name": "stdout",
     "output_type": "stream",
     "text": [
      "below, beet: 0 >= 0, True\n",
      "below, corn: 240 >= 240, True\n",
      "below, wheat: 200 >= 200, True\n",
      "average, beet: 0 >= 0, True\n",
      "average, corn: 240 >= 240, True\n",
      "average, wheat: 200 >= 200, True\n",
      "above, beet: 9.09495e-13 >= 0, True\n",
      "above, corn: 240 >= 240, True\n",
      "above, wheat: 200 >= 200, True\n"
     ]
    }
   ],
   "source": [
    "# Cattle feed crop requirement\n",
    "y_dict = {y.VarName:y.X for y in master._ys}\n",
    "for scen in prob_dict.keys():\n",
    "    for c,req in iteritems(req_dict):\n",
    "        area = y_dict['area_%s'%c]\n",
    "        xsell = x_dict[scen]['sell_%s'%(c)]\n",
    "        xbuy = x_dict[scen]['buy_%s'%(c)]\n",
    "        lhs = yield_dict[scen][c]*area - xsell + xbuy\n",
    "        rhs = req\n",
    "        print('%s, %s: %g >= %g, %s'%(scen,c,lhs,rhs,lhs>=rhs))"
   ]
  },
  {
   "cell_type": "markdown",
   "metadata": {},
   "source": [
    "master.model.optimize(cb_benders_multi)"
   ]
  },
  {
   "cell_type": "code",
   "execution_count": null,
   "metadata": {
    "collapsed": true
   },
   "outputs": [],
   "source": []
  },
  {
   "cell_type": "markdown",
   "metadata": {},
   "source": [
    "yopt = np.array([y.X for y in master._ys])\n",
    "xopt = []\n",
    "for k in range(len(c)):\n",
    "    sub = sub_dict[k]\n",
    "    sub.update_obj(yopt)\n",
    "    sub.model.optimize()\n",
    "    xc = sub.model.model.getConstrByName('x%d'%k)\n",
    "    xopt.append(xc.Pi)"
   ]
  }
 ],
 "metadata": {
  "kernelspec": {
   "display_name": "Python 2",
   "language": "python",
   "name": "python2"
  },
  "language_info": {
   "codemirror_mode": {
    "name": "ipython",
    "version": 2
   },
   "file_extension": ".py",
   "mimetype": "text/x-python",
   "name": "python",
   "nbconvert_exporter": "python",
   "pygments_lexer": "ipython2",
   "version": "2.7.14"
  }
 },
 "nbformat": 4,
 "nbformat_minor": 2
}
