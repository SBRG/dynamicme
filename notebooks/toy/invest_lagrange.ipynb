{
 "cells": [
  {
   "cell_type": "markdown",
   "metadata": {
    "deletable": true,
    "editable": true
   },
   "source": [
    "# Toy problem for debugging Dual Decomposition"
   ]
  },
  {
   "cell_type": "markdown",
   "metadata": {
    "deletable": true,
    "editable": true
   },
   "source": [
    "$$\n",
    "\\begin{align*}\n",
    "\\max_{x_k,y} \\quad & \\sum_k f_k'y + \\sum_k c_k'x_k \\\\\n",
    "\\mathrm{s.t.} \\quad & A_k x_k + B_k y \\leq d_k, \\\\\n",
    "& y\\in \\{0,1\\}.\n",
    "\\end{align*}\n",
    "$$"
   ]
  },
  {
   "cell_type": "markdown",
   "metadata": {
    "deletable": true,
    "editable": true
   },
   "source": [
    "$$\n",
    "\\begin{align*}\n",
    "\\max_{x_k,y_k} \\quad & \\sum_k f_k'y + \\sum_k c_k'x_k \\\\\n",
    "\\mathrm{s.t.} \\quad & A_k x_k + B_k y_k \\leq d_k, \\\\\n",
    "& \\sum_k H_k y_k = 0, \\\\\n",
    "& y_k\\in \\{0,1\\}.\n",
    "\\end{align*}\n",
    "$$"
   ]
  },
  {
   "cell_type": "code",
   "execution_count": 1,
   "metadata": {
    "collapsed": true,
    "deletable": true,
    "editable": true
   },
   "outputs": [],
   "source": [
    "RELAX_LP = True"
   ]
  },
  {
   "cell_type": "code",
   "execution_count": 2,
   "metadata": {
    "collapsed": false,
    "deletable": true,
    "editable": true
   },
   "outputs": [],
   "source": [
    "from __future__ import division\n",
    "from cobra import Model\n",
    "from dynamicme.optimize import Variable, Constraint\n",
    "from six import iteritems\n",
    "import numpy as np\n",
    "import pandas as pd"
   ]
  },
  {
   "cell_type": "markdown",
   "metadata": {
    "deletable": true,
    "editable": true
   },
   "source": [
    "### Example from\n",
    "http://www.optirisk-systems.com/manuals/FortspManual.pdf"
   ]
  },
  {
   "cell_type": "markdown",
   "metadata": {
    "deletable": true,
    "editable": true
   },
   "source": [
    "$$\n",
    "\\begin{align*}\n",
    "\\max_{x,y} \\quad & \\sum_k P_k \\left( \\sum_c p^s_c x^s_{c,k} - p^b_c x^b_{c,k}  - \\sum_c c_c a_c \\right)\\\\\n",
    "\\mathrm{s.t.} \\quad & \\sum_c a_c \\leq A \\\\\n",
    "& Y_{c,k}  a_c - x^s_{c,k} + x^b_{c,k} \\geq R_c \\\\\n",
    "& x^s_{\\mathrm{beet},k} \\leq Q(\\mathrm{beet}) \\\\\n",
    "& x^s_{\\mathrm{beet},c} + s^x_k \\leq Y_{\\mathrm{beet},k} a_\\mathrm{beet}\n",
    "\\end{align*}\n",
    "$$"
   ]
  },
  {
   "cell_type": "code",
   "execution_count": 3,
   "metadata": {
    "collapsed": false,
    "deletable": true,
    "editable": true
   },
   "outputs": [],
   "source": [
    "from dynamicme.decomposition import LagrangeMaster, LagrangeSubmodel"
   ]
  },
  {
   "cell_type": "code",
   "execution_count": 4,
   "metadata": {
    "collapsed": false,
    "deletable": true,
    "editable": true
   },
   "outputs": [],
   "source": [
    "#------------------------------------------------------------\n",
    "# Data\n",
    "crops = ['wheat','corn','beet']\n",
    "total_area = 500.  # Total acres\n",
    "prob_dict = {'below':1./3, 'average':1./3, 'above':1./3}\n",
    "# Yields (tons/acre) over scenarios\n",
    "yield_dict = {}\n",
    "yield_dict['below'] = {'wheat':2., 'corn':2.4, 'beet':16.}\n",
    "yield_dict['average'] = {'wheat':2.5, 'corn':3., 'beet':20.}\n",
    "yield_dict['above'] = {'wheat':3., 'corn':3.6, 'beet':24.}\n",
    "# Planting costs\n",
    "plantcost_dict={'wheat':150, 'corn':230, 'beet':260}   # $/ton\n",
    "sellprice_dict = {'wheat':170, 'corn':150, 'beet':36}  # $/ton\n",
    "excess_sell_price = 10    # beet sell price ($/ton) when quota exceeded\n",
    "beet_quota = 6000   # tons\n",
    "buyprice_dict = {'wheat':238, 'corn':210, 'beet':100}  # $/ton\n",
    "req_dict = {'wheat':200., 'corn':240., 'beet':0.} # tons required to feed cattle\n",
    "#------------------------------------------------------------\n",
    "# Area is complicating (first-stage) variable"
   ]
  },
  {
   "cell_type": "code",
   "execution_count": 5,
   "metadata": {
    "collapsed": false,
    "deletable": true,
    "editable": true
   },
   "outputs": [],
   "source": [
    "# Create subproblems\n",
    "UB = 1e4\n",
    "sub_dict = {}\n",
    "for scen,yields in iteritems(yield_dict):\n",
    "    # Each subproblem gets its own copy of first-stage variables\n",
    "    area_dict = {c:Variable('area_%s'%c, lower_bound=0., upper_bound=1e6,\n",
    "        objective_coefficient=prob_dict[scen]*plantcost_dict[c]) for c in crops}\n",
    "    for y in area_dict.values():\n",
    "        y.variable_kind = 'integer'\n",
    "    mdl = Model('sub')\n",
    "    mdl.add_reactions(area_dict.values())\n",
    "    # Global constraint: sum_a <= Area\n",
    "    cons_area = Constraint('total_area')\n",
    "    cons_area._bound = total_area\n",
    "    cons_area._constraint_sense = 'L'\n",
    "    mdl.add_metabolites(cons_area)\n",
    "    for y in area_dict.values():\n",
    "        y.add_metabolites({cons_area:1.}, combine=False)\n",
    "\n",
    "    # MAX sell price\n",
    "    x_excess = Variable('sell_excess_beet', lower_bound=0., upper_bound=UB)\n",
    "    x_excess.objective_coefficient = -prob_dict[scen]*excess_sell_price    \n",
    "    mdl.add_reaction(x_excess)\n",
    "    \n",
    "    for c in crops:\n",
    "        ### Scenario variables x: tons sold, bought, excess sold per scenario\n",
    "        x_sell = Variable('sell_%s'%(c), lower_bound=0., upper_bound=UB)\n",
    "        x_buy  =  Variable('buy_%s'%(c), lower_bound=0., upper_bound=UB)\n",
    "        mdl.add_reactions([x_sell,x_buy])        \n",
    "        x_sell.objective_coefficient = -prob_dict[scen]*sellprice_dict[c]\n",
    "        x_buy.objective_coefficient = prob_dict[scen]*buyprice_dict[c]\n",
    "        \n",
    "        ### Scenario constraint: Y_ck*ac - xs_ck + xb_ck >= Req_c        \n",
    "        cons = Constraint('required_%s'%c)\n",
    "        cons._bound = req_dict[c]\n",
    "        cons._constraint_sense = 'G'        \n",
    "        mdl.add_metabolites(cons)\n",
    "        area = area_dict[c]\n",
    "        area.add_metabolites({cons:yield_dict[scen][c]})\n",
    "        x_sell.add_metabolites({cons:-1.})\n",
    "        x_buy.add_metabolites({cons:1.})\n",
    "        \n",
    "        ### Beet quota\n",
    "        if c=='beet':\n",
    "            x_sell.upper_bound = beet_quota\n",
    "            # xs_beet,k + xexcess_k <= Yield_beet,k * area_beet\n",
    "            cons_beet = Constraint('beet_balance')\n",
    "            cons_beet._bound = 0.\n",
    "            cons_beet._constraint_sense = 'L'\n",
    "            x_sell.add_metabolites({cons_beet:1.})\n",
    "            x_excess.add_metabolites({cons_beet:1.})\n",
    "            area_dict[c].add_metabolites({cons_beet:-yield_dict[scen][c]})\n",
    "    \n",
    "    sub = LagrangeSubmodel(mdl, scen)\n",
    "    sub_dict[scen] = sub"
   ]
  },
  {
   "cell_type": "code",
   "execution_count": 6,
   "metadata": {
    "collapsed": false,
    "deletable": true,
    "editable": true
   },
   "outputs": [],
   "source": [
    "master = LagrangeMaster(mdl)\n",
    "master._INF = 1e7\n",
    "master.add_submodels(sub_dict)\n",
    "master._z.LB = -master._INF\n",
    "master._z.UB = master._INF\n",
    "master.model.update()"
   ]
  },
  {
   "cell_type": "code",
   "execution_count": 7,
   "metadata": {
    "collapsed": false,
    "deletable": true,
    "editable": true
   },
   "outputs": [
    {
     "data": {
      "text/plain": [
       "<gurobi.QuadExpr: z + [ -0.5 u_00 ^ 2 + -0.5 u_01 ^ 2 + -0.5 u_02 ^ 2 + -0.5 u_10 ^ 2 + -0.5 u_11 ^ 2 + -0.5 u_12 ^ 2 ]>"
      ]
     },
     "execution_count": 7,
     "metadata": {},
     "output_type": "execute_result"
    }
   ],
   "source": [
    "obj = master.model.getObjective()\n",
    "obj"
   ]
  },
  {
   "cell_type": "code",
   "execution_count": 8,
   "metadata": {
    "collapsed": false,
    "deletable": true,
    "editable": true
   },
   "outputs": [
    {
     "name": "stdout",
     "output_type": "stream",
     "text": [
      "('z', -10000000.0, 10000000.0)\n",
      "('tk_below', -10000000.0, 10000000.0)\n",
      "('tk_average', -10000000.0, 10000000.0)\n",
      "('tk_above', -10000000.0, 10000000.0)\n",
      "('u_00', -10000000.0, 10000000.0)\n",
      "('u_01', -10000000.0, 10000000.0)\n",
      "('u_02', -10000000.0, 10000000.0)\n",
      "('u_10', -10000000.0, 10000000.0)\n",
      "('u_11', -10000000.0, 10000000.0)\n",
      "('u_12', -10000000.0, 10000000.0)\n"
     ]
    }
   ],
   "source": [
    "for v in master.model.getVars():\n",
    "    print(v.VarName, v.LB, v.UB)"
   ]
  },
  {
   "cell_type": "code",
   "execution_count": 9,
   "metadata": {
    "collapsed": false,
    "deletable": true,
    "editable": true,
    "scrolled": false
   },
   "outputs": [
    {
     "name": "stdout",
     "output_type": "stream",
     "text": [
      "    Iter                    UB                    LB       gap relgap(%)   penalty                       Time(s)\n",
      "  ------   -------------------   -------------------  -------- ---------  -------- -----------------------------\n",
      "               Best   Feasible        Sub       Best                                   total    master       sub\n",
      "       0      1e+07     1e+100 -1.154e+05 -1.154e+05 1.012e+07     101.2         0  0.007551  0.001155  0.004644\n",
      "       1 -4.869e+04     1e+100 -3.337e+05 -1.154e+05 6.671e+04       137  3.34e+04  0.012857  0.000968  0.003720\n",
      "       2 -9.083e+04     1e+100 -2.949e+05 -1.154e+05 2.458e+04     27.06  2.77e+04  0.018396  0.001421  0.003705\n",
      "       3 -1.067e+05     1e+100  -1.18e+05 -1.154e+05      8711     8.165  1.13e+04  0.023720  0.001242  0.003433\n",
      "       4 -1.087e+05     1e+100 -1.105e+05 -1.105e+05      1763     1.621   1.5e+03  0.029302  0.001450  0.003296\n",
      "       5 -1.084e+05     1e+100 -1.084e+05 -1.084e+05         0         0       141  0.034244  0.001342  0.002953\n",
      "       6 -1.084e+05     1e+100 -1.084e+05 -1.084e+05 1.285e-06 1.185e-09  2.23e-16  0.037880  0.001059  0.002218\n",
      "    Iter                    UB                    LB       gap relgap(%)   penalty                       Time(s)\n",
      "  ------   -------------------   -------------------  -------- ---------  -------- -----------------------------\n",
      "               Best   Feasible        Sub       Best                                   total    master       sub\n",
      "       0 -1.106e+05     1e+100 -1.106e+05 -1.106e+05 5.056e-06 4.572e-09  1.17e+03  0.007102  0.000959  0.005594\n",
      "       1 -1.084e+05     1e+100 -1.084e+05 -1.084e+05         0         0       640  0.011774  0.000774  0.003629\n",
      "       2 -1.084e+05     1e+100 -1.084e+05 -1.084e+05 6.737e-06 6.215e-09  7.99e-16  0.015758  0.000741  0.002912\n",
      "Best Heuristic solution has objval=-95939.0\n",
      "Best feasible solution among 30 alt feasible has objval=-108367.0\n",
      "Best feasible solution has objval=-108367.0\n",
      "       2 -1.084e+05 -1.084e+05 -1.084e+05 -1.084e+05 6.737e-06 6.215e-09  7.99e-16  0.037009  0.000741  0.002912\n",
      "       3 -1.084e+05 -1.084e+05 -1.084e+05 -1.084e+05         0         0  3.42e-16  0.042698  0.000629  0.004971\n",
      "Best feasible solution among 60 alt feasible has objval=-108367.0\n",
      "       3 -1.084e+05 -1.084e+05 -1.084e+05 -1.084e+05         0         0  3.42e-16  0.078457  0.000629  0.004971\n",
      "       4 -1.084e+05 -1.084e+05 -1.084e+05 -1.084e+05         0         0  6.33e-17  0.085317  0.000638  0.006047\n",
      "Best feasible solution among 120 alt feasible has objval=-108390.0\n",
      "Best feasible solution has objval=-108390.0\n",
      "       4 -1.084e+05 -1.084e+05 -1.084e+05 -1.084e+05         0         0  6.33e-17  0.152462  0.000638  0.006047\n",
      "       5 -1.084e+05 -1.084e+05 -1.084e+05 -1.084e+05 1.538e-06 1.419e-09  8.76e-17  0.161914  0.000718  0.008595\n",
      "Best feasible solution among 240 alt feasible has objval=-108390.0\n",
      "       5 -1.084e+05 -1.084e+05 -1.084e+05 -1.084e+05 1.538e-06 1.419e-09  8.76e-17  0.295585  0.000718  0.008595\n",
      "       6 -1.084e+05 -1.084e+05 -1.084e+05 -1.084e+05 1.791e-06 1.653e-09  1.59e-16  0.311136  0.000770  0.014669\n",
      "Best feasible solution among 437 alt feasible has objval=-108390.0\n",
      "       6 -1.084e+05 -1.084e+05 -1.084e+05 -1.084e+05 1.791e-06 1.653e-09  1.59e-16  0.559992  0.000770  0.014669\n",
      "       7 -1.084e+05 -1.084e+05 -1.084e+05 -1.084e+05 3.272e-06 3.019e-09  1.24e-16  0.598516  0.000859  0.037560\n",
      "Best feasible solution among 738 alt feasible has objval=-108390.0\n",
      "       7 -1.084e+05 -1.084e+05 -1.084e+05 -1.084e+05 3.272e-06 3.019e-09  1.24e-16  1.020040  0.000859  0.037560\n",
      "       8 -1.084e+05 -1.084e+05 -1.084e+05 -1.084e+05 2.238e-06 2.065e-09  6.68e-17  1.113422  0.001143  0.092128\n",
      "Best feasible solution among 1058 alt feasible has objval=-108390.0\n",
      "       8 -1.084e+05 -1.084e+05 -1.084e+05 -1.084e+05 2.238e-06 2.065e-09  6.68e-17  1.815495  0.001143  0.092128\n",
      "       9 -1.084e+05 -1.084e+05 -1.084e+05 -1.084e+05         0         0  7.63e-17  2.022411  0.000972  0.205840\n",
      "Best feasible solution among 1698 alt feasible has objval=-108390.0\n",
      "       9 -1.084e+05 -1.084e+05 -1.084e+05 -1.084e+05         0         0  7.63e-17  3.373705  0.000972  0.205840\n",
      "      10 -1.084e+05 -1.084e+05 -1.084e+05 -1.084e+05 3.339e-06 3.081e-09  1.34e-16  3.763843  0.001039  0.388998\n",
      "Best feasible solution among 2978 alt feasible has objval=-108390.0\n",
      "      10 -1.084e+05 -1.084e+05 -1.084e+05 -1.084e+05 3.339e-06 3.081e-09  1.34e-16  5.875688  0.001039  0.388998\n",
      "      11 -1.084e+05 -1.084e+05 -1.084e+05 -1.084e+05 5.079e-06 4.686e-09  2.63e-16  7.234629  0.001142  1.357694\n",
      "Best obj=-74580. Tot obj=-74580. obj=-15200 for below\n",
      "Alt optimum 2810 in subprob below is feasible! Done.\n",
      "sum_k Hk*yk: [0. 0. 0. 0. 0. 0.]\n"
     ]
    }
   ],
   "source": [
    "master.model.Params.Presolve = 0\n",
    "# master.model.Params.ScaleFlag = 2\n",
    "# master.model.Params.NumericFocus = 3\n",
    "master.model.Params.BarHomogeneous = 1\n",
    "\n",
    "# master.model.Params.Method = 0  # primal simplex\n",
    "# master.model.Params.Method = 1  # dual simplex\n",
    "master.model.Params.Method = 2  # barrier\n",
    "\n",
    "master.model.Params.OutputFlag=0\n",
    "master.max_iter = 20\n",
    "master.print_iter=1\n",
    "master.verbosity = 2\n",
    "\n",
    "master.delta_mult = 0.5   #0.1\n",
    "master.delta_min  = 0.5 #1e-10 #0\n",
    "master.gaptol = 1e-6 # 0.001 #0.02\n",
    "\n",
    "feasible_methods = ['heuristic', 'enumerate']\n",
    "alt_method = 'pool'\n",
    "max_alt = 10\n",
    "\n",
    "if RELAX_LP:\n",
    "    sol_master = master.solve_relaxed(feasible_methods=None)\n",
    "    df_phase1 = pd.DataFrame(master.log_rows)\n",
    "\n",
    "sol_master = master.optimize(feasible_methods=feasible_methods, max_alt=max_alt, alt_method=alt_method) \n",
    "df_phase2 = pd.DataFrame(master.log_rows)"
   ]
  },
  {
   "cell_type": "markdown",
   "metadata": {
    "collapsed": false,
    "deletable": true,
    "editable": true
   },
   "source": [
    "for sub_ind,sub in iteritems(sub_dict):\n",
    "    sub.optimize()\n",
    "    yk = [y.X for y in sub._ys]\n",
    "    print(\"%s: %s\"%(sub_ind, yk))    "
   ]
  },
  {
   "cell_type": "markdown",
   "metadata": {
    "collapsed": false,
    "deletable": true,
    "editable": true
   },
   "source": [
    "for cons in sub.model.getConstrs():\n",
    "    print(sub.model.getRow(cons),cons.Sense,cons.RHS)"
   ]
  },
  {
   "cell_type": "code",
   "execution_count": 10,
   "metadata": {
    "collapsed": false,
    "deletable": true,
    "editable": true
   },
   "outputs": [
    {
     "data": {
      "text/plain": [
       "<seaborn.axisgrid.FacetGrid at 0x7f4292213290>"
      ]
     },
     "execution_count": 10,
     "metadata": {},
     "output_type": "execute_result"
    },
    {
     "data": {
      "image/png": "[encoded data removed]",
      "text/plain": [
       "<matplotlib.figure.Figure at 0x7f4292213750>"
      ]
     },
     "metadata": {},
     "output_type": "display_data"
    }
   ],
   "source": [
    "import seaborn as sns\n",
    "import matplotlib.pyplot as plt\n",
    "%matplotlib inline\n",
    "\n",
    "xcol = 'iter'\n",
    "df_phase1.loc[:,'phase'] = 1\n",
    "df_phase1.loc[:,'feasUB'] = np.nan\n",
    "df_phase2.loc[:,'phase'] = 2\n",
    "dsplot = pd.concat([df_phase1, df_phase2])\n",
    "dsplot = dsplot[[xcol,'feasUB','bestUB','bestLB','phase']]\n",
    "dsplot = dsplot.melt(id_vars=[xcol,'phase'])\n",
    "# dsplot.loc[ dsplot.value>1e1, 'value'] = np.nan\n",
    "# dsplot.loc[ dsplot.value<-1e1, 'value'] = np.nan\n",
    "\n",
    "g = sns.FacetGrid(dsplot, hue='variable', size=3, aspect=3, row='phase', sharey=False)\n",
    "g.map(plt.plot, xcol,'value')\n",
    "g.add_legend()"
   ]
  },
  {
   "cell_type": "markdown",
   "metadata": {
    "deletable": true,
    "editable": true
   },
   "source": [
    "## Check answer: should be \n",
    "- {'wheat':170, 'corn':80, 'beet':250}\n",
    "- objval = (-)108390"
   ]
  },
  {
   "cell_type": "markdown",
   "metadata": {
    "deletable": true,
    "editable": true
   },
   "source": [
    "## Check that the optimal feasible solution works"
   ]
  },
  {
   "cell_type": "code",
   "execution_count": 11,
   "metadata": {
    "collapsed": false,
    "deletable": true,
    "editable": true
   },
   "outputs": [
    {
     "data": {
      "text/plain": [
       "{'area_beet': 250.0, 'area_corn': 80.0, 'area_wheat': 170.0}"
      ]
     },
     "execution_count": 11,
     "metadata": {},
     "output_type": "execute_result"
    }
   ],
   "source": [
    "sol_master"
   ]
  },
  {
   "cell_type": "code",
   "execution_count": 12,
   "metadata": {
    "collapsed": false,
    "deletable": true,
    "editable": true
   },
   "outputs": [
    {
     "name": "stdout",
     "output_type": "stream",
     "text": [
      "Scenario objectives: {'below': -15200.000003923968, 'average': -30328.888885248452, 'above': -62861.11111082758}\n",
      "Total expected objective: -108390.0\n"
     ]
    }
   ],
   "source": [
    "ybest = master.yopt\n",
    "\n",
    "obj_dict, feas_dict, stat_dict = master.check_feasible(ybest)\n",
    "\n",
    "print('Scenario objectives: %s' % obj_dict)\n",
    "print('Total expected objective: %s' % sum(obj_dict.values()))"
   ]
  },
  {
   "cell_type": "markdown",
   "metadata": {
    "deletable": true,
    "editable": true
   },
   "source": [
    "yenum,enum_dict = master.enum_alt_opt()\n",
    "enum_dict"
   ]
  },
  {
   "cell_type": "markdown",
   "metadata": {
    "deletable": true,
    "editable": true
   },
   "source": [
    "ycheck = sub.yopt\n",
    "master.check_feasible(ycheck)"
   ]
  },
  {
   "cell_type": "markdown",
   "metadata": {
    "deletable": true,
    "editable": true
   },
   "source": [
    "sub.model.Params.PoolSearchMode=2\n",
    "sub.model.Params.PoolSolutions=100\n",
    "sub.optimize()\n",
    "sub.model.SolCount\n",
    "\n",
    "for sub_ind,sub in iteritems(sub_dict):\n",
    "    sub.model.Params.PoolSearchMode=2\n",
    "    sub.model.Params.PoolSolutions=100\n",
    "    sub.optimize()\n",
    "    print(sub_ind)\n",
    "    print('SolCount: %s' % sub.model.SolCount)\n",
    "    print('Best obj: %s' % sub.model.ObjVal)\n",
    "    print('PoolObjBound; %s' % sub.model.PoolObjBound)\n",
    "    K = 2\n",
    "    pool_objs = []\n",
    "    for k in range(sub.model.SolCount):\n",
    "        sub.model.Params.SolutionNumber=k\n",
    "        pool_objs.append(sub.model.PoolObjVal)\n",
    "        if k < K:            \n",
    "            print('Solution %d (Obj=%s): %s' % (k, sub.model.PoolObjVal,sub.model.Xn))\n",
    "    n_alt = sum(abs(np.array(pool_objs) - sub.model.ObjVal) / (1e-10 + abs(sub.model.ObjVal)) < master.gaptol)\n",
    "    print('%d solutions have obj=%s' % (n_alt, sub.model.ObjVal))\n",
    "\n",
    "sub.model.Params.SolutionNumber\n",
    "\n",
    "{v.VarName:v.Xn for v in sub.model.getVars()}"
   ]
  },
  {
   "cell_type": "markdown",
   "metadata": {
    "deletable": true,
    "editable": true
   },
   "source": [
    "# Duality gap = 0 under various Constraint qualifications\n",
    "(Does Slater's condition hold here: $\\exists x^* \\in \\mathrm{relint}(D)$?)\n",
    "\n",
    "# Duality gap = 0 without satisfying non-anticipativity constraints?\n",
    "\n",
    "# Duality gap = 0 still doesn't mean solution to Lagrange dual is primal feasible\n",
    "\n",
    "# Sometimes if duality gap = 0, can construct primal feasible from dual\n",
    "http://eceweb.ucsd.edu/~gert/ECE273/hindiTutorial2.pdf"
   ]
  },
  {
   "cell_type": "code",
   "execution_count": 13,
   "metadata": {
    "collapsed": false,
    "deletable": true,
    "editable": true
   },
   "outputs": [
    {
     "name": "stdout",
     "output_type": "stream",
     "text": [
      "-108390.000004\n"
     ]
    },
    {
     "data": {
      "text/plain": [
       "<gurobi.QuadExpr: -2321.14814807 + z + -22.4444444431 u_00 + 14.0555555495 u_01 + 8.38888888992 u_02 + 31.777777778 u_10 + -11.7222222267 u_11 + -20.055555556 u_12 + [ -0.25 u_00 ^ 2 + -0.25 u_01 ^ 2 + -0.25 u_02 ^ 2 + -0.25 u_10 ^ 2 + -0.25 u_11 ^ 2 + -0.25 u_12 ^ 2 ]>"
      ]
     },
     "execution_count": 13,
     "metadata": {},
     "output_type": "execute_result"
    }
   ],
   "source": [
    "print(master._z.X)\n",
    "master.model.getObjective()"
   ]
  },
  {
   "cell_type": "code",
   "execution_count": 14,
   "metadata": {
    "collapsed": false,
    "deletable": true,
    "editable": true
   },
   "outputs": [
    {
     "name": "stdout",
     "output_type": "stream",
     "text": [
      "below\n",
      "[('buy_wheat', 0.0), ('area_beet', 250.0), ('area_corn', 80.0), ('sell_wheat', 140.0), ('buy_corn', 48.0), ('sell_excess_beet', 0.0), ('sell_corn', 0.0), ('sell_beet', 4000.0), ('buy_beet', 0.0), ('area_wheat', 170.0)]\n",
      "----------------------------------------\n",
      "average\n",
      "[('buy_wheat', 0.0), ('area_beet', 250.0), ('area_corn', 80.0), ('sell_wheat', 225.0), ('buy_corn', 0.0), ('sell_excess_beet', 0.0), ('sell_corn', 0.0), ('sell_beet', 5000.0), ('buy_beet', 0.0), ('area_wheat', 170.0)]\n",
      "----------------------------------------\n",
      "above\n",
      "[('buy_wheat', 0.0), ('area_beet', 250.0), ('area_corn', 80.0), ('sell_wheat', 310.0), ('buy_corn', 0.0), ('sell_excess_beet', 0.0), ('sell_corn', 48.0), ('sell_beet', 6000.0), ('buy_beet', 0.0), ('area_wheat', 170.0)]\n",
      "----------------------------------------\n"
     ]
    }
   ],
   "source": [
    "for sub_ind,sub in iteritems(sub_dict):\n",
    "    print('%s'%sub_ind)    \n",
    "    #print([(x.VarName, x.Obj, x.X) for x in sub._ys])\n",
    "    print([(k,v) for k,v in iteritems(sub.x_dict)])\n",
    "    print('-'*40)"
   ]
  },
  {
   "cell_type": "code",
   "execution_count": 15,
   "metadata": {
    "collapsed": false,
    "deletable": true,
    "editable": true
   },
   "outputs": [
    {
     "name": "stdout",
     "output_type": "stream",
     "text": [
      "below\n",
      "<gurobi.LinExpr: 105.333333329 area_beet + 81.3333333308 area_corn + 26.6666666511 area_wheat + -3.33333333333 sell_excess_beet + -56.6666666667 sell_wheat + 79.3333333333 buy_wheat + -50.0 sell_corn + 70.0 buy_corn + -12.0 sell_beet + 33.3333333333 buy_beet>\n",
      "{'buy_wheat': 0.0, 'area_beet': 250.0, 'area_corn': 80.0, 'sell_wheat': 140.0, 'buy_corn': 48.0, 'sell_excess_beet': 0.0, 'sell_corn': 0.0, 'sell_beet': 4000.0, 'buy_beet': 0.0, 'area_wheat': 170.0}\n",
      "----------------------------------------\n",
      "average\n",
      "<gurobi.LinExpr: 131.555555568 area_beet + 48.5555555436 area_corn + 33.2222222313 area_wheat + -3.33333333333 sell_excess_beet + -56.6666666667 sell_wheat + 79.3333333333 buy_wheat + -50.0 sell_corn + 70.0 buy_corn + -12.0 sell_beet + 33.3333333333 buy_beet>\n",
      "{'buy_wheat': 0.0, 'area_beet': 250.0, 'area_corn': 80.0, 'sell_wheat': 225.0, 'buy_corn': 0.0, 'sell_excess_beet': 0.0, 'sell_corn': 0.0, 'sell_beet': 5000.0, 'buy_beet': 0.0, 'area_wheat': 170.0}\n",
      "----------------------------------------\n",
      "above\n",
      "<gurobi.LinExpr: 23.1111111032 area_beet + 100.111111126 area_corn + 90.1111111175 area_wheat + -3.33333333333 sell_excess_beet + -56.6666666667 sell_wheat + 79.3333333333 buy_wheat + -50.0 sell_corn + 70.0 buy_corn + -12.0 sell_beet + 33.3333333333 buy_beet>\n",
      "{'buy_wheat': 0.0, 'area_beet': 250.0, 'area_corn': 80.0, 'sell_wheat': 310.0, 'buy_corn': 0.0, 'sell_excess_beet': 0.0, 'sell_corn': 48.0, 'sell_beet': 6000.0, 'buy_beet': 0.0, 'area_wheat': 170.0}\n",
      "----------------------------------------\n"
     ]
    }
   ],
   "source": [
    "for sub_ind,sub in iteritems(sub_dict):\n",
    "    print('%s'%sub_ind)\n",
    "    print(sub.model.getObjective())\n",
    "    print(sub.x_dict)\n",
    "    print('-'*40)"
   ]
  },
  {
   "cell_type": "code",
   "execution_count": 16,
   "metadata": {
    "collapsed": false,
    "deletable": true,
    "editable": true
   },
   "outputs": [
    {
     "data": {
      "text/plain": [
       "<gurobi.Var z (value -108390.000004)>"
      ]
     },
     "execution_count": 16,
     "metadata": {},
     "output_type": "execute_result"
    }
   ],
   "source": [
    "### Bound\n",
    "master._z"
   ]
  },
  {
   "cell_type": "markdown",
   "metadata": {
    "deletable": true,
    "editable": true
   },
   "source": [
    "$$\n",
    "\\begin{align*}\n",
    "\\max_{x,y} \\quad & \\sum_k P_k \\left( \\sum_c p^s_c x^s_{c,k} - p^b_c x^b_{c,k}  - \\sum_c c_c a_c \\right)\\\\\n",
    "\\mathrm{s.t.} \\quad & \\sum_c a_c \\leq A \\\\\n",
    "& Y_{c,k}  a_c - x^s_{c,k} + x^b_{c,k} \\geq R_c \\\\\n",
    "& x^s_{\\mathrm{beet},k} \\leq Q(\\mathrm{beet}) \\\\\n",
    "& x^s_{\\mathrm{beet},c} + s^x_k \\leq Y_{\\mathrm{beet},k} a_\\mathrm{beet}\n",
    "\\end{align*}\n",
    "$$"
   ]
  },
  {
   "cell_type": "code",
   "execution_count": 17,
   "metadata": {
    "collapsed": false,
    "deletable": true,
    "editable": true
   },
   "outputs": [
    {
     "data": {
      "text/plain": [
       "<gurobi.LinExpr: 23.1111111032 area_beet + 100.111111126 area_corn + 90.1111111175 area_wheat + -3.33333333333 sell_excess_beet + -56.6666666667 sell_wheat + 79.3333333333 buy_wheat + -50.0 sell_corn + 70.0 buy_corn + -12.0 sell_beet + 33.3333333333 buy_beet>"
      ]
     },
     "execution_count": 17,
     "metadata": {},
     "output_type": "execute_result"
    }
   ],
   "source": [
    "sub.model.getObjective()"
   ]
  },
  {
   "cell_type": "code",
   "execution_count": 18,
   "metadata": {
    "collapsed": false,
    "deletable": true,
    "editable": true
   },
   "outputs": [
    {
     "data": {
      "text/plain": [
       "-108390.0"
      ]
     },
     "execution_count": 18,
     "metadata": {},
     "output_type": "execute_result"
    }
   ],
   "source": [
    "# Actual\n",
    "objval = 0.\n",
    "for scen,sub in iteritems(master.sub_dict):\n",
    "    objval += sub.ObjVal\n",
    "\n",
    "objval"
   ]
  },
  {
   "cell_type": "code",
   "execution_count": 19,
   "metadata": {
    "collapsed": false,
    "deletable": true,
    "editable": true
   },
   "outputs": [],
   "source": [
    "x_dict = {}\n",
    "for scen,sub in iteritems(master.sub_dict):\n",
    "    x_dict[scen] = sub.x_dict"
   ]
  },
  {
   "cell_type": "code",
   "execution_count": 20,
   "metadata": {
    "collapsed": false,
    "deletable": true,
    "editable": true
   },
   "outputs": [
    {
     "data": {
      "text/plain": [
       "{'above': {'area_beet': 250.0,\n",
       "  'area_corn': 80.0,\n",
       "  'area_wheat': 170.0,\n",
       "  'buy_beet': 0.0,\n",
       "  'buy_corn': 0.0,\n",
       "  'buy_wheat': 0.0,\n",
       "  'sell_beet': 6000.0,\n",
       "  'sell_corn': 48.0,\n",
       "  'sell_excess_beet': 0.0,\n",
       "  'sell_wheat': 310.0},\n",
       " 'average': {'area_beet': 250.0,\n",
       "  'area_corn': 80.0,\n",
       "  'area_wheat': 170.0,\n",
       "  'buy_beet': 0.0,\n",
       "  'buy_corn': 0.0,\n",
       "  'buy_wheat': 0.0,\n",
       "  'sell_beet': 5000.0,\n",
       "  'sell_corn': 0.0,\n",
       "  'sell_excess_beet': 0.0,\n",
       "  'sell_wheat': 225.0},\n",
       " 'below': {'area_beet': 250.0,\n",
       "  'area_corn': 80.0,\n",
       "  'area_wheat': 170.0,\n",
       "  'buy_beet': 0.0,\n",
       "  'buy_corn': 48.0,\n",
       "  'buy_wheat': 0.0,\n",
       "  'sell_beet': 4000.0,\n",
       "  'sell_corn': 0.0,\n",
       "  'sell_excess_beet': 0.0,\n",
       "  'sell_wheat': 140.0}}"
      ]
     },
     "execution_count": 20,
     "metadata": {},
     "output_type": "execute_result"
    }
   ],
   "source": [
    "x_dict"
   ]
  },
  {
   "cell_type": "code",
   "execution_count": 21,
   "metadata": {
    "collapsed": false,
    "deletable": true,
    "editable": true
   },
   "outputs": [
    {
     "name": "stdout",
     "output_type": "stream",
     "text": [
      "Scenario: below\n",
      "yk = [('buy_wheat', 0.0), ('area_beet', 250.0), ('area_corn', 80.0), ('sell_wheat', 140.0), ('buy_corn', 48.0), ('sell_excess_beet', 0.0), ('sell_corn', 0.0), ('sell_beet', 4000.0), ('buy_beet', 0.0), ('area_wheat', 170.0)]\n",
      "Hk*yk =[250.  80. 170. 250.  80. 170.]\n",
      "Scenario: average\n",
      "yk = [('buy_wheat', 0.0), ('area_beet', 250.0), ('area_corn', 80.0), ('sell_wheat', 225.0), ('buy_corn', 0.0), ('sell_excess_beet', 0.0), ('sell_corn', 0.0), ('sell_beet', 5000.0), ('buy_beet', 0.0), ('area_wheat', 170.0)]\n",
      "Hk*yk =[-250.  -80. -170.    0.    0.    0.]\n",
      "Scenario: above\n",
      "yk = [('buy_wheat', 0.0), ('area_beet', 250.0), ('area_corn', 80.0), ('sell_wheat', 310.0), ('buy_corn', 0.0), ('sell_excess_beet', 0.0), ('sell_corn', 48.0), ('sell_beet', 6000.0), ('buy_beet', 0.0), ('area_wheat', 170.0)]\n",
      "Hk*yk =[   0.    0.    0. -250.  -80. -170.]\n",
      "\n",
      "sum_k Hk*yk=\n",
      "[0. 0. 0. 0. 0. 0.]\n",
      "sum sum Hk*yk=0.0\n",
      "\n",
      " u = [-44.8888889   28.11111112  16.77777777  63.55555556 -23.44444446\n",
      " -40.11111111]\n"
     ]
    }
   ],
   "source": [
    "Hys = []\n",
    "sub_objs = []\n",
    "for sub_ind,sub in iteritems(sub_dict):\n",
    "    yk = np.array([sub.x_dict[x.VarName] for x in sub._ys])\n",
    "    Hyk = sub._H*yk\n",
    "    Hys.append(Hyk)    \n",
    "    sub_objs.append(sub.ObjVal)\n",
    "    print('Scenario: %s'%sub_ind)\n",
    "    print('yk = %s'%[(k,v) for k,v in iteritems(sub.x_dict)])\n",
    "    print('Hk*yk =%s' % Hyk)\n",
    "    \n",
    "print(\"\\nsum_k Hk*yk=\")\n",
    "print(sum(Hys))\n",
    "print(\"sum sum Hk*yk=%s\"%sum(sum(Hys)))\n",
    "print(\"\\n u = %s\" % master.uopt)"
   ]
  },
  {
   "cell_type": "code",
   "execution_count": 22,
   "metadata": {
    "collapsed": false,
    "deletable": true,
    "editable": true
   },
   "outputs": [
    {
     "name": "stdout",
     "output_type": "stream",
     "text": [
      "Scenario: below\n",
      "c*x = -52573.333333333336\n",
      "f*y = 36300.0\n",
      "cx + fy = -16273.333333333336\n",
      "u*Hk*yk = 1073.3333317749202\n",
      "Sub obj val: -15200.0000039\n",
      "----------------------------------------\n",
      "Scenario: average\n",
      "c*x = -72750.0\n",
      "f*y = 36300.0\n",
      "cx + fy = -36450.0\n",
      "u*Hk*yk = 6121.111113801599\n",
      "Sub obj val: -30328.8888852\n",
      "----------------------------------------\n",
      "Scenario: above\n",
      "c*x = -91966.66666666666\n",
      "f*y = 36300.0\n",
      "cx + fy = -55666.66666666666\n",
      "u*Hk*yk = -7194.444445576519\n",
      "Sub obj val: -62861.1111108\n",
      "----------------------------------------\n",
      "sum sum Hk*yk=0.0\n",
      "sum_k sub obj val: -108390.0\n",
      "sum_k cx + fy = -108390.0\n"
     ]
    }
   ],
   "source": [
    "Hys = []\n",
    "sub_objs = []\n",
    "cxs = []\n",
    "fys = []\n",
    "for sub_ind,sub in iteritems(master.sub_dict):\n",
    "    xk = np.array([sub.x_dict[x.VarName] for x in sub._xs])\n",
    "    yk = np.array([sub.x_dict[x.VarName] for x in sub._ys])\n",
    "    Hyk = sub._H*yk\n",
    "    Hys.append(Hyk)    \n",
    "    sub_objs.append(sub.ObjVal)\n",
    "    cx = np.dot(sub._cx, xk)\n",
    "    fy = np.dot(sub._fy, yk)\n",
    "    cxs.append(cx)\n",
    "    fys.append(fy)\n",
    "    print('Scenario: %s'%sub_ind)\n",
    "    print('c*x = %s' % cx)\n",
    "    print('f*y = %s' % fy)\n",
    "    print('cx + fy = %s'%(cx+fy))\n",
    "    uHy = np.dot(master.uopt, sub._H*yk)\n",
    "    print(\"u*Hk*yk = %s\" % (uHy))\n",
    "    print('Sub obj val: %s' % sub.ObjVal)    \n",
    "    print('-'*40)\n",
    "\n",
    "# print(\"\\nsum_k Hk*yk=\")\n",
    "# print(sum(Hys))\n",
    "print(\"sum sum Hk*yk=%s\"%sum(sum(Hys)))\n",
    "# print(\"\\n u = %s\" % master.uopt)\n",
    "print(\"sum_k sub obj val: %s\" % sum(sub_objs))\n",
    "print(\"sum_k cx + fy = %s\" % (sum(cxs)+sum(fys)))"
   ]
  },
  {
   "cell_type": "markdown",
   "metadata": {
    "deletable": true,
    "editable": true
   },
   "source": [
    "### See the problem. Constraint violation allows overall objective to be better.\n",
    "Because... sign of duals allowed to go in any direction"
   ]
  },
  {
   "cell_type": "code",
   "execution_count": 23,
   "metadata": {
    "collapsed": false,
    "deletable": true,
    "editable": true
   },
   "outputs": [
    {
     "name": "stdout",
     "output_type": "stream",
     "text": [
      "----------------------------------------\n",
      "below vs. average\n",
      "y0=[  0.   0. 500.].\t yk=[  0.  80. 420.]\n",
      "H0*y0 + Hk*yk =\n",
      "[  0. -80.  80.   0.   0. 500.]\n",
      "u*(H0*y0 + Hk*yk) =\n",
      "[    -0.          -2248.8888897    1342.22222179      0.\n",
      "     -0.         -20055.55555504]\n",
      "----------------------------------------\n",
      "below vs. above\n",
      "y0=[  0.   0. 500.].\t yk=[250.  67. 183.]\n",
      "H0*y0 + Hk*yk =\n",
      "[   0.    0.  500. -250.  -67.  317.]\n",
      "u*(H0*y0 + Hk*yk) =\n",
      "[    -0.              0.           8388.8888862  -15888.88889086\n",
      "   1570.77777862 -12715.22222189]\n",
      "sum Hk*yk = [   0.  -80.  580. -250.  -67.  817.]\n",
      "u = [-44.8888889   28.11111112  16.77777777  63.55555556 -23.44444446\n",
      " -40.11111111]\n"
     ]
    }
   ],
   "source": [
    "uopt = master.uopt\n",
    "sumHy = 0.\n",
    "sub_inds = master.sub_dict.keys()\n",
    "for k in range(len(sub_inds)-1):    \n",
    "    sub0 = master.sub_dict[sub_inds[0]]\n",
    "    sub0.update_obj(master.uopt)\n",
    "    sub0.optimize()\n",
    "    sub_ind = sub_inds[k+1]\n",
    "    subk = master.sub_dict[sub_ind]\n",
    "    subk.update_obj(master.uopt)\n",
    "    subk.optimize()\n",
    "    H0 = sub0._H\n",
    "    Hk = subk._H\n",
    "    y0 = sub0.yopt\n",
    "    yk = subk.yopt\n",
    "    uHy = uopt*(H0*y0 + Hk*yk)\n",
    "    Hy = H0*y0 + Hk*yk\n",
    "    sumHy += Hy\n",
    "    print('-'*40)\n",
    "    print('%s vs. %s'%(sub0._id, sub_ind))\n",
    "    print(\"y0=%s.\\t yk=%s\" % (y0,yk))\n",
    "    print('H0*y0 + Hk*yk =\\n%s' % (Hy))\n",
    "    print('u*(H0*y0 + Hk*yk) =\\n%s' % uHy)\n",
    "    #print('yk = %s' % {v.VarName:v.X for v in sub._ys})\n",
    "print(\"sum Hk*yk = %s\" % sumHy)\n",
    "print(\"u = %s\" % master.uopt)"
   ]
  },
  {
   "cell_type": "code",
   "execution_count": 24,
   "metadata": {
    "collapsed": false,
    "deletable": true,
    "editable": true
   },
   "outputs": [
    {
     "name": "stdout",
     "output_type": "stream",
     "text": [
      "[  0.   0. 500.]\n",
      "[250.  67. 183.]\n",
      "[   0.    0.  500. -250.  -67.  317.]\n"
     ]
    }
   ],
   "source": [
    "print(y0)\n",
    "print(yk)\n",
    "print(H0*y0 + Hk*yk)"
   ]
  },
  {
   "cell_type": "code",
   "execution_count": 25,
   "metadata": {
    "collapsed": false,
    "deletable": true,
    "editable": true
   },
   "outputs": [
    {
     "data": {
      "text/plain": [
       "[('area_beet', -0.0, 1000000.0),\n",
       " ('area_corn', -0.0, 1000000.0),\n",
       " ('area_wheat', -0.0, 1000000.0),\n",
       " ('sell_excess_beet', 0.0, 10000.0),\n",
       " ('sell_wheat', 0.0, 10000.0),\n",
       " ('buy_wheat', 0.0, 10000.0),\n",
       " ('sell_corn', 0.0, 10000.0),\n",
       " ('buy_corn', 0.0, 10000.0),\n",
       " ('sell_beet', 0.0, 6000.0),\n",
       " ('buy_beet', 0.0, 10000.0)]"
      ]
     },
     "execution_count": 25,
     "metadata": {},
     "output_type": "execute_result"
    }
   ],
   "source": [
    "[(v.VarName,v.LB,v.UB) for v in sub.model.getVars()]"
   ]
  },
  {
   "cell_type": "markdown",
   "metadata": {
    "deletable": true,
    "editable": true
   },
   "source": [
    "## Check that all constraints satisfied"
   ]
  },
  {
   "cell_type": "code",
   "execution_count": 26,
   "metadata": {
    "collapsed": false,
    "deletable": true,
    "editable": true
   },
   "outputs": [
    {
     "name": "stdout",
     "output_type": "stream",
     "text": [
      "('Scenario=below. Total area constraint:', True)\n",
      "('Scenario=average. Total area constraint:', True)\n",
      "('Scenario=above. Total area constraint:', True)\n"
     ]
    }
   ],
   "source": [
    "# Total area\n",
    "for sub_ind,sub in iteritems(sub_dict):\n",
    "    yopt = np.array([sol_master[y.VarName] for y in sub._ys])\n",
    "    print('Scenario=%s. Total area constraint:'%sub_ind, sum(yopt) <= total_area+master.feastol)"
   ]
  },
  {
   "cell_type": "code",
   "execution_count": 27,
   "metadata": {
    "collapsed": false,
    "deletable": true,
    "editable": true
   },
   "outputs": [
    {
     "data": {
      "text/plain": [
       "array([250.,  80., 170.])"
      ]
     },
     "execution_count": 27,
     "metadata": {},
     "output_type": "execute_result"
    }
   ],
   "source": [
    "yopt"
   ]
  },
  {
   "cell_type": "code",
   "execution_count": 28,
   "metadata": {
    "collapsed": false,
    "deletable": true,
    "editable": true
   },
   "outputs": [
    {
     "name": "stdout",
     "output_type": "stream",
     "text": [
      "Cattle feed crop requirement met?\n",
      "----------------------------------------\n",
      "below, beet: 0 >= 0, True\n",
      "below, corn: 240 >= 240, True\n",
      "below, wheat: 200 >= 200, True\n",
      "average, beet: 0 >= 0, True\n",
      "average, corn: 240 >= 240, True\n",
      "average, wheat: 200 >= 200, True\n",
      "above, beet: 0 >= 0, True\n",
      "above, corn: 240 >= 240, True\n",
      "above, wheat: 200 >= 200, True\n"
     ]
    }
   ],
   "source": [
    "# Cattle feed crop requirement\n",
    "print(\"Cattle feed crop requirement met?\\n%s\"%('-'*40))\n",
    "for scen,sub in iteritems(sub_dict):    \n",
    "    y_dict = sol_master\n",
    "    for c,req in iteritems(req_dict):\n",
    "        area = y_dict['area_%s'%c]\n",
    "        xsell = x_dict[scen]['sell_%s'%(c)]\n",
    "        xbuy = x_dict[scen]['buy_%s'%(c)]\n",
    "        lhs = yield_dict[scen][c]*area - xsell + xbuy\n",
    "        rhs = req\n",
    "        print('%s, %s: %g >= %g, %s'%(scen,c,lhs,rhs,lhs>=rhs))"
   ]
  }
 ],
 "metadata": {
  "kernelspec": {
   "display_name": "Python 2",
   "language": "python",
   "name": "python2"
  },
  "language_info": {
   "codemirror_mode": {
    "name": "ipython",
    "version": 2
   },
   "file_extension": ".py",
   "mimetype": "text/x-python",
   "name": "python",
   "nbconvert_exporter": "python",
   "pygments_lexer": "ipython2",
   "version": "2.7.14"
  }
 },
 "nbformat": 4,
 "nbformat_minor": 2
}
