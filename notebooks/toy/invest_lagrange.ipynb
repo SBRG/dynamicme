{
 "cells": [
  {
   "cell_type": "markdown",
   "metadata": {
    "deletable": true,
    "editable": true
   },
   "source": [
    "# Toy problem for debugging Dual Decomposition"
   ]
  },
  {
   "cell_type": "markdown",
   "metadata": {
    "deletable": true,
    "editable": true
   },
   "source": [
    "$$\n",
    "\\begin{align*}\n",
    "\\max_{x_k,y} \\quad & \\sum_k f_k'y + \\sum_k c_k'x_k \\\\\n",
    "\\mathrm{s.t.} \\quad & A_k x_k + B_k y \\leq d_k, \\\\\n",
    "& y\\in \\{0,1\\}.\n",
    "\\end{align*}\n",
    "$$"
   ]
  },
  {
   "cell_type": "markdown",
   "metadata": {
    "deletable": true,
    "editable": true
   },
   "source": [
    "$$\n",
    "\\begin{align*}\n",
    "\\max_{x_k,y_k} \\quad & \\sum_k f_k'y + \\sum_k c_k'x_k \\\\\n",
    "\\mathrm{s.t.} \\quad & A_k x_k + B_k y_k \\leq d_k, \\\\\n",
    "& \\sum_k H_k y_k = 0, \\\\\n",
    "& y_k\\in \\{0,1\\}.\n",
    "\\end{align*}\n",
    "$$"
   ]
  },
  {
   "cell_type": "code",
   "execution_count": 1,
   "metadata": {
    "collapsed": true,
    "deletable": true,
    "editable": true
   },
   "outputs": [],
   "source": [
    "CUT_STRATEGY = 'maximal'"
   ]
  },
  {
   "cell_type": "code",
   "execution_count": 2,
   "metadata": {
    "collapsed": false,
    "deletable": true,
    "editable": true
   },
   "outputs": [],
   "source": [
    "from __future__ import division\n",
    "from cobra import Model\n",
    "from dynamicme.optimize import Variable, Constraint\n",
    "from six import iteritems\n",
    "import numpy as np"
   ]
  },
  {
   "cell_type": "markdown",
   "metadata": {
    "deletable": true,
    "editable": true
   },
   "source": [
    "### Example from\n",
    "http://www.optirisk-systems.com/manuals/FortspManual.pdf"
   ]
  },
  {
   "cell_type": "markdown",
   "metadata": {
    "deletable": true,
    "editable": true
   },
   "source": [
    "$$\n",
    "\\begin{align*}\n",
    "\\max_{x,y} \\quad & \\sum_k P_k \\left( \\sum_c p^s_c x^s_{c,k} - p^b_c x^b_{c,k}  - \\sum_c c_c a_c \\right)\\\\\n",
    "\\mathrm{s.t.} \\quad & \\sum_c a_c \\leq A \\\\\n",
    "& Y_{c,k}  a_c - x^s_{c,k} + x^b_{c,k} \\geq R_c \\\\\n",
    "& x^s_{\\mathrm{beet},k} \\leq Q(\\mathrm{beet}) \\\\\n",
    "& x^s_{\\mathrm{beet},c} + s^x_k \\leq Y_{\\mathrm{beet},k} a_\\mathrm{beet}\n",
    "\\end{align*}\n",
    "$$"
   ]
  },
  {
   "cell_type": "code",
   "execution_count": 3,
   "metadata": {
    "collapsed": true,
    "deletable": true,
    "editable": true
   },
   "outputs": [],
   "source": [
    "from dynamicme.decomposition import LagrangeMaster, LagrangeSubmodel"
   ]
  },
  {
   "cell_type": "code",
   "execution_count": 4,
   "metadata": {
    "collapsed": false,
    "deletable": true,
    "editable": true
   },
   "outputs": [],
   "source": [
    "#------------------------------------------------------------\n",
    "# Data\n",
    "crops = ['wheat','corn','beet']\n",
    "total_area = 500.  # Total acres\n",
    "prob_dict = {'below':1./3, 'average':1./3, 'above':1./3}\n",
    "# Yields (tons/acre) over scenarios\n",
    "yield_dict = {}\n",
    "yield_dict['below'] = {'wheat':2., 'corn':2.4, 'beet':16.}\n",
    "yield_dict['average'] = {'wheat':2.5, 'corn':3., 'beet':20.}\n",
    "yield_dict['above'] = {'wheat':3., 'corn':3.6, 'beet':24.}\n",
    "# Planting costs\n",
    "plantcost_dict={'wheat':150, 'corn':230, 'beet':260}   # $/ton\n",
    "sellprice_dict = {'wheat':170, 'corn':150, 'beet':36}  # $/ton\n",
    "excess_sell_price = 10    # beet sell price ($/ton) when quota exceeded\n",
    "beet_quota = 6000   # tons\n",
    "buyprice_dict = {'wheat':238, 'corn':210, 'beet':100}  # $/ton\n",
    "req_dict = {'wheat':200., 'corn':240., 'beet':0.} # tons required to feed cattle\n",
    "#------------------------------------------------------------\n",
    "# Area is complicating (first-stage) variable"
   ]
  },
  {
   "cell_type": "code",
   "execution_count": 5,
   "metadata": {
    "collapsed": false,
    "deletable": true,
    "editable": true
   },
   "outputs": [],
   "source": [
    "# Create subproblems\n",
    "UB = 1e4\n",
    "sub_dict = {}\n",
    "for scen,yields in iteritems(yield_dict):\n",
    "    # Each subproblem gets its own copy of first-stage variables\n",
    "    area_dict = {c:Variable('area_%s'%c, lower_bound=0., upper_bound=1e6,\n",
    "        objective_coefficient=prob_dict[scen]*plantcost_dict[c]) for c in crops}\n",
    "    for y in area_dict.values():\n",
    "        y.variable_kind = 'integer'\n",
    "    mdl = Model('sub')\n",
    "    mdl.add_reactions(area_dict.values())\n",
    "    # Global constraint: sum_a <= Area\n",
    "    cons_area = Constraint('total_area')\n",
    "    cons_area._bound = total_area\n",
    "    cons_area._constraint_sense = 'L'\n",
    "    mdl.add_metabolites(cons_area)\n",
    "    for y in area_dict.values():\n",
    "        y.add_metabolites({cons_area:1.}, combine=False)\n",
    "\n",
    "    # MAX sell price\n",
    "    x_excess = Variable('sell_excess_beet', lower_bound=0., upper_bound=UB)\n",
    "    x_excess.objective_coefficient = -prob_dict[scen]*excess_sell_price    \n",
    "    mdl.add_reaction(x_excess)\n",
    "    \n",
    "    for c in crops:\n",
    "        ### Scenario variables x: tons sold, bought, excess sold per scenario\n",
    "        x_sell = Variable('sell_%s'%(c), lower_bound=0., upper_bound=UB)\n",
    "        x_buy  =  Variable('buy_%s'%(c), lower_bound=0., upper_bound=UB)\n",
    "        mdl.add_reactions([x_sell,x_buy])        \n",
    "        x_sell.objective_coefficient = -prob_dict[scen]*sellprice_dict[c]\n",
    "        x_buy.objective_coefficient = prob_dict[scen]*buyprice_dict[c]\n",
    "        \n",
    "        ### Scenario constraint: Y_ck*ac - xs_ck + xb_ck >= Req_c        \n",
    "        cons = Constraint('required_%s'%c)\n",
    "        cons._bound = req_dict[c]\n",
    "        cons._constraint_sense = 'G'        \n",
    "        mdl.add_metabolites(cons)\n",
    "        area = area_dict[c]\n",
    "        area.add_metabolites({cons:yield_dict[scen][c]})\n",
    "        x_sell.add_metabolites({cons:-1.})\n",
    "        x_buy.add_metabolites({cons:1.})\n",
    "        \n",
    "        ### Beet quota\n",
    "        if c=='beet':\n",
    "            x_sell.upper_bound = beet_quota\n",
    "            # xs_beet,k + xexcess_k <= Yield_beet,k * area_beet\n",
    "            cons_beet = Constraint('beet_balance')\n",
    "            cons_beet._bound = 0.\n",
    "            cons_beet._constraint_sense = 'L'\n",
    "            x_sell.add_metabolites({cons_beet:1.})\n",
    "            x_excess.add_metabolites({cons_beet:1.})\n",
    "            area_dict[c].add_metabolites({cons_beet:-yield_dict[scen][c]})\n",
    "    \n",
    "    sub = LagrangeSubmodel(mdl, scen)\n",
    "    sub_dict[scen] = sub"
   ]
  },
  {
   "cell_type": "code",
   "execution_count": 6,
   "metadata": {
    "collapsed": false,
    "deletable": true,
    "editable": true
   },
   "outputs": [],
   "source": [
    "master = LagrangeMaster(mdl)\n",
    "master._INF = 1e6\n",
    "master.add_submodels(sub_dict)\n",
    "master._z.LB = -master._INF\n",
    "master._z.UB = master._INF\n",
    "master.model.update()"
   ]
  },
  {
   "cell_type": "code",
   "execution_count": 7,
   "metadata": {
    "collapsed": false,
    "deletable": true,
    "editable": true
   },
   "outputs": [
    {
     "name": "stdout",
     "output_type": "stream",
     "text": [
      "('z', -1000000.0, 1000000.0)\n",
      "('tk_below', -1000000.0, 1000000.0)\n",
      "('tk_average', -1000000.0, 1000000.0)\n",
      "('tk_above', -1000000.0, 1000000.0)\n",
      "('u_00', -1000000.0, 1000000.0)\n",
      "('u_01', -1000000.0, 1000000.0)\n",
      "('u_10', -1000000.0, 1000000.0)\n",
      "('u_11', -1000000.0, 1000000.0)\n",
      "('u_20', -1000000.0, 1000000.0)\n",
      "('u_21', -1000000.0, 1000000.0)\n"
     ]
    }
   ],
   "source": [
    "for v in master.model.getVars():\n",
    "    print(v.VarName, v.LB, v.UB)"
   ]
  },
  {
   "cell_type": "code",
   "execution_count": 8,
   "metadata": {
    "collapsed": false
   },
   "outputs": [
    {
     "data": {
      "text/plain": [
       "[<gurobi.Var u_00>,\n",
       " <gurobi.Var u_01>,\n",
       " <gurobi.Var u_10>,\n",
       " <gurobi.Var u_11>,\n",
       " <gurobi.Var u_20>,\n",
       " <gurobi.Var u_21>]"
      ]
     },
     "execution_count": 8,
     "metadata": {},
     "output_type": "execute_result"
    }
   ],
   "source": [
    "master._us"
   ]
  },
  {
   "cell_type": "code",
   "execution_count": 9,
   "metadata": {
    "collapsed": false,
    "deletable": true,
    "editable": true
   },
   "outputs": [
    {
     "name": "stdout",
     "output_type": "stream",
     "text": [
      "H_below\n",
      "[[1. 0. 0.]\n",
      " [0. 1. 0.]\n",
      " [0. 0. 1.]\n",
      " [0. 0. 0.]\n",
      " [0. 0. 0.]\n",
      " [0. 0. 0.]]\n",
      "H_average\n",
      "[[-1.  0.  0.]\n",
      " [ 0. -1.  0.]\n",
      " [ 0.  0. -1.]\n",
      " [ 1.  0.  0.]\n",
      " [ 0.  1.  0.]\n",
      " [ 0.  0.  1.]]\n",
      "H_above\n",
      "[[ 0.  0.  0.]\n",
      " [ 0.  0.  0.]\n",
      " [ 0.  0.  0.]\n",
      " [-1.  0.  0.]\n",
      " [ 0. -1.  0.]\n",
      " [ 0.  0. -1.]]\n"
     ]
    }
   ],
   "source": [
    "for sub_ind,sub in iteritems(sub_dict):\n",
    "    print('H_%s'%sub_ind)\n",
    "    print(sub._H.todense())"
   ]
  },
  {
   "cell_type": "code",
   "execution_count": 10,
   "metadata": {
    "collapsed": false,
    "deletable": true,
    "editable": true
   },
   "outputs": [
    {
     "name": "stdout",
     "output_type": "stream",
     "text": [
      "(<gurobi.LinExpr: z + -1.0 tk_below + -1.0 tk_average + -1.0 tk_above>, '<', 0.0)\n"
     ]
    }
   ],
   "source": [
    "cc = master.model.getConstrs()[0]\n",
    "print(master.model.getRow(cc), cc.Sense, cc.RHS)"
   ]
  },
  {
   "cell_type": "code",
   "execution_count": 11,
   "metadata": {
    "collapsed": false,
    "deletable": true,
    "editable": true
   },
   "outputs": [
    {
     "data": {
      "text/plain": [
       "<gurobi.QuadExpr: z + [ -0.5 u_00 ^ 2 + -0.5 u_01 ^ 2 + -0.5 u_10 ^ 2 + -0.5 u_11 ^ 2 + -0.5 u_20 ^ 2 + -0.5 u_21 ^ 2 ]>"
      ]
     },
     "execution_count": 11,
     "metadata": {},
     "output_type": "execute_result"
    }
   ],
   "source": [
    "master.model.getObjective()"
   ]
  },
  {
   "cell_type": "code",
   "execution_count": 12,
   "metadata": {
    "collapsed": false,
    "deletable": true,
    "editable": true
   },
   "outputs": [
    {
     "name": "stdout",
     "output_type": "stream",
     "text": [
      "(<gurobi.LinExpr: z + -1.0 tk_below + -1.0 tk_average + -1.0 tk_above>, '<', 0.0)\n"
     ]
    }
   ],
   "source": [
    "cz = master.model.getConstrByName('z_cut')\n",
    "print(master.model.getRow(cz), cz.Sense, cz.RHS)"
   ]
  },
  {
   "cell_type": "code",
   "execution_count": 13,
   "metadata": {
    "collapsed": true,
    "deletable": true,
    "editable": true
   },
   "outputs": [],
   "source": [
    "from dynamicme.callback_gurobi import cb_benders_multi"
   ]
  },
  {
   "cell_type": "markdown",
   "metadata": {
    "deletable": true,
    "editable": true
   },
   "source": [
    "# Solve using callbacks"
   ]
  },
  {
   "cell_type": "code",
   "execution_count": 14,
   "metadata": {
    "collapsed": false,
    "deletable": true,
    "editable": true
   },
   "outputs": [
    {
     "name": "stdout",
     "output_type": "stream",
     "text": [
      "        Iter          UB          LB     Best UB     Best LB         gap   relgap(%)     time(s)\n",
      "           0       1e+06  -1.154e+05       1e+06  -1.154e+05   1.115e+06       111.5    0.007625\n",
      "           1  -9.971e+04  -1.413e+05  -9.971e+04  -1.154e+05   1.569e+04       15.73    0.010076\n",
      "           2   -1.07e+05  -1.142e+05   -1.07e+05  -1.142e+05        7185       6.715    0.012454\n",
      "           3  -1.075e+05  -1.104e+05  -1.075e+05  -1.104e+05        2880       2.679    0.014895\n",
      "           4  -1.095e+05  -1.095e+05  -1.095e+05  -1.095e+05   1.081e-07   9.871e-11    0.017168\n",
      "relgap (%g) <= gaptol (%g). Finished.\n"
     ]
    }
   ],
   "source": [
    "master.model.Params.Presolve = 0\n",
    "master.print_iter=1\n",
    "uopt = master.optimize() "
   ]
  },
  {
   "cell_type": "markdown",
   "metadata": {
    "deletable": true,
    "editable": true
   },
   "source": [
    "## Check answer: should be \n",
    "- {'wheat':170, 'corn':80, 'beet':250}\n",
    "- objval = (-)108390"
   ]
  },
  {
   "cell_type": "code",
   "execution_count": 15,
   "metadata": {
    "collapsed": false
   },
   "outputs": [
    {
     "data": {
      "text/plain": [
       "array([ 17.        ,   3.        , -20.        ,  50.        ,\n",
       "       -16.66666667, -33.33333333])"
      ]
     },
     "execution_count": 15,
     "metadata": {},
     "output_type": "execute_result"
    }
   ],
   "source": [
    "uopt"
   ]
  },
  {
   "cell_type": "code",
   "execution_count": 16,
   "metadata": {
    "collapsed": false,
    "deletable": true,
    "editable": true
   },
   "outputs": [
    {
     "data": {
      "text/plain": [
       "<gurobi.Var z (value -109506.666667)>"
      ]
     },
     "execution_count": 16,
     "metadata": {},
     "output_type": "execute_result"
    }
   ],
   "source": [
    "master._z"
   ]
  },
  {
   "cell_type": "code",
   "execution_count": 17,
   "metadata": {
    "collapsed": false,
    "deletable": true,
    "editable": true
   },
   "outputs": [],
   "source": [
    "x_dict = {}\n",
    "for scen,sub in iteritems(master.sub_dict):\n",
    "    #sub.update_obj(yopt)\n",
    "    #sub.model.optimize()\n",
    "    x_dict[scen] = {v.VarName:v.X for v in sub.model.getVars()}"
   ]
  },
  {
   "cell_type": "code",
   "execution_count": 18,
   "metadata": {
    "collapsed": false,
    "deletable": true,
    "editable": true
   },
   "outputs": [
    {
     "data": {
      "text/plain": [
       "{'above': {'area_beet': 250.0,\n",
       "  'area_corn': 183.0,\n",
       "  'area_wheat': 67.0,\n",
       "  'buy_beet': 0.0,\n",
       "  'buy_corn': 0.0,\n",
       "  'buy_wheat': 0.0,\n",
       "  'sell_beet': 6000.0,\n",
       "  'sell_corn': 418.8000000000005,\n",
       "  'sell_excess_beet': 0.0,\n",
       "  'sell_wheat': 0.9999999999999858},\n",
       " 'average': {'area_beet': 300.0,\n",
       "  'area_corn': 80.0,\n",
       "  'area_wheat': 120.0,\n",
       "  'buy_beet': 0.0,\n",
       "  'buy_corn': 0.0,\n",
       "  'buy_wheat': 0.0,\n",
       "  'sell_beet': 6000.0,\n",
       "  'sell_corn': 0.0,\n",
       "  'sell_excess_beet': 0.0,\n",
       "  'sell_wheat': 100.0},\n",
       " 'below': {'area_beet': 300.0,\n",
       "  'area_corn': 100.0,\n",
       "  'area_wheat': 100.0,\n",
       "  'buy_beet': 0.0,\n",
       "  'buy_corn': 0.0,\n",
       "  'buy_wheat': 0.0,\n",
       "  'sell_beet': 4800.0,\n",
       "  'sell_corn': 0.0,\n",
       "  'sell_excess_beet': 0.0,\n",
       "  'sell_wheat': 0.0}}"
      ]
     },
     "execution_count": 18,
     "metadata": {},
     "output_type": "execute_result"
    }
   ],
   "source": [
    "x_dict"
   ]
  },
  {
   "cell_type": "code",
   "execution_count": 21,
   "metadata": {
    "collapsed": false
   },
   "outputs": [
    {
     "data": {
      "text/plain": [
       "[<gurobi.Var area_beet (value 250.0)>,\n",
       " <gurobi.Var area_corn (value 183.0)>,\n",
       " <gurobi.Var area_wheat (value 67.0)>]"
      ]
     },
     "execution_count": 21,
     "metadata": {},
     "output_type": "execute_result"
    }
   ],
   "source": [
    "sub._ys"
   ]
  },
  {
   "cell_type": "code",
   "execution_count": 41,
   "metadata": {
    "collapsed": false,
    "deletable": true,
    "editable": true
   },
   "outputs": [
    {
     "name": "stdout",
     "output_type": "stream",
     "text": [
      "Scenario: below\n",
      "yk = [300. 100. 100.]\n",
      "Hk*yk =[300. 100. 100.   0.   0.   0.]\n",
      "Scenario: average\n",
      "yk = [300.  80. 120.]\n",
      "Hk*yk =[-300.  -80. -120.  300.   80.  120.]\n",
      "Scenario: above\n",
      "yk = [250. 183.  67.]\n",
      "Hk*yk =[   0.    0.    0. -250. -183.  -67.]\n",
      "\n",
      "sum_k Hk*yk=\n",
      "[   0.   20.  -20.   50. -103.   53.]\n"
     ]
    }
   ],
   "source": [
    "Hys = []\n",
    "for sub_ind,sub in iteritems(sub_dict):\n",
    "    yk = np.array([x.X for x in sub._ys])\n",
    "    Hyk = sub._H*yk\n",
    "    Hys.append(Hyk)    \n",
    "    print('Scenario: %s'%sub_ind)\n",
    "    print('yk = %s'%yk)\n",
    "    print('Hk*yk =%s' % Hyk)\n",
    "    \n",
    "print(\"\\nsum_k Hk*yk=\")\n",
    "print(sum(Hys))"
   ]
  },
  {
   "cell_type": "markdown",
   "metadata": {
    "deletable": true,
    "editable": true
   },
   "source": [
    "## Check that all constraints satisfied"
   ]
  },
  {
   "cell_type": "code",
   "execution_count": 37,
   "metadata": {
    "collapsed": false,
    "deletable": true,
    "editable": true
   },
   "outputs": [
    {
     "name": "stdout",
     "output_type": "stream",
     "text": [
      "('Scenario=below. Total area constraint:', True)\n",
      "('Scenario=average. Total area constraint:', True)\n",
      "('Scenario=above. Total area constraint:', True)\n"
     ]
    }
   ],
   "source": [
    "# Total area\n",
    "for sub_ind,sub in iteritems(sub_dict):\n",
    "    yopt = [v.X for v in sub._ys]\n",
    "    print('Scenario=%s. Total area constraint:'%sub_ind, sum(yopt) <= total_area)"
   ]
  },
  {
   "cell_type": "code",
   "execution_count": null,
   "metadata": {
    "collapsed": false,
    "deletable": true,
    "editable": true
   },
   "outputs": [],
   "source": [
    "# Cattle feed crop requirement\n",
    "y_dict = {y.VarName:y.X for y in master._ys}\n",
    "for scen in prob_dict.keys():\n",
    "    for c,req in iteritems(req_dict):\n",
    "        area = y_dict['area_%s'%c]\n",
    "        xsell = x_dict[scen]['sell_%s'%(c)]\n",
    "        xbuy = x_dict[scen]['buy_%s'%(c)]\n",
    "        lhs = yield_dict[scen][c]*area - xsell + xbuy\n",
    "        rhs = req\n",
    "        print('%s, %s: %g >= %g, %s'%(scen,c,lhs,rhs,lhs>=rhs))"
   ]
  },
  {
   "cell_type": "markdown",
   "metadata": {
    "deletable": true,
    "editable": true
   },
   "source": [
    "master.model.optimize(cb_benders_multi)"
   ]
  },
  {
   "cell_type": "code",
   "execution_count": null,
   "metadata": {
    "collapsed": true,
    "deletable": true,
    "editable": true
   },
   "outputs": [],
   "source": []
  },
  {
   "cell_type": "markdown",
   "metadata": {
    "deletable": true,
    "editable": true
   },
   "source": [
    "yopt = np.array([y.X for y in master._ys])\n",
    "xopt = []\n",
    "for k in range(len(c)):\n",
    "    sub = sub_dict[k]\n",
    "    sub.update_obj(yopt)\n",
    "    sub.model.optimize()\n",
    "    xc = sub.model.model.getConstrByName('x%d'%k)\n",
    "    xopt.append(xc.Pi)"
   ]
  }
 ],
 "metadata": {
  "kernelspec": {
   "display_name": "Python 2",
   "language": "python",
   "name": "python2"
  },
  "language_info": {
   "codemirror_mode": {
    "name": "ipython",
    "version": 2
   },
   "file_extension": ".py",
   "mimetype": "text/x-python",
   "name": "python",
   "nbconvert_exporter": "python",
   "pygments_lexer": "ipython2",
   "version": "2.7.14"
  }
 },
 "nbformat": 4,
 "nbformat_minor": 2
}
