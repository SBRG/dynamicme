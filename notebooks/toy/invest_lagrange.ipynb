{
 "cells": [
  {
   "cell_type": "markdown",
   "metadata": {
    "deletable": true,
    "editable": true
   },
   "source": [
    "# Toy problem for debugging Dual Decomposition"
   ]
  },
  {
   "cell_type": "markdown",
   "metadata": {
    "deletable": true,
    "editable": true
   },
   "source": [
    "$$\n",
    "\\begin{align*}\n",
    "\\max_{x_k,y} \\quad & \\sum_k f_k'y + \\sum_k c_k'x_k \\\\\n",
    "\\mathrm{s.t.} \\quad & A_k x_k + B_k y \\leq d_k, \\\\\n",
    "& y\\in \\{0,1\\}.\n",
    "\\end{align*}\n",
    "$$"
   ]
  },
  {
   "cell_type": "markdown",
   "metadata": {
    "deletable": true,
    "editable": true
   },
   "source": [
    "$$\n",
    "\\begin{align*}\n",
    "\\max_{x_k,y_k} \\quad & \\sum_k f_k'y + \\sum_k c_k'x_k \\\\\n",
    "\\mathrm{s.t.} \\quad & A_k x_k + B_k y_k \\leq d_k, \\\\\n",
    "& \\sum_k H_k y_k = 0, \\\\\n",
    "& y_k\\in \\{0,1\\}.\n",
    "\\end{align*}\n",
    "$$"
   ]
  },
  {
   "cell_type": "code",
   "execution_count": 1,
   "metadata": {
    "collapsed": true,
    "deletable": true,
    "editable": true
   },
   "outputs": [],
   "source": [
    "RELAX_LP = True"
   ]
  },
  {
   "cell_type": "code",
   "execution_count": 2,
   "metadata": {
    "collapsed": false,
    "deletable": true,
    "editable": true
   },
   "outputs": [],
   "source": [
    "from __future__ import division\n",
    "from cobra import Model\n",
    "from dynamicme.optimize import Variable, Constraint\n",
    "from six import iteritems\n",
    "import numpy as np"
   ]
  },
  {
   "cell_type": "markdown",
   "metadata": {
    "deletable": true,
    "editable": true
   },
   "source": [
    "### Example from\n",
    "http://www.optirisk-systems.com/manuals/FortspManual.pdf"
   ]
  },
  {
   "cell_type": "markdown",
   "metadata": {
    "deletable": true,
    "editable": true
   },
   "source": [
    "$$\n",
    "\\begin{align*}\n",
    "\\max_{x,y} \\quad & \\sum_k P_k \\left( \\sum_c p^s_c x^s_{c,k} - p^b_c x^b_{c,k}  - \\sum_c c_c a_c \\right)\\\\\n",
    "\\mathrm{s.t.} \\quad & \\sum_c a_c \\leq A \\\\\n",
    "& Y_{c,k}  a_c - x^s_{c,k} + x^b_{c,k} \\geq R_c \\\\\n",
    "& x^s_{\\mathrm{beet},k} \\leq Q(\\mathrm{beet}) \\\\\n",
    "& x^s_{\\mathrm{beet},c} + s^x_k \\leq Y_{\\mathrm{beet},k} a_\\mathrm{beet}\n",
    "\\end{align*}\n",
    "$$"
   ]
  },
  {
   "cell_type": "code",
   "execution_count": 3,
   "metadata": {
    "collapsed": false,
    "deletable": true,
    "editable": true
   },
   "outputs": [],
   "source": [
    "from dynamicme.decomposition import LagrangeMaster, LagrangeSubmodel"
   ]
  },
  {
   "cell_type": "code",
   "execution_count": 4,
   "metadata": {
    "collapsed": false,
    "deletable": true,
    "editable": true
   },
   "outputs": [],
   "source": [
    "#------------------------------------------------------------\n",
    "# Data\n",
    "crops = ['wheat','corn','beet']\n",
    "total_area = 500.  # Total acres\n",
    "prob_dict = {'below':1./3, 'average':1./3, 'above':1./3}\n",
    "# Yields (tons/acre) over scenarios\n",
    "yield_dict = {}\n",
    "yield_dict['below'] = {'wheat':2., 'corn':2.4, 'beet':16.}\n",
    "yield_dict['average'] = {'wheat':2.5, 'corn':3., 'beet':20.}\n",
    "yield_dict['above'] = {'wheat':3., 'corn':3.6, 'beet':24.}\n",
    "# Planting costs\n",
    "plantcost_dict={'wheat':150, 'corn':230, 'beet':260}   # $/ton\n",
    "sellprice_dict = {'wheat':170, 'corn':150, 'beet':36}  # $/ton\n",
    "excess_sell_price = 10    # beet sell price ($/ton) when quota exceeded\n",
    "beet_quota = 6000   # tons\n",
    "buyprice_dict = {'wheat':238, 'corn':210, 'beet':100}  # $/ton\n",
    "req_dict = {'wheat':200., 'corn':240., 'beet':0.} # tons required to feed cattle\n",
    "#------------------------------------------------------------\n",
    "# Area is complicating (first-stage) variable"
   ]
  },
  {
   "cell_type": "code",
   "execution_count": 5,
   "metadata": {
    "collapsed": false,
    "deletable": true,
    "editable": true
   },
   "outputs": [],
   "source": [
    "# Create subproblems\n",
    "UB = 1e4\n",
    "sub_dict = {}\n",
    "for scen,yields in iteritems(yield_dict):\n",
    "    # Each subproblem gets its own copy of first-stage variables\n",
    "    area_dict = {c:Variable('area_%s'%c, lower_bound=0., upper_bound=1e6,\n",
    "        objective_coefficient=prob_dict[scen]*plantcost_dict[c]) for c in crops}\n",
    "    for y in area_dict.values():\n",
    "        y.variable_kind = 'integer'\n",
    "    mdl = Model('sub')\n",
    "    mdl.add_reactions(area_dict.values())\n",
    "    # Global constraint: sum_a <= Area\n",
    "    cons_area = Constraint('total_area')\n",
    "    cons_area._bound = total_area\n",
    "    cons_area._constraint_sense = 'L'\n",
    "    mdl.add_metabolites(cons_area)\n",
    "    for y in area_dict.values():\n",
    "        y.add_metabolites({cons_area:1.}, combine=False)\n",
    "\n",
    "    # MAX sell price\n",
    "    x_excess = Variable('sell_excess_beet', lower_bound=0., upper_bound=UB)\n",
    "    x_excess.objective_coefficient = -prob_dict[scen]*excess_sell_price    \n",
    "    mdl.add_reaction(x_excess)\n",
    "    \n",
    "    for c in crops:\n",
    "        ### Scenario variables x: tons sold, bought, excess sold per scenario\n",
    "        x_sell = Variable('sell_%s'%(c), lower_bound=0., upper_bound=UB)\n",
    "        x_buy  =  Variable('buy_%s'%(c), lower_bound=0., upper_bound=UB)\n",
    "        mdl.add_reactions([x_sell,x_buy])        \n",
    "        x_sell.objective_coefficient = -prob_dict[scen]*sellprice_dict[c]\n",
    "        x_buy.objective_coefficient = prob_dict[scen]*buyprice_dict[c]\n",
    "        \n",
    "        ### Scenario constraint: Y_ck*ac - xs_ck + xb_ck >= Req_c        \n",
    "        cons = Constraint('required_%s'%c)\n",
    "        cons._bound = req_dict[c]\n",
    "        cons._constraint_sense = 'G'        \n",
    "        mdl.add_metabolites(cons)\n",
    "        area = area_dict[c]\n",
    "        area.add_metabolites({cons:yield_dict[scen][c]})\n",
    "        x_sell.add_metabolites({cons:-1.})\n",
    "        x_buy.add_metabolites({cons:1.})\n",
    "        \n",
    "        ### Beet quota\n",
    "        if c=='beet':\n",
    "            x_sell.upper_bound = beet_quota\n",
    "            # xs_beet,k + xexcess_k <= Yield_beet,k * area_beet\n",
    "            cons_beet = Constraint('beet_balance')\n",
    "            cons_beet._bound = 0.\n",
    "            cons_beet._constraint_sense = 'L'\n",
    "            x_sell.add_metabolites({cons_beet:1.})\n",
    "            x_excess.add_metabolites({cons_beet:1.})\n",
    "            area_dict[c].add_metabolites({cons_beet:-yield_dict[scen][c]})\n",
    "    \n",
    "    sub = LagrangeSubmodel(mdl, scen)\n",
    "    sub_dict[scen] = sub"
   ]
  },
  {
   "cell_type": "code",
   "execution_count": 6,
   "metadata": {
    "collapsed": false,
    "deletable": true,
    "editable": true
   },
   "outputs": [],
   "source": [
    "master = LagrangeMaster(mdl)\n",
    "master._INF = 1e7\n",
    "master.add_submodels(sub_dict)\n",
    "master._z.LB = -master._INF\n",
    "master._z.UB = master._INF\n",
    "master.model.update()"
   ]
  },
  {
   "cell_type": "code",
   "execution_count": 7,
   "metadata": {
    "collapsed": false
   },
   "outputs": [
    {
     "data": {
      "text/plain": [
       "<gurobi.QuadExpr: z + [ -0.5 u_00 ^ 2 + -0.5 u_01 ^ 2 + -0.5 u_02 ^ 2 + -0.5 u_10 ^ 2 + -0.5 u_11 ^ 2 + -0.5 u_12 ^ 2 ]>"
      ]
     },
     "execution_count": 7,
     "metadata": {},
     "output_type": "execute_result"
    }
   ],
   "source": [
    "obj = master.model.getObjective()\n",
    "obj"
   ]
  },
  {
   "cell_type": "code",
   "execution_count": 8,
   "metadata": {
    "collapsed": false,
    "deletable": true,
    "editable": true
   },
   "outputs": [
    {
     "name": "stdout",
     "output_type": "stream",
     "text": [
      "('z', -10000000.0, 10000000.0)\n",
      "('tk_below', -10000000.0, 10000000.0)\n",
      "('tk_average', -10000000.0, 10000000.0)\n",
      "('tk_above', -10000000.0, 10000000.0)\n",
      "('u_00', -10000000.0, 10000000.0)\n",
      "('u_01', -10000000.0, 10000000.0)\n",
      "('u_02', -10000000.0, 10000000.0)\n",
      "('u_10', -10000000.0, 10000000.0)\n",
      "('u_11', -10000000.0, 10000000.0)\n",
      "('u_12', -10000000.0, 10000000.0)\n"
     ]
    }
   ],
   "source": [
    "for v in master.model.getVars():\n",
    "    print(v.VarName, v.LB, v.UB)"
   ]
  },
  {
   "cell_type": "code",
   "execution_count": 9,
   "metadata": {
    "collapsed": false,
    "deletable": true,
    "editable": true
   },
   "outputs": [
    {
     "name": "stdout",
     "output_type": "stream",
     "text": [
      "H_below\n",
      "[[1. 0. 0.]\n",
      " [0. 1. 0.]\n",
      " [0. 0. 1.]\n",
      " [0. 0. 0.]\n",
      " [0. 0. 0.]\n",
      " [0. 0. 0.]]\n",
      "H_average\n",
      "[[-1.  0.  0.]\n",
      " [ 0. -1.  0.]\n",
      " [ 0.  0. -1.]\n",
      " [ 1.  0.  0.]\n",
      " [ 0.  1.  0.]\n",
      " [ 0.  0.  1.]]\n",
      "H_above\n",
      "[[ 0.  0.  0.]\n",
      " [ 0.  0.  0.]\n",
      " [ 0.  0.  0.]\n",
      " [-1.  0.  0.]\n",
      " [ 0. -1.  0.]\n",
      " [ 0.  0. -1.]]\n"
     ]
    }
   ],
   "source": [
    "for sub_ind,sub in iteritems(sub_dict):\n",
    "    print('H_%s'%sub_ind)\n",
    "    print(sub._H.todense())"
   ]
  },
  {
   "cell_type": "code",
   "execution_count": 10,
   "metadata": {
    "collapsed": false,
    "deletable": true,
    "editable": true
   },
   "outputs": [
    {
     "name": "stdout",
     "output_type": "stream",
     "text": [
      "(<gurobi.LinExpr: z + -1.0 tk_below + -1.0 tk_average + -1.0 tk_above>, '<', 0.0)\n"
     ]
    }
   ],
   "source": [
    "cc = master.model.getConstrs()[0]\n",
    "print(master.model.getRow(cc), cc.Sense, cc.RHS)"
   ]
  },
  {
   "cell_type": "code",
   "execution_count": 11,
   "metadata": {
    "collapsed": false,
    "deletable": true,
    "editable": true
   },
   "outputs": [
    {
     "data": {
      "text/plain": [
       "<gurobi.QuadExpr: z + [ -0.5 u_00 ^ 2 + -0.5 u_01 ^ 2 + -0.5 u_02 ^ 2 + -0.5 u_10 ^ 2 + -0.5 u_11 ^ 2 + -0.5 u_12 ^ 2 ]>"
      ]
     },
     "execution_count": 11,
     "metadata": {},
     "output_type": "execute_result"
    }
   ],
   "source": [
    "master.model.getObjective()"
   ]
  },
  {
   "cell_type": "code",
   "execution_count": 12,
   "metadata": {
    "collapsed": false,
    "deletable": true,
    "editable": true
   },
   "outputs": [
    {
     "name": "stdout",
     "output_type": "stream",
     "text": [
      "(<gurobi.LinExpr: z + -1.0 tk_below + -1.0 tk_average + -1.0 tk_above>, '<', 0.0)\n"
     ]
    }
   ],
   "source": [
    "cz = master.model.getConstrByName('z_cut')\n",
    "print(master.model.getRow(cz), cz.Sense, cz.RHS)"
   ]
  },
  {
   "cell_type": "code",
   "execution_count": 13,
   "metadata": {
    "collapsed": true,
    "deletable": true,
    "editable": true
   },
   "outputs": [],
   "source": [
    "from dynamicme.callback_gurobi import cb_benders_multi"
   ]
  },
  {
   "cell_type": "code",
   "execution_count": 14,
   "metadata": {
    "collapsed": true
   },
   "outputs": [],
   "source": [
    "# Need to scale variables? Since values are huge?"
   ]
  },
  {
   "cell_type": "code",
   "execution_count": 15,
   "metadata": {
    "collapsed": false,
    "deletable": true,
    "editable": true,
    "scrolled": false
   },
   "outputs": [
    {
     "name": "stdout",
     "output_type": "stream",
     "text": [
      "        Iter          UB          LB    Best Bnd         gap   relgap(%)       delta     time(s)\n",
      "           0       1e+07  -1.154e+05  -1.154e+05   1.012e+07       101.2           1    0.006040\n",
      "           1  -8.393e+04  -1.973e+05  -1.154e+05   3.148e+04       37.51         0.5    0.010682\n",
      "           2  -8.801e+04  -2.377e+05  -1.154e+05    2.74e+04       31.13        0.25    0.015229\n",
      "           3  -1.024e+05  -1.292e+05  -1.154e+05   1.303e+04       12.73       0.125    0.019704\n",
      "           4  -1.067e+05  -1.103e+05  -1.103e+05        3560       3.337      0.0625    0.024486\n",
      "           5  -1.077e+05  -1.128e+05  -1.103e+05        2571       2.388     0.03125    0.028990\n",
      "           6  -1.084e+05  -1.084e+05  -1.084e+05   2.419e-07   2.232e-10     0.01562    0.033591\n",
      "relgap (2.23213e-12) <= gaptol (0.0001). Finished.\n",
      "sum_k Hk*yk: [ 300.           20.         -320.         -250.         -103.33333333\n",
      "  353.33333333]\n",
      "WARNING: Non-anticipativity constraints not satisfied.\n"
     ]
    }
   ],
   "source": [
    "master.model.Params.Presolve = 0\n",
    "# master.model.Params.ScaleFlag = 2\n",
    "# master.model.Params.NumericFocus = 3\n",
    "master.model.Params.BarHomogeneous = 1\n",
    "\n",
    "# master.model.Params.Method = 0  # primal simplex\n",
    "# master.model.Params.Method = 1  # dual simplex\n",
    "master.model.Params.Method = 2  # barrier\n",
    "\n",
    "master.model.Params.OutputFlag=0\n",
    "master.max_iter = 100\n",
    "master.print_iter=1\n",
    "master.verbosity = 0\n",
    "\n",
    "master.delta_mult = 0.5   #0.1\n",
    "master.delta_min  = 1e-20 #0\n",
    "\n",
    "if RELAX_LP:\n",
    "    uopt = master.solve_relaxed()\n",
    "else:    \n",
    "    uopt = master.optimize() "
   ]
  },
  {
   "cell_type": "code",
   "execution_count": 16,
   "metadata": {
    "collapsed": false
   },
   "outputs": [
    {
     "name": "stdout",
     "output_type": "stream",
     "text": [
      "-108390.000001\n"
     ]
    },
    {
     "data": {
      "text/plain": [
       "<gurobi.QuadExpr: z + [ -0.0078125 u_00 ^ 2 + -0.0078125 u_01 ^ 2 + -0.0078125 u_02 ^ 2 + -0.0078125 u_10 ^ 2 + -0.0078125 u_11 ^ 2 + -0.0078125 u_12 ^ 2 ]>"
      ]
     },
     "execution_count": 16,
     "metadata": {},
     "output_type": "execute_result"
    }
   ],
   "source": [
    "print(master._z.X)\n",
    "master.model.getObjective()"
   ]
  },
  {
   "cell_type": "code",
   "execution_count": 17,
   "metadata": {
    "collapsed": false
   },
   "outputs": [
    {
     "data": {
      "text/plain": [
       "<gurobi.Model Continuous instance master: 19 constrs, 10 vars, Parameter changes: Method=2, BarHomogeneous=1, LogFile=gurobi.log, Presolve=0, OutputFlag=0>"
      ]
     },
     "execution_count": 17,
     "metadata": {},
     "output_type": "execute_result"
    }
   ],
   "source": [
    "master.model"
   ]
  },
  {
   "cell_type": "code",
   "execution_count": 18,
   "metadata": {
    "collapsed": false,
    "deletable": true,
    "editable": true
   },
   "outputs": [
    {
     "name": "stdout",
     "output_type": "stream",
     "text": [
      "(<gurobi.LinExpr: tk_below + -375.0 u_00 + -25.0 u_01 + -100.0 u_02>, '<', -19983.333333333336)\n",
      "(<gurobi.LinExpr: tk_average + 300.0 u_00 + 80.0 u_01 + 120.0 u_02 + -300.0 u_10 + -80.0 u_11 + -120.0 u_12>, '<', -39533.33333333334)\n",
      "(<gurobi.LinExpr: tk_above + 250.0 u_10 + 66.6666666667 u_11 + 183.333333333 u_12>, '<', -55888.88888888889)\n"
     ]
    }
   ],
   "source": [
    "cons = master.model.getConstrs()[1]\n",
    "print(master.model.getRow(cons), cons.Sense, cons.RHS)\n",
    "cons = master.model.getConstrs()[2]\n",
    "print(master.model.getRow(cons), cons.Sense, cons.RHS)\n",
    "cons = master.model.getConstrs()[3]\n",
    "print(master.model.getRow(cons), cons.Sense, cons.RHS)"
   ]
  },
  {
   "cell_type": "code",
   "execution_count": 19,
   "metadata": {
    "collapsed": false,
    "deletable": true,
    "editable": true
   },
   "outputs": [
    {
     "name": "stdout",
     "output_type": "stream",
     "text": [
      "(<gurobi.LinExpr: tk_below + -500.0 u_01>, '<', 6199.999999999993)\n",
      "(<gurobi.LinExpr: tk_average + 300.0 u_00 + 200.0 u_02 + -300.0 u_10 + -200.0 u_12>, '<', -36200.0)\n",
      "(<gurobi.LinExpr: tk_above + 250.0 u_10 + 250.0 u_11>, '<', -48300.000000000015)\n"
     ]
    }
   ],
   "source": [
    "cons = master.model.getConstrs()[4]\n",
    "print(master.model.getRow(cons), cons.Sense, cons.RHS)\n",
    "cons = master.model.getConstrs()[5]\n",
    "print(master.model.getRow(cons), cons.Sense, cons.RHS)\n",
    "cons = master.model.getConstrs()[6]\n",
    "print(master.model.getRow(cons), cons.Sense, cons.RHS)"
   ]
  },
  {
   "cell_type": "code",
   "execution_count": 20,
   "metadata": {
    "collapsed": false,
    "deletable": true,
    "editable": true
   },
   "outputs": [
    {
     "name": "stdout",
     "output_type": "stream",
     "text": [
      "(<gurobi.LinExpr: tk_below + -300.0 u_00 + -100.0 u_01 + -100.0 u_02>, '<', -18933.333333333336)\n",
      "(<gurobi.LinExpr: tk_average + 80.0 u_01 + 420.0 u_02 + -80.0 u_11 + -420.0 u_12>, '<', -21033.333333333332)\n",
      "(<gurobi.LinExpr: tk_above + 250.0 u_10 + 183.333333333 u_11 + 66.6666666667 u_12>, '<', -53944.444444444445)\n"
     ]
    }
   ],
   "source": [
    "ncons = len(master.model.getConstrs())\n",
    "cons = master.model.getConstrs()[ncons-3]\n",
    "print(master.model.getRow(cons), cons.Sense, cons.RHS)\n",
    "cons = master.model.getConstrs()[ncons-2]\n",
    "print(master.model.getRow(cons), cons.Sense, cons.RHS)\n",
    "cons = master.model.getConstrs()[ncons-1]\n",
    "print(master.model.getRow(cons), cons.Sense, cons.RHS)"
   ]
  },
  {
   "cell_type": "markdown",
   "metadata": {
    "deletable": true,
    "editable": true
   },
   "source": [
    "## Check answer: should be \n",
    "- {'wheat':170, 'corn':80, 'beet':250}\n",
    "- objval = (-)108390"
   ]
  },
  {
   "cell_type": "code",
   "execution_count": 21,
   "metadata": {
    "collapsed": false,
    "deletable": true,
    "editable": true
   },
   "outputs": [
    {
     "data": {
      "text/plain": [
       "<gurobi.Var z (value -108390.000001)>"
      ]
     },
     "execution_count": 21,
     "metadata": {},
     "output_type": "execute_result"
    }
   ],
   "source": [
    "master._z"
   ]
  },
  {
   "cell_type": "code",
   "execution_count": 22,
   "metadata": {
    "collapsed": false,
    "deletable": true,
    "editable": true
   },
   "outputs": [],
   "source": [
    "x_dict = {}\n",
    "for scen,sub in iteritems(master.sub_dict):\n",
    "    #sub.update_obj(yopt)\n",
    "    #sub.model.optimize()\n",
    "    #x_dict[scen] = {v.VarName:v.X for v in sub.model.getVars()}\n",
    "    x_dict[scen] = sub.x_dict"
   ]
  },
  {
   "cell_type": "code",
   "execution_count": 23,
   "metadata": {
    "collapsed": false,
    "deletable": true,
    "editable": true
   },
   "outputs": [
    {
     "data": {
      "text/plain": [
       "{'above': {'area_beet': 250.0,\n",
       "  'area_corn': 183.33333333333334,\n",
       "  'area_wheat': 66.66666666666667,\n",
       "  'buy_beet': 0.0,\n",
       "  'buy_corn': 0.0,\n",
       "  'buy_wheat': 0.0,\n",
       "  'sell_beet': 6000.0,\n",
       "  'sell_corn': 420.0,\n",
       "  'sell_excess_beet': 0.0,\n",
       "  'sell_wheat': 0.0},\n",
       " 'average': {'area_beet': 0.0,\n",
       "  'area_corn': 80.0,\n",
       "  'area_wheat': 420.0,\n",
       "  'buy_beet': 0.0,\n",
       "  'buy_corn': 0.0,\n",
       "  'buy_wheat': 0.0,\n",
       "  'sell_beet': 0.0,\n",
       "  'sell_corn': 0.0,\n",
       "  'sell_excess_beet': 0.0,\n",
       "  'sell_wheat': 850.0},\n",
       " 'below': {'area_beet': 300.0,\n",
       "  'area_corn': 100.0,\n",
       "  'area_wheat': 100.0,\n",
       "  'buy_beet': 0.0,\n",
       "  'buy_corn': 0.0,\n",
       "  'buy_wheat': 0.0,\n",
       "  'sell_beet': 4800.0,\n",
       "  'sell_corn': 0.0,\n",
       "  'sell_excess_beet': 0.0,\n",
       "  'sell_wheat': 0.0}}"
      ]
     },
     "execution_count": 23,
     "metadata": {},
     "output_type": "execute_result"
    }
   ],
   "source": [
    "x_dict"
   ]
  },
  {
   "cell_type": "code",
   "execution_count": 24,
   "metadata": {
    "collapsed": false,
    "deletable": true,
    "editable": true
   },
   "outputs": [
    {
     "name": "stdout",
     "output_type": "stream",
     "text": [
      "Scenario: below\n",
      "yk = [('buy_wheat', 0.0), ('area_beet', 300.0), ('area_corn', 100.0), ('sell_wheat', 0.0), ('buy_corn', 0.0), ('sell_excess_beet', 0.0), ('sell_corn', 0.0), ('sell_beet', 4800.0), ('buy_beet', 0.0), ('area_wheat', 100.0)]\n",
      "Hk*yk =[300. 100. 100.   0.   0.   0.]\n",
      "Scenario: average\n",
      "yk = [('buy_wheat', 0.0), ('area_beet', 0.0), ('area_corn', 80.0), ('sell_wheat', 850.0), ('buy_corn', 0.0), ('sell_excess_beet', 0.0), ('sell_corn', 0.0), ('sell_beet', 0.0), ('buy_beet', 0.0), ('area_wheat', 420.0)]\n",
      "Hk*yk =[   0.  -80. -420.    0.   80.  420.]\n",
      "Scenario: above\n",
      "yk = [('buy_wheat', 0.0), ('area_beet', 250.0), ('area_corn', 183.33333333333334), ('sell_wheat', 0.0), ('buy_corn', 0.0), ('sell_excess_beet', 0.0), ('sell_corn', 420.0), ('sell_beet', 6000.0), ('buy_beet', 0.0), ('area_wheat', 66.66666666666667)]\n",
      "Hk*yk =[   0.            0.            0.         -250.         -183.33333333\n",
      "  -66.66666667]\n",
      "\n",
      "sum_k Hk*yk=\n",
      "[ 300.           20.         -320.         -250.         -103.33333333\n",
      "  353.33333333]\n",
      "sum sum Hk*yk=-5.684341886080802e-14\n",
      "\n",
      " u = [ 18.66666667   4.66666665 -23.33333333  63.55555556 -23.44444444\n",
      " -40.11111112]\n"
     ]
    }
   ],
   "source": [
    "Hys = []\n",
    "sub_objs = []\n",
    "for sub_ind,sub in iteritems(sub_dict):\n",
    "    yk = np.array([sub.x_dict[x.VarName] for x in sub._ys])\n",
    "    Hyk = sub._H*yk\n",
    "    Hys.append(Hyk)    \n",
    "    sub_objs.append(sub.model.ObjVal)\n",
    "    print('Scenario: %s'%sub_ind)\n",
    "    print('yk = %s'%[(k,v) for k,v in iteritems(sub.x_dict)])\n",
    "    print('Hk*yk =%s' % Hyk)\n",
    "    \n",
    "print(\"\\nsum_k Hk*yk=\")\n",
    "print(sum(Hys))\n",
    "print(\"sum sum Hk*yk=%s\"%sum(sum(Hys)))\n",
    "print(\"\\n u = %s\" % master.uopt)"
   ]
  },
  {
   "cell_type": "code",
   "execution_count": 25,
   "metadata": {
    "collapsed": false,
    "deletable": true,
    "editable": true
   },
   "outputs": [
    {
     "name": "stdout",
     "output_type": "stream",
     "text": [
      "Scenario: below\n",
      "c*x = -57600.0\n",
      "f*y = 38666.666666666664\n",
      "cx + fy = -18933.333333333336\n",
      "u*Hk*yk = 3733.333334326744\n",
      "Sub obj val: -15199.999999\n",
      "----------------------------------------\n",
      "Scenario: average\n",
      "c*x = -48166.666666666664\n",
      "f*y = 27133.333333333332\n",
      "cx + fy = -21033.333333333332\n",
      "u*Hk*yk = -9295.555557645857\n",
      "Sub obj val: -30328.888891\n",
      "----------------------------------------\n",
      "Scenario: above\n",
      "c*x = -93000.0\n",
      "f*y = 39055.555555555555\n",
      "cx + fy = -53944.444444444445\n",
      "u*Hk*yk = -8916.666666759796\n",
      "Sub obj val: -62861.1111112\n",
      "----------------------------------------\n",
      "sum_k sub obj val: -108390.000001\n",
      "sum_k cx + fy = -93911.1111111111\n"
     ]
    }
   ],
   "source": [
    "Hys = []\n",
    "sub_objs = []\n",
    "cxs = []\n",
    "fys = []\n",
    "for sub_ind,sub in iteritems(master.sub_dict):\n",
    "    xk = np.array([sub.x_dict[x.VarName] for x in sub._xs])\n",
    "    yk = np.array([sub.x_dict[x.VarName] for x in sub._ys])\n",
    "    Hyk = sub._H*yk\n",
    "    Hys.append(Hyk)    \n",
    "    sub_objs.append(sub.model.ObjVal)\n",
    "    cx = np.dot(sub._cx, xk)\n",
    "    fy = np.dot(sub._fy, yk)\n",
    "    cxs.append(cx)\n",
    "    fys.append(fy)\n",
    "    print('Scenario: %s'%sub_ind)\n",
    "    print('c*x = %s' % cx)\n",
    "    print('f*y = %s' % fy)\n",
    "    print('cx + fy = %s'%(cx+fy))    \n",
    "    uHy = np.dot(master.uopt, sub._H*yk)\n",
    "    print(\"u*Hk*yk = %s\" % (uHy))\n",
    "    print('Sub obj val: %s' % sub.model.ObjVal)    \n",
    "    print('-'*40)\n",
    "\n",
    "# print(\"\\nsum_k Hk*yk=\")\n",
    "# print(sum(Hys))\n",
    "# print(\"sum sum Hk*yk=%s\"%sum(sum(Hys)))\n",
    "# print(\"\\n u = %s\" % master.uopt)\n",
    "print(\"sum_k sub obj val: %s\" % sum(sub_objs))\n",
    "print(\"sum_k cx + fy = %s\" % (sum(cxs)+sum(fys)))"
   ]
  },
  {
   "cell_type": "code",
   "execution_count": 26,
   "metadata": {
    "collapsed": false,
    "deletable": true,
    "editable": true
   },
   "outputs": [
    {
     "name": "stdout",
     "output_type": "stream",
     "text": [
      "----------------------------------------\n",
      "Scenario: below\n",
      "yk = {'area_beet': 0.0, 'area_corn': -0.0, 'area_wheat': 500.0}\n",
      "----------------------------------------\n",
      "Scenario: average\n",
      "yk = {'area_beet': -0.0, 'area_corn': 80.0, 'area_wheat': 420.0}\n",
      "----------------------------------------\n",
      "Scenario: above\n",
      "yk = {'area_beet': 250.0, 'area_corn': 183.0, 'area_wheat': 67.0}\n"
     ]
    }
   ],
   "source": [
    "for sub_ind,sub in iteritems(master.sub_dict):\n",
    "    sub.update_obj(master.uopt)\n",
    "    sub.optimize()\n",
    "    print('-'*40)\n",
    "    print('Scenario: %s'%sub_ind)\n",
    "#     print('f: %s' % sub._fy)\n",
    "    print('yk = %s' % {v.VarName:v.X for v in sub._ys})\n",
    "#     print('xk = %s' % {v.VarName:v.X for v in sub._xs})"
   ]
  },
  {
   "cell_type": "code",
   "execution_count": 27,
   "metadata": {
    "collapsed": false
   },
   "outputs": [
    {
     "data": {
      "text/plain": [
       "array([ 18.66666667,   4.66666665, -23.33333333,  63.55555556,\n",
       "       -23.44444444, -40.11111112])"
      ]
     },
     "execution_count": 27,
     "metadata": {},
     "output_type": "execute_result"
    }
   ],
   "source": [
    "uk = master.uopt \n",
    "uk"
   ]
  },
  {
   "cell_type": "code",
   "execution_count": 28,
   "metadata": {
    "collapsed": false
   },
   "outputs": [
    {
     "data": {
      "text/plain": [
       "matrix([[-1.,  0.,  0.],\n",
       "        [ 0., -1.,  0.],\n",
       "        [ 0.,  0., -1.],\n",
       "        [ 1.,  0.,  0.],\n",
       "        [ 0.,  1.,  0.],\n",
       "        [ 0.,  0.,  1.]])"
      ]
     },
     "execution_count": 28,
     "metadata": {},
     "output_type": "execute_result"
    }
   ],
   "source": [
    "sub = sub_dict['average']\n",
    "sub._H.todense()"
   ]
  },
  {
   "cell_type": "code",
   "execution_count": 29,
   "metadata": {
    "collapsed": false
   },
   "outputs": [
    {
     "data": {
      "text/plain": [
       "[<gurobi.Var u_00 (value 18.6666666735)>,\n",
       " <gurobi.Var u_01 (value 4.66666665487)>,\n",
       " <gurobi.Var u_02 (value -23.3333333321)>,\n",
       " <gurobi.Var u_10 (value 63.555555556)>,\n",
       " <gurobi.Var u_11 (value -23.4444444422)>,\n",
       " <gurobi.Var u_12 (value -40.1111111175)>]"
      ]
     },
     "execution_count": 29,
     "metadata": {},
     "output_type": "execute_result"
    }
   ],
   "source": [
    "master._us"
   ]
  },
  {
   "cell_type": "code",
   "execution_count": 30,
   "metadata": {
    "collapsed": false
   },
   "outputs": [
    {
     "data": {
      "text/plain": [
       "array([ 44.88888888, -28.1111111 , -16.77777779])"
      ]
     },
     "execution_count": 30,
     "metadata": {},
     "output_type": "execute_result"
    }
   ],
   "source": [
    "uk*sub._H"
   ]
  },
  {
   "cell_type": "code",
   "execution_count": 31,
   "metadata": {
    "collapsed": false
   },
   "outputs": [
    {
     "data": {
      "text/plain": [
       "<gurobi.LinExpr: 44.8888888825 area_beet + -28.111111097 area_corn + -16.7777777854 area_wheat>"
      ]
     },
     "execution_count": 31,
     "metadata": {},
     "output_type": "execute_result"
    }
   ],
   "source": [
    "from gurobipy import LinExpr\n",
    "LinExpr(uk*sub._H, sub._ys)"
   ]
  },
  {
   "cell_type": "markdown",
   "metadata": {
    "deletable": true,
    "editable": true
   },
   "source": [
    "## Check that all constraints satisfied"
   ]
  },
  {
   "cell_type": "code",
   "execution_count": 32,
   "metadata": {
    "collapsed": false,
    "deletable": true,
    "editable": true
   },
   "outputs": [
    {
     "name": "stdout",
     "output_type": "stream",
     "text": [
      "('Scenario=below. Total area constraint:', True)\n",
      "('Scenario=average. Total area constraint:', True)\n",
      "('Scenario=above. Total area constraint:', True)\n"
     ]
    }
   ],
   "source": [
    "# Total area\n",
    "for sub_ind,sub in iteritems(sub_dict):\n",
    "    yopt = [v.X for v in sub._ys]\n",
    "    print('Scenario=%s. Total area constraint:'%sub_ind, sum(yopt) <= total_area)"
   ]
  },
  {
   "cell_type": "code",
   "execution_count": 33,
   "metadata": {
    "collapsed": false,
    "deletable": true,
    "editable": true
   },
   "outputs": [
    {
     "name": "stdout",
     "output_type": "stream",
     "text": [
      "Cattle feed crop requirement met?\n",
      "----------------------------------------\n",
      "below, beet: -4800 >= 0, False\n",
      "below, corn: 0 >= 240, False\n",
      "below, wheat: 1000 >= 200, True\n",
      "average, beet: 0 >= 0, True\n",
      "average, corn: 240 >= 240, True\n",
      "average, wheat: 200 >= 200, True\n",
      "above, beet: 0 >= 0, True\n",
      "above, corn: 238.8 >= 240, False\n",
      "above, wheat: 201 >= 200, True\n"
     ]
    }
   ],
   "source": [
    "# Cattle feed crop requirement\n",
    "print(\"Cattle feed crop requirement met?\\n%s\"%('-'*40))\n",
    "for scen,sub in iteritems(sub_dict):\n",
    "    y_dict = {v.VarName:v.X for v in sub._ys}\n",
    "    for c,req in iteritems(req_dict):\n",
    "        area = y_dict['area_%s'%c]\n",
    "        xsell = x_dict[scen]['sell_%s'%(c)]\n",
    "        xbuy = x_dict[scen]['buy_%s'%(c)]\n",
    "        lhs = yield_dict[scen][c]*area - xsell + xbuy\n",
    "        rhs = req\n",
    "        print('%s, %s: %g >= %g, %s'%(scen,c,lhs,rhs,lhs>=rhs))"
   ]
  }
 ],
 "metadata": {
  "kernelspec": {
   "display_name": "Python 2",
   "language": "python",
   "name": "python2"
  },
  "language_info": {
   "codemirror_mode": {
    "name": "ipython",
    "version": 2
   },
   "file_extension": ".py",
   "mimetype": "text/x-python",
   "name": "python",
   "nbconvert_exporter": "python",
   "pygments_lexer": "ipython2",
   "version": "2.7.14"
  }
 },
 "nbformat": 4,
 "nbformat_minor": 2
}
