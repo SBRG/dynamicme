{
 "cells": [
  {
   "cell_type": "markdown",
   "metadata": {
    "deletable": true,
    "editable": true
   },
   "source": [
    "# Compute foraging behavior\n",
    "### a) Validate with proteomics\n",
    "### b) Inverse: estimate environment probabilities from foraging proteomics/transcriptome"
   ]
  },
  {
   "cell_type": "markdown",
   "metadata": {
    "deletable": true,
    "editable": true
   },
   "source": [
    "### Forward\n",
    "$$\n",
    "\\begin{align}\n",
    "\\max_{v^k,e}  \\quad & f^T e + \\sum_k p^k (c^T v^k) \\\\\n",
    "\\mathrm{s.t.} \\quad & S^k v^k = 0 \\\\\n",
    "                    & \\sum_j e_j \\leq P \\\\\n",
    "                    & \\sum_j e^k_j \\leq P^k \\\\\n",
    "                    & e^k_j = e_j + \\delta_j^k \\\\\n",
    "                    & v^k_j \\leq k^\\mathrm{eff}_j \\cdot e_j \\\\\n",
    "                    & l^k \\leq v^k \\leq u^k \\\\\n",
    "                    & e \\geq 0\n",
    "\\end{align}\n",
    "$$"
   ]
  },
  {
   "cell_type": "markdown",
   "metadata": {
    "deletable": true,
    "editable": true
   },
   "source": [
    "## With expression deviation constraints/objective"
   ]
  },
  {
   "cell_type": "markdown",
   "metadata": {
    "deletable": true,
    "editable": true
   },
   "source": [
    "## Regulatory constraints\n",
    "1. Parsimonious regulator \n",
    "\n",
    "1. Function of flux\n",
    "$$\n",
    "\\begin{align}\n",
    "& p_j = \\sum_i \\alpha_{ij} v_j\n",
    "\\end{align}\n",
    "$$"
   ]
  },
  {
   "cell_type": "code",
   "execution_count": 1,
   "metadata": {
    "collapsed": true,
    "deletable": true,
    "editable": true
   },
   "outputs": [],
   "source": [
    "from gurobipy import *\n",
    "\n",
    "import seaborn as sns\n",
    "import pandas as pd\n",
    "import matplotlib.pyplot as plt\n",
    "import numpy as np\n",
    "\n",
    "plt.rcParams['svg.fonttype'] = 'none'\n",
    "pd.set_option('display.max_colwidth', -1)\n",
    "%matplotlib inline\n",
    "\n",
    "from cobra.io import load_json_model\n",
    "from six import iteritems\n",
    "import numpy as np\n",
    "import cobra"
   ]
  },
  {
   "cell_type": "code",
   "execution_count": 2,
   "metadata": {
    "collapsed": true,
    "deletable": true,
    "editable": true
   },
   "outputs": [],
   "source": [
    "from dynamicme.optimize import StackOptimizer"
   ]
  },
  {
   "cell_type": "code",
   "execution_count": 3,
   "metadata": {
    "collapsed": true,
    "deletable": true,
    "editable": true
   },
   "outputs": [],
   "source": [
    "mdl0 = load_json_model('/home/laurence/ME/models/e_coli_core_mm.json')\n",
    "crowd0 = mdl0.metabolites.crowding"
   ]
  },
  {
   "cell_type": "markdown",
   "metadata": {
    "deletable": true,
    "editable": true
   },
   "source": [
    "## Environment probabilities"
   ]
  },
  {
   "cell_type": "code",
   "execution_count": 4,
   "metadata": {
    "collapsed": false,
    "deletable": true,
    "editable": true
   },
   "outputs": [],
   "source": [
    "# Uniform\n",
    "import json\n",
    "with open('/home/laurence/python_modules/stressme.git/stressme/data/cnps/cnps_conds.json') as f:\n",
    "    cnps = json.load(f)\n",
    "with open('/home/laurence/python_modules/stressme.git/stressme/data/cnps/media_exchanges.json') as f:\n",
    "    cnps_rxns = json.load(f)"
   ]
  },
  {
   "cell_type": "code",
   "execution_count": 5,
   "metadata": {
    "collapsed": true,
    "deletable": true,
    "editable": true
   },
   "outputs": [],
   "source": [
    "conds = cnps['C']"
   ]
  },
  {
   "cell_type": "code",
   "execution_count": 6,
   "metadata": {
    "collapsed": false,
    "deletable": true,
    "editable": true
   },
   "outputs": [],
   "source": [
    "rows = []\n",
    "for csrc in conds:\n",
    "    ex_rxn = cnps_rxns[csrc]\n",
    "    if mdl0.reactions.has_id(ex_rxn):\n",
    "        # Reset all other ex rxns to zero\n",
    "        for csrcj in cnps['C']:\n",
    "            ex_rxnj = cnps_rxns[csrcj]\n",
    "            if mdl0.reactions.has_id(ex_rxnj):\n",
    "                rows.append({'cond':csrc, 'rxn':ex_rxnj, 'lb':0., 'ub':1000., 'obj':0.})\n",
    "        if csrc=='Acetate':\n",
    "            lb = -20.\n",
    "        else:\n",
    "            lb = -10.\n",
    "        if mdl0.reactions.has_id(ex_rxn):\n",
    "            rows.append({'cond':csrc, 'rxn':ex_rxn, 'lb':lb, 'ub':1000., 'obj':0.})"
   ]
  },
  {
   "cell_type": "code",
   "execution_count": 7,
   "metadata": {
    "collapsed": true,
    "deletable": true,
    "editable": true
   },
   "outputs": [],
   "source": [
    "df_conds = pd.DataFrame(rows)\n",
    "df_X = df_conds\n",
    "conds = df_X.cond.unique()"
   ]
  },
  {
   "cell_type": "markdown",
   "metadata": {},
   "source": [
    "## Drop infeasible conds"
   ]
  },
  {
   "cell_type": "code",
   "execution_count": 8,
   "metadata": {
    "collapsed": false
   },
   "outputs": [],
   "source": [
    "stat_dict = {}\n",
    "for cond in conds:\n",
    "    dfi = df_conds[ df_conds.cond==cond]\n",
    "    for i,row in dfi.iterrows():\n",
    "        rid = row['rxn']\n",
    "        rxn = mdl0.reactions.get_by_id(rid)\n",
    "        rxn.lower_bound = row['lb']\n",
    "        rxn.upper_bound = row['ub']\n",
    "    mdl0.optimize()\n",
    "    stat_dict[cond] = mdl0.solution.status"
   ]
  },
  {
   "cell_type": "code",
   "execution_count": 9,
   "metadata": {
    "collapsed": false
   },
   "outputs": [],
   "source": [
    "for ind,stat in iteritems(stat_dict):\n",
    "    if stat != 'optimal':\n",
    "        df_X = df_X[ df_X.cond != ind]\n",
    "conds = df_X.cond.unique()"
   ]
  },
  {
   "cell_type": "code",
   "execution_count": 10,
   "metadata": {
    "collapsed": false,
    "deletable": true,
    "editable": true
   },
   "outputs": [
    {
     "data": {
      "text/plain": [
       "13"
      ]
     },
     "execution_count": 10,
     "metadata": {},
     "output_type": "execute_result"
    }
   ],
   "source": [
    "len(df_X.cond.unique())"
   ]
  },
  {
   "cell_type": "code",
   "execution_count": 11,
   "metadata": {
    "collapsed": true,
    "deletable": true,
    "editable": true
   },
   "outputs": [],
   "source": [
    "from dynamicme.decomposition.LagrangeSubmodel import LagrangeSubmodel\n",
    "from dynamicme.decomposition.LagrangeMaster import LagrangeMaster\n",
    "from dynamicme.optimize import StackOptimizer"
   ]
  },
  {
   "cell_type": "markdown",
   "metadata": {
    "deletable": true,
    "editable": true
   },
   "source": [
    "## Full-space model"
   ]
  },
  {
   "cell_type": "code",
   "execution_count": 12,
   "metadata": {
    "collapsed": true,
    "deletable": true,
    "editable": true
   },
   "outputs": [],
   "source": [
    "stacker = StackOptimizer()\n",
    "stacker.stack_models(mdl0, df_X)"
   ]
  },
  {
   "cell_type": "code",
   "execution_count": 13,
   "metadata": {
    "collapsed": false,
    "deletable": true,
    "editable": true
   },
   "outputs": [],
   "source": [
    "from dynamicme.optimize import clone_attributes\n",
    "from dynamicme.optimize import Variable, Constraint\n",
    "\n",
    "es0 = mdl0.reactions.query('^e_')\n",
    "es  = []\n",
    "for e0j in es0:\n",
    "    ej = Variable(e0j.id)\n",
    "    clone_attributes(e0j, ej)\n",
    "    es.append(ej)\n",
    "\n",
    "stacker.model.add_reactions(es)\n",
    "\n",
    "crowd0 = mdl0.metabolites.crowding\n",
    "P_cap = crowd0._bound\n",
    "\n",
    "dps = []\n",
    "for ej in es:\n",
    "    ### Add sum_j mwj*ej <= P\n",
    "    cons = Constraint('crowding')\n",
    "    cons._constraint_sense = 'L'\n",
    "    cons._bound = P_cap\n",
    "    e0 = mdl0.reactions.get_by_id(ej.id)\n",
    "    mwj = e0.metabolites[crowd0]\n",
    "    ej.add_metabolites({cons:mwj})\n",
    "    for ind,mdli in iteritems(stacker.model_dict):            \n",
    "        ejk = stacker.model.reactions.get_by_id(\"%s_%s\"%(ej.id, ind))        \n",
    "        ### Add some flexibility to respond within each condition\n",
    "        # ejk = ej0 + dejk\n",
    "        # ejk - ej0 - dejk = 0\n",
    "        dejk = Variable('de_%s_%s'%(ej.id,ind), lower_bound=-1000, upper_bound=1000)\n",
    "        stacker.model.add_reaction(dejk)\n",
    "        cons = Constraint('prot_response_%s_%s'%(ej.id, ind))\n",
    "        cons._constraint_sense = 'E'\n",
    "        cons._bound = 0\n",
    "        stacker.model.add_metabolites(cons)\n",
    "        dejk.add_metabolites({cons:-1.})\n",
    "        ej.add_metabolites({cons:-1.})\n",
    "        ejk.add_metabolites({cons:1.})"
   ]
  },
  {
   "cell_type": "code",
   "execution_count": 14,
   "metadata": {
    "collapsed": false,
    "deletable": true,
    "editable": true
   },
   "outputs": [
    {
     "data": {
      "text/plain": [
       "<Solution 6.11 at 0x7f2184a88ad0>"
      ]
     },
     "execution_count": 14,
     "metadata": {},
     "output_type": "execute_result"
    }
   ],
   "source": [
    "stacker.model.optimize(solver='gurobi')"
   ]
  },
  {
   "cell_type": "markdown",
   "metadata": {},
   "source": [
    "## Sample across proteome response capacities"
   ]
  },
  {
   "cell_type": "code",
   "execution_count": 259,
   "metadata": {
    "collapsed": false,
    "deletable": true,
    "editable": true
   },
   "outputs": [],
   "source": [
    "N_SAMPLES = 10\n",
    "DPs = np.linspace(0, 0.1, N_SAMPLES)\n",
    "#DPs = [0]\n",
    "mu_id = 'BIOMASS_Ecoli_core_w_GAM'\n",
    "rows = []\n",
    "\n",
    "for DP in DPs:\n",
    "    for ind,mdli in iteritems(stacker.model_dict):\n",
    "        for ej in es:\n",
    "            dejk = stacker.model.reactions.get_by_id('de_%s_%s'%(ej.id,ind))\n",
    "            dejk.lower_bound = -DP\n",
    "            dejk.upper_bound = DP\n",
    "            \n",
    "    stacker.model.optimize(solver='gurobi', tolerance_feasibility=1e-9)\n",
    "    \n",
    "    if stacker.model.solution is not None and stacker.model.solution.status == 'optimal':\n",
    "        mu_tot = stacker.model.solution.f\n",
    "        stat = stacker.model.solution.status\n",
    "        x_dict = stacker.model.solution.x_dict\n",
    "        for ej in es:\n",
    "            for ind in stacker.model_dict.keys():\n",
    "                ejk = stacker.model.reactions.get_by_id('%s_%s'%(ej.id, ind))\n",
    "                dejk = stacker.model.reactions.get_by_id('de_%s_%s'%(ej.id,ind))\n",
    "                mu_rxnk = stacker.model.reactions.get_by_id('%s_%s'%(mu_id, ind))\n",
    "                muk = x_dict[mu_rxnk.id]\n",
    "                rows.append(\n",
    "                    {'dp_max':DP, 'mu_tot':mu_tot, 'stat':stat, 'protein':ej.id, 'cond':ind,\n",
    "                     'e0':x_dict[ej.id], 'ek':x_dict[ejk.id],\n",
    "                     'dek':x_dict[dejk.id], 'muk':muk})\n",
    "    else:\n",
    "        mu_tot = np.nan\n",
    "        stat = 'infeasible'\n",
    "        rows.append({'dp_max':DP, 'mu_tot':mu_tot, 'stat':stat, 'protein':np.nan, 'cond':np.nan,\n",
    "                     'e0':np.nan, 'ek':np.nan, 'dek':np.nan, 'muk':np.nan})"
   ]
  },
  {
   "cell_type": "code",
   "execution_count": 260,
   "metadata": {
    "collapsed": true
   },
   "outputs": [],
   "source": [
    "# from cobra.solvers import gurobi_solver\n",
    "# solver = gurobi_solver.create_problem(stacker.model)\n",
    "# solver.Params.FeasibilityTol = 1e-9\n",
    "# solver.Params.OptimalityTol = 1e-9\n",
    "# solver.optimize()\n",
    "# sol = gurobi_solver.format_solution(solver, stacker.model)\n",
    "# stacker.model.solution = sol"
   ]
  },
  {
   "cell_type": "code",
   "execution_count": 261,
   "metadata": {
    "collapsed": true
   },
   "outputs": [],
   "source": [
    "df_result = pd.DataFrame(rows)"
   ]
  },
  {
   "cell_type": "code",
   "execution_count": 262,
   "metadata": {
    "collapsed": true
   },
   "outputs": [],
   "source": [
    "import seaborn as sns\n",
    "import matplotlib.pyplot as plt\n",
    "from sklearn.decomposition import PCA"
   ]
  },
  {
   "cell_type": "code",
   "execution_count": 263,
   "metadata": {
    "collapsed": false
   },
   "outputs": [
    {
     "data": {
      "text/plain": [
       "(5980, 9)"
      ]
     },
     "execution_count": 263,
     "metadata": {},
     "output_type": "execute_result"
    }
   ],
   "source": [
    "df_result.shape"
   ]
  },
  {
   "cell_type": "code",
   "execution_count": 264,
   "metadata": {
    "collapsed": false
   },
   "outputs": [
    {
     "data": {
      "text/html": [
       "<div>\n",
       "<style scoped>\n",
       "    .dataframe tbody tr th:only-of-type {\n",
       "        vertical-align: middle;\n",
       "    }\n",
       "\n",
       "    .dataframe tbody tr th {\n",
       "        vertical-align: top;\n",
       "    }\n",
       "\n",
       "    .dataframe thead th {\n",
       "        text-align: right;\n",
       "    }\n",
       "</style>\n",
       "<table border=\"1\" class=\"dataframe\">\n",
       "  <thead>\n",
       "    <tr style=\"text-align: right;\">\n",
       "      <th></th>\n",
       "      <th>cond</th>\n",
       "      <th>dek</th>\n",
       "      <th>dp_max</th>\n",
       "      <th>e0</th>\n",
       "      <th>ek</th>\n",
       "      <th>mu_tot</th>\n",
       "      <th>muk</th>\n",
       "      <th>protein</th>\n",
       "      <th>stat</th>\n",
       "    </tr>\n",
       "  </thead>\n",
       "  <tbody>\n",
       "  </tbody>\n",
       "</table>\n",
       "</div>"
      ],
      "text/plain": [
       "Empty DataFrame\n",
       "Columns: [cond, dek, dp_max, e0, ek, mu_tot, muk, protein, stat]\n",
       "Index: []"
      ]
     },
     "execution_count": 264,
     "metadata": {},
     "output_type": "execute_result"
    }
   ],
   "source": [
    "df_result[ (df_result.dp_max==dp_maxs[1]) & (df_result.protein=='e_ACALD')]"
   ]
  },
  {
   "cell_type": "code",
   "execution_count": 265,
   "metadata": {
    "collapsed": false
   },
   "outputs": [
    {
     "data": {
      "text/html": [
       "<div>\n",
       "<style scoped>\n",
       "    .dataframe tbody tr th:only-of-type {\n",
       "        vertical-align: middle;\n",
       "    }\n",
       "\n",
       "    .dataframe tbody tr th {\n",
       "        vertical-align: top;\n",
       "    }\n",
       "\n",
       "    .dataframe thead th {\n",
       "        text-align: right;\n",
       "    }\n",
       "</style>\n",
       "<table border=\"1\" class=\"dataframe\">\n",
       "  <thead>\n",
       "    <tr style=\"text-align: right;\">\n",
       "      <th></th>\n",
       "      <th>cond</th>\n",
       "      <th>dek</th>\n",
       "      <th>dp_max</th>\n",
       "      <th>e0</th>\n",
       "      <th>ek</th>\n",
       "      <th>mu_tot</th>\n",
       "      <th>muk</th>\n",
       "      <th>protein</th>\n",
       "      <th>stat</th>\n",
       "    </tr>\n",
       "  </thead>\n",
       "  <tbody>\n",
       "    <tr>\n",
       "      <th>0</th>\n",
       "      <td>Fumarate</td>\n",
       "      <td>-0.0</td>\n",
       "      <td>0.0</td>\n",
       "      <td>0.000679</td>\n",
       "      <td>0.000679</td>\n",
       "      <td>3.60841</td>\n",
       "      <td>0.366792</td>\n",
       "      <td>e_ACALD</td>\n",
       "      <td>optimal</td>\n",
       "    </tr>\n",
       "    <tr>\n",
       "      <th>1</th>\n",
       "      <td>L-Glutamate</td>\n",
       "      <td>-0.0</td>\n",
       "      <td>0.0</td>\n",
       "      <td>0.000679</td>\n",
       "      <td>0.000679</td>\n",
       "      <td>3.60841</td>\n",
       "      <td>0.598450</td>\n",
       "      <td>e_ACALD</td>\n",
       "      <td>optimal</td>\n",
       "    </tr>\n",
       "  </tbody>\n",
       "</table>\n",
       "</div>"
      ],
      "text/plain": [
       "          cond  dek  dp_max        e0        ek   mu_tot       muk  protein  \\\n",
       "0  Fumarate    -0.0  0.0     0.000679  0.000679  3.60841  0.366792  e_ACALD   \n",
       "1  L-Glutamate -0.0  0.0     0.000679  0.000679  3.60841  0.598450  e_ACALD   \n",
       "\n",
       "      stat  \n",
       "0  optimal  \n",
       "1  optimal  "
      ]
     },
     "execution_count": 265,
     "metadata": {},
     "output_type": "execute_result"
    }
   ],
   "source": [
    "df_result.head(2)"
   ]
  },
  {
   "cell_type": "code",
   "execution_count": 267,
   "metadata": {
    "collapsed": true
   },
   "outputs": [],
   "source": [
    "table = df_result.pivot_table(index=['cond','dp_max'], columns='protein', values='ek')"
   ]
  },
  {
   "cell_type": "code",
   "execution_count": 268,
   "metadata": {
    "collapsed": false
   },
   "outputs": [],
   "source": [
    "from sklearn import preprocessing"
   ]
  },
  {
   "cell_type": "code",
   "execution_count": 269,
   "metadata": {
    "collapsed": false
   },
   "outputs": [],
   "source": [
    "Z_AXIS = 1   # Z-score'd proteome for each cond\n",
    "pca = PCA()\n",
    "X = table.values\n",
    "Z = preprocessing.scale(X, axis=Z_AXIS)\n",
    "\n",
    "Z_new = pca.fit_transform(Z)"
   ]
  },
  {
   "cell_type": "code",
   "execution_count": 270,
   "metadata": {
    "collapsed": false
   },
   "outputs": [
    {
     "data": {
      "text/plain": [
       "(130, 46)"
      ]
     },
     "execution_count": 270,
     "metadata": {},
     "output_type": "execute_result"
    }
   ],
   "source": [
    "Z_new.shape"
   ]
  },
  {
   "cell_type": "code",
   "execution_count": 271,
   "metadata": {
    "collapsed": false
   },
   "outputs": [],
   "source": [
    "dp_maxs = [ix[1] for ix in table.index]"
   ]
  },
  {
   "cell_type": "code",
   "execution_count": 272,
   "metadata": {
    "collapsed": true
   },
   "outputs": [],
   "source": [
    "dsplot = pd.DataFrame.from_dict({'PC1':Z_new[:,0], 'PC2':Z_new[:,1], 'dp_max':dp_maxs})"
   ]
  },
  {
   "cell_type": "code",
   "execution_count": 273,
   "metadata": {
    "collapsed": false
   },
   "outputs": [
    {
     "data": {
      "text/plain": [
       "(130, 46)"
      ]
     },
     "execution_count": 273,
     "metadata": {},
     "output_type": "execute_result"
    }
   ],
   "source": [
    "Z.shape"
   ]
  },
  {
   "cell_type": "code",
   "execution_count": 274,
   "metadata": {
    "collapsed": false,
    "deletable": true,
    "editable": true
   },
   "outputs": [
    {
     "data": {
      "image/png": "[encoded data removed]",
      "text/plain": [
       "<matplotlib.figure.Figure at 0x7f211c1bbd50>"
      ]
     },
     "metadata": {},
     "output_type": "display_data"
    }
   ],
   "source": [
    "sns.set_style('darkgrid')\n",
    "\n",
    "labels = set(dp_maxs)\n",
    "n_labels = len(labels)\n",
    "cmap_id = 'GnBu'\n",
    "cmap = sns.color_palette(cmap_id, n_labels)\n",
    "\n",
    "#g = sns.FacetGrid(dsplot, size=5, hue='dp_max', palette=cmap)\n",
    "#g.map(plt.scatter, 'PC1','PC2', cmap=cmap)\n",
    "# for ax in g.axes.flat:\n",
    "#     pass\n",
    "sns.set_palette(cmap)\n",
    "pts = plt.scatter(dsplot.PC1, dsplot.PC2, c=dsplot.dp_max, cmap=cmap_id, edgecolor='#000000', lw=0.3, s=64)\n",
    "#sns.despine(offset=1, trim=True)\n",
    "\n",
    "plt.colorbar(pts)\n",
    "pts.axes.set_aspect('equal')\n",
    "pts.axes.figure.set_size_inches(7,6)"
   ]
  },
  {
   "cell_type": "code",
   "execution_count": 275,
   "metadata": {
    "collapsed": false
   },
   "outputs": [
    {
     "data": {
      "text/html": [
       "<div>\n",
       "<style scoped>\n",
       "    .dataframe tbody tr th:only-of-type {\n",
       "        vertical-align: middle;\n",
       "    }\n",
       "\n",
       "    .dataframe tbody tr th {\n",
       "        vertical-align: top;\n",
       "    }\n",
       "\n",
       "    .dataframe thead th {\n",
       "        text-align: right;\n",
       "    }\n",
       "</style>\n",
       "<table border=\"1\" class=\"dataframe\">\n",
       "  <thead>\n",
       "    <tr style=\"text-align: right;\">\n",
       "      <th></th>\n",
       "      <th>cond</th>\n",
       "      <th>dek</th>\n",
       "      <th>dp_max</th>\n",
       "      <th>e0</th>\n",
       "      <th>ek</th>\n",
       "      <th>mu_tot</th>\n",
       "      <th>muk</th>\n",
       "      <th>protein</th>\n",
       "      <th>stat</th>\n",
       "    </tr>\n",
       "  </thead>\n",
       "  <tbody>\n",
       "    <tr>\n",
       "      <th>0</th>\n",
       "      <td>Fumarate</td>\n",
       "      <td>-0.0</td>\n",
       "      <td>0.0</td>\n",
       "      <td>0.000679</td>\n",
       "      <td>0.000679</td>\n",
       "      <td>3.60841</td>\n",
       "      <td>0.366792</td>\n",
       "      <td>e_ACALD</td>\n",
       "      <td>optimal</td>\n",
       "    </tr>\n",
       "    <tr>\n",
       "      <th>1</th>\n",
       "      <td>L-Glutamate</td>\n",
       "      <td>-0.0</td>\n",
       "      <td>0.0</td>\n",
       "      <td>0.000679</td>\n",
       "      <td>0.000679</td>\n",
       "      <td>3.60841</td>\n",
       "      <td>0.598450</td>\n",
       "      <td>e_ACALD</td>\n",
       "      <td>optimal</td>\n",
       "    </tr>\n",
       "  </tbody>\n",
       "</table>\n",
       "</div>"
      ],
      "text/plain": [
       "          cond  dek  dp_max        e0        ek   mu_tot       muk  protein  \\\n",
       "0  Fumarate    -0.0  0.0     0.000679  0.000679  3.60841  0.366792  e_ACALD   \n",
       "1  L-Glutamate -0.0  0.0     0.000679  0.000679  3.60841  0.598450  e_ACALD   \n",
       "\n",
       "      stat  \n",
       "0  optimal  \n",
       "1  optimal  "
      ]
     },
     "execution_count": 275,
     "metadata": {},
     "output_type": "execute_result"
    }
   ],
   "source": [
    "df_result.head(2)"
   ]
  },
  {
   "cell_type": "code",
   "execution_count": 281,
   "metadata": {
    "collapsed": false
   },
   "outputs": [
    {
     "data": {
      "text/html": [
       "<div>\n",
       "<style scoped>\n",
       "    .dataframe tbody tr th:only-of-type {\n",
       "        vertical-align: middle;\n",
       "    }\n",
       "\n",
       "    .dataframe tbody tr th {\n",
       "        vertical-align: top;\n",
       "    }\n",
       "\n",
       "    .dataframe thead th {\n",
       "        text-align: right;\n",
       "    }\n",
       "</style>\n",
       "<table border=\"1\" class=\"dataframe\">\n",
       "  <thead>\n",
       "    <tr style=\"text-align: right;\">\n",
       "      <th></th>\n",
       "      <th>dp_max</th>\n",
       "      <th>mu_tot</th>\n",
       "    </tr>\n",
       "  </thead>\n",
       "  <tbody>\n",
       "    <tr>\n",
       "      <th>0</th>\n",
       "      <td>0.000000</td>\n",
       "      <td>3.608410</td>\n",
       "    </tr>\n",
       "    <tr>\n",
       "      <th>598</th>\n",
       "      <td>0.011111</td>\n",
       "      <td>5.633158</td>\n",
       "    </tr>\n",
       "    <tr>\n",
       "      <th>1196</th>\n",
       "      <td>0.022222</td>\n",
       "      <td>5.865972</td>\n",
       "    </tr>\n",
       "    <tr>\n",
       "      <th>1794</th>\n",
       "      <td>0.033333</td>\n",
       "      <td>5.949511</td>\n",
       "    </tr>\n",
       "    <tr>\n",
       "      <th>2392</th>\n",
       "      <td>0.044444</td>\n",
       "      <td>5.995053</td>\n",
       "    </tr>\n",
       "    <tr>\n",
       "      <th>2990</th>\n",
       "      <td>0.055556</td>\n",
       "      <td>6.033458</td>\n",
       "    </tr>\n",
       "    <tr>\n",
       "      <th>3588</th>\n",
       "      <td>0.066667</td>\n",
       "      <td>6.071862</td>\n",
       "    </tr>\n",
       "    <tr>\n",
       "      <th>4186</th>\n",
       "      <td>0.077778</td>\n",
       "      <td>6.110267</td>\n",
       "    </tr>\n",
       "    <tr>\n",
       "      <th>4784</th>\n",
       "      <td>0.088889</td>\n",
       "      <td>6.112377</td>\n",
       "    </tr>\n",
       "    <tr>\n",
       "      <th>5382</th>\n",
       "      <td>0.100000</td>\n",
       "      <td>6.112377</td>\n",
       "    </tr>\n",
       "  </tbody>\n",
       "</table>\n",
       "</div>"
      ],
      "text/plain": [
       "        dp_max    mu_tot\n",
       "0     0.000000  3.608410\n",
       "598   0.011111  5.633158\n",
       "1196  0.022222  5.865972\n",
       "1794  0.033333  5.949511\n",
       "2392  0.044444  5.995053\n",
       "2990  0.055556  6.033458\n",
       "3588  0.066667  6.071862\n",
       "4186  0.077778  6.110267\n",
       "4784  0.088889  6.112377\n",
       "5382  0.100000  6.112377"
      ]
     },
     "execution_count": 281,
     "metadata": {},
     "output_type": "execute_result"
    }
   ],
   "source": [
    "df_mu_tot = df_result[['dp_max','mu_tot']].drop_duplicates()\n",
    "df_mu_tot"
   ]
  },
  {
   "cell_type": "code",
   "execution_count": 297,
   "metadata": {
    "collapsed": false
   },
   "outputs": [
    {
     "data": {
      "text/plain": [
       "<matplotlib.text.Text at 0x7f2123e7c790>"
      ]
     },
     "execution_count": 297,
     "metadata": {},
     "output_type": "execute_result"
    },
    {
     "data": {
      "image/png": "[encoded data removed]",
      "text/plain": [
       "<matplotlib.figure.Figure at 0x7f211a21ecd0>"
      ]
     },
     "metadata": {},
     "output_type": "display_data"
    }
   ],
   "source": [
    "pts = plt.plot('dp_max','mu_tot', data=df_mu_tot, color='#000000')\n",
    "ax = pts[0].axes\n",
    "ax.set_xlabel('dp_max')\n",
    "ax.set_ylabel('mu_tot')"
   ]
  }
 ],
 "metadata": {
  "kernelspec": {
   "display_name": "Python 2",
   "language": "python",
   "name": "python2"
  },
  "language_info": {
   "codemirror_mode": {
    "name": "ipython",
    "version": 2
   },
   "file_extension": ".py",
   "mimetype": "text/x-python",
   "name": "python",
   "nbconvert_exporter": "python",
   "pygments_lexer": "ipython2",
   "version": "2.7.14"
  }
 },
 "nbformat": 4,
 "nbformat_minor": 2
}
