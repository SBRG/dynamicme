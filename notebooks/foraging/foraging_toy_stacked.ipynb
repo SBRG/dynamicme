{
 "cells": [
  {
   "cell_type": "markdown",
   "metadata": {
    "deletable": true,
    "editable": true
   },
   "source": [
    "# Compute foraging behavior\n",
    "### a) Validate with proteomics\n",
    "### b) Inverse: estimate environment probabilities from foraging proteomics/transcriptome"
   ]
  },
  {
   "cell_type": "markdown",
   "metadata": {
    "deletable": true,
    "editable": true
   },
   "source": [
    "### Forward\n",
    "$$\n",
    "\\begin{align}\n",
    "\\max_{v^k,e}  \\quad & f^T e + \\sum_k p^k (c^T v^k) \\\\\n",
    "\\mathrm{s.t.} \\quad & S^k v^k = 0 \\\\\n",
    "                    & \\sum_j e_j \\leq P \\\\\n",
    "                    & \\sum_j e^k_j \\leq P^k \\\\\n",
    "                    & e^k_j = e_j + \\delta_j^k \\\\\n",
    "                    & v^k_j \\leq k^\\mathrm{eff}_j \\cdot e_j \\\\\n",
    "                    & l^k \\leq v^k \\leq u^k \\\\\n",
    "                    & e \\geq 0\n",
    "\\end{align}\n",
    "$$"
   ]
  },
  {
   "cell_type": "markdown",
   "metadata": {
    "deletable": true,
    "editable": true
   },
   "source": [
    "## With expression deviation constraints/objective"
   ]
  },
  {
   "cell_type": "markdown",
   "metadata": {
    "deletable": true,
    "editable": true
   },
   "source": [
    "## Regulatory constraints\n",
    "1. Parsimonious regulator \n",
    "\n",
    "1. Function of flux\n",
    "$$\n",
    "\\begin{align}\n",
    "& p_j = \\sum_i \\alpha_{ij} v_j\n",
    "\\end{align}\n",
    "$$"
   ]
  },
  {
   "cell_type": "code",
   "execution_count": 127,
   "metadata": {
    "collapsed": true,
    "deletable": true,
    "editable": true
   },
   "outputs": [],
   "source": [
    "from __future__ import division"
   ]
  },
  {
   "cell_type": "code",
   "execution_count": 1,
   "metadata": {
    "collapsed": true,
    "deletable": true,
    "editable": true
   },
   "outputs": [],
   "source": [
    "from gurobipy import *\n",
    "\n",
    "import seaborn as sns\n",
    "import pandas as pd\n",
    "import matplotlib.pyplot as plt\n",
    "import numpy as np\n",
    "\n",
    "plt.rcParams['svg.fonttype'] = 'none'\n",
    "pd.set_option('display.max_colwidth', -1)\n",
    "%matplotlib inline\n",
    "\n",
    "from cobra.io import load_json_model\n",
    "from six import iteritems\n",
    "import numpy as np\n",
    "import cobra"
   ]
  },
  {
   "cell_type": "code",
   "execution_count": 2,
   "metadata": {
    "collapsed": true,
    "deletable": true,
    "editable": true
   },
   "outputs": [],
   "source": [
    "from dynamicme.optimize import StackOptimizer"
   ]
  },
  {
   "cell_type": "code",
   "execution_count": 3,
   "metadata": {
    "collapsed": true,
    "deletable": true,
    "editable": true
   },
   "outputs": [],
   "source": [
    "mdl0 = load_json_model('/home/laurence/ME/models/e_coli_core_mm.json')\n",
    "crowd0 = mdl0.metabolites.crowding"
   ]
  },
  {
   "cell_type": "markdown",
   "metadata": {
    "deletable": true,
    "editable": true
   },
   "source": [
    "## Environment probabilities"
   ]
  },
  {
   "cell_type": "code",
   "execution_count": 4,
   "metadata": {
    "collapsed": false,
    "deletable": true,
    "editable": true
   },
   "outputs": [],
   "source": [
    "# Uniform\n",
    "import json\n",
    "with open('/home/laurence/python_modules/stressme.git/stressme/data/cnps/cnps_conds.json') as f:\n",
    "    cnps = json.load(f)\n",
    "with open('/home/laurence/python_modules/stressme.git/stressme/data/cnps/media_exchanges.json') as f:\n",
    "    cnps_rxns = json.load(f)"
   ]
  },
  {
   "cell_type": "code",
   "execution_count": 5,
   "metadata": {
    "collapsed": true,
    "deletable": true,
    "editable": true
   },
   "outputs": [],
   "source": [
    "conds = cnps['C']"
   ]
  },
  {
   "cell_type": "code",
   "execution_count": 6,
   "metadata": {
    "collapsed": false,
    "deletable": true,
    "editable": true
   },
   "outputs": [],
   "source": [
    "rows = []\n",
    "for csrc in conds:\n",
    "    ex_rxn = cnps_rxns[csrc]\n",
    "    if mdl0.reactions.has_id(ex_rxn):\n",
    "        # Reset all other ex rxns to zero\n",
    "        for csrcj in cnps['C']:\n",
    "            ex_rxnj = cnps_rxns[csrcj]\n",
    "            if mdl0.reactions.has_id(ex_rxnj):\n",
    "                rows.append({'cond':csrc, 'rxn':ex_rxnj, 'lb':0., 'ub':1000., 'obj':0.})\n",
    "        if csrc=='Acetate':\n",
    "            lb = -20.\n",
    "        else:\n",
    "            lb = -10.\n",
    "        if mdl0.reactions.has_id(ex_rxn):\n",
    "            rows.append({'cond':csrc, 'rxn':ex_rxn, 'lb':lb, 'ub':1000., 'obj':0.})"
   ]
  },
  {
   "cell_type": "code",
   "execution_count": 7,
   "metadata": {
    "collapsed": true,
    "deletable": true,
    "editable": true
   },
   "outputs": [],
   "source": [
    "df_conds = pd.DataFrame(rows)\n",
    "df_X = df_conds\n",
    "conds = df_X.cond.unique()"
   ]
  },
  {
   "cell_type": "markdown",
   "metadata": {
    "deletable": true,
    "editable": true
   },
   "source": [
    "## Drop infeasible conds"
   ]
  },
  {
   "cell_type": "code",
   "execution_count": 8,
   "metadata": {
    "collapsed": false,
    "deletable": true,
    "editable": true
   },
   "outputs": [],
   "source": [
    "stat_dict = {}\n",
    "for cond in conds:\n",
    "    dfi = df_conds[ df_conds.cond==cond]\n",
    "    for i,row in dfi.iterrows():\n",
    "        rid = row['rxn']\n",
    "        rxn = mdl0.reactions.get_by_id(rid)\n",
    "        rxn.lower_bound = row['lb']\n",
    "        rxn.upper_bound = row['ub']\n",
    "    mdl0.optimize()\n",
    "    stat_dict[cond] = mdl0.solution.status"
   ]
  },
  {
   "cell_type": "code",
   "execution_count": 9,
   "metadata": {
    "collapsed": false,
    "deletable": true,
    "editable": true
   },
   "outputs": [],
   "source": [
    "for ind,stat in iteritems(stat_dict):\n",
    "    if stat != 'optimal':\n",
    "        df_X = df_X[ df_X.cond != ind]\n",
    "conds = df_X.cond.unique()"
   ]
  },
  {
   "cell_type": "code",
   "execution_count": 10,
   "metadata": {
    "collapsed": false,
    "deletable": true,
    "editable": true
   },
   "outputs": [
    {
     "data": {
      "text/plain": [
       "13"
      ]
     },
     "execution_count": 10,
     "metadata": {},
     "output_type": "execute_result"
    }
   ],
   "source": [
    "len(df_X.cond.unique())"
   ]
  },
  {
   "cell_type": "code",
   "execution_count": 11,
   "metadata": {
    "collapsed": true,
    "deletable": true,
    "editable": true
   },
   "outputs": [],
   "source": [
    "from dynamicme.decomposition.LagrangeSubmodel import LagrangeSubmodel\n",
    "from dynamicme.decomposition.LagrangeMaster import LagrangeMaster\n",
    "from dynamicme.optimize import StackOptimizer"
   ]
  },
  {
   "cell_type": "markdown",
   "metadata": {
    "deletable": true,
    "editable": true
   },
   "source": [
    "## Full-space model"
   ]
  },
  {
   "cell_type": "code",
   "execution_count": 12,
   "metadata": {
    "collapsed": true,
    "deletable": true,
    "editable": true
   },
   "outputs": [],
   "source": [
    "stacker = StackOptimizer()\n",
    "stacker.stack_models(mdl0, df_X)"
   ]
  },
  {
   "cell_type": "code",
   "execution_count": 13,
   "metadata": {
    "collapsed": false,
    "deletable": true,
    "editable": true
   },
   "outputs": [],
   "source": [
    "from dynamicme.optimize import clone_attributes\n",
    "from dynamicme.optimize import Variable, Constraint\n",
    "\n",
    "es0 = mdl0.reactions.query('^e_')\n",
    "es  = []\n",
    "for e0j in es0:\n",
    "    ej = Variable(e0j.id)\n",
    "    clone_attributes(e0j, ej)\n",
    "    es.append(ej)\n",
    "\n",
    "stacker.model.add_reactions(es)\n",
    "\n",
    "crowd0 = mdl0.metabolites.crowding\n",
    "P_cap = crowd0._bound\n",
    "\n",
    "dps = []\n",
    "for ej in es:\n",
    "    ### Add sum_j mwj*ej <= P\n",
    "    cons = Constraint('crowding')\n",
    "    cons._constraint_sense = 'L'\n",
    "    cons._bound = P_cap\n",
    "    e0 = mdl0.reactions.get_by_id(ej.id)\n",
    "    mwj = e0.metabolites[crowd0]\n",
    "    ej.add_metabolites({cons:mwj})\n",
    "    for ind,mdli in iteritems(stacker.model_dict):            \n",
    "        ejk = stacker.model.reactions.get_by_id(\"%s_%s\"%(ej.id, ind))        \n",
    "        ### Add some flexibility to respond within each condition\n",
    "        # ejk = ej0 + dejk\n",
    "        # ejk - ej0 - dejk = 0\n",
    "        dejk = Variable('de_%s_%s'%(ej.id,ind), lower_bound=-1000, upper_bound=1000)\n",
    "        stacker.model.add_reaction(dejk)\n",
    "        cons = Constraint('prot_response_%s_%s'%(ej.id, ind))\n",
    "        cons._constraint_sense = 'E'\n",
    "        cons._bound = 0\n",
    "        stacker.model.add_metabolites(cons)\n",
    "        dejk.add_metabolites({cons:-1.})\n",
    "        ej.add_metabolites({cons:-1.})\n",
    "        ejk.add_metabolites({cons:1.})"
   ]
  },
  {
   "cell_type": "code",
   "execution_count": 14,
   "metadata": {
    "collapsed": false,
    "deletable": true,
    "editable": true
   },
   "outputs": [
    {
     "data": {
      "text/plain": [
       "<Solution 6.11 at 0x7f53c3881710>"
      ]
     },
     "execution_count": 14,
     "metadata": {},
     "output_type": "execute_result"
    }
   ],
   "source": [
    "stacker.model.optimize(solver='gurobi')"
   ]
  },
  {
   "cell_type": "markdown",
   "metadata": {
    "deletable": true,
    "editable": true
   },
   "source": [
    "## Sample across proteome response capacities"
   ]
  },
  {
   "cell_type": "code",
   "execution_count": 15,
   "metadata": {
    "collapsed": false,
    "deletable": true,
    "editable": true
   },
   "outputs": [],
   "source": [
    "N_SAMPLES = 100\n",
    "DPs = np.linspace(0, 0.1, N_SAMPLES)\n",
    "#DPs = [0]\n",
    "mu_id = 'BIOMASS_Ecoli_core_w_GAM'\n",
    "rows = []\n",
    "\n",
    "for DP in DPs:\n",
    "    for ind,mdli in iteritems(stacker.model_dict):\n",
    "        for ej in es:\n",
    "            dejk = stacker.model.reactions.get_by_id('de_%s_%s'%(ej.id,ind))\n",
    "            dejk.lower_bound = -DP\n",
    "            dejk.upper_bound = DP\n",
    "            \n",
    "    stacker.model.optimize(solver='gurobi', tolerance_feasibility=1e-9)\n",
    "    \n",
    "    if stacker.model.solution is not None and stacker.model.solution.status == 'optimal':\n",
    "        mu_tot = stacker.model.solution.f\n",
    "        stat = stacker.model.solution.status\n",
    "        x_dict = stacker.model.solution.x_dict\n",
    "        for ej in es:\n",
    "            for ind in stacker.model_dict.keys():\n",
    "                ejk = stacker.model.reactions.get_by_id('%s_%s'%(ej.id, ind))\n",
    "                dejk = stacker.model.reactions.get_by_id('de_%s_%s'%(ej.id,ind))\n",
    "                mu_rxnk = stacker.model.reactions.get_by_id('%s_%s'%(mu_id, ind))\n",
    "                muk = x_dict[mu_rxnk.id]\n",
    "                rows.append(\n",
    "                    {'dp_max':DP, 'mu_tot':mu_tot, 'stat':stat, 'protein':ej.id, 'cond':ind,\n",
    "                     'e0':x_dict[ej.id], 'ek':x_dict[ejk.id],\n",
    "                     'dek':x_dict[dejk.id], 'muk':muk})\n",
    "    else:\n",
    "        mu_tot = np.nan\n",
    "        stat = 'infeasible'\n",
    "        rows.append({'dp_max':DP, 'mu_tot':mu_tot, 'stat':stat, 'protein':np.nan, 'cond':np.nan,\n",
    "                     'e0':np.nan, 'ek':np.nan, 'dek':np.nan, 'muk':np.nan})"
   ]
  },
  {
   "cell_type": "code",
   "execution_count": 16,
   "metadata": {
    "collapsed": true,
    "deletable": true,
    "editable": true
   },
   "outputs": [],
   "source": [
    "# from cobra.solvers import gurobi_solver\n",
    "# solver = gurobi_solver.create_problem(stacker.model)\n",
    "# solver.Params.FeasibilityTol = 1e-9\n",
    "# solver.Params.OptimalityTol = 1e-9\n",
    "# solver.optimize()\n",
    "# sol = gurobi_solver.format_solution(solver, stacker.model)\n",
    "# stacker.model.solution = sol"
   ]
  },
  {
   "cell_type": "code",
   "execution_count": 17,
   "metadata": {
    "collapsed": true,
    "deletable": true,
    "editable": true
   },
   "outputs": [],
   "source": [
    "df_result = pd.DataFrame(rows)"
   ]
  },
  {
   "cell_type": "code",
   "execution_count": 18,
   "metadata": {
    "collapsed": true,
    "deletable": true,
    "editable": true
   },
   "outputs": [],
   "source": [
    "import seaborn as sns\n",
    "import matplotlib.pyplot as plt\n",
    "from sklearn.decomposition import PCA"
   ]
  },
  {
   "cell_type": "code",
   "execution_count": 21,
   "metadata": {
    "collapsed": false,
    "deletable": true,
    "editable": true
   },
   "outputs": [
    {
     "data": {
      "text/plain": [
       "(59800, 9)"
      ]
     },
     "execution_count": 21,
     "metadata": {},
     "output_type": "execute_result"
    }
   ],
   "source": [
    "df_result.shape"
   ]
  },
  {
   "cell_type": "code",
   "execution_count": 22,
   "metadata": {
    "collapsed": false,
    "deletable": true,
    "editable": true
   },
   "outputs": [
    {
     "data": {
      "text/html": [
       "<div>\n",
       "<style scoped>\n",
       "    .dataframe tbody tr th:only-of-type {\n",
       "        vertical-align: middle;\n",
       "    }\n",
       "\n",
       "    .dataframe tbody tr th {\n",
       "        vertical-align: top;\n",
       "    }\n",
       "\n",
       "    .dataframe thead th {\n",
       "        text-align: right;\n",
       "    }\n",
       "</style>\n",
       "<table border=\"1\" class=\"dataframe\">\n",
       "  <thead>\n",
       "    <tr style=\"text-align: right;\">\n",
       "      <th></th>\n",
       "      <th>cond</th>\n",
       "      <th>dek</th>\n",
       "      <th>dp_max</th>\n",
       "      <th>e0</th>\n",
       "      <th>ek</th>\n",
       "      <th>mu_tot</th>\n",
       "      <th>muk</th>\n",
       "      <th>protein</th>\n",
       "      <th>stat</th>\n",
       "    </tr>\n",
       "  </thead>\n",
       "  <tbody>\n",
       "    <tr>\n",
       "      <th>0</th>\n",
       "      <td>Fumarate</td>\n",
       "      <td>-0.0</td>\n",
       "      <td>0.0</td>\n",
       "      <td>0.000679</td>\n",
       "      <td>0.000679</td>\n",
       "      <td>3.60841</td>\n",
       "      <td>0.366792</td>\n",
       "      <td>e_ACALD</td>\n",
       "      <td>optimal</td>\n",
       "    </tr>\n",
       "    <tr>\n",
       "      <th>1</th>\n",
       "      <td>L-Glutamate</td>\n",
       "      <td>-0.0</td>\n",
       "      <td>0.0</td>\n",
       "      <td>0.000679</td>\n",
       "      <td>0.000679</td>\n",
       "      <td>3.60841</td>\n",
       "      <td>0.598450</td>\n",
       "      <td>e_ACALD</td>\n",
       "      <td>optimal</td>\n",
       "    </tr>\n",
       "  </tbody>\n",
       "</table>\n",
       "</div>"
      ],
      "text/plain": [
       "          cond  dek  dp_max        e0        ek   mu_tot       muk  protein  \\\n",
       "0  Fumarate    -0.0  0.0     0.000679  0.000679  3.60841  0.366792  e_ACALD   \n",
       "1  L-Glutamate -0.0  0.0     0.000679  0.000679  3.60841  0.598450  e_ACALD   \n",
       "\n",
       "      stat  \n",
       "0  optimal  \n",
       "1  optimal  "
      ]
     },
     "execution_count": 22,
     "metadata": {},
     "output_type": "execute_result"
    }
   ],
   "source": [
    "df_result.head(2)"
   ]
  },
  {
   "cell_type": "code",
   "execution_count": 23,
   "metadata": {
    "collapsed": true,
    "deletable": true,
    "editable": true
   },
   "outputs": [],
   "source": [
    "table = df_result.pivot_table(index=['cond','dp_max'], columns='protein', values='ek')"
   ]
  },
  {
   "cell_type": "code",
   "execution_count": 24,
   "metadata": {
    "collapsed": false,
    "deletable": true,
    "editable": true
   },
   "outputs": [],
   "source": [
    "from sklearn import preprocessing"
   ]
  },
  {
   "cell_type": "code",
   "execution_count": 25,
   "metadata": {
    "collapsed": false,
    "deletable": true,
    "editable": true
   },
   "outputs": [],
   "source": [
    "Z_AXIS = 1   # Z-score'd proteome for each cond\n",
    "pca = PCA()\n",
    "X = table.values\n",
    "Z = preprocessing.scale(X, axis=Z_AXIS)\n",
    "\n",
    "Z_new = pca.fit_transform(Z)\n",
    "\n",
    "Z_new.shape\n",
    "\n",
    "dp_maxs = [ix[1] for ix in table.index]\n",
    "\n",
    "dsplot = pd.DataFrame.from_dict({'PC1':Z_new[:,0], 'PC2':Z_new[:,1], 'dp_max':dp_maxs})\n",
    "\n",
    "Z.shape\n",
    "\n",
    "sns.set_style('darkgrid')\n",
    "\n",
    "labels = set(dp_maxs)\n",
    "n_labels = len(labels)\n",
    "cmap_id = 'GnBu'\n",
    "cmap = sns.color_palette(cmap_id, n_labels)\n",
    "\n",
    "#g = sns.FacetGrid(dsplot, size=5, hue='dp_max', palette=cmap)\n",
    "#g.map(plt.scatter, 'PC1','PC2', cmap=cmap)\n",
    "# for ax in g.axes.flat:\n",
    "#     pass\n",
    "sns.set_palette(cmap)\n",
    "pts = plt.scatter(dsplot.PC1, dsplot.PC2, c=dsplot.dp_max, cmap=cmap_id, edgecolor='#000000',\n",
    "                  lw=0.3, s=49, alpha=0.8)\n",
    "#sns.despine(offset=1, trim=True)\n",
    "\n",
    "plt.colorbar(pts)\n",
    "pts.axes.set_aspect('equal')\n",
    "pts.axes.figure.set_size_inches(7,6)"
   ]
  },
  {
   "cell_type": "code",
   "execution_count": 31,
   "metadata": {
    "collapsed": false,
    "deletable": true,
    "editable": true
   },
   "outputs": [
    {
     "data": {
      "text/html": [
       "<div>\n",
       "<style scoped>\n",
       "    .dataframe tbody tr th:only-of-type {\n",
       "        vertical-align: middle;\n",
       "    }\n",
       "\n",
       "    .dataframe tbody tr th {\n",
       "        vertical-align: top;\n",
       "    }\n",
       "\n",
       "    .dataframe thead th {\n",
       "        text-align: right;\n",
       "    }\n",
       "</style>\n",
       "<table border=\"1\" class=\"dataframe\">\n",
       "  <thead>\n",
       "    <tr style=\"text-align: right;\">\n",
       "      <th></th>\n",
       "      <th>cond</th>\n",
       "      <th>dek</th>\n",
       "      <th>dp_max</th>\n",
       "      <th>e0</th>\n",
       "      <th>ek</th>\n",
       "      <th>mu_tot</th>\n",
       "      <th>muk</th>\n",
       "      <th>protein</th>\n",
       "      <th>stat</th>\n",
       "    </tr>\n",
       "  </thead>\n",
       "  <tbody>\n",
       "    <tr>\n",
       "      <th>0</th>\n",
       "      <td>Fumarate</td>\n",
       "      <td>-0.0</td>\n",
       "      <td>0.0</td>\n",
       "      <td>0.000679</td>\n",
       "      <td>0.000679</td>\n",
       "      <td>3.60841</td>\n",
       "      <td>0.366792</td>\n",
       "      <td>e_ACALD</td>\n",
       "      <td>optimal</td>\n",
       "    </tr>\n",
       "    <tr>\n",
       "      <th>1</th>\n",
       "      <td>L-Glutamate</td>\n",
       "      <td>-0.0</td>\n",
       "      <td>0.0</td>\n",
       "      <td>0.000679</td>\n",
       "      <td>0.000679</td>\n",
       "      <td>3.60841</td>\n",
       "      <td>0.598450</td>\n",
       "      <td>e_ACALD</td>\n",
       "      <td>optimal</td>\n",
       "    </tr>\n",
       "  </tbody>\n",
       "</table>\n",
       "</div>"
      ],
      "text/plain": [
       "          cond  dek  dp_max        e0        ek   mu_tot       muk  protein  \\\n",
       "0  Fumarate    -0.0  0.0     0.000679  0.000679  3.60841  0.366792  e_ACALD   \n",
       "1  L-Glutamate -0.0  0.0     0.000679  0.000679  3.60841  0.598450  e_ACALD   \n",
       "\n",
       "      stat  \n",
       "0  optimal  \n",
       "1  optimal  "
      ]
     },
     "execution_count": 31,
     "metadata": {},
     "output_type": "execute_result"
    }
   ],
   "source": [
    "df_result.head(2)"
   ]
  },
  {
   "cell_type": "code",
   "execution_count": 41,
   "metadata": {
    "collapsed": false,
    "deletable": true,
    "editable": true
   },
   "outputs": [],
   "source": [
    "df_mu_tot = df_result[['dp_max','mu_tot']].drop_duplicates()"
   ]
  },
  {
   "cell_type": "code",
   "execution_count": 42,
   "metadata": {
    "collapsed": false,
    "deletable": true,
    "editable": true
   },
   "outputs": [
    {
     "data": {
      "text/plain": [
       "<matplotlib.text.Text at 0x7f53b8436950>"
      ]
     },
     "execution_count": 42,
     "metadata": {},
     "output_type": "execute_result"
    },
    {
     "data": {
      "image/png": "[encoded data removed]",
      "text/plain": [
       "<matplotlib.figure.Figure at 0x7f53baf57750>"
      ]
     },
     "metadata": {},
     "output_type": "display_data"
    }
   ],
   "source": [
    "pts = plt.plot('dp_max','mu_tot', data=df_mu_tot, color='#000000')\n",
    "ax = pts[0].axes\n",
    "ax.set_xlabel('dp_max')\n",
    "ax.set_ylabel('mu_tot')"
   ]
  },
  {
   "cell_type": "code",
   "execution_count": 43,
   "metadata": {
    "collapsed": false,
    "deletable": true,
    "editable": true
   },
   "outputs": [
    {
     "data": {
      "text/html": [
       "<div>\n",
       "<style scoped>\n",
       "    .dataframe tbody tr th:only-of-type {\n",
       "        vertical-align: middle;\n",
       "    }\n",
       "\n",
       "    .dataframe tbody tr th {\n",
       "        vertical-align: top;\n",
       "    }\n",
       "\n",
       "    .dataframe thead th {\n",
       "        text-align: right;\n",
       "    }\n",
       "</style>\n",
       "<table border=\"1\" class=\"dataframe\">\n",
       "  <thead>\n",
       "    <tr style=\"text-align: right;\">\n",
       "      <th></th>\n",
       "      <th>cond</th>\n",
       "      <th>dp_max</th>\n",
       "      <th>mu_tot</th>\n",
       "      <th>muk</th>\n",
       "    </tr>\n",
       "  </thead>\n",
       "  <tbody>\n",
       "    <tr>\n",
       "      <th>0</th>\n",
       "      <td>Fumarate</td>\n",
       "      <td>0.0</td>\n",
       "      <td>3.60841</td>\n",
       "      <td>0.366792</td>\n",
       "    </tr>\n",
       "    <tr>\n",
       "      <th>1</th>\n",
       "      <td>L-Glutamate</td>\n",
       "      <td>0.0</td>\n",
       "      <td>3.60841</td>\n",
       "      <td>0.598450</td>\n",
       "    </tr>\n",
       "  </tbody>\n",
       "</table>\n",
       "</div>"
      ],
      "text/plain": [
       "          cond  dp_max   mu_tot       muk\n",
       "0  Fumarate     0.0     3.60841  0.366792\n",
       "1  L-Glutamate  0.0     3.60841  0.598450"
      ]
     },
     "execution_count": 43,
     "metadata": {},
     "output_type": "execute_result"
    }
   ],
   "source": [
    "df_growth = df_result[['cond','dp_max','mu_tot','muk']].drop_duplicates()\n",
    "df_growth.head(2)"
   ]
  },
  {
   "cell_type": "code",
   "execution_count": 44,
   "metadata": {
    "collapsed": false,
    "deletable": true,
    "editable": true
   },
   "outputs": [
    {
     "data": {
      "text/plain": [
       "<seaborn.axisgrid.FacetGrid at 0x7f53b8628a10>"
      ]
     },
     "execution_count": 44,
     "metadata": {},
     "output_type": "execute_result"
    },
    {
     "data": {
      "image/png": "[encoded data removed]",
      "text/plain": [
       "<matplotlib.figure.Figure at 0x7f5423acabd0>"
      ]
     },
     "metadata": {},
     "output_type": "display_data"
    }
   ],
   "source": [
    "fg = sns.factorplot('cond', 'muk', data=df_growth.sort_values('mu_tot'), color='#000000', size=5)\n",
    "fg.set_xticklabels(rotation=90)"
   ]
  },
  {
   "cell_type": "code",
   "execution_count": 45,
   "metadata": {
    "collapsed": false,
    "deletable": true,
    "editable": true
   },
   "outputs": [
    {
     "data": {
      "text/plain": [
       "<matplotlib.axes._subplots.AxesSubplot at 0x7f53b838d6d0>"
      ]
     },
     "execution_count": 45,
     "metadata": {},
     "output_type": "execute_result"
    },
    {
     "data": {
      "image/png": "[encoded data removed]",
      "text/plain": [
       "<matplotlib.figure.Figure at 0x7f53b8301e50>"
      ]
     },
     "metadata": {},
     "output_type": "display_data"
    }
   ],
   "source": [
    "f,ax = plt.subplots(figsize=(7,6))\n",
    "df_growthi = df_growth.sort_values('muk')\n",
    "sns.boxplot(x='muk', y='cond', data=df_growthi)\n",
    "sns.swarmplot(x='muk',y='cond', data=df_growthi, size=2, color='.3', linewidth=0)\n",
    "#ax.xaxis.grid(True)"
   ]
  },
  {
   "cell_type": "markdown",
   "metadata": {
    "deletable": true,
    "editable": true
   },
   "source": [
    "# Validate mus where measured"
   ]
  },
  {
   "cell_type": "code",
   "execution_count": 69,
   "metadata": {
    "collapsed": false,
    "deletable": true,
    "editable": true
   },
   "outputs": [],
   "source": [
    "df_meas = pd.read_csv('/home/laurence/ME/data/dynamicME/beg/growth_meas.csv')\n",
    "ex_rxns = [r for r in df_meas.ex_rxn.unique() if mdl0.reactions.has_id(r)]\n",
    "df_meas = df_meas[ df_meas.ex_rxn.isin(ex_rxns)]"
   ]
  },
  {
   "cell_type": "code",
   "execution_count": 72,
   "metadata": {
    "collapsed": false,
    "deletable": true,
    "editable": true
   },
   "outputs": [
    {
     "data": {
      "text/html": [
       "<div>\n",
       "<style scoped>\n",
       "    .dataframe tbody tr th:only-of-type {\n",
       "        vertical-align: middle;\n",
       "    }\n",
       "\n",
       "    .dataframe tbody tr th {\n",
       "        vertical-align: top;\n",
       "    }\n",
       "\n",
       "    .dataframe thead th {\n",
       "        text-align: right;\n",
       "    }\n",
       "</style>\n",
       "<table border=\"1\" class=\"dataframe\">\n",
       "  <thead>\n",
       "    <tr style=\"text-align: right;\">\n",
       "      <th></th>\n",
       "      <th>substrate</th>\n",
       "      <th>growth_rate_1_h</th>\n",
       "      <th>order</th>\n",
       "      <th>ex_rxn</th>\n",
       "    </tr>\n",
       "  </thead>\n",
       "  <tbody>\n",
       "    <tr>\n",
       "      <th>0</th>\n",
       "      <td>glucose</td>\n",
       "      <td>0.740</td>\n",
       "      <td>0.0</td>\n",
       "      <td>EX_glc__D_e</td>\n",
       "    </tr>\n",
       "    <tr>\n",
       "      <th>3</th>\n",
       "      <td>fructose</td>\n",
       "      <td>0.550</td>\n",
       "      <td>NaN</td>\n",
       "      <td>EX_fru_e</td>\n",
       "    </tr>\n",
       "    <tr>\n",
       "      <th>5</th>\n",
       "      <td>succinate</td>\n",
       "      <td>0.460</td>\n",
       "      <td>NaN</td>\n",
       "      <td>EX_succ_e</td>\n",
       "    </tr>\n",
       "    <tr>\n",
       "      <th>6</th>\n",
       "      <td>malate</td>\n",
       "      <td>0.440</td>\n",
       "      <td>NaN</td>\n",
       "      <td>EX_mal__L_e</td>\n",
       "    </tr>\n",
       "    <tr>\n",
       "      <th>9</th>\n",
       "      <td>acetate</td>\n",
       "      <td>0.256</td>\n",
       "      <td>5.0</td>\n",
       "      <td>EX_ac_e</td>\n",
       "    </tr>\n",
       "  </tbody>\n",
       "</table>\n",
       "</div>"
      ],
      "text/plain": [
       "   substrate  growth_rate_1_h  order       ex_rxn\n",
       "0  glucose    0.740            0.0    EX_glc__D_e\n",
       "3  fructose   0.550           NaN     EX_fru_e   \n",
       "5  succinate  0.460           NaN     EX_succ_e  \n",
       "6  malate     0.440           NaN     EX_mal__L_e\n",
       "9  acetate    0.256            5.0    EX_ac_e    "
      ]
     },
     "execution_count": 72,
     "metadata": {},
     "output_type": "execute_result"
    }
   ],
   "source": [
    "df_meas.head()"
   ]
  },
  {
   "cell_type": "code",
   "execution_count": 98,
   "metadata": {
    "collapsed": false,
    "deletable": true,
    "editable": true
   },
   "outputs": [],
   "source": [
    "df_growth.loc[:,'substrate'] = df_growth.cond.apply(lambda x: x.lower().replace('l-','').replace('d-',''))\n",
    "\n",
    "df_val = pd.merge(df_meas, df_growth, on='substrate')"
   ]
  },
  {
   "cell_type": "code",
   "execution_count": 100,
   "metadata": {
    "collapsed": false,
    "deletable": true,
    "editable": true
   },
   "outputs": [
    {
     "data": {
      "text/plain": [
       "array([u'D-Glucose', u'D-Fructose', u'Succinate', u'L-Malate', u'Acetate'],\n",
       "      dtype=object)"
      ]
     },
     "execution_count": 100,
     "metadata": {},
     "output_type": "execute_result"
    }
   ],
   "source": [
    "df_val.cond.unique()"
   ]
  },
  {
   "cell_type": "code",
   "execution_count": 101,
   "metadata": {
    "collapsed": false,
    "deletable": true,
    "editable": true
   },
   "outputs": [
    {
     "data": {
      "text/html": [
       "<div>\n",
       "<style scoped>\n",
       "    .dataframe tbody tr th:only-of-type {\n",
       "        vertical-align: middle;\n",
       "    }\n",
       "\n",
       "    .dataframe tbody tr th {\n",
       "        vertical-align: top;\n",
       "    }\n",
       "\n",
       "    .dataframe thead th {\n",
       "        text-align: right;\n",
       "    }\n",
       "</style>\n",
       "<table border=\"1\" class=\"dataframe\">\n",
       "  <thead>\n",
       "    <tr style=\"text-align: right;\">\n",
       "      <th></th>\n",
       "      <th>substrate</th>\n",
       "      <th>growth_rate_1_h</th>\n",
       "      <th>order</th>\n",
       "      <th>ex_rxn</th>\n",
       "      <th>cond</th>\n",
       "      <th>dp_max</th>\n",
       "      <th>mu_tot</th>\n",
       "      <th>muk</th>\n",
       "      <th>Measured</th>\n",
       "      <th>Simulated</th>\n",
       "    </tr>\n",
       "  </thead>\n",
       "  <tbody>\n",
       "    <tr>\n",
       "      <th>0</th>\n",
       "      <td>glucose</td>\n",
       "      <td>0.74</td>\n",
       "      <td>0.0</td>\n",
       "      <td>EX_glc__D_e</td>\n",
       "      <td>D-Glucose</td>\n",
       "      <td>0.00000</td>\n",
       "      <td>3.608410</td>\n",
       "      <td>0.114731</td>\n",
       "      <td>0.74</td>\n",
       "      <td>0.114731</td>\n",
       "    </tr>\n",
       "    <tr>\n",
       "      <th>1</th>\n",
       "      <td>glucose</td>\n",
       "      <td>0.74</td>\n",
       "      <td>0.0</td>\n",
       "      <td>EX_glc__D_e</td>\n",
       "      <td>D-Glucose</td>\n",
       "      <td>0.00101</td>\n",
       "      <td>4.323613</td>\n",
       "      <td>0.368450</td>\n",
       "      <td>0.74</td>\n",
       "      <td>0.368450</td>\n",
       "    </tr>\n",
       "    <tr>\n",
       "      <th>2</th>\n",
       "      <td>glucose</td>\n",
       "      <td>0.74</td>\n",
       "      <td>0.0</td>\n",
       "      <td>EX_glc__D_e</td>\n",
       "      <td>D-Glucose</td>\n",
       "      <td>0.00202</td>\n",
       "      <td>4.662177</td>\n",
       "      <td>0.467057</td>\n",
       "      <td>0.74</td>\n",
       "      <td>0.467057</td>\n",
       "    </tr>\n",
       "    <tr>\n",
       "      <th>3</th>\n",
       "      <td>glucose</td>\n",
       "      <td>0.74</td>\n",
       "      <td>0.0</td>\n",
       "      <td>EX_glc__D_e</td>\n",
       "      <td>D-Glucose</td>\n",
       "      <td>0.00303</td>\n",
       "      <td>4.900699</td>\n",
       "      <td>0.558999</td>\n",
       "      <td>0.74</td>\n",
       "      <td>0.558999</td>\n",
       "    </tr>\n",
       "    <tr>\n",
       "      <th>4</th>\n",
       "      <td>glucose</td>\n",
       "      <td>0.74</td>\n",
       "      <td>0.0</td>\n",
       "      <td>EX_glc__D_e</td>\n",
       "      <td>D-Glucose</td>\n",
       "      <td>0.00404</td>\n",
       "      <td>5.080627</td>\n",
       "      <td>0.587808</td>\n",
       "      <td>0.74</td>\n",
       "      <td>0.587808</td>\n",
       "    </tr>\n",
       "  </tbody>\n",
       "</table>\n",
       "</div>"
      ],
      "text/plain": [
       "  substrate  growth_rate_1_h  order       ex_rxn       cond   dp_max  \\\n",
       "0  glucose   0.74             0.0    EX_glc__D_e  D-Glucose  0.00000   \n",
       "1  glucose   0.74             0.0    EX_glc__D_e  D-Glucose  0.00101   \n",
       "2  glucose   0.74             0.0    EX_glc__D_e  D-Glucose  0.00202   \n",
       "3  glucose   0.74             0.0    EX_glc__D_e  D-Glucose  0.00303   \n",
       "4  glucose   0.74             0.0    EX_glc__D_e  D-Glucose  0.00404   \n",
       "\n",
       "     mu_tot       muk  Measured  Simulated  \n",
       "0  3.608410  0.114731  0.74      0.114731   \n",
       "1  4.323613  0.368450  0.74      0.368450   \n",
       "2  4.662177  0.467057  0.74      0.467057   \n",
       "3  4.900699  0.558999  0.74      0.558999   \n",
       "4  5.080627  0.587808  0.74      0.587808   "
      ]
     },
     "execution_count": 101,
     "metadata": {},
     "output_type": "execute_result"
    }
   ],
   "source": [
    "df_val.loc[:,'Measured'] = df_val.growth_rate_1_h\n",
    "df_val.loc[:,'Simulated'] = df_val.muk\n",
    "df_val.head()"
   ]
  },
  {
   "cell_type": "code",
   "execution_count": 102,
   "metadata": {
    "collapsed": false,
    "deletable": true,
    "editable": true
   },
   "outputs": [
    {
     "data": {
      "text/plain": [
       "array(['glucose', 'fructose', 'succinate', 'malate', 'acetate'],\n",
       "      dtype=object)"
      ]
     },
     "execution_count": 102,
     "metadata": {},
     "output_type": "execute_result"
    }
   ],
   "source": [
    "df_val.substrate.unique()"
   ]
  },
  {
   "cell_type": "code",
   "execution_count": 113,
   "metadata": {
    "collapsed": false,
    "deletable": true,
    "editable": true
   },
   "outputs": [
    {
     "data": {
      "image/png": "[encoded data removed]",
      "text/plain": [
       "<matplotlib.figure.Figure at 0x7f53abdac790>"
      ]
     },
     "metadata": {},
     "output_type": "display_data"
    }
   ],
   "source": [
    "colors = sns.color_palette('nipy_spectral')\n",
    "g = sns.FacetGrid(size=6, data=df_val)\n",
    "mumax = max(df_val.Measured.max(), df_val.Simulated.max())*1.05\n",
    "plt.plot([0,mumax], [0,mumax], color='.6')\n",
    "#pts = plt.scatter('Measured','Simulated', data=df_val, zorder=4, c='#000000')\n",
    "for k,subs in enumerate(df_val.substrate.unique()):\n",
    "    dfi = df_val[ df_val.substrate==subs]\n",
    "    color = colors[k]\n",
    "    plt.scatter('Measured','Simulated', data=dfi, zorder=4, c=color)\n",
    "    smax = dfi.Simulated.max()\n",
    "    x = dfi.Measured.mean()\n",
    "    y = smax + 0.02\n",
    "    plt.text(x,y, subs, ha='center')"
   ]
  },
  {
   "cell_type": "code",
   "execution_count": 116,
   "metadata": {
    "collapsed": false,
    "deletable": true,
    "editable": true
   },
   "outputs": [
    {
     "data": {
      "text/html": [
       "<div>\n",
       "<style scoped>\n",
       "    .dataframe tbody tr th:only-of-type {\n",
       "        vertical-align: middle;\n",
       "    }\n",
       "\n",
       "    .dataframe tbody tr th {\n",
       "        vertical-align: top;\n",
       "    }\n",
       "\n",
       "    .dataframe thead th {\n",
       "        text-align: right;\n",
       "    }\n",
       "</style>\n",
       "<table border=\"1\" class=\"dataframe\">\n",
       "  <thead>\n",
       "    <tr style=\"text-align: right;\">\n",
       "      <th></th>\n",
       "      <th>substrate</th>\n",
       "      <th>growth_rate_1_h</th>\n",
       "      <th>order</th>\n",
       "      <th>ex_rxn</th>\n",
       "      <th>cond</th>\n",
       "      <th>dp_max</th>\n",
       "      <th>mu_tot</th>\n",
       "      <th>muk</th>\n",
       "      <th>Measured</th>\n",
       "      <th>Simulated</th>\n",
       "    </tr>\n",
       "  </thead>\n",
       "  <tbody>\n",
       "    <tr>\n",
       "      <th>0</th>\n",
       "      <td>glucose</td>\n",
       "      <td>0.74</td>\n",
       "      <td>0.0</td>\n",
       "      <td>EX_glc__D_e</td>\n",
       "      <td>D-Glucose</td>\n",
       "      <td>0.00000</td>\n",
       "      <td>3.608410</td>\n",
       "      <td>0.114731</td>\n",
       "      <td>0.74</td>\n",
       "      <td>0.114731</td>\n",
       "    </tr>\n",
       "    <tr>\n",
       "      <th>1</th>\n",
       "      <td>glucose</td>\n",
       "      <td>0.74</td>\n",
       "      <td>0.0</td>\n",
       "      <td>EX_glc__D_e</td>\n",
       "      <td>D-Glucose</td>\n",
       "      <td>0.00101</td>\n",
       "      <td>4.323613</td>\n",
       "      <td>0.368450</td>\n",
       "      <td>0.74</td>\n",
       "      <td>0.368450</td>\n",
       "    </tr>\n",
       "    <tr>\n",
       "      <th>2</th>\n",
       "      <td>glucose</td>\n",
       "      <td>0.74</td>\n",
       "      <td>0.0</td>\n",
       "      <td>EX_glc__D_e</td>\n",
       "      <td>D-Glucose</td>\n",
       "      <td>0.00202</td>\n",
       "      <td>4.662177</td>\n",
       "      <td>0.467057</td>\n",
       "      <td>0.74</td>\n",
       "      <td>0.467057</td>\n",
       "    </tr>\n",
       "  </tbody>\n",
       "</table>\n",
       "</div>"
      ],
      "text/plain": [
       "  substrate  growth_rate_1_h  order       ex_rxn       cond   dp_max  \\\n",
       "0  glucose   0.74             0.0    EX_glc__D_e  D-Glucose  0.00000   \n",
       "1  glucose   0.74             0.0    EX_glc__D_e  D-Glucose  0.00101   \n",
       "2  glucose   0.74             0.0    EX_glc__D_e  D-Glucose  0.00202   \n",
       "\n",
       "     mu_tot       muk  Measured  Simulated  \n",
       "0  3.608410  0.114731  0.74      0.114731   \n",
       "1  4.323613  0.368450  0.74      0.368450   \n",
       "2  4.662177  0.467057  0.74      0.467057   "
      ]
     },
     "execution_count": 116,
     "metadata": {},
     "output_type": "execute_result"
    }
   ],
   "source": [
    "df_val.head(3)"
   ]
  },
  {
   "cell_type": "code",
   "execution_count": 165,
   "metadata": {
    "collapsed": false,
    "deletable": true,
    "editable": true
   },
   "outputs": [
    {
     "data": {
      "image/png": "[encoded data removed]",
      "text/plain": [
       "<matplotlib.figure.Figure at 0x7f53b00ebe90>"
      ]
     },
     "metadata": {},
     "output_type": "display_data"
    }
   ],
   "source": [
    "import matplotlib.cm as cmx\n",
    "import matplotlib.colors as colors\n",
    "\n",
    "#colors = sns.color_palette('nipy_spectral')\n",
    "cols = cmx.get_cmap('nipy_spectral')\n",
    "cnorm = colors.Normalize(vmin=0, vmax=dp_maxs[-1])\n",
    "cmap = cmx.ScalarMappable(norm=cnorm, cmap=cols)\n",
    "\n",
    "g = sns.FacetGrid(size=6, data=df_val)\n",
    "mumax = max(df_val.Measured.max(), df_val.Simulated.max())*1.05\n",
    "plt.plot([0,mumax], [0,mumax], color='.6')\n",
    "\n",
    "dp_maxs = df_val.dp_max.unique()\n",
    "for k,dp in enumerate(dp_maxs):\n",
    "    dfi = df_val[ df_val.dp_max==dp]\n",
    "    #plt.scatter()\n",
    "    cval = cmap.to_rgba(dp)\n",
    "    pts = plt.plot('Measured','Simulated', data=dfi, color=cval, marker='.', alpha=1)\n",
    "\n",
    "for k,subs in enumerate(df_val.substrate.unique()):\n",
    "    dfi = df_val[ df_val.substrate==subs]    \n",
    "    smax = dfi.Simulated.max()\n",
    "    x = dfi.Measured.mean()\n",
    "    y = smax + 0.02\n",
    "    plt.text(x,y, subs, ha='center')"
   ]
  },
  {
   "cell_type": "markdown",
   "metadata": {
    "deletable": true,
    "editable": true
   },
   "source": [
    "# Sample probabilities for fixed dp_max"
   ]
  },
  {
   "cell_type": "code",
   "execution_count": 196,
   "metadata": {
    "collapsed": false,
    "deletable": true,
    "editable": true
   },
   "outputs": [],
   "source": [
    "n_conds = len(conds)\n",
    "\n",
    "N_SAMPLES = 100\n",
    "#DPs = np.linspace(0, 0.1, N_SAMPLES)\n",
    "#DPs = [0]\n",
    "mu_id = 'BIOMASS_Ecoli_core_w_GAM'\n",
    "rows = []\n",
    "\n",
    "#DP = 0.05\n",
    "DP = 0.01\n",
    "\n",
    "for kk in range(N_SAMPLES):\n",
    "    ps = np.random.uniform(size=n_conds)\n",
    "    ps = ps / sum(ps)\n",
    "    for k,(ind,mdli) in enumerate(iteritems(stacker.model_dict)):\n",
    "        for ej in es:\n",
    "            dejk = stacker.model.reactions.get_by_id('de_%s_%s'%(ej.id,ind))\n",
    "            dejk.lower_bound = -DP\n",
    "            dejk.upper_bound = DP\n",
    "        rxn_mu = stacker.model.reactions.get_by_id('%s_%s'%(mu_id,ind))\n",
    "        rxn_mu.objective_coefficient = ps[k]\n",
    "            \n",
    "    stacker.model.optimize(solver='gurobi', tolerance_feasibility=1e-9)\n",
    "    \n",
    "    if stacker.model.solution is not None and stacker.model.solution.status == 'optimal':\n",
    "        mu_tot = stacker.model.solution.f\n",
    "        stat = stacker.model.solution.status\n",
    "        x_dict = stacker.model.solution.x_dict\n",
    "        for ej in es:\n",
    "            for k,ind in enumerate(stacker.model_dict.keys()):\n",
    "                ejk = stacker.model.reactions.get_by_id('%s_%s'%(ej.id, ind))\n",
    "                dejk = stacker.model.reactions.get_by_id('de_%s_%s'%(ej.id,ind))\n",
    "                mu_rxnk = stacker.model.reactions.get_by_id('%s_%s'%(mu_id, ind))\n",
    "                muk = x_dict[mu_rxnk.id]\n",
    "                rows.append(\n",
    "                    {'dp_max':DP, 'prob':ps[k], 'sample':kk,\n",
    "                     'mu_tot':mu_tot, 'stat':stat, 'protein':ej.id, 'cond':ind,\n",
    "                     'e0':x_dict[ej.id], 'ek':x_dict[ejk.id],\n",
    "                     'dek':x_dict[dejk.id], 'muk':muk})\n",
    "    else:\n",
    "        mu_tot = np.nan\n",
    "        stat = 'infeasible'\n",
    "        rows.append({'dp_max':DP, 'prob':np.nan, 'sample':kk,\n",
    "                     'mu_tot':mu_tot, 'stat':stat, 'protein':np.nan, 'cond':np.nan,\n",
    "                     'e0':np.nan, 'ek':np.nan, 'dek':np.nan, 'muk':np.nan})"
   ]
  },
  {
   "cell_type": "code",
   "execution_count": 197,
   "metadata": {
    "collapsed": true,
    "deletable": true,
    "editable": true
   },
   "outputs": [],
   "source": [
    "df_prob = pd.DataFrame(rows)"
   ]
  },
  {
   "cell_type": "code",
   "execution_count": 198,
   "metadata": {
    "collapsed": false,
    "deletable": true,
    "editable": true
   },
   "outputs": [],
   "source": [
    "table = df_prob.pivot_table(index=['cond','sample'], columns='protein', values='ek')"
   ]
  },
  {
   "cell_type": "code",
   "execution_count": 199,
   "metadata": {
    "collapsed": false,
    "deletable": true,
    "editable": true
   },
   "outputs": [
    {
     "data": {
      "text/plain": [
       "(1300, 46)"
      ]
     },
     "execution_count": 199,
     "metadata": {},
     "output_type": "execute_result"
    }
   ],
   "source": [
    "table.shape"
   ]
  },
  {
   "cell_type": "code",
   "execution_count": 200,
   "metadata": {
    "collapsed": false,
    "deletable": true,
    "editable": true
   },
   "outputs": [
    {
     "data": {
      "image/png": "[encoded data removed]",
      "text/plain": [
       "<matplotlib.figure.Figure at 0x7f53aadc2610>"
      ]
     },
     "metadata": {},
     "output_type": "display_data"
    }
   ],
   "source": [
    "Z_AXIS = 1   # Z-score'd proteome for each cond\n",
    "pca = PCA()\n",
    "X = table.values\n",
    "Z = preprocessing.scale(X, axis=Z_AXIS)\n",
    "\n",
    "Z_new = pca.fit_transform(Z)\n",
    "probs = [ix[1] for ix in table.index]\n",
    "dsplot = pd.DataFrame.from_dict({'PC1':Z_new[:,0], 'PC2':Z_new[:,1], 'sample':probs})\n",
    "\n",
    "sns.set_style('darkgrid')\n",
    "\n",
    "labels = set(probs)\n",
    "n_labels = len(labels)\n",
    "cmap_id = 'GnBu'\n",
    "cmap = sns.color_palette(cmap_id, n_labels)\n",
    "\n",
    "sns.set_palette(cmap)\n",
    "pts = plt.scatter(dsplot.PC1, dsplot.PC2, c=dsplot['sample'], cmap=cmap_id, edgecolor='#000000',\n",
    "                  lw=0.3, s=49, alpha=0.8)\n",
    "\n",
    "plt.colorbar(pts)\n",
    "pts.axes.set_aspect('equal')\n",
    "pts.axes.figure.set_size_inches(7,6)"
   ]
  },
  {
   "cell_type": "code",
   "execution_count": 201,
   "metadata": {
    "collapsed": false,
    "deletable": true,
    "editable": true
   },
   "outputs": [
    {
     "data": {
      "text/html": [
       "<div>\n",
       "<style scoped>\n",
       "    .dataframe tbody tr th:only-of-type {\n",
       "        vertical-align: middle;\n",
       "    }\n",
       "\n",
       "    .dataframe tbody tr th {\n",
       "        vertical-align: top;\n",
       "    }\n",
       "\n",
       "    .dataframe thead th {\n",
       "        text-align: right;\n",
       "    }\n",
       "</style>\n",
       "<table border=\"1\" class=\"dataframe\">\n",
       "  <thead>\n",
       "    <tr style=\"text-align: right;\">\n",
       "      <th></th>\n",
       "      <th>substrate</th>\n",
       "      <th>growth_rate_1_h</th>\n",
       "      <th>order</th>\n",
       "      <th>ex_rxn</th>\n",
       "      <th>cond</th>\n",
       "      <th>sample</th>\n",
       "      <th>mu_tot</th>\n",
       "      <th>muk</th>\n",
       "      <th>Measured</th>\n",
       "      <th>Simulated</th>\n",
       "    </tr>\n",
       "  </thead>\n",
       "  <tbody>\n",
       "    <tr>\n",
       "      <th>0</th>\n",
       "      <td>glucose</td>\n",
       "      <td>0.74</td>\n",
       "      <td>0.0</td>\n",
       "      <td>EX_glc__D_e</td>\n",
       "      <td>D-Glucose</td>\n",
       "      <td>0</td>\n",
       "      <td>0.494821</td>\n",
       "      <td>0.807369</td>\n",
       "      <td>0.74</td>\n",
       "      <td>0.807369</td>\n",
       "    </tr>\n",
       "    <tr>\n",
       "      <th>1</th>\n",
       "      <td>glucose</td>\n",
       "      <td>0.74</td>\n",
       "      <td>0.0</td>\n",
       "      <td>EX_glc__D_e</td>\n",
       "      <td>D-Glucose</td>\n",
       "      <td>1</td>\n",
       "      <td>0.447075</td>\n",
       "      <td>0.698019</td>\n",
       "      <td>0.74</td>\n",
       "      <td>0.698019</td>\n",
       "    </tr>\n",
       "    <tr>\n",
       "      <th>2</th>\n",
       "      <td>glucose</td>\n",
       "      <td>0.74</td>\n",
       "      <td>0.0</td>\n",
       "      <td>EX_glc__D_e</td>\n",
       "      <td>D-Glucose</td>\n",
       "      <td>2</td>\n",
       "      <td>0.432425</td>\n",
       "      <td>0.733720</td>\n",
       "      <td>0.74</td>\n",
       "      <td>0.733720</td>\n",
       "    </tr>\n",
       "    <tr>\n",
       "      <th>3</th>\n",
       "      <td>glucose</td>\n",
       "      <td>0.74</td>\n",
       "      <td>0.0</td>\n",
       "      <td>EX_glc__D_e</td>\n",
       "      <td>D-Glucose</td>\n",
       "      <td>3</td>\n",
       "      <td>0.469007</td>\n",
       "      <td>0.756117</td>\n",
       "      <td>0.74</td>\n",
       "      <td>0.756117</td>\n",
       "    </tr>\n",
       "    <tr>\n",
       "      <th>4</th>\n",
       "      <td>glucose</td>\n",
       "      <td>0.74</td>\n",
       "      <td>0.0</td>\n",
       "      <td>EX_glc__D_e</td>\n",
       "      <td>D-Glucose</td>\n",
       "      <td>4</td>\n",
       "      <td>0.464107</td>\n",
       "      <td>0.671773</td>\n",
       "      <td>0.74</td>\n",
       "      <td>0.671773</td>\n",
       "    </tr>\n",
       "  </tbody>\n",
       "</table>\n",
       "</div>"
      ],
      "text/plain": [
       "  substrate  growth_rate_1_h  order       ex_rxn       cond  sample    mu_tot  \\\n",
       "0  glucose   0.74             0.0    EX_glc__D_e  D-Glucose  0       0.494821   \n",
       "1  glucose   0.74             0.0    EX_glc__D_e  D-Glucose  1       0.447075   \n",
       "2  glucose   0.74             0.0    EX_glc__D_e  D-Glucose  2       0.432425   \n",
       "3  glucose   0.74             0.0    EX_glc__D_e  D-Glucose  3       0.469007   \n",
       "4  glucose   0.74             0.0    EX_glc__D_e  D-Glucose  4       0.464107   \n",
       "\n",
       "        muk  Measured  Simulated  \n",
       "0  0.807369  0.74      0.807369   \n",
       "1  0.698019  0.74      0.698019   \n",
       "2  0.733720  0.74      0.733720   \n",
       "3  0.756117  0.74      0.756117   \n",
       "4  0.671773  0.74      0.671773   "
      ]
     },
     "execution_count": 201,
     "metadata": {},
     "output_type": "execute_result"
    }
   ],
   "source": [
    "df_growth2 = df_prob[['cond','sample','mu_tot','muk']].drop_duplicates()\n",
    "df_growth2.loc[:,'substrate'] = df_growth2.cond.apply(lambda x: x.lower().replace('l-','').replace('d-',''))\n",
    "df_val2 = pd.merge(df_meas, df_growth2, on='substrate')\n",
    "df_val2.loc[:,'Measured'] = df_val2.growth_rate_1_h\n",
    "df_val2.loc[:,'Simulated'] = df_val2.muk\n",
    "df_val2.head()"
   ]
  },
  {
   "cell_type": "code",
   "execution_count": 202,
   "metadata": {
    "collapsed": false,
    "deletable": true,
    "editable": true
   },
   "outputs": [
    {
     "data": {
      "image/png": "[encoded data removed]",
      "text/plain": [
       "<matplotlib.figure.Figure at 0x7f53aab4ee10>"
      ]
     },
     "metadata": {},
     "output_type": "display_data"
    }
   ],
   "source": [
    "import matplotlib.cm as cmx\n",
    "import matplotlib.colors as colors\n",
    "\n",
    "samples = df_val2['sample'].unique()\n",
    "cols = cmx.get_cmap('nipy_spectral')\n",
    "cnorm = colors.Normalize(vmin=0, vmax=samples[-1])\n",
    "cmap = cmx.ScalarMappable(norm=cnorm, cmap=cols)\n",
    "\n",
    "g = sns.FacetGrid(size=6, data=df_val2)\n",
    "mumax = max(df_val2.Measured.max(), df_val2.Simulated.max())*1.05\n",
    "plt.plot([0,mumax], [0,mumax], color='.6')\n",
    "\n",
    "for k,sample in enumerate(samples):\n",
    "    dfi = df_val2[ df_val2['sample']==sample]\n",
    "    cval = cmap.to_rgba(sample)\n",
    "    pts = plt.plot('Measured','Simulated', data=dfi, color=cval, marker='.', alpha=1)\n",
    "\n",
    "for k,subs in enumerate(df_val2.substrate.unique()):\n",
    "    dfi = df_val2[ df_val2.substrate==subs]    \n",
    "    smax = dfi.Simulated.max()\n",
    "    x = dfi.Measured.mean()\n",
    "    y = smax + 0.02\n",
    "    plt.text(x,y, subs, ha='center')"
   ]
  }
 ],
 "metadata": {
  "kernelspec": {
   "display_name": "Python 2",
   "language": "python",
   "name": "python2"
  },
  "language_info": {
   "codemirror_mode": {
    "name": "ipython",
    "version": 2
   },
   "file_extension": ".py",
   "mimetype": "text/x-python",
   "name": "python",
   "nbconvert_exporter": "python",
   "pygments_lexer": "ipython2",
   "version": "2.7.14"
  }
 },
 "nbformat": 4,
 "nbformat_minor": 2
}
