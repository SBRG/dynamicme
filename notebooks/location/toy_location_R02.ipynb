{
 "cells": [
  {
   "cell_type": "markdown",
   "metadata": {
    "deletable": true,
    "editable": true
   },
   "source": [
    "# Location modeling for microbiome colonization"
   ]
  },
  {
   "cell_type": "markdown",
   "metadata": {
    "deletable": true,
    "editable": true
   },
   "source": [
    "## Recapitulate:\n",
    "http://www.pnas.org/content/early/2017/10/04/1711596114.short\n",
    "- macro-scale patterns:\n",
    "    - [Fig 2A,B](http://www.pnas.org/content/pnas/early/2017/10/04/1711596114/F4.large.jpg)\n",
    "- microhabitats composition (dominant):\n",
    "    - dominant species: Bacteroides dominate all microhabitats\n",
    "        - Bacteroides: 43% of densely colonized and 46% of sparsely colonized fields\n",
    "        - C. aerofaciens: 11% in densely, 6% in sparsely\n",
    "        - C. scindens: 8% in both\n",
    "        - R. torques: 3% in dense, 2% in sparse    \n",
    "- inter-taxa correlations ([Fig. S3](http://www.pnas.org/content/pnas/early/2017/10/04/1711596114/F9.large.jpg))\n",
    "    - some species show negative correlation\n",
    "    - but R^2 small and p-values not reported!\n",
    "- micro-scale spatial patterns (numbers are for mouse)\n",
    "    - proximal colon shows homogenized community due to mixing and dispersal by host factors\n",
    "    - turnover for mucus is 6 h for mucus in goblet cells and 1 h for inner mucus layer in distal colon\n",
    "    - replication time of B. thetaiotaomicron and E. coli is 3 h in mucus layer and 3-8 h in colonic contents\n",
    "    - therefore, microbes divide only a few rounds before being shed along with mucus into lumen\n",
    "    - gut contents traverse mouse intestine in 4-6 h\n",
    "    - overall, the turnover and shedding diminishes/disrupts segregated communities and spatial structure\n",
    "    - note: human dental plaque form clustered and ordered arrangements"
   ]
  },
  {
   "cell_type": "markdown",
   "metadata": {
    "deletable": true,
    "editable": true
   },
   "source": [
    "### Bacteria:\n",
    "http://www.pnas.org/content/early/2017/10/04/1711596114.short\n",
    "- 6 species (in [AGORA](https://vmh.uni.lu/#downloadview)?):\n",
    "    - Bacteroides cellulosilyticus (yes, DSM 14838)\n",
    "    - Bacteroides caccae (yes, ATCC 43185)\n",
    "    - Parabacteroides distasonis (yes, ATCC 8503)\n",
    "    - Ruminococcus torques (yes, ATCC 27756, L2-14)\n",
    "    - Clostridium scindens (yes, ATCC 35704)\n",
    "    - Collinsella aerofaciens (yes, ATCC 25986)\n",
    "- 4 Moderately abundant Bacteroides:\n",
    "    - Bacteroides thetaiotaomicron (yes, VPI-5482)\n",
    "    - Bacteroides vulgatus (yes, ATCC 8482)\n",
    "    - Bacteroides ovatus (yes, ATCC 8483, SD CC 2a, SD CMC 3f)\n",
    "    - Bacteroides uniformis (yes, ATCC 8492)\n",
    "- 5 low abundance Firmicutes\n",
    "    - Eubacterium rectale (yes, ATCC 33656, M104/1)\n",
    "    - Clostridium spiroforme (yes, DSM 1552)\n",
    "    - Faecalibacterium prausnitzii ()yes, L2-6\n",
    "    - Ruminococcus obeum (yes, A2-162)\n",
    "    - Dorea longicatena (yes, DSM 13814)"
   ]
  },
  {
   "cell_type": "markdown",
   "metadata": {
    "deletable": true,
    "editable": true
   },
   "source": [
    "## Grid"
   ]
  },
  {
   "cell_type": "code",
   "execution_count": 165,
   "metadata": {
    "collapsed": true,
    "deletable": true,
    "editable": true
   },
   "outputs": [],
   "source": [
    "from gurobipy import *\n",
    "\n",
    "import seaborn as sns\n",
    "import pandas as pd\n",
    "import matplotlib.pyplot as plt\n",
    "import numpy as np\n",
    "\n",
    "plt.rcParams['svg.fonttype'] = 'none'\n",
    "pd.set_option('display.max_colwidth', -1)\n",
    "%matplotlib inline\n",
    "\n",
    "from cobra.io import load_json_model\n",
    "from six import iteritems\n",
    "import numpy as np\n",
    "import cobra"
   ]
  },
  {
   "cell_type": "code",
   "execution_count": 191,
   "metadata": {
    "collapsed": false,
    "deletable": true,
    "editable": true
   },
   "outputs": [
    {
     "name": "stdout",
     "output_type": "stream",
     "text": [
      "mu: before=0.527200385031. after=0.527200385031\n",
      "mu: before=0.337029885021. after=0.337029885021\n",
      "mu: before=0.1048777824. after=0.1048777824\n"
     ]
    }
   ],
   "source": [
    "from cobra.io.sbml3 import read_sbml_model\n",
    "\n",
    "def repair_model(mdl):\n",
    "    obj0 = mdl.optimize().f\n",
    "    for rxn in mdl.reactions:\n",
    "        rxn.id = rxn.id.replace('__40__','_').replace('__41__','')\n",
    "    for met in mdl.metabolites:\n",
    "        met.id = met.id.replace('__91__','_').replace('__93__','')\n",
    "    mdl.repair()\n",
    "    obj1 = mdl.optimize().f\n",
    "    print('mu: before=%s. after=%s' % (obj0,obj1))\n",
    "    assert abs(obj1-obj0)<1e-9\n",
    "\n",
    "B_caccae = read_sbml_model('/home/laurence/ME/data/microbiome/Agora_1_02_Western/sbml/Bacteroides_caccae_ATCC_43185.xml')\n",
    "repair_model(B_caccae)\n",
    "B_cell = read_sbml_model('/home/laurence/ME/data/microbiome/Agora_1_02_Western/sbml/Bacteroides_cellulosilyticus_DSM_14838.xml')\n",
    "repair_model(B_cell)\n",
    "R_torques = read_sbml_model('/home/laurence/ME/data/microbiome/Agora_1_02_Western/sbml/Ruminococcus_torques_ATCC_27756.xml')\n",
    "repair_model(R_torques)"
   ]
  },
  {
   "cell_type": "code",
   "execution_count": 192,
   "metadata": {
    "collapsed": true,
    "deletable": true,
    "editable": true
   },
   "outputs": [],
   "source": [
    "models = [B_caccae, R_torques]"
   ]
  },
  {
   "cell_type": "code",
   "execution_count": 193,
   "metadata": {
    "collapsed": false,
    "deletable": true,
    "editable": true
   },
   "outputs": [
    {
     "name": "stdout",
     "output_type": "stream",
     "text": [
      "mdl=Bacteroides_caccae_ATCC_43185. rxn=biomass536. objcoeff=1.0\n",
      "mdl=Ruminococcus_torques_ATCC_27756. rxn=biomass525. objcoeff=1.0\n"
     ]
    }
   ],
   "source": [
    "for mdl in models:\n",
    "    for rxn in mdl.reactions:\n",
    "        if rxn.objective_coefficient != 0:\n",
    "            print('mdl=%s. rxn=%s. objcoeff=%s' % (mdl.id, rxn.id, rxn.objective_coefficient))"
   ]
  },
  {
   "cell_type": "code",
   "execution_count": 198,
   "metadata": {
    "collapsed": false
   },
   "outputs": [],
   "source": [
    "from cobra.flux_analysis import flux_variability_analysis\n",
    "from six import iteritems\n",
    "\n",
    "def exchanged_mets(mdl, cons_thresh=-0.1, secr_thresh=0.1, f_opt=1., reqd_thresh=-1e-8,\n",
    "                  exclude=['biomass_c','h2o_e','pi_e','ppi_e','h_e','k_e']):\n",
    "    ex_rxn_all = mdl.reactions.query('^EX_')\n",
    "    ex_rxn = [rxn for rxn in ex_rxn_all if not any([m in [met.id for met in rxn.metabolites.keys()] for m in exclude]) ]\n",
    "    \n",
    "    rxn_met_dict = {rxn.id:[m for m,s in iteritems(rxn.metabolites) if s<0] for rxn in ex_rxn}\n",
    "    met_rxn_dict = {m.id:rxn.id for rxn in ex_rxn for m,s in iteritems(rxn.metabolites) if s<0}\n",
    "    \n",
    "    sol = flux_variability_analysis(mdl, ex_rxn, solver='gurobi', fraction_of_optimum=f_opt)\n",
    "    secr = [m.id for k,v in iteritems(sol) if v['maximum']>=secr_thresh for m in rxn_met_dict[k]]\n",
    "    cons = [m.id for k,v in iteritems(sol) if v['minimum']<=cons_thresh for m in rxn_met_dict[k]]\n",
    "    reqd = [m.id for k,v in iteritems(sol) if v['maximum']<=reqd_thresh for m in rxn_met_dict[k]]\n",
    "    req_rxns = [k for k,v in iteritems(sol) if v['maximum']<=reqd_thresh]\n",
    "    return {'secreted':secr, 'consumed':cons, 'required':reqd, 'met_rxn':met_rxn_dict, 'req_rxns':req_rxns}"
   ]
  },
  {
   "cell_type": "code",
   "execution_count": 199,
   "metadata": {
    "collapsed": false
   },
   "outputs": [],
   "source": [
    "### Required mets\n",
    "for mdl in models:\n",
    "    res = exchanged_mets(mdl, f_opt=0.1)\n",
    "    req = res['required']"
   ]
  },
  {
   "cell_type": "code",
   "execution_count": 200,
   "metadata": {
    "collapsed": false
   },
   "outputs": [
    {
     "data": {
      "text/plain": [
       "['cobalt2_e',\n",
       " 'so4_e',\n",
       " 'cu2_e',\n",
       " 'ca2_e',\n",
       " 'zn2_e',\n",
       " 'ala_L_e',\n",
       " 'mg2_e',\n",
       " 'fe3_e',\n",
       " 'pydx_e',\n",
       " 'met_L_e',\n",
       " 'cl_e',\n",
       " 'fe2_e',\n",
       " 'mn2_e']"
      ]
     },
     "execution_count": 200,
     "metadata": {},
     "output_type": "execute_result"
    }
   ],
   "source": [
    "req"
   ]
  },
  {
   "cell_type": "markdown",
   "metadata": {},
   "source": [
    "# Data frames"
   ]
  },
  {
   "cell_type": "markdown",
   "metadata": {},
   "source": [
    "### Sources"
   ]
  },
  {
   "cell_type": "code",
   "execution_count": 172,
   "metadata": {
    "collapsed": false
   },
   "outputs": [
    {
     "data": {
      "text/html": [
       "<div>\n",
       "<style scoped>\n",
       "    .dataframe tbody tr th:only-of-type {\n",
       "        vertical-align: middle;\n",
       "    }\n",
       "\n",
       "    .dataframe tbody tr th {\n",
       "        vertical-align: top;\n",
       "    }\n",
       "\n",
       "    .dataframe thead th {\n",
       "        text-align: right;\n",
       "    }\n",
       "</style>\n",
       "<table border=\"1\" class=\"dataframe\">\n",
       "  <thead>\n",
       "    <tr style=\"text-align: right;\">\n",
       "      <th></th>\n",
       "      <th>met</th>\n",
       "      <th>node</th>\n",
       "      <th>rxn</th>\n",
       "      <th>source</th>\n",
       "      <th>vmax</th>\n",
       "    </tr>\n",
       "  </thead>\n",
       "  <tbody>\n",
       "    <tr>\n",
       "      <th>0</th>\n",
       "      <td>ppa_e</td>\n",
       "      <td>NaN</td>\n",
       "      <td>EX_ppa_e</td>\n",
       "      <td>Bacteroides_caccae_ATCC_43185</td>\n",
       "      <td>NaN</td>\n",
       "    </tr>\n",
       "    <tr>\n",
       "      <th>1</th>\n",
       "      <td>for_e</td>\n",
       "      <td>NaN</td>\n",
       "      <td>EX_for_e</td>\n",
       "      <td>Bacteroides_caccae_ATCC_43185</td>\n",
       "      <td>NaN</td>\n",
       "    </tr>\n",
       "  </tbody>\n",
       "</table>\n",
       "</div>"
      ],
      "text/plain": [
       "     met  node       rxn                         source  vmax\n",
       "0  ppa_e NaN    EX_ppa_e  Bacteroides_caccae_ATCC_43185 NaN  \n",
       "1  for_e NaN    EX_for_e  Bacteroides_caccae_ATCC_43185 NaN  "
      ]
     },
     "execution_count": 172,
     "metadata": {},
     "output_type": "execute_result"
    }
   ],
   "source": [
    "rows = []\n",
    "# Cross-feed sources\n",
    "for mdl in models:\n",
    "    exmets = exchanged_mets(mdl)\n",
    "    mr_dict= exmets['met_rxn']\n",
    "    secr = exmets['secreted']\n",
    "    reqd = exmets['required']\n",
    "    for met in secr:\n",
    "        rxn = mr_dict[met]\n",
    "        rows.append({'met':met, 'source':mdl.id, 'rxn':rxn, 'node':np.nan, 'vmax':np.nan})\n",
    "        \n",
    "# Primary sources\n",
    "# each source should provide all mets to be constrained\n",
    "ex1 = exchanged_mets(R_torques)\n",
    "for met in ex1['consumed']:\n",
    "    rows.append({'met':met, 'source':'primary', 'rxn':np.nan, 'node':3, 'vmax':1})\n",
    "\n",
    "df_source = pd.DataFrame(rows)\n",
    "df_source.head(2)"
   ]
  },
  {
   "cell_type": "markdown",
   "metadata": {},
   "source": [
    "### Consumers"
   ]
  },
  {
   "cell_type": "code",
   "execution_count": 173,
   "metadata": {
    "collapsed": false
   },
   "outputs": [
    {
     "data": {
      "text/html": [
       "<div>\n",
       "<style scoped>\n",
       "    .dataframe tbody tr th:only-of-type {\n",
       "        vertical-align: middle;\n",
       "    }\n",
       "\n",
       "    .dataframe tbody tr th {\n",
       "        vertical-align: top;\n",
       "    }\n",
       "\n",
       "    .dataframe thead th {\n",
       "        text-align: right;\n",
       "    }\n",
       "</style>\n",
       "<table border=\"1\" class=\"dataframe\">\n",
       "  <thead>\n",
       "    <tr style=\"text-align: right;\">\n",
       "      <th></th>\n",
       "      <th>id</th>\n",
       "      <th>met</th>\n",
       "      <th>rxn</th>\n",
       "    </tr>\n",
       "  </thead>\n",
       "  <tbody>\n",
       "    <tr>\n",
       "      <th>0</th>\n",
       "      <td>Bacteroides_caccae_ATCC_43185</td>\n",
       "      <td>leu_L_e</td>\n",
       "      <td>EX_leu_L_e</td>\n",
       "    </tr>\n",
       "    <tr>\n",
       "      <th>1</th>\n",
       "      <td>Bacteroides_caccae_ATCC_43185</td>\n",
       "      <td>fuc_L_e</td>\n",
       "      <td>EX_fuc_L_e</td>\n",
       "    </tr>\n",
       "  </tbody>\n",
       "</table>\n",
       "</div>"
      ],
      "text/plain": [
       "                              id      met         rxn\n",
       "0  Bacteroides_caccae_ATCC_43185  leu_L_e  EX_leu_L_e\n",
       "1  Bacteroides_caccae_ATCC_43185  fuc_L_e  EX_fuc_L_e"
      ]
     },
     "execution_count": 173,
     "metadata": {},
     "output_type": "execute_result"
    }
   ],
   "source": [
    "rows = []\n",
    "for mdl in models:\n",
    "    exmets = exchanged_mets(mdl)\n",
    "    mr_dict= exmets['met_rxn']\n",
    "    cons = exmets['consumed']\n",
    "    for met in cons:\n",
    "        rxn = mr_dict[met]\n",
    "        rows.append({'met':met, 'id':mdl.id, 'rxn':rxn})\n",
    "\n",
    "df_consumer = pd.DataFrame(rows)\n",
    "df_consumer.head(2)"
   ]
  },
  {
   "cell_type": "markdown",
   "metadata": {},
   "source": [
    "## Keep only the mets that are shared across producers and consumers\n",
    "### Only keep primary sources that feed one microbe to force cross-feeding"
   ]
  },
  {
   "cell_type": "code",
   "execution_count": 174,
   "metadata": {
    "collapsed": false,
    "deletable": true,
    "editable": true
   },
   "outputs": [
    {
     "data": {
      "text/plain": [
       "['glyc_e', 'glu_L_e', 'gly_e', 'gln_L_e', 'asp_L_e']"
      ]
     },
     "execution_count": 174,
     "metadata": {},
     "output_type": "execute_result"
    }
   ],
   "source": [
    "r_cons = df_consumer.met[ df_consumer.id=='Ruminococcus_torques_ATCC_27756']\n",
    "b_cons = df_consumer.met[ df_consumer.id=='Bacteroides_caccae_ATCC_43185']\n",
    "mets_r = [r for r in r_cons if r not in b_cons.values]\n",
    "mets_r"
   ]
  },
  {
   "cell_type": "code",
   "execution_count": 175,
   "metadata": {
    "collapsed": false,
    "deletable": true,
    "editable": true
   },
   "outputs": [],
   "source": [
    "df_primary_lim = df_source[\n",
    "    (df_source['source']=='primary') &\n",
    "    (df_source.met.isin(mets_r))\n",
    "]\n",
    "df_cross =  df_source[ df_source['source'] != 'primary']\n",
    "df_source_lim = pd.concat([df_primary_lim, df_cross])"
   ]
  },
  {
   "cell_type": "code",
   "execution_count": 176,
   "metadata": {
    "collapsed": false
   },
   "outputs": [
    {
     "data": {
      "text/plain": [
       "array(['arab_L_e', 'asp_L_e', 'fru_e', 'gal_e', 'glc_D_e', 'gln_L_e',\n",
       "       'glu_L_e', 'gly_e', 'glyc_e', 'man_e', 'pro_L_e', 'ser_L_e',\n",
       "       'thr_L_e', 'xyl_D_e'], dtype=object)"
      ]
     },
     "execution_count": 176,
     "metadata": {},
     "output_type": "execute_result"
    }
   ],
   "source": [
    "shared_mets = np.intersect1d(df_source.met, df_consumer.met)\n",
    "shared_mets"
   ]
  },
  {
   "cell_type": "code",
   "execution_count": 177,
   "metadata": {
    "collapsed": true
   },
   "outputs": [],
   "source": [
    "df_consumer_shared = df_consumer[ df_consumer.met.isin(shared_mets)]\n",
    "df_source_shared = df_source[ df_source.met.isin(shared_mets)]"
   ]
  },
  {
   "cell_type": "markdown",
   "metadata": {},
   "source": [
    "### Unless required or provided by a source (including cross-feed), disable uptake"
   ]
  },
  {
   "cell_type": "code",
   "execution_count": 202,
   "metadata": {
    "collapsed": false
   },
   "outputs": [
    {
     "name": "stdout",
     "output_type": "stream",
     "text": [
      "Bacteroides_caccae_ATCC_43185 can still grow at 1.55705488737e-12\n",
      "Ruminococcus_torques_ATCC_27756 can still grow at 8.84961896991e-12\n"
     ]
    }
   ],
   "source": [
    "src_mets = set(df_source['met'].values)\n",
    "for mdl in models:\n",
    "    res = exchanged_mets(mdl, f_opt=0.5)    \n",
    "    mr_dict = res['met_rxn']\n",
    "    src_rxns = [mr_dict[m] for m in src_mets if m in mr_dict]\n",
    "    req_rxns = res['req_rxns']\n",
    "    dfi = df_consumer_shared[ df_consumer_shared['id']==mdl.id]\n",
    "    cons_rxns = dfi.rxn.values\n",
    "    for rxn in mdl.reactions.query('^EX_'):\n",
    "        #if rxn.id not in req_rxns and rxn.id not in src_rxns:            \n",
    "        if rxn.id not in req_rxns and rxn.id not in cons_rxns:            \n",
    "            rxn.lower_bound = 0.\n",
    "            #print(\"%s. Set lb=0 for %s\" % (mdl.id, rxn.id))\n",
    "    # Ensure model can still grow\n",
    "    mdl.optimize()\n",
    "    if mdl.solution is None:\n",
    "        print(\"%s cannot grow anymore!\" % mdl.id)\n",
    "    else:\n",
    "        print(\"%s can still grow at %s\" % (mdl.id, mdl.solution.f))"
   ]
  },
  {
   "cell_type": "markdown",
   "metadata": {},
   "source": [
    "### Nodes"
   ]
  },
  {
   "cell_type": "code",
   "execution_count": 13,
   "metadata": {
    "collapsed": false
   },
   "outputs": [
    {
     "data": {
      "text/html": [
       "<div>\n",
       "<style scoped>\n",
       "    .dataframe tbody tr th:only-of-type {\n",
       "        vertical-align: middle;\n",
       "    }\n",
       "\n",
       "    .dataframe tbody tr th {\n",
       "        vertical-align: top;\n",
       "    }\n",
       "\n",
       "    .dataframe thead th {\n",
       "        text-align: right;\n",
       "    }\n",
       "</style>\n",
       "<table border=\"1\" class=\"dataframe\">\n",
       "  <thead>\n",
       "    <tr style=\"text-align: right;\">\n",
       "      <th></th>\n",
       "      <th>Tf</th>\n",
       "      <th>node</th>\n",
       "      <th>type</th>\n",
       "      <th>x</th>\n",
       "      <th>y</th>\n",
       "    </tr>\n",
       "    <tr>\n",
       "      <th>node</th>\n",
       "      <th></th>\n",
       "      <th></th>\n",
       "      <th></th>\n",
       "      <th></th>\n",
       "      <th></th>\n",
       "    </tr>\n",
       "  </thead>\n",
       "  <tbody>\n",
       "    <tr>\n",
       "      <th>0</th>\n",
       "      <td>2</td>\n",
       "      <td>0</td>\n",
       "      <td>org</td>\n",
       "      <td>0</td>\n",
       "      <td>0</td>\n",
       "    </tr>\n",
       "    <tr>\n",
       "      <th>1</th>\n",
       "      <td>2</td>\n",
       "      <td>1</td>\n",
       "      <td>org</td>\n",
       "      <td>1</td>\n",
       "      <td>0</td>\n",
       "    </tr>\n",
       "  </tbody>\n",
       "</table>\n",
       "</div>"
      ],
      "text/plain": [
       "      Tf  node type  x  y\n",
       "node                     \n",
       "0     2   0     org  0  0\n",
       "1     2   1     org  1  0"
      ]
     },
     "execution_count": 13,
     "metadata": {},
     "output_type": "execute_result"
    }
   ],
   "source": [
    "data = {'x':[0,1,2, 0,1,2, 0,1,2],\n",
    "        'y':[0,0,0, 1,1,1, 2,2,2],\n",
    "        'node':[0,1,2, 3,4,5, 6,7,8],\n",
    "        'type':['org','org','org', 'source','org','org', 'org','org','org'],\n",
    "        'Tf':[2,2,2, 2,2,2, 2,2,2]\n",
    "}\n",
    "df_node = pd.DataFrame.from_dict(data)\n",
    "df_node.index = df_node.node\n",
    "df_node.head(2)"
   ]
  },
  {
   "cell_type": "markdown",
   "metadata": {},
   "source": [
    "### Distances"
   ]
  },
  {
   "cell_type": "code",
   "execution_count": 14,
   "metadata": {
    "collapsed": false
   },
   "outputs": [
    {
     "data": {
      "text/html": [
       "<div>\n",
       "<style scoped>\n",
       "    .dataframe tbody tr th:only-of-type {\n",
       "        vertical-align: middle;\n",
       "    }\n",
       "\n",
       "    .dataframe tbody tr th {\n",
       "        vertical-align: top;\n",
       "    }\n",
       "\n",
       "    .dataframe thead th {\n",
       "        text-align: right;\n",
       "    }\n",
       "</style>\n",
       "<table border=\"1\" class=\"dataframe\">\n",
       "  <thead>\n",
       "    <tr style=\"text-align: right;\">\n",
       "      <th></th>\n",
       "      <th>d</th>\n",
       "      <th>i</th>\n",
       "      <th>j</th>\n",
       "    </tr>\n",
       "  </thead>\n",
       "  <tbody>\n",
       "    <tr>\n",
       "      <th>0</th>\n",
       "      <td>0.0</td>\n",
       "      <td>0</td>\n",
       "      <td>0</td>\n",
       "    </tr>\n",
       "    <tr>\n",
       "      <th>1</th>\n",
       "      <td>1.0</td>\n",
       "      <td>0</td>\n",
       "      <td>1</td>\n",
       "    </tr>\n",
       "  </tbody>\n",
       "</table>\n",
       "</div>"
      ],
      "text/plain": [
       "     d  i  j\n",
       "0  0.0  0  0\n",
       "1  1.0  0  1"
      ]
     },
     "execution_count": 14,
     "metadata": {},
     "output_type": "execute_result"
    }
   ],
   "source": [
    "rows = []\n",
    "nodes = df_node.node.unique()\n",
    "for i,rowi in df_node.iterrows():\n",
    "    xi = rowi['x']\n",
    "    yi = rowi['y']\n",
    "    for j,rowj in df_node.iterrows():        \n",
    "        xj = rowj['x']\n",
    "        yj = rowj['y']\n",
    "        dx = xj-xi\n",
    "        dy = yj-yi\n",
    "        d = np.sqrt(dx**2 + dy**2)\n",
    "        rows.append({'i':i, 'j':j, 'd':d})\n",
    "\n",
    "df_distance = pd.DataFrame(rows)\n",
    "df_distance.head(2)"
   ]
  },
  {
   "cell_type": "markdown",
   "metadata": {},
   "source": [
    "### Organisms"
   ]
  },
  {
   "cell_type": "code",
   "execution_count": 15,
   "metadata": {
    "collapsed": false
   },
   "outputs": [
    {
     "data": {
      "text/html": [
       "<div>\n",
       "<style scoped>\n",
       "    .dataframe tbody tr th:only-of-type {\n",
       "        vertical-align: middle;\n",
       "    }\n",
       "\n",
       "    .dataframe tbody tr th {\n",
       "        vertical-align: top;\n",
       "    }\n",
       "\n",
       "    .dataframe thead th {\n",
       "        text-align: right;\n",
       "    }\n",
       "</style>\n",
       "<table border=\"1\" class=\"dataframe\">\n",
       "  <thead>\n",
       "    <tr style=\"text-align: right;\">\n",
       "      <th></th>\n",
       "      <th>X0</th>\n",
       "      <th>biomass</th>\n",
       "      <th>id</th>\n",
       "    </tr>\n",
       "  </thead>\n",
       "  <tbody>\n",
       "    <tr>\n",
       "      <th>0</th>\n",
       "      <td>1</td>\n",
       "      <td>biomass536</td>\n",
       "      <td>Bacteroides_caccae_ATCC_43185</td>\n",
       "    </tr>\n",
       "    <tr>\n",
       "      <th>1</th>\n",
       "      <td>1</td>\n",
       "      <td>biomass525</td>\n",
       "      <td>Ruminococcus_torques_ATCC_27756</td>\n",
       "    </tr>\n",
       "  </tbody>\n",
       "</table>\n",
       "</div>"
      ],
      "text/plain": [
       "   X0     biomass                               id\n",
       "0  1   biomass536  Bacteroides_caccae_ATCC_43185  \n",
       "1  1   biomass525  Ruminococcus_torques_ATCC_27756"
      ]
     },
     "execution_count": 15,
     "metadata": {},
     "output_type": "execute_result"
    }
   ],
   "source": [
    "data = {'id':[B_caccae.id, R_torques.id],\n",
    "        'X0':[1,1],\n",
    "        'biomass':['biomass536', 'biomass525']    \n",
    "}\n",
    "df_organism = pd.DataFrame.from_dict(data)\n",
    "df_organism"
   ]
  },
  {
   "cell_type": "markdown",
   "metadata": {
    "deletable": true,
    "editable": true
   },
   "source": [
    "# Solve"
   ]
  },
  {
   "cell_type": "code",
   "execution_count": 16,
   "metadata": {
    "collapsed": false,
    "deletable": true,
    "editable": true
   },
   "outputs": [
    {
     "name": "stderr",
     "output_type": "stream",
     "text": [
      "cobra/core/Model.py:186 \u001b[1;31mUserWarning\u001b[0m: Use add_reaction for single reactions\n"
     ]
    }
   ],
   "source": [
    "from dynamicme.location import Locater\n",
    "\n",
    "locater = Locater()\n",
    "locater.create_problem(models, df_source_lim, df_consumer_shared, df_node, df_distance, df_organism)"
   ]
  },
  {
   "cell_type": "code",
   "execution_count": 17,
   "metadata": {
    "collapsed": false,
    "deletable": true,
    "editable": true
   },
   "outputs": [
    {
     "name": "stdout",
     "output_type": "stream",
     "text": [
      "Changed value of parameter OutputFlag to 1\n",
      "   Prev: 0  Min: 0  Max: 1  Default: 1\n"
     ]
    },
    {
     "data": {
      "text/plain": [
       "True"
      ]
     },
     "execution_count": 17,
     "metadata": {},
     "output_type": "execute_result"
    }
   ],
   "source": [
    "from cobra.solvers import gurobi_solver\n",
    "\n",
    "model = gurobi_solver.create_problem(locater.model)\n",
    "model.Params.OutputFlag = 1\n",
    "model.ModelSense == GRB.MAXIMIZE"
   ]
  },
  {
   "cell_type": "code",
   "execution_count": 18,
   "metadata": {
    "collapsed": false,
    "deletable": true,
    "editable": true
   },
   "outputs": [
    {
     "name": "stdout",
     "output_type": "stream",
     "text": [
      "Optimize a model with 51311 rows, 17880 columns and 134280 nonzeros\n",
      "Variable types: 17864 continuous, 16 integer (0 binary)\n",
      "Coefficient statistics:\n",
      "  Matrix range     [1e-05, 1e+03]\n",
      "  Objective range  [1e+00, 1e+00]\n",
      "  Bounds range     [1e-05, 1e+03]\n",
      "  RHS range        [1e+00, 1e+00]\n",
      "Presolve removed 42424 rows and 13080 columns\n",
      "Presolve time: 0.15s\n",
      "Presolved: 8887 rows, 4800 columns, 35344 nonzeros\n",
      "Variable types: 4784 continuous, 16 integer (16 binary)\n",
      "\n",
      "Root relaxation: objective 3.885986e+00, 6691 iterations, 0.39 seconds\n",
      "\n",
      "    Nodes    |    Current Node    |     Objective Bounds      |     Work\n",
      " Expl Unexpl |  Obj  Depth IntInf | Incumbent    BestBd   Gap | It/Node Time\n",
      "\n",
      "*    0     0               0       3.8859860    3.88599  0.00%     -    0s\n",
      "\n",
      "Explored 0 nodes (6691 simplex iterations) in 0.69 seconds\n",
      "Thread count was 8 (of 8 available processors)\n",
      "\n",
      "Solution count 1: 3.88599 \n",
      "\n",
      "Optimal solution found (tolerance 1.00e-04)\n",
      "Best objective 3.885985976391e+00, best bound 3.885985976391e+00, gap 0.0000%\n"
     ]
    }
   ],
   "source": [
    "model.optimize()"
   ]
  },
  {
   "cell_type": "code",
   "execution_count": 19,
   "metadata": {
    "collapsed": true,
    "deletable": true,
    "editable": true
   },
   "outputs": [],
   "source": [
    "sol = gurobi_solver.format_solution(model, locater.model)"
   ]
  },
  {
   "cell_type": "code",
   "execution_count": 20,
   "metadata": {
    "collapsed": false,
    "deletable": true,
    "editable": true
   },
   "outputs": [],
   "source": [
    "locater.model.solution = sol"
   ]
  },
  {
   "cell_type": "code",
   "execution_count": 21,
   "metadata": {
    "collapsed": false,
    "deletable": true,
    "editable": true
   },
   "outputs": [
    {
     "name": "stdout",
     "output_type": "stream",
     "text": [
      "0.0                 y_Ruminococcus_torques_ATCC_27756_2\n",
      "0.0                 y_Ruminococcus_torques_ATCC_27756_0\n",
      "0.0                 y_Ruminococcus_torques_ATCC_27756_1\n",
      "0.0                 y_Ruminococcus_torques_ATCC_27756_6\n",
      "0.0                 y_Ruminococcus_torques_ATCC_27756_7\n",
      "0.0                 y_Ruminococcus_torques_ATCC_27756_4\n",
      "0.0                 y_Ruminococcus_torques_ATCC_27756_5\n",
      "0.0                 y_Ruminococcus_torques_ATCC_27756_8\n",
      "1.0                 y_Bacteroides_caccae_ATCC_43185_8\n",
      "1.0                 y_Bacteroides_caccae_ATCC_43185_4\n",
      "1.0                 y_Bacteroides_caccae_ATCC_43185_5\n",
      "1.0                 y_Bacteroides_caccae_ATCC_43185_6\n",
      "1.0                 y_Bacteroides_caccae_ATCC_43185_7\n",
      "1.0                 y_Bacteroides_caccae_ATCC_43185_0\n",
      "1.0                 y_Bacteroides_caccae_ATCC_43185_1\n",
      "1.0                 y_Bacteroides_caccae_ATCC_43185_2\n"
     ]
    }
   ],
   "source": [
    "for rxn in locater.model.reactions.query('^y_'):\n",
    "    x = sol.x_dict[rxn.id]\n",
    "    print(\"%-20.18s%-20s\" % (x, rxn.id))"
   ]
  },
  {
   "cell_type": "code",
   "execution_count": 22,
   "metadata": {
    "collapsed": false
   },
   "outputs": [
    {
     "name": "stdout",
     "output_type": "stream",
     "text": [
      "e_8_0_pro_L_e\t-0.35355339059327373\t0.0\n",
      "e_5_0_pro_L_e\t-0.4472135954999579\t0.0\n",
      "e_7_0_pro_L_e\t-0.4472135954999579\t0.0\n",
      "EX_pro_L_e_Bacteroides_caccae_ATCC_43185_0\t-1.0\t-0.0\n",
      "e_2_0_pro_L_e\t-0.5\t0.0\n",
      "e_4_0_pro_L_e\t-0.7071067811865475\t0.0\n",
      "e_1_0_pro_L_e\t-1.0\t0.0\n",
      "e_6_0_pro_L_e\t-0.5\t0.0\n"
     ]
    }
   ],
   "source": [
    "x_dict = locater.model.solution.x_dict\n",
    "\n",
    "cons=locater.model.metabolites.query('uptake_cap')[0]\n",
    "for rxn in cons.reactions:\n",
    "    x = x_dict[rxn.id]\n",
    "    print(\"%s\\t%s\\t%s\" % (rxn.id, rxn.metabolites[cons], x))"
   ]
  },
  {
   "cell_type": "code",
   "execution_count": 23,
   "metadata": {
    "collapsed": false
   },
   "outputs": [
    {
     "data": {
      "text/html": [
       "<div>\n",
       "<style scoped>\n",
       "    .dataframe tbody tr th:only-of-type {\n",
       "        vertical-align: middle;\n",
       "    }\n",
       "\n",
       "    .dataframe tbody tr th {\n",
       "        vertical-align: top;\n",
       "    }\n",
       "\n",
       "    .dataframe thead th {\n",
       "        text-align: right;\n",
       "    }\n",
       "</style>\n",
       "<table border=\"1\" class=\"dataframe\">\n",
       "  <thead>\n",
       "    <tr style=\"text-align: right;\">\n",
       "      <th></th>\n",
       "      <th>met</th>\n",
       "      <th>node</th>\n",
       "      <th>rxn</th>\n",
       "      <th>source</th>\n",
       "      <th>vmax</th>\n",
       "    </tr>\n",
       "  </thead>\n",
       "  <tbody>\n",
       "    <tr>\n",
       "      <th>11</th>\n",
       "      <td>pro_L_e</td>\n",
       "      <td>NaN</td>\n",
       "      <td>EX_pro_L_e</td>\n",
       "      <td>Ruminococcus_torques_ATCC_27756</td>\n",
       "      <td>NaN</td>\n",
       "    </tr>\n",
       "    <tr>\n",
       "      <th>16</th>\n",
       "      <td>thr_L_e</td>\n",
       "      <td>3.0</td>\n",
       "      <td>NaN</td>\n",
       "      <td>primary</td>\n",
       "      <td>1.0</td>\n",
       "    </tr>\n",
       "    <tr>\n",
       "      <th>17</th>\n",
       "      <td>ser_L_e</td>\n",
       "      <td>3.0</td>\n",
       "      <td>NaN</td>\n",
       "      <td>primary</td>\n",
       "      <td>1.0</td>\n",
       "    </tr>\n",
       "    <tr>\n",
       "      <th>18</th>\n",
       "      <td>man_e</td>\n",
       "      <td>3.0</td>\n",
       "      <td>NaN</td>\n",
       "      <td>primary</td>\n",
       "      <td>1.0</td>\n",
       "    </tr>\n",
       "    <tr>\n",
       "      <th>19</th>\n",
       "      <td>glyc_e</td>\n",
       "      <td>3.0</td>\n",
       "      <td>NaN</td>\n",
       "      <td>primary</td>\n",
       "      <td>1.0</td>\n",
       "    </tr>\n",
       "    <tr>\n",
       "      <th>20</th>\n",
       "      <td>glu_L_e</td>\n",
       "      <td>3.0</td>\n",
       "      <td>NaN</td>\n",
       "      <td>primary</td>\n",
       "      <td>1.0</td>\n",
       "    </tr>\n",
       "    <tr>\n",
       "      <th>21</th>\n",
       "      <td>gly_e</td>\n",
       "      <td>3.0</td>\n",
       "      <td>NaN</td>\n",
       "      <td>primary</td>\n",
       "      <td>1.0</td>\n",
       "    </tr>\n",
       "    <tr>\n",
       "      <th>22</th>\n",
       "      <td>xyl_D_e</td>\n",
       "      <td>3.0</td>\n",
       "      <td>NaN</td>\n",
       "      <td>primary</td>\n",
       "      <td>1.0</td>\n",
       "    </tr>\n",
       "    <tr>\n",
       "      <th>23</th>\n",
       "      <td>gln_L_e</td>\n",
       "      <td>3.0</td>\n",
       "      <td>NaN</td>\n",
       "      <td>primary</td>\n",
       "      <td>1.0</td>\n",
       "    </tr>\n",
       "    <tr>\n",
       "      <th>24</th>\n",
       "      <td>asp_L_e</td>\n",
       "      <td>3.0</td>\n",
       "      <td>NaN</td>\n",
       "      <td>primary</td>\n",
       "      <td>1.0</td>\n",
       "    </tr>\n",
       "    <tr>\n",
       "      <th>25</th>\n",
       "      <td>arab_L_e</td>\n",
       "      <td>3.0</td>\n",
       "      <td>NaN</td>\n",
       "      <td>primary</td>\n",
       "      <td>1.0</td>\n",
       "    </tr>\n",
       "    <tr>\n",
       "      <th>26</th>\n",
       "      <td>glc_D_e</td>\n",
       "      <td>3.0</td>\n",
       "      <td>NaN</td>\n",
       "      <td>primary</td>\n",
       "      <td>1.0</td>\n",
       "    </tr>\n",
       "    <tr>\n",
       "      <th>27</th>\n",
       "      <td>gal_e</td>\n",
       "      <td>3.0</td>\n",
       "      <td>NaN</td>\n",
       "      <td>primary</td>\n",
       "      <td>1.0</td>\n",
       "    </tr>\n",
       "    <tr>\n",
       "      <th>28</th>\n",
       "      <td>fru_e</td>\n",
       "      <td>3.0</td>\n",
       "      <td>NaN</td>\n",
       "      <td>primary</td>\n",
       "      <td>1.0</td>\n",
       "    </tr>\n",
       "  </tbody>\n",
       "</table>\n",
       "</div>"
      ],
      "text/plain": [
       "         met  node         rxn                           source  vmax\n",
       "11  pro_L_e  NaN    EX_pro_L_e  Ruminococcus_torques_ATCC_27756 NaN  \n",
       "16  thr_L_e   3.0   NaN         primary                          1.0 \n",
       "17  ser_L_e   3.0   NaN         primary                          1.0 \n",
       "18  man_e     3.0   NaN         primary                          1.0 \n",
       "19  glyc_e    3.0   NaN         primary                          1.0 \n",
       "20  glu_L_e   3.0   NaN         primary                          1.0 \n",
       "21  gly_e     3.0   NaN         primary                          1.0 \n",
       "22  xyl_D_e   3.0   NaN         primary                          1.0 \n",
       "23  gln_L_e   3.0   NaN         primary                          1.0 \n",
       "24  asp_L_e   3.0   NaN         primary                          1.0 \n",
       "25  arab_L_e  3.0   NaN         primary                          1.0 \n",
       "26  glc_D_e   3.0   NaN         primary                          1.0 \n",
       "27  gal_e     3.0   NaN         primary                          1.0 \n",
       "28  fru_e     3.0   NaN         primary                          1.0 "
      ]
     },
     "execution_count": 23,
     "metadata": {},
     "output_type": "execute_result"
    }
   ],
   "source": [
    "df_source_shared"
   ]
  },
  {
   "cell_type": "code",
   "execution_count": 24,
   "metadata": {
    "collapsed": false,
    "deletable": true,
    "editable": true
   },
   "outputs": [
    {
     "name": "stdout",
     "output_type": "stream",
     "text": [
      "s_3_5_thr_L_e\t1.0\t0.0\n",
      "s_3_8_thr_L_e\t1.0\t0.0\n",
      "s_3_0_thr_L_e\t1.0\t0.225\n",
      "s_3_2_thr_L_e\t1.0\t0.0\n",
      "s_3_6_thr_L_e\t1.0\t0.225\n",
      "s_3_4_thr_L_e\t1.0\t0.225\n",
      "s_3_1_thr_L_e\t1.0\t0.151818777046\n",
      "s_3_7_thr_L_e\t1.0\t0.173181222952\n"
     ]
    }
   ],
   "source": [
    "x_dict = locater.model.solution.x_dict\n",
    "\n",
    "cons=locater.model.metabolites.query('source_cap')[0]\n",
    "for rxn in cons.reactions:\n",
    "    x = x_dict[rxn.id]\n",
    "    print(\"%s\\t%s\\t%s\" % (rxn.id, rxn.metabolites[cons], x))"
   ]
  },
  {
   "cell_type": "code",
   "execution_count": 25,
   "metadata": {
    "collapsed": false,
    "deletable": true,
    "editable": true
   },
   "outputs": [
    {
     "name": "stdout",
     "output_type": "stream",
     "text": [
      "e_0_8_pro_L_e\t1.0\t0.0\n",
      "e_0_4_pro_L_e\t1.0\t0.0\n",
      "e_0_7_pro_L_e\t1.0\t0.0\n",
      "e_0_2_pro_L_e\t1.0\t0.0\n",
      "EX_pro_L_e_Ruminococcus_torques_ATCC_27756_0\t-1.0\t-0.0\n",
      "e_0_5_pro_L_e\t1.0\t0.0\n",
      "e_0_1_pro_L_e\t1.0\t0.0\n",
      "e_0_6_pro_L_e\t1.0\t0.0\n"
     ]
    }
   ],
   "source": [
    "x_dict = locater.model.solution.x_dict\n",
    "\n",
    "cons=locater.model.metabolites.query('crossfeed_')[0]\n",
    "for rxn in cons.reactions:\n",
    "    x = x_dict[rxn.id]\n",
    "    print(\"%s\\t%s\\t%s\" % (rxn.id, rxn.metabolites[cons], x))"
   ]
  },
  {
   "cell_type": "markdown",
   "metadata": {},
   "source": [
    "## Check to see what each org,node is growing on"
   ]
  },
  {
   "cell_type": "code",
   "execution_count": null,
   "metadata": {
    "collapsed": true
   },
   "outputs": [],
   "source": []
  },
  {
   "cell_type": "markdown",
   "metadata": {
    "deletable": true,
    "editable": true
   },
   "source": [
    "locater.model.reactions.query('^biomass')"
   ]
  },
  {
   "cell_type": "markdown",
   "metadata": {
    "deletable": true,
    "editable": true
   },
   "source": [
    "locater.model.reactions.query('^y_')"
   ]
  },
  {
   "cell_type": "markdown",
   "metadata": {
    "deletable": true,
    "editable": true
   },
   "source": [
    "cons = locater.model.metabolites.query('cons_uptake')[0]\n",
    "cons.reactions\n",
    "\n",
    "locater.model.metabolites.query('cons_uptake')\n",
    "\n",
    "df_ex\n",
    "\n",
    "df_sources.head()"
   ]
  },
  {
   "cell_type": "markdown",
   "metadata": {
    "deletable": true,
    "editable": true
   },
   "source": [
    "# Plot the result"
   ]
  },
  {
   "cell_type": "code",
   "execution_count": 26,
   "metadata": {
    "collapsed": false
   },
   "outputs": [],
   "source": [
    "x_dict = locater.model.solution.x_dict\n",
    "org_ids = [mdl.id for mdl in models]\n",
    "rows = []\n",
    "for ni,nrow in df_node.iterrows():\n",
    "    x = nrow['x']\n",
    "    y = nrow['y']\n",
    "    node = nrow['node']\n",
    "    typ = nrow['type']\n",
    "    if typ=='source':\n",
    "        density = df_source[ df_source['node']==node].vmax.iloc[0]\n",
    "        rows.append({'x':x, 'y':y, 'density':density, 'type':typ})\n",
    "    else:\n",
    "        for oi,orow in df_organism.iterrows():\n",
    "            mu_id = orow['biomass']\n",
    "            org_id = orow['id']\n",
    "            yid = 'y_%s_%s'%(org_id,node)\n",
    "            yval = x_dict[yid]\n",
    "            if yval > 0.5:\n",
    "                mu_id = '%s_%s_%s'%(mu_id,org_id,node)\n",
    "                mu = x_dict[mu_id]\n",
    "                rows.append({'x':x,'y':y,'density':mu, 'type':org_id})\n",
    "dsplot = pd.DataFrame(rows)"
   ]
  },
  {
   "cell_type": "code",
   "execution_count": 27,
   "metadata": {
    "collapsed": false
   },
   "outputs": [
    {
     "data": {
      "text/html": [
       "<div>\n",
       "<style scoped>\n",
       "    .dataframe tbody tr th:only-of-type {\n",
       "        vertical-align: middle;\n",
       "    }\n",
       "\n",
       "    .dataframe tbody tr th {\n",
       "        vertical-align: top;\n",
       "    }\n",
       "\n",
       "    .dataframe thead th {\n",
       "        text-align: right;\n",
       "    }\n",
       "</style>\n",
       "<table border=\"1\" class=\"dataframe\">\n",
       "  <thead>\n",
       "    <tr style=\"text-align: right;\">\n",
       "      <th></th>\n",
       "      <th>density</th>\n",
       "      <th>type</th>\n",
       "      <th>x</th>\n",
       "      <th>y</th>\n",
       "    </tr>\n",
       "  </thead>\n",
       "  <tbody>\n",
       "    <tr>\n",
       "      <th>0</th>\n",
       "      <td>0.508223</td>\n",
       "      <td>Bacteroides_caccae_ATCC_43185</td>\n",
       "      <td>0</td>\n",
       "      <td>0</td>\n",
       "    </tr>\n",
       "    <tr>\n",
       "      <th>1</th>\n",
       "      <td>0.495270</td>\n",
       "      <td>Bacteroides_caccae_ATCC_43185</td>\n",
       "      <td>1</td>\n",
       "      <td>0</td>\n",
       "    </tr>\n",
       "    <tr>\n",
       "      <th>2</th>\n",
       "      <td>0.448592</td>\n",
       "      <td>Bacteroides_caccae_ATCC_43185</td>\n",
       "      <td>2</td>\n",
       "      <td>0</td>\n",
       "    </tr>\n",
       "    <tr>\n",
       "      <th>3</th>\n",
       "      <td>1.000000</td>\n",
       "      <td>source</td>\n",
       "      <td>0</td>\n",
       "      <td>1</td>\n",
       "    </tr>\n",
       "    <tr>\n",
       "      <th>4</th>\n",
       "      <td>0.513927</td>\n",
       "      <td>Bacteroides_caccae_ATCC_43185</td>\n",
       "      <td>1</td>\n",
       "      <td>1</td>\n",
       "    </tr>\n",
       "    <tr>\n",
       "      <th>5</th>\n",
       "      <td>0.460971</td>\n",
       "      <td>Bacteroides_caccae_ATCC_43185</td>\n",
       "      <td>2</td>\n",
       "      <td>1</td>\n",
       "    </tr>\n",
       "    <tr>\n",
       "      <th>6</th>\n",
       "      <td>0.513927</td>\n",
       "      <td>Bacteroides_caccae_ATCC_43185</td>\n",
       "      <td>0</td>\n",
       "      <td>2</td>\n",
       "    </tr>\n",
       "    <tr>\n",
       "      <th>7</th>\n",
       "      <td>0.496483</td>\n",
       "      <td>Bacteroides_caccae_ATCC_43185</td>\n",
       "      <td>1</td>\n",
       "      <td>2</td>\n",
       "    </tr>\n",
       "    <tr>\n",
       "      <th>8</th>\n",
       "      <td>0.448592</td>\n",
       "      <td>Bacteroides_caccae_ATCC_43185</td>\n",
       "      <td>2</td>\n",
       "      <td>2</td>\n",
       "    </tr>\n",
       "  </tbody>\n",
       "</table>\n",
       "</div>"
      ],
      "text/plain": [
       "    density                           type  x  y\n",
       "0  0.508223  Bacteroides_caccae_ATCC_43185  0  0\n",
       "1  0.495270  Bacteroides_caccae_ATCC_43185  1  0\n",
       "2  0.448592  Bacteroides_caccae_ATCC_43185  2  0\n",
       "3  1.000000  source                         0  1\n",
       "4  0.513927  Bacteroides_caccae_ATCC_43185  1  1\n",
       "5  0.460971  Bacteroides_caccae_ATCC_43185  2  1\n",
       "6  0.513927  Bacteroides_caccae_ATCC_43185  0  2\n",
       "7  0.496483  Bacteroides_caccae_ATCC_43185  1  2\n",
       "8  0.448592  Bacteroides_caccae_ATCC_43185  2  2"
      ]
     },
     "execution_count": 27,
     "metadata": {},
     "output_type": "execute_result"
    }
   ],
   "source": [
    "dsplot"
   ]
  },
  {
   "cell_type": "markdown",
   "metadata": {
    "deletable": true,
    "editable": true
   },
   "source": [
    "# Plot results"
   ]
  },
  {
   "cell_type": "markdown",
   "metadata": {
    "collapsed": false,
    "deletable": true,
    "editable": true
   },
   "source": [
    "plot_dict = {\n",
    "    'x':[0,2,0, 1,2,1, 0,1,2],\n",
    "    'y':[1,1,0, 0,0,1, 2,2,2],\n",
    "    'type':['cellb','acgal','org', 'org','org','org', 'org','org','org'],\n",
    "    'density':[2,2,1, 1,1,1, 1,1,1]\n",
    "}\n",
    "dsplot = pd.DataFrame.from_dict(plot_dict)"
   ]
  },
  {
   "cell_type": "markdown",
   "metadata": {
    "collapsed": false,
    "deletable": true,
    "editable": true
   },
   "source": [
    "from dynamicme.location import CommunityPlotter\n",
    "plotter = CommunityPlotter()\n",
    "plotter.plot(dsplot, zcol='density', points=True)"
   ]
  },
  {
   "cell_type": "code",
   "execution_count": 28,
   "metadata": {
    "collapsed": false,
    "deletable": true,
    "editable": true
   },
   "outputs": [
    {
     "data": {
      "text/plain": [
       "<matplotlib.colorbar.Colorbar at 0x7f94241bb9d0>"
      ]
     },
     "execution_count": 28,
     "metadata": {},
     "output_type": "execute_result"
    },
    {
     "data": {
      "image/png": "[encoded data removed]",
      "text/plain": [
       "<matplotlib.figure.Figure at 0x7f9424544f50>"
      ]
     },
     "metadata": {},
     "output_type": "display_data"
    }
   ],
   "source": [
    "from scipy import interpolate\n",
    "\n",
    "x = dsplot.x\n",
    "y = dsplot.y\n",
    "z = dsplot.density\n",
    "xx = np.linspace(x.min(), x.max(), 100)\n",
    "yy = np.linspace(y.min(), y.max(), 100)\n",
    "X,Y = np.meshgrid(xx,yy)\n",
    "\n",
    "### Add some noise to prevent singular matrix in interpolate\n",
    "dr = 0.0001\n",
    "xr = x + np.random.uniform(-dr, dr, size=x.shape)\n",
    "yr = y + np.random.uniform(-dr, dr, size=y.shape)\n",
    "rbf = interpolate.Rbf(xr,yr,z, function='linear')\n",
    "#rbf = interpolate.Rbf(x,y,z, function='cubic')\n",
    "#rbf = interpolate.RectBivariateSpline(x,y,z)\n",
    "Z = rbf(X,Y)\n",
    "\n",
    "ax = plt.imshow(Z, vmin=z.min(), vmax=z.max(), origin='lower',\n",
    "          extent=[x.min(), x.max(), y.min(), y.max()])\n",
    "ax.set_cmap('nipy_spectral')\n",
    "plt.scatter(x, y, c=z, edgecolors='#ffffff')\n",
    "ax.axes.set_facecolor('#222222')\n",
    "plt.colorbar()"
   ]
  },
  {
   "cell_type": "markdown",
   "metadata": {
    "collapsed": false,
    "deletable": true,
    "editable": true
   },
   "source": [
    "for rxn in B_cell.reactions.query('EX_'):\n",
    "    if rxn.x < -1e-3:\n",
    "        print('%s:\\t %s <= %s <= %s' % (rxn.id, rxn.lower_bound, rxn.x, rxn.upper_bound))"
   ]
  }
 ],
 "metadata": {
  "kernelspec": {
   "display_name": "Python 2",
   "language": "python",
   "name": "python2"
  },
  "language_info": {
   "codemirror_mode": {
    "name": "ipython",
    "version": 2
   },
   "file_extension": ".py",
   "mimetype": "text/x-python",
   "name": "python",
   "nbconvert_exporter": "python",
   "pygments_lexer": "ipython2",
   "version": "2.7.14"
  }
 },
 "nbformat": 4,
 "nbformat_minor": 2
}
