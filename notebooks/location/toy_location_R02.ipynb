{
 "cells": [
  {
   "cell_type": "markdown",
   "metadata": {
    "deletable": true,
    "editable": true
   },
   "source": [
    "# Location modeling for microbiome colonization"
   ]
  },
  {
   "cell_type": "markdown",
   "metadata": {},
   "source": [
    "$$\n",
    "\\begin{align}\n",
    "\\min_{v^k,y^k} \\quad & -\\sum_k \\sum_j c_k^T v^k_j \\\\\n",
    "\\mathrm{s.t.}  \\quad & S^k v^k_j = 0, \\quad j \\in \\mathrm{Locations} \\\\\n",
    "                     & l^k_j y^k_j \\leq v^k_j \\leq u^k_j y^k_j \\\\\n",
    "                     & \\sum_j y^k_j \\leq X^k_0 + X^k_0 \\mu^k T_c \\\\                     \n",
    "                     & \\sum_k y^k_j \\leq 1, \\quad j\\in \\mathrm{Locations} \\\\\n",
    "                     & v^k_{lj} \\geq \\sum_i \\frac{v^\\mathrm{tot}_{lij}}{d_{ij}} + \\sum_{p\\neq j} \\frac{v^\\mathrm{synth}_{lp}}{d_{jp}}, \\quad l\\in \\mathrm{Nutrients},\\ j\\in \\mathrm{Locations},\\ k\\in \\mathrm{Organisms} \\\\\n",
    "                     & v^\\mathrm{tot}_{il} \\leq \\sum_k \\sum_j v^k_{lij} d_{ij}, \\quad l\\in \\mathrm{Nutrients},\\ i\\in \\mathrm{Sources} \\\\\n",
    "                     & y^k_j \\in \\{0,1\\}.\n",
    "\\end{align}\n",
    "$$"
   ]
  },
  {
   "cell_type": "markdown",
   "metadata": {
    "deletable": true,
    "editable": true
   },
   "source": [
    "## Recapitulate:\n",
    "http://www.pnas.org/content/early/2017/10/04/1711596114.short\n",
    "- macro-scale patterns:\n",
    "    - [Fig 2A,B](http://www.pnas.org/content/pnas/early/2017/10/04/1711596114/F4.large.jpg)\n",
    "- microhabitats composition (dominant):\n",
    "    - dominant species: Bacteroides dominate all microhabitats\n",
    "        - Bacteroides: 43% of densely colonized and 46% of sparsely colonized fields\n",
    "        - C. aerofaciens: 11% in densely, 6% in sparsely\n",
    "        - C. scindens: 8% in both\n",
    "        - R. torques: 3% in dense, 2% in sparse    \n",
    "- inter-taxa correlations ([Fig. S3](http://www.pnas.org/content/pnas/early/2017/10/04/1711596114/F9.large.jpg))\n",
    "    - some species show negative correlation\n",
    "    - but R^2 small and p-values not reported!\n",
    "- micro-scale spatial patterns (numbers are for mouse)\n",
    "    - proximal colon shows homogenized community due to mixing and dispersal by host factors\n",
    "    - turnover for mucus is 6 h for mucus in goblet cells and 1 h for inner mucus layer in distal colon\n",
    "    - replication time of B. thetaiotaomicron and E. coli is 3 h in mucus layer and 3-8 h in colonic contents\n",
    "    - therefore, microbes divide only a few rounds before being shed along with mucus into lumen\n",
    "    - gut contents traverse mouse intestine in 4-6 h\n",
    "    - overall, the turnover and shedding diminishes/disrupts segregated communities and spatial structure\n",
    "    - note: human dental plaque form clustered and ordered arrangements"
   ]
  },
  {
   "cell_type": "markdown",
   "metadata": {
    "deletable": true,
    "editable": true
   },
   "source": [
    "### Bacteria:\n",
    "http://www.pnas.org/content/early/2017/10/04/1711596114.short\n",
    "- 6 species (in [AGORA](https://vmh.uni.lu/#downloadview)?):\n",
    "    - Bacteroides cellulosilyticus (yes, DSM 14838)\n",
    "    - Bacteroides caccae (yes, ATCC 43185)\n",
    "    - Parabacteroides distasonis (yes, ATCC 8503)\n",
    "    - Ruminococcus torques (yes, ATCC 27756, L2-14)\n",
    "    - Clostridium scindens (yes, ATCC 35704)\n",
    "    - Collinsella aerofaciens (yes, ATCC 25986)\n",
    "- 4 Moderately abundant Bacteroides:\n",
    "    - Bacteroides thetaiotaomicron (yes, VPI-5482)\n",
    "    - Bacteroides vulgatus (yes, ATCC 8482)\n",
    "    - Bacteroides ovatus (yes, ATCC 8483, SD CC 2a, SD CMC 3f)\n",
    "    - Bacteroides uniformis (yes, ATCC 8492)\n",
    "- 5 low abundance Firmicutes\n",
    "    - Eubacterium rectale (yes, ATCC 33656, M104/1)\n",
    "    - Clostridium spiroforme (yes, DSM 1552)\n",
    "    - Faecalibacterium prausnitzii ()yes, L2-6\n",
    "    - Ruminococcus obeum (yes, A2-162)\n",
    "    - Dorea longicatena (yes, DSM 13814)"
   ]
  },
  {
   "cell_type": "markdown",
   "metadata": {
    "deletable": true,
    "editable": true
   },
   "source": [
    "## Grid"
   ]
  },
  {
   "cell_type": "code",
   "execution_count": 1,
   "metadata": {
    "collapsed": true,
    "deletable": true,
    "editable": true
   },
   "outputs": [],
   "source": [
    "from gurobipy import *\n",
    "\n",
    "import seaborn as sns\n",
    "import pandas as pd\n",
    "import matplotlib.pyplot as plt\n",
    "import numpy as np\n",
    "\n",
    "plt.rcParams['svg.fonttype'] = 'none'\n",
    "pd.set_option('display.max_colwidth', -1)\n",
    "%matplotlib inline\n",
    "\n",
    "from cobra.io import load_json_model\n",
    "from six import iteritems\n",
    "import numpy as np\n",
    "import cobra"
   ]
  },
  {
   "cell_type": "code",
   "execution_count": 2,
   "metadata": {
    "collapsed": false,
    "deletable": true,
    "editable": true
   },
   "outputs": [
    {
     "name": "stdout",
     "output_type": "stream",
     "text": [
      "mu: before=0.337029885021. after=0.337029885021\n",
      "mu: before=0.527200385031. after=0.527200385031\n",
      "mu: before=0.300894735033. after=0.300894735033\n",
      "mu: before=0.1048777824. after=0.1048777824\n",
      "mu: before=0.239918094612. after=0.239918094612\n",
      "mu: before=0.119252112661. after=0.119252112661\n",
      "mu: before=0.445426858511. after=0.445426858511\n",
      "mu: before=0.507100103943. after=0.507100103943\n",
      "mu: before=0.351568777871. after=0.351568777871\n",
      "mu: before=0.165967078669. after=0.165967078669\n",
      "mu: before=0.348346607661. after=0.348346607661\n",
      "mu: before=0.121469370222. after=0.121469370222\n",
      "mu: before=0.296304193686. after=0.296304193686\n",
      "mu: before=0.114862357703. after=0.114862357703\n",
      "mu: before=0.291237838539. after=0.291237838539\n"
     ]
    }
   ],
   "source": [
    "from cobra.io.sbml3 import read_sbml_model\n",
    "\n",
    "def repair_model(mdl):\n",
    "    obj0 = mdl.optimize().f\n",
    "    for rxn in mdl.reactions:\n",
    "        rxn.id = rxn.id.replace('__40__','_').replace('__41__','')\n",
    "    for met in mdl.metabolites:\n",
    "        met.id = met.id.replace('__91__','_').replace('__93__','')\n",
    "    mdl.repair()\n",
    "    obj1 = mdl.optimize().f\n",
    "    print('mu: before=%s. after=%s' % (obj0,obj1))\n",
    "    assert abs(obj1-obj0)<1e-9\n",
    "\n",
    "mdl_files = [\n",
    "    # 6 species:\n",
    "    # Bacteroides cellulosilyticus (yes, DSM 14838)\n",
    "    'Bacteroides_cellulosilyticus_DSM_14838',\n",
    "    # Bacteroides caccae (yes, ATCC 43185)\n",
    "    'Bacteroides_caccae_ATCC_43185',\n",
    "    # Parabacteroides distasonis (yes, ATCC 8503)\n",
    "    'Parabacteroides_distasonis_ATCC_8503',\n",
    "    # Ruminococcus torques (yes, ATCC 27756, L2-14)\n",
    "    'Ruminococcus_torques_ATCC_27756',\n",
    "    # Clostridium scindens (yes, ATCC 35704)\n",
    "    'Clostridium_scindens_ATCC_35704',\n",
    "    # Collinsella aerofaciens (yes, ATCC 25986)\n",
    "    'Collinsella_aerofaciens_ATCC_25986',\n",
    "    # 4 Moderately abundant Bacteroides:\n",
    "    # Bacteroides thetaiotaomicron (yes, VPI-5482)\n",
    "    'Bacteroides_thetaiotaomicron_VPI_5482',\n",
    "    # Bacteroides vulgatus (yes, ATCC 8482)\n",
    "    'Bacteroides_vulgatus_ATCC_8482',\n",
    "    # Bacteroides ovatus (yes, ATCC 8483, SD CC 2a, SD CMC 3f)\n",
    "    'Bacteroides_ovatus_ATCC_8483',\n",
    "    # Bacteroides uniformis (yes, ATCC 8492)\n",
    "    'Bacteroides_uniformis_ATCC_8492',\n",
    "    # 5 low abundance Firmicutes\n",
    "    # Eubacterium rectale (yes, ATCC 33656, M104/1)\n",
    "    'Eubacterium_rectale_ATCC_33656',\n",
    "    # Clostridium spiroforme (yes, DSM 1552)\n",
    "    'Clostridium_spiroforme_DSM_1552',\n",
    "    # Faecalibacterium prausnitzii ()yes, L2-6\n",
    "    'Faecalibacterium_prausnitzii_L2_6',\n",
    "    # Ruminococcus obeum (yes, A2-162)\n",
    "    'Ruminococcus_obeum_A2_162',\n",
    "    # Dorea longicatena (yes, DSM 13814)\n",
    "    'Dorea_longicatena_DSM_13814'\n",
    "]\n",
    "\n",
    "from os import path\n",
    "\n",
    "models = []\n",
    "for fn in mdl_files:\n",
    "    mdl = read_sbml_model(path.join('/home/laurence/ME/data/microbiome/Agora_1_02_Western/sbml', fn+'.xml'))\n",
    "    repair_model(mdl)\n",
    "    models.append(mdl)\n",
    "\n",
    "    # B_caccae = read_sbml_model('/home/laurence/ME/data/microbiome/Agora_1_02_Western/sbml/Bacteroides_caccae_ATCC_43185.xml')\n",
    "# repair_model(B_caccae)\n",
    "# B_cell = read_sbml_model('/home/laurence/ME/data/microbiome/Agora_1_02_Western/sbml/Bacteroides_cellulosilyticus_DSM_14838.xml')\n",
    "# repair_model(B_cell)\n",
    "# R_torques = read_sbml_model('/home/laurence/ME/data/microbiome/Agora_1_02_Western/sbml/Ruminococcus_torques_ATCC_27756.xml')\n",
    "# repair_model(R_torques)\n",
    "# C_spiro = read_sbml_model('/home/laurence/ME/data/microbiome/Agora_1_02_Western/sbml/Clostridium_spiroforme_DSM_1552.xml')\n",
    "# repair_model(C_spiro)\n",
    "# models = [B_caccae, R_torques, C_spiro]"
   ]
  },
  {
   "cell_type": "code",
   "execution_count": 3,
   "metadata": {
    "collapsed": false,
    "deletable": true,
    "editable": true
   },
   "outputs": [
    {
     "name": "stdout",
     "output_type": "stream",
     "text": [
      "mdl=Bacteroides_cellulosilyticus_DSM_14838. rxn=biomass536. objcoeff=1.0\n",
      "mdl=Bacteroides_caccae_ATCC_43185. rxn=biomass536. objcoeff=1.0\n",
      "mdl=Parabacteroides_distasonis_ATCC_8503. rxn=biomass345. objcoeff=1.0\n",
      "mdl=Ruminococcus_torques_ATCC_27756. rxn=biomass525. objcoeff=1.0\n",
      "mdl=Clostridium_scindens_ATCC_35704. rxn=biomass524. objcoeff=1.0\n",
      "mdl=Collinsella_aerofaciens_ATCC_25986. rxn=biomass524. objcoeff=1.0\n",
      "mdl=Bacteroides_thetaiotaomicron_VPI_5482. rxn=biomass345. objcoeff=1.0\n",
      "mdl=Bacteroides_vulgatus_ATCC_8482. rxn=biomass345. objcoeff=1.0\n",
      "mdl=Bacteroides_ovatus_ATCC_8483. rxn=biomass536. objcoeff=1.0\n",
      "mdl=Bacteroides_uniformis_ATCC_8492. rxn=biomass536. objcoeff=1.0\n",
      "mdl=Eubacterium_rectale_ATCC_33656. rxn=biomass205. objcoeff=1.0\n",
      "mdl=Clostridium_spiroforme_DSM_1552. rxn=biomass525. objcoeff=1.0\n",
      "mdl=Faecalibacterium_prausnitzii_L2_6. rxn=biomass525. objcoeff=1.0\n",
      "mdl=Ruminococcus_obeum_A2_162. rxn=biomass525. objcoeff=1.0\n",
      "mdl=Dorea_longicatena_DSM_13814. rxn=biomass525. objcoeff=1.0\n"
     ]
    }
   ],
   "source": [
    "for mdl in models:\n",
    "    for rxn in mdl.reactions:\n",
    "        if rxn.objective_coefficient != 0:\n",
    "            print('mdl=%s. rxn=%s. objcoeff=%s' % (mdl.id, rxn.id, rxn.objective_coefficient))"
   ]
  },
  {
   "cell_type": "code",
   "execution_count": 4,
   "metadata": {
    "collapsed": false,
    "deletable": true,
    "editable": true
   },
   "outputs": [],
   "source": [
    "from cobra.flux_analysis import flux_variability_analysis\n",
    "from six import iteritems\n",
    "\n",
    "def exchanged_mets(mdl, cons_thresh=-0.1, secr_thresh=0.1, f_opt=1., reqd_thresh=-1e-8,\n",
    "                  exclude=['biomass_c','h2o_e','pi_e','ppi_e','h_e','k_e']):\n",
    "    ex_rxn_all = mdl.reactions.query('^EX_')\n",
    "    ex_rxn = [rxn for rxn in ex_rxn_all if not any([m in [met.id for met in rxn.metabolites.keys()] for m in exclude]) ]\n",
    "    \n",
    "    rxn_met_dict = {rxn.id:[m for m,s in iteritems(rxn.metabolites) if s<0] for rxn in ex_rxn}\n",
    "    met_rxn_dict = {m.id:rxn.id for rxn in ex_rxn for m,s in iteritems(rxn.metabolites) if s<0}\n",
    "    \n",
    "    sol = flux_variability_analysis(mdl, ex_rxn, solver='gurobi', fraction_of_optimum=f_opt)\n",
    "    secr = [m.id for k,v in iteritems(sol) if v['maximum']>=secr_thresh for m in rxn_met_dict[k]]\n",
    "    cons = [m.id for k,v in iteritems(sol) if v['minimum']<=cons_thresh for m in rxn_met_dict[k]]\n",
    "    reqd = [m.id for k,v in iteritems(sol) if v['maximum']<=reqd_thresh for m in rxn_met_dict[k]]\n",
    "    req_rxns = [k for k,v in iteritems(sol) if v['maximum']<=reqd_thresh]\n",
    "    return {'secreted':secr, 'consumed':cons, 'required':reqd, 'met_rxn':met_rxn_dict, 'req_rxns':req_rxns}"
   ]
  },
  {
   "cell_type": "markdown",
   "metadata": {
    "deletable": true,
    "editable": true
   },
   "source": [
    "# Data frames"
   ]
  },
  {
   "cell_type": "markdown",
   "metadata": {
    "deletable": true,
    "editable": true
   },
   "source": [
    "### Sources"
   ]
  },
  {
   "cell_type": "code",
   "execution_count": 5,
   "metadata": {
    "collapsed": false,
    "deletable": true,
    "editable": true
   },
   "outputs": [
    {
     "data": {
      "text/html": [
       "<div>\n",
       "<style scoped>\n",
       "    .dataframe tbody tr th:only-of-type {\n",
       "        vertical-align: middle;\n",
       "    }\n",
       "\n",
       "    .dataframe tbody tr th {\n",
       "        vertical-align: top;\n",
       "    }\n",
       "\n",
       "    .dataframe thead th {\n",
       "        text-align: right;\n",
       "    }\n",
       "</style>\n",
       "<table border=\"1\" class=\"dataframe\">\n",
       "  <thead>\n",
       "    <tr style=\"text-align: right;\">\n",
       "      <th></th>\n",
       "      <th>met</th>\n",
       "      <th>node</th>\n",
       "      <th>rxn</th>\n",
       "      <th>source</th>\n",
       "      <th>vmax</th>\n",
       "    </tr>\n",
       "  </thead>\n",
       "  <tbody>\n",
       "    <tr>\n",
       "      <th>0</th>\n",
       "      <td>ppa_e</td>\n",
       "      <td>NaN</td>\n",
       "      <td>EX_ppa_e</td>\n",
       "      <td>Bacteroides_cellulosilyticus_DSM_14838</td>\n",
       "      <td>NaN</td>\n",
       "    </tr>\n",
       "    <tr>\n",
       "      <th>1</th>\n",
       "      <td>for_e</td>\n",
       "      <td>NaN</td>\n",
       "      <td>EX_for_e</td>\n",
       "      <td>Bacteroides_cellulosilyticus_DSM_14838</td>\n",
       "      <td>NaN</td>\n",
       "    </tr>\n",
       "  </tbody>\n",
       "</table>\n",
       "</div>"
      ],
      "text/plain": [
       "     met  node       rxn                                  source  vmax\n",
       "0  ppa_e NaN    EX_ppa_e  Bacteroides_cellulosilyticus_DSM_14838 NaN  \n",
       "1  for_e NaN    EX_for_e  Bacteroides_cellulosilyticus_DSM_14838 NaN  "
      ]
     },
     "execution_count": 5,
     "metadata": {},
     "output_type": "execute_result"
    }
   ],
   "source": [
    "rows = []\n",
    "# Cross-feed sources\n",
    "for mdl in models:\n",
    "    exmets = exchanged_mets(mdl)\n",
    "    mr_dict= exmets['met_rxn']\n",
    "    secr = exmets['secreted']\n",
    "    reqd = exmets['required']\n",
    "    for met in secr:\n",
    "        rxn = mr_dict[met]\n",
    "        rows.append({'met':met, 'source':mdl.id, 'rxn':rxn, 'node':np.nan, 'vmax':np.nan})\n",
    "        \n",
    "# Primary sources. Each source should provide all mets to be constrained\n",
    "\n",
    "#ex1 = exchanged_mets(R_torques)\n",
    "ex1 = exchanged_mets(models[0])\n",
    "for met in ex1['consumed']:\n",
    "    rows.append({'met':met, 'source':'primary', 'rxn':np.nan, 'node':3, 'vmax':1})\n",
    "    rows.append({'met':met, 'source':'primary', 'rxn':np.nan, 'node':14, 'vmax':1})\n",
    "\n",
    "df_source = pd.DataFrame(rows)\n",
    "df_source.head(2)"
   ]
  },
  {
   "cell_type": "markdown",
   "metadata": {
    "deletable": true,
    "editable": true
   },
   "source": [
    "### Consumers"
   ]
  },
  {
   "cell_type": "code",
   "execution_count": 6,
   "metadata": {
    "collapsed": false,
    "deletable": true,
    "editable": true
   },
   "outputs": [
    {
     "data": {
      "text/html": [
       "<div>\n",
       "<style scoped>\n",
       "    .dataframe tbody tr th:only-of-type {\n",
       "        vertical-align: middle;\n",
       "    }\n",
       "\n",
       "    .dataframe tbody tr th {\n",
       "        vertical-align: top;\n",
       "    }\n",
       "\n",
       "    .dataframe thead th {\n",
       "        text-align: right;\n",
       "    }\n",
       "</style>\n",
       "<table border=\"1\" class=\"dataframe\">\n",
       "  <thead>\n",
       "    <tr style=\"text-align: right;\">\n",
       "      <th></th>\n",
       "      <th>id</th>\n",
       "      <th>met</th>\n",
       "      <th>rxn</th>\n",
       "    </tr>\n",
       "  </thead>\n",
       "  <tbody>\n",
       "    <tr>\n",
       "      <th>0</th>\n",
       "      <td>Bacteroides_cellulosilyticus_DSM_14838</td>\n",
       "      <td>leu_L_e</td>\n",
       "      <td>EX_leu_L_e</td>\n",
       "    </tr>\n",
       "    <tr>\n",
       "      <th>1</th>\n",
       "      <td>Bacteroides_cellulosilyticus_DSM_14838</td>\n",
       "      <td>fuc_L_e</td>\n",
       "      <td>EX_fuc_L_e</td>\n",
       "    </tr>\n",
       "  </tbody>\n",
       "</table>\n",
       "</div>"
      ],
      "text/plain": [
       "                                       id      met         rxn\n",
       "0  Bacteroides_cellulosilyticus_DSM_14838  leu_L_e  EX_leu_L_e\n",
       "1  Bacteroides_cellulosilyticus_DSM_14838  fuc_L_e  EX_fuc_L_e"
      ]
     },
     "execution_count": 6,
     "metadata": {},
     "output_type": "execute_result"
    }
   ],
   "source": [
    "rows = []\n",
    "for mdl in models:\n",
    "    exmets = exchanged_mets(mdl)\n",
    "    mr_dict= exmets['met_rxn']\n",
    "    cons = exmets['consumed']\n",
    "    for met in cons:\n",
    "        rxn = mr_dict[met]\n",
    "        rows.append({'met':met, 'id':mdl.id, 'rxn':rxn})\n",
    "\n",
    "df_consumer = pd.DataFrame(rows)\n",
    "df_consumer.head(2)"
   ]
  },
  {
   "cell_type": "markdown",
   "metadata": {
    "deletable": true,
    "editable": true
   },
   "source": [
    "## Keep only the mets that are shared across producers and consumers\n",
    "### Only keep primary sources that feed one microbe to force cross-feeding"
   ]
  },
  {
   "cell_type": "code",
   "execution_count": 7,
   "metadata": {
    "collapsed": false,
    "deletable": true,
    "editable": true
   },
   "outputs": [
    {
     "data": {
      "text/plain": [
       "['glyc_e', 'glu_L_e', 'gly_e', 'gln_L_e', 'asp_L_e']"
      ]
     },
     "execution_count": 7,
     "metadata": {},
     "output_type": "execute_result"
    }
   ],
   "source": [
    "r_cons = df_consumer.met[ df_consumer.id=='Ruminococcus_torques_ATCC_27756']\n",
    "b_cons = df_consumer.met[ df_consumer.id=='Bacteroides_caccae_ATCC_43185']\n",
    "mets_r = [r for r in r_cons if r not in b_cons.values]\n",
    "mets_r"
   ]
  },
  {
   "cell_type": "code",
   "execution_count": 8,
   "metadata": {
    "collapsed": false,
    "deletable": true,
    "editable": true
   },
   "outputs": [],
   "source": [
    "df_primary_lim = df_source[\n",
    "    (df_source['source']=='primary') &\n",
    "    (df_source.met.isin(mets_r))\n",
    "]\n",
    "df_cross =  df_source[ df_source['source'] != 'primary']\n",
    "df_source_lim = pd.concat([df_primary_lim, df_cross])"
   ]
  },
  {
   "cell_type": "code",
   "execution_count": 9,
   "metadata": {
    "collapsed": false,
    "deletable": true,
    "editable": true
   },
   "outputs": [
    {
     "data": {
      "text/plain": [
       "array(['2obut_e', 'ac_e', 'acgam_e', 'adn_e', 'ala_D_e', 'ala_L_e',\n",
       "       'arab_L_e', 'arg_L_e', 'asn_L_e', 'asp_L_e', 'cys_L_e', 'cytd_e',\n",
       "       'dad_2_e', 'dgsn_e', 'for_e', 'fru_e', 'fuc_L_e', 'fum_e', 'gal_e',\n",
       "       'gam_e', 'glc_D_e', 'gln_L_e', 'glu_L_e', 'gly_e', 'gsn_e',\n",
       "       'gthox_e', 'gthrd_e', 'h2_e', 'leu_L_e', 'lys_L_e', 'man_e',\n",
       "       'no2_e', 'orn_e', 'phe_L_e', 'pro_L_e', 'rib_D_e', 'ribflv_e',\n",
       "       'rmn_e', 'ser_L_e', 'thr_L_e', 'tyr_L_e', 'val_L_e', 'xyl_D_e'],\n",
       "      dtype=object)"
      ]
     },
     "execution_count": 9,
     "metadata": {},
     "output_type": "execute_result"
    }
   ],
   "source": [
    "shared_mets = np.intersect1d(df_source.met, df_consumer.met)\n",
    "shared_mets"
   ]
  },
  {
   "cell_type": "code",
   "execution_count": 10,
   "metadata": {
    "collapsed": true,
    "deletable": true,
    "editable": true
   },
   "outputs": [],
   "source": [
    "df_consumer_shared = df_consumer[ df_consumer.met.isin(shared_mets)]\n",
    "df_source_shared = df_source[ df_source.met.isin(shared_mets)]"
   ]
  },
  {
   "cell_type": "markdown",
   "metadata": {
    "deletable": true,
    "editable": true
   },
   "source": [
    "### Unless required or provided by a source (including cross-feed), disable uptake"
   ]
  },
  {
   "cell_type": "code",
   "execution_count": 11,
   "metadata": {
    "collapsed": false,
    "deletable": true,
    "editable": true
   },
   "outputs": [
    {
     "name": "stdout",
     "output_type": "stream",
     "text": [
      "Bacteroides_cellulosilyticus_DSM_14838 can still grow at 0.336363722645\n",
      "Bacteroides_caccae_ATCC_43185 can still grow at 0.52720038503\n",
      "Parabacteroides_distasonis_ATCC_8503 can still grow at 0.300894735032\n",
      "Ruminococcus_torques_ATCC_27756 can still grow at 0.104877782401\n",
      "Clostridium_scindens_ATCC_35704 can still grow at 0.239918094613\n",
      "Collinsella_aerofaciens_ATCC_25986 can still grow at 0.119252112658\n",
      "Bacteroides_thetaiotaomicron_VPI_5482 can still grow at 0.445426858512\n",
      "Bacteroides_vulgatus_ATCC_8482 can still grow at 0.507100103947\n",
      "Bacteroides_ovatus_ATCC_8483 can still grow at 0.350898202922\n",
      "Bacteroides_uniformis_ATCC_8492 can still grow at 0.165967078669\n",
      "Eubacterium_rectale_ATCC_33656 can still grow at 0.348346607661\n",
      "Clostridium_spiroforme_DSM_1552 can still grow at 0.121469370131\n",
      "Faecalibacterium_prausnitzii_L2_6 can still grow at 0.296304193707\n",
      "Ruminococcus_obeum_A2_162 can still grow at 0.114862357706\n",
      "Dorea_longicatena_DSM_13814 can still grow at 0.29123783854\n"
     ]
    }
   ],
   "source": [
    "src_mets = set(df_source['met'].values)\n",
    "for mdl in models:\n",
    "    res = exchanged_mets(mdl, f_opt=0.5)    \n",
    "    mr_dict = res['met_rxn']\n",
    "    src_rxns = [mr_dict[m] for m in src_mets if m in mr_dict]\n",
    "    req_rxns = res['req_rxns']\n",
    "    #dfi = df_consumer_shared[ df_consumer_shared['id']==mdl.id]\n",
    "    dfi = df_consumer[ df_consumer['id']==mdl.id]\n",
    "    cons_rxns = dfi.rxn.values\n",
    "    ### Need to have full set for at least one sol\n",
    "    mdl.optimize()\n",
    "    opt_rxns = [r.id for r in mdl.reactions.query('EX_') if r.x < -1e-6]\n",
    "    \n",
    "    for rxn in mdl.reactions.query('^EX_'):\n",
    "        #if rxn.id not in req_rxns and rxn.id not in src_rxns:            \n",
    "        if rxn.id not in req_rxns and rxn.id not in cons_rxns and rxn.id not in opt_rxns:\n",
    "            rxn.lower_bound = 0.\n",
    "            #print(\"%s. Set lb=0 for %s\" % (mdl.id, rxn.id))\n",
    "    # Ensure model can still grow\n",
    "    mdl.optimize()\n",
    "    if mdl.solution is None:\n",
    "        print(\"%s cannot grow anymore!\" % mdl.id)\n",
    "    else:\n",
    "        print(\"%s can still grow at %s\" % (mdl.id, mdl.solution.f))"
   ]
  },
  {
   "cell_type": "markdown",
   "metadata": {
    "deletable": true,
    "editable": true
   },
   "source": [
    "### Nodes"
   ]
  },
  {
   "cell_type": "code",
   "execution_count": 12,
   "metadata": {
    "collapsed": false,
    "deletable": true,
    "editable": true
   },
   "outputs": [
    {
     "data": {
      "text/html": [
       "<div>\n",
       "<style scoped>\n",
       "    .dataframe tbody tr th:only-of-type {\n",
       "        vertical-align: middle;\n",
       "    }\n",
       "\n",
       "    .dataframe tbody tr th {\n",
       "        vertical-align: top;\n",
       "    }\n",
       "\n",
       "    .dataframe thead th {\n",
       "        text-align: right;\n",
       "    }\n",
       "</style>\n",
       "<table border=\"1\" class=\"dataframe\">\n",
       "  <thead>\n",
       "    <tr style=\"text-align: right;\">\n",
       "      <th></th>\n",
       "      <th>Tf</th>\n",
       "      <th>node</th>\n",
       "      <th>type</th>\n",
       "      <th>x</th>\n",
       "      <th>y</th>\n",
       "    </tr>\n",
       "    <tr>\n",
       "      <th>node</th>\n",
       "      <th></th>\n",
       "      <th></th>\n",
       "      <th></th>\n",
       "      <th></th>\n",
       "      <th></th>\n",
       "    </tr>\n",
       "  </thead>\n",
       "  <tbody>\n",
       "    <tr>\n",
       "      <th>0</th>\n",
       "      <td>2</td>\n",
       "      <td>0</td>\n",
       "      <td>org</td>\n",
       "      <td>0</td>\n",
       "      <td>0</td>\n",
       "    </tr>\n",
       "    <tr>\n",
       "      <th>1</th>\n",
       "      <td>2</td>\n",
       "      <td>1</td>\n",
       "      <td>org</td>\n",
       "      <td>1</td>\n",
       "      <td>0</td>\n",
       "    </tr>\n",
       "  </tbody>\n",
       "</table>\n",
       "</div>"
      ],
      "text/plain": [
       "      Tf  node type  x  y\n",
       "node                     \n",
       "0     2   0     org  0  0\n",
       "1     2   1     org  1  0"
      ]
     },
     "execution_count": 12,
     "metadata": {},
     "output_type": "execute_result"
    }
   ],
   "source": [
    "data = {'x':[0,1,2, 0,1,2, 0,1,2, 0,1,2, 0,1,2],\n",
    "        'y':[0,0,0, 1,1,1, 2,2,2, 3,3,3, 4,4,4],\n",
    "        'node':[0,1,2, 3,4,5, 6,7,8, 9,10,11, 12,13,14],\n",
    "        'type':['org','org','org', 'source','org','org', 'org','org','org', 'org','org','org',\n",
    "               'org','org','source'],\n",
    "        'Tf':[2,2,2, 2,2,2, 2,2,2, 2,2,2, 2,2,2]\n",
    "}\n",
    "df_node = pd.DataFrame.from_dict(data)\n",
    "df_node.index = df_node.node\n",
    "df_node.head(2)"
   ]
  },
  {
   "cell_type": "markdown",
   "metadata": {
    "deletable": true,
    "editable": true
   },
   "source": [
    "### Distances"
   ]
  },
  {
   "cell_type": "code",
   "execution_count": 13,
   "metadata": {
    "collapsed": false,
    "deletable": true,
    "editable": true
   },
   "outputs": [
    {
     "data": {
      "text/html": [
       "<div>\n",
       "<style scoped>\n",
       "    .dataframe tbody tr th:only-of-type {\n",
       "        vertical-align: middle;\n",
       "    }\n",
       "\n",
       "    .dataframe tbody tr th {\n",
       "        vertical-align: top;\n",
       "    }\n",
       "\n",
       "    .dataframe thead th {\n",
       "        text-align: right;\n",
       "    }\n",
       "</style>\n",
       "<table border=\"1\" class=\"dataframe\">\n",
       "  <thead>\n",
       "    <tr style=\"text-align: right;\">\n",
       "      <th></th>\n",
       "      <th>d</th>\n",
       "      <th>i</th>\n",
       "      <th>j</th>\n",
       "    </tr>\n",
       "  </thead>\n",
       "  <tbody>\n",
       "    <tr>\n",
       "      <th>0</th>\n",
       "      <td>0.0</td>\n",
       "      <td>0</td>\n",
       "      <td>0</td>\n",
       "    </tr>\n",
       "    <tr>\n",
       "      <th>1</th>\n",
       "      <td>1.0</td>\n",
       "      <td>0</td>\n",
       "      <td>1</td>\n",
       "    </tr>\n",
       "  </tbody>\n",
       "</table>\n",
       "</div>"
      ],
      "text/plain": [
       "     d  i  j\n",
       "0  0.0  0  0\n",
       "1  1.0  0  1"
      ]
     },
     "execution_count": 13,
     "metadata": {},
     "output_type": "execute_result"
    }
   ],
   "source": [
    "rows = []\n",
    "nodes = df_node.node.unique()\n",
    "for i,rowi in df_node.iterrows():\n",
    "    xi = rowi['x']\n",
    "    yi = rowi['y']\n",
    "    for j,rowj in df_node.iterrows():        \n",
    "        xj = rowj['x']\n",
    "        yj = rowj['y']\n",
    "        dx = xj-xi\n",
    "        dy = yj-yi\n",
    "        d = np.sqrt(dx**2 + dy**2)\n",
    "        rows.append({'i':i, 'j':j, 'd':d})\n",
    "\n",
    "df_distance = pd.DataFrame(rows)\n",
    "df_distance.head(2)"
   ]
  },
  {
   "cell_type": "markdown",
   "metadata": {
    "deletable": true,
    "editable": true
   },
   "source": [
    "### Organisms"
   ]
  },
  {
   "cell_type": "code",
   "execution_count": 14,
   "metadata": {
    "collapsed": false,
    "deletable": true,
    "editable": true
   },
   "outputs": [
    {
     "name": "stdout",
     "output_type": "stream",
     "text": [
      "mdl=Bacteroides_cellulosilyticus_DSM_14838. rxn=biomass536. objcoeff=1.0\n",
      "mdl=Bacteroides_caccae_ATCC_43185. rxn=biomass536. objcoeff=1.0\n",
      "mdl=Parabacteroides_distasonis_ATCC_8503. rxn=biomass345. objcoeff=1.0\n",
      "mdl=Ruminococcus_torques_ATCC_27756. rxn=biomass525. objcoeff=1.0\n",
      "mdl=Clostridium_scindens_ATCC_35704. rxn=biomass524. objcoeff=1.0\n",
      "mdl=Collinsella_aerofaciens_ATCC_25986. rxn=biomass524. objcoeff=1.0\n",
      "mdl=Bacteroides_thetaiotaomicron_VPI_5482. rxn=biomass345. objcoeff=1.0\n",
      "mdl=Bacteroides_vulgatus_ATCC_8482. rxn=biomass345. objcoeff=1.0\n",
      "mdl=Bacteroides_ovatus_ATCC_8483. rxn=biomass536. objcoeff=1.0\n",
      "mdl=Bacteroides_uniformis_ATCC_8492. rxn=biomass536. objcoeff=1.0\n",
      "mdl=Eubacterium_rectale_ATCC_33656. rxn=biomass205. objcoeff=1.0\n",
      "mdl=Clostridium_spiroforme_DSM_1552. rxn=biomass525. objcoeff=1.0\n",
      "mdl=Faecalibacterium_prausnitzii_L2_6. rxn=biomass525. objcoeff=1.0\n",
      "mdl=Ruminococcus_obeum_A2_162. rxn=biomass525. objcoeff=1.0\n",
      "mdl=Dorea_longicatena_DSM_13814. rxn=biomass525. objcoeff=1.0\n"
     ]
    },
    {
     "data": {
      "text/html": [
       "<div>\n",
       "<style scoped>\n",
       "    .dataframe tbody tr th:only-of-type {\n",
       "        vertical-align: middle;\n",
       "    }\n",
       "\n",
       "    .dataframe tbody tr th {\n",
       "        vertical-align: top;\n",
       "    }\n",
       "\n",
       "    .dataframe thead th {\n",
       "        text-align: right;\n",
       "    }\n",
       "</style>\n",
       "<table border=\"1\" class=\"dataframe\">\n",
       "  <thead>\n",
       "    <tr style=\"text-align: right;\">\n",
       "      <th></th>\n",
       "      <th>X0</th>\n",
       "      <th>biomass</th>\n",
       "      <th>id</th>\n",
       "    </tr>\n",
       "  </thead>\n",
       "  <tbody>\n",
       "    <tr>\n",
       "      <th>0</th>\n",
       "      <td>0.9</td>\n",
       "      <td>biomass536</td>\n",
       "      <td>Bacteroides_cellulosilyticus_DSM_14838</td>\n",
       "    </tr>\n",
       "    <tr>\n",
       "      <th>1</th>\n",
       "      <td>0.9</td>\n",
       "      <td>biomass536</td>\n",
       "      <td>Bacteroides_caccae_ATCC_43185</td>\n",
       "    </tr>\n",
       "    <tr>\n",
       "      <th>2</th>\n",
       "      <td>0.9</td>\n",
       "      <td>biomass345</td>\n",
       "      <td>Parabacteroides_distasonis_ATCC_8503</td>\n",
       "    </tr>\n",
       "    <tr>\n",
       "      <th>3</th>\n",
       "      <td>0.9</td>\n",
       "      <td>biomass525</td>\n",
       "      <td>Ruminococcus_torques_ATCC_27756</td>\n",
       "    </tr>\n",
       "    <tr>\n",
       "      <th>4</th>\n",
       "      <td>0.9</td>\n",
       "      <td>biomass524</td>\n",
       "      <td>Clostridium_scindens_ATCC_35704</td>\n",
       "    </tr>\n",
       "    <tr>\n",
       "      <th>5</th>\n",
       "      <td>0.9</td>\n",
       "      <td>biomass524</td>\n",
       "      <td>Collinsella_aerofaciens_ATCC_25986</td>\n",
       "    </tr>\n",
       "    <tr>\n",
       "      <th>6</th>\n",
       "      <td>0.9</td>\n",
       "      <td>biomass345</td>\n",
       "      <td>Bacteroides_thetaiotaomicron_VPI_5482</td>\n",
       "    </tr>\n",
       "    <tr>\n",
       "      <th>7</th>\n",
       "      <td>0.9</td>\n",
       "      <td>biomass345</td>\n",
       "      <td>Bacteroides_vulgatus_ATCC_8482</td>\n",
       "    </tr>\n",
       "    <tr>\n",
       "      <th>8</th>\n",
       "      <td>0.9</td>\n",
       "      <td>biomass536</td>\n",
       "      <td>Bacteroides_ovatus_ATCC_8483</td>\n",
       "    </tr>\n",
       "    <tr>\n",
       "      <th>9</th>\n",
       "      <td>0.9</td>\n",
       "      <td>biomass536</td>\n",
       "      <td>Bacteroides_uniformis_ATCC_8492</td>\n",
       "    </tr>\n",
       "    <tr>\n",
       "      <th>10</th>\n",
       "      <td>0.9</td>\n",
       "      <td>biomass205</td>\n",
       "      <td>Eubacterium_rectale_ATCC_33656</td>\n",
       "    </tr>\n",
       "    <tr>\n",
       "      <th>11</th>\n",
       "      <td>0.9</td>\n",
       "      <td>biomass525</td>\n",
       "      <td>Clostridium_spiroforme_DSM_1552</td>\n",
       "    </tr>\n",
       "    <tr>\n",
       "      <th>12</th>\n",
       "      <td>0.9</td>\n",
       "      <td>biomass525</td>\n",
       "      <td>Faecalibacterium_prausnitzii_L2_6</td>\n",
       "    </tr>\n",
       "    <tr>\n",
       "      <th>13</th>\n",
       "      <td>0.9</td>\n",
       "      <td>biomass525</td>\n",
       "      <td>Ruminococcus_obeum_A2_162</td>\n",
       "    </tr>\n",
       "    <tr>\n",
       "      <th>14</th>\n",
       "      <td>0.9</td>\n",
       "      <td>biomass525</td>\n",
       "      <td>Dorea_longicatena_DSM_13814</td>\n",
       "    </tr>\n",
       "  </tbody>\n",
       "</table>\n",
       "</div>"
      ],
      "text/plain": [
       "     X0     biomass                                      id\n",
       "0   0.9  biomass536  Bacteroides_cellulosilyticus_DSM_14838\n",
       "1   0.9  biomass536  Bacteroides_caccae_ATCC_43185         \n",
       "2   0.9  biomass345  Parabacteroides_distasonis_ATCC_8503  \n",
       "3   0.9  biomass525  Ruminococcus_torques_ATCC_27756       \n",
       "4   0.9  biomass524  Clostridium_scindens_ATCC_35704       \n",
       "5   0.9  biomass524  Collinsella_aerofaciens_ATCC_25986    \n",
       "6   0.9  biomass345  Bacteroides_thetaiotaomicron_VPI_5482 \n",
       "7   0.9  biomass345  Bacteroides_vulgatus_ATCC_8482        \n",
       "8   0.9  biomass536  Bacteroides_ovatus_ATCC_8483          \n",
       "9   0.9  biomass536  Bacteroides_uniformis_ATCC_8492       \n",
       "10  0.9  biomass205  Eubacterium_rectale_ATCC_33656        \n",
       "11  0.9  biomass525  Clostridium_spiroforme_DSM_1552       \n",
       "12  0.9  biomass525  Faecalibacterium_prausnitzii_L2_6     \n",
       "13  0.9  biomass525  Ruminococcus_obeum_A2_162             \n",
       "14  0.9  biomass525  Dorea_longicatena_DSM_13814           "
      ]
     },
     "execution_count": 14,
     "metadata": {},
     "output_type": "execute_result"
    }
   ],
   "source": [
    "rows = []\n",
    "for mdl in models:\n",
    "    for rxn in mdl.reactions:\n",
    "        if rxn.objective_coefficient != 0:\n",
    "            rows.append({'X0':0.9, 'biomass':rxn.id, 'id':mdl.id})  # if X0 = 1, allows to occupy a node without growing\n",
    "            print('mdl=%s. rxn=%s. objcoeff=%s' % (mdl.id, rxn.id, rxn.objective_coefficient))\n",
    "df_organism = pd.DataFrame(rows)\n",
    "df_organism"
   ]
  },
  {
   "cell_type": "markdown",
   "metadata": {
    "deletable": true,
    "editable": true
   },
   "source": [
    "# Solve"
   ]
  },
  {
   "cell_type": "code",
   "execution_count": 15,
   "metadata": {
    "collapsed": false,
    "deletable": true,
    "editable": true
   },
   "outputs": [
    {
     "name": "stderr",
     "output_type": "stream",
     "text": [
      "cobra/core/Model.py:186 \u001b[1;31mUserWarning\u001b[0m: Use add_reaction for single reactions\n"
     ]
    }
   ],
   "source": [
    "from dynamicme.location import Locater\n",
    "\n",
    "locater = Locater()\n",
    "#locater.create_problem(models, df_source_lim, df_consumer_shared, df_node, df_distance, df_organism)\n",
    "locater.create_problem(models, df_source, df_consumer, df_node, df_distance, df_organism)"
   ]
  },
  {
   "cell_type": "code",
   "execution_count": null,
   "metadata": {
    "collapsed": false,
    "deletable": true,
    "editable": true
   },
   "outputs": [
    {
     "name": "stdout",
     "output_type": "stream",
     "text": [
      "Changed value of parameter OutputFlag to 1\n",
      "   Prev: 0  Min: 0  Max: 1  Default: 1\n"
     ]
    },
    {
     "data": {
      "text/plain": [
       "True"
      ]
     },
     "execution_count": 16,
     "metadata": {},
     "output_type": "execute_result"
    }
   ],
   "source": [
    "from cobra.solvers import gurobi_solver\n",
    "\n",
    "model = gurobi_solver.create_problem(locater.model)\n",
    "model.Params.OutputFlag = 1\n",
    "model.ModelSense == GRB.MAXIMIZE"
   ]
  },
  {
   "cell_type": "code",
   "execution_count": null,
   "metadata": {
    "collapsed": false,
    "deletable": true,
    "editable": true
   },
   "outputs": [
    {
     "name": "stdout",
     "output_type": "stream",
     "text": [
      "Optimize a model with 653989 rows, 229567 columns and 1742585 nonzeros\n",
      "Variable types: 229372 continuous, 195 integer (0 binary)\n",
      "Coefficient statistics:\n",
      "  Matrix range     [1e-05, 2e+05]\n",
      "  Objective range  [1e+00, 1e+00]\n",
      "  Bounds range     [1e-05, 1e+03]\n",
      "  RHS range        [9e-01, 1e+00]\n",
      "Presolve removed 587399 rows and 192205 columns\n",
      "Presolve time: 4.72s\n",
      "Presolved: 66590 rows, 37362 columns, 273390 nonzeros\n",
      "Variable types: 37258 continuous, 104 integer (104 binary)\n",
      "\n",
      "Root simplex log...\n",
      "\n",
      "Iteration    Objective       Primal Inf.    Dual Inf.      Time\n",
      "       0    3.6057022e+02   2.584424e+06   8.380487e+10      7s\n",
      "   37921    4.0584731e+01   2.855882e+03   5.157007e+08     10s\n",
      "   43581    4.5263856e+01   2.776186e+03   3.398265e+09     15s\n",
      "   49074    2.0901130e+01   1.301005e+03   2.420093e+09     20s\n",
      "   57620    3.6380734e+00   1.650299e+02   5.638499e+08     25s\n",
      "   65456    9.5749234e-01   1.015871e-01   1.585402e+12     30s\n",
      "   68884    9.9725025e-01   0.000000e+00   5.279928e+04     35s\n",
      "   70673    1.6459751e+00   0.000000e+00   4.754105e+05     40s\n",
      "   72014    2.1013206e+00   0.000000e+00   3.682590e+04     45s\n",
      "   73206    2.4195089e+00   0.000000e+00   2.942873e+05     50s\n",
      "   74398    2.8420183e+00   0.000000e+00   5.208442e+03     55s\n",
      "   75739    3.0867337e+00   0.000000e+00   6.391082e+03     61s\n",
      "   76782    3.1622066e+00   0.000000e+00   1.107443e+04     65s\n",
      "   78131    3.5385245e+00   4.283617e+04   0.000000e+00     70s\n",
      "   80068    3.1031961e+00   1.799847e+04   0.000000e+00     75s\n",
      "   82154    3.0275775e+00   1.590778e+04   0.000000e+00     80s\n",
      "   82295    3.0292248e+00   0.000000e+00   0.000000e+00     81s\n",
      "\n",
      "Root relaxation: objective 3.029225e+00, 82295 iterations, 73.83 seconds\n",
      "\n",
      "    Nodes    |    Current Node    |     Objective Bounds      |     Work\n",
      " Expl Unexpl |  Obj  Depth IntInf | Incumbent    BestBd   Gap | It/Node Time\n",
      "\n",
      "     0     0    3.02922    0   62          -    3.02922      -     -   81s\n",
      "     0     0    3.02706    0   61          -    3.02706      -     -   84s\n",
      "H    0     0                       0.4101900    3.02706   638%     -   85s\n",
      "H    0     0                       0.8360034    3.02706   262%     -   86s\n",
      "     0     0    3.02371    0   60    0.83600    3.02371   262%     -   86s\n",
      "     0     0    3.02056    0   64    0.83600    3.02056   261%     -   87s\n",
      "     0     0    3.02052    0   64    0.83600    3.02052   261%     -   88s\n",
      "     0     0    3.01701    0   65    0.83600    3.01701   261%     -   89s\n",
      "     0     0    3.01651    0   64    0.83600    3.01651   261%     -   90s\n",
      "     0     0    3.01300    0   64    0.83600    3.01300   260%     -   91s\n",
      "     0     0    3.01247    0   64    0.83600    3.01247   260%     -   92s\n",
      "     0     0    3.01190    0   64    0.83600    3.01190   260%     -   93s\n",
      "     0     0    3.01169    0   64    0.83600    3.01169   260%     -   94s\n",
      "     0     0    3.00753    0   64    0.83600    3.00753   260%     -   95s\n",
      "     0     0    3.00684    0   64    0.83600    3.00684   260%     -   96s\n",
      "     0     0    3.00680    0   64    0.83600    3.00680   260%     -   97s\n",
      "     0     0    3.00680    0   64    0.83600    3.00680   260%     -   98s\n",
      "     0     0    3.00680    0   64    0.83600    3.00680   260%     -   98s\n",
      "     0     0    3.00680    0   63    0.83600    3.00680   260%     -  100s\n",
      "     0     2    3.00680    0   63    0.83600    3.00680   260%     -  116s\n",
      "     3     8    2.93853    2   60    0.83600    2.95417   253%   524  122s\n",
      "     7    12    2.88376    3   58    0.83600    2.93853   251%   947  127s\n",
      "    15    17    2.90456    4   64    0.83600    2.93452   251%   680  130s\n",
      "    27    28    2.88360    6   63    0.83600    2.93452   251%   598  140s\n",
      "H   28    29                       0.9467369    2.93452   210%   577  140s\n",
      "H   30    31                       0.9875089    2.93452   197%   603  140s\n",
      "    35    37    2.84094    7   53    0.98751    2.93452   197%   640  150s\n",
      "    43    42    2.75713    9   54    0.98751    2.93452   197%   702  155s\n",
      "    58    59    2.51635   14   52    0.98751    2.93452   197%   620  161s\n",
      "H   59    60                       1.0535676    2.93452   179%   610  161s\n",
      "H   61    62                       1.0753594    2.93452   173%   598  161s\n",
      "H   62    63                       1.0838514    2.93452   171%   593  161s\n",
      "    63    62    2.50605   15   46    1.08385    2.93452   171%   595  165s\n",
      "    78    75     cutoff   17         1.08385    2.93452   171%   611  181s\n",
      "    93    91    2.32122   18   40    1.08385    2.93452   171%   576  187s\n",
      "H   94    91                       1.2938833    2.93452   127%   570  187s\n",
      "    97    95    2.25534   19   39    1.29388    2.93452   127%   568  190s\n",
      "   119   116    2.12404   22   40    1.29388    2.93452   127%   516  196s\n",
      "H  125   117                       1.2997492    2.93452   126%   498  196s\n",
      "   142   135    1.86969   26   35    1.29975    2.93452   126%   469  201s\n",
      "H  161   148                       1.3019663    2.93452   125%   442  204s\n",
      "   163   145    1.76873   32   29    1.30197    2.93452   125%   441  211s\n",
      "   180   160    1.58757   35   24    1.30197    2.93452   125%   430  220s\n",
      "   207   176    1.43273   44   16    1.30197    2.93452   125%   424  227s\n",
      "   226   187    1.37805   47   13    1.30197    2.93452   125%   406  232s\n",
      "   245   200    1.34925   49   13    1.30197    2.88175   121%   391  237s\n",
      "   261   208    2.64036    5   47    1.30197    2.88175   121%   384  243s\n",
      "   270   212    2.63216    7   47    1.30197    2.88175   121%   392  254s\n",
      "   282   217    2.62197   11   45    1.30197    2.88175   121%   410  266s\n",
      "   286   223    2.61252   12   45    1.30197    2.88175   121%   413  272s\n",
      "   296   231    2.42728   14   42    1.30197    2.88175   121%   420  277s\n",
      "   306   237    2.41173   15   42    1.30197    2.88175   121%   421  282s\n",
      "   320   249    2.30628   18   41    1.30197    2.88175   121%   416  288s\n",
      "   339   266    2.19678   21   39    1.30197    2.88175   121%   411  296s\n",
      "H  345   269                       1.3060268    2.88175   121%   410  296s\n",
      "   356   281    2.06175   24   43    1.30603    2.88175   121%   409  302s\n",
      "   380   298    1.90345   28   38    1.30603    2.88175   121%   401  308s\n",
      "   409   317    1.71287   35   29    1.30603    2.88175   121%   389  316s\n",
      "   432   322    1.43476   44   16    1.30603    2.88175   121%   386  325s\n",
      "   461   340    1.42088   45   13    1.30603    2.85530   119%   382  334s\n",
      "   486   343    1.48414    9   36    1.30603    2.85530   119%   383  341s\n",
      "   499   354    2.73310    9   49    1.30603    2.85530   119%   385  350s\n",
      "   515   362    1.35664   11   38    1.30603    2.85530   119%   392  360s\n",
      "   539   378    2.39759   11   47    1.30603    2.85530   119%   393  382s\n",
      "   578   398    1.44055   11   30    1.30603    2.85530   119%   395  393s\n",
      "   603   422    2.58527   12   48    1.30603    2.85530   119%   393  403s\n",
      "   633   429    2.34000   14   47    1.30603    2.85530   119%   393  414s\n",
      "   661   447    1.86773   16   37    1.30603    2.85530   119%   393  426s\n",
      "   677   457    1.72982   16   36    1.30603    2.85530   119%   402  438s\n",
      "   700   476    1.70130   16   30    1.30603    2.85530   119%   410  450s\n",
      "   723   495    1.62231   18   34    1.30603    2.85530   119%   414  463s\n",
      "H  743   509                       1.3060268    2.85530   119%   412  463s\n",
      "   771   532 infeasible   20         1.30603    2.85530   119%   407  481s\n",
      "   825   569 infeasible   24         1.30603    2.85530   119%   429  496s\n",
      "   849   578    1.42326   22   18    1.30603    2.85530   119%   429  512s\n",
      "   893   603    1.32022   29   25    1.30603    2.79729   114%   422  534s\n",
      "   947   642    1.81886    7   41    1.30603    2.76137   111%   419  551s\n",
      "   976   656    1.44250   15   29    1.30603    2.75252   111%   421  578s\n",
      "  1015   683     cutoff    9         1.30603    2.74847   110%   425  607s\n",
      "  1066   716    1.43049   29   63    1.30603    2.74166   110%   424  706s\n",
      "  1068   717    1.51519   17   64    1.30603    2.74166   110%   423  769s\n",
      "  1069   718    1.87706   28   65    1.30603    2.74166   110%   422  772s\n",
      "  1073   721    1.51361   21   67    1.30603    2.74166   110%   421  775s\n",
      "  1074   721    1.36348   49   67    1.30603    2.74166   110%   420  786s\n",
      "  1076   723    2.70404   11   61    1.30603    2.74166   110%   420  790s\n",
      "  1078   724    1.32506   40   61    1.30603    2.74166   110%   419  801s\n",
      "  1079   728    2.74166   16   60    1.30603    2.74166   110%   495  828s\n",
      "  1081   731    2.74166   17   60    1.30603    2.74166   110%   495  853s\n",
      "  1085   734    2.74166   18   59    1.30603    2.74166   110%   496  868s\n",
      "  1089   736    2.57244   18   50    1.30603    2.74166   110%   497  889s\n",
      "  1093   739    2.74166   19   58    1.30603    2.74166   110%   500  893s\n",
      "  1097   739    2.56037   19   50    1.30603    2.74166   110%   500  898s\n",
      "  1101   742    2.74166   20   57    1.30603    2.74166   110%   502  904s\n",
      "  1106   743    2.71572   20   53    1.30603    2.74166   110%   504  911s\n",
      "  1112   743    2.70459   21   60    1.30603    2.74166   110%   506  917s\n",
      "  1118   747    2.70231   21   51    1.30603    2.71571   108%   507  922s\n",
      "  1126   748    2.70459   22   59    1.30603    2.71571   108%   506  929s\n",
      "  1134   754    2.53846   23   50    1.30603    2.71571   108%   510  935s\n",
      "  1141   758    2.69262   24   55    1.30603    2.71571   108%   510  942s\n",
      "  1149   760    2.63014   26   54    1.30603    2.71571   108%   513  949s\n",
      "  1156   765    2.49804   26   46    1.30603    2.71571   108%   516  956s\n",
      "  1163   765    2.59974   27   54    1.30603    2.71571   108%   518  962s\n",
      "  1174   774    2.56051   28   54    1.30603    2.71571   108%   518  970s\n",
      "  1183   778    2.53258   29   50    1.30603    2.71571   108%   518  976s\n",
      "  1192   780    2.52583   30   49    1.30603    2.71571   108%   520  983s\n",
      "  1205   786    2.52005   31   54    1.30603    2.71571   108%   519  991s\n",
      "  1219   798    2.49832   32   53    1.30603    2.71571   108%   519  997s\n",
      "  1228   800    2.45430   34   54    1.30603    2.71571   108%   520 1006s\n",
      "  1236   800    2.40220   35   53    1.30603    2.71571   108%   524 1012s\n",
      "  1254   810    2.34911   36   44    1.30603    2.71571   108%   522 1021s\n",
      "  1270   806    2.30209   38   41    1.30603    2.71571   108%   521 1028s\n",
      "  1290   813    1.82524   39   41    1.30603    2.71571   108%   520 1037s\n",
      "  1310   825    2.22585   42   40    1.30603    2.71571   108%   518 1044s\n",
      "  1328   827    2.04377   44   34    1.30603    2.71571   108%   517 1052s\n",
      "  1345   833    2.02264   45   37    1.30603    2.71571   108%   516 1059s\n",
      "  1370   846    1.94977   48   35    1.30603    2.71571   108%   513 1067s\n",
      "  1398   854    1.92276   50   33    1.30603    2.71571   108%   508 1074s\n",
      "  1446   875    1.79421   53   30    1.30603    2.71571   108%   498 1083s\n",
      "  1476   874    1.77130   56   26    1.30603    2.71571   108%   493 1091s\n",
      "  1512   892    1.67425   60   23    1.30603    2.71571   108%   487 1099s\n",
      "  1542   900    1.44594   65   12    1.30603    2.69292   106%   483 1109s\n",
      "  1577   919    1.68642   22   39    1.30603    2.69292   106%   479 1117s\n",
      "  1626   937    1.54277   30   35    1.30603    2.69292   106%   470 1125s\n",
      "  1677   941    1.35009   39   27    1.30603    2.69292   106%   461 1134s\n",
      "  1705   956    2.42576   22   44    1.30603    2.65926   104%   460 1143s\n",
      "  1733   963    2.39123   23   43    1.30603    2.65926   104%   456 1154s\n",
      "  1780   986    2.13952   31   35    1.30603    2.65926   104%   450 1164s\n",
      "  1807   996    1.93781   39   36    1.30603    2.65926   104%   449 1176s\n",
      "  1838   994    1.71987   51   31    1.30603    2.65926   104%   448 1186s\n",
      "  1880  1024     cutoff   69         1.30603    2.61965   101%   444 1198s\n",
      "H 1924   986                       1.3064883    2.61965   101%   440 1198s\n",
      "  1925   999    1.74924   29   33    1.30649    2.61965   101%   440 1210s\n",
      "  1962  1009    1.49915   44   23    1.30649    2.61113   100%   438 1226s\n",
      "H 1988   989                       1.3093988    2.61113  99.4%   435 1226s\n",
      "  2013   998    1.83726   26   40    1.30940    2.61113  99.4%   435 1239s\n",
      "  2057  1010    1.51428   35   39    1.30940    2.61113  99.4%   433 1252s\n",
      "  2139   998    1.33746   41   19    1.30940    2.58609  97.5%   423 1265s\n",
      "  2175  1012    1.81581   26   39    1.30940    2.55893  95.4%   423 1279s\n",
      "  2223  1016    1.39871   43   31    1.30940    2.55631  95.2%   420 1295s\n",
      "H 2267   984                       1.3093988    2.55631  95.2%   417 1295s\n",
      "  2277  1003    2.32994   26   51    1.30940    2.55631  95.2%   417 1309s\n",
      "  2324  1010    2.13560   33   42    1.30940    2.55631  95.2%   415 1326s\n",
      "  2388  1040    1.81551   44   35    1.30940    2.55631  95.2%   412 1342s\n",
      "  2442  1050    1.63848   52   24    1.30940    2.55631  95.2%   410 1359s\n",
      "  2512  1078    1.39623   59   12    1.30940    2.54015  94.0%   406 1384s\n",
      "  2610  1097    2.29676   27   46    1.30940    2.53385  93.5%   398 1406s\n",
      "  2677  1113    1.90602   41   30    1.30940    2.53385  93.5%   395 1428s\n",
      "  2757  1141     cutoff   64         1.30940    2.51191  91.8%   391 1452s\n",
      "  2844  1172    1.81008   34   35    1.30940    2.51051  91.7%   387 1477s\n",
      "  2918  1194    1.36117   59   11    1.30940    2.49899  90.8%   385 1504s\n",
      "  3005  1246    1.70595   35   34    1.30940    2.49682  90.7%   383 1530s\n",
      "  3048  1279    1.42954   38   22    1.30940    2.49682  90.7%   383 1558s\n",
      "  3126  1323     cutoff   48         1.30940    2.49426  90.5%   382 1586s\n",
      "  3213  1371    1.93778   41   35    1.30940    2.49426  90.5%   380 1620s\n",
      "  3328  1435    1.75798   52   32    1.30940    2.49426  90.5%   376 1656s\n",
      "* 3457  1499              72       1.3093988    2.49426  90.5%   371 1656s\n",
      "  3461  1543    1.55763   56   22    1.30940    2.48095  89.5%   371 1688s\n",
      "  3578  1635    1.76072   32   35    1.30940    2.47526  89.0%   367 1723s\n",
      "  3701  1715    1.70723   31   41    1.30940    2.47388  88.9%   364 1758s\n",
      "  3825  1764     cutoff   45         1.30940    2.45822  87.7%   361 1794s\n",
      "  3953  1850    1.55360   55   19    1.30940    2.45366  87.4%   358 1833s\n",
      "  4110  1946    1.66299   45   25    1.30940    2.44218  86.5%   353 1873s\n",
      "  4208  2010    1.34353   43   26    1.30940    2.43761  86.2%   354 1913s\n",
      "  4327  2080    1.64016   49   27    1.30940    2.42811  85.4%   352 1955s\n",
      "  4449  2144    1.56093   29   30    1.30940    2.42653  85.3%   352 2000s\n",
      "  4590  2230    1.63600   37   37    1.30940    2.42128  84.9%   351 2083s\n",
      "  4748  2312    1.78320   40   29    1.30940    2.42001  84.8%   349 2134s\n",
      "  4918  2438    1.38959   41   23    1.30940    2.41286  84.3%   346 2187s\n",
      "  5084  2519    1.92408   23   32    1.30940    2.40173  83.4%   344 2242s\n",
      "  5231  2622    2.00416   34   43    1.30940    2.40120  83.4%   344 2299s\n",
      "  5390  2712    1.60209   54   25    1.30940    2.38291  82.0%   343 2358s\n",
      "  5558  2822    2.02370   37   39    1.30940    2.37800  81.6%   343 2423s\n",
      "  5776  2938     cutoff   28         1.30940    2.37455  81.3%   340 2491s\n",
      "  5965  3038    1.30998   44   12    1.30940    2.37075  81.1%   338 2563s\n",
      "  6166  3152    1.88275   37   38    1.30940    2.35299  79.7%   337 2636s\n",
      "  6380  3306    1.71109   31   30    1.30940    2.34577  79.1%   335 2712s\n",
      "  6582  3405    1.80953   38   30    1.30940    2.33807  78.6%   334 2794s\n",
      "  6831  3526    2.08374   21   42    1.30940    2.32917  77.9%   333 2879s\n",
      "  7080  3679    1.48483   37   31    1.30940    2.32229  77.4%   332 2962s\n",
      "  7304  3780    2.08784   32   38    1.30940    2.31979  77.2%   331 3051s\n",
      "  7514  3901    1.40338   36   31    1.30940    2.31142  76.5%   332 3142s\n",
      "  7785  4036    1.40726   41   22    1.30940    2.30012  75.7%   330 3242s\n",
      "  8117  4219    1.45851   26   21    1.30940    2.29563  75.3%   327 3341s\n",
      "  8375  4349    2.19043   34   38    1.30940    2.28449  74.5%   327 3446s\n",
      "  8724  4568    1.35059   43   26    1.30940    2.27961  74.1%   325 3555s\n",
      "  9037  4736    1.36122   30   25    1.30940    2.27472  73.7%   324 3670s\n",
      "H 9118  4791                       1.3094864    2.27472  73.7%   324 3670s\n",
      "  9356  4905    1.39519   55   14    1.30949    2.26985  73.3%   323 3800s\n",
      "H 9537  5021                       1.3095837    2.26734  73.1%   323 3800s\n",
      "  9717  5081    2.06347   28   39    1.30958    2.26036  72.6%   322 3929s\n",
      " 10105  5309    1.70725   31   30    1.30958    2.25297  72.0%   321 4063s\n",
      " 10529  5519    1.55055   43   18    1.30958    2.24773  71.6%   318 4204s\n",
      " 10986  5757    1.36665   45   14    1.30958    2.23592  70.7%   316 4350s\n",
      " 11389  5983    1.35160   38   16    1.30958    2.22689  70.0%   315 4495s\n"
     ]
    }
   ],
   "source": [
    "model.optimize()"
   ]
  },
  {
   "cell_type": "code",
   "execution_count": 21,
   "metadata": {
    "collapsed": true,
    "deletable": true,
    "editable": true
   },
   "outputs": [],
   "source": [
    "sol = gurobi_solver.format_solution(model, locater.model)"
   ]
  },
  {
   "cell_type": "code",
   "execution_count": 22,
   "metadata": {
    "collapsed": false,
    "deletable": true,
    "editable": true
   },
   "outputs": [],
   "source": [
    "locater.model.solution = sol"
   ]
  },
  {
   "cell_type": "code",
   "execution_count": 23,
   "metadata": {
    "collapsed": false,
    "deletable": true,
    "editable": true
   },
   "outputs": [
    {
     "ename": "TypeError",
     "evalue": "'NoneType' object has no attribute '__getitem__'",
     "output_type": "error",
     "traceback": [
      "\u001b[0;31m\u001b[0m",
      "\u001b[0;31mTypeError\u001b[0mTraceback (most recent call last)",
      "\u001b[0;32m<ipython-input-23-1e25388512d6>\u001b[0m in \u001b[0;36m<module>\u001b[0;34m()\u001b[0m\n\u001b[1;32m      1\u001b[0m \u001b[0;32mfor\u001b[0m \u001b[0mrxn\u001b[0m \u001b[0;32min\u001b[0m \u001b[0mlocater\u001b[0m\u001b[0;34m.\u001b[0m\u001b[0mmodel\u001b[0m\u001b[0;34m.\u001b[0m\u001b[0mreactions\u001b[0m\u001b[0;34m.\u001b[0m\u001b[0mquery\u001b[0m\u001b[0;34m(\u001b[0m\u001b[0;34m'^y_'\u001b[0m\u001b[0;34m)\u001b[0m\u001b[0;34m:\u001b[0m\u001b[0;34m\u001b[0m\u001b[0m\n\u001b[0;32m----> 2\u001b[0;31m     \u001b[0mx\u001b[0m \u001b[0;34m=\u001b[0m \u001b[0msol\u001b[0m\u001b[0;34m.\u001b[0m\u001b[0mx_dict\u001b[0m\u001b[0;34m[\u001b[0m\u001b[0mrxn\u001b[0m\u001b[0;34m.\u001b[0m\u001b[0mid\u001b[0m\u001b[0;34m]\u001b[0m\u001b[0;34m\u001b[0m\u001b[0m\n\u001b[0m\u001b[1;32m      3\u001b[0m     \u001b[0;32mprint\u001b[0m\u001b[0;34m(\u001b[0m\u001b[0;34m\"%-20.18s%-20s\"\u001b[0m \u001b[0;34m%\u001b[0m \u001b[0;34m(\u001b[0m\u001b[0mx\u001b[0m\u001b[0;34m,\u001b[0m \u001b[0mrxn\u001b[0m\u001b[0;34m.\u001b[0m\u001b[0mid\u001b[0m\u001b[0;34m)\u001b[0m\u001b[0;34m)\u001b[0m\u001b[0;34m\u001b[0m\u001b[0m\n",
      "\u001b[0;31mTypeError\u001b[0m: 'NoneType' object has no attribute '__getitem__'"
     ]
    }
   ],
   "source": [
    "for rxn in locater.model.reactions.query('^y_'):\n",
    "    x = sol.x_dict[rxn.id]\n",
    "    print(\"%-20.18s%-20s\" % (x, rxn.id))"
   ]
  },
  {
   "cell_type": "code",
   "execution_count": 24,
   "metadata": {
    "collapsed": false,
    "deletable": true,
    "editable": true
   },
   "outputs": [
    {
     "name": "stdout",
     "output_type": "stream",
     "text": [
      "------------------------------------------------------------\n",
      "uptake_cap_Bacteroides_cellulosilyticus_DSM_14838_0_leu_L_e\n"
     ]
    },
    {
     "ename": "TypeError",
     "evalue": "'NoneType' object has no attribute '__getitem__'",
     "output_type": "error",
     "traceback": [
      "\u001b[0;31m\u001b[0m",
      "\u001b[0;31mTypeError\u001b[0mTraceback (most recent call last)",
      "\u001b[0;32m<ipython-input-24-03c559a88af1>\u001b[0m in \u001b[0;36m<module>\u001b[0;34m()\u001b[0m\n\u001b[1;32m      5\u001b[0m     \u001b[0;32mprint\u001b[0m\u001b[0;34m(\u001b[0m\u001b[0mcons\u001b[0m\u001b[0;34m.\u001b[0m\u001b[0mid\u001b[0m\u001b[0;34m)\u001b[0m\u001b[0;34m\u001b[0m\u001b[0m\n\u001b[1;32m      6\u001b[0m     \u001b[0;32mfor\u001b[0m \u001b[0mrxn\u001b[0m \u001b[0;32min\u001b[0m \u001b[0mcons\u001b[0m\u001b[0;34m.\u001b[0m\u001b[0mreactions\u001b[0m\u001b[0;34m:\u001b[0m\u001b[0;34m\u001b[0m\u001b[0m\n\u001b[0;32m----> 7\u001b[0;31m         \u001b[0mx\u001b[0m \u001b[0;34m=\u001b[0m \u001b[0mx_dict\u001b[0m\u001b[0;34m[\u001b[0m\u001b[0mrxn\u001b[0m\u001b[0;34m.\u001b[0m\u001b[0mid\u001b[0m\u001b[0;34m]\u001b[0m\u001b[0;34m\u001b[0m\u001b[0m\n\u001b[0m\u001b[1;32m      8\u001b[0m         \u001b[0;32mprint\u001b[0m\u001b[0;34m(\u001b[0m\u001b[0;34m\"%s\\t%s\\t%s\"\u001b[0m \u001b[0;34m%\u001b[0m \u001b[0;34m(\u001b[0m\u001b[0mrxn\u001b[0m\u001b[0;34m.\u001b[0m\u001b[0mid\u001b[0m\u001b[0;34m,\u001b[0m \u001b[0mrxn\u001b[0m\u001b[0;34m.\u001b[0m\u001b[0mmetabolites\u001b[0m\u001b[0;34m[\u001b[0m\u001b[0mcons\u001b[0m\u001b[0;34m]\u001b[0m\u001b[0;34m,\u001b[0m \u001b[0mx\u001b[0m\u001b[0;34m)\u001b[0m\u001b[0;34m)\u001b[0m\u001b[0;34m\u001b[0m\u001b[0m\n",
      "\u001b[0;31mTypeError\u001b[0m: 'NoneType' object has no attribute '__getitem__'"
     ]
    }
   ],
   "source": [
    "x_dict = locater.model.solution.x_dict\n",
    "\n",
    "for cons in locater.model.metabolites.query('uptake_cap'):\n",
    "    print('-'*60)\n",
    "    print(cons.id)\n",
    "    for rxn in cons.reactions:\n",
    "        x = x_dict[rxn.id]\n",
    "        print(\"%s\\t%s\\t%s\" % (rxn.id, rxn.metabolites[cons], x))"
   ]
  },
  {
   "cell_type": "code",
   "execution_count": null,
   "metadata": {
    "collapsed": false,
    "deletable": true,
    "editable": true,
    "scrolled": true
   },
   "outputs": [],
   "source": [
    "x_dict = locater.model.solution.x_dict\n",
    "\n",
    "for cons in locater.model.metabolites.query('source_cap'):\n",
    "    print('-'*60)\n",
    "    print(cons.id)\n",
    "    for rxn in cons.reactions:\n",
    "        x = x_dict[rxn.id]\n",
    "        print(\"%s\\t%s\\t%s\" % (rxn.id, rxn.metabolites[cons], x))"
   ]
  },
  {
   "cell_type": "code",
   "execution_count": null,
   "metadata": {
    "collapsed": false,
    "deletable": true,
    "editable": true
   },
   "outputs": [],
   "source": [
    "x_dict = locater.model.solution.x_dict\n",
    "\n",
    "cons=locater.model.metabolites.query('crossfeed_')[0]\n",
    "for rxn in cons.reactions:\n",
    "    x = x_dict[rxn.id]\n",
    "    print(\"%s\\t%s\\t%s\" % (rxn.id, rxn.metabolites[cons], x))"
   ]
  },
  {
   "cell_type": "markdown",
   "metadata": {
    "deletable": true,
    "editable": true
   },
   "source": [
    "## Check to see what each org,node is growing on"
   ]
  },
  {
   "cell_type": "markdown",
   "metadata": {
    "deletable": true,
    "editable": true
   },
   "source": [
    "locater.model.reactions.query('^biomass')"
   ]
  },
  {
   "cell_type": "markdown",
   "metadata": {
    "deletable": true,
    "editable": true
   },
   "source": [
    "locater.model.reactions.query('^y_')"
   ]
  },
  {
   "cell_type": "markdown",
   "metadata": {
    "deletable": true,
    "editable": true
   },
   "source": [
    "cons = locater.model.metabolites.query('cons_uptake')[0]\n",
    "cons.reactions\n",
    "\n",
    "locater.model.metabolites.query('cons_uptake')\n",
    "\n",
    "df_ex\n",
    "\n",
    "df_sources.head()"
   ]
  },
  {
   "cell_type": "markdown",
   "metadata": {
    "deletable": true,
    "editable": true
   },
   "source": [
    "# Plot the result"
   ]
  },
  {
   "cell_type": "markdown",
   "metadata": {
    "deletable": true,
    "editable": true
   },
   "source": [
    "### Source lines"
   ]
  },
  {
   "cell_type": "code",
   "execution_count": null,
   "metadata": {
    "collapsed": false,
    "deletable": true,
    "editable": true
   },
   "outputs": [],
   "source": [
    "ZERO = 1e-8\n",
    "x_dict = locater.model.solution.x_dict\n",
    "org_ids= [mdl.id for mdl in models]\n",
    "nodes  = df_node.node.unique()\n",
    "mets   = df_source.met.unique()\n",
    "\n",
    "rows = []\n",
    "line_rows = []\n",
    "for ni,nrow in df_node.iterrows():\n",
    "    x = nrow['x']\n",
    "    y = nrow['y']\n",
    "    node = nrow['node']\n",
    "    typ = nrow['type']\n",
    "    if typ=='source':\n",
    "        density = df_source[ df_source['node']==node].vmax.iloc[0]\n",
    "        rows.append({'x':x, 'y':y, 'density':density, 'type':typ})\n",
    "        # rows.append({'x':x, 'y':y, 'density':0, 'type':typ})\n",
    "    else:\n",
    "        for oi,orow in df_organism.iterrows():\n",
    "            mu_id = orow['biomass']\n",
    "            org_id = orow['id']\n",
    "            yid = 'y_%s_%s'%(org_id,node)\n",
    "            yval = x_dict[yid]\n",
    "            if yval > 0.5:\n",
    "                mu_id = '%s_%s_%s'%(mu_id,org_id,node)\n",
    "                mu = x_dict[mu_id]\n",
    "            else:\n",
    "                mu = 0.\n",
    "            rows.append({'x':x,'y':y,'density':mu, 'type':org_id})\n",
    "    ### Source lines\n",
    "    for locp in nodes:\n",
    "        xp = df_node.loc[locp]['x']\n",
    "        yp = df_node.loc[locp]['y']\n",
    "        for met in mets:\n",
    "            sid = 's_%s_%s_%s'%(locp,node,met)            \n",
    "            if x_dict.has_key(sid):\n",
    "                spjl = x_dict[sid]\n",
    "                if spjl>ZERO:\n",
    "                    line_rows.append({'xj':x,'yj':y, 'xp':xp,'yp':yp, 's':spjl,'p':locp,'j':node,\n",
    "                                     'type':'source', 'met':met})\n",
    "            eid = 'e_%s_%s_%s'%(locp,node,met)\n",
    "            if x_dict.has_key(eid):\n",
    "                eijl = x_dict[eid]\n",
    "                if eijl>ZERO:\n",
    "                    line_rows.append({'xj':x,'yj':y, 'xp':xp,'yp':yp, 's':eijl,'p':locp,'j':node,\n",
    "                                     'type':'cross', 'met':met})\n",
    "dsplot = pd.DataFrame(rows)"
   ]
  },
  {
   "cell_type": "code",
   "execution_count": null,
   "metadata": {
    "collapsed": false,
    "deletable": true,
    "editable": true
   },
   "outputs": [],
   "source": [
    "dsplot = dsplot.groupby(['x','y']).agg({'density':lambda x: max(x)}).reset_index()"
   ]
  },
  {
   "cell_type": "code",
   "execution_count": null,
   "metadata": {
    "collapsed": false,
    "deletable": true,
    "editable": true
   },
   "outputs": [],
   "source": [
    "### Greater contrast for visualization\n",
    "dsplot.loc[:,'z'] = dsplot.density\n",
    "dsplot.loc[ dsplot.z==0,'z'] = -1"
   ]
  },
  {
   "cell_type": "code",
   "execution_count": null,
   "metadata": {
    "collapsed": true,
    "deletable": true,
    "editable": true
   },
   "outputs": [],
   "source": [
    "df_line = pd.DataFrame(line_rows)"
   ]
  },
  {
   "cell_type": "markdown",
   "metadata": {
    "deletable": true,
    "editable": true
   },
   "source": [
    "# Plot results"
   ]
  },
  {
   "cell_type": "markdown",
   "metadata": {
    "collapsed": false,
    "deletable": true,
    "editable": true
   },
   "source": [
    "plot_dict = {\n",
    "    'x':[0,2,0, 1,2,1, 0,1,2],\n",
    "    'y':[1,1,0, 0,0,1, 2,2,2],\n",
    "    'type':['cellb','acgal','org', 'org','org','org', 'org','org','org'],\n",
    "    'density':[2,2,1, 1,1,1, 1,1,1]\n",
    "}\n",
    "dsplot = pd.DataFrame.from_dict(plot_dict)"
   ]
  },
  {
   "cell_type": "markdown",
   "metadata": {
    "collapsed": false,
    "deletable": true,
    "editable": true
   },
   "source": [
    "from dynamicme.location import CommunityPlotter\n",
    "plotter = CommunityPlotter()\n",
    "plotter.plot(dsplot, zcol='density', points=True)"
   ]
  },
  {
   "cell_type": "code",
   "execution_count": null,
   "metadata": {
    "collapsed": false,
    "deletable": true,
    "editable": true
   },
   "outputs": [],
   "source": [
    "import matplotlib\n",
    "from scipy import interpolate\n",
    "\n",
    "nres = 121\n",
    "x = dsplot.x\n",
    "y = dsplot.y\n",
    "#z = dsplot.density\n",
    "z = dsplot.z - dsplot.z.min()\n",
    "xx = np.linspace(x.min(), x.max(), nres)\n",
    "yy = np.linspace(y.min(), y.max(), nres)\n",
    "X,Y = np.meshgrid(xx,yy)\n",
    "\n",
    "### Add some noise to prevent singular matrix in interpolate\n",
    "dr = 0 #0.001\n",
    "xr = x + np.random.uniform(-dr, dr, size=x.shape)\n",
    "yr = y + np.random.uniform(-dr, dr, size=y.shape)\n",
    "#rbf = interpolate.Rbf(xr,yr,z, function='gaussian')\n",
    "rbf = interpolate.Rbf(xr,yr,z, function='linear')\n",
    "#rbf = interpolate.Rbf(x,y,z, function='cubic')\n",
    "#rbf = interpolate.RectBivariateSpline(x,y,z)\n",
    "Z = rbf(X,Y)\n",
    "\n",
    "ax = plt.imshow(Z, vmin=z.min(), vmax=z.max(), origin='lower',\n",
    "          extent=[x.min(), x.max(), y.min(), y.max()])\n",
    "\n",
    "cmap = matplotlib.cm.get_cmap('nipy_spectral')\n",
    "#cmap = matplotlib.cm.get_cmap('cubehelix')\n",
    "#cmap = matplotlib.cm.get_cmap('YlGnBu_r')\n",
    "#cmap = matplotlib.cm.get_cmap('gist_ncar')\n",
    "#cmap = matplotlib.cm.get_cmap('terrain_r')\n",
    "ax.set_cmap(cmap)\n",
    "\n",
    "ax = plt.scatter(x, y, c=z, edgecolors='#ffffff', s=20+np.sqrt(z*10000), zorder=4, alpha=0.75)\n",
    "ax.set_cmap(cmap)\n",
    "\n",
    "### Plot the lines\n",
    "for i,row in df_line.iterrows():\n",
    "    xp = row['xp']\n",
    "    yp = row['yp']\n",
    "    xj = row['xj']\n",
    "    yj = row['yj']\n",
    "    s  = row['s']\n",
    "    t  = row['type']\n",
    "    #ax.axes.plot(x=[xp,xj], y=[yp,yj], color='#ffffff', lw=10*s)\n",
    "    #plt.plot([xp,xj], [yp,yj], color='#aaaaaa', lw=(50*s)**0.5, ls='-', alpha=0.5)    \n",
    "    dx = xj-xp\n",
    "    dy = yj-yp\n",
    "    w = 0.5+(5*s)**0.5\n",
    "    color = '#cccccc' if t=='source' else '#ff6633'\n",
    "    alpha = 0.9 #if t=='source' else 0.9\n",
    "    zorder = 2 if t=='source' else 3\n",
    "    plt.arrow(xp, yp, dx, dy, color=color, lw=w, ls='-', head_width=0.07,\n",
    "              alpha=alpha, length_includes_head=True, zorder=zorder)\n",
    "\n",
    "ax.axes.set_facecolor('#222222')\n",
    "#ax.axes.set_facecolor('#000000')\n",
    "plt.colorbar()\n",
    "ax.figure.set_size_inches(4,8)"
   ]
  },
  {
   "cell_type": "markdown",
   "metadata": {
    "deletable": true,
    "editable": true
   },
   "source": [
    "## TODO: color by type (organism/food source)"
   ]
  },
  {
   "cell_type": "markdown",
   "metadata": {
    "deletable": true,
    "editable": true
   },
   "source": [
    "### Debug zone"
   ]
  },
  {
   "cell_type": "markdown",
   "metadata": {
    "deletable": true,
    "editable": true
   },
   "source": [
    "### do source lines sum up correctly?\n",
    "$$\n",
    "\\sum_j s_{ijl} \\leq s^\\mathrm{max}_{il}, \\quad i \\in \\mathrm{Sources}, l \\in Shared \\qquad (6)\n",
    "$$"
   ]
  },
  {
   "cell_type": "code",
   "execution_count": null,
   "metadata": {
    "collapsed": false,
    "deletable": true,
    "editable": true
   },
   "outputs": [],
   "source": [
    "mets = df_source.met.unique()\n",
    "for met in mets:\n",
    "    svars = locater.model.reactions.query('^s_.*_%s'%met)\n",
    "    svals = [x_dict[s.id] for s in svars]\n",
    "    ssum  = sum(svals)\n",
    "    print('%s:\\tssum=%s'%(met,ssum))"
   ]
  },
  {
   "cell_type": "markdown",
   "metadata": {
    "collapsed": false,
    "deletable": true,
    "editable": true
   },
   "source": [
    "[(s.id, x_dict[s.id]) for s in svars]"
   ]
  },
  {
   "cell_type": "markdown",
   "metadata": {
    "collapsed": false,
    "deletable": true,
    "editable": true
   },
   "source": [
    "for rxn in locater.model.reactions.query('^y.*_1'):\n",
    "    x = x_dict[rxn.id]\n",
    "    print('%-20.18s%s'%(x, rxn.id))"
   ]
  },
  {
   "cell_type": "markdown",
   "metadata": {
    "deletable": true,
    "editable": true
   },
   "source": [
    "### do cross-feed lines sum up correctly?\n",
    "$$\n",
    "\\sum_j e_{pjl} \\leq \\sum_k v^{ex,k}_{pl}, \\quad p \\in Nodes, l \\in Shared\n",
    "$$"
   ]
  },
  {
   "cell_type": "code",
   "execution_count": null,
   "metadata": {
    "collapsed": false,
    "deletable": true,
    "editable": true
   },
   "outputs": [],
   "source": [
    "ZERO = 1e-9\n",
    "for met in mets:\n",
    "    for locp in nodes:\n",
    "        evars = []\n",
    "        for j in nodes:\n",
    "            eid = 'e_%s_%s_%s'%(locp,j,met)\n",
    "            if locater.model.reactions.has_id(eid):\n",
    "                e = locater.model.reactions.get_by_id(eid)\n",
    "                evars.append(e)        \n",
    "        if len(evars)>0:\n",
    "            evals = [x_dict[e.id] for e in evars]\n",
    "            esum = sum(evals)\n",
    "            # Who is providing it?\n",
    "            df_cross = df_source[ (df_source.met==met) & (df_source.source != 'primary')]            \n",
    "            \n",
    "            vexs = []\n",
    "            vex_dict = {}\n",
    "            y_dict = {}\n",
    "            mu_dict = {}\n",
    "            for i,crow in df_cross.iterrows():\n",
    "                ex_id = crow['rxn']\n",
    "                org   = crow['source']\n",
    "                rxn_id = '%s_%s_%s'%(ex_id,org,locp)\n",
    "                vex = x_dict[rxn_id]\n",
    "                vexs.append(vex)                \n",
    "                if abs(vex)>ZERO:\n",
    "                    vex_dict[rxn_id] = vex\n",
    "                    yid = 'y_%s_%s'%(org,locp)\n",
    "                    y = x_dict[yid]\n",
    "                    y_dict[yid] = y\n",
    "                    mu_id = \"%s_%s_%s\"%(df_organism[ df_organism.id==org]['biomass'].iloc[0], org, locp)\n",
    "                    mu = x_dict[mu_id]\n",
    "                    mu_dict[mu_id] = mu\n",
    "            vexsum = sum(vexs)\n",
    "            if abs(vexsum)>ZERO or abs(esum)>ZERO:\n",
    "                print(\"-\"*50)\n",
    "                print(\"%s. locp=%s\"%(met,locp))\n",
    "                print(\"esum (%s) =?= vex_sum (%s): %s\" % (esum, vexsum, abs(esum-vexsum)<ZERO))\n",
    "                print(\"vex_dict: %s\"%vex_dict)\n",
    "                print(\"y_dict: %s\"%y_dict)\n",
    "                print(\"mu_dict: %s\"%mu_dict)"
   ]
  },
  {
   "cell_type": "markdown",
   "metadata": {
    "collapsed": false,
    "deletable": true,
    "editable": true
   },
   "source": [
    "for rxn in locater.model.reactions.query('^y.*_6'):\n",
    "    x = x_dict[rxn.id]\n",
    "    print('%-20.18s%s'%(x, rxn.id))"
   ]
  },
  {
   "cell_type": "markdown",
   "metadata": {
    "collapsed": false,
    "deletable": true,
    "editable": true
   },
   "source": [
    "for rxn in locater.model.reactions.query('^s.*_12'):\n",
    "    x = x_dict[rxn.id]\n",
    "    print('%-20.18s%s'%(x, rxn.id))"
   ]
  },
  {
   "cell_type": "markdown",
   "metadata": {
    "collapsed": false,
    "deletable": true,
    "editable": true
   },
   "source": [
    "for rxn in locater.model.reactions.query('^e.*_0'):\n",
    "    x = x_dict[rxn.id]\n",
    "    print('%-20.18s%s'%(x, rxn.id))"
   ]
  },
  {
   "cell_type": "markdown",
   "metadata": {
    "collapsed": false,
    "deletable": true,
    "editable": true
   },
   "source": [
    "for rxn in locater.model.reactions.query('^e.*_12'):\n",
    "    x = x_dict[rxn.id]\n",
    "    print('%-20.18s%s'%(x, rxn.id))"
   ]
  },
  {
   "cell_type": "markdown",
   "metadata": {
    "collapsed": false,
    "deletable": true,
    "editable": true
   },
   "source": [
    "for rxn in locater.model.reactions.query('^e_0_.*'):\n",
    "    x = x_dict[rxn.id]\n",
    "    print('%-20.18s%s'%(x, rxn.id))"
   ]
  },
  {
   "cell_type": "markdown",
   "metadata": {
    "collapsed": false,
    "deletable": true,
    "editable": true
   },
   "source": [
    "for rxn in locater.model.reactions.query('^e_4_.*'):\n",
    "    x = x_dict[rxn.id]\n",
    "    print('%-20.18s%s'%(x, rxn.id))"
   ]
  },
  {
   "cell_type": "markdown",
   "metadata": {
    "collapsed": false,
    "deletable": true,
    "editable": true
   },
   "source": [
    "for rxn in locater.model.reactions.query('^e_8_.*'):\n",
    "    x = x_dict[rxn.id]\n",
    "    print('%-20.18s%s'%(x, rxn.id))"
   ]
  },
  {
   "cell_type": "markdown",
   "metadata": {
    "collapsed": false,
    "deletable": true,
    "editable": true
   },
   "source": [
    "for rxn in locater.model.reactions.query('^s.*_6'):\n",
    "    x = x_dict[rxn.id]\n",
    "    print('%-20.18s%s'%(x, rxn.id))"
   ]
  }
 ],
 "metadata": {
  "kernelspec": {
   "display_name": "Python 2",
   "language": "python",
   "name": "python2"
  },
  "language_info": {
   "codemirror_mode": {
    "name": "ipython",
    "version": 2
   },
   "file_extension": ".py",
   "mimetype": "text/x-python",
   "name": "python",
   "nbconvert_exporter": "python",
   "pygments_lexer": "ipython2",
   "version": "2.7.14"
  }
 },
 "nbformat": 4,
 "nbformat_minor": 2
}
