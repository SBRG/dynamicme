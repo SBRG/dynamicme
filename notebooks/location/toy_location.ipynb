{
 "cells": [
  {
   "cell_type": "markdown",
   "metadata": {
    "deletable": true,
    "editable": true
   },
   "source": [
    "# Location modeling for microbiome colonization"
   ]
  },
  {
   "cell_type": "markdown",
   "metadata": {
    "deletable": true,
    "editable": true
   },
   "source": [
    "$$\n",
    "\\begin{align}\n",
    "\\min_{v^k,y^k} \\quad & -\\sum_k \\sum_j c_k^T v^k_j \\\\\n",
    "\\mathrm{s.t.}  \\quad & S^k v^k_j = 0, \\quad j \\in \\mathrm{Locations} \\\\\n",
    "                     & \\sum_j y^k_j \\leq X^k_0 + X^k_0 \\mu^k T_c \\\\\n",
    "                     & l^k_j y^k_j \\leq v^k_j \\leq u^k_j y^k_j \\\\\n",
    "                     & \\sum_k y^k_j \\leq 1, \\quad j\\in \\mathrm{Locations} \\\\\n",
    "                     & v^k_{lj} \\geq \\sum_i \\frac{v^\\mathrm{tot}_{lij}}{d_{ij}} + \\sum_{p\\neq j} \\frac{v^\\mathrm{synth}_{lp}}{d_{jp}}, \\quad l\\in \\mathrm{Nutrients},\\ j\\in \\mathrm{Locations},\\ k\\in \\mathrm{Organisms} \\\\\n",
    "                     & v^\\mathrm{tot}_{il} \\leq \\sum_k \\sum_j v^k_{lij} d_{ij}, \\quad l\\in \\mathrm{Nutrients},\\ i\\in \\mathrm{Sources} \\\\\n",
    "                     & y^k_j \\in \\{0,1\\}.\n",
    "\\end{align}\n",
    "$$"
   ]
  },
  {
   "cell_type": "markdown",
   "metadata": {
    "deletable": true,
    "editable": true
   },
   "source": [
    "## Recapitulate:\n",
    "http://www.pnas.org/content/early/2017/10/04/1711596114.short\n",
    "- macro-scale patterns:\n",
    "    - [Fig 2A,B](http://www.pnas.org/content/pnas/early/2017/10/04/1711596114/F4.large.jpg)\n",
    "- microhabitats composition (dominant):\n",
    "    - dominant species: Bacteroides dominate all microhabitats\n",
    "        - Bacteroides: 43% of densely colonized and 46% of sparsely colonized fields\n",
    "        - C. aerofaciens: 11% in densely, 6% in sparsely\n",
    "        - C. scindens: 8% in both\n",
    "        - R. torques: 3% in dense, 2% in sparse    \n",
    "- inter-taxa correlations ([Fig. S3](http://www.pnas.org/content/pnas/early/2017/10/04/1711596114/F9.large.jpg))\n",
    "    - some species show negative correlation\n",
    "    - but R^2 small and p-values not reported!\n",
    "- micro-scale spatial patterns (numbers are for mouse)\n",
    "    - proximal colon shows homogenized community due to mixing and dispersal by host factors\n",
    "    - turnover for mucus is 6 h for mucus in goblet cells and 1 h for inner mucus layer in distal colon\n",
    "    - replication time of B. thetaiotaomicron and E. coli is 3 h in mucus layer and 3-8 h in colonic contents\n",
    "    - therefore, microbes divide only a few rounds before being shed along with mucus into lumen\n",
    "    - gut contents traverse mouse intestine in 4-6 h\n",
    "    - overall, the turnover and shedding diminishes/disrupts segregated communities and spatial structure\n",
    "    - note: human dental plaque form clustered and ordered arrangements"
   ]
  },
  {
   "cell_type": "markdown",
   "metadata": {
    "deletable": true,
    "editable": true
   },
   "source": [
    "### Bacteria:\n",
    "http://www.pnas.org/content/early/2017/10/04/1711596114.short\n",
    "- 6 species (in [AGORA](https://vmh.uni.lu/#downloadview)?):\n",
    "    - Bacteroides cellulosilyticus (yes, DSM 14838)\n",
    "    - Bacteroides caccae (yes, ATCC 43185)\n",
    "    - Parabacteroides distasonis (yes, ATCC 8503)\n",
    "    - Ruminococcus torques (yes, ATCC 27756, L2-14)\n",
    "    - Clostridium scindens (yes, ATCC 35704)\n",
    "    - Collinsella aerofaciens (yes, ATCC 25986)\n",
    "- 4 Moderately abundant Bacteroides:\n",
    "    - Bacteroides thetaiotaomicron (yes, VPI-5482)\n",
    "    - Bacteroides vulgatus (yes, ATCC 8482)\n",
    "    - Bacteroides ovatus (yes, ATCC 8483, SD CC 2a, SD CMC 3f)\n",
    "    - Bacteroides uniformis (yes, ATCC 8492)\n",
    "- 5 low abundance Firmicutes\n",
    "    - Eubacterium rectale (yes, ATCC 33656, M104/1)\n",
    "    - Clostridium spiroforme (yes, DSM 1552)\n",
    "    - Faecalibacterium prausnitzii ()yes, L2-6\n",
    "    - Ruminococcus obeum (yes, A2-162)\n",
    "    - Dorea longicatena (yes, DSM 13814)"
   ]
  },
  {
   "cell_type": "markdown",
   "metadata": {
    "deletable": true,
    "editable": true
   },
   "source": [
    "## Grid"
   ]
  },
  {
   "cell_type": "code",
   "execution_count": 1,
   "metadata": {
    "collapsed": true,
    "deletable": true,
    "editable": true
   },
   "outputs": [],
   "source": [
    "from gurobipy import *\n",
    "\n",
    "import seaborn as sns\n",
    "import pandas as pd\n",
    "import matplotlib.pyplot as plt\n",
    "import numpy as np\n",
    "\n",
    "plt.rcParams['svg.fonttype'] = 'none'\n",
    "pd.set_option('display.max_colwidth', -1)\n",
    "%matplotlib inline\n",
    "\n",
    "from cobra.io import load_json_model\n",
    "from six import iteritems\n",
    "import numpy as np\n",
    "import cobra"
   ]
  },
  {
   "cell_type": "code",
   "execution_count": 2,
   "metadata": {
    "collapsed": true,
    "deletable": true,
    "editable": true
   },
   "outputs": [],
   "source": [
    "ijomc = load_json_model('/home/laurence/ME/models/e_coli_core_pc.json')"
   ]
  },
  {
   "cell_type": "code",
   "execution_count": 3,
   "metadata": {
    "collapsed": false,
    "deletable": true,
    "editable": true
   },
   "outputs": [
    {
     "name": "stdout",
     "output_type": "stream",
     "text": [
      "mu: before=0.527200385031. after=0.527200385031\n",
      "mu: before=0.337029885021. after=0.337029885021\n"
     ]
    }
   ],
   "source": [
    "from cobra.io.sbml3 import read_sbml_model\n",
    "\n",
    "def repair_model(mdl):\n",
    "    obj0 = mdl.optimize().f\n",
    "    for rxn in mdl.reactions:\n",
    "        rxn.id = rxn.id.replace('__40__','_').replace('__41__','')\n",
    "    for met in mdl.metabolites:\n",
    "        met.id = met.id.replace('__91__','_').replace('__93__','')\n",
    "    mdl.repair()\n",
    "    obj1 = mdl.optimize().f\n",
    "    print('mu: before=%s. after=%s' % (obj0,obj1))\n",
    "    assert abs(obj1-obj0)<1e-9\n",
    "\n",
    "B_caccae = read_sbml_model('/home/laurence/ME/data/microbiome/Agora_1_02_Western/sbml/Bacteroides_caccae_ATCC_43185.xml')\n",
    "repair_model(B_caccae)\n",
    "B_cell = read_sbml_model('/home/laurence/ME/data/microbiome/Agora_1_02_Western/sbml/Bacteroides_cellulosilyticus_DSM_14838.xml')\n",
    "repair_model(B_cell)"
   ]
  },
  {
   "cell_type": "code",
   "execution_count": 4,
   "metadata": {
    "collapsed": true,
    "deletable": true,
    "editable": true
   },
   "outputs": [],
   "source": [
    "models = [B_caccae, B_cell]"
   ]
  },
  {
   "cell_type": "code",
   "execution_count": 5,
   "metadata": {
    "collapsed": false,
    "deletable": true,
    "editable": true
   },
   "outputs": [
    {
     "name": "stdout",
     "output_type": "stream",
     "text": [
      "mdl=Bacteroides_caccae_ATCC_43185. rxn=biomass536. objcoeff=1.0\n",
      "mdl=Bacteroides_cellulosilyticus_DSM_14838. rxn=biomass536. objcoeff=1.0\n"
     ]
    }
   ],
   "source": [
    "for mdl in models:\n",
    "    for rxn in mdl.reactions:\n",
    "        if rxn.objective_coefficient != 0:\n",
    "            print('mdl=%s. rxn=%s. objcoeff=%s' % (mdl.id, rxn.id, rxn.objective_coefficient))"
   ]
  },
  {
   "cell_type": "code",
   "execution_count": 6,
   "metadata": {
    "collapsed": false,
    "deletable": true,
    "editable": true
   },
   "outputs": [
    {
     "data": {
      "text/html": [
       "<div>\n",
       "<style scoped>\n",
       "    .dataframe tbody tr th:only-of-type {\n",
       "        vertical-align: middle;\n",
       "    }\n",
       "\n",
       "    .dataframe tbody tr th {\n",
       "        vertical-align: top;\n",
       "    }\n",
       "\n",
       "    .dataframe thead th {\n",
       "        text-align: right;\n",
       "    }\n",
       "</style>\n",
       "<table border=\"1\" class=\"dataframe\">\n",
       "  <thead>\n",
       "    <tr style=\"text-align: right;\">\n",
       "      <th></th>\n",
       "      <th>X0</th>\n",
       "      <th>biomass</th>\n",
       "      <th>id</th>\n",
       "      <th>j0</th>\n",
       "    </tr>\n",
       "  </thead>\n",
       "  <tbody>\n",
       "    <tr>\n",
       "      <th>0</th>\n",
       "      <td>1</td>\n",
       "      <td>biomass536</td>\n",
       "      <td>Bacteroides_caccae_ATCC_43185</td>\n",
       "      <td>0</td>\n",
       "    </tr>\n",
       "    <tr>\n",
       "      <th>1</th>\n",
       "      <td>1</td>\n",
       "      <td>biomass536</td>\n",
       "      <td>Bacteroides_cellulosilyticus_DSM_14838</td>\n",
       "      <td>2</td>\n",
       "    </tr>\n",
       "  </tbody>\n",
       "</table>\n",
       "</div>"
      ],
      "text/plain": [
       "   X0     biomass                                      id  j0\n",
       "0  1   biomass536  Bacteroides_caccae_ATCC_43185           0 \n",
       "1  1   biomass536  Bacteroides_cellulosilyticus_DSM_14838  2 "
      ]
     },
     "execution_count": 6,
     "metadata": {},
     "output_type": "execute_result"
    }
   ],
   "source": [
    "data = {'id':[B_caccae.id, B_cell.id],\n",
    "        'j0':[0,2],\n",
    "        'X0':[1,1],\n",
    "        'biomass':['biomass536', 'biomass536']\n",
    "}\n",
    "df_organism = pd.DataFrame.from_dict(data)\n",
    "df_organism"
   ]
  },
  {
   "cell_type": "markdown",
   "metadata": {
    "deletable": true,
    "editable": true
   },
   "source": [
    "## Toy spatial constraints"
   ]
  },
  {
   "cell_type": "code",
   "execution_count": 7,
   "metadata": {
    "collapsed": true,
    "deletable": true,
    "editable": true
   },
   "outputs": [],
   "source": [
    "## Location relative distances\n",
    "xy_dict = {0:(0,0),\n",
    "           1:(1,0),\n",
    "           2:(2,0),\n",
    "           3:(1,1),\n",
    "           4:(0,2),\n",
    "           5:(1,2),\n",
    "           6:(2,2)}\n",
    "rows = []\n",
    "for i in range(7):\n",
    "    for j in range(7):\n",
    "        xi,yi = xy_dict[i]\n",
    "        xj,yj = xy_dict[j]\n",
    "        dx = xj-xi\n",
    "        dy = yj-yi\n",
    "        d  = np.sqrt(dx**2 + dy**2)\n",
    "        rows.append({'i':i, 'j':j, 'd':d})\n",
    "df_loc = pd.DataFrame(rows)"
   ]
  },
  {
   "cell_type": "code",
   "execution_count": 8,
   "metadata": {
    "collapsed": false,
    "deletable": true,
    "editable": true
   },
   "outputs": [],
   "source": [
    "## Primary sources\n",
    "r2 = 2**0.5\n",
    "r5 = 5**0.5\n",
    "data = {'i':[0, 0, 0, 0, 0, 0, 0, 1, 1, 1, 1, 1, 1, 1],\n",
    "        'j':[0, 1, 2, 3, 4, 5, 6, 0, 1, 2, 3, 4, 5, 6],\n",
    "        'd':[1, r2,r5,1, 1, r2,r5,r5,r2,1, 1, r5,r2,1]}\n",
    "df_sources = pd.DataFrame.from_dict(data)"
   ]
  },
  {
   "cell_type": "code",
   "execution_count": 9,
   "metadata": {
    "collapsed": false,
    "deletable": true,
    "editable": true
   },
   "outputs": [],
   "source": [
    "## Nutrient uptake capacities\n",
    "data = {'i':[0,1],\n",
    "        'l':['cellb_e', 'acgal_e'], # cellobiose and an O-glycan\n",
    "        'vtot':[-2, -1],\n",
    "        'x':[0,2],\n",
    "        'y':[1,1]\n",
    "       }   \n",
    "df_nutrient = pd.DataFrame.from_dict(data)"
   ]
  },
  {
   "cell_type": "code",
   "execution_count": 10,
   "metadata": {
    "collapsed": false,
    "deletable": true,
    "editable": true
   },
   "outputs": [
    {
     "data": {
      "text/html": [
       "<div>\n",
       "<style scoped>\n",
       "    .dataframe tbody tr th:only-of-type {\n",
       "        vertical-align: middle;\n",
       "    }\n",
       "\n",
       "    .dataframe tbody tr th {\n",
       "        vertical-align: top;\n",
       "    }\n",
       "\n",
       "    .dataframe thead th {\n",
       "        text-align: right;\n",
       "    }\n",
       "</style>\n",
       "<table border=\"1\" class=\"dataframe\">\n",
       "  <thead>\n",
       "    <tr style=\"text-align: right;\">\n",
       "      <th></th>\n",
       "      <th>i</th>\n",
       "      <th>l</th>\n",
       "      <th>vtot</th>\n",
       "      <th>x</th>\n",
       "      <th>y</th>\n",
       "    </tr>\n",
       "  </thead>\n",
       "  <tbody>\n",
       "    <tr>\n",
       "      <th>0</th>\n",
       "      <td>0</td>\n",
       "      <td>cellb_e</td>\n",
       "      <td>-2</td>\n",
       "      <td>0</td>\n",
       "      <td>1</td>\n",
       "    </tr>\n",
       "    <tr>\n",
       "      <th>1</th>\n",
       "      <td>1</td>\n",
       "      <td>acgal_e</td>\n",
       "      <td>-1</td>\n",
       "      <td>2</td>\n",
       "      <td>1</td>\n",
       "    </tr>\n",
       "  </tbody>\n",
       "</table>\n",
       "</div>"
      ],
      "text/plain": [
       "   i        l  vtot  x  y\n",
       "0  0  cellb_e -2     0  1\n",
       "1  1  acgal_e -1     2  1"
      ]
     },
     "execution_count": 10,
     "metadata": {},
     "output_type": "execute_result"
    }
   ],
   "source": [
    "df_nutrient"
   ]
  },
  {
   "cell_type": "code",
   "execution_count": 11,
   "metadata": {
    "collapsed": false,
    "deletable": true,
    "editable": true
   },
   "outputs": [
    {
     "data": {
      "text/html": [
       "<div>\n",
       "<style scoped>\n",
       "    .dataframe tbody tr th:only-of-type {\n",
       "        vertical-align: middle;\n",
       "    }\n",
       "\n",
       "    .dataframe tbody tr th {\n",
       "        vertical-align: top;\n",
       "    }\n",
       "\n",
       "    .dataframe thead th {\n",
       "        text-align: right;\n",
       "    }\n",
       "</style>\n",
       "<table border=\"1\" class=\"dataframe\">\n",
       "  <thead>\n",
       "    <tr style=\"text-align: right;\">\n",
       "      <th></th>\n",
       "      <th>id</th>\n",
       "      <th>l</th>\n",
       "      <th>rxn</th>\n",
       "    </tr>\n",
       "  </thead>\n",
       "  <tbody>\n",
       "    <tr>\n",
       "      <th>0</th>\n",
       "      <td>Bacteroides_cellulosilyticus_DSM_14838</td>\n",
       "      <td>cellb_e</td>\n",
       "      <td>EX_cellb_e</td>\n",
       "    </tr>\n",
       "    <tr>\n",
       "      <th>1</th>\n",
       "      <td>Bacteroides_caccae_ATCC_43185</td>\n",
       "      <td>acgal_e</td>\n",
       "      <td>EX_acgal_e</td>\n",
       "    </tr>\n",
       "    <tr>\n",
       "      <th>2</th>\n",
       "      <td>Bacteroides_cellulosilyticus_DSM_14838</td>\n",
       "      <td>acgal_e</td>\n",
       "      <td>EX_acgal_e</td>\n",
       "    </tr>\n",
       "  </tbody>\n",
       "</table>\n",
       "</div>"
      ],
      "text/plain": [
       "                                       id        l         rxn\n",
       "0  Bacteroides_cellulosilyticus_DSM_14838  cellb_e  EX_cellb_e\n",
       "1  Bacteroides_caccae_ATCC_43185           acgal_e  EX_acgal_e\n",
       "2  Bacteroides_cellulosilyticus_DSM_14838  acgal_e  EX_acgal_e"
      ]
     },
     "execution_count": 11,
     "metadata": {},
     "output_type": "execute_result"
    }
   ],
   "source": [
    "## Nutrient to exchange flux mapping for organisms\n",
    "rows = []\n",
    "for i,row in df_nutrient.iterrows():\n",
    "    mid = row['l']\n",
    "    for mdl in models:\n",
    "        rid = 'EX_%s'%mid\n",
    "        if mdl.reactions.has_id(rid):\n",
    "            rows.append({'l':mid, 'rxn':rid, 'id':mdl.id})\n",
    "df_ex = pd.DataFrame(rows)\n",
    "df_ex"
   ]
  },
  {
   "cell_type": "code",
   "execution_count": 12,
   "metadata": {
    "collapsed": false,
    "deletable": true,
    "editable": true
   },
   "outputs": [
    {
     "data": {
      "text/html": [
       "<div>\n",
       "<style scoped>\n",
       "    .dataframe tbody tr th:only-of-type {\n",
       "        vertical-align: middle;\n",
       "    }\n",
       "\n",
       "    .dataframe tbody tr th {\n",
       "        vertical-align: top;\n",
       "    }\n",
       "\n",
       "    .dataframe thead th {\n",
       "        text-align: right;\n",
       "    }\n",
       "</style>\n",
       "<table border=\"1\" class=\"dataframe\">\n",
       "  <thead>\n",
       "    <tr style=\"text-align: right;\">\n",
       "      <th></th>\n",
       "      <th>i</th>\n",
       "      <th>l</th>\n",
       "      <th>vtot</th>\n",
       "      <th>x</th>\n",
       "      <th>y</th>\n",
       "      <th>d</th>\n",
       "      <th>j</th>\n",
       "    </tr>\n",
       "  </thead>\n",
       "  <tbody>\n",
       "    <tr>\n",
       "      <th>0</th>\n",
       "      <td>0</td>\n",
       "      <td>cellb_e</td>\n",
       "      <td>-2</td>\n",
       "      <td>0</td>\n",
       "      <td>1</td>\n",
       "      <td>1.0</td>\n",
       "      <td>0</td>\n",
       "    </tr>\n",
       "  </tbody>\n",
       "</table>\n",
       "</div>"
      ],
      "text/plain": [
       "   i        l  vtot  x  y    d  j\n",
       "0  0  cellb_e -2     0  1  1.0  0"
      ]
     },
     "execution_count": 12,
     "metadata": {},
     "output_type": "execute_result"
    }
   ],
   "source": [
    "df_nutr_src = pd.merge(df_nutrient, df_sources, on='i')\n",
    "dfl = df_nutr_src[ df_nutr_src.l=='cellb_e']\n",
    "dflj = dfl[dfl.j==0]\n",
    "dflj"
   ]
  },
  {
   "cell_type": "code",
   "execution_count": 13,
   "metadata": {
    "collapsed": false,
    "deletable": true,
    "editable": true
   },
   "outputs": [
    {
     "data": {
      "text/html": [
       "<div>\n",
       "<style scoped>\n",
       "    .dataframe tbody tr th:only-of-type {\n",
       "        vertical-align: middle;\n",
       "    }\n",
       "\n",
       "    .dataframe tbody tr th {\n",
       "        vertical-align: top;\n",
       "    }\n",
       "\n",
       "    .dataframe thead th {\n",
       "        text-align: right;\n",
       "    }\n",
       "</style>\n",
       "<table border=\"1\" class=\"dataframe\">\n",
       "  <thead>\n",
       "    <tr style=\"text-align: right;\">\n",
       "      <th></th>\n",
       "      <th>X0</th>\n",
       "      <th>biomass</th>\n",
       "      <th>id</th>\n",
       "      <th>j0</th>\n",
       "    </tr>\n",
       "  </thead>\n",
       "  <tbody>\n",
       "    <tr>\n",
       "      <th>0</th>\n",
       "      <td>1</td>\n",
       "      <td>biomass536</td>\n",
       "      <td>Bacteroides_caccae_ATCC_43185</td>\n",
       "      <td>0</td>\n",
       "    </tr>\n",
       "    <tr>\n",
       "      <th>1</th>\n",
       "      <td>1</td>\n",
       "      <td>biomass536</td>\n",
       "      <td>Bacteroides_cellulosilyticus_DSM_14838</td>\n",
       "      <td>2</td>\n",
       "    </tr>\n",
       "  </tbody>\n",
       "</table>\n",
       "</div>"
      ],
      "text/plain": [
       "   X0     biomass                                      id  j0\n",
       "0  1   biomass536  Bacteroides_caccae_ATCC_43185           0 \n",
       "1  1   biomass536  Bacteroides_cellulosilyticus_DSM_14838  2 "
      ]
     },
     "execution_count": 13,
     "metadata": {},
     "output_type": "execute_result"
    }
   ],
   "source": [
    "df_organism"
   ]
  },
  {
   "cell_type": "markdown",
   "metadata": {
    "deletable": true,
    "editable": true
   },
   "source": [
    "# Solve"
   ]
  },
  {
   "cell_type": "code",
   "execution_count": 14,
   "metadata": {
    "collapsed": false,
    "deletable": true,
    "editable": true
   },
   "outputs": [],
   "source": [
    "from dynamicme.location import LocateMM\n",
    "\n",
    "locater = LocateMM(models, df_loc, df_sources, df_nutrient, df_organism, df_ex, 6.)"
   ]
  },
  {
   "cell_type": "code",
   "execution_count": 15,
   "metadata": {
    "collapsed": false,
    "deletable": true,
    "editable": true
   },
   "outputs": [],
   "source": [
    "locater.stack_models()"
   ]
  },
  {
   "cell_type": "code",
   "execution_count": 16,
   "metadata": {
    "collapsed": false,
    "deletable": true,
    "editable": true
   },
   "outputs": [
    {
     "name": "stdout",
     "output_type": "stream",
     "text": [
      "Mets: 15197. Rxns: 17682.\n"
     ]
    }
   ],
   "source": [
    "print('Mets: %s. Rxns: %s.' % (len(locater.model.metabolites), len(locater.model.reactions)))"
   ]
  },
  {
   "cell_type": "code",
   "execution_count": 17,
   "metadata": {
    "collapsed": false,
    "deletable": true,
    "editable": true
   },
   "outputs": [
    {
     "data": {
      "text/plain": [
       "[<Reaction EX_acgam_e_Bacteroides_caccae_ATCC_43185_0 at 0x7f1c94ffdb10>,\n",
       " <Reaction EX_acgam_e_Bacteroides_caccae_ATCC_43185_1 at 0x7f1c94e29790>,\n",
       " <Reaction EX_acgam_e_Bacteroides_caccae_ATCC_43185_2 at 0x7f1c94bfbc10>,\n",
       " <Reaction EX_acgam_e_Bacteroides_caccae_ATCC_43185_3 at 0x7f1c94a520d0>,\n",
       " <Reaction EX_acgam_e_Bacteroides_caccae_ATCC_43185_4 at 0x7f1c948a43d0>,\n",
       " <Reaction EX_acgam_e_Bacteroides_caccae_ATCC_43185_5 at 0x7f1c946f5850>,\n",
       " <Reaction EX_acgam_e_Bacteroides_caccae_ATCC_43185_6 at 0x7f1c944c7cd0>,\n",
       " <Reaction EX_acgam_e_Bacteroides_cellulosilyticus_DSM_14838_0 at 0x7f1c9431fa50>,\n",
       " <Reaction EX_acgam_e_Bacteroides_cellulosilyticus_DSM_14838_1 at 0x7f1c9411df90>,\n",
       " <Reaction EX_acgam_e_Bacteroides_cellulosilyticus_DSM_14838_2 at 0x7f1c93f0d510>,\n",
       " <Reaction EX_acgam_e_Bacteroides_cellulosilyticus_DSM_14838_3 at 0x7f1c93d77a50>,\n",
       " <Reaction EX_acgam_e_Bacteroides_cellulosilyticus_DSM_14838_4 at 0x7f1c93b63f90>,\n",
       " <Reaction EX_acgam_e_Bacteroides_cellulosilyticus_DSM_14838_5 at 0x7f1c939534d0>,\n",
       " <Reaction EX_acgam_e_Bacteroides_cellulosilyticus_DSM_14838_6 at 0x7f1c9373ea10>]"
      ]
     },
     "execution_count": 17,
     "metadata": {},
     "output_type": "execute_result"
    }
   ],
   "source": [
    "locater.model.reactions.query('acgam')"
   ]
  },
  {
   "cell_type": "code",
   "execution_count": 18,
   "metadata": {
    "collapsed": false,
    "deletable": true,
    "editable": true
   },
   "outputs": [
    {
     "name": "stdout",
     "output_type": "stream",
     "text": [
      "CPU times: user 47.6 s, sys: 160 ms, total: 47.8 s\n",
      "Wall time: 48.1 s\n"
     ]
    }
   ],
   "source": [
    "%%time\n",
    "locater.create_problem()"
   ]
  },
  {
   "cell_type": "code",
   "execution_count": 19,
   "metadata": {
    "collapsed": false,
    "deletable": true,
    "editable": true
   },
   "outputs": [
    {
     "name": "stdout",
     "output_type": "stream",
     "text": [
      "Changed value of parameter OutputFlag to 1\n",
      "   Prev: 0  Min: 0  Max: 1  Default: 1\n"
     ]
    },
    {
     "data": {
      "text/plain": [
       "True"
      ]
     },
     "execution_count": 19,
     "metadata": {},
     "output_type": "execute_result"
    }
   ],
   "source": [
    "from cobra.solvers import gurobi_solver\n",
    "\n",
    "model = gurobi_solver.create_problem(locater.model)\n",
    "model.Params.OutputFlag = 1\n",
    "model.ModelSense == GRB.MAXIMIZE"
   ]
  },
  {
   "cell_type": "code",
   "execution_count": 20,
   "metadata": {
    "collapsed": false,
    "deletable": true,
    "editable": true
   },
   "outputs": [
    {
     "name": "stdout",
     "output_type": "stream",
     "text": [
      "Optimize a model with 50598 rows, 17696 columns and 132925 nonzeros\n",
      "Variable types: 17682 continuous, 14 integer (0 binary)\n",
      "Coefficient statistics:\n",
      "  Matrix range     [7e-08, 2e+05]\n",
      "  Objective range  [1e+00, 1e+00]\n",
      "  Bounds range     [7e-08, 1e+03]\n",
      "  RHS range        [1e+00, 1e+00]\n",
      "Warning: Model contains large matrix coefficient range\n",
      "         Consider reformulating model or setting NumericFocus parameter\n",
      "         to avoid numerical issues.\n",
      "Presolve removed 49910 rows and 17335 columns\n",
      "Presolve time: 0.56s\n",
      "Presolved: 688 rows, 361 columns, 2755 nonzeros\n",
      "Variable types: 360 continuous, 1 integer (1 binary)\n",
      "Presolve removed 505 rows and 40 columns\n",
      "\n",
      "Root relaxation: objective 3.690403e+00, 320 iterations, 0.01 seconds\n",
      "\n",
      "    Nodes    |    Current Node    |     Objective Bounds      |     Work\n",
      " Expl Unexpl |  Obj  Depth IntInf | Incumbent    BestBd   Gap | It/Node Time\n",
      "\n",
      "*    0     0               0       3.6904027    3.69040  0.00%     -    0s\n",
      "\n",
      "Explored 0 nodes (320 simplex iterations) in 0.72 seconds\n",
      "Thread count was 8 (of 8 available processors)\n",
      "\n",
      "Solution count 1: 3.6904 \n",
      "\n",
      "Optimal solution found (tolerance 1.00e-04)\n",
      "Best objective 3.690402695929e+00, best bound 3.690402695929e+00, gap 0.0000%\n"
     ]
    }
   ],
   "source": [
    "model.optimize()"
   ]
  },
  {
   "cell_type": "code",
   "execution_count": 21,
   "metadata": {
    "collapsed": false,
    "deletable": true,
    "editable": true
   },
   "outputs": [
    {
     "data": {
      "text/plain": [
       "<Solution 3.69 at 0x7f1c906f1c50>"
      ]
     },
     "execution_count": 21,
     "metadata": {},
     "output_type": "execute_result"
    }
   ],
   "source": [
    "locater.model.optimize(solver='gurobi')"
   ]
  },
  {
   "cell_type": "code",
   "execution_count": 22,
   "metadata": {
    "collapsed": true,
    "deletable": true,
    "editable": true
   },
   "outputs": [],
   "source": [
    "sol = gurobi_solver.format_solution(model, locater.model)"
   ]
  },
  {
   "cell_type": "code",
   "execution_count": 23,
   "metadata": {
    "collapsed": false,
    "deletable": true,
    "editable": true
   },
   "outputs": [],
   "source": [
    "locater.model.solution = sol"
   ]
  },
  {
   "cell_type": "code",
   "execution_count": 24,
   "metadata": {
    "collapsed": false,
    "deletable": true,
    "editable": true
   },
   "outputs": [
    {
     "name": "stdout",
     "output_type": "stream",
     "text": [
      "1.84099388763e-11   y_Bacteroides_cellulosilyticus_DSM_14838_4\n",
      "2.1774970344e-11    y_Bacteroides_cellulosilyticus_DSM_14838_5\n",
      "1.37367161329e-12   y_Bacteroides_cellulosilyticus_DSM_14838_6\n",
      "0.0                 y_Bacteroides_cellulosilyticus_DSM_14838_0\n",
      "0.0                 y_Bacteroides_cellulosilyticus_DSM_14838_1\n",
      "0.0                 y_Bacteroides_cellulosilyticus_DSM_14838_2\n",
      "0.0                 y_Bacteroides_cellulosilyticus_DSM_14838_3\n",
      "1.0                 y_Bacteroides_caccae_ATCC_43185_4\n",
      "1.0                 y_Bacteroides_caccae_ATCC_43185_5\n",
      "1.0                 y_Bacteroides_caccae_ATCC_43185_6\n",
      "1.0                 y_Bacteroides_caccae_ATCC_43185_0\n",
      "1.0                 y_Bacteroides_caccae_ATCC_43185_1\n",
      "1.00000000004       y_Bacteroides_caccae_ATCC_43185_2\n",
      "1.0                 y_Bacteroides_caccae_ATCC_43185_3\n"
     ]
    }
   ],
   "source": [
    "for rxn in locater.model.reactions.query('^y_'):\n",
    "    x = sol.x_dict[rxn.id]\n",
    "    print(\"%-20.18s%-20s\" % (x, rxn.id))"
   ]
  },
  {
   "cell_type": "markdown",
   "metadata": {
    "deletable": true,
    "editable": true
   },
   "source": [
    "locater.model.reactions.query('^biomass')"
   ]
  },
  {
   "cell_type": "markdown",
   "metadata": {
    "deletable": true,
    "editable": true
   },
   "source": [
    "locater.model.reactions.query('^y_')"
   ]
  },
  {
   "cell_type": "markdown",
   "metadata": {
    "deletable": true,
    "editable": true
   },
   "source": [
    "cons = locater.model.metabolites.query('cons_uptake')[0]\n",
    "cons.reactions\n",
    "\n",
    "locater.model.metabolites.query('cons_uptake')\n",
    "\n",
    "df_ex\n",
    "\n",
    "df_sources.head()"
   ]
  },
  {
   "cell_type": "markdown",
   "metadata": {
    "deletable": true,
    "editable": true
   },
   "source": [
    "# Plot the result"
   ]
  },
  {
   "cell_type": "code",
   "execution_count": 27,
   "metadata": {
    "collapsed": false,
    "deletable": true,
    "editable": true
   },
   "outputs": [],
   "source": [
    "org_ids = df_organism.id.unique()\n",
    "J = np.union1d(df_loc.i, df_loc.j)\n",
    "rows = []\n",
    "for org_id in org_ids:\n",
    "    for locj in J:\n",
    "        yid = 'y_%s_%s'%(org_id,locj)\n",
    "        ykj = locater.model.solution.x_dict[yid]        \n",
    "        if abs(ykj)<1e-9:\n",
    "            ykj = 0.\n",
    "        x,y = xy_dict[locj]\n",
    "        dfi = df_organism[ df_organism.id==org_id]\n",
    "        for i,row in dfi.iterrows():\n",
    "            mu_id = row['biomass']            \n",
    "            rxn_mu = \"%s_%s_%s\" % (mu_id, org_id, locj)\n",
    "            mu = locater.model.solution.x_dict[rxn_mu]\n",
    "            if abs(mu)<1e-9:\n",
    "                mu = 0\n",
    "            rows.append({'id':org_id, 'binary':ykj, 'j':locj, 'x':x, 'y':y, 'density':mu})\n",
    "\n",
    "df_res0 = pd.DataFrame(rows)\n",
    "### Add the primary sources\n",
    "df_res1 = df_nutrient[['x','y','l','vtot']].rename(columns={'l':'id'})\n",
    "df_res1.loc[:,'density'] = df_res1.vtot.abs()\n",
    "df_result = pd.concat([df_res0, df_res1])"
   ]
  },
  {
   "cell_type": "code",
   "execution_count": 38,
   "metadata": {
    "collapsed": false,
    "deletable": true,
    "editable": true
   },
   "outputs": [
    {
     "data": {
      "text/html": [
       "<div>\n",
       "<style scoped>\n",
       "    .dataframe tbody tr th:only-of-type {\n",
       "        vertical-align: middle;\n",
       "    }\n",
       "\n",
       "    .dataframe tbody tr th {\n",
       "        vertical-align: top;\n",
       "    }\n",
       "\n",
       "    .dataframe thead th {\n",
       "        text-align: right;\n",
       "    }\n",
       "</style>\n",
       "<table border=\"1\" class=\"dataframe\">\n",
       "  <thead>\n",
       "    <tr style=\"text-align: right;\">\n",
       "      <th></th>\n",
       "      <th>binary</th>\n",
       "      <th>density</th>\n",
       "      <th>id</th>\n",
       "      <th>j</th>\n",
       "      <th>vtot</th>\n",
       "      <th>x</th>\n",
       "      <th>y</th>\n",
       "    </tr>\n",
       "  </thead>\n",
       "  <tbody>\n",
       "    <tr>\n",
       "      <th>0</th>\n",
       "      <td>1.0</td>\n",
       "      <td>0.5272</td>\n",
       "      <td>Bacteroides_caccae_ATCC_43185</td>\n",
       "      <td>0.0</td>\n",
       "      <td>NaN</td>\n",
       "      <td>0</td>\n",
       "      <td>0</td>\n",
       "    </tr>\n",
       "    <tr>\n",
       "      <th>1</th>\n",
       "      <td>1.0</td>\n",
       "      <td>0.5272</td>\n",
       "      <td>Bacteroides_caccae_ATCC_43185</td>\n",
       "      <td>1.0</td>\n",
       "      <td>NaN</td>\n",
       "      <td>1</td>\n",
       "      <td>0</td>\n",
       "    </tr>\n",
       "    <tr>\n",
       "      <th>2</th>\n",
       "      <td>1.0</td>\n",
       "      <td>0.5272</td>\n",
       "      <td>Bacteroides_caccae_ATCC_43185</td>\n",
       "      <td>2.0</td>\n",
       "      <td>NaN</td>\n",
       "      <td>2</td>\n",
       "      <td>0</td>\n",
       "    </tr>\n",
       "    <tr>\n",
       "      <th>3</th>\n",
       "      <td>1.0</td>\n",
       "      <td>0.5272</td>\n",
       "      <td>Bacteroides_caccae_ATCC_43185</td>\n",
       "      <td>3.0</td>\n",
       "      <td>NaN</td>\n",
       "      <td>1</td>\n",
       "      <td>1</td>\n",
       "    </tr>\n",
       "    <tr>\n",
       "      <th>4</th>\n",
       "      <td>1.0</td>\n",
       "      <td>0.5272</td>\n",
       "      <td>Bacteroides_caccae_ATCC_43185</td>\n",
       "      <td>4.0</td>\n",
       "      <td>NaN</td>\n",
       "      <td>0</td>\n",
       "      <td>2</td>\n",
       "    </tr>\n",
       "    <tr>\n",
       "      <th>5</th>\n",
       "      <td>1.0</td>\n",
       "      <td>0.5272</td>\n",
       "      <td>Bacteroides_caccae_ATCC_43185</td>\n",
       "      <td>5.0</td>\n",
       "      <td>NaN</td>\n",
       "      <td>1</td>\n",
       "      <td>2</td>\n",
       "    </tr>\n",
       "    <tr>\n",
       "      <th>6</th>\n",
       "      <td>1.0</td>\n",
       "      <td>0.5272</td>\n",
       "      <td>Bacteroides_caccae_ATCC_43185</td>\n",
       "      <td>6.0</td>\n",
       "      <td>NaN</td>\n",
       "      <td>2</td>\n",
       "      <td>2</td>\n",
       "    </tr>\n",
       "    <tr>\n",
       "      <th>0</th>\n",
       "      <td>NaN</td>\n",
       "      <td>2.0000</td>\n",
       "      <td>cellb_e</td>\n",
       "      <td>NaN</td>\n",
       "      <td>-2.0</td>\n",
       "      <td>0</td>\n",
       "      <td>1</td>\n",
       "    </tr>\n",
       "    <tr>\n",
       "      <th>1</th>\n",
       "      <td>NaN</td>\n",
       "      <td>1.0000</td>\n",
       "      <td>acgal_e</td>\n",
       "      <td>NaN</td>\n",
       "      <td>-1.0</td>\n",
       "      <td>2</td>\n",
       "      <td>1</td>\n",
       "    </tr>\n",
       "  </tbody>\n",
       "</table>\n",
       "</div>"
      ],
      "text/plain": [
       "   binary  density                             id    j  vtot  x  y\n",
       "0  1.0     0.5272   Bacteroides_caccae_ATCC_43185  0.0 NaN    0  0\n",
       "1  1.0     0.5272   Bacteroides_caccae_ATCC_43185  1.0 NaN    1  0\n",
       "2  1.0     0.5272   Bacteroides_caccae_ATCC_43185  2.0 NaN    2  0\n",
       "3  1.0     0.5272   Bacteroides_caccae_ATCC_43185  3.0 NaN    1  1\n",
       "4  1.0     0.5272   Bacteroides_caccae_ATCC_43185  4.0 NaN    0  2\n",
       "5  1.0     0.5272   Bacteroides_caccae_ATCC_43185  5.0 NaN    1  2\n",
       "6  1.0     0.5272   Bacteroides_caccae_ATCC_43185  6.0 NaN    2  2\n",
       "0 NaN      2.0000   cellb_e                       NaN  -2.0   0  1\n",
       "1 NaN      1.0000   acgal_e                       NaN  -1.0   2  1"
      ]
     },
     "execution_count": 38,
     "metadata": {},
     "output_type": "execute_result"
    }
   ],
   "source": [
    "dsplot = df_result[ df_result.density>0]\n",
    "dsplot"
   ]
  },
  {
   "cell_type": "markdown",
   "metadata": {
    "deletable": true,
    "editable": true
   },
   "source": [
    "# Plot results"
   ]
  },
  {
   "cell_type": "markdown",
   "metadata": {
    "collapsed": false,
    "deletable": true,
    "editable": true
   },
   "source": [
    "plot_dict = {\n",
    "    'x':[0,2,0, 1,2,1, 0,1,2],\n",
    "    'y':[1,1,0, 0,0,1, 2,2,2],\n",
    "    'type':['cellb','acgal','org', 'org','org','org', 'org','org','org'],\n",
    "    'density':[2,2,1, 1,1,1, 1,1,1]\n",
    "}\n",
    "dsplot = pd.DataFrame.from_dict(plot_dict)"
   ]
  },
  {
   "cell_type": "markdown",
   "metadata": {
    "collapsed": false,
    "deletable": true,
    "editable": true
   },
   "source": [
    "from dynamicme.location import CommunityPlotter\n",
    "plotter = CommunityPlotter()\n",
    "plotter.plot(dsplot, zcol='density', points=True)"
   ]
  },
  {
   "cell_type": "code",
   "execution_count": 52,
   "metadata": {
    "collapsed": false,
    "deletable": true,
    "editable": true
   },
   "outputs": [
    {
     "data": {
      "text/plain": [
       "<matplotlib.colorbar.Colorbar at 0x7f1c80de6250>"
      ]
     },
     "execution_count": 52,
     "metadata": {},
     "output_type": "execute_result"
    },
    {
     "data": {
      "image/png": "[encoded data removed]",
      "text/plain": [
       "<matplotlib.figure.Figure at 0x7f1c81d6ad50>"
      ]
     },
     "metadata": {},
     "output_type": "display_data"
    }
   ],
   "source": [
    "from scipy import interpolate\n",
    "\n",
    "x = dsplot.x\n",
    "y = dsplot.y\n",
    "z = dsplot.density\n",
    "xx = np.linspace(x.min(), x.max(), 100)\n",
    "yy = np.linspace(y.min(), y.max(), 100)\n",
    "X,Y = np.meshgrid(xx,yy)\n",
    "\n",
    "### Add some noise to prevent singular matrix in interpolate\n",
    "dr = 0.0001\n",
    "xr = x + np.random.uniform(-dr, dr, size=x.shape)\n",
    "yr = y + np.random.uniform(-dr, dr, size=y.shape)\n",
    "rbf = interpolate.Rbf(xr,yr,z, function='linear')\n",
    "#rbf = interpolate.Rbf(x,y,z, function='cubic')\n",
    "#rbf = interpolate.RectBivariateSpline(x,y,z)\n",
    "Z = rbf(X,Y)\n",
    "\n",
    "ax = plt.imshow(Z, vmin=z.min(), vmax=z.max(), origin='lower',\n",
    "          extent=[x.min(), x.max(), y.min(), y.max()])\n",
    "ax.set_cmap('nipy_spectral')\n",
    "plt.scatter(x, y, c=z, edgecolors='#ffffff')\n",
    "ax.axes.set_facecolor('#222222')\n",
    "plt.colorbar()"
   ]
  },
  {
   "cell_type": "markdown",
   "metadata": {
    "collapsed": false,
    "deletable": true,
    "editable": true
   },
   "source": [
    "for rxn in B_cell.reactions.query('EX_'):\n",
    "    if rxn.x < -1e-3:\n",
    "        print('%s:\\t %s <= %s <= %s' % (rxn.id, rxn.lower_bound, rxn.x, rxn.upper_bound))"
   ]
  }
 ],
 "metadata": {
  "kernelspec": {
   "display_name": "Python 2",
   "language": "python",
   "name": "python2"
  },
  "language_info": {
   "codemirror_mode": {
    "name": "ipython",
    "version": 2
   },
   "file_extension": ".py",
   "mimetype": "text/x-python",
   "name": "python",
   "nbconvert_exporter": "python",
   "pygments_lexer": "ipython2",
   "version": "2.7.14"
  }
 },
 "nbformat": 4,
 "nbformat_minor": 2
}
