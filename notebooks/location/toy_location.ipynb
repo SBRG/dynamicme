{
 "cells": [
  {
   "cell_type": "markdown",
   "metadata": {
    "deletable": true,
    "editable": true
   },
   "source": [
    "# Location modeling for microbiome colonization"
   ]
  },
  {
   "cell_type": "markdown",
   "metadata": {
    "deletable": true,
    "editable": true
   },
   "source": [
    "$$\n",
    "\\begin{align}\n",
    "\\min_{v^k,y^k} \\quad & -\\sum_k \\sum_j c_k^T v^k_j \\\\\n",
    "\\mathrm{s.t.}  \\quad & S^k v^k_j = 0, \\quad j \\in \\mathrm{Locations} \\\\\n",
    "                     & \\sum_j y^k_j \\leq X^k_0 + X^k_0 \\mu^k T_c \\\\\n",
    "                     & l^k_j y^k_j \\leq v^k_j \\leq u^k_j y^k_j \\\\\n",
    "                     & \\sum_k y^k_j \\leq 1, \\quad j\\in \\mathrm{Locations} \\\\\n",
    "                     & v^k_{lj} \\geq \\sum_i \\frac{v^\\mathrm{tot}_{lij}}{d_{ij}} + \\sum_{p\\neq j} \\frac{v^\\mathrm{synth}_{lp}}{d_{jp}}, \\quad l\\in \\mathrm{Nutrients} \\\\\n",
    "                     & v^\\mathrm{tot}_{il} \\leq \\sum_k \\sum_j v^k_{lij} d_{ij}, \\quad l\\in \\mathrm{Nutrients}, i\\in \\mathrm{Sources} \\\\\n",
    "                     & y^k_j \\in \\{0,1\\}.\n",
    "\\end{align}\n",
    "$$"
   ]
  },
  {
   "cell_type": "markdown",
   "metadata": {
    "deletable": true,
    "editable": true
   },
   "source": [
    "## Recapitulate:\n",
    "http://www.pnas.org/content/early/2017/10/04/1711596114.short\n",
    "- macro-scale patterns:\n",
    "    - [Fig 2A,B](http://www.pnas.org/content/pnas/early/2017/10/04/1711596114/F4.large.jpg)\n",
    "- microhabitats composition (dominant):\n",
    "    - dominant species: Bacteroides dominate all microhabitats\n",
    "        - Bacteroides: 43% of densely colonized and 46% of sparsely colonized fields\n",
    "        - C. aerofaciens: 11% in densely, 6% in sparsely\n",
    "        - C. scindens: 8% in both\n",
    "        - R. torques: 3% in dense, 2% in sparse    \n",
    "- inter-taxa correlations ([Fig. S3](http://www.pnas.org/content/pnas/early/2017/10/04/1711596114/F9.large.jpg))\n",
    "    - some species show negative correlation\n",
    "    - but R^2 small and p-values not reported!\n",
    "- micro-scale spatial patterns (numbers are for mouse)\n",
    "    - proximal colon shows homogenized community due to mixing and dispersal by host factors\n",
    "    - turnover for mucus is 6 h for mucus in goblet cells and 1 h for inner mucus layer in distal colon\n",
    "    - replication time of B. thetaiotaomicron and E. coli is 3 h in mucus layer and 3-8 h in colonic contents\n",
    "    - therefore, microbes divide only a few rounds before being shed along with mucus into lumen\n",
    "    - gut contents traverse mouse intestine in 4-6 h\n",
    "    - overall, the turnover and shedding diminishes/disrupts segregated communities and spatial structure\n",
    "    - note: human dental plaque form clustered and ordered arrangements"
   ]
  },
  {
   "cell_type": "markdown",
   "metadata": {
    "deletable": true,
    "editable": true
   },
   "source": [
    "### Bacteria:\n",
    "http://www.pnas.org/content/early/2017/10/04/1711596114.short\n",
    "- 6 species (in [AGORA](https://vmh.uni.lu/#downloadview)?):\n",
    "    - Bacteroides cellulosilyticus (yes, DSM 14838)\n",
    "    - Bacteroides caccae (yes, ATCC 43185)\n",
    "    - Parabacteroides distasonis (yes, ATCC 8503)\n",
    "    - Ruminococcus torques (yes, ATCC 27756, L2-14)\n",
    "    - Clostridium scindens (yes, ATCC 35704)\n",
    "    - Collinsella aerofaciens (yes, ATCC 25986)\n",
    "- 4 Moderately abundant Bacteroides:\n",
    "    - Bacteroides thetaiotaomicron (yes, VPI-5482)\n",
    "    - Bacteroides vulgatus (yes, ATCC 8482)\n",
    "    - Bacteroides ovatus (yes, ATCC 8483, SD CC 2a, SD CMC 3f)\n",
    "    - Bacteroides uniformis (yes, ATCC 8492)\n",
    "- 5 low abundance Firmicutes\n",
    "    - Eubacterium rectale (yes, ATCC 33656, M104/1)\n",
    "    - Clostridium spiroforme (yes, DSM 1552)\n",
    "    - Faecalibacterium prausnitzii ()yes, L2-6\n",
    "    - Ruminococcus obeum (yes, A2-162)\n",
    "    - Dorea longicatena (yes, DSM 13814)"
   ]
  },
  {
   "cell_type": "markdown",
   "metadata": {
    "deletable": true,
    "editable": true
   },
   "source": [
    "## Grid"
   ]
  },
  {
   "cell_type": "code",
   "execution_count": 1,
   "metadata": {
    "collapsed": true,
    "deletable": true,
    "editable": true
   },
   "outputs": [],
   "source": [
    "from gurobipy import *\n",
    "\n",
    "import seaborn as sns\n",
    "import pandas as pd\n",
    "import matplotlib.pyplot as plt\n",
    "import numpy as np\n",
    "\n",
    "plt.rcParams['svg.fonttype'] = 'none'\n",
    "pd.set_option('display.max_colwidth', -1)\n",
    "%matplotlib inline\n",
    "\n",
    "from cobra.io import load_json_model\n",
    "from six import iteritems\n",
    "import numpy as np\n",
    "import cobra"
   ]
  },
  {
   "cell_type": "code",
   "execution_count": 2,
   "metadata": {
    "collapsed": true,
    "deletable": true,
    "editable": true
   },
   "outputs": [],
   "source": [
    "ijomc = load_json_model('/home/laurence/ME/models/e_coli_core_pc.json')"
   ]
  },
  {
   "cell_type": "code",
   "execution_count": 3,
   "metadata": {
    "collapsed": false,
    "deletable": true,
    "editable": true
   },
   "outputs": [
    {
     "name": "stdout",
     "output_type": "stream",
     "text": [
      "mu: before=0.527200385031. after=0.527200385031\n",
      "mu: before=0.337029885021. after=0.337029885021\n"
     ]
    }
   ],
   "source": [
    "from cobra.io.sbml3 import read_sbml_model\n",
    "\n",
    "def repair_model(mdl):\n",
    "    obj0 = mdl.optimize().f\n",
    "    for rxn in mdl.reactions:\n",
    "        rxn.id = rxn.id.replace('__40__','_').replace('__41__','')\n",
    "    for met in mdl.metabolites:\n",
    "        met.id = met.id.replace('__91__','_').replace('__93__','')\n",
    "    mdl.repair()\n",
    "    obj1 = mdl.optimize().f\n",
    "    print('mu: before=%s. after=%s' % (obj0,obj1))\n",
    "    assert abs(obj1-obj0)<1e-9\n",
    "\n",
    "B_caccae = read_sbml_model('/home/laurence/ME/data/microbiome/Agora_1_02_Western/sbml/Bacteroides_caccae_ATCC_43185.xml')\n",
    "repair_model(B_caccae)\n",
    "B_cell = read_sbml_model('/home/laurence/ME/data/microbiome/Agora_1_02_Western/sbml/Bacteroides_cellulosilyticus_DSM_14838.xml')\n",
    "repair_model(B_cell)"
   ]
  },
  {
   "cell_type": "code",
   "execution_count": 4,
   "metadata": {
    "collapsed": true,
    "deletable": true,
    "editable": true
   },
   "outputs": [],
   "source": [
    "models = [B_caccae, B_cell]"
   ]
  },
  {
   "cell_type": "code",
   "execution_count": 5,
   "metadata": {
    "collapsed": false
   },
   "outputs": [
    {
     "name": "stdout",
     "output_type": "stream",
     "text": [
      "mdl=Bacteroides_caccae_ATCC_43185. rxn=biomass536. objcoeff=1.0\n",
      "mdl=Bacteroides_cellulosilyticus_DSM_14838. rxn=biomass536. objcoeff=1.0\n"
     ]
    }
   ],
   "source": [
    "for mdl in models:\n",
    "    for rxn in mdl.reactions:\n",
    "        if rxn.objective_coefficient != 0:\n",
    "            print('mdl=%s. rxn=%s. objcoeff=%s' % (mdl.id, rxn.id, rxn.objective_coefficient))"
   ]
  },
  {
   "cell_type": "code",
   "execution_count": 6,
   "metadata": {
    "collapsed": false
   },
   "outputs": [
    {
     "data": {
      "text/html": [
       "<div>\n",
       "<style scoped>\n",
       "    .dataframe tbody tr th:only-of-type {\n",
       "        vertical-align: middle;\n",
       "    }\n",
       "\n",
       "    .dataframe tbody tr th {\n",
       "        vertical-align: top;\n",
       "    }\n",
       "\n",
       "    .dataframe thead th {\n",
       "        text-align: right;\n",
       "    }\n",
       "</style>\n",
       "<table border=\"1\" class=\"dataframe\">\n",
       "  <thead>\n",
       "    <tr style=\"text-align: right;\">\n",
       "      <th></th>\n",
       "      <th>X0</th>\n",
       "      <th>biomass</th>\n",
       "      <th>id</th>\n",
       "      <th>j0</th>\n",
       "    </tr>\n",
       "  </thead>\n",
       "  <tbody>\n",
       "    <tr>\n",
       "      <th>0</th>\n",
       "      <td>1</td>\n",
       "      <td>biomass536</td>\n",
       "      <td>Bacteroides_caccae_ATCC_43185</td>\n",
       "      <td>0</td>\n",
       "    </tr>\n",
       "    <tr>\n",
       "      <th>1</th>\n",
       "      <td>1</td>\n",
       "      <td>biomass536</td>\n",
       "      <td>Bacteroides_cellulosilyticus_DSM_14838</td>\n",
       "      <td>2</td>\n",
       "    </tr>\n",
       "  </tbody>\n",
       "</table>\n",
       "</div>"
      ],
      "text/plain": [
       "   X0     biomass                                      id  j0\n",
       "0  1   biomass536  Bacteroides_caccae_ATCC_43185           0 \n",
       "1  1   biomass536  Bacteroides_cellulosilyticus_DSM_14838  2 "
      ]
     },
     "execution_count": 6,
     "metadata": {},
     "output_type": "execute_result"
    }
   ],
   "source": [
    "data = {'id':[B_caccae.id, B_cell.id],\n",
    "        'j0':[0,2],\n",
    "        'X0':[1,1],\n",
    "        'biomass':['biomass536', 'biomass536']\n",
    "}\n",
    "df_organism = pd.DataFrame.from_dict(data)\n",
    "df_organism"
   ]
  },
  {
   "cell_type": "markdown",
   "metadata": {
    "deletable": true,
    "editable": true
   },
   "source": [
    "## Toy spatial constraints"
   ]
  },
  {
   "cell_type": "code",
   "execution_count": 7,
   "metadata": {
    "collapsed": true,
    "deletable": true,
    "editable": true
   },
   "outputs": [],
   "source": [
    "## Location relative distances\n",
    "xy_dict = {0:(0,0),\n",
    "           1:(1,0),\n",
    "           2:(2,0),\n",
    "           3:(1,1),\n",
    "           4:(0,2),\n",
    "           5:(1,2),\n",
    "           6:(2,2)}\n",
    "rows = []\n",
    "for i in range(7):\n",
    "    for j in range(7):\n",
    "        xi,yi = xy_dict[i]\n",
    "        xj,yj = xy_dict[j]\n",
    "        dx = xj-xi\n",
    "        dy = yj-yi\n",
    "        d  = np.sqrt(dx**2 + dy**2)\n",
    "        rows.append({'i':i, 'j':j, 'd':d})\n",
    "df_loc = pd.DataFrame(rows)"
   ]
  },
  {
   "cell_type": "code",
   "execution_count": 8,
   "metadata": {
    "collapsed": false,
    "deletable": true,
    "editable": true
   },
   "outputs": [],
   "source": [
    "## Primary sources\n",
    "r2 = 2**0.5\n",
    "r5 = 5**0.5\n",
    "data = {'i':[0, 0, 0, 0, 0, 0, 0, 1, 1, 1, 1, 1, 1, 1],\n",
    "        'j':[0, 1, 2, 3, 4, 5, 6, 0, 1, 2, 3, 4, 5, 6],\n",
    "        'd':[1, r2,r5,1, 1, r2,r5,r5,r2,1, 1, r5,r2,1]}\n",
    "df_sources = pd.DataFrame.from_dict(data)"
   ]
  },
  {
   "cell_type": "code",
   "execution_count": 9,
   "metadata": {
    "collapsed": false
   },
   "outputs": [],
   "source": [
    "## Nutrient uptake capacities\n",
    "data = {'i':[0,1],\n",
    "        'l':['cellb_e', 'acgal_e'], # cellobiose and an O-glycan\n",
    "        'vtot':[-20, -10]\n",
    "       }   \n",
    "df_nutrient = pd.DataFrame.from_dict(data)"
   ]
  },
  {
   "cell_type": "code",
   "execution_count": 10,
   "metadata": {
    "collapsed": false
   },
   "outputs": [
    {
     "data": {
      "text/html": [
       "<div>\n",
       "<style scoped>\n",
       "    .dataframe tbody tr th:only-of-type {\n",
       "        vertical-align: middle;\n",
       "    }\n",
       "\n",
       "    .dataframe tbody tr th {\n",
       "        vertical-align: top;\n",
       "    }\n",
       "\n",
       "    .dataframe thead th {\n",
       "        text-align: right;\n",
       "    }\n",
       "</style>\n",
       "<table border=\"1\" class=\"dataframe\">\n",
       "  <thead>\n",
       "    <tr style=\"text-align: right;\">\n",
       "      <th></th>\n",
       "      <th>i</th>\n",
       "      <th>l</th>\n",
       "      <th>vtot</th>\n",
       "    </tr>\n",
       "  </thead>\n",
       "  <tbody>\n",
       "    <tr>\n",
       "      <th>0</th>\n",
       "      <td>0</td>\n",
       "      <td>cellb_e</td>\n",
       "      <td>-20</td>\n",
       "    </tr>\n",
       "    <tr>\n",
       "      <th>1</th>\n",
       "      <td>1</td>\n",
       "      <td>acgal_e</td>\n",
       "      <td>-10</td>\n",
       "    </tr>\n",
       "  </tbody>\n",
       "</table>\n",
       "</div>"
      ],
      "text/plain": [
       "   i        l  vtot\n",
       "0  0  cellb_e -20  \n",
       "1  1  acgal_e -10  "
      ]
     },
     "execution_count": 10,
     "metadata": {},
     "output_type": "execute_result"
    }
   ],
   "source": [
    "df_nutrient"
   ]
  },
  {
   "cell_type": "code",
   "execution_count": 11,
   "metadata": {
    "collapsed": false
   },
   "outputs": [
    {
     "data": {
      "text/html": [
       "<div>\n",
       "<style scoped>\n",
       "    .dataframe tbody tr th:only-of-type {\n",
       "        vertical-align: middle;\n",
       "    }\n",
       "\n",
       "    .dataframe tbody tr th {\n",
       "        vertical-align: top;\n",
       "    }\n",
       "\n",
       "    .dataframe thead th {\n",
       "        text-align: right;\n",
       "    }\n",
       "</style>\n",
       "<table border=\"1\" class=\"dataframe\">\n",
       "  <thead>\n",
       "    <tr style=\"text-align: right;\">\n",
       "      <th></th>\n",
       "      <th>id</th>\n",
       "      <th>l</th>\n",
       "      <th>rxn</th>\n",
       "    </tr>\n",
       "  </thead>\n",
       "  <tbody>\n",
       "    <tr>\n",
       "      <th>0</th>\n",
       "      <td>Bacteroides_cellulosilyticus_DSM_14838</td>\n",
       "      <td>cellb_e</td>\n",
       "      <td>EX_cellb_e</td>\n",
       "    </tr>\n",
       "    <tr>\n",
       "      <th>1</th>\n",
       "      <td>Bacteroides_caccae_ATCC_43185</td>\n",
       "      <td>acgal_e</td>\n",
       "      <td>EX_acgal_e</td>\n",
       "    </tr>\n",
       "    <tr>\n",
       "      <th>2</th>\n",
       "      <td>Bacteroides_cellulosilyticus_DSM_14838</td>\n",
       "      <td>acgal_e</td>\n",
       "      <td>EX_acgal_e</td>\n",
       "    </tr>\n",
       "  </tbody>\n",
       "</table>\n",
       "</div>"
      ],
      "text/plain": [
       "                                       id        l         rxn\n",
       "0  Bacteroides_cellulosilyticus_DSM_14838  cellb_e  EX_cellb_e\n",
       "1  Bacteroides_caccae_ATCC_43185           acgal_e  EX_acgal_e\n",
       "2  Bacteroides_cellulosilyticus_DSM_14838  acgal_e  EX_acgal_e"
      ]
     },
     "execution_count": 11,
     "metadata": {},
     "output_type": "execute_result"
    }
   ],
   "source": [
    "## Nutrient to exchange flux mapping for organisms\n",
    "rows = []\n",
    "for i,row in df_nutrient.iterrows():\n",
    "    mid = row['l']\n",
    "    for mdl in models:\n",
    "        rid = 'EX_%s'%mid\n",
    "        if mdl.reactions.has_id(rid):\n",
    "            rows.append({'l':mid, 'rxn':rid, 'id':mdl.id})\n",
    "df_ex = pd.DataFrame(rows)\n",
    "df_ex"
   ]
  },
  {
   "cell_type": "code",
   "execution_count": 12,
   "metadata": {
    "collapsed": false
   },
   "outputs": [
    {
     "data": {
      "text/html": [
       "<div>\n",
       "<style scoped>\n",
       "    .dataframe tbody tr th:only-of-type {\n",
       "        vertical-align: middle;\n",
       "    }\n",
       "\n",
       "    .dataframe tbody tr th {\n",
       "        vertical-align: top;\n",
       "    }\n",
       "\n",
       "    .dataframe thead th {\n",
       "        text-align: right;\n",
       "    }\n",
       "</style>\n",
       "<table border=\"1\" class=\"dataframe\">\n",
       "  <thead>\n",
       "    <tr style=\"text-align: right;\">\n",
       "      <th></th>\n",
       "      <th>i</th>\n",
       "      <th>l</th>\n",
       "      <th>vtot</th>\n",
       "      <th>d</th>\n",
       "      <th>j</th>\n",
       "    </tr>\n",
       "  </thead>\n",
       "  <tbody>\n",
       "    <tr>\n",
       "      <th>0</th>\n",
       "      <td>0</td>\n",
       "      <td>cellb_e</td>\n",
       "      <td>-20</td>\n",
       "      <td>1.0</td>\n",
       "      <td>0</td>\n",
       "    </tr>\n",
       "  </tbody>\n",
       "</table>\n",
       "</div>"
      ],
      "text/plain": [
       "   i        l  vtot    d  j\n",
       "0  0  cellb_e -20    1.0  0"
      ]
     },
     "execution_count": 12,
     "metadata": {},
     "output_type": "execute_result"
    }
   ],
   "source": [
    "df_nutr_src = pd.merge(df_nutrient, df_sources, on='i')\n",
    "dfl = df_nutr_src[ df_nutr_src.l=='cellb_e']\n",
    "dflj = dfl[dfl.j==0]\n",
    "dflj"
   ]
  },
  {
   "cell_type": "code",
   "execution_count": 13,
   "metadata": {
    "collapsed": false
   },
   "outputs": [
    {
     "data": {
      "text/html": [
       "<div>\n",
       "<style scoped>\n",
       "    .dataframe tbody tr th:only-of-type {\n",
       "        vertical-align: middle;\n",
       "    }\n",
       "\n",
       "    .dataframe tbody tr th {\n",
       "        vertical-align: top;\n",
       "    }\n",
       "\n",
       "    .dataframe thead th {\n",
       "        text-align: right;\n",
       "    }\n",
       "</style>\n",
       "<table border=\"1\" class=\"dataframe\">\n",
       "  <thead>\n",
       "    <tr style=\"text-align: right;\">\n",
       "      <th></th>\n",
       "      <th>X0</th>\n",
       "      <th>biomass</th>\n",
       "      <th>id</th>\n",
       "      <th>j0</th>\n",
       "    </tr>\n",
       "  </thead>\n",
       "  <tbody>\n",
       "    <tr>\n",
       "      <th>0</th>\n",
       "      <td>1</td>\n",
       "      <td>biomass536</td>\n",
       "      <td>Bacteroides_caccae_ATCC_43185</td>\n",
       "      <td>0</td>\n",
       "    </tr>\n",
       "    <tr>\n",
       "      <th>1</th>\n",
       "      <td>1</td>\n",
       "      <td>biomass536</td>\n",
       "      <td>Bacteroides_cellulosilyticus_DSM_14838</td>\n",
       "      <td>2</td>\n",
       "    </tr>\n",
       "  </tbody>\n",
       "</table>\n",
       "</div>"
      ],
      "text/plain": [
       "   X0     biomass                                      id  j0\n",
       "0  1   biomass536  Bacteroides_caccae_ATCC_43185           0 \n",
       "1  1   biomass536  Bacteroides_cellulosilyticus_DSM_14838  2 "
      ]
     },
     "execution_count": 13,
     "metadata": {},
     "output_type": "execute_result"
    }
   ],
   "source": [
    "df_organism"
   ]
  },
  {
   "cell_type": "markdown",
   "metadata": {},
   "source": [
    "# Solve"
   ]
  },
  {
   "cell_type": "code",
   "execution_count": 14,
   "metadata": {
    "collapsed": false
   },
   "outputs": [],
   "source": [
    "from dynamicme.location import LocateMM\n",
    "\n",
    "locater = LocateMM(models, df_loc, df_sources, df_nutrient, df_organism, df_ex, 6.)"
   ]
  },
  {
   "cell_type": "code",
   "execution_count": 15,
   "metadata": {
    "collapsed": false
   },
   "outputs": [],
   "source": [
    "locater.stack_models()"
   ]
  },
  {
   "cell_type": "code",
   "execution_count": 16,
   "metadata": {
    "collapsed": false
   },
   "outputs": [
    {
     "name": "stdout",
     "output_type": "stream",
     "text": [
      "Mets: 15197. Rxns: 17682.\n"
     ]
    }
   ],
   "source": [
    "print('Mets: %s. Rxns: %s.' % (len(locater.model.metabolites), len(locater.model.reactions)))"
   ]
  },
  {
   "cell_type": "code",
   "execution_count": 17,
   "metadata": {
    "collapsed": false
   },
   "outputs": [
    {
     "data": {
      "text/plain": [
       "[<Reaction EX_acgam_e_Bacteroides_caccae_ATCC_43185_0 at 0x7f9d034adb10>,\n",
       " <Reaction EX_acgam_e_Bacteroides_caccae_ATCC_43185_1 at 0x7f9d032d8810>,\n",
       " <Reaction EX_acgam_e_Bacteroides_caccae_ATCC_43185_2 at 0x7f9d030aac10>,\n",
       " <Reaction EX_acgam_e_Bacteroides_caccae_ATCC_43185_3 at 0x7f9d02f010d0>,\n",
       " <Reaction EX_acgam_e_Bacteroides_caccae_ATCC_43185_4 at 0x7f9d02d53390>,\n",
       " <Reaction EX_acgam_e_Bacteroides_caccae_ATCC_43185_5 at 0x7f9d02ba4810>,\n",
       " <Reaction EX_acgam_e_Bacteroides_caccae_ATCC_43185_6 at 0x7f9d02976c90>,\n",
       " <Reaction EX_acgam_e_Bacteroides_cellulosilyticus_DSM_14838_0 at 0x7f9d027cea10>,\n",
       " <Reaction EX_acgam_e_Bacteroides_cellulosilyticus_DSM_14838_1 at 0x7f9d025ccf50>,\n",
       " <Reaction EX_acgam_e_Bacteroides_cellulosilyticus_DSM_14838_2 at 0x7f9d023bd4d0>,\n",
       " <Reaction EX_acgam_e_Bacteroides_cellulosilyticus_DSM_14838_3 at 0x7f9d02226a10>,\n",
       " <Reaction EX_acgam_e_Bacteroides_cellulosilyticus_DSM_14838_4 at 0x7f9d02012f50>,\n",
       " <Reaction EX_acgam_e_Bacteroides_cellulosilyticus_DSM_14838_5 at 0x7f9d01e02490>,\n",
       " <Reaction EX_acgam_e_Bacteroides_cellulosilyticus_DSM_14838_6 at 0x7f9d01bed9d0>]"
      ]
     },
     "execution_count": 17,
     "metadata": {},
     "output_type": "execute_result"
    }
   ],
   "source": [
    "locater.model.reactions.query('acgam')"
   ]
  },
  {
   "cell_type": "code",
   "execution_count": 18,
   "metadata": {
    "collapsed": true
   },
   "outputs": [],
   "source": [
    "from cobra.solvers import gurobi_solver\n",
    "\n",
    "model = gurobi_solver.create_problem(locater.model)"
   ]
  },
  {
   "cell_type": "code",
   "execution_count": 19,
   "metadata": {
    "collapsed": false
   },
   "outputs": [
    {
     "name": "stdout",
     "output_type": "stream",
     "text": [
      "Changed value of parameter OutputFlag to 1\n",
      "   Prev: 0  Min: 0  Max: 1  Default: 1\n",
      "Optimize a model with 15197 rows, 17682 columns and 73199 nonzeros\n",
      "Coefficient statistics:\n",
      "  Matrix range     [8e-03, 2e+05]\n",
      "  Objective range  [1e+00, 1e+00]\n",
      "  Bounds range     [7e-08, 1e+03]\n",
      "  RHS range        [0e+00, 0e+00]\n",
      "Presolve removed 12418 rows and 12544 columns\n",
      "Presolve time: 0.10s\n",
      "Presolved: 2779 rows, 5138 columns, 27713 nonzeros\n",
      "\n",
      "Iteration    Objective       Primal Inf.    Dual Inf.      Time\n",
      "       0    9.7512848e+02   2.299443e+05   6.083000e+09      0s\n",
      "Extra 11 simplex iterations after uncrush\n",
      "    5296    6.0496119e+00   0.000000e+00   0.000000e+00      0s\n",
      "\n",
      "Solved in 5296 iterations and 0.32 seconds\n",
      "Optimal objective  6.049611890e+00\n"
     ]
    }
   ],
   "source": [
    "model.Params.OutputFlag = 1\n",
    "model.ModelSense == GRB.MAXIMIZE\n",
    "model.optimize()"
   ]
  },
  {
   "cell_type": "code",
   "execution_count": 20,
   "metadata": {
    "collapsed": false
   },
   "outputs": [
    {
     "data": {
      "text/plain": [
       "<Solution 6.05 at 0x7f9cffd33650>"
      ]
     },
     "execution_count": 20,
     "metadata": {},
     "output_type": "execute_result"
    }
   ],
   "source": [
    "locater.model.optimize(solver='gurobi')"
   ]
  },
  {
   "cell_type": "code",
   "execution_count": 21,
   "metadata": {
    "collapsed": false
   },
   "outputs": [
    {
     "data": {
      "text/plain": [
       "0"
      ]
     },
     "execution_count": 21,
     "metadata": {},
     "output_type": "execute_result"
    }
   ],
   "source": [
    "ys = [rxn for rxn in locater.model.reactions if rxn.variable_kind=='integer']\n",
    "len(ys)"
   ]
  },
  {
   "cell_type": "code",
   "execution_count": 28,
   "metadata": {
    "collapsed": false
   },
   "outputs": [
    {
     "data": {
      "text/plain": [
       "{'_Bacteroides_caccae_ATCC_43185_0': <ObservedModel Bacteroides_caccae_ATCC_43185 at 0x7f9d03b36690>,\n",
       " '_Bacteroides_caccae_ATCC_43185_1': <ObservedModel Bacteroides_caccae_ATCC_43185 at 0x7f9d03fe3e50>,\n",
       " '_Bacteroides_caccae_ATCC_43185_2': <ObservedModel Bacteroides_caccae_ATCC_43185 at 0x7f9d03325ad0>,\n",
       " '_Bacteroides_caccae_ATCC_43185_3': <ObservedModel Bacteroides_caccae_ATCC_43185 at 0x7f9d08b72710>,\n",
       " '_Bacteroides_caccae_ATCC_43185_4': <ObservedModel Bacteroides_caccae_ATCC_43185 at 0x7f9d040877d0>,\n",
       " '_Bacteroides_caccae_ATCC_43185_5': <ObservedModel Bacteroides_caccae_ATCC_43185 at 0x7f9d02da4650>,\n",
       " '_Bacteroides_caccae_ATCC_43185_6': <ObservedModel Bacteroides_caccae_ATCC_43185 at 0x7f9d02b71ad0>,\n",
       " '_Bacteroides_cellulosilyticus_DSM_14838_0': <ObservedModel Bacteroides_cellulosilyticus_DSM_14838 at 0x7f9d029c0f50>,\n",
       " '_Bacteroides_cellulosilyticus_DSM_14838_1': <ObservedModel Bacteroides_cellulosilyticus_DSM_14838 at 0x7f9d02821410>,\n",
       " '_Bacteroides_cellulosilyticus_DSM_14838_2': <ObservedModel Bacteroides_cellulosilyticus_DSM_14838 at 0x7f9d0261a950>,\n",
       " '_Bacteroides_cellulosilyticus_DSM_14838_3': <ObservedModel Bacteroides_cellulosilyticus_DSM_14838 at 0x7f9d02401e90>,\n",
       " '_Bacteroides_cellulosilyticus_DSM_14838_4': <ObservedModel Bacteroides_cellulosilyticus_DSM_14838 at 0x7f9d021f9410>,\n",
       " '_Bacteroides_cellulosilyticus_DSM_14838_5': <ObservedModel Bacteroides_cellulosilyticus_DSM_14838 at 0x7f9d01e48dd0>,\n",
       " '_Bacteroides_cellulosilyticus_DSM_14838_6': <ObservedModel Bacteroides_cellulosilyticus_DSM_14838 at 0x7f9d01e48e50>}"
      ]
     },
     "execution_count": 28,
     "metadata": {},
     "output_type": "execute_result"
    }
   ],
   "source": [
    "locater.model_dict"
   ]
  },
  {
   "cell_type": "code",
   "execution_count": 27,
   "metadata": {
    "collapsed": false
   },
   "outputs": [
    {
     "ename": "KeyError",
     "evalue": "'Bacteroides_caccae_ATCC_43185'",
     "output_type": "error",
     "traceback": [
      "\u001b[0;31m\u001b[0m",
      "\u001b[0;31mKeyError\u001b[0mTraceback (most recent call last)",
      "\u001b[0;32m<ipython-input-27-4cb56e3ebcc5>\u001b[0m in \u001b[0;36m<module>\u001b[0;34m()\u001b[0m\n\u001b[0;32m----> 1\u001b[0;31m \u001b[0mlocater\u001b[0m\u001b[0;34m.\u001b[0m\u001b[0mcreate_problem\u001b[0m\u001b[0;34m(\u001b[0m\u001b[0;34m)\u001b[0m\u001b[0;34m\u001b[0m\u001b[0m\n\u001b[0m",
      "\u001b[0;32m/home/laurence/python_modules/dynamicme.git/dynamicme/location.py\u001b[0m in \u001b[0;36mcreate_problem\u001b[0;34m(self)\u001b[0m\n\u001b[1;32m     98\u001b[0m             \u001b[0mj0\u001b[0m     \u001b[0;34m=\u001b[0m \u001b[0mrow\u001b[0m\u001b[0;34m[\u001b[0m\u001b[0;34m'j0'\u001b[0m\u001b[0;34m]\u001b[0m\u001b[0;34m\u001b[0m\u001b[0m\n\u001b[1;32m     99\u001b[0m             \u001b[0mmu_id\u001b[0m  \u001b[0;34m=\u001b[0m \u001b[0mrow\u001b[0m\u001b[0;34m[\u001b[0m\u001b[0;34m'biomass'\u001b[0m\u001b[0;34m]\u001b[0m\u001b[0;34m\u001b[0m\u001b[0m\n\u001b[0;32m--> 100\u001b[0;31m             \u001b[0mmdl\u001b[0m    \u001b[0;34m=\u001b[0m \u001b[0mmodel_dict\u001b[0m\u001b[0;34m[\u001b[0m\u001b[0mmdl_id\u001b[0m\u001b[0;34m]\u001b[0m\u001b[0;34m\u001b[0m\u001b[0m\n\u001b[0m\u001b[1;32m    101\u001b[0m             \u001b[0mrxn_mu\u001b[0m \u001b[0;34m=\u001b[0m \u001b[0mmdl\u001b[0m\u001b[0;34m.\u001b[0m\u001b[0mreactions\u001b[0m\u001b[0;34m.\u001b[0m\u001b[0mget_by_id\u001b[0m\u001b[0;34m(\u001b[0m\u001b[0mmu_id\u001b[0m\u001b[0;34m)\u001b[0m\u001b[0;34m\u001b[0m\u001b[0m\n\u001b[1;32m    102\u001b[0m \u001b[0;34m\u001b[0m\u001b[0m\n",
      "\u001b[0;31mKeyError\u001b[0m: 'Bacteroides_caccae_ATCC_43185'"
     ]
    }
   ],
   "source": [
    "locater.create_problem()"
   ]
  },
  {
   "cell_type": "markdown",
   "metadata": {},
   "source": [
    "# Plot results"
   ]
  },
  {
   "cell_type": "code",
   "execution_count": 22,
   "metadata": {
    "collapsed": false
   },
   "outputs": [],
   "source": [
    "plot_dict = {\n",
    "    'x':[0,2,0, 1,2,1, 0,1,2],\n",
    "    'y':[1,1,0, 0,0,1, 2,2,2],\n",
    "    'type':['cellb','acgal','org', 'org','org','org', 'org','org','org'],\n",
    "    'density':[2,2,1, 1,1,1, 1,1,1]\n",
    "}\n",
    "dsplot = pd.DataFrame.from_dict(plot_dict)"
   ]
  },
  {
   "cell_type": "code",
   "execution_count": 23,
   "metadata": {
    "collapsed": false
   },
   "outputs": [
    {
     "data": {
      "text/plain": [
       "<matplotlib.image.AxesImage at 0x7f9cff902390>"
      ]
     },
     "execution_count": 23,
     "metadata": {},
     "output_type": "execute_result"
    },
    {
     "data": {
      "image/png": "[encoded data removed]",
      "text/plain": [
       "<matplotlib.figure.Figure at 0x7f9cff931710>"
      ]
     },
     "metadata": {},
     "output_type": "display_data"
    }
   ],
   "source": [
    "from dynamicme.location import CommunityPlotter\n",
    "plotter = CommunityPlotter()\n",
    "plotter.plot(dsplot, zcol='density', points=True)"
   ]
  },
  {
   "cell_type": "markdown",
   "metadata": {},
   "source": [
    "from scipy import interpolate\n",
    "\n",
    "x = dsplot.x\n",
    "y = dsplot.y\n",
    "z = dsplot.density\n",
    "xx = np.linspace(x.min(), x.max(), 100)\n",
    "yy = np.linspace(y.min(), y.max(), 100)\n",
    "X,Y = np.meshgrid(xx,yy)\n",
    "rbf = interpolate.Rbf(x,y,z, function='linear')\n",
    "Z = rbf(X,Y)\n",
    "\n",
    "ax = plt.imshow(Z, vmin=z.min(), vmax=z.max(), origin='lower',\n",
    "          extent=[x.min(), x.max(), y.min(), y.max()])\n",
    "plt.scatter(x, y, c=z, edgecolors='#000000')\n",
    "plt.colorbar()"
   ]
  },
  {
   "cell_type": "markdown",
   "metadata": {
    "collapsed": false,
    "deletable": true,
    "editable": true
   },
   "source": [
    "for rxn in B_cell.reactions.query('EX_'):\n",
    "    if rxn.x < -1e-3:\n",
    "        print('%s:\\t %s <= %s <= %s' % (rxn.id, rxn.lower_bound, rxn.x, rxn.upper_bound))"
   ]
  }
 ],
 "metadata": {
  "kernelspec": {
   "display_name": "Python 2",
   "language": "python",
   "name": "python2"
  },
  "language_info": {
   "codemirror_mode": {
    "name": "ipython",
    "version": 2
   },
   "file_extension": ".py",
   "mimetype": "text/x-python",
   "name": "python",
   "nbconvert_exporter": "python",
   "pygments_lexer": "ipython2",
   "version": "2.7.14"
  }
 },
 "nbformat": 4,
 "nbformat_minor": 2
}
